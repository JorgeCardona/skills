{
 "cells": [
  {
   "cell_type": "markdown",
   "metadata": {},
   "source": [
    "# <center>**BIG DATA**</center>\n",
    "## Es una Tecnología que se usa, cuando es necesario procesar un volumen de información tan grande, que se vuelve inviable de procesar en una sola máquina.\n",
    "## * Se Útiliza un **componente Tecnologíco como Hadoop y Spark para este procesamiento**.\n",
    "## * Se apoya en un **componente de data y Analytics con algoritmos de Aprendizaje Supervisado y Aprendizaje no supervisado**.\n",
    "## * **Aplicable a multiples casos de uso.**\n",
    "\n",
    "<div style=\"text-align:center\">\n",
    "    <img src=\"esquema_Data_y_analytics.png\">\n",
    "</div>"
   ]
  },
  {
   "cell_type": "markdown",
   "metadata": {},
   "source": [
    "# <center>**TIPOS DE PROCESAMIENTO**</center>\n",
    "<div style=\"text-align:center\">\n",
    "    <img src=\"tiempos-procesamiento.png\">\n",
    "</div>"
   ]
  },
  {
   "cell_type": "markdown",
   "metadata": {},
   "source": [
    "# <center>**TIPOS DE ALMACENAMIENTO**</center>\n",
    "\n",
    "<div style=\"text-align:center\">\n",
    "    <img src=\"manejo_de_datos_v2.png\">\n",
    "</div>"
   ]
  },
  {
   "cell_type": "markdown",
   "metadata": {
    "tags": []
   },
   "source": [
    "# <center> **CICLO DE LOS DATOS** </center>\n",
    "\n",
    "<div style=\"text-align:center\">\n",
    "    <img src=\"ciclo-datos.png\">\n",
    "</div>"
   ]
  },
  {
   "cell_type": "markdown",
   "metadata": {},
   "source": [
    "# <center> ACID VS TEOREMA DE CAP VS BASE</center>\n",
    "<div style=\"text-align:center\">\n",
    "    <img src=\"acid-cap-base.png\">\n",
    "</div>"
   ]
  },
  {
   "cell_type": "markdown",
   "metadata": {},
   "source": [
    "# <center> CARACTERISTICAS BASES DE DATOS</center>\n",
    "<div style=\"text-align:center\">\n",
    "    <img src=\"bases-de-datos-comparativa.png\">\n",
    "</div>"
   ]
  },
  {
   "cell_type": "markdown",
   "metadata": {},
   "source": [
    "# <center> **INDEXING vs PARTITIONING vs SHARDING** </center>\n",
    "\n",
    "<div style=\"text-align:center\">\n",
    "    <img src=\"sharding.png\">\n",
    "</div>"
   ]
  }
 ],
 "metadata": {
  "colab": {
   "collapsed_sections": [],
   "name": "Hadoop-MapReduce.ipynb",
   "provenance": []
  },
  "kernelspec": {
   "display_name": "Python 3 (ipykernel)",
   "language": "python",
   "name": "python3"
  },
  "language_info": {
   "codemirror_mode": {
    "name": "ipython",
    "version": 3
   },
   "file_extension": ".py",
   "mimetype": "text/x-python",
   "name": "python",
   "nbconvert_exporter": "python",
   "pygments_lexer": "ipython3",
   "version": "3.10.5"
  }
 },
 "nbformat": 4,
 "nbformat_minor": 4
}
