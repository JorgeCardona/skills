{
 "cells": [
  {
   "cell_type": "markdown",
   "metadata": {},
   "source": [
    "# <center> COMPONENTES HADOOP\n",
    "<img src=\"HadoopStack.png\">"
   ]
  },
  {
   "cell_type": "markdown",
   "metadata": {},
   "source": []
  },
  {
   "cell_type": "markdown",
   "metadata": {},
   "source": [
    "# <center> HADOOP COMMONS"
   ]
  },
  {
   "cell_type": "code",
   "execution_count": null,
   "metadata": {},
   "outputs": [],
   "source": []
  },
  {
   "cell_type": "markdown",
   "metadata": {},
   "source": [
    "# <center> YARN"
   ]
  },
  {
   "cell_type": "code",
   "execution_count": null,
   "metadata": {},
   "outputs": [],
   "source": []
  },
  {
   "cell_type": "markdown",
   "metadata": {},
   "source": [
    "# <center> HDFS"
   ]
  },
  {
   "cell_type": "code",
   "execution_count": null,
   "metadata": {},
   "outputs": [],
   "source": []
  },
  {
   "cell_type": "markdown",
   "metadata": {},
   "source": [
    "# <center>FASES DEL PARADIGMA **MAP-REDUCE**\n",
    "<img src=\"MapReduce-fases.png\">"
   ]
  },
  {
   "cell_type": "markdown",
   "metadata": {},
   "source": [
    "# <center> DEFINE LOS DATOS CON QUE SE VA A GENERAR LA INFORMACION DE ENTRADA"
   ]
  },
  {
   "cell_type": "code",
   "execution_count": 2,
   "metadata": {
    "id": "uYZHdogp2r8I"
   },
   "outputs": [
    {
     "data": {
      "text/plain": [
       "['CERO',\n",
       " 'UNO',\n",
       " 'DOS',\n",
       " 'TRES',\n",
       " 'CUATRO',\n",
       " 'CINCO',\n",
       " 'SEIS',\n",
       " 'SIETE',\n",
       " 'OCHO',\n",
       " 'NUEVE',\n",
       " 'DIEZ']"
      ]
     },
     "execution_count": 2,
     "metadata": {},
     "output_type": "execute_result"
    }
   ],
   "source": [
    "import random\n",
    "valores = ['CERO','UNO','DOS','TRES','CUATRO','CINCO','SEIS','SIETE','OCHO','NUEVE','DIEZ','ZERO','ONE','TWO','THREE','FOUR','FIVE','SIX','SEVEN','EIGHT','NINE','TEN']\n",
    "valores = ['CERO','UNO','DOS','TRES','CUATRO','CINCO','SEIS','SIETE','OCHO','NUEVE','DIEZ']\n",
    "\n",
    "caracter_separador = ' @'\n",
    "valores"
   ]
  },
  {
   "cell_type": "markdown",
   "metadata": {},
   "source": [
    "# <center> GENERA LOS DATOS A PROCESAR **INPUT**\n",
    "<img src=\"MapReduce-fases.png\">"
   ]
  },
  {
   "cell_type": "code",
   "execution_count": 3,
   "metadata": {
    "colab": {
     "base_uri": "https://localhost:8080/",
     "height": 105
    },
    "id": "NT1Asq641kvM",
    "outputId": "4949f02d-e5fe-45b6-be49-6a6ab38e948c",
    "scrolled": true,
    "tags": []
   },
   "outputs": [
    {
     "data": {
      "text/plain": [
       "'DIEZ UNO CINCO CERO @SIETE OCHO DOS OCHO DIEZ TRES NUEVE CERO DOS @CUATRO DIEZ UNO DOS SEIS CERO OCHO TRES OCHO UNO @UNO NUEVE SIETE SIETE SIETE NUEVE SIETE CERO CUATRO TRES @CUATRO DIEZ @CUATRO CUATRO SEIS SIETE OCHO @TRES SIETE UNO CUATRO TRES CERO CINCO @CERO CINCO TRES CINCO UNO SIETE @OCHO NUEVE DOS NUEVE OCHO DIEZ SEIS OCHO CERO @OCHO DIEZ TRES SIETE SIETE OCHO NUEVE @CERO NUEVE @SIETE SIETE CUATRO CERO TRES CERO @SEIS UNO CERO @SEIS NUEVE TRES OCHO DIEZ SIETE DOS SEIS SEIS @CUATRO OCHO UNO CINCO OCHO @CUATRO UNO NUEVE SEIS DIEZ NUEVE NUEVE CERO @OCHO UNO DOS TRES OCHO CUATRO DIEZ CINCO @CERO UNO DOS DOS SIETE CINCO DOS OCHO CERO @UNO CERO NUEVE SEIS TRES SIETE UNO UNO @NUEVE TRES CERO CERO OCHO @CINCO SIETE SIETE CERO SIETE CERO @TRES DIEZ CINCO OCHO SEIS CUATRO DOS CUATRO DOS @SIETE SIETE CERO OCHO NUEVE DOS CUATRO NUEVE DOS @UNO DIEZ TRES @TRES CUATRO TRES CINCO SEIS OCHO SIETE CUATRO DIEZ SIETE @CINCO CERO DOS NUEVE SEIS DIEZ DOS @CUATRO CINCO SEIS DOS DIEZ CERO SEIS @UNO CERO NUEVE NUEVE TRES NUEVE @DIEZ CERO OCHO UNO DOS CERO @TRES TRES NUEVE NUEVE TRES @DOS CERO TRES DIEZ @SIETE DIEZ CERO NUEVE TRES DOS OCHO TRES CUATRO @DOS UNO SIETE DIEZ DOS CINCO SIETE DOS NUEVE CINCO @OCHO CINCO DIEZ NUEVE DIEZ CERO @CINCO CERO CUATRO UNO SEIS DOS CERO @CINCO CERO CUATRO DOS DIEZ NUEVE SEIS TRES DOS CINCO @SEIS DOS UNO @DOS TRES CINCO NUEVE SIETE SEIS NUEVE CERO @SEIS SEIS @NUEVE UNO UNO TRES UNO CERO SEIS CINCO CUATRO SEIS @UNO CERO CINCO DIEZ DIEZ @DIEZ DOS DOS UNO DIEZ UNO DIEZ OCHO CERO @DIEZ OCHO OCHO SEIS DOS DIEZ DOS CERO CUATRO SIETE @DOS DIEZ UNO @CUATRO SEIS DOS OCHO CERO CUATRO TRES DIEZ CINCO @CUATRO DIEZ OCHO SIETE DIEZ TRES @SEIS DOS SEIS CINCO CERO CUATRO SIETE @CINCO NUEVE @SEIS CINCO CINCO CERO DOS @CERO TRES SIETE CERO OCHO SIETE TRES @SEIS UNO CUATRO @DIEZ DOS DOS NUEVE CERO DOS UNO CUATRO TRES @CUATRO CINCO CINCO SIETE SEIS @OCHO SEIS SEIS CINCO @TRES DIEZ CUATRO UNO NUEVE CERO SIETE OCHO @CINCO OCHO NUEVE SIETE SEIS CERO CERO @OCHO DIEZ CUATRO UNO SEIS @SEIS CERO OCHO TRES UNO CUATRO DIEZ TRES CINCO SEIS @CUATRO TRES SIETE DIEZ CUATRO NUEVE NUEVE @DIEZ CUATRO CERO UNO TRES TRES OCHO SEIS DIEZ SEIS @DIEZ SEIS OCHO @TRES DOS OCHO SEIS OCHO SIETE UNO UNO @OCHO UNO UNO UNO NUEVE CUATRO OCHO CERO SIETE OCHO @CINCO CINCO OCHO SEIS SEIS CINCO @OCHO CINCO CUATRO DOS @TRES DIEZ SEIS CINCO CINCO SEIS SEIS SEIS CERO @TRES TRES SIETE NUEVE TRES OCHO @SIETE DOS SIETE CINCO @DOS DIEZ NUEVE @SIETE CINCO CERO @DIEZ SIETE @CERO CERO SIETE NUEVE DIEZ @DIEZ SEIS CERO @CERO DOS CERO CERO CUATRO DOS @DOS CINCO NUEVE SEIS CINCO CUATRO DIEZ TRES SIETE NUEVE @DOS DOS TRES DOS DOS UNO @SEIS DIEZ CUATRO CERO DOS DOS @CUATRO SIETE NUEVE DOS @CINCO CINCO UNO CERO SEIS DIEZ DOS CINCO DIEZ @CUATRO SIETE DIEZ NUEVE TRES CUATRO DOS @CINCO CINCO CINCO @CINCO DOS DIEZ DIEZ SEIS CUATRO DOS @CUATRO CUATRO DIEZ SIETE SIETE NUEVE CUATRO NUEVE SIETE @CINCO SEIS SIETE SIETE @SIETE CERO NUEVE CERO NUEVE CERO SEIS NUEVE SIETE @UNO SEIS UNO TRES DIEZ NUEVE OCHO DIEZ @CUATRO SEIS DOS CINCO CINCO SEIS CUATRO SIETE OCHO @DOS DIEZ @CUATRO CERO CINCO NUEVE DOS CINCO UNO SIETE @CUATRO TRES @DIEZ SIETE @CERO SIETE OCHO SEIS SEIS TRES CUATRO OCHO CINCO @NUEVE DOS CINCO CUATRO OCHO TRES @DOS NUEVE @CUATRO SEIS CUATRO DIEZ CERO CINCO DIEZ DOS @CUATRO TRES CERO CINCO CUATRO @SEIS CUATRO CERO UNO SEIS @UNO NUEVE SIETE DIEZ SEIS @NUEVE OCHO SIETE UNO NUEVE DOS DOS CINCO DIEZ @SIETE OCHO @'"
      ]
     },
     "execution_count": 3,
     "metadata": {},
     "output_type": "execute_result"
    }
   ],
   "source": [
    "# retorna una lista con valores\n",
    "def generar_valores(limite_inferior:int = 2, limite_superior:int = 10,caracter_separador:str = caracter_separador) -> list:\n",
    "    return [random.choice(valores) for valor in range(random.randint(limite_inferior, limite_superior))]\n",
    "\n",
    "# retorna una cadena de valores con la informacion a particionar\n",
    "def generar_archivo_de_datos(lista_valores_entrada:list, cantidad_de_muestras:int = 100)-> str:\n",
    "\n",
    "  # recupera cada lista generada la convierte a cadena y le adiciona un caracter para usarlo como separador\n",
    "  texto = [' '.join(generar_valores()) + caracter_separador for limite_listas in range(cantidad_de_muestras)]\n",
    "\n",
    "  # une el contenido de las listas en una sola cadena\n",
    "  return ''.join(texto)\n",
    "\n",
    "archivo_de_datos = generar_archivo_de_datos(generar_valores())\n",
    "archivo_de_datos"
   ]
  },
  {
   "cell_type": "markdown",
   "metadata": {},
   "source": [
    "# <center> DIVIDE LOS DATOS A PROCESAR BASADO EN EL CARACTER SEPARADOR **@** **SPLITTING**\n",
    "<img src=\"MapReduce-fases.png\">"
   ]
  },
  {
   "cell_type": "code",
   "execution_count": 4,
   "metadata": {
    "colab": {
     "base_uri": "https://localhost:8080/"
    },
    "id": "YaTXah2Z7gc1",
    "outputId": "60962140-2e94-406c-d89b-b2afeee9984d",
    "scrolled": true,
    "tags": []
   },
   "outputs": [
    {
     "data": {
      "text/plain": [
       "['DIEZ UNO CINCO CERO',\n",
       " 'SIETE OCHO DOS OCHO DIEZ TRES NUEVE CERO DOS',\n",
       " 'CUATRO DIEZ UNO DOS SEIS CERO OCHO TRES OCHO UNO',\n",
       " 'UNO NUEVE SIETE SIETE SIETE NUEVE SIETE CERO CUATRO TRES',\n",
       " 'CUATRO DIEZ',\n",
       " 'CUATRO CUATRO SEIS SIETE OCHO',\n",
       " 'TRES SIETE UNO CUATRO TRES CERO CINCO',\n",
       " 'CERO CINCO TRES CINCO UNO SIETE',\n",
       " 'OCHO NUEVE DOS NUEVE OCHO DIEZ SEIS OCHO CERO',\n",
       " 'OCHO DIEZ TRES SIETE SIETE OCHO NUEVE',\n",
       " 'CERO NUEVE',\n",
       " 'SIETE SIETE CUATRO CERO TRES CERO',\n",
       " 'SEIS UNO CERO',\n",
       " 'SEIS NUEVE TRES OCHO DIEZ SIETE DOS SEIS SEIS',\n",
       " 'CUATRO OCHO UNO CINCO OCHO',\n",
       " 'CUATRO UNO NUEVE SEIS DIEZ NUEVE NUEVE CERO',\n",
       " 'OCHO UNO DOS TRES OCHO CUATRO DIEZ CINCO',\n",
       " 'CERO UNO DOS DOS SIETE CINCO DOS OCHO CERO',\n",
       " 'UNO CERO NUEVE SEIS TRES SIETE UNO UNO',\n",
       " 'NUEVE TRES CERO CERO OCHO',\n",
       " 'CINCO SIETE SIETE CERO SIETE CERO',\n",
       " 'TRES DIEZ CINCO OCHO SEIS CUATRO DOS CUATRO DOS',\n",
       " 'SIETE SIETE CERO OCHO NUEVE DOS CUATRO NUEVE DOS',\n",
       " 'UNO DIEZ TRES',\n",
       " 'TRES CUATRO TRES CINCO SEIS OCHO SIETE CUATRO DIEZ SIETE',\n",
       " 'CINCO CERO DOS NUEVE SEIS DIEZ DOS',\n",
       " 'CUATRO CINCO SEIS DOS DIEZ CERO SEIS',\n",
       " 'UNO CERO NUEVE NUEVE TRES NUEVE',\n",
       " 'DIEZ CERO OCHO UNO DOS CERO',\n",
       " 'TRES TRES NUEVE NUEVE TRES',\n",
       " 'DOS CERO TRES DIEZ',\n",
       " 'SIETE DIEZ CERO NUEVE TRES DOS OCHO TRES CUATRO',\n",
       " 'DOS UNO SIETE DIEZ DOS CINCO SIETE DOS NUEVE CINCO',\n",
       " 'OCHO CINCO DIEZ NUEVE DIEZ CERO',\n",
       " 'CINCO CERO CUATRO UNO SEIS DOS CERO',\n",
       " 'CINCO CERO CUATRO DOS DIEZ NUEVE SEIS TRES DOS CINCO',\n",
       " 'SEIS DOS UNO',\n",
       " 'DOS TRES CINCO NUEVE SIETE SEIS NUEVE CERO',\n",
       " 'SEIS SEIS',\n",
       " 'NUEVE UNO UNO TRES UNO CERO SEIS CINCO CUATRO SEIS',\n",
       " 'UNO CERO CINCO DIEZ DIEZ',\n",
       " 'DIEZ DOS DOS UNO DIEZ UNO DIEZ OCHO CERO',\n",
       " 'DIEZ OCHO OCHO SEIS DOS DIEZ DOS CERO CUATRO SIETE',\n",
       " 'DOS DIEZ UNO',\n",
       " 'CUATRO SEIS DOS OCHO CERO CUATRO TRES DIEZ CINCO',\n",
       " 'CUATRO DIEZ OCHO SIETE DIEZ TRES',\n",
       " 'SEIS DOS SEIS CINCO CERO CUATRO SIETE',\n",
       " 'CINCO NUEVE',\n",
       " 'SEIS CINCO CINCO CERO DOS',\n",
       " 'CERO TRES SIETE CERO OCHO SIETE TRES',\n",
       " 'SEIS UNO CUATRO',\n",
       " 'DIEZ DOS DOS NUEVE CERO DOS UNO CUATRO TRES',\n",
       " 'CUATRO CINCO CINCO SIETE SEIS',\n",
       " 'OCHO SEIS SEIS CINCO',\n",
       " 'TRES DIEZ CUATRO UNO NUEVE CERO SIETE OCHO',\n",
       " 'CINCO OCHO NUEVE SIETE SEIS CERO CERO',\n",
       " 'OCHO DIEZ CUATRO UNO SEIS',\n",
       " 'SEIS CERO OCHO TRES UNO CUATRO DIEZ TRES CINCO SEIS',\n",
       " 'CUATRO TRES SIETE DIEZ CUATRO NUEVE NUEVE',\n",
       " 'DIEZ CUATRO CERO UNO TRES TRES OCHO SEIS DIEZ SEIS',\n",
       " 'DIEZ SEIS OCHO',\n",
       " 'TRES DOS OCHO SEIS OCHO SIETE UNO UNO',\n",
       " 'OCHO UNO UNO UNO NUEVE CUATRO OCHO CERO SIETE OCHO',\n",
       " 'CINCO CINCO OCHO SEIS SEIS CINCO',\n",
       " 'OCHO CINCO CUATRO DOS',\n",
       " 'TRES DIEZ SEIS CINCO CINCO SEIS SEIS SEIS CERO',\n",
       " 'TRES TRES SIETE NUEVE TRES OCHO',\n",
       " 'SIETE DOS SIETE CINCO',\n",
       " 'DOS DIEZ NUEVE',\n",
       " 'SIETE CINCO CERO',\n",
       " 'DIEZ SIETE',\n",
       " 'CERO CERO SIETE NUEVE DIEZ',\n",
       " 'DIEZ SEIS CERO',\n",
       " 'CERO DOS CERO CERO CUATRO DOS',\n",
       " 'DOS CINCO NUEVE SEIS CINCO CUATRO DIEZ TRES SIETE NUEVE',\n",
       " 'DOS DOS TRES DOS DOS UNO',\n",
       " 'SEIS DIEZ CUATRO CERO DOS DOS',\n",
       " 'CUATRO SIETE NUEVE DOS',\n",
       " 'CINCO CINCO UNO CERO SEIS DIEZ DOS CINCO DIEZ',\n",
       " 'CUATRO SIETE DIEZ NUEVE TRES CUATRO DOS',\n",
       " 'CINCO CINCO CINCO',\n",
       " 'CINCO DOS DIEZ DIEZ SEIS CUATRO DOS',\n",
       " 'CUATRO CUATRO DIEZ SIETE SIETE NUEVE CUATRO NUEVE SIETE',\n",
       " 'CINCO SEIS SIETE SIETE',\n",
       " 'SIETE CERO NUEVE CERO NUEVE CERO SEIS NUEVE SIETE',\n",
       " 'UNO SEIS UNO TRES DIEZ NUEVE OCHO DIEZ',\n",
       " 'CUATRO SEIS DOS CINCO CINCO SEIS CUATRO SIETE OCHO',\n",
       " 'DOS DIEZ',\n",
       " 'CUATRO CERO CINCO NUEVE DOS CINCO UNO SIETE',\n",
       " 'CUATRO TRES',\n",
       " 'DIEZ SIETE',\n",
       " 'CERO SIETE OCHO SEIS SEIS TRES CUATRO OCHO CINCO',\n",
       " 'NUEVE DOS CINCO CUATRO OCHO TRES',\n",
       " 'DOS NUEVE',\n",
       " 'CUATRO SEIS CUATRO DIEZ CERO CINCO DIEZ DOS',\n",
       " 'CUATRO TRES CERO CINCO CUATRO',\n",
       " 'SEIS CUATRO CERO UNO SEIS',\n",
       " 'UNO NUEVE SIETE DIEZ SEIS',\n",
       " 'NUEVE OCHO SIETE UNO NUEVE DOS DOS CINCO DIEZ',\n",
       " 'SIETE OCHO']"
      ]
     },
     "execution_count": 4,
     "metadata": {},
     "output_type": "execute_result"
    }
   ],
   "source": [
    "# divide el archivo en listas\n",
    "def splitting(arhivo_de_datos) -> list:\n",
    "  # se pone [:-1] para que no genere una cadena vacia al final\n",
    "  return arhivo_de_datos.split(caracter_separador)[:-1]\n",
    "\n",
    "splitting_text = splitting(archivo_de_datos)\n",
    "splitting_text"
   ]
  },
  {
   "cell_type": "markdown",
   "metadata": {},
   "source": [
    "# <center> CREA LA INFORMACION DE LOS REGISTROS DEL **RECORDREADER** PARA QUE SEAN USADOS POR EL **MAPPER**\n",
    "<img src=\"MapReduce-fases.png\">"
   ]
  },
  {
   "cell_type": "code",
   "execution_count": 26,
   "metadata": {
    "scrolled": true,
    "tags": []
   },
   "outputs": [
    {
     "data": {
      "text/plain": [
       "[(0, 'DIEZ UNO CINCO CERO'),\n",
       " (19, 'SIETE OCHO DOS OCHO DIEZ TRES NUEVE CERO DOS'),\n",
       " (63, 'CUATRO DIEZ UNO DOS SEIS CERO OCHO TRES OCHO UNO'),\n",
       " (111, 'UNO NUEVE SIETE SIETE SIETE NUEVE SIETE CERO CUATRO TRES'),\n",
       " (167, 'CUATRO DIEZ'),\n",
       " (178, 'CUATRO CUATRO SEIS SIETE OCHO'),\n",
       " (207, 'TRES SIETE UNO CUATRO TRES CERO CINCO'),\n",
       " (244, 'CERO CINCO TRES CINCO UNO SIETE'),\n",
       " (275, 'OCHO NUEVE DOS NUEVE OCHO DIEZ SEIS OCHO CERO'),\n",
       " (320, 'OCHO DIEZ TRES SIETE SIETE OCHO NUEVE'),\n",
       " (357, 'CERO NUEVE'),\n",
       " (367, 'SIETE SIETE CUATRO CERO TRES CERO'),\n",
       " (400, 'SEIS UNO CERO'),\n",
       " (413, 'SEIS NUEVE TRES OCHO DIEZ SIETE DOS SEIS SEIS'),\n",
       " (458, 'CUATRO OCHO UNO CINCO OCHO'),\n",
       " (484, 'CUATRO UNO NUEVE SEIS DIEZ NUEVE NUEVE CERO'),\n",
       " (527, 'OCHO UNO DOS TRES OCHO CUATRO DIEZ CINCO'),\n",
       " (567, 'CERO UNO DOS DOS SIETE CINCO DOS OCHO CERO'),\n",
       " (609, 'UNO CERO NUEVE SEIS TRES SIETE UNO UNO'),\n",
       " (647, 'NUEVE TRES CERO CERO OCHO'),\n",
       " (672, 'CINCO SIETE SIETE CERO SIETE CERO'),\n",
       " (705, 'TRES DIEZ CINCO OCHO SEIS CUATRO DOS CUATRO DOS'),\n",
       " (752, 'SIETE SIETE CERO OCHO NUEVE DOS CUATRO NUEVE DOS'),\n",
       " (800, 'UNO DIEZ TRES'),\n",
       " (813, 'TRES CUATRO TRES CINCO SEIS OCHO SIETE CUATRO DIEZ SIETE'),\n",
       " (869, 'CINCO CERO DOS NUEVE SEIS DIEZ DOS'),\n",
       " (903, 'CUATRO CINCO SEIS DOS DIEZ CERO SEIS'),\n",
       " (939, 'UNO CERO NUEVE NUEVE TRES NUEVE'),\n",
       " (970, 'DIEZ CERO OCHO UNO DOS CERO'),\n",
       " (997, 'TRES TRES NUEVE NUEVE TRES'),\n",
       " (1023, 'DOS CERO TRES DIEZ'),\n",
       " (1041, 'SIETE DIEZ CERO NUEVE TRES DOS OCHO TRES CUATRO'),\n",
       " (1088, 'DOS UNO SIETE DIEZ DOS CINCO SIETE DOS NUEVE CINCO'),\n",
       " (1138, 'OCHO CINCO DIEZ NUEVE DIEZ CERO'),\n",
       " (1169, 'CINCO CERO CUATRO UNO SEIS DOS CERO'),\n",
       " (1204, 'CINCO CERO CUATRO DOS DIEZ NUEVE SEIS TRES DOS CINCO'),\n",
       " (1256, 'SEIS DOS UNO'),\n",
       " (1268, 'DOS TRES CINCO NUEVE SIETE SEIS NUEVE CERO'),\n",
       " (1310, 'SEIS SEIS'),\n",
       " (1319, 'NUEVE UNO UNO TRES UNO CERO SEIS CINCO CUATRO SEIS'),\n",
       " (1369, 'UNO CERO CINCO DIEZ DIEZ'),\n",
       " (1393, 'DIEZ DOS DOS UNO DIEZ UNO DIEZ OCHO CERO'),\n",
       " (1433, 'DIEZ OCHO OCHO SEIS DOS DIEZ DOS CERO CUATRO SIETE'),\n",
       " (1483, 'DOS DIEZ UNO'),\n",
       " (1495, 'CUATRO SEIS DOS OCHO CERO CUATRO TRES DIEZ CINCO'),\n",
       " (1543, 'CUATRO DIEZ OCHO SIETE DIEZ TRES'),\n",
       " (1575, 'SEIS DOS SEIS CINCO CERO CUATRO SIETE'),\n",
       " (1612, 'CINCO NUEVE'),\n",
       " (1623, 'SEIS CINCO CINCO CERO DOS'),\n",
       " (1648, 'CERO TRES SIETE CERO OCHO SIETE TRES'),\n",
       " (1684, 'SEIS UNO CUATRO'),\n",
       " (1699, 'DIEZ DOS DOS NUEVE CERO DOS UNO CUATRO TRES'),\n",
       " (1742, 'CUATRO CINCO CINCO SIETE SEIS'),\n",
       " (1771, 'OCHO SEIS SEIS CINCO'),\n",
       " (1791, 'TRES DIEZ CUATRO UNO NUEVE CERO SIETE OCHO'),\n",
       " (1833, 'CINCO OCHO NUEVE SIETE SEIS CERO CERO'),\n",
       " (1870, 'OCHO DIEZ CUATRO UNO SEIS'),\n",
       " (1895, 'SEIS CERO OCHO TRES UNO CUATRO DIEZ TRES CINCO SEIS'),\n",
       " (1946, 'CUATRO TRES SIETE DIEZ CUATRO NUEVE NUEVE'),\n",
       " (1987, 'DIEZ CUATRO CERO UNO TRES TRES OCHO SEIS DIEZ SEIS'),\n",
       " (2037, 'DIEZ SEIS OCHO'),\n",
       " (2051, 'TRES DOS OCHO SEIS OCHO SIETE UNO UNO'),\n",
       " (2088, 'OCHO UNO UNO UNO NUEVE CUATRO OCHO CERO SIETE OCHO'),\n",
       " (2138, 'CINCO CINCO OCHO SEIS SEIS CINCO'),\n",
       " (2170, 'OCHO CINCO CUATRO DOS'),\n",
       " (2191, 'TRES DIEZ SEIS CINCO CINCO SEIS SEIS SEIS CERO'),\n",
       " (2237, 'TRES TRES SIETE NUEVE TRES OCHO'),\n",
       " (2268, 'SIETE DOS SIETE CINCO'),\n",
       " (2289, 'DOS DIEZ NUEVE'),\n",
       " (2303, 'SIETE CINCO CERO'),\n",
       " (2319, 'DIEZ SIETE'),\n",
       " (2329, 'CERO CERO SIETE NUEVE DIEZ'),\n",
       " (2355, 'DIEZ SEIS CERO'),\n",
       " (2369, 'CERO DOS CERO CERO CUATRO DOS'),\n",
       " (2398, 'DOS CINCO NUEVE SEIS CINCO CUATRO DIEZ TRES SIETE NUEVE'),\n",
       " (2453, 'DOS DOS TRES DOS DOS UNO'),\n",
       " (2477, 'SEIS DIEZ CUATRO CERO DOS DOS'),\n",
       " (2506, 'CUATRO SIETE NUEVE DOS'),\n",
       " (2528, 'CINCO CINCO UNO CERO SEIS DIEZ DOS CINCO DIEZ'),\n",
       " (2573, 'CUATRO SIETE DIEZ NUEVE TRES CUATRO DOS'),\n",
       " (2612, 'CINCO CINCO CINCO'),\n",
       " (2629, 'CINCO DOS DIEZ DIEZ SEIS CUATRO DOS'),\n",
       " (2664, 'CUATRO CUATRO DIEZ SIETE SIETE NUEVE CUATRO NUEVE SIETE'),\n",
       " (2719, 'CINCO SEIS SIETE SIETE'),\n",
       " (2741, 'SIETE CERO NUEVE CERO NUEVE CERO SEIS NUEVE SIETE'),\n",
       " (2790, 'UNO SEIS UNO TRES DIEZ NUEVE OCHO DIEZ'),\n",
       " (2828, 'CUATRO SEIS DOS CINCO CINCO SEIS CUATRO SIETE OCHO'),\n",
       " (2878, 'DOS DIEZ'),\n",
       " (2886, 'CUATRO CERO CINCO NUEVE DOS CINCO UNO SIETE'),\n",
       " (2929, 'CUATRO TRES'),\n",
       " (2940, 'DIEZ SIETE'),\n",
       " (2950, 'CERO SIETE OCHO SEIS SEIS TRES CUATRO OCHO CINCO'),\n",
       " (2998, 'NUEVE DOS CINCO CUATRO OCHO TRES'),\n",
       " (3030, 'DOS NUEVE'),\n",
       " (3039, 'CUATRO SEIS CUATRO DIEZ CERO CINCO DIEZ DOS'),\n",
       " (3082, 'CUATRO TRES CERO CINCO CUATRO'),\n",
       " (3111, 'SEIS CUATRO CERO UNO SEIS'),\n",
       " (3136, 'UNO NUEVE SIETE DIEZ SEIS'),\n",
       " (3161, 'NUEVE OCHO SIETE UNO NUEVE DOS DOS CINCO DIEZ'),\n",
       " (3206, 'SIETE OCHO')]"
      ]
     },
     "execution_count": 26,
     "metadata": {},
     "output_type": "execute_result"
    }
   ],
   "source": [
    "def record_reader(input_file):\n",
    "    record_file = []\n",
    "    inicio = 0\n",
    "    for record in input_file:\n",
    "        \n",
    "        record_file.append((inicio, record))\n",
    "        inicio += len(record)\n",
    "    \n",
    "    return record_file\n",
    "        \n",
    "record_reader_file = record_reader(splitting_text)\n",
    "record_reader_file"
   ]
  },
  {
   "cell_type": "markdown",
   "metadata": {},
   "source": [
    "# <center> EJECUTA EL CODIGO DE MAPEO DE LOS DATOS **MAPPING**\n",
    "<img src=\"MapReduce-fases.png\">"
   ]
  },
  {
   "cell_type": "code",
   "execution_count": 27,
   "metadata": {
    "colab": {
     "base_uri": "https://localhost:8080/"
    },
    "id": "0mQvjndG7Ran",
    "outputId": "426b7fe5-177a-4e7d-a213-0145ad525d34",
    "scrolled": true,
    "tags": []
   },
   "outputs": [
    {
     "name": "stdout",
     "output_type": "stream",
     "text": [
      "[[{'DIEZ': 1}, {'UNO': 1}, {'CINCO': 1}, {'CERO': 1}], [{'SIETE': 1}, {'OCHO': 1}, {'DOS': 1}, {'OCHO': 1}, {'DIEZ': 1}, {'TRES': 1}, {'NUEVE': 1}, {'CERO': 1}, {'DOS': 1}], [{'CUATRO': 1}, {'DIEZ': 1}, {'UNO': 1}, {'DOS': 1}, {'SEIS': 1}, {'CERO': 1}, {'OCHO': 1}, {'TRES': 1}, {'OCHO': 1}, {'UNO': 1}], [{'UNO': 1}, {'NUEVE': 1}, {'SIETE': 1}, {'SIETE': 1}, {'SIETE': 1}, {'NUEVE': 1}, {'SIETE': 1}, {'CERO': 1}, {'CUATRO': 1}, {'TRES': 1}], [{'CUATRO': 1}, {'DIEZ': 1}], [{'CUATRO': 1}, {'CUATRO': 1}, {'SEIS': 1}, {'SIETE': 1}, {'OCHO': 1}], [{'TRES': 1}, {'SIETE': 1}, {'UNO': 1}, {'CUATRO': 1}, {'TRES': 1}, {'CERO': 1}, {'CINCO': 1}], [{'CERO': 1}, {'CINCO': 1}, {'TRES': 1}, {'CINCO': 1}, {'UNO': 1}, {'SIETE': 1}], [{'OCHO': 1}, {'NUEVE': 1}, {'DOS': 1}, {'NUEVE': 1}, {'OCHO': 1}, {'DIEZ': 1}, {'SEIS': 1}, {'OCHO': 1}, {'CERO': 1}], [{'OCHO': 1}, {'DIEZ': 1}, {'TRES': 1}, {'SIETE': 1}, {'SIETE': 1}, {'OCHO': 1}, {'NUEVE': 1}], [{'CERO': 1}, {'NUEVE': 1}], [{'SIETE': 1}, {'SIETE': 1}, {'CUATRO': 1}, {'CERO': 1}, {'TRES': 1}, {'CERO': 1}], [{'SEIS': 1}, {'UNO': 1}, {'CERO': 1}], [{'SEIS': 1}, {'NUEVE': 1}, {'TRES': 1}, {'OCHO': 1}, {'DIEZ': 1}, {'SIETE': 1}, {'DOS': 1}, {'SEIS': 1}, {'SEIS': 1}], [{'CUATRO': 1}, {'OCHO': 1}, {'UNO': 1}, {'CINCO': 1}, {'OCHO': 1}], [{'CUATRO': 1}, {'UNO': 1}, {'NUEVE': 1}, {'SEIS': 1}, {'DIEZ': 1}, {'NUEVE': 1}, {'NUEVE': 1}, {'CERO': 1}], [{'OCHO': 1}, {'UNO': 1}, {'DOS': 1}, {'TRES': 1}, {'OCHO': 1}, {'CUATRO': 1}, {'DIEZ': 1}, {'CINCO': 1}], [{'CERO': 1}, {'UNO': 1}, {'DOS': 1}, {'DOS': 1}, {'SIETE': 1}, {'CINCO': 1}, {'DOS': 1}, {'OCHO': 1}, {'CERO': 1}], [{'UNO': 1}, {'CERO': 1}, {'NUEVE': 1}, {'SEIS': 1}, {'TRES': 1}, {'SIETE': 1}, {'UNO': 1}, {'UNO': 1}], [{'NUEVE': 1}, {'TRES': 1}, {'CERO': 1}, {'CERO': 1}, {'OCHO': 1}], [{'CINCO': 1}, {'SIETE': 1}, {'SIETE': 1}, {'CERO': 1}, {'SIETE': 1}, {'CERO': 1}], [{'TRES': 1}, {'DIEZ': 1}, {'CINCO': 1}, {'OCHO': 1}, {'SEIS': 1}, {'CUATRO': 1}, {'DOS': 1}, {'CUATRO': 1}, {'DOS': 1}], [{'SIETE': 1}, {'SIETE': 1}, {'CERO': 1}, {'OCHO': 1}, {'NUEVE': 1}, {'DOS': 1}, {'CUATRO': 1}, {'NUEVE': 1}, {'DOS': 1}], [{'UNO': 1}, {'DIEZ': 1}, {'TRES': 1}], [{'TRES': 1}, {'CUATRO': 1}, {'TRES': 1}, {'CINCO': 1}, {'SEIS': 1}, {'OCHO': 1}, {'SIETE': 1}, {'CUATRO': 1}, {'DIEZ': 1}, {'SIETE': 1}], [{'CINCO': 1}, {'CERO': 1}, {'DOS': 1}, {'NUEVE': 1}, {'SEIS': 1}, {'DIEZ': 1}, {'DOS': 1}], [{'CUATRO': 1}, {'CINCO': 1}, {'SEIS': 1}, {'DOS': 1}, {'DIEZ': 1}, {'CERO': 1}, {'SEIS': 1}], [{'UNO': 1}, {'CERO': 1}, {'NUEVE': 1}, {'NUEVE': 1}, {'TRES': 1}, {'NUEVE': 1}], [{'DIEZ': 1}, {'CERO': 1}, {'OCHO': 1}, {'UNO': 1}, {'DOS': 1}, {'CERO': 1}], [{'TRES': 1}, {'TRES': 1}, {'NUEVE': 1}, {'NUEVE': 1}, {'TRES': 1}], [{'DOS': 1}, {'CERO': 1}, {'TRES': 1}, {'DIEZ': 1}], [{'SIETE': 1}, {'DIEZ': 1}, {'CERO': 1}, {'NUEVE': 1}, {'TRES': 1}, {'DOS': 1}, {'OCHO': 1}, {'TRES': 1}, {'CUATRO': 1}], [{'DOS': 1}, {'UNO': 1}, {'SIETE': 1}, {'DIEZ': 1}, {'DOS': 1}, {'CINCO': 1}, {'SIETE': 1}, {'DOS': 1}, {'NUEVE': 1}, {'CINCO': 1}], [{'OCHO': 1}, {'CINCO': 1}, {'DIEZ': 1}, {'NUEVE': 1}, {'DIEZ': 1}, {'CERO': 1}], [{'CINCO': 1}, {'CERO': 1}, {'CUATRO': 1}, {'UNO': 1}, {'SEIS': 1}, {'DOS': 1}, {'CERO': 1}], [{'CINCO': 1}, {'CERO': 1}, {'CUATRO': 1}, {'DOS': 1}, {'DIEZ': 1}, {'NUEVE': 1}, {'SEIS': 1}, {'TRES': 1}, {'DOS': 1}, {'CINCO': 1}], [{'SEIS': 1}, {'DOS': 1}, {'UNO': 1}], [{'DOS': 1}, {'TRES': 1}, {'CINCO': 1}, {'NUEVE': 1}, {'SIETE': 1}, {'SEIS': 1}, {'NUEVE': 1}, {'CERO': 1}], [{'SEIS': 1}, {'SEIS': 1}], [{'NUEVE': 1}, {'UNO': 1}, {'UNO': 1}, {'TRES': 1}, {'UNO': 1}, {'CERO': 1}, {'SEIS': 1}, {'CINCO': 1}, {'CUATRO': 1}, {'SEIS': 1}], [{'UNO': 1}, {'CERO': 1}, {'CINCO': 1}, {'DIEZ': 1}, {'DIEZ': 1}], [{'DIEZ': 1}, {'DOS': 1}, {'DOS': 1}, {'UNO': 1}, {'DIEZ': 1}, {'UNO': 1}, {'DIEZ': 1}, {'OCHO': 1}, {'CERO': 1}], [{'DIEZ': 1}, {'OCHO': 1}, {'OCHO': 1}, {'SEIS': 1}, {'DOS': 1}, {'DIEZ': 1}, {'DOS': 1}, {'CERO': 1}, {'CUATRO': 1}, {'SIETE': 1}], [{'DOS': 1}, {'DIEZ': 1}, {'UNO': 1}], [{'CUATRO': 1}, {'SEIS': 1}, {'DOS': 1}, {'OCHO': 1}, {'CERO': 1}, {'CUATRO': 1}, {'TRES': 1}, {'DIEZ': 1}, {'CINCO': 1}], [{'CUATRO': 1}, {'DIEZ': 1}, {'OCHO': 1}, {'SIETE': 1}, {'DIEZ': 1}, {'TRES': 1}], [{'SEIS': 1}, {'DOS': 1}, {'SEIS': 1}, {'CINCO': 1}, {'CERO': 1}, {'CUATRO': 1}, {'SIETE': 1}], [{'CINCO': 1}, {'NUEVE': 1}], [{'SEIS': 1}, {'CINCO': 1}, {'CINCO': 1}, {'CERO': 1}, {'DOS': 1}], [{'CERO': 1}, {'TRES': 1}, {'SIETE': 1}, {'CERO': 1}, {'OCHO': 1}, {'SIETE': 1}, {'TRES': 1}], [{'SEIS': 1}, {'UNO': 1}, {'CUATRO': 1}], [{'DIEZ': 1}, {'DOS': 1}, {'DOS': 1}, {'NUEVE': 1}, {'CERO': 1}, {'DOS': 1}, {'UNO': 1}, {'CUATRO': 1}, {'TRES': 1}], [{'CUATRO': 1}, {'CINCO': 1}, {'CINCO': 1}, {'SIETE': 1}, {'SEIS': 1}], [{'OCHO': 1}, {'SEIS': 1}, {'SEIS': 1}, {'CINCO': 1}], [{'TRES': 1}, {'DIEZ': 1}, {'CUATRO': 1}, {'UNO': 1}, {'NUEVE': 1}, {'CERO': 1}, {'SIETE': 1}, {'OCHO': 1}], [{'CINCO': 1}, {'OCHO': 1}, {'NUEVE': 1}, {'SIETE': 1}, {'SEIS': 1}, {'CERO': 1}, {'CERO': 1}], [{'OCHO': 1}, {'DIEZ': 1}, {'CUATRO': 1}, {'UNO': 1}, {'SEIS': 1}], [{'SEIS': 1}, {'CERO': 1}, {'OCHO': 1}, {'TRES': 1}, {'UNO': 1}, {'CUATRO': 1}, {'DIEZ': 1}, {'TRES': 1}, {'CINCO': 1}, {'SEIS': 1}], [{'CUATRO': 1}, {'TRES': 1}, {'SIETE': 1}, {'DIEZ': 1}, {'CUATRO': 1}, {'NUEVE': 1}, {'NUEVE': 1}], [{'DIEZ': 1}, {'CUATRO': 1}, {'CERO': 1}, {'UNO': 1}, {'TRES': 1}, {'TRES': 1}, {'OCHO': 1}, {'SEIS': 1}, {'DIEZ': 1}, {'SEIS': 1}], [{'DIEZ': 1}, {'SEIS': 1}, {'OCHO': 1}], [{'TRES': 1}, {'DOS': 1}, {'OCHO': 1}, {'SEIS': 1}, {'OCHO': 1}, {'SIETE': 1}, {'UNO': 1}, {'UNO': 1}], [{'OCHO': 1}, {'UNO': 1}, {'UNO': 1}, {'UNO': 1}, {'NUEVE': 1}, {'CUATRO': 1}, {'OCHO': 1}, {'CERO': 1}, {'SIETE': 1}, {'OCHO': 1}], [{'CINCO': 1}, {'CINCO': 1}, {'OCHO': 1}, {'SEIS': 1}, {'SEIS': 1}, {'CINCO': 1}], [{'OCHO': 1}, {'CINCO': 1}, {'CUATRO': 1}, {'DOS': 1}], [{'TRES': 1}, {'DIEZ': 1}, {'SEIS': 1}, {'CINCO': 1}, {'CINCO': 1}, {'SEIS': 1}, {'SEIS': 1}, {'SEIS': 1}, {'CERO': 1}], [{'TRES': 1}, {'TRES': 1}, {'SIETE': 1}, {'NUEVE': 1}, {'TRES': 1}, {'OCHO': 1}], [{'SIETE': 1}, {'DOS': 1}, {'SIETE': 1}, {'CINCO': 1}], [{'DOS': 1}, {'DIEZ': 1}, {'NUEVE': 1}], [{'SIETE': 1}, {'CINCO': 1}, {'CERO': 1}], [{'DIEZ': 1}, {'SIETE': 1}], [{'CERO': 1}, {'CERO': 1}, {'SIETE': 1}, {'NUEVE': 1}, {'DIEZ': 1}], [{'DIEZ': 1}, {'SEIS': 1}, {'CERO': 1}], [{'CERO': 1}, {'DOS': 1}, {'CERO': 1}, {'CERO': 1}, {'CUATRO': 1}, {'DOS': 1}], [{'DOS': 1}, {'CINCO': 1}, {'NUEVE': 1}, {'SEIS': 1}, {'CINCO': 1}, {'CUATRO': 1}, {'DIEZ': 1}, {'TRES': 1}, {'SIETE': 1}, {'NUEVE': 1}], [{'DOS': 1}, {'DOS': 1}, {'TRES': 1}, {'DOS': 1}, {'DOS': 1}, {'UNO': 1}], [{'SEIS': 1}, {'DIEZ': 1}, {'CUATRO': 1}, {'CERO': 1}, {'DOS': 1}, {'DOS': 1}], [{'CUATRO': 1}, {'SIETE': 1}, {'NUEVE': 1}, {'DOS': 1}], [{'CINCO': 1}, {'CINCO': 1}, {'UNO': 1}, {'CERO': 1}, {'SEIS': 1}, {'DIEZ': 1}, {'DOS': 1}, {'CINCO': 1}, {'DIEZ': 1}], [{'CUATRO': 1}, {'SIETE': 1}, {'DIEZ': 1}, {'NUEVE': 1}, {'TRES': 1}, {'CUATRO': 1}, {'DOS': 1}], [{'CINCO': 1}, {'CINCO': 1}, {'CINCO': 1}], [{'CINCO': 1}, {'DOS': 1}, {'DIEZ': 1}, {'DIEZ': 1}, {'SEIS': 1}, {'CUATRO': 1}, {'DOS': 1}], [{'CUATRO': 1}, {'CUATRO': 1}, {'DIEZ': 1}, {'SIETE': 1}, {'SIETE': 1}, {'NUEVE': 1}, {'CUATRO': 1}, {'NUEVE': 1}, {'SIETE': 1}], [{'CINCO': 1}, {'SEIS': 1}, {'SIETE': 1}, {'SIETE': 1}], [{'SIETE': 1}, {'CERO': 1}, {'NUEVE': 1}, {'CERO': 1}, {'NUEVE': 1}, {'CERO': 1}, {'SEIS': 1}, {'NUEVE': 1}, {'SIETE': 1}], [{'UNO': 1}, {'SEIS': 1}, {'UNO': 1}, {'TRES': 1}, {'DIEZ': 1}, {'NUEVE': 1}, {'OCHO': 1}, {'DIEZ': 1}], [{'CUATRO': 1}, {'SEIS': 1}, {'DOS': 1}, {'CINCO': 1}, {'CINCO': 1}, {'SEIS': 1}, {'CUATRO': 1}, {'SIETE': 1}, {'OCHO': 1}], [{'DOS': 1}, {'DIEZ': 1}], [{'CUATRO': 1}, {'CERO': 1}, {'CINCO': 1}, {'NUEVE': 1}, {'DOS': 1}, {'CINCO': 1}, {'UNO': 1}, {'SIETE': 1}], [{'CUATRO': 1}, {'TRES': 1}], [{'DIEZ': 1}, {'SIETE': 1}], [{'CERO': 1}, {'SIETE': 1}, {'OCHO': 1}, {'SEIS': 1}, {'SEIS': 1}, {'TRES': 1}, {'CUATRO': 1}, {'OCHO': 1}, {'CINCO': 1}], [{'NUEVE': 1}, {'DOS': 1}, {'CINCO': 1}, {'CUATRO': 1}, {'OCHO': 1}, {'TRES': 1}], [{'DOS': 1}, {'NUEVE': 1}], [{'CUATRO': 1}, {'SEIS': 1}, {'CUATRO': 1}, {'DIEZ': 1}, {'CERO': 1}, {'CINCO': 1}, {'DIEZ': 1}, {'DOS': 1}], [{'CUATRO': 1}, {'TRES': 1}, {'CERO': 1}, {'CINCO': 1}, {'CUATRO': 1}], [{'SEIS': 1}, {'CUATRO': 1}, {'CERO': 1}, {'UNO': 1}, {'SEIS': 1}], [{'UNO': 1}, {'NUEVE': 1}, {'SIETE': 1}, {'DIEZ': 1}, {'SEIS': 1}], [{'NUEVE': 1}, {'OCHO': 1}, {'SIETE': 1}, {'UNO': 1}, {'NUEVE': 1}, {'DOS': 1}, {'DOS': 1}, {'CINCO': 1}, {'DIEZ': 1}], [{'SIETE': 1}, {'OCHO': 1}]]\n"
     ]
    }
   ],
   "source": [
    "def lista_a_lista_de_diccionarios(lista):\n",
    "    return [{str(llave):1} for llave in lista]\n",
    "\n",
    "# divide cada palabra 1 a 1 en cada splitting text\n",
    "def mapping(record_reader_file):\n",
    "    mapeo = []\n",
    "    \n",
    "    for record_reader in record_reader_file:\n",
    "        lista_cadena = record_reader[1].split()\n",
    "        mapeo.append(lista_a_lista_de_diccionarios(lista_cadena))\n",
    "        \n",
    "    return mapeo\n",
    "\n",
    "lista_mapping = mapping(record_reader_file)\n",
    "print(lista_mapping)"
   ]
  },
  {
   "cell_type": "markdown",
   "metadata": {},
   "source": [
    "# <center> COMBINA LOS DATOS DE LAS CLAVES DEL MISMO BLOQUE DE MAPEO **COMBINER**\n",
    "<img src=\"MapReduce-fases.png\">"
   ]
  },
  {
   "cell_type": "code",
   "execution_count": 18,
   "metadata": {
    "colab": {
     "base_uri": "https://localhost:8080/"
    },
    "id": "7fymcYSka87T",
    "outputId": "9f86f215-1a9a-4e01-be43-71c27d4ebd58",
    "scrolled": true,
    "tags": []
   },
   "outputs": [
    {
     "name": "stdout",
     "output_type": "stream",
     "text": [
      "[{'DIEZ': 1, 'UNO': 1, 'CINCO': 1, 'CERO': 1}, {'SIETE': 1, 'OCHO': 2, 'DOS': 2, 'DIEZ': 1, 'TRES': 1, 'NUEVE': 1, 'CERO': 1}, {'CUATRO': 1, 'DIEZ': 1, 'UNO': 2, 'DOS': 1, 'SEIS': 1, 'CERO': 1, 'OCHO': 2, 'TRES': 1}, {'UNO': 1, 'NUEVE': 2, 'SIETE': 4, 'CERO': 1, 'CUATRO': 1, 'TRES': 1}, {'CUATRO': 1, 'DIEZ': 1}, {'CUATRO': 2, 'SEIS': 1, 'SIETE': 1, 'OCHO': 1}, {'TRES': 2, 'SIETE': 1, 'UNO': 1, 'CUATRO': 1, 'CERO': 1, 'CINCO': 1}, {'CERO': 1, 'CINCO': 2, 'TRES': 1, 'UNO': 1, 'SIETE': 1}, {'OCHO': 3, 'NUEVE': 2, 'DOS': 1, 'DIEZ': 1, 'SEIS': 1, 'CERO': 1}, {'OCHO': 2, 'DIEZ': 1, 'TRES': 1, 'SIETE': 2, 'NUEVE': 1}, {'CERO': 1, 'NUEVE': 1}, {'SIETE': 2, 'CUATRO': 1, 'CERO': 2, 'TRES': 1}, {'SEIS': 1, 'UNO': 1, 'CERO': 1}, {'SEIS': 3, 'NUEVE': 1, 'TRES': 1, 'OCHO': 1, 'DIEZ': 1, 'SIETE': 1, 'DOS': 1}, {'CUATRO': 1, 'OCHO': 2, 'UNO': 1, 'CINCO': 1}, {'CUATRO': 1, 'UNO': 1, 'NUEVE': 3, 'SEIS': 1, 'DIEZ': 1, 'CERO': 1}, {'OCHO': 2, 'UNO': 1, 'DOS': 1, 'TRES': 1, 'CUATRO': 1, 'DIEZ': 1, 'CINCO': 1}, {'CERO': 2, 'UNO': 1, 'DOS': 3, 'SIETE': 1, 'CINCO': 1, 'OCHO': 1}, {'UNO': 3, 'CERO': 1, 'NUEVE': 1, 'SEIS': 1, 'TRES': 1, 'SIETE': 1}, {'NUEVE': 1, 'TRES': 1, 'CERO': 2, 'OCHO': 1}, {'CINCO': 1, 'SIETE': 3, 'CERO': 2}, {'TRES': 1, 'DIEZ': 1, 'CINCO': 1, 'OCHO': 1, 'SEIS': 1, 'CUATRO': 2, 'DOS': 2}, {'SIETE': 2, 'CERO': 1, 'OCHO': 1, 'NUEVE': 2, 'DOS': 2, 'CUATRO': 1}, {'UNO': 1, 'DIEZ': 1, 'TRES': 1}, {'TRES': 2, 'CUATRO': 2, 'CINCO': 1, 'SEIS': 1, 'OCHO': 1, 'SIETE': 2, 'DIEZ': 1}, {'CINCO': 1, 'CERO': 1, 'DOS': 2, 'NUEVE': 1, 'SEIS': 1, 'DIEZ': 1}, {'CUATRO': 1, 'CINCO': 1, 'SEIS': 2, 'DOS': 1, 'DIEZ': 1, 'CERO': 1}, {'UNO': 1, 'CERO': 1, 'NUEVE': 3, 'TRES': 1}, {'DIEZ': 1, 'CERO': 2, 'OCHO': 1, 'UNO': 1, 'DOS': 1}, {'TRES': 3, 'NUEVE': 2}, {'DOS': 1, 'CERO': 1, 'TRES': 1, 'DIEZ': 1}, {'SIETE': 1, 'DIEZ': 1, 'CERO': 1, 'NUEVE': 1, 'TRES': 2, 'DOS': 1, 'OCHO': 1, 'CUATRO': 1}, {'DOS': 3, 'UNO': 1, 'SIETE': 2, 'DIEZ': 1, 'CINCO': 2, 'NUEVE': 1}, {'OCHO': 1, 'CINCO': 1, 'DIEZ': 2, 'NUEVE': 1, 'CERO': 1}, {'CINCO': 1, 'CERO': 2, 'CUATRO': 1, 'UNO': 1, 'SEIS': 1, 'DOS': 1}, {'CINCO': 2, 'CERO': 1, 'CUATRO': 1, 'DOS': 2, 'DIEZ': 1, 'NUEVE': 1, 'SEIS': 1, 'TRES': 1}, {'SEIS': 1, 'DOS': 1, 'UNO': 1}, {'DOS': 1, 'TRES': 1, 'CINCO': 1, 'NUEVE': 2, 'SIETE': 1, 'SEIS': 1, 'CERO': 1}, {'SEIS': 2}, {'NUEVE': 1, 'UNO': 3, 'TRES': 1, 'CERO': 1, 'SEIS': 2, 'CINCO': 1, 'CUATRO': 1}, {'UNO': 1, 'CERO': 1, 'CINCO': 1, 'DIEZ': 2}, {'DIEZ': 3, 'DOS': 2, 'UNO': 2, 'OCHO': 1, 'CERO': 1}, {'DIEZ': 2, 'OCHO': 2, 'SEIS': 1, 'DOS': 2, 'CERO': 1, 'CUATRO': 1, 'SIETE': 1}, {'DOS': 1, 'DIEZ': 1, 'UNO': 1}, {'CUATRO': 2, 'SEIS': 1, 'DOS': 1, 'OCHO': 1, 'CERO': 1, 'TRES': 1, 'DIEZ': 1, 'CINCO': 1}, {'CUATRO': 1, 'DIEZ': 2, 'OCHO': 1, 'SIETE': 1, 'TRES': 1}, {'SEIS': 2, 'DOS': 1, 'CINCO': 1, 'CERO': 1, 'CUATRO': 1, 'SIETE': 1}, {'CINCO': 1, 'NUEVE': 1}, {'SEIS': 1, 'CINCO': 2, 'CERO': 1, 'DOS': 1}, {'CERO': 2, 'TRES': 2, 'SIETE': 2, 'OCHO': 1}, {'SEIS': 1, 'UNO': 1, 'CUATRO': 1}, {'DIEZ': 1, 'DOS': 3, 'NUEVE': 1, 'CERO': 1, 'UNO': 1, 'CUATRO': 1, 'TRES': 1}, {'CUATRO': 1, 'CINCO': 2, 'SIETE': 1, 'SEIS': 1}, {'OCHO': 1, 'SEIS': 2, 'CINCO': 1}, {'TRES': 1, 'DIEZ': 1, 'CUATRO': 1, 'UNO': 1, 'NUEVE': 1, 'CERO': 1, 'SIETE': 1, 'OCHO': 1}, {'CINCO': 1, 'OCHO': 1, 'NUEVE': 1, 'SIETE': 1, 'SEIS': 1, 'CERO': 2}, {'OCHO': 1, 'DIEZ': 1, 'CUATRO': 1, 'UNO': 1, 'SEIS': 1}, {'SEIS': 2, 'CERO': 1, 'OCHO': 1, 'TRES': 2, 'UNO': 1, 'CUATRO': 1, 'DIEZ': 1, 'CINCO': 1}, {'CUATRO': 2, 'TRES': 1, 'SIETE': 1, 'DIEZ': 1, 'NUEVE': 2}, {'DIEZ': 2, 'CUATRO': 1, 'CERO': 1, 'UNO': 1, 'TRES': 2, 'OCHO': 1, 'SEIS': 2}, {'DIEZ': 1, 'SEIS': 1, 'OCHO': 1}, {'TRES': 1, 'DOS': 1, 'OCHO': 2, 'SEIS': 1, 'SIETE': 1, 'UNO': 2}, {'OCHO': 3, 'UNO': 3, 'NUEVE': 1, 'CUATRO': 1, 'CERO': 1, 'SIETE': 1}, {'CINCO': 3, 'OCHO': 1, 'SEIS': 2}, {'OCHO': 1, 'CINCO': 1, 'CUATRO': 1, 'DOS': 1}, {'TRES': 1, 'DIEZ': 1, 'SEIS': 4, 'CINCO': 2, 'CERO': 1}, {'TRES': 3, 'SIETE': 1, 'NUEVE': 1, 'OCHO': 1}, {'SIETE': 2, 'DOS': 1, 'CINCO': 1}, {'DOS': 1, 'DIEZ': 1, 'NUEVE': 1}, {'SIETE': 1, 'CINCO': 1, 'CERO': 1}, {'DIEZ': 1, 'SIETE': 1}, {'CERO': 2, 'SIETE': 1, 'NUEVE': 1, 'DIEZ': 1}, {'DIEZ': 1, 'SEIS': 1, 'CERO': 1}, {'CERO': 3, 'DOS': 2, 'CUATRO': 1}, {'DOS': 1, 'CINCO': 2, 'NUEVE': 2, 'SEIS': 1, 'CUATRO': 1, 'DIEZ': 1, 'TRES': 1, 'SIETE': 1}, {'DOS': 4, 'TRES': 1, 'UNO': 1}, {'SEIS': 1, 'DIEZ': 1, 'CUATRO': 1, 'CERO': 1, 'DOS': 2}, {'CUATRO': 1, 'SIETE': 1, 'NUEVE': 1, 'DOS': 1}, {'CINCO': 3, 'UNO': 1, 'CERO': 1, 'SEIS': 1, 'DIEZ': 2, 'DOS': 1}, {'CUATRO': 2, 'SIETE': 1, 'DIEZ': 1, 'NUEVE': 1, 'TRES': 1, 'DOS': 1}, {'CINCO': 3}, {'CINCO': 1, 'DOS': 2, 'DIEZ': 2, 'SEIS': 1, 'CUATRO': 1}, {'CUATRO': 3, 'DIEZ': 1, 'SIETE': 3, 'NUEVE': 2}, {'CINCO': 1, 'SEIS': 1, 'SIETE': 2}, {'SIETE': 2, 'CERO': 3, 'NUEVE': 3, 'SEIS': 1}, {'UNO': 2, 'SEIS': 1, 'TRES': 1, 'DIEZ': 2, 'NUEVE': 1, 'OCHO': 1}, {'CUATRO': 2, 'SEIS': 2, 'DOS': 1, 'CINCO': 2, 'SIETE': 1, 'OCHO': 1}, {'DOS': 1, 'DIEZ': 1}, {'CUATRO': 1, 'CERO': 1, 'CINCO': 2, 'NUEVE': 1, 'DOS': 1, 'UNO': 1, 'SIETE': 1}, {'CUATRO': 1, 'TRES': 1}, {'DIEZ': 1, 'SIETE': 1}, {'CERO': 1, 'SIETE': 1, 'OCHO': 2, 'SEIS': 2, 'TRES': 1, 'CUATRO': 1, 'CINCO': 1}, {'NUEVE': 1, 'DOS': 1, 'CINCO': 1, 'CUATRO': 1, 'OCHO': 1, 'TRES': 1}, {'DOS': 1, 'NUEVE': 1}, {'CUATRO': 2, 'SEIS': 1, 'DIEZ': 2, 'CERO': 1, 'CINCO': 1, 'DOS': 1}, {'CUATRO': 2, 'TRES': 1, 'CERO': 1, 'CINCO': 1}, {'SEIS': 2, 'CUATRO': 1, 'CERO': 1, 'UNO': 1}, {'UNO': 1, 'NUEVE': 1, 'SIETE': 1, 'DIEZ': 1, 'SEIS': 1}, {'NUEVE': 2, 'OCHO': 1, 'SIETE': 1, 'UNO': 1, 'DOS': 2, 'CINCO': 1, 'DIEZ': 1}, {'SIETE': 1, 'OCHO': 1}]\n"
     ]
    }
   ],
   "source": [
    "def unir_claves(lista):\n",
    "    return {list(clave.keys())[0]:lista.count(clave) for clave in lista}\n",
    "\n",
    "# junta las claves (las une) de cada particion del mapper\n",
    "def combiner(lista_mapping):\n",
    "  \n",
    "  return [unir_claves(lista) for lista in lista_mapping]\n",
    "\n",
    "combiner_values = combiner(lista_mapping)\n",
    "print(combiner_values)"
   ]
  },
  {
   "cell_type": "markdown",
   "metadata": {},
   "source": [
    "# <center> CREA PARTICIONES USANDO EN ESTE CASO COMO BASE DE PARTICION LOS NOMBRES DE LAS CLAVES **PARTITIONER**\n",
    "<img src=\"MapReduce-fases.png\">"
   ]
  },
  {
   "cell_type": "code",
   "execution_count": 19,
   "metadata": {
    "colab": {
     "base_uri": "https://localhost:8080/"
    },
    "id": "rH71jXL18IFR",
    "outputId": "056a82ce-9831-4a55-97d8-4d846ae479d9",
    "scrolled": true,
    "tags": []
   },
   "outputs": [
    {
     "name": "stdout",
     "output_type": "stream",
     "text": [
      "{'DIEZ': [{'DIEZ': 1}, {'DIEZ': 1}, {'DIEZ': 1}, {'DIEZ': 1}, {'DIEZ': 1}, {'DIEZ': 1}, {'DIEZ': 1}, {'DIEZ': 1}, {'DIEZ': 1}, {'DIEZ': 1}, {'DIEZ': 1}, {'DIEZ': 1}, {'DIEZ': 1}, {'DIEZ': 1}, {'DIEZ': 1}, {'DIEZ': 1}, {'DIEZ': 1}, {'DIEZ': 1}, {'DIEZ': 2}, {'DIEZ': 1}, {'DIEZ': 2}, {'DIEZ': 3}, {'DIEZ': 2}, {'DIEZ': 1}, {'DIEZ': 1}, {'DIEZ': 2}, {'DIEZ': 1}, {'DIEZ': 1}, {'DIEZ': 1}, {'DIEZ': 1}, {'DIEZ': 1}, {'DIEZ': 2}, {'DIEZ': 1}, {'DIEZ': 1}, {'DIEZ': 1}, {'DIEZ': 1}, {'DIEZ': 1}, {'DIEZ': 1}, {'DIEZ': 1}, {'DIEZ': 1}, {'DIEZ': 2}, {'DIEZ': 1}, {'DIEZ': 2}, {'DIEZ': 1}, {'DIEZ': 2}, {'DIEZ': 1}, {'DIEZ': 1}, {'DIEZ': 2}, {'DIEZ': 1}, {'DIEZ': 1}], 'UNO': [{'UNO': 1}, {'UNO': 2}, {'UNO': 1}, {'UNO': 1}, {'UNO': 1}, {'UNO': 1}, {'UNO': 1}, {'UNO': 1}, {'UNO': 1}, {'UNO': 1}, {'UNO': 3}, {'UNO': 1}, {'UNO': 1}, {'UNO': 1}, {'UNO': 1}, {'UNO': 1}, {'UNO': 1}, {'UNO': 3}, {'UNO': 1}, {'UNO': 2}, {'UNO': 1}, {'UNO': 1}, {'UNO': 1}, {'UNO': 1}, {'UNO': 1}, {'UNO': 1}, {'UNO': 1}, {'UNO': 2}, {'UNO': 3}, {'UNO': 1}, {'UNO': 1}, {'UNO': 2}, {'UNO': 1}, {'UNO': 1}, {'UNO': 1}, {'UNO': 1}], 'CINCO': [{'CINCO': 1}, {'CINCO': 1}, {'CINCO': 2}, {'CINCO': 1}, {'CINCO': 1}, {'CINCO': 1}, {'CINCO': 1}, {'CINCO': 1}, {'CINCO': 1}, {'CINCO': 1}, {'CINCO': 1}, {'CINCO': 2}, {'CINCO': 1}, {'CINCO': 1}, {'CINCO': 2}, {'CINCO': 1}, {'CINCO': 1}, {'CINCO': 1}, {'CINCO': 1}, {'CINCO': 1}, {'CINCO': 1}, {'CINCO': 2}, {'CINCO': 2}, {'CINCO': 1}, {'CINCO': 1}, {'CINCO': 1}, {'CINCO': 3}, {'CINCO': 1}, {'CINCO': 2}, {'CINCO': 1}, {'CINCO': 1}, {'CINCO': 2}, {'CINCO': 3}, {'CINCO': 3}, {'CINCO': 1}, {'CINCO': 1}, {'CINCO': 2}, {'CINCO': 2}, {'CINCO': 1}, {'CINCO': 1}, {'CINCO': 1}, {'CINCO': 1}, {'CINCO': 1}], 'CERO': [{'CERO': 1}, {'CERO': 1}, {'CERO': 1}, {'CERO': 1}, {'CERO': 1}, {'CERO': 1}, {'CERO': 1}, {'CERO': 1}, {'CERO': 2}, {'CERO': 1}, {'CERO': 1}, {'CERO': 2}, {'CERO': 1}, {'CERO': 2}, {'CERO': 2}, {'CERO': 1}, {'CERO': 1}, {'CERO': 1}, {'CERO': 1}, {'CERO': 2}, {'CERO': 1}, {'CERO': 1}, {'CERO': 1}, {'CERO': 2}, {'CERO': 1}, {'CERO': 1}, {'CERO': 1}, {'CERO': 1}, {'CERO': 1}, {'CERO': 1}, {'CERO': 1}, {'CERO': 1}, {'CERO': 1}, {'CERO': 2}, {'CERO': 1}, {'CERO': 1}, {'CERO': 2}, {'CERO': 1}, {'CERO': 1}, {'CERO': 1}, {'CERO': 1}, {'CERO': 1}, {'CERO': 2}, {'CERO': 1}, {'CERO': 3}, {'CERO': 1}, {'CERO': 1}, {'CERO': 3}, {'CERO': 1}, {'CERO': 1}, {'CERO': 1}, {'CERO': 1}, {'CERO': 1}], 'SIETE': [{'SIETE': 1}, {'SIETE': 4}, {'SIETE': 1}, {'SIETE': 1}, {'SIETE': 1}, {'SIETE': 2}, {'SIETE': 2}, {'SIETE': 1}, {'SIETE': 1}, {'SIETE': 1}, {'SIETE': 3}, {'SIETE': 2}, {'SIETE': 2}, {'SIETE': 1}, {'SIETE': 2}, {'SIETE': 1}, {'SIETE': 1}, {'SIETE': 1}, {'SIETE': 1}, {'SIETE': 2}, {'SIETE': 1}, {'SIETE': 1}, {'SIETE': 1}, {'SIETE': 1}, {'SIETE': 1}, {'SIETE': 1}, {'SIETE': 1}, {'SIETE': 2}, {'SIETE': 1}, {'SIETE': 1}, {'SIETE': 1}, {'SIETE': 1}, {'SIETE': 1}, {'SIETE': 1}, {'SIETE': 3}, {'SIETE': 2}, {'SIETE': 2}, {'SIETE': 1}, {'SIETE': 1}, {'SIETE': 1}, {'SIETE': 1}, {'SIETE': 1}, {'SIETE': 1}, {'SIETE': 1}], 'OCHO': [{'OCHO': 2}, {'OCHO': 2}, {'OCHO': 1}, {'OCHO': 3}, {'OCHO': 2}, {'OCHO': 1}, {'OCHO': 2}, {'OCHO': 2}, {'OCHO': 1}, {'OCHO': 1}, {'OCHO': 1}, {'OCHO': 1}, {'OCHO': 1}, {'OCHO': 1}, {'OCHO': 1}, {'OCHO': 1}, {'OCHO': 1}, {'OCHO': 2}, {'OCHO': 1}, {'OCHO': 1}, {'OCHO': 1}, {'OCHO': 1}, {'OCHO': 1}, {'OCHO': 1}, {'OCHO': 1}, {'OCHO': 1}, {'OCHO': 1}, {'OCHO': 1}, {'OCHO': 2}, {'OCHO': 3}, {'OCHO': 1}, {'OCHO': 1}, {'OCHO': 1}, {'OCHO': 1}, {'OCHO': 1}, {'OCHO': 2}, {'OCHO': 1}, {'OCHO': 1}, {'OCHO': 1}], 'DOS': [{'DOS': 2}, {'DOS': 1}, {'DOS': 1}, {'DOS': 1}, {'DOS': 1}, {'DOS': 3}, {'DOS': 2}, {'DOS': 2}, {'DOS': 2}, {'DOS': 1}, {'DOS': 1}, {'DOS': 1}, {'DOS': 1}, {'DOS': 3}, {'DOS': 1}, {'DOS': 2}, {'DOS': 1}, {'DOS': 1}, {'DOS': 2}, {'DOS': 2}, {'DOS': 1}, {'DOS': 1}, {'DOS': 1}, {'DOS': 1}, {'DOS': 3}, {'DOS': 1}, {'DOS': 1}, {'DOS': 1}, {'DOS': 1}, {'DOS': 2}, {'DOS': 1}, {'DOS': 4}, {'DOS': 2}, {'DOS': 1}, {'DOS': 1}, {'DOS': 1}, {'DOS': 2}, {'DOS': 1}, {'DOS': 1}, {'DOS': 1}, {'DOS': 1}, {'DOS': 1}, {'DOS': 1}, {'DOS': 2}], 'TRES': [{'TRES': 1}, {'TRES': 1}, {'TRES': 1}, {'TRES': 2}, {'TRES': 1}, {'TRES': 1}, {'TRES': 1}, {'TRES': 1}, {'TRES': 1}, {'TRES': 1}, {'TRES': 1}, {'TRES': 1}, {'TRES': 1}, {'TRES': 2}, {'TRES': 1}, {'TRES': 3}, {'TRES': 1}, {'TRES': 2}, {'TRES': 1}, {'TRES': 1}, {'TRES': 1}, {'TRES': 1}, {'TRES': 1}, {'TRES': 2}, {'TRES': 1}, {'TRES': 1}, {'TRES': 2}, {'TRES': 1}, {'TRES': 2}, {'TRES': 1}, {'TRES': 1}, {'TRES': 3}, {'TRES': 1}, {'TRES': 1}, {'TRES': 1}, {'TRES': 1}, {'TRES': 1}, {'TRES': 1}, {'TRES': 1}, {'TRES': 1}], 'NUEVE': [{'NUEVE': 1}, {'NUEVE': 2}, {'NUEVE': 2}, {'NUEVE': 1}, {'NUEVE': 1}, {'NUEVE': 1}, {'NUEVE': 3}, {'NUEVE': 1}, {'NUEVE': 1}, {'NUEVE': 2}, {'NUEVE': 1}, {'NUEVE': 3}, {'NUEVE': 2}, {'NUEVE': 1}, {'NUEVE': 1}, {'NUEVE': 1}, {'NUEVE': 1}, {'NUEVE': 2}, {'NUEVE': 1}, {'NUEVE': 1}, {'NUEVE': 1}, {'NUEVE': 1}, {'NUEVE': 1}, {'NUEVE': 2}, {'NUEVE': 1}, {'NUEVE': 1}, {'NUEVE': 1}, {'NUEVE': 1}, {'NUEVE': 2}, {'NUEVE': 1}, {'NUEVE': 1}, {'NUEVE': 2}, {'NUEVE': 3}, {'NUEVE': 1}, {'NUEVE': 1}, {'NUEVE': 1}, {'NUEVE': 1}, {'NUEVE': 1}, {'NUEVE': 2}], 'CUATRO': [{'CUATRO': 1}, {'CUATRO': 1}, {'CUATRO': 1}, {'CUATRO': 2}, {'CUATRO': 1}, {'CUATRO': 1}, {'CUATRO': 1}, {'CUATRO': 1}, {'CUATRO': 1}, {'CUATRO': 2}, {'CUATRO': 1}, {'CUATRO': 2}, {'CUATRO': 1}, {'CUATRO': 1}, {'CUATRO': 1}, {'CUATRO': 1}, {'CUATRO': 1}, {'CUATRO': 1}, {'CUATRO': 2}, {'CUATRO': 1}, {'CUATRO': 1}, {'CUATRO': 1}, {'CUATRO': 1}, {'CUATRO': 1}, {'CUATRO': 1}, {'CUATRO': 1}, {'CUATRO': 1}, {'CUATRO': 2}, {'CUATRO': 1}, {'CUATRO': 1}, {'CUATRO': 1}, {'CUATRO': 1}, {'CUATRO': 1}, {'CUATRO': 1}, {'CUATRO': 1}, {'CUATRO': 2}, {'CUATRO': 1}, {'CUATRO': 3}, {'CUATRO': 2}, {'CUATRO': 1}, {'CUATRO': 1}, {'CUATRO': 1}, {'CUATRO': 1}, {'CUATRO': 2}, {'CUATRO': 2}, {'CUATRO': 1}], 'SEIS': [{'SEIS': 1}, {'SEIS': 1}, {'SEIS': 1}, {'SEIS': 1}, {'SEIS': 3}, {'SEIS': 1}, {'SEIS': 1}, {'SEIS': 1}, {'SEIS': 1}, {'SEIS': 1}, {'SEIS': 2}, {'SEIS': 1}, {'SEIS': 1}, {'SEIS': 1}, {'SEIS': 1}, {'SEIS': 2}, {'SEIS': 2}, {'SEIS': 1}, {'SEIS': 1}, {'SEIS': 2}, {'SEIS': 1}, {'SEIS': 1}, {'SEIS': 1}, {'SEIS': 2}, {'SEIS': 1}, {'SEIS': 1}, {'SEIS': 2}, {'SEIS': 2}, {'SEIS': 1}, {'SEIS': 1}, {'SEIS': 2}, {'SEIS': 4}, {'SEIS': 1}, {'SEIS': 1}, {'SEIS': 1}, {'SEIS': 1}, {'SEIS': 1}, {'SEIS': 1}, {'SEIS': 1}, {'SEIS': 1}, {'SEIS': 2}, {'SEIS': 2}, {'SEIS': 1}, {'SEIS': 2}, {'SEIS': 1}]}\n"
     ]
    }
   ],
   "source": [
    "# divide cada diccionario de un combiner y genera una lista de diccionarios separados\n",
    "def generar_diccionarios(lista:list):\n",
    "    return [{key:value} for key,value in lista.items()]\n",
    "\n",
    "# genera particiones por cada clave basado en el nombre de la clave\n",
    "def generar_lista_de_diccionarios(combiner_values):\n",
    "    particion = list()\n",
    "    \n",
    "    for particion_valores in combiner_values:\n",
    "        particion.extend(generar_diccionarios(particion_valores))\n",
    "    \n",
    "    return particion\n",
    "  \n",
    "# particionado para este ejemplo por clave del diccionarario\n",
    "def particionar(combiner_values):\n",
    "    valores_lista_de_diccionarios = generar_lista_de_diccionarios(combiner_values)\n",
    "    particion = dict()\n",
    "    for diccionario in valores_lista_de_diccionarios:\n",
    "        llave = list(diccionario.keys())[0]\n",
    "        \n",
    "        if llave in particion:\n",
    "            valor = particion.get(llave)\n",
    "            valor.append(diccionario)\n",
    "            particion[llave] = valor\n",
    "        else:\n",
    "            particion[llave] = [diccionario]\n",
    "            \n",
    "    return particion\n",
    "\n",
    "claves_particionadas = particionar(combiner_values)\n",
    "print(claves_particionadas)"
   ]
  },
  {
   "cell_type": "markdown",
   "metadata": {},
   "source": [
    "# <center> AGRUPA LOS DATOS Y LOS ORDENA CREANDO UNA LISTA CON CADA VALOR PARA CADA CLAVE **SHUFFLE AND SORT**\n",
    "<img src=\"MapReduce-fases.png\">"
   ]
  },
  {
   "cell_type": "code",
   "execution_count": 20,
   "metadata": {
    "colab": {
     "base_uri": "https://localhost:8080/"
    },
    "id": "fSaeEc0g8YhZ",
    "outputId": "2006c288-e3db-499a-f033-ad38ac8ac267",
    "scrolled": true,
    "tags": []
   },
   "outputs": [
    {
     "name": "stdout",
     "output_type": "stream",
     "text": [
      "{'DIEZ': [1, 1, 1, 1, 1, 1, 1, 1, 1, 1, 1, 1, 1, 1, 1, 1, 1, 1, 2, 1, 2, 3, 2, 1, 1, 2, 1, 1, 1, 1, 1, 2, 1, 1, 1, 1, 1, 1, 1, 1, 2, 1, 2, 1, 2, 1, 1, 2, 1, 1], 'UNO': [1, 2, 1, 1, 1, 1, 1, 1, 1, 1, 3, 1, 1, 1, 1, 1, 1, 3, 1, 2, 1, 1, 1, 1, 1, 1, 1, 2, 3, 1, 1, 2, 1, 1, 1, 1], 'CINCO': [1, 1, 2, 1, 1, 1, 1, 1, 1, 1, 1, 2, 1, 1, 2, 1, 1, 1, 1, 1, 1, 2, 2, 1, 1, 1, 3, 1, 2, 1, 1, 2, 3, 3, 1, 1, 2, 2, 1, 1, 1, 1, 1], 'CERO': [1, 1, 1, 1, 1, 1, 1, 1, 2, 1, 1, 2, 1, 2, 2, 1, 1, 1, 1, 2, 1, 1, 1, 2, 1, 1, 1, 1, 1, 1, 1, 1, 1, 2, 1, 1, 2, 1, 1, 1, 1, 1, 2, 1, 3, 1, 1, 3, 1, 1, 1, 1, 1], 'SIETE': [1, 4, 1, 1, 1, 2, 2, 1, 1, 1, 3, 2, 2, 1, 2, 1, 1, 1, 1, 2, 1, 1, 1, 1, 1, 1, 1, 2, 1, 1, 1, 1, 1, 1, 3, 2, 2, 1, 1, 1, 1, 1, 1, 1], 'OCHO': [2, 2, 1, 3, 2, 1, 2, 2, 1, 1, 1, 1, 1, 1, 1, 1, 1, 2, 1, 1, 1, 1, 1, 1, 1, 1, 1, 1, 2, 3, 1, 1, 1, 1, 1, 2, 1, 1, 1], 'DOS': [2, 1, 1, 1, 1, 3, 2, 2, 2, 1, 1, 1, 1, 3, 1, 2, 1, 1, 2, 2, 1, 1, 1, 1, 3, 1, 1, 1, 1, 2, 1, 4, 2, 1, 1, 1, 2, 1, 1, 1, 1, 1, 1, 2], 'TRES': [1, 1, 1, 2, 1, 1, 1, 1, 1, 1, 1, 1, 1, 2, 1, 3, 1, 2, 1, 1, 1, 1, 1, 2, 1, 1, 2, 1, 2, 1, 1, 3, 1, 1, 1, 1, 1, 1, 1, 1], 'NUEVE': [1, 2, 2, 1, 1, 1, 3, 1, 1, 2, 1, 3, 2, 1, 1, 1, 1, 2, 1, 1, 1, 1, 1, 2, 1, 1, 1, 1, 2, 1, 1, 2, 3, 1, 1, 1, 1, 1, 2], 'CUATRO': [1, 1, 1, 2, 1, 1, 1, 1, 1, 2, 1, 2, 1, 1, 1, 1, 1, 1, 2, 1, 1, 1, 1, 1, 1, 1, 1, 2, 1, 1, 1, 1, 1, 1, 1, 2, 1, 3, 2, 1, 1, 1, 1, 2, 2, 1], 'SEIS': [1, 1, 1, 1, 3, 1, 1, 1, 1, 1, 2, 1, 1, 1, 1, 2, 2, 1, 1, 2, 1, 1, 1, 2, 1, 1, 2, 2, 1, 1, 2, 4, 1, 1, 1, 1, 1, 1, 1, 1, 2, 2, 1, 2, 1]}\n"
     ]
    }
   ],
   "source": [
    "def shuffle_and_short(claves_particionadas):\n",
    "    \n",
    "    particiones_agrupadas = dict()\n",
    "    \n",
    "    for llave in claves_particionadas:\n",
    "        particiones_agrupadas[llave] = [list(valor.values())[0] for valor in claves_particionadas.get(llave)]\n",
    "        \n",
    "    return particiones_agrupadas\n",
    "  \n",
    "\n",
    "shuffle_and_short_ordenados = shuffle_and_short(claves_particionadas)\n",
    "\n",
    "print(shuffle_and_short_ordenados)"
   ]
  },
  {
   "cell_type": "markdown",
   "metadata": {},
   "source": [
    "# <center> EJECUTA EL ALGORITMO DE REDUCCION PARA CADA CLAVE, EN ESTE CASO LOS SUMA **REDUCER**\n",
    "<img src=\"MapReduce-fases.png\">"
   ]
  },
  {
   "cell_type": "code",
   "execution_count": 21,
   "metadata": {
    "colab": {
     "base_uri": "https://localhost:8080/"
    },
    "id": "7XHsVDjF8vzF",
    "outputId": "ca41887d-32a0-4243-83e8-088eb40b24d9"
   },
   "outputs": [
    {
     "data": {
      "text/plain": [
       "{'DIEZ': 61,\n",
       " 'UNO': 46,\n",
       " 'CINCO': 58,\n",
       " 'CERO': 66,\n",
       " 'SIETE': 60,\n",
       " 'OCHO': 51,\n",
       " 'DOS': 64,\n",
       " 'TRES': 50,\n",
       " 'NUEVE': 54,\n",
       " 'CUATRO': 57,\n",
       " 'SEIS': 61}"
      ]
     },
     "execution_count": 21,
     "metadata": {},
     "output_type": "execute_result"
    }
   ],
   "source": [
    "def reducer(shuffle_and_short_ordenados):\n",
    "    valores_reducidos = dict()\n",
    "    \n",
    "    for llave in shuffle_and_short_ordenados:\n",
    "        \n",
    "        valores_reducidos[llave] = sum(shuffle_and_short_ordenados.get(llave))\n",
    "        \n",
    "    return valores_reducidos\n",
    "\n",
    "datos_reducer = reducer(shuffle_and_short_ordenados)\n",
    "datos_reducer"
   ]
  },
  {
   "cell_type": "markdown",
   "metadata": {},
   "source": [
    "# <center> GENERA EL ARCHIVO DE SALIDA CON LOS DATOS FINALES **OUTPUT**\n",
    "<img src=\"MapReduce-fases.png\">"
   ]
  },
  {
   "cell_type": "code",
   "execution_count": 22,
   "metadata": {
    "colab": {
     "base_uri": "https://localhost:8080/",
     "height": 110
    },
    "id": "pVHfCVF7ALfP",
    "outputId": "d746763b-3004-45c5-9e21-65995a9f877f"
   },
   "outputs": [
    {
     "data": {
      "text/html": [
       "<div>\n",
       "<style scoped>\n",
       "    .dataframe tbody tr th:only-of-type {\n",
       "        vertical-align: middle;\n",
       "    }\n",
       "\n",
       "    .dataframe tbody tr th {\n",
       "        vertical-align: top;\n",
       "    }\n",
       "\n",
       "    .dataframe thead th {\n",
       "        text-align: right;\n",
       "    }\n",
       "</style>\n",
       "<table border=\"1\" class=\"dataframe\">\n",
       "  <thead>\n",
       "    <tr style=\"text-align: right;\">\n",
       "      <th></th>\n",
       "      <th>DIEZ</th>\n",
       "      <th>UNO</th>\n",
       "      <th>CINCO</th>\n",
       "      <th>CERO</th>\n",
       "      <th>SIETE</th>\n",
       "      <th>OCHO</th>\n",
       "      <th>DOS</th>\n",
       "      <th>TRES</th>\n",
       "      <th>NUEVE</th>\n",
       "      <th>CUATRO</th>\n",
       "      <th>SEIS</th>\n",
       "    </tr>\n",
       "  </thead>\n",
       "  <tbody>\n",
       "    <tr>\n",
       "      <th>0</th>\n",
       "      <td>61</td>\n",
       "      <td>46</td>\n",
       "      <td>58</td>\n",
       "      <td>66</td>\n",
       "      <td>60</td>\n",
       "      <td>51</td>\n",
       "      <td>64</td>\n",
       "      <td>50</td>\n",
       "      <td>54</td>\n",
       "      <td>57</td>\n",
       "      <td>61</td>\n",
       "    </tr>\n",
       "  </tbody>\n",
       "</table>\n",
       "</div>"
      ],
      "text/plain": [
       "   DIEZ  UNO  CINCO  CERO  SIETE  OCHO  DOS  TRES  NUEVE  CUATRO  SEIS\n",
       "0    61   46     58    66     60    51   64    50     54      57    61"
      ]
     },
     "execution_count": 22,
     "metadata": {},
     "output_type": "execute_result"
    }
   ],
   "source": [
    "import pandas as pd\n",
    "\n",
    "def output_dataframe(datos_reducer):\n",
    "\n",
    "  # crea los valores de las keys en tipo lista para que se puedan adicionar al dataframe sin problemas\n",
    "  datos_pandas = {key:[value] for key, value in datos_reducer.items()}\n",
    "  \n",
    "  return pd.DataFrame(datos_pandas)\n",
    "\n",
    "output_dataframe(datos_reducer)"
   ]
  },
  {
   "cell_type": "code",
   "execution_count": null,
   "metadata": {},
   "outputs": [],
   "source": []
  }
 ],
 "metadata": {
  "colab": {
   "collapsed_sections": [],
   "name": "Hadoop-MapReduce.ipynb",
   "provenance": []
  },
  "kernelspec": {
   "display_name": "Python 3 (ipykernel)",
   "language": "python",
   "name": "python3"
  },
  "language_info": {
   "codemirror_mode": {
    "name": "ipython",
    "version": 3
   },
   "file_extension": ".py",
   "mimetype": "text/x-python",
   "name": "python",
   "nbconvert_exporter": "python",
   "pygments_lexer": "ipython3",
   "version": "3.10.2"
  }
 },
 "nbformat": 4,
 "nbformat_minor": 4
}
