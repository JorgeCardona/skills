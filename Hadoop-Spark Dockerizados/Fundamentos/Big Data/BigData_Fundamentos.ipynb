{
 "cells": [
  {
   "cell_type": "markdown",
   "metadata": {},
   "source": [
    "# <center>**BIG DATA**</center>\n",
    "## Es una Tecnología que se usa, cuando es necesario procesar un volumen de información tan grande, que se vuelve inviable de procesar en una sola máquina.\n",
    "## * Se Útiliza un **componente Tecnologíco como Hadoop y Spark para este procesamiento**.\n",
    "## * Se apoya en un **componente de data y Analytics con algoritmos de Aprendizaje Supervisado y Aprendizaje no supervisado**.\n",
    "## * **Aplicable a multiples casos de uso.**\n",
    "\n",
    "<div style=\"text-align:center\">\n",
    "    <img src=\"bigdata.png\">\n",
    "</div>\n",
    "\n",
    "<div style=\"text-align:center\">\n",
    "    <img src=\"esquema_Data_y_analytics.png\">\n",
    "</div>"
   ]
  },
  {
   "cell_type": "markdown",
   "metadata": {},
   "source": [
    "# <center>**Data Scientist vs Data Engineer vs Data Analyst**</center>\n",
    "<div style=\"text-align:center\">\n",
    "    <img src=\"comparativa.png\">\n",
    "</div>\n",
    "\n",
    "\n",
    "# <center>**STACK**</center>\n",
    "<div style=\"text-align:center\">\n",
    "    <img src=\"stack.png\">\n",
    "</div>\n",
    "\n",
    "# <center>**SKILL SET**</center>\n",
    "<div style=\"text-align:center\">\n",
    "    <img src=\"skills.png\">\n",
    "</div>\n",
    "\n",
    "# <center>**ROLES & RESPONSABILITIES**</center>\n",
    "<div style=\"text-align:center\">\n",
    "    <img src=\"roles.png\">\n",
    "</div>"
   ]
  },
  {
   "cell_type": "markdown",
   "metadata": {},
   "source": [
    "# <center>**Arquitecturas Big Data**</center>\n",
    "# <center>**COMPONENTES**</center>\n",
    "<div style=\"text-align:center\">\n",
    "    <img src=\"componentes-arquitectura.png\">\n",
    "</div>"
   ]
  },
  {
   "cell_type": "markdown",
   "metadata": {},
   "source": [
    "# <center>**LAMBDA**</center>\n",
    "<div style=\"text-align:center\">\n",
    "    <img src=\"lambda.png\">\n",
    "</div>\n",
    "\n",
    "## **La nueva información recogida por el sistema se envía tanto a la capa de BATCH como a la capa SPEED**\n",
    "\n",
    "## Se caracteriza por utilizar **distintas capas para el procesamiento batch y el streaming**.\n",
    "\n",
    "\n",
    "Un caso de uso real para una arquitectura Lambda podría ser un sistema que recomiende libros en función de los gustos de los usuarios. Por un lado, tendría una capa batch encargada de para entrenar el modelo e ir mejorando las predicciones; y por otro, una capa streaming capaz de encargarse de las valoraciones en tiempo real."
   ]
  },
  {
   "cell_type": "markdown",
   "metadata": {},
   "source": [
    "**COMPONENTES**: \n",
    "\n",
    "# <center>**BATCH LAYER** (**COLD PATH**) </center>\n",
    "\n",
    "**los datos son INMUTABLES**\n",
    "\n",
    "Gestiona la **información en crudo RAW**, es decir, sin modificar.\n",
    "\n",
    "Los datos entrantes siempre se agregan a los datos existentes y **los datos anteriores nunca se sobrescriben**. \n",
    "\n",
    "Cualquier **cambio en el valor de un dato en particular se almacena como un nuevo registro de evento** con marca de tiempo. \n",
    "\n",
    "**contiene alta precisión** porque se procesan gran de cantidad de datos, pero su **procesamiento es lento** por el volumen de datos a procesar. \n",
    "\n",
    "Hace un tratamiento mediante un **proceso batch cuyo resultado serán las denominadas Batch Views**.\n",
    "\n",
    "Alimenta **la SERVICE LAYER** \n",
    "\n",
    "Esta ruta se usa si se necesita **mostrar analisis de los datos con menor frecuencia, pero con mayor precision**.\n",
    "\n",
    "# <center>**SPEED LAYER** (**HOT PATH**)</center>\n",
    "\n",
    "Analiza los datos en tiempo real. Esta capa está diseñada para una latencia baja, con una **precisión no muy alta**, dado que se **procesan datos en ventanas de tiempo deslizante** en vez de todos los datos, por eso su **procesamiento es rapido**. \n",
    "\n",
    "Esta capa **actualiza la SERVICE LAYER** con actualizaciones incrementales basadas en los datos más recientes.\n",
    "\n",
    "Esta ruta se usa Si se necesita **mostrar analisis de los datos con mayor frecuencia, pero potencialmente menos precisos**.\n",
    "\n",
    "la **HOT PATH** tiene datos durante un período de tiempo relativamente pequeño, después del cual los resultados se pueden actualizar con datos más precisos de la **COLD PATH**.\n",
    "\n",
    "\n",
    "# <center>**SERVICE LAYER**</center>\n",
    "\n",
    "Indexa las batch views de forma que puedan ser consultadas con **baja latencia y por lo tanto para consultas eficientes**. \n",
    "\n",
    "Sirve los datos para ofrecer la **información ya transformada al exterior**."
   ]
  },
  {
   "cell_type": "markdown",
   "metadata": {},
   "source": [
    "# <center>**KAPPA**</center>\n",
    "<div style=\"text-align:center\">\n",
    "    <img src=\"kappa.png\">\n",
    "</div>\n",
    "\n",
    "## Tiene los mismos objetivos básicos que la arquitectura lambda, pero con una distinción importante: **todos los datos fluyen a través de una única ruta, utilizando un sistema de procesamiento de flujo**.\n",
    "\n",
    "## Elimina la capa batch dejando **solamente la capa de streaming**.\n",
    "\n",
    "## **No tiene un comienzo ni un fin desde un punto de vista temporal** y está continuamente procesando nuevos datos a medida que van llegando.\n",
    "\n",
    "## Todo es un stream: **las operaciones batch son un subconjunto de las operaciones de streaming**, por lo que todo puede ser tratado como un stream.\n",
    "\n",
    "## Los datos de partida no se modifican: **los datos son almacenados sin ser transformados y las vistas se derivan de ellos**. Un estado concreto puede ser recalculado puesto que la información de origen no se modifica.\n",
    "\n",
    "## Solo existe un flujo de procesamiento: puesto que mantenemos **un solo flujo**, el código, el mantenimiento y la actualización del sistema se ven reducidos considerablemente.\n",
    "\n",
    "## Posibilidad de volver a lanzar un procesamiento: **se puede modificar un procesamiento concreto y su configuración** para variar los resultados obtenidos partiendo de los mismos datos de entrada.\n",
    "\n",
    "## Como requisito previo a cumplir, **se tiene que garantizar que los eventos se leen y almacenan en el orden en el que se han generado**. De esta forma, podremos variar un procesamiento concreto partiendo de una misma versión de los datos."
   ]
  },
  {
   "cell_type": "markdown",
   "metadata": {},
   "source": [
    "# <center>**IoT**</center>\n",
    "### Internet of Things (IoT) es cualquier **dispositivo que se conecte a internet, con la capacidad de enviar y recibir datos**.\n",
    "\n",
    "<div style=\"text-align:center\">\n",
    "    <img src=\"iot.png\">\n",
    "</div>"
   ]
  },
  {
   "cell_type": "markdown",
   "metadata": {},
   "source": [
    "Batch hace referencia a un proceso en el que intervienen un conjunto de datos y que tiene un inicio y un fin en el tiempo.\n",
    "Por el contrario, decimos que un procesamiento es de tipo streaming cuando está continuamente recibiendo y tratando nueva información según va llegando sin tener un fin en lo referente al apartado temporal."
   ]
  },
  {
   "cell_type": "markdown",
   "metadata": {},
   "source": [
    "# <center>**TIPOS DE PROCESAMIENTO**</center>\n",
    "<div style=\"text-align:center\">\n",
    "    <img src=\"tiempos-procesamiento.png\">\n",
    "</div>"
   ]
  },
  {
   "cell_type": "markdown",
   "metadata": {},
   "source": [
    "opciones para trabajar con datos en real time son:\n",
    "\n",
    "# <center>**WINDOWING**</center>\n",
    "\n",
    "## Es la posibilidad de crear subconjuntos de datos dentro del Stream en función del timestamp, con el propósito de realizar operaciones tipo COUNT, AVG, etc.\n",
    "\n",
    "Como tipos de Windowing tenemos diferentes posibilidades:\n",
    "\n",
    "- Tumbling Window - Ventana en cascada o rotatoria\n",
    "- Hopping Window - Ventana de salto\n",
    "- Sliding Window - Ventana deslizante\n",
    "- Session Window - Ventana de sesión\n",
    "- Snapshot Window - Ventana de instantáneas\n",
    "\n",
    "\n",
    "<div style=\"text-align:center\">\n",
    "    <img src=\"ventanas.png\">\n",
    "</div>"
   ]
  },
  {
   "cell_type": "markdown",
   "metadata": {},
   "source": [
    "# <center>**TIPOS DE ALMACENAMIENTO**</center>\n",
    "\n",
    "<div style=\"text-align:center\">\n",
    "    <img src=\"manejo_de_datos_v2.png\">\n",
    "</div>"
   ]
  },
  {
   "cell_type": "markdown",
   "metadata": {
    "tags": []
   },
   "source": [
    "# <center> **CICLO DE LOS DATOS** </center>\n",
    "\n",
    "<div style=\"text-align:center\">\n",
    "    <img src=\"ciclo-datos.png\">\n",
    "</div>"
   ]
  },
  {
   "cell_type": "markdown",
   "metadata": {},
   "source": [
    "# <center> ACID VS TEOREMA DE CAP VS BASE</center>\n",
    "<div style=\"text-align:center\">\n",
    "    <img src=\"acid-cap-base.png\">\n",
    "</div>"
   ]
  },
  {
   "cell_type": "markdown",
   "metadata": {},
   "source": [
    "# <center> CARACTERISTICAS BASES DE DATOS</center>\n",
    "<div style=\"text-align:center\">\n",
    "    <img src=\"bases-de-datos-comparativa.png\">\n",
    "</div>"
   ]
  },
  {
   "cell_type": "markdown",
   "metadata": {},
   "source": [
    "# <center> **INDEXING vs PARTITIONING vs BUCKETING vs SHARDING** </center>\n",
    "\n",
    "<div style=\"text-align:center\">\n",
    "    <img src=\"sharding.png\">\n",
    "</div>"
   ]
  }
 ],
 "metadata": {
  "colab": {
   "collapsed_sections": [],
   "name": "Hadoop-MapReduce.ipynb",
   "provenance": []
  },
  "kernelspec": {
   "display_name": "Python 3 (ipykernel)",
   "language": "python",
   "name": "python3"
  },
  "language_info": {
   "codemirror_mode": {
    "name": "ipython",
    "version": 3
   },
   "file_extension": ".py",
   "mimetype": "text/x-python",
   "name": "python",
   "nbconvert_exporter": "python",
   "pygments_lexer": "ipython3",
   "version": "3.10.5"
  }
 },
 "nbformat": 4,
 "nbformat_minor": 4
}
