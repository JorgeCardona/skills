{
 "cells": [
  {
   "cell_type": "markdown",
   "metadata": {},
   "source": [
    "# <center>FASES DEL PARADIGMA **MAP-REDUCE**\n",
    "<img src=\"MapReduce-fases.png\">"
   ]
  },
  {
   "cell_type": "markdown",
   "metadata": {},
   "source": [
    "# <center> DEFINE LOS DATOS CON QUE SE VA A GENERAR LA INFORMACION DE ENTRADA"
   ]
  },
  {
   "cell_type": "code",
   "execution_count": 1,
   "metadata": {
    "id": "uYZHdogp2r8I"
   },
   "outputs": [
    {
     "data": {
      "text/plain": [
       "['CERO',\n",
       " 'UNO',\n",
       " 'DOS',\n",
       " 'TRES',\n",
       " 'CUATRO',\n",
       " 'CINCO',\n",
       " 'SEIS',\n",
       " 'SIETE',\n",
       " 'OCHO',\n",
       " 'NUEVE',\n",
       " 'DIEZ']"
      ]
     },
     "execution_count": 1,
     "metadata": {},
     "output_type": "execute_result"
    }
   ],
   "source": [
    "import random\n",
    "valores = ['CERO','UNO','DOS','TRES','CUATRO','CINCO','SEIS','SIETE','OCHO','NUEVE','DIEZ','ZERO','ONE','TWO','THREE','FOUR','FIVE','SIX','SEVEN','EIGHT','NINE','TEN']\n",
    "valores = ['CERO','UNO','DOS','TRES','CUATRO','CINCO','SEIS','SIETE','OCHO','NUEVE','DIEZ']\n",
    "\n",
    "caracter_separador = ' @'\n",
    "valores"
   ]
  },
  {
   "cell_type": "markdown",
   "metadata": {},
   "source": [
    "# <center> GENERA LOS DATOS A PROCESAR **INPUT**\n",
    "<img src=\"MapReduce-fases.png\">"
   ]
  },
  {
   "cell_type": "code",
   "execution_count": 2,
   "metadata": {
    "colab": {
     "base_uri": "https://localhost:8080/",
     "height": 105
    },
    "id": "NT1Asq641kvM",
    "outputId": "4949f02d-e5fe-45b6-be49-6a6ab38e948c",
    "scrolled": true,
    "tags": []
   },
   "outputs": [
    {
     "data": {
      "text/plain": [
       "'SIETE NUEVE NUEVE @CUATRO DOS CERO DOS OCHO TRES DIEZ DIEZ UNO @CINCO DIEZ SEIS DIEZ UNO DOS NUEVE UNO @DIEZ OCHO CUATRO CERO CINCO OCHO CERO CINCO TRES SIETE @DOS CINCO NUEVE SEIS CINCO DOS @CUATRO UNO @CINCO CERO DIEZ SEIS NUEVE OCHO CUATRO CUATRO @NUEVE NUEVE DIEZ DOS DOS NUEVE SIETE SEIS TRES NUEVE @TRES TRES NUEVE SEIS NUEVE CINCO TRES OCHO CINCO @SEIS OCHO DOS DIEZ TRES DOS CINCO CINCO @DIEZ DIEZ CERO CERO NUEVE NUEVE CERO SIETE OCHO @UNO DIEZ CERO UNO TRES @CERO SEIS SIETE CINCO SEIS @NUEVE DIEZ SIETE SIETE SIETE DOS SIETE UNO @TRES DIEZ DIEZ CERO CERO DOS DOS NUEVE UNO @OCHO TRES SIETE CUATRO OCHO SIETE @CUATRO CERO DIEZ SIETE TRES CUATRO CERO CERO CUATRO SEIS @TRES OCHO OCHO CERO SEIS @DOS SIETE CINCO CUATRO DOS TRES UNO TRES OCHO @DIEZ OCHO OCHO SEIS UNO CERO CERO @TRES CUATRO SEIS @UNO CINCO UNO SEIS CERO DIEZ SEIS NUEVE CERO @NUEVE CINCO SEIS DIEZ SIETE CUATRO UNO CINCO @CINCO DIEZ NUEVE CERO CINCO SIETE UNO DOS @SEIS CUATRO CINCO SIETE UNO DOS DIEZ OCHO @DIEZ DIEZ DIEZ DIEZ DIEZ CUATRO CUATRO CERO @TRES DIEZ CINCO @OCHO NUEVE DOS OCHO NUEVE CERO SIETE @CERO OCHO SIETE TRES CINCO DOS SEIS TRES @OCHO CUATRO DOS CINCO TRES UNO SIETE @CERO NUEVE OCHO SIETE DOS CINCO DOS @CINCO NUEVE OCHO DOS SIETE DOS @NUEVE CUATRO CUATRO CINCO UNO TRES TRES SEIS CERO CERO @CUATRO UNO @DIEZ SIETE DIEZ SEIS DIEZ @NUEVE UNO NUEVE OCHO DIEZ NUEVE @DIEZ SIETE UNO SEIS DOS CUATRO NUEVE @SIETE OCHO CINCO SEIS SIETE @SIETE DIEZ TRES DOS NUEVE @DIEZ OCHO TRES DOS NUEVE UNO UNO DIEZ NUEVE @SEIS OCHO OCHO @SIETE OCHO CUATRO TRES TRES SEIS OCHO UNO SEIS CINCO @DOS CUATRO UNO @DIEZ CINCO DOS NUEVE DIEZ DIEZ OCHO CUATRO NUEVE @NUEVE CUATRO TRES OCHO OCHO CUATRO OCHO @CUATRO SIETE SIETE DOS NUEVE DOS NUEVE NUEVE SIETE @TRES CUATRO DOS NUEVE DIEZ @CINCO DIEZ CINCO CUATRO @CINCO SEIS SIETE @CUATRO SEIS CINCO CINCO @CINCO TRES @UNO CINCO OCHO UNO DIEZ UNO CINCO DIEZ SIETE @SIETE CERO DIEZ NUEVE CUATRO UNO TRES DIEZ CINCO OCHO @SIETE CERO DOS TRES CUATRO TRES UNO DIEZ UNO @DIEZ SIETE CERO @OCHO TRES CINCO CINCO CUATRO @SEIS UNO NUEVE UNO @SIETE CERO CUATRO SIETE CERO OCHO @DIEZ CINCO DOS DOS DOS SEIS UNO UNO @UNO CERO DOS CUATRO NUEVE @SIETE CERO @NUEVE CUATRO SEIS SEIS CINCO @NUEVE DIEZ CERO SEIS SIETE @SIETE SIETE UNO CERO DOS CERO TRES DIEZ @NUEVE NUEVE TRES UNO CERO NUEVE UNO UNO DOS @DIEZ TRES CUATRO OCHO NUEVE CERO SIETE OCHO @SIETE CERO @SIETE CINCO UNO OCHO OCHO DOS NUEVE UNO DOS DOS @DIEZ DIEZ CUATRO NUEVE DOS CUATRO DOS CERO @SIETE CINCO TRES CERO SEIS UNO @OCHO SEIS @SEIS TRES @SEIS UNO @SIETE UNO UNO OCHO CERO NUEVE @CERO OCHO SIETE UNO OCHO UNO DIEZ CINCO OCHO @OCHO CERO TRES DIEZ CERO SEIS CUATRO NUEVE @SIETE OCHO DIEZ UNO CINCO UNO @TRES CUATRO @DOS SIETE CINCO CERO NUEVE DOS @OCHO NUEVE SIETE UNO CERO @DOS SIETE DOS OCHO DOS @NUEVE SIETE CINCO SEIS CINCO NUEVE CERO CINCO UNO @SIETE CUATRO SIETE @CUATRO DOS UNO SIETE OCHO DIEZ CUATRO CERO CERO DIEZ @DOS TRES SEIS UNO DIEZ CINCO CUATRO SIETE NUEVE @CERO CERO CERO OCHO NUEVE CINCO @DOS DIEZ CERO CERO CERO CINCO CUATRO CERO @DOS CINCO @CUATRO CUATRO SIETE CINCO @DOS CUATRO DIEZ UNO UNO SEIS @TRES DOS OCHO TRES UNO CUATRO SEIS TRES DIEZ DIEZ @TRES DOS SEIS @DIEZ DIEZ CUATRO CUATRO SEIS NUEVE @DOS DIEZ TRES SEIS CINCO DOS TRES TRES DIEZ UNO @OCHO SEIS SEIS SIETE @DIEZ DOS CERO DIEZ TRES CERO @NUEVE SIETE CINCO CERO CUATRO CINCO @CUATRO NUEVE @SEIS SIETE TRES DIEZ SIETE CERO SIETE SEIS @UNO TRES TRES CUATRO CERO UNO UNO @'"
      ]
     },
     "execution_count": 2,
     "metadata": {},
     "output_type": "execute_result"
    }
   ],
   "source": [
    "# retorna una lista con valores\n",
    "def generar_valores(limite_inferior:int = 2, limite_superior:int = 10,caracter_separador:str = caracter_separador) -> list:\n",
    "    return [random.choice(valores) for valor in range(random.randint(limite_inferior, limite_superior))]\n",
    "\n",
    "# retorna una cadena de valores con la informacion a particionar\n",
    "def generar_archivo_de_datos(lista_valores_entrada:list, cantidad_de_muestras:int = 100)-> str:\n",
    "\n",
    "  # recupera cada lista generada la convierte a cadena y le adiciona un caracter para usarlo como separador\n",
    "  texto = [' '.join(generar_valores()) + caracter_separador for limite_listas in range(cantidad_de_muestras)]\n",
    "\n",
    "  # une el contenido de las listas en una sola cadena\n",
    "  return ''.join(texto)\n",
    "\n",
    "archivo_de_datos = generar_archivo_de_datos(generar_valores())\n",
    "archivo_de_datos"
   ]
  },
  {
   "cell_type": "markdown",
   "metadata": {},
   "source": [
    "# <center> DIVIDE LOS DATOS A PROCESAR BASADO EN EL CARACTER SEPARADOR **@** **SPLITTING**\n",
    "<img src=\"MapReduce-fases.png\">"
   ]
  },
  {
   "cell_type": "code",
   "execution_count": 3,
   "metadata": {
    "colab": {
     "base_uri": "https://localhost:8080/"
    },
    "id": "YaTXah2Z7gc1",
    "outputId": "60962140-2e94-406c-d89b-b2afeee9984d",
    "scrolled": true,
    "tags": []
   },
   "outputs": [
    {
     "data": {
      "text/plain": [
       "['SIETE NUEVE NUEVE',\n",
       " 'CUATRO DOS CERO DOS OCHO TRES DIEZ DIEZ UNO',\n",
       " 'CINCO DIEZ SEIS DIEZ UNO DOS NUEVE UNO',\n",
       " 'DIEZ OCHO CUATRO CERO CINCO OCHO CERO CINCO TRES SIETE',\n",
       " 'DOS CINCO NUEVE SEIS CINCO DOS',\n",
       " 'CUATRO UNO',\n",
       " 'CINCO CERO DIEZ SEIS NUEVE OCHO CUATRO CUATRO',\n",
       " 'NUEVE NUEVE DIEZ DOS DOS NUEVE SIETE SEIS TRES NUEVE',\n",
       " 'TRES TRES NUEVE SEIS NUEVE CINCO TRES OCHO CINCO',\n",
       " 'SEIS OCHO DOS DIEZ TRES DOS CINCO CINCO',\n",
       " 'DIEZ DIEZ CERO CERO NUEVE NUEVE CERO SIETE OCHO',\n",
       " 'UNO DIEZ CERO UNO TRES',\n",
       " 'CERO SEIS SIETE CINCO SEIS',\n",
       " 'NUEVE DIEZ SIETE SIETE SIETE DOS SIETE UNO',\n",
       " 'TRES DIEZ DIEZ CERO CERO DOS DOS NUEVE UNO',\n",
       " 'OCHO TRES SIETE CUATRO OCHO SIETE',\n",
       " 'CUATRO CERO DIEZ SIETE TRES CUATRO CERO CERO CUATRO SEIS',\n",
       " 'TRES OCHO OCHO CERO SEIS',\n",
       " 'DOS SIETE CINCO CUATRO DOS TRES UNO TRES OCHO',\n",
       " 'DIEZ OCHO OCHO SEIS UNO CERO CERO',\n",
       " 'TRES CUATRO SEIS',\n",
       " 'UNO CINCO UNO SEIS CERO DIEZ SEIS NUEVE CERO',\n",
       " 'NUEVE CINCO SEIS DIEZ SIETE CUATRO UNO CINCO',\n",
       " 'CINCO DIEZ NUEVE CERO CINCO SIETE UNO DOS',\n",
       " 'SEIS CUATRO CINCO SIETE UNO DOS DIEZ OCHO',\n",
       " 'DIEZ DIEZ DIEZ DIEZ DIEZ CUATRO CUATRO CERO',\n",
       " 'TRES DIEZ CINCO',\n",
       " 'OCHO NUEVE DOS OCHO NUEVE CERO SIETE',\n",
       " 'CERO OCHO SIETE TRES CINCO DOS SEIS TRES',\n",
       " 'OCHO CUATRO DOS CINCO TRES UNO SIETE',\n",
       " 'CERO NUEVE OCHO SIETE DOS CINCO DOS',\n",
       " 'CINCO NUEVE OCHO DOS SIETE DOS',\n",
       " 'NUEVE CUATRO CUATRO CINCO UNO TRES TRES SEIS CERO CERO',\n",
       " 'CUATRO UNO',\n",
       " 'DIEZ SIETE DIEZ SEIS DIEZ',\n",
       " 'NUEVE UNO NUEVE OCHO DIEZ NUEVE',\n",
       " 'DIEZ SIETE UNO SEIS DOS CUATRO NUEVE',\n",
       " 'SIETE OCHO CINCO SEIS SIETE',\n",
       " 'SIETE DIEZ TRES DOS NUEVE',\n",
       " 'DIEZ OCHO TRES DOS NUEVE UNO UNO DIEZ NUEVE',\n",
       " 'SEIS OCHO OCHO',\n",
       " 'SIETE OCHO CUATRO TRES TRES SEIS OCHO UNO SEIS CINCO',\n",
       " 'DOS CUATRO UNO',\n",
       " 'DIEZ CINCO DOS NUEVE DIEZ DIEZ OCHO CUATRO NUEVE',\n",
       " 'NUEVE CUATRO TRES OCHO OCHO CUATRO OCHO',\n",
       " 'CUATRO SIETE SIETE DOS NUEVE DOS NUEVE NUEVE SIETE',\n",
       " 'TRES CUATRO DOS NUEVE DIEZ',\n",
       " 'CINCO DIEZ CINCO CUATRO',\n",
       " 'CINCO SEIS SIETE',\n",
       " 'CUATRO SEIS CINCO CINCO',\n",
       " 'CINCO TRES',\n",
       " 'UNO CINCO OCHO UNO DIEZ UNO CINCO DIEZ SIETE',\n",
       " 'SIETE CERO DIEZ NUEVE CUATRO UNO TRES DIEZ CINCO OCHO',\n",
       " 'SIETE CERO DOS TRES CUATRO TRES UNO DIEZ UNO',\n",
       " 'DIEZ SIETE CERO',\n",
       " 'OCHO TRES CINCO CINCO CUATRO',\n",
       " 'SEIS UNO NUEVE UNO',\n",
       " 'SIETE CERO CUATRO SIETE CERO OCHO',\n",
       " 'DIEZ CINCO DOS DOS DOS SEIS UNO UNO',\n",
       " 'UNO CERO DOS CUATRO NUEVE',\n",
       " 'SIETE CERO',\n",
       " 'NUEVE CUATRO SEIS SEIS CINCO',\n",
       " 'NUEVE DIEZ CERO SEIS SIETE',\n",
       " 'SIETE SIETE UNO CERO DOS CERO TRES DIEZ',\n",
       " 'NUEVE NUEVE TRES UNO CERO NUEVE UNO UNO DOS',\n",
       " 'DIEZ TRES CUATRO OCHO NUEVE CERO SIETE OCHO',\n",
       " 'SIETE CERO',\n",
       " 'SIETE CINCO UNO OCHO OCHO DOS NUEVE UNO DOS DOS',\n",
       " 'DIEZ DIEZ CUATRO NUEVE DOS CUATRO DOS CERO',\n",
       " 'SIETE CINCO TRES CERO SEIS UNO',\n",
       " 'OCHO SEIS',\n",
       " 'SEIS TRES',\n",
       " 'SEIS UNO',\n",
       " 'SIETE UNO UNO OCHO CERO NUEVE',\n",
       " 'CERO OCHO SIETE UNO OCHO UNO DIEZ CINCO OCHO',\n",
       " 'OCHO CERO TRES DIEZ CERO SEIS CUATRO NUEVE',\n",
       " 'SIETE OCHO DIEZ UNO CINCO UNO',\n",
       " 'TRES CUATRO',\n",
       " 'DOS SIETE CINCO CERO NUEVE DOS',\n",
       " 'OCHO NUEVE SIETE UNO CERO',\n",
       " 'DOS SIETE DOS OCHO DOS',\n",
       " 'NUEVE SIETE CINCO SEIS CINCO NUEVE CERO CINCO UNO',\n",
       " 'SIETE CUATRO SIETE',\n",
       " 'CUATRO DOS UNO SIETE OCHO DIEZ CUATRO CERO CERO DIEZ',\n",
       " 'DOS TRES SEIS UNO DIEZ CINCO CUATRO SIETE NUEVE',\n",
       " 'CERO CERO CERO OCHO NUEVE CINCO',\n",
       " 'DOS DIEZ CERO CERO CERO CINCO CUATRO CERO',\n",
       " 'DOS CINCO',\n",
       " 'CUATRO CUATRO SIETE CINCO',\n",
       " 'DOS CUATRO DIEZ UNO UNO SEIS',\n",
       " 'TRES DOS OCHO TRES UNO CUATRO SEIS TRES DIEZ DIEZ',\n",
       " 'TRES DOS SEIS',\n",
       " 'DIEZ DIEZ CUATRO CUATRO SEIS NUEVE',\n",
       " 'DOS DIEZ TRES SEIS CINCO DOS TRES TRES DIEZ UNO',\n",
       " 'OCHO SEIS SEIS SIETE',\n",
       " 'DIEZ DOS CERO DIEZ TRES CERO',\n",
       " 'NUEVE SIETE CINCO CERO CUATRO CINCO',\n",
       " 'CUATRO NUEVE',\n",
       " 'SEIS SIETE TRES DIEZ SIETE CERO SIETE SEIS',\n",
       " 'UNO TRES TRES CUATRO CERO UNO UNO']"
      ]
     },
     "execution_count": 3,
     "metadata": {},
     "output_type": "execute_result"
    }
   ],
   "source": [
    "# divide el archivo en listas\n",
    "def splitting(arhivo_de_datos) -> list:\n",
    "  # se pone [:-1] para que no genere una cadena vacia al final\n",
    "  return arhivo_de_datos.split(caracter_separador)[:-1]\n",
    "\n",
    "splitting_text = splitting(archivo_de_datos)\n",
    "splitting_text"
   ]
  },
  {
   "cell_type": "markdown",
   "metadata": {},
   "source": [
    "# <center> EJECUTA EL CODIGO DE MAPEO DE LOS DATOS **MAPPING**\n",
    "<img src=\"MapReduce-fases.png\">"
   ]
  },
  {
   "cell_type": "code",
   "execution_count": 4,
   "metadata": {
    "colab": {
     "base_uri": "https://localhost:8080/"
    },
    "id": "0mQvjndG7Ran",
    "outputId": "426b7fe5-177a-4e7d-a213-0145ad525d34",
    "scrolled": true,
    "tags": []
   },
   "outputs": [
    {
     "name": "stdout",
     "output_type": "stream",
     "text": [
      "[[{'SIETE': 1}, {'NUEVE': 1}, {'NUEVE': 1}], [{'CUATRO': 1}, {'DOS': 1}, {'CERO': 1}, {'DOS': 1}, {'OCHO': 1}, {'TRES': 1}, {'DIEZ': 1}, {'DIEZ': 1}, {'UNO': 1}], [{'CINCO': 1}, {'DIEZ': 1}, {'SEIS': 1}, {'DIEZ': 1}, {'UNO': 1}, {'DOS': 1}, {'NUEVE': 1}, {'UNO': 1}], [{'DIEZ': 1}, {'OCHO': 1}, {'CUATRO': 1}, {'CERO': 1}, {'CINCO': 1}, {'OCHO': 1}, {'CERO': 1}, {'CINCO': 1}, {'TRES': 1}, {'SIETE': 1}], [{'DOS': 1}, {'CINCO': 1}, {'NUEVE': 1}, {'SEIS': 1}, {'CINCO': 1}, {'DOS': 1}], [{'CUATRO': 1}, {'UNO': 1}], [{'CINCO': 1}, {'CERO': 1}, {'DIEZ': 1}, {'SEIS': 1}, {'NUEVE': 1}, {'OCHO': 1}, {'CUATRO': 1}, {'CUATRO': 1}], [{'NUEVE': 1}, {'NUEVE': 1}, {'DIEZ': 1}, {'DOS': 1}, {'DOS': 1}, {'NUEVE': 1}, {'SIETE': 1}, {'SEIS': 1}, {'TRES': 1}, {'NUEVE': 1}], [{'TRES': 1}, {'TRES': 1}, {'NUEVE': 1}, {'SEIS': 1}, {'NUEVE': 1}, {'CINCO': 1}, {'TRES': 1}, {'OCHO': 1}, {'CINCO': 1}], [{'SEIS': 1}, {'OCHO': 1}, {'DOS': 1}, {'DIEZ': 1}, {'TRES': 1}, {'DOS': 1}, {'CINCO': 1}, {'CINCO': 1}], [{'DIEZ': 1}, {'DIEZ': 1}, {'CERO': 1}, {'CERO': 1}, {'NUEVE': 1}, {'NUEVE': 1}, {'CERO': 1}, {'SIETE': 1}, {'OCHO': 1}], [{'UNO': 1}, {'DIEZ': 1}, {'CERO': 1}, {'UNO': 1}, {'TRES': 1}], [{'CERO': 1}, {'SEIS': 1}, {'SIETE': 1}, {'CINCO': 1}, {'SEIS': 1}], [{'NUEVE': 1}, {'DIEZ': 1}, {'SIETE': 1}, {'SIETE': 1}, {'SIETE': 1}, {'DOS': 1}, {'SIETE': 1}, {'UNO': 1}], [{'TRES': 1}, {'DIEZ': 1}, {'DIEZ': 1}, {'CERO': 1}, {'CERO': 1}, {'DOS': 1}, {'DOS': 1}, {'NUEVE': 1}, {'UNO': 1}], [{'OCHO': 1}, {'TRES': 1}, {'SIETE': 1}, {'CUATRO': 1}, {'OCHO': 1}, {'SIETE': 1}], [{'CUATRO': 1}, {'CERO': 1}, {'DIEZ': 1}, {'SIETE': 1}, {'TRES': 1}, {'CUATRO': 1}, {'CERO': 1}, {'CERO': 1}, {'CUATRO': 1}, {'SEIS': 1}], [{'TRES': 1}, {'OCHO': 1}, {'OCHO': 1}, {'CERO': 1}, {'SEIS': 1}], [{'DOS': 1}, {'SIETE': 1}, {'CINCO': 1}, {'CUATRO': 1}, {'DOS': 1}, {'TRES': 1}, {'UNO': 1}, {'TRES': 1}, {'OCHO': 1}], [{'DIEZ': 1}, {'OCHO': 1}, {'OCHO': 1}, {'SEIS': 1}, {'UNO': 1}, {'CERO': 1}, {'CERO': 1}], [{'TRES': 1}, {'CUATRO': 1}, {'SEIS': 1}], [{'UNO': 1}, {'CINCO': 1}, {'UNO': 1}, {'SEIS': 1}, {'CERO': 1}, {'DIEZ': 1}, {'SEIS': 1}, {'NUEVE': 1}, {'CERO': 1}], [{'NUEVE': 1}, {'CINCO': 1}, {'SEIS': 1}, {'DIEZ': 1}, {'SIETE': 1}, {'CUATRO': 1}, {'UNO': 1}, {'CINCO': 1}], [{'CINCO': 1}, {'DIEZ': 1}, {'NUEVE': 1}, {'CERO': 1}, {'CINCO': 1}, {'SIETE': 1}, {'UNO': 1}, {'DOS': 1}], [{'SEIS': 1}, {'CUATRO': 1}, {'CINCO': 1}, {'SIETE': 1}, {'UNO': 1}, {'DOS': 1}, {'DIEZ': 1}, {'OCHO': 1}], [{'DIEZ': 1}, {'DIEZ': 1}, {'DIEZ': 1}, {'DIEZ': 1}, {'DIEZ': 1}, {'CUATRO': 1}, {'CUATRO': 1}, {'CERO': 1}], [{'TRES': 1}, {'DIEZ': 1}, {'CINCO': 1}], [{'OCHO': 1}, {'NUEVE': 1}, {'DOS': 1}, {'OCHO': 1}, {'NUEVE': 1}, {'CERO': 1}, {'SIETE': 1}], [{'CERO': 1}, {'OCHO': 1}, {'SIETE': 1}, {'TRES': 1}, {'CINCO': 1}, {'DOS': 1}, {'SEIS': 1}, {'TRES': 1}], [{'OCHO': 1}, {'CUATRO': 1}, {'DOS': 1}, {'CINCO': 1}, {'TRES': 1}, {'UNO': 1}, {'SIETE': 1}], [{'CERO': 1}, {'NUEVE': 1}, {'OCHO': 1}, {'SIETE': 1}, {'DOS': 1}, {'CINCO': 1}, {'DOS': 1}], [{'CINCO': 1}, {'NUEVE': 1}, {'OCHO': 1}, {'DOS': 1}, {'SIETE': 1}, {'DOS': 1}], [{'NUEVE': 1}, {'CUATRO': 1}, {'CUATRO': 1}, {'CINCO': 1}, {'UNO': 1}, {'TRES': 1}, {'TRES': 1}, {'SEIS': 1}, {'CERO': 1}, {'CERO': 1}], [{'CUATRO': 1}, {'UNO': 1}], [{'DIEZ': 1}, {'SIETE': 1}, {'DIEZ': 1}, {'SEIS': 1}, {'DIEZ': 1}], [{'NUEVE': 1}, {'UNO': 1}, {'NUEVE': 1}, {'OCHO': 1}, {'DIEZ': 1}, {'NUEVE': 1}], [{'DIEZ': 1}, {'SIETE': 1}, {'UNO': 1}, {'SEIS': 1}, {'DOS': 1}, {'CUATRO': 1}, {'NUEVE': 1}], [{'SIETE': 1}, {'OCHO': 1}, {'CINCO': 1}, {'SEIS': 1}, {'SIETE': 1}], [{'SIETE': 1}, {'DIEZ': 1}, {'TRES': 1}, {'DOS': 1}, {'NUEVE': 1}], [{'DIEZ': 1}, {'OCHO': 1}, {'TRES': 1}, {'DOS': 1}, {'NUEVE': 1}, {'UNO': 1}, {'UNO': 1}, {'DIEZ': 1}, {'NUEVE': 1}], [{'SEIS': 1}, {'OCHO': 1}, {'OCHO': 1}], [{'SIETE': 1}, {'OCHO': 1}, {'CUATRO': 1}, {'TRES': 1}, {'TRES': 1}, {'SEIS': 1}, {'OCHO': 1}, {'UNO': 1}, {'SEIS': 1}, {'CINCO': 1}], [{'DOS': 1}, {'CUATRO': 1}, {'UNO': 1}], [{'DIEZ': 1}, {'CINCO': 1}, {'DOS': 1}, {'NUEVE': 1}, {'DIEZ': 1}, {'DIEZ': 1}, {'OCHO': 1}, {'CUATRO': 1}, {'NUEVE': 1}], [{'NUEVE': 1}, {'CUATRO': 1}, {'TRES': 1}, {'OCHO': 1}, {'OCHO': 1}, {'CUATRO': 1}, {'OCHO': 1}], [{'CUATRO': 1}, {'SIETE': 1}, {'SIETE': 1}, {'DOS': 1}, {'NUEVE': 1}, {'DOS': 1}, {'NUEVE': 1}, {'NUEVE': 1}, {'SIETE': 1}], [{'TRES': 1}, {'CUATRO': 1}, {'DOS': 1}, {'NUEVE': 1}, {'DIEZ': 1}], [{'CINCO': 1}, {'DIEZ': 1}, {'CINCO': 1}, {'CUATRO': 1}], [{'CINCO': 1}, {'SEIS': 1}, {'SIETE': 1}], [{'CUATRO': 1}, {'SEIS': 1}, {'CINCO': 1}, {'CINCO': 1}], [{'CINCO': 1}, {'TRES': 1}], [{'UNO': 1}, {'CINCO': 1}, {'OCHO': 1}, {'UNO': 1}, {'DIEZ': 1}, {'UNO': 1}, {'CINCO': 1}, {'DIEZ': 1}, {'SIETE': 1}], [{'SIETE': 1}, {'CERO': 1}, {'DIEZ': 1}, {'NUEVE': 1}, {'CUATRO': 1}, {'UNO': 1}, {'TRES': 1}, {'DIEZ': 1}, {'CINCO': 1}, {'OCHO': 1}], [{'SIETE': 1}, {'CERO': 1}, {'DOS': 1}, {'TRES': 1}, {'CUATRO': 1}, {'TRES': 1}, {'UNO': 1}, {'DIEZ': 1}, {'UNO': 1}], [{'DIEZ': 1}, {'SIETE': 1}, {'CERO': 1}], [{'OCHO': 1}, {'TRES': 1}, {'CINCO': 1}, {'CINCO': 1}, {'CUATRO': 1}], [{'SEIS': 1}, {'UNO': 1}, {'NUEVE': 1}, {'UNO': 1}], [{'SIETE': 1}, {'CERO': 1}, {'CUATRO': 1}, {'SIETE': 1}, {'CERO': 1}, {'OCHO': 1}], [{'DIEZ': 1}, {'CINCO': 1}, {'DOS': 1}, {'DOS': 1}, {'DOS': 1}, {'SEIS': 1}, {'UNO': 1}, {'UNO': 1}], [{'UNO': 1}, {'CERO': 1}, {'DOS': 1}, {'CUATRO': 1}, {'NUEVE': 1}], [{'SIETE': 1}, {'CERO': 1}], [{'NUEVE': 1}, {'CUATRO': 1}, {'SEIS': 1}, {'SEIS': 1}, {'CINCO': 1}], [{'NUEVE': 1}, {'DIEZ': 1}, {'CERO': 1}, {'SEIS': 1}, {'SIETE': 1}], [{'SIETE': 1}, {'SIETE': 1}, {'UNO': 1}, {'CERO': 1}, {'DOS': 1}, {'CERO': 1}, {'TRES': 1}, {'DIEZ': 1}], [{'NUEVE': 1}, {'NUEVE': 1}, {'TRES': 1}, {'UNO': 1}, {'CERO': 1}, {'NUEVE': 1}, {'UNO': 1}, {'UNO': 1}, {'DOS': 1}], [{'DIEZ': 1}, {'TRES': 1}, {'CUATRO': 1}, {'OCHO': 1}, {'NUEVE': 1}, {'CERO': 1}, {'SIETE': 1}, {'OCHO': 1}], [{'SIETE': 1}, {'CERO': 1}], [{'SIETE': 1}, {'CINCO': 1}, {'UNO': 1}, {'OCHO': 1}, {'OCHO': 1}, {'DOS': 1}, {'NUEVE': 1}, {'UNO': 1}, {'DOS': 1}, {'DOS': 1}], [{'DIEZ': 1}, {'DIEZ': 1}, {'CUATRO': 1}, {'NUEVE': 1}, {'DOS': 1}, {'CUATRO': 1}, {'DOS': 1}, {'CERO': 1}], [{'SIETE': 1}, {'CINCO': 1}, {'TRES': 1}, {'CERO': 1}, {'SEIS': 1}, {'UNO': 1}], [{'OCHO': 1}, {'SEIS': 1}], [{'SEIS': 1}, {'TRES': 1}], [{'SEIS': 1}, {'UNO': 1}], [{'SIETE': 1}, {'UNO': 1}, {'UNO': 1}, {'OCHO': 1}, {'CERO': 1}, {'NUEVE': 1}], [{'CERO': 1}, {'OCHO': 1}, {'SIETE': 1}, {'UNO': 1}, {'OCHO': 1}, {'UNO': 1}, {'DIEZ': 1}, {'CINCO': 1}, {'OCHO': 1}], [{'OCHO': 1}, {'CERO': 1}, {'TRES': 1}, {'DIEZ': 1}, {'CERO': 1}, {'SEIS': 1}, {'CUATRO': 1}, {'NUEVE': 1}], [{'SIETE': 1}, {'OCHO': 1}, {'DIEZ': 1}, {'UNO': 1}, {'CINCO': 1}, {'UNO': 1}], [{'TRES': 1}, {'CUATRO': 1}], [{'DOS': 1}, {'SIETE': 1}, {'CINCO': 1}, {'CERO': 1}, {'NUEVE': 1}, {'DOS': 1}], [{'OCHO': 1}, {'NUEVE': 1}, {'SIETE': 1}, {'UNO': 1}, {'CERO': 1}], [{'DOS': 1}, {'SIETE': 1}, {'DOS': 1}, {'OCHO': 1}, {'DOS': 1}], [{'NUEVE': 1}, {'SIETE': 1}, {'CINCO': 1}, {'SEIS': 1}, {'CINCO': 1}, {'NUEVE': 1}, {'CERO': 1}, {'CINCO': 1}, {'UNO': 1}], [{'SIETE': 1}, {'CUATRO': 1}, {'SIETE': 1}], [{'CUATRO': 1}, {'DOS': 1}, {'UNO': 1}, {'SIETE': 1}, {'OCHO': 1}, {'DIEZ': 1}, {'CUATRO': 1}, {'CERO': 1}, {'CERO': 1}, {'DIEZ': 1}], [{'DOS': 1}, {'TRES': 1}, {'SEIS': 1}, {'UNO': 1}, {'DIEZ': 1}, {'CINCO': 1}, {'CUATRO': 1}, {'SIETE': 1}, {'NUEVE': 1}], [{'CERO': 1}, {'CERO': 1}, {'CERO': 1}, {'OCHO': 1}, {'NUEVE': 1}, {'CINCO': 1}], [{'DOS': 1}, {'DIEZ': 1}, {'CERO': 1}, {'CERO': 1}, {'CERO': 1}, {'CINCO': 1}, {'CUATRO': 1}, {'CERO': 1}], [{'DOS': 1}, {'CINCO': 1}], [{'CUATRO': 1}, {'CUATRO': 1}, {'SIETE': 1}, {'CINCO': 1}], [{'DOS': 1}, {'CUATRO': 1}, {'DIEZ': 1}, {'UNO': 1}, {'UNO': 1}, {'SEIS': 1}], [{'TRES': 1}, {'DOS': 1}, {'OCHO': 1}, {'TRES': 1}, {'UNO': 1}, {'CUATRO': 1}, {'SEIS': 1}, {'TRES': 1}, {'DIEZ': 1}, {'DIEZ': 1}], [{'TRES': 1}, {'DOS': 1}, {'SEIS': 1}], [{'DIEZ': 1}, {'DIEZ': 1}, {'CUATRO': 1}, {'CUATRO': 1}, {'SEIS': 1}, {'NUEVE': 1}], [{'DOS': 1}, {'DIEZ': 1}, {'TRES': 1}, {'SEIS': 1}, {'CINCO': 1}, {'DOS': 1}, {'TRES': 1}, {'TRES': 1}, {'DIEZ': 1}, {'UNO': 1}], [{'OCHO': 1}, {'SEIS': 1}, {'SEIS': 1}, {'SIETE': 1}], [{'DIEZ': 1}, {'DOS': 1}, {'CERO': 1}, {'DIEZ': 1}, {'TRES': 1}, {'CERO': 1}], [{'NUEVE': 1}, {'SIETE': 1}, {'CINCO': 1}, {'CERO': 1}, {'CUATRO': 1}, {'CINCO': 1}], [{'CUATRO': 1}, {'NUEVE': 1}], [{'SEIS': 1}, {'SIETE': 1}, {'TRES': 1}, {'DIEZ': 1}, {'SIETE': 1}, {'CERO': 1}, {'SIETE': 1}, {'SEIS': 1}], [{'UNO': 1}, {'TRES': 1}, {'TRES': 1}, {'CUATRO': 1}, {'CERO': 1}, {'UNO': 1}, {'UNO': 1}]]\n"
     ]
    }
   ],
   "source": [
    "def lista_a_lista_de_diccionarios(lista):\n",
    "    return [{str(llave):1} for llave in lista]\n",
    "\n",
    "# divide cada palabra 1 a 1 en cada splitting text\n",
    "def mapping(splitting_text):\n",
    "    mapeo = []\n",
    "    \n",
    "    for i in splitting_text:\n",
    "        lista_cadena = i.split()\n",
    "        mapeo.append(lista_a_lista_de_diccionarios(lista_cadena))\n",
    "        \n",
    "    return mapeo\n",
    "\n",
    "lista_mapping = mapping(splitting_text)\n",
    "print(lista_mapping)"
   ]
  },
  {
   "cell_type": "markdown",
   "metadata": {},
   "source": [
    "# <center> COMBINA LOS DATOS DE LAS CLAVES DEL MISMO BLOQUE DE MAPEO **COMBINER**\n",
    "<img src=\"MapReduce-fases.png\">"
   ]
  },
  {
   "cell_type": "code",
   "execution_count": 5,
   "metadata": {
    "colab": {
     "base_uri": "https://localhost:8080/"
    },
    "id": "7fymcYSka87T",
    "outputId": "9f86f215-1a9a-4e01-be43-71c27d4ebd58",
    "scrolled": true,
    "tags": []
   },
   "outputs": [
    {
     "name": "stdout",
     "output_type": "stream",
     "text": [
      "[{'SIETE': 1, 'NUEVE': 2}, {'CUATRO': 1, 'DOS': 2, 'CERO': 1, 'OCHO': 1, 'TRES': 1, 'DIEZ': 2, 'UNO': 1}, {'CINCO': 1, 'DIEZ': 2, 'SEIS': 1, 'UNO': 2, 'DOS': 1, 'NUEVE': 1}, {'DIEZ': 1, 'OCHO': 2, 'CUATRO': 1, 'CERO': 2, 'CINCO': 2, 'TRES': 1, 'SIETE': 1}, {'DOS': 2, 'CINCO': 2, 'NUEVE': 1, 'SEIS': 1}, {'CUATRO': 1, 'UNO': 1}, {'CINCO': 1, 'CERO': 1, 'DIEZ': 1, 'SEIS': 1, 'NUEVE': 1, 'OCHO': 1, 'CUATRO': 2}, {'NUEVE': 4, 'DIEZ': 1, 'DOS': 2, 'SIETE': 1, 'SEIS': 1, 'TRES': 1}, {'TRES': 3, 'NUEVE': 2, 'SEIS': 1, 'CINCO': 2, 'OCHO': 1}, {'SEIS': 1, 'OCHO': 1, 'DOS': 2, 'DIEZ': 1, 'TRES': 1, 'CINCO': 2}, {'DIEZ': 2, 'CERO': 3, 'NUEVE': 2, 'SIETE': 1, 'OCHO': 1}, {'UNO': 2, 'DIEZ': 1, 'CERO': 1, 'TRES': 1}, {'CERO': 1, 'SEIS': 2, 'SIETE': 1, 'CINCO': 1}, {'NUEVE': 1, 'DIEZ': 1, 'SIETE': 4, 'DOS': 1, 'UNO': 1}, {'TRES': 1, 'DIEZ': 2, 'CERO': 2, 'DOS': 2, 'NUEVE': 1, 'UNO': 1}, {'OCHO': 2, 'TRES': 1, 'SIETE': 2, 'CUATRO': 1}, {'CUATRO': 3, 'CERO': 3, 'DIEZ': 1, 'SIETE': 1, 'TRES': 1, 'SEIS': 1}, {'TRES': 1, 'OCHO': 2, 'CERO': 1, 'SEIS': 1}, {'DOS': 2, 'SIETE': 1, 'CINCO': 1, 'CUATRO': 1, 'TRES': 2, 'UNO': 1, 'OCHO': 1}, {'DIEZ': 1, 'OCHO': 2, 'SEIS': 1, 'UNO': 1, 'CERO': 2}, {'TRES': 1, 'CUATRO': 1, 'SEIS': 1}, {'UNO': 2, 'CINCO': 1, 'SEIS': 2, 'CERO': 2, 'DIEZ': 1, 'NUEVE': 1}, {'NUEVE': 1, 'CINCO': 2, 'SEIS': 1, 'DIEZ': 1, 'SIETE': 1, 'CUATRO': 1, 'UNO': 1}, {'CINCO': 2, 'DIEZ': 1, 'NUEVE': 1, 'CERO': 1, 'SIETE': 1, 'UNO': 1, 'DOS': 1}, {'SEIS': 1, 'CUATRO': 1, 'CINCO': 1, 'SIETE': 1, 'UNO': 1, 'DOS': 1, 'DIEZ': 1, 'OCHO': 1}, {'DIEZ': 5, 'CUATRO': 2, 'CERO': 1}, {'TRES': 1, 'DIEZ': 1, 'CINCO': 1}, {'OCHO': 2, 'NUEVE': 2, 'DOS': 1, 'CERO': 1, 'SIETE': 1}, {'CERO': 1, 'OCHO': 1, 'SIETE': 1, 'TRES': 2, 'CINCO': 1, 'DOS': 1, 'SEIS': 1}, {'OCHO': 1, 'CUATRO': 1, 'DOS': 1, 'CINCO': 1, 'TRES': 1, 'UNO': 1, 'SIETE': 1}, {'CERO': 1, 'NUEVE': 1, 'OCHO': 1, 'SIETE': 1, 'DOS': 2, 'CINCO': 1}, {'CINCO': 1, 'NUEVE': 1, 'OCHO': 1, 'DOS': 2, 'SIETE': 1}, {'NUEVE': 1, 'CUATRO': 2, 'CINCO': 1, 'UNO': 1, 'TRES': 2, 'SEIS': 1, 'CERO': 2}, {'CUATRO': 1, 'UNO': 1}, {'DIEZ': 3, 'SIETE': 1, 'SEIS': 1}, {'NUEVE': 3, 'UNO': 1, 'OCHO': 1, 'DIEZ': 1}, {'DIEZ': 1, 'SIETE': 1, 'UNO': 1, 'SEIS': 1, 'DOS': 1, 'CUATRO': 1, 'NUEVE': 1}, {'SIETE': 2, 'OCHO': 1, 'CINCO': 1, 'SEIS': 1}, {'SIETE': 1, 'DIEZ': 1, 'TRES': 1, 'DOS': 1, 'NUEVE': 1}, {'DIEZ': 2, 'OCHO': 1, 'TRES': 1, 'DOS': 1, 'NUEVE': 2, 'UNO': 2}, {'SEIS': 1, 'OCHO': 2}, {'SIETE': 1, 'OCHO': 2, 'CUATRO': 1, 'TRES': 2, 'SEIS': 2, 'UNO': 1, 'CINCO': 1}, {'DOS': 1, 'CUATRO': 1, 'UNO': 1}, {'DIEZ': 3, 'CINCO': 1, 'DOS': 1, 'NUEVE': 2, 'OCHO': 1, 'CUATRO': 1}, {'NUEVE': 1, 'CUATRO': 2, 'TRES': 1, 'OCHO': 3}, {'CUATRO': 1, 'SIETE': 3, 'DOS': 2, 'NUEVE': 3}, {'TRES': 1, 'CUATRO': 1, 'DOS': 1, 'NUEVE': 1, 'DIEZ': 1}, {'CINCO': 2, 'DIEZ': 1, 'CUATRO': 1}, {'CINCO': 1, 'SEIS': 1, 'SIETE': 1}, {'CUATRO': 1, 'SEIS': 1, 'CINCO': 2}, {'CINCO': 1, 'TRES': 1}, {'UNO': 3, 'CINCO': 2, 'OCHO': 1, 'DIEZ': 2, 'SIETE': 1}, {'SIETE': 1, 'CERO': 1, 'DIEZ': 2, 'NUEVE': 1, 'CUATRO': 1, 'UNO': 1, 'TRES': 1, 'CINCO': 1, 'OCHO': 1}, {'SIETE': 1, 'CERO': 1, 'DOS': 1, 'TRES': 2, 'CUATRO': 1, 'UNO': 2, 'DIEZ': 1}, {'DIEZ': 1, 'SIETE': 1, 'CERO': 1}, {'OCHO': 1, 'TRES': 1, 'CINCO': 2, 'CUATRO': 1}, {'SEIS': 1, 'UNO': 2, 'NUEVE': 1}, {'SIETE': 2, 'CERO': 2, 'CUATRO': 1, 'OCHO': 1}, {'DIEZ': 1, 'CINCO': 1, 'DOS': 3, 'SEIS': 1, 'UNO': 2}, {'UNO': 1, 'CERO': 1, 'DOS': 1, 'CUATRO': 1, 'NUEVE': 1}, {'SIETE': 1, 'CERO': 1}, {'NUEVE': 1, 'CUATRO': 1, 'SEIS': 2, 'CINCO': 1}, {'NUEVE': 1, 'DIEZ': 1, 'CERO': 1, 'SEIS': 1, 'SIETE': 1}, {'SIETE': 2, 'UNO': 1, 'CERO': 2, 'DOS': 1, 'TRES': 1, 'DIEZ': 1}, {'NUEVE': 3, 'TRES': 1, 'UNO': 3, 'CERO': 1, 'DOS': 1}, {'DIEZ': 1, 'TRES': 1, 'CUATRO': 1, 'OCHO': 2, 'NUEVE': 1, 'CERO': 1, 'SIETE': 1}, {'SIETE': 1, 'CERO': 1}, {'SIETE': 1, 'CINCO': 1, 'UNO': 2, 'OCHO': 2, 'DOS': 3, 'NUEVE': 1}, {'DIEZ': 2, 'CUATRO': 2, 'NUEVE': 1, 'DOS': 2, 'CERO': 1}, {'SIETE': 1, 'CINCO': 1, 'TRES': 1, 'CERO': 1, 'SEIS': 1, 'UNO': 1}, {'OCHO': 1, 'SEIS': 1}, {'SEIS': 1, 'TRES': 1}, {'SEIS': 1, 'UNO': 1}, {'SIETE': 1, 'UNO': 2, 'OCHO': 1, 'CERO': 1, 'NUEVE': 1}, {'CERO': 1, 'OCHO': 3, 'SIETE': 1, 'UNO': 2, 'DIEZ': 1, 'CINCO': 1}, {'OCHO': 1, 'CERO': 2, 'TRES': 1, 'DIEZ': 1, 'SEIS': 1, 'CUATRO': 1, 'NUEVE': 1}, {'SIETE': 1, 'OCHO': 1, 'DIEZ': 1, 'UNO': 2, 'CINCO': 1}, {'TRES': 1, 'CUATRO': 1}, {'DOS': 2, 'SIETE': 1, 'CINCO': 1, 'CERO': 1, 'NUEVE': 1}, {'OCHO': 1, 'NUEVE': 1, 'SIETE': 1, 'UNO': 1, 'CERO': 1}, {'DOS': 3, 'SIETE': 1, 'OCHO': 1}, {'NUEVE': 2, 'SIETE': 1, 'CINCO': 3, 'SEIS': 1, 'CERO': 1, 'UNO': 1}, {'SIETE': 2, 'CUATRO': 1}, {'CUATRO': 2, 'DOS': 1, 'UNO': 1, 'SIETE': 1, 'OCHO': 1, 'DIEZ': 2, 'CERO': 2}, {'DOS': 1, 'TRES': 1, 'SEIS': 1, 'UNO': 1, 'DIEZ': 1, 'CINCO': 1, 'CUATRO': 1, 'SIETE': 1, 'NUEVE': 1}, {'CERO': 3, 'OCHO': 1, 'NUEVE': 1, 'CINCO': 1}, {'DOS': 1, 'DIEZ': 1, 'CERO': 4, 'CINCO': 1, 'CUATRO': 1}, {'DOS': 1, 'CINCO': 1}, {'CUATRO': 2, 'SIETE': 1, 'CINCO': 1}, {'DOS': 1, 'CUATRO': 1, 'DIEZ': 1, 'UNO': 2, 'SEIS': 1}, {'TRES': 3, 'DOS': 1, 'OCHO': 1, 'UNO': 1, 'CUATRO': 1, 'SEIS': 1, 'DIEZ': 2}, {'TRES': 1, 'DOS': 1, 'SEIS': 1}, {'DIEZ': 2, 'CUATRO': 2, 'SEIS': 1, 'NUEVE': 1}, {'DOS': 2, 'DIEZ': 2, 'TRES': 3, 'SEIS': 1, 'CINCO': 1, 'UNO': 1}, {'OCHO': 1, 'SEIS': 2, 'SIETE': 1}, {'DIEZ': 2, 'DOS': 1, 'CERO': 2, 'TRES': 1}, {'NUEVE': 1, 'SIETE': 1, 'CINCO': 2, 'CERO': 1, 'CUATRO': 1}, {'CUATRO': 1, 'NUEVE': 1}, {'SEIS': 2, 'SIETE': 3, 'TRES': 1, 'DIEZ': 1, 'CERO': 1}, {'UNO': 3, 'TRES': 2, 'CUATRO': 1, 'CERO': 1}]\n"
     ]
    }
   ],
   "source": [
    "def unir_claves(lista):\n",
    "    return {list(clave.keys())[0]:lista.count(clave) for clave in lista}\n",
    "\n",
    "# junta las claves (las une) de cada particion del mapper\n",
    "def combiner(lista_mapping):\n",
    "  \n",
    "  return [unir_claves(lista) for lista in lista_mapping]\n",
    "\n",
    "combiner_values = combiner(lista_mapping)\n",
    "print(combiner_values)"
   ]
  },
  {
   "cell_type": "markdown",
   "metadata": {},
   "source": [
    "# <center> CREA PARTICIONES USANDO EN ESTE CASO COMO BASE DE PARTICION LOS NOMBRES DE LAS CLAVES **PARTITIONER**\n",
    "<img src=\"MapReduce-fases.png\">"
   ]
  },
  {
   "cell_type": "code",
   "execution_count": 6,
   "metadata": {
    "colab": {
     "base_uri": "https://localhost:8080/"
    },
    "id": "rH71jXL18IFR",
    "outputId": "056a82ce-9831-4a55-97d8-4d846ae479d9",
    "scrolled": true,
    "tags": []
   },
   "outputs": [
    {
     "name": "stdout",
     "output_type": "stream",
     "text": [
      "{'SIETE': [{'SIETE': 1}, {'SIETE': 1}, {'SIETE': 1}, {'SIETE': 1}, {'SIETE': 1}, {'SIETE': 4}, {'SIETE': 2}, {'SIETE': 1}, {'SIETE': 1}, {'SIETE': 1}, {'SIETE': 1}, {'SIETE': 1}, {'SIETE': 1}, {'SIETE': 1}, {'SIETE': 1}, {'SIETE': 1}, {'SIETE': 1}, {'SIETE': 1}, {'SIETE': 1}, {'SIETE': 2}, {'SIETE': 1}, {'SIETE': 1}, {'SIETE': 3}, {'SIETE': 1}, {'SIETE': 1}, {'SIETE': 1}, {'SIETE': 1}, {'SIETE': 1}, {'SIETE': 2}, {'SIETE': 1}, {'SIETE': 1}, {'SIETE': 2}, {'SIETE': 1}, {'SIETE': 1}, {'SIETE': 1}, {'SIETE': 1}, {'SIETE': 1}, {'SIETE': 1}, {'SIETE': 1}, {'SIETE': 1}, {'SIETE': 1}, {'SIETE': 1}, {'SIETE': 1}, {'SIETE': 2}, {'SIETE': 1}, {'SIETE': 1}, {'SIETE': 1}, {'SIETE': 1}, {'SIETE': 1}, {'SIETE': 3}], 'NUEVE': [{'NUEVE': 2}, {'NUEVE': 1}, {'NUEVE': 1}, {'NUEVE': 1}, {'NUEVE': 4}, {'NUEVE': 2}, {'NUEVE': 2}, {'NUEVE': 1}, {'NUEVE': 1}, {'NUEVE': 1}, {'NUEVE': 1}, {'NUEVE': 1}, {'NUEVE': 2}, {'NUEVE': 1}, {'NUEVE': 1}, {'NUEVE': 1}, {'NUEVE': 3}, {'NUEVE': 1}, {'NUEVE': 1}, {'NUEVE': 2}, {'NUEVE': 2}, {'NUEVE': 1}, {'NUEVE': 3}, {'NUEVE': 1}, {'NUEVE': 1}, {'NUEVE': 1}, {'NUEVE': 1}, {'NUEVE': 1}, {'NUEVE': 1}, {'NUEVE': 3}, {'NUEVE': 1}, {'NUEVE': 1}, {'NUEVE': 1}, {'NUEVE': 1}, {'NUEVE': 1}, {'NUEVE': 1}, {'NUEVE': 1}, {'NUEVE': 2}, {'NUEVE': 1}, {'NUEVE': 1}, {'NUEVE': 1}, {'NUEVE': 1}, {'NUEVE': 1}], 'CUATRO': [{'CUATRO': 1}, {'CUATRO': 1}, {'CUATRO': 1}, {'CUATRO': 2}, {'CUATRO': 1}, {'CUATRO': 3}, {'CUATRO': 1}, {'CUATRO': 1}, {'CUATRO': 1}, {'CUATRO': 1}, {'CUATRO': 2}, {'CUATRO': 1}, {'CUATRO': 2}, {'CUATRO': 1}, {'CUATRO': 1}, {'CUATRO': 1}, {'CUATRO': 1}, {'CUATRO': 1}, {'CUATRO': 2}, {'CUATRO': 1}, {'CUATRO': 1}, {'CUATRO': 1}, {'CUATRO': 1}, {'CUATRO': 1}, {'CUATRO': 1}, {'CUATRO': 1}, {'CUATRO': 1}, {'CUATRO': 1}, {'CUATRO': 1}, {'CUATRO': 1}, {'CUATRO': 2}, {'CUATRO': 1}, {'CUATRO': 1}, {'CUATRO': 1}, {'CUATRO': 2}, {'CUATRO': 1}, {'CUATRO': 1}, {'CUATRO': 2}, {'CUATRO': 1}, {'CUATRO': 1}, {'CUATRO': 2}, {'CUATRO': 1}, {'CUATRO': 1}, {'CUATRO': 1}], 'DOS': [{'DOS': 2}, {'DOS': 1}, {'DOS': 2}, {'DOS': 2}, {'DOS': 2}, {'DOS': 1}, {'DOS': 2}, {'DOS': 2}, {'DOS': 1}, {'DOS': 1}, {'DOS': 1}, {'DOS': 1}, {'DOS': 1}, {'DOS': 2}, {'DOS': 2}, {'DOS': 1}, {'DOS': 1}, {'DOS': 1}, {'DOS': 1}, {'DOS': 1}, {'DOS': 2}, {'DOS': 1}, {'DOS': 1}, {'DOS': 3}, {'DOS': 1}, {'DOS': 1}, {'DOS': 1}, {'DOS': 3}, {'DOS': 2}, {'DOS': 2}, {'DOS': 3}, {'DOS': 1}, {'DOS': 1}, {'DOS': 1}, {'DOS': 1}, {'DOS': 1}, {'DOS': 1}, {'DOS': 1}, {'DOS': 2}, {'DOS': 1}], 'CERO': [{'CERO': 1}, {'CERO': 2}, {'CERO': 1}, {'CERO': 3}, {'CERO': 1}, {'CERO': 1}, {'CERO': 2}, {'CERO': 3}, {'CERO': 1}, {'CERO': 2}, {'CERO': 2}, {'CERO': 1}, {'CERO': 1}, {'CERO': 1}, {'CERO': 1}, {'CERO': 1}, {'CERO': 2}, {'CERO': 1}, {'CERO': 1}, {'CERO': 1}, {'CERO': 2}, {'CERO': 1}, {'CERO': 1}, {'CERO': 1}, {'CERO': 2}, {'CERO': 1}, {'CERO': 1}, {'CERO': 1}, {'CERO': 1}, {'CERO': 1}, {'CERO': 1}, {'CERO': 1}, {'CERO': 2}, {'CERO': 1}, {'CERO': 1}, {'CERO': 1}, {'CERO': 2}, {'CERO': 3}, {'CERO': 4}, {'CERO': 2}, {'CERO': 1}, {'CERO': 1}, {'CERO': 1}], 'OCHO': [{'OCHO': 1}, {'OCHO': 2}, {'OCHO': 1}, {'OCHO': 1}, {'OCHO': 1}, {'OCHO': 1}, {'OCHO': 2}, {'OCHO': 2}, {'OCHO': 1}, {'OCHO': 2}, {'OCHO': 1}, {'OCHO': 2}, {'OCHO': 1}, {'OCHO': 1}, {'OCHO': 1}, {'OCHO': 1}, {'OCHO': 1}, {'OCHO': 1}, {'OCHO': 1}, {'OCHO': 2}, {'OCHO': 2}, {'OCHO': 1}, {'OCHO': 3}, {'OCHO': 1}, {'OCHO': 1}, {'OCHO': 1}, {'OCHO': 1}, {'OCHO': 2}, {'OCHO': 2}, {'OCHO': 1}, {'OCHO': 1}, {'OCHO': 3}, {'OCHO': 1}, {'OCHO': 1}, {'OCHO': 1}, {'OCHO': 1}, {'OCHO': 1}, {'OCHO': 1}, {'OCHO': 1}, {'OCHO': 1}], 'TRES': [{'TRES': 1}, {'TRES': 1}, {'TRES': 1}, {'TRES': 3}, {'TRES': 1}, {'TRES': 1}, {'TRES': 1}, {'TRES': 1}, {'TRES': 1}, {'TRES': 1}, {'TRES': 2}, {'TRES': 1}, {'TRES': 1}, {'TRES': 2}, {'TRES': 1}, {'TRES': 2}, {'TRES': 1}, {'TRES': 1}, {'TRES': 2}, {'TRES': 1}, {'TRES': 1}, {'TRES': 1}, {'TRES': 1}, {'TRES': 2}, {'TRES': 1}, {'TRES': 1}, {'TRES': 1}, {'TRES': 1}, {'TRES': 1}, {'TRES': 1}, {'TRES': 1}, {'TRES': 1}, {'TRES': 1}, {'TRES': 3}, {'TRES': 1}, {'TRES': 3}, {'TRES': 1}, {'TRES': 1}, {'TRES': 2}], 'DIEZ': [{'DIEZ': 2}, {'DIEZ': 2}, {'DIEZ': 1}, {'DIEZ': 1}, {'DIEZ': 1}, {'DIEZ': 1}, {'DIEZ': 2}, {'DIEZ': 1}, {'DIEZ': 1}, {'DIEZ': 2}, {'DIEZ': 1}, {'DIEZ': 1}, {'DIEZ': 1}, {'DIEZ': 1}, {'DIEZ': 1}, {'DIEZ': 1}, {'DIEZ': 5}, {'DIEZ': 1}, {'DIEZ': 3}, {'DIEZ': 1}, {'DIEZ': 1}, {'DIEZ': 1}, {'DIEZ': 2}, {'DIEZ': 3}, {'DIEZ': 1}, {'DIEZ': 1}, {'DIEZ': 2}, {'DIEZ': 2}, {'DIEZ': 1}, {'DIEZ': 1}, {'DIEZ': 1}, {'DIEZ': 1}, {'DIEZ': 1}, {'DIEZ': 1}, {'DIEZ': 2}, {'DIEZ': 1}, {'DIEZ': 1}, {'DIEZ': 1}, {'DIEZ': 2}, {'DIEZ': 1}, {'DIEZ': 1}, {'DIEZ': 1}, {'DIEZ': 2}, {'DIEZ': 2}, {'DIEZ': 2}, {'DIEZ': 2}, {'DIEZ': 1}], 'UNO': [{'UNO': 1}, {'UNO': 2}, {'UNO': 1}, {'UNO': 2}, {'UNO': 1}, {'UNO': 1}, {'UNO': 1}, {'UNO': 1}, {'UNO': 2}, {'UNO': 1}, {'UNO': 1}, {'UNO': 1}, {'UNO': 1}, {'UNO': 1}, {'UNO': 1}, {'UNO': 1}, {'UNO': 1}, {'UNO': 2}, {'UNO': 1}, {'UNO': 1}, {'UNO': 3}, {'UNO': 1}, {'UNO': 2}, {'UNO': 2}, {'UNO': 2}, {'UNO': 1}, {'UNO': 1}, {'UNO': 3}, {'UNO': 2}, {'UNO': 1}, {'UNO': 1}, {'UNO': 2}, {'UNO': 2}, {'UNO': 2}, {'UNO': 1}, {'UNO': 1}, {'UNO': 1}, {'UNO': 1}, {'UNO': 2}, {'UNO': 1}, {'UNO': 1}, {'UNO': 3}], 'CINCO': [{'CINCO': 1}, {'CINCO': 2}, {'CINCO': 2}, {'CINCO': 1}, {'CINCO': 2}, {'CINCO': 2}, {'CINCO': 1}, {'CINCO': 1}, {'CINCO': 1}, {'CINCO': 2}, {'CINCO': 2}, {'CINCO': 1}, {'CINCO': 1}, {'CINCO': 1}, {'CINCO': 1}, {'CINCO': 1}, {'CINCO': 1}, {'CINCO': 1}, {'CINCO': 1}, {'CINCO': 1}, {'CINCO': 1}, {'CINCO': 2}, {'CINCO': 1}, {'CINCO': 2}, {'CINCO': 1}, {'CINCO': 2}, {'CINCO': 1}, {'CINCO': 2}, {'CINCO': 1}, {'CINCO': 1}, {'CINCO': 1}, {'CINCO': 1}, {'CINCO': 1}, {'CINCO': 1}, {'CINCO': 1}, {'CINCO': 3}, {'CINCO': 1}, {'CINCO': 1}, {'CINCO': 1}, {'CINCO': 1}, {'CINCO': 1}, {'CINCO': 1}, {'CINCO': 2}], 'SEIS': [{'SEIS': 1}, {'SEIS': 1}, {'SEIS': 1}, {'SEIS': 1}, {'SEIS': 1}, {'SEIS': 1}, {'SEIS': 2}, {'SEIS': 1}, {'SEIS': 1}, {'SEIS': 1}, {'SEIS': 1}, {'SEIS': 2}, {'SEIS': 1}, {'SEIS': 1}, {'SEIS': 1}, {'SEIS': 1}, {'SEIS': 1}, {'SEIS': 1}, {'SEIS': 1}, {'SEIS': 1}, {'SEIS': 2}, {'SEIS': 1}, {'SEIS': 1}, {'SEIS': 1}, {'SEIS': 1}, {'SEIS': 2}, {'SEIS': 1}, {'SEIS': 1}, {'SEIS': 1}, {'SEIS': 1}, {'SEIS': 1}, {'SEIS': 1}, {'SEIS': 1}, {'SEIS': 1}, {'SEIS': 1}, {'SEIS': 1}, {'SEIS': 1}, {'SEIS': 1}, {'SEIS': 1}, {'SEIS': 2}, {'SEIS': 2}]}\n"
     ]
    }
   ],
   "source": [
    "# divide cada diccionario de un combiner y genera una lista de diccionarios separados\n",
    "def generar_diccionarios(lista:list):\n",
    "    return [{key:value} for key,value in lista.items()]\n",
    "\n",
    "# genera particiones por cada clave basado en el nombre de la clave\n",
    "def generar_lista_de_diccionarios(combiner_values):\n",
    "    particion = list()\n",
    "    \n",
    "    for particion_valores in combiner_values:\n",
    "        particion.extend(generar_diccionarios(particion_valores))\n",
    "    \n",
    "    return particion\n",
    "  \n",
    "# particionado para este ejemplo por clave del diccionarario\n",
    "def particionar(combiner_values):\n",
    "    valores_lista_de_diccionarios = generar_lista_de_diccionarios(combiner_values)\n",
    "    particion = dict()\n",
    "    for diccionario in valores_lista_de_diccionarios:\n",
    "        llave = list(diccionario.keys())[0]\n",
    "        \n",
    "        if llave in particion:\n",
    "            valor = particion.get(llave)\n",
    "            valor.append(diccionario)\n",
    "            particion[llave] = valor\n",
    "        else:\n",
    "            particion[llave] = [diccionario]\n",
    "            \n",
    "    return particion\n",
    "\n",
    "claves_particionadas = particionar(combiner_values)\n",
    "print(claves_particionadas)"
   ]
  },
  {
   "cell_type": "markdown",
   "metadata": {},
   "source": [
    "# <center> AGRUPA LOS DATOS Y LOS ORDENA CREANDO UNA LISTA CON CADA VALOR PARA CADA CLAVE **SHUFFLE AND SORT**\n",
    "<img src=\"MapReduce-fases.png\">"
   ]
  },
  {
   "cell_type": "code",
   "execution_count": 7,
   "metadata": {
    "colab": {
     "base_uri": "https://localhost:8080/"
    },
    "id": "fSaeEc0g8YhZ",
    "outputId": "2006c288-e3db-499a-f033-ad38ac8ac267",
    "scrolled": true,
    "tags": []
   },
   "outputs": [
    {
     "name": "stdout",
     "output_type": "stream",
     "text": [
      "{'SIETE': [1, 1, 1, 1, 1, 4, 2, 1, 1, 1, 1, 1, 1, 1, 1, 1, 1, 1, 1, 2, 1, 1, 3, 1, 1, 1, 1, 1, 2, 1, 1, 2, 1, 1, 1, 1, 1, 1, 1, 1, 1, 1, 1, 2, 1, 1, 1, 1, 1, 3], 'NUEVE': [2, 1, 1, 1, 4, 2, 2, 1, 1, 1, 1, 1, 2, 1, 1, 1, 3, 1, 1, 2, 2, 1, 3, 1, 1, 1, 1, 1, 1, 3, 1, 1, 1, 1, 1, 1, 1, 2, 1, 1, 1, 1, 1], 'CUATRO': [1, 1, 1, 2, 1, 3, 1, 1, 1, 1, 2, 1, 2, 1, 1, 1, 1, 1, 2, 1, 1, 1, 1, 1, 1, 1, 1, 1, 1, 1, 2, 1, 1, 1, 2, 1, 1, 2, 1, 1, 2, 1, 1, 1], 'DOS': [2, 1, 2, 2, 2, 1, 2, 2, 1, 1, 1, 1, 1, 2, 2, 1, 1, 1, 1, 1, 2, 1, 1, 3, 1, 1, 1, 3, 2, 2, 3, 1, 1, 1, 1, 1, 1, 1, 2, 1], 'CERO': [1, 2, 1, 3, 1, 1, 2, 3, 1, 2, 2, 1, 1, 1, 1, 1, 2, 1, 1, 1, 2, 1, 1, 1, 2, 1, 1, 1, 1, 1, 1, 1, 2, 1, 1, 1, 2, 3, 4, 2, 1, 1, 1], 'OCHO': [1, 2, 1, 1, 1, 1, 2, 2, 1, 2, 1, 2, 1, 1, 1, 1, 1, 1, 1, 2, 2, 1, 3, 1, 1, 1, 1, 2, 2, 1, 1, 3, 1, 1, 1, 1, 1, 1, 1, 1], 'TRES': [1, 1, 1, 3, 1, 1, 1, 1, 1, 1, 2, 1, 1, 2, 1, 2, 1, 1, 2, 1, 1, 1, 1, 2, 1, 1, 1, 1, 1, 1, 1, 1, 1, 3, 1, 3, 1, 1, 2], 'DIEZ': [2, 2, 1, 1, 1, 1, 2, 1, 1, 2, 1, 1, 1, 1, 1, 1, 5, 1, 3, 1, 1, 1, 2, 3, 1, 1, 2, 2, 1, 1, 1, 1, 1, 1, 2, 1, 1, 1, 2, 1, 1, 1, 2, 2, 2, 2, 1], 'UNO': [1, 2, 1, 2, 1, 1, 1, 1, 2, 1, 1, 1, 1, 1, 1, 1, 1, 2, 1, 1, 3, 1, 2, 2, 2, 1, 1, 3, 2, 1, 1, 2, 2, 2, 1, 1, 1, 1, 2, 1, 1, 3], 'CINCO': [1, 2, 2, 1, 2, 2, 1, 1, 1, 2, 2, 1, 1, 1, 1, 1, 1, 1, 1, 1, 1, 2, 1, 2, 1, 2, 1, 2, 1, 1, 1, 1, 1, 1, 1, 3, 1, 1, 1, 1, 1, 1, 2], 'SEIS': [1, 1, 1, 1, 1, 1, 2, 1, 1, 1, 1, 2, 1, 1, 1, 1, 1, 1, 1, 1, 2, 1, 1, 1, 1, 2, 1, 1, 1, 1, 1, 1, 1, 1, 1, 1, 1, 1, 1, 2, 2]}\n"
     ]
    }
   ],
   "source": [
    "def shuffle_and_short(claves_particionadas):\n",
    "    \n",
    "    particiones_agrupadas = dict()\n",
    "    \n",
    "    for llave in claves_particionadas:\n",
    "        particiones_agrupadas[llave] = [list(valor.values())[0] for valor in claves_particionadas.get(llave)]\n",
    "        \n",
    "    return particiones_agrupadas\n",
    "  \n",
    "\n",
    "shuffle_and_short_ordenados = shuffle_and_short(claves_particionadas)\n",
    "\n",
    "print(shuffle_and_short_ordenados)"
   ]
  },
  {
   "cell_type": "markdown",
   "metadata": {},
   "source": [
    "# <center> EJECUTA EL ALGORITMO DE REDUCCION PARA CADA CLAVE, EN ESTE CASO LOS SUMA **REDUCER**\n",
    "<img src=\"MapReduce-fases.png\">"
   ]
  },
  {
   "cell_type": "code",
   "execution_count": 8,
   "metadata": {
    "colab": {
     "base_uri": "https://localhost:8080/"
    },
    "id": "7XHsVDjF8vzF",
    "outputId": "ca41887d-32a0-4243-83e8-088eb40b24d9"
   },
   "outputs": [
    {
     "data": {
      "text/plain": [
       "{'SIETE': 62,\n",
       " 'NUEVE': 59,\n",
       " 'CUATRO': 54,\n",
       " 'DOS': 58,\n",
       " 'CERO': 62,\n",
       " 'OCHO': 53,\n",
       " 'TRES': 51,\n",
       " 'DIEZ': 68,\n",
       " 'UNO': 60,\n",
       " 'CINCO': 56,\n",
       " 'SEIS': 47}"
      ]
     },
     "execution_count": 8,
     "metadata": {},
     "output_type": "execute_result"
    }
   ],
   "source": [
    "def reducer(shuffle_and_short_ordenados):\n",
    "    valores_reducidos = dict()\n",
    "    \n",
    "    for llave in shuffle_and_short_ordenados:\n",
    "        \n",
    "        valores_reducidos[llave] = sum(shuffle_and_short_ordenados.get(llave))\n",
    "        \n",
    "    return valores_reducidos\n",
    "\n",
    "datos_reducer = reducer(shuffle_and_short_ordenados)\n",
    "datos_reducer"
   ]
  },
  {
   "cell_type": "markdown",
   "metadata": {},
   "source": [
    "# <center> GENERA EL ARCHIVO DE SALIDA CON LOS DATOS FINALES **OUTPUT**\n",
    "<img src=\"MapReduce-fases.png\">"
   ]
  },
  {
   "cell_type": "code",
   "execution_count": 9,
   "metadata": {
    "colab": {
     "base_uri": "https://localhost:8080/",
     "height": 110
    },
    "id": "pVHfCVF7ALfP",
    "outputId": "d746763b-3004-45c5-9e21-65995a9f877f"
   },
   "outputs": [
    {
     "data": {
      "text/html": [
       "<div>\n",
       "<style scoped>\n",
       "    .dataframe tbody tr th:only-of-type {\n",
       "        vertical-align: middle;\n",
       "    }\n",
       "\n",
       "    .dataframe tbody tr th {\n",
       "        vertical-align: top;\n",
       "    }\n",
       "\n",
       "    .dataframe thead th {\n",
       "        text-align: right;\n",
       "    }\n",
       "</style>\n",
       "<table border=\"1\" class=\"dataframe\">\n",
       "  <thead>\n",
       "    <tr style=\"text-align: right;\">\n",
       "      <th></th>\n",
       "      <th>SIETE</th>\n",
       "      <th>NUEVE</th>\n",
       "      <th>CUATRO</th>\n",
       "      <th>DOS</th>\n",
       "      <th>CERO</th>\n",
       "      <th>OCHO</th>\n",
       "      <th>TRES</th>\n",
       "      <th>DIEZ</th>\n",
       "      <th>UNO</th>\n",
       "      <th>CINCO</th>\n",
       "      <th>SEIS</th>\n",
       "    </tr>\n",
       "  </thead>\n",
       "  <tbody>\n",
       "    <tr>\n",
       "      <th>0</th>\n",
       "      <td>62</td>\n",
       "      <td>59</td>\n",
       "      <td>54</td>\n",
       "      <td>58</td>\n",
       "      <td>62</td>\n",
       "      <td>53</td>\n",
       "      <td>51</td>\n",
       "      <td>68</td>\n",
       "      <td>60</td>\n",
       "      <td>56</td>\n",
       "      <td>47</td>\n",
       "    </tr>\n",
       "  </tbody>\n",
       "</table>\n",
       "</div>"
      ],
      "text/plain": [
       "   SIETE  NUEVE  CUATRO  DOS  CERO  OCHO  TRES  DIEZ  UNO  CINCO  SEIS\n",
       "0     62     59      54   58    62    53    51    68   60     56    47"
      ]
     },
     "execution_count": 9,
     "metadata": {},
     "output_type": "execute_result"
    }
   ],
   "source": [
    "import pandas as pd\n",
    "\n",
    "def output_dataframe(datos_reducer):\n",
    "\n",
    "  # crea los valores de las keys en tipo lista para que se puedan adicionar al dataframe sin problemas\n",
    "  datos_pandas = {key:[value] for key, value in datos_reducer.items()}\n",
    "  \n",
    "  return pd.DataFrame(datos_pandas)\n",
    "\n",
    "output_dataframe(datos_reducer)"
   ]
  }
 ],
 "metadata": {
  "colab": {
   "collapsed_sections": [],
   "name": "Hadoop-MapReduce.ipynb",
   "provenance": []
  },
  "kernelspec": {
   "display_name": "Python 3 (ipykernel)",
   "language": "python",
   "name": "python3"
  },
  "language_info": {
   "codemirror_mode": {
    "name": "ipython",
    "version": 3
   },
   "file_extension": ".py",
   "mimetype": "text/x-python",
   "name": "python",
   "nbconvert_exporter": "python",
   "pygments_lexer": "ipython3",
   "version": "3.10.2"
  }
 },
 "nbformat": 4,
 "nbformat_minor": 4
}
