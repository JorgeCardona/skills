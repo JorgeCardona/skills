{
 "cells": [
  {
   "cell_type": "code",
   "execution_count": null,
   "id": "c7896697-5ea3-4ba4-8822-c92c00a2416b",
   "metadata": {
    "scrolled": true,
    "tags": []
   },
   "outputs": [],
   "source": [
    "!python -V"
   ]
  },
  {
   "cell_type": "markdown",
   "id": "e7508f7b-0e31-439a-bf9c-709a342a102d",
   "metadata": {},
   "source": [
    "# <center> GENERADORES</center>\n",
    "# <center> YIELD vs RETURN</center>"
   ]
  },
  {
   "cell_type": "code",
   "execution_count": null,
   "id": "140d1bc6-b12d-4c0e-b9da-c9cdf24b9f2f",
   "metadata": {},
   "outputs": [],
   "source": [
    "def iterador_generadores(generador):\n",
    "\n",
    "    while generador:        \n",
    "        try:\n",
    "            print(next(generador))\n",
    "        except StopIteration:\n",
    "            print('Finalizo iteracion')\n",
    "            break\n",
    "\n",
    "def lenguaje():\n",
    "    yield 'Python'\n",
    "    yield 'Java'\n",
    "    yield 'Scala'\n",
    "               \n",
    "print(list(lenguaje()))"
   ]
  },
  {
   "cell_type": "code",
   "execution_count": null,
   "id": "943a5fd0-6ae1-4b1f-89bf-996cfe0e5f1f",
   "metadata": {},
   "outputs": [],
   "source": [
    "iterador_generadores(lenguaje())"
   ]
  },
  {
   "cell_type": "markdown",
   "id": "6565131e-4faf-4b4d-acd0-ff44390254d1",
   "metadata": {},
   "source": [
    "# <center> YIELD FROM</center>"
   ]
  },
  {
   "cell_type": "code",
   "execution_count": null,
   "id": "40872707-e475-47df-a5ee-8a70f6d00065",
   "metadata": {},
   "outputs": [],
   "source": [
    "def lista_generador():\n",
    "    \n",
    "    yield from 'JorgeCardona'\n",
    "    \n",
    "iterador_generadores(lista_generador())"
   ]
  },
  {
   "cell_type": "markdown",
   "id": "8e56752d-7d98-498c-bec7-e177af2f6b7d",
   "metadata": {},
   "source": [
    "# <center> **YIELD & YIELD FROM** DENTRO DE OTRO YIELD</center>"
   ]
  },
  {
   "cell_type": "code",
   "execution_count": null,
   "id": "b04b2e91-55b3-471c-82a6-0130c841979e",
   "metadata": {},
   "outputs": [],
   "source": [
    "def astronomia():\n",
    "    yield 'Sol'\n",
    "    yield 'Luna'\n",
    "    yield 'Estrellas'\n",
    "    yield 'Galaxias'\n",
    "    yield 'Planetas'   \n",
    "\n",
    "def numeros():\n",
    "    yield 'Uno'\n",
    "    yield 'Dos'\n",
    "    yield lenguaje()\n",
    "    yield from astronomia()\n",
    "    yield 'Tres'\n",
    "    yield 'Cuatro'\n",
    "    yield lista_generador()\n",
    "    yield 'Cinco'\n",
    "\n",
    "\n",
    "print(list(numeros()))"
   ]
  },
  {
   "cell_type": "markdown",
   "id": "a69dcbfb-4edf-44ec-8741-ca428c2f2c77",
   "metadata": {},
   "source": [
    "# <center> **.\\__\\___next\\__\\___()**</center>"
   ]
  },
  {
   "cell_type": "code",
   "execution_count": null,
   "id": "fae23f23-b809-4dcb-9247-d4bbced6a06a",
   "metadata": {
    "scrolled": true,
    "tags": []
   },
   "outputs": [],
   "source": [
    "def iterador_tareas(lista_funciones):    \n",
    "    # itera la lista de funciones con generadores\n",
    "    while lista_funciones:\n",
    "        \n",
    "        print(lista_funciones, len(lista_funciones))\n",
    "        \n",
    "        try:\n",
    "            # obtiene la funcion que tiene generadores\n",
    "            actual = lista_funciones.pop(0)\n",
    "            print(actual.__next__())                     \n",
    "        except Exception:\n",
    "            # para evaluar si es de tipo Generator\n",
    "            import types\n",
    "            print(f\"{actual} -> {'Generador sin elementos' if isinstance(actual, types.GeneratorType) else 'No es una expresion Generadora'} , es una  {type(actual)}\")\n",
    "            pass\n",
    "        else:\n",
    "            lista_funciones.append(actual)\n",
    "            \n",
    "        \n",
    "        \n",
    "iterador_tareas([lista_generador(), lenguaje(), astronomia(), numeros()])"
   ]
  },
  {
   "cell_type": "markdown",
   "id": "d2c2e6f2-86e5-43b7-a6b7-715642838fef",
   "metadata": {},
   "source": [
    "# <center> **ENVIAR VALORES A UN GENERADOR**</center>"
   ]
  },
  {
   "cell_type": "code",
   "execution_count": null,
   "id": "35e7a3e7-e575-4289-acf2-d9fcb5b1a0a0",
   "metadata": {},
   "outputs": [],
   "source": [
    "def multiplicar_valor():\n",
    "    while True:\n",
    "        x,y = yield\n",
    "        yield x + y\n",
    "gen = multiplicar_valor()"
   ]
  },
  {
   "cell_type": "code",
   "execution_count": null,
   "id": "728bd814-07e9-4f38-9d66-c7dffec471e2",
   "metadata": {},
   "outputs": [],
   "source": [
    "for i in range(10,20):\n",
    "    next(gen)\n",
    "    x = i//2\n",
    "    y = i\n",
    "    \n",
    "    resultado = gen.send([x,y])\n",
    "    \n",
    "    print(f'el valor de {x} + {y} es {resultado}')"
   ]
  },
  {
   "cell_type": "markdown",
   "id": "ed6ca369-c57c-4799-99c9-ea220eb74034",
   "metadata": {},
   "source": [
    "# <center> **ENVIAR VALORES A UN GENERADOR CON CONDICIONALES**</center>"
   ]
  },
  {
   "cell_type": "code",
   "execution_count": null,
   "id": "ef99789d-1368-442a-a705-315dc494bb13",
   "metadata": {},
   "outputs": [],
   "source": [
    "def multiplicar_valor_impar(generador):\n",
    "    \n",
    "    while generador:\n",
    "        # obtiene el valor actual del iterador en el generador\n",
    "        actual = next(generador)\n",
    "        print(f'El valor del iterador es {actual}')\n",
    "        \n",
    "        # si el valor del generador no es par se le envian parametros\n",
    "        if actual%2 !=-0:\n",
    "            \n",
    "            # parametros a capturar con el metodo send\n",
    "            x,y = yield\n",
    "            \n",
    "            # define las variables a capturar\n",
    "            if (x and y) is not None:\n",
    "                yield f'el valor de ({x} x {actual}) + ({y} x {actual} x {2}) es ({x * actual} + {y * actual * 2}) = {x*actual + y*actual*2}'\n",
    "                print()\n",
    "        else:\n",
    "            print(f'El valor {actual} -->, no es un numero impar')\n",
    "            print()\n",
    "                \n",
    "# define el numero maximo de objetos generadores creados\n",
    "iterador = (i for i in range(10))\n",
    "gen = multiplicar_valor_impar(iterador)"
   ]
  },
  {
   "cell_type": "code",
   "execution_count": null,
   "id": "7e901a70-68a0-480a-99e0-fbfe9e5d1259",
   "metadata": {},
   "outputs": [],
   "source": [
    "# rango superior al total de objetos generadores\n",
    "for i in range(99):\n",
    "    \n",
    "    try:\n",
    "        next(gen)\n",
    "    except Exception:\n",
    "        print('Iteracion Finalizada')\n",
    "        break\n",
    "    else:\n",
    "        resultado_parametros = gen.send([i+2,i+5])\n",
    "        print(resultado_parametros)"
   ]
  },
  {
   "cell_type": "markdown",
   "id": "bcc3517e-157c-4983-a50a-6eb3be2bfc93",
   "metadata": {},
   "source": [
    "# <center> **EXCEPCIONES EN UN GENERADOR**</center>"
   ]
  },
  {
   "cell_type": "code",
   "execution_count": null,
   "id": "788c7c3c-4856-475e-b219-d121458a1a9b",
   "metadata": {},
   "outputs": [],
   "source": [
    "numeros = (valor for valor in range(10))\n",
    "\n",
    "def iterador_generadores(generador):\n",
    "\n",
    "    while generador:        \n",
    "        try:\n",
    "            \n",
    "            valor = next(generador)\n",
    "            print(valor)\n",
    "            \n",
    "            # criterio de parada\n",
    "            if valor > 5:\n",
    "                generador.throw(ValueError(\"EL VALOR HA SUPERADO EL LIMITE PERMITIDO\"))\n",
    "                \n",
    "        except StopIteration:\n",
    "            print('Finalizo iteracion')\n",
    "            break\n",
    "            \n",
    "iterador_generadores(numeros)"
   ]
  },
  {
   "cell_type": "markdown",
   "id": "ae2f44b0-35ee-4f66-bdb5-a924d8388e67",
   "metadata": {},
   "source": [
    "# <center> **DETENER O FINALIZAR UN GENERADOR**</center>"
   ]
  },
  {
   "cell_type": "code",
   "execution_count": null,
   "id": "7f6dc6b4-8fa9-40d0-a6f5-aab3e91951e6",
   "metadata": {},
   "outputs": [],
   "source": [
    "numeros = (valor for valor in range(10))\n",
    "\n",
    "def iterador_generadores(generador):\n",
    "\n",
    "    while generador:        \n",
    "        try:            \n",
    "            valor = next(generador)               \n",
    "        except StopIteration:\n",
    "            print('Finalizo iteracion')\n",
    "            break\n",
    "        else:\n",
    "            # criterio de parada\n",
    "            if valor >= 5:\n",
    "                generador.close()\n",
    "            print(valor) \n",
    "\n",
    "iterador_generadores(numeros)"
   ]
  },
  {
   "cell_type": "markdown",
   "id": "22b82a87-98c6-49ea-b1fc-07c5a402e067",
   "metadata": {},
   "source": [
    "# <center> **PIPE O CANALIZACIONES CON GENERADORES**</center>"
   ]
  },
  {
   "cell_type": "code",
   "execution_count": null,
   "id": "8b8a4c04-597b-4152-98cc-8679682819e5",
   "metadata": {},
   "outputs": [],
   "source": [
    "def fibonacci(nums):\n",
    "    x, y = 0, 1\n",
    "    for _ in range(nums):\n",
    "        x, y = y, x+y\n",
    "        yield x\n",
    "\n",
    "def cuadrado(nums):\n",
    "    for num in nums:\n",
    "        yield num**2\n",
    "\n",
    "print(list(fibonacci(10)))\n",
    "print(list(cuadrado(fibonacci(10))))\n",
    "print(sum(cuadrado(fibonacci(10))))"
   ]
  },
  {
   "cell_type": "markdown",
   "id": "ae81a8a2-83f1-421e-8379-a98c667c8b5b",
   "metadata": {},
   "source": [
    "# <center> **CONSUMO DE MEMORIA EN BYTES DE UNA LISTA VS UN GENERADOR**</center>"
   ]
  },
  {
   "cell_type": "code",
   "execution_count": null,
   "id": "609107a2-66ed-4f24-b7c4-3767172d6254",
   "metadata": {
    "scrolled": true,
    "tags": []
   },
   "outputs": [],
   "source": [
    "import sys\n",
    "lista = [i * 2 for i in range(10000)]\n",
    "print(sys.getsizeof(lista))"
   ]
  },
  {
   "cell_type": "code",
   "execution_count": null,
   "id": "79acc7c4-29d2-44e6-964c-bd58b3b175b6",
   "metadata": {
    "scrolled": true,
    "tags": []
   },
   "outputs": [],
   "source": [
    "generador = (i ** 2 for i in range(10000))\n",
    "\n",
    "while generador: \n",
    "\n",
    "    try:\n",
    "        siguiente = next(generador)\n",
    "        print(f'tamano del valor generado {sys.getsizeof(siguiente)}, tamano del generador {sys.getsizeof(generador)}, valor {siguiente}')\n",
    "    except StopIteration:\n",
    "        print('Finalizo iteracion')\n",
    "        break"
   ]
  },
  {
   "cell_type": "markdown",
   "id": "0b6be995-54b5-49aa-b3bc-bec52cb60b25",
   "metadata": {},
   "source": [
    "# <center> **VELOCIDAD DE PROCESAMIENTO VS CONSUMO DE MEMORIA DE UNA LISTA VS UN GENERADOR**</center>"
   ]
  },
  {
   "cell_type": "code",
   "execution_count": null,
   "id": "8ae25da8-73ae-41f2-b704-b0123dff1cd5",
   "metadata": {},
   "outputs": [],
   "source": [
    "import cProfile\n",
    "\n",
    "cProfile.run('sum([i * 2 for i in range(10000)])')"
   ]
  },
  {
   "cell_type": "code",
   "execution_count": null,
   "id": "c7286e9a-145f-45dd-8237-bd7cdf725927",
   "metadata": {},
   "outputs": [],
   "source": [
    "cProfile.run('sum((i * 2 for i in range(10000)))')"
   ]
  },
  {
   "cell_type": "markdown",
   "id": "a8e241d5-586d-4b1e-8b67-e3829de3cc6f",
   "metadata": {},
   "source": [
    "# <center> iter()</center>"
   ]
  },
  {
   "cell_type": "code",
   "execution_count": null,
   "id": "0f908ead-d202-41cb-9eab-7b6fe8a8cb2c",
   "metadata": {},
   "outputs": [],
   "source": [
    "iterador = iter([1,2,3,4,5,6,7,8,9,0])"
   ]
  },
  {
   "cell_type": "code",
   "execution_count": null,
   "id": "9e294d92-46a2-430a-9d9d-c0bdf890643b",
   "metadata": {
    "scrolled": true,
    "tags": []
   },
   "outputs": [],
   "source": [
    "print(dir(iterador))"
   ]
  },
  {
   "cell_type": "code",
   "execution_count": null,
   "id": "73758a6f-5361-4a8d-bea8-d38a24cc4cc1",
   "metadata": {},
   "outputs": [],
   "source": [
    "iterador.__next__()"
   ]
  },
  {
   "cell_type": "code",
   "execution_count": null,
   "id": "d384c322-ab70-443b-9758-7e00aa88caef",
   "metadata": {},
   "outputs": [],
   "source": [
    "def is_palindrome(num):\n",
    "    \n",
    "    r = str(abs(num)) if type(int) else num\n",
    "\n",
    "    if len(r) < 2:\n",
    "        return False\n",
    "    \n",
    "    elif len(r) %2 == 0:\n",
    "        size = len(r)//2\n",
    "        a = r[:size]\n",
    "        b = r[size:][::-1]\n",
    "        \n",
    "        return a==b\n",
    "        \n",
    "\n",
    "    else:\n",
    "        size = len(r)//2\n",
    "        a = r[:size]\n",
    "        b = r[size+1:][::-1]\n",
    "        \n",
    "        return a==b\n",
    "        \n",
    "listado = list()\n",
    "\n",
    "for i in range(-1000,1000):\n",
    "\n",
    "    if (is_palindrome(i)):\n",
    "        listado.append(i)\n",
    "\n",
    "print(listado)"
   ]
  },
  {
   "cell_type": "markdown",
   "id": "ba81f568-309d-4202-909c-95605cac1d08",
   "metadata": {},
   "source": [
    "# <center> TIPOS DE INSTANCIA</center>"
   ]
  },
  {
   "cell_type": "markdown",
   "id": "1b91358a-8841-4358-a533-19db06642153",
   "metadata": {},
   "source": [
    "# <center> SINCRONISMO - HILOS - PROCESOS - ASINCRONISMO</center>\n",
    "\n",
    "<center>\n",
    "    <img width=\"50%\" lign=\"center\" src=\"ejecuciones.png\">\n",
    "</center>"
   ]
  },
  {
   "cell_type": "markdown",
   "id": "0d204a90-bbe8-41f0-abcb-6547ad686fbd",
   "metadata": {},
   "source": [
    "# <center> EJECUCION **SINCRONA**</center>"
   ]
  },
  {
   "cell_type": "code",
   "execution_count": 2,
   "id": "bc67055a-e53d-4621-bd0c-9435265579d4",
   "metadata": {},
   "outputs": [
    {
     "name": "stdout",
     "output_type": "stream",
     "text": [
      "corriendo tarea de tiempo 1\n",
      "corriendo tarea de tiempo 2\n",
      "corriendo tarea de tiempo 3\n",
      "corriendo tarea de tiempo 4\n",
      "corriendo tarea de tiempo 5\n",
      "CPU times: user 18.4 ms, sys: 1.53 ms, total: 19.9 ms\n",
      "Wall time: 15 s\n"
     ]
    },
    {
     "data": {
      "text/plain": [
       "[1, 2, 3, 4, 5]"
      ]
     },
     "execution_count": 2,
     "metadata": {},
     "output_type": "execute_result"
    }
   ],
   "source": [
    "%%time\n",
    "\n",
    "from time import sleep\n",
    "espera = 5\n",
    "\n",
    "def dormir_sincrono(tiempo):\n",
    "    print('corriendo tarea de tiempo',tiempo)\n",
    "    sleep(tiempo)\n",
    "    return tiempo\n",
    "\n",
    "\n",
    "datos = []\n",
    "\n",
    "for tiempo_espera in range(1,espera + 1):\n",
    "    datos.append(dormir_sincrono(tiempo_espera))\n",
    "    \n",
    "datos"
   ]
  },
  {
   "cell_type": "markdown",
   "id": "0defbf57-4fcd-460d-b00b-bff57383b2f9",
   "metadata": {},
   "source": [
    "# <center> EJECUCION **ASINCRONA**</center>"
   ]
  },
  {
   "cell_type": "code",
   "execution_count": 3,
   "id": "337e73bb-3427-4e3c-9f0f-e28d48ff7822",
   "metadata": {
    "scrolled": true,
    "tags": []
   },
   "outputs": [
    {
     "name": "stdout",
     "output_type": "stream",
     "text": [
      "corriendo tarea de tiempo 1\n",
      "corriendo tarea de tiempo 2\n",
      "corriendo tarea de tiempo 3\n",
      "corriendo tarea de tiempo 4\n",
      "corriendo tarea de tiempo 5\n",
      "5\n"
     ]
    },
    {
     "data": {
      "text/plain": [
       "[1, 2, 3, 4, 5]"
      ]
     },
     "execution_count": 3,
     "metadata": {},
     "output_type": "execute_result"
    }
   ],
   "source": [
    "from datetime import datetime\n",
    "from time import sleep\n",
    "import asyncio\n",
    "\n",
    "async def corrutina(tiempo:int) -> int:\n",
    "    print('corriendo tarea de tiempo',tiempo)\n",
    "    await asyncio.sleep(tiempo)\n",
    "    return tiempo\n",
    "\n",
    "datos = []\n",
    "resul = []\n",
    "\n",
    "inicia = datetime.now()\n",
    "\n",
    "# crea el listado de corrutinas\n",
    "for tiempo_espera in range(1,espera + 1):\n",
    "    datos.append(asyncio.gather(corrutina(tiempo_espera)))\n",
    "    \n",
    "# recupera los valores de las corrutinas\n",
    "for corrutina in datos:\n",
    "    valor = await corrutina\n",
    "    resul.append(valor[0])\n",
    "\n",
    "finaliza = datetime.now()\n",
    "print(finaliza.second - inicia.second) \n",
    "resul"
   ]
  },
  {
   "cell_type": "markdown",
   "id": "0608edff-ad22-4b53-b271-d596b9bd1806",
   "metadata": {},
   "source": [
    "# <center> EJECUCION **HILO**</center>\n",
    "## <center> Este módulo construye interfaces de hilado de alto nivel sobre el módulo de más bajo nivel _thread. "
   ]
  },
  {
   "cell_type": "code",
   "execution_count": 4,
   "id": "04a8af08-b5dc-4100-9239-a21f9a510ac0",
   "metadata": {},
   "outputs": [
    {
     "name": "stdout",
     "output_type": "stream",
     "text": [
      "corriendo tarea de tiempo 1\n",
      "corriendo tarea de tiempo 2\n",
      "corriendo tarea de tiempo 3\n",
      "corriendo tarea de tiempo 4\n",
      "corriendo tarea de tiempo 5\n",
      "CPU times: user 0 ns, sys: 28.3 ms, total: 28.3 ms\n",
      "Wall time: 5.02 s\n"
     ]
    },
    {
     "data": {
      "text/plain": [
       "[1, 2, 3, 4, 5]"
      ]
     },
     "execution_count": 4,
     "metadata": {},
     "output_type": "execute_result"
    }
   ],
   "source": [
    "%%time\n",
    "# libreria para procesamiento en paralelo\n",
    "from threading import Thread\n",
    "\n",
    "# libreria que permite guardar los valores retornados en una cola\n",
    "from queue import Queue as cola_classica\n",
    "\n",
    "# instancia de la cola para adicionar los resultados\n",
    "almacenar_resultados = cola_classica()\n",
    "\n",
    "def almacenar_en_cola(f):\n",
    "    def wrapper(*args):\n",
    "        almacenar_resultados.put(f(*args))\n",
    "    return wrapper\n",
    "\n",
    "@almacenar_en_cola\n",
    "def dormir_sincrono(tiempo):\n",
    "    print('corriendo tarea de tiempo',tiempo)\n",
    "    sleep(tiempo)\n",
    "    return tiempo\n",
    "\n",
    "def obtener_resultado_cola_tarea(cola):\n",
    "    \n",
    "    valores = []\n",
    "    for indice_tarea in range(cola.qsize()):\n",
    "        valores.append(cola.get(indice_tarea))\n",
    "    \n",
    "    return valores\n",
    "\n",
    "\n",
    "listado_instancias = []\n",
    "   \n",
    "    \n",
    "for tiempo_espera in range(1,espera + 1):\n",
    "  \n",
    "    instancia = Thread(name=f'ejecucion de tarea # {tiempo_espera}', target=dormir_sincrono, args=(tiempo_espera,))\n",
    "\n",
    "    instancia.start()\n",
    "    \n",
    "    listado_instancias.append(instancia)\n",
    "\n",
    "    \n",
    "for tipo_instancia in listado_instancias:    \n",
    "        tipo_instancia.join()\n",
    "        \n",
    "obtener_resultado_cola_tarea(almacenar_resultados)"
   ]
  },
  {
   "cell_type": "markdown",
   "id": "22abf4d5-ab73-437f-b020-94f155e6350c",
   "metadata": {},
   "source": [
    "# <center> EJECUCION **PROCESO**</center>\n",
    "## <center> Este módulo permite crear procesos (spawning) utilizando una API similar al módulo threading. ofrece concurrencia tanto local como remota. permite aprovechar al máximo múltiples procesadores en una máquina determinada."
   ]
  },
  {
   "cell_type": "code",
   "execution_count": 5,
   "id": "a313fc62-da70-461a-9529-1c7d487ec9b1",
   "metadata": {
    "scrolled": true,
    "tags": []
   },
   "outputs": [
    {
     "name": "stdout",
     "output_type": "stream",
     "text": [
      "corriendo tarea de tiempo 1\n",
      "corriendo tarea de tiempo 2\n",
      "corriendo tarea de tiempo corriendo tarea de tiempo corriendo tarea de tiempo3\n",
      "4 \n",
      "5\n",
      "CPU times: user 68.6 ms, sys: 74.1 ms, total: 143 ms\n",
      "Wall time: 5.2 s\n"
     ]
    },
    {
     "data": {
      "text/plain": [
       "[1, 2, 3, 4, 5]"
      ]
     },
     "execution_count": 5,
     "metadata": {},
     "output_type": "execute_result"
    }
   ],
   "source": [
    "%%time\n",
    "\n",
    "# importa las librerias que permiten usar la computacion paralela\n",
    "from multiprocessing import Process\n",
    "\n",
    "# libreria que permite guardar los valores retornados en una cola\n",
    "from multiprocessing import Queue as cola_multiproceso\n",
    "\n",
    "# instancia de la cola para adicionar los resultados\n",
    "almacenar_resultados_multiproceso = cola_multiproceso()\n",
    "\n",
    "def almacenar_en_cola_multiproceso(f):\n",
    "    def wrapper(*args):\n",
    "        almacenar_resultados_multiproceso.put(f(*args))\n",
    "    return wrapper\n",
    "\n",
    "@almacenar_en_cola_multiproceso\n",
    "def dormir_sincrono(tiempo):\n",
    "    print('corriendo tarea de tiempo',tiempo)\n",
    "    sleep(tiempo)\n",
    "    return tiempo\n",
    "\n",
    "def obtener_resultado_cola_tarea_while(cola):\n",
    "    \n",
    "    valores = []\n",
    "    while not cola.empty():\n",
    "        result = cola.get()\n",
    "        valores.append(result)    \n",
    "    return valores\n",
    "        \n",
    "\n",
    "listado_instancias = []\n",
    "\n",
    "for tiempo_espera in range(1,espera + 1):\n",
    "  \n",
    "    instancia = Process(name=f'ejecucion de tarea # {tiempo_espera}', target=dormir_sincrono, args=(tiempo_espera,))\n",
    "    instancia.start()\n",
    "    \n",
    "    listado_instancias.append(instancia)\n",
    "\n",
    "    \n",
    "for tipo_instancia in listado_instancias:    \n",
    "        tipo_instancia.join()\n",
    "\n",
    "\n",
    "obtener_resultado_cola_tarea_while(almacenar_resultados_multiproceso)"
   ]
  },
  {
   "cell_type": "markdown",
   "id": "3fd3d366-9230-427c-bd21-431544fb5e6b",
   "metadata": {},
   "source": [
    "# <center> EJECUCION 1800 TAREAS DE 2 SEGUNDOS, TOMARIA 1 HORA EN EJECUCION SINCRONA</center>"
   ]
  },
  {
   "cell_type": "markdown",
   "id": "4d88c222-fdc8-4e19-9228-675996855920",
   "metadata": {},
   "source": [
    "## <center> THREAD</center>"
   ]
  },
  {
   "cell_type": "code",
   "execution_count": 12,
   "id": "24eda81b-beff-487d-9fc9-8281acecbae0",
   "metadata": {
    "scrolled": true,
    "tags": []
   },
   "outputs": [
    {
     "name": "stdout",
     "output_type": "stream",
     "text": [
      "1800\n",
      "[634, 15, 1546, 1702, 1408, 211, 1561, 1488, 377, 638, 1690, 1510, 866, 995, 504, 1473, 250, 602, 1212, 577, 143, 603, 1506, 1340, 398, 1771, 745, 122, 1782, 1239, 439, 1461, 243, 477, 1567, 158, 1323, 1015, 279, 1586, 1395, 1259, 1108, 1478, 556, 69, 925, 1206, 1782, 204, 1577, 1613, 1288, 407, 1680, 619, 1148, 303, 1299, 1222, 702, 331, 1377, 357, 51, 2, 1283, 200, 839, 671, 828, 1642, 21, 373, 1721, 220, 444, 1415, 1314, 202, 577, 0, 173, 1028, 239, 917, 178, 1784, 535, 1544, 584, 836, 995, 468, 1134, 1338, 519, 1180, 1043, 165, 703, 1083, 1137, 189, 1007, 983, 960, 843, 518, 9, 842, 1776, 1747, 1521, 1180, 19, 467, 168, 1753, 1706, 1667, 1795, 1051, 1607, 744, 1629, 181, 1523, 1327, 1396, 661, 1794, 1300, 1154, 472, 1575, 97, 53, 69, 733, 1569, 1609, 1313, 925, 522, 479, 1646, 926, 361, 465, 1121, 630, 495, 725, 1668, 538, 1545, 1213, 190, 152, 235, 576, 1315, 1053, 898, 702, 848, 1223, 1504, 137, 276, 1021, 1550, 491, 1394, 481, 732, 1317, 160, 948, 1678, 277, 1676, 1259, 1309, 1372, 19, 454, 1296, 1292, 538, 819, 1169, 1526, 1627, 758, 448, 262, 1792, 679, 1476, 1764, 942, 840, 1711, 1344, 22, 1291, 367, 7, 662, 33, 1034, 453, 312, 1110, 408, 1450, 1262, 322, 500, 1447, 700, 941, 1469, 1255, 1125, 137, 573, 541, 104, 63, 1580, 1788, 1041, 1615, 1736, 605, 741, 924, 1726, 839, 712, 518, 633, 1276, 1712, 509, 1130, 1306, 336, 1383, 917, 1797, 1157, 1092, 1765, 931, 677, 485, 93, 231, 416, 1355, 1546, 1647, 858, 416, 640, 1149, 1152, 1632, 502, 1032, 261, 419, 603, 1503, 1510, 949, 33, 1401, 636, 1026, 1274, 691, 1286, 358, 157, 607, 832, 443, 1658, 1243, 485, 646, 480, 207, 609, 1759, 520, 375, 584, 755, 1313, 29, 243, 756, 1177, 245, 1375, 890, 965, 1315, 841, 1257, 1232, 563, 1494, 577, 1716, 1004, 357, 1083, 1583, 904, 1283, 1178, 15, 160, 349, 1784, 1670, 1786, 1442, 420, 1669, 1615, 806, 63, 241, 714, 752, 480, 546, 170, 540, 1024, 524, 586, 1447, 29, 931, 1339, 1646, 629, 1642, 1333, 490, 1723, 1756, 618, 1099, 1538, 489, 532, 398, 22, 358, 60, 662, 865, 1075, 710, 546, 997, 1665, 630, 1148, 323, 749, 455, 592, 63, 283, 1179, 1524, 854, 801, 1273, 1696, 126, 848, 1338, 1541, 688, 1379, 1135, 1413, 1170, 398, 1313, 1037, 1461, 1325, 1666, 986, 883, 1358, 806, 616, 1407, 1796, 1295, 1269, 959, 1368, 396, 457, 830, 430, 337, 1675, 226, 694, 196, 177, 196, 488, 27, 1570, 262, 668, 684, 1613, 483, 1616, 88, 1030, 1258, 798, 556, 599, 949, 788, 16, 1628, 271, 1398, 75, 187, 710, 1174, 53, 656, 144, 1625, 1318, 264, 1353, 712, 1146, 1006, 1189, 757, 1519, 1505, 1514, 933, 350, 302, 240, 212, 1660, 292, 351, 657, 1536, 597, 723, 1093, 1453, 851, 299, 1232, 977, 1454, 1417, 184, 1660, 660, 366, 123, 195, 1655, 1767, 549, 26, 1053, 1585, 1474, 157, 91, 150, 849, 1286, 31, 101, 312, 1428, 1497, 1756, 971, 1327, 1395, 1381, 1578, 1582, 1097, 1680, 416, 15, 1153, 455, 557, 719, 630, 1395, 400, 468, 634, 641, 388, 670, 805, 1343, 1162, 1304, 1574, 1135, 1701, 957, 1170, 1087, 1377, 613, 1517, 4, 648, 1540, 167, 1747, 1616, 487, 695, 455, 1097, 1483, 368, 549, 707, 425, 367, 76, 1711, 330, 1067, 273, 987, 294, 1778, 71, 1126, 1171, 1784, 600, 1386, 8, 1517, 420, 1748, 996, 1335, 457, 287, 612, 1724, 198, 1168, 709, 949, 544, 203, 1067, 1143, 301, 1626, 774, 112, 1778, 838, 1265, 609, 819, 1025, 10, 814, 1262, 1770, 1400, 1135, 667, 882, 288, 199, 1466, 1115, 1074, 738, 1428, 1467, 41, 537, 37, 1008, 1648, 1157, 146, 325, 679, 1113, 1513, 89, 762, 1644, 538, 1344, 219, 454, 804, 499, 1514, 1428, 189, 757, 361, 1459, 1336, 1217, 1009, 1297, 1127, 1595, 1371, 1525, 1129, 1327, 115, 489, 596, 1750, 459, 1046, 362, 1129, 1585, 286, 0, 133, 1019, 960, 1693, 1469, 971, 95, 1062, 1086, 284, 1615, 623, 842, 480, 605, 489, 1364, 1753, 1045, 752, 1780, 1368, 1148, 1412, 1097, 1626, 1635, 1475, 1254, 540, 728, 1554, 341, 1739, 1430, 190, 130, 979, 245, 458, 1268, 694, 402, 1798, 176, 1707, 1335, 435, 1594, 1757, 854, 329, 1521, 778, 1518, 578, 657, 815, 620, 1056, 100, 1784, 78, 1584, 1209, 1507, 624, 1002, 1360, 1744, 579, 1009, 895, 816, 1196, 53, 1573, 1236, 1279, 1489, 891, 1400, 659, 495, 833, 982, 167, 370, 952, 650, 867, 688, 714, 29, 1110, 42, 943, 1445, 190, 991, 130, 602, 218, 1718, 254, 1123, 210, 636, 666, 1099, 510, 1595, 1285, 1225, 322, 267, 1797, 1505, 53, 1560, 1301, 1049, 1350, 134, 328, 1179, 822, 1444, 870, 38, 1225, 695, 1217, 127, 1032, 1703, 1085, 1280, 1173, 757, 1634, 1533, 1414, 54, 402, 107, 84, 771, 472, 1257, 405, 1342, 1602, 1072, 1591, 273, 1516, 842, 68, 788, 601, 1584, 134, 1611, 1343, 512, 721, 1788, 400, 939, 1338, 1769, 300, 979, 1477, 907, 460, 457, 1567, 916, 1248, 11, 640, 1239, 1200, 1271, 449, 1236, 1695, 746, 815, 723, 581, 1524, 887, 924, 684, 494, 1213, 187, 1557, 1554, 1010, 1335, 58, 1756, 530, 584, 331, 237, 591, 1758, 640, 1294, 1207, 1024, 767, 886, 744, 1714, 1396, 1427, 402, 1670, 1035, 1446, 1499, 1744, 1368, 389, 456, 1243, 1279, 503, 1329, 944, 21, 1458, 1506, 60, 1725, 540, 1790, 1678, 1524, 1524, 1577, 1137, 1284, 75, 397, 1037, 1142, 95, 621, 6, 322, 272, 1789, 489, 1133, 933, 863, 1318, 233, 536, 513, 1266, 688, 1591, 1469, 1638, 374, 1471, 397, 1609, 678, 1075, 1555, 440, 881, 1391, 782, 1025, 595, 807, 447, 389, 1385, 1387, 502, 207, 284, 1118, 1066, 561, 1021, 756, 1330, 1341, 877, 112, 468, 596, 931, 1793, 575, 214, 756, 1395, 1258, 501, 795, 429, 1589, 621, 160, 163, 808, 718, 819, 175, 42, 550, 99, 1307, 315, 805, 691, 915, 908, 1159, 555, 148, 639, 112, 1363, 1764, 424, 35, 484, 1107, 132, 529, 1092, 1645, 1209, 948, 1693, 637, 1173, 870, 1006, 1138, 1366, 1059, 212, 1597, 943, 1782, 637, 476, 1601, 845, 1421, 1075, 1099, 1173, 365, 1359, 1781, 785, 1059, 561, 1431, 461, 602, 1361, 65, 1270, 1463, 1647, 340, 1755, 377, 1449, 1456, 64, 1558, 1388, 739, 306, 235, 404, 32, 1256, 344, 1091, 1586, 620, 418, 1300, 668, 56, 1626, 854, 1664, 1331, 925, 1318, 1704, 28, 902, 256, 315, 554, 1689, 11, 1619, 1529, 902, 262, 560, 741, 1057, 1706, 1493, 520, 132, 1156, 1746, 841, 1366, 864, 623, 7, 97, 1751, 1297, 697, 1506, 229, 94, 623, 629, 641, 779, 1066, 742, 262, 482, 958, 199, 176, 254, 936, 764, 72, 1492, 1640, 1097, 53, 1060, 901, 1696, 15, 1164, 507, 112, 91, 967, 1303, 10, 453, 252, 1418, 1672, 574, 1301, 488, 315, 1469, 797, 1262, 1199, 428, 138, 841, 1185, 292, 379, 161, 1671, 574, 1624, 948, 476, 1351, 1005, 1648, 1694, 143, 1610, 259, 1140, 627, 473, 1541, 1575, 490, 1324, 524, 676, 1004, 1689, 1719, 1690, 937, 1593, 709, 47, 1575, 1594, 1412, 1396, 800, 913, 193, 211, 126, 972, 1267, 837, 500, 1779, 552, 1083, 552, 14, 809, 490, 280, 2, 1584, 1145, 1059, 691, 1151, 1048, 1279, 1126, 774, 973, 1643, 166, 642, 742, 1225, 1180, 1075, 1447, 871, 1322, 133, 633, 1562, 552, 1579, 96, 1636, 772, 910, 1472, 1250, 927, 1009, 1400, 547, 921, 1383, 1532, 781, 1420, 795, 1312, 26, 1065, 1464, 1305, 366, 991, 254, 1688, 1101, 1428, 1495, 1146, 1454, 65, 28, 1680, 705, 1736, 127, 1093, 877, 814, 1064, 600, 1097, 1501, 1260, 1287, 1444, 1223, 1704, 1653, 915, 184, 1119, 1727, 672, 542, 822, 544, 246, 1721, 62, 864, 89, 1370, 1211, 739, 592, 244, 1409, 633, 447, 581, 664, 319, 1696, 1761, 1320, 483, 1512, 416, 778, 479, 57, 1003, 449, 1100, 1118, 1460, 1390, 826, 886, 446, 69, 547, 590, 1451, 457, 574, 356, 610, 1313, 45, 154, 992, 1309, 301, 313, 1279, 1417, 305, 450, 26, 920, 1020, 491, 677, 47, 625, 748, 1574, 768, 1367, 1649, 476, 546, 991, 148, 656, 1496, 1497, 872, 261, 359, 1094, 1307, 767, 1782, 224, 302, 572, 1566, 1043, 612, 1514, 1453, 786, 1515, 36, 221, 518, 612, 1291, 515, 1195, 1751, 1173, 640, 552, 1316, 104, 858, 237, 87, 598, 1694, 367, 1717, 967, 12, 756, 1615, 117, 774, 952, 623, 338, 1138, 1362, 1182, 1317, 1523, 1093, 477, 1512, 6, 1693, 234, 220, 1227, 1189, 1326, 463, 267, 1648, 1143, 612, 251, 152, 798, 308, 1237, 1041, 1363, 1076, 766, 1752, 550, 1654, 1131, 539, 1442, 248, 1258, 1117, 1159, 305, 306, 900, 1030, 426, 133, 1610, 1031, 709, 1460, 1570, 1536, 98, 107, 1260, 358, 75, 678, 256, 1392, 961, 12, 765, 506, 177, 183, 39, 43, 1161, 1041, 1050, 1081, 508, 468, 486, 1754, 206, 1006, 258, 634, 379, 1230, 1637, 932, 412, 1157, 426, 94, 42, 455, 1634, 1382, 684, 1567, 586, 727, 959, 1579, 943, 1159, 1614, 1070, 416, 431, 1612, 218, 815, 464, 577, 650, 1209, 1632, 33, 1563, 1692, 923, 637, 273, 500, 996, 1670, 823, 1270, 539, 1406, 711, 506, 50, 62, 1677, 518, 1198, 148, 1043, 1542, 1759, 31, 702, 502, 237, 682, 1454, 1102, 852, 1349, 85, 56, 1357, 37, 802, 1650, 1180, 154, 24, 1413, 1133, 505, 631, 305, 482, 1290, 1199, 469, 308, 1127, 735, 1597, 109, 200, 1720, 854, 944, 265, 553, 1063, 156, 1676, 759, 1225, 980, 1185, 861, 860, 1516, 1216, 1412, 1755, 29, 473, 1458, 1497, 982, 1755, 799, 840, 886, 1224, 1194, 945, 199, 1485, 433, 887, 939, 94, 1436, 234, 351, 384, 520, 894, 1180, 301, 1799, 464, 553, 118, 940, 822, 145, 1342, 1607, 1127, 1518, 177, 350, 1466, 195, 1316, 1474, 848, 292, 769, 1472, 573, 1347, 1458, 191, 818, 489, 301, 515, 258, 1512, 1390, 768, 1406, 206, 35, 772, 878, 1136, 1095, 1520, 1190, 1125, 1602, 1578, 1277, 1585, 1187, 1384, 520, 515, 283, 822, 428, 27, 1402, 1653, 1157, 68, 1139, 848, 1174, 576, 842, 838, 1369, 425, 204, 933, 126, 1330, 1560, 394, 1349, 1409, 582, 1432, 501, 670, 1677, 436, 643, 1542, 748, 859, 655, 678, 768, 281, 759, 1725, 1030, 1785, 1452, 641, 964, 665, 1052, 917, 1162, 174, 1370, 869, 1393, 1197, 1445, 739, 1088, 315, 1360, 1153, 1205, 1402, 1703, 424, 772, 1288, 148, 361, 19, 391, 885, 1529, 1193, 298, 59, 1050, 1665, 945, 408, 1591, 1362, 759, 769, 590, 156, 253, 582, 1700, 1518, 612, 946, 723, 1416, 1512, 820, 1156, 827, 179, 694, 140, 922, 598, 302, 1236, 1267, 1258, 797, 1316, 834, 1255, 363, 1106, 1782, 604, 756, 585, 1297, 1624, 1157, 868, 645, 792, 693, 243, 1735, 975]\n",
      "CPU times: user 764 ms, sys: 497 ms, total: 1.26 s\n",
      "Wall time: 2.54 s\n"
     ]
    }
   ],
   "source": [
    "%%time\n",
    "\n",
    "import random\n",
    "\n",
    "limite_tareas = 1800\n",
    "\n",
    "almacenar_resultados = cola_classica()\n",
    "listado_instancias = []\n",
    "\n",
    "@almacenar_en_cola\n",
    "def dormir_sincrono(tiempo:int) -> str:    \n",
    "    sleep(tiempo)\n",
    "    return random.randint(0,limite_tareas)\n",
    "\n",
    "    \n",
    "for tiempo_espera in range(limite_tareas):\n",
    "  \n",
    "    instancia = Thread(name=f'ejecucion de tarea # {tiempo_espera}', target=dormir_sincrono, args=(2,))\n",
    "\n",
    "    instancia.start()\n",
    "    \n",
    "    listado_instancias.append(instancia)\n",
    "\n",
    "    \n",
    "for tipo_instancia in listado_instancias:    \n",
    "        tipo_instancia.join()\n",
    "\n",
    "resultado = obtener_resultado_cola_tarea(almacenar_resultados)\n",
    "print(len(resultado))\n",
    "print(resultado)"
   ]
  },
  {
   "cell_type": "markdown",
   "id": "6ee6f248-5ad2-45fc-99cc-594952393fed",
   "metadata": {},
   "source": [
    "## <center> PROCESS</center>"
   ]
  },
  {
   "cell_type": "code",
   "execution_count": 13,
   "id": "3cec45be-bd0a-4739-8356-1f81abef809f",
   "metadata": {
    "scrolled": true,
    "tags": []
   },
   "outputs": [
    {
     "name": "stdout",
     "output_type": "stream",
     "text": [
      "1800\n",
      "[18, 145, 945, 456, 64, 1342, 1228, 1194, 575, 1319, 1049, 1642, 1158, 1493, 527, 1084, 1317, 1402, 712, 263, 1187, 1684, 247, 1554, 488, 337, 97, 219, 187, 1443, 484, 130, 446, 1312, 1408, 1335, 441, 1362, 22, 673, 1054, 1221, 1534, 394, 160, 92, 264, 165, 1176, 758, 1771, 926, 70, 1075, 1220, 1088, 588, 348, 1296, 177, 236, 1562, 365, 917, 424, 14, 438, 1760, 886, 315, 572, 1234, 1507, 585, 1122, 1595, 320, 29, 298, 1519, 421, 256, 1407, 807, 1525, 1565, 1782, 1197, 55, 827, 864, 1084, 221, 923, 1057, 1762, 1179, 1486, 1558, 1444, 1434, 635, 1587, 74, 1737, 893, 255, 1552, 258, 650, 1756, 1006, 1502, 870, 673, 209, 979, 113, 1411, 632, 1668, 1061, 1371, 824, 774, 491, 1548, 57, 998, 103, 1736, 538, 1761, 571, 1058, 1071, 583, 78, 525, 549, 935, 567, 435, 763, 797, 1313, 994, 61, 698, 533, 1772, 619, 1308, 635, 1127, 1228, 966, 1493, 590, 1447, 985, 370, 577, 903, 834, 644, 1729, 1556, 270, 1360, 22, 32, 1038, 1168, 1754, 1163, 222, 1773, 810, 391, 62, 1530, 1528, 1448, 920, 90, 951, 1074, 802, 1716, 414, 367, 811, 983, 797, 157, 39, 947, 1591, 219, 536, 1127, 1500, 1585, 247, 1239, 1417, 774, 226, 1126, 471, 1553, 1213, 111, 893, 1672, 203, 434, 697, 1386, 797, 1359, 1695, 723, 1087, 1124, 295, 24, 1054, 11, 1309, 656, 1503, 260, 622, 1244, 1597, 722, 1314, 1466, 1362, 390, 374, 1712, 940, 1229, 1277, 1224, 1555, 1637, 459, 1135, 296, 599, 1405, 485, 950, 1013, 16, 1784, 1725, 1350, 1576, 489, 866, 406, 272, 1718, 542, 1698, 6, 1534, 556, 279, 1691, 1336, 1510, 1371, 405, 1047, 1141, 232, 1493, 1661, 1109, 362, 697, 1778, 1672, 1507, 85, 17, 1518, 1556, 248, 626, 1058, 273, 208, 169, 573, 1664, 1679, 1411, 639, 876, 407, 1326, 81, 1261, 1586, 1246, 1780, 107, 534, 33, 1096, 1527, 1785, 62, 1626, 966, 1521, 1240, 1648, 1799, 19, 97, 1184, 314, 91, 917, 1704, 537, 351, 852, 1473, 137, 552, 1653, 1043, 717, 1268, 550, 586, 1506, 112, 1719, 1083, 1017, 1434, 673, 1052, 816, 489, 1000, 268, 333, 1481, 168, 537, 540, 110, 939, 93, 36, 975, 626, 1561, 652, 1053, 1509, 1680, 1443, 86, 1656, 1090, 472, 468, 17, 610, 1361, 601, 109, 549, 690, 969, 255, 359, 147, 1591, 558, 930, 323, 56, 643, 115, 340, 643, 1715, 203, 1160, 639, 1179, 901, 312, 1645, 1272, 1100, 40, 2, 231, 312, 462, 501, 183, 1088, 671, 1778, 439, 1479, 1663, 1516, 739, 1353, 1778, 253, 1796, 412, 625, 1375, 1227, 725, 550, 576, 606, 1655, 496, 713, 1495, 514, 1225, 733, 1653, 1250, 1427, 1080, 1181, 1284, 691, 386, 199, 229, 1045, 647, 1465, 376, 1324, 1389, 522, 497, 913, 1575, 1066, 829, 1602, 414, 12, 1422, 1072, 999, 1628, 1676, 1639, 154, 1507, 968, 1, 394, 0, 543, 1173, 717, 682, 515, 712, 1528, 106, 1207, 174, 447, 1697, 1462, 1248, 595, 805, 490, 131, 243, 605, 483, 146, 194, 391, 81, 807, 1600, 388, 324, 1799, 1704, 371, 1411, 600, 899, 1175, 417, 1057, 579, 1168, 1780, 1363, 1796, 1622, 226, 526, 1347, 1083, 494, 1788, 1135, 1342, 49, 1333, 644, 677, 1167, 864, 319, 986, 1565, 969, 403, 650, 488, 1669, 805, 1002, 44, 214, 176, 991, 1594, 1156, 684, 113, 1000, 749, 480, 1710, 531, 1602, 1439, 914, 376, 1018, 1420, 1292, 554, 33, 975, 1566, 1194, 894, 1300, 1429, 538, 808, 1023, 309, 1231, 1786, 1656, 949, 1510, 1395, 727, 1233, 1410, 190, 1257, 757, 963, 322, 169, 679, 55, 1164, 126, 545, 1052, 1182, 852, 1036, 695, 86, 178, 1547, 1661, 1259, 33, 639, 1486, 1674, 650, 1359, 1243, 677, 1196, 68, 174, 1530, 593, 1177, 964, 708, 382, 836, 914, 1419, 1398, 1309, 1641, 1547, 1223, 1314, 192, 463, 1231, 12, 770, 51, 604, 1433, 253, 413, 1093, 1720, 1743, 1043, 605, 278, 844, 1338, 1098, 722, 209, 353, 1698, 905, 1321, 1253, 178, 697, 285, 1392, 1298, 595, 1232, 1517, 619, 1031, 1496, 246, 189, 1261, 751, 419, 258, 968, 890, 254, 1091, 166, 1207, 669, 871, 292, 961, 404, 106, 1800, 53, 1089, 1601, 1703, 1137, 536, 981, 1746, 887, 255, 1196, 882, 75, 1503, 1663, 641, 975, 871, 159, 1364, 1337, 1419, 1025, 224, 502, 658, 758, 1295, 180, 482, 247, 1343, 1156, 511, 269, 1430, 1343, 807, 389, 59, 1196, 671, 1543, 1485, 373, 789, 1643, 226, 1031, 818, 817, 33, 1259, 1710, 1297, 179, 552, 172, 1050, 220, 50, 848, 1721, 1605, 1211, 934, 1433, 67, 743, 576, 1056, 889, 514, 636, 1638, 617, 1303, 795, 874, 1513, 1452, 604, 1077, 813, 1425, 918, 525, 1662, 1022, 666, 800, 1537, 583, 291, 114, 278, 579, 917, 537, 1436, 697, 678, 1652, 1559, 1685, 1042, 315, 1019, 308, 1445, 1182, 1607, 824, 1367, 508, 129, 1784, 1191, 219, 11, 1358, 1327, 551, 108, 1102, 1710, 964, 62, 1780, 623, 971, 1082, 425, 892, 711, 1422, 30, 472, 1484, 7, 460, 1003, 361, 565, 1166, 1206, 174, 199, 379, 172, 1515, 1324, 1494, 653, 1084, 1446, 453, 804, 1531, 714, 1052, 369, 627, 1283, 1497, 45, 296, 884, 610, 303, 72, 1340, 1353, 484, 15, 766, 1299, 1519, 794, 1398, 1681, 203, 1088, 95, 571, 1264, 229, 1489, 1134, 981, 1128, 1090, 941, 55, 419, 415, 1262, 1507, 1321, 698, 1458, 1154, 654, 1325, 576, 354, 1040, 1742, 1310, 146, 708, 967, 1733, 650, 638, 81, 184, 1358, 674, 298, 907, 1782, 1252, 222, 1192, 789, 1025, 213, 628, 770, 1424, 712, 1036, 1511, 115, 1305, 456, 274, 1263, 409, 1237, 1710, 1048, 1368, 524, 440, 1121, 1793, 734, 138, 1575, 1659, 463, 1417, 397, 1294, 1747, 684, 467, 644, 342, 996, 44, 940, 1268, 823, 1654, 1443, 981, 48, 95, 1195, 1267, 529, 531, 1394, 758, 1699, 1427, 11, 167, 671, 681, 851, 1180, 1170, 260, 483, 1639, 66, 1755, 793, 1049, 1581, 29, 729, 1094, 1098, 1328, 1070, 1364, 1262, 1427, 267, 19, 331, 750, 490, 1129, 3, 318, 535, 943, 512, 827, 352, 285, 221, 1039, 418, 1041, 191, 711, 913, 1676, 834, 1778, 88, 509, 1245, 1548, 709, 1097, 1300, 507, 668, 1663, 1792, 306, 863, 859, 1433, 792, 125, 1129, 759, 1183, 614, 586, 424, 58, 1070, 672, 926, 1649, 605, 1078, 1185, 488, 1626, 118, 1392, 304, 642, 83, 959, 1645, 902, 62, 1563, 1639, 812, 1623, 973, 756, 1664, 1175, 1019, 1299, 1046, 998, 756, 652, 1562, 1587, 1299, 425, 1152, 1321, 1107, 563, 606, 1215, 1462, 940, 830, 294, 773, 390, 880, 795, 1599, 696, 1309, 628, 121, 424, 1506, 509, 248, 1599, 622, 10, 414, 771, 791, 1391, 406, 502, 738, 712, 604, 414, 56, 578, 1619, 127, 200, 570, 1140, 1339, 1584, 649, 341, 1060, 972, 1103, 492, 293, 1317, 900, 1399, 1249, 511, 881, 602, 1716, 914, 1473, 1457, 1116, 500, 1422, 592, 1154, 701, 20, 261, 151, 696, 1076, 414, 202, 187, 284, 721, 1699, 1124, 1602, 646, 1662, 912, 1767, 1338, 863, 1757, 1676, 917, 492, 314, 1716, 1481, 1251, 1670, 65, 678, 1642, 279, 934, 310, 102, 454, 1056, 225, 588, 419, 1618, 146, 406, 1773, 1606, 694, 993, 1643, 1285, 814, 209, 880, 1205, 1762, 1309, 1283, 275, 138, 46, 1790, 1760, 993, 1071, 986, 1165, 265, 382, 1355, 1004, 1151, 1333, 1118, 1263, 1399, 154, 1786, 69, 1006, 360, 809, 476, 857, 1673, 1364, 852, 1640, 689, 1145, 1743, 336, 1734, 1177, 963, 1100, 533, 551, 1790, 1129, 430, 649, 1457, 1709, 1391, 779, 1215, 361, 149, 242, 763, 167, 5, 931, 353, 1223, 260, 561, 344, 242, 1631, 49, 736, 618, 1048, 764, 145, 148, 1698, 1350, 961, 163, 232, 1610, 1314, 290, 1279, 1276, 109, 1767, 1012, 1426, 1171, 1372, 486, 775, 476, 870, 1093, 742, 1020, 986, 167, 332, 1547, 224, 749, 1276, 849, 96, 471, 440, 385, 106, 21, 1539, 1457, 1615, 113, 84, 1294, 793, 1290, 406, 1586, 1229, 1711, 1151, 1482, 1546, 747, 210, 1483, 950, 832, 1434, 107, 684, 1136, 1377, 1778, 1771, 732, 1624, 1703, 651, 513, 106, 177, 1107, 986, 331, 172, 1796, 1162, 422, 1448, 1503, 86, 1503, 1353, 259, 1134, 1644, 1395, 585, 1132, 1136, 1139, 761, 1202, 150, 811, 1728, 1597, 15, 427, 270, 762, 343, 527, 1571, 158, 190, 646, 476, 473, 853, 1427, 1604, 1190, 990, 1192, 1708, 1601, 1303, 1319, 1002, 965, 1186, 1723, 1227, 1108, 801, 454, 94, 238, 1029, 1337, 493, 503, 1591, 1201, 1617, 1464, 1146, 277, 1406, 1684, 1719, 756, 1628, 300, 1266, 317, 1366, 278, 1002, 288, 1198, 1799, 1524, 1107, 805, 1270, 1177, 106, 633, 1333, 431, 812, 98, 1752, 1487, 1063, 101, 1017, 33, 413, 1193, 764, 372, 993, 701, 471, 334, 1120, 649, 1176, 853, 759, 1552, 566, 808, 931, 811, 956, 656, 1409, 295, 393, 503, 103, 1057, 1124, 729, 1475, 148, 1505, 924, 636, 1036, 846, 1193, 1197, 1235, 870, 1491, 283, 1074, 181, 49, 637, 1281, 1525, 1194, 1473, 1242, 147, 1402, 1688, 1036, 454, 1076, 841, 1573, 1229, 1780, 902, 1707, 604, 1176, 1005, 315, 1747, 592, 1234, 1011, 1037, 250, 495, 972, 1790, 1171, 1437, 912, 302, 359, 1394, 693, 49, 1000, 1714, 524, 1277, 151, 781, 1307, 390, 1521, 477, 7, 257, 475, 1298, 1581, 180, 720, 791, 305, 586, 1718, 667, 268, 1448, 1165, 1400, 465, 1491, 663, 856, 1246, 1672, 1529, 934, 12, 174, 376, 1080, 1346, 956, 208, 507, 1636, 197, 94, 279, 803, 699, 611, 1523, 391, 1256, 1734, 985, 1202, 1416, 1770, 821, 410, 414, 812, 836, 417, 99, 773, 923, 1613, 1272, 309, 246, 844, 1021, 904, 1420, 1333, 1461, 28, 1666, 204, 1172, 51, 1343, 1316, 795, 782, 1312, 1540, 434, 891, 285, 1665, 1232, 192, 169, 219, 1239, 794, 1461, 514, 779, 1190, 1211, 1467, 403, 885, 834, 220, 509, 453, 1619, 669, 277, 257, 505, 579, 141, 1572, 436, 25, 609, 973, 58, 358, 31, 1342, 1320, 1591, 641, 994, 1784, 651, 1065, 569, 1080, 1512, 1473, 764, 996, 1207, 173, 1401, 198, 1270, 220, 41, 727, 1506, 208, 1409, 1165, 1401, 687, 652, 1636, 544, 548, 389, 773, 556, 658, 1677, 1248, 971, 318, 1111, 1265, 493, 1795, 1609, 1287, 153, 136, 916, 405, 84, 806, 170, 1231, 1681, 628, 1673, 1035, 296, 605, 266, 15, 909, 845, 326, 1185, 224, 721, 1328, 522, 706, 107, 1628, 367, 1620, 197, 900, 1097, 1737, 1481, 1698, 444, 216, 670, 1238, 1448, 1097, 377, 782, 475, 924, 651, 1251, 367, 1649, 1253, 1103, 663, 1368, 1071, 733, 827, 1374, 1717, 1050, 788, 1712, 1315, 323, 594, 1147, 1717, 190, 270, 255, 911, 216, 1524, 628, 1722, 206, 795, 649, 403, 1795, 934, 1068, 1714, 50, 898, 35, 460, 558, 1673, 886, 407, 795, 1305, 629, 1424, 1018, 1639, 810, 969, 1339, 726, 1522, 413, 995]\n",
      "CPU times: user 3.74 s, sys: 11.6 s, total: 15.3 s\n",
      "Wall time: 16.3 s\n"
     ]
    }
   ],
   "source": [
    "%%time\n",
    "\n",
    "# instancia de la cola para adicionar los resultados\n",
    "almacenar_resultados_multiproceso = cola_multiproceso()\n",
    "listado_instancias = []\n",
    "\n",
    "\n",
    "@almacenar_en_cola_multiproceso\n",
    "def dormir_sincrono(tiempo:int) -> str:    \n",
    "    sleep(tiempo)\n",
    "    return random.randint(0,limite_tareas)\n",
    "        \n",
    "\n",
    "for tiempo_espera in range(limite_tareas):\n",
    "  \n",
    "    instancia = Process(name=f'ejecucion de tarea # {tiempo_espera}', target=dormir_sincrono, args=(2,))\n",
    "    instancia.start()\n",
    "    \n",
    "    listado_instancias.append(instancia)\n",
    "\n",
    "    \n",
    "for tipo_instancia in listado_instancias:    \n",
    "        tipo_instancia.join()\n",
    "\n",
    "resultado = obtener_resultado_cola_tarea_while(almacenar_resultados_multiproceso)\n",
    "print(len(resultado))\n",
    "print(resultado)"
   ]
  },
  {
   "cell_type": "markdown",
   "id": "50e1425c-d3bc-495d-ab3b-64beb6f144ce",
   "metadata": {},
   "source": [
    "## <center> ASYNCHRONOUS</center>"
   ]
  },
  {
   "cell_type": "code",
   "execution_count": 15,
   "id": "b4644332-ea14-440c-a679-e10e8ea0b8fc",
   "metadata": {
    "scrolled": true,
    "tags": []
   },
   "outputs": [
    {
     "name": "stdout",
     "output_type": "stream",
     "text": [
      "2\n",
      "1800\n",
      "[263, 1364, 1398, 389, 1656, 146, 700, 764, 1134, 15, 1069, 1515, 1382, 1061, 357, 1517, 656, 256, 548, 449, 1418, 694, 948, 509, 1464, 1236, 774, 1122, 1151, 103, 1026, 1648, 942, 515, 194, 1454, 1758, 593, 1080, 1072, 800, 887, 86, 1461, 731, 165, 908, 318, 168, 1468, 1780, 1721, 641, 173, 161, 48, 313, 1423, 568, 349, 1118, 252, 322, 1379, 1676, 764, 425, 1077, 495, 140, 758, 175, 559, 113, 257, 820, 1502, 311, 1553, 1658, 1523, 1703, 1553, 1075, 263, 407, 528, 937, 1348, 820, 1152, 473, 796, 996, 1650, 127, 362, 1486, 1540, 1356, 1298, 616, 1734, 822, 1797, 1635, 224, 674, 1381, 628, 1452, 1558, 1229, 1505, 88, 745, 776, 1740, 1541, 609, 125, 978, 943, 1014, 1226, 68, 1490, 132, 440, 0, 1217, 610, 1259, 1697, 612, 1343, 120, 243, 1276, 1626, 1195, 1355, 136, 651, 341, 252, 988, 423, 1034, 532, 627, 1125, 1057, 1133, 114, 731, 318, 1312, 475, 1186, 973, 1176, 844, 1215, 16, 231, 446, 989, 752, 1791, 504, 899, 805, 131, 1121, 103, 14, 395, 951, 1680, 263, 508, 387, 274, 498, 587, 353, 1340, 1134, 1380, 1449, 660, 705, 530, 844, 1692, 1503, 228, 1224, 1311, 917, 1301, 1072, 1261, 1708, 1627, 797, 794, 1417, 1544, 65, 379, 1275, 323, 1451, 1674, 245, 1339, 1690, 1186, 958, 1682, 197, 1030, 1257, 600, 302, 1443, 434, 34, 1063, 183, 103, 1744, 1770, 1252, 338, 1288, 1788, 599, 1765, 1080, 706, 355, 207, 1040, 509, 813, 154, 1649, 1097, 670, 629, 1668, 931, 232, 1175, 1052, 1121, 1473, 92, 1070, 277, 637, 202, 1328, 997, 1125, 1287, 1713, 1296, 199, 303, 760, 1411, 225, 572, 1309, 610, 973, 645, 566, 1397, 1159, 1686, 1022, 1224, 89, 103, 1537, 599, 1623, 1430, 1509, 743, 130, 370, 23, 58, 1194, 523, 1619, 1685, 672, 598, 720, 1489, 65, 120, 621, 523, 1738, 530, 688, 165, 1098, 331, 1522, 1687, 294, 28, 684, 276, 455, 436, 1369, 1703, 717, 1309, 202, 1252, 1631, 857, 535, 114, 1431, 376, 1719, 952, 589, 1575, 1459, 1730, 696, 1489, 858, 320, 551, 695, 956, 1189, 364, 394, 726, 538, 1696, 891, 1137, 3, 1405, 540, 1485, 406, 816, 1417, 37, 1675, 594, 1148, 511, 1338, 792, 75, 512, 338, 410, 11, 28, 1273, 1380, 1606, 927, 154, 1077, 814, 382, 175, 441, 1600, 611, 811, 1343, 1527, 1231, 699, 855, 145, 1006, 1476, 955, 950, 716, 1614, 119, 639, 1294, 233, 634, 554, 796, 239, 765, 1282, 1563, 770, 1780, 1116, 186, 769, 332, 1734, 517, 1116, 61, 180, 314, 150, 1587, 1407, 552, 1457, 1150, 1332, 167, 1445, 336, 1700, 1042, 604, 844, 1764, 1012, 1722, 229, 125, 243, 256, 373, 89, 553, 353, 1741, 1300, 1552, 1111, 732, 1031, 224, 492, 982, 627, 497, 146, 863, 1109, 486, 913, 1211, 1351, 608, 1595, 1231, 1553, 540, 1081, 850, 1259, 1791, 1471, 1750, 85, 1310, 905, 1036, 724, 1782, 1418, 515, 282, 1198, 1580, 1661, 588, 100, 261, 1154, 1595, 709, 866, 578, 660, 463, 824, 1438, 329, 1225, 1290, 1676, 1002, 1140, 936, 22, 339, 909, 745, 86, 852, 724, 990, 818, 369, 1091, 1023, 1372, 1542, 719, 1433, 1499, 1500, 629, 553, 857, 1694, 601, 642, 1164, 962, 348, 109, 1529, 1490, 1610, 802, 893, 671, 374, 1402, 854, 95, 145, 759, 1725, 622, 1540, 784, 1145, 1165, 1398, 1551, 470, 685, 250, 854, 1444, 1604, 1103, 1308, 909, 995, 1237, 970, 1680, 51, 306, 1576, 835, 1745, 21, 1237, 442, 1091, 595, 327, 1695, 1768, 1493, 198, 5, 892, 1352, 909, 71, 861, 1015, 390, 1241, 503, 728, 449, 476, 399, 1761, 1365, 833, 375, 417, 1286, 317, 1485, 637, 1564, 1755, 973, 1098, 206, 1731, 897, 947, 1671, 1390, 199, 239, 337, 1128, 698, 1798, 244, 1244, 266, 579, 1556, 1728, 1602, 1110, 71, 1451, 589, 353, 657, 676, 777, 1704, 736, 727, 401, 407, 1109, 115, 856, 401, 1214, 1759, 457, 103, 1298, 1440, 1340, 1100, 1457, 977, 303, 1492, 1102, 382, 1330, 621, 173, 1200, 1229, 737, 1158, 1360, 426, 1571, 1556, 1289, 1778, 827, 515, 1793, 1280, 966, 456, 696, 437, 14, 619, 1484, 670, 1230, 21, 1505, 1536, 1687, 1442, 820, 1351, 1604, 1052, 1003, 1415, 1426, 339, 1621, 394, 1113, 666, 1282, 431, 290, 729, 1496, 419, 638, 593, 823, 512, 1301, 845, 1202, 657, 154, 1677, 1287, 41, 1080, 1245, 1379, 365, 1535, 516, 883, 870, 1654, 464, 994, 59, 113, 1156, 1622, 353, 252, 627, 1510, 1094, 1733, 1531, 93, 960, 1723, 567, 669, 33, 685, 582, 668, 171, 1183, 1739, 187, 13, 1154, 867, 1521, 938, 405, 1637, 1705, 1462, 332, 886, 335, 23, 27, 689, 1202, 152, 106, 1079, 1084, 1564, 1013, 471, 568, 976, 1504, 1313, 672, 440, 1206, 1047, 1610, 1124, 305, 953, 645, 1038, 1298, 1230, 657, 492, 962, 1135, 1502, 1360, 525, 76, 347, 619, 1617, 1614, 506, 1283, 109, 816, 509, 393, 595, 1459, 1315, 1227, 1328, 241, 940, 429, 919, 1349, 1368, 313, 11, 529, 1456, 746, 1058, 120, 144, 1734, 1241, 571, 81, 356, 1305, 12, 802, 257, 390, 1000, 335, 1126, 576, 896, 292, 620, 577, 458, 995, 1666, 1418, 903, 1795, 1408, 1240, 1525, 1780, 54, 928, 820, 964, 1332, 129, 965, 1193, 470, 1139, 955, 825, 419, 528, 1398, 1206, 1210, 1523, 6, 874, 784, 534, 395, 756, 69, 1493, 317, 113, 637, 1282, 1723, 747, 852, 16, 1056, 1664, 182, 1179, 673, 479, 215, 1581, 1533, 308, 1159, 1339, 1467, 488, 779, 781, 450, 711, 1787, 1776, 144, 1375, 775, 1018, 1588, 1298, 1176, 761, 346, 250, 1427, 111, 1239, 804, 13, 1769, 273, 219, 825, 237, 553, 1202, 430, 869, 1302, 548, 307, 447, 1258, 236, 1193, 928, 1045, 567, 1797, 1093, 16, 385, 1046, 156, 554, 497, 147, 1487, 370, 1173, 408, 760, 426, 1277, 1178, 1031, 962, 470, 645, 1104, 157, 1505, 433, 682, 700, 574, 1746, 177, 1156, 1580, 373, 1683, 1240, 1725, 1704, 1756, 1720, 461, 546, 31, 1499, 984, 916, 1505, 991, 1084, 965, 193, 1639, 647, 804, 1183, 412, 795, 891, 1769, 860, 1626, 264, 701, 961, 1760, 819, 719, 171, 1442, 1599, 840, 327, 649, 1058, 180, 1615, 154, 1151, 152, 836, 1163, 39, 166, 342, 675, 504, 1626, 803, 1369, 343, 365, 1182, 529, 340, 1219, 343, 885, 1235, 81, 1155, 1654, 602, 1278, 1054, 1752, 682, 1751, 1133, 1553, 1560, 495, 1650, 645, 1181, 1621, 1309, 1616, 486, 730, 1092, 1138, 1569, 623, 258, 1074, 1335, 1621, 751, 1698, 1660, 370, 1146, 1086, 556, 530, 1650, 1012, 177, 532, 1530, 333, 824, 834, 1447, 793, 852, 105, 1471, 1785, 359, 66, 1081, 470, 731, 46, 567, 1055, 1004, 1255, 1545, 1791, 53, 1260, 1658, 1001, 1148, 855, 1611, 734, 410, 19, 927, 446, 192, 1086, 1050, 1757, 1376, 1204, 697, 1527, 876, 1668, 646, 207, 594, 1575, 1335, 234, 525, 1466, 1031, 1462, 575, 1547, 919, 1508, 723, 504, 757, 1087, 376, 332, 1078, 327, 594, 571, 22, 312, 524, 1279, 1649, 1223, 1718, 306, 1460, 193, 214, 1420, 1080, 149, 1224, 1528, 1788, 819, 657, 553, 1528, 1544, 1232, 745, 1347, 652, 132, 238, 812, 927, 585, 1382, 539, 552, 1012, 124, 1530, 1072, 507, 209, 1416, 791, 379, 1625, 70, 1277, 1644, 464, 1579, 1596, 826, 848, 157, 334, 163, 1585, 1157, 963, 133, 994, 597, 619, 122, 752, 365, 608, 1638, 1513, 1169, 1732, 0, 259, 860, 5, 636, 247, 597, 1096, 323, 1751, 1759, 1096, 1572, 975, 1007, 508, 101, 1793, 1377, 191, 1114, 1215, 126, 928, 828, 198, 1210, 890, 394, 1472, 426, 1729, 1212, 230, 1408, 1238, 894, 754, 5, 527, 413, 617, 1431, 62, 1101, 398, 1707, 246, 1445, 1448, 288, 1215, 489, 1724, 1150, 893, 392, 1631, 436, 238, 1119, 302, 1111, 680, 216, 1380, 1044, 823, 1071, 408, 752, 51, 620, 870, 18, 92, 1415, 1414, 1105, 1735, 152, 1479, 756, 290, 1661, 1633, 655, 293, 634, 742, 1182, 1056, 1316, 580, 152, 987, 983, 425, 766, 1684, 348, 987, 460, 1130, 1731, 1029, 1515, 1017, 461, 647, 978, 648, 707, 517, 265, 354, 332, 513, 855, 1634, 1223, 515, 1358, 369, 108, 893, 894, 1149, 1106, 947, 164, 694, 1554, 1297, 818, 1540, 1761, 1584, 834, 1700, 808, 787, 1743, 1013, 1484, 1270, 1113, 1426, 783, 610, 1672, 849, 721, 237, 609, 779, 1412, 824, 1505, 407, 155, 142, 915, 1757, 1007, 836, 245, 547, 590, 770, 12, 691, 473, 1697, 832, 765, 510, 385, 1669, 1714, 1466, 642, 986, 1388, 728, 989, 380, 1341, 259, 1559, 1293, 801, 1800, 1773, 1468, 485, 1254, 1375, 40, 810, 1468, 1377, 1690, 78, 1088, 1010, 1733, 1228, 610, 1731, 591, 225, 330, 322, 174, 1518, 1310, 1445, 581, 1541, 1650, 1682, 346, 1201, 191, 47, 1482, 1548, 1686, 475, 1071, 858, 1066, 1056, 1505, 697, 549, 846, 1213, 202, 699, 1156, 1074, 872, 996, 300, 787, 206, 9, 1065, 810, 1599, 1087, 313, 635, 1791, 23, 551, 1389, 1408, 695, 964, 1449, 343, 298, 786, 742, 302, 53, 1209, 7, 1195, 768, 1767, 1591, 1176, 191, 1201, 1681, 789, 390, 161, 1247, 445, 30, 587, 4, 1474, 1386, 1788, 1438, 1294, 447, 496, 1698, 935, 1350, 75, 840, 736, 1736, 722, 1459, 1015, 892, 207, 652, 452, 1612, 947, 1753, 1238, 91, 233, 920, 1299, 1424, 1073, 471, 138, 1675, 999, 1616, 1603, 473, 684, 1295, 1080, 1407, 984, 287, 1749, 1252, 533, 398, 61, 1615, 1357, 1795, 761, 468, 904, 242, 374, 774, 1480, 809, 983, 1607, 1021, 265, 395, 195, 1161, 162, 1272, 786, 600, 840, 346, 1518, 49, 65, 881, 412, 548, 1004, 986, 837, 1332, 481, 1341, 1397, 508, 450, 378, 1428, 1562, 39, 1469, 252, 1786, 1619, 532, 1087, 1025, 160, 1657, 969, 53, 359, 851, 8, 199, 866, 70, 121, 706, 1741, 222, 1467, 1779, 946, 1228, 1642, 216, 723, 1699, 192, 340, 748, 822, 794, 573, 1565, 1735, 1302, 1740, 641, 1796, 1359, 191, 188, 126, 856, 1346, 940, 581, 1667, 786, 1725, 1568, 994, 10, 52, 307, 1766, 656, 499, 807, 933, 1712, 1041, 314, 1702, 784, 1140, 1798, 978, 1510, 1167, 255, 1767, 355, 856, 1678, 1347, 1749, 495, 413, 538, 1071, 1405, 508, 772, 649, 333, 1411, 681, 504, 773, 273, 675, 511, 1072, 1099, 202, 566, 59, 1130, 416, 1262, 1008, 1270, 84, 696, 30, 26, 1242, 688, 765, 518, 787, 822, 285, 512, 1505, 988, 394, 126, 1432, 669, 603, 51, 866, 6, 478, 1121, 686, 91, 1636, 1706, 1019, 51, 64, 301, 432, 971, 1694, 144, 840, 971, 195, 570, 1116, 1786, 286, 601, 1544, 23, 1055, 630, 1576, 693, 1067, 495, 1110, 1072, 684, 267, 414, 1236, 824, 589, 1121, 795, 1449, 1788, 439, 997, 1718, 58, 1340, 1185, 1439, 1042, 853, 599, 143, 1697, 1676, 648, 68, 189, 1273, 1653, 110, 11, 1253, 1772, 313, 1592]\n"
     ]
    }
   ],
   "source": [
    "async def corrutina(tiempo:int) -> str:    \n",
    "    await asyncio.sleep(tiempo)\n",
    "    return random.randint(0, limite_tareas)\n",
    "\n",
    "almacenar_resultados = []\n",
    "listado_instancias = []\n",
    "\n",
    "inicia = datetime.now()\n",
    "\n",
    "# crea el listado de corrutinas\n",
    "for tiempo_espera in range(limite_tareas):\n",
    "    listado_instancias.append(asyncio.gather(corrutina(2)))\n",
    "    \n",
    "# recupera los valores de las corrutinas\n",
    "for corrutina in listado_instancias:\n",
    "    valor = await corrutina\n",
    "    almacenar_resultados.append(valor[0])\n",
    "\n",
    "finaliza = datetime.now()\n",
    "print(finaliza.second - inicia.second) \n",
    "\n",
    "resultado = almacenar_resultados\n",
    "print(len(resultado))\n",
    "print(resultado)"
   ]
  },
  {
   "cell_type": "markdown",
   "id": "1445ddb3-74de-40df-bcdc-3d64b6927660",
   "metadata": {},
   "source": [
    "# <center> FUNCIONES PARA LOS HILOS Y PROCESOS</center>"
   ]
  },
  {
   "cell_type": "code",
   "execution_count": null,
   "id": "df45751a-28b8-48d2-b788-c0e4125e5676",
   "metadata": {},
   "outputs": [],
   "source": [
    "def generar_instancia(tipo_tarea=None, funcion_a_procesar=None, **kw):\n",
    "    \n",
    "    # convierte los argumentos a tupla ya que los argumentos deben ser de tipo tupla\n",
    "    argumentos = tuple(kw.values())\n",
    "    \n",
    "    # tipos de Instancia que se van a usar\n",
    "    tipo_instancia = {\n",
    "            'hilos':Thread,\n",
    "            'procesos':Process\n",
    "            }\n",
    "        \n",
    "    # crea la instancia\n",
    "    tipo_ejecucion = tipo_instancia.get(tipo_tarea, Thread)\n",
    "    \n",
    "    # retorna la instancia con los argumentos a evaluar\n",
    "    return tipo_ejecucion(name='test_ejecucion', target=funcion_a_procesar, args=argumentos)\n",
    "\n",
    "\n",
    "def iniciar_instancia(instancia):\n",
    "    \n",
    "    # muestra el nombre del hilo o del proceso\n",
    "    print('tarea inicializada ', instancia.name)\n",
    "    \n",
    "    # inicializa la ejecucion de la instruccion invocada en el hilo o proceso\n",
    "    instancia.start()\n",
    "    \n",
    "    return instancia\n",
    "\n",
    "def finalizar_instancia(instancia):\n",
    "\n",
    "    # garantiza que se finaliza la funcion invocada, antes de que se continue con una nueva instruccion\n",
    "    instancia.join()\n",
    "    \n",
    "    # muestra el nombre del hilo o del proceso\n",
    "    print('tarea Finalizada', instancia.name)\n",
    "    \n",
    "    return instancia"
   ]
  },
  {
   "cell_type": "markdown",
   "id": "78a68a47-ccd3-41a6-b354-fd7710a52136",
   "metadata": {},
   "source": [
    "# <center> HILOS</center>\n",
    "## <center>Es una linea de ejecucion de un proceso, Para ejecuciones a gran escala permite delegar acciones en tareas mas pequeñas</center>\n",
    "\n",
    "## <center> un Lock es un mecanismo de sincronización para forzar el acceso a una sección de código en un programa. por ejemplo </center>"
   ]
  },
  {
   "cell_type": "markdown",
   "id": "738e0427-1fa8-42f7-926b-e78f0c834ce0",
   "metadata": {},
   "source": [
    "# <center> COLA PARA ADICIONAR RESULTADOS HILOS</center>"
   ]
  },
  {
   "cell_type": "code",
   "execution_count": null,
   "id": "628f407d-ec3b-460b-b985-126027773fdd",
   "metadata": {},
   "outputs": [],
   "source": [
    "# instancia de la cola para adicionar los resultados\n",
    "almacenar_resultados = cola_classica()\n",
    "\n",
    "def almacenar_en_cola(f):\n",
    "    def wrapper(*args):\n",
    "        almacenar_resultados.put(f(*args))\n",
    "    return wrapper\n",
    "\n",
    "@almacenar_en_cola\n",
    "def retornar_lista(numero=100):\n",
    "    return [i for i in range(numero)]\n",
    "\n",
    "def obtener_resultado_cola_tarea(cola):\n",
    "    \n",
    "    for indice_tarea in range(cola.qsize()):\n",
    "        print(cola.get(indice_tarea))"
   ]
  },
  {
   "cell_type": "code",
   "execution_count": null,
   "id": "1421c118-a711-4180-9e6e-c6a0b10ecc72",
   "metadata": {
    "scrolled": true,
    "tags": []
   },
   "outputs": [],
   "source": [
    "listado_instancias = []\n",
    "   \n",
    "    \n",
    "for cantidad_instancias in range(5):\n",
    "  \n",
    "    instancia = generar_instancia(tipo_tarea='hilos', funcion_a_procesar=retornar_lista, numero=20)\n",
    "\n",
    "    ejecutar_tarea = iniciar_instancia(instancia)\n",
    "   \n",
    "    listado_instancias.append(ejecutar_tarea)\n",
    "\n",
    "\n",
    "for tipo_instancia in listado_instancias:\n",
    "    \n",
    "    finalizar_instancia(tipo_instancia)\n",
    "\n",
    "obtener_resultado_cola_tarea(almacenar_resultados)"
   ]
  },
  {
   "cell_type": "markdown",
   "id": "8abfe254-658e-4712-9064-fc9a238c665a",
   "metadata": {},
   "source": [
    "# <center> PROCESOS</center>\n",
    "## <center> Process-based parallelism, estan compuestos de multiples hilos, utilizan todos los nucleos del procesador que se puedan usar.</center>"
   ]
  },
  {
   "cell_type": "markdown",
   "id": "c8d62280-14e1-4e71-ae2b-645d4530c139",
   "metadata": {},
   "source": [
    "# <center> COLA PARA ADICIONAR RESULTADOS PROCESOS</center>"
   ]
  },
  {
   "cell_type": "code",
   "execution_count": null,
   "id": "ad780113-8c29-426e-89ed-8f0c80e0dede",
   "metadata": {},
   "outputs": [],
   "source": [
    "# instancia de la cola para adicionar los resultados\n",
    "almacenar_resultados_multiproceso = cola_multiproceso()\n",
    "\n",
    "def almacenar_en_cola_multiproceso(f):\n",
    "    def wrapper(*args):\n",
    "        almacenar_resultados_multiproceso.put(f(*args))\n",
    "    return wrapper\n",
    "\n",
    "@almacenar_en_cola_multiproceso\n",
    "def retornar_lista_proceso(numero=20):\n",
    "    return [chr(i + 64)  for i in range(numero)]\n",
    "\n",
    "def obtener_resultado_cola_tarea_while(cola):\n",
    "    \n",
    "    while not cola.empty():\n",
    "        result = cola.get()\n",
    "        print (result)"
   ]
  },
  {
   "cell_type": "code",
   "execution_count": null,
   "id": "708671ff-2c15-4b50-9fbd-ef165aa96001",
   "metadata": {},
   "outputs": [],
   "source": [
    "listado_instancias = []\n",
    "\n",
    "for cantidad_instancias in range(5):\n",
    "  \n",
    "    instancia = generar_instancia(tipo_tarea='procesos', funcion_a_procesar=retornar_lista_proceso, numero=10)\n",
    "\n",
    "    ejecutar_tarea = iniciar_instancia(instancia)\n",
    "   \n",
    "    listado_instancias.append(ejecutar_tarea)\n",
    "\n",
    "\n",
    "for tipo_instancia in listado_instancias:\n",
    "    \n",
    "    finalizar_instancia(tipo_instancia)\n",
    "\n",
    "obtener_resultado_cola_tarea_while(almacenar_resultados_multiproceso)"
   ]
  },
  {
   "cell_type": "markdown",
   "id": "f1dfa2e8-7970-4c26-bc6a-ef4f5af4e8a7",
   "metadata": {},
   "source": [
    "# <center> HILOS I/O VS PROCESOS I/O</center>"
   ]
  },
  {
   "cell_type": "code",
   "execution_count": null,
   "id": "173deb6b-9b9c-4bb7-bd1f-fad98b14123f",
   "metadata": {},
   "outputs": [],
   "source": [
    "# importa librerias para trabajar concurrencia\n",
    "from concurrent.futures import ProcessPoolExecutor\n",
    "from concurrent.futures import ThreadPoolExecutor\n",
    "\n",
    "from multiprocessing.pool import Pool\n",
    "from multiprocessing.pool import ThreadPool\n",
    "\n",
    "cantidad = 100_000\n",
    "workers = 4\n",
    "\n",
    "def lectura_io(value):\n",
    "    with open('demofile.txt', 'rb') as f:\n",
    "        return f.read(value * 100)"
   ]
  },
  {
   "cell_type": "markdown",
   "id": "372e3a1b-53d1-41f0-b203-f27387d77ea9",
   "metadata": {},
   "source": [
    "## <center> HILOS I/O</center>"
   ]
  },
  {
   "cell_type": "code",
   "execution_count": null,
   "id": "3d5faf03-0eb3-4890-b339-061bf6714f12",
   "metadata": {
    "scrolled": true,
    "tags": []
   },
   "outputs": [],
   "source": [
    "%%time\n",
    "with ThreadPoolExecutor(max_workers=workers) as concurrent_futures:        \n",
    "    concurrent_futures.map(lectura_io, range(cantidad))"
   ]
  },
  {
   "cell_type": "code",
   "execution_count": null,
   "id": "bfbf0170-2d39-465b-9783-77f07a1fd6f1",
   "metadata": {},
   "outputs": [],
   "source": [
    "%%time\n",
    "valores = []\n",
    "\n",
    "with ThreadPool(processes=workers) as multiprocessing:        \n",
    "    print(len(multiprocessing.map(lectura_io, range(cantidad))))"
   ]
  },
  {
   "cell_type": "markdown",
   "id": "b96e5851-b2a5-4814-834b-791ac6c8e76d",
   "metadata": {},
   "source": [
    "## <center> PROCESOS I/O</center>"
   ]
  },
  {
   "cell_type": "code",
   "execution_count": null,
   "id": "dbbe9522-5378-493b-9415-61626cc71537",
   "metadata": {},
   "outputs": [],
   "source": [
    "%%time\n",
    "with ProcessPoolExecutor(max_workers=workers) as concurrent_futures:        \n",
    "    print(len(list(concurrent_futures.map(lectura_io, range(cantidad)))))"
   ]
  },
  {
   "cell_type": "code",
   "execution_count": null,
   "id": "8510266a-9965-436f-b3e1-90598f830efd",
   "metadata": {
    "scrolled": true,
    "tags": []
   },
   "outputs": [],
   "source": [
    "%%time\n",
    "with Pool(processes=workers) as multiprocessing:\n",
    "    datos = multiprocessing.map(lectura_io, range(cantidad))\n",
    "    print(len(multiprocessing.map(lectura_io, range(cantidad))))"
   ]
  },
  {
   "cell_type": "markdown",
   "id": "31cabb8e-7d8a-4caf-a8c6-5a3a4a12d589",
   "metadata": {},
   "source": [
    "# <center> HILOS CPU VS PROCESOS CPU</center>"
   ]
  },
  {
   "cell_type": "code",
   "execution_count": null,
   "id": "6a98728c-557b-40e4-9ca0-8075a14901ad",
   "metadata": {},
   "outputs": [],
   "source": [
    "import math\n",
    "\n",
    "PRIMES = range(1_099_726_899_280_000, 1_099_726_899_280_999) \n",
    "\n",
    "def is_prime(n):\n",
    "    if n < 2 or n % 2 == 0:\n",
    "        return False\n",
    "    if n == 2:\n",
    "        return True\n",
    "    \n",
    "    sqrt_n = int(math.floor(math.sqrt(n)))\n",
    "    for i in range(3, sqrt_n + 1, 2):\n",
    "        if n % i == 0:\n",
    "            return False\n",
    "    return True"
   ]
  },
  {
   "cell_type": "markdown",
   "id": "65f0bdc5-4c45-4e2f-a178-6389b0867f43",
   "metadata": {},
   "source": [
    "## <center> HILOS CPU</center>"
   ]
  },
  {
   "cell_type": "code",
   "execution_count": null,
   "id": "294b8c4a-5362-41a3-9cf0-d8917fc10ab5",
   "metadata": {
    "scrolled": true,
    "tags": []
   },
   "outputs": [],
   "source": [
    "%%time\n",
    "valores = []\n",
    "with ThreadPoolExecutor(max_workers=workers) as executor:\n",
    "    for number, prime in zip(PRIMES, executor.map(is_prime, PRIMES)):       \n",
    "        valores.append((number, prime))\n",
    "\n",
    "print('cantidad de valores procesados', len(valores))"
   ]
  },
  {
   "cell_type": "code",
   "execution_count": null,
   "id": "46e9d40c-abcc-4e7d-be6f-fe5eb1cbcb4e",
   "metadata": {},
   "outputs": [],
   "source": [
    "%%time\n",
    "valores = []\n",
    "with ThreadPool(processes=workers) as executor:\n",
    "    for number, prime in zip(PRIMES, executor.map(is_prime, PRIMES)):       \n",
    "        valores.append((number, prime))\n",
    "\n",
    "print('cantidad de valores procesados', len(valores))"
   ]
  },
  {
   "cell_type": "markdown",
   "id": "a5929fef-12b8-414f-803c-787075bfaebd",
   "metadata": {},
   "source": [
    "## <center> PROCESOS CPU</center>"
   ]
  },
  {
   "cell_type": "code",
   "execution_count": null,
   "id": "5dcd2f54-489e-428d-9999-8ea242f7da44",
   "metadata": {
    "scrolled": true,
    "tags": []
   },
   "outputs": [],
   "source": [
    "%%time\n",
    "\n",
    "valores = []\n",
    "with ProcessPoolExecutor(max_workers=workers) as executor:\n",
    "    for number, prime in zip(PRIMES, executor.map(is_prime, PRIMES)):\n",
    "        valores.append((number, prime))\n",
    "\n",
    "print('cantidad de valores procesados', len(valores))"
   ]
  },
  {
   "cell_type": "code",
   "execution_count": null,
   "id": "2d90cc23-1c54-4079-bde8-e3c87c435631",
   "metadata": {},
   "outputs": [],
   "source": [
    "%%time\n",
    "\n",
    "valores = []\n",
    "with Pool(processes=workers) as executor:\n",
    "    \n",
    "    valores = executor.imap_unordered(is_prime, PRIMES)\n",
    "\n",
    "\n",
    "print('cantidad de valores procesados', valores)"
   ]
  },
  {
   "cell_type": "code",
   "execution_count": null,
   "id": "b8c6d38e-36ae-4a03-b4e2-6941f845098c",
   "metadata": {},
   "outputs": [],
   "source": [
    "%%time\n",
    "\n",
    "valores = []\n",
    "with Pool(processes=workers) as executor:\n",
    "    for number, prime in zip(PRIMES, executor.map(is_prime, PRIMES)):\n",
    "        valores.append((number, prime))\n",
    "\n",
    "print('cantidad de valores procesados', len(valores))"
   ]
  },
  {
   "cell_type": "code",
   "execution_count": null,
   "id": "0ee3cb08-c59b-441d-b7a8-d21bc9bed052",
   "metadata": {},
   "outputs": [],
   "source": [
    "\n",
    "\n",
    "async def main():\n",
    "    loop = asyncio.get_running_loop()\n",
    "    cantidad = 100\n",
    "\n",
    "    ## Options:\n",
    "    inicia = datetime.now()\n",
    "    # 1. Run in the default loop's executor:\n",
    "    for i in range(cantidad):\n",
    "        result = await loop.run_in_executor(\n",
    "            None, blocking_io)\n",
    "    print('default thread pool', result)\n",
    "    finaliza = datetime.now()\n",
    "    print(finaliza.second - inicia.second ) \n",
    "    \n",
    "    \n",
    "    inicia = datetime.now()\n",
    "    # 2. Run in a custom thread pool:\n",
    "    for i in range(cantidad):\n",
    "        with concurrent.futures.ThreadPoolExecutor() as pool:\n",
    "            result = await loop.run_in_executor(\n",
    "                pool, blocking_io)\n",
    "    print('custom thread pool', result)\n",
    "    finaliza = datetime.now()\n",
    "    print(finaliza.second - inicia.second ) \n",
    "    \n",
    "    inicia = datetime.now()\n",
    "    # 3. Run in a custom process pool:\n",
    "    for i in range(cantidad):\n",
    "        with concurrent.futures.ProcessPoolExecutor() as pool:\n",
    "            result = await loop.run_in_executor(\n",
    "                pool, cpu_bound)\n",
    "    print('custom process pool', result)\n",
    "    finaliza = datetime.now()\n",
    "    print(finaliza.second - inicia.second ) \n",
    "await main()"
   ]
  },
  {
   "cell_type": "markdown",
   "id": "b7f275ce-f31d-4563-b8c0-1a55565e71f5",
   "metadata": {},
   "source": [
    "# <center> POOL DE PROCESOS E HILOS</center>\n",
    "## <center>Ofrece un medio conveniente de paralelizar la ejecución de una función a través de múltiples valores de entrada, distribuyendo los datos de entrada a través de procesos (paralelismo de datos).</center>"
   ]
  },
  {
   "cell_type": "code",
   "execution_count": null,
   "id": "2cd2a2a9-8fc5-48c8-911b-62b4871fd4e6",
   "metadata": {
    "tags": []
   },
   "outputs": [],
   "source": [
    "from multiprocessing.pool import Pool\n",
    "\n",
    "def calcular_cuadrado(x):\n",
    "    return x*x"
   ]
  },
  {
   "cell_type": "markdown",
   "id": "e9b4ea95-315f-46b1-a410-a4084120e162",
   "metadata": {},
   "source": [
    "### <center> APPLY - PROCESOS</center>"
   ]
  },
  {
   "cell_type": "code",
   "execution_count": null,
   "id": "9db688e7-23fb-4abc-8fdd-77f9ff644238",
   "metadata": {
    "scrolled": true,
    "tags": []
   },
   "outputs": [],
   "source": [
    "pool = Pool(processes=2)\n",
    "pool_apply = pool.apply(calcular_cuadrado, [5])\n",
    "pool.close() # Prevents any more tasks from being submitted to the pool. Once all the tasks have been completed the worker processes will exit.\n",
    "pool.join() # Wait for the worker processes to exit. One must call close() or terminate() before using join().\n",
    "pool.close() # Close the Process object, releasing all resources associated with it.\n",
    "pool_apply"
   ]
  },
  {
   "cell_type": "code",
   "execution_count": null,
   "id": "f0bee08a-ef12-45ec-bed2-af44d86eedbb",
   "metadata": {},
   "outputs": [],
   "source": []
  },
  {
   "cell_type": "markdown",
   "id": "d5fad008-d03e-4968-87ce-86fa54a7b77c",
   "metadata": {},
   "source": [
    "### <center> APPLY - HILOS</center>"
   ]
  },
  {
   "cell_type": "code",
   "execution_count": null,
   "id": "2375a778-1b99-43b8-a194-3ad6e8cb6bd0",
   "metadata": {},
   "outputs": [],
   "source": [
    "pool = ThreadPool(processes=2)\n",
    "pool_apply = pool.apply(calcular_cuadrado, [7])\n",
    "pool.close() # Prevents any more tasks from being submitted to the pool. Once all the tasks have been completed the worker processes will exit.\n",
    "pool.join() # Wait for the worker processes to exit. One must call close() or terminate() before using join().\n",
    "pool.close() # Close the Process object, releasing all resources associated with it.\n",
    "pool_apply"
   ]
  },
  {
   "cell_type": "markdown",
   "id": "666bcc6b-56fb-4185-9f2a-5d74bac80178",
   "metadata": {},
   "source": [
    "### <center> APPLY_ASYNC</center>"
   ]
  },
  {
   "cell_type": "code",
   "execution_count": null,
   "id": "c7ac7c01-69e1-41eb-9db6-5dd3ded5c158",
   "metadata": {},
   "outputs": [],
   "source": [
    "pool = Pool(processes=2)\n",
    "pool_apply_async = pool.apply_async(calcular_cuadrado, [3])\n",
    "pool.close()\n",
    "pool.join()\n",
    "pool.close()\n",
    "pool_apply_async.get()"
   ]
  },
  {
   "cell_type": "markdown",
   "id": "37157209-1eca-45a6-841d-8504e15c2f6c",
   "metadata": {},
   "source": [
    "### <center> MAP_ASYNC</center>"
   ]
  },
  {
   "cell_type": "code",
   "execution_count": null,
   "id": "17812f5e-71b5-4bbb-89c3-926e0c60227c",
   "metadata": {},
   "outputs": [],
   "source": [
    "pool = Pool(processes=2)\n",
    "pool_map_async = pool.map_async(calcular_cuadrado, range(0,20,3))\n",
    "pool.close()\n",
    "pool.join()\n",
    "pool.close()\n",
    "pool_map_async.get()"
   ]
  },
  {
   "cell_type": "markdown",
   "id": "a19cd270-6435-4ed6-8053-8daabead4b5c",
   "metadata": {},
   "source": [
    "### <center> MAP</center>"
   ]
  },
  {
   "cell_type": "code",
   "execution_count": null,
   "id": "e769a2fc-b2f2-47e3-a850-2801629ba372",
   "metadata": {},
   "outputs": [],
   "source": [
    "pool = Pool(processes=2)\n",
    "pool_map = pool.map(calcular_cuadrado, range(0,20,5))\n",
    "pool.close()\n",
    "pool.join()\n",
    "pool.close()\n",
    "pool_map"
   ]
  },
  {
   "cell_type": "markdown",
   "id": "ad977635-9a4a-4072-b72e-b12f572d30fd",
   "metadata": {},
   "source": [
    "### <center> IMAP</center>"
   ]
  },
  {
   "cell_type": "code",
   "execution_count": null,
   "id": "279abfd5-7d60-426a-b83a-1aee15c80599",
   "metadata": {},
   "outputs": [],
   "source": [
    "pool = Pool(processes=2)\n",
    "pool_imap_async = pool.imap(calcular_cuadrado, range(0,20,4))\n",
    "pool.close()\n",
    "pool.join()\n",
    "pool.close()\n",
    "list(pool_imap_async)"
   ]
  },
  {
   "cell_type": "markdown",
   "id": "4fbd6b16-b189-437e-96cd-86de11d2e198",
   "metadata": {},
   "source": [
    "### <center> IMAP_UNORDERED</center>"
   ]
  },
  {
   "cell_type": "code",
   "execution_count": null,
   "id": "c25b8eb6-5f8a-4d6d-a238-eb1e57c20bfe",
   "metadata": {},
   "outputs": [],
   "source": [
    "pool = Pool(processes=2)\n",
    "pool_imap_unordered = pool.imap_unordered(calcular_cuadrado, range(0,20,2))\n",
    "pool.close()\n",
    "pool.join()\n",
    "pool.close()\n",
    "list(pool_imap_unordered)"
   ]
  },
  {
   "cell_type": "markdown",
   "id": "9ffc6dd5-610b-4c4d-81e5-217350b6f532",
   "metadata": {},
   "source": [
    "### <center> STARMAP</center>"
   ]
  },
  {
   "cell_type": "code",
   "execution_count": null,
   "id": "11d3ed26-b924-48bf-b164-9d6c73a1e2c3",
   "metadata": {},
   "outputs": [],
   "source": [
    "pool = Pool(processes=2)\n",
    "pool_starmap = pool.starmap(calcular_cuadrado, [[1],[2],[3],[4],[5]])\n",
    "pool.close()\n",
    "pool.join()\n",
    "pool.close()\n",
    "list(pool_starmap)"
   ]
  },
  {
   "cell_type": "markdown",
   "id": "0d83ca58-eb62-4767-837b-7adfe35fcd3e",
   "metadata": {},
   "source": [
    "### <center> STARMAP_ASYNC</center>"
   ]
  },
  {
   "cell_type": "code",
   "execution_count": null,
   "id": "4efa8761-e3c7-4ea7-b0ad-ee6fff64ab68",
   "metadata": {},
   "outputs": [],
   "source": [
    "pool = Pool(processes=2)\n",
    "pool_starmap_async = pool.starmap_async(calcular_cuadrado, [[1],[2],[3],[4],[5]])\n",
    "pool.close()\n",
    "pool.join()\n",
    "pool.close()\n",
    "pool_starmap_async.get()"
   ]
  },
  {
   "cell_type": "markdown",
   "id": "d65b0999-b5f0-48f2-9830-53900b9a451c",
   "metadata": {},
   "source": [
    "# <center> PROCESAMIENTO MASIVO</center>\n",
    "## <p> Lanzamiento de tareas paralelas, El módulo concurrent.futures provee una interfaz de alto nivel para ejecutar **invocables de forma asincrónica**. La ejecución asincrónica se puede realizar mediante hilos, usando ThreadPoolExecutor, o procesos independientes, mediante ProcessPoolExecutor. Ambos implementan la misma interfaz, que se encuentra definida por la clase abstracta Executor.</p>"
   ]
  },
  {
   "cell_type": "code",
   "execution_count": null,
   "id": "f6bc30e5-b46d-4334-bf1b-7f723763383b",
   "metadata": {},
   "outputs": [],
   "source": [
    "# importa librerias para trabajar concurrencia\n",
    "from concurrent.futures import ProcessPoolExecutor\n",
    "from concurrent.futures import ThreadPoolExecutor\n",
    "\n",
    "# tipos de Instancia que se van a usar\n",
    "tipo_instancia = {\n",
    "        'hilos':Thread,\n",
    "        'procesos':Process\n",
    "        }\n",
    "\n",
    "# adiciona nuevas key/values al diccionario\n",
    "tipo_instancia['multihilos'] = ThreadPoolExecutor\n",
    "tipo_instancia['multiproceso'] = ProcessPoolExecutor\n",
    "\n",
    "tipo_instancia"
   ]
  },
  {
   "cell_type": "code",
   "execution_count": null,
   "id": "ae044242-3050-4b47-96bf-f31ad730fd14",
   "metadata": {},
   "outputs": [],
   "source": [
    "import random\n",
    "\n",
    "def generar_lista(numero = 22):\n",
    "    \n",
    "    return [random.randint(-100, i**2) for i in range(numero)]\n",
    "    \n",
    "def imprimir_multi_datos(lista):\n",
    "    \n",
    "    for valores in lista:\n",
    "        print(valores)\n",
    "        \n",
    "def generar_pool_iniciar_y_finalizar_multi_instancia(tipo_tarea=None, funcion_a_procesar=None, numero = 22):\n",
    "    \n",
    "    # crea la instancia de ejecucion\n",
    "    tipo_ejecucion = tipo_instancia.get(tipo_tarea, ThreadPoolExecutor)\n",
    "    \n",
    "    # especifica el numero de hilos o procesos que se quieren usar como base, workers basado en el total de CPUs de la maquina\n",
    "    pool = tipo_ejecucion(max_workers=nucleos_totales)\n",
    "    \n",
    "    # recupera la informacion de la tarea que se ejecuta\n",
    "    response = pool.submit(funcion_a_procesar, numero)\n",
    "    \n",
    "    # finaliza el pool\n",
    "    pool.shutdown()\n",
    "    \n",
    "    # obtiene la respuesta de la tarea\n",
    "    return response.result()"
   ]
  },
  {
   "cell_type": "markdown",
   "id": "40a1c3fa-4771-4e0a-9eea-783ad8b8a8f1",
   "metadata": {},
   "source": [
    "# <center> MULTI HILOS ThreadPoolExecutor, usa un grupo de hilos para ejecutar llamadas de forma asincrónica.</center>\n",
    "# <center> interruptores rápidos b/w que dan la ilusion de multi tarea</center>"
   ]
  },
  {
   "cell_type": "code",
   "execution_count": null,
   "id": "14b92e9c-f450-42cd-a57d-6a9987a517b5",
   "metadata": {},
   "outputs": [],
   "source": [
    "listado = []\n",
    "for i in range(5):\n",
    "    instancia = generar_pool_iniciar_y_finalizar_multi_instancia(tipo_tarea='multihilos', funcion_a_procesar=generar_lista, numero= i + 1)\n",
    "    # almacena las tareas ejecutadas\n",
    "    listado.append(instancia)\n",
    "\n",
    "imprimir_multi_datos(listado)"
   ]
  },
  {
   "cell_type": "markdown",
   "id": "fe3fe517-c395-4027-98ee-63ce0291c9b7",
   "metadata": {},
   "source": [
    "# <center> MULTI PROCESOS ProcessPoolExecutor, usa un grupo de procesos para ejecutar llamadas de forma asíncrona</center>"
   ]
  },
  {
   "cell_type": "code",
   "execution_count": null,
   "id": "4120fd0e-cbf1-493f-b890-bf58180555c1",
   "metadata": {},
   "outputs": [],
   "source": [
    "listado = []\n",
    "for i in range(5):\n",
    "    instancia = generar_pool_iniciar_y_finalizar_multi_instancia(tipo_tarea='multiprocesos', funcion_a_procesar=generar_lista, numero= i + 1)\n",
    "    # almacena las tareas ejecutadas\n",
    "    listado.append(instancia)\n",
    "\n",
    "imprimir_multi_datos(listado)"
   ]
  },
  {
   "cell_type": "markdown",
   "id": "765755ca-a718-4777-b4f9-e12575d142c9",
   "metadata": {},
   "source": [
    "# <center> MULTI HILOS Y MULTIPROCESOS CON MULTIPLES ARGUMENTOS USANDO **MAP**</center>"
   ]
  },
  {
   "cell_type": "code",
   "execution_count": null,
   "id": "d6fa735a-7bf9-4d3e-be18-0f130545ce65",
   "metadata": {},
   "outputs": [],
   "source": [
    "def cuadrado(x=9):\n",
    "    \n",
    "    return x**2\n",
    "\n",
    "def multi_argumentos(*parametros, tipo_tarea=None, funcion_a_procesar=None):\n",
    "    \n",
    "    # convierte los parametros tipo tupla a lista\n",
    "    argumentos = list(parametros[0])\n",
    "    \n",
    "    # crea la instancia de ejecucion\n",
    "    tipo_ejecucion = tipo_instancia.get(tipo_tarea, ThreadPoolExecutor)\n",
    "    \n",
    "    # asigna los workers basado en el total de CPUs de la maquina\n",
    "    pool = tipo_ejecucion(max_workers=nucleos_totales)\n",
    "        \n",
    "    # obtiene los resultados de cada argumento en la funcion  \n",
    "    response = pool.map(cuadrado, argumentos)\n",
    "        \n",
    "    # obtiene la respuesta de la tarea\n",
    "    return [valor for valor in response]\n",
    "\n",
    "print(multi_argumentos([1,2,3,4],tipo_tarea='multihilos', funcion_a_procesar=cuadrado))\n",
    "print(multi_argumentos([5,6,7,8,9],tipo_tarea='multiprocesos', funcion_a_procesar=cuadrado))"
   ]
  },
  {
   "cell_type": "code",
   "execution_count": null,
   "id": "b1a7d641-3f6a-4e0a-b058-48fc54157abc",
   "metadata": {},
   "outputs": [],
   "source": []
  },
  {
   "cell_type": "code",
   "execution_count": null,
   "id": "1ac2c210-5310-4f77-a776-ebb2e98f5b98",
   "metadata": {},
   "outputs": [],
   "source": []
  },
  {
   "cell_type": "code",
   "execution_count": null,
   "id": "fdbe3737-ba39-4c78-abc1-92d9b76f62bc",
   "metadata": {},
   "outputs": [],
   "source": [
    "import threading\n",
    "import time\n",
    "\n",
    "\n",
    "def thread_x():\n",
    "    print('Start ', threading.current_thread().name)\n",
    "    time.sleep(1)\n",
    "    print('Finish ', threading.current_thread().name)\n",
    "\n",
    "\n",
    "def thread_y():\n",
    "    print('Start ', threading.current_thread().name)\n",
    "    time.sleep(1)\n",
    "    print('Finish ', threading.current_thread().name)\n",
    "\n",
    "x = threading.Thread(target=thread_x, name='Thread-X', daemon = True)\n",
    "y = threading.Thread(target=thread_y, name='Thread-Y')\n",
    "\n",
    "\n",
    "x.start()\n",
    "y.start()\n",
    "\n",
    "x.join()\n",
    "y.join()"
   ]
  },
  {
   "cell_type": "markdown",
   "id": "de2dbf4d-733c-462b-83e6-9870517b41c8",
   "metadata": {},
   "source": [
    "# <center> ASINCRONISMO - ASYNCIO</center>"
   ]
  },
  {
   "cell_type": "markdown",
   "id": "e7e358ee-919a-44fe-a655-aa44f69ecb9a",
   "metadata": {},
   "source": [
    "# <center> EVENT LOOP</center>"
   ]
  },
  {
   "cell_type": "markdown",
   "id": "0c6ca3a2-b686-418f-98e6-dae2a8d03f98",
   "metadata": {},
   "source": [
    "<p align=\"center\" width=\"100%\">\n",
    "    <img width=\"100%\" src=\"event-loop.png\">\n",
    "</p>"
   ]
  },
  {
   "cell_type": "markdown",
   "id": "c02dda9b-595f-403e-b6c0-f464435e51d4",
   "metadata": {},
   "source": [
    "# <p> asyncio es una biblioteca para escribir código concurrente utilizando la sintaxis async/await.Es utilizado como base en múltiples frameworks asíncronos de Python y provee un alto rendimiento en redes y servidores web, bibliotecas de conexión de base de datos, colas de tareas distribuidas, etc. </p>\n",
    "\n",
    "- asyncio provee un conjunto de APIs de alto nivel para:\n",
    "\n",
    "- ejecutar corutinas de Python de manera concurrente y tener control total sobre su ejecución;\n",
    "\n",
    "- realizar redes E/S y comunicación entre procesos(IPC);\n",
    "\n",
    "- controlar subprocesos;\n",
    "\n",
    "- distribuir tareas a través de colas;\n",
    "\n",
    "- sincronizar código concurrente;\n",
    "\n",
    "\n",
    "- Adicionalmente, existen APIs de bajo nivel para desarrolladores de bibliotecas y frameworks para:\n",
    "\n",
    "- crear y administrar bucles de eventos, los cuales proveen APIs asíncronas para redes, ejecutando subprocesos, gestionando señales del sistema operativo, etc;\n",
    "\n",
    "- implementar protocolos eficientes utilizando transportes;\n",
    "\n",
    "- Bibliotecas puente basadas en retrollamadas y código con sintaxis async/wait."
   ]
  },
  {
   "cell_type": "code",
   "execution_count": null,
   "id": "2511f569-5cba-459c-a72e-921527b4c499",
   "metadata": {},
   "outputs": [],
   "source": [
    "import asyncio\n",
    "\n",
    "# esta seria la forma de ejecutar en un IDE, dado que  jupyter ya esta corriendo un event loop\n",
    "# siempre es necesario ejecutar una funcion asincrona de esta manera \n",
    "#asyncio.run(funcion_asincrona())"
   ]
  },
  {
   "cell_type": "markdown",
   "id": "b6df6ed0-21fa-4168-afbc-5c6f3a5d7117",
   "metadata": {},
   "source": [
    "# <center> TODA FUNCION ASINCRONA DEBE SER PRECEDIDA POR LA PALABRA **ASYNC**</center>"
   ]
  },
  {
   "cell_type": "code",
   "execution_count": null,
   "id": "951eea17-0ef6-4dad-bbe1-c90fd91a506c",
   "metadata": {},
   "outputs": [],
   "source": [
    "async def listado(limite = 10):\n",
    "    \n",
    "    return [random.randrange(-100, 100) for x in range(limite)]"
   ]
  },
  {
   "cell_type": "code",
   "execution_count": null,
   "id": "8ca86685-9a2b-4385-8225-01c51fa8d98d",
   "metadata": {},
   "outputs": [],
   "source": [
    "def ejecuta_funcion_listado(limite = 15):\n",
    "    return listado(limite)"
   ]
  },
  {
   "cell_type": "code",
   "execution_count": null,
   "id": "d20c7b7e-f582-44cb-a9e3-619a4076df59",
   "metadata": {},
   "outputs": [],
   "source": [
    "async def ejecuta_funcion_asincrona(limite = 20):\n",
    "    return await listado(limite)"
   ]
  },
  {
   "cell_type": "markdown",
   "id": "c80d4230-44e3-479d-8344-142ba24feae8",
   "metadata": {},
   "source": [
    "# <center> TODA VARIABLE O FUNCION QUE LLAME UNA FUNCION ASYNCRONA DEBE SER PRECEDIDA POR LA PALABRA **AWAIT**</center>"
   ]
  },
  {
   "cell_type": "code",
   "execution_count": null,
   "id": "a0f33813-39d2-4823-9161-f7c1fffb9d1d",
   "metadata": {},
   "outputs": [],
   "source": [
    "ejecuta_funcion_listado()"
   ]
  },
  {
   "cell_type": "code",
   "execution_count": null,
   "id": "6dad08c2-9b6c-4106-bc21-5cbb91483472",
   "metadata": {},
   "outputs": [],
   "source": [
    "respuesta = listado()\n",
    "respuesta"
   ]
  },
  {
   "cell_type": "code",
   "execution_count": null,
   "id": "4702b901-ca37-42a1-8810-1e5494270724",
   "metadata": {},
   "outputs": [],
   "source": [
    "await respuesta"
   ]
  },
  {
   "cell_type": "code",
   "execution_count": null,
   "id": "ed864104-2cfe-41a2-9514-1ea2259d3819",
   "metadata": {},
   "outputs": [],
   "source": [
    "await listado()"
   ]
  },
  {
   "cell_type": "code",
   "execution_count": null,
   "id": "9ecafd6e-9bff-483b-9376-ee54d4ee1f60",
   "metadata": {},
   "outputs": [],
   "source": [
    "await ejecuta_funcion_listado()"
   ]
  },
  {
   "cell_type": "code",
   "execution_count": null,
   "id": "8ecfceb0-55ec-4d5f-9c6a-b9c95d0ae5ae",
   "metadata": {},
   "outputs": [],
   "source": [
    "print(await ejecuta_funcion_asincrona())"
   ]
  },
  {
   "cell_type": "code",
   "execution_count": null,
   "id": "6b863ebd-2de5-4341-ab1e-3c893a374dee",
   "metadata": {},
   "outputs": [],
   "source": [
    "lista = []\n",
    "\n",
    "for i in range(10):\n",
    "    \n",
    "    lista.append(await listado())\n",
    "\n",
    "lista"
   ]
  },
  {
   "cell_type": "markdown",
   "id": "8e9c3fc5-7125-47a5-a70e-ebc77af1be7f",
   "metadata": {},
   "source": [
    "# <center> **FUNCIONES ASINCRONAS**</center>"
   ]
  },
  {
   "cell_type": "code",
   "execution_count": null,
   "id": "795a0a2b-cee8-4a3f-a69d-8b512b8762fd",
   "metadata": {},
   "outputs": [],
   "source": [
    "async def Primero(limite=5):\n",
    "    print(\"Inicio funcion Primero\")\n",
    "    await asyncio.sleep(2)\n",
    "    print(\"Final funcion Primero\")\n",
    "    \n",
    "    return [random.randrange(-100, 0) for x in range(limite)]\n",
    "\n",
    "async def Ultimo(limite=5):\n",
    "    print(\"Comenzar funcion ultimo\")\n",
    "    await asyncio.sleep(2)\n",
    "    print(\"Terminar funcion ultimo\")\n",
    "    \n",
    "    return [random.randrange(0, 100) for x in range(limite)]"
   ]
  },
  {
   "cell_type": "markdown",
   "id": "7e717a57-ff07-43e4-b1ed-c6ad57a22da6",
   "metadata": {},
   "source": [
    "# <center> **GATHER**</center>\n",
    "## <center> **RECIBE UNA LISTA DE TAREAS Y RETORNA UNA LISTA DE RESULTADOS**</center>\n",
    "## <center> **TIENE OPCIONES ESPECÍFICAS PARA EL MANEJO DE ERRORES Y CANCELACIONES.**</center>"
   ]
  },
  {
   "cell_type": "code",
   "execution_count": null,
   "id": "51fc878f-023a-41f1-b5db-eb0c58fa14a3",
   "metadata": {},
   "outputs": [],
   "source": [
    "# El siguiente ejemplo muestra cómo esperar a que se completen varias tareas asincrónicas.\n",
    "\n",
    "from asyncio import gather\n",
    "\n",
    "async def iniciar_gather():\n",
    "    \n",
    "    tareas = [Primero(), Ultimo(), Primero(), Ultimo(), Primero(), Ultimo(), Primero()]\n",
    "    \n",
    "    return await gather(*tareas)\n",
    "    \n",
    "await iniciar_gather()"
   ]
  },
  {
   "cell_type": "markdown",
   "id": "1cab7d8d-6568-44a0-bbd9-ac3b0268542b",
   "metadata": {},
   "source": [
    "# <center> **WAIT_FOR**</center>\n",
    "## <center> **PERMITE DEFINIR EL MAXIMO TIEMPO DE ESPERA DE UNA TAREA**</center>"
   ]
  },
  {
   "cell_type": "code",
   "execution_count": null,
   "id": "3ea1d42e-0858-48e0-9f89-86571105f9a1",
   "metadata": {},
   "outputs": [],
   "source": [
    "# El siguiente ejemplo demuestra cómo podemos utilizar un tiempo de espera para evitar esperar indefinida a que finalice una tarea asincrónica.\n",
    "\n",
    "from asyncio import wait_for\n",
    "\n",
    "async def iniciar_wait_for():\n",
    "    try:\n",
    "        return await wait_for(Primero(), timeout=1)\n",
    "    except asyncio.TimeoutError:\n",
    "        print(\"la ejecucion supero el tiempo de espera!\")\n",
    "        \n",
    "\n",
    "await iniciar_wait_for()"
   ]
  },
  {
   "cell_type": "markdown",
   "id": "76f47eeb-c99d-401e-aadc-f715845c7b3c",
   "metadata": {},
   "source": [
    "# <center> **AS_COMPLETED**</center>\n",
    "## <center> **ES SIMILIAR A GATHER, PERO RETORNA FUTUROS, LOS RESULTADOS SON RETORNADOS EN EL ORDEN QUE ESTAN LISTOS**</center>"
   ]
  },
  {
   "cell_type": "code",
   "execution_count": null,
   "id": "a7e683a3-7e7c-44e5-85f6-d65f0cd9f5d8",
   "metadata": {},
   "outputs": [],
   "source": [
    "# El siguiente ejemplo demuestra cómo as_complete, completará la primera tarea, seguida de la siguiente más rápida y la siguiente hasta que se completen todas las tareas.\n",
    "\n",
    "from asyncio import as_completed\n",
    "\n",
    "async def iniciar_as_completed():\n",
    "    \n",
    "    tareas = [Primero(), Ultimo(), Primero(), Ultimo(), Primero(), Ultimo(), Primero()]\n",
    "    counter = 0\n",
    "    \n",
    "    for future in as_completed(tareas):\n",
    "        n = \"la tarea mas rapida\" if counter == 0 else \"la siguiente tarea mas rapida\"\n",
    "        counter += 1\n",
    "        result = await future\n",
    "        print(f\"{n} obtuvo el resultado: {result}\")\n",
    "\n",
    "await iniciar_as_completed()"
   ]
  },
  {
   "cell_type": "markdown",
   "id": "646b1309-f24b-40fe-a8a2-7c942a620f75",
   "metadata": {},
   "source": [
    "# <center> **CREATE_TASK**</center>"
   ]
  },
  {
   "cell_type": "code",
   "execution_count": null,
   "id": "c97b218d-9d56-4192-aa39-5d6539b2392b",
   "metadata": {},
   "outputs": [],
   "source": [
    "# El siguiente ejemplo demuestra cómo convertir una rutina en una tarea y programarla en el bucle de eventos.\n",
    "\n",
    "from asyncio import create_task\n",
    "\n",
    "async def iniciar_create_task():\n",
    "    \n",
    "    tarea = create_task(Primero())\n",
    "    print(tarea)\n",
    "    \n",
    "    await asyncio.sleep(2)\n",
    "    print(\"MAS PROCESOS!\")\n",
    "    \n",
    "    await asyncio.sleep(3)\n",
    "    print(sum(tarea))\n",
    "    \n",
    "    return tarea\n",
    "\n",
    "await iniciar_create_task()"
   ]
  },
  {
   "cell_type": "markdown",
   "id": "baed4b4f-fdba-40df-a4bd-d7e34d7c3d93",
   "metadata": {},
   "source": [
    "# <center> **POOLS**</center>\n",
    "# <center> **GET_RUNNING_LOOP**</center>"
   ]
  },
  {
   "cell_type": "markdown",
   "id": "80fa711b-61c5-4518-a0b0-1e7b862abb67",
   "metadata": {},
   "source": [
    "## <center> **ASYNCIO Event Loop - MULTI HILO**</center>"
   ]
  },
  {
   "cell_type": "code",
   "execution_count": null,
   "id": "f147548a-594d-4901-9f88-efe265b1e99c",
   "metadata": {},
   "outputs": [],
   "source": [
    "# importa la libtreria\n",
    "from asyncio import get_running_loop\n",
    "# importa librerias para trabajar concurrencia\n",
    "from concurrent.futures import ThreadPoolExecutor\n",
    "\n",
    "def blocking_io(value = 23, otros = 10):\n",
    "    # File operations (such as logging) can block the\n",
    "    # event loop: run them in a thread pool.\n",
    "    with open(\"/dev/urandom\", \"rb\") as f:\n",
    "        return f.read(value + otros)\n",
    "    \n",
    "async def asyncio_multi_hilo():\n",
    "    \n",
    "    loop = get_running_loop()\n",
    "    pool = ThreadPoolExecutor()\n",
    "    \n",
    "    # tipo de pool, funcion, parametros\n",
    "    return await loop.run_in_executor(pool, blocking_io, 50, 70)\n",
    "\n",
    "await asyncio_multi_hilo()"
   ]
  },
  {
   "cell_type": "markdown",
   "id": "6edfb82b-365c-40f0-8248-a8e073e5b0dd",
   "metadata": {},
   "source": [
    "## <center> **ASYNCIO - MULTI PROCESO**</center>"
   ]
  },
  {
   "cell_type": "code",
   "execution_count": null,
   "id": "8b06a077-9c78-41a0-a2f6-44b58532567b",
   "metadata": {},
   "outputs": [],
   "source": [
    "from concurrent.futures import ProcessPoolExecutor\n",
    "\n",
    "def cpu_bound(value = 23, otros = 10):\n",
    "    # CPU-bound operations will block the event loop:\n",
    "    # in general it is preferable to run them in a\n",
    "    # process pool.\n",
    "    return  sum(i * i for i in range(10 ** 7)) // (value + otros)\n",
    "\n",
    "    \n",
    "async def asyncio_multi_proceso():\n",
    "    \n",
    "    loop = get_running_loop()\n",
    "    pool = ProcessPoolExecutor()\n",
    "    \n",
    "    # tipo de pool, funcion, parametros\n",
    "    return await loop.run_in_executor(pool, cpu_bound, 123, 100)\n",
    "\n",
    "await asyncio_multi_proceso()"
   ]
  },
  {
   "cell_type": "markdown",
   "id": "b7fb1232-2601-42c7-80a0-98af825421e8",
   "metadata": {},
   "source": [
    " # TABLA DE DEFINICIONES\n",
    " https://pharos.sh/concurrencia-en-python/#:~:text=al%20mismo%20tiempo.-,Simultaneidad%20vs%20paralelismo,acelerar%20el%20proceso%20de%20c%C3%A1lculo.\n",
    " \n",
    "\n",
    "| CONCURRENCIA O SIMULTANEIDAD  | PARALELISMO |\n",
    "| --- | --- |\n",
    "| Es la ejecución de tareas al mismo tiempo, Cuando dos o más eventos son concurrentes, significa que están sucediendo al mismo tiempo. | Se logra cuando se realizan múltiples cálculos u operaciones al mismo tiempo o en paralelo con el objetivo de acelerar el proceso de cálculo. | \n",
    "| Solo tiene lugar en un procesador. | Utiliza múltiples procesadors para realizar tareas en paralelo. | \n",
    "| es la tarea de ejecutar y administrar múltiples cálculos al mismo tiempo. | es la tarea de ejecutar múltiples cálculos simultáneamente. |\n",
    "| se logra a través de la operación de entrelazado de procesos en la unidad central de procesamiento (CPU) o, en otras palabras, mediante el cambio de contexto. | se logra a través de múltiples unidades centrales de procesamiento (CPU) |\n",
    "| se puede realizar utilizando una sola unidad de procesamiento. | necesita múltiples unidades de procesamiento. |\n",
    "| aumenta la cantidad de trabajo terminado a la vez. |  mejora el rendimiento y la velocidad computacional del sistema.|\n",
    "| trata muchas cosas simultáneamente. | hace muchas cosas simultáneamente. |\n",
    "|  es el enfoque de flujo de control no determinista.| es un enfoque de flujo de control determinista. |\n",
    "|  la depuración es muy difícil. | la depuración también es difícil pero mas simple que la concurrencia. |\n",
    "\n",
    "\n",
    "\n",
    "| HILO O SUBPROCESO | PROCESO | TAREA |\n",
    "| --- | --- | --- |\n",
    "| cada tarea ejecutada en un proceso es un subproceso. | Es un trabajo o una instancia de un programa calculado que se puede ejecutar. | Es un conjunto de instrucciones de programa que se cargan en la memoria.|\n",
    "| Es la unidad de ejecución más pequeña que se puede realizar en una computadora. | Un hilo solo puede pertenecer a un proceso, pero un proceso puede tener múltiples hilos. |\n",
    "| pueden acceder a los datos de otros subprocesos  | funcionan de forma aislada | |\n",
    "| comparten memoria con otros subprocesos | cada proceso tiene su propia asignación de memoria. | |\n",
    "||es un proceso liviano: en comparación con un proceso|||\n",
    "| un subproceso genera menos carga en el sistema operativo para crear, mantener y administrar, lo que significa que el costo o la sobrecarga del subproceso es relativamente pequeño.|||\n",
    "| El hilo no tiene espacio de direcciones, y el hilo está contenido en el espacio de direcciones del proceso.|||\n",
    "| Todos los hilos comparten la memoria y los recursos del proceso. |||\n",
    "\n",
    "\n",
    "| HILOS | PROCESOS | ASINCRONISMO |\n",
    "| --- | --- | --- |\n",
    "| Implementa concurrencia a través de hilos de aplicación | Implementa la concurrencia usando procesos del sistema | Construye aplicaciones concurrentes que utilizan co-rutinas. Utiliza un enfoque de un solo hilo y un solo proceso en el que partes de una aplicación cooperan para cambiar tareas explícitamente en momentos óptimos.|\n",
    "|Multihilo es el proceso en el que multiples hilos se ejecutan al mismo tiempo en un proceso.|El multiproceso es permitir que se realicen múltiples procesos al mismo tiempo,  utilizando  uno o mas procesadores.|"
   ]
  },
  {
   "cell_type": "code",
   "execution_count": null,
   "id": "c855bd2d-1c7c-482a-ad8a-59fb269a19a7",
   "metadata": {},
   "outputs": [],
   "source": []
  }
 ],
 "metadata": {
  "kernelspec": {
   "display_name": "Python 3 (ipykernel)",
   "language": "python",
   "name": "python3"
  },
  "language_info": {
   "codemirror_mode": {
    "name": "ipython",
    "version": 3
   },
   "file_extension": ".py",
   "mimetype": "text/x-python",
   "name": "python",
   "nbconvert_exporter": "python",
   "pygments_lexer": "ipython3",
   "version": "3.10.4"
  }
 },
 "nbformat": 4,
 "nbformat_minor": 5
}
