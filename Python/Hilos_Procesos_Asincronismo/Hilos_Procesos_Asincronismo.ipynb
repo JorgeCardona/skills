{
 "cells": [
  {
   "cell_type": "code",
   "execution_count": 1,
   "id": "c7896697-5ea3-4ba4-8822-c92c00a2416b",
   "metadata": {
    "scrolled": true,
    "tags": []
   },
   "outputs": [
    {
     "name": "stdout",
     "output_type": "stream",
     "text": [
      "Python 3.10.4\n"
     ]
    }
   ],
   "source": [
    "!python -V\n",
    "import gc as garbage_colector"
   ]
  },
  {
   "cell_type": "markdown",
   "id": "1b91358a-8841-4358-a533-19db06642153",
   "metadata": {},
   "source": [
    "# <center> SINCRONISMO - HILOS - PROCESOS - ASINCRONISMO</center>\n",
    "\n",
    "<center>\n",
    "    <img width=\"50%\" lign=\"center\" src=\"ejecuciones.png\">\n",
    "</center>"
   ]
  },
  {
   "cell_type": "markdown",
   "id": "0d204a90-bbe8-41f0-abcb-6547ad686fbd",
   "metadata": {},
   "source": [
    "# <center> EJECUCION **SINCRONA** o **SERIAL**</center>"
   ]
  },
  {
   "cell_type": "code",
   "execution_count": 2,
   "id": "bc67055a-e53d-4621-bd0c-9435265579d4",
   "metadata": {},
   "outputs": [],
   "source": [
    "from datetime import datetime\n",
    "from time import sleep\n",
    "LIMITE = 11\n",
    "\n",
    "def dormir_sincrono(tiempo):\n",
    "    print('corriendo tarea de tiempo',tiempo)\n",
    "    sleep(tiempo)\n",
    "    return tiempo"
   ]
  },
  {
   "cell_type": "code",
   "execution_count": 3,
   "id": "0506bcc9-ea42-4c22-ba1d-1c927f7cb1e6",
   "metadata": {},
   "outputs": [
    {
     "name": "stdout",
     "output_type": "stream",
     "text": [
      "corriendo tarea de tiempo 1\n",
      "corriendo tarea de tiempo 2\n",
      "corriendo tarea de tiempo 3\n",
      "corriendo tarea de tiempo 4\n",
      "corriendo tarea de tiempo 5\n",
      "corriendo tarea de tiempo 6\n",
      "corriendo tarea de tiempo 7\n",
      "corriendo tarea de tiempo 8\n",
      "corriendo tarea de tiempo 9\n",
      "corriendo tarea de tiempo 10\n",
      "[1, 2, 3, 4, 5, 6, 7, 8, 9, 10]\n",
      "suma de valores de tiempo evaluados 55\n",
      "CPU times: user 21.7 ms, sys: 22 ms, total: 43.7 ms\n",
      "Wall time: 55.1 s\n"
     ]
    },
    {
     "data": {
      "text/plain": [
       "(0, (700, 10, 10))"
      ]
     },
     "execution_count": 3,
     "metadata": {},
     "output_type": "execute_result"
    }
   ],
   "source": [
    "%%time\n",
    "datos = []\n",
    "\n",
    "for tiempo_espera in range(1, LIMITE):\n",
    "    datos.append(dormir_sincrono(tiempo_espera))\n",
    "\n",
    "print(datos)\n",
    "print(f'suma de valores de tiempo evaluados {sum(datos)}')\n",
    "\n",
    "del datos\n",
    "garbage_colector.collect(), garbage_colector.get_threshold()"
   ]
  },
  {
   "cell_type": "markdown",
   "id": "0defbf57-4fcd-460d-b00b-bff57383b2f9",
   "metadata": {},
   "source": [
    "# <center> EJECUCION **ASINCRONA** Multitarea cooperativa</center>"
   ]
  },
  {
   "cell_type": "code",
   "execution_count": 4,
   "id": "337e73bb-3427-4e3c-9f0f-e28d48ff7822",
   "metadata": {
    "scrolled": true,
    "tags": []
   },
   "outputs": [
    {
     "name": "stdout",
     "output_type": "stream",
     "text": [
      "corriendo tarea de tiempo 1\n",
      "corriendo tarea de tiempo 2\n",
      "corriendo tarea de tiempo 3\n",
      "corriendo tarea de tiempo 4\n",
      "corriendo tarea de tiempo 5\n",
      "corriendo tarea de tiempo 6\n",
      "corriendo tarea de tiempo 7\n",
      "corriendo tarea de tiempo 8\n",
      "corriendo tarea de tiempo 9\n",
      "corriendo tarea de tiempo 10\n",
      "Wall time: 10 s\n",
      "[1, 2, 3, 4, 5, 6, 7, 8, 9, 10]\n"
     ]
    },
    {
     "data": {
      "text/plain": [
       "(0, (700, 10, 10))"
      ]
     },
     "execution_count": 4,
     "metadata": {},
     "output_type": "execute_result"
    }
   ],
   "source": [
    "import asyncio\n",
    "\n",
    "# para .ipynb, event loop esta listo, usar await\n",
    "# await main()\n",
    "\n",
    "# para .py, usar asyncio.run\n",
    "# asyncio.run(funcion_asincrona())\n",
    "\n",
    "async def corrutina(tiempo:int) -> int:\n",
    "    print('corriendo tarea de tiempo',tiempo)\n",
    "    await asyncio.sleep(tiempo)\n",
    "    return tiempo\n",
    "\n",
    "datos = []\n",
    "resul = []\n",
    "\n",
    "inicia = datetime.now()\n",
    "\n",
    "# crea el listado de corrutinas\n",
    "for tiempo_espera in range(1, LIMITE):\n",
    "    datos.append(asyncio.gather(corrutina(tiempo_espera)))\n",
    "    \n",
    "# recupera los valores de las corrutinas\n",
    "for corrutina in datos:\n",
    "    valor = await corrutina\n",
    "    resul.append(valor[0])\n",
    "\n",
    "finaliza = datetime.now()\n",
    "print(f'Wall time: {finaliza.second - inicia.second} s') \n",
    "print(resul)\n",
    "\n",
    "del datos, resul, inicia, finaliza\n",
    "garbage_colector.collect(), garbage_colector.get_threshold()"
   ]
  },
  {
   "cell_type": "markdown",
   "id": "0608edff-ad22-4b53-b271-d596b9bd1806",
   "metadata": {},
   "source": [
    "# <center> EJECUCION **HILO** Subprocesamiento múltiple</center>\n",
    "## <center> Este módulo construye interfaces de hilado de alto nivel sobre el módulo de más bajo nivel _thread. "
   ]
  },
  {
   "cell_type": "code",
   "execution_count": 5,
   "id": "04a8af08-b5dc-4100-9239-a21f9a510ac0",
   "metadata": {},
   "outputs": [],
   "source": [
    "# libreria para procesamiento con hilos\n",
    "from threading import Thread\n",
    "\n",
    "# libreria que permite guardar los valores retornados en una cola\n",
    "from queue import Queue as cola_classica\n",
    "\n",
    "def almacenar_en_cola(f):\n",
    "    def wrapper(*args):\n",
    "        almacenar_resultados.put(f(*args))\n",
    "    return wrapper\n",
    "\n",
    "@almacenar_en_cola\n",
    "def dormir_sincrono(tiempo):\n",
    "    print('corriendo tarea de tiempo',tiempo)\n",
    "    sleep(tiempo)\n",
    "    return tiempo\n",
    "\n",
    "def obtener_resultado_cola_tarea(cola):\n",
    "    \n",
    "    valores = []\n",
    "    for indice_tarea in range(cola.qsize()):\n",
    "        valores.append(cola.get(indice_tarea))\n",
    "    \n",
    "    return valores"
   ]
  },
  {
   "cell_type": "code",
   "execution_count": 6,
   "id": "5e76b127-9f45-4239-990c-16a4751e294f",
   "metadata": {},
   "outputs": [
    {
     "name": "stdout",
     "output_type": "stream",
     "text": [
      "corriendo tarea de tiempo 1\n",
      "corriendo tarea de tiempo 2\n",
      "corriendo tarea de tiempo 3\n",
      "corriendo tarea de tiempo 4\n",
      "corriendo tarea de tiempo 5\n",
      "corriendo tarea de tiempo 6\n",
      "corriendo tarea de tiempo 7\n",
      "corriendo tarea de tiempo 8\n",
      "corriendo tarea de tiempo 9\n",
      "corriendo tarea de tiempo 10\n",
      "CPU times: user 25.3 ms, sys: 0 ns, total: 25.3 ms\n",
      "Wall time: 10 s\n"
     ]
    },
    {
     "data": {
      "text/plain": [
       "(0, (700, 10, 10))"
      ]
     },
     "execution_count": 6,
     "metadata": {},
     "output_type": "execute_result"
    }
   ],
   "source": [
    "%%time\n",
    "\n",
    "# instancia de la cola para adicionar los resultados\n",
    "almacenar_resultados = cola_classica()\n",
    "\n",
    "# almacena las instancias generadas\n",
    "listado_instancias = []   \n",
    "    \n",
    "# genera la instancias necesarias para ejecutar, las inicializa y las guarda en la lista\n",
    "for tiempo_espera in range(1, LIMITE):\n",
    "  \n",
    "    instancia = Thread(name=f'ejecucion de tarea # {tiempo_espera}', target=dormir_sincrono, args=(tiempo_espera,))\n",
    "\n",
    "    instancia.start() # Comienza la actividad del hilo. Esto debe llamarse como máximo una vez por objeto de hilo.\n",
    "    \n",
    "    listado_instancias.append(instancia)\n",
    "\n",
    "# recorre la instancias generadass en la lista de instancias y bloque las ejecuciones hasta que termine    \n",
    "for tipo_instancia in listado_instancias:    \n",
    "        tipo_instancia.join() # Espera a que salgan los hilos de trabajo. Espera a que el hilo termine. Esto bloquea el hilo llamador hasta que el hilo cuyo método join() es llamado finalice.\n",
    "\n",
    "# ejecuta la funcion que se encarga de recuperar los resultados de las ejecuciones        \n",
    "obtener_resultado_cola_tarea(almacenar_resultados)\n",
    "\n",
    "# elimina las variables creaadas para la ejecucion\n",
    "del almacenar_resultados, listado_instancias\n",
    "\n",
    "# muestra la cantidad de objetos que se mantienen despues de la ejecucion  y el espacio ocupado por estos\n",
    "garbage_colector.collect(), garbage_colector.get_threshold()"
   ]
  },
  {
   "cell_type": "markdown",
   "id": "221dc461-8f2e-4cd0-95a5-676a513b5878",
   "metadata": {},
   "source": [
    "## <center> INSTANCIAS CON **LIST COMPREHENSION**"
   ]
  },
  {
   "cell_type": "code",
   "execution_count": 7,
   "id": "251b11f2-6fde-4967-81ab-7d71a4921899",
   "metadata": {},
   "outputs": [
    {
     "name": "stdout",
     "output_type": "stream",
     "text": [
      "corriendo tarea de tiempo 1\n",
      "corriendo tarea de tiempo 2\n",
      "corriendo tarea de tiempo 3\n",
      "corriendo tarea de tiempo 4\n",
      "corriendo tarea de tiempo 5\n",
      "corriendo tarea de tiempo 6\n",
      "corriendo tarea de tiempo 7\n",
      "corriendo tarea de tiempo 8\n",
      "corriendo tarea de tiempo 9\n",
      "corriendo tarea de tiempo 10\n",
      "CPU times: user 26.3 ms, sys: 483 µs, total: 26.8 ms\n",
      "Wall time: 10 s\n"
     ]
    },
    {
     "data": {
      "text/plain": [
       "(0, (700, 10, 10))"
      ]
     },
     "execution_count": 7,
     "metadata": {},
     "output_type": "execute_result"
    }
   ],
   "source": [
    "%%time\n",
    "\n",
    "# instancia de la cola para adicionar los resultados\n",
    "almacenar_resultados = cola_classica()\n",
    "\n",
    "# almacena las instancias generadas\n",
    "listado_instancias = []   \n",
    "\n",
    "# genera la instancias necesarias para ejecutar, las inicializa y las guarda en la lista\n",
    "instancias =  [Thread(name=f'ejecucion de tarea # {tiempo_espera}', target=dormir_sincrono, args=(tiempo_espera,)) for tiempo_espera in range(1, LIMITE)]\n",
    "    \n",
    "# recorre cada instancia, la inicializa y luego la guarda en la lista de instancias\n",
    "for instancia in instancias:\n",
    "\n",
    "    instancia.start() # Comienza la actividad del hilo. Esto debe llamarse como máximo una vez por objeto de hilo.\n",
    "    \n",
    "    listado_instancias.append(instancia)\n",
    "\n",
    "# recorre la instancias generadass en la lista de instancias y bloque las ejecuciones hasta que termine    \n",
    "for tipo_instancia in listado_instancias:    \n",
    "        tipo_instancia.join() # Espera a que salgan los hilos de trabajo. Espera a que el hilo termine. Esto bloquea el hilo llamador hasta que el hilo cuyo método join() es llamado finalice.\n",
    "\n",
    "# ejecuta la funcion que se encarga de recuperar los resultados de las ejecuciones        \n",
    "obtener_resultado_cola_tarea(almacenar_resultados)\n",
    "\n",
    "# elimina las variables creaadas para la ejecucion\n",
    "del almacenar_resultados, listado_instancias\n",
    "\n",
    "# muestra la cantidad de objetos que se mantienen despues de la ejecucion  y el espacio ocupado por estos\n",
    "garbage_colector.collect(), garbage_colector.get_threshold()"
   ]
  },
  {
   "cell_type": "markdown",
   "id": "22abf4d5-ab73-437f-b020-94f155e6350c",
   "metadata": {},
   "source": [
    "# <center> EJECUCION **PROCESO MULTIPLE**</center>\n",
    "## <center> Este módulo permite crear procesos (spawning) utilizando una API similar al módulo threading. ofrece concurrencia tanto local como remota. permite aprovechar al máximo múltiples procesadores en una máquina determinada. "
   ]
  },
  {
   "cell_type": "code",
   "execution_count": 8,
   "id": "a313fc62-da70-461a-9529-1c7d487ec9b1",
   "metadata": {
    "scrolled": true,
    "tags": []
   },
   "outputs": [],
   "source": [
    "# libreria que permite usar la computacion paralela\n",
    "from multiprocessing import Process\n",
    "\n",
    "# libreria que permite guardar los valores retornados en una cola\n",
    "from multiprocessing import Queue as cola_proceso\n",
    "\n",
    "def almacenar_en_cola_proceso(f):\n",
    "    def wrapper(*args):\n",
    "        almacenar_resultados_proceso.put(f(*args))\n",
    "    return wrapper\n",
    "\n",
    "@almacenar_en_cola_proceso\n",
    "def dormir_sincrono(tiempo):\n",
    "    print('corriendo tarea de tiempo',tiempo)\n",
    "    sleep(tiempo)\n",
    "    return tiempo\n",
    "\n",
    "def obtener_resultado_cola_tarea_while(cola):\n",
    "    \n",
    "    valores = []\n",
    "    while not cola.empty():\n",
    "        result = cola.get()\n",
    "        valores.append(result)    \n",
    "    return valores"
   ]
  },
  {
   "cell_type": "code",
   "execution_count": 9,
   "id": "c95d373b-70f0-4dbd-bf82-e7c48eeccfc7",
   "metadata": {},
   "outputs": [
    {
     "name": "stdout",
     "output_type": "stream",
     "text": [
      "corriendo tarea de tiempo 1corriendo tarea de tiempocorriendo tarea de tiempo \n",
      "2 corriendo tarea de tiempo corriendo tarea de tiempo34\n",
      "\n",
      "\n",
      "corriendo tarea de tiempo  5corriendo tarea de tiempocorriendo tarea de tiempo\n",
      "6 \n",
      " corriendo tarea de tiempo78corriendo tarea de tiempo \n",
      "\n",
      " 109\n",
      "\n",
      "CPU times: user 62 ms, sys: 112 ms, total: 174 ms\n",
      "Wall time: 10.2 s\n"
     ]
    },
    {
     "data": {
      "text/plain": [
       "(0, (700, 10, 10))"
      ]
     },
     "execution_count": 9,
     "metadata": {},
     "output_type": "execute_result"
    }
   ],
   "source": [
    "%%time\n",
    "\n",
    "# instancia de la cola para adicionar los resultados\n",
    "almacenar_resultados_proceso = cola_proceso()\n",
    "\n",
    "# almacena las instancias generadas\n",
    "listado_instancias = []\n",
    "\n",
    "for tiempo_espera in range(1, LIMITE):\n",
    "  \n",
    "    instancia = Process(name=f'ejecucion de tarea # {tiempo_espera}', target=dormir_sincrono, args=(tiempo_espera,))\n",
    "    instancia.start() # Comienza la actividad del proceso. Esto debe llamarse como máximo una vez por objeto de proceso.  \n",
    "    listado_instancias.append(instancia)\n",
    "\n",
    "for tipo_instancia in listado_instancias:        \n",
    "        tipo_instancia.join() # Espera a que salgan los procesos de trabajo. Se debe llamar close() o terminate() antes de usar join().\n",
    "\n",
    "obtener_resultado_cola_tarea_while(almacenar_resultados_proceso)\n",
    "\n",
    "del almacenar_resultados_proceso, listado_instancias\n",
    "garbage_colector.collect(), garbage_colector.get_threshold()"
   ]
  },
  {
   "cell_type": "markdown",
   "id": "c562b51b-38d2-46b2-8aa6-3cbad201ca06",
   "metadata": {},
   "source": [
    "# <center> TOTAL PROCESADORES"
   ]
  },
  {
   "cell_type": "code",
   "execution_count": 10,
   "id": "e4e1927b-e5b2-4817-b352-0c82f46618d7",
   "metadata": {},
   "outputs": [
    {
     "data": {
      "text/plain": [
       "(4, 2)"
      ]
     },
     "execution_count": 10,
     "metadata": {},
     "output_type": "execute_result"
    }
   ],
   "source": [
    "import psutil\n",
    "total_cpu = psutil.cpu_count()\n",
    "mitad_procesamiento = total_cpu//2\n",
    "total_cpu, mitad_procesamiento"
   ]
  },
  {
   "cell_type": "markdown",
   "id": "751ad28d-d504-46ca-ade8-0aeeb45410d6",
   "metadata": {
    "tags": []
   },
   "source": [
    "# <center> EJECUCION **THREAD POOL DE MULTIPROCESO**</center>"
   ]
  },
  {
   "cell_type": "code",
   "execution_count": 11,
   "id": "89f567b0",
   "metadata": {},
   "outputs": [],
   "source": [
    "def dormir_sincrono_multiprocessing(tiempo):\n",
    "    print('corriendo tarea de tiempo ',tiempo)\n",
    "    sleep(tiempo)\n",
    "    return tiempo"
   ]
  },
  {
   "cell_type": "markdown",
   "id": "f87af595-f336-4ff0-878d-058b3f831c59",
   "metadata": {
    "tags": []
   },
   "source": [
    "# <center> **PROCESADORES POR DEFECTO**</center>"
   ]
  },
  {
   "cell_type": "code",
   "execution_count": 12,
   "id": "bb382524-dca3-49d8-a53f-7637d0c389b8",
   "metadata": {},
   "outputs": [],
   "source": [
    "# libreria quenpermite usar multihilos con la libreria multiprocessing\n",
    "from multiprocessing.pool import ThreadPool"
   ]
  },
  {
   "cell_type": "code",
   "execution_count": 13,
   "id": "98b287c1-21cc-490b-8d69-d0efd6d829e9",
   "metadata": {},
   "outputs": [
    {
     "name": "stdout",
     "output_type": "stream",
     "text": [
      "corriendo tarea de tiempo corriendo tarea de tiempo  2\n",
      " 1\n",
      "corriendo tarea de tiempo  3\n",
      "corriendo tarea de tiempo  4\n",
      "corriendo tarea de tiempo  5\n",
      "corriendo tarea de tiempo  6\n",
      "corriendo tarea de tiempo  7\n",
      "corriendo tarea de tiempo  8\n",
      "corriendo tarea de tiempo  9\n",
      "corriendo tarea de tiempo  10\n",
      "[1, 2, 3, 4, 5, 6, 7, 8, 9, 10]\n",
      "CPU times: user 37.6 ms, sys: 1.99 ms, total: 39.6 ms\n",
      "Wall time: 18 s\n"
     ]
    },
    {
     "data": {
      "text/plain": [
       "(0, (700, 10, 10))"
      ]
     },
     "execution_count": 13,
     "metadata": {},
     "output_type": "execute_result"
    }
   ],
   "source": [
    "%%time\n",
    "\n",
    "pool = ThreadPool()\n",
    "multihilo = pool.map(dormir_sincrono_multiprocessing, range(1, LIMITE))\n",
    "pool.close()\n",
    "pool.join()\n",
    "\n",
    "print(multihilo)\n",
    "\n",
    "del pool, multihilo\n",
    "garbage_colector.collect(), garbage_colector.get_threshold()"
   ]
  },
  {
   "cell_type": "markdown",
   "id": "85e575f3-b359-4f10-be65-69d9b6fae880",
   "metadata": {},
   "source": [
    "# <center> **PROCESADORES ASIGNADOS** processes</center>"
   ]
  },
  {
   "cell_type": "code",
   "execution_count": 14,
   "id": "b1bdb1ff-174d-40ae-a11e-0cd3d028503b",
   "metadata": {},
   "outputs": [
    {
     "name": "stdout",
     "output_type": "stream",
     "text": [
      "corriendo tarea de tiempo  1\n",
      "corriendo tarea de tiempo  3\n",
      "corriendo tarea de tiempo  2\n",
      "corriendo tarea de tiempo corriendo tarea de tiempo  4\n",
      " 5\n",
      "corriendo tarea de tiempo  7\n",
      "corriendo tarea de tiempo  6\n",
      "corriendo tarea de tiempo  8\n",
      "corriendo tarea de tiempo  9\n",
      "corriendo tarea de tiempo  10\n",
      "[1, 2, 3, 4, 5, 6, 7, 8, 9, 10]\n",
      "CPU times: user 36 ms, sys: 1.38 ms, total: 37.4 ms\n",
      "Wall time: 33.1 s\n"
     ]
    },
    {
     "data": {
      "text/plain": [
       "(0, (700, 10, 10))"
      ]
     },
     "execution_count": 14,
     "metadata": {},
     "output_type": "execute_result"
    }
   ],
   "source": [
    "%%time\n",
    "\n",
    "with ThreadPool(processes=mitad_procesamiento) as pool_de_hilos:\n",
    "    multihilo = pool_de_hilos.map(dormir_sincrono_multiprocessing, range(1, LIMITE))\n",
    "\n",
    "print(multihilo)\n",
    "\n",
    "del pool_de_hilos, multihilo\n",
    "garbage_colector.collect(), garbage_colector.get_threshold()"
   ]
  },
  {
   "cell_type": "markdown",
   "id": "6c3adfd4-5e39-41b9-adff-15b66380d772",
   "metadata": {},
   "source": [
    "# <center> EJECUCION **POOL DE MULTIPROCESO**</center>"
   ]
  },
  {
   "cell_type": "markdown",
   "id": "fc8876ab-7e9d-470a-8b7f-523c90c0c1ff",
   "metadata": {},
   "source": [
    "# <center> **PROCESADORES POR DEFECTO**</center>"
   ]
  },
  {
   "cell_type": "code",
   "execution_count": 15,
   "id": "e1e8fc3b-9825-4fcc-924e-293ebf297516",
   "metadata": {},
   "outputs": [],
   "source": [
    "# libreria quenpermite usar multiprocesos con la libreria multiprocessing\n",
    "from multiprocessing.pool import Pool"
   ]
  },
  {
   "cell_type": "code",
   "execution_count": 16,
   "id": "eed21c03-043e-470c-a9bc-d424c0eacc38",
   "metadata": {},
   "outputs": [
    {
     "name": "stdout",
     "output_type": "stream",
     "text": [
      "corriendo tarea de tiempo corriendo tarea de tiempo corriendo tarea de tiempo  corriendo tarea de tiempo  3  \n",
      "42\n",
      "1\n",
      "\n",
      "corriendo tarea de tiempo  5\n",
      "corriendo tarea de tiempo  6\n",
      "corriendo tarea de tiempo  7\n",
      "corriendo tarea de tiempo  8\n",
      "corriendo tarea de tiempo  9\n",
      "corriendo tarea de tiempo  10\n",
      "[1, 2, 3, 4, 5, 6, 7, 8, 9, 10]\n",
      "CPU times: user 84.7 ms, sys: 7.84 ms, total: 92.6 ms\n",
      "Wall time: 18.1 s\n"
     ]
    },
    {
     "data": {
      "text/plain": [
       "(0, (700, 10, 10))"
      ]
     },
     "execution_count": 16,
     "metadata": {},
     "output_type": "execute_result"
    }
   ],
   "source": [
    "%%time\n",
    "\n",
    "pool = Pool()\n",
    "multiproceso = pool.map(dormir_sincrono_multiprocessing, range(1, LIMITE))\n",
    "pool.close() # Impide que se envíen más tareas a la piscina (pool). Una vez que se hayan completado todas las tareas, se cerrarán los procesos de trabajo.\n",
    "pool.join() # Espera a que salgan los procesos de trabajo. Se debe llamar close() o terminate() antes de usar join().\n",
    "\n",
    "print(multiproceso)\n",
    "\n",
    "del pool, multiproceso\n",
    "garbage_colector.collect(), garbage_colector.get_threshold()"
   ]
  },
  {
   "cell_type": "markdown",
   "id": "72b6cc3b-57a9-4553-93d7-f7ca83d0567b",
   "metadata": {},
   "source": [
    "## <center> **PROCESOS ADMINISTRADOR DE CONTEXTO**</center>"
   ]
  },
  {
   "cell_type": "code",
   "execution_count": 17,
   "id": "4c599991-a8ba-4022-9310-be375809575d",
   "metadata": {},
   "outputs": [
    {
     "name": "stdout",
     "output_type": "stream",
     "text": [
      "corriendo tarea de tiempo corriendo tarea de tiempo corriendo tarea de tiempo corriendo tarea de tiempo    21 \n",
      "\n",
      "4\n",
      "3\n",
      "corriendo tarea de tiempo  5\n",
      "corriendo tarea de tiempo  6\n",
      "corriendo tarea de tiempo  7\n",
      "corriendo tarea de tiempo  8\n",
      "corriendo tarea de tiempo  9\n",
      "corriendo tarea de tiempo  10\n",
      "[1, 2, 3, 4, 5, 6, 7, 8, 9, 10]\n",
      "CPU times: user 64.3 ms, sys: 34.7 ms, total: 99 ms\n",
      "Wall time: 18.1 s\n"
     ]
    },
    {
     "data": {
      "text/plain": [
       "(0, (700, 10, 10))"
      ]
     },
     "execution_count": 17,
     "metadata": {},
     "output_type": "execute_result"
    }
   ],
   "source": [
    "%%time\n",
    "with Pool() as pool_de_procesos:\n",
    "    multiproceso = pool_de_procesos.map(dormir_sincrono_multiprocessing, range(1, LIMITE))\n",
    "\n",
    "print(multiproceso)\n",
    "\n",
    "del pool_de_procesos, multiproceso\n",
    "garbage_colector.collect(), garbage_colector.get_threshold()"
   ]
  },
  {
   "cell_type": "markdown",
   "id": "75020319-7893-49a9-940e-aabebe66b6d3",
   "metadata": {},
   "source": [
    "# <center> **PROCESADORES ASIGNADOS** processes</center>"
   ]
  },
  {
   "cell_type": "code",
   "execution_count": 18,
   "id": "9d599aad-62da-41b2-a569-1e9001115f82",
   "metadata": {},
   "outputs": [
    {
     "name": "stdout",
     "output_type": "stream",
     "text": [
      "corriendo tarea de tiempo corriendo tarea de tiempo   3\n",
      "1\n",
      "corriendo tarea de tiempo  2\n",
      "corriendo tarea de tiempo  4\n",
      "corriendo tarea de tiempo  5\n",
      "corriendo tarea de tiempo  7\n",
      "corriendo tarea de tiempo  6\n",
      "corriendo tarea de tiempo  8\n",
      "corriendo tarea de tiempo  9\n",
      "corriendo tarea de tiempo  10\n",
      "[1, 2, 3, 4, 5, 6, 7, 8, 9, 10]\n",
      "CPU times: user 82.3 ms, sys: 2.39 ms, total: 84.7 ms\n",
      "Wall time: 33.1 s\n"
     ]
    },
    {
     "data": {
      "text/plain": [
       "(0, (700, 10, 10))"
      ]
     },
     "execution_count": 18,
     "metadata": {},
     "output_type": "execute_result"
    }
   ],
   "source": [
    "%%time\n",
    "with Pool(processes=mitad_procesamiento) as pool_de_procesos:\n",
    "    multiproceso = pool_de_procesos.map(dormir_sincrono_multiprocessing, range(1, LIMITE))\n",
    "    \n",
    "print(multiproceso)\n",
    "\n",
    "del pool_de_procesos, multiproceso\n",
    "garbage_colector.collect(), garbage_colector.get_threshold()"
   ]
  },
  {
   "cell_type": "markdown",
   "id": "0194c4a5-c46f-4b0d-97ec-742b55d72d4e",
   "metadata": {},
   "source": [
    "# <center> EJECUCION **THREAD POOL EXECUTOR DE CONCURRENT.FUTURES**</center>\n",
    "## <center> Este módulo provee una interfaz de alto nivel para ejecutar invocables de forma **asincrónica**. Usando **ThreadPoolExecutor, o ProcessPoolExecutor**. Ambos implementan la misma interfaz definida por la **clase abstracta Executor** compatible con asyncio."
   ]
  },
  {
   "cell_type": "code",
   "execution_count": 19,
   "id": "7db4e22b-4bd0-4bde-8576-ec30b46203f6",
   "metadata": {},
   "outputs": [],
   "source": [
    "def dormir_concurrent_futures(tiempo):\n",
    "    print('corriendo tarea de tiempo ',tiempo)\n",
    "    sleep(tiempo)\n",
    "    return tiempo"
   ]
  },
  {
   "cell_type": "markdown",
   "id": "04f406bb-a406-4dd3-9ec4-9a547efaaa34",
   "metadata": {},
   "source": [
    "# <center> **PROCESADORES POR DEFECTO**</center>"
   ]
  },
  {
   "cell_type": "code",
   "execution_count": 20,
   "id": "3a6de6e5-0f45-4a4a-8ead-7d3ce4a3702e",
   "metadata": {},
   "outputs": [],
   "source": [
    "# importa librerias para trabajar concurrencia\n",
    "from concurrent.futures import ThreadPoolExecutor\n",
    "from concurrent.futures import as_completed"
   ]
  },
  {
   "cell_type": "code",
   "execution_count": 21,
   "id": "71bbdb04-b480-42d7-b484-85c8e7d1f357",
   "metadata": {},
   "outputs": [
    {
     "name": "stdout",
     "output_type": "stream",
     "text": [
      "corriendo tarea de tiempo  1\n",
      "corriendo tarea de tiempo  2\n",
      "corriendo tarea de tiempo  3\n",
      "corriendo tarea de tiempo  4\n",
      "corriendo tarea de tiempo  5\n",
      "corriendo tarea de tiempo  6\n",
      "corriendo tarea de tiempo  7\n",
      "corriendo tarea de tiempo  8\n",
      "corriendo tarea de tiempo  9\n",
      "corriendo tarea de tiempo  10\n",
      "[1, 2, 3, 4, 5, 6, 7, 8, 9, 10]\n",
      "CPU times: user 29.6 ms, sys: 2.35 ms, total: 31.9 ms\n",
      "Wall time: 12 s\n"
     ]
    },
    {
     "data": {
      "text/plain": [
       "(0, (700, 10, 10))"
      ]
     },
     "execution_count": 21,
     "metadata": {},
     "output_type": "execute_result"
    }
   ],
   "source": [
    "%%time\n",
    "\n",
    "executor = ThreadPoolExecutor()\n",
    "\n",
    "futures = []\n",
    "resultado = []\n",
    "for tiempo in range(1, LIMITE):\n",
    "    future = executor.submit(dormir_concurrent_futures, tiempo)\n",
    "    futures.append(future)\n",
    "\n",
    "for future in as_completed(futures):\n",
    "    resultado.append(future.result())\n",
    "\n",
    "executor.shutdown()\n",
    "print(resultado)\n",
    "\n",
    "del executor, futures, resultado\n",
    "garbage_colector.collect(), garbage_colector.get_threshold()"
   ]
  },
  {
   "cell_type": "markdown",
   "id": "d3a81efc-e501-40f1-bde1-ce26a4259c58",
   "metadata": {},
   "source": [
    "# <center> **EL ADMINISTRADOR DE CONTEXTO** NO GARANTIZA EL ORDEN</center>"
   ]
  },
  {
   "cell_type": "code",
   "execution_count": 22,
   "id": "7672e8b9-c1d2-4f68-b244-f2939e0e9f78",
   "metadata": {},
   "outputs": [
    {
     "name": "stdout",
     "output_type": "stream",
     "text": [
      "corriendo tarea de tiempo  1\n",
      "corriendo tarea de tiempo  2\n",
      "corriendo tarea de tiempo  3\n",
      "corriendo tarea de tiempo  4\n",
      "corriendo tarea de tiempo  5\n",
      "corriendo tarea de tiempo  6\n",
      "corriendo tarea de tiempo  7\n",
      "corriendo tarea de tiempo  8\n",
      "corriendo tarea de tiempo  9\n",
      "corriendo tarea de tiempo  10\n",
      "[1, 2, 3, 4, 5, 6, 7, 8, 9, 10]\n",
      "CPU times: user 15.3 ms, sys: 16.5 ms, total: 31.8 ms\n",
      "Wall time: 12 s\n"
     ]
    },
    {
     "data": {
      "text/plain": [
       "(0, (700, 10, 10))"
      ]
     },
     "execution_count": 22,
     "metadata": {},
     "output_type": "execute_result"
    }
   ],
   "source": [
    "%%time\n",
    "\n",
    "futures = []\n",
    "resultado = []\n",
    "\n",
    "with ThreadPoolExecutor() as executor:\n",
    "    for tiempo in range(1, LIMITE):\n",
    "        future = executor.submit(dormir_concurrent_futures, tiempo)\n",
    "        futures.append(future)    \n",
    "\n",
    "    for future in as_completed(futures):\n",
    "        resultado.append(future.result())\n",
    "    \n",
    "print(resultado)\n",
    "\n",
    "del executor, futures, resultado\n",
    "garbage_colector.collect(), garbage_colector.get_threshold()"
   ]
  },
  {
   "cell_type": "markdown",
   "id": "991c3cfb-5c5a-46a9-b670-19310c00bb49",
   "metadata": {},
   "source": [
    "# <center> **PROCESADORES ASIGNADOS ADMINISTRADOR DE CONTEXTO** max_workers</center>"
   ]
  },
  {
   "cell_type": "code",
   "execution_count": 23,
   "id": "7edfa410-5017-4c55-8379-2143c020c4f6",
   "metadata": {},
   "outputs": [
    {
     "name": "stdout",
     "output_type": "stream",
     "text": [
      "corriendo tarea de tiempo  1\n",
      "corriendo tarea de tiempo  2\n",
      "corriendo tarea de tiempo  3\n",
      "corriendo tarea de tiempo  4\n",
      "corriendo tarea de tiempo  5\n",
      "corriendo tarea de tiempo  6\n",
      "corriendo tarea de tiempo  7\n",
      "corriendo tarea de tiempo  8\n",
      "corriendo tarea de tiempo  9\n",
      "corriendo tarea de tiempo  10\n",
      "[1, 2, 3, 4, 5, 6, 7, 8, 9, 10]\n",
      "CPU times: user 37.4 ms, sys: 1.68 ms, total: 39.1 ms\n",
      "Wall time: 30.1 s\n"
     ]
    },
    {
     "data": {
      "text/plain": [
       "(0, (700, 10, 10))"
      ]
     },
     "execution_count": 23,
     "metadata": {},
     "output_type": "execute_result"
    }
   ],
   "source": [
    "%%time\n",
    "\n",
    "futures = []\n",
    "resultado = []\n",
    "\n",
    "with ThreadPoolExecutor(max_workers=mitad_procesamiento) as executor:\n",
    "    for tiempo in range(1, LIMITE):\n",
    "        future = executor.submit(dormir_concurrent_futures, tiempo)\n",
    "        futures.append(future)    \n",
    "\n",
    "    for future in as_completed(futures):\n",
    "        resultado.append(future.result())\n",
    "    \n",
    "print(resultado)\n",
    "\n",
    "del executor, futures, resultado\n",
    "garbage_colector.collect(), garbage_colector.get_threshold()"
   ]
  },
  {
   "cell_type": "markdown",
   "id": "f3f2f3a2-192f-444c-b343-4db078b5fee6",
   "metadata": {},
   "source": [
    "# <center> **PROCESADORES ASIGNADOS MAP** MANTIENE EL ORDEN DE LA INFORMACION</center>"
   ]
  },
  {
   "cell_type": "code",
   "execution_count": 24,
   "id": "9e94d7dc-6869-4ca3-8e0f-f26399a424fa",
   "metadata": {},
   "outputs": [
    {
     "name": "stdout",
     "output_type": "stream",
     "text": [
      "corriendo tarea de tiempo  1\n",
      "corriendo tarea de tiempo  2\n",
      "corriendo tarea de tiempo  3\n",
      "corriendo tarea de tiempo  4\n",
      "corriendo tarea de tiempo  5\n",
      "corriendo tarea de tiempo  6\n",
      "corriendo tarea de tiempo  7\n",
      "corriendo tarea de tiempo  8\n",
      "corriendo tarea de tiempo  9\n",
      "corriendo tarea de tiempo  10\n",
      "CPU times: user 33.2 ms, sys: 396 µs, total: 33.6 ms\n",
      "Wall time: 30.1 s\n"
     ]
    },
    {
     "data": {
      "text/plain": [
       "(0, (700, 10, 10))"
      ]
     },
     "execution_count": 24,
     "metadata": {},
     "output_type": "execute_result"
    }
   ],
   "source": [
    "%%time\n",
    "\n",
    "with ThreadPoolExecutor(max_workers=mitad_procesamiento) as executor:\n",
    "    futures = executor.map(dormir_concurrent_futures, range(1, LIMITE))\n",
    "list(futures) \n",
    "\n",
    "del executor, futures\n",
    "garbage_colector.collect(), garbage_colector.get_threshold()"
   ]
  },
  {
   "cell_type": "markdown",
   "id": "8103c498-08f4-41bd-9ec2-dca1bb5a1128",
   "metadata": {},
   "source": [
    "# <center> EJECUCION **PROCESS POOL EXECUTOR DE CONCURRENT.FUTURES**</center>"
   ]
  },
  {
   "cell_type": "code",
   "execution_count": 25,
   "id": "bdddbcf5-b347-491d-aabf-59c17829d2fd",
   "metadata": {},
   "outputs": [],
   "source": [
    "# importa librerias para trabajar concurrencia\n",
    "from concurrent.futures import ProcessPoolExecutor"
   ]
  },
  {
   "cell_type": "markdown",
   "id": "87d2a713-bcf6-4e9a-ad96-5b93d5f41edc",
   "metadata": {},
   "source": [
    "# <center> **PROCESADORES POR DEFECTO**</center>"
   ]
  },
  {
   "cell_type": "code",
   "execution_count": 26,
   "id": "88f9352c-15d0-49df-81dc-99c8dfac07e8",
   "metadata": {},
   "outputs": [
    {
     "name": "stdout",
     "output_type": "stream",
     "text": [
      "corriendo tarea de tiempo  1corriendo tarea de tiempo \n",
      " corriendo tarea de tiempo \n",
      " 23corriendo tarea de tiempo \n",
      " 4\n",
      "corriendo tarea de tiempo  5\n",
      "corriendo tarea de tiempo  6\n",
      "corriendo tarea de tiempo  7\n",
      "corriendo tarea de tiempo  8\n",
      "corriendo tarea de tiempo  9\n",
      "corriendo tarea de tiempo  10\n",
      "[1, 2, 3, 4, 5, 6, 7, 8, 9, 10]\n",
      "CPU times: user 78.4 ms, sys: 30.9 ms, total: 109 ms\n",
      "Wall time: 18.1 s\n"
     ]
    },
    {
     "data": {
      "text/plain": [
       "(0, (700, 10, 10))"
      ]
     },
     "execution_count": 26,
     "metadata": {},
     "output_type": "execute_result"
    }
   ],
   "source": [
    "%%time\n",
    "\n",
    "executor = ProcessPoolExecutor()\n",
    "\n",
    "futures = []\n",
    "resultado = []\n",
    "for tiempo in range(1, LIMITE):\n",
    "    future = executor.submit(dormir_concurrent_futures, tiempo) # submit -> Programa el invocable, fn, para que se ejecute como fn(*args, **kwargs) y devuelve un objeto Future que representa la ejecución del invocable.\n",
    "    futures.append(future)\n",
    "\n",
    "# as_completed -> espera que se complete cada llamado de future para poder mostrar su resultado.\n",
    "# usar as_completed -> cuando se una el metodo submit para correr una funcion\n",
    "for future in as_completed(futures):\n",
    "    resultado.append(future.result()) # .result() obtiene el resultado de ejecutor\n",
    "\n",
    "executor.shutdown() # Indica al ejecutor que debe liberar todos los recursos que está utilizando cuando los futuros actualmente pendientes de ejecución finalicen.\n",
    "\n",
    "print(resultado)\n",
    "\n",
    "del executor, futures, resultado\n",
    "garbage_colector.collect(), garbage_colector.get_threshold()"
   ]
  },
  {
   "cell_type": "markdown",
   "id": "10692b45-3cc8-41f9-9c1a-874f870b3495",
   "metadata": {},
   "source": [
    "# <center> **EL ADMINISTRADOR DE CONTEXTO** NO GARANTIZA EL ORDEN</center>"
   ]
  },
  {
   "cell_type": "code",
   "execution_count": 27,
   "id": "9a6261ee-23eb-424b-89e9-eb93df0236c4",
   "metadata": {},
   "outputs": [
    {
     "name": "stdout",
     "output_type": "stream",
     "text": [
      "corriendo tarea de tiempo   corriendo tarea de tiempo 12\n",
      "corriendo tarea de tiempo \n",
      "corriendo tarea de tiempo  3 4\n",
      "\n",
      "corriendo tarea de tiempo  5\n",
      "corriendo tarea de tiempo  6\n",
      "corriendo tarea de tiempo  7\n",
      "corriendo tarea de tiempo  8\n",
      "corriendo tarea de tiempo  9\n",
      "corriendo tarea de tiempo  10\n",
      "[1, 2, 3, 4, 5, 6, 7, 8, 9, 10]\n",
      "CPU times: user 64.7 ms, sys: 52.4 ms, total: 117 ms\n",
      "Wall time: 18.1 s\n"
     ]
    },
    {
     "data": {
      "text/plain": [
       "(0, (700, 10, 10))"
      ]
     },
     "execution_count": 27,
     "metadata": {},
     "output_type": "execute_result"
    }
   ],
   "source": [
    "%%time\n",
    "\n",
    "futures = []\n",
    "resultado = []\n",
    "\n",
    "with ProcessPoolExecutor() as executor:\n",
    "    for tiempo in range(1, LIMITE):\n",
    "        future = executor.submit(dormir_concurrent_futures, tiempo)\n",
    "        futures.append(future)    \n",
    "\n",
    "    for future in as_completed(futures):\n",
    "        resultado.append(future.result())\n",
    "    \n",
    "print(resultado)\n",
    "\n",
    "del executor, futures, resultado\n",
    "garbage_colector.collect(), garbage_colector.get_threshold()"
   ]
  },
  {
   "cell_type": "markdown",
   "id": "9684a85c-c7a8-4cd4-b827-ba102a3bdcbb",
   "metadata": {},
   "source": [
    "# <center> **PROCESADORES POR DEFECTO USANDO MAP**</center>"
   ]
  },
  {
   "cell_type": "code",
   "execution_count": 28,
   "id": "07702abf-0845-427e-bc7d-a0dea126a79d",
   "metadata": {},
   "outputs": [
    {
     "name": "stdout",
     "output_type": "stream",
     "text": [
      "corriendo tarea de tiempo  corriendo tarea de tiempo  1\n",
      "2\n",
      "corriendo tarea de tiempo corriendo tarea de tiempo  4 \n",
      "3\n",
      "corriendo tarea de tiempo  5\n",
      "corriendo tarea de tiempo  6\n",
      "corriendo tarea de tiempo  7\n",
      "corriendo tarea de tiempo  8\n",
      "corriendo tarea de tiempo  9\n",
      "corriendo tarea de tiempo  10\n",
      "CPU times: user 55.4 ms, sys: 54.7 ms, total: 110 ms\n",
      "Wall time: 18.1 s\n"
     ]
    },
    {
     "data": {
      "text/plain": [
       "(0, (700, 10, 10))"
      ]
     },
     "execution_count": 28,
     "metadata": {},
     "output_type": "execute_result"
    }
   ],
   "source": [
    "%%time\n",
    "\n",
    "with ProcessPoolExecutor() as executor:\n",
    "    futures = executor.map(dormir_concurrent_futures, range(1, LIMITE))\n",
    "list(futures)\n",
    "\n",
    "del executor, futures\n",
    "garbage_colector.collect(), garbage_colector.get_threshold()"
   ]
  },
  {
   "cell_type": "markdown",
   "id": "5a2cec74-a2d4-4ac8-8e2d-46530d0d61d8",
   "metadata": {},
   "source": [
    "Jocelyn Arellano# <center> **PROCESADORES ASIGNADOS** max_workers</center>"
   ]
  },
  {
   "cell_type": "code",
   "execution_count": 29,
   "id": "388c2282-7a77-4c76-9e4f-cacc5661cbb1",
   "metadata": {},
   "outputs": [
    {
     "name": "stdout",
     "output_type": "stream",
     "text": [
      "corriendo tarea de tiempo corriendo tarea de tiempo   2\n",
      "1\n",
      "corriendo tarea de tiempo  3\n",
      "corriendo tarea de tiempo  4\n",
      "corriendo tarea de tiempo  5\n",
      "corriendo tarea de tiempo  6\n",
      "corriendo tarea de tiempo  7\n",
      "corriendo tarea de tiempo  8\n",
      "corriendo tarea de tiempo  9\n",
      "corriendo tarea de tiempo  10\n",
      "CPU times: user 37.5 ms, sys: 52.3 ms, total: 89.7 ms\n",
      "Wall time: 30.1 s\n"
     ]
    },
    {
     "data": {
      "text/plain": [
       "(0, (700, 10, 10))"
      ]
     },
     "execution_count": 29,
     "metadata": {},
     "output_type": "execute_result"
    }
   ],
   "source": [
    "%%time\n",
    "\n",
    "futures = []\n",
    "resultado = []\n",
    "with ProcessPoolExecutor(max_workers=mitad_procesamiento) as executor:    \n",
    "    futures = executor.map(dormir_concurrent_futures, range(1, LIMITE))\n",
    "list(futures)  \n",
    "\n",
    "del executor, futures, resultado\n",
    "garbage_colector.collect(), garbage_colector.get_threshold()"
   ]
  },
  {
   "cell_type": "markdown",
   "id": "4aae4cd9-12d0-4654-9c80-55357c4f3fa3",
   "metadata": {},
   "source": [
    "# *****************************************************************************************************************************************************************************************************************************"
   ]
  },
  {
   "cell_type": "markdown",
   "id": "4895685d-d5f7-4b70-8e0a-2f3624f0938b",
   "metadata": {},
   "source": [
    "# <center> HILOS I/O VS PROCESOS I/O</center>"
   ]
  },
  {
   "cell_type": "code",
   "execution_count": 30,
   "id": "173deb6b-9b9c-4bb7-bd1f-fad98b14123f",
   "metadata": {},
   "outputs": [],
   "source": [
    "cantidad = 100_000\n",
    "\n",
    "def lectura_io(value):\n",
    "    with open('demofile.txt', 'rb') as f:\n",
    "        return f.read(value * 100)"
   ]
  },
  {
   "cell_type": "markdown",
   "id": "54b8bdae-69d8-47c9-be76-478680b23d14",
   "metadata": {},
   "source": [
    "## <center> HILOS I/O</center>"
   ]
  },
  {
   "cell_type": "markdown",
   "id": "d5a3c59d-0c33-446a-b10f-26ad717d1dc4",
   "metadata": {},
   "source": [
    "### <center> LIMITAR LA CANTIDAD DE TAREAS PARA NO DESBORDAR LA MEMORIA POR ALMACENAMIENTO DE RESULTADOS EN LA COLA</center>"
   ]
  },
  {
   "cell_type": "code",
   "execution_count": 31,
   "id": "c9c147ec-18fb-461d-acde-4077a67f7185",
   "metadata": {},
   "outputs": [
    {
     "name": "stdout",
     "output_type": "stream",
     "text": [
      "[b'jorge cardona, hilos, procesos, asincronismo, sincronismo', b'jorge cardona, hilos, procesos, asincronismo, sincronismo', b'jorge cardona, hilos, procesos, asincronismo, sincronismo', b'jorge cardona, hilos, procesos, asincronismo, sincronismo', b'jorge cardona, hilos, procesos, asincronismo, sincronismo', b'jorge cardona, hilos, procesos, asincronismo, sincronismo', b'jorge cardona, hilos, procesos, asincronismo, sincronismo', b'jorge cardona, hilos, procesos, asincronismo, sincronismo', b'jorge cardona, hilos, procesos, asincronismo, sincronismo', b'jorge cardona, hilos, procesos, asincronismo, sincronismo', b'jorge cardona, hilos, procesos, asincronismo, sincronismo', b'jorge cardona, hilos, procesos, asincronismo, sincronismo', b'jorge cardona, hilos, procesos, asincronismo, sincronismo', b'jorge cardona, hilos, procesos, asincronismo, sincronismo', b'jorge cardona, hilos, procesos, asincronismo, sincronismo', b'jorge cardona, hilos, procesos, asincronismo, sincronismo', b'jorge cardona, hilos, procesos, asincronismo, sincronismo', b'jorge cardona, hilos, procesos, asincronismo, sincronismo', b'jorge cardona, hilos, procesos, asincronismo, sincronismo', b'jorge cardona, hilos, procesos, asincronismo, sincronismo', b'jorge cardona, hilos, procesos, asincronismo, sincronismo', b'jorge cardona, hilos, procesos, asincronismo, sincronismo', b'jorge cardona, hilos, procesos, asincronismo, sincronismo', b'jorge cardona, hilos, procesos, asincronismo, sincronismo', b'jorge cardona, hilos, procesos, asincronismo, sincronismo', b'jorge cardona, hilos, procesos, asincronismo, sincronismo', b'jorge cardona, hilos, procesos, asincronismo, sincronismo', b'jorge cardona, hilos, procesos, asincronismo, sincronismo', b'jorge cardona, hilos, procesos, asincronismo, sincronismo', b'jorge cardona, hilos, procesos, asincronismo, sincronismo', b'jorge cardona, hilos, procesos, asincronismo, sincronismo', b'jorge cardona, hilos, procesos, asincronismo, sincronismo', b'jorge cardona, hilos, procesos, asincronismo, sincronismo', b'jorge cardona, hilos, procesos, asincronismo, sincronismo', b'jorge cardona, hilos, procesos, asincronismo, sincronismo', b'jorge cardona, hilos, procesos, asincronismo, sincronismo', b'jorge cardona, hilos, procesos, asincronismo, sincronismo', b'jorge cardona, hilos, procesos, asincronismo, sincronismo', b'jorge cardona, hilos, procesos, asincronismo, sincronismo', b'jorge cardona, hilos, procesos, asincronismo, sincronismo', b'jorge cardona, hilos, procesos, asincronismo, sincronismo', b'jorge cardona, hilos, procesos, asincronismo, sincronismo', b'jorge cardona, hilos, procesos, asincronismo, sincronismo', b'jorge cardona, hilos, procesos, asincronismo, sincronismo', b'jorge cardona, hilos, procesos, asincronismo, sincronismo', b'jorge cardona, hilos, procesos, asincronismo, sincronismo', b'jorge cardona, hilos, procesos, asincronismo, sincronismo', b'jorge cardona, hilos, procesos, asincronismo, sincronismo', b'jorge cardona, hilos, procesos, asincronismo, sincronismo', b'jorge cardona, hilos, procesos, asincronismo, sincronismo', b'jorge cardona, hilos, procesos, asincronismo, sincronismo', b'jorge cardona, hilos, procesos, asincronismo, sincronismo', b'jorge cardona, hilos, procesos, asincronismo, sincronismo', b'jorge cardona, hilos, procesos, asincronismo, sincronismo', b'jorge cardona, hilos, procesos, asincronismo, sincronismo', b'jorge cardona, hilos, procesos, asincronismo, sincronismo', b'jorge cardona, hilos, procesos, asincronismo, sincronismo', b'jorge cardona, hilos, procesos, asincronismo, sincronismo', b'jorge cardona, hilos, procesos, asincronismo, sincronismo', b'jorge cardona, hilos, procesos, asincronismo, sincronismo', b'jorge cardona, hilos, procesos, asincronismo, sincronismo', b'jorge cardona, hilos, procesos, asincronismo, sincronismo', b'jorge cardona, hilos, procesos, asincronismo, sincronismo', b'jorge cardona, hilos, procesos, asincronismo, sincronismo', b'jorge cardona, hilos, procesos, asincronismo, sincronismo', b'jorge cardona, hilos, procesos, asincronismo, sincronismo', b'jorge cardona, hilos, procesos, asincronismo, sincronismo', b'jorge cardona, hilos, procesos, asincronismo, sincronismo', b'jorge cardona, hilos, procesos, asincronismo, sincronismo', b'jorge cardona, hilos, procesos, asincronismo, sincronismo', b'jorge cardona, hilos, procesos, asincronismo, sincronismo', b'jorge cardona, hilos, procesos, asincronismo, sincronismo', b'jorge cardona, hilos, procesos, asincronismo, sincronismo', b'jorge cardona, hilos, procesos, asincronismo, sincronismo', b'jorge cardona, hilos, procesos, asincronismo, sincronismo', b'jorge cardona, hilos, procesos, asincronismo, sincronismo', b'jorge cardona, hilos, procesos, asincronismo, sincronismo', b'jorge cardona, hilos, procesos, asincronismo, sincronismo', b'jorge cardona, hilos, procesos, asincronismo, sincronismo', b'jorge cardona, hilos, procesos, asincronismo, sincronismo', b'jorge cardona, hilos, procesos, asincronismo, sincronismo', b'jorge cardona, hilos, procesos, asincronismo, sincronismo', b'jorge cardona, hilos, procesos, asincronismo, sincronismo', b'jorge cardona, hilos, procesos, asincronismo, sincronismo', b'jorge cardona, hilos, procesos, asincronismo, sincronismo', b'jorge cardona, hilos, procesos, asincronismo, sincronismo', b'jorge cardona, hilos, procesos, asincronismo, sincronismo', b'jorge cardona, hilos, procesos, asincronismo, sincronismo', b'jorge cardona, hilos, procesos, asincronismo, sincronismo', b'jorge cardona, hilos, procesos, asincronismo, sincronismo', b'jorge cardona, hilos, procesos, asincronismo, sincronismo', b'jorge cardona, hilos, procesos, asincronismo, sincronismo', b'jorge cardona, hilos, procesos, asincronismo, sincronismo', b'jorge cardona, hilos, procesos, asincronismo, sincronismo', b'jorge cardona, hilos, procesos, asincronismo, sincronismo', b'jorge cardona, hilos, procesos, asincronismo, sincronismo', b'jorge cardona, hilos, procesos, asincronismo, sincronismo', b'jorge cardona, hilos, procesos, asincronismo, sincronismo', b'jorge cardona, hilos, procesos, asincronismo, sincronismo', b'jorge cardona, hilos, procesos, asincronismo, sincronismo']\n",
      "CPU times: user 9.17 s, sys: 17.4 s, total: 26.6 s\n",
      "Wall time: 16.8 s\n"
     ]
    },
    {
     "data": {
      "text/plain": [
       "(0, (700, 10, 10))"
      ]
     },
     "execution_count": 31,
     "metadata": {},
     "output_type": "execute_result"
    }
   ],
   "source": [
    "%%time\n",
    "almacenar_resultados = cola_classica()\n",
    "listado_instancias = [] \n",
    "\n",
    "@almacenar_en_cola\n",
    "def lectura_io_hilo(value):\n",
    "    with open('demofile.txt', 'rb') as f:\n",
    "        return f.read(value * 100)\n",
    "    \n",
    "for valor_lectura in range(1, cantidad//2):\n",
    "  \n",
    "    instancia = Thread(name=f'ejecucion de tarea # {valor_lectura}', target=lectura_io_hilo, args=(valor_lectura,))\n",
    "    instancia.start()    \n",
    "    listado_instancias.append(instancia)\n",
    "\n",
    "    \n",
    "for tipo_instancia in listado_instancias:    \n",
    "        tipo_instancia.join()\n",
    "        \n",
    "resultado = obtener_resultado_cola_tarea(almacenar_resultados)\n",
    "print(resultado[:100])\n",
    "\n",
    "del almacenar_resultados, listado_instancias, resultado\n",
    "garbage_colector.collect(), garbage_colector.get_threshold()"
   ]
  },
  {
   "cell_type": "markdown",
   "id": "bb4a9051-9906-4a6d-97db-929fc7b8d055",
   "metadata": {},
   "source": [
    "### <center> CAPACIDAD DE PROCESAR TODAS LAS TAREAS SIN DESBORDAR LA MEMORIA</center>"
   ]
  },
  {
   "cell_type": "code",
   "execution_count": 32,
   "id": "bfbf0170-2d39-465b-9783-77f07a1fd6f1",
   "metadata": {
    "scrolled": true,
    "tags": []
   },
   "outputs": [
    {
     "name": "stdout",
     "output_type": "stream",
     "text": [
      "100000\n",
      "[b'', b'jorge cardona, hilos, procesos, asincronismo, sincronismo', b'jorge cardona, hilos, procesos, asincronismo, sincronismo', b'jorge cardona, hilos, procesos, asincronismo, sincronismo', b'jorge cardona, hilos, procesos, asincronismo, sincronismo', b'jorge cardona, hilos, procesos, asincronismo, sincronismo', b'jorge cardona, hilos, procesos, asincronismo, sincronismo', b'jorge cardona, hilos, procesos, asincronismo, sincronismo', b'jorge cardona, hilos, procesos, asincronismo, sincronismo', b'jorge cardona, hilos, procesos, asincronismo, sincronismo', b'jorge cardona, hilos, procesos, asincronismo, sincronismo', b'jorge cardona, hilos, procesos, asincronismo, sincronismo', b'jorge cardona, hilos, procesos, asincronismo, sincronismo', b'jorge cardona, hilos, procesos, asincronismo, sincronismo', b'jorge cardona, hilos, procesos, asincronismo, sincronismo', b'jorge cardona, hilos, procesos, asincronismo, sincronismo', b'jorge cardona, hilos, procesos, asincronismo, sincronismo', b'jorge cardona, hilos, procesos, asincronismo, sincronismo', b'jorge cardona, hilos, procesos, asincronismo, sincronismo', b'jorge cardona, hilos, procesos, asincronismo, sincronismo', b'jorge cardona, hilos, procesos, asincronismo, sincronismo', b'jorge cardona, hilos, procesos, asincronismo, sincronismo', b'jorge cardona, hilos, procesos, asincronismo, sincronismo', b'jorge cardona, hilos, procesos, asincronismo, sincronismo', b'jorge cardona, hilos, procesos, asincronismo, sincronismo', b'jorge cardona, hilos, procesos, asincronismo, sincronismo', b'jorge cardona, hilos, procesos, asincronismo, sincronismo', b'jorge cardona, hilos, procesos, asincronismo, sincronismo', b'jorge cardona, hilos, procesos, asincronismo, sincronismo', b'jorge cardona, hilos, procesos, asincronismo, sincronismo', b'jorge cardona, hilos, procesos, asincronismo, sincronismo', b'jorge cardona, hilos, procesos, asincronismo, sincronismo', b'jorge cardona, hilos, procesos, asincronismo, sincronismo', b'jorge cardona, hilos, procesos, asincronismo, sincronismo', b'jorge cardona, hilos, procesos, asincronismo, sincronismo', b'jorge cardona, hilos, procesos, asincronismo, sincronismo', b'jorge cardona, hilos, procesos, asincronismo, sincronismo', b'jorge cardona, hilos, procesos, asincronismo, sincronismo', b'jorge cardona, hilos, procesos, asincronismo, sincronismo', b'jorge cardona, hilos, procesos, asincronismo, sincronismo', b'jorge cardona, hilos, procesos, asincronismo, sincronismo', b'jorge cardona, hilos, procesos, asincronismo, sincronismo', b'jorge cardona, hilos, procesos, asincronismo, sincronismo', b'jorge cardona, hilos, procesos, asincronismo, sincronismo', b'jorge cardona, hilos, procesos, asincronismo, sincronismo', b'jorge cardona, hilos, procesos, asincronismo, sincronismo', b'jorge cardona, hilos, procesos, asincronismo, sincronismo', b'jorge cardona, hilos, procesos, asincronismo, sincronismo', b'jorge cardona, hilos, procesos, asincronismo, sincronismo', b'jorge cardona, hilos, procesos, asincronismo, sincronismo', b'jorge cardona, hilos, procesos, asincronismo, sincronismo', b'jorge cardona, hilos, procesos, asincronismo, sincronismo', b'jorge cardona, hilos, procesos, asincronismo, sincronismo', b'jorge cardona, hilos, procesos, asincronismo, sincronismo', b'jorge cardona, hilos, procesos, asincronismo, sincronismo', b'jorge cardona, hilos, procesos, asincronismo, sincronismo', b'jorge cardona, hilos, procesos, asincronismo, sincronismo', b'jorge cardona, hilos, procesos, asincronismo, sincronismo', b'jorge cardona, hilos, procesos, asincronismo, sincronismo', b'jorge cardona, hilos, procesos, asincronismo, sincronismo', b'jorge cardona, hilos, procesos, asincronismo, sincronismo', b'jorge cardona, hilos, procesos, asincronismo, sincronismo', b'jorge cardona, hilos, procesos, asincronismo, sincronismo', b'jorge cardona, hilos, procesos, asincronismo, sincronismo', b'jorge cardona, hilos, procesos, asincronismo, sincronismo', b'jorge cardona, hilos, procesos, asincronismo, sincronismo', b'jorge cardona, hilos, procesos, asincronismo, sincronismo', b'jorge cardona, hilos, procesos, asincronismo, sincronismo', b'jorge cardona, hilos, procesos, asincronismo, sincronismo', b'jorge cardona, hilos, procesos, asincronismo, sincronismo', b'jorge cardona, hilos, procesos, asincronismo, sincronismo', b'jorge cardona, hilos, procesos, asincronismo, sincronismo', b'jorge cardona, hilos, procesos, asincronismo, sincronismo', b'jorge cardona, hilos, procesos, asincronismo, sincronismo', b'jorge cardona, hilos, procesos, asincronismo, sincronismo', b'jorge cardona, hilos, procesos, asincronismo, sincronismo', b'jorge cardona, hilos, procesos, asincronismo, sincronismo', b'jorge cardona, hilos, procesos, asincronismo, sincronismo', b'jorge cardona, hilos, procesos, asincronismo, sincronismo', b'jorge cardona, hilos, procesos, asincronismo, sincronismo', b'jorge cardona, hilos, procesos, asincronismo, sincronismo', b'jorge cardona, hilos, procesos, asincronismo, sincronismo', b'jorge cardona, hilos, procesos, asincronismo, sincronismo', b'jorge cardona, hilos, procesos, asincronismo, sincronismo', b'jorge cardona, hilos, procesos, asincronismo, sincronismo', b'jorge cardona, hilos, procesos, asincronismo, sincronismo', b'jorge cardona, hilos, procesos, asincronismo, sincronismo', b'jorge cardona, hilos, procesos, asincronismo, sincronismo', b'jorge cardona, hilos, procesos, asincronismo, sincronismo', b'jorge cardona, hilos, procesos, asincronismo, sincronismo', b'jorge cardona, hilos, procesos, asincronismo, sincronismo', b'jorge cardona, hilos, procesos, asincronismo, sincronismo', b'jorge cardona, hilos, procesos, asincronismo, sincronismo', b'jorge cardona, hilos, procesos, asincronismo, sincronismo', b'jorge cardona, hilos, procesos, asincronismo, sincronismo', b'jorge cardona, hilos, procesos, asincronismo, sincronismo', b'jorge cardona, hilos, procesos, asincronismo, sincronismo', b'jorge cardona, hilos, procesos, asincronismo, sincronismo', b'jorge cardona, hilos, procesos, asincronismo, sincronismo', b'jorge cardona, hilos, procesos, asincronismo, sincronismo']\n",
      "CPU times: user 11.5 s, sys: 52.3 s, total: 1min 3s\n",
      "Wall time: 25.2 s\n"
     ]
    },
    {
     "data": {
      "text/plain": [
       "(0, (700, 10, 10))"
      ]
     },
     "execution_count": 32,
     "metadata": {},
     "output_type": "execute_result"
    }
   ],
   "source": [
    "%%time\n",
    "\n",
    "with ThreadPool() as multi_hilos:        \n",
    "    resultado = multi_hilos.map(lectura_io, range(cantidad))\n",
    "    print(len(resultado))\n",
    "    \n",
    "print(list(resultado)[:100])\n",
    "\n",
    "del multi_hilos, resultado\n",
    "garbage_colector.collect(), garbage_colector.get_threshold()"
   ]
  },
  {
   "cell_type": "code",
   "execution_count": 33,
   "id": "3d5faf03-0eb3-4890-b339-061bf6714f12",
   "metadata": {
    "scrolled": true,
    "tags": []
   },
   "outputs": [
    {
     "name": "stdout",
     "output_type": "stream",
     "text": [
      "100000\n",
      "[]\n",
      "CPU times: user 17.8 s, sys: 51.7 s, total: 1min 9s\n",
      "Wall time: 30.2 s\n"
     ]
    },
    {
     "data": {
      "text/plain": [
       "(0, (700, 10, 10))"
      ]
     },
     "execution_count": 33,
     "metadata": {},
     "output_type": "execute_result"
    }
   ],
   "source": [
    "%%time\n",
    "\n",
    "with ThreadPoolExecutor() as multi_hilos:        \n",
    "    resultado = multi_hilos.map(lectura_io, range(cantidad))\n",
    "    print(len(list(resultado)))\n",
    "    \n",
    "print(list(resultado))\n",
    "\n",
    "del multi_hilos, resultado\n",
    "garbage_colector.collect(), garbage_colector.get_threshold()"
   ]
  },
  {
   "cell_type": "markdown",
   "id": "c5eb598c-f906-4f28-bf68-d37e2b81ce25",
   "metadata": {},
   "source": [
    "## <center> PROCESOS I/O</center>"
   ]
  },
  {
   "cell_type": "code",
   "execution_count": 34,
   "id": "330dc236-c912-4baa-a5f6-03ed6e9b6410",
   "metadata": {
    "scrolled": true,
    "tags": []
   },
   "outputs": [
    {
     "name": "stdout",
     "output_type": "stream",
     "text": [
      "[b'jorge cardona, hilos, procesos, asincronismo, sincronismo', b'jorge cardona, hilos, procesos, asincronismo, sincronismo', b'jorge cardona, hilos, procesos, asincronismo, sincronismo', b'jorge cardona, hilos, procesos, asincronismo, sincronismo', b'jorge cardona, hilos, procesos, asincronismo, sincronismo', b'jorge cardona, hilos, procesos, asincronismo, sincronismo', b'jorge cardona, hilos, procesos, asincronismo, sincronismo', b'jorge cardona, hilos, procesos, asincronismo, sincronismo', b'jorge cardona, hilos, procesos, asincronismo, sincronismo', b'jorge cardona, hilos, procesos, asincronismo, sincronismo', b'jorge cardona, hilos, procesos, asincronismo, sincronismo', b'jorge cardona, hilos, procesos, asincronismo, sincronismo', b'jorge cardona, hilos, procesos, asincronismo, sincronismo', b'jorge cardona, hilos, procesos, asincronismo, sincronismo', b'jorge cardona, hilos, procesos, asincronismo, sincronismo', b'jorge cardona, hilos, procesos, asincronismo, sincronismo', b'jorge cardona, hilos, procesos, asincronismo, sincronismo', b'jorge cardona, hilos, procesos, asincronismo, sincronismo', b'jorge cardona, hilos, procesos, asincronismo, sincronismo', b'jorge cardona, hilos, procesos, asincronismo, sincronismo', b'jorge cardona, hilos, procesos, asincronismo, sincronismo', b'jorge cardona, hilos, procesos, asincronismo, sincronismo', b'jorge cardona, hilos, procesos, asincronismo, sincronismo', b'jorge cardona, hilos, procesos, asincronismo, sincronismo', b'jorge cardona, hilos, procesos, asincronismo, sincronismo', b'jorge cardona, hilos, procesos, asincronismo, sincronismo', b'jorge cardona, hilos, procesos, asincronismo, sincronismo', b'jorge cardona, hilos, procesos, asincronismo, sincronismo', b'jorge cardona, hilos, procesos, asincronismo, sincronismo', b'jorge cardona, hilos, procesos, asincronismo, sincronismo', b'jorge cardona, hilos, procesos, asincronismo, sincronismo', b'jorge cardona, hilos, procesos, asincronismo, sincronismo', b'jorge cardona, hilos, procesos, asincronismo, sincronismo', b'jorge cardona, hilos, procesos, asincronismo, sincronismo', b'jorge cardona, hilos, procesos, asincronismo, sincronismo', b'jorge cardona, hilos, procesos, asincronismo, sincronismo', b'jorge cardona, hilos, procesos, asincronismo, sincronismo', b'jorge cardona, hilos, procesos, asincronismo, sincronismo', b'jorge cardona, hilos, procesos, asincronismo, sincronismo', b'jorge cardona, hilos, procesos, asincronismo, sincronismo', b'jorge cardona, hilos, procesos, asincronismo, sincronismo', b'jorge cardona, hilos, procesos, asincronismo, sincronismo', b'jorge cardona, hilos, procesos, asincronismo, sincronismo', b'jorge cardona, hilos, procesos, asincronismo, sincronismo', b'jorge cardona, hilos, procesos, asincronismo, sincronismo', b'jorge cardona, hilos, procesos, asincronismo, sincronismo', b'jorge cardona, hilos, procesos, asincronismo, sincronismo', b'jorge cardona, hilos, procesos, asincronismo, sincronismo', b'jorge cardona, hilos, procesos, asincronismo, sincronismo', b'jorge cardona, hilos, procesos, asincronismo, sincronismo', b'jorge cardona, hilos, procesos, asincronismo, sincronismo', b'jorge cardona, hilos, procesos, asincronismo, sincronismo', b'jorge cardona, hilos, procesos, asincronismo, sincronismo', b'jorge cardona, hilos, procesos, asincronismo, sincronismo', b'jorge cardona, hilos, procesos, asincronismo, sincronismo', b'jorge cardona, hilos, procesos, asincronismo, sincronismo', b'jorge cardona, hilos, procesos, asincronismo, sincronismo', b'jorge cardona, hilos, procesos, asincronismo, sincronismo', b'jorge cardona, hilos, procesos, asincronismo, sincronismo', b'jorge cardona, hilos, procesos, asincronismo, sincronismo', b'jorge cardona, hilos, procesos, asincronismo, sincronismo', b'jorge cardona, hilos, procesos, asincronismo, sincronismo', b'jorge cardona, hilos, procesos, asincronismo, sincronismo', b'jorge cardona, hilos, procesos, asincronismo, sincronismo', b'jorge cardona, hilos, procesos, asincronismo, sincronismo', b'jorge cardona, hilos, procesos, asincronismo, sincronismo', b'jorge cardona, hilos, procesos, asincronismo, sincronismo', b'jorge cardona, hilos, procesos, asincronismo, sincronismo', b'jorge cardona, hilos, procesos, asincronismo, sincronismo', b'jorge cardona, hilos, procesos, asincronismo, sincronismo', b'jorge cardona, hilos, procesos, asincronismo, sincronismo', b'jorge cardona, hilos, procesos, asincronismo, sincronismo', b'jorge cardona, hilos, procesos, asincronismo, sincronismo', b'jorge cardona, hilos, procesos, asincronismo, sincronismo', b'jorge cardona, hilos, procesos, asincronismo, sincronismo', b'jorge cardona, hilos, procesos, asincronismo, sincronismo', b'jorge cardona, hilos, procesos, asincronismo, sincronismo', b'jorge cardona, hilos, procesos, asincronismo, sincronismo', b'jorge cardona, hilos, procesos, asincronismo, sincronismo', b'jorge cardona, hilos, procesos, asincronismo, sincronismo', b'jorge cardona, hilos, procesos, asincronismo, sincronismo', b'jorge cardona, hilos, procesos, asincronismo, sincronismo', b'jorge cardona, hilos, procesos, asincronismo, sincronismo', b'jorge cardona, hilos, procesos, asincronismo, sincronismo', b'jorge cardona, hilos, procesos, asincronismo, sincronismo', b'jorge cardona, hilos, procesos, asincronismo, sincronismo', b'jorge cardona, hilos, procesos, asincronismo, sincronismo', b'jorge cardona, hilos, procesos, asincronismo, sincronismo', b'jorge cardona, hilos, procesos, asincronismo, sincronismo', b'jorge cardona, hilos, procesos, asincronismo, sincronismo', b'jorge cardona, hilos, procesos, asincronismo, sincronismo', b'jorge cardona, hilos, procesos, asincronismo, sincronismo', b'jorge cardona, hilos, procesos, asincronismo, sincronismo', b'jorge cardona, hilos, procesos, asincronismo, sincronismo', b'jorge cardona, hilos, procesos, asincronismo, sincronismo', b'jorge cardona, hilos, procesos, asincronismo, sincronismo', b'jorge cardona, hilos, procesos, asincronismo, sincronismo', b'jorge cardona, hilos, procesos, asincronismo, sincronismo', b'jorge cardona, hilos, procesos, asincronismo, sincronismo', b'jorge cardona, hilos, procesos, asincronismo, sincronismo']\n",
      "CPU times: user 432 ms, sys: 3.25 s, total: 3.68 s\n",
      "Wall time: 3.7 s\n"
     ]
    },
    {
     "data": {
      "text/plain": [
       "(0, (700, 10, 10))"
      ]
     },
     "execution_count": 34,
     "metadata": {},
     "output_type": "execute_result"
    }
   ],
   "source": [
    "%%time\n",
    "almacenar_resultados_proceso = cola_proceso()\n",
    "listado_instancias = [] \n",
    "\n",
    "@almacenar_en_cola_proceso\n",
    "def lectura_io_proceso(value):\n",
    "    with open('demofile.txt', 'rb') as f:\n",
    "        return f.read(value * 100)\n",
    "    \n",
    "for valor_lectura in range(1, cantidad//200):\n",
    "  \n",
    "    instancia = Process(name=f'ejecucion de tarea # {valor_lectura}', target=lectura_io_proceso, args=(valor_lectura,))\n",
    "    instancia.start()    \n",
    "    listado_instancias.append(instancia)\n",
    "\n",
    "    \n",
    "for tipo_instancia in listado_instancias:    \n",
    "        tipo_instancia.join()\n",
    "        \n",
    "resultado = obtener_resultado_cola_tarea_while(almacenar_resultados_proceso)\n",
    "print(resultado[:100])\n",
    "\n",
    "del almacenar_resultados_proceso, listado_instancias, resultado\n",
    "garbage_colector.collect(), garbage_colector.get_threshold()"
   ]
  },
  {
   "cell_type": "code",
   "execution_count": 35,
   "id": "8510266a-9965-436f-b3e1-90598f830efd",
   "metadata": {
    "scrolled": true,
    "tags": []
   },
   "outputs": [
    {
     "name": "stdout",
     "output_type": "stream",
     "text": [
      "100000\n",
      "[b'', b'jorge cardona, hilos, procesos, asincronismo, sincronismo', b'jorge cardona, hilos, procesos, asincronismo, sincronismo', b'jorge cardona, hilos, procesos, asincronismo, sincronismo', b'jorge cardona, hilos, procesos, asincronismo, sincronismo', b'jorge cardona, hilos, procesos, asincronismo, sincronismo', b'jorge cardona, hilos, procesos, asincronismo, sincronismo', b'jorge cardona, hilos, procesos, asincronismo, sincronismo', b'jorge cardona, hilos, procesos, asincronismo, sincronismo', b'jorge cardona, hilos, procesos, asincronismo, sincronismo', b'jorge cardona, hilos, procesos, asincronismo, sincronismo', b'jorge cardona, hilos, procesos, asincronismo, sincronismo', b'jorge cardona, hilos, procesos, asincronismo, sincronismo', b'jorge cardona, hilos, procesos, asincronismo, sincronismo', b'jorge cardona, hilos, procesos, asincronismo, sincronismo', b'jorge cardona, hilos, procesos, asincronismo, sincronismo', b'jorge cardona, hilos, procesos, asincronismo, sincronismo', b'jorge cardona, hilos, procesos, asincronismo, sincronismo', b'jorge cardona, hilos, procesos, asincronismo, sincronismo', b'jorge cardona, hilos, procesos, asincronismo, sincronismo', b'jorge cardona, hilos, procesos, asincronismo, sincronismo', b'jorge cardona, hilos, procesos, asincronismo, sincronismo', b'jorge cardona, hilos, procesos, asincronismo, sincronismo', b'jorge cardona, hilos, procesos, asincronismo, sincronismo', b'jorge cardona, hilos, procesos, asincronismo, sincronismo', b'jorge cardona, hilos, procesos, asincronismo, sincronismo', b'jorge cardona, hilos, procesos, asincronismo, sincronismo', b'jorge cardona, hilos, procesos, asincronismo, sincronismo', b'jorge cardona, hilos, procesos, asincronismo, sincronismo', b'jorge cardona, hilos, procesos, asincronismo, sincronismo', b'jorge cardona, hilos, procesos, asincronismo, sincronismo', b'jorge cardona, hilos, procesos, asincronismo, sincronismo', b'jorge cardona, hilos, procesos, asincronismo, sincronismo', b'jorge cardona, hilos, procesos, asincronismo, sincronismo', b'jorge cardona, hilos, procesos, asincronismo, sincronismo', b'jorge cardona, hilos, procesos, asincronismo, sincronismo', b'jorge cardona, hilos, procesos, asincronismo, sincronismo', b'jorge cardona, hilos, procesos, asincronismo, sincronismo', b'jorge cardona, hilos, procesos, asincronismo, sincronismo', b'jorge cardona, hilos, procesos, asincronismo, sincronismo', b'jorge cardona, hilos, procesos, asincronismo, sincronismo', b'jorge cardona, hilos, procesos, asincronismo, sincronismo', b'jorge cardona, hilos, procesos, asincronismo, sincronismo', b'jorge cardona, hilos, procesos, asincronismo, sincronismo', b'jorge cardona, hilos, procesos, asincronismo, sincronismo', b'jorge cardona, hilos, procesos, asincronismo, sincronismo', b'jorge cardona, hilos, procesos, asincronismo, sincronismo', b'jorge cardona, hilos, procesos, asincronismo, sincronismo', b'jorge cardona, hilos, procesos, asincronismo, sincronismo', b'jorge cardona, hilos, procesos, asincronismo, sincronismo', b'jorge cardona, hilos, procesos, asincronismo, sincronismo', b'jorge cardona, hilos, procesos, asincronismo, sincronismo', b'jorge cardona, hilos, procesos, asincronismo, sincronismo', b'jorge cardona, hilos, procesos, asincronismo, sincronismo', b'jorge cardona, hilos, procesos, asincronismo, sincronismo', b'jorge cardona, hilos, procesos, asincronismo, sincronismo', b'jorge cardona, hilos, procesos, asincronismo, sincronismo', b'jorge cardona, hilos, procesos, asincronismo, sincronismo', b'jorge cardona, hilos, procesos, asincronismo, sincronismo', b'jorge cardona, hilos, procesos, asincronismo, sincronismo', b'jorge cardona, hilos, procesos, asincronismo, sincronismo', b'jorge cardona, hilos, procesos, asincronismo, sincronismo', b'jorge cardona, hilos, procesos, asincronismo, sincronismo', b'jorge cardona, hilos, procesos, asincronismo, sincronismo', b'jorge cardona, hilos, procesos, asincronismo, sincronismo', b'jorge cardona, hilos, procesos, asincronismo, sincronismo', b'jorge cardona, hilos, procesos, asincronismo, sincronismo', b'jorge cardona, hilos, procesos, asincronismo, sincronismo', b'jorge cardona, hilos, procesos, asincronismo, sincronismo', b'jorge cardona, hilos, procesos, asincronismo, sincronismo', b'jorge cardona, hilos, procesos, asincronismo, sincronismo', b'jorge cardona, hilos, procesos, asincronismo, sincronismo', b'jorge cardona, hilos, procesos, asincronismo, sincronismo', b'jorge cardona, hilos, procesos, asincronismo, sincronismo', b'jorge cardona, hilos, procesos, asincronismo, sincronismo', b'jorge cardona, hilos, procesos, asincronismo, sincronismo', b'jorge cardona, hilos, procesos, asincronismo, sincronismo', b'jorge cardona, hilos, procesos, asincronismo, sincronismo', b'jorge cardona, hilos, procesos, asincronismo, sincronismo', b'jorge cardona, hilos, procesos, asincronismo, sincronismo', b'jorge cardona, hilos, procesos, asincronismo, sincronismo', b'jorge cardona, hilos, procesos, asincronismo, sincronismo', b'jorge cardona, hilos, procesos, asincronismo, sincronismo', b'jorge cardona, hilos, procesos, asincronismo, sincronismo', b'jorge cardona, hilos, procesos, asincronismo, sincronismo', b'jorge cardona, hilos, procesos, asincronismo, sincronismo', b'jorge cardona, hilos, procesos, asincronismo, sincronismo', b'jorge cardona, hilos, procesos, asincronismo, sincronismo', b'jorge cardona, hilos, procesos, asincronismo, sincronismo', b'jorge cardona, hilos, procesos, asincronismo, sincronismo', b'jorge cardona, hilos, procesos, asincronismo, sincronismo', b'jorge cardona, hilos, procesos, asincronismo, sincronismo', b'jorge cardona, hilos, procesos, asincronismo, sincronismo', b'jorge cardona, hilos, procesos, asincronismo, sincronismo', b'jorge cardona, hilos, procesos, asincronismo, sincronismo', b'jorge cardona, hilos, procesos, asincronismo, sincronismo', b'jorge cardona, hilos, procesos, asincronismo, sincronismo', b'jorge cardona, hilos, procesos, asincronismo, sincronismo', b'jorge cardona, hilos, procesos, asincronismo, sincronismo', b'jorge cardona, hilos, procesos, asincronismo, sincronismo']\n",
      "CPU times: user 185 ms, sys: 0 ns, total: 185 ms\n",
      "Wall time: 580 ms\n"
     ]
    },
    {
     "data": {
      "text/plain": [
       "(0, (700, 10, 10))"
      ]
     },
     "execution_count": 35,
     "metadata": {},
     "output_type": "execute_result"
    }
   ],
   "source": [
    "%%time\n",
    "with Pool() as multiprocessing:\n",
    "    resultado = multiprocessing.map(lectura_io, range(cantidad))\n",
    "    print(len(list(resultado)))\n",
    "    \n",
    "print(list(resultado)[:100])\n",
    "\n",
    "del multiprocessing, resultado\n",
    "garbage_colector.collect(), garbage_colector.get_threshold()"
   ]
  },
  {
   "cell_type": "code",
   "execution_count": 36,
   "id": "dbbe9522-5378-493b-9415-61626cc71537",
   "metadata": {
    "scrolled": true,
    "tags": []
   },
   "outputs": [
    {
     "name": "stdout",
     "output_type": "stream",
     "text": [
      "[b'', b'jorge cardona, hilos, procesos, asincronismo, sincronismo', b'jorge cardona, hilos, procesos, asincronismo, sincronismo', b'jorge cardona, hilos, procesos, asincronismo, sincronismo', b'jorge cardona, hilos, procesos, asincronismo, sincronismo', b'jorge cardona, hilos, procesos, asincronismo, sincronismo', b'jorge cardona, hilos, procesos, asincronismo, sincronismo', b'jorge cardona, hilos, procesos, asincronismo, sincronismo', b'jorge cardona, hilos, procesos, asincronismo, sincronismo', b'jorge cardona, hilos, procesos, asincronismo, sincronismo', b'jorge cardona, hilos, procesos, asincronismo, sincronismo', b'jorge cardona, hilos, procesos, asincronismo, sincronismo', b'jorge cardona, hilos, procesos, asincronismo, sincronismo', b'jorge cardona, hilos, procesos, asincronismo, sincronismo', b'jorge cardona, hilos, procesos, asincronismo, sincronismo', b'jorge cardona, hilos, procesos, asincronismo, sincronismo', b'jorge cardona, hilos, procesos, asincronismo, sincronismo', b'jorge cardona, hilos, procesos, asincronismo, sincronismo', b'jorge cardona, hilos, procesos, asincronismo, sincronismo', b'jorge cardona, hilos, procesos, asincronismo, sincronismo', b'jorge cardona, hilos, procesos, asincronismo, sincronismo', b'jorge cardona, hilos, procesos, asincronismo, sincronismo', b'jorge cardona, hilos, procesos, asincronismo, sincronismo', b'jorge cardona, hilos, procesos, asincronismo, sincronismo', b'jorge cardona, hilos, procesos, asincronismo, sincronismo', b'jorge cardona, hilos, procesos, asincronismo, sincronismo', b'jorge cardona, hilos, procesos, asincronismo, sincronismo', b'jorge cardona, hilos, procesos, asincronismo, sincronismo', b'jorge cardona, hilos, procesos, asincronismo, sincronismo', b'jorge cardona, hilos, procesos, asincronismo, sincronismo', b'jorge cardona, hilos, procesos, asincronismo, sincronismo', b'jorge cardona, hilos, procesos, asincronismo, sincronismo', b'jorge cardona, hilos, procesos, asincronismo, sincronismo', b'jorge cardona, hilos, procesos, asincronismo, sincronismo', b'jorge cardona, hilos, procesos, asincronismo, sincronismo', b'jorge cardona, hilos, procesos, asincronismo, sincronismo', b'jorge cardona, hilos, procesos, asincronismo, sincronismo', b'jorge cardona, hilos, procesos, asincronismo, sincronismo', b'jorge cardona, hilos, procesos, asincronismo, sincronismo', b'jorge cardona, hilos, procesos, asincronismo, sincronismo', b'jorge cardona, hilos, procesos, asincronismo, sincronismo', b'jorge cardona, hilos, procesos, asincronismo, sincronismo', b'jorge cardona, hilos, procesos, asincronismo, sincronismo', b'jorge cardona, hilos, procesos, asincronismo, sincronismo', b'jorge cardona, hilos, procesos, asincronismo, sincronismo', b'jorge cardona, hilos, procesos, asincronismo, sincronismo', b'jorge cardona, hilos, procesos, asincronismo, sincronismo', b'jorge cardona, hilos, procesos, asincronismo, sincronismo', b'jorge cardona, hilos, procesos, asincronismo, sincronismo', b'jorge cardona, hilos, procesos, asincronismo, sincronismo', b'jorge cardona, hilos, procesos, asincronismo, sincronismo', b'jorge cardona, hilos, procesos, asincronismo, sincronismo', b'jorge cardona, hilos, procesos, asincronismo, sincronismo', b'jorge cardona, hilos, procesos, asincronismo, sincronismo', b'jorge cardona, hilos, procesos, asincronismo, sincronismo', b'jorge cardona, hilos, procesos, asincronismo, sincronismo', b'jorge cardona, hilos, procesos, asincronismo, sincronismo', b'jorge cardona, hilos, procesos, asincronismo, sincronismo', b'jorge cardona, hilos, procesos, asincronismo, sincronismo', b'jorge cardona, hilos, procesos, asincronismo, sincronismo', b'jorge cardona, hilos, procesos, asincronismo, sincronismo', b'jorge cardona, hilos, procesos, asincronismo, sincronismo', b'jorge cardona, hilos, procesos, asincronismo, sincronismo', b'jorge cardona, hilos, procesos, asincronismo, sincronismo', b'jorge cardona, hilos, procesos, asincronismo, sincronismo', b'jorge cardona, hilos, procesos, asincronismo, sincronismo', b'jorge cardona, hilos, procesos, asincronismo, sincronismo', b'jorge cardona, hilos, procesos, asincronismo, sincronismo', b'jorge cardona, hilos, procesos, asincronismo, sincronismo', b'jorge cardona, hilos, procesos, asincronismo, sincronismo', b'jorge cardona, hilos, procesos, asincronismo, sincronismo', b'jorge cardona, hilos, procesos, asincronismo, sincronismo', b'jorge cardona, hilos, procesos, asincronismo, sincronismo', b'jorge cardona, hilos, procesos, asincronismo, sincronismo', b'jorge cardona, hilos, procesos, asincronismo, sincronismo', b'jorge cardona, hilos, procesos, asincronismo, sincronismo', b'jorge cardona, hilos, procesos, asincronismo, sincronismo', b'jorge cardona, hilos, procesos, asincronismo, sincronismo', b'jorge cardona, hilos, procesos, asincronismo, sincronismo', b'jorge cardona, hilos, procesos, asincronismo, sincronismo', b'jorge cardona, hilos, procesos, asincronismo, sincronismo', b'jorge cardona, hilos, procesos, asincronismo, sincronismo', b'jorge cardona, hilos, procesos, asincronismo, sincronismo', b'jorge cardona, hilos, procesos, asincronismo, sincronismo', b'jorge cardona, hilos, procesos, asincronismo, sincronismo', b'jorge cardona, hilos, procesos, asincronismo, sincronismo', b'jorge cardona, hilos, procesos, asincronismo, sincronismo', b'jorge cardona, hilos, procesos, asincronismo, sincronismo', b'jorge cardona, hilos, procesos, asincronismo, sincronismo', b'jorge cardona, hilos, procesos, asincronismo, sincronismo', b'jorge cardona, hilos, procesos, asincronismo, sincronismo', b'jorge cardona, hilos, procesos, asincronismo, sincronismo', b'jorge cardona, hilos, procesos, asincronismo, sincronismo', b'jorge cardona, hilos, procesos, asincronismo, sincronismo', b'jorge cardona, hilos, procesos, asincronismo, sincronismo', b'jorge cardona, hilos, procesos, asincronismo, sincronismo', b'jorge cardona, hilos, procesos, asincronismo, sincronismo', b'jorge cardona, hilos, procesos, asincronismo, sincronismo', b'jorge cardona, hilos, procesos, asincronismo, sincronismo', b'jorge cardona, hilos, procesos, asincronismo, sincronismo']\n",
      "CPU times: user 30.1 s, sys: 10.6 s, total: 40.7 s\n",
      "Wall time: 30.6 s\n"
     ]
    },
    {
     "data": {
      "text/plain": [
       "(0, (700, 10, 10))"
      ]
     },
     "execution_count": 36,
     "metadata": {},
     "output_type": "execute_result"
    }
   ],
   "source": [
    "%%time\n",
    "with ProcessPoolExecutor() as concurrent_futures:\n",
    "    resultado = concurrent_futures.map(lectura_io, range(cantidad))\n",
    "    \n",
    "print(list(resultado)[:100])\n",
    "\n",
    "del concurrent_futures, resultado\n",
    "garbage_colector.collect(), garbage_colector.get_threshold()"
   ]
  },
  {
   "cell_type": "markdown",
   "id": "6f7b43ad-1d26-4681-9f0a-cc93cb127b47",
   "metadata": {},
   "source": [
    "# <center> HILOS CPU VS PROCESOS CPU</center>"
   ]
  },
  {
   "cell_type": "code",
   "execution_count": 37,
   "id": "6a98728c-557b-40e4-9ca0-8075a14901ad",
   "metadata": {},
   "outputs": [
    {
     "name": "stdout",
     "output_type": "stream",
     "text": [
      "total iteraciones 5000\n"
     ]
    }
   ],
   "source": [
    "import math\n",
    "\n",
    "inicio = 1_099_726_899_294_999\n",
    "fin    = 1_099_726_899_299_999\n",
    "\n",
    "PRIMES = range(inicio, fin) \n",
    "\n",
    "def is_prime(n):\n",
    "    if n < 2 or n % 2 == 0:\n",
    "        return False\n",
    "    if n == 2:\n",
    "        return True\n",
    "    \n",
    "    sqrt_n = int(math.floor(math.sqrt(n)))\n",
    "    \n",
    "    for i in range(3, sqrt_n + 1, 2):\n",
    "        if n % i == 0:\n",
    "            return False\n",
    "    return True\n",
    "\n",
    "print(f'total iteraciones {fin - inicio}')"
   ]
  },
  {
   "cell_type": "markdown",
   "id": "fd08a089-f132-45ed-882c-6e4f42429a07",
   "metadata": {},
   "source": [
    "## <center> SINCRONO CPU</center>"
   ]
  },
  {
   "cell_type": "code",
   "execution_count": 38,
   "id": "47a14556-8582-46f3-b46f-bee8d8d2aa20",
   "metadata": {
    "scrolled": true,
    "tags": []
   },
   "outputs": [
    {
     "name": "stdout",
     "output_type": "stream",
     "text": [
      "[False, False, False, False, False, False, False, False, True, False, True, False, False, False, False, False, False, False, False, False, True, False, False, False, False, False, False, False, True, False, False, False, False, False, False, False, False, False, False, False, False, False, False, False, False, False, False, False, False, False, False, False, False, False, False, False, False, False, False, False, False, False, True, False, False, False, False, False, False, False, False, False, False, False, False, False, False, False, False, False, False, False, False, False, False, False, False, False, False, False, False, False, False, False, False, False, False, False, False, False, False, False, False, False, False, False, False, False, False, False, True, False, False, False, False, False, False, False, False, False, False, False, False, False, False, False, False, False, False, False, False, False, False, False, False, False, False, False, False, False, True, False, False, False, False, False, False, False, False, False, False, False, False, False, False, False, False, False, False, False, False, False, False, False, False, False, False, False, False, False, False, False, False, False, False, False, False, False, False, False, False, False, False, False, False, False, False, False, False, False, False, False, False, False, False, False, False, False, False, False, False, False, False, False, False, False, False, False, False, False, False, False, False, False, False, False, False, False, False, False, False, False, False, False, False, False, False, False, False, False, False, False, True, False, False, False, False, False, False, False, False, False, False, False, True, False, False, False, False, False, True, False, False, False, False, False, False, False, False, False, False, False, False, False, False, False, False, False, False, False, False, False, False, False, False, False, False, False, False, False, False, False, False, False, False, False, False, False, False, False, False, False, False, False, False, False, False, False, False, False, False, False, True, False, False, False, False, False, True, False, True, False, False, False, False, False, False, False, False, False, False, False, False, False, False, False, False, False, False, False, False, False, False, False, False, False, False, False, False, False, False, False, False, False, False, False, False, False, False, False, False, False, False, False, False, False, False, False, True, False, False, False, False, False, False, False, False, False, False, False, True, False, False, False, False, False, False, False, False, False, True, False, False, False, False, False, False, False, False, False, False, False, False, False, False, False, False, False, False, False, False, False, False, False, False, False, False, False, False, False, False, False, False, False, False, False, False, False, True, False, False, False, False, False, False, False, False, False, False, False, False, False, False, False, False, False, False, False, False, False, False, False, False, False, False, False, False, False, False, False, False, False, False, False, False, False, False, False, True, False, False, False, False, False, False, False, False, False, False, False, True, False, False, False, False, False, False, False, False, False, False, False, False, False, False, False, False, False, False, False, False, False, False, False, False, False, False, False, False, False, False, False, False, False, False, False, False, False, False, False, False, False, False, False, False, False, False, False, False, False, False, False, False, False, False, False, False, False, False, False, False, False, False, False, False, False, False, False, False, False, False, False, False, False, False, False, False, False, False, False, False, False, False, False, False, False, False, False, False, False, False, False, False, False, False, False, False, False, True, False, False, False, True, False, False, False, False, False, False, False, False, False, False, False, False, False, False, False, False, False, False, False, False, False, False, False, False, False, True, False, False, False, True, False, False, False, False, False, False, False, False, False, False, False, False, False, False, False, False, False, False, False, True, False, False, False, False, False, True, False, False, False, False, False, False, False, False, False, False, False, False, False, False, False, False, False, False, False, False, False, True, False, False, False, False, False, False, False, False, False, False, False, False, False, False, False, False, False, False, False, False, False, False, False, False, False, False, False, False, False, False, False, False, False, False, False, False, False, False, False, False, False, False, False, False, False, False, False, False, False, False, False, False, False, False, False, False, False, False, False, False, False, False, False, False, False, False, False, False, False, False, False, False, False, False, False, False, False, False, False, False, False, False, False, False, False, False, False, False, False, False, False, False, False, False, False, False, False, False, False, False, False, False, False, True, False, False, False, False, False, False, False, False, False, False, False, False, False, False, False, False, False, True, False, False, False, False, False, False, False, False, False, False, False, False, False, False, False, False, False, False, False, False, False, False, False, False, False, False, False, True, False, False, False, False, False, False, False, True, False, False, False, False, False, False, False, False, False, False, False, False, False, False, False, False, False, False, False, False, False, False, False, False, False, False, False, False, False, False, False, False, False, False, False, False, False, False, False, False, False, False, False, False, False, False, False, False, False, False, False, False, False, True, False, False, False, False, False, False, False, False, False, False, False, False, False, False, False, False, False, False, False, False, False, False, False, False, False, False, False, False, False, True, False, False, False, False, False, False, False, False, False, False, False, False, False, False, False, False, False, False, False, False, False, False, False, False, False, False, False, False, False, False, False, False, False, False, False, False, False, False, False, False, False, False, False, False, False, False, False, False, False, False, False, False, False, False, False, False, False, False, False, False, False, False, False, False, False, False, False, False, False, True, False, False, False, False, False, False, False, False, False, False, False, False, False, False, False, False, False, False, False, False, False, False, False, False, False, False, False, False, False, False, False, True, False, False, False, False, False, False, False, False, False, False, False, False, False, False, False, True, False, False, False, False, False, False, False, False, False, False, False, False, False, False, False, False, False, False, False, False, False, False, False, False, False, False, False, False, False, False, False, False, False, False, False, False, False, False, False, False, False, False, False, False, False, False, False, False, False, True, False, False, False, True, False, False, False, False, False, False, False, True, False, False, False, False, False, False, False, False, False, False, False, False, False, False, False, False, False, False, False, False, False, False, False, False, False, False, False, False, False, False, False, False, False, False, False, False, False, False, False, False, False, False, False, False, False, True, False, True, False, False, False, False, False, False, False, False, False, False, False, False, False, False, False, False, False, False, False, False, False, False, False, False, False, False, False, False, False, False, False, False, False, False, False, False, False, False, False, False, False, False, False, False, False, False, False, False, False, False, False, False, False, False, False, False, False, False, False, False, False, False, False, False, False, False, False, False, False, False, False, False, False, False, False, False, False, False, False, False, False, False, False, False, False, False, False, False, False, False, False, False, False, False, False, False, False, False, False, False, False, False, False, False, False, False, False, True, False, False, False, False, False, False, False, False, False, False, False, False, False, False, False, False, False, False, False, False, False, False, False, False, False, False, False, False, False, False, False, False, False, False, False, False, False, False, False, False, False, False, False, False, False, False, False, False, False, False, False, True, False, False, False, False, False, False, False, False, False, False, False, False, False, True, False, False, False, True, False, True, False, False, False, False, False, False, False, False, False, False, False, False, False, False, False, False, False, False, False, False, False, False, False, False, False, False, False, False, False, False, False, False, False, False, False, False, False, False, False, False, False, False, False, False, False, False, False, False, False, False, False, False, False, False, False, False, False, False, False, False, False, False, False, False, False, False, False, False, False, False, False, False, False, False, False, False, False, False, False, False, False, True, False, False, False, False, False, False, False, False, False, False, False, False, False, False, False, False, False, False, False, False, False, False, False, False, False, False, False, False, False, False, False, False, False, False, False, False, False, False, False, False, False, False, False, False, False, False, False, False, False, False, False, False, False, False, False, False, False, False, False, False, False, False, False, False, False, False, False, False, False, False, False, False, False, False, False, False, False, False, False, False, False, False, False, False, False, False, False, False, False, False, False, False, False, False, False, False, False, False, False, False, False, False, False, False, False, False, False, True, False, False, False, False, False, False, False, False, False, False, False, False, False, False, False, False, False, False, False, False, False, False, False, False, False, False, False, False, False, False, False, False, False, False, False, False, False, False, False, False, False, False, False, False, False, False, False, False, False, False, False, False, False, False, False, False, False, False, False, False, False, False, False, False, False, False, False, False, False, False, False, False, False, False, False, False, False, False, False, False, False, False, False, False, False, False, False, False, False, False, False, False, False, False, False, False, False, False, False, False, False, False, False, False, False, False, False, False, False, False, False, False, False, True, False, False, False, False, False, False, False, False, False, False, False, False, False, True, False, False, False, False, False, False, False, False, False, False, False, False, False, False, False, True, False, False, False, False, False, False, False, False, False, False, False, False, False, True, False, False, False, False, False, False, False, False, False, False, False, False, False, False, False, False, False, False, False, False, False, False, False, False, False, False, False, False, False, False, False, False, False, False, False, False, False, False, False, False, False, False, False, False, False, False, False, False, False, False, False, False, False, False, False, False, False, False, False, False, False, False, False, False, False, False, False, False, False, False, False, False, False, False, False, False, False, False, False, False, False, False, False, True, False, False, False, False, False, False, False, False, False, False, False, False, False, False, False, False, False, False, False, False, False, False, False, False, False, False, False, True, False, False, False, False, False, False, False, False, False, False, False, False, False, False, False, False, False, False, False, False, False, False, False, False, False, False, False, False, False, False, False, False, False, False, False, False, False, True, False, False, False, False, False, False, False, False, False, False, False, False, False, False, False, True, False, False, False, False, False, False, False, False, False, False, False, False, False, False, False, False, False, False, False, False, False, False, False, False, False, False, False, False, False, False, False, False, False, False, False, False, False, False, False, False, False, False, False, False, False, False, False, False, False, False, False, False, False, False, False, False, False, False, False, False, False, False, False, False, False, False, False, False, False, False, False, False, False, True, False, False, False, False, False, False, False, False, False, False, False, False, False, False, False, True, False, False, False, False, False, False, False, False, False, False, False, False, False, False, False, False, False, False, False, True, False, False, False, False, False, False, False, False, False, False, False, False, False, False, False, False, False, False, False, False, False, False, False, False, False, False, False, False, False, False, False, False, False, False, False, False, False, False, False, False, False, False, False, False, False, True, False, False, False, False, False, False, False, False, False, False, False, False, False, False, False, False, False, False, False, True, False, False, False, False, False, False, False, False, False, False, False, False, False, False, False, False, False, False, False, False, False, False, False, False, False, False, False, False, False, False, False, False, False, True, False, False, False, False, False, False, False, False, False, False, False, False, False, False, False, False, False, False, False, False, False, False, False, False, False, False, False, False, False, False, False, False, False, False, False, False, False, False, False, False, False, False, False, True, False, False, False, True, False, False, False, False, False, True, False, False, False, False, False, False, False, False, False, False, False, False, False, False, False, False, False, False, False, False, False, False, False, False, False, False, False, False, False, False, False, False, False, False, False, False, False, False, False, False, False, False, False, False, False, False, False, False, False, False, False, False, False, False, False, False, False, False, False, False, False, False, False, False, False, False, False, False, False, False, False, True, False, False, False, False, False, False, False, False, False, False, False, False, False, False, False, False, False, False, False, False, False, False, False, False, False, False, False, False, False, False, False, False, False, False, False, False, False, False, False, False, False, False, False, False, False, False, False, False, False, False, False, False, False, False, False, False, False, False, False, False, False, True, False, False, False, False, False, True, False, False, False, False, False, False, False, False, False, True, False, False, False, False, False, False, False, False, False, False, False, True, False, False, False, False, False, False, False, False, False, False, False, False, False, False, False, False, False, False, False, False, False, False, False, False, False, False, False, False, False, True, False, False, False, False, False, False, False, True, False, False, False, True, False, False, False, False, False, False, False, False, False, False, False, False, False, False, False, False, False, False, False, False, False, False, False, False, False, False, False, False, False, False, False, False, False, False, False, False, False, False, False, False, False, False, False, False, False, False, False, False, False, False, False, False, False, False, False, False, False, False, False, False, False, True, False, False, False, False, False, False, False, False, False, False, False, False, False, False, False, False, False, False, False, False, False, False, False, False, False, False, False, True, False, False, False, False, False, False, False, False, False, False, False, False, False, False, False, False, False, False, False, False, False, False, False, False, False, False, False, False, False, False, False, False, False, False, False, True, False, False, False, False, False, False, False, False, False, False, False, False, False, False, False, False, False, False, False, False, False, False, False, False, False, False, False, False, False, False, False, False, False, False, False, False, False, False, False, False, False, False, False, True, False, False, False, False, False, False, False, False, False, False, False, False, False, False, False, False, False, True, False, False, False, True, False, False, False, False, False, False, False, False, False, False, False, False, False, False, False, False, False, False, False, False, False, False, False, False, False, False, False, False, False, False, False, False, False, False, False, False, False, False, False, False, False, False, False, False, False, False, False, False, False, False, False, False, False, False, False, False, False, False, False, False, False, False, False, False, False, True, False, True, False, False, False, False, False, False, False, False, False, False, False, False, False, False, False, False, False, False, False, False, False, False, False, False, False, False, False, False, False, False, False, False, False, False, False, False, False, False, False, False, False, True, False, False, False, False, False, False, False, False, False, False, False, False, False, False, False, False, False, False, False, False, False, False, False, False, False, False, False, False, False, False, False, False, False, True, False, False, False, False, False, False, False, False, False, False, False, False, False, False, False, False, False, False, False, False, False, False, False, False, False, False, False, False, False, False, False, False, False, False, False, False, False, False, False, False, False, False, False, False, False, False, False, False, False, False, False, False, False, False, False, False, False, False, False, False, False, False, False, False, False, True, False, False, False, False, False, False, False, False, False, False, False, False, False, False, False, False, False, False, False, False, False, False, False, False, False, False, False, False, False, False, False, False, False, False, False, False, False, True, False, False, False, False, False, False, False, False, False, True, False, False, False, False, False, False, False, False, False, False, False, False, False, False, False, False, False, False, False, True, False, False, False, False, False, False, False, False, False, False, False, False, False, False, False, False, False, False, False, False, False, True, False, False, False, False, False, False, False, False, False, False, False, False, False, False, False, False, False, False, False, False, False, False, False, False, False, False, False, False, False, False, False, False, False, False, False, False, False, False, False, False, False, False, False, False, False, False, False, False, False, False, False, False, False, False, False, False, False, False, False, False, False, False, False, False, False, False, False, False, False, False, False, False, False, True, False, False, False, False, False, True, False, False, False, True, False, False, False, False, False, False, False, False, False, False, False, False, False, False, False, False, False, False, False, False, False, False, False, False, False, False, False, False, False, False, False, False, False, False, False, False, False, False, False, False, False, False, False, False, False, False, False, False, False, False, False, False, False, False, False, False, False, False, False, False, False, False, False, False, False, False, False, False, False, False, False, False, False, False, False, False, False, False, False, False, False, False, False, False, False, False, False, False, False, True, False, False, False, False, False, True, False, False, False, False, False, False, False, False, False, False, False, False, False, False, False, False, False, False, False, False, False, False, False, False, False, True, False, False, False, False, False, False, False, False, False, False, False, False, False, False, False, False, False, False, False, False, False, False, False, False, False, False, False, False, False, False, False, False, False, False, False, False, False, False, False, False, False, False, False, False, False, False, False, False, False, False, False, False, False, True, False, False, False, True, False, False, False, False, False, False, False, False, False, False, False, False, False, False, False, False, False, False, False, False, False, False, False, False, False, False, False, False, False, False, False, False, False, False, False, False, False, False, False, False, False, False, False, False, False, False, False, False, False, False, False, False, False, True, False, False, False, False, False, False, False, False, False, False, False, False, False, False, False, False, False, True, False, False, False, False, False, False, False, True, False, False, False, True, False, False, False, False, False, False, False, False, False, False, False, False, False, False, False, False, False, False, False, False, False, False, False, False, False, False, False, False, False, False, False, False, False, False, False, False, False, False, False, False, False, False, False, False, False, False, False, True, False, True, False, False, False, False, False, False, False, False, False, False, False, False, False, False, False, False, False, False, False, False, False, False, False, False, False, False, False, False, False, True, False, False, False, False, False, True, False, False, False, True, False, False, False, False, False, True, False, False, False, False, False, False, False, False, False, False, False, True, False, True, False, False, False, False, False, False, False, False, False, False, False, False, False, False, False, False, False, False, False, False, False, False, False, False, False, False, False, False, False, False, False, False, False, False, False, False, False, False, False, False, False, True, False, False, False, False, False, False, False, False, False, False, False, False, False, False, False, False, False, False, False, False, False, False, False, False, False, False, False, False, False, False, False, False, False, False, False, False, False, False, False, False, False, False, False, False, False, False, False, False, False, False, False, False, False, False, False, False, False, False, False, False, False, False, False, True, False, False, False, False, False, False, False, False, False, False, False, False, False, False, False, False, False, False, False, False, False, False, False, False, False, False, False, False, False, False, False, False, False, False, False, False, False, False, False, False, False, False, False, False, False, False, False, False, False, False, False, False, False, False, False, False, False, False, False, True, False, False, False, False, False, False, False, False, False, False, False, False, False, False, False, False, False, False, False, False, False, False, False, False, False, False, False, False, False, True, False, False, False, False, False, False, False, False, False, False, False, True, False, False, False, False, False, False, False, False, False, False, False, False, False, False, False, False, False, True, False, True, False, False, False, False, False, False, False, False, False, False, False, False, False, False, False, False, False, False, False, False, False, False, False, False, False, False, False, False, False, False, False, False, False, False, False, False, False, False, False, False, False, False, False, False, False, False, False, False, False, False, False, False, False, False, False, False, False, False, False, False, False, False, False, False, False, False, False, False, False, False, False, False, False, False, False, False, False, False, False, False, False, False, False, True, False, False, False, False, False, False, False, False, False, False, False, False, False, False, False, False, False, False, False, False, False, False, False, False, False, False, False, True, False, False, False, False, False, False, False, False, False, False, False, False, False, False, False, False, False, False, False, False, False, False, False, False, False, False, False, False, False, False, False, False, False, False, False, False, False, False, False, False, False, False, False, False, False, False, False, False, False, False, False, False, False, False, False, False, False, False, False, True, False, False, False, False, False, True, False, False, False, False, False, False, False, False, False, False, False, False, False, False, False, False, False, False, False, False, False, False, False, False, False, False, False, False, False, False, False, False, False, False, False, False, False, False, False, False, False, False, False, False, False, False, False, False, False, False, False, False, False, False, False, False, False, False, False, False, False, False, False, False, False, False, False, False, False, False, False, False, False, False, False, False, False, False, False, True, False, False, False, False, False, False, False, False, False, False, False, False, False, False, False, False, False, False, False, False, False, False, False, False, False, False, False, False, False, False, False, False, False, False, False, False, False, False, False, False, False, False, False, False, False, False, False, False, False, False, False, False, False, False, False, False, False, False, False, False, False, False, False, False, False, False, False, False, False, False, False, False, False, False, False, False, False, False, False, False, False, False, False, False, False, False, False, False, False, False, False, False, False, False, False, False, False, False, False, False, False, False, False, False, False, False, False, False, False, False, False, False, False, False, False, False, False, False, False, False, False, False, False, False, False, False, False, False, False, False, False, False, False, False, False, False, False, False, False, False, False, False, False, True, False, False, False, False, False, False, False, False, False, False, False, False, False, False, False, False, False, False, False, False, False, False, False, False, False, False, False, False, False, False, False, False, False, False, False, False, False, False, False, False, False, False, False, False, False, False, False, False, False, False, False, False, False, False, False, False, False, False, False, False, False, False, False, False, False, False, False, False, False, False, False, False, False, False, False, False, False, False, False, False, False, False, False, False, False, False, False, False, False, False, False, False, False, False, False, False, False, False, False, True, False, False, False, False, False, False, False, True, False, False, False, False, False, False, False, False, False, False, False, False, False, False, False, False, False, False, False, False, False, False, False, False, False, False, False, True, False, True, False, False, False, False, False, False, False, False, False, False, False, False, False, False, False, False, False, False, False, False, False, False, False, False, False, False, False, False, False, False, False, False, False, False, False, False, False, False, False, False, False, False, False, False, False, False, False, False, False, False, False, False, False, False, False, False, False, False, False, False, False, False, False, False, False, False, False, False, False, False, False, False, False, False, False, False, False, False, False, False, False, False, False, False, False, False, False, False, False, False, False, False, False, False, False, False, False, False, False, False, False, False, False, False, False, False, False, False, False, False, False, False, False, False, False, False, False, False, False, False, False, False, False, False, False, False, False, False, False, True, False, False, False, False, False, False, False, False, False, False, False, False, False, False, False, False, False, False, False, False, False, False, False, False, False, False, False, False, False, False, False, False, False, False, False, False, False, False, False, False, False, False, False, True, False, False, False, False, False, True, False, False, False, True, False, False, False, False, False, False, False, False, False, False, False, False, False, False, False, False, False, False, False, False, False, False, False, False, False, False, False, False, False, False, False, False, False, False, False, False, False, False, False, False, False, False, False, False, False, False, False, False, False, False, False, False, False, False, False, False, False, False, False, False, False, False, False, False, False, False, False, False, False, False, False, False, False, False, False, False, False, False, False, False, False, False, False, True, False, False, False, False, False, False, False, False, False, False, False, False, False, False, False, False, False, False, False, False, False, False, False, False, False, False, False, False, False, False, False, False, False, False, False, False, False, False, False, False, False, True, False, False, False, False, False, False, False, False, False, False, False, False, False, False, False, False, False, False, False, False, False, False, False, False, False, False, False, False, False, False, False, False, False, False, False, False, False, False, False, False, False, False, False, False, False, False, False, False, False, False, False, False, False, True, False, False, False, False, False, False, False, False, False, False, False, False, False, False, False, False, False, False, False, True, False, False, False, False, False, False, False, False, False, True, False, False, False, False, False, False, False, False, False, False, False, False, False, False, False, False, False, False, False, False, False, False, False, False, False, False, False, False, False, False, False, False, False, False, False, False, False, False, False, False, False, False, False, False, False, False, False, False, False, False, False, False, False, False, False, False, False, False, False, False, False, False, False, False, False, False, False, True, False, False, False, False, False, False, False, False, False, True, False, False, False, False, False, False, False, False, False, False, False, False, False, False, False, False, False, False, False, True, False, False, False, False, False, False, False, False, False, False, False, False, False, False, False, True, False, False, False, False, False, False, False, False, False, False, False, False, False, False, False, False, False, False, False, False, False, False, False, False, False, False, False, False, False, False, False, False, False, False, False, False, False, False, False, False, False, False, False, False, False, False, False, False, False, False, False, False, False, False, False, False, False, False, False, False, False, False, False, False, False, False, False, False, False, False, False, True, False, False, False, False, False, False, False, False, False, False, False, False, False, False, False, False, False, True, False, False, False, False, False, False, False, False, False, False, False, False, False, False, False, False, False, False, False, True, False, False, False, False, False, False, False, False, False, False, False, True, False, False, False, False, False, False, False, False, False, False, False, False, False, False, False, False, False, False, False, False, False, False, False, True, False, False, False, True, False, False, False, False, False, True, False, False, False, False, False, False, False, False, False, False, False, False, False, False, False, False, False, False, False, True, False, False, False, True, False, False, False, False, False, False, False, False, False, False, False, False, False, True, False, False, False, False, False, False, False, False, False, False, False, False, False, False, False, False, False, True, False, False, False, False, False, False, False, False, False, False, False, False, False, False, False, False, False, False, False, False, False, False, False, False, False, False, False, False, False, False, False, False, False, False, False, False, False, False, False, False, False, False, False, False, False, False, False, False, False, False, False, True, False, False, False, False, False, False, False, False, False, False, False, False, False, False, False, False, False, False, False, False, False, False, False, False, False, False, False, False, False, False, False, False, False, False, False, False, False, False, False, False, False, False, False, False, False, False, False, False, False, False, False, False, False, False, False, False, False, False, False, False, False, False, False, False, False, False, False, False, False, False, False, False, False, False, False, False, False, False, False, False, False, False, False, False, False, False, False, False, False, False, False, False, False, False, False, False, False, False, False, False, False, False, False, False, False, False, False, True, False, False, False, False, False, False, False, False, False, False, False, False, False, False, False, False, False, False, False, False, False, False, False, False, False, False, False, False, False, False, False, False, False, False, False, False, False, False, False, False, False, False, False, False, False, False, False, False, False, False, False, False, False, False, False, False, False, False, False, False, False, False, False, False, False, False, False, False, False, False, False, False, False, True, False, False, False, True, False, False, False, False, False, False, False, False, False, False, False, False, False, False, False, False, False, False, False, False, False, False, False, False, False, False, False, False, False, False, False, False, False, False, False, False, False, False, False, False, False]\n",
      "CPU times: user 4min 37s, sys: 0 ns, total: 4min 37s\n",
      "Wall time: 4min 37s\n"
     ]
    }
   ],
   "source": [
    "%%time\n",
    "\n",
    "print(list(map(is_prime, PRIMES)))"
   ]
  },
  {
   "cell_type": "markdown",
   "id": "9a1cdc8e-3126-44fe-8818-c94e1de1874e",
   "metadata": {},
   "source": [
    "## <center> HILOS CPU</center>"
   ]
  },
  {
   "cell_type": "code",
   "execution_count": 39,
   "id": "60ba65aa-7093-4c7e-ace9-20a4ef182d2a",
   "metadata": {},
   "outputs": [
    {
     "name": "stdout",
     "output_type": "stream",
     "text": [
      "[False, False, False, False, False, False, False, False, False, False, False, False, False, False, False, False, False, False, False, False, False, False, False, False, False, False, False, False, False, False, False, False, False, False, False, False, False, False, False, False, False, False, False, False, False, False, False, False, False, False, False, False, False, False, False, False, False, False, False, False, False, False, False, False, False, False, False, False, False, False, False, False, False, False, False, False, False, False, False, False, False, False, False, False, False, False, False, False, False, False, False, False, False, False, False, False, False, False, False, False]\n",
      "CPU times: user 5min 1s, sys: 0 ns, total: 5min 1s\n",
      "Wall time: 4min 48s\n"
     ]
    },
    {
     "data": {
      "text/plain": [
       "(0, (700, 10, 10))"
      ]
     },
     "execution_count": 39,
     "metadata": {},
     "output_type": "execute_result"
    }
   ],
   "source": [
    "%%time\n",
    "almacenar_resultados = cola_classica()\n",
    "listado_instancias = [] \n",
    "\n",
    "@almacenar_en_cola\n",
    "def is_prime_hilo(n):\n",
    "    if n < 2 or n % 2 == 0:\n",
    "        return False\n",
    "    if n == 2:\n",
    "        return True\n",
    "    \n",
    "    sqrt_n = int(math.floor(math.sqrt(n)))\n",
    "    \n",
    "    for i in range(3, sqrt_n + 1, 2):\n",
    "        if n % i == 0:\n",
    "            return False\n",
    "    return True\n",
    "    \n",
    "for valor_lectura in PRIMES:\n",
    "  \n",
    "    instancia = Thread(name=f'ejecucion de tarea # {valor_lectura}', target=is_prime_hilo, args=(valor_lectura,))\n",
    "    instancia.start()    \n",
    "    listado_instancias.append(instancia)\n",
    "\n",
    "    \n",
    "for tipo_instancia in listado_instancias:    \n",
    "        tipo_instancia.join()\n",
    "        \n",
    "resultado = obtener_resultado_cola_tarea(almacenar_resultados)\n",
    "print(resultado[:100])\n",
    "\n",
    "del almacenar_resultados, listado_instancias, resultado\n",
    "garbage_colector.collect(), garbage_colector.get_threshold()"
   ]
  },
  {
   "cell_type": "code",
   "execution_count": 40,
   "id": "46e9d40c-abcc-4e7d-be6f-fe5eb1cbcb4e",
   "metadata": {},
   "outputs": [
    {
     "name": "stdout",
     "output_type": "stream",
     "text": [
      "cantidad de valores procesados 5000\n",
      "CPU times: user 4min 46s, sys: 0 ns, total: 4min 46s\n",
      "Wall time: 4min 40s\n"
     ]
    },
    {
     "data": {
      "text/plain": [
       "(0, (700, 10, 10))"
      ]
     },
     "execution_count": 40,
     "metadata": {},
     "output_type": "execute_result"
    }
   ],
   "source": [
    "%%time\n",
    "resultado = []\n",
    "\n",
    "with ThreadPool() as executor:\n",
    "    for number, prime in zip(PRIMES, executor.map(is_prime, PRIMES)):       \n",
    "        resultado.append((number, prime))\n",
    "\n",
    "print('cantidad de valores procesados', len(resultado))\n",
    "\n",
    "del executor, resultado\n",
    "garbage_colector.collect(), garbage_colector.get_threshold()"
   ]
  },
  {
   "cell_type": "code",
   "execution_count": 41,
   "id": "294b8c4a-5362-41a3-9cf0-d8917fc10ab5",
   "metadata": {
    "scrolled": true,
    "tags": []
   },
   "outputs": [
    {
     "name": "stdout",
     "output_type": "stream",
     "text": [
      "cantidad de valores procesados 5000\n",
      "CPU times: user 5min 20s, sys: 0 ns, total: 5min 20s\n",
      "Wall time: 5min 4s\n"
     ]
    },
    {
     "data": {
      "text/plain": [
       "(0, (700, 10, 10))"
      ]
     },
     "execution_count": 41,
     "metadata": {},
     "output_type": "execute_result"
    }
   ],
   "source": [
    "%%time\n",
    "resultado = []\n",
    "\n",
    "with ThreadPoolExecutor() as executor:\n",
    "    for number, prime in zip(PRIMES, executor.map(is_prime, PRIMES)):       \n",
    "        resultado.append((number, prime))\n",
    "\n",
    "print('cantidad de valores procesados', len(resultado))\n",
    "        \n",
    "del executor, resultado\n",
    "garbage_colector.collect(), garbage_colector.get_threshold()"
   ]
  },
  {
   "cell_type": "markdown",
   "id": "70697859-6b80-47da-98d8-6f62c65ee35d",
   "metadata": {},
   "source": [
    "## <center> PROCESOS CPU</center>"
   ]
  },
  {
   "cell_type": "code",
   "execution_count": 42,
   "id": "bb6bd35d-3848-4cea-a127-e39f4e79e659",
   "metadata": {},
   "outputs": [
    {
     "name": "stdout",
     "output_type": "stream",
     "text": [
      "cantidad de valores procesados 5000\n",
      "CPU times: user 37.6 s, sys: 0 ns, total: 37.6 s\n",
      "Wall time: 3min 39s\n"
     ]
    },
    {
     "data": {
      "text/plain": [
       "(0, (700, 10, 10))"
      ]
     },
     "execution_count": 42,
     "metadata": {},
     "output_type": "execute_result"
    }
   ],
   "source": [
    "%%time\n",
    "almacenar_resultados_proceso = cola_proceso()\n",
    "listado_instancias = [] \n",
    "\n",
    "@almacenar_en_cola_proceso\n",
    "def is_prime_proceso(n):\n",
    "    if n < 2 or n % 2 == 0:\n",
    "        return False\n",
    "    if n == 2:\n",
    "        return True\n",
    "    \n",
    "    sqrt_n = int(math.floor(math.sqrt(n)))\n",
    "    \n",
    "    for i in range(3, sqrt_n + 1, 2):\n",
    "        if n % i == 0:\n",
    "            return False\n",
    "    return True\n",
    "    \n",
    "for valor_lectura in PRIMES:\n",
    "  \n",
    "    instancia = Process(name=f'ejecucion de tarea # {valor_lectura}', target=is_prime_proceso, args=(valor_lectura,))\n",
    "    instancia.start()    \n",
    "    listado_instancias.append(instancia)\n",
    "\n",
    "    \n",
    "for tipo_instancia in listado_instancias:    \n",
    "        tipo_instancia.join()\n",
    "\n",
    "print('cantidad de valores procesados', len(obtener_resultado_cola_tarea_while(almacenar_resultados_proceso)))\n",
    "\n",
    "del almacenar_resultados_proceso, listado_instancias\n",
    "garbage_colector.collect(), garbage_colector.get_threshold()"
   ]
  },
  {
   "cell_type": "code",
   "execution_count": 43,
   "id": "b8c6d38e-36ae-4a03-b4e2-6941f845098c",
   "metadata": {},
   "outputs": [
    {
     "name": "stdout",
     "output_type": "stream",
     "text": [
      "cantidad de valores procesados 5000\n",
      "CPU times: user 217 ms, sys: 0 ns, total: 217 ms\n",
      "Wall time: 2min 55s\n"
     ]
    },
    {
     "data": {
      "text/plain": [
       "(0, (700, 10, 10))"
      ]
     },
     "execution_count": 43,
     "metadata": {},
     "output_type": "execute_result"
    }
   ],
   "source": [
    "%%time\n",
    "\n",
    "resultado = []\n",
    "with Pool() as executor:\n",
    "    for number, prime in zip(PRIMES, executor.map(is_prime, PRIMES)):       \n",
    "        resultado.append((number, prime))\n",
    "\n",
    "print('cantidad de valores procesados', len(resultado))\n",
    "\n",
    "del executor, resultado\n",
    "garbage_colector.collect(), garbage_colector.get_threshold()"
   ]
  },
  {
   "cell_type": "code",
   "execution_count": 44,
   "id": "5dcd2f54-489e-428d-9999-8ea242f7da44",
   "metadata": {
    "scrolled": true,
    "tags": []
   },
   "outputs": [
    {
     "name": "stdout",
     "output_type": "stream",
     "text": [
      "cantidad de valores procesados 5000\n",
      "CPU times: user 1.94 s, sys: 0 ns, total: 1.94 s\n",
      "Wall time: 2min 50s\n"
     ]
    },
    {
     "data": {
      "text/plain": [
       "(0, (700, 10, 10))"
      ]
     },
     "execution_count": 44,
     "metadata": {},
     "output_type": "execute_result"
    }
   ],
   "source": [
    "%%time\n",
    "\n",
    "resultado = []\n",
    "with ProcessPoolExecutor() as executor:\n",
    "    for number, prime in zip(PRIMES, executor.map(is_prime, PRIMES)):       \n",
    "        resultado.append((number, prime))\n",
    "\n",
    "print('cantidad de valores procesados', len(resultado))\n",
    "        \n",
    "del executor, resultado\n",
    "garbage_colector.collect(), garbage_colector.get_threshold()"
   ]
  },
  {
   "cell_type": "markdown",
   "id": "d73420b2-1eaf-41cd-b4cc-be831926d202",
   "metadata": {},
   "source": [
    "## <center> NUMBA CPU</center>"
   ]
  },
  {
   "cell_type": "code",
   "execution_count": 45,
   "id": "ead712cc-410c-46ca-a499-30431e8c8642",
   "metadata": {},
   "outputs": [
    {
     "name": "stdout",
     "output_type": "stream",
     "text": [
      "Name: numba\n",
      "Version: 0.55.1\n",
      "Summary: compiling Python code using LLVM\n",
      "Home-page: https://numba.pydata.org\n",
      "Author: \n",
      "Author-email: \n",
      "License: BSD\n",
      "Location: /usr/local/lib/python3.10/site-packages\n",
      "Requires: llvmlite, numpy, setuptools\n",
      "Required-by: \n"
     ]
    }
   ],
   "source": [
    "#pip install numba # Numba es el paquete compilador, esto depende de llvmlite.\n",
    "#pip install llvmlite # llvmlite es un paquete de enlace ligero para las API de LLVM, depende de LLVM, LLVM es el marco del compilador JIT para producir código ejecutable a partir de varias entradas.\n",
    "!pip show numba"
   ]
  },
  {
   "cell_type": "code",
   "execution_count": 46,
   "id": "cc352cb6-71c4-45e9-b8bb-7ab656ccb93a",
   "metadata": {
    "scrolled": true,
    "tags": []
   },
   "outputs": [],
   "source": [
    "from numba import jit\n",
    "\n",
    "@jit(nopython=True)\n",
    "def is_prime_numba(n):\n",
    "    if n < 2 or n % 2 == 0:\n",
    "        return False\n",
    "    if n == 2:\n",
    "        return True\n",
    "    \n",
    "    sqrt_n = int(math.floor(math.sqrt(n)))\n",
    "    for i in range(3, sqrt_n + 1, 2):\n",
    "        if n % i == 0:\n",
    "            return False\n",
    "    return True"
   ]
  },
  {
   "cell_type": "code",
   "execution_count": 47,
   "id": "decf1c5d-9a15-4e36-9b27-f9bbe1ee285f",
   "metadata": {
    "scrolled": true,
    "tags": []
   },
   "outputs": [
    {
     "name": "stdout",
     "output_type": "stream",
     "text": [
      "total iteraciones 5000\n",
      "[False, False, False, False, False, False, False, False, True, False, True, False, False, False, False, False, False, False, False, False, True, False, False, False, False, False, False, False, True, False, False, False, False, False, False, False, False, False, False, False, False, False, False, False, False, False, False, False, False, False, False, False, False, False, False, False, False, False, False, False, False, False, True, False, False, False, False, False, False, False, False, False, False, False, False, False, False, False, False, False, False, False, False, False, False, False, False, False, False, False, False, False, False, False, False, False, False, False, False, False, False, False, False, False, False, False, False, False, False, False, True, False, False, False, False, False, False, False, False, False, False, False, False, False, False, False, False, False, False, False, False, False, False, False, False, False, False, False, False, False, True, False, False, False, False, False, False, False, False, False, False, False, False, False, False, False, False, False, False, False, False, False, False, False, False, False, False, False, False, False, False, False, False, False, False, False, False, False, False, False, False, False, False, False, False, False, False, False, False, False, False, False, False, False, False, False, False, False, False, False, False, False, False, False, False, False, False, False, False, False, False, False, False, False, False, False, False, False, False, False, False, False, False, False, False, False, False, False, False, False, False, False, True, False, False, False, False, False, False, False, False, False, False, False, True, False, False, False, False, False, True, False, False, False, False, False, False, False, False, False, False, False, False, False, False, False, False, False, False, False, False, False, False, False, False, False, False, False, False, False, False, False, False, False, False, False, False, False, False, False, False, False, False, False, False, False, False, False, False, False, False, False, True, False, False, False, False, False, True, False, True, False, False, False, False, False, False, False, False, False, False, False, False, False, False, False, False, False, False, False, False, False, False, False, False, False, False, False, False, False, False, False, False, False, False, False, False, False, False, False, False, False, False, False, False, False, False, False, True, False, False, False, False, False, False, False, False, False, False, False, True, False, False, False, False, False, False, False, False, False, True, False, False, False, False, False, False, False, False, False, False, False, False, False, False, False, False, False, False, False, False, False, False, False, False, False, False, False, False, False, False, False, False, False, False, False, False, False, True, False, False, False, False, False, False, False, False, False, False, False, False, False, False, False, False, False, False, False, False, False, False, False, False, False, False, False, False, False, False, False, False, False, False, False, False, False, False, False, True, False, False, False, False, False, False, False, False, False, False, False, True, False, False, False, False, False, False, False, False, False, False, False, False, False, False, False, False, False, False, False, False, False, False, False, False, False, False, False, False, False, False, False, False, False, False, False, False, False, False, False, False, False, False, False, False, False, False, False, False, False, False, False, False, False, False, False, False, False, False, False, False, False, False, False, False, False, False, False, False, False, False, False, False, False, False, False, False, False, False, False, False, False, False, False, False, False, False, False, False, False, False, False, False, False, False, False, False, False, True, False, False, False, True, False, False, False, False, False, False, False, False, False, False, False, False, False, False, False, False, False, False, False, False, False, False, False, False, False, True, False, False, False, True, False, False, False, False, False, False, False, False, False, False, False, False, False, False, False, False, False, False, False, True, False, False, False, False, False, True, False, False, False, False, False, False, False, False, False, False, False, False, False, False, False, False, False, False, False, False, False, True, False, False, False, False, False, False, False, False, False, False, False, False, False, False, False, False, False, False, False, False, False, False, False, False, False, False, False, False, False, False, False, False, False, False, False, False, False, False, False, False, False, False, False, False, False, False, False, False, False, False, False, False, False, False, False, False, False, False, False, False, False, False, False, False, False, False, False, False, False, False, False, False, False, False, False, False, False, False, False, False, False, False, False, False, False, False, False, False, False, False, False, False, False, False, False, False, False, False, False, False, False, False, False, True, False, False, False, False, False, False, False, False, False, False, False, False, False, False, False, False, False, True, False, False, False, False, False, False, False, False, False, False, False, False, False, False, False, False, False, False, False, False, False, False, False, False, False, False, False, True, False, False, False, False, False, False, False, True, False, False, False, False, False, False, False, False, False, False, False, False, False, False, False, False, False, False, False, False, False, False, False, False, False, False, False, False, False, False, False, False, False, False, False, False, False, False, False, False, False, False, False, False, False, False, False, False, False, False, False, False, False, True, False, False, False, False, False, False, False, False, False, False, False, False, False, False, False, False, False, False, False, False, False, False, False, False, False, False, False, False, False, True, False, False, False, False, False, False, False, False, False, False, False, False, False, False, False, False, False, False, False, False, False, False, False, False, False, False, False, False, False, False, False, False, False, False, False, False, False, False, False, False, False, False, False, False, False, False, False, False, False, False, False, False, False, False, False, False, False, False, False, False, False, False, False, False, False, False, False, False, False, True, False, False, False, False, False, False, False, False, False, False, False, False, False, False, False, False, False, False, False, False, False, False, False, False, False, False, False, False, False, False, False, True, False, False, False, False, False, False, False, False, False, False, False, False, False, False, False, True, False, False, False, False, False, False, False, False, False, False, False, False, False, False, False, False, False, False, False, False, False, False, False, False, False, False, False, False, False, False, False, False, False, False, False, False, False, False, False, False, False, False, False, False, False, False, False, False, False, True, False, False, False, True, False, False, False, False, False, False, False, True, False, False, False, False, False, False, False, False, False, False, False, False, False, False, False, False, False, False, False, False, False, False, False, False, False, False, False, False, False, False, False, False, False, False, False, False, False, False, False, False, False, False, False, False, False, True, False, True, False, False, False, False, False, False, False, False, False, False, False, False, False, False, False, False, False, False, False, False, False, False, False, False, False, False, False, False, False, False, False, False, False, False, False, False, False, False, False, False, False, False, False, False, False, False, False, False, False, False, False, False, False, False, False, False, False, False, False, False, False, False, False, False, False, False, False, False, False, False, False, False, False, False, False, False, False, False, False, False, False, False, False, False, False, False, False, False, False, False, False, False, False, False, False, False, False, False, False, False, False, False, False, False, False, False, False, True, False, False, False, False, False, False, False, False, False, False, False, False, False, False, False, False, False, False, False, False, False, False, False, False, False, False, False, False, False, False, False, False, False, False, False, False, False, False, False, False, False, False, False, False, False, False, False, False, False, False, False, True, False, False, False, False, False, False, False, False, False, False, False, False, False, True, False, False, False, True, False, True, False, False, False, False, False, False, False, False, False, False, False, False, False, False, False, False, False, False, False, False, False, False, False, False, False, False, False, False, False, False, False, False, False, False, False, False, False, False, False, False, False, False, False, False, False, False, False, False, False, False, False, False, False, False, False, False, False, False, False, False, False, False, False, False, False, False, False, False, False, False, False, False, False, False, False, False, False, False, False, False, False, True, False, False, False, False, False, False, False, False, False, False, False, False, False, False, False, False, False, False, False, False, False, False, False, False, False, False, False, False, False, False, False, False, False, False, False, False, False, False, False, False, False, False, False, False, False, False, False, False, False, False, False, False, False, False, False, False, False, False, False, False, False, False, False, False, False, False, False, False, False, False, False, False, False, False, False, False, False, False, False, False, False, False, False, False, False, False, False, False, False, False, False, False, False, False, False, False, False, False, False, False, False, False, False, False, False, False, False, True, False, False, False, False, False, False, False, False, False, False, False, False, False, False, False, False, False, False, False, False, False, False, False, False, False, False, False, False, False, False, False, False, False, False, False, False, False, False, False, False, False, False, False, False, False, False, False, False, False, False, False, False, False, False, False, False, False, False, False, False, False, False, False, False, False, False, False, False, False, False, False, False, False, False, False, False, False, False, False, False, False, False, False, False, False, False, False, False, False, False, False, False, False, False, False, False, False, False, False, False, False, False, False, False, False, False, False, False, False, False, False, False, False, True, False, False, False, False, False, False, False, False, False, False, False, False, False, True, False, False, False, False, False, False, False, False, False, False, False, False, False, False, False, True, False, False, False, False, False, False, False, False, False, False, False, False, False, True, False, False, False, False, False, False, False, False, False, False, False, False, False, False, False, False, False, False, False, False, False, False, False, False, False, False, False, False, False, False, False, False, False, False, False, False, False, False, False, False, False, False, False, False, False, False, False, False, False, False, False, False, False, False, False, False, False, False, False, False, False, False, False, False, False, False, False, False, False, False, False, False, False, False, False, False, False, False, False, False, False, False, False, True, False, False, False, False, False, False, False, False, False, False, False, False, False, False, False, False, False, False, False, False, False, False, False, False, False, False, False, True, False, False, False, False, False, False, False, False, False, False, False, False, False, False, False, False, False, False, False, False, False, False, False, False, False, False, False, False, False, False, False, False, False, False, False, False, False, True, False, False, False, False, False, False, False, False, False, False, False, False, False, False, False, True, False, False, False, False, False, False, False, False, False, False, False, False, False, False, False, False, False, False, False, False, False, False, False, False, False, False, False, False, False, False, False, False, False, False, False, False, False, False, False, False, False, False, False, False, False, False, False, False, False, False, False, False, False, False, False, False, False, False, False, False, False, False, False, False, False, False, False, False, False, False, False, False, False, True, False, False, False, False, False, False, False, False, False, False, False, False, False, False, False, True, False, False, False, False, False, False, False, False, False, False, False, False, False, False, False, False, False, False, False, True, False, False, False, False, False, False, False, False, False, False, False, False, False, False, False, False, False, False, False, False, False, False, False, False, False, False, False, False, False, False, False, False, False, False, False, False, False, False, False, False, False, False, False, False, False, True, False, False, False, False, False, False, False, False, False, False, False, False, False, False, False, False, False, False, False, True, False, False, False, False, False, False, False, False, False, False, False, False, False, False, False, False, False, False, False, False, False, False, False, False, False, False, False, False, False, False, False, False, False, True, False, False, False, False, False, False, False, False, False, False, False, False, False, False, False, False, False, False, False, False, False, False, False, False, False, False, False, False, False, False, False, False, False, False, False, False, False, False, False, False, False, False, False, True, False, False, False, True, False, False, False, False, False, True, False, False, False, False, False, False, False, False, False, False, False, False, False, False, False, False, False, False, False, False, False, False, False, False, False, False, False, False, False, False, False, False, False, False, False, False, False, False, False, False, False, False, False, False, False, False, False, False, False, False, False, False, False, False, False, False, False, False, False, False, False, False, False, False, False, False, False, False, False, False, False, True, False, False, False, False, False, False, False, False, False, False, False, False, False, False, False, False, False, False, False, False, False, False, False, False, False, False, False, False, False, False, False, False, False, False, False, False, False, False, False, False, False, False, False, False, False, False, False, False, False, False, False, False, False, False, False, False, False, False, False, False, False, True, False, False, False, False, False, True, False, False, False, False, False, False, False, False, False, True, False, False, False, False, False, False, False, False, False, False, False, True, False, False, False, False, False, False, False, False, False, False, False, False, False, False, False, False, False, False, False, False, False, False, False, False, False, False, False, False, False, True, False, False, False, False, False, False, False, True, False, False, False, True, False, False, False, False, False, False, False, False, False, False, False, False, False, False, False, False, False, False, False, False, False, False, False, False, False, False, False, False, False, False, False, False, False, False, False, False, False, False, False, False, False, False, False, False, False, False, False, False, False, False, False, False, False, False, False, False, False, False, False, False, False, True, False, False, False, False, False, False, False, False, False, False, False, False, False, False, False, False, False, False, False, False, False, False, False, False, False, False, False, True, False, False, False, False, False, False, False, False, False, False, False, False, False, False, False, False, False, False, False, False, False, False, False, False, False, False, False, False, False, False, False, False, False, False, False, True, False, False, False, False, False, False, False, False, False, False, False, False, False, False, False, False, False, False, False, False, False, False, False, False, False, False, False, False, False, False, False, False, False, False, False, False, False, False, False, False, False, False, False, True, False, False, False, False, False, False, False, False, False, False, False, False, False, False, False, False, False, True, False, False, False, True, False, False, False, False, False, False, False, False, False, False, False, False, False, False, False, False, False, False, False, False, False, False, False, False, False, False, False, False, False, False, False, False, False, False, False, False, False, False, False, False, False, False, False, False, False, False, False, False, False, False, False, False, False, False, False, False, False, False, False, False, False, False, False, False, False, True, False, True, False, False, False, False, False, False, False, False, False, False, False, False, False, False, False, False, False, False, False, False, False, False, False, False, False, False, False, False, False, False, False, False, False, False, False, False, False, False, False, False, False, True, False, False, False, False, False, False, False, False, False, False, False, False, False, False, False, False, False, False, False, False, False, False, False, False, False, False, False, False, False, False, False, False, False, True, False, False, False, False, False, False, False, False, False, False, False, False, False, False, False, False, False, False, False, False, False, False, False, False, False, False, False, False, False, False, False, False, False, False, False, False, False, False, False, False, False, False, False, False, False, False, False, False, False, False, False, False, False, False, False, False, False, False, False, False, False, False, False, False, False, True, False, False, False, False, False, False, False, False, False, False, False, False, False, False, False, False, False, False, False, False, False, False, False, False, False, False, False, False, False, False, False, False, False, False, False, False, False, True, False, False, False, False, False, False, False, False, False, True, False, False, False, False, False, False, False, False, False, False, False, False, False, False, False, False, False, False, False, True, False, False, False, False, False, False, False, False, False, False, False, False, False, False, False, False, False, False, False, False, False, True, False, False, False, False, False, False, False, False, False, False, False, False, False, False, False, False, False, False, False, False, False, False, False, False, False, False, False, False, False, False, False, False, False, False, False, False, False, False, False, False, False, False, False, False, False, False, False, False, False, False, False, False, False, False, False, False, False, False, False, False, False, False, False, False, False, False, False, False, False, False, False, False, False, True, False, False, False, False, False, True, False, False, False, True, False, False, False, False, False, False, False, False, False, False, False, False, False, False, False, False, False, False, False, False, False, False, False, False, False, False, False, False, False, False, False, False, False, False, False, False, False, False, False, False, False, False, False, False, False, False, False, False, False, False, False, False, False, False, False, False, False, False, False, False, False, False, False, False, False, False, False, False, False, False, False, False, False, False, False, False, False, False, False, False, False, False, False, False, False, False, False, False, False, True, False, False, False, False, False, True, False, False, False, False, False, False, False, False, False, False, False, False, False, False, False, False, False, False, False, False, False, False, False, False, False, True, False, False, False, False, False, False, False, False, False, False, False, False, False, False, False, False, False, False, False, False, False, False, False, False, False, False, False, False, False, False, False, False, False, False, False, False, False, False, False, False, False, False, False, False, False, False, False, False, False, False, False, False, False, True, False, False, False, True, False, False, False, False, False, False, False, False, False, False, False, False, False, False, False, False, False, False, False, False, False, False, False, False, False, False, False, False, False, False, False, False, False, False, False, False, False, False, False, False, False, False, False, False, False, False, False, False, False, False, False, False, False, True, False, False, False, False, False, False, False, False, False, False, False, False, False, False, False, False, False, True, False, False, False, False, False, False, False, True, False, False, False, True, False, False, False, False, False, False, False, False, False, False, False, False, False, False, False, False, False, False, False, False, False, False, False, False, False, False, False, False, False, False, False, False, False, False, False, False, False, False, False, False, False, False, False, False, False, False, False, True, False, True, False, False, False, False, False, False, False, False, False, False, False, False, False, False, False, False, False, False, False, False, False, False, False, False, False, False, False, False, False, True, False, False, False, False, False, True, False, False, False, True, False, False, False, False, False, True, False, False, False, False, False, False, False, False, False, False, False, True, False, True, False, False, False, False, False, False, False, False, False, False, False, False, False, False, False, False, False, False, False, False, False, False, False, False, False, False, False, False, False, False, False, False, False, False, False, False, False, False, False, False, False, True, False, False, False, False, False, False, False, False, False, False, False, False, False, False, False, False, False, False, False, False, False, False, False, False, False, False, False, False, False, False, False, False, False, False, False, False, False, False, False, False, False, False, False, False, False, False, False, False, False, False, False, False, False, False, False, False, False, False, False, False, False, False, False, True, False, False, False, False, False, False, False, False, False, False, False, False, False, False, False, False, False, False, False, False, False, False, False, False, False, False, False, False, False, False, False, False, False, False, False, False, False, False, False, False, False, False, False, False, False, False, False, False, False, False, False, False, False, False, False, False, False, False, False, True, False, False, False, False, False, False, False, False, False, False, False, False, False, False, False, False, False, False, False, False, False, False, False, False, False, False, False, False, False, True, False, False, False, False, False, False, False, False, False, False, False, True, False, False, False, False, False, False, False, False, False, False, False, False, False, False, False, False, False, True, False, True, False, False, False, False, False, False, False, False, False, False, False, False, False, False, False, False, False, False, False, False, False, False, False, False, False, False, False, False, False, False, False, False, False, False, False, False, False, False, False, False, False, False, False, False, False, False, False, False, False, False, False, False, False, False, False, False, False, False, False, False, False, False, False, False, False, False, False, False, False, False, False, False, False, False, False, False, False, False, False, False, False, False, False, True, False, False, False, False, False, False, False, False, False, False, False, False, False, False, False, False, False, False, False, False, False, False, False, False, False, False, False, True, False, False, False, False, False, False, False, False, False, False, False, False, False, False, False, False, False, False, False, False, False, False, False, False, False, False, False, False, False, False, False, False, False, False, False, False, False, False, False, False, False, False, False, False, False, False, False, False, False, False, False, False, False, False, False, False, False, False, False, True, False, False, False, False, False, True, False, False, False, False, False, False, False, False, False, False, False, False, False, False, False, False, False, False, False, False, False, False, False, False, False, False, False, False, False, False, False, False, False, False, False, False, False, False, False, False, False, False, False, False, False, False, False, False, False, False, False, False, False, False, False, False, False, False, False, False, False, False, False, False, False, False, False, False, False, False, False, False, False, False, False, False, False, False, False, True, False, False, False, False, False, False, False, False, False, False, False, False, False, False, False, False, False, False, False, False, False, False, False, False, False, False, False, False, False, False, False, False, False, False, False, False, False, False, False, False, False, False, False, False, False, False, False, False, False, False, False, False, False, False, False, False, False, False, False, False, False, False, False, False, False, False, False, False, False, False, False, False, False, False, False, False, False, False, False, False, False, False, False, False, False, False, False, False, False, False, False, False, False, False, False, False, False, False, False, False, False, False, False, False, False, False, False, False, False, False, False, False, False, False, False, False, False, False, False, False, False, False, False, False, False, False, False, False, False, False, False, False, False, False, False, False, False, False, False, False, False, False, False, True, False, False, False, False, False, False, False, False, False, False, False, False, False, False, False, False, False, False, False, False, False, False, False, False, False, False, False, False, False, False, False, False, False, False, False, False, False, False, False, False, False, False, False, False, False, False, False, False, False, False, False, False, False, False, False, False, False, False, False, False, False, False, False, False, False, False, False, False, False, False, False, False, False, False, False, False, False, False, False, False, False, False, False, False, False, False, False, False, False, False, False, False, False, False, False, False, False, False, False, True, False, False, False, False, False, False, False, True, False, False, False, False, False, False, False, False, False, False, False, False, False, False, False, False, False, False, False, False, False, False, False, False, False, False, False, True, False, True, False, False, False, False, False, False, False, False, False, False, False, False, False, False, False, False, False, False, False, False, False, False, False, False, False, False, False, False, False, False, False, False, False, False, False, False, False, False, False, False, False, False, False, False, False, False, False, False, False, False, False, False, False, False, False, False, False, False, False, False, False, False, False, False, False, False, False, False, False, False, False, False, False, False, False, False, False, False, False, False, False, False, False, False, False, False, False, False, False, False, False, False, False, False, False, False, False, False, False, False, False, False, False, False, False, False, False, False, False, False, False, False, False, False, False, False, False, False, False, False, False, False, False, False, False, False, False, False, False, True, False, False, False, False, False, False, False, False, False, False, False, False, False, False, False, False, False, False, False, False, False, False, False, False, False, False, False, False, False, False, False, False, False, False, False, False, False, False, False, False, False, False, False, True, False, False, False, False, False, True, False, False, False, True, False, False, False, False, False, False, False, False, False, False, False, False, False, False, False, False, False, False, False, False, False, False, False, False, False, False, False, False, False, False, False, False, False, False, False, False, False, False, False, False, False, False, False, False, False, False, False, False, False, False, False, False, False, False, False, False, False, False, False, False, False, False, False, False, False, False, False, False, False, False, False, False, False, False, False, False, False, False, False, False, False, False, False, True, False, False, False, False, False, False, False, False, False, False, False, False, False, False, False, False, False, False, False, False, False, False, False, False, False, False, False, False, False, False, False, False, False, False, False, False, False, False, False, False, False, True, False, False, False, False, False, False, False, False, False, False, False, False, False, False, False, False, False, False, False, False, False, False, False, False, False, False, False, False, False, False, False, False, False, False, False, False, False, False, False, False, False, False, False, False, False, False, False, False, False, False, False, False, False, True, False, False, False, False, False, False, False, False, False, False, False, False, False, False, False, False, False, False, False, True, False, False, False, False, False, False, False, False, False, True, False, False, False, False, False, False, False, False, False, False, False, False, False, False, False, False, False, False, False, False, False, False, False, False, False, False, False, False, False, False, False, False, False, False, False, False, False, False, False, False, False, False, False, False, False, False, False, False, False, False, False, False, False, False, False, False, False, False, False, False, False, False, False, False, False, False, False, True, False, False, False, False, False, False, False, False, False, True, False, False, False, False, False, False, False, False, False, False, False, False, False, False, False, False, False, False, False, True, False, False, False, False, False, False, False, False, False, False, False, False, False, False, False, True, False, False, False, False, False, False, False, False, False, False, False, False, False, False, False, False, False, False, False, False, False, False, False, False, False, False, False, False, False, False, False, False, False, False, False, False, False, False, False, False, False, False, False, False, False, False, False, False, False, False, False, False, False, False, False, False, False, False, False, False, False, False, False, False, False, False, False, False, False, False, False, True, False, False, False, False, False, False, False, False, False, False, False, False, False, False, False, False, False, True, False, False, False, False, False, False, False, False, False, False, False, False, False, False, False, False, False, False, False, True, False, False, False, False, False, False, False, False, False, False, False, True, False, False, False, False, False, False, False, False, False, False, False, False, False, False, False, False, False, False, False, False, False, False, False, True, False, False, False, True, False, False, False, False, False, True, False, False, False, False, False, False, False, False, False, False, False, False, False, False, False, False, False, False, False, True, False, False, False, True, False, False, False, False, False, False, False, False, False, False, False, False, False, True, False, False, False, False, False, False, False, False, False, False, False, False, False, False, False, False, False, True, False, False, False, False, False, False, False, False, False, False, False, False, False, False, False, False, False, False, False, False, False, False, False, False, False, False, False, False, False, False, False, False, False, False, False, False, False, False, False, False, False, False, False, False, False, False, False, False, False, False, False, True, False, False, False, False, False, False, False, False, False, False, False, False, False, False, False, False, False, False, False, False, False, False, False, False, False, False, False, False, False, False, False, False, False, False, False, False, False, False, False, False, False, False, False, False, False, False, False, False, False, False, False, False, False, False, False, False, False, False, False, False, False, False, False, False, False, False, False, False, False, False, False, False, False, False, False, False, False, False, False, False, False, False, False, False, False, False, False, False, False, False, False, False, False, False, False, False, False, False, False, False, False, False, False, False, False, False, False, True, False, False, False, False, False, False, False, False, False, False, False, False, False, False, False, False, False, False, False, False, False, False, False, False, False, False, False, False, False, False, False, False, False, False, False, False, False, False, False, False, False, False, False, False, False, False, False, False, False, False, False, False, False, False, False, False, False, False, False, False, False, False, False, False, False, False, False, False, False, False, False, False, False, True, False, False, False, True, False, False, False, False, False, False, False, False, False, False, False, False, False, False, False, False, False, False, False, False, False, False, False, False, False, False, False, False, False, False, False, False, False, False, False, False, False, False, False, False, False]\n",
      "CPU times: user 26 s, sys: 0 ns, total: 26 s\n",
      "Wall time: 26 s\n"
     ]
    },
    {
     "data": {
      "text/plain": [
       "(3644, (700, 10, 10))"
      ]
     },
     "execution_count": 47,
     "metadata": {},
     "output_type": "execute_result"
    }
   ],
   "source": [
    "%%time\n",
    "print(f'total iteraciones {fin - inicio}')\n",
    "print(list(map(is_prime_numba, PRIMES)))\n",
    "\n",
    "garbage_colector.collect(), garbage_colector.get_threshold()"
   ]
  },
  {
   "cell_type": "code",
   "execution_count": 48,
   "id": "8d07f5b9-eb7d-4c71-a589-666f3162b8d1",
   "metadata": {
    "scrolled": true,
    "tags": []
   },
   "outputs": [
    {
     "name": "stdout",
     "output_type": "stream",
     "text": [
      "total iteraciones 50000\n",
      "[False, False, False, False, True, False, False, False, False, False, False, False, False, False, False, False, False, False, False, False, False, False, False, False, False, False, False, False, False, False, False, False, False, False, False, False, False, False, False, False, False, False, False, False, False, False, False, False, False, False, False, False, False, False, False, False, False, False, False, False, False, False, False, False, False, False, False, False, False, False, False, False, False, False, False, False, False, False, False, False, False, False, False, False, False, False, False, False, False, False, False, False, False, False, True, False, False, False, False, False, False, False, False, False, False, False, False, False, False, False, False, False, False, False, False, False, False, False, False, False, False, False, False, False, False, False, False, False, False, False, False, False, False, False, False, False, False, False, False, False, True, False, True, False, False, False, False, False, False, False, False, False, False, False, False, False, False, False, False, False, False, False, False, False, True, False, False, False, False, False, False, False, False, False, False, False, False, False, False, False, False, False, True, False, False, False, False, False, False, False, False, False, False, False, False, False, False, False, False, False, False, False, False, False, False, False, False, False, False, False, False, False, False, False, False, False, False, False, False, False, True, False, False, False, False, False, False, False, False, False, False, False, False, False, False, False, False, False, False, False, False, False, False, False, False, False, False, False, False, False, True, False, False, False, False, False, False, False, False, False, False, False, False, False, False, False, False, False, False, False, False, False, False, False, False, False, False, False, False, False, False, False, False, False, False, False, False, False, False, False, False, False, False, False, False, False, False, False, False, False, False, False, False, False, False, False, False, False, False, False, False, False, False, False, False, False, False, False, False, False, False, False, False, False, False, False, False, False, False, False, False, False, False, False, False, False, False, False, False, False, True, False, False, False, False, False, False, False, False, False, False, False, False, False, False, False, False, False, False, False, False, False, False, False, False, False, False, False, False, False, False, False, False, False, False, False, False, False, False, False, False, False, False, False, False, False, False, False, True, False, False, False, False, False, False, False, False, False, False, False, False, False, False, False, False, False, False, False, False, False, False, False, False, False, False, False, False, False, False, False, False, False, False, False, True, False, False, False, False, False, False, False, False, False, False, False, False, False, False, False, False, False, False, False, False, False, False, False, False, False, False, False, False, False, False, False, False, False, False, False, False, False, False, False, False, False, False, False, False, False, False, False, False, False, False, False, False, False, False, False, False, False, False, False, False, False, False, False, False, False, False, False, False, False, False, False, False, False, False, False, False, False, False, False, False, False, False, False, False, False, False, False, False, False, False, False, False, False, False, False, False, False, False, False, False, False, False, False, False, False, False, False, False, False, False, False, False, False, False, False, False, False, False, False, True, False, False, False, False, False, False, False, False, False, False, False, False, False, False, False, False, False, False, False, False, False, False, False, False, False, False, False, False, False, False, False, False, False, False, False, False, False, False, False, False, False, False, False, False, False, True, False, False, False, False, False, False, False, False, False, False, False, False, False, False, False, False, False, False, False, False, False, False, False, False, False, False, False, False, False, False, False, False, False, False, False, False, False, False, False, False, False, False, False, False, False, False, False, False, False, False, False, False, False, False, False, False, False, False, False, False, False, False, False, False, False, False, False, False, False, False, False, False, False, False, False, False, False, False, False, False, False, False, False, True, False, False, False, False, False, False, False, False, False, False, False, False, False, False, False, False, False, True, False, False, False, False, False, False, False, True, False, False, False, False, False, False, False, False, False, False, False, False, False, False, False, False, False, False, False, False, False, False, False, False, False, False, False, False, False, False, False, False, False, False, False, False, False, False, False, False, False, False, False, False, False, False, False, False, False, False, False, False, False, False, False, False, False, True, False, False, False, False, False, False, False, False, False, False, False, False, False, False, False, False, False, False, False, False, False, False, False, False, False, False, False, False, False, False, False, False, False, False, False, False, False, False, False, False, False, False, False, False, False, False, False, False, False, False, False, False, False, False, False, False, False, False, False, False, False, False, False, False, False, False, False, False, False, False, False, False, False, True, False, False, False, False, False, False, False, False, False, False, False, False, False, False, False, False, False, True, False, False, False, False, False, False, False, False, False, False, False, False, False, False, False, False, False, False, False, False, False, False, False, False, False, False, False, False, False, False, False, False, False, True, False, False, False, False, False, False, False, False, False, False, False, False, False, False, False, False, False, False, False, False, False, False, False, False, False, False, False, False, False, False, False, False, False, False, False, False, False, False, False, False, False, False, False, False, False, False, False, False, False, False, False, False, False, False, False, True, False, False, False, True, False, False, False, False, False, False, False, False, False, False, False, False, False, False, False, False, False, False, False, False, False, False, False, False, False, False, False, False, False, False, False, False, False, False, False, False, False, False, False, False, False, False, False, False, False, False, False, False, False, False, False, False, False, False, False, False, False, False, False, False, False, False, False, False, False, False, False, False, False, False, False, False, False, False, False, False, False, False, False, True, False, False, False, False, False, False, False, False, False, False, False, False, False, False, False, False, False, True, False, False, False, False, False, False, False, False, False, False, False, False, False, False, False, False, False, False, False, False, False, False, False, False, False, False, False, False, False, False, False, False, False, False, False, False, False, False, False, False, False, False, False, False, False, False, False, False, False, False, False, False, False, False, False, False, False, False, False, False, False, False, False, False, False, True, False, False, False, False, False, False, False, False, False, False, False, False, False, False, False, False, False, False, False, False, False, False, False, True, False, False, False, False, False, False, False, False, False, False, False, False, False, False, False, False, False, False, False, False, False, False, False, False, False, False, False, False, False, False, False, False, False, False, False, False, False, False, False, False, False, False, False, False, False, False, False, True, False, False, False, False, False, False, False, False, False, False, False, True, False, False, False, False, False, False, False, False, False, False, False, False, False, False, False, False, False, False, False, False, False, True, False, False, False, False, False, False, False, False, False, False, False, False, False, False, False, False, False, False, False, False, False, False, False, False, False, False, False, False, False, False, False, False, False, False, False, False, False, False, False, False, False, False, False, False, False, False, False, False, False, False, False, False, False, False, False, False, False, False, False, False, False, False, False, False, False, False, False, False, False, False, False, False, False, False, False, False, False, False, False, True, False, False, False, False, False, False, False, False, False, False, False, False, False, False, False, False, False, False, False, False, False, False, False, False, False, False, False, False, False, False, False, False, False, False, False, False, False, False, False, False, False, False, False, False, False, False, False, False, False, False, False, False, False, False, False, False, False, False, False, False, False, False, False, False, False, False, False, False, False, False, False, False, False, False, False, True, False, False, False, False, False, False, False, False, False, False, False, False, False, False, False, False, False, False, False, True, False, False, False, False, False, False, False, False, False, False, False, False, False, False, False, False, False, False, False, False, False, False, False, False, False, False, False, False, False, True, False, False, False, False, False, False, False, False, False, False, False, False, False, False, False, False, False, False, False, False, False, False, False, False, False, False, False, False, False, False, False, False, False, False, False, False, False, False, False, False, False, False, False, False, False, False, False, False, False, False, False, True, False, False, False, False, False, False, False, True, False, False, False, False, False, False, False, False, False, False, False, False, False, False, False, False, False, False, False, False, False, False, False, False, False, False, False, False, False, False, False, False, False, False, False, False, False, False, False, False, False, False, False, False, False, False, False, False, False, False, False, False, False, False, False, False, False, False, False, False, False, False, False, False, False, False, False, False, False, False, False, False, False, False, False, False, False, False, False, False, False, False, False, False, False, False, False, True, False, False, False, False, False, False, False, False, False, False, False, False, False, False, False, False, False, False, False, False, False, False, False, False, False, True, False, False, False, False, False, True, False, False, False, False, False, False, False, False, False, False, False, False, False, False, False, False, False, False, False, False, False, True, False, False, False, False, False, False, False, False, False, False, False, False, False, False, False, False, False, False, False, False, False, False, False, False, False, False, False, False, False, False, False, False, False, False, False, False, False, False, False, False, False, False, False, False, False, False, False, False, False, False, False, False, False, False, False, False, False, False, False, False, False, False, False, False, False, False, False, False, False, False, False, False, False, False, False, False, False, True, False, False, False, False, False, False, False, False, False, False, False, False, False, False, False, False, False, False, False, False, False, False, False, False, False, False, False, False, False, False, False, False, False, False, False, False, False, True, False, False, False, False, False, False, False, False, False, False, False, False, False, False, False, False, False, False, False, False, False, False, False, False, False, False, False, False, False, True, False, False, False, False, False, False, False, False, False, False, False, False, False, False, False, False, False, False, False, False, False, False, False, False, False, False, False, False, False, False, False, False, False, False, False, False, False, False, False, False, False, False, False, False, False, False, False, False, False, False, False, False, False, False, False, False, False, False, False, False, False, False, False, False, False, False, False, False, False, False, False, False, False, False, False, True, False, False, False, False, False, False, False, False, False, False, False, False, False, False, False, False, False, False, False, False, False, False, False, False, False, False, False, False, False, False, False, False, False, False, False, False, False, False, False, False, False, False, False, True, False, False, False, False, False, False, False, False, False, False, False, False, False, False, False, False, False, False, False, False, False, False, False, False, False, False, False, False, False, False, False, False, False, False, False, False, False, False, False, False, False, False, False, False, False, False, False, False, False, False, False, False, False, False, False, False, False, False, False, False, False, False, False, False, False, False, False, False, False, True, False, False, False, False, False, False, False, False, False, False, False, False, False, True, False, False, False, False, False, True, False, False, False, False, False, False, False, False, False, False, False, False, False, False, False, False, False, False, False, False, False, True, False, True, False, False, False, False, False, False, False, False, False, False, False, False, False, False, False, True, False, False, False, False, False, False, False, False, False, False, False, False, False, False, False, False, False, False, False, False, False, False, False, False, False, False, False, False, False, False, False, True, False, False, False, False, False, False, False, False, False, False, False, True, False, False, False, False, False, False, False, False, False, False, False, True, False, False, False, False, False, False, False, False, False, False, False, False, False, False, False, False, False, False, False, False, False, False, False, False, False, False, False, False, False, False, False, False, False, False, False, False, False, False, False, False, False, False, False, False, False, False, False, False, False, False, False, False, False, False, False, False, False, False, False, False, False, False, False, False, False, False, False, False, False, False, False, False, False, False, False, False, False, False, False, False, False, False, False, False, False, False, False, False, False, False, False, False, False, False, False, False, False, False, False, False, False, False, False, False, False, False, False, False, False, False, False, False, False, True, False, False, False, False, False, False, False, False, False, False, False, False, False, False, False, False, False, False, False, False, False, False, False, False, False, False, False, False, False, False, False, False, False, True, False, False, False, False, False, False, False, True, False, False, False, False, False, False, False, False, False, True, False, False, False, False, False, False, False, False, False, False, False, False, False, True, False, False, False, True, False, False, False, False, False, True, False, False, False, False, False, False, False, False, False, False, False, False, False, False, False, False, False, False, False, False, False, False, False, False, False, False, False, False, False, False, False, False, False, False, False, False, False, True, False, False, False, False, False, False, False, False, False, False, False, False, False, False, False, False, False, False, False, False, False, False, False, False, False, False, False, False, False, False, False, False, False, False, False, False, False, False, False, False, False, False, False, False, False, False, False, False, False, False, False, False, False, False, False, False, False, False, False, False, False, False, False, False, False, False, False, False, False, False, False, False, False, False, False, False, False, False, False, False, False, False, False, False, False, False, False, True, False, False, False, False, False, False, False, False, False, False, False, False, False, False, False, False, False, False, False, False, False, False, False, False, False, False, False, False, False, True, False, False, False, False, False, False, False, False, False, False, False, False, False, True, False, False, False, False, False, False, False, False, False, False, False, False, False, False, False, False, False, False, False, False, False, False, False, False, False, False, False, False, False, False, False, False, False, False, False, False, False, False, False, False, False, False, False, False, False, False, False, False, False, False, False, False, False, False, False, False, False, False, False, False, False, False, False, False, False, False, False, False, False, False, False, False, False, False, False, False, False, False, False, False, False, False, False, False, False, False, False, True, False, False, False, False, False, False, False, True, False, False, False, False, False, False, False, False, False, False, False, False, False, False, False, False, False, False, False, False, False, False, False, False, False, False, False, False, False, False, False, False, False, False, False, False, False, False, False, False, False, False, False, False, False, False, False, False, False, False, False, False, False, False, False, False, False, False, False, False, False, False, False, False, False, False, False, False, False, False, False, False, False, False, False, False, False, False, False, False, False, False, False, False, False, False, False, False, False, False, False, False, False, False, False, False, False, False, False, False, False, False, False, False, False, False, False, False, False, False, False, False, False, False, False, False, False, True, False, False, False, False, False, False, False, False, False, False, False, False, False, False, False, False, False, False, False, False, False, False, False, False, False, True, False, False, False, False, False, False, False, False, False, False, False, False, False, False, False, True, False, False, False, False, False, False, False, False, False, False, False, False, False, False, False, False, False, False, False, False, False, False, False, False, False, False, False, False, False, False, False, True, False, False, False, False, False, False, False, False, False, False, False, False, False, False, False, False, False, False, False, False, False, False, False, False, False, False, False, False, False, False, False, False, False, False, False, False, False, False, False, False, False, False, False, False, False, False, False, False, False, False, False, False, False, False, False, False, False, False, False, False, False, False, False, False, False, False, False, False, False, False, False, False, False, False, False, False, False, False, False, False, False, True, False, False, False, False, False, False, False, False, False, False, False, False, False, False, False, False, False, False, False, False, False, False, False, False, False, True, False, False, False, False, False, False, False, False, False, False, False, False, False, False, False, False, False, False, False, False, False, False, False, False, False, False, False, True, False, False, False, False, False, False, False, False, False, False, False, False, False, True, False, False, False, False, False, False, False, False, False, False, False, False, False, False, False, False, False, True, False, False, False, False, False, False, False, False, False, False, False, True, False, False, False, False, False, False, False, False, False, True, False, False, False, False, False, False, False, False, False, False, False, False, False, False, False, False, False, False, False, False, False, False, False, False, False, False, False, False, False, True, False, False, False, False, False, False, False, False, False, False, False, False, False, False, False, False, False, False, False, False, False, False, False, False, False, False, False, False, False, False, False, False, False, False, False, False, False, False, False, False, False, False, False, False, False, False, False, False, False, False, False, False, False, False, False, False, False, False, False, False, False, False, False, False, False, False, False, False, False, False, False, False, False, False, False, False, False, False, False, False, False, False, False, False, False, False, False, False, False, False, False, False, False, False, False, False, False, False, False, False, False, True, False, False, False, False, False, False, False, True, False, False, False, False, False, False, False, False, False, False, False, False, False, False, False, False, False, False, False, False, False, False, False, False, False, False, False, False, False, False, False, False, False, False, False, False, False, False, False, False, False, False, False, False, False, False, False, False, False, False, False, False, False, False, False, False, False, False, False, False, False, False, False, False, False, False, False, False, False, False, False, False, False, False, False, False, False, False, False, False, False, False, False, False, False, False, False, True, False, False, False, False, False, False, False, False, False, False, False, False, False, False, False, False, False, False, False, False, False, False, False, True, False, False, False, False, False, False, False, False, False, False, False, False, False, False, False, False, False, False, False, False, False, False, False, False, False, False, False, False, False, False, False, False, False, False, False, False, False, False, False, False, False, False, False, False, False, False, False, False, False, False, False, False, False, False, False, False, False, False, False, False, False, False, False, False, False, False, False, False, False, False, False, False, False, False, False, False, False, False, False, False, False, False, False, False, False, True, False, False, False, False, False, False, False, False, False, True, False, False, False, False, False, False, False, False, False, False, False, False, False, False, False, False, False, False, False, False, False, False, False, False, False, False, False, False, False, False, False, False, False, False, False, False, False, False, False, False, False, False, False, False, False, False, False, False, False, False, False, False, False, False, False, False, False, False, False, False, False, True, False, False, False, False, False, True, False, False, False, False, False, False, False, False, False, True, False, False, False, False, False, False, False, False, False, False, False, True, False, False, False, False, False, False, False, False, False, False, False, False, False, False, False, False, False, False, False, False, False, False, False, False, False, False, False, False, False, False, False, False, False, False, False, False, False, False, False, False, False, False, False, False, False, False, False, False, False, False, False, False, False, False, False, False, False, False, False, False, False, False, False, False, False, False, False, False, False, False, False, False, False, False, False, False, False, False, False, False, False, False, False, False, False, False, False, False, False, True, False, False, False, False, False, False, False, False, False, False, False, False, False, True, False, False, False, False, False, False, False, False, False, False, False, False, False, False, False, True, False, False, False, False, False, False, False, False, False, False, False, False, False, False, False, False, False, False, False, False, False, False, False, False, False, False, False, False, False, False, False, False, False, False, False, False, False, False, False, False, False, False, False, False, False, False, False, True, False, False, False, False, False, False, False, False, False, False, False, False, False, False, False, False, False, False, False, False, False, False, False, False, False, False, False, False, False, False, False, False, False, False, False, False, False, False, False, False, False, True, False, False, False, False, False, False, False, False, False, False, False, False, False, False, False, False, False, False, False, False, False, False, False, True, False, False, False, False, False, False, False, False, False, False, False, False, False, False, False, False, False, False, False, False, False, False, False, False, False, False, False, False, False, False, False, False, False, False, False, False, False, False, False, False, False, False, False, False, False, False, False, False, False, False, False, False, False, False, False, False, False, False, False, False, False, False, False, False, False, False, False, False, False, False, False, False, False, False, False, False, False, False, False, False, False, False, False, False, False, False, False, False, False, False, False, False, False, False, False, False, False, False, False, False, False, False, False, False, False, False, False, False, False, False, False, False, False, False, False, False, False, False, False, False, False, False, False, False, False, False, False, False, False, False, False, False, False, False, False, False, False, False, False, False, False, False, False, False, False, False, False, False, False, False, False, False, False, False, False, False, False, False, False, False, False, False, False, False, False, False, False, False, False, False, False, False, False, False, False, False, False, False, False, False, False, False, False, False, False, True, False, False, False, False, False, False, False, False, False, False, False, False, False, False, False, False, False, False, False, True, False, False, False, False, False, False, False, False, False, False, False, False, False, False, False, False, False, False, False, False, False, False, False, False, False, False, False, False, False, True, False, False, False, False, False, False, False, False, False, False, False, False, False, False, False, False, False, False, False, False, False, False, False, False, False, False, False, True, False, True, False, False, False, False, False, False, False, False, False, True, False, True, False, False, False, False, False, False, False, False, False, False, False, False, False, False, False, False, False, False, False, False, False, False, False, False, False, False, False, False, False, False, False, False, False, False, False, False, False, False, False, False, False, False, False, False, False, False, False, False, False, False, False, False, False, False, False, False, False, False, False, False, False, False, False, False, False, False, False, False, False, False, False, False, False, False, False, False, False, False, False, False, False, False, False, False, False, False, False, False, False, False, False, False, False, False, False, False, False, False, False, False, False, True, False, False, False, False, False, False, False, False, False, True, False, False, False, False, False, True, False, False, False, False, False, False, False, False, False, False, False, False, False, False, False, False, False, False, False, False, False, False, False, False, False, False, False, False, False, False, False, False, False, False, False, False, False, False, False, False, False, False, False, False, False, False, False, False, False, False, False, False, False, False, False, False, False, False, False, False, False, False, False, False, False, False, False, False, False, False, False, True, False, False, False, False, False, False, False, False, False, False, False, True, False, False, False, False, False, False, False, False, False, False, False, False, False, False, False, False, False, False, False, True, False, False, False, False, False, False, False, False, False, False, False, False, False, False, False, False, False, False, False, False, False, False, False, False, False, False, False, False, False, False, False, False, False, False, False, False, False, False, False, False, False, False, False, False, False, False, False, False, False, False, False, False, False, False, False, False, False, False, False, False, False, False, False, False, False, False, False, False, False, False, False, False, False, False, False, False, False, False, False, False, False, False, False, False, False, False, False, False, False, False, False, False, False, False, False, False, False, False, False, True, False, False, False, False, False, True, False, False, False, False, False, False, False, False, False, False, False, False, False, False, False, False, False, False, False, False, False, False, False, False, False, False, False, False, False, False, False, False, False, False, False, False, False, False, False, False, False, False, False, False, False, False, False, True, False, True, False, False, False, False, False, False, False, False, False, False, False, True, False, False, False, False, False, True, False, False, False, True, False, False, False, False, False, False, False, False, False, False, False, False, False, False, False, False, False, True, False, False, False, False, False, False, False, False, False, False, False, False, False, False, False, False, False, True, False, False, False, False, False, True, False, False, False, False, False, False, False, False, False, False, False, False, False, False, False, False, False, False, False, False, False, False, False, False, False, False, False, False, False, False, False, False, False, False, False, False, False, True, False, False, False, False, False, False, False, False, False, False, False, False, False, False, False, False, False, False, False, False, False, False, False, False, False, False, False, False, False, False, False, False, False, False, False, True, False, False, False, False, False, False, False, False, False, True, False, False, False, False, False, False, False, False, False, False, False, False, False, False, False, False, False, False, False, False, False, False, False, False, False, False, False, False, False, False, False, True, False, False, False, False, False, False, False, False, False, True, False, False, False, False, False, False, False, False, False, False, False, False, False, False, False, False, False, False, False, False, False, False, False, False, False, False, False, False, False, False, False, False, False, False, False, False, False, False, False, False, False, False, False, False, False, False, False, False, False, True, False, False, False, False, False, False, False, False, False, False, False, True, False, False, False, False, False, False, False, False, False, False, False, False, False, False, False, False, False, False, False, False, False, False, False, False, False, False, False, False, False, False, False, False, False, False, False, False, False, False, False, False, False, False, False, False, False, False, False, False, False, False, False, False, False, False, False, False, False, False, False, False, False, False, False, False, False, False, False, False, False, False, False, False, False, False, False, True, False, False, False, False, False, False, False, False, False, False, False, True, False, False, False, False, False, False, False, False, False, False, False, True, False, False, False, False, False, False, False, False, False, False, False, False, False, False, False, False, False, False, False, False, False, False, False, False, False, False, False, False, False, False, False, False, False, False, False, False, False, False, False, False, False, False, False, False, False, False, False, False, False, False, False, False, False, False, False, False, False, False, False, True, False, False, False, False, False, False, False, False, False, False, False, False, False, False, False, False, False, False, False, False, False, False, False, False, False, False, False, False, False, True, False, False, False, False, False, False, False, False, False, False, False, False, False, False, False, False, False, False, False, False, False, False, False, False, False, True, False, False, False, False, False, False, False, False, False, False, False, False, False, False, False, False, False, False, False, False, False, False, False, False, False, False, False, False, False, False, False, False, False, False, False, False, False, False, False, False, False, False, False, False, False, False, False, False, False, False, False, False, False, False, False, False, False, False, False, False, False, False, False, False, False, False, False, False, False, False, False, False, False, False, False, False, False, False, False, False, False, False, False, False, False, False, False, False, False, False, False, False, False, False, False, True, False, False, False, False, False, False, False, False, False, False, False, False, False, False, False, False, False, False, False, False, False, False, False, False, False, False, False, False, False, False, False, False, False, False, False, False, False, False, False, False, False, False, False, False, False, True, False, False, False, False, False, False, False, False, False, False, False, True, False, False, False, False, False, False, False, False, False, False, False, False, False, False, False, False, False, False, False, False, False, False, False, False, False, False, False, False, False, False, False, False, False, False, False, False, False, True, False, False, False, False, False, False, False, False, False, False, False, False, False, False, False, False, False, False, False, False, False, False, False, False, False, False, False, False, False, False, False, False, False, False, False, False, False, False, False, False, False, False, False, False, False, False, False, False, False, False, False, False, False, False, False, False, False, False, False, False, False, False, False, False, False, False, False, False, False, False, False, False, False, False, False, False, False, False, False, False, False, False, False, False, False, False, False, False, False, False, False, False, False, False, False, False, False, False, False, False, False, False, False, False, False, False, False, False, False, False, False, False, False, False, False, False, False, False, False, False, False, False, False, False, False, False, False, False, False, False, False, False, False, False, False, False, False, True, False, False, False, True, False, False, False, False, False, False, False, False, False, False, False, False, False, False, False, False, False, False, False, False, False, False, False, False, False, True, False, False, False, True, False, False, False, False, False, False, False, False, False, False, False, False, False, False, False, False, False, False, False, False, False, False, False, False, False, False, False, False, False, False, False, False, False, False, False, False, False, True, False, False, False, False, False, False, False, False, False, False, False, False, False, False, False, False, False, False, False, False, False, False, False, False, False, False, False, True, False, False, False, False, False, False, False, False, False, False, False, False, False, True, False, False, False, False, False, False, False, False, False, True, False, False, False, False, False, False, False, False, False, False, False, False, False, False, False, False, False, False, False, False, False, False, False, False, False, False, False, False, False, True, False, False, False, False, False, False, False, False, False, False, False, False, False, False, False, False, False, True, False, False, False, False, False, False, False, False, False, False, False, True, False, False, False, False, False, False, False, False, False, False, False, False, False, False, False, False, False, True, False, False, False, False, False, False, False, False, False, False, False, False, False, False, False, False, False, False, False, False, False, False, False, False, False, False, False, False, False, False, False, False, False, False, False, False, False, False, False, False, False, False, False, False, False, False, False, False, False, False, False, False, False, False, False, False, False, False, False, False, False, False, False, False, False, False, False, False, False, False, False, False, False, False, False, False, False, True, False, False, False, False, False, False, False, False, False, False, False, False, False, False, False, False, False, False, False, False, False, False, False, False, False, True, False, False, False, False, False, False, False, False, False, False, False, False, False, False, False, True, False, False, False, False, False, False, False, False, False, False, False, False, False, False, False, False, False, True, False, False, False, False, False, False, False, False, False, False, False, False, False, False, False, False, False, False, False, False, False, False, False, False, False, False, False, False, False, True, False, False, False, False, False, False, False, False, False, False, False, False, False, True, False, False, False, False, False, True, False, False, False, False, False, False, False, False, False, False, False, False, False, False, False, False, False, False, False, False, False, False, False, False, False, False, False, False, False, False, False, False, False, False, False, False, False, False, False, False, False, True, False, False, False, False, False, False, False, False, False, False, False, False, False, False, False, False, False, False, False, False, False, False, False, True, False, False, False, False, False, False, False, False, False, False, False, False, False, False, False, False, False, True, False, False, False, False, False, False, False, False, False, False, False, False, False, False, False, False, False, False, False, False, False, False, False, False, False, False, False, False, False, False, False, False, False, False, False, False, False, False, False, False, False, False, False, False, False, False, False, False, False, False, False, False, False, False, False, False, False, False, False, False, False, False, False, False, False, False, False, False, False, False, False, False, False, False, False, False, False, False, False, False, False, False, False, False, False, False, False, False, False, False, False, False, False, False, False, False, False, False, False, False, False, False, False, False, False, False, False, False, False, False, False, False, False, False, False, False, False, False, False, False, False, False, False, False, False, False, False, False, False, False, False, False, False, False, False, False, False, False, False, False, False, False, False, False, False, False, False, True, False, False, False, False, False, False, False, False, False, False, False, False, False, False, False, False, False, False, False, False, False, False, False, False, False, False, False, False, False, False, False, False, False, False, False, False, False, False, False, False, False, False, False, False, False, False, False, True, False, False, False, False, False, False, False, False, False, False, False, False, False, False, False, False, False, False, False, False, False, False, False, False, False, False, False, False, False, False, False, False, False, False, False, False, False, False, False, False, False, True, False, False, False, False, False, False, False, True, False, False, False, False, False, False, False, False, False, False, False, False, False, False, False, False, False, False, False, False, False, False, False, False, False, False, False, False, False, False, False, False, False, False, False, False, False, False, False, False, False, False, False, False, False, False, False, False, False, False, False, False, False, False, False, False, False, False, False, False, False, False, False, True, False, False, False, False, False, False, False, False, False, False, False, False, False, False, False, False, False, False, False, True, False, False, False, False, False, False, False, False, False, False, False, False, False, False, False, False, False, False, False, False, False, False, False, False, False, False, False, False, False, False, False, False, False, False, False, False, False, False, False, False, False, False, False, False, False, False, False, False, False, False, False, False, False, False, False, False, False, False, False, False, False, False, False, False, False, False, False, False, False, False, False, False, False, False, False, True, False, False, False, False, False, False, False, False, False, False, False, False, False, False, False, False, False, False, False, True, False, False, False, False, False, False, False, False, False, False, False, False, False, False, False, False, False, False, False, False, False, False, False, True, False, False, False, False, False, False, False, False, False, False, False, False, False, False, False, False, False, False, False, False, False, True, False, False, False, False, False, False, False, False, False, False, False, False, False, False, False, False, False, False, False, False, False, False, False, False, False, False, False, False, False, False, False, False, False, False, False, False, False, False, False, False, False, False, False, False, False, False, False, False, False, False, False, False, False, False, False, True, False, False, False, False, False, False, False, False, False, False, False, False, False, False, False, False, False, False, False, False, False, True, False, False, False, False, False, False, False, False, False, False, False, False, False, False, False, False, False, False, False, False, False, False, False, False, False, True, False, False, False, False, False, False, False, False, False, False, False, True, False, False, False, False, False, False, False, False, False, False, False, False, False, False, False, False, False, False, False, False, False, False, False, False, False, False, False, False, False, False, False, False, False, False, False, False, False, False, False, False, False, False, False, False, False, False, False, False, False, False, False, False, False, False, False, False, False, False, False, False, False, False, False, False, False, False, False, False, False, False, False, False, False, False, False, False, False, False, False, False, False, False, False, False, False, False, False, True, False, True, False, False, False, False, False, False, False, False, False, False, False, False, False, False, False, False, False, False, False, False, False, False, False, True, False, False, False, True, False, False, False, False, False, False, False, False, False, False, False, False, False, False, False, False, False, False, False, False, False, False, False, False, False, False, False, False, False, False, False, False, False, False, False, False, False, False, False, False, False, False, False, False, False, False, False, False, False, False, False, False, False, False, False, False, False, False, False, False, False, False, False, False, False, False, False, False, False, False, False, False, False, True, False, False, False, False, False, False, False, False, False, False, False, False, False, False, False, False, False, True, False, False, False, False, False, False, False, False, False, False, False, False, False, False, False, False, False, False, False, False, False, False, False, False, False, False, False, False, False, False, False, False, False, True, False, False, False, False, False, False, False, False, False, False, False, False, False, False, False, False, False, True, False, False, False, False, False, False, False, False, False, False, False, False, False, False, False, False, False, False, False, False, False, False, False, False, False, False, False, False, False, False, False, False, False, False, False, True, False, True, False, False, False, False, False, False, False, False, False, False, False, True, False, False, False, False, False, False, False, False, False, False, False, False, False, False, False, False, False, False, False, False, False, False, False, False, False, False, False, False, False, True, False, False, False, False, False, False, False, False, False, False, False, False, False, False, False, False, False, False, False, False, False, False, False, False, False, False, False, False, False, False, False, False, False, False, False, False, False, False, False, False, False, True, False, False, False, False, False, False, False, False, False, False, False, False, False, False, False, False, False, False, False, False, False, False, False, True, False, False, False, True, False, False, False, False, False, False, False, False, False, False, False, True, False, False, False, False, False, False, False, False, False, False, False, False, False, True, False, False, False, False, False, False, False, False, False, False, False, False, False, False, False, False, False, False, False, False, False, False, False, False, False, False, False, False, False, False, False, False, False, False, False, False, False, False, False, True, False, False, False, False, False, False, False, False, False, False, False, True, False, False, False, False, False, False, False, False, False, False, False, False, False, False, False, False, False, False, False, False, False, False, False, False, False, False, False, False, False, False, False, False, False, False, False, False, False, False, False, False, False, False, False, False, False, False, False, False, False, False, False, False, False, False, False, False, False, False, False, False, False, False, False, False, False, False, False, False, False, False, False, False, False, False, False, False, False, False, False, True, False, False, False, False, False, False, False, False, False, False, False, True, False, False, False, False, False, False, False, False, False, False, False, False, False, False, False, False, False, False, False, False, False, False, False, False, False, False, False, True, False, False, False, False, False, False, False, False, False, False, False, False, False, False, False, False, False, False, False, False, False, False, False, False, False, False, False, False, False, False, False, False, False, False, False, False, False, False, False, False, False, False, False, False, False, False, False, False, False, False, False, False, False, False, False, False, False, False, False, False, False, True, False, False, False, False, False, False, False, False, False, False, False, False, False, False, False, True, False, False, False, False, False, False, False, False, False, False, False, False, False, False, False, False, False, False, False, False, False, False, False, False, False, False, False, False, False, False, False, False, False, False, False, True, False, False, False, False, False, False, False, False, False, False, False, False, False, False, False, False, False, False, False, False, False, False, False, True, False, False, False, False, False, False, False, False, False, False, False, False, False, True, False, False, False, False, False, False, False, False, False, False, False, False, False, False, False, False, False, True, False, False, False, True, False, False, False, False, False, False, False, False, False, False, False, False, False, False, False, False, False, False, False, False, False, False, False, False, False, False, False, False, False, False, False, False, False, False, False, False, False, False, False, False, False, False, False, False, False, False, False, False, False, False, False, False, False, False, False, False, False, False, False, False, False, False, False, False, False, False, False, False, False, False, False, False, False, False, False, False, False, False, False, False, False, False, False, False, False, False, False, False, False, False, False, False, False, False, False, False, False, False, False, False, False, False, False, True, False, False, False, False, False, False, False, False, False, False, False, False, False, False, False, False, False, False, False, False, False, False, False, False, False, False, False, False, False, False, False, False, False, False, False, False, False, False, False, True, False, False, False, False, False, False, False, False, False, False, False, False, False, False, False, False, False, False, False, False, False, False, False, False, False, False, False, False, False, True, False, False, False, False, False, False, False, False, False, False, False, False, False, False, False, False, False, False, False, False, False, False, False, False, False, False, False, False, False, True, False, False, False, False, False, False, False, False, False, False, False, False, False, False, False, False, False, False, False, False, False, False, False, False, False, False, False, False, False, False, False, False, False, False, False, True, False, False, False, False, False, False, False, False, False, False, False, False, False, False, False, False, False, True, False, False, False, False, False, False, False, True, False, False, False, False, False, False, False, False, False, False, False, False, False, False, False, False, False, False, False, False, False, False, False, False, False, False, False, False, False, False, False, False, False, False, False, False, False, False, False, False, False, False, False, False, False, False, False, False, False, False, False, False, False, False, False, False, False, False, False, False, False, False, False, False, False, False, False, False, False, False, False, False, False, False, False, False, False, False, False, False, False, False, False, False, False, False, False, False, False, False, False, False, False, False, False, False, False, False, False, False, False, False, False, False, False, False, False, False, False, False, False, False, False, False, False, False, False, False, False, False, False, False, False, False, False, False, False, False, False, True, False, False, False, False, False, False, False, False, False, False, False, False, False, False, False, False, False, True, False, False, False, False, False, False, False, False, False, False, False, True, False, False, False, False, False, False, False, False, False, False, False, False, False, False, False, False, False, False, False, False, False, False, False, False, False, False, False, False, False, False, False, False, False, False, False, False, False, False, False, False, False, False, False, True, False, False, False, False, False, False, False, False, False, False, False, False, False, False, False, False, False, False, False, False, False, False, False, False, False, False, False, False, False, True, False, False, False, False, False, False, False, False, False, False, False, False, False, False, False, False, False, False, False, False, False, False, False, False, False, False, False, False, False, False, False, False, False, False, False, False, False, False, False, False, False, False, False, False, False, True, False, False, False, False, False, False, False, False, False, False, False, False, False, False, False, False, False, False, False, False, False, False, False, False, False, False, False, False, False, False, False, False, False, False, False, False, False, False, False, False, False, False, False, False, False, False, False, False, False, False, False, False, False, False, False, False, False, False, False, False, False, False, False, False, False, False, False, False, False, False, False, False, False, False, False, False, False, True, False, False, False, False, False, False, False, False, False, False, False, False, False, True, False, False, False, False, False, True, False, False, False, False, False, False, False, False, False, True, False, False, False, False, False, False, False, False, False, False, False, False, False, False, False, False, False, False, False, False, False, False, False, False, False, False, False, False, False, False, False, False, False, False, False, False, False, False, False, False, False, False, False, False, False, False, False, False, False, False, False, False, False, False, False, True, False, False, False, False, False, False, False, False, False, False, False, False, False, False, False, False, False, False, False, False, False, False, False, False, False, False, False, False, False, False, False, False, False, False, False, False, False, False, False, False, False, False, False, False, False, True, False, False, False, False, False, False, False, False, False, False, False, False, False, True, False, False, False, False, False, False, False, False, False, False, False, False, False, False, False, False, False, False, False, False, False, False, False, False, False, False, False, False, False, False, False, False, False, False, False, True, False, False, False, False, False, False, False, False, False, False, False, False, False, False, False, False, False, False, False, False, False, False, False, False, False, False, False, False, False, False, False, False, False, False, False, False, False, False, False, False, False, False, False, False, False, False, False, False, False, False, False, False, False, False, False, False, False, False, False, False, False, False, False, False, False, False, False, False, False, False, False, False, False, False, False, False, False, False, False, False, False, False, False, False, False, False, False, False, False, False, False, False, False, False, False, False, False, False, False, False, False, False, False, False, False, False, False, False, False, False, False, True, False, False, False, False, False, False, False, False, False, False, False, True, False, False, False, False, False, False, False, False, False, False, False, False, False, False, False, False, False, False, False, False, False, False, False, False, False, False, False, False, False, False, False, False, False, False, False, True, False, False, False, False, False, False, False, False, False, False, False, False, False, False, False, False, False, False, False, False, False, False, False, False, False, False, False, False, False, True, False, False, False, False, False, False, False, False, False, False, False, True, False, False, False, False, False, False, False, False, False, False, False, False, False, False, False, False, False, False, False, False, False, False, False, False, False, False, False, False, False, False, False, False, False, False, False, False, False, False, False, False, False, False, False, False, False, False, False, False, False, False, False, False, False, False, False, False, False, False, False, False, False, False, False, False, False, False, False, False, False, False, False, False, False, False, False, False, False, True, False, False, False, False, False, False, False, False, False, False, False, False, False, False, False, False, False, False, False, True, False, False, False, False, False, False, False, False, False, False, False, False, False, False, False, False, False, False, False, False, False, False, False, False, False, False, False, False, False, True, False, False, False, False, False, False, False, False, False, False, False, False, False, False, False, False, False, False, False, False, False, False, False, False, False, False, False, False, False, False, False, False, False, False, False, False, False, False, False, False, False, False, False, False, False, False, False, False, False, False, False, False, False, False, False, False, False, True, False, False, False, False, False, False, False, False, False, False, False, False, False, False, False, False, False, False, False, False, False, False, False, False, False, False, False, False, False, False, False, False, False, False, False, False, False, False, False, False, False, False, False, False, False, False, False, False, False, False, False, False, False, False, False, True, False, False, False, True, False, False, False, False, False, False, False, False, False, False, False, False, False, True, False, False, False, False, False, False, False, False, False, False, False, False, False, False, False, False, False, False, False, False, False, False, False, False, False, False, False, True, False, False, False, False, False, False, False, False, False, False, False, False, False, False, False, False, False, False, False, False, False, False, False, True, False, False, False, False, False, False, False, False, False, False, False, False, False, False, False, False, False, False, False, False, False, False, False, False, False, False, False, False, False, False, False, False, False, False, False, False, False, True, False, False, False, False, False, False, False, False, False, False, False, False, False, False, False, False, False, False, False, False, False, False, False, False, False, False, False, False, False, False, False, False, False, False, False, False, False, False, False, False, False, False, False, False, False, False, False, False, False, False, False, False, False, False, False, False, False, False, False, False, False, False, False, False, False, False, False, False, False, False, False, False, False, False, False, False, False, True, False, False, False, False, False, False, False, False, False, False, False, False, False, False, False, False, False, False, False, False, False, False, False, False, False, False, False, False, False, False, False, False, False, True, False, False, False, False, False, False, False, False, False, False, False, False, False, False, False, False, False, False, False, False, False, False, False, False, False, False, False, False, False, False, False, False, False, False, False, False, False, False, False, False, False, False, False, False, False, False, False, False, False, False, False, False, False, False, False, False, False, False, False, True, False, False, False, False, False, True, False, False, False, False, False, False, False, False, False, False, False, False, False, False, False, False, False, True, False, False, False, False, False, False, False, False, False, False, False, False, False, False, False, False, False, False, False, False, False, False, False, False, False, False, False, False, False, False, False, True, False, False, False, False, False, False, False, False, False, False, False, False, False, False, False, False, False, False, False, False, False, False, False, False, False, False, False, False, False, False, False, False, False, False, False, False, False, False, False, False, False, False, False, False, False, False, False, True, False, False, False, True, False, False, False, False, False, False, False, False, False, False, False, False, False, False, False, False, False, True, False, False, False, False, False, False, False, False, False, False, False, False, False, False, False, False, False, False, False, False, False, False, False, False, False, False, False, False, False, False, False, False, False, False, False, False, False, False, False, False, False, False, False, False, False, False, False, False, False, False, False, False, False, False, False, False, False, False, False, False, False, False, False, False, False, False, False, False, False, False, False, False, False, False, False, False, False, False, False, False, False, False, False, True, False, False, False, False, False, False, False, False, False, False, False, False, False, False, False, False, False, False, False, False, False, False, False, False, False, False, False, False, False, True, False, False, False, False, False, False, False, False, False, False, False, False, False, False, False, False, False, True, False, False, False, False, False, True, False, False, False, False, False, False, False, False, False, False, False, False, False, False, False, False, False, False, False, True, False, False, False, False, False, False, False, False, False, True, False, False, False, False, False, False, False, False, False, False, False, False, False, False, False, False, False, False, False, False, False, False, False, True, False, False, False, False, False, False, False, False, False, False, False, False, False, False, False, False, False, False, False, False, False, False, False, False, False, False, False, False, False, False, False, False, False, False, False, False, False, False, False, False, False, False, False, False, False, False, False, False, False, False, False, False, False, False, False, False, False, False, False, True, False, False, False, False, False, False, False, False, False, False, False, False, False, False, False, False, False, False, False, False, False, False, False, False, False, False, False, False, False, False, False, False, False, False, False, False, False, False, False, False, False, True, False, False, False, False, False, True, False, False, False, False, False, False, False, False, False, False, False, False, False, False, False, False, False, False, False, False, False, False, False, True, False, False, False, False, False, False, False, False, False, False, False, False, False, False, False, False, False, False, False, False, False, False, False, False, False, False, False, False, False, False, False, False, False, False, False, False, False, False, False, False, False, False, False, False, False, False, False, False, False, True, False, False, False, False, False, False, False, False, False, False, False, False, False, False, False, False, False, True, False, False, False, False, False, False, False, False, False, True, False, False, False, False, False, False, False, False, False, False, False, False, False, False, False, False, False, False, False, False, False, False, False, False, False, False, False, False, False, True, False, False, False, False, False, False, False, True, False, False, False, False, False, False, False, False, False, False, False, True, False, False, False, False, False, True, False, False, False, False, False, False, False, False, False, False, False, False, False, False, False, False, False, False, False, False, False, False, False, False, False, False, False, False, False, False, False, False, False, True, False, False, False, False, False, False, False, False, False, False, False, False, False, False, False, False, False, False, False, False, False, False, False, False, False, False, False, False, False, False, False, False, False, False, False, False, False, True, False, False, False, True, False, False, False, False, False, False, False, False, False, False, False, False, False, False, False, False, False, False, False, False, False, False, False, False, False, False, False, False, False, False, False, False, False, False, False, False, False, False, False, False, False, False, False, False, False, False, False, False, False, False, False, False, False, False, False, True, False, False, False, False, False, False, False, False, False, True, False, False, False, False, False, False, False, False, False, False, False, True, False, False, False, False, False, False, False, False, False, False, False, False, False, False, False, False, False, False, False, True, False, False, False, False, False, False, False, False, False, False, False, False, False, False, False, False, False, True, False, False, False, False, False, False, False, False, False, False, False, False, False, False, False, False, False, False, False, False, False, False, False, False, False, False, False, False, False, False, False, False, False, False, False, False, False, False, False, False, False, False, False, False, False, False, False, False, False, False, False, False, False, False, False, False, False, False, False, False, False, False, False, False, False, False, False, False, False, False, False, False, False, False, False, False, False, False, False, False, False, False, False, False, False, False, False, False, False, False, False, False, False, False, False, False, False, False, False, False, False, False, False, False, False, False, False, False, False, False, False, False, False, False, False, False, False, False, False, False, False, False, False, False, False, False, False, False, False, False, False, True, False, False, False, False, False, False, False, False, False, False, False, False, False, False, False, False, False, False, False, False, False, False, False, False, False, False, False, False, False, False, False, False, False, False, False, False, False, False, False, False, False, False, False, False, False, True, False, False, False, False, False, False, False, False, False, False, False, False, False, False, False, False, False, False, False, False, False, False, False, False, False, False, False, False, False, False, False, False, False, False, False, False, False, False, False, False, False, False, False, True, False, False, False, False, False, False, False, False, False, False, False, False, False, False, False, True, False, False, False, False, False, False, False, False, False, False, False, False, False, False, False, False, False, False, False, False, False, False, False, False, False, False, False, False, False, False, False, False, False, False, False, False, False, False, False, False, False, False, False, False, False, False, False, False, False, False, False, False, False, False, False, False, False, False, False, False, False, False, False, False, False, False, False, False, False, False, False, False, False, False, False, False, False, False, False, True, False, False, False, True, False, False, False, False, False, False, False, True, False, False, False, False, False, False, False, False, False, True, False, False, False, False, False, False, False, False, False, False, False, False, False, False, False, False, False, False, False, False, False, False, False, False, False, False, False, False, False, False, False, False, False, False, False, False, False, False, False, False, False, False, False, False, False, False, False, True, False, False, False, False, False, False, False, False, False, False, False, False, False, False, False, False, False, False, False, False, False, False, False, False, False, True, False, False, False, False, False, False, False, False, False, False, False, False, False, False, False, False, False, False, False, False, False, False, False, False, False, False, False, False, False, True, False, False, False, False, False, False, False, False, False, False, False, False, False, False, False, False, False, False, False, False, False, False, False, True, False, False, False, False, False, False, False, False, False, False, False, False, False, False, False, False, False, False, False, False, False, False, False, False, False, False, False, False, False, False, False, False, False, True, False, False, False, False, False, False, False, True, False, False, False, False, False, False, False, False, False, False, False, False, False, False, False, False, False, False, False, False, False, False, False, False, False, False, False, False, False, False, False, False, False, False, False, False, False, False, False, False, False, False, False, False, False, False, False, False, False, False, False, False, False, True, False, False, False, True, False, True, False, False, False, False, False, False, False, False, False, False, False, True, False, False, False, False, False, False, False, False, False, False, False, False, False, False, False, False, False, False, False, False, False, False, False, False, False, False, False, False, False, True, False, False, False, False, False, False, False, False, False, False, False, False, False, False, False, False, False, False, False, False, False, False, False, False, False, False, False, False, False, False, False, False, False, False, False, False, False, False, False, False, False, False, False, False, False, False, False, False, False, False, False, False, False, False, False, False, False, False, False, False, False, False, False, False, False, False, False, False, False, False, False, False, False, False, False, False, False, False, False, False, False, False, False, False, False, False, False, False, False, False, False, False, False, False, False, False, False, False, False, False, False, False, False, False, False, False, False, False, False, False, False, False, False, False, False, False, False, False, False, False, False, False, False, False, False, False, False, False, False, False, False, False, False, False, False, False, False, False, False, False, False, False, False, False, False, False, False, False, False, False, False, False, False, False, False, True, False, False, False, False, False, False, False, False, False, False, False, False, False, False, False, False, False, False, False, False, False, False, False, False, False, False, False, False, False, False, False, False, False, False, False, False, False, False, False, False, False, False, False, False, False, False, False, False, False, False, False, False, False, False, False, False, False, False, False, False, False, False, False, True, False, False, False, False, False, False, False, False, False, False, False, False, False, False, False, False, False, True, False, False, False, False, False, False, False, False, False, False, False, False, False, True, False, False, False, True, False, False, False, False, False, False, False, False, False, False, False, False, False, False, False, False, False, False, False, False, False, False, False, False, False, False, False, False, False, False, False, False, False, False, False, False, False, False, False, False, False, False, False, False, False, False, False, False, False, False, False, False, False, True, False, False, False, False, False, False, False, False, False, False, False, False, False, False, False, False, False, False, False, False, False, False, False, False, False, False, False, False, False, False, False, False, False, False, False, True, False, False, False, False, False, False, False, False, False, False, False, False, False, False, False, False, False, False, False, False, False, False, False, False, False, False, False, False, False, True, False, False, False, False, False, False, False, False, False, False, False, False, False, False, False, False, False, False, False, False, False, False, False, False, False, False, False, False, False, False, False, False, False, False, False, False, False, False, False, False, False, False, False, False, False, False, False, False, False, False, False, False, False, False, False, False, False, False, False, False, False, False, False, False, False, False, False, False, False, False, False, False, False, False, False, False, False, False, False, False, False, False, False, False, False, True, False, False, False, False, False, False, False, False, False, True, False, False, False, False, False, False, False, False, False, False, False, False, False, False, False, False, False, False, False, False, False, False, False, False, False, False, False, False, False, False, False, False, False, False, False, False, False, False, False, False, False, False, False, False, False, False, False, True, False, False, False, False, False, False, False, False, False, False, False, False, False, False, False, False, False, False, False, False, False, False, False, False, False, False, False, False, False, False, False, False, False, False, False, False, False, False, False, False, False, False, False, False, False, False, False, False, False, False, False, False, False, False, False, True, False, False, False, False, False, False, False, False, False, False, False, False, False, False, False, False, False, False, False, False, False, False, False, False, False, False, False, False, False, False, False, False, False, False, False, True, False, False, False, False, False, False, False, False, False, False, False, False, False, False, False, False, False, False, False, False, False, False, False, False, False, False, False, True, False, False, False, False, False, True, False, False, False, False, False, False, False, False, False, False, False, False, False, True, False, False, False, False, False, False, False, False, False, False, False, False, False, False, False, False, False, False, False, False, False, False, False, False, False, False, False, False, False, False, False, False, False, False, False, False, False, False, False, False, False, False, False, False, False, False, False, False, False, False, False, False, False, False, False, False, False, False, False, False, False, False, False, False, False, False, False, False, False, False, False, False, False, False, False, False, False, False, False, False, False, False, False, False, False, False, False, False, False, False, False, False, False, False, False, True, False, False, False, False, False, False, False, False, False, False, False, True, False, False, False, False, False, False, False, False, False, False, False, False, False, False, False, False, False, False, False, False, False, False, False, False, False, False, False, False, False, False, False, False, False, True, False, False, False, False, False, False, False, False, False, False, False, False, False, True, False, False, False, False, False, False, False, False, False, False, False, False, False, False, False, False, False, False, False, False, False, False, False, False, False, False, False, False, False, False, False, False, False, False, False, False, False, False, False, True, False, False, False, False, False, False, False, False, False, False, False, False, False, False, False, False, False, False, False, False, False, False, False, False, False, True, False, False, False, False, False, False, False, False, False, False, False, False, False, False, False, False, False, False, False, False, False, False, False, False, False, False, False, False, False, True, False, False, False, False, False, True, False, False, False, False, False, False, False, False, False, False, False, False, False, False, False, False, False, False, False, False, False, False, False, False, False, False, False, False, False, False, False, False, False, False, False, False, False, False, False, False, False, True, False, False, False, False, False, False, False, False, False, False, False, False, False, False, False, False, False, True, False, False, False, False, False, False, False, False, False, False, False, False, False, False, False, False, False, False, False, False, False, False, False, False, False, False, False, False, False, False, False, False, False, False, False, False, False, False, False, False, False, False, False, False, False, False, False, False, False, False, False, False, False, False, False, False, False, False, False, False, False, False, False, False, False, False, False, False, False, False, False, False, False, False, False, False, False, False, False, False, False, False, False, False, False, False, False, False, False, False, False, False, False, False, False, False, False, False, False, False, False, False, False, False, False, False, False, False, False, False, False, False, False, False, False, False, False, False, False, False, False, False, False, False, False, False, False, False, False, False, False, False, False, False, False, False, False, True, False, False, False, False, False, False, False, False, False, False, False, False, False, False, False, False, False, False, False, False, False, True, False, False, False, False, False, False, False, False, False, False, False, False, False, False, False, False, False, False, False, True, False, False, False, True, False, False, False, False, False, False, False, False, False, False, False, False, False, False, False, False, False, False, False, False, False, False, False, False, False, False, False, False, False, False, False, False, False, False, False, True, False, False, False, False, False, False, False, False, False, False, False, False, False, False, False, False, False, False, False, False, False, False, False, False, False, False, False, False, False, False, False, False, False, False, False, False, False, True, False, False, False, False, False, False, False, False, False, False, False, False, False, False, False, False, False, False, False, False, False, False, False, True, False, False, False, False, False, False, False, False, False, False, False, False, False, False, False, True, False, False, False, False, False, True, False, False, False, False, False, False, False, False, False, False, False, False, False, False, False, False, False, True, False, False, False, False, False, False, False, False, False, False, False, True, False, False, False, False, False, False, False, False, False, False, False, False, False, False, False, False, False, False, False, False, False, False, False, False, False, True, False, False, False, True, False, False, False, False, False, False, False, False, False, False, False, False, False, False, False, False, False, False, False, False, False, False, False, False, False, False, False, False, False, False, False, False, False, False, False, False, False, False, False, False, False, False, False, False, False, False, False, False, False, False, False, False, False, False, False, False, False, False, False, False, False, False, False, False, False, False, False, False, False, False, False, False, False, False, False, False, False, False, False, False, False, False, False, False, False, False, False, False, False, False, False, False, False, False, False, False, False, False, False, False, False, False, False, False, False, False, False, False, False, False, False, False, False, False, False, False, False, False, False, False, False, False, False, False, False, False, False, False, False, False, False, False, False, False, False, False, False, False, False, False, False, False, False, False, False, False, False, False, False, False, False, False, False, False, False, False, False, False, False, False, False, False, False, False, False, False, False, False, False, False, False, False, False, False, False, False, False, False, False, False, False, False, False, False, False, False, False, False, False, False, False, False, False, False, False, False, False, False, False, False, False, False, False, False, False, False, False, False, False, False, False, False, False, False, False, True, False, False, False, False, False, False, False, False, False, False, False, False, False, False, False, False, False, False, False, False, False, False, False, False, False, False, False, False, False, False, False, False, False, False, False, False, False, False, False, False, False, False, False, False, False, False, False, False, False, False, False, False, False, False, False, False, False, False, False, False, False, False, False, False, False, False, False, False, False, False, False, False, False, False, False, False, False, False, False, False, False, False, False, True, False, False, False, False, False, False, False, False, False, False, False, False, False, False, False, False, False, True, False, False, False, False, False, False, False, False, False, False, False, False, False, False, False, False, False, False, False, True, False, False, False, False, False, False, False, False, False, False, False, False, False, False, False, False, False, False, False, False, False, False, False, False, False, False, False, False, False, True, False, False, False, False, False, True, False, False, False, False, False, False, False, False, False, False, False, False, False, False, False, False, False, False, False, False, False, False, False, False, False, False, False, False, False, False, False, False, False, False, False, False, False, False, False, False, False, True, False, False, False, False, False, False, False, False, False, False, False, False, False, False, False, False, False, True, False, False, False, False, False, False, False, False, False, False, False, False, False, False, False, False, False, False, False, False, False, False, False, False, False, False, False, False, False, False, False, False, False, False, False, False, False, False, False, False, False, False, False, False, False, False, False, False, False, False, False, False, False, False, False, False, False, False, False, False, False, False, False, False, False, False, False, False, False, False, False, False, False, False, False, False, False, False, False, False, False, False, False, False, False, False, False, False, False, False, False, False, False, False, False, True, False, False, False, True, False, False, False, False, False, False, False, False, False, False, False, False, False, False, False, False, False, False, False, False, False, False, False, True, False, False, False, False, False, False, False, False, False, False, False, False, False, False, False, False, False, False, False, False, False, False, False, False, False, False, False, False, False, False, False, False, False, False, False, True, False, False, False, False, False, False, False, False, False, False, False, False, False, True, False, False, False, False, False, False, False, False, False, False, False, False, False, False, False, False, False, False, False, False, False, False, False, False, False, False, False, False, False, False, False, False, False, False, False, False, False, False, False, False, False, False, False, False, False, False, False, False, False, False, False, True, False, False, False, False, False, False, False, False, False, False, False, False, False, False, False, False, False, False, False, False, False, False, False, True, False, False, False, False, False, False, False, False, False, False, False, False, False, False, False, False, False, False, False, False, False, False, False, False, False, False, False, False, False, True, False, False, False, False, False, False, False, False, False, False, False, False, False, False, False, False, False, False, False, True, False, False, False, False, False, False, False, False, False, False, False, False, False, False, False, False, False, False, False, False, False, True, False, False, False, False, False, False, False, False, False, False, False, False, False, False, False, False, False, False, False, False, False, False, False, False, False, False, False, False, False, False, False, False, False, False, False, False, False, False, False, False, False, False, False, False, False, False, False, False, False, False, False, False, False, False, False, False, False, False, False, True, False, True, False, False, False, False, False, False, False, False, False, False, False, True, False, False, False, False, False, False, False, False, False, True, False, False, False, False, False, False, False, False, False, False, False, False, False, False, False, False, False, False, False, False, False, False, False, False, False, False, False, False, False, False, False, False, False, False, False, False, False, False, False, False, False, False, False, False, False, False, False, False, False, False, False, False, False, False, False, False, False, False, False, False, False, False, False, False, False, False, False, False, False, False, False, False, False, False, False, False, False, False, False, False, False, False, False, False, False, False, False, False, False, True, False, False, False, False, False, False, False, False, False, False, False, False, False, False, False, False, False, True, False, True, False, False, False, False, False, False, False, False, False, False, False, False, False, False, False, False, False, False, False, False, False, False, False, False, False, False, False, False, False, False, False, False, False, False, False, False, False, False, False, False, False, False, False, False, False, True, False, False, False, False, False, False, False, False, False, False, False, False, False, False, False, False, False, False, False, False, False, False, False, False, False, False, False, False, False, False, False, False, False, False, False, False, False, False, False, False, False, True, False, False, False, False, False, False, False, False, False, False, False, True, False, False, False, False, False, False, False, False, False, False, False, False, False, False, False, False, False, False, False, False, False, False, False, False, False, False, False, False, False, False, False, False, False, False, False, False, False, False, False, False, False, False, False, False, False, False, False, False, False, False, False, False, False, True, False, False, False, False, False, False, False, False, False, False, False, False, False, False, False, False, False, False, False, True, False, False, False, False, False, False, False, False, False, False, False, False, False, False, False, False, False, False, False, False, False, False, False, False, False, False, False, False, False, False, False, False, False, False, False, False, False, False, False, False, False, False, False, False, False, False, False, False, False, False, False, False, False, False, False, False, False, False, False, False, False, False, False, False, False, False, False, False, False, False, False, False, False, False, False, False, False, False, False, False, False, False, False, False, False, False, False, False, False, False, False, False, False, False, False, False, False, False, False, False, False, False, False, False, False, False, False, False, False, False, False, False, False, False, False, False, False, False, False, False, False, False, False, False, False, True, False, False, False, False, False, False, False, False, False, False, False, False, False, False, False, False, False, False, False, False, False, False, False, False, False, False, False, False, False, False, False, False, False, False, False, False, False, False, False, False, False, False, False, False, False, False, False, False, False, False, False, False, False, False, False, False, False, False, False, False, False, False, False, False, False, False, False, False, False, False, False, False, False, False, False, False, False, True, False, False, False, False, False, False, False, False, False, False, False, False, False, False, False, False, False, False, False, False, False, False, False, False, False, False, False, False, False, False, False, False, False, False, False, False, False, False, False, False, False, False, False, False, False, False, False, False, False, False, False, False, False, False, False, False, False, False, False, False, False, False, False, False, False, False, False, False, False, False, False, False, False, False, False, True, False, False, False, False, False, True, False, False, False, False, False, False, False, False, False, False, False, False, False, False, False, False, False, False, False, False, False, False, False, False, False, False, False, False, False, True, False, False, False, False, False, False, False, False, False, False, False, False, False, False, False, False, False, False, False, False, False, False, False, False, False, False, False, False, False, False, False, False, False, False, False, False, False, False, False, False, False, False, False, False, False, False, False, False, False, False, False, False, False, False, False, False, False, False, False, False, False, False, False, False, False, False, False, False, False, False, False, False, False, False, False, False, False, False, False, False, False, False, False, False, False, False, False, False, False, False, False, False, False, False, False, False, False, True, False, False, False, False, False, False, False, False, False, False, False, False, False, False, False, False, False, False, False, False, False, False, False, False, False, False, False, False, False, False, False, False, False, False, False, False, False, False, False, False, False, False, False, False, False, True, False, False, False, False, False, False, False, False, False, False, False, False, False, False, False, False, False, False, False, False, False, False, False, False, False, False, False, False, False, False, False, False, False, False, False, False, False, False, False, False, False, False, False, False, False, False, False, False, False, False, False, False, False, False, False, False, False, False, False, False, False, False, False, False, False, False, False, False, False, False, False, False, False, False, False, False, False, False, False, False, False, False, False, False, False, False, False, False, False, False, False, False, False, False, False, False, False, False, False, False, False, False, False, False, False, False, False, False, False, False, False, False, False, False, False, False, False, False, False, False, False, False, False, False, False, False, False, False, False, False, False, False, False, False, False, False, False, False, False, False, False, False, False, False, False, False, False, False, False, True, False, True, False, False, False, False, False, False, False, False, False, False, False, False, False, False, False, False, False, True, False, False, False, False, False, True, False, False, False, False, False, True, False, False, False, False, False, False, False, False, False, False, False, False, False, False, False, False, False, False, False, False, False, False, False, False, False, False, False, False, False, True, False, False, False, False, False, False, False, False, False, False, False, False, False, False, False, False, False, False, False, False, False, False, False, False, False, False, False, True, False, False, False, False, False, False, False, False, False, False, False, False, False, False, False, False, False, False, False, False, False, False, False, False, False, False, False, False, False, False, False, False, False, False, False, False, False, False, False, False, False, False, False, True, False, False, False, False, False, False, False, False, False, False, False, False, False, False, False, False, False, False, False, False, False, False, False, False, False, False, False, False, False, False, False, False, False, False, False, False, False, False, False, False, False, False, False, False, False, False, False, False, False, False, False, False, False, False, False, False, False, False, False, False, False, False, False, False, False, False, False, False, False, False, False, False, False, False, False, False, False, True, False, False, False, False, False, False, False, False, False, False, False, False, False, False, False, False, False, False, False, False, False, False, False, False, False, False, False, False, False, False, False, False, False, False, False, False, False, False, False, False, False, False, False, False, False, False, False, False, False, False, False, False, False, False, False, False, False, False, False, False, False, False, False, False, False, False, False, False, False, False, False, False, False, False, False, False, False, False, False, False, False, False, False, False, False, False, False, False, False, False, False, False, False, False, False, False, False, False, False, False, False, False, False, False, False, False, False, False, False, False, False, False, False, True, False, False, False, False, False, False, False, False, False, False, False, False, False, False, False, True, False, False, False, False, False, False, False, False, False, False, False, False, False, False, False, False, False, False, False, False, False, False, False, True, False, False, False, False, False, False, False, False, False, False, False, False, False, False, False, False, False, False, False, False, False, False, False, False, False, False, False, False, False, False, False, False, False, False, False, False, False, False, False, False, False, False, False, True, False, False, False, False, False, False, False, False, False, False, False, False, False, False, False, False, False, False, False, False, False, False, False, False, False, False, False, False, False, False, False, False, False, False, False, False, False, False, False, False, False, False, False, False, False, False, False, False, False, False, False, False, False, True, False, False, False, False, False, False, False, False, False, False, False, False, False, False, False, False, False, False, False, False, False, False, False, False, False, False, False, False, False, False, False, False, False, False, False, False, False, False, False, False, False, False, False, False, False, False, False, False, False, False, False, False, False, False, False, False, False, False, False, False, False, False, False, False, False, False, False, False, False, False, False, False, False, False, False, False, False, False, False, False, False, False, False, False, False, False, False, False, False, False, False, False, False, False, False, False, False, False, False, True, False, False, False, False, False, False, False, False, False, False, False, False, False, False, False, False, False, False, False, False, False, False, False, False, False, False, False, False, False, False, False, False, False, False, False, False, False, True, False, False, False, False, False, False, False, False, False, False, False, False, False, False, False, False, False, False, False, False, False, False, False, False, False, False, False, False, False, False, False, False, False, True, False, False, False, False, False, False, False, False, False, False, False, False, False, False, False, False, False, False, False, False, False, False, False, False, False, False, False, False, False, False, False, False, False, False, False, False, False, False, False, False, False, False, False, False, False, False, False, False, False, False, False, False, False, False, False, False, False, False, False, False, False, False, False, False, False, True, False, False, False, False, False, False, False, False, False, False, False, True, False, False, False, False, False, False, False, True, False, False, False, False, False, False, False, False, False, True, False, False, False, False, False, False, False, False, False, False, False, False, False, False, False, False, False, True, False, False, False, False, False, False, False, False, False, False, False, False, False, False, False, False, False, False, False, False, False, False, False, True, False, False, False, False, False, False, False, False, False, False, False, False, False, False, False, False, False, False, False, False, False, False, False, False, False, False, False, False, False, False, False, False, False, False, False, False, False, False, False, False, False, False, False, False, False, False, False, False, False, False, False, False, False, False, False, False, False, False, False, False, False, False, False, False, False, False, False, False, False, False, False, False, False, False, False, False, False, False, False, True, False, False, False, False, False, False, False, False, False, False, False, False, False, False, False, True, False, True, False, False, False, False, False, False, False, False, False, False, False, False, False, False, False, False, False, False, False, False, False, False, False, False, False, False, False, False, False, False, False, False, False, False, False, False, False, False, False, False, False, False, False, False, False, False, False, False, False, False, False, False, False, False, False, False, False, False, False, False, False, False, False, True, False, False, False, False, False, True, False, False, False, False, False, False, False, False, False, False, False, False, False, False, False, False, False, False, False, False, False, False, False, False, False, False, False, False, False, False, False, False, False, False, False, False, False, False, False, False, False, False, False, False, False, False, False, False, False, False, False, False, False, True, False, False, False, False, False, False, False, False, False, False, False, False, False, False, False, False, False, True, False, False, False, False, False, False, False, True, False, False, False, False, False, False, False, False, False, False, False, False, False, False, False, False, False, False, False, False, False, True, False, False, False, False, False, False, False, False, False, False, False, False, False, False, False, False, False, False, False, False, False, False, False, False, False, False, False, False, False, False, False, False, False, False, False, False, False, True, False, False, False, False, False, False, False, False, False, False, False, False, False, False, False, False, False, False, False, False, False, True, False, False, False, False, False, False, False, True, False, False, False, False, False, False, False, False, False, False, False, True, False, False, False, False, False, False, False, False, False, False, False, False, False, False, False, False, False, False, False, False, False, False, False, False, False, False, False, False, False, False, False, False, False, False, False, False, False, False, False, False, False, False, False, False, False, True, False, False, False, False, False, False, False, False, False, False, False, False, False, False, False, False, False, False, False, False, False, False, False, False, False, False, False, False, False, False, False, False, False, False, False, False, False, False, False, False, False, False, False, False, False, False, False, False, False, False, False, False, False, True, False, False, False, False, False, False, False, False, False, False, False, False, False, False, False, False, False, False, False, False, False, False, False, False, False, False, False, False, False, False, False, False, False, False, False, False, False, False, False, False, False, False, False, False, False, False, False, False, False, False, False, False, False, False, False, False, False, False, False, False, False, False, False, False, False, False, False, False, False, False, False, False, False, False, False, False, False, False, False, False, False, False, False, False, False, False, False, False, False, False, False, False, False, False, False, False, False, False, False, False, False, False, False, False, False, False, False, False, False, False, False, False, False, False, False, False, False, False, False, True, False, False, False, False, False, False, False, False, False, False, False, False, False, False, False, False, False, False, False, False, False, False, False, False, False, False, False, False, False, True, False, False, False, False, False, False, False, False, False, False, False, False, False, False, False, False, False, False, False, False, False, False, False, False, False, False, False, False, False, False, False, False, False, False, False, False, False, False, False, False, False, False, False, False, False, False, False, False, False, False, False, False, False, False, False, False, False, False, False, False, False, False, False, False, False, False, False, False, False, False, False, False, False, False, False, False, False, False, False, False, False, False, False, False, False, False, False, False, False, False, False, False, False, False, False, True, False, False, False, False, False, False, False, False, False, False, False, False, False, False, False, False, False, False, False, False, False, False, False, False, False, False, False, False, False, False, False, False, False, False, False, False, False, False, False, False, False, False, False, True, False, False, False, False, False, False, False, False, False, False, False, False, False, False, False, False, False, False, False, False, False, False, False, False, False, False, False, True, False, False, False, False, False, False, False, False, False, False, False, False, False, False, False, False, False, False, False, False, False, False, False, True, False, False, False, False, False, True, False, False, False, False, False, False, False, False, False, False, False, False, False, False, False, False, False, False, False, False, False, False, False, False, False, False, False, False, False, False, False, False, False, False, False, False, False, False, False, False, False, False, False, False, False, False, False, False, False, False, False, False, False, True, False, False, False, False, False, False, False, False, False, False, False, False, False, False, False, False, False, False, False, False, False, False, False, False, False, True, False, False, False, False, False, False, False, False, False, False, False, False, False, False, False, False, False, False, False, False, False, False, False, False, False, False, False, False, False, False, False, False, False, True, False, False, False, False, False, False, False, False, False, False, False, False, False, False, False, False, False, False, False, False, False, False, False, False, False, True, False, False, False, False, False, False, False, False, False, False, False, False, False, False, False, False, False, False, False, False, False, False, False, False, False, False, False, False, False, False, False, False, False, False, False, False, False, False, False, False, False, False, False, False, False, False, False, False, False, False, False, False, False, False, False, False, False, False, False, False, False, False, False, False, False, False, False, False, False, False, False, False, False, False, False, False, False, False, False, False, False, False, False, False, False, False, False, True, False, False, False, False, False, False, False, False, False, False, False, False, False, True, False, False, False, False, False, False, False, False, False, False, False, False, False, False, False, False, False, True, False, False, False, False, False, False, False, False, False, False, False, False, False, False, False, False, False, False, False, False, False, True, False, True, False, False, False, True, False, False, False, False, False, False, False, False, False, False, False, False, False, False, False, False, False, False, False, False, False, False, False, True, False, False, False, False, False, False, False, False, False, False, False, False, False, False, False, False, False, False, False, False, False, False, False, False, False, False, False, False, False, False, False, False, False, False, False, False, False, False, False, False, False, False, False, False, False, False, False, False, False, False, False, False, False, False, False, False, False, False, False, False, False, False, False, False, False, False, False, False, False, False, False, False, False, False, False, False, False, False, False, False, False, False, False, False, False, False, False, False, False, False, False, False, False, False, False, False, False, True, False, False, False, False, False, False, False, False, False, False, False, True, False, False, False, False, False, False, False, False, False, True, False, False, False, False, False, False, False, False, False, False, False, False, False, False, False, False, False, False, False, False, False, False, False, False, False, True, False, False, False, False, False, False, False, False, False, False, False, False, False, False, False, False, False, False, False, False, False, False, False, False, False, False, False, False, False, False, False, False, False, False, False, False, False, False, False, True, False, False, False, False, False, False, False, False, False, False, False, False, False, False, False, False, False, False, False, True, False, False, False, False, False, False, False, False, False, False, False, False, False, False, False, False, False, False, False, False, False, True, False, False, False, False, False, False, False, True, False, False, False, False, False, False, False, False, False, False, False, False, False, False, False, False, False, False, False, False, False, False, False, False, False, False, False, False, False, False, False, False, False, False, False, False, False, False, False, False, False, False, False, False, False, False, False, False, False, False, False, False, False, False, False, False, False, False, False, False, False, False, False, False, False, False, False, False, False, False, False, False, False, False, False, False, False, False, False, False, False, False, False, False, False, False, False, False, False, False, False, False, False, False, False, False, False, False, False, False, False, False, False, False, False, False, False, False, False, False, False, False, False, False, False, False, False, False, False, False, False, False, False, False, False, False, False, False, False, False, False, True, False, False, False, False, False, False, False, False, False, False, False, False, False, False, False, False, False, False, False, False, False, False, False, True, False, False, False, False, False, False, False, False, False, False, False, False, False, False, False, False, False, False, False, False, False, False, False, True, False, False, False, False, False, False, False, False, False, False, False, False, False, False, False, False, False, False, False, False, False, False, False, False, False, False, False, False, False, False, False, False, False, False, False, False, False, False, False, False, False, False, False, False, False, False, False, False, False, False, False, False, False, True, False, False, False, False, False, False, False, False, False, False, False, False, False, False, False, False, False, False, False, False, False, False, False, False, False, False, False, False, False, True, False, False, False, False, False, False, False, False, False, False, False, False, False, False, False, False, False, False, False, False, False, False, False, False, False, False, False, True, False, False, False, False, False, False, False, False, False, False, False, False, False, False, False, False, False, True, False, False, False, False, False, False, False, False, False, False, False, False, False, True, False, False, False, False, False, False, False, False, False, False, False, True, False, False, False, False, False, True, False, False, False, False, False, False, False, False, False, False, False, False, False, False, False, False, False, False, False, False, False, False, False, False, False, False, False, False, False, False, False, False, False, False, False, False, False, False, False, False, False, False, False, False, False, False, False, False, False, False, False, False, False, False, False, False, False, False, False, False, False, False, False, False, False, False, False, False, False, False, False, False, False, False, False, False, False, False, False, False, False, False, False, False, False, False, False, False, False, False, False, False, False, False, False, False, False, False, False, False, False, False, False, False, False, False, False, False, False, False, False, False, False, False, False, False, False, True, False, False, False, False, False, False, False, False, False, False, False, False, False, False, False, False, False, False, False, False, False, False, False, False, False, True, False, False, False, True, False, False, False, False, False, False, False, False, False, False, False, False, False, False, False, False, False, False, False, False, False, False, False, False, False, False, False, False, False, False, False, False, False, False, False, False, False, False, False, False, False, False, False, False, False, False, False, False, False, False, False, False, False, False, False, False, False, False, False, False, False, False, False, False, False, False, False, False, False, False, False, False, False, False, False, False, False, False, False, False, False, False, False, True, False, False, False, False, False, False, False, False, False, False, False, True, False, False, False, False, False, False, False, False, False, False, False, False, False, False, False, False, False, False, False, False, False, False, False, False, False, False, False, False, False, False, False, False, False, False, False, False, False, False, False, False, False, False, False, False, False, False, False, False, False, True, False, False, False, False, False, False, False, False, False, False, False, False, False, False, False, True, False, False, False, False, False, False, False, False, False, False, False, False, False, False, False, False, False, False, False, False, False, False, False, False, False, False, False, False, False, False, False, False, False, False, False, False, False, False, False, False, False, True, False, False, False, False, False, False, False, False, False, False, False, False, False, False, False, False, False, False, False, False, False, False, False, False, False, False, False, False, False, True, False, True, False, False, False, False, False, False, False, False, False, False, False, False, False, False, False, False, False, True, False, False, False, False, False, False, False, False, False, False, False, False, False, False, False, False, False, False, False, False, False, False, False, False, False, False, False, False, False, False, False, False, False, False, False, False, False, False, False, False, False, False, False, False, False, False, False, False, False, False, False, False, False, False, False, False, False, False, False, False, False, False, False, False, False, False, False, False, False, False, False, False, False, False, False, False, False, False, False, False, False, False, False, False, False, False, False, True, False, False, False, False, False, False, False, False, False, False, False, False, False, False, False, False, False, False, False, True, False, False, False, False, False, False, False, False, False, False, False, True, False, False, False, False, False, False, False, False, False, False, False, True, False, False, False, False, False, False, False, False, False, False, False, False, False, False, False, True, False, False, False, False, False, False, False, False, False, False, False, True, False, False, False, False, False, False, False, False, False, False, False, True, False, False, False, False, False, False, False, False, False, False, False, False, False, False, False, False, False, False, False, False, False, False, False, False, False, False, False, False, False, False, False, False, False, False, False, False, False, False, False, False, False, False, False, False, False, False, False, True, False, False, False, False, False, False, False, False, False, False, False, False, False, False, False, False, False, False, False, False, False, False, False, False, False, False, False, False, False, False, False, False, False, False, False, False, False, True, False, False, False, True, False, False, False, False, False, False, False, False, False, False, False, False, False, False, False, False, False, False, False, False, False, False, False, True, False, False, False, False, False, False, False, False, False, False, False, False, False, False, False, False, False, False, False, False, False, False, False, False, False, False, False, False, False, False, False, False, False, False, False, False, False, False, False, False, False, False, False, False, False, False, False, False, False, False, False, False, False, False, False, False, False, False, False, False, False, True, False, False, False, False, False, False, False, False, False, False, False, True, False, False, False, False, False, False, False, False, False, False, False, False, False, False, False, False, False, False, False, False, False, False, False, False, False, False, False, False, False, False, False, False, False, False, False, False, False, False, False, False, False, False, False, False, False, False, False, False, False, False, False, False, False, False, False, False, False, True, False, False, False, False, False, False, False, False, False, False, False, False, False, True, False, False, False, False, False, False, False, False, False, False, False, False, False, False, False, False, False, False, False, False, False, False, False, False, False, False, False, False, False, False, False, False, False, True, False, False, False, False, False, False, False, False, False, False, False, False, False, False, False, False, False, False, False, False, False, False, False, True, False, False, False, False, False, False, False, False, False, False, False, False, False, False, False, False, False, False, False, False, False, False, False, False, False, False, False, False, False, False, False, False, False, False, False, False, False, False, False, False, False, False, False, False, False, False, False, False, False, False, False, False, False, False, False, False, False, False, False, False, False, False, False, False, False, False, False, True, False, False, False, False, False, False, False, False, False, False, False, False, False, False, False, False, False, False, False, False, False, False, False, False, False, False, False, False, False, False, False, False, False, False, False, False, False, False, False, False, False, False, False, False, False, False, False, False, False, False, False, False, False, False, False, False, False, False, False, False, False, False, False, False, False, False, False, False, False, False, False, False, False, False, False, False, False, False, False, False, False, False, False, False, False, False, False, False, False, False, False, False, False, False, False, False, False, False, False, False, False, False, False, False, False, False, False, False, False, False, False, False, False, False, False, False, False, True, False, False, False, False, False, False, False, False, False, False, False, False, False, False, False, False, False, False, False, False, False, False, False, False, False, False, False, False, False, False, False, False, False, False, False, False, False, False, False, False, False, False, False, False, False, False, False, False, False, False, False, False, False, False, False, False, False, False, False, False, False, False, False, False, False, False, False, False, False, False, False, False, False, False, False, False, False, False, False, False, False, False, False, False, False, False, False, False, False, False, False, True, False, False, False, False, False, False, False, False, False, False, False, False, False, False, False, False, False, False, False, False, False, False, False, True, False, False, False, False, False, True, False, False, False, False, False, False, False, False, False, True, False, False, False, False, False, False, False, False, False, False, False, True, False, False, False, False, False, False, False, False, False, False, False, False, False, False, False, False, False, False, False, False, False, False, False, False, False, False, False, False, False, False, False, False, False, False, False, False, False, False, False, False, False, True, False, False, False, False, False, False, False, False, False, False, False, False, False, False, False, False, False, True, False, False, False, False, False, True, False, False, False, False, False, False, False, False, False, False, False, False, False, True, False, False, False, False, False, False, False, False, False, False, False, False, False, False, False, False, False, False, False, False, False, True, False, False, False, False, False, False, False, False, False, False, False, False, False, False, False, False, False, False, False, False, False, False, False, False, False, False, False, False, False, True, False, False, False, False, False, False, False, False, False, False, False, False, False, False, False, False, False, False, False, False, False, False, False, False, False, False, False, False, False, False, False, False, False, False, False, False, False, False, False, False, False, False, False, False, False, False, False, True, False, False, False, False, False, False, False, False, False, False, False, False, False, False, False, False, False, False, False, False, False, False, False, False, False, True, False, False, False, False, False, False, False, False, False, False, False, False, False, False, False, False, False, False, False, False, False, False, False, True, False, False, False, False, False, False, False, False, False, False, False, False, False, False, False, False, False, False, False, False, False, False, False, False, False, False, False, False, False, False, False, False, False, False, False, False, False, False, False, False, False, False, False, False, False, False, False, False, False, False, False, True, False, False, False, False, False, False, False, True, False, False, False, False, False, False, False, False, False, False, False, False, False, False, False, False, False, False, False, False, False, True, False, False, False, False, False, False, False, False, False, False, False, False, False, False, False, False, False, False, False, False, False, False, False, False, False, True, False, False, False, False, False, False, False, False, False, False, False, True, False, False, False, False, False, False, False, False, False, False, False, False, False, False, False, True, False, False, False, False, False, False, False, False, False, False, False, False, False, False, False, False, False, False, False, False, False, False, False, False, False, False, False, False, False, False, False, False, False, False, False, False, False, False, False, False, False, False, False, False, False, False, False, False, False, True, False, False, False, False, False, False, False, False, False, False, False, False, False, False, False, False, False, False, False, False, False, False, False, False, False, False, False, False, False, False, False, False, False, False, False, True, False, False, False, False, False, False, False, False, False, False, False, False, False, False, False, False, False, False, False, False, False, False, False, True, False, False, False, False, False, False, False, False, False, False, False, False, False, False, False, False, False, False, False, False, False, False, False, False, False, False, False, False, False, False, False, False, False, False, False, False, False, False, False, False, False, False, False, False, False, False, False, False, False, False, False, False, False, True, False, False, False, False, False, False, False, False, False, False, False, False, False, False, False, False, False, False, False, False, False, False, False, False, False, False, False, False, False, True, False, False, False, False, False, False, False, False, False, False, False, False, False, False, False, False, False, False, False, False, False, False, False, False, False, False, False, False, False, False, False, False, False, False, False, False, False, False, False, False, False, True, False, False, False, False, False, False, False, False, False, False, False, False, False, False, False, True, False, False, False, False, False, False, False, False, False, False, False, False, False, True, False, False, False, True, False, False, False, False, False, False, False, False, False, False, False, False, False, True, False, False, False, False, False, False, False, False, False, False, False, True, False, False, False, False, False, False, False, False, False, False, False, False, False, False, False, False, False, False, False, False, False, False, False, True, False, False, False, False, False, False, False, False, False, False, False, False, False, False, False, False, False, False, False, False, False, False, False, False, False, False, False, False, False, False, False, False, False, False, False, False, False, False, False, False, False, False, False, False, False, False, False, False, False, False, False, False, False, False, False, False, False, False, False, False, False, False, False, False, False, False, False, False, False, False, False, False, False, False, False, False, False, False, False, False, False, False, False, False, False, False, False, False, False, False, False, False, False, False, False, True, False, False, False, False, False, False, False, False, False, False, False, False, False, False, False, False, False, False, False, False, False, False, False, False, False, False, False, False, False, False, False, False, False, False, False, False, False, False, False, False, False, False, False, False, False, False, False, False, False, False, False, False, False, False, False, False, False, False, False, False, False, False, False, False, False, False, False, False, False, False, False, False, False, False, False, False, False, False, False, False, False, False, False, False, False, False, False, False, False, False, False, False, False, False, False, False, False, False, False, False, False, False, False, False, False, False, False, False, False, False, False, False, False, True, False, False, False, True, False, False, False, False, False, False, False, False, False, False, False, False, False, False, False, False, False, False, False, False, False, False, False, False, False, False, False, False, False, False, False, False, False, False, False, True, False, False, False, False, False, False, False, False, False, False, False, False, False, False, False, False, False, False, False, False, False, False, False, False, False, True, False, False, False, False, False, False, False, False, False, False, False, False, False, False, False, False, False, False, False, False, False, False, False, False, False, False, False, False, False, False, False, False, False, False, False, False, False, False, False, False, False, False, False, False, False, False, False, True, False, False, False, False, False, False, False, False, False, False, False, False, False, False, False, True, False, False, False, False, False, False, False, False, False, False, False, False, False, False, False, False, False, False, False, False, False, False, False, False, False, False, False, False, False, False, False, False, False, False, False, False, False, False, False, False, False, False, False, False, False, False, False, False, False, False, False, False, False, False, False, False, False, False, False, False, False, False, False, False, False, False, False, False, False, False, False, False, False, False, False, False, False, False, False, False, False, False, False, False, False, False, False, False, False, False, False, False, False, False, False, False, False, False, False, False, False, False, False, True, False, False, False, False, False, False, False, False, False, False, False, False, False, False, False, False, False, False, False, False, False, True, False, False, False, False, False, False, False, False, False, False, False, False, False, False, False, False, False, False, False, False, False, False, False, False, False, True, False, False, False, False, False, False, False, False, False, False, False, False, False, False, False, False, False, False, False, False, False, False, False, False, False, False, False, True, False, False, False, False, False, False, False, False, False, False, False, False, False, False, False, False, False, False, False, False, False, False, False, False, False, False, False, False, False, False, False, False, False, False, False, False, False, False, False, False, False, False, False, True, False, False, False, False, False, False, False, False, False, False, False, False, False, False, False, True, False, False, False, False, False, True, False, False, False, False, False, False, False, False, False, False, False, False, False, False, False, False, False, False, False, False, False, False, False, False, False, False, False, False, False, False, False, False, False, False, False, False, False, False, False, False, False, False, False, False, False, False, False, False, False, False, False, False, False, False, False, False, False, False, False, False, False, False, False, False, False, False, False, False, False, False, False, False, False, False, False, False, False, False, False, False, False, False, False, False, False, False, False, False, False, False, False, False, False, False, False, False, False, False, False, False, False, False, False, False, False, False, False, False, False, False, False, False, False, False, False, False, False, False, False, False, False, False, False, False, False, False, False, False, False, False, False, False, False, False, False, False, False, False, False, False, False, False, False, True, False, False, False, False, False, False, False, False, False, False, False, False, False, False, False, False, False, False, False, False, False, False, False, False, False, False, False, False, False, False, False, False, False, False, False, False, False, False, False, False, False, False, False, True, False, False, False, False, False, False, False, False, False, False, False, True, False, False, False, False, False, False, False, False, False, False, False, False, False, False, False, False, False, False, False, False, False, False, False, False, False, False, False, False, False, False, False, False, False, False, False, True, False, False, False, False, False, False, False, False, False, False, False, False, False, False, False, False, False, False, False, False, False, False, False, False, False, False, False, True, False, False, False, False, False, False, False, False, False, False, False, False, False, False, False, False, False, False, False, False, False, False, False, False, False, False, False, False, False, False, False, False, False, False, False, True, False, False, False, False, False, False, False, False, False, False, False, False, False, False, False, False, False, False, False, False, False, False, False, False, False, False, False, False, False, False, False, False, False, False, False, False, False, True, False, False, False, False, False, False, False, False, False, True, False, False, False, False, False, False, False, False, False, False, False, False, False, False, False, False, False, True, False, False, False, False, False, False, False, False, False, False, False, False, False, False, False, False, False, False, False, False, False, False, False, False, False, False, False, False, False, False, False, False, False, False, False, False, False, False, False, False, False, False, False, False, False, False, False, False, False, False, False, False, False, False, False, False, False, False, False, False, False, False, False, False, False, False, False, False, False, False, False, False, False, False, False, False, False, False, False, False, False, False, False, False, False, False, False, False, False, False, False, False, False, False, False, False, False, False, False, False, False, False, False, False, False, False, False, False, False, False, False, False, False, False, False, False, False, False, False, False, False, False, False, False, False, False, False, False, False, False, False, False, False, False, False, False, False, False, False, False, False, False, False, False, False, False, False, False, False, False, False, False, False, False, False, False, False, False, False, False, False, False, False, False, False, False, False, False, False, False, False, False, False, False, False, False, False, False, False, False, False, False, False, False, False, False, False, False, False, False, False, False, False, False, False, False, False, True, False, True, False, False, False, False, False, False, False, False, False, False, False, False, False, False, False, False, False, False, False, False, False, False, False, False, False, False, False, False, False, False, False, False, False, False, False, False, False, False, False, False, False, True, False, False, False, False, False, False, False, False, False, True, False, False, False, False, False, False, False, False, False, False, False, False, False, False, False, False, False, True, False, False, False, False, False, False, False, False, False, False, False, False, False, True, False, False, False, False, False, False, False, False, False, False, False, False, False, False, False, False, False, False, False, False, False, False, False, False, False, False, False, True, False, False, False, False, False, False, False, False, False, False, False, False, False, False, False, False, False, False, False, True, False, False, False, False, False, False, False, False, False, False, False, False, False, False, False, False, False, False, False, False, False, False, False, False, False, False, False, True, False, False, False, False, False, False, False, False, False, False, False, False, False, False, False, False, False, False, False, False, False, False, False, False, False, False, False, False, False, False, False, False, False, False, False, False, False, False, False, False, False, False, False, False, False, False, False, False, False, False, False, False, False, False, False, False, False, False, False, False, False, False, False, False, False, False, False, False, False, False, False, False, False, False, False, False, False, False, False, False, False, False, False, False, False, False, False, False, False, False, False, False, False, False, False, False, False, False, False, False, False, False, False, False, False, False, False, True, False, False, False, False, False, False, False, False, False, False, False, False, False, False, False, False, False, False, False, True, False, False, False, False, False, True, False, False, False, False, False, False, False, False, False, False, False, False, False, False, False, False, False, False, False, False, False, False, False, False, False, False, False, False, False, False, False, False, False, False, False, False, False, False, False, False, False, False, False, False, False, False, False, False, False, False, False, False, False, True, False, False, False, False, False, False, False, False, False, False, False, False, False, False, False, False, False, False, False, False, False, False, False, False, False, False, False, False, False, False, False, False, False, False, False, False, False, False, False, False, False, False, False, False, False, False, False, False, False, False, False, False, False, False, False, False, False, False, False, False, False, False, False, False, False, False, False, False, False, False, False, False, False, False, False, False, False, False, False, False, False, False, False, False, False, False, False, False, False, False, False, False, False, True, False, False, False, False, False, False, False, False, False, False, False, True, False, False, False, False, False, False, False, False, False, False, False, False, False, False, False, False, False, False, False, False, False, False, False, False, False, False, False, False, False, False, False, False, False, False, False, False, False, False, False, False, False, False, False, False, False, False, False, False, False, False, False, False, False, False, False, False, False, False, False, False, False, False, False, False, False, False, False, False, False, False, False, False, False, False, False, False, False, False, False, False, False, False, False, False, False, False, False, False, False, False, False, False, False, False, False, False, False, False, False, False, False, False, False, False, False, False, False, False, False, False, False, False, False, False, False, False, False, False, False, True, False, False, False, False, False, True, False, False, False, False, False, False, False, False, False, False, False, False, False, False, False, False, False, False, False, False, False, False, False, False, False, False, False, False, False, False, False, False, False, False, False, False, False, False, False, False, False, False, False, True, False, False, False, False, False, False, False, False, False, False, False, False, False, False, False, False, False, False, False, False, False, False, False, False, False, False, False, False, False, False, False, False, False, False, False, False, False, False, False, False, False, False, False, False, False, False, False, False, False, False, False, False, False, False, False, False, False, False, False, False, False, False, False, False, False, False, False, False, False, False, False, False, False, False, False, True, False, False, False, False, False, False, False, False, False, False, False, False, False, False, False, False, False, False, False, False, False, False, False, False, False, False, False, False, False, False, False, False, False, False, False, False, False, False, False, False, False, False, False, True, False, False, False, False, False, True, False, False, False, False, False, False, False, False, False, False, False, False, False, False, False, False, False, False, False, False, False, False, False, False, False, False, False, False, False, False, False, False, False, True, False, False, False, False, False, False, False, False, False, False, False, False, False, False, False, False, False, False, False, False, False, False, False, False, False, False, False, False, False, True, False, False, False, False, False, False, False, False, False, False, False, False, False, False, False, False, False, True, False, True, False, False, False, False, False, False, False, False, False, False, False, False, False, False, False, False, False, False, False, False, False, False, False, False, False, False, False, False, False, False, False, False, False, False, False, False, False, False, False, False, False, False, False, False, False, False, False, False, False, False, False, False, False, False, False, False, False, False, False, False, False, False, False, False, False, False, False, False, False, False, False, False, False, False, False, False, False, True, False, False, False, False, False, False, False, False, False, False, False, False, False, False, False, False, False, False, False, False, False, False, False, False, False, False, False, False, False, False, False, False, False, False, False, False, False, False, False, False, False, False, False, False, False, False, False, False, False, False, False, False, False, False, False, False, False, False, False, False, False, False, False, False, False, False, False, False, False, False, False, False, False, False, False, False, False, False, False, False, False, False, False, False, False, False, False, False, False, False, False, False, False, False, False, False, False, False, False, False, False, True, False, False, False, False, False, False, False, False, False, False, False, False, False, False, False, False, False, False, False, False, False, False, False, True, False, False, False, False, False, False, False, False, False, False, False, False, False, False, False, False, False, False, False, False, False, False, False, False, False, False, False, False, False, False, False, False, False, False, False, True, False, False, False, True, False, False, False, False, False, True, False, False, False, False, False, False, False, False, False, False, False, False, False, False, False, False, False, False, False, False, False, False, False, False, False, False, False, False, False, False, False, False, False, False, False, True, False, False, False, False, False, False, False, True, False, False, False, False, False, False, False, False, False, False, False, False, False, False, False, False, False, False, False, False, False, False, False, False, False, False, False, False, False, False, False, False, False, False, False, True, False, False, False, False, False, False, False, False, False, False, False, False, False, False, False, False, False, False, False, False, False, False, False, False, False, False, False, False, False, False, False, False, False, False, False, True, False, False, False, False, False, False, False, False, False, False, False, True, False, False, False, False, False, False, False, False, False, False, False, False, False, False, False, True, False, False, False, False, False, False, False, False, False, False, False, False, False, False, False, False, False, False, False, False, False, False, False, True, False, False, False, False, False, False, False, False, False, False, False, False, False, False, False, False, False, False, False, False, False, False, False, False, False, False, False, False, False, True, False, False, False, False, False, False, False, True, False, False, False, False, False, False, False, False, False, False, False, False, False, False, False, False, False, False, False, False, False, False, False, False, False, False, False, False, False, False, False, False, False, True, False, False, False, False, False, False, False, False, False, False, False, False, False, False, False, False, False, True, False, False, False, False, False, False, False, False, False, False, False, False, False, False, False, False, False, False, False, False, False, False, False, False, False, False, False, False, False, False, False, False, False, False, False, False, False, False, False, False, False, False, False, False, False, False, False, False, False, False, False, False, False, False, False, False, False, False, False, False, False, False, False, False, False, False, False, False, False, False, False, False, False, False, False, False, False, False, False, False, False, False, False, False, False, True, False, False, False, False, False, False, False, False, False, True, False, False, False, False, False, False, False, False, False, False, False, False, False, False, False, False, False, False, False, True, False, False, False, False, False, False, False, False, False, False, False, False, False, False, False, False, False, False, False, False, False, True, False, False, False, False, False, False, False, False, False, False, False, True, False, False, False, False, False, False, False, False, False, False, False, False, False, False, False, False, False, True, False, False, False, False, False, False, False, False, False, False, False, False, False, False, False, False, False, False, False, False, False, False, False, False, False, False, False, False, False, False, False, False, False, False, False, False, False, False, False, False, False, False, False, True, False, False, False, False, False, False, False, False, False, False, False, False, False, False, False, False, False, False, False, False, False, False, False, False, False, False, False, True, False, False, False, False, False, False, False, False, False, False, False, False, False, False, False, False, False, False, False, False, False, False, False, False, False, False, False, False, False, False, False, False, False, False, False, True, False, False, False, False, False, False, False, False, False, False, False, False, False, False, False, False, False, False, False, False, False, False, False, False, False, False, False, False, False, False, False, False, False, False, False, False, False, False, False, False, False, False, False, False, False, False, False, False, False, True, False, False, False, True, False, False, False, False, False, False, False, False, False, False, False, False, False, False, False, False, False, False, False, False, False, False, False, False, False, False, False, False, False, False, False, False, False, False, False, True, False, False, False, False, False, False, False, False, False, False, False, False, False, False, False, False, False, False, False, True, False, False, False, False, False, False, False, False, False, False, False, False, False, False, False, True, False, False, False, False, False, False, False, False, False, False, False, False, False, False, False, False, False, False, False, False, False, False, False, False, False, False, False, False, False, False, False, False, False, False, False, False, False, False, False, False, False, False, False, False, False, False, False, True, False, False, False, False, False, False, False, True, False, False, False, True, False, False, False, False, False, False, False, False, False, False, False, False, False, False, False, False, False, False, False, False, False, False, False, False, False, False, False, False, False, False, False, False, False, False, False, True, False, False, False, False, False, False, False, False, False, False, False, False, False, False, False, False, False, False, False, False, False, False, False, False, False, False, False, False, False, False, False, False, False, False, False, False, False, False, False, False, False, False, False, False, False, False, False, False, False, False, False, False, False, False, False, False, False, False, False, False, False, False, False, False, False, False, False, False, False, False, False, False, False, True, False, False, False, False, False, False, False, False, False, False, False, False, False, False, False, False, False, False, False, False, False, False, False, False, False, False, False, True, False, False, False, False, False, False, False, False, False, False, False, False, False, False, False, False, False, False, False, True, False, False, False, False, False, False, False, False, False, False, False, False, False, False, False, False, False, False, False, False, False, False, False, False, False, False, False, False, False, False, False, False, False, False, False, False, False, False, False, False, False, False, False, False, False, True, False, False, False, False, False, False, False, False, False, False, False, False, False, False, False, False, False, False, False, False, False, False, False, False, False, False, False, False, False, False, False, False, False, False, False, False, False, False, False, False, False, False, False, True, False, False, False, False, False, False, False, False, False, False, False, False, False, False, False, False, False, False, False, False, False, False, False, False, False, False, False, False, False, False, False, False, False, False, False, False, False, False, False, False, False, False, False, False, False, True, False, False, False, False, False, False, False, False, False, False, False, False, False, False, False, False, False, False, False, False, False, False, False, False, False, False, False, False, False, False, False, False, False, False, False, False, False, False, False, False, False, True, False, False, False, False, False, False, False, False, False, False, False, False, False, False, False, False, False, False, False, False, False, False, False, False, False, False, False, False, False, False, False, False, False, False, False, False, False, False, False, False, False, False, False, False, False, False, False, False, False, False, False, False, False, False, False, False, False, False, False, False, False, False, False, False, False, False, False, False, False, False, False, False, False, True, False, False, False, False, False, False, False, False, False, False, False, False, False, False, False, False, False, False, False, False, False, False, False, False, False, False, False, False, False, False, False, False, False, False, False, False, False, False, False, False, False, False, False, False, False, False, False, False, False, False, False, False, False, False, False, False, False, False, False, False, False, False, False, False, False, False, False, False, False, True, False, False, False, False, False, False, False, False, False, False, False, False, False, True, False, False, False, False, False, False, False, False, False, False, False, False, False, False, False, False, False, False, False, False, False, False, False, True, False, False, False, False, False, False, False, False, False, True, False, False, False, False, False, False, False, False, False, False, False, False, False, False, False, False, False, False, False, True, False, False, False, False, False, False, False, False, False, True, False, False, False, False, False, False, False, False, False, False, False, True, False, False, False, False, False, False, False, True, False, False, False, False, False, True, False, False, False, False, False, False, False, False, False, False, False, False, False, False, False, True, False, False, False, False, False, True, False, False, False, False, False, False, False, False, False, False, False, False, False, False, False, False, False, False, False, False, False, False, False, False, False, False, False, False, False, False, False, False, False, False, False, False, False, False, False, False, False, False, False, False, False, False, False, False, False, False, False, False, False, False, False, False, False, False, False, False, False, False, False, False, False, False, False, False, False, False, False, False, False, False, False, False, False, False, False, False, False, False, False, False, False, False, False, False, False, False, False, False, False, False, False, False, False, False, False, False, False, False, False, False, False, False, False, False, False, False, False, False, False, False, False, False, False, False, False, False, False, False, False, False, False, False, False, False, False, False, False, False, False, False, False, False, False, False, False, False, False, False, False, False, False, False, False, False, False, False, False, False, False, False, False, False, False, False, False, False, False, False, False, False, False, False, False, False, False, False, False, False, False, True, False, False, False, False, False, False, False, False, False, False, False, False, False, False, False, False, False, True, False, False, False, False, False, False, False, False, False, False, False, False, False, False, False, False, False, False, False, False, False, False, False, False, False, False, False, False, False, True, False, False, False, False, False, True, False, False, False, False, False, False, False, False, False, False, False, False, False, False, False, False, False, False, False, False, False, False, False, False, False, False, False, False, False, False, False, False, False, False, False, False, False, False, False, False, False, False, False, True, False, False, False, False, False, False, False, False, False, False, False, False, False, False, False, False, False, False, False, False, False, False, False, False, False, False, False, True, False, False, False, False, False, False, False, False, False, False, False, False, False, False, False, False, False, False, False, False, False, False, False, False, False, False, False, False, False, False, False, False, False, False, False, False, False, False, False, False, False, False, False, True, False, False, False, True, False, False, False, False, False, False, False, False, False, False, False, False, False, False, False, False, False, False, False, False, False, False, False, False, False, True, False, False, False, False, False, False, False, False, False, False, False, False, False, False, False, False, False, False, False, False, False, False, False, False, False, False, False, False, False, False, False, False, False, False, False, False, False, False, False, False, False, False, False, False, False, False, False, False, False, False, False, False, False, False, False, False, False, False, False, True, False, False, False, False, False, False, False, False, False, False, False, False, False, False, False, False, False, False, False, False, False, False, False, True, False, False, False, False, False, False, False, False, False, False, False, False, False, False, False, False, False, False, False, False, False, False, False, False, False, False, False, False, False, False, False, False, False, False, False, True, False, False, False, False, False, False, False, False, False, False, False, False, False, False, False, False, False, False, False, False, False, False, False, False, False, False, False, False, False, False, False, False, False, False, False, True, False, False, False, False, False, False, False, False, False, False, False, False, False, False, False, False, False, False, False, False, False, False, False, False, False, False, False, False, False, False, False, False, False, False, False, False, False, False, False, False, False, False, False, False, False, False, False, False, False, False, False, False, False, False, False, False, False, True, False, False, False, False, False, False, False, False, False, False, False, False, False, False, False, False, False, False, False, False, False, False, False, True, False, False, False, False, False, False, False, False, False, False, False, True, False, False, False, False, False, False, False, False, False, False, False, False, False, False, False, False, False, False, False, False, False, False, False, True, False, False, False, False, False, True, False, False, False, False, False, False, False, False, False, False, False, False, False, False, False, False, False, False, False, False, False, False, False, False, False, False, False, False, False, False, False, False, False, False, False, False, False, False, False, False, False, False, False, False, False, False, False, False, False, False, False, False, False, False, False, False, False, False, False, False, False, False, False, False, False, False, False, False, False, False, False, False, False, False, False, False, False, False, False, False, False, False, False, False, False, True, False, False, False, False, False, False, False, False, False, False, False, False, False, False, False, False, False, False, False, False, False, True, False, False, False, False, False, False, False, False, False, False, False, False, False, False, False, False, False, False, False, False, False, False, False, False, False, True, False, False, False, False, False, False, False, False, False, False, False, False, False, False, False, True, False, False, False, False, False, False, False, False, False, False, False, False, False, False, False, False, False, False, False, True, False, False, False, False, False, False, False, False, False, True, False, False, False, False, False, False, False, False, False, False, False, False, False, False, False, False, False, False, False, False, False, False, False, False, False, False, False, False, False, False, False, False, False, False, False, False, False, False, False, False, False, False, False, False, False, False, False, True, False, False, False, False, False, False, False, False, False, False, False, False, False, False, False, False, False, True, False, False, False, False, False, False, False, True, False, False, False, False, False, False, False, False, False, False, False, False, False, False, False, True, False, False, False, False, False, False, False, False, False, False, False, False, False, False, False, False, False, False, False, False, False, False, False, False, False, False, False, False, False, False, False, False, False, False, False, False, False, True, False, False, False, False, False, False, False, False, False, False, False, False, False, False, False, False, False, False, False, False, False, False, False, False, False, False, False, True, False, False, False, False, False, False, False, True, False, False, False, False, False, False, False, False, False, True, False, False, False, False, False, False, False, False, False, False, False, False, False, False, False, False, False, False, False, False, False, False, False, False, False, False, False, False, False, False, False, False, False, False, False, False, False, False, False, False, False, False, False, False, False, False, False, False, False, False, False, False, False, False, False, False, False, False, False, False, False, False, False, False, False, False, False, False, False, False, False, False, False, False, False, False, False, False, False, False, False, False, False, False, False, False, False, False, False, False, False, True, False, False, False, False, False, False, False, False, False, False, False, False, False, False, False, False, False, False, False, False, False, False, False, False, False, False, False, False, False, False, False, False, False, False, False, False, False, False, False, False, False, False, False, False, False, False, False, False, False, False, False, False, False, False, False, False, False, False, False, False, False, False, False, False, False, False, False, False, False, False, False, False, False, False, False, False, False, False, False, False, False, False, False, False, False, False, False, False, False, True, False, False, False, False, False, False, False, False, False, False, False, False, False, False, False, False, False, False, False, False, False, False, False, False, False, False, False, False, False, False, False, False, False, False, False, False, False, False, False, False, False, False, False, False, False, False, False, True, False, False, False, True, False, False, False, False, False, False, False, False, False, False, False, False, False, False, False, False, False, True, False, False, False, False, False, False, False, False, False, False, False, False, False, False, False, False, False, True, False, False, False, False, False, False, False, False, False, False, False, False, False, False, False, False, False, False, False, True, False, False, False, False, False, False, False, False, False, False, False, True, False, False, False, False, False, False, False, False, False, False, False, False, False, False, False, False, False, False, False, False, False, False, False, True, False, False, False, True, False, False, False, False, False, False, False, False, False, False, False, False, False, False, False, False, False, False, False, False, False, False, False, True, False, True, False, False, False, False, False, False, False, False, False, False, False, False, False, False, False, False, False, False, False, False, False, False, False, False, False, False, False, True, False, False, False, False, False, False, False, False, False, False, False, False, False, False, False, False, False, False, False, False, False, False, False, False, False, False, False, False, False, False, False, False, False, False, False, False, False, False, False, False, False, False, False, False, False, False, False, False, False, False, False, False, False, False, False, False, False, False, False, False, False, False, False, False, False, False, False, False, False, False, False, False, False, False, False, False, False, False, False, False, False, False, False, False, False, False, False, False, False, False, False, False, False, False, False, False, False, False, False, False, False, False, False, False, False, False, False, False, False, False, False, False, False, False, False, True, False, False, False, True, False, False, False, False, False, False, False, False, False, False, False, True, False, False, False, False, False, False, False, True, False, False, False, False, False, False, False, False, False, False, False, False, False, False, False, False, False, False, False, False, False, True, False, False, False, False, False, False, False, False, False, False, False, False, False, True, False, False, False, False, False, False, False, False, False, False, False, False, False, False, False, False, False, False, False, False, False, True, False, False, False, False, False, False, False, False, False, False, False, False, False, False, False, False, False, False, False, False, False, False, False, False, False, False, False, False, False, True, False, True, False, False, False, False, False, False, False, False, False, False, False, False, False, False, False, False, False, False, False, False, False, False, False, False, False, False, False, True, False, False, False, False, False, False, False, False, False, False, False, False, False, False, False, False, False, False, False, False, False, False, False, False, False, False, False, False, False, False, False, False, False, False, False, False, False, False, False, False, False, False, False, True, False, False, False, False, False, False, False, False, False, True, False, False, False, False, False, False, False, False, False, False, False, False, False, False, False, False, False, False, False, False, False, False, False, False, False, False, False, False, False, True, False, False, False, False, False, False, False, False, False, False, False, False, False, False, False, False, False, False, False, False, False, False, False, False, False, False, False, False, False, False, False, False, False, False, False, False, False, False, False, False, False, False, False, False, False, False, False, False, False, False, False, False, False, False, False, False, False, False, False, False, False, False, False, False, False, False, False, False, False, False, False, False, False, False, False, False, False, True, False, False, False, False, False, False, False, False, False, False, False, False, False, False, False, False, False, False, False, False, False, False, False, False, False, False, False, False, False, False, False, False, False, False, False, False, False, False, False, False, False, False, False, False, False, False, False, False, False, False, False, False, False, False, False, False, False, False, False, False, False, False, False, False, False, False, False, False, False, False, False, False, False, False, False, False, False, False, False, False, False, False, False, False, False, False, False, False, False, False, False, False, False, False, False, False, False, False, False, False, False, False, False, False, False, False, False, False, False, False, False, False, False, False, False, False, False, False, False, False, False, False, False, False, False, True, False, False, False, False, False, False, False, False, False, False, False, False, False, False, False, False, False, False, False, False, False, False, False, False, False, False, False, False, False, False, False, True, False, False, False, False, False, False, False, False, False, False, False, False, False, False, False, False, False, True, False, False, False, True, False, False, False, False, False, False, False, False, False, False, False, False, False, False, False, False, False, False, False, True, False, False, False, False, False, False, False, False, False, False, False, False, False, False, False, False, False, False, False, False, False, False, False, False, False, False, False, False, False, False, False, False, False, False, False, True, False, False, False, False, False, False, False, False, False, True, False, False, False, False, False, True, False, False, False, False, False, False, False, False, False, False, False, False, False, False, False, False, False, False, False, False, False, False, False, False, False, False, False, False, False, False, False, False, False, False, False, False, False, False, False, False, False, False, False, False, False, False, False, False, False, False, False, False, False, False, False, False, False, False, False, False, False, False, False, False, False, False, False, False, False, False, False, False, False, False, False, False, False, False, False, False, False, False, False, False, False, False, False, False, False, False, False, False, False, False, False, False, False, True, False, False, False, False, False, False, False, False, False, False, False, False, False, False, False, False, False, False, False, False, False, False, False, False, False, False, False, False, False, False, False, False, False, False, False, True, False, False, False, False, False, False, False, False, False, False, False, False, False, False, False, False, False, False, False, False, False, False, False, False, False, False, False, False, False, False, False, False, False, False, False, False, False, False, False, False, False, False, False, False, False, False, False, False, False, False, False, False, False, True, False, False, False, False, False, False, False, False, False, False, False, False, False, False, False, False, False, False, False, False, False, False, False, False, False, False, False, False, False, False, False, False, False, False, False, False, False, False, False, False, False, False, False, False, False, False, False, False, False, False, False, True, False, False, False, False, False, False, False, False, False, False, False, False, False, True, False, False, False, False, False, True, False, False, False, False, False, False, False, False, False, False, False, False, False, False, False, False, False, False, False, False, False, False, False, False, False, False, False, False, False, False, False, False, False, False, False, False, False, False, False, False, False, False, False, False, False, False, False, False, False, False, False, False, False, False, False, False, False, False, False, False, False, False, False, False, False, False, False, False, False, False, False, False, False, False, False, True, False, False, False, False, False, False, False, False, False, False, False, False, False, False, False, False, False, False, False, False, False, False, False, False, False, False, False, False, False, False, False, True, False, False, False, False, False, False, False, False, False, False, False, False, False, False, False, False, False, False, False, False, False, False, False, False, False, False, False, False, False, True, False, False, False, False, False, False, False, False, False, False, False, False, False, False, False, False, False, False, False, False, False, False, False, False, False, False, False, False, False, False, False, False, False, False, False, False, False, False, False, False, False, True, False, False, False, False, False, True, False, False, False, False, False, False, False, False, False, False, False, False, False, False, False, False, False, False, False, False, False, False, False, False, False, False, False, False, False, False, False, False, False, False, False, False, False, False, False, False, False, False, False, False, False, False, False, False, False, False, False, False, False, False, False, False, False, False, False, False, False, False, False, False, False, False, False, False, False, False, False, False, False, False, False, False, False, True, False, False, False, False, False, False, False, False, False, False, False, False, False, False, False, False, False, False, False, False, False, False, False, False, False, False, False, False, False, False, False, False, False, False, False, False, False, False, False, False, False, False, False, False, False, False, False, False, False, False, False, False, False, False, False, False, False, False, False, False, False, False, False, False, False, False, False, False, False, False, False, False, False, False, False, False, False, False, False, False, False, False, False, False, False, False, False, False, False, False, False, False, False, False, False, False, False, False, False, False, False, False, False, False, False, False, False, False, False, False, False, False, False, True, False, False, False, False, False, False, False, False, False, False, False, True, False, False, False, False, False, False, False, False, False, False, False, False, False, False, False, False, False, False, False, False, False, False, False, False, False, False, False, False, False, False, False, False, False, False, False, False, False, False, False, False, False, False, False, False, False, False, False, False, False, False, False, False, False, False, False, False, False, False, False, False, False, False, False, False, False, False, False, False, False, False, False, False, False, False, False, False, False, False, False, False, False, False, False, False, False, False, False, False, False, False, False, False, False, False, False, False, False, False, False, False, False, False, False, False, False, False, False, False, False, False, False, False, False, False, False, False, False, False, False, False, False, False, False, True, False, False, False, False, False, False, False, False, False, False, False, False, False, False, False, False, False, False, False, False, False, False, False, False, False, False, False, False, False, False, False, False, False, False, False, False, False, False, False, False, False, False, False, False, False, False, False, False, False, False, False, False, False, False, False, False, False, False, False, False, False, False, False, False, False, True, False, False, False, False, False, False, False, False, False, False, False, False, False, False, False, False, False, False, False, False, False, False, False, False, False, False, False, False, False, False, False, False, False, False, False, False, False, False, False, False, False, False, False, True, False, False, False, False, False, False, False, False, False, False, False, False, False, False, False, False, False, False, False, False, False, False, False, False, False, False, False, False, False, False, False, False, False, True, False, False, False, False, False, False, False, True, False, False, False, False, False, False, False, False, False, False, False, False, False, False, False, False, False, False, False, False, False, False, False, False, False, False, False, False, False, False, False, False, False, False, False, False, False, False, False, False, False, False, False, False, False, False, False, False, False, False, False, False, False, False, False, False, False, False, False, False, False, False, False, False, False, False, False, False, False, False, False, False, False, False, False, False, False, False, False, False, False, False, False, False, False, False, False, False, False, False, False, False, False, False, False, False, False, False, False, False, False, False, False, False, False, False, False, False, False, False, False, False, False, False, False, False, False, False, False, False, False, False, False, False, False, False, False, False, False, False, False, False, False, False, False, False, False, False, False, False, False, False, False, False, False, False, False, False, False, False, False, False, False, False, False, False, False, False, False, False, False, False, False, False, False, False, False, False, False, False, False, False, False, False, False, False, False, False, False, True, False, False, False, False, False, False, False, False, False, False, False, False, False, False, False, False, False, False, False, False, False, False, False, False, False, False, False, True, False, False, False, False, False, False, False, False, False, False, False, False, False, False, False, False, False, False, False, False, False, False, False, False, False, False, False, False, False, False, False, False, False, False, False, True, False, False, False, False, False, False, False, False, False, False, False, False, False, True, False, False, False, False, False, False, False, False, False, True, False, False, False, False, False, False, False, False, False, False, False, False, False, False, False, False, False, False, False, False, False, False, False, False, False, False, False, False, False, True, False, False, False, False, False, False, False, False, False, False, False, False, False, False, False, False, False, False, False, False, False, False, False, False, False, False, False, False, False, False, False, False, False, False, False, False, False, False, False, False, False, True, False, False, False, False, False, False, False, False, False, False, False, False, False, False, False, False, False, False, False, False, False, False, False, False, False, False, False, False, False, False, False, False, False, False, False, False, False, False, False, False, False, False, False, False, False, False, False, False, False, False, False, False, False, False, False, False, False, False, False, False, False, False, False, False, False, False, False, False, False, False, False, False, False, False, False, False, False, False, False, False, False, False, False, False, False, False, False, False, False, False, False, False, False, False, False, False, False, False, False, False, False, False, False, False, False, False, False, False, False, False, False, False, False, True, False, False, False, False, False, False, False, True, False, False, False, False, False, False, False, False, False, False, False, False, False, False, False, False, False, False, False, False, False, False, False, False, False, False, False, False, False, True, False, False, False, False, False, False, False, False, False, False, False, False, False, False, False, False, False, False, False, False, False, False, False, False, False, False, False, False, False, False, False, False, False, False, False, True, False, False, False, False, False, False, False, False, False, True, False, False, False, False, False, False, False, False, False, False, False, False, False, False, False, False, False, False, False, False, False, False, False, True, False, False, False, False, False, False, False, False, False, False, False, False, False, False, False, False, False, False, False, False, False, False, False, False, False, False, False, False, False, False, False, False, False, False, False, False, False, False, False, False, False, False, False, False, False, False, False, False, False, False, False, False, False, False, False, True, False, False, False, False, False, False, False, False, False, False, False, False, False, False, False, False, False, False, False, False, False, False, False, False, False, False, False, False, False, True, False, False, False, False, False, False, False, False, False, False, False, False, False, False, False, True, False, False, False, False, False, False, False, False, False, False, False, False, False, False, False, False, False, True, False, True, False, False, False, False, False, False, False, False, False, False, False, False, False, False, False, False, False, True, False, False, False, False, False, False, False, False, False, False, False, False, False, False, False, False, False, False, False, False, False, False, False, False, False, False, False, False, False, False, False, False, False, False, False, False, False, False, False, False, False, True, False, False, False, False, False, False, False, False, False, False, False, False, False, False, False, False, False, False, False, False, False, False, False, False, False, False, False, False, False, False, False, False, False, False, False, False, False, False, False, False, False, False, False, False, False, False, False, False, False, False, False, False, False, False, False, False, False, False, False, False, False, False, False, True, False, False, False, False, False, False, False, False, False, False, False, False, False, False, False, False, False, False, False, False, False, False, False, False, False, False, False, False, False, False, False, False, False, False, False, False, False, False, False, False, False, True, False, False, False, False, False, False, False, True, False, False, False, False, False, False, False, False, False, True, False, True, False, False, False, True, False, False, False, False, False, False, False, False, False, False, False, False, False, False, False, False, False, False, False, False, False, False, False, False, False, False, False, False, False, False, False, False, False, False, False, False, False, False, False, False, False, False, False, False, False, False, False, False, False, False, False, False, False, False, False, False, False, False, False, False, False, False, False, False, False, False, False, True, False, False, False, False, False, False, False, False, False, False, False, False, False, False, False, False, False, False, False, False, False, True, False, False, False, False, False, False, False, True, False, False, False, False, False, False, False, False, False, False, False, False, False, False, False, False, False, False, False, False, False, True, False, False, False, False, False, False, False, False, False, False, False, False, False, False, False, False, False, False, False, False, False, False, False, False, False, False, False, False, False, True, False, False, False, False, False, False, False, False, False, False, False, False, False, True, False, False, False, True, False, False, False, False, False, True, False, False, False, False, False, False, False, False, False, False, False, False, False, False, False, False, False, False, False, False, False, False, False, False, False, False, False, False, False, False, False, True, False, False, False, False, False, False, False, False, False, False, False, False, False, False, False, False, False, False, False, False, False, False, False, False, False, False, False, False, False, False, False, False, False, False, False, False, False, False, False, False, False, False, False, False, False, False, False, False, False, False, False, False, False, False, False, False, False, True, False, False, False, False, False, False, False, False, False, False, False, False, False, False, False, False, False, False, False, False, False, False, False, False, False, False, False, False, False, False, False, False, False, False, False, True, False, False, False, False, False, False, False, False, False, False, False, False, False, False, False, False, False, False, False, False, False, False, False, False, False, False, False, False, False, False, False, False, False, False, False, False, False, False, False, False, False, False, False, False, False, False, False, False, False, False, False, False, False, True, False, False, False, False, False, True, False, False, False, False, False, False, False, False, False, False, False, False, False, False, False, False, False, False, False, False, False, False, False, False, False, False, False, False, False, False, False, False, False, False, False, False, False, False, False, False, False, False, False, False, False, False, False, False, False, False, False, False, False, False, False, False, False, False, False, False, False, False, False, False, False, False, False, True, False, False, False, False, False, False, False, False, False, False, False, False, False, False, False, False, False, True, False, False, False, False, False, False, False, False, False, False, False, False, False, False, False, False, False, False, False, False, False, True, False, False, False, False, False, False, False, False, False, False, False, False, False, False, False, False, False, False, False, False, False, False, False, False, False, False, False, False, False, False, False, False, False, False, False, False, False, False, False, False, False, False, False, False, False, False, False, False, False, False, False, False, False, False, False, False, False, False, False, False, False, True, False, False, False, False, False, True, False, False, False, False, False, False, False, False, False, False, False, False, False, False, False, False, False, True, False, False, False, False, False, False, False, False, False, False, False, False, False, False, False, False, False, False, False, False, False, False, False, False, False, False, False, False, False, False, False, False, False, False, False, False, False, False, False, True, False, False, False, False, False, False, False, False, False, False, False, False, False, False, False, False, False, False, False, False, False, False, False, False, False, False, False, False, False, False, False, False, False, False, False, False, False, False, False, False, False, False, False, False, False, False, False, False, False, False, False, False, False, False, False, False, False, False, False, False, False, False, False, False, False, False, False, False, False, False, False, False, False, False, False, False, False, False, False, False, False, False, False, False, False, False, False, False, False, False, False, False, False, False, False, False, False, False, False, False, False, False, False, False, False, False, False, False, False, False, False, False, False, False, False, False, False, False, False, False, False, False, False, False, False, False, False, False, False, False, False, False, False, False, False, False, False, False, False, False, False, False, False, False, False, False, False, False, False, False, False, False, False, False, False, True, False, False, False, False, False, False, False, False, False, False, False, False, False, False, False, False, False, False, False, False, False, False, False, True, False, False, False, False, False, True, False, False, False, False, False, False, False, False, False, False, False, False, False, False, False, False, False, False, False, False, False, False, False, False, False, False, False, False, False, False, False, False, False, False, False, False, False, False, False, False, False, False, False, False, False, False, False, False, False, True, False, False, False, True, False, False, False, False, False, False, False, False, False, False, False, False, False, False, False, False, False, False, False, False, False, False, False, False, False, False, False, False, False, False, False, False, False, False, False, False, False, False, False, False, False, False, False, True, False, False, False, False, False, False, False, False, False, False, False, False, False, False, False, False, False, False, False, False, False, False, False, False, False, False, False, False, False, True, False, False, False, False, False, False, False, False, False, False, False, True, False, False, False, False, False, False, False, False, False, False, False, False, False, False, False, False, False, False, False, False, False, False, False, False, False, False, False, False, False, True, False, False, False, False, False, False, False, False, False, False, False, False, False, False, False, True, False, False, False, False, False, False, False, False, False, False, False, False, False, False, False, False, False, False, False, False, False, False, False, True, False, False, False, False, False, False, False, False, False, False, False, False, False, False, False, False, False, False, False, False, False, False, False, False, False, True, False, False, False, False, False, False, False, False, False, False, False, False, False, False, False, False, False, False, False, False, False, False, False, False, False, False, False, False, False, False, False, False, False, False, False, False, False, False, False, False, False, False, False, False, False, False, False, False, False, False, False, False, False, False, False, False, False, False, False, False, False, False, False, False, False, False, False, False, False, False, False, True, False, False, False, False, False, False, False, False, False, False, False, False, False, False, False, True, False, False, False, False, False, False, False, False, False, False, False, False, False, False, False, False, False, False, False, False, False, False, False, False, False, False, False, False, False, False, False, False, False, False, False, False, False, False, False, False, False, False, False, False, False, False, False, False, False, False, False, False, False, False, False, True, False, False, False, False, False, False, False, False, False, False, False, False, False, False, False, False, False, False, False, False, False, False, False, True, False, False, False, False, False, False, False, False, False, False, False, False, False, False, False, False, False, False, False, False, False, False, False, True, False, False, False, False, False, False, False, False, False, False, False, False, False, False, False, False, False, False, False, False, False, False, False, False, False, False, False, False, False, False, False, False, False, False, False, False, False, False, False, False, False, False, False, False, False, False, False, True, False, False, False, False, False, False, False, False, False, False, False, False, False, False, False, False, False, False, False, False, False, True, False, False, False, False, False, True, False, False, False, False, False, False, False, False, False, False, False, False, False, False, False, False, False, False, False, False, False, False, False, False, False, False, False, False, False, False, False, True, False, False, False, False, False, False, False, False, False, False, False, False, False, False, False, False, False, False, False, False, False, False, False, False, False, False, False, False, False, False, False, False, False, False, False, False, False, False, False, False, False, False, False, False, False, False, False, False, False, False, False, False, False, False, False, False, False, False, False, False, False, False, False, False, False, False, False, False, False, False, False, False, False, False, False, False, False, False, False, False, False, False, False, False, False, False, False, False, False, False, False, False, False, False, False, False, False, False, False, False, False, False, False, False, False, False, False, False, False, False, False, False, False, False, False, False, False, False, False, False, False, False, False, False, False, False, False, False, False, False, False, False, False, False, False, False, False, False, False, False, False, False, False, True, False, False, False, False, False, False, False, False, False, False, False, False, False, False, False, False, False, False, False, False, False, False, False, False, False, False, False, False, False, False, False, False, False, False, False, False, False, False, False, False, False, False, False, False, False, False, False, False, False, False, False, False, False, False, False, False, False, True, False, False, False, False, False, False, False, False, False, False, False, False, False, False, False, False, False, False, False, False, False, False, False, False, False, False, False, False, False, False, False, True, False, False, False, True, False, False, False, False, False, False, False, False, False, False, False, False, False, False, False, False, False, False, False, False, False, False, False, False, False, False, False, False, False, False, False, False, False, False, False, False, False, False, False, False, False, False, False, False, False, False, False, False, False, False, False, False, False, False, False, True, False, False, False, False, False, True, False, False, False, False, False, False, False, False, False, False, False, False, False, False, False, False, False, False, False, False, False, True, False, False, False, False, False, False, False, False, False, False, False, False, False, False, False, False, False, False, False, False, False, False, False, False, False, True, False, False, False, False, False, False, False, False, False, False, False, False, False, False, False, False, False, False, False, False, False, False, False, False, False, False, False, False, False, False, False, False, False, False, False, False, False, False, False, False, False, False, False, False, False, False, False, False, False, False, False, True, False, False, False, False, False, False, False, False, False, False, False, False, False, False, False, False, False, False, False, False, False, False, False, False, False, False, False, False, False, False, False, False, False, False, False, False, False, True, False, False, False, True, False, False, False, False, False, False, False, False, False, False, False, False, False, False, False, False, False, False, False, False, False, False, False, False, False, True, False, False, False, False, False, False, False, False, False, False, False, False, False, False, False, False, False, False, False, False, False, False, False, False, False, False, False, False, False, False, False, False, False, True, False, False, False, False, False, False, False, False, False, False, False, False, False, False, False, False, False, False, False, False, False, False, False, False, False, False, False, False, False, False, False, False, False, False, False, False, False, False, False, False, False, False, False, False, False, False, False, False, False, False, False, False, False, False, False, True, False, False, False, False, False, False, False, False, False, False, False, False, False, False, False, True, False, False, False, False, False, False, False, False, False, False, False, False, False, False, False, False, False, False, False, False, False, False, False, False, False, False, False, False, False, False, False, False, False, False, False, False, False, True, False, False, False, False, False, False, False, False, False, True, False, False, False, False, False, False, False, False, False, False, False, True, False, False, False, False, False, False, False, False, False, False, False, False, False, False, False, False, False, False, False, False, False, False, False, True, False, False, False, False, False, False, False, False, False, False, False, False, False, True, False, False, False, False, False, False, False, False, False, False, False, False, False, False, False, False, False, True, False, False, False, False, False, False, False, False, False, False, False, False, False, False, False, False, False, False, False, False, False, True, False, False, False, False, False, False, False, False, False, False, False, False, False, False, False, False, False, False, False, False, False, False, False, False, False, False, False, False, False, False, False, False, False, False, False, False, False, False, False, False, False, False, False, False, False, False, False, False, False, False, False, False, False, False, False, True, False, False, False, False, False, False, False, False, False, False, False, False, False, False, False, False, False, False, False, False, False, False, False, True, False, False, False, False, False, False, False, False, False, False, False, False, False, False, False, False, False, False, False, False, False, False, False, False, False, False, False, True, False, False, False, False, False, False, False, False, False, False, False, False, False, False, False, False, False, False, False, False, False, False, False, False, False, False, False, False, False, False, False, False, False, False, False, False, False, False, False, False, False, False, False, False, False, False, False, False, False, False, False, False, False, False, False, False, False, False, False, False, False, False, False, False, False, False, False, False, False, False, False, False, False, False, False, False, False, False, False, False, False, False, False, True, False, False, False, False, False, False, False, False, False, False, False, False, False, False, False, False, False, False, False, True, False, False, False, False, False, False, False, False, False, False, False, False, False, False, False, False, False, True, False, False, False, False, False, True, False, False, False, False, False, False, False, False, False, False, False, False, False, False, False, False, False, False, False, False, False, False, False, False, False, False, False, False, False, False, False, False, False, False, False, False, False, False, False, False, False, False, False, False, False, False, False, False, False, False, False, False, False, False, False, False, False, False, False, False, False, False, False, False, False, True, False, False, False, False, False, False, False, False, False, False, False, False, False, False, False, False, False, False, False, False, False, False, False, False, False, False, False, False, False, False, False, False, False, False, False, False, False, False, False, False, False, False, False, False, False, False, False, False, False, False, False, False, False, False, False, False, False, False, False, False, False, False, False, False, False, False, False, False, False, False, False, False, False, False, False, False, False, False, False, False, False, False, False, False, False, False, False, False, False, False, False, False, False, False, False, True, False, False, False, False, False, False, False, False, False, False, False, False, False, False, False, False, False, False, False, False, False, True, False, False, False, False, False, False, False, False, False, False, False, False, False, False, False, False, False, False, False, False, False, False, False, False, False, False, False, False, False, True, False, False, False, False, False, False, False, False, False, False, False, False, False, False, False, False, False, False, False, False, False, False, False, False, False, False, False, False, False, False, False, False, False, False, False, False, False, False, False, False, False, False, False, False, False, False, False, False, False, False, False, False, False, False, False, False, False, False, False, False, False, False, False, False, False, False, False, False, False, False, False, False, False, False, False, False, False, False, False, False, False, False, False, False, False, False, False, False, False, True, False, False, False, False, False, False, False, False, False, False, False, False, False, False, False, False, False, False, False, False, False, False, False, False, False, False, False, False, False, False, False, True, False, False, False, False, False, False, False, False, False, False, False, False, False, False, False, False, False, False, False, False, False, False, False, False, False, False, False, False, False, False, False, False, False, False, False, False, False, False, False, False, False, False, False, False, False, False, False, False, False, False, False, False, False, False, False, False, False, False, False, False, False, False, False, False, False, True, False, False, False, False, False, False, False, False, False, False, False, False, False, False, False, False, False, False, False, False, False, False, False, False, False, False, False, False, False, False, False, False, False, False, False, False, False, False, False, False, False, False, False, False, False, False, False, False, False, False, False, False, False, False, False, False, False, False, False, False, False, False, False, False, False, False, False, False, False, False, False, False, False, False, False, False, False, False, False, False, False, True, False, True, False, False, False, False, False, False, False, False, False, False, False, False, False, False, False, False, False, False, False, False, False, False, False, False, False, False, False, True, False, False, False, False, False, False, False, False, False, False, False, False, False, False, False, False, False, False, False, True, False, False, False, False, False, False, False, False, False, False, False, False, False, False, False, False, False, False, False, False, False, False, False, False, False, False, False, False, False, False, False, False, False, False, False, False, False, False, False, False, False, False, False, False, False, False, False, False, False, False, False, False, False, False, False, False, False, False, False, False, False, False, False, False, False, False, False, False, False, False, False, False, False, False, False, False, False, False, False, False, False, False, False, False, False, False, False, False, False, False, False, False, False, False, False, False, False, False, False, False, False, False, False, False, False, False, False, True, False, False, False, False, False, False, False, False, False, False, False, False, False, False, False, False, False, True, False, False, False, False, False, False, False, False, False, False, False, True, False, False, False, False, False, False, False, False, False, True, False, False, False, False, False, False, False, False, False, False, False, False, False, False, False, False, False, False, False, False, False, False, False, False, False, False, False, False, False, True, False, False, False, False, False, False, False, False, False, False, False, False, False, False, False, False, False, True, False, False, False, False, False, False, False, False, False, False, False, False, False, False, False, False, False, False, False, False, False, False, False, False, False, False, False, False, False, False, False, False, False, False, False, False, False, False, False, False, False, False, False, False, False, False, False, False, False, False, False, False, False, False, False, False, False, False, False, False, False, False, False, False, False, False, False, False, False, False, False, False, False, False, False, False, False, False, False, False, False, False, False, True, False, False, False, False, False, False, False, True, False, False, False, False, False, False, False, False, False, False, False, False, False, False, False, False, False, False, False, False, False, True, False, False, False, False, False, False, False, False, False, False, False, False, False, False, False, False, False, False, False, False, False, False, False, False, False, False, False, False, False, False, False, True, False, False, False, False, False, False, False, False, False, False, False, False, False, False, False, False, False, False, False, False, False, False, False, False, False, False, False, False, False, False, False, False, False, False, False, False, False, False, False, False, False, False, False, False, False, False, False, False, False, False, False, False, False, False, False, False, False, False, False, False, False, False, False, False, False, False, False, False, False, False, False, False, False, False, False, False, False, False, False, False, False, False, False, False, False, False, False, False, False, False, False, False, False, False, False, False, False, False, False, True, False, False, False, False, False, False, False, False, False, False, False, False, False, False, False, False, False, False, False, False, False, False, False, False, False, False, False, False, False, False, False, False, False, False, False, False, False, False, False, False, False, False, False, True, False, False, False, False, False, False, False, False, False, False, False, False, False, False, False, False, False, False, False, False, False, False, False, False, False, False, False, False, False, False, False, False, False, False, False, False, False, False, False, True, False, False, False, False, False, True, False, False, False, False, False, False, False, False, False, False, False, False, False, True, False, False, False, False, False, False, False, False, False, False, False, False, False, False, False, False, False, False, False, False, False, False, False, False, False, False, False, False, False, False, False, False, False, False, False, True, False, False, False, False, False, False, False, False, False, False, False, False, False, False, False, False, False, False, False, False, False, False, False, False, False, False, False, False, False, True, False, False, False, False, False, False, False, False, False, False, False, False, False, False, False, False, False, False, False, False, False, False, False, False, False, False, False, False, False, False, False, False, False, False, False, False, False, False, False, False, False, False, False, False, False, False, False, False, False, False, False, False, False, False, False, False, False, False, False, False, False, False, False, False, False, False, False, False, False, False, False, False, False, False, False, False, False, False, False, False, False, False, False, False, False, False, False, False, False, False, False, False, False, False, False, False, False, False, False, False, False, False, False, False, False, False, False, True, False, False, False, False, False, False, False, False, False, False, False, False, False, False, False, False, False, False, False, False, False, False, False, False, False, False, False, False, False, True, False, False, False, False, False, False, False, False, False, False, False, False, False, False, False, True, False, False, False, False, False, False, False, False, False, False, False, False, False, False, False, False, False, False, False, False, False, False, False, True, False, True, False, False, False, False, False, False, False, False, False, False, False, False, False, False, False, False, False, False, False, False, False, False, False, False, False, False, False, False, False, False, False, False, False, False, False, False, False, False, False, True, False, False, False, False, False, False, False, False, False, False, False, False, False, True, False, False, False, False, False, False, False, False, False, False, False, False, False, False, False, False, False, False, False, False, False, True, False, False, False, False, False, False, False, False, False, False, False, False, False, False, False, False, False, False, False, False, False, False, False, True, False, False, False, False, False, False, False, False, False, False, False, False, False, True, False, False, False, False, False, False, False, False, False, False, False, False, False, False, False, False, False, False, False, False, False, False, False, False, False, False, False, False, False, False, False, False, False, False, False, False, False, False, False, False, False, True, False, False, False, False, False, False, False, False, False, True, False, False, False, False, False, False, False, False, False, False, False, False, False, False, False, False, False, False, False, False, False, False, False, False, False, False, False, False, False, False, False, False, False, False, False, False, False, False, False, False, False, False, False, False, False, False, False, True, False, True, False, False, False, False, False, False, False, False, False, False, False, False, False, False, False, False, False, False, False, False, False, False, False, False, False, False, False, False, False, False, False, False, False, False, False, False, False, False, False, False, False, False, False, False, False, False, False, False, False, False, False, False, False, False, False, False, False, False, False, False, False, False, False, False, False, False, False, False, False, False, False, True, False, False, False, False, False, False, False, False, False, False, False, True, False, False, False, False, False, False, False, False, False, False, False, False, False, False, False, False, False, False, False, False, False, False, False, False, False, False, False, False, False, False, False, False, False, False, False, False, False, False, False, False, False, False, False, False, False, False, False, False, False, False, False, False, False, True, False, False, False, False, False, False, False, False, False, False, False, False, False, False, False, True, False, False, False, False, False, False, False, False, False, False, False, False, False, False, False, False, False, False, False, False, False, False, False, False, False, False, False, False, False, False, False, False, False, False, False, False, False, False, False, False, False, False, False, False, False, False, False, False, False, False, False, False, False, False, False, False, False, False, False, False, False, False, False, False, False, True, False, False, False, False, False, False, False, False, False, False, False, False, False, False, False, False, False, False, False, True, False, False, False, False, False, False, False, False, False, False, False, False, False, False, False, False, False, False, False, False, False, False, False, True, False, False, False, False, False, False, False, False, False, False, False, False, False, False, False, False, False, False, False, False, False, False, False, False, False, False, False, False, False, True, False, False, False, False, False, False, False, False, False, False, False, False, False, False, False, True, False, False, False, False, False, False, False, False, False, False, False, True, False, False, False, False, False, False, False, False, False, False, False, False, False, False, False, False, False, False, False, False, False, False, False, False, False, False, False, False, False, False, False, False, False, False, False, False, False, False, False, False, False, False, False, False, False, False, False, False, False, False, False, False, False, False, False, False, False, False, False, False, False, False, False, False, False, False, False, False, False, False, False, False, False, False, False, False, False, False, False, True, False, False, False, False, False, False, False, False, False, False, False, False, False, False, False, False, False, False, False, False, False, False, False, False, False, False, False, False, False, False, False, False, False, False, False, False, False, False, False, False, False, False, False, False, False, True, False, True, False, False, False, True, False, False, False, False, False, False, False, False, False, False, False, False, False, True, False, False, False, False, False, False, False, False, False, False, False, False, False, False, False, False, False, False, False, False, False, False, False, False, False, False, False, False, False, True, False, False, False, True, False, False, False, False, False, False, False, False, False, False, False, False, False, False, False, False, False, False, False, False, False, False, False, False, False, False, False, False, False, False, False, False, False, False, False, False, False, False, False, False, False, False, False, False, False, False, False, False, False, False, False, False, False, False, False, False, False, False, False, False, False, False, False, False, False, False, False, False, False, False, False, True, False, False, False, False, False, False, False, False, False, False, False, False, False, False, False, False, False, False, False, False, False, False, False, False, False, True, False, False, False, False, False, False, False, False, False, True, False, False, False, False, False, False, False, False, False, False, False, False, False, False, False, False, False, False, False, False, False, False, False, False, False, False, False, False, False, False, False, False, False, False, False, False, False, False, False, False, False, False, False, False, False, False, False, True, False, False, False, False, False, True, False, False, False, False, False, True, False, False, False, False, False, False, False, True, False, False, False, True, False, False, False, False, False, False, False, False, False, False, False, False, False, False, False, False, False, False, False, False, False, False, False, False, False, False, False, False, False, False, False, False, False, False, False, False, False, True, False, False, False, False, False, False, False, False, False, True, False, False, False, False, False, False, False, False, False, False, False, False, False, False, False, False, False, False, False, False, False, False, False, False, False, False, False, False, False, False, False, True, False, False, False, False, False, False, False, False, False, True, False, False, False, False, False, False, False, False, False, False, False, False, False, False, False, False, False, False, False, False, False, False, False, False, False, False, False, False, False, False, False, False, False, False, False, False, False, False, False, False, False, False, False, False, False, False, False, False, False, True, False, False, False, False, False, False, False, False, False, False, False, False, False, False, False, False, False, False, False, False, False, False, False, False, False, False, False, False, False, False, False, False, False, False, False, False, False, False, False, False, False, False, False, False, False, False, False, False, False, False, False, True, False, False, False, False, False, False, False, False, False, False, False, False, False, False, False, False, False, False, False, False, False, False, False, False, False, False, False, False, False, False, False, False, False, False, False, False, False, False, False, False, False, False, False, False, False, False, False, False, False, False, False, False, False, False, False, False, False, False, False, True, False, False, False, False, False, False, False, False, False, False, False, False, False, False, False, False, False, True, False, False, False, False, False, False, False, False, False, False, False, False, False, False, False, False, False, False, False, False, False, False, False, False, False, False, False, False, False, True, False, False, False, False, False, False, False, False, False, False, False, False, False, False, False, False, False, False, False, False, False, False, False, False, False, False, False, False, False, False, False, False, False, False, False, False, False, False, False, False, False, False, False, False, False, False, False, False, False, False, False, False, False, False, False, False, False, False, False, False, False, False, False, False, False, True, False, False, False, False, False, False, False, False, False, False, False, True, False, False, False, False, False, False, False, False, False, False, False, False, False, False, False, False, False, False, False, False, False, False, False, False, False, False, False, False, False, False, False, False, False, False, False, False, False, False, False, False, False, False, False, False, False, False, False, False, False, False, False, False, False, False, False, False, False, False, False, False, False, False, False, False, False, False, False, False, False, False, False, False, False, False, False, False, False, False, False, False, False, False, False, False, False, False, False, False, False, False, False, False, False, False, False, False, False, False, False, False, False, True, False, False, False, False, False, False, False, False, False, False, False, False, False, False, False, False, False, False, False, False, False, False, False, False, False, False, False, False, False, False, False, False, False, False, False, False, False, False, False, False, False, False, False, False, False, False, False, False, False, False, False, False, False, False, False, False, False, False, False, False, False, False, False, False, False, False, False, False, False, False, False, False, False, False, False, False, False, False, False, False, False, False, False, False, False, False, False, False, False, False, False, False, False, False, False, False, False, False, False, False, False, False, False, False, False, False, False, False, False, False, False, False, False, False, False, False, False, False, False, False, False, True, False, False, False, False, False, False, False, False, False, True, False, False, False, False, False, False, False, False, False, False, False, False, False, False, False, False, False, False, False, True, False, False, False, False, False, False, False, False, False, False, False, False, False, False, False, True, False, False, False, False, False, False, False, False, False, False, False, False, False, False, False, False, False, False, False, False, False, False, False, False, False, False, False, False, False, False, False, False, False, False, False, False, False, True, False, False, False, True, False, False, False, False, False, False, False, False, False, False, False, False, False, False, False, False, False, False, False, False, False, False, False, False, False, False, False, False, False, False, False, False, False, False, False, False, False, False, False, False, False, False, False, False, False, False, False, False, False, False, False, False, False, False, False, True, False, False, False, False, False, False, False, False, False, False, False, False, False, False, False, False, False, False, False, False, False, False, False, False, False, False, False, False, False, False, False, False, False, True, False, False, False, False, False, False, False, True, False, False, False, False, False, False, False, False, False, False, False, True, False, False, False, False, False, False, False, False, False, False, False, False, False, False, False, True, False, False, False, False, False, False, False, False, False, False, False, True, False, False, False, False, False, False, False, False, False, False, False, True, False, False, False, False, False, False, False, False, False, False, False, False, False, False, False, False, False, False, False, False, False, False, False, False, False, False, False, False, False, False, False, False, False, False, False, False, False, False, False, False, False, False, False, False, False, False, False, False, False, False, False, False, False, False, False, False, False, False, False, False, False, False, False, False, False, False, False, False, False, False, False, False, False, False, False, False, False, False, False, True, False, False, False, False, False, False, False, False, False, False, False, False, False, False, False, False, False, False, False, False, False, False, False, False, False, False, False, False, False, False, False, False, False, False, False, False, False, False, False, False, False, False, False, False, False, False, False, True, False, False, False, False, False, False, False, False, False, False, False, False, False, False, False, False, False, False, False, False, False, False, False, False, False, False, False, False, False, False, False, False, False, False, False, False, False, False, False, True, False, False, False, False, False, False, False, False, False, False, False, False, False, False, False, False, False, False, False, False, False, False, False, False, False, False, False, False, False, True, False, False, False, False, False, False, False, False, False, False, False, False, False, False, False, False, False, False, False, False, False, False, False, False, False, False, False, False, False, False, False, False, False, False, False, False, False, False, False, False, False, True, False, False, False, False, False, False, False, False, False, False, False, False, False, False, False, False, False, False, False, False, False, False, False, False, False, False, False, False, False, False, False, False, False, False, False, False, False, False, False, False, False, False, False, False, False, False, False, False, False, False, False, False, False, False, False, False, False, False, False, False, False, False, False, False, False, False, False, False, False, False, False, True, False, False, False, False, False, False, False, False, False, False, False, False, False, False, False, False, False, False, False, False, False, False, False, False, False, False, False, False, False, False, False, False, False, False, False, True, False, True, False, False, False, False, False, False, False, False, False, False, False, False, False, False, False, True, False, False, False, False, False, False, False, False, False, False, False, False, False, False, False, False, False, False, False, False, False, False, False, False, False, False, False, False, False, False, False, False, False, False, False, False, False, False, False, False, False, False, False, True, False, False, False, False, False, False, False, False, False, False, False, False, False, False, False, False, False, False, False, False, False, True, False, False, False, False, False, False, False, False, False, False, False, False, False, True, False, False, False, False, False, False, False, False, False, False, False, False, False, False, False, False, False, False, False, False, False, True, False, False, False, False, False, False, False, False, False, False, False, True, False, False, False, False, False, False, False, False, False, False, False, False, False, False, False, False, False, False, False, False, False, False, False, False, False, True, False, False, False, False, False, False, False, False, False, True, False, False, False, False, False, False, False, False, False, False, False, False, False, False, False, False, False, False, False, False, False, False, False, False, False, False, False, False, False, False, False, True, False, False, False, False, False, False, False, False, False, False, False, True, False, False, False, False, False, False, False, False, False, False, False, False, False, False, False, False, False, True, False, False, False, False, False, False, False, False, False, False, False, True, False, False, False, False, False, False, False, False, False, False, False, False, False, False, False, False, False, False, False, False, False, False, False, False, False, False, False, False, False, False, False, False, False, False, False, False, False, False, False, False, False, False, False, False, False, False, False, False, False, False, False, False, False, False, False, False, False, True, False, True, False, False, False, False, False, True, False, False, False, False, False, False, False, False, False, False, False, False, False, False, False, False, False, False, False, False, False, False, False, False, False, False, False, False, False, False, False, False, False, False, False, False, False, False, False, False, False, False, False, False, False, False, False, False, False, False, False, False, False, False, False, False, False, False, False, False, False, False, False, False, False, False, False, False, False, False, False, False, False, False, False, False, False, False, False, False, False, True, False, False, False, False, False, False, False, False, False, False, False, False, False, False, False, False, False, False, False, True, False, False, False, False, False, False, False, False, False, False, False, False, False, False, False, False, False, False, False, False, False, False, False, False, False, False, False, False, False, False, False, False, False, False, False, False, False, False, False, False, False, False, False, False, False, False, False, False, False, False, False, False, False, False, False, False, False, False, False, True, False, False, False, False, False, False, False, False, False, False, False, False, False, False, False, False, False, False, False, False, False, False, False, False, False, False, False, False, False, False, False, False, False, False, False, False, False, False, False, True, False, False, False, False, False, False, False, False, False, False, False, False, False, True, False, False, False, False, False, False, False, False, False, True, False, False, False, False, False, False, False, False, False, False, False, False, False, False, False, False, False, False, False, False, False, False, False, False, False, False, False, False, False, True, False, False, False, False, False, False, False, True, False, False, False, False, False, False, False, False, False, False, False, False, False, False, False, False, False, False, False, False, False, False, False, False, False, False, False, False, False, False, False, False, False, False, False, True, False, False, False, False, False, False, False, False, False, False, False, False, False, False, False, False, False, False, False, False, False, True, False, False, False, False, False, False, False, True, False, False, False, False, False, False, False, False, False, False, False, False, False, False, False, False, False, False, False, False, False, False, False, False, False, False, False, False, False, False, False, False, False, False, False, False, False, False, False, False, False, False, False, False, False, False, False, False, False, False, False, False, False, False, False, False, False, False, False, False, False, False, False, False, False, False, False, False, False, False, False, False, False, False, False, False, False, False, False, False, False, True, False, False, False, False, False, False, False, False, False, False, False, False, False, False, False, False, False, False, False, False, False, False, False, True, False, False, False, False, False, False, False, False, False, False, False, False, False, False, False, False, False, True, False, False, False, False, False, True, False, False, False, False, False, False, False, False, False, False, False, False, False, False, False, False, False, False, False, True, False, False, False, False, False, False, False, False, False, False, False, False, False, False, False, False, False, False, False, False, False, False, False, False, False, False, False, False, False, False, False, False, False, False, False, False, False, False, False, False, False, False, False, False, False, False, False, False, False, False, False, False, False, False, False, False, False, False, False, False, False, False, False, True, False, False, False, False, False, False, False, False, False, False, False, False, False, False, False, False, False, False, False, False, False, False, False, False, False, False, False, False, False, False, False, False, False, False, False, True, False, False, False, False, False, False, False, False, False, False, False, False, False, False, False, False, False, False, False, False, False, False, False, False, False, False, False, False, False, False, False, False, False, False, False, False, False, False, False, False, False, False, False, False, False, False, False, False, False, False, False, False, False, False, False, False, False, False, False, False, False, False, False, False, False, False, False, False, False, False, False, False, False, False, False, False, False, False, False, False, False, False, False, False, False, False, False, False, False, False, False, False, False, False, False, False, False, False, False, False, False, False, False, True, False, False, False, False, False, False, False, False, False, False, False, False, False, False, False, False, False, False, False, False, False, True, False, False, False, False, False, False, False, False, False, False, False, False, False, False, False, False, False, False, False, False, False, False, False, False, False, False, False, False, False, False, False, False, False, False, False, False, False, True, False, False, False, False, False, False, False, False, False, False, False, False, False, False, False, False, False, False, False, False, False, False, False, False, False, False, False, False, False, False, False, False, False, False, False, False, False, False, False, False, False, False, False, False, False, False, False, False, False, False, False, False, False, False, False, False, False, False, False, False, False, False, False, False, False, False, False, False, False, False, False, False, False, False, False, False, False, False, False, False, False, False, False, False, False, False, False, False, False, False, False, False, False, False, False, False, False, False, False, False, False, False, False, False, False, False, False, False, False, False, False, False, False, False, False, False, False, False, False, False, False, False, False, False, False, False, False, False, False, False, False, False, False, False, False, False, False, False, False, False, False, False, False, False, False, False, False, False, False, True, False, False, False, False, False, False, False, False, False, False, False, False, False, False, False, False, False, False, False, False, False, True, False, False, False, False, False, False, False, True, False, False, False, False, False, False, False, False, False, False, False, False, False, False, False, False, False, False, False, False, False, False, False, False, False, False, False, True, False, False, False, False, False, False, False, False, False, False, False, False, False, False, False, False, False, True, False, False, False, False, False, False, False, False, False, False, False, False, False, True, False, False, False, False, False, False, False, False, False, False, False, False, False, False, False, False, False, False, False, False, False, False, False, False, False, False, False, False, False, False, False, False, False, False, False, True, False, False, False, False, False, False, False, False, False, False, False, False, False, False, False, False, False, False, False, False, False, False, False, False, False, False, False, False, False, False, False, False, False, False, False, True, False, False, False, False, False, False, False, False, False, False, False, False, False, False, False, False, False, False, False, False, False, False, False, False, False, False, False, True, False, False, False, False, False, False, False, False, False, False, False, False, False, False, False, False, False, False, False, True, False, False, False, False, False, False, False, False, False, True, False, False, False, False, False, False, False, False, False, False, False, False, False, False, False, False, False, False, False, False, False, False, False, False, False, False, False, False, False, False, False, False, False, False, False, False, False, True, False, False, False, False, False, False, False, False, False, False, False, False, False, False, False, False, False, False, False, False, False, False, False, False, False, False, False, False, False, True, False, False, False, False, False, False, False, False, False, False, False, True, False, False, False, False, False, False, False, False, False, False, False, False, False, False, False, False, False, False, False, False, False, False, False, False, False, False, False, False, False, False, False, False, False, False, False, True, False, False, False, False, False, False, False, False, False, False, False, False, False, False, False, False, False, False, False, False, False, False, False, False, False, False, False, False, False, False, False, False, False, False, False, False, False, False, False, False, False, False, False, False, False, False, False, False, False, False, False, False, False, False, False, False, False, False, False, False, False, False, False, False, False, False, False, False, False, False, False, False, False, False, False, False, False, False, False, False, False, False, False, True, False, False, False, False, False, False, False, False, False, False, False, False, False, False, False, True, False, False, False, False, False, True, False, False, False, False, False, False, False, False, False, False, False, False, False, False, False, False, False, False, False, False, False, False, False, False, False, False, False, False, False, True, False, False, False, False, False, False, False, False, False, False, False, False, False, False, False, False, False, False, False, True, False, False, False, True, False, False, False, False, False, False, False, False, False, False, False, False, False, True, False, False, False, False, False, False, False, False, False, False, False, False, False, False, False, False, False, False, False, False, False, False, False, False, False, False, False, False, False, True, False, False, False, False, False, False, False, False, False, True, False, False, False, False, False, False, False, False, False, False, False, False, False, False, False, False, False, False, False, False, False, False, False, False, False, False, False, False, False, False, False, True, False, False, False, False, False, False, False, False, False, False, False, False, False, False, False, False, False, False, False, False, False, False, False, False, False, False, False, False, False, False, False, False, False, False, False, True, False, False, False, True, False, False, False, False, False, False, False, False, False, False, False, False, False, False, False, False, False, True, False, False, False, False, False, False, False, False, False, False, False, False, False, False, False, False, False, False, False, False, False, False, False, False, False, False, False, False, False, False, False, False, False, False, False, False, False, False, False, False, False, False, False, False, False, False, False, False, False, False, False, False, False, False, False, False, False, False, False, True, False, False, False, False, False, True, False, False, False, False, False, False, False, False, False, False, False, False, False, False, False, False, False, False, False, False, False, False, False, False, False, False, False, False, False, False, False, False, False, False, False, False, False, False, False, False, False, False, False, False, False, False, False, False, False, False, False, False, False, False, False, False, False, False, False, True, False, False, False, False, False, False, False, False, False, False, False, False, False, False, False, False, False, False, False, False, False, False, False, False, False, False, False, False, False, False, False, False, False, False, False, True, False, False, False, False, False, False, False, False, False, False, False, False, False, False, False, False, False, False, False, False, False, False, False, False, False, False, False, False, False, False, False, False, False, False, False, False, False, False, False, False, False, False, False, False, False, False, False, False, False, False, False, False, False, False, False, True, False, False, False, False, False, False, False, False, False, True, False, True, False, False, False, False, False, False, False, False, False, False, False, False, False, False, False, False, False, False, False, False, False, False, False, False, False, False, False, True, False, False, False, False, False, False, False, True, False, False, False, False, False, False, False, False, False, False, False, False, False, False, False, False, False, False, False, False, False, False, False, False, False, False, False, False, False, False, False, False, False, False, False, False, False, False, False, True, False, False, False, False, False, False, False, False, False, False, False, False, False, False, False, False, False, False, False, False, False, False, False, False, False, False, False, False, False, False, False, False, False, False, False, False, False, False, False, False, False, False, False, False, False, False, False, False, False, True, False, False, False, False, False, False, False, False, False, False, False, False, False, False, False, False, False, False, False, False, False, False, False, False, False, False, False, False, False, False, False, False, False, False, False, False, False, False, False, False, False, False, False, False, False, True, False, False, False, False, False, False, False, False, False, False, False, False, False, False, False, False, False, False, False, False, False, False, False, False, False, False, False, False, False, True, False, False, False, False, False, True, False, False, False, False, False, False, False, False, False, False, False, False, False, False, False, False, False, False, False, False, False, False, False, False, False, False, False, False, False, False, False, False, False, False, False, False, False, False, False, False, False, False, False, False, False, False, False, False, False, False, False, False, False, False, False, False, False, False, False, False, False, False, False, False, False, False, False, False, False, False, False, False, False, False, False, False, False, False, False, False, False, False, False, False, False, False, False, False, False, True, False, True, False, False, False, False, False, False, False, False, False, False, False, False, False, False, False, False, False, False, False, False, False, False, False, False, False, False, False, False, False, False, False, False, False, False, False, False, False, False, False, False, False, False, False, False, False, False, False, False, False, False, False, False, False, False, False, False, False, True, False, False, False, False, False, False, False, True, False, False, False, False, False, False, False, False, False, False, False, False, False, False, False, False, False, False, False, False, False, False, False, True, False, False, False, False, False, False, False, False, False, False, False, False, False, False, False, True, False, False, False, False, False, False, False, False, False, False, False, False, False, False, False, False, False, False, False, False, False, False, False, False, False, True, False, False, False, True, False, False, False, False, False, False, False, False, False, False, False, False, False, False, False, False, False, False, False, False, False, False, False, False, False, False, False, False, False, False, False, False, False, False, False, False, False, False, False, False, False, False, False, True, False, False, False, False, False, False, False, False, False, False, False, False, False, False, False, False, False, False, False, False, False, False, False, False, False, False, False, False, False, False, False, False, False, False, False, False, False, False, False, False, False, False, False, False, False, False, False, False, False, False, False, False, False, False, False, False, False, False, False, False, False, False, False, False, False, False, False, False, False, False, False, False, False, False, False, False, False, False, False, False, False, False, False, False, False, False, False, False, False, False, False, False, False, False, False, False, False, False, False, False, False, True, False, False, False, True, False, False, False, False, False, False, False, False, False, False, False, False, False, False, False, False, False, False, False, False, False, False, False, False, False, False, False, False, False, True, False, False, False, False, False, True, False, False, False, False, False, True, False, False, False, False, False, False, False, False, False, False, False, False, False, True, False, False, False, False, False, False, False, False, False, False, False, False, False, False, False, False, False, True, False, False, False, False, False, True, False, False, False, False, False, False, False, False, False, False, False, False, False, False, False, False, False, False, False, False, False, False, False, False, False, False, False, False, False, False, False, False, False, True, False, False, False, False, False, True, False, False, False, False, False, False, False, False, False, False, False, False, False, False, False, False, False, False, False, False, False, False, False, True, False, False, False, False, False, False, False, False, False, False, False, False, False, False, False, False, False, False, False, False, False, False, False, False, False, False, False, False, False, False, False, False, False, False, False, False, False, False, False, False, False, False, False, False, False, False, False, False, False, False, False, False, False, False, False, False, False, False, False, False, False, False, False, False, False, False, False, False, False, False, False, False, False, False, False, False, False, False, False, False, False, False, False, False, False, False, False, False, False, True, False, False, False, False, False, False, False, False, False, False, False, False, False, False, False, False, False, False, False, False, False, False, False, False, False, True, False, False, False, False, False, False, False, False, False, False, False, False, False, False, False, False, False, False, False, False, False, False, False, False, False, False, False, False, False, False, False, False, False, True, False, False, False, False, False, False, False, False, False, False, False, False, False, False, False, False, False, False, False, False, False, False, False, False, False, False, False, False, False, False, False, True, False, False, False, False, False, True, False, False, False, False, False, False, False, False, False, False, False, False, False, False, False, False, False, False, False, False, False, True, False, False, False, False, False, False, False, False, False, False, False, False, False, False, False, False, False, False, False, True, False, False, False, False, False, True, False, False, False, False, False, False, False, False, False, False, False, False, False, False, False, False, False, False, False, False, False, True, False, False, False, False, False, False, False, False, False, False, False, False, False, False, False, False, False, False, False, False, False, False, False, False, False, False, False, False, False, False, False, False, False, False, False, False, False, False, False, False, False, True, False, False, False, False, False, False, False, False, False, False, False, False, False, False, False, False, False, False, False, False, False, False, False, False, False, False, False, False, False, False, False, True, False, False, False, False, False, False, False, False, False, False, False, False, False, False, False, False, False, False, False, False, False, False, False, False, False, False, False, False, False, False, False, False, False, False, False, False, False, False, False, False, False, False, False, False, False, False, False, False, False, False, False, False, False, False, False, False, False, False, False, False, False, False, False, False, False, False, False, False, False, False, False, False, False, False, False, False, False, False, False, False, False, False, False, False, False, False, False, False, False, False, False, False, False, False, False, False, False, False, False, False, False, False, False, False, False, False, False, False, False, False, False, False, False, False, False, False, False, False, False, False, False, False, False, False, False, False, False, False, False, False, False, False, False, False, False, False, False, False, False, False, False, False, False, False, False, False, False, False, False, False, False, False, False, True, False, False, False, False, False, False, False, False, False, False, False, False, False, False, False, False, False, False, False, False, False, False, False, False, False, False, False, False, False, False, False, False, False, False, False, False, False, False, False, False, False, False, False, False, False, False, False, False, False, False, False, False, False, False, False, False, False, False, False, True, False, False, False, False, False, False, False, False, False, False, False, False, False, False, False, False, False, False, False, False, False, False, False, True, False, False, False, False, False, False, False, True, False, False, False, False, False, False, False, False, False, True, False, False, False, False, False, False, False, False, False, False, False, False, False, False, False, False, False, False, False, False, False, False, False, False, False, False, False, False, False, False, False, False, False, False, False, False, False, False, False, False, False, False, False, True, False, False, False, False, False, False, False, False, False, False, False, False, False, False, False, True, False, True, False, False, False, False, False, False, False, False, False, False, False, False, False, False, False, False, False, False, False, False, False, False, False, False, False, False, False, False, False, False, False, False, False, False, False, False, False, False, False, False, False, False, False, False, False, False, False, False, False, False, False, False, False, False, False, False, False, False, False, False, False, False, False, False, False, False, False, False, False, False, False, False, False, False, False, False, False, True, False, False, False, False, False, False, False, False, False, False, False, True, False, False, False, False, False, False, False, False, False, False, False, False, False, False, False, False, False, False, False, False, False, False, False, False, False, False, False, False, False, False, False, False, False, False, False, False, False, False, False, False, False, False, False, False, False, True, False, False, False, False, False, False, False, False, False, False, False, False, False, True, False, False, False, False, False, False, False, False, False, False, False, False, False, False, False, False, False, False, False, False, False, True, False, False, False, False, False, False, False, False, False, False, False, False, False, False, False, False, False, False, False, True, False, False, False, False, False, False, False, False, False, False, False, False, False, False, False, False, False, False, False, False, False, False, False, False, False, False, False, False, False, False, False, False, False, False, False, False, False, False, False, False, False, False, False, False, False, False, False, False, False, False, False, False, False, False, False, False, False, False, False, True, False, False, False, False, False, False, False, False, False, False, False, False, False, False, False, False, False, False, False, False, False, False, False, True, False, False, False, True, False, False, False, False, False, False, False, False, False, False, False, False, False, False, False, False, False, False, False, False, False, False, False, False, False, False, False, False, False, False, False, False, False, False, False, False, False, False, False, False, False, False, False, False, False, False, False, False, False, False, False, False, False, False, False, False, False, False, False, True, False, False, False, False, False, False, False, False, False, False, False, False, False, False, False, False, False, False, False, False, False, False, False, False, False, False, False, False, False, False, False, False, False, False, False, False, False, False, False, False, False, False, False, False, False, False, False, False, False, False, False, False, False, False, False, False, False, False, False, False, False, True, False, False, False, False, False, False, False, False, False, False, False, False, False, False, False, False, False, False, False, False, False, False, False, True, False, False, False, False, False, False, False, False, False, False, False, False, False, False, False, False, False, False, False, False, False, False, False, False, False, False, False, False, False, False, False, False, False, True, False, False, False, False, False, False, False, False, False, False, False, False, False, False, False, False, False, False, False, False, False, False, False, False, False, False, False, False, False, False, False, False, False, False, False, False, False, False, False, False, False, False, False, False, False, False, False, False, False, True, False, False, False, False, False, False, False, False, False, False, False, False, False, False, False, False, False, False, False, False, False, False, False, False, False, False, False, False, False, False, False, False, False, False, False, False, False, False, False, False, False, False, False, False, False, True, False, False, False, False, False, False, False, False, False, False, False, False, False, False, False, False, False, False, False, False, False, False, False, False, False, True, False, False, False, False, False, False, False, False, False, False, False, False, False, False, False, False, False, False, False, False, False, False, False, False, False, False, False, False, False, False, False, False, False, False, False, False, False, False, False, True, False, False, False, False, False, False, False, False, False, False, False, False, False, True, False, False, False, False, False, False, False, False, False, False, False, True, False, False, False, False, False, False, False, False, False, False, False, False, False, False, False, False, False, False, False, False, False, False, False, False, False, False, False, False, False, False, False, False, False, False, False, False, False, False, False, False, False, False, False, False, False, False, False, False, False, False, False, False, False, False, False, False, False, False, False, False, False, False, False, True, False, False, False, False, False, False, False, False, False, False, False, False, False, False, False, False, False, False, False, False, False, False, False, False, False, True, False, False, False, False, False, False, False, False, False, False, False, False, False, False, False, False, False, False, False, False, False, False, False, False, False, False, False, False, False, False, False, False, False, False, False, False, False, False, False, False, False, False, False, False, False, False, False, False, False, False, False, False, False, False, False, False, False, False, False, True, False, False, False, False, False, False, False, False, False, False, False, False, False, False, False, False, False, False, False, False, False, False, False, False, False, False, False, False, False, False, False, False, False, False, False, False, False, False, False, False, False, True, False, False, False, False, False, True, False, False, False, False, False, True, False, False, False, False, False, True, False, False, False, False, False, False, False, False, False, True, False, False, False, False, False, False, False, False, False, False, False, False, False, False, False, False, False, False, False, False, False, False, False, False, False, False, False, False, False, False, False, False, False, False, False, False, False, False, False, False, False, False, False, False, False, False, False, False, False, False, False, False, False, False, False, False, False, False, False, False, False, False, False, False, False, False, False, False, False, False, False, False, False, True, False, False, False, False, False, False, False, False, False, False, False, False, False, False, False, False, False, False, False, False, False, False, False, False, False, False, False, True, False, True, False, False, False, False, False, False, False, False, False, False, False, False, False, False, False, False, False, True, False, False, False, False, False, False, False, False, False, False, False, False, False, False, False, False, False, False, False, False, False, False, False, False, False, False, False, False, False, False, False, False, False, False, False, False, False, False, False, False, False, False, False, False, False, True, False, False, False, False, False, False, False, False, False, False, False, False, False, False, False, False, False, False, False, False, False, False, False, True, False, False, False, False, False, False, False, False, False, False, False, False, False, False, False, False, False, True, False, False, False, False, False, False, False, False, False, False, False, False, False, False, False, False, False, False, False, False, False, False, False, False, False, False, False, False, False, False, False, False, False, False, False, False, False, False, False, False, False, False, False, False, False, False, False, False, False, False, False, False, False, True, False, False, False, False, False, False, False, False, False, False, False, False, False, False, False, False, False, False, False, False, False, False, False, False, False, False, False, False, False, False, False, False, False, False, False, False, False, False, False, False, False, False, False, False, False, False, False, False, False, False, False, False, False, False, False, False, False, False, False, False, False, False, False, False, False, False, False, False, False, False, False, False, False, False, False, False, False, True, False, False, False, False, False, False, False, False, False, False, False, False, False, False, False, False, False, False, False, True, False, False, False, False, False, False, False, False, False, False, False, False, False, False, False, False, False, False, False, False, False, False, False, False, False, False, False, True, False, False, False, False, False, False, False, True, False, False, False, False, False, False, False, False, False, False, False, False, False, False, False, False, False, False, False, False, False, False, False, False, False, False, False, False, False, False, False, False, False, False, False, False, False, False, False, False, False, True, False, False, False, False, False, False, False, False, False, False, False, False, False, False, False, False, False, False, False, False, False, False, False, False, False, False, False, False, False, False, False, False, False, False, False, False, False, False, False, False, False, False, False, False, False, False, False, False, False, False, False, False, False, False, False, False, False, False, False, False, False, False, False, False, False, False, False, False, False, False, False, False, False, False, False, False, False, False, False, False, False, True, False, False, False, False, False, False, False, False, False, False, False, False, False, False, False, False, False, False, False, True, False, False, False, False, False, False, False, False, False, False, False, False, False, False, False, False, False, False, False, False, False, True, False, False, False, False, False, False, False, True, False, False, False, False, False, False, False, False, False, False, False, False, False, False, False, False, False, False, False, False, False, False, False, False, False, False, False, False, False, False, False, False, False, False, False, False, False, False, False, False, False, False, False, False, False, False, False, False, False, False, False, False, False, False, False, False, False, False, False, False, False, False, False, False, False, True, False, False, False, False, False, False, False, False, False, False, False, False, False, False, False, False, False, False, False, False, False, False, False, True, False, False, False, False, False, False, False, False, False, False, False, False, False, False, False, False, False, True, False, False, False, True, False, False, False, False, False, False, False, False, False, False, False, False, False, False, False, False, False, False, False, False, False, False, False, False, False, True, False, False, False, False, False, False, False, False, False, False, False, False, False, False, False, False, False, True, False, False, False, False, False, False, False, False, False, False, False, False, False, False, False, False, False, False, False, False, False, False, False, False, False, False, False, False, False, False, False, False, False, False, False, False, False, False, False, False, False, False, False, False, False, False, False, False, False, False, False, True, False, False, False, False, False, False, False, False, False, False, False, False, False, False, False, False, False, False, False, False, False, False, False, False, False, False, False, False, False, False, False, False, False, False, False, False, False, False, False, False, False, False, False, False, False, False, False, False, False, False, False, False, False, False, False, False, False, False, False, False, False, False, False, False, False, False, False, False, False, False, False, False, False, False, False, False, False, False, False, False, False, False, False, False, False, False, False, False, False, False, False, False, False, False, False, False, False, False, False, False, False, False, False, False, False, False, False, False, False, False, False, False, False, False, False, False, False, False, False, False, False, False, False, False, False, False, False, False, False, False, False, False, False, True, False, False, False, False, False, True, False, False, False, False, False, False, False, False, False, False, False, False, False, False, False, False, False, False, False, False, False, False, False, True, False, False, False, False, False, False, False, False, False, False, False, False, False, False, False, False, False, False, False, False, False, False, False, False, False, False, False, False, False, False, False, False, False, False, False, False, False, False, False, False, False, False, False, False, False, False, False, False, False, False, False, False, False, False, False, False, False, True, False, False, False, False, False, False, False, False, False, False, False, False, False, False, False, False, False, False, False, False, False, False, False, False, False, False, False, False, False, True, False, False, False, False, False, False, False, False, False, False, False, False, False, False, False, False, False, False, False, False, False, False, False, False, False, True, False, False, False, False, False, False, False, False, False, False, False, False, False, False, False, False, False, False, False, False, False, False, False, False, False, False, False, False, False, False, False, False, False, False, False, False, False, False, False, False, False, False, False, False, False, False, False, False, False, False, False, False, False, False, False, False, False, False, False, False, False, False, False, False, False, False, False, False, False, False, False, False, False, False, False, False, False, False, False, False, False, True, False, True, False, False, False, False, False, False, False, False, False, False, False, False, False, False, False, False, False, False, False, False, False, False, False, False, False, False, False, False, False, False, False, False, False, False, False, False, False, False, False, False, False, False, False, False, False, False, False, False, False, False, False, True, False, False, False, False, False, False, False, False, False, False, False, False, False, False, False, False, False, False, False, False, False, False, False, False, False, False, False, False, False, False, False, False, False, False, False, False, False, False, False, False, False, False, False, False, False, False, False, False, False, False, False, False, False, False, False, True, False, False, False, False, False, False, False, False, False, True, False, False, False, False, False, False, False, False, False, False, False, False, False, False, False, False, False, False, False, False, False, False, False, False, False, False, False, False, False, False, False, False, False, False, False, False, False, False, False, False, False, False, False, False, False, False, False, True, False, False, False, False, False, False, False, False, False, False, False, False, False, False, False, False, False, False, False, True, False, False, False, False, False, False, False, False, False, False, False, False, False, False, False, False, False, False, False, False, False, False, False, False, False, False, False, False, False, True, False, False, False, False, False, False, False, False, False, False, False, False, False, False, False, False, False, False, False, False, False, False, False, False, False, False, False, False, False, False, False, False, False, False, False, False, False, False, False, False, False, False, False, False, False, False, False, False, False, False, False, False, False, False, False, False, False, False, False, False, False, False, False, False, False, False, False, False, False, False, False, False, False, False, False, False, False, False, False, False, False, False, False, False, False, False, False, False, False, True, False, False, False, False, False, True, False, False, False, False, False, False, False, False, False, False, False, False, False, False, False, False, False, False, False, False, False, False, False, False, False, False, False, False, False, True, False, False, False, False, False, True, False, False, False, False, False, False, False, False, False, False, False, False, False, False, False, False, False, True, False, False, False, False, False, False, False, False, False, True, False, False, False, False, False, False, False, False, False, False, False, False, False, False, False, False, False, False, False, False, False, False, False, False, False, False, False, False, False, True, False, False, False, False, False, False, False, False, False, False, False, False, False, False, False, False, False, False, False, False, False, False, False, False, False, False, False, False, False, True, False, False, False, False, False, False, False, False, False, False, False, False, False, False, False, False, False, False, False, False, False, False, False, False, False, False, False, False, False, False, False, False, False, False, False, False, False, False, False, False, False, False, False, False, False, False, False, False, False, False, False, False, False, False, False, False, False, False, False, False, False, False, False, False, False, True, False, False, False, False, False, True, False, True, False, False, False, False, False, False, False, False, False, False, False, False, False, False, False, False, False, True, False, False, False, False, False, False, False, False, False, False, False, False, False, False, False, False, False, False, False, False, False, False, False, False, False, False, False, False, False, False, False, False, False, False, False, False, False, False, False, False, False, True, False, False, False, False, False, False, False, False, False, True, False, False, False, False, False, False, False, False, False, False, False, False, False, False, False, False, False, True, False, False, False, False, False, False, False, False, False, False, False, False, False, False, False, False, False, False, False, False, False, False, False, False, False, False, False, False, False, False, False, False, False, False, False, False, False, False, False, False, False, True, False, True, False, False, False, False, False, False, False, False, False, False, False, False, False, False, False, True, False, False, False, False, False, False, False, False, False, False, False, False, False, False, False, False, False, False, False, False, False, False, False, False, False, False, False, False, False, False, False, False, False, False, False, False, False, True, False, False, False, False, False, False, False, False, False, False, False, False, False, False, False, False, False, False, False, False, False, False, False, False, False, False, False, False, False, False, False, False, False, True, False, False, False, False, False, False, False, False, False, False, False, True, False, False, False, False, False, True, False, False, False, False, False, False, False, False, False, False, False, False, False, False, False, False, False, True, False, False, False, False, False, False, False, False, False, False, False, False, False, False, False, False, False, False, False, False, False, False, False, False, False, False, False, False, False, True, False, False, False, False, False, False, False, False, False, False, False, False, False, False, False, False, False, False, False, False, False, False, False, False, False, False, False, False, False, False, False, False, False, False, False, False, False, False, False, False, False, False, False, False, False, False, False, False, False, False, False, False, False, True, False, False, False, False, False, False, False, False, False, False, False, False, False, False, False, False, False, False, False, False, False, False, False, False, False, False, False, False, False, False, False, True, False, False, False, False, False, False, False, False, False, False, False, False, False, False, False, False, False, False, False, False, False, False, False, False, False, False, False, True, False, True, False, False, False, False, False, False, False, False, False, False, False, False, False, False, False, False, False, False, False, False, False, False, False, False, False, False, False, False, False, False, False, False, False, False, False, True, False, False, False, False, False, False, False, False, False, False, False, False, False, False, False, False, False, False, False, False, False, False, False, False, False, False, False, False, False, False, False, False, False, False, False, False, False, False, False, False, False, False, False, False, False, False, False, False, False, False, False, False, False, False, False, False, False, False, False, False, False, False, False, False, False, False, False, False, False, False, False, False, False, False, False, False, False, False, False, False, False, False, False, False, False, False, False, False, False, False, False, False, False, False, False, False, False, False, False, False, False, False, False, False, False, False, False, True, False, False, False, False, False, False, False, False, False, False, False, False, False, False, False, False, False, False, False, False, False, False, False, True, False, False, False, False, False, False, False, False, False, False, False, False, False, False, False, False, False, False, False, False, False, False, False, False, False, False, False, False, False, False, False, False, False, False, False, False, False, False, False, False, False, False, False, False, False, False, False, False, False, False, False, False, False, False, False, False, False, False, False, False, False, False, False, False, False, True, False, False, False, False, False, False, False, False, False, False, False, False, False, False, False, False, False, False, False, False, False, False, False, False, False, False, False, False, False, False, False, False, False, False, False, False, False, False, False, False, False, True, False, False, False, False, False, False, False, False, False, False, False, False, False, False, False, False, False, False, False, False, False, False, False, False, False, False, False, False, False, False, False, False, False, False, False, False, False, False, False, False, False, False, False, False, False, False, False, False, False, False, False, False, False, False, False, False, False, False, False, False, False, False, False, False, False, False, False, False, False, False, False, False, False, False, False, False, False, False, False, False, False, False, False, False, False, False, False, False, False, False, False, False, False, False, False, False, False, False, False, True, False, False, False, False, False, False, False, False, False, False, False, True, False, False, False, False, False, False, False, False, False, False, False, False, False, False, False, False, False, False, False, False, False, False, False, False, False, False, False, False, False, False, False, False, False, False, False, True, False, False, False, False, False, False, False, False, False, False, False, False, False, False, False, False, False, False, False, False, False, False, False, False, False, False, False, False, False, False, False, False, False, False, False, False, False, False, False, False, False, True, False, False, False, False, False, False, False, False, False, False, False, False, False, False, False, False, False, False, False, False, False, False, False, False, False, False, False, False, False, False, False, False, False, False, False, False, False, False, False, False, False, False, False, False, False, False, False, False, False, False, False, False, False, False, False, False, False, False, False, False, False, False, False, False, False, False, False, False, False, False, False, False, False, False, False, False, False, False, False, False, False, False, False, True, False, False, False, False, False, False, False, False, False, False, False, False, False, False, False, False, False, False, False, False, False, False, False, True, False, True, False, False, False, False, False, False, False, False, False, True, False, True, False, False, False, False, False, False, False, False, False, False, False, False, False, False, False, True, False, False, False, False, False, False, False, False, False, False, False, False, False, False, False, False, False, False, False, True, False, False, False, False, False, False, False, False, False, False, False, False, False, False, False, False, False, False, False, False, False, False, False, False, False, False, False, False, False, True, False, False, False, False, False, False, False, False, False, False, False, False, False, False, False, False, False, False, False, False, False, False, False, False, False, False, False, False, False, False, False, False, False, False, False, False, False, False, False, False, False, False, False, False, False, False, False, False, False, False, False, False, False, False, False, False, False, False, False, False, False, False, False, False, False, False, False, False, False, False, False, False, False, False, False, False, False, False, False, False, False, False, False, False, False, False, False, False, False, False, False, False, False, False, False, False, False, False, False, False, False, False, False, False, False, False, False, False, False, False, False, False, False, False, False, False, False, False, False, False, False, False, False, False, False, False, False, False, False, False, False, False, False, False, False, False, False, False, False, False, False, False, False, False, False, False, False, False, False, False, False, False, False, False, False, False, False, False, False, False, False, False, False, False, False, False, False, False, False, False, False, False, False, False, False, False, False, False, False, False, False, False, False, False, False, False, False, False, False, False, False, False, False, False, False, False, False, False, False, False, False, False, False, False, False, False, False, False, False, False, False, False, False, False, False, False, False, False, False, False, False, False, False, False, False, False, False, False, False, False, False, False, False, False, False, False, False, False, False, False, False, False, False, False, False, True, False, False, False, False, False, False, False, False, False, False, False, False, False, False, False, False, False, False, False, False, False, False, False, False, False, False, False, False, False, False, False, False, False, False, False, False, False, False, False, False, False, False, False, False, False, False, False, False, False, False, False, False, False, False, False, False, False, False, False, False, False, False, False, False, False, False, False, False, False, False, False, False, False, False, False, False, False, False, False, False, False, False, False, False, False, False, False, False, False, True, False, False, False, False, False, False, False, False, False, False, False, False, False, False, False, False, False, False, False, False, False, False, False, False, False, False, False, False, False, False, False, False, False, False, False, False, False, False, False, False, False, False, False, False, False, False, False, False, False, False, False, False, False, True, False, False, False, False, False, False, False, False, False, False, False, False, False, False, False, False, False, False, False, False, False, True, False, True, False, False, False, False, False, False, False, False, False, False, False, False, False, False, False, False, False, False, False, False, False, False, False, False, False, False, False, False, False, False, False, False, False, False, False, True, False, False, False, False, False, False, False, False, False, False, False, False, False, False, False, False, False, False, False, False, False, False, False, False, False, False, False, False, False, False, False, False, False, False, False, False, False, False, False, False, False, False, False, False, False, False, False, False, False, False, False, False, False, False, False, False, False, False, False, False, False, False, False, False, False, True, False, False, False, False, False, False, False, False, False, False, False, False, False, False, False, False, False, False, False, False, False, False, False, True, False, False, False, False, False, False, False, False, False, False, False, False, False, False, False, False, False, False, False, False, False, False, False, False, False, False, False, False, False, False, False, False, False, False, False, True, False, False, False, True, False, False, False, False, False, True, False, False, False, False, False, True, False, False, False, False, False, False, False, False, False, False, False, True, False, False, False, False, False, False, False, False, False, False, False, False, False, False, False, False, False, False, False, False, False, False, False, False, False, False, False, False, False, False, False, False, False, False, False, False, False, False, False, False, False, False, False, False, False, False, False, False, False, False, False, False, False, False, False, False, False, False, False, False, False, False, False, False, False, False, False, True, False, False, False, False, False, False, False, False, False, False, False, False, False, False, False, False, False, False, False, False, False, True, False, False, False, False, False, False, False, False, False, False, False, False, False, False, False, False, False, False, False, True, False, False, False, False, False, False, False, False, False, False, False, True, False, False, False, False, False, False, False, False, False, False, False, False, False, False, False, False, False, False, False, False, False, False, False, False, False, False, False, False, False, False, False, False, False, False, False, False, False, False, False, False, False, False, False, False, False, False, False, False, False, False, False, False, False, False, False, False, False, False, False, False, False, False, False, False, False, False, False, False, False, False, False, False, False, False, False, False, False, False, False, False, False, False, False, True, False, False, False, False, False, False, False, False, False, True, False, False, False, False, False, False, False, False, False, False, False, False, False, True, False, False, False, False, False, False, False, False, False, False, False, True, False, False, False, False, False, False, False, False, False, False, False, False, False, False, False, False, False, False, False, False, False, False, False, False, False, False, False, False, False, False, False, False, False, True, False, False, False, False, False, True, False, False, False, False, False, False, False, False, False, False, False, False, False, False, False, False, False, False, False, False, False, False, False, False, False, False, False, False, False, False, False, False, False, False, False, False, False, True, False, False, False, False, False, False, False, False, False, False, False, False, False, False, False, False, False, False, False, False, False, False, False, False, False, False, False, False, False, False, False, False, False, False, False, False, False, False, False, False, False, True, False, False, False, False, False, False, False, False, False, False, False, False, False, False, False, False, False, False, False, False, False, False, False, False, False, False, False, False, False, False, False, False, False, False, False, False, False, False, False, False, False, False, False, False, False, False, False, False, False, False, False, False, False, False, False, False, False, False, False, True, False, False, False, False, False, False, False, False, False, False, False, False, False, False, False, False, False, False, False, False, False, False, False, False, False, False, False, False, False, False, False, False, False, False, False, False, False, False, False, False, False, False, False, False, False, True, False, False, False, False, False, False, False, False, False, False, False, False, False, False, False, False, False, False, False, False, False, False, False, False, False, False, False, False, False, False, False, False, False, False, False, False, False, False, False, False, False, False, False, False, False, False, False, True, False, True, False, False, False, False, False, False, False, False, False, True, False, False, False, False, False, False, False, False, False, False, False, False, False, False, False, False, False, False, False, False, False, False, False, False, False, False, False, False, False, False, False, True, False, False, False, False, False, False, False, False, False, True, False, False, False, False, False, True, False, False, False, False, False, False, False, False, False, False, False, False, False, False, False, False, False, False, False, False, False, False, False, False, False, False, False, False, False, False, False, False, False, False, False, False, False, False, False, False, False, False, False, False, False, False, False, False, False, False, False, False, False, False, False, False, False, False, False, False, False, False, False, False, False, False, False, False, False, False, False, False, False, False, False, False, False, False, False, False, False, False, False, False, False, False, False, False, False, False, False, True, False, False, False, False, False, False, False, False, False, True, False, False, False, False, False, False, False, False, False, False, False, False, False, False, False, False, False, False, False, False, False, False, False, False, False, False, False, False, False, False, False, False, False, False, False, False, False, False, False, False, False, False, False, False, False, False, False, False, False, False, False, False, False, False, False, False, False, False, False, False, False, False, False, False, False, False, False, False, False, False, False, False, False, False, False, False, False, False, False, False, False, False, False, False, False, False, False, False, False, False, False, True, False, False, False, False, False, False, False, False, False, True, False, False, False, False, False, True, False, False, False, False, False, False, False, False, False, False, False, False, False, False, False, False, False, False, False, False, False, False, False, False, False, False, False, False, False, False, False, False, False, False, False, False, False, False, False, False, False, False, False, False, False, False, False, False, False, False, False, False, False, True, False, False, False, False, False, False, False, False, False, False, False, False, False, False, False, False, False, False, False, False, False, False, False, False, False, False, False, False, False, False, False, False, False, False, False, False, False, False, False, False, False, False, False, False, False, False, False, False, False, False, False, False, False, False, False, False, False, False, False, False, False, False, False, False, False, False, False, False, False, False, False, False, False, False, False, False, False, False, False, False, False, False, False, False, False, False, False, False, False, False, False, False, False, False, False, False, False, False, False, False, False, False, False, False, False, False, False, False, False, False, False, False, False, False, False, False, False, False, False, False, False, False, False, False, False, False, False, False, False, False, False, False, False, False, False, False, False, True, False, False, False, False, False, False, False, False, False, False, False, False, False, False, False, False, False, True, False, False, False, False, False, False, False, False, False, False, False, False, False, False, False, False, False, False, False, False, False, False, False, False, False, False, False, False, False, False, False, False, False, False, False, False, False, False, False, False, False, False, False, False, False, False, False, False, False, False, False, False, False, False, False, False, False, False, False, False, False, False, False, False, False, False, False, False, False, False, False, False, False, False, False, False, False, False, False, False, False, False, False, True, False, False, False, False, False, False, False, False, False, False, False, False, False, False, False, False, False, False, False, False, False, False, False, False, False, False, False, False, False, False, False, False, False, False, False, False, False, False, False, False, False, False, False, False, False, False, False, False, False, True, False, False, False, False, False, False, False, False, False, False, False, False, False, False, False, False, False, False, False, False, False, False, False, False, False, False, False, False, False, False, False, False, False, False, False, True, False, False, False, False, False, False, False, False, False, True, False, False, False, False, False, False, False, False, False, False, False, False, False, False, False, False, False, False, False, False, False, False, False, False, False, False, False, False, False, False, False, False, False, False, False, False, False, False, False, False, False, False, False, False, False, False, False, False, False, False, False, False, False, False, False, False, False, False, False, False, False, False, False, False, False, False, False, False, False, False, False, True, False, False, False, False, False, False, False, False, False, False, False, False, False, False, False, False, False, True, False, False, False, False, False, False, False, False, False, False, False, False, False, False, False, False, False, False, False, False, False, False, False, False, False, False, False, False, False, False, False, False, False, False, False, False, False, False, False, False, False, False, False, False, False, False, False, False, False, True, False, False, False, False, False, False, False, False, False, False, False, False, False, False, False, False, False, False, False, False, False, False, False, True, False, False, False, False, False, False, False, False, False, False, False, False, False, False, False, False, False, False, False, False, False, False, False, False, False, False, False, False, False, False, False, False, False, False, False, False, False, False, False, False, False, False, False, False, False, False, False, False, False, False, False, False, False, False, False, False, False, False, False, False, False, False, False, False, False, False, False, False, False, False, False, False, False, False, False, False, False, False, False, False, False, False, False, False, False, False, False, False, False, True, False, False, False, False, False, False, False, False, False, False, False, False, False, False, False, False, False, False, False, False, False, False, False, False, False, False, False, True, False, True, False, False, False, False, False, False, False, False, False, False, False, False, False, False, False, False, False, False, False, False, False, False, False, False, False, False, False, False, False, False, False, False, False, False, False, False, False, False, False, False, False, False, False, False, False, False, False, False, False, False, False, False, False, False, False, False, False, False, False, False, False, False, False, False, False, False, False, False, False, False, False, False, False, False, False, True, False, False, False, False, False, False, False, False, False, False, False, False, False, False, False, False, False, False, False, False, False, False, False, False, False, False, False, False, False, False, False, False, False, False, False, True, False, False, False, False, False, False, False, True, False, False, False, False, False, False, False, False, False, False, False, False, False, False, False, False, False, False, False, False, False, True, False, False, False, False, False, True, False, False, False, False, False, False, False, False, False, False, False, False, False, False, False, False, False, False, False, False, False, False, False, False, False, False, False, False, False, False, False, False, False, False, False, False, False, False, False, False, False, True, False, False, False, False, False, True, False, False, False, False, False, False, False, False, False, False, False, False, False, False, False, False, False, False, False, False, False, False, False, False, False, True, False, False, False, False, False, False, False, False, False, False, False, False, False, False, False, False, False, False, False, False, False, False, False, False, False, False, False, True, False, False, False, False, False, False, False, False, False, False, False, False, False, False, False, False, False, False, False, False, False, False, False, False, False, False, False, False, False, True, False, False, False, False, False, True, False, True, False, False, False, False, False, False, False, False, False, False, False, False, False, False, False, False, False, False, False, False, False, False, False, False, False, False, False, True, False, False, False, False, False, True, False, False, False, False, False, False, False, False, False, False, False, False, False, False, False, False, False, False, False, False, False, False, False, False, False, True, False, False, False, False, False, False, False, False, False, False, False, False, False, False, False, False, False, False, False, False, False, False, False, False, False, False, False, False, False, False, False, False, False, False, False, False, False, False, False, True, False, True, False, False, False, False, False, False, False, False, False, True, False, False, False, False, False, False, False, True, False, False, False, False, False, False, False, False, False, False, False, False, False, False, False, False, False, False, False, False, False, False, False, False, False, False, False, False, False, False, False, False, False, False, False, False, False, False, False, False, False, False, False, False, False, False, False, False, False, False, False, True, False, False, False, False, False, False, False, False, False, False, False, False, False, False, False, False, False, False, False, False, False, False, False, False, False, False, False, False, False, False, False, False, False, False, False, False, False, False, False, False, False, False, False, False, False, False, False, False, False, False, False, False, False, False, False, False, False, False, False, False, False, False, False, False, False, False, False, True, False, False, False, False, False, False, False, False, False, False, False, False, False, False, False, False, False, False, False, False, False, False, False, False, False, False, False, False, False, False, False, False, False, False, False, False, False, False, False, False, False, False, False, False, False, False, False, False, False, False, False, False, False, False, False, False, False, False, False, False, False, False, False, False, False, False, False, False, False, False, False, False, False, False, False, False, False, False, False, False, False, False, False, False, False, False, False, False, False, False, False, False, False, False, False, False, False, False, False, False, False, False, False, False, False, False, False, False, False, False, False, True, False, False, False, False, False, True, False, False, False, False, False, False, False, False, False, False, False, False, False, False, False, False, False, False, False, False, False, False, False, True, False, False, False, False, False, False, False, False, False, False, False, False, False, False, False, False, False, False, False, False, False, False, False, False, False, False, False, False, False, False, False, False, False, False, False, False, False, False, False, False, False, False, False, False, False, False, False, False, False, False, False, False, False, False, False, False, False, False, False, False, False, False, False, False, False, False, False, False, False, False, False, False, False, False, False, False, False, False, False, False, False, False, False, False, False, False, False, False, False, False, False, False, False, False, False, False, False, True, False, False, False, False, False, False, False, False, False, False, False, False, False, False, False, False, False, False, False, False, False, True, False, False, False, False, False, False, False, False, False, False, False, False, False, False, False, False, False, False, False, False, False, False, False, False, False, False, False, False, False, False, False, False, False, False, False, False, False, False, False, False, False, False, False, False, False, False, False, False, False, False, False, False, False, False, False, False, False, False, False, False, False, False, False, False, False, False, False, False, False, False, False, False, False, False, False, False, False, False, False, False, False, False, False, False, False, False, False, False, False, False, False, False, False, False, False, False, False, False, False, False, False, True, False, False, False, False, False, True, False, False, False, False, False, False, False, False, False, False, False, False, False, False, False, False, False, False, False, False, False, False, False, False, False, False, False, False, False, False, False, False, False, False, False, False, False, True, False, False, False, False, False, False, False, False, False, False, False, False, False, False, False, False, False, False, False, False, False, False, False, True, False, False, False, False, False, False, False, False, False, False, False, False, False, False, False, False, False, False, False, False, False, False, False, False, False, False, False, False, False, False, False, False, False, False, False, False, False, False, False, True, False, False, False, False, False, False, False, False, False, False, False, False, False, False, False, False, False, False, False, False, False, False, False, False, False, False, False, False, False, False, False, True, False, False, False, False, False, False, False, False, False, False, False, False, False, False, False, False, False, False, False, False, False, False, False, True, False, False, False, False, False, False, False, False, False, False, False, False, False, False, False, False, False, False, False, False, False, False, False, False, False, False, False, False, False, False, False, False, False, True, False, False, False, False, False, False, False, False, False, False, False, True, False, False, False, False, False, True, False, False, False, False, False, False, False, True, False, False, False, False, False, False, False, False, False, True, False, False, False, False, False, False, False, False, False, False, False, False, False, False, False, False, False, False, False, False, False, False, False, False, False, False, False, False, False, True, False, True, False, False, False, False, False, False, False, False, False, False, False, False, False, False, False, False, False, False, False, False, False, False, False, True, False, False, False, False, False, False, False, False, False, False, False, False, False, False, False, False, False, False, False, False, False, False, False, False, False, False, False, False, False, False, False, False, False, False, False, False, False, False, False, False, False, False, False, False, False, False, False, False, False, False, False, False, False, False, False, False, False, False, False, False, False, False, False, True, False, False, False, False, False, False, False, False, False, False, False, False, False, False, False, False, False, False, False, False, False, False, False, False, False, True, False, False, False, False, False, False, False, False, False, False, False, False, False, False, False, False, False, True, False, False, False, False, False, True, False, False, False, False, False, False, False, False, False, False, False, True, False, False, False, True, False, False, False, False, False, False, False, False, False, False, False, False, False, False, False, False, False, True, False, False, False, False, False, False, False, False, False, False, False, False, False, False, False, False, False, False, False, False, False, False, False, False, False, False, False, False, False, False, False, False, False, False, False, False, False, False, False, False, False, False, False, False, False, False, False, False, False, False, False, False, False, False, False, False, False, False, False, False, False, False, False, False, False, True, False, False, False, False, False, True, False, False, False, False, False, False, False, False, False, False, False, False, False, False, False, False, False, False, False, False, False, False, False, False, False, False, False, False, False, False, False, False, False, False, False, True, False, False, False, False, False, False, False, False, False, False, False, False, False, False, False, False, False, False, False, False, False, False, False, False, False, False, False, False, False, False, False, True, False, False, False, False, False, False, False, False, False, False, False, False, False, False, False, False, False, False, False, False, False, False, False, False, False, False, False, False, False, False, False, False, False, False, False, False, False, False, False, False, False, False, False, False, False, False, False, True, False, False, False, False, False, False, False, False, False, False, False, False, False, False, False, False, False, False, False, False, False, False, False, True, False, False, False, False, False, False, False, False, False, False, False, False, False, False, False, False, False, False, False, False, False, False, False, False, False, False, False, False, False, False, False, False, False, False, False, False, False, False, False, False, False, False, False, False, False, False, False, False, False, False, False, False, False, False, False, False, False, False, False, False, False, False, False, False, False, False, False, False, False, False, False, False, False, False, False, False, False, False, False, False, False, False, False, False, False, False, False, False, False, False, False, False, False, False, False, False, False, False, False, False, False, False, False, False, False, False, False, False, False, False, False, False, False, False, False, False, False, False, False, False, False, False, False, False, False, True, False, False, False, True, False, False, False, False, False, False, False, False, False, False, False, False, False, False, False, False, False, False, False, False, False, False, False, False, False, False, False, False, False, False, False, False, False, False, False, False, False, False, False, False, False, False, False, False, False, False, False, False, False, False, False, False, False, False, False, False, False, False, False, False, False, False, False, False, False, False, False, False, False, False, False, False, False, False, False, False, False, False, False, False, False, False, False, False, False, False, False, False, False, False, False, False, False, False, False, False, False, True, False, False, False, False, False, True, False, False, False, False, False, False, False, False, False, False, False, False, False, False, False, False, False, False, False, False, False, False, False, False, False, False, False, False, False, False, False, False, False, False, False, False, False, False, False, False, False, True, False, False, False, False, False, False, False, False, False, False, False, False, False, False, False, False, False, False, False, False, False, False, False, False, False, False, False, True, False, False, False, False, False, False, False, False, False, False, False, True, False, False, False, False, False, False, False, False, False, False, False, True, False, True, False, False, False, False, False, False, False, False, False, False, False, False, False, False, False, False, False, False, False, False, False, False, False, False, False, False, False, False, False, False, False, False, False, False, False, False, False, False, False, False, False, False, False, False, False, False, False, False, False, False, False, False, False, False, False, False, False, False, False, False, False, False, False, False, False, False, False, False, False, False, False, False, False, False, False, False, False, False, False, False, False, False, False, False, False, False, False, False, False, False, False, False, False, False, False, False, False, False, False, False, False, False, False, False, False, False, False, False, False, False, False, False, False, False, False, False, False, False, False, False, False, False, False, False, False, False, False, False, False, False, False, False, False, False, False, False, False, False, False, False, False, False, False, False, False, False, False, False, False, False, False, False, False, False, False, True, False, False, False, False, False, False, False, False, False, False, False, True, False, False, False, False, False, False, False, False, False, False, False, False, False, False, False, False, False, False, False, False, False, False, False, False, False, False, False, True, False, False, False, False, False, False, False, False, False, False, False, False, False, True, False, False, False, False, False, True, False, False, False, False, False, False, False, False, False, False, False, False, False, False, False, False, False, False, False, False, False, False, False, False, False, False, False, False, False, False, False, False, False, True, False, False, False, False, False, False, False, False, False, False, False, False, False, False, False, False, False, False, False, False, False, False, False, False, False, False, False, False, False, True, False, False, False, False, False, False, False, False, False, False, False, False, False, True, False, False, False, False, False, False, False, False, False, False, False, True, False, False, False, False, False, False, False, False, False, False, False, False, False, False, False, False, False, False, False, False, False, False, False, False, False, False, False, False, False, False, False, False, False, True, False, False, False, False, False, False, False, False, False, False, False, False, False, False, False, False, False, False, False, False, False, False, False, False, False, False, False, False, False, False, False, False, False, False, False, False, False, False, False, False, False, False, False, False, False, False, False, False, False, True, False, False, False, False, False, False, False, False, False, False, False, False, False, False, False, False, False, False, False, False, False, False, False, False, False, False, False, False, False, False, False, False, False, False, False, False, False, False, False, False, False, False, False, False, False, False, False, True, False, False, False, False, False, False, False, False, False, False, False, False, False, False, False, True, False, False, False, False, False, False, False, False, False, False, False, False, False, True, False, False, False, False, False, False, False, False, False, False, False, False, False, False, False, False, False, False, False, False, False, False, False, False, False, False, False, False, False, False, False, False, False, False, False, False, False, False, False, False, False, False, False, False, False, True, False, False, False, False, False, False, False, False, False, False, False, False, False, False, False, False, False, False, False, False, False, False, False, False, False, False, False, False, False, False, False, True, False, False, False, False, False, False, False, False, False, False, False, False, False, False, False, False, False, False, False, False, False, False, False, True, False, False, False, False, False, False, False, False, False, False, False, False, False, False, False, False, False, False, False, False, False, False, False, False, False, False, False, False, False, False, False, False, False, False, False, False, False, False, False, False, False, False, False, False, False, True, False, True, False, False, False, False, False, False, False, False, False, False, False, False, False, False, False, False, False, False, False, False, False, False, False, False, False, False, False, False, False, True, False, False, False, False, False, False, False, False, False, False, False, False, False, False, False, False, False, False, False, False, False, False, False, False, False, False, False, False, False, True, False, False, False, False, False, False, False, False, False, False, False, False, False, False, False, False, False, False, False, False, False, False, False, False, False, False, False, True, False, False, False, False, False, False, False, False, False, False, False, False, False, False, False, False, False, False, False, False, False, False, False, False, False, False, False, False, False, False, False, False, False, False, False, False, False, False, False, False, False, False, False, False, False, False, False, False, False, False, False, False, False, False, False, False, False, False, False, True, False, False, False, False, False, False, False, False, False, False, False, False, False, False, False, False, False, False, False, False, False, False, False, False, False, False, False, False, False, False, False, False, False, False, False, False, False, False, False, False, False, False, False, False, False, False, False, False, False, False, False, False, False, False, False, False, False, False, False, False, False, False, False, False, False, False, False, False, False, False, False, False, False, False, False, False, False, False, False, False, False, False, False, False, False, False, False, False, False, False, False, False, False, False, False, False, False, False, False, False, False, False, False, False, False, False, False, False, False, False, False, False, False, True, False, False, False, False, False, False, False, True, False, False, False, False, False, False, False, False, False, False, False, False, False, False, False, False, False, False, False, False, False, False, False, False, False, False, False, False, False, False, False, False, False, False, False, False, False, False, False, False, False, False, False, False, False, False, False, False, False, False, False, False, False, False, False, False, False, False, False, False, False, False, False, False, False, False, False, False, False, False, False, False, False, False, False, False, False, False, False, False, False, False, False, False, False, False, False, True, False, False, False, False, False, False, False, True, False, False, False, False, False, True, False, False, False, False, False, False, False, False, False, True, False, False, False, False, False, False, False, False, False, False, False, False, False, False, False, False, False, False, False, False, False, False, False, False, False, True, False, False, False, False, False, False, False, False, False, False, False, False, False, False, False, False, False, False, False, False, False, False, False, False, False, False, False, True, False, False, False, False, False, False, False, False, False, False, False, False, False, False, False, False, False, False, False, True, False, False, False, False, False, True, False, False, False, True, False, False, False, False, False, True, False, False, False, False, False, False, False, False, False, False, False, False, False, False, False, False, False, False, False, False, False, False, False, False, False, False, False, False, False, True, False, False, False, False, False, False, False, False, False, False, False, False, False, False, False, False, False, False, False, False, False, False, False, False, False, False, False, False, False, False, False, False, False, False, False, False, False, False, False, False, False, False, False, False, False, False, False, False, False, False, False, False, False, False, False, False, False, False, False, False, False, False, False, False, False, False, False, False, False, False, False, False, False, False, False, False, False, False, False, False, False, False, False, False, False, False, False, False, False, False, False, False, False, False, False, False, False, False, False, False, False, False, False, False, False, False, False, False, False, True, False, False, False, False, False, False, False, False, False, False, False, False, False, False, False, False, False, False, False, False, False, False, False, False, False, False, False, False, False, False, False, False, False, False, False, False, False, False, False, False, False, False, False, False, False, False, False, False, False, False, False, False, False, False, False, False, False, False, False, True, False, False, False, False, False, False, False, False, False, False, False, False, False, False, False, False, False, False, False, False, False, False, False, False, False, False, False, False, False, False, False, False, False, False, False, False, False, False, False, True, False, False, False, False, False, False, False, False, False, False, False, False, False, False, False, False, False, False, False, False, False, False, False, False, False, False, False, False, False, False, False, False, False, False, False, False, False, False, False, False, False, False, False, False, False, False, False, False, False, False, False, False, False, False, False, False, False, False, False, False, False, False, False, False, False, True, False, False, False, False, False, False, False, False, False, False, False, False, False, False, False, False, False, False, False, False, False, False, False, False, False, False, False, False, False, False, False, False, False, False, False, False, False, False, False, False, False, True, False, True, False, False, False, False, False, True, False, False, False, False, False, False, False, False, False, False, False, True, False, False, False, False, False, False, False, False, False, False, False, False, False, False, False, False, False, True, False, False, False, False, False, False, False, False, False, False, False, False, False, False, False, False, False, False, False, False, False, False, False, False, False, False, False, False, False, False, False, False, False, False, False, False, False, False, False, False, False, True, False, False, False, False, False, False, False, False, False, False, False, False, False, False, False, False, False, False, False, False, False, False, False, False, False, False, False, False, False, False, False, False, False, False, False, False, False, False, False, False, False, True, False, False, False, False, False, False, False, False, False, False, False, False, False, False, False, False, False, True, False, False, False, False, False, False, False, False, False, False, False, False, False, False, False, False, False, True, False, False, False, False, False, False, False, False, False, False, False, False, False, False, False, False, False, False, False, False, False, False, False, False, False, False, False, False, False, False, False, False, False, False, False, False, False, False, False, True, False, False, False, False, False, False, False, False, False, False, False, False, False, False, False, False, False, False, False, True, False, False, False, False, False, False, False, False, False, False, False, False, False, False, False, False, False, False, False, False, False, False, False, True, False, False, False, False, False, False, False, False, False, False, False, False, False, False, False, False, False, False, False, False, False, False, False, False, False, False, False, False, False, False, False, False, False, False, False, False, False, False, False, False, False, False, False, False, False, True, False, False, False, False, False, False, False, True, False, False, False, False, False, False, False, False, False, False, False, False, False, False, False, False, False, False, False, False, False, False, False, False, False, False, False, False, False, False, False, False, False, False, False, True, False, False, False, False, False, False, False, False, False, False, False, False, False, False, False, False, False, False, False, False, False, False, False, False, False, False, False, False, False, False, False, False, False, False, False, False, False, False, False, False, False, False, False, False, False, False, False, False, False, False, False, False, False, False, False, False, False, False, False, False, False, False, False, False, False, False, False, False, False, False, False, False, False, False, False, False, False, False, False, False, False, False, False, False, False, False, False, False, False, False, False, False, False, False, False, False, False, False, False, False, False, False, False, False, False, False, False, False, False, False, False, False, False, False, False, False, False, False, False, False, False, False, False, False, False, False, False, False, False, False, False, False, False, False, False, False, False, False, False, False, False, False, False, False, False, False, False, False, False, True, False, False, False, True, False, False, False, False, False, False, False, False, False, False, False, False, False, False, False, False, False, False, False, False, False, False, False, False, False, False, False, False, False, False, False, False, False, False, False, False, False, False, False, False, False, False, False, False, False, False, False, False, False, False, False, False, False, False, False, False, False, False, False, False, False, False, False, False, False, False, False, False, False, False, False, False, False, False, False, False, False, False, False, False, False, False, False, False, False, False, False, False, False, True, False, False, False, False, False, False, False, False, False, False, False, False, False, False, False, False, False, False, False, False, False, False, False, False, False, True, False, False, False, False, False, False, False, False, False, False, False, False, False, False, False, False, False, False, False, False, False, False, False, False, False, False, False, False, False, False, False, False, False, False, False, True, False, False, False, False, False, False, False, False, False, False, False, False, False, False, False, False, False, False, False, False, False, False, False, True, False, False, False, False, False, False, False, False, False, False, False, False, False, False, False, False, False, True, False, False, False, False, False, False, False, False, False, False, False, True, False, False, False, False, False, False, False, False, False, False, False, False, False, False, False, False, False, False, False, False, False, False, False, False, False, False, False, False, False, False, False, False, False, False, False, False, False, False, False, False, False, False, False, False, False, False, False, False, False, False, False, False, False, False, False, False, False, False, False, False, False, False, False, True, False, False, False, False, False, True, False, False, False, False, False, False, False, False, False, False, False, False, False, False, False, False, False, False, False, False, False, False, False, False, False, False, False, False, False, False, False, False, False, False, False, False, False, False, False, False, False, False, False, False, False, False, False, False, False, False, False, False, False, False, False, False, False, False, False, False, False, False, False, False, False, False, False, False, False, False, False, False, False, False, False, False, False, True, False, False, False, False, False, False, False, False, False, False, False, False, False, False, False, False, False, False, False, False, False, False, False, False, False, False, False, False, False, False, False, False, False, False, False, False, False, False, False, False, False, False, False, False, False, False, False, False, False, False, False, False, False, False, False, False, False, False, False, False, False, False, False, False, False, False, False, False, False, False, False, True, False, False, False, False, False, False, False, False, False, False, False, False, False, False, False, False, False, False, False, False, False, False, False, False, False, False, False, False, False, False, False, False, False, False, False, False, False, False, False, False, False, False, False, False, False, False, False, False, False, False, False, False, False, False, False, False, False, False, False, False, False, False, False, False, False, False, False, False, False, False, False, False, False, False, False, False, False, True, False, False, False, False, False, False, False, False, False, False, False, True, False, False, False, False, False, False, False, False, False, False, False, False, False, False, False, False, False, False, False, False, False, False, False, False, False, False, False, False, False, False, False, False, False, False, False, False, False, False, False, False, False, False, False, True, False, False, False, False, False, False, False, False, False, False, False, False, False, False, False, False, False, False, False, False, False, False, False, False, False, False, False, False, False, False, False, False, False, False, False, False, False, False, False, False, False, False, False, False, False, True, False, False, False, False, False, False, False, False, False, False, False, False, False, False, False, False, False, False, False, False, False, False, False, False, False, False, False, False, False, False, False, False, False, False, False, False, False, True, False, False, False, False, False, False, False, False, False, False, False, False, False, False, False, False, False, False, False, False, False, False, False, False, False, False, False, False, False, False, False, False, False, False, False, False, False, False, False, False, False, False, False, False, False, False, False, False, False, False, False, False, False, False, False, False, False, False, False, False, False, False, False, False, False, False, False, False, False, False, False, False, False, False, False, False, False, False, False, False, False, False, False, False, False, False, False, False, False, False, False, False, False, False, False, False, False, False, False, False, False, False, False, False, False, False, False, False, False, False, False, False, False, False, False, False, False, False, False, False, False, False, False, False, False, False, False, False, False, False, False, False, False, False, False, False, False, False, False, False, False, False, False, False, False, False, False, False, False, False, False, False, False, False, False, False, False, False, False, False, False, False, False, False, False, False, False, False, False, False, False, False, False, False, False, False, False, False, False, False, False, False, False, False, False, False, False, False, False, True, False, False, False, False, False, False, False, False, False, False, False, False, False, False, False, False, False, False, False, True, False, False, False, False, False, False, False, False, False, False, False, False, False, False, False, False, False, False, False, False, False, False, False, False, False, False, False, False, False, False, False, False, False, False, False, False, False, False, False, False, False, False, False, False, False, False, False, False, False, False, False, False, False, False, False, False, False, False, False, False, False, False, False, False, False, False, False, False, False, False, False, False, False, False, False, True, False, False, False, False, False, False, False, False, False, False, False, False, False, False, False, False, False, False, False, True, False, False, False, False, False, False, False, False, False, False, False, False, False, False, False, False, False, False, False, False, False, False, False, True, False, False, False, False, False, False, False, False, False, False, False, False, False, False, False, False, False, False, False, False, False, False, False, False, False, False, False, False, False, False, False, False, False, False, False, False, False, False, False, False, False, False, False, False, False, False, False, False, False, False, False, False, False, False, False, False, False, False, False, False, False, False, False, False, False, True, False, False, False, True, False, False, False, False, False, False, False, False, False, False, False, False, False, False, False, False, False, False, False, False, False, False, False, False, False, False, False, False, False, True, False, False, False, False, False, False, False, False, False, False, False, True, False, False, False, False, False, False, False, False, False, False, False, False, False, False, False, False, False, True, False, False, False, False, False, False, False, False, False, False, False, False, False, False, False, False, False, False, False, False, False, False, False, False, False, False, False, False, False, False, False, False, False, False, False, False, False, False, False, False, False, False, False, False, False, False, False, True, False, False, False, False, False, False, False, False, False, False, False, False, False, True, False, False, False, False, False, False, False, False, False, False, False, False, False, False, False, False, False, False, False, False, False, False, False, False, False, False, False, False, False, False, False, False, False, False, False, False, False, False, False, False, False, False, False, False, False, False, False, False, False, False, False, False, False, False, False, False, False, True, False, False, False, False, False, False, False, False, False, False, False, False, False, False, False, False, False, False, False, False, False, False, False, False, False, False, False, False, False, False, False, False, False, False, False, False, False, False, False, False, False, False, False, False, False, False, False, False, False, False, False, False, False, False, False, False, False, False, False, False, False, False, False, False, False, False, False, False, False, False, False, False, False, False, False, False, False, False, False, False, False, False, False, False, False, False, False, False, False, False, False, False, False, False, False, False, False, False, False, False, False, False, False, False, False, False, False, False, False, False, False, False, False, False, False, False, False, False, False, False, False, False, False, False, False, True, False, False, False, False, False, False, False, False, False, False, False, False, False, False, False, False, False, False, False, False, False, False, False, False, False, False, False, False, False, False, False, False, False, False, False, False, False, False, False, False, False, False, False, False, False, False, False, False, False, False, False, False, False, False, False, False, False, False, False, False, False, False, False, False, False, False, False, False, False, False, False, False, False, False, False, False, False, False, False, False, False, False, False, False, False, False, False, False, False, False, False, False, False, False, False, False, False, False, False, False, False, True, False, False, False, False, False, False, False, False, False, False, False, False, False, True, False, False, False, False, False, False, False, False, False, False, False, False, False, False, False, False, False, False, False, False, False, False, False, False, False, False, False, False, False, True, False, False, False, False, False, True, False, False, False, False, False, False, False, False, False, False, False, False, False, False, False, False, False, False, False, False, False, False, False, False, False, False, False, True, False, False, False, False, False, True, False, False, False, False, False, False, False, False, False, False, False, False, False, False, False, False, False, False, False, False, False, False, False, True, False, True, False, False, False, False, False, False, False, False, False, False, False, False, False, False, False, False, False, False, False, False, False, False, False, False, False, False, False, False, False, False, False, False, False, False, False, False, False, False, False, False, False, False, False, False, False, False, False, False, False, False, False, False, False, False, False, False, False, False, False, False, False, False, False, False, False, False, False, False, False, True, False, True, False, False, False, False, False, False, False, False, False, False, False, False, False, False, False, False, False, False, False, False, False, False, False, False, False, False, False, False, False, False, False, False, False, False, False, False, False, False, False, False, False, False, False, False, False, True, False, False, False, False, False, False, False, False, False, False, False, False, False, False, False, False, False, False, False, False, False, False, False, False, False, False, False, False, False, False, False, False, False, False, False, False, False, False, False, False, False, False, False, False, False, False, False, False, False, False, False, False, False, False, False, False, False, False, False, False, False, False, False, False, False, False, False, False, False, False, False, False, False, False, False, False, False, False, False, False, False, False, False, False, False, False, False, False, False, True, False, True, False, False, False, False, False, False, False, False, False, True, False, False, False, False, False, False, False, True, False, False, False, False, False, False, False, False, False, False, False, False, False, False, False, False, False, False, False, False, False, False, False, False, False, False, False, False, False, False, False, False, False, True, False, False, False, False, False, False, False, False, False, False, False, False, False, False, False, False, False, False, False, False, False, False, False, False, False, False, False, False, False, False, False, False, False, False, False, False, False, False, False, False, False, False, False, False, False, False, False, True, False, False, False, False, False, False, False, False, False, False, False, False, False, False, False, False, False, False, False, False, False, False, False, False, False, False, False, False, False, True, False, False, False, False, False, False, False, False, False, False, False, False, False, False, False, False, False, False, False, False, False, False, False, False, False, False, False, False, False, False, False, False, False, False, False, False, False, False, False, False, False, False, False, False, False, False, False, False, False, False, False, False, False, False, False, False, False, False, False, False, False, False, False, False, False, False, False, False, False, False, False, False, False, False, False, False, False, False, False, False, False, False, False, False, False, False, False, False, False, False, False, True, False, False, False, False, False, False, False, False, False, False, False, True, False, False, False, False, False, True, False, False, False, False, False, False, False, False, False, False, False, False, False, False, False, False, False, False, False, False, False, False, False, False, False, False, False, False, False, False, False, False, False, False, False, False, False, False, False, False, False, False, False, False, False, False, False, False, False, False, False, True, False, False, False, False, False, True, False, True, False, False, False, False, False, False, False, False, False, False, False, False, False, False, False, False, False, False, False, False, False, False, False, False, False, False, False, False, False, False, False, False, False, False, False, False, False, False, False, False, False, False, False, False, False, False, False, True, False, False, False, False, False, False, False, False, False, False, False, True, False, False, False, False, False, False, False, False, False, True, False, False, False, False, False, False, False, False, False, False, False, False, False, False, False, False, False, False, False, False, False, False, False, False, False, False, False, False, False, False, False, False, False, False, False, False, False, True, False, False, False, False, False, False, False, False, False, False, False, False, False, False, False, False, False, False, False, False, False, False, False, False, False, False, False, False, False, False, False, False, False, False, False, False, False, False, False, True, False, False, False, False, False, False, False, False, False, False, False, True, False, False, False, False, False, False, False, False, False, False, False, False, False, False, False, False, False, False, False, False, False, False, False, False, False, False, False, False, False, False, False, False, False, False, False, False, False, False, False, False, False, False, False, False, False, False, False, False, False, False, False, False, False, False, False, False, False, False, False, False, False, False, False, False, False, False, False, False, False, False, False, False, False, False, False, False, False, False, False, False, False, False, False, False, False, False, False, False, False, False, False, False, False, False, False, False, False, True, False, False, False, True, False, False, False, False, False, False, False, False, False, False, False, False, False, False, False, False, False, False, False, False, False, False, False, False, False, True, False, False, False, True, False, False, False, False, False, False, False, False, False, False, False, False, False, False, False, False, False, False, False, True, False, False, False, False, False, True, False, False, False, False, False, False, False, False, False, False, False, False, False, False, False, False, False, False, False, False, False, True, False, False, False, False, False, False, False, False, False, False, False, False, False, False, False, False, False, False, False, False, False, False, False, False, False, False, False, False, False, False, False, False, False, False, False, False, False, False, False, False, False, False, False, False, False, False, False, False, False, False, False, False, False, False, False, False, False, False, False, False, False, False, False, False, False, False, False, False, False, False, False, False, False, False, False, False, False, False, False, False, False, False, False, False, False, False, False, False, False, False, False, False, False, False, False, False, False, False, False, False, False, False, False, True, False, False, False, False, False, False, False, False, False, False, False, False, False, False, False, False, False, True, False, False, False, False, False, False, False, False, False, False, False, False, False, False, False, False, False, False, False, False, False, False, False, False, False, False, False, True, False, False, False, False, False, False, False, True, False, False, False, False, False, False, False, False, False, False, False, False, False, False, False, False, False, False, False, False, False, False, False, False, False, False, False, False, False, False, False, False, False, False, False, False, False, False, False, False, False, False, False, False, False, False, False, False, False, False, False, False, False, True, False, False, False, False, False, False, False, False, False, False, False, False, False, False, False, False, False, False, False, False, False, False, False, False, False, False, False, False, False, True, False, False, False, False, False, False, False, False, False, False, False, False, False, False, False, False, False, False, False, False, False, False, False, False, False, False, False, False, False, False, False, False, False, False, False, False, False, False, False, False, False, False, False, False, False, False, False, False, False, False, False, False, False, False, False, False, False, False, False, False, False, False, False, False, False, False, False, False, False, True, False, False, False, False, False, False, False, False, False, False, False, False, False, False, False, False, False, False, False, False, False, False, False, False, False, False, False, False, False, False, False, True, False, False, False, False, False, False, False, False, False, False, False, False, False, False, False, True, False, False, False, False, False, False, False, False, False, False, False, False, False, False, False, False, False, False, False, False, False, False, False, False, False, False, False, False, False, False, False, False, False, False, False, False, False, False, False, False, False, False, False, False, False, False, False, False, False, True, False, False, False, True, False, False, False, False, False, False, False, True, False, False, False, False, False, False, False, False, False, False, False, False, False, False, False, False, False, False, False, False, False, False, False, False, False, False, False, False, False, False, False, False, False, False, False, False, False, False, False, False, False, False, False, False, False, True, False, True, False, False, False, False, False, False, False, False, False, False, False, False, False, False, False, False, False, False, False, False, False, False, False, False, False, False, False, False, False, False, False, False, False, False, False, False, False, False, False, False, False, False, False, False, False, False, False, False, False, False, False, False, False, False, False, False, False, False, False, False, False, False, False, False, False, False, False, False, False, False, False, False, False, False, False, False, False, False, False, False, False, False, False, False, False, False, False, False, False, False, False, False, False, False, False, False, False, False, False, False, False, False, False, False, False, False, False, True, False, False, False, False, False, False, False, False, False, False, False, False, False, False, False, False, False, False, False, False, False, False, False, False, False, False, False, False, False, False, False, False, False, False, False, False, False, False, False, False, False, False, False, False, False, False, False, False, False, False, False, True, False, False, False, False, False, False, False, False, False, False, False, False, False, True, False, False, False, True, False, True, False, False, False, False, False, False, False, False, False, False, False, False, False, False, False, False, False, False, False, False, False, False, False, False, False, False, False, False, False, False, False, False, False, False, False, False, False, False, False, False, False, False, False, False, False, False, False, False, False, False, False, False, False, False, False, False, False, False, False, False, False, False, False, False, False, False, False, False, False, False, False, False, False, False, False, False, False, False, False, False, False, True, False, False, False, False, False, False, False, False, False, False, False, False, False, False, False, False, False, False, False, False, False, False, False, False, False, False, False, False, False, False, False, False, False, False, False, False, False, False, False, False, False, False, False, False, False, False, False, False, False, False, False, False, False, False, False, False, False, False, False, False, False, False, False, False, False, False, False, False, False, False, False, False, False, False, False, False, False, False, False, False, False, False, False, False, False, False, False, False, False, False, False, False, False, False, False, False, False, False, False, False, False, False, False, False, False, False, False, True, False, False, False, False, False, False, False, False, False, False, False, False, False, False, False, False, False, False, False, False, False, False, False, False, False, False, False, False, False, False, False, False, False, False, False, False, False, False, False, False, False, False, False, False, False, False, False, False, False, False, False, False, False, False, False, False, False, False, False, False, False, False, False, False, False, False, False, False, False, False, False, False, False, False, False, False, False, False, False, False, False, False, False, False, False, False, False, False, False, False, False, False, False, False, False, False, False, False, False, False, False, False, False, False, False, False, False, False, False, False, False, False, False, True, False, False, False, False, False, False, False, False, False, False, False, False, False, True, False, False, False, False, False, False, False, False, False, False, False, False, False, False, False, True, False, False, False, False, False, False, False, False, False, False, False, False, False, True, False, False, False, False, False, False, False, False, False, False, False, False, False, False, False, False, False, False, False, False, False, False, False, False, False, False, False, False, False, False, False, False, False, False, False, False, False, False, False, False, False, False, False, False, False, False, False, False, False, False, False, False, False, False, False, False, False, False, False, False, False, False, False, False, False, False, False, False, False, False, False, False, False, False, False, False, False, False, False, False, False, False, False, True, False, False, False, False, False, False, False, False, False, False, False, False, False, False, False, False, False, False, False, False, False, False, False, False, False, False, False, True, False, False, False, False, False, False, False, False, False, False, False, False, False, False, False, False, False, False, False, False, False, False, False, False, False, False, False, False, False, False, False, False, False, False, False, False, False, True, False, False, False, False, False, False, False, False, False, False, False, False, False, False, False, True, False, False, False, False, False, False, False, False, False, False, False, False, False, False, False, False, False, False, False, False, False, False, False, False, False, False, False, False, False, False, False, False, False, False, False, False, False, False, False, False, False, False, False, False, False, False, False, False, False, False, False, False, False, False, False, False, False, False, False, False, False, False, False, False, False, False, False, False, False, False, False, False, False, True, False, False, False, False, False, False, False, False, False, False, False, False, False, False, False, True, False, False, False, False, False, False, False, False, False, False, False, False, False, False, False, False, False, False, False, True, False, False, False, False, False, False, False, False, False, False, False, False, False, False, False, False, False, False, False, False, False, False, False, False, False, False, False, False, False, False, False, False, False, False, False, False, False, False, False, False, False, False, False, False, False, True, False, False, False, False, False, False, False, False, False, False, False, False, False, False, False, False, False, False, False, True, False, False, False, False, False, False, False, False, False, False, False, False, False, False, False, False, False, False, False, False, False, False, False, False, False, False, False, False, False, False, False, False, False, True, False, False, False, False, False, False, False, False, False, False, False, False, False, False, False, False, False, False, False, False, False, False, False, False, False, False, False, False, False, False, False, False, False, False, False, False, False, False, False, False, False, False, False, True, False, False, False, True, False, False, False, False, False, True, False, False, False, False, False, False, False, False, False, False, False, False, False, False, False, False, False, False, False, False, False, False, False, False, False, False, False, False, False, False, False, False, False, False, False, False, False, False, False, False, False, False, False, False, False, False, False, False, False, False, False, False, False, False, False, False, False, False, False, False, False, False, False, False, False, False, False, False, False, False, False, True, False, False, False, False, False, False, False, False, False, False, False, False, False, False, False, False, False, False, False, False, False, False, False, False, False, False, False, False, False, False, False, False, False, False, False, False, False, False, False, False, False, False, False, False, False, False, False, False, False, False, False, False, False, False, False, False, False, False, False, False, False, True, False, False, False, False, False, True, False, False, False, False, False, False, False, False, False, True, False, False, False, False, False, False, False, False, False, False, False, True, False, False, False, False, False, False, False, False, False, False, False, False, False, False, False, False, False, False, False, False, False, False, False, False, False, False, False, False, False, True, False, False, False, False, False, False, False, True, False, False, False, True, False, False, False, False, False, False, False, False, False, False, False, False, False, False, False, False, False, False, False, False, False, False, False, False, False, False, False, False, False, False, False, False, False, False, False, False, False, False, False, False, False, False, False, False, False, False, False, False, False, False, False, False, False, False, False, False, False, False, False, False, False, True, False, False, False, False, False, False, False, False, False, False, False, False, False, False, False, False, False, False, False, False, False, False, False, False, False, False, False, True, False, False, False, False, False, False, False, False, False, False, False, False, False, False, False, False, False, False, False, False, False, False, False, False, False, False, False, False, False, False, False, False, False, False, False, True, False, False, False, False, False, False, False, False, False, False, False, False, False, False, False, False, False, False, False, False, False, False, False, False, False, False, False, False, False, False, False, False, False, False, False, False, False, False, False, False, False, False, False, True, False, False, False, False, False, False, False, False, False, False, False, False, False, False, False, False, False, True, False, False, False, True, False, False, False, False, False, False, False, False, False, False, False, False, False, False, False, False, False, False, False, False, False, False, False, False, False, False, False, False, False, False, False, False, False, False, False, False, False, False, False, False, False, False, False, False, False, False, False, False, False, False, False, False, False, False, False, False, False, False, False, False, False, False, False, False, False, True, False, True, False, False, False, False, False, False, False, False, False, False, False, False, False, False, False, False, False, False, False, False, False, False, False, False, False, False, False, False, False, False, False, False, False, False, False, False, False, False, False, False, False, True, False, False, False, False, False, False, False, False, False, False, False, False, False, False, False, False, False, False, False, False, False, False, False, False, False, False, False, False, False, False, False, False, False, True, False, False, False, False, False, False, False, False, False, False, False, False, False, False, False, False, False, False, False, False, False, False, False, False, False, False, False, False, False, False, False, False, False, False, False, False, False, False, False, False, False, False, False, False, False, False, False, False, False, False, False, False, False, False, False, False, False, False, False, False, False, False, False, False, False, True, False, False, False, False, False, False, False, False, False, False, False, False, False, False, False, False, False, False, False, False, False, False, False, False, False, False, False, False, False, False, False, False, False, False, False, False, False, True, False, False, False, False, False, False, False, False, False, True, False, False, False, False, False, False, False, False, False, False, False, False, False, False, False, False, False, False, False, True, False, False, False, False, False, False, False, False, False, False, False, False, False, False, False, False, False, False, False, False, False, True, False, False, False, False, False, False, False, False, False, False, False, False, False, False, False, False, False, False, False, False, False, False, False, False, False, False, False, False, False, False, False, False, False, False, False, False, False, False, False, False, False, False, False, False, False, False, False, False, False, False, False, False, False, False, False, False, False, False, False, False, False, False, False, False, False, False, False, False, False, False, False, False, False, True, False, False, False, False, False, True, False, False, False, True, False, False, False, False, False, False, False, False, False, False, False, False, False, False, False, False, False, False, False, False, False, False, False, False, False, False, False, False, False, False, False, False, False, False, False, False, False, False, False, False, False, False, False, False, False, False, False, False, False, False, False, False, False, False, False, False, False, False, False, False, False, False, False, False, False, False, False, False, False, False, False, False, False, False, False, False, False, False, False, False, False, False, False, False, False, False, False, False, False, True, False, False, False, False, False, True, False, False, False, False, False, False, False, False, False, False, False, False, False, False, False, False, False, False, False, False, False, False, False, False, False, True, False, False, False, False, False, False, False, False, False, False, False, False, False, False, False, False, False, False, False, False, False, False, False, False, False, False, False, False, False, False, False, False, False, False, False, False, False, False, False, False, False, False, False, False, False, False, False, False, False, False, False, False, False, True, False, False, False, True, False, False, False, False, False, False, False, False, False, False, False, False, False, False, False, False, False, False, False, False, False, False, False, False, False, False, False, False, False, False, False, False, False, False, False, False, False, False, False, False, False, False, False, False, False, False, False, False, False, False, False, False, False, True, False, False, False, False, False, False, False, False, False, False, False, False, False, False, False, False, False, True, False, False, False, False, False, False, False, True, False, False, False, True, False, False, False, False, False, False, False, False, False, False, False, False, False, False, False, False, False, False, False, False, False, False, False, False, False, False, False, False, False, False, False, False, False, False, False, False, False, False, False, False, False, False, False, False, False, False, False, True, False, True, False, False, False, False, False, False, False, False, False, False, False, False, False, False, False, False, False, False, False, False, False, False, False, False, False, False, False, False, False, True, False, False, False, False, False, True, False, False, False, True, False, False, False, False, False, True, False, False, False, False, False, False, False, False, False, False, False, True, False, True, False, False, False, False, False, False, False, False, False, False, False, False, False, False, False, False, False, False, False, False, False, False, False, False, False, False, False, False, False, False, False, False, False, False, False, False, False, False, False, False, False, True, False, False, False, False, False, False, False, False, False, False, False, False, False, False, False, False, False, False, False, False, False, False, False, False, False, False, False, False, False, False, False, False, False, False, False, False, False, False, False, False, False, False, False, False, False, False, False, False, False, False, False, False, False, False, False, False, False, False, False, False, False, False, False, True, False, False, False, False, False, False, False, False, False, False, False, False, False, False, False, False, False, False, False, False, False, False, False, False, False, False, False, False, False, False, False, False, False, False, False, False, False, False, False, False, False, False, False, False, False, False, False, False, False, False, False, False, False, False, False, False, False, False, False, True, False, False, False, False, False, False, False, False, False, False, False, False, False, False, False, False, False, False, False, False, False, False, False, False, False, False, False, False, False, True, False, False, False, False, False, False, False, False, False, False, False, True, False, False, False, False, False, False, False, False, False, False, False, False, False, False, False, False, False, True, False, True, False, False, False, False, False, False, False, False, False, False, False, False, False, False, False, False, False, False, False, False, False, False, False, False, False, False, False, False, False, False, False, False, False, False, False, False, False, False, False, False, False, False, False, False, False, False, False, False, False, False, False, False, False, False, False, False, False, False, False, False, False, False, False, False, False, False, False, False, False, False, False, False, False, False, False, False, False, False, False, False, False, False, False, True, False, False, False, False, False, False, False, False, False, False, False, False, False, False, False, False, False, False, False, False, False, False, False, False, False, False, False, True, False, False, False, False, False, False, False, False, False, False, False, False, False, False, False, False, False, False, False, False, False, False, False, False, False, False, False, False, False, False, False, False, False, False, False, False, False, False, False, False, False, False, False, False, False, False, False, False, False, False, False, False, False, False, False, False, False, False, False, True, False, False, False, False, False, True, False, False, False, False, False, False, False, False, False, False, False, False, False, False, False, False, False, False, False, False, False, False, False, False, False, False, False, False, False, False, False, False, False, False, False, False, False, False, False, False, False, False, False, False, False, False, False, False, False, False, False, False, False, False, False, False, False, False, False, False, False, False, False, False, False, False, False, False, False, False, False, False, False, False, False, False, False, False, False, True, False, False, False, False, False, False, False, False, False, False, False, False, False, False, False, False, False, False, False, False, False, False, False, False, False, False, False, False, False, False, False, False, False, False, False, False, False, False, False, False, False, False, False, False, False, False, False, False, False, False, False, False, False, False, False, False, False, False, False, False, False, False, False, False, False, False, False, False, False, False, False, False, False, False, False, False, False, False, False, False, False, False, False, False, False, False, False, False, False, False, False, False, False, False, False, False, False, False, False, False, False, False, False, False, False, False, False, False, False, False, False, False, False, False, False, False, False, False, False, False, False, False, False, False, False, False, False, False, False, False, False, False, False, False, False, False, False, False, False, False, False, False, False, True, False, False, False, False, False, False, False, False, False, False, False, False, False, False, False, False, False, False, False, False, False, False, False, False, False, False, False, False, False, False, False, False, False, False, False, False, False, False, False, False, False, False, False, False, False, False, False, False, False, False, False, False, False, False, False, False, False, False, False, False, False, False, False, False, False, False, False, False, False, False, False, False, False, False, False, False, False, False, False, False, False, False, False, False, False, False, False, False, False, False, False, False, False, False, False, False, False, False, False, True, False, False, False, False, False, False, False, True, False, False, False, False, False, False, False, False, False, False, False, False, False, False, False, False, False, False, False, False, False, False, False, False, False, False, False, True, False, True, False, False, False, False, False, False, False, False, False, False, False, False, False, False, False, False, False, False, False, False, False, False, False, False, False, False, False, False, False, False, False, False, False, False, False, False, False, False, False, False, False, False, False, False, False, False, False, False, False, False, False, False, False, False, False, False, False, False, False, False, False, False, False, False, False, False, False, False, False, False, False, False, False, False, False, False, False, False, False, False, False, False, False, False, False, False, False, False, False, False, False, False, False, False, False, False, False, False, False, False, False, False, False, False, False, False, False, False, False, False, False, False, False, False, False, False, False, False, False, False, False, False, False, False, False, False, False, False, False, True, False, False, False, False, False, False, False, False, False, False, False, False, False, False, False, False, False, False, False, False, False, False, False, False, False, False, False, False, False, False, False, False, False, False, False, False, False, False, False, False, False, False, False, True, False, False, False, False, False, True, False, False, False, True, False, False, False, False, False, False, False, False, False, False, False, False, False, False, False, False, False, False, False, False, False, False, False, False, False, False, False, False, False, False, False, False, False, False, False, False, False, False, False, False, False, False, False, False, False, False, False, False, False, False, False, False, False, False, False, False, False, False, False, False, False, False, False, False, False, False, False, False, False, False, False, False, False, False, False, False, False, False, False, False, False, False, False, True, False, False, False, False, False, False, False, False, False, False, False, False, False, False, False, False, False, False, False, False, False, False, False, False, False, False, False, False, False, False, False, False, False, False, False, False, False, False, False, False, False, True, False, False, False, False, False, False, False, False, False, False, False, False, False, False, False, False, False, False, False, False, False, False, False, False, False, False, False, False, False, False, False, False, False, False, False, False, False, False, False, False, False, False, False, False, False, False, False, False, False, False, False, False, False, True, False, False, False, False, False, False, False, False, False, False, False, False, False, False, False, False, False, False, False, True, False, False, False, False, False, False, False, False, False, True, False, False, False, False, False, False, False, False, False, False, False, False, False, False, False, False, False, False, False, False, False, False, False, False, False, False, False, False, False, False, False, False, False, False, False, False, False, False, False, False, False, False, False, False, False, False, False, False, False, False, False, False, False, False, False, False, False, False, False, False, False, False, False, False, False, False, False, True, False, False, False, False, False, False, False, False, False, True, False, False, False, False, False, False, False, False, False, False, False, False, False, False, False, False, False, False, False, True, False, False, False, False, False, False, False, False, False, False, False, False, False, False, False, True, False, False, False, False, False, False, False, False, False, False, False, False, False, False, False, False, False, False, False, False, False, False, False, False, False, False, False, False, False, False, False, False, False, False, False, False, False, False, False, False, False, False, False, False, False, False, False, False, False, False, False, False, False, False, False, False, False, False, False, False, False, False, False, False, False, False, False, False, False, False, False, True, False, False, False, False, False, False, False, False, False, False, False, False, False, False, False, False, False, True, False, False, False, False, False, False, False, False, False, False, False, False, False, False, False, False, False, False, False, True, False, False, False, False, False, False, False, False, False, False, False, True, False, False, False, False, False, False, False, False, False, False, False, False, False, False, False, False, False, False, False, False, False, False, False, True, False, False, False, True, False, False, False, False, False, True, False, False, False, False, False, False, False, False, False, False, False, False, False, False, False, False, False, False, False, True, False, False, False, True, False, False, False, False, False, False, False, False, False, False, False, False, False, True, False, False, False, False, False, False, False, False, False, False, False, False, False, False, False, False, False, True, False, False, False, False, False, False, False, False, False, False, False, False, False, False, False, False, False, False, False, False, False, False, False, False, False, False, False, False, False, False, False, False, False, False, False, False, False, False, False, False, False, False, False, False, False, False, False, False, False, False, False, True, False, False, False, False, False, False, False, False, False, False, False, False, False, False, False, False, False, False, False, False, False, False, False, False, False, False, False, False, False, False, False, False, False, False, False, False, False, False, False, False, False, False, False, False, False, False, False, False, False, False, False, False, False, False, False, False, False, False, False, False, False, False, False, False, False, False, False, False, False, False, False, False, False, False, False, False, False, False, False, False, False, False, False, False, False, False, False, False, False, False, False, False, False, False, False, False, False, False, False, False, False, False, False, False, False, False, False, True, False, False, False, False, False, False, False, False, False, False, False, False, False, False, False, False, False, False, False, False, False, False, False, False, False, False, False, False, False, False, False, False, False, False, False, False, False, False, False, False, False, False, False, False, False, False, False, False, False, False, False, False, False, False, False, False, False, False, False, False, False, False, False, False, False, False, False, False, False, False, False, False, False, True, False, False, False, True, False, False, False, False, False, False, False, False, False, False, False, False, False, False, False, False, False, False, False, False, False, False, False, False, False, False, False, False, False, False, False, False, False, False, False, False, False, False, False, False, False]\n",
      "CPU times: user 4min 8s, sys: 0 ns, total: 4min 8s\n",
      "Wall time: 4min 6s\n"
     ]
    },
    {
     "data": {
      "text/plain": [
       "(0, (700, 10, 10))"
      ]
     },
     "execution_count": 48,
     "metadata": {},
     "output_type": "execute_result"
    }
   ],
   "source": [
    "%%time\n",
    "\n",
    "inicio = 1_099_726_899_249_999\n",
    "fin    = 1_099_726_899_299_999\n",
    "\n",
    "PRIMES = range(inicio, fin) \n",
    "\n",
    "print(f'total iteraciones {fin - inicio}')\n",
    "print(list(map(is_prime_numba, PRIMES)))\n",
    "garbage_colector.collect(), garbage_colector.get_threshold()"
   ]
  },
  {
   "cell_type": "markdown",
   "id": "e11c2015-5e3f-46c1-927e-551d2eb2fceb",
   "metadata": {},
   "source": [
    "# *****************************************************************************************************************************************************************************************************************************"
   ]
  },
  {
   "cell_type": "markdown",
   "id": "3fd3d366-9230-427c-bd21-431544fb5e6b",
   "metadata": {},
   "source": [
    "# <center> EJECUCION 1800 TAREAS DE 2 SEGUNDOS, TOMARIA 1 HORA EN EJECUCION SINCRONA</center>"
   ]
  },
  {
   "cell_type": "code",
   "execution_count": 49,
   "id": "6d0e88b1-4a2b-4505-9802-c5796ccb4f4c",
   "metadata": {},
   "outputs": [],
   "source": [
    "import random\n",
    "limite_tareas = 1800"
   ]
  },
  {
   "cell_type": "markdown",
   "id": "50e1425c-d3bc-495d-ab3b-64beb6f144ce",
   "metadata": {},
   "source": [
    "## <center> ASINCRONO</center>"
   ]
  },
  {
   "cell_type": "code",
   "execution_count": 50,
   "id": "d2d37877-aede-4b85-b753-fed84ce866d0",
   "metadata": {
    "scrolled": true,
    "tags": []
   },
   "outputs": [
    {
     "name": "stdout",
     "output_type": "stream",
     "text": [
      "1800\n",
      "Wall time: 2 s\n",
      "[1658, 1411, 788, 1245, 1674, 531, 1081, 1327, 1427, 730, 1770, 1762, 1585, 1616, 1001, 1757, 1783, 377, 504, 332, 152, 353, 442, 1093, 988, 426, 235, 507, 1338, 935, 1166, 1114, 1554, 762, 1734, 870, 1585, 1029, 631, 321, 377, 398, 481, 322, 1194, 9, 843, 738, 1201, 725, 466, 190, 481, 1018, 1525, 920, 522, 1276, 1294, 1359, 471, 333, 600, 121, 1560, 668, 1410, 714, 496, 1456, 764, 804, 498, 850, 1197, 917, 1210, 984, 1298, 927, 1357, 1693, 1251, 1285, 110, 1725, 347, 408, 1475, 1607, 162, 51, 943, 1713, 377, 1583, 1377, 1194, 1145, 793, 1064, 1437, 19, 430, 413, 1456, 1215, 361, 1463, 1636, 1109, 1125, 930, 1290, 530, 1507, 1093, 902, 1260, 996, 1122, 552, 1544, 1753, 604, 685, 782, 24, 1396, 124, 1477, 324, 1067, 871, 677, 419, 1176, 805, 1130, 1697, 1705, 617, 1412, 363, 761, 1120, 1671, 1560, 1294, 1464, 1200, 308, 1364, 1742, 1226, 1050, 675, 516, 1632, 961, 1203, 246, 1177, 170, 816, 1439, 1514, 1084, 1515, 879, 81, 1570, 504, 1248, 90, 1403, 1115, 568, 282, 571, 1201, 113, 139, 1374, 265, 1513, 1296, 1661, 1581, 245, 1511, 1031, 1214, 1798, 550, 203, 1321, 468, 45, 226, 1217, 823, 593, 309, 1036, 1263, 1356, 523, 304, 462, 1727, 440, 827, 1707, 579, 1324, 1112, 842, 243, 1145, 775, 700, 1701, 137, 756, 1094, 1127, 252, 359, 1721, 181, 88, 370, 715, 1460, 1723, 1020, 1724, 711, 1003, 1715, 1320, 1359, 119, 1461, 1659, 1338, 657, 1238, 946, 1642, 124, 1579, 1682, 424, 1292, 1488, 1083, 1357, 1183, 844, 333, 107, 396, 1716, 1379, 1503, 701, 447, 811, 1202, 594, 611, 1606, 292, 660, 599, 636, 533, 852, 609, 1593, 1477, 1763, 931, 764, 710, 830, 879, 562, 70, 110, 366, 538, 164, 1015, 1444, 682, 363, 1780, 709, 554, 1416, 1193, 351, 841, 135, 590, 483, 168, 418, 456, 1159, 824, 1488, 77, 160, 1081, 575, 619, 1290, 200, 938, 548, 863, 989, 815, 389, 674, 1606, 1564, 1663, 911, 1650, 993, 1343, 333, 1307, 1314, 282, 1234, 422, 1333, 1584, 571, 368, 844, 1403, 1362, 1703, 223, 1260, 1631, 556, 646, 844, 230, 365, 170, 190, 785, 590, 1585, 1304, 1019, 1269, 842, 478, 283, 1651, 572, 820, 518, 171, 415, 510, 447, 1567, 234, 991, 749, 794, 330, 545, 1062, 1673, 784, 58, 1768, 687, 191, 257, 1380, 1478, 1146, 837, 708, 1124, 596, 591, 347, 549, 176, 341, 251, 1586, 1049, 1077, 803, 724, 1035, 1153, 399, 1344, 1392, 580, 1779, 434, 1086, 1525, 1573, 313, 1470, 1379, 777, 738, 1366, 297, 213, 1652, 847, 910, 254, 1155, 1143, 166, 598, 1452, 860, 846, 268, 4, 1742, 1531, 550, 131, 599, 339, 1467, 1028, 535, 564, 345, 1713, 469, 290, 953, 990, 1003, 1358, 647, 615, 140, 1120, 1194, 1237, 1336, 739, 201, 1673, 1315, 291, 801, 943, 552, 406, 772, 244, 958, 1297, 273, 577, 622, 1722, 1090, 222, 967, 228, 1209, 1292, 1252, 411, 106, 1296, 1062, 782, 972, 1796, 1063, 161, 518, 1666, 1209, 1433, 255, 1320, 1018, 1111, 1195, 1084, 378, 1167, 1227, 1534, 1207, 332, 1422, 1198, 262, 1495, 583, 945, 104, 1141, 164, 1560, 1133, 101, 877, 1240, 981, 961, 1278, 1, 1680, 1112, 1219, 1249, 415, 1058, 1292, 1114, 163, 377, 1406, 605, 243, 1385, 1263, 470, 1173, 1540, 272, 1624, 1000, 1406, 1170, 114, 835, 755, 208, 207, 169, 165, 1609, 1129, 573, 419, 506, 1624, 1165, 716, 580, 642, 1070, 1167, 194, 634, 824, 1352, 684, 558, 855, 1134, 891, 1530, 202, 1762, 1149, 440, 250, 1210, 222, 645, 95, 383, 429, 1578, 1654, 1428, 1725, 473, 167, 1464, 1334, 794, 1133, 911, 1335, 1536, 611, 1061, 157, 386, 174, 1006, 1196, 637, 1000, 596, 1451, 1416, 1208, 1310, 658, 838, 261, 237, 1643, 1563, 1592, 1191, 120, 1738, 1051, 365, 862, 704, 452, 686, 1148, 107, 1396, 1083, 795, 1467, 454, 559, 470, 1366, 1107, 794, 960, 1245, 1747, 1214, 1452, 1422, 342, 647, 1401, 1606, 1484, 1139, 1582, 393, 950, 183, 348, 1328, 166, 869, 1745, 62, 452, 573, 125, 41, 1692, 1508, 1187, 1612, 1381, 137, 566, 1180, 1429, 1050, 1338, 1488, 1634, 931, 891, 867, 1106, 1163, 1341, 1088, 1543, 1181, 599, 1772, 546, 741, 467, 1622, 1040, 830, 951, 1509, 658, 1642, 1517, 823, 1071, 328, 405, 1783, 872, 836, 903, 752, 176, 1274, 974, 218, 646, 1468, 1437, 893, 1646, 475, 963, 1264, 1511, 1028, 618, 1133, 1374, 118, 500, 1045, 1152, 1096, 172, 1452, 408, 1319, 69, 897, 737, 950, 123, 642, 480, 654, 1358, 1748, 339, 412, 1264, 567, 472, 6, 390, 98, 339, 1005, 198, 625, 15, 981, 1060, 1025, 1437, 793, 1794, 1433, 232, 1020, 902, 1303, 398, 44, 1750, 1055, 1384, 1637, 726, 159, 1676, 540, 1640, 1434, 1145, 1049, 221, 1494, 312, 517, 704, 1551, 1170, 1062, 154, 327, 664, 1211, 1211, 1446, 1399, 945, 1695, 921, 1481, 1315, 485, 251, 739, 1536, 748, 308, 1412, 58, 1672, 323, 706, 1559, 1438, 247, 1583, 1709, 737, 1341, 968, 1189, 942, 22, 1470, 419, 787, 1124, 1676, 83, 571, 1452, 566, 1636, 888, 572, 1430, 389, 488, 1735, 1400, 276, 556, 626, 960, 187, 632, 685, 1604, 498, 202, 385, 1023, 1255, 872, 800, 870, 907, 299, 1074, 1022, 114, 1529, 799, 1629, 1336, 1447, 1143, 1361, 672, 451, 258, 1674, 636, 108, 0, 1116, 1684, 1719, 1742, 1782, 931, 1470, 472, 432, 1106, 369, 951, 1363, 369, 1604, 582, 932, 1503, 1338, 308, 87, 1121, 554, 498, 1708, 78, 253, 539, 1055, 1442, 151, 1119, 1241, 204, 1677, 1700, 1065, 734, 164, 650, 570, 496, 1113, 447, 1034, 1208, 1203, 1289, 1453, 236, 1225, 1465, 698, 706, 1033, 641, 965, 1414, 805, 1122, 1421, 122, 1422, 1603, 1033, 327, 551, 299, 1431, 695, 1088, 1494, 1000, 636, 117, 3, 186, 720, 398, 529, 1424, 968, 591, 756, 1559, 1457, 1048, 1678, 235, 355, 1741, 1030, 1573, 1530, 1534, 18, 1189, 1069, 840, 749, 760, 717, 433, 1033, 486, 227, 786, 1038, 236, 1485, 1667, 72, 18, 601, 1485, 1188, 1675, 1446, 1466, 1447, 1062, 169, 572, 1195, 223, 1712, 1074, 106, 983, 738, 302, 1511, 540, 1645, 338, 1247, 1474, 286, 1792, 932, 1613, 1090, 180, 1082, 197, 1706, 1720, 638, 441, 175, 630, 818, 625, 1088, 8, 1490, 1049, 1684, 301, 1704, 983, 743, 1024, 1147, 1213, 1681, 1544, 952, 563, 37, 700, 386, 299, 1555, 1203, 1329, 1768, 828, 1781, 173, 68, 284, 1429, 988, 335, 1198, 1664, 1691, 57, 1056, 55, 1112, 1564, 43, 14, 458, 1698, 951, 1039, 270, 720, 560, 1666, 655, 1741, 1782, 422, 608, 1739, 213, 500, 1418, 63, 1187, 864, 136, 1409, 921, 489, 1424, 45, 411, 1334, 1133, 177, 1320, 479, 770, 522, 1197, 864, 835, 1755, 718, 351, 260, 1738, 1587, 470, 1788, 92, 340, 525, 1750, 595, 846, 1643, 1327, 1120, 1384, 182, 1364, 1774, 1781, 1625, 1774, 1431, 255, 1077, 245, 581, 940, 1529, 1420, 1188, 438, 704, 744, 1201, 1692, 897, 1639, 890, 764, 273, 889, 1731, 1590, 1063, 1426, 342, 1376, 17, 1556, 179, 1404, 1394, 1670, 1019, 60, 480, 529, 1552, 1325, 779, 1421, 1634, 417, 414, 707, 264, 730, 924, 1479, 952, 832, 822, 1292, 1311, 1601, 711, 1165, 11, 922, 188, 1167, 9, 1176, 294, 1698, 1611, 510, 1119, 1715, 611, 1557, 890, 1767, 690, 1191, 977, 1784, 1787, 28, 1571, 1652, 1607, 301, 570, 387, 341, 122, 754, 876, 1494, 1363, 847, 1489, 1314, 144, 143, 747, 1661, 1150, 543, 1449, 584, 1433, 513, 1413, 1523, 1367, 710, 486, 919, 1616, 1621, 56, 1741, 752, 553, 247, 1663, 651, 428, 464, 1553, 1029, 217, 565, 923, 1197, 507, 1516, 1659, 228, 298, 919, 1109, 1383, 699, 1363, 350, 463, 886, 1000, 1461, 283, 52, 590, 377, 1641, 671, 195, 1150, 1486, 718, 1037, 1414, 1131, 43, 1227, 509, 375, 47, 786, 1351, 1636, 126, 999, 1375, 31, 904, 1099, 1568, 1569, 116, 1711, 1126, 1337, 935, 1125, 285, 818, 1100, 1518, 1736, 888, 938, 612, 532, 175, 1052, 971, 316, 649, 1351, 1047, 1698, 548, 614, 948, 1555, 175, 798, 74, 81, 1521, 1464, 1710, 566, 154, 1162, 31, 1038, 756, 1002, 738, 622, 1101, 1230, 1562, 1511, 1431, 1582, 1280, 826, 39, 705, 1124, 42, 1264, 610, 383, 137, 571, 1096, 1087, 178, 642, 713, 429, 769, 239, 66, 1729, 1196, 786, 436, 1728, 162, 1084, 481, 1154, 641, 650, 1779, 1261, 1026, 47, 644, 1504, 1374, 639, 591, 950, 1295, 1500, 1232, 94, 898, 245, 799, 13, 703, 1059, 1353, 1437, 1699, 283, 174, 1252, 1148, 93, 1419, 955, 1343, 387, 766, 50, 900, 1, 83, 539, 458, 235, 255, 1314, 1247, 559, 61, 1063, 1059, 1345, 321, 144, 697, 691, 59, 1342, 467, 1225, 937, 1588, 106, 1134, 76, 1377, 1691, 1002, 1290, 1047, 1021, 1102, 1648, 450, 178, 868, 1684, 976, 334, 1644, 1640, 1301, 1096, 615, 1733, 890, 1629, 686, 1309, 1799, 457, 1531, 1255, 1148, 1206, 327, 1335, 658, 154, 1546, 1205, 1749, 1454, 1137, 1788, 4, 320, 1663, 610, 1243, 1260, 1277, 648, 1445, 381, 574, 1779, 439, 880, 1377, 1581, 221, 57, 1250, 1070, 321, 702, 1701, 1174, 563, 1704, 95, 1458, 727, 1724, 358, 853, 629, 989, 483, 1797, 206, 1141, 1662, 1694, 772, 559, 1173, 1473, 729, 1135, 465, 272, 247, 312, 627, 1574, 655, 1490, 820, 697, 738, 1761, 22, 1217, 292, 1112, 879, 1537, 876, 1616, 1418, 287, 970, 1444, 1635, 879, 1047, 1745, 1530, 1723, 719, 631, 1456, 1568, 902, 1220, 197, 1774, 1726, 611, 1433, 1189, 863, 1578, 508, 1434, 401, 828, 70, 1631, 222, 182, 1689, 1258, 371, 1341, 114, 87, 662, 1657, 1636, 1305, 1441, 1599, 1156, 1388, 245, 1444, 682, 1301, 281, 862, 1071, 1226, 1673, 273, 1341, 1067, 1204, 694, 26, 200, 1556, 637, 1537, 319, 698, 630, 382, 953, 1466, 1109, 1624, 30, 963, 387, 1333, 961, 67, 1691, 1090, 4, 1392, 1191, 1154, 1298, 988, 1152, 1622, 583, 204, 1122, 149, 919, 612, 1552, 70, 1060, 1473, 850, 263, 1097, 895, 1454, 1169, 1676, 1176, 1367, 1743, 262, 521, 1200, 1046, 452, 1139, 839, 1454, 523, 476, 615, 1564, 433, 577, 1335, 1474, 134, 325, 1413, 548, 431, 1244, 1671, 1357, 168, 129, 1426, 7, 1396, 413, 377, 690, 711, 1280, 1337, 364, 277, 1355, 456, 941, 236, 1772, 216, 144, 713, 875, 234, 442, 724, 551, 1513, 957, 835, 900, 1205, 1482, 1496, 379, 200, 1076, 512, 1618, 1596, 487, 361, 189, 1503, 586, 714, 1620, 221, 105, 480, 169, 1778, 1151, 513, 968, 754, 942, 1617, 958, 1025, 355, 1704, 364, 1005, 1314, 805, 844, 503, 537, 756, 409, 1536, 1195, 1403, 715, 1652, 1345, 975, 912, 1413, 1615, 1283, 1625, 1156, 1793, 1673, 1462, 162, 153, 786, 454, 863, 307, 922, 1187, 1266, 886, 19, 555, 968, 613, 1468, 109, 1674, 1771]\n"
     ]
    },
    {
     "data": {
      "text/plain": [
       "(0, (700, 10, 10))"
      ]
     },
     "execution_count": 50,
     "metadata": {},
     "output_type": "execute_result"
    }
   ],
   "source": [
    "async def corrutina(tiempo:int) -> int:    \n",
    "    await asyncio.sleep(tiempo)\n",
    "    return random.randint(0, limite_tareas)\n",
    "\n",
    "inicia = datetime.now()\n",
    "lista = [corrutina(2) for i in range(limite_tareas)]\n",
    "\n",
    "resultado = await asyncio.gather(*lista)\n",
    "\n",
    "finaliza = datetime.now()\n",
    "print(len(resultado))\n",
    "print(f'Wall time: {finaliza.second - inicia.second} s')\n",
    "print(resultado)\n",
    "\n",
    "del lista, resultado, inicia, finaliza\n",
    "garbage_colector.collect(), garbage_colector.get_threshold()"
   ]
  },
  {
   "cell_type": "markdown",
   "id": "4d88c222-fdc8-4e19-9228-675996855920",
   "metadata": {},
   "source": [
    "## <center> THREAD</center>"
   ]
  },
  {
   "cell_type": "code",
   "execution_count": 51,
   "id": "24eda81b-beff-487d-9fc9-8281acecbae0",
   "metadata": {
    "scrolled": true,
    "tags": []
   },
   "outputs": [
    {
     "name": "stdout",
     "output_type": "stream",
     "text": [
      "1800\n",
      "[1733, 1061, 972, 1122, 116, 232, 386, 1610, 1339, 1259, 220, 1400, 38, 640, 662, 568, 1589, 491, 1023, 906, 107, 1444, 539, 1417, 200, 1037, 963, 1723, 428, 700, 767, 1694, 1736, 1716, 1797, 827, 991, 713, 1257, 1767, 802, 776, 744, 467, 659, 1332, 868, 64, 1703, 668, 352, 662, 1565, 1497, 820, 678, 1533, 93, 1264, 118, 1195, 643, 1090, 395, 421, 1062, 1682, 663, 339, 1485, 1397, 336, 380, 1753, 551, 253, 1614, 1263, 748, 1424, 550, 111, 1781, 1344, 854, 905, 251, 1780, 1401, 904, 465, 1435, 910, 232, 456, 864, 251, 1428, 729, 1443, 287, 1079, 1787, 1324, 548, 1252, 1264, 875, 105, 817, 126, 1295, 1751, 494, 824, 1580, 44, 1513, 907, 1278, 1747, 542, 1361, 1621, 520, 1620, 377, 1314, 467, 1086, 106, 1319, 1386, 496, 284, 1265, 1739, 1270, 948, 114, 1475, 1758, 541, 1398, 173, 180, 112, 354, 575, 317, 1128, 261, 1262, 62, 1711, 1182, 60, 773, 639, 1267, 503, 553, 714, 999, 1721, 751, 1641, 599, 145, 1235, 412, 1158, 1669, 593, 999, 159, 1317, 1553, 344, 1342, 89, 437, 888, 1038, 1415, 16, 524, 1673, 1393, 792, 1501, 349, 79, 92, 1293, 313, 1359, 265, 38, 1186, 1096, 663, 1532, 302, 1726, 737, 1629, 1608, 954, 258, 362, 1376, 1497, 1069, 112, 1470, 1387, 915, 592, 1702, 1693, 1323, 266, 557, 301, 1380, 662, 1158, 738, 1049, 331, 286, 1082, 1064, 266, 1306, 671, 801, 735, 183, 1295, 1246, 1197, 1302, 1354, 1454, 221, 414, 1760, 1760, 964, 676, 585, 1199, 1141, 1645, 99, 920, 1099, 1414, 178, 478, 1553, 746, 513, 919, 1430, 911, 511, 925, 745, 844, 1331, 1556, 1352, 1614, 801, 638, 735, 28, 680, 1112, 355, 1254, 1279, 934, 405, 426, 23, 245, 1200, 5, 759, 401, 1250, 333, 587, 323, 731, 661, 1139, 1608, 407, 1187, 768, 795, 318, 544, 889, 126, 72, 630, 0, 1291, 634, 68, 690, 380, 1442, 949, 92, 1291, 147, 1330, 441, 1120, 1040, 1778, 905, 1535, 1358, 1311, 736, 1004, 658, 105, 35, 616, 1616, 359, 1604, 1685, 1161, 1113, 1124, 1081, 780, 821, 778, 996, 805, 1033, 1627, 490, 265, 1778, 116, 57, 940, 97, 648, 871, 1396, 662, 762, 555, 764, 1143, 1327, 626, 274, 998, 1050, 762, 724, 694, 764, 1747, 186, 1634, 1409, 577, 1448, 1578, 591, 1344, 1093, 1108, 1613, 337, 1457, 804, 752, 1739, 130, 1551, 1436, 1237, 1117, 596, 1589, 799, 836, 443, 1662, 1154, 959, 1686, 200, 1675, 319, 132, 40, 1361, 996, 1252, 807, 1755, 1642, 1018, 1089, 701, 1308, 1137, 1188, 808, 914, 967, 1118, 412, 1285, 1733, 340, 1200, 844, 107, 994, 1635, 578, 139, 497, 309, 1060, 1581, 406, 516, 950, 328, 1362, 73, 137, 940, 371, 817, 730, 1385, 1327, 1008, 302, 420, 1061, 952, 263, 1044, 304, 769, 1768, 1556, 1766, 1614, 772, 887, 978, 1373, 443, 1254, 843, 842, 1164, 1202, 1754, 1684, 271, 567, 191, 422, 1409, 425, 1292, 932, 1094, 679, 549, 562, 1477, 1260, 1543, 173, 991, 151, 1267, 910, 1514, 1306, 80, 1286, 856, 1435, 740, 438, 1129, 1389, 174, 1643, 141, 474, 1356, 152, 229, 213, 956, 1536, 1336, 571, 1718, 198, 1603, 883, 740, 1335, 1162, 1023, 1480, 1439, 1115, 22, 168, 822, 1452, 1428, 757, 833, 775, 192, 1463, 199, 1240, 1752, 766, 6, 1722, 1669, 549, 782, 1554, 1584, 934, 1378, 365, 706, 1202, 1740, 497, 303, 277, 141, 301, 872, 1020, 1556, 1553, 1695, 11, 827, 695, 293, 64, 1348, 617, 515, 1468, 1787, 69, 1380, 983, 1714, 823, 1745, 983, 505, 403, 834, 851, 1369, 1657, 871, 1043, 1783, 1460, 943, 905, 1638, 1210, 961, 228, 1627, 1256, 743, 320, 573, 789, 1368, 30, 524, 325, 1269, 1461, 34, 403, 1081, 62, 1339, 31, 709, 1041, 1134, 1663, 1138, 731, 1174, 203, 148, 1410, 426, 1782, 1726, 1231, 420, 856, 1059, 484, 701, 600, 1335, 415, 15, 1426, 666, 1419, 1510, 258, 715, 1627, 542, 761, 783, 249, 1727, 852, 1772, 1075, 1146, 1456, 1111, 1620, 378, 1631, 317, 1215, 1052, 84, 1180, 365, 254, 846, 522, 499, 1583, 1276, 1175, 128, 1381, 717, 21, 1755, 1690, 189, 123, 466, 1289, 1389, 1447, 1545, 360, 291, 1799, 1371, 1240, 698, 1127, 99, 56, 1785, 75, 1126, 308, 159, 1735, 645, 880, 127, 1087, 655, 0, 1412, 1092, 207, 274, 1003, 1648, 1172, 794, 731, 1710, 1412, 12, 1699, 1084, 276, 1543, 545, 535, 640, 1098, 1324, 182, 1564, 451, 1170, 817, 662, 585, 1337, 1182, 328, 1112, 450, 599, 627, 116, 1157, 1543, 582, 1538, 1754, 1563, 1251, 1524, 915, 684, 564, 141, 273, 1007, 1752, 639, 579, 1376, 248, 763, 487, 1320, 1605, 549, 574, 324, 1665, 228, 493, 246, 56, 243, 311, 1282, 935, 1267, 1002, 1395, 922, 29, 239, 215, 1534, 1606, 233, 936, 1388, 1036, 720, 716, 534, 1174, 1487, 735, 963, 1073, 1391, 1576, 1681, 1566, 1554, 860, 201, 1225, 1014, 1364, 1189, 1724, 952, 639, 160, 1555, 195, 726, 1314, 1166, 1516, 880, 862, 1407, 1782, 913, 1182, 773, 1588, 1356, 1290, 1482, 437, 448, 929, 1266, 530, 1739, 631, 137, 271, 348, 1019, 783, 1776, 794, 1496, 1349, 751, 1598, 1514, 203, 701, 1759, 121, 1181, 1100, 1247, 689, 1794, 670, 1011, 420, 1493, 595, 47, 390, 476, 1528, 267, 1477, 889, 1542, 105, 621, 1687, 1775, 158, 452, 1481, 418, 1634, 1569, 1104, 37, 1761, 212, 473, 725, 1800, 1350, 319, 1028, 648, 826, 1710, 428, 1734, 668, 215, 1717, 219, 509, 732, 362, 1718, 1096, 466, 283, 166, 708, 183, 407, 1702, 669, 490, 118, 1454, 1651, 1011, 1705, 212, 630, 668, 327, 702, 1061, 759, 1571, 161, 941, 1169, 1517, 1178, 1369, 404, 550, 47, 1059, 91, 486, 658, 1601, 154, 292, 1087, 994, 817, 77, 1746, 344, 1390, 22, 1544, 554, 1678, 1594, 952, 1337, 1611, 731, 231, 1549, 828, 1391, 193, 1046, 1753, 1243, 1731, 661, 691, 526, 1113, 338, 1669, 1194, 20, 873, 1548, 249, 1189, 1392, 255, 312, 8, 1009, 758, 688, 1234, 191, 1491, 1138, 1580, 145, 941, 619, 666, 1685, 1209, 114, 1627, 1178, 1698, 1101, 1287, 1749, 357, 1152, 1596, 1443, 656, 1609, 1452, 1172, 478, 817, 1412, 1169, 87, 1518, 776, 1689, 271, 0, 1604, 1055, 301, 475, 116, 1582, 356, 449, 1264, 761, 302, 1253, 187, 1754, 793, 212, 164, 1220, 777, 1555, 742, 172, 59, 1688, 915, 1126, 884, 558, 667, 414, 1082, 712, 1180, 124, 32, 990, 1159, 1158, 1177, 1068, 261, 743, 561, 841, 422, 1652, 881, 1369, 1401, 115, 1042, 1607, 1272, 1529, 1078, 35, 1406, 575, 1062, 394, 1448, 1266, 1581, 1736, 1362, 405, 618, 654, 60, 844, 1728, 1278, 693, 234, 274, 1681, 203, 255, 307, 1025, 958, 810, 1017, 1362, 1198, 894, 1319, 1179, 166, 717, 519, 1434, 473, 931, 552, 867, 818, 485, 669, 501, 1642, 93, 1007, 120, 679, 1026, 1266, 305, 1106, 163, 306, 1301, 1551, 679, 97, 1633, 1799, 1401, 546, 1184, 1583, 83, 1108, 1162, 1338, 468, 1607, 832, 58, 1700, 865, 914, 1049, 1741, 156, 962, 165, 413, 1578, 624, 1711, 1479, 1239, 1355, 1000, 1136, 583, 1401, 181, 604, 1752, 1230, 571, 1079, 563, 22, 705, 789, 1335, 228, 56, 679, 992, 1198, 594, 1772, 1618, 1160, 28, 466, 827, 210, 1454, 1699, 1265, 528, 932, 1389, 1056, 772, 1562, 1667, 574, 385, 1064, 1620, 464, 788, 128, 102, 1729, 1091, 892, 182, 132, 362, 1606, 1508, 1323, 1581, 847, 1654, 1016, 819, 1727, 1403, 1550, 793, 359, 466, 1554, 91, 626, 1414, 459, 1207, 480, 976, 1392, 228, 1506, 1005, 490, 959, 157, 116, 888, 360, 810, 1171, 1748, 1009, 1260, 344, 410, 1409, 105, 1488, 1221, 638, 528, 475, 1459, 1624, 499, 1476, 919, 1708, 677, 1337, 625, 151, 838, 1465, 1220, 1699, 1519, 150, 10, 1766, 1665, 1703, 1597, 237, 1052, 1146, 273, 1373, 440, 205, 1631, 67, 1528, 1469, 331, 864, 948, 563, 684, 90, 983, 504, 753, 1687, 1785, 594, 431, 43, 91, 616, 1208, 534, 1214, 762, 537, 99, 1712, 1014, 797, 1443, 544, 1352, 685, 796, 664, 565, 701, 848, 1141, 1486, 362, 1692, 74, 1506, 431, 270, 1080, 790, 1491, 419, 1198, 1384, 729, 290, 1260, 596, 998, 1089, 730, 1193, 560, 1553, 544, 1406, 1254, 1724, 1439, 196, 363, 1096, 86, 609, 486, 814, 1270, 790, 132, 446, 584, 668, 674, 1533, 946, 334, 39, 389, 1064, 577, 1495, 665, 464, 220, 1792, 838, 688, 1284, 1056, 428, 1010, 198, 180, 934, 646, 318, 694, 483, 992, 1622, 706, 855, 640, 1435, 351, 1143, 1459, 1495, 1660, 936, 60, 592, 412, 1549, 742, 1173, 1661, 616, 152, 1762, 928, 1082, 262, 664, 1714, 1291, 703, 529, 1412, 945, 1273, 1437, 183, 353, 818, 1277, 831, 606, 575, 287, 798, 90, 34, 78, 271, 687, 1115, 1513, 1204, 1439, 118, 439, 1565, 302, 684, 1042, 778, 1558, 1482, 439, 366, 174, 926, 54, 1191, 754, 82, 1151, 316, 1795, 1282, 85, 952, 291, 322, 1760, 1699, 548, 990, 1124, 1557, 281, 1323, 1702, 1655, 1464, 1608, 223, 1586, 499, 653, 1781, 594, 1678, 1245, 1427, 1059, 1561, 247, 1626, 1771, 1150, 1379, 1339, 1489, 1379, 1648, 1082, 26, 54, 1140, 289, 1749, 1425, 1706, 1184, 1505, 1391, 789, 366, 876, 1483, 608, 330, 746, 418, 1185, 1641, 581, 1462, 924, 1088, 1023, 154, 13, 1697, 954, 1116, 1004, 92, 805, 18, 336, 1458, 1376, 1374, 1648, 1344, 90, 214, 1676, 1764, 364, 780, 1477, 1265, 1609, 1570, 970, 285, 198, 679, 321, 1561, 967, 1372, 92, 1051, 1755, 1719, 1775, 1439, 714, 849, 230, 264, 525, 1159, 1651, 198, 1356, 462, 1642, 1306, 961, 1253, 1637, 124, 1656, 428, 1009, 1572, 771, 789, 255, 1191, 496, 1571, 501, 1767, 1109, 723, 55, 782, 1422, 1443, 1027, 1517, 1774, 1413, 225, 1092, 1069, 1254, 1606, 1598, 352, 1430, 257, 610, 1047, 1710, 1295, 1405, 279, 689, 1223, 1741, 211, 778, 807, 1686, 641, 562, 466, 259, 1257, 922, 1595, 1604, 629, 706, 587, 928, 724, 559, 662, 46, 1644, 230, 556, 1284, 1506, 1629, 1495, 1050, 7, 1060, 259, 1222, 165, 1215, 673, 1193, 1471, 995, 422, 1107, 255, 364, 577, 205, 1172, 919, 657, 1554, 176, 1422, 1427, 1721, 1302, 956, 1261, 227, 1219, 431, 577, 53, 410, 892, 264, 960, 1781, 901, 37, 460, 295, 1196, 676, 1741, 815, 1128, 1413, 403, 1643, 1771, 370, 1177, 1756, 273, 358, 611, 1530, 33, 1130, 1357, 140, 1742, 1232, 563, 673, 1538, 1549, 54, 1284, 1694, 198, 1169, 634, 1712, 1551, 1326, 540, 1135, 282, 198, 724, 234, 311, 732, 646, 532, 611, 595, 457, 1724, 415, 1402, 1089, 1027, 1508, 876, 647, 1124, 1474, 180, 780, 119, 1602, 1305, 86, 370, 1419, 1741, 1371, 987, 1066, 732, 1545, 1204, 1605, 1562, 1174, 1579, 656, 1031, 109, 11, 789, 112, 324, 494, 1471, 1125, 14, 1661, 322, 1069, 352, 1495, 623]\n",
      "CPU times: user 661 ms, sys: 0 ns, total: 661 ms\n",
      "Wall time: 2.37 s\n"
     ]
    },
    {
     "data": {
      "text/plain": [
       "(0, (700, 10, 10))"
      ]
     },
     "execution_count": 51,
     "metadata": {},
     "output_type": "execute_result"
    }
   ],
   "source": [
    "%%time\n",
    "\n",
    "listado_instancias = []\n",
    "# instancia de la cola para adicionar los resultados\n",
    "almacenar_resultados = cola_classica()\n",
    "\n",
    "\n",
    "@almacenar_en_cola\n",
    "def dormir_sincrono(tiempo:int) -> int:    \n",
    "    sleep(tiempo)\n",
    "    return random.randint(0,limite_tareas)\n",
    "\n",
    "    \n",
    "for tiempo_espera in range(limite_tareas):\n",
    "  \n",
    "    instancia = Thread(name=f'ejecucion de tarea # {tiempo_espera}', target=dormir_sincrono, args=(2,))\n",
    "\n",
    "    instancia.start()\n",
    "    \n",
    "    listado_instancias.append(instancia)\n",
    "\n",
    "    \n",
    "for tipo_instancia in listado_instancias:    \n",
    "        tipo_instancia.join()\n",
    "\n",
    "resultado = obtener_resultado_cola_tarea(almacenar_resultados)\n",
    "print(len(resultado))\n",
    "print(resultado)\n",
    "\n",
    "del listado_instancias, almacenar_resultados, instancia, resultado\n",
    "garbage_colector.collect(), garbage_colector.get_threshold()"
   ]
  },
  {
   "cell_type": "markdown",
   "id": "6ee6f248-5ad2-45fc-99cc-594952393fed",
   "metadata": {},
   "source": [
    "## <center> PROCESS</center>"
   ]
  },
  {
   "cell_type": "code",
   "execution_count": 52,
   "id": "3cec45be-bd0a-4739-8356-1f81abef809f",
   "metadata": {
    "scrolled": true,
    "tags": []
   },
   "outputs": [
    {
     "name": "stdout",
     "output_type": "stream",
     "text": [
      "1800\n",
      "[1261, 386, 843, 422, 1071, 647, 606, 264, 48, 1395, 1399, 500, 1085, 656, 615, 933, 1334, 867, 1365, 396, 1746, 1134, 20, 982, 1097, 749, 1055, 1197, 937, 607, 572, 1774, 584, 222, 213, 1313, 1192, 455, 829, 1101, 1103, 1577, 714, 883, 762, 127, 1571, 607, 1559, 683, 633, 383, 1414, 744, 1396, 722, 1086, 1786, 1412, 56, 1120, 1442, 1765, 174, 544, 549, 1719, 1222, 1736, 65, 581, 1551, 174, 803, 632, 992, 1475, 1307, 228, 583, 198, 171, 52, 596, 387, 28, 67, 836, 292, 1561, 753, 1256, 738, 109, 349, 1387, 1440, 69, 1124, 244, 1114, 725, 1747, 1081, 682, 1514, 1746, 942, 1790, 992, 1561, 877, 1410, 261, 1270, 604, 1055, 806, 233, 1342, 755, 1662, 1092, 267, 1760, 652, 1029, 1411, 402, 1138, 1731, 528, 529, 1148, 212, 791, 221, 1617, 1335, 1797, 1462, 609, 1592, 10, 1475, 1025, 878, 477, 152, 378, 237, 1372, 477, 1391, 18, 1568, 1569, 906, 491, 929, 1730, 1529, 1630, 67, 1143, 1350, 20, 1175, 1491, 603, 620, 666, 1484, 243, 674, 1486, 195, 976, 1499, 290, 1666, 327, 981, 578, 27, 562, 530, 1288, 960, 1434, 124, 1227, 1522, 1695, 153, 982, 1021, 590, 437, 305, 1181, 1473, 1797, 1295, 1254, 216, 1503, 1600, 1153, 350, 1186, 884, 724, 541, 563, 1107, 905, 1389, 1134, 582, 786, 1247, 1548, 137, 1268, 1046, 471, 589, 1797, 1790, 1063, 938, 1377, 1225, 1722, 491, 294, 1458, 1658, 745, 1019, 371, 1109, 1540, 1458, 76, 804, 1686, 1780, 183, 488, 517, 320, 207, 445, 978, 1493, 1681, 921, 1295, 1180, 241, 376, 559, 109, 604, 237, 824, 1780, 253, 1153, 1390, 398, 479, 211, 472, 1365, 1112, 322, 1372, 927, 1076, 399, 242, 165, 1702, 21, 359, 836, 635, 559, 253, 1272, 411, 938, 615, 204, 1496, 540, 768, 953, 1278, 537, 551, 1241, 825, 641, 1056, 1225, 191, 934, 454, 11, 1368, 916, 1595, 658, 1120, 30, 1255, 1498, 695, 181, 1112, 178, 596, 1539, 438, 1163, 1666, 1677, 989, 1680, 1620, 1443, 1386, 1762, 106, 1356, 999, 1674, 255, 1541, 936, 294, 462, 794, 643, 673, 773, 1050, 1085, 1682, 124, 1331, 1639, 1741, 250, 1459, 835, 1069, 1789, 1484, 1323, 1335, 1159, 1568, 1519, 1034, 1727, 86, 654, 555, 608, 95, 1627, 690, 712, 594, 1017, 1585, 1272, 780, 1464, 1205, 46, 275, 580, 625, 1159, 584, 1608, 452, 54, 1410, 1721, 1677, 425, 95, 1639, 1727, 77, 1792, 1609, 1403, 776, 1545, 1183, 519, 1524, 848, 1498, 1017, 799, 921, 412, 791, 259, 286, 1199, 1187, 1192, 257, 713, 562, 113, 480, 958, 284, 1322, 1036, 363, 1033, 1625, 1428, 358, 53, 1479, 1439, 91, 1645, 962, 1024, 73, 1439, 639, 207, 44, 939, 1537, 1013, 141, 756, 1567, 896, 690, 1230, 1267, 93, 880, 1380, 122, 866, 1352, 969, 927, 22, 464, 1142, 1725, 497, 1293, 1060, 1553, 589, 1221, 141, 1203, 735, 1773, 474, 944, 992, 1615, 945, 1328, 46, 1295, 1752, 1144, 1798, 1413, 998, 1173, 824, 634, 1787, 207, 848, 1312, 554, 181, 1774, 1375, 1479, 1497, 253, 142, 141, 1725, 879, 1495, 1048, 1584, 382, 1529, 1701, 1473, 660, 1319, 260, 25, 1322, 757, 914, 662, 1045, 1145, 699, 52, 67, 166, 1590, 1250, 1141, 625, 475, 1136, 222, 1624, 242, 21, 914, 1473, 1336, 1599, 635, 361, 1279, 1540, 1638, 365, 483, 1308, 1481, 1350, 668, 18, 762, 762, 257, 170, 1353, 617, 1066, 436, 1558, 709, 1309, 107, 872, 635, 1245, 871, 450, 101, 1027, 328, 198, 188, 1366, 962, 708, 1730, 592, 863, 1194, 453, 1669, 123, 1232, 1666, 955, 691, 1291, 182, 1795, 1073, 1122, 1056, 1458, 135, 1253, 475, 511, 160, 35, 203, 972, 953, 287, 1021, 582, 45, 1457, 1251, 944, 1722, 608, 213, 572, 1792, 586, 467, 585, 1225, 1127, 1347, 1298, 538, 1739, 157, 1169, 1384, 1165, 1683, 1062, 1070, 1509, 1623, 1359, 342, 42, 1458, 876, 388, 1020, 618, 1424, 148, 927, 839, 1321, 849, 1186, 852, 1308, 70, 1650, 1433, 890, 410, 231, 701, 1440, 813, 508, 1657, 1749, 2, 1581, 322, 52, 1306, 20, 1485, 1603, 1160, 1722, 371, 1582, 146, 226, 47, 124, 911, 1271, 652, 1763, 796, 1273, 1706, 567, 1669, 1342, 115, 332, 1118, 1144, 1163, 829, 1497, 13, 1016, 1032, 200, 1096, 50, 470, 68, 28, 679, 1170, 334, 1093, 311, 1595, 1143, 1408, 1073, 448, 715, 927, 211, 907, 588, 120, 1146, 99, 1196, 1345, 586, 22, 879, 1564, 682, 1520, 579, 1288, 1515, 445, 1114, 1732, 669, 732, 1178, 1399, 1418, 1639, 149, 768, 517, 1366, 743, 713, 1798, 825, 494, 1674, 283, 869, 209, 815, 1554, 498, 741, 1005, 1333, 608, 210, 666, 1517, 756, 1608, 580, 1748, 1068, 995, 1267, 318, 530, 478, 103, 483, 1247, 1055, 1472, 1626, 236, 441, 1308, 1480, 309, 173, 460, 893, 1724, 612, 516, 1211, 1252, 1681, 967, 1095, 1091, 1211, 15, 1497, 924, 1539, 278, 256, 617, 1492, 1042, 115, 278, 540, 678, 427, 1574, 651, 756, 246, 1695, 48, 901, 802, 341, 381, 1466, 474, 276, 704, 428, 1424, 1403, 1797, 1567, 187, 734, 157, 654, 1415, 133, 955, 1083, 548, 689, 192, 1723, 1057, 294, 1135, 278, 250, 500, 1475, 1145, 299, 1018, 382, 209, 1387, 457, 956, 1219, 1311, 457, 1143, 1448, 1389, 161, 595, 1143, 595, 243, 1572, 244, 358, 43, 69, 1666, 166, 481, 752, 710, 1368, 1383, 595, 1516, 1329, 454, 907, 1141, 95, 1231, 1252, 256, 1552, 1516, 1143, 52, 882, 1761, 1066, 1252, 992, 373, 951, 1392, 207, 1623, 1479, 1634, 1582, 1788, 239, 1246, 481, 664, 1149, 815, 1697, 708, 477, 268, 257, 1440, 520, 35, 738, 962, 1759, 1298, 1441, 1562, 324, 1136, 836, 506, 1130, 382, 1593, 449, 471, 894, 855, 985, 828, 1213, 782, 916, 1116, 1572, 95, 1599, 734, 622, 617, 1282, 425, 1744, 1027, 588, 1078, 664, 1257, 985, 1387, 350, 1242, 1668, 1612, 1480, 1407, 1640, 1600, 1193, 23, 685, 1274, 798, 1430, 32, 1044, 846, 1234, 1427, 1713, 1112, 493, 580, 646, 1019, 785, 1175, 889, 1216, 1800, 230, 1431, 1286, 1465, 1331, 399, 810, 1094, 15, 51, 1145, 1039, 292, 717, 299, 1750, 1324, 296, 1404, 426, 1702, 1655, 702, 4, 377, 646, 6, 913, 775, 1732, 904, 823, 1707, 1245, 297, 287, 1454, 425, 1541, 1373, 1055, 909, 585, 1004, 1308, 750, 1554, 564, 16, 401, 166, 471, 1652, 1552, 1244, 709, 1702, 947, 199, 1242, 1575, 1228, 1261, 1174, 942, 231, 600, 791, 1133, 792, 792, 986, 432, 756, 886, 1763, 1676, 362, 915, 1499, 667, 1694, 108, 1776, 1008, 144, 1173, 1643, 1728, 751, 536, 490, 1062, 674, 718, 1767, 1570, 1514, 1329, 1292, 50, 184, 1713, 163, 167, 1139, 1411, 1609, 697, 845, 77, 1549, 1387, 1354, 1656, 750, 988, 1274, 1662, 496, 1543, 150, 589, 660, 462, 47, 925, 1195, 1652, 1268, 1155, 167, 1407, 941, 1750, 1187, 175, 383, 113, 774, 988, 313, 1372, 436, 1738, 160, 1448, 631, 1492, 28, 791, 289, 1400, 1448, 82, 1734, 1641, 1372, 1350, 1625, 1735, 578, 1207, 1251, 101, 1751, 1712, 750, 1779, 1215, 243, 193, 280, 58, 502, 365, 1398, 1037, 163, 1706, 879, 374, 1767, 1162, 428, 875, 562, 209, 479, 344, 1091, 1273, 787, 1052, 1416, 1693, 352, 240, 1573, 443, 1590, 1277, 1247, 1084, 461, 997, 185, 1133, 150, 530, 418, 1152, 848, 1006, 1382, 1027, 1232, 5, 1699, 1499, 553, 1657, 872, 778, 235, 981, 660, 472, 726, 90, 1638, 677, 1022, 305, 747, 8, 1367, 622, 384, 936, 1413, 1136, 791, 918, 805, 136, 600, 664, 228, 1784, 768, 733, 8, 1783, 1060, 1062, 841, 857, 104, 1446, 575, 1315, 163, 424, 869, 196, 540, 349, 1481, 312, 9, 140, 218, 1202, 897, 1030, 419, 163, 761, 1421, 55, 450, 1672, 765, 1798, 981, 501, 1745, 1404, 1748, 1011, 479, 897, 234, 810, 832, 1337, 985, 369, 1157, 1015, 1559, 1658, 1720, 976, 643, 680, 874, 603, 238, 945, 1293, 1412, 254, 282, 676, 165, 420, 1349, 660, 1350, 498, 365, 526, 75, 382, 596, 1232, 550, 641, 485, 848, 1163, 1137, 1579, 1348, 657, 1012, 1769, 678, 1043, 849, 199, 832, 1784, 718, 424, 1594, 457, 1772, 748, 1180, 1026, 224, 1165, 1775, 1635, 1310, 1661, 1209, 282, 1443, 142, 759, 50, 850, 42, 643, 178, 156, 567, 1430, 1759, 1047, 570, 228, 284, 1427, 466, 361, 548, 1529, 1230, 845, 1039, 765, 1071, 314, 134, 1552, 285, 1332, 1316, 733, 159, 917, 473, 143, 244, 945, 1011, 640, 207, 473, 1358, 1221, 1082, 655, 554, 478, 771, 666, 713, 817, 790, 652, 683, 1559, 1640, 223, 810, 1562, 357, 795, 728, 443, 837, 1195, 1531, 1190, 85, 1583, 1735, 1583, 866, 308, 1653, 937, 709, 167, 930, 52, 1396, 1619, 639, 1425, 900, 287, 394, 285, 527, 602, 1035, 1714, 190, 131, 1258, 310, 1072, 1037, 1229, 983, 1017, 529, 395, 366, 1180, 1606, 737, 565, 1766, 653, 309, 414, 1410, 866, 111, 876, 84, 819, 1162, 315, 18, 1011, 641, 1214, 1684, 356, 1243, 193, 160, 343, 1578, 229, 904, 137, 348, 432, 187, 800, 1047, 1261, 1667, 1080, 471, 208, 1111, 225, 665, 1576, 60, 420, 477, 475, 566, 1546, 1781, 1658, 988, 148, 827, 448, 352, 364, 69, 1405, 1376, 806, 385, 1439, 835, 679, 614, 30, 55, 1478, 1775, 1392, 1456, 1786, 1094, 1070, 174, 164, 172, 1409, 111, 861, 191, 1369, 440, 1143, 830, 497, 939, 1051, 4, 1054, 809, 1103, 346, 1539, 3, 359, 1118, 242, 92, 1591, 1383, 850, 1012, 1763, 1791, 1650, 529, 1290, 484, 1257, 921, 821, 1087, 1131, 191, 79, 519, 308, 255, 151, 1773, 1604, 277, 1074, 1221, 11, 893, 1750, 1244, 789, 1006, 1588, 1672, 1338, 30, 372, 518, 5, 1562, 262, 363, 596, 72, 1535, 1039, 1527, 1410, 1492, 1283, 1469, 741, 97, 1185, 880, 321, 1789, 1639, 927, 667, 840, 650, 1719, 1588, 1408, 491, 248, 1568, 947, 1296, 987, 367, 93, 176, 1321, 1298, 868, 1709, 335, 135, 2, 678, 1770, 1761, 44, 1631, 724, 767, 756, 1217, 1781, 1498, 1241, 1369, 750, 1441, 1456, 1384, 152, 1739, 1553, 1679, 1451, 514, 106, 1137, 1534, 390, 997, 792, 187, 1605, 1256, 189, 1163, 1136, 152, 228, 524, 1404, 1651, 263, 344, 1357, 563, 1600, 1118, 683, 957, 942, 1472, 1710, 160, 789, 1092, 308, 1157, 1049, 514, 903, 1555, 240, 1643, 1378, 705, 357, 1689, 1556, 741, 103, 620, 430, 32, 296, 1289, 1427, 737, 1119, 1106, 1123, 572, 705, 927, 454, 687, 248, 391, 512, 1113, 1674, 1412, 1667, 447, 83, 1234, 981, 383, 205, 1745, 394, 1563, 206, 155, 1171, 1506, 451, 604, 1095, 765, 434, 632, 611, 147, 1550, 403, 329, 17, 1021, 1432, 499, 780, 1137, 1694, 1477, 6, 1294, 417, 751, 1450, 28, 1040, 1780, 1640, 514, 1172, 1388, 655, 1760, 133, 622, 319, 1271, 372, 63, 705, 1464, 1003, 1718, 381, 1761, 662, 1112, 996]\n",
      "CPU times: user 5.89 s, sys: 10.6 s, total: 16.5 s\n",
      "Wall time: 17.9 s\n"
     ]
    },
    {
     "data": {
      "text/plain": [
       "(0, (700, 10, 10))"
      ]
     },
     "execution_count": 52,
     "metadata": {},
     "output_type": "execute_result"
    }
   ],
   "source": [
    "%%time\n",
    "\n",
    "# instancia de la cola para adicionar los resultados\n",
    "listado_instancias = []\n",
    "\n",
    "# instancia de la cola para adicionar los resultados\n",
    "almacenar_resultados_proceso = cola_proceso()\n",
    "\n",
    "@almacenar_en_cola_proceso\n",
    "def dormir_sincrono(tiempo:int) -> int:    \n",
    "    sleep(tiempo)\n",
    "    return random.randint(0,limite_tareas)\n",
    "        \n",
    "\n",
    "for tiempo_espera in range(limite_tareas):\n",
    "  \n",
    "    instancia = Process(name=f'ejecucion de tarea # {tiempo_espera}', target=dormir_sincrono, args=(2,))\n",
    "    instancia.start()\n",
    "    \n",
    "    listado_instancias.append(instancia)\n",
    "\n",
    "    \n",
    "for tipo_instancia in listado_instancias:    \n",
    "        tipo_instancia.join()\n",
    "\n",
    "resultado = obtener_resultado_cola_tarea_while(almacenar_resultados_proceso)\n",
    "print(len(resultado))\n",
    "print(resultado)\n",
    "\n",
    "del listado_instancias, almacenar_resultados_proceso, instancia, resultado\n",
    "garbage_colector.collect(), garbage_colector.get_threshold()"
   ]
  },
  {
   "cell_type": "markdown",
   "id": "a6acb440-70ff-412e-b760-d530783984b4",
   "metadata": {},
   "source": [
    "## <center> **POOL PROCESS DE MULTIPROCESO**</center>"
   ]
  },
  {
   "cell_type": "code",
   "execution_count": 53,
   "id": "15fdb301-4ebd-485d-b135-41acbe00f759",
   "metadata": {
    "scrolled": true,
    "tags": []
   },
   "outputs": [
    {
     "name": "stdout",
     "output_type": "stream",
     "text": [
      "[353, 1216, 1705, 143, 1327, 326, 1492, 415, 1066, 803, 373, 1376, 658, 1575, 444, 427, 1545, 540, 1469, 702, 611, 1156, 697, 398, 1328, 80, 644, 544, 1615, 1495, 884, 646, 721, 1006, 750, 338, 739, 939, 1331, 1098, 731, 1706, 1609, 753, 957, 1756, 912, 1432, 917, 1795, 734, 517, 630, 1691, 706, 1502, 1505, 1794, 1465, 1046, 776, 233, 818, 768, 766, 1652, 1222, 698, 126, 47, 905, 804, 801, 1080, 233, 770, 429, 1455, 1432, 416, 1202, 1112, 0, 1450, 413, 239, 1204, 955, 354, 609, 1705, 164, 1321, 1033, 1591, 351, 475, 689, 1706, 1420, 1311, 616, 1142, 1561, 1395, 945, 761, 1455, 37, 1238, 519, 1658, 232, 530, 1592, 11, 1134, 1787, 210, 245, 1627, 999, 1456, 1325, 827, 1788, 1718, 1122, 1106, 1691, 609, 1556, 365, 10, 1662, 780, 1095, 1421, 375, 1485, 718, 1225, 1709, 462, 1037, 74, 151, 1494, 494, 931, 1079, 893, 1109, 1373, 155, 993, 1043, 1443, 146, 781, 1069, 1432, 1511, 1483, 420, 561, 1768, 607, 268, 1777, 759, 1022, 1655, 1091, 1262, 32, 619, 214, 391, 479, 1097, 1799, 859, 1050, 95, 1184, 1015, 438, 322, 249, 1135, 1659, 908, 1041, 1418, 971, 179, 435, 1250, 1459, 1264, 1739, 1763, 484, 759, 216, 424, 1129, 1360, 605, 586, 1181, 784, 1355, 1566, 842, 1601, 713, 228, 526, 747, 339, 402, 514, 686, 1539, 458, 464, 1141, 3, 914, 196, 183, 285, 1515, 363, 1338, 1311, 299, 656, 316, 1643, 976, 1150, 67, 862, 1043, 1752, 1477, 933, 1007, 10, 1054, 94, 1498, 1137, 1256, 1106, 266, 67, 1192, 1344, 731, 86, 911, 965, 438, 1309, 269, 1402, 380, 1353, 609, 497, 1656, 1421, 337, 1406, 1022, 863, 694, 1643, 175, 556, 1502, 1122, 1571, 1592, 1100, 496, 1711, 1369, 421, 1655, 1016, 1776, 149, 362, 537, 1375, 1504, 727, 785, 1394, 1059, 445, 1074, 1334, 300, 585, 293, 441, 1246, 157, 1336, 1693, 1532, 1210, 712, 471, 1428, 558, 845, 937, 392, 516, 394, 1155, 1268, 685, 845, 645, 399, 1129, 1616, 1767, 222, 1304, 436, 1275, 273, 221, 545, 1714, 1401, 408, 536, 1381, 506, 619, 730, 1740, 989, 1722, 1799, 358, 728, 911, 1175, 73, 67, 1244, 13, 1769, 270, 137, 1649, 1711, 40, 1060, 249, 437, 1240, 324, 1084, 180, 1026, 968, 1598, 1254, 255, 586, 79, 487, 1651, 1540, 316, 186, 827, 1091, 841, 112, 727, 1097, 895, 764, 415, 1023, 1540, 207, 219, 1103, 993, 1638, 1278, 371, 324, 78, 1111, 1487, 228, 957, 464, 400, 545, 1514, 1266, 953, 1075, 367, 115, 499, 40, 730, 659, 489, 343, 1112, 963, 23, 1291, 1005, 1379, 565, 791, 855, 981, 377, 619, 1488, 481, 74, 764, 879, 1066, 1580, 330, 896, 63, 471, 690, 239, 86, 1327, 1683, 364, 27, 489, 1375, 931, 1581, 573, 744, 232, 113, 831, 619, 576, 1589, 334, 74, 1461, 1237, 1690, 966, 1426, 534, 1152, 1713, 1244, 1549, 1016, 1124, 604, 756, 1568, 1224, 1068, 627, 842, 557, 195, 470, 1391, 967, 1111, 1159, 459, 281, 870, 1388, 1616, 25, 1679, 161, 20, 1020, 882, 827, 1323, 712, 1484, 527, 1629, 186, 386, 1175, 1682, 1629, 478, 103, 1266, 1706, 805, 1440, 241, 229, 1100, 1430, 231, 430, 564, 647, 732, 1155, 1076, 1361, 699, 1277, 713, 1132, 156, 1567, 317, 805, 1520, 969, 475, 1257, 532, 1763, 643, 65, 991, 1675, 442, 1543, 1541, 147, 1473, 1336, 962, 1234, 712, 1222, 1657, 1758, 293, 1765, 222, 660, 1485, 1257, 1752, 798, 17, 503, 1557, 239, 1090, 1625, 781, 81, 560, 696, 910, 1647, 1314, 274, 1243, 6, 1061, 119, 1454, 859, 1154, 894, 1346, 862, 1548]\n",
      "CPU times: user 91.8 ms, sys: 22 ms, total: 114 ms\n",
      "Wall time: 5min 4s\n"
     ]
    },
    {
     "data": {
      "text/plain": [
       "(0, (700, 10, 10))"
      ]
     },
     "execution_count": 53,
     "metadata": {},
     "output_type": "execute_result"
    }
   ],
   "source": [
    "%%time\n",
    "\n",
    "def dormir_sincrono_multiprocessing(contador:int) -> int:    \n",
    "    sleep(2)\n",
    "    return random.randint(0,limite_tareas)\n",
    "\n",
    "with Pool() as multiprocesing:\n",
    "    pool = multiprocesing.map(dormir_sincrono_multiprocessing, range(limite_tareas//3))\n",
    "print(list(pool))\n",
    "\n",
    "del multiprocesing, pool\n",
    "garbage_colector.collect(), garbage_colector.get_threshold()"
   ]
  },
  {
   "cell_type": "markdown",
   "id": "69a37318-bde6-4cd5-a2cd-3bcd66071c52",
   "metadata": {},
   "source": [
    "## <center> **THREAD POOL DE MULTIPROCESO**</center>"
   ]
  },
  {
   "cell_type": "code",
   "execution_count": 54,
   "id": "49ff06b9-b6e7-44d3-8e69-b2b7c966b36b",
   "metadata": {},
   "outputs": [
    {
     "name": "stdout",
     "output_type": "stream",
     "text": [
      "[459, 354, 1608, 113, 888, 1534, 442, 945, 1301, 445, 255, 591, 99, 1212, 95, 1792, 1381, 671, 1332, 401, 1733, 1482, 294, 1587, 1790, 1157, 580, 172, 1345, 370, 44, 625, 109, 126, 335, 1349, 383, 530, 129, 137, 1185, 434, 168, 397, 269, 1323, 1364, 84, 1617, 155, 1221, 303, 1327, 1138, 218, 1675, 1027, 926, 896, 733, 670, 1473, 619, 523, 1569, 1605, 1606, 321, 1501, 93, 469, 1431, 164, 441, 800, 767, 1039, 1289, 213, 423, 1060, 1751, 1588, 1117, 1121, 1715, 182, 549, 1272, 390, 1154, 121, 1247, 560, 413, 568, 475, 475, 805, 1292, 489, 29, 989, 104, 71, 1486, 15, 581, 1086, 415, 585, 410, 1587, 29, 699, 1100, 1042, 1063, 872, 1685, 1033, 1501, 22, 968, 373, 344, 762, 262, 1098, 1696, 128, 773, 686, 157, 576, 58, 860, 1119, 941, 460, 1150, 1054, 1032, 299, 469, 31, 1114, 689, 1579, 1788, 1356, 1527, 1328, 639, 88, 1563, 1161, 794, 370, 365, 885, 1740, 1, 623, 338, 954, 605, 983, 406, 1375, 342, 596, 459, 1348, 1709, 1781, 725, 1063, 1178, 1120, 1191, 1628, 1002, 276, 1739, 1122, 776, 49, 1155, 978, 792, 85, 1304, 911, 512, 1765, 103, 1784, 543, 514, 666, 450, 1609, 265, 1225, 880, 447, 1601, 781, 1006, 672, 975, 1348, 1404, 1043, 461, 714, 200, 995, 845, 1397, 1000, 312, 1266, 330, 1546, 1231, 310, 771, 1052, 1078, 1101, 1331, 951, 1752, 471, 1459, 27, 748, 52, 938, 1305, 762, 342, 1297, 395, 1094, 373, 1782, 431, 113, 1440, 1190, 1168, 1667, 1091, 115, 1455, 314, 1583, 289, 1011, 1433, 468, 857, 9, 620, 1004, 1486, 1463, 1243, 927, 762, 589, 546, 1533, 557, 455, 822, 754, 509, 960, 662, 245, 1378, 1074, 1641, 1759, 703, 184, 535, 864, 623, 125, 400, 1244, 1138, 1284, 1779, 424, 1467, 987, 630, 1636, 1639, 1704, 1087, 411, 588, 1790, 263, 1358, 1014, 468, 595, 985, 788, 1641, 349, 242, 670, 406, 1621, 1741, 1173, 1083, 1364, 968, 1412, 1361, 1661, 1119, 843, 1581, 329, 152, 776, 160, 316, 888, 170, 1725, 921, 1762, 898, 1449, 588, 45, 1660, 718, 107, 1044, 207, 376, 1341, 1291, 666, 1002, 971, 1698, 1088, 430, 67, 1483, 779, 1102, 203, 537, 14, 1600, 761, 1386, 54, 1111, 1481, 1366, 1127, 699, 1709, 300, 1541, 504, 623, 850, 1029, 1139, 1254, 880, 148, 551, 831, 1639, 1335, 454, 1314, 58, 1222, 1709, 774, 1668, 14, 1778, 330, 979, 953, 1276, 1420, 1719, 1771, 803, 1290, 1391, 56, 143, 1761, 682, 852, 1448, 597, 885, 148, 847, 918, 917, 1263, 575, 1049, 257, 1742, 1293, 133, 928, 330, 1415, 457, 862, 325, 1052, 504, 291, 1219, 1583, 1605, 1484, 1481, 295, 1598, 1036, 797, 353, 1730, 922, 451, 1344, 1474, 1156, 899, 838, 1501, 1344, 581, 1772, 955, 1750, 212, 1264, 1040, 618, 2, 1131, 238, 1459, 349, 1380, 587, 890, 220, 1627, 1129, 528, 691, 1652, 1694, 1763, 565, 391, 1605, 393, 945, 1132, 593, 833, 1485, 582, 605, 821, 1369, 268, 936, 80, 1298, 1675, 1434, 1465, 1763, 1706, 1620, 1440, 1382, 134, 926, 1072, 816, 1759, 1361, 1683, 432, 72, 685, 802, 1206, 1012, 1352, 644, 225, 1234, 236, 340, 1366, 492, 1291, 1688, 1075, 1361, 1185, 1122, 1393, 809, 177, 446, 1621, 732, 1014, 97, 1770, 1507, 648, 1011, 955, 486, 244, 479, 654, 81, 1733, 1689, 1128, 1619, 1565, 1713, 796, 255, 1232, 473, 106, 1020, 1225, 1548, 1248, 1188, 936, 871, 1001, 1751, 766, 278, 130, 946, 238, 1192, 1591, 913, 112, 1248, 33, 699, 1230, 333, 201, 170, 1371, 1347, 801, 1252, 859, 794, 1743, 1035, 1416, 110]\n",
      "CPU times: user 101 ms, sys: 35.6 ms, total: 137 ms\n",
      "Wall time: 5min 4s\n"
     ]
    },
    {
     "data": {
      "text/plain": [
       "(0, (700, 10, 10))"
      ]
     },
     "execution_count": 54,
     "metadata": {},
     "output_type": "execute_result"
    }
   ],
   "source": [
    "%%time\n",
    "\n",
    "with ThreadPool() as multiprocesing:\n",
    "    pool = multiprocesing.map(dormir_sincrono_multiprocessing, range(limite_tareas//3))\n",
    "print(list(pool))\n",
    "\n",
    "del multiprocesing, pool\n",
    "garbage_colector.collect(), garbage_colector.get_threshold()"
   ]
  },
  {
   "cell_type": "markdown",
   "id": "aed39bf6-b117-4cc5-9a37-5d57c6b3f4cd",
   "metadata": {},
   "source": [
    "## <center> **PROCESS POOL EXECUTOR DE CONCURRENT.FUTURES**</center>"
   ]
  },
  {
   "cell_type": "code",
   "execution_count": 55,
   "id": "9981899a-0291-46e4-9e22-c7de726116ea",
   "metadata": {},
   "outputs": [
    {
     "name": "stdout",
     "output_type": "stream",
     "text": [
      "[227, 1396, 204, 1464, 916, 59, 1593, 1464, 932, 1707, 243, 665, 371, 1087, 1789, 146, 196, 1512, 507, 1108, 920, 1773, 1781, 713, 231, 1453, 1766, 603, 38, 347, 641, 160, 1183, 1651, 609, 165, 61, 183, 1692, 510, 1129, 1406, 437, 1775, 12, 11, 375, 1347, 99, 272, 549, 867, 31, 480, 1247, 14, 1164, 514, 1721, 1470, 535, 1105, 1255, 198, 43, 537, 681, 175, 757, 947, 1282, 1629, 869, 1534, 1413, 587, 1028, 1519, 1323, 832, 1182, 1754, 1398, 923, 262, 1770, 1626, 667, 1137, 42, 956, 1172, 1001, 1510, 1591, 1696, 1674, 908, 363, 369, 1235, 1481, 892, 1542, 696, 1058, 136, 354, 1349, 1395, 646, 1364, 917, 1367, 808, 901, 1686, 536, 1790, 461, 831, 375, 383, 1768, 87, 1032, 1179, 174, 1297, 289, 331, 813, 1481, 667, 1479, 795, 413, 157, 1671, 744, 1734, 779, 285, 1760, 1680, 680, 1374, 1639, 1555, 219, 785, 1527, 984, 116, 721, 785, 286, 695, 491, 251, 955, 100, 461, 1625, 1516, 1192, 561, 16, 1731, 619, 975, 443, 920, 373, 1729, 240, 319, 1680, 1252, 339, 500, 637, 1690, 1243, 56, 742, 1738, 652, 1626, 49, 417, 1323, 329, 1457, 1562, 1761, 1435, 328, 1630, 197, 1018, 1615, 416, 1082, 94, 603, 531, 584, 249, 1366, 423, 443, 1585, 635, 1312, 121, 298, 1386, 151, 25, 1270, 664, 1001, 83, 1567, 424, 487, 1085, 156, 1747, 1533, 955, 1416, 821, 1091, 1344, 1063, 1791, 725, 706, 1669, 737, 1274, 1103, 459, 1126, 318, 1045, 1624, 1178, 60, 307, 1340, 141, 46, 1523, 796, 0, 1131, 585, 713, 759, 583, 1727, 756, 1294, 1127, 1175, 314, 291, 1298, 848, 1315, 666, 874, 1324, 526, 667, 180, 894, 1174, 1589, 552, 829, 412, 251, 328, 1333, 1229, 742, 362, 475, 581, 265, 1694, 1146, 681, 1007, 1483, 1093, 224, 1289, 255, 602, 271, 976, 1222, 999, 50, 1493, 1554, 110, 1698, 909, 209, 1301, 1450, 366, 360, 175, 1626, 371, 513, 1209, 605, 1770, 27, 192, 1624, 1699, 993, 887, 573, 1398, 1037, 582, 1465, 412, 506, 1388, 1322, 133, 926, 1663, 1544, 1242, 601, 1083, 44, 1575, 562, 1141, 88, 1414, 1361, 174, 125, 1478, 1109, 1469, 295, 1213, 1227, 560, 1367, 134, 1408, 1441, 1758, 652, 1651, 1783, 1620, 395, 1776, 770, 526, 1543, 1335, 72, 930, 353, 1590, 340, 875, 706, 624, 674, 1303, 893, 581, 966, 509, 668, 1773, 54, 1769, 574, 833, 415, 1449, 638, 1365, 807, 1055, 1379, 62, 1330, 358, 1598, 588, 289, 1660, 585, 1443, 212, 1611, 904, 1614, 98, 1659, 172, 390, 1534, 1122, 976, 235, 183, 1346, 1429, 1729, 1699, 384, 1568, 1778, 889, 1760, 182, 1038, 659, 648, 567, 1017, 378, 657, 683, 264, 1256, 537, 1560, 1458, 1196, 248, 750, 1706, 257, 373, 1581, 1647, 1733, 1111, 697, 1460, 1501, 733, 180, 1194, 1164, 881, 207, 1758, 502, 1543, 1555, 1445, 797, 1466, 41, 1401, 1628, 451, 1075, 1177, 1358, 521, 1255, 1333, 1535, 1234, 1697, 642, 1167, 1563, 865, 136, 1604, 1325, 235, 1210, 1164, 1688, 328, 848, 832, 301, 293, 1275, 1727, 1382, 352, 1130, 809, 1420, 1492, 1271, 800, 1253, 1421, 330, 984, 98, 1293, 1774, 74, 661, 105, 1131, 667, 1690, 944, 1265, 1616, 1656, 1463, 1684, 1164, 1414, 58, 21, 356, 1008, 112, 430, 1519, 1071, 1013, 1209, 133, 1162, 1382, 949, 1629, 1494, 1798, 688, 1515, 560, 999, 598, 344, 546, 1450, 872, 727, 994, 1155, 1577, 139, 1542, 765, 941, 1132, 456, 1294, 234, 159, 46, 581, 1072, 950, 958, 1700, 1793, 1715, 850, 955, 1377, 1072, 285, 995, 1309, 1170, 234, 675, 992, 162, 352, 1494, 1415, 92]\n",
      "CPU times: user 411 ms, sys: 140 ms, total: 551 ms\n",
      "Wall time: 5min\n"
     ]
    },
    {
     "data": {
      "text/plain": [
       "(0, (700, 10, 10))"
      ]
     },
     "execution_count": 55,
     "metadata": {},
     "output_type": "execute_result"
    }
   ],
   "source": [
    "%%time\n",
    "\n",
    "with ProcessPoolExecutor() as executor:\n",
    "    pool = executor.map(dormir_sincrono_multiprocessing, range(limite_tareas//3))\n",
    "print(list(pool))\n",
    "\n",
    "del executor, pool\n",
    "garbage_colector.collect(), garbage_colector.get_threshold()"
   ]
  },
  {
   "cell_type": "markdown",
   "id": "c3219ba3-479f-468e-8674-dd53c651460e",
   "metadata": {},
   "source": [
    "## <center> **THREAD POOL EXECUTOR DE CONCURRENT.FUTURES**</center>"
   ]
  },
  {
   "cell_type": "code",
   "execution_count": 56,
   "id": "7699c5ea-b3f9-4bcc-ae7d-0bd31ec85534",
   "metadata": {},
   "outputs": [
    {
     "name": "stdout",
     "output_type": "stream",
     "text": [
      "[536, 1411, 170, 1664, 891, 1723, 486, 1302, 100, 864, 665, 511, 1087, 1565, 808, 220, 31, 1314, 1623, 1693, 1589, 635, 477, 1406, 1382, 984, 1442, 1165, 302, 911, 1648, 706, 921, 1765, 645, 333, 397, 341, 1330, 208, 159, 979, 739, 219, 840, 1210, 453, 1155, 1144, 796, 1763, 1776, 470, 1260, 1360, 1141, 1664, 513, 1262, 581, 1327, 1355, 1397, 1215, 644, 1076, 1304, 1420, 1630, 1793, 557, 248, 956, 164, 1761, 1778, 1716, 1107, 1576, 1423, 1569, 1631, 448, 1594, 152, 600, 262, 401, 640, 996, 823, 1499, 555, 634, 1371, 1293, 1473, 869, 1095, 1410, 963, 138, 547, 279, 444, 1523, 178, 786, 509, 977, 1126, 1652, 299, 908, 752, 14, 1707, 76, 863, 1536, 569, 258, 864, 1642, 1710, 885, 1690, 3, 294, 161, 1574, 1790, 969, 565, 888, 551, 681, 448, 434, 1541, 1610, 746, 71, 1533, 1571, 608, 1443, 1617, 1580, 1214, 260, 731, 829, 306, 1505, 1645, 1170, 1615, 1697, 1147, 457, 1403, 599, 1250, 1294, 230, 1342, 191, 1009, 451, 201, 1736, 593, 1191, 1562, 628, 1384, 1189, 1688, 2, 1259, 650, 74, 837, 1565, 711, 893, 1364, 1684, 986, 1444, 1050, 1611, 592, 1757, 1430, 1215, 275, 252, 1625, 1779, 999, 887, 696, 71, 501, 214, 424, 716, 1031, 106, 367, 962, 1264, 1041, 1007, 1588, 739, 331, 360, 1039, 1132, 866, 1261, 1440, 282, 65, 539, 120, 461, 1277, 730, 1147, 511, 1514, 791, 466, 1176, 61, 1327, 142, 62, 1226, 321, 591, 1572, 1176, 1698, 1096, 686, 1710, 1513, 373, 288, 1678, 1554, 531, 12, 1788, 225, 610, 1372, 604, 1426, 1486, 311, 64, 521, 582, 718, 1156, 830, 1306, 1426, 11, 1419, 980, 416, 258, 615, 167, 654, 1233, 6, 1544, 311, 1053, 361, 1496, 428, 1278, 11, 891, 1296, 1697, 463, 1791, 363, 931, 1724, 1285, 660, 217, 459, 408, 342, 1001, 938, 200, 1094, 1381, 321, 1743, 1053, 717, 109, 639, 579, 1347, 446, 1658, 236, 606, 1021, 928, 1188, 1062, 504, 137, 856, 1559, 499, 513, 375, 1328, 683, 1640, 1693, 736, 1520, 1327, 1282, 1523, 212, 1128, 1043, 1736, 324, 577, 1557, 417, 993, 895, 807, 857, 438, 1301, 546, 1208, 1165, 370, 177, 977, 1398, 1721, 665, 390, 1657, 1361, 431, 1478, 1611, 539, 275, 1091, 1010, 1192, 1266, 551, 1768, 1334, 1419, 983, 259, 1350, 1137, 1049, 64, 962, 1374, 1501, 109, 1682, 1023, 1173, 1547, 531, 1152, 324, 791, 633, 1370, 1395, 1167, 1624, 566, 562, 645, 667, 653, 1118, 206, 948, 1321, 1012, 1298, 725, 216, 778, 1545, 1073, 1601, 1752, 372, 1768, 1195, 1390, 945, 933, 108, 1112, 1455, 1724, 905, 1004, 62, 1403, 761, 537, 1017, 1667, 1193, 1674, 1260, 1551, 1030, 1338, 808, 1517, 1691, 1750, 236, 118, 1414, 1481, 189, 526, 1800, 908, 1580, 599, 1196, 1433, 1233, 1751, 1743, 827, 1679, 270, 161, 494, 1310, 1729, 1716, 1397, 148, 1681, 415, 513, 1442, 1226, 35, 1083, 1479, 223, 320, 1487, 1639, 423, 132, 881, 1296, 1514, 368, 1148, 291, 554, 1381, 1630, 327, 395, 128, 937, 73, 1410, 1771, 660, 490, 1744, 1431, 662, 1043, 1006, 1540, 988, 537, 1159, 825, 1624, 252, 286, 1705, 573, 857, 382, 276, 541, 1441, 1108, 343, 1202, 837, 385, 243, 230, 902, 811, 1179, 1488, 426, 524, 1797, 1627, 122, 1556, 178, 506, 387, 1714, 640, 162, 1710, 281, 408, 1517, 1459, 1132, 262, 896, 1176, 239, 1719, 1610, 1514, 460, 1045, 1688, 70, 487, 373, 1095, 804, 879, 403, 698, 857, 1470, 1429, 259, 542, 1217, 718, 111, 400, 1076, 1784, 1319, 595, 370, 1096, 1183, 1308, 632, 1102, 636, 908, 1573, 916, 715, 91]\n",
      "CPU times: user 150 ms, sys: 37.2 ms, total: 188 ms\n",
      "Wall time: 2min 30s\n"
     ]
    },
    {
     "data": {
      "text/plain": [
       "(0, (700, 10, 10))"
      ]
     },
     "execution_count": 56,
     "metadata": {},
     "output_type": "execute_result"
    }
   ],
   "source": [
    "%%time\n",
    "\n",
    "with ThreadPoolExecutor() as executor:\n",
    "    pool = executor.map(dormir_sincrono_multiprocessing, range(limite_tareas//3))\n",
    "print(list(pool))\n",
    "\n",
    "del executor, pool\n",
    "garbage_colector.collect(), garbage_colector.get_threshold()"
   ]
  },
  {
   "cell_type": "markdown",
   "id": "74f0587a-beaf-4477-85c7-dfd545847d58",
   "metadata": {},
   "source": [
    "#  &&&&&&&&&&&&&&&&&&&&&&&&&&&&&&&&&&&&&&&&&&&&&&&&&&&&&&&&&&&&&&&&&&&&&&&&&&&&&&&\n",
    "#  &&&&&&&&&&&&&&&&&&&&&&&&&&&&&&&&&&&&&&&&&&&&&&&&&&&&&&&&&&&&&&&&&&&&&&&&&&&&&&&\n",
    "#  &&&&&&&&&&&&&&&&&&&&&&&&&&&&&&&&&&&&&&&&&&&&&&&&&&&&&&&&&&&&&&&&&&&&&&&&&&&&&&&"
   ]
  },
  {
   "cell_type": "markdown",
   "id": "cc8984b1-0d91-4e61-a3d2-f9fb7801050e",
   "metadata": {},
   "source": [
    "## <center> **COMPARTIR DATOS ENTRE HILOS Y PROCESOS**</center>"
   ]
  },
  {
   "cell_type": "markdown",
   "id": "c36d439a-420a-4e0b-ac51-2eb793419a33",
   "metadata": {},
   "source": [
    "## <center> Compartir Datos Globales entre Hilos. "
   ]
  },
  {
   "cell_type": "code",
   "execution_count": 57,
   "id": "6a2b1cd3-1b62-49b6-a7ea-20c31343184d",
   "metadata": {},
   "outputs": [
    {
     "name": "stdout",
     "output_type": "stream",
     "text": [
      "Valor parcial 50\n",
      "Valor parcial 50\n",
      "Valor parcial 50\n",
      "Valor parcial 50\n",
      "Valor final 50\n",
      "CPU times: user 44.6 ms, sys: 154 µs, total: 44.8 ms\n",
      "Wall time: 241 ms\n"
     ]
    },
    {
     "data": {
      "text/plain": [
       "(0, (700, 10, 10))"
      ]
     },
     "execution_count": 57,
     "metadata": {},
     "output_type": "execute_result"
    }
   ],
   "source": [
    "%%time\n",
    "\n",
    "compartir = 0\n",
    "limite_hilos = 4\n",
    "limite_iterador = 25\n",
    "\n",
    "def memoria_compartida():\n",
    "    \n",
    "    global compartir    \n",
    "    \n",
    "    compartir_local  = compartir    \n",
    "    \n",
    "    for i in range(limite_iterador):\n",
    "        compartir_local += 1\n",
    "        \n",
    "    sleep(0.2)\n",
    "    \n",
    "    for i in range(limite_iterador):\n",
    "        compartir_local += 1\n",
    "       \n",
    "    compartir  = compartir_local\n",
    "    \n",
    "    print(f'Valor parcial {compartir}')\n",
    "\n",
    "hilos = []\n",
    "\n",
    "for hilo_numero in range(limite_hilos):\n",
    "    \n",
    "    hilo = Thread(target=memoria_compartida)\n",
    "    hilo.start() \n",
    "    \n",
    "    hilos.append(hilo)\n",
    "    \n",
    "for instancia_hilo in hilos:\n",
    "    \n",
    "    instancia_hilo.join()\n",
    "    \n",
    "\n",
    "print(f'Valor final {compartir}')\n",
    "\n",
    "del compartir, limite_hilos, limite_iterador\n",
    "garbage_colector.collect(), garbage_colector.get_threshold()"
   ]
  },
  {
   "cell_type": "markdown",
   "id": "04793b46-06de-4bab-bbea-4806f090b475",
   "metadata": {},
   "source": [
    "## <center> Definiendo la seccion critica. "
   ]
  },
  {
   "cell_type": "code",
   "execution_count": 58,
   "id": "34384b58-9641-4f7b-b2f3-822efa21fb91",
   "metadata": {},
   "outputs": [
    {
     "name": "stdout",
     "output_type": "stream",
     "text": [
      "Valor parcial 50\n",
      "Valor parcial 100\n",
      "Valor parcial 150\n",
      "Valor parcial 200\n",
      "Valor final 200\n",
      "CPU times: user 47.2 ms, sys: 0 ns, total: 47.2 ms\n",
      "Wall time: 842 ms\n"
     ]
    },
    {
     "data": {
      "text/plain": [
       "(0, (700, 10, 10))"
      ]
     },
     "execution_count": 58,
     "metadata": {},
     "output_type": "execute_result"
    }
   ],
   "source": [
    "%%time\n",
    "\n",
    "from threading import Lock\n",
    "# instancia que bloquea hasta que finalice la seccion critica\n",
    "seccion_critica = Lock()\n",
    "\n",
    "compartir = 0\n",
    "limite_hilos = 4\n",
    "limite_iterador = 25\n",
    "\n",
    "def memoria_compartida():\n",
    "    \n",
    "    global compartir    \n",
    "    \n",
    "    # debe estar ANTES de asignar el valor de la variable, que es el INICIO de la seccion critica\n",
    "    seccion_critica.acquire()\n",
    "    \n",
    "    compartir_local  = compartir    \n",
    "    \n",
    "    for i in range(limite_iterador):\n",
    "        compartir_local += 1\n",
    "        \n",
    "    sleep(0.2)\n",
    "    \n",
    "    for i in range(limite_iterador):\n",
    "        compartir_local += 1\n",
    "       \n",
    "    compartir  = compartir_local\n",
    "    \n",
    "    # debe estar DESPUES de asignar el valor de la variable, que es el FINAL de la seccion critica\n",
    "    seccion_critica.release()\n",
    "    \n",
    "    print(f'Valor parcial {compartir}')\n",
    "\n",
    "hilos = []\n",
    "\n",
    "for hilo_numero in range(limite_hilos):\n",
    "    \n",
    "    hilo = Thread(target=memoria_compartida)\n",
    "    hilo.start()\n",
    "    \n",
    "    hilos.append(hilo)\n",
    "    \n",
    "for instancia_hilo in hilos:\n",
    "    \n",
    "    instancia_hilo.join()\n",
    "    \n",
    "\n",
    "print(f'Valor final {compartir}')\n",
    "\n",
    "del seccion_critica, compartir, limite_hilos, limite_iterador\n",
    "garbage_colector.collect(), garbage_colector.get_threshold()"
   ]
  },
  {
   "cell_type": "markdown",
   "id": "38456a3c-7fb9-4f98-a5f3-a1aa4fd363c6",
   "metadata": {},
   "source": [
    "## <center> Compartir Datos entre Procesos. "
   ]
  },
  {
   "cell_type": "code",
   "execution_count": 59,
   "id": "3d548325-f88d-4016-bcfa-b5a78d6b835f",
   "metadata": {},
   "outputs": [
    {
     "name": "stdout",
     "output_type": "stream",
     "text": [
      "Valor parcial 50\n",
      "Valor parcial 50\n",
      "Valor parcial 50\n",
      "Valor parcial 50\n",
      "Valor final 0\n",
      "CPU times: user 56.4 ms, sys: 63.7 ms, total: 120 ms\n",
      "Wall time: 309 ms\n"
     ]
    },
    {
     "data": {
      "text/plain": [
       "(0, (700, 10, 10))"
      ]
     },
     "execution_count": 59,
     "metadata": {},
     "output_type": "execute_result"
    }
   ],
   "source": [
    "%%time\n",
    "\n",
    "compartir = 0\n",
    "limite_procesos = 4\n",
    "limite_iterador = 25\n",
    "    \n",
    "def datos_compartidos():\n",
    "    \n",
    "    global compartir\n",
    "    \n",
    "    compartir_local  = compartir\n",
    "    \n",
    "    for i in range(limite_iterador):\n",
    "        compartir_local += 1\n",
    "        \n",
    "    sleep(0.2)\n",
    "    \n",
    "    for i in range(limite_iterador):\n",
    "        compartir_local += 1\n",
    "     \n",
    "    compartir  = compartir_local\n",
    "    print(f'Valor parcial {compartir}')\n",
    "\n",
    "procesos = []\n",
    "\n",
    "for hilo_numero in range(limite_procesos):\n",
    "    \n",
    "    proceso = Process(target=datos_compartidos)\n",
    "    proceso.start()\n",
    "    \n",
    "    procesos.append(proceso)\n",
    "    \n",
    "for instancia_proceso in procesos:\n",
    "    \n",
    "    instancia_proceso.join()\n",
    "    \n",
    "\n",
    "print(f'Valor final {compartir}')\n",
    "\n",
    "del compartir, limite_procesos, limite_iterador\n",
    "garbage_colector.collect(), garbage_colector.get_threshold()"
   ]
  },
  {
   "cell_type": "markdown",
   "id": "6329ef41-5bee-40e8-8ab9-4f63a06b7345",
   "metadata": {},
   "source": [
    "## <center> Sin definir la seccion critica. "
   ]
  },
  {
   "cell_type": "code",
   "execution_count": 60,
   "id": "6a7bba0c-2255-4491-9cda-33ef16487d41",
   "metadata": {},
   "outputs": [
    {
     "name": "stdout",
     "output_type": "stream",
     "text": [
      "Valor parcial 125\n",
      "Valor parcial 150\n",
      "Valor parcial 175\n",
      "Valor parcial 200\n",
      "Valor final 200\n",
      "CPU times: user 119 ms, sys: 23.5 ms, total: 142 ms\n",
      "Wall time: 335 ms\n"
     ]
    },
    {
     "data": {
      "text/plain": [
       "(0, (700, 10, 10))"
      ]
     },
     "execution_count": 60,
     "metadata": {},
     "output_type": "execute_result"
    }
   ],
   "source": [
    "%%time\n",
    "from multiprocessing import Value\n",
    "\n",
    "# instancia que permite compartir los valores, definiendo el tipo de dato int\n",
    "compartir = Value('i',0)\n",
    "\n",
    "limite_procesos = 4\n",
    "limite_iterador = 25\n",
    "\n",
    "def datos_compartidos(): \n",
    "    \n",
    "    global compartir\n",
    "    \n",
    "    for i in range(limite_iterador):\n",
    "        compartir.value += 1\n",
    "        \n",
    "    sleep(0.2)\n",
    "    \n",
    "    for i in range(limite_iterador):\n",
    "        compartir.value += 1\n",
    "    \n",
    "    print(f'Valor parcial {compartir.value}')\n",
    "\n",
    "procesos = []\n",
    "\n",
    "for hilo_numero in range(limite_procesos):\n",
    "    \n",
    "    proceso = Process(target=datos_compartidos)\n",
    "    proceso.start()\n",
    "    \n",
    "    procesos.append(proceso)\n",
    "    \n",
    "for instancia_proceso in procesos:\n",
    "    \n",
    "    instancia_proceso.join()\n",
    "    \n",
    "\n",
    "print(f'Valor final {compartir.value}')\n",
    "\n",
    "del compartir, limite_procesos, limite_iterador\n",
    "garbage_colector.collect(), garbage_colector.get_threshold()"
   ]
  },
  {
   "cell_type": "markdown",
   "id": "3fba5c12-942e-469d-bf58-9fad27cde65d",
   "metadata": {},
   "source": [
    "## <center> Definiendo la seccion critica. "
   ]
  },
  {
   "cell_type": "code",
   "execution_count": 61,
   "id": "84059027-a920-4db3-85e0-0df14548620d",
   "metadata": {},
   "outputs": [
    {
     "name": "stdout",
     "output_type": "stream",
     "text": [
      "Valor parcial 50\n",
      "Valor parcial 100\n",
      "Valor parcial 150\n",
      "Valor parcial 200\n",
      "Valor final 200\n",
      "CPU times: user 55.4 ms, sys: 50.8 ms, total: 106 ms\n",
      "Wall time: 880 ms\n"
     ]
    },
    {
     "data": {
      "text/plain": [
       "(0, (700, 10, 10))"
      ]
     },
     "execution_count": 61,
     "metadata": {},
     "output_type": "execute_result"
    }
   ],
   "source": [
    "%%time\n",
    "from multiprocessing import Lock\n",
    "\n",
    "# instancia que bloquea hasta que finalice la seccion critica\n",
    "seccion_critica = Lock()\n",
    "\n",
    "# instancia que permite compartir los valores\n",
    "compartir = Value('i',0)\n",
    "\n",
    "limite_procesos = 4\n",
    "limite_iterador = 25\n",
    "\n",
    "def datos_compartidos():\n",
    "    \n",
    "    global compartir\n",
    "    \n",
    "    # debe estar ANTES de asignar el valor de la variable, que es el INICIO de la seccion critica\n",
    "    seccion_critica.acquire() \n",
    "    \n",
    "    for i in range(limite_iterador):\n",
    "        compartir.value += 1\n",
    "        \n",
    "    sleep(0.2)\n",
    "    \n",
    "    for i in range(limite_iterador):\n",
    "        compartir.value += 1\n",
    "    \n",
    "    # debe estar DESPUES de asignar el valor de la variable, que es el FINAL de la seccion critica\n",
    "    seccion_critica.release()\n",
    "    \n",
    "    print(f'Valor parcial {compartir.value}')\n",
    "\n",
    "procesos = []\n",
    "\n",
    "for hilo_numero in range(limite_procesos):\n",
    "    \n",
    "    proceso = Process(target=datos_compartidos)\n",
    "    proceso.start()\n",
    "    \n",
    "    procesos.append(proceso)\n",
    "    \n",
    "for instancia_proceso in procesos:\n",
    "    \n",
    "    instancia_proceso.join()\n",
    "    \n",
    "\n",
    "print(f'Valor final {compartir.value}')\n",
    "\n",
    "del seccion_critica, compartir, limite_procesos, limite_iterador\n",
    "garbage_colector.collect(), garbage_colector.get_threshold()"
   ]
  },
  {
   "cell_type": "markdown",
   "id": "09b50a01-7fb7-4641-bc3a-21357ff363ee",
   "metadata": {},
   "source": [
    "## <center> Compartir Datos entre THREAD POOL. \n",
    "### <center> SIN SECCION CRITICA. "
   ]
  },
  {
   "cell_type": "code",
   "execution_count": 62,
   "id": "928c51f4-da6d-4802-be27-397238c15052",
   "metadata": {},
   "outputs": [
    {
     "name": "stdout",
     "output_type": "stream",
     "text": [
      "Valor parcial 10Valor parcial 10\n",
      "\n",
      "Valor parcial 21\n",
      "Valor parcial 28\n",
      "Valor parcial 36\n",
      "Valor parcial 45\n",
      "Valor parcial 55\n",
      "Valor parcial 55\n",
      "Valor parcial 55\n",
      "Valor parcial 55\n",
      "[28, 15, 21, 10, 55, 55, 36, 45, 55, 55]\n"
     ]
    },
    {
     "data": {
      "text/plain": [
       "(0, (700, 10, 10))"
      ]
     },
     "execution_count": 62,
     "metadata": {},
     "output_type": "execute_result"
    }
   ],
   "source": [
    "# instancia que permite compartir los valores\n",
    "compartir = Value('i',0)\n",
    "seccion_critica = Lock()\n",
    "\n",
    "def datos_compartidos(incremento): \n",
    "    \n",
    "    compartir.value += incremento\n",
    "    sleep(0.2)    \n",
    "    print(f'Valor parcial {compartir.value}')\n",
    "    \n",
    "    return compartir.value\n",
    " \n",
    "with ThreadPool() as pool_de_hilos:\n",
    "    multihilo = pool_de_hilos.map(datos_compartidos, range(1, LIMITE))\n",
    "\n",
    "print(multihilo)\n",
    "del multihilo, pool_de_hilos, compartir, seccion_critica\n",
    "garbage_colector.collect(), garbage_colector.get_threshold()"
   ]
  },
  {
   "cell_type": "markdown",
   "id": "916ff46b-55ac-4fcc-a54a-eca0063881ac",
   "metadata": {},
   "source": [
    "### <center> CON SECCION CRITICA. "
   ]
  },
  {
   "cell_type": "code",
   "execution_count": 63,
   "id": "28b99a50-4152-4f7c-8e5d-8ea6258dd265",
   "metadata": {},
   "outputs": [
    {
     "name": "stdout",
     "output_type": "stream",
     "text": [
      "Valor parcial 1\n",
      "Valor parcial 3\n",
      "Valor parcial 6\n",
      "Valor parcial 10\n",
      "Valor parcial 15\n",
      "Valor parcial 21\n",
      "Valor parcial 28\n",
      "Valor parcial 36\n",
      "Valor parcial 45\n",
      "Valor parcial 55\n",
      "[1, 3, 6, 10, 15, 21, 28, 36, 45, 55]\n"
     ]
    },
    {
     "data": {
      "text/plain": [
       "(0, (700, 10, 10))"
      ]
     },
     "execution_count": 63,
     "metadata": {},
     "output_type": "execute_result"
    }
   ],
   "source": [
    "# instancia que permite compartir los valores\n",
    "compartir = Value('i',0)\n",
    "seccion_critica = Lock()\n",
    "\n",
    "def datos_compartidos(incremento): \n",
    "    \n",
    "    seccion_critica.acquire()\n",
    "    compartir.value += incremento\n",
    "    sleep(0.2)\n",
    "    \n",
    "    print(f'Valor parcial {compartir.value}') # acceder al valor antes de retornarlo puede interferir en el valor final retornado\n",
    "    seccion_critica.release()   \n",
    "    \n",
    "    \n",
    "    return compartir.value\n",
    "    \n",
    "with ThreadPool() as pool_de_hilos:\n",
    "    multihilo = pool_de_hilos.map(datos_compartidos, range(1, LIMITE))\n",
    "\n",
    "print(multihilo)\n",
    "del multihilo, pool_de_hilos, compartir, seccion_critica\n",
    "garbage_colector.collect(), garbage_colector.get_threshold()"
   ]
  },
  {
   "cell_type": "markdown",
   "id": "0611363a-3919-4a44-b5f6-15eb975c9316",
   "metadata": {},
   "source": [
    "## <center> Compartir Datos entre POOL de Procesos. \n",
    "## <center> Sin seccion critica. "
   ]
  },
  {
   "cell_type": "code",
   "execution_count": 64,
   "id": "930e9845-5dd6-40be-8dde-97ece53e1209",
   "metadata": {},
   "outputs": [
    {
     "name": "stdout",
     "output_type": "stream",
     "text": [
      "Valor parcial 10Valor parcial 10Valor parcial 10Valor parcial 10\n",
      "\n",
      "\n",
      "\n",
      "Valor parcial 36Valor parcial 36Valor parcial 36\n",
      "Valor parcial 36\n",
      "\n",
      "\n",
      "Valor parcial 55Valor parcial 55\n",
      "\n",
      "[15, 10, 21, 28, 36, 45, 55, 55, 55, 55]\n",
      "CPU times: user 56.7 ms, sys: 72.4 ms, total: 129 ms\n",
      "Wall time: 727 ms\n"
     ]
    },
    {
     "data": {
      "text/plain": [
       "(0, (700, 10, 10))"
      ]
     },
     "execution_count": 64,
     "metadata": {},
     "output_type": "execute_result"
    }
   ],
   "source": [
    "%%time\n",
    "# instancia que permite compartir los valores\n",
    "compartir = Value('i',0)\n",
    "seccion_critica = Lock()\n",
    "\n",
    "def datos_compartidos(incremento):\n",
    "    \n",
    "    global compartir\n",
    "    \n",
    "    compartir.value += incremento\n",
    "    sleep(0.2)\n",
    "    \n",
    "    print(f'Valor parcial {compartir.value}')\n",
    "    \n",
    "    return compartir.value\n",
    "    \n",
    "with Pool() as pool_de_procesos:\n",
    "    multiproceso = pool_de_procesos.map(datos_compartidos, range(1, LIMITE))\n",
    "    \n",
    "print(multiproceso)\n",
    "\n",
    "del multiproceso, pool_de_procesos, compartir, seccion_critica\n",
    "garbage_colector.collect(), garbage_colector.get_threshold()"
   ]
  },
  {
   "cell_type": "markdown",
   "id": "7f235aad-c638-4d2c-91ef-ed19a6e84957",
   "metadata": {},
   "source": [
    "## <center> Definiendo la seccion critica. "
   ]
  },
  {
   "cell_type": "code",
   "execution_count": 65,
   "id": "cdcc255d-4c06-44b0-83ee-e4c04bc9a632",
   "metadata": {},
   "outputs": [
    {
     "name": "stdout",
     "output_type": "stream",
     "text": [
      "Valor parcial 1\n",
      "Valor parcial 3\n",
      "Valor parcial 6\n",
      "Valor parcial 10\n",
      "Valor parcial 18\n",
      "Valor parcial 24\n",
      "Valor parcial 31\n",
      "Valor parcial 36\n",
      "Valor parcial 45\n",
      "Valor parcial 55\n",
      "[1, 6, 6, 10, 36, 24, 31, 18, 45, 55]\n"
     ]
    },
    {
     "data": {
      "text/plain": [
       "(0, (700, 10, 10))"
      ]
     },
     "execution_count": 65,
     "metadata": {},
     "output_type": "execute_result"
    }
   ],
   "source": [
    "# instancia que permite compartir los valores\n",
    "compartir = Value('i',0)\n",
    "seccion_critica = Lock()\n",
    "\n",
    "def datos_compartidos(incremento):\n",
    "    \n",
    "    global compartir\n",
    "    \n",
    "    seccion_critica.acquire()\n",
    "    \n",
    "    compartir.value += incremento\n",
    "    sleep(0.2)\n",
    "    print(f'Valor parcial {compartir.value}')\n",
    "    seccion_critica.release()  \n",
    "      \n",
    "    return compartir.value\n",
    "    \n",
    "    \n",
    "with Pool() as pool_de_procesos:\n",
    "    multiproceso = pool_de_procesos.map(datos_compartidos, range(1, LIMITE))\n",
    "    \n",
    "print(multiproceso)\n",
    "del multiproceso, pool_de_procesos, compartir, seccion_critica\n",
    "garbage_colector.collect(), garbage_colector.get_threshold()"
   ]
  },
  {
   "cell_type": "markdown",
   "id": "ffccc534-4578-49c6-abf4-afffe4fcd0f0",
   "metadata": {},
   "source": [
    "## <center> Definiendo la seccion critica. **SIN PRINT**, OBTIENE LOS VALORES DE RETORNO CORRECTAMENTE, POR NO ACCEDER A ELLOS"
   ]
  },
  {
   "cell_type": "code",
   "execution_count": 66,
   "id": "7abb75a8-4c9b-4e96-bcc1-8ccd974d291b",
   "metadata": {},
   "outputs": [
    {
     "name": "stdout",
     "output_type": "stream",
     "text": [
      "[1, 3, 6, 10, 15, 21, 28, 36, 45, 55]\n"
     ]
    },
    {
     "data": {
      "text/plain": [
       "(0, (700, 10, 10))"
      ]
     },
     "execution_count": 66,
     "metadata": {},
     "output_type": "execute_result"
    }
   ],
   "source": [
    "# instancia que permite compartir los valores\n",
    "compartir = Value('i',0)\n",
    "seccion_critica = Lock()\n",
    "\n",
    "def datos_compartidos(incremento):\n",
    "    \n",
    "    global compartir\n",
    "    \n",
    "    seccion_critica.acquire()\n",
    "    \n",
    "    compartir.value += incremento\n",
    "    sleep(0.2)\n",
    "    seccion_critica.release()  \n",
    "      \n",
    "    return compartir.value\n",
    "    \n",
    "    \n",
    "with Pool() as pool_de_procesos:\n",
    "    multiproceso = pool_de_procesos.map(datos_compartidos, range(1, LIMITE))\n",
    "    \n",
    "print(multiproceso)\n",
    "del multiproceso, pool_de_procesos, compartir, seccion_critica\n",
    "garbage_colector.collect(), garbage_colector.get_threshold()"
   ]
  },
  {
   "cell_type": "markdown",
   "id": "b7f275ce-f31d-4563-b8c0-1a55565e71f5",
   "metadata": {},
   "source": [
    "# <center> POOL DE PROCESOS E HILOS OTROS METODOS</center>\n",
    "## <center>Ofrece un medio conveniente de paralelizar la ejecución de una función a través de múltiples valores de entrada, distribuyendo los datos de entrada a través de procesos (paralelismo de datos).</center>"
   ]
  },
  {
   "cell_type": "code",
   "execution_count": 67,
   "id": "2cd2a2a9-8fc5-48c8-911b-62b4871fd4e6",
   "metadata": {
    "tags": []
   },
   "outputs": [],
   "source": [
    "from multiprocessing.pool import Pool\n",
    "\n",
    "def calcular_cuadrado(x):\n",
    "    return x*x"
   ]
  },
  {
   "cell_type": "markdown",
   "id": "e9b4ea95-315f-46b1-a410-a4084120e162",
   "metadata": {},
   "source": [
    "### <center> APPLY - PROCESOS</center>"
   ]
  },
  {
   "cell_type": "code",
   "execution_count": 68,
   "id": "9db688e7-23fb-4abc-8fdd-77f9ff644238",
   "metadata": {
    "scrolled": true,
    "tags": []
   },
   "outputs": [
    {
     "name": "stdout",
     "output_type": "stream",
     "text": [
      "9\n",
      "CPU times: user 45.3 ms, sys: 64.6 ms, total: 110 ms\n",
      "Wall time: 109 ms\n"
     ]
    },
    {
     "data": {
      "text/plain": [
       "(0, (700, 10, 10))"
      ]
     },
     "execution_count": 68,
     "metadata": {},
     "output_type": "execute_result"
    }
   ],
   "source": [
    "%%time\n",
    "pool = Pool()\n",
    "pool_apply = pool.apply(calcular_cuadrado, [3])\n",
    "pool.close() # Prevents any more tasks from being submitted to the pool. Once all the tasks have been completed the worker processes will exit.\n",
    "pool.join() # Wait for the worker processes to exit. One must call close() or terminate() before using join().\n",
    "pool.close() # Close the Process object, releasing all resources associated with it.\n",
    "pool_apply\n",
    "\n",
    "print(pool_apply)\n",
    "del pool_apply, pool\n",
    "garbage_colector.collect(), garbage_colector.get_threshold()"
   ]
  },
  {
   "cell_type": "markdown",
   "id": "d5fad008-d03e-4968-87ce-86fa54a7b77c",
   "metadata": {},
   "source": [
    "### <center> APPLY - HILOS</center>"
   ]
  },
  {
   "cell_type": "code",
   "execution_count": 69,
   "id": "2375a778-1b99-43b8-a194-3ad6e8cb6bd0",
   "metadata": {},
   "outputs": [
    {
     "name": "stdout",
     "output_type": "stream",
     "text": [
      "16\n",
      "CPU times: user 55.7 ms, sys: 189 µs, total: 55.9 ms\n",
      "Wall time: 52.6 ms\n"
     ]
    },
    {
     "data": {
      "text/plain": [
       "(0, (700, 10, 10))"
      ]
     },
     "execution_count": 69,
     "metadata": {},
     "output_type": "execute_result"
    }
   ],
   "source": [
    "%%time\n",
    "pool = ThreadPool()\n",
    "pool_apply = pool.apply(calcular_cuadrado, [4])\n",
    "pool.close() # Prevents any more tasks from being submitted to the pool. Once all the tasks have been completed the worker processes will exit.\n",
    "pool.join() # Wait for the worker processes to exit. One must call close() or terminate() before using join().\n",
    "pool.close() # Close the Process object, releasing all resources associated with it.\n",
    "pool_apply\n",
    "\n",
    "print(pool_apply)\n",
    "del pool_apply, pool\n",
    "garbage_colector.collect(), garbage_colector.get_threshold()"
   ]
  },
  {
   "cell_type": "markdown",
   "id": "666bcc6b-56fb-4185-9f2a-5d74bac80178",
   "metadata": {},
   "source": [
    "### <center> APPLY_ASYNC</center>"
   ]
  },
  {
   "cell_type": "code",
   "execution_count": 70,
   "id": "c7ac7c01-69e1-41eb-9db6-5dd3ded5c158",
   "metadata": {},
   "outputs": [
    {
     "name": "stdout",
     "output_type": "stream",
     "text": [
      "25\n",
      "CPU times: user 55.2 ms, sys: 42.1 ms, total: 97.2 ms\n",
      "Wall time: 102 ms\n"
     ]
    },
    {
     "data": {
      "text/plain": [
       "(0, (700, 10, 10))"
      ]
     },
     "execution_count": 70,
     "metadata": {},
     "output_type": "execute_result"
    }
   ],
   "source": [
    "%%time\n",
    "with Pool() as pool:\n",
    "    values = pool.apply_async(calcular_cuadrado, [5])\n",
    "\n",
    "print(values.get())\n",
    "del pool, values\n",
    "garbage_colector.collect(), garbage_colector.get_threshold()"
   ]
  },
  {
   "cell_type": "markdown",
   "id": "37157209-1eca-45a6-841d-8504e15c2f6c",
   "metadata": {},
   "source": [
    "### <center> MAP_ASYNC</center>"
   ]
  },
  {
   "cell_type": "code",
   "execution_count": 71,
   "id": "17812f5e-71b5-4bbb-89c3-926e0c60227c",
   "metadata": {},
   "outputs": [
    {
     "name": "stdout",
     "output_type": "stream",
     "text": [
      "[36]\n",
      "CPU times: user 49.5 ms, sys: 41.6 ms, total: 91 ms\n",
      "Wall time: 94 ms\n"
     ]
    },
    {
     "data": {
      "text/plain": [
       "(0, (700, 10, 10))"
      ]
     },
     "execution_count": 71,
     "metadata": {},
     "output_type": "execute_result"
    }
   ],
   "source": [
    "%%time\n",
    "with Pool() as pool:\n",
    "    values = pool.map_async(calcular_cuadrado, [6])\n",
    "\n",
    "print(values.get())\n",
    "del pool, values\n",
    "garbage_colector.collect(), garbage_colector.get_threshold()"
   ]
  },
  {
   "cell_type": "markdown",
   "id": "a19cd270-6435-4ed6-8053-8daabead4b5c",
   "metadata": {},
   "source": [
    "### <center> MAP</center>"
   ]
  },
  {
   "cell_type": "code",
   "execution_count": 72,
   "id": "e769a2fc-b2f2-47e3-a850-2801629ba372",
   "metadata": {},
   "outputs": [
    {
     "name": "stdout",
     "output_type": "stream",
     "text": [
      "[0, 25, 100, 225]\n",
      "CPU times: user 81.6 ms, sys: 20.2 ms, total: 102 ms\n",
      "Wall time: 99 ms\n"
     ]
    },
    {
     "data": {
      "text/plain": [
       "(0, (700, 10, 10))"
      ]
     },
     "execution_count": 72,
     "metadata": {},
     "output_type": "execute_result"
    }
   ],
   "source": [
    "%%time\n",
    "with Pool() as pool:\n",
    "    values = pool.map(calcular_cuadrado, range(0,20,5))\n",
    "\n",
    "print(values)\n",
    "del pool, values\n",
    "garbage_colector.collect(), garbage_colector.get_threshold()"
   ]
  },
  {
   "cell_type": "markdown",
   "id": "ad977635-9a4a-4072-b72e-b12f572d30fd",
   "metadata": {},
   "source": [
    "### <center> IMAP</center>"
   ]
  },
  {
   "cell_type": "code",
   "execution_count": 73,
   "id": "279abfd5-7d60-426a-b83a-1aee15c80599",
   "metadata": {},
   "outputs": [
    {
     "name": "stdout",
     "output_type": "stream",
     "text": [
      "<multiprocessing.pool.IMapIterator object at 0x7f0ddd374610>\n",
      "CPU times: user 79.3 ms, sys: 21.9 ms, total: 101 ms\n",
      "Wall time: 106 ms\n"
     ]
    },
    {
     "data": {
      "text/plain": [
       "(152, (700, 10, 10))"
      ]
     },
     "execution_count": 73,
     "metadata": {},
     "output_type": "execute_result"
    }
   ],
   "source": [
    "%%time\n",
    "with Pool() as pool:\n",
    "    values = pool.imap(calcular_cuadrado, range(0,20,4))\n",
    "\n",
    "print(values)\n",
    "del pool, values\n",
    "garbage_colector.collect(), garbage_colector.get_threshold()"
   ]
  },
  {
   "cell_type": "markdown",
   "id": "4fbd6b16-b189-437e-96cd-86de11d2e198",
   "metadata": {},
   "source": [
    "### <center> IMAP_UNORDERED</center>"
   ]
  },
  {
   "cell_type": "code",
   "execution_count": 74,
   "id": "c25b8eb6-5f8a-4d6d-a238-eb1e57c20bfe",
   "metadata": {},
   "outputs": [
    {
     "name": "stdout",
     "output_type": "stream",
     "text": [
      "<multiprocessing.pool.IMapUnorderedIterator object at 0x7f0ddd375600>\n",
      "CPU times: user 71.4 ms, sys: 31.9 ms, total: 103 ms\n",
      "Wall time: 107 ms\n"
     ]
    },
    {
     "data": {
      "text/plain": [
       "(152, (700, 10, 10))"
      ]
     },
     "execution_count": 74,
     "metadata": {},
     "output_type": "execute_result"
    }
   ],
   "source": [
    "%%time\n",
    "with Pool() as pool:\n",
    "    values = pool.imap_unordered(calcular_cuadrado, range(0,20,2))\n",
    "\n",
    "print(values)\n",
    "del pool, values\n",
    "garbage_colector.collect(), garbage_colector.get_threshold()"
   ]
  },
  {
   "cell_type": "markdown",
   "id": "9ffc6dd5-610b-4c4d-81e5-217350b6f532",
   "metadata": {},
   "source": [
    "### <center> STARMAP</center>"
   ]
  },
  {
   "cell_type": "code",
   "execution_count": 75,
   "id": "11d3ed26-b924-48bf-b164-9d6c73a1e2c3",
   "metadata": {},
   "outputs": [
    {
     "name": "stdout",
     "output_type": "stream",
     "text": [
      "[1, 4, 9, 16, 25]\n",
      "CPU times: user 49.4 ms, sys: 53.3 ms, total: 103 ms\n",
      "Wall time: 104 ms\n"
     ]
    },
    {
     "data": {
      "text/plain": [
       "(0, (700, 10, 10))"
      ]
     },
     "execution_count": 75,
     "metadata": {},
     "output_type": "execute_result"
    }
   ],
   "source": [
    "%%time\n",
    "with Pool() as pool:\n",
    "    values = pool.starmap(calcular_cuadrado, [[1],[2],[3],[4],[5]])\n",
    "\n",
    "print(values)\n",
    "del pool, values\n",
    "garbage_colector.collect(), garbage_colector.get_threshold()"
   ]
  },
  {
   "cell_type": "markdown",
   "id": "0d83ca58-eb62-4767-837b-7adfe35fcd3e",
   "metadata": {},
   "source": [
    "### <center> STARMAP_ASYNC</center>"
   ]
  },
  {
   "cell_type": "code",
   "execution_count": 76,
   "id": "4efa8761-e3c7-4ea7-b0ad-ee6fff64ab68",
   "metadata": {},
   "outputs": [
    {
     "name": "stdout",
     "output_type": "stream",
     "text": [
      "<multiprocessing.pool.MapResult object at 0x7f0ddd375d50>\n",
      "CPU times: user 73.2 ms, sys: 33 ms, total: 106 ms\n",
      "Wall time: 107 ms\n"
     ]
    },
    {
     "data": {
      "text/plain": [
       "(153, (700, 10, 10))"
      ]
     },
     "execution_count": 76,
     "metadata": {},
     "output_type": "execute_result"
    }
   ],
   "source": [
    "%%time\n",
    "with Pool() as pool:\n",
    "    values = pool.starmap_async(calcular_cuadrado, [[1],[2],[3],[4],[5]])\n",
    "\n",
    "print(values)\n",
    "del pool, values\n",
    "garbage_colector.collect(), garbage_colector.get_threshold()"
   ]
  },
  {
   "cell_type": "markdown",
   "id": "8e9c3fc5-7125-47a5-a70e-ebc77af1be7f",
   "metadata": {},
   "source": [
    "# <center> OTRAS **FUNCIONES ASINCRONAS**</center>"
   ]
  },
  {
   "cell_type": "code",
   "execution_count": 77,
   "id": "795a0a2b-cee8-4a3f-a69d-8b512b8762fd",
   "metadata": {},
   "outputs": [],
   "source": [
    "async def Primero(limite=5):\n",
    "    print(\"Inicio funcion Primero\")\n",
    "    await asyncio.sleep(2)\n",
    "    print(\"Final funcion Primero\")\n",
    "    \n",
    "    return [random.randrange(-100, 0) for x in range(limite)]\n",
    "\n",
    "async def Ultimo(limite=5):\n",
    "    print(\"Comenzar funcion ultimo\")\n",
    "    await asyncio.sleep(2)\n",
    "    print(\"Terminar funcion ultimo\")\n",
    "    \n",
    "    return [random.randrange(0, 100) for x in range(limite)]"
   ]
  },
  {
   "cell_type": "markdown",
   "id": "7e717a57-ff07-43e4-b1ed-c6ad57a22da6",
   "metadata": {},
   "source": [
    "# <center> **GATHER**</center>\n",
    "## <center> **RECIBE UNA LISTA DE TAREAS Y RETORNA UNA LISTA DE RESULTADOS**</center>\n",
    "## <center> **TIENE OPCIONES ESPECÍFICAS PARA EL MANEJO DE ERRORES Y CANCELACIONES.**</center>"
   ]
  },
  {
   "cell_type": "code",
   "execution_count": 78,
   "id": "51fc878f-023a-41f1-b5db-eb0c58fa14a3",
   "metadata": {},
   "outputs": [
    {
     "name": "stdout",
     "output_type": "stream",
     "text": [
      "Inicio funcion Primero\n",
      "Comenzar funcion ultimo\n",
      "Inicio funcion Primero\n",
      "Comenzar funcion ultimo\n",
      "Inicio funcion Primero\n",
      "Comenzar funcion ultimo\n",
      "Inicio funcion Primero\n",
      "Final funcion Primero\n",
      "Terminar funcion ultimo\n",
      "Final funcion Primero\n",
      "Terminar funcion ultimo\n",
      "Final funcion Primero\n",
      "Terminar funcion ultimo\n",
      "Final funcion Primero\n"
     ]
    },
    {
     "data": {
      "text/plain": [
       "[[-15, -71, -78, -1, -76],\n",
       " [23, 54, 88, 65, 95],\n",
       " [-68, -98, -20, -15, -83],\n",
       " [49, 72, 79, 74, 25],\n",
       " [-73, -65, -38, -61, -25],\n",
       " [79, 47, 6, 17, 17],\n",
       " [-15, -26, -69, -44, -99]]"
      ]
     },
     "execution_count": 78,
     "metadata": {},
     "output_type": "execute_result"
    }
   ],
   "source": [
    "# El siguiente ejemplo muestra cómo esperar a que se completen varias tareas asincrónicas.\n",
    "\n",
    "from asyncio import gather\n",
    "\n",
    "async def iniciar_gather():\n",
    "    \n",
    "    tareas = [Primero(), Ultimo(), Primero(), Ultimo(), Primero(), Ultimo(), Primero()]\n",
    "    \n",
    "    return await gather(*tareas)\n",
    "    \n",
    "await iniciar_gather()"
   ]
  },
  {
   "cell_type": "markdown",
   "id": "1cab7d8d-6568-44a0-bbd9-ac3b0268542b",
   "metadata": {},
   "source": [
    "# <center> **WAIT_FOR**</center>\n",
    "## <center> **PERMITE DEFINIR EL MAXIMO TIEMPO DE ESPERA DE UNA TAREA**</center>"
   ]
  },
  {
   "cell_type": "code",
   "execution_count": 79,
   "id": "3ea1d42e-0858-48e0-9f89-86571105f9a1",
   "metadata": {},
   "outputs": [
    {
     "name": "stdout",
     "output_type": "stream",
     "text": [
      "Inicio funcion Primero\n",
      "la ejecucion supero el tiempo de espera!\n"
     ]
    }
   ],
   "source": [
    "# El siguiente ejemplo demuestra cómo podemos utilizar un tiempo de espera para evitar esperar indefinida a que finalice una tarea asincrónica.\n",
    "\n",
    "from asyncio import wait_for\n",
    "\n",
    "async def iniciar_wait_for():\n",
    "    try:\n",
    "        return await wait_for(Primero(), timeout=1)\n",
    "    except asyncio.TimeoutError:\n",
    "        print(\"la ejecucion supero el tiempo de espera!\")\n",
    "        \n",
    "\n",
    "await iniciar_wait_for()"
   ]
  },
  {
   "cell_type": "markdown",
   "id": "76f47eeb-c99d-401e-aadc-f715845c7b3c",
   "metadata": {},
   "source": [
    "# <center> **AS_COMPLETED**</center>\n",
    "## <center> **ES SIMILIAR A GATHER, PERO RETORNA FUTUROS, LOS RESULTADOS SON RETORNADOS EN EL ORDEN QUE ESTAN LISTOS**</center>"
   ]
  },
  {
   "cell_type": "code",
   "execution_count": 80,
   "id": "a7e683a3-7e7c-44e5-85f6-d65f0cd9f5d8",
   "metadata": {},
   "outputs": [
    {
     "name": "stdout",
     "output_type": "stream",
     "text": [
      "Inicio funcion Primero\n",
      "Comenzar funcion ultimo\n",
      "Comenzar funcion ultimo\n",
      "Inicio funcion Primero\n",
      "Inicio funcion Primero\n",
      "Comenzar funcion ultimo\n",
      "Inicio funcion Primero\n",
      "Final funcion Primero\n",
      "Terminar funcion ultimo\n",
      "Terminar funcion ultimo\n",
      "Final funcion Primero\n",
      "Final funcion Primero\n",
      "Terminar funcion ultimo\n",
      "Final funcion Primero\n",
      "la tarea mas rapida obtuvo el resultado: [-76, -70, -54, -57, -39]\n",
      "la siguiente tarea mas rapida obtuvo el resultado: [77, 57, 14, 97, 15]\n",
      "la siguiente tarea mas rapida obtuvo el resultado: [55, 82, 7, 42, 41]\n",
      "la siguiente tarea mas rapida obtuvo el resultado: [-14, -83, -98, -10, -93]\n",
      "la siguiente tarea mas rapida obtuvo el resultado: [-28, -86, -94, -77, -24]\n",
      "la siguiente tarea mas rapida obtuvo el resultado: [9, 79, 68, 69, 84]\n",
      "la siguiente tarea mas rapida obtuvo el resultado: [-36, -44, -63, -39, -33]\n"
     ]
    }
   ],
   "source": [
    "# El siguiente ejemplo demuestra cómo as_complete, completará la primera tarea, seguida de la siguiente más rápida y la siguiente hasta que se completen todas las tareas.\n",
    "\n",
    "from asyncio import as_completed\n",
    "\n",
    "async def iniciar_as_completed():\n",
    "    \n",
    "    tareas = [Primero(), Ultimo(), Primero(), Ultimo(), Primero(), Ultimo(), Primero()]\n",
    "    counter = 0\n",
    "    \n",
    "    for future in as_completed(tareas):\n",
    "        n = \"la tarea mas rapida\" if counter == 0 else \"la siguiente tarea mas rapida\"\n",
    "        counter += 1\n",
    "        result = await future\n",
    "        print(f\"{n} obtuvo el resultado: {result}\")\n",
    "\n",
    "await iniciar_as_completed()"
   ]
  },
  {
   "cell_type": "markdown",
   "id": "646b1309-f24b-40fe-a8a2-7c942a620f75",
   "metadata": {},
   "source": [
    "# <center> **CREATE_TASK**</center>"
   ]
  },
  {
   "cell_type": "code",
   "execution_count": 81,
   "id": "c97b218d-9d56-4192-aa39-5d6539b2392b",
   "metadata": {},
   "outputs": [
    {
     "name": "stdout",
     "output_type": "stream",
     "text": [
      "<Task pending name='Task-1835' coro=<Primero() running at /tmp/ipykernel_98/4294725927.py:1>>\n",
      "Inicio funcion Primero\n",
      "MAS PROCESOS!\n",
      "Final funcion Primero\n",
      "0\n"
     ]
    },
    {
     "data": {
      "text/plain": [
       "<Task finished name='Task-1835' coro=<Primero() done, defined at /tmp/ipykernel_98/4294725927.py:1> result=[-7, -81, -28, -47, -14]>"
      ]
     },
     "execution_count": 81,
     "metadata": {},
     "output_type": "execute_result"
    }
   ],
   "source": [
    "# El siguiente ejemplo demuestra cómo convertir una rutina en una tarea y programarla en el bucle de eventos.\n",
    "\n",
    "from asyncio import create_task\n",
    "\n",
    "async def iniciar_create_task():\n",
    "    \n",
    "    tarea = create_task(Primero())\n",
    "    print(tarea)\n",
    "    \n",
    "    await asyncio.sleep(2)\n",
    "    print(\"MAS PROCESOS!\")\n",
    "    \n",
    "    await asyncio.sleep(3)\n",
    "    print(sum(tarea))\n",
    "    \n",
    "    return tarea\n",
    "\n",
    "await iniciar_create_task()"
   ]
  },
  {
   "cell_type": "markdown",
   "id": "baed4b4f-fdba-40df-a4bd-d7e34d7c3d93",
   "metadata": {},
   "source": [
    "# <center> **POOLS**</center>\n",
    "# <center> **GET_RUNNING_LOOP**</center>"
   ]
  },
  {
   "cell_type": "markdown",
   "id": "80fa711b-61c5-4518-a0b0-1e7b862abb67",
   "metadata": {},
   "source": [
    "## <center> **ASYNCIO Event Loop - MULTI HILO**</center>"
   ]
  },
  {
   "cell_type": "code",
   "execution_count": 82,
   "id": "f147548a-594d-4901-9f88-efe265b1e99c",
   "metadata": {},
   "outputs": [
    {
     "data": {
      "text/plain": [
       "b'\\xb7y4\\xe5R\\xe8\\xf1\\x079\\xef\\xad\\xa2J\\xfb\\x9e\\xf0\\xe4\\x08\\x8b\\x8b\\x89|\\x91_?\\x82\\xde\\xc3W\\xdc3\\xbaH\\xee\\xfd[~\\x03\\x857\\xef\\xbbX\\x98\\xdb,Q\\x9a\\x04 \\x19\\t\\x9b\\xd8\\xb7dJH\\xb1\\xf6O,\\xde\\xdd\\xe9J\\x05e8\\x82\\x1c\\xc7\\xf7\\xa3uze\\t|\\xc1\\x8c\\xf5\\x0b,d\\x99\\x10\\x86\\x05_\\xe5C\\x80\\x17\\x89\\xec\\x10\\x90\\xaf\\xf5Qf\\xe1\\xf0\\xef\\xdd\\xd9\\x11\\xd6R|0\\xab3\\xcf\\xdb&b/\\xcf'"
      ]
     },
     "execution_count": 82,
     "metadata": {},
     "output_type": "execute_result"
    }
   ],
   "source": [
    "# importa la libtreria\n",
    "from asyncio import get_running_loop\n",
    "# importa librerias para trabajar concurrencia\n",
    "from concurrent.futures import ThreadPoolExecutor\n",
    "\n",
    "def blocking_io(value = 23, otros = 10):\n",
    "    # File operations (such as logging) can block the\n",
    "    # event loop: run them in a thread pool.\n",
    "    with open(\"/dev/urandom\", \"rb\") as f:\n",
    "        return f.read(value + otros)\n",
    "    \n",
    "async def asyncio_multi_hilo():\n",
    "    \n",
    "    loop = get_running_loop()\n",
    "    pool = ThreadPoolExecutor()\n",
    "    \n",
    "    # tipo de pool, funcion, parametros\n",
    "    return await loop.run_in_executor(pool, blocking_io, 50, 70)\n",
    "\n",
    "await asyncio_multi_hilo()"
   ]
  }
 ],
 "metadata": {
  "kernelspec": {
   "display_name": "Python 3 (ipykernel)",
   "language": "python",
   "name": "python3"
  },
  "language_info": {
   "codemirror_mode": {
    "name": "ipython",
    "version": 3
   },
   "file_extension": ".py",
   "mimetype": "text/x-python",
   "name": "python",
   "nbconvert_exporter": "python",
   "pygments_lexer": "ipython3",
   "version": "3.10.4"
  }
 },
 "nbformat": 4,
 "nbformat_minor": 5
}
