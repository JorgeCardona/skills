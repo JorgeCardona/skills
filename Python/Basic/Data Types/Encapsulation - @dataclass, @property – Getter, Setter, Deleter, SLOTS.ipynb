{
 "cells": [
  {
   "cell_type": "markdown",
   "metadata": {},
   "source": [
    "<p style=\"text-align: center;\"> SHOW NOTEBOOK CELL TO 100% OF SCREEN </p> "
   ]
  },
  {
   "cell_type": "code",
   "execution_count": 1,
   "metadata": {},
   "outputs": [
    {
     "data": {
      "text/html": [
       "<style>.container { width:100% !important; }</style>"
      ],
      "text/plain": [
       "<IPython.core.display.HTML object>"
      ]
     },
     "metadata": {},
     "output_type": "display_data"
    }
   ],
   "source": [
    "from IPython.core.display import display, HTML\n",
    "display(HTML(\"<style>.container { width:100% !important; }</style>\"))"
   ]
  },
  {
   "cell_type": "markdown",
   "metadata": {},
   "source": [
    "<p style=\"text-align: center;\"> CREATE CLASS WITHOUT PARENTHESES </p> "
   ]
  },
  {
   "cell_type": "code",
   "execution_count": 2,
   "metadata": {},
   "outputs": [],
   "source": [
    "class AccessMehods:\n",
    "    \n",
    "    def __init__(self):\n",
    "        None\n",
    "    \n",
    "    def public_method(self):\n",
    "        return \"Public Method\"\n",
    "    \n",
    "    def _protected_method(self):\n",
    "        return \"Protected Method\"\n",
    "    \n",
    "    def __private_method(self):\n",
    "        return \"Private Method\""
   ]
  },
  {
   "cell_type": "markdown",
   "metadata": {},
   "source": [
    "<p style=\"text-align: center;\"> ACCESS TO METHOD WITHOUT INSTANCE OF CLASS (DOES NOT USES PARENTHESES) MUST TO BE USES PARAMETER \"SELF\"</p>"
   ]
  },
  {
   "cell_type": "code",
   "execution_count": 3,
   "metadata": {},
   "outputs": [
    {
     "ename": "TypeError",
     "evalue": "public_method() missing 1 required positional argument: 'self'",
     "output_type": "error",
     "traceback": [
      "\u001b[1;31m---------------------------------------------------------------------------\u001b[0m",
      "\u001b[1;31mTypeError\u001b[0m                                 Traceback (most recent call last)",
      "\u001b[1;32m<ipython-input-3-99c0ad6f7b7f>\u001b[0m in \u001b[0;36m<module>\u001b[1;34m\u001b[0m\n\u001b[1;32m----> 1\u001b[1;33m \u001b[0mAccessMehods\u001b[0m\u001b[1;33m.\u001b[0m\u001b[0mpublic_method\u001b[0m\u001b[1;33m(\u001b[0m\u001b[1;33m)\u001b[0m\u001b[1;33m\u001b[0m\u001b[1;33m\u001b[0m\u001b[0m\n\u001b[0m",
      "\u001b[1;31mTypeError\u001b[0m: public_method() missing 1 required positional argument: 'self'"
     ]
    }
   ],
   "source": [
    "AccessMehods.public_method()"
   ]
  },
  {
   "cell_type": "markdown",
   "metadata": {},
   "source": [
    "<p style=\"text-align: center;\"> ACCESS TO METHOD PUBLIC DIRECTLY WITH THE NECESARY PARAMETER</p>"
   ]
  },
  {
   "cell_type": "code",
   "execution_count": 4,
   "metadata": {},
   "outputs": [
    {
     "data": {
      "text/plain": [
       "'Public Method'"
      ]
     },
     "execution_count": 4,
     "metadata": {},
     "output_type": "execute_result"
    }
   ],
   "source": [
    "AccessMehods.public_method(1)"
   ]
  },
  {
   "cell_type": "markdown",
   "metadata": {},
   "source": [
    "<p style=\"text-align: center;\"> ACCESS TO METHOD WITH INSTANCE OF CLASS (USES PARENTHESES) IT'S NO NECESARY USES PARAMETER \"SELF\"</p>"
   ]
  },
  {
   "cell_type": "code",
   "execution_count": 5,
   "metadata": {},
   "outputs": [
    {
     "data": {
      "text/plain": [
       "'Public Method'"
      ]
     },
     "execution_count": 5,
     "metadata": {},
     "output_type": "execute_result"
    }
   ],
   "source": [
    "AccessMehods().public_method()"
   ]
  },
  {
   "cell_type": "markdown",
   "metadata": {},
   "source": [
    "<p style=\"text-align: center;\"> ACCESS TO METHOD PROTECTED DIRECTLY</p>"
   ]
  },
  {
   "cell_type": "code",
   "execution_count": 6,
   "metadata": {},
   "outputs": [
    {
     "ename": "AttributeError",
     "evalue": "'AccessMehods' object has no attribute 'protected_method'",
     "output_type": "error",
     "traceback": [
      "\u001b[1;31m---------------------------------------------------------------------------\u001b[0m",
      "\u001b[1;31mAttributeError\u001b[0m                            Traceback (most recent call last)",
      "\u001b[1;32m<ipython-input-6-8bd7f32c354d>\u001b[0m in \u001b[0;36m<module>\u001b[1;34m\u001b[0m\n\u001b[1;32m----> 1\u001b[1;33m \u001b[0mAccessMehods\u001b[0m\u001b[1;33m(\u001b[0m\u001b[1;33m)\u001b[0m\u001b[1;33m.\u001b[0m\u001b[0mprotected_method\u001b[0m\u001b[1;33m(\u001b[0m\u001b[1;33m)\u001b[0m\u001b[1;33m\u001b[0m\u001b[1;33m\u001b[0m\u001b[0m\n\u001b[0m",
      "\u001b[1;31mAttributeError\u001b[0m: 'AccessMehods' object has no attribute 'protected_method'"
     ]
    }
   ],
   "source": [
    "AccessMehods().protected_method()"
   ]
  },
  {
   "cell_type": "markdown",
   "metadata": {},
   "source": [
    "<p style=\"text-align: center;\"> ACCESS TO METHOD PROTECTED DIRECTLY WITH THE RIGHT ACCESS</p>"
   ]
  },
  {
   "cell_type": "code",
   "execution_count": 7,
   "metadata": {},
   "outputs": [
    {
     "data": {
      "text/plain": [
       "'Protected Method'"
      ]
     },
     "execution_count": 7,
     "metadata": {},
     "output_type": "execute_result"
    }
   ],
   "source": [
    "AccessMehods()._protected_method()"
   ]
  },
  {
   "cell_type": "markdown",
   "metadata": {},
   "source": [
    "<p style=\"text-align: center;\"> ACCESS TO PRIVATE METHOD DIRECTLY</p>"
   ]
  },
  {
   "cell_type": "code",
   "execution_count": 8,
   "metadata": {},
   "outputs": [
    {
     "ename": "AttributeError",
     "evalue": "'AccessMehods' object has no attribute '__private_method'",
     "output_type": "error",
     "traceback": [
      "\u001b[1;31m---------------------------------------------------------------------------\u001b[0m",
      "\u001b[1;31mAttributeError\u001b[0m                            Traceback (most recent call last)",
      "\u001b[1;32m<ipython-input-8-250a65db86af>\u001b[0m in \u001b[0;36m<module>\u001b[1;34m\u001b[0m\n\u001b[1;32m----> 1\u001b[1;33m \u001b[0mAccessMehods\u001b[0m\u001b[1;33m(\u001b[0m\u001b[1;33m)\u001b[0m\u001b[1;33m.\u001b[0m\u001b[0m__private_method\u001b[0m\u001b[1;33m(\u001b[0m\u001b[1;33m)\u001b[0m\u001b[1;33m\u001b[0m\u001b[1;33m\u001b[0m\u001b[0m\n\u001b[0m",
      "\u001b[1;31mAttributeError\u001b[0m: 'AccessMehods' object has no attribute '__private_method'"
     ]
    }
   ],
   "source": [
    "AccessMehods().__private_method()"
   ]
  },
  {
   "cell_type": "markdown",
   "metadata": {},
   "source": [
    "<p style=\"text-align: center;\"> VIEW ALL CLASS METHODS FOR ACCESSING TO PRIVATE METHOD</p>"
   ]
  },
  {
   "cell_type": "code",
   "execution_count": 9,
   "metadata": {
    "scrolled": true
   },
   "outputs": [
    {
     "data": {
      "text/plain": [
       "['_AccessMehods__private_method',\n",
       " '__class__',\n",
       " '__delattr__',\n",
       " '__dict__',\n",
       " '__dir__',\n",
       " '__doc__',\n",
       " '__eq__',\n",
       " '__format__',\n",
       " '__ge__',\n",
       " '__getattribute__',\n",
       " '__gt__',\n",
       " '__hash__',\n",
       " '__init__',\n",
       " '__init_subclass__',\n",
       " '__le__',\n",
       " '__lt__',\n",
       " '__module__',\n",
       " '__ne__',\n",
       " '__new__',\n",
       " '__reduce__',\n",
       " '__reduce_ex__',\n",
       " '__repr__',\n",
       " '__setattr__',\n",
       " '__sizeof__',\n",
       " '__str__',\n",
       " '__subclasshook__',\n",
       " '__weakref__',\n",
       " '_protected_method',\n",
       " 'public_method']"
      ]
     },
     "execution_count": 9,
     "metadata": {},
     "output_type": "execute_result"
    }
   ],
   "source": [
    "dir(AccessMehods)"
   ]
  },
  {
   "cell_type": "markdown",
   "metadata": {},
   "source": [
    "<p style=\"text-align: center;\"> ACCESS TO METHOD PRIVATE METHOD DIRECTLY</p>"
   ]
  },
  {
   "cell_type": "code",
   "execution_count": 10,
   "metadata": {},
   "outputs": [
    {
     "data": {
      "text/plain": [
       "'Private Method'"
      ]
     },
     "execution_count": 10,
     "metadata": {},
     "output_type": "execute_result"
    }
   ],
   "source": [
    "AccessMehods()._AccessMehods__private_method()"
   ]
  },
  {
   "cell_type": "markdown",
   "metadata": {},
   "source": [
    "<p style=\"text-align: center;\"> ACCESS CLASS ATRIBUTES</p>"
   ]
  },
  {
   "cell_type": "code",
   "execution_count": 11,
   "metadata": {},
   "outputs": [],
   "source": [
    "class AccessAtributes:\n",
    "    \n",
    "    public_atribute = \"Public Atribute\"\n",
    "    _protected_atribute = \"Protected Atribute\"\n",
    "    __private_atribute = \"Private Atribute\""
   ]
  },
  {
   "cell_type": "markdown",
   "metadata": {},
   "source": [
    "<p style=\"text-align: center;\"> VIEW ALL CLASS METHODS FOR ACCESS</p>"
   ]
  },
  {
   "cell_type": "code",
   "execution_count": 12,
   "metadata": {
    "scrolled": true
   },
   "outputs": [
    {
     "data": {
      "text/plain": [
       "['_AccessAtributes__private_atribute',\n",
       " '__class__',\n",
       " '__delattr__',\n",
       " '__dict__',\n",
       " '__dir__',\n",
       " '__doc__',\n",
       " '__eq__',\n",
       " '__format__',\n",
       " '__ge__',\n",
       " '__getattribute__',\n",
       " '__gt__',\n",
       " '__hash__',\n",
       " '__init__',\n",
       " '__init_subclass__',\n",
       " '__le__',\n",
       " '__lt__',\n",
       " '__module__',\n",
       " '__ne__',\n",
       " '__new__',\n",
       " '__reduce__',\n",
       " '__reduce_ex__',\n",
       " '__repr__',\n",
       " '__setattr__',\n",
       " '__sizeof__',\n",
       " '__str__',\n",
       " '__subclasshook__',\n",
       " '__weakref__',\n",
       " '_protected_atribute',\n",
       " 'public_atribute']"
      ]
     },
     "execution_count": 12,
     "metadata": {},
     "output_type": "execute_result"
    }
   ],
   "source": [
    "dir(AccessAtributes)"
   ]
  },
  {
   "cell_type": "markdown",
   "metadata": {},
   "source": [
    "<p style=\"text-align: center;\"> SHOW VALUES FOR EVERY ATRIBUTE</p>"
   ]
  },
  {
   "cell_type": "code",
   "execution_count": 13,
   "metadata": {},
   "outputs": [
    {
     "name": "stdout",
     "output_type": "stream",
     "text": [
      "Public Atribute\n",
      "Protected Atribute\n",
      "Private Atribute\n"
     ]
    }
   ],
   "source": [
    "print(AccessAtributes.public_atribute)\n",
    "print(AccessAtributes._protected_atribute)\n",
    "print(AccessAtributes._AccessAtributes__private_atribute)"
   ]
  },
  {
   "cell_type": "markdown",
   "metadata": {},
   "source": [
    "<p style=\"text-align: center;\"> ACCESS CLASS INHERITANCE</p>"
   ]
  },
  {
   "cell_type": "code",
   "execution_count": 14,
   "metadata": {},
   "outputs": [],
   "source": [
    "class AccessAtributes(AccessMehods):\n",
    "    \n",
    "    public_atribute = \"Public Atribute\"\n",
    "    _protected_atribute = \"Protected Atribute\"\n",
    "    __private_atribute = \"Private Atribute\""
   ]
  },
  {
   "cell_type": "code",
   "execution_count": 15,
   "metadata": {
    "scrolled": true
   },
   "outputs": [
    {
     "data": {
      "text/plain": [
       "['_AccessAtributes__private_atribute',\n",
       " '_AccessMehods__private_method',\n",
       " '__class__',\n",
       " '__delattr__',\n",
       " '__dict__',\n",
       " '__dir__',\n",
       " '__doc__',\n",
       " '__eq__',\n",
       " '__format__',\n",
       " '__ge__',\n",
       " '__getattribute__',\n",
       " '__gt__',\n",
       " '__hash__',\n",
       " '__init__',\n",
       " '__init_subclass__',\n",
       " '__le__',\n",
       " '__lt__',\n",
       " '__module__',\n",
       " '__ne__',\n",
       " '__new__',\n",
       " '__reduce__',\n",
       " '__reduce_ex__',\n",
       " '__repr__',\n",
       " '__setattr__',\n",
       " '__sizeof__',\n",
       " '__str__',\n",
       " '__subclasshook__',\n",
       " '__weakref__',\n",
       " '_protected_atribute',\n",
       " '_protected_method',\n",
       " 'public_atribute',\n",
       " 'public_method']"
      ]
     },
     "execution_count": 15,
     "metadata": {},
     "output_type": "execute_result"
    }
   ],
   "source": [
    "dir(AccessAtributes)"
   ]
  },
  {
   "cell_type": "markdown",
   "metadata": {},
   "source": [
    "<p style=\"text-align: center;\">CREATE CONSTRUCTOR CLASS</p>"
   ]
  },
  {
   "cell_type": "code",
   "execution_count": 16,
   "metadata": {},
   "outputs": [],
   "source": [
    "class AccessAtributes:\n",
    "    \n",
    "    public_atribute = \"Public Atribute\"\n",
    "    _protected_atribute = \"Protected Atribute\"\n",
    "    __private_atribute = \"Private Atribute\"\n",
    "    \n",
    "    def __init__(self, public_value, protected_value, private_value):\n",
    "        self.public_value = public_value\n",
    "        self._protected_value = protected_value\n",
    "        self.__private_value = private_value"
   ]
  },
  {
   "cell_type": "markdown",
   "metadata": {},
   "source": [
    "<p style=\"text-align: center;\"> SHOW VALUES FOR EVERY PARAMETER ACCESING DIRECTLY</p>"
   ]
  },
  {
   "cell_type": "code",
   "execution_count": 17,
   "metadata": {},
   "outputs": [
    {
     "name": "stdout",
     "output_type": "stream",
     "text": [
      "public\n",
      "protected\n",
      "private\n"
     ]
    }
   ],
   "source": [
    "#Create The Object\n",
    "data = AccessAtributes('public', 'protected', 'private')\n",
    "\n",
    "print (data.public_value)\n",
    "print (data._protected_value)\n",
    "print (data._AccessAtributes__private_value)"
   ]
  },
  {
   "cell_type": "markdown",
   "metadata": {},
   "source": [
    "<p style=\"text-align: center;\"> ADD ATRIBUTE default</p>"
   ]
  },
  {
   "cell_type": "code",
   "execution_count": 18,
   "metadata": {},
   "outputs": [
    {
     "name": "stdout",
     "output_type": "stream",
     "text": [
      "{'public_value': 'public', '_protected_value': 'protected', '_AccessAtributes__private_value': 'private', 'default': 'Default'}\n"
     ]
    }
   ],
   "source": [
    "data.default = 'Default'\n",
    "print(data.__dict__)"
   ]
  },
  {
   "cell_type": "markdown",
   "metadata": {},
   "source": [
    "<p style=\"text-align: center;\"> CREATE METHODS FOR ACCESING TO VALUES</p>"
   ]
  },
  {
   "cell_type": "code",
   "execution_count": 19,
   "metadata": {},
   "outputs": [],
   "source": [
    "class AccessAtributes:\n",
    "    \n",
    "    public_atribute = \"Public Atribute\"\n",
    "    _protected_atribute = \"Protected Atribute\"\n",
    "    __private_atribute = \"Private Atribute\"\n",
    "    \n",
    "    def __init__(self, public_value, protected_value, private_value):\n",
    "        self.public_value = public_value\n",
    "        self._protected_value = protected_value\n",
    "        self.__private_value = private_value\n",
    "        \n",
    "    def public_value(self):\n",
    "        \n",
    "        return self.public_value\n",
    "    \n",
    "            \n",
    "    def get_public_value(self):\n",
    "        \n",
    "        return self.public_value\n",
    "    \n",
    "    def get_protected_value(self):\n",
    "        \n",
    "        return self._protected_value\n",
    "    \n",
    "    def get_private_value(self):        \n",
    "        return self.__private_value    "
   ]
  },
  {
   "cell_type": "markdown",
   "metadata": {},
   "source": [
    "<p style=\"text-align: center;\"> SHOW VALUES FOR EVERY PARAMETER USING METHODS</p>"
   ]
  },
  {
   "cell_type": "code",
   "execution_count": 20,
   "metadata": {},
   "outputs": [
    {
     "name": "stdout",
     "output_type": "stream",
     "text": [
      "public\n",
      "<bound method AccessAtributes.get_public_value of <__main__.AccessAtributes object at 0x000001BFDD876790>>\n",
      "<bound method AccessAtributes.get_protected_value of <__main__.AccessAtributes object at 0x000001BFDD876790>>\n",
      "<bound method AccessAtributes.get_private_value of <__main__.AccessAtributes object at 0x000001BFDD876790>>\n"
     ]
    }
   ],
   "source": [
    "#Create The Object\n",
    "data = AccessAtributes('public', 'protected', 'private')\n",
    "\n",
    "\n",
    "print (data.public_value)\n",
    "print (data.get_public_value)\n",
    "print (data.get_protected_value)\n",
    "print (data.get_private_value)"
   ]
  },
  {
   "cell_type": "code",
   "execution_count": 21,
   "metadata": {},
   "outputs": [
    {
     "ename": "TypeError",
     "evalue": "'str' object is not callable",
     "output_type": "error",
     "traceback": [
      "\u001b[1;31m---------------------------------------------------------------------------\u001b[0m",
      "\u001b[1;31mTypeError\u001b[0m                                 Traceback (most recent call last)",
      "\u001b[1;32m<ipython-input-21-990a895ea2dd>\u001b[0m in \u001b[0;36m<module>\u001b[1;34m\u001b[0m\n\u001b[1;32m----> 1\u001b[1;33m \u001b[0mprint\u001b[0m \u001b[1;33m(\u001b[0m\u001b[0mdata\u001b[0m\u001b[1;33m.\u001b[0m\u001b[0mpublic_value\u001b[0m\u001b[1;33m(\u001b[0m\u001b[1;33m)\u001b[0m\u001b[1;33m)\u001b[0m\u001b[1;33m\u001b[0m\u001b[1;33m\u001b[0m\u001b[0m\n\u001b[0m",
      "\u001b[1;31mTypeError\u001b[0m: 'str' object is not callable"
     ]
    }
   ],
   "source": [
    "print (data.public_value())"
   ]
  },
  {
   "cell_type": "code",
   "execution_count": 22,
   "metadata": {},
   "outputs": [
    {
     "name": "stdout",
     "output_type": "stream",
     "text": [
      "public\n",
      "public\n",
      "protected\n",
      "private\n"
     ]
    }
   ],
   "source": [
    "print (data.public_value)\n",
    "print (data.get_public_value())\n",
    "print (data.get_protected_value())\n",
    "print (data.get_private_value())"
   ]
  },
  {
   "cell_type": "markdown",
   "metadata": {},
   "source": [
    "<p style=\"text-align: center;\"> PASS PARAMETERS USING SPECIFIC KEY</p>"
   ]
  },
  {
   "cell_type": "code",
   "execution_count": 23,
   "metadata": {},
   "outputs": [
    {
     "name": "stdout",
     "output_type": "stream",
     "text": [
      "public\n",
      "public\n",
      "protected\n",
      "private\n"
     ]
    }
   ],
   "source": [
    "#Create The Object\n",
    "data = AccessAtributes(protected_value = 'protected' , private_value = 'private', public_value = 'public')\n",
    "\n",
    "print (data.public_value)\n",
    "print (data.get_public_value())\n",
    "print (data.get_protected_value())\n",
    "print (data.get_private_value())"
   ]
  },
  {
   "cell_type": "markdown",
   "metadata": {},
   "source": [
    "<p style=\"text-align: center;\"> METHODS FOR OBTAIN AND MANIPULATE DATA</p>"
   ]
  },
  {
   "cell_type": "code",
   "execution_count": 24,
   "metadata": {},
   "outputs": [],
   "source": [
    "class AccessAtributes:\n",
    "    \n",
    "    public_atribute = \"Public Atribute\"\n",
    "    _protected_atribute = \"Protected Atribute\"\n",
    "    __private_atribute = \"Private Atribute\"\n",
    "    \n",
    "    def __init__(self, public_value, protected_value, private_value):\n",
    "        self.public_value = public_value\n",
    "        self._protected_value = protected_value\n",
    "        self.__private_value = private_value\n",
    "            \n",
    "    def get_public_value(self):\n",
    "        \n",
    "        return self.public_value\n",
    "    \n",
    "    def get_protected_value(self):\n",
    "        \n",
    "        return self._protected_value\n",
    "    \n",
    "    def get_private_value(self):\n",
    "        \n",
    "        print(\"Obtain Value \" + self.__private_value  + \" Using Function\")\n",
    "        return self.__private_value    \n",
    "\n",
    "    def set_private_value(self, new_value):\n",
    "        print (\"Updating Value.. \" + self.__private_value + \" Using Function\")\n",
    "        self.__private_value = new_value\n",
    "        return self.__private_value\n",
    "        print (\"Value Modified by \" + self.__private_value + \" Using Function\") \n",
    "    \n",
    "    def delete_private_value(self):  \n",
    "        print(\"Deleting Key private_value and Value.. \" + self.__private_value + \" Using Function\")        \n",
    "        del self.__private_value"
   ]
  },
  {
   "cell_type": "markdown",
   "metadata": {},
   "source": [
    "<p style=\"text-align: center;\"> SHOW VALUES FOR EVERY PARAMETER USING Functions</p>"
   ]
  },
  {
   "cell_type": "code",
   "execution_count": 25,
   "metadata": {},
   "outputs": [
    {
     "name": "stdout",
     "output_type": "stream",
     "text": [
      "<bound method AccessAtributes.get_public_value of <__main__.AccessAtributes object at 0x000001BFDD9671C0>>\n"
     ]
    }
   ],
   "source": [
    "#Create The Object\n",
    "data = AccessAtributes(protected_value = 'protected' , private_value = 'private', public_value = 'public')\n",
    "print (data.get_public_value)"
   ]
  },
  {
   "cell_type": "code",
   "execution_count": 26,
   "metadata": {},
   "outputs": [
    {
     "name": "stdout",
     "output_type": "stream",
     "text": [
      "public\n",
      "public\n",
      "protected\n",
      "Obtain Value private Using Function\n",
      "private\n",
      "{'public_value': 'public', '_protected_value': 'protected', '_AccessAtributes__private_value': 'private'}\n"
     ]
    }
   ],
   "source": [
    "#Create The Object\n",
    "data = AccessAtributes(protected_value = 'protected' , private_value = 'private', public_value = 'public')\n",
    "\n",
    "print (data.public_value)\n",
    "print (data.get_public_value())\n",
    "print (data.get_protected_value())\n",
    "print (data.get_private_value())\n",
    "print(data.__dict__)"
   ]
  },
  {
   "cell_type": "markdown",
   "metadata": {},
   "source": [
    "<p style=\"text-align: center;\"> UPDATE VALUE USING A FUNCTION</p>"
   ]
  },
  {
   "cell_type": "code",
   "execution_count": 27,
   "metadata": {},
   "outputs": [
    {
     "name": "stdout",
     "output_type": "stream",
     "text": [
      "Updating Value.. private Using Function\n",
      "{'public_value': 'public', '_protected_value': 'protected', '_AccessAtributes__private_value': 'Classified'}\n"
     ]
    }
   ],
   "source": [
    "data.set_private_value(\"Classified\")\n",
    "print(data.__dict__)"
   ]
  },
  {
   "cell_type": "markdown",
   "metadata": {},
   "source": [
    "<p style=\"text-align: center;\"> DELETE KEY USING A FUNCTION</p>"
   ]
  },
  {
   "cell_type": "code",
   "execution_count": 28,
   "metadata": {},
   "outputs": [
    {
     "name": "stdout",
     "output_type": "stream",
     "text": [
      "Deleting Key private_value and Value.. Classified Using Function\n",
      "{'public_value': 'public', '_protected_value': 'protected'}\n"
     ]
    }
   ],
   "source": [
    "data.delete_private_value()\n",
    "print(data.__dict__)"
   ]
  },
  {
   "cell_type": "markdown",
   "metadata": {},
   "source": [
    "<p style=\"text-align: center;\"> SHOW VALUES FOR EVERY PARAMETER USING @property</p>"
   ]
  },
  {
   "cell_type": "code",
   "execution_count": 29,
   "metadata": {},
   "outputs": [],
   "source": [
    "class AccessAtributes:\n",
    "    \n",
    "    public_atribute = \"Public Atribute\"\n",
    "    _protected_atribute = \"Protected Atribute\"\n",
    "    __private_atribute = \"Private Atribute\"\n",
    "    \n",
    "    def __init__(self, public_value, protected_value, private_value):\n",
    "        self.public_value = public_value\n",
    "        self._protected_value = protected_value\n",
    "        self.__private_value = private_value\n",
    "            \n",
    "    @property\n",
    "    def get_public_value(self):\n",
    "        \n",
    "        return self.public_value\n",
    "    \n",
    "    @property\n",
    "    def get_protected_value(self):\n",
    "        \n",
    "        return self._protected_value\n",
    "    \n",
    "    @property\n",
    "    def get_private_value(self):        \n",
    "        return self.__private_value    "
   ]
  },
  {
   "cell_type": "code",
   "execution_count": 30,
   "metadata": {},
   "outputs": [
    {
     "name": "stdout",
     "output_type": "stream",
     "text": [
      "public\n",
      "public\n",
      "protected\n",
      "private\n"
     ]
    }
   ],
   "source": [
    "#Create The Object\n",
    "data = AccessAtributes('public', 'protected', 'private')\n",
    "\n",
    "print (data.public_value)\n",
    "print (data.get_public_value)\n",
    "print (data.get_protected_value)\n",
    "print (data.get_private_value)"
   ]
  },
  {
   "cell_type": "markdown",
   "metadata": {},
   "source": [
    "<p style=\"text-align: center;\"> USING A VARIABLE FOR MANIPULATE DATA USING property</p>"
   ]
  },
  {
   "cell_type": "code",
   "execution_count": 31,
   "metadata": {},
   "outputs": [],
   "source": [
    "class AccessAtributes:\n",
    "    \n",
    "    public_atribute = \"Public Atribute\"\n",
    "    _protected_atribute = \"Protected Atribute\"\n",
    "    __private_atribute = \"Private Atribute\"\n",
    "    \n",
    "    def __init__(self, public_value, protected_value, private_value):\n",
    "        self.public_value = public_value\n",
    "        self._protected_value = protected_value\n",
    "        self.__private_value = private_value\n",
    "            \n",
    "    def get_public_value(self):\n",
    "        \n",
    "        return self.public_value\n",
    "    \n",
    "    def get_protected_value(self):\n",
    "        \n",
    "        return self._protected_value\n",
    "    \n",
    "    def __get_private_value(self):\n",
    "        \n",
    "        print(\"Obtain Value \" + self.__private_value  + \" Using Function\")\n",
    "        return self.__private_value    \n",
    "\n",
    "    def __set_private_value(self, new_value):\n",
    "        print (\"Updating Value.. \" + self.__private_value + \" Using Function\")\n",
    "        self.__private_value = new_value\n",
    "        return self.__private_value\n",
    "        print (\"Value Modified by \" + self.__private_value + \" Using Function\") \n",
    "    \n",
    "    def __delete_private_value(self):  \n",
    "        print(\"Deleting Key private_value and Value.. \" + self.__private_value + \" Using Function\")        \n",
    "        del self.__private_value\n",
    "        \n",
    "    process_private_value = property(__get_private_value, __set_private_value, __delete_private_value) "
   ]
  },
  {
   "cell_type": "code",
   "execution_count": 32,
   "metadata": {},
   "outputs": [],
   "source": [
    "#Create The Object\n",
    "data = AccessAtributes('public', 'protected', 'private')"
   ]
  },
  {
   "cell_type": "markdown",
   "metadata": {},
   "source": [
    "<p style=\"text-align: center;\"> SHOW VALUE USING THE KEY</p>"
   ]
  },
  {
   "cell_type": "code",
   "execution_count": 33,
   "metadata": {},
   "outputs": [
    {
     "name": "stdout",
     "output_type": "stream",
     "text": [
      "Obtain Value private Using Function\n",
      "{'public_value': 'public', '_protected_value': 'protected', '_AccessAtributes__private_value': 'private'}\n"
     ]
    }
   ],
   "source": [
    "data.process_private_value\n",
    "print(data.__dict__)"
   ]
  },
  {
   "cell_type": "markdown",
   "metadata": {},
   "source": [
    "<p style=\"text-align: center;\"> UPDATE VALUE USING KEY</p>"
   ]
  },
  {
   "cell_type": "code",
   "execution_count": 34,
   "metadata": {},
   "outputs": [
    {
     "name": "stdout",
     "output_type": "stream",
     "text": [
      "Updating Value.. private Using Function\n",
      "{'public_value': 'public', '_protected_value': 'protected', '_AccessAtributes__private_value': 'Classified'}\n"
     ]
    }
   ],
   "source": [
    "data.process_private_value = \"Classified\"\n",
    "print(data.__dict__)"
   ]
  },
  {
   "cell_type": "markdown",
   "metadata": {},
   "source": [
    "<p style=\"text-align: center;\"> DELETE KEY FROM OBJECT</p>"
   ]
  },
  {
   "cell_type": "code",
   "execution_count": 35,
   "metadata": {},
   "outputs": [
    {
     "name": "stdout",
     "output_type": "stream",
     "text": [
      "Deleting Key private_value and Value.. Classified Using Function\n",
      "{'public_value': 'public', '_protected_value': 'protected'}\n"
     ]
    }
   ],
   "source": [
    "del data.process_private_value\n",
    "print(data.__dict__)"
   ]
  },
  {
   "cell_type": "markdown",
   "metadata": {},
   "source": [
    "<p style=\"text-align: center;\"> USING GETTER, SETTER AND DELETER WITH DECORATOR</p>"
   ]
  },
  {
   "cell_type": "code",
   "execution_count": 36,
   "metadata": {},
   "outputs": [],
   "source": [
    "class AccessAtributes:\n",
    "    \n",
    "    public_atribute = \"Public Atribute\"\n",
    "    _protected_atribute = \"Protected Atribute\"\n",
    "    __private_atribute = \"Private Atribute\"\n",
    "    \n",
    "    def __init__(self, public_value, protected_value, private_value):\n",
    "        self.public_value = public_value\n",
    "        self._protected_value = protected_value\n",
    "        self.__private_value = private_value               \n",
    "            \n",
    "    @property\n",
    "    def get_public_value(self):\n",
    "        \n",
    "        return self.public_value\n",
    "    \n",
    "    @property\n",
    "    def get_protected_value(self):\n",
    "        \n",
    "        return self._protected_value\n",
    "    \n",
    "    @property\n",
    "    def get_private_value(self):        \n",
    "        return self.__private_value    \n",
    "    \n",
    "    @property\n",
    "    def private_value(self):        \n",
    "        return self.__private_value   \n",
    "    \n",
    "    @private_value.setter\n",
    "    def private_value(self, new_value):\n",
    "        print (\"Updating Value.. \" + self.__private_value)\n",
    "        self.__private_value = new_value\n",
    "        print (\"Value Modified by \" + self.__private_value)        \n",
    "        \n",
    "    @private_value.deleter\n",
    "    def private_value(self): \n",
    "        print(\"Deleting Value.. \" + self.__private_value)\n",
    "        del self.__private_value"
   ]
  },
  {
   "cell_type": "markdown",
   "metadata": {},
   "source": [
    "<p style=\"text-align: center;\"> GET VALUE FOR ATRIBUTE private_value</p>"
   ]
  },
  {
   "cell_type": "code",
   "execution_count": 37,
   "metadata": {},
   "outputs": [
    {
     "data": {
      "text/plain": [
       "'private'"
      ]
     },
     "execution_count": 37,
     "metadata": {},
     "output_type": "execute_result"
    }
   ],
   "source": [
    "#Create The Object\n",
    "data = AccessAtributes('public', 'protected', 'private')\n",
    "data.private_value"
   ]
  },
  {
   "cell_type": "markdown",
   "metadata": {},
   "source": [
    "<p style=\"text-align: center;\"> SET VALUE FOR ATRIBUTE private_value</p>"
   ]
  },
  {
   "cell_type": "code",
   "execution_count": 38,
   "metadata": {},
   "outputs": [
    {
     "name": "stdout",
     "output_type": "stream",
     "text": [
      "Updating Value.. private\n",
      "Value Modified by new value for Private decorator\n",
      "{'public_value': 'public', '_protected_value': 'protected', '_AccessAtributes__private_value': 'new value for Private decorator'}\n"
     ]
    }
   ],
   "source": [
    "data.private_value = 'new value for Private decorator'\n",
    "print(data.__dict__)"
   ]
  },
  {
   "cell_type": "markdown",
   "metadata": {},
   "source": [
    "<p style=\"text-align: center;\"> DELETE ATRIBUTE private_value</p>"
   ]
  },
  {
   "cell_type": "code",
   "execution_count": 39,
   "metadata": {},
   "outputs": [
    {
     "name": "stdout",
     "output_type": "stream",
     "text": [
      "Deleting Value.. new value for Private decorator\n",
      "{'public_value': 'public', '_protected_value': 'protected'}\n"
     ]
    }
   ],
   "source": [
    "del data.private_value\n",
    "print(data.__dict__)"
   ]
  },
  {
   "cell_type": "markdown",
   "metadata": {},
   "source": [
    "<p style=\"text-align: center;\">USING DECORATOR @dataclass FOR SIMPLIFLY CLASS</p>"
   ]
  },
  {
   "cell_type": "code",
   "execution_count": 40,
   "metadata": {},
   "outputs": [],
   "source": [
    "from dataclasses import dataclass\n",
    "\n",
    "@dataclass\n",
    "class AccessAtributes:\n",
    "    \n",
    "    public_atribute = \"Public Atribute\"\n",
    "    _protected_atribute = \"Protected Atribute\"\n",
    "    __private_atribute = \"Private Atribute\"\n",
    "    \n",
    "    public_value : str\n",
    "    _protected_value : str\n",
    "    __private_value : str                    \n",
    "            \n",
    "    @property\n",
    "    def get_public_value(self):\n",
    "        \n",
    "        return self.public_value\n",
    "    \n",
    "    @property\n",
    "    def get_protected_value(self):\n",
    "        \n",
    "        return self._protected_value\n",
    "    \n",
    "    @property\n",
    "    def get_private_value(self):        \n",
    "        return self.__private_value    \n",
    "    \n",
    "    @property\n",
    "    def private_value(self):        \n",
    "        return self.__private_value   \n",
    "    \n",
    "    @private_value.setter\n",
    "    def private_value(self, new_value):\n",
    "        print (\"Updating Value.. \" + self.__private_value)\n",
    "        self.__private_value = new_value\n",
    "        print (\"Value Modified by \" + self.__private_value)        \n",
    "        \n",
    "    @private_value.deleter\n",
    "    def private_value(self): \n",
    "        print(\"Deleting Value.. \" + self.__private_value)\n",
    "        del self.__private_value"
   ]
  },
  {
   "cell_type": "markdown",
   "metadata": {},
   "source": [
    "<p style=\"text-align: center;\"> SHOW VALUES FOR EVERY ATRIBUTE</p>"
   ]
  },
  {
   "cell_type": "code",
   "execution_count": 41,
   "metadata": {},
   "outputs": [
    {
     "name": "stdout",
     "output_type": "stream",
     "text": [
      "Public Atribute\n",
      "Protected Atribute\n",
      "Private Atribute\n"
     ]
    }
   ],
   "source": [
    "print(AccessAtributes.public_atribute)\n",
    "print(AccessAtributes._protected_atribute)\n",
    "print(AccessAtributes._AccessAtributes__private_atribute)"
   ]
  },
  {
   "cell_type": "markdown",
   "metadata": {},
   "source": [
    "<p style=\"text-align: center;\"> SHOW VALUES FOR EVERY PARAMETER USING METHODS</p>"
   ]
  },
  {
   "cell_type": "code",
   "execution_count": 42,
   "metadata": {},
   "outputs": [
    {
     "name": "stdout",
     "output_type": "stream",
     "text": [
      "public\n",
      "protected\n",
      "private\n"
     ]
    }
   ],
   "source": [
    "#Create The Object\n",
    "data = AccessAtributes('public', 'protected', 'private')\n",
    "\n",
    "print (data.public_value)\n",
    "print (data.get_protected_value)\n",
    "print (data.private_value)"
   ]
  },
  {
   "cell_type": "code",
   "execution_count": 43,
   "metadata": {},
   "outputs": [
    {
     "name": "stdout",
     "output_type": "stream",
     "text": [
      "public\n",
      "protected\n",
      "private\n"
     ]
    }
   ],
   "source": [
    "print (data.public_value)\n",
    "print (data.get_protected_value)\n",
    "print (data.private_value)"
   ]
  },
  {
   "cell_type": "markdown",
   "metadata": {},
   "source": [
    "<p style=\"text-align: center;\"> SET VALUE FOR ATRIBUTE private_value</p>"
   ]
  },
  {
   "cell_type": "code",
   "execution_count": 44,
   "metadata": {},
   "outputs": [
    {
     "name": "stdout",
     "output_type": "stream",
     "text": [
      "Updating Value.. private\n",
      "Value Modified by new value for Private decorator\n",
      "{'public_value': 'public', '_protected_value': 'protected', '_AccessAtributes__private_value': 'new value for Private decorator'}\n"
     ]
    }
   ],
   "source": [
    "data.private_value = 'new value for Private decorator'\n",
    "print(data.__dict__)"
   ]
  },
  {
   "cell_type": "markdown",
   "metadata": {},
   "source": [
    "<p style=\"text-align: center;\"> DELETE ATRIBUTE private_value</p>"
   ]
  },
  {
   "cell_type": "code",
   "execution_count": 45,
   "metadata": {},
   "outputs": [
    {
     "name": "stdout",
     "output_type": "stream",
     "text": [
      "Deleting Value.. new value for Private decorator\n",
      "{'public_value': 'public', '_protected_value': 'protected'}\n"
     ]
    }
   ],
   "source": [
    "del data.private_value\n",
    "print(data.__dict__)"
   ]
  },
  {
   "cell_type": "markdown",
   "metadata": {},
   "source": [
    "<p style=\"text-align: center;\"> ADD ATRIBUTE default</p>"
   ]
  },
  {
   "cell_type": "code",
   "execution_count": 46,
   "metadata": {},
   "outputs": [
    {
     "name": "stdout",
     "output_type": "stream",
     "text": [
      "{'public_value': 'public', '_protected_value': 'protected', 'default': 'Default'}\n"
     ]
    }
   ],
   "source": [
    "data.default = 'Default'\n",
    "print(data.__dict__)"
   ]
  },
  {
   "cell_type": "markdown",
   "metadata": {},
   "source": [
    "<p style=\"text-align: center;\">SLOTS FOR FREE MEMORY</p>"
   ]
  },
  {
   "cell_type": "code",
   "execution_count": null,
   "metadata": {},
   "outputs": [],
   "source": [
    "from dataclasses import dataclass\n",
    "\n",
    "@dataclass\n",
    "class AccessAtributes:\n",
    "    \n",
    "    public_atribute = \"Public Atribute\"\n",
    "    _protected_atribute = \"Protected Atribute\"\n",
    "    __private_atribute = \"Private Atribute\"\n",
    "    \n",
    "    __slots__ = ['public_value','_protected_value','__private_value']\n",
    "    \n",
    "    public_value : str\n",
    "    _protected_value : str\n",
    "    __private_value : str                    \n",
    "            \n",
    "    @property\n",
    "    def get_public_value(self):\n",
    "        \n",
    "        return self.public_value\n",
    "    \n",
    "    @property\n",
    "    def get_protected_value(self):\n",
    "        \n",
    "        return self._protected_value\n",
    "    \n",
    "    @property\n",
    "    def get_private_value(self):        \n",
    "        return self.__private_value    \n",
    "    \n",
    "    @property\n",
    "    def private_value(self):        \n",
    "        return self.__private_value   \n",
    "    \n",
    "    @private_value.setter\n",
    "    def private_value(self, new_value):\n",
    "        print (\"Updating Value.. \" + self.__private_value)\n",
    "        self.__private_value = new_value\n",
    "        print (\"Value Modified by \" + self.__private_value)        \n",
    "        \n",
    "    @private_value.deleter\n",
    "    def private_value(self): \n",
    "        print(\"Deleting Value.. \" + self.__private_value)\n",
    "        del self.__private_value"
   ]
  },
  {
   "cell_type": "code",
   "execution_count": 50,
   "metadata": {},
   "outputs": [],
   "source": [
    "#Create The Object\n",
    "data = AccessAtributes('public', 'protected', 'private')"
   ]
  },
  {
   "cell_type": "code",
   "execution_count": 51,
   "metadata": {},
   "outputs": [
    {
     "ename": "AttributeError",
     "evalue": "'AccessAtributes' object has no attribute 'new_key'",
     "output_type": "error",
     "traceback": [
      "\u001b[1;31m---------------------------------------------------------------------------\u001b[0m",
      "\u001b[1;31mAttributeError\u001b[0m                            Traceback (most recent call last)",
      "\u001b[1;32m<ipython-input-51-4b454cd61668>\u001b[0m in \u001b[0;36m<module>\u001b[1;34m\u001b[0m\n\u001b[1;32m----> 1\u001b[1;33m \u001b[0mdata\u001b[0m\u001b[1;33m.\u001b[0m\u001b[0mnew_key\u001b[0m \u001b[1;33m=\u001b[0m \u001b[1;34m\"slots\"\u001b[0m\u001b[1;33m\u001b[0m\u001b[1;33m\u001b[0m\u001b[0m\n\u001b[0m",
      "\u001b[1;31mAttributeError\u001b[0m: 'AccessAtributes' object has no attribute 'new_key'"
     ]
    }
   ],
   "source": [
    "data.new_key = \"slots\""
   ]
  },
  {
   "cell_type": "code",
   "execution_count": 52,
   "metadata": {
    "scrolled": true
   },
   "outputs": [
    {
     "data": {
      "text/plain": [
       "['_AccessAtributes__private_atribute',\n",
       " '_AccessAtributes__private_value',\n",
       " '__annotations__',\n",
       " '__class__',\n",
       " '__dataclass_fields__',\n",
       " '__dataclass_params__',\n",
       " '__delattr__',\n",
       " '__dir__',\n",
       " '__doc__',\n",
       " '__eq__',\n",
       " '__format__',\n",
       " '__ge__',\n",
       " '__getattribute__',\n",
       " '__gt__',\n",
       " '__hash__',\n",
       " '__init__',\n",
       " '__init_subclass__',\n",
       " '__le__',\n",
       " '__lt__',\n",
       " '__module__',\n",
       " '__ne__',\n",
       " '__new__',\n",
       " '__reduce__',\n",
       " '__reduce_ex__',\n",
       " '__repr__',\n",
       " '__setattr__',\n",
       " '__sizeof__',\n",
       " '__slots__',\n",
       " '__str__',\n",
       " '__subclasshook__',\n",
       " '_protected_atribute',\n",
       " '_protected_value',\n",
       " 'get_private_value',\n",
       " 'get_protected_value',\n",
       " 'get_public_value',\n",
       " 'private_value',\n",
       " 'public_atribute',\n",
       " 'public_value']"
      ]
     },
     "execution_count": 52,
     "metadata": {},
     "output_type": "execute_result"
    }
   ],
   "source": [
    "dir(data)"
   ]
  }
 ],
 "metadata": {
  "kernelspec": {
   "display_name": "Python 3",
   "language": "python",
   "name": "python3"
  },
  "language_info": {
   "codemirror_mode": {
    "name": "ipython",
    "version": 3
   },
   "file_extension": ".py",
   "mimetype": "text/x-python",
   "name": "python",
   "nbconvert_exporter": "python",
   "pygments_lexer": "ipython3",
   "version": "3.8.5"
  }
 },
 "nbformat": 4,
 "nbformat_minor": 4
}
