{
 "cells": [
  {
   "cell_type": "markdown",
   "id": "b234a963",
   "metadata": {},
   "source": [
    "# <center> configura el notebook para que las celdas tomen todo el ancho de la pantalla del navegador</center> "
   ]
  },
  {
   "cell_type": "code",
   "execution_count": 1,
   "id": "ef303c2d",
   "metadata": {},
   "outputs": [
    {
     "data": {
      "text/html": [
       "<style>.container { width:100% !important; }</style>"
      ],
      "text/plain": [
       "<IPython.core.display.HTML object>"
      ]
     },
     "metadata": {},
     "output_type": "display_data"
    }
   ],
   "source": [
    "from IPython.core.display import display, HTML\n",
    "display(HTML(\"<style>.container { width:100% !important; }</style>\"))"
   ]
  },
  {
   "cell_type": "markdown",
   "id": "f4ab8e0c",
   "metadata": {},
   "source": [
    "# <center> Generador de Lista con numeros aleatorios</center>"
   ]
  },
  {
   "cell_type": "code",
   "execution_count": 2,
   "id": "3a804de0",
   "metadata": {},
   "outputs": [
    {
     "name": "stdout",
     "output_type": "stream",
     "text": [
      "[631, -637, -1050, 1070, -964, -441, 821, 286, 551, 1063, 3]\n"
     ]
    }
   ],
   "source": [
    "import random\n",
    "\n",
    "def generar_lista_aleatoria(x: int) -> list:\n",
    "    \n",
    "    # evita la llegada de un cero\n",
    "    x = abs(x) + 1\n",
    "    \n",
    "    return [random.randint(-100*x, 100*x) for i in range(x)]\n",
    "\n",
    "lista_aleatoria = generar_lista_aleatoria(random.randint(10, 50))\n",
    "print(lista_aleatoria)"
   ]
  },
  {
   "cell_type": "markdown",
   "id": "324577ed",
   "metadata": {},
   "source": [
    "# <center> Funciones Lambda</center>"
   ]
  },
  {
   "cell_type": "markdown",
   "id": "bb856f6b",
   "metadata": {},
   "source": [
    "## <center> Primera funcion a evaluar, Funcion Lambda numeros pares</center>"
   ]
  },
  {
   "cell_type": "code",
   "execution_count": 3,
   "id": "df59738b",
   "metadata": {},
   "outputs": [],
   "source": [
    "def funcion_par(x: int):\n",
    "    \n",
    "    if(x %2 == 0):\n",
    "        return x\n",
    "    else:\n",
    "        return None"
   ]
  },
  {
   "cell_type": "code",
   "execution_count": 5,
   "id": "3971de63",
   "metadata": {},
   "outputs": [],
   "source": [
    "par = lambda x: x if(x %2 == 0) else None"
   ]
  },
  {
   "cell_type": "markdown",
   "id": "f638b00f",
   "metadata": {},
   "source": [
    "## <center> Segunda funcion a evaluar, Funcion Lambda numeros impares</center>"
   ]
  },
  {
   "cell_type": "code",
   "execution_count": 6,
   "id": "f34e209b",
   "metadata": {},
   "outputs": [],
   "source": [
    "impar = lambda x: x if(x %2 != 0) else None"
   ]
  },
  {
   "cell_type": "markdown",
   "id": "c9f2b503",
   "metadata": {},
   "source": [
    "# <center> Tercera funcion a evaluar</center>"
   ]
  },
  {
   "cell_type": "code",
   "execution_count": 7,
   "id": "73e6ca5a",
   "metadata": {},
   "outputs": [],
   "source": [
    "def incrementador_aleatorio(x: int) -> list:\n",
    "    y = generar_lista_aleatoria(x*10)\n",
    "    return x + random.choice(y)"
   ]
  },
  {
   "cell_type": "markdown",
   "id": "1cb7b3f2",
   "metadata": {},
   "source": [
    "# <center> Creamos una funcion que use map internamente y retorne la lista</center>"
   ]
  },
  {
   "cell_type": "code",
   "execution_count": 8,
   "id": "40b40f72",
   "metadata": {},
   "outputs": [],
   "source": [
    "def usando_map(funcion, iterador: iter):\n",
    "    return list(map(funcion, iterador))"
   ]
  },
  {
   "cell_type": "markdown",
   "id": "3df53714",
   "metadata": {},
   "source": [
    "## <center> Ejecuta la funcion que use map y obtiene el resultado del calculo de la lista</center>"
   ]
  },
  {
   "cell_type": "code",
   "execution_count": 10,
   "id": "a6129cca",
   "metadata": {
    "scrolled": true
   },
   "outputs": [
    {
     "data": {
      "text/plain": [
       "[None, None, -1050, 1070, -964, None, None, 286, None, None, None]"
      ]
     },
     "execution_count": 10,
     "metadata": {},
     "output_type": "execute_result"
    }
   ],
   "source": [
    "usando_map(funcion_par, lista_aleatoria)"
   ]
  },
  {
   "cell_type": "code",
   "execution_count": 11,
   "id": "1620241d",
   "metadata": {
    "scrolled": true
   },
   "outputs": [
    {
     "data": {
      "text/plain": [
       "[None, None, -1050, 1070, -964, None, None, 286, None, None, None]"
      ]
     },
     "execution_count": 11,
     "metadata": {},
     "output_type": "execute_result"
    }
   ],
   "source": [
    "usando_map(par, lista_aleatoria)"
   ]
  },
  {
   "cell_type": "code",
   "execution_count": 12,
   "id": "c18112a7",
   "metadata": {
    "scrolled": true
   },
   "outputs": [
    {
     "data": {
      "text/plain": [
       "[631, -637, None, None, None, -441, 821, None, 551, 1063, 3]"
      ]
     },
     "execution_count": 12,
     "metadata": {},
     "output_type": "execute_result"
    }
   ],
   "source": [
    "usando_map(impar, lista_aleatoria)"
   ]
  },
  {
   "cell_type": "code",
   "execution_count": 13,
   "id": "7f04e99f",
   "metadata": {
    "scrolled": true
   },
   "outputs": [
    {
     "data": {
      "text/plain": [
       "[-55862,\n",
       " 513125,\n",
       " -1029363,\n",
       " -519114,\n",
       " 542975,\n",
       " -233213,\n",
       " -598986,\n",
       " 255892,\n",
       " 126606,\n",
       " 962556,\n",
       " -817]"
      ]
     },
     "execution_count": 13,
     "metadata": {},
     "output_type": "execute_result"
    }
   ],
   "source": [
    "usando_map(incrementador_aleatorio, lista_aleatoria)"
   ]
  },
  {
   "cell_type": "markdown",
   "id": "ddfc8285",
   "metadata": {},
   "source": [
    "# <center> Cuarta y quinta funcion a evaluar</center>"
   ]
  },
  {
   "cell_type": "code",
   "execution_count": 14,
   "id": "29592db6",
   "metadata": {},
   "outputs": [],
   "source": [
    "def filtrar_numeros_positivos(x: int) -> int:\n",
    "    \n",
    "    return x >+ 0\n",
    "\n",
    "def filtrar_numeros_negativos(x: int) -> int:\n",
    "    \n",
    "    return x < 0"
   ]
  },
  {
   "cell_type": "markdown",
   "id": "1d3724f4",
   "metadata": {},
   "source": [
    "# <center> Creamos una funcion que use filter internamente y retorne la lista que cumpla el criterio de seleccion</center>"
   ]
  },
  {
   "cell_type": "code",
   "execution_count": 15,
   "id": "b7165d49",
   "metadata": {},
   "outputs": [],
   "source": [
    "def usando_filter(funcion , iterador: iter) -> list:\n",
    "    \n",
    "    return list(filter(funcion,iterador))"
   ]
  },
  {
   "cell_type": "markdown",
   "id": "1052d7a2",
   "metadata": {},
   "source": [
    "## <center> Filtrando solo numeros positivos</center>"
   ]
  },
  {
   "cell_type": "code",
   "execution_count": 16,
   "id": "9e46eb67",
   "metadata": {
    "scrolled": true
   },
   "outputs": [
    {
     "data": {
      "text/plain": [
       "[631, 1070, 821, 286, 551, 1063, 3]"
      ]
     },
     "execution_count": 16,
     "metadata": {},
     "output_type": "execute_result"
    }
   ],
   "source": [
    "usando_filter(filtrar_numeros_positivos,lista_aleatoria)"
   ]
  },
  {
   "cell_type": "markdown",
   "id": "969620fc",
   "metadata": {},
   "source": [
    "## <center> Filtrando solo numeros negativos</center>"
   ]
  },
  {
   "cell_type": "code",
   "execution_count": 17,
   "id": "e69c9758",
   "metadata": {},
   "outputs": [
    {
     "data": {
      "text/plain": [
       "[-637, -1050, -964, -441]"
      ]
     },
     "execution_count": 17,
     "metadata": {},
     "output_type": "execute_result"
    }
   ],
   "source": [
    "usando_filter(filtrar_numeros_negativos,lista_aleatoria)"
   ]
  },
  {
   "cell_type": "markdown",
   "id": "08f111fb",
   "metadata": {},
   "source": [
    "## <center> Filtrando solo numeros pares de la funcion lambda</center>"
   ]
  },
  {
   "cell_type": "code",
   "execution_count": 18,
   "id": "641ee4ce",
   "metadata": {},
   "outputs": [
    {
     "data": {
      "text/plain": [
       "[-1050, 1070, -964, 286]"
      ]
     },
     "execution_count": 18,
     "metadata": {},
     "output_type": "execute_result"
    }
   ],
   "source": [
    "usando_filter(par,lista_aleatoria)"
   ]
  },
  {
   "cell_type": "markdown",
   "id": "814e390c",
   "metadata": {},
   "source": [
    "## <center> Filtrando solo numeros impares de la funcion lambda</center>"
   ]
  },
  {
   "cell_type": "code",
   "execution_count": 19,
   "id": "1f1a0729",
   "metadata": {},
   "outputs": [
    {
     "data": {
      "text/plain": [
       "[631, -637, -441, 821, 551, 1063, 3]"
      ]
     },
     "execution_count": 19,
     "metadata": {},
     "output_type": "execute_result"
    }
   ],
   "source": [
    "usando_filter(impar,lista_aleatoria)"
   ]
  },
  {
   "cell_type": "markdown",
   "id": "ed9f0181",
   "metadata": {},
   "source": [
    "# <center> Creamos una funcion que que reciba 2 argumentos y retorne un valor</center>"
   ]
  },
  {
   "cell_type": "code",
   "execution_count": 20,
   "id": "e4a71842",
   "metadata": {},
   "outputs": [],
   "source": [
    "from functools import reduce\n",
    "\n",
    "def suma_numeros_positivos(x: int, y: int) -> int:\n",
    "    \n",
    "    if(x>=0 and y>=0):\n",
    "        return x + y\n",
    "    elif(x>=0):\n",
    "        return x\n",
    "    elif(y>=0):\n",
    "        return y\n",
    "    else:\n",
    "        return 0"
   ]
  },
  {
   "cell_type": "code",
   "execution_count": 22,
   "id": "021e1988",
   "metadata": {},
   "outputs": [],
   "source": [
    "def suma_numeros_negativos(x: int, y: int) -> int:\n",
    "    \n",
    "    if(x < 0 and y < 0):\n",
    "        return x + y\n",
    "    elif(x < 0):\n",
    "        return x\n",
    "    elif(y < 0):\n",
    "        return y\n",
    "    else:\n",
    "        return 0"
   ]
  },
  {
   "cell_type": "markdown",
   "id": "002b8c09",
   "metadata": {},
   "source": [
    "# <center> Creamos una funcion que use filter internamente y retorne la lista</center>"
   ]
  },
  {
   "cell_type": "code",
   "execution_count": 23,
   "id": "03f843e2",
   "metadata": {},
   "outputs": [],
   "source": [
    "def usando_reduce(funcion, iterador: iter) -> int:\n",
    "    \n",
    "    return reduce(funcion, iterador)"
   ]
  },
  {
   "cell_type": "markdown",
   "id": "320b522b",
   "metadata": {},
   "source": [
    "# <center> Definimos una lista para probar las funciones</center>"
   ]
  },
  {
   "cell_type": "code",
   "execution_count": 24,
   "id": "b11a7fa2",
   "metadata": {},
   "outputs": [
    {
     "data": {
      "text/plain": [
       "0"
      ]
     },
     "execution_count": 24,
     "metadata": {},
     "output_type": "execute_result"
    }
   ],
   "source": [
    "lista_valores = [0,-1,1,2,-2,-3,3,4,-4,-5,-6,-7,5,6,7,8,9,-8,-9]\n",
    "sum(lista_valores)"
   ]
  },
  {
   "cell_type": "markdown",
   "id": "614c72bb",
   "metadata": {},
   "source": [
    "# <center> validamos que retorne la suma de la lista de los números positivos</center>"
   ]
  },
  {
   "cell_type": "code",
   "execution_count": 25,
   "id": "19d5e4fe",
   "metadata": {},
   "outputs": [
    {
     "data": {
      "text/plain": [
       "45"
      ]
     },
     "execution_count": 25,
     "metadata": {},
     "output_type": "execute_result"
    }
   ],
   "source": [
    "usando_reduce(suma_numeros_positivos, lista_valores)"
   ]
  },
  {
   "cell_type": "markdown",
   "id": "b6128ceb",
   "metadata": {},
   "source": [
    "# <center> validamos que retorne la suma de la lista de los números negativos</center>"
   ]
  },
  {
   "cell_type": "code",
   "execution_count": 26,
   "id": "9ae70af2",
   "metadata": {},
   "outputs": [
    {
     "data": {
      "text/plain": [
       "-45"
      ]
     },
     "execution_count": 26,
     "metadata": {},
     "output_type": "execute_result"
    }
   ],
   "source": [
    "reduce(suma_numeros_negativos, lista_valores)"
   ]
  }
 ],
 "metadata": {
  "kernelspec": {
   "display_name": "Python 3",
   "language": "python",
   "name": "python3"
  },
  "language_info": {
   "codemirror_mode": {
    "name": "ipython",
    "version": 3
   },
   "file_extension": ".py",
   "mimetype": "text/x-python",
   "name": "python",
   "nbconvert_exporter": "python",
   "pygments_lexer": "ipython3",
   "version": "3.7.9"
  }
 },
 "nbformat": 4,
 "nbformat_minor": 5
}
