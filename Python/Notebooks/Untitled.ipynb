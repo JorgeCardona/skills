{
 "cells": [
  {
   "cell_type": "code",
   "execution_count": null,
   "metadata": {},
   "outputs": [],
   "source": [
    "!pip install overloading"
   ]
  },
  {
   "cell_type": "code",
   "execution_count": null,
   "metadata": {},
   "outputs": [],
   "source": [
    "#!pip install faker"
   ]
  },
  {
   "cell_type": "code",
   "execution_count": null,
   "metadata": {},
   "outputs": [],
   "source": [
    "from faker import Faker\n",
    "#from faker.providers import internet\n",
    "\n",
    "import pandas as pd\n",
    "import random\n",
    "fake = Faker(\"es_MX\")\n",
    "#fake.add_provider(internet)\n",
    "\n",
    "\n",
    "def create_rows_faker(num=1):\n",
    "    output = [{\"profile\":fake.profile(),\n",
    "        \"name\":fake.name(),\n",
    "                   \"address\":fake.address(),\n",
    "                   \"name\":fake.name(),\n",
    "                   \"color\":fake.color_name(),\n",
    "                   \"email\":fake.email(),\n",
    "                   \"title\":fake.catch_phrase(),\n",
    "                   \"bs\":fake.bs(),\n",
    "                   \"city\":fake.city(),\n",
    "                   \"state\":fake.state(),\n",
    "                   \"date_time\":fake.date_time(),\n",
    "                   \"paragraph\":fake.paragraph(),\n",
    "                   \"text\":fake.text(),\n",
    "                   \"Conrad\":fake.catch_phrase(),\n",
    "                   \"ip address\":fake.ipv4_private(),               \n",
    "                   \"randomdata\":random.randint(1000,2000)} for x in range(num)]\n",
    "    return output"
   ]
  },
  {
   "cell_type": "code",
   "execution_count": null,
   "metadata": {},
   "outputs": [],
   "source": [
    "%%time\n",
    "df_faker = pd.DataFrame(create_rows_faker(500))"
   ]
  },
  {
   "cell_type": "code",
   "execution_count": null,
   "metadata": {
    "scrolled": true
   },
   "outputs": [],
   "source": [
    "df_faker"
   ]
  },
  {
   "cell_type": "code",
   "execution_count": null,
   "metadata": {},
   "outputs": [],
   "source": [
    "from faker import Faker\n",
    "from faker.providers import internet\n",
    "\n",
    "fake = Faker()\n",
    "fake.add_provider(internet)\n",
    "\n",
    "print(fake.ipv4_private())"
   ]
  },
  {
   "cell_type": "code",
   "execution_count": null,
   "metadata": {},
   "outputs": [],
   "source": [
    "!pip install overrides"
   ]
  },
  {
   "cell_type": "code",
   "execution_count": 1,
   "metadata": {},
   "outputs": [],
   "source": [
    "from overloading import overload"
   ]
  },
  {
   "cell_type": "code",
   "execution_count": 7,
   "metadata": {},
   "outputs": [],
   "source": [
    "#from overloading import Interface\n",
    "from abc import ABC, abstractmethod"
   ]
  },
  {
   "cell_type": "code",
   "execution_count": 3,
   "metadata": {},
   "outputs": [
    {
     "ename": "NameError",
     "evalue": "name 'overloading' is not defined",
     "output_type": "error",
     "traceback": [
      "\u001b[1;31m---------------------------------------------------------------------------\u001b[0m",
      "\u001b[1;31mNameError\u001b[0m                                 Traceback (most recent call last)",
      "\u001b[1;32m<ipython-input-3-8e4180703e19>\u001b[0m in \u001b[0;36m<module>\u001b[1;34m\u001b[0m\n\u001b[1;32m----> 1\u001b[1;33m \u001b[0mhelp\u001b[0m\u001b[1;33m(\u001b[0m\u001b[0moverloading\u001b[0m\u001b[1;33m)\u001b[0m\u001b[1;33m\u001b[0m\u001b[1;33m\u001b[0m\u001b[0m\n\u001b[0m",
      "\u001b[1;31mNameError\u001b[0m: name 'overloading' is not defined"
     ]
    }
   ],
   "source": [
    "help(overloading)"
   ]
  },
  {
   "cell_type": "code",
   "execution_count": 8,
   "metadata": {},
   "outputs": [
    {
     "ename": "ImportError",
     "evalue": "cannot import name 'when' from 'overloading' (C:\\Users\\QiDimMak\\anaconda3\\lib\\site-packages\\overloading.py)",
     "output_type": "error",
     "traceback": [
      "\u001b[1;31m---------------------------------------------------------------------------\u001b[0m",
      "\u001b[1;31mImportError\u001b[0m                               Traceback (most recent call last)",
      "\u001b[1;32m<ipython-input-8-e71b89bb5c4d>\u001b[0m in \u001b[0;36m<module>\u001b[1;34m\u001b[0m\n\u001b[1;32m----> 1\u001b[1;33m \u001b[1;32mfrom\u001b[0m \u001b[0moverloading\u001b[0m \u001b[1;32mimport\u001b[0m \u001b[0mwhen\u001b[0m\u001b[1;33m\u001b[0m\u001b[1;33m\u001b[0m\u001b[0m\n\u001b[0m",
      "\u001b[1;31mImportError\u001b[0m: cannot import name 'when' from 'overloading' (C:\\Users\\QiDimMak\\anaconda3\\lib\\site-packages\\overloading.py)"
     ]
    }
   ],
   "source": [
    "from overloading import when"
   ]
  },
  {
   "cell_type": "code",
   "execution_count": 1,
   "metadata": {},
   "outputs": [],
   "source": [
    "def funcion_decoradora(funcion_entrada):\n",
    "    \n",
    "    def wrapper(*args, **kwargs):\n",
    "        \n",
    "        return funcion_entrada(*args, **kwargs)\n",
    "    \n",
    "    return wrapper"
   ]
  },
  {
   "cell_type": "code",
   "execution_count": 19,
   "metadata": {},
   "outputs": [],
   "source": [
    "def ejemplo_args(*argumentos):\n",
    "    \n",
    "    return sum(argumentos)\n",
    "\n",
    "\n",
    "def ejemplo_kw_args(**keywordarguments):\n",
    "    total = 0\n",
    "    \n",
    "    for llave, valor in keywordarguments.items():\n",
    "        \n",
    "        print('El valor de La {llave} es {valor}.'.format(llave=llave, valor=valor))\n",
    "        print(f'El valor de La {llave} es {valor}')\n",
    "        total += valor\n",
    "        \n",
    "    return total        "
   ]
  },
  {
   "cell_type": "code",
   "execution_count": 20,
   "metadata": {},
   "outputs": [
    {
     "name": "stdout",
     "output_type": "stream",
     "text": [
      "El valor de La w es 3.\n",
      "El valor de La w es 3\n"
     ]
    },
    {
     "data": {
      "text/plain": [
       "3"
      ]
     },
     "execution_count": 20,
     "metadata": {},
     "output_type": "execute_result"
    }
   ],
   "source": [
    "ejemplo_kw_args(w=3)"
   ]
  },
  {
   "cell_type": "code",
   "execution_count": 25,
   "metadata": {},
   "outputs": [
    {
     "data": {
      "text/plain": [
       "'Hello     '"
      ]
     },
     "execution_count": 25,
     "metadata": {},
     "output_type": "execute_result"
    }
   ],
   "source": [
    "\"{0:10}\".format(\"Hello\")"
   ]
  },
  {
   "cell_type": "code",
   "execution_count": 29,
   "metadata": {},
   "outputs": [],
   "source": [
    "x = 1\n",
    "\n",
    "def subir(y):\n",
    "    \n",
    "    y +=1\n",
    "    \n",
    "    return y"
   ]
  },
  {
   "cell_type": "code",
   "execution_count": 30,
   "metadata": {},
   "outputs": [
    {
     "data": {
      "text/plain": [
       "3"
      ]
     },
     "execution_count": 30,
     "metadata": {},
     "output_type": "execute_result"
    }
   ],
   "source": [
    "subir(2)"
   ]
  },
  {
   "cell_type": "code",
   "execution_count": 31,
   "metadata": {},
   "outputs": [
    {
     "data": {
      "text/plain": [
       "1"
      ]
     },
     "execution_count": 31,
     "metadata": {},
     "output_type": "execute_result"
    }
   ],
   "source": [
    "x"
   ]
  },
  {
   "cell_type": "code",
   "execution_count": 32,
   "metadata": {},
   "outputs": [
    {
     "name": "stdout",
     "output_type": "stream",
     "text": [
      "[20, 100, 200]\n"
     ]
    }
   ],
   "source": [
    "def doblar_valores(numeros):\n",
    "    for i,n in enumerate(numeros):\n",
    "        numeros[i] *= 2\n",
    "\n",
    "ns = [10,50,100]\n",
    "doblar_valores(ns)\n",
    "print(ns)"
   ]
  },
  {
   "cell_type": "code",
   "execution_count": 34,
   "metadata": {},
   "outputs": [
    {
     "name": "stdout",
     "output_type": "stream",
     "text": [
      "10\n"
     ]
    }
   ],
   "source": [
    "def doblar_valor(numero):\n",
    "    return numero * 2\n",
    "\n",
    "n = 10\n",
    "doblar_valor(n)\n",
    "print(n)"
   ]
  },
  {
   "cell_type": "code",
   "execution_count": null,
   "metadata": {},
   "outputs": [],
   "source": []
  }
 ],
 "metadata": {
  "kernelspec": {
   "display_name": "Python 3",
   "language": "python",
   "name": "python3"
  },
  "language_info": {
   "codemirror_mode": {
    "name": "ipython",
    "version": 3
   },
   "file_extension": ".py",
   "mimetype": "text/x-python",
   "name": "python",
   "nbconvert_exporter": "python",
   "pygments_lexer": "ipython3",
   "version": "3.8.5"
  }
 },
 "nbformat": 4,
 "nbformat_minor": 4
}
