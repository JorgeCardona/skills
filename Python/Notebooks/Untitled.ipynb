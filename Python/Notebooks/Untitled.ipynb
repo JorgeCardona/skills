{
 "cells": [
  {
   "cell_type": "code",
   "execution_count": 4,
   "id": "d1af8c51",
   "metadata": {},
   "outputs": [],
   "source": [
    "caracter = '5'\n",
    "palabra = \"5d55ggg5g5e5c55b5\""
   ]
  },
  {
   "cell_type": "code",
   "execution_count": 6,
   "id": "dccdca00",
   "metadata": {},
   "outputs": [
    {
     "data": {
      "text/plain": [
       "'---NEW---d---NEW------NEW---ggg5g5e5c55b'"
      ]
     },
     "execution_count": 6,
     "metadata": {},
     "output_type": "execute_result"
    }
   ],
   "source": [
    "palabra[:-1].replace(caracter, \"---NEW---\", 3)"
   ]
  },
  {
   "cell_type": "code",
   "execution_count": null,
   "id": "b4b075fd",
   "metadata": {},
   "outputs": [],
   "source": []
  }
 ],
 "metadata": {
  "kernelspec": {
   "display_name": "Python 3 (ipykernel)",
   "language": "python",
   "name": "python3"
  },
  "language_info": {
   "codemirror_mode": {
    "name": "ipython",
    "version": 3
   },
   "file_extension": ".py",
   "mimetype": "text/x-python",
   "name": "python",
   "nbconvert_exporter": "python",
   "pygments_lexer": "ipython3",
   "version": "3.9.7"
  }
 },
 "nbformat": 4,
 "nbformat_minor": 5
}
