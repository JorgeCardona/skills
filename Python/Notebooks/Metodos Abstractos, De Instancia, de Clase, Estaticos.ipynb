{
 "cells": [
  {
   "cell_type": "code",
   "execution_count": 1,
   "metadata": {},
   "outputs": [
    {
     "data": {
      "text/html": [
       "<style>.container { width:100% !important; }</style>"
      ],
      "text/plain": [
       "<IPython.core.display.HTML object>"
      ]
     },
     "metadata": {},
     "output_type": "display_data"
    }
   ],
   "source": [
    "from IPython.core.display import display, HTML\n",
    "display(HTML(\"<style>.container { width:100% !important; }</style>\"))"
   ]
  },
  {
   "cell_type": "markdown",
   "metadata": {},
   "source": [
    "# <center> Metodos Abstractos </center> "
   ]
  },
  {
   "cell_type": "code",
   "execution_count": 2,
   "metadata": {},
   "outputs": [],
   "source": [
    "from abc import ABC, abstractmethod\n",
    "\n",
    "class MetodosAbstractos(ABC):\n",
    "    \n",
    "    @abstractmethod\n",
    "    def metodo_abstracto_uno(self, x:int) -> int:\n",
    "        pass\n",
    "\n",
    "    @abstractmethod\n",
    "    def metodo_abstracto_dos(self, x:int, y:int) -> int:\n",
    "        pass"
   ]
  },
  {
   "cell_type": "code",
   "execution_count": 3,
   "metadata": {},
   "outputs": [
    {
     "ename": "TypeError",
     "evalue": "Can't instantiate abstract class MetodosAbstractos with abstract methods metodo_abstracto_dos, metodo_abstracto_uno",
     "output_type": "error",
     "traceback": [
      "\u001b[1;31m---------------------------------------------------------------------------\u001b[0m",
      "\u001b[1;31mTypeError\u001b[0m                                 Traceback (most recent call last)",
      "\u001b[1;32m<ipython-input-3-8aaa9b13c5c6>\u001b[0m in \u001b[0;36m<module>\u001b[1;34m\u001b[0m\n\u001b[1;32m----> 1\u001b[1;33m \u001b[0mMetodosAbstractos\u001b[0m\u001b[1;33m(\u001b[0m\u001b[1;33m)\u001b[0m\u001b[1;33m\u001b[0m\u001b[1;33m\u001b[0m\u001b[0m\n\u001b[0m",
      "\u001b[1;31mTypeError\u001b[0m: Can't instantiate abstract class MetodosAbstractos with abstract methods metodo_abstracto_dos, metodo_abstracto_uno"
     ]
    }
   ],
   "source": [
    "MetodosAbstractos()"
   ]
  },
  {
   "cell_type": "code",
   "execution_count": 4,
   "metadata": {},
   "outputs": [],
   "source": [
    "class implementaMetodosAbstractos(MetodosAbstractos):    \n",
    "        \n",
    "    def __init__(self):\n",
    "        pass\n",
    "    \n",
    "    def otro_metodo(lista:list)-> int:\n",
    "        return len(lista)"
   ]
  },
  {
   "cell_type": "code",
   "execution_count": 5,
   "metadata": {},
   "outputs": [
    {
     "ename": "TypeError",
     "evalue": "Can't instantiate abstract class implementaMetodosAbstractos with abstract methods metodo_abstracto_dos, metodo_abstracto_uno",
     "output_type": "error",
     "traceback": [
      "\u001b[1;31m---------------------------------------------------------------------------\u001b[0m",
      "\u001b[1;31mTypeError\u001b[0m                                 Traceback (most recent call last)",
      "\u001b[1;32m<ipython-input-5-960883dc6dc9>\u001b[0m in \u001b[0;36m<module>\u001b[1;34m\u001b[0m\n\u001b[1;32m----> 1\u001b[1;33m \u001b[0mimplementaMetodosAbstractos\u001b[0m\u001b[1;33m(\u001b[0m\u001b[1;33m)\u001b[0m\u001b[1;33m\u001b[0m\u001b[1;33m\u001b[0m\u001b[0m\n\u001b[0m",
      "\u001b[1;31mTypeError\u001b[0m: Can't instantiate abstract class implementaMetodosAbstractos with abstract methods metodo_abstracto_dos, metodo_abstracto_uno"
     ]
    }
   ],
   "source": [
    "implementaMetodosAbstractos()"
   ]
  },
  {
   "cell_type": "code",
   "execution_count": 13,
   "metadata": {},
   "outputs": [],
   "source": [
    "from typeguard import typechecked\n",
    "\n",
    "@typechecked\n",
    "class implementaMetodosAbstractos(MetodosAbstractos):    \n",
    "        \n",
    "    def __init__(self):\n",
    "        pass\n",
    "    \n",
    "    def metodo_abstracto_uno(self, x:int) -> int:\n",
    "        return x*8\n",
    "\n",
    "    def metodo_abstracto_dos(self, x:int, y:int) -> int:\n",
    "        return (x*5) + (y*7)\n",
    "    \n",
    "    def otro_metodo(self, lista:list)-> int:\n",
    "        return sum(lista)"
   ]
  },
  {
   "cell_type": "code",
   "execution_count": 14,
   "metadata": {},
   "outputs": [
    {
     "ename": "TypeError",
     "evalue": "type of argument \"x\" must be int; got str instead",
     "output_type": "error",
     "traceback": [
      "\u001b[1;31m---------------------------------------------------------------------------\u001b[0m",
      "\u001b[1;31mTypeError\u001b[0m                                 Traceback (most recent call last)",
      "\u001b[1;32m<ipython-input-14-a41fef02f95a>\u001b[0m in \u001b[0;36m<module>\u001b[1;34m\u001b[0m\n\u001b[1;32m----> 1\u001b[1;33m \u001b[0mimplementaMetodosAbstractos\u001b[0m\u001b[1;33m(\u001b[0m\u001b[1;33m)\u001b[0m\u001b[1;33m.\u001b[0m\u001b[0mmetodo_abstracto_uno\u001b[0m\u001b[1;33m(\u001b[0m\u001b[1;34m\"4\"\u001b[0m\u001b[1;33m)\u001b[0m\u001b[1;33m\u001b[0m\u001b[1;33m\u001b[0m\u001b[0m\n\u001b[0m",
      "\u001b[1;32m~\\anaconda3\\lib\\site-packages\\typeguard\\__init__.py\u001b[0m in \u001b[0;36mwrapper\u001b[1;34m(*args, **kwargs)\u001b[0m\n\u001b[0;32m   1012\u001b[0m     \u001b[1;32mdef\u001b[0m \u001b[0mwrapper\u001b[0m\u001b[1;33m(\u001b[0m\u001b[1;33m*\u001b[0m\u001b[0margs\u001b[0m\u001b[1;33m,\u001b[0m \u001b[1;33m**\u001b[0m\u001b[0mkwargs\u001b[0m\u001b[1;33m)\u001b[0m\u001b[1;33m:\u001b[0m\u001b[1;33m\u001b[0m\u001b[1;33m\u001b[0m\u001b[0m\n\u001b[0;32m   1013\u001b[0m         \u001b[0mmemo\u001b[0m \u001b[1;33m=\u001b[0m \u001b[0m_CallMemo\u001b[0m\u001b[1;33m(\u001b[0m\u001b[0mpython_func\u001b[0m\u001b[1;33m,\u001b[0m \u001b[0m_localns\u001b[0m\u001b[1;33m,\u001b[0m \u001b[0margs\u001b[0m\u001b[1;33m=\u001b[0m\u001b[0margs\u001b[0m\u001b[1;33m,\u001b[0m \u001b[0mkwargs\u001b[0m\u001b[1;33m=\u001b[0m\u001b[0mkwargs\u001b[0m\u001b[1;33m)\u001b[0m\u001b[1;33m\u001b[0m\u001b[1;33m\u001b[0m\u001b[0m\n\u001b[1;32m-> 1014\u001b[1;33m         \u001b[0mcheck_argument_types\u001b[0m\u001b[1;33m(\u001b[0m\u001b[0mmemo\u001b[0m\u001b[1;33m)\u001b[0m\u001b[1;33m\u001b[0m\u001b[1;33m\u001b[0m\u001b[0m\n\u001b[0m\u001b[0;32m   1015\u001b[0m         \u001b[0mretval\u001b[0m \u001b[1;33m=\u001b[0m \u001b[0mfunc\u001b[0m\u001b[1;33m(\u001b[0m\u001b[1;33m*\u001b[0m\u001b[0margs\u001b[0m\u001b[1;33m,\u001b[0m \u001b[1;33m**\u001b[0m\u001b[0mkwargs\u001b[0m\u001b[1;33m)\u001b[0m\u001b[1;33m\u001b[0m\u001b[1;33m\u001b[0m\u001b[0m\n\u001b[0;32m   1016\u001b[0m         \u001b[1;32mtry\u001b[0m\u001b[1;33m:\u001b[0m\u001b[1;33m\u001b[0m\u001b[1;33m\u001b[0m\u001b[0m\n",
      "\u001b[1;32m~\\anaconda3\\lib\\site-packages\\typeguard\\__init__.py\u001b[0m in \u001b[0;36mcheck_argument_types\u001b[1;34m(memo)\u001b[0m\n\u001b[0;32m    855\u001b[0m                 \u001b[0mcheck_type\u001b[0m\u001b[1;33m(\u001b[0m\u001b[0mdescription\u001b[0m\u001b[1;33m,\u001b[0m \u001b[0mvalue\u001b[0m\u001b[1;33m,\u001b[0m \u001b[0mexpected_type\u001b[0m\u001b[1;33m,\u001b[0m \u001b[0mmemo\u001b[0m\u001b[1;33m)\u001b[0m\u001b[1;33m\u001b[0m\u001b[1;33m\u001b[0m\u001b[0m\n\u001b[0;32m    856\u001b[0m             \u001b[1;32mexcept\u001b[0m \u001b[0mTypeError\u001b[0m \u001b[1;32mas\u001b[0m \u001b[0mexc\u001b[0m\u001b[1;33m:\u001b[0m  \u001b[1;31m# suppress unnecessarily long tracebacks\u001b[0m\u001b[1;33m\u001b[0m\u001b[1;33m\u001b[0m\u001b[0m\n\u001b[1;32m--> 857\u001b[1;33m                 \u001b[1;32mraise\u001b[0m \u001b[0mTypeError\u001b[0m\u001b[1;33m(\u001b[0m\u001b[1;33m*\u001b[0m\u001b[0mexc\u001b[0m\u001b[1;33m.\u001b[0m\u001b[0margs\u001b[0m\u001b[1;33m)\u001b[0m \u001b[1;32mfrom\u001b[0m \u001b[1;32mNone\u001b[0m\u001b[1;33m\u001b[0m\u001b[1;33m\u001b[0m\u001b[0m\n\u001b[0m\u001b[0;32m    858\u001b[0m \u001b[1;33m\u001b[0m\u001b[0m\n\u001b[0;32m    859\u001b[0m     \u001b[1;32mreturn\u001b[0m \u001b[1;32mTrue\u001b[0m\u001b[1;33m\u001b[0m\u001b[1;33m\u001b[0m\u001b[0m\n",
      "\u001b[1;31mTypeError\u001b[0m: type of argument \"x\" must be int; got str instead"
     ]
    }
   ],
   "source": [
    "implementaMetodosAbstractos().metodo_abstracto_uno(\"4\")"
   ]
  },
  {
   "cell_type": "code",
   "execution_count": 15,
   "metadata": {},
   "outputs": [
    {
     "data": {
      "text/plain": [
       "56"
      ]
     },
     "execution_count": 15,
     "metadata": {},
     "output_type": "execute_result"
    }
   ],
   "source": [
    "implementaMetodosAbstractos().metodo_abstracto_uno(7)"
   ]
  },
  {
   "cell_type": "code",
   "execution_count": 16,
   "metadata": {},
   "outputs": [
    {
     "data": {
      "text/plain": [
       "55"
      ]
     },
     "execution_count": 16,
     "metadata": {},
     "output_type": "execute_result"
    }
   ],
   "source": [
    "implementaMetodosAbstractos().metodo_abstracto_dos(4,5)"
   ]
  },
  {
   "cell_type": "code",
   "execution_count": 17,
   "metadata": {},
   "outputs": [
    {
     "data": {
      "text/plain": [
       "4950"
      ]
     },
     "execution_count": 17,
     "metadata": {},
     "output_type": "execute_result"
    }
   ],
   "source": [
    "listado = [i for i in range(100)]\n",
    "implementaMetodosAbstractos().otro_metodo(listado)"
   ]
  },
  {
   "cell_type": "markdown",
   "metadata": {},
   "source": [
    "# <center> Metodos de Instancia </center> "
   ]
  },
  {
   "cell_type": "code",
   "execution_count": 18,
   "metadata": {},
   "outputs": [],
   "source": [
    "class MetodosDeInstancia:\n",
    "    \n",
    "    variable_de_clase = \"Variable De Clase\"\n",
    "   \n",
    "    @classmethod\n",
    "    def metodo_de_clase(cls):\n",
    "        return 'Metodo de clase fue Llamado', cls    \n",
    "\n",
    "    @staticmethod\n",
    "    def metodo_estatico():\n",
    "        return 'Metodo Estatico 0 fue Llamado'  \n",
    "    \n",
    "    def __init__(self):        \n",
    "        self.uno, self.dos, self.tres = 1, 2, 3\n",
    "        \n",
    "    def metodo_de_instancia_variable_de_clase(self):\n",
    "        return 'Metodo de Instancia Variable de Clase fue Llamado', self.variable_de_clase\n",
    "    \n",
    "    def metodo_de_instancia_variable_de_instancia(self):\n",
    "        return 'Metodo de Instancia Variable de Instancia fue Llamado', self.__dict__, self.uno\n",
    "    \n",
    "    def metodo_de_instancia_llamando_metodo_de_instancia_variable_de_instancia(self):\n",
    "        return 'Metodo de Instancia Llamando otro Metodo de Instancia fue Llamado', self.metodo_de_instancia_variable_de_instancia(), self.dos, self.tres\n",
    "\n",
    "    def metodo_de_instancia_llamando_metodo_de_clase(self):\n",
    "        return 'Metodo de Instancia Llamando Metodo de Clase fue Llamado', self.metodo_de_clase()\n",
    "    \n",
    "    def metodo_de_instancia_llamando_metodo_estatico(self):\n",
    "        return 'Metodo de Instancia Llamando Metodo Estatico fue Llamado', self.metodo_estatico() "
   ]
  },
  {
   "cell_type": "code",
   "execution_count": 19,
   "metadata": {},
   "outputs": [
    {
     "data": {
      "text/plain": [
       "'Variable De Clase'"
      ]
     },
     "execution_count": 19,
     "metadata": {},
     "output_type": "execute_result"
    }
   ],
   "source": [
    "MetodosDeInstancia.variable_de_clase"
   ]
  },
  {
   "cell_type": "code",
   "execution_count": 20,
   "metadata": {},
   "outputs": [
    {
     "data": {
      "text/plain": [
       "('Metodo de Instancia Variable de Clase fue Llamado', 'Variable De Clase')"
      ]
     },
     "execution_count": 20,
     "metadata": {},
     "output_type": "execute_result"
    }
   ],
   "source": [
    "MetodosDeInstancia().metodo_de_instancia_variable_de_clase()"
   ]
  },
  {
   "cell_type": "code",
   "execution_count": 21,
   "metadata": {},
   "outputs": [
    {
     "data": {
      "text/plain": [
       "('Metodo de Instancia Variable de Instancia fue Llamado',\n",
       " {'uno': 1, 'dos': 2, 'tres': 3},\n",
       " 1)"
      ]
     },
     "execution_count": 21,
     "metadata": {},
     "output_type": "execute_result"
    }
   ],
   "source": [
    "MetodosDeInstancia().metodo_de_instancia_variable_de_instancia()"
   ]
  },
  {
   "cell_type": "code",
   "execution_count": 22,
   "metadata": {},
   "outputs": [
    {
     "data": {
      "text/plain": [
       "('Metodo de Instancia Llamando otro Metodo de Instancia fue Llamado',\n",
       " ('Metodo de Instancia Variable de Instancia fue Llamado',\n",
       "  {'uno': 1, 'dos': 2, 'tres': 3},\n",
       "  1),\n",
       " 2,\n",
       " 3)"
      ]
     },
     "execution_count": 22,
     "metadata": {},
     "output_type": "execute_result"
    }
   ],
   "source": [
    "MetodosDeInstancia().metodo_de_instancia_llamando_metodo_de_instancia_variable_de_instancia()"
   ]
  },
  {
   "cell_type": "code",
   "execution_count": 23,
   "metadata": {},
   "outputs": [
    {
     "data": {
      "text/plain": [
       "('Metodo de Instancia Llamando Metodo de Clase fue Llamado',\n",
       " ('Metodo de clase fue Llamado', __main__.MetodosDeInstancia))"
      ]
     },
     "execution_count": 23,
     "metadata": {},
     "output_type": "execute_result"
    }
   ],
   "source": [
    "MetodosDeInstancia().metodo_de_instancia_llamando_metodo_de_clase()"
   ]
  },
  {
   "cell_type": "code",
   "execution_count": 24,
   "metadata": {},
   "outputs": [
    {
     "data": {
      "text/plain": [
       "('Metodo de Instancia Llamando Metodo Estatico fue Llamado',\n",
       " 'Metodo Estatico 0 fue Llamado')"
      ]
     },
     "execution_count": 24,
     "metadata": {},
     "output_type": "execute_result"
    }
   ],
   "source": [
    "MetodosDeInstancia().metodo_de_instancia_llamando_metodo_estatico()"
   ]
  },
  {
   "cell_type": "markdown",
   "metadata": {},
   "source": [
    "# <center> Metodos de Clase </center> "
   ]
  },
  {
   "cell_type": "code",
   "execution_count": 25,
   "metadata": {},
   "outputs": [],
   "source": [
    "class MetodosDeClase:\n",
    "    \n",
    "    variable_de_clase = \"Variable De Clase\"    \n",
    "\n",
    "    @staticmethod\n",
    "    def metodo_estatico():\n",
    "        return 'Metodo Estatico fue Llamado'\n",
    "    \n",
    "    @classmethod\n",
    "    def metodo_de_clase(cls):\n",
    "        return 'Metodo de clase fue Llamado', cls\n",
    "    \n",
    "    def __init__(self):        \n",
    "        self.uno, self.dos, self.tres = 1, 2, 3\n",
    "        \n",
    "    def metodo_de_instancia(self):\n",
    "        return 'Metodo de Instancia fue Llamado', self.uno, self.dos, self.tres\n",
    "    \n",
    "    @classmethod\n",
    "    def metodo_de_clase_variable_de_clase(cls):\n",
    "        return 'Metodo de clase Variable de Clase fue Llamado', cls.variable_de_clase    \n",
    "\n",
    "    @classmethod\n",
    "    def metodo_de_clase_variable_de_instancia(cls):\n",
    "        return 'Metodo de clase Variable de Instancia fue Llamado', cls.uno, cls.dos, cls.tres   \n",
    "    \n",
    "    @classmethod\n",
    "    def metodo_de_clase_llamando_metodo_de_instancia(cls):\n",
    "        return 'Metodo de clase llamando metodo de Instancia fue Llamado', cls.metodo_de_instancia()    \n",
    "\n",
    "    @classmethod\n",
    "    def metodo_de_clase_llamando_metodo_de_clase(cls):\n",
    "        return 'Metodo de clase llamando metodo de clase fue Llamado', cls.metodo_de_clase()\n",
    "    \n",
    "    @classmethod\n",
    "    def metodo_de_clase_llamando_metodo_estatico(cls):\n",
    "        return 'Metodo de clase llamando metodo estatico fue Llamado', cls.metodo_estatico() "
   ]
  },
  {
   "cell_type": "code",
   "execution_count": 26,
   "metadata": {},
   "outputs": [
    {
     "data": {
      "text/plain": [
       "'Variable De Clase'"
      ]
     },
     "execution_count": 26,
     "metadata": {},
     "output_type": "execute_result"
    }
   ],
   "source": [
    "MetodosDeClase.variable_de_clase"
   ]
  },
  {
   "cell_type": "code",
   "execution_count": 27,
   "metadata": {},
   "outputs": [
    {
     "data": {
      "text/plain": [
       "('Metodo de clase Variable de Clase fue Llamado', 'Variable De Clase')"
      ]
     },
     "execution_count": 27,
     "metadata": {},
     "output_type": "execute_result"
    }
   ],
   "source": [
    "MetodosDeClase.metodo_de_clase_variable_de_clase()"
   ]
  },
  {
   "cell_type": "code",
   "execution_count": 28,
   "metadata": {},
   "outputs": [
    {
     "ename": "AttributeError",
     "evalue": "type object 'MetodosDeClase' has no attribute 'uno'",
     "output_type": "error",
     "traceback": [
      "\u001b[1;31m---------------------------------------------------------------------------\u001b[0m",
      "\u001b[1;31mAttributeError\u001b[0m                            Traceback (most recent call last)",
      "\u001b[1;32m<ipython-input-28-9378123d5dfa>\u001b[0m in \u001b[0;36m<module>\u001b[1;34m\u001b[0m\n\u001b[1;32m----> 1\u001b[1;33m \u001b[0mMetodosDeClase\u001b[0m\u001b[1;33m.\u001b[0m\u001b[0mmetodo_de_clase_variable_de_instancia\u001b[0m\u001b[1;33m(\u001b[0m\u001b[1;33m)\u001b[0m\u001b[1;33m\u001b[0m\u001b[1;33m\u001b[0m\u001b[0m\n\u001b[0m",
      "\u001b[1;32m<ipython-input-25-f38c79e1b625>\u001b[0m in \u001b[0;36mmetodo_de_clase_variable_de_instancia\u001b[1;34m(cls)\u001b[0m\n\u001b[0;32m     23\u001b[0m     \u001b[1;33m@\u001b[0m\u001b[0mclassmethod\u001b[0m\u001b[1;33m\u001b[0m\u001b[1;33m\u001b[0m\u001b[0m\n\u001b[0;32m     24\u001b[0m     \u001b[1;32mdef\u001b[0m \u001b[0mmetodo_de_clase_variable_de_instancia\u001b[0m\u001b[1;33m(\u001b[0m\u001b[0mcls\u001b[0m\u001b[1;33m)\u001b[0m\u001b[1;33m:\u001b[0m\u001b[1;33m\u001b[0m\u001b[1;33m\u001b[0m\u001b[0m\n\u001b[1;32m---> 25\u001b[1;33m         \u001b[1;32mreturn\u001b[0m \u001b[1;34m'Metodo de clase Variable de Instancia fue Llamado'\u001b[0m\u001b[1;33m,\u001b[0m \u001b[0mcls\u001b[0m\u001b[1;33m.\u001b[0m\u001b[0muno\u001b[0m\u001b[1;33m,\u001b[0m \u001b[0mcls\u001b[0m\u001b[1;33m.\u001b[0m\u001b[0mdos\u001b[0m\u001b[1;33m,\u001b[0m \u001b[0mcls\u001b[0m\u001b[1;33m.\u001b[0m\u001b[0mtres\u001b[0m\u001b[1;33m\u001b[0m\u001b[1;33m\u001b[0m\u001b[0m\n\u001b[0m\u001b[0;32m     26\u001b[0m \u001b[1;33m\u001b[0m\u001b[0m\n\u001b[0;32m     27\u001b[0m     \u001b[1;33m@\u001b[0m\u001b[0mclassmethod\u001b[0m\u001b[1;33m\u001b[0m\u001b[1;33m\u001b[0m\u001b[0m\n",
      "\u001b[1;31mAttributeError\u001b[0m: type object 'MetodosDeClase' has no attribute 'uno'"
     ]
    }
   ],
   "source": [
    "MetodosDeClase.metodo_de_clase_variable_de_instancia()"
   ]
  },
  {
   "cell_type": "code",
   "execution_count": 29,
   "metadata": {},
   "outputs": [
    {
     "ename": "TypeError",
     "evalue": "metodo_de_instancia() missing 1 required positional argument: 'self'",
     "output_type": "error",
     "traceback": [
      "\u001b[1;31m---------------------------------------------------------------------------\u001b[0m",
      "\u001b[1;31mTypeError\u001b[0m                                 Traceback (most recent call last)",
      "\u001b[1;32m<ipython-input-29-17f9ca8c6217>\u001b[0m in \u001b[0;36m<module>\u001b[1;34m\u001b[0m\n\u001b[1;32m----> 1\u001b[1;33m \u001b[0mMetodosDeClase\u001b[0m\u001b[1;33m.\u001b[0m\u001b[0mmetodo_de_clase_llamando_metodo_de_instancia\u001b[0m\u001b[1;33m(\u001b[0m\u001b[1;33m)\u001b[0m\u001b[1;33m\u001b[0m\u001b[1;33m\u001b[0m\u001b[0m\n\u001b[0m",
      "\u001b[1;32m<ipython-input-25-f38c79e1b625>\u001b[0m in \u001b[0;36mmetodo_de_clase_llamando_metodo_de_instancia\u001b[1;34m(cls)\u001b[0m\n\u001b[0;32m     27\u001b[0m     \u001b[1;33m@\u001b[0m\u001b[0mclassmethod\u001b[0m\u001b[1;33m\u001b[0m\u001b[1;33m\u001b[0m\u001b[0m\n\u001b[0;32m     28\u001b[0m     \u001b[1;32mdef\u001b[0m \u001b[0mmetodo_de_clase_llamando_metodo_de_instancia\u001b[0m\u001b[1;33m(\u001b[0m\u001b[0mcls\u001b[0m\u001b[1;33m)\u001b[0m\u001b[1;33m:\u001b[0m\u001b[1;33m\u001b[0m\u001b[1;33m\u001b[0m\u001b[0m\n\u001b[1;32m---> 29\u001b[1;33m         \u001b[1;32mreturn\u001b[0m \u001b[1;34m'Metodo de clase llamando metodo de Instancia fue Llamado'\u001b[0m\u001b[1;33m,\u001b[0m \u001b[0mcls\u001b[0m\u001b[1;33m.\u001b[0m\u001b[0mmetodo_de_instancia\u001b[0m\u001b[1;33m(\u001b[0m\u001b[1;33m)\u001b[0m\u001b[1;33m\u001b[0m\u001b[1;33m\u001b[0m\u001b[0m\n\u001b[0m\u001b[0;32m     30\u001b[0m \u001b[1;33m\u001b[0m\u001b[0m\n\u001b[0;32m     31\u001b[0m     \u001b[1;33m@\u001b[0m\u001b[0mclassmethod\u001b[0m\u001b[1;33m\u001b[0m\u001b[1;33m\u001b[0m\u001b[0m\n",
      "\u001b[1;31mTypeError\u001b[0m: metodo_de_instancia() missing 1 required positional argument: 'self'"
     ]
    }
   ],
   "source": [
    "MetodosDeClase.metodo_de_clase_llamando_metodo_de_instancia()"
   ]
  },
  {
   "cell_type": "code",
   "execution_count": 30,
   "metadata": {},
   "outputs": [
    {
     "data": {
      "text/plain": [
       "('Metodo de clase llamando metodo de clase fue Llamado',\n",
       " ('Metodo de clase fue Llamado', __main__.MetodosDeClase))"
      ]
     },
     "execution_count": 30,
     "metadata": {},
     "output_type": "execute_result"
    }
   ],
   "source": [
    "MetodosDeClase.metodo_de_clase_llamando_metodo_de_clase()"
   ]
  },
  {
   "cell_type": "code",
   "execution_count": 31,
   "metadata": {},
   "outputs": [
    {
     "data": {
      "text/plain": [
       "('Metodo de clase llamando metodo estatico fue Llamado',\n",
       " 'Metodo Estatico fue Llamado')"
      ]
     },
     "execution_count": 31,
     "metadata": {},
     "output_type": "execute_result"
    }
   ],
   "source": [
    "MetodosDeClase.metodo_de_clase_llamando_metodo_estatico()"
   ]
  },
  {
   "cell_type": "markdown",
   "metadata": {},
   "source": [
    "# <center> Metodos Estaticos </center> "
   ]
  },
  {
   "cell_type": "code",
   "execution_count": null,
   "metadata": {},
   "outputs": [],
   "source": [
    "class MetodoEstaticos:\n",
    "    \n",
    "    variable_de_clase = \"Variable De Clase\"    \n",
    "\n",
    "    @staticmethod\n",
    "    def metodo_estatico():\n",
    "        return 'Metodo Estatico fue Llamado'\n",
    "    \n",
    "    @classmethod\n",
    "    def metodo_de_clase(cls):\n",
    "        return 'Metodo de clase fue Llamado', cls\n",
    "    \n",
    "    def __init__(self):        \n",
    "        self.uno, self.dos, self.tres = 1, 2, 3\n",
    "        \n",
    "    def metodo_de_instancia(self):\n",
    "        return 'Metodo de Instancia fue Llamado', self.uno, self.dos, self.tres\n",
    "    \n",
    "    @staticmethod\n",
    "    def metodo_estatico_variable_de_clase():\n",
    "        return 'Metodo Estatico Variable de Clase fue Llamado', variable_de_clase    \n",
    "\n",
    "    @staticmethod\n",
    "    def metodo_estatico_variable_de_instancia():\n",
    "        return 'Metodo Estatico Variable de Instancia fue Llamado', uno, dos, tres   \n",
    "    \n",
    "    @staticmethod\n",
    "    def metodo_estatico_llamando_metodo_de_instancia():\n",
    "        return 'Metodo Estatico llamando metodo de Instancia fue Llamado', metodo_de_instancia()    \n",
    "\n",
    "    @staticmethod\n",
    "    def metodo_estatico_llamando_metodo_de_clase():\n",
    "        return 'Metodo Estatico llamando metodo de clase fue Llamado', metodo_de_clase()\n",
    "    \n",
    "    @staticmethod\n",
    "    def metodo_estatico_llamando_metodo_estatico():\n",
    "        return 'Metodo Estatico llamando metodo estatico fue Llamado', metodo_estatico() "
   ]
  },
  {
   "cell_type": "code",
   "execution_count": 32,
   "metadata": {},
   "outputs": [
    {
     "ename": "NameError",
     "evalue": "name 'MetodoEstaticos' is not defined",
     "output_type": "error",
     "traceback": [
      "\u001b[1;31m---------------------------------------------------------------------------\u001b[0m",
      "\u001b[1;31mNameError\u001b[0m                                 Traceback (most recent call last)",
      "\u001b[1;32m<ipython-input-32-dde913caed92>\u001b[0m in \u001b[0;36m<module>\u001b[1;34m\u001b[0m\n\u001b[1;32m----> 1\u001b[1;33m \u001b[0mMetodoEstaticos\u001b[0m\u001b[1;33m.\u001b[0m\u001b[0mmetodo_estatico_variable_de_clase\u001b[0m\u001b[1;33m(\u001b[0m\u001b[1;33m)\u001b[0m\u001b[1;33m\u001b[0m\u001b[1;33m\u001b[0m\u001b[0m\n\u001b[0m",
      "\u001b[1;31mNameError\u001b[0m: name 'MetodoEstaticos' is not defined"
     ]
    }
   ],
   "source": [
    "MetodoEstaticos.metodo_estatico_variable_de_clase()"
   ]
  },
  {
   "cell_type": "code",
   "execution_count": 33,
   "metadata": {},
   "outputs": [
    {
     "ename": "NameError",
     "evalue": "name 'MetodoEstaticos' is not defined",
     "output_type": "error",
     "traceback": [
      "\u001b[1;31m---------------------------------------------------------------------------\u001b[0m",
      "\u001b[1;31mNameError\u001b[0m                                 Traceback (most recent call last)",
      "\u001b[1;32m<ipython-input-33-b743d0756a9f>\u001b[0m in \u001b[0;36m<module>\u001b[1;34m\u001b[0m\n\u001b[1;32m----> 1\u001b[1;33m \u001b[0mMetodoEstaticos\u001b[0m\u001b[1;33m.\u001b[0m\u001b[0mmetodo_estatico_variable_de_instancia\u001b[0m\u001b[1;33m(\u001b[0m\u001b[1;33m)\u001b[0m\u001b[1;33m\u001b[0m\u001b[1;33m\u001b[0m\u001b[0m\n\u001b[0m",
      "\u001b[1;31mNameError\u001b[0m: name 'MetodoEstaticos' is not defined"
     ]
    }
   ],
   "source": [
    "MetodoEstaticos.metodo_estatico_variable_de_instancia()"
   ]
  },
  {
   "cell_type": "code",
   "execution_count": 34,
   "metadata": {},
   "outputs": [
    {
     "ename": "NameError",
     "evalue": "name 'MetodoEstaticos' is not defined",
     "output_type": "error",
     "traceback": [
      "\u001b[1;31m---------------------------------------------------------------------------\u001b[0m",
      "\u001b[1;31mNameError\u001b[0m                                 Traceback (most recent call last)",
      "\u001b[1;32m<ipython-input-34-b6b70666952a>\u001b[0m in \u001b[0;36m<module>\u001b[1;34m\u001b[0m\n\u001b[1;32m----> 1\u001b[1;33m \u001b[0mMetodoEstaticos\u001b[0m\u001b[1;33m.\u001b[0m\u001b[0mmetodo_estatico_llamando_metodo_de_instancia\u001b[0m\u001b[1;33m(\u001b[0m\u001b[1;33m)\u001b[0m\u001b[1;33m\u001b[0m\u001b[1;33m\u001b[0m\u001b[0m\n\u001b[0m",
      "\u001b[1;31mNameError\u001b[0m: name 'MetodoEstaticos' is not defined"
     ]
    }
   ],
   "source": [
    "MetodoEstaticos.metodo_estatico_llamando_metodo_de_instancia()"
   ]
  },
  {
   "cell_type": "code",
   "execution_count": 35,
   "metadata": {},
   "outputs": [
    {
     "ename": "NameError",
     "evalue": "name 'MetodoEstaticos' is not defined",
     "output_type": "error",
     "traceback": [
      "\u001b[1;31m---------------------------------------------------------------------------\u001b[0m",
      "\u001b[1;31mNameError\u001b[0m                                 Traceback (most recent call last)",
      "\u001b[1;32m<ipython-input-35-1e0c826a958b>\u001b[0m in \u001b[0;36m<module>\u001b[1;34m\u001b[0m\n\u001b[1;32m----> 1\u001b[1;33m \u001b[0mMetodoEstaticos\u001b[0m\u001b[1;33m.\u001b[0m\u001b[0mmetodo_estatico_llamando_metodo_de_clase\u001b[0m\u001b[1;33m(\u001b[0m\u001b[1;33m)\u001b[0m\u001b[1;33m\u001b[0m\u001b[1;33m\u001b[0m\u001b[0m\n\u001b[0m",
      "\u001b[1;31mNameError\u001b[0m: name 'MetodoEstaticos' is not defined"
     ]
    }
   ],
   "source": [
    "MetodoEstaticos.metodo_estatico_llamando_metodo_de_clase()"
   ]
  },
  {
   "cell_type": "code",
   "execution_count": 36,
   "metadata": {},
   "outputs": [
    {
     "ename": "NameError",
     "evalue": "name 'MetodoEstaticos' is not defined",
     "output_type": "error",
     "traceback": [
      "\u001b[1;31m---------------------------------------------------------------------------\u001b[0m",
      "\u001b[1;31mNameError\u001b[0m                                 Traceback (most recent call last)",
      "\u001b[1;32m<ipython-input-36-8f7c119d3e6e>\u001b[0m in \u001b[0;36m<module>\u001b[1;34m\u001b[0m\n\u001b[1;32m----> 1\u001b[1;33m \u001b[0mMetodoEstaticos\u001b[0m\u001b[1;33m.\u001b[0m\u001b[0mmetodo_estatico_llamando_metodo_estatico\u001b[0m\u001b[1;33m(\u001b[0m\u001b[1;33m)\u001b[0m\u001b[1;33m\u001b[0m\u001b[1;33m\u001b[0m\u001b[0m\n\u001b[0m",
      "\u001b[1;31mNameError\u001b[0m: name 'MetodoEstaticos' is not defined"
     ]
    }
   ],
   "source": [
    "MetodoEstaticos.metodo_estatico_llamando_metodo_estatico()"
   ]
  }
 ],
 "metadata": {
  "kernelspec": {
   "display_name": "Python 3",
   "language": "python",
   "name": "python3"
  },
  "language_info": {
   "codemirror_mode": {
    "name": "ipython",
    "version": 3
   },
   "file_extension": ".py",
   "mimetype": "text/x-python",
   "name": "python",
   "nbconvert_exporter": "python",
   "pygments_lexer": "ipython3",
   "version": "3.8.5"
  }
 },
 "nbformat": 4,
 "nbformat_minor": 4
}
