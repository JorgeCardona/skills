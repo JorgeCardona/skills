{
 "cells": [
  {
   "cell_type": "markdown",
   "metadata": {},
   "source": [
    "# <center> Configuración Global del NOTEBOOK</center> "
   ]
  },
  {
   "cell_type": "code",
   "execution_count": 1,
   "metadata": {},
   "outputs": [
    {
     "name": "stderr",
     "output_type": "stream",
     "text": [
      "C:\\Users\\QiDimMak\\AppData\\Local\\Temp\\ipykernel_1580\\3777615979.py:1: DeprecationWarning: Importing display from IPython.core.display is deprecated since IPython 7.14, please import from IPython display\n",
      "  from IPython.core.display import display, HTML\n"
     ]
    },
    {
     "data": {
      "text/html": [
       "<style>.container { width:100% !important; }</style>"
      ],
      "text/plain": [
       "<IPython.core.display.HTML object>"
      ]
     },
     "metadata": {},
     "output_type": "display_data"
    }
   ],
   "source": [
    "from IPython.core.display import display, HTML\n",
    "display(HTML(\"<style>.container { width:100% !important; }</style>\"))"
   ]
  },
  {
   "cell_type": "markdown",
   "metadata": {},
   "source": [
    "# <center> Función que retorna un dictionario con los carácteres de código morse </center> "
   ]
  },
  {
   "cell_type": "code",
   "execution_count": 2,
   "metadata": {},
   "outputs": [],
   "source": [
    "def morse_dictionary() -> dict:\n",
    "    \n",
    "    MORSE_CODE_DICTIONARY = {'A':'.-', 'B':'-...', 'C':'-.-.',\n",
    "                           'D':'-..', 'E':'.', 'F':'..-.', \n",
    "                           'G':'--.', 'H':'....', 'I':'..', \n",
    "                           'J':'.---', 'K':'-.-', 'L':'.-..', \n",
    "                           'M':'--', 'N':'-.', 'Ñ':'--.--',\n",
    "                           'O':'---', 'P':'.--.', 'Q':'--.-',\n",
    "                           'R':'.-.', 'S':'...', 'T':'-',\n",
    "                           'U':'..-', 'V':'...-', 'W':'.--',\n",
    "                           'X':'-..-', 'Y':'-.--', 'Z':'--..',\n",
    "                           '1':'.----', '2':'..---', '3':'...--',\n",
    "                           '4':'....-', '5':'.....', '6':'-....',\n",
    "                           '7':'--...', '8':'---..', '9':'----.',\n",
    "                           '0':'-----', ', ':'--..--', '.':'.-.-.-',\n",
    "                           '?':'..--..', ';':'−·−·−·','\"':'·−··−·',\n",
    "                           '/':'-..-.', '-':'-....-','+':'·−·−·','*':'_.._',\n",
    "                           '=':'−···−','(':'-.--.', ')':'-.--.-', ' ': '/'}\n",
    "    \n",
    "    return MORSE_CODE_DICTIONARY"
   ]
  },
  {
   "cell_type": "markdown",
   "metadata": {},
   "source": [
    "# <center> Función que obtiene el contenido de una key</center> "
   ]
  },
  {
   "cell_type": "code",
   "execution_count": 3,
   "metadata": {},
   "outputs": [],
   "source": [
    "def get_value_from_key(key: str) -> str:\n",
    "    \n",
    "    MORSE_CODE_DICTIONARY = morse_dictionary()\n",
    "    \n",
    "    return  MORSE_CODE_DICTIONARY[key.upper()] if(key.upper() in MORSE_CODE_DICTIONARY) else key + \" -> Value  doesn't found\"    "
   ]
  },
  {
   "cell_type": "markdown",
   "metadata": {},
   "source": [
    "# <center> Función que obtiene una key usando el valor de la key</center> "
   ]
  },
  {
   "cell_type": "code",
   "execution_count": 4,
   "metadata": {},
   "outputs": [],
   "source": [
    "def get_key_from_value(value: str) -> str:\n",
    "    \n",
    "    MORSE_CODE_DICTIONARY = morse_dictionary()\n",
    "    \n",
    "    key_list = list(MORSE_CODE_DICTIONARY.keys())\n",
    "    val_list = list(MORSE_CODE_DICTIONARY.values())\n",
    "    \n",
    "    if(value in val_list):\n",
    "        # obtengo el indice del valor en la lista para obtener la key \n",
    "        return key_list[val_list.index(value)]\n",
    "    else:\n",
    "        return \"key doesn't found\"  "
   ]
  },
  {
   "cell_type": "markdown",
   "metadata": {},
   "source": [
    "# <center> Función que obtiene el texto sin acentos</center> "
   ]
  },
  {
   "cell_type": "code",
   "execution_count": 5,
   "metadata": {},
   "outputs": [],
   "source": [
    "def mormalizing_text(text: str) -> str:\n",
    "    acentos = ['Á','É','Í','Ó','Ú']\n",
    "    normales = ['A','E','I','O','U']\n",
    "    \n",
    "    for index, character in enumerate(acentos):\n",
    "        \n",
    "        text = text.upper().replace(character, normales[index])\n",
    "        \n",
    "    return text"
   ]
  },
  {
   "cell_type": "markdown",
   "metadata": {},
   "source": [
    "# <center> Función que convierte texto normal en Código Morse</center> "
   ]
  },
  {
   "cell_type": "code",
   "execution_count": 6,
   "metadata": {},
   "outputs": [],
   "source": [
    "def encode_text_to_morse_code(text: str) -> str:\n",
    "\n",
    "    text = mormalizing_text(text)\n",
    "    morse_text = ''\n",
    "    for i in list(text):\n",
    "\n",
    "        morse_text += get_value_from_key(i) + ' '\n",
    "\n",
    "    # elimina el ultimo caracter en blanco del texto\n",
    "    return morse_text[:-1]"
   ]
  },
  {
   "cell_type": "markdown",
   "metadata": {},
   "source": [
    "# <center> Función que convierte Código Morse en texto normal</center> "
   ]
  },
  {
   "cell_type": "code",
   "execution_count": 7,
   "metadata": {},
   "outputs": [],
   "source": [
    "def decode_morse_code_to_text(text: str) -> str:\n",
    "\n",
    "    normal_text = ''\n",
    "    for i in text.split(' '):\n",
    "\n",
    "        normal_text += get_key_from_value(i)\n",
    "\n",
    "    # elimina el ultimo caracter en blanco del texto\n",
    "    return normal_text"
   ]
  },
  {
   "cell_type": "markdown",
   "metadata": {},
   "source": [
    "# <center> Función que Códifica Morse o Decódifica Morse</center> "
   ]
  },
  {
   "cell_type": "code",
   "execution_count": 8,
   "metadata": {},
   "outputs": [],
   "source": [
    "def proccess_text(text: str, encrypt: bool) -> str:\n",
    "        \n",
    "    if(encrypt):\n",
    "        return encode_text_to_morse_code(text)\n",
    "    else:\n",
    "        return decode_morse_code_to_text(text)"
   ]
  },
  {
   "cell_type": "markdown",
   "metadata": {},
   "source": [
    "# <center> Códificando Texto a Morse</center> "
   ]
  },
  {
   "cell_type": "code",
   "execution_count": 9,
   "metadata": {},
   "outputs": [
    {
     "data": {
      "text/plain": [
       "'. .-.. / -- --- -. --- / _.._ ...-- / -.-- / -.. .. ...- .. -.. .. -.. --- / -..-. ...-- / . ... - .- / . -. / . .-.. / -... .- -. .- -. .- .-.. / -.-. --- -. / . .-.. / --.-- .- -. -.. ..- / - ..- .-. ..- .-. ..-'"
      ]
     },
     "execution_count": 9,
     "metadata": {},
     "output_type": "execute_result"
    }
   ],
   "source": [
    "texto_en_morse = proccess_text('Él monó *3 y dividido /3 esta en el bananal con el ñandu tururu', True)\n",
    "texto_en_morse"
   ]
  },
  {
   "cell_type": "markdown",
   "metadata": {},
   "source": [
    "# <center> Decódificando Morse a Texto</center> "
   ]
  },
  {
   "cell_type": "code",
   "execution_count": 10,
   "metadata": {},
   "outputs": [
    {
     "data": {
      "text/plain": [
       "'EL MONO *3 Y DIVIDIDO /3 ESTA EN EL BANANAL CON EL ÑANDU TURURU'"
      ]
     },
     "execution_count": 10,
     "metadata": {},
     "output_type": "execute_result"
    }
   ],
   "source": [
    "proccess_text(texto_en_morse, False)"
   ]
  }
 ],
 "metadata": {
  "kernelspec": {
   "display_name": "Python 3 (ipykernel)",
   "language": "python",
   "name": "python3"
  },
  "language_info": {
   "codemirror_mode": {
    "name": "ipython",
    "version": 3
   },
   "file_extension": ".py",
   "mimetype": "text/x-python",
   "name": "python",
   "nbconvert_exporter": "python",
   "pygments_lexer": "ipython3",
   "version": "3.10.9"
  }
 },
 "nbformat": 4,
 "nbformat_minor": 4
}
