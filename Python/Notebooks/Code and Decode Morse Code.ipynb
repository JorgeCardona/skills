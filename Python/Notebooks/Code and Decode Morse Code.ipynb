{
 "cells": [
  {
   "cell_type": "code",
   "execution_count": 120,
   "metadata": {},
   "outputs": [],
   "source": [
    "# Dictionary representing the morse code chart\n",
    "def morse_dictionary() -> dict:\n",
    "    \n",
    "    MORSE_CODE_DICTIONARY = {'A':'.-', 'B':'-...', 'C':'-.-.',\n",
    "                       'D':'-..', 'E':'.', 'F':'..-.', \n",
    "                       'G':'--.', 'H':'....', 'I':'..', \n",
    "                       'J':'.---', 'K':'-.-', 'L':'.-..', \n",
    "                       'M':'--', 'N':'-.', 'Ñ':'--.--',\n",
    "                       'O':'---', 'P':'.--.', 'Q':'--.-',\n",
    "                       'R':'.-.', 'S':'...', 'T':'-',\n",
    "                       'U':'..-', 'V':'...-', 'W':'.--',\n",
    "                       'X':'-..-', 'Y':'-.--', 'Z':'--..',\n",
    "                       '1':'.----', '2':'..---', '3':'...--',\n",
    "                       '4':'....-', '5':'.....', '6':'-....',\n",
    "                       '7':'--...', '8':'---..', '9':'----.',\n",
    "                       '0':'-----', ', ':'--..--', '.':'.-.-.-',\n",
    "                       '?':'..--..', ';':'−·−·−·','\"':'·−··−·',\n",
    "                       '/':'-..-.', '-':'-....-','+':'·−·−·','*':'_.._',\n",
    "                       '=':'−···−','(':'-.--.', ')':'-.--.-', ' ': '/'}\n",
    "    \n",
    "    return MORSE_CODE_DICTIONARY"
   ]
  },
  {
   "cell_type": "code",
   "execution_count": 121,
   "metadata": {},
   "outputs": [],
   "source": [
    "def get_value_from_key(key: str) -> str:\n",
    "    \n",
    "    MORSE_CODE_DICTIONARY = morse_dictionary()\n",
    "    \n",
    "    return  MORSE_CODE_DICTIONARY[key.upper()] if(key.upper() in MORSE_CODE_DICTIONARY) else key + \" -> Value  doesn't found\"\n",
    "    \n",
    "\n",
    "def get_key_from_value(value: str) -> str:\n",
    "    \n",
    "    MORSE_CODE_DICTIONARY = morse_dictionary()\n",
    "    \n",
    "    key_list = list(MORSE_CODE_DICTIONARY.keys())\n",
    "    val_list = list(MORSE_CODE_DICTIONARY.values())\n",
    "    \n",
    "    if(value in val_list):\n",
    "        # obtengo el indice del valor en la lista para obtener la key \n",
    "        return key_list[val_list.index(value)]\n",
    "    else:\n",
    "        return \"key doesn't found\"  \n",
    "    "
   ]
  },
  {
   "cell_type": "code",
   "execution_count": 128,
   "metadata": {},
   "outputs": [],
   "source": [
    "def encode_text_to_morse_code(text: str) -> str:\n",
    "\n",
    "    morse_text = ''\n",
    "    for i in list(text):\n",
    "\n",
    "        morse_text += get_value_from_key(i) + ' '\n",
    "\n",
    "    # elimina el ultimo caracter en blanco del texto\n",
    "    return morse_text[:-1]\n",
    "\n",
    "def decode_morse_code_to_text(text: str) -> str:\n",
    "\n",
    "    normal_text = ''\n",
    "    for i in text.split(' '):\n",
    "\n",
    "        normal_text += get_key_from_value(i)\n",
    "\n",
    "    # elimina el ultimo caracter en blanco del texto\n",
    "    return normal_text\n",
    "\n",
    "def proccess_text(text: str, encrypt: bool) -> str:\n",
    "        \n",
    "    if(encrypt):\n",
    "        return encode_text_to_morse_code(text)\n",
    "    else:\n",
    "        return decode_morse_code_to_text(text)"
   ]
  },
  {
   "cell_type": "code",
   "execution_count": 129,
   "metadata": {},
   "outputs": [
    {
     "data": {
      "text/plain": [
       "'. .-.. / -- --- -. --- / . ... - .- / . -. / . .-.. / -... .- -. .- -. .- .-.. / -.-. --- -. / . .-.. / --.-- .- -. -.. ..- / - ..- .-. ..- .-. ..-'"
      ]
     },
     "execution_count": 129,
     "metadata": {},
     "output_type": "execute_result"
    }
   ],
   "source": [
    "a = proccess_text('el mono esta en el bananal con el ñandu tururu', True)\n",
    "a"
   ]
  },
  {
   "cell_type": "code",
   "execution_count": 132,
   "metadata": {},
   "outputs": [
    {
     "data": {
      "text/plain": [
       "'EL MONO ESTA EN EL BANANAL CON EL ÑANDU TURURU'"
      ]
     },
     "execution_count": 132,
     "metadata": {},
     "output_type": "execute_result"
    }
   ],
   "source": [
    "proccess_text(a, False)"
   ]
  },
  {
   "cell_type": "code",
   "execution_count": null,
   "metadata": {},
   "outputs": [],
   "source": []
  }
 ],
 "metadata": {
  "kernelspec": {
   "display_name": "Python 3",
   "language": "python",
   "name": "python3"
  },
  "language_info": {
   "codemirror_mode": {
    "name": "ipython",
    "version": 3
   },
   "file_extension": ".py",
   "mimetype": "text/x-python",
   "name": "python",
   "nbconvert_exporter": "python",
   "pygments_lexer": "ipython3",
   "version": "3.8.5"
  }
 },
 "nbformat": 4,
 "nbformat_minor": 4
}
