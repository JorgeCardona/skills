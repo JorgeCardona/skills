{
 "cells": [
  {
   "cell_type": "markdown",
   "metadata": {},
   "source": [
    "# <center> Configuración Global del NOTEBOOK</center> "
   ]
  },
  {
   "cell_type": "code",
   "execution_count": 1,
   "metadata": {},
   "outputs": [
    {
     "name": "stderr",
     "output_type": "stream",
     "text": [
      "C:\\Users\\QiDimMak\\AppData\\Local\\Temp\\ipykernel_17400\\3777615979.py:1: DeprecationWarning: Importing display from IPython.core.display is deprecated since IPython 7.14, please import from IPython display\n",
      "  from IPython.core.display import display, HTML\n"
     ]
    },
    {
     "data": {
      "text/html": [
       "<style>.container { width:100% !important; }</style>"
      ],
      "text/plain": [
       "<IPython.core.display.HTML object>"
      ]
     },
     "metadata": {},
     "output_type": "display_data"
    }
   ],
   "source": [
    "from IPython.core.display import display, HTML\n",
    "display(HTML(\"<style>.container { width:100% !important; }</style>\"))"
   ]
  },
  {
   "cell_type": "markdown",
   "metadata": {},
   "source": [
    "# <center> Función que retorna un dictionario con los carácteres de código morse </center> "
   ]
  },
  {
   "cell_type": "code",
   "execution_count": 2,
   "metadata": {},
   "outputs": [],
   "source": [
    "# https://morsedecoder.com/es/\n",
    "def morse_dictionary() -> dict:\n",
    "    \n",
    "    MORSE_CODE_DICTIONARY = {\n",
    "                               'A':'.-', 'B':'-...', 'C':'-.-.',\n",
    "                               'D':'-..', 'E':'.', 'F':'..-.', \n",
    "                               'G':'--.', 'H':'....', 'I':'..', \n",
    "                               'J':'.---', 'K':'-.-', 'L':'.-..', \n",
    "                               'M':'--', 'N':'-.', 'Ñ':'--.--',\n",
    "                               'O':'---', 'P':'.--.', 'Q':'--.-',\n",
    "                               'R':'.-.', 'S':'...', 'T':'-',\n",
    "                               'U':'..-', 'V':'...-', 'W':'.--',\n",
    "                               'X':'-..-', 'Y':'-.--', 'Z':'--..',\n",
    "                               '1':'.----', '2':'..---', '3':'...--',\n",
    "                               '4':'....-', '5':'.....', '6':'-....',\n",
    "                               '7':'--...', '8':'---..', '9':'----.',\n",
    "                               '0':'-----', ',':'--..--', '.':'.-.-.-',\n",
    "                               '?':'..--..', ';':'−·−·−·','\"':'·−··−·',\"'\":\".----.\",\n",
    "                               '¿':'..-.-', '&':'.-...','¡':'--...-','!':'-.-.--',\n",
    "                               '/':'-..-.', '-':'-....-','+':'·−·−·','*':'_.._',\n",
    "                               '=':'−···−','(':'-.--.', ')':'-.--.-', ' ': '/'\n",
    "                            }\n",
    "    \n",
    "    return MORSE_CODE_DICTIONARY"
   ]
  },
  {
   "cell_type": "markdown",
   "metadata": {},
   "source": [
    "# <center> Función que obtiene el contenido de una key</center> "
   ]
  },
  {
   "cell_type": "code",
   "execution_count": 3,
   "metadata": {},
   "outputs": [],
   "source": [
    "def get_value_from_key(key: str) -> str:\n",
    "    \n",
    "    MORSE_CODE_DICTIONARY = morse_dictionary()\n",
    "    \n",
    "    if key.upper() not in MORSE_CODE_DICTIONARY:\n",
    "        try:\n",
    "            raise ValueError('something went wrong')\n",
    "        except ValueError as e:\n",
    "            print(e, \" -> Value not found in dictionary\") # 👉️ \"something went wrong\"\n",
    "            \n",
    "    return  MORSE_CODE_DICTIONARY[key.upper()]"
   ]
  },
  {
   "cell_type": "markdown",
   "metadata": {},
   "source": [
    "# <center> Función que obtiene una key usando el valor de la key</center> "
   ]
  },
  {
   "cell_type": "code",
   "execution_count": 4,
   "metadata": {},
   "outputs": [],
   "source": [
    "def get_key_from_value(value: str) -> str:\n",
    "    \n",
    "    MORSE_CODE_DICTIONARY = morse_dictionary()\n",
    "    \n",
    "    key_list = list(MORSE_CODE_DICTIONARY.keys())\n",
    "    val_list = list(MORSE_CODE_DICTIONARY.values())\n",
    "    \n",
    "    if(value in val_list):\n",
    "        # obtengo el indice del valor en la lista para obtener la key \n",
    "        return key_list[val_list.index(value)]\n",
    "    else:\n",
    "        raise(\"key doesn't found\")  "
   ]
  },
  {
   "cell_type": "markdown",
   "metadata": {},
   "source": [
    "# <center> Función que obtiene el texto sin acentos</center> "
   ]
  },
  {
   "cell_type": "code",
   "execution_count": 5,
   "metadata": {},
   "outputs": [],
   "source": [
    "def get_normalized_text(text: str) -> str:\n",
    "    acentos = ['Á','É','Í','Ó','Ú']\n",
    "    normales = ['A','E','I','O','U']\n",
    "    \n",
    "    for index, character in enumerate(acentos):\n",
    "        \n",
    "        text = text.upper().replace(character, normales[index])\n",
    "        \n",
    "    return text"
   ]
  },
  {
   "cell_type": "markdown",
   "metadata": {},
   "source": [
    "# <center> Función que convierte texto normal en Código Morse</center> "
   ]
  },
  {
   "cell_type": "code",
   "execution_count": 6,
   "metadata": {},
   "outputs": [],
   "source": [
    "def encode_text_to_morse_code(text: str) -> str:\n",
    "\n",
    "    text = get_normalized_text(text)\n",
    "    morse_text = ''\n",
    "    for i in list(text):\n",
    "\n",
    "        morse_text += get_value_from_key(i) + ' '\n",
    "\n",
    "    # elimina el ultimo caracter en blanco del texto\n",
    "    return morse_text[:-1]"
   ]
  },
  {
   "cell_type": "markdown",
   "metadata": {},
   "source": [
    "# <center> Función que convierte Código Morse en texto normal</center> "
   ]
  },
  {
   "cell_type": "code",
   "execution_count": 7,
   "metadata": {},
   "outputs": [],
   "source": [
    "def decode_morse_code_to_text(text: str) -> str:\n",
    "\n",
    "    normal_text = ''\n",
    "    for i in text.split(' '):\n",
    "\n",
    "        normal_text += get_key_from_value(i)\n",
    "\n",
    "    # elimina el ultimo caracter en blanco del texto\n",
    "    return normal_text"
   ]
  },
  {
   "cell_type": "markdown",
   "metadata": {},
   "source": [
    "# <center> Función que Códifica Morse o Decódifica Morse</center> "
   ]
  },
  {
   "cell_type": "code",
   "execution_count": 8,
   "metadata": {},
   "outputs": [],
   "source": [
    "def proccess_text(text: str, encrypt: bool) -> str:\n",
    "        \n",
    "    if(encrypt):\n",
    "        return encode_text_to_morse_code(text)\n",
    "    else:\n",
    "        return decode_morse_code_to_text(text)"
   ]
  },
  {
   "cell_type": "markdown",
   "metadata": {},
   "source": [
    "# <center> Códificando Texto a Morse</center> "
   ]
  },
  {
   "cell_type": "markdown",
   "metadata": {},
   "source": [
    "# CON EXCEPCION"
   ]
  },
  {
   "cell_type": "code",
   "execution_count": 9,
   "metadata": {},
   "outputs": [
    {
     "name": "stdout",
     "output_type": "stream",
     "text": [
      "something went wrong  -> Value not found in dictionary\n"
     ]
    },
    {
     "ename": "KeyError",
     "evalue": "'#'",
     "output_type": "error",
     "traceback": [
      "\u001b[1;31m---------------------------------------------------------------------------\u001b[0m",
      "\u001b[1;31mKeyError\u001b[0m                                  Traceback (most recent call last)",
      "Cell \u001b[1;32mIn [9], line 1\u001b[0m\n\u001b[1;32m----> 1\u001b[0m texto_en_morse \u001b[38;5;241m=\u001b[39m \u001b[43mproccess_text\u001b[49m\u001b[43m(\u001b[49m\u001b[38;5;124;43m'\u001b[39;49m\u001b[38;5;124;43mÉl monó *3 y dividido /3 esta en el bananal con el ñandu tururu#\u001b[39;49m\u001b[38;5;124;43m'\u001b[39;49m\u001b[43m,\u001b[49m\u001b[43m \u001b[49m\u001b[38;5;28;43;01mTrue\u001b[39;49;00m\u001b[43m)\u001b[49m\n\u001b[0;32m      2\u001b[0m texto_en_morse\n",
      "Cell \u001b[1;32mIn [8], line 4\u001b[0m, in \u001b[0;36mproccess_text\u001b[1;34m(text, encrypt)\u001b[0m\n\u001b[0;32m      1\u001b[0m \u001b[38;5;28;01mdef\u001b[39;00m \u001b[38;5;21mproccess_text\u001b[39m(text: \u001b[38;5;28mstr\u001b[39m, encrypt: \u001b[38;5;28mbool\u001b[39m) \u001b[38;5;241m-\u001b[39m\u001b[38;5;241m>\u001b[39m \u001b[38;5;28mstr\u001b[39m:\n\u001b[0;32m      3\u001b[0m     \u001b[38;5;28;01mif\u001b[39;00m(encrypt):\n\u001b[1;32m----> 4\u001b[0m         \u001b[38;5;28;01mreturn\u001b[39;00m \u001b[43mencode_text_to_morse_code\u001b[49m\u001b[43m(\u001b[49m\u001b[43mtext\u001b[49m\u001b[43m)\u001b[49m\n\u001b[0;32m      5\u001b[0m     \u001b[38;5;28;01melse\u001b[39;00m:\n\u001b[0;32m      6\u001b[0m         \u001b[38;5;28;01mreturn\u001b[39;00m decode_morse_code_to_text(text)\n",
      "Cell \u001b[1;32mIn [6], line 7\u001b[0m, in \u001b[0;36mencode_text_to_morse_code\u001b[1;34m(text)\u001b[0m\n\u001b[0;32m      4\u001b[0m morse_text \u001b[38;5;241m=\u001b[39m \u001b[38;5;124m'\u001b[39m\u001b[38;5;124m'\u001b[39m\n\u001b[0;32m      5\u001b[0m \u001b[38;5;28;01mfor\u001b[39;00m i \u001b[38;5;129;01min\u001b[39;00m \u001b[38;5;28mlist\u001b[39m(text):\n\u001b[1;32m----> 7\u001b[0m     morse_text \u001b[38;5;241m+\u001b[39m\u001b[38;5;241m=\u001b[39m \u001b[43mget_value_from_key\u001b[49m\u001b[43m(\u001b[49m\u001b[43mi\u001b[49m\u001b[43m)\u001b[49m \u001b[38;5;241m+\u001b[39m \u001b[38;5;124m'\u001b[39m\u001b[38;5;124m \u001b[39m\u001b[38;5;124m'\u001b[39m\n\u001b[0;32m      9\u001b[0m \u001b[38;5;66;03m# elimina el ultimo caracter en blanco del texto\u001b[39;00m\n\u001b[0;32m     10\u001b[0m \u001b[38;5;28;01mreturn\u001b[39;00m morse_text[:\u001b[38;5;241m-\u001b[39m\u001b[38;5;241m1\u001b[39m]\n",
      "Cell \u001b[1;32mIn [3], line 11\u001b[0m, in \u001b[0;36mget_value_from_key\u001b[1;34m(key)\u001b[0m\n\u001b[0;32m      8\u001b[0m     \u001b[38;5;28;01mexcept\u001b[39;00m \u001b[38;5;167;01mValueError\u001b[39;00m \u001b[38;5;28;01mas\u001b[39;00m e:\n\u001b[0;32m      9\u001b[0m         \u001b[38;5;28mprint\u001b[39m(e, \u001b[38;5;124m\"\u001b[39m\u001b[38;5;124m -> Value not found in dictionary\u001b[39m\u001b[38;5;124m\"\u001b[39m) \u001b[38;5;66;03m# 👉️ \"something went wrong\"\u001b[39;00m\n\u001b[1;32m---> 11\u001b[0m \u001b[38;5;28;01mreturn\u001b[39;00m  \u001b[43mMORSE_CODE_DICTIONARY\u001b[49m\u001b[43m[\u001b[49m\u001b[43mkey\u001b[49m\u001b[38;5;241;43m.\u001b[39;49m\u001b[43mupper\u001b[49m\u001b[43m(\u001b[49m\u001b[43m)\u001b[49m\u001b[43m]\u001b[49m\n",
      "\u001b[1;31mKeyError\u001b[0m: '#'"
     ]
    }
   ],
   "source": [
    "texto_en_morse = proccess_text('Él monó *3 y dividido /3 esta en el bananal con el ñandu tururu#', True)\n",
    "texto_en_morse"
   ]
  },
  {
   "cell_type": "markdown",
   "metadata": {},
   "source": [
    "# SIN EXCEPCION"
   ]
  },
  {
   "cell_type": "code",
   "execution_count": 10,
   "metadata": {},
   "outputs": [
    {
     "data": {
      "text/plain": [
       "'. .-.. / -- --- -. --- / _.._ ...-- / -.-- / -.. .. ...- .. -.. .. -.. --- / -..-. ...-- / . ... - .- / . -. / . .-.. / -... .- -. .- -. .- .-.. / -.-. --- -. / . .-.. / --.-- .- -. -.. ..- / - ..- .-. ..- .-. ..-'"
      ]
     },
     "execution_count": 10,
     "metadata": {},
     "output_type": "execute_result"
    }
   ],
   "source": [
    "texto_en_morse = proccess_text('Él monó *3 y dividido /3 esta en el bananal con el ñandu tururu', True)\n",
    "texto_en_morse"
   ]
  },
  {
   "cell_type": "markdown",
   "metadata": {},
   "source": [
    "# <center> Decódificando Morse a Texto</center> "
   ]
  },
  {
   "cell_type": "code",
   "execution_count": 11,
   "metadata": {},
   "outputs": [
    {
     "data": {
      "text/plain": [
       "'EL MONO *3 Y DIVIDIDO /3 ESTA EN EL BANANAL CON EL ÑANDU TURURU'"
      ]
     },
     "execution_count": 11,
     "metadata": {},
     "output_type": "execute_result"
    }
   ],
   "source": [
    "proccess_text(texto_en_morse, False)"
   ]
  },
  {
   "cell_type": "code",
   "execution_count": 12,
   "metadata": {},
   "outputs": [
    {
     "data": {
      "text/plain": [
       "'!ESTAMOS EN EL ANO 2023, AL FINAL DEL ANO 2019 HUB UNA EPIDEMIA DE COVID-19, CASI TODO EL MUNDO ESTUVO ENCERRADO EN CASA EN EL ANO 2020, PERO AL FINAL LA ECONOMIA OBLIGO A QUE LA GENTE SALIERA Y LAS VACUNAS LLEGARON AHI MAS AAO MENOS A FIN DE 2020 Y COMIENZO DE 202'"
      ]
     },
     "execution_count": 12,
     "metadata": {},
     "output_type": "execute_result"
    }
   ],
   "source": [
    "texto_en_morse = proccess_text('!estamos en el ano 2023, al final del ano 2019 hub una epidemia de covid-19, casi todo el mundo estuvo encerrado en casa en el ano 2020, pero al final la economia obligo a que la gente saliera y las vacunas llegaron ahi mas aao menos a fin de 2020 y comienzo de 202', True)\n",
    "proccess_text(texto_en_morse, False)"
   ]
  }
 ],
 "metadata": {
  "kernelspec": {
   "display_name": "Python 3 (ipykernel)",
   "language": "python",
   "name": "python3"
  },
  "language_info": {
   "codemirror_mode": {
    "name": "ipython",
    "version": 3
   },
   "file_extension": ".py",
   "mimetype": "text/x-python",
   "name": "python",
   "nbconvert_exporter": "python",
   "pygments_lexer": "ipython3",
   "version": "3.10.9"
  }
 },
 "nbformat": 4,
 "nbformat_minor": 4
}
