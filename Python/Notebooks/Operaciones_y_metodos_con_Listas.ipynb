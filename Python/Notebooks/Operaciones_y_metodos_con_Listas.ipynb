{
 "cells": [
  {
   "cell_type": "code",
   "execution_count": 1,
   "metadata": {
    "tags": []
   },
   "outputs": [
    {
     "name": "stdout",
     "output_type": "stream",
     "text": [
      "Python 3.10.2\n"
     ]
    }
   ],
   "source": [
    "!python -V"
   ]
  },
  {
   "cell_type": "code",
   "execution_count": 2,
   "metadata": {
    "colab": {
     "base_uri": "https://localhost:8080/"
    },
    "id": "oijoHmflF2lh",
    "outputId": "3913dae5-5dc4-4172-b139-2da668e8cf42"
   },
   "outputs": [
    {
     "data": {
      "text/plain": [
       "['<', '=', '>', '=', '<', '>', 'B', 'C', '=', '>']"
      ]
     },
     "execution_count": 2,
     "metadata": {},
     "output_type": "execute_result"
    }
   ],
   "source": [
    "import random\n",
    "\n",
    "#Comprehension List\n",
    "s = [chr(random.randint(0,i)+60)for i in range(10)]\n",
    "s"
   ]
  },
  {
   "cell_type": "code",
   "execution_count": 3,
   "metadata": {
    "colab": {
     "base_uri": "https://localhost:8080/"
    },
    "id": "hDxqcS6AEJ1H",
    "outputId": "b2f81078-97a5-42ab-f51a-65ce5303b9b5"
   },
   "outputs": [
    {
     "data": {
      "text/plain": [
       "['uno', 'dos', 'tres', 'dos', 'tres', 'dos', 'uno', 'uno', 'uno', 'dos']"
      ]
     },
     "execution_count": 3,
     "metadata": {},
     "output_type": "execute_result"
    }
   ],
   "source": [
    "# Listas Base\n",
    "x = [0, 1, 0, 2, 0, 4, 2, 2, 5, 2]\n",
    "y = [7]\n",
    "listado = ['uno','cero','dos','tres']\n",
    "\n",
    "s = [random.choice(listado) for i in range(10)]\n",
    "s = ['uno', 'dos', 'tres', 'dos', 'tres', 'dos', 'uno', 'uno', 'uno', 'dos']\n",
    "s"
   ]
  },
  {
   "cell_type": "code",
   "execution_count": 4,
   "metadata": {
    "colab": {
     "base_uri": "https://localhost:8080/"
    },
    "id": "6Mycn6ntEQos",
    "outputId": "624152e4-bee9-4bb7-f224-9b95b89526ca"
   },
   "outputs": [
    {
     "data": {
      "text/plain": [
       "10"
      ]
     },
     "execution_count": 4,
     "metadata": {},
     "output_type": "execute_result"
    }
   ],
   "source": [
    "#Tamaño \n",
    "# x = [0, 1, 0, 2, 0, 4, 2, 2, 5, 2]\n",
    "len(x)"
   ]
  },
  {
   "cell_type": "code",
   "execution_count": 5,
   "metadata": {
    "colab": {
     "base_uri": "https://localhost:8080/"
    },
    "id": "1wckkUyReHDU",
    "outputId": "2fe34c40-7258-42ef-f968-a44362a37148"
   },
   "outputs": [
    {
     "name": "stdout",
     "output_type": "stream",
     "text": [
      "False\n",
      "True\n",
      "False\n"
     ]
    }
   ],
   "source": [
    "# valida si todos los elementos de la lista son diferente de 0, '', False, None\n",
    "# x = [0, 1, 0, 2, 0, 4, 2, 2, 5, 2], s = ['uno', 'dos', 'tres', 'dos', 'tres', 'dos', 'uno', 'uno', 'uno', 'dos']\n",
    "print(all(x))\n",
    "print(all(s))\n",
    "print(all(s + [None]))"
   ]
  },
  {
   "cell_type": "code",
   "execution_count": 6,
   "metadata": {
    "colab": {
     "base_uri": "https://localhost:8080/"
    },
    "id": "Jg9t9nl4eHg1",
    "outputId": "b11a186a-7d4c-45d6-c05a-c816d18da14d"
   },
   "outputs": [
    {
     "name": "stdout",
     "output_type": "stream",
     "text": [
      "True\n",
      "True\n"
     ]
    }
   ],
   "source": [
    "# valida si alguno de los elementos de la lista son diferente de 0, '', False, None\n",
    "# x = [0, 1, 0, 2, 0, 4, 2, 2, 5, 2], s = ['uno', 'dos', 'tres', 'dos', 'tres', 'dos', 'uno', 'uno', 'uno', 'dos']\n",
    "\n",
    "print(any(x))\n",
    "print(any(y))"
   ]
  },
  {
   "cell_type": "code",
   "execution_count": 7,
   "metadata": {
    "colab": {
     "base_uri": "https://localhost:8080/"
    },
    "id": "Oxb1VIGIEVVE",
    "outputId": "9e258455-2d0b-44be-ee64-b7ed37d303d0"
   },
   "outputs": [
    {
     "data": {
      "text/plain": [
       "18"
      ]
     },
     "execution_count": 7,
     "metadata": {},
     "output_type": "execute_result"
    }
   ],
   "source": [
    "#Suma\n",
    "# x = [0, 1, 0, 2, 0, 4, 2, 2, 5, 2]\n",
    "sum(x)"
   ]
  },
  {
   "cell_type": "code",
   "execution_count": 8,
   "metadata": {
    "colab": {
     "base_uri": "https://localhost:8080/"
    },
    "id": "NOUuOpTOEVZD",
    "outputId": "6000fe79-ba3b-473e-e4c8-cc9d20ea6ec6"
   },
   "outputs": [
    {
     "name": "stdout",
     "output_type": "stream",
     "text": [
      "4\n",
      "2\n"
     ]
    }
   ],
   "source": [
    "# Contar Repeticiones de un valor\n",
    "# x = [0, 1, 0, 2, 0, 4, 2, 2, 5, 2], s = ['uno', 'dos', 'tres', 'dos', 'tres', 'dos', 'uno', 'uno', 'uno', 'dos']\n",
    "print(x.count(2))\n",
    "print(s.count('tres'))"
   ]
  },
  {
   "cell_type": "code",
   "execution_count": 9,
   "metadata": {
    "colab": {
     "base_uri": "https://localhost:8080/"
    },
    "id": "UPhC_W2XFf0T",
    "outputId": "5eb382f0-7427-40fc-f16e-6748e61d4cf1"
   },
   "outputs": [
    {
     "name": "stdout",
     "output_type": "stream",
     "text": [
      "[0, 0, 0, 1, 2, 2, 2, 2, 4, 5]\n",
      "['dos', 'dos', 'dos', 'dos', 'tres', 'tres', 'uno', 'uno', 'uno', 'uno']\n"
     ]
    }
   ],
   "source": [
    "#Ordenar de Menor a Mayor\n",
    "# x = [0, 1, 0, 2, 0, 4, 2, 2, 5, 2], s = ['uno', 'dos', 'tres', 'dos', 'tres', 'dos', 'uno', 'uno', 'uno', 'dos']\n",
    "x.sort()\n",
    "print(x)\n",
    "\n",
    "s.sort()\n",
    "print(s)"
   ]
  },
  {
   "cell_type": "code",
   "execution_count": 10,
   "metadata": {
    "colab": {
     "base_uri": "https://localhost:8080/"
    },
    "id": "lqPZlxGaFf3j",
    "outputId": "e4dc7b51-212c-420c-ea5f-7d2f681e3537"
   },
   "outputs": [
    {
     "name": "stdout",
     "output_type": "stream",
     "text": [
      "[5, 4, 2, 2, 2, 2, 1, 0, 0, 0]\n",
      "['uno', 'uno', 'uno', 'uno', 'tres', 'tres', 'dos', 'dos', 'dos', 'dos']\n"
     ]
    }
   ],
   "source": [
    "#Ordenar Mayor a Menor\n",
    "# x = [0, 1, 0, 2, 0, 4, 2, 2, 5, 2], s = ['uno', 'dos', 'tres', 'dos', 'tres', 'dos', 'uno', 'uno', 'uno', 'dos']\n",
    "x.sort(reverse=True)\n",
    "print(x)\n",
    "\n",
    "s.sort(reverse=True)\n",
    "print(s)"
   ]
  },
  {
   "cell_type": "code",
   "execution_count": 11,
   "metadata": {
    "colab": {
     "base_uri": "https://localhost:8080/"
    },
    "id": "9nx8SUwiErL9",
    "outputId": "a8650af7-5fe7-4a4d-98bb-1e720b229b60"
   },
   "outputs": [
    {
     "name": "stdout",
     "output_type": "stream",
     "text": [
      "[2, 5, 2, 2, 4, 0, 2, 0, 1, 0]\n",
      "['dos', 'uno', 'uno', 'uno', 'dos', 'tres', 'dos', 'tres', 'dos', 'uno']\n"
     ]
    }
   ],
   "source": [
    "# Invertir Orden De la Lista\n",
    "x = [0, 1, 0, 2, 0, 4, 2, 2, 5, 2]\n",
    "s = ['uno', 'dos', 'tres', 'dos', 'tres', 'dos', 'uno', 'uno', 'uno', 'dos']\n",
    "\n",
    "x.reverse()\n",
    "print(x)\n",
    "\n",
    "s.reverse()\n",
    "print(s)"
   ]
  },
  {
   "cell_type": "code",
   "execution_count": 12,
   "metadata": {
    "colab": {
     "base_uri": "https://localhost:8080/"
    },
    "id": "WC5EgdGLE2Sy",
    "outputId": "a850be01-28bb-458f-9340-0eb5749de845"
   },
   "outputs": [
    {
     "name": "stdout",
     "output_type": "stream",
     "text": [
      "[0, 1, 0, 2, 0, 4, 2, 2, 5, 2]\n",
      "['uno', 'dos', 'tres', 'dos', 'tres', 'dos', 'uno', 'uno', 'uno', 'dos']\n"
     ]
    }
   ],
   "source": [
    "# Invertir Orden De la Lista con Slicing\n",
    "# x = [0, 1, 0, 2, 0, 4, 2, 2, 5, 2], s = ['uno', 'dos', 'tres', 'dos', 'tres', 'dos', 'uno', 'uno', 'uno', 'dos']\n",
    "x = x[::-1]\n",
    "print(x)\n",
    "\n",
    "s = s[::-1]\n",
    "print(s)"
   ]
  },
  {
   "cell_type": "code",
   "execution_count": 13,
   "metadata": {
    "colab": {
     "base_uri": "https://localhost:8080/"
    },
    "id": "JjezrB0iErVh",
    "outputId": "8b0deb43-4a34-4137-cccb-2eae3400a243"
   },
   "outputs": [
    {
     "name": "stdout",
     "output_type": "stream",
     "text": [
      "5\n",
      "uno\n"
     ]
    }
   ],
   "source": [
    "#Mayor\n",
    "# x = [0, 1, 0, 2, 0, 4, 2, 2, 5, 2], s = ['uno', 'dos', 'tres', 'dos', 'tres', 'dos', 'uno', 'uno', 'uno', 'dos']\n",
    "print(max(x))\n",
    "print(max(s))"
   ]
  },
  {
   "cell_type": "code",
   "execution_count": 14,
   "metadata": {
    "colab": {
     "base_uri": "https://localhost:8080/"
    },
    "id": "bNR4BsMtECOl",
    "outputId": "ac642c09-05bf-45ea-e2d3-ade18997224b"
   },
   "outputs": [
    {
     "name": "stdout",
     "output_type": "stream",
     "text": [
      "0\n",
      "dos\n"
     ]
    }
   ],
   "source": [
    "#Menor\n",
    "# x = [0, 1, 0, 2, 0, 4, 2, 2, 5, 2], s = ['uno', 'dos', 'tres', 'dos', 'tres', 'dos', 'uno', 'uno', 'uno', 'dos']\n",
    "print(min(x))\n",
    "print(min(s))"
   ]
  },
  {
   "cell_type": "code",
   "execution_count": 15,
   "metadata": {
    "colab": {
     "base_uri": "https://localhost:8080/"
    },
    "id": "qfEWElJSFNgm",
    "outputId": "1f9ef607-7f2f-424b-b52d-5537e7848f5d"
   },
   "outputs": [
    {
     "name": "stdout",
     "output_type": "stream",
     "text": [
      "1\n",
      "tres\n"
     ]
    }
   ],
   "source": [
    "#Menos Repetido\n",
    "# x = [0, 1, 0, 2, 0, 4, 2, 2, 5, 2], s = ['uno', 'dos', 'tres', 'dos', 'tres', 'dos', 'uno', 'uno', 'uno', 'dos']\n",
    "\n",
    "print(min(x, key = x.count))\n",
    "print(min(s, key = s.count))"
   ]
  },
  {
   "cell_type": "code",
   "execution_count": 16,
   "metadata": {
    "colab": {
     "base_uri": "https://localhost:8080/"
    },
    "id": "U2L0qcgcFNol",
    "outputId": "d806c9e8-973d-41d5-d70c-74dbb598e207"
   },
   "outputs": [
    {
     "name": "stdout",
     "output_type": "stream",
     "text": [
      "2\n",
      "uno\n"
     ]
    }
   ],
   "source": [
    "#Mas Repetido\n",
    "# x = [0, 1, 0, 2, 0, 4, 2, 2, 5, 2], s = ['uno', 'dos', 'tres', 'dos', 'tres', 'dos', 'uno', 'uno', 'uno', 'dos']\n",
    "\n",
    "print(max(x, key = x.count))\n",
    "print(max(s, key = s.count))"
   ]
  },
  {
   "cell_type": "code",
   "execution_count": 17,
   "metadata": {
    "colab": {
     "base_uri": "https://localhost:8080/"
    },
    "id": "6cuKRSKXFf6o",
    "outputId": "e5ad20cc-9950-46c8-a0ab-d185539c856b"
   },
   "outputs": [
    {
     "data": {
      "text/plain": [
       "[0, 1, 2, 4, 5]"
      ]
     },
     "execution_count": 17,
     "metadata": {},
     "output_type": "execute_result"
    }
   ],
   "source": [
    "#Eliminar Duplicados\n",
    "# x = [0, 1, 0, 2, 0, 4, 2, 2, 5, 2]\n",
    "list(set(x))"
   ]
  },
  {
   "cell_type": "code",
   "execution_count": 18,
   "metadata": {
    "colab": {
     "base_uri": "https://localhost:8080/"
    },
    "id": "kaGKOoY2F2og",
    "outputId": "aa56c29f-44e7-4843-d85b-da382e434178"
   },
   "outputs": [
    {
     "data": {
      "text/plain": [
       "True"
      ]
     },
     "execution_count": 18,
     "metadata": {},
     "output_type": "execute_result"
    }
   ],
   "source": [
    "#Existe en la lista\n",
    "# x = [0, 1, 0, 2, 0, 4, 2, 2, 5, 2]\n",
    "0 in x"
   ]
  },
  {
   "cell_type": "code",
   "execution_count": 19,
   "metadata": {
    "tags": []
   },
   "outputs": [
    {
     "data": {
      "text/plain": [
       "True"
      ]
     },
     "execution_count": 19,
     "metadata": {},
     "output_type": "execute_result"
    }
   ],
   "source": [
    "#No Existe en la lista\n",
    "# x = [0, 1, 0, 2, 0, 4, 2, 2, 5, 2]\n",
    "7 not in x\n"
   ]
  },
  {
   "cell_type": "code",
   "execution_count": 20,
   "metadata": {
    "colab": {
     "base_uri": "https://localhost:8080/"
    },
    "id": "Lhxk5AvEF2rN",
    "outputId": "35d788de-e841-4c7b-ccbf-66b969a982dc"
   },
   "outputs": [
    {
     "data": {
      "text/plain": [
       "False"
      ]
     },
     "execution_count": 20,
     "metadata": {},
     "output_type": "execute_result"
    }
   ],
   "source": [
    "#No Existe en la lista\n",
    "# x = [0, 1, 0, 2, 0, 4, 2, 2, 5, 2]\n",
    "5 not in x"
   ]
  },
  {
   "cell_type": "code",
   "execution_count": 21,
   "metadata": {
    "colab": {
     "base_uri": "https://localhost:8080/"
    },
    "id": "MLE6l4vFGZjA",
    "outputId": "9623b181-b209-4032-84b6-36fa433861f1"
   },
   "outputs": [
    {
     "data": {
      "text/plain": [
       "0"
      ]
     },
     "execution_count": 21,
     "metadata": {},
     "output_type": "execute_result"
    }
   ],
   "source": [
    "#Primer Elemento\n",
    "# x = [0, 1, 0, 2, 0, 4, 2, 2, 5, 2]\n",
    "x[0]"
   ]
  },
  {
   "cell_type": "code",
   "execution_count": 22,
   "metadata": {
    "colab": {
     "base_uri": "https://localhost:8080/"
    },
    "id": "HUQ6g1igGZlq",
    "outputId": "33c6601a-59ef-43fd-e0d5-4d34b6579317"
   },
   "outputs": [
    {
     "data": {
      "text/plain": [
       "2"
      ]
     },
     "execution_count": 22,
     "metadata": {},
     "output_type": "execute_result"
    }
   ],
   "source": [
    "#Ultimo Elemento\n",
    "# x = [0, 1, 0, 2, 0, 4, 2, 2, 5, 2]\n",
    "x[-1]"
   ]
  },
  {
   "cell_type": "code",
   "execution_count": 23,
   "metadata": {
    "colab": {
     "base_uri": "https://localhost:8080/"
    },
    "id": "fCF9YoVBGZui",
    "outputId": "3b64eaae-0c42-4e96-e54e-f4d098584545"
   },
   "outputs": [
    {
     "data": {
      "text/plain": [
       "8"
      ]
     },
     "execution_count": 23,
     "metadata": {},
     "output_type": "execute_result"
    }
   ],
   "source": [
    "#Buscar el Indice de un elemento\n",
    "# x = [0, 1, 0, 2, 0, 4, 2, 2, 5, 2]\n",
    "x.index(5)"
   ]
  },
  {
   "cell_type": "code",
   "execution_count": 24,
   "metadata": {
    "colab": {
     "base_uri": "https://localhost:8080/"
    },
    "id": "CIY5zXc0GyBV",
    "outputId": "5e359b41-12e5-4539-8210-16e9648dd930"
   },
   "outputs": [
    {
     "data": {
      "text/plain": [
       "[0, 1, 0, 2, 0, 4, 2, 2, 5, 2, 7]"
      ]
     },
     "execution_count": 24,
     "metadata": {},
     "output_type": "execute_result"
    }
   ],
   "source": [
    "#Unir Listas\n",
    "# x = [0, 1, 0, 2, 0, 4, 2, 2, 5, 2] y = [7]\n",
    "x + y"
   ]
  },
  {
   "cell_type": "code",
   "execution_count": 25,
   "metadata": {
    "colab": {
     "base_uri": "https://localhost:8080/"
    },
    "id": "t4MwtU-rFNrx",
    "outputId": "c8025b4c-63b8-464f-a9de-209bd7b35639"
   },
   "outputs": [
    {
     "data": {
      "text/plain": [
       "[0, 1, 0, 2, 0, 4, 2, 2, 5, 2, 1, 3, 5, 7]"
      ]
     },
     "execution_count": 25,
     "metadata": {},
     "output_type": "execute_result"
    }
   ],
   "source": [
    "#adicionar un nueva lista a las lista\n",
    "# x = [0, 1, 0, 2, 0, 4, 2, 2, 5, 2, 7]\n",
    "x.extend([1,3,5,7])\n",
    "x"
   ]
  },
  {
   "cell_type": "code",
   "execution_count": 26,
   "metadata": {
    "colab": {
     "base_uri": "https://localhost:8080/"
    },
    "id": "cipsWbKIGyEc",
    "outputId": "f8543804-e0a2-430f-965c-c821753a90e9"
   },
   "outputs": [
    {
     "data": {
      "text/plain": [
       "[1, 0, 2, 0, 4, 2, 2, 5, 2, 1, 3, 5, 7]"
      ]
     },
     "execution_count": 26,
     "metadata": {},
     "output_type": "execute_result"
    }
   ],
   "source": [
    "#Eliminar un elemento de la Lista\n",
    "# x = [0, 1, 0, 2, 0, 4, 2, 2, 5, 2, 1, 3, 5, 7]\n",
    "x.remove(0)\n",
    "x"
   ]
  },
  {
   "cell_type": "code",
   "execution_count": 27,
   "metadata": {
    "colab": {
     "base_uri": "https://localhost:8080/"
    },
    "id": "ezSruhTKH9fU",
    "outputId": "277985af-7d6a-40e0-f2d3-74906954337f"
   },
   "outputs": [
    {
     "data": {
      "text/plain": [
       "[1, 0, 0, 4, 5, 1, 3, 5, 7]"
      ]
     },
     "execution_count": 27,
     "metadata": {},
     "output_type": "execute_result"
    }
   ],
   "source": [
    "#Eliminar Todos los elementos de la Lista\n",
    "# x = [1, 0, 2, 0, 4, 2, 2, 5, 2, 1, 3, 5, 7]\n",
    "while 2 in x: x.remove(2)\n",
    "x"
   ]
  },
  {
   "cell_type": "code",
   "execution_count": 28,
   "metadata": {
    "colab": {
     "base_uri": "https://localhost:8080/"
    },
    "id": "WZZOvbU2H9iQ",
    "outputId": "08a555e0-1b58-4a86-bfcc-a12261a47527"
   },
   "outputs": [
    {
     "data": {
      "text/plain": [
       "[1, 0, 0, 4, 5, 1, 3, 5, 7, 7]"
      ]
     },
     "execution_count": 28,
     "metadata": {},
     "output_type": "execute_result"
    }
   ],
   "source": [
    "#adicionar un nuevo elemento a la lista\n",
    "# x = [1, 0, 0, 4, 5, 1, 3, 5, 7]\n",
    "x.append(7)\n",
    "x"
   ]
  },
  {
   "cell_type": "code",
   "execution_count": 29,
   "metadata": {
    "colab": {
     "base_uri": "https://localhost:8080/"
    },
    "id": "VE2Ts0t2H9k3",
    "outputId": "d3c986b4-4e2a-4256-8e10-4b0f5ed4ff94"
   },
   "outputs": [
    {
     "data": {
      "text/plain": [
       "[1, 0, 0, 9, 4, 5, 1, 3, 5, 7, 7]"
      ]
     },
     "execution_count": 29,
     "metadata": {},
     "output_type": "execute_result"
    }
   ],
   "source": [
    "#insertar un nuevo elemento a la lista en al posicion 3\n",
    "# x = [1, 0, 0, 4, 5, 1, 3, 5, 7, 7]\n",
    "x.insert(3,9)\n",
    "x"
   ]
  },
  {
   "cell_type": "code",
   "execution_count": 30,
   "metadata": {
    "colab": {
     "base_uri": "https://localhost:8080/"
    },
    "id": "ILnRJDNpKIjC",
    "outputId": "b9b739ee-3541-4a6b-8686-7235f1258795"
   },
   "outputs": [
    {
     "data": {
      "text/plain": [
       "(7, [1, 0, 0, 9, 4, 5, 1, 3, 5, 7])"
      ]
     },
     "execution_count": 30,
     "metadata": {},
     "output_type": "execute_result"
    }
   ],
   "source": [
    "#retornar el ultimo elemento de la lista y retornarlo\n",
    "# x = [1, 0, 0, 9, 4, 5, 1, 3, 5, 7, 7]\n",
    "z = x.pop()\n",
    "z, x"
   ]
  },
  {
   "cell_type": "code",
   "execution_count": 31,
   "metadata": {
    "colab": {
     "base_uri": "https://localhost:8080/"
    },
    "id": "hjvmUbb8LSG1",
    "outputId": "b8ad78b6-0ea5-4335-e675-e63d0d56575c"
   },
   "outputs": [
    {
     "data": {
      "text/plain": [
       "(0, [1, 0, 9, 4, 5, 1, 3, 5, 7])"
      ]
     },
     "execution_count": 31,
     "metadata": {},
     "output_type": "execute_result"
    }
   ],
   "source": [
    "#retornar el n elemento de la lista y retornarlo\n",
    "# x = [1, 0, 0, 9, 4, 5, 1, 3, 5, 7]\n",
    "z = x.pop(2)\n",
    "z, x"
   ]
  },
  {
   "cell_type": "code",
   "execution_count": 32,
   "metadata": {
    "colab": {
     "base_uri": "https://localhost:8080/"
    },
    "id": "avFSikQuMIqy",
    "outputId": "c60d4b2e-67db-4c6f-de2c-1fd077d67771"
   },
   "outputs": [
    {
     "data": {
      "text/plain": [
       "[1, 0, 9, 4, 5, 1, 3, 5, 7]"
      ]
     },
     "execution_count": 32,
     "metadata": {},
     "output_type": "execute_result"
    }
   ],
   "source": [
    "#hacer una copia de la lista deep copy\n",
    "# x = [1, 0, 9, 4, 5, 1, 3, 5, 7]\n",
    "z = x.copy()\n",
    "z"
   ]
  },
  {
   "cell_type": "code",
   "execution_count": 33,
   "metadata": {
    "colab": {
     "base_uri": "https://localhost:8080/"
    },
    "id": "q-NnhON9O3b6",
    "outputId": "eed6da88-ef3f-472b-fa43-93814b1d56b4"
   },
   "outputs": [
    {
     "data": {
      "text/plain": [
       "[1, 0, 9, 4, 5, 1, 3, 5, 7, 13]"
      ]
     },
     "execution_count": 33,
     "metadata": {},
     "output_type": "execute_result"
    }
   ],
   "source": [
    "#hacer una copia de la lista shallow copy\n",
    "# x = [1, 0, 9, 4, 5, 1, 3, 5, 7]\n",
    "u = z\n",
    "u.append(13)\n",
    "u"
   ]
  },
  {
   "cell_type": "code",
   "execution_count": 34,
   "metadata": {
    "colab": {
     "base_uri": "https://localhost:8080/"
    },
    "id": "xWKIlsZqNhNC",
    "outputId": "92a5b0c9-7091-4fa9-8f67-d352413abf23"
   },
   "outputs": [
    {
     "data": {
      "text/plain": [
       "[1, 0, 9, 4, 5, 1, 3, 5, 7]"
      ]
     },
     "execution_count": 34,
     "metadata": {},
     "output_type": "execute_result"
    }
   ],
   "source": [
    "#hacer una copia de la lista usando slicing\n",
    "# x = [1, 0, 9, 4, 5, 1, 3, 5, 7]\n",
    "w = x[:]\n",
    "w"
   ]
  },
  {
   "cell_type": "code",
   "execution_count": 35,
   "metadata": {
    "colab": {
     "base_uri": "https://localhost:8080/"
    },
    "id": "Hk5Fu4OwM4sY",
    "outputId": "0cf95132-ada8-45de-8adb-d16ff39ebf03"
   },
   "outputs": [
    {
     "data": {
      "text/plain": [
       "[]"
      ]
     },
     "execution_count": 35,
     "metadata": {},
     "output_type": "execute_result"
    }
   ],
   "source": [
    "# eliminar todos los elementos de la lista\n",
    "x.clear()\n",
    "x"
   ]
  },
  {
   "cell_type": "code",
   "execution_count": 36,
   "metadata": {
    "colab": {
     "base_uri": "https://localhost:8080/"
    },
    "id": "yDcnBD7xR97u",
    "outputId": "c3261372-be29-4f79-f454-f568cdda52dd"
   },
   "outputs": [
    {
     "data": {
      "text/plain": [
       "([],\n",
       " [1, 0, 9, 4, 5, 1, 3, 5, 7],\n",
       " [1, 0, 9, 4, 5, 1, 3, 5, 7, 13],\n",
       " [1, 0, 9, 4, 5, 1, 3, 5, 7, 13])"
      ]
     },
     "execution_count": 36,
     "metadata": {},
     "output_type": "execute_result"
    }
   ],
   "source": [
    "x,w,z,u"
   ]
  },
  {
   "cell_type": "code",
   "execution_count": 37,
   "metadata": {
    "id": "7QNi9cvaRp4Y"
   },
   "outputs": [],
   "source": [
    "z += ['Shallow Copy','Deep Copy']"
   ]
  },
  {
   "cell_type": "code",
   "execution_count": 38,
   "metadata": {
    "colab": {
     "base_uri": "https://localhost:8080/"
    },
    "id": "IK42WarNROYH",
    "outputId": "47f55edd-eb23-4732-b42c-51a8568bc86c"
   },
   "outputs": [
    {
     "data": {
      "text/plain": [
       "([],\n",
       " [1, 0, 9, 4, 5, 1, 3, 5, 7],\n",
       " [1, 0, 9, 4, 5, 1, 3, 5, 7, 13, 'Shallow Copy', 'Deep Copy'],\n",
       " [1, 0, 9, 4, 5, 1, 3, 5, 7, 13, 'Shallow Copy', 'Deep Copy'])"
      ]
     },
     "execution_count": 38,
     "metadata": {},
     "output_type": "execute_result"
    }
   ],
   "source": [
    "x,w,z,u"
   ]
  },
  {
   "cell_type": "code",
   "execution_count": 39,
   "metadata": {
    "colab": {
     "base_uri": "https://localhost:8080/"
    },
    "id": "IxPBV_mIRCdY",
    "outputId": "ee831468-b2ce-4948-fca2-c3ae42185d9e"
   },
   "outputs": [
    {
     "data": {
      "text/plain": [
       "[]"
      ]
     },
     "execution_count": 39,
     "metadata": {},
     "output_type": "execute_result"
    }
   ],
   "source": [
    "# eliminar todos los elementos de la lista\n",
    "z.clear()\n",
    "z"
   ]
  },
  {
   "cell_type": "code",
   "execution_count": 40,
   "metadata": {
    "colab": {
     "base_uri": "https://localhost:8080/"
    },
    "id": "da9aKb-8dyRu",
    "outputId": "ad1a2899-5ccb-4a29-efe9-c0e3620850d9"
   },
   "outputs": [
    {
     "data": {
      "text/plain": [
       "([], [1, 0, 9, 4, 5, 1, 3, 5, 7], [], [])"
      ]
     },
     "execution_count": 40,
     "metadata": {},
     "output_type": "execute_result"
    }
   ],
   "source": [
    "x,w,z,u"
   ]
  },
  {
   "cell_type": "code",
   "execution_count": 41,
   "metadata": {
    "colab": {
     "base_uri": "https://localhost:8080/"
    },
    "id": "QZJ9p6oNPALe",
    "outputId": "2f2a883c-752a-40c4-bf91-ad2cf180c5b5"
   },
   "outputs": [
    {
     "data": {
      "text/plain": [
       "(2291729429056, 2291729196096, 2291729477056, 2291729477056)"
      ]
     },
     "execution_count": 41,
     "metadata": {},
     "output_type": "execute_result"
    }
   ],
   "source": [
    "id(x), id(w), id(z), id(u)"
   ]
  },
  {
   "cell_type": "code",
   "execution_count": 42,
   "metadata": {
    "id": "4vgRSocKQb8n"
   },
   "outputs": [],
   "source": [
    "z = ['Shallow Copy','Deep Copy']"
   ]
  },
  {
   "cell_type": "code",
   "execution_count": 43,
   "metadata": {
    "colab": {
     "base_uri": "https://localhost:8080/"
    },
    "id": "UIglt6aMQ3Rr",
    "outputId": "27faead7-407b-4b32-ada3-0e15adbbb534"
   },
   "outputs": [
    {
     "data": {
      "text/plain": [
       "(2291729429056, 2291729196096, 2291729318528, 2291729477056)"
      ]
     },
     "execution_count": 43,
     "metadata": {},
     "output_type": "execute_result"
    }
   ],
   "source": [
    "id(x), id(w), id(z), id(u)"
   ]
  },
  {
   "cell_type": "code",
   "execution_count": 44,
   "metadata": {
    "colab": {
     "base_uri": "https://localhost:8080/"
    },
    "id": "xg7Y3hiPP6tr",
    "outputId": "ac16f5e1-3b0d-4781-f63f-366915292a49"
   },
   "outputs": [
    {
     "data": {
      "text/plain": [
       "([], [1, 0, 9, 4, 5, 1, 3, 5, 7], ['Shallow Copy', 'Deep Copy'], [])"
      ]
     },
     "execution_count": 44,
     "metadata": {},
     "output_type": "execute_result"
    }
   ],
   "source": [
    "x,w,z,u"
   ]
  },
  {
   "cell_type": "code",
   "execution_count": 45,
   "metadata": {
    "colab": {
     "base_uri": "https://localhost:8080/"
    },
    "id": "Gp5Sum40hsWK",
    "outputId": "fb475682-92e7-444a-ae6b-637461f71653"
   },
   "outputs": [
    {
     "data": {
      "text/plain": [
       "Counter({'v': 1,\n",
       "         'a': 2,\n",
       "         'l': 5,\n",
       "         'i': 2,\n",
       "         'd': 3,\n",
       "         'n': 2,\n",
       "         'o': 5,\n",
       "         ' ': 3,\n",
       "         'e': 2,\n",
       "         'm': 1,\n",
       "         'u': 1,\n",
       "         'c': 2,\n",
       "         't': 1,\n",
       "         's': 1})"
      ]
     },
     "execution_count": 45,
     "metadata": {},
     "output_type": "execute_result"
    }
   ],
   "source": [
    "from collections import Counter\n",
    "\n",
    "Counter('validando el modulo collections')"
   ]
  },
  {
   "cell_type": "code",
   "execution_count": 46,
   "metadata": {
    "colab": {
     "base_uri": "https://localhost:8080/"
    },
    "id": "AnO4M6j-h61f",
    "outputId": "f0fc1cc7-0887-430e-eee8-c5887fbf5f4c"
   },
   "outputs": [
    {
     "data": {
      "text/plain": [
       "[('l', 5),\n",
       " ('o', 5),\n",
       " ('d', 3),\n",
       " (' ', 3),\n",
       " ('a', 2),\n",
       " ('i', 2),\n",
       " ('n', 2),\n",
       " ('e', 2),\n",
       " ('c', 2),\n",
       " ('v', 1),\n",
       " ('m', 1),\n",
       " ('u', 1),\n",
       " ('t', 1),\n",
       " ('s', 1)]"
      ]
     },
     "execution_count": 46,
     "metadata": {},
     "output_type": "execute_result"
    }
   ],
   "source": [
    "Counter('validando el modulo collections').most_common()"
   ]
  },
  {
   "cell_type": "code",
   "execution_count": 47,
   "metadata": {
    "colab": {
     "base_uri": "https://localhost:8080/"
    },
    "id": "hPoIR7CmiCst",
    "outputId": "e3a65aba-7a17-4c20-92ad-5617eb29ed0f"
   },
   "outputs": [
    {
     "data": {
      "text/plain": [
       "[('l', 5), ('o', 5), ('d', 3)]"
      ]
     },
     "execution_count": 47,
     "metadata": {},
     "output_type": "execute_result"
    }
   ],
   "source": [
    "Counter('validando el modulo collections').most_common(3)"
   ]
  },
  {
   "cell_type": "code",
   "execution_count": 48,
   "metadata": {
    "colab": {
     "base_uri": "https://localhost:8080/"
    },
    "id": "6IdXQq5PjASp",
    "outputId": "00b3d243-0e43-4aba-a7b2-6db22f8b4348"
   },
   "outputs": [
    {
     "data": {
      "text/plain": [
       "Counter({'v': 1,\n",
       "         'a': 2,\n",
       "         'l': 5,\n",
       "         'i': 2,\n",
       "         'd': 1,\n",
       "         'n': 2,\n",
       "         'o': 5,\n",
       "         ' ': 3,\n",
       "         'e': 2,\n",
       "         'm': 1,\n",
       "         'u': 1,\n",
       "         'c': 2,\n",
       "         't': 1,\n",
       "         's': 1})"
      ]
     },
     "execution_count": 48,
     "metadata": {},
     "output_type": "execute_result"
    }
   ],
   "source": [
    "s = Counter('validando el modulo collections')\n",
    "s.subtract({'d':2})\n",
    "s"
   ]
  },
  {
   "cell_type": "code",
   "execution_count": 49,
   "metadata": {
    "colab": {
     "base_uri": "https://localhost:8080/"
    },
    "id": "C2q1xgDqkc1N",
    "outputId": "23a62ff7-b82d-4c34-982e-c61935b25039"
   },
   "outputs": [
    {
     "data": {
      "text/plain": [
       "Counter({'v': 1,\n",
       "         'a': 2,\n",
       "         'l': 5,\n",
       "         'i': 2,\n",
       "         'd': 3,\n",
       "         'n': 2,\n",
       "         'o': 5,\n",
       "         ' ': 3,\n",
       "         'e': 2,\n",
       "         'm': 1,\n",
       "         'u': 1,\n",
       "         'c': 2,\n",
       "         't': 1,\n",
       "         's': 1,\n",
       "         'z': 23})"
      ]
     },
     "execution_count": 49,
     "metadata": {},
     "output_type": "execute_result"
    }
   ],
   "source": [
    "s = Counter('validando el modulo collections')\n",
    "s.update({'z':23})\n",
    "s"
   ]
  },
  {
   "cell_type": "markdown",
   "metadata": {},
   "source": [
    "# <center> LIST COMPREHENSION</center>\n",
    "## <center> LISTAS, CON CASTING A TUPLAS, CONJUNTOS, DICCIONARIOS, CADENAS, GENERADORES</center>"
   ]
  },
  {
   "cell_type": "code",
   "execution_count": 50,
   "metadata": {},
   "outputs": [
    {
     "name": "stdout",
     "output_type": "stream",
     "text": [
      "[0, 1, 2, 3, 4, 5, 6, 7, 8, 9]\n"
     ]
    },
    {
     "data": {
      "text/plain": [
       "[0, 1, 2, 3, 4, 5, 6, 7, 8, 9]"
      ]
     },
     "execution_count": 50,
     "metadata": {},
     "output_type": "execute_result"
    }
   ],
   "source": [
    "valor = []\n",
    "for i in range(10):\n",
    "    valor.append(i)\n",
    "\n",
    "print(valor)\n",
    "[i for i in range(10)]"
   ]
  },
  {
   "cell_type": "code",
   "execution_count": 51,
   "metadata": {},
   "outputs": [
    {
     "name": "stdout",
     "output_type": "stream",
     "text": [
      "[0, 2, 4, 6, 8]\n"
     ]
    },
    {
     "data": {
      "text/plain": [
       "[0, 2, 4, 6, 8]"
      ]
     },
     "execution_count": 51,
     "metadata": {},
     "output_type": "execute_result"
    }
   ],
   "source": [
    "valor = []\n",
    "for i in range(10):\n",
    "    if i%2 == 0:\n",
    "        valor.append(i)\n",
    "\n",
    "print(valor)\n",
    "[i for i in range(10) if i%2 == 0]"
   ]
  },
  {
   "cell_type": "code",
   "execution_count": 52,
   "metadata": {},
   "outputs": [
    {
     "name": "stdout",
     "output_type": "stream",
     "text": [
      "[0, 1, 2, 9, 4, 25, 6, 49, 8, 81]\n"
     ]
    },
    {
     "data": {
      "text/plain": [
       "[0, 1, 2, 9, 4, 25, 6, 49, 8, 81]"
      ]
     },
     "execution_count": 52,
     "metadata": {},
     "output_type": "execute_result"
    }
   ],
   "source": [
    "valor = []\n",
    "for i in range(10):\n",
    "    if i%2 == 0:\n",
    "        valor.append(i)\n",
    "    else:\n",
    "        valor.append(i**2)\n",
    "        \n",
    "print(valor)\n",
    "[i if i%2 == 0 else i**2 for i in range(10)]"
   ]
  },
  {
   "cell_type": "code",
   "execution_count": 53,
   "metadata": {},
   "outputs": [
    {
     "name": "stdout",
     "output_type": "stream",
     "text": [
      "(6, 8)\n"
     ]
    },
    {
     "data": {
      "text/plain": [
       "(6, 8)"
      ]
     },
     "execution_count": 53,
     "metadata": {},
     "output_type": "execute_result"
    }
   ],
   "source": [
    "valor = []\n",
    "for i in range(10):\n",
    "    if i%2 == 0 and i > 5:\n",
    "        valor.append(i)\n",
    "\n",
    "print(tuple(valor))\n",
    "tuple(i for i in range(10) if i%2 == 0 if i > 5)"
   ]
  },
  {
   "cell_type": "code",
   "execution_count": 54,
   "metadata": {},
   "outputs": [
    {
     "name": "stdout",
     "output_type": "stream",
     "text": [
      "{False, 1, '', None}\n",
      "{0, True, 3, 6, 9, 10, 20, -1}\n",
      "{0, True, 3, 6, 9, 10, 20, -1}\n"
     ]
    },
    {
     "data": {
      "text/plain": [
       "{-1, 0, True, 3, 6, 9, 10, 20}"
      ]
     },
     "execution_count": 54,
     "metadata": {},
     "output_type": "execute_result"
    }
   ],
   "source": [
    "valor = []\n",
    "for i in range(11):\n",
    "    if i%3 == 0:\n",
    "        valor.append(i)\n",
    "    elif i%4 == 0:\n",
    "        valor.append(i%4 == 0)\n",
    "    elif i%5 == 0:\n",
    "        valor.append(i*2)\n",
    "    else:\n",
    "        valor.append(-1)\n",
    "\n",
    "print(set([1,True,False,0,None,'']))\n",
    "print(set(valor))\n",
    "print(set(i if i%3 ==0 else i%4 == 0 if i%4 == 0 else i*2 if i%5==0 else -1 for i in range(11)))\n",
    "\n",
    "{i if i%3 ==0 else i%4 == 0 if i%4 == 0 else i*2 if i%5==0 else -1 for i in range(11)}"
   ]
  },
  {
   "cell_type": "code",
   "execution_count": 55,
   "metadata": {},
   "outputs": [
    {
     "name": "stdout",
     "output_type": "stream",
     "text": [
      "[0, 2, 4, 6, 8]\n"
     ]
    },
    {
     "data": {
      "text/plain": [
       "<generator object <genexpr> at 0x0000021595B6A880>"
      ]
     },
     "execution_count": 55,
     "metadata": {},
     "output_type": "execute_result"
    }
   ],
   "source": [
    "valor = []\n",
    "for i in range(10):\n",
    "    if i%2 == 0:\n",
    "        valor.append(i)\n",
    "\n",
    "print(valor)\n",
    "(i for i in range(10) if i%2 == 0)"
   ]
  },
  {
   "cell_type": "code",
   "execution_count": 56,
   "metadata": {},
   "outputs": [
    {
     "name": "stdout",
     "output_type": "stream",
     "text": [
      "@ABCDEFGHIJKLMNOPQRSTUVWXYZ\n"
     ]
    },
    {
     "data": {
      "text/plain": [
       "'@ABCDEFGHIJKLMNOPQRSTUVWXYZ'"
      ]
     },
     "execution_count": 56,
     "metadata": {},
     "output_type": "execute_result"
    }
   ],
   "source": [
    "valor = ''\n",
    "for i in range(27):\n",
    "    valor += chr(i+64)\n",
    "\n",
    "print(valor)\n",
    "''.join([chr(i+64) for i in range(27)])"
   ]
  },
  {
   "cell_type": "markdown",
   "metadata": {},
   "source": [
    ">## <center> ORDENAR DICCIONARIO POR KEY ASCENDENTE x[0]</center>"
   ]
  },
  {
   "cell_type": "code",
   "execution_count": 57,
   "metadata": {
    "tags": []
   },
   "outputs": [
    {
     "name": "stdout",
     "output_type": "stream",
     "text": [
      "{102: 4, 104: 4, 108: 3, 110: 5, 117: 8, 127: 3, 131: 8, 132: 2, 133: 9, 136: 9, 139: 1, 144: 4, 145: 6, 150: 4, 154: 2, 159: 10, 160: 4, 164: 10, 175: 1, 181: 2, 182: 9, 184: 7, 187: 5, 192: 5, 193: 5, 195: 3, 196: 6}\n"
     ]
    }
   ],
   "source": [
    "numeros = {random.randint(100,200):random.randint(1,10) for i in range(30)}\n",
    "numeros_ordenados = dict(sorted(numeros.items(), key=lambda x: x[0], reverse=False)) # ordena las keys de menor a mayor\n",
    "print(numeros_ordenados)"
   ]
  },
  {
   "cell_type": "markdown",
   "metadata": {},
   "source": [
    "## <center> ORDENAR DICCIONARIO POR KEY DESCENDENTE x[0]</center>"
   ]
  },
  {
   "cell_type": "code",
   "execution_count": 58,
   "metadata": {},
   "outputs": [
    {
     "name": "stdout",
     "output_type": "stream",
     "text": [
      "{199: 7, 196: 2, 195: 3, 194: 3, 193: 2, 186: 7, 184: 9, 183: 1, 182: 6, 178: 10, 177: 6, 175: 1, 171: 4, 160: 2, 156: 10, 151: 3, 140: 9, 137: 3, 136: 7, 132: 4, 127: 3, 125: 10, 123: 10, 113: 9, 112: 3, 104: 2, 103: 4}\n"
     ]
    }
   ],
   "source": [
    "numeros = {random.randint(100,200):random.randint(1,10) for i in range(30)}\n",
    "numeros_ordenados = dict(sorted(numeros.items(), key=lambda x: x[0], reverse=True)) # ordena las keys de mayor a menor \n",
    "print(numeros_ordenados)"
   ]
  },
  {
   "cell_type": "markdown",
   "metadata": {},
   "source": [
    "## <center> ORDENAR DICCIONARIO POR VALUE ASCENDENTE x[1] Y KEY POR VALOR ASCENDENTE x[0]</center>"
   ]
  },
  {
   "cell_type": "code",
   "execution_count": 59,
   "metadata": {
    "tags": []
   },
   "outputs": [
    {
     "name": "stdout",
     "output_type": "stream",
     "text": [
      "{125: 1, 113: 2, 119: 2, 130: 2, 152: 2, 173: 2, 188: 3, 190: 3, 154: 4, 165: 4, 118: 5, 135: 5, 164: 5, 104: 6, 112: 6, 174: 7, 101: 8, 103: 8, 172: 8, 108: 9, 140: 9, 187: 9, 111: 10, 122: 10, 181: 10}\n"
     ]
    }
   ],
   "source": [
    "numeros = {random.randint(100,200):random.randint(1,10) for i in range(30)}\n",
    "numeros_ordenados = dict(sorted(numeros.items(), key=lambda x: x[0], reverse=False)) # ordena las keys de menor a mayor\n",
    "numeros_ordenados = dict(sorted(numeros_ordenados.items(), key=lambda x: x[1], reverse=False)) # ordena los values de menor a mayor\n",
    "print(numeros_ordenados)"
   ]
  },
  {
   "cell_type": "markdown",
   "metadata": {},
   "source": [
    "## <center> ORDENAR DICCIONARIO POR VALUE DESCENDENTE x[1] Y KEY POR VALOR ASCENDENTE x[0]</center>"
   ]
  },
  {
   "cell_type": "code",
   "execution_count": 60,
   "metadata": {},
   "outputs": [
    {
     "name": "stdout",
     "output_type": "stream",
     "text": [
      "{104: 10, 132: 10, 133: 10, 155: 10, 164: 9, 165: 9, 121: 8, 142: 8, 176: 8, 178: 8, 108: 7, 116: 7, 166: 7, 135: 6, 192: 5, 183: 4, 102: 2, 129: 2, 143: 2, 191: 2, 106: 1, 123: 1, 159: 1, 184: 1, 189: 1, 199: 1}\n"
     ]
    }
   ],
   "source": [
    "numeros = {random.randint(100,200):random.randint(1,10) for i in range(30)}\n",
    "numeros_ordenados = dict(sorted(numeros.items(), key=lambda x: x[0], reverse=False)) # ordena las keys menor a mayor \n",
    "numeros_ordenados = dict(sorted(numeros_ordenados.items(), key=lambda x: x[1], reverse=True)) # ordena los values de mayor a menor\n",
    "print(numeros_ordenados)"
   ]
  },
  {
   "cell_type": "markdown",
   "metadata": {},
   "source": [
    "## <center> MAXIMAS Y MINIMAS REPETICIONES DE UN NUMERO EN LA LISTA</center>"
   ]
  },
  {
   "cell_type": "code",
   "execution_count": 61,
   "metadata": {},
   "outputs": [
    {
     "name": "stdout",
     "output_type": "stream",
     "text": [
      "[104, 132, 133, 155]\n",
      "[106, 123, 159, 184, 189, 199]\n"
     ]
    }
   ],
   "source": [
    "maximo = [key for key, value in numeros.items() if value == max(numeros.values())]\n",
    "maximo.sort()\n",
    "print(maximo)\n",
    "\n",
    "minimo = [key for key, value in numeros.items() if value == min(numeros.values())]\n",
    "minimo.sort()\n",
    "print(minimo)"
   ]
  },
  {
   "cell_type": "markdown",
   "metadata": {},
   "source": [
    "## <center> MAXIMAS Y MINIMAS REPETICIONES DE UNA CADENA EN LA LISTA</center>"
   ]
  },
  {
   "cell_type": "code",
   "execution_count": 62,
   "metadata": {},
   "outputs": [
    {
     "name": "stdout",
     "output_type": "stream",
     "text": [
      "{1: 'DD', 2: 'AD', 3: 'D@', 5: 'AD', 6: 'CA', 7: 'C@', 8: 'CD', 9: 'AA', 13: 'BC', 14: 'DC', 17: 'DB', 18: 'D@', 19: '@D', 20: 'DB', 24: 'AA', 25: 'AD', 27: 'BB', 28: 'BD', 29: '@D', 30: 'CC', 31: '@A', 32: '@C', 33: 'CB', 34: 'C@', 36: 'CA', 40: 'DB', 41: 'B@', 42: 'CD', 48: 'BA', 50: 'DC'}\n"
     ]
    }
   ],
   "source": [
    "semilla = [chr(i+64) for i in range(5)]\n",
    "letras = {random.randint(1,50):random.choice(semilla) + random.choice(semilla) for i in range(50)}\n",
    "letras_ordenadas = dict(sorted(letras.items(), key=lambda x: x[0], reverse=False))\n",
    "print(letras_ordenadas)"
   ]
  },
  {
   "cell_type": "code",
   "execution_count": 63,
   "metadata": {},
   "outputs": [
    {
     "name": "stdout",
     "output_type": "stream",
     "text": [
      "[1]\n",
      "[31]\n"
     ]
    }
   ],
   "source": [
    "maximo = [key for key, value in letras_ordenadas.items() if value == max(letras_ordenadas.values())]\n",
    "maximo.sort()\n",
    "print(maximo)\n",
    "\n",
    "minimo = [key for key, value in letras_ordenadas.items() if value == min(letras_ordenadas.values())]\n",
    "minimo.sort()\n",
    "print(minimo)"
   ]
  },
  {
   "cell_type": "markdown",
   "metadata": {},
   "source": [
    "# <center> OPERADOR TERNARIO VS OPERADOR LOGICO</center>"
   ]
  },
  {
   "cell_type": "code",
   "execution_count": 64,
   "metadata": {},
   "outputs": [],
   "source": [
    "a,b = 2, 10"
   ]
  },
  {
   "cell_type": "code",
   "execution_count": 65,
   "metadata": {},
   "outputs": [
    {
     "data": {
      "text/plain": [
       "10"
      ]
     },
     "execution_count": 65,
     "metadata": {},
     "output_type": "execute_result"
    }
   ],
   "source": [
    "a if a>b else b"
   ]
  },
  {
   "cell_type": "code",
   "execution_count": 66,
   "metadata": {},
   "outputs": [
    {
     "data": {
      "text/plain": [
       "()"
      ]
     },
     "execution_count": 66,
     "metadata": {},
     "output_type": "execute_result"
    }
   ],
   "source": [
    "0 or False or None or '' or [] or {} or ()"
   ]
  },
  {
   "cell_type": "code",
   "execution_count": 67,
   "metadata": {},
   "outputs": [
    {
     "data": {
      "text/plain": [
       "False"
      ]
     },
     "execution_count": 67,
     "metadata": {},
     "output_type": "execute_result"
    }
   ],
   "source": [
    "a>b and a"
   ]
  },
  {
   "cell_type": "code",
   "execution_count": 68,
   "metadata": {},
   "outputs": [
    {
     "data": {
      "text/plain": [
       "10"
      ]
     },
     "execution_count": 68,
     "metadata": {},
     "output_type": "execute_result"
    }
   ],
   "source": [
    "a>b and a or b"
   ]
  },
  {
   "cell_type": "code",
   "execution_count": 69,
   "metadata": {},
   "outputs": [
    {
     "data": {
      "text/plain": [
       "2"
      ]
     },
     "execution_count": 69,
     "metadata": {},
     "output_type": "execute_result"
    }
   ],
   "source": [
    "a<b and a or b"
   ]
  },
  {
   "cell_type": "code",
   "execution_count": 70,
   "metadata": {},
   "outputs": [
    {
     "data": {
      "text/plain": [
       "''"
      ]
     },
     "execution_count": 70,
     "metadata": {},
     "output_type": "execute_result"
    }
   ],
   "source": [
    "a>b and b or 1 and True and b-b and b*2 or ''"
   ]
  },
  {
   "cell_type": "code",
   "execution_count": 71,
   "metadata": {},
   "outputs": [
    {
     "data": {
      "text/plain": [
       "20"
      ]
     },
     "execution_count": 71,
     "metadata": {},
     "output_type": "execute_result"
    }
   ],
   "source": [
    "a>b and b or 1 and True and a-b and b*2 or ''"
   ]
  }
 ],
 "metadata": {
  "colab": {
   "name": "Operaciones Listas.ipynb",
   "provenance": []
  },
  "kernelspec": {
   "display_name": "Python 3 (ipykernel)",
   "language": "python",
   "name": "python3"
  },
  "language_info": {
   "codemirror_mode": {
    "name": "ipython",
    "version": 3
   },
   "file_extension": ".py",
   "mimetype": "text/x-python",
   "name": "python",
   "nbconvert_exporter": "python",
   "pygments_lexer": "ipython3",
   "version": "3.10.2"
  }
 },
 "nbformat": 4,
 "nbformat_minor": 4
}
