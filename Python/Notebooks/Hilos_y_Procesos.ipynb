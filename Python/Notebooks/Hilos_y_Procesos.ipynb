{
 "cells": [
  {
   "cell_type": "code",
   "execution_count": 1,
   "id": "c7896697-5ea3-4ba4-8822-c92c00a2416b",
   "metadata": {
    "scrolled": true,
    "tags": []
   },
   "outputs": [
    {
     "name": "stdout",
     "output_type": "stream",
     "text": [
      "Python 3.10.4\n"
     ]
    }
   ],
   "source": [
    "!python -V"
   ]
  },
  {
   "cell_type": "code",
   "execution_count": 2,
   "id": "467d05aa-828d-47bb-bee4-f0c98ee1297a",
   "metadata": {},
   "outputs": [],
   "source": [
    "import os\n",
    "\n",
    "nucleos_totales = os.cpu_count()"
   ]
  },
  {
   "cell_type": "markdown",
   "id": "ba81f568-309d-4202-909c-95605cac1d08",
   "metadata": {},
   "source": [
    "# <center> TIPOS DE INSTANCIA</center>"
   ]
  },
  {
   "cell_type": "code",
   "execution_count": 3,
   "id": "30538f2b-ba30-42b6-a13a-b6d111e507d2",
   "metadata": {},
   "outputs": [],
   "source": [
    "# libreria para procesamiento en paralelo\n",
    "from threading import Thread\n",
    "\n",
    "# importa las librerias que permiten usar la computacion paralela\n",
    "from multiprocessing import Process\n",
    "\n",
    "# importa librerias para trabajar concurrencia\n",
    "from concurrent.futures import ProcessPoolExecutor\n",
    "from concurrent.futures import ThreadPoolExecutor\n",
    "\n",
    "\n",
    "tipo_instancia = {\n",
    "                'hilos':Thread,\n",
    "                'procesos':Process,\n",
    "                'multihilos':ThreadPoolExecutor,\n",
    "                'multiproceso':ProcessPoolExecutor\n",
    "}"
   ]
  },
  {
   "cell_type": "markdown",
   "id": "1445ddb3-74de-40df-bcdc-3d64b6927660",
   "metadata": {},
   "source": [
    "# <center> FUNCIONES PARA LOS HILOS Y PROCESOS</center>"
   ]
  },
  {
   "cell_type": "code",
   "execution_count": 4,
   "id": "4e33e1d3-9e7f-4ab5-a31b-00c08848e389",
   "metadata": {},
   "outputs": [
    {
     "data": {
      "text/plain": [
       "dict_values([1, 2])"
      ]
     },
     "execution_count": 4,
     "metadata": {},
     "output_type": "execute_result"
    }
   ],
   "source": [
    "e= {'a':1,'v':2}\n",
    "e.values()"
   ]
  },
  {
   "cell_type": "code",
   "execution_count": 5,
   "id": "df45751a-28b8-48d2-b788-c0e4125e5676",
   "metadata": {},
   "outputs": [],
   "source": [
    "def generar_instancia(tipo_tarea=None, funcion_a_procesar=None, **parametros):\n",
    "    \n",
    "    argumentos = tuple(parametros.values())\n",
    "    \n",
    "    tipo_ejecucion = tipo_instancia.get(tipo_tarea, Thread)\n",
    "    \n",
    "    return tipo_ejecucion(target=funcion_a_procesar,args=(argumentos))\n",
    "\n",
    "\n",
    "def iniciar_y_finalizar_instancia(instancia):\n",
    "    \n",
    "    # inicializa la ejecucion de la instruccion invocada en el hilo o proceso\n",
    "    instancia.start()\n",
    "    \n",
    "    # garantiza que se finaliza la funcion invocada, antes de que se continue con una nueva instruccion\n",
    "    instancia.join()\n",
    "    \n",
    "    print('tarea Finalizada') \n",
    "    \n",
    "    return instancia    "
   ]
  },
  {
   "cell_type": "markdown",
   "id": "78a68a47-ccd3-41a6-b354-fd7710a52136",
   "metadata": {},
   "source": [
    "# <center> HILOS</center>"
   ]
  },
  {
   "cell_type": "markdown",
   "id": "738e0427-1fa8-42f7-926b-e78f0c834ce0",
   "metadata": {},
   "source": [
    "# <center> COLA PARA ADICIONAR RESULTADOS HILOS</center>"
   ]
  },
  {
   "cell_type": "code",
   "execution_count": 6,
   "id": "628f407d-ec3b-460b-b985-126027773fdd",
   "metadata": {},
   "outputs": [],
   "source": [
    "from queue import Queue as cola_classica\n",
    "\n",
    "almacenar_resultados = cola_classica()\n",
    "\n",
    "def almacenar_en_cola(f):\n",
    "    def wrapper(*args):\n",
    "        almacenar_resultados.put(f(*args))\n",
    "    return wrapper\n",
    "\n",
    "@almacenar_en_cola\n",
    "def retornar_lista(numero=100):\n",
    "    return [i for i in range(numero)]\n",
    "\n",
    "def obtener_resultado_cola_tarea(cola):\n",
    "    \n",
    "    for indice_tarea in range(cola.qsize()):\n",
    "        print(cola.get(indice_tarea))"
   ]
  },
  {
   "cell_type": "code",
   "execution_count": 7,
   "id": "1421c118-a711-4180-9e6e-c6a0b10ecc72",
   "metadata": {
    "scrolled": true,
    "tags": []
   },
   "outputs": [
    {
     "name": "stdout",
     "output_type": "stream",
     "text": [
      "tarea Finalizada\n",
      "tarea Finalizada\n",
      "tarea Finalizada\n",
      "tarea Finalizada\n",
      "tarea Finalizada\n",
      "[0, 1, 2, 3, 4, 5, 6, 7, 8, 9, 10, 11, 12, 13, 14, 15, 16, 17, 18, 19]\n",
      "[0, 1, 2, 3, 4, 5, 6, 7, 8, 9, 10, 11, 12, 13, 14, 15, 16, 17, 18, 19]\n",
      "[0, 1, 2, 3, 4, 5, 6, 7, 8, 9, 10, 11, 12, 13, 14, 15, 16, 17, 18, 19]\n",
      "[0, 1, 2, 3, 4, 5, 6, 7, 8, 9, 10, 11, 12, 13, 14, 15, 16, 17, 18, 19]\n",
      "[0, 1, 2, 3, 4, 5, 6, 7, 8, 9, 10, 11, 12, 13, 14, 15, 16, 17, 18, 19]\n"
     ]
    }
   ],
   "source": [
    "listado = []\n",
    "for i in range(5):\n",
    "  \n",
    "    instancia = generar_instancia(tipo_tarea='hilos', funcion_a_procesar=retornar_lista, numero=20)\n",
    "    ejecutar_tarea = iniciar_y_finalizar_instancia(instancia)\n",
    "    type(ejecutar_tarea)\n",
    "    \n",
    "    listado.append(ejecutar_tarea)\n",
    "\n",
    "obtener_resultado_cola_tarea(almacenar_resultados)\n"
   ]
  },
  {
   "cell_type": "markdown",
   "id": "8abfe254-658e-4712-9064-fc9a238c665a",
   "metadata": {},
   "source": [
    "# <center> PROCESOS</center>"
   ]
  },
  {
   "cell_type": "markdown",
   "id": "c8d62280-14e1-4e71-ae2b-645d4530c139",
   "metadata": {},
   "source": [
    "# <center> COLA PARA ADICIONAR RESULTADOS PROCESOS</center>"
   ]
  },
  {
   "cell_type": "code",
   "execution_count": 8,
   "id": "ad780113-8c29-426e-89ed-8f0c80e0dede",
   "metadata": {},
   "outputs": [],
   "source": [
    "from multiprocessing import Queue as cola_multiproceso\n",
    "\n",
    "almacenar_resultados_multiproceso = cola_multiproceso()\n",
    "\n",
    "def almacenar_en_cola_multiproceso(f):\n",
    "    def wrapper(*args):\n",
    "        almacenar_resultados_multiproceso.put(f(*args))\n",
    "    return wrapper\n",
    "\n",
    "@almacenar_en_cola_multiproceso\n",
    "def retornar_lista_proceso(numero=20):\n",
    "    return [chr(i + 64)  for i in range(numero)]\n",
    "\n",
    "def obtener_resultado_cola_tarea_while(cola):\n",
    "    \n",
    "    while not cola.empty():\n",
    "        result = cola.get()\n",
    "        print (result)"
   ]
  },
  {
   "cell_type": "code",
   "execution_count": 9,
   "id": "708671ff-2c15-4b50-9fbd-ef165aa96001",
   "metadata": {},
   "outputs": [
    {
     "name": "stdout",
     "output_type": "stream",
     "text": [
      "tarea Finalizada\n",
      "tarea Finalizada\n",
      "tarea Finalizada\n",
      "tarea Finalizada\n",
      "tarea Finalizada\n",
      "['@', 'A', 'B', 'C', 'D', 'E', 'F', 'G', 'H', 'I']\n",
      "['@', 'A', 'B', 'C', 'D', 'E', 'F', 'G', 'H', 'I']\n",
      "['@', 'A', 'B', 'C', 'D', 'E', 'F', 'G', 'H', 'I']\n",
      "['@', 'A', 'B', 'C', 'D', 'E', 'F', 'G', 'H', 'I']\n",
      "['@', 'A', 'B', 'C', 'D', 'E', 'F', 'G', 'H', 'I']\n"
     ]
    }
   ],
   "source": [
    "listado = []\n",
    "for i in range(5):\n",
    "    instancia = generar_instancia(tipo_tarea='procesos', funcion_a_procesar=retornar_lista_proceso, numero=10)\n",
    "    ejecutar_tarea = iniciar_y_finalizar_instancia(instancia)\n",
    "    type(ejecutar_tarea)\n",
    "    \n",
    "    listado.append(ejecutar_tarea)\n",
    "\n",
    "obtener_resultado_cola_tarea_while(almacenar_resultados_multiproceso)"
   ]
  },
  {
   "cell_type": "markdown",
   "id": "d65b0999-b5f0-48f2-9830-53900b9a451c",
   "metadata": {},
   "source": [
    "# <center> MULTI HILOS</center>"
   ]
  },
  {
   "cell_type": "code",
   "execution_count": 10,
   "id": "ae044242-3050-4b47-96bf-f31ad730fd14",
   "metadata": {},
   "outputs": [],
   "source": [
    "import random        \n",
    "def generar_lista(numero = 22):\n",
    "    \n",
    "    return [random.randint(-100, i**2) for i in range(numero)]\n",
    "    \n",
    "def imprimir_multi_datos(lista):\n",
    "    \n",
    "    for valores in lista:\n",
    "        print(valores)"
   ]
  },
  {
   "cell_type": "code",
   "execution_count": 11,
   "id": "fff79e6a-b4dc-43a9-bbb0-04793b7f9843",
   "metadata": {},
   "outputs": [],
   "source": [
    "def generar_pool_iniciar_y_finalizar_multi_instancia(tipo_tarea=None, funcion_a_procesar=None, **parametros):\n",
    "    \n",
    "    argumentos = tuple(parametros.values())\n",
    "    \n",
    "    tipo_ejecucion = tipo_instancia.get(tipo_tarea, ThreadPoolExecutor)\n",
    "    \n",
    "    # asigna los workers basado en el total de CPUs de la maquina\n",
    "    pool = tipo_ejecucion(max_workers=nucleos_totales)\n",
    "    \n",
    "    response = pool.submit(funcion_a_procesar)\n",
    "    \n",
    "    # obtiene la respuesta de la tarea\n",
    "    return response.result()"
   ]
  },
  {
   "cell_type": "code",
   "execution_count": 12,
   "id": "14b92e9c-f450-42cd-a57d-6a9987a517b5",
   "metadata": {},
   "outputs": [
    {
     "name": "stdout",
     "output_type": "stream",
     "text": [
      "[-99, -74, -61, -47, -86, 4, 30, -66, -58, -3, 73, 35, 31, 59, 111, 221, 244, 115, 7, -79, 32, -5]\n",
      "[-28, -27, -2, -78, -46, -75, -68, -23, 48, 34, 67, 114, 128, -54, 194, 99, -32, -95, 88, 154, -25, 282]\n",
      "[-27, -1, -86, -17, -20, -55, -35, 49, -49, 46, 85, 36, 2, 21, 174, -11, 84, 99, -64, 77, 263, 95]\n",
      "[-38, -79, -69, -36, -84, -85, -77, -35, 64, -28, 46, -72, -78, -8, -88, -35, 168, 14, 221, 137, 360, 340]\n",
      "[-13, -80, -60, -14, -71, -77, -57, 31, -7, -80, 56, -99, -93, -59, 191, 95, -44, 139, -64, 136, 78, -36]\n"
     ]
    }
   ],
   "source": [
    "listado = []\n",
    "for i in range(5):\n",
    "    instancia = generar_pool_iniciar_y_finalizar_multi_instancia(tipo_tarea='multihilos', funcion_a_procesar=generar_lista)\n",
    "    type(instancia)\n",
    "    \n",
    "    listado.append(instancia)\n",
    "\n",
    "imprimir_multi_datos(listado)"
   ]
  },
  {
   "cell_type": "markdown",
   "id": "fe3fe517-c395-4027-98ee-63ce0291c9b7",
   "metadata": {},
   "source": [
    "# <center> MULTI PROCESOS</center>"
   ]
  },
  {
   "cell_type": "code",
   "execution_count": 13,
   "id": "4120fd0e-cbf1-493f-b890-bf58180555c1",
   "metadata": {},
   "outputs": [
    {
     "name": "stdout",
     "output_type": "stream",
     "text": [
      "[-76, -72, -65, -45, -3, -3, -59, -9, -28, 76, -40, -10, 55, 82, 75, -80, -68, 207, 305, -83, 293, 195]\n",
      "[-45, -68, -70, -17, -96, 5, -63, 44, 7, 28, 4, -24, 137, -47, 9, -90, 15, 81, 291, 353, -2, 79]\n",
      "[-85, -75, -65, 4, -22, -28, 21, -73, -76, -53, -5, 7, -86, -83, 36, 42, 18, 111, 184, -68, -90, 117]\n",
      "[-35, -7, -6, -83, -17, -39, -12, -34, -30, -36, -60, 72, 67, -59, 189, 95, -4, 58, 148, 193, -24, 164]\n",
      "[-11, -60, -56, -91, -46, -87, -14, 5, 9, 7, -69, 92, 36, 167, 168, 217, 136, 246, 214, 150, 19, 89]\n"
     ]
    }
   ],
   "source": [
    "listado = []\n",
    "for i in range(5):\n",
    "    instancia = generar_pool_iniciar_y_finalizar_multi_instancia(tipo_tarea='multiprocesos', funcion_a_procesar=generar_lista)\n",
    "    type(instancia)\n",
    "    \n",
    "    listado.append(instancia)\n",
    "\n",
    "imprimir_multi_datos(listado)"
   ]
  },
  {
   "cell_type": "code",
   "execution_count": null,
   "id": "807ecb91-f9fb-4a98-a995-c2dd65554167",
   "metadata": {},
   "outputs": [],
   "source": []
  }
 ],
 "metadata": {
  "kernelspec": {
   "display_name": "Python 3 (ipykernel)",
   "language": "python",
   "name": "python3"
  },
  "language_info": {
   "codemirror_mode": {
    "name": "ipython",
    "version": 3
   },
   "file_extension": ".py",
   "mimetype": "text/x-python",
   "name": "python",
   "nbconvert_exporter": "python",
   "pygments_lexer": "ipython3",
   "version": "3.10.4"
  }
 },
 "nbformat": 4,
 "nbformat_minor": 5
}
