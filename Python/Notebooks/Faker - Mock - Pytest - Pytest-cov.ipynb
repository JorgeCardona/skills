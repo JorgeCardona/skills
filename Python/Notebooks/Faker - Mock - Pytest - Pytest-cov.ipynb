{
 "cells": [
  {
   "cell_type": "markdown",
   "metadata": {},
   "source": [
    "# <center> FAKER </center>"
   ]
  },
  {
   "cell_type": "code",
   "execution_count": null,
   "metadata": {},
   "outputs": [],
   "source": [
    "#!pip install faker\n",
    "from faker import Faker\n",
    "#from faker.providers import internet\n",
    "\n",
    "import pandas as pd\n",
    "import random\n",
    "fake = Faker(\"es_MX\")\n",
    "#fake.add_provider(internet)\n",
    "\n",
    "\n",
    "def create_rows_faker(num=1):\n",
    "    output = [{\"profile\":fake.profile(),\n",
    "        \"name\":fake.name(),\n",
    "                   \"address\":fake.address(),\n",
    "                   \"name\":fake.name(),\n",
    "                   \"color\":fake.color_name(),\n",
    "                   \"email\":fake.email(),\n",
    "                   \"title\":fake.catch_phrase(),\n",
    "                   \"bs\":fake.bs(),\n",
    "                   \"city\":fake.city(),\n",
    "                   \"state\":fake.state(),\n",
    "                   \"date_time\":fake.date_time(),\n",
    "                   \"paragraph\":fake.paragraph(),\n",
    "                   \"text\":fake.text(),\n",
    "                   \"Conrad\":fake.catch_phrase(),\n",
    "                   \"ip address\":fake.ipv4_private(),               \n",
    "                   \"randomdata\":random.randint(1000,2000)} for x in range(num)]\n",
    "    return output"
   ]
  },
  {
   "cell_type": "code",
   "execution_count": null,
   "metadata": {
    "scrolled": true
   },
   "outputs": [],
   "source": [
    "%%time\n",
    "df_faker = pd.DataFrame(create_rows_faker(500))\n",
    "df_faker"
   ]
  },
  {
   "cell_type": "markdown",
   "metadata": {},
   "source": [
    "# <center> PYTEST </center>"
   ]
  },
  {
   "cell_type": "code",
   "execution_count": null,
   "metadata": {},
   "outputs": [],
   "source": [
    "#%pip install ipython_pytest\n",
    "\n",
    "%load_ext ipython_pytest\n",
    "\n",
    "import pytest"
   ]
  },
  {
   "cell_type": "code",
   "execution_count": null,
   "metadata": {},
   "outputs": [],
   "source": [
    "%%pytest --disable-pytest-warnings\n",
    "\n",
    "def test_my_stuff():\n",
    "    assert 42 == 42"
   ]
  },
  {
   "cell_type": "markdown",
   "metadata": {},
   "source": [
    "# <center> @pytest.feature </center>"
   ]
  },
  {
   "cell_type": "code",
   "execution_count": 23,
   "metadata": {},
   "outputs": [
    {
     "name": "stdout",
     "output_type": "stream",
     "text": [
      "============================= test session starts =============================\n",
      "platform win32 -- Python 3.8.5, pytest-6.2.5, py-1.9.0, pluggy-0.13.1 -- C:\\Users\\QiDimMak\\anaconda3\\python.exe\n",
      "cachedir: .pytest_cache\n",
      "rootdir: C:\\Users\\QiDimMak\\AppData\\Local\\Temp\\tmpzn1tx_wt\n",
      "plugins: anyio-3.3.3, Faker-9.8.0, typeguard-2.13.0\n",
      "collecting ... collected 1 item\n",
      "\n",
      "_ipytesttmp.py::test_string PASSED                                       [100%]\n",
      "\n",
      "============================== 1 passed in 0.11s ==============================\n"
     ]
    }
   ],
   "source": [
    "%%pytest --verbose\n",
    "\n",
    "import pytest\n",
    "\n",
    "    \n",
    "@pytest.fixture()\n",
    "def datos():\n",
    "    return \"datos\"\n",
    "\n",
    "def test_string(datos):\n",
    "    assert datos == \"datos\", \"fixture debe returnar la palabra datos\""
   ]
  },
  {
   "cell_type": "code",
   "execution_count": 24,
   "metadata": {},
   "outputs": [
    {
     "name": "stdout",
     "output_type": "stream",
     "text": [
      "============================= test session starts =============================\n",
      "platform win32 -- Python 3.8.5, pytest-6.2.5, py-1.9.0, pluggy-0.13.1 -- C:\\Users\\QiDimMak\\anaconda3\\python.exe\n",
      "cachedir: .pytest_cache\n",
      "rootdir: C:\\Users\\QiDimMak\\AppData\\Local\\Temp\\tmp8lmyroey\n",
      "plugins: anyio-3.3.3, Faker-9.8.0, typeguard-2.13.0\n",
      "collecting ... collected 8 items\n",
      "\n",
      "_ipytesttmp.py::test_cuadrado[dummy_cuadrado0] PASSED                    [ 12%]\n",
      "_ipytesttmp.py::test_cuadrado[dummy_cuadrado1] PASSED                    [ 25%]\n",
      "_ipytesttmp.py::test_cuadrado[dummy_cuadrado2] PASSED                    [ 37%]\n",
      "_ipytesttmp.py::test_cuadrado[dummy_cuadrado3] PASSED                    [ 50%]\n",
      "_ipytesttmp.py::test_cuadrado[dummy_cuadrado4] PASSED                    [ 62%]\n",
      "_ipytesttmp.py::test_cuadrado[dummy_cuadrado5] PASSED                    [ 75%]\n",
      "_ipytesttmp.py::test_cuadrado[dummy_cuadrado6] PASSED                    [ 87%]\n",
      "_ipytesttmp.py::test_cuadrado[dummy_cuadrado7] PASSED                    [100%]\n",
      "\n",
      "============================== 8 passed in 0.18s ==============================\n"
     ]
    }
   ],
   "source": [
    "%%pytest -v\n",
    "\n",
    "import pytest\n",
    "\n",
    "def cuadrado(x):\n",
    "    return x**2\n",
    "\n",
    "@pytest.fixture(params = [{\"entrada\": 1, \"resultadoEsperado\":1}, {\"entrada\": 2, \"resultadoEsperado\":4}, \n",
    "                          {\"entrada\": 3, \"resultadoEsperado\":9}, {\"entrada\": 4, \"resultadoEsperado\":16}, \n",
    "                          {\"entrada\": 5, \"resultadoEsperado\":25}, {\"entrada\": 6, \"resultadoEsperado\":36}, \n",
    "                          {\"entrada\": 7, \"resultadoEsperado\":49}, {\"entrada\": 8, \"resultadoEsperado\":64}])\n",
    "def dummy_cuadrado(request):\n",
    "    return request.param\n",
    "\n",
    "\n",
    "def test_cuadrado(dummy_cuadrado):\n",
    "    valor = dummy_cuadrado[\"entrada\"]\n",
    "    resultado = dummy_cuadrado[\"resultadoEsperado\"]\n",
    "    assert cuadrado(valor) == resultado"
   ]
  },
  {
   "cell_type": "markdown",
   "metadata": {},
   "source": [
    "# <center> @pytest.mark.parametrize </center>"
   ]
  },
  {
   "cell_type": "code",
   "execution_count": 30,
   "metadata": {},
   "outputs": [
    {
     "name": "stdout",
     "output_type": "stream",
     "text": [
      "============================= test session starts =============================\n",
      "platform win32 -- Python 3.8.5, pytest-6.2.5, py-1.9.0, pluggy-0.13.1 -- C:\\Users\\QiDimMak\\anaconda3\\python.exe\n",
      "cachedir: .pytest_cache\n",
      "rootdir: C:\\Users\\QiDimMak\\AppData\\Local\\Temp\\tmpoewwzgx4\n",
      "plugins: anyio-3.3.3, Faker-9.8.0, typeguard-2.13.0\n",
      "collecting ... collected 3 items\n",
      "\n",
      "_ipytesttmp.py::test_eval[3+5-8] PASSED                                  [ 33%]\n",
      "_ipytesttmp.py::test_eval[2+4-6] PASSED                                  [ 66%]\n",
      "_ipytesttmp.py::test_eval[6*9-54] PASSED                                 [100%]\n",
      "\n",
      "============================== 3 passed in 0.15s ==============================\n"
     ]
    }
   ],
   "source": [
    "%%pytest -v --disable-pytest-warnings\n",
    "import pytest\n",
    "\n",
    "@pytest.mark.parametrize(\"test_input, expected\", [(\"3+5\", 8), (\"2+4\", 6), (\"6*9\", 54)])\n",
    "def test_eval(test_input, expected):\n",
    "    assert eval(test_input) == expected"
   ]
  },
  {
   "cell_type": "code",
   "execution_count": 29,
   "metadata": {},
   "outputs": [
    {
     "name": "stdout",
     "output_type": "stream",
     "text": [
      "============================= test session starts =============================\n",
      "platform win32 -- Python 3.8.5, pytest-6.2.5, py-1.9.0, pluggy-0.13.1 -- C:\\Users\\QiDimMak\\anaconda3\\python.exe\n",
      "cachedir: .pytest_cache\n",
      "rootdir: C:\\Users\\QiDimMak\\AppData\\Local\\Temp\\tmpdcze9bnc\n",
      "plugins: anyio-3.3.3, Faker-9.8.0, typeguard-2.13.0\n",
      "collecting ... collected 3 items\n",
      "\n",
      "_ipytesttmp.py::test_fixture[1] PASSED                                   [ 33%]\n",
      "_ipytesttmp.py::test_fixture[7] PASSED                                   [ 66%]\n",
      "_ipytesttmp.py::test_fixture[13] PASSED                                  [100%]\n",
      "\n",
      "============================== 3 passed in 0.13s ==============================\n"
     ]
    }
   ],
   "source": [
    "%%pytest -v --disable-pytest-warnings\n",
    "import pytest\n",
    "@pytest.mark.parametrize(\"a\", [(1), (7), (13)])\n",
    "def test_fixture(a):\n",
    "    assert 0 <= a"
   ]
  },
  {
   "cell_type": "code",
   "execution_count": 28,
   "metadata": {},
   "outputs": [
    {
     "name": "stdout",
     "output_type": "stream",
     "text": [
      "============================= test session starts =============================\n",
      "platform win32 -- Python 3.8.5, pytest-6.2.5, py-1.9.0, pluggy-0.13.1 -- C:\\Users\\QiDimMak\\anaconda3\\python.exe\n",
      "cachedir: .pytest_cache\n",
      "rootdir: C:\\Users\\QiDimMak\\AppData\\Local\\Temp\\tmp8qhnm3bv\n",
      "plugins: anyio-3.3.3, Faker-9.8.0, typeguard-2.13.0\n",
      "collecting ... collected 4 items\n",
      "\n",
      "_ipytesttmp.py::test_eval[3+5-8] PASSED                                  [ 25%]\n",
      "_ipytesttmp.py::test_eval[2+4-6] PASSED                                  [ 50%]\n",
      "_ipytesttmp.py::test_eval[6*9-54] PASSED                                 [ 75%]\n",
      "_ipytesttmp.py::test_eval[20/5-4] PASSED                                 [100%]\n",
      "\n",
      "============================== 4 passed in 0.14s ==============================\n"
     ]
    }
   ],
   "source": [
    "%%pytest -v --disable-pytest-warnings\n",
    "import pytest\n",
    "@pytest.mark.parametrize(\"test_input, expected\", [(\"3+5\", 8), (\"2+4\", 6), (\"6*9\", 54), (\"20/5\",4)])\n",
    "def test_eval(test_input, expected):\n",
    "    assert eval(test_input) == expected"
   ]
  },
  {
   "cell_type": "code",
   "execution_count": 31,
   "metadata": {},
   "outputs": [
    {
     "name": "stdout",
     "output_type": "stream",
     "text": [
      "============================= test session starts =============================\n",
      "platform win32 -- Python 3.8.5, pytest-6.2.5, py-1.9.0, pluggy-0.13.1 -- C:\\Users\\QiDimMak\\anaconda3\\python.exe\n",
      "cachedir: .pytest_cache\n",
      "rootdir: C:\\Users\\QiDimMak\\AppData\\Local\\Temp\\tmpdjratdz2\n",
      "plugins: anyio-3.3.3, Faker-9.8.0, typeguard-2.13.0\n",
      "collecting ... collected 3 items\n",
      "\n",
      "_ipytesttmp.py::test_eval_num[3-5-8] PASSED                              [ 33%]\n",
      "_ipytesttmp.py::test_eval_num[2-4-6] PASSED                              [ 66%]\n",
      "_ipytesttmp.py::test_eval_num[20-5-25] PASSED                            [100%]\n",
      "\n",
      "============================== 3 passed in 0.13s ==============================\n"
     ]
    }
   ],
   "source": [
    "%%pytest -v --disable-pytest-warnings\n",
    "import pytest\n",
    "@pytest.mark.parametrize(\"input_1, input_2, expected\", [(3,5, 8), (2,4, 6), (20,5, 25)])\n",
    "def test_eval_num(input_1, input_2, expected):\n",
    "    assert input_1 + input_2 == expected"
   ]
  },
  {
   "cell_type": "code",
   "execution_count": 32,
   "metadata": {},
   "outputs": [
    {
     "name": "stdout",
     "output_type": "stream",
     "text": [
      "============================= test session starts =============================\n",
      "platform win32 -- Python 3.8.5, pytest-6.2.5, py-1.9.0, pluggy-0.13.1 -- C:\\Users\\QiDimMak\\anaconda3\\python.exe\n",
      "cachedir: .pytest_cache\n",
      "rootdir: C:\\Users\\QiDimMak\\AppData\\Local\\Temp\\tmpblp_0uno\n",
      "plugins: anyio-3.3.3, Faker-9.8.0, typeguard-2.13.0\n",
      "collecting ... collected 3 items\n",
      "\n",
      "_ipytesttmp.py::test_eval_function[3-5-8] PASSED                         [ 33%]\n",
      "_ipytesttmp.py::test_eval_function[2-4-6] PASSED                         [ 66%]\n",
      "_ipytesttmp.py::test_eval_function[6-9-15] PASSED                        [100%]\n",
      "\n",
      "============================== 3 passed in 0.14s ==============================\n"
     ]
    }
   ],
   "source": [
    "%%pytest -v --disable-pytest-warnings\n",
    "import pytest\n",
    "import pdb\n",
    "\n",
    "def suma(a, b):\n",
    "    return a + b\n",
    "\n",
    "@pytest.mark.parametrize(\"input_1, input_2, expected\", [(3,5, 8), (2,4, 6), (6,9, 15)])\n",
    "def test_eval_function(input_1, input_2, expected):\n",
    "    \n",
    "    assert suma(input_1, input_2) == expected"
   ]
  },
  {
   "cell_type": "code",
   "execution_count": 33,
   "metadata": {},
   "outputs": [
    {
     "name": "stdout",
     "output_type": "stream",
     "text": [
      "============================= test session starts =============================\n",
      "platform win32 -- Python 3.8.5, pytest-6.2.5, py-1.9.0, pluggy-0.13.1 -- C:\\Users\\QiDimMak\\anaconda3\\python.exe\n",
      "cachedir: .pytest_cache\n",
      "rootdir: C:\\Users\\QiDimMak\\AppData\\Local\\Temp\\tmpx9n6twr7\n",
      "plugins: anyio-3.3.3, Faker-9.8.0, typeguard-2.13.0\n",
      "collecting ... collected 3 items\n",
      "\n",
      "_ipytesttmp.py::test_eval_function[3-5-8] PASSED                         [ 33%]\n",
      "_ipytesttmp.py::test_eval_function[2-4-6] PASSED                         [ 66%]\n",
      "_ipytesttmp.py::test_eval_function[6-9-15] PASSED                        [100%]\n",
      "\n",
      "============================== 3 passed in 0.14s ==============================\n"
     ]
    }
   ],
   "source": [
    "%%pytest -v --disable-pytest-warnings\n",
    "#%%debug \n",
    "\n",
    "import pytest\n",
    "import pdb\n",
    "\n",
    "def suma(a, b):\n",
    "    return a + b\n",
    "\n",
    "@pytest.mark.parametrize(\"input_1, input_2, expected\", [(3,5, 8), (2,4, 6), (6,9, 15)])\n",
    "def test_eval_function(input_1, input_2, expected):\n",
    "    #breakpoint()\n",
    "    #pdb.set_trace()\n",
    "    assert suma(input_1, input_2) == expected\n",
    "    "
   ]
  },
  {
   "cell_type": "markdown",
   "metadata": {},
   "source": [
    "# <center> @patch FROM unittest.mock </center>"
   ]
  },
  {
   "cell_type": "code",
   "execution_count": 34,
   "metadata": {},
   "outputs": [
    {
     "name": "stdout",
     "output_type": "stream",
     "text": [
      "The ipython_pytest extension is already loaded. To reload it, use:\n",
      "  %reload_ext ipython_pytest\n"
     ]
    }
   ],
   "source": [
    "%load_ext ipython_pytest\n",
    "from unittest.mock import patch\n",
    "from time import sleep"
   ]
  },
  {
   "cell_type": "code",
   "execution_count": 35,
   "metadata": {},
   "outputs": [
    {
     "name": "stdout",
     "output_type": "stream",
     "text": [
      "============================= test session starts =============================\n",
      "platform win32 -- Python 3.8.5, pytest-6.2.5, py-1.9.0, pluggy-0.13.1 -- C:\\Users\\QiDimMak\\anaconda3\\python.exe\n",
      "cachedir: .pytest_cache\n",
      "rootdir: C:\\Users\\QiDimMak\\AppData\\Local\\Temp\\tmpuvufolnt\n",
      "plugins: anyio-3.3.3, Faker-9.8.0, typeguard-2.13.0\n",
      "collecting ... collected 1 item\n",
      "\n",
      "_ipytesttmp.py::test_patch PASSED                                        [100%]\n",
      "\n",
      "============================== 1 passed in 0.12s ==============================\n",
      "Wall time: 405 ms\n"
     ]
    }
   ],
   "source": [
    "%%time\n",
    "%%pytest -v --disable-pytest-warnings\n",
    "#%%debug \n",
    "from unittest.mock import patch\n",
    "import pytest\n",
    "\n",
    "from datos import funcion_dada\n",
    "\n",
    "@patch(\"datos.esperar_5_segundos\", return_value =5)\n",
    "@patch(\"datos.esperar_3_segundos\", return_value =3j)\n",
    "def test_patch(patched_3_segundos, patched_5_segundos):\n",
    "    \n",
    "    assert funcion_dada() == patched_3_segundos.return_value"
   ]
  }
 ],
 "metadata": {
  "kernelspec": {
   "display_name": "Python 3",
   "language": "python",
   "name": "python3"
  },
  "language_info": {
   "codemirror_mode": {
    "name": "ipython",
    "version": 3
   },
   "file_extension": ".py",
   "mimetype": "text/x-python",
   "name": "python",
   "nbconvert_exporter": "python",
   "pygments_lexer": "ipython3",
   "version": "3.8.5"
  }
 },
 "nbformat": 4,
 "nbformat_minor": 4
}
