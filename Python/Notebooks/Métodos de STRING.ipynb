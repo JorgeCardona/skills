{
 "cells": [
  {
   "cell_type": "code",
   "execution_count": 1,
   "metadata": {},
   "outputs": [
    {
     "data": {
      "text/html": [
       "<style>.container { width:100% !important; }</style>"
      ],
      "text/plain": [
       "<IPython.core.display.HTML object>"
      ]
     },
     "metadata": {},
     "output_type": "display_data"
    }
   ],
   "source": [
    "from IPython.core.display import display, HTML\n",
    "display(HTML(\"<style>.container { width:100% !important; }</style>\"))"
   ]
  },
  {
   "cell_type": "code",
   "execution_count": 2,
   "metadata": {},
   "outputs": [
    {
     "data": {
      "text/html": [
       "\n",
       "<style>\n",
       "div.output_stderr {\n",
       "    background: #85C1E9;\n",
       "}\n",
       "</style>\n"
      ],
      "text/plain": [
       "<IPython.core.display.HTML object>"
      ]
     },
     "execution_count": 2,
     "metadata": {},
     "output_type": "execute_result"
    }
   ],
   "source": [
    "# cmabiar el color rojo del log a Azul\n",
    "from IPython.core.display import HTML\n",
    "HTML(\"\"\"\n",
    "<style>\n",
    "div.output_stderr {\n",
    "    background: #85C1E9;\n",
    "}\n",
    "</style>\n",
    "\"\"\")"
   ]
  },
  {
   "cell_type": "code",
   "execution_count": 3,
   "metadata": {},
   "outputs": [
    {
     "name": "stdout",
     "output_type": "stream",
     "text": [
      "3.9.7\n"
     ]
    }
   ],
   "source": [
    "from platform import python_version\n",
    "\n",
    "print(python_version())"
   ]
  },
  {
   "cell_type": "code",
   "execution_count": 4,
   "metadata": {},
   "outputs": [
    {
     "name": "stderr",
     "output_type": "stream",
     "text": [
      "2021-12-27 11:51:12 INFO: STRING GENERATED-> son ejemplo_numerico -> [1, 0, 0, 0, 1, 1, 1, 0, 0, 1, 0, 0, 0, 1, 0, 0, 1, 1, 1, 1]\n",
      "2021-12-27 11:51:12 INFO: STRING GENERATED-> son ejemplo_cast_numero -> [False, True, True, True, False, False, True, True, False, False, True, False, True, True, False, True, False, True, True, True]\n",
      "2021-12-27 11:51:12 INFO: STRING GENERATED-> son ejemplo_bool -> [True, True, False, False, False, False, True, True, True, False, False, True, True, True, False, True, True, True, True, False]\n",
      "2021-12-27 11:51:12 INFO: STRING GENERATED-> son ejemplo_bool_2 -> [False, True, False, True, True, True, True, False, True, False, True, True, False, False, True, False, True, True, True, True]\n",
      "2021-12-27 11:51:12 INFO: STRING GENERATED-> son ejemplo_vacio -> [False, None, None, False, None, None, False, '', None, '', False, False, None, '', None, False, False, '', '', 0]\n",
      "2021-12-27 11:51:12 INFO: STRING GENERATED-> son ejemplo_vacio_espacio_false -> [None, None, '', False, '', None, 0, None, None, ' ', 0, ' ', None, ' ', '', False, False, False, 0, '']\n",
      "2021-12-27 11:51:12 INFO: STRING GENERATED-> son ejemplo_mixto -> [' ', ' ', ' ', '', '-', None, ' ', None, ' ', None, '-', ' ', '-', '', '-', '-', '', '-', '', ' ']\n"
     ]
    }
   ],
   "source": [
    "import random\n",
    "import logging\n",
    "\n",
    "limit = 20\n",
    "\n",
    "logging.basicConfig(format='%(asctime)s %(levelname)s: STRING GENERATED-> %(message)s', level=logging.DEBUG, datefmt='%Y-%m-%d %H:%M:%S')\n",
    "\n",
    "ejemplo_numerico = [random.randint(0,1) for i in range(limit)]\n",
    "logging.info(f'son ejemplo_numerico -> {ejemplo_numerico}')\n",
    "\n",
    "ejemplo_cast_numero = [bool(random.randint(0,1)) for i in range(limit)]\n",
    "logging.info(f'son ejemplo_cast_numero -> {ejemplo_cast_numero}')\n",
    "\n",
    "ejemplo_bool = [bool(random.getrandbits(1)) for i in range(limit)]\n",
    "logging.info(f'son ejemplo_bool -> {ejemplo_bool}')\n",
    "\n",
    "ejemplo_bool_2 = [random.choice([True, False]) for i in range(limit)]\n",
    "logging.info(f'son ejemplo_bool_2 -> {ejemplo_bool_2}')\n",
    "\n",
    "ejemplo_vacio = [random.choice(['', None, False, 0]) for i in range(limit)]\n",
    "logging.info(f'son ejemplo_vacio -> {ejemplo_vacio}')\n",
    "\n",
    "ejemplo_vacio_espacio_false = [random.choice(['', None, False, ' ', 0]) for i in range(limit)]\n",
    "logging.info(f'son ejemplo_vacio_espacio_false -> {ejemplo_vacio_espacio_false}')\n",
    "\n",
    "ejemplo_mixto = [random.choice(['', None, ' ', '-']) for i in range(limit)]\n",
    "logging.info(f'son ejemplo_mixto -> {ejemplo_mixto}')"
   ]
  },
  {
   "cell_type": "markdown",
   "metadata": {},
   "source": [
    "# <center> ALL -> VALIDA QUE TODO SEA VERDADERO </center>"
   ]
  },
  {
   "cell_type": "code",
   "execution_count": 5,
   "metadata": {},
   "outputs": [
    {
     "name": "stderr",
     "output_type": "stream",
     "text": [
      "2021-12-27 11:51:12 INFO: STRING GENERATED-> son ejemplo_verdadero[1, True, ' '] -> True\n",
      "2021-12-27 11:51:12 INFO: STRING GENERATED-> son ejemplo_numerico [1, 0, 0, 0, 1, 1, 1, 0, 0, 1, 0, 0, 0, 1, 0, 0, 1, 1, 1, 1] -> False\n",
      "2021-12-27 11:51:12 INFO: STRING GENERATED-> son ejemplo_cast_numero [False, True, True, True, False, False, True, True, False, False, True, False, True, True, False, True, False, True, True, True] -> False\n",
      "2021-12-27 11:51:12 INFO: STRING GENERATED-> son ejemplo_bool [True, True, False, False, False, False, True, True, True, False, False, True, True, True, False, True, True, True, True, False] -> False\n",
      "2021-12-27 11:51:12 INFO: STRING GENERATED-> son ejemplo_bool_2 [False, True, False, True, True, True, True, False, True, False, True, True, False, False, True, False, True, True, True, True] -> False\n",
      "2021-12-27 11:51:12 INFO: STRING GENERATED-> son ejemplo_vacio [False, None, None, False, None, None, False, '', None, '', False, False, None, '', None, False, False, '', '', 0] -> False\n",
      "2021-12-27 11:51:12 INFO: STRING GENERATED-> son ejemplo_vacio_espacio_false [None, None, '', False, '', None, 0, None, None, ' ', 0, ' ', None, ' ', '', False, False, False, 0, ''] -> False\n",
      "2021-12-27 11:51:12 INFO: STRING GENERATED-> son ejemplo_mixto [' ', ' ', ' ', '', '-', None, ' ', None, ' ', None, '-', ' ', '-', '', '-', '-', '', '-', '', ' '] -> False\n"
     ]
    }
   ],
   "source": [
    "logging.info(f'son ejemplo_verdadero{[1,True,\" \"]} -> {all([1,True,\" \"])}')\n",
    "logging.info(f'son ejemplo_numerico {ejemplo_numerico} -> {all(ejemplo_numerico)}')\n",
    "logging.info(f'son ejemplo_cast_numero {ejemplo_cast_numero} -> {all(ejemplo_cast_numero)}')\n",
    "logging.info(f'son ejemplo_bool {ejemplo_bool} -> {all(ejemplo_bool)}')\n",
    "logging.info(f'son ejemplo_bool_2 {ejemplo_bool_2} -> {all(ejemplo_bool_2)}')\n",
    "logging.info(f'son ejemplo_vacio {ejemplo_vacio} -> {all(ejemplo_vacio)}')\n",
    "logging.info(f'son ejemplo_vacio_espacio_false {ejemplo_vacio_espacio_false} -> {all(ejemplo_vacio_espacio_false)}')\n",
    "logging.info(f'son ejemplo_mixto {ejemplo_mixto} -> {all(ejemplo_mixto)}')"
   ]
  },
  {
   "cell_type": "markdown",
   "metadata": {},
   "source": [
    "# <center> ANY -> VALIDA QUE POR LO MENOS UNO SEA VERDADERO </center>"
   ]
  },
  {
   "cell_type": "code",
   "execution_count": 6,
   "metadata": {},
   "outputs": [
    {
     "name": "stderr",
     "output_type": "stream",
     "text": [
      "2021-12-27 11:51:12 INFO: STRING GENERATED-> son ejemplo_numerico [1, 0, 0, 0, 1, 1, 1, 0, 0, 1, 0, 0, 0, 1, 0, 0, 1, 1, 1, 1] -> True\n",
      "2021-12-27 11:51:12 INFO: STRING GENERATED-> son ejemplo_cast_numero [False, True, True, True, False, False, True, True, False, False, True, False, True, True, False, True, False, True, True, True] -> True\n",
      "2021-12-27 11:51:12 INFO: STRING GENERATED-> son ejemplo_bool [True, True, False, False, False, False, True, True, True, False, False, True, True, True, False, True, True, True, True, False] -> True\n",
      "2021-12-27 11:51:12 INFO: STRING GENERATED-> son ejemplo_bool_2 [False, True, False, True, True, True, True, False, True, False, True, True, False, False, True, False, True, True, True, True] -> True\n",
      "2021-12-27 11:51:12 INFO: STRING GENERATED-> son ejemplo_vacio [False, None, None, False, None, None, False, '', None, '', False, False, None, '', None, False, False, '', '', 0] -> False\n",
      "2021-12-27 11:51:12 INFO: STRING GENERATED-> son ejemplo_vacio_espacio_false [None, None, '', False, '', None, 0, None, None, ' ', 0, ' ', None, ' ', '', False, False, False, 0, ''] -> True\n",
      "2021-12-27 11:51:12 INFO: STRING GENERATED-> son ejemplo_mixto [' ', ' ', ' ', '', '-', None, ' ', None, ' ', None, '-', ' ', '-', '', '-', '-', '', '-', '', ' '] -> True\n"
     ]
    }
   ],
   "source": [
    "logging.info(f'son ejemplo_numerico {ejemplo_numerico} -> {any(ejemplo_numerico)}')\n",
    "logging.info(f'son ejemplo_cast_numero {ejemplo_cast_numero} -> {any(ejemplo_cast_numero)}')\n",
    "logging.info(f'son ejemplo_bool {ejemplo_bool} -> {any(ejemplo_bool)}')\n",
    "logging.info(f'son ejemplo_bool_2 {ejemplo_bool_2} -> {any(ejemplo_bool_2)}')\n",
    "logging.info(f'son ejemplo_vacio {ejemplo_vacio} -> {any(ejemplo_vacio)}')\n",
    "logging.info(f'son ejemplo_vacio_espacio_false {ejemplo_vacio_espacio_false} -> {any(ejemplo_vacio_espacio_false)}')\n",
    "logging.info(f'son ejemplo_mixto {ejemplo_mixto} -> {any(ejemplo_mixto)}')"
   ]
  },
  {
   "cell_type": "markdown",
   "metadata": {},
   "source": [
    "# <center> Generadores de Cadenas Aleatorias </center>"
   ]
  },
  {
   "cell_type": "code",
   "execution_count": 7,
   "metadata": {},
   "outputs": [],
   "source": [
    "import string\n",
    "import uuid\n",
    "import textwrap\n",
    "\n",
    "def generate_characters(size:int = 25) -> str:\n",
    "    \n",
    "    return ''.join([random.choice(string.ascii_letters) for x in range(size)])\n",
    "\n",
    "def generate_numbers(size:int = 25) -> str:\n",
    "    \n",
    "    return ''.join([random.choice(string.digits) for x in range(size)])\n",
    "\n",
    "def generate_characters_and_numbers(size:int = 50) -> str:\n",
    "    \n",
    "    return ''.join([random.SystemRandom().choice(string.ascii_letters + string.digits) for x in range(size)])\n",
    "\n",
    "def generate_uuid(size:int = 1) -> str :\n",
    "    \n",
    "    return str(uuid.uuid4())\n",
    "\n",
    "def generate_unique_values(size:int = 75) -> str:\n",
    "    \n",
    "    characteres = string.digits + string.ascii_letters + string.punctuation\n",
    "\n",
    "    return ''.join(random.sample(characteres, size))\n",
    "\n",
    "\n",
    "#decorador\n",
    "def split_string(funcion_entrada)-> str:\n",
    "    \n",
    "    parts_to_divide  = 5\n",
    "    \n",
    "    def split_word(*args, **kwargs):\n",
    "        \n",
    "        return ' '.join(textwrap.wrap(funcion_entrada(*args, **kwargs), parts_to_divide))      \n",
    "        \n",
    "    return split_word\n",
    "\n",
    "funciones = [generate_characters, generate_numbers, generate_characters_and_numbers, generate_uuid, generate_unique_values]\n",
    "\n",
    "@split_string\n",
    "def get_random_function() -> str:\n",
    "    \n",
    "    return funciones[random.randint(0, len(funciones) -1)]()"
   ]
  },
  {
   "cell_type": "markdown",
   "metadata": {},
   "source": [
    "# <center> Título, Mayúsculas, Minúsculas, Primera letra en Mayúscula, Invertir Mayúsculas y Minúsculas  </center>"
   ]
  },
  {
   "cell_type": "code",
   "execution_count": 8,
   "metadata": {},
   "outputs": [
    {
     "name": "stderr",
     "output_type": "stream",
     "text": [
      "2021-12-27 11:51:12 INFO: STRING GENERATED-> vj3aD EimNh VTHgX 9y0jS wUvdu U0TN4 wNg64 u6BVG BQ0kw 2EDNF\n"
     ]
    }
   ],
   "source": [
    "palabra = get_random_function()\n",
    "logging.info(palabra)"
   ]
  },
  {
   "cell_type": "code",
   "execution_count": 9,
   "metadata": {},
   "outputs": [
    {
     "data": {
      "text/plain": [
       "'Vj3Ad Eimnh Vthgx 9Y0Js Wuvdu U0Tn4 Wng64 U6Bvg Bq0Kw 2Ednf'"
      ]
     },
     "execution_count": 9,
     "metadata": {},
     "output_type": "execute_result"
    }
   ],
   "source": [
    "palabra.title()"
   ]
  },
  {
   "cell_type": "code",
   "execution_count": 10,
   "metadata": {},
   "outputs": [
    {
     "data": {
      "text/plain": [
       "'VJ3AD EIMNH VTHGX 9Y0JS WUVDU U0TN4 WNG64 U6BVG BQ0KW 2EDNF'"
      ]
     },
     "execution_count": 10,
     "metadata": {},
     "output_type": "execute_result"
    }
   ],
   "source": [
    "palabra.upper()"
   ]
  },
  {
   "cell_type": "code",
   "execution_count": 11,
   "metadata": {},
   "outputs": [
    {
     "data": {
      "text/plain": [
       "'vj3ad eimnh vthgx 9y0js wuvdu u0tn4 wng64 u6bvg bq0kw 2ednf'"
      ]
     },
     "execution_count": 11,
     "metadata": {},
     "output_type": "execute_result"
    }
   ],
   "source": [
    "palabra.lower()"
   ]
  },
  {
   "cell_type": "code",
   "execution_count": 12,
   "metadata": {},
   "outputs": [
    {
     "data": {
      "text/plain": [
       "'Vj3ad eimnh vthgx 9y0js wuvdu u0tn4 wng64 u6bvg bq0kw 2ednf'"
      ]
     },
     "execution_count": 12,
     "metadata": {},
     "output_type": "execute_result"
    }
   ],
   "source": [
    "palabra.capitalize()"
   ]
  },
  {
   "cell_type": "code",
   "execution_count": 13,
   "metadata": {},
   "outputs": [
    {
     "data": {
      "text/plain": [
       "'VJ3Ad eIMnH vthGx 9Y0Js WuVDU u0tn4 WnG64 U6bvg bq0KW 2ednf'"
      ]
     },
     "execution_count": 13,
     "metadata": {},
     "output_type": "execute_result"
    }
   ],
   "source": [
    "palabra.swapcase()"
   ]
  },
  {
   "cell_type": "markdown",
   "metadata": {},
   "source": [
    "# <center> Eliminar espacios en blanco o caracteres, a la Derecha a la Izquierda, Todos </center>"
   ]
  },
  {
   "cell_type": "code",
   "execution_count": 14,
   "metadata": {},
   "outputs": [
    {
     "name": "stderr",
     "output_type": "stream",
     "text": [
      "2021-12-27 11:51:12 INFO: STRING GENERATED->    xovmq URhQW tEUXo tJpym dPNtp   \n"
     ]
    }
   ],
   "source": [
    "palabra =   '   ' + get_random_function() +  '   '\n",
    "logging.info(palabra)"
   ]
  },
  {
   "cell_type": "code",
   "execution_count": 15,
   "metadata": {},
   "outputs": [
    {
     "data": {
      "text/plain": [
       "'xovmq URhQW tEUXo tJpym dPNtp   '"
      ]
     },
     "execution_count": 15,
     "metadata": {},
     "output_type": "execute_result"
    }
   ],
   "source": [
    "# remueve el prejijo a la cadena \n",
    "v = palabra.lstrip()\n",
    "v"
   ]
  },
  {
   "cell_type": "code",
   "execution_count": 16,
   "metadata": {},
   "outputs": [
    {
     "data": {
      "text/plain": [
       "'URhQW tEUXo tJpym dPNtp   '"
      ]
     },
     "execution_count": 16,
     "metadata": {},
     "output_type": "execute_result"
    }
   ],
   "source": [
    "v.removeprefix(v[0:6])"
   ]
  },
  {
   "cell_type": "code",
   "execution_count": 17,
   "metadata": {},
   "outputs": [
    {
     "data": {
      "text/plain": [
       "'URhQW tEUXo tJpym dPNtp   '"
      ]
     },
     "execution_count": 17,
     "metadata": {},
     "output_type": "execute_result"
    }
   ],
   "source": [
    "v.lstrip(v[0:6])"
   ]
  },
  {
   "cell_type": "code",
   "execution_count": 18,
   "metadata": {},
   "outputs": [
    {
     "data": {
      "text/plain": [
       "'   xovmq URhQW tEUXo tJpym dPNtp'"
      ]
     },
     "execution_count": 18,
     "metadata": {},
     "output_type": "execute_result"
    }
   ],
   "source": [
    "# remueve el sufijo a la cadena \n",
    "u = palabra.rstrip()\n",
    "u"
   ]
  },
  {
   "cell_type": "code",
   "execution_count": 19,
   "metadata": {},
   "outputs": [
    {
     "data": {
      "text/plain": [
       "'   xovmq URhQW tEUXo tJpym'"
      ]
     },
     "execution_count": 19,
     "metadata": {},
     "output_type": "execute_result"
    }
   ],
   "source": [
    "u.removesuffix(u[-6:])"
   ]
  },
  {
   "cell_type": "code",
   "execution_count": 20,
   "metadata": {},
   "outputs": [
    {
     "data": {
      "text/plain": [
       "'xovmq URhQW tEUXo tJpym dPNtp'"
      ]
     },
     "execution_count": 20,
     "metadata": {},
     "output_type": "execute_result"
    }
   ],
   "source": [
    "# remueve el prejijo y sufijo a la cadena \n",
    "w = palabra.strip()\n",
    "w"
   ]
  },
  {
   "cell_type": "markdown",
   "metadata": {},
   "source": [
    "# <center> Reemplazo en cadenas </center>"
   ]
  },
  {
   "cell_type": "code",
   "execution_count": 21,
   "metadata": {},
   "outputs": [
    {
     "name": "stderr",
     "output_type": "stream",
     "text": [
      "2021-12-27 11:51:12 INFO: STRING GENERATED->    HOKaS ENYpD NqnGn NsANW hEgdM   \n"
     ]
    }
   ],
   "source": [
    "palabra =   '   ' + get_random_function() +  '   '\n",
    "logging.info(palabra)"
   ]
  },
  {
   "cell_type": "code",
   "execution_count": 22,
   "metadata": {},
   "outputs": [
    {
     "name": "stderr",
     "output_type": "stream",
     "text": [
      "2021-12-27 11:51:12 INFO: STRING GENERATED-> @@@HOKaS@ENYpD@NqnGn@NsANW@hEgdM@@@\n",
      "2021-12-27 11:51:12 INFO: STRING GENERATED-> HOKaS@ENYpD@NqnGn@NsANW@hEgdM\n"
     ]
    }
   ],
   "source": [
    "x = palabra.replace(' ', '@')\n",
    "logging.info(x)\n",
    "\n",
    "y  = x.strip('@')\n",
    "logging.info(y)"
   ]
  },
  {
   "cell_type": "code",
   "execution_count": 23,
   "metadata": {},
   "outputs": [
    {
     "data": {
      "text/plain": [
       "'jorgecardona'"
      ]
     },
     "execution_count": 23,
     "metadata": {},
     "output_type": "execute_result"
    }
   ],
   "source": [
    "gh = '        hhhhhttp      s://www.jorgecardona.comwhttps'.strip(' t.m:p/hwswoc')\n",
    "gh"
   ]
  },
  {
   "cell_type": "code",
   "execution_count": 24,
   "metadata": {},
   "outputs": [
    {
     "data": {
      "text/plain": [
       "'jorgecardona'"
      ]
     },
     "execution_count": 24,
     "metadata": {},
     "output_type": "execute_result"
    }
   ],
   "source": [
    "gh = 'https://github.com/jorgecardona'.strip('itb/.ghths:pucmo')\n",
    "gh"
   ]
  },
  {
   "cell_type": "code",
   "execution_count": 25,
   "metadata": {
    "scrolled": true
   },
   "outputs": [
    {
     "name": "stderr",
     "output_type": "stream",
     "text": [
      "2021-12-27 11:51:12 INFO: STRING GENERATED-> la cadena reemplazada es 34VA16ZW25169  -> cdVApZWypi\n"
     ]
    },
    {
     "name": "stdout",
     "output_type": "stream",
     "text": [
      "{'a': '1', 'b': '2', 'c': '3', 'd': '4', 'e': '5', 'f': '6', 'g': '7', 'h': '8', 'i': '9', 'j': '10', 'k': '11', 'l': '12', 'm': '13', 'n': '14', 'o': '15', 'p': '16', 'q': '17', 'r': '18', 's': '19', 't': '20', 'u': '21', 'v': '22', 'w': '23', 'x': '24', 'y': '25', 'z': '26'}\n"
     ]
    }
   ],
   "source": [
    "palabra = generate_characters(10)\n",
    "dic = {str(j):str(i+1) for i, j in enumerate(list(string.ascii_lowercase))}\n",
    "tabla = palabra.maketrans(dic)\n",
    "\n",
    "logging.info(f'la cadena reemplazada es {palabra.translate(tabla)}  -> {palabra}')\n",
    "print(dic)"
   ]
  },
  {
   "cell_type": "code",
   "execution_count": 26,
   "metadata": {
    "scrolled": true
   },
   "outputs": [
    {
     "name": "stderr",
     "output_type": "stream",
     "text": [
      "2021-12-27 11:51:12 INFO: STRING GENERATED-> la cadena reemplazada es b)PdscKSC#  -> bOPdscKSCe\n"
     ]
    }
   ],
   "source": [
    "palabra = generate_characters(10)\n",
    "base      = 'aeiouAEIOU'\n",
    "reemplazo = '@#$%^&*()!'\n",
    "tabla = palabra.maketrans(base,reemplazo)\n",
    "\n",
    "logging.info(f'la cadena reemplazada es {palabra.translate(tabla)}  -> {palabra}')"
   ]
  },
  {
   "cell_type": "code",
   "execution_count": 27,
   "metadata": {},
   "outputs": [
    {
     "name": "stderr",
     "output_type": "stream",
     "text": [
      "2021-12-27 11:51:12 INFO: STRING GENERATED-> la cadena reemplazada es dMghy#fd  -> dnjMghyefd\n"
     ]
    }
   ],
   "source": [
    "palabra = generate_characters(10)\n",
    "base      = 'aeiouAEIOU'\n",
    "reemplazo = '@#$%^&*()!'\n",
    "borrar = 'BCDFGHjklmn'\n",
    "tabla = palabra.maketrans(base,reemplazo,borrar)\n",
    "\n",
    "logging.info(f'la cadena reemplazada es {palabra.translate(tabla)}  -> {palabra}')"
   ]
  },
  {
   "cell_type": "code",
   "execution_count": 28,
   "metadata": {},
   "outputs": [
    {
     "name": "stderr",
     "output_type": "stream",
     "text": [
      "2021-12-27 11:51:12 INFO: STRING GENERATED-> la cadena reemplazada es mbkrjqpgqdoeeb  -> mKGbOkCrUQYjGqNpgqJdoeeIb\n"
     ]
    }
   ],
   "source": [
    "palabra = generate_characters()\n",
    "borrar = string.ascii_uppercase\n",
    "tabla = palabra.maketrans('','',borrar)\n",
    "\n",
    "logging.info(f'la cadena reemplazada es {palabra.translate(tabla)}  -> {palabra}')"
   ]
  },
  {
   "cell_type": "markdown",
   "metadata": {},
   "source": [
    "# <center> Alinear texto, a la Derecha a la Izquierda, al centro, Completa con otros caracteres</center>"
   ]
  },
  {
   "cell_type": "code",
   "execution_count": 29,
   "metadata": {},
   "outputs": [
    {
     "name": "stderr",
     "output_type": "stream",
     "text": [
      "2021-12-27 11:51:12 INFO: STRING GENERATED-> 57662 24608 62505 74631 21216\n"
     ]
    }
   ],
   "source": [
    "palabra =  get_random_function()\n",
    "logging.info(palabra)"
   ]
  },
  {
   "cell_type": "code",
   "execution_count": 30,
   "metadata": {},
   "outputs": [
    {
     "name": "stderr",
     "output_type": "stream",
     "text": [
      "2021-12-27 11:51:12 INFO: STRING GENERATED-> la cadena alineada 57662 24608 62505 74631 21216 es ->        57662 24608 62505 74631 21216 \n"
     ]
    }
   ],
   "source": [
    "logging.info(f'la cadena alineada {palabra} es -> {palabra.rjust(len(palabra) + 7)} ')"
   ]
  },
  {
   "cell_type": "code",
   "execution_count": 31,
   "metadata": {},
   "outputs": [
    {
     "name": "stderr",
     "output_type": "stream",
     "text": [
      "2021-12-27 11:51:12 INFO: STRING GENERATED-> la cadena alineada 57662 24608 62505 74631 21216 es -> ~~~~~~~57662 24608 62505 74631 21216\n"
     ]
    }
   ],
   "source": [
    "logging.info(f'la cadena alineada {palabra} es -> {palabra.rjust(len(palabra) + 7,\"~\")}')"
   ]
  },
  {
   "cell_type": "code",
   "execution_count": 32,
   "metadata": {},
   "outputs": [
    {
     "name": "stderr",
     "output_type": "stream",
     "text": [
      "2021-12-27 11:51:12 INFO: STRING GENERATED-> la cadena alineada 57662 24608 62505 74631 21216 es -> 57662 24608 62505 74631 21216~~~~~~~\n"
     ]
    }
   ],
   "source": [
    "logging.info(f'la cadena alineada {palabra} es -> {palabra.ljust(len(palabra) + 7,\"~\")}')"
   ]
  },
  {
   "cell_type": "code",
   "execution_count": 33,
   "metadata": {},
   "outputs": [
    {
     "name": "stderr",
     "output_type": "stream",
     "text": [
      "2021-12-27 11:51:12 INFO: STRING GENERATED-> la cadena alineada 57662 24608 62505 74631 21216 es ->    57662 24608 62505 74631 21216    \n"
     ]
    }
   ],
   "source": [
    "logging.info(f'la cadena alineada {palabra} es -> {palabra.center(len(palabra) + 7)}')"
   ]
  },
  {
   "cell_type": "code",
   "execution_count": 34,
   "metadata": {},
   "outputs": [
    {
     "name": "stderr",
     "output_type": "stream",
     "text": [
      "2021-12-27 11:51:12 INFO: STRING GENERATED-> la cadena alineada 57662 24608 62505 74631 21216 es -> <<<57662 24608 62505 74631 21216<<<<\n"
     ]
    }
   ],
   "source": [
    "logging.info(f'la cadena alineada {palabra} es -> {palabra.center(len(palabra) + 7,\"<\")}')"
   ]
  },
  {
   "cell_type": "code",
   "execution_count": 35,
   "metadata": {},
   "outputs": [
    {
     "name": "stderr",
     "output_type": "stream",
     "text": [
      "2021-12-27 11:51:12 INFO: STRING GENERATED-> la cadena alineada 57662 24608 62505 74631 21216 es -> 000000057662 24608 62505 74631 21216\n"
     ]
    }
   ],
   "source": [
    "logging.info(f'la cadena alineada {palabra} es -> {palabra.zfill(len(palabra) + 7)}')"
   ]
  },
  {
   "cell_type": "markdown",
   "metadata": {},
   "source": [
    "# <center> Slicing invertir Cadena, Extraer Cadena </center>"
   ]
  },
  {
   "cell_type": "code",
   "execution_count": 36,
   "metadata": {},
   "outputs": [],
   "source": [
    "palabra = generate_characters(30)"
   ]
  },
  {
   "cell_type": "code",
   "execution_count": 37,
   "metadata": {},
   "outputs": [
    {
     "name": "stderr",
     "output_type": "stream",
     "text": [
      "2021-12-27 11:51:13 INFO: STRING GENERATED-> la cadena invertida tklohJpKnhwAhENknmqjTexWXwfxcR es -> RcxfwXWxeTjqmnkNEhAwhnKpJholkt\n"
     ]
    }
   ],
   "source": [
    "logging.info(f'la cadena invertida {palabra} es -> {palabra[::-1]}')"
   ]
  },
  {
   "cell_type": "code",
   "execution_count": 38,
   "metadata": {},
   "outputs": [
    {
     "name": "stderr",
     "output_type": "stream",
     "text": [
      "2021-12-27 11:51:13 INFO: STRING GENERATED-> la cadena recortada tklohJpKnhwAhENknmqjTexWXwfxcR es -> tklohJp\n"
     ]
    }
   ],
   "source": [
    "logging.info(f'la cadena recortada {palabra} es -> {palabra[0:7]}')"
   ]
  },
  {
   "cell_type": "code",
   "execution_count": 39,
   "metadata": {},
   "outputs": [
    {
     "name": "stderr",
     "output_type": "stream",
     "text": [
      "2021-12-27 11:51:13 INFO: STRING GENERATED-> la cadena solo de caracteres impares tklohJpKnhwAhENknmqjTexWXwfxcR es -> tlhpnwhNnqTxXfc\n"
     ]
    }
   ],
   "source": [
    "logging.info(f'la cadena solo de caracteres impares {palabra} es -> {palabra[::2]}')"
   ]
  },
  {
   "cell_type": "code",
   "execution_count": 40,
   "metadata": {},
   "outputs": [
    {
     "name": "stderr",
     "output_type": "stream",
     "text": [
      "2021-12-27 11:51:13 INFO: STRING GENERATED-> la cadena solo de caracteres impares inverso tklohJpKnhwAhENknmqjTexWXwfxcR es -> RxwWejmkEAhKJok\n"
     ]
    }
   ],
   "source": [
    "logging.info(f'la cadena solo de caracteres impares inverso {palabra} es -> {palabra[::-2]}')"
   ]
  },
  {
   "cell_type": "code",
   "execution_count": 41,
   "metadata": {},
   "outputs": [
    {
     "name": "stderr",
     "output_type": "stream",
     "text": [
      "2021-12-27 11:51:13 INFO: STRING GENERATED-> la cadena solo de caracteres pares tklohJpKnhwAhENknmqjTexWXwfxcR es -> koJKhAEkmjeWwxR\n"
     ]
    }
   ],
   "source": [
    "logging.info(f'la cadena solo de caracteres pares {palabra} es -> {palabra[1::2]}')"
   ]
  },
  {
   "cell_type": "code",
   "execution_count": 42,
   "metadata": {},
   "outputs": [
    {
     "name": "stderr",
     "output_type": "stream",
     "text": [
      "2021-12-27 11:51:13 INFO: STRING GENERATED-> la cadena solo de caracteres pares inverso tklohJpKnhwAhENknmqjTexWXwfxcR es -> RxwWejmkEAhKJok\n"
     ]
    }
   ],
   "source": [
    "logging.info(f'la cadena solo de caracteres pares inverso {palabra} es -> {palabra[-1::-2]}')"
   ]
  },
  {
   "cell_type": "code",
   "execution_count": 43,
   "metadata": {},
   "outputs": [
    {
     "name": "stderr",
     "output_type": "stream",
     "text": [
      "2021-12-27 11:51:13 INFO: STRING GENERATED-> la cadena solo de caracteres impares tklohJpKnhwAhENknmqjTexWXwfxcR es -> whN\n"
     ]
    }
   ],
   "source": [
    "logging.info(f'la cadena solo de caracteres impares {palabra} es -> {palabra[10:len(palabra)//2:2]}')"
   ]
  },
  {
   "cell_type": "markdown",
   "metadata": {},
   "source": [
    "# <center> Slicing Sobre Listas </center>"
   ]
  },
  {
   "cell_type": "code",
   "execution_count": 44,
   "metadata": {},
   "outputs": [
    {
     "ename": "TypeError",
     "evalue": "'str' object does not support item assignment",
     "output_type": "error",
     "traceback": [
      "\u001b[1;31m---------------------------------------------------------------------------\u001b[0m",
      "\u001b[1;31mTypeError\u001b[0m                                 Traceback (most recent call last)",
      "\u001b[1;32m~\\AppData\\Local\\Temp/ipykernel_15952/1401569991.py\u001b[0m in \u001b[0;36m<module>\u001b[1;34m\u001b[0m\n\u001b[0;32m      1\u001b[0m \u001b[0mpalabra\u001b[0m \u001b[1;33m=\u001b[0m \u001b[0mgenerate_characters\u001b[0m\u001b[1;33m(\u001b[0m\u001b[1;36m7\u001b[0m\u001b[1;33m)\u001b[0m\u001b[1;33m\u001b[0m\u001b[1;33m\u001b[0m\u001b[0m\n\u001b[1;32m----> 2\u001b[1;33m \u001b[0mpalabra\u001b[0m\u001b[1;33m[\u001b[0m\u001b[1;36m0\u001b[0m\u001b[1;33m:\u001b[0m\u001b[1;36m1\u001b[0m\u001b[1;33m]\u001b[0m \u001b[1;33m=\u001b[0m \u001b[1;36m31\u001b[0m\u001b[1;33m\u001b[0m\u001b[1;33m\u001b[0m\u001b[0m\n\u001b[0m\u001b[0;32m      3\u001b[0m \u001b[0mpalabra\u001b[0m\u001b[1;33m\u001b[0m\u001b[1;33m\u001b[0m\u001b[0m\n",
      "\u001b[1;31mTypeError\u001b[0m: 'str' object does not support item assignment"
     ]
    }
   ],
   "source": [
    "palabra = generate_characters(7)\n",
    "palabra[0:1] = 31\n",
    "palabra"
   ]
  },
  {
   "cell_type": "code",
   "execution_count": 45,
   "metadata": {},
   "outputs": [
    {
     "name": "stderr",
     "output_type": "stream",
     "text": [
      "2021-12-27 11:51:19 INFO: STRING GENERATED-> la cadena en lista oCpPwPO es -> ['o', 'C', 'p', 'P', 'w', 'P', 'O']\n",
      "2021-12-27 11:51:19 INFO: STRING GENERATED-> la cadena inversa en lista oCpPwPO es -> ['O', 'P', 'w', 'P', 'p', 'C', 'o']\n",
      "2021-12-27 11:51:19 INFO: STRING GENERATED-> la lista en cadena ['o', 'C', 'p', 'P', 'w', 'P', 'O'] es -> oCpPwPO\n"
     ]
    }
   ],
   "source": [
    "palabra = generate_characters(7)\n",
    "lista = list(palabra)\n",
    "logging.info(f'la cadena en lista {palabra} es -> {lista}')\n",
    "logging.info(f'la cadena inversa en lista {palabra} es -> {lista[::-1]}')\n",
    "logging.info(f'la lista en cadena {lista} es -> {\"\".join(lista)}')"
   ]
  },
  {
   "cell_type": "code",
   "execution_count": 46,
   "metadata": {},
   "outputs": [
    {
     "name": "stderr",
     "output_type": "stream",
     "text": [
      "2021-12-27 11:51:19 INFO: STRING GENERATED-> la cadena en lista reemplazando un indice AWQEiya --- ['A', 'W', 'Q', 'E', 'i', 'y', 'a'] es -> ['A', 9, 8, 7, 'W', 'Q', 'E', 'i', 'y', 'a']\n"
     ]
    }
   ],
   "source": [
    "palabra = generate_characters(7)\n",
    "lista = list(palabra)\n",
    "#Replace and Resize part of the list\n",
    "lista[1:1] = [9,8,7]\n",
    "\n",
    "logging.info(f'la cadena en lista reemplazando un indice {palabra} --- {list(palabra)} es -> {lista}')"
   ]
  },
  {
   "cell_type": "code",
   "execution_count": 47,
   "metadata": {},
   "outputs": [
    {
     "name": "stderr",
     "output_type": "stream",
     "text": [
      "2021-12-27 11:51:19 INFO: STRING GENERATED-> la cadena en lista reemplazando un indice DYLkr --- ['D', 'Y', 'L', 'k', 'r'] es -> ['D', 'Y', 'L', 98, 'r']\n"
     ]
    }
   ],
   "source": [
    "palabra = generate_characters(5)\n",
    "lista = list(palabra)\n",
    "lista[3:4] = [98]\n",
    "logging.info(f'la cadena en lista reemplazando un indice {palabra} --- {list(palabra)} es -> {lista}')"
   ]
  },
  {
   "cell_type": "code",
   "execution_count": 48,
   "metadata": {},
   "outputs": [
    {
     "name": "stderr",
     "output_type": "stream",
     "text": [
      "2021-12-27 11:51:20 INFO: STRING GENERATED-> la cadena en lista reemplazando en varios indices OWfHxgK --- ['O', 'W', 'f', 'H', 'x', 'g', 'K'] es -> [1, 2, 3, 4, 5, 6, 7, 'x', 'g', 'K']\n"
     ]
    }
   ],
   "source": [
    "#Replace and Resize part of the list\n",
    "palabra = generate_characters(7)\n",
    "lista = list(palabra)\n",
    "lista[:4] = [1,2,3,4,5,6,7]\n",
    "\n",
    "logging.info(f'la cadena en lista reemplazando en varios indices {palabra} --- {list(palabra)} es -> {lista}')"
   ]
  },
  {
   "cell_type": "code",
   "execution_count": 49,
   "metadata": {},
   "outputs": [
    {
     "name": "stderr",
     "output_type": "stream",
     "text": [
      "2021-12-27 11:51:20 INFO: STRING GENERATED-> la cadena en lista reemplazando en varios indices yxesikV --- ['y', 'x', 'e', 's', 'i', 'k', 'V'] es -> ['y', 'x', 'e', 's', 97]\n"
     ]
    }
   ],
   "source": [
    "# Substitute part of a list\n",
    "palabra = generate_characters(7)\n",
    "lista = list(palabra)\n",
    "lista[4:7] = [97]\n",
    "logging.info(f'la cadena en lista reemplazando en varios indices {palabra} --- {list(palabra)} es -> {lista}')"
   ]
  },
  {
   "cell_type": "code",
   "execution_count": 50,
   "metadata": {},
   "outputs": [
    {
     "name": "stderr",
     "output_type": "stream",
     "text": [
      "2021-12-27 11:51:20 INFO: STRING GENERATED-> la cadena en lista reemplazando en varios indices GfhqLbF --- ['G', 'f', 'h', 'q', 'L', 'b', 'F'] es -> ['G', 'f', 9, 8, 7]\n"
     ]
    }
   ],
   "source": [
    "# Substitute part of a list\n",
    "palabra = generate_characters(7)\n",
    "lista = list(palabra)\n",
    "lista[2::] = [9,8,7]\n",
    "logging.info(f'la cadena en lista reemplazando en varios indices {palabra} --- {list(palabra)} es -> {lista}')"
   ]
  },
  {
   "cell_type": "code",
   "execution_count": 51,
   "metadata": {},
   "outputs": [
    {
     "name": "stderr",
     "output_type": "stream",
     "text": [
      "2021-12-27 11:51:20 INFO: STRING GENERATED-> la cadena en lista reemplazando en indices impares QygpUuKPSJ --- ['Q', 'y', 'g', 'p', 'U', 'u', 'K', 'P', 'S', 'J'] es -> [1, 'y', 2, 'p', 3, 'u', 4, 'P', 5, 'J']\n"
     ]
    }
   ],
   "source": [
    "#Replace Every n-th Element\n",
    "palabra = generate_characters(10)\n",
    "lista = list(palabra)\n",
    "lista[::2] = [1,2,3,4,5]\n",
    "logging.info(f'la cadena en lista reemplazando en indices impares {palabra} --- {list(palabra)} es -> {lista}')"
   ]
  },
  {
   "cell_type": "code",
   "execution_count": 52,
   "metadata": {},
   "outputs": [
    {
     "name": "stderr",
     "output_type": "stream",
     "text": [
      "2021-12-27 11:51:20 INFO: STRING GENERATED-> la cadena en lista reemplazando en indices pares [90, 80, 70, 60, 50, 40, 30, 20, 10, 0]  es -> [0, 20, 40, 60]\n"
     ]
    }
   ],
   "source": [
    "numeros = [i*10 for i in reversed(range(10))]\n",
    "lista = list(numeros)\n",
    "\n",
    "logging.info(f'la cadena en lista reemplazando en indices pares {numeros}  es -> {lista[:1:-2]}')"
   ]
  },
  {
   "cell_type": "code",
   "execution_count": 53,
   "metadata": {},
   "outputs": [
    {
     "name": "stderr",
     "output_type": "stream",
     "text": [
      "2021-12-27 11:51:20 INFO: STRING GENERATED-> la cadena en lista reemplazando en indices entre el 1 y el 7 hifZQcG --- ['h', 'i', 'f', 'Z', 'Q', 'c', 'G'] es -> ['h', 2, 'f', 4, 'Q', 8, 'G']\n"
     ]
    }
   ],
   "source": [
    "#Replace in specific index\n",
    "numeros = generate_characters(7)\n",
    "lista = list(numeros)\n",
    "\n",
    "lista[1:7:2] = [2, 4, 8]\n",
    "logging.info(f'la cadena en lista reemplazando en indices entre el 1 y el 7 {numeros} --- {list(numeros)} es -> {lista}')"
   ]
  },
  {
   "cell_type": "code",
   "execution_count": 54,
   "metadata": {},
   "outputs": [
    {
     "name": "stderr",
     "output_type": "stream",
     "text": [
      "2021-12-27 11:51:21 INFO: STRING GENERATED-> la cadena con eliminados OHNEIkP ------ ['O', 'H', 'N', 'E', 'I', 'k', 'P'] es -> ['O', 'H', 'N']\n"
     ]
    }
   ],
   "source": [
    "# Slice Deletion\n",
    "numeros = generate_characters(7)\n",
    "lista = list(numeros)\n",
    "\n",
    "del lista[3:7]\n",
    "logging.info(f'la cadena con eliminados {numeros} ------ {list(numeros)} es -> {lista}')"
   ]
  },
  {
   "cell_type": "code",
   "execution_count": 55,
   "metadata": {},
   "outputs": [
    {
     "name": "stderr",
     "output_type": "stream",
     "text": [
      "2021-12-27 11:51:21 INFO: STRING GENERATED-> la cadena con eliminados yecuPfs ------ ['y', 'e', 'c', 'u', 'P', 'f', 's'] es -> ['u', 'P', 'f', 's']\n"
     ]
    }
   ],
   "source": [
    "numeros = generate_characters(7)\n",
    "lista = list(numeros)\n",
    "lista[0:3] = []\n",
    "\n",
    "logging.info(f'la cadena con eliminados {numeros} ------ {list(numeros)} es -> {lista}')"
   ]
  },
  {
   "cell_type": "markdown",
   "metadata": {},
   "source": [
    "# <center> Valída si es : Letras, Minúsculas, Mayúsculas Letras y Números, Espacios en blanco</center>"
   ]
  },
  {
   "cell_type": "code",
   "execution_count": 56,
   "metadata": {},
   "outputs": [
    {
     "name": "stderr",
     "output_type": "stream",
     "text": [
      "2021-12-27 11:51:21 INFO: STRING GENERATED-> son Letras -> edRFMWQHxAkDhJlDnZllbvGdK ->  True\n",
      "2021-12-27 11:51:21 INFO: STRING GENERATED-> son Letras y numeros -> edRFMWQHxAkDhJlDnZllbvGdK ->  True\n"
     ]
    }
   ],
   "source": [
    "letras = generate_characters()\n",
    "logging.info(f'son Letras -> {letras} ->  {letras.isalpha()}')\n",
    "logging.info(f'son Letras y numeros -> {letras} ->  {letras.isalnum()}')"
   ]
  },
  {
   "cell_type": "code",
   "execution_count": 57,
   "metadata": {},
   "outputs": [
    {
     "name": "stderr",
     "output_type": "stream",
     "text": [
      "2021-12-27 11:51:21 INFO: STRING GENERATED-> son Letras -> Tc7y162aiqY1VbQQIyyU7nI0MftTsSqKSpvCu30zpubHlEsxvd ->  False\n",
      "2021-12-27 11:51:21 INFO: STRING GENERATED-> son Letras y numeros -> Tc7y162aiqY1VbQQIyyU7nI0MftTsSqKSpvCu30zpubHlEsxvd ->  True\n"
     ]
    }
   ],
   "source": [
    "numeros_y_letras = generate_characters_and_numbers()\n",
    "logging.info(f'son Letras -> {numeros_y_letras} ->  {numeros_y_letras.isalpha()}')\n",
    "logging.info(f'son Letras y numeros -> {numeros_y_letras} ->  {numeros_y_letras.isalnum()}')"
   ]
  },
  {
   "cell_type": "code",
   "execution_count": 58,
   "metadata": {},
   "outputs": [
    {
     "name": "stderr",
     "output_type": "stream",
     "text": [
      "2021-12-27 11:51:21 INFO: STRING GENERATED-> son Mayúsculas -> edRFMWQHxAkDhJlDnZllbvGdK ->  False\n",
      "2021-12-27 11:51:21 INFO: STRING GENERATED-> son Mayúsculas -> Tc7y162aiqY1VbQQIyyU7nI0MftTsSqKSpvCu30zpubHlEsxvd ->  False\n"
     ]
    }
   ],
   "source": [
    "logging.info(f'son Mayúsculas -> {letras} ->  {numeros_y_letras.isupper()}')\n",
    "logging.info(f'son Mayúsculas -> {numeros_y_letras} ->  {numeros_y_letras.isupper()}')"
   ]
  },
  {
   "cell_type": "code",
   "execution_count": 59,
   "metadata": {},
   "outputs": [
    {
     "name": "stderr",
     "output_type": "stream",
     "text": [
      "2021-12-27 11:51:22 INFO: STRING GENERATED-> son Minúsculas -> edRFMWQHxAkDhJlDnZllbvGdK ->  False\n",
      "2021-12-27 11:51:22 INFO: STRING GENERATED-> son Minúsculas -> Tc7y162aiqY1VbQQIyyU7nI0MftTsSqKSpvCu30zpubHlEsxvd ->  False\n"
     ]
    }
   ],
   "source": [
    "logging.info(f'son Minúsculas -> {letras} ->  {numeros_y_letras.islower()}')\n",
    "logging.info(f'son Minúsculas -> {numeros_y_letras} ->  {numeros_y_letras.islower()}')"
   ]
  },
  {
   "cell_type": "code",
   "execution_count": 60,
   "metadata": {},
   "outputs": [
    {
     "name": "stderr",
     "output_type": "stream",
     "text": [
      "2021-12-27 11:51:22 INFO: STRING GENERATED-> son Títulos -> edRFMWQHxAkDhJlDnZllbvGdK ->  False\n",
      "2021-12-27 11:51:22 INFO: STRING GENERATED-> son Títulos -> Tc7y162aiqY1VbQQIyyU7nI0MftTsSqKSpvCu30zpubHlEsxvd ->  False\n"
     ]
    }
   ],
   "source": [
    "logging.info(f'son Títulos -> {letras} ->  {numeros_y_letras.istitle()}')\n",
    "logging.info(f'son Títulos -> {numeros_y_letras} ->  {numeros_y_letras.istitle()}')"
   ]
  },
  {
   "cell_type": "code",
   "execution_count": 61,
   "metadata": {},
   "outputs": [
    {
     "name": "stderr",
     "output_type": "stream",
     "text": [
      "2021-12-27 11:51:22 INFO: STRING GENERATED-> son espacios en blanco ->             ->  True\n",
      "2021-12-27 11:51:22 INFO: STRING GENERATED-> son espacios en blanco -> edRFMWQHxAkDhJlDnZllbvGdK ->  False\n",
      "2021-12-27 11:51:22 INFO: STRING GENERATED-> son espacios en blanco -> Tc7y162aiqY1VbQQIyyU7nI0MftTsSqKSpvCu30zpubHlEsxvd ->  False\n"
     ]
    }
   ],
   "source": [
    "espacios_en_blanco = '           '\n",
    "logging.info(f'son espacios en blanco -> {espacios_en_blanco} ->  {espacios_en_blanco.isspace()}')\n",
    "logging.info(f'son espacios en blanco -> {letras} ->  {numeros_y_letras.isspace()}')\n",
    "logging.info(f'son espacios en blanco -> {numeros_y_letras} ->  {numeros_y_letras.isspace()}')"
   ]
  },
  {
   "cell_type": "markdown",
   "metadata": {},
   "source": [
    "# <center> Valída si es : Números, Décimal, Binario, Octal, HexaDécimal, Exponencial </center>"
   ]
  },
  {
   "cell_type": "code",
   "execution_count": 62,
   "metadata": {},
   "outputs": [
    {
     "name": "stderr",
     "output_type": "stream",
     "text": [
      "2021-12-27 11:51:22 INFO: STRING GENERATED-> son Números decimales -> 7362152024006207040086869 ->  True\n",
      "2021-12-27 11:51:22 INFO: STRING GENERATED-> son Dígitos -> 7362152024006207040086869 -> True\n",
      "2021-12-27 11:51:22 INFO: STRING GENERATED-> son tipo Númericos -> 7362152024006207040086869 -> True\n"
     ]
    }
   ],
   "source": [
    "numeros = generate_numbers()\n",
    "\n",
    "logging.info(f'son Números decimales -> {numeros} ->  {numeros.isdecimal()}')\n",
    "logging.info(f'son Dígitos -> {numeros} -> {numeros.isdigit()}')\n",
    "logging.info(f'son tipo Númericos -> {numeros} -> {numeros.isnumeric()}')"
   ]
  },
  {
   "cell_type": "code",
   "execution_count": 63,
   "metadata": {},
   "outputs": [
    {
     "name": "stderr",
     "output_type": "stream",
     "text": [
      "2021-12-27 11:51:23 INFO: STRING GENERATED-> son Números flotantes -> 33410654834479.01 ->  False\n",
      "2021-12-27 11:51:23 INFO: STRING GENERATED-> son Dígitos -> 33410654834479.01 -> False\n",
      "2021-12-27 11:51:23 INFO: STRING GENERATED-> son  tipo Númericos -> 33410654834479.01 -> False\n"
     ]
    }
   ],
   "source": [
    "numeros_flotantes = str(int(generate_numbers()) / 192519503178.213)\n",
    "\n",
    "logging.info(f'son Números flotantes -> {numeros_flotantes} ->  {numeros_flotantes.isdecimal()}')\n",
    "logging.info(f'son Dígitos -> {numeros_flotantes} -> {numeros_flotantes.isdigit()}')\n",
    "logging.info(f'son  tipo Númericos -> {numeros_flotantes} -> {numeros_flotantes.isnumeric()}')"
   ]
  },
  {
   "cell_type": "code",
   "execution_count": 64,
   "metadata": {},
   "outputs": [
    {
     "name": "stderr",
     "output_type": "stream",
     "text": [
      "2021-12-27 11:51:23 INFO: STRING GENERATED-> son Números Binarios -> 0b11000010110111111110000111110011001000110000111110000111011101001110110001101010101 ->  True\n",
      "2021-12-27 11:51:23 INFO: STRING GENERATED-> son Números Binarios -> 11000010110111111110000111110011001000110000111110000111011101001110110001101010101 ->  True\n"
     ]
    }
   ],
   "source": [
    "binario = bin(int(numeros))\n",
    "validacion = all(b in ['0','1'] for b in binario[2:])\n",
    "logging.info(f'son Números Binarios -> {binario} ->  {validacion}')\n",
    "\n",
    "binario_format = format(int(numeros), \"b\")\n",
    "validacion_format = all(b in ['0','1'] for b in binario_format)\n",
    "logging.info(f'son Números Binarios -> {binario_format} ->  {validacion_format}')"
   ]
  },
  {
   "cell_type": "code",
   "execution_count": 65,
   "metadata": {},
   "outputs": [
    {
     "name": "stderr",
     "output_type": "stream",
     "text": [
      "2021-12-27 11:51:23 INFO: STRING GENERATED-> son Números Octal -> 0o3026776076310607607351661525 ->  True\n",
      "2021-12-27 11:51:23 INFO: STRING GENERATED-> son Números Octal -> 3026776076310607607351661525 -> True\n"
     ]
    }
   ],
   "source": [
    "octal = oct(int(numeros))\n",
    "validacion = all(o in [str(i) for i in range(8)] for o in octal[2:])\n",
    "logging.info(f'son Números Octal -> {octal} ->  {validacion}')\n",
    "\n",
    "octal_format = format(int(numeros), \"o\")\n",
    "validacion_octal = all(o in [str(i) for i in range(8)] for o in octal_format)\n",
    "logging.info(f'son Números Octal -> {octal_format} -> {validacion_octal}')"
   ]
  },
  {
   "cell_type": "code",
   "execution_count": 66,
   "metadata": {},
   "outputs": [
    {
     "name": "stderr",
     "output_type": "stream",
     "text": [
      "2021-12-27 11:51:23 INFO: STRING GENERATED-> son  tipo Hexadecimal -> 0x616ff0f99187c3ba76355 -> True\n",
      "2021-12-27 11:51:23 INFO: STRING GENERATED-> son  tipo Hexadecimal -> 616ff0f99187c3ba76355 -> True\n"
     ]
    }
   ],
   "source": [
    "hexadecimal = hex(int(numeros))\n",
    "validacion = all(x in string.hexdigits for x in hexadecimal[2:])\n",
    "logging.info(f'son  tipo Hexadecimal -> {hexadecimal} -> {validacion}')\n",
    "\n",
    "hexadecimal_format = format(int(numeros), \"x\")\n",
    "validacion_hexadecimal_format = all(x in string.hexdigits for x in hexadecimal_format)\n",
    "logging.info(f'son  tipo Hexadecimal -> {hexadecimal_format} -> {validacion_hexadecimal_format}')"
   ]
  },
  {
   "cell_type": "code",
   "execution_count": 67,
   "metadata": {},
   "outputs": [
    {
     "name": "stderr",
     "output_type": "stream",
     "text": [
      "2021-12-27 11:51:23 INFO: STRING GENERATED-> son  tipo Númericos -> 5.963343e+15 -> False\n"
     ]
    },
    {
     "data": {
      "text/plain": [
       "'5.963343e+15'"
      ]
     },
     "execution_count": 67,
     "metadata": {},
     "output_type": "execute_result"
    }
   ],
   "source": [
    "#exponencial = exp(int(numeros)//1234567890)\n",
    "exponencial_format = format(int(numeros)//1234567890, \"e\")\n",
    "\n",
    "logging.info(f'son  tipo Númericos -> {exponencial_format} -> {exponencial_format.isnumeric()}')\n",
    "exponencial_format"
   ]
  },
  {
   "cell_type": "code",
   "execution_count": 68,
   "metadata": {},
   "outputs": [
    {
     "data": {
      "text/plain": [
       "5963343000000000"
      ]
     },
     "execution_count": 68,
     "metadata": {},
     "output_type": "execute_result"
    }
   ],
   "source": [
    "int(float(exponencial_format))"
   ]
  },
  {
   "cell_type": "markdown",
   "metadata": {},
   "source": [
    "# <center> Dividir Cadenas</center>"
   ]
  },
  {
   "cell_type": "code",
   "execution_count": 69,
   "metadata": {},
   "outputs": [
    {
     "data": {
      "text/plain": [
       "'B9G6s#Y38c5#0ExuH#RN2rZ#UbtEF#Ttkht#Gydo9#5AqkC#dUcvx#0TJjJB9G6s#Y38c5#0ExuH#RN2rZ#UbtEF#Ttkht#Gydo9#5AqkC#dUcvx#0TJjJ'"
      ]
     },
     "execution_count": 69,
     "metadata": {},
     "output_type": "execute_result"
    }
   ],
   "source": [
    "caracter = '#'\n",
    "palabra =  get_random_function() * 2\n",
    "palabra = palabra.replace(' ', caracter)\n",
    "palabra"
   ]
  },
  {
   "cell_type": "code",
   "execution_count": 70,
   "metadata": {},
   "outputs": [
    {
     "name": "stderr",
     "output_type": "stream",
     "text": [
      "2021-12-27 11:51:24 INFO: STRING GENERATED-> son Divididos -> B9G6s#Y38c5#0ExuH#RN2rZ#UbtEF#Ttkht#Gydo9#5AqkC#dUcvx#0TJjJB9G6s#Y38c5#0ExuH#RN2rZ#UbtEF#Ttkht#Gydo9#5AqkC#dUcvx#0TJjJ => ['B9G6s', 'Y38c5', '0ExuH', 'RN2rZ', 'UbtEF', 'Ttkht', 'Gydo9', '5AqkC', 'dUcvx', '0TJjJB9G6s', 'Y38c5', '0ExuH', 'RN2rZ', 'UbtEF', 'Ttkht', 'Gydo9', '5AqkC', 'dUcvx', '0TJjJ']\n"
     ]
    }
   ],
   "source": [
    "logging.info(f'son Divididos -> {palabra} => {palabra.split(caracter)}')"
   ]
  },
  {
   "cell_type": "code",
   "execution_count": 71,
   "metadata": {},
   "outputs": [
    {
     "name": "stderr",
     "output_type": "stream",
     "text": [
      "2021-12-27 11:51:24 INFO: STRING GENERATED-> son Particionados -> B9G6s#Y38c5#0ExuH#RN2rZ#UbtEF#Ttkht#Gydo9#5AqkC#dUcvx#0TJjJB9G6s#Y38c5#0ExuH#RN2rZ#UbtEF#Ttkht#Gydo9#5AqkC#dUcvx#0TJjJ => ('B9G6s', '#', 'Y38c5#0ExuH#RN2rZ#UbtEF#Ttkht#Gydo9#5AqkC#dUcvx#0TJjJB9G6s#Y38c5#0ExuH#RN2rZ#UbtEF#Ttkht#Gydo9#5AqkC#dUcvx#0TJjJ')\n"
     ]
    }
   ],
   "source": [
    "logging.info(f'son Particionados -> {palabra} => {palabra.partition(caracter)}')"
   ]
  },
  {
   "cell_type": "code",
   "execution_count": 72,
   "metadata": {},
   "outputs": [
    {
     "name": "stderr",
     "output_type": "stream",
     "text": [
      "2021-12-27 11:51:25 INFO: STRING GENERATED-> son Particionados desde la derecha-> B9G6s#Y38c5#0ExuH#RN2rZ#UbtEF#Ttkht#Gydo9#5AqkC#dUcvx#0TJjJB9G6s#Y38c5#0ExuH#RN2rZ#UbtEF#Ttkht#Gydo9#5AqkC#dUcvx#0TJjJ => ('B9G6s#Y38c5#0ExuH#RN2rZ#UbtEF#Ttkht#Gydo9#5AqkC#dUcvx#0TJjJB9G6s#Y38c5#0ExuH#RN2rZ#UbtEF#Ttkht#Gydo9#5AqkC#dUcvx', '#', '0TJjJ')\n"
     ]
    }
   ],
   "source": [
    "logging.info(f'son Particionados desde la derecha-> {palabra} => {palabra.rpartition(caracter)}')"
   ]
  },
  {
   "cell_type": "code",
   "execution_count": 73,
   "metadata": {},
   "outputs": [
    {
     "name": "stderr",
     "output_type": "stream",
     "text": [
      "2021-12-27 11:51:25 INFO: STRING GENERATED-> son Divididos en 1 parte adicional -> B9G6s#Y38c5#0ExuH#RN2rZ#UbtEF#Ttkht#Gydo9#5AqkC#dUcvx#0TJjJB9G6s#Y38c5#0ExuH#RN2rZ#UbtEF#Ttkht#Gydo9#5AqkC#dUcvx#0TJjJ => ['B9G6s#Y38c5#0ExuH#RN2rZ#UbtEF#Ttkht#Gydo9#5AqkC#dUcvx#0TJjJB9G6s#Y38c5#0ExuH#RN2rZ#UbtEF#Ttkht#Gydo9#5AqkC#dUcvx', '0TJjJ']\n"
     ]
    }
   ],
   "source": [
    "logging.info(f'son Divididos en 1 parte adicional -> {palabra} => {palabra.rsplit(caracter,1)}')"
   ]
  },
  {
   "cell_type": "code",
   "execution_count": 74,
   "metadata": {},
   "outputs": [
    {
     "name": "stderr",
     "output_type": "stream",
     "text": [
      "2021-12-27 11:51:25 INFO: STRING GENERATED-> son Divididos en 4 parte adicional -> B9G6s#Y38c5#0ExuH#RN2rZ#UbtEF#Ttkht#Gydo9#5AqkC#dUcvx#0TJjJB9G6s#Y38c5#0ExuH#RN2rZ#UbtEF#Ttkht#Gydo9#5AqkC#dUcvx#0TJjJ => ['B9G6s', 'Y38c5', '0ExuH', 'RN2rZ', 'UbtEF#Ttkht#Gydo9#5AqkC#dUcvx#0TJjJB9G6s#Y38c5#0ExuH#RN2rZ#UbtEF#Ttkht#Gydo9#5AqkC#dUcvx#0TJjJ']\n"
     ]
    }
   ],
   "source": [
    "logging.info(f'son Divididos en 4 parte adicional -> {palabra} => {palabra.split(caracter,4)}')"
   ]
  },
  {
   "cell_type": "code",
   "execution_count": 75,
   "metadata": {},
   "outputs": [
    {
     "name": "stderr",
     "output_type": "stream",
     "text": [
      "2021-12-27 11:51:26 INFO: STRING GENERATED-> son Reemplazados por caracter especifico las veces definidas -> B9G6s#Y38c5#0ExuH#RN2rZ#UbtEF#Ttkht#Gydo9#5AqkC#dUcvx#0TJjJB9G6s#Y38c5#0ExuH#RN2rZ#UbtEF#Ttkht#Gydo9#5AqkC#dUcvx#0TJjJ => B9G6s---NEW---Y38c5---NEW---0ExuH---NEW---RN2rZ#UbtEF#Ttkht#Gydo9#5AqkC#dUcvx#0TJjJB9G6s#Y38c5#0ExuH#RN2rZ#UbtEF#Ttkht#Gydo9#5AqkC#dUcvx#0TJjJ\n"
     ]
    }
   ],
   "source": [
    "logging.info(f'son Reemplazados por caracter especifico las veces definidas -> {palabra} => {palabra.replace(caracter, \"---NEW---\", 3)}')"
   ]
  },
  {
   "cell_type": "code",
   "execution_count": 76,
   "metadata": {},
   "outputs": [
    {
     "name": "stderr",
     "output_type": "stream",
     "text": [
      "2021-12-27 11:51:26 INFO: STRING GENERATED-> son Reemplazados por caracter especifico las veces definidas -> B9G6s#Y38c5#0ExuH#RN2rZ#UbtEF#Ttkht#Gydo9#5AqkC#dUcvx#0TJjJB9G6s#Y38c5#0ExuH#RN2rZ#UbtEF#Ttkht#Gydo9#5AqkC#dUcvx#0TJjJ => B9G6s#Y38c5#0ExuH#RN2rZ#UbtEF#Ttkht#Gydo9#5AqkC#dUcvx#0TJjJB9G6s#Y38c5#0ExuH#RN2rZ#UbtEF#Ttkht#Gydo9---NEW---5AqkC---NEW---dUcvx---NEW---0TJjJ\n"
     ]
    }
   ],
   "source": [
    "logging.info(f'son Reemplazados por caracter especifico las veces definidas -> {palabra} => {palabra[::-1].replace(caracter, \"---NEW---\"[::-1], 3)[::-1]}')"
   ]
  },
  {
   "cell_type": "markdown",
   "metadata": {},
   "source": [
    "# <center> Busqueda en cadenas </center>"
   ]
  },
  {
   "cell_type": "code",
   "execution_count": 77,
   "metadata": {},
   "outputs": [
    {
     "data": {
      "text/plain": [
       "'eda05 9f3-e 5b2-4 e23-8 982-5 947b6 867d3 0eda05 9f3-e 5b2-4 e23-8 982-5 947b6 867d3 0'"
      ]
     },
     "execution_count": 77,
     "metadata": {},
     "output_type": "execute_result"
    }
   ],
   "source": [
    "palabra =  get_random_function() * 2\n",
    "caracter = random.choice(palabra)\n",
    "palabra"
   ]
  },
  {
   "cell_type": "code",
   "execution_count": 78,
   "metadata": {},
   "outputs": [
    {
     "name": "stderr",
     "output_type": "stream",
     "text": [
      "2021-12-27 11:51:28 INFO: STRING GENERATED-> el caracter 3 esta 6 veces en -> eda05 9f3-e 5b2-4 e23-8 982-5 947b6 867d3 0eda05 9f3-e 5b2-4 e23-8 982-5 947b6 867d3 0\n"
     ]
    }
   ],
   "source": [
    "logging.info(f'el caracter {caracter} esta {palabra.count(caracter)} veces en -> {palabra}')"
   ]
  },
  {
   "cell_type": "code",
   "execution_count": 79,
   "metadata": {},
   "outputs": [
    {
     "name": "stderr",
     "output_type": "stream",
     "text": [
      "2021-12-27 11:51:28 INFO: STRING GENERATED-> el caracter 3 esta 3 veces en -> eda05 9f3-e 5b2-4 e23-8 982-5 947b6 867d3 0eda05 9f3-e 5b2-4 e23-8 982-5 947b6 867d3 0\n"
     ]
    }
   ],
   "source": [
    "logging.info(f'el caracter {caracter} esta {palabra.count(caracter, 0, len(palabra)//2)} veces en -> {palabra}')"
   ]
  },
  {
   "cell_type": "code",
   "execution_count": 80,
   "metadata": {},
   "outputs": [
    {
     "name": "stderr",
     "output_type": "stream",
     "text": [
      "2021-12-27 11:51:29 INFO: STRING GENERATED-> el caracter 3 esta 3 veces en -> eda05 9f3-e 5b2-4 e23-8 982-5 947b6 867d3 0eda05 9f3-e 5b2-4 e23-8 982-5 947b6 867d3 0\n"
     ]
    }
   ],
   "source": [
    "logging.info(f'el caracter {caracter} esta {palabra.count(caracter, len(palabra)//4,  3*len(palabra)//4)} veces en -> {palabra}')"
   ]
  },
  {
   "cell_type": "code",
   "execution_count": 81,
   "metadata": {},
   "outputs": [
    {
     "ename": "ValueError",
     "evalue": "substring not found",
     "output_type": "error",
     "traceback": [
      "\u001b[1;31m---------------------------------------------------------------------------\u001b[0m",
      "\u001b[1;31mValueError\u001b[0m                                Traceback (most recent call last)",
      "\u001b[1;32m~\\AppData\\Local\\Temp/ipykernel_15952/1456712409.py\u001b[0m in \u001b[0;36m<module>\u001b[1;34m\u001b[0m\n\u001b[1;32m----> 1\u001b[1;33m \u001b[0mlogging\u001b[0m\u001b[1;33m.\u001b[0m\u001b[0minfo\u001b[0m\u001b[1;33m(\u001b[0m\u001b[1;34mf'el caracter {caracter} el INDICE de la primera aparicion esta en la posicion {palabra.index(\"caracter\")}  en -> {palabra}'\u001b[0m\u001b[1;33m)\u001b[0m\u001b[1;33m\u001b[0m\u001b[1;33m\u001b[0m\u001b[0m\n\u001b[0m",
      "\u001b[1;31mValueError\u001b[0m: substring not found"
     ]
    }
   ],
   "source": [
    "logging.info(f'el caracter {caracter} el INDICE de la primera aparicion esta en la posicion {palabra.index(\"caracter\")}  en -> {palabra}')"
   ]
  },
  {
   "cell_type": "code",
   "execution_count": 82,
   "metadata": {},
   "outputs": [
    {
     "name": "stderr",
     "output_type": "stream",
     "text": [
      "2021-12-27 11:51:32 INFO: STRING GENERATED-> el caracter 3 el INDICE de la primera aparicion esta en la posicion 8  en -> eda05 9f3-e 5b2-4 e23-8 982-5 947b6 867d3 0eda05 9f3-e 5b2-4 e23-8 982-5 947b6 867d3 0\n"
     ]
    }
   ],
   "source": [
    "logging.info(f'el caracter {caracter} el INDICE de la primera aparicion esta en la posicion {palabra.index(caracter)}  en -> {palabra}')"
   ]
  },
  {
   "cell_type": "code",
   "execution_count": 83,
   "metadata": {},
   "outputs": [
    {
     "name": "stderr",
     "output_type": "stream",
     "text": [
      "2021-12-27 11:51:33 INFO: STRING GENERATED-> el caracter 3 la primera aparicion esta en la posicion 8  en -> eda05 9f3-e 5b2-4 e23-8 982-5 947b6 867d3 0eda05 9f3-e 5b2-4 e23-8 982-5 947b6 867d3 0\n"
     ]
    }
   ],
   "source": [
    "logging.info(f'el caracter {caracter} la primera aparicion esta en la posicion {palabra.find(caracter)}  en -> {palabra}')"
   ]
  },
  {
   "cell_type": "code",
   "execution_count": 84,
   "metadata": {},
   "outputs": [
    {
     "name": "stderr",
     "output_type": "stream",
     "text": [
      "2021-12-27 11:51:34 INFO: STRING GENERATED-> la ultima posicion del caracter 3 esta en 83  en -> eda05 9f3-e 5b2-4 e23-8 982-5 947b6 867d3 0eda05 9f3-e 5b2-4 e23-8 982-5 947b6 867d3 0\n"
     ]
    }
   ],
   "source": [
    "logging.info(f'la ultima posicion del caracter {caracter} esta en {palabra.rfind(caracter)}  en -> {palabra}')"
   ]
  },
  {
   "cell_type": "code",
   "execution_count": 85,
   "metadata": {},
   "outputs": [
    {
     "name": "stderr",
     "output_type": "stream",
     "text": [
      "2021-12-27 11:51:34 INFO: STRING GENERATED-> la proxima posicion del caracter 3 esta en la posicion -> 20  en -> eda05 9f3-e 5b2-4 e23-8 982-5 947b6 867d3 0eda05 9f3-e 5b2-4 e23-8 982-5 947b6 867d3 0\n"
     ]
    }
   ],
   "source": [
    "logging.info(f'la proxima posicion del caracter {caracter} esta en la posicion -> {palabra.find(caracter, 13)}  en -> {palabra}')"
   ]
  },
  {
   "cell_type": "code",
   "execution_count": 86,
   "metadata": {},
   "outputs": [
    {
     "name": "stderr",
     "output_type": "stream",
     "text": [
      "2021-12-27 11:51:34 INFO: STRING GENERATED-> la proxima posicion del caracter 3 esta en la posicion -> 83  en -> eda05 9f3-e 5b2-4 e23-8 982-5 947b6 867d3 0eda05 9f3-e 5b2-4 e23-8 982-5 947b6 867d3 0\n"
     ]
    }
   ],
   "source": [
    "logging.info(f'la proxima posicion del caracter {caracter} esta en la posicion -> {palabra.rfind(caracter, 57)}  en -> {palabra}')"
   ]
  },
  {
   "cell_type": "code",
   "execution_count": 87,
   "metadata": {},
   "outputs": [
    {
     "name": "stderr",
     "output_type": "stream",
     "text": [
      "2021-12-27 11:51:35 INFO: STRING GENERATED-> la cadena tiene el caracter 3 en las siguientes posiciones  -> ['3 -> 8', '3 -> 20', '3 -> 40', '3 -> 51', '3 -> 63', '3 -> 83']  en -> eda05 9f3-e 5b2-4 e23-8 982-5 947b6 867d3 0eda05 9f3-e 5b2-4 e23-8 982-5 947b6 867d3 0\n"
     ]
    }
   ],
   "source": [
    "ocurrencias = [str(j) + ' -> ' + str(i) for i,j in enumerate(palabra) if j == caracter]\n",
    "\n",
    "logging.info(f'la cadena tiene el caracter {caracter} en las siguientes posiciones  -> {ocurrencias}  en -> {palabra}')"
   ]
  },
  {
   "cell_type": "code",
   "execution_count": 88,
   "metadata": {},
   "outputs": [
    {
     "name": "stderr",
     "output_type": "stream",
     "text": [
      "2021-12-27 11:51:35 INFO: STRING GENERATED-> la cadena inicia con el caracter 3  -> False  en -> eda05 9f3-e 5b2-4 e23-8 982-5 947b6 867d3 0eda05 9f3-e 5b2-4 e23-8 982-5 947b6 867d3 0\n"
     ]
    }
   ],
   "source": [
    "logging.info(f'la cadena inicia con el caracter {caracter}  -> {palabra.startswith(caracter)}  en -> {palabra}')"
   ]
  },
  {
   "cell_type": "code",
   "execution_count": 89,
   "metadata": {},
   "outputs": [
    {
     "name": "stderr",
     "output_type": "stream",
     "text": [
      "2021-12-27 11:51:38 INFO: STRING GENERATED-> la cadena finaliza con el caracter d3 0  -> True  en -> eda05 9f3-e 5b2-4 e23-8 982-5 947b6 867d3 0eda05 9f3-e 5b2-4 e23-8 982-5 947b6 867d3 0\n"
     ]
    }
   ],
   "source": [
    "logging.info(f'la cadena finaliza con el caracter {palabra[-4:]}  -> {palabra.endswith(palabra[-4:])}  en -> {palabra}')"
   ]
  },
  {
   "cell_type": "code",
   "execution_count": 90,
   "metadata": {},
   "outputs": [
    {
     "name": "stderr",
     "output_type": "stream",
     "text": [
      "2021-12-27 11:51:39 INFO: STRING GENERATED-> la cadena finaliza con el caracter b'eda05 9f3-e 5b2-4 e23-8 982-5 947b6 867d3 0eda05 9f3-e 5b2-4 e23-8 982-5 947b6 867d3 0'  -> b'eda05 9f3-e 5b2-4 e23-8 982-5 947b6 867d3 0eda05 9f3-e 5b2-4 e23-8 982-5 947b6 867d3 0'  en -> b'eda05 9f3-e 5b2-4 e23-8 982-5 947b6 867d3 0eda05 9f3-e 5b2-4 e23-8 982-5 947b6 867d3 0'\n"
     ]
    }
   ],
   "source": [
    "logging.info(f'la cadena finaliza con el caracter {palabra.encode(\"utf-8\")}  -> {palabra.encode(\"utf-8\")}  en -> {palabra.encode(\"utf-8\")}')"
   ]
  },
  {
   "cell_type": "markdown",
   "metadata": {},
   "source": [
    "# <center> IN & NOT IN para evitar el uso de Múltiples OR</center>"
   ]
  },
  {
   "cell_type": "code",
   "execution_count": 91,
   "metadata": {},
   "outputs": [],
   "source": [
    "from pprint import pprint\n",
    "valor:int = 31\n",
    "\n",
    "def esta_el_valor(valor:int) -> bool:\n",
    "    \n",
    "    if (valor == 1 or valor == 2 or valor == 3 or valor == 7 or valor == 13 or valor == 31):\n",
    "        return True\n",
    "    \n",
    "    return False"
   ]
  },
  {
   "cell_type": "code",
   "execution_count": 92,
   "metadata": {},
   "outputs": [
    {
     "data": {
      "text/plain": [
       "True"
      ]
     },
     "execution_count": 92,
     "metadata": {},
     "output_type": "execute_result"
    }
   ],
   "source": [
    "esta_el_valor(valor)"
   ]
  },
  {
   "cell_type": "code",
   "execution_count": 93,
   "metadata": {},
   "outputs": [],
   "source": [
    "def esta_el_elemento_en_lista(valor:int) -> bool:\n",
    "    \n",
    "    return valor in [1,2,3,7,13,31]"
   ]
  },
  {
   "cell_type": "code",
   "execution_count": 94,
   "metadata": {},
   "outputs": [
    {
     "data": {
      "text/plain": [
       "True"
      ]
     },
     "execution_count": 94,
     "metadata": {},
     "output_type": "execute_result"
    }
   ],
   "source": [
    "esta_el_elemento_en_lista(valor)"
   ]
  },
  {
   "cell_type": "code",
   "execution_count": 95,
   "metadata": {},
   "outputs": [],
   "source": [
    "def esta_el_elemento_en_string(valor:str) -> bool:\n",
    "    \n",
    "    return valor in '0123456789'"
   ]
  },
  {
   "cell_type": "code",
   "execution_count": 96,
   "metadata": {},
   "outputs": [
    {
     "data": {
      "text/plain": [
       "True"
      ]
     },
     "execution_count": 96,
     "metadata": {},
     "output_type": "execute_result"
    }
   ],
   "source": [
    "esta_el_elemento_en_string('7')"
   ]
  },
  {
   "cell_type": "code",
   "execution_count": 97,
   "metadata": {},
   "outputs": [],
   "source": [
    "palabra = generate_characters(15)\n",
    "numeros = generate_numbers(15)\n",
    "\n",
    "cadena = palabra[0:3]\n",
    "numero = numeros[4:7]\n",
    "numeros_impares = numeros[::2]\n",
    "validar_letra = random.choice(palabra)\n",
    "validar_numero = random.choice(numeros)"
   ]
  },
  {
   "cell_type": "code",
   "execution_count": 98,
   "metadata": {},
   "outputs": [
    {
     "name": "stderr",
     "output_type": "stream",
     "text": [
      "2021-12-27 11:53:31 INFO: STRING GENERATED-> la cadena -> FzJ ESTA en la palabra FzJpHOafWAEWCCZ -> True\n",
      "2021-12-27 11:53:31 INFO: STRING GENERATED-> el caracter -> W ESTA en la palabra FzJpHOafWAEWCCZ -> True\n",
      "2021-12-27 11:53:31 INFO: STRING GENERATED-> el numero -> 226 ESTA en la cadena de numeros 256722629636007 -> True\n",
      "2021-12-27 11:53:31 INFO: STRING GENERATED-> el numero -> 26269307 ESTA en la cadena de numeros 256722629636007 -> False\n",
      "2021-12-27 11:53:31 INFO: STRING GENERATED-> el numero -> 226 ESTA en la cadena de numeros 256722629636007 -> True\n"
     ]
    }
   ],
   "source": [
    "logging.info(f'la cadena -> {cadena} ESTA en la palabra {palabra} -> {cadena in palabra}')\n",
    "logging.info(f'el caracter -> {validar_letra} ESTA en la palabra {palabra} -> {validar_letra in palabra}')\n",
    "logging.info(f'el numero -> {numero} ESTA en la cadena de numeros {numeros} -> {numero in numeros}')\n",
    "logging.info(f'el numero -> {numeros_impares} ESTA en la cadena de numeros {numeros} -> {numeros_impares in numeros}')\n",
    "logging.info(f'el numero -> {numero} ESTA en la cadena de numeros {numeros} -> {numero in numeros}')"
   ]
  },
  {
   "cell_type": "code",
   "execution_count": 99,
   "metadata": {},
   "outputs": [
    {
     "name": "stderr",
     "output_type": "stream",
     "text": [
      "2021-12-27 11:54:30 INFO: STRING GENERATED-> la cadena -> FzJ NO ESTA en la palabra FzJpHOafWAEWCCZ -> False\n",
      "2021-12-27 11:54:30 INFO: STRING GENERATED-> el caracter -> W NO ESTA en la palabra FzJpHOafWAEWCCZ -> False\n",
      "2021-12-27 11:54:30 INFO: STRING GENERATED-> el numero -> 226 NO ESTA en la cadena de numeros 256722629636007 -> False\n",
      "2021-12-27 11:54:30 INFO: STRING GENERATED-> el numero -> 26269307 NO ESTA en la cadena de numeros 256722629636007 -> True\n"
     ]
    }
   ],
   "source": [
    "logging.info(f'la cadena -> {cadena} NO ESTA en la palabra {palabra} -> {cadena not in palabra}')\n",
    "logging.info(f'el caracter -> {validar_letra} NO ESTA en la palabra {palabra} -> {validar_letra not in palabra}')\n",
    "logging.info(f'el numero -> {numero} NO ESTA en la cadena de numeros {numeros} -> {numero not in numeros}')\n",
    "logging.info(f'el numero -> {numeros_impares} NO ESTA en la cadena de numeros {numeros} -> {numeros_impares not in numeros}')"
   ]
  },
  {
   "cell_type": "code",
   "execution_count": 100,
   "metadata": {},
   "outputs": [
    {
     "name": "stderr",
     "output_type": "stream",
     "text": [
      "2021-12-27 11:55:01 INFO: STRING GENERATED-> el numero -> 2 ESTA en el diccionario {'2': '2', '5': '5', '6': '6', '7': '7', '9': '9', '3': '3', '0': '0'} -> True\n",
      "2021-12-27 11:55:01 INFO: STRING GENERATED-> el numero -> 2 NO ESTA en el diccionario {'2': '2', '5': '5', '6': '6', '7': '7', '9': '9', '3': '3', '0': '0'} -> False\n"
     ]
    }
   ],
   "source": [
    "diccionario = {x:x for x in numeros}\n",
    "logging.info(f'el numero -> {validar_numero} ESTA en el diccionario {diccionario} -> {validar_numero in diccionario}')\n",
    "logging.info(f'el numero -> {validar_numero} NO ESTA en el diccionario {diccionario} -> {validar_numero not in diccionario}')"
   ]
  },
  {
   "cell_type": "code",
   "execution_count": 101,
   "metadata": {},
   "outputs": [
    {
     "name": "stderr",
     "output_type": "stream",
     "text": [
      "2021-12-27 11:55:19 INFO: STRING GENERATED-> el caracter -> W ESTA en el conjunto {'O', 'p', 'A', 'H', 'C', 'W', 'f', 'J', 'Z', 'E', 'a', 'F', 'z'} -> True\n",
      "2021-12-27 11:55:19 INFO: STRING GENERATED-> el caracter -> W NO ESTA en el conjunto {'O', 'p', 'A', 'H', 'C', 'W', 'f', 'J', 'Z', 'E', 'a', 'F', 'z'} -> False\n"
     ]
    }
   ],
   "source": [
    "conjunto = set(palabra)\n",
    "logging.info(f'el caracter -> {validar_letra} ESTA en el conjunto {conjunto} -> {validar_letra in conjunto}')\n",
    "logging.info(f'el caracter -> {validar_letra} NO ESTA en el conjunto {conjunto} -> {validar_letra not in conjunto}')"
   ]
  },
  {
   "cell_type": "code",
   "execution_count": 102,
   "metadata": {},
   "outputs": [
    {
     "name": "stderr",
     "output_type": "stream",
     "text": [
      "2021-12-27 11:55:21 INFO: STRING GENERATED-> el numero -> 2 ESTA en la lista ['2', '5', '6', '7', '2', '2', '6', '2', '9', '6', '3', '6', '0', '0', '7'] -> True\n",
      "2021-12-27 11:55:21 INFO: STRING GENERATED-> el numero -> 2 NO ESTA en la lista {'2': '2', '5': '5', '6': '6', '7': '7', '9': '9', '3': '3', '0': '0'} -> False\n"
     ]
    }
   ],
   "source": [
    "lista = list(numeros)\n",
    "logging.info(f'el numero -> {validar_numero} ESTA en la lista {lista} -> {validar_numero in lista}')\n",
    "logging.info(f'el numero -> {validar_numero} NO ESTA en la lista {diccionario} -> {validar_numero not in lista}')"
   ]
  },
  {
   "cell_type": "code",
   "execution_count": 103,
   "metadata": {},
   "outputs": [
    {
     "name": "stderr",
     "output_type": "stream",
     "text": [
      "2021-12-27 11:55:23 INFO: STRING GENERATED-> el caracter -> W ESTA en la tupla ('F', 'z', 'J', 'p', 'H', 'O', 'a', 'f', 'W', 'A', 'E', 'W', 'C', 'C', 'Z') -> True\n",
      "2021-12-27 11:55:23 INFO: STRING GENERATED-> el caracter -> W NO ESTA en la tupla ('F', 'z', 'J', 'p', 'H', 'O', 'a', 'f', 'W', 'A', 'E', 'W', 'C', 'C', 'Z') -> False\n"
     ]
    }
   ],
   "source": [
    "tupla = tuple(palabra)\n",
    "logging.info(f'el caracter -> {validar_letra} ESTA en la tupla {tupla} -> {validar_letra in tupla}')\n",
    "logging.info(f'el caracter -> {validar_letra} NO ESTA en la tupla {tupla} -> {validar_letra not in tupla}')"
   ]
  }
 ],
 "metadata": {
  "kernelspec": {
   "display_name": "Python 3 (ipykernel)",
   "language": "python",
   "name": "python3"
  },
  "language_info": {
   "codemirror_mode": {
    "name": "ipython",
    "version": 3
   },
   "file_extension": ".py",
   "mimetype": "text/x-python",
   "name": "python",
   "nbconvert_exporter": "python",
   "pygments_lexer": "ipython3",
   "version": "3.9.7"
  }
 },
 "nbformat": 4,
 "nbformat_minor": 4
}
