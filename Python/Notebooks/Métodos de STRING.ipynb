{
 "cells": [
  {
   "cell_type": "code",
   "execution_count": 1,
   "metadata": {},
   "outputs": [
    {
     "name": "stderr",
     "output_type": "stream",
     "text": [
      "C:\\Users\\QiDimMak\\AppData\\Local\\Temp\\ipykernel_14708\\3777615979.py:1: DeprecationWarning: Importing display from IPython.core.display is deprecated since IPython 7.14, please import from IPython display\n",
      "  from IPython.core.display import display, HTML\n"
     ]
    },
    {
     "data": {
      "text/html": [
       "<style>.container { width:100% !important; }</style>"
      ],
      "text/plain": [
       "<IPython.core.display.HTML object>"
      ]
     },
     "metadata": {},
     "output_type": "display_data"
    }
   ],
   "source": [
    "from IPython.core.display import display, HTML\n",
    "display(HTML(\"<style>.container { width:100% !important; }</style>\"))"
   ]
  },
  {
   "cell_type": "code",
   "execution_count": 2,
   "metadata": {},
   "outputs": [
    {
     "data": {
      "text/html": [
       "\n",
       "<style>\n",
       "div.output_stderr {\n",
       "    background: #85C1E9;\n",
       "}\n",
       "</style>\n"
      ],
      "text/plain": [
       "<IPython.core.display.HTML object>"
      ]
     },
     "execution_count": 2,
     "metadata": {},
     "output_type": "execute_result"
    }
   ],
   "source": [
    "# cmabiar el color rojo del log a Azul\n",
    "from IPython.core.display import HTML\n",
    "HTML(\"\"\"\n",
    "<style>\n",
    "div.output_stderr {\n",
    "    background: #85C1E9;\n",
    "}\n",
    "</style>\n",
    "\"\"\")"
   ]
  },
  {
   "cell_type": "code",
   "execution_count": 3,
   "metadata": {},
   "outputs": [
    {
     "name": "stdout",
     "output_type": "stream",
     "text": [
      "3.10.9\n"
     ]
    }
   ],
   "source": [
    "from platform import python_version\n",
    "\n",
    "print(python_version())"
   ]
  },
  {
   "cell_type": "code",
   "execution_count": 4,
   "metadata": {},
   "outputs": [
    {
     "name": "stderr",
     "output_type": "stream",
     "text": [
      "2023-03-02 21:19:11 INFO: STRING GENERATED-> son ejemplo_numerico -> [0, 0, 1, 0, 0, 0, 0, 0, 1, 0, 1, 1, 1, 0, 1, 0, 1, 1, 0, 1]\n",
      "2023-03-02 21:19:11 INFO: STRING GENERATED-> son ejemplo_cast_numero -> [False, False, True, True, True, False, True, False, True, False, True, True, True, True, False, True, True, True, False, True]\n",
      "2023-03-02 21:19:11 INFO: STRING GENERATED-> son ejemplo_bool -> [False, False, False, False, False, False, True, True, False, False, False, False, True, True, True, False, False, False, True, True]\n",
      "2023-03-02 21:19:11 INFO: STRING GENERATED-> son ejemplo_bool_2 -> [False, False, True, True, False, False, True, True, True, True, True, True, True, False, True, False, False, True, False, False]\n",
      "2023-03-02 21:19:11 INFO: STRING GENERATED-> son ejemplo_vacio -> [None, False, 0, False, 0, 0, False, 0, None, None, '', False, '', 0, None, '', False, False, 0, '']\n",
      "2023-03-02 21:19:11 INFO: STRING GENERATED-> son ejemplo_vacio_espacio_false -> [' ', ' ', False, None, False, '', 0, False, '', 0, '', False, False, ' ', 0, 0, None, ' ', False, False]\n",
      "2023-03-02 21:19:11 INFO: STRING GENERATED-> son ejemplo_mixto -> ['-', None, ' ', '-', None, ' ', ' ', None, ' ', ' ', ' ', '', '-', '', None, '', '-', '-', None, None]\n"
     ]
    }
   ],
   "source": [
    "import random\n",
    "import logging\n",
    "\n",
    "limit = 20\n",
    "\n",
    "logging.basicConfig(format='%(asctime)s %(levelname)s: STRING GENERATED-> %(message)s', level=logging.DEBUG, datefmt='%Y-%m-%d %H:%M:%S')\n",
    "\n",
    "ejemplo_numerico = [random.randint(0,1) for i in range(limit)]\n",
    "logging.info(f'son ejemplo_numerico -> {ejemplo_numerico}')\n",
    "\n",
    "ejemplo_cast_numero = [bool(random.randint(0,1)) for i in range(limit)]\n",
    "logging.info(f'son ejemplo_cast_numero -> {ejemplo_cast_numero}')\n",
    "\n",
    "ejemplo_bool = [bool(random.getrandbits(1)) for i in range(limit)]\n",
    "logging.info(f'son ejemplo_bool -> {ejemplo_bool}')\n",
    "\n",
    "ejemplo_bool_2 = [random.choice([True, False]) for i in range(limit)]\n",
    "logging.info(f'son ejemplo_bool_2 -> {ejemplo_bool_2}')\n",
    "\n",
    "ejemplo_vacio = [random.choice(['', None, False, 0]) for i in range(limit)]\n",
    "logging.info(f'son ejemplo_vacio -> {ejemplo_vacio}')\n",
    "\n",
    "ejemplo_vacio_espacio_false = [random.choice(['', None, False, ' ', 0]) for i in range(limit)]\n",
    "logging.info(f'son ejemplo_vacio_espacio_false -> {ejemplo_vacio_espacio_false}')\n",
    "\n",
    "ejemplo_mixto = [random.choice(['', None, ' ', '-']) for i in range(limit)]\n",
    "logging.info(f'son ejemplo_mixto -> {ejemplo_mixto}')"
   ]
  },
  {
   "cell_type": "markdown",
   "metadata": {},
   "source": [
    "# <center> ALL -> VALIDA QUE TODO SEA VERDADERO </center>"
   ]
  },
  {
   "cell_type": "code",
   "execution_count": 5,
   "metadata": {},
   "outputs": [
    {
     "name": "stderr",
     "output_type": "stream",
     "text": [
      "2023-03-02 21:19:11 INFO: STRING GENERATED-> son ejemplo_verdadero[1, True, ' '] -> True\n",
      "2023-03-02 21:19:11 INFO: STRING GENERATED-> son ejemplo_numerico [0, 0, 1, 0, 0, 0, 0, 0, 1, 0, 1, 1, 1, 0, 1, 0, 1, 1, 0, 1] -> False\n",
      "2023-03-02 21:19:11 INFO: STRING GENERATED-> son ejemplo_cast_numero [False, False, True, True, True, False, True, False, True, False, True, True, True, True, False, True, True, True, False, True] -> False\n",
      "2023-03-02 21:19:11 INFO: STRING GENERATED-> son ejemplo_bool [False, False, False, False, False, False, True, True, False, False, False, False, True, True, True, False, False, False, True, True] -> False\n",
      "2023-03-02 21:19:11 INFO: STRING GENERATED-> son ejemplo_bool_2 [False, False, True, True, False, False, True, True, True, True, True, True, True, False, True, False, False, True, False, False] -> False\n",
      "2023-03-02 21:19:11 INFO: STRING GENERATED-> son ejemplo_vacio [None, False, 0, False, 0, 0, False, 0, None, None, '', False, '', 0, None, '', False, False, 0, ''] -> False\n",
      "2023-03-02 21:19:11 INFO: STRING GENERATED-> son ejemplo_vacio_espacio_false [' ', ' ', False, None, False, '', 0, False, '', 0, '', False, False, ' ', 0, 0, None, ' ', False, False] -> False\n",
      "2023-03-02 21:19:11 INFO: STRING GENERATED-> son ejemplo_mixto ['-', None, ' ', '-', None, ' ', ' ', None, ' ', ' ', ' ', '', '-', '', None, '', '-', '-', None, None] -> False\n"
     ]
    }
   ],
   "source": [
    "logging.info(f'son ejemplo_verdadero{[1,True,\" \"]} -> {all([1,True,\" \"])}')\n",
    "logging.info(f'son ejemplo_numerico {ejemplo_numerico} -> {all(ejemplo_numerico)}')\n",
    "logging.info(f'son ejemplo_cast_numero {ejemplo_cast_numero} -> {all(ejemplo_cast_numero)}')\n",
    "logging.info(f'son ejemplo_bool {ejemplo_bool} -> {all(ejemplo_bool)}')\n",
    "logging.info(f'son ejemplo_bool_2 {ejemplo_bool_2} -> {all(ejemplo_bool_2)}')\n",
    "logging.info(f'son ejemplo_vacio {ejemplo_vacio} -> {all(ejemplo_vacio)}')\n",
    "logging.info(f'son ejemplo_vacio_espacio_false {ejemplo_vacio_espacio_false} -> {all(ejemplo_vacio_espacio_false)}')\n",
    "logging.info(f'son ejemplo_mixto {ejemplo_mixto} -> {all(ejemplo_mixto)}')"
   ]
  },
  {
   "cell_type": "markdown",
   "metadata": {},
   "source": [
    "# <center> ANY -> VALIDA QUE POR LO MENOS UNO SEA VERDADERO </center>"
   ]
  },
  {
   "cell_type": "code",
   "execution_count": 6,
   "metadata": {},
   "outputs": [
    {
     "name": "stderr",
     "output_type": "stream",
     "text": [
      "2023-03-02 21:19:11 INFO: STRING GENERATED-> son ejemplo_numerico [0, 0, 1, 0, 0, 0, 0, 0, 1, 0, 1, 1, 1, 0, 1, 0, 1, 1, 0, 1] -> True\n",
      "2023-03-02 21:19:11 INFO: STRING GENERATED-> son ejemplo_cast_numero [False, False, True, True, True, False, True, False, True, False, True, True, True, True, False, True, True, True, False, True] -> True\n",
      "2023-03-02 21:19:11 INFO: STRING GENERATED-> son ejemplo_bool [False, False, False, False, False, False, True, True, False, False, False, False, True, True, True, False, False, False, True, True] -> True\n",
      "2023-03-02 21:19:11 INFO: STRING GENERATED-> son ejemplo_bool_2 [False, False, True, True, False, False, True, True, True, True, True, True, True, False, True, False, False, True, False, False] -> True\n",
      "2023-03-02 21:19:11 INFO: STRING GENERATED-> son ejemplo_vacio [None, False, 0, False, 0, 0, False, 0, None, None, '', False, '', 0, None, '', False, False, 0, ''] -> False\n",
      "2023-03-02 21:19:11 INFO: STRING GENERATED-> son ejemplo_vacio_espacio_false [' ', ' ', False, None, False, '', 0, False, '', 0, '', False, False, ' ', 0, 0, None, ' ', False, False] -> True\n",
      "2023-03-02 21:19:11 INFO: STRING GENERATED-> son ejemplo_mixto ['-', None, ' ', '-', None, ' ', ' ', None, ' ', ' ', ' ', '', '-', '', None, '', '-', '-', None, None] -> True\n"
     ]
    }
   ],
   "source": [
    "logging.info(f'son ejemplo_numerico {ejemplo_numerico} -> {any(ejemplo_numerico)}')\n",
    "logging.info(f'son ejemplo_cast_numero {ejemplo_cast_numero} -> {any(ejemplo_cast_numero)}')\n",
    "logging.info(f'son ejemplo_bool {ejemplo_bool} -> {any(ejemplo_bool)}')\n",
    "logging.info(f'son ejemplo_bool_2 {ejemplo_bool_2} -> {any(ejemplo_bool_2)}')\n",
    "logging.info(f'son ejemplo_vacio {ejemplo_vacio} -> {any(ejemplo_vacio)}')\n",
    "logging.info(f'son ejemplo_vacio_espacio_false {ejemplo_vacio_espacio_false} -> {any(ejemplo_vacio_espacio_false)}')\n",
    "logging.info(f'son ejemplo_mixto {ejemplo_mixto} -> {any(ejemplo_mixto)}')"
   ]
  },
  {
   "cell_type": "markdown",
   "metadata": {},
   "source": [
    "# <center> Generadores de Cadenas Aleatorias </center>"
   ]
  },
  {
   "cell_type": "code",
   "execution_count": 7,
   "metadata": {},
   "outputs": [],
   "source": [
    "import string\n",
    "import uuid\n",
    "import textwrap\n",
    "\n",
    "def generate_characters(size:int = 25) -> str:\n",
    "    \n",
    "    return ''.join([random.choice(string.ascii_letters) for x in range(size)])\n",
    "\n",
    "def generate_numbers(size:int = 25) -> str:\n",
    "    \n",
    "    return ''.join([random.choice(string.digits) for x in range(size)])\n",
    "\n",
    "def generate_characters_and_numbers(size:int = 50) -> str:\n",
    "    \n",
    "    return ''.join([random.SystemRandom().choice(string.ascii_letters + string.digits) for x in range(size)])\n",
    "\n",
    "def generate_uuid(size:int = 1) -> str :\n",
    "    \n",
    "    return str(uuid.uuid4())\n",
    "\n",
    "def generate_unique_values(size:int = 75) -> str:\n",
    "    \n",
    "    characteres = string.digits + string.ascii_letters + string.punctuation\n",
    "\n",
    "    return ''.join(random.sample(characteres, size))\n",
    "\n",
    "\n",
    "#decorador\n",
    "def split_string(funcion_entrada)-> str:\n",
    "    \n",
    "    parts_to_divide  = 5\n",
    "    \n",
    "    def split_word(*args, **kwargs):\n",
    "        \n",
    "        return ' '.join(textwrap.wrap(funcion_entrada(*args, **kwargs), parts_to_divide))      \n",
    "        \n",
    "    return split_word\n",
    "\n",
    "funciones = [generate_characters, generate_numbers, generate_characters_and_numbers, generate_uuid, generate_unique_values]\n",
    "\n",
    "@split_string\n",
    "def get_random_function() -> str:\n",
    "    \n",
    "    return funciones[random.randint(0, len(funciones) -1)]()"
   ]
  },
  {
   "cell_type": "markdown",
   "metadata": {},
   "source": [
    "# <center> Título, Mayúsculas, Minúsculas, Primera letra en Mayúscula, Invertir Mayúsculas y Minúsculas  </center>"
   ]
  },
  {
   "cell_type": "code",
   "execution_count": 8,
   "metadata": {},
   "outputs": [
    {
     "name": "stderr",
     "output_type": "stream",
     "text": [
      "2023-03-02 21:19:11 INFO: STRING GENERATED-> LxWU8 E68Oc LaXN2 2RReZ 0DMrz kfPUv qQW6j cN0f9 eLTic N8VYB\n"
     ]
    }
   ],
   "source": [
    "palabra = get_random_function()\n",
    "logging.info(palabra)"
   ]
  },
  {
   "cell_type": "code",
   "execution_count": 9,
   "metadata": {},
   "outputs": [
    {
     "data": {
      "text/plain": [
       "'Lxwu8 E68Oc Laxn2 2Rrez 0Dmrz Kfpuv Qqw6J Cn0F9 Eltic N8Vyb'"
      ]
     },
     "execution_count": 9,
     "metadata": {},
     "output_type": "execute_result"
    }
   ],
   "source": [
    "palabra.title()"
   ]
  },
  {
   "cell_type": "code",
   "execution_count": 10,
   "metadata": {},
   "outputs": [
    {
     "data": {
      "text/plain": [
       "'LXWU8 E68OC LAXN2 2RREZ 0DMRZ KFPUV QQW6J CN0F9 ELTIC N8VYB'"
      ]
     },
     "execution_count": 10,
     "metadata": {},
     "output_type": "execute_result"
    }
   ],
   "source": [
    "palabra.upper()"
   ]
  },
  {
   "cell_type": "code",
   "execution_count": 11,
   "metadata": {},
   "outputs": [
    {
     "data": {
      "text/plain": [
       "'lxwu8 e68oc laxn2 2rrez 0dmrz kfpuv qqw6j cn0f9 eltic n8vyb'"
      ]
     },
     "execution_count": 11,
     "metadata": {},
     "output_type": "execute_result"
    }
   ],
   "source": [
    "palabra.lower()"
   ]
  },
  {
   "cell_type": "code",
   "execution_count": 12,
   "metadata": {},
   "outputs": [
    {
     "data": {
      "text/plain": [
       "'Lxwu8 e68oc laxn2 2rrez 0dmrz kfpuv qqw6j cn0f9 eltic n8vyb'"
      ]
     },
     "execution_count": 12,
     "metadata": {},
     "output_type": "execute_result"
    }
   ],
   "source": [
    "palabra.capitalize()"
   ]
  },
  {
   "cell_type": "code",
   "execution_count": 13,
   "metadata": {},
   "outputs": [
    {
     "data": {
      "text/plain": [
       "'lXwu8 e68oC lAxn2 2rrEz 0dmRZ KFpuV Qqw6J Cn0F9 EltIC n8vyb'"
      ]
     },
     "execution_count": 13,
     "metadata": {},
     "output_type": "execute_result"
    }
   ],
   "source": [
    "palabra.swapcase()"
   ]
  },
  {
   "cell_type": "markdown",
   "metadata": {},
   "source": [
    "# <center> Eliminar espacios en blanco o caracteres, a la Derecha a la Izquierda, Todos </center>"
   ]
  },
  {
   "cell_type": "code",
   "execution_count": 14,
   "metadata": {},
   "outputs": [
    {
     "name": "stderr",
     "output_type": "stream",
     "text": [
      "2023-03-02 21:19:11 INFO: STRING GENERATED->    92f86 5e1- 55cd- 43e7- 9c71- 33224 27b19 01   \n"
     ]
    }
   ],
   "source": [
    "palabra =   '   ' + get_random_function() +  '   '\n",
    "logging.info(palabra)"
   ]
  },
  {
   "cell_type": "code",
   "execution_count": 15,
   "metadata": {},
   "outputs": [
    {
     "data": {
      "text/plain": [
       "'92f86 5e1- 55cd- 43e7- 9c71- 33224 27b19 01   '"
      ]
     },
     "execution_count": 15,
     "metadata": {},
     "output_type": "execute_result"
    }
   ],
   "source": [
    "# remueve el prejijo a la cadena \n",
    "v = palabra.lstrip()\n",
    "v"
   ]
  },
  {
   "cell_type": "code",
   "execution_count": 16,
   "metadata": {},
   "outputs": [
    {
     "data": {
      "text/plain": [
       "'5e1- 55cd- 43e7- 9c71- 33224 27b19 01   '"
      ]
     },
     "execution_count": 16,
     "metadata": {},
     "output_type": "execute_result"
    }
   ],
   "source": [
    "v.removeprefix(v[0:6])"
   ]
  },
  {
   "cell_type": "code",
   "execution_count": 17,
   "metadata": {},
   "outputs": [
    {
     "data": {
      "text/plain": [
       "'5e1- 55cd- 43e7- 9c71- 33224 27b19 01   '"
      ]
     },
     "execution_count": 17,
     "metadata": {},
     "output_type": "execute_result"
    }
   ],
   "source": [
    "v.lstrip(v[0:6])"
   ]
  },
  {
   "cell_type": "code",
   "execution_count": 18,
   "metadata": {},
   "outputs": [
    {
     "data": {
      "text/plain": [
       "'   92f86 5e1- 55cd- 43e7- 9c71- 33224 27b19 01'"
      ]
     },
     "execution_count": 18,
     "metadata": {},
     "output_type": "execute_result"
    }
   ],
   "source": [
    "# remueve el sufijo a la cadena \n",
    "u = palabra.rstrip()\n",
    "u"
   ]
  },
  {
   "cell_type": "code",
   "execution_count": 19,
   "metadata": {},
   "outputs": [
    {
     "data": {
      "text/plain": [
       "'   92f86 5e1- 55cd- 43e7- 9c71- 33224 27'"
      ]
     },
     "execution_count": 19,
     "metadata": {},
     "output_type": "execute_result"
    }
   ],
   "source": [
    "u.removesuffix(u[-6:])"
   ]
  },
  {
   "cell_type": "code",
   "execution_count": 20,
   "metadata": {},
   "outputs": [
    {
     "data": {
      "text/plain": [
       "'92f86 5e1- 55cd- 43e7- 9c71- 33224 27b19 01'"
      ]
     },
     "execution_count": 20,
     "metadata": {},
     "output_type": "execute_result"
    }
   ],
   "source": [
    "# remueve el prejijo y sufijo a la cadena \n",
    "w = palabra.strip()\n",
    "w"
   ]
  },
  {
   "cell_type": "markdown",
   "metadata": {},
   "source": [
    "# <center> Reemplazo en cadenas </center>"
   ]
  },
  {
   "cell_type": "code",
   "execution_count": 21,
   "metadata": {},
   "outputs": [
    {
     "name": "stderr",
     "output_type": "stream",
     "text": [
      "2023-03-02 21:19:12 INFO: STRING GENERATED->    \\A/^T &4$RZ XQc(> !#HWb y+BtY PM*8m n@)<` OdzS2 |CkI7 a]rq' E{K6- .,=Ju oLF:% i3Ngl h9[fG   \n"
     ]
    }
   ],
   "source": [
    "palabra =   '   ' + get_random_function() +  '   '\n",
    "logging.info(palabra)"
   ]
  },
  {
   "cell_type": "code",
   "execution_count": 22,
   "metadata": {},
   "outputs": [
    {
     "name": "stderr",
     "output_type": "stream",
     "text": [
      "2023-03-02 21:19:12 INFO: STRING GENERATED-> @@@\\A/^T@&4$RZ@XQc(>@!#HWb@y+BtY@PM*8m@n@)<`@OdzS2@|CkI7@a]rq'@E{K6-@.,=Ju@oLF:%@i3Ngl@h9[fG@@@\n",
      "2023-03-02 21:19:12 INFO: STRING GENERATED-> \\A/^T@&4$RZ@XQc(>@!#HWb@y+BtY@PM*8m@n@)<`@OdzS2@|CkI7@a]rq'@E{K6-@.,=Ju@oLF:%@i3Ngl@h9[fG\n"
     ]
    }
   ],
   "source": [
    "x = palabra.replace(' ', '@')\n",
    "logging.info(x)\n",
    "\n",
    "y  = x.strip('@')\n",
    "logging.info(y)"
   ]
  },
  {
   "cell_type": "code",
   "execution_count": 23,
   "metadata": {},
   "outputs": [
    {
     "data": {
      "text/plain": [
       "'jorgecardona'"
      ]
     },
     "execution_count": 23,
     "metadata": {},
     "output_type": "execute_result"
    }
   ],
   "source": [
    "gh = '        hhhhhttp      s://www.jorgecardona.comwhttps'.strip(' t.m:p/hwswoc')\n",
    "gh"
   ]
  },
  {
   "cell_type": "code",
   "execution_count": 24,
   "metadata": {},
   "outputs": [
    {
     "data": {
      "text/plain": [
       "'jorgecardona'"
      ]
     },
     "execution_count": 24,
     "metadata": {},
     "output_type": "execute_result"
    }
   ],
   "source": [
    "gh = 'https://github.com/jorgecardona'.strip('itb/.ghths:pucmo')\n",
    "gh"
   ]
  },
  {
   "cell_type": "code",
   "execution_count": 25,
   "metadata": {
    "scrolled": true
   },
   "outputs": [
    {
     "name": "stderr",
     "output_type": "stream",
     "text": [
      "2023-03-02 21:19:12 INFO: STRING GENERATED-> la cadena reemplazada es C2618K19O4L1023  -> CzrKsOdLjw\n"
     ]
    },
    {
     "name": "stdout",
     "output_type": "stream",
     "text": [
      "{'a': '1', 'b': '2', 'c': '3', 'd': '4', 'e': '5', 'f': '6', 'g': '7', 'h': '8', 'i': '9', 'j': '10', 'k': '11', 'l': '12', 'm': '13', 'n': '14', 'o': '15', 'p': '16', 'q': '17', 'r': '18', 's': '19', 't': '20', 'u': '21', 'v': '22', 'w': '23', 'x': '24', 'y': '25', 'z': '26'}\n"
     ]
    }
   ],
   "source": [
    "palabra = generate_characters(10)\n",
    "dic = {str(j):str(i+1) for i, j in enumerate(list(string.ascii_lowercase))}\n",
    "tabla = palabra.maketrans(dic)\n",
    "\n",
    "logging.info(f'la cadena reemplazada es {palabra.translate(tabla)}  -> {palabra}')\n",
    "print(dic)"
   ]
  },
  {
   "cell_type": "code",
   "execution_count": 26,
   "metadata": {
    "scrolled": true
   },
   "outputs": [
    {
     "name": "stderr",
     "output_type": "stream",
     "text": [
      "2023-03-02 21:19:12 INFO: STRING GENERATED-> la cadena reemplazada es wbnZL!*pdh  -> wbnZLUEpdh\n"
     ]
    }
   ],
   "source": [
    "palabra = generate_characters(10)\n",
    "base      = 'aeiouAEIOU'\n",
    "reemplazo = '@#$%^&*()!'\n",
    "tabla = palabra.maketrans(base,reemplazo)\n",
    "\n",
    "logging.info(f'la cadena reemplazada es {palabra.translate(tabla)}  -> {palabra}')"
   ]
  },
  {
   "cell_type": "code",
   "execution_count": 27,
   "metadata": {},
   "outputs": [
    {
     "name": "stderr",
     "output_type": "stream",
     "text": [
      "2023-03-02 21:19:12 INFO: STRING GENERATED-> la cadena reemplazada es %cVyv!Yc  -> ocVyvUYDcG\n"
     ]
    }
   ],
   "source": [
    "palabra = generate_characters(10)\n",
    "base      = 'aeiouAEIOU'\n",
    "reemplazo = '@#$%^&*()!'\n",
    "borrar = 'BCDFGHjklmn'\n",
    "tabla = palabra.maketrans(base,reemplazo,borrar)\n",
    "\n",
    "logging.info(f'la cadena reemplazada es {palabra.translate(tabla)}  -> {palabra}')"
   ]
  },
  {
   "cell_type": "code",
   "execution_count": null,
   "metadata": {},
   "outputs": [
    {
     "name": "stderr",
     "output_type": "stream",
     "text": [
      "2023-03-02 21:19:12 INFO: STRING GENERATED-> la cadena reemplazada es axijlwznlyabnn  -> SRaQxijlwIEznKlyaAVbnSMnN\n"
     ]
    }
   ],
   "source": [
    "palabra = generate_characters()\n",
    "borrar = string.ascii_uppercase\n",
    "tabla = palabra.maketrans('','',borrar)\n",
    "\n",
    "logging.info(f'la cadena reemplazada es {palabra.translate(tabla)}  -> {palabra}')"
   ]
  },
  {
   "cell_type": "markdown",
   "metadata": {},
   "source": [
    "# <center> REEMPLAZO MULTIPLE EN UNA CADENA UTILIZANDO UN DICCIONARIO</center>"
   ]
  },
  {
   "cell_type": "code",
   "execution_count": null,
   "metadata": {
    "tags": []
   },
   "outputs": [
    {
     "data": {
      "text/plain": [
       "'el numero 5 multiplicado por el numero 4 divido por el numero 2, da como resultado el numero 10'"
      ]
     },
     "execution_count": 106,
     "metadata": {},
     "output_type": "execute_result"
    }
   ],
   "source": [
    "palabra = 'el numero {uno} multiplicado por el numero {dos} divido por el numero {tres}, da como resultado el numero {cuatro}'\n",
    "\n",
    "diccionario_de_valores_a_reemplazar = {\n",
    "                                        'uno':5,\n",
    "                                        'dos':4,\n",
    "                                        'tres':2,\n",
    "                                        'cuatro':10\n",
    "                                        }\n",
    "\n",
    "palabra.format(**diccionario_de_valores_a_reemplazar)"
   ]
  },
  {
   "cell_type": "markdown",
   "metadata": {},
   "source": [
    "# <center> REEMPLAZO MULTIPLE EN UNA CADENA DECLARANDO LOS VALORES A REEMPLAZAR</center>"
   ]
  },
  {
   "cell_type": "code",
   "execution_count": null,
   "metadata": {
    "tags": []
   },
   "outputs": [
    {
     "data": {
      "text/plain": [
       "'el numero 10 multiplicado por el numero 8 divido por el numero 4, da como resultado el numero 20'"
      ]
     },
     "execution_count": 107,
     "metadata": {},
     "output_type": "execute_result"
    }
   ],
   "source": [
    "palabra.format(uno=10, dos=8, tres=4, cuatro=20)"
   ]
  },
  {
   "cell_type": "markdown",
   "metadata": {},
   "source": [
    "# <center> Alinear texto, a la Derecha a la Izquierda, al centro, Completa con otros caracteres</center>"
   ]
  },
  {
   "cell_type": "code",
   "execution_count": 29,
   "metadata": {},
   "outputs": [
    {
     "name": "stderr",
     "output_type": "stream",
     "text": [
      "2023-03-02 21:19:12 INFO: STRING GENERATED-> y69P{ 7I5lC @4,>[ <\\nY& t;Q\"( eEqiR xS:TL hXWgp 0Kob? 1)*s/ 3O8zN +m]ZA 2!cj^ UfrMd B%a#-\n"
     ]
    }
   ],
   "source": [
    "palabra =  get_random_function()\n",
    "logging.info(palabra)"
   ]
  },
  {
   "cell_type": "code",
   "execution_count": 30,
   "metadata": {},
   "outputs": [
    {
     "name": "stderr",
     "output_type": "stream",
     "text": [
      "2023-03-02 21:19:12 INFO: STRING GENERATED-> la cadena alineada y69P{ 7I5lC @4,>[ <\\nY& t;Q\"( eEqiR xS:TL hXWgp 0Kob? 1)*s/ 3O8zN +m]ZA 2!cj^ UfrMd B%a#- es ->        y69P{ 7I5lC @4,>[ <\\nY& t;Q\"( eEqiR xS:TL hXWgp 0Kob? 1)*s/ 3O8zN +m]ZA 2!cj^ UfrMd B%a#- \n"
     ]
    }
   ],
   "source": [
    "logging.info(f'la cadena alineada {palabra} es -> {palabra.rjust(len(palabra) + 7)} ')"
   ]
  },
  {
   "cell_type": "code",
   "execution_count": 31,
   "metadata": {},
   "outputs": [
    {
     "name": "stderr",
     "output_type": "stream",
     "text": [
      "2023-03-02 21:19:12 INFO: STRING GENERATED-> la cadena alineada y69P{ 7I5lC @4,>[ <\\nY& t;Q\"( eEqiR xS:TL hXWgp 0Kob? 1)*s/ 3O8zN +m]ZA 2!cj^ UfrMd B%a#- es -> ~~~~~~~y69P{ 7I5lC @4,>[ <\\nY& t;Q\"( eEqiR xS:TL hXWgp 0Kob? 1)*s/ 3O8zN +m]ZA 2!cj^ UfrMd B%a#-\n"
     ]
    }
   ],
   "source": [
    "logging.info(f'la cadena alineada {palabra} es -> {palabra.rjust(len(palabra) + 7,\"~\")}')"
   ]
  },
  {
   "cell_type": "code",
   "execution_count": 32,
   "metadata": {},
   "outputs": [
    {
     "name": "stderr",
     "output_type": "stream",
     "text": [
      "2023-03-02 21:19:12 INFO: STRING GENERATED-> la cadena alineada y69P{ 7I5lC @4,>[ <\\nY& t;Q\"( eEqiR xS:TL hXWgp 0Kob? 1)*s/ 3O8zN +m]ZA 2!cj^ UfrMd B%a#- es -> y69P{ 7I5lC @4,>[ <\\nY& t;Q\"( eEqiR xS:TL hXWgp 0Kob? 1)*s/ 3O8zN +m]ZA 2!cj^ UfrMd B%a#-~~~~~~~\n"
     ]
    }
   ],
   "source": [
    "logging.info(f'la cadena alineada {palabra} es -> {palabra.ljust(len(palabra) + 7,\"~\")}')"
   ]
  },
  {
   "cell_type": "code",
   "execution_count": 33,
   "metadata": {},
   "outputs": [
    {
     "name": "stderr",
     "output_type": "stream",
     "text": [
      "2023-03-02 21:19:12 INFO: STRING GENERATED-> la cadena alineada y69P{ 7I5lC @4,>[ <\\nY& t;Q\"( eEqiR xS:TL hXWgp 0Kob? 1)*s/ 3O8zN +m]ZA 2!cj^ UfrMd B%a#- es ->    y69P{ 7I5lC @4,>[ <\\nY& t;Q\"( eEqiR xS:TL hXWgp 0Kob? 1)*s/ 3O8zN +m]ZA 2!cj^ UfrMd B%a#-    \n"
     ]
    }
   ],
   "source": [
    "logging.info(f'la cadena alineada {palabra} es -> {palabra.center(len(palabra) + 7)}')"
   ]
  },
  {
   "cell_type": "code",
   "execution_count": 34,
   "metadata": {},
   "outputs": [
    {
     "name": "stderr",
     "output_type": "stream",
     "text": [
      "2023-03-02 21:19:12 INFO: STRING GENERATED-> la cadena alineada y69P{ 7I5lC @4,>[ <\\nY& t;Q\"( eEqiR xS:TL hXWgp 0Kob? 1)*s/ 3O8zN +m]ZA 2!cj^ UfrMd B%a#- es -> <<<y69P{ 7I5lC @4,>[ <\\nY& t;Q\"( eEqiR xS:TL hXWgp 0Kob? 1)*s/ 3O8zN +m]ZA 2!cj^ UfrMd B%a#-<<<<\n"
     ]
    }
   ],
   "source": [
    "logging.info(f'la cadena alineada {palabra} es -> {palabra.center(len(palabra) + 7,\"<\")}')"
   ]
  },
  {
   "cell_type": "code",
   "execution_count": null,
   "metadata": {},
   "outputs": [
    {
     "name": "stderr",
     "output_type": "stream",
     "text": [
      "2023-03-02 21:19:12 INFO: STRING GENERATED-> la cadena alineada y69P{ 7I5lC @4,>[ <\\nY& t;Q\"( eEqiR xS:TL hXWgp 0Kob? 1)*s/ 3O8zN +m]ZA 2!cj^ UfrMd B%a#- es -> 0000000y69P{ 7I5lC @4,>[ <\\nY& t;Q\"( eEqiR xS:TL hXWgp 0Kob? 1)*s/ 3O8zN +m]ZA 2!cj^ UfrMd B%a#-\n"
     ]
    }
   ],
   "source": [
    "logging.info(f'la cadena alineada {palabra} es -> {palabra.zfill(len(palabra) + 7)}')"
   ]
  },
  {
   "cell_type": "markdown",
   "metadata": {},
   "source": [
    "# <center> Slicing invertir Cadena, Extraer Cadena </center>"
   ]
  },
  {
   "cell_type": "code",
   "execution_count": 36,
   "metadata": {},
   "outputs": [],
   "source": [
    "palabra = generate_characters(30)"
   ]
  },
  {
   "cell_type": "code",
   "execution_count": 37,
   "metadata": {},
   "outputs": [
    {
     "name": "stderr",
     "output_type": "stream",
     "text": [
      "2023-03-02 21:19:12 INFO: STRING GENERATED-> la cadena invertida YTJHYRSdnlFmpWfKEgYdMIBzwqPZEL es -> LEZPqwzBIMdYgEKfWpmFlndSRYHJTY\n"
     ]
    }
   ],
   "source": [
    "logging.info(f'la cadena invertida {palabra} es -> {palabra[::-1]}')"
   ]
  },
  {
   "cell_type": "code",
   "execution_count": 38,
   "metadata": {},
   "outputs": [
    {
     "name": "stderr",
     "output_type": "stream",
     "text": [
      "2023-03-02 21:19:12 INFO: STRING GENERATED-> la cadena recortada YTJHYRSdnlFmpWfKEgYdMIBzwqPZEL es -> YTJHYRS\n"
     ]
    }
   ],
   "source": [
    "logging.info(f'la cadena recortada {palabra} es -> {palabra[0:7]}')"
   ]
  },
  {
   "cell_type": "code",
   "execution_count": 39,
   "metadata": {},
   "outputs": [
    {
     "name": "stderr",
     "output_type": "stream",
     "text": [
      "2023-03-02 21:19:12 INFO: STRING GENERATED-> la cadena solo de caracteres impares YTJHYRSdnlFmpWfKEgYdMIBzwqPZEL es -> YJYSnFpfEYMBwPE\n"
     ]
    }
   ],
   "source": [
    "logging.info(f'la cadena solo de caracteres impares {palabra} es -> {palabra[::2]}')"
   ]
  },
  {
   "cell_type": "code",
   "execution_count": 40,
   "metadata": {},
   "outputs": [
    {
     "name": "stderr",
     "output_type": "stream",
     "text": [
      "2023-03-02 21:19:12 INFO: STRING GENERATED-> la cadena solo de caracteres impares inverso YTJHYRSdnlFmpWfKEgYdMIBzwqPZEL es -> LZqzIdgKWmldRHT\n"
     ]
    }
   ],
   "source": [
    "logging.info(f'la cadena solo de caracteres impares inverso {palabra} es -> {palabra[::-2]}')"
   ]
  },
  {
   "cell_type": "code",
   "execution_count": 41,
   "metadata": {},
   "outputs": [
    {
     "name": "stderr",
     "output_type": "stream",
     "text": [
      "2023-03-02 21:19:12 INFO: STRING GENERATED-> la cadena solo de caracteres pares YTJHYRSdnlFmpWfKEgYdMIBzwqPZEL es -> THRdlmWKgdIzqZL\n"
     ]
    }
   ],
   "source": [
    "logging.info(f'la cadena solo de caracteres pares {palabra} es -> {palabra[1::2]}')"
   ]
  },
  {
   "cell_type": "code",
   "execution_count": 42,
   "metadata": {},
   "outputs": [
    {
     "name": "stderr",
     "output_type": "stream",
     "text": [
      "2023-03-02 21:19:12 INFO: STRING GENERATED-> la cadena solo de caracteres pares inverso YTJHYRSdnlFmpWfKEgYdMIBzwqPZEL es -> LZqzIdgKWmldRHT\n"
     ]
    }
   ],
   "source": [
    "logging.info(f'la cadena solo de caracteres pares inverso {palabra} es -> {palabra[-1::-2]}')"
   ]
  },
  {
   "cell_type": "code",
   "execution_count": 43,
   "metadata": {},
   "outputs": [
    {
     "name": "stderr",
     "output_type": "stream",
     "text": [
      "2023-03-02 21:19:12 INFO: STRING GENERATED-> la cadena solo de caracteres impares YTJHYRSdnlFmpWfKEgYdMIBzwqPZEL es -> Fpf\n"
     ]
    }
   ],
   "source": [
    "logging.info(f'la cadena solo de caracteres impares {palabra} es -> {palabra[10:len(palabra)//2:2]}')"
   ]
  },
  {
   "cell_type": "markdown",
   "metadata": {},
   "source": [
    "# <center> Slicing Sobre Listas </center>"
   ]
  },
  {
   "cell_type": "code",
   "execution_count": 44,
   "metadata": {},
   "outputs": [
    {
     "ename": "TypeError",
     "evalue": "'str' object does not support item assignment",
     "output_type": "error",
     "traceback": [
      "\u001b[1;31m---------------------------------------------------------------------------\u001b[0m",
      "\u001b[1;31mTypeError\u001b[0m                                 Traceback (most recent call last)",
      "Cell \u001b[1;32mIn [44], line 2\u001b[0m\n\u001b[0;32m      1\u001b[0m palabra \u001b[38;5;241m=\u001b[39m generate_characters(\u001b[38;5;241m7\u001b[39m)\n\u001b[1;32m----> 2\u001b[0m \u001b[43mpalabra\u001b[49m\u001b[43m[\u001b[49m\u001b[38;5;241;43m0\u001b[39;49m\u001b[43m:\u001b[49m\u001b[38;5;241;43m1\u001b[39;49m\u001b[43m]\u001b[49m \u001b[38;5;241m=\u001b[39m \u001b[38;5;241m31\u001b[39m\n\u001b[0;32m      3\u001b[0m palabra\n",
      "\u001b[1;31mTypeError\u001b[0m: 'str' object does not support item assignment"
     ]
    }
   ],
   "source": [
    "palabra = generate_characters(7)\n",
    "palabra[0:1] = 31\n",
    "palabra"
   ]
  },
  {
   "cell_type": "code",
   "execution_count": 45,
   "metadata": {},
   "outputs": [
    {
     "name": "stderr",
     "output_type": "stream",
     "text": [
      "2023-03-02 21:19:46 INFO: STRING GENERATED-> la cadena en lista OnVkzxN es -> ['O', 'n', 'V', 'k', 'z', 'x', 'N']\n",
      "2023-03-02 21:19:46 INFO: STRING GENERATED-> la cadena inversa en lista OnVkzxN es -> ['N', 'x', 'z', 'k', 'V', 'n', 'O']\n",
      "2023-03-02 21:19:46 INFO: STRING GENERATED-> la lista en cadena ['O', 'n', 'V', 'k', 'z', 'x', 'N'] es -> OnVkzxN\n"
     ]
    }
   ],
   "source": [
    "palabra = generate_characters(7)\n",
    "lista = list(palabra)\n",
    "logging.info(f'la cadena en lista {palabra} es -> {lista}')\n",
    "logging.info(f'la cadena inversa en lista {palabra} es -> {lista[::-1]}')\n",
    "logging.info(f'la lista en cadena {lista} es -> {\"\".join(lista)}')"
   ]
  },
  {
   "cell_type": "code",
   "execution_count": 46,
   "metadata": {},
   "outputs": [
    {
     "name": "stderr",
     "output_type": "stream",
     "text": [
      "2023-03-02 21:19:46 INFO: STRING GENERATED-> la cadena en lista reemplazando un indice stVXzsN --- ['s', 't', 'V', 'X', 'z', 's', 'N'] es -> ['s', 9, 8, 7, 't', 'V', 'X', 'z', 's', 'N']\n"
     ]
    }
   ],
   "source": [
    "palabra = generate_characters(7)\n",
    "lista = list(palabra)\n",
    "#adiciona el el indice 1 de la lista el contenido que se quiera sin alterar el resto de los valores de la lista\n",
    "lista[1:1] = [9,8,7]\n",
    "\n",
    "logging.info(f'la cadena en lista reemplazando un indice {palabra} --- {list(palabra)} es -> {lista}')"
   ]
  },
  {
   "cell_type": "code",
   "execution_count": 47,
   "metadata": {},
   "outputs": [
    {
     "name": "stderr",
     "output_type": "stream",
     "text": [
      "2023-03-02 21:19:47 INFO: STRING GENERATED-> la cadena en lista reemplazando un indice dZIBN --- ['d', 'Z', 'I', 'B', 'N'] es -> ['d', 'Z', 'I', 98, 'N']\n"
     ]
    }
   ],
   "source": [
    "palabra = generate_characters(5)\n",
    "lista = list(palabra)\n",
    "# reemplaza el valor del indice por el contenido que se quiera \n",
    "lista[3:4] = [98]\n",
    "logging.info(f'la cadena en lista reemplazando un indice {palabra} --- {list(palabra)} es -> {lista}')"
   ]
  },
  {
   "cell_type": "code",
   "execution_count": 48,
   "metadata": {},
   "outputs": [
    {
     "name": "stderr",
     "output_type": "stream",
     "text": [
      "2023-03-02 21:19:47 INFO: STRING GENERATED-> la cadena en lista reemplazando en varios indices YmsaoyH --- ['Y', 'm', 's', 'a', 'o', 'y', 'H'] es -> [1, 2, 3, 4, 5, 6, 7, 'o', 'y', 'H']\n"
     ]
    }
   ],
   "source": [
    "#Replace and Resize part of the list\n",
    "palabra = generate_characters(7)\n",
    "lista = list(palabra)\n",
    "lista[:4] = [1,2,3,4,5,6,7]\n",
    "\n",
    "logging.info(f'la cadena en lista reemplazando en varios indices {palabra} --- {list(palabra)} es -> {lista}')"
   ]
  },
  {
   "cell_type": "code",
   "execution_count": 49,
   "metadata": {},
   "outputs": [
    {
     "name": "stderr",
     "output_type": "stream",
     "text": [
      "2023-03-02 21:19:48 INFO: STRING GENERATED-> la cadena en lista reemplazando en varios indices IXNVHpz --- ['I', 'X', 'N', 'V', 'H', 'p', 'z'] es -> ['I', 'X', 'N', 'V', 97]\n"
     ]
    }
   ],
   "source": [
    "# Substitute part of a list\n",
    "palabra = generate_characters(7)\n",
    "lista = list(palabra)\n",
    "lista[4:7] = [97]\n",
    "logging.info(f'la cadena en lista reemplazando en varios indices {palabra} --- {list(palabra)} es -> {lista}')"
   ]
  },
  {
   "cell_type": "code",
   "execution_count": 50,
   "metadata": {},
   "outputs": [
    {
     "name": "stderr",
     "output_type": "stream",
     "text": [
      "2023-03-02 21:19:48 INFO: STRING GENERATED-> la cadena en lista reemplazando en varios indices GKAlSVY --- ['G', 'K', 'A', 'l', 'S', 'V', 'Y'] es -> ['G', 'K', 9, 8, 7]\n"
     ]
    }
   ],
   "source": [
    "# Substitute part of a list\n",
    "palabra = generate_characters(7)\n",
    "lista = list(palabra)\n",
    "lista[2::] = [9,8,7]\n",
    "logging.info(f'la cadena en lista reemplazando en varios indices {palabra} --- {list(palabra)} es -> {lista}')"
   ]
  },
  {
   "cell_type": "code",
   "execution_count": 51,
   "metadata": {},
   "outputs": [
    {
     "name": "stderr",
     "output_type": "stream",
     "text": [
      "2023-03-02 21:19:48 INFO: STRING GENERATED-> la cadena en lista reemplazando en indices impares GnOiXOgyLG --- ['G', 'n', 'O', 'i', 'X', 'O', 'g', 'y', 'L', 'G'] es -> [1, 'n', 2, 'i', 3, 'O', 4, 'y', 5, 'G']\n"
     ]
    }
   ],
   "source": [
    "#Replace Every n-th Element\n",
    "palabra = generate_characters(10)\n",
    "lista = list(palabra)\n",
    "lista[::2] = [1,2,3,4,5]\n",
    "logging.info(f'la cadena en lista reemplazando en indices impares {palabra} --- {list(palabra)} es -> {lista}')"
   ]
  },
  {
   "cell_type": "code",
   "execution_count": 52,
   "metadata": {},
   "outputs": [
    {
     "name": "stderr",
     "output_type": "stream",
     "text": [
      "2023-03-02 21:19:49 INFO: STRING GENERATED-> la cadena en lista reemplazando en indices pares [90, 80, 70, 60, 50, 40, 30, 20, 10, 0]  es -> [0, 20, 40, 60]\n"
     ]
    }
   ],
   "source": [
    "numeros = [i*10 for i in reversed(range(10))]\n",
    "lista = list(numeros)\n",
    "\n",
    "logging.info(f'la cadena en lista reemplazando en indices pares {numeros}  es -> {lista[:1:-2]}')"
   ]
  },
  {
   "cell_type": "code",
   "execution_count": 53,
   "metadata": {},
   "outputs": [
    {
     "name": "stderr",
     "output_type": "stream",
     "text": [
      "2023-03-02 21:19:49 INFO: STRING GENERATED-> la cadena en lista reemplazando en indices entre el 1 y el 7 WwJzExy --- ['W', 'w', 'J', 'z', 'E', 'x', 'y'] es -> ['W', 2, 'J', 4, 'E', 8, 'y']\n"
     ]
    }
   ],
   "source": [
    "#Replace in specific index\n",
    "numeros = generate_characters(7)\n",
    "lista = list(numeros)\n",
    "\n",
    "lista[1:7:2] = [2, 4, 8]\n",
    "logging.info(f'la cadena en lista reemplazando en indices entre el 1 y el 7 {numeros} --- {list(numeros)} es -> {lista}')"
   ]
  },
  {
   "cell_type": "code",
   "execution_count": 54,
   "metadata": {},
   "outputs": [
    {
     "name": "stderr",
     "output_type": "stream",
     "text": [
      "2023-03-02 21:19:50 INFO: STRING GENERATED-> la cadena con eliminados XWMHWXl ------ ['X', 'W', 'M', 'H', 'W', 'X', 'l'] es -> ['X', 'W', 'M']\n"
     ]
    }
   ],
   "source": [
    "# Slice Deletion\n",
    "numeros = generate_characters(7)\n",
    "lista = list(numeros)\n",
    "\n",
    "del lista[3:7]\n",
    "logging.info(f'la cadena con eliminados {numeros} ------ {list(numeros)} es -> {lista}')"
   ]
  },
  {
   "cell_type": "code",
   "execution_count": 55,
   "metadata": {},
   "outputs": [
    {
     "name": "stderr",
     "output_type": "stream",
     "text": [
      "2023-03-02 21:19:50 INFO: STRING GENERATED-> la cadena con eliminados ztMXHAW ------ ['z', 't', 'M', 'X', 'H', 'A', 'W'] es -> ['X', 'H', 'A', 'W']\n"
     ]
    }
   ],
   "source": [
    "numeros = generate_characters(7)\n",
    "lista = list(numeros)\n",
    "lista[0:3] = []\n",
    "\n",
    "logging.info(f'la cadena con eliminados {numeros} ------ {list(numeros)} es -> {lista}')"
   ]
  },
  {
   "cell_type": "markdown",
   "metadata": {},
   "source": [
    "# <center> Valída si es : Letras, Minúsculas, Mayúsculas Letras y Números, Espacios en blanco</center>"
   ]
  },
  {
   "cell_type": "code",
   "execution_count": 56,
   "metadata": {},
   "outputs": [
    {
     "name": "stderr",
     "output_type": "stream",
     "text": [
      "2023-03-02 21:19:51 INFO: STRING GENERATED-> son Letras -> nQxdJtUfMxSnxbigDkfUalztb ->  True\n",
      "2023-03-02 21:19:51 INFO: STRING GENERATED-> son Letras y numeros -> nQxdJtUfMxSnxbigDkfUalztb ->  True\n"
     ]
    }
   ],
   "source": [
    "letras = generate_characters()\n",
    "logging.info(f'son Letras -> {letras} ->  {letras.isalpha()}')\n",
    "logging.info(f'son Letras y numeros -> {letras} ->  {letras.isalnum()}')"
   ]
  },
  {
   "cell_type": "code",
   "execution_count": 57,
   "metadata": {},
   "outputs": [
    {
     "name": "stderr",
     "output_type": "stream",
     "text": [
      "2023-03-02 21:19:51 INFO: STRING GENERATED-> son Letras -> kA46s6bDWgpiCIXw2DthEXkvsXiQuWk2mtvC7mCrDXxCjzjgp7 ->  False\n",
      "2023-03-02 21:19:51 INFO: STRING GENERATED-> son Letras y numeros -> kA46s6bDWgpiCIXw2DthEXkvsXiQuWk2mtvC7mCrDXxCjzjgp7 ->  True\n"
     ]
    }
   ],
   "source": [
    "numeros_y_letras = generate_characters_and_numbers()\n",
    "logging.info(f'son Letras -> {numeros_y_letras} ->  {numeros_y_letras.isalpha()}')\n",
    "logging.info(f'son Letras y numeros -> {numeros_y_letras} ->  {numeros_y_letras.isalnum()}')"
   ]
  },
  {
   "cell_type": "code",
   "execution_count": 58,
   "metadata": {},
   "outputs": [
    {
     "name": "stderr",
     "output_type": "stream",
     "text": [
      "2023-03-02 21:19:51 INFO: STRING GENERATED-> son Mayúsculas -> nQxdJtUfMxSnxbigDkfUalztb ->  False\n",
      "2023-03-02 21:19:51 INFO: STRING GENERATED-> son Mayúsculas -> kA46s6bDWgpiCIXw2DthEXkvsXiQuWk2mtvC7mCrDXxCjzjgp7 ->  False\n"
     ]
    }
   ],
   "source": [
    "logging.info(f'son Mayúsculas -> {letras} ->  {numeros_y_letras.isupper()}')\n",
    "logging.info(f'son Mayúsculas -> {numeros_y_letras} ->  {numeros_y_letras.isupper()}')"
   ]
  },
  {
   "cell_type": "code",
   "execution_count": 59,
   "metadata": {},
   "outputs": [
    {
     "name": "stderr",
     "output_type": "stream",
     "text": [
      "2023-03-02 21:19:51 INFO: STRING GENERATED-> son Minúsculas -> nQxdJtUfMxSnxbigDkfUalztb ->  False\n",
      "2023-03-02 21:19:51 INFO: STRING GENERATED-> son Minúsculas -> kA46s6bDWgpiCIXw2DthEXkvsXiQuWk2mtvC7mCrDXxCjzjgp7 ->  False\n"
     ]
    }
   ],
   "source": [
    "logging.info(f'son Minúsculas -> {letras} ->  {numeros_y_letras.islower()}')\n",
    "logging.info(f'son Minúsculas -> {numeros_y_letras} ->  {numeros_y_letras.islower()}')"
   ]
  },
  {
   "cell_type": "code",
   "execution_count": 60,
   "metadata": {},
   "outputs": [
    {
     "name": "stderr",
     "output_type": "stream",
     "text": [
      "2023-03-02 21:19:52 INFO: STRING GENERATED-> son Títulos -> nQxdJtUfMxSnxbigDkfUalztb ->  False\n",
      "2023-03-02 21:19:52 INFO: STRING GENERATED-> son Títulos -> kA46s6bDWgpiCIXw2DthEXkvsXiQuWk2mtvC7mCrDXxCjzjgp7 ->  False\n"
     ]
    }
   ],
   "source": [
    "logging.info(f'son Títulos -> {letras} ->  {numeros_y_letras.istitle()}')\n",
    "logging.info(f'son Títulos -> {numeros_y_letras} ->  {numeros_y_letras.istitle()}')"
   ]
  },
  {
   "cell_type": "code",
   "execution_count": 61,
   "metadata": {},
   "outputs": [
    {
     "name": "stderr",
     "output_type": "stream",
     "text": [
      "2023-03-02 21:19:52 INFO: STRING GENERATED-> son espacios en blanco ->             ->  True\n",
      "2023-03-02 21:19:52 INFO: STRING GENERATED-> son espacios en blanco -> nQxdJtUfMxSnxbigDkfUalztb ->  False\n",
      "2023-03-02 21:19:52 INFO: STRING GENERATED-> son espacios en blanco -> kA46s6bDWgpiCIXw2DthEXkvsXiQuWk2mtvC7mCrDXxCjzjgp7 ->  False\n"
     ]
    }
   ],
   "source": [
    "espacios_en_blanco = '           '\n",
    "logging.info(f'son espacios en blanco -> {espacios_en_blanco} ->  {espacios_en_blanco.isspace()}')\n",
    "logging.info(f'son espacios en blanco -> {letras} ->  {numeros_y_letras.isspace()}')\n",
    "logging.info(f'son espacios en blanco -> {numeros_y_letras} ->  {numeros_y_letras.isspace()}')"
   ]
  },
  {
   "cell_type": "markdown",
   "metadata": {},
   "source": [
    "# <center> Valída si es : Números, Décimal, Binario, Octal, HexaDécimal, Exponencial </center>"
   ]
  },
  {
   "cell_type": "code",
   "execution_count": 62,
   "metadata": {},
   "outputs": [
    {
     "name": "stderr",
     "output_type": "stream",
     "text": [
      "2023-03-02 21:19:52 INFO: STRING GENERATED-> son Números decimales -> 1603163680699714026221452 ->  True\n",
      "2023-03-02 21:19:52 INFO: STRING GENERATED-> son Dígitos -> 1603163680699714026221452 -> True\n",
      "2023-03-02 21:19:52 INFO: STRING GENERATED-> son tipo Númericos -> 1603163680699714026221452 -> True\n"
     ]
    }
   ],
   "source": [
    "numeros = generate_numbers()\n",
    "\n",
    "logging.info(f'son Números decimales -> {numeros} ->  {numeros.isdecimal()}')\n",
    "logging.info(f'son Dígitos -> {numeros} -> {numeros.isdigit()}')\n",
    "logging.info(f'son tipo Númericos -> {numeros} -> {numeros.isnumeric()}')"
   ]
  },
  {
   "cell_type": "code",
   "execution_count": 63,
   "metadata": {},
   "outputs": [
    {
     "name": "stderr",
     "output_type": "stream",
     "text": [
      "2023-03-02 21:19:52 INFO: STRING GENERATED-> son Números flotantes -> 43176297014188.04 ->  False\n",
      "2023-03-02 21:19:52 INFO: STRING GENERATED-> son Dígitos -> 43176297014188.04 -> False\n",
      "2023-03-02 21:19:52 INFO: STRING GENERATED-> son  tipo Númericos -> 43176297014188.04 -> False\n"
     ]
    }
   ],
   "source": [
    "numeros_flotantes = str(int(generate_numbers()) / 192519503178.213)\n",
    "\n",
    "logging.info(f'son Números flotantes -> {numeros_flotantes} ->  {numeros_flotantes.isdecimal()}')\n",
    "logging.info(f'son Dígitos -> {numeros_flotantes} -> {numeros_flotantes.isdigit()}')\n",
    "logging.info(f'son  tipo Númericos -> {numeros_flotantes} -> {numeros_flotantes.isnumeric()}')"
   ]
  },
  {
   "cell_type": "code",
   "execution_count": 64,
   "metadata": {},
   "outputs": [
    {
     "name": "stderr",
     "output_type": "stream",
     "text": [
      "2023-03-02 21:19:53 INFO: STRING GENERATED-> son Números Binarios -> 0b101010011011110111010110101100001110001110010110100100101110010100010111110001100 ->  True\n",
      "2023-03-02 21:19:53 INFO: STRING GENERATED-> son Números Binarios -> 101010011011110111010110101100001110001110010110100100101110010100010111110001100 ->  True\n"
     ]
    }
   ],
   "source": [
    "binario = bin(int(numeros))\n",
    "validacion = all(b in ['0','1'] for b in binario[2:])\n",
    "logging.info(f'son Números Binarios -> {binario} ->  {validacion}')\n",
    "\n",
    "binario_format = format(int(numeros), \"b\")\n",
    "validacion_format = all(b in ['0','1'] for b in binario_format)\n",
    "logging.info(f'son Números Binarios -> {binario_format} ->  {validacion_format}')"
   ]
  },
  {
   "cell_type": "code",
   "execution_count": 65,
   "metadata": {},
   "outputs": [
    {
     "name": "stderr",
     "output_type": "stream",
     "text": [
      "2023-03-02 21:19:53 INFO: STRING GENERATED-> son Números Octal -> 0o523367265416162644562427614 ->  True\n",
      "2023-03-02 21:19:53 INFO: STRING GENERATED-> son Números Octal -> 523367265416162644562427614 -> True\n"
     ]
    }
   ],
   "source": [
    "octal = oct(int(numeros))\n",
    "validacion = all(o in [str(i) for i in range(8)] for o in octal[2:])\n",
    "logging.info(f'son Números Octal -> {octal} ->  {validacion}')\n",
    "\n",
    "octal_format = format(int(numeros), \"o\")\n",
    "validacion_octal = all(o in [str(i) for i in range(8)] for o in octal_format)\n",
    "logging.info(f'son Números Octal -> {octal_format} -> {validacion_octal}')"
   ]
  },
  {
   "cell_type": "code",
   "execution_count": 66,
   "metadata": {},
   "outputs": [
    {
     "name": "stderr",
     "output_type": "stream",
     "text": [
      "2023-03-02 21:19:53 INFO: STRING GENERATED-> son  tipo Hexadecimal -> 0x1537bad61c72d25ca2f8c -> True\n",
      "2023-03-02 21:19:53 INFO: STRING GENERATED-> son  tipo Hexadecimal -> 1537bad61c72d25ca2f8c -> True\n"
     ]
    }
   ],
   "source": [
    "hexadecimal = hex(int(numeros))\n",
    "validacion = all(x in string.hexdigits for x in hexadecimal[2:])\n",
    "logging.info(f'son  tipo Hexadecimal -> {hexadecimal} -> {validacion}')\n",
    "\n",
    "hexadecimal_format = format(int(numeros), \"x\")\n",
    "validacion_hexadecimal_format = all(x in string.hexdigits for x in hexadecimal_format)\n",
    "logging.info(f'son  tipo Hexadecimal -> {hexadecimal_format} -> {validacion_hexadecimal_format}')"
   ]
  },
  {
   "cell_type": "code",
   "execution_count": 67,
   "metadata": {},
   "outputs": [
    {
     "name": "stderr",
     "output_type": "stream",
     "text": [
      "2023-03-02 21:19:53 INFO: STRING GENERATED-> son  tipo Númericos -> 1.298563e+15 -> False\n"
     ]
    },
    {
     "data": {
      "text/plain": [
       "'1.298563e+15'"
      ]
     },
     "execution_count": 67,
     "metadata": {},
     "output_type": "execute_result"
    }
   ],
   "source": [
    "#exponencial = exp(int(numeros)//1234567890)\n",
    "exponencial_format = format(int(numeros)//1234567890, \"e\")\n",
    "\n",
    "logging.info(f'son  tipo Númericos -> {exponencial_format} -> {exponencial_format.isnumeric()}')\n",
    "exponencial_format"
   ]
  },
  {
   "cell_type": "code",
   "execution_count": 68,
   "metadata": {},
   "outputs": [
    {
     "data": {
      "text/plain": [
       "1298563000000000"
      ]
     },
     "execution_count": 68,
     "metadata": {},
     "output_type": "execute_result"
    }
   ],
   "source": [
    "int(float(exponencial_format))"
   ]
  },
  {
   "cell_type": "markdown",
   "metadata": {},
   "source": [
    "# <center> Dividir Cadenas</center>"
   ]
  },
  {
   "cell_type": "code",
   "execution_count": 69,
   "metadata": {},
   "outputs": [
    {
     "data": {
      "text/plain": [
       "'MNV9l#kzbN2#p6KY8#J2upD#NjYFP#DRBad#PHBxU#Q0eN1#Baa3V#7tCsSMNV9l#kzbN2#p6KY8#J2upD#NjYFP#DRBad#PHBxU#Q0eN1#Baa3V#7tCsS'"
      ]
     },
     "execution_count": 69,
     "metadata": {},
     "output_type": "execute_result"
    }
   ],
   "source": [
    "caracter = '#'\n",
    "palabra =  get_random_function() * 2\n",
    "palabra = palabra.replace(' ', caracter)\n",
    "palabra"
   ]
  },
  {
   "cell_type": "code",
   "execution_count": 70,
   "metadata": {},
   "outputs": [
    {
     "name": "stderr",
     "output_type": "stream",
     "text": [
      "2023-03-02 21:19:54 INFO: STRING GENERATED-> son Divididos -> MNV9l#kzbN2#p6KY8#J2upD#NjYFP#DRBad#PHBxU#Q0eN1#Baa3V#7tCsSMNV9l#kzbN2#p6KY8#J2upD#NjYFP#DRBad#PHBxU#Q0eN1#Baa3V#7tCsS => ['MNV9l', 'kzbN2', 'p6KY8', 'J2upD', 'NjYFP', 'DRBad', 'PHBxU', 'Q0eN1', 'Baa3V', '7tCsSMNV9l', 'kzbN2', 'p6KY8', 'J2upD', 'NjYFP', 'DRBad', 'PHBxU', 'Q0eN1', 'Baa3V', '7tCsS']\n"
     ]
    }
   ],
   "source": [
    "logging.info(f'son Divididos -> {palabra} => {palabra.split(caracter)}')"
   ]
  },
  {
   "cell_type": "code",
   "execution_count": 71,
   "metadata": {},
   "outputs": [
    {
     "name": "stderr",
     "output_type": "stream",
     "text": [
      "2023-03-02 21:19:54 INFO: STRING GENERATED-> son Particionados -> MNV9l#kzbN2#p6KY8#J2upD#NjYFP#DRBad#PHBxU#Q0eN1#Baa3V#7tCsSMNV9l#kzbN2#p6KY8#J2upD#NjYFP#DRBad#PHBxU#Q0eN1#Baa3V#7tCsS => ('MNV9l', '#', 'kzbN2#p6KY8#J2upD#NjYFP#DRBad#PHBxU#Q0eN1#Baa3V#7tCsSMNV9l#kzbN2#p6KY8#J2upD#NjYFP#DRBad#PHBxU#Q0eN1#Baa3V#7tCsS')\n"
     ]
    }
   ],
   "source": [
    "logging.info(f'son Particionados -> {palabra} => {palabra.partition(caracter)}')"
   ]
  },
  {
   "cell_type": "code",
   "execution_count": 72,
   "metadata": {},
   "outputs": [
    {
     "name": "stderr",
     "output_type": "stream",
     "text": [
      "2023-03-02 21:19:54 INFO: STRING GENERATED-> son Particionados desde la derecha-> MNV9l#kzbN2#p6KY8#J2upD#NjYFP#DRBad#PHBxU#Q0eN1#Baa3V#7tCsSMNV9l#kzbN2#p6KY8#J2upD#NjYFP#DRBad#PHBxU#Q0eN1#Baa3V#7tCsS => ('MNV9l#kzbN2#p6KY8#J2upD#NjYFP#DRBad#PHBxU#Q0eN1#Baa3V#7tCsSMNV9l#kzbN2#p6KY8#J2upD#NjYFP#DRBad#PHBxU#Q0eN1#Baa3V', '#', '7tCsS')\n"
     ]
    }
   ],
   "source": [
    "logging.info(f'son Particionados desde la derecha-> {palabra} => {palabra.rpartition(caracter)}')"
   ]
  },
  {
   "cell_type": "code",
   "execution_count": 73,
   "metadata": {},
   "outputs": [
    {
     "name": "stderr",
     "output_type": "stream",
     "text": [
      "2023-03-02 21:19:55 INFO: STRING GENERATED-> son Divididos en 1 parte adicional -> MNV9l#kzbN2#p6KY8#J2upD#NjYFP#DRBad#PHBxU#Q0eN1#Baa3V#7tCsSMNV9l#kzbN2#p6KY8#J2upD#NjYFP#DRBad#PHBxU#Q0eN1#Baa3V#7tCsS => ['MNV9l#kzbN2#p6KY8#J2upD#NjYFP#DRBad#PHBxU#Q0eN1#Baa3V#7tCsSMNV9l#kzbN2#p6KY8#J2upD#NjYFP#DRBad#PHBxU#Q0eN1#Baa3V', '7tCsS']\n"
     ]
    }
   ],
   "source": [
    "logging.info(f'son Divididos en 1 parte adicional -> {palabra} => {palabra.rsplit(caracter,1)}')"
   ]
  },
  {
   "cell_type": "code",
   "execution_count": 74,
   "metadata": {},
   "outputs": [
    {
     "name": "stderr",
     "output_type": "stream",
     "text": [
      "2023-03-02 21:19:55 INFO: STRING GENERATED-> son Divididos en 4 parte adicional -> MNV9l#kzbN2#p6KY8#J2upD#NjYFP#DRBad#PHBxU#Q0eN1#Baa3V#7tCsSMNV9l#kzbN2#p6KY8#J2upD#NjYFP#DRBad#PHBxU#Q0eN1#Baa3V#7tCsS => ['MNV9l', 'kzbN2', 'p6KY8', 'J2upD', 'NjYFP#DRBad#PHBxU#Q0eN1#Baa3V#7tCsSMNV9l#kzbN2#p6KY8#J2upD#NjYFP#DRBad#PHBxU#Q0eN1#Baa3V#7tCsS']\n"
     ]
    }
   ],
   "source": [
    "logging.info(f'son Divididos en 4 parte adicional -> {palabra} => {palabra.split(caracter,4)}')"
   ]
  },
  {
   "cell_type": "code",
   "execution_count": 75,
   "metadata": {},
   "outputs": [
    {
     "name": "stderr",
     "output_type": "stream",
     "text": [
      "2023-03-02 21:19:55 INFO: STRING GENERATED-> son Reemplazados por caracter especifico las veces definidas -> MNV9l#kzbN2#p6KY8#J2upD#NjYFP#DRBad#PHBxU#Q0eN1#Baa3V#7tCsSMNV9l#kzbN2#p6KY8#J2upD#NjYFP#DRBad#PHBxU#Q0eN1#Baa3V#7tCsS => MNV9l---NEW---kzbN2---NEW---p6KY8---NEW---J2upD#NjYFP#DRBad#PHBxU#Q0eN1#Baa3V#7tCsSMNV9l#kzbN2#p6KY8#J2upD#NjYFP#DRBad#PHBxU#Q0eN1#Baa3V#7tCsS\n"
     ]
    }
   ],
   "source": [
    "logging.info(f'son Reemplazados por caracter especifico las veces definidas -> {palabra} => {palabra.replace(caracter, \"---NEW---\", 3)}')"
   ]
  },
  {
   "cell_type": "code",
   "execution_count": 76,
   "metadata": {},
   "outputs": [
    {
     "name": "stderr",
     "output_type": "stream",
     "text": [
      "2023-03-02 21:19:55 INFO: STRING GENERATED-> son Reemplazados por caracter especifico las veces definidas -> MNV9l#kzbN2#p6KY8#J2upD#NjYFP#DRBad#PHBxU#Q0eN1#Baa3V#7tCsSMNV9l#kzbN2#p6KY8#J2upD#NjYFP#DRBad#PHBxU#Q0eN1#Baa3V#7tCsS => MNV9l#kzbN2#p6KY8#J2upD#NjYFP#DRBad#PHBxU#Q0eN1#Baa3V#7tCsSMNV9l#kzbN2#p6KY8#J2upD#NjYFP#DRBad#PHBxU---NEW---Q0eN1---NEW---Baa3V---NEW---7tCsS\n"
     ]
    }
   ],
   "source": [
    "logging.info(f'son Reemplazados por caracter especifico las veces definidas -> {palabra} => {palabra[::-1].replace(caracter, \"---NEW---\"[::-1], 3)[::-1]}')"
   ]
  },
  {
   "cell_type": "markdown",
   "metadata": {},
   "source": [
    "# <center> Busqueda en cadenas </center>"
   ]
  },
  {
   "cell_type": "code",
   "execution_count": 77,
   "metadata": {},
   "outputs": [
    {
     "data": {
      "text/plain": [
       "'1bad1 9bf- d091- 4a97- 97cd- 3b778 2827f 581bad1 9bf- d091- 4a97- 97cd- 3b778 2827f 58'"
      ]
     },
     "execution_count": 77,
     "metadata": {},
     "output_type": "execute_result"
    }
   ],
   "source": [
    "palabra =  get_random_function() * 2\n",
    "caracter = random.choice(palabra)\n",
    "palabra"
   ]
  },
  {
   "cell_type": "code",
   "execution_count": 78,
   "metadata": {},
   "outputs": [
    {
     "name": "stderr",
     "output_type": "stream",
     "text": [
      "2023-03-02 21:19:56 INFO: STRING GENERATED-> el caracter   esta 14 veces en -> 1bad1 9bf- d091- 4a97- 97cd- 3b778 2827f 581bad1 9bf- d091- 4a97- 97cd- 3b778 2827f 58\n"
     ]
    }
   ],
   "source": [
    "logging.info(f'el caracter {caracter} esta {palabra.count(caracter)} veces en -> {palabra}')"
   ]
  },
  {
   "cell_type": "code",
   "execution_count": 79,
   "metadata": {},
   "outputs": [
    {
     "name": "stderr",
     "output_type": "stream",
     "text": [
      "2023-03-02 21:19:57 INFO: STRING GENERATED-> el caracter   esta 7 veces en -> 1bad1 9bf- d091- 4a97- 97cd- 3b778 2827f 581bad1 9bf- d091- 4a97- 97cd- 3b778 2827f 58\n"
     ]
    }
   ],
   "source": [
    "logging.info(f'el caracter {caracter} esta {palabra.count(caracter, 0, len(palabra)//2)} veces en -> {palabra}')"
   ]
  },
  {
   "cell_type": "code",
   "execution_count": 80,
   "metadata": {},
   "outputs": [
    {
     "name": "stderr",
     "output_type": "stream",
     "text": [
      "2023-03-02 21:19:57 INFO: STRING GENERATED-> el caracter   esta 7 veces en -> 1bad1 9bf- d091- 4a97- 97cd- 3b778 2827f 581bad1 9bf- d091- 4a97- 97cd- 3b778 2827f 58\n"
     ]
    }
   ],
   "source": [
    "logging.info(f'el caracter {caracter} esta {palabra.count(caracter, len(palabra)//4,  3*len(palabra)//4)} veces en -> {palabra}')"
   ]
  },
  {
   "cell_type": "code",
   "execution_count": 81,
   "metadata": {},
   "outputs": [
    {
     "ename": "ValueError",
     "evalue": "substring not found",
     "output_type": "error",
     "traceback": [
      "\u001b[1;31m---------------------------------------------------------------------------\u001b[0m",
      "\u001b[1;31mValueError\u001b[0m                                Traceback (most recent call last)",
      "Cell \u001b[1;32mIn [81], line 1\u001b[0m\n\u001b[1;32m----> 1\u001b[0m logging\u001b[38;5;241m.\u001b[39minfo(\u001b[38;5;124mf\u001b[39m\u001b[38;5;124m'\u001b[39m\u001b[38;5;124mel caracter \u001b[39m\u001b[38;5;132;01m{\u001b[39;00mcaracter\u001b[38;5;132;01m}\u001b[39;00m\u001b[38;5;124m el INDICE de la primera aparicion esta en la posicion \u001b[39m\u001b[38;5;132;01m{\u001b[39;00mpalabra\u001b[38;5;241m.\u001b[39mindex(\u001b[38;5;124m\"\u001b[39m\u001b[38;5;124mcaracter\u001b[39m\u001b[38;5;124m\"\u001b[39m)\u001b[38;5;132;01m}\u001b[39;00m\u001b[38;5;124m  en -> \u001b[39m\u001b[38;5;132;01m{\u001b[39;00mpalabra\u001b[38;5;132;01m}\u001b[39;00m\u001b[38;5;124m'\u001b[39m)\n",
      "\u001b[1;31mValueError\u001b[0m: substring not found"
     ]
    }
   ],
   "source": [
    "logging.info(f'el caracter {caracter} el INDICE de la primera aparicion esta en la posicion {palabra.index(\"caracter\")}  en -> {palabra}')"
   ]
  },
  {
   "cell_type": "code",
   "execution_count": 82,
   "metadata": {},
   "outputs": [
    {
     "name": "stderr",
     "output_type": "stream",
     "text": [
      "2023-03-02 21:19:58 INFO: STRING GENERATED-> el caracter   el INDICE de la primera aparicion esta en la posicion 5  en -> 1bad1 9bf- d091- 4a97- 97cd- 3b778 2827f 581bad1 9bf- d091- 4a97- 97cd- 3b778 2827f 58\n"
     ]
    }
   ],
   "source": [
    "logging.info(f'el caracter {caracter} el INDICE de la primera aparicion esta en la posicion {palabra.index(caracter)}  en -> {palabra}')"
   ]
  },
  {
   "cell_type": "code",
   "execution_count": 83,
   "metadata": {},
   "outputs": [
    {
     "name": "stderr",
     "output_type": "stream",
     "text": [
      "2023-03-02 21:19:58 INFO: STRING GENERATED-> el caracter   la primera aparicion esta en la posicion 5  en -> 1bad1 9bf- d091- 4a97- 97cd- 3b778 2827f 581bad1 9bf- d091- 4a97- 97cd- 3b778 2827f 58\n"
     ]
    }
   ],
   "source": [
    "logging.info(f'el caracter {caracter} la primera aparicion esta en la posicion {palabra.find(caracter)}  en -> {palabra}')"
   ]
  },
  {
   "cell_type": "code",
   "execution_count": 84,
   "metadata": {},
   "outputs": [
    {
     "name": "stderr",
     "output_type": "stream",
     "text": [
      "2023-03-02 21:19:58 INFO: STRING GENERATED-> la ultima posicion del caracter   esta en 83  en -> 1bad1 9bf- d091- 4a97- 97cd- 3b778 2827f 581bad1 9bf- d091- 4a97- 97cd- 3b778 2827f 58\n"
     ]
    }
   ],
   "source": [
    "logging.info(f'la ultima posicion del caracter {caracter} esta en {palabra.rfind(caracter)}  en -> {palabra}')"
   ]
  },
  {
   "cell_type": "code",
   "execution_count": 85,
   "metadata": {},
   "outputs": [
    {
     "name": "stderr",
     "output_type": "stream",
     "text": [
      "2023-03-02 21:19:59 INFO: STRING GENERATED-> la proxima posicion del caracter   esta en la posicion -> 16  en -> 1bad1 9bf- d091- 4a97- 97cd- 3b778 2827f 581bad1 9bf- d091- 4a97- 97cd- 3b778 2827f 58\n"
     ]
    }
   ],
   "source": [
    "logging.info(f'la proxima posicion del caracter {caracter} esta en la posicion -> {palabra.find(caracter, 13)}  en -> {palabra}')"
   ]
  },
  {
   "cell_type": "code",
   "execution_count": 86,
   "metadata": {},
   "outputs": [
    {
     "name": "stderr",
     "output_type": "stream",
     "text": [
      "2023-03-02 21:19:59 INFO: STRING GENERATED-> la proxima posicion del caracter   esta en la posicion -> 83  en -> 1bad1 9bf- d091- 4a97- 97cd- 3b778 2827f 581bad1 9bf- d091- 4a97- 97cd- 3b778 2827f 58\n"
     ]
    }
   ],
   "source": [
    "logging.info(f'la proxima posicion del caracter {caracter} esta en la posicion -> {palabra.rfind(caracter, 57)}  en -> {palabra}')"
   ]
  },
  {
   "cell_type": "code",
   "execution_count": 87,
   "metadata": {},
   "outputs": [
    {
     "name": "stderr",
     "output_type": "stream",
     "text": [
      "2023-03-02 21:19:59 INFO: STRING GENERATED-> la cadena tiene el caracter   en las siguientes posiciones  -> ['  -> 5', '  -> 10', '  -> 16', '  -> 22', '  -> 28', '  -> 34', '  -> 40', '  -> 48', '  -> 53', '  -> 59', '  -> 65', '  -> 71', '  -> 77', '  -> 83']  en -> 1bad1 9bf- d091- 4a97- 97cd- 3b778 2827f 581bad1 9bf- d091- 4a97- 97cd- 3b778 2827f 58\n"
     ]
    }
   ],
   "source": [
    "ocurrencias = [str(j) + ' -> ' + str(i) for i,j in enumerate(palabra) if j == caracter]\n",
    "\n",
    "logging.info(f'la cadena tiene el caracter {caracter} en las siguientes posiciones  -> {ocurrencias}  en -> {palabra}')"
   ]
  },
  {
   "cell_type": "code",
   "execution_count": 88,
   "metadata": {},
   "outputs": [
    {
     "name": "stderr",
     "output_type": "stream",
     "text": [
      "2023-03-02 21:20:00 INFO: STRING GENERATED-> la cadena inicia con el caracter    -> False  en -> 1bad1 9bf- d091- 4a97- 97cd- 3b778 2827f 581bad1 9bf- d091- 4a97- 97cd- 3b778 2827f 58\n"
     ]
    }
   ],
   "source": [
    "logging.info(f'la cadena inicia con el caracter {caracter}  -> {palabra.startswith(caracter)}  en -> {palabra}')"
   ]
  },
  {
   "cell_type": "code",
   "execution_count": 89,
   "metadata": {},
   "outputs": [
    {
     "name": "stderr",
     "output_type": "stream",
     "text": [
      "2023-03-02 21:20:00 INFO: STRING GENERATED-> la cadena finaliza con el caracter f 58  -> True  en -> 1bad1 9bf- d091- 4a97- 97cd- 3b778 2827f 581bad1 9bf- d091- 4a97- 97cd- 3b778 2827f 58\n"
     ]
    }
   ],
   "source": [
    "logging.info(f'la cadena finaliza con el caracter {palabra[-4:]}  -> {palabra.endswith(palabra[-4:])}  en -> {palabra}')"
   ]
  },
  {
   "cell_type": "code",
   "execution_count": 90,
   "metadata": {},
   "outputs": [
    {
     "name": "stderr",
     "output_type": "stream",
     "text": [
      "2023-03-02 21:20:00 INFO: STRING GENERATED-> la cadena finaliza con el caracter b'1bad1 9bf- d091- 4a97- 97cd- 3b778 2827f 581bad1 9bf- d091- 4a97- 97cd- 3b778 2827f 58'  -> b'1bad1 9bf- d091- 4a97- 97cd- 3b778 2827f 581bad1 9bf- d091- 4a97- 97cd- 3b778 2827f 58'  en -> b'1bad1 9bf- d091- 4a97- 97cd- 3b778 2827f 581bad1 9bf- d091- 4a97- 97cd- 3b778 2827f 58'\n"
     ]
    }
   ],
   "source": [
    "logging.info(f'la cadena finaliza con el caracter {palabra.encode(\"utf-8\")}  -> {palabra.encode(\"utf-8\")}  en -> {palabra.encode(\"utf-8\")}')"
   ]
  },
  {
   "cell_type": "markdown",
   "metadata": {},
   "source": [
    "# <center> IN & NOT IN para evitar el uso de Múltiples OR</center>"
   ]
  },
  {
   "cell_type": "code",
   "execution_count": 91,
   "metadata": {},
   "outputs": [],
   "source": [
    "from pprint import pprint\n",
    "valor:int = 31\n",
    "\n",
    "def esta_el_valor(valor:int) -> bool:\n",
    "    \n",
    "    if (valor == 1 or valor == 2 or valor == 3 or valor == 7 or valor == 13 or valor == 31):\n",
    "        return True\n",
    "    \n",
    "    return False"
   ]
  },
  {
   "cell_type": "code",
   "execution_count": 92,
   "metadata": {},
   "outputs": [
    {
     "data": {
      "text/plain": [
       "True"
      ]
     },
     "execution_count": 92,
     "metadata": {},
     "output_type": "execute_result"
    }
   ],
   "source": [
    "esta_el_valor(valor)"
   ]
  },
  {
   "cell_type": "code",
   "execution_count": 93,
   "metadata": {},
   "outputs": [],
   "source": [
    "def esta_el_elemento_en_lista(valor:int) -> bool:\n",
    "    \n",
    "    return valor in [1,2,3,7,13,31]"
   ]
  },
  {
   "cell_type": "code",
   "execution_count": 94,
   "metadata": {},
   "outputs": [
    {
     "data": {
      "text/plain": [
       "True"
      ]
     },
     "execution_count": 94,
     "metadata": {},
     "output_type": "execute_result"
    }
   ],
   "source": [
    "esta_el_elemento_en_lista(valor)"
   ]
  },
  {
   "cell_type": "code",
   "execution_count": 95,
   "metadata": {},
   "outputs": [],
   "source": [
    "def esta_el_elemento_en_string(valor:str) -> bool:\n",
    "    \n",
    "    return valor in '0123456789'"
   ]
  },
  {
   "cell_type": "code",
   "execution_count": 96,
   "metadata": {},
   "outputs": [
    {
     "data": {
      "text/plain": [
       "True"
      ]
     },
     "execution_count": 96,
     "metadata": {},
     "output_type": "execute_result"
    }
   ],
   "source": [
    "esta_el_elemento_en_string('7')"
   ]
  },
  {
   "cell_type": "code",
   "execution_count": 97,
   "metadata": {},
   "outputs": [],
   "source": [
    "palabra = generate_characters(15)\n",
    "numeros = generate_numbers(15)\n",
    "\n",
    "cadena = palabra[0:3]\n",
    "numero = numeros[4:7]\n",
    "numeros_impares = numeros[::2]\n",
    "validar_letra = random.choice(palabra)\n",
    "validar_numero = random.choice(numeros)"
   ]
  },
  {
   "cell_type": "code",
   "execution_count": 98,
   "metadata": {},
   "outputs": [
    {
     "name": "stderr",
     "output_type": "stream",
     "text": [
      "2023-03-02 21:20:04 INFO: STRING GENERATED-> la cadena -> Sde ESTA en la palabra SdeDQKtnsdEInnZ -> True\n",
      "2023-03-02 21:20:04 INFO: STRING GENERATED-> el caracter -> d ESTA en la palabra SdeDQKtnsdEInnZ -> True\n",
      "2023-03-02 21:20:04 INFO: STRING GENERATED-> el numero -> 029 ESTA en la cadena de numeros 122302901546565 -> True\n",
      "2023-03-02 21:20:04 INFO: STRING GENERATED-> el numero -> 12091455 ESTA en la cadena de numeros 122302901546565 -> False\n",
      "2023-03-02 21:20:04 INFO: STRING GENERATED-> el numero -> 029 ESTA en la cadena de numeros 122302901546565 -> True\n"
     ]
    }
   ],
   "source": [
    "logging.info(f'la cadena -> {cadena} ESTA en la palabra {palabra} -> {cadena in palabra}')\n",
    "logging.info(f'el caracter -> {validar_letra} ESTA en la palabra {palabra} -> {validar_letra in palabra}')\n",
    "logging.info(f'el numero -> {numero} ESTA en la cadena de numeros {numeros} -> {numero in numeros}')\n",
    "logging.info(f'el numero -> {numeros_impares} ESTA en la cadena de numeros {numeros} -> {numeros_impares in numeros}')\n",
    "logging.info(f'el numero -> {numero} ESTA en la cadena de numeros {numeros} -> {numero in numeros}')"
   ]
  },
  {
   "cell_type": "code",
   "execution_count": 99,
   "metadata": {},
   "outputs": [
    {
     "name": "stderr",
     "output_type": "stream",
     "text": [
      "2023-03-02 21:20:04 INFO: STRING GENERATED-> la cadena -> Sde NO ESTA en la palabra SdeDQKtnsdEInnZ -> False\n",
      "2023-03-02 21:20:04 INFO: STRING GENERATED-> el caracter -> d NO ESTA en la palabra SdeDQKtnsdEInnZ -> False\n",
      "2023-03-02 21:20:04 INFO: STRING GENERATED-> el numero -> 029 NO ESTA en la cadena de numeros 122302901546565 -> False\n",
      "2023-03-02 21:20:04 INFO: STRING GENERATED-> el numero -> 12091455 NO ESTA en la cadena de numeros 122302901546565 -> True\n"
     ]
    }
   ],
   "source": [
    "logging.info(f'la cadena -> {cadena} NO ESTA en la palabra {palabra} -> {cadena not in palabra}')\n",
    "logging.info(f'el caracter -> {validar_letra} NO ESTA en la palabra {palabra} -> {validar_letra not in palabra}')\n",
    "logging.info(f'el numero -> {numero} NO ESTA en la cadena de numeros {numeros} -> {numero not in numeros}')\n",
    "logging.info(f'el numero -> {numeros_impares} NO ESTA en la cadena de numeros {numeros} -> {numeros_impares not in numeros}')"
   ]
  },
  {
   "cell_type": "code",
   "execution_count": 100,
   "metadata": {},
   "outputs": [
    {
     "name": "stderr",
     "output_type": "stream",
     "text": [
      "2023-03-02 21:20:05 INFO: STRING GENERATED-> el numero -> 1 ESTA en el diccionario {'1': '1', '2': '2', '3': '3', '0': '0', '9': '9', '5': '5', '4': '4', '6': '6'} -> True\n",
      "2023-03-02 21:20:05 INFO: STRING GENERATED-> el numero -> 1 NO ESTA en el diccionario {'1': '1', '2': '2', '3': '3', '0': '0', '9': '9', '5': '5', '4': '4', '6': '6'} -> False\n"
     ]
    }
   ],
   "source": [
    "diccionario = {x:x for x in numeros}\n",
    "logging.info(f'el numero -> {validar_numero} ESTA en el diccionario {diccionario} -> {validar_numero in diccionario}')\n",
    "logging.info(f'el numero -> {validar_numero} NO ESTA en el diccionario {diccionario} -> {validar_numero not in diccionario}')"
   ]
  },
  {
   "cell_type": "code",
   "execution_count": 101,
   "metadata": {},
   "outputs": [
    {
     "name": "stderr",
     "output_type": "stream",
     "text": [
      "2023-03-02 21:20:05 INFO: STRING GENERATED-> el caracter -> d ESTA en el conjunto {'e', 's', 'Z', 'n', 'D', 'E', 't', 'K', 'I', 'Q', 'S', 'd'} -> True\n",
      "2023-03-02 21:20:05 INFO: STRING GENERATED-> el caracter -> d NO ESTA en el conjunto {'e', 's', 'Z', 'n', 'D', 'E', 't', 'K', 'I', 'Q', 'S', 'd'} -> False\n"
     ]
    }
   ],
   "source": [
    "conjunto = set(palabra)\n",
    "logging.info(f'el caracter -> {validar_letra} ESTA en el conjunto {conjunto} -> {validar_letra in conjunto}')\n",
    "logging.info(f'el caracter -> {validar_letra} NO ESTA en el conjunto {conjunto} -> {validar_letra not in conjunto}')"
   ]
  },
  {
   "cell_type": "code",
   "execution_count": 102,
   "metadata": {},
   "outputs": [
    {
     "name": "stderr",
     "output_type": "stream",
     "text": [
      "2023-03-02 21:20:05 INFO: STRING GENERATED-> el numero -> 1 ESTA en la lista ['1', '2', '2', '3', '0', '2', '9', '0', '1', '5', '4', '6', '5', '6', '5'] -> True\n",
      "2023-03-02 21:20:05 INFO: STRING GENERATED-> el numero -> 1 NO ESTA en la lista {'1': '1', '2': '2', '3': '3', '0': '0', '9': '9', '5': '5', '4': '4', '6': '6'} -> False\n"
     ]
    }
   ],
   "source": [
    "lista = list(numeros)\n",
    "logging.info(f'el numero -> {validar_numero} ESTA en la lista {lista} -> {validar_numero in lista}')\n",
    "logging.info(f'el numero -> {validar_numero} NO ESTA en la lista {diccionario} -> {validar_numero not in lista}')"
   ]
  },
  {
   "cell_type": "code",
   "execution_count": 103,
   "metadata": {},
   "outputs": [
    {
     "name": "stderr",
     "output_type": "stream",
     "text": [
      "2023-03-02 21:20:05 INFO: STRING GENERATED-> el caracter -> d ESTA en la tupla ('S', 'd', 'e', 'D', 'Q', 'K', 't', 'n', 's', 'd', 'E', 'I', 'n', 'n', 'Z') -> True\n",
      "2023-03-02 21:20:05 INFO: STRING GENERATED-> el caracter -> d NO ESTA en la tupla ('S', 'd', 'e', 'D', 'Q', 'K', 't', 'n', 's', 'd', 'E', 'I', 'n', 'n', 'Z') -> False\n"
     ]
    }
   ],
   "source": [
    "tupla = tuple(palabra)\n",
    "logging.info(f'el caracter -> {validar_letra} ESTA en la tupla {tupla} -> {validar_letra in tupla}')\n",
    "logging.info(f'el caracter -> {validar_letra} NO ESTA en la tupla {tupla} -> {validar_letra not in tupla}')"
   ]
  },
  {
   "cell_type": "code",
   "execution_count": 104,
   "metadata": {},
   "outputs": [
    {
     "name": "stderr",
     "output_type": "stream",
     "text": [
      "2023-03-02 21:20:06 INFO: STRING GENERATED-> los numeros -> [8, 5, 2] ESTAN en la lista [1, 5, 0, 0, 8, 5, 2, 9, 2, 0] -> True\n",
      "2023-03-02 21:20:06 INFO: STRING GENERATED-> los numeros -> [1, 5, 0, 0, 8, 5, 2, 9, 2, 0] ESTAN en la lista [8, 5, 2] -> False\n"
     ]
    }
   ],
   "source": [
    "palabra = generate_characters(10)\n",
    "numeros = [int(x) for x in list(generate_numbers(10))]\n",
    "\n",
    "cadena = palabra[0:3]\n",
    "numeros_buscar = numeros[4:7]\n",
    "numeros_impares = numeros[::2]\n",
    "\n",
    "logging.info(f'los numeros -> {numeros_buscar} ESTAN en la lista {numeros} -> {all([1 if x in numeros else 0 for x in numeros_buscar])}')\n",
    "logging.info(f'los numeros -> {numeros} ESTAN en la lista {numeros_buscar} -> {all([1 if x in numeros_buscar else 0 for x in numeros])}')"
   ]
  },
  {
   "cell_type": "code",
   "execution_count": 105,
   "metadata": {},
   "outputs": [
    {
     "name": "stderr",
     "output_type": "stream",
     "text": [
      "2023-03-02 21:20:06 INFO: STRING GENERATED-> la cadena -> bEw ESTA en la palabra bEwefKonZY -> True\n",
      "2023-03-02 21:20:06 INFO: STRING GENERATED-> los numeros -> bEwefKonZY ESTAN en la lista bEw -> False\n"
     ]
    }
   ],
   "source": [
    "logging.info(f'la cadena -> {cadena} ESTA en la palabra {palabra} -> {all([1 if x in palabra else 0 for x in cadena])}')\n",
    "logging.info(f'los numeros -> {palabra} ESTAN en la lista {cadena} -> {all([1 if x in cadena else 0 for x in palabra])}')"
   ]
  }
 ],
 "metadata": {
  "kernelspec": {
   "display_name": "Python 3 (ipykernel)",
   "language": "python",
   "name": "python3"
  },
  "language_info": {
   "codemirror_mode": {
    "name": "ipython",
    "version": 3
   },
   "file_extension": ".py",
   "mimetype": "text/x-python",
   "name": "python",
   "nbconvert_exporter": "python",
   "pygments_lexer": "ipython3",
   "version": "3.10.9"
  }
 },
 "nbformat": 4,
 "nbformat_minor": 4
}
