{
 "cells": [
  {
   "cell_type": "code",
   "execution_count": 1,
   "metadata": {},
   "outputs": [
    {
     "data": {
      "text/html": [
       "<style>.container { width:100% !important; }</style>"
      ],
      "text/plain": [
       "<IPython.core.display.HTML object>"
      ]
     },
     "metadata": {},
     "output_type": "display_data"
    }
   ],
   "source": [
    "from IPython.core.display import display, HTML\n",
    "display(HTML(\"<style>.container { width:100% !important; }</style>\"))"
   ]
  },
  {
   "cell_type": "code",
   "execution_count": 2,
   "metadata": {},
   "outputs": [
    {
     "name": "stdout",
     "output_type": "stream",
     "text": [
      "3.9.7\n"
     ]
    }
   ],
   "source": [
    "from platform import python_version\n",
    "\n",
    "print(python_version())"
   ]
  },
  {
   "cell_type": "code",
   "execution_count": 3,
   "metadata": {},
   "outputs": [
    {
     "name": "stderr",
     "output_type": "stream",
     "text": [
      "2021-12-19 22:26:21 INFO: STRING GENERATED-> son ejemplo_numerico -> [0, 0, 1, 0, 1, 0, 0, 1, 0, 0, 1, 0, 1, 0, 1, 0, 1, 0, 0, 0]\n",
      "2021-12-19 22:26:21 INFO: STRING GENERATED-> son ejemplo_cast_numero -> [False, False, False, False, False, False, False, False, True, False, True, True, False, False, True, True, False, False, True, False]\n",
      "2021-12-19 22:26:21 INFO: STRING GENERATED-> son ejemplo_bool -> [True, True, True, False, True, False, True, True, True, True, False, False, False, False, False, True, True, False, False, False]\n",
      "2021-12-19 22:26:21 INFO: STRING GENERATED-> son ejemplo_bool_2 -> [True, True, True, True, True, False, True, False, True, False, False, True, True, True, True, False, False, True, True, True]\n",
      "2021-12-19 22:26:21 INFO: STRING GENERATED-> son ejemplo_vacio -> [None, '', None, None, '', None, '', '', '', None, '', '', None, '', '', None, '', None, '', None]\n",
      "2021-12-19 22:26:21 INFO: STRING GENERATED-> son ejemplo_vacio_espacio -> [' ', None, ' ', '', None, None, None, ' ', None, ' ', '', ' ', None, '', ' ', ' ', None, None, '', ' ']\n",
      "2021-12-19 22:26:21 INFO: STRING GENERATED-> son ejemplo_mixto -> [None, '-', '-', None, '-', '-', None, None, '', '', None, '', '-', None, '', ' ', None, '-', '', '-']\n"
     ]
    }
   ],
   "source": [
    "import random\n",
    "import logging\n",
    "\n",
    "limit = 20\n",
    "\n",
    "logging.basicConfig(format='%(asctime)s %(levelname)s: STRING GENERATED-> %(message)s', level=logging.DEBUG, datefmt='%Y-%m-%d %H:%M:%S')\n",
    "\n",
    "ejemplo_numerico = [random.randint(0,1) for i in range(limit)]\n",
    "logging.info(f'son ejemplo_numerico -> {ejemplo_numerico}')\n",
    "\n",
    "\n",
    "ejemplo_cast_numero = [bool(random.randint(0,1)) for i in range(limit)]\n",
    "logging.info(f'son ejemplo_cast_numero -> {ejemplo_cast_numero}')\n",
    "\n",
    "\n",
    "ejemplo_bool = [bool(random.getrandbits(1)) for i in range(limit)]\n",
    "logging.info(f'son ejemplo_bool -> {ejemplo_bool}')\n",
    "\n",
    "\n",
    "ejemplo_bool_2 = [random.choice([True, False]) for i in range(limit)]\n",
    "logging.info(f'son ejemplo_bool_2 -> {ejemplo_bool_2}')\n",
    "\n",
    "ejemplo_vacio = [random.choice(['', None]) for i in range(limit)]\n",
    "logging.info(f'son ejemplo_vacio -> {ejemplo_vacio}')\n",
    "\n",
    "ejemplo_vacio_espacio = [random.choice(['', None, ' ']) for i in range(limit)]\n",
    "logging.info(f'son ejemplo_vacio_espacio -> {ejemplo_vacio_espacio}')\n",
    "\n",
    "ejemplo_mixto = [random.choice(['', None, ' ', '-']) for i in range(limit)]\n",
    "logging.info(f'son ejemplo_mixto -> {ejemplo_mixto}')"
   ]
  },
  {
   "cell_type": "markdown",
   "metadata": {},
   "source": [
    "# <center> ALL -> VALIDA QUE TODO SEA VERDADERO </center>"
   ]
  },
  {
   "cell_type": "code",
   "execution_count": 4,
   "metadata": {},
   "outputs": [
    {
     "name": "stderr",
     "output_type": "stream",
     "text": [
      "2021-12-19 22:26:21 INFO: STRING GENERATED-> son ejemplo_verdadero[1, True, ' '] -> True\n",
      "2021-12-19 22:26:21 INFO: STRING GENERATED-> son ejemplo_numerico [0, 0, 1, 0, 1, 0, 0, 1, 0, 0, 1, 0, 1, 0, 1, 0, 1, 0, 0, 0] -> False\n",
      "2021-12-19 22:26:21 INFO: STRING GENERATED-> son ejemplo_cast_numero [False, False, False, False, False, False, False, False, True, False, True, True, False, False, True, True, False, False, True, False] -> False\n",
      "2021-12-19 22:26:21 INFO: STRING GENERATED-> son ejemplo_bool [True, True, True, False, True, False, True, True, True, True, False, False, False, False, False, True, True, False, False, False] -> False\n",
      "2021-12-19 22:26:21 INFO: STRING GENERATED-> son ejemplo_bool_2 [True, True, True, True, True, False, True, False, True, False, False, True, True, True, True, False, False, True, True, True] -> False\n",
      "2021-12-19 22:26:21 INFO: STRING GENERATED-> son ejemplo_vacio [None, '', None, None, '', None, '', '', '', None, '', '', None, '', '', None, '', None, '', None] -> False\n",
      "2021-12-19 22:26:21 INFO: STRING GENERATED-> son ejemplo_vacio_espacio [' ', None, ' ', '', None, None, None, ' ', None, ' ', '', ' ', None, '', ' ', ' ', None, None, '', ' '] -> False\n",
      "2021-12-19 22:26:21 INFO: STRING GENERATED-> son ejemplo_mixto [None, '-', '-', None, '-', '-', None, None, '', '', None, '', '-', None, '', ' ', None, '-', '', '-'] -> False\n"
     ]
    }
   ],
   "source": [
    "logging.info(f'son ejemplo_verdadero{[1,True,\" \"]} -> {all([1,True,\" \"])}')\n",
    "logging.info(f'son ejemplo_numerico {ejemplo_numerico} -> {all(ejemplo_numerico)}')\n",
    "logging.info(f'son ejemplo_cast_numero {ejemplo_cast_numero} -> {all(ejemplo_cast_numero)}')\n",
    "logging.info(f'son ejemplo_bool {ejemplo_bool} -> {all(ejemplo_bool)}')\n",
    "logging.info(f'son ejemplo_bool_2 {ejemplo_bool_2} -> {all(ejemplo_bool_2)}')\n",
    "logging.info(f'son ejemplo_vacio {ejemplo_vacio} -> {all(ejemplo_vacio)}')\n",
    "logging.info(f'son ejemplo_vacio_espacio {ejemplo_vacio_espacio} -> {all(ejemplo_vacio_espacio)}')\n",
    "logging.info(f'son ejemplo_mixto {ejemplo_mixto} -> {all(ejemplo_mixto)}')"
   ]
  },
  {
   "cell_type": "markdown",
   "metadata": {},
   "source": [
    "# <center> ANY -> VALIDA QUE POR LO MENOS UNO SEA VERDADERO </center>"
   ]
  },
  {
   "cell_type": "code",
   "execution_count": 5,
   "metadata": {},
   "outputs": [
    {
     "name": "stderr",
     "output_type": "stream",
     "text": [
      "2021-12-19 22:26:21 INFO: STRING GENERATED-> son ejemplo_numerico [0, 0, 1, 0, 1, 0, 0, 1, 0, 0, 1, 0, 1, 0, 1, 0, 1, 0, 0, 0] -> True\n",
      "2021-12-19 22:26:21 INFO: STRING GENERATED-> son ejemplo_cast_numero [False, False, False, False, False, False, False, False, True, False, True, True, False, False, True, True, False, False, True, False] -> True\n",
      "2021-12-19 22:26:21 INFO: STRING GENERATED-> son ejemplo_bool [True, True, True, False, True, False, True, True, True, True, False, False, False, False, False, True, True, False, False, False] -> True\n",
      "2021-12-19 22:26:21 INFO: STRING GENERATED-> son ejemplo_bool_2 [True, True, True, True, True, False, True, False, True, False, False, True, True, True, True, False, False, True, True, True] -> True\n",
      "2021-12-19 22:26:21 INFO: STRING GENERATED-> son ejemplo_vacio [None, '', None, None, '', None, '', '', '', None, '', '', None, '', '', None, '', None, '', None] -> False\n",
      "2021-12-19 22:26:21 INFO: STRING GENERATED-> son ejemplo_vacio_espacio [' ', None, ' ', '', None, None, None, ' ', None, ' ', '', ' ', None, '', ' ', ' ', None, None, '', ' '] -> True\n",
      "2021-12-19 22:26:21 INFO: STRING GENERATED-> son ejemplo_mixto [None, '-', '-', None, '-', '-', None, None, '', '', None, '', '-', None, '', ' ', None, '-', '', '-'] -> True\n"
     ]
    }
   ],
   "source": [
    "logging.info(f'son ejemplo_numerico {ejemplo_numerico} -> {any(ejemplo_numerico)}')\n",
    "logging.info(f'son ejemplo_cast_numero {ejemplo_cast_numero} -> {any(ejemplo_cast_numero)}')\n",
    "logging.info(f'son ejemplo_bool {ejemplo_bool} -> {any(ejemplo_bool)}')\n",
    "logging.info(f'son ejemplo_bool_2 {ejemplo_bool_2} -> {any(ejemplo_bool_2)}')\n",
    "logging.info(f'son ejemplo_vacio {ejemplo_vacio} -> {any(ejemplo_vacio)}')\n",
    "logging.info(f'son ejemplo_vacio_espacio {ejemplo_vacio_espacio} -> {any(ejemplo_vacio_espacio)}')\n",
    "logging.info(f'son ejemplo_mixto {ejemplo_mixto} -> {any(ejemplo_mixto)}')"
   ]
  },
  {
   "cell_type": "markdown",
   "metadata": {},
   "source": [
    "# <center> Generadores de Cadenas Aleatorias </center>"
   ]
  },
  {
   "cell_type": "code",
   "execution_count": 6,
   "metadata": {},
   "outputs": [],
   "source": [
    "import string\n",
    "import uuid\n",
    "import textwrap\n",
    "\n",
    "def generate_characters(size:int = 25) -> str:\n",
    "    \n",
    "    return ''.join([random.choice(string.ascii_letters) for x in range(size)])\n",
    "\n",
    "def generate_numbers(size:int = 25) -> str:\n",
    "    \n",
    "    return ''.join([random.choice(string.digits) for x in range(size)])\n",
    "\n",
    "def generate_characters_and_numbers(size:int = 50) -> str:\n",
    "    \n",
    "    return ''.join([random.SystemRandom().choice(string.ascii_letters + string.digits) for x in range(size)])\n",
    "\n",
    "def generate_uuid(size:int = 1) -> str :\n",
    "    \n",
    "    return str(uuid.uuid4())\n",
    "\n",
    "def generate_unique_values(size:int = 75) -> str:\n",
    "    \n",
    "    characteres = string.digits + string.ascii_letters + string.punctuation\n",
    "\n",
    "    return ''.join(random.sample(characteres, size))\n",
    "\n",
    "\n",
    "#decorador\n",
    "def split_string(funcion_entrada)-> str:\n",
    "    \n",
    "    parts_to_divide  = 5\n",
    "    \n",
    "    def split_word(*args, **kwargs):\n",
    "        \n",
    "        return ' '.join(textwrap.wrap(funcion_entrada(*args, **kwargs), parts_to_divide))      \n",
    "        \n",
    "    return split_word\n",
    "\n",
    "funciones = [generate_characters, generate_numbers, generate_characters_and_numbers, generate_uuid, generate_unique_values]\n",
    "\n",
    "@split_string\n",
    "def get_random_function() -> str:\n",
    "    \n",
    "    return funciones[random.randint(0, len(funciones) -1)]()"
   ]
  },
  {
   "cell_type": "markdown",
   "metadata": {},
   "source": [
    "# <center> Título, Mayúsculas, Minúsculas, Primera letra en Mayúscula, Invertir Mayúsculas y Minúsculas  </center>"
   ]
  },
  {
   "cell_type": "code",
   "execution_count": 7,
   "metadata": {},
   "outputs": [
    {
     "name": "stderr",
     "output_type": "stream",
     "text": [
      "2021-12-19 22:26:21 INFO: STRING GENERATED-> 15f9c 904-f 6e6-4 bd6-9 47d-2 9018b 0db87 a\n"
     ]
    }
   ],
   "source": [
    "palabra = get_random_function()\n",
    "logging.info(palabra)"
   ]
  },
  {
   "cell_type": "code",
   "execution_count": 8,
   "metadata": {},
   "outputs": [
    {
     "data": {
      "text/plain": [
       "'15F9C 904-F 6E6-4 Bd6-9 47D-2 9018B 0Db87 A'"
      ]
     },
     "execution_count": 8,
     "metadata": {},
     "output_type": "execute_result"
    }
   ],
   "source": [
    "palabra.title()"
   ]
  },
  {
   "cell_type": "code",
   "execution_count": 9,
   "metadata": {},
   "outputs": [
    {
     "data": {
      "text/plain": [
       "'15F9C 904-F 6E6-4 BD6-9 47D-2 9018B 0DB87 A'"
      ]
     },
     "execution_count": 9,
     "metadata": {},
     "output_type": "execute_result"
    }
   ],
   "source": [
    "palabra.upper()"
   ]
  },
  {
   "cell_type": "code",
   "execution_count": 10,
   "metadata": {},
   "outputs": [
    {
     "data": {
      "text/plain": [
       "'15f9c 904-f 6e6-4 bd6-9 47d-2 9018b 0db87 a'"
      ]
     },
     "execution_count": 10,
     "metadata": {},
     "output_type": "execute_result"
    }
   ],
   "source": [
    "palabra.lower()"
   ]
  },
  {
   "cell_type": "code",
   "execution_count": 11,
   "metadata": {},
   "outputs": [
    {
     "data": {
      "text/plain": [
       "'15f9c 904-f 6e6-4 bd6-9 47d-2 9018b 0db87 a'"
      ]
     },
     "execution_count": 11,
     "metadata": {},
     "output_type": "execute_result"
    }
   ],
   "source": [
    "palabra.capitalize()"
   ]
  },
  {
   "cell_type": "code",
   "execution_count": 12,
   "metadata": {},
   "outputs": [
    {
     "data": {
      "text/plain": [
       "'15F9C 904-F 6E6-4 BD6-9 47D-2 9018B 0DB87 A'"
      ]
     },
     "execution_count": 12,
     "metadata": {},
     "output_type": "execute_result"
    }
   ],
   "source": [
    "palabra.swapcase()"
   ]
  },
  {
   "cell_type": "markdown",
   "metadata": {},
   "source": [
    "# <center> Eliminar espacios en blanco o caracteres, a la Derecha a la Izquierda, Todos </center>"
   ]
  },
  {
   "cell_type": "code",
   "execution_count": 13,
   "metadata": {},
   "outputs": [
    {
     "name": "stderr",
     "output_type": "stream",
     "text": [
      "2021-12-19 22:26:21 INFO: STRING GENERATED->    2ec04 eff-b fdf-4 173-b 289-f 04dce 8ef0f 5   \n"
     ]
    }
   ],
   "source": [
    "palabra =   '   ' + get_random_function() +  '   '\n",
    "logging.info(palabra)"
   ]
  },
  {
   "cell_type": "code",
   "execution_count": 14,
   "metadata": {},
   "outputs": [
    {
     "data": {
      "text/plain": [
       "'2ec04 eff-b fdf-4 173-b 289-f 04dce 8ef0f 5   '"
      ]
     },
     "execution_count": 14,
     "metadata": {},
     "output_type": "execute_result"
    }
   ],
   "source": [
    "# remueve el prejijo a la cadena \n",
    "v = palabra.lstrip()\n",
    "v"
   ]
  },
  {
   "cell_type": "code",
   "execution_count": 15,
   "metadata": {},
   "outputs": [
    {
     "data": {
      "text/plain": [
       "'eff-b fdf-4 173-b 289-f 04dce 8ef0f 5   '"
      ]
     },
     "execution_count": 15,
     "metadata": {},
     "output_type": "execute_result"
    }
   ],
   "source": [
    "v.removeprefix(v[0:6])"
   ]
  },
  {
   "cell_type": "code",
   "execution_count": 16,
   "metadata": {},
   "outputs": [
    {
     "data": {
      "text/plain": [
       "'ff-b fdf-4 173-b 289-f 04dce 8ef0f 5   '"
      ]
     },
     "execution_count": 16,
     "metadata": {},
     "output_type": "execute_result"
    }
   ],
   "source": [
    "v.lstrip(v[0:6])"
   ]
  },
  {
   "cell_type": "code",
   "execution_count": 17,
   "metadata": {},
   "outputs": [
    {
     "data": {
      "text/plain": [
       "'   2ec04 eff-b fdf-4 173-b 289-f 04dce 8ef0f 5'"
      ]
     },
     "execution_count": 17,
     "metadata": {},
     "output_type": "execute_result"
    }
   ],
   "source": [
    "# remueve el sufijo a la cadena \n",
    "u = palabra.rstrip()\n",
    "u"
   ]
  },
  {
   "cell_type": "code",
   "execution_count": 18,
   "metadata": {},
   "outputs": [
    {
     "data": {
      "text/plain": [
       "'   2ec04 eff-b fdf-4 173-b 289-f 04dce 8'"
      ]
     },
     "execution_count": 18,
     "metadata": {},
     "output_type": "execute_result"
    }
   ],
   "source": [
    "u.removesuffix(u[-6:])"
   ]
  },
  {
   "cell_type": "code",
   "execution_count": 19,
   "metadata": {},
   "outputs": [
    {
     "data": {
      "text/plain": [
       "'2ec04 eff-b fdf-4 173-b 289-f 04dce 8ef0f 5'"
      ]
     },
     "execution_count": 19,
     "metadata": {},
     "output_type": "execute_result"
    }
   ],
   "source": [
    "# remueve el prejijo y sufijo a la cadena \n",
    "w = palabra.strip()\n",
    "w"
   ]
  },
  {
   "cell_type": "code",
   "execution_count": 20,
   "metadata": {},
   "outputs": [
    {
     "name": "stderr",
     "output_type": "stream",
     "text": [
      "2021-12-19 22:26:21 INFO: STRING GENERATED->    @@@2ec04@eff-b@fdf-4@173-b@289-f@04dce@8ef0f@5@@@   \n",
      "2021-12-19 22:26:21 INFO: STRING GENERATED->    @@@2ec04@eff-b@fdf-4@173-b@289-f@04dce@8ef0f@5@@@   \n"
     ]
    }
   ],
   "source": [
    "x = '   ' + palabra.replace(' ', '@')  +  '   '\n",
    "logging.info(x)\n",
    "\n",
    "x  = x.strip('@')\n",
    "logging.info(x)"
   ]
  },
  {
   "cell_type": "code",
   "execution_count": 21,
   "metadata": {},
   "outputs": [
    {
     "name": "stderr",
     "output_type": "stream",
     "text": [
      "2021-12-19 22:26:21 INFO: STRING GENERATED->    2ec04 eff-b fdf-4 173-b 289-f 04dce 8ef0f 5   \n",
      "2021-12-19 22:26:21 INFO: STRING GENERATED-> @@@2ec04@eff-b@fdf-4@173-b@289-f@04dce@8ef0f@5@@@\n",
      "2021-12-19 22:26:21 INFO: STRING GENERATED-> 2ec04@eff-b@fdf-4@173-b@289-f@04dce@8ef0f@5\n"
     ]
    }
   ],
   "source": [
    "logging.info(palabra)\n",
    "y = palabra.replace(' ', '@')\n",
    "logging.info(y)\n",
    "z  = y.strip('@')\n",
    "logging.info(z)"
   ]
  },
  {
   "cell_type": "code",
   "execution_count": 22,
   "metadata": {},
   "outputs": [
    {
     "data": {
      "text/plain": [
       "'jorgecardona'"
      ]
     },
     "execution_count": 22,
     "metadata": {},
     "output_type": "execute_result"
    }
   ],
   "source": [
    "gh = '        hhhhhttp      s://www.jorgecardona.comwhttps'.strip(' htp:/wswo.cm')\n",
    "gh"
   ]
  },
  {
   "cell_type": "markdown",
   "metadata": {},
   "source": [
    "# <center> Alinear texto, a la Derecha a la Izquierda, al centro </center>"
   ]
  },
  {
   "cell_type": "code",
   "execution_count": 23,
   "metadata": {},
   "outputs": [
    {
     "name": "stderr",
     "output_type": "stream",
     "text": [
      "2021-12-19 22:26:21 INFO: STRING GENERATED-> 0013b a48-2 7cd-4 34a-a 68b-1 c2c40 07ff8 4\n"
     ]
    }
   ],
   "source": [
    "palabra =  get_random_function()\n",
    "logging.info(palabra)"
   ]
  },
  {
   "cell_type": "code",
   "execution_count": 24,
   "metadata": {},
   "outputs": [
    {
     "data": {
      "text/plain": [
       "'       0013b a48-2 7cd-4 34a-a 68b-1 c2c40 07ff8 4'"
      ]
     },
     "execution_count": 24,
     "metadata": {},
     "output_type": "execute_result"
    }
   ],
   "source": [
    "palabra.rjust(len(palabra) + 7)"
   ]
  },
  {
   "cell_type": "code",
   "execution_count": 25,
   "metadata": {},
   "outputs": [
    {
     "data": {
      "text/plain": [
       "'0013b a48-2 7cd-4 34a-a 68b-1 c2c40 07ff8 4       '"
      ]
     },
     "execution_count": 25,
     "metadata": {},
     "output_type": "execute_result"
    }
   ],
   "source": [
    "palabra.ljust(len(palabra) + 7)"
   ]
  },
  {
   "cell_type": "code",
   "execution_count": 26,
   "metadata": {},
   "outputs": [
    {
     "data": {
      "text/plain": [
       "'   0013b a48-2 7cd-4 34a-a 68b-1 c2c40 07ff8 4    '"
      ]
     },
     "execution_count": 26,
     "metadata": {},
     "output_type": "execute_result"
    }
   ],
   "source": [
    "palabra.center(len(palabra) + 7)"
   ]
  },
  {
   "cell_type": "markdown",
   "metadata": {},
   "source": [
    "# <center> Valída si es : Letras, Minúsculas, Mayúsculas Letras y Números, Espacios en blanco</center>"
   ]
  },
  {
   "cell_type": "code",
   "execution_count": 27,
   "metadata": {},
   "outputs": [
    {
     "name": "stderr",
     "output_type": "stream",
     "text": [
      "2021-12-19 22:26:21 INFO: STRING GENERATED-> son Letras -> KckBgbafasBgWuqutDPJRctmR ->  True\n",
      "2021-12-19 22:26:21 INFO: STRING GENERATED-> son Letras y numeros -> KckBgbafasBgWuqutDPJRctmR ->  True\n"
     ]
    }
   ],
   "source": [
    "letras = generate_characters()\n",
    "logging.info(f'son Letras -> {letras} ->  {letras.isalpha()}')\n",
    "logging.info(f'son Letras y numeros -> {letras} ->  {letras.isalnum()}')"
   ]
  },
  {
   "cell_type": "code",
   "execution_count": 28,
   "metadata": {},
   "outputs": [
    {
     "name": "stderr",
     "output_type": "stream",
     "text": [
      "2021-12-19 22:26:21 INFO: STRING GENERATED-> son Letras -> E6ps4tQJvzWljrss8LDlp2tEgdtc1KEgCwJ8okhEBD8W6qzYMB ->  False\n",
      "2021-12-19 22:26:21 INFO: STRING GENERATED-> son Letras y numeros -> E6ps4tQJvzWljrss8LDlp2tEgdtc1KEgCwJ8okhEBD8W6qzYMB ->  True\n"
     ]
    }
   ],
   "source": [
    "numeros_y_letras = generate_characters_and_numbers()\n",
    "logging.info(f'son Letras -> {numeros_y_letras} ->  {numeros_y_letras.isalpha()}')\n",
    "logging.info(f'son Letras y numeros -> {numeros_y_letras} ->  {numeros_y_letras.isalnum()}')"
   ]
  },
  {
   "cell_type": "code",
   "execution_count": 29,
   "metadata": {},
   "outputs": [
    {
     "name": "stderr",
     "output_type": "stream",
     "text": [
      "2021-12-19 22:26:21 INFO: STRING GENERATED-> son Mayúsculas -> KckBgbafasBgWuqutDPJRctmR ->  False\n",
      "2021-12-19 22:26:21 INFO: STRING GENERATED-> son Mayúsculas -> E6ps4tQJvzWljrss8LDlp2tEgdtc1KEgCwJ8okhEBD8W6qzYMB ->  False\n"
     ]
    }
   ],
   "source": [
    "logging.info(f'son Mayúsculas -> {letras} ->  {numeros_y_letras.isupper()}')\n",
    "logging.info(f'son Mayúsculas -> {numeros_y_letras} ->  {numeros_y_letras.isupper()}')"
   ]
  },
  {
   "cell_type": "code",
   "execution_count": 30,
   "metadata": {},
   "outputs": [
    {
     "name": "stderr",
     "output_type": "stream",
     "text": [
      "2021-12-19 22:26:21 INFO: STRING GENERATED-> son Minúsculas -> KckBgbafasBgWuqutDPJRctmR ->  False\n",
      "2021-12-19 22:26:21 INFO: STRING GENERATED-> son Minúsculas -> E6ps4tQJvzWljrss8LDlp2tEgdtc1KEgCwJ8okhEBD8W6qzYMB ->  False\n"
     ]
    }
   ],
   "source": [
    "logging.info(f'son Minúsculas -> {letras} ->  {numeros_y_letras.islower()}')\n",
    "logging.info(f'son Minúsculas -> {numeros_y_letras} ->  {numeros_y_letras.islower()}')"
   ]
  },
  {
   "cell_type": "code",
   "execution_count": 31,
   "metadata": {},
   "outputs": [
    {
     "name": "stderr",
     "output_type": "stream",
     "text": [
      "2021-12-19 22:26:21 INFO: STRING GENERATED-> son Títulos -> KckBgbafasBgWuqutDPJRctmR ->  False\n",
      "2021-12-19 22:26:21 INFO: STRING GENERATED-> son Títulos -> E6ps4tQJvzWljrss8LDlp2tEgdtc1KEgCwJ8okhEBD8W6qzYMB ->  False\n"
     ]
    }
   ],
   "source": [
    "logging.info(f'son Títulos -> {letras} ->  {numeros_y_letras.istitle()}')\n",
    "logging.info(f'son Títulos -> {numeros_y_letras} ->  {numeros_y_letras.istitle()}')"
   ]
  },
  {
   "cell_type": "code",
   "execution_count": 32,
   "metadata": {},
   "outputs": [
    {
     "name": "stderr",
     "output_type": "stream",
     "text": [
      "2021-12-19 22:26:21 INFO: STRING GENERATED-> son espacios en blanco ->             ->  True\n",
      "2021-12-19 22:26:21 INFO: STRING GENERATED-> son espacios en blanco -> KckBgbafasBgWuqutDPJRctmR ->  False\n",
      "2021-12-19 22:26:21 INFO: STRING GENERATED-> son espacios en blanco -> E6ps4tQJvzWljrss8LDlp2tEgdtc1KEgCwJ8okhEBD8W6qzYMB ->  False\n"
     ]
    }
   ],
   "source": [
    "espacios_en_blanco = '           '\n",
    "logging.info(f'son espacios en blanco -> {espacios_en_blanco} ->  {espacios_en_blanco.isspace()}')\n",
    "logging.info(f'son espacios en blanco -> {letras} ->  {numeros_y_letras.isspace()}')\n",
    "logging.info(f'son espacios en blanco -> {numeros_y_letras} ->  {numeros_y_letras.isspace()}')"
   ]
  },
  {
   "cell_type": "markdown",
   "metadata": {},
   "source": [
    "# <center> Valída si es : Números, Décimal, Binario, Octal, HexaDécimal, Exponencial </center>"
   ]
  },
  {
   "cell_type": "code",
   "execution_count": 33,
   "metadata": {},
   "outputs": [
    {
     "name": "stderr",
     "output_type": "stream",
     "text": [
      "2021-12-19 22:26:21 INFO: STRING GENERATED-> son Números decimales -> 9873475603945326128643796 ->  True\n",
      "2021-12-19 22:26:21 INFO: STRING GENERATED-> son Dígitos -> 9873475603945326128643796 -> True\n",
      "2021-12-19 22:26:21 INFO: STRING GENERATED-> son tipo Númericos -> 9873475603945326128643796 -> True\n"
     ]
    }
   ],
   "source": [
    "numeros = generate_numbers()\n",
    "\n",
    "logging.info(f'son Números decimales -> {numeros} ->  {numeros.isdecimal()}')\n",
    "logging.info(f'son Dígitos -> {numeros} -> {numeros.isdigit()}')\n",
    "logging.info(f'son tipo Númericos -> {numeros} -> {numeros.isnumeric()}')"
   ]
  },
  {
   "cell_type": "code",
   "execution_count": 34,
   "metadata": {},
   "outputs": [
    {
     "name": "stderr",
     "output_type": "stream",
     "text": [
      "2021-12-19 22:26:21 INFO: STRING GENERATED-> son Números flotantes -> 44304503767384.06 ->  False\n",
      "2021-12-19 22:26:21 INFO: STRING GENERATED-> son Dígitos -> 44304503767384.06 -> False\n",
      "2021-12-19 22:26:21 INFO: STRING GENERATED-> son  tipo Númericos -> 44304503767384.06 -> False\n"
     ]
    }
   ],
   "source": [
    "numeros_flotantes = str(int(generate_numbers()) / 192519503178.213)\n",
    "\n",
    "logging.info(f'son Números flotantes -> {numeros_flotantes} ->  {numeros_flotantes.isdecimal()}')\n",
    "logging.info(f'son Dígitos -> {numeros_flotantes} -> {numeros_flotantes.isdigit()}')\n",
    "logging.info(f'son  tipo Númericos -> {numeros_flotantes} -> {numeros_flotantes.isnumeric()}')"
   ]
  },
  {
   "cell_type": "code",
   "execution_count": 35,
   "metadata": {},
   "outputs": [
    {
     "name": "stderr",
     "output_type": "stream",
     "text": [
      "2021-12-19 22:26:21 INFO: STRING GENERATED-> son Números Binarios -> 0b100000101010110010100010111101011011011100001000100101110010110100111011111011010100 ->  True\n",
      "2021-12-19 22:26:21 INFO: STRING GENERATED-> son Números Binarios -> 100000101010110010100010111101011011011100001000100101110010110100111011111011010100 ->  True\n"
     ]
    }
   ],
   "source": [
    "binario = bin(int(numeros))\n",
    "validacion = all(b in ['0','1'] for b in binario[2:])\n",
    "logging.info(f'son Números Binarios -> {binario} ->  {validacion}')\n",
    "\n",
    "binario_format = format(int(numeros), \"b\")\n",
    "validacion_format = all(b in ['0','1'] for b in binario_format)\n",
    "logging.info(f'son Números Binarios -> {binario_format} ->  {validacion_format}')"
   ]
  },
  {
   "cell_type": "code",
   "execution_count": 36,
   "metadata": {},
   "outputs": [
    {
     "name": "stderr",
     "output_type": "stream",
     "text": [
      "2021-12-19 22:26:21 INFO: STRING GENERATED-> son Números Octal -> 0o4052624275333410456264737324 ->  True\n",
      "2021-12-19 22:26:21 INFO: STRING GENERATED-> son Números Octal -> 4052624275333410456264737324 -> True\n"
     ]
    }
   ],
   "source": [
    "octal = oct(int(numeros))\n",
    "validacion = all(o in [str(i) for i in range(8)] for o in octal[2:])\n",
    "logging.info(f'son Números Octal -> {octal} ->  {validacion}')\n",
    "\n",
    "octal_format = format(int(numeros), \"o\")\n",
    "validacion_octal = all(o in [str(i) for i in range(8)] for o in octal_format)\n",
    "logging.info(f'son Números Octal -> {octal_format} -> {validacion_octal}')"
   ]
  },
  {
   "cell_type": "code",
   "execution_count": 37,
   "metadata": {},
   "outputs": [
    {
     "name": "stderr",
     "output_type": "stream",
     "text": [
      "2021-12-19 22:26:21 INFO: STRING GENERATED-> son  tipo Hexadecimal -> 0x82aca2f5b708972d3bed4 -> True\n",
      "2021-12-19 22:26:21 INFO: STRING GENERATED-> son  tipo Hexadecimal -> 82aca2f5b708972d3bed4 -> True\n"
     ]
    }
   ],
   "source": [
    "hexadecimal = hex(int(numeros))\n",
    "validacion = all(x in string.hexdigits for x in hexadecimal[2:])\n",
    "logging.info(f'son  tipo Hexadecimal -> {hexadecimal} -> {validacion}')\n",
    "\n",
    "hexadecimal_format = format(int(numeros), \"x\")\n",
    "validacion_hexadecimal_format = all(x in string.hexdigits for x in hexadecimal_format)\n",
    "logging.info(f'son  tipo Hexadecimal -> {hexadecimal_format} -> {validacion_hexadecimal_format}')"
   ]
  },
  {
   "cell_type": "code",
   "execution_count": 38,
   "metadata": {},
   "outputs": [
    {
     "name": "stderr",
     "output_type": "stream",
     "text": [
      "2021-12-19 22:26:21 INFO: STRING GENERATED-> son  tipo Númericos -> 7.997515e+15 -> False\n"
     ]
    },
    {
     "data": {
      "text/plain": [
       "'7.997515e+15'"
      ]
     },
     "execution_count": 38,
     "metadata": {},
     "output_type": "execute_result"
    }
   ],
   "source": [
    "#exponencial = exp(int(numeros)//1234567890)\n",
    "exponencial_format = format(int(numeros)//1234567890, \"e\")\n",
    "\n",
    "logging.info(f'son  tipo Númericos -> {exponencial_format} -> {exponencial_format.isnumeric()}')\n",
    "exponencial_format"
   ]
  },
  {
   "cell_type": "code",
   "execution_count": 39,
   "metadata": {},
   "outputs": [
    {
     "data": {
      "text/plain": [
       "7997515000000000"
      ]
     },
     "execution_count": 39,
     "metadata": {},
     "output_type": "execute_result"
    }
   ],
   "source": [
    "int(float(exponencial_format))"
   ]
  },
  {
   "cell_type": "markdown",
   "metadata": {},
   "source": [
    "# <center> Dividir Cadenas</center>"
   ]
  },
  {
   "cell_type": "code",
   "execution_count": 40,
   "metadata": {},
   "outputs": [
    {
     "data": {
      "text/plain": [
       "'49070#57336#55555#53801#0574149070#57336#55555#53801#05741'"
      ]
     },
     "execution_count": 40,
     "metadata": {},
     "output_type": "execute_result"
    }
   ],
   "source": [
    "caracter = '#'\n",
    "palabra =  get_random_function() * 2\n",
    "palabra = palabra.replace(' ', caracter)\n",
    "palabra"
   ]
  },
  {
   "cell_type": "code",
   "execution_count": 41,
   "metadata": {},
   "outputs": [
    {
     "name": "stderr",
     "output_type": "stream",
     "text": [
      "2021-12-19 22:26:21 INFO: STRING GENERATED-> son Divididos -> 49070#57336#55555#53801#0574149070#57336#55555#53801#05741 => ['49070', '57336', '55555', '53801', '0574149070', '57336', '55555', '53801', '05741']\n"
     ]
    }
   ],
   "source": [
    "logging.info(f'son Divididos -> {palabra} => {palabra.split(caracter)}')"
   ]
  },
  {
   "cell_type": "code",
   "execution_count": 42,
   "metadata": {},
   "outputs": [
    {
     "name": "stderr",
     "output_type": "stream",
     "text": [
      "2021-12-19 22:26:21 INFO: STRING GENERATED-> son Particionados -> 49070#57336#55555#53801#0574149070#57336#55555#53801#05741 => ('49070', '#', '57336#55555#53801#0574149070#57336#55555#53801#05741')\n"
     ]
    }
   ],
   "source": [
    "logging.info(f'son Particionados -> {palabra} => {palabra.partition(caracter)}')"
   ]
  },
  {
   "cell_type": "code",
   "execution_count": 43,
   "metadata": {},
   "outputs": [
    {
     "name": "stderr",
     "output_type": "stream",
     "text": [
      "2021-12-19 22:26:21 INFO: STRING GENERATED-> son Particionados desde la derecha-> 49070#57336#55555#53801#0574149070#57336#55555#53801#05741 => ('49070#57336#55555#53801#0574149070#57336#55555#53801', '#', '05741')\n"
     ]
    }
   ],
   "source": [
    "logging.info(f'son Particionados desde la derecha-> {palabra} => {palabra.rpartition(caracter)}')"
   ]
  },
  {
   "cell_type": "code",
   "execution_count": 44,
   "metadata": {},
   "outputs": [
    {
     "name": "stderr",
     "output_type": "stream",
     "text": [
      "2021-12-19 22:26:21 INFO: STRING GENERATED-> son Divididos en 1 parte adicional -> 49070#57336#55555#53801#0574149070#57336#55555#53801#05741 => ['49070', '57336#55555#53801#0574149070#57336#55555#53801#05741']\n"
     ]
    }
   ],
   "source": [
    "logging.info(f'son Divididos en 1 parte adicional -> {palabra} => {palabra.split(caracter,1)}')"
   ]
  },
  {
   "cell_type": "code",
   "execution_count": 45,
   "metadata": {},
   "outputs": [
    {
     "name": "stderr",
     "output_type": "stream",
     "text": [
      "2021-12-19 22:26:21 INFO: STRING GENERATED-> son Divididos por caracter especifico -> 49070#57336#55555#53801#0574149070#57336#55555#53801#05741 => ['49070', '57336', '55555', '53801', '0574149070', '57336', '55555', '53801', '05741']\n"
     ]
    }
   ],
   "source": [
    "logging.info(f'son Divididos por caracter especifico -> {palabra} => {palabra.split(caracter)}')"
   ]
  },
  {
   "cell_type": "code",
   "execution_count": 46,
   "metadata": {},
   "outputs": [
    {
     "name": "stderr",
     "output_type": "stream",
     "text": [
      "2021-12-19 22:26:21 INFO: STRING GENERATED-> son Reemplazados por caracter especifico las veces definidas -> 49070#57336#55555#53801#0574149070#57336#55555#53801#05741 => 49070---NEW---57336---NEW---55555---NEW---53801#0574149070#57336#55555#53801#05741\n"
     ]
    }
   ],
   "source": [
    "logging.info(f'son Reemplazados por caracter especifico las veces definidas -> {palabra} => {palabra.replace(caracter, \"---NEW---\", 3)}')"
   ]
  },
  {
   "cell_type": "markdown",
   "metadata": {},
   "source": [
    "# <center> Busqueda en cadenas </center>"
   ]
  },
  {
   "cell_type": "code",
   "execution_count": 47,
   "metadata": {},
   "outputs": [
    {
     "data": {
      "text/plain": [
       "\"&CPk[ ^luS- d|`8s w$+WA M0e\\\\t :LE~a c#Jb) K6p=Z xIv{z Um2N9 @}BY_ ifny5 ;%?1' <.VRh >*4T3&CPk[ ^luS- d|`8s w$+WA M0e\\\\t :LE~a c#Jb) K6p=Z xIv{z Um2N9 @}BY_ ifny5 ;%?1' <.VRh >*4T3\""
      ]
     },
     "execution_count": 47,
     "metadata": {},
     "output_type": "execute_result"
    }
   ],
   "source": [
    "caracter = '0'\n",
    "palabra =  get_random_function() * 2\n",
    "palabra"
   ]
  },
  {
   "cell_type": "code",
   "execution_count": 48,
   "metadata": {},
   "outputs": [
    {
     "name": "stderr",
     "output_type": "stream",
     "text": [
      "2021-12-19 22:26:21 INFO: STRING GENERATED-> el caracter 0 esta 2 veces en -> &CPk[ ^luS- d|`8s w$+WA M0e\\t :LE~a c#Jb) K6p=Z xIv{z Um2N9 @}BY_ ifny5 ;%?1' <.VRh >*4T3&CPk[ ^luS- d|`8s w$+WA M0e\\t :LE~a c#Jb) K6p=Z xIv{z Um2N9 @}BY_ ifny5 ;%?1' <.VRh >*4T3\n"
     ]
    }
   ],
   "source": [
    "logging.info(f'el caracter {caracter} esta {palabra.count(caracter)} veces en -> {palabra}')"
   ]
  },
  {
   "cell_type": "code",
   "execution_count": 49,
   "metadata": {},
   "outputs": [
    {
     "name": "stderr",
     "output_type": "stream",
     "text": [
      "2021-12-19 22:26:21 INFO: STRING GENERATED-> el caracter 0 esta 1 veces en -> &CPk[ ^luS- d|`8s w$+WA M0e\\t :LE~a c#Jb) K6p=Z xIv{z Um2N9 @}BY_ ifny5 ;%?1' <.VRh >*4T3&CPk[ ^luS- d|`8s w$+WA M0e\\t :LE~a c#Jb) K6p=Z xIv{z Um2N9 @}BY_ ifny5 ;%?1' <.VRh >*4T3\n"
     ]
    }
   ],
   "source": [
    "logging.info(f'el caracter {caracter} esta {palabra.count(caracter, len(palabra)//4,  3*len(palabra)//4)} veces en -> {palabra}')"
   ]
  },
  {
   "cell_type": "code",
   "execution_count": 50,
   "metadata": {},
   "outputs": [
    {
     "name": "stderr",
     "output_type": "stream",
     "text": [
      "2021-12-19 22:26:21 INFO: STRING GENERATED-> el caracter 0 el INDICE de la primera aparicion esta en la posicion 25  en -> &CPk[ ^luS- d|`8s w$+WA M0e\\t :LE~a c#Jb) K6p=Z xIv{z Um2N9 @}BY_ ifny5 ;%?1' <.VRh >*4T3&CPk[ ^luS- d|`8s w$+WA M0e\\t :LE~a c#Jb) K6p=Z xIv{z Um2N9 @}BY_ ifny5 ;%?1' <.VRh >*4T3\n"
     ]
    }
   ],
   "source": [
    "logging.info(f'el caracter {caracter} el INDICE de la primera aparicion esta en la posicion {palabra.index(caracter)}  en -> {palabra}')"
   ]
  },
  {
   "cell_type": "code",
   "execution_count": 51,
   "metadata": {},
   "outputs": [
    {
     "name": "stderr",
     "output_type": "stream",
     "text": [
      "2021-12-19 22:26:21 INFO: STRING GENERATED-> el caracter 0 la primera aparicion esta en la posicion 25  en -> &CPk[ ^luS- d|`8s w$+WA M0e\\t :LE~a c#Jb) K6p=Z xIv{z Um2N9 @}BY_ ifny5 ;%?1' <.VRh >*4T3&CPk[ ^luS- d|`8s w$+WA M0e\\t :LE~a c#Jb) K6p=Z xIv{z Um2N9 @}BY_ ifny5 ;%?1' <.VRh >*4T3\n"
     ]
    }
   ],
   "source": [
    "logging.info(f'el caracter {caracter} la primera aparicion esta en la posicion {palabra.find(caracter)}  en -> {palabra}')"
   ]
  },
  {
   "cell_type": "code",
   "execution_count": 52,
   "metadata": {},
   "outputs": [
    {
     "name": "stderr",
     "output_type": "stream",
     "text": [
      "2021-12-19 22:26:21 INFO: STRING GENERATED-> la ultima posicion del caracter 0 esta en 114  en -> &CPk[ ^luS- d|`8s w$+WA M0e\\t :LE~a c#Jb) K6p=Z xIv{z Um2N9 @}BY_ ifny5 ;%?1' <.VRh >*4T3&CPk[ ^luS- d|`8s w$+WA M0e\\t :LE~a c#Jb) K6p=Z xIv{z Um2N9 @}BY_ ifny5 ;%?1' <.VRh >*4T3\n"
     ]
    }
   ],
   "source": [
    "logging.info(f'la ultima posicion del caracter {caracter} esta en {palabra.rfind(caracter)}  en -> {palabra}')"
   ]
  },
  {
   "cell_type": "code",
   "execution_count": 53,
   "metadata": {},
   "outputs": [
    {
     "name": "stderr",
     "output_type": "stream",
     "text": [
      "2021-12-19 22:26:22 INFO: STRING GENERATED-> la proxima posicion del caracter 0 esta en la posicion -> 25  en -> &CPk[ ^luS- d|`8s w$+WA M0e\\t :LE~a c#Jb) K6p=Z xIv{z Um2N9 @}BY_ ifny5 ;%?1' <.VRh >*4T3&CPk[ ^luS- d|`8s w$+WA M0e\\t :LE~a c#Jb) K6p=Z xIv{z Um2N9 @}BY_ ifny5 ;%?1' <.VRh >*4T3\n"
     ]
    }
   ],
   "source": [
    "logging.info(f'la proxima posicion del caracter {caracter} esta en la posicion -> {palabra.find(caracter, 13)}  en -> {palabra}')"
   ]
  },
  {
   "cell_type": "code",
   "execution_count": 54,
   "metadata": {},
   "outputs": [
    {
     "name": "stderr",
     "output_type": "stream",
     "text": [
      "2021-12-19 22:26:22 INFO: STRING GENERATED-> la proxima posicion del caracter 0 esta en la posicion -> 114  en -> &CPk[ ^luS- d|`8s w$+WA M0e\\t :LE~a c#Jb) K6p=Z xIv{z Um2N9 @}BY_ ifny5 ;%?1' <.VRh >*4T3&CPk[ ^luS- d|`8s w$+WA M0e\\t :LE~a c#Jb) K6p=Z xIv{z Um2N9 @}BY_ ifny5 ;%?1' <.VRh >*4T3\n"
     ]
    }
   ],
   "source": [
    "logging.info(f'la proxima posicion del caracter {caracter} esta en la posicion -> {palabra.find(caracter, 57)}  en -> {palabra}')"
   ]
  },
  {
   "cell_type": "code",
   "execution_count": 55,
   "metadata": {},
   "outputs": [
    {
     "name": "stderr",
     "output_type": "stream",
     "text": [
      "2021-12-19 22:26:22 INFO: STRING GENERATED-> la cadena tiene el caracter 0 en las siguientes posiciones  -> ['0 -> 25', '0 -> 114']  en -> &CPk[ ^luS- d|`8s w$+WA M0e\\t :LE~a c#Jb) K6p=Z xIv{z Um2N9 @}BY_ ifny5 ;%?1' <.VRh >*4T3&CPk[ ^luS- d|`8s w$+WA M0e\\t :LE~a c#Jb) K6p=Z xIv{z Um2N9 @}BY_ ifny5 ;%?1' <.VRh >*4T3\n"
     ]
    }
   ],
   "source": [
    "ocurrencias = [str(j) + ' -> ' + str(i) for i,j in enumerate(palabra) if j == caracter]\n",
    "\n",
    "logging.info(f'la cadena tiene el caracter {caracter} en las siguientes posiciones  -> {ocurrencias}  en -> {palabra}')"
   ]
  },
  {
   "cell_type": "code",
   "execution_count": 56,
   "metadata": {},
   "outputs": [
    {
     "name": "stderr",
     "output_type": "stream",
     "text": [
      "2021-12-19 22:26:22 INFO: STRING GENERATED-> la cadena inicia con el caracter 0  -> False  en -> &CPk[ ^luS- d|`8s w$+WA M0e\\t :LE~a c#Jb) K6p=Z xIv{z Um2N9 @}BY_ ifny5 ;%?1' <.VRh >*4T3&CPk[ ^luS- d|`8s w$+WA M0e\\t :LE~a c#Jb) K6p=Z xIv{z Um2N9 @}BY_ ifny5 ;%?1' <.VRh >*4T3\n"
     ]
    }
   ],
   "source": [
    "logging.info(f'la cadena inicia con el caracter {caracter}  -> {palabra.startswith(caracter)}  en -> {palabra}')"
   ]
  },
  {
   "cell_type": "code",
   "execution_count": 57,
   "metadata": {},
   "outputs": [
    {
     "name": "stderr",
     "output_type": "stream",
     "text": [
      "2021-12-19 22:26:22 INFO: STRING GENERATED-> la cadena finaliza con el caracter *4T3  -> True  en -> &CPk[ ^luS- d|`8s w$+WA M0e\\t :LE~a c#Jb) K6p=Z xIv{z Um2N9 @}BY_ ifny5 ;%?1' <.VRh >*4T3&CPk[ ^luS- d|`8s w$+WA M0e\\t :LE~a c#Jb) K6p=Z xIv{z Um2N9 @}BY_ ifny5 ;%?1' <.VRh >*4T3\n"
     ]
    }
   ],
   "source": [
    "logging.info(f'la cadena finaliza con el caracter {palabra[-4:]}  -> {palabra.endswith(palabra[-4:])}  en -> {palabra}')"
   ]
  },
  {
   "cell_type": "code",
   "execution_count": 58,
   "metadata": {},
   "outputs": [
    {
     "name": "stderr",
     "output_type": "stream",
     "text": [
      "2021-12-19 22:26:22 INFO: STRING GENERATED-> la cadena finaliza con el caracter b\"&CPk[ ^luS- d|`8s w$+WA M0e\\\\t :LE~a c#Jb) K6p=Z xIv{z Um2N9 @}BY_ ifny5 ;%?1' <.VRh >*4T3&CPk[ ^luS- d|`8s w$+WA M0e\\\\t :LE~a c#Jb) K6p=Z xIv{z Um2N9 @}BY_ ifny5 ;%?1' <.VRh >*4T3\"  -> b\"&CPk[ ^luS- d|`8s w$+WA M0e\\\\t :LE~a c#Jb) K6p=Z xIv{z Um2N9 @}BY_ ifny5 ;%?1' <.VRh >*4T3&CPk[ ^luS- d|`8s w$+WA M0e\\\\t :LE~a c#Jb) K6p=Z xIv{z Um2N9 @}BY_ ifny5 ;%?1' <.VRh >*4T3\"  en -> b\"&CPk[ ^luS- d|`8s w$+WA M0e\\\\t :LE~a c#Jb) K6p=Z xIv{z Um2N9 @}BY_ ifny5 ;%?1' <.VRh >*4T3&CPk[ ^luS- d|`8s w$+WA M0e\\\\t :LE~a c#Jb) K6p=Z xIv{z Um2N9 @}BY_ ifny5 ;%?1' <.VRh >*4T3\"\n"
     ]
    }
   ],
   "source": [
    "logging.info(f'la cadena finaliza con el caracter {palabra.encode(\"utf-8\")}  -> {palabra.encode(\"utf-8\")}  en -> {palabra.encode(\"utf-8\")}')"
   ]
  }
 ],
 "metadata": {
  "kernelspec": {
   "display_name": "Python 3 (ipykernel)",
   "language": "python",
   "name": "python3"
  },
  "language_info": {
   "codemirror_mode": {
    "name": "ipython",
    "version": 3
   },
   "file_extension": ".py",
   "mimetype": "text/x-python",
   "name": "python",
   "nbconvert_exporter": "python",
   "pygments_lexer": "ipython3",
   "version": "3.9.7"
  }
 },
 "nbformat": 4,
 "nbformat_minor": 4
}
