{
 "cells": [
  {
   "cell_type": "code",
   "execution_count": 1,
   "metadata": {},
   "outputs": [
    {
     "data": {
      "text/html": [
       "<style>.container { width:100% !important; }</style>"
      ],
      "text/plain": [
       "<IPython.core.display.HTML object>"
      ]
     },
     "metadata": {},
     "output_type": "display_data"
    }
   ],
   "source": [
    "from IPython.core.display import display, HTML\n",
    "display(HTML(\"<style>.container { width:100% !important; }</style>\"))"
   ]
  },
  {
   "cell_type": "code",
   "execution_count": 2,
   "metadata": {},
   "outputs": [
    {
     "data": {
      "text/html": [
       "\n",
       "<style>\n",
       "div.output_stderr {\n",
       "    background: #85C1E9;\n",
       "}\n",
       "</style>\n"
      ],
      "text/plain": [
       "<IPython.core.display.HTML object>"
      ]
     },
     "execution_count": 2,
     "metadata": {},
     "output_type": "execute_result"
    }
   ],
   "source": [
    "# cmabiar el color rojo del log a Azul\n",
    "from IPython.core.display import HTML\n",
    "HTML(\"\"\"\n",
    "<style>\n",
    "div.output_stderr {\n",
    "    background: #85C1E9;\n",
    "}\n",
    "</style>\n",
    "\"\"\")"
   ]
  },
  {
   "cell_type": "code",
   "execution_count": 3,
   "metadata": {},
   "outputs": [
    {
     "name": "stdout",
     "output_type": "stream",
     "text": [
      "3.9.7\n"
     ]
    }
   ],
   "source": [
    "from platform import python_version\n",
    "\n",
    "print(python_version())"
   ]
  },
  {
   "cell_type": "code",
   "execution_count": 4,
   "metadata": {},
   "outputs": [
    {
     "name": "stderr",
     "output_type": "stream",
     "text": [
      "2021-12-21 21:35:54 INFO: STRING GENERATED-> son ejemplo_numerico -> [1, 1, 0, 0, 0, 1, 1, 1, 0, 1, 1, 1, 0, 1, 1, 0, 0, 1, 1, 0]\n",
      "2021-12-21 21:35:54 INFO: STRING GENERATED-> son ejemplo_cast_numero -> [False, True, True, True, True, True, True, False, True, False, True, True, True, True, False, True, True, True, True, False]\n",
      "2021-12-21 21:35:54 INFO: STRING GENERATED-> son ejemplo_bool -> [False, True, False, False, False, False, False, True, False, True, False, True, False, True, True, False, False, True, False, True]\n",
      "2021-12-21 21:35:54 INFO: STRING GENERATED-> son ejemplo_bool_2 -> [False, True, True, False, True, True, False, True, True, True, False, True, False, True, False, True, False, True, False, False]\n",
      "2021-12-21 21:35:54 INFO: STRING GENERATED-> son ejemplo_vacio -> [None, '', None, None, None, '', '', '', None, None, '', '', '', None, '', None, None, None, '', None]\n",
      "2021-12-21 21:35:54 INFO: STRING GENERATED-> son ejemplo_vacio_espacio -> [None, ' ', None, None, '', ' ', ' ', '', ' ', None, None, None, ' ', None, '', ' ', '', '', '', '']\n",
      "2021-12-21 21:35:54 INFO: STRING GENERATED-> son ejemplo_mixto -> ['-', '', None, ' ', '-', '', '-', '-', None, '-', None, None, None, '', '', '', '-', '', None, ' ']\n"
     ]
    }
   ],
   "source": [
    "import random\n",
    "import logging\n",
    "\n",
    "limit = 20\n",
    "\n",
    "logging.basicConfig(format='%(asctime)s %(levelname)s: STRING GENERATED-> %(message)s', level=logging.DEBUG, datefmt='%Y-%m-%d %H:%M:%S')\n",
    "\n",
    "ejemplo_numerico = [random.randint(0,1) for i in range(limit)]\n",
    "logging.info(f'son ejemplo_numerico -> {ejemplo_numerico}')\n",
    "\n",
    "\n",
    "ejemplo_cast_numero = [bool(random.randint(0,1)) for i in range(limit)]\n",
    "logging.info(f'son ejemplo_cast_numero -> {ejemplo_cast_numero}')\n",
    "\n",
    "\n",
    "ejemplo_bool = [bool(random.getrandbits(1)) for i in range(limit)]\n",
    "logging.info(f'son ejemplo_bool -> {ejemplo_bool}')\n",
    "\n",
    "\n",
    "ejemplo_bool_2 = [random.choice([True, False]) for i in range(limit)]\n",
    "logging.info(f'son ejemplo_bool_2 -> {ejemplo_bool_2}')\n",
    "\n",
    "ejemplo_vacio = [random.choice(['', None]) for i in range(limit)]\n",
    "logging.info(f'son ejemplo_vacio -> {ejemplo_vacio}')\n",
    "\n",
    "ejemplo_vacio_espacio = [random.choice(['', None, ' ']) for i in range(limit)]\n",
    "logging.info(f'son ejemplo_vacio_espacio -> {ejemplo_vacio_espacio}')\n",
    "\n",
    "ejemplo_mixto = [random.choice(['', None, ' ', '-']) for i in range(limit)]\n",
    "logging.info(f'son ejemplo_mixto -> {ejemplo_mixto}')"
   ]
  },
  {
   "cell_type": "markdown",
   "metadata": {},
   "source": [
    "# <center> ALL -> VALIDA QUE TODO SEA VERDADERO </center>"
   ]
  },
  {
   "cell_type": "code",
   "execution_count": 5,
   "metadata": {},
   "outputs": [
    {
     "name": "stderr",
     "output_type": "stream",
     "text": [
      "2021-12-21 21:35:54 INFO: STRING GENERATED-> son ejemplo_verdadero[1, True, ' '] -> True\n",
      "2021-12-21 21:35:54 INFO: STRING GENERATED-> son ejemplo_numerico [1, 1, 0, 0, 0, 1, 1, 1, 0, 1, 1, 1, 0, 1, 1, 0, 0, 1, 1, 0] -> False\n",
      "2021-12-21 21:35:54 INFO: STRING GENERATED-> son ejemplo_cast_numero [False, True, True, True, True, True, True, False, True, False, True, True, True, True, False, True, True, True, True, False] -> False\n",
      "2021-12-21 21:35:54 INFO: STRING GENERATED-> son ejemplo_bool [False, True, False, False, False, False, False, True, False, True, False, True, False, True, True, False, False, True, False, True] -> False\n",
      "2021-12-21 21:35:54 INFO: STRING GENERATED-> son ejemplo_bool_2 [False, True, True, False, True, True, False, True, True, True, False, True, False, True, False, True, False, True, False, False] -> False\n",
      "2021-12-21 21:35:54 INFO: STRING GENERATED-> son ejemplo_vacio [None, '', None, None, None, '', '', '', None, None, '', '', '', None, '', None, None, None, '', None] -> False\n",
      "2021-12-21 21:35:54 INFO: STRING GENERATED-> son ejemplo_vacio_espacio [None, ' ', None, None, '', ' ', ' ', '', ' ', None, None, None, ' ', None, '', ' ', '', '', '', ''] -> False\n",
      "2021-12-21 21:35:54 INFO: STRING GENERATED-> son ejemplo_mixto ['-', '', None, ' ', '-', '', '-', '-', None, '-', None, None, None, '', '', '', '-', '', None, ' '] -> False\n"
     ]
    }
   ],
   "source": [
    "logging.info(f'son ejemplo_verdadero{[1,True,\" \"]} -> {all([1,True,\" \"])}')\n",
    "logging.info(f'son ejemplo_numerico {ejemplo_numerico} -> {all(ejemplo_numerico)}')\n",
    "logging.info(f'son ejemplo_cast_numero {ejemplo_cast_numero} -> {all(ejemplo_cast_numero)}')\n",
    "logging.info(f'son ejemplo_bool {ejemplo_bool} -> {all(ejemplo_bool)}')\n",
    "logging.info(f'son ejemplo_bool_2 {ejemplo_bool_2} -> {all(ejemplo_bool_2)}')\n",
    "logging.info(f'son ejemplo_vacio {ejemplo_vacio} -> {all(ejemplo_vacio)}')\n",
    "logging.info(f'son ejemplo_vacio_espacio {ejemplo_vacio_espacio} -> {all(ejemplo_vacio_espacio)}')\n",
    "logging.info(f'son ejemplo_mixto {ejemplo_mixto} -> {all(ejemplo_mixto)}')"
   ]
  },
  {
   "cell_type": "markdown",
   "metadata": {},
   "source": [
    "# <center> ANY -> VALIDA QUE POR LO MENOS UNO SEA VERDADERO </center>"
   ]
  },
  {
   "cell_type": "code",
   "execution_count": 6,
   "metadata": {},
   "outputs": [
    {
     "name": "stderr",
     "output_type": "stream",
     "text": [
      "2021-12-21 21:35:54 INFO: STRING GENERATED-> son ejemplo_numerico [1, 1, 0, 0, 0, 1, 1, 1, 0, 1, 1, 1, 0, 1, 1, 0, 0, 1, 1, 0] -> True\n",
      "2021-12-21 21:35:54 INFO: STRING GENERATED-> son ejemplo_cast_numero [False, True, True, True, True, True, True, False, True, False, True, True, True, True, False, True, True, True, True, False] -> True\n",
      "2021-12-21 21:35:54 INFO: STRING GENERATED-> son ejemplo_bool [False, True, False, False, False, False, False, True, False, True, False, True, False, True, True, False, False, True, False, True] -> True\n",
      "2021-12-21 21:35:54 INFO: STRING GENERATED-> son ejemplo_bool_2 [False, True, True, False, True, True, False, True, True, True, False, True, False, True, False, True, False, True, False, False] -> True\n",
      "2021-12-21 21:35:54 INFO: STRING GENERATED-> son ejemplo_vacio [None, '', None, None, None, '', '', '', None, None, '', '', '', None, '', None, None, None, '', None] -> False\n",
      "2021-12-21 21:35:54 INFO: STRING GENERATED-> son ejemplo_vacio_espacio [None, ' ', None, None, '', ' ', ' ', '', ' ', None, None, None, ' ', None, '', ' ', '', '', '', ''] -> True\n",
      "2021-12-21 21:35:54 INFO: STRING GENERATED-> son ejemplo_mixto ['-', '', None, ' ', '-', '', '-', '-', None, '-', None, None, None, '', '', '', '-', '', None, ' '] -> True\n"
     ]
    }
   ],
   "source": [
    "logging.info(f'son ejemplo_numerico {ejemplo_numerico} -> {any(ejemplo_numerico)}')\n",
    "logging.info(f'son ejemplo_cast_numero {ejemplo_cast_numero} -> {any(ejemplo_cast_numero)}')\n",
    "logging.info(f'son ejemplo_bool {ejemplo_bool} -> {any(ejemplo_bool)}')\n",
    "logging.info(f'son ejemplo_bool_2 {ejemplo_bool_2} -> {any(ejemplo_bool_2)}')\n",
    "logging.info(f'son ejemplo_vacio {ejemplo_vacio} -> {any(ejemplo_vacio)}')\n",
    "logging.info(f'son ejemplo_vacio_espacio {ejemplo_vacio_espacio} -> {any(ejemplo_vacio_espacio)}')\n",
    "logging.info(f'son ejemplo_mixto {ejemplo_mixto} -> {any(ejemplo_mixto)}')"
   ]
  },
  {
   "cell_type": "markdown",
   "metadata": {},
   "source": [
    "# <center> Generadores de Cadenas Aleatorias </center>"
   ]
  },
  {
   "cell_type": "code",
   "execution_count": 7,
   "metadata": {},
   "outputs": [],
   "source": [
    "import string\n",
    "import uuid\n",
    "import textwrap\n",
    "\n",
    "def generate_characters(size:int = 25) -> str:\n",
    "    \n",
    "    return ''.join([random.choice(string.ascii_letters) for x in range(size)])\n",
    "\n",
    "def generate_numbers(size:int = 25) -> str:\n",
    "    \n",
    "    return ''.join([random.choice(string.digits) for x in range(size)])\n",
    "\n",
    "def generate_characters_and_numbers(size:int = 50) -> str:\n",
    "    \n",
    "    return ''.join([random.SystemRandom().choice(string.ascii_letters + string.digits) for x in range(size)])\n",
    "\n",
    "def generate_uuid(size:int = 1) -> str :\n",
    "    \n",
    "    return str(uuid.uuid4())\n",
    "\n",
    "def generate_unique_values(size:int = 75) -> str:\n",
    "    \n",
    "    characteres = string.digits + string.ascii_letters + string.punctuation\n",
    "\n",
    "    return ''.join(random.sample(characteres, size))\n",
    "\n",
    "\n",
    "#decorador\n",
    "def split_string(funcion_entrada)-> str:\n",
    "    \n",
    "    parts_to_divide  = 5\n",
    "    \n",
    "    def split_word(*args, **kwargs):\n",
    "        \n",
    "        return ' '.join(textwrap.wrap(funcion_entrada(*args, **kwargs), parts_to_divide))      \n",
    "        \n",
    "    return split_word\n",
    "\n",
    "funciones = [generate_characters, generate_numbers, generate_characters_and_numbers, generate_uuid, generate_unique_values]\n",
    "\n",
    "@split_string\n",
    "def get_random_function() -> str:\n",
    "    \n",
    "    return funciones[random.randint(0, len(funciones) -1)]()"
   ]
  },
  {
   "cell_type": "markdown",
   "metadata": {},
   "source": [
    "# <center> Título, Mayúsculas, Minúsculas, Primera letra en Mayúscula, Invertir Mayúsculas y Minúsculas  </center>"
   ]
  },
  {
   "cell_type": "code",
   "execution_count": 8,
   "metadata": {},
   "outputs": [
    {
     "name": "stderr",
     "output_type": "stream",
     "text": [
      "2021-12-21 21:35:54 INFO: STRING GENERATED-> 7bf7e bd5-6 9c1-4 81a-a e1d-3 7318c d751b 2\n"
     ]
    }
   ],
   "source": [
    "palabra = get_random_function()\n",
    "logging.info(palabra)"
   ]
  },
  {
   "cell_type": "code",
   "execution_count": 9,
   "metadata": {},
   "outputs": [
    {
     "data": {
      "text/plain": [
       "'7Bf7E Bd5-6 9C1-4 81A-A E1D-3 7318C D751B 2'"
      ]
     },
     "execution_count": 9,
     "metadata": {},
     "output_type": "execute_result"
    }
   ],
   "source": [
    "palabra.title()"
   ]
  },
  {
   "cell_type": "code",
   "execution_count": 10,
   "metadata": {},
   "outputs": [
    {
     "data": {
      "text/plain": [
       "'7BF7E BD5-6 9C1-4 81A-A E1D-3 7318C D751B 2'"
      ]
     },
     "execution_count": 10,
     "metadata": {},
     "output_type": "execute_result"
    }
   ],
   "source": [
    "palabra.upper()"
   ]
  },
  {
   "cell_type": "code",
   "execution_count": 11,
   "metadata": {},
   "outputs": [
    {
     "data": {
      "text/plain": [
       "'7bf7e bd5-6 9c1-4 81a-a e1d-3 7318c d751b 2'"
      ]
     },
     "execution_count": 11,
     "metadata": {},
     "output_type": "execute_result"
    }
   ],
   "source": [
    "palabra.lower()"
   ]
  },
  {
   "cell_type": "code",
   "execution_count": 12,
   "metadata": {},
   "outputs": [
    {
     "data": {
      "text/plain": [
       "'7bf7e bd5-6 9c1-4 81a-a e1d-3 7318c d751b 2'"
      ]
     },
     "execution_count": 12,
     "metadata": {},
     "output_type": "execute_result"
    }
   ],
   "source": [
    "palabra.capitalize()"
   ]
  },
  {
   "cell_type": "code",
   "execution_count": 13,
   "metadata": {},
   "outputs": [
    {
     "data": {
      "text/plain": [
       "'7BF7E BD5-6 9C1-4 81A-A E1D-3 7318C D751B 2'"
      ]
     },
     "execution_count": 13,
     "metadata": {},
     "output_type": "execute_result"
    }
   ],
   "source": [
    "palabra.swapcase()"
   ]
  },
  {
   "cell_type": "markdown",
   "metadata": {},
   "source": [
    "# <center> Eliminar espacios en blanco o caracteres, a la Derecha a la Izquierda, Todos </center>"
   ]
  },
  {
   "cell_type": "code",
   "execution_count": 14,
   "metadata": {},
   "outputs": [
    {
     "name": "stderr",
     "output_type": "stream",
     "text": [
      "2021-12-21 21:35:54 INFO: STRING GENERATED->    C]f>i +\\=YG [4.wq _UO%Q )KlSz Bcvm5 k@WZJ 1t9/} y;{&M ~jNAu :|aE3 g-*er b<Dp2 #F8Rs H?(Ln   \n"
     ]
    }
   ],
   "source": [
    "palabra =   '   ' + get_random_function() +  '   '\n",
    "logging.info(palabra)"
   ]
  },
  {
   "cell_type": "code",
   "execution_count": 15,
   "metadata": {},
   "outputs": [
    {
     "data": {
      "text/plain": [
       "'C]f>i +\\\\=YG [4.wq _UO%Q )KlSz Bcvm5 k@WZJ 1t9/} y;{&M ~jNAu :|aE3 g-*er b<Dp2 #F8Rs H?(Ln   '"
      ]
     },
     "execution_count": 15,
     "metadata": {},
     "output_type": "execute_result"
    }
   ],
   "source": [
    "# remueve el prejijo a la cadena \n",
    "v = palabra.lstrip()\n",
    "v"
   ]
  },
  {
   "cell_type": "code",
   "execution_count": 16,
   "metadata": {},
   "outputs": [
    {
     "data": {
      "text/plain": [
       "'+\\\\=YG [4.wq _UO%Q )KlSz Bcvm5 k@WZJ 1t9/} y;{&M ~jNAu :|aE3 g-*er b<Dp2 #F8Rs H?(Ln   '"
      ]
     },
     "execution_count": 16,
     "metadata": {},
     "output_type": "execute_result"
    }
   ],
   "source": [
    "v.removeprefix(v[0:6])"
   ]
  },
  {
   "cell_type": "code",
   "execution_count": 17,
   "metadata": {},
   "outputs": [
    {
     "data": {
      "text/plain": [
       "'+\\\\=YG [4.wq _UO%Q )KlSz Bcvm5 k@WZJ 1t9/} y;{&M ~jNAu :|aE3 g-*er b<Dp2 #F8Rs H?(Ln   '"
      ]
     },
     "execution_count": 17,
     "metadata": {},
     "output_type": "execute_result"
    }
   ],
   "source": [
    "v.lstrip(v[0:6])"
   ]
  },
  {
   "cell_type": "code",
   "execution_count": 18,
   "metadata": {},
   "outputs": [
    {
     "data": {
      "text/plain": [
       "'   C]f>i +\\\\=YG [4.wq _UO%Q )KlSz Bcvm5 k@WZJ 1t9/} y;{&M ~jNAu :|aE3 g-*er b<Dp2 #F8Rs H?(Ln'"
      ]
     },
     "execution_count": 18,
     "metadata": {},
     "output_type": "execute_result"
    }
   ],
   "source": [
    "# remueve el sufijo a la cadena \n",
    "u = palabra.rstrip()\n",
    "u"
   ]
  },
  {
   "cell_type": "code",
   "execution_count": 19,
   "metadata": {},
   "outputs": [
    {
     "data": {
      "text/plain": [
       "'   C]f>i +\\\\=YG [4.wq _UO%Q )KlSz Bcvm5 k@WZJ 1t9/} y;{&M ~jNAu :|aE3 g-*er b<Dp2 #F8Rs'"
      ]
     },
     "execution_count": 19,
     "metadata": {},
     "output_type": "execute_result"
    }
   ],
   "source": [
    "u.removesuffix(u[-6:])"
   ]
  },
  {
   "cell_type": "code",
   "execution_count": 20,
   "metadata": {},
   "outputs": [
    {
     "data": {
      "text/plain": [
       "'C]f>i +\\\\=YG [4.wq _UO%Q )KlSz Bcvm5 k@WZJ 1t9/} y;{&M ~jNAu :|aE3 g-*er b<Dp2 #F8Rs H?(Ln'"
      ]
     },
     "execution_count": 20,
     "metadata": {},
     "output_type": "execute_result"
    }
   ],
   "source": [
    "# remueve el prejijo y sufijo a la cadena \n",
    "w = palabra.strip()\n",
    "w"
   ]
  },
  {
   "cell_type": "markdown",
   "metadata": {},
   "source": [
    "# <center> Reemplazo en cadenas </center>"
   ]
  },
  {
   "cell_type": "code",
   "execution_count": 21,
   "metadata": {},
   "outputs": [
    {
     "name": "stderr",
     "output_type": "stream",
     "text": [
      "2021-12-21 21:35:55 INFO: STRING GENERATED->    25205 31424 83879 87215 03792   \n"
     ]
    }
   ],
   "source": [
    "palabra =   '   ' + get_random_function() +  '   '\n",
    "logging.info(palabra)"
   ]
  },
  {
   "cell_type": "code",
   "execution_count": 22,
   "metadata": {},
   "outputs": [
    {
     "name": "stderr",
     "output_type": "stream",
     "text": [
      "2021-12-21 21:35:55 INFO: STRING GENERATED-> @@@25205@31424@83879@87215@03792@@@\n",
      "2021-12-21 21:35:55 INFO: STRING GENERATED-> 25205@31424@83879@87215@03792\n"
     ]
    }
   ],
   "source": [
    "x = palabra.replace(' ', '@')\n",
    "logging.info(x)\n",
    "\n",
    "y  = x.strip('@')\n",
    "logging.info(y)"
   ]
  },
  {
   "cell_type": "code",
   "execution_count": 23,
   "metadata": {},
   "outputs": [
    {
     "data": {
      "text/plain": [
       "'jorgecardona'"
      ]
     },
     "execution_count": 23,
     "metadata": {},
     "output_type": "execute_result"
    }
   ],
   "source": [
    "gh = '        hhhhhttp      s://www.jorgecardona.comwhttps'.strip(' t.m:p/hwswoc')\n",
    "gh"
   ]
  },
  {
   "cell_type": "code",
   "execution_count": 24,
   "metadata": {},
   "outputs": [
    {
     "data": {
      "text/plain": [
       "'jorgecardona'"
      ]
     },
     "execution_count": 24,
     "metadata": {},
     "output_type": "execute_result"
    }
   ],
   "source": [
    "gh = 'https://github.com/jorgecardona'.strip('itb/.ghths:pucmo')\n",
    "gh"
   ]
  },
  {
   "cell_type": "code",
   "execution_count": 25,
   "metadata": {},
   "outputs": [
    {
     "name": "stderr",
     "output_type": "stream",
     "text": [
      "2021-12-21 21:35:55 INFO: STRING GENERATED-> la cadena reemplazada es 1913726USSRKQ  -> smgzUSSRKQ\n"
     ]
    }
   ],
   "source": [
    "palabra = generate_characters(10)\n",
    "dic = {str(j):str(i+1) for i, j in enumerate(list(string.ascii_lowercase))}\n",
    "tabla = palabra.maketrans(dic)\n",
    "\n",
    "logging.info(f'la cadena reemplazada es {palabra.translate(tabla)}  -> {palabra}')"
   ]
  },
  {
   "cell_type": "code",
   "execution_count": 26,
   "metadata": {
    "scrolled": true
   },
   "outputs": [
    {
     "name": "stderr",
     "output_type": "stream",
     "text": [
      "2021-12-21 21:35:55 INFO: STRING GENERATED-> la cadena reemplazada es ddCVYh*lxs  -> ddCVYhElxs\n"
     ]
    }
   ],
   "source": [
    "palabra = generate_characters(10)\n",
    "base      = 'aeiouAEIOU'\n",
    "reemplazo = '@#$%^&*()!'\n",
    "tabla = palabra.maketrans(base,reemplazo)\n",
    "\n",
    "logging.info(f'la cadena reemplazada es {palabra.translate(tabla)}  -> {palabra}')"
   ]
  },
  {
   "cell_type": "code",
   "execution_count": 27,
   "metadata": {},
   "outputs": [
    {
     "name": "stderr",
     "output_type": "stream",
     "text": [
      "2021-12-21 21:35:55 INFO: STRING GENERATED-> la cadena reemplazada es M@Jq(RNzdw  -> MaJqIRNzdw\n"
     ]
    }
   ],
   "source": [
    "palabra = generate_characters(10)\n",
    "base      = 'aeiouAEIOU'\n",
    "reemplazo = '@#$%^&*()!'\n",
    "borrar = 'BCDFGHjklmn'\n",
    "tabla = palabra.maketrans(base,reemplazo,borrar)\n",
    "\n",
    "logging.info(f'la cadena reemplazada es {palabra.translate(tabla)}  -> {palabra}')"
   ]
  },
  {
   "cell_type": "code",
   "execution_count": 28,
   "metadata": {},
   "outputs": [
    {
     "name": "stderr",
     "output_type": "stream",
     "text": [
      "2021-12-21 21:35:55 INFO: STRING GENERATED-> la cadena reemplazada es szwpdzjisvnsy  -> IszCKOwpMdzjFBiMQsHvnMsyM\n"
     ]
    }
   ],
   "source": [
    "palabra = generate_characters()\n",
    "borrar = string.ascii_uppercase\n",
    "tabla = palabra.maketrans('','',borrar)\n",
    "\n",
    "logging.info(f'la cadena reemplazada es {palabra.translate(tabla)}  -> {palabra}')"
   ]
  },
  {
   "cell_type": "markdown",
   "metadata": {},
   "source": [
    "# <center> Alinear texto, a la Derecha a la Izquierda, al centro, Completa con otros caracteres </center>"
   ]
  },
  {
   "cell_type": "code",
   "execution_count": 29,
   "metadata": {},
   "outputs": [
    {
     "name": "stderr",
     "output_type": "stream",
     "text": [
      "2021-12-21 21:35:55 INFO: STRING GENERATED-> FVb2i ZNAsY b884p LENU2 NWcEU vMthw 0KyOI 794xy GTOuP YWFZw\n"
     ]
    }
   ],
   "source": [
    "palabra =  get_random_function()\n",
    "logging.info(palabra)"
   ]
  },
  {
   "cell_type": "code",
   "execution_count": 30,
   "metadata": {},
   "outputs": [
    {
     "data": {
      "text/plain": [
       "'       FVb2i ZNAsY b884p LENU2 NWcEU vMthw 0KyOI 794xy GTOuP YWFZw'"
      ]
     },
     "execution_count": 30,
     "metadata": {},
     "output_type": "execute_result"
    }
   ],
   "source": [
    "palabra.rjust(len(palabra) + 7)"
   ]
  },
  {
   "cell_type": "code",
   "execution_count": 31,
   "metadata": {},
   "outputs": [
    {
     "data": {
      "text/plain": [
       "'~~~~~~~FVb2i ZNAsY b884p LENU2 NWcEU vMthw 0KyOI 794xy GTOuP YWFZw'"
      ]
     },
     "execution_count": 31,
     "metadata": {},
     "output_type": "execute_result"
    }
   ],
   "source": [
    "palabra.rjust(len(palabra) + 7, '~')"
   ]
  },
  {
   "cell_type": "code",
   "execution_count": 32,
   "metadata": {},
   "outputs": [
    {
     "data": {
      "text/plain": [
       "'FVb2i ZNAsY b884p LENU2 NWcEU vMthw 0KyOI 794xy GTOuP YWFZw       '"
      ]
     },
     "execution_count": 32,
     "metadata": {},
     "output_type": "execute_result"
    }
   ],
   "source": [
    "palabra.ljust(len(palabra) + 7)"
   ]
  },
  {
   "cell_type": "code",
   "execution_count": 33,
   "metadata": {},
   "outputs": [
    {
     "data": {
      "text/plain": [
       "'   FVb2i ZNAsY b884p LENU2 NWcEU vMthw 0KyOI 794xy GTOuP YWFZw    '"
      ]
     },
     "execution_count": 33,
     "metadata": {},
     "output_type": "execute_result"
    }
   ],
   "source": [
    "palabra.center(len(palabra) + 7)"
   ]
  },
  {
   "cell_type": "code",
   "execution_count": 34,
   "metadata": {},
   "outputs": [
    {
     "data": {
      "text/plain": [
       "'<<<FVb2i ZNAsY b884p LENU2 NWcEU vMthw 0KyOI 794xy GTOuP YWFZw<<<<'"
      ]
     },
     "execution_count": 34,
     "metadata": {},
     "output_type": "execute_result"
    }
   ],
   "source": [
    "palabra.center(len(palabra) + 7, '<')"
   ]
  },
  {
   "cell_type": "code",
   "execution_count": 35,
   "metadata": {},
   "outputs": [
    {
     "data": {
      "text/plain": [
       "'FVb2i ZNAsY b884p LENU2 NWcEU vMthw 0KyOI 794xy GTOuP YWFZw'"
      ]
     },
     "execution_count": 35,
     "metadata": {},
     "output_type": "execute_result"
    }
   ],
   "source": [
    "palabra.zfill(40)"
   ]
  },
  {
   "cell_type": "markdown",
   "metadata": {},
   "source": [
    "# <center> Valída si es : Letras, Minúsculas, Mayúsculas Letras y Números, Espacios en blanco</center>"
   ]
  },
  {
   "cell_type": "code",
   "execution_count": 36,
   "metadata": {},
   "outputs": [
    {
     "name": "stderr",
     "output_type": "stream",
     "text": [
      "2021-12-21 21:35:55 INFO: STRING GENERATED-> son Letras -> XZAbqwRGrhlnNBxgNUFzQEyXV ->  True\n",
      "2021-12-21 21:35:55 INFO: STRING GENERATED-> son Letras y numeros -> XZAbqwRGrhlnNBxgNUFzQEyXV ->  True\n"
     ]
    }
   ],
   "source": [
    "letras = generate_characters()\n",
    "logging.info(f'son Letras -> {letras} ->  {letras.isalpha()}')\n",
    "logging.info(f'son Letras y numeros -> {letras} ->  {letras.isalnum()}')"
   ]
  },
  {
   "cell_type": "code",
   "execution_count": 37,
   "metadata": {},
   "outputs": [
    {
     "name": "stderr",
     "output_type": "stream",
     "text": [
      "2021-12-21 21:35:55 INFO: STRING GENERATED-> son Letras -> 6rfDByfxEzX8J4OUifHAWjLZfAAQhFfUdRkWB4efxVIVokOaHu ->  False\n",
      "2021-12-21 21:35:55 INFO: STRING GENERATED-> son Letras y numeros -> 6rfDByfxEzX8J4OUifHAWjLZfAAQhFfUdRkWB4efxVIVokOaHu ->  True\n"
     ]
    }
   ],
   "source": [
    "numeros_y_letras = generate_characters_and_numbers()\n",
    "logging.info(f'son Letras -> {numeros_y_letras} ->  {numeros_y_letras.isalpha()}')\n",
    "logging.info(f'son Letras y numeros -> {numeros_y_letras} ->  {numeros_y_letras.isalnum()}')"
   ]
  },
  {
   "cell_type": "code",
   "execution_count": 38,
   "metadata": {},
   "outputs": [
    {
     "name": "stderr",
     "output_type": "stream",
     "text": [
      "2021-12-21 21:35:55 INFO: STRING GENERATED-> son Mayúsculas -> XZAbqwRGrhlnNBxgNUFzQEyXV ->  False\n",
      "2021-12-21 21:35:55 INFO: STRING GENERATED-> son Mayúsculas -> 6rfDByfxEzX8J4OUifHAWjLZfAAQhFfUdRkWB4efxVIVokOaHu ->  False\n"
     ]
    }
   ],
   "source": [
    "logging.info(f'son Mayúsculas -> {letras} ->  {numeros_y_letras.isupper()}')\n",
    "logging.info(f'son Mayúsculas -> {numeros_y_letras} ->  {numeros_y_letras.isupper()}')"
   ]
  },
  {
   "cell_type": "code",
   "execution_count": 39,
   "metadata": {},
   "outputs": [
    {
     "name": "stderr",
     "output_type": "stream",
     "text": [
      "2021-12-21 21:35:55 INFO: STRING GENERATED-> son Minúsculas -> XZAbqwRGrhlnNBxgNUFzQEyXV ->  False\n",
      "2021-12-21 21:35:55 INFO: STRING GENERATED-> son Minúsculas -> 6rfDByfxEzX8J4OUifHAWjLZfAAQhFfUdRkWB4efxVIVokOaHu ->  False\n"
     ]
    }
   ],
   "source": [
    "logging.info(f'son Minúsculas -> {letras} ->  {numeros_y_letras.islower()}')\n",
    "logging.info(f'son Minúsculas -> {numeros_y_letras} ->  {numeros_y_letras.islower()}')"
   ]
  },
  {
   "cell_type": "code",
   "execution_count": 40,
   "metadata": {},
   "outputs": [
    {
     "name": "stderr",
     "output_type": "stream",
     "text": [
      "2021-12-21 21:35:55 INFO: STRING GENERATED-> son Títulos -> XZAbqwRGrhlnNBxgNUFzQEyXV ->  False\n",
      "2021-12-21 21:35:55 INFO: STRING GENERATED-> son Títulos -> 6rfDByfxEzX8J4OUifHAWjLZfAAQhFfUdRkWB4efxVIVokOaHu ->  False\n"
     ]
    }
   ],
   "source": [
    "logging.info(f'son Títulos -> {letras} ->  {numeros_y_letras.istitle()}')\n",
    "logging.info(f'son Títulos -> {numeros_y_letras} ->  {numeros_y_letras.istitle()}')"
   ]
  },
  {
   "cell_type": "code",
   "execution_count": 41,
   "metadata": {},
   "outputs": [
    {
     "name": "stderr",
     "output_type": "stream",
     "text": [
      "2021-12-21 21:35:55 INFO: STRING GENERATED-> son espacios en blanco ->             ->  True\n",
      "2021-12-21 21:35:55 INFO: STRING GENERATED-> son espacios en blanco -> XZAbqwRGrhlnNBxgNUFzQEyXV ->  False\n",
      "2021-12-21 21:35:55 INFO: STRING GENERATED-> son espacios en blanco -> 6rfDByfxEzX8J4OUifHAWjLZfAAQhFfUdRkWB4efxVIVokOaHu ->  False\n"
     ]
    }
   ],
   "source": [
    "espacios_en_blanco = '           '\n",
    "logging.info(f'son espacios en blanco -> {espacios_en_blanco} ->  {espacios_en_blanco.isspace()}')\n",
    "logging.info(f'son espacios en blanco -> {letras} ->  {numeros_y_letras.isspace()}')\n",
    "logging.info(f'son espacios en blanco -> {numeros_y_letras} ->  {numeros_y_letras.isspace()}')"
   ]
  },
  {
   "cell_type": "markdown",
   "metadata": {},
   "source": [
    "# <center> Valída si es : Números, Décimal, Binario, Octal, HexaDécimal, Exponencial </center>"
   ]
  },
  {
   "cell_type": "code",
   "execution_count": 42,
   "metadata": {},
   "outputs": [
    {
     "name": "stderr",
     "output_type": "stream",
     "text": [
      "2021-12-21 21:35:55 INFO: STRING GENERATED-> son Números decimales -> 0158108804868429693149946 ->  True\n",
      "2021-12-21 21:35:55 INFO: STRING GENERATED-> son Dígitos -> 0158108804868429693149946 -> True\n",
      "2021-12-21 21:35:55 INFO: STRING GENERATED-> son tipo Númericos -> 0158108804868429693149946 -> True\n"
     ]
    }
   ],
   "source": [
    "numeros = generate_numbers()\n",
    "\n",
    "logging.info(f'son Números decimales -> {numeros} ->  {numeros.isdecimal()}')\n",
    "logging.info(f'son Dígitos -> {numeros} -> {numeros.isdigit()}')\n",
    "logging.info(f'son tipo Númericos -> {numeros} -> {numeros.isnumeric()}')"
   ]
  },
  {
   "cell_type": "code",
   "execution_count": 43,
   "metadata": {},
   "outputs": [
    {
     "name": "stderr",
     "output_type": "stream",
     "text": [
      "2021-12-21 21:35:55 INFO: STRING GENERATED-> son Números flotantes -> 978190592739.4749 ->  False\n",
      "2021-12-21 21:35:55 INFO: STRING GENERATED-> son Dígitos -> 978190592739.4749 -> False\n",
      "2021-12-21 21:35:55 INFO: STRING GENERATED-> son  tipo Númericos -> 978190592739.4749 -> False\n"
     ]
    }
   ],
   "source": [
    "numeros_flotantes = str(int(generate_numbers()) / 192519503178.213)\n",
    "\n",
    "logging.info(f'son Números flotantes -> {numeros_flotantes} ->  {numeros_flotantes.isdecimal()}')\n",
    "logging.info(f'son Dígitos -> {numeros_flotantes} -> {numeros_flotantes.isdigit()}')\n",
    "logging.info(f'son  tipo Númericos -> {numeros_flotantes} -> {numeros_flotantes.isnumeric()}')"
   ]
  },
  {
   "cell_type": "code",
   "execution_count": 44,
   "metadata": {},
   "outputs": [
    {
     "name": "stderr",
     "output_type": "stream",
     "text": [
      "2021-12-21 21:35:55 INFO: STRING GENERATED-> son Números Binarios -> 0b100001011110110001100001110001110010110111110010001111101110010110001011111010 ->  True\n",
      "2021-12-21 21:35:55 INFO: STRING GENERATED-> son Números Binarios -> 100001011110110001100001110001110010110111110010001111101110010110001011111010 ->  True\n"
     ]
    }
   ],
   "source": [
    "binario = bin(int(numeros))\n",
    "validacion = all(b in ['0','1'] for b in binario[2:])\n",
    "logging.info(f'son Números Binarios -> {binario} ->  {validacion}')\n",
    "\n",
    "binario_format = format(int(numeros), \"b\")\n",
    "validacion_format = all(b in ['0','1'] for b in binario_format)\n",
    "logging.info(f'son Números Binarios -> {binario_format} ->  {validacion_format}')"
   ]
  },
  {
   "cell_type": "code",
   "execution_count": 45,
   "metadata": {},
   "outputs": [
    {
     "name": "stderr",
     "output_type": "stream",
     "text": [
      "2021-12-21 21:35:55 INFO: STRING GENERATED-> son Números Octal -> 0o41366141616267621756261372 ->  True\n",
      "2021-12-21 21:35:55 INFO: STRING GENERATED-> son Números Octal -> 41366141616267621756261372 -> True\n"
     ]
    }
   ],
   "source": [
    "octal = oct(int(numeros))\n",
    "validacion = all(o in [str(i) for i in range(8)] for o in octal[2:])\n",
    "logging.info(f'son Números Octal -> {octal} ->  {validacion}')\n",
    "\n",
    "octal_format = format(int(numeros), \"o\")\n",
    "validacion_octal = all(o in [str(i) for i in range(8)] for o in octal_format)\n",
    "logging.info(f'son Números Octal -> {octal_format} -> {validacion_octal}')"
   ]
  },
  {
   "cell_type": "code",
   "execution_count": 46,
   "metadata": {},
   "outputs": [
    {
     "name": "stderr",
     "output_type": "stream",
     "text": [
      "2021-12-21 21:35:55 INFO: STRING GENERATED-> son  tipo Hexadecimal -> 0x217b1871cb7c8fb962fa -> True\n",
      "2021-12-21 21:35:55 INFO: STRING GENERATED-> son  tipo Hexadecimal -> 217b1871cb7c8fb962fa -> True\n"
     ]
    }
   ],
   "source": [
    "hexadecimal = hex(int(numeros))\n",
    "validacion = all(x in string.hexdigits for x in hexadecimal[2:])\n",
    "logging.info(f'son  tipo Hexadecimal -> {hexadecimal} -> {validacion}')\n",
    "\n",
    "hexadecimal_format = format(int(numeros), \"x\")\n",
    "validacion_hexadecimal_format = all(x in string.hexdigits for x in hexadecimal_format)\n",
    "logging.info(f'son  tipo Hexadecimal -> {hexadecimal_format} -> {validacion_hexadecimal_format}')"
   ]
  },
  {
   "cell_type": "code",
   "execution_count": 47,
   "metadata": {},
   "outputs": [
    {
     "name": "stderr",
     "output_type": "stream",
     "text": [
      "2021-12-21 21:35:55 INFO: STRING GENERATED-> son  tipo Númericos -> 1.280681e+14 -> False\n"
     ]
    },
    {
     "data": {
      "text/plain": [
       "'1.280681e+14'"
      ]
     },
     "execution_count": 47,
     "metadata": {},
     "output_type": "execute_result"
    }
   ],
   "source": [
    "#exponencial = exp(int(numeros)//1234567890)\n",
    "exponencial_format = format(int(numeros)//1234567890, \"e\")\n",
    "\n",
    "logging.info(f'son  tipo Númericos -> {exponencial_format} -> {exponencial_format.isnumeric()}')\n",
    "exponencial_format"
   ]
  },
  {
   "cell_type": "code",
   "execution_count": 48,
   "metadata": {},
   "outputs": [
    {
     "data": {
      "text/plain": [
       "128068100000000"
      ]
     },
     "execution_count": 48,
     "metadata": {},
     "output_type": "execute_result"
    }
   ],
   "source": [
    "int(float(exponencial_format))"
   ]
  },
  {
   "cell_type": "markdown",
   "metadata": {},
   "source": [
    "# <center> Dividir Cadenas</center>"
   ]
  },
  {
   "cell_type": "code",
   "execution_count": 49,
   "metadata": {},
   "outputs": [
    {
     "data": {
      "text/plain": [
       "'WfFEO#cNnnk#DXqBW#RZXLz#DDhkyWfFEO#cNnnk#DXqBW#RZXLz#DDhky'"
      ]
     },
     "execution_count": 49,
     "metadata": {},
     "output_type": "execute_result"
    }
   ],
   "source": [
    "caracter = '#'\n",
    "palabra =  get_random_function() * 2\n",
    "palabra = palabra.replace(' ', caracter)\n",
    "palabra"
   ]
  },
  {
   "cell_type": "code",
   "execution_count": 50,
   "metadata": {},
   "outputs": [
    {
     "name": "stderr",
     "output_type": "stream",
     "text": [
      "2021-12-21 21:35:55 INFO: STRING GENERATED-> son Divididos -> WfFEO#cNnnk#DXqBW#RZXLz#DDhkyWfFEO#cNnnk#DXqBW#RZXLz#DDhky => ['WfFEO', 'cNnnk', 'DXqBW', 'RZXLz', 'DDhkyWfFEO', 'cNnnk', 'DXqBW', 'RZXLz', 'DDhky']\n"
     ]
    }
   ],
   "source": [
    "logging.info(f'son Divididos -> {palabra} => {palabra.split(caracter)}')"
   ]
  },
  {
   "cell_type": "code",
   "execution_count": 51,
   "metadata": {},
   "outputs": [
    {
     "name": "stderr",
     "output_type": "stream",
     "text": [
      "2021-12-21 21:35:55 INFO: STRING GENERATED-> son Particionados -> WfFEO#cNnnk#DXqBW#RZXLz#DDhkyWfFEO#cNnnk#DXqBW#RZXLz#DDhky => ('WfFEO', '#', 'cNnnk#DXqBW#RZXLz#DDhkyWfFEO#cNnnk#DXqBW#RZXLz#DDhky')\n"
     ]
    }
   ],
   "source": [
    "logging.info(f'son Particionados -> {palabra} => {palabra.partition(caracter)}')"
   ]
  },
  {
   "cell_type": "code",
   "execution_count": 52,
   "metadata": {},
   "outputs": [
    {
     "name": "stderr",
     "output_type": "stream",
     "text": [
      "2021-12-21 21:35:55 INFO: STRING GENERATED-> son Particionados desde la derecha-> WfFEO#cNnnk#DXqBW#RZXLz#DDhkyWfFEO#cNnnk#DXqBW#RZXLz#DDhky => ('WfFEO#cNnnk#DXqBW#RZXLz#DDhkyWfFEO#cNnnk#DXqBW#RZXLz', '#', 'DDhky')\n"
     ]
    }
   ],
   "source": [
    "logging.info(f'son Particionados desde la derecha-> {palabra} => {palabra.rpartition(caracter)}')"
   ]
  },
  {
   "cell_type": "code",
   "execution_count": 53,
   "metadata": {},
   "outputs": [
    {
     "name": "stderr",
     "output_type": "stream",
     "text": [
      "2021-12-21 21:35:55 INFO: STRING GENERATED-> son Divididos en 1 parte adicional -> WfFEO#cNnnk#DXqBW#RZXLz#DDhkyWfFEO#cNnnk#DXqBW#RZXLz#DDhky => ['WfFEO', 'cNnnk#DXqBW#RZXLz#DDhkyWfFEO#cNnnk#DXqBW#RZXLz#DDhky']\n"
     ]
    }
   ],
   "source": [
    "logging.info(f'son Divididos en 1 parte adicional -> {palabra} => {palabra.split(caracter,1)}')"
   ]
  },
  {
   "cell_type": "code",
   "execution_count": 54,
   "metadata": {},
   "outputs": [
    {
     "name": "stderr",
     "output_type": "stream",
     "text": [
      "2021-12-21 21:35:55 INFO: STRING GENERATED-> son Divididos por caracter especifico -> WfFEO#cNnnk#DXqBW#RZXLz#DDhkyWfFEO#cNnnk#DXqBW#RZXLz#DDhky => ['WfFEO', 'cNnnk', 'DXqBW', 'RZXLz', 'DDhkyWfFEO', 'cNnnk', 'DXqBW', 'RZXLz', 'DDhky']\n"
     ]
    }
   ],
   "source": [
    "logging.info(f'son Divididos por caracter especifico -> {palabra} => {palabra.split(caracter)}')"
   ]
  },
  {
   "cell_type": "code",
   "execution_count": 55,
   "metadata": {},
   "outputs": [
    {
     "name": "stderr",
     "output_type": "stream",
     "text": [
      "2021-12-21 21:35:55 INFO: STRING GENERATED-> son Reemplazados por caracter especifico las veces definidas -> WfFEO#cNnnk#DXqBW#RZXLz#DDhkyWfFEO#cNnnk#DXqBW#RZXLz#DDhky => WfFEO---NEW---cNnnk---NEW---DXqBW---NEW---RZXLz#DDhkyWfFEO#cNnnk#DXqBW#RZXLz#DDhky\n"
     ]
    }
   ],
   "source": [
    "logging.info(f'son Reemplazados por caracter especifico las veces definidas -> {palabra} => {palabra.replace(caracter, \"---NEW---\", 3)}')"
   ]
  },
  {
   "cell_type": "markdown",
   "metadata": {},
   "source": [
    "# <center> Busqueda en cadenas </center>"
   ]
  },
  {
   "cell_type": "code",
   "execution_count": 56,
   "metadata": {},
   "outputs": [
    {
     "data": {
      "text/plain": [
       "'+|\\'CP DJEu- &BF;@ sUy[L OS!Kh \"Q*_5 8n2$7 r%.Td jk6wg =t0VM (al1] cp9Hb )vNe< Y>3/\\\\ xmf},+|\\'CP DJEu- &BF;@ sUy[L OS!Kh \"Q*_5 8n2$7 r%.Td jk6wg =t0VM (al1] cp9Hb )vNe< Y>3/\\\\ xmf},'"
      ]
     },
     "execution_count": 56,
     "metadata": {},
     "output_type": "execute_result"
    }
   ],
   "source": [
    "caracter = '0'\n",
    "palabra =  get_random_function() * 2\n",
    "palabra"
   ]
  },
  {
   "cell_type": "code",
   "execution_count": 57,
   "metadata": {},
   "outputs": [
    {
     "name": "stderr",
     "output_type": "stream",
     "text": [
      "2021-12-21 21:35:55 INFO: STRING GENERATED-> el caracter 0 esta 2 veces en -> +|'CP DJEu- &BF;@ sUy[L OS!Kh \"Q*_5 8n2$7 r%.Td jk6wg =t0VM (al1] cp9Hb )vNe< Y>3/\\ xmf},+|'CP DJEu- &BF;@ sUy[L OS!Kh \"Q*_5 8n2$7 r%.Td jk6wg =t0VM (al1] cp9Hb )vNe< Y>3/\\ xmf},\n"
     ]
    }
   ],
   "source": [
    "logging.info(f'el caracter {caracter} esta {palabra.count(caracter)} veces en -> {palabra}')"
   ]
  },
  {
   "cell_type": "code",
   "execution_count": 58,
   "metadata": {},
   "outputs": [
    {
     "name": "stderr",
     "output_type": "stream",
     "text": [
      "2021-12-21 21:35:55 INFO: STRING GENERATED-> el caracter 0 esta 1 veces en -> +|'CP DJEu- &BF;@ sUy[L OS!Kh \"Q*_5 8n2$7 r%.Td jk6wg =t0VM (al1] cp9Hb )vNe< Y>3/\\ xmf},+|'CP DJEu- &BF;@ sUy[L OS!Kh \"Q*_5 8n2$7 r%.Td jk6wg =t0VM (al1] cp9Hb )vNe< Y>3/\\ xmf},\n"
     ]
    }
   ],
   "source": [
    "logging.info(f'el caracter {caracter} esta {palabra.count(caracter, len(palabra)//4,  3*len(palabra)//4)} veces en -> {palabra}')"
   ]
  },
  {
   "cell_type": "code",
   "execution_count": 59,
   "metadata": {},
   "outputs": [
    {
     "name": "stderr",
     "output_type": "stream",
     "text": [
      "2021-12-21 21:35:55 INFO: STRING GENERATED-> el caracter 0 el INDICE de la primera aparicion esta en la posicion 56  en -> +|'CP DJEu- &BF;@ sUy[L OS!Kh \"Q*_5 8n2$7 r%.Td jk6wg =t0VM (al1] cp9Hb )vNe< Y>3/\\ xmf},+|'CP DJEu- &BF;@ sUy[L OS!Kh \"Q*_5 8n2$7 r%.Td jk6wg =t0VM (al1] cp9Hb )vNe< Y>3/\\ xmf},\n"
     ]
    }
   ],
   "source": [
    "logging.info(f'el caracter {caracter} el INDICE de la primera aparicion esta en la posicion {palabra.index(caracter)}  en -> {palabra}')"
   ]
  },
  {
   "cell_type": "code",
   "execution_count": 60,
   "metadata": {},
   "outputs": [
    {
     "name": "stderr",
     "output_type": "stream",
     "text": [
      "2021-12-21 21:35:55 INFO: STRING GENERATED-> el caracter 0 la primera aparicion esta en la posicion 56  en -> +|'CP DJEu- &BF;@ sUy[L OS!Kh \"Q*_5 8n2$7 r%.Td jk6wg =t0VM (al1] cp9Hb )vNe< Y>3/\\ xmf},+|'CP DJEu- &BF;@ sUy[L OS!Kh \"Q*_5 8n2$7 r%.Td jk6wg =t0VM (al1] cp9Hb )vNe< Y>3/\\ xmf},\n"
     ]
    }
   ],
   "source": [
    "logging.info(f'el caracter {caracter} la primera aparicion esta en la posicion {palabra.find(caracter)}  en -> {palabra}')"
   ]
  },
  {
   "cell_type": "code",
   "execution_count": 61,
   "metadata": {},
   "outputs": [
    {
     "name": "stderr",
     "output_type": "stream",
     "text": [
      "2021-12-21 21:35:55 INFO: STRING GENERATED-> la ultima posicion del caracter 0 esta en 145  en -> +|'CP DJEu- &BF;@ sUy[L OS!Kh \"Q*_5 8n2$7 r%.Td jk6wg =t0VM (al1] cp9Hb )vNe< Y>3/\\ xmf},+|'CP DJEu- &BF;@ sUy[L OS!Kh \"Q*_5 8n2$7 r%.Td jk6wg =t0VM (al1] cp9Hb )vNe< Y>3/\\ xmf},\n"
     ]
    }
   ],
   "source": [
    "logging.info(f'la ultima posicion del caracter {caracter} esta en {palabra.rfind(caracter)}  en -> {palabra}')"
   ]
  },
  {
   "cell_type": "code",
   "execution_count": 62,
   "metadata": {},
   "outputs": [
    {
     "name": "stderr",
     "output_type": "stream",
     "text": [
      "2021-12-21 21:35:55 INFO: STRING GENERATED-> la proxima posicion del caracter 0 esta en la posicion -> 56  en -> +|'CP DJEu- &BF;@ sUy[L OS!Kh \"Q*_5 8n2$7 r%.Td jk6wg =t0VM (al1] cp9Hb )vNe< Y>3/\\ xmf},+|'CP DJEu- &BF;@ sUy[L OS!Kh \"Q*_5 8n2$7 r%.Td jk6wg =t0VM (al1] cp9Hb )vNe< Y>3/\\ xmf},\n"
     ]
    }
   ],
   "source": [
    "logging.info(f'la proxima posicion del caracter {caracter} esta en la posicion -> {palabra.find(caracter, 13)}  en -> {palabra}')"
   ]
  },
  {
   "cell_type": "code",
   "execution_count": 63,
   "metadata": {},
   "outputs": [
    {
     "name": "stderr",
     "output_type": "stream",
     "text": [
      "2021-12-21 21:35:55 INFO: STRING GENERATED-> la proxima posicion del caracter 0 esta en la posicion -> 145  en -> +|'CP DJEu- &BF;@ sUy[L OS!Kh \"Q*_5 8n2$7 r%.Td jk6wg =t0VM (al1] cp9Hb )vNe< Y>3/\\ xmf},+|'CP DJEu- &BF;@ sUy[L OS!Kh \"Q*_5 8n2$7 r%.Td jk6wg =t0VM (al1] cp9Hb )vNe< Y>3/\\ xmf},\n"
     ]
    }
   ],
   "source": [
    "logging.info(f'la proxima posicion del caracter {caracter} esta en la posicion -> {palabra.find(caracter, 57)}  en -> {palabra}')"
   ]
  },
  {
   "cell_type": "code",
   "execution_count": 64,
   "metadata": {},
   "outputs": [
    {
     "name": "stderr",
     "output_type": "stream",
     "text": [
      "2021-12-21 21:35:55 INFO: STRING GENERATED-> la cadena tiene el caracter 0 en las siguientes posiciones  -> ['0 -> 56', '0 -> 145']  en -> +|'CP DJEu- &BF;@ sUy[L OS!Kh \"Q*_5 8n2$7 r%.Td jk6wg =t0VM (al1] cp9Hb )vNe< Y>3/\\ xmf},+|'CP DJEu- &BF;@ sUy[L OS!Kh \"Q*_5 8n2$7 r%.Td jk6wg =t0VM (al1] cp9Hb )vNe< Y>3/\\ xmf},\n"
     ]
    }
   ],
   "source": [
    "ocurrencias = [str(j) + ' -> ' + str(i) for i,j in enumerate(palabra) if j == caracter]\n",
    "\n",
    "logging.info(f'la cadena tiene el caracter {caracter} en las siguientes posiciones  -> {ocurrencias}  en -> {palabra}')"
   ]
  },
  {
   "cell_type": "code",
   "execution_count": 65,
   "metadata": {},
   "outputs": [
    {
     "name": "stderr",
     "output_type": "stream",
     "text": [
      "2021-12-21 21:35:55 INFO: STRING GENERATED-> la cadena inicia con el caracter 0  -> False  en -> +|'CP DJEu- &BF;@ sUy[L OS!Kh \"Q*_5 8n2$7 r%.Td jk6wg =t0VM (al1] cp9Hb )vNe< Y>3/\\ xmf},+|'CP DJEu- &BF;@ sUy[L OS!Kh \"Q*_5 8n2$7 r%.Td jk6wg =t0VM (al1] cp9Hb )vNe< Y>3/\\ xmf},\n"
     ]
    }
   ],
   "source": [
    "logging.info(f'la cadena inicia con el caracter {caracter}  -> {palabra.startswith(caracter)}  en -> {palabra}')"
   ]
  },
  {
   "cell_type": "code",
   "execution_count": 66,
   "metadata": {},
   "outputs": [
    {
     "name": "stderr",
     "output_type": "stream",
     "text": [
      "2021-12-21 21:35:55 INFO: STRING GENERATED-> la cadena finaliza con el caracter mf},  -> True  en -> +|'CP DJEu- &BF;@ sUy[L OS!Kh \"Q*_5 8n2$7 r%.Td jk6wg =t0VM (al1] cp9Hb )vNe< Y>3/\\ xmf},+|'CP DJEu- &BF;@ sUy[L OS!Kh \"Q*_5 8n2$7 r%.Td jk6wg =t0VM (al1] cp9Hb )vNe< Y>3/\\ xmf},\n"
     ]
    }
   ],
   "source": [
    "logging.info(f'la cadena finaliza con el caracter {palabra[-4:]}  -> {palabra.endswith(palabra[-4:])}  en -> {palabra}')"
   ]
  },
  {
   "cell_type": "code",
   "execution_count": 67,
   "metadata": {},
   "outputs": [
    {
     "name": "stderr",
     "output_type": "stream",
     "text": [
      "2021-12-21 21:35:55 INFO: STRING GENERATED-> la cadena finaliza con el caracter b'+|\\'CP DJEu- &BF;@ sUy[L OS!Kh \"Q*_5 8n2$7 r%.Td jk6wg =t0VM (al1] cp9Hb )vNe< Y>3/\\\\ xmf},+|\\'CP DJEu- &BF;@ sUy[L OS!Kh \"Q*_5 8n2$7 r%.Td jk6wg =t0VM (al1] cp9Hb )vNe< Y>3/\\\\ xmf},'  -> b'+|\\'CP DJEu- &BF;@ sUy[L OS!Kh \"Q*_5 8n2$7 r%.Td jk6wg =t0VM (al1] cp9Hb )vNe< Y>3/\\\\ xmf},+|\\'CP DJEu- &BF;@ sUy[L OS!Kh \"Q*_5 8n2$7 r%.Td jk6wg =t0VM (al1] cp9Hb )vNe< Y>3/\\\\ xmf},'  en -> b'+|\\'CP DJEu- &BF;@ sUy[L OS!Kh \"Q*_5 8n2$7 r%.Td jk6wg =t0VM (al1] cp9Hb )vNe< Y>3/\\\\ xmf},+|\\'CP DJEu- &BF;@ sUy[L OS!Kh \"Q*_5 8n2$7 r%.Td jk6wg =t0VM (al1] cp9Hb )vNe< Y>3/\\\\ xmf},'\n"
     ]
    }
   ],
   "source": [
    "logging.info(f'la cadena finaliza con el caracter {palabra.encode(\"utf-8\")}  -> {palabra.encode(\"utf-8\")}  en -> {palabra.encode(\"utf-8\")}')"
   ]
  }
 ],
 "metadata": {
  "kernelspec": {
   "display_name": "Python 3 (ipykernel)",
   "language": "python",
   "name": "python3"
  },
  "language_info": {
   "codemirror_mode": {
    "name": "ipython",
    "version": 3
   },
   "file_extension": ".py",
   "mimetype": "text/x-python",
   "name": "python",
   "nbconvert_exporter": "python",
   "pygments_lexer": "ipython3",
   "version": "3.9.7"
  }
 },
 "nbformat": 4,
 "nbformat_minor": 4
}
