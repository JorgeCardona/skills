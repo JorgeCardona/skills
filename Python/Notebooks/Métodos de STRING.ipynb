{
 "cells": [
  {
   "cell_type": "code",
   "execution_count": 1,
   "metadata": {},
   "outputs": [
    {
     "data": {
      "text/html": [
       "<style>.container { width:100% !important; }</style>"
      ],
      "text/plain": [
       "<IPython.core.display.HTML object>"
      ]
     },
     "metadata": {},
     "output_type": "display_data"
    }
   ],
   "source": [
    "from IPython.core.display import display, HTML\n",
    "display(HTML(\"<style>.container { width:100% !important; }</style>\"))"
   ]
  },
  {
   "cell_type": "code",
   "execution_count": 2,
   "metadata": {},
   "outputs": [
    {
     "data": {
      "text/html": [
       "\n",
       "<style>\n",
       "div.output_stderr {\n",
       "    background: #85C1E9;\n",
       "}\n",
       "</style>\n"
      ],
      "text/plain": [
       "<IPython.core.display.HTML object>"
      ]
     },
     "execution_count": 2,
     "metadata": {},
     "output_type": "execute_result"
    }
   ],
   "source": [
    "# cmabiar el color rojo del log a Azul\n",
    "from IPython.core.display import HTML\n",
    "HTML(\"\"\"\n",
    "<style>\n",
    "div.output_stderr {\n",
    "    background: #85C1E9;\n",
    "}\n",
    "</style>\n",
    "\"\"\")"
   ]
  },
  {
   "cell_type": "code",
   "execution_count": 3,
   "metadata": {},
   "outputs": [
    {
     "name": "stdout",
     "output_type": "stream",
     "text": [
      "3.9.7\n"
     ]
    }
   ],
   "source": [
    "from platform import python_version\n",
    "\n",
    "print(python_version())"
   ]
  },
  {
   "cell_type": "code",
   "execution_count": 4,
   "metadata": {},
   "outputs": [
    {
     "name": "stderr",
     "output_type": "stream",
     "text": [
      "2021-12-25 10:06:39 INFO: STRING GENERATED-> son ejemplo_numerico -> [1, 1, 1, 0, 0, 1, 1, 0, 0, 0, 0, 0, 0, 0, 1, 1, 1, 1, 1, 1]\n",
      "2021-12-25 10:06:39 INFO: STRING GENERATED-> son ejemplo_cast_numero -> [False, True, True, False, True, False, True, False, False, True, True, False, True, True, False, True, False, False, False, False]\n",
      "2021-12-25 10:06:39 INFO: STRING GENERATED-> son ejemplo_bool -> [True, True, False, False, False, False, False, False, True, True, True, False, False, False, False, False, True, False, True, True]\n",
      "2021-12-25 10:06:39 INFO: STRING GENERATED-> son ejemplo_bool_2 -> [False, False, True, False, False, False, True, True, False, False, False, True, False, True, True, False, True, False, True, False]\n",
      "2021-12-25 10:06:39 INFO: STRING GENERATED-> son ejemplo_vacio -> [0, False, '', False, '', None, '', False, 0, 0, 0, False, '', None, None, '', '', 0, '', '']\n",
      "2021-12-25 10:06:39 INFO: STRING GENERATED-> son ejemplo_vacio_espacio_false -> ['', None, '', '', '', None, '', 0, None, None, 0, 0, ' ', ' ', None, 0, None, False, None, '']\n",
      "2021-12-25 10:06:39 INFO: STRING GENERATED-> son ejemplo_mixto -> [' ', '-', '-', None, None, '-', None, None, '', '-', '', ' ', '', ' ', ' ', '-', '-', '', None, '']\n"
     ]
    }
   ],
   "source": [
    "import random\n",
    "import logging\n",
    "\n",
    "limit = 20\n",
    "\n",
    "logging.basicConfig(format='%(asctime)s %(levelname)s: STRING GENERATED-> %(message)s', level=logging.DEBUG, datefmt='%Y-%m-%d %H:%M:%S')\n",
    "\n",
    "ejemplo_numerico = [random.randint(0,1) for i in range(limit)]\n",
    "logging.info(f'son ejemplo_numerico -> {ejemplo_numerico}')\n",
    "\n",
    "ejemplo_cast_numero = [bool(random.randint(0,1)) for i in range(limit)]\n",
    "logging.info(f'son ejemplo_cast_numero -> {ejemplo_cast_numero}')\n",
    "\n",
    "ejemplo_bool = [bool(random.getrandbits(1)) for i in range(limit)]\n",
    "logging.info(f'son ejemplo_bool -> {ejemplo_bool}')\n",
    "\n",
    "ejemplo_bool_2 = [random.choice([True, False]) for i in range(limit)]\n",
    "logging.info(f'son ejemplo_bool_2 -> {ejemplo_bool_2}')\n",
    "\n",
    "ejemplo_vacio = [random.choice(['', None, False, 0]) for i in range(limit)]\n",
    "logging.info(f'son ejemplo_vacio -> {ejemplo_vacio}')\n",
    "\n",
    "ejemplo_vacio_espacio_false = [random.choice(['', None, False, ' ', 0]) for i in range(limit)]\n",
    "logging.info(f'son ejemplo_vacio_espacio_false -> {ejemplo_vacio_espacio_false}')\n",
    "\n",
    "ejemplo_mixto = [random.choice(['', None, ' ', '-']) for i in range(limit)]\n",
    "logging.info(f'son ejemplo_mixto -> {ejemplo_mixto}')"
   ]
  },
  {
   "cell_type": "markdown",
   "metadata": {},
   "source": [
    "# <center> ALL -> VALIDA QUE TODO SEA VERDADERO </center>"
   ]
  },
  {
   "cell_type": "code",
   "execution_count": 5,
   "metadata": {},
   "outputs": [
    {
     "name": "stderr",
     "output_type": "stream",
     "text": [
      "2021-12-25 10:06:47 INFO: STRING GENERATED-> son ejemplo_verdadero[1, True, ' '] -> True\n",
      "2021-12-25 10:06:47 INFO: STRING GENERATED-> son ejemplo_numerico [1, 1, 1, 0, 0, 1, 1, 0, 0, 0, 0, 0, 0, 0, 1, 1, 1, 1, 1, 1] -> False\n",
      "2021-12-25 10:06:47 INFO: STRING GENERATED-> son ejemplo_cast_numero [False, True, True, False, True, False, True, False, False, True, True, False, True, True, False, True, False, False, False, False] -> False\n",
      "2021-12-25 10:06:47 INFO: STRING GENERATED-> son ejemplo_bool [True, True, False, False, False, False, False, False, True, True, True, False, False, False, False, False, True, False, True, True] -> False\n",
      "2021-12-25 10:06:47 INFO: STRING GENERATED-> son ejemplo_bool_2 [False, False, True, False, False, False, True, True, False, False, False, True, False, True, True, False, True, False, True, False] -> False\n",
      "2021-12-25 10:06:47 INFO: STRING GENERATED-> son ejemplo_vacio [0, False, '', False, '', None, '', False, 0, 0, 0, False, '', None, None, '', '', 0, '', ''] -> False\n",
      "2021-12-25 10:06:47 INFO: STRING GENERATED-> son ejemplo_vacio_espacio_false ['', None, '', '', '', None, '', 0, None, None, 0, 0, ' ', ' ', None, 0, None, False, None, ''] -> False\n",
      "2021-12-25 10:06:47 INFO: STRING GENERATED-> son ejemplo_mixto [' ', '-', '-', None, None, '-', None, None, '', '-', '', ' ', '', ' ', ' ', '-', '-', '', None, ''] -> False\n"
     ]
    }
   ],
   "source": [
    "logging.info(f'son ejemplo_verdadero{[1,True,\" \"]} -> {all([1,True,\" \"])}')\n",
    "logging.info(f'son ejemplo_numerico {ejemplo_numerico} -> {all(ejemplo_numerico)}')\n",
    "logging.info(f'son ejemplo_cast_numero {ejemplo_cast_numero} -> {all(ejemplo_cast_numero)}')\n",
    "logging.info(f'son ejemplo_bool {ejemplo_bool} -> {all(ejemplo_bool)}')\n",
    "logging.info(f'son ejemplo_bool_2 {ejemplo_bool_2} -> {all(ejemplo_bool_2)}')\n",
    "logging.info(f'son ejemplo_vacio {ejemplo_vacio} -> {all(ejemplo_vacio)}')\n",
    "logging.info(f'son ejemplo_vacio_espacio_false {ejemplo_vacio_espacio_false} -> {all(ejemplo_vacio_espacio_false)}')\n",
    "logging.info(f'son ejemplo_mixto {ejemplo_mixto} -> {all(ejemplo_mixto)}')"
   ]
  },
  {
   "cell_type": "markdown",
   "metadata": {},
   "source": [
    "# <center> ANY -> VALIDA QUE POR LO MENOS UNO SEA VERDADERO </center>"
   ]
  },
  {
   "cell_type": "code",
   "execution_count": 6,
   "metadata": {},
   "outputs": [
    {
     "name": "stderr",
     "output_type": "stream",
     "text": [
      "2021-12-25 10:07:19 INFO: STRING GENERATED-> son ejemplo_numerico [1, 1, 1, 0, 0, 1, 1, 0, 0, 0, 0, 0, 0, 0, 1, 1, 1, 1, 1, 1] -> True\n",
      "2021-12-25 10:07:19 INFO: STRING GENERATED-> son ejemplo_cast_numero [False, True, True, False, True, False, True, False, False, True, True, False, True, True, False, True, False, False, False, False] -> True\n",
      "2021-12-25 10:07:19 INFO: STRING GENERATED-> son ejemplo_bool [True, True, False, False, False, False, False, False, True, True, True, False, False, False, False, False, True, False, True, True] -> True\n",
      "2021-12-25 10:07:19 INFO: STRING GENERATED-> son ejemplo_bool_2 [False, False, True, False, False, False, True, True, False, False, False, True, False, True, True, False, True, False, True, False] -> True\n",
      "2021-12-25 10:07:19 INFO: STRING GENERATED-> son ejemplo_vacio [0, False, '', False, '', None, '', False, 0, 0, 0, False, '', None, None, '', '', 0, '', ''] -> False\n",
      "2021-12-25 10:07:19 INFO: STRING GENERATED-> son ejemplo_vacio_espacio_false ['', None, '', '', '', None, '', 0, None, None, 0, 0, ' ', ' ', None, 0, None, False, None, ''] -> True\n",
      "2021-12-25 10:07:19 INFO: STRING GENERATED-> son ejemplo_mixto [' ', '-', '-', None, None, '-', None, None, '', '-', '', ' ', '', ' ', ' ', '-', '-', '', None, ''] -> True\n"
     ]
    }
   ],
   "source": [
    "logging.info(f'son ejemplo_numerico {ejemplo_numerico} -> {any(ejemplo_numerico)}')\n",
    "logging.info(f'son ejemplo_cast_numero {ejemplo_cast_numero} -> {any(ejemplo_cast_numero)}')\n",
    "logging.info(f'son ejemplo_bool {ejemplo_bool} -> {any(ejemplo_bool)}')\n",
    "logging.info(f'son ejemplo_bool_2 {ejemplo_bool_2} -> {any(ejemplo_bool_2)}')\n",
    "logging.info(f'son ejemplo_vacio {ejemplo_vacio} -> {any(ejemplo_vacio)}')\n",
    "logging.info(f'son ejemplo_vacio_espacio_false {ejemplo_vacio_espacio_false} -> {any(ejemplo_vacio_espacio_false)}')\n",
    "logging.info(f'son ejemplo_mixto {ejemplo_mixto} -> {any(ejemplo_mixto)}')"
   ]
  },
  {
   "cell_type": "markdown",
   "metadata": {},
   "source": [
    "# <center> Generadores de Cadenas Aleatorias </center>"
   ]
  },
  {
   "cell_type": "code",
   "execution_count": 7,
   "metadata": {},
   "outputs": [],
   "source": [
    "import string\n",
    "import uuid\n",
    "import textwrap\n",
    "\n",
    "def generate_characters(size:int = 25) -> str:\n",
    "    \n",
    "    return ''.join([random.choice(string.ascii_letters) for x in range(size)])\n",
    "\n",
    "def generate_numbers(size:int = 25) -> str:\n",
    "    \n",
    "    return ''.join([random.choice(string.digits) for x in range(size)])\n",
    "\n",
    "def generate_characters_and_numbers(size:int = 50) -> str:\n",
    "    \n",
    "    return ''.join([random.SystemRandom().choice(string.ascii_letters + string.digits) for x in range(size)])\n",
    "\n",
    "def generate_uuid(size:int = 1) -> str :\n",
    "    \n",
    "    return str(uuid.uuid4())\n",
    "\n",
    "def generate_unique_values(size:int = 75) -> str:\n",
    "    \n",
    "    characteres = string.digits + string.ascii_letters + string.punctuation\n",
    "\n",
    "    return ''.join(random.sample(characteres, size))\n",
    "\n",
    "\n",
    "#decorador\n",
    "def split_string(funcion_entrada)-> str:\n",
    "    \n",
    "    parts_to_divide  = 5\n",
    "    \n",
    "    def split_word(*args, **kwargs):\n",
    "        \n",
    "        return ' '.join(textwrap.wrap(funcion_entrada(*args, **kwargs), parts_to_divide))      \n",
    "        \n",
    "    return split_word\n",
    "\n",
    "funciones = [generate_characters, generate_numbers, generate_characters_and_numbers, generate_uuid, generate_unique_values]\n",
    "\n",
    "@split_string\n",
    "def get_random_function() -> str:\n",
    "    \n",
    "    return funciones[random.randint(0, len(funciones) -1)]()"
   ]
  },
  {
   "cell_type": "markdown",
   "metadata": {},
   "source": [
    "# <center> Título, Mayúsculas, Minúsculas, Primera letra en Mayúscula, Invertir Mayúsculas y Minúsculas  </center>"
   ]
  },
  {
   "cell_type": "code",
   "execution_count": 8,
   "metadata": {},
   "outputs": [
    {
     "name": "stderr",
     "output_type": "stream",
     "text": [
      "2021-12-25 10:08:01 INFO: STRING GENERATED-> spnVf Xslhv jwHMU aYJJd yGton\n"
     ]
    }
   ],
   "source": [
    "palabra = get_random_function()\n",
    "logging.info(palabra)"
   ]
  },
  {
   "cell_type": "code",
   "execution_count": 9,
   "metadata": {},
   "outputs": [
    {
     "data": {
      "text/plain": [
       "'Spnvf Xslhv Jwhmu Ayjjd Ygton'"
      ]
     },
     "execution_count": 9,
     "metadata": {},
     "output_type": "execute_result"
    }
   ],
   "source": [
    "palabra.title()"
   ]
  },
  {
   "cell_type": "code",
   "execution_count": 10,
   "metadata": {},
   "outputs": [
    {
     "data": {
      "text/plain": [
       "'SPNVF XSLHV JWHMU AYJJD YGTON'"
      ]
     },
     "execution_count": 10,
     "metadata": {},
     "output_type": "execute_result"
    }
   ],
   "source": [
    "palabra.upper()"
   ]
  },
  {
   "cell_type": "code",
   "execution_count": 11,
   "metadata": {},
   "outputs": [
    {
     "data": {
      "text/plain": [
       "'spnvf xslhv jwhmu ayjjd ygton'"
      ]
     },
     "execution_count": 11,
     "metadata": {},
     "output_type": "execute_result"
    }
   ],
   "source": [
    "palabra.lower()"
   ]
  },
  {
   "cell_type": "code",
   "execution_count": 12,
   "metadata": {},
   "outputs": [
    {
     "data": {
      "text/plain": [
       "'Spnvf xslhv jwhmu ayjjd ygton'"
      ]
     },
     "execution_count": 12,
     "metadata": {},
     "output_type": "execute_result"
    }
   ],
   "source": [
    "palabra.capitalize()"
   ]
  },
  {
   "cell_type": "code",
   "execution_count": 13,
   "metadata": {},
   "outputs": [
    {
     "data": {
      "text/plain": [
       "'SPNvF xSLHV JWhmu AyjjD YgTON'"
      ]
     },
     "execution_count": 13,
     "metadata": {},
     "output_type": "execute_result"
    }
   ],
   "source": [
    "palabra.swapcase()"
   ]
  },
  {
   "cell_type": "markdown",
   "metadata": {},
   "source": [
    "# <center> Eliminar espacios en blanco o caracteres, a la Derecha a la Izquierda, Todos </center>"
   ]
  },
  {
   "cell_type": "code",
   "execution_count": 14,
   "metadata": {},
   "outputs": [
    {
     "name": "stderr",
     "output_type": "stream",
     "text": [
      "2021-12-25 10:08:57 INFO: STRING GENERATED->    LG0qm clQ4W sKIrB vgxjx d16hJ Efj7y ik9IA R38cf ElcBK PZV4u   \n"
     ]
    }
   ],
   "source": [
    "palabra =   '   ' + get_random_function() +  '   '\n",
    "logging.info(palabra)"
   ]
  },
  {
   "cell_type": "code",
   "execution_count": 15,
   "metadata": {},
   "outputs": [
    {
     "data": {
      "text/plain": [
       "'LG0qm clQ4W sKIrB vgxjx d16hJ Efj7y ik9IA R38cf ElcBK PZV4u   '"
      ]
     },
     "execution_count": 15,
     "metadata": {},
     "output_type": "execute_result"
    }
   ],
   "source": [
    "# remueve el prejijo a la cadena \n",
    "v = palabra.lstrip()\n",
    "v"
   ]
  },
  {
   "cell_type": "code",
   "execution_count": 16,
   "metadata": {},
   "outputs": [
    {
     "data": {
      "text/plain": [
       "'clQ4W sKIrB vgxjx d16hJ Efj7y ik9IA R38cf ElcBK PZV4u   '"
      ]
     },
     "execution_count": 16,
     "metadata": {},
     "output_type": "execute_result"
    }
   ],
   "source": [
    "v.removeprefix(v[0:6])"
   ]
  },
  {
   "cell_type": "code",
   "execution_count": 17,
   "metadata": {},
   "outputs": [
    {
     "data": {
      "text/plain": [
       "'clQ4W sKIrB vgxjx d16hJ Efj7y ik9IA R38cf ElcBK PZV4u   '"
      ]
     },
     "execution_count": 17,
     "metadata": {},
     "output_type": "execute_result"
    }
   ],
   "source": [
    "v.lstrip(v[0:6])"
   ]
  },
  {
   "cell_type": "code",
   "execution_count": 18,
   "metadata": {},
   "outputs": [
    {
     "data": {
      "text/plain": [
       "'   LG0qm clQ4W sKIrB vgxjx d16hJ Efj7y ik9IA R38cf ElcBK PZV4u'"
      ]
     },
     "execution_count": 18,
     "metadata": {},
     "output_type": "execute_result"
    }
   ],
   "source": [
    "# remueve el sufijo a la cadena \n",
    "u = palabra.rstrip()\n",
    "u"
   ]
  },
  {
   "cell_type": "code",
   "execution_count": 19,
   "metadata": {},
   "outputs": [
    {
     "data": {
      "text/plain": [
       "'   LG0qm clQ4W sKIrB vgxjx d16hJ Efj7y ik9IA R38cf ElcBK'"
      ]
     },
     "execution_count": 19,
     "metadata": {},
     "output_type": "execute_result"
    }
   ],
   "source": [
    "u.removesuffix(u[-6:])"
   ]
  },
  {
   "cell_type": "code",
   "execution_count": 20,
   "metadata": {},
   "outputs": [
    {
     "data": {
      "text/plain": [
       "'LG0qm clQ4W sKIrB vgxjx d16hJ Efj7y ik9IA R38cf ElcBK PZV4u'"
      ]
     },
     "execution_count": 20,
     "metadata": {},
     "output_type": "execute_result"
    }
   ],
   "source": [
    "# remueve el prejijo y sufijo a la cadena \n",
    "w = palabra.strip()\n",
    "w"
   ]
  },
  {
   "cell_type": "markdown",
   "metadata": {},
   "source": [
    "# <center> Reemplazo en cadenas </center>"
   ]
  },
  {
   "cell_type": "code",
   "execution_count": 21,
   "metadata": {},
   "outputs": [
    {
     "name": "stderr",
     "output_type": "stream",
     "text": [
      "2021-12-25 10:10:09 INFO: STRING GENERATED->    36414 44413 71113 65548 79568   \n"
     ]
    }
   ],
   "source": [
    "palabra =   '   ' + get_random_function() +  '   '\n",
    "logging.info(palabra)"
   ]
  },
  {
   "cell_type": "code",
   "execution_count": 22,
   "metadata": {},
   "outputs": [
    {
     "name": "stderr",
     "output_type": "stream",
     "text": [
      "2021-12-25 10:10:22 INFO: STRING GENERATED-> @@@36414@44413@71113@65548@79568@@@\n",
      "2021-12-25 10:10:22 INFO: STRING GENERATED-> 36414@44413@71113@65548@79568\n"
     ]
    }
   ],
   "source": [
    "x = palabra.replace(' ', '@')\n",
    "logging.info(x)\n",
    "\n",
    "y  = x.strip('@')\n",
    "logging.info(y)"
   ]
  },
  {
   "cell_type": "code",
   "execution_count": 23,
   "metadata": {},
   "outputs": [
    {
     "data": {
      "text/plain": [
       "'jorgecardona'"
      ]
     },
     "execution_count": 23,
     "metadata": {},
     "output_type": "execute_result"
    }
   ],
   "source": [
    "gh = '        hhhhhttp      s://www.jorgecardona.comwhttps'.strip(' t.m:p/hwswoc')\n",
    "gh"
   ]
  },
  {
   "cell_type": "code",
   "execution_count": 24,
   "metadata": {},
   "outputs": [
    {
     "data": {
      "text/plain": [
       "'jorgecardona'"
      ]
     },
     "execution_count": 24,
     "metadata": {},
     "output_type": "execute_result"
    }
   ],
   "source": [
    "gh = 'https://github.com/jorgecardona'.strip('itb/.ghths:pucmo')\n",
    "gh"
   ]
  },
  {
   "cell_type": "code",
   "execution_count": 25,
   "metadata": {
    "scrolled": true
   },
   "outputs": [
    {
     "name": "stderr",
     "output_type": "stream",
     "text": [
      "2021-12-25 10:11:17 INFO: STRING GENERATED-> la cadena reemplazada es 172416J3WZFBA  -> qxpJcWZFBA\n"
     ]
    },
    {
     "name": "stdout",
     "output_type": "stream",
     "text": [
      "{'a': '1', 'b': '2', 'c': '3', 'd': '4', 'e': '5', 'f': '6', 'g': '7', 'h': '8', 'i': '9', 'j': '10', 'k': '11', 'l': '12', 'm': '13', 'n': '14', 'o': '15', 'p': '16', 'q': '17', 'r': '18', 's': '19', 't': '20', 'u': '21', 'v': '22', 'w': '23', 'x': '24', 'y': '25', 'z': '26'}\n"
     ]
    }
   ],
   "source": [
    "palabra = generate_characters(10)\n",
    "dic = {str(j):str(i+1) for i, j in enumerate(list(string.ascii_lowercase))}\n",
    "tabla = palabra.maketrans(dic)\n",
    "\n",
    "logging.info(f'la cadena reemplazada es {palabra.translate(tabla)}  -> {palabra}')\n",
    "print(dic)"
   ]
  },
  {
   "cell_type": "code",
   "execution_count": 26,
   "metadata": {
    "scrolled": true
   },
   "outputs": [
    {
     "name": "stderr",
     "output_type": "stream",
     "text": [
      "2021-12-25 10:12:51 INFO: STRING GENERATED-> la cadena reemplazada es BwVmCdC@M*  -> BwVmCdCaME\n"
     ]
    }
   ],
   "source": [
    "palabra = generate_characters(10)\n",
    "base      = 'aeiouAEIOU'\n",
    "reemplazo = '@#$%^&*()!'\n",
    "tabla = palabra.maketrans(base,reemplazo)\n",
    "\n",
    "logging.info(f'la cadena reemplazada es {palabra.translate(tabla)}  -> {palabra}')"
   ]
  },
  {
   "cell_type": "code",
   "execution_count": 27,
   "metadata": {},
   "outputs": [
    {
     "name": "stderr",
     "output_type": "stream",
     "text": [
      "2021-12-25 10:13:32 INFO: STRING GENERATED-> la cadena reemplazada es @Ks#@V)p  -> aKGseaCVOp\n"
     ]
    }
   ],
   "source": [
    "palabra = generate_characters(10)\n",
    "base      = 'aeiouAEIOU'\n",
    "reemplazo = '@#$%^&*()!'\n",
    "borrar = 'BCDFGHjklmn'\n",
    "tabla = palabra.maketrans(base,reemplazo,borrar)\n",
    "\n",
    "logging.info(f'la cadena reemplazada es {palabra.translate(tabla)}  -> {palabra}')"
   ]
  },
  {
   "cell_type": "code",
   "execution_count": 28,
   "metadata": {},
   "outputs": [
    {
     "name": "stderr",
     "output_type": "stream",
     "text": [
      "2021-12-25 10:17:22 INFO: STRING GENERATED-> la cadena reemplazada es alyaxuohilu  -> RGalQyOaxSTuYoVZhHPPXiNlu\n"
     ]
    }
   ],
   "source": [
    "palabra = generate_characters()\n",
    "borrar = string.ascii_uppercase\n",
    "tabla = palabra.maketrans('','',borrar)\n",
    "\n",
    "logging.info(f'la cadena reemplazada es {palabra.translate(tabla)}  -> {palabra}')"
   ]
  },
  {
   "cell_type": "markdown",
   "metadata": {},
   "source": [
    "# <center> Alinear texto, a la Derecha a la Izquierda, al centro, Completa con otros caracteres</center>"
   ]
  },
  {
   "cell_type": "code",
   "execution_count": 29,
   "metadata": {},
   "outputs": [
    {
     "name": "stderr",
     "output_type": "stream",
     "text": [
      "2021-12-25 10:17:33 INFO: STRING GENERATED-> 42682 33840 81167 48664 89457\n"
     ]
    }
   ],
   "source": [
    "palabra =  get_random_function()\n",
    "logging.info(palabra)"
   ]
  },
  {
   "cell_type": "code",
   "execution_count": 30,
   "metadata": {},
   "outputs": [
    {
     "name": "stderr",
     "output_type": "stream",
     "text": [
      "2021-12-25 10:17:54 INFO: STRING GENERATED-> la cadena alineada 42682 33840 81167 48664 89457 es ->        42682 33840 81167 48664 89457 \n"
     ]
    }
   ],
   "source": [
    "logging.info(f'la cadena alineada {palabra} es -> {palabra.rjust(len(palabra) + 7)} ')"
   ]
  },
  {
   "cell_type": "code",
   "execution_count": 31,
   "metadata": {},
   "outputs": [
    {
     "name": "stderr",
     "output_type": "stream",
     "text": [
      "2021-12-25 10:18:02 INFO: STRING GENERATED-> la cadena alineada 42682 33840 81167 48664 89457 es -> ~~~~~~~42682 33840 81167 48664 89457\n"
     ]
    }
   ],
   "source": [
    "logging.info(f'la cadena alineada {palabra} es -> {palabra.rjust(len(palabra) + 7,\"~\")}')"
   ]
  },
  {
   "cell_type": "code",
   "execution_count": 32,
   "metadata": {},
   "outputs": [
    {
     "name": "stderr",
     "output_type": "stream",
     "text": [
      "2021-12-25 10:18:07 INFO: STRING GENERATED-> la cadena alineada 42682 33840 81167 48664 89457 es -> 42682 33840 81167 48664 89457~~~~~~~\n"
     ]
    }
   ],
   "source": [
    "logging.info(f'la cadena alineada {palabra} es -> {palabra.ljust(len(palabra) + 7,\"~\")}')"
   ]
  },
  {
   "cell_type": "code",
   "execution_count": 33,
   "metadata": {},
   "outputs": [
    {
     "name": "stderr",
     "output_type": "stream",
     "text": [
      "2021-12-25 10:18:15 INFO: STRING GENERATED-> la cadena alineada 42682 33840 81167 48664 89457 es ->    42682 33840 81167 48664 89457    \n"
     ]
    }
   ],
   "source": [
    "logging.info(f'la cadena alineada {palabra} es -> {palabra.center(len(palabra) + 7)}')"
   ]
  },
  {
   "cell_type": "code",
   "execution_count": 34,
   "metadata": {},
   "outputs": [
    {
     "name": "stderr",
     "output_type": "stream",
     "text": [
      "2021-12-25 10:18:26 INFO: STRING GENERATED-> la cadena alineada 42682 33840 81167 48664 89457 es -> <<<42682 33840 81167 48664 89457<<<<\n"
     ]
    }
   ],
   "source": [
    "logging.info(f'la cadena alineada {palabra} es -> {palabra.center(len(palabra) + 7,\"<\")}')"
   ]
  },
  {
   "cell_type": "code",
   "execution_count": 35,
   "metadata": {},
   "outputs": [
    {
     "name": "stderr",
     "output_type": "stream",
     "text": [
      "2021-12-25 10:18:34 INFO: STRING GENERATED-> la cadena alineada 42682 33840 81167 48664 89457 es -> 000000042682 33840 81167 48664 89457\n"
     ]
    }
   ],
   "source": [
    "logging.info(f'la cadena alineada {palabra} es -> {palabra.zfill(len(palabra) + 7)}')"
   ]
  },
  {
   "cell_type": "markdown",
   "metadata": {},
   "source": [
    "# <center> Slicing invertir Cadena, Extraer Cadena </center>"
   ]
  },
  {
   "cell_type": "code",
   "execution_count": 36,
   "metadata": {},
   "outputs": [],
   "source": [
    "palabra = generate_characters(30)"
   ]
  },
  {
   "cell_type": "code",
   "execution_count": 37,
   "metadata": {},
   "outputs": [
    {
     "name": "stderr",
     "output_type": "stream",
     "text": [
      "2021-12-25 10:19:04 INFO: STRING GENERATED-> la cadena invertida UuLgMzyMzwihITCJTrWfmqaaMRNTZy es -> yZTNRMaaqmfWrTJCTIhiwzMyzMgLuU\n"
     ]
    }
   ],
   "source": [
    "logging.info(f'la cadena invertida {palabra} es -> {palabra[::-1]}')"
   ]
  },
  {
   "cell_type": "code",
   "execution_count": 38,
   "metadata": {},
   "outputs": [
    {
     "name": "stderr",
     "output_type": "stream",
     "text": [
      "2021-12-25 10:19:18 INFO: STRING GENERATED-> la cadena recortada UuLgMzyMzwihITCJTrWfmqaaMRNTZy es -> UuLgMzy\n"
     ]
    }
   ],
   "source": [
    "logging.info(f'la cadena recortada {palabra} es -> {palabra[0:7]}')"
   ]
  },
  {
   "cell_type": "code",
   "execution_count": 39,
   "metadata": {},
   "outputs": [
    {
     "name": "stderr",
     "output_type": "stream",
     "text": [
      "2021-12-25 10:19:39 INFO: STRING GENERATED-> la cadena solo de caracteres impares UuLgMzyMzwihITCJTrWfmqaaMRNTZy es -> ULMyziICTWmaMNZ\n"
     ]
    }
   ],
   "source": [
    "logging.info(f'la cadena solo de caracteres impares {palabra} es -> {palabra[::2]}')"
   ]
  },
  {
   "cell_type": "code",
   "execution_count": 40,
   "metadata": {},
   "outputs": [
    {
     "name": "stderr",
     "output_type": "stream",
     "text": [
      "2021-12-25 10:19:48 INFO: STRING GENERATED-> la cadena solo de caracteres impares inverso UuLgMzyMzwihITCJTrWfmqaaMRNTZy es -> yTRaqfrJThwMzgu\n"
     ]
    }
   ],
   "source": [
    "logging.info(f'la cadena solo de caracteres impares inverso {palabra} es -> {palabra[::-2]}')"
   ]
  },
  {
   "cell_type": "code",
   "execution_count": 41,
   "metadata": {},
   "outputs": [
    {
     "name": "stderr",
     "output_type": "stream",
     "text": [
      "2021-12-25 10:20:12 INFO: STRING GENERATED-> la cadena solo de caracteres pares UuLgMzyMzwihITCJTrWfmqaaMRNTZy es -> ugzMwhTJrfqaRTy\n"
     ]
    }
   ],
   "source": [
    "logging.info(f'la cadena solo de caracteres pares {palabra} es -> {palabra[1::2]}')"
   ]
  },
  {
   "cell_type": "code",
   "execution_count": 42,
   "metadata": {},
   "outputs": [
    {
     "name": "stderr",
     "output_type": "stream",
     "text": [
      "2021-12-25 10:20:20 INFO: STRING GENERATED-> la cadena solo de caracteres pares inverso UuLgMzyMzwihITCJTrWfmqaaMRNTZy es -> yTRaqfrJThwMzgu\n"
     ]
    }
   ],
   "source": [
    "logging.info(f'la cadena solo de caracteres pares inverso {palabra} es -> {palabra[-1::-2]}')"
   ]
  },
  {
   "cell_type": "code",
   "execution_count": 43,
   "metadata": {},
   "outputs": [
    {
     "name": "stderr",
     "output_type": "stream",
     "text": [
      "2021-12-25 10:20:37 INFO: STRING GENERATED-> la cadena solo de caracteres impares UuLgMzyMzwihITCJTrWfmqaaMRNTZy es -> iIC\n"
     ]
    }
   ],
   "source": [
    "logging.info(f'la cadena solo de caracteres impares {palabra} es -> {palabra[10:len(palabra)//2:2]}')"
   ]
  },
  {
   "cell_type": "markdown",
   "metadata": {},
   "source": [
    "# <center> Slicing Sobre Listas </center>"
   ]
  },
  {
   "cell_type": "code",
   "execution_count": 44,
   "metadata": {},
   "outputs": [
    {
     "ename": "TypeError",
     "evalue": "'str' object does not support item assignment",
     "output_type": "error",
     "traceback": [
      "\u001b[1;31m---------------------------------------------------------------------------\u001b[0m",
      "\u001b[1;31mTypeError\u001b[0m                                 Traceback (most recent call last)",
      "\u001b[1;32m~\\AppData\\Local\\Temp/ipykernel_6096/1401569991.py\u001b[0m in \u001b[0;36m<module>\u001b[1;34m\u001b[0m\n\u001b[0;32m      1\u001b[0m \u001b[0mpalabra\u001b[0m \u001b[1;33m=\u001b[0m \u001b[0mgenerate_characters\u001b[0m\u001b[1;33m(\u001b[0m\u001b[1;36m7\u001b[0m\u001b[1;33m)\u001b[0m\u001b[1;33m\u001b[0m\u001b[1;33m\u001b[0m\u001b[0m\n\u001b[1;32m----> 2\u001b[1;33m \u001b[0mpalabra\u001b[0m\u001b[1;33m[\u001b[0m\u001b[1;36m0\u001b[0m\u001b[1;33m:\u001b[0m\u001b[1;36m1\u001b[0m\u001b[1;33m]\u001b[0m \u001b[1;33m=\u001b[0m \u001b[1;36m31\u001b[0m\u001b[1;33m\u001b[0m\u001b[1;33m\u001b[0m\u001b[0m\n\u001b[0m\u001b[0;32m      3\u001b[0m \u001b[0mpalabra\u001b[0m\u001b[1;33m\u001b[0m\u001b[1;33m\u001b[0m\u001b[0m\n",
      "\u001b[1;31mTypeError\u001b[0m: 'str' object does not support item assignment"
     ]
    }
   ],
   "source": [
    "palabra = generate_characters(7)\n",
    "palabra[0:1] = 31\n",
    "palabra"
   ]
  },
  {
   "cell_type": "code",
   "execution_count": 45,
   "metadata": {},
   "outputs": [
    {
     "name": "stderr",
     "output_type": "stream",
     "text": [
      "2021-12-25 10:21:00 INFO: STRING GENERATED-> la cadena en lista XrYEHVA es -> ['X', 'r', 'Y', 'E', 'H', 'V', 'A']\n",
      "2021-12-25 10:21:00 INFO: STRING GENERATED-> la cadena inversa en lista XrYEHVA es -> ['A', 'V', 'H', 'E', 'Y', 'r', 'X']\n",
      "2021-12-25 10:21:00 INFO: STRING GENERATED-> la lista en cadena ['X', 'r', 'Y', 'E', 'H', 'V', 'A'] es -> XrYEHVA\n"
     ]
    }
   ],
   "source": [
    "palabra = generate_characters(7)\n",
    "lista = list(palabra)\n",
    "logging.info(f'la cadena en lista {palabra} es -> {lista}')\n",
    "logging.info(f'la cadena inversa en lista {palabra} es -> {lista[::-1]}')\n",
    "logging.info(f'la lista en cadena {lista} es -> {\"\".join(lista)}')"
   ]
  },
  {
   "cell_type": "code",
   "execution_count": 46,
   "metadata": {},
   "outputs": [
    {
     "name": "stderr",
     "output_type": "stream",
     "text": [
      "2021-12-25 10:21:54 INFO: STRING GENERATED-> la cadena en lista reemplazando un indice KBcCbzv --- ['K', 'B', 'c', 'C', 'b', 'z', 'v'] es -> ['K', 9, 8, 7, 'B', 'c', 'C', 'b', 'z', 'v']\n"
     ]
    }
   ],
   "source": [
    "palabra = generate_characters(7)\n",
    "lista = list(palabra)\n",
    "#Replace and Resize part of the list\n",
    "lista[1:1] = [9,8,7]\n",
    "\n",
    "logging.info(f'la cadena en lista reemplazando un indice {palabra} --- {list(palabra)} es -> {lista}')"
   ]
  },
  {
   "cell_type": "code",
   "execution_count": 47,
   "metadata": {},
   "outputs": [
    {
     "name": "stderr",
     "output_type": "stream",
     "text": [
      "2021-12-25 10:22:23 INFO: STRING GENERATED-> la cadena en lista reemplazando un indice uApTW --- ['u', 'A', 'p', 'T', 'W'] es -> ['u', 'A', 'p', 98, 'W']\n"
     ]
    }
   ],
   "source": [
    "palabra = generate_characters(5)\n",
    "lista = list(palabra)\n",
    "lista[3:4] = [98]\n",
    "logging.info(f'la cadena en lista reemplazando un indice {palabra} --- {list(palabra)} es -> {lista}')"
   ]
  },
  {
   "cell_type": "code",
   "execution_count": 48,
   "metadata": {},
   "outputs": [
    {
     "name": "stderr",
     "output_type": "stream",
     "text": [
      "2021-12-25 10:22:50 INFO: STRING GENERATED-> la cadena en lista reemplazando en varios indices dhBPEXx --- ['d', 'h', 'B', 'P', 'E', 'X', 'x'] es -> [1, 2, 3, 4, 5, 6, 7, 'E', 'X', 'x']\n"
     ]
    }
   ],
   "source": [
    "#Replace and Resize part of the list\n",
    "palabra = generate_characters(7)\n",
    "lista = list(palabra)\n",
    "lista[:4] = [1,2,3,4,5,6,7]\n",
    "\n",
    "logging.info(f'la cadena en lista reemplazando en varios indices {palabra} --- {list(palabra)} es -> {lista}')"
   ]
  },
  {
   "cell_type": "code",
   "execution_count": 49,
   "metadata": {},
   "outputs": [
    {
     "name": "stderr",
     "output_type": "stream",
     "text": [
      "2021-12-25 10:23:26 INFO: STRING GENERATED-> la cadena en lista reemplazando en varios indices exVfuAD --- ['e', 'x', 'V', 'f', 'u', 'A', 'D'] es -> ['e', 'x', 'V', 'f', 97]\n"
     ]
    }
   ],
   "source": [
    "# Substitute part of a list\n",
    "palabra = generate_characters(7)\n",
    "lista = list(palabra)\n",
    "lista[4:7] = [97]\n",
    "logging.info(f'la cadena en lista reemplazando en varios indices {palabra} --- {list(palabra)} es -> {lista}')"
   ]
  },
  {
   "cell_type": "code",
   "execution_count": 51,
   "metadata": {},
   "outputs": [
    {
     "name": "stderr",
     "output_type": "stream",
     "text": [
      "2021-12-25 10:24:39 INFO: STRING GENERATED-> la cadena en lista reemplazando en varios indices vyhOFLl --- ['v', 'y', 'h', 'O', 'F', 'L', 'l'] es -> ['v', 'y', 9, 8, 7]\n"
     ]
    }
   ],
   "source": [
    "# Substitute part of a list\n",
    "palabra = generate_characters(7)\n",
    "lista = list(palabra)\n",
    "lista[2::] = [9,8,7]\n",
    "logging.info(f'la cadena en lista reemplazando en varios indices {palabra} --- {list(palabra)} es -> {lista}')"
   ]
  },
  {
   "cell_type": "code",
   "execution_count": 52,
   "metadata": {},
   "outputs": [
    {
     "name": "stderr",
     "output_type": "stream",
     "text": [
      "2021-12-25 10:24:40 INFO: STRING GENERATED-> la cadena en lista reemplazando en indices impares WLhjspvLVx --- ['W', 'L', 'h', 'j', 's', 'p', 'v', 'L', 'V', 'x'] es -> [1, 'L', 2, 'j', 3, 'p', 4, 'L', 5, 'x']\n"
     ]
    }
   ],
   "source": [
    "#Replace Every n-th Element\n",
    "palabra = generate_characters(10)\n",
    "lista = list(palabra)\n",
    "lista[::2] = [1,2,3,4,5]\n",
    "logging.info(f'la cadena en lista reemplazando en indices impares {palabra} --- {list(palabra)} es -> {lista}')"
   ]
  },
  {
   "cell_type": "code",
   "execution_count": 54,
   "metadata": {},
   "outputs": [
    {
     "name": "stderr",
     "output_type": "stream",
     "text": [
      "2021-12-25 10:27:39 INFO: STRING GENERATED-> la cadena en lista reemplazando en indices pares [90, 80, 70, 60, 50, 40, 30, 20, 10, 0]  es -> [0, 20, 40, 60]\n"
     ]
    }
   ],
   "source": [
    "numeros = [i*10 for i in reversed(range(10))]\n",
    "lista = list(numeros)\n",
    "\n",
    "logging.info(f'la cadena en lista reemplazando en indices pares {numeros}  es -> {lista[:1:-2]}')"
   ]
  },
  {
   "cell_type": "code",
   "execution_count": 55,
   "metadata": {},
   "outputs": [
    {
     "name": "stderr",
     "output_type": "stream",
     "text": [
      "2021-12-25 10:27:53 INFO: STRING GENERATED-> la cadena en lista reemplazando en indices entre el 1 y el 7 KyacsVF --- ['K', 'y', 'a', 'c', 's', 'V', 'F'] es -> ['K', 2, 'a', 4, 's', 8, 'F']\n"
     ]
    }
   ],
   "source": [
    "#Replace in specific index\n",
    "numeros = generate_characters(7)\n",
    "lista = list(numeros)\n",
    "\n",
    "lista[1:7:2] = [2, 4, 8]\n",
    "logging.info(f'la cadena en lista reemplazando en indices entre el 1 y el 7 {numeros} --- {list(numeros)} es -> {lista}')"
   ]
  },
  {
   "cell_type": "code",
   "execution_count": 57,
   "metadata": {},
   "outputs": [
    {
     "name": "stderr",
     "output_type": "stream",
     "text": [
      "2021-12-25 10:29:18 INFO: STRING GENERATED-> la cadena con eliminados lOjNcHi ------ ['l', 'O', 'j', 'N', 'c', 'H', 'i'] es -> ['l', 'O', 'j']\n"
     ]
    }
   ],
   "source": [
    "# Slice Deletion\n",
    "numeros = generate_characters(7)\n",
    "lista = list(numeros)\n",
    "\n",
    "del lista[3:7]\n",
    "logging.info(f'la cadena con eliminados {numeros} ------ {list(numeros)} es -> {lista}')"
   ]
  },
  {
   "cell_type": "code",
   "execution_count": 58,
   "metadata": {},
   "outputs": [
    {
     "name": "stderr",
     "output_type": "stream",
     "text": [
      "2021-12-25 10:29:27 INFO: STRING GENERATED-> la cadena con eliminados vuktExA ------ ['v', 'u', 'k', 't', 'E', 'x', 'A'] es -> ['t', 'E', 'x', 'A']\n"
     ]
    }
   ],
   "source": [
    "numeros = generate_characters(7)\n",
    "lista = list(numeros)\n",
    "lista[0:3] = []\n",
    "\n",
    "logging.info(f'la cadena con eliminados {numeros} ------ {list(numeros)} es -> {lista}')"
   ]
  },
  {
   "cell_type": "markdown",
   "metadata": {},
   "source": [
    "# <center> Valída si es : Letras, Minúsculas, Mayúsculas Letras y Números, Espacios en blanco</center>"
   ]
  },
  {
   "cell_type": "code",
   "execution_count": 59,
   "metadata": {},
   "outputs": [
    {
     "name": "stderr",
     "output_type": "stream",
     "text": [
      "2021-12-25 10:29:35 INFO: STRING GENERATED-> son Letras -> XLkVbVguokwNpftImLcKfEnDM ->  True\n",
      "2021-12-25 10:29:35 INFO: STRING GENERATED-> son Letras y numeros -> XLkVbVguokwNpftImLcKfEnDM ->  True\n"
     ]
    }
   ],
   "source": [
    "letras = generate_characters()\n",
    "logging.info(f'son Letras -> {letras} ->  {letras.isalpha()}')\n",
    "logging.info(f'son Letras y numeros -> {letras} ->  {letras.isalnum()}')"
   ]
  },
  {
   "cell_type": "code",
   "execution_count": 60,
   "metadata": {},
   "outputs": [
    {
     "name": "stderr",
     "output_type": "stream",
     "text": [
      "2021-12-25 10:29:51 INFO: STRING GENERATED-> son Letras -> eANHr11TEKMNnyZnFChHFMHDCmnE8PCDO1DyP85Sn4CG8hXUQz ->  False\n",
      "2021-12-25 10:29:51 INFO: STRING GENERATED-> son Letras y numeros -> eANHr11TEKMNnyZnFChHFMHDCmnE8PCDO1DyP85Sn4CG8hXUQz ->  True\n"
     ]
    }
   ],
   "source": [
    "numeros_y_letras = generate_characters_and_numbers()\n",
    "logging.info(f'son Letras -> {numeros_y_letras} ->  {numeros_y_letras.isalpha()}')\n",
    "logging.info(f'son Letras y numeros -> {numeros_y_letras} ->  {numeros_y_letras.isalnum()}')"
   ]
  },
  {
   "cell_type": "code",
   "execution_count": 61,
   "metadata": {},
   "outputs": [
    {
     "name": "stderr",
     "output_type": "stream",
     "text": [
      "2021-12-25 10:29:59 INFO: STRING GENERATED-> son Mayúsculas -> XLkVbVguokwNpftImLcKfEnDM ->  False\n",
      "2021-12-25 10:29:59 INFO: STRING GENERATED-> son Mayúsculas -> eANHr11TEKMNnyZnFChHFMHDCmnE8PCDO1DyP85Sn4CG8hXUQz ->  False\n"
     ]
    }
   ],
   "source": [
    "logging.info(f'son Mayúsculas -> {letras} ->  {numeros_y_letras.isupper()}')\n",
    "logging.info(f'son Mayúsculas -> {numeros_y_letras} ->  {numeros_y_letras.isupper()}')"
   ]
  },
  {
   "cell_type": "code",
   "execution_count": 62,
   "metadata": {},
   "outputs": [
    {
     "name": "stderr",
     "output_type": "stream",
     "text": [
      "2021-12-25 10:30:03 INFO: STRING GENERATED-> son Minúsculas -> XLkVbVguokwNpftImLcKfEnDM ->  False\n",
      "2021-12-25 10:30:03 INFO: STRING GENERATED-> son Minúsculas -> eANHr11TEKMNnyZnFChHFMHDCmnE8PCDO1DyP85Sn4CG8hXUQz ->  False\n"
     ]
    }
   ],
   "source": [
    "logging.info(f'son Minúsculas -> {letras} ->  {numeros_y_letras.islower()}')\n",
    "logging.info(f'son Minúsculas -> {numeros_y_letras} ->  {numeros_y_letras.islower()}')"
   ]
  },
  {
   "cell_type": "code",
   "execution_count": 63,
   "metadata": {},
   "outputs": [
    {
     "name": "stderr",
     "output_type": "stream",
     "text": [
      "2021-12-25 10:30:10 INFO: STRING GENERATED-> son Títulos -> XLkVbVguokwNpftImLcKfEnDM ->  False\n",
      "2021-12-25 10:30:10 INFO: STRING GENERATED-> son Títulos -> eANHr11TEKMNnyZnFChHFMHDCmnE8PCDO1DyP85Sn4CG8hXUQz ->  False\n"
     ]
    }
   ],
   "source": [
    "logging.info(f'son Títulos -> {letras} ->  {numeros_y_letras.istitle()}')\n",
    "logging.info(f'son Títulos -> {numeros_y_letras} ->  {numeros_y_letras.istitle()}')"
   ]
  },
  {
   "cell_type": "code",
   "execution_count": 64,
   "metadata": {},
   "outputs": [
    {
     "name": "stderr",
     "output_type": "stream",
     "text": [
      "2021-12-25 10:30:16 INFO: STRING GENERATED-> son espacios en blanco ->             ->  True\n",
      "2021-12-25 10:30:16 INFO: STRING GENERATED-> son espacios en blanco -> XLkVbVguokwNpftImLcKfEnDM ->  False\n",
      "2021-12-25 10:30:16 INFO: STRING GENERATED-> son espacios en blanco -> eANHr11TEKMNnyZnFChHFMHDCmnE8PCDO1DyP85Sn4CG8hXUQz ->  False\n"
     ]
    }
   ],
   "source": [
    "espacios_en_blanco = '           '\n",
    "logging.info(f'son espacios en blanco -> {espacios_en_blanco} ->  {espacios_en_blanco.isspace()}')\n",
    "logging.info(f'son espacios en blanco -> {letras} ->  {numeros_y_letras.isspace()}')\n",
    "logging.info(f'son espacios en blanco -> {numeros_y_letras} ->  {numeros_y_letras.isspace()}')"
   ]
  },
  {
   "cell_type": "markdown",
   "metadata": {},
   "source": [
    "# <center> Valída si es : Números, Décimal, Binario, Octal, HexaDécimal, Exponencial </center>"
   ]
  },
  {
   "cell_type": "code",
   "execution_count": 65,
   "metadata": {},
   "outputs": [
    {
     "name": "stderr",
     "output_type": "stream",
     "text": [
      "2021-12-25 10:30:29 INFO: STRING GENERATED-> son Números decimales -> 3584115526341540424198109 ->  True\n",
      "2021-12-25 10:30:29 INFO: STRING GENERATED-> son Dígitos -> 3584115526341540424198109 -> True\n",
      "2021-12-25 10:30:29 INFO: STRING GENERATED-> son tipo Númericos -> 3584115526341540424198109 -> True\n"
     ]
    }
   ],
   "source": [
    "numeros = generate_numbers()\n",
    "\n",
    "logging.info(f'son Números decimales -> {numeros} ->  {numeros.isdecimal()}')\n",
    "logging.info(f'son Dígitos -> {numeros} -> {numeros.isdigit()}')\n",
    "logging.info(f'son tipo Númericos -> {numeros} -> {numeros.isnumeric()}')"
   ]
  },
  {
   "cell_type": "code",
   "execution_count": 66,
   "metadata": {},
   "outputs": [
    {
     "name": "stderr",
     "output_type": "stream",
     "text": [
      "2021-12-25 10:30:41 INFO: STRING GENERATED-> son Números flotantes -> 41324649783694.07 ->  False\n",
      "2021-12-25 10:30:41 INFO: STRING GENERATED-> son Dígitos -> 41324649783694.07 -> False\n",
      "2021-12-25 10:30:41 INFO: STRING GENERATED-> son  tipo Númericos -> 41324649783694.07 -> False\n"
     ]
    }
   ],
   "source": [
    "numeros_flotantes = str(int(generate_numbers()) / 192519503178.213)\n",
    "\n",
    "logging.info(f'son Números flotantes -> {numeros_flotantes} ->  {numeros_flotantes.isdecimal()}')\n",
    "logging.info(f'son Dígitos -> {numeros_flotantes} -> {numeros_flotantes.isdigit()}')\n",
    "logging.info(f'son  tipo Númericos -> {numeros_flotantes} -> {numeros_flotantes.isnumeric()}')"
   ]
  },
  {
   "cell_type": "code",
   "execution_count": 67,
   "metadata": {},
   "outputs": [
    {
     "name": "stderr",
     "output_type": "stream",
     "text": [
      "2021-12-25 10:31:32 INFO: STRING GENERATED-> son Números Binarios -> 0b1011110110111101110100101011000000110101011011100010010101011100000010011111011101 ->  True\n",
      "2021-12-25 10:31:32 INFO: STRING GENERATED-> son Números Binarios -> 1011110110111101110100101011000000110101011011100010010101011100000010011111011101 ->  True\n"
     ]
    }
   ],
   "source": [
    "binario = bin(int(numeros))\n",
    "validacion = all(b in ['0','1'] for b in binario[2:])\n",
    "logging.info(f'son Números Binarios -> {binario} ->  {validacion}')\n",
    "\n",
    "binario_format = format(int(numeros), \"b\")\n",
    "validacion_format = all(b in ['0','1'] for b in binario_format)\n",
    "logging.info(f'son Números Binarios -> {binario_format} ->  {validacion_format}')"
   ]
  },
  {
   "cell_type": "code",
   "execution_count": 68,
   "metadata": {},
   "outputs": [
    {
     "name": "stderr",
     "output_type": "stream",
     "text": [
      "2021-12-25 10:31:36 INFO: STRING GENERATED-> son Números Octal -> 0o1366756453006533422534023735 ->  True\n",
      "2021-12-25 10:31:36 INFO: STRING GENERATED-> son Números Octal -> 1366756453006533422534023735 -> True\n"
     ]
    }
   ],
   "source": [
    "octal = oct(int(numeros))\n",
    "validacion = all(o in [str(i) for i in range(8)] for o in octal[2:])\n",
    "logging.info(f'son Números Octal -> {octal} ->  {validacion}')\n",
    "\n",
    "octal_format = format(int(numeros), \"o\")\n",
    "validacion_octal = all(o in [str(i) for i in range(8)] for o in octal_format)\n",
    "logging.info(f'son Números Octal -> {octal_format} -> {validacion_octal}')"
   ]
  },
  {
   "cell_type": "code",
   "execution_count": 69,
   "metadata": {},
   "outputs": [
    {
     "name": "stderr",
     "output_type": "stream",
     "text": [
      "2021-12-25 10:31:40 INFO: STRING GENERATED-> son  tipo Hexadecimal -> 0x2f6f74ac0d5b8957027dd -> True\n",
      "2021-12-25 10:31:40 INFO: STRING GENERATED-> son  tipo Hexadecimal -> 2f6f74ac0d5b8957027dd -> True\n"
     ]
    }
   ],
   "source": [
    "hexadecimal = hex(int(numeros))\n",
    "validacion = all(x in string.hexdigits for x in hexadecimal[2:])\n",
    "logging.info(f'son  tipo Hexadecimal -> {hexadecimal} -> {validacion}')\n",
    "\n",
    "hexadecimal_format = format(int(numeros), \"x\")\n",
    "validacion_hexadecimal_format = all(x in string.hexdigits for x in hexadecimal_format)\n",
    "logging.info(f'son  tipo Hexadecimal -> {hexadecimal_format} -> {validacion_hexadecimal_format}')"
   ]
  },
  {
   "cell_type": "code",
   "execution_count": 70,
   "metadata": {},
   "outputs": [
    {
     "name": "stderr",
     "output_type": "stream",
     "text": [
      "2021-12-25 10:31:41 INFO: STRING GENERATED-> son  tipo Númericos -> 2.903134e+15 -> False\n"
     ]
    },
    {
     "data": {
      "text/plain": [
       "'2.903134e+15'"
      ]
     },
     "execution_count": 70,
     "metadata": {},
     "output_type": "execute_result"
    }
   ],
   "source": [
    "#exponencial = exp(int(numeros)//1234567890)\n",
    "exponencial_format = format(int(numeros)//1234567890, \"e\")\n",
    "\n",
    "logging.info(f'son  tipo Númericos -> {exponencial_format} -> {exponencial_format.isnumeric()}')\n",
    "exponencial_format"
   ]
  },
  {
   "cell_type": "code",
   "execution_count": 71,
   "metadata": {},
   "outputs": [
    {
     "data": {
      "text/plain": [
       "2903134000000000"
      ]
     },
     "execution_count": 71,
     "metadata": {},
     "output_type": "execute_result"
    }
   ],
   "source": [
    "int(float(exponencial_format))"
   ]
  },
  {
   "cell_type": "markdown",
   "metadata": {},
   "source": [
    "# <center> Dividir Cadenas</center>"
   ]
  },
  {
   "cell_type": "code",
   "execution_count": 72,
   "metadata": {},
   "outputs": [
    {
     "data": {
      "text/plain": [
       "'cUPgt#BQGz2#PuBrK#2MCPB#zkC6Z#075B2#r1ojr#2Tyzo#yST6d#dSfPUcUPgt#BQGz2#PuBrK#2MCPB#zkC6Z#075B2#r1ojr#2Tyzo#yST6d#dSfPU'"
      ]
     },
     "execution_count": 72,
     "metadata": {},
     "output_type": "execute_result"
    }
   ],
   "source": [
    "caracter = '#'\n",
    "palabra =  get_random_function() * 2\n",
    "palabra = palabra.replace(' ', caracter)\n",
    "palabra"
   ]
  },
  {
   "cell_type": "code",
   "execution_count": 73,
   "metadata": {},
   "outputs": [
    {
     "name": "stderr",
     "output_type": "stream",
     "text": [
      "2021-12-25 10:32:21 INFO: STRING GENERATED-> son Divididos -> cUPgt#BQGz2#PuBrK#2MCPB#zkC6Z#075B2#r1ojr#2Tyzo#yST6d#dSfPUcUPgt#BQGz2#PuBrK#2MCPB#zkC6Z#075B2#r1ojr#2Tyzo#yST6d#dSfPU => ['cUPgt', 'BQGz2', 'PuBrK', '2MCPB', 'zkC6Z', '075B2', 'r1ojr', '2Tyzo', 'yST6d', 'dSfPUcUPgt', 'BQGz2', 'PuBrK', '2MCPB', 'zkC6Z', '075B2', 'r1ojr', '2Tyzo', 'yST6d', 'dSfPU']\n"
     ]
    }
   ],
   "source": [
    "logging.info(f'son Divididos -> {palabra} => {palabra.split(caracter)}')"
   ]
  },
  {
   "cell_type": "code",
   "execution_count": 74,
   "metadata": {},
   "outputs": [
    {
     "name": "stderr",
     "output_type": "stream",
     "text": [
      "2021-12-25 10:32:39 INFO: STRING GENERATED-> son Particionados -> cUPgt#BQGz2#PuBrK#2MCPB#zkC6Z#075B2#r1ojr#2Tyzo#yST6d#dSfPUcUPgt#BQGz2#PuBrK#2MCPB#zkC6Z#075B2#r1ojr#2Tyzo#yST6d#dSfPU => ('cUPgt', '#', 'BQGz2#PuBrK#2MCPB#zkC6Z#075B2#r1ojr#2Tyzo#yST6d#dSfPUcUPgt#BQGz2#PuBrK#2MCPB#zkC6Z#075B2#r1ojr#2Tyzo#yST6d#dSfPU')\n"
     ]
    }
   ],
   "source": [
    "logging.info(f'son Particionados -> {palabra} => {palabra.partition(caracter)}')"
   ]
  },
  {
   "cell_type": "code",
   "execution_count": 75,
   "metadata": {},
   "outputs": [
    {
     "name": "stderr",
     "output_type": "stream",
     "text": [
      "2021-12-25 10:33:08 INFO: STRING GENERATED-> son Particionados desde la derecha-> cUPgt#BQGz2#PuBrK#2MCPB#zkC6Z#075B2#r1ojr#2Tyzo#yST6d#dSfPUcUPgt#BQGz2#PuBrK#2MCPB#zkC6Z#075B2#r1ojr#2Tyzo#yST6d#dSfPU => ('cUPgt#BQGz2#PuBrK#2MCPB#zkC6Z#075B2#r1ojr#2Tyzo#yST6d#dSfPUcUPgt#BQGz2#PuBrK#2MCPB#zkC6Z#075B2#r1ojr#2Tyzo#yST6d', '#', 'dSfPU')\n"
     ]
    }
   ],
   "source": [
    "logging.info(f'son Particionados desde la derecha-> {palabra} => {palabra.rpartition(caracter)}')"
   ]
  },
  {
   "cell_type": "code",
   "execution_count": 76,
   "metadata": {},
   "outputs": [
    {
     "name": "stderr",
     "output_type": "stream",
     "text": [
      "2021-12-25 10:33:19 INFO: STRING GENERATED-> son Divididos en 1 parte adicional -> cUPgt#BQGz2#PuBrK#2MCPB#zkC6Z#075B2#r1ojr#2Tyzo#yST6d#dSfPUcUPgt#BQGz2#PuBrK#2MCPB#zkC6Z#075B2#r1ojr#2Tyzo#yST6d#dSfPU => ['cUPgt#BQGz2#PuBrK#2MCPB#zkC6Z#075B2#r1ojr#2Tyzo#yST6d#dSfPUcUPgt#BQGz2#PuBrK#2MCPB#zkC6Z#075B2#r1ojr#2Tyzo#yST6d', 'dSfPU']\n"
     ]
    }
   ],
   "source": [
    "logging.info(f'son Divididos en 1 parte adicional -> {palabra} => {palabra.rsplit(caracter,1)}')"
   ]
  },
  {
   "cell_type": "code",
   "execution_count": 77,
   "metadata": {},
   "outputs": [
    {
     "name": "stderr",
     "output_type": "stream",
     "text": [
      "2021-12-25 10:33:40 INFO: STRING GENERATED-> son Divididos en 4 parte adicional -> cUPgt#BQGz2#PuBrK#2MCPB#zkC6Z#075B2#r1ojr#2Tyzo#yST6d#dSfPUcUPgt#BQGz2#PuBrK#2MCPB#zkC6Z#075B2#r1ojr#2Tyzo#yST6d#dSfPU => ['cUPgt', 'BQGz2', 'PuBrK', '2MCPB', 'zkC6Z#075B2#r1ojr#2Tyzo#yST6d#dSfPUcUPgt#BQGz2#PuBrK#2MCPB#zkC6Z#075B2#r1ojr#2Tyzo#yST6d#dSfPU']\n"
     ]
    }
   ],
   "source": [
    "logging.info(f'son Divididos en 4 parte adicional -> {palabra} => {palabra.split(caracter,4)}')"
   ]
  },
  {
   "cell_type": "code",
   "execution_count": 78,
   "metadata": {},
   "outputs": [
    {
     "name": "stderr",
     "output_type": "stream",
     "text": [
      "2021-12-25 10:34:10 INFO: STRING GENERATED-> son Reemplazados por caracter especifico las veces definidas -> cUPgt#BQGz2#PuBrK#2MCPB#zkC6Z#075B2#r1ojr#2Tyzo#yST6d#dSfPUcUPgt#BQGz2#PuBrK#2MCPB#zkC6Z#075B2#r1ojr#2Tyzo#yST6d#dSfPU => cUPgt---NEW---BQGz2---NEW---PuBrK---NEW---2MCPB#zkC6Z#075B2#r1ojr#2Tyzo#yST6d#dSfPUcUPgt#BQGz2#PuBrK#2MCPB#zkC6Z#075B2#r1ojr#2Tyzo#yST6d#dSfPU\n"
     ]
    }
   ],
   "source": [
    "logging.info(f'son Reemplazados por caracter especifico las veces definidas -> {palabra} => {palabra.replace(caracter, \"---NEW---\", 3)}')"
   ]
  },
  {
   "cell_type": "code",
   "execution_count": 79,
   "metadata": {},
   "outputs": [
    {
     "name": "stderr",
     "output_type": "stream",
     "text": [
      "2021-12-25 10:34:32 INFO: STRING GENERATED-> son Reemplazados por caracter especifico las veces definidas -> cUPgt#BQGz2#PuBrK#2MCPB#zkC6Z#075B2#r1ojr#2Tyzo#yST6d#dSfPUcUPgt#BQGz2#PuBrK#2MCPB#zkC6Z#075B2#r1ojr#2Tyzo#yST6d#dSfPU => cUPgt#BQGz2#PuBrK#2MCPB#zkC6Z#075B2#r1ojr#2Tyzo#yST6d#dSfPUcUPgt#BQGz2#PuBrK#2MCPB#zkC6Z#075B2#r1ojr---NEW---2Tyzo---NEW---yST6d---NEW---dSfPU\n"
     ]
    }
   ],
   "source": [
    "logging.info(f'son Reemplazados por caracter especifico las veces definidas -> {palabra} => {palabra[::-1].replace(caracter, \"---NEW---\"[::-1], 3)[::-1]}')"
   ]
  },
  {
   "cell_type": "markdown",
   "metadata": {},
   "source": [
    "# <center> Busqueda en cadenas </center>"
   ]
  },
  {
   "cell_type": "code",
   "execution_count": 82,
   "metadata": {},
   "outputs": [
    {
     "data": {
      "text/plain": [
       "'1b67q vBXs3 vtiO0 GVNkG vDBtk lS1yn TZ1Zx 6htlk 2DHdx R9i1p1b67q vBXs3 vtiO0 GVNkG vDBtk lS1yn TZ1Zx 6htlk 2DHdx R9i1p'"
      ]
     },
     "execution_count": 82,
     "metadata": {},
     "output_type": "execute_result"
    }
   ],
   "source": [
    "caracter = '0'\n",
    "palabra =  get_random_function() * 2\n",
    "palabra"
   ]
  },
  {
   "cell_type": "code",
   "execution_count": 83,
   "metadata": {},
   "outputs": [
    {
     "name": "stderr",
     "output_type": "stream",
     "text": [
      "2021-12-25 10:35:17 INFO: STRING GENERATED-> el caracter 0 esta 2 veces en -> 1b67q vBXs3 vtiO0 GVNkG vDBtk lS1yn TZ1Zx 6htlk 2DHdx R9i1p1b67q vBXs3 vtiO0 GVNkG vDBtk lS1yn TZ1Zx 6htlk 2DHdx R9i1p\n"
     ]
    }
   ],
   "source": [
    "logging.info(f'el caracter {caracter} esta {palabra.count(caracter)} veces en -> {palabra}')"
   ]
  },
  {
   "cell_type": "code",
   "execution_count": 84,
   "metadata": {},
   "outputs": [
    {
     "name": "stderr",
     "output_type": "stream",
     "text": [
      "2021-12-25 10:35:32 INFO: STRING GENERATED-> el caracter 0 esta 1 veces en -> 1b67q vBXs3 vtiO0 GVNkG vDBtk lS1yn TZ1Zx 6htlk 2DHdx R9i1p1b67q vBXs3 vtiO0 GVNkG vDBtk lS1yn TZ1Zx 6htlk 2DHdx R9i1p\n"
     ]
    }
   ],
   "source": [
    "logging.info(f'el caracter {caracter} esta {palabra.count(caracter, 0, len(palabra)//2)} veces en -> {palabra}')"
   ]
  },
  {
   "cell_type": "code",
   "execution_count": 85,
   "metadata": {},
   "outputs": [
    {
     "name": "stderr",
     "output_type": "stream",
     "text": [
      "2021-12-25 10:35:37 INFO: STRING GENERATED-> el caracter 0 esta 1 veces en -> 1b67q vBXs3 vtiO0 GVNkG vDBtk lS1yn TZ1Zx 6htlk 2DHdx R9i1p1b67q vBXs3 vtiO0 GVNkG vDBtk lS1yn TZ1Zx 6htlk 2DHdx R9i1p\n"
     ]
    }
   ],
   "source": [
    "logging.info(f'el caracter {caracter} esta {palabra.count(caracter, len(palabra)//4,  3*len(palabra)//4)} veces en -> {palabra}')"
   ]
  },
  {
   "cell_type": "code",
   "execution_count": 95,
   "metadata": {},
   "outputs": [
    {
     "ename": "ValueError",
     "evalue": "substring not found",
     "output_type": "error",
     "traceback": [
      "\u001b[1;31m---------------------------------------------------------------------------\u001b[0m",
      "\u001b[1;31mValueError\u001b[0m                                Traceback (most recent call last)",
      "\u001b[1;32m~\\AppData\\Local\\Temp/ipykernel_6096/1456712409.py\u001b[0m in \u001b[0;36m<module>\u001b[1;34m\u001b[0m\n\u001b[1;32m----> 1\u001b[1;33m \u001b[0mlogging\u001b[0m\u001b[1;33m.\u001b[0m\u001b[0minfo\u001b[0m\u001b[1;33m(\u001b[0m\u001b[1;34mf'el caracter {caracter} el INDICE de la primera aparicion esta en la posicion {palabra.index(\"caracter\")}  en -> {palabra}'\u001b[0m\u001b[1;33m)\u001b[0m\u001b[1;33m\u001b[0m\u001b[1;33m\u001b[0m\u001b[0m\n\u001b[0m",
      "\u001b[1;31mValueError\u001b[0m: substring not found"
     ]
    }
   ],
   "source": [
    "logging.info(f'el caracter {caracter} el INDICE de la primera aparicion esta en la posicion {palabra.index(\"caracter\")}  en -> {palabra}')"
   ]
  },
  {
   "cell_type": "code",
   "execution_count": 94,
   "metadata": {},
   "outputs": [
    {
     "name": "stderr",
     "output_type": "stream",
     "text": [
      "2021-12-25 10:37:34 INFO: STRING GENERATED-> el caracter 0 la primera aparicion esta en la posicion -1  en -> 1b67q vBXs3 vtiO0 GVNkG vDBtk lS1yn TZ1Zx 6htlk 2DHdx R9i1p1b67q vBXs3 vtiO0 GVNkG vDBtk lS1yn TZ1Zx 6htlk 2DHdx R9i1p\n"
     ]
    }
   ],
   "source": [
    "logging.info(f'el caracter {caracter} la primera aparicion esta en la posicion {palabra.find(\"caracter\")}  en -> {palabra}')"
   ]
  },
  {
   "cell_type": "code",
   "execution_count": 96,
   "metadata": {},
   "outputs": [
    {
     "name": "stderr",
     "output_type": "stream",
     "text": [
      "2021-12-25 10:38:00 INFO: STRING GENERATED-> la ultima posicion del caracter 0 esta en 75  en -> 1b67q vBXs3 vtiO0 GVNkG vDBtk lS1yn TZ1Zx 6htlk 2DHdx R9i1p1b67q vBXs3 vtiO0 GVNkG vDBtk lS1yn TZ1Zx 6htlk 2DHdx R9i1p\n"
     ]
    }
   ],
   "source": [
    "logging.info(f'la ultima posicion del caracter {caracter} esta en {palabra.rfind(caracter)}  en -> {palabra}')"
   ]
  },
  {
   "cell_type": "code",
   "execution_count": 97,
   "metadata": {},
   "outputs": [
    {
     "name": "stderr",
     "output_type": "stream",
     "text": [
      "2021-12-25 10:38:05 INFO: STRING GENERATED-> la proxima posicion del caracter 0 esta en la posicion -> 16  en -> 1b67q vBXs3 vtiO0 GVNkG vDBtk lS1yn TZ1Zx 6htlk 2DHdx R9i1p1b67q vBXs3 vtiO0 GVNkG vDBtk lS1yn TZ1Zx 6htlk 2DHdx R9i1p\n"
     ]
    }
   ],
   "source": [
    "logging.info(f'la proxima posicion del caracter {caracter} esta en la posicion -> {palabra.find(caracter, 13)}  en -> {palabra}')"
   ]
  },
  {
   "cell_type": "code",
   "execution_count": 98,
   "metadata": {},
   "outputs": [
    {
     "name": "stderr",
     "output_type": "stream",
     "text": [
      "2021-12-25 10:38:16 INFO: STRING GENERATED-> la proxima posicion del caracter 0 esta en la posicion -> 75  en -> 1b67q vBXs3 vtiO0 GVNkG vDBtk lS1yn TZ1Zx 6htlk 2DHdx R9i1p1b67q vBXs3 vtiO0 GVNkG vDBtk lS1yn TZ1Zx 6htlk 2DHdx R9i1p\n"
     ]
    }
   ],
   "source": [
    "logging.info(f'la proxima posicion del caracter {caracter} esta en la posicion -> {palabra.rfind(caracter, 57)}  en -> {palabra}')"
   ]
  },
  {
   "cell_type": "code",
   "execution_count": 99,
   "metadata": {},
   "outputs": [
    {
     "name": "stderr",
     "output_type": "stream",
     "text": [
      "2021-12-25 10:38:23 INFO: STRING GENERATED-> la cadena tiene el caracter 0 en las siguientes posiciones  -> ['0 -> 16', '0 -> 75']  en -> 1b67q vBXs3 vtiO0 GVNkG vDBtk lS1yn TZ1Zx 6htlk 2DHdx R9i1p1b67q vBXs3 vtiO0 GVNkG vDBtk lS1yn TZ1Zx 6htlk 2DHdx R9i1p\n"
     ]
    }
   ],
   "source": [
    "ocurrencias = [str(j) + ' -> ' + str(i) for i,j in enumerate(palabra) if j == caracter]\n",
    "\n",
    "logging.info(f'la cadena tiene el caracter {caracter} en las siguientes posiciones  -> {ocurrencias}  en -> {palabra}')"
   ]
  },
  {
   "cell_type": "code",
   "execution_count": 100,
   "metadata": {},
   "outputs": [
    {
     "name": "stderr",
     "output_type": "stream",
     "text": [
      "2021-12-25 10:38:32 INFO: STRING GENERATED-> la cadena inicia con el caracter 0  -> False  en -> 1b67q vBXs3 vtiO0 GVNkG vDBtk lS1yn TZ1Zx 6htlk 2DHdx R9i1p1b67q vBXs3 vtiO0 GVNkG vDBtk lS1yn TZ1Zx 6htlk 2DHdx R9i1p\n"
     ]
    }
   ],
   "source": [
    "logging.info(f'la cadena inicia con el caracter {caracter}  -> {palabra.startswith(caracter)}  en -> {palabra}')"
   ]
  },
  {
   "cell_type": "code",
   "execution_count": 101,
   "metadata": {},
   "outputs": [
    {
     "name": "stderr",
     "output_type": "stream",
     "text": [
      "2021-12-25 10:38:39 INFO: STRING GENERATED-> la cadena finaliza con el caracter 9i1p  -> True  en -> 1b67q vBXs3 vtiO0 GVNkG vDBtk lS1yn TZ1Zx 6htlk 2DHdx R9i1p1b67q vBXs3 vtiO0 GVNkG vDBtk lS1yn TZ1Zx 6htlk 2DHdx R9i1p\n"
     ]
    }
   ],
   "source": [
    "logging.info(f'la cadena finaliza con el caracter {palabra[-4:]}  -> {palabra.endswith(palabra[-4:])}  en -> {palabra}')"
   ]
  },
  {
   "cell_type": "code",
   "execution_count": 102,
   "metadata": {},
   "outputs": [
    {
     "name": "stderr",
     "output_type": "stream",
     "text": [
      "2021-12-25 10:38:50 INFO: STRING GENERATED-> la cadena finaliza con el caracter b'1b67q vBXs3 vtiO0 GVNkG vDBtk lS1yn TZ1Zx 6htlk 2DHdx R9i1p1b67q vBXs3 vtiO0 GVNkG vDBtk lS1yn TZ1Zx 6htlk 2DHdx R9i1p'  -> b'1b67q vBXs3 vtiO0 GVNkG vDBtk lS1yn TZ1Zx 6htlk 2DHdx R9i1p1b67q vBXs3 vtiO0 GVNkG vDBtk lS1yn TZ1Zx 6htlk 2DHdx R9i1p'  en -> b'1b67q vBXs3 vtiO0 GVNkG vDBtk lS1yn TZ1Zx 6htlk 2DHdx R9i1p1b67q vBXs3 vtiO0 GVNkG vDBtk lS1yn TZ1Zx 6htlk 2DHdx R9i1p'\n"
     ]
    }
   ],
   "source": [
    "logging.info(f'la cadena finaliza con el caracter {palabra.encode(\"utf-8\")}  -> {palabra.encode(\"utf-8\")}  en -> {palabra.encode(\"utf-8\")}')"
   ]
  },
  {
   "cell_type": "code",
   "execution_count": null,
   "metadata": {},
   "outputs": [],
   "source": []
  }
 ],
 "metadata": {
  "kernelspec": {
   "display_name": "Python 3 (ipykernel)",
   "language": "python",
   "name": "python3"
  },
  "language_info": {
   "codemirror_mode": {
    "name": "ipython",
    "version": 3
   },
   "file_extension": ".py",
   "mimetype": "text/x-python",
   "name": "python",
   "nbconvert_exporter": "python",
   "pygments_lexer": "ipython3",
   "version": "3.9.7"
  }
 },
 "nbformat": 4,
 "nbformat_minor": 4
}
