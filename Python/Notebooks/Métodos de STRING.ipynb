{
 "cells": [
  {
   "cell_type": "code",
   "execution_count": 1,
   "metadata": {},
   "outputs": [
    {
     "data": {
      "text/html": [
       "<style>.container { width:100% !important; }</style>"
      ],
      "text/plain": [
       "<IPython.core.display.HTML object>"
      ]
     },
     "metadata": {},
     "output_type": "display_data"
    }
   ],
   "source": [
    "from IPython.core.display import display, HTML\n",
    "display(HTML(\"<style>.container { width:100% !important; }</style>\"))"
   ]
  },
  {
   "cell_type": "code",
   "execution_count": 2,
   "metadata": {},
   "outputs": [
    {
     "name": "stderr",
     "output_type": "stream",
     "text": [
      "2021-12-19 19:12:53 INFO: STRING GENERATED-> son ejemplo_numerico -> [1, 1, 1, 1, 0, 1, 1, 0, 0, 0, 1, 0, 0, 0, 0, 1, 1, 1, 1, 0]\n",
      "2021-12-19 19:12:53 INFO: STRING GENERATED-> son ejemplo_cast_numero -> [False, False, False, True, False, False, True, True, False, False, True, True, True, True, True, False, True, False, True, True]\n",
      "2021-12-19 19:12:53 INFO: STRING GENERATED-> son ejemplo_bool -> [True, False, False, True, True, True, True, True, False, True, False, True, True, False, True, False, True, False, True, True]\n",
      "2021-12-19 19:12:53 INFO: STRING GENERATED-> son ejemplo_bool_2 -> [False, False, False, False, False, True, False, False, True, False, False, False, False, True, True, False, True, True, False, False]\n",
      "2021-12-19 19:12:53 INFO: STRING GENERATED-> son ejemplo_vacio -> [None, '', None, None, '', '', None, '', None, None, '', '', '', None, None, None, '', '', None, None]\n",
      "2021-12-19 19:12:53 INFO: STRING GENERATED-> son ejemplo_vacio_espacio -> ['', ' ', '', '', '', ' ', None, None, None, None, '', None, '', '', ' ', '', '', ' ', None, ' ']\n",
      "2021-12-19 19:12:53 INFO: STRING GENERATED-> son ejemplo_mixto -> ['', '-', '-', None, None, '-', '-', '-', '', '-', '-', '', '', '-', '-', '-', ' ', '-', '', None]\n"
     ]
    }
   ],
   "source": [
    "import random\n",
    "import logging\n",
    "\n",
    "limit = 20\n",
    "\n",
    "logging.basicConfig(format='%(asctime)s %(levelname)s: STRING GENERATED-> %(message)s', level=logging.DEBUG, datefmt='%Y-%m-%d %H:%M:%S')\n",
    "\n",
    "ejemplo_numerico = [random.randint(0,1) for i in range(limit)]\n",
    "logging.info(f'son ejemplo_numerico -> {ejemplo_numerico}')\n",
    "\n",
    "\n",
    "ejemplo_cast_numero = [bool(random.randint(0,1)) for i in range(limit)]\n",
    "logging.info(f'son ejemplo_cast_numero -> {ejemplo_cast_numero}')\n",
    "\n",
    "\n",
    "ejemplo_bool = [bool(random.getrandbits(1)) for i in range(limit)]\n",
    "logging.info(f'son ejemplo_bool -> {ejemplo_bool}')\n",
    "\n",
    "\n",
    "ejemplo_bool_2 = [random.choice([True, False]) for i in range(limit)]\n",
    "logging.info(f'son ejemplo_bool_2 -> {ejemplo_bool_2}')\n",
    "\n",
    "ejemplo_vacio = [random.choice(['', None]) for i in range(limit)]\n",
    "logging.info(f'son ejemplo_vacio -> {ejemplo_vacio}')\n",
    "\n",
    "ejemplo_vacio_espacio = [random.choice(['', None, ' ']) for i in range(limit)]\n",
    "logging.info(f'son ejemplo_vacio_espacio -> {ejemplo_vacio_espacio}')\n",
    "\n",
    "ejemplo_mixto = [random.choice(['', None, ' ', '-']) for i in range(limit)]\n",
    "logging.info(f'son ejemplo_mixto -> {ejemplo_mixto}')"
   ]
  },
  {
   "cell_type": "markdown",
   "metadata": {},
   "source": [
    "# <center> ALL -> VALIDA QUE TODO SEA VERDADERO </center>"
   ]
  },
  {
   "cell_type": "code",
   "execution_count": 3,
   "metadata": {},
   "outputs": [
    {
     "name": "stderr",
     "output_type": "stream",
     "text": [
      "2021-12-19 19:12:53 INFO: STRING GENERATED-> son ejemplo_numerico [1, 1, 1, 1, 0, 1, 1, 0, 0, 0, 1, 0, 0, 0, 0, 1, 1, 1, 1, 0] -> False\n",
      "2021-12-19 19:12:53 INFO: STRING GENERATED-> son ejemplo_cast_numero [False, False, False, True, False, False, True, True, False, False, True, True, True, True, True, False, True, False, True, True] -> False\n",
      "2021-12-19 19:12:53 INFO: STRING GENERATED-> son ejemplo_bool [True, False, False, True, True, True, True, True, False, True, False, True, True, False, True, False, True, False, True, True] -> False\n",
      "2021-12-19 19:12:53 INFO: STRING GENERATED-> son ejemplo_bool_2 [False, False, False, False, False, True, False, False, True, False, False, False, False, True, True, False, True, True, False, False] -> False\n",
      "2021-12-19 19:12:53 INFO: STRING GENERATED-> son ejemplo_vacio [None, '', None, None, '', '', None, '', None, None, '', '', '', None, None, None, '', '', None, None] -> False\n",
      "2021-12-19 19:12:53 INFO: STRING GENERATED-> son ejemplo_vacio_espacio ['', ' ', '', '', '', ' ', None, None, None, None, '', None, '', '', ' ', '', '', ' ', None, ' '] -> False\n",
      "2021-12-19 19:12:53 INFO: STRING GENERATED-> son ejemplo_mixto ['', '-', '-', None, None, '-', '-', '-', '', '-', '-', '', '', '-', '-', '-', ' ', '-', '', None] -> False\n"
     ]
    }
   ],
   "source": [
    "logging.info(f'son ejemplo_numerico {ejemplo_numerico} -> {all(ejemplo_numerico)}')\n",
    "logging.info(f'son ejemplo_cast_numero {ejemplo_cast_numero} -> {all(ejemplo_cast_numero)}')\n",
    "logging.info(f'son ejemplo_bool {ejemplo_bool} -> {all(ejemplo_bool)}')\n",
    "logging.info(f'son ejemplo_bool_2 {ejemplo_bool_2} -> {all(ejemplo_bool_2)}')\n",
    "logging.info(f'son ejemplo_vacio {ejemplo_vacio} -> {all(ejemplo_vacio)}')\n",
    "logging.info(f'son ejemplo_vacio_espacio {ejemplo_vacio_espacio} -> {all(ejemplo_vacio_espacio)}')\n",
    "logging.info(f'son ejemplo_mixto {ejemplo_mixto} -> {all(ejemplo_mixto)}')"
   ]
  },
  {
   "cell_type": "markdown",
   "metadata": {},
   "source": [
    "# <center> ANY -> VALIDA QUE POR LO MENOS UNO SEA VERDADERO </center>"
   ]
  },
  {
   "cell_type": "code",
   "execution_count": 4,
   "metadata": {},
   "outputs": [
    {
     "name": "stderr",
     "output_type": "stream",
     "text": [
      "2021-12-19 19:12:53 INFO: STRING GENERATED-> son ejemplo_numerico [1, 1, 1, 1, 0, 1, 1, 0, 0, 0, 1, 0, 0, 0, 0, 1, 1, 1, 1, 0] -> True\n",
      "2021-12-19 19:12:53 INFO: STRING GENERATED-> son ejemplo_cast_numero [False, False, False, True, False, False, True, True, False, False, True, True, True, True, True, False, True, False, True, True] -> True\n",
      "2021-12-19 19:12:53 INFO: STRING GENERATED-> son ejemplo_bool [True, False, False, True, True, True, True, True, False, True, False, True, True, False, True, False, True, False, True, True] -> True\n",
      "2021-12-19 19:12:53 INFO: STRING GENERATED-> son ejemplo_bool_2 [False, False, False, False, False, True, False, False, True, False, False, False, False, True, True, False, True, True, False, False] -> True\n",
      "2021-12-19 19:12:53 INFO: STRING GENERATED-> son ejemplo_vacio [None, '', None, None, '', '', None, '', None, None, '', '', '', None, None, None, '', '', None, None] -> False\n",
      "2021-12-19 19:12:53 INFO: STRING GENERATED-> son ejemplo_vacio_espacio ['', ' ', '', '', '', ' ', None, None, None, None, '', None, '', '', ' ', '', '', ' ', None, ' '] -> True\n",
      "2021-12-19 19:12:53 INFO: STRING GENERATED-> son ejemplo_mixto ['', '-', '-', None, None, '-', '-', '-', '', '-', '-', '', '', '-', '-', '-', ' ', '-', '', None] -> True\n"
     ]
    }
   ],
   "source": [
    "logging.info(f'son ejemplo_numerico {ejemplo_numerico} -> {any(ejemplo_numerico)}')\n",
    "logging.info(f'son ejemplo_cast_numero {ejemplo_cast_numero} -> {any(ejemplo_cast_numero)}')\n",
    "logging.info(f'son ejemplo_bool {ejemplo_bool} -> {any(ejemplo_bool)}')\n",
    "logging.info(f'son ejemplo_bool_2 {ejemplo_bool_2} -> {any(ejemplo_bool_2)}')\n",
    "logging.info(f'son ejemplo_vacio {ejemplo_vacio} -> {any(ejemplo_vacio)}')\n",
    "logging.info(f'son ejemplo_vacio_espacio {ejemplo_vacio_espacio} -> {any(ejemplo_vacio_espacio)}')\n",
    "logging.info(f'son ejemplo_mixto {ejemplo_mixto} -> {any(ejemplo_mixto)}')"
   ]
  },
  {
   "cell_type": "markdown",
   "metadata": {},
   "source": [
    "# <center> Generadores de Cadenas Aleatorias </center>"
   ]
  },
  {
   "cell_type": "code",
   "execution_count": 5,
   "metadata": {},
   "outputs": [],
   "source": [
    "import string\n",
    "import uuid\n",
    "import textwrap\n",
    "\n",
    "def generate_characters(size:int = 25) -> str:\n",
    "    \n",
    "    return ''.join([random.choice(string.ascii_letters) for x in range(size)])\n",
    "\n",
    "def generate_numbers(size:int = 25) -> str:\n",
    "    \n",
    "    return ''.join([random.choice(string.digits) for x in range(size)])\n",
    "\n",
    "def generate_characters_and_numbers(size:int = 50) -> str:\n",
    "    \n",
    "    return ''.join([random.SystemRandom().choice(string.ascii_letters + string.digits) for x in range(size)])\n",
    "\n",
    "def generate_uuid(size:int = 1) -> str :\n",
    "    \n",
    "    return str(uuid.uuid4())\n",
    "\n",
    "def generate_unique_values(size:int = 75) -> str:\n",
    "    \n",
    "    characteres = string.digits + string.ascii_letters + string.punctuation\n",
    "\n",
    "    return ''.join(random.sample(characteres, size))\n",
    "\n",
    "\n",
    "#decorador\n",
    "def split_string(funcion_entrada)-> str:\n",
    "    \n",
    "    parts_to_divide  = 5\n",
    "    \n",
    "    def split_word(*args, **kwargs):\n",
    "        \n",
    "        return ' '.join(textwrap.wrap(funcion_entrada(*args, **kwargs), parts_to_divide))      \n",
    "        \n",
    "    return split_word\n",
    "\n",
    "funciones = [generate_characters, generate_numbers, generate_characters_and_numbers, generate_uuid, generate_unique_values]\n",
    "\n",
    "@split_string\n",
    "def get_random_function() -> str:\n",
    "    \n",
    "    return funciones[random.randint(0, len(funciones) -1)]()"
   ]
  },
  {
   "cell_type": "markdown",
   "metadata": {},
   "source": [
    "# <center> Título, Mayúsculas, Minúsculas, Primera letra en Mayúscula, Invertir Mayúsculas y Minúsculas  </center>"
   ]
  },
  {
   "cell_type": "code",
   "execution_count": 6,
   "metadata": {},
   "outputs": [
    {
     "name": "stderr",
     "output_type": "stream",
     "text": [
      "2021-12-19 19:12:53 INFO: STRING GENERATED-> 41078 02895 15501 63190 57981\n"
     ]
    }
   ],
   "source": [
    "palabra = get_random_function()\n",
    "logging.info(palabra)"
   ]
  },
  {
   "cell_type": "code",
   "execution_count": 7,
   "metadata": {},
   "outputs": [
    {
     "data": {
      "text/plain": [
       "'41078 02895 15501 63190 57981'"
      ]
     },
     "execution_count": 7,
     "metadata": {},
     "output_type": "execute_result"
    }
   ],
   "source": [
    "palabra.title()"
   ]
  },
  {
   "cell_type": "code",
   "execution_count": 8,
   "metadata": {},
   "outputs": [
    {
     "data": {
      "text/plain": [
       "'41078 02895 15501 63190 57981'"
      ]
     },
     "execution_count": 8,
     "metadata": {},
     "output_type": "execute_result"
    }
   ],
   "source": [
    "palabra.upper()"
   ]
  },
  {
   "cell_type": "code",
   "execution_count": 9,
   "metadata": {},
   "outputs": [
    {
     "data": {
      "text/plain": [
       "'41078 02895 15501 63190 57981'"
      ]
     },
     "execution_count": 9,
     "metadata": {},
     "output_type": "execute_result"
    }
   ],
   "source": [
    "palabra.lower()"
   ]
  },
  {
   "cell_type": "code",
   "execution_count": 10,
   "metadata": {},
   "outputs": [
    {
     "data": {
      "text/plain": [
       "'41078 02895 15501 63190 57981'"
      ]
     },
     "execution_count": 10,
     "metadata": {},
     "output_type": "execute_result"
    }
   ],
   "source": [
    "palabra.capitalize()"
   ]
  },
  {
   "cell_type": "code",
   "execution_count": 11,
   "metadata": {},
   "outputs": [
    {
     "data": {
      "text/plain": [
       "'41078 02895 15501 63190 57981'"
      ]
     },
     "execution_count": 11,
     "metadata": {},
     "output_type": "execute_result"
    }
   ],
   "source": [
    "palabra.swapcase()"
   ]
  },
  {
   "cell_type": "markdown",
   "metadata": {},
   "source": [
    "# <center> Eliminar espacios en blanco o caracteres, a la Derecha a la Izquierda, Todos </center>"
   ]
  },
  {
   "cell_type": "code",
   "execution_count": 12,
   "metadata": {},
   "outputs": [
    {
     "name": "stderr",
     "output_type": "stream",
     "text": [
      "2021-12-19 19:12:54 INFO: STRING GENERATED->    dgzBx HNIqt BbOxe ZhYKa JWiBy   \n"
     ]
    }
   ],
   "source": [
    "palabra =   '   ' + get_random_function() +  '   '\n",
    "logging.info(palabra)"
   ]
  },
  {
   "cell_type": "code",
   "execution_count": 13,
   "metadata": {},
   "outputs": [
    {
     "data": {
      "text/plain": [
       "'   dgzBx HNIqt BbOxe ZhYKa JWiBy'"
      ]
     },
     "execution_count": 13,
     "metadata": {},
     "output_type": "execute_result"
    }
   ],
   "source": [
    "u = palabra.rstrip()\n",
    "u"
   ]
  },
  {
   "cell_type": "code",
   "execution_count": 14,
   "metadata": {},
   "outputs": [
    {
     "data": {
      "text/plain": [
       "'dgzBx HNIqt BbOxe ZhYKa JWiBy   '"
      ]
     },
     "execution_count": 14,
     "metadata": {},
     "output_type": "execute_result"
    }
   ],
   "source": [
    "v = palabra.lstrip()\n",
    "v"
   ]
  },
  {
   "cell_type": "code",
   "execution_count": 15,
   "metadata": {},
   "outputs": [
    {
     "data": {
      "text/plain": [
       "'dgzBx HNIqt BbOxe ZhYKa JWiBy'"
      ]
     },
     "execution_count": 15,
     "metadata": {},
     "output_type": "execute_result"
    }
   ],
   "source": [
    "w = palabra.strip()\n",
    "w"
   ]
  },
  {
   "cell_type": "code",
   "execution_count": 16,
   "metadata": {},
   "outputs": [
    {
     "name": "stderr",
     "output_type": "stream",
     "text": [
      "2021-12-19 19:12:54 INFO: STRING GENERATED->    @@@dgzBx@HNIqt@BbOxe@ZhYKa@JWiBy@@@   \n",
      "2021-12-19 19:12:54 INFO: STRING GENERATED->    @@@dgzBx@HNIqt@BbOxe@ZhYKa@JWiBy@@@   \n"
     ]
    }
   ],
   "source": [
    "x = '   ' + palabra.replace(' ', '@')  +  '   '\n",
    "logging.info(x)\n",
    "\n",
    "x  = x.strip('@')\n",
    "logging.info(x)"
   ]
  },
  {
   "cell_type": "code",
   "execution_count": 17,
   "metadata": {},
   "outputs": [
    {
     "name": "stderr",
     "output_type": "stream",
     "text": [
      "2021-12-19 19:12:54 INFO: STRING GENERATED->    dgzBx HNIqt BbOxe ZhYKa JWiBy   \n",
      "2021-12-19 19:12:54 INFO: STRING GENERATED-> @@@dgzBx@HNIqt@BbOxe@ZhYKa@JWiBy@@@\n",
      "2021-12-19 19:12:54 INFO: STRING GENERATED-> dgzBx@HNIqt@BbOxe@ZhYKa@JWiBy\n"
     ]
    }
   ],
   "source": [
    "logging.info(palabra)\n",
    "y = palabra.replace(' ', '@')\n",
    "logging.info(y)\n",
    "z  = y.strip('@')\n",
    "logging.info(z)"
   ]
  },
  {
   "cell_type": "code",
   "execution_count": 18,
   "metadata": {},
   "outputs": [
    {
     "data": {
      "text/plain": [
       "'jorgecardona'"
      ]
     },
     "execution_count": 18,
     "metadata": {},
     "output_type": "execute_result"
    }
   ],
   "source": [
    "gh = '        hhhhhttp      s://www.jorgecardona.comwhttps'.strip(' htp:/wswo.cm')\n",
    "gh"
   ]
  },
  {
   "cell_type": "markdown",
   "metadata": {},
   "source": [
    "# <center> Alinear texto, a la Derecha a la Izquierda, al centro </center>"
   ]
  },
  {
   "cell_type": "code",
   "execution_count": 19,
   "metadata": {},
   "outputs": [
    {
     "name": "stderr",
     "output_type": "stream",
     "text": [
      "2021-12-19 19:12:54 INFO: STRING GENERATED-> VhxBq hcegz NsAIf UYyLe zNfxx\n"
     ]
    }
   ],
   "source": [
    "palabra =  get_random_function()\n",
    "logging.info(palabra)"
   ]
  },
  {
   "cell_type": "code",
   "execution_count": 20,
   "metadata": {},
   "outputs": [
    {
     "data": {
      "text/plain": [
       "'       VhxBq hcegz NsAIf UYyLe zNfxx'"
      ]
     },
     "execution_count": 20,
     "metadata": {},
     "output_type": "execute_result"
    }
   ],
   "source": [
    "palabra.rjust(len(palabra) + 7)"
   ]
  },
  {
   "cell_type": "code",
   "execution_count": 21,
   "metadata": {},
   "outputs": [
    {
     "data": {
      "text/plain": [
       "'VhxBq hcegz NsAIf UYyLe zNfxx       '"
      ]
     },
     "execution_count": 21,
     "metadata": {},
     "output_type": "execute_result"
    }
   ],
   "source": [
    "palabra.ljust(len(palabra) + 7)"
   ]
  },
  {
   "cell_type": "code",
   "execution_count": 22,
   "metadata": {},
   "outputs": [
    {
     "data": {
      "text/plain": [
       "'   VhxBq hcegz NsAIf UYyLe zNfxx    '"
      ]
     },
     "execution_count": 22,
     "metadata": {},
     "output_type": "execute_result"
    }
   ],
   "source": [
    "palabra.center(len(palabra) + 7)"
   ]
  },
  {
   "cell_type": "markdown",
   "metadata": {},
   "source": [
    "# <center> Valída si es : Letras, Minúsculas, Mayúsculas Letras y Números, Espacios en blanco</center>"
   ]
  },
  {
   "cell_type": "code",
   "execution_count": 23,
   "metadata": {},
   "outputs": [
    {
     "name": "stderr",
     "output_type": "stream",
     "text": [
      "2021-12-19 19:12:54 INFO: STRING GENERATED-> son Letras -> xwpkAXdEbDyXwRcrDfeTVBFsh ->  True\n",
      "2021-12-19 19:12:54 INFO: STRING GENERATED-> son Letras y numeros -> xwpkAXdEbDyXwRcrDfeTVBFsh ->  True\n"
     ]
    }
   ],
   "source": [
    "letras = generate_characters()\n",
    "logging.info(f'son Letras -> {letras} ->  {letras.isalpha()}')\n",
    "logging.info(f'son Letras y numeros -> {letras} ->  {letras.isalnum()}')"
   ]
  },
  {
   "cell_type": "code",
   "execution_count": 24,
   "metadata": {},
   "outputs": [
    {
     "name": "stderr",
     "output_type": "stream",
     "text": [
      "2021-12-19 19:12:54 INFO: STRING GENERATED-> son Letras -> w393UOQ7Ckfzma97uTvbg769sPxRzNZIChHydhn9MkcBgbYSCv ->  False\n",
      "2021-12-19 19:12:54 INFO: STRING GENERATED-> son Letras y numeros -> w393UOQ7Ckfzma97uTvbg769sPxRzNZIChHydhn9MkcBgbYSCv ->  True\n"
     ]
    }
   ],
   "source": [
    "numeros_y_letras = generate_characters_and_numbers()\n",
    "logging.info(f'son Letras -> {numeros_y_letras} ->  {numeros_y_letras.isalpha()}')\n",
    "logging.info(f'son Letras y numeros -> {numeros_y_letras} ->  {numeros_y_letras.isalnum()}')"
   ]
  },
  {
   "cell_type": "code",
   "execution_count": 25,
   "metadata": {},
   "outputs": [
    {
     "name": "stderr",
     "output_type": "stream",
     "text": [
      "2021-12-19 19:12:54 INFO: STRING GENERATED-> son Mayúsculas -> xwpkAXdEbDyXwRcrDfeTVBFsh ->  False\n",
      "2021-12-19 19:12:54 INFO: STRING GENERATED-> son Mayúsculas -> w393UOQ7Ckfzma97uTvbg769sPxRzNZIChHydhn9MkcBgbYSCv ->  False\n"
     ]
    }
   ],
   "source": [
    "logging.info(f'son Mayúsculas -> {letras} ->  {numeros_y_letras.isupper()}')\n",
    "logging.info(f'son Mayúsculas -> {numeros_y_letras} ->  {numeros_y_letras.isupper()}')"
   ]
  },
  {
   "cell_type": "code",
   "execution_count": 26,
   "metadata": {},
   "outputs": [
    {
     "name": "stderr",
     "output_type": "stream",
     "text": [
      "2021-12-19 19:12:54 INFO: STRING GENERATED-> son Minúsculas -> xwpkAXdEbDyXwRcrDfeTVBFsh ->  False\n",
      "2021-12-19 19:12:54 INFO: STRING GENERATED-> son Minúsculas -> w393UOQ7Ckfzma97uTvbg769sPxRzNZIChHydhn9MkcBgbYSCv ->  False\n"
     ]
    }
   ],
   "source": [
    "logging.info(f'son Minúsculas -> {letras} ->  {numeros_y_letras.islower()}')\n",
    "logging.info(f'son Minúsculas -> {numeros_y_letras} ->  {numeros_y_letras.islower()}')"
   ]
  },
  {
   "cell_type": "code",
   "execution_count": 27,
   "metadata": {},
   "outputs": [
    {
     "name": "stderr",
     "output_type": "stream",
     "text": [
      "2021-12-19 19:12:54 INFO: STRING GENERATED-> son Títulos -> xwpkAXdEbDyXwRcrDfeTVBFsh ->  False\n",
      "2021-12-19 19:12:54 INFO: STRING GENERATED-> son Títulos -> w393UOQ7Ckfzma97uTvbg769sPxRzNZIChHydhn9MkcBgbYSCv ->  False\n"
     ]
    }
   ],
   "source": [
    "logging.info(f'son Títulos -> {letras} ->  {numeros_y_letras.istitle()}')\n",
    "logging.info(f'son Títulos -> {numeros_y_letras} ->  {numeros_y_letras.istitle()}')"
   ]
  },
  {
   "cell_type": "code",
   "execution_count": 28,
   "metadata": {},
   "outputs": [
    {
     "name": "stderr",
     "output_type": "stream",
     "text": [
      "2021-12-19 19:12:54 INFO: STRING GENERATED-> son espacios en blanco ->             ->  True\n",
      "2021-12-19 19:12:54 INFO: STRING GENERATED-> son espacios en blanco -> xwpkAXdEbDyXwRcrDfeTVBFsh ->  False\n",
      "2021-12-19 19:12:54 INFO: STRING GENERATED-> son espacios en blanco -> w393UOQ7Ckfzma97uTvbg769sPxRzNZIChHydhn9MkcBgbYSCv ->  False\n"
     ]
    }
   ],
   "source": [
    "espacios_en_blanco = '           '\n",
    "logging.info(f'son espacios en blanco -> {espacios_en_blanco} ->  {espacios_en_blanco.isspace()}')\n",
    "logging.info(f'son espacios en blanco -> {letras} ->  {numeros_y_letras.isspace()}')\n",
    "logging.info(f'son espacios en blanco -> {numeros_y_letras} ->  {numeros_y_letras.isspace()}')"
   ]
  },
  {
   "cell_type": "markdown",
   "metadata": {},
   "source": [
    "# <center> Valída si es : Números, Décimal, Binario, Octal, HexaDécimal, Exponencial </center>"
   ]
  },
  {
   "cell_type": "code",
   "execution_count": 29,
   "metadata": {},
   "outputs": [
    {
     "name": "stderr",
     "output_type": "stream",
     "text": [
      "2021-12-19 19:12:54 INFO: STRING GENERATED-> son Números decimales -> 7043726876843373369425118 ->  True\n",
      "2021-12-19 19:12:54 INFO: STRING GENERATED-> son Dígitos -> 7043726876843373369425118 -> True\n",
      "2021-12-19 19:12:54 INFO: STRING GENERATED-> son tipo Númericos -> 7043726876843373369425118 -> True\n"
     ]
    }
   ],
   "source": [
    "numeros = generate_numbers()\n",
    "\n",
    "logging.info(f'son Números decimales -> {numeros} ->  {numeros.isdecimal()}')\n",
    "logging.info(f'son Dígitos -> {numeros} -> {numeros.isdigit()}')\n",
    "logging.info(f'son tipo Númericos -> {numeros} -> {numeros.isnumeric()}')"
   ]
  },
  {
   "cell_type": "code",
   "execution_count": 30,
   "metadata": {},
   "outputs": [
    {
     "name": "stderr",
     "output_type": "stream",
     "text": [
      "2021-12-19 19:12:54 INFO: STRING GENERATED-> son Números flotantes -> 13506121261114.63 ->  False\n",
      "2021-12-19 19:12:54 INFO: STRING GENERATED-> son Dígitos -> 13506121261114.63 -> False\n",
      "2021-12-19 19:12:54 INFO: STRING GENERATED-> son  tipo Númericos -> 13506121261114.63 -> False\n"
     ]
    }
   ],
   "source": [
    "numeros_flotantes = str(int(generate_numbers()) / 192519503178.213)\n",
    "\n",
    "logging.info(f'son Números flotantes -> {numeros_flotantes} ->  {numeros_flotantes.isdecimal()}')\n",
    "logging.info(f'son Dígitos -> {numeros_flotantes} -> {numeros_flotantes.isdigit()}')\n",
    "logging.info(f'son  tipo Númericos -> {numeros_flotantes} -> {numeros_flotantes.isnumeric()}')"
   ]
  },
  {
   "cell_type": "code",
   "execution_count": 31,
   "metadata": {},
   "outputs": [
    {
     "name": "stderr",
     "output_type": "stream",
     "text": [
      "2021-12-19 19:12:54 INFO: STRING GENERATED-> son Números Binarios -> 0b10111010011100100010011001011111001000110001001111110000010110011101111110011011110 ->  True\n",
      "2021-12-19 19:12:54 INFO: STRING GENERATED-> son Números Binarios -> 10111010011100100010011001011111001000110001001111110000010110011101111110011011110 ->  True\n"
     ]
    }
   ],
   "source": [
    "binario = bin(int(numeros))\n",
    "validacion = all(b in ['0','1'] for b in binario[2:])\n",
    "logging.info(f'son Números Binarios -> {binario} ->  {validacion}')\n",
    "\n",
    "binario_format = format(int(numeros), \"b\")\n",
    "validacion_format = all(b in ['0','1'] for b in binario_format)\n",
    "logging.info(f'son Números Binarios -> {binario_format} ->  {validacion_format}')"
   ]
  },
  {
   "cell_type": "code",
   "execution_count": 32,
   "metadata": {},
   "outputs": [
    {
     "name": "stderr",
     "output_type": "stream",
     "text": [
      "2021-12-19 19:12:54 INFO: STRING GENERATED-> son Números Octal -> 0o2723442313710611760263576336 ->  True\n",
      "2021-12-19 19:12:54 INFO: STRING GENERATED-> son Números Octal -> 2723442313710611760263576336 -> True\n"
     ]
    }
   ],
   "source": [
    "octal = oct(int(numeros))\n",
    "validacion = all(o in [str(i) for i in range(8)] for o in octal[2:])\n",
    "logging.info(f'son Números Octal -> {octal} ->  {validacion}')\n",
    "\n",
    "octal_format = format(int(numeros), \"o\")\n",
    "validacion_octal = all(o in [str(i) for i in range(8)] for o in octal_format)\n",
    "logging.info(f'son Números Octal -> {octal_format} -> {validacion_octal}')"
   ]
  },
  {
   "cell_type": "code",
   "execution_count": 33,
   "metadata": {},
   "outputs": [
    {
     "name": "stderr",
     "output_type": "stream",
     "text": [
      "2021-12-19 19:12:54 INFO: STRING GENERATED-> son  tipo Hexadecimal -> 0x5d39132f9189f82cefcde -> True\n",
      "2021-12-19 19:12:54 INFO: STRING GENERATED-> son  tipo Hexadecimal -> 5d39132f9189f82cefcde -> True\n"
     ]
    }
   ],
   "source": [
    "hexadecimal = hex(int(numeros))\n",
    "validacion = all(x in string.hexdigits for x in hexadecimal[2:])\n",
    "logging.info(f'son  tipo Hexadecimal -> {hexadecimal} -> {validacion}')\n",
    "\n",
    "hexadecimal_format = format(int(numeros), \"x\")\n",
    "validacion_hexadecimal_format = all(x in string.hexdigits for x in hexadecimal_format)\n",
    "logging.info(f'son  tipo Hexadecimal -> {hexadecimal_format} -> {validacion_hexadecimal_format}')"
   ]
  },
  {
   "cell_type": "code",
   "execution_count": 34,
   "metadata": {},
   "outputs": [
    {
     "name": "stderr",
     "output_type": "stream",
     "text": [
      "2021-12-19 19:12:54 INFO: STRING GENERATED-> son  tipo Númericos -> 5.705419e+15 -> False\n"
     ]
    },
    {
     "data": {
      "text/plain": [
       "'5.705419e+15'"
      ]
     },
     "execution_count": 34,
     "metadata": {},
     "output_type": "execute_result"
    }
   ],
   "source": [
    "#exponencial = exp(int(numeros)//1234567890)\n",
    "exponencial_format = format(int(numeros)//1234567890, \"e\")\n",
    "\n",
    "logging.info(f'son  tipo Númericos -> {exponencial_format} -> {exponencial_format.isnumeric()}')\n",
    "exponencial_format"
   ]
  },
  {
   "cell_type": "code",
   "execution_count": 37,
   "metadata": {},
   "outputs": [
    {
     "data": {
      "text/plain": [
       "5705419000000000"
      ]
     },
     "execution_count": 37,
     "metadata": {},
     "output_type": "execute_result"
    }
   ],
   "source": [
    "int(float(exponencial_format))"
   ]
  },
  {
   "cell_type": "markdown",
   "metadata": {},
   "source": [
    "# <center> Dividir Cadenas y Buscar en ellas </center>"
   ]
  },
  {
   "cell_type": "code",
   "execution_count": 153,
   "metadata": {},
   "outputs": [
    {
     "data": {
      "text/plain": [
       "'YGtdS#qEQVp#XemtN#AgGyZ#kUkUNYGtdS#qEQVp#XemtN#AgGyZ#kUkUN'"
      ]
     },
     "execution_count": 153,
     "metadata": {},
     "output_type": "execute_result"
    }
   ],
   "source": [
    "caracter = '#'\n",
    "palabra =  get_random_function() * 2\n",
    "palabra = palabra.replace(' ', caracter)\n",
    "palabra"
   ]
  },
  {
   "cell_type": "code",
   "execution_count": 154,
   "metadata": {},
   "outputs": [
    {
     "name": "stderr",
     "output_type": "stream",
     "text": [
      "2021-12-19 20:09:57 INFO: STRING GENERATED-> son Divididos -> YGtdS#qEQVp#XemtN#AgGyZ#kUkUNYGtdS#qEQVp#XemtN#AgGyZ#kUkUN => ['YGtdS', 'qEQVp', 'XemtN', 'AgGyZ', 'kUkUNYGtdS', 'qEQVp', 'XemtN', 'AgGyZ', 'kUkUN']\n"
     ]
    }
   ],
   "source": [
    "logging.info(f'son Divididos -> {palabra} => {palabra.split(caracter)}')"
   ]
  },
  {
   "cell_type": "code",
   "execution_count": 155,
   "metadata": {},
   "outputs": [
    {
     "name": "stderr",
     "output_type": "stream",
     "text": [
      "2021-12-19 20:10:00 INFO: STRING GENERATED-> son Particionados -> YGtdS#qEQVp#XemtN#AgGyZ#kUkUNYGtdS#qEQVp#XemtN#AgGyZ#kUkUN => ('YGtdS', '#', 'qEQVp#XemtN#AgGyZ#kUkUNYGtdS#qEQVp#XemtN#AgGyZ#kUkUN')\n"
     ]
    }
   ],
   "source": [
    "logging.info(f'son Particionados -> {palabra} => {palabra.partition(caracter)}')"
   ]
  },
  {
   "cell_type": "code",
   "execution_count": 156,
   "metadata": {},
   "outputs": [
    {
     "name": "stderr",
     "output_type": "stream",
     "text": [
      "2021-12-19 20:10:02 INFO: STRING GENERATED-> son Particionados desde la derecha-> YGtdS#qEQVp#XemtN#AgGyZ#kUkUNYGtdS#qEQVp#XemtN#AgGyZ#kUkUN => ('YGtdS#qEQVp#XemtN#AgGyZ#kUkUNYGtdS#qEQVp#XemtN#AgGyZ', '#', 'kUkUN')\n"
     ]
    }
   ],
   "source": [
    "logging.info(f'son Particionados desde la derecha-> {palabra} => {palabra.rpartition(caracter)}')"
   ]
  },
  {
   "cell_type": "code",
   "execution_count": 157,
   "metadata": {},
   "outputs": [
    {
     "name": "stderr",
     "output_type": "stream",
     "text": [
      "2021-12-19 20:10:04 INFO: STRING GENERATED-> son Divididos en 1 parte adicional -> YGtdS#qEQVp#XemtN#AgGyZ#kUkUNYGtdS#qEQVp#XemtN#AgGyZ#kUkUN => ['YGtdS', 'qEQVp#XemtN#AgGyZ#kUkUNYGtdS#qEQVp#XemtN#AgGyZ#kUkUN']\n"
     ]
    }
   ],
   "source": [
    "logging.info(f'son Divididos en 1 parte adicional -> {palabra} => {palabra.split(caracter,1)}')"
   ]
  },
  {
   "cell_type": "code",
   "execution_count": 149,
   "metadata": {},
   "outputs": [
    {
     "name": "stderr",
     "output_type": "stream",
     "text": [
      "2021-12-19 20:07:51 INFO: STRING GENERATED-> son Divididos por caracter especifico -> V2|X`#R&T$m#Q!uZ6#N}n_+#Yrj;B##:LkD#3f\"pt#-FS.U#O?JhC#x<0*)#e~g91#c@o{^#iG'>v#,%A]s#4M/zWV2|X`#R&T$m#Q!uZ6#N}n_+#Yrj;B##:LkD#3f\"pt#-FS.U#O?JhC#x<0*)#e~g91#c@o{^#iG'>v#,%A]s#4M/zW => ['V2|X`', 'R&T$m', 'Q!uZ6', 'N}n_+', 'Yrj;B', '', ':LkD', '3f\"pt', '-FS.U', 'O?JhC', 'x<0*)', 'e~g91', 'c@o{^', \"iG'>v\", ',%A]s', '4M/zWV2|X`', 'R&T$m', 'Q!uZ6', 'N}n_+', 'Yrj;B', '', ':LkD', '3f\"pt', '-FS.U', 'O?JhC', 'x<0*)', 'e~g91', 'c@o{^', \"iG'>v\", ',%A]s', '4M/zW']\n"
     ]
    }
   ],
   "source": [
    "logging.info(f'son Divididos por caracter especifico -> {palabra} => {palabra.split(caracter)}')"
   ]
  },
  {
   "cell_type": "code",
   "execution_count": 150,
   "metadata": {},
   "outputs": [
    {
     "name": "stderr",
     "output_type": "stream",
     "text": [
      "2021-12-19 20:08:14 INFO: STRING GENERATED-> son Reemplazados por caracter especifico las veces definidas -> V2|X`#R&T$m#Q!uZ6#N}n_+#Yrj;B##:LkD#3f\"pt#-FS.U#O?JhC#x<0*)#e~g91#c@o{^#iG'>v#,%A]s#4M/zWV2|X`#R&T$m#Q!uZ6#N}n_+#Yrj;B##:LkD#3f\"pt#-FS.U#O?JhC#x<0*)#e~g91#c@o{^#iG'>v#,%A]s#4M/zW => V2|X`---NEW---R&T$m---NEW---Q!uZ6---NEW---N}n_+#Yrj;B##:LkD#3f\"pt#-FS.U#O?JhC#x<0*)#e~g91#c@o{^#iG'>v#,%A]s#4M/zWV2|X`#R&T$m#Q!uZ6#N}n_+#Yrj;B##:LkD#3f\"pt#-FS.U#O?JhC#x<0*)#e~g91#c@o{^#iG'>v#,%A]s#4M/zW\n"
     ]
    }
   ],
   "source": [
    "logging.info(f'son Reemplazados por caracter especifico las veces definidas -> {palabra} => {palabra.replace(caracter, \"---NEW---\", 3)}')"
   ]
  }
 ],
 "metadata": {
  "kernelspec": {
   "display_name": "Python 3",
   "language": "python",
   "name": "python3"
  },
  "language_info": {
   "codemirror_mode": {
    "name": "ipython",
    "version": 3
   },
   "file_extension": ".py",
   "mimetype": "text/x-python",
   "name": "python",
   "nbconvert_exporter": "python",
   "pygments_lexer": "ipython3",
   "version": "3.8.5"
  }
 },
 "nbformat": 4,
 "nbformat_minor": 4
}
