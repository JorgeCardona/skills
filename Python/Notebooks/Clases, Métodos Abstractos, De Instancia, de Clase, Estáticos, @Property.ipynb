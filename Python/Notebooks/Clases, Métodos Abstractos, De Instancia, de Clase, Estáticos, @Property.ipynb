{
 "cells": [
  {
   "cell_type": "code",
   "execution_count": 1,
   "metadata": {},
   "outputs": [
    {
     "data": {
      "text/html": [
       "<style>.container { width:100% !important; }</style>"
      ],
      "text/plain": [
       "<IPython.core.display.HTML object>"
      ]
     },
     "metadata": {},
     "output_type": "display_data"
    }
   ],
   "source": [
    "from IPython.core.display import display, HTML\n",
    "display(HTML(\"<style>.container { width:100% !important; }</style>\"))"
   ]
  },
  {
   "cell_type": "markdown",
   "metadata": {},
   "source": [
    "# <center> Clase Con Constructor Clasico </center> "
   ]
  },
  {
   "cell_type": "code",
   "execution_count": 2,
   "metadata": {},
   "outputs": [],
   "source": [
    "# https://docs.python.org/3/library/typing.html\n",
    "from typeguard import typechecked\n",
    "from typing import List\n",
    "\n",
    "@typechecked\n",
    "class ConstructorClasico:\n",
    "\n",
    "    def __init__(self, articulo: List[str], precio_unidad: float, cantidad_comprada: int = 0) -> None:        \n",
    "        self.articulo = articulo\n",
    "        self.precio_unidad = precio_unidad\n",
    "        self.cantidad_comprada = cantidad_comprada        \n",
    "        \n",
    "    def calcular_precio(self) -> float:\n",
    "        return str(self.precio_unidad * self.cantidad_comprada)\n",
    "    \n",
    "    def __str__(self):        \n",
    "        respuesta = \"ConstructorClasico(articulo=\" + str(self.articulo) + \", precio_unidad=\" + str(self.precio_unidad) + \" , cantidad_comprada=\" + str(self.cantidad_comprada) + \")\"\n",
    "        return respuesta"
   ]
  },
  {
   "cell_type": "code",
   "execution_count": 3,
   "metadata": {},
   "outputs": [
    {
     "data": {
      "text/plain": [
       "<__main__.ConstructorClasico at 0x24f30d9db20>"
      ]
     },
     "execution_count": 3,
     "metadata": {},
     "output_type": "execute_result"
    }
   ],
   "source": [
    "c = ConstructorClasico([\"Avion\"],800000000)\n",
    "c"
   ]
  },
  {
   "cell_type": "code",
   "execution_count": 4,
   "metadata": {},
   "outputs": [
    {
     "data": {
      "text/plain": [
       "<__main__.ConstructorClasico at 0x24f30d86100>"
      ]
     },
     "execution_count": 4,
     "metadata": {},
     "output_type": "execute_result"
    }
   ],
   "source": [
    "ConstructorClasico([\"Avion\"],800000000)"
   ]
  },
  {
   "cell_type": "code",
   "execution_count": 5,
   "metadata": {},
   "outputs": [
    {
     "name": "stdout",
     "output_type": "stream",
     "text": [
      "ConstructorClasico(articulo=['Avion'], precio_unidad=800000000 , cantidad_comprada=0)\n"
     ]
    }
   ],
   "source": [
    "print(c)"
   ]
  },
  {
   "cell_type": "code",
   "execution_count": 6,
   "metadata": {},
   "outputs": [
    {
     "data": {
      "text/plain": [
       "{'articulo': ['Avion'], 'precio_unidad': 800000000, 'cantidad_comprada': 0}"
      ]
     },
     "execution_count": 6,
     "metadata": {},
     "output_type": "execute_result"
    }
   ],
   "source": [
    "c.__dict__"
   ]
  },
  {
   "cell_type": "markdown",
   "metadata": {},
   "source": [
    "# <center> Clase sin Constructor Convencional </center> "
   ]
  },
  {
   "cell_type": "code",
   "execution_count": 7,
   "metadata": {},
   "outputs": [],
   "source": [
    "#from dataclasses import dataclass\n",
    "from typeguard import typechecked\n",
    "from pydantic.dataclasses import dataclass\n",
    "\n",
    "@dataclass\n",
    "class SinConstructorClasico:\n",
    "\n",
    "    articulo: str\n",
    "    precio_unidad: float\n",
    "    cantidad_comprada: int = 0\n",
    "\n",
    "    @typechecked\n",
    "    def calcular_precio(self, x:str) -> float:\n",
    "        return self.precio_unidad * self.cantidad_comprada"
   ]
  },
  {
   "cell_type": "code",
   "execution_count": 8,
   "metadata": {},
   "outputs": [
    {
     "ename": "TypeError",
     "evalue": "__init__() missing 2 required positional arguments: 'articulo' and 'precio_unidad'",
     "output_type": "error",
     "traceback": [
      "\u001b[1;31m---------------------------------------------------------------------------\u001b[0m",
      "\u001b[1;31mTypeError\u001b[0m                                 Traceback (most recent call last)",
      "\u001b[1;32m<ipython-input-8-0a9547568674>\u001b[0m in \u001b[0;36m<module>\u001b[1;34m\u001b[0m\n\u001b[1;32m----> 1\u001b[1;33m \u001b[0mSinConstructorClasico\u001b[0m\u001b[1;33m(\u001b[0m\u001b[1;33m)\u001b[0m\u001b[1;33m\u001b[0m\u001b[1;33m\u001b[0m\u001b[0m\n\u001b[0m",
      "\u001b[1;31mTypeError\u001b[0m: __init__() missing 2 required positional arguments: 'articulo' and 'precio_unidad'"
     ]
    }
   ],
   "source": [
    "SinConstructorClasico()"
   ]
  },
  {
   "cell_type": "code",
   "execution_count": null,
   "metadata": {},
   "outputs": [],
   "source": [
    "s  = SinConstructorClasico(\"Avion\",800000000,5)\n",
    "s"
   ]
  },
  {
   "cell_type": "code",
   "execution_count": 9,
   "metadata": {},
   "outputs": [
    {
     "ename": "NameError",
     "evalue": "name 's' is not defined",
     "output_type": "error",
     "traceback": [
      "\u001b[1;31m---------------------------------------------------------------------------\u001b[0m",
      "\u001b[1;31mNameError\u001b[0m                                 Traceback (most recent call last)",
      "\u001b[1;32m<ipython-input-9-d41d1482d03f>\u001b[0m in \u001b[0;36m<module>\u001b[1;34m\u001b[0m\n\u001b[1;32m----> 1\u001b[1;33m \u001b[0ms\u001b[0m\u001b[1;33m.\u001b[0m\u001b[0mcalcular_precio\u001b[0m\u001b[1;33m(\u001b[0m\u001b[1;34m\"4\"\u001b[0m\u001b[1;33m)\u001b[0m\u001b[1;33m\u001b[0m\u001b[1;33m\u001b[0m\u001b[0m\n\u001b[0m",
      "\u001b[1;31mNameError\u001b[0m: name 's' is not defined"
     ]
    }
   ],
   "source": [
    "s.calcular_precio(\"4\")"
   ]
  },
  {
   "cell_type": "markdown",
   "metadata": {},
   "source": [
    "# <center> Sobrecarga de Constructores </center> "
   ]
  },
  {
   "cell_type": "code",
   "execution_count": 10,
   "metadata": {},
   "outputs": [],
   "source": [
    "from multipledispatch import dispatch\n",
    "\n",
    "class Sobrecarga:\n",
    "    \n",
    "    @dispatch()\n",
    "    def __init__(self) -> None:        \n",
    "        print(\"Constructor Vacio\")\n",
    "    \n",
    "    @dispatch(int,str)\n",
    "    def __init__(self, parametro1:int, parametro2:str) -> None:        \n",
    "         print(\"Constructor Numerico - Texto\") \n",
    "    \n",
    "    @dispatch(list,dict,tuple)\n",
    "    def __init__(self, parametro1:list, parametro2:dict, parametro3:tuple) -> None:        \n",
    "        print(\"Constructor Lista, Diccionario, Iterador y Tupla\")      \n",
    "    \n",
    "    @dispatch()\n",
    "    def mensaje(self) -> str:        \n",
    "        return \"Sin parametros\"    \n",
    "\n",
    "    @dispatch(str)\n",
    "    def mensaje(self, mensaje:str) -> str:        \n",
    "        return \"Mensaje de texto -> \" + mensaje    \n",
    "    \n",
    "    @dispatch(int)\n",
    "    def mensaje(self, mensaje:int) -> int:        \n",
    "        return mensaje * 100\n",
    "\n",
    "    @dispatch(int,str)\n",
    "    def mensaje(self, mensaje1:int, mensaje2:int) -> str:        \n",
    "        return \"Mensaje doble parametro -> \" + str(mensaje1) + \"-\" + str(mensaje2)\n",
    "    \n",
    "    @property\n",
    "    def mensaje_property(self) -> str:        \n",
    "        return \"Mensaje doble parametro con decorador Property\" "
   ]
  },
  {
   "cell_type": "code",
   "execution_count": 11,
   "metadata": {},
   "outputs": [
    {
     "name": "stdout",
     "output_type": "stream",
     "text": [
      "Constructor Vacio\n"
     ]
    },
    {
     "data": {
      "text/plain": [
       "<__main__.Sobrecarga at 0x24f30f9d790>"
      ]
     },
     "execution_count": 11,
     "metadata": {},
     "output_type": "execute_result"
    }
   ],
   "source": [
    "Sobrecarga()"
   ]
  },
  {
   "cell_type": "code",
   "execution_count": 12,
   "metadata": {},
   "outputs": [
    {
     "ename": "NotImplementedError",
     "evalue": "Could not find signature for __init__: <str, int>",
     "output_type": "error",
     "traceback": [
      "\u001b[1;31m---------------------------------------------------------------------------\u001b[0m",
      "\u001b[1;31mNotImplementedError\u001b[0m                       Traceback (most recent call last)",
      "\u001b[1;32m<ipython-input-12-10976d6829f0>\u001b[0m in \u001b[0;36m<module>\u001b[1;34m\u001b[0m\n\u001b[1;32m----> 1\u001b[1;33m \u001b[0mSobrecarga\u001b[0m\u001b[1;33m(\u001b[0m\u001b[1;34m\"3\"\u001b[0m\u001b[1;33m,\u001b[0m\u001b[1;36m7\u001b[0m\u001b[1;33m)\u001b[0m\u001b[1;33m\u001b[0m\u001b[1;33m\u001b[0m\u001b[0m\n\u001b[0m",
      "\u001b[1;32m~\\anaconda3\\lib\\site-packages\\multipledispatch\\dispatcher.py\u001b[0m in \u001b[0;36m__call__\u001b[1;34m(self, *args, **kwargs)\u001b[0m\n\u001b[0;32m    431\u001b[0m         \u001b[0mfunc\u001b[0m \u001b[1;33m=\u001b[0m \u001b[0mself\u001b[0m\u001b[1;33m.\u001b[0m\u001b[0mdispatch\u001b[0m\u001b[1;33m(\u001b[0m\u001b[1;33m*\u001b[0m\u001b[0mtypes\u001b[0m\u001b[1;33m)\u001b[0m\u001b[1;33m\u001b[0m\u001b[1;33m\u001b[0m\u001b[0m\n\u001b[0;32m    432\u001b[0m         \u001b[1;32mif\u001b[0m \u001b[1;32mnot\u001b[0m \u001b[0mfunc\u001b[0m\u001b[1;33m:\u001b[0m\u001b[1;33m\u001b[0m\u001b[1;33m\u001b[0m\u001b[0m\n\u001b[1;32m--> 433\u001b[1;33m             raise NotImplementedError('Could not find signature for %s: <%s>' %\n\u001b[0m\u001b[0;32m    434\u001b[0m                                       (self.name, str_signature(types)))\n\u001b[0;32m    435\u001b[0m         \u001b[1;32mreturn\u001b[0m \u001b[0mfunc\u001b[0m\u001b[1;33m(\u001b[0m\u001b[0mself\u001b[0m\u001b[1;33m.\u001b[0m\u001b[0mobj\u001b[0m\u001b[1;33m,\u001b[0m \u001b[1;33m*\u001b[0m\u001b[0margs\u001b[0m\u001b[1;33m,\u001b[0m \u001b[1;33m**\u001b[0m\u001b[0mkwargs\u001b[0m\u001b[1;33m)\u001b[0m\u001b[1;33m\u001b[0m\u001b[1;33m\u001b[0m\u001b[0m\n",
      "\u001b[1;31mNotImplementedError\u001b[0m: Could not find signature for __init__: <str, int>"
     ]
    }
   ],
   "source": [
    "Sobrecarga(\"3\",7)"
   ]
  },
  {
   "cell_type": "code",
   "execution_count": 13,
   "metadata": {},
   "outputs": [
    {
     "name": "stdout",
     "output_type": "stream",
     "text": [
      "Constructor Numerico - Texto\n"
     ]
    },
    {
     "data": {
      "text/plain": [
       "<__main__.Sobrecarga at 0x24f30dd6b50>"
      ]
     },
     "execution_count": 13,
     "metadata": {},
     "output_type": "execute_result"
    }
   ],
   "source": [
    "Sobrecarga(3,\"texto\")"
   ]
  },
  {
   "cell_type": "code",
   "execution_count": 14,
   "metadata": {},
   "outputs": [
    {
     "name": "stdout",
     "output_type": "stream",
     "text": [
      "Constructor Vacio\n"
     ]
    },
    {
     "data": {
      "text/plain": [
       "'Sin parametros'"
      ]
     },
     "execution_count": 14,
     "metadata": {},
     "output_type": "execute_result"
    }
   ],
   "source": [
    "Sobrecarga().mensaje()"
   ]
  },
  {
   "cell_type": "code",
   "execution_count": 15,
   "metadata": {},
   "outputs": [
    {
     "name": "stdout",
     "output_type": "stream",
     "text": [
      "Constructor Vacio\n"
     ]
    },
    {
     "data": {
      "text/plain": [
       "'Mensaje doble parametro con decorador Property'"
      ]
     },
     "execution_count": 15,
     "metadata": {},
     "output_type": "execute_result"
    }
   ],
   "source": [
    "Sobrecarga().mensaje_property"
   ]
  },
  {
   "cell_type": "code",
   "execution_count": 16,
   "metadata": {},
   "outputs": [
    {
     "data": {
      "text/plain": [
       "<property at 0x24f3114f720>"
      ]
     },
     "execution_count": 16,
     "metadata": {},
     "output_type": "execute_result"
    }
   ],
   "source": [
    "Sobrecarga.mensaje_property"
   ]
  },
  {
   "cell_type": "code",
   "execution_count": 17,
   "metadata": {},
   "outputs": [
    {
     "name": "stdout",
     "output_type": "stream",
     "text": [
      "Constructor Lista, Diccionario, Iterador y Tupla\n"
     ]
    },
    {
     "data": {
      "text/plain": [
       "<__main__.Sobrecarga at 0x24f30f9de20>"
      ]
     },
     "execution_count": 17,
     "metadata": {},
     "output_type": "execute_result"
    }
   ],
   "source": [
    "Sobrecarga([],{},())"
   ]
  },
  {
   "cell_type": "code",
   "execution_count": 18,
   "metadata": {},
   "outputs": [
    {
     "name": "stdout",
     "output_type": "stream",
     "text": [
      "Constructor Vacio\n"
     ]
    },
    {
     "data": {
      "text/plain": [
       "'Sin parametros'"
      ]
     },
     "execution_count": 18,
     "metadata": {},
     "output_type": "execute_result"
    }
   ],
   "source": [
    "Sobrecarga().mensaje()"
   ]
  },
  {
   "cell_type": "code",
   "execution_count": 19,
   "metadata": {},
   "outputs": [
    {
     "name": "stdout",
     "output_type": "stream",
     "text": [
      "Constructor Vacio\n"
     ]
    },
    {
     "data": {
      "text/plain": [
       "'Mensaje de texto -> Sobrecarga texto'"
      ]
     },
     "execution_count": 19,
     "metadata": {},
     "output_type": "execute_result"
    }
   ],
   "source": [
    "Sobrecarga().mensaje(\"Sobrecarga texto\")"
   ]
  },
  {
   "cell_type": "code",
   "execution_count": 20,
   "metadata": {},
   "outputs": [
    {
     "name": "stdout",
     "output_type": "stream",
     "text": [
      "Constructor Vacio\n"
     ]
    },
    {
     "data": {
      "text/plain": [
       "200"
      ]
     },
     "execution_count": 20,
     "metadata": {},
     "output_type": "execute_result"
    }
   ],
   "source": [
    "Sobrecarga().mensaje(2)"
   ]
  },
  {
   "cell_type": "code",
   "execution_count": 21,
   "metadata": {},
   "outputs": [
    {
     "name": "stdout",
     "output_type": "stream",
     "text": [
      "Constructor Vacio\n"
     ]
    },
    {
     "data": {
      "text/plain": [
       "'Mensaje doble parametro -> 2-otro parametro'"
      ]
     },
     "execution_count": 21,
     "metadata": {},
     "output_type": "execute_result"
    }
   ],
   "source": [
    "Sobrecarga().mensaje(2,\"otro parametro\")"
   ]
  },
  {
   "cell_type": "markdown",
   "metadata": {},
   "source": [
    "# <center> Metodos Abstractos </center> "
   ]
  },
  {
   "cell_type": "code",
   "execution_count": 22,
   "metadata": {},
   "outputs": [],
   "source": [
    "from abc import ABC, abstractmethod\n",
    "\n",
    "class MetodosAbstractos(ABC):\n",
    "    \n",
    "    @abstractmethod\n",
    "    def metodo_abstracto_uno(self, x:int) -> int:\n",
    "        pass\n",
    "\n",
    "    @abstractmethod\n",
    "    def metodo_abstracto_dos(self, x:int, y:int) -> int:\n",
    "        pass"
   ]
  },
  {
   "cell_type": "code",
   "execution_count": 23,
   "metadata": {},
   "outputs": [
    {
     "ename": "TypeError",
     "evalue": "Can't instantiate abstract class MetodosAbstractos with abstract methods metodo_abstracto_dos, metodo_abstracto_uno",
     "output_type": "error",
     "traceback": [
      "\u001b[1;31m---------------------------------------------------------------------------\u001b[0m",
      "\u001b[1;31mTypeError\u001b[0m                                 Traceback (most recent call last)",
      "\u001b[1;32m<ipython-input-23-8aaa9b13c5c6>\u001b[0m in \u001b[0;36m<module>\u001b[1;34m\u001b[0m\n\u001b[1;32m----> 1\u001b[1;33m \u001b[0mMetodosAbstractos\u001b[0m\u001b[1;33m(\u001b[0m\u001b[1;33m)\u001b[0m\u001b[1;33m\u001b[0m\u001b[1;33m\u001b[0m\u001b[0m\n\u001b[0m",
      "\u001b[1;31mTypeError\u001b[0m: Can't instantiate abstract class MetodosAbstractos with abstract methods metodo_abstracto_dos, metodo_abstracto_uno"
     ]
    }
   ],
   "source": [
    "MetodosAbstractos()"
   ]
  },
  {
   "cell_type": "code",
   "execution_count": 24,
   "metadata": {},
   "outputs": [],
   "source": [
    "class implementaMetodosAbstractos(MetodosAbstractos):    \n",
    "        \n",
    "    def __init__(self):\n",
    "        pass\n",
    "    \n",
    "    def otro_metodo(lista:list)-> int:\n",
    "        return len(lista)"
   ]
  },
  {
   "cell_type": "code",
   "execution_count": 25,
   "metadata": {},
   "outputs": [
    {
     "ename": "TypeError",
     "evalue": "Can't instantiate abstract class implementaMetodosAbstractos with abstract methods metodo_abstracto_dos, metodo_abstracto_uno",
     "output_type": "error",
     "traceback": [
      "\u001b[1;31m---------------------------------------------------------------------------\u001b[0m",
      "\u001b[1;31mTypeError\u001b[0m                                 Traceback (most recent call last)",
      "\u001b[1;32m<ipython-input-25-960883dc6dc9>\u001b[0m in \u001b[0;36m<module>\u001b[1;34m\u001b[0m\n\u001b[1;32m----> 1\u001b[1;33m \u001b[0mimplementaMetodosAbstractos\u001b[0m\u001b[1;33m(\u001b[0m\u001b[1;33m)\u001b[0m\u001b[1;33m\u001b[0m\u001b[1;33m\u001b[0m\u001b[0m\n\u001b[0m",
      "\u001b[1;31mTypeError\u001b[0m: Can't instantiate abstract class implementaMetodosAbstractos with abstract methods metodo_abstracto_dos, metodo_abstracto_uno"
     ]
    }
   ],
   "source": [
    "implementaMetodosAbstractos()"
   ]
  },
  {
   "cell_type": "code",
   "execution_count": 26,
   "metadata": {},
   "outputs": [],
   "source": [
    "from typeguard import typechecked\n",
    "\n",
    "@typechecked\n",
    "class implementaMetodosAbstractos(MetodosAbstractos):    \n",
    "        \n",
    "    def __init__(self):\n",
    "        pass\n",
    "    \n",
    "    def metodo_abstracto_uno(self, x:int) -> int:\n",
    "        return x*8\n",
    "\n",
    "    def metodo_abstracto_dos(self, x:int, y:int) -> int:\n",
    "        return (x*5) + (y*7)\n",
    "    \n",
    "    def otro_metodo(self, lista:list)-> int:\n",
    "        return sum(lista)"
   ]
  },
  {
   "cell_type": "code",
   "execution_count": 27,
   "metadata": {},
   "outputs": [
    {
     "ename": "TypeError",
     "evalue": "type of argument \"x\" must be int; got str instead",
     "output_type": "error",
     "traceback": [
      "\u001b[1;31m---------------------------------------------------------------------------\u001b[0m",
      "\u001b[1;31mTypeError\u001b[0m                                 Traceback (most recent call last)",
      "\u001b[1;32m<ipython-input-27-a41fef02f95a>\u001b[0m in \u001b[0;36m<module>\u001b[1;34m\u001b[0m\n\u001b[1;32m----> 1\u001b[1;33m \u001b[0mimplementaMetodosAbstractos\u001b[0m\u001b[1;33m(\u001b[0m\u001b[1;33m)\u001b[0m\u001b[1;33m.\u001b[0m\u001b[0mmetodo_abstracto_uno\u001b[0m\u001b[1;33m(\u001b[0m\u001b[1;34m\"4\"\u001b[0m\u001b[1;33m)\u001b[0m\u001b[1;33m\u001b[0m\u001b[1;33m\u001b[0m\u001b[0m\n\u001b[0m",
      "\u001b[1;32m~\\anaconda3\\lib\\site-packages\\typeguard\\__init__.py\u001b[0m in \u001b[0;36mwrapper\u001b[1;34m(*args, **kwargs)\u001b[0m\n\u001b[0;32m   1012\u001b[0m     \u001b[1;32mdef\u001b[0m \u001b[0mwrapper\u001b[0m\u001b[1;33m(\u001b[0m\u001b[1;33m*\u001b[0m\u001b[0margs\u001b[0m\u001b[1;33m,\u001b[0m \u001b[1;33m**\u001b[0m\u001b[0mkwargs\u001b[0m\u001b[1;33m)\u001b[0m\u001b[1;33m:\u001b[0m\u001b[1;33m\u001b[0m\u001b[1;33m\u001b[0m\u001b[0m\n\u001b[0;32m   1013\u001b[0m         \u001b[0mmemo\u001b[0m \u001b[1;33m=\u001b[0m \u001b[0m_CallMemo\u001b[0m\u001b[1;33m(\u001b[0m\u001b[0mpython_func\u001b[0m\u001b[1;33m,\u001b[0m \u001b[0m_localns\u001b[0m\u001b[1;33m,\u001b[0m \u001b[0margs\u001b[0m\u001b[1;33m=\u001b[0m\u001b[0margs\u001b[0m\u001b[1;33m,\u001b[0m \u001b[0mkwargs\u001b[0m\u001b[1;33m=\u001b[0m\u001b[0mkwargs\u001b[0m\u001b[1;33m)\u001b[0m\u001b[1;33m\u001b[0m\u001b[1;33m\u001b[0m\u001b[0m\n\u001b[1;32m-> 1014\u001b[1;33m         \u001b[0mcheck_argument_types\u001b[0m\u001b[1;33m(\u001b[0m\u001b[0mmemo\u001b[0m\u001b[1;33m)\u001b[0m\u001b[1;33m\u001b[0m\u001b[1;33m\u001b[0m\u001b[0m\n\u001b[0m\u001b[0;32m   1015\u001b[0m         \u001b[0mretval\u001b[0m \u001b[1;33m=\u001b[0m \u001b[0mfunc\u001b[0m\u001b[1;33m(\u001b[0m\u001b[1;33m*\u001b[0m\u001b[0margs\u001b[0m\u001b[1;33m,\u001b[0m \u001b[1;33m**\u001b[0m\u001b[0mkwargs\u001b[0m\u001b[1;33m)\u001b[0m\u001b[1;33m\u001b[0m\u001b[1;33m\u001b[0m\u001b[0m\n\u001b[0;32m   1016\u001b[0m         \u001b[1;32mtry\u001b[0m\u001b[1;33m:\u001b[0m\u001b[1;33m\u001b[0m\u001b[1;33m\u001b[0m\u001b[0m\n",
      "\u001b[1;32m~\\anaconda3\\lib\\site-packages\\typeguard\\__init__.py\u001b[0m in \u001b[0;36mcheck_argument_types\u001b[1;34m(memo)\u001b[0m\n\u001b[0;32m    855\u001b[0m                 \u001b[0mcheck_type\u001b[0m\u001b[1;33m(\u001b[0m\u001b[0mdescription\u001b[0m\u001b[1;33m,\u001b[0m \u001b[0mvalue\u001b[0m\u001b[1;33m,\u001b[0m \u001b[0mexpected_type\u001b[0m\u001b[1;33m,\u001b[0m \u001b[0mmemo\u001b[0m\u001b[1;33m)\u001b[0m\u001b[1;33m\u001b[0m\u001b[1;33m\u001b[0m\u001b[0m\n\u001b[0;32m    856\u001b[0m             \u001b[1;32mexcept\u001b[0m \u001b[0mTypeError\u001b[0m \u001b[1;32mas\u001b[0m \u001b[0mexc\u001b[0m\u001b[1;33m:\u001b[0m  \u001b[1;31m# suppress unnecessarily long tracebacks\u001b[0m\u001b[1;33m\u001b[0m\u001b[1;33m\u001b[0m\u001b[0m\n\u001b[1;32m--> 857\u001b[1;33m                 \u001b[1;32mraise\u001b[0m \u001b[0mTypeError\u001b[0m\u001b[1;33m(\u001b[0m\u001b[1;33m*\u001b[0m\u001b[0mexc\u001b[0m\u001b[1;33m.\u001b[0m\u001b[0margs\u001b[0m\u001b[1;33m)\u001b[0m \u001b[1;32mfrom\u001b[0m \u001b[1;32mNone\u001b[0m\u001b[1;33m\u001b[0m\u001b[1;33m\u001b[0m\u001b[0m\n\u001b[0m\u001b[0;32m    858\u001b[0m \u001b[1;33m\u001b[0m\u001b[0m\n\u001b[0;32m    859\u001b[0m     \u001b[1;32mreturn\u001b[0m \u001b[1;32mTrue\u001b[0m\u001b[1;33m\u001b[0m\u001b[1;33m\u001b[0m\u001b[0m\n",
      "\u001b[1;31mTypeError\u001b[0m: type of argument \"x\" must be int; got str instead"
     ]
    }
   ],
   "source": [
    "implementaMetodosAbstractos().metodo_abstracto_uno(\"4\")"
   ]
  },
  {
   "cell_type": "code",
   "execution_count": 28,
   "metadata": {},
   "outputs": [
    {
     "data": {
      "text/plain": [
       "56"
      ]
     },
     "execution_count": 28,
     "metadata": {},
     "output_type": "execute_result"
    }
   ],
   "source": [
    "implementaMetodosAbstractos().metodo_abstracto_uno(7)"
   ]
  },
  {
   "cell_type": "code",
   "execution_count": 29,
   "metadata": {},
   "outputs": [
    {
     "data": {
      "text/plain": [
       "55"
      ]
     },
     "execution_count": 29,
     "metadata": {},
     "output_type": "execute_result"
    }
   ],
   "source": [
    "implementaMetodosAbstractos().metodo_abstracto_dos(4,5)"
   ]
  },
  {
   "cell_type": "code",
   "execution_count": 30,
   "metadata": {},
   "outputs": [
    {
     "data": {
      "text/plain": [
       "4950"
      ]
     },
     "execution_count": 30,
     "metadata": {},
     "output_type": "execute_result"
    }
   ],
   "source": [
    "listado = [i for i in range(100)]\n",
    "implementaMetodosAbstractos().otro_metodo(listado)"
   ]
  },
  {
   "cell_type": "markdown",
   "metadata": {},
   "source": [
    "# <center> Metodos de Instancia </center> "
   ]
  },
  {
   "cell_type": "code",
   "execution_count": 31,
   "metadata": {},
   "outputs": [],
   "source": [
    "class MetodosDeInstancia:\n",
    "    \n",
    "    variable_de_clase = \"Variable De Clase\"\n",
    "   \n",
    "    @classmethod\n",
    "    def metodo_de_clase(cls):\n",
    "        return 'Metodo de clase fue Llamado', cls    \n",
    "\n",
    "    @staticmethod\n",
    "    def metodo_estatico():\n",
    "        return 'Metodo Estatico 0 fue Llamado'\n",
    "    \n",
    "    @property\n",
    "    def metodo_property(self):\n",
    "        return 'Metodo convertido en propiedad'  \n",
    "    \n",
    "    def __init__(self):        \n",
    "        self.uno, self.dos, self.tres = 1, 2, 3\n",
    "        \n",
    "    def metodo_de_instancia_variable_de_clase(self):\n",
    "        return 'Metodo de Instancia Variable de Clase fue Llamado', self.variable_de_clase\n",
    "    \n",
    "    def metodo_de_instancia_variable_de_instancia(self):\n",
    "        return 'Metodo de Instancia Variable de Instancia fue Llamado', self.__dict__, self.uno\n",
    "\n",
    "    def metodo_de_instancia_llamando_metodo_property(self):\n",
    "        return 'Metodo de Instancia MetodoProperty fue Llamado', self.metodo_property\n",
    "    \n",
    "    def metodo_de_instancia_llamando_metodo_de_instancia_variable_de_instancia(self):\n",
    "        return 'Metodo de Instancia Llamando otro Metodo de Instancia fue Llamado', self.metodo_de_instancia_variable_de_instancia(), self.dos, self.tres\n",
    "\n",
    "    def metodo_de_instancia_llamando_metodo_de_clase(self):\n",
    "        return 'Metodo de Instancia Llamando Metodo de Clase fue Llamado', self.metodo_de_clase()\n",
    "    \n",
    "    def metodo_de_instancia_llamando_metodo_estatico(self):\n",
    "        return 'Metodo de Instancia Llamando Metodo Estatico fue Llamado', self.metodo_estatico() "
   ]
  },
  {
   "cell_type": "code",
   "execution_count": 32,
   "metadata": {},
   "outputs": [
    {
     "data": {
      "text/plain": [
       "'Variable De Clase'"
      ]
     },
     "execution_count": 32,
     "metadata": {},
     "output_type": "execute_result"
    }
   ],
   "source": [
    "MetodosDeInstancia.variable_de_clase"
   ]
  },
  {
   "cell_type": "code",
   "execution_count": 33,
   "metadata": {},
   "outputs": [
    {
     "data": {
      "text/plain": [
       "('Metodo de Instancia Variable de Clase fue Llamado', 'Variable De Clase')"
      ]
     },
     "execution_count": 33,
     "metadata": {},
     "output_type": "execute_result"
    }
   ],
   "source": [
    "MetodosDeInstancia().metodo_de_instancia_variable_de_clase()"
   ]
  },
  {
   "cell_type": "code",
   "execution_count": 34,
   "metadata": {},
   "outputs": [
    {
     "data": {
      "text/plain": [
       "('Metodo de Instancia Variable de Instancia fue Llamado',\n",
       " {'uno': 1, 'dos': 2, 'tres': 3},\n",
       " 1)"
      ]
     },
     "execution_count": 34,
     "metadata": {},
     "output_type": "execute_result"
    }
   ],
   "source": [
    "MetodosDeInstancia().metodo_de_instancia_variable_de_instancia()"
   ]
  },
  {
   "cell_type": "code",
   "execution_count": 35,
   "metadata": {},
   "outputs": [
    {
     "data": {
      "text/plain": [
       "('Metodo de Instancia MetodoProperty fue Llamado',\n",
       " 'Metodo convertido en propiedad')"
      ]
     },
     "execution_count": 35,
     "metadata": {},
     "output_type": "execute_result"
    }
   ],
   "source": [
    "MetodosDeInstancia().metodo_de_instancia_llamando_metodo_property()"
   ]
  },
  {
   "cell_type": "code",
   "execution_count": 36,
   "metadata": {},
   "outputs": [
    {
     "data": {
      "text/plain": [
       "('Metodo de Instancia Llamando otro Metodo de Instancia fue Llamado',\n",
       " ('Metodo de Instancia Variable de Instancia fue Llamado',\n",
       "  {'uno': 1, 'dos': 2, 'tres': 3},\n",
       "  1),\n",
       " 2,\n",
       " 3)"
      ]
     },
     "execution_count": 36,
     "metadata": {},
     "output_type": "execute_result"
    }
   ],
   "source": [
    "MetodosDeInstancia().metodo_de_instancia_llamando_metodo_de_instancia_variable_de_instancia()"
   ]
  },
  {
   "cell_type": "code",
   "execution_count": 37,
   "metadata": {},
   "outputs": [
    {
     "data": {
      "text/plain": [
       "('Metodo de Instancia Llamando Metodo de Clase fue Llamado',\n",
       " ('Metodo de clase fue Llamado', __main__.MetodosDeInstancia))"
      ]
     },
     "execution_count": 37,
     "metadata": {},
     "output_type": "execute_result"
    }
   ],
   "source": [
    "MetodosDeInstancia().metodo_de_instancia_llamando_metodo_de_clase()"
   ]
  },
  {
   "cell_type": "code",
   "execution_count": 38,
   "metadata": {},
   "outputs": [
    {
     "data": {
      "text/plain": [
       "('Metodo de Instancia Llamando Metodo Estatico fue Llamado',\n",
       " 'Metodo Estatico 0 fue Llamado')"
      ]
     },
     "execution_count": 38,
     "metadata": {},
     "output_type": "execute_result"
    }
   ],
   "source": [
    "MetodosDeInstancia().metodo_de_instancia_llamando_metodo_estatico()"
   ]
  },
  {
   "cell_type": "markdown",
   "metadata": {},
   "source": [
    "# <center> Metodos de Clase </center> "
   ]
  },
  {
   "cell_type": "code",
   "execution_count": 39,
   "metadata": {},
   "outputs": [],
   "source": [
    "class MetodosDeClase:\n",
    "    \n",
    "    variable_de_clase = \"Variable De Clase\"    \n",
    "\n",
    "    @staticmethod\n",
    "    def metodo_estatico():\n",
    "        return 'Metodo Estatico fue Llamado'\n",
    "    \n",
    "    @classmethod\n",
    "    def metodo_de_clase(cls):\n",
    "        return 'Metodo de clase fue Llamado', cls\n",
    "    \n",
    "    @property\n",
    "    def metodo_property(self):\n",
    "        return 'Metodo convertido en propiedad'  \n",
    "    \n",
    "    def __init__(self):        \n",
    "        self.uno, self.dos, self.tres = 1, 2, 3\n",
    "        \n",
    "    def metodo_de_instancia(self):\n",
    "        return 'Metodo de Instancia fue Llamado', self.uno, self.dos, self.tres\n",
    "    \n",
    "    @classmethod\n",
    "    def metodo_de_clase_variable_de_clase(cls):\n",
    "        return 'Metodo de clase Variable de Clase fue Llamado', cls.variable_de_clase    \n",
    "\n",
    "    @classmethod\n",
    "    def metodo_de_clase_variable_de_instancia(cls):\n",
    "        return 'Metodo de clase Variable de Instancia fue Llamado', cls.uno, cls.dos, cls.tres\n",
    "    \n",
    "    @classmethod\n",
    "    def metodo_de_clase_llamando_metodo_property(cls):\n",
    "        return 'Metodo de clase MetodoProperty fue Llamado', cls.metodo_property\n",
    "    \n",
    "    @classmethod\n",
    "    def metodo_de_clase_llamando_metodo_de_instancia(cls):\n",
    "        return 'Metodo de clase llamando metodo de Instancia fue Llamado', cls.metodo_de_instancia()    \n",
    "\n",
    "    @classmethod\n",
    "    def metodo_de_clase_llamando_metodo_de_clase(cls):\n",
    "        return 'Metodo de clase llamando metodo de clase fue Llamado', cls.metodo_de_clase()\n",
    "    \n",
    "    @classmethod\n",
    "    def metodo_de_clase_llamando_metodo_estatico(cls):\n",
    "        return 'Metodo de clase llamando metodo estatico fue Llamado', cls.metodo_estatico() \n",
    "    \n",
    "    @classmethod\n",
    "    def metodo_de_clase_creando_instancia_de_clase(cls):\n",
    "        return 'Metodo de clase creando Instancia para acceder a metodos de Instancia', MetodosDeClase().metodo_de_instancia()"
   ]
  },
  {
   "cell_type": "code",
   "execution_count": 40,
   "metadata": {},
   "outputs": [
    {
     "data": {
      "text/plain": [
       "'Variable De Clase'"
      ]
     },
     "execution_count": 40,
     "metadata": {},
     "output_type": "execute_result"
    }
   ],
   "source": [
    "MetodosDeClase.variable_de_clase"
   ]
  },
  {
   "cell_type": "code",
   "execution_count": 41,
   "metadata": {},
   "outputs": [
    {
     "data": {
      "text/plain": [
       "('Metodo de clase Variable de Clase fue Llamado', 'Variable De Clase')"
      ]
     },
     "execution_count": 41,
     "metadata": {},
     "output_type": "execute_result"
    }
   ],
   "source": [
    "MetodosDeClase.metodo_de_clase_variable_de_clase()"
   ]
  },
  {
   "cell_type": "code",
   "execution_count": 42,
   "metadata": {},
   "outputs": [
    {
     "ename": "AttributeError",
     "evalue": "type object 'MetodosDeClase' has no attribute 'uno'",
     "output_type": "error",
     "traceback": [
      "\u001b[1;31m---------------------------------------------------------------------------\u001b[0m",
      "\u001b[1;31mAttributeError\u001b[0m                            Traceback (most recent call last)",
      "\u001b[1;32m<ipython-input-42-9378123d5dfa>\u001b[0m in \u001b[0;36m<module>\u001b[1;34m\u001b[0m\n\u001b[1;32m----> 1\u001b[1;33m \u001b[0mMetodosDeClase\u001b[0m\u001b[1;33m.\u001b[0m\u001b[0mmetodo_de_clase_variable_de_instancia\u001b[0m\u001b[1;33m(\u001b[0m\u001b[1;33m)\u001b[0m\u001b[1;33m\u001b[0m\u001b[1;33m\u001b[0m\u001b[0m\n\u001b[0m",
      "\u001b[1;32m<ipython-input-39-cc2cb138d8dc>\u001b[0m in \u001b[0;36mmetodo_de_clase_variable_de_instancia\u001b[1;34m(cls)\u001b[0m\n\u001b[0;32m     27\u001b[0m     \u001b[1;33m@\u001b[0m\u001b[0mclassmethod\u001b[0m\u001b[1;33m\u001b[0m\u001b[1;33m\u001b[0m\u001b[0m\n\u001b[0;32m     28\u001b[0m     \u001b[1;32mdef\u001b[0m \u001b[0mmetodo_de_clase_variable_de_instancia\u001b[0m\u001b[1;33m(\u001b[0m\u001b[0mcls\u001b[0m\u001b[1;33m)\u001b[0m\u001b[1;33m:\u001b[0m\u001b[1;33m\u001b[0m\u001b[1;33m\u001b[0m\u001b[0m\n\u001b[1;32m---> 29\u001b[1;33m         \u001b[1;32mreturn\u001b[0m \u001b[1;34m'Metodo de clase Variable de Instancia fue Llamado'\u001b[0m\u001b[1;33m,\u001b[0m \u001b[0mcls\u001b[0m\u001b[1;33m.\u001b[0m\u001b[0muno\u001b[0m\u001b[1;33m,\u001b[0m \u001b[0mcls\u001b[0m\u001b[1;33m.\u001b[0m\u001b[0mdos\u001b[0m\u001b[1;33m,\u001b[0m \u001b[0mcls\u001b[0m\u001b[1;33m.\u001b[0m\u001b[0mtres\u001b[0m\u001b[1;33m\u001b[0m\u001b[1;33m\u001b[0m\u001b[0m\n\u001b[0m\u001b[0;32m     30\u001b[0m \u001b[1;33m\u001b[0m\u001b[0m\n\u001b[0;32m     31\u001b[0m     \u001b[1;33m@\u001b[0m\u001b[0mclassmethod\u001b[0m\u001b[1;33m\u001b[0m\u001b[1;33m\u001b[0m\u001b[0m\n",
      "\u001b[1;31mAttributeError\u001b[0m: type object 'MetodosDeClase' has no attribute 'uno'"
     ]
    }
   ],
   "source": [
    "MetodosDeClase.metodo_de_clase_variable_de_instancia()"
   ]
  },
  {
   "cell_type": "code",
   "execution_count": 43,
   "metadata": {},
   "outputs": [
    {
     "ename": "TypeError",
     "evalue": "metodo_de_instancia() missing 1 required positional argument: 'self'",
     "output_type": "error",
     "traceback": [
      "\u001b[1;31m---------------------------------------------------------------------------\u001b[0m",
      "\u001b[1;31mTypeError\u001b[0m                                 Traceback (most recent call last)",
      "\u001b[1;32m<ipython-input-43-17f9ca8c6217>\u001b[0m in \u001b[0;36m<module>\u001b[1;34m\u001b[0m\n\u001b[1;32m----> 1\u001b[1;33m \u001b[0mMetodosDeClase\u001b[0m\u001b[1;33m.\u001b[0m\u001b[0mmetodo_de_clase_llamando_metodo_de_instancia\u001b[0m\u001b[1;33m(\u001b[0m\u001b[1;33m)\u001b[0m\u001b[1;33m\u001b[0m\u001b[1;33m\u001b[0m\u001b[0m\n\u001b[0m",
      "\u001b[1;32m<ipython-input-39-cc2cb138d8dc>\u001b[0m in \u001b[0;36mmetodo_de_clase_llamando_metodo_de_instancia\u001b[1;34m(cls)\u001b[0m\n\u001b[0;32m     35\u001b[0m     \u001b[1;33m@\u001b[0m\u001b[0mclassmethod\u001b[0m\u001b[1;33m\u001b[0m\u001b[1;33m\u001b[0m\u001b[0m\n\u001b[0;32m     36\u001b[0m     \u001b[1;32mdef\u001b[0m \u001b[0mmetodo_de_clase_llamando_metodo_de_instancia\u001b[0m\u001b[1;33m(\u001b[0m\u001b[0mcls\u001b[0m\u001b[1;33m)\u001b[0m\u001b[1;33m:\u001b[0m\u001b[1;33m\u001b[0m\u001b[1;33m\u001b[0m\u001b[0m\n\u001b[1;32m---> 37\u001b[1;33m         \u001b[1;32mreturn\u001b[0m \u001b[1;34m'Metodo de clase llamando metodo de Instancia fue Llamado'\u001b[0m\u001b[1;33m,\u001b[0m \u001b[0mcls\u001b[0m\u001b[1;33m.\u001b[0m\u001b[0mmetodo_de_instancia\u001b[0m\u001b[1;33m(\u001b[0m\u001b[1;33m)\u001b[0m\u001b[1;33m\u001b[0m\u001b[1;33m\u001b[0m\u001b[0m\n\u001b[0m\u001b[0;32m     38\u001b[0m \u001b[1;33m\u001b[0m\u001b[0m\n\u001b[0;32m     39\u001b[0m     \u001b[1;33m@\u001b[0m\u001b[0mclassmethod\u001b[0m\u001b[1;33m\u001b[0m\u001b[1;33m\u001b[0m\u001b[0m\n",
      "\u001b[1;31mTypeError\u001b[0m: metodo_de_instancia() missing 1 required positional argument: 'self'"
     ]
    }
   ],
   "source": [
    "MetodosDeClase.metodo_de_clase_llamando_metodo_de_instancia()"
   ]
  },
  {
   "cell_type": "code",
   "execution_count": 44,
   "metadata": {},
   "outputs": [
    {
     "data": {
      "text/plain": [
       "('Metodo de clase MetodoProperty fue Llamado', <property at 0x24f311f3e50>)"
      ]
     },
     "execution_count": 44,
     "metadata": {},
     "output_type": "execute_result"
    }
   ],
   "source": [
    "MetodosDeClase.metodo_de_clase_llamando_metodo_property()"
   ]
  },
  {
   "cell_type": "code",
   "execution_count": 45,
   "metadata": {},
   "outputs": [
    {
     "data": {
      "text/plain": [
       "('Metodo de clase llamando metodo de clase fue Llamado',\n",
       " ('Metodo de clase fue Llamado', __main__.MetodosDeClase))"
      ]
     },
     "execution_count": 45,
     "metadata": {},
     "output_type": "execute_result"
    }
   ],
   "source": [
    "MetodosDeClase.metodo_de_clase_llamando_metodo_de_clase()"
   ]
  },
  {
   "cell_type": "code",
   "execution_count": 46,
   "metadata": {},
   "outputs": [
    {
     "data": {
      "text/plain": [
       "('Metodo de clase llamando metodo estatico fue Llamado',\n",
       " 'Metodo Estatico fue Llamado')"
      ]
     },
     "execution_count": 46,
     "metadata": {},
     "output_type": "execute_result"
    }
   ],
   "source": [
    "MetodosDeClase.metodo_de_clase_llamando_metodo_estatico()"
   ]
  },
  {
   "cell_type": "code",
   "execution_count": 47,
   "metadata": {},
   "outputs": [
    {
     "data": {
      "text/plain": [
       "('Metodo de clase creando Instancia para acceder a metodos de Instancia',\n",
       " ('Metodo de Instancia fue Llamado', 1, 2, 3))"
      ]
     },
     "execution_count": 47,
     "metadata": {},
     "output_type": "execute_result"
    }
   ],
   "source": [
    "MetodosDeClase.metodo_de_clase_creando_instancia_de_clase()"
   ]
  },
  {
   "cell_type": "markdown",
   "metadata": {},
   "source": [
    "# <center> Metodos Estaticos </center> "
   ]
  },
  {
   "cell_type": "code",
   "execution_count": 48,
   "metadata": {},
   "outputs": [],
   "source": [
    "class MetodoEstaticos:\n",
    "    \n",
    "    variable_de_clase = \"Variable De Clase\"    \n",
    "\n",
    "    @staticmethod\n",
    "    def metodo_estatico():\n",
    "        return 'Metodo Estatico fue Llamado'\n",
    "    \n",
    "    @classmethod\n",
    "    def metodo_de_clase(cls):\n",
    "        return 'Metodo de clase fue Llamado', cls\n",
    "    \n",
    "    @property\n",
    "    def metodo_property(self):\n",
    "        return 'Metodo convertido en propiedad'  \n",
    "    \n",
    "    def __init__(self):        \n",
    "        self.uno, self.dos, self.tres = 1, 2, 3\n",
    "        \n",
    "    def metodo_de_instancia(self):\n",
    "        return 'Metodo de Instancia fue Llamado', self.uno, self.dos, self.tres\n",
    "    \n",
    "    @staticmethod\n",
    "    def metodo_estatico_variable_de_clase():\n",
    "        return 'Metodo Estatico Variable de Clase fue Llamado', variable_de_clase    \n",
    "\n",
    "    @staticmethod\n",
    "    def metodo_estatico_variable_de_instancia():\n",
    "        return 'Metodo Estatico Variable de Instancia fue Llamado', uno, dos, tres   \n",
    "\n",
    "    @staticmethod\n",
    "    def metodo_estatico_llamando_metodo_property():\n",
    "        return 'MetodoEstatico MetodoProperty fue Llamado', metodo_property\n",
    "    \n",
    "    @staticmethod\n",
    "    def metodo_estatico_llamando_metodo_de_instancia():\n",
    "        return 'Metodo Estatico llamando metodo de Instancia fue Llamado', metodo_de_instancia()    \n",
    "\n",
    "    @staticmethod\n",
    "    def metodo_estatico_llamando_metodo_de_clase():\n",
    "        return 'Metodo Estatico llamando metodo de clase fue Llamado', metodo_de_clase()\n",
    "    \n",
    "    @staticmethod\n",
    "    def metodo_estatico_llamando_metodo_estatico():\n",
    "        return 'Metodo Estatico llamando metodo estatico fue Llamado', metodo_estatico() \n",
    "    \n",
    "    @staticmethod\n",
    "    def metodo_estatico_creando_instancia_de_clase_metodo_de_instancia():\n",
    "        return 'Metodo Estatico creando Instancia para acceder a metodos de Instancia fue Llamado', MetodoEstaticos().metodo_de_instancia() \n",
    "    \n",
    "    @staticmethod\n",
    "    def metodo_estatico_usando_la_clase_para_acceder_a_metodo_de_clase():\n",
    "        return 'Metodo Estatico Usando Clase para llamar metodos de clase fue Llamado', MetodoEstaticos().metodo_de_clase()    \n",
    "\n",
    "    @staticmethod\n",
    "    def metodo_estatico_usando_la_clase_para_acceder_a_metodo_estatico():\n",
    "        return 'Metodo Estatico Usando Clase para llamar metodos estaticos fue Llamado', MetodoEstaticos().metodo_estatico() "
   ]
  },
  {
   "cell_type": "code",
   "execution_count": 49,
   "metadata": {},
   "outputs": [
    {
     "ename": "NameError",
     "evalue": "name 'variable_de_clase' is not defined",
     "output_type": "error",
     "traceback": [
      "\u001b[1;31m---------------------------------------------------------------------------\u001b[0m",
      "\u001b[1;31mNameError\u001b[0m                                 Traceback (most recent call last)",
      "\u001b[1;32m<ipython-input-49-dde913caed92>\u001b[0m in \u001b[0;36m<module>\u001b[1;34m\u001b[0m\n\u001b[1;32m----> 1\u001b[1;33m \u001b[0mMetodoEstaticos\u001b[0m\u001b[1;33m.\u001b[0m\u001b[0mmetodo_estatico_variable_de_clase\u001b[0m\u001b[1;33m(\u001b[0m\u001b[1;33m)\u001b[0m\u001b[1;33m\u001b[0m\u001b[1;33m\u001b[0m\u001b[0m\n\u001b[0m",
      "\u001b[1;32m<ipython-input-48-afb9e1cda958>\u001b[0m in \u001b[0;36mmetodo_estatico_variable_de_clase\u001b[1;34m()\u001b[0m\n\u001b[0;32m     23\u001b[0m     \u001b[1;33m@\u001b[0m\u001b[0mstaticmethod\u001b[0m\u001b[1;33m\u001b[0m\u001b[1;33m\u001b[0m\u001b[0m\n\u001b[0;32m     24\u001b[0m     \u001b[1;32mdef\u001b[0m \u001b[0mmetodo_estatico_variable_de_clase\u001b[0m\u001b[1;33m(\u001b[0m\u001b[1;33m)\u001b[0m\u001b[1;33m:\u001b[0m\u001b[1;33m\u001b[0m\u001b[1;33m\u001b[0m\u001b[0m\n\u001b[1;32m---> 25\u001b[1;33m         \u001b[1;32mreturn\u001b[0m \u001b[1;34m'Metodo Estatico Variable de Clase fue Llamado'\u001b[0m\u001b[1;33m,\u001b[0m \u001b[0mvariable_de_clase\u001b[0m\u001b[1;33m\u001b[0m\u001b[1;33m\u001b[0m\u001b[0m\n\u001b[0m\u001b[0;32m     26\u001b[0m \u001b[1;33m\u001b[0m\u001b[0m\n\u001b[0;32m     27\u001b[0m     \u001b[1;33m@\u001b[0m\u001b[0mstaticmethod\u001b[0m\u001b[1;33m\u001b[0m\u001b[1;33m\u001b[0m\u001b[0m\n",
      "\u001b[1;31mNameError\u001b[0m: name 'variable_de_clase' is not defined"
     ]
    }
   ],
   "source": [
    "MetodoEstaticos.metodo_estatico_variable_de_clase()"
   ]
  },
  {
   "cell_type": "code",
   "execution_count": 50,
   "metadata": {},
   "outputs": [
    {
     "ename": "NameError",
     "evalue": "name 'uno' is not defined",
     "output_type": "error",
     "traceback": [
      "\u001b[1;31m---------------------------------------------------------------------------\u001b[0m",
      "\u001b[1;31mNameError\u001b[0m                                 Traceback (most recent call last)",
      "\u001b[1;32m<ipython-input-50-b743d0756a9f>\u001b[0m in \u001b[0;36m<module>\u001b[1;34m\u001b[0m\n\u001b[1;32m----> 1\u001b[1;33m \u001b[0mMetodoEstaticos\u001b[0m\u001b[1;33m.\u001b[0m\u001b[0mmetodo_estatico_variable_de_instancia\u001b[0m\u001b[1;33m(\u001b[0m\u001b[1;33m)\u001b[0m\u001b[1;33m\u001b[0m\u001b[1;33m\u001b[0m\u001b[0m\n\u001b[0m",
      "\u001b[1;32m<ipython-input-48-afb9e1cda958>\u001b[0m in \u001b[0;36mmetodo_estatico_variable_de_instancia\u001b[1;34m()\u001b[0m\n\u001b[0;32m     27\u001b[0m     \u001b[1;33m@\u001b[0m\u001b[0mstaticmethod\u001b[0m\u001b[1;33m\u001b[0m\u001b[1;33m\u001b[0m\u001b[0m\n\u001b[0;32m     28\u001b[0m     \u001b[1;32mdef\u001b[0m \u001b[0mmetodo_estatico_variable_de_instancia\u001b[0m\u001b[1;33m(\u001b[0m\u001b[1;33m)\u001b[0m\u001b[1;33m:\u001b[0m\u001b[1;33m\u001b[0m\u001b[1;33m\u001b[0m\u001b[0m\n\u001b[1;32m---> 29\u001b[1;33m         \u001b[1;32mreturn\u001b[0m \u001b[1;34m'Metodo Estatico Variable de Instancia fue Llamado'\u001b[0m\u001b[1;33m,\u001b[0m \u001b[0muno\u001b[0m\u001b[1;33m,\u001b[0m \u001b[0mdos\u001b[0m\u001b[1;33m,\u001b[0m \u001b[0mtres\u001b[0m\u001b[1;33m\u001b[0m\u001b[1;33m\u001b[0m\u001b[0m\n\u001b[0m\u001b[0;32m     30\u001b[0m \u001b[1;33m\u001b[0m\u001b[0m\n\u001b[0;32m     31\u001b[0m     \u001b[1;33m@\u001b[0m\u001b[0mstaticmethod\u001b[0m\u001b[1;33m\u001b[0m\u001b[1;33m\u001b[0m\u001b[0m\n",
      "\u001b[1;31mNameError\u001b[0m: name 'uno' is not defined"
     ]
    }
   ],
   "source": [
    "MetodoEstaticos.metodo_estatico_variable_de_instancia()"
   ]
  },
  {
   "cell_type": "code",
   "execution_count": 51,
   "metadata": {},
   "outputs": [
    {
     "ename": "NameError",
     "evalue": "name 'metodo_property' is not defined",
     "output_type": "error",
     "traceback": [
      "\u001b[1;31m---------------------------------------------------------------------------\u001b[0m",
      "\u001b[1;31mNameError\u001b[0m                                 Traceback (most recent call last)",
      "\u001b[1;32m<ipython-input-51-e685ea7cd9a3>\u001b[0m in \u001b[0;36m<module>\u001b[1;34m\u001b[0m\n\u001b[1;32m----> 1\u001b[1;33m \u001b[0mMetodoEstaticos\u001b[0m\u001b[1;33m.\u001b[0m\u001b[0mmetodo_estatico_llamando_metodo_property\u001b[0m\u001b[1;33m(\u001b[0m\u001b[1;33m)\u001b[0m\u001b[1;33m\u001b[0m\u001b[1;33m\u001b[0m\u001b[0m\n\u001b[0m",
      "\u001b[1;32m<ipython-input-48-afb9e1cda958>\u001b[0m in \u001b[0;36mmetodo_estatico_llamando_metodo_property\u001b[1;34m()\u001b[0m\n\u001b[0;32m     31\u001b[0m     \u001b[1;33m@\u001b[0m\u001b[0mstaticmethod\u001b[0m\u001b[1;33m\u001b[0m\u001b[1;33m\u001b[0m\u001b[0m\n\u001b[0;32m     32\u001b[0m     \u001b[1;32mdef\u001b[0m \u001b[0mmetodo_estatico_llamando_metodo_property\u001b[0m\u001b[1;33m(\u001b[0m\u001b[1;33m)\u001b[0m\u001b[1;33m:\u001b[0m\u001b[1;33m\u001b[0m\u001b[1;33m\u001b[0m\u001b[0m\n\u001b[1;32m---> 33\u001b[1;33m         \u001b[1;32mreturn\u001b[0m \u001b[1;34m'MetodoEstatico MetodoProperty fue Llamado'\u001b[0m\u001b[1;33m,\u001b[0m \u001b[0mmetodo_property\u001b[0m\u001b[1;33m\u001b[0m\u001b[1;33m\u001b[0m\u001b[0m\n\u001b[0m\u001b[0;32m     34\u001b[0m \u001b[1;33m\u001b[0m\u001b[0m\n\u001b[0;32m     35\u001b[0m     \u001b[1;33m@\u001b[0m\u001b[0mstaticmethod\u001b[0m\u001b[1;33m\u001b[0m\u001b[1;33m\u001b[0m\u001b[0m\n",
      "\u001b[1;31mNameError\u001b[0m: name 'metodo_property' is not defined"
     ]
    }
   ],
   "source": [
    "MetodoEstaticos.metodo_estatico_llamando_metodo_property()"
   ]
  },
  {
   "cell_type": "code",
   "execution_count": 52,
   "metadata": {},
   "outputs": [
    {
     "ename": "NameError",
     "evalue": "name 'metodo_de_instancia' is not defined",
     "output_type": "error",
     "traceback": [
      "\u001b[1;31m---------------------------------------------------------------------------\u001b[0m",
      "\u001b[1;31mNameError\u001b[0m                                 Traceback (most recent call last)",
      "\u001b[1;32m<ipython-input-52-b6b70666952a>\u001b[0m in \u001b[0;36m<module>\u001b[1;34m\u001b[0m\n\u001b[1;32m----> 1\u001b[1;33m \u001b[0mMetodoEstaticos\u001b[0m\u001b[1;33m.\u001b[0m\u001b[0mmetodo_estatico_llamando_metodo_de_instancia\u001b[0m\u001b[1;33m(\u001b[0m\u001b[1;33m)\u001b[0m\u001b[1;33m\u001b[0m\u001b[1;33m\u001b[0m\u001b[0m\n\u001b[0m",
      "\u001b[1;32m<ipython-input-48-afb9e1cda958>\u001b[0m in \u001b[0;36mmetodo_estatico_llamando_metodo_de_instancia\u001b[1;34m()\u001b[0m\n\u001b[0;32m     35\u001b[0m     \u001b[1;33m@\u001b[0m\u001b[0mstaticmethod\u001b[0m\u001b[1;33m\u001b[0m\u001b[1;33m\u001b[0m\u001b[0m\n\u001b[0;32m     36\u001b[0m     \u001b[1;32mdef\u001b[0m \u001b[0mmetodo_estatico_llamando_metodo_de_instancia\u001b[0m\u001b[1;33m(\u001b[0m\u001b[1;33m)\u001b[0m\u001b[1;33m:\u001b[0m\u001b[1;33m\u001b[0m\u001b[1;33m\u001b[0m\u001b[0m\n\u001b[1;32m---> 37\u001b[1;33m         \u001b[1;32mreturn\u001b[0m \u001b[1;34m'Metodo Estatico llamando metodo de Instancia fue Llamado'\u001b[0m\u001b[1;33m,\u001b[0m \u001b[0mmetodo_de_instancia\u001b[0m\u001b[1;33m(\u001b[0m\u001b[1;33m)\u001b[0m\u001b[1;33m\u001b[0m\u001b[1;33m\u001b[0m\u001b[0m\n\u001b[0m\u001b[0;32m     38\u001b[0m \u001b[1;33m\u001b[0m\u001b[0m\n\u001b[0;32m     39\u001b[0m     \u001b[1;33m@\u001b[0m\u001b[0mstaticmethod\u001b[0m\u001b[1;33m\u001b[0m\u001b[1;33m\u001b[0m\u001b[0m\n",
      "\u001b[1;31mNameError\u001b[0m: name 'metodo_de_instancia' is not defined"
     ]
    }
   ],
   "source": [
    "MetodoEstaticos.metodo_estatico_llamando_metodo_de_instancia()"
   ]
  },
  {
   "cell_type": "code",
   "execution_count": 53,
   "metadata": {},
   "outputs": [
    {
     "ename": "NameError",
     "evalue": "name 'metodo_de_clase' is not defined",
     "output_type": "error",
     "traceback": [
      "\u001b[1;31m---------------------------------------------------------------------------\u001b[0m",
      "\u001b[1;31mNameError\u001b[0m                                 Traceback (most recent call last)",
      "\u001b[1;32m<ipython-input-53-1e0c826a958b>\u001b[0m in \u001b[0;36m<module>\u001b[1;34m\u001b[0m\n\u001b[1;32m----> 1\u001b[1;33m \u001b[0mMetodoEstaticos\u001b[0m\u001b[1;33m.\u001b[0m\u001b[0mmetodo_estatico_llamando_metodo_de_clase\u001b[0m\u001b[1;33m(\u001b[0m\u001b[1;33m)\u001b[0m\u001b[1;33m\u001b[0m\u001b[1;33m\u001b[0m\u001b[0m\n\u001b[0m",
      "\u001b[1;32m<ipython-input-48-afb9e1cda958>\u001b[0m in \u001b[0;36mmetodo_estatico_llamando_metodo_de_clase\u001b[1;34m()\u001b[0m\n\u001b[0;32m     39\u001b[0m     \u001b[1;33m@\u001b[0m\u001b[0mstaticmethod\u001b[0m\u001b[1;33m\u001b[0m\u001b[1;33m\u001b[0m\u001b[0m\n\u001b[0;32m     40\u001b[0m     \u001b[1;32mdef\u001b[0m \u001b[0mmetodo_estatico_llamando_metodo_de_clase\u001b[0m\u001b[1;33m(\u001b[0m\u001b[1;33m)\u001b[0m\u001b[1;33m:\u001b[0m\u001b[1;33m\u001b[0m\u001b[1;33m\u001b[0m\u001b[0m\n\u001b[1;32m---> 41\u001b[1;33m         \u001b[1;32mreturn\u001b[0m \u001b[1;34m'Metodo Estatico llamando metodo de clase fue Llamado'\u001b[0m\u001b[1;33m,\u001b[0m \u001b[0mmetodo_de_clase\u001b[0m\u001b[1;33m(\u001b[0m\u001b[1;33m)\u001b[0m\u001b[1;33m\u001b[0m\u001b[1;33m\u001b[0m\u001b[0m\n\u001b[0m\u001b[0;32m     42\u001b[0m \u001b[1;33m\u001b[0m\u001b[0m\n\u001b[0;32m     43\u001b[0m     \u001b[1;33m@\u001b[0m\u001b[0mstaticmethod\u001b[0m\u001b[1;33m\u001b[0m\u001b[1;33m\u001b[0m\u001b[0m\n",
      "\u001b[1;31mNameError\u001b[0m: name 'metodo_de_clase' is not defined"
     ]
    }
   ],
   "source": [
    "MetodoEstaticos.metodo_estatico_llamando_metodo_de_clase()"
   ]
  },
  {
   "cell_type": "code",
   "execution_count": 54,
   "metadata": {},
   "outputs": [
    {
     "ename": "NameError",
     "evalue": "name 'metodo_estatico' is not defined",
     "output_type": "error",
     "traceback": [
      "\u001b[1;31m---------------------------------------------------------------------------\u001b[0m",
      "\u001b[1;31mNameError\u001b[0m                                 Traceback (most recent call last)",
      "\u001b[1;32m<ipython-input-54-8f7c119d3e6e>\u001b[0m in \u001b[0;36m<module>\u001b[1;34m\u001b[0m\n\u001b[1;32m----> 1\u001b[1;33m \u001b[0mMetodoEstaticos\u001b[0m\u001b[1;33m.\u001b[0m\u001b[0mmetodo_estatico_llamando_metodo_estatico\u001b[0m\u001b[1;33m(\u001b[0m\u001b[1;33m)\u001b[0m\u001b[1;33m\u001b[0m\u001b[1;33m\u001b[0m\u001b[0m\n\u001b[0m",
      "\u001b[1;32m<ipython-input-48-afb9e1cda958>\u001b[0m in \u001b[0;36mmetodo_estatico_llamando_metodo_estatico\u001b[1;34m()\u001b[0m\n\u001b[0;32m     43\u001b[0m     \u001b[1;33m@\u001b[0m\u001b[0mstaticmethod\u001b[0m\u001b[1;33m\u001b[0m\u001b[1;33m\u001b[0m\u001b[0m\n\u001b[0;32m     44\u001b[0m     \u001b[1;32mdef\u001b[0m \u001b[0mmetodo_estatico_llamando_metodo_estatico\u001b[0m\u001b[1;33m(\u001b[0m\u001b[1;33m)\u001b[0m\u001b[1;33m:\u001b[0m\u001b[1;33m\u001b[0m\u001b[1;33m\u001b[0m\u001b[0m\n\u001b[1;32m---> 45\u001b[1;33m         \u001b[1;32mreturn\u001b[0m \u001b[1;34m'Metodo Estatico llamando metodo estatico fue Llamado'\u001b[0m\u001b[1;33m,\u001b[0m \u001b[0mmetodo_estatico\u001b[0m\u001b[1;33m(\u001b[0m\u001b[1;33m)\u001b[0m\u001b[1;33m\u001b[0m\u001b[1;33m\u001b[0m\u001b[0m\n\u001b[0m\u001b[0;32m     46\u001b[0m \u001b[1;33m\u001b[0m\u001b[0m\n\u001b[0;32m     47\u001b[0m     \u001b[1;33m@\u001b[0m\u001b[0mstaticmethod\u001b[0m\u001b[1;33m\u001b[0m\u001b[1;33m\u001b[0m\u001b[0m\n",
      "\u001b[1;31mNameError\u001b[0m: name 'metodo_estatico' is not defined"
     ]
    }
   ],
   "source": [
    "MetodoEstaticos.metodo_estatico_llamando_metodo_estatico()"
   ]
  },
  {
   "cell_type": "code",
   "execution_count": 55,
   "metadata": {},
   "outputs": [
    {
     "data": {
      "text/plain": [
       "('Metodo Estatico creando Instancia para acceder a metodos de Instancia fue Llamado',\n",
       " ('Metodo de Instancia fue Llamado', 1, 2, 3))"
      ]
     },
     "execution_count": 55,
     "metadata": {},
     "output_type": "execute_result"
    }
   ],
   "source": [
    "MetodoEstaticos.metodo_estatico_creando_instancia_de_clase_metodo_de_instancia()"
   ]
  },
  {
   "cell_type": "code",
   "execution_count": 56,
   "metadata": {},
   "outputs": [
    {
     "data": {
      "text/plain": [
       "('Metodo Estatico Usando Clase para llamar metodos de clase fue Llamado',\n",
       " ('Metodo de clase fue Llamado', __main__.MetodoEstaticos))"
      ]
     },
     "execution_count": 56,
     "metadata": {},
     "output_type": "execute_result"
    }
   ],
   "source": [
    "MetodoEstaticos.metodo_estatico_usando_la_clase_para_acceder_a_metodo_de_clase()"
   ]
  },
  {
   "cell_type": "code",
   "execution_count": 57,
   "metadata": {},
   "outputs": [
    {
     "data": {
      "text/plain": [
       "('Metodo Estatico Usando Clase para llamar metodos estaticos fue Llamado',\n",
       " 'Metodo Estatico fue Llamado')"
      ]
     },
     "execution_count": 57,
     "metadata": {},
     "output_type": "execute_result"
    }
   ],
   "source": [
    "MetodoEstaticos.metodo_estatico_usando_la_clase_para_acceder_a_metodo_estatico()"
   ]
  }
 ],
 "metadata": {
  "kernelspec": {
   "display_name": "Python 3",
   "language": "python",
   "name": "python3"
  },
  "language_info": {
   "codemirror_mode": {
    "name": "ipython",
    "version": 3
   },
   "file_extension": ".py",
   "mimetype": "text/x-python",
   "name": "python",
   "nbconvert_exporter": "python",
   "pygments_lexer": "ipython3",
   "version": "3.8.5"
  }
 },
 "nbformat": 4,
 "nbformat_minor": 4
}
