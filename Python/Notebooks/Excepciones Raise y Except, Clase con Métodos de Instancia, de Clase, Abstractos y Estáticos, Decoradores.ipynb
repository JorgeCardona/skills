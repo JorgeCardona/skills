{
 "cells": [
  {
   "cell_type": "markdown",
   "metadata": {},
   "source": [
    "# <center> Configuración Global del NOTEBOOK</center> "
   ]
  },
  {
   "cell_type": "code",
   "execution_count": 1,
   "metadata": {},
   "outputs": [
    {
     "data": {
      "text/html": [
       "<style>.container { width:100% !important; }</style>"
      ],
      "text/plain": [
       "<IPython.core.display.HTML object>"
      ]
     },
     "metadata": {},
     "output_type": "display_data"
    }
   ],
   "source": [
    "from IPython.core.display import display, HTML\n",
    "display(HTML(\"<style>.container { width:100% !important; }</style>\"))"
   ]
  },
  {
   "cell_type": "markdown",
   "metadata": {},
   "source": [
    "# <center> Validación Atributos y Propiedades de Clase </center>"
   ]
  },
  {
   "cell_type": "code",
   "execution_count": 2,
   "metadata": {},
   "outputs": [],
   "source": [
    "class ValidarAtributos:\n",
    "    \n",
    "    numero = 0\n",
    "    lista = [1,2,3,4,5]\n",
    "    booleano = True\n",
    "    diccionario = dict()\n",
    "    \n",
    "    def validar (self, x, y):\n",
    "        \n",
    "        self.x = x\n",
    "        self.y = y\n",
    "        \n",
    "        \n",
    "    def sfxt():\n",
    "        pass"
   ]
  },
  {
   "cell_type": "code",
   "execution_count": 3,
   "metadata": {},
   "outputs": [
    {
     "data": {
      "text/plain": [
       "True"
      ]
     },
     "execution_count": 3,
     "metadata": {},
     "output_type": "execute_result"
    }
   ],
   "source": [
    "hasattr(ValidarAtributos, 'validar')"
   ]
  },
  {
   "cell_type": "code",
   "execution_count": 4,
   "metadata": {},
   "outputs": [
    {
     "data": {
      "text/plain": [
       "False"
      ]
     },
     "execution_count": 4,
     "metadata": {},
     "output_type": "execute_result"
    }
   ],
   "source": [
    "hasattr(ValidarAtributos, 'x')"
   ]
  },
  {
   "cell_type": "code",
   "execution_count": 5,
   "metadata": {},
   "outputs": [
    {
     "data": {
      "text/plain": [
       "True"
      ]
     },
     "execution_count": 5,
     "metadata": {},
     "output_type": "execute_result"
    }
   ],
   "source": [
    "hasattr(ValidarAtributos, 'booleano')"
   ]
  },
  {
   "cell_type": "code",
   "execution_count": 6,
   "metadata": {},
   "outputs": [
    {
     "data": {
      "text/plain": [
       "[1, 2, 3, 4, 5]"
      ]
     },
     "execution_count": 6,
     "metadata": {},
     "output_type": "execute_result"
    }
   ],
   "source": [
    "getattr(ValidarAtributos,'lista')"
   ]
  },
  {
   "cell_type": "code",
   "execution_count": 7,
   "metadata": {},
   "outputs": [
    {
     "data": {
      "text/plain": [
       "False"
      ]
     },
     "execution_count": 7,
     "metadata": {},
     "output_type": "execute_result"
    }
   ],
   "source": [
    "hasattr(ValidarAtributos, 'matrix')"
   ]
  },
  {
   "cell_type": "code",
   "execution_count": 8,
   "metadata": {},
   "outputs": [
    {
     "ename": "AttributeError",
     "evalue": "type object 'ValidarAtributos' has no attribute 'vector'",
     "output_type": "error",
     "traceback": [
      "\u001b[1;31m---------------------------------------------------------------------------\u001b[0m",
      "\u001b[1;31mAttributeError\u001b[0m                            Traceback (most recent call last)",
      "\u001b[1;32m<ipython-input-8-9b5a18e83632>\u001b[0m in \u001b[0;36m<module>\u001b[1;34m\u001b[0m\n\u001b[1;32m----> 1\u001b[1;33m \u001b[0mgetattr\u001b[0m\u001b[1;33m(\u001b[0m\u001b[0mValidarAtributos\u001b[0m\u001b[1;33m,\u001b[0m\u001b[1;34m'vector'\u001b[0m\u001b[1;33m)\u001b[0m\u001b[1;33m\u001b[0m\u001b[1;33m\u001b[0m\u001b[0m\n\u001b[0m",
      "\u001b[1;31mAttributeError\u001b[0m: type object 'ValidarAtributos' has no attribute 'vector'"
     ]
    }
   ],
   "source": [
    "getattr(ValidarAtributos,'vector')"
   ]
  },
  {
   "cell_type": "markdown",
   "metadata": {},
   "source": [
    "# <center> Jerarquía de Excepciones </center>"
   ]
  },
  {
   "cell_type": "markdown",
   "metadata": {},
   "source": [
    "![image](excepciones.png)"
   ]
  },
  {
   "cell_type": "markdown",
   "metadata": {},
   "source": [
    "# <center> Error de Sintaxis, Error de Nombre, Error Semántico y Error de Ejecución o Excepción </center>"
   ]
  },
  {
   "cell_type": "code",
   "execution_count": 9,
   "metadata": {},
   "outputs": [
    {
     "ename": "SyntaxError",
     "evalue": "invalid syntax (<ipython-input-9-e641d4e5c04f>, line 1)",
     "output_type": "error",
     "traceback": [
      "\u001b[1;36m  File \u001b[1;32m\"<ipython-input-9-e641d4e5c04f>\"\u001b[1;36m, line \u001b[1;32m1\u001b[0m\n\u001b[1;33m    defs sintaxis():\u001b[0m\n\u001b[1;37m         ^\u001b[0m\n\u001b[1;31mSyntaxError\u001b[0m\u001b[1;31m:\u001b[0m invalid syntax\n"
     ]
    }
   ],
   "source": [
    "defs sintaxis():\n",
    "    return None"
   ]
  },
  {
   "cell_type": "code",
   "execution_count": 10,
   "metadata": {},
   "outputs": [
    {
     "ename": "SyntaxError",
     "evalue": "unexpected EOF while parsing (<ipython-input-10-20d28b29cc70>, line 1)",
     "output_type": "error",
     "traceback": [
      "\u001b[1;36m  File \u001b[1;32m\"<ipython-input-10-20d28b29cc70>\"\u001b[1;36m, line \u001b[1;32m1\u001b[0m\n\u001b[1;33m    print(\"Sintaxis\"\u001b[0m\n\u001b[1;37m                    ^\u001b[0m\n\u001b[1;31mSyntaxError\u001b[0m\u001b[1;31m:\u001b[0m unexpected EOF while parsing\n"
     ]
    }
   ],
   "source": [
    "print(\"Sintaxis\""
   ]
  },
  {
   "cell_type": "markdown",
   "metadata": {},
   "source": [
    "# <center> Error Semántico</center>"
   ]
  },
  {
   "cell_type": "code",
   "execution_count": 11,
   "metadata": {},
   "outputs": [
    {
     "ename": "IndexError",
     "evalue": "pop from empty list",
     "output_type": "error",
     "traceback": [
      "\u001b[1;31m---------------------------------------------------------------------------\u001b[0m",
      "\u001b[1;31mIndexError\u001b[0m                                Traceback (most recent call last)",
      "\u001b[1;32m<ipython-input-11-76526bb3778d>\u001b[0m in \u001b[0;36m<module>\u001b[1;34m\u001b[0m\n\u001b[0;32m      1\u001b[0m \u001b[1;31m# Estos errores son muy difíciles de identificar porque van ligados al sentido del funcionamiento y dependen de la situación.\u001b[0m\u001b[1;33m\u001b[0m\u001b[1;33m\u001b[0m\u001b[1;33m\u001b[0m\u001b[0m\n\u001b[0;32m      2\u001b[0m \u001b[0mlista\u001b[0m \u001b[1;33m=\u001b[0m \u001b[1;33m[\u001b[0m\u001b[1;33m]\u001b[0m\u001b[1;33m\u001b[0m\u001b[1;33m\u001b[0m\u001b[0m\n\u001b[1;32m----> 3\u001b[1;33m \u001b[0mlista\u001b[0m\u001b[1;33m.\u001b[0m\u001b[0mpop\u001b[0m\u001b[1;33m(\u001b[0m\u001b[1;33m)\u001b[0m\u001b[1;33m\u001b[0m\u001b[1;33m\u001b[0m\u001b[0m\n\u001b[0m",
      "\u001b[1;31mIndexError\u001b[0m: pop from empty list"
     ]
    }
   ],
   "source": [
    "# Estos errores son muy difíciles de identificar porque van ligados al sentido del funcionamiento y dependen de la situación.\n",
    "lista = []\n",
    "lista.pop()"
   ]
  },
  {
   "cell_type": "code",
   "execution_count": 12,
   "metadata": {},
   "outputs": [
    {
     "name": "stdout",
     "output_type": "stream",
     "text": [
      "Ingresa un número: t\n"
     ]
    },
    {
     "ename": "ValueError",
     "evalue": "could not convert string to float: 't'",
     "output_type": "error",
     "traceback": [
      "\u001b[1;31m---------------------------------------------------------------------------\u001b[0m",
      "\u001b[1;31mValueError\u001b[0m                                Traceback (most recent call last)",
      "\u001b[1;32m<ipython-input-12-b1feaf969cf3>\u001b[0m in \u001b[0;36m<module>\u001b[1;34m\u001b[0m\n\u001b[1;32m----> 1\u001b[1;33m \u001b[0mn\u001b[0m \u001b[1;33m=\u001b[0m \u001b[0mfloat\u001b[0m\u001b[1;33m(\u001b[0m\u001b[0minput\u001b[0m\u001b[1;33m(\u001b[0m\u001b[1;34m\"Ingresa un número: \"\u001b[0m\u001b[1;33m)\u001b[0m\u001b[1;33m)\u001b[0m\u001b[1;33m\u001b[0m\u001b[1;33m\u001b[0m\u001b[0m\n\u001b[0m",
      "\u001b[1;31mValueError\u001b[0m: could not convert string to float: 't'"
     ]
    }
   ],
   "source": [
    "n = float(input(\"Ingresa un número: \"))"
   ]
  },
  {
   "cell_type": "code",
   "execution_count": 13,
   "metadata": {},
   "outputs": [
    {
     "ename": "NameError",
     "evalue": "name 'y' is not defined",
     "output_type": "error",
     "traceback": [
      "\u001b[1;31m---------------------------------------------------------------------------\u001b[0m",
      "\u001b[1;31mNameError\u001b[0m                                 Traceback (most recent call last)",
      "\u001b[1;32m<ipython-input-13-857abdc0e5c9>\u001b[0m in \u001b[0;36m<module>\u001b[1;34m\u001b[0m\n\u001b[0;32m      2\u001b[0m     \u001b[1;32mreturn\u001b[0m \u001b[0my\u001b[0m\u001b[1;33m\u001b[0m\u001b[1;33m\u001b[0m\u001b[0m\n\u001b[0;32m      3\u001b[0m \u001b[1;33m\u001b[0m\u001b[0m\n\u001b[1;32m----> 4\u001b[1;33m \u001b[0merror_nombre\u001b[0m\u001b[1;33m(\u001b[0m\u001b[1;33m)\u001b[0m\u001b[1;33m\u001b[0m\u001b[1;33m\u001b[0m\u001b[0m\n\u001b[0m",
      "\u001b[1;32m<ipython-input-13-857abdc0e5c9>\u001b[0m in \u001b[0;36merror_nombre\u001b[1;34m()\u001b[0m\n\u001b[0;32m      1\u001b[0m \u001b[1;32mdef\u001b[0m \u001b[0merror_nombre\u001b[0m\u001b[1;33m(\u001b[0m\u001b[1;33m)\u001b[0m\u001b[1;33m:\u001b[0m\u001b[1;33m\u001b[0m\u001b[1;33m\u001b[0m\u001b[0m\n\u001b[1;32m----> 2\u001b[1;33m     \u001b[1;32mreturn\u001b[0m \u001b[0my\u001b[0m\u001b[1;33m\u001b[0m\u001b[1;33m\u001b[0m\u001b[0m\n\u001b[0m\u001b[0;32m      3\u001b[0m \u001b[1;33m\u001b[0m\u001b[0m\n\u001b[0;32m      4\u001b[0m \u001b[0merror_nombre\u001b[0m\u001b[1;33m(\u001b[0m\u001b[1;33m)\u001b[0m\u001b[1;33m\u001b[0m\u001b[1;33m\u001b[0m\u001b[0m\n",
      "\u001b[1;31mNameError\u001b[0m: name 'y' is not defined"
     ]
    }
   ],
   "source": [
    "def error_nombre():\n",
    "    return y\n",
    "\n",
    "error_nombre()"
   ]
  },
  {
   "cell_type": "code",
   "execution_count": 14,
   "metadata": {},
   "outputs": [
    {
     "ename": "UnboundLocalError",
     "evalue": "local variable 'x' referenced before assignment",
     "output_type": "error",
     "traceback": [
      "\u001b[1;31m---------------------------------------------------------------------------\u001b[0m",
      "\u001b[1;31mUnboundLocalError\u001b[0m                         Traceback (most recent call last)",
      "\u001b[1;32m<ipython-input-14-7a3ef4e2bd8e>\u001b[0m in \u001b[0;36m<module>\u001b[1;34m\u001b[0m\n\u001b[0;32m      4\u001b[0m     \u001b[1;32mreturn\u001b[0m \u001b[0mx\u001b[0m\u001b[1;33m\u001b[0m\u001b[1;33m\u001b[0m\u001b[0m\n\u001b[0;32m      5\u001b[0m \u001b[1;33m\u001b[0m\u001b[0m\n\u001b[1;32m----> 6\u001b[1;33m \u001b[0mscope\u001b[0m\u001b[1;33m(\u001b[0m\u001b[1;33m)\u001b[0m\u001b[1;33m\u001b[0m\u001b[1;33m\u001b[0m\u001b[0m\n\u001b[0m",
      "\u001b[1;32m<ipython-input-14-7a3ef4e2bd8e>\u001b[0m in \u001b[0;36mscope\u001b[1;34m()\u001b[0m\n\u001b[0;32m      1\u001b[0m \u001b[0mx\u001b[0m \u001b[1;33m=\u001b[0m \u001b[1;36m10\u001b[0m\u001b[1;33m\u001b[0m\u001b[1;33m\u001b[0m\u001b[0m\n\u001b[0;32m      2\u001b[0m \u001b[1;32mdef\u001b[0m \u001b[0mscope\u001b[0m\u001b[1;33m(\u001b[0m\u001b[1;33m)\u001b[0m\u001b[1;33m:\u001b[0m\u001b[1;33m\u001b[0m\u001b[1;33m\u001b[0m\u001b[0m\n\u001b[1;32m----> 3\u001b[1;33m     \u001b[0mx\u001b[0m \u001b[1;33m+=\u001b[0m \u001b[1;36m7\u001b[0m\u001b[1;33m\u001b[0m\u001b[1;33m\u001b[0m\u001b[0m\n\u001b[0m\u001b[0;32m      4\u001b[0m     \u001b[1;32mreturn\u001b[0m \u001b[0mx\u001b[0m\u001b[1;33m\u001b[0m\u001b[1;33m\u001b[0m\u001b[0m\n\u001b[0;32m      5\u001b[0m \u001b[1;33m\u001b[0m\u001b[0m\n",
      "\u001b[1;31mUnboundLocalError\u001b[0m: local variable 'x' referenced before assignment"
     ]
    }
   ],
   "source": [
    "x = 10\n",
    "def scope():\n",
    "    x += 7\n",
    "    return x\n",
    "\n",
    "scope()"
   ]
  },
  {
   "cell_type": "markdown",
   "metadata": {},
   "source": [
    "# <center> Error de Ejecución o Excepción </center>"
   ]
  },
  {
   "cell_type": "code",
   "execution_count": 15,
   "metadata": {},
   "outputs": [
    {
     "ename": "ZeroDivisionError",
     "evalue": "division by zero",
     "output_type": "error",
     "traceback": [
      "\u001b[1;31m---------------------------------------------------------------------------\u001b[0m",
      "\u001b[1;31mZeroDivisionError\u001b[0m                         Traceback (most recent call last)",
      "\u001b[1;32m<ipython-input-15-e8326a161779>\u001b[0m in \u001b[0;36m<module>\u001b[1;34m\u001b[0m\n\u001b[1;32m----> 1\u001b[1;33m \u001b[1;36m2\u001b[0m\u001b[1;33m/\u001b[0m\u001b[1;36m0\u001b[0m\u001b[1;33m\u001b[0m\u001b[1;33m\u001b[0m\u001b[0m\n\u001b[0m",
      "\u001b[1;31mZeroDivisionError\u001b[0m: division by zero"
     ]
    }
   ],
   "source": [
    "2/0"
   ]
  },
  {
   "cell_type": "code",
   "execution_count": 16,
   "metadata": {},
   "outputs": [
    {
     "ename": "TypeError",
     "evalue": "unsupported operand type(s) for /: 'str' and 'int'",
     "output_type": "error",
     "traceback": [
      "\u001b[1;31m---------------------------------------------------------------------------\u001b[0m",
      "\u001b[1;31mTypeError\u001b[0m                                 Traceback (most recent call last)",
      "\u001b[1;32m<ipython-input-16-ab6470bf13cd>\u001b[0m in \u001b[0;36m<module>\u001b[1;34m\u001b[0m\n\u001b[1;32m----> 1\u001b[1;33m \u001b[1;34m\"w\"\u001b[0m\u001b[1;33m/\u001b[0m\u001b[1;36m3\u001b[0m\u001b[1;33m\u001b[0m\u001b[1;33m\u001b[0m\u001b[0m\n\u001b[0m",
      "\u001b[1;31mTypeError\u001b[0m: unsupported operand type(s) for /: 'str' and 'int'"
     ]
    }
   ],
   "source": [
    "\"w\"/3"
   ]
  },
  {
   "cell_type": "markdown",
   "metadata": {},
   "source": [
    "# <center> Instalar TYPEGUARD -> pip install typeguard </center>"
   ]
  },
  {
   "cell_type": "code",
   "execution_count": 17,
   "metadata": {},
   "outputs": [],
   "source": [
    "#%pip install typeguard\n",
    "from typeguard import typechecked\n",
    "\n",
    "@typechecked\n",
    "class ClaseValidarTipoDeDatos:\n",
    "    \n",
    "    def __init__ (self, value:str ) -> None:\n",
    "        \n",
    "        self.value = value\n",
    "    \n",
    "    def int_retorna_lista(x:int) -> list:\n",
    "        \n",
    "        return [x]"
   ]
  },
  {
   "cell_type": "code",
   "execution_count": 18,
   "metadata": {},
   "outputs": [
    {
     "ename": "TypeError",
     "evalue": "type of argument \"x\" must be int; got str instead",
     "output_type": "error",
     "traceback": [
      "\u001b[1;31m---------------------------------------------------------------------------\u001b[0m",
      "\u001b[1;31mTypeError\u001b[0m                                 Traceback (most recent call last)",
      "\u001b[1;32m<ipython-input-18-057f306a5119>\u001b[0m in \u001b[0;36m<module>\u001b[1;34m\u001b[0m\n\u001b[1;32m----> 1\u001b[1;33m \u001b[0mClaseValidarTipoDeDatos\u001b[0m\u001b[1;33m.\u001b[0m\u001b[0mint_retorna_lista\u001b[0m\u001b[1;33m(\u001b[0m\u001b[1;34m\"3\"\u001b[0m\u001b[1;33m)\u001b[0m\u001b[1;33m\u001b[0m\u001b[1;33m\u001b[0m\u001b[0m\n\u001b[0m",
      "\u001b[1;32m~\\anaconda3\\lib\\site-packages\\typeguard\\__init__.py\u001b[0m in \u001b[0;36mwrapper\u001b[1;34m(*args, **kwargs)\u001b[0m\n\u001b[0;32m   1012\u001b[0m     \u001b[1;32mdef\u001b[0m \u001b[0mwrapper\u001b[0m\u001b[1;33m(\u001b[0m\u001b[1;33m*\u001b[0m\u001b[0margs\u001b[0m\u001b[1;33m,\u001b[0m \u001b[1;33m**\u001b[0m\u001b[0mkwargs\u001b[0m\u001b[1;33m)\u001b[0m\u001b[1;33m:\u001b[0m\u001b[1;33m\u001b[0m\u001b[1;33m\u001b[0m\u001b[0m\n\u001b[0;32m   1013\u001b[0m         \u001b[0mmemo\u001b[0m \u001b[1;33m=\u001b[0m \u001b[0m_CallMemo\u001b[0m\u001b[1;33m(\u001b[0m\u001b[0mpython_func\u001b[0m\u001b[1;33m,\u001b[0m \u001b[0m_localns\u001b[0m\u001b[1;33m,\u001b[0m \u001b[0margs\u001b[0m\u001b[1;33m=\u001b[0m\u001b[0margs\u001b[0m\u001b[1;33m,\u001b[0m \u001b[0mkwargs\u001b[0m\u001b[1;33m=\u001b[0m\u001b[0mkwargs\u001b[0m\u001b[1;33m)\u001b[0m\u001b[1;33m\u001b[0m\u001b[1;33m\u001b[0m\u001b[0m\n\u001b[1;32m-> 1014\u001b[1;33m         \u001b[0mcheck_argument_types\u001b[0m\u001b[1;33m(\u001b[0m\u001b[0mmemo\u001b[0m\u001b[1;33m)\u001b[0m\u001b[1;33m\u001b[0m\u001b[1;33m\u001b[0m\u001b[0m\n\u001b[0m\u001b[0;32m   1015\u001b[0m         \u001b[0mretval\u001b[0m \u001b[1;33m=\u001b[0m \u001b[0mfunc\u001b[0m\u001b[1;33m(\u001b[0m\u001b[1;33m*\u001b[0m\u001b[0margs\u001b[0m\u001b[1;33m,\u001b[0m \u001b[1;33m**\u001b[0m\u001b[0mkwargs\u001b[0m\u001b[1;33m)\u001b[0m\u001b[1;33m\u001b[0m\u001b[1;33m\u001b[0m\u001b[0m\n\u001b[0;32m   1016\u001b[0m         \u001b[1;32mtry\u001b[0m\u001b[1;33m:\u001b[0m\u001b[1;33m\u001b[0m\u001b[1;33m\u001b[0m\u001b[0m\n",
      "\u001b[1;32m~\\anaconda3\\lib\\site-packages\\typeguard\\__init__.py\u001b[0m in \u001b[0;36mcheck_argument_types\u001b[1;34m(memo)\u001b[0m\n\u001b[0;32m    855\u001b[0m                 \u001b[0mcheck_type\u001b[0m\u001b[1;33m(\u001b[0m\u001b[0mdescription\u001b[0m\u001b[1;33m,\u001b[0m \u001b[0mvalue\u001b[0m\u001b[1;33m,\u001b[0m \u001b[0mexpected_type\u001b[0m\u001b[1;33m,\u001b[0m \u001b[0mmemo\u001b[0m\u001b[1;33m)\u001b[0m\u001b[1;33m\u001b[0m\u001b[1;33m\u001b[0m\u001b[0m\n\u001b[0;32m    856\u001b[0m             \u001b[1;32mexcept\u001b[0m \u001b[0mTypeError\u001b[0m \u001b[1;32mas\u001b[0m \u001b[0mexc\u001b[0m\u001b[1;33m:\u001b[0m  \u001b[1;31m# suppress unnecessarily long tracebacks\u001b[0m\u001b[1;33m\u001b[0m\u001b[1;33m\u001b[0m\u001b[0m\n\u001b[1;32m--> 857\u001b[1;33m                 \u001b[1;32mraise\u001b[0m \u001b[0mTypeError\u001b[0m\u001b[1;33m(\u001b[0m\u001b[1;33m*\u001b[0m\u001b[0mexc\u001b[0m\u001b[1;33m.\u001b[0m\u001b[0margs\u001b[0m\u001b[1;33m)\u001b[0m \u001b[1;32mfrom\u001b[0m \u001b[1;32mNone\u001b[0m\u001b[1;33m\u001b[0m\u001b[1;33m\u001b[0m\u001b[0m\n\u001b[0m\u001b[0;32m    858\u001b[0m \u001b[1;33m\u001b[0m\u001b[0m\n\u001b[0;32m    859\u001b[0m     \u001b[1;32mreturn\u001b[0m \u001b[1;32mTrue\u001b[0m\u001b[1;33m\u001b[0m\u001b[1;33m\u001b[0m\u001b[0m\n",
      "\u001b[1;31mTypeError\u001b[0m: type of argument \"x\" must be int; got str instead"
     ]
    }
   ],
   "source": [
    "ClaseValidarTipoDeDatos.int_retorna_lista(\"3\")"
   ]
  },
  {
   "cell_type": "code",
   "execution_count": 19,
   "metadata": {},
   "outputs": [],
   "source": [
    "@typechecked\n",
    "def metodo_validar_tipo_de_datos(x:list, y:ClaseValidarTipoDeDatos) -> int:    \n",
    "    return sum(x)"
   ]
  },
  {
   "cell_type": "code",
   "execution_count": 20,
   "metadata": {},
   "outputs": [
    {
     "ename": "TypeError",
     "evalue": "type of argument \"value\" must be str; got int instead",
     "output_type": "error",
     "traceback": [
      "\u001b[1;31m---------------------------------------------------------------------------\u001b[0m",
      "\u001b[1;31mTypeError\u001b[0m                                 Traceback (most recent call last)",
      "\u001b[1;32m<ipython-input-20-ecc3567e7e23>\u001b[0m in \u001b[0;36m<module>\u001b[1;34m\u001b[0m\n\u001b[1;32m----> 1\u001b[1;33m \u001b[0mmetodo_validar_tipo_de_datos\u001b[0m\u001b[1;33m(\u001b[0m\u001b[1;33m[\u001b[0m\u001b[1;36m5\u001b[0m\u001b[1;33m,\u001b[0m\u001b[1;36m4\u001b[0m\u001b[1;33m]\u001b[0m\u001b[1;33m,\u001b[0m \u001b[0mClaseValidarTipoDeDatos\u001b[0m\u001b[1;33m(\u001b[0m\u001b[1;36m5\u001b[0m\u001b[1;33m)\u001b[0m\u001b[1;33m)\u001b[0m\u001b[1;33m\u001b[0m\u001b[1;33m\u001b[0m\u001b[0m\n\u001b[0m",
      "\u001b[1;32m~\\anaconda3\\lib\\site-packages\\typeguard\\__init__.py\u001b[0m in \u001b[0;36mwrapper\u001b[1;34m(*args, **kwargs)\u001b[0m\n\u001b[0;32m   1012\u001b[0m     \u001b[1;32mdef\u001b[0m \u001b[0mwrapper\u001b[0m\u001b[1;33m(\u001b[0m\u001b[1;33m*\u001b[0m\u001b[0margs\u001b[0m\u001b[1;33m,\u001b[0m \u001b[1;33m**\u001b[0m\u001b[0mkwargs\u001b[0m\u001b[1;33m)\u001b[0m\u001b[1;33m:\u001b[0m\u001b[1;33m\u001b[0m\u001b[1;33m\u001b[0m\u001b[0m\n\u001b[0;32m   1013\u001b[0m         \u001b[0mmemo\u001b[0m \u001b[1;33m=\u001b[0m \u001b[0m_CallMemo\u001b[0m\u001b[1;33m(\u001b[0m\u001b[0mpython_func\u001b[0m\u001b[1;33m,\u001b[0m \u001b[0m_localns\u001b[0m\u001b[1;33m,\u001b[0m \u001b[0margs\u001b[0m\u001b[1;33m=\u001b[0m\u001b[0margs\u001b[0m\u001b[1;33m,\u001b[0m \u001b[0mkwargs\u001b[0m\u001b[1;33m=\u001b[0m\u001b[0mkwargs\u001b[0m\u001b[1;33m)\u001b[0m\u001b[1;33m\u001b[0m\u001b[1;33m\u001b[0m\u001b[0m\n\u001b[1;32m-> 1014\u001b[1;33m         \u001b[0mcheck_argument_types\u001b[0m\u001b[1;33m(\u001b[0m\u001b[0mmemo\u001b[0m\u001b[1;33m)\u001b[0m\u001b[1;33m\u001b[0m\u001b[1;33m\u001b[0m\u001b[0m\n\u001b[0m\u001b[0;32m   1015\u001b[0m         \u001b[0mretval\u001b[0m \u001b[1;33m=\u001b[0m \u001b[0mfunc\u001b[0m\u001b[1;33m(\u001b[0m\u001b[1;33m*\u001b[0m\u001b[0margs\u001b[0m\u001b[1;33m,\u001b[0m \u001b[1;33m**\u001b[0m\u001b[0mkwargs\u001b[0m\u001b[1;33m)\u001b[0m\u001b[1;33m\u001b[0m\u001b[1;33m\u001b[0m\u001b[0m\n\u001b[0;32m   1016\u001b[0m         \u001b[1;32mtry\u001b[0m\u001b[1;33m:\u001b[0m\u001b[1;33m\u001b[0m\u001b[1;33m\u001b[0m\u001b[0m\n",
      "\u001b[1;32m~\\anaconda3\\lib\\site-packages\\typeguard\\__init__.py\u001b[0m in \u001b[0;36mcheck_argument_types\u001b[1;34m(memo)\u001b[0m\n\u001b[0;32m    855\u001b[0m                 \u001b[0mcheck_type\u001b[0m\u001b[1;33m(\u001b[0m\u001b[0mdescription\u001b[0m\u001b[1;33m,\u001b[0m \u001b[0mvalue\u001b[0m\u001b[1;33m,\u001b[0m \u001b[0mexpected_type\u001b[0m\u001b[1;33m,\u001b[0m \u001b[0mmemo\u001b[0m\u001b[1;33m)\u001b[0m\u001b[1;33m\u001b[0m\u001b[1;33m\u001b[0m\u001b[0m\n\u001b[0;32m    856\u001b[0m             \u001b[1;32mexcept\u001b[0m \u001b[0mTypeError\u001b[0m \u001b[1;32mas\u001b[0m \u001b[0mexc\u001b[0m\u001b[1;33m:\u001b[0m  \u001b[1;31m# suppress unnecessarily long tracebacks\u001b[0m\u001b[1;33m\u001b[0m\u001b[1;33m\u001b[0m\u001b[0m\n\u001b[1;32m--> 857\u001b[1;33m                 \u001b[1;32mraise\u001b[0m \u001b[0mTypeError\u001b[0m\u001b[1;33m(\u001b[0m\u001b[1;33m*\u001b[0m\u001b[0mexc\u001b[0m\u001b[1;33m.\u001b[0m\u001b[0margs\u001b[0m\u001b[1;33m)\u001b[0m \u001b[1;32mfrom\u001b[0m \u001b[1;32mNone\u001b[0m\u001b[1;33m\u001b[0m\u001b[1;33m\u001b[0m\u001b[0m\n\u001b[0m\u001b[0;32m    858\u001b[0m \u001b[1;33m\u001b[0m\u001b[0m\n\u001b[0;32m    859\u001b[0m     \u001b[1;32mreturn\u001b[0m \u001b[1;32mTrue\u001b[0m\u001b[1;33m\u001b[0m\u001b[1;33m\u001b[0m\u001b[0m\n",
      "\u001b[1;31mTypeError\u001b[0m: type of argument \"value\" must be str; got int instead"
     ]
    }
   ],
   "source": [
    "metodo_validar_tipo_de_datos([5,4], ClaseValidarTipoDeDatos(5))"
   ]
  },
  {
   "cell_type": "markdown",
   "metadata": {},
   "source": [
    "# <center> Clases Con Excepciones Personalizadas </center> "
   ]
  },
  {
   "cell_type": "code",
   "execution_count": 21,
   "metadata": {},
   "outputs": [],
   "source": [
    "# definimos clase base para las excepciones\n",
    "class Error(BaseException):\n",
    "    \"\"\"Clase Base Para Otras Excepciones\"\"\"\n",
    "    pass\n",
    "\n",
    "#######################################################################################\n",
    "class ValorMuyGrande(Error):\n",
    "    \"\"\"Lanza la Excepcion y muestra el Mensaje\"\"\"\n",
    "    \n",
    "    def __init__(self, *args):\n",
    "        if args:\n",
    "            self.message = args[0]\n",
    "        else:\n",
    "            self.message = None\n",
    "\n",
    "    def __str__(self):        \n",
    "        if self.message:\n",
    "            return 'El valor del segundo parametro es muy pequeno, {0} '.format(self.message)\n",
    "        else:\n",
    "            return 'El valor del segundo parametro es muy pequeno Sin Mensaje Adicional'\n",
    "        \n",
    "#######################################################################################\n",
    "class ValorMuyPequeno(Error):\n",
    "    \"\"\"Lanza la Excepcion y muestra el Mensaje\"\"\"\n",
    "    \n",
    "    def __init__(self, *args):\n",
    "        if args:\n",
    "            self.message = args[0]\n",
    "        else:\n",
    "            self.message = None\n",
    "\n",
    "    def __str__(self):        \n",
    "        if self.message:\n",
    "            return 'El valor del primer parametro es muy pequeno, {0} '.format(self.message)\n",
    "        else:\n",
    "            return 'El valor del primer parametro es muy pequeno Sin Mensaje Adicional'"
   ]
  },
  {
   "cell_type": "markdown",
   "metadata": {},
   "source": [
    "# <center> Lanza Excepciones Directamente </center> "
   ]
  },
  {
   "cell_type": "code",
   "execution_count": 22,
   "metadata": {},
   "outputs": [
    {
     "ename": "ValorMuyPequeno",
     "evalue": "El valor del primer parametro es muy pequeno, Excepcion Directa ",
     "output_type": "error",
     "traceback": [
      "\u001b[1;31m---------------------------------------------------------------------------\u001b[0m",
      "\u001b[1;31mValorMuyPequeno\u001b[0m                           Traceback (most recent call last)",
      "\u001b[1;32m<ipython-input-22-101dc8577066>\u001b[0m in \u001b[0;36m<module>\u001b[1;34m\u001b[0m\n\u001b[0;32m      2\u001b[0m \u001b[0my\u001b[0m \u001b[1;33m=\u001b[0m \u001b[1;36m5\u001b[0m\u001b[1;33m\u001b[0m\u001b[1;33m\u001b[0m\u001b[0m\n\u001b[0;32m      3\u001b[0m \u001b[1;32mif\u001b[0m\u001b[1;33m(\u001b[0m\u001b[0mx\u001b[0m\u001b[1;33m*\u001b[0m\u001b[1;36m2\u001b[0m \u001b[1;33m<\u001b[0m \u001b[0my\u001b[0m\u001b[1;33m)\u001b[0m\u001b[1;33m:\u001b[0m\u001b[1;33m\u001b[0m\u001b[1;33m\u001b[0m\u001b[0m\n\u001b[1;32m----> 4\u001b[1;33m     \u001b[1;32mraise\u001b[0m \u001b[0mValorMuyPequeno\u001b[0m\u001b[1;33m(\u001b[0m\u001b[1;34m\"Excepcion Directa\"\u001b[0m\u001b[1;33m)\u001b[0m\u001b[1;33m\u001b[0m\u001b[1;33m\u001b[0m\u001b[0m\n\u001b[0m\u001b[0;32m      5\u001b[0m \u001b[1;33m\u001b[0m\u001b[0m\n\u001b[0;32m      6\u001b[0m \u001b[1;32melif\u001b[0m\u001b[1;33m(\u001b[0m\u001b[0mx\u001b[0m\u001b[1;33m/\u001b[0m\u001b[1;36m2\u001b[0m \u001b[1;33m>\u001b[0m \u001b[0my\u001b[0m\u001b[1;33m)\u001b[0m\u001b[1;33m:\u001b[0m\u001b[1;33m\u001b[0m\u001b[1;33m\u001b[0m\u001b[0m\n",
      "\u001b[1;31mValorMuyPequeno\u001b[0m: El valor del primer parametro es muy pequeno, Excepcion Directa "
     ]
    }
   ],
   "source": [
    "x = 0\n",
    "y = 5\n",
    "if(x*2 < y):\n",
    "    raise ValorMuyPequeno(\"Excepcion Directa\")\n",
    "        \n",
    "elif(x/2 > y):\n",
    "    raise ValorMuyGrande\n",
    "\n",
    "else:\n",
    "    x//y"
   ]
  },
  {
   "cell_type": "markdown",
   "metadata": {},
   "source": [
    "# <center> Lanza Excepciones Controladas </center> "
   ]
  },
  {
   "cell_type": "code",
   "execution_count": 23,
   "metadata": {},
   "outputs": [],
   "source": [
    "#https://docs.python.org/3/library/exceptions.html\n",
    "\n",
    "@typechecked\n",
    "def division(x:int, y:int) -> str:\n",
    "    \n",
    "    result = None\n",
    "    \n",
    "    try:\n",
    "        if(x*2 < y):\n",
    "            raise ValorMuyPequeno\n",
    "        \n",
    "        elif(x/2 > y):\n",
    "            raise ValorMuyGrande\n",
    "            \n",
    "        else:\n",
    "            x//y\n",
    "            \n",
    "    except ValorMuyPequeno:        \n",
    "        result = \"El valor del primer parametro es muy pequeno\"\n",
    "        \n",
    "    except ValorMuyGrande:\n",
    "        result = \"EL VALOR DEL SEGUNDO PARAMETRO ES MUY PEQUENO\"\n",
    "        \n",
    "    except ZeroDivisionError:\n",
    "        result = \"El divisor no puede ser cero\"\n",
    "    \n",
    "    except TypeError:\n",
    "        result = \"Debe Utilizar numeros en ambos valores\"\n",
    "        \n",
    "    except ValueError:\n",
    "        result = \"Oops! No es un valor válido.\"\n",
    "        \n",
    "    except (RuntimeError, OSError, NameError, KeyboardInterrupt):\n",
    "        result = \"Otro tipo de Error.\"\n",
    "        \n",
    "    else:\n",
    "        result = str(x//y)\n",
    "    \n",
    "    finally:\n",
    "        return result"
   ]
  },
  {
   "cell_type": "code",
   "execution_count": 24,
   "metadata": {},
   "outputs": [
    {
     "data": {
      "text/plain": [
       "'EL VALOR DEL SEGUNDO PARAMETRO ES MUY PEQUENO'"
      ]
     },
     "execution_count": 24,
     "metadata": {},
     "output_type": "execute_result"
    }
   ],
   "source": [
    "division(5, 0)"
   ]
  },
  {
   "cell_type": "markdown",
   "metadata": {},
   "source": [
    "# <center> Clase Abstracta con Métodos de Instancia, Métodos de Clase, Métodos Abstractos y Métodos Estáticos</center> "
   ]
  },
  {
   "cell_type": "code",
   "execution_count": 25,
   "metadata": {},
   "outputs": [],
   "source": [
    "from abc import ABC, abstractmethod \n",
    "\n",
    "@typechecked\n",
    "class Metodos(ABC):\n",
    "    \n",
    "    # es necesario crear una instancia de clase\n",
    "    def metodo_instancia(self,x):\n",
    "        \n",
    "        return x**4\n",
    "\n",
    "    # es necesario crear una instancia de clase\n",
    "    @property\n",
    "    @abstractmethod\n",
    "    def metodo_abstracto(self, s):\n",
    "        pass\n",
    " \n",
    "    # no se necesita instancia de clase\n",
    "    @staticmethod\n",
    "    def metodo_estatico(x, y):\n",
    "        return 3 + x + y\n",
    "    \n",
    "    # no se necesita instancia de clase\n",
    "    @classmethod\n",
    "    def metodo_clase(cls, x):\n",
    "        return 4 * x"
   ]
  },
  {
   "cell_type": "markdown",
   "metadata": {},
   "source": [
    "# <center> Instanciar una Clase Abstracta o con Métodos Abstractos</center> "
   ]
  },
  {
   "cell_type": "code",
   "execution_count": 26,
   "metadata": {},
   "outputs": [
    {
     "ename": "TypeError",
     "evalue": "Can't instantiate abstract class Metodos with abstract methods metodo_abstracto",
     "output_type": "error",
     "traceback": [
      "\u001b[1;31m---------------------------------------------------------------------------\u001b[0m",
      "\u001b[1;31mTypeError\u001b[0m                                 Traceback (most recent call last)",
      "\u001b[1;32m<ipython-input-26-27ee7dc7edc6>\u001b[0m in \u001b[0;36m<module>\u001b[1;34m\u001b[0m\n\u001b[1;32m----> 1\u001b[1;33m \u001b[0mMetodos\u001b[0m\u001b[1;33m(\u001b[0m\u001b[1;33m)\u001b[0m\u001b[1;33m\u001b[0m\u001b[1;33m\u001b[0m\u001b[0m\n\u001b[0m",
      "\u001b[1;31mTypeError\u001b[0m: Can't instantiate abstract class Metodos with abstract methods metodo_abstracto"
     ]
    }
   ],
   "source": [
    "Metodos()"
   ]
  },
  {
   "cell_type": "markdown",
   "metadata": {},
   "source": [
    "# <center> Clase que herada de una Clase con Métodos Estáticos</center> "
   ]
  },
  {
   "cell_type": "code",
   "execution_count": 27,
   "metadata": {},
   "outputs": [],
   "source": [
    "class ClaseConHerencia(Metodos):\n",
    "    \n",
    "    def otra_funcion(self, e):\n",
    "        return e"
   ]
  },
  {
   "cell_type": "markdown",
   "metadata": {},
   "source": [
    "# <center> Instancia sin crear los métodos Abstractos</center> "
   ]
  },
  {
   "cell_type": "code",
   "execution_count": 28,
   "metadata": {},
   "outputs": [
    {
     "ename": "TypeError",
     "evalue": "Can't instantiate abstract class ClaseConHerencia with abstract methods metodo_abstracto",
     "output_type": "error",
     "traceback": [
      "\u001b[1;31m---------------------------------------------------------------------------\u001b[0m",
      "\u001b[1;31mTypeError\u001b[0m                                 Traceback (most recent call last)",
      "\u001b[1;32m<ipython-input-28-559d766724af>\u001b[0m in \u001b[0;36m<module>\u001b[1;34m\u001b[0m\n\u001b[1;32m----> 1\u001b[1;33m \u001b[0mClaseConHerencia\u001b[0m\u001b[1;33m(\u001b[0m\u001b[1;33m)\u001b[0m\u001b[1;33m\u001b[0m\u001b[1;33m\u001b[0m\u001b[0m\n\u001b[0m",
      "\u001b[1;31mTypeError\u001b[0m: Can't instantiate abstract class ClaseConHerencia with abstract methods metodo_abstracto"
     ]
    }
   ],
   "source": [
    "ClaseConHerencia()"
   ]
  },
  {
   "cell_type": "markdown",
   "metadata": {},
   "source": [
    "# <center> Instancia con los métodos Abstractos</center> "
   ]
  },
  {
   "cell_type": "code",
   "execution_count": 29,
   "metadata": {},
   "outputs": [],
   "source": [
    "class ClaseConHerencia(Metodos):\n",
    "    \n",
    "    def metodo_abstracto(self, e):\n",
    "        return e"
   ]
  },
  {
   "cell_type": "code",
   "execution_count": 30,
   "metadata": {},
   "outputs": [
    {
     "data": {
      "text/plain": [
       "<__main__.ClaseConHerencia at 0x17b2a5bd310>"
      ]
     },
     "execution_count": 30,
     "metadata": {},
     "output_type": "execute_result"
    }
   ],
   "source": [
    "ClaseConHerencia()"
   ]
  },
  {
   "cell_type": "markdown",
   "metadata": {},
   "source": [
    "# <center> Acceso a los Métodos de Instancia, Métodos Abstractos, Métodos de Clase y Métodos Estáticos </center> "
   ]
  },
  {
   "cell_type": "code",
   "execution_count": 31,
   "metadata": {},
   "outputs": [
    {
     "data": {
      "text/plain": [
       "16"
      ]
     },
     "execution_count": 31,
     "metadata": {},
     "output_type": "execute_result"
    }
   ],
   "source": [
    "ClaseConHerencia().metodo_instancia(2)"
   ]
  },
  {
   "cell_type": "code",
   "execution_count": 32,
   "metadata": {},
   "outputs": [
    {
     "data": {
      "text/plain": [
       "'e'"
      ]
     },
     "execution_count": 32,
     "metadata": {},
     "output_type": "execute_result"
    }
   ],
   "source": [
    "ClaseConHerencia().metodo_abstracto('e')"
   ]
  },
  {
   "cell_type": "code",
   "execution_count": 33,
   "metadata": {},
   "outputs": [
    {
     "data": {
      "text/plain": [
       "8"
      ]
     },
     "execution_count": 33,
     "metadata": {},
     "output_type": "execute_result"
    }
   ],
   "source": [
    "ClaseConHerencia.metodo_estatico(2,3)"
   ]
  },
  {
   "cell_type": "code",
   "execution_count": 34,
   "metadata": {},
   "outputs": [
    {
     "data": {
      "text/plain": [
       "12"
      ]
     },
     "execution_count": 34,
     "metadata": {},
     "output_type": "execute_result"
    }
   ],
   "source": [
    "ClaseConHerencia.metodo_clase(3)"
   ]
  },
  {
   "cell_type": "markdown",
   "metadata": {},
   "source": [
    "# <center> *args</center>"
   ]
  },
  {
   "cell_type": "code",
   "execution_count": 35,
   "metadata": {},
   "outputs": [],
   "source": [
    "def funcion_clasica(r,s,t,u,v,w,x,y,z):\n",
    "    \n",
    "    return sum([r,s,t,u,v,w,x,y,z])"
   ]
  },
  {
   "cell_type": "code",
   "execution_count": 36,
   "metadata": {},
   "outputs": [
    {
     "data": {
      "text/plain": [
       "45"
      ]
     },
     "execution_count": 36,
     "metadata": {},
     "output_type": "execute_result"
    }
   ],
   "source": [
    "funcion_clasica(1,2,3,4,5,6,7,8,9)"
   ]
  },
  {
   "cell_type": "code",
   "execution_count": 37,
   "metadata": {},
   "outputs": [],
   "source": [
    "def funcion_con_args(*args):\n",
    "    print(args)\n",
    "    return sum(args)"
   ]
  },
  {
   "cell_type": "code",
   "execution_count": 38,
   "metadata": {},
   "outputs": [
    {
     "name": "stdout",
     "output_type": "stream",
     "text": [
      "(1, 2, 3, 4, 5, 6, 7, 8, 9)\n"
     ]
    },
    {
     "data": {
      "text/plain": [
       "45"
      ]
     },
     "execution_count": 38,
     "metadata": {},
     "output_type": "execute_result"
    }
   ],
   "source": [
    "funcion_con_args(1,2,3,4,5,6,7,8,9)"
   ]
  },
  {
   "cell_type": "code",
   "execution_count": 39,
   "metadata": {},
   "outputs": [
    {
     "name": "stdout",
     "output_type": "stream",
     "text": [
      "[1, 3, 5, 7, 9, 11, 13, 15, 17, 19]\n",
      "(1, 3, 5, 7, 9, 11, 13, 15, 17, 19)\n"
     ]
    },
    {
     "data": {
      "text/plain": [
       "100"
      ]
     },
     "execution_count": 39,
     "metadata": {},
     "output_type": "execute_result"
    }
   ],
   "source": [
    "numeros = [i for i in range(1,20,2)]\n",
    "print(numeros)\n",
    "funcion_con_args(*numeros)"
   ]
  },
  {
   "cell_type": "markdown",
   "metadata": {},
   "source": [
    "# <center>**kwargs </center>"
   ]
  },
  {
   "cell_type": "code",
   "execution_count": 40,
   "metadata": {},
   "outputs": [],
   "source": [
    "def funcion_con_kwargs(**kwargs):\n",
    "    print(kwargs)    \n",
    "    return sum(kwargs.values())"
   ]
  },
  {
   "cell_type": "code",
   "execution_count": 41,
   "metadata": {},
   "outputs": [
    {
     "name": "stdout",
     "output_type": "stream",
     "text": [
      "{'a': 1, 'b': 2, 'c': 3, 'd': 4, 'e': 5}\n"
     ]
    },
    {
     "data": {
      "text/plain": [
       "15"
      ]
     },
     "execution_count": 41,
     "metadata": {},
     "output_type": "execute_result"
    }
   ],
   "source": [
    "funcion_con_kwargs(a=1,b=2,c=3,d=4,e=5)"
   ]
  },
  {
   "cell_type": "code",
   "execution_count": 42,
   "metadata": {},
   "outputs": [
    {
     "name": "stdout",
     "output_type": "stream",
     "text": [
      "{'<': 0, '=': 1, '>': 2, '?': 3, '@': 4, 'A': 5}\n"
     ]
    },
    {
     "data": {
      "text/plain": [
       "15"
      ]
     },
     "execution_count": 42,
     "metadata": {},
     "output_type": "execute_result"
    }
   ],
   "source": [
    "valores = {chr(i+ 60): i for i in range(6)}\n",
    "funcion_con_kwargs(**valores)"
   ]
  },
  {
   "cell_type": "markdown",
   "metadata": {},
   "source": [
    "![image](decoradores.png)"
   ]
  },
  {
   "cell_type": "markdown",
   "metadata": {},
   "source": [
    "# <center>Decoradores - Map - Filter - Reduce </center>"
   ]
  },
  {
   "cell_type": "markdown",
   "metadata": {},
   "source": [
    "# <center> Decoradores Sin Documentación de Métodos </center>"
   ]
  },
  {
   "cell_type": "code",
   "execution_count": 43,
   "metadata": {},
   "outputs": [],
   "source": [
    "from typeguard import typechecked\n",
    "\n",
    "@typechecked\n",
    "def numero_positivo(*args: int) -> bool:\n",
    "    \n",
    "    for i,j in enumerate(args):\n",
    "        print(f\"Para el Indice {i} el Valor es : {j}\")\n",
    "    \n",
    "    \"\"\"\n",
    "    funcion retorna True si la suma de los numeros son un valor positivo\n",
    "    \"\"\"\n",
    "    return sum(args) >= 0"
   ]
  },
  {
   "cell_type": "code",
   "execution_count": 44,
   "metadata": {},
   "outputs": [
    {
     "name": "stdout",
     "output_type": "stream",
     "text": [
      "Para el Indice 0 el Valor es : 10\n"
     ]
    },
    {
     "data": {
      "text/plain": [
       "True"
      ]
     },
     "execution_count": 44,
     "metadata": {},
     "output_type": "execute_result"
    }
   ],
   "source": [
    "numero_positivo(10)"
   ]
  },
  {
   "cell_type": "code",
   "execution_count": 45,
   "metadata": {},
   "outputs": [
    {
     "name": "stdout",
     "output_type": "stream",
     "text": [
      "Help on function numero_positivo in module __main__:\n",
      "\n",
      "numero_positivo(*args: int) -> bool\n",
      "\n"
     ]
    }
   ],
   "source": [
    "help(numero_positivo)"
   ]
  },
  {
   "cell_type": "code",
   "execution_count": 46,
   "metadata": {},
   "outputs": [
    {
     "name": "stdout",
     "output_type": "stream",
     "text": [
      "None\n"
     ]
    }
   ],
   "source": [
    "print(numero_positivo.__doc__)"
   ]
  },
  {
   "cell_type": "markdown",
   "metadata": {},
   "source": [
    "# <center> Decoradores Con Documentación de Métodos </center>"
   ]
  },
  {
   "cell_type": "code",
   "execution_count": 47,
   "metadata": {},
   "outputs": [],
   "source": [
    "from functools import wraps\n",
    "\n",
    "def decorador_duplicar_documentador(funcion_entrada):\n",
    "    \n",
    "    @wraps(funcion_entrada)\n",
    "    def procesar_funcion(*args, **kwargs):\n",
    "        \n",
    "        resultado = funcion_entrada(*args, **kwargs)\n",
    "        \n",
    "        return \"ES POSITIVO\" if resultado > 0 else \"ES NEGATIVO\"\n",
    "    \n",
    "    return procesar_funcion"
   ]
  },
  {
   "cell_type": "code",
   "execution_count": 48,
   "metadata": {},
   "outputs": [
    {
     "name": "stdout",
     "output_type": "stream",
     "text": [
      "La llave ( tiene un valor de 0\n",
      "La llave ) tiene un valor de 1\n",
      "La llave * tiene un valor de 2\n",
      "La llave + tiene un valor de 3\n",
      "La llave , tiene un valor de 4\n",
      "La llave - tiene un valor de 5\n",
      "La llave . tiene un valor de 6\n",
      "La llave / tiene un valor de 7\n",
      "La llave 0 tiene un valor de 8\n",
      "La llave 1 tiene un valor de 9\n",
      "Las llaves de los argumentos son dict_keys(['(', ')', '*', '+', ',', '-', '.', '/', '0', '1']) y su lista es -> ['(', ')', '*', '+', ',', '-', '.', '/', '0', '1']\n",
      "ES POSITIVO\n",
      "Help on function funcion_decorada_con_acceso_a_documentacion in module __main__:\n",
      "\n",
      "funcion_decorada_con_acceso_a_documentacion(**kwargs) -> str\n",
      "    funcion retorna True si la suma de los argumentos es positiva, sino retorna FALSE\n",
      "\n",
      "La llave a tiene un valor de 1\n",
      "La llave b tiene un valor de 2\n",
      "La llave c tiene un valor de -3\n",
      "La llave d tiene un valor de 4\n",
      "La llave e tiene un valor de -5\n",
      "Las llaves de los argumentos son dict_keys(['a', 'b', 'c', 'd', 'e']) y su lista es -> ['a', 'b', 'c', 'd', 'e']\n",
      "ES NEGATIVO\n"
     ]
    }
   ],
   "source": [
    "@decorador_duplicar_documentador\n",
    "def funcion_decorada_con_acceso_a_documentacion(**kwargs) -> str:\n",
    "    \"\"\"\n",
    "    funcion retorna True si la suma de los argumentos es positiva, sino retorna FALSE\n",
    "    \"\"\"\n",
    "    \n",
    "    for i,j in kwargs.items():\n",
    "        print(f\"La llave {i} tiene un valor de {j}\")\n",
    "        \n",
    "    print(f\"Las llaves de los argumentos son {kwargs.keys()} y su lista es -> {list(kwargs.keys())}\")\n",
    "    \n",
    "    return sum(kwargs.values()) >= 0\n",
    "\n",
    "kw = {chr(i+40):i for i in range(10)}\n",
    "\n",
    "print(funcion_decorada_con_acceso_a_documentacion(**kw)) \n",
    "help(funcion_decorada_con_acceso_a_documentacion)\n",
    "print(funcion_decorada_con_acceso_a_documentacion(a=1, b=2, c=-3, d=4, e=-5))"
   ]
  },
  {
   "cell_type": "markdown",
   "metadata": {},
   "source": [
    "# <center> Decoradores Con Parámetros en Decoradores y en Funciones </center>"
   ]
  },
  {
   "cell_type": "code",
   "execution_count": 49,
   "metadata": {},
   "outputs": [],
   "source": [
    "def decorador_con_argumentos(*argumentos_decorador, **llave_valor_argumentos_decorador):\n",
    "\n",
    "    def procesar_decorador(funcion_entrada):\n",
    "        \n",
    "        @wraps(funcion_entrada)\n",
    "        def procesar_funcion(*argumentos_funcion, **llave_valor_argumentos_funcion):\n",
    "            \n",
    "            print(\"Argumentos decorador \", argumentos_decorador)\n",
    "            print(\"Argumentos funcion \", argumentos_funcion)\n",
    "\n",
    "            print(\"Argumentos llave valor decorador \", llave_valor_argumentos_decorador)\n",
    "            print(\"Argumentos llave valor funcion \", llave_valor_argumentos_funcion)\n",
    "            \n",
    "            total = funcion_entrada(*argumentos_funcion, **llave_valor_argumentos_funcion) * 3\n",
    "            total += 10 \n",
    "            \n",
    "            print(\"resultado de la funcion \", total)\n",
    "            return chr(total) + chr(total + 1) + chr(total) + f' {ord(\"S\")} {ord(\"0\")} {ord(\"S\")}'\n",
    "        \n",
    "        return procesar_funcion\n",
    "    return procesar_decorador"
   ]
  },
  {
   "cell_type": "code",
   "execution_count": 50,
   "metadata": {},
   "outputs": [
    {
     "name": "stdout",
     "output_type": "stream",
     "text": [
      "Argumentos decorador  (5, 7, 9, 13)\n",
      "Argumentos funcion  (0, 1, 2, 3, 4, 5, 6, 7)\n",
      "Argumentos llave valor decorador  {'parametro_1': 'decorador con parametros en el decorador'}\n",
      "Argumentos llave valor funcion  {'#': 0, '$': 1, '%': 2, '&': 3, \"'\": 4, '(': 5, ')': 6, '*': 7, '+': 8, ',': 9}\n",
      "resultado de la funcion  94\n"
     ]
    },
    {
     "data": {
      "text/plain": [
       "'^_^ 83 48 83'"
      ]
     },
     "execution_count": 50,
     "metadata": {},
     "output_type": "execute_result"
    }
   ],
   "source": [
    "@decorador_con_argumentos(5,7,9,13, parametro_1 = \"decorador con parametros en el decorador\")\n",
    "def funcion_decorada(*args, **kwargs):\n",
    "    \"\"\"\n",
    "    funcion con argumentos con decorador con argumentos\n",
    "    \"\"\"\n",
    "    \n",
    "    return sum(args)\n",
    "\n",
    "funcion_decorada(*[i for i in range(8)], **{chr(i + 35):i for i in range(10)})"
   ]
  },
  {
   "cell_type": "code",
   "execution_count": 51,
   "metadata": {},
   "outputs": [
    {
     "name": "stdout",
     "output_type": "stream",
     "text": [
      "funcion_decorada\n",
      "\n",
      "    funcion con argumentos con decorador con argumentos\n",
      "    \n"
     ]
    }
   ],
   "source": [
    "print(funcion_decorada.__name__)\n",
    "print(funcion_decorada.__doc__)"
   ]
  },
  {
   "cell_type": "markdown",
   "metadata": {},
   "source": [
    "# <center> Ejemplos Múltiples Decoradores</center>"
   ]
  },
  {
   "cell_type": "code",
   "execution_count": 52,
   "metadata": {},
   "outputs": [],
   "source": [
    "def decorador_triplicar(funcion_entrada):\n",
    "    \n",
    "    @wraps(funcion_entrada)\n",
    "    def procesar_funcion(*args, **kwargs):\n",
    "        \n",
    "        resultado = funcion_entrada(*args, **kwargs)\n",
    "        \n",
    "        return resultado * 3\n",
    "    \n",
    "    return procesar_funcion"
   ]
  },
  {
   "cell_type": "code",
   "execution_count": 53,
   "metadata": {},
   "outputs": [
    {
     "name": "stdout",
     "output_type": "stream",
     "text": [
      "12\n",
      "Help on function funcion_decorada in module __main__:\n",
      "\n",
      "funcion_decorada(*args: int) -> int\n",
      "    funcion decorada que retorna el triple del valor de entrada\n",
      "\n"
     ]
    }
   ],
   "source": [
    "argumentos = [i for i in range(5)]\n",
    "\n",
    "@decorador_triplicar\n",
    "@typechecked\n",
    "def funcion_decorada(*args:int) -> int:\n",
    "    \"\"\"\n",
    "    funcion decorada que retorna el triple del valor de entrada\n",
    "    \"\"\"\n",
    "    return sum(args)\n",
    "\n",
    "print(funcion_decorada(4))\n",
    "help(funcion_decorada)"
   ]
  },
  {
   "cell_type": "code",
   "execution_count": 54,
   "metadata": {},
   "outputs": [],
   "source": [
    "import random\n",
    "\n",
    "def decorador_crear_lista(funcion_entrada):\n",
    "    \n",
    "    @wraps(funcion_entrada)\n",
    "    def procesar_funcion(*args, **kwargs):\n",
    "        \n",
    "        resultado = funcion_entrada(*args, **kwargs)\n",
    "        \n",
    "        return [random.randint(i, pow(resultado, 3)) for i in range(resultado)]\n",
    "        \n",
    "    return procesar_funcion"
   ]
  },
  {
   "cell_type": "code",
   "execution_count": 55,
   "metadata": {},
   "outputs": [
    {
     "name": "stdout",
     "output_type": "stream",
     "text": [
      "[1118, 5828, 1652, 915, 3121, 5410, 3171, 4211, 2014, 1339, 1256, 5017, 4803, 5547, 5713, 975, 139, 4282]\n",
      "Help on function funcion_decorada in module __main__:\n",
      "\n",
      "funcion_decorada(*args: int) -> int\n",
      "    funcion decorada que retorna una lista, con el triple de elementos del valor de entrada  \n",
      "    en la funcion con valores enteros aleatorios, y cada valor elevado al cubo.\n",
      "\n"
     ]
    }
   ],
   "source": [
    "@decorador_crear_lista\n",
    "@decorador_triplicar\n",
    "@typechecked\n",
    "def funcion_decorada(*args:int) -> int:\n",
    "    \"\"\"\n",
    "    funcion decorada que retorna una lista, con el triple de elementos del valor de entrada  \n",
    "    en la funcion con valores enteros aleatorios, y cada valor elevado al cubo.\n",
    "    \"\"\"\n",
    "    return sum(args)\n",
    "\n",
    "print(funcion_decorada(1,2,3))\n",
    "help(funcion_decorada)"
   ]
  },
  {
   "cell_type": "code",
   "execution_count": 56,
   "metadata": {},
   "outputs": [],
   "source": [
    "def decorador_potencia_cuadrada_map(funcion_entrada):\n",
    "    \n",
    "    @wraps(funcion_entrada)\n",
    "    def procesar_funcion(*args, **kwargs):\n",
    "        \n",
    "        resultado = map(lambda x: x*x, funcion_entrada(*args, **kwargs))\n",
    "        \n",
    "        return list(resultado)\n",
    "        \n",
    "    return procesar_funcion"
   ]
  },
  {
   "cell_type": "code",
   "execution_count": 57,
   "metadata": {},
   "outputs": [
    {
     "name": "stdout",
     "output_type": "stream",
     "text": [
      "[337677376, 619960201, 332405824, 1159929, 651015225, 67420521, 15116544, 199317924, 382515364, 1085764, 569490496, 377447184, 675116289, 16080100, 41809156, 529138009, 288830025, 554414116, 5914624, 5760000, 496977849, 47844889, 12787776, 407111329, 27321529, 102050404, 29800681, 62410000, 20151121, 87025]\n",
      "Help on function funcion_decorada in module __main__:\n",
      "\n",
      "funcion_decorada(**kwargs) -> int\n",
      "    funcion decorada que retorna una lista de numeros enteros, con el triple de valores ingresados en la funcion,\n",
      "    cada valor de esta lista retorna elevado al cuadrado.\n",
      "\n"
     ]
    }
   ],
   "source": [
    "argumentos_clave_valor = {str(i):i for i in range(5)}\n",
    "\n",
    "@decorador_potencia_cuadrada_map\n",
    "@decorador_crear_lista\n",
    "@decorador_triplicar\n",
    "@typechecked\n",
    "def funcion_decorada(**kwargs) -> int:    \n",
    "    \"\"\"\n",
    "    funcion decorada que retorna una lista de numeros enteros, con el triple de valores ingresados en la funcion,\n",
    "    cada valor de esta lista retorna elevado al cuadrado.\n",
    "    \"\"\"        \n",
    "    return sum(kwargs.values())\n",
    "\n",
    "print(funcion_decorada(**argumentos_clave_valor))\n",
    "help(funcion_decorada)"
   ]
  },
  {
   "cell_type": "code",
   "execution_count": 58,
   "metadata": {},
   "outputs": [],
   "source": [
    "@typechecked\n",
    "def numero_par(x: int) -> bool:\n",
    "    \"\"\"\n",
    "    funcion retorna True si el numero es par o False si es impar\n",
    "    \"\"\"\n",
    "    return x%2 == 0"
   ]
  },
  {
   "cell_type": "code",
   "execution_count": 59,
   "metadata": {},
   "outputs": [],
   "source": [
    "def decorador_numeros_pares_filter(funcion_entrada):\n",
    "    \n",
    "    @wraps(funcion_entrada)\n",
    "    def procesar_funcion(*args, **kwargs):\n",
    "        \n",
    "        resultado = funcion_entrada(*args, **kwargs)\n",
    "        \n",
    "        return list(filter(numero_par, resultado))\n",
    "    \n",
    "    return procesar_funcion"
   ]
  },
  {
   "cell_type": "code",
   "execution_count": 60,
   "metadata": {},
   "outputs": [
    {
     "name": "stdout",
     "output_type": "stream",
     "text": [
      "[265364100, 179720836, 204375616, 563017984, 29203216, 560837124, 446392384, 25361296, 24920064, 527076, 659154276, 148996]\n",
      "Help on function funcion_decorada in module __main__:\n",
      "\n",
      "funcion_decorada(**kwargs) -> int\n",
      "    funcion decorada que retorna una lista de numeros enteros los cuales son Pares.\n",
      "\n"
     ]
    }
   ],
   "source": [
    "argumentos_clave_valor = {str(i):i for i in range(5)}\n",
    "\n",
    "@decorador_numeros_pares_filter\n",
    "@decorador_potencia_cuadrada_map\n",
    "@decorador_crear_lista\n",
    "@decorador_triplicar\n",
    "@typechecked\n",
    "def funcion_decorada(**kwargs) -> int:\n",
    "    \"\"\"\n",
    "    funcion decorada que retorna una lista de numeros enteros los cuales son Pares.\n",
    "    \"\"\"\n",
    "    return sum(kwargs.values())\n",
    "\n",
    "print(funcion_decorada(**argumentos_clave_valor))\n",
    "help(funcion_decorada)"
   ]
  },
  {
   "cell_type": "code",
   "execution_count": 61,
   "metadata": {},
   "outputs": [],
   "source": [
    "# libreria para usar reduce\n",
    "from functools import reduce\n",
    "def decorador_multiplicar_reduce(funcion_entrada):\n",
    "    \n",
    "    def reducir_datos(a:int, b:int) -> int:\n",
    "        \n",
    "        return a + b\n",
    "        \n",
    "    @wraps(funcion_entrada)  \n",
    "    def procesar_funcion(*args, **kwargs):\n",
    "        \n",
    "        lista = funcion_entrada(*args, **kwargs)        \n",
    "              \n",
    "        resultado = reduce(reducir_datos, lista)\n",
    "        \n",
    "        return resultado\n",
    "    \n",
    "    return procesar_funcion"
   ]
  },
  {
   "cell_type": "code",
   "execution_count": 62,
   "metadata": {},
   "outputs": [
    {
     "name": "stdout",
     "output_type": "stream",
     "text": [
      "851236\n",
      "Help on function funcion_decorada in module __main__:\n",
      "\n",
      "funcion_decorada(x: int) -> int\n",
      "    funcion decorada que retorna la suma de la lista de los numeros pares creados y filtrados con los demas decoradores.\n",
      "\n"
     ]
    }
   ],
   "source": [
    "@decorador_multiplicar_reduce\n",
    "@decorador_numeros_pares_filter\n",
    "@decorador_potencia_cuadrada_map\n",
    "@decorador_crear_lista\n",
    "@decorador_triplicar\n",
    "@typechecked\n",
    "def funcion_decorada(x:int) -> int:\n",
    "    \n",
    "    \"\"\"\n",
    "    funcion decorada que retorna la suma de la lista de los numeros pares creados y filtrados con los demas decoradores.\n",
    "    \"\"\"\n",
    "    return x\n",
    "\n",
    "print(funcion_decorada(4))\n",
    "help(funcion_decorada)"
   ]
  },
  {
   "cell_type": "code",
   "execution_count": 63,
   "metadata": {},
   "outputs": [
    {
     "name": "stdout",
     "output_type": "stream",
     "text": [
      "funcion_decorada\n"
     ]
    }
   ],
   "source": [
    "print(funcion_decorada.__name__)"
   ]
  },
  {
   "cell_type": "code",
   "execution_count": 64,
   "metadata": {},
   "outputs": [
    {
     "name": "stdout",
     "output_type": "stream",
     "text": [
      "\n",
      "    funcion decorada que retorna la suma de la lista de los numeros pares creados y filtrados con los demas decoradores.\n",
      "    \n"
     ]
    }
   ],
   "source": [
    "print(funcion_decorada.__doc__)"
   ]
  }
 ],
 "metadata": {
  "kernelspec": {
   "display_name": "Python 3",
   "language": "python",
   "name": "python3"
  },
  "language_info": {
   "codemirror_mode": {
    "name": "ipython",
    "version": 3
   },
   "file_extension": ".py",
   "mimetype": "text/x-python",
   "name": "python",
   "nbconvert_exporter": "python",
   "pygments_lexer": "ipython3",
   "version": "3.8.5"
  }
 },
 "nbformat": 4,
 "nbformat_minor": 4
}
