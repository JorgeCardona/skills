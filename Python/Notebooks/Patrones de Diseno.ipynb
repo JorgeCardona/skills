{
 "cells": [
  {
   "cell_type": "code",
   "execution_count": 1,
   "metadata": {},
   "outputs": [
    {
     "data": {
      "text/html": [
       "<style>.container { width:100% !important; }</style>"
      ],
      "text/plain": [
       "<IPython.core.display.HTML object>"
      ]
     },
     "metadata": {},
     "output_type": "display_data"
    }
   ],
   "source": [
    "from IPython.core.display import display, HTML\n",
    "display(HTML(\"<style>.container { width:100% !important; }</style>\"))"
   ]
  },
  {
   "cell_type": "markdown",
   "metadata": {},
   "source": [
    "# <center> SINGLETON </center>"
   ]
  },
  {
   "cell_type": "code",
   "execution_count": 2,
   "metadata": {},
   "outputs": [
    {
     "name": "stdout",
     "output_type": "stream",
     "text": [
      "{'x': 1, 'y': 2}\n",
      "{'x': 1, 'y': 2}\n",
      "{'x': 1, 'y': 2}\n"
     ]
    },
    {
     "ename": "Exception",
     "evalue": "Esta clase genera Objetos de tipo Singleton, ya existe un Objeto Instanciado de este tipo!",
     "output_type": "error",
     "traceback": [
      "\u001b[1;31m---------------------------------------------------------------------------\u001b[0m",
      "\u001b[1;31mException\u001b[0m                                 Traceback (most recent call last)",
      "\u001b[1;32m<ipython-input-2-11c48ea717ae>\u001b[0m in \u001b[0;36m<module>\u001b[1;34m\u001b[0m\n\u001b[0;32m     29\u001b[0m \u001b[0mprint\u001b[0m \u001b[1;33m(\u001b[0m\u001b[0ms\u001b[0m\u001b[1;33m.\u001b[0m\u001b[0m__dict__\u001b[0m\u001b[1;33m)\u001b[0m\u001b[1;33m\u001b[0m\u001b[1;33m\u001b[0m\u001b[0m\n\u001b[0;32m     30\u001b[0m \u001b[1;33m\u001b[0m\u001b[0m\n\u001b[1;32m---> 31\u001b[1;33m \u001b[0mSingletonTest\u001b[0m\u001b[1;33m(\u001b[0m\u001b[1;36m1\u001b[0m\u001b[1;33m,\u001b[0m\u001b[1;36m2\u001b[0m\u001b[1;33m)\u001b[0m\u001b[1;33m\u001b[0m\u001b[1;33m\u001b[0m\u001b[0m\n\u001b[0m",
      "\u001b[1;32m<ipython-input-2-11c48ea717ae>\u001b[0m in \u001b[0;36m__init__\u001b[1;34m(self, x, y)\u001b[0m\n\u001b[0;32m      6\u001b[0m         \u001b[1;34m\"\"\" Valida que no se genere otro Objeto del mismo tipo con el Constructor.\"\"\"\u001b[0m\u001b[1;33m\u001b[0m\u001b[1;33m\u001b[0m\u001b[0m\n\u001b[0;32m      7\u001b[0m         \u001b[1;32mif\u001b[0m \u001b[0mSingletonTest\u001b[0m\u001b[1;33m.\u001b[0m\u001b[0m__instance\u001b[0m \u001b[1;33m!=\u001b[0m \u001b[1;32mNone\u001b[0m\u001b[1;33m:\u001b[0m\u001b[1;33m\u001b[0m\u001b[1;33m\u001b[0m\u001b[0m\n\u001b[1;32m----> 8\u001b[1;33m             \u001b[1;32mraise\u001b[0m \u001b[0mException\u001b[0m\u001b[1;33m(\u001b[0m\u001b[1;34m\"Esta clase genera Objetos de tipo Singleton, ya existe un Objeto Instanciado de este tipo!\"\u001b[0m\u001b[1;33m)\u001b[0m\u001b[1;33m\u001b[0m\u001b[1;33m\u001b[0m\u001b[0m\n\u001b[0m\u001b[0;32m      9\u001b[0m \u001b[1;33m\u001b[0m\u001b[0m\n\u001b[0;32m     10\u001b[0m         \u001b[1;32melse\u001b[0m\u001b[1;33m:\u001b[0m\u001b[1;33m\u001b[0m\u001b[1;33m\u001b[0m\u001b[0m\n",
      "\u001b[1;31mException\u001b[0m: Esta clase genera Objetos de tipo Singleton, ya existe un Objeto Instanciado de este tipo!"
     ]
    }
   ],
   "source": [
    "class SingletonTest:\n",
    "    \n",
    "    __instance = None\n",
    "    \n",
    "    def __init__(self, x, y):\n",
    "        \"\"\" Valida que no se genere otro Objeto del mismo tipo con el Constructor.\"\"\"\n",
    "        if SingletonTest.__instance != None:\n",
    "            raise Exception(\"Esta clase genera Objetos de tipo Singleton, ya existe un Objeto Instanciado de este tipo!\")\n",
    "            \n",
    "        else:\n",
    "            SingletonTest.__instance = self\n",
    "            self.x = x\n",
    "            self.y = y\n",
    "\n",
    "    @staticmethod \n",
    "    def getInstance(x, y):\n",
    "        \"\"\" Se genera una Instancia de la clase desde este metodo.\"\"\"\n",
    "        if SingletonTest.__instance == None:\n",
    "            SingletonTest(x, y)\n",
    "        return SingletonTest.__instance\n",
    "\n",
    "s = SingletonTest(1,2)\n",
    "print (s.__dict__)\n",
    "\n",
    "s = SingletonTest.getInstance(3,4)\n",
    "print (s.__dict__)\n",
    "\n",
    "s = SingletonTest.getInstance(6,7)\n",
    "print (s.__dict__)\n",
    "\n",
    "SingletonTest(1,2)"
   ]
  },
  {
   "cell_type": "markdown",
   "metadata": {},
   "source": [
    "# <center> FACTORY </center>"
   ]
  },
  {
   "cell_type": "code",
   "execution_count": 4,
   "metadata": {},
   "outputs": [],
   "source": [
    "from __future__ import annotations\n",
    "from abc import ABC, abstractmethod\n",
    "\n",
    "\n",
    "class IColor(ABC):\n",
    "\n",
    "    @abstractmethod\n",
    "    def mostrar(self):\n",
    "        \"\"\"\n",
    "        Note that the Creator may also provide some default implementation of\n",
    "        the factory method.\n",
    "        \"\"\"\n",
    "        pass\n",
    "\n",
    "class ColorAmarillo(IColor):\n",
    "\n",
    "    def mostrar(self) -> Color:\n",
    "        return \"SOY EL COLOR AMARILLO\"\n",
    "\n",
    "class ColorAzul(IColor):\n",
    "\n",
    "    def mostrar(self) -> Color:\n",
    "        return \"SOY EL COLOR AZUL\"\n",
    "    \n",
    "class ColorRojo(IColor):\n",
    "\n",
    "    def mostrar(self) -> Color:\n",
    "        return \"SOY EL COLOR ROJO\"\n",
    "\n",
    "class FabricaColores:\n",
    "    \n",
    "    @staticmethod\n",
    "    def crear(color):\n",
    "        \n",
    "        \"\"\"Factory Method\"\"\"\n",
    "        objects = {\n",
    "            \"Amarillo\": ColorAmarillo,\n",
    "            \"Azul\": ColorAzul,\n",
    "            \"Rojo\": ColorRojo,\n",
    "        }        \n",
    "        \n",
    "        if color in objects:\n",
    "            print(f\"{objects[color]().__class__} Factory de color {color} Valido\")\n",
    "            return objects[color]()\n",
    "\n",
    "        raise AssertionError(f\"Color {color} No Valido\")\n",
    "        \n",
    "        \n",
    "class IFiguras(ABC):\n",
    "\n",
    "    @abstractmethod\n",
    "    def mostrar(self):\n",
    "        \"\"\"\n",
    "        Note that the Creator may also provide some default implementation of\n",
    "        the factory method.\n",
    "        \"\"\"\n",
    "        pass\n",
    "\n",
    "class FiguraCircular(IFiguras):\n",
    "\n",
    "    def mostrar(self) -> Figura:\n",
    "        return \"SOY EL CIRCULO\"\n",
    "\n",
    "class FiguraCuadrada(IFiguras):\n",
    "\n",
    "    def mostrar(self) -> Figura:\n",
    "        return \"SOY EL CUADRADO\"\n",
    "    \n",
    "class FiguraTriangular(IFiguras):\n",
    "\n",
    "    def mostrar(self) -> Figura:\n",
    "        return \"SOY EL TRIANGULO\"\n",
    "    \n",
    "class FabricaFiguras:\n",
    "    \n",
    "    @staticmethod\n",
    "    def crear(figura):\n",
    "        \n",
    "        \"\"\"Factory Method\"\"\"\n",
    "        objects = {\n",
    "            \"Circulo\": FiguraCircular,\n",
    "            \"Cuadro\": FiguraCuadrada,\n",
    "            \"Triangulo\": FiguraTriangular,\n",
    "        }        \n",
    "        \n",
    "        if figura in objects:\n",
    "            print(f\"{objects[figura]().__class__} Factory de Figura {figura} Valido\")\n",
    "            return objects[figura]()\n",
    "\n",
    "        raise AssertionError(f\"figura {figura} No Valido\")"
   ]
  },
  {
   "cell_type": "code",
   "execution_count": 5,
   "metadata": {},
   "outputs": [
    {
     "name": "stdout",
     "output_type": "stream",
     "text": [
      "<class '__main__.ColorAmarillo'> Factory de color Amarillo Valido\n"
     ]
    },
    {
     "data": {
      "text/plain": [
       "'SOY EL COLOR AMARILLO'"
      ]
     },
     "execution_count": 5,
     "metadata": {},
     "output_type": "execute_result"
    }
   ],
   "source": [
    "z = FabricaColores.crear(\"Amarillo\")\n",
    "z.mostrar()"
   ]
  },
  {
   "cell_type": "code",
   "execution_count": 6,
   "metadata": {},
   "outputs": [
    {
     "name": "stdout",
     "output_type": "stream",
     "text": [
      "<class '__main__.FiguraTriangular'> Factory de Figura Triangulo Valido\n"
     ]
    },
    {
     "data": {
      "text/plain": [
       "'SOY EL TRIANGULO'"
      ]
     },
     "execution_count": 6,
     "metadata": {},
     "output_type": "execute_result"
    }
   ],
   "source": [
    "z = FabricaFiguras.crear(\"Triangulo\")\n",
    "z.mostrar()"
   ]
  },
  {
   "cell_type": "markdown",
   "metadata": {},
   "source": [
    "# <center> ABSTRACT FACTORY </center>"
   ]
  },
  {
   "cell_type": "code",
   "execution_count": 7,
   "metadata": {},
   "outputs": [],
   "source": [
    "class IAbstractFactory(ABC):\n",
    "    \"Abstract Factory Interface\"\n",
    "\n",
    "    @staticmethod\n",
    "    @abstractmethod\n",
    "    def create_object(factory):\n",
    "        \"The static Abstract factory interface method\""
   ]
  },
  {
   "cell_type": "code",
   "execution_count": 89,
   "metadata": {},
   "outputs": [],
   "source": [
    "class AbstractFactory(IAbstractFactory):\n",
    "    \"The Abstract Factory Concrete Class\"\n",
    "    \n",
    "        \n",
    "    @staticmethod\n",
    "    def create_factory_object(factory_type, object_type):\n",
    "        \"Static get_factory method\"\n",
    "        objects = { \"Colores\": {\n",
    "            \"fabrica\":FabricaColores,\n",
    "            \"Amarillo\": ColorAmarillo,\n",
    "            \"Azul\": ColorAzul,\n",
    "            \"Rojo\": ColorRojo\n",
    "        },\n",
    "            \"FabricaFiguras\":{\n",
    "            \"Circulo\": FiguraCircular,\n",
    "            \"Cuadro\": FiguraCuadrada,\n",
    "            \"Triangulo\": FiguraTriangular\n",
    "            }\n",
    "        }  \n",
    "\n",
    "        if factory_type in objects:\n",
    "            \n",
    "            print(f\"{objects[factory_type]} Abstract Factory {factory_type} Valido\")\n",
    "            #breakpoint()\n",
    "            \n",
    "            if object_type in objects[factory_type]:\n",
    "\n",
    "                #breakpoint()\n",
    "                print(f\"{object_type.__class__} Factory {object_type} Valido\")\n",
    "                return objects[factory_type][\"fabrica\"]().crear(object_type)\n",
    "            raise AssertionError(f\"factory {object_type} No Valido\")\n",
    "\n",
    "        raise AssertionError(f\"Abstract factory {factory_type} No Valido\")"
   ]
  },
  {
   "cell_type": "code",
   "execution_count": 90,
   "metadata": {},
   "outputs": [
    {
     "name": "stdout",
     "output_type": "stream",
     "text": [
      "{'fabrica': <class '__main__.FabricaColores'>, 'Amarillo': <class '__main__.ColorAmarillo'>, 'Azul': <class '__main__.ColorAzul'>, 'Rojo': <class '__main__.ColorRojo'>} Abstract Factory Colores Valido\n",
      "<class 'str'> Factory Azul Valido\n",
      "<class '__main__.ColorAzul'> Factory de color Azul Valido\n"
     ]
    },
    {
     "data": {
      "text/plain": [
       "'SOY EL COLOR AZUL'"
      ]
     },
     "execution_count": 90,
     "metadata": {},
     "output_type": "execute_result"
    }
   ],
   "source": [
    "z = AbstractFactory.create_factory_object('Colores',\"Azul\")\n",
    "z.mostrar()"
   ]
  },
  {
   "cell_type": "code",
   "execution_count": 185,
   "metadata": {},
   "outputs": [],
   "source": [
    "class AbstractFactory(IAbstractFactory):\n",
    "    \"The Abstract Factory Concrete Class\"\n",
    "    \n",
    "        \n",
    "    @staticmethod\n",
    "    def create_factory_object(object_type):\n",
    "        \"Static get_factory method\"\n",
    "        objects = { \"Colores\": {\n",
    "            \"fabrica\":FabricaColores,\n",
    "            \"Amarillo\": ColorAmarillo,\n",
    "            \"Azul\": ColorAzul,\n",
    "            \"Rojo\": ColorRojo\n",
    "        },\n",
    "            \"Figuras\":{\n",
    "            \"fabrica\":FabricaFiguras,\n",
    "            \"Circulo\": FiguraCircular,\n",
    "            \"Cuadro\": FiguraCuadrada,\n",
    "            \"Triangulo\": FiguraTriangular\n",
    "            }\n",
    "        }  \n",
    "\n",
    "        object_return = [objects[x]['fabrica']() for x in objects if object_type in objects[x]]\n",
    "        \n",
    "        if object_return:\n",
    "            \n",
    "            print(f\"el Objeto {object_type} Pertenece a la Abstract Factory {object_return[0].__class__}\")\n",
    "            \n",
    "            return object_return[0].crear(object_type).mostrar()\n",
    "        \n",
    "        else:\n",
    "            \n",
    "            raise AssertionError(f\"factory {object_type} No Valido\")"
   ]
  },
  {
   "cell_type": "code",
   "execution_count": 186,
   "metadata": {},
   "outputs": [
    {
     "name": "stdout",
     "output_type": "stream",
     "text": [
      "el Objeto Circulo Pertenece a la Abstract Factory <class '__main__.FabricaFiguras'>\n",
      "<class '__main__.FiguraCircular'> Factory de Figura Circulo Valido\n"
     ]
    },
    {
     "data": {
      "text/plain": [
       "'SOY EL CIRCULO'"
      ]
     },
     "execution_count": 186,
     "metadata": {},
     "output_type": "execute_result"
    }
   ],
   "source": [
    "AbstractFactory.create_factory_object('Circulo')"
   ]
  },
  {
   "cell_type": "code",
   "execution_count": null,
   "metadata": {},
   "outputs": [],
   "source": [
    "{}"
   ]
  }
 ],
 "metadata": {
  "kernelspec": {
   "display_name": "Python 3",
   "language": "python",
   "name": "python3"
  },
  "language_info": {
   "codemirror_mode": {
    "name": "ipython",
    "version": 3
   },
   "file_extension": ".py",
   "mimetype": "text/x-python",
   "name": "python",
   "nbconvert_exporter": "python",
   "pygments_lexer": "ipython3",
   "version": "3.8.5"
  }
 },
 "nbformat": 4,
 "nbformat_minor": 4
}
