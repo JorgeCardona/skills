{
 "cells": [
  {
   "cell_type": "code",
   "execution_count": 1,
   "metadata": {},
   "outputs": [
    {
     "data": {
      "text/html": [
       "<style>.container { width:100% !important; }</style>"
      ],
      "text/plain": [
       "<IPython.core.display.HTML object>"
      ]
     },
     "metadata": {},
     "output_type": "display_data"
    }
   ],
   "source": [
    "from IPython.core.display import display, HTML\n",
    "display(HTML(\"<style>.container { width:100% !important; }</style>\"))"
   ]
  },
  {
   "cell_type": "markdown",
   "metadata": {},
   "source": [
    "# <center> SINGLETON </center>"
   ]
  },
  {
   "cell_type": "code",
   "execution_count": 2,
   "metadata": {},
   "outputs": [
    {
     "name": "stdout",
     "output_type": "stream",
     "text": [
      "{'x': 1, 'y': 2}\n",
      "{'x': 1, 'y': 2}\n",
      "{'x': 1, 'y': 2}\n"
     ]
    },
    {
     "ename": "Exception",
     "evalue": "Esta clase genera Objetos de tipo Singleton, ya existe un Objeto Instanciado de este tipo!",
     "output_type": "error",
     "traceback": [
      "\u001b[1;31m---------------------------------------------------------------------------\u001b[0m",
      "\u001b[1;31mException\u001b[0m                                 Traceback (most recent call last)",
      "\u001b[1;32m<ipython-input-2-11c48ea717ae>\u001b[0m in \u001b[0;36m<module>\u001b[1;34m\u001b[0m\n\u001b[0;32m     29\u001b[0m \u001b[0mprint\u001b[0m \u001b[1;33m(\u001b[0m\u001b[0ms\u001b[0m\u001b[1;33m.\u001b[0m\u001b[0m__dict__\u001b[0m\u001b[1;33m)\u001b[0m\u001b[1;33m\u001b[0m\u001b[1;33m\u001b[0m\u001b[0m\n\u001b[0;32m     30\u001b[0m \u001b[1;33m\u001b[0m\u001b[0m\n\u001b[1;32m---> 31\u001b[1;33m \u001b[0mSingletonTest\u001b[0m\u001b[1;33m(\u001b[0m\u001b[1;36m1\u001b[0m\u001b[1;33m,\u001b[0m\u001b[1;36m2\u001b[0m\u001b[1;33m)\u001b[0m\u001b[1;33m\u001b[0m\u001b[1;33m\u001b[0m\u001b[0m\n\u001b[0m",
      "\u001b[1;32m<ipython-input-2-11c48ea717ae>\u001b[0m in \u001b[0;36m__init__\u001b[1;34m(self, x, y)\u001b[0m\n\u001b[0;32m      6\u001b[0m         \u001b[1;34m\"\"\" Valida que no se genere otro Objeto del mismo tipo con el Constructor.\"\"\"\u001b[0m\u001b[1;33m\u001b[0m\u001b[1;33m\u001b[0m\u001b[0m\n\u001b[0;32m      7\u001b[0m         \u001b[1;32mif\u001b[0m \u001b[0mSingletonTest\u001b[0m\u001b[1;33m.\u001b[0m\u001b[0m__instance\u001b[0m \u001b[1;33m!=\u001b[0m \u001b[1;32mNone\u001b[0m\u001b[1;33m:\u001b[0m\u001b[1;33m\u001b[0m\u001b[1;33m\u001b[0m\u001b[0m\n\u001b[1;32m----> 8\u001b[1;33m             \u001b[1;32mraise\u001b[0m \u001b[0mException\u001b[0m\u001b[1;33m(\u001b[0m\u001b[1;34m\"Esta clase genera Objetos de tipo Singleton, ya existe un Objeto Instanciado de este tipo!\"\u001b[0m\u001b[1;33m)\u001b[0m\u001b[1;33m\u001b[0m\u001b[1;33m\u001b[0m\u001b[0m\n\u001b[0m\u001b[0;32m      9\u001b[0m \u001b[1;33m\u001b[0m\u001b[0m\n\u001b[0;32m     10\u001b[0m         \u001b[1;32melse\u001b[0m\u001b[1;33m:\u001b[0m\u001b[1;33m\u001b[0m\u001b[1;33m\u001b[0m\u001b[0m\n",
      "\u001b[1;31mException\u001b[0m: Esta clase genera Objetos de tipo Singleton, ya existe un Objeto Instanciado de este tipo!"
     ]
    }
   ],
   "source": [
    "class SingletonTest:\n",
    "    \n",
    "    __instance = None\n",
    "    \n",
    "    def __init__(self, x, y):\n",
    "        \"\"\" Valida que no se genere otro Objeto del mismo tipo con el Constructor.\"\"\"\n",
    "        if SingletonTest.__instance != None:\n",
    "            raise Exception(\"Esta clase genera Objetos de tipo Singleton, ya existe un Objeto Instanciado de este tipo!\")\n",
    "            \n",
    "        else:\n",
    "            SingletonTest.__instance = self\n",
    "            self.x = x\n",
    "            self.y = y\n",
    "\n",
    "    @staticmethod \n",
    "    def getInstance(x, y):\n",
    "        \"\"\" Se genera una Instancia de la clase desde este metodo.\"\"\"\n",
    "        if SingletonTest.__instance == None:\n",
    "            SingletonTest(x, y)\n",
    "        return SingletonTest.__instance\n",
    "\n",
    "s = SingletonTest(1,2)\n",
    "print (s.__dict__)\n",
    "\n",
    "s = SingletonTest.getInstance(3,4)\n",
    "print (s.__dict__)\n",
    "\n",
    "s = SingletonTest.getInstance(6,7)\n",
    "print (s.__dict__)\n",
    "\n",
    "SingletonTest(1,2)"
   ]
  },
  {
   "cell_type": "markdown",
   "metadata": {},
   "source": [
    "# <center> FACTORY </center>"
   ]
  },
  {
   "cell_type": "code",
   "execution_count": 3,
   "metadata": {},
   "outputs": [],
   "source": [
    "from __future__ import annotations\n",
    "from abc import ABC, abstractmethod\n",
    "\n",
    "\n",
    "class IColor(ABC):\n",
    "\n",
    "    @abstractmethod\n",
    "    def factory_method(self):\n",
    "        \"\"\"\n",
    "        Note that the Creator may also provide some default implementation of\n",
    "        the factory method.\n",
    "        \"\"\"\n",
    "        pass\n",
    "\n",
    "class ColorAmarillo(IColor):\n",
    "\n",
    "    def factory_method(self) -> Color:\n",
    "        return \"SOY EL COLOR AMARILLO\"\n",
    "\n",
    "class ColorAzul(IColor):\n",
    "\n",
    "    def factory_method(self) -> Color:\n",
    "        return \"SOY EL COLOR AZUL\"\n",
    "    \n",
    "class ColorRojo(IColor):\n",
    "\n",
    "    def factory_method(self) -> Color:\n",
    "        return \"SOY EL COLOR ROJO\"\n",
    "    \n",
    "\n",
    "class Fabrica():\n",
    "    \n",
    "    @staticmethod\n",
    "    def crear(color):\n",
    "        \n",
    "        \"\"\"Factory Method\"\"\"\n",
    "        objects = {\n",
    "            \"Amarillo\": ColorAmarillo,\n",
    "            \"Azul\": ColorAzul,\n",
    "            \"Rojo\": ColorRojo,\n",
    "        }        \n",
    "        \n",
    "        if color in objects:\n",
    "            print(f\"{objects[color]().__class__} Factory de color {color} Valido\")\n",
    "            return objects[color]()\n",
    "\n",
    "        raise AssertionError(f\"Color {color} No Valido\")"
   ]
  },
  {
   "cell_type": "code",
   "execution_count": 4,
   "metadata": {},
   "outputs": [
    {
     "name": "stdout",
     "output_type": "stream",
     "text": [
      "<class '__main__.ColorAmarillo'> Factory de color Amarillo Valido\n"
     ]
    },
    {
     "data": {
      "text/plain": [
       "'SOY EL COLOR AMARILLO'"
      ]
     },
     "execution_count": 4,
     "metadata": {},
     "output_type": "execute_result"
    }
   ],
   "source": [
    "z = Fabrica.crear(\"Amarillo\")\n",
    "z.factory_method()"
   ]
  }
 ],
 "metadata": {
  "kernelspec": {
   "display_name": "Python 3",
   "language": "python",
   "name": "python3"
  },
  "language_info": {
   "codemirror_mode": {
    "name": "ipython",
    "version": 3
   },
   "file_extension": ".py",
   "mimetype": "text/x-python",
   "name": "python",
   "nbconvert_exporter": "python",
   "pygments_lexer": "ipython3",
   "version": "3.8.5"
  }
 },
 "nbformat": 4,
 "nbformat_minor": 4
}
