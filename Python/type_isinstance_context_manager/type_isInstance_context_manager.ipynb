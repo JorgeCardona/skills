{
 "cells": [
  {
   "cell_type": "code",
   "execution_count": 1,
   "id": "98787546-2684-4310-92af-e5814e3b29d8",
   "metadata": {},
   "outputs": [
    {
     "name": "stdout",
     "output_type": "stream",
     "text": [
      "Python 3.10.2\n",
      "Name: jupyterlab\n",
      "Version: 3.3.3\n",
      "Summary: JupyterLab computational environment\n",
      "Home-page: https://jupyter.org\n",
      "Author: Jupyter Development Team\n",
      "Author-email: jupyter@googlegroups.com\n",
      "License: UNKNOWN\n",
      "Location: c:\\z_github_virtual_environment\\docker\\lib\\site-packages\n",
      "Requires: ipython, jinja2, jupyter-core, jupyter-server, jupyterlab-server, nbclassic, packaging, tornado\n",
      "Required-by: \n"
     ]
    }
   ],
   "source": [
    "!python -V\n",
    "!pip show jupyterlab"
   ]
  },
  {
   "cell_type": "markdown",
   "id": "f8caa949-4936-4661-a4a1-9ddc5f8c7894",
   "metadata": {},
   "source": [
    "# **type(valor_a_evaluar)** VS **isinstance(valor_a_evaluar,(listado_de_clases_o_instancias_a_comparar))**"
   ]
  },
  {
   "cell_type": "markdown",
   "id": "8a5a890a-3686-422a-83d8-573056e2769f",
   "metadata": {},
   "source": [
    "# <center> **TYPE** Retorna el tipo del valor Evaluado, Solo Acepta un Parametro, **SE USA PARA CONOCER EL TIPO DESCONOCIDO DE UNA VARIABLE**."
   ]
  },
  {
   "cell_type": "code",
   "execution_count": 2,
   "id": "41501a83-487a-45e5-a9d4-f574b9455aee",
   "metadata": {},
   "outputs": [
    {
     "data": {
      "text/plain": [
       "(int, float, bool, tuple, list, dict, complex, range, enumerate, generator)"
      ]
     },
     "execution_count": 2,
     "metadata": {},
     "output_type": "execute_result"
    }
   ],
   "source": [
    "type(22) , type(31.3) , type(True), type((1,2,3)), type([1,2,3]), type({'1':1,'2':2,'3':3}), type(1j), type(range(1,100,5)), type(enumerate([1,2,3])), type((i for i in range(1,100,5)))"
   ]
  },
  {
   "cell_type": "markdown",
   "id": "a733fdaa-323b-453d-bdc5-94c041f58d5b",
   "metadata": {},
   "source": [
    "# <center>  **TYPE** RETORNA **type** SI EL VALOR EVALUADO ES UNA **CLASE**"
   ]
  },
  {
   "cell_type": "code",
   "execution_count": 3,
   "id": "05b33af1-85b0-475f-9c69-552a38da0c7c",
   "metadata": {},
   "outputs": [
    {
     "data": {
      "text/plain": [
       "(type, type, type, type, type, type, type, type, type, type)"
      ]
     },
     "execution_count": 3,
     "metadata": {},
     "output_type": "execute_result"
    }
   ],
   "source": [
    "from types import GeneratorType\n",
    "type(int) , type(float) , type(set), type(bool), type(tuple), type(dict), type(complex), type(range), type(enumerate), type(GeneratorType)"
   ]
  },
  {
   "cell_type": "code",
   "execution_count": 4,
   "id": "7423fad1-7583-44c7-84c5-3b17a92e26aa",
   "metadata": {},
   "outputs": [
    {
     "name": "stdout",
     "output_type": "stream",
     "text": [
      "1 y 3.0 NO SON DEL MISMO TIPO\n",
      "1 y -40 Son del Mismo Tipo\n",
      "[1, 2.0] y [3.8, 9j] Son del Mismo Tipo\n",
      "<class 'set'> y <class 'list'> Son del Mismo Tipo\n",
      "True y {'True': True} NO SON DEL MISMO TIPO\n"
     ]
    }
   ],
   "source": [
    "def validar_tipo(tipo_base, tipo_comparar):\n",
    "\n",
    "    return f'{tipo_base} y {tipo_comparar} Son del Mismo Tipo' \\\n",
    "            if type(tipo_base) == type(tipo_comparar) \\\n",
    "            else f'{tipo_base} y {tipo_comparar} NO SON DEL MISMO TIPO'\n",
    "\n",
    "print(validar_tipo(1,3.0))\n",
    "print(validar_tipo(1, -40))\n",
    "print(validar_tipo([1,2.0], [3.8, 9j]))\n",
    "print(validar_tipo(set, list))\n",
    "print(validar_tipo(True, {'True':True}))"
   ]
  },
  {
   "cell_type": "markdown",
   "id": "f2daaa9c-9ab7-454e-a17d-96ba029f5366",
   "metadata": {},
   "source": [
    "# <center>  **CLASES Y OBJECTOS**"
   ]
  },
  {
   "cell_type": "code",
   "execution_count": 5,
   "id": "cb1682d5-2044-43c4-82eb-ba4e63019b77",
   "metadata": {},
   "outputs": [
    {
     "data": {
      "text/plain": [
       "(__main__.Numeros,\n",
       " __main__.Enteros,\n",
       " __main__.Flotantes,\n",
       " __main__.Fraccionarios,\n",
       " __main__.Informacion,\n",
       " __main__.Mezcla)"
      ]
     },
     "execution_count": 5,
     "metadata": {},
     "output_type": "execute_result"
    }
   ],
   "source": [
    "# sin parentesis si no hereda de ninguna otra clase\n",
    "class Numeros:\n",
    "    \n",
    "    #Constructor vacio\n",
    "    def __init__(self):\n",
    "        pass\n",
    "\n",
    "class Enteros(Numeros):\n",
    "    pass\n",
    "\n",
    "class Flotantes(Numeros):\n",
    "    pass\n",
    "\n",
    "class Fraccionarios(Flotantes):\n",
    "    pass\n",
    "\n",
    "class Informacion:\n",
    "    pass\n",
    "\n",
    "class Mezcla(Fraccionarios, Informacion):\n",
    "    pass   \n",
    "    \n",
    "# declaramos las variables con objetos de cada clase\n",
    "numeros, enteros, flotantes, fraccionarios, informacion, mezcla = Numeros(), Enteros(), Flotantes(), Fraccionarios(), Informacion(), Mezcla()\n",
    "\n",
    "type(numeros) , type(enteros) , type(flotantes), type(fraccionarios), type(informacion), type(mezcla)"
   ]
  },
  {
   "cell_type": "code",
   "execution_count": 6,
   "id": "e9fb7155-e745-4282-91d0-1ccae70f761b",
   "metadata": {},
   "outputs": [
    {
     "name": "stdout",
     "output_type": "stream",
     "text": [
      "<__main__.Numeros object at 0x000001BD1E8122F0> y <class '__main__.Numeros'> Son del Mismo Tipo\n",
      "<__main__.Enteros object at 0x000001BD1E812170> y <class '__main__.Numeros'> NO SON DEL MISMO TIPO\n",
      "<__main__.Flotantes object at 0x000001BD1E813940> y <class '__main__.Numeros'> NO SON DEL MISMO TIPO\n",
      "<__main__.Fraccionarios object at 0x000001BD1E811C60> y <class '__main__.Numeros'> NO SON DEL MISMO TIPO\n",
      "<__main__.Informacion object at 0x000001BD1E812CE0> y <class '__main__.Numeros'> NO SON DEL MISMO TIPO\n",
      "<__main__.Mezcla object at 0x000001BD1E811990> y <class '__main__.Numeros'> NO SON DEL MISMO TIPO\n",
      "<__main__.Mezcla object at 0x000001BD1E811990> y <class '__main__.Informacion'> NO SON DEL MISMO TIPO\n"
     ]
    }
   ],
   "source": [
    "def validar_tipo(tipo_base, tipo_comparar):\n",
    "\n",
    "    return f'{tipo_base} y {tipo_comparar} Son del Mismo Tipo' \\\n",
    "            if type(tipo_base) == tipo_comparar \\\n",
    "            else f'{tipo_base} y {tipo_comparar} NO SON DEL MISMO TIPO'\n",
    "\n",
    "print(validar_tipo(numeros, Numeros))\n",
    "print(validar_tipo(enteros, Numeros))\n",
    "print(validar_tipo(flotantes, Numeros))\n",
    "print(validar_tipo(fraccionarios, Numeros))\n",
    "print(validar_tipo(informacion, Numeros))\n",
    "print(validar_tipo(mezcla, Numeros))\n",
    "print(validar_tipo(mezcla, Informacion))"
   ]
  },
  {
   "cell_type": "markdown",
   "id": "4b2507f5-8071-4d9d-ba40-13f20da4c96e",
   "metadata": {},
   "source": [
    "# <center> <p> **ISINSTANCE**, PERMITE CONFIRMAR SI **EL VALOR EVALUADO PERTENECE A UN TIPO ESPECIFICO**, POR ESTO <br>  RETORNA **TRUE** o **FALSE**, SI LA VARIABLE EVALUADA, ES UN **OBJETO, INSTANCIA** o **SUB CLASE** DE LAS **CLASES CON QUE SE VAN A COMPARAR** </p> </center>"
   ]
  },
  {
   "cell_type": "code",
   "execution_count": 7,
   "id": "8937ab30-b1b0-4cd0-b5f5-007fd7ff5fea",
   "metadata": {
    "tags": []
   },
   "outputs": [
    {
     "name": "stdout",
     "output_type": "stream",
     "text": [
      "<__main__.Numeros object at 0x000001BD1E8122F0> es instancia de la clase <class '__main__.Numeros'>\n",
      "<__main__.Enteros object at 0x000001BD1E812170> es instancia de la clase <class '__main__.Numeros'>\n",
      "<__main__.Flotantes object at 0x000001BD1E813940> es instancia de la clase <class '__main__.Numeros'>\n",
      "<__main__.Fraccionarios object at 0x000001BD1E811C60> es instancia de la clase <class '__main__.Numeros'>\n",
      "<__main__.Informacion object at 0x000001BD1E812CE0> NO es instancia de la clase <class '__main__.Numeros'>\n",
      "<__main__.Mezcla object at 0x000001BD1E811990> es instancia de la clase <class '__main__.Numeros'>\n",
      "<__main__.Mezcla object at 0x000001BD1E811990> es instancia de la clase <class '__main__.Informacion'>\n",
      "<class '__main__.Mezcla'> NO es instancia de la clase <class '__main__.Numeros'>\n",
      "<class '__main__.Mezcla'> NO es instancia de la clase <class '__main__.Informacion'>\n",
      "<class '__main__.Numeros'> NO es instancia de la clase <class '__main__.Numeros'>\n"
     ]
    }
   ],
   "source": [
    "def validar_instancia(tipo_base, tipo_comparar):\n",
    "\n",
    "    return f'{tipo_base} es instancia de la clase {tipo_comparar}' \\\n",
    "            if isinstance(tipo_base, tipo_comparar) \\\n",
    "            else f'{tipo_base} NO es instancia de la clase {tipo_comparar}'\n",
    "\n",
    "# comparar con los objetos\n",
    "print(validar_instancia(numeros, Numeros))\n",
    "print(validar_instancia(enteros, Numeros))\n",
    "print(validar_instancia(flotantes, Numeros))\n",
    "print(validar_instancia(fraccionarios, Numeros))\n",
    "print(validar_instancia(informacion, Numeros))\n",
    "print(validar_instancia(mezcla, Numeros))\n",
    "print(validar_instancia(mezcla, Informacion))\n",
    "\n",
    "# comparar con las clases\n",
    "print(validar_instancia(Mezcla, Numeros))\n",
    "print(validar_instancia(Mezcla, Informacion))\n",
    "print(validar_instancia(Numeros, Numeros))"
   ]
  },
  {
   "cell_type": "markdown",
   "id": "3a99c8ba-1661-4187-b9d7-d0b134e7ec2d",
   "metadata": {},
   "source": [
    "# **ISINSTANCE**, VALIDAR MULTIPLES **OBJETOS, INSTANCIAS** o **SUB CLASES** AL MISMO TIEMPO"
   ]
  },
  {
   "cell_type": "code",
   "execution_count": 8,
   "id": "ac33593c-a58e-4200-a33e-3a6d231cf5fc",
   "metadata": {},
   "outputs": [
    {
     "name": "stdout",
     "output_type": "stream",
     "text": [
      "<class 'complex'>\n"
     ]
    },
    {
     "data": {
      "text/plain": [
       "False"
      ]
     },
     "execution_count": 8,
     "metadata": {},
     "output_type": "execute_result"
    }
   ],
   "source": [
    "valor = 31j\n",
    "print(type(valor))\n",
    "\n",
    "isinstance (valor, (float, int, bool, str, list, tuple, \\\n",
    "                    dict,frozenset, set, range, memoryview, bytearray, bytes))"
   ]
  },
  {
   "cell_type": "code",
   "execution_count": 9,
   "id": "ed4959b8-9a84-408e-9437-e24b573d4114",
   "metadata": {},
   "outputs": [
    {
     "data": {
      "text/plain": [
       "True"
      ]
     },
     "execution_count": 9,
     "metadata": {},
     "output_type": "execute_result"
    }
   ],
   "source": [
    "isinstance (valor, (float, int, bool, str, list, tuple, \\\n",
    "                    dict,frozenset, set, range, memoryview, bytearray, bytes, complex))"
   ]
  },
  {
   "cell_type": "markdown",
   "id": "6448d0f7-aebb-4fba-86d7-f1d9146bc2ee",
   "metadata": {},
   "source": [
    "# **WITH**, QUE ES UNA VERSION CONCISA DE LA DECLARACION **TRY/EXCEPT/ELSE/FINALLY** o **SUB CLASES** AL MISMO TIEMPO, \n",
    "# <center> tiene 3 metodos principales, **.\\__\\__init\\__\\__()**,**.\\__\\__enter\\__\\__()**,**.\\__\\__exit\\__\\__()**"
   ]
  },
  {
   "cell_type": "markdown",
   "id": "6940a0fb-c497-4c73-bb8f-fbd126632c9d",
   "metadata": {},
   "source": [
    "<center> <img src=\"generador_de_contexto.png\"/> </center> "
   ]
  },
  {
   "cell_type": "markdown",
   "id": "e4708a10-4db4-4ffa-a5cc-4ad554cb02c5",
   "metadata": {},
   "source": [
    "# <center> **CLASE ADMINISTRADORA DE CONTEXTO BASICA**"
   ]
  },
  {
   "cell_type": "code",
   "execution_count": 10,
   "id": "8ce722ac-fdff-4d1b-9512-d819939c8e74",
   "metadata": {},
   "outputs": [
    {
     "name": "stdout",
     "output_type": "stream",
     "text": [
      "Crea el Objeto Con Los Valores <multiprocessing.pool.ThreadPool state=RUN pool_size=2>\n",
      "Inicia Contexto, retorna la instancia del pool de Procesos  <multiprocessing.pool.ThreadPool state=RUN pool_size=2>\n",
      "Valor sin FINALIZAR el Contexto <multiprocessing.pool.ThreadPool state=RUN pool_size=2>\n",
      "Finaliza Contexto <multiprocessing.pool.ThreadPool state=CLOSE pool_size=2>\n",
      "Valor FINALIZADO DESPUES del Contexto [0, 1, 4, 9, 16, 25, 36, 49, 64, 81]\n"
     ]
    }
   ],
   "source": [
    "from multiprocessing.pool import ThreadPool\n",
    "\n",
    "def calcular_cuadrado(x):\n",
    "    return x*x\n",
    "\n",
    "class AdiministradorDeContexto:\n",
    "    # crea la instancia del objeto\n",
    "    def __init__(self):\n",
    "        \n",
    "        # guarda e inicia los recursos usando otra funcion\n",
    "        self.iniciar_recurso = ThreadPool(processes=2)\n",
    "        \n",
    "        print('Crea el Objeto Con Los Valores', self.iniciar_recurso)\n",
    "    \n",
    "    # retorna una instancia, funcion o variable que puede ser manipulada\n",
    "    def __enter__(self):\n",
    "        \n",
    "        print('Inicia Contexto, retorna la instancia del pool de Procesos ', self.iniciar_recurso)\n",
    "        return self.iniciar_recurso\n",
    "\n",
    "    # encargada de finalizar los procesos y manejar las excepciones\n",
    "    # cierra los recursos creados\n",
    "    def __exit__(self, exc_type=None, exc_value=None, exc_tb=None,*args, **kwargs):\n",
    "        \n",
    "        self.iniciar_recurso.close() # Evita que se envíen más tareas al grupo.\n",
    "        self.iniciar_recurso.join() # Espere a que finalicen los procesos de trabajo. Uno debe llamar a close() o terminate() antes de usar join().\n",
    "        print('Finaliza Contexto', self.iniciar_recurso)\n",
    "        return 22\n",
    "        \n",
    "# llamar una clase administradora de contexto sincrona       \n",
    "with AdiministradorDeContexto() as proceso:\n",
    "    \n",
    "    resultado = proceso.map(calcular_cuadrado, range(10))\n",
    "    \n",
    "    print('Valor sin FINALIZAR el Contexto',proceso)\n",
    "\n",
    "print('Valor FINALIZADO DESPUES del Contexto',resultado)"
   ]
  },
  {
   "cell_type": "markdown",
   "id": "bcc18d4f-89c2-4463-9767-a0e7b2297b4f",
   "metadata": {},
   "source": [
    "# <center> **ADMINISTRADOR DE CONTEXTO CON CONTROL DE EXCEPCIONES**"
   ]
  },
  {
   "cell_type": "code",
   "execution_count": 11,
   "id": "99cd7284-00c8-4fcd-a849-5565818569a2",
   "metadata": {},
   "outputs": [
    {
     "name": "stdout",
     "output_type": "stream",
     "text": [
      "Valor sin FINALIZAR el Contexto, HILOS <multiprocessing.pool.ThreadPool state=RUN pool_size=2>\n",
      "Valor sin FINALIZAR el Contexto, RESULTADO [0, 1, 4, 9, 16, 25, 36, 49, 64, 81]\n",
      "Finalizacion de Contexto <multiprocessing.pool.ThreadPool state=CLOSE pool_size=2>\n",
      "Finaliza el Contexto CON Excepcion CONTROLADA  <multiprocessing.pool.ThreadPool state=CLOSE pool_size=2>\n",
      "Excepcion Controlada, division by zero\n",
      "Excepcion Typo, <class 'ZeroDivisionError'>\n",
      "<frame at 0x000001BD1D65A1C0, file 'C:\\\\Users\\\\QiDimMak\\\\AppData\\\\Local\\\\Temp\\\\ipykernel_15616\\\\4184447311.py', line 36, code <cell line: 36>>\n"
     ]
    },
    {
     "ename": "ZeroDivisionError",
     "evalue": "division by zero",
     "output_type": "error",
     "traceback": [
      "\u001b[1;31m---------------------------------------------------------------------------\u001b[0m",
      "\u001b[1;31mZeroDivisionError\u001b[0m                         Traceback (most recent call last)",
      "Input \u001b[1;32mIn [11]\u001b[0m, in \u001b[0;36m<cell line: 36>\u001b[1;34m()\u001b[0m\n\u001b[0;32m     40\u001b[0m     \u001b[38;5;28mprint\u001b[39m(\u001b[38;5;124m'\u001b[39m\u001b[38;5;124mValor sin FINALIZAR el Contexto, HILOS\u001b[39m\u001b[38;5;124m'\u001b[39m,proceso)\n\u001b[0;32m     41\u001b[0m     \u001b[38;5;28mprint\u001b[39m(\u001b[38;5;124m'\u001b[39m\u001b[38;5;124mValor sin FINALIZAR el Contexto, RESULTADO\u001b[39m\u001b[38;5;124m'\u001b[39m,resultado)\n\u001b[1;32m---> 43\u001b[0m     \u001b[38;5;241;43m0\u001b[39;49m\u001b[38;5;241;43m/\u001b[39;49m\u001b[38;5;241;43m0\u001b[39;49m    \n\u001b[0;32m     44\u001b[0m     \u001b[38;5;28;01mraise\u001b[39;00m\n\u001b[0;32m     46\u001b[0m \u001b[38;5;28mprint\u001b[39m(\u001b[38;5;124m'\u001b[39m\u001b[38;5;124mValor FINALIZADO DESPUES del Contexto\u001b[39m\u001b[38;5;124m'\u001b[39m,resultado)\n",
      "\u001b[1;31mZeroDivisionError\u001b[0m: division by zero"
     ]
    }
   ],
   "source": [
    "class AdiministradorDeContexto:\n",
    "    # crea la instancia del objeto\n",
    "    def __init__(self):        \n",
    "        # guarda e inicia los recursos usando otra funcion\n",
    "        self.iniciar_recurso = ThreadPool(processes=2)\n",
    "        \n",
    "    def __enter__(self):\n",
    "        return self.iniciar_recurso\n",
    "\n",
    "    # encargada de cerrar los recursos creados finalizar los procesos y manejar las excepciones\n",
    "    def __exit__(self, exc_type=None, exc_value=None, exc_tb=None,*args, **kwargs):\n",
    "        \n",
    "        self.iniciar_recurso.close() # Evita que se envíen más tareas al grupo.\n",
    "        self.iniciar_recurso.join() # Espere a que finalicen los procesos de trabajo. Uno debe llamar a close() o terminate() antes de usar join().\n",
    "        print('Finalizacion de Contexto', self.iniciar_recurso)\n",
    "        # no hubo excepcion\n",
    "        if not exc_type:\n",
    "            print('Finaliza el Contexto sin Excepcion ', self.iniciar_recurso)\n",
    "            return True\n",
    "        # hubo excepcion pero se controlo\n",
    "        elif exc_type in (IndexError, ZeroDivisionError):\n",
    "            \n",
    "            print('Finaliza el Contexto CON Excepcion CONTROLADA ', self.iniciar_recurso)            \n",
    "            print(f'Excepcion Controlada, {exc_value}')\n",
    "            print(f'Excepcion Typo, {exc_type}')\n",
    "            print(exc_tb.tb_frame)\n",
    "\n",
    "            # retornar true significa ignorar excepcion, ya que esta controlada\n",
    "            return False\n",
    "        # hubo excepcion pero no se controlo\n",
    "        else:            \n",
    "            print('Finaliza el Contexto SIN Excepcion CONTROLADA ', exc_type, exc_value, exc_tb, sep=\"\\n\")\n",
    "            return False\n",
    "        \n",
    "# llamar una clase administradora de contexto sincrona         \n",
    "with AdiministradorDeContexto() as proceso:\n",
    "    \n",
    "    resultado = proceso.map(calcular_cuadrado, range(10))\n",
    "    \n",
    "    print('Valor sin FINALIZAR el Contexto, HILOS',proceso)\n",
    "    print('Valor sin FINALIZAR el Contexto, RESULTADO',resultado)\n",
    "    \n",
    "    0/0    \n",
    "    raise\n",
    "\n",
    "print('Valor FINALIZADO DESPUES del Contexto',resultado)"
   ]
  },
  {
   "cell_type": "code",
   "execution_count": null,
   "id": "8e1918cb-f337-440c-bc6d-3f439efed40f",
   "metadata": {},
   "outputs": [],
   "source": [
    "from time import perf_counter, sleep\n",
    "\n",
    "class Timer:\n",
    "    def __enter__(self):\n",
    "        self.start = perf_counter()\n",
    "        self.end = 0.0        \n",
    "        return lambda: self.end - self.start\n",
    "\n",
    "    def __exit__(self, *args):\n",
    "        self.end = perf_counter()\n",
    "\n",
    "# llamar una clase administradora de contexto sincrona  \n",
    "with Timer() as tiempo_de_procesamiento:\n",
    "    # Time-consuming code goes here...\n",
    "    sleep(0.9)\n",
    "    \n",
    "    print(tiempo_de_procesamiento())\n",
    "    \n",
    "    sleep(0.6)\n",
    "\n",
    "print(tiempo_de_procesamiento)\n",
    "print(tiempo_de_procesamiento())"
   ]
  },
  {
   "cell_type": "markdown",
   "id": "f046c228-7a6d-4a09-b8f0-6a721c7c540b",
   "metadata": {},
   "source": [
    "# <center> **COMO VALIDAR QUE UNA CLASE NO ES UN ADMINISTRADOR DE CONTEXTO**"
   ]
  },
  {
   "cell_type": "code",
   "execution_count": 12,
   "id": "6a3f80a1-a32e-42d6-9da3-b1336901be8c",
   "metadata": {},
   "outputs": [
    {
     "ename": "AttributeError",
     "evalue": "__exit__",
     "output_type": "error",
     "traceback": [
      "\u001b[1;31m---------------------------------------------------------------------------\u001b[0m",
      "\u001b[1;31mAttributeError\u001b[0m                            Traceback (most recent call last)",
      "Input \u001b[1;32mIn [12]\u001b[0m, in \u001b[0;36m<cell line: 10>\u001b[1;34m()\u001b[0m\n\u001b[0;32m      6\u001b[0m     \u001b[38;5;28;01mdef\u001b[39;00m \u001b[38;5;21m__enter__\u001b[39m(\u001b[38;5;28mself\u001b[39m):\n\u001b[0;32m      7\u001b[0m         \u001b[38;5;28;01mreturn\u001b[39;00m \u001b[38;5;28mself\u001b[39m\u001b[38;5;241m.\u001b[39miniciar_recurso \u001b[38;5;241m*\u001b[39m \u001b[38;5;241m3\u001b[39m\n\u001b[1;32m---> 10\u001b[0m \u001b[38;5;28;01mwith\u001b[39;00m sinContextManager() \u001b[38;5;28;01mas\u001b[39;00m datos:\n\u001b[0;32m     12\u001b[0m     \u001b[38;5;28mprint\u001b[39m(\u001b[38;5;124m'\u001b[39m\u001b[38;5;124mValor sin FINALIZAR el Contexto\u001b[39m\u001b[38;5;124m'\u001b[39m,datos)\n",
      "\u001b[1;31mAttributeError\u001b[0m: __exit__"
     ]
    }
   ],
   "source": [
    "class sinContextManager:\n",
    "    \n",
    "    def __init__(self):\n",
    "        self.iniciar_recurso = 7\n",
    "        \n",
    "    def __enter__(self):\n",
    "        return self.iniciar_recurso * 3\n",
    "\n",
    "        \n",
    "with sinContextManager() as datos:\n",
    "    \n",
    "    print('Valor sin FINALIZAR el Contexto',datos)"
   ]
  },
  {
   "cell_type": "code",
   "execution_count": 13,
   "id": "f23cd68a-1a7a-4072-bb2a-239f24bf1071",
   "metadata": {},
   "outputs": [
    {
     "ename": "AttributeError",
     "evalue": "__enter__",
     "output_type": "error",
     "traceback": [
      "\u001b[1;31m---------------------------------------------------------------------------\u001b[0m",
      "\u001b[1;31mAttributeError\u001b[0m                            Traceback (most recent call last)",
      "Input \u001b[1;32mIn [13]\u001b[0m, in \u001b[0;36m<cell line: 10>\u001b[1;34m()\u001b[0m\n\u001b[0;32m      6\u001b[0m     \u001b[38;5;28;01mdef\u001b[39;00m \u001b[38;5;21m__exit__\u001b[39m(\u001b[38;5;28mself\u001b[39m, \u001b[38;5;241m*\u001b[39margs):\n\u001b[0;32m      7\u001b[0m         \u001b[38;5;28mself\u001b[39m\u001b[38;5;241m.\u001b[39miniciar_recurso \u001b[38;5;241m=\u001b[39m \u001b[38;5;241m98\u001b[39m\n\u001b[1;32m---> 10\u001b[0m \u001b[38;5;28;01mwith\u001b[39;00m sinContextManager() \u001b[38;5;28;01mas\u001b[39;00m datos:\n\u001b[0;32m     12\u001b[0m     \u001b[38;5;28mprint\u001b[39m(\u001b[38;5;124m'\u001b[39m\u001b[38;5;124mValor sin FINALIZAR el Contexto\u001b[39m\u001b[38;5;124m'\u001b[39m,datos)\n",
      "\u001b[1;31mAttributeError\u001b[0m: __enter__"
     ]
    }
   ],
   "source": [
    "class sinContextManager:\n",
    "    \n",
    "    def __init__(self):\n",
    "        self.iniciar_recurso = 7\n",
    "        \n",
    "    def __exit__(self, *args):\n",
    "        self.iniciar_recurso = 98\n",
    "        \n",
    "        \n",
    "with sinContextManager() as datos:\n",
    "    \n",
    "    print('Valor sin FINALIZAR el Contexto',datos)"
   ]
  },
  {
   "cell_type": "markdown",
   "id": "81b1b54e-86c1-4ed8-b3d1-51e240c7f006",
   "metadata": {},
   "source": [
    "# <center> **ADMINISTRADOR DE CONTEXTO CON DECORADORES**"
   ]
  },
  {
   "cell_type": "markdown",
   "id": "b616b146-7f63-4e94-89de-4c489ea21de0",
   "metadata": {},
   "source": [
    "<center> <img src=\"decorador.png\"/> </center> "
   ]
  },
  {
   "cell_type": "code",
   "execution_count": 14,
   "id": "260212cb-5551-4c77-8dcb-2eee406f0362",
   "metadata": {
    "tags": []
   },
   "outputs": [
    {
     "name": "stdout",
     "output_type": "stream",
     "text": [
      "Inicia el contexto\n",
      "no hubo excepcion\n",
      "Inicia el contexto\n",
      "Valor sin FINALIZAR el Contexto, HILOS <multiprocessing.pool.ThreadPool state=RUN pool_size=2>\n",
      "Valor sin FINALIZAR el Contexto, RESULTADO [100, 121, 144, 169, 196, 225, 256, 289, 324, 361]\n",
      "---- <multiprocessing.pool.ThreadPool state=RUN pool_size=2>\n",
      "Cerrando los Recursos\n"
     ]
    },
    {
     "ename": "NameError",
     "evalue": "name 'iniciar_recurso' is not defined",
     "output_type": "error",
     "traceback": [
      "\u001b[1;31m---------------------------------------------------------------------------\u001b[0m",
      "\u001b[1;31mNameError\u001b[0m                                 Traceback (most recent call last)",
      "Input \u001b[1;32mIn [14]\u001b[0m, in \u001b[0;36m<cell line: 29>\u001b[1;34m()\u001b[0m\n\u001b[0;32m     26\u001b[0m             \u001b[38;5;28mprint\u001b[39m(\u001b[38;5;124m'\u001b[39m\u001b[38;5;124mFinalizando el contexto\u001b[39m\u001b[38;5;124m'\u001b[39m)       \n\u001b[0;32m     28\u001b[0m \u001b[38;5;66;03m# llamar un decorador administrador de contexto sincrono      \u001b[39;00m\n\u001b[1;32m---> 29\u001b[0m \u001b[38;5;28;01mwith\u001b[39;00m decorador_context_manager(\u001b[38;5;241m10\u001b[39m) \u001b[38;5;28;01mas\u001b[39;00m proceso:    \n\u001b[0;32m     30\u001b[0m     resultado \u001b[38;5;241m=\u001b[39m proceso\u001b[38;5;241m.\u001b[39mmap(calcular_cuadrado, \u001b[38;5;28mrange\u001b[39m(\u001b[38;5;241m10\u001b[39m,\u001b[38;5;241m20\u001b[39m))\n\u001b[0;32m     32\u001b[0m     \u001b[38;5;28mprint\u001b[39m(\u001b[38;5;124m'\u001b[39m\u001b[38;5;124mValor sin FINALIZAR el Contexto, HILOS\u001b[39m\u001b[38;5;124m'\u001b[39m,proceso)\n",
      "File \u001b[1;32m~\\AppData\\Local\\Programs\\Python\\Python310\\lib\\contextlib.py:142\u001b[0m, in \u001b[0;36m_GeneratorContextManager.__exit__\u001b[1;34m(self, typ, value, traceback)\u001b[0m\n\u001b[0;32m    140\u001b[0m \u001b[38;5;28;01mif\u001b[39;00m typ \u001b[38;5;129;01mis\u001b[39;00m \u001b[38;5;28;01mNone\u001b[39;00m:\n\u001b[0;32m    141\u001b[0m     \u001b[38;5;28;01mtry\u001b[39;00m:\n\u001b[1;32m--> 142\u001b[0m         \u001b[38;5;28;43mnext\u001b[39;49m\u001b[43m(\u001b[49m\u001b[38;5;28;43mself\u001b[39;49m\u001b[38;5;241;43m.\u001b[39;49m\u001b[43mgen\u001b[49m\u001b[43m)\u001b[49m\n\u001b[0;32m    143\u001b[0m     \u001b[38;5;28;01mexcept\u001b[39;00m \u001b[38;5;167;01mStopIteration\u001b[39;00m:\n\u001b[0;32m    144\u001b[0m         \u001b[38;5;28;01mreturn\u001b[39;00m \u001b[38;5;28;01mFalse\u001b[39;00m\n",
      "Input \u001b[1;32mIn [14]\u001b[0m, in \u001b[0;36mdecorador_context_manager\u001b[1;34m(valor)\u001b[0m\n\u001b[0;32m     22\u001b[0m \u001b[38;5;28mprint\u001b[39m(\u001b[38;5;124m'\u001b[39m\u001b[38;5;124m----\u001b[39m\u001b[38;5;124m'\u001b[39m,resultado)\n\u001b[0;32m     23\u001b[0m \u001b[38;5;28mprint\u001b[39m(\u001b[38;5;124m'\u001b[39m\u001b[38;5;124mCerrando los Recursos\u001b[39m\u001b[38;5;124m'\u001b[39m)\n\u001b[1;32m---> 24\u001b[0m \u001b[43miniciar_recurso\u001b[49m\u001b[38;5;241m.\u001b[39mclose()\n\u001b[0;32m     25\u001b[0m iniciar_recurso\u001b[38;5;241m.\u001b[39mjoin()\n\u001b[0;32m     26\u001b[0m \u001b[38;5;28mprint\u001b[39m(\u001b[38;5;124m'\u001b[39m\u001b[38;5;124mFinalizando el contexto\u001b[39m\u001b[38;5;124m'\u001b[39m)\n",
      "\u001b[1;31mNameError\u001b[0m: name 'iniciar_recurso' is not defined"
     ]
    }
   ],
   "source": [
    "from contextlib import contextmanager\n",
    "\n",
    "@contextmanager\n",
    "def decorador_context_manager(valor):    \n",
    "    \n",
    "    try:\n",
    "        print('Inicia el contexto')\n",
    "        1/valor        \n",
    "    except Exception as ex:\n",
    "        resultado = \"Ha ocurrido una excepcion -> \" + str(ex)\n",
    "    else:\n",
    "        print('no hubo excepcion')\n",
    "        print('Inicia el contexto')\n",
    "        resultado = ThreadPool(processes=2)\n",
    "        # solo se puede usar yield una vez, para un flujo completo en un administrador de contexto\n",
    "        yield resultado \n",
    "    finally:\n",
    "        \n",
    "        if str(resultado).count('excepcion'):\n",
    "            yield resultado\n",
    "        else:\n",
    "            print('----',resultado)\n",
    "            print('Cerrando los Recursos')\n",
    "            iniciar_recurso.close()\n",
    "            iniciar_recurso.join()\n",
    "            print('Finalizando el contexto')       \n",
    "\n",
    "# llamar un decorador administrador de contexto sincrono      \n",
    "with decorador_context_manager(10) as proceso:    \n",
    "    resultado = proceso.map(calcular_cuadrado, range(10,20))\n",
    "    \n",
    "    print('Valor sin FINALIZAR el Contexto, HILOS',proceso)\n",
    "    print('Valor sin FINALIZAR el Contexto, RESULTADO',resultado)\n",
    "    \n",
    "print(resultado)"
   ]
  },
  {
   "cell_type": "markdown",
   "id": "72a4f176-98a9-4512-8b63-06b97264a415",
   "metadata": {},
   "source": [
    "# <center> **USAR MULTIPLES ADMINISTRADORES DE CONTEXTO AL TIEMPO**"
   ]
  },
  {
   "cell_type": "code",
   "execution_count": 15,
   "id": "597b3cdf-dc22-4f2c-8d02-a64046ce8fdf",
   "metadata": {},
   "outputs": [
    {
     "name": "stdout",
     "output_type": "stream",
     "text": [
      "Iniciando el contexto con valor  1\n",
      "Iniciando el contexto con valor  2\n",
      "Iniciando el contexto con valor  3\n",
      "\n",
      "resultado del contexto 1 ->  1\n",
      "resultado del contexto 2 ->  8\n",
      "resultado del contexto 3 ->  27\n",
      "resultado del contexto 1 + 2 + 3 ->  36\n",
      "\n",
      "Cerrando los Recursos del contexto  3\n",
      "Finalizando el contexto  3\n",
      "\n",
      "Cerrando los Recursos del contexto  2\n",
      "Finalizando el contexto  2\n",
      "\n",
      "Cerrando los Recursos del contexto  1\n",
      "Finalizando el contexto  1\n",
      "\n",
      "\n",
      "valores fuera del contexto 1 ->  1\n",
      "valores fuera del contexto 2 ->  8\n",
      "valores fuera del contexto 3 ->  27\n"
     ]
    }
   ],
   "source": [
    "def cubo(valor):\n",
    "    return valor **3\n",
    "\n",
    "@contextmanager\n",
    "def multiple(valor):\n",
    "    try:\n",
    "        1/valor\n",
    "    except Exception as ex:\n",
    "        print('esta es la excepcion', ex)\n",
    "    else:\n",
    "        print('Iniciando el contexto con valor ',valor)\n",
    "        yield cubo(valor)\n",
    "    finally:\n",
    "        print('Cerrando los Recursos del contexto ',valor)\n",
    "        print('Finalizando el contexto ',valor)\n",
    "        print()\n",
    "\n",
    "# crear una administrador de contexto sincrono con multiples llamados simultaneos\n",
    "with multiple(1) as uno, multiple(2) as dos, multiple(3) as tres:\n",
    "    print()\n",
    "    print('resultado del contexto 1 -> ',uno)\n",
    "    print('resultado del contexto 2 -> ',dos)\n",
    "    print('resultado del contexto 3 -> ',tres)\n",
    "    # posibilidad de interaccion entre los administradores de contexto\n",
    "    print('resultado del contexto 1 + 2 + 3 -> ',uno + dos + tres)\n",
    "    print()\n",
    "    \n",
    "print()\n",
    "print('valores fuera del contexto 1 -> ',uno)\n",
    "print('valores fuera del contexto 2 -> ',dos)\n",
    "print('valores fuera del contexto 3 -> ',tres)"
   ]
  },
  {
   "cell_type": "markdown",
   "id": "e854414e-f1be-4e55-8273-32eea0f24df0",
   "metadata": {},
   "source": [
    "# <center> **COMO VALIDAR QUE UN METODO NO ES UN ADMINISTRADOR DE CONTEXTO**"
   ]
  },
  {
   "cell_type": "code",
   "execution_count": 16,
   "id": "47d181fb-5b4a-42f4-89cb-1aebbb9b7302",
   "metadata": {},
   "outputs": [
    {
     "ename": "AttributeError",
     "evalue": "__enter__",
     "output_type": "error",
     "traceback": [
      "\u001b[1;31m---------------------------------------------------------------------------\u001b[0m",
      "\u001b[1;31mAttributeError\u001b[0m                            Traceback (most recent call last)",
      "Input \u001b[1;32mIn [16]\u001b[0m, in \u001b[0;36m<cell line: 8>\u001b[1;34m()\u001b[0m\n\u001b[0;32m      4\u001b[0m     \u001b[38;5;28;01mfinally\u001b[39;00m:\n\u001b[0;32m      5\u001b[0m         valor \u001b[38;5;241m+\u001b[39m \u001b[38;5;241m10\u001b[39m\n\u001b[1;32m----> 8\u001b[0m \u001b[38;5;28;01mwith\u001b[39;00m sin_decorador_context_manager(\u001b[38;5;241m123\u001b[39m) \u001b[38;5;28;01mas\u001b[39;00m variable:\n\u001b[0;32m      9\u001b[0m     \u001b[38;5;28mprint\u001b[39m(variable)\n\u001b[0;32m     11\u001b[0m \u001b[38;5;28mprint\u001b[39m(variable)\n",
      "\u001b[1;31mAttributeError\u001b[0m: __enter__"
     ]
    }
   ],
   "source": [
    "def sin_decorador_context_manager(valor):\n",
    "    try:\n",
    "        yield valor\n",
    "    finally:\n",
    "        valor + 10\n",
    "\n",
    "    \n",
    "with sin_decorador_context_manager(123) as variable:\n",
    "    print(variable)\n",
    "    \n",
    "print(variable)"
   ]
  },
  {
   "cell_type": "markdown",
   "id": "a4197ef0-6393-4185-82ce-9a46045dd56f",
   "metadata": {},
   "source": [
    "# <center> **CLASE ADMINISTRADORA DE CONTEXTO ASINCRONA**\n",
    "# <center> tiene 3 metodos principales, **.\\__\\__init\\__\\__()**,**.\\__\\__aenter\\__\\__()**,**.\\__\\__aexit\\__\\__()**"
   ]
  },
  {
   "cell_type": "markdown",
   "id": "47d1d5df-9c50-4ed5-b1c1-3d2847b977a4",
   "metadata": {},
   "source": [
    "<center> <img src=\"generador_de_contexto_asincrono.png\"/> </center> "
   ]
  },
  {
   "cell_type": "code",
   "execution_count": 17,
   "id": "91b4c518-a06c-466f-aee8-62fbc9986438",
   "metadata": {},
   "outputs": [
    {
     "name": "stdout",
     "output_type": "stream",
     "text": [
      "Valor sin FINALIZAR el Contexto, HILOS <multiprocessing.pool.ThreadPool state=RUN pool_size=2>\n",
      "Valor sin FINALIZAR el Contexto, RESULTADO [0, 1, 4, 9, 16, 25, 36, 49, 64, 81]\n",
      "Finalizacion de Contexto Asincrono <multiprocessing.pool.ThreadPool state=CLOSE pool_size=2>\n",
      "Finaliza el Contexto  Asincrono sin Excepcion  <multiprocessing.pool.ThreadPool state=CLOSE pool_size=2>\n",
      "Valor FINALIZADO DESPUES del Contexto [0, 1, 4, 9, 16, 25, 36, 49, 64, 81, 0, 1, 4, 9, 16, 25, 36, 49, 64, 81]\n"
     ]
    }
   ],
   "source": [
    "class AdiministradorDeContextoAsincrono:\n",
    "    # crea la instancia del objeto\n",
    "    def __init__(self):\n",
    "        self.iniciar_recurso = ThreadPool(processes=2)\n",
    "    \n",
    "    # funcion asincrona\n",
    "    async def __funcion_asincrona__(self):\n",
    "        return self.iniciar_recurso\n",
    "        \n",
    "    # inicia el contexto\n",
    "    async def __aenter__(self):\n",
    "        return await self.__funcion_asincrona__()        \n",
    "\n",
    "    # encargada de cerrar los recursos creados finalizar los procesos y manejar las excepciones\n",
    "    async def __aexit__(self, exc_type=None, exc_value=None, exc_tb=None,*args, **kwargs):\n",
    "        \n",
    "        self.iniciar_recurso.close() # Evita que se envíen más tareas al grupo.\n",
    "        self.iniciar_recurso.join() # Espere a que finalicen los procesos de trabajo. Uno debe llamar a close() o terminate() antes de usar join().\n",
    "        print('Finalizacion de Contexto Asincrono', self.iniciar_recurso)\n",
    "        # no hubo excepcion\n",
    "        if not exc_type:\n",
    "            print('Finaliza el Contexto  Asincrono sin Excepcion ', self.iniciar_recurso)\n",
    "            return True\n",
    "        # hubo excepcion pero se controlo\n",
    "        elif exc_type in (IndexError, ZeroDivisionError):\n",
    "            \n",
    "            print('Finaliza el Contexto  Asincrono CON Excepcion CONTROLADA ', self.iniciar_recurso)            \n",
    "            print(f'Excepcion Controlada, {exc_value}')\n",
    "            print(f'Excepcion Typo, {exc_type}')\n",
    "            print(exc_tb.tb_frame)\n",
    "\n",
    "            # retornar true significa ignorar excepcion, ya que esta controlada\n",
    "            return True\n",
    "        # hubo excepcion pero no se controlo\n",
    "        else:            \n",
    "            print('Finaliza el Contexto  Asincrono SIN Excepcion CONTROLADA ', exc_type, exc_value, exc_tb, sep=\"\\n\")\n",
    "            return False\n",
    "\n",
    "# llamar una clase administradora de contexto asincrona\n",
    "async with AdiministradorDeContextoAsincrono() as proceso:\n",
    "    \n",
    "    resultado = proceso.map(calcular_cuadrado, range(10))\n",
    "    \n",
    "    print('Valor sin FINALIZAR el Contexto, HILOS',proceso)\n",
    "    print('Valor sin FINALIZAR el Contexto, RESULTADO',resultado)\n",
    "\n",
    "print('Valor FINALIZADO DESPUES del Contexto',resultado * 2)"
   ]
  },
  {
   "cell_type": "markdown",
   "id": "183dcee2-e022-4814-8807-5e9f35af3848",
   "metadata": {},
   "source": [
    "# <center> **COMO VALIDAR QUE UNA CLASE ASINCRONA NO ES UN ADMINISTRADOR DE CONTEXTO ASINCRONO**"
   ]
  },
  {
   "cell_type": "code",
   "execution_count": 18,
   "id": "6ba8825d-1464-4dfb-bb92-da94ab203fa3",
   "metadata": {},
   "outputs": [
    {
     "ename": "AttributeError",
     "evalue": "__aenter__",
     "output_type": "error",
     "traceback": [
      "\u001b[1;31m---------------------------------------------------------------------------\u001b[0m",
      "\u001b[1;31mAttributeError\u001b[0m                            Traceback (most recent call last)",
      "Input \u001b[1;32mIn [18]\u001b[0m, in \u001b[0;36m<cell line: 17>\u001b[1;34m()\u001b[0m\n\u001b[0;32m     13\u001b[0m     \u001b[38;5;28;01masync\u001b[39;00m \u001b[38;5;28;01mdef\u001b[39;00m \u001b[38;5;21m__exit__\u001b[39m(\u001b[38;5;28mself\u001b[39m, exc_type\u001b[38;5;241m=\u001b[39m\u001b[38;5;28;01mNone\u001b[39;00m, exc_value\u001b[38;5;241m=\u001b[39m\u001b[38;5;28;01mNone\u001b[39;00m, exc_tb\u001b[38;5;241m=\u001b[39m\u001b[38;5;28;01mNone\u001b[39;00m,\u001b[38;5;241m*\u001b[39margs, \u001b[38;5;241m*\u001b[39m\u001b[38;5;241m*\u001b[39mkwargs):\n\u001b[0;32m     14\u001b[0m         \u001b[38;5;28;01mreturn\u001b[39;00m \u001b[38;5;241m22\u001b[39m\n\u001b[1;32m---> 17\u001b[0m \u001b[38;5;28;01masync\u001b[39;00m \u001b[38;5;28;01mwith\u001b[39;00m AdiministradorDeContextoAsincrono() \u001b[38;5;28;01mas\u001b[39;00m datos:\n\u001b[0;32m     19\u001b[0m     \u001b[38;5;28mprint\u001b[39m(\u001b[38;5;124m'\u001b[39m\u001b[38;5;124mValor sin FINALIZAR el Contexto Asincrono\u001b[39m\u001b[38;5;124m'\u001b[39m,datos)\n\u001b[0;32m     21\u001b[0m \u001b[38;5;28mprint\u001b[39m(\u001b[38;5;124m'\u001b[39m\u001b[38;5;124mValor FINALIZADO DESPUES del Contexto Asincrono\u001b[39m\u001b[38;5;124m'\u001b[39m,datos)\n",
      "\u001b[1;31mAttributeError\u001b[0m: __aenter__"
     ]
    }
   ],
   "source": [
    "class AdiministradorDeContextoAsincrono:\n",
    "    \n",
    "    # crea la instancia del objeto\n",
    "    def __init__(self):\n",
    "        self.iniciar_recurso = [5,10,15]\n",
    "        \n",
    "    async def __funcion_asincrona__(self):\n",
    "        return self.iniciar_recurso\n",
    "    \n",
    "    async def __enter__(self):        \n",
    "        return await self.__funcion_asincrona__()\n",
    "    \n",
    "    async def __exit__(self, exc_type=None, exc_value=None, exc_tb=None,*args, **kwargs):\n",
    "        return 22\n",
    "        \n",
    "        \n",
    "async with AdiministradorDeContextoAsincrono() as datos:\n",
    "    \n",
    "    print('Valor sin FINALIZAR el Contexto Asincrono',datos)\n",
    "\n",
    "print('Valor FINALIZADO DESPUES del Contexto Asincrono',datos)"
   ]
  },
  {
   "cell_type": "code",
   "execution_count": 19,
   "id": "28fbd17e-b590-4eb6-b30f-c99b310f0055",
   "metadata": {},
   "outputs": [
    {
     "ename": "AttributeError",
     "evalue": "__aexit__",
     "output_type": "error",
     "traceback": [
      "\u001b[1;31m---------------------------------------------------------------------------\u001b[0m",
      "\u001b[1;31mAttributeError\u001b[0m                            Traceback (most recent call last)",
      "Input \u001b[1;32mIn [19]\u001b[0m, in \u001b[0;36m<cell line: 17>\u001b[1;34m()\u001b[0m\n\u001b[0;32m     13\u001b[0m     \u001b[38;5;28;01masync\u001b[39;00m \u001b[38;5;28;01mdef\u001b[39;00m \u001b[38;5;21m__exit__\u001b[39m(\u001b[38;5;28mself\u001b[39m, exc_type\u001b[38;5;241m=\u001b[39m\u001b[38;5;28;01mNone\u001b[39;00m, exc_value\u001b[38;5;241m=\u001b[39m\u001b[38;5;28;01mNone\u001b[39;00m, exc_tb\u001b[38;5;241m=\u001b[39m\u001b[38;5;28;01mNone\u001b[39;00m,\u001b[38;5;241m*\u001b[39margs, \u001b[38;5;241m*\u001b[39m\u001b[38;5;241m*\u001b[39mkwargs):\n\u001b[0;32m     14\u001b[0m         \u001b[38;5;28;01mreturn\u001b[39;00m \u001b[38;5;241m22\u001b[39m\n\u001b[1;32m---> 17\u001b[0m \u001b[38;5;28;01masync\u001b[39;00m \u001b[38;5;28;01mwith\u001b[39;00m AdiministradorDeContextoAsincrono() \u001b[38;5;28;01mas\u001b[39;00m datos:\n\u001b[0;32m     19\u001b[0m     \u001b[38;5;28mprint\u001b[39m(\u001b[38;5;124m'\u001b[39m\u001b[38;5;124mValor sin FINALIZAR el Contexto Asincrono\u001b[39m\u001b[38;5;124m'\u001b[39m,datos)\n\u001b[0;32m     21\u001b[0m \u001b[38;5;28mprint\u001b[39m(\u001b[38;5;124m'\u001b[39m\u001b[38;5;124mValor FINALIZADO DESPUES del Contexto Asincrono\u001b[39m\u001b[38;5;124m'\u001b[39m,datos)\n",
      "\u001b[1;31mAttributeError\u001b[0m: __aexit__"
     ]
    }
   ],
   "source": [
    "class AdiministradorDeContextoAsincrono:\n",
    "    \n",
    "    # crea la instancia del objeto\n",
    "    def __init__(self):\n",
    "        self.iniciar_recurso = [5,10,15]\n",
    "        \n",
    "    async def __funcion_asincrona__(self):\n",
    "        return self.iniciar_recurso\n",
    "    \n",
    "    async def __aenter__(self):        \n",
    "        return await self.__funcion_asincrona__()\n",
    "    \n",
    "    async def __exit__(self, exc_type=None, exc_value=None, exc_tb=None,*args, **kwargs):\n",
    "        return 22\n",
    "        \n",
    "        \n",
    "async with AdiministradorDeContextoAsincrono() as datos:\n",
    "    \n",
    "    print('Valor sin FINALIZAR el Contexto Asincrono',datos)\n",
    "\n",
    "print('Valor FINALIZADO DESPUES del Contexto Asincrono',datos)"
   ]
  },
  {
   "cell_type": "markdown",
   "id": "4f4abc9b-a22d-4742-b337-5b3685b55a44",
   "metadata": {},
   "source": [
    "# <center> **ADMINISTRADOR DE CONTEXTO ASINCRONO CON DECORADORES**"
   ]
  },
  {
   "cell_type": "markdown",
   "id": "22d5f02b-e1f0-4963-8b36-822e96a4c00a",
   "metadata": {},
   "source": [
    "<center> <img src=\"decorador_asincrono.png\"/> </center> "
   ]
  },
  {
   "cell_type": "code",
   "execution_count": 20,
   "id": "9c252c43-5055-44da-a12b-463e06aa5d74",
   "metadata": {},
   "outputs": [
    {
     "name": "stdout",
     "output_type": "stream",
     "text": [
      "antes del inicio del contexto 31\n",
      "iniciando el contexto [961]\n",
      "Valor sin manipular el valor del Contexto Asincrono [961]\n",
      "Valor sin FINALIZAR el Contexto Asincrono [961, 23]\n",
      "Valor FINALIZADO DESPUES del Contexto Asincrono [961, 23]\n"
     ]
    }
   ],
   "source": [
    "import asyncio\n",
    "from contextlib import asynccontextmanager\n",
    "\n",
    "async def cuadrado(valor):\n",
    "    return [valor **2]\n",
    "\n",
    "def mensaje():\n",
    "    return 'sincrono'\n",
    "\n",
    "@asynccontextmanager\n",
    "async def funcion_asincrona(valor):\n",
    "\n",
    "    try:\n",
    "        1/valor\n",
    "    except Exception as e:\n",
    "        print('excepcion despues de llamar al contexto',e)\n",
    "    else:\n",
    "        print('antes del inicio del contexto', valor)\n",
    "        result = await cuadrado(valor)\n",
    "        print('iniciando el contexto', result)\n",
    "        yield result        \n",
    "        await asyncio.sleep(0)        \n",
    "        \n",
    "    finally:\n",
    "        await cuadrado(valor // 2)\n",
    "        mensaje()\n",
    "\n",
    "# llamar un decorador administrador de contexto asincrono \n",
    "async with funcion_asincrona(31) as valor:\n",
    "    \n",
    "    print('Valor sin manipular el valor del Contexto Asincrono', valor)\n",
    "    valor.append(23)\n",
    "    print('Valor sin FINALIZAR el Contexto Asincrono', valor)\n",
    "\n",
    "print('Valor FINALIZADO DESPUES del Contexto Asincrono',valor)"
   ]
  },
  {
   "cell_type": "markdown",
   "id": "b15c5a47-a243-46dc-88f4-e4848e2fde9b",
   "metadata": {},
   "source": [
    "# <center> **USAR MULTIPLES ADMINISTRADORES DE CONTEXTO ASINCRONOS AL TIEMPO**"
   ]
  },
  {
   "cell_type": "code",
   "execution_count": 21,
   "id": "d49d784d-5323-4c15-a759-8d3446bf9223",
   "metadata": {},
   "outputs": [
    {
     "name": "stdout",
     "output_type": "stream",
     "text": [
      "\n",
      "resultado del contexto 1 ->  1\n",
      "resultado del contexto 2 ->  2\n",
      "resultado del contexto 3 ->  3\n",
      "resultado del contexto 1 + 2 + 3 ->  6\n",
      "\n",
      "\n",
      "valores fuera del contexto 1 ->  1\n",
      "valores fuera del contexto 2 ->  2\n",
      "valores fuera del contexto 3 ->  3\n"
     ]
    }
   ],
   "source": [
    "@asynccontextmanager\n",
    "async def funcion_asincrona(valor):\n",
    "\n",
    "    await asyncio.sleep(0)\n",
    "    yield valor\n",
    "    await asyncio.sleep(0)\n",
    "\n",
    "\n",
    "# crear una administrador de contexto asincrono con multiples llamados simultaneos\n",
    "async with funcion_asincrona(1) as uno, funcion_asincrona(2) as dos, funcion_asincrona(3) as tres:\n",
    "    print()\n",
    "    print('resultado del contexto 1 -> ',uno)\n",
    "    print('resultado del contexto 2 -> ',dos)\n",
    "    print('resultado del contexto 3 -> ',tres)\n",
    "    # posibilidad de interaccion entre los administradores de contexto\n",
    "    print('resultado del contexto 1 + 2 + 3 -> ',uno + dos + tres)\n",
    "    print()\n",
    "    \n",
    "print()\n",
    "print('valores fuera del contexto 1 -> ',uno)\n",
    "print('valores fuera del contexto 2 -> ',dos)\n",
    "print('valores fuera del contexto 3 -> ',tres)"
   ]
  },
  {
   "cell_type": "markdown",
   "id": "dafe80b5-ed00-4b11-9df3-2e1146fb10f8",
   "metadata": {},
   "source": [
    "# <center> **COMO VALIDAR QUE UN METODO NO ES UN ADMINISTRADOR DE CONTEXTO ASINCRONO**"
   ]
  },
  {
   "cell_type": "code",
   "execution_count": 22,
   "id": "7ebd4b22-f37a-4bf9-b43a-98f983e8cd1a",
   "metadata": {},
   "outputs": [
    {
     "ename": "AttributeError",
     "evalue": "__aenter__",
     "output_type": "error",
     "traceback": [
      "\u001b[1;31m---------------------------------------------------------------------------\u001b[0m",
      "\u001b[1;31mAttributeError\u001b[0m                            Traceback (most recent call last)",
      "Input \u001b[1;32mIn [22]\u001b[0m, in \u001b[0;36m<cell line: 7>\u001b[1;34m()\u001b[0m\n\u001b[0;32m      4\u001b[0m     \u001b[38;5;28;01myield\u001b[39;00m valor\n\u001b[0;32m      5\u001b[0m     \u001b[38;5;28;01mawait\u001b[39;00m asyncio\u001b[38;5;241m.\u001b[39msleep(\u001b[38;5;241m0\u001b[39m)\n\u001b[1;32m----> 7\u001b[0m \u001b[38;5;28;01masync\u001b[39;00m \u001b[38;5;28;01mwith\u001b[39;00m funcion_asincrona(\u001b[38;5;241m31\u001b[39m) \u001b[38;5;28;01mas\u001b[39;00m valor:\n\u001b[0;32m      8\u001b[0m      \u001b[38;5;28mprint\u001b[39m(\u001b[38;5;124m'\u001b[39m\u001b[38;5;124mValor sin FINALIZAR el Contexto Asincrono\u001b[39m\u001b[38;5;124m'\u001b[39m, valor)\n\u001b[0;32m     10\u001b[0m \u001b[38;5;28mprint\u001b[39m(\u001b[38;5;124m'\u001b[39m\u001b[38;5;124mValor FINALIZADO DESPUES del Contexto Asincrono\u001b[39m\u001b[38;5;124m'\u001b[39m,valor)\n",
      "\u001b[1;31mAttributeError\u001b[0m: __aenter__"
     ]
    }
   ],
   "source": [
    "async def funcion_asincrona(valor):\n",
    "\n",
    "    await asyncio.sleep(0)\n",
    "    yield valor\n",
    "    await asyncio.sleep(0)\n",
    "\n",
    "async with funcion_asincrona(31) as valor:\n",
    "     print('Valor sin FINALIZAR el Contexto Asincrono', valor)\n",
    "\n",
    "print('Valor FINALIZADO DESPUES del Contexto Asincrono',valor)"
   ]
  },
  {
   "cell_type": "code",
   "execution_count": null,
   "id": "5e68eafd-d658-402e-8399-bc3c59731375",
   "metadata": {},
   "outputs": [],
   "source": []
  }
 ],
 "metadata": {
  "kernelspec": {
   "display_name": "Python 3 (ipykernel)",
   "language": "python",
   "name": "python3"
  },
  "language_info": {
   "codemirror_mode": {
    "name": "ipython",
    "version": 3
   },
   "file_extension": ".py",
   "mimetype": "text/x-python",
   "name": "python",
   "nbconvert_exporter": "python",
   "pygments_lexer": "ipython3",
   "version": "3.10.2"
  }
 },
 "nbformat": 4,
 "nbformat_minor": 5
}
