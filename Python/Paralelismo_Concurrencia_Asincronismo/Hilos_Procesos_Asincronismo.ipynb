{
 "cells": [
  {
   "cell_type": "code",
   "execution_count": 1,
   "id": "c7896697-5ea3-4ba4-8822-c92c00a2416b",
   "metadata": {
    "scrolled": true,
    "tags": []
   },
   "outputs": [
    {
     "name": "stdout",
     "output_type": "stream",
     "text": [
      "Python 3.10.4\n"
     ]
    }
   ],
   "source": [
    "!python -V"
   ]
  },
  {
   "cell_type": "code",
   "execution_count": 2,
   "id": "467d05aa-828d-47bb-bee4-f0c98ee1297a",
   "metadata": {},
   "outputs": [],
   "source": [
    "import os\n",
    "\n",
    "nucleos_totales = os.cpu_count()"
   ]
  },
  {
   "cell_type": "markdown",
   "id": "ba81f568-309d-4202-909c-95605cac1d08",
   "metadata": {},
   "source": [
    "# <center> TIPOS DE INSTANCIA</center>"
   ]
  },
  {
   "cell_type": "code",
   "execution_count": 3,
   "id": "30538f2b-ba30-42b6-a13a-b6d111e507d2",
   "metadata": {},
   "outputs": [],
   "source": [
    "# libreria para procesamiento en paralelo\n",
    "from threading import Thread\n",
    "\n",
    "# importa las librerias que permiten usar la computacion paralela\n",
    "from multiprocessing import Process\n",
    "\n",
    "tipo_instancia = {\n",
    "                'hilos':Thread,\n",
    "                'procesos':Process\n",
    "}"
   ]
  },
  {
   "cell_type": "markdown",
   "id": "1445ddb3-74de-40df-bcdc-3d64b6927660",
   "metadata": {},
   "source": [
    "# <center> FUNCIONES PARA LOS HILOS Y PROCESOS</center>"
   ]
  },
  {
   "cell_type": "code",
   "execution_count": 4,
   "id": "df45751a-28b8-48d2-b788-c0e4125e5676",
   "metadata": {},
   "outputs": [],
   "source": [
    "def generar_instancia(tipo_tarea=None, funcion_a_procesar=None, **parametros):\n",
    "    \n",
    "    # convierte los argumentos a tupla ya que los argumentos deben ser de tipo tupla\n",
    "    argumentos = tuple(parametros.values())\n",
    "    \n",
    "    # crea la instancia\n",
    "    tipo_ejecucion = tipo_instancia.get(tipo_tarea, Thread)\n",
    "    \n",
    "    # retorna la instancia con los argumentos a evaluar\n",
    "    return tipo_ejecucion(name='test_ejecucion' ,target=funcion_a_procesar,args=argumentos)\n",
    "\n",
    "\n",
    "def iniciar_y_finalizar_instancia(instancia):\n",
    "    \n",
    "    # muestra el nombre del hilo o del proceso\n",
    "    print('nombre ', instancia.name)\n",
    "    \n",
    "    # inicializa la ejecucion de la instruccion invocada en el hilo o proceso\n",
    "    instancia.start()\n",
    "    \n",
    "    # garantiza que se finaliza la funcion invocada, antes de que se continue con una nueva instruccion\n",
    "    instancia.join()\n",
    "    \n",
    "    print('tarea Finalizada') \n",
    "    \n",
    "    return instancia    "
   ]
  },
  {
   "cell_type": "markdown",
   "id": "78a68a47-ccd3-41a6-b354-fd7710a52136",
   "metadata": {},
   "source": [
    "# <center> HILOS</center>"
   ]
  },
  {
   "cell_type": "markdown",
   "id": "738e0427-1fa8-42f7-926b-e78f0c834ce0",
   "metadata": {},
   "source": [
    "# <center> COLA PARA ADICIONAR RESULTADOS HILOS</center>"
   ]
  },
  {
   "cell_type": "code",
   "execution_count": 5,
   "id": "628f407d-ec3b-460b-b985-126027773fdd",
   "metadata": {},
   "outputs": [],
   "source": [
    "from queue import Queue as cola_classica\n",
    "\n",
    "almacenar_resultados = cola_classica()\n",
    "\n",
    "def almacenar_en_cola(f):\n",
    "    def wrapper(*args):\n",
    "        almacenar_resultados.put(f(*args))\n",
    "    return wrapper\n",
    "\n",
    "@almacenar_en_cola\n",
    "def retornar_lista(numero=100):\n",
    "    return [i for i in range(numero)]\n",
    "\n",
    "def obtener_resultado_cola_tarea(cola):\n",
    "    \n",
    "    for indice_tarea in range(cola.qsize()):\n",
    "        print(cola.get(indice_tarea))"
   ]
  },
  {
   "cell_type": "code",
   "execution_count": 6,
   "id": "1421c118-a711-4180-9e6e-c6a0b10ecc72",
   "metadata": {
    "scrolled": true,
    "tags": []
   },
   "outputs": [
    {
     "name": "stdout",
     "output_type": "stream",
     "text": [
      "nombre  test_ejecucion\n",
      "tarea Finalizada\n",
      "nombre  test_ejecucion\n",
      "tarea Finalizada\n",
      "nombre  test_ejecucion\n",
      "tarea Finalizada\n",
      "nombre  test_ejecucion\n",
      "tarea Finalizada\n",
      "nombre  test_ejecucion\n",
      "tarea Finalizada\n",
      "[0, 1, 2, 3, 4, 5, 6, 7, 8, 9, 10, 11, 12, 13, 14, 15, 16, 17, 18, 19]\n",
      "[0, 1, 2, 3, 4, 5, 6, 7, 8, 9, 10, 11, 12, 13, 14, 15, 16, 17, 18, 19]\n",
      "[0, 1, 2, 3, 4, 5, 6, 7, 8, 9, 10, 11, 12, 13, 14, 15, 16, 17, 18, 19]\n",
      "[0, 1, 2, 3, 4, 5, 6, 7, 8, 9, 10, 11, 12, 13, 14, 15, 16, 17, 18, 19]\n",
      "[0, 1, 2, 3, 4, 5, 6, 7, 8, 9, 10, 11, 12, 13, 14, 15, 16, 17, 18, 19]\n"
     ]
    }
   ],
   "source": [
    "listado = []\n",
    "for i in range(5):\n",
    "  \n",
    "    instancia = generar_instancia(tipo_tarea='hilos', funcion_a_procesar=retornar_lista, numero=20)\n",
    "    ejecutar_tarea = iniciar_y_finalizar_instancia(instancia)\n",
    "    type(ejecutar_tarea)\n",
    "   \n",
    "    listado.append(ejecutar_tarea)\n",
    "\n",
    "obtener_resultado_cola_tarea(almacenar_resultados)"
   ]
  },
  {
   "cell_type": "markdown",
   "id": "8abfe254-658e-4712-9064-fc9a238c665a",
   "metadata": {},
   "source": [
    "# <center> PROCESOS</center>"
   ]
  },
  {
   "cell_type": "markdown",
   "id": "c8d62280-14e1-4e71-ae2b-645d4530c139",
   "metadata": {},
   "source": [
    "# <center> COLA PARA ADICIONAR RESULTADOS PROCESOS</center>"
   ]
  },
  {
   "cell_type": "code",
   "execution_count": 7,
   "id": "ad780113-8c29-426e-89ed-8f0c80e0dede",
   "metadata": {},
   "outputs": [],
   "source": [
    "from multiprocessing import Queue as cola_multiproceso\n",
    "\n",
    "almacenar_resultados_multiproceso = cola_multiproceso()\n",
    "\n",
    "def almacenar_en_cola_multiproceso(f):\n",
    "    def wrapper(*args):\n",
    "        almacenar_resultados_multiproceso.put(f(*args))\n",
    "    return wrapper\n",
    "\n",
    "@almacenar_en_cola_multiproceso\n",
    "def retornar_lista_proceso(numero=20):\n",
    "    return [chr(i + 64)  for i in range(numero)]\n",
    "\n",
    "def obtener_resultado_cola_tarea_while(cola):\n",
    "    \n",
    "    while not cola.empty():\n",
    "        result = cola.get()\n",
    "        print (result)"
   ]
  },
  {
   "cell_type": "code",
   "execution_count": 8,
   "id": "708671ff-2c15-4b50-9fbd-ef165aa96001",
   "metadata": {},
   "outputs": [
    {
     "name": "stdout",
     "output_type": "stream",
     "text": [
      "nombre  test_ejecucion\n",
      "tarea Finalizada\n",
      "nombre  test_ejecucion\n",
      "tarea Finalizada\n",
      "nombre  test_ejecucion\n",
      "tarea Finalizada\n",
      "nombre  test_ejecucion\n",
      "tarea Finalizada\n",
      "nombre  test_ejecucion\n",
      "tarea Finalizada\n",
      "['@', 'A', 'B', 'C', 'D', 'E', 'F', 'G', 'H', 'I']\n",
      "['@', 'A', 'B', 'C', 'D', 'E', 'F', 'G', 'H', 'I']\n",
      "['@', 'A', 'B', 'C', 'D', 'E', 'F', 'G', 'H', 'I']\n",
      "['@', 'A', 'B', 'C', 'D', 'E', 'F', 'G', 'H', 'I']\n",
      "['@', 'A', 'B', 'C', 'D', 'E', 'F', 'G', 'H', 'I']\n"
     ]
    }
   ],
   "source": [
    "listado = []\n",
    "for i in range(5):\n",
    "    instancia = generar_instancia(tipo_tarea='procesos', funcion_a_procesar=retornar_lista_proceso, numero=10)\n",
    "    ejecutar_tarea = iniciar_y_finalizar_instancia(instancia)\n",
    "    type(ejecutar_tarea)\n",
    "    \n",
    "    listado.append(ejecutar_tarea)\n",
    "\n",
    "obtener_resultado_cola_tarea_while(almacenar_resultados_multiproceso)"
   ]
  },
  {
   "cell_type": "markdown",
   "id": "d65b0999-b5f0-48f2-9830-53900b9a451c",
   "metadata": {},
   "source": [
    "# <center> MULTI HILOS</center>"
   ]
  },
  {
   "cell_type": "code",
   "execution_count": 9,
   "id": "f6bc30e5-b46d-4334-bf1b-7f723763383b",
   "metadata": {},
   "outputs": [
    {
     "data": {
      "text/plain": [
       "{'hilos': threading.Thread,\n",
       " 'procesos': multiprocessing.context.Process,\n",
       " 'multihilos': concurrent.futures.thread.ThreadPoolExecutor,\n",
       " 'multiproceso': concurrent.futures.process.ProcessPoolExecutor}"
      ]
     },
     "execution_count": 9,
     "metadata": {},
     "output_type": "execute_result"
    }
   ],
   "source": [
    "# importa librerias para trabajar concurrencia\n",
    "from concurrent.futures import ProcessPoolExecutor\n",
    "from concurrent.futures import ThreadPoolExecutor\n",
    "\n",
    "# adiciona nuevas key/values al diccionario\n",
    "tipo_instancia['multihilos'] = ThreadPoolExecutor\n",
    "tipo_instancia['multiproceso'] = ProcessPoolExecutor\n",
    "\n",
    "tipo_instancia"
   ]
  },
  {
   "cell_type": "code",
   "execution_count": 10,
   "id": "ae044242-3050-4b47-96bf-f31ad730fd14",
   "metadata": {},
   "outputs": [],
   "source": [
    "import random\n",
    "\n",
    "def generar_lista(numero = 22):\n",
    "    \n",
    "    return [random.randint(-100, i**2) for i in range(numero)]\n",
    "    \n",
    "def imprimir_multi_datos(lista):\n",
    "    \n",
    "    for valores in lista:\n",
    "        print(valores)"
   ]
  },
  {
   "cell_type": "code",
   "execution_count": 11,
   "id": "fff79e6a-b4dc-43a9-bbb0-04793b7f9843",
   "metadata": {},
   "outputs": [],
   "source": [
    "def generar_pool_iniciar_y_finalizar_multi_instancia(tipo_tarea=None, funcion_a_procesar=None, **parametros):\n",
    "    \n",
    "    argumentos = tuple(parametros.values())\n",
    "    \n",
    "    tipo_ejecucion = tipo_instancia.get(tipo_tarea, ThreadPoolExecutor)\n",
    "    \n",
    "    # asigna los workers basado en el total de CPUs de la maquina\n",
    "    pool = tipo_ejecucion(max_workers=nucleos_totales)\n",
    "    \n",
    "    response = pool.submit(funcion_a_procesar)\n",
    "    \n",
    "    # obtiene la respuesta de la tarea\n",
    "    return response.result()"
   ]
  },
  {
   "cell_type": "code",
   "execution_count": 12,
   "id": "14b92e9c-f450-42cd-a57d-6a9987a517b5",
   "metadata": {},
   "outputs": [
    {
     "name": "stdout",
     "output_type": "stream",
     "text": [
      "[-85, -80, -54, -40, -20, -58, -53, -45, -20, 43, 8, -100, -47, 44, -95, -54, -2, -50, 177, 27, 311, -71]\n",
      "[-27, -83, -60, -27, -28, 3, -84, -82, -66, -21, -63, 0, -33, 101, 64, -36, 187, 184, 278, 246, -3, 182]\n",
      "[-67, -58, 0, -91, -70, -58, -41, -24, 32, -26, 60, -83, -91, 120, 3, 1, 195, -6, -66, 91, 390, 103]\n",
      "[-49, -68, -92, -40, -31, -73, -64, -34, -11, -32, -3, 40, -72, 24, 132, -59, 24, 20, 270, 223, 381, -31]\n",
      "[-37, -9, -64, -34, 12, 25, -33, 45, 27, 6, -76, -22, 25, 83, -77, -77, -61, 289, 245, -32, 97, -60]\n"
     ]
    }
   ],
   "source": [
    "listado = []\n",
    "for i in range(5):\n",
    "    instancia = generar_pool_iniciar_y_finalizar_multi_instancia(tipo_tarea='multihilos', funcion_a_procesar=generar_lista)\n",
    "    type(instancia)\n",
    "    \n",
    "    listado.append(instancia)\n",
    "\n",
    "imprimir_multi_datos(listado)"
   ]
  },
  {
   "cell_type": "markdown",
   "id": "fe3fe517-c395-4027-98ee-63ce0291c9b7",
   "metadata": {},
   "source": [
    "# <center> MULTI PROCESOS</center>"
   ]
  },
  {
   "cell_type": "code",
   "execution_count": 13,
   "id": "4120fd0e-cbf1-493f-b890-bf58180555c1",
   "metadata": {},
   "outputs": [
    {
     "name": "stdout",
     "output_type": "stream",
     "text": [
      "[-22, -32, -54, -46, -67, -62, -44, -79, -17, -23, 0, 114, 129, 98, -73, 37, -80, 262, 253, 339, -43, 16]\n",
      "[-44, -66, -72, -88, -92, -11, -44, -56, 62, -47, -85, -85, -27, 144, 38, 68, 91, 105, 311, 196, 86, 390]\n",
      "[-71, -15, -63, -47, -4, -45, 9, -45, -62, -91, 33, 24, 87, 41, 11, 49, -55, -26, 312, -77, 1, 62]\n",
      "[-93, -52, -77, -9, -32, 12, -1, 35, 6, -39, 53, 46, -96, -51, 122, 120, 202, 38, 246, 2, 262, 152]\n",
      "[-93, -22, -97, -28, 0, 2, -98, -37, -16, 36, -14, 45, 101, -99, -99, 65, -27, 121, 146, -3, -26, 142]\n"
     ]
    }
   ],
   "source": [
    "listado = []\n",
    "for i in range(5):\n",
    "    instancia = generar_pool_iniciar_y_finalizar_multi_instancia(tipo_tarea='multiprocesos', funcion_a_procesar=generar_lista)\n",
    "    type(instancia)\n",
    "    \n",
    "    listado.append(instancia)\n",
    "\n",
    "imprimir_multi_datos(listado)"
   ]
  },
  {
   "cell_type": "markdown",
   "id": "de2dbf4d-733c-462b-83e6-9870517b41c8",
   "metadata": {},
   "source": [
    "# <center> ASINCRONISMO - ASYNCIO</center>"
   ]
  },
  {
   "cell_type": "code",
   "execution_count": 14,
   "id": "2511f569-5cba-459c-a72e-921527b4c499",
   "metadata": {},
   "outputs": [],
   "source": [
    "import asyncio\n",
    "\n",
    "# esta seria la forma de ejecutar en un IDE, dado que  jupyter ya esta corriendo un event loop\n",
    "# siempre es necesario ejecutar una funcion asincrona de esta manera \n",
    "#asyncio.run(funcion_asincrona())"
   ]
  },
  {
   "cell_type": "markdown",
   "id": "b6df6ed0-21fa-4168-afbc-5c6f3a5d7117",
   "metadata": {},
   "source": [
    "# <center> TODA FUNCION ASYNCRONA DEBE SER PRECEDIDA POR LA PALABRA **ASYNC**</center>"
   ]
  },
  {
   "cell_type": "code",
   "execution_count": 15,
   "id": "951eea17-0ef6-4dad-bbe1-c90fd91a506c",
   "metadata": {},
   "outputs": [],
   "source": [
    "async def listado(limite = 10):\n",
    "    \n",
    "    return [random.randrange(-100, 100) for x in range(limite)]"
   ]
  },
  {
   "cell_type": "code",
   "execution_count": 16,
   "id": "8ca86685-9a2b-4385-8225-01c51fa8d98d",
   "metadata": {},
   "outputs": [],
   "source": [
    "def ejecuta_funcion_listado(limite = 15):\n",
    "    return listado(limite)"
   ]
  },
  {
   "cell_type": "code",
   "execution_count": 17,
   "id": "d20c7b7e-f582-44cb-a9e3-619a4076df59",
   "metadata": {},
   "outputs": [],
   "source": [
    "async def ejecuta_funcion_asincrona(limite = 20):\n",
    "    return await listado(limite)"
   ]
  },
  {
   "cell_type": "markdown",
   "id": "c80d4230-44e3-479d-8344-142ba24feae8",
   "metadata": {},
   "source": [
    "# <center> TODA VARIABLE O FUNCION QUE LLAME UNA FUNCION ASYNCRONA DEBE SER PRECEDIDA POR LA PALABRA **AWAIT**</center>"
   ]
  },
  {
   "cell_type": "code",
   "execution_count": 18,
   "id": "a0f33813-39d2-4823-9161-f7c1fffb9d1d",
   "metadata": {},
   "outputs": [
    {
     "data": {
      "text/plain": [
       "<coroutine object listado at 0x7f0a1c5bc430>"
      ]
     },
     "execution_count": 18,
     "metadata": {},
     "output_type": "execute_result"
    }
   ],
   "source": [
    "ejecuta_funcion_listado()"
   ]
  },
  {
   "cell_type": "code",
   "execution_count": 19,
   "id": "6dad08c2-9b6c-4106-bc21-5cbb91483472",
   "metadata": {},
   "outputs": [
    {
     "data": {
      "text/plain": [
       "<coroutine object listado at 0x7f0a1c5bca50>"
      ]
     },
     "execution_count": 19,
     "metadata": {},
     "output_type": "execute_result"
    }
   ],
   "source": [
    "respuesta = listado()\n",
    "respuesta"
   ]
  },
  {
   "cell_type": "code",
   "execution_count": 20,
   "id": "4702b901-ca37-42a1-8810-1e5494270724",
   "metadata": {},
   "outputs": [
    {
     "data": {
      "text/plain": [
       "[-64, 57, -66, -23, -51, 53, -21, -35, 1, -33]"
      ]
     },
     "execution_count": 20,
     "metadata": {},
     "output_type": "execute_result"
    }
   ],
   "source": [
    "await respuesta"
   ]
  },
  {
   "cell_type": "code",
   "execution_count": 21,
   "id": "ed864104-2cfe-41a2-9514-1ea2259d3819",
   "metadata": {},
   "outputs": [
    {
     "data": {
      "text/plain": [
       "[93, 28, 72, 28, 36, -49, 27, 76, -68, -40]"
      ]
     },
     "execution_count": 21,
     "metadata": {},
     "output_type": "execute_result"
    }
   ],
   "source": [
    "await listado()"
   ]
  },
  {
   "cell_type": "code",
   "execution_count": 22,
   "id": "9ecafd6e-9bff-483b-9376-ee54d4ee1f60",
   "metadata": {},
   "outputs": [
    {
     "data": {
      "text/plain": [
       "[-68, 70, 73, -41, -11, -48, 68, -47, 90, -49, 69, -48, 56, 12, 93]"
      ]
     },
     "execution_count": 22,
     "metadata": {},
     "output_type": "execute_result"
    }
   ],
   "source": [
    "await ejecuta_funcion_listado()"
   ]
  },
  {
   "cell_type": "code",
   "execution_count": 23,
   "id": "8ecfceb0-55ec-4d5f-9c6a-b9c95d0ae5ae",
   "metadata": {},
   "outputs": [
    {
     "name": "stdout",
     "output_type": "stream",
     "text": [
      "[55, 75, -88, 44, -7, -20, 83, 55, -86, 84, 46, -100, -14, -48, -47, 21, 55, -32, 41, -72]\n"
     ]
    }
   ],
   "source": [
    "print(await ejecuta_funcion_asincrona())"
   ]
  },
  {
   "cell_type": "code",
   "execution_count": 24,
   "id": "6b863ebd-2de5-4341-ab1e-3c893a374dee",
   "metadata": {},
   "outputs": [
    {
     "data": {
      "text/plain": [
       "[[-74, -82, -6, 13, 64, 72, 98, -64, -94, -38],\n",
       " [44, 45, 74, -94, 26, -5, -61, -92, -11, 22],\n",
       " [-27, 19, -86, -99, 21, -95, 43, -93, 39, 43],\n",
       " [-41, -72, 47, 5, 9, 91, -69, 55, 66, 58],\n",
       " [59, 59, 58, 30, -52, -49, -43, 45, -8, 97],\n",
       " [40, 87, -95, -11, -84, -50, -72, -42, 80, 35],\n",
       " [-26, -38, -44, 63, -78, -76, -21, 21, -42, -42],\n",
       " [69, 50, 30, -96, 61, -36, 84, 39, -37, 50],\n",
       " [90, -25, -19, 39, -33, -39, 77, -22, -93, 8],\n",
       " [-13, -18, -76, -44, 82, 31, -45, -87, 82, 99]]"
      ]
     },
     "execution_count": 24,
     "metadata": {},
     "output_type": "execute_result"
    }
   ],
   "source": [
    "lista = []\n",
    "\n",
    "for i in range(10):\n",
    "    \n",
    "    lista.append(await listado())\n",
    "\n",
    "lista"
   ]
  },
  {
   "cell_type": "markdown",
   "id": "8e9c3fc5-7125-47a5-a70e-ebc77af1be7f",
   "metadata": {},
   "source": [
    "# <center> **FUNCIONES ASINCRONAS**</center>\n",
    "<p align=\"center\" width=\"100%\">\n",
    "    <img width=\"100%\" src=\"event-loop.png\">\n",
    "</p>"
   ]
  },
  {
   "cell_type": "code",
   "execution_count": 25,
   "id": "795a0a2b-cee8-4a3f-a69d-8b512b8762fd",
   "metadata": {},
   "outputs": [],
   "source": [
    "async def Primero(limite=5):\n",
    "    print(\"Inicio funcion Primero\")\n",
    "    await asyncio.sleep(2)\n",
    "    print(\"Final funcion Primero\")\n",
    "    \n",
    "    return [random.randrange(-100, 0) for x in range(limite)]\n",
    "\n",
    "async def Ultimo(limite=5):\n",
    "    print(\"Comenzar funcion ultimo\")\n",
    "    await asyncio.sleep(2)\n",
    "    print(\"Terminar funcion ultimo\")\n",
    "    \n",
    "    return [random.randrange(0, 100) for x in range(limite)]"
   ]
  },
  {
   "cell_type": "markdown",
   "id": "7e717a57-ff07-43e4-b1ed-c6ad57a22da6",
   "metadata": {},
   "source": [
    "# <center> **GATHER**</center>\n",
    "## <center> **RECIBE UNA LISTA DE TAREAS Y RETORNA UNA LISTA DE RESULTADOS**</center>\n",
    "## <center> **TIENE OPCIONES ESPECÍFICAS PARA EL MANEJO DE ERRORES Y CANCELACIONES.**</center>"
   ]
  },
  {
   "cell_type": "code",
   "execution_count": 26,
   "id": "51fc878f-023a-41f1-b5db-eb0c58fa14a3",
   "metadata": {},
   "outputs": [
    {
     "name": "stdout",
     "output_type": "stream",
     "text": [
      "Inicio funcion Primero\n",
      "Comenzar funcion ultimo\n",
      "Inicio funcion Primero\n",
      "Comenzar funcion ultimo\n",
      "Inicio funcion Primero\n",
      "Comenzar funcion ultimo\n",
      "Inicio funcion Primero\n",
      "Final funcion Primero\n",
      "Terminar funcion ultimo\n",
      "Final funcion Primero\n",
      "Terminar funcion ultimo\n",
      "Final funcion Primero\n",
      "Terminar funcion ultimo\n",
      "Final funcion Primero\n"
     ]
    },
    {
     "data": {
      "text/plain": [
       "[[-92, -87, -3, -88, -51],\n",
       " [70, 72, 62, 4, 2],\n",
       " [-91, -33, -15, -97, -26],\n",
       " [21, 85, 97, 55, 4],\n",
       " [-44, -20, -28, -26, -55],\n",
       " [20, 11, 62, 20, 25],\n",
       " [-34, -80, -19, -44, -70]]"
      ]
     },
     "execution_count": 26,
     "metadata": {},
     "output_type": "execute_result"
    }
   ],
   "source": [
    "# El siguiente ejemplo muestra cómo esperar a que se completen varias tareas asincrónicas.\n",
    "\n",
    "from asyncio import gather\n",
    "\n",
    "async def iniciar_gather():\n",
    "    \n",
    "    tareas = [Primero(), Ultimo(), Primero(), Ultimo(), Primero(), Ultimo(), Primero()]\n",
    "    \n",
    "    return await gather(*tareas)\n",
    "    \n",
    "await iniciar_gather()"
   ]
  },
  {
   "cell_type": "markdown",
   "id": "1cab7d8d-6568-44a0-bbd9-ac3b0268542b",
   "metadata": {},
   "source": [
    "# <center> **WAIT_FOR**</center>\n",
    "## <center> **PERMITE DEFINIR EL MAXIMO TIEMPO DE ESPERA DE UNA TAREA**</center>"
   ]
  },
  {
   "cell_type": "code",
   "execution_count": 27,
   "id": "3ea1d42e-0858-48e0-9f89-86571105f9a1",
   "metadata": {},
   "outputs": [
    {
     "name": "stdout",
     "output_type": "stream",
     "text": [
      "Inicio funcion Primero\n",
      "la ejecucion supero el tiempo de espera!\n"
     ]
    }
   ],
   "source": [
    "# El siguiente ejemplo demuestra cómo podemos utilizar un tiempo de espera para evitar esperar indefinida a que finalice una tarea asincrónica.\n",
    "\n",
    "from asyncio import wait_for\n",
    "\n",
    "async def iniciar_wait_for():\n",
    "    try:\n",
    "        return await wait_for(Primero(), timeout=1)\n",
    "    except asyncio.TimeoutError:\n",
    "        print(\"la ejecucion supero el tiempo de espera!\")\n",
    "        \n",
    "\n",
    "await iniciar_wait_for()"
   ]
  },
  {
   "cell_type": "markdown",
   "id": "76f47eeb-c99d-401e-aadc-f715845c7b3c",
   "metadata": {},
   "source": [
    "# <center> **AS_COMPLETED**</center>\n",
    "## <center> **ES SIMILIAR A GATHER, PERO RETORNA FUTUROS, LOS RESULTADOS SON RETORNADOS EN EL ORDEN QUE ESTAN LISTOS**</center>"
   ]
  },
  {
   "cell_type": "code",
   "execution_count": 28,
   "id": "a7e683a3-7e7c-44e5-85f6-d65f0cd9f5d8",
   "metadata": {},
   "outputs": [
    {
     "name": "stdout",
     "output_type": "stream",
     "text": [
      "Inicio funcion Primero\n",
      "Inicio funcion Primero\n",
      "Comenzar funcion ultimo\n",
      "Comenzar funcion ultimo\n",
      "Inicio funcion Primero\n",
      "Comenzar funcion ultimo\n",
      "Inicio funcion Primero\n",
      "Final funcion Primero\n",
      "Final funcion Primero\n",
      "Terminar funcion ultimo\n",
      "Terminar funcion ultimo\n",
      "Final funcion Primero\n",
      "Terminar funcion ultimo\n",
      "Final funcion Primero\n",
      "la tarea mas rapida obtuvo el resultado: [-68, -81, -97, -70, -2]\n",
      "la siguiente tarea mas rapida obtuvo el resultado: [-66, -100, -48, -34, -73]\n",
      "la siguiente tarea mas rapida obtuvo el resultado: [25, 92, 26, 45, 95]\n",
      "la siguiente tarea mas rapida obtuvo el resultado: [44, 88, 83, 47, 90]\n",
      "la siguiente tarea mas rapida obtuvo el resultado: [-83, -7, -89, -15, -48]\n",
      "la siguiente tarea mas rapida obtuvo el resultado: [78, 44, 8, 54, 29]\n",
      "la siguiente tarea mas rapida obtuvo el resultado: [-26, -31, -24, -39, -52]\n"
     ]
    }
   ],
   "source": [
    "# El siguiente ejemplo demuestra cómo as_complete, completará la primera tarea, seguida de la siguiente más rápida y la siguiente hasta que se completen todas las tareas.\n",
    "\n",
    "from asyncio import as_completed\n",
    "\n",
    "async def iniciar_as_completed():\n",
    "    \n",
    "    tareas = [Primero(), Ultimo(), Primero(), Ultimo(), Primero(), Ultimo(), Primero()]\n",
    "    counter = 0\n",
    "    \n",
    "    for future in as_completed(tareas):\n",
    "        n = \"la tarea mas rapida\" if counter == 0 else \"la siguiente tarea mas rapida\"\n",
    "        counter += 1\n",
    "        result = await future\n",
    "        print(f\"{n} obtuvo el resultado: {result}\")\n",
    "\n",
    "await iniciar_as_completed()"
   ]
  },
  {
   "cell_type": "markdown",
   "id": "646b1309-f24b-40fe-a8a2-7c942a620f75",
   "metadata": {},
   "source": [
    "# <center> **CREATE_TASK**</center>"
   ]
  },
  {
   "cell_type": "code",
   "execution_count": 29,
   "id": "c97b218d-9d56-4192-aa39-5d6539b2392b",
   "metadata": {},
   "outputs": [
    {
     "name": "stdout",
     "output_type": "stream",
     "text": [
      "<Task pending name='Task-28' coro=<Primero() running at /tmp/ipykernel_130/4294725927.py:1>>\n",
      "Inicio funcion Primero\n",
      "MAS PROCESOS!\n",
      "Final funcion Primero\n",
      "0\n"
     ]
    },
    {
     "data": {
      "text/plain": [
       "<Task finished name='Task-28' coro=<Primero() done, defined at /tmp/ipykernel_130/4294725927.py:1> result=[-99, -55, -50, -47, -21]>"
      ]
     },
     "execution_count": 29,
     "metadata": {},
     "output_type": "execute_result"
    }
   ],
   "source": [
    "# El siguiente ejemplo demuestra cómo convertir una rutina en una tarea y programarla en el bucle de eventos.\n",
    "\n",
    "from asyncio import create_task\n",
    "\n",
    "async def iniciar_create_task():\n",
    "    \n",
    "    tarea = create_task(Primero())\n",
    "    print(tarea)\n",
    "    \n",
    "    await asyncio.sleep(2)\n",
    "    print(\"MAS PROCESOS!\")\n",
    "    \n",
    "    await asyncio.sleep(3)\n",
    "    print(sum(tarea))\n",
    "    \n",
    "    return tarea\n",
    "\n",
    "await iniciar_create_task()"
   ]
  },
  {
   "cell_type": "markdown",
   "id": "baed4b4f-fdba-40df-a4bd-d7e34d7c3d93",
   "metadata": {},
   "source": [
    "# <center> **POOLS**</center>\n",
    "# <center> **GET_RUNNING_LOOP**</center>"
   ]
  },
  {
   "cell_type": "markdown",
   "id": "80fa711b-61c5-4518-a0b0-1e7b862abb67",
   "metadata": {},
   "source": [
    "## <center> **ASYNCIO - MULTI HILO**</center>"
   ]
  },
  {
   "cell_type": "code",
   "execution_count": 30,
   "id": "f147548a-594d-4901-9f88-efe265b1e99c",
   "metadata": {},
   "outputs": [
    {
     "data": {
      "text/plain": [
       "b'\\x00\\x12\\xc4l\\x07(\\xb7\\xf1\\xa2\\xabh\\xaa\\x97\\xf0p\\x978S\\xc3\\r\\x15D!\\x86\\xd3\\x06q\\xd8\\xb65\\xc0%G\\xac\\x16R\\xee\\x98+f\\x8c\\xf9\\x08Fz*\\x12Z%\\x8d9Jw\\x86)\\x03w\\xac\\x83\\xdd\\xbb\\xfc\\x05\\xe8o\\xef\\xcd\\xd5\\xb7Ew\\xd7\\xf9A\\xaf\\xf9+\\xb2\\xbd\\x04\\xddn\\xda\\xd4\\xec?\\x0bWi\\xad^q\\xd3\\x7f\\x8f\\x1d[\\xeb\\xba\\xe6'"
      ]
     },
     "execution_count": 30,
     "metadata": {},
     "output_type": "execute_result"
    }
   ],
   "source": [
    "# importa la libtreria\n",
    "from asyncio import get_running_loop\n",
    "# importa librerias para trabajar concurrencia\n",
    "from concurrent.futures import ThreadPoolExecutor\n",
    "\n",
    "def blocking_io():\n",
    "    # File operations (such as logging) can block the\n",
    "    # event loop: run them in a thread pool.\n",
    "    with open(\"/dev/urandom\", \"rb\") as f:\n",
    "        return f.read(100)\n",
    "    \n",
    "async def asyncio_multi_hilo():\n",
    "    \n",
    "    loop = get_running_loop()\n",
    "    pool = ThreadPoolExecutor()\n",
    "    \n",
    "    return await loop.run_in_executor(pool, blocking_io)\n",
    "\n",
    "await asyncio_multi_hilo()"
   ]
  },
  {
   "cell_type": "markdown",
   "id": "6edfb82b-365c-40f0-8248-a8e073e5b0dd",
   "metadata": {},
   "source": [
    "## <center> **ASYNCIO - MULTI PROCESO**</center>"
   ]
  },
  {
   "cell_type": "code",
   "execution_count": 31,
   "id": "8b06a077-9c78-41a0-a2f6-44b58532567b",
   "metadata": {},
   "outputs": [
    {
     "data": {
      "text/plain": [
       "333333283333335000000"
      ]
     },
     "execution_count": 31,
     "metadata": {},
     "output_type": "execute_result"
    }
   ],
   "source": [
    "from concurrent.futures import ProcessPoolExecutor\n",
    "\n",
    "def cpu_bound():\n",
    "    # CPU-bound operations will block the event loop:\n",
    "    # in general it is preferable to run them in a\n",
    "    # process pool.\n",
    "    return sum(i * i for i in range(10 ** 7))\n",
    "\n",
    "    \n",
    "async def asyncio_multi_proceso():\n",
    "    \n",
    "    loop = get_running_loop()\n",
    "    pool = ProcessPoolExecutor()\n",
    "    \n",
    "    return await loop.run_in_executor(pool, cpu_bound)\n",
    "\n",
    "await asyncio_multi_proceso()"
   ]
  },
  {
   "cell_type": "code",
   "execution_count": null,
   "id": "1172a04b-7f73-4646-882e-f7595df21c93",
   "metadata": {},
   "outputs": [],
   "source": []
  },
  {
   "cell_type": "markdown",
   "id": "b7fb1232-2601-42c7-80a0-98af825421e8",
   "metadata": {},
   "source": [
    " # TABLA DE DEFINICIONES\n",
    " https://pharos.sh/concurrencia-en-python/#:~:text=al%20mismo%20tiempo.-,Simultaneidad%20vs%20paralelismo,acelerar%20el%20proceso%20de%20c%C3%A1lculo.\n",
    " \n",
    "\n",
    "| CONCURRENCIA O SIMULTANEIDAD  | PARALELISMO |\n",
    "| --- | --- |\n",
    "| Es la ejecución de tareas al mismo tiempo, Cuando dos o más eventos son concurrentes, significa que están sucediendo al mismo tiempo. | Se logra cuando se realizan múltiples cálculos u operaciones al mismo tiempo o en paralelo con el objetivo de acelerar el proceso de cálculo. | \n",
    "| Solo tiene lugar en un procesador. | Utiliza múltiples procesadors para realizar tareas en paralelo. | \n",
    "| es la tarea de ejecutar y administrar múltiples cálculos al mismo tiempo. | es la tarea de ejecutar múltiples cálculos simultáneamente. |\n",
    "| se logra a través de la operación de entrelazado de procesos en la unidad central de procesamiento (CPU) o, en otras palabras, mediante el cambio de contexto. | se logra a través de múltiples unidades centrales de procesamiento (CPU) |\n",
    "| se puede realizar utilizando una sola unidad de procesamiento. | necesita múltiples unidades de procesamiento. |\n",
    "| aumenta la cantidad de trabajo terminado a la vez. |  mejora el rendimiento y la velocidad computacional del sistema.|\n",
    "| trata muchas cosas simultáneamente. | hace muchas cosas simultáneamente. |\n",
    "|  es el enfoque de flujo de control no determinista.| es un enfoque de flujo de control determinista. |\n",
    "|  la depuración es muy difícil. | la depuración también es difícil pero mas simple que la concurrencia. |\n",
    "\n",
    "\n",
    "\n",
    "| HILO O SUBPROCESO | PROCESO | TAREA |\n",
    "| --- | --- | --- |\n",
    "| cada tarea ejecutada en un proceso es un subproceso. | Es un trabajo o una instancia de un programa calculado que se puede ejecutar. | Es un conjunto de instrucciones de programa que se cargan en la memoria.|\n",
    "| Es la unidad de ejecución más pequeña que se puede realizar en una computadora. | Un hilo solo puede pertenecer a un proceso, pero un proceso puede tener múltiples hilos. |\n",
    "| pueden acceder a los datos de otros subprocesos  | funcionan de forma aislada | |\n",
    "| comparten memoria con otros subprocesos | cada proceso tiene su propia asignación de memoria. | |\n",
    "||es un proceso liviano: en comparación con un proceso|||\n",
    "| un subproceso genera menos carga en el sistema operativo para crear, mantener y administrar, lo que significa que el costo o la sobrecarga del subproceso es relativamente pequeño.|||\n",
    "| El hilo no tiene espacio de direcciones, y el hilo está contenido en el espacio de direcciones del proceso.|||\n",
    "| Todos los hilos comparten la memoria y los recursos del proceso. |||\n",
    "\n",
    "\n",
    "| HILOS | PROCESOS | ASINCRONISMO |\n",
    "| --- | --- | --- |\n",
    "| Implementa concurrencia a través de hilos de aplicación | Implementa la concurrencia usando procesos del sistema | Construye aplicaciones concurrentes que utilizan co-rutinas. Utiliza un enfoque de un solo hilo y un solo proceso en el que partes de una aplicación cooperan para cambiar tareas explícitamente en momentos óptimos.|\n",
    "|Multihilo es el proceso en el que multiples hilos se ejecutan al mismo tiempo en un proceso.|El multiproceso es permitir que se realicen múltiples procesos al mismo tiempo,  utilizando  uno o mas procesadores.|"
   ]
  },
  {
   "cell_type": "code",
   "execution_count": null,
   "id": "c855bd2d-1c7c-482a-ad8a-59fb269a19a7",
   "metadata": {},
   "outputs": [],
   "source": []
  }
 ],
 "metadata": {
  "kernelspec": {
   "display_name": "Python 3 (ipykernel)",
   "language": "python",
   "name": "python3"
  },
  "language_info": {
   "codemirror_mode": {
    "name": "ipython",
    "version": 3
   },
   "file_extension": ".py",
   "mimetype": "text/x-python",
   "name": "python",
   "nbconvert_exporter": "python",
   "pygments_lexer": "ipython3",
   "version": "3.10.4"
  }
 },
 "nbformat": 4,
 "nbformat_minor": 5
}
