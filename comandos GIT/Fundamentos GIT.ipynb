{
 "cells": [
  {
   "cell_type": "markdown",
   "id": "16c27612-53a3-498b-aea9-aac0f1364a1f",
   "metadata": {},
   "source": [
    "# <center> CREAR ARCHIVOS</center>"
   ]
  },
  {
   "cell_type": "code",
   "execution_count": 1,
   "id": "503a1087-7944-4e0f-a3de-fa4853d04deb",
   "metadata": {
    "tags": []
   },
   "outputs": [],
   "source": [
    "def crear_fecha():\n",
    "    \n",
    "    import time\n",
    "    from datetime import datetime\n",
    "\n",
    "    # detiene el tiempo para que no todos los archivos generados queden con la misma fecha de timestamp\n",
    "    time.sleep(0.1)\n",
    "        \n",
    "    # Getting the current date and time\n",
    "    dt = datetime.now()\n",
    "\n",
    "    # getting the timestamp\n",
    "    ts = datetime.timestamp(dt)\n",
    "\n",
    "    return ts\n",
    "\n",
    "def generar_archivos(todos_los_archivos=True):\n",
    "\n",
    "    lista_de_archivos = ['info.txt','Dockerfile','Manifest.yaml','imagen.png','main.py','connection.java','calculos.c','addon.php','utils.gif','query.sql','dataset.avro','link.vs']\n",
    "    \n",
    "    lista_de_archivos = lista_de_archivos if todos_los_archivos else [lista_de_archivos[0]]\n",
    "    \n",
    "    print('lista_de_archivos = {lista_de_archivos}'.format(lista_de_archivos=lista_de_archivos))\n",
    "    \n",
    "    for archivo in lista_de_archivos:\n",
    "        comando = 'echo {crear_archivo} >> {archivo}'.format(crear_archivo=crear_fecha(), archivo=archivo)\n",
    "        ejecutar_comando_shell(comando)\n",
    "\n",
    "    return lista_de_archivos"
   ]
  },
  {
   "cell_type": "markdown",
   "id": "63baf6e8-15a7-4d78-9216-0071910ae33c",
   "metadata": {},
   "source": [
    "# <center> ELIMINAR ARCHIVOS</center>"
   ]
  },
  {
   "cell_type": "code",
   "execution_count": 2,
   "id": "fbedd993-b081-45e3-b492-94d841d01e9c",
   "metadata": {},
   "outputs": [],
   "source": [
    "def listar_archivos_eliminables_en_directorio():\n",
    "    import os\n",
    "    \n",
    "    listado_de_archivos = os.listdir(directory)\n",
    "    \n",
    "    archivos_eliminables = [archivo for archivo in listado_de_archivos if '.git' not in archivo]\n",
    "    \n",
    "    return archivos_eliminables\n",
    "    \n",
    "def eliminar_directorio(nombre_repositorio):\n",
    "    \n",
    "    import shutil\n",
    "    import os\n",
    "    import stat\n",
    "    from os import path\n",
    "    \n",
    "    for root, dirs, files in os.walk(\"./{nombre_repositorio}\".format(nombre_repositorio=nombre_repositorio)):  \n",
    "        for dir in dirs:\n",
    "            os.chmod(path.join(root, dir), stat.S_IRWXU)\n",
    "        for file in files:\n",
    "            os.chmod(path.join(root, file), stat.S_IRWXU)\n",
    "    shutil.rmtree(\"./{nombre_repositorio}\".format(nombre_repositorio=nombre_repositorio))\n",
    "\n",
    "def eliminar_archivos_directorio():\n",
    "    import os\n",
    "    \n",
    "    lista_de_archivos_eliminables = listar_archivos_eliminables_en_directorio()\n",
    "    \n",
    "    for archivo in lista_de_archivos_eliminables:\n",
    "        os.remove(archivo)\n",
    "        \n",
    "    return 'Eliminacion Completada con Exito!!! de {lista_de_archivos_eliminables}'.format(lista_de_archivos_eliminables=lista_de_archivos_eliminables)"
   ]
  },
  {
   "cell_type": "markdown",
   "id": "7153370f-e472-49b7-bb91-b62d5e558381",
   "metadata": {},
   "source": [
    "# <center> CREAR ARCHIVOS, COMMITS Y PUBLICAR RAMAS AL REPOSITORIO </center>"
   ]
  },
  {
   "cell_type": "code",
   "execution_count": 3,
   "id": "a3d1b1da-b198-40e7-ac0e-717336e06c87",
   "metadata": {
    "scrolled": true,
    "tags": []
   },
   "outputs": [],
   "source": [
    "def validar_si_existe_rama(nombre_rama, local=False):\n",
    "    \n",
    "    comando ='git branch -a'\n",
    "    resultado = ejecutar_comando_shell(comando, response=True)\n",
    "    \n",
    "    rama_base = '{nombre_rama}'.format(nombre_rama=nombre_rama) if local else 'origin/{nombre_rama}'.format(nombre_rama=nombre_rama)\n",
    "\n",
    "    if rama_base in resultado:\n",
    "        return True\n",
    "    return False\n",
    "\n",
    "def elimina_ramas_si_existen_y_crea_la_rama_local(nombre_rama):\n",
    "    \n",
    "    # valida si las ramas existen en REMOTO y LOCAL\n",
    "    rama_remota = validar_si_existe_rama(nombre_rama=nombre_rama)\n",
    "    rama_local = validar_si_existe_rama(nombre_rama=nombre_rama, local=True)\n",
    "    \n",
    "    # verifica si existe la rama la elimina\n",
    "    if rama_remota:\n",
    "        # elimina rama REMOTA existente\n",
    "        comando = 'git push origin -d {nombre_rama}'.format(nombre_rama=nombre_rama)\n",
    "        ejecutar_comando_git(comando)\n",
    "\n",
    "     # verifica si existe la rama la elimina\n",
    "    if rama_local:                                                                                                            \n",
    "        # elimina la rama\n",
    "        comando = 'git branch -D {nombre_rama}'.format(nombre_rama=nombre_rama)\n",
    "        ejecutar_comando_git(comando)\n",
    "        \n",
    "    # crea la rama\n",
    "    comando = 'git checkout -b {nombre_rama}'.format(nombre_rama=nombre_rama)\n",
    "    ejecutar_comando_shell(comando)\n",
    "    \n",
    "    # verifica las ramas actuales\n",
    "    ejecutar_comando_shell()\n",
    "    \n",
    "\n",
    "def crear_commit_por_cada_archivo(todos_los_archivos):\n",
    "    \n",
    "    import datetime\n",
    "\n",
    "    fecha_ahora = datetime.datetime.now()\n",
    "    \n",
    "    # crea el listado de archivos\n",
    "    lista_de_archivos = generar_archivos(todos_los_archivos=todos_los_archivos)\n",
    "    \n",
    "    # basado en el listado de archivos, adiciona uno a uno y crea un commit por cada uno\n",
    "    for archivo in lista_de_archivos:\n",
    "\n",
    "        comando = 'git add {archivo}'.format(archivo=archivo)\n",
    "        ejecutar_comando_git(comando)\n",
    "        \n",
    "        comando = 'git commit -m \"ADICIONADO ARCHIVO {archivo} {fecha_ahora}\"'.format(archivo=archivo, fecha_ahora=fecha_ahora)\n",
    "        ejecutar_comando_git(comando)\n",
    "\n",
    "    # verifica si todos los archivos estan en los commits creados\n",
    "    comando = 'git status'\n",
    "    ejecutar_comando_git(comando)\n",
    "    \n",
    "def generar_archivos_y_hacer_commit(nombre_rama, todos_los_archivos = True):\n",
    "    \n",
    "    # elimina cambios a la rama remota si los tiene\n",
    "    comando = 'git restore .'\n",
    "    ejecutar_comando_git(comando)\n",
    "    \n",
    "    # cambiar a la rama remota\n",
    "    comando = 'git checkout {nombre_rama_remota}'.format(nombre_rama_remota=nombre_rama_remota)\n",
    "    ejecutar_comando_git(comando)\n",
    "    \n",
    "    # valida si las ramas existen en REMOTO y LOCAL y las elimina\n",
    "    elimina_ramas_si_existen_y_crea_la_rama_local(nombre_rama)\n",
    "    \n",
    "    # adiciona archivos de 1 en 1 y genera 1 commit por cada archivo\n",
    "    crear_commit_por_cada_archivo(todos_los_archivos=todos_los_archivos)\n",
    "\n",
    "    # mostrar el log de las ramas en forma resumida y con diagrama de uniones como grafo \n",
    "    comando = 'git log --graph --oneline'\n",
    "    ejecutar_comando_git(comando)\n",
    "\n",
    "    # crea la rama en remoto\n",
    "    comando = 'git push --set-upstream origin {nombre_rama}'.format(nombre_rama=nombre_rama)\n",
    "    ejecutar_comando_git(comando)\n",
    "    \n",
    "    ejecutar_comando_shell()"
   ]
  },
  {
   "cell_type": "markdown",
   "id": "2c7f5df2-40a3-4d51-b44a-1314ff60286d",
   "metadata": {},
   "source": [
    "# <center> OBTENER LISTA CON LOS NOMBRES DE TODAS LAS RAMAS LOCALES DE UN REPOSITORIO GIT</center>"
   ]
  },
  {
   "cell_type": "code",
   "execution_count": 4,
   "id": "fe1643f8-c7f7-450d-9eea-b30471ce5f98",
   "metadata": {
    "tags": []
   },
   "outputs": [],
   "source": [
    "def obtener_lista_nombres_ramas_git():\n",
    "\n",
    "    stdout = subprocess.check_output('git branch'.split())\n",
    "    out = stdout.decode()\n",
    "    branches = [b.strip('* ') for b in out.splitlines()]\n",
    "    return branches"
   ]
  },
  {
   "cell_type": "markdown",
   "id": "746ac216-782a-4928-b5b0-f8ddb17c8523",
   "metadata": {},
   "source": [
    "# <center> EJECUTAR COMANDOS SHELL DESDE FUNCION PYTHON</center>"
   ]
  },
  {
   "cell_type": "code",
   "execution_count": 5,
   "id": "9048c958-a13b-4a78-a4ea-d114c3ce03ca",
   "metadata": {
    "tags": []
   },
   "outputs": [],
   "source": [
    "import subprocess\n",
    "\n",
    "def ejecutar_comando_shell(comando='git branch', response=False):\n",
    "\n",
    "    resultado_comando_ejecutado = subprocess.check_output(comando, shell=True, text=True)\n",
    "    print('############################################# COMANDO A EJECUTAR #############################################')\n",
    "    print(comando)\n",
    "    print('####################################### RESULTADO DE COMANDO EJECUTADO #######################################')\n",
    "    #para evitar el salto de linea usa el parametro end=''\n",
    "    print(resultado_comando_ejecutado, end='')\n",
    "    print('##############################################################################################################')\n",
    "    print()\n",
    "    if response:\n",
    "        return resultado_comando_ejecutado"
   ]
  },
  {
   "cell_type": "markdown",
   "id": "de235812-1670-4023-ad85-bbd6dd9b50de",
   "metadata": {},
   "source": [
    "# <center> FUNCION LAMBDA PARA EJECUTAR COMANDOS GIT</center>"
   ]
  },
  {
   "cell_type": "code",
   "execution_count": 6,
   "id": "b6817bb4-2f33-4200-aa99-84e8c2142711",
   "metadata": {
    "tags": []
   },
   "outputs": [],
   "source": [
    "ejecutar_comando_git = lambda comando : ejecutar_comando_shell(comando)"
   ]
  },
  {
   "cell_type": "markdown",
   "id": "48adba35-bb65-44ed-9a19-c1b3601a2c0c",
   "metadata": {},
   "source": [
    "# <center> CONSULTAR LA VERSION DE GIT</center>"
   ]
  },
  {
   "cell_type": "code",
   "execution_count": 7,
   "id": "6986167a-ad52-4662-98ab-6e74f410f922",
   "metadata": {
    "tags": []
   },
   "outputs": [
    {
     "name": "stdout",
     "output_type": "stream",
     "text": [
      "############################################# COMANDO A EJECUTAR #############################################\n",
      "git --version\n",
      "####################################### RESULTADO DE COMANDO EJECUTADO #######################################\n",
      "git version 2.25.0.windows.1\n",
      "##############################################################################################################\n",
      "\n"
     ]
    }
   ],
   "source": [
    "comando = 'git --version'\n",
    "ejecutar_comando_git(comando)"
   ]
  },
  {
   "cell_type": "markdown",
   "id": "b6dcc937-601b-4c18-a1d6-a97936e49967",
   "metadata": {},
   "source": [
    "# <center> CLONAR UN REPOSITORIO GIT</center>"
   ]
  },
  {
   "cell_type": "code",
   "execution_count": 8,
   "id": "31f7c4af-65f2-40a1-b252-f11f2427d13e",
   "metadata": {
    "tags": []
   },
   "outputs": [
    {
     "name": "stdout",
     "output_type": "stream",
     "text": [
      "############################################# COMANDO A EJECUTAR #############################################\n",
      "git clone https://github.com/JorgeCardona/comandos_git.git\n",
      "####################################### RESULTADO DE COMANDO EJECUTADO #######################################\n",
      "##############################################################################################################\n",
      "\n"
     ]
    }
   ],
   "source": [
    "repositorio_base = 'https://github.com/JorgeCardona'\n",
    "nombre_del_repositorio = 'comandos_git'\n",
    "\n",
    "eliminar_directorio(nombre_repositorio=nombre_del_repositorio)\n",
    "\n",
    "comando = 'git clone {repositorio_base}/{nombre_del_repositorio}.git'.format(repositorio_base=repositorio_base, nombre_del_repositorio=nombre_del_repositorio)\n",
    "ejecutar_comando_git(comando)"
   ]
  },
  {
   "cell_type": "markdown",
   "id": "5dfcd024-6d86-4c52-b790-e94e42e71046",
   "metadata": {},
   "source": [
    "# <center> CAMBIAR A LA CARPETA PARA TRABAJAR CON EL REPOSITORIO</center>"
   ]
  },
  {
   "cell_type": "code",
   "execution_count": 9,
   "id": "2a7e9016-54c8-4493-955a-0cb812f41020",
   "metadata": {
    "tags": []
   },
   "outputs": [
    {
     "data": {
      "text/plain": [
       "'C:\\\\z Github\\\\Git Comandos'"
      ]
     },
     "execution_count": 9,
     "metadata": {},
     "output_type": "execute_result"
    }
   ],
   "source": [
    "#importing the os module\n",
    "import os\n",
    "\n",
    "#to get the current working directory\n",
    "directory = os.getcwd()\n",
    "directory"
   ]
  },
  {
   "cell_type": "code",
   "execution_count": 10,
   "id": "7f4f4467-e9b7-482f-96f9-7412ff9af7a8",
   "metadata": {
    "tags": []
   },
   "outputs": [
    {
     "data": {
      "text/plain": [
       "'C:\\\\z Github\\\\Git Comandos\\\\comandos_git'"
      ]
     },
     "execution_count": 10,
     "metadata": {},
     "output_type": "execute_result"
    }
   ],
   "source": [
    "os.chdir('{directory}/{repository}'.format(directory=directory, repository=nombre_del_repositorio))\n",
    "directory = os.getcwd()\n",
    "directory"
   ]
  },
  {
   "cell_type": "markdown",
   "id": "4544b6a6-5c4f-4e04-a908-c5806ca6f23e",
   "metadata": {},
   "source": [
    "# <center> MOSTRAR INFORMACION DEL REPOSITORIO</center>"
   ]
  },
  {
   "cell_type": "code",
   "execution_count": 11,
   "id": "4e3ba9e5-27bd-40b6-bf9c-996f26f8d65f",
   "metadata": {
    "tags": []
   },
   "outputs": [
    {
     "name": "stdout",
     "output_type": "stream",
     "text": [
      "############################################# COMANDO A EJECUTAR #############################################\n",
      "git remote show origin\n",
      "####################################### RESULTADO DE COMANDO EJECUTADO #######################################\n",
      "* remote origin\n",
      "  Fetch URL: https://github.com/JorgeCardona/comandos_git.git\n",
      "  Push  URL: https://github.com/JorgeCardona/comandos_git.git\n",
      "  HEAD branch: main\n",
      "  Remote branches:\n",
      "    main          tracked\n",
      "    multi_commits tracked\n",
      "    tag_branch    tracked\n",
      "  Local branch configured for 'git pull':\n",
      "    main merges with remote main\n",
      "  Local ref configured for 'git push':\n",
      "    main pushes to main (up to date)\n",
      "##############################################################################################################\n",
      "\n"
     ]
    }
   ],
   "source": [
    "comando = 'git remote show origin'\n",
    "ejecutar_comando_git(comando)"
   ]
  },
  {
   "cell_type": "markdown",
   "id": "a3726874-d7c6-460d-b9c0-fa4cdf3ec6ed",
   "metadata": {},
   "source": [
    "# <center> LISTAR LAS RAMAS DE UN REPOSITORIO </center>"
   ]
  },
  {
   "cell_type": "markdown",
   "id": "4f24ef50-f1c6-4daf-879d-dfecf0934268",
   "metadata": {},
   "source": [
    "### LISTA TODAS LAS RAMAS LOCALES Y LA RAMA PRINCIPAL DEL REPOSITORIO"
   ]
  },
  {
   "cell_type": "code",
   "execution_count": 12,
   "id": "6e2f6bcb-70a1-4151-bd65-0d3820f4cfd7",
   "metadata": {
    "tags": []
   },
   "outputs": [
    {
     "name": "stdout",
     "output_type": "stream",
     "text": [
      "############################################# COMANDO A EJECUTAR #############################################\n",
      "git branch\n",
      "####################################### RESULTADO DE COMANDO EJECUTADO #######################################\n",
      "* main\n",
      "##############################################################################################################\n",
      "\n"
     ]
    }
   ],
   "source": [
    "comando = 'git branch'\n",
    "ejecutar_comando_git(comando)"
   ]
  },
  {
   "cell_type": "markdown",
   "id": "3a9c0795-d684-4571-a99d-d1d6203059f1",
   "metadata": {},
   "source": [
    "### LISTA TODAS LAS RAMAS REMOTAS DEL REPOSITORIO"
   ]
  },
  {
   "cell_type": "code",
   "execution_count": 13,
   "id": "acb38610-f643-4c0e-b9e8-dec9c7a3d99e",
   "metadata": {
    "tags": []
   },
   "outputs": [
    {
     "name": "stdout",
     "output_type": "stream",
     "text": [
      "############################################# COMANDO A EJECUTAR #############################################\n",
      "git branch -r\n",
      "####################################### RESULTADO DE COMANDO EJECUTADO #######################################\n",
      "  origin/HEAD -> origin/main\n",
      "  origin/main\n",
      "  origin/multi_commits\n",
      "  origin/tag_branch\n",
      "##############################################################################################################\n",
      "\n"
     ]
    }
   ],
   "source": [
    "comando = 'git branch -r'\n",
    "ejecutar_comando_git(comando)"
   ]
  },
  {
   "cell_type": "markdown",
   "id": "ccc455dd-2361-4e82-be84-66d06caa3eb5",
   "metadata": {},
   "source": [
    "### LISTA TODAS LAS RAMAS LOCALES INCLUYENDO LAS RAMAS OCULTAS"
   ]
  },
  {
   "cell_type": "code",
   "execution_count": 14,
   "id": "486db217-0bcd-446e-bde5-147cd9c30da6",
   "metadata": {
    "tags": []
   },
   "outputs": [
    {
     "name": "stdout",
     "output_type": "stream",
     "text": [
      "############################################# COMANDO A EJECUTAR #############################################\n",
      "git branch -a\n",
      "####################################### RESULTADO DE COMANDO EJECUTADO #######################################\n",
      "* main\n",
      "  remotes/origin/HEAD -> origin/main\n",
      "  remotes/origin/main\n",
      "  remotes/origin/multi_commits\n",
      "  remotes/origin/tag_branch\n",
      "##############################################################################################################\n",
      "\n"
     ]
    }
   ],
   "source": [
    "comando = 'git branch -a'\n",
    "ejecutar_comando_git(comando)"
   ]
  },
  {
   "cell_type": "markdown",
   "id": "5fcd971b-1561-4d6b-ae04-5cd81ee1c441",
   "metadata": {},
   "source": [
    "# <center> CREAR UNA RAMA BASADA EN LA RAMA ACTUAL DE UN REPOSITORIO</center>"
   ]
  },
  {
   "cell_type": "code",
   "execution_count": 15,
   "id": "ff0c31d3-bd06-4a96-834c-53d69890a4f3",
   "metadata": {
    "tags": []
   },
   "outputs": [
    {
     "name": "stdout",
     "output_type": "stream",
     "text": [
      "############################################# COMANDO A EJECUTAR #############################################\n",
      "git branch nueva_rama\n",
      "####################################### RESULTADO DE COMANDO EJECUTADO #######################################\n",
      "##############################################################################################################\n",
      "\n",
      "############################################# COMANDO A EJECUTAR #############################################\n",
      "git branch\n",
      "####################################### RESULTADO DE COMANDO EJECUTADO #######################################\n",
      "* main\n",
      "  nueva_rama\n",
      "##############################################################################################################\n",
      "\n"
     ]
    }
   ],
   "source": [
    "comando = 'git branch nueva_rama'\n",
    "ejecutar_comando_git(comando)\n",
    "ejecutar_comando_shell()"
   ]
  },
  {
   "cell_type": "markdown",
   "id": "5dd7647e-4eea-4a1c-bfd5-c6fe2dc00ca7",
   "metadata": {},
   "source": [
    "# <center> CAMBIAR A OTRA RAMA DEL REPOSITORIO</center>"
   ]
  },
  {
   "cell_type": "code",
   "execution_count": 16,
   "id": "d2c67bc1-51d3-4e66-adca-cda41a4316fa",
   "metadata": {
    "tags": []
   },
   "outputs": [
    {
     "name": "stdout",
     "output_type": "stream",
     "text": [
      "############################################# COMANDO A EJECUTAR #############################################\n",
      "git checkout nueva_rama\n",
      "####################################### RESULTADO DE COMANDO EJECUTADO #######################################\n",
      "##############################################################################################################\n",
      "\n",
      "############################################# COMANDO A EJECUTAR #############################################\n",
      "git branch\n",
      "####################################### RESULTADO DE COMANDO EJECUTADO #######################################\n",
      "  main\n",
      "* nueva_rama\n",
      "##############################################################################################################\n",
      "\n"
     ]
    }
   ],
   "source": [
    "comando = 'git checkout nueva_rama'\n",
    "ejecutar_comando_git(comando)\n",
    "ejecutar_comando_shell()"
   ]
  },
  {
   "cell_type": "markdown",
   "id": "4d054142-e43e-4d05-83e4-3230eb96f0da",
   "metadata": {},
   "source": [
    "# <center> CREAR UNA RAMA BASADA EN LA ACTUAL Y CAMBIA A LA RAMA CREADA AL MISMO TIEMPO</center>"
   ]
  },
  {
   "cell_type": "code",
   "execution_count": 17,
   "id": "accb84e5-5900-4379-97d9-4cc91f3c8480",
   "metadata": {
    "tags": []
   },
   "outputs": [
    {
     "name": "stdout",
     "output_type": "stream",
     "text": [
      "############################################# COMANDO A EJECUTAR #############################################\n",
      "git checkout -b rama_acceso_rapido\n",
      "####################################### RESULTADO DE COMANDO EJECUTADO #######################################\n",
      "##############################################################################################################\n",
      "\n",
      "############################################# COMANDO A EJECUTAR #############################################\n",
      "git branch\n",
      "####################################### RESULTADO DE COMANDO EJECUTADO #######################################\n",
      "  main\n",
      "  nueva_rama\n",
      "* rama_acceso_rapido\n",
      "##############################################################################################################\n",
      "\n"
     ]
    }
   ],
   "source": [
    "comando = 'git checkout -b rama_acceso_rapido'\n",
    "ejecutar_comando_git(comando)\n",
    "ejecutar_comando_shell()"
   ]
  },
  {
   "cell_type": "markdown",
   "id": "4ce22640-89a5-457a-acab-337cf47dc60a",
   "metadata": {},
   "source": [
    "# <center> CREAR NUEVA RAMA LOCAL DE UNA RAMA REMOTA</center>"
   ]
  },
  {
   "cell_type": "code",
   "execution_count": 18,
   "id": "cef10060-f05f-411f-9347-d5fdf78e568c",
   "metadata": {
    "tags": []
   },
   "outputs": [
    {
     "name": "stdout",
     "output_type": "stream",
     "text": [
      "############################################# COMANDO A EJECUTAR #############################################\n",
      "git checkout -b multi_commits_copia origin/multi_commits\n",
      "####################################### RESULTADO DE COMANDO EJECUTADO #######################################\n",
      "Branch 'multi_commits_copia' set up to track remote branch 'multi_commits' from 'origin'.\n",
      "##############################################################################################################\n",
      "\n",
      "############################################# COMANDO A EJECUTAR #############################################\n",
      "git branch\n",
      "####################################### RESULTADO DE COMANDO EJECUTADO #######################################\n",
      "  main\n",
      "* multi_commits_copia\n",
      "  nueva_rama\n",
      "  rama_acceso_rapido\n",
      "##############################################################################################################\n",
      "\n"
     ]
    }
   ],
   "source": [
    "nombre_rama_remota = 'multi_commits'\n",
    "copia_rama_remota = '{nombre_rama_remota}_copia'.format(nombre_rama_remota=nombre_rama_remota)\n",
    "comando = 'git checkout -b {copia_rama_remota} origin/{nombre_rama_remota}'.format(copia_rama_remota=copia_rama_remota, nombre_rama_remota=nombre_rama_remota)\n",
    "ejecutar_comando_git(comando)\n",
    "ejecutar_comando_shell()"
   ]
  },
  {
   "cell_type": "markdown",
   "id": "04bea22a-3a54-4b3d-8260-169d7d939a6c",
   "metadata": {},
   "source": [
    "# <center> DESCARGAR RAMA REMOTA A LOCAL Y CAMBIAR A LA RAMA BAJADA AL MISMO TIEMPO</center>"
   ]
  },
  {
   "cell_type": "code",
   "execution_count": 19,
   "id": "2b8741a5-f633-4445-b579-ce199444f520",
   "metadata": {
    "tags": []
   },
   "outputs": [
    {
     "name": "stdout",
     "output_type": "stream",
     "text": [
      "############################################# COMANDO A EJECUTAR #############################################\n",
      "git checkout -t origin/multi_commits\n",
      "####################################### RESULTADO DE COMANDO EJECUTADO #######################################\n",
      "Branch 'multi_commits' set up to track remote branch 'multi_commits' from 'origin'.\n",
      "##############################################################################################################\n",
      "\n",
      "############################################# COMANDO A EJECUTAR #############################################\n",
      "git branch\n",
      "####################################### RESULTADO DE COMANDO EJECUTADO #######################################\n",
      "  main\n",
      "* multi_commits\n",
      "  multi_commits_copia\n",
      "  nueva_rama\n",
      "  rama_acceso_rapido\n",
      "##############################################################################################################\n",
      "\n"
     ]
    }
   ],
   "source": [
    "comando = 'git checkout -t origin/{nombre_rama_remota}'.format(nombre_rama_remota=nombre_rama_remota)\n",
    "ejecutar_comando_git(comando)\n",
    "ejecutar_comando_shell()"
   ]
  },
  {
   "cell_type": "markdown",
   "id": "8a659043-509a-4ed5-9f8f-55896c0e68b1",
   "metadata": {},
   "source": [
    "# <center> RENOMBRAR UNA RAMA DEL REPOSITORIO</center>"
   ]
  },
  {
   "cell_type": "code",
   "execution_count": 20,
   "id": "f0a3c692-e941-4491-88b3-cc8d0016f3e2",
   "metadata": {
    "tags": []
   },
   "outputs": [
    {
     "name": "stdout",
     "output_type": "stream",
     "text": [
      "############################################# COMANDO A EJECUTAR #############################################\n",
      "git checkout multi_commits_copia\n",
      "####################################### RESULTADO DE COMANDO EJECUTADO #######################################\n",
      "Your branch is up to date with 'origin/multi_commits'.\n",
      "##############################################################################################################\n",
      "\n",
      "############################################# COMANDO A EJECUTAR #############################################\n",
      "git branch -m nueva_rama nueva_rama_renombrada\n",
      "####################################### RESULTADO DE COMANDO EJECUTADO #######################################\n",
      "##############################################################################################################\n",
      "\n",
      "############################################# COMANDO A EJECUTAR #############################################\n",
      "git branch --move rama_acceso_rapido rama_acceso_rapido_renombrada\n",
      "####################################### RESULTADO DE COMANDO EJECUTADO #######################################\n",
      "##############################################################################################################\n",
      "\n",
      "############################################# COMANDO A EJECUTAR #############################################\n",
      "git branch\n",
      "####################################### RESULTADO DE COMANDO EJECUTADO #######################################\n",
      "  main\n",
      "  multi_commits\n",
      "* multi_commits_copia\n",
      "  nueva_rama_renombrada\n",
      "  rama_acceso_rapido_renombrada\n",
      "##############################################################################################################\n",
      "\n"
     ]
    }
   ],
   "source": [
    "comando = 'git checkout {copia_rama_remota}'.format(copia_rama_remota=copia_rama_remota)\n",
    "ejecutar_comando_git(comando)\n",
    "\n",
    "comando = 'git branch -m nueva_rama nueva_rama_renombrada'\n",
    "ejecutar_comando_git(comando)\n",
    "\n",
    "# Alternativa\n",
    "comando = 'git branch --move rama_acceso_rapido rama_acceso_rapido_renombrada'\n",
    "ejecutar_comando_git(comando)\n",
    "\n",
    "ejecutar_comando_shell()"
   ]
  },
  {
   "cell_type": "markdown",
   "id": "4a3fabd1-29f8-4918-bdfd-3d227988fea2",
   "metadata": {},
   "source": [
    "# <center> COMPARAR LA DIFERENCIA EN CONTENIDO ENTRE 2 RAMAS COMMITs DE UN REPOSITORIO</center>"
   ]
  },
  {
   "cell_type": "code",
   "execution_count": 21,
   "id": "74f6794e-30f7-41b9-a138-b88fcfca5542",
   "metadata": {
    "tags": []
   },
   "outputs": [
    {
     "name": "stdout",
     "output_type": "stream",
     "text": [
      "############################################# COMANDO A EJECUTAR #############################################\n",
      "git diff main multi_commits\n",
      "####################################### RESULTADO DE COMANDO EJECUTADO #######################################\n",
      "diff --git a/archivo.csv b/archivo.csv\n",
      "new file mode 100644\n",
      "index 0000000..e69de29\n",
      "diff --git a/archivo.pdf b/archivo.pdf\n",
      "new file mode 100644\n",
      "index 0000000..31a8a6a\n",
      "--- /dev/null\n",
      "+++ b/archivo.pdf\n",
      "@@ -0,0 +1 @@\n",
      "+\f",
      "\n",
      "\\ No newline at end of file\n",
      "diff --git a/archivo.xlsx b/archivo.xlsx\n",
      "new file mode 100644\n",
      "index 0000000..53f0f1e\n",
      "Binary files /dev/null and b/archivo.xlsx differ\n",
      "diff --git a/index.html b/index.html\n",
      "new file mode 100644\n",
      "index 0000000..e69de29\n",
      "##############################################################################################################\n",
      "\n"
     ]
    }
   ],
   "source": [
    "# confirmar al repositorio remoto el reset\n",
    "comando = 'git diff main multi_commits'\n",
    "ejecutar_comando_git(comando)"
   ]
  },
  {
   "cell_type": "markdown",
   "id": "0d81a177-e2e4-43ca-8c10-dbb6d34d1bdb",
   "metadata": {},
   "source": [
    "# <center> RESTAURAR O RECUPERAR ARCHIVOS MODIFICADOS O ELIMINADOS DE UN REPOSITORIO GIT <br> SOLO MODIFICACIONES EN REPOSITORIO LOCAL, BASADO EN EL ULTIMO COMMIT <br/></center>"
   ]
  },
  {
   "cell_type": "code",
   "execution_count": 22,
   "id": "2b421eb8-6750-444b-8ab2-f5cf9b0a7969",
   "metadata": {
    "scrolled": true,
    "tags": []
   },
   "outputs": [
    {
     "name": "stdout",
     "output_type": "stream",
     "text": [
      "lista_de_archivos = ['info.txt', 'Dockerfile', 'Manifest.yaml', 'imagen.png', 'main.py', 'connection.java', 'calculos.c', 'addon.php', 'utils.gif', 'query.sql', 'dataset.avro', 'link.vs']\n",
      "############################################# COMANDO A EJECUTAR #############################################\n",
      "echo 1679271195.047165 >> info.txt\n",
      "####################################### RESULTADO DE COMANDO EJECUTADO #######################################\n",
      "##############################################################################################################\n",
      "\n",
      "############################################# COMANDO A EJECUTAR #############################################\n",
      "echo 1679271195.166167 >> Dockerfile\n",
      "####################################### RESULTADO DE COMANDO EJECUTADO #######################################\n",
      "##############################################################################################################\n",
      "\n",
      "############################################# COMANDO A EJECUTAR #############################################\n",
      "echo 1679271195.287703 >> Manifest.yaml\n",
      "####################################### RESULTADO DE COMANDO EJECUTADO #######################################\n",
      "##############################################################################################################\n",
      "\n",
      "############################################# COMANDO A EJECUTAR #############################################\n",
      "echo 1679271195.39977 >> imagen.png\n",
      "####################################### RESULTADO DE COMANDO EJECUTADO #######################################\n",
      "##############################################################################################################\n",
      "\n",
      "############################################# COMANDO A EJECUTAR #############################################\n",
      "echo 1679271195.554028 >> main.py\n",
      "####################################### RESULTADO DE COMANDO EJECUTADO #######################################\n",
      "##############################################################################################################\n",
      "\n",
      "############################################# COMANDO A EJECUTAR #############################################\n",
      "echo 1679271195.702164 >> connection.java\n",
      "####################################### RESULTADO DE COMANDO EJECUTADO #######################################\n",
      "##############################################################################################################\n",
      "\n",
      "############################################# COMANDO A EJECUTAR #############################################\n",
      "echo 1679271195.836097 >> calculos.c\n",
      "####################################### RESULTADO DE COMANDO EJECUTADO #######################################\n",
      "##############################################################################################################\n",
      "\n",
      "############################################# COMANDO A EJECUTAR #############################################\n",
      "echo 1679271195.986457 >> addon.php\n",
      "####################################### RESULTADO DE COMANDO EJECUTADO #######################################\n",
      "##############################################################################################################\n",
      "\n",
      "############################################# COMANDO A EJECUTAR #############################################\n",
      "echo 1679271196.145986 >> utils.gif\n",
      "####################################### RESULTADO DE COMANDO EJECUTADO #######################################\n",
      "##############################################################################################################\n",
      "\n",
      "############################################# COMANDO A EJECUTAR #############################################\n",
      "echo 1679271196.294388 >> query.sql\n",
      "####################################### RESULTADO DE COMANDO EJECUTADO #######################################\n",
      "##############################################################################################################\n",
      "\n",
      "############################################# COMANDO A EJECUTAR #############################################\n",
      "echo 1679271196.452383 >> dataset.avro\n",
      "####################################### RESULTADO DE COMANDO EJECUTADO #######################################\n",
      "##############################################################################################################\n",
      "\n",
      "############################################# COMANDO A EJECUTAR #############################################\n",
      "echo 1679271196.572746 >> link.vs\n",
      "####################################### RESULTADO DE COMANDO EJECUTADO #######################################\n",
      "##############################################################################################################\n",
      "\n"
     ]
    },
    {
     "data": {
      "text/plain": [
       "['info.txt',\n",
       " 'Dockerfile',\n",
       " 'Manifest.yaml',\n",
       " 'imagen.png',\n",
       " 'main.py',\n",
       " 'connection.java',\n",
       " 'calculos.c',\n",
       " 'addon.php',\n",
       " 'utils.gif',\n",
       " 'query.sql',\n",
       " 'dataset.avro',\n",
       " 'link.vs']"
      ]
     },
     "execution_count": 22,
     "metadata": {},
     "output_type": "execute_result"
    }
   ],
   "source": [
    "nombre_rama_remota = 'main'\n",
    "generar_archivos()"
   ]
  },
  {
   "cell_type": "code",
   "execution_count": 23,
   "id": "9b405222-61c6-426f-8edf-49d83352b5cd",
   "metadata": {
    "tags": []
   },
   "outputs": [
    {
     "data": {
      "text/plain": [
       "\"Eliminacion Completada con Exito!!! de ['addon.php', 'archivo.csv', 'archivo.pdf', 'archivo.xlsx', 'calculos.c', 'config.json', 'connection.java', 'dataset.avro', 'Dockerfile', 'imagen.png', 'index.html', 'info.txt', 'LICENSE', 'link.vs', 'main.py', 'Manifest.yaml', 'query.sql', 'README.md', 'requirements.txt', 'utils.gif']\""
      ]
     },
     "execution_count": 23,
     "metadata": {},
     "output_type": "execute_result"
    }
   ],
   "source": [
    "eliminar_archivos_directorio()"
   ]
  },
  {
   "cell_type": "markdown",
   "id": "ec2b7910-181d-4ad4-a3b9-85fe48458802",
   "metadata": {},
   "source": [
    "### RESTAURAR UN ARCHIVO ESPECIFICO"
   ]
  },
  {
   "cell_type": "code",
   "execution_count": 24,
   "id": "c18daf65-8f3e-428b-908a-1d2f6369052a",
   "metadata": {
    "tags": []
   },
   "outputs": [
    {
     "name": "stdout",
     "output_type": "stream",
     "text": [
      "############################################# COMANDO A EJECUTAR #############################################\n",
      "git restore LICENSE\n",
      "####################################### RESULTADO DE COMANDO EJECUTADO #######################################\n",
      "##############################################################################################################\n",
      "\n"
     ]
    }
   ],
   "source": [
    "comando = 'git restore LICENSE'\n",
    "ejecutar_comando_git(comando)"
   ]
  },
  {
   "cell_type": "markdown",
   "id": "8874b7b6-3f5e-4d30-89b7-1e105bef1b3e",
   "metadata": {},
   "source": [
    "### RESTAURAR TODOS LOS ARCHIVOS AL MISMO TIEMPO"
   ]
  },
  {
   "cell_type": "code",
   "execution_count": 25,
   "id": "39858306-067e-4400-84ef-5d07916e6dcf",
   "metadata": {
    "tags": []
   },
   "outputs": [
    {
     "name": "stdout",
     "output_type": "stream",
     "text": [
      "############################################# COMANDO A EJECUTAR #############################################\n",
      "git restore .\n",
      "####################################### RESULTADO DE COMANDO EJECUTADO #######################################\n",
      "##############################################################################################################\n",
      "\n"
     ]
    }
   ],
   "source": [
    "comando = 'git restore .'\n",
    "ejecutar_comando_git(comando)"
   ]
  },
  {
   "cell_type": "markdown",
   "id": "814b933e-bd2e-405e-9381-2da85a675511",
   "metadata": {},
   "source": [
    "# <center> VERIFICAR EL ESTADO DE LOS ARCHIVOS EN UN REPOSITORIO GIT</center>"
   ]
  },
  {
   "cell_type": "code",
   "execution_count": 26,
   "id": "4f9c3883-9b2e-4bb5-a8b8-eb33901a3bed",
   "metadata": {
    "scrolled": true,
    "tags": []
   },
   "outputs": [
    {
     "name": "stdout",
     "output_type": "stream",
     "text": [
      "lista_de_archivos = ['info.txt', 'Dockerfile', 'Manifest.yaml', 'imagen.png', 'main.py', 'connection.java', 'calculos.c', 'addon.php', 'utils.gif', 'query.sql', 'dataset.avro', 'link.vs']\n",
      "############################################# COMANDO A EJECUTAR #############################################\n",
      "echo 1679271200.31746 >> info.txt\n",
      "####################################### RESULTADO DE COMANDO EJECUTADO #######################################\n",
      "##############################################################################################################\n",
      "\n",
      "############################################# COMANDO A EJECUTAR #############################################\n",
      "echo 1679271200.436305 >> Dockerfile\n",
      "####################################### RESULTADO DE COMANDO EJECUTADO #######################################\n",
      "##############################################################################################################\n",
      "\n",
      "############################################# COMANDO A EJECUTAR #############################################\n",
      "echo 1679271200.61142 >> Manifest.yaml\n",
      "####################################### RESULTADO DE COMANDO EJECUTADO #######################################\n",
      "##############################################################################################################\n",
      "\n",
      "############################################# COMANDO A EJECUTAR #############################################\n",
      "echo 1679271200.761996 >> imagen.png\n",
      "####################################### RESULTADO DE COMANDO EJECUTADO #######################################\n",
      "##############################################################################################################\n",
      "\n",
      "############################################# COMANDO A EJECUTAR #############################################\n",
      "echo 1679271200.917963 >> main.py\n",
      "####################################### RESULTADO DE COMANDO EJECUTADO #######################################\n",
      "##############################################################################################################\n",
      "\n",
      "############################################# COMANDO A EJECUTAR #############################################\n",
      "echo 1679271201.05685 >> connection.java\n",
      "####################################### RESULTADO DE COMANDO EJECUTADO #######################################\n",
      "##############################################################################################################\n",
      "\n",
      "############################################# COMANDO A EJECUTAR #############################################\n",
      "echo 1679271201.210343 >> calculos.c\n",
      "####################################### RESULTADO DE COMANDO EJECUTADO #######################################\n",
      "##############################################################################################################\n",
      "\n",
      "############################################# COMANDO A EJECUTAR #############################################\n",
      "echo 1679271201.360656 >> addon.php\n",
      "####################################### RESULTADO DE COMANDO EJECUTADO #######################################\n",
      "##############################################################################################################\n",
      "\n",
      "############################################# COMANDO A EJECUTAR #############################################\n",
      "echo 1679271201.515433 >> utils.gif\n",
      "####################################### RESULTADO DE COMANDO EJECUTADO #######################################\n",
      "##############################################################################################################\n",
      "\n",
      "############################################# COMANDO A EJECUTAR #############################################\n",
      "echo 1679271201.667926 >> query.sql\n",
      "####################################### RESULTADO DE COMANDO EJECUTADO #######################################\n",
      "##############################################################################################################\n",
      "\n",
      "############################################# COMANDO A EJECUTAR #############################################\n",
      "echo 1679271201.790963 >> dataset.avro\n",
      "####################################### RESULTADO DE COMANDO EJECUTADO #######################################\n",
      "##############################################################################################################\n",
      "\n",
      "############################################# COMANDO A EJECUTAR #############################################\n",
      "echo 1679271201.943972 >> link.vs\n",
      "####################################### RESULTADO DE COMANDO EJECUTADO #######################################\n",
      "##############################################################################################################\n",
      "\n"
     ]
    },
    {
     "data": {
      "text/plain": [
       "['info.txt',\n",
       " 'Dockerfile',\n",
       " 'Manifest.yaml',\n",
       " 'imagen.png',\n",
       " 'main.py',\n",
       " 'connection.java',\n",
       " 'calculos.c',\n",
       " 'addon.php',\n",
       " 'utils.gif',\n",
       " 'query.sql',\n",
       " 'dataset.avro',\n",
       " 'link.vs']"
      ]
     },
     "execution_count": 26,
     "metadata": {},
     "output_type": "execute_result"
    }
   ],
   "source": [
    "generar_archivos()"
   ]
  },
  {
   "cell_type": "code",
   "execution_count": 27,
   "id": "8276d8a7-f83e-45b3-9293-fdbe43754c8f",
   "metadata": {
    "tags": []
   },
   "outputs": [
    {
     "name": "stdout",
     "output_type": "stream",
     "text": [
      "############################################# COMANDO A EJECUTAR #############################################\n",
      "git status\n",
      "####################################### RESULTADO DE COMANDO EJECUTADO #######################################\n",
      "On branch multi_commits_copia\n",
      "Your branch is up to date with 'origin/multi_commits'.\n",
      "\n",
      "Untracked files:\n",
      "  (use \"git add <file>...\" to include in what will be committed)\n",
      "\tDockerfile\n",
      "\tManifest.yaml\n",
      "\taddon.php\n",
      "\tcalculos.c\n",
      "\tconnection.java\n",
      "\tdataset.avro\n",
      "\timagen.png\n",
      "\tinfo.txt\n",
      "\tlink.vs\n",
      "\tmain.py\n",
      "\tquery.sql\n",
      "\tutils.gif\n",
      "\n",
      "nothing added to commit but untracked files present (use \"git add\" to track)\n",
      "##############################################################################################################\n",
      "\n"
     ]
    }
   ],
   "source": [
    "comando = 'git status'\n",
    "ejecutar_comando_git(comando)"
   ]
  },
  {
   "cell_type": "markdown",
   "id": "66ee16b9-d63f-49be-bec7-c2bcff0c3534",
   "metadata": {},
   "source": [
    "# <center> AGREGAR CAMBIOS DE ARCHIVOS A UN REPOSITORIO GIT</center>"
   ]
  },
  {
   "cell_type": "markdown",
   "id": "2b46c004-d7b1-40f1-b3b6-c53df14bddbd",
   "metadata": {},
   "source": [
    "### AGREGAR EL CAMBIO DE UN ARCHIVO O UN SOLO ARCHIVO NUEVO"
   ]
  },
  {
   "cell_type": "code",
   "execution_count": 28,
   "id": "f2b9f474-f56e-4d23-a5ee-574736d4e663",
   "metadata": {
    "tags": []
   },
   "outputs": [
    {
     "name": "stdout",
     "output_type": "stream",
     "text": [
      "############################################# COMANDO A EJECUTAR #############################################\n",
      "git add info.txt\n",
      "####################################### RESULTADO DE COMANDO EJECUTADO #######################################\n",
      "##############################################################################################################\n",
      "\n",
      "############################################# COMANDO A EJECUTAR #############################################\n",
      "git status\n",
      "####################################### RESULTADO DE COMANDO EJECUTADO #######################################\n",
      "On branch multi_commits_copia\n",
      "Your branch is up to date with 'origin/multi_commits'.\n",
      "\n",
      "Changes to be committed:\n",
      "  (use \"git restore --staged <file>...\" to unstage)\n",
      "\tnew file:   info.txt\n",
      "\n",
      "Untracked files:\n",
      "  (use \"git add <file>...\" to include in what will be committed)\n",
      "\tDockerfile\n",
      "\tManifest.yaml\n",
      "\taddon.php\n",
      "\tcalculos.c\n",
      "\tconnection.java\n",
      "\tdataset.avro\n",
      "\timagen.png\n",
      "\tlink.vs\n",
      "\tmain.py\n",
      "\tquery.sql\n",
      "\tutils.gif\n",
      "\n",
      "##############################################################################################################\n",
      "\n"
     ]
    }
   ],
   "source": [
    "comando = 'git add info.txt'\n",
    "ejecutar_comando_git(comando)\n",
    "\n",
    "comando = 'git status'\n",
    "ejecutar_comando_git(comando)"
   ]
  },
  {
   "cell_type": "markdown",
   "id": "c2231766-2b96-4e76-8d7a-421fbb4fb60e",
   "metadata": {},
   "source": [
    "### AGREGAR LOS CAMBIOS DE TODOS LOS ARCHIVOS O TODOS LOS CAMBIOS Y ARCHIVOS NUEVOS"
   ]
  },
  {
   "cell_type": "code",
   "execution_count": 29,
   "id": "7eb80289-128b-4a26-a9e8-d699ad902b03",
   "metadata": {
    "tags": []
   },
   "outputs": [
    {
     "name": "stdout",
     "output_type": "stream",
     "text": [
      "############################################# COMANDO A EJECUTAR #############################################\n",
      "git add .\n",
      "####################################### RESULTADO DE COMANDO EJECUTADO #######################################\n",
      "##############################################################################################################\n",
      "\n",
      "############################################# COMANDO A EJECUTAR #############################################\n",
      "git status\n",
      "####################################### RESULTADO DE COMANDO EJECUTADO #######################################\n",
      "On branch multi_commits_copia\n",
      "Your branch is up to date with 'origin/multi_commits'.\n",
      "\n",
      "Changes to be committed:\n",
      "  (use \"git restore --staged <file>...\" to unstage)\n",
      "\tnew file:   Dockerfile\n",
      "\tnew file:   Manifest.yaml\n",
      "\tnew file:   addon.php\n",
      "\tnew file:   calculos.c\n",
      "\tnew file:   connection.java\n",
      "\tnew file:   dataset.avro\n",
      "\tnew file:   imagen.png\n",
      "\tnew file:   info.txt\n",
      "\tnew file:   link.vs\n",
      "\tnew file:   main.py\n",
      "\tnew file:   query.sql\n",
      "\tnew file:   utils.gif\n",
      "\n",
      "##############################################################################################################\n",
      "\n",
      "############################################# COMANDO A EJECUTAR #############################################\n",
      "git branch\n",
      "####################################### RESULTADO DE COMANDO EJECUTADO #######################################\n",
      "  main\n",
      "  multi_commits\n",
      "* multi_commits_copia\n",
      "  nueva_rama_renombrada\n",
      "  rama_acceso_rapido_renombrada\n",
      "##############################################################################################################\n",
      "\n"
     ]
    }
   ],
   "source": [
    "comando = 'git add .'\n",
    "ejecutar_comando_git(comando)\n",
    "\n",
    "comando = 'git status'\n",
    "ejecutar_comando_git(comando)\n",
    "\n",
    "ejecutar_comando_shell()"
   ]
  },
  {
   "cell_type": "markdown",
   "id": "151676ec-6f24-4bcb-a062-cc51a6827469",
   "metadata": {},
   "source": [
    "# <center> HACER COMMIT A UN REPOSITORIO GIT</center>"
   ]
  },
  {
   "cell_type": "code",
   "execution_count": 30,
   "id": "a8fa9105-e039-4f97-b7b5-837f1d154711",
   "metadata": {
    "tags": []
   },
   "outputs": [
    {
     "name": "stdout",
     "output_type": "stream",
     "text": [
      "############################################# COMANDO A EJECUTAR #############################################\n",
      "git commit -m \"adicionados archivo de prueba\"\n",
      "####################################### RESULTADO DE COMANDO EJECUTADO #######################################\n",
      "[multi_commits_copia fcf000f] adicionados archivo de prueba\n",
      " 12 files changed, 12 insertions(+)\n",
      " create mode 100644 Dockerfile\n",
      " create mode 100644 Manifest.yaml\n",
      " create mode 100644 addon.php\n",
      " create mode 100644 calculos.c\n",
      " create mode 100644 connection.java\n",
      " create mode 100644 dataset.avro\n",
      " create mode 100644 imagen.png\n",
      " create mode 100644 info.txt\n",
      " create mode 100644 link.vs\n",
      " create mode 100644 main.py\n",
      " create mode 100644 query.sql\n",
      " create mode 100644 utils.gif\n",
      "##############################################################################################################\n",
      "\n",
      "############################################# COMANDO A EJECUTAR #############################################\n",
      "git status\n",
      "####################################### RESULTADO DE COMANDO EJECUTADO #######################################\n",
      "On branch multi_commits_copia\n",
      "Your branch is ahead of 'origin/multi_commits' by 1 commit.\n",
      "  (use \"git push\" to publish your local commits)\n",
      "\n",
      "nothing to commit, working tree clean\n",
      "##############################################################################################################\n",
      "\n"
     ]
    }
   ],
   "source": [
    "# solo en este paso, al hacer el primer commit se crea la rama\n",
    "comando = 'git commit -m \"adicionados archivo de prueba\"'\n",
    "ejecutar_comando_git(comando)\n",
    "        \n",
    "comando = 'git status'\n",
    "ejecutar_comando_git(comando)"
   ]
  },
  {
   "cell_type": "markdown",
   "id": "3fac4a59-2441-43ec-8a45-8491b8d9d557",
   "metadata": {},
   "source": [
    "# <center> PUBLICAR UNA RAMA LOCAL QUE NO EXISTE EN REMOTO A UN REPOSITORIO GIT <br>https://github.com/JorgeCardona/comandos_git</br> </center>\n"
   ]
  },
  {
   "cell_type": "code",
   "execution_count": 31,
   "id": "ebb1e80d-c652-4946-9c88-f50578118fd6",
   "metadata": {
    "tags": []
   },
   "outputs": [
    {
     "name": "stdout",
     "output_type": "stream",
     "text": [
      "############################################# COMANDO A EJECUTAR #############################################\n",
      "git push --set-upstream origin multi_commits_copia\n",
      "####################################### RESULTADO DE COMANDO EJECUTADO #######################################\n",
      "Branch 'multi_commits_copia' set up to track remote branch 'multi_commits_copia' from 'origin'.\n",
      "##############################################################################################################\n",
      "\n",
      "############################################# COMANDO A EJECUTAR #############################################\n",
      "git branch -a\n",
      "####################################### RESULTADO DE COMANDO EJECUTADO #######################################\n",
      "  main\n",
      "  multi_commits\n",
      "* multi_commits_copia\n",
      "  nueva_rama_renombrada\n",
      "  rama_acceso_rapido_renombrada\n",
      "  remotes/origin/HEAD -> origin/main\n",
      "  remotes/origin/main\n",
      "  remotes/origin/multi_commits\n",
      "  remotes/origin/multi_commits_copia\n",
      "  remotes/origin/tag_branch\n",
      "##############################################################################################################\n",
      "\n"
     ]
    }
   ],
   "source": [
    "comando = 'git push --set-upstream origin {copia_rama_remota}'.format(copia_rama_remota=copia_rama_remota)\n",
    "ejecutar_comando_git(comando)\n",
    "\n",
    "comando = 'git branch -a'\n",
    "ejecutar_comando_git(comando)"
   ]
  },
  {
   "cell_type": "markdown",
   "id": "f940966c-8f73-4224-907b-8360e3b8f599",
   "metadata": {},
   "source": [
    "# <center> ADICIONAR ARCHIVOS NUEVOS A LA RAMA</center>"
   ]
  },
  {
   "cell_type": "code",
   "execution_count": 32,
   "id": "2e71c11d-b2be-4529-9051-9f436105412d",
   "metadata": {
    "scrolled": true,
    "tags": []
   },
   "outputs": [
    {
     "name": "stdout",
     "output_type": "stream",
     "text": [
      "lista_de_archivos = ['info.txt', 'Dockerfile', 'Manifest.yaml', 'imagen.png', 'main.py', 'connection.java', 'calculos.c', 'addon.php', 'utils.gif', 'query.sql', 'dataset.avro', 'link.vs']\n",
      "############################################# COMANDO A EJECUTAR #############################################\n",
      "echo 1679271219.638551 >> info.txt\n",
      "####################################### RESULTADO DE COMANDO EJECUTADO #######################################\n",
      "##############################################################################################################\n",
      "\n",
      "############################################# COMANDO A EJECUTAR #############################################\n",
      "echo 1679271219.750935 >> Dockerfile\n",
      "####################################### RESULTADO DE COMANDO EJECUTADO #######################################\n",
      "##############################################################################################################\n",
      "\n",
      "############################################# COMANDO A EJECUTAR #############################################\n",
      "echo 1679271219.958966 >> Manifest.yaml\n",
      "####################################### RESULTADO DE COMANDO EJECUTADO #######################################\n",
      "##############################################################################################################\n",
      "\n",
      "############################################# COMANDO A EJECUTAR #############################################\n",
      "echo 1679271220.108659 >> imagen.png\n",
      "####################################### RESULTADO DE COMANDO EJECUTADO #######################################\n",
      "##############################################################################################################\n",
      "\n",
      "############################################# COMANDO A EJECUTAR #############################################\n",
      "echo 1679271220.255231 >> main.py\n",
      "####################################### RESULTADO DE COMANDO EJECUTADO #######################################\n",
      "##############################################################################################################\n",
      "\n",
      "############################################# COMANDO A EJECUTAR #############################################\n",
      "echo 1679271220.397321 >> connection.java\n",
      "####################################### RESULTADO DE COMANDO EJECUTADO #######################################\n",
      "##############################################################################################################\n",
      "\n",
      "############################################# COMANDO A EJECUTAR #############################################\n",
      "echo 1679271220.551238 >> calculos.c\n",
      "####################################### RESULTADO DE COMANDO EJECUTADO #######################################\n",
      "##############################################################################################################\n",
      "\n",
      "############################################# COMANDO A EJECUTAR #############################################\n",
      "echo 1679271220.680796 >> addon.php\n",
      "####################################### RESULTADO DE COMANDO EJECUTADO #######################################\n",
      "##############################################################################################################\n",
      "\n",
      "############################################# COMANDO A EJECUTAR #############################################\n",
      "echo 1679271220.826636 >> utils.gif\n",
      "####################################### RESULTADO DE COMANDO EJECUTADO #######################################\n",
      "##############################################################################################################\n",
      "\n",
      "############################################# COMANDO A EJECUTAR #############################################\n",
      "echo 1679271220.938426 >> query.sql\n",
      "####################################### RESULTADO DE COMANDO EJECUTADO #######################################\n",
      "##############################################################################################################\n",
      "\n",
      "############################################# COMANDO A EJECUTAR #############################################\n",
      "echo 1679271221.095594 >> dataset.avro\n",
      "####################################### RESULTADO DE COMANDO EJECUTADO #######################################\n",
      "##############################################################################################################\n",
      "\n",
      "############################################# COMANDO A EJECUTAR #############################################\n",
      "echo 1679271221.233744 >> link.vs\n",
      "####################################### RESULTADO DE COMANDO EJECUTADO #######################################\n",
      "##############################################################################################################\n",
      "\n"
     ]
    },
    {
     "data": {
      "text/plain": [
       "['info.txt',\n",
       " 'Dockerfile',\n",
       " 'Manifest.yaml',\n",
       " 'imagen.png',\n",
       " 'main.py',\n",
       " 'connection.java',\n",
       " 'calculos.c',\n",
       " 'addon.php',\n",
       " 'utils.gif',\n",
       " 'query.sql',\n",
       " 'dataset.avro',\n",
       " 'link.vs']"
      ]
     },
     "execution_count": 32,
     "metadata": {},
     "output_type": "execute_result"
    }
   ],
   "source": [
    "generar_archivos()"
   ]
  },
  {
   "cell_type": "markdown",
   "id": "4a76c160-71f3-4614-9623-47db78fafc0d",
   "metadata": {},
   "source": [
    "# SUBIR NUEVOS ARCHIVOS A UNA RAMA DEL REPOSITORIO  <br>https://github.com/JorgeCardona/comandos_git</br> "
   ]
  },
  {
   "cell_type": "code",
   "execution_count": 33,
   "id": "7ee35dc3-1d4b-4dee-8e4f-2d048d5b78e6",
   "metadata": {
    "scrolled": true,
    "tags": []
   },
   "outputs": [
    {
     "name": "stdout",
     "output_type": "stream",
     "text": [
      "############################################# COMANDO A EJECUTAR #############################################\n",
      "git add .\n",
      "####################################### RESULTADO DE COMANDO EJECUTADO #######################################\n",
      "##############################################################################################################\n",
      "\n",
      "############################################# COMANDO A EJECUTAR #############################################\n",
      "git commit -m \"adicionados archivos nuevos\"\n",
      "####################################### RESULTADO DE COMANDO EJECUTADO #######################################\n",
      "[multi_commits_copia 0f49cba] adicionados archivos nuevos\n",
      " 12 files changed, 12 insertions(+)\n",
      "##############################################################################################################\n",
      "\n",
      "############################################# COMANDO A EJECUTAR #############################################\n",
      "git status\n",
      "####################################### RESULTADO DE COMANDO EJECUTADO #######################################\n",
      "On branch multi_commits_copia\n",
      "Your branch is ahead of 'origin/multi_commits_copia' by 1 commit.\n",
      "  (use \"git push\" to publish your local commits)\n",
      "\n",
      "nothing to commit, working tree clean\n",
      "##############################################################################################################\n",
      "\n",
      "############################################# COMANDO A EJECUTAR #############################################\n",
      "git branch\n",
      "####################################### RESULTADO DE COMANDO EJECUTADO #######################################\n",
      "  main\n",
      "  multi_commits\n",
      "* multi_commits_copia\n",
      "  nueva_rama_renombrada\n",
      "  rama_acceso_rapido_renombrada\n",
      "##############################################################################################################\n",
      "\n"
     ]
    }
   ],
   "source": [
    "comando = 'git add .'\n",
    "ejecutar_comando_git(comando)\n",
    "\n",
    "comando = 'git commit -m \"adicionados archivos nuevos\"'\n",
    "ejecutar_comando_git(comando)\n",
    "\n",
    "comando = 'git status'\n",
    "ejecutar_comando_git(comando)\n",
    "\n",
    "ejecutar_comando_shell()"
   ]
  },
  {
   "cell_type": "code",
   "execution_count": 34,
   "id": "00154781-f37b-42d5-9ce0-334b0c479d0c",
   "metadata": {},
   "outputs": [
    {
     "name": "stdout",
     "output_type": "stream",
     "text": [
      "############################################# COMANDO A EJECUTAR #############################################\n",
      "git push origin\n",
      "####################################### RESULTADO DE COMANDO EJECUTADO #######################################\n",
      "##############################################################################################################\n",
      "\n"
     ]
    }
   ],
   "source": [
    "# siempre origin para repositorios remotos\n",
    "comando = 'git push origin'\n",
    "ejecutar_comando_git(comando)"
   ]
  },
  {
   "cell_type": "markdown",
   "id": "96b4bb4e-23c3-4fa4-90b5-61f1cffe772d",
   "metadata": {},
   "source": [
    "# <center> ELIMINAR UNA RAMA DE UN REPOSITORIO GIT</center>"
   ]
  },
  {
   "cell_type": "markdown",
   "id": "8a021d6c-c862-4741-b654-f2f960d35106",
   "metadata": {},
   "source": [
    "## ELIMINAR RAMA DE UN REPOSITORIO LOCAL"
   ]
  },
  {
   "cell_type": "code",
   "execution_count": 35,
   "id": "c2055b11-7dd8-4bf6-aea4-d471de329e35",
   "metadata": {
    "scrolled": true,
    "tags": []
   },
   "outputs": [
    {
     "name": "stdout",
     "output_type": "stream",
     "text": [
      "############################################# COMANDO A EJECUTAR #############################################\n",
      "git checkout main\n",
      "####################################### RESULTADO DE COMANDO EJECUTADO #######################################\n",
      "Your branch is up to date with 'origin/main'.\n",
      "##############################################################################################################\n",
      "\n",
      "############################################# COMANDO A EJECUTAR #############################################\n",
      "git branch -D nueva_rama_renombrada\n",
      "####################################### RESULTADO DE COMANDO EJECUTADO #######################################\n",
      "Deleted branch nueva_rama_renombrada (was 3b4edb5).\n",
      "##############################################################################################################\n",
      "\n",
      "############################################# COMANDO A EJECUTAR #############################################\n",
      "git branch -D rama_acceso_rapido_renombrada\n",
      "####################################### RESULTADO DE COMANDO EJECUTADO #######################################\n",
      "Deleted branch rama_acceso_rapido_renombrada (was 3b4edb5).\n",
      "##############################################################################################################\n",
      "\n",
      "############################################# COMANDO A EJECUTAR #############################################\n",
      "git branch -D multi_commits_copia\n",
      "####################################### RESULTADO DE COMANDO EJECUTADO #######################################\n",
      "Deleted branch multi_commits_copia (was 0f49cba).\n",
      "##############################################################################################################\n",
      "\n",
      "############################################# COMANDO A EJECUTAR #############################################\n",
      "git branch -a\n",
      "####################################### RESULTADO DE COMANDO EJECUTADO #######################################\n",
      "* main\n",
      "  multi_commits\n",
      "  remotes/origin/HEAD -> origin/main\n",
      "  remotes/origin/main\n",
      "  remotes/origin/multi_commits\n",
      "  remotes/origin/multi_commits_copia\n",
      "  remotes/origin/tag_branch\n",
      "##############################################################################################################\n",
      "\n"
     ]
    }
   ],
   "source": [
    "# no se puede eliminar una rama si se esta trabajando en ese monento en ella\n",
    "comando = 'git checkout main'\n",
    "ejecutar_comando_git(comando)\n",
    "\n",
    "ramas_a_eliminar = ['nueva_rama_renombrada','rama_acceso_rapido_renombrada',copia_rama_remota]\n",
    "\n",
    "# eliminar lista de ramas\n",
    "for rama in ramas_a_eliminar:\n",
    "\n",
    "    comando = 'git branch -D {rama}'.format(rama=rama)\n",
    "    ejecutar_comando_git(comando)\n",
    "\n",
    "comando = 'git branch -a'\n",
    "ejecutar_comando_git(comando)"
   ]
  },
  {
   "cell_type": "markdown",
   "id": "52ab69e2-a9cd-4315-9f9d-c2e8808801ee",
   "metadata": {},
   "source": [
    "## ELIMINAR RAMA DE UN REPOSITORIO REMOTO <br>https://github.com/JorgeCardona/comandos_git</br> "
   ]
  },
  {
   "cell_type": "code",
   "execution_count": 36,
   "id": "f8839285-d396-4d65-a3ef-c6a1aa2e76c4",
   "metadata": {
    "tags": []
   },
   "outputs": [
    {
     "name": "stdout",
     "output_type": "stream",
     "text": [
      "############################################# COMANDO A EJECUTAR #############################################\n",
      "git push origin -d multi_commits_copia\n",
      "####################################### RESULTADO DE COMANDO EJECUTADO #######################################\n",
      "##############################################################################################################\n",
      "\n",
      "############################################# COMANDO A EJECUTAR #############################################\n",
      "git branch -a\n",
      "####################################### RESULTADO DE COMANDO EJECUTADO #######################################\n",
      "* main\n",
      "  multi_commits\n",
      "  remotes/origin/HEAD -> origin/main\n",
      "  remotes/origin/main\n",
      "  remotes/origin/multi_commits\n",
      "  remotes/origin/tag_branch\n",
      "##############################################################################################################\n",
      "\n"
     ]
    }
   ],
   "source": [
    "comando = 'git push origin -d {copia_rama_remota}'.format(copia_rama_remota=copia_rama_remota)\n",
    "ejecutar_comando_git(comando)\n",
    "\n",
    "comando = 'git branch -a'\n",
    "ejecutar_comando_git(comando)"
   ]
  },
  {
   "cell_type": "markdown",
   "id": "708c0fc6-1c94-4bd3-b237-c336fdc408ae",
   "metadata": {},
   "source": [
    "# <center> LISTAR EL HISTORIAL DE COMMITS DE UN REPOSITORIO GIT</center>"
   ]
  },
  {
   "cell_type": "markdown",
   "id": "03c490cf-5706-4b76-aa55-b47ba6dc5771",
   "metadata": {},
   "source": [
    "### VER EL HISTORIAL COMPLETO DE LA RAMA MAIN"
   ]
  },
  {
   "cell_type": "code",
   "execution_count": 37,
   "id": "6aba429a-d966-479a-858f-a09ed692d268",
   "metadata": {
    "scrolled": true,
    "tags": []
   },
   "outputs": [
    {
     "name": "stdout",
     "output_type": "stream",
     "text": [
      "############################################# COMANDO A EJECUTAR #############################################\n",
      "git log\n",
      "####################################### RESULTADO DE COMANDO EJECUTADO #######################################\n",
      "commit 3b4edb5a785dcc5841b35cd2ad93033cd29cb730\n",
      "Author: PARADIGMA\\QiDimMak <jorgecardona@utp.edu.co>\n",
      "Date:   Fri Mar 17 20:39:55 2023 -0500\n",
      "\n",
      "    adicionados archivo de configuracion y requerimientos\n",
      "\n",
      "commit d15fad27cb8d1bcb6a0e697ef02e2d787dc51b48\n",
      "Author: JorgeCardona <jorgecardona@utp.edu.co>\n",
      "Date:   Fri Mar 17 20:27:49 2023 -0500\n",
      "\n",
      "    Initial commit\n",
      "##############################################################################################################\n",
      "\n",
      "############################################# COMANDO A EJECUTAR #############################################\n",
      "git branch\n",
      "####################################### RESULTADO DE COMANDO EJECUTADO #######################################\n",
      "* main\n",
      "  multi_commits\n",
      "##############################################################################################################\n",
      "\n"
     ]
    }
   ],
   "source": [
    "comando = 'git log'\n",
    "ejecutar_comando_git(comando)\n",
    "\n",
    "ejecutar_comando_shell()"
   ]
  },
  {
   "cell_type": "markdown",
   "id": "e3fb7568-f0f6-41b3-adaa-e40aec8b6c74",
   "metadata": {},
   "source": [
    "### VER HISTORIAL OTRA RAMA REMOTA"
   ]
  },
  {
   "cell_type": "code",
   "execution_count": 38,
   "id": "bab303fe-fe43-48c4-8267-2bd6899a92d1",
   "metadata": {
    "scrolled": true,
    "tags": []
   },
   "outputs": [
    {
     "name": "stdout",
     "output_type": "stream",
     "text": [
      "############################################# COMANDO A EJECUTAR #############################################\n",
      "git restore .\n",
      "####################################### RESULTADO DE COMANDO EJECUTADO #######################################\n",
      "##############################################################################################################\n",
      "\n",
      "############################################# COMANDO A EJECUTAR #############################################\n",
      "git checkout main\n",
      "####################################### RESULTADO DE COMANDO EJECUTADO #######################################\n",
      "Your branch is up to date with 'origin/main'.\n",
      "##############################################################################################################\n",
      "\n",
      "############################################# COMANDO A EJECUTAR #############################################\n",
      "git branch -a\n",
      "####################################### RESULTADO DE COMANDO EJECUTADO #######################################\n",
      "* main\n",
      "  multi_commits\n",
      "  remotes/origin/HEAD -> origin/main\n",
      "  remotes/origin/main\n",
      "  remotes/origin/multi_commits\n",
      "  remotes/origin/tag_branch\n",
      "##############################################################################################################\n",
      "\n",
      "############################################# COMANDO A EJECUTAR #############################################\n",
      "git branch -a\n",
      "####################################### RESULTADO DE COMANDO EJECUTADO #######################################\n",
      "* main\n",
      "  multi_commits\n",
      "  remotes/origin/HEAD -> origin/main\n",
      "  remotes/origin/main\n",
      "  remotes/origin/multi_commits\n",
      "  remotes/origin/tag_branch\n",
      "##############################################################################################################\n",
      "\n",
      "############################################# COMANDO A EJECUTAR #############################################\n",
      "git checkout -b commit_branch\n",
      "####################################### RESULTADO DE COMANDO EJECUTADO #######################################\n",
      "##############################################################################################################\n",
      "\n",
      "############################################# COMANDO A EJECUTAR #############################################\n",
      "git branch\n",
      "####################################### RESULTADO DE COMANDO EJECUTADO #######################################\n",
      "* commit_branch\n",
      "  main\n",
      "  multi_commits\n",
      "##############################################################################################################\n",
      "\n",
      "lista_de_archivos = ['info.txt', 'Dockerfile', 'Manifest.yaml', 'imagen.png', 'main.py', 'connection.java', 'calculos.c', 'addon.php', 'utils.gif', 'query.sql', 'dataset.avro', 'link.vs']\n",
      "############################################# COMANDO A EJECUTAR #############################################\n",
      "echo 1679271241.006863 >> info.txt\n",
      "####################################### RESULTADO DE COMANDO EJECUTADO #######################################\n",
      "##############################################################################################################\n",
      "\n",
      "############################################# COMANDO A EJECUTAR #############################################\n",
      "echo 1679271241.150663 >> Dockerfile\n",
      "####################################### RESULTADO DE COMANDO EJECUTADO #######################################\n",
      "##############################################################################################################\n",
      "\n",
      "############################################# COMANDO A EJECUTAR #############################################\n",
      "echo 1679271241.30687 >> Manifest.yaml\n",
      "####################################### RESULTADO DE COMANDO EJECUTADO #######################################\n",
      "##############################################################################################################\n",
      "\n",
      "############################################# COMANDO A EJECUTAR #############################################\n",
      "echo 1679271241.424655 >> imagen.png\n",
      "####################################### RESULTADO DE COMANDO EJECUTADO #######################################\n",
      "##############################################################################################################\n",
      "\n",
      "############################################# COMANDO A EJECUTAR #############################################\n",
      "echo 1679271241.548829 >> main.py\n",
      "####################################### RESULTADO DE COMANDO EJECUTADO #######################################\n",
      "##############################################################################################################\n",
      "\n",
      "############################################# COMANDO A EJECUTAR #############################################\n",
      "echo 1679271241.694527 >> connection.java\n",
      "####################################### RESULTADO DE COMANDO EJECUTADO #######################################\n",
      "##############################################################################################################\n",
      "\n",
      "############################################# COMANDO A EJECUTAR #############################################\n",
      "echo 1679271241.830993 >> calculos.c\n",
      "####################################### RESULTADO DE COMANDO EJECUTADO #######################################\n",
      "##############################################################################################################\n",
      "\n",
      "############################################# COMANDO A EJECUTAR #############################################\n",
      "echo 1679271241.986887 >> addon.php\n",
      "####################################### RESULTADO DE COMANDO EJECUTADO #######################################\n",
      "##############################################################################################################\n",
      "\n",
      "############################################# COMANDO A EJECUTAR #############################################\n",
      "echo 1679271242.111679 >> utils.gif\n",
      "####################################### RESULTADO DE COMANDO EJECUTADO #######################################\n",
      "##############################################################################################################\n",
      "\n",
      "############################################# COMANDO A EJECUTAR #############################################\n",
      "echo 1679271242.261549 >> query.sql\n",
      "####################################### RESULTADO DE COMANDO EJECUTADO #######################################\n",
      "##############################################################################################################\n",
      "\n",
      "############################################# COMANDO A EJECUTAR #############################################\n",
      "echo 1679271242.384026 >> dataset.avro\n",
      "####################################### RESULTADO DE COMANDO EJECUTADO #######################################\n",
      "##############################################################################################################\n",
      "\n",
      "############################################# COMANDO A EJECUTAR #############################################\n",
      "echo 1679271242.541041 >> link.vs\n",
      "####################################### RESULTADO DE COMANDO EJECUTADO #######################################\n",
      "##############################################################################################################\n",
      "\n",
      "############################################# COMANDO A EJECUTAR #############################################\n",
      "git add info.txt\n",
      "####################################### RESULTADO DE COMANDO EJECUTADO #######################################\n",
      "##############################################################################################################\n",
      "\n",
      "############################################# COMANDO A EJECUTAR #############################################\n",
      "git commit -m \"ADICIONADO ARCHIVO info.txt 2023-03-19 19:14:00.890088\"\n",
      "####################################### RESULTADO DE COMANDO EJECUTADO #######################################\n",
      "[commit_branch bc98ff7] ADICIONADO ARCHIVO info.txt 2023-03-19 19:14:00.890088\n",
      " 1 file changed, 1 insertion(+)\n",
      " create mode 100644 info.txt\n",
      "##############################################################################################################\n",
      "\n",
      "############################################# COMANDO A EJECUTAR #############################################\n",
      "git add Dockerfile\n",
      "####################################### RESULTADO DE COMANDO EJECUTADO #######################################\n",
      "##############################################################################################################\n",
      "\n",
      "############################################# COMANDO A EJECUTAR #############################################\n",
      "git commit -m \"ADICIONADO ARCHIVO Dockerfile 2023-03-19 19:14:00.890088\"\n",
      "####################################### RESULTADO DE COMANDO EJECUTADO #######################################\n",
      "[commit_branch 0953d19] ADICIONADO ARCHIVO Dockerfile 2023-03-19 19:14:00.890088\n",
      " 1 file changed, 1 insertion(+)\n",
      " create mode 100644 Dockerfile\n",
      "##############################################################################################################\n",
      "\n",
      "############################################# COMANDO A EJECUTAR #############################################\n",
      "git add Manifest.yaml\n",
      "####################################### RESULTADO DE COMANDO EJECUTADO #######################################\n",
      "##############################################################################################################\n",
      "\n",
      "############################################# COMANDO A EJECUTAR #############################################\n",
      "git commit -m \"ADICIONADO ARCHIVO Manifest.yaml 2023-03-19 19:14:00.890088\"\n",
      "####################################### RESULTADO DE COMANDO EJECUTADO #######################################\n",
      "[commit_branch 9ef87cb] ADICIONADO ARCHIVO Manifest.yaml 2023-03-19 19:14:00.890088\n",
      " 1 file changed, 1 insertion(+)\n",
      " create mode 100644 Manifest.yaml\n",
      "##############################################################################################################\n",
      "\n",
      "############################################# COMANDO A EJECUTAR #############################################\n",
      "git add imagen.png\n",
      "####################################### RESULTADO DE COMANDO EJECUTADO #######################################\n",
      "##############################################################################################################\n",
      "\n",
      "############################################# COMANDO A EJECUTAR #############################################\n",
      "git commit -m \"ADICIONADO ARCHIVO imagen.png 2023-03-19 19:14:00.890088\"\n",
      "####################################### RESULTADO DE COMANDO EJECUTADO #######################################\n",
      "[commit_branch 9ff5e07] ADICIONADO ARCHIVO imagen.png 2023-03-19 19:14:00.890088\n",
      " 1 file changed, 1 insertion(+)\n",
      " create mode 100644 imagen.png\n",
      "##############################################################################################################\n",
      "\n",
      "############################################# COMANDO A EJECUTAR #############################################\n",
      "git add main.py\n",
      "####################################### RESULTADO DE COMANDO EJECUTADO #######################################\n",
      "##############################################################################################################\n",
      "\n",
      "############################################# COMANDO A EJECUTAR #############################################\n",
      "git commit -m \"ADICIONADO ARCHIVO main.py 2023-03-19 19:14:00.890088\"\n",
      "####################################### RESULTADO DE COMANDO EJECUTADO #######################################\n",
      "[commit_branch a2eee36] ADICIONADO ARCHIVO main.py 2023-03-19 19:14:00.890088\n",
      " 1 file changed, 1 insertion(+)\n",
      " create mode 100644 main.py\n",
      "##############################################################################################################\n",
      "\n",
      "############################################# COMANDO A EJECUTAR #############################################\n",
      "git add connection.java\n",
      "####################################### RESULTADO DE COMANDO EJECUTADO #######################################\n",
      "##############################################################################################################\n",
      "\n",
      "############################################# COMANDO A EJECUTAR #############################################\n",
      "git commit -m \"ADICIONADO ARCHIVO connection.java 2023-03-19 19:14:00.890088\"\n",
      "####################################### RESULTADO DE COMANDO EJECUTADO #######################################\n",
      "[commit_branch b33b49e] ADICIONADO ARCHIVO connection.java 2023-03-19 19:14:00.890088\n",
      " 1 file changed, 1 insertion(+)\n",
      " create mode 100644 connection.java\n",
      "##############################################################################################################\n",
      "\n",
      "############################################# COMANDO A EJECUTAR #############################################\n",
      "git add calculos.c\n",
      "####################################### RESULTADO DE COMANDO EJECUTADO #######################################\n",
      "##############################################################################################################\n",
      "\n",
      "############################################# COMANDO A EJECUTAR #############################################\n",
      "git commit -m \"ADICIONADO ARCHIVO calculos.c 2023-03-19 19:14:00.890088\"\n",
      "####################################### RESULTADO DE COMANDO EJECUTADO #######################################\n",
      "[commit_branch 1c64e2a] ADICIONADO ARCHIVO calculos.c 2023-03-19 19:14:00.890088\n",
      " 1 file changed, 1 insertion(+)\n",
      " create mode 100644 calculos.c\n",
      "##############################################################################################################\n",
      "\n",
      "############################################# COMANDO A EJECUTAR #############################################\n",
      "git add addon.php\n",
      "####################################### RESULTADO DE COMANDO EJECUTADO #######################################\n",
      "##############################################################################################################\n",
      "\n",
      "############################################# COMANDO A EJECUTAR #############################################\n",
      "git commit -m \"ADICIONADO ARCHIVO addon.php 2023-03-19 19:14:00.890088\"\n",
      "####################################### RESULTADO DE COMANDO EJECUTADO #######################################\n",
      "[commit_branch b9dff8d] ADICIONADO ARCHIVO addon.php 2023-03-19 19:14:00.890088\n",
      " 1 file changed, 1 insertion(+)\n",
      " create mode 100644 addon.php\n",
      "##############################################################################################################\n",
      "\n",
      "############################################# COMANDO A EJECUTAR #############################################\n",
      "git add utils.gif\n",
      "####################################### RESULTADO DE COMANDO EJECUTADO #######################################\n",
      "##############################################################################################################\n",
      "\n",
      "############################################# COMANDO A EJECUTAR #############################################\n",
      "git commit -m \"ADICIONADO ARCHIVO utils.gif 2023-03-19 19:14:00.890088\"\n",
      "####################################### RESULTADO DE COMANDO EJECUTADO #######################################\n",
      "[commit_branch 86fdcf5] ADICIONADO ARCHIVO utils.gif 2023-03-19 19:14:00.890088\n",
      " 1 file changed, 1 insertion(+)\n",
      " create mode 100644 utils.gif\n",
      "##############################################################################################################\n",
      "\n",
      "############################################# COMANDO A EJECUTAR #############################################\n",
      "git add query.sql\n",
      "####################################### RESULTADO DE COMANDO EJECUTADO #######################################\n",
      "##############################################################################################################\n",
      "\n",
      "############################################# COMANDO A EJECUTAR #############################################\n",
      "git commit -m \"ADICIONADO ARCHIVO query.sql 2023-03-19 19:14:00.890088\"\n",
      "####################################### RESULTADO DE COMANDO EJECUTADO #######################################\n",
      "[commit_branch 47b18de] ADICIONADO ARCHIVO query.sql 2023-03-19 19:14:00.890088\n",
      " 1 file changed, 1 insertion(+)\n",
      " create mode 100644 query.sql\n",
      "##############################################################################################################\n",
      "\n",
      "############################################# COMANDO A EJECUTAR #############################################\n",
      "git add dataset.avro\n",
      "####################################### RESULTADO DE COMANDO EJECUTADO #######################################\n",
      "##############################################################################################################\n",
      "\n",
      "############################################# COMANDO A EJECUTAR #############################################\n",
      "git commit -m \"ADICIONADO ARCHIVO dataset.avro 2023-03-19 19:14:00.890088\"\n",
      "####################################### RESULTADO DE COMANDO EJECUTADO #######################################\n",
      "[commit_branch 7b4727a] ADICIONADO ARCHIVO dataset.avro 2023-03-19 19:14:00.890088\n",
      " 1 file changed, 1 insertion(+)\n",
      " create mode 100644 dataset.avro\n",
      "##############################################################################################################\n",
      "\n",
      "############################################# COMANDO A EJECUTAR #############################################\n",
      "git add link.vs\n",
      "####################################### RESULTADO DE COMANDO EJECUTADO #######################################\n",
      "##############################################################################################################\n",
      "\n",
      "############################################# COMANDO A EJECUTAR #############################################\n",
      "git commit -m \"ADICIONADO ARCHIVO link.vs 2023-03-19 19:14:00.890088\"\n",
      "####################################### RESULTADO DE COMANDO EJECUTADO #######################################\n",
      "[commit_branch e6dcbb5] ADICIONADO ARCHIVO link.vs 2023-03-19 19:14:00.890088\n",
      " 1 file changed, 1 insertion(+)\n",
      " create mode 100644 link.vs\n",
      "##############################################################################################################\n",
      "\n",
      "############################################# COMANDO A EJECUTAR #############################################\n",
      "git status\n",
      "####################################### RESULTADO DE COMANDO EJECUTADO #######################################\n",
      "On branch commit_branch\n",
      "nothing to commit, working tree clean\n",
      "##############################################################################################################\n",
      "\n",
      "############################################# COMANDO A EJECUTAR #############################################\n",
      "git log --graph --oneline\n",
      "####################################### RESULTADO DE COMANDO EJECUTADO #######################################\n",
      "* e6dcbb5 ADICIONADO ARCHIVO link.vs 2023-03-19 19:14:00.890088\n",
      "* 7b4727a ADICIONADO ARCHIVO dataset.avro 2023-03-19 19:14:00.890088\n",
      "* 47b18de ADICIONADO ARCHIVO query.sql 2023-03-19 19:14:00.890088\n",
      "* 86fdcf5 ADICIONADO ARCHIVO utils.gif 2023-03-19 19:14:00.890088\n",
      "* b9dff8d ADICIONADO ARCHIVO addon.php 2023-03-19 19:14:00.890088\n",
      "* 1c64e2a ADICIONADO ARCHIVO calculos.c 2023-03-19 19:14:00.890088\n",
      "* b33b49e ADICIONADO ARCHIVO connection.java 2023-03-19 19:14:00.890088\n",
      "* a2eee36 ADICIONADO ARCHIVO main.py 2023-03-19 19:14:00.890088\n",
      "* 9ff5e07 ADICIONADO ARCHIVO imagen.png 2023-03-19 19:14:00.890088\n",
      "* 9ef87cb ADICIONADO ARCHIVO Manifest.yaml 2023-03-19 19:14:00.890088\n",
      "* 0953d19 ADICIONADO ARCHIVO Dockerfile 2023-03-19 19:14:00.890088\n",
      "* bc98ff7 ADICIONADO ARCHIVO info.txt 2023-03-19 19:14:00.890088\n",
      "* 3b4edb5 adicionados archivo de configuracion y requerimientos\n",
      "* d15fad2 Initial commit\n",
      "##############################################################################################################\n",
      "\n",
      "############################################# COMANDO A EJECUTAR #############################################\n",
      "git push --set-upstream origin commit_branch\n",
      "####################################### RESULTADO DE COMANDO EJECUTADO #######################################\n",
      "Branch 'commit_branch' set up to track remote branch 'commit_branch' from 'origin'.\n",
      "##############################################################################################################\n",
      "\n",
      "############################################# COMANDO A EJECUTAR #############################################\n",
      "git branch\n",
      "####################################### RESULTADO DE COMANDO EJECUTADO #######################################\n",
      "* commit_branch\n",
      "  main\n",
      "  multi_commits\n",
      "##############################################################################################################\n",
      "\n"
     ]
    }
   ],
   "source": [
    "nombre_rama = 'commit_branch'\n",
    "generar_archivos_y_hacer_commit(nombre_rama=nombre_rama)"
   ]
  },
  {
   "cell_type": "code",
   "execution_count": 39,
   "id": "211d14be-1715-43f4-afa9-bc07f11c5992",
   "metadata": {
    "scrolled": true,
    "tags": []
   },
   "outputs": [
    {
     "name": "stdout",
     "output_type": "stream",
     "text": [
      "############################################# COMANDO A EJECUTAR #############################################\n",
      "git log\n",
      "####################################### RESULTADO DE COMANDO EJECUTADO #######################################\n",
      "commit e6dcbb5fb4c69362bb889fde7e0c774859efe177\n",
      "Author: PARADIGMA\\QiDimMak <jorgecardona@utp.edu.co>\n",
      "Date:   Sun Mar 19 19:14:04 2023 -0500\n",
      "\n",
      "    ADICIONADO ARCHIVO link.vs 2023-03-19 19:14:00.890088\n",
      "\n",
      "commit 7b4727a355c0179f4d8d82bd76ec946191e80281\n",
      "Author: PARADIGMA\\QiDimMak <jorgecardona@utp.edu.co>\n",
      "Date:   Sun Mar 19 19:14:04 2023 -0500\n",
      "\n",
      "    ADICIONADO ARCHIVO dataset.avro 2023-03-19 19:14:00.890088\n",
      "\n",
      "commit 47b18dea317fdb676b8e599280e3f94564f995b6\n",
      "Author: PARADIGMA\\QiDimMak <jorgecardona@utp.edu.co>\n",
      "Date:   Sun Mar 19 19:14:03 2023 -0500\n",
      "\n",
      "    ADICIONADO ARCHIVO query.sql 2023-03-19 19:14:00.890088\n",
      "\n",
      "commit 86fdcf5eae006c1e8f93cc9ee6e02e484213d0fe\n",
      "Author: PARADIGMA\\QiDimMak <jorgecardona@utp.edu.co>\n",
      "Date:   Sun Mar 19 19:14:03 2023 -0500\n",
      "\n",
      "    ADICIONADO ARCHIVO utils.gif 2023-03-19 19:14:00.890088\n",
      "\n",
      "commit b9dff8d584cd4539731f599ab176a75c1c01b72a\n",
      "Author: PARADIGMA\\QiDimMak <jorgecardona@utp.edu.co>\n",
      "Date:   Sun Mar 19 19:14:03 2023 -0500\n",
      "\n",
      "    ADICIONADO ARCHIVO addon.php 2023-03-19 19:14:00.890088\n",
      "\n",
      "commit 1c64e2aa2e037d87b4d780db56e196eb40858d71\n",
      "Author: PARADIGMA\\QiDimMak <jorgecardona@utp.edu.co>\n",
      "Date:   Sun Mar 19 19:14:03 2023 -0500\n",
      "\n",
      "    ADICIONADO ARCHIVO calculos.c 2023-03-19 19:14:00.890088\n",
      "\n",
      "commit b33b49e5be8febf2a06759378c772f8a2d98ea5f\n",
      "Author: PARADIGMA\\QiDimMak <jorgecardona@utp.edu.co>\n",
      "Date:   Sun Mar 19 19:14:03 2023 -0500\n",
      "\n",
      "    ADICIONADO ARCHIVO connection.java 2023-03-19 19:14:00.890088\n",
      "\n",
      "commit a2eee36ff19b5a2b8e307c44656b5593285abad9\n",
      "Author: PARADIGMA\\QiDimMak <jorgecardona@utp.edu.co>\n",
      "Date:   Sun Mar 19 19:14:03 2023 -0500\n",
      "\n",
      "    ADICIONADO ARCHIVO main.py 2023-03-19 19:14:00.890088\n",
      "\n",
      "commit 9ff5e074bb7afbf8af1865c84fc06b4882fdcf9a\n",
      "Author: PARADIGMA\\QiDimMak <jorgecardona@utp.edu.co>\n",
      "Date:   Sun Mar 19 19:14:03 2023 -0500\n",
      "\n",
      "    ADICIONADO ARCHIVO imagen.png 2023-03-19 19:14:00.890088\n",
      "\n",
      "commit 9ef87cb323bb654ef620044475f356c9ce830fbd\n",
      "Author: PARADIGMA\\QiDimMak <jorgecardona@utp.edu.co>\n",
      "Date:   Sun Mar 19 19:14:03 2023 -0500\n",
      "\n",
      "    ADICIONADO ARCHIVO Manifest.yaml 2023-03-19 19:14:00.890088\n",
      "\n",
      "commit 0953d1970ee92ee043a1091514c62fce154dd15d\n",
      "Author: PARADIGMA\\QiDimMak <jorgecardona@utp.edu.co>\n",
      "Date:   Sun Mar 19 19:14:02 2023 -0500\n",
      "\n",
      "    ADICIONADO ARCHIVO Dockerfile 2023-03-19 19:14:00.890088\n",
      "\n",
      "commit bc98ff75403602e939ceb5e02f33e69771d994b3\n",
      "Author: PARADIGMA\\QiDimMak <jorgecardona@utp.edu.co>\n",
      "Date:   Sun Mar 19 19:14:02 2023 -0500\n",
      "\n",
      "    ADICIONADO ARCHIVO info.txt 2023-03-19 19:14:00.890088\n",
      "\n",
      "commit 3b4edb5a785dcc5841b35cd2ad93033cd29cb730\n",
      "Author: PARADIGMA\\QiDimMak <jorgecardona@utp.edu.co>\n",
      "Date:   Fri Mar 17 20:39:55 2023 -0500\n",
      "\n",
      "    adicionados archivo de configuracion y requerimientos\n",
      "\n",
      "commit d15fad27cb8d1bcb6a0e697ef02e2d787dc51b48\n",
      "Author: JorgeCardona <jorgecardona@utp.edu.co>\n",
      "Date:   Fri Mar 17 20:27:49 2023 -0500\n",
      "\n",
      "    Initial commit\n",
      "##############################################################################################################\n",
      "\n",
      "############################################# COMANDO A EJECUTAR #############################################\n",
      "git branch\n",
      "####################################### RESULTADO DE COMANDO EJECUTADO #######################################\n",
      "* commit_branch\n",
      "  main\n",
      "  multi_commits\n",
      "##############################################################################################################\n",
      "\n"
     ]
    }
   ],
   "source": [
    "comando = 'git log'\n",
    "ejecutar_comando_git(comando)\n",
    "\n",
    "ejecutar_comando_shell()"
   ]
  },
  {
   "cell_type": "markdown",
   "id": "b26c3022-d94b-4132-a63b-913a1522da1c",
   "metadata": {},
   "source": [
    "### VER HISTORIAL DE LOS ULTIMOS n COMMITS"
   ]
  },
  {
   "cell_type": "code",
   "execution_count": 40,
   "id": "de4a869a-edc0-478a-ae34-79ea94a30018",
   "metadata": {
    "scrolled": true,
    "tags": []
   },
   "outputs": [
    {
     "name": "stdout",
     "output_type": "stream",
     "text": [
      "############################################# COMANDO A EJECUTAR #############################################\n",
      "git log -3\n",
      "####################################### RESULTADO DE COMANDO EJECUTADO #######################################\n",
      "commit e6dcbb5fb4c69362bb889fde7e0c774859efe177\n",
      "Author: PARADIGMA\\QiDimMak <jorgecardona@utp.edu.co>\n",
      "Date:   Sun Mar 19 19:14:04 2023 -0500\n",
      "\n",
      "    ADICIONADO ARCHIVO link.vs 2023-03-19 19:14:00.890088\n",
      "\n",
      "commit 7b4727a355c0179f4d8d82bd76ec946191e80281\n",
      "Author: PARADIGMA\\QiDimMak <jorgecardona@utp.edu.co>\n",
      "Date:   Sun Mar 19 19:14:04 2023 -0500\n",
      "\n",
      "    ADICIONADO ARCHIVO dataset.avro 2023-03-19 19:14:00.890088\n",
      "\n",
      "commit 47b18dea317fdb676b8e599280e3f94564f995b6\n",
      "Author: PARADIGMA\\QiDimMak <jorgecardona@utp.edu.co>\n",
      "Date:   Sun Mar 19 19:14:03 2023 -0500\n",
      "\n",
      "    ADICIONADO ARCHIVO query.sql 2023-03-19 19:14:00.890088\n",
      "##############################################################################################################\n",
      "\n",
      "############################################# COMANDO A EJECUTAR #############################################\n",
      "git branch\n",
      "####################################### RESULTADO DE COMANDO EJECUTADO #######################################\n",
      "* commit_branch\n",
      "  main\n",
      "  multi_commits\n",
      "##############################################################################################################\n",
      "\n"
     ]
    }
   ],
   "source": [
    "comando = 'git log -3' \n",
    "ejecutar_comando_git(comando)\n",
    "\n",
    "ejecutar_comando_shell()"
   ]
  },
  {
   "cell_type": "markdown",
   "id": "17309b57-9e0f-4b16-81db-abfe3f07d762",
   "metadata": {},
   "source": [
    "### VER HISTORIAL RESUMIDO DE UNA RAMA"
   ]
  },
  {
   "cell_type": "code",
   "execution_count": 41,
   "id": "28b90f01-56d6-4474-822e-5f38e384198c",
   "metadata": {
    "tags": []
   },
   "outputs": [
    {
     "name": "stdout",
     "output_type": "stream",
     "text": [
      "############################################# COMANDO A EJECUTAR #############################################\n",
      "git log --oneline\n",
      "####################################### RESULTADO DE COMANDO EJECUTADO #######################################\n",
      "e6dcbb5 ADICIONADO ARCHIVO link.vs 2023-03-19 19:14:00.890088\n",
      "7b4727a ADICIONADO ARCHIVO dataset.avro 2023-03-19 19:14:00.890088\n",
      "47b18de ADICIONADO ARCHIVO query.sql 2023-03-19 19:14:00.890088\n",
      "86fdcf5 ADICIONADO ARCHIVO utils.gif 2023-03-19 19:14:00.890088\n",
      "b9dff8d ADICIONADO ARCHIVO addon.php 2023-03-19 19:14:00.890088\n",
      "1c64e2a ADICIONADO ARCHIVO calculos.c 2023-03-19 19:14:00.890088\n",
      "b33b49e ADICIONADO ARCHIVO connection.java 2023-03-19 19:14:00.890088\n",
      "a2eee36 ADICIONADO ARCHIVO main.py 2023-03-19 19:14:00.890088\n",
      "9ff5e07 ADICIONADO ARCHIVO imagen.png 2023-03-19 19:14:00.890088\n",
      "9ef87cb ADICIONADO ARCHIVO Manifest.yaml 2023-03-19 19:14:00.890088\n",
      "0953d19 ADICIONADO ARCHIVO Dockerfile 2023-03-19 19:14:00.890088\n",
      "bc98ff7 ADICIONADO ARCHIVO info.txt 2023-03-19 19:14:00.890088\n",
      "3b4edb5 adicionados archivo de configuracion y requerimientos\n",
      "d15fad2 Initial commit\n",
      "##############################################################################################################\n",
      "\n",
      "############################################# COMANDO A EJECUTAR #############################################\n",
      "git branch\n",
      "####################################### RESULTADO DE COMANDO EJECUTADO #######################################\n",
      "* commit_branch\n",
      "  main\n",
      "  multi_commits\n",
      "##############################################################################################################\n",
      "\n"
     ]
    }
   ],
   "source": [
    "comando = 'git log --oneline'\n",
    "ejecutar_comando_git(comando)\n",
    "ejecutar_comando_shell()"
   ]
  },
  {
   "cell_type": "markdown",
   "id": "a57c7d34-4621-4be8-8f00-39ddb3be0f80",
   "metadata": {},
   "source": [
    "### VER HISTORIAL RESUMIDO DE UNA RAMA DE n COMMITS"
   ]
  },
  {
   "cell_type": "code",
   "execution_count": 42,
   "id": "bf2b7b79-80c3-48ac-95fa-0d0afa8e8439",
   "metadata": {
    "tags": []
   },
   "outputs": [
    {
     "name": "stdout",
     "output_type": "stream",
     "text": [
      "############################################# COMANDO A EJECUTAR #############################################\n",
      "git log --oneline -3\n",
      "####################################### RESULTADO DE COMANDO EJECUTADO #######################################\n",
      "e6dcbb5 ADICIONADO ARCHIVO link.vs 2023-03-19 19:14:00.890088\n",
      "7b4727a ADICIONADO ARCHIVO dataset.avro 2023-03-19 19:14:00.890088\n",
      "47b18de ADICIONADO ARCHIVO query.sql 2023-03-19 19:14:00.890088\n",
      "##############################################################################################################\n",
      "\n",
      "############################################# COMANDO A EJECUTAR #############################################\n",
      "git branch\n",
      "####################################### RESULTADO DE COMANDO EJECUTADO #######################################\n",
      "* commit_branch\n",
      "  main\n",
      "  multi_commits\n",
      "##############################################################################################################\n",
      "\n"
     ]
    }
   ],
   "source": [
    "comando = 'git log --oneline -3'\n",
    "ejecutar_comando_git(comando)\n",
    "ejecutar_comando_shell()"
   ]
  },
  {
   "cell_type": "markdown",
   "id": "20ab2987-4dc0-4b32-b64e-d9ad8765899b",
   "metadata": {},
   "source": [
    "## VER HISTORIAL RESUMIDO DE UNA RAMA SIN ESTAR EN LA RAMA"
   ]
  },
  {
   "cell_type": "code",
   "execution_count": 43,
   "id": "36a25ca6-500b-4f32-8596-be5124db2755",
   "metadata": {
    "tags": []
   },
   "outputs": [
    {
     "name": "stdout",
     "output_type": "stream",
     "text": [
      "############################################# COMANDO A EJECUTAR #############################################\n",
      "git log --oneline main\n",
      "####################################### RESULTADO DE COMANDO EJECUTADO #######################################\n",
      "3b4edb5 adicionados archivo de configuracion y requerimientos\n",
      "d15fad2 Initial commit\n",
      "##############################################################################################################\n",
      "\n",
      "############################################# COMANDO A EJECUTAR #############################################\n",
      "git branch\n",
      "####################################### RESULTADO DE COMANDO EJECUTADO #######################################\n",
      "* commit_branch\n",
      "  main\n",
      "  multi_commits\n",
      "##############################################################################################################\n",
      "\n"
     ]
    }
   ],
   "source": [
    "comando = 'git log --oneline main'\n",
    "ejecutar_comando_git(comando)\n",
    "ejecutar_comando_shell()"
   ]
  },
  {
   "cell_type": "markdown",
   "id": "0e0e4c05-c018-43d8-93f7-a9d2658f6416",
   "metadata": {},
   "source": [
    "## VER HISTORIAL DE n COMMITS EN UN DIAGRAMA DE GRAFO"
   ]
  },
  {
   "cell_type": "code",
   "execution_count": 44,
   "id": "faba3aec-b457-4beb-a478-d48f4faa488d",
   "metadata": {
    "tags": []
   },
   "outputs": [
    {
     "name": "stdout",
     "output_type": "stream",
     "text": [
      "############################################# COMANDO A EJECUTAR #############################################\n",
      "git log --graph --oneline\n",
      "####################################### RESULTADO DE COMANDO EJECUTADO #######################################\n",
      "* e6dcbb5 ADICIONADO ARCHIVO link.vs 2023-03-19 19:14:00.890088\n",
      "* 7b4727a ADICIONADO ARCHIVO dataset.avro 2023-03-19 19:14:00.890088\n",
      "* 47b18de ADICIONADO ARCHIVO query.sql 2023-03-19 19:14:00.890088\n",
      "* 86fdcf5 ADICIONADO ARCHIVO utils.gif 2023-03-19 19:14:00.890088\n",
      "* b9dff8d ADICIONADO ARCHIVO addon.php 2023-03-19 19:14:00.890088\n",
      "* 1c64e2a ADICIONADO ARCHIVO calculos.c 2023-03-19 19:14:00.890088\n",
      "* b33b49e ADICIONADO ARCHIVO connection.java 2023-03-19 19:14:00.890088\n",
      "* a2eee36 ADICIONADO ARCHIVO main.py 2023-03-19 19:14:00.890088\n",
      "* 9ff5e07 ADICIONADO ARCHIVO imagen.png 2023-03-19 19:14:00.890088\n",
      "* 9ef87cb ADICIONADO ARCHIVO Manifest.yaml 2023-03-19 19:14:00.890088\n",
      "* 0953d19 ADICIONADO ARCHIVO Dockerfile 2023-03-19 19:14:00.890088\n",
      "* bc98ff7 ADICIONADO ARCHIVO info.txt 2023-03-19 19:14:00.890088\n",
      "* 3b4edb5 adicionados archivo de configuracion y requerimientos\n",
      "* d15fad2 Initial commit\n",
      "##############################################################################################################\n",
      "\n",
      "############################################# COMANDO A EJECUTAR #############################################\n",
      "git branch\n",
      "####################################### RESULTADO DE COMANDO EJECUTADO #######################################\n",
      "* commit_branch\n",
      "  main\n",
      "  multi_commits\n",
      "##############################################################################################################\n",
      "\n"
     ]
    }
   ],
   "source": [
    "comando = 'git log --graph --oneline'\n",
    "ejecutar_comando_git(comando)\n",
    "ejecutar_comando_shell()"
   ]
  },
  {
   "cell_type": "markdown",
   "id": "a49ba8d3-b16c-4c21-aa5f-cabf2a11262c",
   "metadata": {},
   "source": [
    "### VER HISTORIAL DE n COMMITS Y MOSTRAR LOS CAMBIOS ESPECIFICOS DE ESOS COMMITS"
   ]
  },
  {
   "cell_type": "code",
   "execution_count": 45,
   "id": "c11ada4a-b616-4342-9f70-6404941eb817",
   "metadata": {
    "scrolled": true,
    "tags": []
   },
   "outputs": [
    {
     "name": "stdout",
     "output_type": "stream",
     "text": [
      "############################################# COMANDO A EJECUTAR #############################################\n",
      "git log -2 -p\n",
      "####################################### RESULTADO DE COMANDO EJECUTADO #######################################\n",
      "commit e6dcbb5fb4c69362bb889fde7e0c774859efe177\n",
      "Author: PARADIGMA\\QiDimMak <jorgecardona@utp.edu.co>\n",
      "Date:   Sun Mar 19 19:14:04 2023 -0500\n",
      "\n",
      "    ADICIONADO ARCHIVO link.vs 2023-03-19 19:14:00.890088\n",
      "\n",
      "diff --git a/link.vs b/link.vs\n",
      "new file mode 100644\n",
      "index 0000000..dfc75b8\n",
      "--- /dev/null\n",
      "+++ b/link.vs\n",
      "@@ -0,0 +1 @@\n",
      "+1679271242.541041 \n",
      "\n",
      "commit 7b4727a355c0179f4d8d82bd76ec946191e80281\n",
      "Author: PARADIGMA\\QiDimMak <jorgecardona@utp.edu.co>\n",
      "Date:   Sun Mar 19 19:14:04 2023 -0500\n",
      "\n",
      "    ADICIONADO ARCHIVO dataset.avro 2023-03-19 19:14:00.890088\n",
      "\n",
      "diff --git a/dataset.avro b/dataset.avro\n",
      "new file mode 100644\n",
      "index 0000000..ac164da\n",
      "--- /dev/null\n",
      "+++ b/dataset.avro\n",
      "@@ -0,0 +1 @@\n",
      "+1679271242.384026 \n",
      "##############################################################################################################\n",
      "\n",
      "############################################# COMANDO A EJECUTAR #############################################\n",
      "git branch\n",
      "####################################### RESULTADO DE COMANDO EJECUTADO #######################################\n",
      "* commit_branch\n",
      "  main\n",
      "  multi_commits\n",
      "##############################################################################################################\n",
      "\n"
     ]
    }
   ],
   "source": [
    "comando = 'git log -2 -p'\n",
    "ejecutar_comando_git(comando)\n",
    "ejecutar_comando_shell()"
   ]
  },
  {
   "cell_type": "markdown",
   "id": "1edb9254-ecc7-4e14-9c3d-1c5bb60ee8a9",
   "metadata": {},
   "source": [
    "### VER HISTORIAL DE n COMMITS Y MOSTRAR LOS CAMBIOS ESPECIFICOS DE ESOS COMMITS USANDO **SHOW**"
   ]
  },
  {
   "cell_type": "code",
   "execution_count": 46,
   "id": "73169185-d4db-4a90-b5e6-224fc9ac88fc",
   "metadata": {
    "scrolled": true,
    "tags": []
   },
   "outputs": [
    {
     "name": "stdout",
     "output_type": "stream",
     "text": [
      "############################################# COMANDO A EJECUTAR #############################################\n",
      "git show -2\n",
      "####################################### RESULTADO DE COMANDO EJECUTADO #######################################\n",
      "commit e6dcbb5fb4c69362bb889fde7e0c774859efe177\n",
      "Author: PARADIGMA\\QiDimMak <jorgecardona@utp.edu.co>\n",
      "Date:   Sun Mar 19 19:14:04 2023 -0500\n",
      "\n",
      "    ADICIONADO ARCHIVO link.vs 2023-03-19 19:14:00.890088\n",
      "\n",
      "diff --git a/link.vs b/link.vs\n",
      "new file mode 100644\n",
      "index 0000000..dfc75b8\n",
      "--- /dev/null\n",
      "+++ b/link.vs\n",
      "@@ -0,0 +1 @@\n",
      "+1679271242.541041 \n",
      "\n",
      "commit 7b4727a355c0179f4d8d82bd76ec946191e80281\n",
      "Author: PARADIGMA\\QiDimMak <jorgecardona@utp.edu.co>\n",
      "Date:   Sun Mar 19 19:14:04 2023 -0500\n",
      "\n",
      "    ADICIONADO ARCHIVO dataset.avro 2023-03-19 19:14:00.890088\n",
      "\n",
      "diff --git a/dataset.avro b/dataset.avro\n",
      "new file mode 100644\n",
      "index 0000000..ac164da\n",
      "--- /dev/null\n",
      "+++ b/dataset.avro\n",
      "@@ -0,0 +1 @@\n",
      "+1679271242.384026 \n",
      "##############################################################################################################\n",
      "\n",
      "############################################# COMANDO A EJECUTAR #############################################\n",
      "git branch\n",
      "####################################### RESULTADO DE COMANDO EJECUTADO #######################################\n",
      "* commit_branch\n",
      "  main\n",
      "  multi_commits\n",
      "##############################################################################################################\n",
      "\n"
     ]
    }
   ],
   "source": [
    "comando = 'git show -2'\n",
    "ejecutar_comando_git(comando)\n",
    "ejecutar_comando_shell()"
   ]
  },
  {
   "cell_type": "markdown",
   "id": "6aefdda1-9272-423c-91db-7fa36d0fa9a1",
   "metadata": {},
   "source": [
    "### VER HISTORIAL RESUMIDO DE n COMMITS Y MOSTRAR LOS CAMBIOS ESPECIFICOS DE ESOS COMMITS"
   ]
  },
  {
   "cell_type": "code",
   "execution_count": 47,
   "id": "cb0f0b2b-53cd-469e-8a42-581d08748748",
   "metadata": {
    "scrolled": true,
    "tags": []
   },
   "outputs": [
    {
     "name": "stdout",
     "output_type": "stream",
     "text": [
      "############################################# COMANDO A EJECUTAR #############################################\n",
      "git log --oneline -2 -p\n",
      "####################################### RESULTADO DE COMANDO EJECUTADO #######################################\n",
      "e6dcbb5 ADICIONADO ARCHIVO link.vs 2023-03-19 19:14:00.890088\n",
      "diff --git a/link.vs b/link.vs\n",
      "new file mode 100644\n",
      "index 0000000..dfc75b8\n",
      "--- /dev/null\n",
      "+++ b/link.vs\n",
      "@@ -0,0 +1 @@\n",
      "+1679271242.541041 \n",
      "7b4727a ADICIONADO ARCHIVO dataset.avro 2023-03-19 19:14:00.890088\n",
      "diff --git a/dataset.avro b/dataset.avro\n",
      "new file mode 100644\n",
      "index 0000000..ac164da\n",
      "--- /dev/null\n",
      "+++ b/dataset.avro\n",
      "@@ -0,0 +1 @@\n",
      "+1679271242.384026 \n",
      "##############################################################################################################\n",
      "\n",
      "############################################# COMANDO A EJECUTAR #############################################\n",
      "git branch\n",
      "####################################### RESULTADO DE COMANDO EJECUTADO #######################################\n",
      "* commit_branch\n",
      "  main\n",
      "  multi_commits\n",
      "##############################################################################################################\n",
      "\n"
     ]
    }
   ],
   "source": [
    "comando = 'git log --oneline -2 -p'\n",
    "ejecutar_comando_git(comando)\n",
    "ejecutar_comando_shell()"
   ]
  },
  {
   "cell_type": "markdown",
   "id": "a4ca23d2-6a1a-42a6-b36f-2643f785f690",
   "metadata": {
    "tags": []
   },
   "source": [
    "#### ELIMINAR LA RAMA EN EL REPOSITORIO REMOTO Y LOCAL"
   ]
  },
  {
   "cell_type": "code",
   "execution_count": 48,
   "id": "7d5982f1-18fb-4245-a3ed-e4ffd1713305",
   "metadata": {},
   "outputs": [
    {
     "name": "stdout",
     "output_type": "stream",
     "text": [
      "############################################# COMANDO A EJECUTAR #############################################\n",
      "git checkout main\n",
      "####################################### RESULTADO DE COMANDO EJECUTADO #######################################\n",
      "Your branch is up to date with 'origin/main'.\n",
      "##############################################################################################################\n",
      "\n",
      "############################################# COMANDO A EJECUTAR #############################################\n",
      "git push origin -d commit_branch\n",
      "####################################### RESULTADO DE COMANDO EJECUTADO #######################################\n",
      "##############################################################################################################\n",
      "\n",
      "############################################# COMANDO A EJECUTAR #############################################\n",
      "git branch -D commit_branch\n",
      "####################################### RESULTADO DE COMANDO EJECUTADO #######################################\n",
      "Deleted branch commit_branch (was e6dcbb5).\n",
      "##############################################################################################################\n",
      "\n",
      "############################################# COMANDO A EJECUTAR #############################################\n",
      "git branch -a\n",
      "####################################### RESULTADO DE COMANDO EJECUTADO #######################################\n",
      "* main\n",
      "  multi_commits\n",
      "  remotes/origin/HEAD -> origin/main\n",
      "  remotes/origin/main\n",
      "  remotes/origin/multi_commits\n",
      "  remotes/origin/tag_branch\n",
      "##############################################################################################################\n",
      "\n"
     ]
    }
   ],
   "source": [
    "comando = 'git checkout main'\n",
    "ejecutar_comando_git(comando)\n",
    "\n",
    "comando = 'git push origin -d {nombre_rama}'.format(nombre_rama=nombre_rama)\n",
    "ejecutar_comando_git(comando)\n",
    "\n",
    "comando = 'git branch -D {nombre_rama}'.format(nombre_rama=nombre_rama)\n",
    "ejecutar_comando_git(comando)\n",
    "\n",
    "comando = 'git branch -a'\n",
    "ejecutar_comando_git(comando)"
   ]
  },
  {
   "cell_type": "markdown",
   "id": "c35db3d6-6403-4e68-966b-af50f54f40cf",
   "metadata": {},
   "source": [
    "# <center> MODIFICAR EL MENSAJE DEL ULTIMO COMMIT</center>"
   ]
  },
  {
   "cell_type": "code",
   "execution_count": 49,
   "id": "bcea54f7-358f-4e5c-afa0-e5ee5c237900",
   "metadata": {
    "scrolled": true,
    "tags": []
   },
   "outputs": [
    {
     "name": "stdout",
     "output_type": "stream",
     "text": [
      "############################################# COMANDO A EJECUTAR #############################################\n",
      "git restore .\n",
      "####################################### RESULTADO DE COMANDO EJECUTADO #######################################\n",
      "##############################################################################################################\n",
      "\n",
      "############################################# COMANDO A EJECUTAR #############################################\n",
      "git checkout main\n",
      "####################################### RESULTADO DE COMANDO EJECUTADO #######################################\n",
      "Your branch is up to date with 'origin/main'.\n",
      "##############################################################################################################\n",
      "\n",
      "############################################# COMANDO A EJECUTAR #############################################\n",
      "git branch -a\n",
      "####################################### RESULTADO DE COMANDO EJECUTADO #######################################\n",
      "* main\n",
      "  multi_commits\n",
      "  remotes/origin/HEAD -> origin/main\n",
      "  remotes/origin/main\n",
      "  remotes/origin/multi_commits\n",
      "  remotes/origin/tag_branch\n",
      "##############################################################################################################\n",
      "\n",
      "############################################# COMANDO A EJECUTAR #############################################\n",
      "git branch -a\n",
      "####################################### RESULTADO DE COMANDO EJECUTADO #######################################\n",
      "* main\n",
      "  multi_commits\n",
      "  remotes/origin/HEAD -> origin/main\n",
      "  remotes/origin/main\n",
      "  remotes/origin/multi_commits\n",
      "  remotes/origin/tag_branch\n",
      "##############################################################################################################\n",
      "\n",
      "############################################# COMANDO A EJECUTAR #############################################\n",
      "git checkout -b amend_branch\n",
      "####################################### RESULTADO DE COMANDO EJECUTADO #######################################\n",
      "##############################################################################################################\n",
      "\n",
      "############################################# COMANDO A EJECUTAR #############################################\n",
      "git branch\n",
      "####################################### RESULTADO DE COMANDO EJECUTADO #######################################\n",
      "* amend_branch\n",
      "  main\n",
      "  multi_commits\n",
      "##############################################################################################################\n",
      "\n",
      "lista_de_archivos = ['info.txt']\n",
      "############################################# COMANDO A EJECUTAR #############################################\n",
      "echo 1679271277.019847 >> info.txt\n",
      "####################################### RESULTADO DE COMANDO EJECUTADO #######################################\n",
      "##############################################################################################################\n",
      "\n",
      "############################################# COMANDO A EJECUTAR #############################################\n",
      "git add info.txt\n",
      "####################################### RESULTADO DE COMANDO EJECUTADO #######################################\n",
      "##############################################################################################################\n",
      "\n",
      "############################################# COMANDO A EJECUTAR #############################################\n",
      "git commit -m \"ADICIONADO ARCHIVO info.txt 2023-03-19 19:14:36.910969\"\n",
      "####################################### RESULTADO DE COMANDO EJECUTADO #######################################\n",
      "[amend_branch 71b7443] ADICIONADO ARCHIVO info.txt 2023-03-19 19:14:36.910969\n",
      " 1 file changed, 1 insertion(+)\n",
      " create mode 100644 info.txt\n",
      "##############################################################################################################\n",
      "\n",
      "############################################# COMANDO A EJECUTAR #############################################\n",
      "git status\n",
      "####################################### RESULTADO DE COMANDO EJECUTADO #######################################\n",
      "On branch amend_branch\n",
      "nothing to commit, working tree clean\n",
      "##############################################################################################################\n",
      "\n",
      "############################################# COMANDO A EJECUTAR #############################################\n",
      "git log --graph --oneline\n",
      "####################################### RESULTADO DE COMANDO EJECUTADO #######################################\n",
      "* 71b7443 ADICIONADO ARCHIVO info.txt 2023-03-19 19:14:36.910969\n",
      "* 3b4edb5 adicionados archivo de configuracion y requerimientos\n",
      "* d15fad2 Initial commit\n",
      "##############################################################################################################\n",
      "\n",
      "############################################# COMANDO A EJECUTAR #############################################\n",
      "git push --set-upstream origin amend_branch\n",
      "####################################### RESULTADO DE COMANDO EJECUTADO #######################################\n",
      "Branch 'amend_branch' set up to track remote branch 'amend_branch' from 'origin'.\n",
      "##############################################################################################################\n",
      "\n",
      "############################################# COMANDO A EJECUTAR #############################################\n",
      "git branch\n",
      "####################################### RESULTADO DE COMANDO EJECUTADO #######################################\n",
      "* amend_branch\n",
      "  main\n",
      "  multi_commits\n",
      "##############################################################################################################\n",
      "\n"
     ]
    }
   ],
   "source": [
    "nombre_rama = 'amend_branch'\n",
    "generar_archivos_y_hacer_commit(nombre_rama=nombre_rama, todos_los_archivos=False)"
   ]
  },
  {
   "cell_type": "markdown",
   "id": "04a2bd03-dc9d-4573-b7a0-0e7185687dc5",
   "metadata": {},
   "source": [
    "# EN LA CONSOLA DE VSCODE\n",
    "# git commit --amend\n",
    "\n",
    "## SE ABRE AUTOMATICAMENTE EL EDITOR DE TEXTO, reemplazar el emnsaje del commit anterior por el que se quiere y cerrar el archivo\n",
    "## validar en local con git log, no afecta la hora del commit original con la fecha del mensaje actualizado\n",
    "## subir los cambios al repositorio¶\n",
    "# git push --force origin amend_branch"
   ]
  },
  {
   "cell_type": "code",
   "execution_count": 50,
   "id": "62fd5b2d-c35e-452c-8929-fbbd9314f90f",
   "metadata": {
    "scrolled": true,
    "tags": []
   },
   "outputs": [
    {
     "name": "stdout",
     "output_type": "stream",
     "text": [
      "############################################# COMANDO A EJECUTAR #############################################\n",
      "git log\n",
      "####################################### RESULTADO DE COMANDO EJECUTADO #######################################\n",
      "commit 71b7443a1954feff354bb4cdbbab8f67dca5d77c\n",
      "Author: PARADIGMA\\QiDimMak <jorgecardona@utp.edu.co>\n",
      "Date:   Sun Mar 19 19:14:37 2023 -0500\n",
      "\n",
      "    ADICIONADO ARCHIVO info.txt 2023-03-19 19:14:36.910969\n",
      "\n",
      "commit 3b4edb5a785dcc5841b35cd2ad93033cd29cb730\n",
      "Author: PARADIGMA\\QiDimMak <jorgecardona@utp.edu.co>\n",
      "Date:   Fri Mar 17 20:39:55 2023 -0500\n",
      "\n",
      "    adicionados archivo de configuracion y requerimientos\n",
      "\n",
      "commit d15fad27cb8d1bcb6a0e697ef02e2d787dc51b48\n",
      "Author: JorgeCardona <jorgecardona@utp.edu.co>\n",
      "Date:   Fri Mar 17 20:27:49 2023 -0500\n",
      "\n",
      "    Initial commit\n",
      "##############################################################################################################\n",
      "\n"
     ]
    }
   ],
   "source": [
    "comando = 'git log'\n",
    "ejecutar_comando_git(comando)"
   ]
  },
  {
   "cell_type": "markdown",
   "id": "85f441a3-5119-4832-93eb-44604777da3e",
   "metadata": {
    "tags": []
   },
   "source": [
    "#### ELIMINAR LA RAMA EN EL REPOSITORIO REMOTO Y LOCAL"
   ]
  },
  {
   "cell_type": "code",
   "execution_count": 51,
   "id": "743a5af2-8952-4143-961a-b7bf4b9e31a2",
   "metadata": {},
   "outputs": [
    {
     "name": "stdout",
     "output_type": "stream",
     "text": [
      "############################################# COMANDO A EJECUTAR #############################################\n",
      "git checkout main\n",
      "####################################### RESULTADO DE COMANDO EJECUTADO #######################################\n",
      "Your branch is up to date with 'origin/main'.\n",
      "##############################################################################################################\n",
      "\n",
      "############################################# COMANDO A EJECUTAR #############################################\n",
      "git push origin -d amend_branch\n",
      "####################################### RESULTADO DE COMANDO EJECUTADO #######################################\n",
      "##############################################################################################################\n",
      "\n",
      "############################################# COMANDO A EJECUTAR #############################################\n",
      "git branch -D amend_branch\n",
      "####################################### RESULTADO DE COMANDO EJECUTADO #######################################\n",
      "Deleted branch amend_branch (was 71b7443).\n",
      "##############################################################################################################\n",
      "\n",
      "############################################# COMANDO A EJECUTAR #############################################\n",
      "git branch -a\n",
      "####################################### RESULTADO DE COMANDO EJECUTADO #######################################\n",
      "* main\n",
      "  multi_commits\n",
      "  remotes/origin/HEAD -> origin/main\n",
      "  remotes/origin/main\n",
      "  remotes/origin/multi_commits\n",
      "  remotes/origin/tag_branch\n",
      "##############################################################################################################\n",
      "\n"
     ]
    }
   ],
   "source": [
    "comando = 'git checkout main'\n",
    "ejecutar_comando_git(comando)\n",
    "\n",
    "comando = 'git push origin -d {nombre_rama}'.format(nombre_rama=nombre_rama)\n",
    "ejecutar_comando_git(comando)\n",
    "\n",
    "comando = 'git branch -D {nombre_rama}'.format(nombre_rama=nombre_rama)\n",
    "ejecutar_comando_git(comando)\n",
    "\n",
    "comando = 'git branch -a'\n",
    "ejecutar_comando_git(comando)"
   ]
  },
  {
   "cell_type": "markdown",
   "id": "3f4b9314-b71f-4f83-b10f-2a2e8b201580",
   "metadata": {},
   "source": [
    "# <center> REGRESAR A UNA VERSION ANTERIOR DE UN REPOSITORIO GIT</center>"
   ]
  },
  {
   "cell_type": "markdown",
   "id": "259eea42-f14d-446b-b01d-ad0aeffcb3d7",
   "metadata": {},
   "source": [
    "### DETACHED - MOVERSE A UN COMMIT ESPECIFICO Y PONER ESTE COMMIT CON LA NUEVA HEAD"
   ]
  },
  {
   "cell_type": "code",
   "execution_count": 52,
   "id": "554290ba-8a54-44ad-9314-825f031a9396",
   "metadata": {
    "scrolled": true,
    "tags": []
   },
   "outputs": [
    {
     "name": "stdout",
     "output_type": "stream",
     "text": [
      "############################################# COMANDO A EJECUTAR #############################################\n",
      "git checkout multi_commits\n",
      "####################################### RESULTADO DE COMANDO EJECUTADO #######################################\n",
      "Your branch is up to date with 'origin/multi_commits'.\n",
      "##############################################################################################################\n",
      "\n",
      "############################################# COMANDO A EJECUTAR #############################################\n",
      "git checkout d15fad27cb8d1bcb6a0e697ef02e2d787dc51b48\n",
      "####################################### RESULTADO DE COMANDO EJECUTADO #######################################\n",
      "##############################################################################################################\n",
      "\n",
      "############################################# COMANDO A EJECUTAR #############################################\n",
      "git log --oneline\n",
      "####################################### RESULTADO DE COMANDO EJECUTADO #######################################\n",
      "d15fad2 Initial commit\n",
      "##############################################################################################################\n",
      "\n",
      "############################################# COMANDO A EJECUTAR #############################################\n",
      "git branch\n",
      "####################################### RESULTADO DE COMANDO EJECUTADO #######################################\n",
      "* (HEAD detached at d15fad2)\n",
      "  main\n",
      "  multi_commits\n",
      "##############################################################################################################\n",
      "\n"
     ]
    }
   ],
   "source": [
    "comando = 'git checkout multi_commits'\n",
    "ejecutar_comando_git(comando)\n",
    "\n",
    "comando = 'git checkout d15fad27cb8d1bcb6a0e697ef02e2d787dc51b48'\n",
    "ejecutar_comando_git(comando)\n",
    "\n",
    "comando = 'git log --oneline'\n",
    "ejecutar_comando_git(comando)\n",
    "\n",
    "ejecutar_comando_shell()"
   ]
  },
  {
   "cell_type": "markdown",
   "id": "d5838e4b-70fd-4f79-aa4a-4317fb7379ce",
   "metadata": {},
   "source": [
    "### RETORNA AL HEAD ORIGINAL DE LA RAMA"
   ]
  },
  {
   "cell_type": "code",
   "execution_count": 53,
   "id": "697ab643-0f90-4ff3-94e6-f1abc58cd7de",
   "metadata": {
    "scrolled": true,
    "tags": []
   },
   "outputs": [
    {
     "name": "stdout",
     "output_type": "stream",
     "text": [
      "############################################# COMANDO A EJECUTAR #############################################\n",
      "git switch -\n",
      "####################################### RESULTADO DE COMANDO EJECUTADO #######################################\n",
      "Your branch is up to date with 'origin/multi_commits'.\n",
      "##############################################################################################################\n",
      "\n",
      "############################################# COMANDO A EJECUTAR #############################################\n",
      "git log --oneline\n",
      "####################################### RESULTADO DE COMANDO EJECUTADO #######################################\n",
      "67e732f adicionado archivo html\n",
      "1d9c154 adicionado archivo csv\n",
      "dcfb55b adicionado archivo excel\n",
      "52ff70b adicionado archivo pdf\n",
      "3b4edb5 adicionados archivo de configuracion y requerimientos\n",
      "d15fad2 Initial commit\n",
      "##############################################################################################################\n",
      "\n",
      "############################################# COMANDO A EJECUTAR #############################################\n",
      "git branch\n",
      "####################################### RESULTADO DE COMANDO EJECUTADO #######################################\n",
      "  main\n",
      "* multi_commits\n",
      "##############################################################################################################\n",
      "\n"
     ]
    }
   ],
   "source": [
    "comando = 'git switch -'\n",
    "ejecutar_comando_git(comando)\n",
    "\n",
    "comando = 'git log --oneline'\n",
    "ejecutar_comando_git(comando)\n",
    "\n",
    "ejecutar_comando_shell()"
   ]
  },
  {
   "cell_type": "markdown",
   "id": "ba29758c-fa6f-49cc-8fd6-c07523b4f339",
   "metadata": {},
   "source": [
    "# <center> RESET COMMITs DE UN REPOSITORIO</center>"
   ]
  },
  {
   "cell_type": "code",
   "execution_count": 54,
   "id": "fb700ec4-bd71-4094-b7e6-6161977c15ac",
   "metadata": {
    "scrolled": true,
    "tags": []
   },
   "outputs": [
    {
     "name": "stdout",
     "output_type": "stream",
     "text": [
      "############################################# COMANDO A EJECUTAR #############################################\n",
      "git restore .\n",
      "####################################### RESULTADO DE COMANDO EJECUTADO #######################################\n",
      "##############################################################################################################\n",
      "\n",
      "############################################# COMANDO A EJECUTAR #############################################\n",
      "git checkout main\n",
      "####################################### RESULTADO DE COMANDO EJECUTADO #######################################\n",
      "Your branch is up to date with 'origin/main'.\n",
      "##############################################################################################################\n",
      "\n",
      "############################################# COMANDO A EJECUTAR #############################################\n",
      "git branch -a\n",
      "####################################### RESULTADO DE COMANDO EJECUTADO #######################################\n",
      "* main\n",
      "  multi_commits\n",
      "  remotes/origin/HEAD -> origin/main\n",
      "  remotes/origin/main\n",
      "  remotes/origin/multi_commits\n",
      "  remotes/origin/tag_branch\n",
      "##############################################################################################################\n",
      "\n",
      "############################################# COMANDO A EJECUTAR #############################################\n",
      "git branch -a\n",
      "####################################### RESULTADO DE COMANDO EJECUTADO #######################################\n",
      "* main\n",
      "  multi_commits\n",
      "  remotes/origin/HEAD -> origin/main\n",
      "  remotes/origin/main\n",
      "  remotes/origin/multi_commits\n",
      "  remotes/origin/tag_branch\n",
      "##############################################################################################################\n",
      "\n",
      "############################################# COMANDO A EJECUTAR #############################################\n",
      "git checkout -b reset_branch\n",
      "####################################### RESULTADO DE COMANDO EJECUTADO #######################################\n",
      "##############################################################################################################\n",
      "\n",
      "############################################# COMANDO A EJECUTAR #############################################\n",
      "git branch\n",
      "####################################### RESULTADO DE COMANDO EJECUTADO #######################################\n",
      "  main\n",
      "  multi_commits\n",
      "* reset_branch\n",
      "##############################################################################################################\n",
      "\n",
      "lista_de_archivos = ['info.txt', 'Dockerfile', 'Manifest.yaml', 'imagen.png', 'main.py', 'connection.java', 'calculos.c', 'addon.php', 'utils.gif', 'query.sql', 'dataset.avro', 'link.vs']\n",
      "############################################# COMANDO A EJECUTAR #############################################\n",
      "echo 1679271289.410153 >> info.txt\n",
      "####################################### RESULTADO DE COMANDO EJECUTADO #######################################\n",
      "##############################################################################################################\n",
      "\n",
      "############################################# COMANDO A EJECUTAR #############################################\n",
      "echo 1679271289.551754 >> Dockerfile\n",
      "####################################### RESULTADO DE COMANDO EJECUTADO #######################################\n",
      "##############################################################################################################\n",
      "\n",
      "############################################# COMANDO A EJECUTAR #############################################\n",
      "echo 1679271289.716681 >> Manifest.yaml\n",
      "####################################### RESULTADO DE COMANDO EJECUTADO #######################################\n",
      "##############################################################################################################\n",
      "\n",
      "############################################# COMANDO A EJECUTAR #############################################\n",
      "echo 1679271289.852804 >> imagen.png\n",
      "####################################### RESULTADO DE COMANDO EJECUTADO #######################################\n",
      "##############################################################################################################\n",
      "\n",
      "############################################# COMANDO A EJECUTAR #############################################\n",
      "echo 1679271289.993748 >> main.py\n",
      "####################################### RESULTADO DE COMANDO EJECUTADO #######################################\n",
      "##############################################################################################################\n",
      "\n",
      "############################################# COMANDO A EJECUTAR #############################################\n",
      "echo 1679271290.127157 >> connection.java\n",
      "####################################### RESULTADO DE COMANDO EJECUTADO #######################################\n",
      "##############################################################################################################\n",
      "\n",
      "############################################# COMANDO A EJECUTAR #############################################\n",
      "echo 1679271290.276951 >> calculos.c\n",
      "####################################### RESULTADO DE COMANDO EJECUTADO #######################################\n",
      "##############################################################################################################\n",
      "\n",
      "############################################# COMANDO A EJECUTAR #############################################\n",
      "echo 1679271290.417854 >> addon.php\n",
      "####################################### RESULTADO DE COMANDO EJECUTADO #######################################\n",
      "##############################################################################################################\n",
      "\n",
      "############################################# COMANDO A EJECUTAR #############################################\n",
      "echo 1679271290.55823 >> utils.gif\n",
      "####################################### RESULTADO DE COMANDO EJECUTADO #######################################\n",
      "##############################################################################################################\n",
      "\n",
      "############################################# COMANDO A EJECUTAR #############################################\n",
      "echo 1679271290.701624 >> query.sql\n",
      "####################################### RESULTADO DE COMANDO EJECUTADO #######################################\n",
      "##############################################################################################################\n",
      "\n",
      "############################################# COMANDO A EJECUTAR #############################################\n",
      "echo 1679271290.857345 >> dataset.avro\n",
      "####################################### RESULTADO DE COMANDO EJECUTADO #######################################\n",
      "##############################################################################################################\n",
      "\n",
      "############################################# COMANDO A EJECUTAR #############################################\n",
      "echo 1679271291.002654 >> link.vs\n",
      "####################################### RESULTADO DE COMANDO EJECUTADO #######################################\n",
      "##############################################################################################################\n",
      "\n",
      "############################################# COMANDO A EJECUTAR #############################################\n",
      "git add info.txt\n",
      "####################################### RESULTADO DE COMANDO EJECUTADO #######################################\n",
      "##############################################################################################################\n",
      "\n",
      "############################################# COMANDO A EJECUTAR #############################################\n",
      "git commit -m \"ADICIONADO ARCHIVO info.txt 2023-03-19 19:14:49.299566\"\n",
      "####################################### RESULTADO DE COMANDO EJECUTADO #######################################\n",
      "[reset_branch cdddc2f] ADICIONADO ARCHIVO info.txt 2023-03-19 19:14:49.299566\n",
      " 1 file changed, 1 insertion(+)\n",
      " create mode 100644 info.txt\n",
      "##############################################################################################################\n",
      "\n",
      "############################################# COMANDO A EJECUTAR #############################################\n",
      "git add Dockerfile\n",
      "####################################### RESULTADO DE COMANDO EJECUTADO #######################################\n",
      "##############################################################################################################\n",
      "\n",
      "############################################# COMANDO A EJECUTAR #############################################\n",
      "git commit -m \"ADICIONADO ARCHIVO Dockerfile 2023-03-19 19:14:49.299566\"\n",
      "####################################### RESULTADO DE COMANDO EJECUTADO #######################################\n",
      "[reset_branch 5d71d3f] ADICIONADO ARCHIVO Dockerfile 2023-03-19 19:14:49.299566\n",
      " 1 file changed, 1 insertion(+)\n",
      " create mode 100644 Dockerfile\n",
      "##############################################################################################################\n",
      "\n",
      "############################################# COMANDO A EJECUTAR #############################################\n",
      "git add Manifest.yaml\n",
      "####################################### RESULTADO DE COMANDO EJECUTADO #######################################\n",
      "##############################################################################################################\n",
      "\n",
      "############################################# COMANDO A EJECUTAR #############################################\n",
      "git commit -m \"ADICIONADO ARCHIVO Manifest.yaml 2023-03-19 19:14:49.299566\"\n",
      "####################################### RESULTADO DE COMANDO EJECUTADO #######################################\n",
      "[reset_branch 607d6b3] ADICIONADO ARCHIVO Manifest.yaml 2023-03-19 19:14:49.299566\n",
      " 1 file changed, 1 insertion(+)\n",
      " create mode 100644 Manifest.yaml\n",
      "##############################################################################################################\n",
      "\n",
      "############################################# COMANDO A EJECUTAR #############################################\n",
      "git add imagen.png\n",
      "####################################### RESULTADO DE COMANDO EJECUTADO #######################################\n",
      "##############################################################################################################\n",
      "\n",
      "############################################# COMANDO A EJECUTAR #############################################\n",
      "git commit -m \"ADICIONADO ARCHIVO imagen.png 2023-03-19 19:14:49.299566\"\n",
      "####################################### RESULTADO DE COMANDO EJECUTADO #######################################\n",
      "[reset_branch 4b81085] ADICIONADO ARCHIVO imagen.png 2023-03-19 19:14:49.299566\n",
      " 1 file changed, 1 insertion(+)\n",
      " create mode 100644 imagen.png\n",
      "##############################################################################################################\n",
      "\n",
      "############################################# COMANDO A EJECUTAR #############################################\n",
      "git add main.py\n",
      "####################################### RESULTADO DE COMANDO EJECUTADO #######################################\n",
      "##############################################################################################################\n",
      "\n",
      "############################################# COMANDO A EJECUTAR #############################################\n",
      "git commit -m \"ADICIONADO ARCHIVO main.py 2023-03-19 19:14:49.299566\"\n",
      "####################################### RESULTADO DE COMANDO EJECUTADO #######################################\n",
      "[reset_branch 16a4230] ADICIONADO ARCHIVO main.py 2023-03-19 19:14:49.299566\n",
      " 1 file changed, 1 insertion(+)\n",
      " create mode 100644 main.py\n",
      "##############################################################################################################\n",
      "\n",
      "############################################# COMANDO A EJECUTAR #############################################\n",
      "git add connection.java\n",
      "####################################### RESULTADO DE COMANDO EJECUTADO #######################################\n",
      "##############################################################################################################\n",
      "\n",
      "############################################# COMANDO A EJECUTAR #############################################\n",
      "git commit -m \"ADICIONADO ARCHIVO connection.java 2023-03-19 19:14:49.299566\"\n",
      "####################################### RESULTADO DE COMANDO EJECUTADO #######################################\n",
      "[reset_branch 3834665] ADICIONADO ARCHIVO connection.java 2023-03-19 19:14:49.299566\n",
      " 1 file changed, 1 insertion(+)\n",
      " create mode 100644 connection.java\n",
      "##############################################################################################################\n",
      "\n",
      "############################################# COMANDO A EJECUTAR #############################################\n",
      "git add calculos.c\n",
      "####################################### RESULTADO DE COMANDO EJECUTADO #######################################\n",
      "##############################################################################################################\n",
      "\n",
      "############################################# COMANDO A EJECUTAR #############################################\n",
      "git commit -m \"ADICIONADO ARCHIVO calculos.c 2023-03-19 19:14:49.299566\"\n",
      "####################################### RESULTADO DE COMANDO EJECUTADO #######################################\n",
      "[reset_branch 88e3d2f] ADICIONADO ARCHIVO calculos.c 2023-03-19 19:14:49.299566\n",
      " 1 file changed, 1 insertion(+)\n",
      " create mode 100644 calculos.c\n",
      "##############################################################################################################\n",
      "\n",
      "############################################# COMANDO A EJECUTAR #############################################\n",
      "git add addon.php\n",
      "####################################### RESULTADO DE COMANDO EJECUTADO #######################################\n",
      "##############################################################################################################\n",
      "\n",
      "############################################# COMANDO A EJECUTAR #############################################\n",
      "git commit -m \"ADICIONADO ARCHIVO addon.php 2023-03-19 19:14:49.299566\"\n",
      "####################################### RESULTADO DE COMANDO EJECUTADO #######################################\n",
      "[reset_branch 95e9a49] ADICIONADO ARCHIVO addon.php 2023-03-19 19:14:49.299566\n",
      " 1 file changed, 1 insertion(+)\n",
      " create mode 100644 addon.php\n",
      "##############################################################################################################\n",
      "\n",
      "############################################# COMANDO A EJECUTAR #############################################\n",
      "git add utils.gif\n",
      "####################################### RESULTADO DE COMANDO EJECUTADO #######################################\n",
      "##############################################################################################################\n",
      "\n",
      "############################################# COMANDO A EJECUTAR #############################################\n",
      "git commit -m \"ADICIONADO ARCHIVO utils.gif 2023-03-19 19:14:49.299566\"\n",
      "####################################### RESULTADO DE COMANDO EJECUTADO #######################################\n",
      "[reset_branch 785c792] ADICIONADO ARCHIVO utils.gif 2023-03-19 19:14:49.299566\n",
      " 1 file changed, 1 insertion(+)\n",
      " create mode 100644 utils.gif\n",
      "##############################################################################################################\n",
      "\n",
      "############################################# COMANDO A EJECUTAR #############################################\n",
      "git add query.sql\n",
      "####################################### RESULTADO DE COMANDO EJECUTADO #######################################\n",
      "##############################################################################################################\n",
      "\n",
      "############################################# COMANDO A EJECUTAR #############################################\n",
      "git commit -m \"ADICIONADO ARCHIVO query.sql 2023-03-19 19:14:49.299566\"\n",
      "####################################### RESULTADO DE COMANDO EJECUTADO #######################################\n",
      "[reset_branch b8a868a] ADICIONADO ARCHIVO query.sql 2023-03-19 19:14:49.299566\n",
      " 1 file changed, 1 insertion(+)\n",
      " create mode 100644 query.sql\n",
      "##############################################################################################################\n",
      "\n",
      "############################################# COMANDO A EJECUTAR #############################################\n",
      "git add dataset.avro\n",
      "####################################### RESULTADO DE COMANDO EJECUTADO #######################################\n",
      "##############################################################################################################\n",
      "\n",
      "############################################# COMANDO A EJECUTAR #############################################\n",
      "git commit -m \"ADICIONADO ARCHIVO dataset.avro 2023-03-19 19:14:49.299566\"\n",
      "####################################### RESULTADO DE COMANDO EJECUTADO #######################################\n",
      "[reset_branch 7ccfdd1] ADICIONADO ARCHIVO dataset.avro 2023-03-19 19:14:49.299566\n",
      " 1 file changed, 1 insertion(+)\n",
      " create mode 100644 dataset.avro\n",
      "##############################################################################################################\n",
      "\n",
      "############################################# COMANDO A EJECUTAR #############################################\n",
      "git add link.vs\n",
      "####################################### RESULTADO DE COMANDO EJECUTADO #######################################\n",
      "##############################################################################################################\n",
      "\n",
      "############################################# COMANDO A EJECUTAR #############################################\n",
      "git commit -m \"ADICIONADO ARCHIVO link.vs 2023-03-19 19:14:49.299566\"\n",
      "####################################### RESULTADO DE COMANDO EJECUTADO #######################################\n",
      "[reset_branch 8d11bcd] ADICIONADO ARCHIVO link.vs 2023-03-19 19:14:49.299566\n",
      " 1 file changed, 1 insertion(+)\n",
      " create mode 100644 link.vs\n",
      "##############################################################################################################\n",
      "\n",
      "############################################# COMANDO A EJECUTAR #############################################\n",
      "git status\n",
      "####################################### RESULTADO DE COMANDO EJECUTADO #######################################\n",
      "On branch reset_branch\n",
      "nothing to commit, working tree clean\n",
      "##############################################################################################################\n",
      "\n",
      "############################################# COMANDO A EJECUTAR #############################################\n",
      "git log --graph --oneline\n",
      "####################################### RESULTADO DE COMANDO EJECUTADO #######################################\n",
      "* 8d11bcd ADICIONADO ARCHIVO link.vs 2023-03-19 19:14:49.299566\n",
      "* 7ccfdd1 ADICIONADO ARCHIVO dataset.avro 2023-03-19 19:14:49.299566\n",
      "* b8a868a ADICIONADO ARCHIVO query.sql 2023-03-19 19:14:49.299566\n",
      "* 785c792 ADICIONADO ARCHIVO utils.gif 2023-03-19 19:14:49.299566\n",
      "* 95e9a49 ADICIONADO ARCHIVO addon.php 2023-03-19 19:14:49.299566\n",
      "* 88e3d2f ADICIONADO ARCHIVO calculos.c 2023-03-19 19:14:49.299566\n",
      "* 3834665 ADICIONADO ARCHIVO connection.java 2023-03-19 19:14:49.299566\n",
      "* 16a4230 ADICIONADO ARCHIVO main.py 2023-03-19 19:14:49.299566\n",
      "* 4b81085 ADICIONADO ARCHIVO imagen.png 2023-03-19 19:14:49.299566\n",
      "* 607d6b3 ADICIONADO ARCHIVO Manifest.yaml 2023-03-19 19:14:49.299566\n",
      "* 5d71d3f ADICIONADO ARCHIVO Dockerfile 2023-03-19 19:14:49.299566\n",
      "* cdddc2f ADICIONADO ARCHIVO info.txt 2023-03-19 19:14:49.299566\n",
      "* 3b4edb5 adicionados archivo de configuracion y requerimientos\n",
      "* d15fad2 Initial commit\n",
      "##############################################################################################################\n",
      "\n",
      "############################################# COMANDO A EJECUTAR #############################################\n",
      "git push --set-upstream origin reset_branch\n",
      "####################################### RESULTADO DE COMANDO EJECUTADO #######################################\n",
      "Branch 'reset_branch' set up to track remote branch 'reset_branch' from 'origin'.\n",
      "##############################################################################################################\n",
      "\n",
      "############################################# COMANDO A EJECUTAR #############################################\n",
      "git branch\n",
      "####################################### RESULTADO DE COMANDO EJECUTADO #######################################\n",
      "  main\n",
      "  multi_commits\n",
      "* reset_branch\n",
      "##############################################################################################################\n",
      "\n"
     ]
    }
   ],
   "source": [
    "nombre_rama = 'reset_branch'\n",
    "generar_archivos_y_hacer_commit(nombre_rama=nombre_rama)"
   ]
  },
  {
   "cell_type": "markdown",
   "id": "0baa7ec9-a901-4715-a606-c6aff785f194",
   "metadata": {},
   "source": [
    "### RESET n COMMITs **HEAD~n** MANTENIENDO LOS CAMBIOS QUE SE HABIAN HECHO EN LOS ARCHIVOS LOCALES"
   ]
  },
  {
   "cell_type": "code",
   "execution_count": 55,
   "id": "2b158698-7edd-42db-b76c-197f546c16fd",
   "metadata": {
    "scrolled": true,
    "tags": []
   },
   "outputs": [
    {
     "name": "stdout",
     "output_type": "stream",
     "text": [
      "############################################# COMANDO A EJECUTAR #############################################\n",
      "git reset --soft HEAD~3\n",
      "####################################### RESULTADO DE COMANDO EJECUTADO #######################################\n",
      "##############################################################################################################\n",
      "\n",
      "############################################# COMANDO A EJECUTAR #############################################\n",
      "git log\n",
      "####################################### RESULTADO DE COMANDO EJECUTADO #######################################\n",
      "commit 785c7927503bd1944062e29f710387b3fbc31e92\n",
      "Author: PARADIGMA\\QiDimMak <jorgecardona@utp.edu.co>\n",
      "Date:   Sun Mar 19 19:14:52 2023 -0500\n",
      "\n",
      "    ADICIONADO ARCHIVO utils.gif 2023-03-19 19:14:49.299566\n",
      "\n",
      "commit 95e9a491e60f213fb4b691c2acf5c8da6728366d\n",
      "Author: PARADIGMA\\QiDimMak <jorgecardona@utp.edu.co>\n",
      "Date:   Sun Mar 19 19:14:52 2023 -0500\n",
      "\n",
      "    ADICIONADO ARCHIVO addon.php 2023-03-19 19:14:49.299566\n",
      "\n",
      "commit 88e3d2fc882459f7df322195a32e99a122a2c6a9\n",
      "Author: PARADIGMA\\QiDimMak <jorgecardona@utp.edu.co>\n",
      "Date:   Sun Mar 19 19:14:51 2023 -0500\n",
      "\n",
      "    ADICIONADO ARCHIVO calculos.c 2023-03-19 19:14:49.299566\n",
      "\n",
      "commit 38346650744b4b2e11b9bab9f10208e534c6902f\n",
      "Author: PARADIGMA\\QiDimMak <jorgecardona@utp.edu.co>\n",
      "Date:   Sun Mar 19 19:14:51 2023 -0500\n",
      "\n",
      "    ADICIONADO ARCHIVO connection.java 2023-03-19 19:14:49.299566\n",
      "\n",
      "commit 16a423095c086cbf22ef441d2da148041ba73d3e\n",
      "Author: PARADIGMA\\QiDimMak <jorgecardona@utp.edu.co>\n",
      "Date:   Sun Mar 19 19:14:51 2023 -0500\n",
      "\n",
      "    ADICIONADO ARCHIVO main.py 2023-03-19 19:14:49.299566\n",
      "\n",
      "commit 4b8108575d0ed3d4c7af6ef56b79305ef1f04c80\n",
      "Author: PARADIGMA\\QiDimMak <jorgecardona@utp.edu.co>\n",
      "Date:   Sun Mar 19 19:14:51 2023 -0500\n",
      "\n",
      "    ADICIONADO ARCHIVO imagen.png 2023-03-19 19:14:49.299566\n",
      "\n",
      "commit 607d6b30e60919218800f2ad1992aeade27c848d\n",
      "Author: PARADIGMA\\QiDimMak <jorgecardona@utp.edu.co>\n",
      "Date:   Sun Mar 19 19:14:51 2023 -0500\n",
      "\n",
      "    ADICIONADO ARCHIVO Manifest.yaml 2023-03-19 19:14:49.299566\n",
      "\n",
      "commit 5d71d3feb6b7a99b16167969cf6858fb67fe4264\n",
      "Author: PARADIGMA\\QiDimMak <jorgecardona@utp.edu.co>\n",
      "Date:   Sun Mar 19 19:14:51 2023 -0500\n",
      "\n",
      "    ADICIONADO ARCHIVO Dockerfile 2023-03-19 19:14:49.299566\n",
      "\n",
      "commit cdddc2f2ea1eab01b909dde075be7fe04265d152\n",
      "Author: PARADIGMA\\QiDimMak <jorgecardona@utp.edu.co>\n",
      "Date:   Sun Mar 19 19:14:51 2023 -0500\n",
      "\n",
      "    ADICIONADO ARCHIVO info.txt 2023-03-19 19:14:49.299566\n",
      "\n",
      "commit 3b4edb5a785dcc5841b35cd2ad93033cd29cb730\n",
      "Author: PARADIGMA\\QiDimMak <jorgecardona@utp.edu.co>\n",
      "Date:   Fri Mar 17 20:39:55 2023 -0500\n",
      "\n",
      "    adicionados archivo de configuracion y requerimientos\n",
      "\n",
      "commit d15fad27cb8d1bcb6a0e697ef02e2d787dc51b48\n",
      "Author: JorgeCardona <jorgecardona@utp.edu.co>\n",
      "Date:   Fri Mar 17 20:27:49 2023 -0500\n",
      "\n",
      "    Initial commit\n",
      "##############################################################################################################\n",
      "\n"
     ]
    }
   ],
   "source": [
    "# MANITIENE todos los archivos o cambios hechos despues de este commit Y PUEDEN SER GUARDADOS DE NUEVO\n",
    "comando = 'git reset --soft HEAD~3'\n",
    "ejecutar_comando_git(comando)\n",
    "\n",
    "comando = 'git log'\n",
    "ejecutar_comando_git(comando)"
   ]
  },
  {
   "cell_type": "markdown",
   "id": "f165436b-e609-45ad-9715-339e1d78935a",
   "metadata": {},
   "source": [
    "### RESET n COMMITs **HEAD~n** ELIMINANDO LOS ARCHIVOS Y CAMBIOS QUE SE HABIAN HECHO HASTA ESTE COMMIT"
   ]
  },
  {
   "cell_type": "code",
   "execution_count": 56,
   "id": "5aae132c-6054-46e4-900c-db9a494dffd5",
   "metadata": {
    "scrolled": true,
    "tags": []
   },
   "outputs": [
    {
     "name": "stdout",
     "output_type": "stream",
     "text": [
      "############################################# COMANDO A EJECUTAR #############################################\n",
      "git reset --hard HEAD~7\n",
      "####################################### RESULTADO DE COMANDO EJECUTADO #######################################\n",
      "HEAD is now at 5d71d3f ADICIONADO ARCHIVO Dockerfile 2023-03-19 19:14:49.299566\n",
      "##############################################################################################################\n",
      "\n",
      "############################################# COMANDO A EJECUTAR #############################################\n",
      "git log\n",
      "####################################### RESULTADO DE COMANDO EJECUTADO #######################################\n",
      "commit 5d71d3feb6b7a99b16167969cf6858fb67fe4264\n",
      "Author: PARADIGMA\\QiDimMak <jorgecardona@utp.edu.co>\n",
      "Date:   Sun Mar 19 19:14:51 2023 -0500\n",
      "\n",
      "    ADICIONADO ARCHIVO Dockerfile 2023-03-19 19:14:49.299566\n",
      "\n",
      "commit cdddc2f2ea1eab01b909dde075be7fe04265d152\n",
      "Author: PARADIGMA\\QiDimMak <jorgecardona@utp.edu.co>\n",
      "Date:   Sun Mar 19 19:14:51 2023 -0500\n",
      "\n",
      "    ADICIONADO ARCHIVO info.txt 2023-03-19 19:14:49.299566\n",
      "\n",
      "commit 3b4edb5a785dcc5841b35cd2ad93033cd29cb730\n",
      "Author: PARADIGMA\\QiDimMak <jorgecardona@utp.edu.co>\n",
      "Date:   Fri Mar 17 20:39:55 2023 -0500\n",
      "\n",
      "    adicionados archivo de configuracion y requerimientos\n",
      "\n",
      "commit d15fad27cb8d1bcb6a0e697ef02e2d787dc51b48\n",
      "Author: JorgeCardona <jorgecardona@utp.edu.co>\n",
      "Date:   Fri Mar 17 20:27:49 2023 -0500\n",
      "\n",
      "    Initial commit\n",
      "##############################################################################################################\n",
      "\n"
     ]
    }
   ],
   "source": [
    "# elimina todos los archivos o cambios hechos despues de este commit YA NO SE PUEDEN RECUPERAR ESOS ARCHIVOS\n",
    "comando = 'git reset --hard HEAD~7'\n",
    "ejecutar_comando_git(comando)\n",
    "\n",
    "comando = 'git log'\n",
    "ejecutar_comando_git(comando)"
   ]
  },
  {
   "cell_type": "markdown",
   "id": "e1fae349-008e-429c-bc31-0812d917bc1d",
   "metadata": {},
   "source": [
    "### RESET COMMITs ELIMINANDO LOS ARCHIVOS Y CAMBIOS HASTA UN COMMIT ESPECIFICO USANDO EL ID DEL COMMIT"
   ]
  },
  {
   "cell_type": "code",
   "execution_count": 57,
   "id": "840915cb-d988-4531-b718-c9db65e2c18e",
   "metadata": {
    "tags": []
   },
   "outputs": [
    {
     "name": "stdout",
     "output_type": "stream",
     "text": [
      "############################################# COMANDO A EJECUTAR #############################################\n",
      "git reset --hard 3b4edb5a785dcc5841b35cd2ad93033cd29cb730\n",
      "####################################### RESULTADO DE COMANDO EJECUTADO #######################################\n",
      "HEAD is now at 3b4edb5 adicionados archivo de configuracion y requerimientos\n",
      "##############################################################################################################\n",
      "\n"
     ]
    }
   ],
   "source": [
    "comando = 'git reset --hard 3b4edb5a785dcc5841b35cd2ad93033cd29cb730'\n",
    "ejecutar_comando_git(comando)"
   ]
  },
  {
   "cell_type": "markdown",
   "id": "b3dd8cdf-657f-49c9-887b-6d0ddb2f06db",
   "metadata": {},
   "source": [
    "## RESET HASTA UN COMMIT ESPECIFICO EN UN REPOSITORIO REMOTO <br>https://github.com/JorgeCardona/comandos_git</br>"
   ]
  },
  {
   "cell_type": "code",
   "execution_count": 58,
   "id": "58e70ab3-644f-4a9c-8a4d-24094690d843",
   "metadata": {
    "tags": []
   },
   "outputs": [
    {
     "name": "stdout",
     "output_type": "stream",
     "text": [
      "############################################# COMANDO A EJECUTAR #############################################\n",
      "git reset --hard d15fad27cb8d1bcb6a0e697ef02e2d787dc51b48\n",
      "####################################### RESULTADO DE COMANDO EJECUTADO #######################################\n",
      "HEAD is now at d15fad2 Initial commit\n",
      "##############################################################################################################\n",
      "\n"
     ]
    }
   ],
   "source": [
    "comando = 'git reset --hard d15fad27cb8d1bcb6a0e697ef02e2d787dc51b48'\n",
    "ejecutar_comando_git(comando)"
   ]
  },
  {
   "cell_type": "markdown",
   "id": "ecfff94e-20ee-46bb-8a1d-97bd8e5f76ad",
   "metadata": {},
   "source": [
    "#### CONFIRMAR LOS CAMBIOS DEL RESET EN EL REPOSITORIO DE ORIGEN O REMOTO"
   ]
  },
  {
   "cell_type": "code",
   "execution_count": 59,
   "id": "85a7f262-e036-4ea1-ba5b-7daf6de7c221",
   "metadata": {
    "scrolled": true,
    "tags": []
   },
   "outputs": [
    {
     "name": "stdout",
     "output_type": "stream",
     "text": [
      "############################################# COMANDO A EJECUTAR #############################################\n",
      "git push --force origin reset_branch\n",
      "####################################### RESULTADO DE COMANDO EJECUTADO #######################################\n",
      "##############################################################################################################\n",
      "\n"
     ]
    }
   ],
   "source": [
    "# confirmar los cambios al repositorio remoto el reset\n",
    "comando = 'git push --force origin {nombre_rama}'.format(nombre_rama=nombre_rama)\n",
    "ejecutar_comando_git(comando)"
   ]
  },
  {
   "cell_type": "markdown",
   "id": "6f134986-cf69-4c0c-adce-8d6f6de1a275",
   "metadata": {
    "tags": []
   },
   "source": [
    "#### ELIMINAR LA RAMA EN EL REPOSITORIO DE ORIGEN O REMOTO"
   ]
  },
  {
   "cell_type": "code",
   "execution_count": 60,
   "id": "6bc84035-b76b-40d1-b6f4-87175b5c0fee",
   "metadata": {
    "tags": []
   },
   "outputs": [
    {
     "name": "stdout",
     "output_type": "stream",
     "text": [
      "############################################# COMANDO A EJECUTAR #############################################\n",
      "git checkout main\n",
      "####################################### RESULTADO DE COMANDO EJECUTADO #######################################\n",
      "Your branch is up to date with 'origin/main'.\n",
      "##############################################################################################################\n",
      "\n",
      "############################################# COMANDO A EJECUTAR #############################################\n",
      "git push origin -d reset_branch\n",
      "####################################### RESULTADO DE COMANDO EJECUTADO #######################################\n",
      "##############################################################################################################\n",
      "\n",
      "############################################# COMANDO A EJECUTAR #############################################\n",
      "git branch -D reset_branch\n",
      "####################################### RESULTADO DE COMANDO EJECUTADO #######################################\n",
      "Deleted branch reset_branch (was d15fad2).\n",
      "##############################################################################################################\n",
      "\n",
      "############################################# COMANDO A EJECUTAR #############################################\n",
      "git branch -a\n",
      "####################################### RESULTADO DE COMANDO EJECUTADO #######################################\n",
      "* main\n",
      "  multi_commits\n",
      "  remotes/origin/HEAD -> origin/main\n",
      "  remotes/origin/main\n",
      "  remotes/origin/multi_commits\n",
      "  remotes/origin/tag_branch\n",
      "##############################################################################################################\n",
      "\n"
     ]
    }
   ],
   "source": [
    "comando = 'git checkout main'\n",
    "ejecutar_comando_git(comando)\n",
    "\n",
    "comando = 'git push origin -d {nombre_rama}'.format(nombre_rama=nombre_rama)\n",
    "ejecutar_comando_git(comando)\n",
    "\n",
    "comando = 'git branch -D {nombre_rama}'.format(nombre_rama=nombre_rama)\n",
    "ejecutar_comando_git(comando)\n",
    "\n",
    "comando = 'git branch -a'\n",
    "ejecutar_comando_git(comando)"
   ]
  },
  {
   "cell_type": "markdown",
   "id": "da360e27-ccbd-473b-b6b0-3904eaf90ceb",
   "metadata": {},
   "source": [
    "# <center> REVERTIR COMMITs DE UN REPOSITORIO</center>"
   ]
  },
  {
   "cell_type": "code",
   "execution_count": 61,
   "id": "9f51021e-0467-45cb-848b-d6349adc47ae",
   "metadata": {
    "scrolled": true,
    "tags": []
   },
   "outputs": [
    {
     "name": "stdout",
     "output_type": "stream",
     "text": [
      "############################################# COMANDO A EJECUTAR #############################################\n",
      "git restore .\n",
      "####################################### RESULTADO DE COMANDO EJECUTADO #######################################\n",
      "##############################################################################################################\n",
      "\n",
      "############################################# COMANDO A EJECUTAR #############################################\n",
      "git checkout main\n",
      "####################################### RESULTADO DE COMANDO EJECUTADO #######################################\n",
      "Your branch is up to date with 'origin/main'.\n",
      "##############################################################################################################\n",
      "\n",
      "############################################# COMANDO A EJECUTAR #############################################\n",
      "git branch -a\n",
      "####################################### RESULTADO DE COMANDO EJECUTADO #######################################\n",
      "* main\n",
      "  multi_commits\n",
      "  remotes/origin/HEAD -> origin/main\n",
      "  remotes/origin/main\n",
      "  remotes/origin/multi_commits\n",
      "  remotes/origin/tag_branch\n",
      "##############################################################################################################\n",
      "\n",
      "############################################# COMANDO A EJECUTAR #############################################\n",
      "git branch -a\n",
      "####################################### RESULTADO DE COMANDO EJECUTADO #######################################\n",
      "* main\n",
      "  multi_commits\n",
      "  remotes/origin/HEAD -> origin/main\n",
      "  remotes/origin/main\n",
      "  remotes/origin/multi_commits\n",
      "  remotes/origin/tag_branch\n",
      "##############################################################################################################\n",
      "\n",
      "############################################# COMANDO A EJECUTAR #############################################\n",
      "git checkout -b revert_branch\n",
      "####################################### RESULTADO DE COMANDO EJECUTADO #######################################\n",
      "##############################################################################################################\n",
      "\n",
      "############################################# COMANDO A EJECUTAR #############################################\n",
      "git branch\n",
      "####################################### RESULTADO DE COMANDO EJECUTADO #######################################\n",
      "  main\n",
      "  multi_commits\n",
      "* revert_branch\n",
      "##############################################################################################################\n",
      "\n",
      "lista_de_archivos = ['info.txt', 'Dockerfile', 'Manifest.yaml', 'imagen.png', 'main.py', 'connection.java', 'calculos.c', 'addon.php', 'utils.gif', 'query.sql', 'dataset.avro', 'link.vs']\n",
      "############################################# COMANDO A EJECUTAR #############################################\n",
      "echo 1679271330.855462 >> info.txt\n",
      "####################################### RESULTADO DE COMANDO EJECUTADO #######################################\n",
      "##############################################################################################################\n",
      "\n",
      "############################################# COMANDO A EJECUTAR #############################################\n",
      "echo 1679271331.00105 >> Dockerfile\n",
      "####################################### RESULTADO DE COMANDO EJECUTADO #######################################\n",
      "##############################################################################################################\n",
      "\n",
      "############################################# COMANDO A EJECUTAR #############################################\n",
      "echo 1679271331.131339 >> Manifest.yaml\n",
      "####################################### RESULTADO DE COMANDO EJECUTADO #######################################\n",
      "##############################################################################################################\n",
      "\n",
      "############################################# COMANDO A EJECUTAR #############################################\n",
      "echo 1679271331.264749 >> imagen.png\n",
      "####################################### RESULTADO DE COMANDO EJECUTADO #######################################\n",
      "##############################################################################################################\n",
      "\n",
      "############################################# COMANDO A EJECUTAR #############################################\n",
      "echo 1679271331.38824 >> main.py\n",
      "####################################### RESULTADO DE COMANDO EJECUTADO #######################################\n",
      "##############################################################################################################\n",
      "\n",
      "############################################# COMANDO A EJECUTAR #############################################\n",
      "echo 1679271331.530655 >> connection.java\n",
      "####################################### RESULTADO DE COMANDO EJECUTADO #######################################\n",
      "##############################################################################################################\n",
      "\n",
      "############################################# COMANDO A EJECUTAR #############################################\n",
      "echo 1679271331.70536 >> calculos.c\n",
      "####################################### RESULTADO DE COMANDO EJECUTADO #######################################\n",
      "##############################################################################################################\n",
      "\n",
      "############################################# COMANDO A EJECUTAR #############################################\n",
      "echo 1679271331.850999 >> addon.php\n",
      "####################################### RESULTADO DE COMANDO EJECUTADO #######################################\n",
      "##############################################################################################################\n",
      "\n",
      "############################################# COMANDO A EJECUTAR #############################################\n",
      "echo 1679271331.996085 >> utils.gif\n",
      "####################################### RESULTADO DE COMANDO EJECUTADO #######################################\n",
      "##############################################################################################################\n",
      "\n",
      "############################################# COMANDO A EJECUTAR #############################################\n",
      "echo 1679271332.11844 >> query.sql\n",
      "####################################### RESULTADO DE COMANDO EJECUTADO #######################################\n",
      "##############################################################################################################\n",
      "\n",
      "############################################# COMANDO A EJECUTAR #############################################\n",
      "echo 1679271332.257359 >> dataset.avro\n",
      "####################################### RESULTADO DE COMANDO EJECUTADO #######################################\n",
      "##############################################################################################################\n",
      "\n",
      "############################################# COMANDO A EJECUTAR #############################################\n",
      "echo 1679271332.366881 >> link.vs\n",
      "####################################### RESULTADO DE COMANDO EJECUTADO #######################################\n",
      "##############################################################################################################\n",
      "\n",
      "############################################# COMANDO A EJECUTAR #############################################\n",
      "git add info.txt\n",
      "####################################### RESULTADO DE COMANDO EJECUTADO #######################################\n",
      "##############################################################################################################\n",
      "\n",
      "############################################# COMANDO A EJECUTAR #############################################\n",
      "git commit -m \"ADICIONADO ARCHIVO info.txt 2023-03-19 19:15:30.747602\"\n",
      "####################################### RESULTADO DE COMANDO EJECUTADO #######################################\n",
      "[revert_branch d983fb8] ADICIONADO ARCHIVO info.txt 2023-03-19 19:15:30.747602\n",
      " 1 file changed, 1 insertion(+)\n",
      " create mode 100644 info.txt\n",
      "##############################################################################################################\n",
      "\n",
      "############################################# COMANDO A EJECUTAR #############################################\n",
      "git add Dockerfile\n",
      "####################################### RESULTADO DE COMANDO EJECUTADO #######################################\n",
      "##############################################################################################################\n",
      "\n",
      "############################################# COMANDO A EJECUTAR #############################################\n",
      "git commit -m \"ADICIONADO ARCHIVO Dockerfile 2023-03-19 19:15:30.747602\"\n",
      "####################################### RESULTADO DE COMANDO EJECUTADO #######################################\n",
      "[revert_branch 3e20bfd] ADICIONADO ARCHIVO Dockerfile 2023-03-19 19:15:30.747602\n",
      " 1 file changed, 1 insertion(+)\n",
      " create mode 100644 Dockerfile\n",
      "##############################################################################################################\n",
      "\n",
      "############################################# COMANDO A EJECUTAR #############################################\n",
      "git add Manifest.yaml\n",
      "####################################### RESULTADO DE COMANDO EJECUTADO #######################################\n",
      "##############################################################################################################\n",
      "\n",
      "############################################# COMANDO A EJECUTAR #############################################\n",
      "git commit -m \"ADICIONADO ARCHIVO Manifest.yaml 2023-03-19 19:15:30.747602\"\n",
      "####################################### RESULTADO DE COMANDO EJECUTADO #######################################\n",
      "[revert_branch 7e7f904] ADICIONADO ARCHIVO Manifest.yaml 2023-03-19 19:15:30.747602\n",
      " 1 file changed, 1 insertion(+)\n",
      " create mode 100644 Manifest.yaml\n",
      "##############################################################################################################\n",
      "\n",
      "############################################# COMANDO A EJECUTAR #############################################\n",
      "git add imagen.png\n",
      "####################################### RESULTADO DE COMANDO EJECUTADO #######################################\n",
      "##############################################################################################################\n",
      "\n",
      "############################################# COMANDO A EJECUTAR #############################################\n",
      "git commit -m \"ADICIONADO ARCHIVO imagen.png 2023-03-19 19:15:30.747602\"\n",
      "####################################### RESULTADO DE COMANDO EJECUTADO #######################################\n",
      "[revert_branch f60bcd8] ADICIONADO ARCHIVO imagen.png 2023-03-19 19:15:30.747602\n",
      " 1 file changed, 1 insertion(+)\n",
      " create mode 100644 imagen.png\n",
      "##############################################################################################################\n",
      "\n",
      "############################################# COMANDO A EJECUTAR #############################################\n",
      "git add main.py\n",
      "####################################### RESULTADO DE COMANDO EJECUTADO #######################################\n",
      "##############################################################################################################\n",
      "\n",
      "############################################# COMANDO A EJECUTAR #############################################\n",
      "git commit -m \"ADICIONADO ARCHIVO main.py 2023-03-19 19:15:30.747602\"\n",
      "####################################### RESULTADO DE COMANDO EJECUTADO #######################################\n",
      "[revert_branch 6021e92] ADICIONADO ARCHIVO main.py 2023-03-19 19:15:30.747602\n",
      " 1 file changed, 1 insertion(+)\n",
      " create mode 100644 main.py\n",
      "##############################################################################################################\n",
      "\n",
      "############################################# COMANDO A EJECUTAR #############################################\n",
      "git add connection.java\n",
      "####################################### RESULTADO DE COMANDO EJECUTADO #######################################\n",
      "##############################################################################################################\n",
      "\n",
      "############################################# COMANDO A EJECUTAR #############################################\n",
      "git commit -m \"ADICIONADO ARCHIVO connection.java 2023-03-19 19:15:30.747602\"\n",
      "####################################### RESULTADO DE COMANDO EJECUTADO #######################################\n",
      "[revert_branch 482c078] ADICIONADO ARCHIVO connection.java 2023-03-19 19:15:30.747602\n",
      " 1 file changed, 1 insertion(+)\n",
      " create mode 100644 connection.java\n",
      "##############################################################################################################\n",
      "\n",
      "############################################# COMANDO A EJECUTAR #############################################\n",
      "git add calculos.c\n",
      "####################################### RESULTADO DE COMANDO EJECUTADO #######################################\n",
      "##############################################################################################################\n",
      "\n",
      "############################################# COMANDO A EJECUTAR #############################################\n",
      "git commit -m \"ADICIONADO ARCHIVO calculos.c 2023-03-19 19:15:30.747602\"\n",
      "####################################### RESULTADO DE COMANDO EJECUTADO #######################################\n",
      "[revert_branch 3ed3035] ADICIONADO ARCHIVO calculos.c 2023-03-19 19:15:30.747602\n",
      " 1 file changed, 1 insertion(+)\n",
      " create mode 100644 calculos.c\n",
      "##############################################################################################################\n",
      "\n",
      "############################################# COMANDO A EJECUTAR #############################################\n",
      "git add addon.php\n",
      "####################################### RESULTADO DE COMANDO EJECUTADO #######################################\n",
      "##############################################################################################################\n",
      "\n",
      "############################################# COMANDO A EJECUTAR #############################################\n",
      "git commit -m \"ADICIONADO ARCHIVO addon.php 2023-03-19 19:15:30.747602\"\n",
      "####################################### RESULTADO DE COMANDO EJECUTADO #######################################\n",
      "[revert_branch f9b1555] ADICIONADO ARCHIVO addon.php 2023-03-19 19:15:30.747602\n",
      " 1 file changed, 1 insertion(+)\n",
      " create mode 100644 addon.php\n",
      "##############################################################################################################\n",
      "\n",
      "############################################# COMANDO A EJECUTAR #############################################\n",
      "git add utils.gif\n",
      "####################################### RESULTADO DE COMANDO EJECUTADO #######################################\n",
      "##############################################################################################################\n",
      "\n",
      "############################################# COMANDO A EJECUTAR #############################################\n",
      "git commit -m \"ADICIONADO ARCHIVO utils.gif 2023-03-19 19:15:30.747602\"\n",
      "####################################### RESULTADO DE COMANDO EJECUTADO #######################################\n",
      "[revert_branch aa9463b] ADICIONADO ARCHIVO utils.gif 2023-03-19 19:15:30.747602\n",
      " 1 file changed, 1 insertion(+)\n",
      " create mode 100644 utils.gif\n",
      "##############################################################################################################\n",
      "\n",
      "############################################# COMANDO A EJECUTAR #############################################\n",
      "git add query.sql\n",
      "####################################### RESULTADO DE COMANDO EJECUTADO #######################################\n",
      "##############################################################################################################\n",
      "\n",
      "############################################# COMANDO A EJECUTAR #############################################\n",
      "git commit -m \"ADICIONADO ARCHIVO query.sql 2023-03-19 19:15:30.747602\"\n",
      "####################################### RESULTADO DE COMANDO EJECUTADO #######################################\n",
      "[revert_branch 5e78881] ADICIONADO ARCHIVO query.sql 2023-03-19 19:15:30.747602\n",
      " 1 file changed, 1 insertion(+)\n",
      " create mode 100644 query.sql\n",
      "##############################################################################################################\n",
      "\n",
      "############################################# COMANDO A EJECUTAR #############################################\n",
      "git add dataset.avro\n",
      "####################################### RESULTADO DE COMANDO EJECUTADO #######################################\n",
      "##############################################################################################################\n",
      "\n",
      "############################################# COMANDO A EJECUTAR #############################################\n",
      "git commit -m \"ADICIONADO ARCHIVO dataset.avro 2023-03-19 19:15:30.747602\"\n",
      "####################################### RESULTADO DE COMANDO EJECUTADO #######################################\n",
      "[revert_branch 7d396b4] ADICIONADO ARCHIVO dataset.avro 2023-03-19 19:15:30.747602\n",
      " 1 file changed, 1 insertion(+)\n",
      " create mode 100644 dataset.avro\n",
      "##############################################################################################################\n",
      "\n",
      "############################################# COMANDO A EJECUTAR #############################################\n",
      "git add link.vs\n",
      "####################################### RESULTADO DE COMANDO EJECUTADO #######################################\n",
      "##############################################################################################################\n",
      "\n",
      "############################################# COMANDO A EJECUTAR #############################################\n",
      "git commit -m \"ADICIONADO ARCHIVO link.vs 2023-03-19 19:15:30.747602\"\n",
      "####################################### RESULTADO DE COMANDO EJECUTADO #######################################\n",
      "[revert_branch 67d3aea] ADICIONADO ARCHIVO link.vs 2023-03-19 19:15:30.747602\n",
      " 1 file changed, 1 insertion(+)\n",
      " create mode 100644 link.vs\n",
      "##############################################################################################################\n",
      "\n",
      "############################################# COMANDO A EJECUTAR #############################################\n",
      "git status\n",
      "####################################### RESULTADO DE COMANDO EJECUTADO #######################################\n",
      "On branch revert_branch\n",
      "nothing to commit, working tree clean\n",
      "##############################################################################################################\n",
      "\n",
      "############################################# COMANDO A EJECUTAR #############################################\n",
      "git log --graph --oneline\n",
      "####################################### RESULTADO DE COMANDO EJECUTADO #######################################\n",
      "* 67d3aea ADICIONADO ARCHIVO link.vs 2023-03-19 19:15:30.747602\n",
      "* 7d396b4 ADICIONADO ARCHIVO dataset.avro 2023-03-19 19:15:30.747602\n",
      "* 5e78881 ADICIONADO ARCHIVO query.sql 2023-03-19 19:15:30.747602\n",
      "* aa9463b ADICIONADO ARCHIVO utils.gif 2023-03-19 19:15:30.747602\n",
      "* f9b1555 ADICIONADO ARCHIVO addon.php 2023-03-19 19:15:30.747602\n",
      "* 3ed3035 ADICIONADO ARCHIVO calculos.c 2023-03-19 19:15:30.747602\n",
      "* 482c078 ADICIONADO ARCHIVO connection.java 2023-03-19 19:15:30.747602\n",
      "* 6021e92 ADICIONADO ARCHIVO main.py 2023-03-19 19:15:30.747602\n",
      "* f60bcd8 ADICIONADO ARCHIVO imagen.png 2023-03-19 19:15:30.747602\n",
      "* 7e7f904 ADICIONADO ARCHIVO Manifest.yaml 2023-03-19 19:15:30.747602\n",
      "* 3e20bfd ADICIONADO ARCHIVO Dockerfile 2023-03-19 19:15:30.747602\n",
      "* d983fb8 ADICIONADO ARCHIVO info.txt 2023-03-19 19:15:30.747602\n",
      "* 3b4edb5 adicionados archivo de configuracion y requerimientos\n",
      "* d15fad2 Initial commit\n",
      "##############################################################################################################\n",
      "\n",
      "############################################# COMANDO A EJECUTAR #############################################\n",
      "git push --set-upstream origin revert_branch\n",
      "####################################### RESULTADO DE COMANDO EJECUTADO #######################################\n",
      "Branch 'revert_branch' set up to track remote branch 'revert_branch' from 'origin'.\n",
      "##############################################################################################################\n",
      "\n",
      "############################################# COMANDO A EJECUTAR #############################################\n",
      "git branch\n",
      "####################################### RESULTADO DE COMANDO EJECUTADO #######################################\n",
      "  main\n",
      "  multi_commits\n",
      "* revert_branch\n",
      "##############################################################################################################\n",
      "\n"
     ]
    }
   ],
   "source": [
    "nombre_rama = 'revert_branch'\n",
    "generar_archivos_y_hacer_commit(nombre_rama=nombre_rama)"
   ]
  },
  {
   "cell_type": "markdown",
   "id": "14dcee2e-b81b-46b1-be2d-11141fddccb3",
   "metadata": {},
   "source": [
    "## REVERT HASTA UN COMMIT ESPECIFICO O UN HEAD~ EN UN REPOSITORIO REMOTO <br>https://github.com/JorgeCardona/comandos_git</br>"
   ]
  },
  {
   "cell_type": "code",
   "execution_count": 62,
   "id": "023475c8-814d-4f36-b64c-a64beca95906",
   "metadata": {
    "scrolled": true,
    "tags": []
   },
   "outputs": [
    {
     "name": "stdout",
     "output_type": "stream",
     "text": [
      "############################################# COMANDO A EJECUTAR #############################################\n",
      "git revert HEAD~12\n",
      "####################################### RESULTADO DE COMANDO EJECUTADO #######################################\n",
      "Removing requirements.txt\n",
      "Removing config.json\n",
      "[revert_branch 3de0c95] Revert \"adicionados archivo de configuracion y requerimientos\"\n",
      " Date: Sun Mar 19 19:15:37 2023 -0500\n",
      " 2 files changed, 0 insertions(+), 0 deletions(-)\n",
      " delete mode 100644 config.json\n",
      " delete mode 100644 requirements.txt\n",
      "##############################################################################################################\n",
      "\n",
      "############################################# COMANDO A EJECUTAR #############################################\n",
      "git log --oneline\n",
      "####################################### RESULTADO DE COMANDO EJECUTADO #######################################\n",
      "3de0c95 Revert \"adicionados archivo de configuracion y requerimientos\"\n",
      "67d3aea ADICIONADO ARCHIVO link.vs 2023-03-19 19:15:30.747602\n",
      "7d396b4 ADICIONADO ARCHIVO dataset.avro 2023-03-19 19:15:30.747602\n",
      "5e78881 ADICIONADO ARCHIVO query.sql 2023-03-19 19:15:30.747602\n",
      "aa9463b ADICIONADO ARCHIVO utils.gif 2023-03-19 19:15:30.747602\n",
      "f9b1555 ADICIONADO ARCHIVO addon.php 2023-03-19 19:15:30.747602\n",
      "3ed3035 ADICIONADO ARCHIVO calculos.c 2023-03-19 19:15:30.747602\n",
      "482c078 ADICIONADO ARCHIVO connection.java 2023-03-19 19:15:30.747602\n",
      "6021e92 ADICIONADO ARCHIVO main.py 2023-03-19 19:15:30.747602\n",
      "f60bcd8 ADICIONADO ARCHIVO imagen.png 2023-03-19 19:15:30.747602\n",
      "7e7f904 ADICIONADO ARCHIVO Manifest.yaml 2023-03-19 19:15:30.747602\n",
      "3e20bfd ADICIONADO ARCHIVO Dockerfile 2023-03-19 19:15:30.747602\n",
      "d983fb8 ADICIONADO ARCHIVO info.txt 2023-03-19 19:15:30.747602\n",
      "3b4edb5 adicionados archivo de configuracion y requerimientos\n",
      "d15fad2 Initial commit\n",
      "##############################################################################################################\n",
      "\n"
     ]
    }
   ],
   "source": [
    "# elimina todos los archivos o cambios hechos despues de este commit YA NO SE PUEDEN RECUPERAR ESOS ARCHIVOS\n",
    "comando = 'git revert HEAD~12'\n",
    "ejecutar_comando_git(comando)\n",
    "\n",
    "comando = 'git log --oneline'\n",
    "ejecutar_comando_git(comando)"
   ]
  },
  {
   "cell_type": "markdown",
   "id": "baf2e62d-6d6c-4db1-9e55-ed83ca32cc74",
   "metadata": {},
   "source": [
    "#### CONFIRMAR LOS CAMBIOS DEL REVERT EN EL REPOSITORIO REMOTO"
   ]
  },
  {
   "cell_type": "code",
   "execution_count": 63,
   "id": "3d734989-5626-45c6-9628-b07f688f8a28",
   "metadata": {
    "tags": []
   },
   "outputs": [
    {
     "name": "stdout",
     "output_type": "stream",
     "text": [
      "############################################# COMANDO A EJECUTAR #############################################\n",
      "git push --force origin revert_branch\n",
      "####################################### RESULTADO DE COMANDO EJECUTADO #######################################\n",
      "##############################################################################################################\n",
      "\n"
     ]
    }
   ],
   "source": [
    "# confirmar al repositorio remoto el reset\n",
    "comando = 'git push --force origin {nombre_rama}'.format(nombre_rama=nombre_rama)\n",
    "ejecutar_comando_git(comando)"
   ]
  },
  {
   "cell_type": "markdown",
   "id": "9deccc0f-c689-4cd8-8b90-3b5d23be0495",
   "metadata": {
    "tags": []
   },
   "source": [
    "#### ELIMINAR LA RAMA EN EL REPOSITORIO DE ORIGEN O REMOTO"
   ]
  },
  {
   "cell_type": "code",
   "execution_count": 64,
   "id": "28d44037-179f-4cd0-9db2-74378ba43261",
   "metadata": {
    "tags": []
   },
   "outputs": [
    {
     "name": "stdout",
     "output_type": "stream",
     "text": [
      "############################################# COMANDO A EJECUTAR #############################################\n",
      "git checkout main\n",
      "####################################### RESULTADO DE COMANDO EJECUTADO #######################################\n",
      "Your branch is up to date with 'origin/main'.\n",
      "##############################################################################################################\n",
      "\n",
      "############################################# COMANDO A EJECUTAR #############################################\n",
      "git push origin -d revert_branch\n",
      "####################################### RESULTADO DE COMANDO EJECUTADO #######################################\n",
      "##############################################################################################################\n",
      "\n",
      "############################################# COMANDO A EJECUTAR #############################################\n",
      "git branch -D revert_branch\n",
      "####################################### RESULTADO DE COMANDO EJECUTADO #######################################\n",
      "Deleted branch revert_branch (was 3de0c95).\n",
      "##############################################################################################################\n",
      "\n",
      "############################################# COMANDO A EJECUTAR #############################################\n",
      "git branch -a\n",
      "####################################### RESULTADO DE COMANDO EJECUTADO #######################################\n",
      "* main\n",
      "  multi_commits\n",
      "  remotes/origin/HEAD -> origin/main\n",
      "  remotes/origin/main\n",
      "  remotes/origin/multi_commits\n",
      "  remotes/origin/tag_branch\n",
      "##############################################################################################################\n",
      "\n"
     ]
    }
   ],
   "source": [
    "comando = 'git checkout main'\n",
    "ejecutar_comando_git(comando)\n",
    "\n",
    "comando = 'git push origin -d {nombre_rama}'.format(nombre_rama=nombre_rama)\n",
    "ejecutar_comando_git(comando)\n",
    "\n",
    "comando = 'git branch -D {nombre_rama}'.format(nombre_rama=nombre_rama)\n",
    "ejecutar_comando_git(comando)\n",
    "\n",
    "comando = 'git branch -a'\n",
    "ejecutar_comando_git(comando)"
   ]
  },
  {
   "cell_type": "markdown",
   "id": "9b027290-7227-420b-83d9-df5d70ec5f30",
   "metadata": {
    "tags": []
   },
   "source": [
    "# <center> REBASE *JUNTAR VARIOS COMMITS EN UNO SOLO <br>REESCRIBIENDO EL HISTORIAL* COMMITs DE UN REPOSITORIO</br> <br>https://github.com/JorgeCardona/comandos_git</br></center>"
   ]
  },
  {
   "cell_type": "code",
   "execution_count": 65,
   "id": "cc27876f-4967-4f76-b861-405e533c651a",
   "metadata": {
    "scrolled": true,
    "tags": []
   },
   "outputs": [
    {
     "name": "stdout",
     "output_type": "stream",
     "text": [
      "############################################# COMANDO A EJECUTAR #############################################\n",
      "git restore .\n",
      "####################################### RESULTADO DE COMANDO EJECUTADO #######################################\n",
      "##############################################################################################################\n",
      "\n",
      "############################################# COMANDO A EJECUTAR #############################################\n",
      "git checkout main\n",
      "####################################### RESULTADO DE COMANDO EJECUTADO #######################################\n",
      "Your branch is up to date with 'origin/main'.\n",
      "##############################################################################################################\n",
      "\n",
      "############################################# COMANDO A EJECUTAR #############################################\n",
      "git branch -a\n",
      "####################################### RESULTADO DE COMANDO EJECUTADO #######################################\n",
      "* main\n",
      "  multi_commits\n",
      "  remotes/origin/HEAD -> origin/main\n",
      "  remotes/origin/main\n",
      "  remotes/origin/multi_commits\n",
      "  remotes/origin/tag_branch\n",
      "##############################################################################################################\n",
      "\n",
      "############################################# COMANDO A EJECUTAR #############################################\n",
      "git branch -a\n",
      "####################################### RESULTADO DE COMANDO EJECUTADO #######################################\n",
      "* main\n",
      "  multi_commits\n",
      "  remotes/origin/HEAD -> origin/main\n",
      "  remotes/origin/main\n",
      "  remotes/origin/multi_commits\n",
      "  remotes/origin/tag_branch\n",
      "##############################################################################################################\n",
      "\n",
      "############################################# COMANDO A EJECUTAR #############################################\n",
      "git checkout -b rebase_branch\n",
      "####################################### RESULTADO DE COMANDO EJECUTADO #######################################\n",
      "##############################################################################################################\n",
      "\n",
      "############################################# COMANDO A EJECUTAR #############################################\n",
      "git branch\n",
      "####################################### RESULTADO DE COMANDO EJECUTADO #######################################\n",
      "  main\n",
      "  multi_commits\n",
      "* rebase_branch\n",
      "##############################################################################################################\n",
      "\n",
      "lista_de_archivos = ['info.txt', 'Dockerfile', 'Manifest.yaml', 'imagen.png', 'main.py', 'connection.java', 'calculos.c', 'addon.php', 'utils.gif', 'query.sql', 'dataset.avro', 'link.vs']\n",
      "############################################# COMANDO A EJECUTAR #############################################\n",
      "echo 1679271343.587403 >> info.txt\n",
      "####################################### RESULTADO DE COMANDO EJECUTADO #######################################\n",
      "##############################################################################################################\n",
      "\n",
      "############################################# COMANDO A EJECUTAR #############################################\n",
      "echo 1679271343.730312 >> Dockerfile\n",
      "####################################### RESULTADO DE COMANDO EJECUTADO #######################################\n",
      "##############################################################################################################\n",
      "\n",
      "############################################# COMANDO A EJECUTAR #############################################\n",
      "echo 1679271343.84486 >> Manifest.yaml\n",
      "####################################### RESULTADO DE COMANDO EJECUTADO #######################################\n",
      "##############################################################################################################\n",
      "\n",
      "############################################# COMANDO A EJECUTAR #############################################\n",
      "echo 1679271343.961261 >> imagen.png\n",
      "####################################### RESULTADO DE COMANDO EJECUTADO #######################################\n",
      "##############################################################################################################\n",
      "\n",
      "############################################# COMANDO A EJECUTAR #############################################\n",
      "echo 1679271344.129154 >> main.py\n",
      "####################################### RESULTADO DE COMANDO EJECUTADO #######################################\n",
      "##############################################################################################################\n",
      "\n",
      "############################################# COMANDO A EJECUTAR #############################################\n",
      "echo 1679271344.240504 >> connection.java\n",
      "####################################### RESULTADO DE COMANDO EJECUTADO #######################################\n",
      "##############################################################################################################\n",
      "\n",
      "############################################# COMANDO A EJECUTAR #############################################\n",
      "echo 1679271344.368861 >> calculos.c\n",
      "####################################### RESULTADO DE COMANDO EJECUTADO #######################################\n",
      "##############################################################################################################\n",
      "\n",
      "############################################# COMANDO A EJECUTAR #############################################\n",
      "echo 1679271344.528526 >> addon.php\n",
      "####################################### RESULTADO DE COMANDO EJECUTADO #######################################\n",
      "##############################################################################################################\n",
      "\n",
      "############################################# COMANDO A EJECUTAR #############################################\n",
      "echo 1679271344.653801 >> utils.gif\n",
      "####################################### RESULTADO DE COMANDO EJECUTADO #######################################\n",
      "##############################################################################################################\n",
      "\n",
      "############################################# COMANDO A EJECUTAR #############################################\n",
      "echo 1679271344.789831 >> query.sql\n",
      "####################################### RESULTADO DE COMANDO EJECUTADO #######################################\n",
      "##############################################################################################################\n",
      "\n",
      "############################################# COMANDO A EJECUTAR #############################################\n",
      "echo 1679271344.938229 >> dataset.avro\n",
      "####################################### RESULTADO DE COMANDO EJECUTADO #######################################\n",
      "##############################################################################################################\n",
      "\n",
      "############################################# COMANDO A EJECUTAR #############################################\n",
      "echo 1679271345.093956 >> link.vs\n",
      "####################################### RESULTADO DE COMANDO EJECUTADO #######################################\n",
      "##############################################################################################################\n",
      "\n",
      "############################################# COMANDO A EJECUTAR #############################################\n",
      "git add info.txt\n",
      "####################################### RESULTADO DE COMANDO EJECUTADO #######################################\n",
      "##############################################################################################################\n",
      "\n",
      "############################################# COMANDO A EJECUTAR #############################################\n",
      "git commit -m \"ADICIONADO ARCHIVO info.txt 2023-03-19 19:15:43.479269\"\n",
      "####################################### RESULTADO DE COMANDO EJECUTADO #######################################\n",
      "[rebase_branch 5ee6f54] ADICIONADO ARCHIVO info.txt 2023-03-19 19:15:43.479269\n",
      " 1 file changed, 1 insertion(+)\n",
      " create mode 100644 info.txt\n",
      "##############################################################################################################\n",
      "\n",
      "############################################# COMANDO A EJECUTAR #############################################\n",
      "git add Dockerfile\n",
      "####################################### RESULTADO DE COMANDO EJECUTADO #######################################\n",
      "##############################################################################################################\n",
      "\n",
      "############################################# COMANDO A EJECUTAR #############################################\n",
      "git commit -m \"ADICIONADO ARCHIVO Dockerfile 2023-03-19 19:15:43.479269\"\n",
      "####################################### RESULTADO DE COMANDO EJECUTADO #######################################\n",
      "[rebase_branch c589b50] ADICIONADO ARCHIVO Dockerfile 2023-03-19 19:15:43.479269\n",
      " 1 file changed, 1 insertion(+)\n",
      " create mode 100644 Dockerfile\n",
      "##############################################################################################################\n",
      "\n",
      "############################################# COMANDO A EJECUTAR #############################################\n",
      "git add Manifest.yaml\n",
      "####################################### RESULTADO DE COMANDO EJECUTADO #######################################\n",
      "##############################################################################################################\n",
      "\n",
      "############################################# COMANDO A EJECUTAR #############################################\n",
      "git commit -m \"ADICIONADO ARCHIVO Manifest.yaml 2023-03-19 19:15:43.479269\"\n",
      "####################################### RESULTADO DE COMANDO EJECUTADO #######################################\n",
      "[rebase_branch 546a764] ADICIONADO ARCHIVO Manifest.yaml 2023-03-19 19:15:43.479269\n",
      " 1 file changed, 1 insertion(+)\n",
      " create mode 100644 Manifest.yaml\n",
      "##############################################################################################################\n",
      "\n",
      "############################################# COMANDO A EJECUTAR #############################################\n",
      "git add imagen.png\n",
      "####################################### RESULTADO DE COMANDO EJECUTADO #######################################\n",
      "##############################################################################################################\n",
      "\n",
      "############################################# COMANDO A EJECUTAR #############################################\n",
      "git commit -m \"ADICIONADO ARCHIVO imagen.png 2023-03-19 19:15:43.479269\"\n",
      "####################################### RESULTADO DE COMANDO EJECUTADO #######################################\n",
      "[rebase_branch 2808a86] ADICIONADO ARCHIVO imagen.png 2023-03-19 19:15:43.479269\n",
      " 1 file changed, 1 insertion(+)\n",
      " create mode 100644 imagen.png\n",
      "##############################################################################################################\n",
      "\n",
      "############################################# COMANDO A EJECUTAR #############################################\n",
      "git add main.py\n",
      "####################################### RESULTADO DE COMANDO EJECUTADO #######################################\n",
      "##############################################################################################################\n",
      "\n",
      "############################################# COMANDO A EJECUTAR #############################################\n",
      "git commit -m \"ADICIONADO ARCHIVO main.py 2023-03-19 19:15:43.479269\"\n",
      "####################################### RESULTADO DE COMANDO EJECUTADO #######################################\n",
      "[rebase_branch 5ad684b] ADICIONADO ARCHIVO main.py 2023-03-19 19:15:43.479269\n",
      " 1 file changed, 1 insertion(+)\n",
      " create mode 100644 main.py\n",
      "##############################################################################################################\n",
      "\n",
      "############################################# COMANDO A EJECUTAR #############################################\n",
      "git add connection.java\n",
      "####################################### RESULTADO DE COMANDO EJECUTADO #######################################\n",
      "##############################################################################################################\n",
      "\n",
      "############################################# COMANDO A EJECUTAR #############################################\n",
      "git commit -m \"ADICIONADO ARCHIVO connection.java 2023-03-19 19:15:43.479269\"\n",
      "####################################### RESULTADO DE COMANDO EJECUTADO #######################################\n",
      "[rebase_branch 52733a5] ADICIONADO ARCHIVO connection.java 2023-03-19 19:15:43.479269\n",
      " 1 file changed, 1 insertion(+)\n",
      " create mode 100644 connection.java\n",
      "##############################################################################################################\n",
      "\n",
      "############################################# COMANDO A EJECUTAR #############################################\n",
      "git add calculos.c\n",
      "####################################### RESULTADO DE COMANDO EJECUTADO #######################################\n",
      "##############################################################################################################\n",
      "\n",
      "############################################# COMANDO A EJECUTAR #############################################\n",
      "git commit -m \"ADICIONADO ARCHIVO calculos.c 2023-03-19 19:15:43.479269\"\n",
      "####################################### RESULTADO DE COMANDO EJECUTADO #######################################\n",
      "[rebase_branch 79ffd2b] ADICIONADO ARCHIVO calculos.c 2023-03-19 19:15:43.479269\n",
      " 1 file changed, 1 insertion(+)\n",
      " create mode 100644 calculos.c\n",
      "##############################################################################################################\n",
      "\n",
      "############################################# COMANDO A EJECUTAR #############################################\n",
      "git add addon.php\n",
      "####################################### RESULTADO DE COMANDO EJECUTADO #######################################\n",
      "##############################################################################################################\n",
      "\n",
      "############################################# COMANDO A EJECUTAR #############################################\n",
      "git commit -m \"ADICIONADO ARCHIVO addon.php 2023-03-19 19:15:43.479269\"\n",
      "####################################### RESULTADO DE COMANDO EJECUTADO #######################################\n",
      "[rebase_branch 6e60ade] ADICIONADO ARCHIVO addon.php 2023-03-19 19:15:43.479269\n",
      " 1 file changed, 1 insertion(+)\n",
      " create mode 100644 addon.php\n",
      "##############################################################################################################\n",
      "\n",
      "############################################# COMANDO A EJECUTAR #############################################\n",
      "git add utils.gif\n",
      "####################################### RESULTADO DE COMANDO EJECUTADO #######################################\n",
      "##############################################################################################################\n",
      "\n",
      "############################################# COMANDO A EJECUTAR #############################################\n",
      "git commit -m \"ADICIONADO ARCHIVO utils.gif 2023-03-19 19:15:43.479269\"\n",
      "####################################### RESULTADO DE COMANDO EJECUTADO #######################################\n",
      "[rebase_branch 3ca0b33] ADICIONADO ARCHIVO utils.gif 2023-03-19 19:15:43.479269\n",
      " 1 file changed, 1 insertion(+)\n",
      " create mode 100644 utils.gif\n",
      "##############################################################################################################\n",
      "\n",
      "############################################# COMANDO A EJECUTAR #############################################\n",
      "git add query.sql\n",
      "####################################### RESULTADO DE COMANDO EJECUTADO #######################################\n",
      "##############################################################################################################\n",
      "\n",
      "############################################# COMANDO A EJECUTAR #############################################\n",
      "git commit -m \"ADICIONADO ARCHIVO query.sql 2023-03-19 19:15:43.479269\"\n",
      "####################################### RESULTADO DE COMANDO EJECUTADO #######################################\n",
      "[rebase_branch 56862e5] ADICIONADO ARCHIVO query.sql 2023-03-19 19:15:43.479269\n",
      " 1 file changed, 1 insertion(+)\n",
      " create mode 100644 query.sql\n",
      "##############################################################################################################\n",
      "\n",
      "############################################# COMANDO A EJECUTAR #############################################\n",
      "git add dataset.avro\n",
      "####################################### RESULTADO DE COMANDO EJECUTADO #######################################\n",
      "##############################################################################################################\n",
      "\n",
      "############################################# COMANDO A EJECUTAR #############################################\n",
      "git commit -m \"ADICIONADO ARCHIVO dataset.avro 2023-03-19 19:15:43.479269\"\n",
      "####################################### RESULTADO DE COMANDO EJECUTADO #######################################\n",
      "[rebase_branch 2950245] ADICIONADO ARCHIVO dataset.avro 2023-03-19 19:15:43.479269\n",
      " 1 file changed, 1 insertion(+)\n",
      " create mode 100644 dataset.avro\n",
      "##############################################################################################################\n",
      "\n",
      "############################################# COMANDO A EJECUTAR #############################################\n",
      "git add link.vs\n",
      "####################################### RESULTADO DE COMANDO EJECUTADO #######################################\n",
      "##############################################################################################################\n",
      "\n",
      "############################################# COMANDO A EJECUTAR #############################################\n",
      "git commit -m \"ADICIONADO ARCHIVO link.vs 2023-03-19 19:15:43.479269\"\n",
      "####################################### RESULTADO DE COMANDO EJECUTADO #######################################\n",
      "[rebase_branch feded95] ADICIONADO ARCHIVO link.vs 2023-03-19 19:15:43.479269\n",
      " 1 file changed, 1 insertion(+)\n",
      " create mode 100644 link.vs\n",
      "##############################################################################################################\n",
      "\n",
      "############################################# COMANDO A EJECUTAR #############################################\n",
      "git status\n",
      "####################################### RESULTADO DE COMANDO EJECUTADO #######################################\n",
      "On branch rebase_branch\n",
      "nothing to commit, working tree clean\n",
      "##############################################################################################################\n",
      "\n",
      "############################################# COMANDO A EJECUTAR #############################################\n",
      "git log --graph --oneline\n",
      "####################################### RESULTADO DE COMANDO EJECUTADO #######################################\n",
      "* feded95 ADICIONADO ARCHIVO link.vs 2023-03-19 19:15:43.479269\n",
      "* 2950245 ADICIONADO ARCHIVO dataset.avro 2023-03-19 19:15:43.479269\n",
      "* 56862e5 ADICIONADO ARCHIVO query.sql 2023-03-19 19:15:43.479269\n",
      "* 3ca0b33 ADICIONADO ARCHIVO utils.gif 2023-03-19 19:15:43.479269\n",
      "* 6e60ade ADICIONADO ARCHIVO addon.php 2023-03-19 19:15:43.479269\n",
      "* 79ffd2b ADICIONADO ARCHIVO calculos.c 2023-03-19 19:15:43.479269\n",
      "* 52733a5 ADICIONADO ARCHIVO connection.java 2023-03-19 19:15:43.479269\n",
      "* 5ad684b ADICIONADO ARCHIVO main.py 2023-03-19 19:15:43.479269\n",
      "* 2808a86 ADICIONADO ARCHIVO imagen.png 2023-03-19 19:15:43.479269\n",
      "* 546a764 ADICIONADO ARCHIVO Manifest.yaml 2023-03-19 19:15:43.479269\n",
      "* c589b50 ADICIONADO ARCHIVO Dockerfile 2023-03-19 19:15:43.479269\n",
      "* 5ee6f54 ADICIONADO ARCHIVO info.txt 2023-03-19 19:15:43.479269\n",
      "* 3b4edb5 adicionados archivo de configuracion y requerimientos\n",
      "* d15fad2 Initial commit\n",
      "##############################################################################################################\n",
      "\n",
      "############################################# COMANDO A EJECUTAR #############################################\n",
      "git push --set-upstream origin rebase_branch\n",
      "####################################### RESULTADO DE COMANDO EJECUTADO #######################################\n",
      "Branch 'rebase_branch' set up to track remote branch 'rebase_branch' from 'origin'.\n",
      "##############################################################################################################\n",
      "\n",
      "############################################# COMANDO A EJECUTAR #############################################\n",
      "git branch\n",
      "####################################### RESULTADO DE COMANDO EJECUTADO #######################################\n",
      "  main\n",
      "  multi_commits\n",
      "* rebase_branch\n",
      "##############################################################################################################\n",
      "\n"
     ]
    }
   ],
   "source": [
    "nombre_rama = 'rebase_branch'\n",
    "generar_archivos_y_hacer_commit(nombre_rama=nombre_rama)"
   ]
  },
  {
   "cell_type": "markdown",
   "id": "9f41a9a0-fc04-47f4-80ff-8e615a806360",
   "metadata": {},
   "source": [
    "# EN LA CONSOLA DE VSCODE O UN IDE DE DESARROLLO\n",
    "# git rebase -i d15fad27cb8d1bcb6a0e697ef02e2d787dc51b48"
   ]
  },
  {
   "cell_type": "markdown",
   "id": "89cbab06-c933-44a8-bceb-c3a80735123e",
   "metadata": {},
   "source": [
    "##### SE ABRE AUTOMATICAMENTE EL EDITOR DE TEXTO, reemplazar la palabra **pick** por **squash** GUARDAR y CERRAR\n",
    "##### SE ABRE AUTOMATICAMENTE EL EDITOR DE TEXTO, reemplazar los comentarios por el comentario que se quiere\n",
    "##### subir los cambios al repositorio\n",
    "##### git push --force origin rebase_branch"
   ]
  },
  {
   "cell_type": "markdown",
   "id": "d6d6ce5d-6292-4989-a382-8b4c4223b1d8",
   "metadata": {
    "tags": []
   },
   "source": [
    "#### ELIMINAR LA RAMA DEL REPOSITORIO LOCAL Y REMOTO"
   ]
  },
  {
   "cell_type": "code",
   "execution_count": 66,
   "id": "dea080a3-5eaf-4c8f-abeb-3ff0ae69f750",
   "metadata": {
    "tags": []
   },
   "outputs": [
    {
     "name": "stdout",
     "output_type": "stream",
     "text": [
      "############################################# COMANDO A EJECUTAR #############################################\n",
      "git checkout main\n",
      "####################################### RESULTADO DE COMANDO EJECUTADO #######################################\n",
      "Your branch is up to date with 'origin/main'.\n",
      "##############################################################################################################\n",
      "\n",
      "############################################# COMANDO A EJECUTAR #############################################\n",
      "git push origin -d rebase_branch\n",
      "####################################### RESULTADO DE COMANDO EJECUTADO #######################################\n",
      "##############################################################################################################\n",
      "\n",
      "############################################# COMANDO A EJECUTAR #############################################\n",
      "git branch -D rebase_branch\n",
      "####################################### RESULTADO DE COMANDO EJECUTADO #######################################\n",
      "Deleted branch rebase_branch (was feded95).\n",
      "##############################################################################################################\n",
      "\n",
      "############################################# COMANDO A EJECUTAR #############################################\n",
      "git branch -a\n",
      "####################################### RESULTADO DE COMANDO EJECUTADO #######################################\n",
      "* main\n",
      "  multi_commits\n",
      "  remotes/origin/HEAD -> origin/main\n",
      "  remotes/origin/main\n",
      "  remotes/origin/multi_commits\n",
      "  remotes/origin/tag_branch\n",
      "##############################################################################################################\n",
      "\n"
     ]
    }
   ],
   "source": [
    "comando = 'git checkout main'\n",
    "ejecutar_comando_git(comando)\n",
    "\n",
    "comando = 'git push origin -d {nombre_rama}'.format(nombre_rama=nombre_rama)\n",
    "ejecutar_comando_git(comando)\n",
    "\n",
    "comando = 'git branch -D {nombre_rama}'.format(nombre_rama=nombre_rama)\n",
    "ejecutar_comando_git(comando)\n",
    "\n",
    "comando = 'git branch -a'\n",
    "ejecutar_comando_git(comando)"
   ]
  },
  {
   "cell_type": "markdown",
   "id": "98749f3f-04c9-4f07-bede-6fe4d3c04982",
   "metadata": {},
   "source": [
    "# <center> MERGE RAMAS DE UN REPOSITORIO <br>https://github.com/JorgeCardona/comandos_git</br></center>"
   ]
  },
  {
   "cell_type": "code",
   "execution_count": 67,
   "id": "b3a24f21-1be6-4aba-ae1f-8d33393e968b",
   "metadata": {
    "scrolled": true,
    "tags": []
   },
   "outputs": [
    {
     "name": "stdout",
     "output_type": "stream",
     "text": [
      "############################################# COMANDO A EJECUTAR #############################################\n",
      "git restore .\n",
      "####################################### RESULTADO DE COMANDO EJECUTADO #######################################\n",
      "##############################################################################################################\n",
      "\n",
      "############################################# COMANDO A EJECUTAR #############################################\n",
      "git checkout main\n",
      "####################################### RESULTADO DE COMANDO EJECUTADO #######################################\n",
      "Your branch is up to date with 'origin/main'.\n",
      "##############################################################################################################\n",
      "\n",
      "############################################# COMANDO A EJECUTAR #############################################\n",
      "git branch -a\n",
      "####################################### RESULTADO DE COMANDO EJECUTADO #######################################\n",
      "* main\n",
      "  multi_commits\n",
      "  remotes/origin/HEAD -> origin/main\n",
      "  remotes/origin/main\n",
      "  remotes/origin/multi_commits\n",
      "  remotes/origin/tag_branch\n",
      "##############################################################################################################\n",
      "\n",
      "############################################# COMANDO A EJECUTAR #############################################\n",
      "git branch -a\n",
      "####################################### RESULTADO DE COMANDO EJECUTADO #######################################\n",
      "* main\n",
      "  multi_commits\n",
      "  remotes/origin/HEAD -> origin/main\n",
      "  remotes/origin/main\n",
      "  remotes/origin/multi_commits\n",
      "  remotes/origin/tag_branch\n",
      "##############################################################################################################\n",
      "\n",
      "############################################# COMANDO A EJECUTAR #############################################\n",
      "git checkout -b branch_uno\n",
      "####################################### RESULTADO DE COMANDO EJECUTADO #######################################\n",
      "##############################################################################################################\n",
      "\n",
      "############################################# COMANDO A EJECUTAR #############################################\n",
      "git branch\n",
      "####################################### RESULTADO DE COMANDO EJECUTADO #######################################\n",
      "* branch_uno\n",
      "  main\n",
      "  multi_commits\n",
      "##############################################################################################################\n",
      "\n",
      "lista_de_archivos = ['info.txt']\n",
      "############################################# COMANDO A EJECUTAR #############################################\n",
      "echo 1679271353.519581 >> info.txt\n",
      "####################################### RESULTADO DE COMANDO EJECUTADO #######################################\n",
      "##############################################################################################################\n",
      "\n",
      "############################################# COMANDO A EJECUTAR #############################################\n",
      "git add info.txt\n",
      "####################################### RESULTADO DE COMANDO EJECUTADO #######################################\n",
      "##############################################################################################################\n",
      "\n",
      "############################################# COMANDO A EJECUTAR #############################################\n",
      "git commit -m \"ADICIONADO ARCHIVO info.txt 2023-03-19 19:15:53.416962\"\n",
      "####################################### RESULTADO DE COMANDO EJECUTADO #######################################\n",
      "[branch_uno d55d4bb] ADICIONADO ARCHIVO info.txt 2023-03-19 19:15:53.416962\n",
      " 1 file changed, 1 insertion(+)\n",
      " create mode 100644 info.txt\n",
      "##############################################################################################################\n",
      "\n",
      "############################################# COMANDO A EJECUTAR #############################################\n",
      "git status\n",
      "####################################### RESULTADO DE COMANDO EJECUTADO #######################################\n",
      "On branch branch_uno\n",
      "nothing to commit, working tree clean\n",
      "##############################################################################################################\n",
      "\n",
      "############################################# COMANDO A EJECUTAR #############################################\n",
      "git log --graph --oneline\n",
      "####################################### RESULTADO DE COMANDO EJECUTADO #######################################\n",
      "* d55d4bb ADICIONADO ARCHIVO info.txt 2023-03-19 19:15:53.416962\n",
      "* 3b4edb5 adicionados archivo de configuracion y requerimientos\n",
      "* d15fad2 Initial commit\n",
      "##############################################################################################################\n",
      "\n",
      "############################################# COMANDO A EJECUTAR #############################################\n",
      "git push --set-upstream origin branch_uno\n",
      "####################################### RESULTADO DE COMANDO EJECUTADO #######################################\n",
      "Branch 'branch_uno' set up to track remote branch 'branch_uno' from 'origin'.\n",
      "##############################################################################################################\n",
      "\n",
      "############################################# COMANDO A EJECUTAR #############################################\n",
      "git branch\n",
      "####################################### RESULTADO DE COMANDO EJECUTADO #######################################\n",
      "* branch_uno\n",
      "  main\n",
      "  multi_commits\n",
      "##############################################################################################################\n",
      "\n",
      "############################################# COMANDO A EJECUTAR #############################################\n",
      "git restore .\n",
      "####################################### RESULTADO DE COMANDO EJECUTADO #######################################\n",
      "##############################################################################################################\n",
      "\n",
      "############################################# COMANDO A EJECUTAR #############################################\n",
      "git checkout main\n",
      "####################################### RESULTADO DE COMANDO EJECUTADO #######################################\n",
      "Your branch is up to date with 'origin/main'.\n",
      "##############################################################################################################\n",
      "\n",
      "############################################# COMANDO A EJECUTAR #############################################\n",
      "git branch -a\n",
      "####################################### RESULTADO DE COMANDO EJECUTADO #######################################\n",
      "  branch_uno\n",
      "* main\n",
      "  multi_commits\n",
      "  remotes/origin/HEAD -> origin/main\n",
      "  remotes/origin/branch_uno\n",
      "  remotes/origin/main\n",
      "  remotes/origin/multi_commits\n",
      "  remotes/origin/tag_branch\n",
      "##############################################################################################################\n",
      "\n",
      "############################################# COMANDO A EJECUTAR #############################################\n",
      "git branch -a\n",
      "####################################### RESULTADO DE COMANDO EJECUTADO #######################################\n",
      "  branch_uno\n",
      "* main\n",
      "  multi_commits\n",
      "  remotes/origin/HEAD -> origin/main\n",
      "  remotes/origin/branch_uno\n",
      "  remotes/origin/main\n",
      "  remotes/origin/multi_commits\n",
      "  remotes/origin/tag_branch\n",
      "##############################################################################################################\n",
      "\n",
      "############################################# COMANDO A EJECUTAR #############################################\n",
      "git checkout -b branch_dos\n",
      "####################################### RESULTADO DE COMANDO EJECUTADO #######################################\n",
      "##############################################################################################################\n",
      "\n",
      "############################################# COMANDO A EJECUTAR #############################################\n",
      "git branch\n",
      "####################################### RESULTADO DE COMANDO EJECUTADO #######################################\n",
      "* branch_dos\n",
      "  branch_uno\n",
      "  main\n",
      "  multi_commits\n",
      "##############################################################################################################\n",
      "\n",
      "lista_de_archivos = ['info.txt']\n",
      "############################################# COMANDO A EJECUTAR #############################################\n",
      "echo 1679271357.134088 >> info.txt\n",
      "####################################### RESULTADO DE COMANDO EJECUTADO #######################################\n",
      "##############################################################################################################\n",
      "\n",
      "############################################# COMANDO A EJECUTAR #############################################\n",
      "git add info.txt\n",
      "####################################### RESULTADO DE COMANDO EJECUTADO #######################################\n",
      "##############################################################################################################\n",
      "\n",
      "############################################# COMANDO A EJECUTAR #############################################\n",
      "git commit -m \"ADICIONADO ARCHIVO info.txt 2023-03-19 19:15:57.008055\"\n",
      "####################################### RESULTADO DE COMANDO EJECUTADO #######################################\n",
      "[branch_dos 8688aa0] ADICIONADO ARCHIVO info.txt 2023-03-19 19:15:57.008055\n",
      " 1 file changed, 1 insertion(+)\n",
      " create mode 100644 info.txt\n",
      "##############################################################################################################\n",
      "\n",
      "############################################# COMANDO A EJECUTAR #############################################\n",
      "git status\n",
      "####################################### RESULTADO DE COMANDO EJECUTADO #######################################\n",
      "On branch branch_dos\n",
      "nothing to commit, working tree clean\n",
      "##############################################################################################################\n",
      "\n",
      "############################################# COMANDO A EJECUTAR #############################################\n",
      "git log --graph --oneline\n",
      "####################################### RESULTADO DE COMANDO EJECUTADO #######################################\n",
      "* 8688aa0 ADICIONADO ARCHIVO info.txt 2023-03-19 19:15:57.008055\n",
      "* 3b4edb5 adicionados archivo de configuracion y requerimientos\n",
      "* d15fad2 Initial commit\n",
      "##############################################################################################################\n",
      "\n",
      "############################################# COMANDO A EJECUTAR #############################################\n",
      "git push --set-upstream origin branch_dos\n",
      "####################################### RESULTADO DE COMANDO EJECUTADO #######################################\n",
      "Branch 'branch_dos' set up to track remote branch 'branch_dos' from 'origin'.\n",
      "##############################################################################################################\n",
      "\n",
      "############################################# COMANDO A EJECUTAR #############################################\n",
      "git branch\n",
      "####################################### RESULTADO DE COMANDO EJECUTADO #######################################\n",
      "* branch_dos\n",
      "  branch_uno\n",
      "  main\n",
      "  multi_commits\n",
      "##############################################################################################################\n",
      "\n"
     ]
    }
   ],
   "source": [
    "nombre_ramas = ['branch_uno','branch_dos']\n",
    "\n",
    "for rama in nombre_ramas:\n",
    "    generar_archivos_y_hacer_commit(rama, todos_los_archivos = False)"
   ]
  },
  {
   "cell_type": "markdown",
   "id": "57b93962-ad12-4c53-ae6a-a6496c3bcc61",
   "metadata": {},
   "source": [
    "# <center> UNIR DOS RAMAS LOCALES </center>"
   ]
  },
  {
   "cell_type": "markdown",
   "id": "baf1888f-cc65-47a1-8091-4c234363db68",
   "metadata": {},
   "source": [
    "# EN LA CONSOLA DE VSCODE O UN IDE DE DESARROLLO\n",
    "# git merge branch_dos branch_uno"
   ]
  },
  {
   "cell_type": "markdown",
   "id": "a7674952-0aa9-43bd-98e6-c57aac0ac644",
   "metadata": {},
   "source": [
    "# Accept Current Change | Accept Incoming Change | Accept Both Changes | Compare Change\n",
    "# <<<<<<< HEAD\n",
    "# 1679198052.206751 (Current Change)\n",
    "# =======\n",
    "# 1679198046.401986 \n",
    "# >>>>>>> branch_uno (Incoming Change)"
   ]
  },
  {
   "cell_type": "markdown",
   "id": "bee82566-8bdd-4dca-a5cd-2ae8b49f7941",
   "metadata": {},
   "source": [
    "# <center> UNIR CAMBIOS DE LA RAMA REMOTA A LA RAMA LOCAL </center> "
   ]
  },
  {
   "cell_type": "markdown",
   "id": "850814d1-94b7-43e7-8463-eba49e776121",
   "metadata": {},
   "source": [
    "# EN LA CONSOLA DE VSCODE O UN IDE DE DESARROLLO\n",
    "# git pull origin branch_dos"
   ]
  },
  {
   "cell_type": "markdown",
   "id": "e7030020-fa35-4665-bc8e-6b273a16e278",
   "metadata": {},
   "source": [
    "# <center> UNIR CAMBIOS DE LA RAMA LOCAL A LA RAMA REMOTA </center> "
   ]
  },
  {
   "cell_type": "markdown",
   "id": "d16cc908-7a0a-4b54-a2f3-6e9ae91feca7",
   "metadata": {},
   "source": [
    "# EN LA CONSOLA DE VSCODE O UN IDE DE DESARROLLO\n",
    "### hacer un git commit y despues un git pull\n",
    "\n",
    "# Accept Current Change | Accept Incoming Change | Accept Both Changes | Compare Change\n",
    "# <<<<<<< HEAD\n",
    "# 1679198052.206751 (Current Change)\n",
    "# =======\n",
    "# 1679198046.401986 \n",
    "# >>>>>>> branch_uno (Incoming Change)"
   ]
  },
  {
   "cell_type": "markdown",
   "id": "d40915df-19c0-491b-8153-0f02b42d1b36",
   "metadata": {
    "tags": []
   },
   "source": [
    "#### ELIMINAR LA RAMA EN EL REPOSITORIO DE ORIGEN O REMOTO"
   ]
  },
  {
   "cell_type": "code",
   "execution_count": 68,
   "id": "9ff94caf-5123-4bac-9ed0-a603de6453e5",
   "metadata": {
    "tags": []
   },
   "outputs": [
    {
     "name": "stdout",
     "output_type": "stream",
     "text": [
      "############################################# COMANDO A EJECUTAR #############################################\n",
      "git checkout main\n",
      "####################################### RESULTADO DE COMANDO EJECUTADO #######################################\n",
      "Your branch is up to date with 'origin/main'.\n",
      "##############################################################################################################\n",
      "\n",
      "############################################# COMANDO A EJECUTAR #############################################\n",
      "git push origin -d branch_uno\n",
      "####################################### RESULTADO DE COMANDO EJECUTADO #######################################\n",
      "##############################################################################################################\n",
      "\n",
      "############################################# COMANDO A EJECUTAR #############################################\n",
      "git branch -D branch_uno\n",
      "####################################### RESULTADO DE COMANDO EJECUTADO #######################################\n",
      "Deleted branch branch_uno (was d55d4bb).\n",
      "##############################################################################################################\n",
      "\n",
      "############################################# COMANDO A EJECUTAR #############################################\n",
      "git push origin -d branch_dos\n",
      "####################################### RESULTADO DE COMANDO EJECUTADO #######################################\n",
      "##############################################################################################################\n",
      "\n",
      "############################################# COMANDO A EJECUTAR #############################################\n",
      "git branch -D branch_dos\n",
      "####################################### RESULTADO DE COMANDO EJECUTADO #######################################\n",
      "Deleted branch branch_dos (was 8688aa0).\n",
      "##############################################################################################################\n",
      "\n",
      "############################################# COMANDO A EJECUTAR #############################################\n",
      "git branch -a\n",
      "####################################### RESULTADO DE COMANDO EJECUTADO #######################################\n",
      "* main\n",
      "  multi_commits\n",
      "  remotes/origin/HEAD -> origin/main\n",
      "  remotes/origin/main\n",
      "  remotes/origin/multi_commits\n",
      "  remotes/origin/tag_branch\n",
      "##############################################################################################################\n",
      "\n"
     ]
    }
   ],
   "source": [
    "comando = 'git checkout main'\n",
    "ejecutar_comando_git(comando)\n",
    "\n",
    "for nombre_rama in nombre_ramas:\n",
    "    comando = 'git push origin -d {nombre_rama}'.format(nombre_rama=nombre_rama)\n",
    "    ejecutar_comando_git(comando)\n",
    "\n",
    "    comando = 'git branch -D {nombre_rama}'.format(nombre_rama=nombre_rama)\n",
    "    ejecutar_comando_git(comando)\n",
    "\n",
    "comando = 'git branch -a'\n",
    "ejecutar_comando_git(comando)"
   ]
  },
  {
   "cell_type": "markdown",
   "id": "4bec41e1-5333-4e9a-af12-2591a9f87ee8",
   "metadata": {},
   "source": [
    "# <center> CHERRY PICK <br>https://github.com/JorgeCardona/comandos_git</br></center>"
   ]
  },
  {
   "cell_type": "code",
   "execution_count": 69,
   "id": "a22a2b4e-6598-49fe-b7c3-890d69272b6d",
   "metadata": {
    "scrolled": true,
    "tags": []
   },
   "outputs": [
    {
     "name": "stdout",
     "output_type": "stream",
     "text": [
      "############################################# COMANDO A EJECUTAR #############################################\n",
      "git restore .\n",
      "####################################### RESULTADO DE COMANDO EJECUTADO #######################################\n",
      "##############################################################################################################\n",
      "\n",
      "############################################# COMANDO A EJECUTAR #############################################\n",
      "git checkout main\n",
      "####################################### RESULTADO DE COMANDO EJECUTADO #######################################\n",
      "Your branch is up to date with 'origin/main'.\n",
      "##############################################################################################################\n",
      "\n",
      "############################################# COMANDO A EJECUTAR #############################################\n",
      "git branch -a\n",
      "####################################### RESULTADO DE COMANDO EJECUTADO #######################################\n",
      "* main\n",
      "  multi_commits\n",
      "  remotes/origin/HEAD -> origin/main\n",
      "  remotes/origin/main\n",
      "  remotes/origin/multi_commits\n",
      "  remotes/origin/tag_branch\n",
      "##############################################################################################################\n",
      "\n",
      "############################################# COMANDO A EJECUTAR #############################################\n",
      "git branch -a\n",
      "####################################### RESULTADO DE COMANDO EJECUTADO #######################################\n",
      "* main\n",
      "  multi_commits\n",
      "  remotes/origin/HEAD -> origin/main\n",
      "  remotes/origin/main\n",
      "  remotes/origin/multi_commits\n",
      "  remotes/origin/tag_branch\n",
      "##############################################################################################################\n",
      "\n",
      "############################################# COMANDO A EJECUTAR #############################################\n",
      "git checkout -b cherry_pick_branch\n",
      "####################################### RESULTADO DE COMANDO EJECUTADO #######################################\n",
      "##############################################################################################################\n",
      "\n",
      "############################################# COMANDO A EJECUTAR #############################################\n",
      "git branch\n",
      "####################################### RESULTADO DE COMANDO EJECUTADO #######################################\n",
      "* cherry_pick_branch\n",
      "  main\n",
      "  multi_commits\n",
      "##############################################################################################################\n",
      "\n",
      "lista_de_archivos = ['info.txt', 'Dockerfile', 'Manifest.yaml', 'imagen.png', 'main.py', 'connection.java', 'calculos.c', 'addon.php', 'utils.gif', 'query.sql', 'dataset.avro', 'link.vs']\n",
      "############################################# COMANDO A EJECUTAR #############################################\n",
      "echo 1679271366.926078 >> info.txt\n",
      "####################################### RESULTADO DE COMANDO EJECUTADO #######################################\n",
      "##############################################################################################################\n",
      "\n",
      "############################################# COMANDO A EJECUTAR #############################################\n",
      "echo 1679271367.068258 >> Dockerfile\n",
      "####################################### RESULTADO DE COMANDO EJECUTADO #######################################\n",
      "##############################################################################################################\n",
      "\n",
      "############################################# COMANDO A EJECUTAR #############################################\n",
      "echo 1679271367.198331 >> Manifest.yaml\n",
      "####################################### RESULTADO DE COMANDO EJECUTADO #######################################\n",
      "##############################################################################################################\n",
      "\n",
      "############################################# COMANDO A EJECUTAR #############################################\n",
      "echo 1679271367.313643 >> imagen.png\n",
      "####################################### RESULTADO DE COMANDO EJECUTADO #######################################\n",
      "##############################################################################################################\n",
      "\n",
      "############################################# COMANDO A EJECUTAR #############################################\n",
      "echo 1679271367.451123 >> main.py\n",
      "####################################### RESULTADO DE COMANDO EJECUTADO #######################################\n",
      "##############################################################################################################\n",
      "\n",
      "############################################# COMANDO A EJECUTAR #############################################\n",
      "echo 1679271367.606115 >> connection.java\n",
      "####################################### RESULTADO DE COMANDO EJECUTADO #######################################\n",
      "##############################################################################################################\n",
      "\n",
      "############################################# COMANDO A EJECUTAR #############################################\n",
      "echo 1679271367.771654 >> calculos.c\n",
      "####################################### RESULTADO DE COMANDO EJECUTADO #######################################\n",
      "##############################################################################################################\n",
      "\n",
      "############################################# COMANDO A EJECUTAR #############################################\n",
      "echo 1679271367.910636 >> addon.php\n",
      "####################################### RESULTADO DE COMANDO EJECUTADO #######################################\n",
      "##############################################################################################################\n",
      "\n",
      "############################################# COMANDO A EJECUTAR #############################################\n",
      "echo 1679271368.043347 >> utils.gif\n",
      "####################################### RESULTADO DE COMANDO EJECUTADO #######################################\n",
      "##############################################################################################################\n",
      "\n",
      "############################################# COMANDO A EJECUTAR #############################################\n",
      "echo 1679271368.186957 >> query.sql\n",
      "####################################### RESULTADO DE COMANDO EJECUTADO #######################################\n",
      "##############################################################################################################\n",
      "\n",
      "############################################# COMANDO A EJECUTAR #############################################\n",
      "echo 1679271368.3516 >> dataset.avro\n",
      "####################################### RESULTADO DE COMANDO EJECUTADO #######################################\n",
      "##############################################################################################################\n",
      "\n",
      "############################################# COMANDO A EJECUTAR #############################################\n",
      "echo 1679271368.50165 >> link.vs\n",
      "####################################### RESULTADO DE COMANDO EJECUTADO #######################################\n",
      "##############################################################################################################\n",
      "\n",
      "############################################# COMANDO A EJECUTAR #############################################\n",
      "git add info.txt\n",
      "####################################### RESULTADO DE COMANDO EJECUTADO #######################################\n",
      "##############################################################################################################\n",
      "\n",
      "############################################# COMANDO A EJECUTAR #############################################\n",
      "git commit -m \"ADICIONADO ARCHIVO info.txt 2023-03-19 19:16:06.804321\"\n",
      "####################################### RESULTADO DE COMANDO EJECUTADO #######################################\n",
      "[cherry_pick_branch 0fd1ce5] ADICIONADO ARCHIVO info.txt 2023-03-19 19:16:06.804321\n",
      " 1 file changed, 1 insertion(+)\n",
      " create mode 100644 info.txt\n",
      "##############################################################################################################\n",
      "\n",
      "############################################# COMANDO A EJECUTAR #############################################\n",
      "git add Dockerfile\n",
      "####################################### RESULTADO DE COMANDO EJECUTADO #######################################\n",
      "##############################################################################################################\n",
      "\n",
      "############################################# COMANDO A EJECUTAR #############################################\n",
      "git commit -m \"ADICIONADO ARCHIVO Dockerfile 2023-03-19 19:16:06.804321\"\n",
      "####################################### RESULTADO DE COMANDO EJECUTADO #######################################\n",
      "[cherry_pick_branch 193a210] ADICIONADO ARCHIVO Dockerfile 2023-03-19 19:16:06.804321\n",
      " 1 file changed, 1 insertion(+)\n",
      " create mode 100644 Dockerfile\n",
      "##############################################################################################################\n",
      "\n",
      "############################################# COMANDO A EJECUTAR #############################################\n",
      "git add Manifest.yaml\n",
      "####################################### RESULTADO DE COMANDO EJECUTADO #######################################\n",
      "##############################################################################################################\n",
      "\n",
      "############################################# COMANDO A EJECUTAR #############################################\n",
      "git commit -m \"ADICIONADO ARCHIVO Manifest.yaml 2023-03-19 19:16:06.804321\"\n",
      "####################################### RESULTADO DE COMANDO EJECUTADO #######################################\n",
      "[cherry_pick_branch 782d8a4] ADICIONADO ARCHIVO Manifest.yaml 2023-03-19 19:16:06.804321\n",
      " 1 file changed, 1 insertion(+)\n",
      " create mode 100644 Manifest.yaml\n",
      "##############################################################################################################\n",
      "\n",
      "############################################# COMANDO A EJECUTAR #############################################\n",
      "git add imagen.png\n",
      "####################################### RESULTADO DE COMANDO EJECUTADO #######################################\n",
      "##############################################################################################################\n",
      "\n",
      "############################################# COMANDO A EJECUTAR #############################################\n",
      "git commit -m \"ADICIONADO ARCHIVO imagen.png 2023-03-19 19:16:06.804321\"\n",
      "####################################### RESULTADO DE COMANDO EJECUTADO #######################################\n",
      "[cherry_pick_branch 98eccec] ADICIONADO ARCHIVO imagen.png 2023-03-19 19:16:06.804321\n",
      " 1 file changed, 1 insertion(+)\n",
      " create mode 100644 imagen.png\n",
      "##############################################################################################################\n",
      "\n",
      "############################################# COMANDO A EJECUTAR #############################################\n",
      "git add main.py\n",
      "####################################### RESULTADO DE COMANDO EJECUTADO #######################################\n",
      "##############################################################################################################\n",
      "\n",
      "############################################# COMANDO A EJECUTAR #############################################\n",
      "git commit -m \"ADICIONADO ARCHIVO main.py 2023-03-19 19:16:06.804321\"\n",
      "####################################### RESULTADO DE COMANDO EJECUTADO #######################################\n",
      "[cherry_pick_branch 9ac61f3] ADICIONADO ARCHIVO main.py 2023-03-19 19:16:06.804321\n",
      " 1 file changed, 1 insertion(+)\n",
      " create mode 100644 main.py\n",
      "##############################################################################################################\n",
      "\n",
      "############################################# COMANDO A EJECUTAR #############################################\n",
      "git add connection.java\n",
      "####################################### RESULTADO DE COMANDO EJECUTADO #######################################\n",
      "##############################################################################################################\n",
      "\n",
      "############################################# COMANDO A EJECUTAR #############################################\n",
      "git commit -m \"ADICIONADO ARCHIVO connection.java 2023-03-19 19:16:06.804321\"\n",
      "####################################### RESULTADO DE COMANDO EJECUTADO #######################################\n",
      "[cherry_pick_branch 4f65a01] ADICIONADO ARCHIVO connection.java 2023-03-19 19:16:06.804321\n",
      " 1 file changed, 1 insertion(+)\n",
      " create mode 100644 connection.java\n",
      "##############################################################################################################\n",
      "\n",
      "############################################# COMANDO A EJECUTAR #############################################\n",
      "git add calculos.c\n",
      "####################################### RESULTADO DE COMANDO EJECUTADO #######################################\n",
      "##############################################################################################################\n",
      "\n",
      "############################################# COMANDO A EJECUTAR #############################################\n",
      "git commit -m \"ADICIONADO ARCHIVO calculos.c 2023-03-19 19:16:06.804321\"\n",
      "####################################### RESULTADO DE COMANDO EJECUTADO #######################################\n",
      "[cherry_pick_branch 829aade] ADICIONADO ARCHIVO calculos.c 2023-03-19 19:16:06.804321\n",
      " 1 file changed, 1 insertion(+)\n",
      " create mode 100644 calculos.c\n",
      "##############################################################################################################\n",
      "\n",
      "############################################# COMANDO A EJECUTAR #############################################\n",
      "git add addon.php\n",
      "####################################### RESULTADO DE COMANDO EJECUTADO #######################################\n",
      "##############################################################################################################\n",
      "\n",
      "############################################# COMANDO A EJECUTAR #############################################\n",
      "git commit -m \"ADICIONADO ARCHIVO addon.php 2023-03-19 19:16:06.804321\"\n",
      "####################################### RESULTADO DE COMANDO EJECUTADO #######################################\n",
      "[cherry_pick_branch 75e6165] ADICIONADO ARCHIVO addon.php 2023-03-19 19:16:06.804321\n",
      " 1 file changed, 1 insertion(+)\n",
      " create mode 100644 addon.php\n",
      "##############################################################################################################\n",
      "\n",
      "############################################# COMANDO A EJECUTAR #############################################\n",
      "git add utils.gif\n",
      "####################################### RESULTADO DE COMANDO EJECUTADO #######################################\n",
      "##############################################################################################################\n",
      "\n",
      "############################################# COMANDO A EJECUTAR #############################################\n",
      "git commit -m \"ADICIONADO ARCHIVO utils.gif 2023-03-19 19:16:06.804321\"\n",
      "####################################### RESULTADO DE COMANDO EJECUTADO #######################################\n",
      "[cherry_pick_branch 1c9d97d] ADICIONADO ARCHIVO utils.gif 2023-03-19 19:16:06.804321\n",
      " 1 file changed, 1 insertion(+)\n",
      " create mode 100644 utils.gif\n",
      "##############################################################################################################\n",
      "\n",
      "############################################# COMANDO A EJECUTAR #############################################\n",
      "git add query.sql\n",
      "####################################### RESULTADO DE COMANDO EJECUTADO #######################################\n",
      "##############################################################################################################\n",
      "\n",
      "############################################# COMANDO A EJECUTAR #############################################\n",
      "git commit -m \"ADICIONADO ARCHIVO query.sql 2023-03-19 19:16:06.804321\"\n",
      "####################################### RESULTADO DE COMANDO EJECUTADO #######################################\n",
      "[cherry_pick_branch cf5778e] ADICIONADO ARCHIVO query.sql 2023-03-19 19:16:06.804321\n",
      " 1 file changed, 1 insertion(+)\n",
      " create mode 100644 query.sql\n",
      "##############################################################################################################\n",
      "\n",
      "############################################# COMANDO A EJECUTAR #############################################\n",
      "git add dataset.avro\n",
      "####################################### RESULTADO DE COMANDO EJECUTADO #######################################\n",
      "##############################################################################################################\n",
      "\n",
      "############################################# COMANDO A EJECUTAR #############################################\n",
      "git commit -m \"ADICIONADO ARCHIVO dataset.avro 2023-03-19 19:16:06.804321\"\n",
      "####################################### RESULTADO DE COMANDO EJECUTADO #######################################\n",
      "[cherry_pick_branch 6e04256] ADICIONADO ARCHIVO dataset.avro 2023-03-19 19:16:06.804321\n",
      " 1 file changed, 1 insertion(+)\n",
      " create mode 100644 dataset.avro\n",
      "##############################################################################################################\n",
      "\n",
      "############################################# COMANDO A EJECUTAR #############################################\n",
      "git add link.vs\n",
      "####################################### RESULTADO DE COMANDO EJECUTADO #######################################\n",
      "##############################################################################################################\n",
      "\n",
      "############################################# COMANDO A EJECUTAR #############################################\n",
      "git commit -m \"ADICIONADO ARCHIVO link.vs 2023-03-19 19:16:06.804321\"\n",
      "####################################### RESULTADO DE COMANDO EJECUTADO #######################################\n",
      "[cherry_pick_branch 5218299] ADICIONADO ARCHIVO link.vs 2023-03-19 19:16:06.804321\n",
      " 1 file changed, 1 insertion(+)\n",
      " create mode 100644 link.vs\n",
      "##############################################################################################################\n",
      "\n",
      "############################################# COMANDO A EJECUTAR #############################################\n",
      "git status\n",
      "####################################### RESULTADO DE COMANDO EJECUTADO #######################################\n",
      "On branch cherry_pick_branch\n",
      "nothing to commit, working tree clean\n",
      "##############################################################################################################\n",
      "\n",
      "############################################# COMANDO A EJECUTAR #############################################\n",
      "git log --graph --oneline\n",
      "####################################### RESULTADO DE COMANDO EJECUTADO #######################################\n",
      "* 5218299 ADICIONADO ARCHIVO link.vs 2023-03-19 19:16:06.804321\n",
      "* 6e04256 ADICIONADO ARCHIVO dataset.avro 2023-03-19 19:16:06.804321\n",
      "* cf5778e ADICIONADO ARCHIVO query.sql 2023-03-19 19:16:06.804321\n",
      "* 1c9d97d ADICIONADO ARCHIVO utils.gif 2023-03-19 19:16:06.804321\n",
      "* 75e6165 ADICIONADO ARCHIVO addon.php 2023-03-19 19:16:06.804321\n",
      "* 829aade ADICIONADO ARCHIVO calculos.c 2023-03-19 19:16:06.804321\n",
      "* 4f65a01 ADICIONADO ARCHIVO connection.java 2023-03-19 19:16:06.804321\n",
      "* 9ac61f3 ADICIONADO ARCHIVO main.py 2023-03-19 19:16:06.804321\n",
      "* 98eccec ADICIONADO ARCHIVO imagen.png 2023-03-19 19:16:06.804321\n",
      "* 782d8a4 ADICIONADO ARCHIVO Manifest.yaml 2023-03-19 19:16:06.804321\n",
      "* 193a210 ADICIONADO ARCHIVO Dockerfile 2023-03-19 19:16:06.804321\n",
      "* 0fd1ce5 ADICIONADO ARCHIVO info.txt 2023-03-19 19:16:06.804321\n",
      "* 3b4edb5 adicionados archivo de configuracion y requerimientos\n",
      "* d15fad2 Initial commit\n",
      "##############################################################################################################\n",
      "\n",
      "############################################# COMANDO A EJECUTAR #############################################\n",
      "git push --set-upstream origin cherry_pick_branch\n",
      "####################################### RESULTADO DE COMANDO EJECUTADO #######################################\n",
      "Branch 'cherry_pick_branch' set up to track remote branch 'cherry_pick_branch' from 'origin'.\n",
      "##############################################################################################################\n",
      "\n",
      "############################################# COMANDO A EJECUTAR #############################################\n",
      "git branch\n",
      "####################################### RESULTADO DE COMANDO EJECUTADO #######################################\n",
      "* cherry_pick_branch\n",
      "  main\n",
      "  multi_commits\n",
      "##############################################################################################################\n",
      "\n",
      "############################################# COMANDO A EJECUTAR #############################################\n",
      "git restore .\n",
      "####################################### RESULTADO DE COMANDO EJECUTADO #######################################\n",
      "##############################################################################################################\n",
      "\n",
      "############################################# COMANDO A EJECUTAR #############################################\n",
      "git checkout main\n",
      "####################################### RESULTADO DE COMANDO EJECUTADO #######################################\n",
      "Your branch is up to date with 'origin/main'.\n",
      "##############################################################################################################\n",
      "\n",
      "############################################# COMANDO A EJECUTAR #############################################\n",
      "git branch -a\n",
      "####################################### RESULTADO DE COMANDO EJECUTADO #######################################\n",
      "  cherry_pick_branch\n",
      "* main\n",
      "  multi_commits\n",
      "  remotes/origin/HEAD -> origin/main\n",
      "  remotes/origin/cherry_pick_branch\n",
      "  remotes/origin/main\n",
      "  remotes/origin/multi_commits\n",
      "  remotes/origin/tag_branch\n",
      "##############################################################################################################\n",
      "\n",
      "############################################# COMANDO A EJECUTAR #############################################\n",
      "git branch -a\n",
      "####################################### RESULTADO DE COMANDO EJECUTADO #######################################\n",
      "  cherry_pick_branch\n",
      "* main\n",
      "  multi_commits\n",
      "  remotes/origin/HEAD -> origin/main\n",
      "  remotes/origin/cherry_pick_branch\n",
      "  remotes/origin/main\n",
      "  remotes/origin/multi_commits\n",
      "  remotes/origin/tag_branch\n",
      "##############################################################################################################\n",
      "\n",
      "############################################# COMANDO A EJECUTAR #############################################\n",
      "git checkout -b hotfix_branch\n",
      "####################################### RESULTADO DE COMANDO EJECUTADO #######################################\n",
      "##############################################################################################################\n",
      "\n",
      "############################################# COMANDO A EJECUTAR #############################################\n",
      "git branch\n",
      "####################################### RESULTADO DE COMANDO EJECUTADO #######################################\n",
      "  cherry_pick_branch\n",
      "* hotfix_branch\n",
      "  main\n",
      "  multi_commits\n",
      "##############################################################################################################\n",
      "\n",
      "lista_de_archivos = ['info.txt']\n",
      "############################################# COMANDO A EJECUTAR #############################################\n",
      "echo 1679271374.25122 >> info.txt\n",
      "####################################### RESULTADO DE COMANDO EJECUTADO #######################################\n",
      "##############################################################################################################\n",
      "\n",
      "############################################# COMANDO A EJECUTAR #############################################\n",
      "git add info.txt\n",
      "####################################### RESULTADO DE COMANDO EJECUTADO #######################################\n",
      "##############################################################################################################\n",
      "\n",
      "############################################# COMANDO A EJECUTAR #############################################\n",
      "git commit -m \"ADICIONADO ARCHIVO info.txt 2023-03-19 19:16:14.148492\"\n",
      "####################################### RESULTADO DE COMANDO EJECUTADO #######################################\n",
      "[hotfix_branch aa06957] ADICIONADO ARCHIVO info.txt 2023-03-19 19:16:14.148492\n",
      " 1 file changed, 1 insertion(+)\n",
      " create mode 100644 info.txt\n",
      "##############################################################################################################\n",
      "\n",
      "############################################# COMANDO A EJECUTAR #############################################\n",
      "git status\n",
      "####################################### RESULTADO DE COMANDO EJECUTADO #######################################\n",
      "On branch hotfix_branch\n",
      "nothing to commit, working tree clean\n",
      "##############################################################################################################\n",
      "\n",
      "############################################# COMANDO A EJECUTAR #############################################\n",
      "git log --graph --oneline\n",
      "####################################### RESULTADO DE COMANDO EJECUTADO #######################################\n",
      "* aa06957 ADICIONADO ARCHIVO info.txt 2023-03-19 19:16:14.148492\n",
      "* 3b4edb5 adicionados archivo de configuracion y requerimientos\n",
      "* d15fad2 Initial commit\n",
      "##############################################################################################################\n",
      "\n",
      "############################################# COMANDO A EJECUTAR #############################################\n",
      "git push --set-upstream origin hotfix_branch\n",
      "####################################### RESULTADO DE COMANDO EJECUTADO #######################################\n",
      "Branch 'hotfix_branch' set up to track remote branch 'hotfix_branch' from 'origin'.\n",
      "##############################################################################################################\n",
      "\n",
      "############################################# COMANDO A EJECUTAR #############################################\n",
      "git branch\n",
      "####################################### RESULTADO DE COMANDO EJECUTADO #######################################\n",
      "  cherry_pick_branch\n",
      "* hotfix_branch\n",
      "  main\n",
      "  multi_commits\n",
      "##############################################################################################################\n",
      "\n"
     ]
    }
   ],
   "source": [
    "nombre_rama_inicial = 'cherry_pick_branch'\n",
    "nombre_rama_final = 'hotfix_branch'\n",
    "\n",
    "nombre_ramas = [nombre_rama_inicial,nombre_rama_final]\n",
    "\n",
    "nombre_rama = nombre_rama_inicial\n",
    "generar_archivos_y_hacer_commit(nombre_rama=nombre_rama)\n",
    "\n",
    "nombre_rama = nombre_rama_final\n",
    "generar_archivos_y_hacer_commit(nombre_rama=nombre_rama, todos_los_archivos=False)"
   ]
  },
  {
   "cell_type": "markdown",
   "id": "c5ce3c4b-49d1-4f9b-83cb-dd1b549e24d7",
   "metadata": {},
   "source": [
    "## VER EL LOG DE LA RAMA A USAR COMO BASE PARA EL CHERRY_PICK"
   ]
  },
  {
   "cell_type": "code",
   "execution_count": 70,
   "id": "130942c2-68ce-4d83-8aa0-e41ff7bb0214",
   "metadata": {
    "scrolled": true,
    "tags": []
   },
   "outputs": [
    {
     "name": "stdout",
     "output_type": "stream",
     "text": [
      "############################################# COMANDO A EJECUTAR #############################################\n",
      "git log --oneline hotfix_branch\n",
      "####################################### RESULTADO DE COMANDO EJECUTADO #######################################\n",
      "aa06957 ADICIONADO ARCHIVO info.txt 2023-03-19 19:16:14.148492\n",
      "3b4edb5 adicionados archivo de configuracion y requerimientos\n",
      "d15fad2 Initial commit\n",
      "##############################################################################################################\n",
      "\n",
      "############################################# COMANDO A EJECUTAR #############################################\n",
      "git log --oneline cherry_pick_branch\n",
      "####################################### RESULTADO DE COMANDO EJECUTADO #######################################\n",
      "5218299 ADICIONADO ARCHIVO link.vs 2023-03-19 19:16:06.804321\n",
      "6e04256 ADICIONADO ARCHIVO dataset.avro 2023-03-19 19:16:06.804321\n",
      "cf5778e ADICIONADO ARCHIVO query.sql 2023-03-19 19:16:06.804321\n",
      "1c9d97d ADICIONADO ARCHIVO utils.gif 2023-03-19 19:16:06.804321\n",
      "75e6165 ADICIONADO ARCHIVO addon.php 2023-03-19 19:16:06.804321\n",
      "829aade ADICIONADO ARCHIVO calculos.c 2023-03-19 19:16:06.804321\n",
      "4f65a01 ADICIONADO ARCHIVO connection.java 2023-03-19 19:16:06.804321\n",
      "9ac61f3 ADICIONADO ARCHIVO main.py 2023-03-19 19:16:06.804321\n",
      "98eccec ADICIONADO ARCHIVO imagen.png 2023-03-19 19:16:06.804321\n",
      "782d8a4 ADICIONADO ARCHIVO Manifest.yaml 2023-03-19 19:16:06.804321\n",
      "193a210 ADICIONADO ARCHIVO Dockerfile 2023-03-19 19:16:06.804321\n",
      "0fd1ce5 ADICIONADO ARCHIVO info.txt 2023-03-19 19:16:06.804321\n",
      "3b4edb5 adicionados archivo de configuracion y requerimientos\n",
      "d15fad2 Initial commit\n",
      "##############################################################################################################\n",
      "\n",
      "############################################# COMANDO A EJECUTAR #############################################\n",
      "git branch\n",
      "####################################### RESULTADO DE COMANDO EJECUTADO #######################################\n",
      "  cherry_pick_branch\n",
      "* hotfix_branch\n",
      "  main\n",
      "  multi_commits\n",
      "##############################################################################################################\n",
      "\n"
     ]
    }
   ],
   "source": [
    "comando = 'git log --oneline hotfix_branch'\n",
    "ejecutar_comando_git(comando)\n",
    "\n",
    "\n",
    "comando = 'git log --oneline cherry_pick_branch'\n",
    "ejecutar_comando_git(comando)\n",
    "ejecutar_comando_shell()"
   ]
  },
  {
   "cell_type": "markdown",
   "id": "775577c8-cf19-4db9-bad3-05a13383868b",
   "metadata": {},
   "source": [
    "## CHERRY PICK A UN COMMIT DE LA RAMA **CHERRY_PICK** PARA UNIRLA CON LA RAMA ACTUAL **HOTFIX**"
   ]
  },
  {
   "cell_type": "code",
   "execution_count": 72,
   "id": "07bedf2b-ca47-488b-a2d6-98be3a618aa0",
   "metadata": {
    "tags": []
   },
   "outputs": [
    {
     "name": "stdout",
     "output_type": "stream",
     "text": [
      "############################################# COMANDO A EJECUTAR #############################################\n",
      "git cherry-pick 9ac61f3\n",
      "####################################### RESULTADO DE COMANDO EJECUTADO #######################################\n",
      "[hotfix_branch d210b60] ADICIONADO ARCHIVO main.py 2023-03-19 19:16:06.804321\n",
      " Date: Sun Mar 19 19:16:09 2023 -0500\n",
      " 1 file changed, 1 insertion(+)\n",
      " create mode 100644 main.py\n",
      "##############################################################################################################\n",
      "\n",
      "############################################# COMANDO A EJECUTAR #############################################\n",
      "git status\n",
      "####################################### RESULTADO DE COMANDO EJECUTADO #######################################\n",
      "On branch hotfix_branch\n",
      "Your branch is ahead of 'origin/hotfix_branch' by 1 commit.\n",
      "  (use \"git push\" to publish your local commits)\n",
      "\n",
      "nothing to commit, working tree clean\n",
      "##############################################################################################################\n",
      "\n"
     ]
    }
   ],
   "source": [
    "comando = 'git cherry-pick 9ac61f3' # archivo main.py\n",
    "ejecutar_comando_git(comando)\n",
    "\n",
    "comando = 'git status'\n",
    "ejecutar_comando_git(comando)"
   ]
  },
  {
   "cell_type": "code",
   "execution_count": 73,
   "id": "af52d216-167d-4120-a017-613b8df9a61a",
   "metadata": {
    "tags": []
   },
   "outputs": [
    {
     "name": "stdout",
     "output_type": "stream",
     "text": [
      "############################################# COMANDO A EJECUTAR #############################################\n",
      "git push origin\n",
      "####################################### RESULTADO DE COMANDO EJECUTADO #######################################\n",
      "##############################################################################################################\n",
      "\n",
      "############################################# COMANDO A EJECUTAR #############################################\n",
      "git status\n",
      "####################################### RESULTADO DE COMANDO EJECUTADO #######################################\n",
      "On branch hotfix_branch\n",
      "Your branch is up to date with 'origin/hotfix_branch'.\n",
      "\n",
      "nothing to commit, working tree clean\n",
      "##############################################################################################################\n",
      "\n"
     ]
    }
   ],
   "source": [
    "comando = 'git push origin'\n",
    "ejecutar_comando_git(comando)\n",
    "\n",
    "comando = 'git status'\n",
    "ejecutar_comando_git(comando)"
   ]
  },
  {
   "cell_type": "markdown",
   "id": "b18cdbb4-54b2-4efa-b635-45e79343f352",
   "metadata": {
    "tags": []
   },
   "source": [
    "#### ELIMINAR LA RAMA EN EL REPOSITORIO DE ORIGEN O REMOTO"
   ]
  },
  {
   "cell_type": "code",
   "execution_count": 74,
   "id": "41e95932-aa90-4caf-9d5b-2fc5e1148a72",
   "metadata": {
    "scrolled": true,
    "tags": []
   },
   "outputs": [
    {
     "name": "stdout",
     "output_type": "stream",
     "text": [
      "############################################# COMANDO A EJECUTAR #############################################\n",
      "git checkout main\n",
      "####################################### RESULTADO DE COMANDO EJECUTADO #######################################\n",
      "Your branch is up to date with 'origin/main'.\n",
      "##############################################################################################################\n",
      "\n",
      "############################################# COMANDO A EJECUTAR #############################################\n",
      "git push origin -d cherry_pick_branch\n",
      "####################################### RESULTADO DE COMANDO EJECUTADO #######################################\n",
      "##############################################################################################################\n",
      "\n",
      "############################################# COMANDO A EJECUTAR #############################################\n",
      "git branch -D cherry_pick_branch\n",
      "####################################### RESULTADO DE COMANDO EJECUTADO #######################################\n",
      "Deleted branch cherry_pick_branch (was 5218299).\n",
      "##############################################################################################################\n",
      "\n",
      "############################################# COMANDO A EJECUTAR #############################################\n",
      "git push origin -d hotfix_branch\n",
      "####################################### RESULTADO DE COMANDO EJECUTADO #######################################\n",
      "##############################################################################################################\n",
      "\n",
      "############################################# COMANDO A EJECUTAR #############################################\n",
      "git branch -D hotfix_branch\n",
      "####################################### RESULTADO DE COMANDO EJECUTADO #######################################\n",
      "Deleted branch hotfix_branch (was d210b60).\n",
      "##############################################################################################################\n",
      "\n",
      "############################################# COMANDO A EJECUTAR #############################################\n",
      "git branch -a\n",
      "####################################### RESULTADO DE COMANDO EJECUTADO #######################################\n",
      "* main\n",
      "  multi_commits\n",
      "  remotes/origin/HEAD -> origin/main\n",
      "  remotes/origin/main\n",
      "  remotes/origin/multi_commits\n",
      "  remotes/origin/tag_branch\n",
      "##############################################################################################################\n",
      "\n"
     ]
    }
   ],
   "source": [
    "comando = 'git checkout main'\n",
    "ejecutar_comando_git(comando)\n",
    "\n",
    "for nombre_rama in nombre_ramas:\n",
    "    comando = 'git push origin -d {nombre_rama}'.format(nombre_rama=nombre_rama)\n",
    "    ejecutar_comando_git(comando)\n",
    "\n",
    "    comando = 'git branch -D {nombre_rama}'.format(nombre_rama=nombre_rama)\n",
    "    ejecutar_comando_git(comando)\n",
    "\n",
    "comando = 'git branch -a'\n",
    "ejecutar_comando_git(comando)"
   ]
  },
  {
   "cell_type": "markdown",
   "id": "7ed89905-a846-46cf-9175-dd32aee6b39a",
   "metadata": {},
   "source": [
    "# <center> TAGs <br>https://github.com/JorgeCardona/comandos_git</br></center>"
   ]
  },
  {
   "cell_type": "code",
   "execution_count": 76,
   "id": "1106d9e3-269d-4a57-9d2c-4ac9c2db5eb9",
   "metadata": {
    "scrolled": true,
    "tags": []
   },
   "outputs": [
    {
     "name": "stdout",
     "output_type": "stream",
     "text": [
      "############################################# COMANDO A EJECUTAR #############################################\n",
      "git restore .\n",
      "####################################### RESULTADO DE COMANDO EJECUTADO #######################################\n",
      "##############################################################################################################\n",
      "\n",
      "############################################# COMANDO A EJECUTAR #############################################\n",
      "git checkout main\n",
      "####################################### RESULTADO DE COMANDO EJECUTADO #######################################\n",
      "Your branch is up to date with 'origin/main'.\n",
      "##############################################################################################################\n",
      "\n",
      "############################################# COMANDO A EJECUTAR #############################################\n",
      "git branch -a\n",
      "####################################### RESULTADO DE COMANDO EJECUTADO #######################################\n",
      "* main\n",
      "  multi_commits\n",
      "  remotes/origin/HEAD -> origin/main\n",
      "  remotes/origin/main\n",
      "  remotes/origin/multi_commits\n",
      "##############################################################################################################\n",
      "\n",
      "############################################# COMANDO A EJECUTAR #############################################\n",
      "git branch -a\n",
      "####################################### RESULTADO DE COMANDO EJECUTADO #######################################\n",
      "* main\n",
      "  multi_commits\n",
      "  remotes/origin/HEAD -> origin/main\n",
      "  remotes/origin/main\n",
      "  remotes/origin/multi_commits\n",
      "##############################################################################################################\n",
      "\n",
      "############################################# COMANDO A EJECUTAR #############################################\n",
      "git checkout -b tag_branch\n",
      "####################################### RESULTADO DE COMANDO EJECUTADO #######################################\n",
      "##############################################################################################################\n",
      "\n",
      "############################################# COMANDO A EJECUTAR #############################################\n",
      "git branch\n",
      "####################################### RESULTADO DE COMANDO EJECUTADO #######################################\n",
      "  main\n",
      "  multi_commits\n",
      "* tag_branch\n",
      "##############################################################################################################\n",
      "\n",
      "lista_de_archivos = ['info.txt', 'Dockerfile', 'Manifest.yaml', 'imagen.png', 'main.py', 'connection.java', 'calculos.c', 'addon.php', 'utils.gif', 'query.sql', 'dataset.avro', 'link.vs']\n",
      "############################################# COMANDO A EJECUTAR #############################################\n",
      "echo 1679272177.621001 >> info.txt\n",
      "####################################### RESULTADO DE COMANDO EJECUTADO #######################################\n",
      "##############################################################################################################\n",
      "\n",
      "############################################# COMANDO A EJECUTAR #############################################\n",
      "echo 1679272177.776787 >> Dockerfile\n",
      "####################################### RESULTADO DE COMANDO EJECUTADO #######################################\n",
      "##############################################################################################################\n",
      "\n",
      "############################################# COMANDO A EJECUTAR #############################################\n",
      "echo 1679272177.925599 >> Manifest.yaml\n",
      "####################################### RESULTADO DE COMANDO EJECUTADO #######################################\n",
      "##############################################################################################################\n",
      "\n",
      "############################################# COMANDO A EJECUTAR #############################################\n",
      "echo 1679272178.061228 >> imagen.png\n",
      "####################################### RESULTADO DE COMANDO EJECUTADO #######################################\n",
      "##############################################################################################################\n",
      "\n",
      "############################################# COMANDO A EJECUTAR #############################################\n",
      "echo 1679272178.189998 >> main.py\n",
      "####################################### RESULTADO DE COMANDO EJECUTADO #######################################\n",
      "##############################################################################################################\n",
      "\n",
      "############################################# COMANDO A EJECUTAR #############################################\n",
      "echo 1679272178.334227 >> connection.java\n",
      "####################################### RESULTADO DE COMANDO EJECUTADO #######################################\n",
      "##############################################################################################################\n",
      "\n",
      "############################################# COMANDO A EJECUTAR #############################################\n",
      "echo 1679272178.4868 >> calculos.c\n",
      "####################################### RESULTADO DE COMANDO EJECUTADO #######################################\n",
      "##############################################################################################################\n",
      "\n",
      "############################################# COMANDO A EJECUTAR #############################################\n",
      "echo 1679272178.625998 >> addon.php\n",
      "####################################### RESULTADO DE COMANDO EJECUTADO #######################################\n",
      "##############################################################################################################\n",
      "\n",
      "############################################# COMANDO A EJECUTAR #############################################\n",
      "echo 1679272178.761123 >> utils.gif\n",
      "####################################### RESULTADO DE COMANDO EJECUTADO #######################################\n",
      "##############################################################################################################\n",
      "\n",
      "############################################# COMANDO A EJECUTAR #############################################\n",
      "echo 1679272178.909308 >> query.sql\n",
      "####################################### RESULTADO DE COMANDO EJECUTADO #######################################\n",
      "##############################################################################################################\n",
      "\n",
      "############################################# COMANDO A EJECUTAR #############################################\n",
      "echo 1679272179.046956 >> dataset.avro\n",
      "####################################### RESULTADO DE COMANDO EJECUTADO #######################################\n",
      "##############################################################################################################\n",
      "\n",
      "############################################# COMANDO A EJECUTAR #############################################\n",
      "echo 1679272179.188523 >> link.vs\n",
      "####################################### RESULTADO DE COMANDO EJECUTADO #######################################\n",
      "##############################################################################################################\n",
      "\n",
      "############################################# COMANDO A EJECUTAR #############################################\n",
      "git add info.txt\n",
      "####################################### RESULTADO DE COMANDO EJECUTADO #######################################\n",
      "##############################################################################################################\n",
      "\n",
      "############################################# COMANDO A EJECUTAR #############################################\n",
      "git commit -m \"ADICIONADO ARCHIVO info.txt 2023-03-19 19:29:37.520861\"\n",
      "####################################### RESULTADO DE COMANDO EJECUTADO #######################################\n",
      "[tag_branch 8a313d4] ADICIONADO ARCHIVO info.txt 2023-03-19 19:29:37.520861\n",
      " 1 file changed, 1 insertion(+)\n",
      " create mode 100644 info.txt\n",
      "##############################################################################################################\n",
      "\n",
      "############################################# COMANDO A EJECUTAR #############################################\n",
      "git add Dockerfile\n",
      "####################################### RESULTADO DE COMANDO EJECUTADO #######################################\n",
      "##############################################################################################################\n",
      "\n",
      "############################################# COMANDO A EJECUTAR #############################################\n",
      "git commit -m \"ADICIONADO ARCHIVO Dockerfile 2023-03-19 19:29:37.520861\"\n",
      "####################################### RESULTADO DE COMANDO EJECUTADO #######################################\n",
      "[tag_branch 4053e0f] ADICIONADO ARCHIVO Dockerfile 2023-03-19 19:29:37.520861\n",
      " 1 file changed, 1 insertion(+)\n",
      " create mode 100644 Dockerfile\n",
      "##############################################################################################################\n",
      "\n",
      "############################################# COMANDO A EJECUTAR #############################################\n",
      "git add Manifest.yaml\n",
      "####################################### RESULTADO DE COMANDO EJECUTADO #######################################\n",
      "##############################################################################################################\n",
      "\n",
      "############################################# COMANDO A EJECUTAR #############################################\n",
      "git commit -m \"ADICIONADO ARCHIVO Manifest.yaml 2023-03-19 19:29:37.520861\"\n",
      "####################################### RESULTADO DE COMANDO EJECUTADO #######################################\n",
      "[tag_branch 80764a8] ADICIONADO ARCHIVO Manifest.yaml 2023-03-19 19:29:37.520861\n",
      " 1 file changed, 1 insertion(+)\n",
      " create mode 100644 Manifest.yaml\n",
      "##############################################################################################################\n",
      "\n",
      "############################################# COMANDO A EJECUTAR #############################################\n",
      "git add imagen.png\n",
      "####################################### RESULTADO DE COMANDO EJECUTADO #######################################\n",
      "##############################################################################################################\n",
      "\n",
      "############################################# COMANDO A EJECUTAR #############################################\n",
      "git commit -m \"ADICIONADO ARCHIVO imagen.png 2023-03-19 19:29:37.520861\"\n",
      "####################################### RESULTADO DE COMANDO EJECUTADO #######################################\n",
      "[tag_branch e77c3be] ADICIONADO ARCHIVO imagen.png 2023-03-19 19:29:37.520861\n",
      " 1 file changed, 1 insertion(+)\n",
      " create mode 100644 imagen.png\n",
      "##############################################################################################################\n",
      "\n",
      "############################################# COMANDO A EJECUTAR #############################################\n",
      "git add main.py\n",
      "####################################### RESULTADO DE COMANDO EJECUTADO #######################################\n",
      "##############################################################################################################\n",
      "\n",
      "############################################# COMANDO A EJECUTAR #############################################\n",
      "git commit -m \"ADICIONADO ARCHIVO main.py 2023-03-19 19:29:37.520861\"\n",
      "####################################### RESULTADO DE COMANDO EJECUTADO #######################################\n",
      "[tag_branch a9c47e8] ADICIONADO ARCHIVO main.py 2023-03-19 19:29:37.520861\n",
      " 1 file changed, 1 insertion(+)\n",
      " create mode 100644 main.py\n",
      "##############################################################################################################\n",
      "\n",
      "############################################# COMANDO A EJECUTAR #############################################\n",
      "git add connection.java\n",
      "####################################### RESULTADO DE COMANDO EJECUTADO #######################################\n",
      "##############################################################################################################\n",
      "\n",
      "############################################# COMANDO A EJECUTAR #############################################\n",
      "git commit -m \"ADICIONADO ARCHIVO connection.java 2023-03-19 19:29:37.520861\"\n",
      "####################################### RESULTADO DE COMANDO EJECUTADO #######################################\n",
      "[tag_branch 7f20377] ADICIONADO ARCHIVO connection.java 2023-03-19 19:29:37.520861\n",
      " 1 file changed, 1 insertion(+)\n",
      " create mode 100644 connection.java\n",
      "##############################################################################################################\n",
      "\n",
      "############################################# COMANDO A EJECUTAR #############################################\n",
      "git add calculos.c\n",
      "####################################### RESULTADO DE COMANDO EJECUTADO #######################################\n",
      "##############################################################################################################\n",
      "\n",
      "############################################# COMANDO A EJECUTAR #############################################\n",
      "git commit -m \"ADICIONADO ARCHIVO calculos.c 2023-03-19 19:29:37.520861\"\n",
      "####################################### RESULTADO DE COMANDO EJECUTADO #######################################\n",
      "[tag_branch 62373f4] ADICIONADO ARCHIVO calculos.c 2023-03-19 19:29:37.520861\n",
      " 1 file changed, 1 insertion(+)\n",
      " create mode 100644 calculos.c\n",
      "##############################################################################################################\n",
      "\n",
      "############################################# COMANDO A EJECUTAR #############################################\n",
      "git add addon.php\n",
      "####################################### RESULTADO DE COMANDO EJECUTADO #######################################\n",
      "##############################################################################################################\n",
      "\n",
      "############################################# COMANDO A EJECUTAR #############################################\n",
      "git commit -m \"ADICIONADO ARCHIVO addon.php 2023-03-19 19:29:37.520861\"\n",
      "####################################### RESULTADO DE COMANDO EJECUTADO #######################################\n",
      "[tag_branch 9ffb816] ADICIONADO ARCHIVO addon.php 2023-03-19 19:29:37.520861\n",
      " 1 file changed, 1 insertion(+)\n",
      " create mode 100644 addon.php\n",
      "##############################################################################################################\n",
      "\n",
      "############################################# COMANDO A EJECUTAR #############################################\n",
      "git add utils.gif\n",
      "####################################### RESULTADO DE COMANDO EJECUTADO #######################################\n",
      "##############################################################################################################\n",
      "\n",
      "############################################# COMANDO A EJECUTAR #############################################\n",
      "git commit -m \"ADICIONADO ARCHIVO utils.gif 2023-03-19 19:29:37.520861\"\n",
      "####################################### RESULTADO DE COMANDO EJECUTADO #######################################\n",
      "[tag_branch 3d1af73] ADICIONADO ARCHIVO utils.gif 2023-03-19 19:29:37.520861\n",
      " 1 file changed, 1 insertion(+)\n",
      " create mode 100644 utils.gif\n",
      "##############################################################################################################\n",
      "\n",
      "############################################# COMANDO A EJECUTAR #############################################\n",
      "git add query.sql\n",
      "####################################### RESULTADO DE COMANDO EJECUTADO #######################################\n",
      "##############################################################################################################\n",
      "\n",
      "############################################# COMANDO A EJECUTAR #############################################\n",
      "git commit -m \"ADICIONADO ARCHIVO query.sql 2023-03-19 19:29:37.520861\"\n",
      "####################################### RESULTADO DE COMANDO EJECUTADO #######################################\n",
      "[tag_branch 4b269ec] ADICIONADO ARCHIVO query.sql 2023-03-19 19:29:37.520861\n",
      " 1 file changed, 1 insertion(+)\n",
      " create mode 100644 query.sql\n",
      "##############################################################################################################\n",
      "\n",
      "############################################# COMANDO A EJECUTAR #############################################\n",
      "git add dataset.avro\n",
      "####################################### RESULTADO DE COMANDO EJECUTADO #######################################\n",
      "##############################################################################################################\n",
      "\n",
      "############################################# COMANDO A EJECUTAR #############################################\n",
      "git commit -m \"ADICIONADO ARCHIVO dataset.avro 2023-03-19 19:29:37.520861\"\n",
      "####################################### RESULTADO DE COMANDO EJECUTADO #######################################\n",
      "[tag_branch 49070d0] ADICIONADO ARCHIVO dataset.avro 2023-03-19 19:29:37.520861\n",
      " 1 file changed, 1 insertion(+)\n",
      " create mode 100644 dataset.avro\n",
      "##############################################################################################################\n",
      "\n",
      "############################################# COMANDO A EJECUTAR #############################################\n",
      "git add link.vs\n",
      "####################################### RESULTADO DE COMANDO EJECUTADO #######################################\n",
      "##############################################################################################################\n",
      "\n",
      "############################################# COMANDO A EJECUTAR #############################################\n",
      "git commit -m \"ADICIONADO ARCHIVO link.vs 2023-03-19 19:29:37.520861\"\n",
      "####################################### RESULTADO DE COMANDO EJECUTADO #######################################\n",
      "[tag_branch c9310de] ADICIONADO ARCHIVO link.vs 2023-03-19 19:29:37.520861\n",
      " 1 file changed, 1 insertion(+)\n",
      " create mode 100644 link.vs\n",
      "##############################################################################################################\n",
      "\n",
      "############################################# COMANDO A EJECUTAR #############################################\n",
      "git status\n",
      "####################################### RESULTADO DE COMANDO EJECUTADO #######################################\n",
      "On branch tag_branch\n",
      "nothing to commit, working tree clean\n",
      "##############################################################################################################\n",
      "\n",
      "############################################# COMANDO A EJECUTAR #############################################\n",
      "git log --graph --oneline\n",
      "####################################### RESULTADO DE COMANDO EJECUTADO #######################################\n",
      "* c9310de ADICIONADO ARCHIVO link.vs 2023-03-19 19:29:37.520861\n",
      "* 49070d0 ADICIONADO ARCHIVO dataset.avro 2023-03-19 19:29:37.520861\n",
      "* 4b269ec ADICIONADO ARCHIVO query.sql 2023-03-19 19:29:37.520861\n",
      "* 3d1af73 ADICIONADO ARCHIVO utils.gif 2023-03-19 19:29:37.520861\n",
      "* 9ffb816 ADICIONADO ARCHIVO addon.php 2023-03-19 19:29:37.520861\n",
      "* 62373f4 ADICIONADO ARCHIVO calculos.c 2023-03-19 19:29:37.520861\n",
      "* 7f20377 ADICIONADO ARCHIVO connection.java 2023-03-19 19:29:37.520861\n",
      "* a9c47e8 ADICIONADO ARCHIVO main.py 2023-03-19 19:29:37.520861\n",
      "* e77c3be ADICIONADO ARCHIVO imagen.png 2023-03-19 19:29:37.520861\n",
      "* 80764a8 ADICIONADO ARCHIVO Manifest.yaml 2023-03-19 19:29:37.520861\n",
      "* 4053e0f ADICIONADO ARCHIVO Dockerfile 2023-03-19 19:29:37.520861\n",
      "* 8a313d4 ADICIONADO ARCHIVO info.txt 2023-03-19 19:29:37.520861\n",
      "* 3b4edb5 adicionados archivo de configuracion y requerimientos\n",
      "* d15fad2 Initial commit\n",
      "##############################################################################################################\n",
      "\n",
      "############################################# COMANDO A EJECUTAR #############################################\n",
      "git push --set-upstream origin tag_branch\n",
      "####################################### RESULTADO DE COMANDO EJECUTADO #######################################\n",
      "Branch 'tag_branch' set up to track remote branch 'tag_branch' from 'origin'.\n",
      "##############################################################################################################\n",
      "\n",
      "############################################# COMANDO A EJECUTAR #############################################\n",
      "git branch\n",
      "####################################### RESULTADO DE COMANDO EJECUTADO #######################################\n",
      "  main\n",
      "  multi_commits\n",
      "* tag_branch\n",
      "##############################################################################################################\n",
      "\n"
     ]
    }
   ],
   "source": [
    "nombre_rama = 'tag_branch'\n",
    "generar_archivos_y_hacer_commit(nombre_rama=nombre_rama)"
   ]
  },
  {
   "cell_type": "markdown",
   "id": "f9101b9b-478a-4129-9df9-cd989868c4d1",
   "metadata": {},
   "source": [
    "### CREAR UN TAG"
   ]
  },
  {
   "cell_type": "code",
   "execution_count": 77,
   "id": "01d3649c-ee90-4b90-bbdb-d742ad2b8742",
   "metadata": {
    "tags": []
   },
   "outputs": [
    {
     "name": "stdout",
     "output_type": "stream",
     "text": [
      "############################################# COMANDO A EJECUTAR #############################################\n",
      "git tag  v0.0.0 -m \"versión Inicial\"\n",
      "####################################### RESULTADO DE COMANDO EJECUTADO #######################################\n",
      "##############################################################################################################\n",
      "\n",
      "############################################# COMANDO A EJECUTAR #############################################\n",
      "git tag\n",
      "####################################### RESULTADO DE COMANDO EJECUTADO #######################################\n",
      "v0.0.0\n",
      "##############################################################################################################\n",
      "\n"
     ]
    }
   ],
   "source": [
    "nombre_tag = 'v0.0.0'\n",
    "comando = 'git tag  {nombre_tag} -m \"versión Inicial\"'.format(nombre_tag=nombre_tag)\n",
    "ejecutar_comando_git(comando)\n",
    "\n",
    "comando = 'git tag'\n",
    "ejecutar_comando_git(comando)"
   ]
  },
  {
   "cell_type": "markdown",
   "id": "b223e4b0-233b-4ac4-871c-434e0fc368c0",
   "metadata": {},
   "source": [
    "### LISTAR LOS TAGs LOCALES"
   ]
  },
  {
   "cell_type": "code",
   "execution_count": 78,
   "id": "861b023c-39bc-47a7-b6a9-1b3d1de59b10",
   "metadata": {
    "tags": []
   },
   "outputs": [
    {
     "name": "stdout",
     "output_type": "stream",
     "text": [
      "############################################# COMANDO A EJECUTAR #############################################\n",
      "git tag\n",
      "####################################### RESULTADO DE COMANDO EJECUTADO #######################################\n",
      "v0.0.0\n",
      "##############################################################################################################\n",
      "\n"
     ]
    }
   ],
   "source": [
    "comando = 'git tag'\n",
    "ejecutar_comando_git(comando)"
   ]
  },
  {
   "cell_type": "markdown",
   "id": "dc27fb1b-3409-4dfa-9a0e-140622be4a5f",
   "metadata": {},
   "source": [
    "### ELIMINAR UN TAG LOCAL"
   ]
  },
  {
   "cell_type": "code",
   "execution_count": 79,
   "id": "45899fd1-ead0-477e-ab13-a73f5c43a0dd",
   "metadata": {
    "tags": []
   },
   "outputs": [
    {
     "name": "stdout",
     "output_type": "stream",
     "text": [
      "############################################# COMANDO A EJECUTAR #############################################\n",
      "git tag -d v0.0.0\n",
      "####################################### RESULTADO DE COMANDO EJECUTADO #######################################\n",
      "Deleted tag 'v0.0.0' (was fd8bea6)\n",
      "##############################################################################################################\n",
      "\n",
      "############################################# COMANDO A EJECUTAR #############################################\n",
      "git tag\n",
      "####################################### RESULTADO DE COMANDO EJECUTADO #######################################\n",
      "##############################################################################################################\n",
      "\n"
     ]
    }
   ],
   "source": [
    "comando = 'git tag -d {nombre_tag}'.format(nombre_tag=nombre_tag)\n",
    "ejecutar_comando_git(comando)\n",
    "\n",
    "comando = 'git tag'\n",
    "ejecutar_comando_git(comando)"
   ]
  },
  {
   "cell_type": "markdown",
   "id": "d8dd2d33-3365-4ab5-8203-4da985e4581c",
   "metadata": {
    "tags": []
   },
   "source": [
    "### CREAR MULTIPLES TAGs"
   ]
  },
  {
   "cell_type": "code",
   "execution_count": 80,
   "id": "b94e2bc8-287d-49bf-af0c-b1ea05f5903e",
   "metadata": {
    "scrolled": true,
    "tags": []
   },
   "outputs": [
    {
     "name": "stdout",
     "output_type": "stream",
     "text": [
      "############################################# COMANDO A EJECUTAR #############################################\n",
      "git checkout main\"\n",
      "####################################### RESULTADO DE COMANDO EJECUTADO #######################################\n",
      "Your branch is up to date with 'origin/main'.\n",
      "##############################################################################################################\n",
      "\n",
      "############################################# COMANDO A EJECUTAR #############################################\n",
      "git tag v0.0.0_main -m \"version 0 del TAG\"\n",
      "####################################### RESULTADO DE COMANDO EJECUTADO #######################################\n",
      "##############################################################################################################\n",
      "\n",
      "############################################# COMANDO A EJECUTAR #############################################\n",
      "git checkout multi_commits\"\n",
      "####################################### RESULTADO DE COMANDO EJECUTADO #######################################\n",
      "Your branch is up to date with 'origin/multi_commits'.\n",
      "##############################################################################################################\n",
      "\n",
      "############################################# COMANDO A EJECUTAR #############################################\n",
      "git tag v0.0.1_multi_commits -m \"version 1 del TAG\"\n",
      "####################################### RESULTADO DE COMANDO EJECUTADO #######################################\n",
      "##############################################################################################################\n",
      "\n",
      "############################################# COMANDO A EJECUTAR #############################################\n",
      "git checkout tag_branch\"\n",
      "####################################### RESULTADO DE COMANDO EJECUTADO #######################################\n",
      "Your branch is up to date with 'origin/tag_branch'.\n",
      "##############################################################################################################\n",
      "\n",
      "############################################# COMANDO A EJECUTAR #############################################\n",
      "git tag v0.0.2_tag_branch -m \"version 2 del TAG\"\n",
      "####################################### RESULTADO DE COMANDO EJECUTADO #######################################\n",
      "##############################################################################################################\n",
      "\n",
      "############################################# COMANDO A EJECUTAR #############################################\n",
      "git tag\n",
      "####################################### RESULTADO DE COMANDO EJECUTADO #######################################\n",
      "v0.0.0_main\n",
      "v0.0.1_multi_commits\n",
      "v0.0.2_tag_branch\n",
      "##############################################################################################################\n",
      "\n"
     ]
    }
   ],
   "source": [
    "lista_ramas_locales = obtener_lista_nombres_ramas_git()\n",
    "\n",
    "for indice, rama in enumerate(lista_ramas_locales):\n",
    " \n",
    "    #cambia de rama para tener el contenido especifico de esa rama en el TAG\n",
    "    comando = 'git checkout {rama}\"'.format(rama=rama)\n",
    "    ejecutar_comando_git(comando)\n",
    "    \n",
    "    # genera el nombre que tendra el TAG\n",
    "    nombre_tag = 'v0.0.{indice}_{rama}'.format(rama=rama, indice=indice)\n",
    "    comando = 'git tag {nombre_tag} -m \"version {indice} del TAG\"'.format(nombre_tag=nombre_tag, indice=indice)\n",
    "    ejecutar_comando_git(comando)\n",
    "\n",
    "comando = 'git tag'\n",
    "ejecutar_comando_git(comando)"
   ]
  },
  {
   "cell_type": "markdown",
   "id": "83bf163d-199f-49b0-a309-856ad5f5514c",
   "metadata": {},
   "source": [
    "### LISTAR LOS TAGs Y VER SU DESCRIPCION"
   ]
  },
  {
   "cell_type": "code",
   "execution_count": 81,
   "id": "7d71ebff-c95b-4efb-83e3-d3c9f4c7bdf1",
   "metadata": {
    "tags": []
   },
   "outputs": [
    {
     "name": "stdout",
     "output_type": "stream",
     "text": [
      "############################################# COMANDO A EJECUTAR #############################################\n",
      "git tag -n\n",
      "####################################### RESULTADO DE COMANDO EJECUTADO #######################################\n",
      "v0.0.0_main     version 0 del TAG\n",
      "v0.0.1_multi_commits version 1 del TAG\n",
      "v0.0.2_tag_branch version 2 del TAG\n",
      "##############################################################################################################\n",
      "\n"
     ]
    }
   ],
   "source": [
    "comando = 'git tag -n'\n",
    "ejecutar_comando_git(comando)"
   ]
  },
  {
   "cell_type": "markdown",
   "id": "75dd5833-b4c6-43cf-9b35-31ad5c42fcb9",
   "metadata": {},
   "source": [
    "### PUBLICAR UN TAG ESPECIFICO A UN REPOSITORIO REMOTO <br>https://github.com/JorgeCardona/comandos_git</br>"
   ]
  },
  {
   "cell_type": "code",
   "execution_count": 82,
   "id": "92fef3aa-ffee-4f9b-bf5d-af7ec1396ddf",
   "metadata": {
    "scrolled": true,
    "tags": []
   },
   "outputs": [
    {
     "name": "stdout",
     "output_type": "stream",
     "text": [
      "############################################# COMANDO A EJECUTAR #############################################\n",
      "git push origin v0.0.0_main\n",
      "####################################### RESULTADO DE COMANDO EJECUTADO #######################################\n",
      "##############################################################################################################\n",
      "\n"
     ]
    }
   ],
   "source": [
    "for indice, rama in enumerate([lista_ramas_locales[0]]):\n",
    "    \n",
    "    nombre_tag = 'v0.0.{indice}_{rama}'.format(rama=rama, indice=indice)\n",
    "    comando = comando = 'git push origin {nombre_tag}'.format(nombre_tag=nombre_tag)\n",
    "    ejecutar_comando_git(comando)"
   ]
  },
  {
   "cell_type": "markdown",
   "id": "394c82ec-862f-4f9c-837e-26bd1a1cb9b3",
   "metadata": {},
   "source": [
    "### LISTAR LOS TAGs REMOTOS"
   ]
  },
  {
   "cell_type": "code",
   "execution_count": 83,
   "id": "2912578c-ac46-4c71-91f6-3c7f98f1d0cb",
   "metadata": {
    "tags": []
   },
   "outputs": [
    {
     "name": "stdout",
     "output_type": "stream",
     "text": [
      "############################################# COMANDO A EJECUTAR #############################################\n",
      "git ls-remote --tags\n",
      "####################################### RESULTADO DE COMANDO EJECUTADO #######################################\n",
      "ba72b12c14a728e3f44639e17e0394705d10574c\trefs/tags/v0.0.0_main\n",
      "3b4edb5a785dcc5841b35cd2ad93033cd29cb730\trefs/tags/v0.0.0_main^{}\n",
      "##############################################################################################################\n",
      "\n"
     ]
    }
   ],
   "source": [
    "comando = 'git ls-remote --tags'\n",
    "ejecutar_comando_git(comando)"
   ]
  },
  {
   "cell_type": "markdown",
   "id": "8378e5d7-1469-4db9-b56f-2417b7720cd3",
   "metadata": {},
   "source": [
    "### PUBLICAR TODOS LOS TAGs NO PUBLICADOS EN UN SOLO PUSH AL RESPOSITORIO REMOTO"
   ]
  },
  {
   "cell_type": "code",
   "execution_count": 84,
   "id": "b098f775-2118-4c64-8dbe-93bba7f1cb05",
   "metadata": {
    "tags": []
   },
   "outputs": [
    {
     "name": "stdout",
     "output_type": "stream",
     "text": [
      "############################################# COMANDO A EJECUTAR #############################################\n",
      "git push --tags\n",
      "####################################### RESULTADO DE COMANDO EJECUTADO #######################################\n",
      "##############################################################################################################\n",
      "\n",
      "############################################# COMANDO A EJECUTAR #############################################\n",
      "git ls-remote --tags\n",
      "####################################### RESULTADO DE COMANDO EJECUTADO #######################################\n",
      "ba72b12c14a728e3f44639e17e0394705d10574c\trefs/tags/v0.0.0_main\n",
      "3b4edb5a785dcc5841b35cd2ad93033cd29cb730\trefs/tags/v0.0.0_main^{}\n",
      "2598a027c97f15e3d90340562aeb2454ea00edf4\trefs/tags/v0.0.1_multi_commits\n",
      "67e732fc8765f006f2ff66ab2aa80ab470795e25\trefs/tags/v0.0.1_multi_commits^{}\n",
      "77d28c603d5977fb341c2b760960d2958bd3aece\trefs/tags/v0.0.2_tag_branch\n",
      "c9310dec1d5134b7c2e85eafc6cce120a6192808\trefs/tags/v0.0.2_tag_branch^{}\n",
      "##############################################################################################################\n",
      "\n"
     ]
    }
   ],
   "source": [
    "comando = 'git push --tags'\n",
    "ejecutar_comando_git(comando)\n",
    "\n",
    "comando = 'git ls-remote --tags'\n",
    "ejecutar_comando_git(comando)"
   ]
  },
  {
   "cell_type": "markdown",
   "id": "5d3f4a8a-f31e-40eb-8689-7dfb7e44ca2d",
   "metadata": {},
   "source": [
    "### ELIMINAR LOS TAGs LOCALES Y REMOTOS"
   ]
  },
  {
   "cell_type": "code",
   "execution_count": 85,
   "id": "bdc8d38d-f2ba-42a6-993b-1f268b5b6135",
   "metadata": {
    "scrolled": true,
    "tags": []
   },
   "outputs": [
    {
     "name": "stdout",
     "output_type": "stream",
     "text": [
      "############################################# COMANDO A EJECUTAR #############################################\n",
      "git tag -d v0.0.0_main\n",
      "####################################### RESULTADO DE COMANDO EJECUTADO #######################################\n",
      "Deleted tag 'v0.0.0_main' (was ba72b12)\n",
      "##############################################################################################################\n",
      "\n",
      "############################################# COMANDO A EJECUTAR #############################################\n",
      "git push --delete origin v0.0.0_main\n",
      "####################################### RESULTADO DE COMANDO EJECUTADO #######################################\n",
      "##############################################################################################################\n",
      "\n",
      "############################################# COMANDO A EJECUTAR #############################################\n",
      "git tag -d v0.0.1_multi_commits\n",
      "####################################### RESULTADO DE COMANDO EJECUTADO #######################################\n",
      "Deleted tag 'v0.0.1_multi_commits' (was 2598a02)\n",
      "##############################################################################################################\n",
      "\n",
      "############################################# COMANDO A EJECUTAR #############################################\n",
      "git push --delete origin v0.0.1_multi_commits\n",
      "####################################### RESULTADO DE COMANDO EJECUTADO #######################################\n",
      "##############################################################################################################\n",
      "\n",
      "############################################# COMANDO A EJECUTAR #############################################\n",
      "git tag -d v0.0.2_tag_branch\n",
      "####################################### RESULTADO DE COMANDO EJECUTADO #######################################\n",
      "Deleted tag 'v0.0.2_tag_branch' (was 77d28c6)\n",
      "##############################################################################################################\n",
      "\n",
      "############################################# COMANDO A EJECUTAR #############################################\n",
      "git push --delete origin v0.0.2_tag_branch\n",
      "####################################### RESULTADO DE COMANDO EJECUTADO #######################################\n",
      "##############################################################################################################\n",
      "\n",
      "############################################# COMANDO A EJECUTAR #############################################\n",
      "git tag\n",
      "####################################### RESULTADO DE COMANDO EJECUTADO #######################################\n",
      "##############################################################################################################\n",
      "\n",
      "############################################# COMANDO A EJECUTAR #############################################\n",
      "git ls-remote --tags\n",
      "####################################### RESULTADO DE COMANDO EJECUTADO #######################################\n",
      "##############################################################################################################\n",
      "\n"
     ]
    }
   ],
   "source": [
    "for indice, rama in enumerate(lista_ramas_locales):\n",
    "    \n",
    "    nombre_tag = 'v0.0.{indice}_{rama}'.format(rama=rama, indice=indice)\n",
    "\n",
    "    comando = 'git tag -d {nombre_tag}'.format(nombre_tag=nombre_tag)\n",
    "    ejecutar_comando_git(comando)\n",
    "\n",
    "    comando = 'git push --delete origin {nombre_tag}'.format(nombre_tag=nombre_tag)\n",
    "    ejecutar_comando_git(comando)\n",
    "    \n",
    "comando = 'git tag'\n",
    "ejecutar_comando_git(comando)\n",
    "\n",
    "comando = 'git ls-remote --tags'\n",
    "ejecutar_comando_git(comando)"
   ]
  },
  {
   "cell_type": "markdown",
   "id": "91b10b1c-cd4c-4443-9cd5-88d32112b21e",
   "metadata": {
    "tags": []
   },
   "source": [
    "#### ELIMINAR LA RAMA DEL REPOSITORIO LOCAL Y REMOTO\n"
   ]
  },
  {
   "cell_type": "code",
   "execution_count": 86,
   "id": "378d4731-dbf9-4fac-860c-2ffd2309a846",
   "metadata": {
    "tags": []
   },
   "outputs": [
    {
     "name": "stdout",
     "output_type": "stream",
     "text": [
      "############################################# COMANDO A EJECUTAR #############################################\n",
      "git checkout main\n",
      "####################################### RESULTADO DE COMANDO EJECUTADO #######################################\n",
      "Your branch is up to date with 'origin/main'.\n",
      "##############################################################################################################\n",
      "\n",
      "############################################# COMANDO A EJECUTAR #############################################\n",
      "git push origin -d tag_branch\n",
      "####################################### RESULTADO DE COMANDO EJECUTADO #######################################\n",
      "##############################################################################################################\n",
      "\n",
      "############################################# COMANDO A EJECUTAR #############################################\n",
      "git branch -D tag_branch\n",
      "####################################### RESULTADO DE COMANDO EJECUTADO #######################################\n",
      "Deleted branch tag_branch (was c9310de).\n",
      "##############################################################################################################\n",
      "\n",
      "############################################# COMANDO A EJECUTAR #############################################\n",
      "git branch -a\n",
      "####################################### RESULTADO DE COMANDO EJECUTADO #######################################\n",
      "* main\n",
      "  multi_commits\n",
      "  remotes/origin/HEAD -> origin/main\n",
      "  remotes/origin/main\n",
      "  remotes/origin/multi_commits\n",
      "##############################################################################################################\n",
      "\n"
     ]
    }
   ],
   "source": [
    "comando = 'git checkout main'\n",
    "ejecutar_comando_git(comando)\n",
    "\n",
    "comando = 'git push origin -d {nombre_rama}'.format(nombre_rama=nombre_rama)\n",
    "ejecutar_comando_git(comando)\n",
    "\n",
    "comando = 'git branch -D {nombre_rama}'.format(nombre_rama=nombre_rama)\n",
    "ejecutar_comando_git(comando)\n",
    "\n",
    "comando = 'git branch -a'\n",
    "ejecutar_comando_git(comando)"
   ]
  }
 ],
 "metadata": {
  "kernelspec": {
   "display_name": "Python 3 (ipykernel)",
   "language": "python",
   "name": "python3"
  },
  "language_info": {
   "codemirror_mode": {
    "name": "ipython",
    "version": 3
   },
   "file_extension": ".py",
   "mimetype": "text/x-python",
   "name": "python",
   "nbconvert_exporter": "python",
   "pygments_lexer": "ipython3",
   "version": "3.10.9"
  }
 },
 "nbformat": 4,
 "nbformat_minor": 5
}
