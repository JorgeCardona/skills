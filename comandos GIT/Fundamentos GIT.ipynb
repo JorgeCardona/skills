{
 "cells": [
  {
   "cell_type": "markdown",
   "id": "117af881-9520-4af5-8a58-de68fa815376",
   "metadata": {},
   "source": [
    "# <center> OBTENER LISTA CON LOS NOMBRES DE TODAS LAS RAMAS LOCALES DE UN REPOSITORIO GIT</center>"
   ]
  },
  {
   "cell_type": "code",
   "execution_count": 1,
   "id": "fe1643f8-c7f7-450d-9eea-b30471ce5f98",
   "metadata": {
    "tags": []
   },
   "outputs": [],
   "source": [
    "def obtener_lista_nombres_ramas_git():\n",
    "\n",
    "    stdout = subprocess.check_output('git branch'.split())\n",
    "    out = stdout.decode()\n",
    "    branches = [b.strip('* ') for b in out.splitlines()]\n",
    "    return branches"
   ]
  },
  {
   "cell_type": "markdown",
   "id": "fd638f42-4115-4f96-ae05-3850b1f96754",
   "metadata": {},
   "source": [
    "# <center> EJECUTAR COMANDOS SHELL DESDE FUNCION PYTHON</center>"
   ]
  },
  {
   "cell_type": "code",
   "execution_count": 2,
   "id": "9048c958-a13b-4a78-a4ea-d114c3ce03ca",
   "metadata": {
    "tags": []
   },
   "outputs": [],
   "source": [
    "import subprocess\n",
    "\n",
    "def ejecutar_comando_shell(comando='git branch', response=False):\n",
    "\n",
    "    resultado_comando_ejecutado = subprocess.check_output(comando, shell=True, text=True)\n",
    "    print('############################################# COMANDO A EJECUTAR #############################################')\n",
    "    print(comando)\n",
    "    print('####################################### RESULTADO DE COMANDO EJECUTADO #######################################')\n",
    "    #para evitar el salto de linea usa el parametro end=''\n",
    "    print(resultado_comando_ejecutado, end='')\n",
    "    print('##############################################################################################################')\n",
    "    print()\n",
    "    if response:\n",
    "        return resultado_comando_ejecutado"
   ]
  },
  {
   "cell_type": "markdown",
   "id": "ec3c743a-2536-4113-af63-fcb50b28c333",
   "metadata": {},
   "source": [
    "# <center> FUNCION LAMBDA PARA EJECUTAR COMANDOS GIT</center>"
   ]
  },
  {
   "cell_type": "code",
   "execution_count": 3,
   "id": "b6817bb4-2f33-4200-aa99-84e8c2142711",
   "metadata": {
    "tags": []
   },
   "outputs": [],
   "source": [
    "ejecutar_comando_git = lambda comando : ejecutar_comando_shell(comando)"
   ]
  },
  {
   "cell_type": "markdown",
   "id": "5135c007-43f6-4d24-8eb5-04a8c33a8bb3",
   "metadata": {},
   "source": [
    "# <center> CREAR ARCHIVOS</center>"
   ]
  },
  {
   "cell_type": "code",
   "execution_count": 4,
   "id": "503a1087-7944-4e0f-a3de-fa4853d04deb",
   "metadata": {
    "tags": []
   },
   "outputs": [],
   "source": [
    "import time\n",
    "from datetime import datetime\n",
    "\n",
    "def crear_fecha():\n",
    "    \n",
    "    import time\n",
    "    from datetime import datetime\n",
    "\n",
    "    # detiene el tiempo para que no todos los archivos generados queden con la misma fecha de timestamp\n",
    "    time.sleep(0.1)\n",
    "        \n",
    "    # Getting the current date and time\n",
    "    dt = datetime.now()\n",
    "\n",
    "    # getting the timestamp\n",
    "    ts = datetime.timestamp(dt)\n",
    "\n",
    "    return ts\n",
    "\n",
    "def generar_archivos(todos_los_archivos=True):\n",
    "\n",
    "    lista_de_archivos = ['info.txt','Dockerfile','Manifest.yaml','imagen.png','main.py','connection.java','calculos.c','addon.php','utils.gif','query.sql','dataset.avro','link.vs']\n",
    "    \n",
    "    lista_de_archivos = lista_de_archivos if todos_los_archivos else [lista_de_archivos[0]]\n",
    "    \n",
    "    print('lista_de_archivos = {lista_de_archivos}'.format(lista_de_archivos=lista_de_archivos))\n",
    "    \n",
    "    for archivo in lista_de_archivos:\n",
    "        comando = 'echo {crear_archivo} >> {archivo}'.format(crear_archivo=crear_fecha(), archivo=archivo)\n",
    "        ejecutar_comando_shell(comando)\n",
    "\n",
    "    return lista_de_archivos\n",
    "\n",
    "def modificar_autor_commit(autor='cienciagoku@gmail.com'):\n",
    "    comando = 'git commit --amend --no-edit --author={autor}'.format(autor=autor)\n",
    "    ejecutar_comando_git(comando)\n",
    "            \n",
    "        \n",
    "def crear_commits(total_commits=5, todos_los_archivos=False):\n",
    "    \n",
    "    import random\n",
    "    \n",
    "    for commit_numero in range(total_commits):\n",
    "        \n",
    "        numero_aleatorio = random.randint(1, 10_000_000)\n",
    "        lista_de_archivos = generar_archivos()\n",
    "        archivo_aleatorio = random.choice(lista_de_archivos)\n",
    "        commit_indice = commit_numero + 1\n",
    "\n",
    "        comando = 'git status'\n",
    "        ejecutar_comando_git(comando)\n",
    "\n",
    "        comando = 'git add .'\n",
    "        ejecutar_comando_git(comando)\n",
    "\n",
    "        comando = 'git status'\n",
    "        ejecutar_comando_git(comando)\n",
    "\n",
    "        comando = 'git commit -m \"PRUEBA de COMMIT numero {commit_indice} con fecha {fecha} y valor aleatorio {numero_aleatorio} y contiene el archivo {archivo_aleatorio}\"'.format(commit_indice=commit_indice, numero_aleatorio=numero_aleatorio, fecha=crear_fecha(), archivo_aleatorio=archivo_aleatorio)\n",
    "        ejecutar_comando_git(comando)\n",
    "        \n",
    "        if commit_numero %2 ==0:\n",
    "            modificar_autor_commit()\n",
    "\n",
    "    comando = 'git log --oneline'\n",
    "    ejecutar_comando_git(comando)\n",
    "\n",
    "    comando = 'git status'\n",
    "    ejecutar_comando_git(comando)"
   ]
  },
  {
   "cell_type": "markdown",
   "id": "63baf6e8-15a7-4d78-9216-0071910ae33c",
   "metadata": {},
   "source": [
    "# <center> ELIMINAR ARCHIVOS</center>"
   ]
  },
  {
   "cell_type": "code",
   "execution_count": 5,
   "id": "fbedd993-b081-45e3-b492-94d841d01e9c",
   "metadata": {
    "tags": []
   },
   "outputs": [],
   "source": [
    "def listar_archivos_eliminables_en_directorio():\n",
    "    import os\n",
    "    \n",
    "    listado_de_archivos = os.listdir(directory)\n",
    "    \n",
    "    archivos_eliminables = [archivo for archivo in listado_de_archivos if '.git' not in archivo]\n",
    "    \n",
    "    return archivos_eliminables\n",
    "    \n",
    "def eliminar_directorio(nombre_repositorio):\n",
    "    \n",
    "    import shutil\n",
    "    import os\n",
    "    import stat\n",
    "    from os import path\n",
    "    \n",
    "    for root, dirs, files in os.walk(\"./{nombre_repositorio}\".format(nombre_repositorio=nombre_repositorio)):  \n",
    "        for dir in dirs:\n",
    "            try:\n",
    "                os.chmod(path.join(root, dir), stat.S_IRWXU)\n",
    "            except:\n",
    "                print('el archivo {archivo} no existe'.format(archivo=archivo))                \n",
    "        for file in files:\n",
    "            try:\n",
    "                os.chmod(path.join(root, file), stat.S_IRWXU)\n",
    "            except:\n",
    "                print('el archivo {archivo} no existe'.format(archivo=archivo))\n",
    "    try: \n",
    "        shutil.rmtree(\"./{nombre_repositorio}\".format(nombre_repositorio=nombre_repositorio))\n",
    "    except:\n",
    "        print('el repositorio {nombre_repositorio} no existe'.format(nombre_repositorio=nombre_repositorio))\n",
    "\n",
    "def eliminar_archivo(archivo):\n",
    "    from os import remove\n",
    "    remove(archivo)\n",
    "\n",
    "def eliminar_archivos_directorio():\n",
    "    import os\n",
    "    \n",
    "    lista_de_archivos_eliminables = listar_archivos_eliminables_en_directorio()\n",
    "    \n",
    "    for archivo in lista_de_archivos_eliminables:\n",
    "            os.remove(archivo)\n",
    "        \n",
    "    return 'Eliminacion Completada con Exito!!! de {lista_de_archivos_eliminables}'.format(lista_de_archivos_eliminables=lista_de_archivos_eliminables)\n",
    "\n",
    "\n",
    "def volver_al_commit_sin_cambios(commit_id):\n",
    "    print(\"REGRESANDO AL COMMIT' {commit_id}\".format(commit_id=commit_id))\n",
    "\n",
    "    comando = 'git reset --hard {commit_id}'.format(commit_id=commit_id)\n",
    "    ejecutar_comando_git(comando)\n",
    "    \n",
    "    comando = 'git status'\n",
    "    ejecutar_comando_git(comando)\n",
    "    \n",
    "def eliminar_todos_los_archivos_hasta_el_commit(commit_id):\n",
    "    print(\"REGRESANDO AL COMMIT' {commit_id}\".format(commit_id=commit_id))\n",
    "\n",
    "    comando = 'git reset {commit_id}'.format(commit_id=commit_id)\n",
    "    ejecutar_comando_git(comando)\n",
    "\n",
    "    print('ELIMINANDO ARCHIVOS DEL STAGE')\n",
    "    # eliminar los archivos que no estan en el local repo, para evitar errores al cambiar de rama\n",
    "    comando = 'git rm --cached \"*\"'\n",
    "    ejecutar_comando_git(comando)\n",
    "\n",
    "    print('ELIMINANDO ARCHIVOS DEL WORKING DIRECTORY')\n",
    "    # elimina los archivos que estan en el working directory\n",
    "    comando = 'git clean -f'\n",
    "    ejecutar_comando_git(comando)\n",
    "\n",
    "    comando = 'git status'\n",
    "    ejecutar_comando_git(comando)\n",
    "\n",
    "    comando = 'git log --oneline'\n",
    "    ejecutar_comando_git(comando)\n",
    "\n",
    "    ejecutar_comando_shell()"
   ]
  },
  {
   "cell_type": "markdown",
   "id": "7153370f-e472-49b7-bb91-b62d5e558381",
   "metadata": {},
   "source": [
    "# <center> CREAR ARCHIVOS, COMMITS Y PUBLICAR RAMAS AL REPOSITORIO </center>"
   ]
  },
  {
   "cell_type": "code",
   "execution_count": 6,
   "id": "a3d1b1da-b198-40e7-ac0e-717336e06c87",
   "metadata": {
    "scrolled": true,
    "tags": []
   },
   "outputs": [],
   "source": [
    "def crear_o_actualizar_archivo(actualizaciones=10, archivo='info.txt'):\n",
    "    for index in range(actualizaciones):\n",
    "        comando = \"echo actualizacion {index} fecha {fecha} >> {archivo}\".format(index=index+1, fecha=datetime.timestamp(datetime.now()), archivo=archivo)\n",
    "        ejecutar_comando_shell(comando)\n",
    "\n",
    "def validar_si_existe_rama(nombre_rama, local=False):\n",
    "    \n",
    "    comando ='git branch -a'\n",
    "    resultado = ejecutar_comando_shell(comando, response=True)\n",
    "    \n",
    "    rama_base = '{nombre_rama}'.format(nombre_rama=nombre_rama) if local else 'origin/{nombre_rama}'.format(nombre_rama=nombre_rama)\n",
    "\n",
    "    if rama_base in resultado:\n",
    "        return True\n",
    "    return False\n",
    "\n",
    "def elimina_ramas_en_local_o_remoto_si_existen(nombre_rama, rama_local, rama_remota):\n",
    "    \n",
    "    # valida si las ramas existen en REMOTO y LOCAL\n",
    "    rama_remota_existe = validar_si_existe_rama(nombre_rama=nombre_rama)\n",
    "    rama_local_existe = validar_si_existe_rama(nombre_rama=nombre_rama, local=True)\n",
    "    \n",
    "    # verifica si existe la rama la elimina\n",
    "    if rama_remota and rama_remota_existe:\n",
    "        # elimina rama REMOTA existente\n",
    "        comando = 'git push origin -d {nombre_rama}'.format(nombre_rama=nombre_rama)\n",
    "        ejecutar_comando_git(comando)\n",
    "\n",
    "     # verifica si existe la rama la elimina\n",
    "    if rama_local and rama_local_existe:                                                                                                            \n",
    "        # elimina la rama\n",
    "        comando = 'git branch -D {nombre_rama}'.format(nombre_rama=nombre_rama)\n",
    "        ejecutar_comando_git(comando)\n",
    "        \n",
    "    # verifica las ramas actuales\n",
    "    ejecutar_comando_shell()\n",
    "    \n",
    "def crear_commit_por_cada_archivo(todos_los_archivos):\n",
    "    \n",
    "    import datetime\n",
    "\n",
    "    fecha_ahora = datetime.datetime.now()\n",
    "    \n",
    "    # crea el listado de archivos\n",
    "    lista_de_archivos = generar_archivos(todos_los_archivos=todos_los_archivos)\n",
    "    \n",
    "    # basado en el listado de archivos, adiciona uno a uno y crea un commit por cada uno\n",
    "    for indice, archivo in enumerate(lista_de_archivos):\n",
    "\n",
    "        comando = 'git add {archivo}'.format(archivo=archivo)\n",
    "        ejecutar_comando_git(comando)\n",
    "        \n",
    "        comando = 'git commit -m \"ADICIONADO ARCHIVO {archivo} {fecha_ahora}\" -m \"- El proposito es generar un registro de archivos con su fecha correspondiente, - Se adiciono el archivo {archivo} al commit, - La fecha donde se creao este commit es {fecha_ahora}\"'.format(archivo=archivo, fecha_ahora=fecha_ahora)\n",
    "        ejecutar_comando_git(comando)\n",
    "        \n",
    "        if indice %2 ==0:\n",
    "            modificar_autor_commit()\n",
    "\n",
    "    # verifica si todos los archivos estan en los commits creados\n",
    "    comando = 'git status'\n",
    "    ejecutar_comando_git(comando)\n",
    "    \n",
    "def generar_archivos_y_hacer_commit(nombre_rama, rama_local, rama_remota, todos_los_archivos):\n",
    "    \n",
    "    # elimina cambios a la rama remota si los tiene\n",
    "    comando = 'git restore .'\n",
    "    ejecutar_comando_git(comando)\n",
    "    \n",
    "    # cambiar a la rama remota, \n",
    "    comando = 'git checkout {nombre_rama_principal} --force'.format(nombre_rama_principal=nombre_rama_principal)\n",
    "    ejecutar_comando_git(comando)\n",
    "    \n",
    "    # valida si las ramas existen en REMOTO y LOCAL y las elimina\n",
    "    elimina_ramas_en_local_o_remoto_si_existen(nombre_rama=nombre_rama, rama_local=rama_local, rama_remota=rama_remota)\n",
    "    \n",
    "    if rama_local:\n",
    "        # crea la rama local\n",
    "        comando = 'git checkout -b {nombre_rama}'.format(nombre_rama=nombre_rama)\n",
    "        ejecutar_comando_shell(comando)\n",
    "    \n",
    "    # adiciona archivos de 1 en 1 y genera 1 commit por cada archivo\n",
    "    crear_commit_por_cada_archivo(todos_los_archivos=todos_los_archivos)\n",
    "\n",
    "    # mostrar el log de las ramas en forma resumida y con diagrama de uniones como grafo \n",
    "    comando = 'git log --graph --oneline'\n",
    "    ejecutar_comando_git(comando)\n",
    "\n",
    "    if rama_remota:\n",
    "        # crea la rama en remoto\n",
    "        comando = 'git push --set-upstream origin {nombre_rama}'.format(nombre_rama=nombre_rama)\n",
    "        ejecutar_comando_git(comando)\n",
    "    \n",
    "    ejecutar_comando_shell()\n",
    "\n",
    "def crear_rama_local_y_remota(nombre_rama, rama_local=True, rama_remota=True, todos_los_archivos=True):\n",
    "    generar_archivos_y_hacer_commit(nombre_rama=nombre_rama, rama_local=rama_local, rama_remota=rama_remota, todos_los_archivos=todos_los_archivos)\n",
    "    \n",
    "\n",
    "def eliminar_rama_local_y_remota(nombre_rama, rama_local=True, rama_remota=True):\n",
    "\n",
    "    comando = 'git checkout {nombre_rama_principal}'.format(nombre_rama_principal=nombre_rama_principal)\n",
    "    ejecutar_comando_git(comando)\n",
    "\n",
    "    if rama_local:\n",
    "        comando = 'git branch -D {nombre_rama}'.format(nombre_rama=nombre_rama)\n",
    "        ejecutar_comando_git(comando)\n",
    "    \n",
    "    if rama_remota:\n",
    "        comando = 'git push origin -d {nombre_rama}'.format(nombre_rama=nombre_rama)\n",
    "        ejecutar_comando_git(comando)\n",
    "\n",
    "    comando = 'git branch -a'\n",
    "    ejecutar_comando_git(comando)"
   ]
  },
  {
   "cell_type": "markdown",
   "id": "a612d868-9609-43c9-a072-39faafbc550d",
   "metadata": {},
   "source": [
    "# <center> FLUJO DE INFORMACION ENTRE RAMAS DE UN REPOSITORIO GIT</center>\n",
    "# <center> BRANCH STRATEGY - GIT FLOW</center>"
   ]
  },
  {
   "cell_type": "markdown",
   "id": "81157327-0900-4c45-a2ff-3d96ab217782",
   "metadata": {
    "tags": []
   },
   "source": [
    "<center>\n",
    "    <img width=\"100%\" align=\"center\" src=\"git_flow.png\">\n",
    "</center>"
   ]
  },
  {
   "cell_type": "markdown",
   "id": "fa61c53e-ae72-4628-9e93-bee20b030697",
   "metadata": {},
   "source": [
    "# <center> CICLO DE VIDA DE UN REPOSITORIO GIT</center>"
   ]
  },
  {
   "cell_type": "markdown",
   "id": "96e3a1b8-a7c3-4efe-95be-ff4818ee67c0",
   "metadata": {
    "tags": []
   },
   "source": [
    "<center>\n",
    "    <img width=\"100%\" align=\"center\" src=\"git_life_cycle.png\">\n",
    "</center>"
   ]
  },
  {
   "cell_type": "markdown",
   "id": "f2bdf4ec-0568-49de-8a9d-d99f2ab8aeb2",
   "metadata": {},
   "source": [
    "# <center> FLUJO DE ARCHIVOS DE UN REPOSITORIO GIT</center>"
   ]
  },
  {
   "cell_type": "markdown",
   "id": "a2aa9940-8a41-4458-b796-7fb014868d88",
   "metadata": {},
   "source": [
    "<center>\n",
    "    <img width=\"100%\" align=\"center\" src=\"gitflow.png\">\n",
    "</center>"
   ]
  },
  {
   "cell_type": "markdown",
   "id": "48adba35-bb65-44ed-9a19-c1b3601a2c0c",
   "metadata": {},
   "source": [
    "# <center> CONSULTAR LA VERSION DE GIT</center>"
   ]
  },
  {
   "cell_type": "code",
   "execution_count": 7,
   "id": "6986167a-ad52-4662-98ab-6e74f410f922",
   "metadata": {
    "tags": []
   },
   "outputs": [
    {
     "name": "stdout",
     "output_type": "stream",
     "text": [
      "############################################# COMANDO A EJECUTAR #############################################\n",
      "git --version\n",
      "####################################### RESULTADO DE COMANDO EJECUTADO #######################################\n",
      "git version 2.25.0.windows.1\n",
      "##############################################################################################################\n",
      "\n"
     ]
    }
   ],
   "source": [
    "comando = 'git --version'\n",
    "ejecutar_comando_git(comando)"
   ]
  },
  {
   "cell_type": "markdown",
   "id": "a85d2e45-c6a0-409d-a1b8-fe41480ea66b",
   "metadata": {},
   "source": [
    "# <center> CONFIGURACION DE USUARIO GIT</center>"
   ]
  },
  {
   "cell_type": "code",
   "execution_count": null,
   "id": "718fa792-e7d0-48d7-b4fe-56bd41021965",
   "metadata": {},
   "outputs": [],
   "source": [
    "# configurar usuario, email y password\n",
    "git config --global user.name \"usuario_git\"\n",
    "git config --global user.email \"correo@git.com\"\n",
    "git config --global user.password \"password_git\"\n",
    "\n",
    "# almacenar las credenciales localmente para siempre\n",
    "git config --global credential.helper store\n",
    "\n",
    "# verificar la informacion configurada de git\n",
    "git config --global --list\n",
    "git config --list --show-origin"
   ]
  },
  {
   "cell_type": "markdown",
   "id": "b6dcc937-601b-4c18-a1d6-a97936e49967",
   "metadata": {},
   "source": [
    "# <center> CLONAR UN REPOSITORIO GIT</center>"
   ]
  },
  {
   "cell_type": "code",
   "execution_count": 8,
   "id": "31f7c4af-65f2-40a1-b252-f11f2427d13e",
   "metadata": {
    "tags": []
   },
   "outputs": [
    {
     "name": "stdout",
     "output_type": "stream",
     "text": [
      "############################################# COMANDO A EJECUTAR #############################################\n",
      "git clone https://github.com/JorgeCardona/comandos_git.git\n",
      "####################################### RESULTADO DE COMANDO EJECUTADO #######################################\n",
      "##############################################################################################################\n",
      "\n"
     ]
    }
   ],
   "source": [
    "repositorio_base = 'https://github.com/JorgeCardona'\n",
    "nombre_del_repositorio = 'comandos_git'\n",
    "\n",
    "eliminar_directorio(nombre_repositorio=nombre_del_repositorio)\n",
    "\n",
    "comando = 'git clone {repositorio_base}/{nombre_del_repositorio}.git'.format(repositorio_base=repositorio_base, nombre_del_repositorio=nombre_del_repositorio)\n",
    "ejecutar_comando_git(comando)"
   ]
  },
  {
   "cell_type": "markdown",
   "id": "708fbbd8",
   "metadata": {},
   "source": [
    "# <center> PROTEGER RAMAS DE UN REPOSITORIO CONTRA ESCRITURA</center>"
   ]
  },
  {
   "cell_type": "markdown",
   "id": "5dfcd024-6d86-4c52-b790-e94e42e71046",
   "metadata": {},
   "source": [
    "# <center> CAMBIAR A LA CARPETA PARA TRABAJAR CON EL REPOSITORIO</center>"
   ]
  },
  {
   "cell_type": "code",
   "execution_count": 9,
   "id": "2a7e9016-54c8-4493-955a-0cb812f41020",
   "metadata": {
    "tags": []
   },
   "outputs": [
    {
     "data": {
      "text/plain": [
       "'C:\\\\z Github\\\\skills\\\\comandos GIT'"
      ]
     },
     "execution_count": 9,
     "metadata": {},
     "output_type": "execute_result"
    }
   ],
   "source": [
    "#importing the os module\n",
    "import os\n",
    "\n",
    "#to get the current working directory\n",
    "directory = os.getcwd()\n",
    "directory"
   ]
  },
  {
   "cell_type": "code",
   "execution_count": 10,
   "id": "7f4f4467-e9b7-482f-96f9-7412ff9af7a8",
   "metadata": {
    "tags": []
   },
   "outputs": [
    {
     "data": {
      "text/plain": [
       "'C:\\\\z Github\\\\skills\\\\comandos GIT\\\\comandos_git'"
      ]
     },
     "execution_count": 10,
     "metadata": {},
     "output_type": "execute_result"
    }
   ],
   "source": [
    "os.chdir('{directory}/{repository}'.format(directory=directory, repository=nombre_del_repositorio))\n",
    "directory = os.getcwd()\n",
    "directory"
   ]
  },
  {
   "cell_type": "markdown",
   "id": "4544b6a6-5c4f-4e04-a908-c5806ca6f23e",
   "metadata": {},
   "source": [
    "# <center> MOSTRAR INFORMACION DEL REPOSITORIO</center>"
   ]
  },
  {
   "cell_type": "code",
   "execution_count": 11,
   "id": "4e3ba9e5-27bd-40b6-bf9c-996f26f8d65f",
   "metadata": {
    "tags": []
   },
   "outputs": [
    {
     "name": "stdout",
     "output_type": "stream",
     "text": [
      "############################################# COMANDO A EJECUTAR #############################################\n",
      "git remote show origin\n",
      "####################################### RESULTADO DE COMANDO EJECUTADO #######################################\n",
      "* remote origin\n",
      "  Fetch URL: https://github.com/JorgeCardona/comandos_git.git\n",
      "  Push  URL: https://github.com/JorgeCardona/comandos_git.git\n",
      "  HEAD branch: main\n",
      "  Remote branches:\n",
      "    bisect_branch tracked\n",
      "    main          tracked\n",
      "    multi_commits tracked\n",
      "  Local branch configured for 'git pull':\n",
      "    main merges with remote main\n",
      "  Local ref configured for 'git push':\n",
      "    main pushes to main (up to date)\n",
      "##############################################################################################################\n",
      "\n"
     ]
    }
   ],
   "source": [
    "comando = 'git remote show origin'\n",
    "ejecutar_comando_git(comando)"
   ]
  },
  {
   "cell_type": "markdown",
   "id": "a3726874-d7c6-460d-b9c0-fa4cdf3ec6ed",
   "metadata": {},
   "source": [
    "# <center> LISTAR LAS RAMAS DE UN REPOSITORIO </center>"
   ]
  },
  {
   "cell_type": "markdown",
   "id": "4f24ef50-f1c6-4daf-879d-dfecf0934268",
   "metadata": {},
   "source": [
    "### LISTA TODAS LAS RAMAS LOCALES Y LA RAMA PRINCIPAL DEL REPOSITORIO"
   ]
  },
  {
   "cell_type": "code",
   "execution_count": 12,
   "id": "6e2f6bcb-70a1-4151-bd65-0d3820f4cfd7",
   "metadata": {
    "tags": []
   },
   "outputs": [
    {
     "name": "stdout",
     "output_type": "stream",
     "text": [
      "############################################# COMANDO A EJECUTAR #############################################\n",
      "git branch\n",
      "####################################### RESULTADO DE COMANDO EJECUTADO #######################################\n",
      "* main\n",
      "##############################################################################################################\n",
      "\n"
     ]
    }
   ],
   "source": [
    "comando = 'git branch'\n",
    "ejecutar_comando_git(comando)"
   ]
  },
  {
   "cell_type": "markdown",
   "id": "3a9c0795-d684-4571-a99d-d1d6203059f1",
   "metadata": {},
   "source": [
    "### LISTA TODAS LAS RAMAS REMOTAS DEL REPOSITORIO"
   ]
  },
  {
   "cell_type": "code",
   "execution_count": 13,
   "id": "acb38610-f643-4c0e-b9e8-dec9c7a3d99e",
   "metadata": {
    "tags": []
   },
   "outputs": [
    {
     "name": "stdout",
     "output_type": "stream",
     "text": [
      "############################################# COMANDO A EJECUTAR #############################################\n",
      "git branch -r\n",
      "####################################### RESULTADO DE COMANDO EJECUTADO #######################################\n",
      "  origin/HEAD -> origin/main\n",
      "  origin/bisect_branch\n",
      "  origin/main\n",
      "  origin/multi_commits\n",
      "##############################################################################################################\n",
      "\n"
     ]
    }
   ],
   "source": [
    "comando = 'git branch -r'\n",
    "ejecutar_comando_git(comando)"
   ]
  },
  {
   "cell_type": "markdown",
   "id": "ccc455dd-2361-4e82-be84-66d06caa3eb5",
   "metadata": {},
   "source": [
    "### LISTA TODAS LAS RAMAS LOCALES INCLUYENDO LAS RAMAS OCULTAS"
   ]
  },
  {
   "cell_type": "code",
   "execution_count": 14,
   "id": "486db217-0bcd-446e-bde5-147cd9c30da6",
   "metadata": {
    "tags": []
   },
   "outputs": [
    {
     "name": "stdout",
     "output_type": "stream",
     "text": [
      "############################################# COMANDO A EJECUTAR #############################################\n",
      "git branch -a\n",
      "####################################### RESULTADO DE COMANDO EJECUTADO #######################################\n",
      "* main\n",
      "  remotes/origin/HEAD -> origin/main\n",
      "  remotes/origin/bisect_branch\n",
      "  remotes/origin/main\n",
      "  remotes/origin/multi_commits\n",
      "##############################################################################################################\n",
      "\n"
     ]
    }
   ],
   "source": [
    "comando = 'git branch -a'\n",
    "ejecutar_comando_git(comando)"
   ]
  },
  {
   "cell_type": "markdown",
   "id": "5fcd971b-1561-4d6b-ae04-5cd81ee1c441",
   "metadata": {},
   "source": [
    "# <center> CREAR UNA RAMA BASADA EN LA RAMA ACTUAL DE UN REPOSITORIO</center>"
   ]
  },
  {
   "cell_type": "code",
   "execution_count": 16,
   "id": "ff0c31d3-bd06-4a96-834c-53d69890a4f3",
   "metadata": {
    "tags": []
   },
   "outputs": [],
   "source": [
    "nombre_rama_principal = 'main'\n",
    "nombre_rama_a_crear = 'nueva_rama'\n",
    "comando = f'git branch {nombre_rama_a_crear}'\n",
    "ejecutar_comando_git(comando)\n",
    "ejecutar_comando_shell()"
   ]
  },
  {
   "cell_type": "markdown",
   "id": "5dd7647e-4eea-4a1c-bfd5-c6fe2dc00ca7",
   "metadata": {},
   "source": [
    "# <center> CAMBIAR A OTRA RAMA DEL REPOSITORIO</center>"
   ]
  },
  {
   "cell_type": "markdown",
   "id": "71ab062d-9e2b-4cc3-8e07-b04612203db2",
   "metadata": {},
   "source": [
    "### GIT CHECKOUT"
   ]
  },
  {
   "cell_type": "code",
   "execution_count": null,
   "id": "d2c67bc1-51d3-4e66-adca-cda41a4316fa",
   "metadata": {
    "tags": []
   },
   "outputs": [],
   "source": [
    "comando = f'git checkout {nombre_rama_a_crear}'\n",
    "ejecutar_comando_git(comando)\n",
    "ejecutar_comando_shell()"
   ]
  },
  {
   "cell_type": "markdown",
   "id": "3c8ae0f4-59e1-4dbb-941c-b9964ceb3ac9",
   "metadata": {},
   "source": [
    "### GIT SWITCH"
   ]
  },
  {
   "cell_type": "code",
   "execution_count": null,
   "id": "469966d0-9fcb-4e95-a7b0-987fa5e7e406",
   "metadata": {
    "tags": []
   },
   "outputs": [],
   "source": [
    "comando = 'git switch {nombre_rama_principal}'.format(nombre_rama_principal=nombre_rama_principal)\n",
    "ejecutar_comando_git(comando)\n",
    "ejecutar_comando_shell()\n",
    "\n",
    "comando = f'git switch {nombre_rama_a_crear}'\n",
    "ejecutar_comando_git(comando)\n",
    "ejecutar_comando_shell()"
   ]
  },
  {
   "cell_type": "markdown",
   "id": "3f789466-2a82-4906-a1a8-301b7e9f1823",
   "metadata": {},
   "source": [
    "# <center> CREAR UNA RAMA BASADA EN LA ACTUAL Y CAMBIA A LA RAMA CREADA AL MISMO TIEMPO</center>"
   ]
  },
  {
   "cell_type": "markdown",
   "id": "6b2f4557-7d7c-490a-a94d-f2ddb2b79d0c",
   "metadata": {},
   "source": [
    "### GIT CHECKOUT"
   ]
  },
  {
   "cell_type": "code",
   "execution_count": null,
   "id": "accb84e5-5900-4379-97d9-4cc91f3c8480",
   "metadata": {
    "tags": []
   },
   "outputs": [],
   "source": [
    "nombre_rama_checkout = 'rama_acceso_rapido_checkout'\n",
    "comando = f'git checkout -b {nombre_rama_checkout}'\n",
    "ejecutar_comando_git(comando)\n",
    "ejecutar_comando_shell()"
   ]
  },
  {
   "cell_type": "markdown",
   "id": "fe8b79fe-38d8-4638-8f65-2071db1a855d",
   "metadata": {},
   "source": [
    "### GIT SWITCH"
   ]
  },
  {
   "cell_type": "code",
   "execution_count": null,
   "id": "8572c79d-7aeb-4eac-9d7e-d53f7f9cbd94",
   "metadata": {
    "tags": []
   },
   "outputs": [],
   "source": [
    "nombre_rama_switch = 'rama_acceso_rapido_switch'\n",
    "comando = f'git switch -c {nombre_rama_switch}'\n",
    "ejecutar_comando_git(comando)\n",
    "ejecutar_comando_shell()"
   ]
  },
  {
   "cell_type": "markdown",
   "id": "4ce22640-89a5-457a-acab-337cf47dc60a",
   "metadata": {},
   "source": [
    "# <center> CREAR NUEVA RAMA LOCAL DE UNA RAMA REMOTA</center>"
   ]
  },
  {
   "cell_type": "markdown",
   "id": "421b2e05-dd53-4e1e-a627-5b0a7fc5c925",
   "metadata": {},
   "source": [
    "### GIT CHECKOUT"
   ]
  },
  {
   "cell_type": "code",
   "execution_count": null,
   "id": "cef10060-f05f-411f-9347-d5fdf78e568c",
   "metadata": {
    "tags": []
   },
   "outputs": [],
   "source": [
    "nombre_rama_remota = 'multi_commits'\n",
    "nombre_rama_remota_copia_checkout = f'{nombre_rama_remota}_copia_checkout'\n",
    "comando = 'git checkout -b {copia_rama_remota} origin/{nombre_rama_remota}'.format(copia_rama_remota=nombre_rama_remota_copia_checkout, nombre_rama_remota=nombre_rama_remota)\n",
    "ejecutar_comando_git(comando)\n",
    "ejecutar_comando_shell()"
   ]
  },
  {
   "cell_type": "markdown",
   "id": "9cf8f091-45f8-4dc2-a3cf-84bbe5bab19e",
   "metadata": {},
   "source": [
    "### GIT SWITCH"
   ]
  },
  {
   "cell_type": "code",
   "execution_count": null,
   "id": "372952cf-4b8f-4c59-b7fb-ab2c318f9334",
   "metadata": {
    "tags": []
   },
   "outputs": [],
   "source": [
    "nombre_rama_remota_copia_switch = f'{nombre_rama_remota}_copia_switch'\n",
    "comando = 'git switch -c {copia_rama_remota} origin/{nombre_rama_remota}'.format(copia_rama_remota=nombre_rama_remota_copia_switch, nombre_rama_remota=nombre_rama_remota)\n",
    "ejecutar_comando_git(comando)\n",
    "ejecutar_comando_shell()"
   ]
  },
  {
   "cell_type": "markdown",
   "id": "04bea22a-3a54-4b3d-8260-169d7d939a6c",
   "metadata": {},
   "source": [
    "# <center> DESCARGAR RAMA REMOTA A LOCAL Y CAMBIAR A LA RAMA BAJADA AL MISMO TIEMPO</center>"
   ]
  },
  {
   "cell_type": "code",
   "execution_count": null,
   "id": "2b8741a5-f633-4445-b579-ce199444f520",
   "metadata": {
    "tags": []
   },
   "outputs": [],
   "source": [
    "comando = 'git checkout -t origin/{nombre_rama_remota}'.format(nombre_rama_remota=nombre_rama_remota)\n",
    "ejecutar_comando_git(comando)\n",
    "ejecutar_comando_shell()"
   ]
  },
  {
   "cell_type": "markdown",
   "id": "8a659043-509a-4ed5-9f8f-55896c0e68b1",
   "metadata": {},
   "source": [
    "# <center> RENOMBRAR UNA RAMA DEL REPOSITORIO</center>"
   ]
  },
  {
   "cell_type": "code",
   "execution_count": null,
   "id": "f0a3c692-e941-4491-88b3-cc8d0016f3e2",
   "metadata": {
    "tags": []
   },
   "outputs": [],
   "source": [
    "ejecutar_comando_shell()\n",
    "\n",
    "comando = 'git checkout {nombre_rama_remota_copia_checkout}'.format(nombre_rama_remota_copia_checkout=nombre_rama_remota_copia_checkout)\n",
    "ejecutar_comando_git(comando)\n",
    "\n",
    "nuevo_nombre_rama_renombrada_checkout = f'{nombre_rama_a_crear}_renombrada_checkout'\n",
    "comando = f'git branch -m {nombre_rama_a_crear} {nuevo_nombre_rama_renombrada_checkout}'\n",
    "ejecutar_comando_git(comando)\n",
    "\n",
    "# Alternativa\n",
    "nuevo_nombre_rama_acceso_rapido_renombrada_checkout = f'{nombre_rama_checkout}_renombrada_checkout'\n",
    "comando = f'git branch --move {nombre_rama_checkout} {nuevo_nombre_rama_acceso_rapido_renombrada_checkout}'\n",
    "ejecutar_comando_git(comando)\n",
    "\n",
    "ejecutar_comando_shell()"
   ]
  },
  {
   "cell_type": "markdown",
   "id": "dcb39724-92b3-4f67-952a-7941eb96ca70",
   "metadata": {},
   "source": [
    "# <center> CREAR RAMA VACIA QUE NO ESTE RELACIONADA CON NINGUN CONTENIDO DE OTRA RAMA</center>\n",
    "<center>\n",
    "    <img width=\"100%\" align=\"center\" src=\"ciclo_de_vida_archuvo_git.png\">\n",
    "</center>\n",
    "\n",
    "### UNTRACKED - ES UN FICHERO NUEVO QUE SE HA CREADO Y GIT TODAVIA NO TIENE CONSTANCIA, NO HACE PARTE DE NINGUN COMMIT ANTERIOR\n",
    "### TRACKED - UNSTAGE -> FICHERO QUE HACE PARTE DE COMMITS ANTERIORES, HA SIDO MODIFICADO PERO TODAVIA NO SE HA ENVIADO AL AREA DE STAGING\n",
    "### TRACKED - STAGE -> SE REALIZO UN CAMBIO Y SE HA ENVIADO A LA ZONA STAGING (git add archivo)\n",
    "### TRACKED - COMMITED -> UN ARCHIVO QUE SE HA HECHO COMMIT Y QUE YA ESTA EN LA ZONA EL REPOSITORIO LOCAL (git commit -m 'archivo adicionado al repo local')"
   ]
  },
  {
   "cell_type": "markdown",
   "id": "5110573e-9830-4048-a74d-bb4e3be87cbe",
   "metadata": {},
   "source": [
    "### CREA LA RAMA"
   ]
  },
  {
   "cell_type": "code",
   "execution_count": null,
   "id": "4132ece2-f30e-4310-b013-807007387318",
   "metadata": {
    "tags": []
   },
   "outputs": [],
   "source": [
    "nombre_rama = 'utils'\n",
    "comando = 'git switch --orphan {nombre_rama}'.format(nombre_rama=nombre_rama)\n",
    "ejecutar_comando_git(comando)\n",
    "\n",
    "comando = 'git branch -a'\n",
    "ejecutar_comando_git(comando)"
   ]
  },
  {
   "cell_type": "markdown",
   "id": "d9ebf3bf-6a92-4c42-9ea1-aec337b49d81",
   "metadata": {},
   "source": [
    "### CREA ARCHIVOS EN EL WORKING DIRECTORY"
   ]
  },
  {
   "cell_type": "code",
   "execution_count": null,
   "id": "3d2dd581-e019-43ea-b540-b52484fec3eb",
   "metadata": {
    "scrolled": true,
    "tags": []
   },
   "outputs": [],
   "source": [
    "generar_archivos()\n",
    "\n",
    "comando = 'git status'\n",
    "ejecutar_comando_git(comando)"
   ]
  },
  {
   "cell_type": "markdown",
   "id": "18938405-9f5e-43fe-bcee-defbe3992e98",
   "metadata": {},
   "source": [
    "## <center> VALIDAR ARCHIVOS EN EL WORKING DIRECTORY"
   ]
  },
  {
   "cell_type": "code",
   "execution_count": null,
   "id": "a5818d22-58f7-48dc-bdc4-431aa773a025",
   "metadata": {
    "tags": []
   },
   "outputs": [],
   "source": [
    "comando = 'git status'\n",
    "ejecutar_comando_git(comando)"
   ]
  },
  {
   "cell_type": "markdown",
   "id": "b4fc0dce-0bc9-4a01-a04a-6664c5fa5083",
   "metadata": {},
   "source": [
    "## <center> ADICIONA LOS ARCHIVOS AL STAGE"
   ]
  },
  {
   "cell_type": "markdown",
   "id": "e32a92fe-0a92-46da-945c-b839a65d74c8",
   "metadata": {
    "tags": []
   },
   "source": [
    "#### ADICIONA UN SOLO ARCHIVO AL STAGE"
   ]
  },
  {
   "cell_type": "code",
   "execution_count": null,
   "id": "5ecbb553-070d-4c0e-ba1e-377655ab0d51",
   "metadata": {
    "tags": []
   },
   "outputs": [],
   "source": [
    "comando = 'git add info.txt'\n",
    "ejecutar_comando_git(comando)\n",
    "\n",
    "comando = 'git status'\n",
    "ejecutar_comando_git(comando)"
   ]
  },
  {
   "cell_type": "markdown",
   "id": "b982316d-c187-40f9-b892-9c0c3b3bb913",
   "metadata": {},
   "source": [
    "#### ADICIONA TODOS LOS ARCHIVOS AL STAGE"
   ]
  },
  {
   "cell_type": "code",
   "execution_count": null,
   "id": "19aee2b8-f005-4294-8290-3a9e1e0b61ae",
   "metadata": {
    "tags": []
   },
   "outputs": [],
   "source": [
    "comando = 'git add .'\n",
    "ejecutar_comando_git(comando)\n",
    "\n",
    "comando = 'git status'\n",
    "ejecutar_comando_git(comando)"
   ]
  },
  {
   "cell_type": "markdown",
   "id": "a001cd8c-feb4-49ac-aa5f-4a9d6927d848",
   "metadata": {},
   "source": [
    "## <center> ELIMINA LOS ARCHIVOS DEL STAGE Y LOS RETORNA AL WORKING DIRECTORY"
   ]
  },
  {
   "cell_type": "markdown",
   "id": "67595613-6366-4d8e-b0ce-f408bcfd9886",
   "metadata": {},
   "source": [
    "#### ELIMINA UNO DE LOS ARCHIVOS DEL STAGE"
   ]
  },
  {
   "cell_type": "code",
   "execution_count": null,
   "id": "e478337d-f08f-49ce-875a-3dfa722e0785",
   "metadata": {
    "scrolled": true,
    "tags": []
   },
   "outputs": [],
   "source": [
    "comando = 'git rm --cached info.txt'\n",
    "ejecutar_comando_git(comando)\n",
    "\n",
    "comando = 'git status'\n",
    "ejecutar_comando_git(comando)"
   ]
  },
  {
   "cell_type": "markdown",
   "id": "66df5c5d-37a4-49ed-9d26-096933a8788c",
   "metadata": {},
   "source": [
    "#### ELIMINA TODOS DE LOS ARCHIVOS DEL STAGE"
   ]
  },
  {
   "cell_type": "code",
   "execution_count": null,
   "id": "7ec0d92f-89d5-4d03-9561-1925c22e571b",
   "metadata": {
    "scrolled": true,
    "tags": []
   },
   "outputs": [],
   "source": [
    "comando = 'git rm --cached \"*\"'\n",
    "ejecutar_comando_git(comando)\n",
    "\n",
    "comando = 'git status'\n",
    "ejecutar_comando_git(comando)"
   ]
  },
  {
   "cell_type": "markdown",
   "id": "9c5f6f24-7078-4a71-998d-c6a838b87f8f",
   "metadata": {
    "tags": []
   },
   "source": [
    "## <center>ARCHIVOS EN EL REPOSITORIO LOCAL - COMMIT - CONFIRMACION"
   ]
  },
  {
   "cell_type": "markdown",
   "id": "7718c89c-2e06-4a9f-ab18-e2c09dcd8e9a",
   "metadata": {},
   "source": [
    "## ELIMINA TODOS LOS ARCHIVOS UNTRACKED DEL WORKING DIRECTORY"
   ]
  },
  {
   "cell_type": "code",
   "execution_count": null,
   "id": "699ffe14-b407-482a-8927-2b251b6ff7b4",
   "metadata": {
    "scrolled": true,
    "tags": []
   },
   "outputs": [],
   "source": [
    "comando = 'git add info.txt'\n",
    "ejecutar_comando_git(comando)\n",
    "\n",
    "comando = 'git status'\n",
    "ejecutar_comando_git(comando)"
   ]
  },
  {
   "cell_type": "markdown",
   "id": "7ab60d39-9b85-4abb-b80a-ee3eee39b947",
   "metadata": {
    "tags": []
   },
   "source": [
    "### CREA UN COMMIT SOLO CON EL SUBJECT"
   ]
  },
  {
   "cell_type": "code",
   "execution_count": null,
   "id": "54d2152d-c9e0-47f8-9293-077bde35f092",
   "metadata": {
    "tags": []
   },
   "outputs": [],
   "source": [
    "comando = 'git commit -m \"adicionado archivo INFO.txt\"'\n",
    "ejecutar_comando_git(comando)\n",
    "\n",
    "comando = 'git log'\n",
    "ejecutar_comando_git(comando)\n",
    "\n",
    "comando = 'git status'\n",
    "ejecutar_comando_git(comando)"
   ]
  },
  {
   "cell_type": "markdown",
   "id": "60bcdebb-9645-4701-b39a-7c35caaf7df5",
   "metadata": {},
   "source": [
    "### ADICIONA ARCHIVOS Y CREA UN COMMIT CON EL SUBJECT Y EL BODY"
   ]
  },
  {
   "cell_type": "code",
   "execution_count": null,
   "id": "1c688825-c76b-451b-bceb-cedd46b25644",
   "metadata": {
    "scrolled": true,
    "tags": []
   },
   "outputs": [],
   "source": [
    "comando = 'git add connection.java Manifest.yaml'\n",
    "ejecutar_comando_git(comando)\n",
    "\n",
    "comando = 'git commit -m \"adicionados archivos connection.java y Manifest.yaml\" -m \"los archivos de este commit ayudan con la configuracion de la aplicacion....\" '\n",
    "ejecutar_comando_git(comando)\n",
    "\n",
    "comando = 'git log'\n",
    "ejecutar_comando_git(comando)\n",
    "\n",
    "comando = 'git status'\n",
    "ejecutar_comando_git(comando)"
   ]
  },
  {
   "cell_type": "markdown",
   "id": "3b8f87ce-54af-477b-b1d1-389d8cfdfd52",
   "metadata": {},
   "source": [
    "## SE PUEDE ADICIONAR UN MENSAJE DESDE UN EDITOR DE TEXTO"
   ]
  },
  {
   "cell_type": "code",
   "execution_count": null,
   "id": "cd21adc7-a870-4eb3-b5fc-26826de7ba25",
   "metadata": {
    "scrolled": true,
    "tags": []
   },
   "outputs": [],
   "source": [
    "comando = 'git add main.py'\n",
    "ejecutar_comando_git(comando)\n",
    "\n",
    "comando = 'git commit'\n",
    "ejecutar_comando_git(comando)\n",
    "\n",
    "comando = 'git log'\n",
    "ejecutar_comando_git(comando)"
   ]
  },
  {
   "cell_type": "markdown",
   "id": "3d5dff30-22c7-4c76-ae16-42ef09f65e42",
   "metadata": {},
   "source": [
    "## CAMBIAR EL MENSAJE DE UN COMMIT"
   ]
  },
  {
   "cell_type": "code",
   "execution_count": null,
   "id": "218eb889-c446-4a78-9ee5-dffa3fc2c62f",
   "metadata": {
    "scrolled": true,
    "tags": []
   },
   "outputs": [],
   "source": [
    "comando = 'git commit --amend --no-edit -m \"asunto del commit actualizado\"'\n",
    "ejecutar_comando_git(comando)\n",
    "\n",
    "comando = 'git log'\n",
    "ejecutar_comando_git(comando)"
   ]
  },
  {
   "cell_type": "markdown",
   "id": "7491dacf-b05c-4682-a89f-d4a84b098084",
   "metadata": {},
   "source": [
    "## CAMBIAR EL AUTOR DE UN COMMIT"
   ]
  },
  {
   "cell_type": "code",
   "execution_count": null,
   "id": "c2925ca4-a2e6-4822-b50c-a9d839524cbf",
   "metadata": {
    "scrolled": true,
    "tags": []
   },
   "outputs": [],
   "source": [
    "# TIENE que estar el nombre entre los usuarios que contribuyen en el repositorio\n",
    "autor = 'cienciagoku@gmail.com'\n",
    "comando = 'git commit --amend --no-edit --author={autor}'.format(autor=autor)\n",
    "ejecutar_comando_git(comando)\n",
    "\n",
    "comando = 'git log'\n",
    "ejecutar_comando_git(comando)"
   ]
  },
  {
   "cell_type": "markdown",
   "id": "c3022d61-e66e-4124-bfdf-d4fcf4bb93a9",
   "metadata": {
    "tags": []
   },
   "source": [
    "## CAMBIAR LA FECHA DE UN COMMIT"
   ]
  },
  {
   "cell_type": "code",
   "execution_count": null,
   "id": "7d85cbc7-e042-4ac1-9f7e-8620313ada6b",
   "metadata": {
    "scrolled": true,
    "tags": []
   },
   "outputs": [],
   "source": [
    "comando = 'git commit --amend --no-edit --date \"31 Jul 2000 07:31:40 UTC\"'\n",
    "ejecutar_comando_git(comando)\n",
    "\n",
    "comando = 'git log'\n",
    "ejecutar_comando_git(comando)"
   ]
  },
  {
   "cell_type": "markdown",
   "id": "db845ffe-c8c8-40e5-8833-a3045a5ddd5a",
   "metadata": {
    "tags": []
   },
   "source": [
    "#### ELIMINA TODOS LOS ARCHIVOS UNTRACKED DEL WORKING DIRECTORY"
   ]
  },
  {
   "cell_type": "code",
   "execution_count": null,
   "id": "7995d0a7-af0d-4b4a-b010-3cd9141d56bc",
   "metadata": {
    "tags": []
   },
   "outputs": [],
   "source": [
    "comando = 'git clean -f'\n",
    "ejecutar_comando_git(comando)"
   ]
  },
  {
   "cell_type": "code",
   "execution_count": null,
   "id": "12d0da8a-7806-49e0-9beb-4e4a0e8e2464",
   "metadata": {
    "tags": []
   },
   "outputs": [],
   "source": [
    "comando = 'git status'\n",
    "ejecutar_comando_git(comando)"
   ]
  },
  {
   "cell_type": "markdown",
   "id": "ade7d663-0454-4883-9f21-3b1f075718e9",
   "metadata": {},
   "source": [
    "<center>\n",
    "    <img width=\"100%\" height=\"100%\" align=\"center\" src=\"ciclo_de_vida_archuvo_git.png\">\n",
    "</center>\n",
    "\n",
    "### UNTRACKED - ES UN FICHERO NUEVO QUE SE HA CREADO Y GIT TODAVIA NO TIENE CONSTANCIA, NO HACE PARTE DE NINGUN COMMIT ANTERIOR\n",
    "### TRACKED - UNSTAGE -> FICHERO QUE HACE PARTE DE COMMITS ANTERIORES, HA SIDO MODIFICADO PERO TODAVIA NO SE HA ENVIADO AL AREA DE STAGING\n",
    "### TRACKED - STAGE -> SE REALIZO UN CAMBIO Y SE HA ENVIADO A LA ZONA STAGING (git add archivo)\n",
    "### TRACKED - COMMITED -> UN ARCHIVO QUE SE HA HECHO COMMIT Y QUE YA ESTA EN LA ZONA EL REPOSITORIO LOCAL (git commit -m 'archivo adicionado al repo local')"
   ]
  },
  {
   "cell_type": "markdown",
   "id": "8814804e-fd01-486d-b92d-ec3f51a71675",
   "metadata": {},
   "source": [
    "### ACTUALIZAR UN ARCHIVO Y VALIDARLO EN LA ZONA DE MODIFIED"
   ]
  },
  {
   "cell_type": "code",
   "execution_count": null,
   "id": "5606579d-6442-4530-af53-072255d1edfe",
   "metadata": {
    "scrolled": true,
    "tags": []
   },
   "outputs": [],
   "source": [
    "archivo = 'info.txt'\n",
    "eliminar_archivo(archivo=archivo)\n",
    "crear_o_actualizar_archivo(actualizaciones=10, archivo=archivo)"
   ]
  },
  {
   "cell_type": "code",
   "execution_count": null,
   "id": "28e717d9-9ed9-4a49-8532-184c3180d4c7",
   "metadata": {
    "tags": []
   },
   "outputs": [],
   "source": [
    "comando = 'git status'\n",
    "ejecutar_comando_git(comando)"
   ]
  },
  {
   "cell_type": "markdown",
   "id": "cf4e4020-e00d-42a6-982c-c3d8cf3e1513",
   "metadata": {},
   "source": [
    "### VERIFICAR QUE MODIFICACIONES INCLUIR BASADO EN EL NIVEL DE PARCHE DEL CODIGO SE ADICIONAN AL AREA DE STAGING - CACHE  O PREPARACION\n",
    "    y - stage this hunk\n",
    "    n - do not stage this hunk\n",
    "    q - quit; do not stage this hunk nor any of the remaining ones\n",
    "    a - stage this hunk and all later hunks in the file\n",
    "    d - do not stage this hunk nor any of the later hunks in the file\n",
    "    g - select a hunk to go to\n",
    "    / - search for a hunk matching the given regex\n",
    "    j - leave this hunk undecided, see next undecided hunk\n",
    "    J - leave this hunk undecided, see next hunk\n",
    "    k - leave this hunk undecided, see previous undecided hunk\n",
    "    K - leave this hunk undecided, see previous hunk\n",
    "    s - split the current hunk into smaller hunks\n",
    "    e - manually edit the current hunk\n",
    "    ? - print help"
   ]
  },
  {
   "cell_type": "code",
   "execution_count": null,
   "id": "f5d6e513-1ebd-43c0-8e92-a25ad797080d",
   "metadata": {
    "tags": []
   },
   "outputs": [],
   "source": [
    "comando = 'git add -p info.txt'\n",
    "ejecutar_comando_git(comando)"
   ]
  },
  {
   "cell_type": "markdown",
   "id": "8c709076-7bf6-4a8a-b305-8b87dac7b80a",
   "metadata": {},
   "source": [
    "### ADICIONA LOS ARCHIVOS AL STAGE Y HACE LO ALMACENA EN EL REPOSITORIO LOCAL CON UN COMMIT"
   ]
  },
  {
   "cell_type": "code",
   "execution_count": null,
   "id": "247f7456-19c5-4291-b242-2bad2ee129a2",
   "metadata": {
    "scrolled": true,
    "tags": []
   },
   "outputs": [],
   "source": [
    "generar_archivos()\n",
    "\n",
    "comando = 'git status'\n",
    "ejecutar_comando_git(comando)\n",
    "\n",
    "comando = 'git add .'\n",
    "ejecutar_comando_git(comando)\n",
    "\n",
    "comando = 'git status'\n",
    "ejecutar_comando_git(comando)\n",
    "\n",
    "comando = f'git commit -m \"adicionados archivos de prueba {datetime.now()}\"'\n",
    "ejecutar_comando_git(comando)\n",
    "\n",
    "comando = 'git status'\n",
    "ejecutar_comando_git(comando)\n",
    "\n",
    "comando = 'git log --oneline'\n",
    "ejecutar_comando_git(comando)\n",
    "\n",
    "ejecutar_comando_shell()"
   ]
  },
  {
   "cell_type": "markdown",
   "id": "aa41333e-db96-450e-8ea8-79172fc717c3",
   "metadata": {},
   "source": [
    "### <center> DESHACER UN COMMIT LOCAL\n",
    "### ELIMINA LOS ARCHIVOS DEL LOCAL REPOSITORY Y LOS RETORNA AL STAGING AREA"
   ]
  },
  {
   "cell_type": "code",
   "execution_count": null,
   "id": "541726b3-fe3a-440b-b55f-e67a5074e32e",
   "metadata": {
    "scrolled": true,
    "tags": []
   },
   "outputs": [],
   "source": [
    "crear_commits(total_commits=5)\n",
    "ejecutar_comando_shell()"
   ]
  },
  {
   "cell_type": "markdown",
   "id": "20b71678-7805-4bf4-9b12-6f9587e5e2b3",
   "metadata": {},
   "source": [
    "### ADICIONAR EL HASH DEL COMMIT AL QUE SE QUIERE VOLVER"
   ]
  },
  {
   "cell_type": "code",
   "execution_count": null,
   "id": "268504c1-0fdc-4560-95f5-5f57d310ed5f",
   "metadata": {
    "scrolled": true,
    "tags": []
   },
   "outputs": [],
   "source": [
    "# define el commit al que se quiere regresar\n",
    "commit_id = '71bf9b7' # Dockerfile\n",
    "\n",
    "comando = 'git reset {commit_id}'.format(commit_id=commit_id)\n",
    "ejecutar_comando_git(comando)\n",
    "\n",
    "comando = 'git status'\n",
    "ejecutar_comando_git(comando)\n",
    "\n",
    "comando = 'git log --oneline'\n",
    "ejecutar_comando_git(comando)"
   ]
  },
  {
   "cell_type": "markdown",
   "id": "c0e39a30-3a87-4d0f-83e2-65ea43829c4e",
   "metadata": {},
   "source": [
    "# ELIMINA LOS ARCHIVOS"
   ]
  },
  {
   "cell_type": "markdown",
   "id": "a68c2d78-7f10-4e75-acbb-40ff80767815",
   "metadata": {},
   "source": [
    "### LOS ELIMINA DEL STAGE"
   ]
  },
  {
   "cell_type": "code",
   "execution_count": null,
   "id": "0f8cb4dc-df17-48fe-af99-3f3d46f93f09",
   "metadata": {
    "scrolled": true,
    "tags": []
   },
   "outputs": [],
   "source": [
    "# eliminar los archivos que no estan en el local repo, para evitar errores al cambiar de rama\n",
    "comando = 'git rm --cached \"*\"'\n",
    "ejecutar_comando_git(comando)\n",
    "\n",
    "comando = 'git status'\n",
    "ejecutar_comando_git(comando)\n",
    "\n",
    "ejecutar_comando_shell()"
   ]
  },
  {
   "cell_type": "markdown",
   "id": "3ee59814-4eaf-44f1-837e-d788331cee96",
   "metadata": {},
   "source": [
    "### LOS ELIMINA DEL WORKING DIRECTORY"
   ]
  },
  {
   "cell_type": "code",
   "execution_count": null,
   "id": "7096fbbb-01df-44e8-b783-3fbabb49c410",
   "metadata": {
    "scrolled": true,
    "tags": []
   },
   "outputs": [],
   "source": [
    "# elimina los archivos que estan en el working directory\n",
    "comando = 'git clean -f'\n",
    "ejecutar_comando_git(comando)\n",
    "\n",
    "comando = 'git status'\n",
    "ejecutar_comando_git(comando)\n",
    "\n",
    "comando = 'git log --oneline'\n",
    "ejecutar_comando_git(comando)\n",
    "\n",
    "ejecutar_comando_shell()"
   ]
  },
  {
   "cell_type": "markdown",
   "id": "bc6b1c1c-4845-44fd-bcee-2aaa139ff5ff",
   "metadata": {},
   "source": [
    "# RECUPERAR UN ARCHIVO ELIMINADO, LLEVARLO AL STAGE Y LUEGO AL WORKING DIRECTORY"
   ]
  },
  {
   "cell_type": "code",
   "execution_count": null,
   "id": "8eb785a0-6502-442e-a56b-c9541567551c",
   "metadata": {
    "scrolled": true,
    "tags": []
   },
   "outputs": [],
   "source": [
    "archivo_a_recuperar = 'Dockerfile'\n",
    "comando = f'git restore --staged {archivo_a_recuperar}'\n",
    "ejecutar_comando_git(comando)\n",
    "\n",
    "comando = 'git status'\n",
    "ejecutar_comando_git(comando)\n",
    "\n",
    "comando = f'git restore {archivo_a_recuperar}'\n",
    "ejecutar_comando_git(comando)\n",
    "\n",
    "comando = 'git status'\n",
    "ejecutar_comando_git(comando)\n",
    "\n",
    "comando = 'git log --oneline'\n",
    "ejecutar_comando_git(comando)"
   ]
  },
  {
   "cell_type": "markdown",
   "id": "4775bfba-b6e5-44d4-9f8c-6341bb25ca6a",
   "metadata": {},
   "source": [
    "## CREA UN NUEVO COMMIT PARA USARLO LUEGO EN EL REFLOG"
   ]
  },
  {
   "cell_type": "code",
   "execution_count": null,
   "id": "0be0353f-efb4-4b31-a7f7-e821d1995c4a",
   "metadata": {
    "scrolled": true,
    "tags": []
   },
   "outputs": [],
   "source": [
    "generar_archivos(todos_los_archivos=False)\n",
    "\n",
    "comando = 'git add info.txt'\n",
    "ejecutar_comando_git(comando)\n",
    "\n",
    "comando = 'git status'\n",
    "ejecutar_comando_git(comando)\n",
    "\n",
    "comando = f'git commit -m \"adicionado archivo INFO.txt PARA USAR EN REFLOG {datetime.now()}\"'\n",
    "ejecutar_comando_git(comando)\n",
    "\n",
    "comando = 'git status'\n",
    "ejecutar_comando_git(comando)\n",
    "\n",
    "comando = 'git log'\n",
    "ejecutar_comando_git(comando)\n",
    "\n",
    "ejecutar_comando_shell()"
   ]
  },
  {
   "cell_type": "markdown",
   "id": "a8676dbb-b263-4ea3-afc5-876d2f13e609",
   "metadata": {},
   "source": [
    "# <center> ELIMINAR UNA RAMA DE UN REPOSITORIO GIT</center>"
   ]
  },
  {
   "cell_type": "markdown",
   "id": "b8be8eec-7383-422a-bd89-dce1c7ca6c43",
   "metadata": {},
   "source": [
    "## ELIMINAR LA RAMA"
   ]
  },
  {
   "cell_type": "code",
   "execution_count": null,
   "id": "e67a933a-c5ec-4840-8abc-6d8d4a77de8d",
   "metadata": {
    "scrolled": true,
    "tags": []
   },
   "outputs": [],
   "source": [
    "# no se puede eliminar una rama si se esta trabajando en ese monento en ella\n",
    "comando = 'git checkout  {nombre_rama_principal}'.format(nombre_rama_principal=nombre_rama_principal)\n",
    "ejecutar_comando_git(comando)\n",
    "\n",
    "comando = 'git branch -D {nombre_rama}'.format(nombre_rama=nombre_rama)\n",
    "ejecutar_comando_git(comando)\n",
    "\n",
    "comando = 'git branch -a'\n",
    "ejecutar_comando_git(comando)"
   ]
  },
  {
   "cell_type": "markdown",
   "id": "5b20f6cc-3eab-4217-aa11-009ccdcc8cb2",
   "metadata": {},
   "source": [
    "# <center> PROBAR PUSH A UNA RAMA PROTEGIDA CONTRA ESCRITURA REPOSITORIO GIT</center>"
   ]
  },
  {
   "cell_type": "code",
   "execution_count": null,
   "id": "9753c7e7-16a3-4342-9139-3f67d17c9a3f",
   "metadata": {
    "scrolled": true,
    "tags": []
   },
   "outputs": [],
   "source": [
    "crear_commits(total_commits=1)\n",
    "ejecutar_comando_shell()\n",
    "\n",
    "comando = 'git push origin {nombre_rama_principal}'.format(nombre_rama_principal=nombre_rama_principal)\n",
    "ejecutar_comando_git(comando)"
   ]
  },
  {
   "cell_type": "code",
   "execution_count": null,
   "id": "428cf4c0-9c27-488b-8d5e-cbd0554864ff",
   "metadata": {
    "tags": []
   },
   "outputs": [],
   "source": [
    "commit_id = 'd481740'\n",
    "\n",
    "volver_al_commit_sin_cambios(commit_id=commit_id)"
   ]
  },
  {
   "cell_type": "markdown",
   "id": "4a3fabd1-29f8-4918-bdfd-3d227988fea2",
   "metadata": {},
   "source": [
    "# <center> OBTENER LA DIFERENCIA EN CONTENIDO ENTRE 2 RAMAS COMMITs DE UN REPOSITORIO</center>"
   ]
  },
  {
   "cell_type": "code",
   "execution_count": null,
   "id": "74f6794e-30f7-41b9-a138-b88fcfca5542",
   "metadata": {
    "scrolled": true,
    "tags": []
   },
   "outputs": [],
   "source": [
    "comando = 'git diff {nombre_rama_principal} {nombre_rama_remota}'.format(nombre_rama_principal=nombre_rama_principal, nombre_rama_remota=nombre_rama_remota)\n",
    "ejecutar_comando_git(comando)"
   ]
  },
  {
   "cell_type": "markdown",
   "id": "0d81a177-e2e4-43ca-8c10-dbb6d34d1bdb",
   "metadata": {},
   "source": [
    "# <center> RESTAURAR O RECUPERAR ARCHIVOS MODIFICADOS O ELIMINADOS DE UN REPOSITORIO GIT <br> SOLO MODIFICACIONES EN REPOSITORIO LOCAL, BASADO EN EL ULTIMO COMMIT <br/></center>"
   ]
  },
  {
   "cell_type": "code",
   "execution_count": null,
   "id": "2b421eb8-6750-444b-8ab2-f5cf9b0a7969",
   "metadata": {
    "scrolled": true,
    "tags": []
   },
   "outputs": [],
   "source": [
    "comando = 'git checkout {rama}'.format(rama=nombre_rama_remota_copia_checkout)\n",
    "ejecutar_comando_git(comando)\n",
    "\n",
    "generar_archivos()\n",
    "ejecutar_comando_shell()"
   ]
  },
  {
   "cell_type": "code",
   "execution_count": null,
   "id": "9b405222-61c6-426f-8edf-49d83352b5cd",
   "metadata": {
    "tags": []
   },
   "outputs": [],
   "source": [
    "eliminar_archivos_directorio()\n",
    "ejecutar_comando_shell()"
   ]
  },
  {
   "cell_type": "markdown",
   "id": "ec2b7910-181d-4ad4-a3b9-85fe48458802",
   "metadata": {},
   "source": [
    "### RESTAURAR UN ARCHIVO ESPECIFICO"
   ]
  },
  {
   "cell_type": "code",
   "execution_count": null,
   "id": "c18daf65-8f3e-428b-908a-1d2f6369052a",
   "metadata": {
    "tags": []
   },
   "outputs": [],
   "source": [
    "comando = 'git restore README.md'\n",
    "ejecutar_comando_git(comando)\n",
    "\n",
    "comando = 'git status'\n",
    "ejecutar_comando_git(comando)\n",
    "\n",
    "ejecutar_comando_shell()"
   ]
  },
  {
   "cell_type": "markdown",
   "id": "8874b7b6-3f5e-4d30-89b7-1e105bef1b3e",
   "metadata": {},
   "source": [
    "### RESTAURAR TODOS LOS ARCHIVOS AL MISMO TIEMPO"
   ]
  },
  {
   "cell_type": "code",
   "execution_count": null,
   "id": "39858306-067e-4400-84ef-5d07916e6dcf",
   "metadata": {
    "tags": []
   },
   "outputs": [],
   "source": [
    "comando = 'git restore .'\n",
    "ejecutar_comando_git(comando)\n",
    "\n",
    "comando = 'git status'\n",
    "ejecutar_comando_git(comando)\n",
    "\n",
    "ejecutar_comando_shell()"
   ]
  },
  {
   "cell_type": "markdown",
   "id": "3fac4a59-2441-43ec-8a45-8491b8d9d557",
   "metadata": {},
   "source": [
    "# <center> PUBLICAR UNA RAMA LOCAL QUE NO EXISTE EN REMOTO A UN REPOSITORIO GIT <br>https://github.com/JorgeCardona/comandos_git</br> </center>\n"
   ]
  },
  {
   "cell_type": "code",
   "execution_count": null,
   "id": "ebb1e80d-c652-4946-9c88-f50578118fd6",
   "metadata": {
    "tags": []
   },
   "outputs": [],
   "source": [
    "comando = 'git push --set-upstream origin {nombre_rama_remota_copia_checkout}'.format(nombre_rama_remota_copia_checkout=nombre_rama_remota_copia_checkout)\n",
    "ejecutar_comando_git(comando)\n",
    "\n",
    "comando = 'git branch -a'\n",
    "ejecutar_comando_git(comando)"
   ]
  },
  {
   "cell_type": "markdown",
   "id": "f940966c-8f73-4224-907b-8360e3b8f599",
   "metadata": {},
   "source": [
    "# <center> ADICIONAR ARCHIVOS NUEVOS A LA RAMA</center>"
   ]
  },
  {
   "cell_type": "code",
   "execution_count": null,
   "id": "2e71c11d-b2be-4529-9051-9f436105412d",
   "metadata": {
    "scrolled": true,
    "tags": []
   },
   "outputs": [],
   "source": [
    "generar_archivos()"
   ]
  },
  {
   "cell_type": "markdown",
   "id": "4a76c160-71f3-4614-9623-47db78fafc0d",
   "metadata": {},
   "source": [
    "# SUBIR NUEVOS ARCHIVOS A UNA RAMA DEL REPOSITORIO  <br>https://github.com/JorgeCardona/comandos_git</br> "
   ]
  },
  {
   "cell_type": "code",
   "execution_count": null,
   "id": "7ee35dc3-1d4b-4dee-8e4f-2d048d5b78e6",
   "metadata": {
    "scrolled": true,
    "tags": []
   },
   "outputs": [],
   "source": [
    "comando = 'git add .'\n",
    "ejecutar_comando_git(comando)\n",
    "\n",
    "comando = 'git commit -m \"adicionados archivos nuevos\"'\n",
    "ejecutar_comando_git(comando)\n",
    "\n",
    "comando = 'git status'\n",
    "ejecutar_comando_git(comando)\n",
    "\n",
    "ejecutar_comando_shell()"
   ]
  },
  {
   "cell_type": "code",
   "execution_count": null,
   "id": "00154781-f37b-42d5-9ce0-334b0c479d0c",
   "metadata": {
    "tags": []
   },
   "outputs": [],
   "source": [
    "# siempre origin para repositorios remotos\n",
    "comando = 'git push origin'\n",
    "ejecutar_comando_git(comando)\n",
    "\n",
    "ejecutar_comando_shell()"
   ]
  },
  {
   "cell_type": "markdown",
   "id": "52ab69e2-a9cd-4315-9f9d-c2e8808801ee",
   "metadata": {},
   "source": [
    "## ELIMINAR RAMA DE UN REPOSITORIO REMOTO <br>https://github.com/JorgeCardona/comandos_git</br> "
   ]
  },
  {
   "cell_type": "code",
   "execution_count": null,
   "id": "f8839285-d396-4d65-a3ef-c6a1aa2e76c4",
   "metadata": {
    "tags": []
   },
   "outputs": [],
   "source": [
    "comando = 'git push origin -d {nombre_rama_remota_copia_checkout}'.format(nombre_rama_remota_copia_checkout=nombre_rama_remota_copia_checkout)\n",
    "ejecutar_comando_git(comando)\n",
    "\n",
    "comando = 'git branch -a'\n",
    "ejecutar_comando_git(comando)"
   ]
  },
  {
   "cell_type": "markdown",
   "id": "f0e86df2-22b9-4a06-b9e0-8a63b2ad3507",
   "metadata": {},
   "source": [
    "### ELIMINAR RAMAS LOCALES QUE NO SE VAN A USAR MAS"
   ]
  },
  {
   "cell_type": "code",
   "execution_count": null,
   "id": "6509d510-3d28-4f75-922d-74189f634df0",
   "metadata": {
    "scrolled": true,
    "tags": []
   },
   "outputs": [],
   "source": [
    "lista_ramas_a_eliminar = [nombre_rama_remota, nombre_rama_switch, nombre_rama_remota_copia_checkout, nombre_rama_remota_copia_switch, nuevo_nombre_rama_renombrada_checkout, nuevo_nombre_rama_acceso_rapido_renombrada_checkout]\n",
    "\n",
    "comando = 'git checkout  {nombre_rama_principal}'.format(nombre_rama_principal=nombre_rama_principal)\n",
    "ejecutar_comando_git(comando)\n",
    "    \n",
    "for nombre_rama in lista_ramas_a_eliminar:\n",
    "    # elimina la rama\n",
    "    comando = 'git branch -D {nombre_rama}'.format(nombre_rama=nombre_rama)\n",
    "    ejecutar_comando_git(comando)\n",
    "    \n",
    "ejecutar_comando_shell()"
   ]
  },
  {
   "cell_type": "markdown",
   "id": "a92b6a44-db5f-4baa-8fe3-c8402e6175e1",
   "metadata": {},
   "source": [
    "## FETCH\n",
    "<center>\n",
    "    <img width=\"75%\" align=\"center\" src=\"fecth.gif\">\n",
    "</center>"
   ]
  },
  {
   "cell_type": "markdown",
   "id": "05fed093-0dab-4f8f-b9b7-8bc2dc1bf3de",
   "metadata": {
    "tags": []
   },
   "source": [
    "## PULL\n",
    "<center>\n",
    "    <img width=\"75%\" align=\"center\" src=\"pull.gif\">\n",
    "</center>"
   ]
  },
  {
   "cell_type": "markdown",
   "id": "708c0fc6-1c94-4bd3-b237-c336fdc408ae",
   "metadata": {},
   "source": [
    "# <center> LISTAR EL HISTORIAL DE COMMITS DE UN REPOSITORIO GIT</center>"
   ]
  },
  {
   "cell_type": "markdown",
   "id": "03c490cf-5706-4b76-aa55-b47ba6dc5771",
   "metadata": {},
   "source": [
    "### VER EL HISTORIAL COMPLETO DE LA RAMA MAIN"
   ]
  },
  {
   "cell_type": "code",
   "execution_count": 17,
   "id": "6aba429a-d966-479a-858f-a09ed692d268",
   "metadata": {
    "scrolled": true,
    "tags": []
   },
   "outputs": [
    {
     "name": "stdout",
     "output_type": "stream",
     "text": [
      "############################################# COMANDO A EJECUTAR #############################################\n",
      "git checkout  main\n",
      "####################################### RESULTADO DE COMANDO EJECUTADO #######################################\n",
      "Your branch is up to date with 'origin/main'.\n",
      "##############################################################################################################\n",
      "\n",
      "############################################# COMANDO A EJECUTAR #############################################\n",
      "git log\n",
      "####################################### RESULTADO DE COMANDO EJECUTADO #######################################\n",
      "commit c0925c2c7f6b583d248a5b2bc9ae7ad53c962a85\n",
      "Author: QiDimMak <cienciagoku@gmail.com>\n",
      "Date:   Mon Mar 27 22:44:25 2023 -0500\n",
      "\n",
      "    adicionado usuario\n",
      "\n",
      "commit d4817403ddb0f529bf30d4769eb5a9dc002e49a6\n",
      "Author: PARADIGMA\\QiDimMak <jorgecardona@utp.edu.co>\n",
      "Date:   Mon Mar 27 22:44:25 2023 -0500\n",
      "\n",
      "    adicionado requirements.txt\n",
      "\n",
      "commit fd01bde637f8bacb4d2a99f6ace425480be3599a\n",
      "Author: PARADIGMA\\QiDimMak <jorgecardona@utp.edu.co>\n",
      "Date:   Mon Mar 27 22:43:04 2023 -0500\n",
      "\n",
      "    adicionado readme\n",
      "\n",
      "commit 6bfbfd4a81082e9312caf0a94ba88d975f9db1e9\n",
      "Author: PARADIGMA\\QiDimMak <jorgecardona@utp.edu.co>\n",
      "Date:   Mon Mar 27 22:42:46 2023 -0500\n",
      "\n",
      "    adicionado license\n",
      "\n",
      "commit e56280cade6f8f0f6995349582d4e1eaaf07cbdd\n",
      "Author: PARADIGMA\\QiDimMak <jorgecardona@utp.edu.co>\n",
      "Date:   Mon Mar 27 22:42:26 2023 -0500\n",
      "\n",
      "    adicionado .gitignore\n",
      "##############################################################################################################\n",
      "\n",
      "############################################# COMANDO A EJECUTAR #############################################\n",
      "git branch\n",
      "####################################### RESULTADO DE COMANDO EJECUTADO #######################################\n",
      "* main\n",
      "##############################################################################################################\n",
      "\n"
     ]
    }
   ],
   "source": [
    "comando = 'git checkout  {nombre_rama_principal}'.format(nombre_rama_principal=nombre_rama_principal)\n",
    "ejecutar_comando_git(comando)\n",
    "\n",
    "comando = 'git log'\n",
    "ejecutar_comando_git(comando)\n",
    "\n",
    "ejecutar_comando_shell()"
   ]
  },
  {
   "cell_type": "markdown",
   "id": "e3fb7568-f0f6-41b3-adaa-e40aec8b6c74",
   "metadata": {},
   "source": [
    "### VER HISTORIAL OTRA RAMA REMOTA"
   ]
  },
  {
   "cell_type": "code",
   "execution_count": 18,
   "id": "bab303fe-fe43-48c4-8267-2bd6899a92d1",
   "metadata": {
    "scrolled": true,
    "tags": []
   },
   "outputs": [
    {
     "name": "stdout",
     "output_type": "stream",
     "text": [
      "############################################# COMANDO A EJECUTAR #############################################\n",
      "git restore .\n",
      "####################################### RESULTADO DE COMANDO EJECUTADO #######################################\n",
      "##############################################################################################################\n",
      "\n",
      "############################################# COMANDO A EJECUTAR #############################################\n",
      "git checkout main --force\n",
      "####################################### RESULTADO DE COMANDO EJECUTADO #######################################\n",
      "Your branch is up to date with 'origin/main'.\n",
      "##############################################################################################################\n",
      "\n",
      "############################################# COMANDO A EJECUTAR #############################################\n",
      "git branch -a\n",
      "####################################### RESULTADO DE COMANDO EJECUTADO #######################################\n",
      "* main\n",
      "  remotes/origin/HEAD -> origin/main\n",
      "  remotes/origin/bisect_branch\n",
      "  remotes/origin/main\n",
      "  remotes/origin/multi_commits\n",
      "##############################################################################################################\n",
      "\n",
      "############################################# COMANDO A EJECUTAR #############################################\n",
      "git branch -a\n",
      "####################################### RESULTADO DE COMANDO EJECUTADO #######################################\n",
      "* main\n",
      "  remotes/origin/HEAD -> origin/main\n",
      "  remotes/origin/bisect_branch\n",
      "  remotes/origin/main\n",
      "  remotes/origin/multi_commits\n",
      "##############################################################################################################\n",
      "\n",
      "############################################# COMANDO A EJECUTAR #############################################\n",
      "git branch\n",
      "####################################### RESULTADO DE COMANDO EJECUTADO #######################################\n",
      "* main\n",
      "##############################################################################################################\n",
      "\n",
      "############################################# COMANDO A EJECUTAR #############################################\n",
      "git checkout -b commit_branch\n",
      "####################################### RESULTADO DE COMANDO EJECUTADO #######################################\n",
      "##############################################################################################################\n",
      "\n",
      "lista_de_archivos = ['info.txt', 'Dockerfile', 'Manifest.yaml', 'imagen.png', 'main.py', 'connection.java', 'calculos.c', 'addon.php', 'utils.gif', 'query.sql', 'dataset.avro', 'link.vs']\n",
      "############################################# COMANDO A EJECUTAR #############################################\n",
      "echo 1681017430.228169 >> info.txt\n",
      "####################################### RESULTADO DE COMANDO EJECUTADO #######################################\n",
      "##############################################################################################################\n",
      "\n",
      "############################################# COMANDO A EJECUTAR #############################################\n",
      "echo 1681017430.344053 >> Dockerfile\n",
      "####################################### RESULTADO DE COMANDO EJECUTADO #######################################\n",
      "##############################################################################################################\n",
      "\n",
      "############################################# COMANDO A EJECUTAR #############################################\n",
      "echo 1681017430.469672 >> Manifest.yaml\n",
      "####################################### RESULTADO DE COMANDO EJECUTADO #######################################\n",
      "##############################################################################################################\n",
      "\n",
      "############################################# COMANDO A EJECUTAR #############################################\n",
      "echo 1681017430.583589 >> imagen.png\n",
      "####################################### RESULTADO DE COMANDO EJECUTADO #######################################\n",
      "##############################################################################################################\n",
      "\n",
      "############################################# COMANDO A EJECUTAR #############################################\n",
      "echo 1681017430.696001 >> main.py\n",
      "####################################### RESULTADO DE COMANDO EJECUTADO #######################################\n",
      "##############################################################################################################\n",
      "\n",
      "############################################# COMANDO A EJECUTAR #############################################\n",
      "echo 1681017430.814632 >> connection.java\n",
      "####################################### RESULTADO DE COMANDO EJECUTADO #######################################\n",
      "##############################################################################################################\n",
      "\n",
      "############################################# COMANDO A EJECUTAR #############################################\n",
      "echo 1681017430.927819 >> calculos.c\n",
      "####################################### RESULTADO DE COMANDO EJECUTADO #######################################\n",
      "##############################################################################################################\n",
      "\n",
      "############################################# COMANDO A EJECUTAR #############################################\n",
      "echo 1681017431.037834 >> addon.php\n",
      "####################################### RESULTADO DE COMANDO EJECUTADO #######################################\n",
      "##############################################################################################################\n",
      "\n",
      "############################################# COMANDO A EJECUTAR #############################################\n",
      "echo 1681017431.15328 >> utils.gif\n",
      "####################################### RESULTADO DE COMANDO EJECUTADO #######################################\n",
      "##############################################################################################################\n",
      "\n",
      "############################################# COMANDO A EJECUTAR #############################################\n",
      "echo 1681017431.262706 >> query.sql\n",
      "####################################### RESULTADO DE COMANDO EJECUTADO #######################################\n",
      "##############################################################################################################\n",
      "\n",
      "############################################# COMANDO A EJECUTAR #############################################\n",
      "echo 1681017431.38718 >> dataset.avro\n",
      "####################################### RESULTADO DE COMANDO EJECUTADO #######################################\n",
      "##############################################################################################################\n",
      "\n",
      "############################################# COMANDO A EJECUTAR #############################################\n",
      "echo 1681017431.496514 >> link.vs\n",
      "####################################### RESULTADO DE COMANDO EJECUTADO #######################################\n",
      "##############################################################################################################\n",
      "\n",
      "############################################# COMANDO A EJECUTAR #############################################\n",
      "git add info.txt\n",
      "####################################### RESULTADO DE COMANDO EJECUTADO #######################################\n",
      "##############################################################################################################\n",
      "\n",
      "############################################# COMANDO A EJECUTAR #############################################\n",
      "git commit -m \"ADICIONADO ARCHIVO info.txt 2023-04-09 00:17:10.120143\" -m \"- El proposito es generar un registro de archivos con su fecha correspondiente, - Se adiciono el archivo info.txt al commit, - La fecha donde se creao este commit es 2023-04-09 00:17:10.120143\"\n",
      "####################################### RESULTADO DE COMANDO EJECUTADO #######################################\n",
      "[commit_branch 2e67dcd] ADICIONADO ARCHIVO info.txt 2023-04-09 00:17:10.120143\n",
      " 1 file changed, 1 insertion(+)\n",
      " create mode 100644 info.txt\n",
      "##############################################################################################################\n",
      "\n",
      "############################################# COMANDO A EJECUTAR #############################################\n",
      "git commit --amend --no-edit --author=cienciagoku@gmail.com\n",
      "####################################### RESULTADO DE COMANDO EJECUTADO #######################################\n",
      "[commit_branch cac28b3] ADICIONADO ARCHIVO info.txt 2023-04-09 00:17:10.120143\n",
      " Author: QiDimMak <cienciagoku@gmail.com>\n",
      " Date: Sun Apr 9 00:17:11 2023 -0500\n",
      " 1 file changed, 1 insertion(+)\n",
      " create mode 100644 info.txt\n",
      "##############################################################################################################\n",
      "\n",
      "############################################# COMANDO A EJECUTAR #############################################\n",
      "git add Dockerfile\n",
      "####################################### RESULTADO DE COMANDO EJECUTADO #######################################\n",
      "##############################################################################################################\n",
      "\n",
      "############################################# COMANDO A EJECUTAR #############################################\n",
      "git commit -m \"ADICIONADO ARCHIVO Dockerfile 2023-04-09 00:17:10.120143\" -m \"- El proposito es generar un registro de archivos con su fecha correspondiente, - Se adiciono el archivo Dockerfile al commit, - La fecha donde se creao este commit es 2023-04-09 00:17:10.120143\"\n",
      "####################################### RESULTADO DE COMANDO EJECUTADO #######################################\n",
      "[commit_branch a5b42ac] ADICIONADO ARCHIVO Dockerfile 2023-04-09 00:17:10.120143\n",
      " 1 file changed, 1 insertion(+)\n",
      " create mode 100644 Dockerfile\n",
      "##############################################################################################################\n",
      "\n",
      "############################################# COMANDO A EJECUTAR #############################################\n",
      "git add Manifest.yaml\n",
      "####################################### RESULTADO DE COMANDO EJECUTADO #######################################\n",
      "##############################################################################################################\n",
      "\n",
      "############################################# COMANDO A EJECUTAR #############################################\n",
      "git commit -m \"ADICIONADO ARCHIVO Manifest.yaml 2023-04-09 00:17:10.120143\" -m \"- El proposito es generar un registro de archivos con su fecha correspondiente, - Se adiciono el archivo Manifest.yaml al commit, - La fecha donde se creao este commit es 2023-04-09 00:17:10.120143\"\n",
      "####################################### RESULTADO DE COMANDO EJECUTADO #######################################\n",
      "[commit_branch f4a538b] ADICIONADO ARCHIVO Manifest.yaml 2023-04-09 00:17:10.120143\n",
      " 1 file changed, 1 insertion(+)\n",
      " create mode 100644 Manifest.yaml\n",
      "##############################################################################################################\n",
      "\n",
      "############################################# COMANDO A EJECUTAR #############################################\n",
      "git commit --amend --no-edit --author=cienciagoku@gmail.com\n",
      "####################################### RESULTADO DE COMANDO EJECUTADO #######################################\n",
      "[commit_branch cf440b4] ADICIONADO ARCHIVO Manifest.yaml 2023-04-09 00:17:10.120143\n",
      " Author: QiDimMak <cienciagoku@gmail.com>\n",
      " Date: Sun Apr 9 00:17:11 2023 -0500\n",
      " 1 file changed, 1 insertion(+)\n",
      " create mode 100644 Manifest.yaml\n",
      "##############################################################################################################\n",
      "\n",
      "############################################# COMANDO A EJECUTAR #############################################\n",
      "git add imagen.png\n",
      "####################################### RESULTADO DE COMANDO EJECUTADO #######################################\n",
      "##############################################################################################################\n",
      "\n",
      "############################################# COMANDO A EJECUTAR #############################################\n",
      "git commit -m \"ADICIONADO ARCHIVO imagen.png 2023-04-09 00:17:10.120143\" -m \"- El proposito es generar un registro de archivos con su fecha correspondiente, - Se adiciono el archivo imagen.png al commit, - La fecha donde se creao este commit es 2023-04-09 00:17:10.120143\"\n",
      "####################################### RESULTADO DE COMANDO EJECUTADO #######################################\n",
      "[commit_branch b2d8ee3] ADICIONADO ARCHIVO imagen.png 2023-04-09 00:17:10.120143\n",
      " 1 file changed, 1 insertion(+)\n",
      " create mode 100644 imagen.png\n",
      "##############################################################################################################\n",
      "\n",
      "############################################# COMANDO A EJECUTAR #############################################\n",
      "git add main.py\n",
      "####################################### RESULTADO DE COMANDO EJECUTADO #######################################\n",
      "##############################################################################################################\n",
      "\n",
      "############################################# COMANDO A EJECUTAR #############################################\n",
      "git commit -m \"ADICIONADO ARCHIVO main.py 2023-04-09 00:17:10.120143\" -m \"- El proposito es generar un registro de archivos con su fecha correspondiente, - Se adiciono el archivo main.py al commit, - La fecha donde se creao este commit es 2023-04-09 00:17:10.120143\"\n",
      "####################################### RESULTADO DE COMANDO EJECUTADO #######################################\n",
      "[commit_branch a293d5b] ADICIONADO ARCHIVO main.py 2023-04-09 00:17:10.120143\n",
      " 1 file changed, 1 insertion(+)\n",
      " create mode 100644 main.py\n",
      "##############################################################################################################\n",
      "\n",
      "############################################# COMANDO A EJECUTAR #############################################\n",
      "git commit --amend --no-edit --author=cienciagoku@gmail.com\n",
      "####################################### RESULTADO DE COMANDO EJECUTADO #######################################\n",
      "[commit_branch d814645] ADICIONADO ARCHIVO main.py 2023-04-09 00:17:10.120143\n",
      " Author: QiDimMak <cienciagoku@gmail.com>\n",
      " Date: Sun Apr 9 00:17:12 2023 -0500\n",
      " 1 file changed, 1 insertion(+)\n",
      " create mode 100644 main.py\n",
      "##############################################################################################################\n",
      "\n",
      "############################################# COMANDO A EJECUTAR #############################################\n",
      "git add connection.java\n",
      "####################################### RESULTADO DE COMANDO EJECUTADO #######################################\n",
      "##############################################################################################################\n",
      "\n",
      "############################################# COMANDO A EJECUTAR #############################################\n",
      "git commit -m \"ADICIONADO ARCHIVO connection.java 2023-04-09 00:17:10.120143\" -m \"- El proposito es generar un registro de archivos con su fecha correspondiente, - Se adiciono el archivo connection.java al commit, - La fecha donde se creao este commit es 2023-04-09 00:17:10.120143\"\n",
      "####################################### RESULTADO DE COMANDO EJECUTADO #######################################\n",
      "[commit_branch c06e6c3] ADICIONADO ARCHIVO connection.java 2023-04-09 00:17:10.120143\n",
      " 1 file changed, 1 insertion(+)\n",
      " create mode 100644 connection.java\n",
      "##############################################################################################################\n",
      "\n",
      "############################################# COMANDO A EJECUTAR #############################################\n",
      "git add calculos.c\n",
      "####################################### RESULTADO DE COMANDO EJECUTADO #######################################\n",
      "##############################################################################################################\n",
      "\n",
      "############################################# COMANDO A EJECUTAR #############################################\n",
      "git commit -m \"ADICIONADO ARCHIVO calculos.c 2023-04-09 00:17:10.120143\" -m \"- El proposito es generar un registro de archivos con su fecha correspondiente, - Se adiciono el archivo calculos.c al commit, - La fecha donde se creao este commit es 2023-04-09 00:17:10.120143\"\n",
      "####################################### RESULTADO DE COMANDO EJECUTADO #######################################\n",
      "[commit_branch e96dc4f] ADICIONADO ARCHIVO calculos.c 2023-04-09 00:17:10.120143\n",
      " 1 file changed, 1 insertion(+)\n",
      " create mode 100644 calculos.c\n",
      "##############################################################################################################\n",
      "\n",
      "############################################# COMANDO A EJECUTAR #############################################\n",
      "git commit --amend --no-edit --author=cienciagoku@gmail.com\n",
      "####################################### RESULTADO DE COMANDO EJECUTADO #######################################\n",
      "[commit_branch 799d540] ADICIONADO ARCHIVO calculos.c 2023-04-09 00:17:10.120143\n",
      " Author: QiDimMak <cienciagoku@gmail.com>\n",
      " Date: Sun Apr 9 00:17:12 2023 -0500\n",
      " 1 file changed, 1 insertion(+)\n",
      " create mode 100644 calculos.c\n",
      "##############################################################################################################\n",
      "\n",
      "############################################# COMANDO A EJECUTAR #############################################\n",
      "git add addon.php\n",
      "####################################### RESULTADO DE COMANDO EJECUTADO #######################################\n",
      "##############################################################################################################\n",
      "\n",
      "############################################# COMANDO A EJECUTAR #############################################\n",
      "git commit -m \"ADICIONADO ARCHIVO addon.php 2023-04-09 00:17:10.120143\" -m \"- El proposito es generar un registro de archivos con su fecha correspondiente, - Se adiciono el archivo addon.php al commit, - La fecha donde se creao este commit es 2023-04-09 00:17:10.120143\"\n",
      "####################################### RESULTADO DE COMANDO EJECUTADO #######################################\n",
      "[commit_branch 0289d91] ADICIONADO ARCHIVO addon.php 2023-04-09 00:17:10.120143\n",
      " 1 file changed, 1 insertion(+)\n",
      " create mode 100644 addon.php\n",
      "##############################################################################################################\n",
      "\n",
      "############################################# COMANDO A EJECUTAR #############################################\n",
      "git add utils.gif\n",
      "####################################### RESULTADO DE COMANDO EJECUTADO #######################################\n",
      "##############################################################################################################\n",
      "\n",
      "############################################# COMANDO A EJECUTAR #############################################\n",
      "git commit -m \"ADICIONADO ARCHIVO utils.gif 2023-04-09 00:17:10.120143\" -m \"- El proposito es generar un registro de archivos con su fecha correspondiente, - Se adiciono el archivo utils.gif al commit, - La fecha donde se creao este commit es 2023-04-09 00:17:10.120143\"\n",
      "####################################### RESULTADO DE COMANDO EJECUTADO #######################################\n",
      "[commit_branch d5e5436] ADICIONADO ARCHIVO utils.gif 2023-04-09 00:17:10.120143\n",
      " 1 file changed, 1 insertion(+)\n",
      " create mode 100644 utils.gif\n",
      "##############################################################################################################\n",
      "\n",
      "############################################# COMANDO A EJECUTAR #############################################\n",
      "git commit --amend --no-edit --author=cienciagoku@gmail.com\n",
      "####################################### RESULTADO DE COMANDO EJECUTADO #######################################\n",
      "[commit_branch 710983f] ADICIONADO ARCHIVO utils.gif 2023-04-09 00:17:10.120143\n",
      " Author: QiDimMak <cienciagoku@gmail.com>\n",
      " Date: Sun Apr 9 00:17:13 2023 -0500\n",
      " 1 file changed, 1 insertion(+)\n",
      " create mode 100644 utils.gif\n",
      "##############################################################################################################\n",
      "\n",
      "############################################# COMANDO A EJECUTAR #############################################\n",
      "git add query.sql\n",
      "####################################### RESULTADO DE COMANDO EJECUTADO #######################################\n",
      "##############################################################################################################\n",
      "\n",
      "############################################# COMANDO A EJECUTAR #############################################\n",
      "git commit -m \"ADICIONADO ARCHIVO query.sql 2023-04-09 00:17:10.120143\" -m \"- El proposito es generar un registro de archivos con su fecha correspondiente, - Se adiciono el archivo query.sql al commit, - La fecha donde se creao este commit es 2023-04-09 00:17:10.120143\"\n",
      "####################################### RESULTADO DE COMANDO EJECUTADO #######################################\n",
      "[commit_branch 8b026a4] ADICIONADO ARCHIVO query.sql 2023-04-09 00:17:10.120143\n",
      " 1 file changed, 1 insertion(+)\n",
      " create mode 100644 query.sql\n",
      "##############################################################################################################\n",
      "\n",
      "############################################# COMANDO A EJECUTAR #############################################\n",
      "git add dataset.avro\n",
      "####################################### RESULTADO DE COMANDO EJECUTADO #######################################\n",
      "##############################################################################################################\n",
      "\n",
      "############################################# COMANDO A EJECUTAR #############################################\n",
      "git commit -m \"ADICIONADO ARCHIVO dataset.avro 2023-04-09 00:17:10.120143\" -m \"- El proposito es generar un registro de archivos con su fecha correspondiente, - Se adiciono el archivo dataset.avro al commit, - La fecha donde se creao este commit es 2023-04-09 00:17:10.120143\"\n",
      "####################################### RESULTADO DE COMANDO EJECUTADO #######################################\n",
      "[commit_branch 224a63a] ADICIONADO ARCHIVO dataset.avro 2023-04-09 00:17:10.120143\n",
      " 1 file changed, 1 insertion(+)\n",
      " create mode 100644 dataset.avro\n",
      "##############################################################################################################\n",
      "\n",
      "############################################# COMANDO A EJECUTAR #############################################\n",
      "git commit --amend --no-edit --author=cienciagoku@gmail.com\n",
      "####################################### RESULTADO DE COMANDO EJECUTADO #######################################\n",
      "[commit_branch 66cefd9] ADICIONADO ARCHIVO dataset.avro 2023-04-09 00:17:10.120143\n",
      " Author: QiDimMak <cienciagoku@gmail.com>\n",
      " Date: Sun Apr 9 00:17:13 2023 -0500\n",
      " 1 file changed, 1 insertion(+)\n",
      " create mode 100644 dataset.avro\n",
      "##############################################################################################################\n",
      "\n",
      "############################################# COMANDO A EJECUTAR #############################################\n",
      "git add link.vs\n",
      "####################################### RESULTADO DE COMANDO EJECUTADO #######################################\n",
      "##############################################################################################################\n",
      "\n",
      "############################################# COMANDO A EJECUTAR #############################################\n",
      "git commit -m \"ADICIONADO ARCHIVO link.vs 2023-04-09 00:17:10.120143\" -m \"- El proposito es generar un registro de archivos con su fecha correspondiente, - Se adiciono el archivo link.vs al commit, - La fecha donde se creao este commit es 2023-04-09 00:17:10.120143\"\n",
      "####################################### RESULTADO DE COMANDO EJECUTADO #######################################\n",
      "[commit_branch f9a93e6] ADICIONADO ARCHIVO link.vs 2023-04-09 00:17:10.120143\n",
      " 1 file changed, 1 insertion(+)\n",
      " create mode 100644 link.vs\n",
      "##############################################################################################################\n",
      "\n",
      "############################################# COMANDO A EJECUTAR #############################################\n",
      "git status\n",
      "####################################### RESULTADO DE COMANDO EJECUTADO #######################################\n",
      "On branch commit_branch\n",
      "nothing to commit, working tree clean\n",
      "##############################################################################################################\n",
      "\n",
      "############################################# COMANDO A EJECUTAR #############################################\n",
      "git log --graph --oneline\n",
      "####################################### RESULTADO DE COMANDO EJECUTADO #######################################\n",
      "* f9a93e6 ADICIONADO ARCHIVO link.vs 2023-04-09 00:17:10.120143\n",
      "* 66cefd9 ADICIONADO ARCHIVO dataset.avro 2023-04-09 00:17:10.120143\n",
      "* 8b026a4 ADICIONADO ARCHIVO query.sql 2023-04-09 00:17:10.120143\n",
      "* 710983f ADICIONADO ARCHIVO utils.gif 2023-04-09 00:17:10.120143\n",
      "* 0289d91 ADICIONADO ARCHIVO addon.php 2023-04-09 00:17:10.120143\n",
      "* 799d540 ADICIONADO ARCHIVO calculos.c 2023-04-09 00:17:10.120143\n",
      "* c06e6c3 ADICIONADO ARCHIVO connection.java 2023-04-09 00:17:10.120143\n",
      "* d814645 ADICIONADO ARCHIVO main.py 2023-04-09 00:17:10.120143\n",
      "* b2d8ee3 ADICIONADO ARCHIVO imagen.png 2023-04-09 00:17:10.120143\n",
      "* cf440b4 ADICIONADO ARCHIVO Manifest.yaml 2023-04-09 00:17:10.120143\n",
      "* a5b42ac ADICIONADO ARCHIVO Dockerfile 2023-04-09 00:17:10.120143\n",
      "* cac28b3 ADICIONADO ARCHIVO info.txt 2023-04-09 00:17:10.120143\n",
      "* c0925c2 adicionado usuario\n",
      "* d481740 adicionado requirements.txt\n",
      "* fd01bde adicionado readme\n",
      "* 6bfbfd4 adicionado license\n",
      "* e56280c adicionado .gitignore\n",
      "##############################################################################################################\n",
      "\n",
      "############################################# COMANDO A EJECUTAR #############################################\n",
      "git push --set-upstream origin commit_branch\n",
      "####################################### RESULTADO DE COMANDO EJECUTADO #######################################\n",
      "Branch 'commit_branch' set up to track remote branch 'commit_branch' from 'origin'.\n",
      "##############################################################################################################\n",
      "\n",
      "############################################# COMANDO A EJECUTAR #############################################\n",
      "git branch\n",
      "####################################### RESULTADO DE COMANDO EJECUTADO #######################################\n",
      "* commit_branch\n",
      "  main\n",
      "##############################################################################################################\n",
      "\n",
      "lista_de_archivos = ['info.txt', 'Dockerfile', 'Manifest.yaml', 'imagen.png', 'main.py', 'connection.java', 'calculos.c', 'addon.php', 'utils.gif', 'query.sql', 'dataset.avro', 'link.vs']\n",
      "############################################# COMANDO A EJECUTAR #############################################\n",
      "echo 1681017436.699669 >> info.txt\n",
      "####################################### RESULTADO DE COMANDO EJECUTADO #######################################\n",
      "##############################################################################################################\n",
      "\n",
      "############################################# COMANDO A EJECUTAR #############################################\n",
      "echo 1681017436.815672 >> Dockerfile\n",
      "####################################### RESULTADO DE COMANDO EJECUTADO #######################################\n",
      "##############################################################################################################\n",
      "\n",
      "############################################# COMANDO A EJECUTAR #############################################\n",
      "echo 1681017436.925006 >> Manifest.yaml\n",
      "####################################### RESULTADO DE COMANDO EJECUTADO #######################################\n",
      "##############################################################################################################\n",
      "\n",
      "############################################# COMANDO A EJECUTAR #############################################\n",
      "echo 1681017437.04968 >> imagen.png\n",
      "####################################### RESULTADO DE COMANDO EJECUTADO #######################################\n",
      "##############################################################################################################\n",
      "\n",
      "############################################# COMANDO A EJECUTAR #############################################\n",
      "echo 1681017437.163123 >> main.py\n",
      "####################################### RESULTADO DE COMANDO EJECUTADO #######################################\n",
      "##############################################################################################################\n",
      "\n",
      "############################################# COMANDO A EJECUTAR #############################################\n",
      "echo 1681017437.282621 >> connection.java\n",
      "####################################### RESULTADO DE COMANDO EJECUTADO #######################################\n",
      "##############################################################################################################\n",
      "\n",
      "############################################# COMANDO A EJECUTAR #############################################\n",
      "echo 1681017437.3952 >> calculos.c\n",
      "####################################### RESULTADO DE COMANDO EJECUTADO #######################################\n",
      "##############################################################################################################\n",
      "\n",
      "############################################# COMANDO A EJECUTAR #############################################\n",
      "echo 1681017437.512677 >> addon.php\n",
      "####################################### RESULTADO DE COMANDO EJECUTADO #######################################\n",
      "##############################################################################################################\n",
      "\n",
      "############################################# COMANDO A EJECUTAR #############################################\n",
      "echo 1681017437.622673 >> utils.gif\n",
      "####################################### RESULTADO DE COMANDO EJECUTADO #######################################\n",
      "##############################################################################################################\n",
      "\n",
      "############################################# COMANDO A EJECUTAR #############################################\n",
      "echo 1681017437.735017 >> query.sql\n",
      "####################################### RESULTADO DE COMANDO EJECUTADO #######################################\n",
      "##############################################################################################################\n",
      "\n",
      "############################################# COMANDO A EJECUTAR #############################################\n",
      "echo 1681017437.859682 >> dataset.avro\n",
      "####################################### RESULTADO DE COMANDO EJECUTADO #######################################\n",
      "##############################################################################################################\n",
      "\n",
      "############################################# COMANDO A EJECUTAR #############################################\n",
      "echo 1681017437.970213 >> link.vs\n",
      "####################################### RESULTADO DE COMANDO EJECUTADO #######################################\n",
      "##############################################################################################################\n",
      "\n",
      "############################################# COMANDO A EJECUTAR #############################################\n",
      "git status\n",
      "####################################### RESULTADO DE COMANDO EJECUTADO #######################################\n",
      "On branch commit_branch\n",
      "Your branch is up to date with 'origin/commit_branch'.\n",
      "\n",
      "Changes not staged for commit:\n",
      "  (use \"git add <file>...\" to update what will be committed)\n",
      "  (use \"git restore <file>...\" to discard changes in working directory)\n",
      "\tmodified:   Dockerfile\n",
      "\tmodified:   Manifest.yaml\n",
      "\tmodified:   addon.php\n",
      "\tmodified:   calculos.c\n",
      "\tmodified:   connection.java\n",
      "\tmodified:   dataset.avro\n",
      "\tmodified:   imagen.png\n",
      "\tmodified:   info.txt\n",
      "\tmodified:   link.vs\n",
      "\tmodified:   main.py\n",
      "\tmodified:   query.sql\n",
      "\tmodified:   utils.gif\n",
      "\n",
      "no changes added to commit (use \"git add\" and/or \"git commit -a\")\n",
      "##############################################################################################################\n",
      "\n",
      "############################################# COMANDO A EJECUTAR #############################################\n",
      "git add .\n",
      "####################################### RESULTADO DE COMANDO EJECUTADO #######################################\n",
      "##############################################################################################################\n",
      "\n",
      "############################################# COMANDO A EJECUTAR #############################################\n",
      "git status\n",
      "####################################### RESULTADO DE COMANDO EJECUTADO #######################################\n",
      "On branch commit_branch\n",
      "Your branch is up to date with 'origin/commit_branch'.\n",
      "\n",
      "Changes to be committed:\n",
      "  (use \"git restore --staged <file>...\" to unstage)\n",
      "\tmodified:   Dockerfile\n",
      "\tmodified:   Manifest.yaml\n",
      "\tmodified:   addon.php\n",
      "\tmodified:   calculos.c\n",
      "\tmodified:   connection.java\n",
      "\tmodified:   dataset.avro\n",
      "\tmodified:   imagen.png\n",
      "\tmodified:   info.txt\n",
      "\tmodified:   link.vs\n",
      "\tmodified:   main.py\n",
      "\tmodified:   query.sql\n",
      "\tmodified:   utils.gif\n",
      "\n",
      "##############################################################################################################\n",
      "\n",
      "############################################# COMANDO A EJECUTAR #############################################\n",
      "git commit -m \"PRUEBA de COMMIT numero 1 con fecha 1681017438.272205 y valor aleatorio 7816815 y contiene el archivo calculos.c\"\n",
      "####################################### RESULTADO DE COMANDO EJECUTADO #######################################\n",
      "[commit_branch 6987dfe] PRUEBA de COMMIT numero 1 con fecha 1681017438.272205 y valor aleatorio 7816815 y contiene el archivo calculos.c\n",
      " 12 files changed, 12 insertions(+)\n",
      "##############################################################################################################\n",
      "\n",
      "############################################# COMANDO A EJECUTAR #############################################\n",
      "git commit --amend --no-edit --author=cienciagoku@gmail.com\n",
      "####################################### RESULTADO DE COMANDO EJECUTADO #######################################\n",
      "[commit_branch 68bec6c] PRUEBA de COMMIT numero 1 con fecha 1681017438.272205 y valor aleatorio 7816815 y contiene el archivo calculos.c\n",
      " Author: QiDimMak <cienciagoku@gmail.com>\n",
      " Date: Sun Apr 9 00:17:18 2023 -0500\n",
      " 12 files changed, 12 insertions(+)\n",
      "##############################################################################################################\n",
      "\n",
      "lista_de_archivos = ['info.txt', 'Dockerfile', 'Manifest.yaml', 'imagen.png', 'main.py', 'connection.java', 'calculos.c', 'addon.php', 'utils.gif', 'query.sql', 'dataset.avro', 'link.vs']\n",
      "############################################# COMANDO A EJECUTAR #############################################\n",
      "echo 1681017438.572437 >> info.txt\n",
      "####################################### RESULTADO DE COMANDO EJECUTADO #######################################\n",
      "##############################################################################################################\n",
      "\n",
      "############################################# COMANDO A EJECUTAR #############################################\n",
      "echo 1681017438.690951 >> Dockerfile\n",
      "####################################### RESULTADO DE COMANDO EJECUTADO #######################################\n",
      "##############################################################################################################\n",
      "\n",
      "############################################# COMANDO A EJECUTAR #############################################\n",
      "echo 1681017438.81479 >> Manifest.yaml\n",
      "####################################### RESULTADO DE COMANDO EJECUTADO #######################################\n",
      "##############################################################################################################\n",
      "\n",
      "############################################# COMANDO A EJECUTAR #############################################\n",
      "echo 1681017438.937628 >> imagen.png\n",
      "####################################### RESULTADO DE COMANDO EJECUTADO #######################################\n",
      "##############################################################################################################\n",
      "\n",
      "############################################# COMANDO A EJECUTAR #############################################\n",
      "echo 1681017439.061882 >> main.py\n",
      "####################################### RESULTADO DE COMANDO EJECUTADO #######################################\n",
      "##############################################################################################################\n",
      "\n",
      "############################################# COMANDO A EJECUTAR #############################################\n",
      "echo 1681017439.176235 >> connection.java\n",
      "####################################### RESULTADO DE COMANDO EJECUTADO #######################################\n",
      "##############################################################################################################\n",
      "\n",
      "############################################# COMANDO A EJECUTAR #############################################\n",
      "echo 1681017439.285934 >> calculos.c\n",
      "####################################### RESULTADO DE COMANDO EJECUTADO #######################################\n",
      "##############################################################################################################\n",
      "\n",
      "############################################# COMANDO A EJECUTAR #############################################\n",
      "echo 1681017439.411598 >> addon.php\n",
      "####################################### RESULTADO DE COMANDO EJECUTADO #######################################\n",
      "##############################################################################################################\n",
      "\n",
      "############################################# COMANDO A EJECUTAR #############################################\n",
      "echo 1681017439.521627 >> utils.gif\n",
      "####################################### RESULTADO DE COMANDO EJECUTADO #######################################\n",
      "##############################################################################################################\n",
      "\n",
      "############################################# COMANDO A EJECUTAR #############################################\n",
      "echo 1681017439.630514 >> query.sql\n",
      "####################################### RESULTADO DE COMANDO EJECUTADO #######################################\n",
      "##############################################################################################################\n",
      "\n",
      "############################################# COMANDO A EJECUTAR #############################################\n",
      "echo 1681017439.740766 >> dataset.avro\n",
      "####################################### RESULTADO DE COMANDO EJECUTADO #######################################\n",
      "##############################################################################################################\n",
      "\n",
      "############################################# COMANDO A EJECUTAR #############################################\n",
      "echo 1681017439.865202 >> link.vs\n",
      "####################################### RESULTADO DE COMANDO EJECUTADO #######################################\n",
      "##############################################################################################################\n",
      "\n",
      "############################################# COMANDO A EJECUTAR #############################################\n",
      "git status\n",
      "####################################### RESULTADO DE COMANDO EJECUTADO #######################################\n",
      "On branch commit_branch\n",
      "Your branch is ahead of 'origin/commit_branch' by 1 commit.\n",
      "  (use \"git push\" to publish your local commits)\n",
      "\n",
      "Changes not staged for commit:\n",
      "  (use \"git add <file>...\" to update what will be committed)\n",
      "  (use \"git restore <file>...\" to discard changes in working directory)\n",
      "\tmodified:   Dockerfile\n",
      "\tmodified:   Manifest.yaml\n",
      "\tmodified:   addon.php\n",
      "\tmodified:   calculos.c\n",
      "\tmodified:   connection.java\n",
      "\tmodified:   dataset.avro\n",
      "\tmodified:   imagen.png\n",
      "\tmodified:   info.txt\n",
      "\tmodified:   link.vs\n",
      "\tmodified:   main.py\n",
      "\tmodified:   query.sql\n",
      "\tmodified:   utils.gif\n",
      "\n",
      "no changes added to commit (use \"git add\" and/or \"git commit -a\")\n",
      "##############################################################################################################\n",
      "\n",
      "############################################# COMANDO A EJECUTAR #############################################\n",
      "git add .\n",
      "####################################### RESULTADO DE COMANDO EJECUTADO #######################################\n",
      "##############################################################################################################\n",
      "\n",
      "############################################# COMANDO A EJECUTAR #############################################\n",
      "git status\n",
      "####################################### RESULTADO DE COMANDO EJECUTADO #######################################\n",
      "On branch commit_branch\n",
      "Your branch is ahead of 'origin/commit_branch' by 1 commit.\n",
      "  (use \"git push\" to publish your local commits)\n",
      "\n",
      "Changes to be committed:\n",
      "  (use \"git restore --staged <file>...\" to unstage)\n",
      "\tmodified:   Dockerfile\n",
      "\tmodified:   Manifest.yaml\n",
      "\tmodified:   addon.php\n",
      "\tmodified:   calculos.c\n",
      "\tmodified:   connection.java\n",
      "\tmodified:   dataset.avro\n",
      "\tmodified:   imagen.png\n",
      "\tmodified:   info.txt\n",
      "\tmodified:   link.vs\n",
      "\tmodified:   main.py\n",
      "\tmodified:   query.sql\n",
      "\tmodified:   utils.gif\n",
      "\n",
      "##############################################################################################################\n",
      "\n",
      "############################################# COMANDO A EJECUTAR #############################################\n",
      "git commit -m \"PRUEBA de COMMIT numero 2 con fecha 1681017440.239701 y valor aleatorio 2114990 y contiene el archivo Manifest.yaml\"\n",
      "####################################### RESULTADO DE COMANDO EJECUTADO #######################################\n",
      "[commit_branch f197cc1] PRUEBA de COMMIT numero 2 con fecha 1681017440.239701 y valor aleatorio 2114990 y contiene el archivo Manifest.yaml\n",
      " 12 files changed, 12 insertions(+)\n",
      "##############################################################################################################\n",
      "\n",
      "lista_de_archivos = ['info.txt', 'Dockerfile', 'Manifest.yaml', 'imagen.png', 'main.py', 'connection.java', 'calculos.c', 'addon.php', 'utils.gif', 'query.sql', 'dataset.avro', 'link.vs']\n",
      "############################################# COMANDO A EJECUTAR #############################################\n",
      "echo 1681017440.428002 >> info.txt\n",
      "####################################### RESULTADO DE COMANDO EJECUTADO #######################################\n",
      "##############################################################################################################\n",
      "\n",
      "############################################# COMANDO A EJECUTAR #############################################\n",
      "echo 1681017440.542238 >> Dockerfile\n",
      "####################################### RESULTADO DE COMANDO EJECUTADO #######################################\n",
      "##############################################################################################################\n",
      "\n",
      "############################################# COMANDO A EJECUTAR #############################################\n",
      "echo 1681017440.659092 >> Manifest.yaml\n",
      "####################################### RESULTADO DE COMANDO EJECUTADO #######################################\n",
      "##############################################################################################################\n",
      "\n",
      "############################################# COMANDO A EJECUTAR #############################################\n",
      "echo 1681017440.768239 >> imagen.png\n",
      "####################################### RESULTADO DE COMANDO EJECUTADO #######################################\n",
      "##############################################################################################################\n",
      "\n",
      "############################################# COMANDO A EJECUTAR #############################################\n",
      "echo 1681017440.878458 >> main.py\n",
      "####################################### RESULTADO DE COMANDO EJECUTADO #######################################\n",
      "##############################################################################################################\n",
      "\n",
      "############################################# COMANDO A EJECUTAR #############################################\n",
      "echo 1681017440.995481 >> connection.java\n",
      "####################################### RESULTADO DE COMANDO EJECUTADO #######################################\n",
      "##############################################################################################################\n",
      "\n",
      "############################################# COMANDO A EJECUTAR #############################################\n",
      "echo 1681017441.113602 >> calculos.c\n",
      "####################################### RESULTADO DE COMANDO EJECUTADO #######################################\n",
      "##############################################################################################################\n",
      "\n",
      "############################################# COMANDO A EJECUTAR #############################################\n",
      "echo 1681017441.230696 >> addon.php\n",
      "####################################### RESULTADO DE COMANDO EJECUTADO #######################################\n",
      "##############################################################################################################\n",
      "\n",
      "############################################# COMANDO A EJECUTAR #############################################\n",
      "echo 1681017441.341489 >> utils.gif\n",
      "####################################### RESULTADO DE COMANDO EJECUTADO #######################################\n",
      "##############################################################################################################\n",
      "\n",
      "############################################# COMANDO A EJECUTAR #############################################\n",
      "echo 1681017441.452019 >> query.sql\n",
      "####################################### RESULTADO DE COMANDO EJECUTADO #######################################\n",
      "##############################################################################################################\n",
      "\n",
      "############################################# COMANDO A EJECUTAR #############################################\n",
      "echo 1681017441.576703 >> dataset.avro\n",
      "####################################### RESULTADO DE COMANDO EJECUTADO #######################################\n",
      "##############################################################################################################\n",
      "\n",
      "############################################# COMANDO A EJECUTAR #############################################\n",
      "echo 1681017441.686623 >> link.vs\n",
      "####################################### RESULTADO DE COMANDO EJECUTADO #######################################\n",
      "##############################################################################################################\n",
      "\n",
      "############################################# COMANDO A EJECUTAR #############################################\n",
      "git status\n",
      "####################################### RESULTADO DE COMANDO EJECUTADO #######################################\n",
      "On branch commit_branch\n",
      "Your branch is ahead of 'origin/commit_branch' by 2 commits.\n",
      "  (use \"git push\" to publish your local commits)\n",
      "\n",
      "Changes not staged for commit:\n",
      "  (use \"git add <file>...\" to update what will be committed)\n",
      "  (use \"git restore <file>...\" to discard changes in working directory)\n",
      "\tmodified:   Dockerfile\n",
      "\tmodified:   Manifest.yaml\n",
      "\tmodified:   addon.php\n",
      "\tmodified:   calculos.c\n",
      "\tmodified:   connection.java\n",
      "\tmodified:   dataset.avro\n",
      "\tmodified:   imagen.png\n",
      "\tmodified:   info.txt\n",
      "\tmodified:   link.vs\n",
      "\tmodified:   main.py\n",
      "\tmodified:   query.sql\n",
      "\tmodified:   utils.gif\n",
      "\n",
      "no changes added to commit (use \"git add\" and/or \"git commit -a\")\n",
      "##############################################################################################################\n",
      "\n",
      "############################################# COMANDO A EJECUTAR #############################################\n",
      "git add .\n",
      "####################################### RESULTADO DE COMANDO EJECUTADO #######################################\n",
      "##############################################################################################################\n",
      "\n",
      "############################################# COMANDO A EJECUTAR #############################################\n",
      "git status\n",
      "####################################### RESULTADO DE COMANDO EJECUTADO #######################################\n",
      "On branch commit_branch\n",
      "Your branch is ahead of 'origin/commit_branch' by 2 commits.\n",
      "  (use \"git push\" to publish your local commits)\n",
      "\n",
      "Changes to be committed:\n",
      "  (use \"git restore --staged <file>...\" to unstage)\n",
      "\tmodified:   Dockerfile\n",
      "\tmodified:   Manifest.yaml\n",
      "\tmodified:   addon.php\n",
      "\tmodified:   calculos.c\n",
      "\tmodified:   connection.java\n",
      "\tmodified:   dataset.avro\n",
      "\tmodified:   imagen.png\n",
      "\tmodified:   info.txt\n",
      "\tmodified:   link.vs\n",
      "\tmodified:   main.py\n",
      "\tmodified:   query.sql\n",
      "\tmodified:   utils.gif\n",
      "\n",
      "##############################################################################################################\n",
      "\n",
      "############################################# COMANDO A EJECUTAR #############################################\n",
      "git commit -m \"PRUEBA de COMMIT numero 3 con fecha 1681017441.996946 y valor aleatorio 9124240 y contiene el archivo imagen.png\"\n",
      "####################################### RESULTADO DE COMANDO EJECUTADO #######################################\n",
      "[commit_branch ea03301] PRUEBA de COMMIT numero 3 con fecha 1681017441.996946 y valor aleatorio 9124240 y contiene el archivo imagen.png\n",
      " 12 files changed, 12 insertions(+)\n",
      "##############################################################################################################\n",
      "\n",
      "############################################# COMANDO A EJECUTAR #############################################\n",
      "git commit --amend --no-edit --author=cienciagoku@gmail.com\n",
      "####################################### RESULTADO DE COMANDO EJECUTADO #######################################\n",
      "[commit_branch 7a7417f] PRUEBA de COMMIT numero 3 con fecha 1681017441.996946 y valor aleatorio 9124240 y contiene el archivo imagen.png\n",
      " Author: QiDimMak <cienciagoku@gmail.com>\n",
      " Date: Sun Apr 9 00:17:22 2023 -0500\n",
      " 12 files changed, 12 insertions(+)\n",
      "##############################################################################################################\n",
      "\n",
      "lista_de_archivos = ['info.txt', 'Dockerfile', 'Manifest.yaml', 'imagen.png', 'main.py', 'connection.java', 'calculos.c', 'addon.php', 'utils.gif', 'query.sql', 'dataset.avro', 'link.vs']\n",
      "############################################# COMANDO A EJECUTAR #############################################\n",
      "echo 1681017442.285786 >> info.txt\n",
      "####################################### RESULTADO DE COMANDO EJECUTADO #######################################\n",
      "##############################################################################################################\n",
      "\n",
      "############################################# COMANDO A EJECUTAR #############################################\n",
      "echo 1681017442.397277 >> Dockerfile\n",
      "####################################### RESULTADO DE COMANDO EJECUTADO #######################################\n",
      "##############################################################################################################\n",
      "\n",
      "############################################# COMANDO A EJECUTAR #############################################\n",
      "echo 1681017442.513046 >> Manifest.yaml\n",
      "####################################### RESULTADO DE COMANDO EJECUTADO #######################################\n",
      "##############################################################################################################\n",
      "\n",
      "############################################# COMANDO A EJECUTAR #############################################\n",
      "echo 1681017442.62205 >> imagen.png\n",
      "####################################### RESULTADO DE COMANDO EJECUTADO #######################################\n",
      "##############################################################################################################\n",
      "\n",
      "############################################# COMANDO A EJECUTAR #############################################\n",
      "echo 1681017442.746289 >> main.py\n",
      "####################################### RESULTADO DE COMANDO EJECUTADO #######################################\n",
      "##############################################################################################################\n",
      "\n",
      "############################################# COMANDO A EJECUTAR #############################################\n",
      "echo 1681017442.867553 >> connection.java\n",
      "####################################### RESULTADO DE COMANDO EJECUTADO #######################################\n",
      "##############################################################################################################\n",
      "\n",
      "############################################# COMANDO A EJECUTAR #############################################\n",
      "echo 1681017442.976716 >> calculos.c\n",
      "####################################### RESULTADO DE COMANDO EJECUTADO #######################################\n",
      "##############################################################################################################\n",
      "\n",
      "############################################# COMANDO A EJECUTAR #############################################\n",
      "echo 1681017443.08626 >> addon.php\n",
      "####################################### RESULTADO DE COMANDO EJECUTADO #######################################\n",
      "##############################################################################################################\n",
      "\n",
      "############################################# COMANDO A EJECUTAR #############################################\n",
      "echo 1681017443.196481 >> utils.gif\n",
      "####################################### RESULTADO DE COMANDO EJECUTADO #######################################\n",
      "##############################################################################################################\n",
      "\n",
      "############################################# COMANDO A EJECUTAR #############################################\n",
      "echo 1681017443.306945 >> query.sql\n",
      "####################################### RESULTADO DE COMANDO EJECUTADO #######################################\n",
      "##############################################################################################################\n",
      "\n",
      "############################################# COMANDO A EJECUTAR #############################################\n",
      "echo 1681017443.417444 >> dataset.avro\n",
      "####################################### RESULTADO DE COMANDO EJECUTADO #######################################\n",
      "##############################################################################################################\n",
      "\n",
      "############################################# COMANDO A EJECUTAR #############################################\n",
      "echo 1681017443.526468 >> link.vs\n",
      "####################################### RESULTADO DE COMANDO EJECUTADO #######################################\n",
      "##############################################################################################################\n",
      "\n",
      "############################################# COMANDO A EJECUTAR #############################################\n",
      "git status\n",
      "####################################### RESULTADO DE COMANDO EJECUTADO #######################################\n",
      "On branch commit_branch\n",
      "Your branch is ahead of 'origin/commit_branch' by 3 commits.\n",
      "  (use \"git push\" to publish your local commits)\n",
      "\n",
      "Changes not staged for commit:\n",
      "  (use \"git add <file>...\" to update what will be committed)\n",
      "  (use \"git restore <file>...\" to discard changes in working directory)\n",
      "\tmodified:   Dockerfile\n",
      "\tmodified:   Manifest.yaml\n",
      "\tmodified:   addon.php\n",
      "\tmodified:   calculos.c\n",
      "\tmodified:   connection.java\n",
      "\tmodified:   dataset.avro\n",
      "\tmodified:   imagen.png\n",
      "\tmodified:   info.txt\n",
      "\tmodified:   link.vs\n",
      "\tmodified:   main.py\n",
      "\tmodified:   query.sql\n",
      "\tmodified:   utils.gif\n",
      "\n",
      "no changes added to commit (use \"git add\" and/or \"git commit -a\")\n",
      "##############################################################################################################\n",
      "\n",
      "############################################# COMANDO A EJECUTAR #############################################\n",
      "git add .\n",
      "####################################### RESULTADO DE COMANDO EJECUTADO #######################################\n",
      "##############################################################################################################\n",
      "\n",
      "############################################# COMANDO A EJECUTAR #############################################\n",
      "git status\n",
      "####################################### RESULTADO DE COMANDO EJECUTADO #######################################\n",
      "On branch commit_branch\n",
      "Your branch is ahead of 'origin/commit_branch' by 3 commits.\n",
      "  (use \"git push\" to publish your local commits)\n",
      "\n",
      "Changes to be committed:\n",
      "  (use \"git restore --staged <file>...\" to unstage)\n",
      "\tmodified:   Dockerfile\n",
      "\tmodified:   Manifest.yaml\n",
      "\tmodified:   addon.php\n",
      "\tmodified:   calculos.c\n",
      "\tmodified:   connection.java\n",
      "\tmodified:   dataset.avro\n",
      "\tmodified:   imagen.png\n",
      "\tmodified:   info.txt\n",
      "\tmodified:   link.vs\n",
      "\tmodified:   main.py\n",
      "\tmodified:   query.sql\n",
      "\tmodified:   utils.gif\n",
      "\n",
      "##############################################################################################################\n",
      "\n",
      "############################################# COMANDO A EJECUTAR #############################################\n",
      "git commit -m \"PRUEBA de COMMIT numero 4 con fecha 1681017443.846545 y valor aleatorio 1662990 y contiene el archivo calculos.c\"\n",
      "####################################### RESULTADO DE COMANDO EJECUTADO #######################################\n",
      "[commit_branch a2844b3] PRUEBA de COMMIT numero 4 con fecha 1681017443.846545 y valor aleatorio 1662990 y contiene el archivo calculos.c\n",
      " 12 files changed, 12 insertions(+)\n",
      "##############################################################################################################\n",
      "\n",
      "lista_de_archivos = ['info.txt', 'Dockerfile', 'Manifest.yaml', 'imagen.png', 'main.py', 'connection.java', 'calculos.c', 'addon.php', 'utils.gif', 'query.sql', 'dataset.avro', 'link.vs']\n",
      "############################################# COMANDO A EJECUTAR #############################################\n",
      "echo 1681017444.042085 >> info.txt\n",
      "####################################### RESULTADO DE COMANDO EJECUTADO #######################################\n",
      "##############################################################################################################\n",
      "\n",
      "############################################# COMANDO A EJECUTAR #############################################\n",
      "echo 1681017444.16275 >> Dockerfile\n",
      "####################################### RESULTADO DE COMANDO EJECUTADO #######################################\n",
      "##############################################################################################################\n",
      "\n",
      "############################################# COMANDO A EJECUTAR #############################################\n",
      "echo 1681017444.28766 >> Manifest.yaml\n",
      "####################################### RESULTADO DE COMANDO EJECUTADO #######################################\n",
      "##############################################################################################################\n",
      "\n",
      "############################################# COMANDO A EJECUTAR #############################################\n",
      "echo 1681017444.410918 >> imagen.png\n",
      "####################################### RESULTADO DE COMANDO EJECUTADO #######################################\n",
      "##############################################################################################################\n",
      "\n",
      "############################################# COMANDO A EJECUTAR #############################################\n",
      "echo 1681017444.527249 >> main.py\n",
      "####################################### RESULTADO DE COMANDO EJECUTADO #######################################\n",
      "##############################################################################################################\n",
      "\n",
      "############################################# COMANDO A EJECUTAR #############################################\n",
      "echo 1681017444.645084 >> connection.java\n",
      "####################################### RESULTADO DE COMANDO EJECUTADO #######################################\n",
      "##############################################################################################################\n",
      "\n",
      "############################################# COMANDO A EJECUTAR #############################################\n",
      "echo 1681017444.755577 >> calculos.c\n",
      "####################################### RESULTADO DE COMANDO EJECUTADO #######################################\n",
      "##############################################################################################################\n",
      "\n",
      "############################################# COMANDO A EJECUTAR #############################################\n",
      "echo 1681017444.879358 >> addon.php\n",
      "####################################### RESULTADO DE COMANDO EJECUTADO #######################################\n",
      "##############################################################################################################\n",
      "\n",
      "############################################# COMANDO A EJECUTAR #############################################\n",
      "echo 1681017444.988545 >> utils.gif\n",
      "####################################### RESULTADO DE COMANDO EJECUTADO #######################################\n",
      "##############################################################################################################\n",
      "\n",
      "############################################# COMANDO A EJECUTAR #############################################\n",
      "echo 1681017445.112638 >> query.sql\n",
      "####################################### RESULTADO DE COMANDO EJECUTADO #######################################\n",
      "##############################################################################################################\n",
      "\n",
      "############################################# COMANDO A EJECUTAR #############################################\n",
      "echo 1681017445.223122 >> dataset.avro\n",
      "####################################### RESULTADO DE COMANDO EJECUTADO #######################################\n",
      "##############################################################################################################\n",
      "\n",
      "############################################# COMANDO A EJECUTAR #############################################\n",
      "echo 1681017445.350083 >> link.vs\n",
      "####################################### RESULTADO DE COMANDO EJECUTADO #######################################\n",
      "##############################################################################################################\n",
      "\n",
      "############################################# COMANDO A EJECUTAR #############################################\n",
      "git status\n",
      "####################################### RESULTADO DE COMANDO EJECUTADO #######################################\n",
      "On branch commit_branch\n",
      "Your branch is ahead of 'origin/commit_branch' by 4 commits.\n",
      "  (use \"git push\" to publish your local commits)\n",
      "\n",
      "Changes not staged for commit:\n",
      "  (use \"git add <file>...\" to update what will be committed)\n",
      "  (use \"git restore <file>...\" to discard changes in working directory)\n",
      "\tmodified:   Dockerfile\n",
      "\tmodified:   Manifest.yaml\n",
      "\tmodified:   addon.php\n",
      "\tmodified:   calculos.c\n",
      "\tmodified:   connection.java\n",
      "\tmodified:   dataset.avro\n",
      "\tmodified:   imagen.png\n",
      "\tmodified:   info.txt\n",
      "\tmodified:   link.vs\n",
      "\tmodified:   main.py\n",
      "\tmodified:   query.sql\n",
      "\tmodified:   utils.gif\n",
      "\n",
      "no changes added to commit (use \"git add\" and/or \"git commit -a\")\n",
      "##############################################################################################################\n",
      "\n",
      "############################################# COMANDO A EJECUTAR #############################################\n",
      "git add .\n",
      "####################################### RESULTADO DE COMANDO EJECUTADO #######################################\n",
      "##############################################################################################################\n",
      "\n",
      "############################################# COMANDO A EJECUTAR #############################################\n",
      "git status\n",
      "####################################### RESULTADO DE COMANDO EJECUTADO #######################################\n",
      "On branch commit_branch\n",
      "Your branch is ahead of 'origin/commit_branch' by 4 commits.\n",
      "  (use \"git push\" to publish your local commits)\n",
      "\n",
      "Changes to be committed:\n",
      "  (use \"git restore --staged <file>...\" to unstage)\n",
      "\tmodified:   Dockerfile\n",
      "\tmodified:   Manifest.yaml\n",
      "\tmodified:   addon.php\n",
      "\tmodified:   calculos.c\n",
      "\tmodified:   connection.java\n",
      "\tmodified:   dataset.avro\n",
      "\tmodified:   imagen.png\n",
      "\tmodified:   info.txt\n",
      "\tmodified:   link.vs\n",
      "\tmodified:   main.py\n",
      "\tmodified:   query.sql\n",
      "\tmodified:   utils.gif\n",
      "\n",
      "##############################################################################################################\n",
      "\n",
      "############################################# COMANDO A EJECUTAR #############################################\n",
      "git commit -m \"PRUEBA de COMMIT numero 5 con fecha 1681017445.657032 y valor aleatorio 3407452 y contiene el archivo utils.gif\"\n",
      "####################################### RESULTADO DE COMANDO EJECUTADO #######################################\n",
      "[commit_branch a94bfcc] PRUEBA de COMMIT numero 5 con fecha 1681017445.657032 y valor aleatorio 3407452 y contiene el archivo utils.gif\n",
      " 12 files changed, 12 insertions(+)\n",
      "##############################################################################################################\n",
      "\n",
      "############################################# COMANDO A EJECUTAR #############################################\n",
      "git commit --amend --no-edit --author=cienciagoku@gmail.com\n",
      "####################################### RESULTADO DE COMANDO EJECUTADO #######################################\n",
      "[commit_branch f697f93] PRUEBA de COMMIT numero 5 con fecha 1681017445.657032 y valor aleatorio 3407452 y contiene el archivo utils.gif\n",
      " Author: QiDimMak <cienciagoku@gmail.com>\n",
      " Date: Sun Apr 9 00:17:25 2023 -0500\n",
      " 12 files changed, 12 insertions(+)\n",
      "##############################################################################################################\n",
      "\n",
      "lista_de_archivos = ['info.txt', 'Dockerfile', 'Manifest.yaml', 'imagen.png', 'main.py', 'connection.java', 'calculos.c', 'addon.php', 'utils.gif', 'query.sql', 'dataset.avro', 'link.vs']\n",
      "############################################# COMANDO A EJECUTAR #############################################\n",
      "echo 1681017445.946316 >> info.txt\n",
      "####################################### RESULTADO DE COMANDO EJECUTADO #######################################\n",
      "##############################################################################################################\n",
      "\n",
      "############################################# COMANDO A EJECUTAR #############################################\n",
      "echo 1681017446.062506 >> Dockerfile\n",
      "####################################### RESULTADO DE COMANDO EJECUTADO #######################################\n",
      "##############################################################################################################\n",
      "\n",
      "############################################# COMANDO A EJECUTAR #############################################\n",
      "echo 1681017446.181116 >> Manifest.yaml\n",
      "####################################### RESULTADO DE COMANDO EJECUTADO #######################################\n",
      "##############################################################################################################\n",
      "\n",
      "############################################# COMANDO A EJECUTAR #############################################\n",
      "echo 1681017446.295278 >> imagen.png\n",
      "####################################### RESULTADO DE COMANDO EJECUTADO #######################################\n",
      "##############################################################################################################\n",
      "\n",
      "############################################# COMANDO A EJECUTAR #############################################\n",
      "echo 1681017446.410105 >> main.py\n",
      "####################################### RESULTADO DE COMANDO EJECUTADO #######################################\n",
      "##############################################################################################################\n",
      "\n",
      "############################################# COMANDO A EJECUTAR #############################################\n",
      "echo 1681017446.545345 >> connection.java\n",
      "####################################### RESULTADO DE COMANDO EJECUTADO #######################################\n",
      "##############################################################################################################\n",
      "\n",
      "############################################# COMANDO A EJECUTAR #############################################\n",
      "echo 1681017446.66356 >> calculos.c\n",
      "####################################### RESULTADO DE COMANDO EJECUTADO #######################################\n",
      "##############################################################################################################\n",
      "\n",
      "############################################# COMANDO A EJECUTAR #############################################\n",
      "echo 1681017446.773346 >> addon.php\n",
      "####################################### RESULTADO DE COMANDO EJECUTADO #######################################\n",
      "##############################################################################################################\n",
      "\n",
      "############################################# COMANDO A EJECUTAR #############################################\n",
      "echo 1681017446.88371 >> utils.gif\n",
      "####################################### RESULTADO DE COMANDO EJECUTADO #######################################\n",
      "##############################################################################################################\n",
      "\n",
      "############################################# COMANDO A EJECUTAR #############################################\n",
      "echo 1681017446.994185 >> query.sql\n",
      "####################################### RESULTADO DE COMANDO EJECUTADO #######################################\n",
      "##############################################################################################################\n",
      "\n",
      "############################################# COMANDO A EJECUTAR #############################################\n",
      "echo 1681017447.104601 >> dataset.avro\n",
      "####################################### RESULTADO DE COMANDO EJECUTADO #######################################\n",
      "##############################################################################################################\n",
      "\n",
      "############################################# COMANDO A EJECUTAR #############################################\n",
      "echo 1681017447.230499 >> link.vs\n",
      "####################################### RESULTADO DE COMANDO EJECUTADO #######################################\n",
      "##############################################################################################################\n",
      "\n",
      "############################################# COMANDO A EJECUTAR #############################################\n",
      "git status\n",
      "####################################### RESULTADO DE COMANDO EJECUTADO #######################################\n",
      "On branch commit_branch\n",
      "Your branch is ahead of 'origin/commit_branch' by 5 commits.\n",
      "  (use \"git push\" to publish your local commits)\n",
      "\n",
      "Changes not staged for commit:\n",
      "  (use \"git add <file>...\" to update what will be committed)\n",
      "  (use \"git restore <file>...\" to discard changes in working directory)\n",
      "\tmodified:   Dockerfile\n",
      "\tmodified:   Manifest.yaml\n",
      "\tmodified:   addon.php\n",
      "\tmodified:   calculos.c\n",
      "\tmodified:   connection.java\n",
      "\tmodified:   dataset.avro\n",
      "\tmodified:   imagen.png\n",
      "\tmodified:   info.txt\n",
      "\tmodified:   link.vs\n",
      "\tmodified:   main.py\n",
      "\tmodified:   query.sql\n",
      "\tmodified:   utils.gif\n",
      "\n",
      "no changes added to commit (use \"git add\" and/or \"git commit -a\")\n",
      "##############################################################################################################\n",
      "\n",
      "############################################# COMANDO A EJECUTAR #############################################\n",
      "git add .\n",
      "####################################### RESULTADO DE COMANDO EJECUTADO #######################################\n",
      "##############################################################################################################\n",
      "\n",
      "############################################# COMANDO A EJECUTAR #############################################\n",
      "git status\n",
      "####################################### RESULTADO DE COMANDO EJECUTADO #######################################\n",
      "On branch commit_branch\n",
      "Your branch is ahead of 'origin/commit_branch' by 5 commits.\n",
      "  (use \"git push\" to publish your local commits)\n",
      "\n",
      "Changes to be committed:\n",
      "  (use \"git restore --staged <file>...\" to unstage)\n",
      "\tmodified:   Dockerfile\n",
      "\tmodified:   Manifest.yaml\n",
      "\tmodified:   addon.php\n",
      "\tmodified:   calculos.c\n",
      "\tmodified:   connection.java\n",
      "\tmodified:   dataset.avro\n",
      "\tmodified:   imagen.png\n",
      "\tmodified:   info.txt\n",
      "\tmodified:   link.vs\n",
      "\tmodified:   main.py\n",
      "\tmodified:   query.sql\n",
      "\tmodified:   utils.gif\n",
      "\n",
      "##############################################################################################################\n",
      "\n",
      "############################################# COMANDO A EJECUTAR #############################################\n",
      "git commit -m \"PRUEBA de COMMIT numero 6 con fecha 1681017447.525399 y valor aleatorio 8223134 y contiene el archivo query.sql\"\n",
      "####################################### RESULTADO DE COMANDO EJECUTADO #######################################\n",
      "[commit_branch a78f02c] PRUEBA de COMMIT numero 6 con fecha 1681017447.525399 y valor aleatorio 8223134 y contiene el archivo query.sql\n",
      " 12 files changed, 12 insertions(+)\n",
      "##############################################################################################################\n",
      "\n",
      "lista_de_archivos = ['info.txt', 'Dockerfile', 'Manifest.yaml', 'imagen.png', 'main.py', 'connection.java', 'calculos.c', 'addon.php', 'utils.gif', 'query.sql', 'dataset.avro', 'link.vs']\n",
      "############################################# COMANDO A EJECUTAR #############################################\n",
      "echo 1681017447.743703 >> info.txt\n",
      "####################################### RESULTADO DE COMANDO EJECUTADO #######################################\n",
      "##############################################################################################################\n",
      "\n",
      "############################################# COMANDO A EJECUTAR #############################################\n",
      "echo 1681017447.863018 >> Dockerfile\n",
      "####################################### RESULTADO DE COMANDO EJECUTADO #######################################\n",
      "##############################################################################################################\n",
      "\n",
      "############################################# COMANDO A EJECUTAR #############################################\n",
      "echo 1681017447.986777 >> Manifest.yaml\n",
      "####################################### RESULTADO DE COMANDO EJECUTADO #######################################\n",
      "##############################################################################################################\n",
      "\n",
      "############################################# COMANDO A EJECUTAR #############################################\n",
      "echo 1681017448.097261 >> imagen.png\n",
      "####################################### RESULTADO DE COMANDO EJECUTADO #######################################\n",
      "##############################################################################################################\n",
      "\n",
      "############################################# COMANDO A EJECUTAR #############################################\n",
      "echo 1681017448.215935 >> main.py\n",
      "####################################### RESULTADO DE COMANDO EJECUTADO #######################################\n",
      "##############################################################################################################\n",
      "\n",
      "############################################# COMANDO A EJECUTAR #############################################\n",
      "echo 1681017448.325247 >> connection.java\n",
      "####################################### RESULTADO DE COMANDO EJECUTADO #######################################\n",
      "##############################################################################################################\n",
      "\n",
      "############################################# COMANDO A EJECUTAR #############################################\n",
      "echo 1681017448.441598 >> calculos.c\n",
      "####################################### RESULTADO DE COMANDO EJECUTADO #######################################\n",
      "##############################################################################################################\n",
      "\n",
      "############################################# COMANDO A EJECUTAR #############################################\n",
      "echo 1681017448.566884 >> addon.php\n",
      "####################################### RESULTADO DE COMANDO EJECUTADO #######################################\n",
      "##############################################################################################################\n",
      "\n",
      "############################################# COMANDO A EJECUTAR #############################################\n",
      "echo 1681017448.676558 >> utils.gif\n",
      "####################################### RESULTADO DE COMANDO EJECUTADO #######################################\n",
      "##############################################################################################################\n",
      "\n",
      "############################################# COMANDO A EJECUTAR #############################################\n",
      "echo 1681017448.78685 >> query.sql\n",
      "####################################### RESULTADO DE COMANDO EJECUTADO #######################################\n",
      "##############################################################################################################\n",
      "\n",
      "############################################# COMANDO A EJECUTAR #############################################\n",
      "echo 1681017448.911818 >> dataset.avro\n",
      "####################################### RESULTADO DE COMANDO EJECUTADO #######################################\n",
      "##############################################################################################################\n",
      "\n",
      "############################################# COMANDO A EJECUTAR #############################################\n",
      "echo 1681017449.022054 >> link.vs\n",
      "####################################### RESULTADO DE COMANDO EJECUTADO #######################################\n",
      "##############################################################################################################\n",
      "\n",
      "############################################# COMANDO A EJECUTAR #############################################\n",
      "git status\n",
      "####################################### RESULTADO DE COMANDO EJECUTADO #######################################\n",
      "On branch commit_branch\n",
      "Your branch is ahead of 'origin/commit_branch' by 6 commits.\n",
      "  (use \"git push\" to publish your local commits)\n",
      "\n",
      "Changes not staged for commit:\n",
      "  (use \"git add <file>...\" to update what will be committed)\n",
      "  (use \"git restore <file>...\" to discard changes in working directory)\n",
      "\tmodified:   Dockerfile\n",
      "\tmodified:   Manifest.yaml\n",
      "\tmodified:   addon.php\n",
      "\tmodified:   calculos.c\n",
      "\tmodified:   connection.java\n",
      "\tmodified:   dataset.avro\n",
      "\tmodified:   imagen.png\n",
      "\tmodified:   info.txt\n",
      "\tmodified:   link.vs\n",
      "\tmodified:   main.py\n",
      "\tmodified:   query.sql\n",
      "\tmodified:   utils.gif\n",
      "\n",
      "no changes added to commit (use \"git add\" and/or \"git commit -a\")\n",
      "##############################################################################################################\n",
      "\n",
      "############################################# COMANDO A EJECUTAR #############################################\n",
      "git add .\n",
      "####################################### RESULTADO DE COMANDO EJECUTADO #######################################\n",
      "##############################################################################################################\n",
      "\n",
      "############################################# COMANDO A EJECUTAR #############################################\n",
      "git status\n",
      "####################################### RESULTADO DE COMANDO EJECUTADO #######################################\n",
      "On branch commit_branch\n",
      "Your branch is ahead of 'origin/commit_branch' by 6 commits.\n",
      "  (use \"git push\" to publish your local commits)\n",
      "\n",
      "Changes to be committed:\n",
      "  (use \"git restore --staged <file>...\" to unstage)\n",
      "\tmodified:   Dockerfile\n",
      "\tmodified:   Manifest.yaml\n",
      "\tmodified:   addon.php\n",
      "\tmodified:   calculos.c\n",
      "\tmodified:   connection.java\n",
      "\tmodified:   dataset.avro\n",
      "\tmodified:   imagen.png\n",
      "\tmodified:   info.txt\n",
      "\tmodified:   link.vs\n",
      "\tmodified:   main.py\n",
      "\tmodified:   query.sql\n",
      "\tmodified:   utils.gif\n",
      "\n",
      "##############################################################################################################\n",
      "\n",
      "############################################# COMANDO A EJECUTAR #############################################\n",
      "git commit -m \"PRUEBA de COMMIT numero 7 con fecha 1681017449.320399 y valor aleatorio 8306222 y contiene el archivo link.vs\"\n",
      "####################################### RESULTADO DE COMANDO EJECUTADO #######################################\n",
      "[commit_branch 5483833] PRUEBA de COMMIT numero 7 con fecha 1681017449.320399 y valor aleatorio 8306222 y contiene el archivo link.vs\n",
      " 12 files changed, 12 insertions(+)\n",
      "##############################################################################################################\n",
      "\n",
      "############################################# COMANDO A EJECUTAR #############################################\n",
      "git commit --amend --no-edit --author=cienciagoku@gmail.com\n",
      "####################################### RESULTADO DE COMANDO EJECUTADO #######################################\n",
      "[commit_branch 1524c0a] PRUEBA de COMMIT numero 7 con fecha 1681017449.320399 y valor aleatorio 8306222 y contiene el archivo link.vs\n",
      " Author: QiDimMak <cienciagoku@gmail.com>\n",
      " Date: Sun Apr 9 00:17:29 2023 -0500\n",
      " 12 files changed, 12 insertions(+)\n",
      "##############################################################################################################\n",
      "\n",
      "lista_de_archivos = ['info.txt', 'Dockerfile', 'Manifest.yaml', 'imagen.png', 'main.py', 'connection.java', 'calculos.c', 'addon.php', 'utils.gif', 'query.sql', 'dataset.avro', 'link.vs']\n",
      "############################################# COMANDO A EJECUTAR #############################################\n",
      "echo 1681017449.589829 >> info.txt\n",
      "####################################### RESULTADO DE COMANDO EJECUTADO #######################################\n",
      "##############################################################################################################\n",
      "\n",
      "############################################# COMANDO A EJECUTAR #############################################\n",
      "echo 1681017449.701329 >> Dockerfile\n",
      "####################################### RESULTADO DE COMANDO EJECUTADO #######################################\n",
      "##############################################################################################################\n",
      "\n",
      "############################################# COMANDO A EJECUTAR #############################################\n",
      "echo 1681017449.822778 >> Manifest.yaml\n",
      "####################################### RESULTADO DE COMANDO EJECUTADO #######################################\n",
      "##############################################################################################################\n",
      "\n",
      "############################################# COMANDO A EJECUTAR #############################################\n",
      "echo 1681017449.931857 >> imagen.png\n",
      "####################################### RESULTADO DE COMANDO EJECUTADO #######################################\n",
      "##############################################################################################################\n",
      "\n",
      "############################################# COMANDO A EJECUTAR #############################################\n",
      "echo 1681017450.042338 >> main.py\n",
      "####################################### RESULTADO DE COMANDO EJECUTADO #######################################\n",
      "##############################################################################################################\n",
      "\n",
      "############################################# COMANDO A EJECUTAR #############################################\n",
      "echo 1681017450.155517 >> connection.java\n",
      "####################################### RESULTADO DE COMANDO EJECUTADO #######################################\n",
      "##############################################################################################################\n",
      "\n",
      "############################################# COMANDO A EJECUTAR #############################################\n",
      "echo 1681017450.277221 >> calculos.c\n",
      "####################################### RESULTADO DE COMANDO EJECUTADO #######################################\n",
      "##############################################################################################################\n",
      "\n",
      "############################################# COMANDO A EJECUTAR #############################################\n",
      "echo 1681017450.395585 >> addon.php\n",
      "####################################### RESULTADO DE COMANDO EJECUTADO #######################################\n",
      "##############################################################################################################\n",
      "\n",
      "############################################# COMANDO A EJECUTAR #############################################\n",
      "echo 1681017450.519084 >> utils.gif\n",
      "####################################### RESULTADO DE COMANDO EJECUTADO #######################################\n",
      "##############################################################################################################\n",
      "\n",
      "############################################# COMANDO A EJECUTAR #############################################\n",
      "echo 1681017450.628186 >> query.sql\n",
      "####################################### RESULTADO DE COMANDO EJECUTADO #######################################\n",
      "##############################################################################################################\n",
      "\n",
      "############################################# COMANDO A EJECUTAR #############################################\n",
      "echo 1681017450.740216 >> dataset.avro\n",
      "####################################### RESULTADO DE COMANDO EJECUTADO #######################################\n",
      "##############################################################################################################\n",
      "\n",
      "############################################# COMANDO A EJECUTAR #############################################\n",
      "echo 1681017450.866501 >> link.vs\n",
      "####################################### RESULTADO DE COMANDO EJECUTADO #######################################\n",
      "##############################################################################################################\n",
      "\n",
      "############################################# COMANDO A EJECUTAR #############################################\n",
      "git status\n",
      "####################################### RESULTADO DE COMANDO EJECUTADO #######################################\n",
      "On branch commit_branch\n",
      "Your branch is ahead of 'origin/commit_branch' by 7 commits.\n",
      "  (use \"git push\" to publish your local commits)\n",
      "\n",
      "Changes not staged for commit:\n",
      "  (use \"git add <file>...\" to update what will be committed)\n",
      "  (use \"git restore <file>...\" to discard changes in working directory)\n",
      "\tmodified:   Dockerfile\n",
      "\tmodified:   Manifest.yaml\n",
      "\tmodified:   addon.php\n",
      "\tmodified:   calculos.c\n",
      "\tmodified:   connection.java\n",
      "\tmodified:   dataset.avro\n",
      "\tmodified:   imagen.png\n",
      "\tmodified:   info.txt\n",
      "\tmodified:   link.vs\n",
      "\tmodified:   main.py\n",
      "\tmodified:   query.sql\n",
      "\tmodified:   utils.gif\n",
      "\n",
      "no changes added to commit (use \"git add\" and/or \"git commit -a\")\n",
      "##############################################################################################################\n",
      "\n",
      "############################################# COMANDO A EJECUTAR #############################################\n",
      "git add .\n",
      "####################################### RESULTADO DE COMANDO EJECUTADO #######################################\n",
      "##############################################################################################################\n",
      "\n",
      "############################################# COMANDO A EJECUTAR #############################################\n",
      "git status\n",
      "####################################### RESULTADO DE COMANDO EJECUTADO #######################################\n",
      "On branch commit_branch\n",
      "Your branch is ahead of 'origin/commit_branch' by 7 commits.\n",
      "  (use \"git push\" to publish your local commits)\n",
      "\n",
      "Changes to be committed:\n",
      "  (use \"git restore --staged <file>...\" to unstage)\n",
      "\tmodified:   Dockerfile\n",
      "\tmodified:   Manifest.yaml\n",
      "\tmodified:   addon.php\n",
      "\tmodified:   calculos.c\n",
      "\tmodified:   connection.java\n",
      "\tmodified:   dataset.avro\n",
      "\tmodified:   imagen.png\n",
      "\tmodified:   info.txt\n",
      "\tmodified:   link.vs\n",
      "\tmodified:   main.py\n",
      "\tmodified:   query.sql\n",
      "\tmodified:   utils.gif\n",
      "\n",
      "##############################################################################################################\n",
      "\n",
      "############################################# COMANDO A EJECUTAR #############################################\n",
      "git commit -m \"PRUEBA de COMMIT numero 8 con fecha 1681017451.163797 y valor aleatorio 9653753 y contiene el archivo link.vs\"\n",
      "####################################### RESULTADO DE COMANDO EJECUTADO #######################################\n",
      "[commit_branch d95748a] PRUEBA de COMMIT numero 8 con fecha 1681017451.163797 y valor aleatorio 9653753 y contiene el archivo link.vs\n",
      " 12 files changed, 12 insertions(+)\n",
      "##############################################################################################################\n",
      "\n",
      "############################################# COMANDO A EJECUTAR #############################################\n",
      "git log --oneline\n",
      "####################################### RESULTADO DE COMANDO EJECUTADO #######################################\n",
      "d95748a PRUEBA de COMMIT numero 8 con fecha 1681017451.163797 y valor aleatorio 9653753 y contiene el archivo link.vs\n",
      "1524c0a PRUEBA de COMMIT numero 7 con fecha 1681017449.320399 y valor aleatorio 8306222 y contiene el archivo link.vs\n",
      "a78f02c PRUEBA de COMMIT numero 6 con fecha 1681017447.525399 y valor aleatorio 8223134 y contiene el archivo query.sql\n",
      "f697f93 PRUEBA de COMMIT numero 5 con fecha 1681017445.657032 y valor aleatorio 3407452 y contiene el archivo utils.gif\n",
      "a2844b3 PRUEBA de COMMIT numero 4 con fecha 1681017443.846545 y valor aleatorio 1662990 y contiene el archivo calculos.c\n",
      "7a7417f PRUEBA de COMMIT numero 3 con fecha 1681017441.996946 y valor aleatorio 9124240 y contiene el archivo imagen.png\n",
      "f197cc1 PRUEBA de COMMIT numero 2 con fecha 1681017440.239701 y valor aleatorio 2114990 y contiene el archivo Manifest.yaml\n",
      "68bec6c PRUEBA de COMMIT numero 1 con fecha 1681017438.272205 y valor aleatorio 7816815 y contiene el archivo calculos.c\n",
      "f9a93e6 ADICIONADO ARCHIVO link.vs 2023-04-09 00:17:10.120143\n",
      "66cefd9 ADICIONADO ARCHIVO dataset.avro 2023-04-09 00:17:10.120143\n",
      "8b026a4 ADICIONADO ARCHIVO query.sql 2023-04-09 00:17:10.120143\n",
      "710983f ADICIONADO ARCHIVO utils.gif 2023-04-09 00:17:10.120143\n",
      "0289d91 ADICIONADO ARCHIVO addon.php 2023-04-09 00:17:10.120143\n",
      "799d540 ADICIONADO ARCHIVO calculos.c 2023-04-09 00:17:10.120143\n",
      "c06e6c3 ADICIONADO ARCHIVO connection.java 2023-04-09 00:17:10.120143\n",
      "d814645 ADICIONADO ARCHIVO main.py 2023-04-09 00:17:10.120143\n",
      "b2d8ee3 ADICIONADO ARCHIVO imagen.png 2023-04-09 00:17:10.120143\n",
      "cf440b4 ADICIONADO ARCHIVO Manifest.yaml 2023-04-09 00:17:10.120143\n",
      "a5b42ac ADICIONADO ARCHIVO Dockerfile 2023-04-09 00:17:10.120143\n",
      "cac28b3 ADICIONADO ARCHIVO info.txt 2023-04-09 00:17:10.120143\n",
      "c0925c2 adicionado usuario\n",
      "d481740 adicionado requirements.txt\n",
      "fd01bde adicionado readme\n",
      "6bfbfd4 adicionado license\n",
      "e56280c adicionado .gitignore\n",
      "##############################################################################################################\n",
      "\n",
      "############################################# COMANDO A EJECUTAR #############################################\n",
      "git status\n",
      "####################################### RESULTADO DE COMANDO EJECUTADO #######################################\n",
      "On branch commit_branch\n",
      "Your branch is ahead of 'origin/commit_branch' by 8 commits.\n",
      "  (use \"git push\" to publish your local commits)\n",
      "\n",
      "nothing to commit, working tree clean\n",
      "##############################################################################################################\n",
      "\n"
     ]
    }
   ],
   "source": [
    "nombre_rama = 'commit_branch'\n",
    "crear_rama_local_y_remota(nombre_rama=nombre_rama, todos_los_archivos=True)\n",
    "\n",
    "# adicionar mas commits\n",
    "crear_commits(total_commits=8)"
   ]
  },
  {
   "cell_type": "code",
   "execution_count": 19,
   "id": "211d14be-1715-43f4-afa9-bc07f11c5992",
   "metadata": {
    "scrolled": true,
    "tags": []
   },
   "outputs": [
    {
     "name": "stdout",
     "output_type": "stream",
     "text": [
      "############################################# COMANDO A EJECUTAR #############################################\n",
      "git log\n",
      "####################################### RESULTADO DE COMANDO EJECUTADO #######################################\n",
      "commit d95748a9a1e47254840faf09dd8328daa1bcdd78\n",
      "Author: jorgecardona <jorgecardona@utp.edu.co>\n",
      "Date:   Sun Apr 9 00:17:31 2023 -0500\n",
      "\n",
      "    PRUEBA de COMMIT numero 8 con fecha 1681017451.163797 y valor aleatorio 9653753 y contiene el archivo link.vs\n",
      "\n",
      "commit 1524c0a1dffbad6c7b81e73a4b5b5044f58304d0\n",
      "Author: QiDimMak <cienciagoku@gmail.com>\n",
      "Date:   Sun Apr 9 00:17:29 2023 -0500\n",
      "\n",
      "    PRUEBA de COMMIT numero 7 con fecha 1681017449.320399 y valor aleatorio 8306222 y contiene el archivo link.vs\n",
      "\n",
      "commit a78f02c2860307cab816ecc2a3cc1df9f38e9f85\n",
      "Author: jorgecardona <jorgecardona@utp.edu.co>\n",
      "Date:   Sun Apr 9 00:17:27 2023 -0500\n",
      "\n",
      "    PRUEBA de COMMIT numero 6 con fecha 1681017447.525399 y valor aleatorio 8223134 y contiene el archivo query.sql\n",
      "\n",
      "commit f697f932523197df21434fa052217e2456480bfd\n",
      "Author: QiDimMak <cienciagoku@gmail.com>\n",
      "Date:   Sun Apr 9 00:17:25 2023 -0500\n",
      "\n",
      "    PRUEBA de COMMIT numero 5 con fecha 1681017445.657032 y valor aleatorio 3407452 y contiene el archivo utils.gif\n",
      "\n",
      "commit a2844b3131535c100fc87084ae526262d2025e76\n",
      "Author: jorgecardona <jorgecardona@utp.edu.co>\n",
      "Date:   Sun Apr 9 00:17:23 2023 -0500\n",
      "\n",
      "    PRUEBA de COMMIT numero 4 con fecha 1681017443.846545 y valor aleatorio 1662990 y contiene el archivo calculos.c\n",
      "\n",
      "commit 7a7417fa4eeaa4b2e2be0198bccb01303a5b2c21\n",
      "Author: QiDimMak <cienciagoku@gmail.com>\n",
      "Date:   Sun Apr 9 00:17:22 2023 -0500\n",
      "\n",
      "    PRUEBA de COMMIT numero 3 con fecha 1681017441.996946 y valor aleatorio 9124240 y contiene el archivo imagen.png\n",
      "\n",
      "commit f197cc1330c9b71a332cd2a27f072216e4e8a70b\n",
      "Author: jorgecardona <jorgecardona@utp.edu.co>\n",
      "Date:   Sun Apr 9 00:17:20 2023 -0500\n",
      "\n",
      "    PRUEBA de COMMIT numero 2 con fecha 1681017440.239701 y valor aleatorio 2114990 y contiene el archivo Manifest.yaml\n",
      "\n",
      "commit 68bec6c8958ec8e3715a6a679e8adfaf036a261d\n",
      "Author: QiDimMak <cienciagoku@gmail.com>\n",
      "Date:   Sun Apr 9 00:17:18 2023 -0500\n",
      "\n",
      "    PRUEBA de COMMIT numero 1 con fecha 1681017438.272205 y valor aleatorio 7816815 y contiene el archivo calculos.c\n",
      "\n",
      "commit f9a93e64e871cad5ad36f81d47c1b543d05fbafa\n",
      "Author: jorgecardona <jorgecardona@utp.edu.co>\n",
      "Date:   Sun Apr 9 00:17:13 2023 -0500\n",
      "\n",
      "    ADICIONADO ARCHIVO link.vs 2023-04-09 00:17:10.120143\n",
      "    \n",
      "    - El proposito es generar un registro de archivos con su fecha correspondiente, - Se adiciono el archivo link.vs al commit, - La fecha donde se creao este commit es 2023-04-09 00:17:10.120143\n",
      "\n",
      "commit 66cefd98cbf091c1a4b8a9ddf4ea27c6293296a4\n",
      "Author: QiDimMak <cienciagoku@gmail.com>\n",
      "Date:   Sun Apr 9 00:17:13 2023 -0500\n",
      "\n",
      "    ADICIONADO ARCHIVO dataset.avro 2023-04-09 00:17:10.120143\n",
      "    \n",
      "    - El proposito es generar un registro de archivos con su fecha correspondiente, - Se adiciono el archivo dataset.avro al commit, - La fecha donde se creao este commit es 2023-04-09 00:17:10.120143\n",
      "\n",
      "commit 8b026a4636407ff7bc32a403cbc9dd743d58bf56\n",
      "Author: jorgecardona <jorgecardona@utp.edu.co>\n",
      "Date:   Sun Apr 9 00:17:13 2023 -0500\n",
      "\n",
      "    ADICIONADO ARCHIVO query.sql 2023-04-09 00:17:10.120143\n",
      "    \n",
      "    - El proposito es generar un registro de archivos con su fecha correspondiente, - Se adiciono el archivo query.sql al commit, - La fecha donde se creao este commit es 2023-04-09 00:17:10.120143\n",
      "\n",
      "commit 710983f8e5092c5311e9e0368c3c7d2af8107357\n",
      "Author: QiDimMak <cienciagoku@gmail.com>\n",
      "Date:   Sun Apr 9 00:17:13 2023 -0500\n",
      "\n",
      "    ADICIONADO ARCHIVO utils.gif 2023-04-09 00:17:10.120143\n",
      "    \n",
      "    - El proposito es generar un registro de archivos con su fecha correspondiente, - Se adiciono el archivo utils.gif al commit, - La fecha donde se creao este commit es 2023-04-09 00:17:10.120143\n",
      "\n",
      "commit 0289d916b44db2fb83290165cac203414061273c\n",
      "Author: jorgecardona <jorgecardona@utp.edu.co>\n",
      "Date:   Sun Apr 9 00:17:12 2023 -0500\n",
      "\n",
      "    ADICIONADO ARCHIVO addon.php 2023-04-09 00:17:10.120143\n",
      "    \n",
      "    - El proposito es generar un registro de archivos con su fecha correspondiente, - Se adiciono el archivo addon.php al commit, - La fecha donde se creao este commit es 2023-04-09 00:17:10.120143\n",
      "\n",
      "commit 799d5401cbeceeba686680e9cf35edc7af9121a7\n",
      "Author: QiDimMak <cienciagoku@gmail.com>\n",
      "Date:   Sun Apr 9 00:17:12 2023 -0500\n",
      "\n",
      "    ADICIONADO ARCHIVO calculos.c 2023-04-09 00:17:10.120143\n",
      "    \n",
      "    - El proposito es generar un registro de archivos con su fecha correspondiente, - Se adiciono el archivo calculos.c al commit, - La fecha donde se creao este commit es 2023-04-09 00:17:10.120143\n",
      "\n",
      "commit c06e6c37328fa79fd42b47b44c11577e073f0b46\n",
      "Author: jorgecardona <jorgecardona@utp.edu.co>\n",
      "Date:   Sun Apr 9 00:17:12 2023 -0500\n",
      "\n",
      "    ADICIONADO ARCHIVO connection.java 2023-04-09 00:17:10.120143\n",
      "    \n",
      "    - El proposito es generar un registro de archivos con su fecha correspondiente, - Se adiciono el archivo connection.java al commit, - La fecha donde se creao este commit es 2023-04-09 00:17:10.120143\n",
      "\n",
      "commit d814645d934d64e81025c02cecdf86c3cfc0e6e4\n",
      "Author: QiDimMak <cienciagoku@gmail.com>\n",
      "Date:   Sun Apr 9 00:17:12 2023 -0500\n",
      "\n",
      "    ADICIONADO ARCHIVO main.py 2023-04-09 00:17:10.120143\n",
      "    \n",
      "    - El proposito es generar un registro de archivos con su fecha correspondiente, - Se adiciono el archivo main.py al commit, - La fecha donde se creao este commit es 2023-04-09 00:17:10.120143\n",
      "\n",
      "commit b2d8ee350a06b40384139a8b6beb27a3d2fb1605\n",
      "Author: jorgecardona <jorgecardona@utp.edu.co>\n",
      "Date:   Sun Apr 9 00:17:12 2023 -0500\n",
      "\n",
      "    ADICIONADO ARCHIVO imagen.png 2023-04-09 00:17:10.120143\n",
      "    \n",
      "    - El proposito es generar un registro de archivos con su fecha correspondiente, - Se adiciono el archivo imagen.png al commit, - La fecha donde se creao este commit es 2023-04-09 00:17:10.120143\n",
      "\n",
      "commit cf440b43d759b7bf8a61f1918ad8e11127eba52d\n",
      "Author: QiDimMak <cienciagoku@gmail.com>\n",
      "Date:   Sun Apr 9 00:17:11 2023 -0500\n",
      "\n",
      "    ADICIONADO ARCHIVO Manifest.yaml 2023-04-09 00:17:10.120143\n",
      "    \n",
      "    - El proposito es generar un registro de archivos con su fecha correspondiente, - Se adiciono el archivo Manifest.yaml al commit, - La fecha donde se creao este commit es 2023-04-09 00:17:10.120143\n",
      "\n",
      "commit a5b42ac2b0340c02fbd108602d6fc8bb39a059a6\n",
      "Author: jorgecardona <jorgecardona@utp.edu.co>\n",
      "Date:   Sun Apr 9 00:17:11 2023 -0500\n",
      "\n",
      "    ADICIONADO ARCHIVO Dockerfile 2023-04-09 00:17:10.120143\n",
      "    \n",
      "    - El proposito es generar un registro de archivos con su fecha correspondiente, - Se adiciono el archivo Dockerfile al commit, - La fecha donde se creao este commit es 2023-04-09 00:17:10.120143\n",
      "\n",
      "commit cac28b3bad91d627b7bc47d98bab934098b48bba\n",
      "Author: QiDimMak <cienciagoku@gmail.com>\n",
      "Date:   Sun Apr 9 00:17:11 2023 -0500\n",
      "\n",
      "    ADICIONADO ARCHIVO info.txt 2023-04-09 00:17:10.120143\n",
      "    \n",
      "    - El proposito es generar un registro de archivos con su fecha correspondiente, - Se adiciono el archivo info.txt al commit, - La fecha donde se creao este commit es 2023-04-09 00:17:10.120143\n",
      "\n",
      "commit c0925c2c7f6b583d248a5b2bc9ae7ad53c962a85\n",
      "Author: QiDimMak <cienciagoku@gmail.com>\n",
      "Date:   Mon Mar 27 22:44:25 2023 -0500\n",
      "\n",
      "    adicionado usuario\n",
      "\n",
      "commit d4817403ddb0f529bf30d4769eb5a9dc002e49a6\n",
      "Author: PARADIGMA\\QiDimMak <jorgecardona@utp.edu.co>\n",
      "Date:   Mon Mar 27 22:44:25 2023 -0500\n",
      "\n",
      "    adicionado requirements.txt\n",
      "\n",
      "commit fd01bde637f8bacb4d2a99f6ace425480be3599a\n",
      "Author: PARADIGMA\\QiDimMak <jorgecardona@utp.edu.co>\n",
      "Date:   Mon Mar 27 22:43:04 2023 -0500\n",
      "\n",
      "    adicionado readme\n",
      "\n",
      "commit 6bfbfd4a81082e9312caf0a94ba88d975f9db1e9\n",
      "Author: PARADIGMA\\QiDimMak <jorgecardona@utp.edu.co>\n",
      "Date:   Mon Mar 27 22:42:46 2023 -0500\n",
      "\n",
      "    adicionado license\n",
      "\n",
      "commit e56280cade6f8f0f6995349582d4e1eaaf07cbdd\n",
      "Author: PARADIGMA\\QiDimMak <jorgecardona@utp.edu.co>\n",
      "Date:   Mon Mar 27 22:42:26 2023 -0500\n",
      "\n",
      "    adicionado .gitignore\n",
      "##############################################################################################################\n",
      "\n",
      "############################################# COMANDO A EJECUTAR #############################################\n",
      "git branch\n",
      "####################################### RESULTADO DE COMANDO EJECUTADO #######################################\n",
      "* commit_branch\n",
      "  main\n",
      "##############################################################################################################\n",
      "\n"
     ]
    }
   ],
   "source": [
    "comando = 'git log'\n",
    "ejecutar_comando_git(comando)\n",
    "\n",
    "ejecutar_comando_shell()"
   ]
  },
  {
   "cell_type": "markdown",
   "id": "b26c3022-d94b-4132-a63b-913a1522da1c",
   "metadata": {},
   "source": [
    "### VER HISTORIAL DE LOS ULTIMOS n COMMITS"
   ]
  },
  {
   "cell_type": "code",
   "execution_count": 20,
   "id": "de4a869a-edc0-478a-ae34-79ea94a30018",
   "metadata": {
    "scrolled": true,
    "tags": []
   },
   "outputs": [
    {
     "name": "stdout",
     "output_type": "stream",
     "text": [
      "############################################# COMANDO A EJECUTAR #############################################\n",
      "git log -3\n",
      "####################################### RESULTADO DE COMANDO EJECUTADO #######################################\n",
      "commit d95748a9a1e47254840faf09dd8328daa1bcdd78\n",
      "Author: jorgecardona <jorgecardona@utp.edu.co>\n",
      "Date:   Sun Apr 9 00:17:31 2023 -0500\n",
      "\n",
      "    PRUEBA de COMMIT numero 8 con fecha 1681017451.163797 y valor aleatorio 9653753 y contiene el archivo link.vs\n",
      "\n",
      "commit 1524c0a1dffbad6c7b81e73a4b5b5044f58304d0\n",
      "Author: QiDimMak <cienciagoku@gmail.com>\n",
      "Date:   Sun Apr 9 00:17:29 2023 -0500\n",
      "\n",
      "    PRUEBA de COMMIT numero 7 con fecha 1681017449.320399 y valor aleatorio 8306222 y contiene el archivo link.vs\n",
      "\n",
      "commit a78f02c2860307cab816ecc2a3cc1df9f38e9f85\n",
      "Author: jorgecardona <jorgecardona@utp.edu.co>\n",
      "Date:   Sun Apr 9 00:17:27 2023 -0500\n",
      "\n",
      "    PRUEBA de COMMIT numero 6 con fecha 1681017447.525399 y valor aleatorio 8223134 y contiene el archivo query.sql\n",
      "##############################################################################################################\n",
      "\n",
      "############################################# COMANDO A EJECUTAR #############################################\n",
      "git branch\n",
      "####################################### RESULTADO DE COMANDO EJECUTADO #######################################\n",
      "* commit_branch\n",
      "  main\n",
      "##############################################################################################################\n",
      "\n"
     ]
    }
   ],
   "source": [
    "comando = 'git log -3' \n",
    "ejecutar_comando_git(comando)\n",
    "\n",
    "ejecutar_comando_shell()"
   ]
  },
  {
   "cell_type": "markdown",
   "id": "934c0f46-65d5-416e-8fdc-e2f047276a04",
   "metadata": {},
   "source": [
    "### VER HISTORIAL COMMITS DEL PRIMERO AL ULTIMO"
   ]
  },
  {
   "cell_type": "code",
   "execution_count": 21,
   "id": "47a01e19-3552-4f00-b573-23346830775b",
   "metadata": {
    "tags": []
   },
   "outputs": [
    {
     "name": "stdout",
     "output_type": "stream",
     "text": [
      "############################################# COMANDO A EJECUTAR #############################################\n",
      "git log --reverse --oneline\n",
      "####################################### RESULTADO DE COMANDO EJECUTADO #######################################\n",
      "e56280c adicionado .gitignore\n",
      "6bfbfd4 adicionado license\n",
      "fd01bde adicionado readme\n",
      "d481740 adicionado requirements.txt\n",
      "c0925c2 adicionado usuario\n",
      "cac28b3 ADICIONADO ARCHIVO info.txt 2023-04-09 00:17:10.120143\n",
      "a5b42ac ADICIONADO ARCHIVO Dockerfile 2023-04-09 00:17:10.120143\n",
      "cf440b4 ADICIONADO ARCHIVO Manifest.yaml 2023-04-09 00:17:10.120143\n",
      "b2d8ee3 ADICIONADO ARCHIVO imagen.png 2023-04-09 00:17:10.120143\n",
      "d814645 ADICIONADO ARCHIVO main.py 2023-04-09 00:17:10.120143\n",
      "c06e6c3 ADICIONADO ARCHIVO connection.java 2023-04-09 00:17:10.120143\n",
      "799d540 ADICIONADO ARCHIVO calculos.c 2023-04-09 00:17:10.120143\n",
      "0289d91 ADICIONADO ARCHIVO addon.php 2023-04-09 00:17:10.120143\n",
      "710983f ADICIONADO ARCHIVO utils.gif 2023-04-09 00:17:10.120143\n",
      "8b026a4 ADICIONADO ARCHIVO query.sql 2023-04-09 00:17:10.120143\n",
      "66cefd9 ADICIONADO ARCHIVO dataset.avro 2023-04-09 00:17:10.120143\n",
      "f9a93e6 ADICIONADO ARCHIVO link.vs 2023-04-09 00:17:10.120143\n",
      "68bec6c PRUEBA de COMMIT numero 1 con fecha 1681017438.272205 y valor aleatorio 7816815 y contiene el archivo calculos.c\n",
      "f197cc1 PRUEBA de COMMIT numero 2 con fecha 1681017440.239701 y valor aleatorio 2114990 y contiene el archivo Manifest.yaml\n",
      "7a7417f PRUEBA de COMMIT numero 3 con fecha 1681017441.996946 y valor aleatorio 9124240 y contiene el archivo imagen.png\n",
      "a2844b3 PRUEBA de COMMIT numero 4 con fecha 1681017443.846545 y valor aleatorio 1662990 y contiene el archivo calculos.c\n",
      "f697f93 PRUEBA de COMMIT numero 5 con fecha 1681017445.657032 y valor aleatorio 3407452 y contiene el archivo utils.gif\n",
      "a78f02c PRUEBA de COMMIT numero 6 con fecha 1681017447.525399 y valor aleatorio 8223134 y contiene el archivo query.sql\n",
      "1524c0a PRUEBA de COMMIT numero 7 con fecha 1681017449.320399 y valor aleatorio 8306222 y contiene el archivo link.vs\n",
      "d95748a PRUEBA de COMMIT numero 8 con fecha 1681017451.163797 y valor aleatorio 9653753 y contiene el archivo link.vs\n",
      "##############################################################################################################\n",
      "\n",
      "############################################# COMANDO A EJECUTAR #############################################\n",
      "git branch\n",
      "####################################### RESULTADO DE COMANDO EJECUTADO #######################################\n",
      "* commit_branch\n",
      "  main\n",
      "##############################################################################################################\n",
      "\n"
     ]
    }
   ],
   "source": [
    "comando = \"git log --reverse --oneline\"\n",
    "ejecutar_comando_git(comando)\n",
    "ejecutar_comando_shell()"
   ]
  },
  {
   "cell_type": "code",
   "execution_count": 22,
   "id": "ec3d86ed-79ab-4bcc-9b7c-860e11c266fd",
   "metadata": {
    "tags": []
   },
   "outputs": [
    {
     "name": "stdout",
     "output_type": "stream",
     "text": [
      "############################################# COMANDO A EJECUTAR #############################################\n",
      "git log HEAD~24..HEAD~21 --reverse --oneline\n",
      "####################################### RESULTADO DE COMANDO EJECUTADO #######################################\n",
      "6bfbfd4 adicionado license\n",
      "fd01bde adicionado readme\n",
      "d481740 adicionado requirements.txt\n",
      "##############################################################################################################\n",
      "\n",
      "############################################# COMANDO A EJECUTAR #############################################\n",
      "git branch\n",
      "####################################### RESULTADO DE COMANDO EJECUTADO #######################################\n",
      "* commit_branch\n",
      "  main\n",
      "##############################################################################################################\n",
      "\n"
     ]
    }
   ],
   "source": [
    "comando = \"git log HEAD~24..HEAD~21 --reverse --oneline\"\n",
    "ejecutar_comando_git(comando)\n",
    "ejecutar_comando_shell()"
   ]
  },
  {
   "cell_type": "markdown",
   "id": "604c0591-679b-490d-bde2-e85a560761c0",
   "metadata": {},
   "source": [
    "### MUESTRA EL HISTORIAL DE COMMITS AGRUPADOS POR AUTOR RAMA ACTUAL"
   ]
  },
  {
   "cell_type": "code",
   "execution_count": 23,
   "id": "3ceb63c2-ee89-4857-8ff5-131ff83c0bf5",
   "metadata": {
    "tags": []
   },
   "outputs": [
    {
     "name": "stdout",
     "output_type": "stream",
     "text": [
      "############################################# COMANDO A EJECUTAR #############################################\n",
      "git shortlog --format=\"%cn on %cd %ae committed %h %s\" origin/commit_branch\n",
      "####################################### RESULTADO DE COMANDO EJECUTADO #######################################\n",
      "PARADIGMA\\QiDimMak (4):\n",
      "      PARADIGMA\\QiDimMak on Mon Mar 27 22:42:26 2023 -0500 jorgecardona@utp.edu.co committed e56280c adicionado .gitignore\n",
      "      PARADIGMA\\QiDimMak on Mon Mar 27 22:42:46 2023 -0500 jorgecardona@utp.edu.co committed 6bfbfd4 adicionado license\n",
      "      PARADIGMA\\QiDimMak on Mon Mar 27 22:43:04 2023 -0500 jorgecardona@utp.edu.co committed fd01bde adicionado readme\n",
      "      PARADIGMA\\QiDimMak on Mon Mar 27 22:44:25 2023 -0500 jorgecardona@utp.edu.co committed d481740 adicionado requirements.txt\n",
      "\n",
      "QiDimMak (7):\n",
      "      QiDimMak on Sat Apr 8 23:07:03 2023 -0500 cienciagoku@gmail.com committed c0925c2 adicionado usuario\n",
      "      jorgecardona on Sun Apr 9 00:17:11 2023 -0500 cienciagoku@gmail.com committed cac28b3 ADICIONADO ARCHIVO info.txt 2023-04-09 00:17:10.120143\n",
      "      jorgecardona on Sun Apr 9 00:17:12 2023 -0500 cienciagoku@gmail.com committed cf440b4 ADICIONADO ARCHIVO Manifest.yaml 2023-04-09 00:17:10.120143\n",
      "      jorgecardona on Sun Apr 9 00:17:12 2023 -0500 cienciagoku@gmail.com committed d814645 ADICIONADO ARCHIVO main.py 2023-04-09 00:17:10.120143\n",
      "      jorgecardona on Sun Apr 9 00:17:12 2023 -0500 cienciagoku@gmail.com committed 799d540 ADICIONADO ARCHIVO calculos.c 2023-04-09 00:17:10.120143\n",
      "      jorgecardona on Sun Apr 9 00:17:13 2023 -0500 cienciagoku@gmail.com committed 710983f ADICIONADO ARCHIVO utils.gif 2023-04-09 00:17:10.120143\n",
      "      jorgecardona on Sun Apr 9 00:17:13 2023 -0500 cienciagoku@gmail.com committed 66cefd9 ADICIONADO ARCHIVO dataset.avro 2023-04-09 00:17:10.120143\n",
      "\n",
      "jorgecardona (6):\n",
      "      jorgecardona on Sun Apr 9 00:17:11 2023 -0500 jorgecardona@utp.edu.co committed a5b42ac ADICIONADO ARCHIVO Dockerfile 2023-04-09 00:17:10.120143\n",
      "      jorgecardona on Sun Apr 9 00:17:12 2023 -0500 jorgecardona@utp.edu.co committed b2d8ee3 ADICIONADO ARCHIVO imagen.png 2023-04-09 00:17:10.120143\n",
      "      jorgecardona on Sun Apr 9 00:17:12 2023 -0500 jorgecardona@utp.edu.co committed c06e6c3 ADICIONADO ARCHIVO connection.java 2023-04-09 00:17:10.120143\n",
      "      jorgecardona on Sun Apr 9 00:17:12 2023 -0500 jorgecardona@utp.edu.co committed 0289d91 ADICIONADO ARCHIVO addon.php 2023-04-09 00:17:10.120143\n",
      "      jorgecardona on Sun Apr 9 00:17:13 2023 -0500 jorgecardona@utp.edu.co committed 8b026a4 ADICIONADO ARCHIVO query.sql 2023-04-09 00:17:10.120143\n",
      "      jorgecardona on Sun Apr 9 00:17:13 2023 -0500 jorgecardona@utp.edu.co committed f9a93e6 ADICIONADO ARCHIVO link.vs 2023-04-09 00:17:10.120143\n",
      "\n",
      "##############################################################################################################\n",
      "\n",
      "############################################# COMANDO A EJECUTAR #############################################\n",
      "git branch\n",
      "####################################### RESULTADO DE COMANDO EJECUTADO #######################################\n",
      "* commit_branch\n",
      "  main\n",
      "##############################################################################################################\n",
      "\n"
     ]
    }
   ],
   "source": [
    "comando = 'git shortlog --format=\"%cn on %cd %ae committed %h %s\" origin/{nombre_rama}'.format(nombre_rama=nombre_rama)\n",
    "ejecutar_comando_git(comando)\n",
    "ejecutar_comando_shell()"
   ]
  },
  {
   "cell_type": "markdown",
   "id": "8c482b6e-9339-441b-a2f9-2fbaeeb0768e",
   "metadata": {},
   "source": [
    "### MUESTRA EL HISTORIAL DE COMMITS AGRUPADOS POR AUTOR TODAS LAS RAMAS"
   ]
  },
  {
   "cell_type": "code",
   "execution_count": 24,
   "id": "4fff81f9-c147-4456-bf9c-286f91c22a03",
   "metadata": {
    "tags": []
   },
   "outputs": [
    {
     "name": "stdout",
     "output_type": "stream",
     "text": [
      "############################################# COMANDO A EJECUTAR #############################################\n",
      "git shortlog --all --format=\"%cn on %cd %ae committed %h %s\"\n",
      "####################################### RESULTADO DE COMANDO EJECUTADO #######################################\n",
      "PARADIGMA\\QiDimMak (26):\n",
      "      PARADIGMA\\QiDimMak on Mon Mar 27 22:42:26 2023 -0500 jorgecardona@utp.edu.co committed e56280c adicionado .gitignore\n",
      "      PARADIGMA\\QiDimMak on Mon Mar 27 22:42:46 2023 -0500 jorgecardona@utp.edu.co committed 6bfbfd4 adicionado license\n",
      "      PARADIGMA\\QiDimMak on Mon Mar 27 22:43:04 2023 -0500 jorgecardona@utp.edu.co committed fd01bde adicionado readme\n",
      "      PARADIGMA\\QiDimMak on Mon Mar 27 22:44:25 2023 -0500 jorgecardona@utp.edu.co committed d481740 adicionado requirements.txt\n",
      "      PARADIGMA\\QiDimMak on Tue Mar 28 06:31:10 2023 -0500 jorgecardona@utp.edu.co committed ae943f2 configuraion general y de ambiente\n",
      "      PARADIGMA\\QiDimMak on Tue Mar 28 06:31:38 2023 -0500 jorgecardona@utp.edu.co committed 1fb50b9 adicionado archivo csv\n",
      "      PARADIGMA\\QiDimMak on Tue Mar 28 06:31:55 2023 -0500 jorgecardona@utp.edu.co committed d158721 adicionado archivo html\n",
      "      PARADIGMA\\QiDimMak on Tue Mar 28 06:34:38 2023 -0500 jorgecardona@utp.edu.co committed 56221ac adicionado archivo pdf\n",
      "      PARADIGMA\\QiDimMak on Tue Mar 28 06:34:49 2023 -0500 jorgecardona@utp.edu.co committed 19556bc adicionado archivo word\n",
      "      PARADIGMA\\QiDimMak on Tue Mar 28 06:35:00 2023 -0500 jorgecardona@utp.edu.co committed 5921bed adicionado archivo power point\n",
      "      PARADIGMA\\QiDimMak on Tue Mar 28 06:35:07 2023 -0500 jorgecardona@utp.edu.co committed 474faa1 adicionado archivo excel\n",
      "      PARADIGMA\\QiDimMak on Tue Mar 28 06:37:32 2023 -0500 jorgecardona@utp.edu.co committed ceb9edd adicionado archivo rtf\n",
      "      PARADIGMA\\QiDimMak on Tue Mar 28 06:37:45 2023 -0500 jorgecardona@utp.edu.co committed 286ebcf adicionada imagen bmp\n",
      "      PARADIGMA\\QiDimMak on Tue Mar 28 07:02:49 2023 -0500 jorgecardona@utp.edu.co committed 00d5b10 adicionada funcion suma\n",
      "      PARADIGMA\\QiDimMak on Tue Mar 28 07:04:05 2023 -0500 jorgecardona@utp.edu.co committed 08805df adicionada funcion resta\n",
      "      PARADIGMA\\QiDimMak on Tue Mar 28 07:04:50 2023 -0500 jorgecardona@utp.edu.co committed d8f1222 adicionada funcion multiplicacion\n",
      "      PARADIGMA\\QiDimMak on Tue Mar 28 07:05:39 2023 -0500 jorgecardona@utp.edu.co committed 4da1e88 adicionada funcion division_decimal\n",
      "      PARADIGMA\\QiDimMak on Tue Mar 28 07:06:20 2023 -0500 jorgecardona@utp.edu.co committed ff56388 adicionada funcion division_entera\n",
      "      PARADIGMA\\QiDimMak on Tue Mar 28 07:06:48 2023 -0500 jorgecardona@utp.edu.co committed f649a14 cambio de parametros\n",
      "      PARADIGMA\\QiDimMak on Tue Mar 28 07:07:34 2023 -0500 jorgecardona@utp.edu.co committed 0b5c404 adicionada funcion potencia\n",
      "      PARADIGMA\\QiDimMak on Tue Mar 28 07:08:47 2023 -0500 jorgecardona@utp.edu.co committed b6a5eb0 adicionada funcion raiz_cuadrada\n",
      "      PARADIGMA\\QiDimMak on Tue Mar 28 07:09:30 2023 -0500 jorgecardona@utp.edu.co committed 269f907 adicionada funcion logaritmo\n",
      "      PARADIGMA\\QiDimMak on Tue Mar 28 07:10:15 2023 -0500 jorgecardona@utp.edu.co committed 188fcd5 adicionada funcion piso\n",
      "      PARADIGMA\\QiDimMak on Tue Mar 28 07:11:36 2023 -0500 jorgecardona@utp.edu.co committed b0b559d adicionada funcion techo\n",
      "      PARADIGMA\\QiDimMak on Tue Mar 28 07:11:49 2023 -0500 jorgecardona@utp.edu.co committed c4b9789 adicionada funcion factorial\n",
      "      PARADIGMA\\QiDimMak on Tue Mar 28 08:12:44 2023 -0500 jorgecardona@utp.edu.co committed 1b7be03 adicionada multiplicacion de numeros imaginarios\n",
      "\n",
      "QiDimMak (11):\n",
      "      QiDimMak on Sat Apr 8 23:07:03 2023 -0500 cienciagoku@gmail.com committed c0925c2 adicionado usuario\n",
      "      jorgecardona on Sun Apr 9 00:17:11 2023 -0500 cienciagoku@gmail.com committed cac28b3 ADICIONADO ARCHIVO info.txt 2023-04-09 00:17:10.120143\n",
      "      jorgecardona on Sun Apr 9 00:17:12 2023 -0500 cienciagoku@gmail.com committed cf440b4 ADICIONADO ARCHIVO Manifest.yaml 2023-04-09 00:17:10.120143\n",
      "      jorgecardona on Sun Apr 9 00:17:12 2023 -0500 cienciagoku@gmail.com committed d814645 ADICIONADO ARCHIVO main.py 2023-04-09 00:17:10.120143\n",
      "      jorgecardona on Sun Apr 9 00:17:12 2023 -0500 cienciagoku@gmail.com committed 799d540 ADICIONADO ARCHIVO calculos.c 2023-04-09 00:17:10.120143\n",
      "      jorgecardona on Sun Apr 9 00:17:13 2023 -0500 cienciagoku@gmail.com committed 710983f ADICIONADO ARCHIVO utils.gif 2023-04-09 00:17:10.120143\n",
      "      jorgecardona on Sun Apr 9 00:17:13 2023 -0500 cienciagoku@gmail.com committed 66cefd9 ADICIONADO ARCHIVO dataset.avro 2023-04-09 00:17:10.120143\n",
      "      jorgecardona on Sun Apr 9 00:17:18 2023 -0500 cienciagoku@gmail.com committed 68bec6c PRUEBA de COMMIT numero 1 con fecha 1681017438.272205 y valor aleatorio 7816815 y contiene el archivo calculos.c\n",
      "      jorgecardona on Sun Apr 9 00:17:22 2023 -0500 cienciagoku@gmail.com committed 7a7417f PRUEBA de COMMIT numero 3 con fecha 1681017441.996946 y valor aleatorio 9124240 y contiene el archivo imagen.png\n",
      "      jorgecardona on Sun Apr 9 00:17:25 2023 -0500 cienciagoku@gmail.com committed f697f93 PRUEBA de COMMIT numero 5 con fecha 1681017445.657032 y valor aleatorio 3407452 y contiene el archivo utils.gif\n",
      "      jorgecardona on Sun Apr 9 00:17:29 2023 -0500 cienciagoku@gmail.com committed 1524c0a PRUEBA de COMMIT numero 7 con fecha 1681017449.320399 y valor aleatorio 8306222 y contiene el archivo link.vs\n",
      "\n",
      "jorgecardona (10):\n",
      "      jorgecardona on Sun Apr 9 00:17:11 2023 -0500 jorgecardona@utp.edu.co committed a5b42ac ADICIONADO ARCHIVO Dockerfile 2023-04-09 00:17:10.120143\n",
      "      jorgecardona on Sun Apr 9 00:17:12 2023 -0500 jorgecardona@utp.edu.co committed b2d8ee3 ADICIONADO ARCHIVO imagen.png 2023-04-09 00:17:10.120143\n",
      "      jorgecardona on Sun Apr 9 00:17:12 2023 -0500 jorgecardona@utp.edu.co committed c06e6c3 ADICIONADO ARCHIVO connection.java 2023-04-09 00:17:10.120143\n",
      "      jorgecardona on Sun Apr 9 00:17:12 2023 -0500 jorgecardona@utp.edu.co committed 0289d91 ADICIONADO ARCHIVO addon.php 2023-04-09 00:17:10.120143\n",
      "      jorgecardona on Sun Apr 9 00:17:13 2023 -0500 jorgecardona@utp.edu.co committed 8b026a4 ADICIONADO ARCHIVO query.sql 2023-04-09 00:17:10.120143\n",
      "      jorgecardona on Sun Apr 9 00:17:13 2023 -0500 jorgecardona@utp.edu.co committed f9a93e6 ADICIONADO ARCHIVO link.vs 2023-04-09 00:17:10.120143\n",
      "      jorgecardona on Sun Apr 9 00:17:20 2023 -0500 jorgecardona@utp.edu.co committed f197cc1 PRUEBA de COMMIT numero 2 con fecha 1681017440.239701 y valor aleatorio 2114990 y contiene el archivo Manifest.yaml\n",
      "      jorgecardona on Sun Apr 9 00:17:23 2023 -0500 jorgecardona@utp.edu.co committed a2844b3 PRUEBA de COMMIT numero 4 con fecha 1681017443.846545 y valor aleatorio 1662990 y contiene el archivo calculos.c\n",
      "      jorgecardona on Sun Apr 9 00:17:27 2023 -0500 jorgecardona@utp.edu.co committed a78f02c PRUEBA de COMMIT numero 6 con fecha 1681017447.525399 y valor aleatorio 8223134 y contiene el archivo query.sql\n",
      "      jorgecardona on Sun Apr 9 00:17:31 2023 -0500 jorgecardona@utp.edu.co committed d95748a PRUEBA de COMMIT numero 8 con fecha 1681017451.163797 y valor aleatorio 9653753 y contiene el archivo link.vs\n",
      "\n",
      "##############################################################################################################\n",
      "\n",
      "############################################# COMANDO A EJECUTAR #############################################\n",
      "git branch\n",
      "####################################### RESULTADO DE COMANDO EJECUTADO #######################################\n",
      "* commit_branch\n",
      "  main\n",
      "##############################################################################################################\n",
      "\n"
     ]
    }
   ],
   "source": [
    "comando = 'git shortlog --all --format=\"%cn on %cd %ae committed %h %s\"'\n",
    "ejecutar_comando_git(comando)\n",
    "ejecutar_comando_shell()"
   ]
  },
  {
   "cell_type": "markdown",
   "id": "1c037b19-3dd0-466d-b567-4ccb0efd2850",
   "metadata": {},
   "source": [
    "### MUESTRA EL HISTORIAL DE COMMITS AGRUPADOS POR AUTOR CON METADATOS Y FILTRADO EN EL TIEMPO"
   ]
  },
  {
   "cell_type": "code",
   "execution_count": 25,
   "id": "f9b8a156-0573-4cd1-8847-4dc6f06141ec",
   "metadata": {
    "tags": []
   },
   "outputs": [
    {
     "name": "stdout",
     "output_type": "stream",
     "text": [
      "############################################# COMANDO A EJECUTAR #############################################\n",
      "git shortlog --format=\"%s %ae\" --since=\"01-01-2023\" --until=\"31-03-2023\" origin/commit_branch\n",
      "####################################### RESULTADO DE COMANDO EJECUTADO #######################################\n",
      "PARADIGMA\\QiDimMak (4):\n",
      "      adicionado .gitignore jorgecardona@utp.edu.co\n",
      "      adicionado license jorgecardona@utp.edu.co\n",
      "      adicionado readme jorgecardona@utp.edu.co\n",
      "      adicionado requirements.txt jorgecardona@utp.edu.co\n",
      "\n",
      "##############################################################################################################\n",
      "\n"
     ]
    }
   ],
   "source": [
    "comando = 'git shortlog --format=\"%s %ae\" --since=\"01-01-2023\" --until=\"31-03-2023\" origin/{nombre_rama}'.format(nombre_rama=nombre_rama)\n",
    "ejecutar_comando_git(comando)"
   ]
  },
  {
   "cell_type": "markdown",
   "id": "c77e7fac-fc4e-420f-8bca-da5c77cb628f",
   "metadata": {},
   "source": [
    "### MUESTRA EL HISTORIAL DE COMMITS CON MAS DETALLES POR AUTOR"
   ]
  },
  {
   "cell_type": "markdown",
   "id": "3363691d-ce4a-4c30-90e7-f1cc5ae02dc4",
   "metadata": {
    "tags": []
   },
   "source": [
    "### REMOTO"
   ]
  },
  {
   "cell_type": "code",
   "execution_count": 26,
   "id": "21a037e3-a947-4fd8-926c-5204f3240942",
   "metadata": {
    "tags": []
   },
   "outputs": [
    {
     "name": "stdout",
     "output_type": "stream",
     "text": [
      "############################################# COMANDO A EJECUTAR #############################################\n",
      "git shortlog --format=\"%cn on %cd %ae committed %h %s\" --since=\"01-01-2023\" --until=\"31-03-2023\" origin/commit_branch\n",
      "####################################### RESULTADO DE COMANDO EJECUTADO #######################################\n",
      "PARADIGMA\\QiDimMak (4):\n",
      "      PARADIGMA\\QiDimMak on Mon Mar 27 22:42:26 2023 -0500 jorgecardona@utp.edu.co committed e56280c adicionado .gitignore\n",
      "      PARADIGMA\\QiDimMak on Mon Mar 27 22:42:46 2023 -0500 jorgecardona@utp.edu.co committed 6bfbfd4 adicionado license\n",
      "      PARADIGMA\\QiDimMak on Mon Mar 27 22:43:04 2023 -0500 jorgecardona@utp.edu.co committed fd01bde adicionado readme\n",
      "      PARADIGMA\\QiDimMak on Mon Mar 27 22:44:25 2023 -0500 jorgecardona@utp.edu.co committed d481740 adicionado requirements.txt\n",
      "\n",
      "##############################################################################################################\n",
      "\n"
     ]
    }
   ],
   "source": [
    "comando = 'git shortlog --format=\"%cn on %cd %ae committed %h %s\" --since=\"01-01-2023\" --until=\"31-03-2023\" origin/{nombre_rama}'.format(nombre_rama=nombre_rama)\n",
    "ejecutar_comando_git(comando)"
   ]
  },
  {
   "cell_type": "markdown",
   "id": "fcae466d-2b56-4270-9656-86f7372168d9",
   "metadata": {
    "tags": []
   },
   "source": [
    "### LOCAL"
   ]
  },
  {
   "cell_type": "code",
   "execution_count": 27,
   "id": "11540ed4-d51d-4e15-8789-1681a8a25e54",
   "metadata": {
    "tags": []
   },
   "outputs": [
    {
     "name": "stdout",
     "output_type": "stream",
     "text": [
      "############################################# COMANDO A EJECUTAR #############################################\n",
      "git log --pretty=format:\"%cn on %cd %ae committed %h %s\"  --since=\"31-03-2023\" --until=\"31-12-2023\"\n",
      "####################################### RESULTADO DE COMANDO EJECUTADO #######################################\n",
      "jorgecardona on Sun Apr 9 00:17:31 2023 -0500 jorgecardona@utp.edu.co committed d95748a PRUEBA de COMMIT numero 8 con fecha 1681017451.163797 y valor aleatorio 9653753 y contiene el archivo link.vs\n",
      "jorgecardona on Sun Apr 9 00:17:29 2023 -0500 cienciagoku@gmail.com committed 1524c0a PRUEBA de COMMIT numero 7 con fecha 1681017449.320399 y valor aleatorio 8306222 y contiene el archivo link.vs\n",
      "jorgecardona on Sun Apr 9 00:17:27 2023 -0500 jorgecardona@utp.edu.co committed a78f02c PRUEBA de COMMIT numero 6 con fecha 1681017447.525399 y valor aleatorio 8223134 y contiene el archivo query.sql\n",
      "jorgecardona on Sun Apr 9 00:17:25 2023 -0500 cienciagoku@gmail.com committed f697f93 PRUEBA de COMMIT numero 5 con fecha 1681017445.657032 y valor aleatorio 3407452 y contiene el archivo utils.gif\n",
      "jorgecardona on Sun Apr 9 00:17:23 2023 -0500 jorgecardona@utp.edu.co committed a2844b3 PRUEBA de COMMIT numero 4 con fecha 1681017443.846545 y valor aleatorio 1662990 y contiene el archivo calculos.c\n",
      "jorgecardona on Sun Apr 9 00:17:22 2023 -0500 cienciagoku@gmail.com committed 7a7417f PRUEBA de COMMIT numero 3 con fecha 1681017441.996946 y valor aleatorio 9124240 y contiene el archivo imagen.png\n",
      "jorgecardona on Sun Apr 9 00:17:20 2023 -0500 jorgecardona@utp.edu.co committed f197cc1 PRUEBA de COMMIT numero 2 con fecha 1681017440.239701 y valor aleatorio 2114990 y contiene el archivo Manifest.yaml\n",
      "jorgecardona on Sun Apr 9 00:17:18 2023 -0500 cienciagoku@gmail.com committed 68bec6c PRUEBA de COMMIT numero 1 con fecha 1681017438.272205 y valor aleatorio 7816815 y contiene el archivo calculos.c\n",
      "jorgecardona on Sun Apr 9 00:17:13 2023 -0500 jorgecardona@utp.edu.co committed f9a93e6 ADICIONADO ARCHIVO link.vs 2023-04-09 00:17:10.120143\n",
      "jorgecardona on Sun Apr 9 00:17:13 2023 -0500 cienciagoku@gmail.com committed 66cefd9 ADICIONADO ARCHIVO dataset.avro 2023-04-09 00:17:10.120143\n",
      "jorgecardona on Sun Apr 9 00:17:13 2023 -0500 jorgecardona@utp.edu.co committed 8b026a4 ADICIONADO ARCHIVO query.sql 2023-04-09 00:17:10.120143\n",
      "jorgecardona on Sun Apr 9 00:17:13 2023 -0500 cienciagoku@gmail.com committed 710983f ADICIONADO ARCHIVO utils.gif 2023-04-09 00:17:10.120143\n",
      "jorgecardona on Sun Apr 9 00:17:12 2023 -0500 jorgecardona@utp.edu.co committed 0289d91 ADICIONADO ARCHIVO addon.php 2023-04-09 00:17:10.120143\n",
      "jorgecardona on Sun Apr 9 00:17:12 2023 -0500 cienciagoku@gmail.com committed 799d540 ADICIONADO ARCHIVO calculos.c 2023-04-09 00:17:10.120143\n",
      "jorgecardona on Sun Apr 9 00:17:12 2023 -0500 jorgecardona@utp.edu.co committed c06e6c3 ADICIONADO ARCHIVO connection.java 2023-04-09 00:17:10.120143\n",
      "jorgecardona on Sun Apr 9 00:17:12 2023 -0500 cienciagoku@gmail.com committed d814645 ADICIONADO ARCHIVO main.py 2023-04-09 00:17:10.120143\n",
      "jorgecardona on Sun Apr 9 00:17:12 2023 -0500 jorgecardona@utp.edu.co committed b2d8ee3 ADICIONADO ARCHIVO imagen.png 2023-04-09 00:17:10.120143\n",
      "jorgecardona on Sun Apr 9 00:17:12 2023 -0500 cienciagoku@gmail.com committed cf440b4 ADICIONADO ARCHIVO Manifest.yaml 2023-04-09 00:17:10.120143\n",
      "jorgecardona on Sun Apr 9 00:17:11 2023 -0500 jorgecardona@utp.edu.co committed a5b42ac ADICIONADO ARCHIVO Dockerfile 2023-04-09 00:17:10.120143\n",
      "jorgecardona on Sun Apr 9 00:17:11 2023 -0500 cienciagoku@gmail.com committed cac28b3 ADICIONADO ARCHIVO info.txt 2023-04-09 00:17:10.120143\n",
      "QiDimMak on Sat Apr 8 23:07:03 2023 -0500 cienciagoku@gmail.com committed c0925c2 adicionado usuario##############################################################################################################\n",
      "\n"
     ]
    }
   ],
   "source": [
    "comando = 'git log --pretty=format:\"%cn on %cd %ae committed %h %s\"  --since=\"31-03-2023\" --until=\"31-12-2023\"'\n",
    "ejecutar_comando_git(comando)"
   ]
  },
  {
   "cell_type": "markdown",
   "id": "261c9a60-577f-4023-8254-8301cb39dc1c",
   "metadata": {},
   "source": [
    "### FILTRADO POR EMAIL"
   ]
  },
  {
   "cell_type": "code",
   "execution_count": 28,
   "id": "ec08d9fa-fdd6-4d64-8c87-9fab11cb87c7",
   "metadata": {
    "tags": []
   },
   "outputs": [
    {
     "name": "stdout",
     "output_type": "stream",
     "text": [
      "############################################# COMANDO A EJECUTAR #############################################\n",
      "git shortlog --author=\"jorgecardona@utp.edu.co\" --format=\"%cn on %cd %ae committed %h %s\" --since=\"01-01-2023\" --until=\"31-03-2023\" origin/commit_branch\n",
      "####################################### RESULTADO DE COMANDO EJECUTADO #######################################\n",
      "PARADIGMA\\QiDimMak (4):\n",
      "      PARADIGMA\\QiDimMak on Mon Mar 27 22:42:26 2023 -0500 jorgecardona@utp.edu.co committed e56280c adicionado .gitignore\n",
      "      PARADIGMA\\QiDimMak on Mon Mar 27 22:42:46 2023 -0500 jorgecardona@utp.edu.co committed 6bfbfd4 adicionado license\n",
      "      PARADIGMA\\QiDimMak on Mon Mar 27 22:43:04 2023 -0500 jorgecardona@utp.edu.co committed fd01bde adicionado readme\n",
      "      PARADIGMA\\QiDimMak on Mon Mar 27 22:44:25 2023 -0500 jorgecardona@utp.edu.co committed d481740 adicionado requirements.txt\n",
      "\n",
      "##############################################################################################################\n",
      "\n"
     ]
    }
   ],
   "source": [
    "comando = 'git shortlog --author=\"jorgecardona@utp.edu.co\" --format=\"%cn on %cd %ae committed %h %s\" --since=\"01-01-2023\" --until=\"31-03-2023\" origin/{nombre_rama}'.format(nombre_rama=nombre_rama)\n",
    "ejecutar_comando_git(comando)"
   ]
  },
  {
   "cell_type": "markdown",
   "id": "1d738caf-e481-40af-9c43-15396299a5d8",
   "metadata": {},
   "source": [
    "### FILTRADO POR MENSAJE"
   ]
  },
  {
   "cell_type": "code",
   "execution_count": 29,
   "id": "d91f64a7-de2a-499d-ac63-d1a729a25a19",
   "metadata": {
    "tags": []
   },
   "outputs": [
    {
     "name": "stdout",
     "output_type": "stream",
     "text": [
      "############################################# COMANDO A EJECUTAR #############################################\n",
      "git shortlog --grep=\"archivo\" --format=\"%cn on %cd %ae committed %h %s\" --since=\"01-01-2023\" --until=\"31-03-2023\" origin/commit_branch\n",
      "####################################### RESULTADO DE COMANDO EJECUTADO #######################################\n",
      "##############################################################################################################\n",
      "\n"
     ]
    }
   ],
   "source": [
    "comando = 'git shortlog --grep=\"archivo\" --format=\"%cn on %cd %ae committed %h %s\" --since=\"01-01-2023\" --until=\"31-03-2023\" origin/{nombre_rama}'.format(nombre_rama=nombre_rama)\n",
    "ejecutar_comando_git(comando)"
   ]
  },
  {
   "cell_type": "markdown",
   "id": "ab7de92b-45de-44d5-9c9f-c393e9e821ce",
   "metadata": {},
   "source": [
    "### FILTRADO POR ARCHIVO"
   ]
  },
  {
   "cell_type": "code",
   "execution_count": 30,
   "id": "a52a17ff-a75d-432e-95a2-fb1075d1f5b9",
   "metadata": {
    "tags": []
   },
   "outputs": [
    {
     "name": "stdout",
     "output_type": "stream",
     "text": [
      "############################################# COMANDO A EJECUTAR #############################################\n",
      "git log --oneline -- info.txt archivo.pdf Dockerfile origin/commit_branch\n",
      "####################################### RESULTADO DE COMANDO EJECUTADO #######################################\n",
      "d95748a PRUEBA de COMMIT numero 8 con fecha 1681017451.163797 y valor aleatorio 9653753 y contiene el archivo link.vs\n",
      "1524c0a PRUEBA de COMMIT numero 7 con fecha 1681017449.320399 y valor aleatorio 8306222 y contiene el archivo link.vs\n",
      "a78f02c PRUEBA de COMMIT numero 6 con fecha 1681017447.525399 y valor aleatorio 8223134 y contiene el archivo query.sql\n",
      "f697f93 PRUEBA de COMMIT numero 5 con fecha 1681017445.657032 y valor aleatorio 3407452 y contiene el archivo utils.gif\n",
      "a2844b3 PRUEBA de COMMIT numero 4 con fecha 1681017443.846545 y valor aleatorio 1662990 y contiene el archivo calculos.c\n",
      "7a7417f PRUEBA de COMMIT numero 3 con fecha 1681017441.996946 y valor aleatorio 9124240 y contiene el archivo imagen.png\n",
      "f197cc1 PRUEBA de COMMIT numero 2 con fecha 1681017440.239701 y valor aleatorio 2114990 y contiene el archivo Manifest.yaml\n",
      "68bec6c PRUEBA de COMMIT numero 1 con fecha 1681017438.272205 y valor aleatorio 7816815 y contiene el archivo calculos.c\n",
      "a5b42ac ADICIONADO ARCHIVO Dockerfile 2023-04-09 00:17:10.120143\n",
      "cac28b3 ADICIONADO ARCHIVO info.txt 2023-04-09 00:17:10.120143\n",
      "##############################################################################################################\n",
      "\n"
     ]
    }
   ],
   "source": [
    "comando = 'git log --oneline -- info.txt archivo.pdf Dockerfile origin/{nombre_rama}'.format(nombre_rama=nombre_rama)\n",
    "ejecutar_comando_git(comando)"
   ]
  },
  {
   "cell_type": "markdown",
   "id": "cf762281-7956-48ec-85b6-bcde43373419",
   "metadata": {},
   "source": [
    "### FILTRADO POR COMMITS NO MERGED"
   ]
  },
  {
   "cell_type": "code",
   "execution_count": 31,
   "id": "2ed9bad1-82fc-4d40-aa20-de6331b6c0d4",
   "metadata": {
    "tags": []
   },
   "outputs": [
    {
     "name": "stdout",
     "output_type": "stream",
     "text": [
      "############################################# COMANDO A EJECUTAR #############################################\n",
      "git log --oneline --no-merges origin/commit_branch\n",
      "####################################### RESULTADO DE COMANDO EJECUTADO #######################################\n",
      "f9a93e6 ADICIONADO ARCHIVO link.vs 2023-04-09 00:17:10.120143\n",
      "66cefd9 ADICIONADO ARCHIVO dataset.avro 2023-04-09 00:17:10.120143\n",
      "8b026a4 ADICIONADO ARCHIVO query.sql 2023-04-09 00:17:10.120143\n",
      "710983f ADICIONADO ARCHIVO utils.gif 2023-04-09 00:17:10.120143\n",
      "0289d91 ADICIONADO ARCHIVO addon.php 2023-04-09 00:17:10.120143\n",
      "799d540 ADICIONADO ARCHIVO calculos.c 2023-04-09 00:17:10.120143\n",
      "c06e6c3 ADICIONADO ARCHIVO connection.java 2023-04-09 00:17:10.120143\n",
      "d814645 ADICIONADO ARCHIVO main.py 2023-04-09 00:17:10.120143\n",
      "b2d8ee3 ADICIONADO ARCHIVO imagen.png 2023-04-09 00:17:10.120143\n",
      "cf440b4 ADICIONADO ARCHIVO Manifest.yaml 2023-04-09 00:17:10.120143\n",
      "a5b42ac ADICIONADO ARCHIVO Dockerfile 2023-04-09 00:17:10.120143\n",
      "cac28b3 ADICIONADO ARCHIVO info.txt 2023-04-09 00:17:10.120143\n",
      "c0925c2 adicionado usuario\n",
      "d481740 adicionado requirements.txt\n",
      "fd01bde adicionado readme\n",
      "6bfbfd4 adicionado license\n",
      "e56280c adicionado .gitignore\n",
      "##############################################################################################################\n",
      "\n"
     ]
    }
   ],
   "source": [
    "comando = 'git log --oneline --no-merges origin/{nombre_rama}'.format(nombre_rama=nombre_rama)\n",
    "ejecutar_comando_git(comando)"
   ]
  },
  {
   "cell_type": "markdown",
   "id": "17309b57-9e0f-4b16-81db-abfe3f07d762",
   "metadata": {},
   "source": [
    "### VER HISTORIAL RESUMIDO DE UNA RAMA"
   ]
  },
  {
   "cell_type": "code",
   "execution_count": 32,
   "id": "28b90f01-56d6-4474-822e-5f38e384198c",
   "metadata": {
    "tags": []
   },
   "outputs": [
    {
     "name": "stdout",
     "output_type": "stream",
     "text": [
      "############################################# COMANDO A EJECUTAR #############################################\n",
      "git log --oneline\n",
      "####################################### RESULTADO DE COMANDO EJECUTADO #######################################\n",
      "d95748a PRUEBA de COMMIT numero 8 con fecha 1681017451.163797 y valor aleatorio 9653753 y contiene el archivo link.vs\n",
      "1524c0a PRUEBA de COMMIT numero 7 con fecha 1681017449.320399 y valor aleatorio 8306222 y contiene el archivo link.vs\n",
      "a78f02c PRUEBA de COMMIT numero 6 con fecha 1681017447.525399 y valor aleatorio 8223134 y contiene el archivo query.sql\n",
      "f697f93 PRUEBA de COMMIT numero 5 con fecha 1681017445.657032 y valor aleatorio 3407452 y contiene el archivo utils.gif\n",
      "a2844b3 PRUEBA de COMMIT numero 4 con fecha 1681017443.846545 y valor aleatorio 1662990 y contiene el archivo calculos.c\n",
      "7a7417f PRUEBA de COMMIT numero 3 con fecha 1681017441.996946 y valor aleatorio 9124240 y contiene el archivo imagen.png\n",
      "f197cc1 PRUEBA de COMMIT numero 2 con fecha 1681017440.239701 y valor aleatorio 2114990 y contiene el archivo Manifest.yaml\n",
      "68bec6c PRUEBA de COMMIT numero 1 con fecha 1681017438.272205 y valor aleatorio 7816815 y contiene el archivo calculos.c\n",
      "f9a93e6 ADICIONADO ARCHIVO link.vs 2023-04-09 00:17:10.120143\n",
      "66cefd9 ADICIONADO ARCHIVO dataset.avro 2023-04-09 00:17:10.120143\n",
      "8b026a4 ADICIONADO ARCHIVO query.sql 2023-04-09 00:17:10.120143\n",
      "710983f ADICIONADO ARCHIVO utils.gif 2023-04-09 00:17:10.120143\n",
      "0289d91 ADICIONADO ARCHIVO addon.php 2023-04-09 00:17:10.120143\n",
      "799d540 ADICIONADO ARCHIVO calculos.c 2023-04-09 00:17:10.120143\n",
      "c06e6c3 ADICIONADO ARCHIVO connection.java 2023-04-09 00:17:10.120143\n",
      "d814645 ADICIONADO ARCHIVO main.py 2023-04-09 00:17:10.120143\n",
      "b2d8ee3 ADICIONADO ARCHIVO imagen.png 2023-04-09 00:17:10.120143\n",
      "cf440b4 ADICIONADO ARCHIVO Manifest.yaml 2023-04-09 00:17:10.120143\n",
      "a5b42ac ADICIONADO ARCHIVO Dockerfile 2023-04-09 00:17:10.120143\n",
      "cac28b3 ADICIONADO ARCHIVO info.txt 2023-04-09 00:17:10.120143\n",
      "c0925c2 adicionado usuario\n",
      "d481740 adicionado requirements.txt\n",
      "fd01bde adicionado readme\n",
      "6bfbfd4 adicionado license\n",
      "e56280c adicionado .gitignore\n",
      "##############################################################################################################\n",
      "\n",
      "############################################# COMANDO A EJECUTAR #############################################\n",
      "git branch\n",
      "####################################### RESULTADO DE COMANDO EJECUTADO #######################################\n",
      "* commit_branch\n",
      "  main\n",
      "##############################################################################################################\n",
      "\n"
     ]
    }
   ],
   "source": [
    "comando = 'git log --oneline'\n",
    "ejecutar_comando_git(comando)\n",
    "ejecutar_comando_shell()"
   ]
  },
  {
   "cell_type": "markdown",
   "id": "a57c7d34-4621-4be8-8f00-39ddb3be0f80",
   "metadata": {},
   "source": [
    "### VER HISTORIAL RESUMIDO DE UNA RAMA DE n COMMITS"
   ]
  },
  {
   "cell_type": "code",
   "execution_count": 33,
   "id": "bf2b7b79-80c3-48ac-95fa-0d0afa8e8439",
   "metadata": {
    "tags": []
   },
   "outputs": [
    {
     "name": "stdout",
     "output_type": "stream",
     "text": [
      "############################################# COMANDO A EJECUTAR #############################################\n",
      "git log --oneline -3\n",
      "####################################### RESULTADO DE COMANDO EJECUTADO #######################################\n",
      "d95748a PRUEBA de COMMIT numero 8 con fecha 1681017451.163797 y valor aleatorio 9653753 y contiene el archivo link.vs\n",
      "1524c0a PRUEBA de COMMIT numero 7 con fecha 1681017449.320399 y valor aleatorio 8306222 y contiene el archivo link.vs\n",
      "a78f02c PRUEBA de COMMIT numero 6 con fecha 1681017447.525399 y valor aleatorio 8223134 y contiene el archivo query.sql\n",
      "##############################################################################################################\n",
      "\n",
      "############################################# COMANDO A EJECUTAR #############################################\n",
      "git branch\n",
      "####################################### RESULTADO DE COMANDO EJECUTADO #######################################\n",
      "* commit_branch\n",
      "  main\n",
      "##############################################################################################################\n",
      "\n"
     ]
    }
   ],
   "source": [
    "comando = 'git log --oneline -3'\n",
    "ejecutar_comando_git(comando)\n",
    "ejecutar_comando_shell()"
   ]
  },
  {
   "cell_type": "markdown",
   "id": "20ab2987-4dc0-4b32-b64e-d9ad8765899b",
   "metadata": {},
   "source": [
    "## VER HISTORIAL RESUMIDO DE UNA RAMA SIN ESTAR EN LA RAMA"
   ]
  },
  {
   "cell_type": "code",
   "execution_count": 34,
   "id": "36a25ca6-500b-4f32-8596-be5124db2755",
   "metadata": {
    "tags": []
   },
   "outputs": [
    {
     "name": "stdout",
     "output_type": "stream",
     "text": [
      "############################################# COMANDO A EJECUTAR #############################################\n",
      "git log --oneline main\n",
      "####################################### RESULTADO DE COMANDO EJECUTADO #######################################\n",
      "c0925c2 adicionado usuario\n",
      "d481740 adicionado requirements.txt\n",
      "fd01bde adicionado readme\n",
      "6bfbfd4 adicionado license\n",
      "e56280c adicionado .gitignore\n",
      "##############################################################################################################\n",
      "\n",
      "############################################# COMANDO A EJECUTAR #############################################\n",
      "git branch\n",
      "####################################### RESULTADO DE COMANDO EJECUTADO #######################################\n",
      "* commit_branch\n",
      "  main\n",
      "##############################################################################################################\n",
      "\n"
     ]
    }
   ],
   "source": [
    "comando = 'git log --oneline {nombre_rama_principal}'.format(nombre_rama_principal = nombre_rama_principal)\n",
    "ejecutar_comando_git(comando)\n",
    "ejecutar_comando_shell()"
   ]
  },
  {
   "cell_type": "markdown",
   "id": "a49ba8d3-b16c-4c21-aa5f-cabf2a11262c",
   "metadata": {},
   "source": [
    "### VER HISTORIAL DE n COMMITS Y MOSTRAR LOS CAMBIOS ESPECIFICOS DE ESOS COMMITS"
   ]
  },
  {
   "cell_type": "code",
   "execution_count": null,
   "id": "c11ada4a-b616-4342-9f70-6404941eb817",
   "metadata": {
    "scrolled": true,
    "tags": []
   },
   "outputs": [],
   "source": [
    "comando = 'git log -2 -p'\n",
    "ejecutar_comando_git(comando)\n",
    "ejecutar_comando_shell()"
   ]
  },
  {
   "cell_type": "markdown",
   "id": "1edb9254-ecc7-4e14-9c3d-1c5bb60ee8a9",
   "metadata": {},
   "source": [
    "### VER HISTORIAL DE n COMMITS Y MOSTRAR LOS CAMBIOS ESPECIFICOS DE ESOS COMMITS USANDO **SHOW**"
   ]
  },
  {
   "cell_type": "code",
   "execution_count": null,
   "id": "73169185-d4db-4a90-b5e6-224fc9ac88fc",
   "metadata": {
    "scrolled": true,
    "tags": []
   },
   "outputs": [],
   "source": [
    "comando = 'git show -2'\n",
    "ejecutar_comando_git(comando)\n",
    "ejecutar_comando_shell()"
   ]
  },
  {
   "cell_type": "markdown",
   "id": "605cf39d-a145-47e8-aa09-50910b1c92c8",
   "metadata": {},
   "source": [
    "### MOSTRAR LOS METADATOS Y LOS CAMBIOS DE UN COMMIT ESPECIFICO"
   ]
  },
  {
   "cell_type": "code",
   "execution_count": null,
   "id": "27b3b01b-b640-457a-b142-dfd9df2a488a",
   "metadata": {
    "scrolled": true,
    "tags": []
   },
   "outputs": [],
   "source": [
    "# solo en este paso, al hacer el primer commit se crea la rama\n",
    "comando = 'git show fd01bde637f8bacb4d2a99f6ace425480be3599a'\n",
    "ejecutar_comando_git(comando)\n",
    "        \n",
    "comando = 'git status'\n",
    "ejecutar_comando_git(comando)"
   ]
  },
  {
   "cell_type": "markdown",
   "id": "6aefdda1-9272-423c-91db-7fa36d0fa9a1",
   "metadata": {},
   "source": [
    "### VER HISTORIAL RESUMIDO DE n COMMITS Y MOSTRAR LOS CAMBIOS ESPECIFICOS DE ESOS COMMITS"
   ]
  },
  {
   "cell_type": "code",
   "execution_count": null,
   "id": "cb0f0b2b-53cd-469e-8a42-581d08748748",
   "metadata": {
    "scrolled": true,
    "tags": []
   },
   "outputs": [],
   "source": [
    "comando = 'git log --oneline -2 -p'\n",
    "ejecutar_comando_git(comando)\n",
    "ejecutar_comando_shell()"
   ]
  },
  {
   "cell_type": "markdown",
   "id": "df29e830-8479-4e2c-8644-3fef5af5b17e",
   "metadata": {},
   "source": [
    "### VER HISTORIAL DE n COMMITS ANTES DE UNA FECHA ESPECIFICA"
   ]
  },
  {
   "cell_type": "code",
   "execution_count": null,
   "id": "2b07cfd9-5ea6-4002-b5cc-b246e3b9d4e3",
   "metadata": {
    "tags": []
   },
   "outputs": [],
   "source": [
    "comando = 'git log --oneline --before={2023-03-28}'\n",
    "ejecutar_comando_git(comando)\n",
    "ejecutar_comando_shell()"
   ]
  },
  {
   "cell_type": "markdown",
   "id": "e74d219e-f350-44a4-b6ad-a2feadadb3dd",
   "metadata": {},
   "source": [
    "### VER HISTORIAL DE n COMMITS DESPUES DE UNA FECHA ESPECIFICA"
   ]
  },
  {
   "cell_type": "code",
   "execution_count": null,
   "id": "7dd64c76-20c0-41da-b503-92cb0308c4aa",
   "metadata": {
    "scrolled": true,
    "tags": []
   },
   "outputs": [],
   "source": [
    "comando = 'git log --oneline --after={2023-03-27}'\n",
    "ejecutar_comando_git(comando)\n",
    "ejecutar_comando_shell()"
   ]
  },
  {
   "cell_type": "markdown",
   "id": "217687fd-57f7-45f5-920b-acd6cebd4c50",
   "metadata": {
    "tags": []
   },
   "source": [
    "### VER HISTORIAL DE QUIEN HA MANIPULADO UN ARCHIVO ESPECIFICO"
   ]
  },
  {
   "cell_type": "code",
   "execution_count": null,
   "id": "1e2b697f-01c1-43e5-953d-32892dc88372",
   "metadata": {
    "tags": []
   },
   "outputs": [],
   "source": [
    "comando = 'git blame requirements.txt'\n",
    "ejecutar_comando_git(comando)\n",
    "ejecutar_comando_shell()"
   ]
  },
  {
   "cell_type": "markdown",
   "id": "a3cec8be-f59d-4ebe-a599-cbd901f81cd0",
   "metadata": {},
   "source": [
    "### VER HISTORIAL DE n COMMITS EN UN DIAGRAMA DE GRAFO"
   ]
  },
  {
   "cell_type": "code",
   "execution_count": null,
   "id": "66aee900-f963-44c4-8c05-635119dabdee",
   "metadata": {
    "tags": []
   },
   "outputs": [],
   "source": [
    "comando = 'git log --graph --oneline'\n",
    "ejecutar_comando_git(comando)\n",
    "ejecutar_comando_shell()"
   ]
  },
  {
   "cell_type": "markdown",
   "id": "65b9e1b4-e891-4278-a47b-da05baba44e1",
   "metadata": {},
   "source": [
    "### VER HISTORIAL DE n COMMITS EN UN DIAGRAMA DE GRAFO MAS DETALLADO"
   ]
  },
  {
   "cell_type": "code",
   "execution_count": null,
   "id": "3a683d18-d8b4-426b-b9fd-e9a2b7bc664f",
   "metadata": {
    "scrolled": true,
    "tags": []
   },
   "outputs": [],
   "source": [
    "comando = 'git log --decorate --graph --oneline --all'\n",
    "ejecutar_comando_git(comando)\n",
    "ejecutar_comando_shell()"
   ]
  },
  {
   "cell_type": "markdown",
   "id": "155df078-6872-42e3-a436-7632917d7b52",
   "metadata": {},
   "source": [
    "# <center> BUSCAR FRASE DENTRO DE TODOS LOS ARCHIVOS DE LA RAMA DEL REPOSITORIO</center>"
   ]
  },
  {
   "cell_type": "markdown",
   "id": "cb879e56-a3a4-437d-a1b8-cb24418bf231",
   "metadata": {},
   "source": [
    "### BUSQUEDA SENSIBLE AL CASO"
   ]
  },
  {
   "cell_type": "code",
   "execution_count": null,
   "id": "a7a6d86c-253d-4d47-b461-199354650c22",
   "metadata": {
    "scrolled": true,
    "tags": []
   },
   "outputs": [],
   "source": [
    "frase_a_buscar = '7'\n",
    "\n",
    "# la busqueda es sensible al caso\n",
    "comando = 'git grep {frase_a_buscar}'.format(frase_a_buscar=frase_a_buscar)\n",
    "ejecutar_comando_git(comando)\n",
    "\n",
    "ejecutar_comando_shell()"
   ]
  },
  {
   "cell_type": "markdown",
   "id": "3c4a0b49-2893-4710-aae6-56a9022bdc9c",
   "metadata": {},
   "source": [
    "### BUSQUEDA NO SENSIBLE AL CASO"
   ]
  },
  {
   "cell_type": "code",
   "execution_count": null,
   "id": "37475ec6-cf8a-4b59-b421-ab8e7169512f",
   "metadata": {
    "tags": []
   },
   "outputs": [],
   "source": [
    "# busca mayusculas y minusculas\n",
    "comando = 'git grep -i {frase_a_buscar}'.format(frase_a_buscar=frase_a_buscar)\n",
    "ejecutar_comando_git(comando)"
   ]
  },
  {
   "cell_type": "markdown",
   "id": "5e0f445f-4580-492f-8e43-85b3b0a6cba2",
   "metadata": {},
   "source": [
    "### BUSQUEDA POR PALABRA ESPECIFICA"
   ]
  },
  {
   "cell_type": "code",
   "execution_count": null,
   "id": "ad9055a7-c026-4f33-9694-01767117ee3c",
   "metadata": {
    "tags": []
   },
   "outputs": [],
   "source": [
    "# busca la palabra sola sin mezcla, que no sea prefijo o sufijo, los simbolos no bloquean la busqueda\n",
    "comando = 'git grep -iw {frase_a_buscar}'.format(frase_a_buscar=frase_a_buscar)\n",
    "ejecutar_comando_git(comando)"
   ]
  },
  {
   "cell_type": "markdown",
   "id": "07003e4c-9c59-4638-8e9c-9e7ba0da0afc",
   "metadata": {},
   "source": [
    "### BUSQUEDA CON INTERVALO DE LINEAS POR ENCIMA Y POR DEBAJO DEL TEXTO A BUSCAR"
   ]
  },
  {
   "cell_type": "code",
   "execution_count": null,
   "id": "b0f80eb5-310a-45df-b20e-5ac839981d6b",
   "metadata": {
    "scrolled": true,
    "tags": []
   },
   "outputs": [],
   "source": [
    "# divide el texto y muestra con C cuantas lineas detexto por debajo y por encima existe al filtrar la palabra deseada\n",
    "comando = 'git grep -i -C 2 {frase_a_buscar}'.format(frase_a_buscar=frase_a_buscar)\n",
    "ejecutar_comando_git(comando)"
   ]
  },
  {
   "cell_type": "markdown",
   "id": "da376f7d-0d00-4978-8e48-eb8aeb78a212",
   "metadata": {},
   "source": [
    "### MOSTRAR EL ARCHIVO Y EL NUMERO DE LA LINEA DONDE ESTA EL TEXTO BUSCADO"
   ]
  },
  {
   "cell_type": "code",
   "execution_count": null,
   "id": "a9936806-0069-421b-a638-a55497c4df8d",
   "metadata": {
    "tags": []
   },
   "outputs": [],
   "source": [
    "comando = 'git grep -i -n {frase_a_buscar}'.format(frase_a_buscar=frase_a_buscar)\n",
    "ejecutar_comando_git(comando)"
   ]
  },
  {
   "cell_type": "markdown",
   "id": "8c5128e0-82c4-4ca6-9626-f729a5e68231",
   "metadata": {
    "tags": []
   },
   "source": [
    "## ELIMINAR LA RAMA EN EL REPOSITORIO DE ORIGEN O REMOTO"
   ]
  },
  {
   "cell_type": "code",
   "execution_count": null,
   "id": "799fc2a0-37c7-4fa6-b315-d1e0533c682a",
   "metadata": {
    "scrolled": true,
    "tags": []
   },
   "outputs": [],
   "source": [
    "eliminar_rama_local_y_remota(nombre_rama=nombre_rama)"
   ]
  },
  {
   "cell_type": "markdown",
   "id": "c35db3d6-6403-4e68-966b-af50f54f40cf",
   "metadata": {},
   "source": [
    "# <center> MODIFICAR EL MENSAJE DEL ULTIMO COMMIT</center>"
   ]
  },
  {
   "cell_type": "code",
   "execution_count": null,
   "id": "bcea54f7-358f-4e5c-afa0-e5ee5c237900",
   "metadata": {
    "scrolled": true,
    "tags": []
   },
   "outputs": [],
   "source": [
    "nombre_rama = 'amend_branch'\n",
    "crear_rama_local_y_remota(nombre_rama=nombre_rama, todos_los_archivos=False)"
   ]
  },
  {
   "cell_type": "markdown",
   "id": "04a2bd03-dc9d-4573-b7a0-0e7185687dc5",
   "metadata": {},
   "source": [
    "# EN LA CONSOLA DE VSCODE\n",
    "# git commit --amend\n",
    "\n",
    "## SE ABRE AUTOMATICAMENTE EL EDITOR DE TEXTO, reemplazar el emnsaje del commit anterior por el que se quiere y cerrar el archivo\n",
    "## validar en local con git log, no afecta la hora del commit original con la fecha del mensaje actualizado\n",
    "## subir los cambios al repositorio¶\n",
    "# git push --force origin amend_branch"
   ]
  },
  {
   "cell_type": "code",
   "execution_count": null,
   "id": "62fd5b2d-c35e-452c-8929-fbbd9314f90f",
   "metadata": {
    "scrolled": true,
    "tags": []
   },
   "outputs": [],
   "source": [
    "comando = 'git log --oneline'\n",
    "ejecutar_comando_git(comando)"
   ]
  },
  {
   "cell_type": "markdown",
   "id": "85f441a3-5119-4832-93eb-44604777da3e",
   "metadata": {
    "tags": []
   },
   "source": [
    "#### ELIMINAR LA RAMA EN EL REPOSITORIO REMOTO Y LOCAL"
   ]
  },
  {
   "cell_type": "code",
   "execution_count": null,
   "id": "743a5af2-8952-4143-961a-b7bf4b9e31a2",
   "metadata": {
    "scrolled": true,
    "tags": []
   },
   "outputs": [],
   "source": [
    "eliminar_rama_local_y_remota(nombre_rama=nombre_rama)"
   ]
  },
  {
   "cell_type": "markdown",
   "id": "3f4b9314-b71f-4f83-b10f-2a2e8b201580",
   "metadata": {},
   "source": [
    "# <center> REGRESAR A UNA VERSION ANTERIOR DE UN REPOSITORIO GIT</center>"
   ]
  },
  {
   "cell_type": "markdown",
   "id": "259eea42-f14d-446b-b01d-ad0aeffcb3d7",
   "metadata": {},
   "source": [
    "### DETACHED - MOVERSE A UN COMMIT ESPECIFICO Y PONER ESTE COMMIT CON LA NUEVA HEAD"
   ]
  },
  {
   "cell_type": "code",
   "execution_count": null,
   "id": "554290ba-8a54-44ad-9314-825f031a9396",
   "metadata": {
    "scrolled": true,
    "tags": []
   },
   "outputs": [],
   "source": [
    "comando = 'git checkout {nombre_rama_principal}'.format(nombre_rama_principal=nombre_rama_principal)\n",
    "ejecutar_comando_git(comando)\n",
    "\n",
    "comando = 'git checkout 6bfbfd4a81082e9312caf0a94ba88d975f9db1e9'\n",
    "ejecutar_comando_git(comando)\n",
    "\n",
    "comando = 'git log --oneline'\n",
    "ejecutar_comando_git(comando)\n",
    "\n",
    "ejecutar_comando_shell()"
   ]
  },
  {
   "cell_type": "markdown",
   "id": "d5838e4b-70fd-4f79-aa4a-4317fb7379ce",
   "metadata": {},
   "source": [
    "### RETORNA AL HEAD ORIGINAL DE LA RAMA"
   ]
  },
  {
   "cell_type": "code",
   "execution_count": null,
   "id": "697ab643-0f90-4ff3-94e6-f1abc58cd7de",
   "metadata": {
    "scrolled": true,
    "tags": []
   },
   "outputs": [],
   "source": [
    "comando = 'git switch -'\n",
    "ejecutar_comando_git(comando)\n",
    "\n",
    "comando = 'git log --oneline'\n",
    "ejecutar_comando_git(comando)\n",
    "\n",
    "ejecutar_comando_shell()"
   ]
  },
  {
   "cell_type": "markdown",
   "id": "ba29758c-fa6f-49cc-8fd6-c07523b4f339",
   "metadata": {},
   "source": [
    "# <center> RESET COMMITs DE UN REPOSITORIO <br> ELIMINA LOS COMMITS Y AHORA EL NUEVO HEAD ES EL COMMIT A DONDE SE QUIERE IR</br></center>"
   ]
  },
  {
   "cell_type": "code",
   "execution_count": null,
   "id": "fb700ec4-bd71-4094-b7e6-6161977c15ac",
   "metadata": {
    "scrolled": true,
    "tags": []
   },
   "outputs": [],
   "source": [
    "nombre_rama = 'reset_branch'\n",
    "crear_rama_local_y_remota(nombre_rama=nombre_rama, todos_los_archivos=True)"
   ]
  },
  {
   "cell_type": "markdown",
   "id": "0baa7ec9-a901-4715-a606-c6aff785f194",
   "metadata": {},
   "source": [
    "### SOFT RESET n COMMITs **HEAD~n** MANTENIENDO LOS CAMBIOS QUE SE HABIAN HECHO EN LOS ARCHIVOS LOCALES\n",
    "<center>\n",
    "    <img width=\"75%\" align=\"center\" src=\"reset_soft.gif\">\n",
    "</center>\n",
    "<br>\n",
    "<center>\n",
    "    <img width=\"75%\" align=\"center\" src=\"reflog_reset.gif\">\n",
    "</center>"
   ]
  },
  {
   "cell_type": "code",
   "execution_count": null,
   "id": "2b158698-7edd-42db-b76c-197f546c16fd",
   "metadata": {
    "scrolled": true,
    "tags": []
   },
   "outputs": [],
   "source": [
    "# MANITIENE todos los archivos o cambios hechos despues de este commit Y PUEDEN SER GUARDADOS DE NUEVO\n",
    "comando = 'git reset --soft HEAD~3'\n",
    "ejecutar_comando_git(comando)\n",
    "\n",
    "comando = 'git log --oneline'\n",
    "ejecutar_comando_git(comando)"
   ]
  },
  {
   "cell_type": "markdown",
   "id": "f165436b-e609-45ad-9715-339e1d78935a",
   "metadata": {},
   "source": [
    "### HARD RESET n COMMITs **HEAD~n** ELIMINANDO LOS ARCHIVOS Y CAMBIOS QUE SE HABIAN HECHO HASTA ESTE COMMIT\n",
    "<center>\n",
    "    <img width=\"75%\" align=\"center\" src=\"reset_hard.gif\">\n",
    "</center>"
   ]
  },
  {
   "cell_type": "markdown",
   "id": "2e81cfbe-636a-422d-8c20-ddde10caec8d",
   "metadata": {},
   "source": [
    "### RESET COMMITs HASTA n COMMITS ANTERIORES"
   ]
  },
  {
   "cell_type": "code",
   "execution_count": null,
   "id": "5aae132c-6054-46e4-900c-db9a494dffd5",
   "metadata": {
    "scrolled": true,
    "tags": []
   },
   "outputs": [],
   "source": [
    "# elimina todos los archivos o cambios hechos despues de este commit YA NO SE PUEDEN RECUPERAR ESOS ARCHIVOS\n",
    "comando = 'git reset --hard HEAD~7'\n",
    "ejecutar_comando_git(comando)\n",
    "\n",
    "comando = 'git log --oneline'\n",
    "ejecutar_comando_git(comando)"
   ]
  },
  {
   "cell_type": "markdown",
   "id": "e1fae349-008e-429c-bc31-0812d917bc1d",
   "metadata": {},
   "source": [
    "### RESET COMMITs ELIMINANDO LOS ARCHIVOS Y CAMBIOS HASTA UN COMMIT ESPECIFICO USANDO EL ID DEL COMMIT"
   ]
  },
  {
   "cell_type": "code",
   "execution_count": null,
   "id": "840915cb-d988-4531-b718-c9db65e2c18e",
   "metadata": {
    "tags": []
   },
   "outputs": [],
   "source": [
    "comando = 'git reset --hard ae943f2' # configuraion general y de ambiente\n",
    "ejecutar_comando_git(comando)\n",
    "\n",
    "\n",
    "comando = 'git log --oneline'\n",
    "ejecutar_comando_git(comando)"
   ]
  },
  {
   "cell_type": "markdown",
   "id": "b3dd8cdf-657f-49c9-887b-6d0ddb2f06db",
   "metadata": {},
   "source": [
    "## RESET HASTA UN COMMIT ESPECIFICO EN UN REPOSITORIO REMOTO <br>https://github.com/JorgeCardona/comandos_git</br>"
   ]
  },
  {
   "cell_type": "code",
   "execution_count": null,
   "id": "58e70ab3-644f-4a9c-8a4d-24094690d843",
   "metadata": {
    "tags": []
   },
   "outputs": [],
   "source": [
    "comando = 'git reset --hard 474faa1' # adicionado archivo pdf\n",
    "ejecutar_comando_git(comando)"
   ]
  },
  {
   "cell_type": "markdown",
   "id": "ecfff94e-20ee-46bb-8a1d-97bd8e5f76ad",
   "metadata": {},
   "source": [
    "#### CONFIRMAR LOS CAMBIOS DEL RESET EN EL REPOSITORIO DE ORIGEN O REMOTO"
   ]
  },
  {
   "cell_type": "code",
   "execution_count": null,
   "id": "85a7f262-e036-4ea1-ba5b-7daf6de7c221",
   "metadata": {
    "scrolled": true,
    "tags": []
   },
   "outputs": [],
   "source": [
    "# confirmar los cambios al repositorio remoto el reset\n",
    "comando = 'git push --force origin {nombre_rama}'.format(nombre_rama=nombre_rama)\n",
    "ejecutar_comando_git(comando)"
   ]
  },
  {
   "cell_type": "markdown",
   "id": "6f134986-cf69-4c0c-adce-8d6f6de1a275",
   "metadata": {
    "tags": []
   },
   "source": [
    "#### ELIMINAR LA RAMA EN EL REPOSITORIO DE ORIGEN O REMOTO"
   ]
  },
  {
   "cell_type": "code",
   "execution_count": null,
   "id": "6bc84035-b76b-40d1-b6f4-87175b5c0fee",
   "metadata": {
    "scrolled": true,
    "tags": []
   },
   "outputs": [],
   "source": [
    "eliminar_rama_local_y_remota(nombre_rama=nombre_rama)"
   ]
  },
  {
   "cell_type": "markdown",
   "id": "da360e27-ccbd-473b-b6b0-3904eaf90ceb",
   "metadata": {},
   "source": [
    "# <center> REVERTIR COMMITs DE UN REPOSITORIO <br> CREA UN NUEVO COMMIT MANTENIENDO LOS COMMITS ANTERIORES</br></center>\n",
    "<center>\n",
    "    <img width=\"75%\" align=\"center\" src=\"revert.gif\">\n",
    "</center>"
   ]
  },
  {
   "cell_type": "code",
   "execution_count": null,
   "id": "9f51021e-0467-45cb-848b-d6349adc47ae",
   "metadata": {
    "scrolled": true,
    "tags": []
   },
   "outputs": [],
   "source": [
    "nombre_rama = 'revert_branch'\n",
    "crear_rama_local_y_remota(nombre_rama=nombre_rama, todos_los_archivos=True)"
   ]
  },
  {
   "cell_type": "markdown",
   "id": "14dcee2e-b81b-46b1-be2d-11141fddccb3",
   "metadata": {},
   "source": [
    "## REVERT HASTA UN COMMIT ESPECIFICO O UN HEAD~ EN UN REPOSITORIO REMOTO <br>https://github.com/JorgeCardona/comandos_git</br>"
   ]
  },
  {
   "cell_type": "code",
   "execution_count": null,
   "id": "023475c8-814d-4f36-b64c-a64beca95906",
   "metadata": {
    "scrolled": true,
    "tags": []
   },
   "outputs": [],
   "source": [
    "# elimina todos los archivos o cambios hechos despues de este commit YA NO SE PUEDEN RECUPERAR ESOS ARCHIVOS\n",
    "comando = 'git revert HEAD~24'\n",
    "ejecutar_comando_git(comando)\n",
    "\n",
    "comando = 'git log --oneline'\n",
    "ejecutar_comando_git(comando)"
   ]
  },
  {
   "cell_type": "markdown",
   "id": "baf2e62d-6d6c-4db1-9e55-ed83ca32cc74",
   "metadata": {},
   "source": [
    "#### CONFIRMAR LOS CAMBIOS DEL REVERT EN EL REPOSITORIO REMOTO"
   ]
  },
  {
   "cell_type": "code",
   "execution_count": null,
   "id": "3d734989-5626-45c6-9628-b07f688f8a28",
   "metadata": {
    "tags": []
   },
   "outputs": [],
   "source": [
    "# confirmar al repositorio remoto el reset\n",
    "comando = 'git push --force origin {nombre_rama}'.format(nombre_rama=nombre_rama)\n",
    "ejecutar_comando_git(comando)"
   ]
  },
  {
   "cell_type": "markdown",
   "id": "9deccc0f-c689-4cd8-8b90-3b5d23be0495",
   "metadata": {
    "tags": []
   },
   "source": [
    "#### ELIMINAR LA RAMA EN EL REPOSITORIO DE ORIGEN O REMOTO"
   ]
  },
  {
   "cell_type": "code",
   "execution_count": null,
   "id": "28d44037-179f-4cd0-9db2-74378ba43261",
   "metadata": {
    "scrolled": true,
    "tags": []
   },
   "outputs": [],
   "source": [
    "eliminar_rama_local_y_remota(nombre_rama=nombre_rama)"
   ]
  },
  {
   "cell_type": "markdown",
   "id": "9b027290-7227-420b-83d9-df5d70ec5f30",
   "metadata": {
    "tags": []
   },
   "source": [
    "# <center> REBASE *JUNTAR VARIOS COMMITS EN UNO SOLO, CAMBIAR EL ORDEN DE LOS COMMITS <br>REESCRIBIENDO EL HISTORIAL Y LOS MENSAJES DE MULTIPLES* COMMITs DE UN REPOSITORIO</br> <br>https://github.com/JorgeCardona/comandos_git</br></center>\n",
    "<center>\n",
    "    <img width=\"75%\" align=\"center\" src=\"rebase.gif\">\n",
    "</center>"
   ]
  },
  {
   "cell_type": "code",
   "execution_count": null,
   "id": "cc27876f-4967-4f76-b861-405e533c651a",
   "metadata": {
    "scrolled": true,
    "tags": []
   },
   "outputs": [],
   "source": [
    "nombre_rama = 'rebase_branch'\n",
    "crear_rama_local_y_remota(nombre_rama=nombre_rama, todos_los_archivos=True)"
   ]
  },
  {
   "cell_type": "code",
   "execution_count": null,
   "id": "09ffeed2-1619-4471-8168-b2d931e01fd3",
   "metadata": {
    "scrolled": true,
    "tags": []
   },
   "outputs": [],
   "source": [
    "comando = 'git log'\n",
    "ejecutar_comando_git(comando)"
   ]
  },
  {
   "cell_type": "markdown",
   "id": "9f41a9a0-fc04-47f4-80ff-8e615a806360",
   "metadata": {},
   "source": [
    "# EN LA CONSOLA, TERMINAL O UN IDE DE DESARROLLO <br>https://github.com/JorgeCardona/comandos_git</br>\n",
    "\n",
    "<center>\n",
    "    <img width=\"75%\" align=\"center\" src=\"rebase_interactivo.gif\">\n",
    "</center>\n",
    "<br>\n",
    "<center>\n",
    "    <img width=\"75%\" align=\"center\" src=\"rebase_tipos.png\">\n",
    "</center>\n",
    "<br>\n",
    "<center>\n",
    "    <img width=\"75%\" align=\"center\" src=\"rebase_squash.gif\">\n",
    "</center>"
   ]
  },
  {
   "cell_type": "markdown",
   "id": "89cbab06-c933-44a8-bceb-c3a80735123e",
   "metadata": {},
   "source": [
    "### n COMMITS ATRAS\n",
    "# git rebase -i HEAD~9\n",
    "\n",
    "### UN COMMIT ESPECIFICO\n",
    "# git rebase -i d15fad27cb8d1bcb6a0e697ef02e2d787dc51b48\n",
    "\n",
    "\n",
    "##### SE ABRE AUTOMATICAMENTE EL EDITOR DE TEXTO, reemplazar la palabra **pick** por **squash** GUARDAR y CERRAR\n",
    "### DEJAR EL PRIMERO COMO PICK YA QUE SINO, NO EXISTEN COMMITS PARA HACER, GENERA ERROR.\n",
    "##### SE ABRE AUTOMATICAMENTE EL EDITOR DE TEXTO, reemplazar los comentarios por el comentario que se quiere\n",
    "## subir los cambios al repositorio\n",
    "# git push --force origin rebase_branch"
   ]
  },
  {
   "cell_type": "markdown",
   "id": "d6d6ce5d-6292-4989-a382-8b4c4223b1d8",
   "metadata": {
    "tags": []
   },
   "source": [
    "#### ELIMINAR LA RAMA DEL REPOSITORIO LOCAL Y REMOTO"
   ]
  },
  {
   "cell_type": "code",
   "execution_count": null,
   "id": "dea080a3-5eaf-4c8f-abeb-3ff0ae69f750",
   "metadata": {
    "scrolled": true,
    "tags": []
   },
   "outputs": [],
   "source": [
    "eliminar_rama_local_y_remota(nombre_rama=nombre_rama)"
   ]
  },
  {
   "cell_type": "markdown",
   "id": "98749f3f-04c9-4f07-bede-6fe4d3c04982",
   "metadata": {},
   "source": [
    "# <center> MERGE RAMAS DE UN REPOSITORIO <br>https://github.com/JorgeCardona/comandos_git</br></center>\n",
    "\n",
    "<center>\n",
    "    <img width=\"75%\" align=\"center\" src=\"merge.gif\">\n",
    "</center>"
   ]
  },
  {
   "cell_type": "code",
   "execution_count": null,
   "id": "b3a24f21-1be6-4aba-ae1f-8d33393e968b",
   "metadata": {
    "scrolled": true,
    "tags": []
   },
   "outputs": [],
   "source": [
    "nombre_ramas = ['branch_uno','branch_dos']\n",
    "\n",
    "for nombre_rama in nombre_ramas:\n",
    "    crear_rama_local_y_remota(nombre_rama=nombre_rama, todos_los_archivos=False)"
   ]
  },
  {
   "cell_type": "markdown",
   "id": "57b93962-ad12-4c53-ae6a-a6496c3bcc61",
   "metadata": {},
   "source": [
    "# <center> UNIR DOS RAMAS LOCALES </center>\n",
    "\n",
    "<center>\n",
    "    <img width=\"75%\" align=\"center\" src=\"merge_conflictos.gif\">\n",
    "</center>"
   ]
  },
  {
   "cell_type": "markdown",
   "id": "baf1888f-cc65-47a1-8091-4c234363db68",
   "metadata": {},
   "source": [
    "# EN LA CONSOLA, TERMINAL O UN IDE DE DESARROLLO\n",
    "# git merge branch_dos branch_uno"
   ]
  },
  {
   "cell_type": "markdown",
   "id": "a7674952-0aa9-43bd-98e6-c57aac0ac644",
   "metadata": {},
   "source": [
    "# Accept Current Change | Accept Incoming Change | Accept Both Changes | Compare Change\n",
    "# <<<<<<< HEAD\n",
    "# 1679198052.206751 (Current Change)\n",
    "# =======\n",
    "# 1679198046.401986 \n",
    "# >>>>>>> branch_uno (Incoming Change)"
   ]
  },
  {
   "cell_type": "markdown",
   "id": "bee82566-8bdd-4dca-a5cd-2ae8b49f7941",
   "metadata": {},
   "source": [
    "# <center> UNIR CAMBIOS DE LA RAMA REMOTA A LA RAMA LOCAL </center> "
   ]
  },
  {
   "cell_type": "markdown",
   "id": "850814d1-94b7-43e7-8463-eba49e776121",
   "metadata": {},
   "source": [
    "# EN LA CONSOLA DE VSCODE O UN IDE DE DESARROLLO\n",
    "<center>\n",
    "    <img width=\"75%\" align=\"center\" src=\"pull.gif\">\n",
    "</center>\n",
    "\n",
    "# git switch branch_uno\n",
    "# git pull origin branch_dos"
   ]
  },
  {
   "cell_type": "markdown",
   "id": "e7030020-fa35-4665-bc8e-6b273a16e278",
   "metadata": {},
   "source": [
    "# <center> UNIR CAMBIOS DE LA RAMA LOCAL A LA RAMA REMOTA </center> "
   ]
  },
  {
   "cell_type": "markdown",
   "id": "d16cc908-7a0a-4b54-a2f3-6e9ae91feca7",
   "metadata": {},
   "source": [
    "# EN LA CONSOLA DE VSCODE O UN IDE DE DESARROLLO\n",
    "### hacer un git commit y despues un git pull\n",
    "\n",
    "# Accept Current Change | Accept Incoming Change | Accept Both Changes | Compare Change\n",
    "# <<<<<<< HEAD\n",
    "# 1679198052.206751 (Current Change)\n",
    "# =======\n",
    "# 1679198046.401986 \n",
    "# >>>>>>> branch_uno (Incoming Change)"
   ]
  },
  {
   "cell_type": "markdown",
   "id": "b727c10e-f9c4-438a-8fdf-0734a4ee86ac",
   "metadata": {},
   "source": [
    "# <center> VER HISTORIAL DE n COMMITS EN UN DIAGRAMA DE GRAFO</center>"
   ]
  },
  {
   "cell_type": "code",
   "execution_count": null,
   "id": "faba3aec-b457-4beb-a478-d48f4faa488d",
   "metadata": {
    "tags": []
   },
   "outputs": [],
   "source": [
    "comando = 'git log --graph --oneline'\n",
    "ejecutar_comando_git(comando)\n",
    "ejecutar_comando_shell()"
   ]
  },
  {
   "cell_type": "markdown",
   "id": "471237ac-4d88-44e5-8092-594beef0610e",
   "metadata": {},
   "source": [
    "## VER HISTORIAL DE n COMMITS EN UN DIAGRAMA DE GRAFO MAS DETALLADO"
   ]
  },
  {
   "cell_type": "code",
   "execution_count": null,
   "id": "c50ea762-5f3c-48a0-9c1f-a7bd9b9ce6ac",
   "metadata": {
    "tags": []
   },
   "outputs": [],
   "source": [
    "comando = 'git log --decorate --graph --oneline --all'\n",
    "ejecutar_comando_git(comando)\n",
    "ejecutar_comando_shell()"
   ]
  },
  {
   "cell_type": "markdown",
   "id": "b005edd6-9e5b-4123-bd4b-a3fa834f3750",
   "metadata": {
    "tags": []
   },
   "source": [
    "### VER HISTORIAL DE QUIEN HA MANIPULADO UN ARCHIVO ESPECIFICO"
   ]
  },
  {
   "cell_type": "code",
   "execution_count": null,
   "id": "1dd5141a-fea7-4058-93f6-b3e048d8c724",
   "metadata": {
    "tags": []
   },
   "outputs": [],
   "source": [
    "comando = 'git blame info.txt'\n",
    "ejecutar_comando_git(comando)\n",
    "ejecutar_comando_shell()"
   ]
  },
  {
   "cell_type": "markdown",
   "id": "d40915df-19c0-491b-8153-0f02b42d1b36",
   "metadata": {
    "tags": []
   },
   "source": [
    "#### ELIMINAR LAS RAMAS EN EL REPOSITORIO DE ORIGEN O REMOTO"
   ]
  },
  {
   "cell_type": "code",
   "execution_count": null,
   "id": "9ff94caf-5123-4bac-9ed0-a603de6453e5",
   "metadata": {
    "scrolled": true,
    "tags": []
   },
   "outputs": [],
   "source": [
    "comando = 'git checkout {nombre_rama_principal}'.format(nombre_rama_principal=nombre_rama_principal)\n",
    "ejecutar_comando_git(comando)\n",
    "\n",
    "for nombre_rama in nombre_ramas:\n",
    "    \n",
    "    eliminar_rama_local_y_remota(nombre_rama=nombre_rama)"
   ]
  },
  {
   "cell_type": "markdown",
   "id": "4bec41e1-5333-4e9a-af12-2591a9f87ee8",
   "metadata": {},
   "source": [
    "# <center> CHERRY PICK, UNIR EL CONTENIDO DE UN COMMIT ESPECIFICO Y QUEDA COMO HEAD <br>https://github.com/JorgeCardona/comandos_git</br></center>\n",
    "\n",
    "<center>\n",
    "    <img width=\"75%\" align=\"center\" src=\"cherry-pick.gif\">\n",
    "</center>"
   ]
  },
  {
   "cell_type": "markdown",
   "id": "1fe189e9-ab8e-4708-bfe1-346259f662c2",
   "metadata": {},
   "source": [
    "### CREA LAS RAMAS"
   ]
  },
  {
   "cell_type": "code",
   "execution_count": null,
   "id": "9fb2ef57-7954-4bb1-b9ab-ac572aab0ef1",
   "metadata": {
    "scrolled": true,
    "tags": []
   },
   "outputs": [],
   "source": [
    "nombre_ramas = ['hotfix_branch','cherry_pick_branch']\n",
    "\n",
    "todos_los_archivos=True\n",
    "crear_rama_local_y_remota(nombre_rama=nombre_ramas[0], todos_los_archivos=todos_los_archivos)\n",
    "\n",
    "comando = 'git switch --orphan {nombre_rama}'.format(nombre_rama=nombre_ramas[1])\n",
    "ejecutar_comando_git(comando)\n",
    "\n",
    "generar_archivos(todos_los_archivos=False)\n",
    "\n",
    "comando = 'git add .'\n",
    "ejecutar_comando_git(comando)\n",
    "\n",
    "comando = 'git commit -m \"archivo info.txt para usar con el hotfix_branch\" '\n",
    "ejecutar_comando_git(comando)\n",
    "\n",
    "comando = 'git branch -a'\n",
    "ejecutar_comando_git(comando)"
   ]
  },
  {
   "cell_type": "markdown",
   "id": "755b476e-2c52-4bd0-a63a-0290e2cd9e48",
   "metadata": {},
   "source": [
    "### PUBLICAR RAMA <br>https://github.com/JorgeCardona/comandos_git</br> </center>\n"
   ]
  },
  {
   "cell_type": "code",
   "execution_count": null,
   "id": "4aba5007-6390-4517-bfdf-f71f3b09e44f",
   "metadata": {
    "scrolled": true,
    "tags": []
   },
   "outputs": [],
   "source": [
    "comando = 'git push --set-upstream origin {nombre_rama}'.format(nombre_rama=nombre_ramas[1])\n",
    "ejecutar_comando_git(comando)\n",
    "\n",
    "comando = 'git status'\n",
    "ejecutar_comando_git(comando)\n",
    "\n",
    "comando = 'git branch -a'\n",
    "ejecutar_comando_git(comando)"
   ]
  },
  {
   "cell_type": "markdown",
   "id": "c5ce3c4b-49d1-4f9b-83cb-dd1b549e24d7",
   "metadata": {},
   "source": [
    "## VER EL LOG DE LA RAMA A USAR COMO BASE PARA EL CHERRY_PICK"
   ]
  },
  {
   "cell_type": "code",
   "execution_count": null,
   "id": "130942c2-68ce-4d83-8aa0-e41ff7bb0214",
   "metadata": {
    "scrolled": true,
    "tags": []
   },
   "outputs": [],
   "source": [
    "comando = f'git log --oneline {nombre_ramas[0]}'\n",
    "ejecutar_comando_git(comando)\n",
    "\n",
    "comando = f'git log --oneline {nombre_ramas[1]}'\n",
    "ejecutar_comando_git(comando)\n",
    "ejecutar_comando_shell()"
   ]
  },
  {
   "cell_type": "markdown",
   "id": "775577c8-cf19-4db9-bad3-05a13383868b",
   "metadata": {},
   "source": [
    "## CHERRY PICK A UN COMMIT DE LA RAMA **CHERRY_PICK** PARA UNIRLA CON LA RAMA ACTUAL **HOTFIX**"
   ]
  },
  {
   "cell_type": "markdown",
   "id": "ed8b5582-a870-4297-8258-7b7750bb5a37",
   "metadata": {},
   "source": [
    "### ADICIONA UN SOLO COMMIT"
   ]
  },
  {
   "cell_type": "code",
   "execution_count": null,
   "id": "07bedf2b-ca47-488b-a2d6-98be3a618aa0",
   "metadata": {
    "scrolled": true,
    "tags": []
   },
   "outputs": [],
   "source": [
    "comando = 'git status'\n",
    "ejecutar_comando_git(comando)\n",
    "\n",
    "unir_commits = 'fd01bde' # archivo README\n",
    "comando = f'git cherry-pick {unir_commits}' \n",
    "ejecutar_comando_git(comando)\n",
    "\n",
    "comando = f'git log --oneline {nombre_ramas[1]}'\n",
    "ejecutar_comando_git(comando)\n",
    "\n",
    "comando = f'git log --oneline {nombre_ramas[0]}'\n",
    "ejecutar_comando_git(comando)"
   ]
  },
  {
   "cell_type": "markdown",
   "id": "777f7740-b88e-4552-8b3a-a11fd7d1dce3",
   "metadata": {},
   "source": [
    "### ADICIONA VARIOS COMMIT SELECCIONADOS"
   ]
  },
  {
   "cell_type": "code",
   "execution_count": null,
   "id": "d9b7dcfc-624f-43a2-815f-d3d288ee2ee6",
   "metadata": {
    "scrolled": true,
    "tags": []
   },
   "outputs": [],
   "source": [
    "comando = 'git status'\n",
    "ejecutar_comando_git(comando)\n",
    "\n",
    "unir_commits = 'd481740 6bfbfd4' # archivo requirements.txt, 6bfbfd4\n",
    "comando = f'git cherry-pick {unir_commits}' \n",
    "ejecutar_comando_git(comando)\n",
    "\n",
    "comando = f'git log --oneline {nombre_ramas[1]}'\n",
    "ejecutar_comando_git(comando)\n",
    "\n",
    "comando = f'git log --oneline {nombre_ramas[0]}'\n",
    "ejecutar_comando_git(comando)"
   ]
  },
  {
   "cell_type": "markdown",
   "id": "bf02f1e1-6bd2-483a-a64d-d05457c1c430",
   "metadata": {},
   "source": [
    "### ADICIONA UN RANGO DE COMMITS\n",
    "#### SI EXISTE ARCHIVOS CON EL MISMO NOMBRE EN EL INTERVALO DE COMMITS **CREARAN CONFLICTOS**"
   ]
  },
  {
   "cell_type": "markdown",
   "id": "6a946945-d354-4a65-94db-e845c084ce18",
   "metadata": {},
   "source": [
    "### SE EXCLUYE EL COMMIT DE INICIO"
   ]
  },
  {
   "cell_type": "code",
   "execution_count": null,
   "id": "4dd5bec4-83ff-42c5-a5c7-b2badcfeb547",
   "metadata": {
    "scrolled": true,
    "tags": []
   },
   "outputs": [],
   "source": [
    "commit_inicio = 'c4f3a74' # commit de archivo Dockerfile\n",
    "commit_final = 'a3af718' # commit de archivo imagen.png\n",
    "\n",
    "unir_commits = f'{commit_inicio}..{commit_final}' \n",
    "comando = f'git cherry-pick {unir_commits}' \n",
    "ejecutar_comando_git(comando)\n",
    "\n",
    "comando = f'git log --oneline {nombre_ramas[1]}'\n",
    "ejecutar_comando_git(comando)\n",
    "\n",
    "comando = f'git log --oneline {nombre_ramas[0]}'\n",
    "ejecutar_comando_git(comando)"
   ]
  },
  {
   "cell_type": "markdown",
   "id": "1bc581a1-e71e-4dad-ba88-55075d4a17df",
   "metadata": {},
   "source": [
    "### SE INCLUYE EL COMMIT DE INICIO ~"
   ]
  },
  {
   "cell_type": "code",
   "execution_count": null,
   "id": "ff328328-1c30-4f65-8a20-e07422a0597a",
   "metadata": {
    "scrolled": true,
    "tags": []
   },
   "outputs": [],
   "source": [
    "commit_inicio = '1e9d747' # commit de archivo main.py\n",
    "commit_final = '7a4b442' # commit de archivo query.sql\n",
    "\n",
    "unir_commits = f'{commit_inicio}~..{commit_final}'\n",
    "comando = f'git cherry-pick {unir_commits}' \n",
    "ejecutar_comando_git(comando)\n",
    "\n",
    "comando = f'git log --oneline {nombre_ramas[1]}'\n",
    "ejecutar_comando_git(comando)"
   ]
  },
  {
   "cell_type": "markdown",
   "id": "754c7c78-5b3d-47bb-9a87-236c8f8ecdf0",
   "metadata": {},
   "source": [
    "### SUBIR LOS COMMITS ADICIONADOS CON CHERRY-PICK"
   ]
  },
  {
   "cell_type": "code",
   "execution_count": null,
   "id": "af52d216-167d-4120-a017-613b8df9a61a",
   "metadata": {
    "scrolled": true,
    "tags": []
   },
   "outputs": [],
   "source": [
    "comando = 'git push origin'\n",
    "ejecutar_comando_git(comando)\n",
    "\n",
    "comando = 'git status'\n",
    "ejecutar_comando_git(comando)\n",
    "\n",
    "ejecutar_comando_shell()"
   ]
  },
  {
   "cell_type": "markdown",
   "id": "b18cdbb4-54b2-4efa-b635-45e79343f352",
   "metadata": {
    "tags": []
   },
   "source": [
    "#### ELIMINAR LA RAMA EN EL REPOSITORIO DE ORIGEN O REMOTO"
   ]
  },
  {
   "cell_type": "code",
   "execution_count": null,
   "id": "41e95932-aa90-4caf-9d5b-2fc5e1148a72",
   "metadata": {
    "scrolled": true,
    "tags": []
   },
   "outputs": [],
   "source": [
    "# si queda algo pendiente con el cherry-pick\n",
    "comando = 'git cherry-pick --quit'\n",
    "ejecutar_comando_git(comando)\n",
    "\n",
    "for nombre_rama in nombre_ramas:\n",
    "    eliminar_rama_local_y_remota(nombre_rama=nombre_rama)"
   ]
  },
  {
   "cell_type": "markdown",
   "id": "7ed89905-a846-46cf-9175-dd32aee6b39a",
   "metadata": {},
   "source": [
    "# <center> TAGs <br>https://github.com/JorgeCardona/comandos_git</br></center>"
   ]
  },
  {
   "cell_type": "code",
   "execution_count": null,
   "id": "1106d9e3-269d-4a57-9d2c-4ac9c2db5eb9",
   "metadata": {
    "scrolled": true,
    "tags": []
   },
   "outputs": [],
   "source": [
    "nombre_rama = 'tag_branch'\n",
    "\n",
    "crear_rama_local_y_remota(nombre_rama=nombre_rama, todos_los_archivos=True)"
   ]
  },
  {
   "cell_type": "markdown",
   "id": "f9101b9b-478a-4129-9df9-cd989868c4d1",
   "metadata": {},
   "source": [
    "### CREAR UN TAG"
   ]
  },
  {
   "cell_type": "code",
   "execution_count": null,
   "id": "01d3649c-ee90-4b90-bbdb-d742ad2b8742",
   "metadata": {
    "tags": []
   },
   "outputs": [],
   "source": [
    "nombre_tag = 'v0.0.0'\n",
    "comando = 'git tag  {nombre_tag} -m \"versión Inicial\"'.format(nombre_tag=nombre_tag)\n",
    "ejecutar_comando_git(comando)\n",
    "\n",
    "comando = 'git tag'\n",
    "ejecutar_comando_git(comando)"
   ]
  },
  {
   "cell_type": "markdown",
   "id": "b223e4b0-233b-4ac4-871c-434e0fc368c0",
   "metadata": {},
   "source": [
    "### LISTAR LOS TAGs LOCALES"
   ]
  },
  {
   "cell_type": "code",
   "execution_count": null,
   "id": "861b023c-39bc-47a7-b6a9-1b3d1de59b10",
   "metadata": {
    "tags": []
   },
   "outputs": [],
   "source": [
    "comando = 'git tag'\n",
    "ejecutar_comando_git(comando)"
   ]
  },
  {
   "cell_type": "markdown",
   "id": "dc27fb1b-3409-4dfa-9a0e-140622be4a5f",
   "metadata": {},
   "source": [
    "### ELIMINAR UN TAG LOCAL"
   ]
  },
  {
   "cell_type": "code",
   "execution_count": null,
   "id": "45899fd1-ead0-477e-ab13-a73f5c43a0dd",
   "metadata": {
    "tags": []
   },
   "outputs": [],
   "source": [
    "comando = 'git tag -d {nombre_tag}'.format(nombre_tag=nombre_tag)\n",
    "ejecutar_comando_git(comando)\n",
    "\n",
    "comando = 'git tag'\n",
    "ejecutar_comando_git(comando)"
   ]
  },
  {
   "cell_type": "markdown",
   "id": "d8dd2d33-3365-4ab5-8203-4da985e4581c",
   "metadata": {
    "tags": []
   },
   "source": [
    "### CREAR MULTIPLES TAGs"
   ]
  },
  {
   "cell_type": "code",
   "execution_count": null,
   "id": "b94e2bc8-287d-49bf-af0c-b1ea05f5903e",
   "metadata": {
    "scrolled": true,
    "tags": []
   },
   "outputs": [],
   "source": [
    "lista_ramas_locales = obtener_lista_nombres_ramas_git()\n",
    "\n",
    "for indice, rama in enumerate(lista_ramas_locales):\n",
    " \n",
    "    #cambia de rama para tener el contenido especifico de esa rama en el TAG\n",
    "    comando = 'git checkout {rama}\"'.format(rama=rama)\n",
    "    ejecutar_comando_git(comando)\n",
    "    \n",
    "    # genera el nombre que tendra el TAG\n",
    "    nombre_tag = 'v0.0.{indice}_{rama}'.format(rama=rama, indice=indice)\n",
    "    comando = 'git tag {nombre_tag} -m \"version {indice} del TAG\"'.format(nombre_tag=nombre_tag, indice=indice)\n",
    "    ejecutar_comando_git(comando)\n",
    "\n",
    "comando = 'git tag'\n",
    "ejecutar_comando_git(comando)"
   ]
  },
  {
   "cell_type": "markdown",
   "id": "83bf163d-199f-49b0-a309-856ad5f5514c",
   "metadata": {},
   "source": [
    "### LISTAR LOS TAGs Y VER SU DESCRIPCION"
   ]
  },
  {
   "cell_type": "code",
   "execution_count": null,
   "id": "7d71ebff-c95b-4efb-83e3-d3c9f4c7bdf1",
   "metadata": {
    "tags": []
   },
   "outputs": [],
   "source": [
    "comando = 'git tag -n'\n",
    "ejecutar_comando_git(comando)"
   ]
  },
  {
   "cell_type": "markdown",
   "id": "75dd5833-b4c6-43cf-9b35-31ad5c42fcb9",
   "metadata": {},
   "source": [
    "### PUBLICAR UN TAG ESPECIFICO A UN REPOSITORIO REMOTO <br>https://github.com/JorgeCardona/comandos_git</br>"
   ]
  },
  {
   "cell_type": "code",
   "execution_count": null,
   "id": "92fef3aa-ffee-4f9b-bf5d-af7ec1396ddf",
   "metadata": {
    "scrolled": true,
    "tags": []
   },
   "outputs": [],
   "source": [
    "for indice, rama in enumerate([lista_ramas_locales[0]]):\n",
    "    \n",
    "    nombre_tag = 'v0.0.{indice}_{rama}'.format(rama=rama, indice=indice)\n",
    "    comando = comando = 'git push origin {nombre_tag}'.format(nombre_tag=nombre_tag)\n",
    "    ejecutar_comando_git(comando)"
   ]
  },
  {
   "cell_type": "markdown",
   "id": "394c82ec-862f-4f9c-837e-26bd1a1cb9b3",
   "metadata": {},
   "source": [
    "### LISTAR LOS TAGs REMOTOS"
   ]
  },
  {
   "cell_type": "code",
   "execution_count": null,
   "id": "2912578c-ac46-4c71-91f6-3c7f98f1d0cb",
   "metadata": {
    "tags": []
   },
   "outputs": [],
   "source": [
    "comando = 'git ls-remote --tags'\n",
    "ejecutar_comando_git(comando)"
   ]
  },
  {
   "cell_type": "markdown",
   "id": "8378e5d7-1469-4db9-b56f-2417b7720cd3",
   "metadata": {},
   "source": [
    "### PUBLICAR TODOS LOS TAGs NO PUBLICADOS EN UN SOLO PUSH AL REPOSITORIO REMOTO"
   ]
  },
  {
   "cell_type": "code",
   "execution_count": null,
   "id": "b098f775-2118-4c64-8dbe-93bba7f1cb05",
   "metadata": {
    "tags": []
   },
   "outputs": [],
   "source": [
    "comando = 'git push --tags'\n",
    "ejecutar_comando_git(comando)\n",
    "\n",
    "comando = 'git ls-remote --tags'\n",
    "ejecutar_comando_git(comando)"
   ]
  },
  {
   "cell_type": "markdown",
   "id": "5d3f4a8a-f31e-40eb-8689-7dfb7e44ca2d",
   "metadata": {},
   "source": [
    "### ELIMINAR LOS TAGs LOCALES Y REMOTOS"
   ]
  },
  {
   "cell_type": "code",
   "execution_count": null,
   "id": "bdc8d38d-f2ba-42a6-993b-1f268b5b6135",
   "metadata": {
    "scrolled": true,
    "tags": []
   },
   "outputs": [],
   "source": [
    "for indice, rama in enumerate(lista_ramas_locales):\n",
    "    \n",
    "    nombre_tag = 'v0.0.{indice}_{rama}'.format(rama=rama, indice=indice)\n",
    "\n",
    "    comando = 'git tag -d {nombre_tag}'.format(nombre_tag=nombre_tag)\n",
    "    ejecutar_comando_git(comando)\n",
    "\n",
    "    comando = 'git push --delete origin {nombre_tag}'.format(nombre_tag=nombre_tag)\n",
    "    ejecutar_comando_git(comando)\n",
    "    \n",
    "comando = 'git tag'\n",
    "ejecutar_comando_git(comando)\n",
    "\n",
    "comando = 'git ls-remote --tags'\n",
    "ejecutar_comando_git(comando)"
   ]
  },
  {
   "cell_type": "markdown",
   "id": "91b10b1c-cd4c-4443-9cd5-88d32112b21e",
   "metadata": {
    "tags": []
   },
   "source": [
    "#### ELIMINAR LA RAMA DEL REPOSITORIO LOCAL Y REMOTO\n"
   ]
  },
  {
   "cell_type": "code",
   "execution_count": null,
   "id": "378d4731-dbf9-4fac-860c-2ffd2309a846",
   "metadata": {
    "scrolled": true,
    "tags": []
   },
   "outputs": [],
   "source": [
    "eliminar_rama_local_y_remota(nombre_rama=nombre_rama)"
   ]
  },
  {
   "cell_type": "markdown",
   "id": "b17a6f03-aeaf-489b-9f4e-4e39f2df035d",
   "metadata": {},
   "source": [
    "# <center> VALIDAR COMMITS QUE NO FUNCIONAN CON BISECT <br> EN LA CONSOLA DE VSCODE O UN IDE DE DESARROLLO</br></center>"
   ]
  },
  {
   "cell_type": "code",
   "execution_count": null,
   "id": "46365c6e-5037-400f-ac76-1f82cdbc44b0",
   "metadata": {
    "tags": []
   },
   "outputs": [],
   "source": [
    "nombre_rama_remota_bisect = 'bisect_branch'\n",
    "\n",
    "comando = 'git checkout -t origin/{nombre_rama_remota}'.format(nombre_rama_remota=nombre_rama_remota_bisect)\n",
    "ejecutar_comando_git(comando) \n",
    "ejecutar_comando_shell()"
   ]
  },
  {
   "cell_type": "markdown",
   "id": "fa6acf30-5eb7-4495-b392-2ea625a9efdf",
   "metadata": {},
   "source": [
    "# git bisect start, git bisect reset, git bisect good, git bisect bad"
   ]
  },
  {
   "cell_type": "markdown",
   "id": "54f47e97-4685-4186-8b9c-98dcc55b3d0a",
   "metadata": {},
   "source": [
    "### INICIALIZO EL ANALISIS CON BISET START"
   ]
  },
  {
   "cell_type": "code",
   "execution_count": null,
   "id": "5dabeffb-91df-49ea-8f21-06dd67254759",
   "metadata": {
    "tags": []
   },
   "outputs": [],
   "source": [
    "comando = 'git bisect start'\n",
    "ejecutar_comando_git(comando)\n",
    "\n",
    "comando = 'git log --oneline'\n",
    "ejecutar_comando_git(comando)"
   ]
  },
  {
   "cell_type": "markdown",
   "id": "44ca513d-9395-476a-9bc9-c7218c00a1d1",
   "metadata": {},
   "source": [
    "### EJECUTO EL CODIGO Y VEO QUE FUNCIONE O FALLE"
   ]
  },
  {
   "cell_type": "code",
   "execution_count": null,
   "id": "73072734-5a9a-4f01-b8db-09d07cd0e8c0",
   "metadata": {
    "tags": []
   },
   "outputs": [],
   "source": [
    "def validar_codigo():\n",
    "\n",
    "    from funciones_matematicas import ejecutar_funciones\n",
    "\n",
    "    ejecutar_funciones()"
   ]
  },
  {
   "cell_type": "code",
   "execution_count": null,
   "id": "c02ae337-a1a9-4e50-9f4e-80f09d56d7b9",
   "metadata": {
    "tags": []
   },
   "outputs": [],
   "source": [
    "validar_codigo()"
   ]
  },
  {
   "cell_type": "markdown",
   "id": "4c3eda1a-ffa6-429e-bea3-2f11118eb441",
   "metadata": {},
   "source": [
    "# SE EJECUTA EL ULTIMO COMMIT, QUE ENTRE LO NORMAL DEBE FALLAR\n",
    "## SI FALLA PONGO 'git bisect bad', SI FUNCIONA PONGO 'git bisect good'"
   ]
  },
  {
   "cell_type": "code",
   "execution_count": null,
   "id": "e57e4560-4db4-4028-abb8-d0f75e9702f5",
   "metadata": {
    "tags": []
   },
   "outputs": [],
   "source": [
    "comando = 'git bisect bad'\n",
    "ejecutar_comando_git(comando)\n",
    "\n",
    "comando = 'git log --oneline'\n",
    "ejecutar_comando_git(comando)"
   ]
  },
  {
   "cell_type": "markdown",
   "id": "7b8cface-fd6a-47cb-9de6-64b57bbfb25f",
   "metadata": {},
   "source": [
    "## SE SELECCIONA UN COMMIT DONDE SABEMOS QUE EL CODIGO FUNCIONA, POR EJEMPLO EL PRIMER COMMIT"
   ]
  },
  {
   "cell_type": "code",
   "execution_count": null,
   "id": "933e1941-9fd6-4bc5-aed1-24b4dceb276e",
   "metadata": {
    "tags": []
   },
   "outputs": [],
   "source": [
    "comando = 'git bisect good 00d5b10'\n",
    "ejecutar_comando_git(comando)"
   ]
  },
  {
   "cell_type": "markdown",
   "id": "6c3e859d-0343-44cc-bf74-944f918eea06",
   "metadata": {},
   "source": [
    "### VALIDAR DE NUEVO SI FUNCIONA O NO, EN LAS 6 REVISIONES QUE QUEDAN, ESTA VEZ ELIGIO EL DE adicionada funcion raiz cuadrada\n",
    "## SI FALLA PONGO 'git bisect bad', SI FUNCIONA PONGO 'git bisect good'"
   ]
  },
  {
   "cell_type": "code",
   "execution_count": null,
   "id": "6064e759-d812-4bb0-b522-d2c43c044de3",
   "metadata": {
    "tags": []
   },
   "outputs": [],
   "source": [
    "validar_codigo()"
   ]
  },
  {
   "cell_type": "code",
   "execution_count": null,
   "id": "48ebe904-35db-4152-b4ac-a0e9e12d1dcc",
   "metadata": {
    "tags": []
   },
   "outputs": [],
   "source": [
    "comando = 'git bisect bad'\n",
    "ejecutar_comando_git(comando)"
   ]
  },
  {
   "cell_type": "markdown",
   "id": "88f79cd3-589c-4ca6-95a8-645f22c87521",
   "metadata": {},
   "source": [
    "## VALIDAR DE NUEVO SI FUNCIONA O NO\n",
    "## SI FALLA PONGO 'git bisect bad', SI FUNCIONA PONGO 'git bisect good'"
   ]
  },
  {
   "cell_type": "markdown",
   "id": "9fb97961-4eb1-46db-b250-012e21600d1c",
   "metadata": {},
   "source": [
    "## YA TERMINO ENCONTRO EL COMMIT QUE FALLA\n",
    "### AHORA TERMINAMOS CON EL RESET"
   ]
  },
  {
   "cell_type": "code",
   "execution_count": null,
   "id": "5be23210-4ad5-4d05-a6e3-9943df051036",
   "metadata": {
    "tags": []
   },
   "outputs": [],
   "source": [
    "comando = 'git bisect reset'\n",
    "ejecutar_comando_git(comando)"
   ]
  },
  {
   "cell_type": "markdown",
   "id": "18344018-2ea2-4c0d-8278-106b970b7bef",
   "metadata": {},
   "source": [
    "### AHORA REVISO EL COMMIT QUE ESTA GENERANDO ERRORES"
   ]
  },
  {
   "cell_type": "code",
   "execution_count": null,
   "id": "b5824c96-6054-4a5e-9a57-b70b45185f45",
   "metadata": {
    "tags": []
   },
   "outputs": [],
   "source": [
    "comando = 'git show f649a14'\n",
    "ejecutar_comando_git(comando)"
   ]
  },
  {
   "cell_type": "markdown",
   "id": "63de4a56-f0c9-4257-bcd5-a4bd2228c1db",
   "metadata": {},
   "source": [
    "# <center> LISTAR EL HISTORIAL DE TODAS LAS ACCIONES REALIZADAS EN UN REPOSITORIO GIT <br> LISTADO DESDE EL MAS NUEVO HASTA EL PRIMER CAMBIO</br> <br> PERMITE RECUPERAR COMMITS Y RAMAS BORRADAS ACCIDENTALMENTE USANDO EL HASH DEL COMMIT</br></center>"
   ]
  },
  {
   "cell_type": "markdown",
   "id": "f2e8d209-8478-41fb-b16f-80c9111ec6b9",
   "metadata": {
    "tags": []
   },
   "source": [
    "### OBTENER EL HISTORIAL DE LOS CAMBIOS EN EL REPOSITORIO"
   ]
  },
  {
   "cell_type": "code",
   "execution_count": null,
   "id": "d6113c4b-2a96-407f-bf7d-291ad770fe4e",
   "metadata": {
    "scrolled": true,
    "tags": []
   },
   "outputs": [],
   "source": [
    "comando = 'git reflog'\n",
    "ejecutar_comando_git(comando)\n",
    "ejecutar_comando_shell()"
   ]
  },
  {
   "cell_type": "markdown",
   "id": "3854b83e-0186-4f76-a7b1-1496c4c6c962",
   "metadata": {
    "tags": []
   },
   "source": [
    "## RECUPERAR RAMA ELIMINADA"
   ]
  },
  {
   "cell_type": "markdown",
   "id": "bd5ae524-8893-4b3b-9d53-3552e3c37c56",
   "metadata": {},
   "source": [
    "#### INSPECCIONAMOS EL CONTENIDO DE LA RAMA A RECUPERAR CON LA AYUDA DEL HASH DEL COMMIT"
   ]
  },
  {
   "cell_type": "code",
   "execution_count": null,
   "id": "75eb72d0-d8c2-4e3f-8c4f-6cb9516b02ca",
   "metadata": {
    "scrolled": true,
    "tags": []
   },
   "outputs": [],
   "source": [
    "# adicionado archivo INFO.txt PARA USAR EN REFLOG\n",
    "commit_a_recuperar = 'e6184ca'\n",
    "comando = 'git show {commit_a_recuperar}'.format(commit_a_recuperar=commit_a_recuperar)\n",
    "ejecutar_comando_git(comando)\n",
    "ejecutar_comando_shell()"
   ]
  },
  {
   "cell_type": "markdown",
   "id": "6c6d088c-4d9c-4bfb-967e-1b511b995834",
   "metadata": {
    "tags": []
   },
   "source": [
    "#### OBTENEMOS EL CONTENIDO DEL COMMIT"
   ]
  },
  {
   "cell_type": "code",
   "execution_count": null,
   "id": "55c4f7bb-fbb3-4f87-b484-c9dfa37a8a63",
   "metadata": {
    "scrolled": true,
    "tags": []
   },
   "outputs": [],
   "source": [
    "comando = 'git checkout {commit_a_recuperar}'.format(commit_a_recuperar=commit_a_recuperar)\n",
    "ejecutar_comando_git(comando)\n",
    "\n",
    "comando = 'git log --oneline'\n",
    "ejecutar_comando_git(comando)\n",
    "\n",
    "ejecutar_comando_shell()"
   ]
  },
  {
   "cell_type": "markdown",
   "id": "720076d6-6a40-4311-88c2-a9e51365497b",
   "metadata": {},
   "source": [
    "#### CREAMOS UNA NUEVA RAMA A PARTIR EL CONTENIDO DEL COMMIT RECUPERADO"
   ]
  },
  {
   "cell_type": "code",
   "execution_count": null,
   "id": "dc7d270f-ee0d-482e-bd10-a8d8c68e206a",
   "metadata": {
    "tags": []
   },
   "outputs": [],
   "source": [
    "nombre_rama = 'utils_recuperada'\n",
    "comando = 'git checkout -b {nombre_rama}'.format(nombre_rama=nombre_rama)\n",
    "ejecutar_comando_git(comando)\n",
    "\n",
    "comando = 'git log --oneline'\n",
    "ejecutar_comando_git(comando)\n",
    "\n",
    "ejecutar_comando_shell()"
   ]
  },
  {
   "cell_type": "markdown",
   "id": "2bff3726-faf8-4983-ac7f-601c74cb9b69",
   "metadata": {},
   "source": [
    "# <center> PULL REQUEST"
   ]
  },
  {
   "cell_type": "markdown",
   "id": "5d3c7adf-a33d-48ff-b8b8-c1087293fec0",
   "metadata": {
    "tags": []
   },
   "source": [
    "## ELIMINAR RAMA"
   ]
  },
  {
   "cell_type": "code",
   "execution_count": null,
   "id": "961e4311-e5e9-4edc-8ecb-3e8f37d5bbcf",
   "metadata": {
    "tags": []
   },
   "outputs": [],
   "source": [
    "# no se puede eliminar una rama si se esta trabajando en ese monento en ella\n",
    "comando = 'git checkout  {nombre_rama_principal}'.format(nombre_rama_principal=nombre_rama_principal)\n",
    "ejecutar_comando_git(comando)\n",
    "\n",
    "comando = 'git branch -D {nombre_rama}'.format(nombre_rama=nombre_rama)\n",
    "ejecutar_comando_git(comando)\n",
    "\n",
    "comando = 'git branch -a'\n",
    "ejecutar_comando_git(comando)"
   ]
  },
  {
   "cell_type": "markdown",
   "id": "5758eb64-0414-4f9d-b02d-e07bba9d14fb",
   "metadata": {},
   "source": [
    "### OBTENER EL HISTORIAL DE LOS CAMBIOS EN EL REPOSITORIO Y MOSTRAR LOS CAMBIOS DE CADA ARCHIVO EN ESOS CAMBIOS"
   ]
  },
  {
   "cell_type": "code",
   "execution_count": null,
   "id": "138fdab9-35b7-41c7-a069-6cadff11706d",
   "metadata": {
    "scrolled": true,
    "tags": []
   },
   "outputs": [],
   "source": [
    "comando = 'git reflog -g --patch'\n",
    "ejecutar_comando_git(comando)\n",
    "ejecutar_comando_shell()"
   ]
  }
 ],
 "metadata": {
  "kernelspec": {
   "display_name": "Python 3 (ipykernel)",
   "language": "python",
   "name": "python3"
  },
  "language_info": {
   "codemirror_mode": {
    "name": "ipython",
    "version": 3
   },
   "file_extension": ".py",
   "mimetype": "text/x-python",
   "name": "python",
   "nbconvert_exporter": "python",
   "pygments_lexer": "ipython3",
   "version": "3.10.9"
  }
 },
 "nbformat": 4,
 "nbformat_minor": 5
}
