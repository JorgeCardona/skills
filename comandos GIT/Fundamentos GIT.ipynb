{
 "cells": [
  {
   "cell_type": "markdown",
   "id": "16c27612-53a3-498b-aea9-aac0f1364a1f",
   "metadata": {},
   "source": [
    "# <center> CREAR ARCHIVOS</center>"
   ]
  },
  {
   "cell_type": "code",
   "execution_count": 124,
   "id": "503a1087-7944-4e0f-a3de-fa4853d04deb",
   "metadata": {
    "tags": []
   },
   "outputs": [],
   "source": [
    "def crear_fecha():\n",
    "    \n",
    "    import time\n",
    "    from datetime import datetime\n",
    "\n",
    "    # detiene el tiempo para que no todos los archivos generados queden con la misma fecha de timestamp\n",
    "    time.sleep(0.1)\n",
    "        \n",
    "    # Getting the current date and time\n",
    "    dt = datetime.now()\n",
    "\n",
    "    # getting the timestamp\n",
    "    ts = datetime.timestamp(dt)\n",
    "\n",
    "    return ts\n",
    "\n",
    "def generar_archivos(todos_los_archivos=True):\n",
    "\n",
    "    lista_de_archivos = ['info.txt','Dockerfile','Manifest.yaml','imagen.png','main.py','connection.java','calculos.c','addon.php','utils.gif','query.sql','dataset.avro','link.vs']\n",
    "    \n",
    "    lista_de_archivos = lista_de_archivos if todos_los_archivos else [lista_de_archivos[0]]\n",
    "    \n",
    "    print('lista_de_archivos = {lista_de_archivos}'.format(lista_de_archivos=lista_de_archivos))\n",
    "    \n",
    "    for archivo in lista_de_archivos:\n",
    "        comando = 'echo {crear_archivo} >> {archivo}'.format(crear_archivo=crear_fecha(), archivo=archivo)\n",
    "        ejecutar_comando_shell(comando)\n",
    "\n",
    "    return lista_de_archivos\n",
    "\n",
    "\n",
    "def crear_commits(total_commits=5):\n",
    "    \n",
    "    import random\n",
    "    \n",
    "    for commit in range(total_commits):\n",
    "        \n",
    "        numero_aleatorio = random.randint(1, 10_000_000)\n",
    "        generar_archivos()\n",
    "\n",
    "        comando = 'git status'\n",
    "        ejecutar_comando_git(comando)\n",
    "\n",
    "        comando = 'git add .'\n",
    "        ejecutar_comando_git(comando)\n",
    "\n",
    "        comando = 'git status'\n",
    "        ejecutar_comando_git(comando)\n",
    "\n",
    "        comando = 'git commit -m \"PRUEBA numero {numero_aleatorio} de adicion de archivos y creacion de COMMIT {fecha}\"'.format( numero_aleatorio=numero_aleatorio, fecha=crear_fecha())\n",
    "        ejecutar_comando_git(comando)\n",
    "\n",
    "    comando = 'git log --oneline'\n",
    "    ejecutar_comando_git(comando)\n",
    "\n",
    "    comando = 'git status'\n",
    "    ejecutar_comando_git(comando)"
   ]
  },
  {
   "cell_type": "markdown",
   "id": "63baf6e8-15a7-4d78-9216-0071910ae33c",
   "metadata": {},
   "source": [
    "# <center> ELIMINAR ARCHIVOS</center>"
   ]
  },
  {
   "cell_type": "code",
   "execution_count": 2,
   "id": "fbedd993-b081-45e3-b492-94d841d01e9c",
   "metadata": {},
   "outputs": [],
   "source": [
    "def listar_archivos_eliminables_en_directorio():\n",
    "    import os\n",
    "    \n",
    "    listado_de_archivos = os.listdir(directory)\n",
    "    \n",
    "    archivos_eliminables = [archivo for archivo in listado_de_archivos if '.git' not in archivo]\n",
    "    \n",
    "    return archivos_eliminables\n",
    "    \n",
    "def eliminar_directorio(nombre_repositorio):\n",
    "    \n",
    "    import shutil\n",
    "    import os\n",
    "    import stat\n",
    "    from os import path\n",
    "    \n",
    "    for root, dirs, files in os.walk(\"./{nombre_repositorio}\".format(nombre_repositorio=nombre_repositorio)):  \n",
    "        for dir in dirs:\n",
    "            try:\n",
    "                os.chmod(path.join(root, dir), stat.S_IRWXU)\n",
    "            except:\n",
    "                print('el archivo {archivo} no existe'.format(archivo=archivo))                \n",
    "        for file in files:\n",
    "            try:\n",
    "                os.chmod(path.join(root, file), stat.S_IRWXU)\n",
    "            except:\n",
    "                print('el archivo {archivo} no existe'.format(archivo=archivo))\n",
    "    try: \n",
    "        shutil.rmtree(\"./{nombre_repositorio}\".format(nombre_repositorio=nombre_repositorio))\n",
    "    except:\n",
    "        print('el repositorio {nombre_repositorio} no existe'.format(nombre_repositorio=nombre_repositorio))\n",
    "\n",
    "def eliminar_archivos_directorio():\n",
    "    import os\n",
    "    \n",
    "    lista_de_archivos_eliminables = listar_archivos_eliminables_en_directorio()\n",
    "    \n",
    "    for archivo in lista_de_archivos_eliminables:\n",
    "            os.remove(archivo)\n",
    "        \n",
    "    return 'Eliminacion Completada con Exito!!! de {lista_de_archivos_eliminables}'.format(lista_de_archivos_eliminables=lista_de_archivos_eliminables)"
   ]
  },
  {
   "cell_type": "markdown",
   "id": "7153370f-e472-49b7-bb91-b62d5e558381",
   "metadata": {},
   "source": [
    "# <center> CREAR ARCHIVOS, COMMITS Y PUBLICAR RAMAS AL REPOSITORIO </center>"
   ]
  },
  {
   "cell_type": "code",
   "execution_count": 3,
   "id": "a3d1b1da-b198-40e7-ac0e-717336e06c87",
   "metadata": {
    "scrolled": true,
    "tags": []
   },
   "outputs": [],
   "source": [
    "def validar_si_existe_rama(nombre_rama, local=False):\n",
    "    \n",
    "    comando ='git branch -a'\n",
    "    resultado = ejecutar_comando_shell(comando, response=True)\n",
    "    \n",
    "    rama_base = '{nombre_rama}'.format(nombre_rama=nombre_rama) if local else 'origin/{nombre_rama}'.format(nombre_rama=nombre_rama)\n",
    "\n",
    "    if rama_base in resultado:\n",
    "        return True\n",
    "    return False\n",
    "\n",
    "def elimina_ramas_si_existen_y_crea_la_rama_local(nombre_rama):\n",
    "    \n",
    "    # valida si las ramas existen en REMOTO y LOCAL\n",
    "    rama_remota = validar_si_existe_rama(nombre_rama=nombre_rama)\n",
    "    rama_local = validar_si_existe_rama(nombre_rama=nombre_rama, local=True)\n",
    "    \n",
    "    # verifica si existe la rama la elimina\n",
    "    if rama_remota:\n",
    "        # elimina rama REMOTA existente\n",
    "        comando = 'git push origin -d {nombre_rama}'.format(nombre_rama=nombre_rama)\n",
    "        ejecutar_comando_git(comando)\n",
    "\n",
    "     # verifica si existe la rama la elimina\n",
    "    if rama_local:                                                                                                            \n",
    "        # elimina la rama\n",
    "        comando = 'git branch -D {nombre_rama}'.format(nombre_rama=nombre_rama)\n",
    "        ejecutar_comando_git(comando)\n",
    "        \n",
    "    # crea la rama\n",
    "    comando = 'git checkout -b {nombre_rama}'.format(nombre_rama=nombre_rama)\n",
    "    ejecutar_comando_shell(comando)\n",
    "    \n",
    "    # verifica las ramas actuales\n",
    "    ejecutar_comando_shell()\n",
    "    \n",
    "\n",
    "def crear_commit_por_cada_archivo(todos_los_archivos):\n",
    "    \n",
    "    import datetime\n",
    "\n",
    "    fecha_ahora = datetime.datetime.now()\n",
    "    \n",
    "    # crea el listado de archivos\n",
    "    lista_de_archivos = generar_archivos(todos_los_archivos=todos_los_archivos)\n",
    "    \n",
    "    # basado en el listado de archivos, adiciona uno a uno y crea un commit por cada uno\n",
    "    for archivo in lista_de_archivos:\n",
    "\n",
    "        comando = 'git add {archivo}'.format(archivo=archivo)\n",
    "        ejecutar_comando_git(comando)\n",
    "        \n",
    "        comando = 'git commit -m \"ADICIONADO ARCHIVO {archivo} {fecha_ahora}\"'.format(archivo=archivo, fecha_ahora=fecha_ahora)\n",
    "        ejecutar_comando_git(comando)\n",
    "\n",
    "    # verifica si todos los archivos estan en los commits creados\n",
    "    comando = 'git status'\n",
    "    ejecutar_comando_git(comando)\n",
    "    \n",
    "def generar_archivos_y_hacer_commit(nombre_rama, todos_los_archivos = True):\n",
    "    \n",
    "    # elimina cambios a la rama remota si los tiene\n",
    "    comando = 'git restore .'\n",
    "    ejecutar_comando_git(comando)\n",
    "    \n",
    "    # cambiar a la rama remota\n",
    "    comando = 'git checkout {nombre_rama_remota}'.format(nombre_rama_remota=nombre_rama_remota)\n",
    "    ejecutar_comando_git(comando)\n",
    "    \n",
    "    # valida si las ramas existen en REMOTO y LOCAL y las elimina\n",
    "    elimina_ramas_si_existen_y_crea_la_rama_local(nombre_rama)\n",
    "    \n",
    "    # adiciona archivos de 1 en 1 y genera 1 commit por cada archivo\n",
    "    crear_commit_por_cada_archivo(todos_los_archivos=todos_los_archivos)\n",
    "\n",
    "    # mostrar el log de las ramas en forma resumida y con diagrama de uniones como grafo \n",
    "    comando = 'git log --graph --oneline'\n",
    "    ejecutar_comando_git(comando)\n",
    "\n",
    "    # crea la rama en remoto\n",
    "    comando = 'git push --set-upstream origin {nombre_rama}'.format(nombre_rama=nombre_rama)\n",
    "    ejecutar_comando_git(comando)\n",
    "    \n",
    "    ejecutar_comando_shell()"
   ]
  },
  {
   "cell_type": "markdown",
   "id": "2c7f5df2-40a3-4d51-b44a-1314ff60286d",
   "metadata": {},
   "source": [
    "# <center> OBTENER LISTA CON LOS NOMBRES DE TODAS LAS RAMAS LOCALES DE UN REPOSITORIO GIT</center>"
   ]
  },
  {
   "cell_type": "code",
   "execution_count": 4,
   "id": "fe1643f8-c7f7-450d-9eea-b30471ce5f98",
   "metadata": {
    "tags": []
   },
   "outputs": [],
   "source": [
    "def obtener_lista_nombres_ramas_git():\n",
    "\n",
    "    stdout = subprocess.check_output('git branch'.split())\n",
    "    out = stdout.decode()\n",
    "    branches = [b.strip('* ') for b in out.splitlines()]\n",
    "    return branches"
   ]
  },
  {
   "cell_type": "markdown",
   "id": "746ac216-782a-4928-b5b0-f8ddb17c8523",
   "metadata": {},
   "source": [
    "# <center> EJECUTAR COMANDOS SHELL DESDE FUNCION PYTHON</center>"
   ]
  },
  {
   "cell_type": "code",
   "execution_count": 5,
   "id": "9048c958-a13b-4a78-a4ea-d114c3ce03ca",
   "metadata": {
    "tags": []
   },
   "outputs": [],
   "source": [
    "import subprocess\n",
    "\n",
    "def ejecutar_comando_shell(comando='git branch', response=False):\n",
    "\n",
    "    resultado_comando_ejecutado = subprocess.check_output(comando, shell=True, text=True)\n",
    "    print('############################################# COMANDO A EJECUTAR #############################################')\n",
    "    print(comando)\n",
    "    print('####################################### RESULTADO DE COMANDO EJECUTADO #######################################')\n",
    "    #para evitar el salto de linea usa el parametro end=''\n",
    "    print(resultado_comando_ejecutado, end='')\n",
    "    print('##############################################################################################################')\n",
    "    print()\n",
    "    if response:\n",
    "        return resultado_comando_ejecutado"
   ]
  },
  {
   "cell_type": "markdown",
   "id": "de235812-1670-4023-ad85-bbd6dd9b50de",
   "metadata": {},
   "source": [
    "# <center> FUNCION LAMBDA PARA EJECUTAR COMANDOS GIT</center>"
   ]
  },
  {
   "cell_type": "code",
   "execution_count": 6,
   "id": "b6817bb4-2f33-4200-aa99-84e8c2142711",
   "metadata": {
    "tags": []
   },
   "outputs": [],
   "source": [
    "ejecutar_comando_git = lambda comando : ejecutar_comando_shell(comando)"
   ]
  },
  {
   "cell_type": "markdown",
   "id": "fa61c53e-ae72-4628-9e93-bee20b030697",
   "metadata": {},
   "source": [
    "# <center> CICLO DE VIDA DE UN REPOSITORIO GIT</center>"
   ]
  },
  {
   "cell_type": "markdown",
   "id": "96e3a1b8-a7c3-4efe-95be-ff4818ee67c0",
   "metadata": {
    "tags": []
   },
   "source": [
    "<center>\n",
    "    <img width=\"100%\" align=\"center\" src=\"git_life_cycle.png\">\n",
    "</center>"
   ]
  },
  {
   "cell_type": "markdown",
   "id": "f2bdf4ec-0568-49de-8a9d-d99f2ab8aeb2",
   "metadata": {},
   "source": [
    "# <center> FLUJO DE ARCHIVOS DE UN REPOSITORIO GIT</center>"
   ]
  },
  {
   "cell_type": "markdown",
   "id": "a2aa9940-8a41-4458-b796-7fb014868d88",
   "metadata": {},
   "source": [
    "<center>\n",
    "    <img width=\"100%\" align=\"center\" src=\"gitflow.png\">\n",
    "</center>"
   ]
  },
  {
   "cell_type": "markdown",
   "id": "48adba35-bb65-44ed-9a19-c1b3601a2c0c",
   "metadata": {},
   "source": [
    "# <center> CONSULTAR LA VERSION DE GIT</center>"
   ]
  },
  {
   "cell_type": "code",
   "execution_count": 7,
   "id": "6986167a-ad52-4662-98ab-6e74f410f922",
   "metadata": {
    "tags": []
   },
   "outputs": [
    {
     "name": "stdout",
     "output_type": "stream",
     "text": [
      "############################################# COMANDO A EJECUTAR #############################################\n",
      "git --version\n",
      "####################################### RESULTADO DE COMANDO EJECUTADO #######################################\n",
      "git version 2.25.0.windows.1\n",
      "##############################################################################################################\n",
      "\n"
     ]
    }
   ],
   "source": [
    "comando = 'git --version'\n",
    "ejecutar_comando_git(comando)"
   ]
  },
  {
   "cell_type": "markdown",
   "id": "b6dcc937-601b-4c18-a1d6-a97936e49967",
   "metadata": {},
   "source": [
    "# <center> CLONAR UN REPOSITORIO GIT</center>"
   ]
  },
  {
   "cell_type": "code",
   "execution_count": 8,
   "id": "31f7c4af-65f2-40a1-b252-f11f2427d13e",
   "metadata": {
    "tags": []
   },
   "outputs": [
    {
     "name": "stdout",
     "output_type": "stream",
     "text": [
      "############################################# COMANDO A EJECUTAR #############################################\n",
      "git clone https://github.com/JorgeCardona/comandos_git.git\n",
      "####################################### RESULTADO DE COMANDO EJECUTADO #######################################\n",
      "##############################################################################################################\n",
      "\n"
     ]
    }
   ],
   "source": [
    "repositorio_base = 'https://github.com/JorgeCardona'\n",
    "nombre_del_repositorio = 'comandos_git'\n",
    "\n",
    "eliminar_directorio(nombre_repositorio=nombre_del_repositorio)\n",
    "\n",
    "comando = 'git clone {repositorio_base}/{nombre_del_repositorio}.git'.format(repositorio_base=repositorio_base, nombre_del_repositorio=nombre_del_repositorio)\n",
    "ejecutar_comando_git(comando)"
   ]
  },
  {
   "cell_type": "markdown",
   "id": "75de8bb7-aee9-47b0-b917-214f08a4c384",
   "metadata": {},
   "source": [
    "## FETCH\n",
    "<center>\n",
    "    <img width=\"75%\" align=\"center\" src=\"fecth.gif\">\n",
    "</center>"
   ]
  },
  {
   "cell_type": "markdown",
   "id": "b8226af4-901b-4fcb-b2dc-625bc8765796",
   "metadata": {},
   "source": [
    "## PULL\n",
    "<center>\n",
    "    <img width=\"75%\" align=\"center\" src=\"pull.gif\">\n",
    "</center>"
   ]
  },
  {
   "cell_type": "markdown",
   "id": "5dfcd024-6d86-4c52-b790-e94e42e71046",
   "metadata": {},
   "source": [
    "# <center> CAMBIAR A LA CARPETA PARA TRABAJAR CON EL REPOSITORIO</center>"
   ]
  },
  {
   "cell_type": "code",
   "execution_count": 9,
   "id": "2a7e9016-54c8-4493-955a-0cb812f41020",
   "metadata": {
    "tags": []
   },
   "outputs": [
    {
     "data": {
      "text/plain": [
       "'C:\\\\z Github\\\\Git Comandos'"
      ]
     },
     "execution_count": 9,
     "metadata": {},
     "output_type": "execute_result"
    }
   ],
   "source": [
    "#importing the os module\n",
    "import os\n",
    "\n",
    "#to get the current working directory\n",
    "directory = os.getcwd()\n",
    "directory"
   ]
  },
  {
   "cell_type": "code",
   "execution_count": 10,
   "id": "7f4f4467-e9b7-482f-96f9-7412ff9af7a8",
   "metadata": {
    "tags": []
   },
   "outputs": [
    {
     "data": {
      "text/plain": [
       "'C:\\\\z Github\\\\Git Comandos\\\\comandos_git'"
      ]
     },
     "execution_count": 10,
     "metadata": {},
     "output_type": "execute_result"
    }
   ],
   "source": [
    "os.chdir('{directory}/{repository}'.format(directory=directory, repository=nombre_del_repositorio))\n",
    "directory = os.getcwd()\n",
    "directory"
   ]
  },
  {
   "cell_type": "markdown",
   "id": "4544b6a6-5c4f-4e04-a908-c5806ca6f23e",
   "metadata": {},
   "source": [
    "# <center> MOSTRAR INFORMACION DEL REPOSITORIO</center>"
   ]
  },
  {
   "cell_type": "code",
   "execution_count": 11,
   "id": "4e3ba9e5-27bd-40b6-bf9c-996f26f8d65f",
   "metadata": {
    "tags": []
   },
   "outputs": [
    {
     "name": "stdout",
     "output_type": "stream",
     "text": [
      "############################################# COMANDO A EJECUTAR #############################################\n",
      "git remote show origin\n",
      "####################################### RESULTADO DE COMANDO EJECUTADO #######################################\n",
      "* remote origin\n",
      "  Fetch URL: https://github.com/JorgeCardona/comandos_git.git\n",
      "  Push  URL: https://github.com/JorgeCardona/comandos_git.git\n",
      "  HEAD branch: main\n",
      "  Remote branches:\n",
      "    commit_branch tracked\n",
      "    main          tracked\n",
      "    multi_commits tracked\n",
      "  Local branch configured for 'git pull':\n",
      "    main merges with remote main\n",
      "  Local ref configured for 'git push':\n",
      "    main pushes to main (up to date)\n",
      "##############################################################################################################\n",
      "\n"
     ]
    }
   ],
   "source": [
    "comando = 'git remote show origin'\n",
    "ejecutar_comando_git(comando)"
   ]
  },
  {
   "cell_type": "markdown",
   "id": "a3726874-d7c6-460d-b9c0-fa4cdf3ec6ed",
   "metadata": {},
   "source": [
    "# <center> LISTAR LAS RAMAS DE UN REPOSITORIO </center>"
   ]
  },
  {
   "cell_type": "markdown",
   "id": "4f24ef50-f1c6-4daf-879d-dfecf0934268",
   "metadata": {},
   "source": [
    "### LISTA TODAS LAS RAMAS LOCALES Y LA RAMA PRINCIPAL DEL REPOSITORIO"
   ]
  },
  {
   "cell_type": "code",
   "execution_count": 12,
   "id": "6e2f6bcb-70a1-4151-bd65-0d3820f4cfd7",
   "metadata": {
    "tags": []
   },
   "outputs": [
    {
     "name": "stdout",
     "output_type": "stream",
     "text": [
      "############################################# COMANDO A EJECUTAR #############################################\n",
      "git branch\n",
      "####################################### RESULTADO DE COMANDO EJECUTADO #######################################\n",
      "* main\n",
      "##############################################################################################################\n",
      "\n"
     ]
    }
   ],
   "source": [
    "comando = 'git branch'\n",
    "ejecutar_comando_git(comando)"
   ]
  },
  {
   "cell_type": "markdown",
   "id": "3a9c0795-d684-4571-a99d-d1d6203059f1",
   "metadata": {},
   "source": [
    "### LISTA TODAS LAS RAMAS REMOTAS DEL REPOSITORIO"
   ]
  },
  {
   "cell_type": "code",
   "execution_count": 13,
   "id": "acb38610-f643-4c0e-b9e8-dec9c7a3d99e",
   "metadata": {
    "tags": []
   },
   "outputs": [
    {
     "name": "stdout",
     "output_type": "stream",
     "text": [
      "############################################# COMANDO A EJECUTAR #############################################\n",
      "git branch -r\n",
      "####################################### RESULTADO DE COMANDO EJECUTADO #######################################\n",
      "  origin/HEAD -> origin/main\n",
      "  origin/commit_branch\n",
      "  origin/main\n",
      "  origin/multi_commits\n",
      "##############################################################################################################\n",
      "\n"
     ]
    }
   ],
   "source": [
    "comando = 'git branch -r'\n",
    "ejecutar_comando_git(comando)"
   ]
  },
  {
   "cell_type": "markdown",
   "id": "ccc455dd-2361-4e82-be84-66d06caa3eb5",
   "metadata": {},
   "source": [
    "### LISTA TODAS LAS RAMAS LOCALES INCLUYENDO LAS RAMAS OCULTAS"
   ]
  },
  {
   "cell_type": "code",
   "execution_count": 14,
   "id": "486db217-0bcd-446e-bde5-147cd9c30da6",
   "metadata": {
    "tags": []
   },
   "outputs": [
    {
     "name": "stdout",
     "output_type": "stream",
     "text": [
      "############################################# COMANDO A EJECUTAR #############################################\n",
      "git branch -a\n",
      "####################################### RESULTADO DE COMANDO EJECUTADO #######################################\n",
      "* main\n",
      "  remotes/origin/HEAD -> origin/main\n",
      "  remotes/origin/commit_branch\n",
      "  remotes/origin/main\n",
      "  remotes/origin/multi_commits\n",
      "##############################################################################################################\n",
      "\n"
     ]
    }
   ],
   "source": [
    "comando = 'git branch -a'\n",
    "ejecutar_comando_git(comando)"
   ]
  },
  {
   "cell_type": "markdown",
   "id": "5fcd971b-1561-4d6b-ae04-5cd81ee1c441",
   "metadata": {},
   "source": [
    "# <center> CREAR UNA RAMA BASADA EN LA RAMA ACTUAL DE UN REPOSITORIO</center>"
   ]
  },
  {
   "cell_type": "code",
   "execution_count": 15,
   "id": "ff0c31d3-bd06-4a96-834c-53d69890a4f3",
   "metadata": {
    "tags": []
   },
   "outputs": [
    {
     "name": "stdout",
     "output_type": "stream",
     "text": [
      "############################################# COMANDO A EJECUTAR #############################################\n",
      "git branch nueva_rama\n",
      "####################################### RESULTADO DE COMANDO EJECUTADO #######################################\n",
      "##############################################################################################################\n",
      "\n",
      "############################################# COMANDO A EJECUTAR #############################################\n",
      "git branch\n",
      "####################################### RESULTADO DE COMANDO EJECUTADO #######################################\n",
      "* main\n",
      "  nueva_rama\n",
      "##############################################################################################################\n",
      "\n"
     ]
    }
   ],
   "source": [
    "comando = 'git branch nueva_rama'\n",
    "ejecutar_comando_git(comando)\n",
    "ejecutar_comando_shell()"
   ]
  },
  {
   "cell_type": "markdown",
   "id": "5dd7647e-4eea-4a1c-bfd5-c6fe2dc00ca7",
   "metadata": {},
   "source": [
    "# <center> CAMBIAR A OTRA RAMA DEL REPOSITORIO</center>"
   ]
  },
  {
   "cell_type": "code",
   "execution_count": 16,
   "id": "d2c67bc1-51d3-4e66-adca-cda41a4316fa",
   "metadata": {
    "tags": []
   },
   "outputs": [
    {
     "name": "stdout",
     "output_type": "stream",
     "text": [
      "############################################# COMANDO A EJECUTAR #############################################\n",
      "git checkout nueva_rama\n",
      "####################################### RESULTADO DE COMANDO EJECUTADO #######################################\n",
      "##############################################################################################################\n",
      "\n",
      "############################################# COMANDO A EJECUTAR #############################################\n",
      "git branch\n",
      "####################################### RESULTADO DE COMANDO EJECUTADO #######################################\n",
      "  main\n",
      "* nueva_rama\n",
      "##############################################################################################################\n",
      "\n"
     ]
    }
   ],
   "source": [
    "comando = 'git checkout nueva_rama'\n",
    "ejecutar_comando_git(comando)\n",
    "ejecutar_comando_shell()"
   ]
  },
  {
   "cell_type": "markdown",
   "id": "4d054142-e43e-4d05-83e4-3230eb96f0da",
   "metadata": {},
   "source": [
    "# <center> CREAR UNA RAMA BASADA EN LA ACTUAL Y CAMBIA A LA RAMA CREADA AL MISMO TIEMPO</center>"
   ]
  },
  {
   "cell_type": "code",
   "execution_count": 17,
   "id": "accb84e5-5900-4379-97d9-4cc91f3c8480",
   "metadata": {
    "tags": []
   },
   "outputs": [
    {
     "name": "stdout",
     "output_type": "stream",
     "text": [
      "############################################# COMANDO A EJECUTAR #############################################\n",
      "git checkout -b rama_acceso_rapido\n",
      "####################################### RESULTADO DE COMANDO EJECUTADO #######################################\n",
      "##############################################################################################################\n",
      "\n",
      "############################################# COMANDO A EJECUTAR #############################################\n",
      "git branch\n",
      "####################################### RESULTADO DE COMANDO EJECUTADO #######################################\n",
      "  main\n",
      "  nueva_rama\n",
      "* rama_acceso_rapido\n",
      "##############################################################################################################\n",
      "\n"
     ]
    }
   ],
   "source": [
    "comando = 'git checkout -b rama_acceso_rapido'\n",
    "ejecutar_comando_git(comando)\n",
    "ejecutar_comando_shell()"
   ]
  },
  {
   "cell_type": "markdown",
   "id": "4ce22640-89a5-457a-acab-337cf47dc60a",
   "metadata": {},
   "source": [
    "# <center> CREAR NUEVA RAMA LOCAL DE UNA RAMA REMOTA</center>"
   ]
  },
  {
   "cell_type": "code",
   "execution_count": 18,
   "id": "cef10060-f05f-411f-9347-d5fdf78e568c",
   "metadata": {
    "tags": []
   },
   "outputs": [
    {
     "name": "stdout",
     "output_type": "stream",
     "text": [
      "############################################# COMANDO A EJECUTAR #############################################\n",
      "git checkout -b multi_commits_copia origin/multi_commits\n",
      "####################################### RESULTADO DE COMANDO EJECUTADO #######################################\n",
      "Branch 'multi_commits_copia' set up to track remote branch 'multi_commits' from 'origin'.\n",
      "##############################################################################################################\n",
      "\n",
      "############################################# COMANDO A EJECUTAR #############################################\n",
      "git branch\n",
      "####################################### RESULTADO DE COMANDO EJECUTADO #######################################\n",
      "  main\n",
      "* multi_commits_copia\n",
      "  nueva_rama\n",
      "  rama_acceso_rapido\n",
      "##############################################################################################################\n",
      "\n"
     ]
    }
   ],
   "source": [
    "nombre_rama_remota = 'multi_commits'\n",
    "copia_rama_remota = '{nombre_rama_remota}_copia'.format(nombre_rama_remota=nombre_rama_remota)\n",
    "comando = 'git checkout -b {copia_rama_remota} origin/{nombre_rama_remota}'.format(copia_rama_remota=copia_rama_remota, nombre_rama_remota=nombre_rama_remota)\n",
    "ejecutar_comando_git(comando)\n",
    "ejecutar_comando_shell()"
   ]
  },
  {
   "cell_type": "markdown",
   "id": "04bea22a-3a54-4b3d-8260-169d7d939a6c",
   "metadata": {},
   "source": [
    "# <center> DESCARGAR RAMA REMOTA A LOCAL Y CAMBIAR A LA RAMA BAJADA AL MISMO TIEMPO</center>"
   ]
  },
  {
   "cell_type": "code",
   "execution_count": 19,
   "id": "2b8741a5-f633-4445-b579-ce199444f520",
   "metadata": {
    "tags": []
   },
   "outputs": [
    {
     "name": "stdout",
     "output_type": "stream",
     "text": [
      "############################################# COMANDO A EJECUTAR #############################################\n",
      "git checkout -t origin/multi_commits\n",
      "####################################### RESULTADO DE COMANDO EJECUTADO #######################################\n",
      "Branch 'multi_commits' set up to track remote branch 'multi_commits' from 'origin'.\n",
      "##############################################################################################################\n",
      "\n",
      "############################################# COMANDO A EJECUTAR #############################################\n",
      "git branch\n",
      "####################################### RESULTADO DE COMANDO EJECUTADO #######################################\n",
      "  main\n",
      "* multi_commits\n",
      "  multi_commits_copia\n",
      "  nueva_rama\n",
      "  rama_acceso_rapido\n",
      "##############################################################################################################\n",
      "\n"
     ]
    }
   ],
   "source": [
    "comando = 'git checkout -t origin/{nombre_rama_remota}'.format(nombre_rama_remota=nombre_rama_remota)\n",
    "ejecutar_comando_git(comando)\n",
    "ejecutar_comando_shell()"
   ]
  },
  {
   "cell_type": "markdown",
   "id": "8a659043-509a-4ed5-9f8f-55896c0e68b1",
   "metadata": {},
   "source": [
    "# <center> RENOMBRAR UNA RAMA DEL REPOSITORIO</center>"
   ]
  },
  {
   "cell_type": "code",
   "execution_count": 20,
   "id": "f0a3c692-e941-4491-88b3-cc8d0016f3e2",
   "metadata": {
    "tags": []
   },
   "outputs": [
    {
     "name": "stdout",
     "output_type": "stream",
     "text": [
      "############################################# COMANDO A EJECUTAR #############################################\n",
      "git checkout multi_commits_copia\n",
      "####################################### RESULTADO DE COMANDO EJECUTADO #######################################\n",
      "Your branch is up to date with 'origin/multi_commits'.\n",
      "##############################################################################################################\n",
      "\n",
      "############################################# COMANDO A EJECUTAR #############################################\n",
      "git branch -m nueva_rama nueva_rama_renombrada\n",
      "####################################### RESULTADO DE COMANDO EJECUTADO #######################################\n",
      "##############################################################################################################\n",
      "\n",
      "############################################# COMANDO A EJECUTAR #############################################\n",
      "git branch --move rama_acceso_rapido rama_acceso_rapido_renombrada\n",
      "####################################### RESULTADO DE COMANDO EJECUTADO #######################################\n",
      "##############################################################################################################\n",
      "\n",
      "############################################# COMANDO A EJECUTAR #############################################\n",
      "git branch\n",
      "####################################### RESULTADO DE COMANDO EJECUTADO #######################################\n",
      "  main\n",
      "  multi_commits\n",
      "* multi_commits_copia\n",
      "  nueva_rama_renombrada\n",
      "  rama_acceso_rapido_renombrada\n",
      "##############################################################################################################\n",
      "\n"
     ]
    }
   ],
   "source": [
    "comando = 'git checkout {copia_rama_remota}'.format(copia_rama_remota=copia_rama_remota)\n",
    "ejecutar_comando_git(comando)\n",
    "\n",
    "comando = 'git branch -m nueva_rama nueva_rama_renombrada'\n",
    "ejecutar_comando_git(comando)\n",
    "\n",
    "# Alternativa\n",
    "comando = 'git branch --move rama_acceso_rapido rama_acceso_rapido_renombrada'\n",
    "ejecutar_comando_git(comando)\n",
    "\n",
    "ejecutar_comando_shell()"
   ]
  },
  {
   "cell_type": "markdown",
   "id": "4a3fabd1-29f8-4918-bdfd-3d227988fea2",
   "metadata": {},
   "source": [
    "# <center> OBTENER LA DIFERENCIA EN CONTENIDO ENTRE 2 RAMAS COMMITs DE UN REPOSITORIO</center>"
   ]
  },
  {
   "cell_type": "code",
   "execution_count": 21,
   "id": "74f6794e-30f7-41b9-a138-b88fcfca5542",
   "metadata": {
    "tags": []
   },
   "outputs": [
    {
     "name": "stdout",
     "output_type": "stream",
     "text": [
      "############################################# COMANDO A EJECUTAR #############################################\n",
      "git diff main multi_commits\n",
      "####################################### RESULTADO DE COMANDO EJECUTADO #######################################\n",
      "diff --git a/archivo.csv b/archivo.csv\n",
      "new file mode 100644\n",
      "index 0000000..e69de29\n",
      "diff --git a/archivo.pdf b/archivo.pdf\n",
      "new file mode 100644\n",
      "index 0000000..31a8a6a\n",
      "--- /dev/null\n",
      "+++ b/archivo.pdf\n",
      "@@ -0,0 +1 @@\n",
      "+\f",
      "\n",
      "\\ No newline at end of file\n",
      "diff --git a/archivo.xlsx b/archivo.xlsx\n",
      "new file mode 100644\n",
      "index 0000000..53f0f1e\n",
      "Binary files /dev/null and b/archivo.xlsx differ\n",
      "diff --git a/index.html b/index.html\n",
      "new file mode 100644\n",
      "index 0000000..e69de29\n",
      "##############################################################################################################\n",
      "\n"
     ]
    }
   ],
   "source": [
    "# confirmar al repositorio remoto el reset\n",
    "comando = 'git diff main multi_commits'\n",
    "ejecutar_comando_git(comando)"
   ]
  },
  {
   "cell_type": "markdown",
   "id": "0d81a177-e2e4-43ca-8c10-dbb6d34d1bdb",
   "metadata": {},
   "source": [
    "# <center> RESTAURAR O RECUPERAR ARCHIVOS MODIFICADOS O ELIMINADOS DE UN REPOSITORIO GIT <br> SOLO MODIFICACIONES EN REPOSITORIO LOCAL, BASADO EN EL ULTIMO COMMIT <br/></center>"
   ]
  },
  {
   "cell_type": "code",
   "execution_count": 22,
   "id": "2b421eb8-6750-444b-8ab2-f5cf9b0a7969",
   "metadata": {
    "scrolled": true,
    "tags": []
   },
   "outputs": [
    {
     "name": "stdout",
     "output_type": "stream",
     "text": [
      "lista_de_archivos = ['info.txt', 'Dockerfile', 'Manifest.yaml', 'imagen.png', 'main.py', 'connection.java', 'calculos.c', 'addon.php', 'utils.gif', 'query.sql', 'dataset.avro', 'link.vs']\n",
      "############################################# COMANDO A EJECUTAR #############################################\n",
      "echo 1679756580.40075 >> info.txt\n",
      "####################################### RESULTADO DE COMANDO EJECUTADO #######################################\n",
      "##############################################################################################################\n",
      "\n",
      "############################################# COMANDO A EJECUTAR #############################################\n",
      "echo 1679756580.519786 >> Dockerfile\n",
      "####################################### RESULTADO DE COMANDO EJECUTADO #######################################\n",
      "##############################################################################################################\n",
      "\n",
      "############################################# COMANDO A EJECUTAR #############################################\n",
      "echo 1679756580.63337 >> Manifest.yaml\n",
      "####################################### RESULTADO DE COMANDO EJECUTADO #######################################\n",
      "##############################################################################################################\n",
      "\n",
      "############################################# COMANDO A EJECUTAR #############################################\n",
      "echo 1679756580.749494 >> imagen.png\n",
      "####################################### RESULTADO DE COMANDO EJECUTADO #######################################\n",
      "##############################################################################################################\n",
      "\n",
      "############################################# COMANDO A EJECUTAR #############################################\n",
      "echo 1679756580.868952 >> main.py\n",
      "####################################### RESULTADO DE COMANDO EJECUTADO #######################################\n",
      "##############################################################################################################\n",
      "\n",
      "############################################# COMANDO A EJECUTAR #############################################\n",
      "echo 1679756580.977221 >> connection.java\n",
      "####################################### RESULTADO DE COMANDO EJECUTADO #######################################\n",
      "##############################################################################################################\n",
      "\n",
      "############################################# COMANDO A EJECUTAR #############################################\n",
      "echo 1679756581.088093 >> calculos.c\n",
      "####################################### RESULTADO DE COMANDO EJECUTADO #######################################\n",
      "##############################################################################################################\n",
      "\n",
      "############################################# COMANDO A EJECUTAR #############################################\n",
      "echo 1679756581.214557 >> addon.php\n",
      "####################################### RESULTADO DE COMANDO EJECUTADO #######################################\n",
      "##############################################################################################################\n",
      "\n",
      "############################################# COMANDO A EJECUTAR #############################################\n",
      "echo 1679756581.329397 >> utils.gif\n",
      "####################################### RESULTADO DE COMANDO EJECUTADO #######################################\n",
      "##############################################################################################################\n",
      "\n",
      "############################################# COMANDO A EJECUTAR #############################################\n",
      "echo 1679756581.448803 >> query.sql\n",
      "####################################### RESULTADO DE COMANDO EJECUTADO #######################################\n",
      "##############################################################################################################\n",
      "\n",
      "############################################# COMANDO A EJECUTAR #############################################\n",
      "echo 1679756581.564892 >> dataset.avro\n",
      "####################################### RESULTADO DE COMANDO EJECUTADO #######################################\n",
      "##############################################################################################################\n",
      "\n",
      "############################################# COMANDO A EJECUTAR #############################################\n",
      "echo 1679756581.686594 >> link.vs\n",
      "####################################### RESULTADO DE COMANDO EJECUTADO #######################################\n",
      "##############################################################################################################\n",
      "\n"
     ]
    },
    {
     "data": {
      "text/plain": [
       "['info.txt',\n",
       " 'Dockerfile',\n",
       " 'Manifest.yaml',\n",
       " 'imagen.png',\n",
       " 'main.py',\n",
       " 'connection.java',\n",
       " 'calculos.c',\n",
       " 'addon.php',\n",
       " 'utils.gif',\n",
       " 'query.sql',\n",
       " 'dataset.avro',\n",
       " 'link.vs']"
      ]
     },
     "execution_count": 22,
     "metadata": {},
     "output_type": "execute_result"
    }
   ],
   "source": [
    "nombre_rama_remota = 'main'\n",
    "generar_archivos()"
   ]
  },
  {
   "cell_type": "code",
   "execution_count": 23,
   "id": "9b405222-61c6-426f-8edf-49d83352b5cd",
   "metadata": {
    "tags": []
   },
   "outputs": [
    {
     "data": {
      "text/plain": [
       "\"Eliminacion Completada con Exito!!! de ['addon.php', 'archivo.csv', 'archivo.pdf', 'archivo.xlsx', 'calculos.c', 'config.json', 'connection.java', 'dataset.avro', 'Dockerfile', 'imagen.png', 'index.html', 'info.txt', 'LICENSE', 'link.vs', 'main.py', 'Manifest.yaml', 'query.sql', 'README.md', 'requirements.txt', 'utils.gif']\""
      ]
     },
     "execution_count": 23,
     "metadata": {},
     "output_type": "execute_result"
    }
   ],
   "source": [
    "eliminar_archivos_directorio()"
   ]
  },
  {
   "cell_type": "markdown",
   "id": "ec2b7910-181d-4ad4-a3b9-85fe48458802",
   "metadata": {},
   "source": [
    "### RESTAURAR UN ARCHIVO ESPECIFICO"
   ]
  },
  {
   "cell_type": "code",
   "execution_count": 24,
   "id": "c18daf65-8f3e-428b-908a-1d2f6369052a",
   "metadata": {
    "tags": []
   },
   "outputs": [
    {
     "name": "stdout",
     "output_type": "stream",
     "text": [
      "############################################# COMANDO A EJECUTAR #############################################\n",
      "git restore LICENSE\n",
      "####################################### RESULTADO DE COMANDO EJECUTADO #######################################\n",
      "##############################################################################################################\n",
      "\n"
     ]
    }
   ],
   "source": [
    "comando = 'git restore LICENSE'\n",
    "ejecutar_comando_git(comando)"
   ]
  },
  {
   "cell_type": "markdown",
   "id": "8874b7b6-3f5e-4d30-89b7-1e105bef1b3e",
   "metadata": {},
   "source": [
    "### RESTAURAR TODOS LOS ARCHIVOS AL MISMO TIEMPO"
   ]
  },
  {
   "cell_type": "code",
   "execution_count": 25,
   "id": "39858306-067e-4400-84ef-5d07916e6dcf",
   "metadata": {
    "tags": []
   },
   "outputs": [
    {
     "name": "stdout",
     "output_type": "stream",
     "text": [
      "############################################# COMANDO A EJECUTAR #############################################\n",
      "git restore .\n",
      "####################################### RESULTADO DE COMANDO EJECUTADO #######################################\n",
      "##############################################################################################################\n",
      "\n"
     ]
    }
   ],
   "source": [
    "comando = 'git restore .'\n",
    "ejecutar_comando_git(comando)"
   ]
  },
  {
   "cell_type": "markdown",
   "id": "814b933e-bd2e-405e-9381-2da85a675511",
   "metadata": {},
   "source": [
    "# <center> VERIFICAR EL ESTADO DE LOS ARCHIVOS EN UN REPOSITORIO GIT</center>"
   ]
  },
  {
   "cell_type": "code",
   "execution_count": 26,
   "id": "4f9c3883-9b2e-4bb5-a8b8-eb33901a3bed",
   "metadata": {
    "scrolled": true,
    "tags": []
   },
   "outputs": [
    {
     "name": "stdout",
     "output_type": "stream",
     "text": [
      "lista_de_archivos = ['info.txt', 'Dockerfile', 'Manifest.yaml', 'imagen.png', 'main.py', 'connection.java', 'calculos.c', 'addon.php', 'utils.gif', 'query.sql', 'dataset.avro', 'link.vs']\n",
      "############################################# COMANDO A EJECUTAR #############################################\n",
      "echo 1679756583.943364 >> info.txt\n",
      "####################################### RESULTADO DE COMANDO EJECUTADO #######################################\n",
      "##############################################################################################################\n",
      "\n",
      "############################################# COMANDO A EJECUTAR #############################################\n",
      "echo 1679756584.064789 >> Dockerfile\n",
      "####################################### RESULTADO DE COMANDO EJECUTADO #######################################\n",
      "##############################################################################################################\n",
      "\n",
      "############################################# COMANDO A EJECUTAR #############################################\n",
      "echo 1679756584.188005 >> Manifest.yaml\n",
      "####################################### RESULTADO DE COMANDO EJECUTADO #######################################\n",
      "##############################################################################################################\n",
      "\n",
      "############################################# COMANDO A EJECUTAR #############################################\n",
      "echo 1679756584.314425 >> imagen.png\n",
      "####################################### RESULTADO DE COMANDO EJECUTADO #######################################\n",
      "##############################################################################################################\n",
      "\n",
      "############################################# COMANDO A EJECUTAR #############################################\n",
      "echo 1679756584.433799 >> main.py\n",
      "####################################### RESULTADO DE COMANDO EJECUTADO #######################################\n",
      "##############################################################################################################\n",
      "\n",
      "############################################# COMANDO A EJECUTAR #############################################\n",
      "echo 1679756584.551357 >> connection.java\n",
      "####################################### RESULTADO DE COMANDO EJECUTADO #######################################\n",
      "##############################################################################################################\n",
      "\n",
      "############################################# COMANDO A EJECUTAR #############################################\n",
      "echo 1679756584.685021 >> calculos.c\n",
      "####################################### RESULTADO DE COMANDO EJECUTADO #######################################\n",
      "##############################################################################################################\n",
      "\n",
      "############################################# COMANDO A EJECUTAR #############################################\n",
      "echo 1679756584.807513 >> addon.php\n",
      "####################################### RESULTADO DE COMANDO EJECUTADO #######################################\n",
      "##############################################################################################################\n",
      "\n",
      "############################################# COMANDO A EJECUTAR #############################################\n",
      "echo 1679756584.932844 >> utils.gif\n",
      "####################################### RESULTADO DE COMANDO EJECUTADO #######################################\n",
      "##############################################################################################################\n",
      "\n",
      "############################################# COMANDO A EJECUTAR #############################################\n",
      "echo 1679756585.049246 >> query.sql\n",
      "####################################### RESULTADO DE COMANDO EJECUTADO #######################################\n",
      "##############################################################################################################\n",
      "\n",
      "############################################# COMANDO A EJECUTAR #############################################\n",
      "echo 1679756585.168426 >> dataset.avro\n",
      "####################################### RESULTADO DE COMANDO EJECUTADO #######################################\n",
      "##############################################################################################################\n",
      "\n",
      "############################################# COMANDO A EJECUTAR #############################################\n",
      "echo 1679756585.288471 >> link.vs\n",
      "####################################### RESULTADO DE COMANDO EJECUTADO #######################################\n",
      "##############################################################################################################\n",
      "\n"
     ]
    },
    {
     "data": {
      "text/plain": [
       "['info.txt',\n",
       " 'Dockerfile',\n",
       " 'Manifest.yaml',\n",
       " 'imagen.png',\n",
       " 'main.py',\n",
       " 'connection.java',\n",
       " 'calculos.c',\n",
       " 'addon.php',\n",
       " 'utils.gif',\n",
       " 'query.sql',\n",
       " 'dataset.avro',\n",
       " 'link.vs']"
      ]
     },
     "execution_count": 26,
     "metadata": {},
     "output_type": "execute_result"
    }
   ],
   "source": [
    "generar_archivos()"
   ]
  },
  {
   "cell_type": "code",
   "execution_count": 27,
   "id": "8276d8a7-f83e-45b3-9293-fdbe43754c8f",
   "metadata": {
    "tags": []
   },
   "outputs": [
    {
     "name": "stdout",
     "output_type": "stream",
     "text": [
      "############################################# COMANDO A EJECUTAR #############################################\n",
      "git status\n",
      "####################################### RESULTADO DE COMANDO EJECUTADO #######################################\n",
      "On branch multi_commits_copia\n",
      "Your branch is up to date with 'origin/multi_commits'.\n",
      "\n",
      "Untracked files:\n",
      "  (use \"git add <file>...\" to include in what will be committed)\n",
      "\tDockerfile\n",
      "\tManifest.yaml\n",
      "\taddon.php\n",
      "\tcalculos.c\n",
      "\tconnection.java\n",
      "\tdataset.avro\n",
      "\timagen.png\n",
      "\tinfo.txt\n",
      "\tlink.vs\n",
      "\tmain.py\n",
      "\tquery.sql\n",
      "\tutils.gif\n",
      "\n",
      "nothing added to commit but untracked files present (use \"git add\" to track)\n",
      "##############################################################################################################\n",
      "\n"
     ]
    }
   ],
   "source": [
    "comando = 'git status'\n",
    "ejecutar_comando_git(comando)"
   ]
  },
  {
   "cell_type": "markdown",
   "id": "66ee16b9-d63f-49be-bec7-c2bcff0c3534",
   "metadata": {},
   "source": [
    "# <center> AGREGAR CAMBIOS DE ARCHIVOS A UN REPOSITORIO GIT</center>"
   ]
  },
  {
   "cell_type": "markdown",
   "id": "2b46c004-d7b1-40f1-b3b6-c53df14bddbd",
   "metadata": {},
   "source": [
    "### AGREGAR EL CAMBIO DE UN ARCHIVO O UN SOLO ARCHIVO NUEVO"
   ]
  },
  {
   "cell_type": "code",
   "execution_count": 28,
   "id": "f2b9f474-f56e-4d23-a5ee-574736d4e663",
   "metadata": {
    "tags": []
   },
   "outputs": [
    {
     "name": "stdout",
     "output_type": "stream",
     "text": [
      "############################################# COMANDO A EJECUTAR #############################################\n",
      "git add info.txt\n",
      "####################################### RESULTADO DE COMANDO EJECUTADO #######################################\n",
      "##############################################################################################################\n",
      "\n",
      "############################################# COMANDO A EJECUTAR #############################################\n",
      "git status\n",
      "####################################### RESULTADO DE COMANDO EJECUTADO #######################################\n",
      "On branch multi_commits_copia\n",
      "Your branch is up to date with 'origin/multi_commits'.\n",
      "\n",
      "Changes to be committed:\n",
      "  (use \"git restore --staged <file>...\" to unstage)\n",
      "\tnew file:   info.txt\n",
      "\n",
      "Untracked files:\n",
      "  (use \"git add <file>...\" to include in what will be committed)\n",
      "\tDockerfile\n",
      "\tManifest.yaml\n",
      "\taddon.php\n",
      "\tcalculos.c\n",
      "\tconnection.java\n",
      "\tdataset.avro\n",
      "\timagen.png\n",
      "\tlink.vs\n",
      "\tmain.py\n",
      "\tquery.sql\n",
      "\tutils.gif\n",
      "\n",
      "##############################################################################################################\n",
      "\n"
     ]
    }
   ],
   "source": [
    "comando = 'git add info.txt'\n",
    "ejecutar_comando_git(comando)\n",
    "\n",
    "comando = 'git status'\n",
    "ejecutar_comando_git(comando)"
   ]
  },
  {
   "cell_type": "markdown",
   "id": "c2231766-2b96-4e76-8d7a-421fbb4fb60e",
   "metadata": {},
   "source": [
    "### AGREGAR LOS CAMBIOS DE TODOS LOS ARCHIVOS O TODOS LOS CAMBIOS Y ARCHIVOS NUEVOS"
   ]
  },
  {
   "cell_type": "code",
   "execution_count": 29,
   "id": "7eb80289-128b-4a26-a9e8-d699ad902b03",
   "metadata": {
    "tags": []
   },
   "outputs": [
    {
     "name": "stdout",
     "output_type": "stream",
     "text": [
      "############################################# COMANDO A EJECUTAR #############################################\n",
      "git add .\n",
      "####################################### RESULTADO DE COMANDO EJECUTADO #######################################\n",
      "##############################################################################################################\n",
      "\n",
      "############################################# COMANDO A EJECUTAR #############################################\n",
      "git status\n",
      "####################################### RESULTADO DE COMANDO EJECUTADO #######################################\n",
      "On branch multi_commits_copia\n",
      "Your branch is up to date with 'origin/multi_commits'.\n",
      "\n",
      "Changes to be committed:\n",
      "  (use \"git restore --staged <file>...\" to unstage)\n",
      "\tnew file:   Dockerfile\n",
      "\tnew file:   Manifest.yaml\n",
      "\tnew file:   addon.php\n",
      "\tnew file:   calculos.c\n",
      "\tnew file:   connection.java\n",
      "\tnew file:   dataset.avro\n",
      "\tnew file:   imagen.png\n",
      "\tnew file:   info.txt\n",
      "\tnew file:   link.vs\n",
      "\tnew file:   main.py\n",
      "\tnew file:   query.sql\n",
      "\tnew file:   utils.gif\n",
      "\n",
      "##############################################################################################################\n",
      "\n",
      "############################################# COMANDO A EJECUTAR #############################################\n",
      "git branch\n",
      "####################################### RESULTADO DE COMANDO EJECUTADO #######################################\n",
      "  main\n",
      "  multi_commits\n",
      "* multi_commits_copia\n",
      "  nueva_rama_renombrada\n",
      "  rama_acceso_rapido_renombrada\n",
      "##############################################################################################################\n",
      "\n"
     ]
    }
   ],
   "source": [
    "comando = 'git add .'\n",
    "ejecutar_comando_git(comando)\n",
    "\n",
    "comando = 'git status'\n",
    "ejecutar_comando_git(comando)\n",
    "\n",
    "ejecutar_comando_shell()"
   ]
  },
  {
   "cell_type": "markdown",
   "id": "151676ec-6f24-4bcb-a062-cc51a6827469",
   "metadata": {},
   "source": [
    "# <center> HACER COMMIT A UN REPOSITORIO GIT</center>"
   ]
  },
  {
   "cell_type": "code",
   "execution_count": 30,
   "id": "a8fa9105-e039-4f97-b7b5-837f1d154711",
   "metadata": {
    "tags": []
   },
   "outputs": [
    {
     "name": "stdout",
     "output_type": "stream",
     "text": [
      "############################################# COMANDO A EJECUTAR #############################################\n",
      "git commit -m \"adicionados archivo de prueba\"\n",
      "####################################### RESULTADO DE COMANDO EJECUTADO #######################################\n",
      "[multi_commits_copia 92cb743] adicionados archivo de prueba\n",
      " 12 files changed, 12 insertions(+)\n",
      " create mode 100644 Dockerfile\n",
      " create mode 100644 Manifest.yaml\n",
      " create mode 100644 addon.php\n",
      " create mode 100644 calculos.c\n",
      " create mode 100644 connection.java\n",
      " create mode 100644 dataset.avro\n",
      " create mode 100644 imagen.png\n",
      " create mode 100644 info.txt\n",
      " create mode 100644 link.vs\n",
      " create mode 100644 main.py\n",
      " create mode 100644 query.sql\n",
      " create mode 100644 utils.gif\n",
      "##############################################################################################################\n",
      "\n",
      "############################################# COMANDO A EJECUTAR #############################################\n",
      "git status\n",
      "####################################### RESULTADO DE COMANDO EJECUTADO #######################################\n",
      "On branch multi_commits_copia\n",
      "Your branch is ahead of 'origin/multi_commits' by 1 commit.\n",
      "  (use \"git push\" to publish your local commits)\n",
      "\n",
      "nothing to commit, working tree clean\n",
      "##############################################################################################################\n",
      "\n"
     ]
    }
   ],
   "source": [
    "# solo en este paso, al hacer el primer commit se crea la rama\n",
    "comando = 'git commit -m \"adicionados archivo de prueba\"'\n",
    "ejecutar_comando_git(comando)\n",
    "        \n",
    "comando = 'git status'\n",
    "ejecutar_comando_git(comando)"
   ]
  },
  {
   "cell_type": "markdown",
   "id": "3fac4a59-2441-43ec-8a45-8491b8d9d557",
   "metadata": {},
   "source": [
    "# <center> PUBLICAR UNA RAMA LOCAL QUE NO EXISTE EN REMOTO A UN REPOSITORIO GIT <br>https://github.com/JorgeCardona/comandos_git</br> </center>\n"
   ]
  },
  {
   "cell_type": "code",
   "execution_count": 31,
   "id": "ebb1e80d-c652-4946-9c88-f50578118fd6",
   "metadata": {
    "tags": []
   },
   "outputs": [
    {
     "name": "stdout",
     "output_type": "stream",
     "text": [
      "############################################# COMANDO A EJECUTAR #############################################\n",
      "git push --set-upstream origin multi_commits_copia\n",
      "####################################### RESULTADO DE COMANDO EJECUTADO #######################################\n",
      "Branch 'multi_commits_copia' set up to track remote branch 'multi_commits_copia' from 'origin'.\n",
      "##############################################################################################################\n",
      "\n",
      "############################################# COMANDO A EJECUTAR #############################################\n",
      "git branch -a\n",
      "####################################### RESULTADO DE COMANDO EJECUTADO #######################################\n",
      "  main\n",
      "  multi_commits\n",
      "* multi_commits_copia\n",
      "  nueva_rama_renombrada\n",
      "  rama_acceso_rapido_renombrada\n",
      "  remotes/origin/HEAD -> origin/main\n",
      "  remotes/origin/commit_branch\n",
      "  remotes/origin/main\n",
      "  remotes/origin/multi_commits\n",
      "  remotes/origin/multi_commits_copia\n",
      "##############################################################################################################\n",
      "\n"
     ]
    }
   ],
   "source": [
    "comando = 'git push --set-upstream origin {copia_rama_remota}'.format(copia_rama_remota=copia_rama_remota)\n",
    "ejecutar_comando_git(comando)\n",
    "\n",
    "comando = 'git branch -a'\n",
    "ejecutar_comando_git(comando)"
   ]
  },
  {
   "cell_type": "markdown",
   "id": "f940966c-8f73-4224-907b-8360e3b8f599",
   "metadata": {},
   "source": [
    "# <center> ADICIONAR ARCHIVOS NUEVOS A LA RAMA</center>"
   ]
  },
  {
   "cell_type": "code",
   "execution_count": 32,
   "id": "2e71c11d-b2be-4529-9051-9f436105412d",
   "metadata": {
    "scrolled": true,
    "tags": []
   },
   "outputs": [
    {
     "name": "stdout",
     "output_type": "stream",
     "text": [
      "lista_de_archivos = ['info.txt', 'Dockerfile', 'Manifest.yaml', 'imagen.png', 'main.py', 'connection.java', 'calculos.c', 'addon.php', 'utils.gif', 'query.sql', 'dataset.avro', 'link.vs']\n",
      "############################################# COMANDO A EJECUTAR #############################################\n",
      "echo 1679756592.993514 >> info.txt\n",
      "####################################### RESULTADO DE COMANDO EJECUTADO #######################################\n",
      "##############################################################################################################\n",
      "\n",
      "############################################# COMANDO A EJECUTAR #############################################\n",
      "echo 1679756593.116889 >> Dockerfile\n",
      "####################################### RESULTADO DE COMANDO EJECUTADO #######################################\n",
      "##############################################################################################################\n",
      "\n",
      "############################################# COMANDO A EJECUTAR #############################################\n",
      "echo 1679756593.231593 >> Manifest.yaml\n",
      "####################################### RESULTADO DE COMANDO EJECUTADO #######################################\n",
      "##############################################################################################################\n",
      "\n",
      "############################################# COMANDO A EJECUTAR #############################################\n",
      "echo 1679756593.351241 >> imagen.png\n",
      "####################################### RESULTADO DE COMANDO EJECUTADO #######################################\n",
      "##############################################################################################################\n",
      "\n",
      "############################################# COMANDO A EJECUTAR #############################################\n",
      "echo 1679756593.467186 >> main.py\n",
      "####################################### RESULTADO DE COMANDO EJECUTADO #######################################\n",
      "##############################################################################################################\n",
      "\n",
      "############################################# COMANDO A EJECUTAR #############################################\n",
      "echo 1679756593.587616 >> connection.java\n",
      "####################################### RESULTADO DE COMANDO EJECUTADO #######################################\n",
      "##############################################################################################################\n",
      "\n",
      "############################################# COMANDO A EJECUTAR #############################################\n",
      "echo 1679756593.712196 >> calculos.c\n",
      "####################################### RESULTADO DE COMANDO EJECUTADO #######################################\n",
      "##############################################################################################################\n",
      "\n",
      "############################################# COMANDO A EJECUTAR #############################################\n",
      "echo 1679756593.838199 >> addon.php\n",
      "####################################### RESULTADO DE COMANDO EJECUTADO #######################################\n",
      "##############################################################################################################\n",
      "\n",
      "############################################# COMANDO A EJECUTAR #############################################\n",
      "echo 1679756593.949575 >> utils.gif\n",
      "####################################### RESULTADO DE COMANDO EJECUTADO #######################################\n",
      "##############################################################################################################\n",
      "\n",
      "############################################# COMANDO A EJECUTAR #############################################\n",
      "echo 1679756594.067501 >> query.sql\n",
      "####################################### RESULTADO DE COMANDO EJECUTADO #######################################\n",
      "##############################################################################################################\n",
      "\n",
      "############################################# COMANDO A EJECUTAR #############################################\n",
      "echo 1679756594.18449 >> dataset.avro\n",
      "####################################### RESULTADO DE COMANDO EJECUTADO #######################################\n",
      "##############################################################################################################\n",
      "\n",
      "############################################# COMANDO A EJECUTAR #############################################\n",
      "echo 1679756594.311493 >> link.vs\n",
      "####################################### RESULTADO DE COMANDO EJECUTADO #######################################\n",
      "##############################################################################################################\n",
      "\n"
     ]
    },
    {
     "data": {
      "text/plain": [
       "['info.txt',\n",
       " 'Dockerfile',\n",
       " 'Manifest.yaml',\n",
       " 'imagen.png',\n",
       " 'main.py',\n",
       " 'connection.java',\n",
       " 'calculos.c',\n",
       " 'addon.php',\n",
       " 'utils.gif',\n",
       " 'query.sql',\n",
       " 'dataset.avro',\n",
       " 'link.vs']"
      ]
     },
     "execution_count": 32,
     "metadata": {},
     "output_type": "execute_result"
    }
   ],
   "source": [
    "generar_archivos()"
   ]
  },
  {
   "cell_type": "markdown",
   "id": "4a76c160-71f3-4614-9623-47db78fafc0d",
   "metadata": {},
   "source": [
    "# SUBIR NUEVOS ARCHIVOS A UNA RAMA DEL REPOSITORIO  <br>https://github.com/JorgeCardona/comandos_git</br> "
   ]
  },
  {
   "cell_type": "code",
   "execution_count": 33,
   "id": "7ee35dc3-1d4b-4dee-8e4f-2d048d5b78e6",
   "metadata": {
    "scrolled": true,
    "tags": []
   },
   "outputs": [
    {
     "name": "stdout",
     "output_type": "stream",
     "text": [
      "############################################# COMANDO A EJECUTAR #############################################\n",
      "git add .\n",
      "####################################### RESULTADO DE COMANDO EJECUTADO #######################################\n",
      "##############################################################################################################\n",
      "\n",
      "############################################# COMANDO A EJECUTAR #############################################\n",
      "git commit -m \"adicionados archivos nuevos\"\n",
      "####################################### RESULTADO DE COMANDO EJECUTADO #######################################\n",
      "[multi_commits_copia cf44112] adicionados archivos nuevos\n",
      " 12 files changed, 12 insertions(+)\n",
      "##############################################################################################################\n",
      "\n",
      "############################################# COMANDO A EJECUTAR #############################################\n",
      "git status\n",
      "####################################### RESULTADO DE COMANDO EJECUTADO #######################################\n",
      "On branch multi_commits_copia\n",
      "Your branch is ahead of 'origin/multi_commits_copia' by 1 commit.\n",
      "  (use \"git push\" to publish your local commits)\n",
      "\n",
      "nothing to commit, working tree clean\n",
      "##############################################################################################################\n",
      "\n",
      "############################################# COMANDO A EJECUTAR #############################################\n",
      "git branch\n",
      "####################################### RESULTADO DE COMANDO EJECUTADO #######################################\n",
      "  main\n",
      "  multi_commits\n",
      "* multi_commits_copia\n",
      "  nueva_rama_renombrada\n",
      "  rama_acceso_rapido_renombrada\n",
      "##############################################################################################################\n",
      "\n"
     ]
    }
   ],
   "source": [
    "comando = 'git add .'\n",
    "ejecutar_comando_git(comando)\n",
    "\n",
    "comando = 'git commit -m \"adicionados archivos nuevos\"'\n",
    "ejecutar_comando_git(comando)\n",
    "\n",
    "comando = 'git status'\n",
    "ejecutar_comando_git(comando)\n",
    "\n",
    "ejecutar_comando_shell()"
   ]
  },
  {
   "cell_type": "code",
   "execution_count": 34,
   "id": "00154781-f37b-42d5-9ce0-334b0c479d0c",
   "metadata": {},
   "outputs": [
    {
     "name": "stdout",
     "output_type": "stream",
     "text": [
      "############################################# COMANDO A EJECUTAR #############################################\n",
      "git push origin\n",
      "####################################### RESULTADO DE COMANDO EJECUTADO #######################################\n",
      "##############################################################################################################\n",
      "\n"
     ]
    }
   ],
   "source": [
    "# siempre origin para repositorios remotos\n",
    "comando = 'git push origin'\n",
    "ejecutar_comando_git(comando)"
   ]
  },
  {
   "cell_type": "markdown",
   "id": "96b4bb4e-23c3-4fa4-90b5-61f1cffe772d",
   "metadata": {},
   "source": [
    "# <center> ELIMINAR UNA RAMA DE UN REPOSITORIO GIT</center>"
   ]
  },
  {
   "cell_type": "markdown",
   "id": "8a021d6c-c862-4741-b654-f2f960d35106",
   "metadata": {},
   "source": [
    "## ELIMINAR RAMA DE UN REPOSITORIO LOCAL"
   ]
  },
  {
   "cell_type": "code",
   "execution_count": 35,
   "id": "c2055b11-7dd8-4bf6-aea4-d471de329e35",
   "metadata": {
    "scrolled": true,
    "tags": []
   },
   "outputs": [
    {
     "name": "stdout",
     "output_type": "stream",
     "text": [
      "############################################# COMANDO A EJECUTAR #############################################\n",
      "git checkout main\n",
      "####################################### RESULTADO DE COMANDO EJECUTADO #######################################\n",
      "Your branch is up to date with 'origin/main'.\n",
      "##############################################################################################################\n",
      "\n",
      "############################################# COMANDO A EJECUTAR #############################################\n",
      "git branch -D nueva_rama_renombrada\n",
      "####################################### RESULTADO DE COMANDO EJECUTADO #######################################\n",
      "Deleted branch nueva_rama_renombrada (was 3b4edb5).\n",
      "##############################################################################################################\n",
      "\n",
      "############################################# COMANDO A EJECUTAR #############################################\n",
      "git branch -D rama_acceso_rapido_renombrada\n",
      "####################################### RESULTADO DE COMANDO EJECUTADO #######################################\n",
      "Deleted branch rama_acceso_rapido_renombrada (was 3b4edb5).\n",
      "##############################################################################################################\n",
      "\n",
      "############################################# COMANDO A EJECUTAR #############################################\n",
      "git branch -D multi_commits_copia\n",
      "####################################### RESULTADO DE COMANDO EJECUTADO #######################################\n",
      "Deleted branch multi_commits_copia (was cf44112).\n",
      "##############################################################################################################\n",
      "\n",
      "############################################# COMANDO A EJECUTAR #############################################\n",
      "git branch -a\n",
      "####################################### RESULTADO DE COMANDO EJECUTADO #######################################\n",
      "* main\n",
      "  multi_commits\n",
      "  remotes/origin/HEAD -> origin/main\n",
      "  remotes/origin/commit_branch\n",
      "  remotes/origin/main\n",
      "  remotes/origin/multi_commits\n",
      "  remotes/origin/multi_commits_copia\n",
      "##############################################################################################################\n",
      "\n"
     ]
    }
   ],
   "source": [
    "# no se puede eliminar una rama si se esta trabajando en ese monento en ella\n",
    "comando = 'git checkout main'\n",
    "ejecutar_comando_git(comando)\n",
    "\n",
    "ramas_a_eliminar = ['nueva_rama_renombrada','rama_acceso_rapido_renombrada',copia_rama_remota]\n",
    "\n",
    "# eliminar lista de ramas\n",
    "for rama in ramas_a_eliminar:\n",
    "\n",
    "    comando = 'git branch -D {rama}'.format(rama=rama)\n",
    "    ejecutar_comando_git(comando)\n",
    "\n",
    "comando = 'git branch -a'\n",
    "ejecutar_comando_git(comando)"
   ]
  },
  {
   "cell_type": "markdown",
   "id": "52ab69e2-a9cd-4315-9f9d-c2e8808801ee",
   "metadata": {},
   "source": [
    "## ELIMINAR RAMA DE UN REPOSITORIO REMOTO <br>https://github.com/JorgeCardona/comandos_git</br> "
   ]
  },
  {
   "cell_type": "code",
   "execution_count": 36,
   "id": "f8839285-d396-4d65-a3ef-c6a1aa2e76c4",
   "metadata": {
    "tags": []
   },
   "outputs": [
    {
     "name": "stdout",
     "output_type": "stream",
     "text": [
      "############################################# COMANDO A EJECUTAR #############################################\n",
      "git push origin -d multi_commits_copia\n",
      "####################################### RESULTADO DE COMANDO EJECUTADO #######################################\n",
      "##############################################################################################################\n",
      "\n",
      "############################################# COMANDO A EJECUTAR #############################################\n",
      "git branch -a\n",
      "####################################### RESULTADO DE COMANDO EJECUTADO #######################################\n",
      "* main\n",
      "  multi_commits\n",
      "  remotes/origin/HEAD -> origin/main\n",
      "  remotes/origin/commit_branch\n",
      "  remotes/origin/main\n",
      "  remotes/origin/multi_commits\n",
      "##############################################################################################################\n",
      "\n"
     ]
    }
   ],
   "source": [
    "comando = 'git push origin -d {copia_rama_remota}'.format(copia_rama_remota=copia_rama_remota)\n",
    "ejecutar_comando_git(comando)\n",
    "\n",
    "comando = 'git branch -a'\n",
    "ejecutar_comando_git(comando)"
   ]
  },
  {
   "cell_type": "markdown",
   "id": "996f0f29-8546-4312-a4d5-afa9aea7bad0",
   "metadata": {},
   "source": [
    "# <center> CREAR RAMA VACIA QUE NO ESTE RELACIONADA CON NINGUN CONTENIDO DE OTRA RAMA</center>\n",
    "<center>\n",
    "    <img width=\"100%\" align=\"center\" src=\"ciclo_de_vida_archuvo_git.png\">\n",
    "</center>\n",
    "\n",
    "### UNTRACKED - ES UN FICHERO NUEVO QUE SE HA CREADO Y GIT TODAVIA NO TIENE CONSTANCIA, NO HACE PARTE DE NINGUN COMMIT ANTERIOR\n",
    "### TRACKED - UNSTAGE -> FICHERO QUE HACE PARTE DE COMMITS ANTERIORES, HA SIDO MODIFICADO PERO TODAVIA NO SE HA ENVIADO AL AREA DE STAGING\n",
    "### TRACKED - STAGE -> SE REALIZO UN CAMBIO Y SE HA ENVIADO A LA ZONA STAGING (git add archivo)\n",
    "### TRACKED - COMMITED -> UN ARCHIVO QUE SE HA HECHO COMMIT Y QUE YA ESTA EN LA ZONA EL REPOSITORIO LOCAL (git commit -m 'archivo adicionado al repo local')"
   ]
  },
  {
   "cell_type": "markdown",
   "id": "d1a0e620-5acf-4b91-8045-629d4c033c8d",
   "metadata": {},
   "source": [
    "### CREA LA RAMA"
   ]
  },
  {
   "cell_type": "code",
   "execution_count": 138,
   "id": "4132ece2-f30e-4310-b013-807007387318",
   "metadata": {
    "scrolled": true,
    "tags": []
   },
   "outputs": [
    {
     "name": "stdout",
     "output_type": "stream",
     "text": [
      "############################################# COMANDO A EJECUTAR #############################################\n",
      "git switch --orphan utils\n",
      "####################################### RESULTADO DE COMANDO EJECUTADO #######################################\n",
      "##############################################################################################################\n",
      "\n",
      "############################################# COMANDO A EJECUTAR #############################################\n",
      "git branch -a\n",
      "####################################### RESULTADO DE COMANDO EJECUTADO #######################################\n",
      "  main\n",
      "  multi_commits\n",
      "  remotes/origin/HEAD -> origin/main\n",
      "  remotes/origin/commit_branch\n",
      "  remotes/origin/main\n",
      "  remotes/origin/multi_commits\n",
      "##############################################################################################################\n",
      "\n"
     ]
    }
   ],
   "source": [
    "rama = 'utils'\n",
    "comando = 'git switch --orphan {rama}'.format(rama=rama)\n",
    "ejecutar_comando_git(comando)\n",
    "\n",
    "comando = 'git branch -a'\n",
    "ejecutar_comando_git(comando)"
   ]
  },
  {
   "cell_type": "markdown",
   "id": "f8b005a4-a970-4d71-8893-67019bc76ca1",
   "metadata": {},
   "source": [
    "### CREA ARCHIVOS EN EL WORKING DIRECTORY"
   ]
  },
  {
   "cell_type": "code",
   "execution_count": 139,
   "id": "3d2dd581-e019-43ea-b540-b52484fec3eb",
   "metadata": {
    "scrolled": true,
    "tags": []
   },
   "outputs": [
    {
     "name": "stdout",
     "output_type": "stream",
     "text": [
      "lista_de_archivos = ['info.txt', 'Dockerfile', 'Manifest.yaml', 'imagen.png', 'main.py', 'connection.java', 'calculos.c', 'addon.php', 'utils.gif', 'query.sql', 'dataset.avro', 'link.vs']\n",
      "############################################# COMANDO A EJECUTAR #############################################\n",
      "echo 1679760210.225696 >> info.txt\n",
      "####################################### RESULTADO DE COMANDO EJECUTADO #######################################\n",
      "##############################################################################################################\n",
      "\n",
      "############################################# COMANDO A EJECUTAR #############################################\n",
      "echo 1679760210.344247 >> Dockerfile\n",
      "####################################### RESULTADO DE COMANDO EJECUTADO #######################################\n",
      "##############################################################################################################\n",
      "\n",
      "############################################# COMANDO A EJECUTAR #############################################\n",
      "echo 1679760210.458124 >> Manifest.yaml\n",
      "####################################### RESULTADO DE COMANDO EJECUTADO #######################################\n",
      "##############################################################################################################\n",
      "\n",
      "############################################# COMANDO A EJECUTAR #############################################\n",
      "echo 1679760210.576152 >> imagen.png\n",
      "####################################### RESULTADO DE COMANDO EJECUTADO #######################################\n",
      "##############################################################################################################\n",
      "\n",
      "############################################# COMANDO A EJECUTAR #############################################\n",
      "echo 1679760210.692905 >> main.py\n",
      "####################################### RESULTADO DE COMANDO EJECUTADO #######################################\n",
      "##############################################################################################################\n",
      "\n",
      "############################################# COMANDO A EJECUTAR #############################################\n",
      "echo 1679760210.810232 >> connection.java\n",
      "####################################### RESULTADO DE COMANDO EJECUTADO #######################################\n",
      "##############################################################################################################\n",
      "\n",
      "############################################# COMANDO A EJECUTAR #############################################\n",
      "echo 1679760210.921651 >> calculos.c\n",
      "####################################### RESULTADO DE COMANDO EJECUTADO #######################################\n",
      "##############################################################################################################\n",
      "\n",
      "############################################# COMANDO A EJECUTAR #############################################\n",
      "echo 1679760211.032156 >> addon.php\n",
      "####################################### RESULTADO DE COMANDO EJECUTADO #######################################\n",
      "##############################################################################################################\n",
      "\n",
      "############################################# COMANDO A EJECUTAR #############################################\n",
      "echo 1679760211.156525 >> utils.gif\n",
      "####################################### RESULTADO DE COMANDO EJECUTADO #######################################\n",
      "##############################################################################################################\n",
      "\n",
      "############################################# COMANDO A EJECUTAR #############################################\n",
      "echo 1679760211.26658 >> query.sql\n",
      "####################################### RESULTADO DE COMANDO EJECUTADO #######################################\n",
      "##############################################################################################################\n",
      "\n",
      "############################################# COMANDO A EJECUTAR #############################################\n",
      "echo 1679760211.3813 >> dataset.avro\n",
      "####################################### RESULTADO DE COMANDO EJECUTADO #######################################\n",
      "##############################################################################################################\n",
      "\n",
      "############################################# COMANDO A EJECUTAR #############################################\n",
      "echo 1679760211.496021 >> link.vs\n",
      "####################################### RESULTADO DE COMANDO EJECUTADO #######################################\n",
      "##############################################################################################################\n",
      "\n",
      "############################################# COMANDO A EJECUTAR #############################################\n",
      "git status\n",
      "####################################### RESULTADO DE COMANDO EJECUTADO #######################################\n",
      "On branch utils\n",
      "\n",
      "No commits yet\n",
      "\n",
      "Untracked files:\n",
      "  (use \"git add <file>...\" to include in what will be committed)\n",
      "\t.ipynb_checkpoints/\n",
      "\tDockerfile\n",
      "\tManifest.yaml\n",
      "\taddon.php\n",
      "\tcalculos.c\n",
      "\tconnection.java\n",
      "\tdataset.avro\n",
      "\timagen.png\n",
      "\tinfo.txt\n",
      "\tlink.vs\n",
      "\tmain.py\n",
      "\tquery.sql\n",
      "\tutils.gif\n",
      "\n",
      "nothing added to commit but untracked files present (use \"git add\" to track)\n",
      "##############################################################################################################\n",
      "\n"
     ]
    }
   ],
   "source": [
    "generar_archivos()\n",
    "\n",
    "comando = 'git status'\n",
    "ejecutar_comando_git(comando)"
   ]
  },
  {
   "cell_type": "markdown",
   "id": "f2173466-ee58-43a1-b126-a4c5fe530951",
   "metadata": {},
   "source": [
    "### ADICIONA LOS ARCHIVOS AL STAGE"
   ]
  },
  {
   "cell_type": "markdown",
   "id": "19452f13-c0b9-4aa3-893a-4e58434d2bde",
   "metadata": {
    "tags": []
   },
   "source": [
    "#### ADICIONA UN SOLO ARCHIVO AL STAGE"
   ]
  },
  {
   "cell_type": "code",
   "execution_count": 140,
   "id": "5ecbb553-070d-4c0e-ba1e-377655ab0d51",
   "metadata": {
    "tags": []
   },
   "outputs": [
    {
     "name": "stdout",
     "output_type": "stream",
     "text": [
      "############################################# COMANDO A EJECUTAR #############################################\n",
      "git add info.txt\n",
      "####################################### RESULTADO DE COMANDO EJECUTADO #######################################\n",
      "##############################################################################################################\n",
      "\n",
      "############################################# COMANDO A EJECUTAR #############################################\n",
      "git status\n",
      "####################################### RESULTADO DE COMANDO EJECUTADO #######################################\n",
      "On branch utils\n",
      "\n",
      "No commits yet\n",
      "\n",
      "Changes to be committed:\n",
      "  (use \"git rm --cached <file>...\" to unstage)\n",
      "\tnew file:   info.txt\n",
      "\n",
      "Untracked files:\n",
      "  (use \"git add <file>...\" to include in what will be committed)\n",
      "\t.ipynb_checkpoints/\n",
      "\tDockerfile\n",
      "\tManifest.yaml\n",
      "\taddon.php\n",
      "\tcalculos.c\n",
      "\tconnection.java\n",
      "\tdataset.avro\n",
      "\timagen.png\n",
      "\tlink.vs\n",
      "\tmain.py\n",
      "\tquery.sql\n",
      "\tutils.gif\n",
      "\n",
      "##############################################################################################################\n",
      "\n"
     ]
    }
   ],
   "source": [
    "comando = 'git add info.txt'\n",
    "ejecutar_comando_git(comando)\n",
    "\n",
    "comando = 'git status'\n",
    "ejecutar_comando_git(comando)"
   ]
  },
  {
   "cell_type": "markdown",
   "id": "e4677f4b-dc3b-49b8-bc38-ca2a4ca44304",
   "metadata": {},
   "source": [
    "#### ADICIONA TODOS LOS ARCHIVOS AL STAGE"
   ]
  },
  {
   "cell_type": "code",
   "execution_count": 141,
   "id": "19aee2b8-f005-4294-8290-3a9e1e0b61ae",
   "metadata": {
    "tags": []
   },
   "outputs": [
    {
     "name": "stdout",
     "output_type": "stream",
     "text": [
      "############################################# COMANDO A EJECUTAR #############################################\n",
      "git add .\n",
      "####################################### RESULTADO DE COMANDO EJECUTADO #######################################\n",
      "##############################################################################################################\n",
      "\n",
      "############################################# COMANDO A EJECUTAR #############################################\n",
      "git status\n",
      "####################################### RESULTADO DE COMANDO EJECUTADO #######################################\n",
      "On branch utils\n",
      "\n",
      "No commits yet\n",
      "\n",
      "Changes to be committed:\n",
      "  (use \"git rm --cached <file>...\" to unstage)\n",
      "\tnew file:   .ipynb_checkpoints/info-checkpoint.txt\n",
      "\tnew file:   Dockerfile\n",
      "\tnew file:   Manifest.yaml\n",
      "\tnew file:   addon.php\n",
      "\tnew file:   calculos.c\n",
      "\tnew file:   connection.java\n",
      "\tnew file:   dataset.avro\n",
      "\tnew file:   imagen.png\n",
      "\tnew file:   info.txt\n",
      "\tnew file:   link.vs\n",
      "\tnew file:   main.py\n",
      "\tnew file:   query.sql\n",
      "\tnew file:   utils.gif\n",
      "\n",
      "##############################################################################################################\n",
      "\n"
     ]
    }
   ],
   "source": [
    "comando = 'git add .'\n",
    "ejecutar_comando_git(comando)\n",
    "\n",
    "comando = 'git status'\n",
    "ejecutar_comando_git(comando)"
   ]
  },
  {
   "cell_type": "markdown",
   "id": "1efd1e66-7fdd-42f0-b284-ab8c1ee0695f",
   "metadata": {},
   "source": [
    "### ELIMINA LOS ARCHIVOS DEL STAGE Y LOS RETORNA AL WORKING DIRECTORY"
   ]
  },
  {
   "cell_type": "markdown",
   "id": "3f896439-2d2a-409d-8304-417e29ca24ba",
   "metadata": {},
   "source": [
    "#### ELIMINA UNO DE LOS ARCHIVOS DEL STAGE"
   ]
  },
  {
   "cell_type": "code",
   "execution_count": 142,
   "id": "e478337d-f08f-49ce-875a-3dfa722e0785",
   "metadata": {
    "tags": []
   },
   "outputs": [
    {
     "name": "stdout",
     "output_type": "stream",
     "text": [
      "############################################# COMANDO A EJECUTAR #############################################\n",
      "git rm --cached info.txt\n",
      "####################################### RESULTADO DE COMANDO EJECUTADO #######################################\n",
      "rm 'info.txt'\n",
      "##############################################################################################################\n",
      "\n",
      "############################################# COMANDO A EJECUTAR #############################################\n",
      "git status\n",
      "####################################### RESULTADO DE COMANDO EJECUTADO #######################################\n",
      "On branch utils\n",
      "\n",
      "No commits yet\n",
      "\n",
      "Changes to be committed:\n",
      "  (use \"git rm --cached <file>...\" to unstage)\n",
      "\tnew file:   .ipynb_checkpoints/info-checkpoint.txt\n",
      "\tnew file:   Dockerfile\n",
      "\tnew file:   Manifest.yaml\n",
      "\tnew file:   addon.php\n",
      "\tnew file:   calculos.c\n",
      "\tnew file:   connection.java\n",
      "\tnew file:   dataset.avro\n",
      "\tnew file:   imagen.png\n",
      "\tnew file:   link.vs\n",
      "\tnew file:   main.py\n",
      "\tnew file:   query.sql\n",
      "\tnew file:   utils.gif\n",
      "\n",
      "Untracked files:\n",
      "  (use \"git add <file>...\" to include in what will be committed)\n",
      "\tinfo.txt\n",
      "\n",
      "##############################################################################################################\n",
      "\n"
     ]
    }
   ],
   "source": [
    "comando = 'git rm --cached info.txt'\n",
    "ejecutar_comando_git(comando)\n",
    "\n",
    "comando = 'git status'\n",
    "ejecutar_comando_git(comando)"
   ]
  },
  {
   "cell_type": "markdown",
   "id": "0546a7cb-fea1-4ddf-9987-b9c8be18f814",
   "metadata": {},
   "source": [
    "#### ELIMINA TODOS DE LOS ARCHIVOS DEL STAGE"
   ]
  },
  {
   "cell_type": "code",
   "execution_count": 143,
   "id": "7ec0d92f-89d5-4d03-9561-1925c22e571b",
   "metadata": {
    "tags": []
   },
   "outputs": [
    {
     "name": "stdout",
     "output_type": "stream",
     "text": [
      "############################################# COMANDO A EJECUTAR #############################################\n",
      "git rm --cached \"*\"\n",
      "####################################### RESULTADO DE COMANDO EJECUTADO #######################################\n",
      "rm '.ipynb_checkpoints/info-checkpoint.txt'\n",
      "rm 'Dockerfile'\n",
      "rm 'Manifest.yaml'\n",
      "rm 'addon.php'\n",
      "rm 'calculos.c'\n",
      "rm 'connection.java'\n",
      "rm 'dataset.avro'\n",
      "rm 'imagen.png'\n",
      "rm 'link.vs'\n",
      "rm 'main.py'\n",
      "rm 'query.sql'\n",
      "rm 'utils.gif'\n",
      "##############################################################################################################\n",
      "\n",
      "############################################# COMANDO A EJECUTAR #############################################\n",
      "git status\n",
      "####################################### RESULTADO DE COMANDO EJECUTADO #######################################\n",
      "On branch utils\n",
      "\n",
      "No commits yet\n",
      "\n",
      "Untracked files:\n",
      "  (use \"git add <file>...\" to include in what will be committed)\n",
      "\t.ipynb_checkpoints/\n",
      "\tDockerfile\n",
      "\tManifest.yaml\n",
      "\taddon.php\n",
      "\tcalculos.c\n",
      "\tconnection.java\n",
      "\tdataset.avro\n",
      "\timagen.png\n",
      "\tinfo.txt\n",
      "\tlink.vs\n",
      "\tmain.py\n",
      "\tquery.sql\n",
      "\tutils.gif\n",
      "\n",
      "nothing added to commit but untracked files present (use \"git add\" to track)\n",
      "##############################################################################################################\n",
      "\n"
     ]
    }
   ],
   "source": [
    "comando = 'git rm --cached \"*\"'\n",
    "ejecutar_comando_git(comando)\n",
    "\n",
    "comando = 'git status'\n",
    "ejecutar_comando_git(comando)"
   ]
  },
  {
   "cell_type": "markdown",
   "id": "bf37b341-bf57-4a2d-9a2e-e99b1b9a6644",
   "metadata": {},
   "source": [
    "## ELIMINA TODOS LOS ARCHIVOS UNTRACKED DEL WORKING DIRECTORY"
   ]
  },
  {
   "cell_type": "markdown",
   "id": "eba4a492-d4cc-4ad1-a1df-722d7a71574c",
   "metadata": {
    "tags": []
   },
   "source": [
    "#### ADICIONA ARCHIVOS Y CREA EL COMMIT"
   ]
  },
  {
   "cell_type": "code",
   "execution_count": 144,
   "id": "699ffe14-b407-482a-8927-2b251b6ff7b4",
   "metadata": {
    "scrolled": true,
    "tags": []
   },
   "outputs": [
    {
     "name": "stdout",
     "output_type": "stream",
     "text": [
      "############################################# COMANDO A EJECUTAR #############################################\n",
      "git add info.txt\n",
      "####################################### RESULTADO DE COMANDO EJECUTADO #######################################\n",
      "##############################################################################################################\n",
      "\n",
      "############################################# COMANDO A EJECUTAR #############################################\n",
      "git status\n",
      "####################################### RESULTADO DE COMANDO EJECUTADO #######################################\n",
      "On branch utils\n",
      "\n",
      "No commits yet\n",
      "\n",
      "Changes to be committed:\n",
      "  (use \"git rm --cached <file>...\" to unstage)\n",
      "\tnew file:   info.txt\n",
      "\n",
      "Untracked files:\n",
      "  (use \"git add <file>...\" to include in what will be committed)\n",
      "\t.ipynb_checkpoints/\n",
      "\tDockerfile\n",
      "\tManifest.yaml\n",
      "\taddon.php\n",
      "\tcalculos.c\n",
      "\tconnection.java\n",
      "\tdataset.avro\n",
      "\timagen.png\n",
      "\tlink.vs\n",
      "\tmain.py\n",
      "\tquery.sql\n",
      "\tutils.gif\n",
      "\n",
      "##############################################################################################################\n",
      "\n",
      "############################################# COMANDO A EJECUTAR #############################################\n",
      "git commit -m \"adicionado archivo INFO.txt\"\n",
      "####################################### RESULTADO DE COMANDO EJECUTADO #######################################\n",
      "[utils (root-commit) 7c61c1b] adicionado archivo INFO.txt\n",
      " 1 file changed, 1 insertion(+)\n",
      " create mode 100644 info.txt\n",
      "##############################################################################################################\n",
      "\n",
      "############################################# COMANDO A EJECUTAR #############################################\n",
      "git status\n",
      "####################################### RESULTADO DE COMANDO EJECUTADO #######################################\n",
      "On branch utils\n",
      "Untracked files:\n",
      "  (use \"git add <file>...\" to include in what will be committed)\n",
      "\t.ipynb_checkpoints/\n",
      "\tDockerfile\n",
      "\tManifest.yaml\n",
      "\taddon.php\n",
      "\tcalculos.c\n",
      "\tconnection.java\n",
      "\tdataset.avro\n",
      "\timagen.png\n",
      "\tlink.vs\n",
      "\tmain.py\n",
      "\tquery.sql\n",
      "\tutils.gif\n",
      "\n",
      "nothing added to commit but untracked files present (use \"git add\" to track)\n",
      "##############################################################################################################\n",
      "\n"
     ]
    }
   ],
   "source": [
    "comando = 'git add info.txt'\n",
    "ejecutar_comando_git(comando)\n",
    "\n",
    "comando = 'git status'\n",
    "ejecutar_comando_git(comando)\n",
    "\n",
    "comando = 'git commit -m \"adicionado archivo INFO.txt\"'\n",
    "ejecutar_comando_git(comando)\n",
    "\n",
    "comando = 'git status'\n",
    "ejecutar_comando_git(comando)"
   ]
  },
  {
   "cell_type": "markdown",
   "id": "2c5b1fb1-f93b-4708-ad00-0aa377a7f0c2",
   "metadata": {
    "tags": []
   },
   "source": [
    "#### ELIMINA TODOS LOS ARCHIVOS UNTRACKED DEL WORKING DIRECTORY"
   ]
  },
  {
   "cell_type": "code",
   "execution_count": 145,
   "id": "7995d0a7-af0d-4b4a-b010-3cd9141d56bc",
   "metadata": {
    "tags": []
   },
   "outputs": [
    {
     "name": "stdout",
     "output_type": "stream",
     "text": [
      "############################################# COMANDO A EJECUTAR #############################################\n",
      "git clean -f\n",
      "####################################### RESULTADO DE COMANDO EJECUTADO #######################################\n",
      "Removing Dockerfile\n",
      "Removing Manifest.yaml\n",
      "Removing addon.php\n",
      "Removing calculos.c\n",
      "Removing connection.java\n",
      "Removing dataset.avro\n",
      "Removing imagen.png\n",
      "Removing link.vs\n",
      "Removing main.py\n",
      "Removing query.sql\n",
      "Removing utils.gif\n",
      "##############################################################################################################\n",
      "\n",
      "############################################# COMANDO A EJECUTAR #############################################\n",
      "git status\n",
      "####################################### RESULTADO DE COMANDO EJECUTADO #######################################\n",
      "On branch utils\n",
      "Untracked files:\n",
      "  (use \"git add <file>...\" to include in what will be committed)\n",
      "\t.ipynb_checkpoints/\n",
      "\n",
      "nothing added to commit but untracked files present (use \"git add\" to track)\n",
      "##############################################################################################################\n",
      "\n"
     ]
    }
   ],
   "source": [
    "comando = 'git clean -f'\n",
    "ejecutar_comando_git(comando)\n",
    "\n",
    "comando = 'git status'\n",
    "ejecutar_comando_git(comando)"
   ]
  },
  {
   "cell_type": "markdown",
   "id": "36c2b331-095d-4aa2-9fe9-2a354b4499b9",
   "metadata": {},
   "source": [
    "### ADICIONA LOS ARCHIVOS AL STAGE Y HACE LO ALMACENA EN EL REPOSITORIO LOCAL CON UN COMMIT"
   ]
  },
  {
   "cell_type": "code",
   "execution_count": 146,
   "id": "247f7456-19c5-4291-b242-2bad2ee129a2",
   "metadata": {
    "scrolled": true,
    "tags": []
   },
   "outputs": [
    {
     "name": "stdout",
     "output_type": "stream",
     "text": [
      "lista_de_archivos = ['info.txt', 'Dockerfile', 'Manifest.yaml', 'imagen.png', 'main.py', 'connection.java', 'calculos.c', 'addon.php', 'utils.gif', 'query.sql', 'dataset.avro', 'link.vs']\n",
      "############################################# COMANDO A EJECUTAR #############################################\n",
      "echo 1679760216.890179 >> info.txt\n",
      "####################################### RESULTADO DE COMANDO EJECUTADO #######################################\n",
      "##############################################################################################################\n",
      "\n",
      "############################################# COMANDO A EJECUTAR #############################################\n",
      "echo 1679760217.024413 >> Dockerfile\n",
      "####################################### RESULTADO DE COMANDO EJECUTADO #######################################\n",
      "##############################################################################################################\n",
      "\n",
      "############################################# COMANDO A EJECUTAR #############################################\n",
      "echo 1679760217.145875 >> Manifest.yaml\n",
      "####################################### RESULTADO DE COMANDO EJECUTADO #######################################\n",
      "##############################################################################################################\n",
      "\n",
      "############################################# COMANDO A EJECUTAR #############################################\n",
      "echo 1679760217.280563 >> imagen.png\n",
      "####################################### RESULTADO DE COMANDO EJECUTADO #######################################\n",
      "##############################################################################################################\n",
      "\n",
      "############################################# COMANDO A EJECUTAR #############################################\n",
      "echo 1679760217.40761 >> main.py\n",
      "####################################### RESULTADO DE COMANDO EJECUTADO #######################################\n",
      "##############################################################################################################\n",
      "\n",
      "############################################# COMANDO A EJECUTAR #############################################\n",
      "echo 1679760217.521311 >> connection.java\n",
      "####################################### RESULTADO DE COMANDO EJECUTADO #######################################\n",
      "##############################################################################################################\n",
      "\n",
      "############################################# COMANDO A EJECUTAR #############################################\n",
      "echo 1679760217.631197 >> calculos.c\n",
      "####################################### RESULTADO DE COMANDO EJECUTADO #######################################\n",
      "##############################################################################################################\n",
      "\n",
      "############################################# COMANDO A EJECUTAR #############################################\n",
      "echo 1679760217.741919 >> addon.php\n",
      "####################################### RESULTADO DE COMANDO EJECUTADO #######################################\n",
      "##############################################################################################################\n",
      "\n",
      "############################################# COMANDO A EJECUTAR #############################################\n",
      "echo 1679760217.85971 >> utils.gif\n",
      "####################################### RESULTADO DE COMANDO EJECUTADO #######################################\n",
      "##############################################################################################################\n",
      "\n",
      "############################################# COMANDO A EJECUTAR #############################################\n",
      "echo 1679760217.979565 >> query.sql\n",
      "####################################### RESULTADO DE COMANDO EJECUTADO #######################################\n",
      "##############################################################################################################\n",
      "\n",
      "############################################# COMANDO A EJECUTAR #############################################\n",
      "echo 1679760218.088449 >> dataset.avro\n",
      "####################################### RESULTADO DE COMANDO EJECUTADO #######################################\n",
      "##############################################################################################################\n",
      "\n",
      "############################################# COMANDO A EJECUTAR #############################################\n",
      "echo 1679760218.202835 >> link.vs\n",
      "####################################### RESULTADO DE COMANDO EJECUTADO #######################################\n",
      "##############################################################################################################\n",
      "\n",
      "############################################# COMANDO A EJECUTAR #############################################\n",
      "git status\n",
      "####################################### RESULTADO DE COMANDO EJECUTADO #######################################\n",
      "On branch utils\n",
      "Changes not staged for commit:\n",
      "  (use \"git add <file>...\" to update what will be committed)\n",
      "  (use \"git restore <file>...\" to discard changes in working directory)\n",
      "\tmodified:   info.txt\n",
      "\n",
      "Untracked files:\n",
      "  (use \"git add <file>...\" to include in what will be committed)\n",
      "\t.ipynb_checkpoints/\n",
      "\tDockerfile\n",
      "\tManifest.yaml\n",
      "\taddon.php\n",
      "\tcalculos.c\n",
      "\tconnection.java\n",
      "\tdataset.avro\n",
      "\timagen.png\n",
      "\tlink.vs\n",
      "\tmain.py\n",
      "\tquery.sql\n",
      "\tutils.gif\n",
      "\n",
      "no changes added to commit (use \"git add\" and/or \"git commit -a\")\n",
      "##############################################################################################################\n",
      "\n",
      "############################################# COMANDO A EJECUTAR #############################################\n",
      "git add .\n",
      "####################################### RESULTADO DE COMANDO EJECUTADO #######################################\n",
      "##############################################################################################################\n",
      "\n",
      "############################################# COMANDO A EJECUTAR #############################################\n",
      "git status\n",
      "####################################### RESULTADO DE COMANDO EJECUTADO #######################################\n",
      "On branch utils\n",
      "Changes to be committed:\n",
      "  (use \"git restore --staged <file>...\" to unstage)\n",
      "\tnew file:   .ipynb_checkpoints/info-checkpoint.txt\n",
      "\tnew file:   Dockerfile\n",
      "\tnew file:   Manifest.yaml\n",
      "\tnew file:   addon.php\n",
      "\tnew file:   calculos.c\n",
      "\tnew file:   connection.java\n",
      "\tnew file:   dataset.avro\n",
      "\tnew file:   imagen.png\n",
      "\tmodified:   info.txt\n",
      "\tnew file:   link.vs\n",
      "\tnew file:   main.py\n",
      "\tnew file:   query.sql\n",
      "\tnew file:   utils.gif\n",
      "\n",
      "##############################################################################################################\n",
      "\n",
      "############################################# COMANDO A EJECUTAR #############################################\n",
      "git commit -m \"adicionados archivos de prueba\"\n",
      "####################################### RESULTADO DE COMANDO EJECUTADO #######################################\n",
      "[utils 69d8a64] adicionados archivos de prueba\n",
      " 13 files changed, 19 insertions(+)\n",
      " create mode 100644 .ipynb_checkpoints/info-checkpoint.txt\n",
      " create mode 100644 Dockerfile\n",
      " create mode 100644 Manifest.yaml\n",
      " create mode 100644 addon.php\n",
      " create mode 100644 calculos.c\n",
      " create mode 100644 connection.java\n",
      " create mode 100644 dataset.avro\n",
      " create mode 100644 imagen.png\n",
      " create mode 100644 link.vs\n",
      " create mode 100644 main.py\n",
      " create mode 100644 query.sql\n",
      " create mode 100644 utils.gif\n",
      "##############################################################################################################\n",
      "\n",
      "############################################# COMANDO A EJECUTAR #############################################\n",
      "git status\n",
      "####################################### RESULTADO DE COMANDO EJECUTADO #######################################\n",
      "On branch utils\n",
      "nothing to commit, working tree clean\n",
      "##############################################################################################################\n",
      "\n",
      "############################################# COMANDO A EJECUTAR #############################################\n",
      "git log\n",
      "####################################### RESULTADO DE COMANDO EJECUTADO #######################################\n",
      "commit 69d8a648309d1ed5677b9cd59198f0d7df489579\n",
      "Author: PARADIGMA\\QiDimMak <jorgecardona@utp.edu.co>\n",
      "Date:   Sat Mar 25 11:03:38 2023 -0500\n",
      "\n",
      "    adicionados archivos de prueba\n",
      "\n",
      "commit 7c61c1b1ab2165ed7db930d4f04db776b7e881e6\n",
      "Author: PARADIGMA\\QiDimMak <jorgecardona@utp.edu.co>\n",
      "Date:   Sat Mar 25 11:03:35 2023 -0500\n",
      "\n",
      "    adicionado archivo INFO.txt\n",
      "##############################################################################################################\n",
      "\n"
     ]
    }
   ],
   "source": [
    "generar_archivos()\n",
    "\n",
    "comando = 'git status'\n",
    "ejecutar_comando_git(comando)\n",
    "\n",
    "comando = 'git add .'\n",
    "ejecutar_comando_git(comando)\n",
    "\n",
    "comando = 'git status'\n",
    "ejecutar_comando_git(comando)\n",
    "\n",
    "comando = 'git commit -m \"adicionados archivos de prueba\"'\n",
    "ejecutar_comando_git(comando)\n",
    "\n",
    "comando = 'git status'\n",
    "ejecutar_comando_git(comando)\n",
    "\n",
    "comando = 'git log'\n",
    "ejecutar_comando_git(comando)"
   ]
  },
  {
   "cell_type": "markdown",
   "id": "6650e46c-131c-47fd-8ef0-7b188574dd59",
   "metadata": {},
   "source": [
    "### DESHACER UN COMMIT LOCAL\n",
    "### ELIMINA LOS ARCHIVOS DEL LOCAL REPOSITORY Y LOS RETORNA AL STAGING AREA"
   ]
  },
  {
   "cell_type": "code",
   "execution_count": 149,
   "id": "541726b3-fe3a-440b-b55f-e67a5074e32e",
   "metadata": {
    "scrolled": true,
    "tags": []
   },
   "outputs": [
    {
     "name": "stdout",
     "output_type": "stream",
     "text": [
      "lista_de_archivos = ['info.txt', 'Dockerfile', 'Manifest.yaml', 'imagen.png', 'main.py', 'connection.java', 'calculos.c', 'addon.php', 'utils.gif', 'query.sql', 'dataset.avro', 'link.vs']\n",
      "############################################# COMANDO A EJECUTAR #############################################\n",
      "echo 1679760251.526355 >> info.txt\n",
      "####################################### RESULTADO DE COMANDO EJECUTADO #######################################\n",
      "##############################################################################################################\n",
      "\n",
      "############################################# COMANDO A EJECUTAR #############################################\n",
      "echo 1679760251.65066 >> Dockerfile\n",
      "####################################### RESULTADO DE COMANDO EJECUTADO #######################################\n",
      "##############################################################################################################\n",
      "\n",
      "############################################# COMANDO A EJECUTAR #############################################\n",
      "echo 1679760251.761867 >> Manifest.yaml\n",
      "####################################### RESULTADO DE COMANDO EJECUTADO #######################################\n",
      "##############################################################################################################\n",
      "\n",
      "############################################# COMANDO A EJECUTAR #############################################\n",
      "echo 1679760251.87184 >> imagen.png\n",
      "####################################### RESULTADO DE COMANDO EJECUTADO #######################################\n",
      "##############################################################################################################\n",
      "\n",
      "############################################# COMANDO A EJECUTAR #############################################\n",
      "echo 1679760251.996734 >> main.py\n",
      "####################################### RESULTADO DE COMANDO EJECUTADO #######################################\n",
      "##############################################################################################################\n",
      "\n",
      "############################################# COMANDO A EJECUTAR #############################################\n",
      "echo 1679760252.105761 >> connection.java\n",
      "####################################### RESULTADO DE COMANDO EJECUTADO #######################################\n",
      "##############################################################################################################\n",
      "\n",
      "############################################# COMANDO A EJECUTAR #############################################\n",
      "echo 1679760252.219177 >> calculos.c\n",
      "####################################### RESULTADO DE COMANDO EJECUTADO #######################################\n",
      "##############################################################################################################\n",
      "\n",
      "############################################# COMANDO A EJECUTAR #############################################\n",
      "echo 1679760252.343059 >> addon.php\n",
      "####################################### RESULTADO DE COMANDO EJECUTADO #######################################\n",
      "##############################################################################################################\n",
      "\n",
      "############################################# COMANDO A EJECUTAR #############################################\n",
      "echo 1679760252.452803 >> utils.gif\n",
      "####################################### RESULTADO DE COMANDO EJECUTADO #######################################\n",
      "##############################################################################################################\n",
      "\n",
      "############################################# COMANDO A EJECUTAR #############################################\n",
      "echo 1679760252.572656 >> query.sql\n",
      "####################################### RESULTADO DE COMANDO EJECUTADO #######################################\n",
      "##############################################################################################################\n",
      "\n",
      "############################################# COMANDO A EJECUTAR #############################################\n",
      "echo 1679760252.688625 >> dataset.avro\n",
      "####################################### RESULTADO DE COMANDO EJECUTADO #######################################\n",
      "##############################################################################################################\n",
      "\n",
      "############################################# COMANDO A EJECUTAR #############################################\n",
      "echo 1679760252.79938 >> link.vs\n",
      "####################################### RESULTADO DE COMANDO EJECUTADO #######################################\n",
      "##############################################################################################################\n",
      "\n",
      "############################################# COMANDO A EJECUTAR #############################################\n",
      "git status\n",
      "####################################### RESULTADO DE COMANDO EJECUTADO #######################################\n",
      "On branch utils\n",
      "Changes to be committed:\n",
      "  (use \"git restore --staged <file>...\" to unstage)\n",
      "\tdeleted:    .gitignore\n",
      "\tdeleted:    Dockerfile\n",
      "\tdeleted:    LICENSE\n",
      "\tdeleted:    Manifest.yaml\n",
      "\tdeleted:    README.md\n",
      "\tdeleted:    addon.php\n",
      "\tdeleted:    calculos.c\n",
      "\tdeleted:    config.json\n",
      "\tdeleted:    connection.java\n",
      "\tdeleted:    dataset.avro\n",
      "\tdeleted:    imagen.png\n",
      "\tdeleted:    info.txt\n",
      "\tdeleted:    link.vs\n",
      "\tdeleted:    main.py\n",
      "\tdeleted:    query.sql\n",
      "\tdeleted:    requirements.txt\n",
      "\tdeleted:    utils.gif\n",
      "\n",
      "Untracked files:\n",
      "  (use \"git add <file>...\" to include in what will be committed)\n",
      "\t.ipynb_checkpoints/\n",
      "\tDockerfile\n",
      "\tManifest.yaml\n",
      "\taddon.php\n",
      "\tcalculos.c\n",
      "\tconnection.java\n",
      "\tdataset.avro\n",
      "\timagen.png\n",
      "\tinfo.txt\n",
      "\tlink.vs\n",
      "\tmain.py\n",
      "\tquery.sql\n",
      "\tutils.gif\n",
      "\n",
      "##############################################################################################################\n",
      "\n",
      "############################################# COMANDO A EJECUTAR #############################################\n",
      "git add .\n",
      "####################################### RESULTADO DE COMANDO EJECUTADO #######################################\n",
      "##############################################################################################################\n",
      "\n",
      "############################################# COMANDO A EJECUTAR #############################################\n",
      "git status\n",
      "####################################### RESULTADO DE COMANDO EJECUTADO #######################################\n",
      "On branch utils\n",
      "Changes to be committed:\n",
      "  (use \"git restore --staged <file>...\" to unstage)\n",
      "\tdeleted:    .gitignore\n",
      "\tnew file:   .ipynb_checkpoints/info-checkpoint.txt\n",
      "\tmodified:   Dockerfile\n",
      "\tdeleted:    LICENSE\n",
      "\tmodified:   Manifest.yaml\n",
      "\tdeleted:    README.md\n",
      "\tmodified:   addon.php\n",
      "\tmodified:   calculos.c\n",
      "\tdeleted:    config.json\n",
      "\tmodified:   connection.java\n",
      "\tmodified:   dataset.avro\n",
      "\tmodified:   imagen.png\n",
      "\tmodified:   info.txt\n",
      "\tmodified:   link.vs\n",
      "\tmodified:   main.py\n",
      "\tmodified:   query.sql\n",
      "\tdeleted:    requirements.txt\n",
      "\tmodified:   utils.gif\n",
      "\n",
      "##############################################################################################################\n",
      "\n",
      "############################################# COMANDO A EJECUTAR #############################################\n",
      "git commit -m \"PRUEBA numero 174794 de adicion de archivos y creacion de COMMIT 1679760253.096482\"\n",
      "####################################### RESULTADO DE COMANDO EJECUTADO #######################################\n",
      "[utils c328d0a] PRUEBA numero 174794 de adicion de archivos y creacion de COMMIT 1679760253.096482\n",
      " 18 files changed, 19 insertions(+), 906 deletions(-)\n",
      " delete mode 100644 .gitignore\n",
      " create mode 100644 .ipynb_checkpoints/info-checkpoint.txt\n",
      " delete mode 100644 LICENSE\n",
      " delete mode 100644 README.md\n",
      " delete mode 100644 config.json\n",
      " delete mode 100644 requirements.txt\n",
      "##############################################################################################################\n",
      "\n",
      "lista_de_archivos = ['info.txt', 'Dockerfile', 'Manifest.yaml', 'imagen.png', 'main.py', 'connection.java', 'calculos.c', 'addon.php', 'utils.gif', 'query.sql', 'dataset.avro', 'link.vs']\n",
      "############################################# COMANDO A EJECUTAR #############################################\n",
      "echo 1679760253.302908 >> info.txt\n",
      "####################################### RESULTADO DE COMANDO EJECUTADO #######################################\n",
      "##############################################################################################################\n",
      "\n",
      "############################################# COMANDO A EJECUTAR #############################################\n",
      "echo 1679760253.414872 >> Dockerfile\n",
      "####################################### RESULTADO DE COMANDO EJECUTADO #######################################\n",
      "##############################################################################################################\n",
      "\n",
      "############################################# COMANDO A EJECUTAR #############################################\n",
      "echo 1679760253.540606 >> Manifest.yaml\n",
      "####################################### RESULTADO DE COMANDO EJECUTADO #######################################\n",
      "##############################################################################################################\n",
      "\n",
      "############################################# COMANDO A EJECUTAR #############################################\n",
      "echo 1679760253.651362 >> imagen.png\n",
      "####################################### RESULTADO DE COMANDO EJECUTADO #######################################\n",
      "##############################################################################################################\n",
      "\n",
      "############################################# COMANDO A EJECUTAR #############################################\n",
      "echo 1679760253.769422 >> main.py\n",
      "####################################### RESULTADO DE COMANDO EJECUTADO #######################################\n",
      "##############################################################################################################\n",
      "\n",
      "############################################# COMANDO A EJECUTAR #############################################\n",
      "echo 1679760253.886334 >> connection.java\n",
      "####################################### RESULTADO DE COMANDO EJECUTADO #######################################\n",
      "##############################################################################################################\n",
      "\n",
      "############################################# COMANDO A EJECUTAR #############################################\n",
      "echo 1679760254.00158 >> calculos.c\n",
      "####################################### RESULTADO DE COMANDO EJECUTADO #######################################\n",
      "##############################################################################################################\n",
      "\n",
      "############################################# COMANDO A EJECUTAR #############################################\n",
      "echo 1679760254.125974 >> addon.php\n",
      "####################################### RESULTADO DE COMANDO EJECUTADO #######################################\n",
      "##############################################################################################################\n",
      "\n",
      "############################################# COMANDO A EJECUTAR #############################################\n",
      "echo 1679760254.23565 >> utils.gif\n",
      "####################################### RESULTADO DE COMANDO EJECUTADO #######################################\n",
      "##############################################################################################################\n",
      "\n",
      "############################################# COMANDO A EJECUTAR #############################################\n",
      "echo 1679760254.360461 >> query.sql\n",
      "####################################### RESULTADO DE COMANDO EJECUTADO #######################################\n",
      "##############################################################################################################\n",
      "\n",
      "############################################# COMANDO A EJECUTAR #############################################\n",
      "echo 1679760254.493492 >> dataset.avro\n",
      "####################################### RESULTADO DE COMANDO EJECUTADO #######################################\n",
      "##############################################################################################################\n",
      "\n",
      "############################################# COMANDO A EJECUTAR #############################################\n",
      "echo 1679760254.604172 >> link.vs\n",
      "####################################### RESULTADO DE COMANDO EJECUTADO #######################################\n",
      "##############################################################################################################\n",
      "\n",
      "############################################# COMANDO A EJECUTAR #############################################\n",
      "git status\n",
      "####################################### RESULTADO DE COMANDO EJECUTADO #######################################\n",
      "On branch utils\n",
      "Changes not staged for commit:\n",
      "  (use \"git add <file>...\" to update what will be committed)\n",
      "  (use \"git restore <file>...\" to discard changes in working directory)\n",
      "\tmodified:   Dockerfile\n",
      "\tmodified:   Manifest.yaml\n",
      "\tmodified:   addon.php\n",
      "\tmodified:   calculos.c\n",
      "\tmodified:   connection.java\n",
      "\tmodified:   dataset.avro\n",
      "\tmodified:   imagen.png\n",
      "\tmodified:   info.txt\n",
      "\tmodified:   link.vs\n",
      "\tmodified:   main.py\n",
      "\tmodified:   query.sql\n",
      "\tmodified:   utils.gif\n",
      "\n",
      "no changes added to commit (use \"git add\" and/or \"git commit -a\")\n",
      "##############################################################################################################\n",
      "\n",
      "############################################# COMANDO A EJECUTAR #############################################\n",
      "git add .\n",
      "####################################### RESULTADO DE COMANDO EJECUTADO #######################################\n",
      "##############################################################################################################\n",
      "\n",
      "############################################# COMANDO A EJECUTAR #############################################\n",
      "git status\n",
      "####################################### RESULTADO DE COMANDO EJECUTADO #######################################\n",
      "On branch utils\n",
      "Changes to be committed:\n",
      "  (use \"git restore --staged <file>...\" to unstage)\n",
      "\tmodified:   Dockerfile\n",
      "\tmodified:   Manifest.yaml\n",
      "\tmodified:   addon.php\n",
      "\tmodified:   calculos.c\n",
      "\tmodified:   connection.java\n",
      "\tmodified:   dataset.avro\n",
      "\tmodified:   imagen.png\n",
      "\tmodified:   info.txt\n",
      "\tmodified:   link.vs\n",
      "\tmodified:   main.py\n",
      "\tmodified:   query.sql\n",
      "\tmodified:   utils.gif\n",
      "\n",
      "##############################################################################################################\n",
      "\n",
      "############################################# COMANDO A EJECUTAR #############################################\n",
      "git commit -m \"PRUEBA numero 4976931 de adicion de archivos y creacion de COMMIT 1679760254.898843\"\n",
      "####################################### RESULTADO DE COMANDO EJECUTADO #######################################\n",
      "[utils b091ae2] PRUEBA numero 4976931 de adicion de archivos y creacion de COMMIT 1679760254.898843\n",
      " 12 files changed, 12 insertions(+)\n",
      "##############################################################################################################\n",
      "\n",
      "lista_de_archivos = ['info.txt', 'Dockerfile', 'Manifest.yaml', 'imagen.png', 'main.py', 'connection.java', 'calculos.c', 'addon.php', 'utils.gif', 'query.sql', 'dataset.avro', 'link.vs']\n",
      "############################################# COMANDO A EJECUTAR #############################################\n",
      "echo 1679760255.086739 >> info.txt\n",
      "####################################### RESULTADO DE COMANDO EJECUTADO #######################################\n",
      "##############################################################################################################\n",
      "\n",
      "############################################# COMANDO A EJECUTAR #############################################\n",
      "echo 1679760255.196341 >> Dockerfile\n",
      "####################################### RESULTADO DE COMANDO EJECUTADO #######################################\n",
      "##############################################################################################################\n",
      "\n",
      "############################################# COMANDO A EJECUTAR #############################################\n",
      "echo 1679760255.30612 >> Manifest.yaml\n",
      "####################################### RESULTADO DE COMANDO EJECUTADO #######################################\n",
      "##############################################################################################################\n",
      "\n",
      "############################################# COMANDO A EJECUTAR #############################################\n",
      "echo 1679760255.425972 >> imagen.png\n",
      "####################################### RESULTADO DE COMANDO EJECUTADO #######################################\n",
      "##############################################################################################################\n",
      "\n",
      "############################################# COMANDO A EJECUTAR #############################################\n",
      "echo 1679760255.539814 >> main.py\n",
      "####################################### RESULTADO DE COMANDO EJECUTADO #######################################\n",
      "##############################################################################################################\n",
      "\n",
      "############################################# COMANDO A EJECUTAR #############################################\n",
      "echo 1679760255.653824 >> connection.java\n",
      "####################################### RESULTADO DE COMANDO EJECUTADO #######################################\n",
      "##############################################################################################################\n",
      "\n",
      "############################################# COMANDO A EJECUTAR #############################################\n",
      "echo 1679760255.773346 >> calculos.c\n",
      "####################################### RESULTADO DE COMANDO EJECUTADO #######################################\n",
      "##############################################################################################################\n",
      "\n",
      "############################################# COMANDO A EJECUTAR #############################################\n",
      "echo 1679760255.916355 >> addon.php\n",
      "####################################### RESULTADO DE COMANDO EJECUTADO #######################################\n",
      "##############################################################################################################\n",
      "\n",
      "############################################# COMANDO A EJECUTAR #############################################\n",
      "echo 1679760256.036391 >> utils.gif\n",
      "####################################### RESULTADO DE COMANDO EJECUTADO #######################################\n",
      "##############################################################################################################\n",
      "\n",
      "############################################# COMANDO A EJECUTAR #############################################\n",
      "echo 1679760256.153872 >> query.sql\n",
      "####################################### RESULTADO DE COMANDO EJECUTADO #######################################\n",
      "##############################################################################################################\n",
      "\n",
      "############################################# COMANDO A EJECUTAR #############################################\n",
      "echo 1679760256.268778 >> dataset.avro\n",
      "####################################### RESULTADO DE COMANDO EJECUTADO #######################################\n",
      "##############################################################################################################\n",
      "\n",
      "############################################# COMANDO A EJECUTAR #############################################\n",
      "echo 1679760256.377399 >> link.vs\n",
      "####################################### RESULTADO DE COMANDO EJECUTADO #######################################\n",
      "##############################################################################################################\n",
      "\n",
      "############################################# COMANDO A EJECUTAR #############################################\n",
      "git status\n",
      "####################################### RESULTADO DE COMANDO EJECUTADO #######################################\n",
      "On branch utils\n",
      "Changes not staged for commit:\n",
      "  (use \"git add <file>...\" to update what will be committed)\n",
      "  (use \"git restore <file>...\" to discard changes in working directory)\n",
      "\tmodified:   Dockerfile\n",
      "\tmodified:   Manifest.yaml\n",
      "\tmodified:   addon.php\n",
      "\tmodified:   calculos.c\n",
      "\tmodified:   connection.java\n",
      "\tmodified:   dataset.avro\n",
      "\tmodified:   imagen.png\n",
      "\tmodified:   info.txt\n",
      "\tmodified:   link.vs\n",
      "\tmodified:   main.py\n",
      "\tmodified:   query.sql\n",
      "\tmodified:   utils.gif\n",
      "\n",
      "no changes added to commit (use \"git add\" and/or \"git commit -a\")\n",
      "##############################################################################################################\n",
      "\n",
      "############################################# COMANDO A EJECUTAR #############################################\n",
      "git add .\n",
      "####################################### RESULTADO DE COMANDO EJECUTADO #######################################\n",
      "##############################################################################################################\n",
      "\n",
      "############################################# COMANDO A EJECUTAR #############################################\n",
      "git status\n",
      "####################################### RESULTADO DE COMANDO EJECUTADO #######################################\n",
      "On branch utils\n",
      "Changes to be committed:\n",
      "  (use \"git restore --staged <file>...\" to unstage)\n",
      "\tmodified:   Dockerfile\n",
      "\tmodified:   Manifest.yaml\n",
      "\tmodified:   addon.php\n",
      "\tmodified:   calculos.c\n",
      "\tmodified:   connection.java\n",
      "\tmodified:   dataset.avro\n",
      "\tmodified:   imagen.png\n",
      "\tmodified:   info.txt\n",
      "\tmodified:   link.vs\n",
      "\tmodified:   main.py\n",
      "\tmodified:   query.sql\n",
      "\tmodified:   utils.gif\n",
      "\n",
      "##############################################################################################################\n",
      "\n",
      "############################################# COMANDO A EJECUTAR #############################################\n",
      "git commit -m \"PRUEBA numero 6134739 de adicion de archivos y creacion de COMMIT 1679760256.67623\"\n",
      "####################################### RESULTADO DE COMANDO EJECUTADO #######################################\n",
      "[utils da96bf3] PRUEBA numero 6134739 de adicion de archivos y creacion de COMMIT 1679760256.67623\n",
      " 12 files changed, 12 insertions(+)\n",
      "##############################################################################################################\n",
      "\n",
      "lista_de_archivos = ['info.txt', 'Dockerfile', 'Manifest.yaml', 'imagen.png', 'main.py', 'connection.java', 'calculos.c', 'addon.php', 'utils.gif', 'query.sql', 'dataset.avro', 'link.vs']\n",
      "############################################# COMANDO A EJECUTAR #############################################\n",
      "echo 1679760256.864025 >> info.txt\n",
      "####################################### RESULTADO DE COMANDO EJECUTADO #######################################\n",
      "##############################################################################################################\n",
      "\n",
      "############################################# COMANDO A EJECUTAR #############################################\n",
      "echo 1679760256.988704 >> Dockerfile\n",
      "####################################### RESULTADO DE COMANDO EJECUTADO #######################################\n",
      "##############################################################################################################\n",
      "\n",
      "############################################# COMANDO A EJECUTAR #############################################\n",
      "echo 1679760257.098921 >> Manifest.yaml\n",
      "####################################### RESULTADO DE COMANDO EJECUTADO #######################################\n",
      "##############################################################################################################\n",
      "\n",
      "############################################# COMANDO A EJECUTAR #############################################\n",
      "echo 1679760257.21974 >> imagen.png\n",
      "####################################### RESULTADO DE COMANDO EJECUTADO #######################################\n",
      "##############################################################################################################\n",
      "\n",
      "############################################# COMANDO A EJECUTAR #############################################\n",
      "echo 1679760257.334459 >> main.py\n",
      "####################################### RESULTADO DE COMANDO EJECUTADO #######################################\n",
      "##############################################################################################################\n",
      "\n",
      "############################################# COMANDO A EJECUTAR #############################################\n",
      "echo 1679760257.449772 >> connection.java\n",
      "####################################### RESULTADO DE COMANDO EJECUTADO #######################################\n",
      "##############################################################################################################\n",
      "\n",
      "############################################# COMANDO A EJECUTAR #############################################\n",
      "echo 1679760257.56847 >> calculos.c\n",
      "####################################### RESULTADO DE COMANDO EJECUTADO #######################################\n",
      "##############################################################################################################\n",
      "\n",
      "############################################# COMANDO A EJECUTAR #############################################\n",
      "echo 1679760257.679317 >> addon.php\n",
      "####################################### RESULTADO DE COMANDO EJECUTADO #######################################\n",
      "##############################################################################################################\n",
      "\n",
      "############################################# COMANDO A EJECUTAR #############################################\n",
      "echo 1679760257.800663 >> utils.gif\n",
      "####################################### RESULTADO DE COMANDO EJECUTADO #######################################\n",
      "##############################################################################################################\n",
      "\n",
      "############################################# COMANDO A EJECUTAR #############################################\n",
      "echo 1679760257.911131 >> query.sql\n",
      "####################################### RESULTADO DE COMANDO EJECUTADO #######################################\n",
      "##############################################################################################################\n",
      "\n",
      "############################################# COMANDO A EJECUTAR #############################################\n",
      "echo 1679760258.021191 >> dataset.avro\n",
      "####################################### RESULTADO DE COMANDO EJECUTADO #######################################\n",
      "##############################################################################################################\n",
      "\n",
      "############################################# COMANDO A EJECUTAR #############################################\n",
      "echo 1679760258.145569 >> link.vs\n",
      "####################################### RESULTADO DE COMANDO EJECUTADO #######################################\n",
      "##############################################################################################################\n",
      "\n",
      "############################################# COMANDO A EJECUTAR #############################################\n",
      "git status\n",
      "####################################### RESULTADO DE COMANDO EJECUTADO #######################################\n",
      "On branch utils\n",
      "Changes not staged for commit:\n",
      "  (use \"git add <file>...\" to update what will be committed)\n",
      "  (use \"git restore <file>...\" to discard changes in working directory)\n",
      "\tmodified:   Dockerfile\n",
      "\tmodified:   Manifest.yaml\n",
      "\tmodified:   addon.php\n",
      "\tmodified:   calculos.c\n",
      "\tmodified:   connection.java\n",
      "\tmodified:   dataset.avro\n",
      "\tmodified:   imagen.png\n",
      "\tmodified:   info.txt\n",
      "\tmodified:   link.vs\n",
      "\tmodified:   main.py\n",
      "\tmodified:   query.sql\n",
      "\tmodified:   utils.gif\n",
      "\n",
      "no changes added to commit (use \"git add\" and/or \"git commit -a\")\n",
      "##############################################################################################################\n",
      "\n",
      "############################################# COMANDO A EJECUTAR #############################################\n",
      "git add .\n",
      "####################################### RESULTADO DE COMANDO EJECUTADO #######################################\n",
      "##############################################################################################################\n",
      "\n",
      "############################################# COMANDO A EJECUTAR #############################################\n",
      "git status\n",
      "####################################### RESULTADO DE COMANDO EJECUTADO #######################################\n",
      "On branch utils\n",
      "Changes to be committed:\n",
      "  (use \"git restore --staged <file>...\" to unstage)\n",
      "\tmodified:   Dockerfile\n",
      "\tmodified:   Manifest.yaml\n",
      "\tmodified:   addon.php\n",
      "\tmodified:   calculos.c\n",
      "\tmodified:   connection.java\n",
      "\tmodified:   dataset.avro\n",
      "\tmodified:   imagen.png\n",
      "\tmodified:   info.txt\n",
      "\tmodified:   link.vs\n",
      "\tmodified:   main.py\n",
      "\tmodified:   query.sql\n",
      "\tmodified:   utils.gif\n",
      "\n",
      "##############################################################################################################\n",
      "\n",
      "############################################# COMANDO A EJECUTAR #############################################\n",
      "git commit -m \"PRUEBA numero 2136571 de adicion de archivos y creacion de COMMIT 1679760258.444439\"\n",
      "####################################### RESULTADO DE COMANDO EJECUTADO #######################################\n",
      "[utils fe2fe6b] PRUEBA numero 2136571 de adicion de archivos y creacion de COMMIT 1679760258.444439\n",
      " 12 files changed, 12 insertions(+)\n",
      "##############################################################################################################\n",
      "\n",
      "lista_de_archivos = ['info.txt', 'Dockerfile', 'Manifest.yaml', 'imagen.png', 'main.py', 'connection.java', 'calculos.c', 'addon.php', 'utils.gif', 'query.sql', 'dataset.avro', 'link.vs']\n",
      "############################################# COMANDO A EJECUTAR #############################################\n",
      "echo 1679760258.632096 >> info.txt\n",
      "####################################### RESULTADO DE COMANDO EJECUTADO #######################################\n",
      "##############################################################################################################\n",
      "\n",
      "############################################# COMANDO A EJECUTAR #############################################\n",
      "echo 1679760258.742081 >> Dockerfile\n",
      "####################################### RESULTADO DE COMANDO EJECUTADO #######################################\n",
      "##############################################################################################################\n",
      "\n",
      "############################################# COMANDO A EJECUTAR #############################################\n",
      "echo 1679760258.850938 >> Manifest.yaml\n",
      "####################################### RESULTADO DE COMANDO EJECUTADO #######################################\n",
      "##############################################################################################################\n",
      "\n",
      "############################################# COMANDO A EJECUTAR #############################################\n",
      "echo 1679760258.966249 >> imagen.png\n",
      "####################################### RESULTADO DE COMANDO EJECUTADO #######################################\n",
      "##############################################################################################################\n",
      "\n",
      "############################################# COMANDO A EJECUTAR #############################################\n",
      "echo 1679760259.081644 >> main.py\n",
      "####################################### RESULTADO DE COMANDO EJECUTADO #######################################\n",
      "##############################################################################################################\n",
      "\n",
      "############################################# COMANDO A EJECUTAR #############################################\n",
      "echo 1679760259.191644 >> connection.java\n",
      "####################################### RESULTADO DE COMANDO EJECUTADO #######################################\n",
      "##############################################################################################################\n",
      "\n",
      "############################################# COMANDO A EJECUTAR #############################################\n",
      "echo 1679760259.305928 >> calculos.c\n",
      "####################################### RESULTADO DE COMANDO EJECUTADO #######################################\n",
      "##############################################################################################################\n",
      "\n",
      "############################################# COMANDO A EJECUTAR #############################################\n",
      "echo 1679760259.415097 >> addon.php\n",
      "####################################### RESULTADO DE COMANDO EJECUTADO #######################################\n",
      "##############################################################################################################\n",
      "\n",
      "############################################# COMANDO A EJECUTAR #############################################\n",
      "echo 1679760259.525655 >> utils.gif\n",
      "####################################### RESULTADO DE COMANDO EJECUTADO #######################################\n",
      "##############################################################################################################\n",
      "\n",
      "############################################# COMANDO A EJECUTAR #############################################\n",
      "echo 1679760259.637184 >> query.sql\n",
      "####################################### RESULTADO DE COMANDO EJECUTADO #######################################\n",
      "##############################################################################################################\n",
      "\n",
      "############################################# COMANDO A EJECUTAR #############################################\n",
      "echo 1679760259.75397 >> dataset.avro\n",
      "####################################### RESULTADO DE COMANDO EJECUTADO #######################################\n",
      "##############################################################################################################\n",
      "\n",
      "############################################# COMANDO A EJECUTAR #############################################\n",
      "echo 1679760259.863356 >> link.vs\n",
      "####################################### RESULTADO DE COMANDO EJECUTADO #######################################\n",
      "##############################################################################################################\n",
      "\n",
      "############################################# COMANDO A EJECUTAR #############################################\n",
      "git status\n",
      "####################################### RESULTADO DE COMANDO EJECUTADO #######################################\n",
      "On branch utils\n",
      "Changes not staged for commit:\n",
      "  (use \"git add <file>...\" to update what will be committed)\n",
      "  (use \"git restore <file>...\" to discard changes in working directory)\n",
      "\tmodified:   Dockerfile\n",
      "\tmodified:   Manifest.yaml\n",
      "\tmodified:   addon.php\n",
      "\tmodified:   calculos.c\n",
      "\tmodified:   connection.java\n",
      "\tmodified:   dataset.avro\n",
      "\tmodified:   imagen.png\n",
      "\tmodified:   info.txt\n",
      "\tmodified:   link.vs\n",
      "\tmodified:   main.py\n",
      "\tmodified:   query.sql\n",
      "\tmodified:   utils.gif\n",
      "\n",
      "no changes added to commit (use \"git add\" and/or \"git commit -a\")\n",
      "##############################################################################################################\n",
      "\n",
      "############################################# COMANDO A EJECUTAR #############################################\n",
      "git add .\n",
      "####################################### RESULTADO DE COMANDO EJECUTADO #######################################\n",
      "##############################################################################################################\n",
      "\n",
      "############################################# COMANDO A EJECUTAR #############################################\n",
      "git status\n",
      "####################################### RESULTADO DE COMANDO EJECUTADO #######################################\n",
      "On branch utils\n",
      "Changes to be committed:\n",
      "  (use \"git restore --staged <file>...\" to unstage)\n",
      "\tmodified:   Dockerfile\n",
      "\tmodified:   Manifest.yaml\n",
      "\tmodified:   addon.php\n",
      "\tmodified:   calculos.c\n",
      "\tmodified:   connection.java\n",
      "\tmodified:   dataset.avro\n",
      "\tmodified:   imagen.png\n",
      "\tmodified:   info.txt\n",
      "\tmodified:   link.vs\n",
      "\tmodified:   main.py\n",
      "\tmodified:   query.sql\n",
      "\tmodified:   utils.gif\n",
      "\n",
      "##############################################################################################################\n",
      "\n",
      "############################################# COMANDO A EJECUTAR #############################################\n",
      "git commit -m \"PRUEBA numero 3476909 de adicion de archivos y creacion de COMMIT 1679760260.177852\"\n",
      "####################################### RESULTADO DE COMANDO EJECUTADO #######################################\n",
      "[utils f3fae2c] PRUEBA numero 3476909 de adicion de archivos y creacion de COMMIT 1679760260.177852\n",
      " 12 files changed, 12 insertions(+)\n",
      "##############################################################################################################\n",
      "\n",
      "############################################# COMANDO A EJECUTAR #############################################\n",
      "git log --oneline\n",
      "####################################### RESULTADO DE COMANDO EJECUTADO #######################################\n",
      "f3fae2c PRUEBA numero 3476909 de adicion de archivos y creacion de COMMIT 1679760260.177852\n",
      "fe2fe6b PRUEBA numero 2136571 de adicion de archivos y creacion de COMMIT 1679760258.444439\n",
      "da96bf3 PRUEBA numero 6134739 de adicion de archivos y creacion de COMMIT 1679760256.67623\n",
      "b091ae2 PRUEBA numero 4976931 de adicion de archivos y creacion de COMMIT 1679760254.898843\n",
      "c328d0a PRUEBA numero 174794 de adicion de archivos y creacion de COMMIT 1679760253.096482\n",
      "5b60857 PRUEBA numero 9030871 de adicion de archivos y creacion de COMMIT 1679759731.777404\n",
      "ff52180 PRUEBA numero 2217301 de adicion de archivos y creacion de COMMIT 1679759729.903067\n",
      "6714a42 adicionados archivos de prueba\n",
      "3b4edb5 adicionados archivo de configuracion y requerimientos\n",
      "d15fad2 Initial commit\n",
      "##############################################################################################################\n",
      "\n",
      "############################################# COMANDO A EJECUTAR #############################################\n",
      "git status\n",
      "####################################### RESULTADO DE COMANDO EJECUTADO #######################################\n",
      "On branch utils\n",
      "nothing to commit, working tree clean\n",
      "##############################################################################################################\n",
      "\n"
     ]
    }
   ],
   "source": [
    "crear_commits(total_commits=5)"
   ]
  },
  {
   "cell_type": "code",
   "execution_count": 150,
   "id": "268504c1-0fdc-4560-95f5-5f57d310ed5f",
   "metadata": {
    "scrolled": true,
    "tags": []
   },
   "outputs": [
    {
     "name": "stdout",
     "output_type": "stream",
     "text": [
      "############################################# COMANDO A EJECUTAR #############################################\n",
      "git reset 5b60857\n",
      "####################################### RESULTADO DE COMANDO EJECUTADO #######################################\n",
      "Unstaged changes after reset:\n",
      "D\t.gitignore\n",
      "M\tDockerfile\n",
      "D\tLICENSE\n",
      "M\tManifest.yaml\n",
      "D\tREADME.md\n",
      "M\taddon.php\n",
      "M\tcalculos.c\n",
      "D\tconfig.json\n",
      "M\tconnection.java\n",
      "M\tdataset.avro\n",
      "M\timagen.png\n",
      "M\tinfo.txt\n",
      "M\tlink.vs\n",
      "M\tmain.py\n",
      "M\tquery.sql\n",
      "D\trequirements.txt\n",
      "M\tutils.gif\n",
      "##############################################################################################################\n",
      "\n",
      "############################################# COMANDO A EJECUTAR #############################################\n",
      "git status\n",
      "####################################### RESULTADO DE COMANDO EJECUTADO #######################################\n",
      "On branch utils\n",
      "Changes not staged for commit:\n",
      "  (use \"git add/rm <file>...\" to update what will be committed)\n",
      "  (use \"git restore <file>...\" to discard changes in working directory)\n",
      "\tdeleted:    .gitignore\n",
      "\tmodified:   Dockerfile\n",
      "\tdeleted:    LICENSE\n",
      "\tmodified:   Manifest.yaml\n",
      "\tdeleted:    README.md\n",
      "\tmodified:   addon.php\n",
      "\tmodified:   calculos.c\n",
      "\tdeleted:    config.json\n",
      "\tmodified:   connection.java\n",
      "\tmodified:   dataset.avro\n",
      "\tmodified:   imagen.png\n",
      "\tmodified:   info.txt\n",
      "\tmodified:   link.vs\n",
      "\tmodified:   main.py\n",
      "\tmodified:   query.sql\n",
      "\tdeleted:    requirements.txt\n",
      "\tmodified:   utils.gif\n",
      "\n",
      "Untracked files:\n",
      "  (use \"git add <file>...\" to include in what will be committed)\n",
      "\t.ipynb_checkpoints/\n",
      "\n",
      "no changes added to commit (use \"git add\" and/or \"git commit -a\")\n",
      "##############################################################################################################\n",
      "\n",
      "############################################# COMANDO A EJECUTAR #############################################\n",
      "git log\n",
      "####################################### RESULTADO DE COMANDO EJECUTADO #######################################\n",
      "commit 5b608570939bad9dc303902eb4ea3a00f24772f7\n",
      "Author: PARADIGMA\\QiDimMak <jorgecardona@utp.edu.co>\n",
      "Date:   Sat Mar 25 10:55:31 2023 -0500\n",
      "\n",
      "    PRUEBA numero 9030871 de adicion de archivos y creacion de COMMIT 1679759731.777404\n",
      "\n",
      "commit ff521806dcea4e29916ddac2affdc29707921d88\n",
      "Author: PARADIGMA\\QiDimMak <jorgecardona@utp.edu.co>\n",
      "Date:   Sat Mar 25 10:55:29 2023 -0500\n",
      "\n",
      "    PRUEBA numero 2217301 de adicion de archivos y creacion de COMMIT 1679759729.903067\n",
      "\n",
      "commit 6714a429712112b58bf7baab6e13cd57f37a95a2\n",
      "Author: PARADIGMA\\QiDimMak <jorgecardona@utp.edu.co>\n",
      "Date:   Sat Mar 25 10:55:27 2023 -0500\n",
      "\n",
      "    adicionados archivos de prueba\n",
      "\n",
      "commit 3b4edb5a785dcc5841b35cd2ad93033cd29cb730\n",
      "Author: PARADIGMA\\QiDimMak <jorgecardona@utp.edu.co>\n",
      "Date:   Fri Mar 17 20:39:55 2023 -0500\n",
      "\n",
      "    adicionados archivo de configuracion y requerimientos\n",
      "\n",
      "commit d15fad27cb8d1bcb6a0e697ef02e2d787dc51b48\n",
      "Author: JorgeCardona <jorgecardona@utp.edu.co>\n",
      "Date:   Fri Mar 17 20:27:49 2023 -0500\n",
      "\n",
      "    Initial commit\n",
      "##############################################################################################################\n",
      "\n"
     ]
    }
   ],
   "source": [
    "commit_id= '5b60857'\n",
    "comando = 'git reset {commit_id}'.format(commit_id=commit_id)\n",
    "ejecutar_comando_git(comando)\n",
    "\n",
    "comando = 'git status'\n",
    "ejecutar_comando_git(comando)\n",
    "\n",
    "comando = 'git log'\n",
    "ejecutar_comando_git(comando)"
   ]
  },
  {
   "cell_type": "markdown",
   "id": "d46fc114-9e5b-42be-b81e-703118792795",
   "metadata": {},
   "source": [
    "## ELIMINAR LA RAMA"
   ]
  },
  {
   "cell_type": "code",
   "execution_count": 151,
   "id": "e67a933a-c5ec-4840-8abc-6d8d4a77de8d",
   "metadata": {
    "tags": []
   },
   "outputs": [
    {
     "name": "stdout",
     "output_type": "stream",
     "text": [
      "############################################# COMANDO A EJECUTAR #############################################\n",
      "git checkout main\n",
      "####################################### RESULTADO DE COMANDO EJECUTADO #######################################\n",
      "D\t.gitignore\n",
      "M\tDockerfile\n",
      "D\tLICENSE\n",
      "M\tManifest.yaml\n",
      "D\tREADME.md\n",
      "M\taddon.php\n",
      "M\tcalculos.c\n",
      "D\tconfig.json\n",
      "M\tconnection.java\n",
      "M\tdataset.avro\n",
      "M\timagen.png\n",
      "M\tinfo.txt\n",
      "M\tlink.vs\n",
      "M\tmain.py\n",
      "M\tquery.sql\n",
      "D\trequirements.txt\n",
      "M\tutils.gif\n",
      "Your branch is ahead of 'origin/main' by 3 commits.\n",
      "  (use \"git push\" to publish your local commits)\n",
      "##############################################################################################################\n",
      "\n",
      "############################################# COMANDO A EJECUTAR #############################################\n",
      "git branch -D utils\n",
      "####################################### RESULTADO DE COMANDO EJECUTADO #######################################\n",
      "Deleted branch utils (was 5b60857).\n",
      "##############################################################################################################\n",
      "\n",
      "############################################# COMANDO A EJECUTAR #############################################\n",
      "git branch -a\n",
      "####################################### RESULTADO DE COMANDO EJECUTADO #######################################\n",
      "* main\n",
      "  multi_commits\n",
      "  remotes/origin/HEAD -> origin/main\n",
      "  remotes/origin/commit_branch\n",
      "  remotes/origin/main\n",
      "  remotes/origin/multi_commits\n",
      "##############################################################################################################\n",
      "\n"
     ]
    }
   ],
   "source": [
    "# no se puede eliminar una rama si se esta trabajando en ese monento en ella\n",
    "comando = 'git checkout main'\n",
    "ejecutar_comando_git(comando)\n",
    "\n",
    "comando = 'git branch -D {rama}'.format(rama=rama)\n",
    "ejecutar_comando_git(comando)\n",
    "\n",
    "comando = 'git branch -a'\n",
    "ejecutar_comando_git(comando)"
   ]
  },
  {
   "cell_type": "markdown",
   "id": "708c0fc6-1c94-4bd3-b237-c336fdc408ae",
   "metadata": {},
   "source": [
    "# <center> LISTAR EL HISTORIAL DE COMMITS DE UN REPOSITORIO GIT</center>"
   ]
  },
  {
   "cell_type": "markdown",
   "id": "03c490cf-5706-4b76-aa55-b47ba6dc5771",
   "metadata": {},
   "source": [
    "### VER EL HISTORIAL COMPLETO DE LA RAMA MAIN"
   ]
  },
  {
   "cell_type": "code",
   "execution_count": null,
   "id": "6aba429a-d966-479a-858f-a09ed692d268",
   "metadata": {
    "scrolled": true,
    "tags": []
   },
   "outputs": [],
   "source": [
    "comando = 'git log'\n",
    "ejecutar_comando_git(comando)\n",
    "\n",
    "ejecutar_comando_shell()"
   ]
  },
  {
   "cell_type": "markdown",
   "id": "e3fb7568-f0f6-41b3-adaa-e40aec8b6c74",
   "metadata": {},
   "source": [
    "### VER HISTORIAL OTRA RAMA REMOTA"
   ]
  },
  {
   "cell_type": "code",
   "execution_count": null,
   "id": "bab303fe-fe43-48c4-8267-2bd6899a92d1",
   "metadata": {
    "scrolled": true,
    "tags": []
   },
   "outputs": [],
   "source": [
    "nombre_rama = 'commit_branch'\n",
    "generar_archivos_y_hacer_commit(nombre_rama=nombre_rama)"
   ]
  },
  {
   "cell_type": "code",
   "execution_count": null,
   "id": "211d14be-1715-43f4-afa9-bc07f11c5992",
   "metadata": {
    "scrolled": true,
    "tags": []
   },
   "outputs": [],
   "source": [
    "comando = 'git log'\n",
    "ejecutar_comando_git(comando)\n",
    "\n",
    "ejecutar_comando_shell()"
   ]
  },
  {
   "cell_type": "markdown",
   "id": "b26c3022-d94b-4132-a63b-913a1522da1c",
   "metadata": {},
   "source": [
    "### VER HISTORIAL DE LOS ULTIMOS n COMMITS"
   ]
  },
  {
   "cell_type": "code",
   "execution_count": null,
   "id": "de4a869a-edc0-478a-ae34-79ea94a30018",
   "metadata": {
    "scrolled": true,
    "tags": []
   },
   "outputs": [],
   "source": [
    "comando = 'git log -3' \n",
    "ejecutar_comando_git(comando)\n",
    "\n",
    "ejecutar_comando_shell()"
   ]
  },
  {
   "cell_type": "markdown",
   "id": "17309b57-9e0f-4b16-81db-abfe3f07d762",
   "metadata": {},
   "source": [
    "### VER HISTORIAL RESUMIDO DE UNA RAMA"
   ]
  },
  {
   "cell_type": "code",
   "execution_count": null,
   "id": "28b90f01-56d6-4474-822e-5f38e384198c",
   "metadata": {
    "tags": []
   },
   "outputs": [],
   "source": [
    "comando = 'git log --oneline'\n",
    "ejecutar_comando_git(comando)\n",
    "ejecutar_comando_shell()"
   ]
  },
  {
   "cell_type": "markdown",
   "id": "a57c7d34-4621-4be8-8f00-39ddb3be0f80",
   "metadata": {},
   "source": [
    "### VER HISTORIAL RESUMIDO DE UNA RAMA DE n COMMITS"
   ]
  },
  {
   "cell_type": "code",
   "execution_count": null,
   "id": "bf2b7b79-80c3-48ac-95fa-0d0afa8e8439",
   "metadata": {
    "tags": []
   },
   "outputs": [],
   "source": [
    "comando = 'git log --oneline -3'\n",
    "ejecutar_comando_git(comando)\n",
    "ejecutar_comando_shell()"
   ]
  },
  {
   "cell_type": "markdown",
   "id": "20ab2987-4dc0-4b32-b64e-d9ad8765899b",
   "metadata": {},
   "source": [
    "## VER HISTORIAL RESUMIDO DE UNA RAMA SIN ESTAR EN LA RAMA"
   ]
  },
  {
   "cell_type": "code",
   "execution_count": null,
   "id": "36a25ca6-500b-4f32-8596-be5124db2755",
   "metadata": {
    "tags": []
   },
   "outputs": [],
   "source": [
    "comando = 'git log --oneline main'\n",
    "ejecutar_comando_git(comando)\n",
    "ejecutar_comando_shell()"
   ]
  },
  {
   "cell_type": "markdown",
   "id": "a49ba8d3-b16c-4c21-aa5f-cabf2a11262c",
   "metadata": {},
   "source": [
    "### VER HISTORIAL DE n COMMITS Y MOSTRAR LOS CAMBIOS ESPECIFICOS DE ESOS COMMITS"
   ]
  },
  {
   "cell_type": "code",
   "execution_count": null,
   "id": "c11ada4a-b616-4342-9f70-6404941eb817",
   "metadata": {
    "scrolled": true,
    "tags": []
   },
   "outputs": [],
   "source": [
    "comando = 'git log -2 -p'\n",
    "ejecutar_comando_git(comando)\n",
    "ejecutar_comando_shell()"
   ]
  },
  {
   "cell_type": "markdown",
   "id": "1edb9254-ecc7-4e14-9c3d-1c5bb60ee8a9",
   "metadata": {},
   "source": [
    "### VER HISTORIAL DE n COMMITS Y MOSTRAR LOS CAMBIOS ESPECIFICOS DE ESOS COMMITS USANDO **SHOW**"
   ]
  },
  {
   "cell_type": "code",
   "execution_count": null,
   "id": "73169185-d4db-4a90-b5e6-224fc9ac88fc",
   "metadata": {
    "scrolled": true,
    "tags": []
   },
   "outputs": [],
   "source": [
    "comando = 'git show -2'\n",
    "ejecutar_comando_git(comando)\n",
    "ejecutar_comando_shell()"
   ]
  },
  {
   "cell_type": "markdown",
   "id": "6aefdda1-9272-423c-91db-7fa36d0fa9a1",
   "metadata": {},
   "source": [
    "### VER HISTORIAL RESUMIDO DE n COMMITS Y MOSTRAR LOS CAMBIOS ESPECIFICOS DE ESOS COMMITS"
   ]
  },
  {
   "cell_type": "code",
   "execution_count": null,
   "id": "cb0f0b2b-53cd-469e-8a42-581d08748748",
   "metadata": {
    "scrolled": true,
    "tags": []
   },
   "outputs": [],
   "source": [
    "comando = 'git log --oneline -2 -p'\n",
    "ejecutar_comando_git(comando)\n",
    "ejecutar_comando_shell()"
   ]
  },
  {
   "cell_type": "markdown",
   "id": "df29e830-8479-4e2c-8644-3fef5af5b17e",
   "metadata": {},
   "source": [
    "### VER HISTORIAL DE n COMMITS ANTES DE UNA FECHA ESPECIFICA"
   ]
  },
  {
   "cell_type": "code",
   "execution_count": null,
   "id": "2b07cfd9-5ea6-4002-b5cc-b246e3b9d4e3",
   "metadata": {
    "tags": []
   },
   "outputs": [],
   "source": [
    "comando = 'git log --oneline --before={2019-05-30}'\n",
    "ejecutar_comando_git(comando)\n",
    "ejecutar_comando_shell()"
   ]
  },
  {
   "cell_type": "markdown",
   "id": "e74d219e-f350-44a4-b6ad-a2feadadb3dd",
   "metadata": {},
   "source": [
    "### VER HISTORIAL DE n COMMITS DESPUES DE UNA FECHA ESPECIFICA"
   ]
  },
  {
   "cell_type": "code",
   "execution_count": null,
   "id": "7dd64c76-20c0-41da-b503-92cb0308c4aa",
   "metadata": {
    "tags": []
   },
   "outputs": [],
   "source": [
    "comando = 'git log --oneline --after={2019-05-30}'\n",
    "ejecutar_comando_git(comando)\n",
    "ejecutar_comando_shell()"
   ]
  },
  {
   "cell_type": "markdown",
   "id": "217687fd-57f7-45f5-920b-acd6cebd4c50",
   "metadata": {
    "tags": []
   },
   "source": [
    "### VER HISTORIAL DE QUIEN HA MANIPULADO UN ARCHIVO ESPECIFICO"
   ]
  },
  {
   "cell_type": "code",
   "execution_count": null,
   "id": "1e2b697f-01c1-43e5-953d-32892dc88372",
   "metadata": {
    "tags": []
   },
   "outputs": [],
   "source": [
    "comando = 'git blame info.txt'\n",
    "ejecutar_comando_git(comando)\n",
    "ejecutar_comando_shell()"
   ]
  },
  {
   "cell_type": "markdown",
   "id": "a3cec8be-f59d-4ebe-a599-cbd901f81cd0",
   "metadata": {},
   "source": [
    "### VER HISTORIAL DE n COMMITS EN UN DIAGRAMA DE GRAFO"
   ]
  },
  {
   "cell_type": "code",
   "execution_count": null,
   "id": "66aee900-f963-44c4-8c05-635119dabdee",
   "metadata": {
    "tags": []
   },
   "outputs": [],
   "source": [
    "comando = 'git log --graph --oneline'\n",
    "ejecutar_comando_git(comando)\n",
    "ejecutar_comando_shell()"
   ]
  },
  {
   "cell_type": "markdown",
   "id": "65b9e1b4-e891-4278-a47b-da05baba44e1",
   "metadata": {},
   "source": [
    "### VER HISTORIAL DE n COMMITS EN UN DIAGRAMA DE GRAFO MAS DETALLADO"
   ]
  },
  {
   "cell_type": "code",
   "execution_count": null,
   "id": "3a683d18-d8b4-426b-b9fd-e9a2b7bc664f",
   "metadata": {
    "tags": []
   },
   "outputs": [],
   "source": [
    "comando = 'git log --decorate --graph --oneline --all'\n",
    "ejecutar_comando_git(comando)\n",
    "ejecutar_comando_shell()"
   ]
  },
  {
   "cell_type": "markdown",
   "id": "3d37f19c-9e0e-4560-8c6b-3463708eca46",
   "metadata": {},
   "source": [
    "# <center> MOSTRAR LOS METADATOS Y LOS CAMBIOS DE UN COMMIT ESPECIFICO</center>"
   ]
  },
  {
   "cell_type": "code",
   "execution_count": null,
   "id": "27b3b01b-b640-457a-b142-dfd9df2a488a",
   "metadata": {
    "scrolled": true,
    "tags": []
   },
   "outputs": [],
   "source": [
    "# solo en este paso, al hacer el primer commit se crea la rama\n",
    "comando = 'git show d15fad27cb8d1bcb6a0e697ef02e2d787dc51b48'\n",
    "ejecutar_comando_git(comando)\n",
    "        \n",
    "comando = 'git status'\n",
    "ejecutar_comando_git(comando)"
   ]
  },
  {
   "cell_type": "markdown",
   "id": "155df078-6872-42e3-a436-7632917d7b52",
   "metadata": {},
   "source": [
    "# <center> BUSCAR FRASE DENTRO DE TODOS LOS ARCHIVOS DE LA RAMA DEL REPOSITORIO</center>"
   ]
  },
  {
   "cell_type": "markdown",
   "id": "cb879e56-a3a4-437d-a1b8-cb24418bf231",
   "metadata": {},
   "source": [
    "### BUSQUEDA SENSIBLE AL CASO"
   ]
  },
  {
   "cell_type": "code",
   "execution_count": null,
   "id": "a7a6d86c-253d-4d47-b461-199354650c22",
   "metadata": {
    "scrolled": true,
    "tags": []
   },
   "outputs": [],
   "source": [
    "frase_a_buscar = '7'\n",
    "\n",
    "# la busqueda es sensible al caso\n",
    "comando = 'git grep {frase_a_buscar}'.format(frase_a_buscar=frase_a_buscar)\n",
    "ejecutar_comando_git(comando)\n",
    "\n",
    "ejecutar_comando_shell()"
   ]
  },
  {
   "cell_type": "markdown",
   "id": "3c4a0b49-2893-4710-aae6-56a9022bdc9c",
   "metadata": {},
   "source": [
    "### BUSQUEDA NO SENSIBLE AL CASO"
   ]
  },
  {
   "cell_type": "code",
   "execution_count": null,
   "id": "37475ec6-cf8a-4b59-b421-ab8e7169512f",
   "metadata": {
    "tags": []
   },
   "outputs": [],
   "source": [
    "# busca mayusculas y minusculas\n",
    "comando = 'git grep -i {frase_a_buscar}'.format(frase_a_buscar=frase_a_buscar)\n",
    "ejecutar_comando_git(comando)"
   ]
  },
  {
   "cell_type": "markdown",
   "id": "5e0f445f-4580-492f-8e43-85b3b0a6cba2",
   "metadata": {},
   "source": [
    "### BUSQUEDA POR PALABRA ESPECIFICA"
   ]
  },
  {
   "cell_type": "code",
   "execution_count": null,
   "id": "ad9055a7-c026-4f33-9694-01767117ee3c",
   "metadata": {
    "tags": []
   },
   "outputs": [],
   "source": [
    "# busca la palabra sola sin mezcla, que no sea prefijo o sufijo, los simbolos no bloquean la busqueda\n",
    "comando = 'git grep -iw {frase_a_buscar}'.format(frase_a_buscar=frase_a_buscar)\n",
    "ejecutar_comando_git(comando)"
   ]
  },
  {
   "cell_type": "markdown",
   "id": "07003e4c-9c59-4638-8e9c-9e7ba0da0afc",
   "metadata": {},
   "source": [
    "### BUSQUEDA CON INTERVALO DE LINEAS POR ENCIMA Y POR DEBAJO DEL TEXTO A BUSCAR"
   ]
  },
  {
   "cell_type": "code",
   "execution_count": null,
   "id": "b0f80eb5-310a-45df-b20e-5ac839981d6b",
   "metadata": {
    "scrolled": true,
    "tags": []
   },
   "outputs": [],
   "source": [
    "# divide el texto y muestra con C cuantas lineas detexto por debajo y por encima existe al filtrar la palabra deseada\n",
    "comando = 'git grep -i -C 2 {frase_a_buscar}'.format(frase_a_buscar=frase_a_buscar)\n",
    "ejecutar_comando_git(comando)"
   ]
  },
  {
   "cell_type": "markdown",
   "id": "da376f7d-0d00-4978-8e48-eb8aeb78a212",
   "metadata": {},
   "source": [
    "### MOSTRAR EL ARCHIVO Y EL NUMERO DE LA LINEA DONDE ESTA EL TEXTO BUSCADO"
   ]
  },
  {
   "cell_type": "code",
   "execution_count": null,
   "id": "a9936806-0069-421b-a638-a55497c4df8d",
   "metadata": {
    "tags": []
   },
   "outputs": [],
   "source": [
    "comando = 'git grep -i -n {frase_a_buscar}'.format(frase_a_buscar=frase_a_buscar)\n",
    "ejecutar_comando_git(comando)"
   ]
  },
  {
   "cell_type": "markdown",
   "id": "a635a5d2-fac3-4b87-a9da-9594d6ce2f5e",
   "metadata": {},
   "source": [
    "# <center> LISTAR EL HISTORIAL DE TODAS LAS ACCIONES REALIZADAS EN UN REPOSITORIO GIT <br> LISTADO DESDE EL MAS NUEVO HASTA EL PRIMER CAMBIO</br> <br> PERMITE RECUPERAR COMMITS Y RAMAS BORRADAS ACCIDENTALMENTE USANDO EL HASH DEL COMMIT</br></center>"
   ]
  },
  {
   "cell_type": "markdown",
   "id": "787c56aa-2139-432d-bf42-0a0f45ffc963",
   "metadata": {
    "tags": []
   },
   "source": [
    "### OBTENER EL HISTORIAL DE LOS CAMBIOS EN EL REPOSITORIO"
   ]
  },
  {
   "cell_type": "code",
   "execution_count": null,
   "id": "d6113c4b-2a96-407f-bf7d-291ad770fe4e",
   "metadata": {
    "tags": []
   },
   "outputs": [],
   "source": [
    "comando = 'git reflog'\n",
    "ejecutar_comando_git(comando)\n",
    "ejecutar_comando_shell()"
   ]
  },
  {
   "cell_type": "markdown",
   "id": "2ab4451d-7a80-4476-a3d1-b0c50367374f",
   "metadata": {},
   "source": [
    "### OBTENER EL HISTORIAL DE LOS CAMBIOS EN EL REPOSITORIO Y MOSTRAR LOS CAMBIOS DE CADA ARCHIVO EN ESOS CAMBIOS"
   ]
  },
  {
   "cell_type": "code",
   "execution_count": null,
   "id": "138fdab9-35b7-41c7-a069-6cadff11706d",
   "metadata": {
    "scrolled": true,
    "tags": []
   },
   "outputs": [],
   "source": [
    "comando = 'git reflog -g --patch'\n",
    "ejecutar_comando_git(comando)\n",
    "ejecutar_comando_shell()"
   ]
  },
  {
   "cell_type": "markdown",
   "id": "a4ca23d2-6a1a-42a6-b36f-2643f785f690",
   "metadata": {
    "tags": []
   },
   "source": [
    "#### ELIMINAR LA RAMA EN EL REPOSITORIO REMOTO Y LOCAL"
   ]
  },
  {
   "cell_type": "code",
   "execution_count": null,
   "id": "7d5982f1-18fb-4245-a3ed-e4ffd1713305",
   "metadata": {},
   "outputs": [],
   "source": [
    "comando = 'git checkout main'\n",
    "ejecutar_comando_git(comando)\n",
    "\n",
    "comando = 'git push origin -d {nombre_rama}'.format(nombre_rama=nombre_rama)\n",
    "ejecutar_comando_git(comando)\n",
    "\n",
    "comando = 'git branch -D {nombre_rama}'.format(nombre_rama=nombre_rama)\n",
    "ejecutar_comando_git(comando)\n",
    "\n",
    "comando = 'git branch -a'\n",
    "ejecutar_comando_git(comando)"
   ]
  },
  {
   "cell_type": "markdown",
   "id": "c35db3d6-6403-4e68-966b-af50f54f40cf",
   "metadata": {},
   "source": [
    "# <center> MODIFICAR EL MENSAJE DEL ULTIMO COMMIT</center>"
   ]
  },
  {
   "cell_type": "code",
   "execution_count": null,
   "id": "bcea54f7-358f-4e5c-afa0-e5ee5c237900",
   "metadata": {
    "scrolled": true,
    "tags": []
   },
   "outputs": [],
   "source": [
    "nombre_rama = 'amend_branch'\n",
    "generar_archivos_y_hacer_commit(nombre_rama=nombre_rama, todos_los_archivos=False)"
   ]
  },
  {
   "cell_type": "markdown",
   "id": "04a2bd03-dc9d-4573-b7a0-0e7185687dc5",
   "metadata": {},
   "source": [
    "# EN LA CONSOLA DE VSCODE\n",
    "# git commit --amend\n",
    "\n",
    "## SE ABRE AUTOMATICAMENTE EL EDITOR DE TEXTO, reemplazar el emnsaje del commit anterior por el que se quiere y cerrar el archivo\n",
    "## validar en local con git log, no afecta la hora del commit original con la fecha del mensaje actualizado\n",
    "## subir los cambios al repositorio¶\n",
    "# git push --force origin amend_branch"
   ]
  },
  {
   "cell_type": "code",
   "execution_count": null,
   "id": "62fd5b2d-c35e-452c-8929-fbbd9314f90f",
   "metadata": {
    "scrolled": true,
    "tags": []
   },
   "outputs": [],
   "source": [
    "comando = 'git log'\n",
    "ejecutar_comando_git(comando)"
   ]
  },
  {
   "cell_type": "markdown",
   "id": "85f441a3-5119-4832-93eb-44604777da3e",
   "metadata": {
    "tags": []
   },
   "source": [
    "#### ELIMINAR LA RAMA EN EL REPOSITORIO REMOTO Y LOCAL"
   ]
  },
  {
   "cell_type": "code",
   "execution_count": null,
   "id": "743a5af2-8952-4143-961a-b7bf4b9e31a2",
   "metadata": {},
   "outputs": [],
   "source": [
    "comando = 'git checkout main'\n",
    "ejecutar_comando_git(comando)\n",
    "\n",
    "comando = 'git push origin -d {nombre_rama}'.format(nombre_rama=nombre_rama)\n",
    "ejecutar_comando_git(comando)\n",
    "\n",
    "comando = 'git branch -D {nombre_rama}'.format(nombre_rama=nombre_rama)\n",
    "ejecutar_comando_git(comando)\n",
    "\n",
    "comando = 'git branch -a'\n",
    "ejecutar_comando_git(comando)"
   ]
  },
  {
   "cell_type": "markdown",
   "id": "3f4b9314-b71f-4f83-b10f-2a2e8b201580",
   "metadata": {},
   "source": [
    "# <center> REGRESAR A UNA VERSION ANTERIOR DE UN REPOSITORIO GIT</center>"
   ]
  },
  {
   "cell_type": "markdown",
   "id": "259eea42-f14d-446b-b01d-ad0aeffcb3d7",
   "metadata": {},
   "source": [
    "### DETACHED - MOVERSE A UN COMMIT ESPECIFICO Y PONER ESTE COMMIT CON LA NUEVA HEAD"
   ]
  },
  {
   "cell_type": "code",
   "execution_count": null,
   "id": "554290ba-8a54-44ad-9314-825f031a9396",
   "metadata": {
    "scrolled": true,
    "tags": []
   },
   "outputs": [],
   "source": [
    "comando = 'git checkout multi_commits'\n",
    "ejecutar_comando_git(comando)\n",
    "\n",
    "comando = 'git checkout d15fad27cb8d1bcb6a0e697ef02e2d787dc51b48'\n",
    "ejecutar_comando_git(comando)\n",
    "\n",
    "comando = 'git log --oneline'\n",
    "ejecutar_comando_git(comando)\n",
    "\n",
    "ejecutar_comando_shell()"
   ]
  },
  {
   "cell_type": "markdown",
   "id": "d5838e4b-70fd-4f79-aa4a-4317fb7379ce",
   "metadata": {},
   "source": [
    "### RETORNA AL HEAD ORIGINAL DE LA RAMA"
   ]
  },
  {
   "cell_type": "code",
   "execution_count": null,
   "id": "697ab643-0f90-4ff3-94e6-f1abc58cd7de",
   "metadata": {
    "scrolled": true,
    "tags": []
   },
   "outputs": [],
   "source": [
    "comando = 'git switch -'\n",
    "ejecutar_comando_git(comando)\n",
    "\n",
    "comando = 'git log --oneline'\n",
    "ejecutar_comando_git(comando)\n",
    "\n",
    "ejecutar_comando_shell()"
   ]
  },
  {
   "cell_type": "markdown",
   "id": "ba29758c-fa6f-49cc-8fd6-c07523b4f339",
   "metadata": {},
   "source": [
    "# <center> RESET COMMITs DE UN REPOSITORIO</center>"
   ]
  },
  {
   "cell_type": "code",
   "execution_count": null,
   "id": "fb700ec4-bd71-4094-b7e6-6161977c15ac",
   "metadata": {
    "scrolled": true,
    "tags": []
   },
   "outputs": [],
   "source": [
    "nombre_rama = 'reset_branch'\n",
    "generar_archivos_y_hacer_commit(nombre_rama=nombre_rama)"
   ]
  },
  {
   "cell_type": "markdown",
   "id": "0baa7ec9-a901-4715-a606-c6aff785f194",
   "metadata": {},
   "source": [
    "### SOFT RESET n COMMITs **HEAD~n** MANTENIENDO LOS CAMBIOS QUE SE HABIAN HECHO EN LOS ARCHIVOS LOCALES\n",
    "<center>\n",
    "    <img width=\"75%\" align=\"center\" src=\"reset_soft.gif\">\n",
    "</center>\n",
    "<br>\n",
    "<center>\n",
    "    <img width=\"75%\" align=\"center\" src=\"reflog_reset.gif\">\n",
    "</center>"
   ]
  },
  {
   "cell_type": "code",
   "execution_count": null,
   "id": "2b158698-7edd-42db-b76c-197f546c16fd",
   "metadata": {
    "scrolled": true,
    "tags": []
   },
   "outputs": [],
   "source": [
    "# MANITIENE todos los archivos o cambios hechos despues de este commit Y PUEDEN SER GUARDADOS DE NUEVO\n",
    "comando = 'git reset --soft HEAD~3'\n",
    "ejecutar_comando_git(comando)\n",
    "\n",
    "comando = 'git log --oneline'\n",
    "ejecutar_comando_git(comando)"
   ]
  },
  {
   "cell_type": "markdown",
   "id": "f165436b-e609-45ad-9715-339e1d78935a",
   "metadata": {},
   "source": [
    "### HARD RESET n COMMITs **HEAD~n** ELIMINANDO LOS ARCHIVOS Y CAMBIOS QUE SE HABIAN HECHO HASTA ESTE COMMIT\n",
    "<center>\n",
    "    <img width=\"75%\" align=\"center\" src=\"reset_hard.gif\">\n",
    "</center>"
   ]
  },
  {
   "cell_type": "code",
   "execution_count": null,
   "id": "5aae132c-6054-46e4-900c-db9a494dffd5",
   "metadata": {
    "scrolled": true,
    "tags": []
   },
   "outputs": [],
   "source": [
    "# elimina todos los archivos o cambios hechos despues de este commit YA NO SE PUEDEN RECUPERAR ESOS ARCHIVOS\n",
    "comando = 'git reset --hard HEAD~7'\n",
    "ejecutar_comando_git(comando)\n",
    "\n",
    "comando = 'git log --oneline'\n",
    "ejecutar_comando_git(comando)"
   ]
  },
  {
   "cell_type": "markdown",
   "id": "e1fae349-008e-429c-bc31-0812d917bc1d",
   "metadata": {},
   "source": [
    "### RESET COMMITs ELIMINANDO LOS ARCHIVOS Y CAMBIOS HASTA UN COMMIT ESPECIFICO USANDO EL ID DEL COMMIT"
   ]
  },
  {
   "cell_type": "code",
   "execution_count": null,
   "id": "840915cb-d988-4531-b718-c9db65e2c18e",
   "metadata": {
    "tags": []
   },
   "outputs": [],
   "source": [
    "comando = 'git reset --hard 3b4edb5a785dcc5841b35cd2ad93033cd29cb730'\n",
    "ejecutar_comando_git(comando)"
   ]
  },
  {
   "cell_type": "markdown",
   "id": "b3dd8cdf-657f-49c9-887b-6d0ddb2f06db",
   "metadata": {},
   "source": [
    "## RESET HASTA UN COMMIT ESPECIFICO EN UN REPOSITORIO REMOTO <br>https://github.com/JorgeCardona/comandos_git</br>"
   ]
  },
  {
   "cell_type": "code",
   "execution_count": null,
   "id": "58e70ab3-644f-4a9c-8a4d-24094690d843",
   "metadata": {
    "tags": []
   },
   "outputs": [],
   "source": [
    "comando = 'git reset --hard d15fad27cb8d1bcb6a0e697ef02e2d787dc51b48'\n",
    "ejecutar_comando_git(comando)"
   ]
  },
  {
   "cell_type": "markdown",
   "id": "ecfff94e-20ee-46bb-8a1d-97bd8e5f76ad",
   "metadata": {},
   "source": [
    "#### CONFIRMAR LOS CAMBIOS DEL RESET EN EL REPOSITORIO DE ORIGEN O REMOTO"
   ]
  },
  {
   "cell_type": "code",
   "execution_count": null,
   "id": "85a7f262-e036-4ea1-ba5b-7daf6de7c221",
   "metadata": {
    "scrolled": true,
    "tags": []
   },
   "outputs": [],
   "source": [
    "# confirmar los cambios al repositorio remoto el reset\n",
    "comando = 'git push --force origin {nombre_rama}'.format(nombre_rama=nombre_rama)\n",
    "ejecutar_comando_git(comando)"
   ]
  },
  {
   "cell_type": "markdown",
   "id": "22c55372-c4e2-4df8-ac09-1703aaf4eb00",
   "metadata": {},
   "source": [
    "#### LISTAR HISTORIAL DE CAMBIOS HECHOS EN EL REPOSITORIO LOCAL"
   ]
  },
  {
   "cell_type": "code",
   "execution_count": null,
   "id": "48858df0-8083-46b3-8816-a3f6efd915fd",
   "metadata": {
    "scrolled": true,
    "tags": []
   },
   "outputs": [],
   "source": [
    "comando = 'git reflog'\n",
    "ejecutar_comando_git(comando)\n",
    "ejecutar_comando_shell()"
   ]
  },
  {
   "cell_type": "markdown",
   "id": "6f134986-cf69-4c0c-adce-8d6f6de1a275",
   "metadata": {
    "tags": []
   },
   "source": [
    "#### ELIMINAR LA RAMA EN EL REPOSITORIO DE ORIGEN O REMOTO"
   ]
  },
  {
   "cell_type": "code",
   "execution_count": null,
   "id": "6bc84035-b76b-40d1-b6f4-87175b5c0fee",
   "metadata": {
    "tags": []
   },
   "outputs": [],
   "source": [
    "comando = 'git checkout main'\n",
    "ejecutar_comando_git(comando)\n",
    "\n",
    "comando = 'git push origin -d {nombre_rama}'.format(nombre_rama=nombre_rama)\n",
    "ejecutar_comando_git(comando)\n",
    "\n",
    "comando = 'git branch -D {nombre_rama}'.format(nombre_rama=nombre_rama)\n",
    "ejecutar_comando_git(comando)\n",
    "\n",
    "comando = 'git branch -a'\n",
    "ejecutar_comando_git(comando)"
   ]
  },
  {
   "cell_type": "markdown",
   "id": "da360e27-ccbd-473b-b6b0-3904eaf90ceb",
   "metadata": {},
   "source": [
    "# <center> REVERTIR COMMITs DE UN REPOSITORIO</center>\n",
    "<center>\n",
    "    <img width=\"75%\" align=\"center\" src=\"revert.gif\">\n",
    "</center>"
   ]
  },
  {
   "cell_type": "code",
   "execution_count": null,
   "id": "9f51021e-0467-45cb-848b-d6349adc47ae",
   "metadata": {
    "scrolled": true,
    "tags": []
   },
   "outputs": [],
   "source": [
    "nombre_rama = 'revert_branch'\n",
    "generar_archivos_y_hacer_commit(nombre_rama=nombre_rama)"
   ]
  },
  {
   "cell_type": "markdown",
   "id": "14dcee2e-b81b-46b1-be2d-11141fddccb3",
   "metadata": {},
   "source": [
    "## REVERT HASTA UN COMMIT ESPECIFICO O UN HEAD~ EN UN REPOSITORIO REMOTO <br>https://github.com/JorgeCardona/comandos_git</br>"
   ]
  },
  {
   "cell_type": "code",
   "execution_count": null,
   "id": "023475c8-814d-4f36-b64c-a64beca95906",
   "metadata": {
    "scrolled": true,
    "tags": []
   },
   "outputs": [],
   "source": [
    "# elimina todos los archivos o cambios hechos despues de este commit YA NO SE PUEDEN RECUPERAR ESOS ARCHIVOS\n",
    "comando = 'git revert HEAD~12'\n",
    "ejecutar_comando_git(comando)\n",
    "\n",
    "comando = 'git log --oneline'\n",
    "ejecutar_comando_git(comando)"
   ]
  },
  {
   "cell_type": "markdown",
   "id": "baf2e62d-6d6c-4db1-9e55-ed83ca32cc74",
   "metadata": {},
   "source": [
    "#### CONFIRMAR LOS CAMBIOS DEL REVERT EN EL REPOSITORIO REMOTO"
   ]
  },
  {
   "cell_type": "code",
   "execution_count": null,
   "id": "3d734989-5626-45c6-9628-b07f688f8a28",
   "metadata": {
    "tags": []
   },
   "outputs": [],
   "source": [
    "# confirmar al repositorio remoto el reset\n",
    "comando = 'git push --force origin {nombre_rama}'.format(nombre_rama=nombre_rama)\n",
    "ejecutar_comando_git(comando)"
   ]
  },
  {
   "cell_type": "markdown",
   "id": "9deccc0f-c689-4cd8-8b90-3b5d23be0495",
   "metadata": {
    "tags": []
   },
   "source": [
    "#### ELIMINAR LA RAMA EN EL REPOSITORIO DE ORIGEN O REMOTO"
   ]
  },
  {
   "cell_type": "code",
   "execution_count": null,
   "id": "28d44037-179f-4cd0-9db2-74378ba43261",
   "metadata": {
    "tags": []
   },
   "outputs": [],
   "source": [
    "comando = 'git checkout main'\n",
    "ejecutar_comando_git(comando)\n",
    "\n",
    "comando = 'git push origin -d {nombre_rama}'.format(nombre_rama=nombre_rama)\n",
    "ejecutar_comando_git(comando)\n",
    "\n",
    "comando = 'git branch -D {nombre_rama}'.format(nombre_rama=nombre_rama)\n",
    "ejecutar_comando_git(comando)\n",
    "\n",
    "comando = 'git branch -a'\n",
    "ejecutar_comando_git(comando)"
   ]
  },
  {
   "cell_type": "markdown",
   "id": "9b027290-7227-420b-83d9-df5d70ec5f30",
   "metadata": {
    "tags": []
   },
   "source": [
    "# <center> REBASE *JUNTAR VARIOS COMMITS EN UNO SOLO, CAMBIAR EL ORDEN DE LOS COMMITS <br>REESCRIBIENDO EL HISTORIAL Y LOS MENSAJES DE MULTIPLES* COMMITs DE UN REPOSITORIO</br> <br>https://github.com/JorgeCardona/comandos_git</br></center>\n",
    "<center>\n",
    "    <img width=\"75%\" align=\"center\" src=\"rebase.gif\">\n",
    "</center>"
   ]
  },
  {
   "cell_type": "code",
   "execution_count": null,
   "id": "cc27876f-4967-4f76-b861-405e533c651a",
   "metadata": {
    "scrolled": true,
    "tags": []
   },
   "outputs": [],
   "source": [
    "nombre_rama = 'rebase_branch'\n",
    "generar_archivos_y_hacer_commit(nombre_rama=nombre_rama)"
   ]
  },
  {
   "cell_type": "markdown",
   "id": "9f41a9a0-fc04-47f4-80ff-8e615a806360",
   "metadata": {},
   "source": [
    "# EN LA CONSOLA, TERMINAL O UN IDE DE DESARROLLO <br>https://github.com/JorgeCardona/comandos_git</br>\n",
    "\n",
    "<center>\n",
    "    <img width=\"75%\" align=\"center\" src=\"rebase_interactivo.gif\">\n",
    "</center>\n",
    "<br>\n",
    "<center>\n",
    "    <img width=\"75%\" align=\"center\" src=\"rebase_tipos.png\">\n",
    "</center>\n",
    "<br>\n",
    "<center>\n",
    "    <img width=\"75%\" align=\"center\" src=\"rebase_squash.gif\">\n",
    "</center>"
   ]
  },
  {
   "cell_type": "markdown",
   "id": "89cbab06-c933-44a8-bceb-c3a80735123e",
   "metadata": {},
   "source": [
    "### n COMMITS ATRAS\n",
    "# git rebase -i HEAD~9\n",
    "\n",
    "### UN COMMIT ESPECIFICO\n",
    "# git rebase -i d15fad27cb8d1bcb6a0e697ef02e2d787dc51b48\n",
    "\n",
    "\n",
    "##### SE ABRE AUTOMATICAMENTE EL EDITOR DE TEXTO, reemplazar la palabra **pick** por **squash** GUARDAR y CERRAR\n",
    "### DEJAR EL PRIMERO COMO PICK YA QUE SINO, NO EXISTEN COMMITS PARA HACER, GENERA ERROR.\n",
    "##### SE ABRE AUTOMATICAMENTE EL EDITOR DE TEXTO, reemplazar los comentarios por el comentario que se quiere\n",
    "## subir los cambios al repositorio\n",
    "# git push --force origin rebase_branch"
   ]
  },
  {
   "cell_type": "markdown",
   "id": "d6d6ce5d-6292-4989-a382-8b4c4223b1d8",
   "metadata": {
    "tags": []
   },
   "source": [
    "#### ELIMINAR LA RAMA DEL REPOSITORIO LOCAL Y REMOTO"
   ]
  },
  {
   "cell_type": "code",
   "execution_count": null,
   "id": "dea080a3-5eaf-4c8f-abeb-3ff0ae69f750",
   "metadata": {
    "tags": []
   },
   "outputs": [],
   "source": [
    "comando = 'git checkout main'\n",
    "ejecutar_comando_git(comando)\n",
    "\n",
    "comando = 'git push origin -d {nombre_rama}'.format(nombre_rama=nombre_rama)\n",
    "ejecutar_comando_git(comando)\n",
    "\n",
    "comando = 'git branch -D {nombre_rama}'.format(nombre_rama=nombre_rama)\n",
    "ejecutar_comando_git(comando)\n",
    "\n",
    "comando = 'git branch -a'\n",
    "ejecutar_comando_git(comando)"
   ]
  },
  {
   "cell_type": "markdown",
   "id": "98749f3f-04c9-4f07-bede-6fe4d3c04982",
   "metadata": {},
   "source": [
    "# <center> MERGE RAMAS DE UN REPOSITORIO <br>https://github.com/JorgeCardona/comandos_git</br></center>\n",
    "\n",
    "<center>\n",
    "    <img width=\"75%\" align=\"center\" src=\"merge.gif\">\n",
    "</center>"
   ]
  },
  {
   "cell_type": "code",
   "execution_count": null,
   "id": "b3a24f21-1be6-4aba-ae1f-8d33393e968b",
   "metadata": {
    "scrolled": true,
    "tags": []
   },
   "outputs": [],
   "source": [
    "nombre_ramas = ['branch_uno','branch_dos']\n",
    "\n",
    "for rama in nombre_ramas:\n",
    "    generar_archivos_y_hacer_commit(rama, todos_los_archivos = False)"
   ]
  },
  {
   "cell_type": "markdown",
   "id": "57b93962-ad12-4c53-ae6a-a6496c3bcc61",
   "metadata": {},
   "source": [
    "# <center> UNIR DOS RAMAS LOCALES </center>\n",
    "\n",
    "<center>\n",
    "    <img width=\"75%\" align=\"center\" src=\"merge_conflictos.gif\">\n",
    "</center>"
   ]
  },
  {
   "cell_type": "markdown",
   "id": "baf1888f-cc65-47a1-8091-4c234363db68",
   "metadata": {},
   "source": [
    "# EN LA CONSOLA, TERMINAL O UN IDE DE DESARROLLO\n",
    "# git merge branch_dos branch_uno"
   ]
  },
  {
   "cell_type": "markdown",
   "id": "a7674952-0aa9-43bd-98e6-c57aac0ac644",
   "metadata": {},
   "source": [
    "# Accept Current Change | Accept Incoming Change | Accept Both Changes | Compare Change\n",
    "# <<<<<<< HEAD\n",
    "# 1679198052.206751 (Current Change)\n",
    "# =======\n",
    "# 1679198046.401986 \n",
    "# >>>>>>> branch_uno (Incoming Change)"
   ]
  },
  {
   "cell_type": "markdown",
   "id": "bee82566-8bdd-4dca-a5cd-2ae8b49f7941",
   "metadata": {},
   "source": [
    "# <center> UNIR CAMBIOS DE LA RAMA REMOTA A LA RAMA LOCAL </center> "
   ]
  },
  {
   "cell_type": "markdown",
   "id": "850814d1-94b7-43e7-8463-eba49e776121",
   "metadata": {},
   "source": [
    "# EN LA CONSOLA DE VSCODE O UN IDE DE DESARROLLO\n",
    "<center>\n",
    "    <img width=\"75%\" align=\"center\" src=\"pull.gif\">\n",
    "</center>\n",
    "# git pull origin branch_dos"
   ]
  },
  {
   "cell_type": "markdown",
   "id": "e7030020-fa35-4665-bc8e-6b273a16e278",
   "metadata": {},
   "source": [
    "# <center> UNIR CAMBIOS DE LA RAMA LOCAL A LA RAMA REMOTA </center> "
   ]
  },
  {
   "cell_type": "markdown",
   "id": "d16cc908-7a0a-4b54-a2f3-6e9ae91feca7",
   "metadata": {},
   "source": [
    "# EN LA CONSOLA DE VSCODE O UN IDE DE DESARROLLO\n",
    "### hacer un git commit y despues un git pull\n",
    "\n",
    "# Accept Current Change | Accept Incoming Change | Accept Both Changes | Compare Change\n",
    "# <<<<<<< HEAD\n",
    "# 1679198052.206751 (Current Change)\n",
    "# =======\n",
    "# 1679198046.401986 \n",
    "# >>>>>>> branch_uno (Incoming Change)"
   ]
  },
  {
   "cell_type": "markdown",
   "id": "8fef35e1-812c-4ec7-9d47-c3884cdaac64",
   "metadata": {},
   "source": [
    "## VER HISTORIAL DE n COMMITS EN UN DIAGRAMA DE GRAFO"
   ]
  },
  {
   "cell_type": "code",
   "execution_count": null,
   "id": "faba3aec-b457-4beb-a478-d48f4faa488d",
   "metadata": {
    "tags": []
   },
   "outputs": [],
   "source": [
    "comando = 'git log --graph --oneline'\n",
    "ejecutar_comando_git(comando)\n",
    "ejecutar_comando_shell()"
   ]
  },
  {
   "cell_type": "markdown",
   "id": "ef5452d8-5319-40e1-83a3-2de1962ff6db",
   "metadata": {},
   "source": [
    "## VER HISTORIAL DE n COMMITS EN UN DIAGRAMA DE GRAFO MAS DETALLADO"
   ]
  },
  {
   "cell_type": "code",
   "execution_count": null,
   "id": "c50ea762-5f3c-48a0-9c1f-a7bd9b9ce6ac",
   "metadata": {
    "tags": []
   },
   "outputs": [],
   "source": [
    "comando = 'git log --decorate --graph --oneline --all'\n",
    "ejecutar_comando_git(comando)\n",
    "ejecutar_comando_shell()"
   ]
  },
  {
   "cell_type": "markdown",
   "id": "02985a1a-2630-40f8-998e-f5d3b9e38661",
   "metadata": {
    "tags": []
   },
   "source": [
    "### VER HISTORIAL DE QUIEN HA MANIPULADO UN ARCHIVO ESPECIFICO"
   ]
  },
  {
   "cell_type": "code",
   "execution_count": null,
   "id": "1dd5141a-fea7-4058-93f6-b3e048d8c724",
   "metadata": {
    "tags": []
   },
   "outputs": [],
   "source": [
    "comando = 'git blame info.txt'\n",
    "ejecutar_comando_git(comando)\n",
    "ejecutar_comando_shell()"
   ]
  },
  {
   "cell_type": "markdown",
   "id": "d40915df-19c0-491b-8153-0f02b42d1b36",
   "metadata": {
    "tags": []
   },
   "source": [
    "#### ELIMINAR LAS RAMAS EN EL REPOSITORIO DE ORIGEN O REMOTO"
   ]
  },
  {
   "cell_type": "code",
   "execution_count": null,
   "id": "9ff94caf-5123-4bac-9ed0-a603de6453e5",
   "metadata": {
    "tags": []
   },
   "outputs": [],
   "source": [
    "comando = 'git checkout main'\n",
    "ejecutar_comando_git(comando)\n",
    "\n",
    "for nombre_rama in nombre_ramas:\n",
    "    comando = 'git push origin -d {nombre_rama}'.format(nombre_rama=nombre_rama)\n",
    "    ejecutar_comando_git(comando)\n",
    "\n",
    "    comando = 'git branch -D {nombre_rama}'.format(nombre_rama=nombre_rama)\n",
    "    ejecutar_comando_git(comando)\n",
    "\n",
    "comando = 'git branch -a'\n",
    "ejecutar_comando_git(comando)"
   ]
  },
  {
   "cell_type": "markdown",
   "id": "4bec41e1-5333-4e9a-af12-2591a9f87ee8",
   "metadata": {},
   "source": [
    "# <center> CHERRY PICK <br>https://github.com/JorgeCardona/comandos_git</br></center>\n",
    "\n",
    "<center>\n",
    "    <img width=\"75%\" align=\"center\" src=\"cherry-pick.gif\">\n",
    "</center>"
   ]
  },
  {
   "cell_type": "code",
   "execution_count": null,
   "id": "a22a2b4e-6598-49fe-b7c3-890d69272b6d",
   "metadata": {
    "scrolled": true,
    "tags": []
   },
   "outputs": [],
   "source": [
    "nombre_rama_inicial = 'cherry_pick_branch'\n",
    "nombre_rama_final = 'hotfix_branch'\n",
    "\n",
    "nombre_ramas = [nombre_rama_inicial,nombre_rama_final]\n",
    "\n",
    "nombre_rama = nombre_rama_inicial\n",
    "generar_archivos_y_hacer_commit(nombre_rama=nombre_rama)\n",
    "\n",
    "nombre_rama = nombre_rama_final\n",
    "generar_archivos_y_hacer_commit(nombre_rama=nombre_rama, todos_los_archivos=False)"
   ]
  },
  {
   "cell_type": "markdown",
   "id": "c5ce3c4b-49d1-4f9b-83cb-dd1b549e24d7",
   "metadata": {},
   "source": [
    "## VER EL LOG DE LA RAMA A USAR COMO BASE PARA EL CHERRY_PICK"
   ]
  },
  {
   "cell_type": "code",
   "execution_count": null,
   "id": "130942c2-68ce-4d83-8aa0-e41ff7bb0214",
   "metadata": {
    "scrolled": true,
    "tags": []
   },
   "outputs": [],
   "source": [
    "comando = 'git log --oneline hotfix_branch'\n",
    "ejecutar_comando_git(comando)\n",
    "\n",
    "\n",
    "comando = 'git log --oneline cherry_pick_branch'\n",
    "ejecutar_comando_git(comando)\n",
    "ejecutar_comando_shell()"
   ]
  },
  {
   "cell_type": "markdown",
   "id": "775577c8-cf19-4db9-bad3-05a13383868b",
   "metadata": {},
   "source": [
    "## CHERRY PICK A UN COMMIT DE LA RAMA **CHERRY_PICK** PARA UNIRLA CON LA RAMA ACTUAL **HOTFIX**"
   ]
  },
  {
   "cell_type": "code",
   "execution_count": null,
   "id": "07bedf2b-ca47-488b-a2d6-98be3a618aa0",
   "metadata": {
    "tags": []
   },
   "outputs": [],
   "source": [
    "unir_commits = 'af72e1e'\n",
    "comando = f'git cherry-pick {unir_commits}' # archivo main.py\n",
    "ejecutar_comando_git(comando)\n",
    "\n",
    "comando = 'git status'\n",
    "ejecutar_comando_git(comando)"
   ]
  },
  {
   "cell_type": "code",
   "execution_count": null,
   "id": "af52d216-167d-4120-a017-613b8df9a61a",
   "metadata": {
    "tags": []
   },
   "outputs": [],
   "source": [
    "comando = 'git push origin'\n",
    "ejecutar_comando_git(comando)\n",
    "\n",
    "comando = 'git status'\n",
    "ejecutar_comando_git(comando)"
   ]
  },
  {
   "cell_type": "markdown",
   "id": "c8efd687-78a8-47e6-b09e-e123652f5baa",
   "metadata": {},
   "source": [
    "## VER HISTORIAL DE n COMMITS EN UN DIAGRAMA DE GRAFO"
   ]
  },
  {
   "cell_type": "code",
   "execution_count": null,
   "id": "4789564b-2e9e-4e8f-af0e-a66c974a8e57",
   "metadata": {
    "tags": []
   },
   "outputs": [],
   "source": [
    "comando = 'git log --graph --oneline'\n",
    "ejecutar_comando_git(comando)\n",
    "ejecutar_comando_shell()"
   ]
  },
  {
   "cell_type": "markdown",
   "id": "b18cdbb4-54b2-4efa-b635-45e79343f352",
   "metadata": {
    "tags": []
   },
   "source": [
    "#### ELIMINAR LA RAMA EN EL REPOSITORIO DE ORIGEN O REMOTO"
   ]
  },
  {
   "cell_type": "code",
   "execution_count": null,
   "id": "41e95932-aa90-4caf-9d5b-2fc5e1148a72",
   "metadata": {
    "scrolled": true,
    "tags": []
   },
   "outputs": [],
   "source": [
    "comando = 'git checkout main'\n",
    "ejecutar_comando_git(comando)\n",
    "\n",
    "for nombre_rama in nombre_ramas:\n",
    "    comando = 'git push origin -d {nombre_rama}'.format(nombre_rama=nombre_rama)\n",
    "    ejecutar_comando_git(comando)\n",
    "\n",
    "    comando = 'git branch -D {nombre_rama}'.format(nombre_rama=nombre_rama)\n",
    "    ejecutar_comando_git(comando)\n",
    "\n",
    "comando = 'git branch -a'\n",
    "ejecutar_comando_git(comando)"
   ]
  },
  {
   "cell_type": "markdown",
   "id": "7ed89905-a846-46cf-9175-dd32aee6b39a",
   "metadata": {},
   "source": [
    "# <center> TAGs <br>https://github.com/JorgeCardona/comandos_git</br></center>"
   ]
  },
  {
   "cell_type": "code",
   "execution_count": null,
   "id": "1106d9e3-269d-4a57-9d2c-4ac9c2db5eb9",
   "metadata": {
    "scrolled": true,
    "tags": []
   },
   "outputs": [],
   "source": [
    "nombre_rama = 'tag_branch'\n",
    "generar_archivos_y_hacer_commit(nombre_rama=nombre_rama)"
   ]
  },
  {
   "cell_type": "markdown",
   "id": "f9101b9b-478a-4129-9df9-cd989868c4d1",
   "metadata": {},
   "source": [
    "### CREAR UN TAG"
   ]
  },
  {
   "cell_type": "code",
   "execution_count": null,
   "id": "01d3649c-ee90-4b90-bbdb-d742ad2b8742",
   "metadata": {
    "tags": []
   },
   "outputs": [],
   "source": [
    "nombre_tag = 'v0.0.0'\n",
    "comando = 'git tag  {nombre_tag} -m \"versión Inicial\"'.format(nombre_tag=nombre_tag)\n",
    "ejecutar_comando_git(comando)\n",
    "\n",
    "comando = 'git tag'\n",
    "ejecutar_comando_git(comando)"
   ]
  },
  {
   "cell_type": "markdown",
   "id": "b223e4b0-233b-4ac4-871c-434e0fc368c0",
   "metadata": {},
   "source": [
    "### LISTAR LOS TAGs LOCALES"
   ]
  },
  {
   "cell_type": "code",
   "execution_count": null,
   "id": "861b023c-39bc-47a7-b6a9-1b3d1de59b10",
   "metadata": {
    "tags": []
   },
   "outputs": [],
   "source": [
    "comando = 'git tag'\n",
    "ejecutar_comando_git(comando)"
   ]
  },
  {
   "cell_type": "markdown",
   "id": "dc27fb1b-3409-4dfa-9a0e-140622be4a5f",
   "metadata": {},
   "source": [
    "### ELIMINAR UN TAG LOCAL"
   ]
  },
  {
   "cell_type": "code",
   "execution_count": null,
   "id": "45899fd1-ead0-477e-ab13-a73f5c43a0dd",
   "metadata": {
    "tags": []
   },
   "outputs": [],
   "source": [
    "comando = 'git tag -d {nombre_tag}'.format(nombre_tag=nombre_tag)\n",
    "ejecutar_comando_git(comando)\n",
    "\n",
    "comando = 'git tag'\n",
    "ejecutar_comando_git(comando)"
   ]
  },
  {
   "cell_type": "markdown",
   "id": "d8dd2d33-3365-4ab5-8203-4da985e4581c",
   "metadata": {
    "tags": []
   },
   "source": [
    "### CREAR MULTIPLES TAGs"
   ]
  },
  {
   "cell_type": "code",
   "execution_count": null,
   "id": "b94e2bc8-287d-49bf-af0c-b1ea05f5903e",
   "metadata": {
    "scrolled": true,
    "tags": []
   },
   "outputs": [],
   "source": [
    "lista_ramas_locales = obtener_lista_nombres_ramas_git()\n",
    "\n",
    "for indice, rama in enumerate(lista_ramas_locales):\n",
    " \n",
    "    #cambia de rama para tener el contenido especifico de esa rama en el TAG\n",
    "    comando = 'git checkout {rama}\"'.format(rama=rama)\n",
    "    ejecutar_comando_git(comando)\n",
    "    \n",
    "    # genera el nombre que tendra el TAG\n",
    "    nombre_tag = 'v0.0.{indice}_{rama}'.format(rama=rama, indice=indice)\n",
    "    comando = 'git tag {nombre_tag} -m \"version {indice} del TAG\"'.format(nombre_tag=nombre_tag, indice=indice)\n",
    "    ejecutar_comando_git(comando)\n",
    "\n",
    "comando = 'git tag'\n",
    "ejecutar_comando_git(comando)"
   ]
  },
  {
   "cell_type": "markdown",
   "id": "83bf163d-199f-49b0-a309-856ad5f5514c",
   "metadata": {},
   "source": [
    "### LISTAR LOS TAGs Y VER SU DESCRIPCION"
   ]
  },
  {
   "cell_type": "code",
   "execution_count": null,
   "id": "7d71ebff-c95b-4efb-83e3-d3c9f4c7bdf1",
   "metadata": {
    "tags": []
   },
   "outputs": [],
   "source": [
    "comando = 'git tag -n'\n",
    "ejecutar_comando_git(comando)"
   ]
  },
  {
   "cell_type": "markdown",
   "id": "75dd5833-b4c6-43cf-9b35-31ad5c42fcb9",
   "metadata": {},
   "source": [
    "### PUBLICAR UN TAG ESPECIFICO A UN REPOSITORIO REMOTO <br>https://github.com/JorgeCardona/comandos_git</br>"
   ]
  },
  {
   "cell_type": "code",
   "execution_count": null,
   "id": "92fef3aa-ffee-4f9b-bf5d-af7ec1396ddf",
   "metadata": {
    "scrolled": true,
    "tags": []
   },
   "outputs": [],
   "source": [
    "for indice, rama in enumerate([lista_ramas_locales[0]]):\n",
    "    \n",
    "    nombre_tag = 'v0.0.{indice}_{rama}'.format(rama=rama, indice=indice)\n",
    "    comando = comando = 'git push origin {nombre_tag}'.format(nombre_tag=nombre_tag)\n",
    "    ejecutar_comando_git(comando)"
   ]
  },
  {
   "cell_type": "markdown",
   "id": "394c82ec-862f-4f9c-837e-26bd1a1cb9b3",
   "metadata": {},
   "source": [
    "### LISTAR LOS TAGs REMOTOS"
   ]
  },
  {
   "cell_type": "code",
   "execution_count": null,
   "id": "2912578c-ac46-4c71-91f6-3c7f98f1d0cb",
   "metadata": {
    "tags": []
   },
   "outputs": [],
   "source": [
    "comando = 'git ls-remote --tags'\n",
    "ejecutar_comando_git(comando)"
   ]
  },
  {
   "cell_type": "markdown",
   "id": "8378e5d7-1469-4db9-b56f-2417b7720cd3",
   "metadata": {},
   "source": [
    "### PUBLICAR TODOS LOS TAGs NO PUBLICADOS EN UN SOLO PUSH AL REPOSITORIO REMOTO"
   ]
  },
  {
   "cell_type": "code",
   "execution_count": null,
   "id": "b098f775-2118-4c64-8dbe-93bba7f1cb05",
   "metadata": {
    "tags": []
   },
   "outputs": [],
   "source": [
    "comando = 'git push --tags'\n",
    "ejecutar_comando_git(comando)\n",
    "\n",
    "comando = 'git ls-remote --tags'\n",
    "ejecutar_comando_git(comando)"
   ]
  },
  {
   "cell_type": "markdown",
   "id": "5d3f4a8a-f31e-40eb-8689-7dfb7e44ca2d",
   "metadata": {},
   "source": [
    "### ELIMINAR LOS TAGs LOCALES Y REMOTOS"
   ]
  },
  {
   "cell_type": "code",
   "execution_count": null,
   "id": "bdc8d38d-f2ba-42a6-993b-1f268b5b6135",
   "metadata": {
    "scrolled": true,
    "tags": []
   },
   "outputs": [],
   "source": [
    "for indice, rama in enumerate(lista_ramas_locales):\n",
    "    \n",
    "    nombre_tag = 'v0.0.{indice}_{rama}'.format(rama=rama, indice=indice)\n",
    "\n",
    "    comando = 'git tag -d {nombre_tag}'.format(nombre_tag=nombre_tag)\n",
    "    ejecutar_comando_git(comando)\n",
    "\n",
    "    comando = 'git push --delete origin {nombre_tag}'.format(nombre_tag=nombre_tag)\n",
    "    ejecutar_comando_git(comando)\n",
    "    \n",
    "comando = 'git tag'\n",
    "ejecutar_comando_git(comando)\n",
    "\n",
    "comando = 'git ls-remote --tags'\n",
    "ejecutar_comando_git(comando)"
   ]
  },
  {
   "cell_type": "markdown",
   "id": "91b10b1c-cd4c-4443-9cd5-88d32112b21e",
   "metadata": {
    "tags": []
   },
   "source": [
    "#### ELIMINAR LA RAMA DEL REPOSITORIO LOCAL Y REMOTO\n"
   ]
  },
  {
   "cell_type": "code",
   "execution_count": null,
   "id": "378d4731-dbf9-4fac-860c-2ffd2309a846",
   "metadata": {
    "tags": []
   },
   "outputs": [],
   "source": [
    "comando = 'git checkout main'\n",
    "ejecutar_comando_git(comando)\n",
    "\n",
    "comando = 'git push origin -d {nombre_rama}'.format(nombre_rama=nombre_rama)\n",
    "ejecutar_comando_git(comando)\n",
    "\n",
    "comando = 'git branch -D {nombre_rama}'.format(nombre_rama=nombre_rama)\n",
    "ejecutar_comando_git(comando)\n",
    "\n",
    "comando = 'git branch -a'\n",
    "ejecutar_comando_git(comando)"
   ]
  }
 ],
 "metadata": {
  "kernelspec": {
   "display_name": "Python 3 (ipykernel)",
   "language": "python",
   "name": "python3"
  },
  "language_info": {
   "codemirror_mode": {
    "name": "ipython",
    "version": 3
   },
   "file_extension": ".py",
   "mimetype": "text/x-python",
   "name": "python",
   "nbconvert_exporter": "python",
   "pygments_lexer": "ipython3",
   "version": "3.10.9"
  }
 },
 "nbformat": 4,
 "nbformat_minor": 5
}
