{
 "cells": [
  {
   "cell_type": "markdown",
   "id": "117af881-9520-4af5-8a58-de68fa815376",
   "metadata": {},
   "source": [
    "## <center> OBTENER LISTA CON LOS NOMBRES DE TODAS LAS RAMAS LOCALES DE UN REPOSITORIO GIT</center>"
   ]
  },
  {
   "cell_type": "code",
   "execution_count": 1,
   "id": "fe1643f8-c7f7-450d-9eea-b30471ce5f98",
   "metadata": {
    "tags": []
   },
   "outputs": [],
   "source": [
    "def obtener_lista_nombres_ramas_git():\n",
    "\n",
    "    stdout = subprocess.check_output('git branch'.split())\n",
    "    out = stdout.decode()\n",
    "    branches = [b.strip('* ') for b in out.splitlines()]\n",
    "    return branches"
   ]
  },
  {
   "cell_type": "markdown",
   "id": "fd638f42-4115-4f96-ae05-3850b1f96754",
   "metadata": {},
   "source": [
    "# <center> EJECUTAR COMANDOS SHELL DESDE FUNCION PYTHON</center>"
   ]
  },
  {
   "cell_type": "code",
   "execution_count": 2,
   "id": "9048c958-a13b-4a78-a4ea-d114c3ce03ca",
   "metadata": {
    "tags": []
   },
   "outputs": [],
   "source": [
    "import subprocess\n",
    "\n",
    "def ejecutar_comando_shell(comando='git branch', response=False):\n",
    "\n",
    "    print('############################################# COMANDO A EJECUTAR #############################################')\n",
    "    print(comando)\n",
    "    \n",
    "    try:\n",
    "        resultado_comando_ejecutado = subprocess.check_output(comando, shell=True, text=True)\n",
    "    except Exception:\n",
    "        print('&&&&&&&&&&&&&&&&&&&&&&&&&&&&&&&&&&&&& SE HA GENERADO UNA EXCEPCION &&&&&&&&&&&&&&&&&&&&&&&&&&&&&&&&&&&&&&&')\n",
    "        print('EL COMANDO {comando} NO SE PUDO EJECUTAR'.format(comando=comando))\n",
    "        print('&&&&&&&&&&&&&&&&&&&&&&&&&&&&&&&&&&&&& FINAL DE EXCEPCION GENERADA &&&&&&&&&&&&&&&&&&&&&&&&&&&&&&&&&&&&&&&&')\n",
    "    else:\n",
    "        print('####################################### RESULTADO DE COMANDO EJECUTADO #######################################')\n",
    "        #para evitar el salto de linea usa el parametro end=''\n",
    "        print(resultado_comando_ejecutado, end='')\n",
    "        print('##############################################################################################################')\n",
    "        print()\n",
    "        if response:\n",
    "            return resultado_comando_ejecutado"
   ]
  },
  {
   "cell_type": "markdown",
   "id": "ec3c743a-2536-4113-af63-fcb50b28c333",
   "metadata": {},
   "source": [
    "# <center> FUNCION LAMBDA PARA EJECUTAR COMANDOS GIT</center>"
   ]
  },
  {
   "cell_type": "code",
   "execution_count": 3,
   "id": "b6817bb4-2f33-4200-aa99-84e8c2142711",
   "metadata": {
    "tags": []
   },
   "outputs": [],
   "source": [
    "ejecutar_comando_git = lambda comando : ejecutar_comando_shell(comando)"
   ]
  },
  {
   "cell_type": "markdown",
   "id": "5135c007-43f6-4d24-8eb5-04a8c33a8bb3",
   "metadata": {},
   "source": [
    "# <center> CREAR ARCHIVOS</center>"
   ]
  },
  {
   "cell_type": "code",
   "execution_count": 47,
   "id": "503a1087-7944-4e0f-a3de-fa4853d04deb",
   "metadata": {
    "tags": []
   },
   "outputs": [],
   "source": [
    "import time\n",
    "from datetime import datetime\n",
    "\n",
    "def crear_fecha():\n",
    "    \n",
    "    import time\n",
    "    from datetime import datetime\n",
    "\n",
    "    # detiene el tiempo para que no todos los archivos generados queden con la misma fecha de timestamp\n",
    "    time.sleep(0.1)\n",
    "        \n",
    "    # Getting the current date and time\n",
    "    dt = datetime.now()\n",
    "\n",
    "    # getting the timestamp\n",
    "    ts = datetime.timestamp(dt)\n",
    "\n",
    "    return ts\n",
    "\n",
    "def copiar_archivo(nombre_del_repositorio, archivo):\n",
    "    \n",
    "    import os\n",
    "    import shutil\n",
    "    source = '{source}\\{archivo}'.format(source=os.getcwd().split(nombre_del_repositorio,1)[0], archivo=archivo)\n",
    "    target = '{target}\\{archivo}'.format(target=os.getcwd(), archivo=archivo)\n",
    "    \n",
    "    shutil.copyfile(source, target)\n",
    "    \n",
    "    print(f'archivo {archivo} copiado con exito a target')\n",
    "    \n",
    "def generar_archivos(todos_los_archivos=True):\n",
    "\n",
    "    lista_de_archivos = ['info.txt','Dockerfile','Manifest.yaml','imagen.png','main.py','connection.java','calculos.c','addon.php','utils.gif','query.sql','dataset.avro','link.vs']\n",
    "    \n",
    "    lista_de_archivos = lista_de_archivos if todos_los_archivos else [lista_de_archivos[0]]\n",
    "    \n",
    "    print('lista_de_archivos = {lista_de_archivos}'.format(lista_de_archivos=lista_de_archivos))\n",
    "    \n",
    "    for archivo in lista_de_archivos:\n",
    "        comando = 'echo {crear_archivo} >> {archivo}'.format(crear_archivo=crear_fecha(), archivo=archivo)\n",
    "        ejecutar_comando_shell(comando)\n",
    "\n",
    "    return lista_de_archivos\n",
    "\n",
    "def modificar_autor_commit(autor='cienciagoku@gmail.com'):\n",
    "    comando = 'git commit --amend --no-edit --author={autor}'.format(autor=autor)\n",
    "    ejecutar_comando_git(comando)\n",
    "            \n",
    "        \n",
    "def crear_commits(total_commits=5, todos_los_archivos=False):\n",
    "    \n",
    "    import random\n",
    "    \n",
    "    for commit_numero in range(total_commits):\n",
    "        \n",
    "        numero_aleatorio = random.randint(1, 10_000_000)\n",
    "        lista_de_archivos = generar_archivos()\n",
    "        archivo_aleatorio = random.choice(lista_de_archivos)\n",
    "        commit_indice = commit_numero + 1\n",
    "\n",
    "        comando = 'git status'\n",
    "        ejecutar_comando_git(comando)\n",
    "\n",
    "        comando = 'git add .'\n",
    "        ejecutar_comando_git(comando)\n",
    "\n",
    "        comando = 'git status'\n",
    "        ejecutar_comando_git(comando)\n",
    "\n",
    "        comando = 'git commit -m \"PRUEBA de COMMIT numero {commit_indice} con fecha {fecha} y valor aleatorio {numero_aleatorio} y contiene el archivo {archivo_aleatorio}\"'.format(commit_indice=commit_indice, numero_aleatorio=numero_aleatorio, fecha=crear_fecha(), archivo_aleatorio=archivo_aleatorio)\n",
    "        ejecutar_comando_git(comando)\n",
    "        \n",
    "        if commit_numero %2 ==0:\n",
    "            modificar_autor_commit()\n",
    "\n",
    "    comando = 'git log --oneline'\n",
    "    ejecutar_comando_git(comando)\n",
    "\n",
    "    comando = 'git status'\n",
    "    ejecutar_comando_git(comando)\n",
    "    \n",
    "def cambiar_a_directorio_del_repositorio(nombre_del_repositorio):\n",
    "    #importing the os module\n",
    "    import os\n",
    "\n",
    "    #to get the current working directory\n",
    "    directory = os.getcwd()\n",
    "    print(f'directorio base = {directory}')\n",
    "          \n",
    "    os.chdir('{directory}/{repository}'.format(directory=directory, repository=nombre_del_repositorio))\n",
    "    directory = os.getcwd()\n",
    "    print(f'directorio actual del repositorio clonado = {directory}')\n",
    "\n",
    "def clonar_repositorio(repositorio_base, nombre_del_repositorio):\n",
    "\n",
    "    repositorio_base = 'https://github.com/JorgeCardona'\n",
    "    nombre_del_repositorio = 'comandos_git'\n",
    "\n",
    "    eliminar_directorio(nombre_repositorio=nombre_del_repositorio)\n",
    "\n",
    "    comando = 'git clone {repositorio_base}/{nombre_del_repositorio}.git'.format(repositorio_base=repositorio_base, nombre_del_repositorio=nombre_del_repositorio)\n",
    "    ejecutar_comando_git(comando)\n",
    "          \n",
    "    # se ubica en el directorio donde esta el repositorio clonado\n",
    "    cambiar_a_directorio_del_repositorio(nombre_del_repositorio=nombre_del_repositorio)\n",
    "\n",
    "def abrir_archivo_con_editor_de_texto(ruta_archivo):\n",
    "    comando = \"notepad.exe {ruta_archivo}\".format(ruta_archivo=ruta_archivo)\n",
    "    ejecutar_comando_shell(comando=comando)\n",
    "\n",
    "def abrir_git_config(tipo='local'):\n",
    "    comando = \"git config --{tipo} --edit\".format(tipo=tipo)\n",
    "    ejecutar_comando_shell(comando=comando)       \n",
    "    \n",
    "def configuracion_detallada_git():\n",
    "    print('MOSTRAR CONFIGURACION DETALLADA DEL .gitconfig')\n",
    "    comando = 'git config --list --show-origin'\n",
    "    ejecutar_comando_git(comando)\n",
    "\n",
    "def verificar_directorio_e_informacion_del_git_config():\n",
    "    print('MOSTRAR UBICACION DEL .gitconfig')\n",
    "    comando = 'git config --show-origin --global --list'\n",
    "    ejecutar_comando_git(comando)\n",
    "\n",
    "def verificar_git_config(tipo='local'):\n",
    "    print('VERIFICAR EL CONTENIDO DEL .gitconfig {tipo}'.format(tipo=tipo.upper()))\n",
    "    comando = 'git config --{tipo} --list'.format(tipo=tipo)\n",
    "    ejecutar_comando_git(comando)\n",
    "    \n",
    "def eliminar_alias_repetido(alias_a_aliminar, tipo='local'):\n",
    "    \n",
    "    comando = 'git config --{tipo} --unset-all alias.{alias_a_aliminar}'.format(tipo=tipo,alias_a_aliminar=alias_a_aliminar)\n",
    "    try:\n",
    "        ejecutar_comando_git(comando)\n",
    "    except Exception:\n",
    "        print('------------------------------------- INICIA EXCEPCION ENCONTRADA -------------------------------------')\n",
    "        print('EL ALIAS MULTIPLE {alias_a_aliminar} que busca eliminar, NO EXISTE EN {tipo}'.format(alias_a_aliminar=alias_a_aliminar, tipo=tipo.upper()))\n",
    "        print('------------------------------------- TERMINA EXCEPCION ENCONTRADA -------------------------------------')\n",
    "    else:\n",
    "        comando = 'git aliases'\n",
    "        ejecutar_comando_git(comando)\n",
    "\n",
    "def eliminar_alias_git(alias_a_aliminar, tipo='local'):\n",
    "    \n",
    "    # si se tienen varios alias con el mismo nombre\n",
    "    # git config --global --unset-all alias.nombre_del_alias_repetido\n",
    "\n",
    "    comando = 'git config --{tipo} --unset alias.{alias_a_aliminar}'.format(alias_a_aliminar=alias_a_aliminar, tipo=tipo)\n",
    "    try:\n",
    "        ejecutar_comando_git(comando)\n",
    "    except Exception:\n",
    "        print('------------------------------------- INICIA EXCEPCION ENCONTRADA -------------------------------------')\n",
    "        print('EL ALIAS {alias_a_aliminar} que busca eliminar, NO EXISTE EN {tipo}'.format(alias_a_aliminar=alias_a_aliminar, tipo=tipo.upper()))\n",
    "        print('------------------------------------- TERMINA EXCEPCION ENCONTRADA -------------------------------------')\n",
    "    else:\n",
    "        verificar_git_config(tipo=tipo) \n",
    "\n",
    "\n",
    "def crear_alias_y_validarlos(tipo='local'):\n",
    "    local = [\n",
    "    \"git config --local alias.colocal checkout\",\n",
    "    \"git config --local alias.brlocal branch\",\n",
    "    \"git config --local alias.rlocal restore .\",\n",
    "    \"git config --local alias.loglocal log --oneline -3\",\n",
    "    \"git config --local alias.aalocal add \"\n",
    "    ]\n",
    "    \n",
    "    globall =  [      \n",
    "    \"git config --global alias.co checkout\",\n",
    "    \"git config --global alias.br branch\",\n",
    "    \"git config --global alias.ci commit\",\n",
    "    \"git config --global alias.st status\",\n",
    "    'git config --global alias.aliases \"config --get-regexp {alias}\"'.format(alias=\"'^alias\\\\.'\")\n",
    "                  ]\n",
    "     \n",
    "    comandos_para_alias = local if tipo=='local' else globall\n",
    "                                                  \n",
    "    for comando in comandos_para_alias:\n",
    "        ejecutar_comando_shell(comando=comando)\n",
    "                                                  \n",
    "    verificar_git_config(tipo=tipo) "
   ]
  },
  {
   "cell_type": "markdown",
   "id": "d710cf53-be38-4cf0-9753-4257f5731997",
   "metadata": {},
   "source": [
    "# <center> CREAR CARPETAS Y RETORNAR EL DIRECTORIO DE ACCESO</center>"
   ]
  },
  {
   "cell_type": "code",
   "execution_count": 5,
   "id": "27419b00-fbdf-45c1-8cfe-63e7b3293ba1",
   "metadata": {
    "tags": []
   },
   "outputs": [],
   "source": [
    "def crear_carpeta(carpeta):\n",
    "    import os\n",
    "    \n",
    "    directorio =  f'./{carpeta}'\n",
    "    \n",
    "    print('directorio', directorio)\n",
    "\n",
    "    os.makedirs(f'{carpeta}', exist_ok=True)\n",
    "    \n",
    "    return directorio"
   ]
  },
  {
   "cell_type": "markdown",
   "id": "63baf6e8-15a7-4d78-9216-0071910ae33c",
   "metadata": {},
   "source": [
    "# <center> ELIMINAR ARCHIVOS</center>"
   ]
  },
  {
   "cell_type": "code",
   "execution_count": 72,
   "id": "fbedd993-b081-45e3-b492-94d841d01e9c",
   "metadata": {
    "tags": []
   },
   "outputs": [],
   "source": [
    "def listar_archivos_eliminables_en_directorio():\n",
    "    import os\n",
    "    \n",
    "    directory = os.getcwd()\n",
    "    listado_de_archivos = os.listdir(directory)\n",
    "    \n",
    "    archivos_eliminables = [archivo for archivo in listado_de_archivos if '.git' not in archivo if '.ipynb_checkpoints' not in archivo]\n",
    "    \n",
    "    return archivos_eliminables\n",
    "\n",
    "    \n",
    "def eliminar_directorio(nombre_repositorio):\n",
    "    \n",
    "    import shutil\n",
    "    import os\n",
    "    import stat\n",
    "    from os import path\n",
    "    \n",
    "    for root, dirs, files in os.walk(\"./{nombre_repositorio}\".format(nombre_repositorio=nombre_repositorio)):  \n",
    "        for dir in dirs:\n",
    "            try:\n",
    "                os.chmod(path.join(root, dir), stat.S_IRWXU)\n",
    "            except:\n",
    "                print('el archivo {archivo} no existe'.format(archivo=archivo))                \n",
    "        for file in files:\n",
    "            try:\n",
    "                os.chmod(path.join(root, file), stat.S_IRWXU)\n",
    "            except:\n",
    "                print('el archivo {archivo} no existe'.format(archivo=archivo))\n",
    "    try: \n",
    "        shutil.rmtree(\"./{nombre_repositorio}\".format(nombre_repositorio=nombre_repositorio))\n",
    "    except:\n",
    "        print('el repositorio {nombre_repositorio} no existe'.format(nombre_repositorio=nombre_repositorio))\n",
    "\n",
    "def eliminar_archivo(archivo):\n",
    "    from os import remove\n",
    "    remove(archivo)\n",
    "\n",
    "def eliminar_archivos_directorio():\n",
    "    import os\n",
    "    \n",
    "    lista_de_archivos_eliminables = listar_archivos_eliminables_en_directorio()\n",
    "    \n",
    "    for archivo in lista_de_archivos_eliminables:\n",
    "            os.remove(archivo)\n",
    "        \n",
    "    return 'Eliminacion Completada con Exito!!! de {lista_de_archivos_eliminables}'.format(lista_de_archivos_eliminables=lista_de_archivos_eliminables)\n",
    "\n",
    "\n",
    "def volver_al_commit_sin_cambios(commit_id):\n",
    "    print(\"REGRESANDO AL COMMIT' {commit_id}\".format(commit_id=commit_id))\n",
    "\n",
    "    comando = 'git reset --hard {commit_id}'.format(commit_id=commit_id)\n",
    "    ejecutar_comando_git(comando)\n",
    "    \n",
    "    comando = 'git status'\n",
    "    ejecutar_comando_git(comando)\n",
    "    \n",
    "def eliminar_todos_los_archivos_hasta_el_commit(commit_id):\n",
    "    print(\"REGRESANDO AL COMMIT' {commit_id}\".format(commit_id=commit_id))\n",
    "\n",
    "    comando = 'git reset {commit_id}'.format(commit_id=commit_id)\n",
    "    ejecutar_comando_git(comando)\n",
    "\n",
    "    print('ELIMINANDO ARCHIVOS DEL STAGE')\n",
    "    # eliminar los archivos que no estan en el local repo, para evitar errores al cambiar de rama\n",
    "    comando = 'git rm --cached \"*\"'\n",
    "    ejecutar_comando_git(comando)\n",
    "\n",
    "    print('ELIMINANDO ARCHIVOS DEL WORKING DIRECTORY')\n",
    "    # elimina los archivos que estan en el working directory\n",
    "    comando = 'git clean -f'\n",
    "    ejecutar_comando_git(comando)\n",
    "\n",
    "    comando = 'git status'\n",
    "    ejecutar_comando_git(comando)\n",
    "\n",
    "    comando = 'git log --oneline'\n",
    "    ejecutar_comando_git(comando)\n",
    "\n",
    "    ejecutar_comando_shell()"
   ]
  },
  {
   "cell_type": "markdown",
   "id": "7153370f-e472-49b7-bb91-b62d5e558381",
   "metadata": {},
   "source": [
    "# <center> CREAR ARCHIVOS, COMMITS Y PUBLICAR RAMAS AL REPOSITORIO </center>"
   ]
  },
  {
   "cell_type": "code",
   "execution_count": 7,
   "id": "a3d1b1da-b198-40e7-ac0e-717336e06c87",
   "metadata": {
    "scrolled": true,
    "tags": []
   },
   "outputs": [],
   "source": [
    "def crear_o_actualizar_archivo(actualizaciones=10, archivo='info.txt', mensaje=None):\n",
    "    \n",
    "    mensaje = mensaje if mensaje else 'actualizacion'\n",
    "    for index in range(actualizaciones):\n",
    "        comando = \"echo {mensaje} {index} fecha {fecha} >> {archivo}\".format(mensaje=mensaje, index=index+1, fecha=datetime.timestamp(datetime.now()), archivo=archivo)\n",
    "        ejecutar_comando_shell(comando)\n",
    "\n",
    "def validar_si_existe_rama(nombre_rama, local=False):\n",
    "    \n",
    "    comando ='git branch -a'\n",
    "    resultado = ejecutar_comando_shell(comando, response=True)\n",
    "    \n",
    "    rama_base = '{nombre_rama}'.format(nombre_rama=nombre_rama) if local else 'origin/{nombre_rama}'.format(nombre_rama=nombre_rama)\n",
    "\n",
    "    if rama_base in resultado:\n",
    "        return True\n",
    "    return False\n",
    "\n",
    "def elimina_ramas_en_local_o_remoto_si_existen(nombre_rama, rama_local, rama_remota):\n",
    "    \n",
    "    # valida si las ramas existen en REMOTO y LOCAL\n",
    "    rama_remota_existe = validar_si_existe_rama(nombre_rama=nombre_rama)\n",
    "    rama_local_existe = validar_si_existe_rama(nombre_rama=nombre_rama, local=True)\n",
    "    \n",
    "    # verifica si existe la rama la elimina\n",
    "    if rama_remota and rama_remota_existe:\n",
    "        # elimina rama REMOTA existente\n",
    "        comando = 'git push origin -d {nombre_rama}'.format(nombre_rama=nombre_rama)\n",
    "        ejecutar_comando_git(comando)\n",
    "\n",
    "     # verifica si existe la rama la elimina\n",
    "    if rama_local and rama_local_existe:                                                                                                            \n",
    "        # elimina la rama\n",
    "        comando = 'git branch -D {nombre_rama}'.format(nombre_rama=nombre_rama)\n",
    "        ejecutar_comando_git(comando)\n",
    "        \n",
    "    # verifica las ramas actuales\n",
    "    ejecutar_comando_shell()\n",
    "    \n",
    "def crear_commit_por_cada_archivo(todos_los_archivos):\n",
    "    \n",
    "    import datetime\n",
    "\n",
    "    fecha_ahora = datetime.datetime.now()\n",
    "    \n",
    "    # crea el listado de archivos\n",
    "    lista_de_archivos = generar_archivos(todos_los_archivos=todos_los_archivos)\n",
    "    \n",
    "    # basado en el listado de archivos, adiciona uno a uno y crea un commit por cada uno\n",
    "    for indice, archivo in enumerate(lista_de_archivos):\n",
    "\n",
    "        comando = 'git add {archivo}'.format(archivo=archivo)\n",
    "        ejecutar_comando_git(comando)\n",
    "        \n",
    "        comando = 'git commit -m \"ADICIONADO ARCHIVO {archivo} {fecha_ahora}\" -m \"- El proposito es generar un registro de archivos con su fecha correspondiente, - Se adiciono el archivo {archivo} al commit, - La fecha donde se creao este commit es {fecha_ahora}\"'.format(archivo=archivo, fecha_ahora=fecha_ahora)\n",
    "        ejecutar_comando_git(comando)\n",
    "        \n",
    "        if indice %2 ==0:\n",
    "            modificar_autor_commit()\n",
    "\n",
    "    # verifica si todos los archivos estan en los commits creados\n",
    "    comando = 'git status'\n",
    "    ejecutar_comando_git(comando)\n",
    "    \n",
    "def generar_archivos_y_hacer_commit(nombre_rama, rama_local, rama_remota, todos_los_archivos):\n",
    "    \n",
    "    # elimina cambios a la rama remota si los tiene\n",
    "    comando = 'git restore .'\n",
    "    ejecutar_comando_git(comando)\n",
    "    \n",
    "    # cambiar a la rama remota, \n",
    "    comando = 'git checkout {nombre_rama_principal} --force'.format(nombre_rama_principal=nombre_rama_principal)\n",
    "    ejecutar_comando_git(comando)\n",
    "    \n",
    "    # valida si las ramas existen en REMOTO y LOCAL y las elimina\n",
    "    elimina_ramas_en_local_o_remoto_si_existen(nombre_rama=nombre_rama, rama_local=rama_local, rama_remota=rama_remota)\n",
    "    \n",
    "    if rama_local:\n",
    "        # crea la rama local\n",
    "        comando = 'git checkout -b {nombre_rama}'.format(nombre_rama=nombre_rama)\n",
    "        ejecutar_comando_shell(comando)\n",
    "    \n",
    "    # adiciona archivos de 1 en 1 y genera 1 commit por cada archivo\n",
    "    crear_commit_por_cada_archivo(todos_los_archivos=todos_los_archivos)\n",
    "\n",
    "    # mostrar el log de las ramas en forma resumida y con diagrama de uniones como grafo \n",
    "    comando = 'git log --graph --oneline'\n",
    "    ejecutar_comando_git(comando)\n",
    "\n",
    "    if rama_remota:\n",
    "        # crea la rama en remoto\n",
    "        comando = 'git push --set-upstream origin {nombre_rama}'.format(nombre_rama=nombre_rama)\n",
    "        ejecutar_comando_git(comando)\n",
    "    \n",
    "    ejecutar_comando_shell()\n",
    "\n",
    "def crear_rama_local_y_remota(nombre_rama, rama_local=True, rama_remota=True, todos_los_archivos=True):\n",
    "    generar_archivos_y_hacer_commit(nombre_rama=nombre_rama, rama_local=rama_local, rama_remota=rama_remota, todos_los_archivos=todos_los_archivos)\n",
    "    \n",
    "\n",
    "def eliminar_rama_local_y_remota(nombre_rama, rama_local=True, rama_remota=True):\n",
    "\n",
    "    comando = 'git checkout {nombre_rama_principal}'.format(nombre_rama_principal=nombre_rama_principal)\n",
    "    ejecutar_comando_git(comando)\n",
    "\n",
    "    if rama_local:\n",
    "        comando = 'git branch -D {nombre_rama}'.format(nombre_rama=nombre_rama)\n",
    "        ejecutar_comando_git(comando)\n",
    "    \n",
    "    if rama_remota:\n",
    "        comando = 'git push origin -d {nombre_rama}'.format(nombre_rama=nombre_rama)\n",
    "        ejecutar_comando_git(comando)\n",
    "\n",
    "    comando = 'git branch -a'\n",
    "    ejecutar_comando_git(comando)"
   ]
  },
  {
   "cell_type": "markdown",
   "id": "a87eda8b-2771-44b4-aab1-f2074efce611",
   "metadata": {},
   "source": [
    "# <center> REPOSITORIOS</center>\n",
    "**FISICOS** : BODEGAS, BIBLIOTECAS, **DIGITALES** : REPOSITORIOS LOCALES, REPOSITORIOS REMOTOS: **PUBLICOS Y PRIVADOS**\n",
    "\n",
    "<center>\n",
    "    <img width=\"55%\" align=\"center\" src=\"repositorios.jpg\">\n",
    "</center>"
   ]
  },
  {
   "cell_type": "markdown",
   "id": "753b49b9-b812-44e1-af63-09b4baa30986",
   "metadata": {
    "tags": []
   },
   "source": [
    "# <center> GIT</center>\n",
    "\n",
    "<center>\n",
    "    <img width=\"75%\" align=\"center\" src=\"git.png\">\n",
    "</center>"
   ]
  },
  {
   "cell_type": "markdown",
   "id": "48adba35-bb65-44ed-9a19-c1b3601a2c0c",
   "metadata": {},
   "source": [
    "# <center> CONSULTAR LA VERSION DE GIT</center>"
   ]
  },
  {
   "cell_type": "code",
   "execution_count": 8,
   "id": "0cb0a8c6-1c90-4114-a498-e26f08ece407",
   "metadata": {
    "tags": []
   },
   "outputs": [
    {
     "name": "stdout",
     "output_type": "stream",
     "text": [
      "############################################# COMANDO A EJECUTAR #############################################\n",
      "git --version\n",
      "####################################### RESULTADO DE COMANDO EJECUTADO #######################################\n",
      "git version 2.25.0.windows.1\n",
      "##############################################################################################################\n",
      "\n"
     ]
    }
   ],
   "source": [
    "comando = 'git --version'\n",
    "ejecutar_comando_git(comando)"
   ]
  },
  {
   "cell_type": "markdown",
   "id": "a85d2e45-c6a0-409d-a1b8-fe41480ea66b",
   "metadata": {},
   "source": [
    "# <center> CONFIGURACIONES DE GIT</center>"
   ]
  },
  {
   "cell_type": "code",
   "execution_count": 9,
   "id": "5ae70a07-8dae-49e5-a214-a8704949ec4c",
   "metadata": {
    "scrolled": true,
    "tags": []
   },
   "outputs": [
    {
     "name": "stdout",
     "output_type": "stream",
     "text": [
      "git config --global user.name \"usuario_git\"\n",
      "git config --global user.email \"correo@git.com\"\n",
      "git config --global user.password \"password_git\"\n",
      "git config --global credential.helper store\n",
      "MOSTRAR UBICACION DEL .gitconfig\n",
      "############################################# COMANDO A EJECUTAR #############################################\n",
      "git config --show-origin --global --list\n",
      "####################################### RESULTADO DE COMANDO EJECUTADO #######################################\n",
      "file:C:/Users/QiDimMak/.gitconfig\tcore.autocrlf=true\n",
      "file:C:/Users/QiDimMak/.gitconfig\tcore.editor=notepad\n",
      "file:C:/Users/QiDimMak/.gitconfig\tcore.quotepath=false\n",
      "file:C:/Users/QiDimMak/.gitconfig\tuser.name=jorgecardona\n",
      "file:C:/Users/QiDimMak/.gitconfig\tuser.email=jorgecardona@utp.edu.co\n",
      "file:C:/Users/QiDimMak/.gitconfig\tgui.encoding=utf-8\n",
      "file:C:/Users/QiDimMak/.gitconfig\ti18n.commit.encoding=utf-8\n",
      "file:C:/Users/QiDimMak/.gitconfig\ti18n.logoutputencoding=utf-8\n",
      "file:C:/Users/QiDimMak/.gitconfig\talias.co=checkout\n",
      "file:C:/Users/QiDimMak/.gitconfig\talias.br=branch\n",
      "file:C:/Users/QiDimMak/.gitconfig\talias.ci=commit\n",
      "file:C:/Users/QiDimMak/.gitconfig\talias.st=status\n",
      "file:C:/Users/QiDimMak/.gitconfig\talias.aliases=config --get-regexp '^alias\\.'\n",
      "##############################################################################################################\n",
      "\n",
      "VERIFICAR EL CONTENIDO DEL .gitconfig LOCAL\n",
      "############################################# COMANDO A EJECUTAR #############################################\n",
      "git config --local --list\n",
      "####################################### RESULTADO DE COMANDO EJECUTADO #######################################\n",
      "core.repositoryformatversion=0\n",
      "core.filemode=false\n",
      "core.bare=false\n",
      "core.logallrefupdates=true\n",
      "core.symlinks=false\n",
      "core.ignorecase=true\n",
      "remote.origin.url=https://github.com/JorgeCardona/skills.git\n",
      "remote.origin.fetch=+refs/heads/*:refs/remotes/origin/*\n",
      "branch.master.remote=origin\n",
      "branch.master.merge=refs/heads/master\n",
      "##############################################################################################################\n",
      "\n",
      "MOSTRAR CONFIGURACION DETALLADA DEL .gitconfig\n",
      "############################################# COMANDO A EJECUTAR #############################################\n",
      "git config --list --show-origin\n",
      "####################################### RESULTADO DE COMANDO EJECUTADO #######################################\n",
      "file:C:/Program Files/Git/etc/gitconfig\thttp.sslcainfo=C:/Program Files/Git/mingw64/ssl/certs/ca-bundle.crt\n",
      "file:C:/Program Files/Git/etc/gitconfig\thttp.sslbackend=openssl\n",
      "file:C:/Program Files/Git/etc/gitconfig\tdiff.astextplain.textconv=astextplain\n",
      "file:C:/Program Files/Git/etc/gitconfig\tfilter.lfs.clean=git-lfs clean -- %f\n",
      "file:C:/Program Files/Git/etc/gitconfig\tfilter.lfs.smudge=git-lfs smudge -- %f\n",
      "file:C:/Program Files/Git/etc/gitconfig\tfilter.lfs.process=git-lfs filter-process\n",
      "file:C:/Program Files/Git/etc/gitconfig\tfilter.lfs.required=true\n",
      "file:C:/Program Files/Git/etc/gitconfig\tcredential.helper=manager\n",
      "file:C:/Program Files/Git/etc/gitconfig\tcore.autocrlf=true\n",
      "file:C:/Program Files/Git/etc/gitconfig\tcore.fscache=true\n",
      "file:C:/Program Files/Git/etc/gitconfig\tcore.symlinks=false\n",
      "file:C:/Users/QiDimMak/.gitconfig\tcore.autocrlf=true\n",
      "file:C:/Users/QiDimMak/.gitconfig\tcore.editor=notepad\n",
      "file:C:/Users/QiDimMak/.gitconfig\tcore.quotepath=false\n",
      "file:C:/Users/QiDimMak/.gitconfig\tuser.name=jorgecardona\n",
      "file:C:/Users/QiDimMak/.gitconfig\tuser.email=jorgecardona@utp.edu.co\n",
      "file:C:/Users/QiDimMak/.gitconfig\tgui.encoding=utf-8\n",
      "file:C:/Users/QiDimMak/.gitconfig\ti18n.commit.encoding=utf-8\n",
      "file:C:/Users/QiDimMak/.gitconfig\ti18n.logoutputencoding=utf-8\n",
      "file:C:/Users/QiDimMak/.gitconfig\talias.co=checkout\n",
      "file:C:/Users/QiDimMak/.gitconfig\talias.br=branch\n",
      "file:C:/Users/QiDimMak/.gitconfig\talias.ci=commit\n",
      "file:C:/Users/QiDimMak/.gitconfig\talias.st=status\n",
      "file:C:/Users/QiDimMak/.gitconfig\talias.aliases=config --get-regexp '^alias\\.'\n",
      "file:.git/config\tcore.repositoryformatversion=0\n",
      "file:.git/config\tcore.filemode=false\n",
      "file:.git/config\tcore.bare=false\n",
      "file:.git/config\tcore.logallrefupdates=true\n",
      "file:.git/config\tcore.symlinks=false\n",
      "file:.git/config\tcore.ignorecase=true\n",
      "file:.git/config\tremote.origin.url=https://github.com/JorgeCardona/skills.git\n",
      "file:.git/config\tremote.origin.fetch=+refs/heads/*:refs/remotes/origin/*\n",
      "file:.git/config\tbranch.master.remote=origin\n",
      "file:.git/config\tbranch.master.merge=refs/heads/master\n",
      "##############################################################################################################\n",
      "\n"
     ]
    }
   ],
   "source": [
    "# configurar usuario, email y password\n",
    "print('git config --global user.name \"usuario_git\"')\n",
    "print('git config --global user.email \"correo@git.com\"')\n",
    "print('git config --global user.password \"password_git\"')\n",
    "\n",
    "# almacenar las credenciales localmente para siempre\n",
    "print('git config --global credential.helper store')\n",
    "\n",
    "# ubicacion del .gitconfig para los alias, muestra la informacion configurada\n",
    "verificar_directorio_e_informacion_del_git_config()\n",
    "\n",
    "# verificar la informacion configurada de git\n",
    "verificar_git_config()\n",
    "configuracion_detallada_git()"
   ]
  },
  {
   "cell_type": "markdown",
   "id": "d467b416-39f2-4aa3-a76d-72dc8e368d8b",
   "metadata": {},
   "source": [
    "# <center> CICLO DE VIDA DE UN REPOSITORIO GIT</center>"
   ]
  },
  {
   "cell_type": "markdown",
   "id": "5e2c5972-01d4-4cdd-9591-bbac3f8d2821",
   "metadata": {
    "tags": []
   },
   "source": [
    "<center>\n",
    "    <img width=\"100%\" align=\"center\" src=\"git_life_cycle.png\">\n",
    "</center>"
   ]
  },
  {
   "cell_type": "markdown",
   "id": "db6d29b8-32cc-4bfa-8b9d-1394cd1b00f6",
   "metadata": {},
   "source": [
    "# <center> EJEMPLO DE UN REPOSITORIO LOCAL GIT, **git init** y **.gitignore**</center>"
   ]
  },
  {
   "cell_type": "markdown",
   "id": "a6b41375-9f5f-40aa-bd1d-e32fdb6ea3b6",
   "metadata": {},
   "source": [
    "<center>\n",
    "    <img width=\"90%\" align=\"center\" src=\"git_folder.jpg\">\n",
    "</center>"
   ]
  },
  {
   "cell_type": "markdown",
   "id": "0cc75a80-bb3f-4e54-8cc6-74ebe5874338",
   "metadata": {},
   "source": [
    "# <center> FLUJO DE INFORMACION ENTRE RAMAS DE UN REPOSITORIO GIT</center>\n",
    "# <center> BRANCH STRATEGY - GIT FLOW</center>"
   ]
  },
  {
   "cell_type": "markdown",
   "id": "9f417f0b-bda3-4808-8bab-c1a40f407cfe",
   "metadata": {
    "tags": []
   },
   "source": [
    "<center>\n",
    "    <img width=\"100%\" align=\"center\" src=\"git_flow.png\">\n",
    "</center>"
   ]
  },
  {
   "cell_type": "markdown",
   "id": "b6dcc937-601b-4c18-a1d6-a97936e49967",
   "metadata": {},
   "source": [
    "# <center> CLONAR UN REPOSITORIO GIT</center>"
   ]
  },
  {
   "cell_type": "code",
   "execution_count": 10,
   "id": "31f7c4af-65f2-40a1-b252-f11f2427d13e",
   "metadata": {
    "tags": []
   },
   "outputs": [
    {
     "name": "stdout",
     "output_type": "stream",
     "text": [
      "el repositorio comandos_git no existe\n",
      "############################################# COMANDO A EJECUTAR #############################################\n",
      "git clone https://github.com/JorgeCardona/comandos_git.git\n",
      "####################################### RESULTADO DE COMANDO EJECUTADO #######################################\n",
      "##############################################################################################################\n",
      "\n",
      "directorio base = C:\\z Github\\skills\\comandos GIT\n",
      "directorio actual del repositorio clonado = C:\\z Github\\skills\\comandos GIT\\comandos_git\n"
     ]
    }
   ],
   "source": [
    "repositorio_base = 'https://github.com/JorgeCardona'\n",
    "nombre_del_repositorio = 'comandos_git'\n",
    "\n",
    "clonar_repositorio(repositorio_base=repositorio_base, nombre_del_repositorio=nombre_del_repositorio)"
   ]
  },
  {
   "cell_type": "markdown",
   "id": "b32396ce-4259-432e-af76-250a01e964ea",
   "metadata": {},
   "source": [
    "# <center> FLUJO DE ARCHIVOS DE UN REPOSITORIO GIT</center>"
   ]
  },
  {
   "cell_type": "markdown",
   "id": "ee43df87-c1d1-4f90-b02c-ef02a17eb559",
   "metadata": {},
   "source": [
    "<center>\n",
    "    <img width=\"70%\" align=\"center\" src=\"gitflow.png\">\n",
    "</center>"
   ]
  },
  {
   "cell_type": "markdown",
   "id": "708fbbd8",
   "metadata": {},
   "source": [
    "# <center> PROTEGER RAMAS DE UN REPOSITORIO CONTRA ESCRITURA</center>\n",
    "# <center> EJEMPLO GITHUB  <br>https://github.com/JorgeCardona/comandos_git</br>  </center>"
   ]
  },
  {
   "cell_type": "markdown",
   "id": "4544b6a6-5c4f-4e04-a908-c5806ca6f23e",
   "metadata": {},
   "source": [
    "# <center> MOSTRAR INFORMACION DEL REPOSITORIO</center>"
   ]
  },
  {
   "cell_type": "code",
   "execution_count": 11,
   "id": "4e3ba9e5-27bd-40b6-bf9c-996f26f8d65f",
   "metadata": {
    "tags": []
   },
   "outputs": [
    {
     "name": "stdout",
     "output_type": "stream",
     "text": [
      "############################################# COMANDO A EJECUTAR #############################################\n",
      "git remote show origin\n",
      "####################################### RESULTADO DE COMANDO EJECUTADO #######################################\n",
      "* remote origin\n",
      "  Fetch URL: https://github.com/JorgeCardona/comandos_git.git\n",
      "  Push  URL: https://github.com/JorgeCardona/comandos_git.git\n",
      "  HEAD branch: main\n",
      "  Remote branches:\n",
      "    bisect_branch tracked\n",
      "    commit_branch tracked\n",
      "    main          tracked\n",
      "    multi_commits tracked\n",
      "  Local branch configured for 'git pull':\n",
      "    main merges with remote main\n",
      "  Local ref configured for 'git push':\n",
      "    main pushes to main (up to date)\n",
      "##############################################################################################################\n",
      "\n"
     ]
    }
   ],
   "source": [
    "comando = 'git remote show origin'\n",
    "ejecutar_comando_git(comando)"
   ]
  },
  {
   "cell_type": "markdown",
   "id": "a3726874-d7c6-460d-b9c0-fa4cdf3ec6ed",
   "metadata": {},
   "source": [
    "# <center> LISTAR LAS RAMAS DE UN REPOSITORIO </center>"
   ]
  },
  {
   "cell_type": "markdown",
   "id": "4f24ef50-f1c6-4daf-879d-dfecf0934268",
   "metadata": {},
   "source": [
    "### LISTA TODAS LAS RAMAS LOCALES Y LA RAMA PRINCIPAL DEL REPOSITORIO"
   ]
  },
  {
   "cell_type": "code",
   "execution_count": 12,
   "id": "6e2f6bcb-70a1-4151-bd65-0d3820f4cfd7",
   "metadata": {
    "tags": []
   },
   "outputs": [
    {
     "name": "stdout",
     "output_type": "stream",
     "text": [
      "############################################# COMANDO A EJECUTAR #############################################\n",
      "git branch\n",
      "####################################### RESULTADO DE COMANDO EJECUTADO #######################################\n",
      "* main\n",
      "##############################################################################################################\n",
      "\n"
     ]
    }
   ],
   "source": [
    "comando = 'git branch'\n",
    "ejecutar_comando_git(comando)"
   ]
  },
  {
   "cell_type": "markdown",
   "id": "3a9c0795-d684-4571-a99d-d1d6203059f1",
   "metadata": {},
   "source": [
    "### LISTA TODAS LAS RAMAS REMOTAS DEL REPOSITORIO"
   ]
  },
  {
   "cell_type": "code",
   "execution_count": 13,
   "id": "acb38610-f643-4c0e-b9e8-dec9c7a3d99e",
   "metadata": {
    "tags": []
   },
   "outputs": [
    {
     "name": "stdout",
     "output_type": "stream",
     "text": [
      "############################################# COMANDO A EJECUTAR #############################################\n",
      "git branch -r\n",
      "####################################### RESULTADO DE COMANDO EJECUTADO #######################################\n",
      "  origin/HEAD -> origin/main\n",
      "  origin/bisect_branch\n",
      "  origin/commit_branch\n",
      "  origin/main\n",
      "  origin/multi_commits\n",
      "##############################################################################################################\n",
      "\n"
     ]
    }
   ],
   "source": [
    "comando = 'git branch -r'\n",
    "ejecutar_comando_git(comando)"
   ]
  },
  {
   "cell_type": "markdown",
   "id": "ccc455dd-2361-4e82-be84-66d06caa3eb5",
   "metadata": {},
   "source": [
    "### LISTA TODAS LAS RAMAS LOCALES INCLUYENDO LAS RAMAS OCULTAS"
   ]
  },
  {
   "cell_type": "code",
   "execution_count": 14,
   "id": "486db217-0bcd-446e-bde5-147cd9c30da6",
   "metadata": {
    "tags": []
   },
   "outputs": [
    {
     "name": "stdout",
     "output_type": "stream",
     "text": [
      "############################################# COMANDO A EJECUTAR #############################################\n",
      "git branch -a\n",
      "####################################### RESULTADO DE COMANDO EJECUTADO #######################################\n",
      "* main\n",
      "  remotes/origin/HEAD -> origin/main\n",
      "  remotes/origin/bisect_branch\n",
      "  remotes/origin/commit_branch\n",
      "  remotes/origin/main\n",
      "  remotes/origin/multi_commits\n",
      "##############################################################################################################\n",
      "\n"
     ]
    }
   ],
   "source": [
    "comando = 'git branch -a'\n",
    "ejecutar_comando_git(comando)"
   ]
  },
  {
   "cell_type": "markdown",
   "id": "5fcd971b-1561-4d6b-ae04-5cd81ee1c441",
   "metadata": {},
   "source": [
    "# <center> CREAR UNA RAMA BASADA EN LA RAMA ACTUAL DE UN REPOSITORIO</center>"
   ]
  },
  {
   "cell_type": "code",
   "execution_count": 16,
   "id": "ff0c31d3-bd06-4a96-834c-53d69890a4f3",
   "metadata": {
    "tags": []
   },
   "outputs": [
    {
     "name": "stdout",
     "output_type": "stream",
     "text": [
      "############################################# COMANDO A EJECUTAR #############################################\n",
      "git branch nueva_rama\n",
      "&&&&&&&&&&&&&&&&&&&&&&&&&&&&&&&&&&&&& SE HA GENERADO UNA EXCEPCION &&&&&&&&&&&&&&&&&&&&&&&&&&&&&&&&&&&&&&&\n",
      "EL COMANDO git branch nueva_rama NO SE PUDO EJECUTAR\n",
      "&&&&&&&&&&&&&&&&&&&&&&&&&&&&&&&&&&&&& FINAL DE EXCEPCION GENERADA &&&&&&&&&&&&&&&&&&&&&&&&&&&&&&&&&&&&&&&&\n",
      "############################################# COMANDO A EJECUTAR #############################################\n",
      "git branch\n",
      "####################################### RESULTADO DE COMANDO EJECUTADO #######################################\n",
      "* main\n",
      "  nueva_rama\n",
      "##############################################################################################################\n",
      "\n"
     ]
    }
   ],
   "source": [
    "nombre_rama_principal = 'main'\n",
    "nombre_rama_a_crear = 'nueva_rama'\n",
    "comando = f'git branch {nombre_rama_a_crear}'\n",
    "ejecutar_comando_git(comando)\n",
    "ejecutar_comando_shell()"
   ]
  },
  {
   "cell_type": "markdown",
   "id": "5dd7647e-4eea-4a1c-bfd5-c6fe2dc00ca7",
   "metadata": {},
   "source": [
    "# <center> CAMBIAR A OTRA RAMA DEL REPOSITORIO</center>"
   ]
  },
  {
   "cell_type": "markdown",
   "id": "71ab062d-9e2b-4cc3-8e07-b04612203db2",
   "metadata": {},
   "source": [
    "### GIT CHECKOUT"
   ]
  },
  {
   "cell_type": "code",
   "execution_count": 17,
   "id": "d2c67bc1-51d3-4e66-adca-cda41a4316fa",
   "metadata": {
    "tags": []
   },
   "outputs": [
    {
     "name": "stdout",
     "output_type": "stream",
     "text": [
      "############################################# COMANDO A EJECUTAR #############################################\n",
      "git checkout nueva_rama\n",
      "####################################### RESULTADO DE COMANDO EJECUTADO #######################################\n",
      "##############################################################################################################\n",
      "\n",
      "############################################# COMANDO A EJECUTAR #############################################\n",
      "git branch\n",
      "####################################### RESULTADO DE COMANDO EJECUTADO #######################################\n",
      "  main\n",
      "* nueva_rama\n",
      "##############################################################################################################\n",
      "\n"
     ]
    }
   ],
   "source": [
    "comando = f'git checkout {nombre_rama_a_crear}'\n",
    "ejecutar_comando_git(comando)\n",
    "ejecutar_comando_shell()"
   ]
  },
  {
   "cell_type": "markdown",
   "id": "3c8ae0f4-59e1-4dbb-941c-b9964ceb3ac9",
   "metadata": {},
   "source": [
    "### GIT SWITCH"
   ]
  },
  {
   "cell_type": "code",
   "execution_count": 18,
   "id": "469966d0-9fcb-4e95-a7b0-987fa5e7e406",
   "metadata": {
    "tags": []
   },
   "outputs": [
    {
     "name": "stdout",
     "output_type": "stream",
     "text": [
      "############################################# COMANDO A EJECUTAR #############################################\n",
      "git switch main\n",
      "####################################### RESULTADO DE COMANDO EJECUTADO #######################################\n",
      "Your branch is up to date with 'origin/main'.\n",
      "##############################################################################################################\n",
      "\n",
      "############################################# COMANDO A EJECUTAR #############################################\n",
      "git branch\n",
      "####################################### RESULTADO DE COMANDO EJECUTADO #######################################\n",
      "* main\n",
      "  nueva_rama\n",
      "##############################################################################################################\n",
      "\n",
      "############################################# COMANDO A EJECUTAR #############################################\n",
      "git switch nueva_rama\n",
      "####################################### RESULTADO DE COMANDO EJECUTADO #######################################\n",
      "##############################################################################################################\n",
      "\n",
      "############################################# COMANDO A EJECUTAR #############################################\n",
      "git branch\n",
      "####################################### RESULTADO DE COMANDO EJECUTADO #######################################\n",
      "  main\n",
      "* nueva_rama\n",
      "##############################################################################################################\n",
      "\n"
     ]
    }
   ],
   "source": [
    "comando = 'git switch {nombre_rama_principal}'.format(nombre_rama_principal=nombre_rama_principal)\n",
    "ejecutar_comando_git(comando)\n",
    "ejecutar_comando_shell()\n",
    "\n",
    "comando = f'git switch {nombre_rama_a_crear}'\n",
    "ejecutar_comando_git(comando)\n",
    "ejecutar_comando_shell()"
   ]
  },
  {
   "cell_type": "markdown",
   "id": "3f789466-2a82-4906-a1a8-301b7e9f1823",
   "metadata": {},
   "source": [
    "# <center> CREAR UNA RAMA BASADA EN LA ACTUAL Y CAMBIA A LA RAMA CREADA AL MISMO TIEMPO</center>"
   ]
  },
  {
   "cell_type": "markdown",
   "id": "6b2f4557-7d7c-490a-a94d-f2ddb2b79d0c",
   "metadata": {},
   "source": [
    "### GIT CHECKOUT"
   ]
  },
  {
   "cell_type": "code",
   "execution_count": 19,
   "id": "accb84e5-5900-4379-97d9-4cc91f3c8480",
   "metadata": {
    "tags": []
   },
   "outputs": [
    {
     "name": "stdout",
     "output_type": "stream",
     "text": [
      "############################################# COMANDO A EJECUTAR #############################################\n",
      "git checkout -b rama_acceso_rapido_checkout\n",
      "####################################### RESULTADO DE COMANDO EJECUTADO #######################################\n",
      "##############################################################################################################\n",
      "\n",
      "############################################# COMANDO A EJECUTAR #############################################\n",
      "git branch\n",
      "####################################### RESULTADO DE COMANDO EJECUTADO #######################################\n",
      "  main\n",
      "  nueva_rama\n",
      "* rama_acceso_rapido_checkout\n",
      "##############################################################################################################\n",
      "\n"
     ]
    }
   ],
   "source": [
    "nombre_rama_checkout = 'rama_acceso_rapido_checkout'\n",
    "comando = f'git checkout -b {nombre_rama_checkout}'\n",
    "ejecutar_comando_git(comando)\n",
    "ejecutar_comando_shell()"
   ]
  },
  {
   "cell_type": "markdown",
   "id": "fe8b79fe-38d8-4638-8f65-2071db1a855d",
   "metadata": {},
   "source": [
    "### GIT SWITCH"
   ]
  },
  {
   "cell_type": "code",
   "execution_count": 20,
   "id": "8572c79d-7aeb-4eac-9d7e-d53f7f9cbd94",
   "metadata": {
    "tags": []
   },
   "outputs": [
    {
     "name": "stdout",
     "output_type": "stream",
     "text": [
      "############################################# COMANDO A EJECUTAR #############################################\n",
      "git switch -c rama_acceso_rapido_switch\n",
      "####################################### RESULTADO DE COMANDO EJECUTADO #######################################\n",
      "##############################################################################################################\n",
      "\n",
      "############################################# COMANDO A EJECUTAR #############################################\n",
      "git branch\n",
      "####################################### RESULTADO DE COMANDO EJECUTADO #######################################\n",
      "  main\n",
      "  nueva_rama\n",
      "  rama_acceso_rapido_checkout\n",
      "* rama_acceso_rapido_switch\n",
      "##############################################################################################################\n",
      "\n"
     ]
    }
   ],
   "source": [
    "nombre_rama_switch = 'rama_acceso_rapido_switch'\n",
    "comando = f'git switch -c {nombre_rama_switch}'\n",
    "ejecutar_comando_git(comando)\n",
    "ejecutar_comando_shell()"
   ]
  },
  {
   "cell_type": "markdown",
   "id": "4ce22640-89a5-457a-acab-337cf47dc60a",
   "metadata": {},
   "source": [
    "# <center> CREAR NUEVA RAMA LOCAL DE UNA RAMA REMOTA</center>"
   ]
  },
  {
   "cell_type": "markdown",
   "id": "421b2e05-dd53-4e1e-a627-5b0a7fc5c925",
   "metadata": {},
   "source": [
    "### GIT CHECKOUT"
   ]
  },
  {
   "cell_type": "code",
   "execution_count": 21,
   "id": "cef10060-f05f-411f-9347-d5fdf78e568c",
   "metadata": {
    "tags": []
   },
   "outputs": [
    {
     "name": "stdout",
     "output_type": "stream",
     "text": [
      "############################################# COMANDO A EJECUTAR #############################################\n",
      "git checkout -b multi_commits_copia_checkout origin/multi_commits\n",
      "####################################### RESULTADO DE COMANDO EJECUTADO #######################################\n",
      "Branch 'multi_commits_copia_checkout' set up to track remote branch 'multi_commits' from 'origin'.\n",
      "##############################################################################################################\n",
      "\n",
      "############################################# COMANDO A EJECUTAR #############################################\n",
      "git branch\n",
      "####################################### RESULTADO DE COMANDO EJECUTADO #######################################\n",
      "  main\n",
      "* multi_commits_copia_checkout\n",
      "  nueva_rama\n",
      "  rama_acceso_rapido_checkout\n",
      "  rama_acceso_rapido_switch\n",
      "##############################################################################################################\n",
      "\n"
     ]
    }
   ],
   "source": [
    "nombre_rama_remota = 'multi_commits'\n",
    "nombre_rama_remota_copia_checkout = f'{nombre_rama_remota}_copia_checkout'\n",
    "comando = 'git checkout -b {copia_rama_remota} origin/{nombre_rama_remota}'.format(copia_rama_remota=nombre_rama_remota_copia_checkout, nombre_rama_remota=nombre_rama_remota)\n",
    "ejecutar_comando_git(comando)\n",
    "ejecutar_comando_shell()"
   ]
  },
  {
   "cell_type": "markdown",
   "id": "9cf8f091-45f8-4dc2-a3cf-84bbe5bab19e",
   "metadata": {},
   "source": [
    "### GIT SWITCH"
   ]
  },
  {
   "cell_type": "code",
   "execution_count": 22,
   "id": "372952cf-4b8f-4c59-b7fb-ab2c318f9334",
   "metadata": {
    "tags": []
   },
   "outputs": [
    {
     "name": "stdout",
     "output_type": "stream",
     "text": [
      "############################################# COMANDO A EJECUTAR #############################################\n",
      "git switch -c multi_commits_copia_switch origin/multi_commits\n",
      "####################################### RESULTADO DE COMANDO EJECUTADO #######################################\n",
      "Branch 'multi_commits_copia_switch' set up to track remote branch 'multi_commits' from 'origin'.\n",
      "##############################################################################################################\n",
      "\n",
      "############################################# COMANDO A EJECUTAR #############################################\n",
      "git branch\n",
      "####################################### RESULTADO DE COMANDO EJECUTADO #######################################\n",
      "  main\n",
      "  multi_commits_copia_checkout\n",
      "* multi_commits_copia_switch\n",
      "  nueva_rama\n",
      "  rama_acceso_rapido_checkout\n",
      "  rama_acceso_rapido_switch\n",
      "##############################################################################################################\n",
      "\n"
     ]
    }
   ],
   "source": [
    "nombre_rama_remota_copia_switch = f'{nombre_rama_remota}_copia_switch'\n",
    "comando = 'git switch -c {copia_rama_remota} origin/{nombre_rama_remota}'.format(copia_rama_remota=nombre_rama_remota_copia_switch, nombre_rama_remota=nombre_rama_remota)\n",
    "ejecutar_comando_git(comando)\n",
    "ejecutar_comando_shell()"
   ]
  },
  {
   "cell_type": "markdown",
   "id": "04bea22a-3a54-4b3d-8260-169d7d939a6c",
   "metadata": {},
   "source": [
    "# <center> DESCARGAR RAMA REMOTA A LOCAL Y CAMBIAR A LA RAMA BAJADA AL MISMO TIEMPO</center>"
   ]
  },
  {
   "cell_type": "code",
   "execution_count": 23,
   "id": "2b8741a5-f633-4445-b579-ce199444f520",
   "metadata": {
    "tags": []
   },
   "outputs": [
    {
     "name": "stdout",
     "output_type": "stream",
     "text": [
      "############################################# COMANDO A EJECUTAR #############################################\n",
      "git checkout -t origin/multi_commits\n",
      "####################################### RESULTADO DE COMANDO EJECUTADO #######################################\n",
      "Branch 'multi_commits' set up to track remote branch 'multi_commits' from 'origin'.\n",
      "##############################################################################################################\n",
      "\n",
      "############################################# COMANDO A EJECUTAR #############################################\n",
      "git branch\n",
      "####################################### RESULTADO DE COMANDO EJECUTADO #######################################\n",
      "  main\n",
      "* multi_commits\n",
      "  multi_commits_copia_checkout\n",
      "  multi_commits_copia_switch\n",
      "  nueva_rama\n",
      "  rama_acceso_rapido_checkout\n",
      "  rama_acceso_rapido_switch\n",
      "##############################################################################################################\n",
      "\n"
     ]
    }
   ],
   "source": [
    "comando = 'git checkout -t origin/{nombre_rama_remota}'.format(nombre_rama_remota=nombre_rama_remota)\n",
    "ejecutar_comando_git(comando)\n",
    "ejecutar_comando_shell()"
   ]
  },
  {
   "cell_type": "markdown",
   "id": "8a659043-509a-4ed5-9f8f-55896c0e68b1",
   "metadata": {},
   "source": [
    "# <center> RENOMBRAR UNA RAMA DEL REPOSITORIO</center>"
   ]
  },
  {
   "cell_type": "code",
   "execution_count": 24,
   "id": "f0a3c692-e941-4491-88b3-cc8d0016f3e2",
   "metadata": {
    "tags": []
   },
   "outputs": [
    {
     "name": "stdout",
     "output_type": "stream",
     "text": [
      "############################################# COMANDO A EJECUTAR #############################################\n",
      "git branch\n",
      "####################################### RESULTADO DE COMANDO EJECUTADO #######################################\n",
      "  main\n",
      "* multi_commits\n",
      "  multi_commits_copia_checkout\n",
      "  multi_commits_copia_switch\n",
      "  nueva_rama\n",
      "  rama_acceso_rapido_checkout\n",
      "  rama_acceso_rapido_switch\n",
      "##############################################################################################################\n",
      "\n",
      "############################################# COMANDO A EJECUTAR #############################################\n",
      "git checkout multi_commits_copia_checkout\n",
      "####################################### RESULTADO DE COMANDO EJECUTADO #######################################\n",
      "Your branch is up to date with 'origin/multi_commits'.\n",
      "##############################################################################################################\n",
      "\n",
      "############################################# COMANDO A EJECUTAR #############################################\n",
      "git branch -m nueva_rama nueva_rama_renombrada_checkout\n",
      "####################################### RESULTADO DE COMANDO EJECUTADO #######################################\n",
      "##############################################################################################################\n",
      "\n",
      "############################################# COMANDO A EJECUTAR #############################################\n",
      "git branch --move rama_acceso_rapido_checkout rama_acceso_rapido_checkout_renombrada_checkout\n",
      "####################################### RESULTADO DE COMANDO EJECUTADO #######################################\n",
      "##############################################################################################################\n",
      "\n",
      "############################################# COMANDO A EJECUTAR #############################################\n",
      "git branch\n",
      "####################################### RESULTADO DE COMANDO EJECUTADO #######################################\n",
      "  main\n",
      "  multi_commits\n",
      "* multi_commits_copia_checkout\n",
      "  multi_commits_copia_switch\n",
      "  nueva_rama_renombrada_checkout\n",
      "  rama_acceso_rapido_checkout_renombrada_checkout\n",
      "  rama_acceso_rapido_switch\n",
      "##############################################################################################################\n",
      "\n"
     ]
    }
   ],
   "source": [
    "ejecutar_comando_shell()\n",
    "\n",
    "comando = 'git checkout {nombre_rama_remota_copia_checkout}'.format(nombre_rama_remota_copia_checkout=nombre_rama_remota_copia_checkout)\n",
    "ejecutar_comando_git(comando)\n",
    "\n",
    "nuevo_nombre_rama_renombrada_checkout = f'{nombre_rama_a_crear}_renombrada_checkout'\n",
    "comando = f'git branch -m {nombre_rama_a_crear} {nuevo_nombre_rama_renombrada_checkout}'\n",
    "ejecutar_comando_git(comando)\n",
    "\n",
    "# Alternativa\n",
    "nuevo_nombre_rama_acceso_rapido_renombrada_checkout = f'{nombre_rama_checkout}_renombrada_checkout'\n",
    "comando = f'git branch --move {nombre_rama_checkout} {nuevo_nombre_rama_acceso_rapido_renombrada_checkout}'\n",
    "ejecutar_comando_git(comando)\n",
    "\n",
    "ejecutar_comando_shell()"
   ]
  },
  {
   "cell_type": "markdown",
   "id": "dcb39724-92b3-4f67-952a-7941eb96ca70",
   "metadata": {},
   "source": [
    "# <center> CREAR RAMA VACIA QUE NO ESTE RELACIONADA CON NINGUN CONTENIDO DE OTRA RAMA</center>\n",
    "<center>\n",
    "    <img width=\"100%\" align=\"center\" src=\"ciclo_de_vida_archuvo_git.png\">\n",
    "</center>\n",
    "\n",
    "### UNTRACKED - ES UN FICHERO NUEVO QUE SE HA CREADO Y GIT TODAVIA NO TIENE CONSTANCIA, NO HACE PARTE DE NINGUN COMMIT ANTERIOR\n",
    "### TRACKED - UNSTAGE -> FICHERO QUE HACE PARTE DE COMMITS ANTERIORES, HA SIDO MODIFICADO PERO TODAVIA NO SE HA ENVIADO AL AREA DE STAGING\n",
    "### TRACKED - STAGE -> SE REALIZO UN CAMBIO Y SE HA ENVIADO A LA ZONA STAGING (git add archivo)\n",
    "### TRACKED - COMMITED -> UN ARCHIVO QUE SE HA HECHO COMMIT Y QUE YA ESTA EN LA ZONA EL REPOSITORIO LOCAL (git commit -m 'archivo adicionado al repo local')"
   ]
  },
  {
   "cell_type": "markdown",
   "id": "5110573e-9830-4048-a74d-bb4e3be87cbe",
   "metadata": {},
   "source": [
    "## CREA LA RAMA VACIA"
   ]
  },
  {
   "cell_type": "code",
   "execution_count": 25,
   "id": "4132ece2-f30e-4310-b013-807007387318",
   "metadata": {
    "tags": []
   },
   "outputs": [
    {
     "name": "stdout",
     "output_type": "stream",
     "text": [
      "############################################# COMANDO A EJECUTAR #############################################\n",
      "git switch --orphan utils\n",
      "####################################### RESULTADO DE COMANDO EJECUTADO #######################################\n",
      "##############################################################################################################\n",
      "\n",
      "############################################# COMANDO A EJECUTAR #############################################\n",
      "git branch -a\n",
      "####################################### RESULTADO DE COMANDO EJECUTADO #######################################\n",
      "  main\n",
      "  multi_commits\n",
      "  multi_commits_copia_checkout\n",
      "  multi_commits_copia_switch\n",
      "  nueva_rama_renombrada_checkout\n",
      "  rama_acceso_rapido_checkout_renombrada_checkout\n",
      "  rama_acceso_rapido_switch\n",
      "  remotes/origin/HEAD -> origin/main\n",
      "  remotes/origin/bisect_branch\n",
      "  remotes/origin/commit_branch\n",
      "  remotes/origin/main\n",
      "  remotes/origin/multi_commits\n",
      "##############################################################################################################\n",
      "\n"
     ]
    }
   ],
   "source": [
    "nombre_rama = 'utils'\n",
    "comando = 'git switch --orphan {nombre_rama}'.format(nombre_rama=nombre_rama)\n",
    "ejecutar_comando_git(comando)\n",
    "\n",
    "comando = 'git branch -a'\n",
    "ejecutar_comando_git(comando)"
   ]
  },
  {
   "cell_type": "markdown",
   "id": "d9ebf3bf-6a92-4c42-9ea1-aec337b49d81",
   "metadata": {},
   "source": [
    "## CREA ARCHIVOS EN EL WORKING DIRECTORY"
   ]
  },
  {
   "cell_type": "code",
   "execution_count": 26,
   "id": "3d2dd581-e019-43ea-b540-b52484fec3eb",
   "metadata": {
    "scrolled": true,
    "tags": []
   },
   "outputs": [
    {
     "name": "stdout",
     "output_type": "stream",
     "text": [
      "lista_de_archivos = ['info.txt', 'Dockerfile', 'Manifest.yaml', 'imagen.png', 'main.py', 'connection.java', 'calculos.c', 'addon.php', 'utils.gif', 'query.sql', 'dataset.avro', 'link.vs']\n",
      "############################################# COMANDO A EJECUTAR #############################################\n",
      "echo 1684028243.185351 >> info.txt\n",
      "####################################### RESULTADO DE COMANDO EJECUTADO #######################################\n",
      "##############################################################################################################\n",
      "\n",
      "############################################# COMANDO A EJECUTAR #############################################\n",
      "echo 1684028243.295214 >> Dockerfile\n",
      "####################################### RESULTADO DE COMANDO EJECUTADO #######################################\n",
      "##############################################################################################################\n",
      "\n",
      "############################################# COMANDO A EJECUTAR #############################################\n",
      "echo 1684028243.42115 >> Manifest.yaml\n",
      "####################################### RESULTADO DE COMANDO EJECUTADO #######################################\n",
      "##############################################################################################################\n",
      "\n",
      "############################################# COMANDO A EJECUTAR #############################################\n",
      "echo 1684028243.543771 >> imagen.png\n",
      "####################################### RESULTADO DE COMANDO EJECUTADO #######################################\n",
      "##############################################################################################################\n",
      "\n",
      "############################################# COMANDO A EJECUTAR #############################################\n",
      "echo 1684028243.66877 >> main.py\n",
      "####################################### RESULTADO DE COMANDO EJECUTADO #######################################\n",
      "##############################################################################################################\n",
      "\n",
      "############################################# COMANDO A EJECUTAR #############################################\n",
      "echo 1684028243.777294 >> connection.java\n",
      "####################################### RESULTADO DE COMANDO EJECUTADO #######################################\n",
      "##############################################################################################################\n",
      "\n",
      "############################################# COMANDO A EJECUTAR #############################################\n",
      "echo 1684028243.902152 >> calculos.c\n",
      "####################################### RESULTADO DE COMANDO EJECUTADO #######################################\n",
      "##############################################################################################################\n",
      "\n",
      "############################################# COMANDO A EJECUTAR #############################################\n",
      "echo 1684028244.011362 >> addon.php\n",
      "####################################### RESULTADO DE COMANDO EJECUTADO #######################################\n",
      "##############################################################################################################\n",
      "\n",
      "############################################# COMANDO A EJECUTAR #############################################\n",
      "echo 1684028244.121738 >> utils.gif\n",
      "####################################### RESULTADO DE COMANDO EJECUTADO #######################################\n",
      "##############################################################################################################\n",
      "\n",
      "############################################# COMANDO A EJECUTAR #############################################\n",
      "echo 1684028244.231133 >> query.sql\n",
      "####################################### RESULTADO DE COMANDO EJECUTADO #######################################\n",
      "##############################################################################################################\n",
      "\n",
      "############################################# COMANDO A EJECUTAR #############################################\n",
      "echo 1684028244.356454 >> dataset.avro\n",
      "####################################### RESULTADO DE COMANDO EJECUTADO #######################################\n",
      "##############################################################################################################\n",
      "\n",
      "############################################# COMANDO A EJECUTAR #############################################\n",
      "echo 1684028244.466192 >> link.vs\n",
      "####################################### RESULTADO DE COMANDO EJECUTADO #######################################\n",
      "##############################################################################################################\n",
      "\n"
     ]
    },
    {
     "data": {
      "text/plain": [
       "['info.txt',\n",
       " 'Dockerfile',\n",
       " 'Manifest.yaml',\n",
       " 'imagen.png',\n",
       " 'main.py',\n",
       " 'connection.java',\n",
       " 'calculos.c',\n",
       " 'addon.php',\n",
       " 'utils.gif',\n",
       " 'query.sql',\n",
       " 'dataset.avro',\n",
       " 'link.vs']"
      ]
     },
     "execution_count": 26,
     "metadata": {},
     "output_type": "execute_result"
    }
   ],
   "source": [
    "generar_archivos()"
   ]
  },
  {
   "cell_type": "markdown",
   "id": "18938405-9f5e-43fe-bcee-defbe3992e98",
   "metadata": {},
   "source": [
    "## <center> VALIDAR ARCHIVOS EN EL WORKING DIRECTORY"
   ]
  },
  {
   "cell_type": "code",
   "execution_count": 27,
   "id": "a5818d22-58f7-48dc-bdc4-431aa773a025",
   "metadata": {
    "tags": []
   },
   "outputs": [
    {
     "name": "stdout",
     "output_type": "stream",
     "text": [
      "############################################# COMANDO A EJECUTAR #############################################\n",
      "git status\n",
      "####################################### RESULTADO DE COMANDO EJECUTADO #######################################\n",
      "On branch utils\n",
      "\n",
      "No commits yet\n",
      "\n",
      "Untracked files:\n",
      "  (use \"git add <file>...\" to include in what will be committed)\n",
      "\tDockerfile\n",
      "\tManifest.yaml\n",
      "\taddon.php\n",
      "\tcalculos.c\n",
      "\tconnection.java\n",
      "\tdataset.avro\n",
      "\timagen.png\n",
      "\tinfo.txt\n",
      "\tlink.vs\n",
      "\tmain.py\n",
      "\tquery.sql\n",
      "\tutils.gif\n",
      "\n",
      "nothing added to commit but untracked files present (use \"git add\" to track)\n",
      "##############################################################################################################\n",
      "\n"
     ]
    }
   ],
   "source": [
    "comando = 'git status'\n",
    "ejecutar_comando_git(comando)"
   ]
  },
  {
   "cell_type": "markdown",
   "id": "b4fc0dce-0bc9-4a01-a04a-6664c5fa5083",
   "metadata": {},
   "source": [
    "## <center> ADICIONA LOS ARCHIVOS AL STAGE"
   ]
  },
  {
   "cell_type": "markdown",
   "id": "e32a92fe-0a92-46da-945c-b839a65d74c8",
   "metadata": {
    "tags": []
   },
   "source": [
    "## ADICIONA UN SOLO ARCHIVO AL STAGE"
   ]
  },
  {
   "cell_type": "code",
   "execution_count": 28,
   "id": "5ecbb553-070d-4c0e-ba1e-377655ab0d51",
   "metadata": {
    "tags": []
   },
   "outputs": [
    {
     "name": "stdout",
     "output_type": "stream",
     "text": [
      "############################################# COMANDO A EJECUTAR #############################################\n",
      "git add info.txt\n",
      "####################################### RESULTADO DE COMANDO EJECUTADO #######################################\n",
      "##############################################################################################################\n",
      "\n",
      "############################################# COMANDO A EJECUTAR #############################################\n",
      "git status\n",
      "####################################### RESULTADO DE COMANDO EJECUTADO #######################################\n",
      "On branch utils\n",
      "\n",
      "No commits yet\n",
      "\n",
      "Changes to be committed:\n",
      "  (use \"git rm --cached <file>...\" to unstage)\n",
      "\tnew file:   info.txt\n",
      "\n",
      "Untracked files:\n",
      "  (use \"git add <file>...\" to include in what will be committed)\n",
      "\tDockerfile\n",
      "\tManifest.yaml\n",
      "\taddon.php\n",
      "\tcalculos.c\n",
      "\tconnection.java\n",
      "\tdataset.avro\n",
      "\timagen.png\n",
      "\tlink.vs\n",
      "\tmain.py\n",
      "\tquery.sql\n",
      "\tutils.gif\n",
      "\n",
      "##############################################################################################################\n",
      "\n"
     ]
    }
   ],
   "source": [
    "comando = 'git add info.txt'\n",
    "ejecutar_comando_git(comando)\n",
    "\n",
    "comando = 'git status'\n",
    "ejecutar_comando_git(comando)"
   ]
  },
  {
   "cell_type": "markdown",
   "id": "b982316d-c187-40f9-b892-9c0c3b3bb913",
   "metadata": {},
   "source": [
    "## ADICIONA TODOS LOS ARCHIVOS AL STAGE"
   ]
  },
  {
   "cell_type": "code",
   "execution_count": 29,
   "id": "19aee2b8-f005-4294-8290-3a9e1e0b61ae",
   "metadata": {
    "tags": []
   },
   "outputs": [
    {
     "name": "stdout",
     "output_type": "stream",
     "text": [
      "############################################# COMANDO A EJECUTAR #############################################\n",
      "git add .\n",
      "####################################### RESULTADO DE COMANDO EJECUTADO #######################################\n",
      "##############################################################################################################\n",
      "\n",
      "############################################# COMANDO A EJECUTAR #############################################\n",
      "git status\n",
      "####################################### RESULTADO DE COMANDO EJECUTADO #######################################\n",
      "On branch utils\n",
      "\n",
      "No commits yet\n",
      "\n",
      "Changes to be committed:\n",
      "  (use \"git rm --cached <file>...\" to unstage)\n",
      "\tnew file:   Dockerfile\n",
      "\tnew file:   Manifest.yaml\n",
      "\tnew file:   addon.php\n",
      "\tnew file:   calculos.c\n",
      "\tnew file:   connection.java\n",
      "\tnew file:   dataset.avro\n",
      "\tnew file:   imagen.png\n",
      "\tnew file:   info.txt\n",
      "\tnew file:   link.vs\n",
      "\tnew file:   main.py\n",
      "\tnew file:   query.sql\n",
      "\tnew file:   utils.gif\n",
      "\n",
      "##############################################################################################################\n",
      "\n"
     ]
    }
   ],
   "source": [
    "comando = 'git add .'\n",
    "ejecutar_comando_git(comando)\n",
    "\n",
    "comando = 'git status'\n",
    "ejecutar_comando_git(comando)"
   ]
  },
  {
   "cell_type": "markdown",
   "id": "a001cd8c-feb4-49ac-aa5f-4a9d6927d848",
   "metadata": {},
   "source": [
    "## <center> ELIMINA LOS ARCHIVOS DEL STAGE Y LOS RETORNA AL WORKING DIRECTORY"
   ]
  },
  {
   "cell_type": "markdown",
   "id": "67595613-6366-4d8e-b0ce-f408bcfd9886",
   "metadata": {},
   "source": [
    "## ELIMINA UNO DE LOS ARCHIVOS DEL STAGE"
   ]
  },
  {
   "cell_type": "code",
   "execution_count": 30,
   "id": "e478337d-f08f-49ce-875a-3dfa722e0785",
   "metadata": {
    "scrolled": true,
    "tags": []
   },
   "outputs": [
    {
     "name": "stdout",
     "output_type": "stream",
     "text": [
      "############################################# COMANDO A EJECUTAR #############################################\n",
      "git rm --cached info.txt\n",
      "####################################### RESULTADO DE COMANDO EJECUTADO #######################################\n",
      "rm 'info.txt'\n",
      "##############################################################################################################\n",
      "\n",
      "############################################# COMANDO A EJECUTAR #############################################\n",
      "git status\n",
      "####################################### RESULTADO DE COMANDO EJECUTADO #######################################\n",
      "On branch utils\n",
      "\n",
      "No commits yet\n",
      "\n",
      "Changes to be committed:\n",
      "  (use \"git rm --cached <file>...\" to unstage)\n",
      "\tnew file:   Dockerfile\n",
      "\tnew file:   Manifest.yaml\n",
      "\tnew file:   addon.php\n",
      "\tnew file:   calculos.c\n",
      "\tnew file:   connection.java\n",
      "\tnew file:   dataset.avro\n",
      "\tnew file:   imagen.png\n",
      "\tnew file:   link.vs\n",
      "\tnew file:   main.py\n",
      "\tnew file:   query.sql\n",
      "\tnew file:   utils.gif\n",
      "\n",
      "Untracked files:\n",
      "  (use \"git add <file>...\" to include in what will be committed)\n",
      "\tinfo.txt\n",
      "\n",
      "##############################################################################################################\n",
      "\n"
     ]
    }
   ],
   "source": [
    "comando = 'git rm --cached info.txt'\n",
    "ejecutar_comando_git(comando)\n",
    "\n",
    "comando = 'git status'\n",
    "ejecutar_comando_git(comando)"
   ]
  },
  {
   "cell_type": "markdown",
   "id": "66df5c5d-37a4-49ed-9d26-096933a8788c",
   "metadata": {},
   "source": [
    "## ELIMINA TODOS DE LOS ARCHIVOS DEL STAGE"
   ]
  },
  {
   "cell_type": "code",
   "execution_count": 31,
   "id": "7ec0d92f-89d5-4d03-9561-1925c22e571b",
   "metadata": {
    "scrolled": true,
    "tags": []
   },
   "outputs": [
    {
     "name": "stdout",
     "output_type": "stream",
     "text": [
      "############################################# COMANDO A EJECUTAR #############################################\n",
      "git rm --cached \"*\"\n",
      "####################################### RESULTADO DE COMANDO EJECUTADO #######################################\n",
      "rm 'Dockerfile'\n",
      "rm 'Manifest.yaml'\n",
      "rm 'addon.php'\n",
      "rm 'calculos.c'\n",
      "rm 'connection.java'\n",
      "rm 'dataset.avro'\n",
      "rm 'imagen.png'\n",
      "rm 'link.vs'\n",
      "rm 'main.py'\n",
      "rm 'query.sql'\n",
      "rm 'utils.gif'\n",
      "##############################################################################################################\n",
      "\n",
      "############################################# COMANDO A EJECUTAR #############################################\n",
      "git status\n",
      "####################################### RESULTADO DE COMANDO EJECUTADO #######################################\n",
      "On branch utils\n",
      "\n",
      "No commits yet\n",
      "\n",
      "Untracked files:\n",
      "  (use \"git add <file>...\" to include in what will be committed)\n",
      "\tDockerfile\n",
      "\tManifest.yaml\n",
      "\taddon.php\n",
      "\tcalculos.c\n",
      "\tconnection.java\n",
      "\tdataset.avro\n",
      "\timagen.png\n",
      "\tinfo.txt\n",
      "\tlink.vs\n",
      "\tmain.py\n",
      "\tquery.sql\n",
      "\tutils.gif\n",
      "\n",
      "nothing added to commit but untracked files present (use \"git add\" to track)\n",
      "##############################################################################################################\n",
      "\n"
     ]
    }
   ],
   "source": [
    "comando = 'git rm --cached \"*\"'\n",
    "ejecutar_comando_git(comando)\n",
    "\n",
    "comando = 'git status'\n",
    "ejecutar_comando_git(comando)"
   ]
  },
  {
   "cell_type": "markdown",
   "id": "9c5f6f24-7078-4a71-998d-c6a838b87f8f",
   "metadata": {
    "tags": []
   },
   "source": [
    "## <center>ARCHIVOS EN EL REPOSITORIO LOCAL - COMMIT - CONFIRMACION"
   ]
  },
  {
   "cell_type": "markdown",
   "id": "7718c89c-2e06-4a9f-ab18-e2c09dcd8e9a",
   "metadata": {},
   "source": [
    "## ELIMINA TODOS LOS ARCHIVOS UNTRACKED DEL WORKING DIRECTORY"
   ]
  },
  {
   "cell_type": "code",
   "execution_count": 32,
   "id": "699ffe14-b407-482a-8927-2b251b6ff7b4",
   "metadata": {
    "scrolled": true,
    "tags": []
   },
   "outputs": [
    {
     "name": "stdout",
     "output_type": "stream",
     "text": [
      "############################################# COMANDO A EJECUTAR #############################################\n",
      "echo actualizacion 1 fecha 1684028250.725406 >> info.txt\n",
      "####################################### RESULTADO DE COMANDO EJECUTADO #######################################\n",
      "##############################################################################################################\n",
      "\n",
      "############################################# COMANDO A EJECUTAR #############################################\n",
      "echo actualizacion 2 fecha 1684028250.736407 >> info.txt\n",
      "####################################### RESULTADO DE COMANDO EJECUTADO #######################################\n",
      "##############################################################################################################\n",
      "\n",
      "############################################# COMANDO A EJECUTAR #############################################\n",
      "echo actualizacion 3 fecha 1684028250.746438 >> info.txt\n",
      "####################################### RESULTADO DE COMANDO EJECUTADO #######################################\n",
      "##############################################################################################################\n",
      "\n",
      "############################################# COMANDO A EJECUTAR #############################################\n",
      "echo actualizacion 4 fecha 1684028250.75544 >> info.txt\n",
      "####################################### RESULTADO DE COMANDO EJECUTADO #######################################\n",
      "##############################################################################################################\n",
      "\n",
      "############################################# COMANDO A EJECUTAR #############################################\n",
      "echo actualizacion 5 fecha 1684028250.764407 >> info.txt\n",
      "####################################### RESULTADO DE COMANDO EJECUTADO #######################################\n",
      "##############################################################################################################\n",
      "\n",
      "############################################# COMANDO A EJECUTAR #############################################\n",
      "git add info.txt\n",
      "####################################### RESULTADO DE COMANDO EJECUTADO #######################################\n",
      "##############################################################################################################\n",
      "\n",
      "############################################# COMANDO A EJECUTAR #############################################\n",
      "git status\n",
      "####################################### RESULTADO DE COMANDO EJECUTADO #######################################\n",
      "On branch utils\n",
      "\n",
      "No commits yet\n",
      "\n",
      "Changes to be committed:\n",
      "  (use \"git rm --cached <file>...\" to unstage)\n",
      "\tnew file:   info.txt\n",
      "\n",
      "Untracked files:\n",
      "  (use \"git add <file>...\" to include in what will be committed)\n",
      "\tDockerfile\n",
      "\tManifest.yaml\n",
      "\taddon.php\n",
      "\tcalculos.c\n",
      "\tconnection.java\n",
      "\tdataset.avro\n",
      "\timagen.png\n",
      "\tlink.vs\n",
      "\tmain.py\n",
      "\tquery.sql\n",
      "\tutils.gif\n",
      "\n",
      "##############################################################################################################\n",
      "\n"
     ]
    }
   ],
   "source": [
    "archivo = 'info.txt'\n",
    "crear_o_actualizar_archivo(actualizaciones=5, archivo=archivo)\n",
    "\n",
    "comando = 'git add {archivo}'.format(archivo=archivo)\n",
    "ejecutar_comando_git(comando)\n",
    "\n",
    "comando = 'git status'\n",
    "ejecutar_comando_git(comando)"
   ]
  },
  {
   "cell_type": "markdown",
   "id": "7ab60d39-9b85-4abb-b80a-ee3eee39b947",
   "metadata": {
    "tags": []
   },
   "source": [
    "## CREA UN COMMIT SOLO CON EL SUBJECT"
   ]
  },
  {
   "cell_type": "code",
   "execution_count": 33,
   "id": "54d2152d-c9e0-47f8-9293-077bde35f092",
   "metadata": {
    "tags": []
   },
   "outputs": [
    {
     "name": "stdout",
     "output_type": "stream",
     "text": [
      "############################################# COMANDO A EJECUTAR #############################################\n",
      "git commit -m \"adicionado archivo INFO.txt\"\n",
      "####################################### RESULTADO DE COMANDO EJECUTADO #######################################\n",
      "[utils (root-commit) 4549072] adicionado archivo INFO.txt\n",
      " 1 file changed, 6 insertions(+)\n",
      " create mode 100644 info.txt\n",
      "##############################################################################################################\n",
      "\n",
      "############################################# COMANDO A EJECUTAR #############################################\n",
      "git log\n",
      "####################################### RESULTADO DE COMANDO EJECUTADO #######################################\n",
      "commit 4549072769f4608a8ffb0bd5b7174d132769a806\n",
      "Author: jorgecardona <jorgecardona@utp.edu.co>\n",
      "Date:   Sat May 13 20:37:31 2023 -0500\n",
      "\n",
      "    adicionado archivo INFO.txt\n",
      "##############################################################################################################\n",
      "\n",
      "############################################# COMANDO A EJECUTAR #############################################\n",
      "git status\n",
      "####################################### RESULTADO DE COMANDO EJECUTADO #######################################\n",
      "On branch utils\n",
      "Untracked files:\n",
      "  (use \"git add <file>...\" to include in what will be committed)\n",
      "\tDockerfile\n",
      "\tManifest.yaml\n",
      "\taddon.php\n",
      "\tcalculos.c\n",
      "\tconnection.java\n",
      "\tdataset.avro\n",
      "\timagen.png\n",
      "\tlink.vs\n",
      "\tmain.py\n",
      "\tquery.sql\n",
      "\tutils.gif\n",
      "\n",
      "nothing added to commit but untracked files present (use \"git add\" to track)\n",
      "##############################################################################################################\n",
      "\n"
     ]
    }
   ],
   "source": [
    "comando = 'git commit -m \"adicionado archivo INFO.txt\"'\n",
    "ejecutar_comando_git(comando)\n",
    "\n",
    "comando = 'git log'\n",
    "ejecutar_comando_git(comando)\n",
    "\n",
    "comando = 'git status'\n",
    "ejecutar_comando_git(comando)"
   ]
  },
  {
   "cell_type": "markdown",
   "id": "60bcdebb-9645-4701-b39a-7c35caaf7df5",
   "metadata": {},
   "source": [
    "## ADICIONA ARCHIVOS Y CREA UN COMMIT CON EL SUBJECT Y EL BODY"
   ]
  },
  {
   "cell_type": "code",
   "execution_count": 34,
   "id": "1c688825-c76b-451b-bceb-cedd46b25644",
   "metadata": {
    "scrolled": true,
    "tags": []
   },
   "outputs": [
    {
     "name": "stdout",
     "output_type": "stream",
     "text": [
      "############################################# COMANDO A EJECUTAR #############################################\n",
      "git add connection.java Manifest.yaml\n",
      "####################################### RESULTADO DE COMANDO EJECUTADO #######################################\n",
      "##############################################################################################################\n",
      "\n",
      "############################################# COMANDO A EJECUTAR #############################################\n",
      "git commit -m \"adicionados archivos connection.java y Manifest.yaml\" -m \"los archivos de este commit ayudan con la configuracion de la aplicacion....\" \n",
      "####################################### RESULTADO DE COMANDO EJECUTADO #######################################\n",
      "[utils bab6813] adicionados archivos connection.java y Manifest.yaml\n",
      " 2 files changed, 2 insertions(+)\n",
      " create mode 100644 Manifest.yaml\n",
      " create mode 100644 connection.java\n",
      "##############################################################################################################\n",
      "\n",
      "############################################# COMANDO A EJECUTAR #############################################\n",
      "git log\n",
      "####################################### RESULTADO DE COMANDO EJECUTADO #######################################\n",
      "commit bab68135e8a1a126c5fcaa0025859d5b407a2484\n",
      "Author: jorgecardona <jorgecardona@utp.edu.co>\n",
      "Date:   Sat May 13 20:37:32 2023 -0500\n",
      "\n",
      "    adicionados archivos connection.java y Manifest.yaml\n",
      "    \n",
      "    los archivos de este commit ayudan con la configuracion de la aplicacion....\n",
      "\n",
      "commit 4549072769f4608a8ffb0bd5b7174d132769a806\n",
      "Author: jorgecardona <jorgecardona@utp.edu.co>\n",
      "Date:   Sat May 13 20:37:31 2023 -0500\n",
      "\n",
      "    adicionado archivo INFO.txt\n",
      "##############################################################################################################\n",
      "\n",
      "############################################# COMANDO A EJECUTAR #############################################\n",
      "git status\n",
      "####################################### RESULTADO DE COMANDO EJECUTADO #######################################\n",
      "On branch utils\n",
      "Untracked files:\n",
      "  (use \"git add <file>...\" to include in what will be committed)\n",
      "\tDockerfile\n",
      "\taddon.php\n",
      "\tcalculos.c\n",
      "\tdataset.avro\n",
      "\timagen.png\n",
      "\tlink.vs\n",
      "\tmain.py\n",
      "\tquery.sql\n",
      "\tutils.gif\n",
      "\n",
      "nothing added to commit but untracked files present (use \"git add\" to track)\n",
      "##############################################################################################################\n",
      "\n"
     ]
    }
   ],
   "source": [
    "comando = 'git add connection.java Manifest.yaml'\n",
    "ejecutar_comando_git(comando)\n",
    "\n",
    "comando = 'git commit -m \"adicionados archivos connection.java y Manifest.yaml\" -m \"los archivos de este commit ayudan con la configuracion de la aplicacion....\" '\n",
    "ejecutar_comando_git(comando)\n",
    "\n",
    "comando = 'git log'\n",
    "ejecutar_comando_git(comando)\n",
    "\n",
    "comando = 'git status'\n",
    "ejecutar_comando_git(comando)"
   ]
  },
  {
   "cell_type": "markdown",
   "id": "3b8f87ce-54af-477b-b1d1-389d8cfdfd52",
   "metadata": {},
   "source": [
    "## SE PUEDE ADICIONAR UN MENSAJE DESDE UN EDITOR DE TEXTO"
   ]
  },
  {
   "cell_type": "code",
   "execution_count": 35,
   "id": "cd21adc7-a870-4eb3-b5fc-26826de7ba25",
   "metadata": {
    "scrolled": true,
    "tags": []
   },
   "outputs": [
    {
     "name": "stdout",
     "output_type": "stream",
     "text": [
      "############################################# COMANDO A EJECUTAR #############################################\n",
      "git add main.py\n",
      "####################################### RESULTADO DE COMANDO EJECUTADO #######################################\n",
      "##############################################################################################################\n",
      "\n",
      "############################################# COMANDO A EJECUTAR #############################################\n",
      "git commit\n",
      "&&&&&&&&&&&&&&&&&&&&&&&&&&&&&&&&&&&&& SE HA GENERADO UNA EXCEPCION &&&&&&&&&&&&&&&&&&&&&&&&&&&&&&&&&&&&&&&\n",
      "EL COMANDO git commit NO SE PUDO EJECUTAR\n",
      "&&&&&&&&&&&&&&&&&&&&&&&&&&&&&&&&&&&&& FINAL DE EXCEPCION GENERADA &&&&&&&&&&&&&&&&&&&&&&&&&&&&&&&&&&&&&&&&\n",
      "############################################# COMANDO A EJECUTAR #############################################\n",
      "git log\n",
      "####################################### RESULTADO DE COMANDO EJECUTADO #######################################\n",
      "commit bab68135e8a1a126c5fcaa0025859d5b407a2484\n",
      "Author: jorgecardona <jorgecardona@utp.edu.co>\n",
      "Date:   Sat May 13 20:37:32 2023 -0500\n",
      "\n",
      "    adicionados archivos connection.java y Manifest.yaml\n",
      "    \n",
      "    los archivos de este commit ayudan con la configuracion de la aplicacion....\n",
      "\n",
      "commit 4549072769f4608a8ffb0bd5b7174d132769a806\n",
      "Author: jorgecardona <jorgecardona@utp.edu.co>\n",
      "Date:   Sat May 13 20:37:31 2023 -0500\n",
      "\n",
      "    adicionado archivo INFO.txt\n",
      "##############################################################################################################\n",
      "\n"
     ]
    }
   ],
   "source": [
    "# abre el block de notas\n",
    "comando = 'git add main.py'\n",
    "ejecutar_comando_git(comando)\n",
    "\n",
    "comando = 'git commit'\n",
    "ejecutar_comando_git(comando)\n",
    "\n",
    "comando = 'git log'\n",
    "ejecutar_comando_git(comando)"
   ]
  },
  {
   "cell_type": "markdown",
   "id": "3d5dff30-22c7-4c76-ae16-42ef09f65e42",
   "metadata": {},
   "source": [
    "## CAMBIAR EL MENSAJE DE UN COMMIT"
   ]
  },
  {
   "cell_type": "code",
   "execution_count": 36,
   "id": "218eb889-c446-4a78-9ee5-dffa3fc2c62f",
   "metadata": {
    "scrolled": true,
    "tags": []
   },
   "outputs": [
    {
     "name": "stdout",
     "output_type": "stream",
     "text": [
      "############################################# COMANDO A EJECUTAR #############################################\n",
      "git commit --amend --no-edit -m \"asunto del commit actualizado\"\n",
      "####################################### RESULTADO DE COMANDO EJECUTADO #######################################\n",
      "[utils b6f8ba6] asunto del commit actualizado\n",
      " Date: Sat May 13 20:37:32 2023 -0500\n",
      " 3 files changed, 3 insertions(+)\n",
      " create mode 100644 Manifest.yaml\n",
      " create mode 100644 connection.java\n",
      " create mode 100644 main.py\n",
      "##############################################################################################################\n",
      "\n",
      "############################################# COMANDO A EJECUTAR #############################################\n",
      "git log\n",
      "####################################### RESULTADO DE COMANDO EJECUTADO #######################################\n",
      "commit b6f8ba64a7a27d2f313c6f2956d085ae6de8350f\n",
      "Author: jorgecardona <jorgecardona@utp.edu.co>\n",
      "Date:   Sat May 13 20:37:32 2023 -0500\n",
      "\n",
      "    asunto del commit actualizado\n",
      "\n",
      "commit 4549072769f4608a8ffb0bd5b7174d132769a806\n",
      "Author: jorgecardona <jorgecardona@utp.edu.co>\n",
      "Date:   Sat May 13 20:37:31 2023 -0500\n",
      "\n",
      "    adicionado archivo INFO.txt\n",
      "##############################################################################################################\n",
      "\n"
     ]
    }
   ],
   "source": [
    "comando = 'git commit --amend --no-edit -m \"asunto del commit actualizado\"'\n",
    "ejecutar_comando_git(comando)\n",
    "\n",
    "comando = 'git log'\n",
    "ejecutar_comando_git(comando)"
   ]
  },
  {
   "cell_type": "markdown",
   "id": "7491dacf-b05c-4682-a89f-d4a84b098084",
   "metadata": {},
   "source": [
    "## CAMBIAR EL AUTOR DE UN COMMIT"
   ]
  },
  {
   "cell_type": "code",
   "execution_count": 37,
   "id": "c2925ca4-a2e6-4822-b50c-a9d839524cbf",
   "metadata": {
    "scrolled": true,
    "tags": []
   },
   "outputs": [
    {
     "name": "stdout",
     "output_type": "stream",
     "text": [
      "############################################# COMANDO A EJECUTAR #############################################\n",
      "git commit --amend --no-edit --author=cienciagoku@gmail.com\n",
      "####################################### RESULTADO DE COMANDO EJECUTADO #######################################\n",
      "[utils b6c136a] asunto del commit actualizado\n",
      " Author: QiDimMak <cienciagoku@gmail.com>\n",
      " Date: Sat May 13 20:37:32 2023 -0500\n",
      " 3 files changed, 3 insertions(+)\n",
      " create mode 100644 Manifest.yaml\n",
      " create mode 100644 connection.java\n",
      " create mode 100644 main.py\n",
      "##############################################################################################################\n",
      "\n",
      "############################################# COMANDO A EJECUTAR #############################################\n",
      "git log\n",
      "####################################### RESULTADO DE COMANDO EJECUTADO #######################################\n",
      "commit b6c136a8e440dc9091a6ed3fb9c929d8a13d1a05\n",
      "Author: QiDimMak <cienciagoku@gmail.com>\n",
      "Date:   Sat May 13 20:37:32 2023 -0500\n",
      "\n",
      "    asunto del commit actualizado\n",
      "\n",
      "commit 4549072769f4608a8ffb0bd5b7174d132769a806\n",
      "Author: jorgecardona <jorgecardona@utp.edu.co>\n",
      "Date:   Sat May 13 20:37:31 2023 -0500\n",
      "\n",
      "    adicionado archivo INFO.txt\n",
      "##############################################################################################################\n",
      "\n"
     ]
    }
   ],
   "source": [
    "# TIENE que estar el nombre entre los usuarios que contribuyen en el repositorio\n",
    "autor = 'cienciagoku@gmail.com'\n",
    "comando = 'git commit --amend --no-edit --author={autor}'.format(autor=autor)\n",
    "ejecutar_comando_git(comando)\n",
    "\n",
    "comando = 'git log'\n",
    "ejecutar_comando_git(comando)"
   ]
  },
  {
   "cell_type": "markdown",
   "id": "c3022d61-e66e-4124-bfdf-d4fcf4bb93a9",
   "metadata": {
    "tags": []
   },
   "source": [
    "## CAMBIAR LA FECHA DE UN COMMIT"
   ]
  },
  {
   "cell_type": "code",
   "execution_count": 38,
   "id": "7d85cbc7-e042-4ac1-9f7e-8620313ada6b",
   "metadata": {
    "scrolled": true,
    "tags": []
   },
   "outputs": [
    {
     "name": "stdout",
     "output_type": "stream",
     "text": [
      "############################################# COMANDO A EJECUTAR #############################################\n",
      "git commit --amend --no-edit --date \"31 Jul 2000 07:31:40 UTC\"\n",
      "####################################### RESULTADO DE COMANDO EJECUTADO #######################################\n",
      "[utils 838403d] asunto del commit actualizado\n",
      " Author: QiDimMak <cienciagoku@gmail.com>\n",
      " Date: Mon Jul 31 07:31:40 2000 +0000\n",
      " 3 files changed, 3 insertions(+)\n",
      " create mode 100644 Manifest.yaml\n",
      " create mode 100644 connection.java\n",
      " create mode 100644 main.py\n",
      "##############################################################################################################\n",
      "\n",
      "############################################# COMANDO A EJECUTAR #############################################\n",
      "git log\n",
      "####################################### RESULTADO DE COMANDO EJECUTADO #######################################\n",
      "commit 838403df43d15cf42acafa9b094e7d7dff63d9dc\n",
      "Author: QiDimMak <cienciagoku@gmail.com>\n",
      "Date:   Mon Jul 31 07:31:40 2000 +0000\n",
      "\n",
      "    asunto del commit actualizado\n",
      "\n",
      "commit 4549072769f4608a8ffb0bd5b7174d132769a806\n",
      "Author: jorgecardona <jorgecardona@utp.edu.co>\n",
      "Date:   Sat May 13 20:37:31 2023 -0500\n",
      "\n",
      "    adicionado archivo INFO.txt\n",
      "##############################################################################################################\n",
      "\n"
     ]
    }
   ],
   "source": [
    "comando = 'git commit --amend --no-edit --date \"31 Jul 2000 07:31:40 UTC\"'\n",
    "ejecutar_comando_git(comando)\n",
    "\n",
    "comando = 'git log'\n",
    "ejecutar_comando_git(comando)"
   ]
  },
  {
   "cell_type": "markdown",
   "id": "db845ffe-c8c8-40e5-8833-a3045a5ddd5a",
   "metadata": {
    "tags": []
   },
   "source": [
    "### ELIMINA TODOS LOS ARCHIVOS UNTRACKED DEL WORKING DIRECTORY"
   ]
  },
  {
   "cell_type": "code",
   "execution_count": 39,
   "id": "7995d0a7-af0d-4b4a-b010-3cd9141d56bc",
   "metadata": {
    "tags": []
   },
   "outputs": [
    {
     "name": "stdout",
     "output_type": "stream",
     "text": [
      "############################################# COMANDO A EJECUTAR #############################################\n",
      "git clean -f\n",
      "####################################### RESULTADO DE COMANDO EJECUTADO #######################################\n",
      "Removing Dockerfile\n",
      "Removing addon.php\n",
      "Removing calculos.c\n",
      "Removing dataset.avro\n",
      "Removing imagen.png\n",
      "Removing link.vs\n",
      "Removing query.sql\n",
      "Removing utils.gif\n",
      "##############################################################################################################\n",
      "\n"
     ]
    }
   ],
   "source": [
    "comando = 'git clean -f'\n",
    "ejecutar_comando_git(comando)"
   ]
  },
  {
   "cell_type": "code",
   "execution_count": 40,
   "id": "12d0da8a-7806-49e0-9beb-4e4a0e8e2464",
   "metadata": {
    "tags": []
   },
   "outputs": [
    {
     "name": "stdout",
     "output_type": "stream",
     "text": [
      "############################################# COMANDO A EJECUTAR #############################################\n",
      "git status\n",
      "####################################### RESULTADO DE COMANDO EJECUTADO #######################################\n",
      "On branch utils\n",
      "nothing to commit, working tree clean\n",
      "##############################################################################################################\n",
      "\n"
     ]
    }
   ],
   "source": [
    "comando = 'git status'\n",
    "ejecutar_comando_git(comando)"
   ]
  },
  {
   "cell_type": "markdown",
   "id": "8814804e-fd01-486d-b92d-ec3f51a71675",
   "metadata": {},
   "source": [
    "### ACTUALIZAR UN ARCHIVO Y VALIDARLO EN LA ZONA DE MODIFIED"
   ]
  },
  {
   "cell_type": "code",
   "execution_count": 41,
   "id": "5606579d-6442-4530-af53-072255d1edfe",
   "metadata": {
    "scrolled": true,
    "tags": []
   },
   "outputs": [
    {
     "name": "stdout",
     "output_type": "stream",
     "text": [
      "############################################# COMANDO A EJECUTAR #############################################\n",
      "echo PATCH 1 fecha 1684028312.58871 >> info.txt\n",
      "####################################### RESULTADO DE COMANDO EJECUTADO #######################################\n",
      "##############################################################################################################\n",
      "\n",
      "############################################# COMANDO A EJECUTAR #############################################\n",
      "echo PATCH 2 fecha 1684028312.598711 >> info.txt\n",
      "####################################### RESULTADO DE COMANDO EJECUTADO #######################################\n",
      "##############################################################################################################\n",
      "\n",
      "############################################# COMANDO A EJECUTAR #############################################\n",
      "echo PATCH 3 fecha 1684028312.60671 >> info.txt\n",
      "####################################### RESULTADO DE COMANDO EJECUTADO #######################################\n",
      "##############################################################################################################\n",
      "\n",
      "############################################# COMANDO A EJECUTAR #############################################\n",
      "echo PATCH 4 fecha 1684028312.616707 >> info.txt\n",
      "####################################### RESULTADO DE COMANDO EJECUTADO #######################################\n",
      "##############################################################################################################\n",
      "\n",
      "############################################# COMANDO A EJECUTAR #############################################\n",
      "echo PATCH 5 fecha 1684028312.625709 >> info.txt\n",
      "####################################### RESULTADO DE COMANDO EJECUTADO #######################################\n",
      "##############################################################################################################\n",
      "\n"
     ]
    }
   ],
   "source": [
    "crear_o_actualizar_archivo(actualizaciones=5, archivo=archivo, mensaje='PATCH')"
   ]
  },
  {
   "cell_type": "code",
   "execution_count": 42,
   "id": "28e717d9-9ed9-4a49-8532-184c3180d4c7",
   "metadata": {
    "tags": []
   },
   "outputs": [
    {
     "name": "stdout",
     "output_type": "stream",
     "text": [
      "############################################# COMANDO A EJECUTAR #############################################\n",
      "git status\n",
      "####################################### RESULTADO DE COMANDO EJECUTADO #######################################\n",
      "On branch utils\n",
      "Changes not staged for commit:\n",
      "  (use \"git add <file>...\" to update what will be committed)\n",
      "  (use \"git restore <file>...\" to discard changes in working directory)\n",
      "\tmodified:   info.txt\n",
      "\n",
      "no changes added to commit (use \"git add\" and/or \"git commit -a\")\n",
      "##############################################################################################################\n",
      "\n"
     ]
    }
   ],
   "source": [
    "comando = 'git status'\n",
    "ejecutar_comando_git(comando)"
   ]
  },
  {
   "cell_type": "markdown",
   "id": "617b9940-b8f0-4186-b67f-5f0d2f8f6b64",
   "metadata": {},
   "source": [
    "### LISTAR LAS DIFERENCIAS DE UN ARCHIVO EN ZONA STAGGING O ZONA COMMIT \n",
    "##### CON LOS CAMBIOS ACTUALES QUE SE ADICIONARON(+) O ELIMINARON(-) DE UN ARCHIVO MODIFICADO EN EL WORKING DIRECTORY"
   ]
  },
  {
   "cell_type": "code",
   "execution_count": 43,
   "id": "401bf395-83bf-4be5-a04e-8445e88fa0bc",
   "metadata": {
    "tags": []
   },
   "outputs": [
    {
     "name": "stdout",
     "output_type": "stream",
     "text": [
      "############################################# COMANDO A EJECUTAR #############################################\n",
      "git diff info.txt\n",
      "####################################### RESULTADO DE COMANDO EJECUTADO #######################################\n",
      "diff --git a/info.txt b/info.txt\n",
      "index 4af9bc1..1144e22 100644\n",
      "--- a/info.txt\n",
      "+++ b/info.txt\n",
      "@@ -4,3 +4,8 @@ actualizacion 2 fecha 1684028250.736407\n",
      " actualizacion 3 fecha 1684028250.746438 \n",
      " actualizacion 4 fecha 1684028250.75544 \n",
      " actualizacion 5 fecha 1684028250.764407 \n",
      "+PATCH 1 fecha 1684028312.58871 \n",
      "+PATCH 2 fecha 1684028312.598711 \n",
      "+PATCH 3 fecha 1684028312.60671 \n",
      "+PATCH 4 fecha 1684028312.616707 \n",
      "+PATCH 5 fecha 1684028312.625709 \n",
      "##############################################################################################################\n",
      "\n"
     ]
    }
   ],
   "source": [
    "comando = 'git diff {archivo}'.format(archivo=archivo)\n",
    "ejecutar_comando_git(comando)"
   ]
  },
  {
   "cell_type": "markdown",
   "id": "4c19c520-f2ae-4db6-84db-ace6ea3eeef7",
   "metadata": {},
   "source": [
    "## ORDENAR CUANDO HAY MUCHAS MODIFICACIONES, QUE CAMBIOS SE VAN A ADICIONAR EN CADA COMMIT\n",
    "### ELEGIR QUE MODIFICACIONES INCLUIR BASADO EN EL NIVEL DE PARCHE DEL CODIGO SE ADICIONAN AL AREA DE STAGING - CACHE  O PREPARACION\n",
    "    y - stage this hunk\n",
    "    n - do not stage this hunk\n",
    "    s - split the current hunk into smaller hunks\n",
    "    e - manually edit the current hunk\n",
    "    q - quit; do not stage this hunk nor any of the remaining ones\n",
    "    a - stage this hunk and all later hunks in the file\n",
    "    d - do not stage this hunk nor any of the later hunks in the file\n",
    "    g - select a hunk to go to\n",
    "    / - search for a hunk matching the given regex\n",
    "    j - leave this hunk undecided, see next undecided hunk\n",
    "    J - leave this hunk undecided, see next hunk\n",
    "    k - leave this hunk undecided, see previous undecided hunk\n",
    "    K - leave this hunk undecided, see previous hunk\n",
    "    ? - print help\n",
    "    \n",
    "### SOLO PARA ARHIVOS QUE YA FUERON INCLUIDOS A COMMITS O ESTAN EN EL AREA DE PREPARACION"
   ]
  },
  {
   "cell_type": "markdown",
   "id": "2bab19c8-b3cf-4803-97f1-5394ed52c759",
   "metadata": {},
   "source": [
    "### USAR EL IDE PARA VALIDAR LOS CAMBIOS"
   ]
  },
  {
   "cell_type": "code",
   "execution_count": 44,
   "id": "f5d6e513-1ebd-43c0-8e92-a25ad797080d",
   "metadata": {
    "tags": []
   },
   "outputs": [
    {
     "name": "stdout",
     "output_type": "stream",
     "text": [
      "############################################# COMANDO A EJECUTAR #############################################\n",
      "git add -p info.txt\n",
      "####################################### RESULTADO DE COMANDO EJECUTADO #######################################\n",
      "diff --git a/info.txt b/info.txt\n",
      "index 4af9bc1..1144e22 100644\n",
      "--- a/info.txt\n",
      "+++ b/info.txt\n",
      "@@ -4,3 +4,8 @@ actualizacion 2 fecha 1684028250.736407\n",
      " actualizacion 3 fecha 1684028250.746438 \n",
      " actualizacion 4 fecha 1684028250.75544 \n",
      " actualizacion 5 fecha 1684028250.764407 \n",
      "+PATCH 1 fecha 1684028312.58871 \n",
      "+PATCH 2 fecha 1684028312.598711 \n",
      "+PATCH 3 fecha 1684028312.60671 \n",
      "+PATCH 4 fecha 1684028312.616707 \n",
      "+PATCH 5 fecha 1684028312.625709 \n",
      "(1/1) Stage this hunk [y,n,q,a,d,e,?]? \n",
      "##############################################################################################################\n",
      "\n"
     ]
    }
   ],
   "source": [
    "comando = 'git add -p {archivo}'.format(archivo=archivo)\n",
    "ejecutar_comando_git(comando)"
   ]
  },
  {
   "cell_type": "markdown",
   "id": "ba19da1d-cc4a-481f-b437-031cb10ccd03",
   "metadata": {},
   "source": [
    "#### APARECE TANTO EN ZONA DE PREPARACION (STAGED FOR COMMIT) ASI COMO EN WORKING DIRECTORY (NOT STAGED FOR COMMIT)"
   ]
  },
  {
   "cell_type": "code",
   "execution_count": 45,
   "id": "d264e390-7b30-4894-af74-914955321fc9",
   "metadata": {
    "tags": []
   },
   "outputs": [
    {
     "name": "stdout",
     "output_type": "stream",
     "text": [
      "############################################# COMANDO A EJECUTAR #############################################\n",
      "git status\n",
      "####################################### RESULTADO DE COMANDO EJECUTADO #######################################\n",
      "On branch utils\n",
      "Changes not staged for commit:\n",
      "  (use \"git add <file>...\" to update what will be committed)\n",
      "  (use \"git restore <file>...\" to discard changes in working directory)\n",
      "\tmodified:   info.txt\n",
      "\n",
      "Untracked files:\n",
      "  (use \"git add <file>...\" to include in what will be committed)\n",
      "\t.ipynb_checkpoints/\n",
      "\n",
      "no changes added to commit (use \"git add\" and/or \"git commit -a\")\n",
      "##############################################################################################################\n",
      "\n"
     ]
    }
   ],
   "source": [
    "comando = 'git status'\n",
    "ejecutar_comando_git(comando)"
   ]
  },
  {
   "cell_type": "markdown",
   "id": "53b6ab33-bbf6-4ddf-998f-e06f542cecab",
   "metadata": {},
   "source": [
    "### VALIDACION CON ARCHIVOS NUEVOS QUE NO FUERON PARTE DE COMMITS ANTERIORES O ADICION A STAGING AREA"
   ]
  },
  {
   "cell_type": "code",
   "execution_count": 48,
   "id": "9dabffcb-aca7-497c-8850-adb81398ada2",
   "metadata": {
    "tags": []
   },
   "outputs": [
    {
     "name": "stdout",
     "output_type": "stream",
     "text": [
      "archivo operaciones_matematicas.py copiado con exito a target\n",
      "############################################# COMANDO A EJECUTAR #############################################\n",
      "git add -p operaciones_matematicas.py\n",
      "####################################### RESULTADO DE COMANDO EJECUTADO #######################################\n",
      "##############################################################################################################\n",
      "\n"
     ]
    }
   ],
   "source": [
    "archivo = 'operaciones_matematicas.py'\n",
    "copiar_archivo(nombre_del_repositorio, archivo)\n",
    "comando = 'git add -p {archivo}'.format(archivo=archivo)\n",
    "ejecutar_comando_git(comando)"
   ]
  },
  {
   "cell_type": "markdown",
   "id": "935519e0-6463-46b5-9850-d2bfa95a1ea1",
   "metadata": {},
   "source": [
    "### AGREGAR UN NUEVO ARCHIVO PARA ADICIONARLO PARTE A PARTE CON PARCHE USANDO LA ADICION CON UN EDITOR DE TEXTO"
   ]
  },
  {
   "cell_type": "code",
   "execution_count": 49,
   "id": "b69790bf-920a-4af6-bc20-57b3169aedf1",
   "metadata": {
    "tags": []
   },
   "outputs": [
    {
     "name": "stdout",
     "output_type": "stream",
     "text": [
      "############################################# COMANDO A EJECUTAR #############################################\n",
      "git add -N operaciones_matematicas.py\n",
      "####################################### RESULTADO DE COMANDO EJECUTADO #######################################\n",
      "##############################################################################################################\n",
      "\n"
     ]
    }
   ],
   "source": [
    "comando = 'git add -N {archivo}'.format(archivo=archivo)\n",
    "ejecutar_comando_git(comando)"
   ]
  },
  {
   "cell_type": "markdown",
   "id": "c61bf543-98ed-4b6c-9875-54b84652c047",
   "metadata": {},
   "source": [
    "### LISTO PARA ADICIONAR CODIGO POR TROZOS"
   ]
  },
  {
   "cell_type": "code",
   "execution_count": 50,
   "id": "ffc65f89-94b4-4d23-9387-eefb5db0fd16",
   "metadata": {
    "scrolled": true,
    "tags": []
   },
   "outputs": [
    {
     "name": "stdout",
     "output_type": "stream",
     "text": [
      "############################################# COMANDO A EJECUTAR #############################################\n",
      "git add -p operaciones_matematicas.py\n",
      "####################################### RESULTADO DE COMANDO EJECUTADO #######################################\n",
      "diff --git a/operaciones_matematicas.py b/operaciones_matematicas.py\n",
      "index e69de29..120e0c1 100644\n",
      "--- a/operaciones_matematicas.py\n",
      "+++ b/operaciones_matematicas.py\n",
      "@@ -0,0 +1,64 @@\n",
      "+def suma(x, y):\n",
      "+    \n",
      "+    resultado =  x + y\n",
      "+    print(f'el resultado de la SUMA {x} + {y} es {resultado}')\n",
      "+\n",
      "+def resta(x, y):\n",
      "+    \n",
      "+    resultado =  x - y\n",
      "+    print(f'el resultado de la RESTA  {x} - {y}es {resultado}')\n",
      "+\n",
      "+def multiplicacion(x, y):\n",
      "+    \n",
      "+    resultado =  x * y\n",
      "+    print(f'el resultado de la MULTIPLICACION  {x} * {y} es {resultado}')\n",
      "+\n",
      "+def division_decimal(x, y):\n",
      "+    \n",
      "+    resultado =  x / y\n",
      "+    print(f'el resultado de la DIVISION DECIMAL {x} / {y} es {resultado}')\n",
      "+\n",
      "+def division_entera(x, y):\n",
      "+    \n",
      "+    resultado =  x // y\n",
      "+    print(f'el resultado de la DIVISION ENTERA {x} // {y} es {resultado}')\n",
      "+\n",
      "+def potencia(x, y):\n",
      "+    \n",
      "+    resultado =  x ** y\n",
      "+    print(f'el resultado de la POTENCIA  {x} elevado a {y} es {resultado}')\n",
      "+ \n",
      "+def raiz_cuadrada(x, y):\n",
      "+    import math\n",
      "+    \n",
      "+    resultado =  math.sqrt(abs(x + y))\n",
      "+    print(f'el resultado de la raiz cuadrada del valor absoluto de {x} + {y} es {resultado}')\n",
      "+\n",
      "+def logaritmo(x, y):\n",
      "+    import math\n",
      "+    \n",
      "+    resultado = math.log(abs(x), abs(y))\n",
      "+    print(f'el logaritmo del valor absoluto de {x} en base {y} es {resultado}')\n",
      "+\n",
      "+def piso(x, y):\n",
      "+    import math\n",
      "+    \n",
      "+    resultado = math.floor(x/y)\n",
      "+    print(f'el piso de {x} dividido {y} es {resultado}')\n",
      "+\n",
      "+def techo(x, y):\n",
      "+    import math\n",
      "+    \n",
      "+    resultado = math.ceil(x/y)\n",
      "+    print(f'el techo de {x} dividido {y} es {resultado}')\n",
      "+\n",
      "+def factorial(x, y):\n",
      "+    import math\n",
      "+    \n",
      "+    resultado = math.factorial(abs(x)) + math.factorial(abs(y))\n",
      "+    print(f'la suma del factorial de {x} mas, la suma del factorial de {y} es {resultado}')\n",
      "+\n",
      "+def imaginarios(x, y):\n",
      "+    \n",
      "+    resultado = x * y\n",
      "+    print(f'la multiplicacion del numero imaginario {x} con el numero imaginario {y} es {resultado}')\n",
      "\\ No newline at end of file\n",
      "(1/1) Stage this hunk [y,n,q,a,d,e,?]? \n",
      "##############################################################################################################\n",
      "\n"
     ]
    }
   ],
   "source": [
    "comando = 'git add -p {archivo}'.format(archivo=archivo)\n",
    "ejecutar_comando_git(comando)"
   ]
  },
  {
   "cell_type": "markdown",
   "id": "ac0ab6b9-f26e-4bc3-ad13-090c5052650c",
   "metadata": {},
   "source": [
    "#### APARECE TANTO EN ZONA DE PREPARACION (STAGED FOR COMMIT) ASI COMO EN WORKING DIRECTORY (NOT STAGED FOR COMMIT)"
   ]
  },
  {
   "cell_type": "code",
   "execution_count": 51,
   "id": "843556bb-c014-427f-879c-bb43f4d224a0",
   "metadata": {
    "tags": []
   },
   "outputs": [
    {
     "name": "stdout",
     "output_type": "stream",
     "text": [
      "############################################# COMANDO A EJECUTAR #############################################\n",
      "git status\n",
      "####################################### RESULTADO DE COMANDO EJECUTADO #######################################\n",
      "On branch utils\n",
      "Changes not staged for commit:\n",
      "  (use \"git add <file>...\" to update what will be committed)\n",
      "  (use \"git restore <file>...\" to discard changes in working directory)\n",
      "\tmodified:   info.txt\n",
      "\tnew file:   operaciones_matematicas.py\n",
      "\n",
      "Untracked files:\n",
      "  (use \"git add <file>...\" to include in what will be committed)\n",
      "\t.ipynb_checkpoints/\n",
      "\n",
      "no changes added to commit (use \"git add\" and/or \"git commit -a\")\n",
      "##############################################################################################################\n",
      "\n"
     ]
    }
   ],
   "source": [
    "comando = 'git status'\n",
    "ejecutar_comando_git(comando)"
   ]
  },
  {
   "cell_type": "markdown",
   "id": "8c709076-7bf6-4a8a-b305-8b87dac7b80a",
   "metadata": {},
   "source": [
    "### ADICIONA LOS ARCHIVOS AL STAGE Y HACE LO ALMACENA EN EL REPOSITORIO LOCAL CON UN COMMIT"
   ]
  },
  {
   "cell_type": "code",
   "execution_count": 52,
   "id": "247f7456-19c5-4291-b242-2bad2ee129a2",
   "metadata": {
    "scrolled": true,
    "tags": []
   },
   "outputs": [
    {
     "name": "stdout",
     "output_type": "stream",
     "text": [
      "lista_de_archivos = ['info.txt', 'Dockerfile', 'Manifest.yaml', 'imagen.png', 'main.py', 'connection.java', 'calculos.c', 'addon.php', 'utils.gif', 'query.sql', 'dataset.avro', 'link.vs']\n",
      "############################################# COMANDO A EJECUTAR #############################################\n",
      "echo 1684028658.797413 >> info.txt\n",
      "####################################### RESULTADO DE COMANDO EJECUTADO #######################################\n",
      "##############################################################################################################\n",
      "\n",
      "############################################# COMANDO A EJECUTAR #############################################\n",
      "echo 1684028658.907926 >> Dockerfile\n",
      "####################################### RESULTADO DE COMANDO EJECUTADO #######################################\n",
      "##############################################################################################################\n",
      "\n",
      "############################################# COMANDO A EJECUTAR #############################################\n",
      "echo 1684028659.018085 >> Manifest.yaml\n",
      "####################################### RESULTADO DE COMANDO EJECUTADO #######################################\n",
      "##############################################################################################################\n",
      "\n",
      "############################################# COMANDO A EJECUTAR #############################################\n",
      "echo 1684028659.127689 >> imagen.png\n",
      "####################################### RESULTADO DE COMANDO EJECUTADO #######################################\n",
      "##############################################################################################################\n",
      "\n",
      "############################################# COMANDO A EJECUTAR #############################################\n",
      "echo 1684028659.236661 >> main.py\n",
      "####################################### RESULTADO DE COMANDO EJECUTADO #######################################\n",
      "##############################################################################################################\n",
      "\n",
      "############################################# COMANDO A EJECUTAR #############################################\n",
      "echo 1684028659.345337 >> connection.java\n",
      "####################################### RESULTADO DE COMANDO EJECUTADO #######################################\n",
      "##############################################################################################################\n",
      "\n",
      "############################################# COMANDO A EJECUTAR #############################################\n",
      "echo 1684028659.455252 >> calculos.c\n",
      "####################################### RESULTADO DE COMANDO EJECUTADO #######################################\n",
      "##############################################################################################################\n",
      "\n",
      "############################################# COMANDO A EJECUTAR #############################################\n",
      "echo 1684028659.56507 >> addon.php\n",
      "####################################### RESULTADO DE COMANDO EJECUTADO #######################################\n",
      "##############################################################################################################\n",
      "\n",
      "############################################# COMANDO A EJECUTAR #############################################\n",
      "echo 1684028659.676235 >> utils.gif\n",
      "####################################### RESULTADO DE COMANDO EJECUTADO #######################################\n",
      "##############################################################################################################\n",
      "\n",
      "############################################# COMANDO A EJECUTAR #############################################\n",
      "echo 1684028659.786076 >> query.sql\n",
      "####################################### RESULTADO DE COMANDO EJECUTADO #######################################\n",
      "##############################################################################################################\n",
      "\n",
      "############################################# COMANDO A EJECUTAR #############################################\n",
      "echo 1684028659.895964 >> dataset.avro\n",
      "####################################### RESULTADO DE COMANDO EJECUTADO #######################################\n",
      "##############################################################################################################\n",
      "\n",
      "############################################# COMANDO A EJECUTAR #############################################\n",
      "echo 1684028660.005289 >> link.vs\n",
      "####################################### RESULTADO DE COMANDO EJECUTADO #######################################\n",
      "##############################################################################################################\n",
      "\n",
      "############################################# COMANDO A EJECUTAR #############################################\n",
      "git status\n",
      "####################################### RESULTADO DE COMANDO EJECUTADO #######################################\n",
      "On branch utils\n",
      "Changes not staged for commit:\n",
      "  (use \"git add <file>...\" to update what will be committed)\n",
      "  (use \"git restore <file>...\" to discard changes in working directory)\n",
      "\tmodified:   Manifest.yaml\n",
      "\tmodified:   connection.java\n",
      "\tmodified:   info.txt\n",
      "\tmodified:   main.py\n",
      "\tnew file:   operaciones_matematicas.py\n",
      "\n",
      "Untracked files:\n",
      "  (use \"git add <file>...\" to include in what will be committed)\n",
      "\t.ipynb_checkpoints/\n",
      "\tDockerfile\n",
      "\taddon.php\n",
      "\tcalculos.c\n",
      "\tdataset.avro\n",
      "\timagen.png\n",
      "\tlink.vs\n",
      "\tquery.sql\n",
      "\tutils.gif\n",
      "\n",
      "no changes added to commit (use \"git add\" and/or \"git commit -a\")\n",
      "##############################################################################################################\n",
      "\n",
      "############################################# COMANDO A EJECUTAR #############################################\n",
      "git add .\n",
      "####################################### RESULTADO DE COMANDO EJECUTADO #######################################\n",
      "##############################################################################################################\n",
      "\n",
      "############################################# COMANDO A EJECUTAR #############################################\n",
      "git status\n",
      "####################################### RESULTADO DE COMANDO EJECUTADO #######################################\n",
      "On branch utils\n",
      "Changes to be committed:\n",
      "  (use \"git restore --staged <file>...\" to unstage)\n",
      "\tnew file:   .ipynb_checkpoints/info-checkpoint.txt\n",
      "\tnew file:   .ipynb_checkpoints/operaciones_matematicas-checkpoint.py\n",
      "\tnew file:   Dockerfile\n",
      "\tmodified:   Manifest.yaml\n",
      "\tnew file:   addon.php\n",
      "\tnew file:   calculos.c\n",
      "\tmodified:   connection.java\n",
      "\tnew file:   dataset.avro\n",
      "\tnew file:   imagen.png\n",
      "\tmodified:   info.txt\n",
      "\tnew file:   link.vs\n",
      "\tmodified:   main.py\n",
      "\tnew file:   operaciones_matematicas.py\n",
      "\tnew file:   query.sql\n",
      "\tnew file:   utils.gif\n",
      "\n",
      "##############################################################################################################\n",
      "\n",
      "############################################# COMANDO A EJECUTAR #############################################\n",
      "git commit -m \"adicionados archivos de prueba 2023-05-13 20:44:20.192058\"\n",
      "####################################### RESULTADO DE COMANDO EJECUTADO #######################################\n",
      "[utils 805bd49] adicionados archivos de prueba 2023-05-13 20:44:20.192058\n",
      " 15 files changed, 156 insertions(+)\n",
      " create mode 100644 .ipynb_checkpoints/info-checkpoint.txt\n",
      " create mode 100644 .ipynb_checkpoints/operaciones_matematicas-checkpoint.py\n",
      " create mode 100644 Dockerfile\n",
      " create mode 100644 addon.php\n",
      " create mode 100644 calculos.c\n",
      " create mode 100644 dataset.avro\n",
      " create mode 100644 imagen.png\n",
      " create mode 100644 link.vs\n",
      " create mode 100644 operaciones_matematicas.py\n",
      " create mode 100644 query.sql\n",
      " create mode 100644 utils.gif\n",
      "##############################################################################################################\n",
      "\n",
      "############################################# COMANDO A EJECUTAR #############################################\n",
      "git status\n",
      "####################################### RESULTADO DE COMANDO EJECUTADO #######################################\n",
      "On branch utils\n",
      "nothing to commit, working tree clean\n",
      "##############################################################################################################\n",
      "\n",
      "############################################# COMANDO A EJECUTAR #############################################\n",
      "git log --oneline\n",
      "####################################### RESULTADO DE COMANDO EJECUTADO #######################################\n",
      "805bd49 adicionados archivos de prueba 2023-05-13 20:44:20.192058\n",
      "838403d asunto del commit actualizado\n",
      "4549072 adicionado archivo INFO.txt\n",
      "##############################################################################################################\n",
      "\n",
      "############################################# COMANDO A EJECUTAR #############################################\n",
      "git branch\n",
      "####################################### RESULTADO DE COMANDO EJECUTADO #######################################\n",
      "  main\n",
      "  multi_commits\n",
      "  multi_commits_copia_checkout\n",
      "  multi_commits_copia_switch\n",
      "  nueva_rama_renombrada_checkout\n",
      "  rama_acceso_rapido_checkout_renombrada_checkout\n",
      "  rama_acceso_rapido_switch\n",
      "* utils\n",
      "##############################################################################################################\n",
      "\n"
     ]
    }
   ],
   "source": [
    "generar_archivos()\n",
    "\n",
    "comando = 'git status'\n",
    "ejecutar_comando_git(comando)\n",
    "\n",
    "comando = 'git add .'\n",
    "ejecutar_comando_git(comando)\n",
    "\n",
    "comando = 'git status'\n",
    "ejecutar_comando_git(comando)\n",
    "\n",
    "comando = f'git commit -m \"adicionados archivos de prueba {datetime.now()}\"'\n",
    "ejecutar_comando_git(comando)\n",
    "\n",
    "comando = 'git status'\n",
    "ejecutar_comando_git(comando)\n",
    "\n",
    "comando = 'git log --oneline'\n",
    "ejecutar_comando_git(comando)\n",
    "\n",
    "ejecutar_comando_shell()"
   ]
  },
  {
   "cell_type": "markdown",
   "id": "aa41333e-db96-450e-8ea8-79172fc717c3",
   "metadata": {},
   "source": [
    "### <center> DESHACER UN COMMIT LOCAL\n",
    "### ELIMINA LOS ARCHIVOS DEL LOCAL REPOSITORY Y LOS RETORNA AL STAGING AREA"
   ]
  },
  {
   "cell_type": "code",
   "execution_count": 53,
   "id": "541726b3-fe3a-440b-b55f-e67a5074e32e",
   "metadata": {
    "scrolled": true,
    "tags": []
   },
   "outputs": [
    {
     "name": "stdout",
     "output_type": "stream",
     "text": [
      "lista_de_archivos = ['info.txt', 'Dockerfile', 'Manifest.yaml', 'imagen.png', 'main.py', 'connection.java', 'calculos.c', 'addon.php', 'utils.gif', 'query.sql', 'dataset.avro', 'link.vs']\n",
      "############################################# COMANDO A EJECUTAR #############################################\n",
      "echo 1684028660.525378 >> info.txt\n",
      "####################################### RESULTADO DE COMANDO EJECUTADO #######################################\n",
      "##############################################################################################################\n",
      "\n",
      "############################################# COMANDO A EJECUTAR #############################################\n",
      "echo 1684028660.651091 >> Dockerfile\n",
      "####################################### RESULTADO DE COMANDO EJECUTADO #######################################\n",
      "##############################################################################################################\n",
      "\n",
      "############################################# COMANDO A EJECUTAR #############################################\n",
      "echo 1684028660.775843 >> Manifest.yaml\n",
      "####################################### RESULTADO DE COMANDO EJECUTADO #######################################\n",
      "##############################################################################################################\n",
      "\n",
      "############################################# COMANDO A EJECUTAR #############################################\n",
      "echo 1684028660.887169 >> imagen.png\n",
      "####################################### RESULTADO DE COMANDO EJECUTADO #######################################\n",
      "##############################################################################################################\n",
      "\n",
      "############################################# COMANDO A EJECUTAR #############################################\n",
      "echo 1684028661.01189 >> main.py\n",
      "####################################### RESULTADO DE COMANDO EJECUTADO #######################################\n",
      "##############################################################################################################\n",
      "\n",
      "############################################# COMANDO A EJECUTAR #############################################\n",
      "echo 1684028661.13652 >> connection.java\n",
      "####################################### RESULTADO DE COMANDO EJECUTADO #######################################\n",
      "##############################################################################################################\n",
      "\n",
      "############################################# COMANDO A EJECUTAR #############################################\n",
      "echo 1684028661.246263 >> calculos.c\n",
      "####################################### RESULTADO DE COMANDO EJECUTADO #######################################\n",
      "##############################################################################################################\n",
      "\n",
      "############################################# COMANDO A EJECUTAR #############################################\n",
      "echo 1684028661.355824 >> addon.php\n",
      "####################################### RESULTADO DE COMANDO EJECUTADO #######################################\n",
      "##############################################################################################################\n",
      "\n",
      "############################################# COMANDO A EJECUTAR #############################################\n",
      "echo 1684028661.465515 >> utils.gif\n",
      "####################################### RESULTADO DE COMANDO EJECUTADO #######################################\n",
      "##############################################################################################################\n",
      "\n",
      "############################################# COMANDO A EJECUTAR #############################################\n",
      "echo 1684028661.588727 >> query.sql\n",
      "####################################### RESULTADO DE COMANDO EJECUTADO #######################################\n",
      "##############################################################################################################\n",
      "\n",
      "############################################# COMANDO A EJECUTAR #############################################\n",
      "echo 1684028661.697433 >> dataset.avro\n",
      "####################################### RESULTADO DE COMANDO EJECUTADO #######################################\n",
      "##############################################################################################################\n",
      "\n",
      "############################################# COMANDO A EJECUTAR #############################################\n",
      "echo 1684028661.82011 >> link.vs\n",
      "####################################### RESULTADO DE COMANDO EJECUTADO #######################################\n",
      "##############################################################################################################\n",
      "\n",
      "############################################# COMANDO A EJECUTAR #############################################\n",
      "git status\n",
      "####################################### RESULTADO DE COMANDO EJECUTADO #######################################\n",
      "On branch utils\n",
      "Changes not staged for commit:\n",
      "  (use \"git add <file>...\" to update what will be committed)\n",
      "  (use \"git restore <file>...\" to discard changes in working directory)\n",
      "\tmodified:   Dockerfile\n",
      "\tmodified:   Manifest.yaml\n",
      "\tmodified:   addon.php\n",
      "\tmodified:   calculos.c\n",
      "\tmodified:   connection.java\n",
      "\tmodified:   dataset.avro\n",
      "\tmodified:   imagen.png\n",
      "\tmodified:   info.txt\n",
      "\tmodified:   link.vs\n",
      "\tmodified:   main.py\n",
      "\tmodified:   query.sql\n",
      "\tmodified:   utils.gif\n",
      "\n",
      "no changes added to commit (use \"git add\" and/or \"git commit -a\")\n",
      "##############################################################################################################\n",
      "\n",
      "############################################# COMANDO A EJECUTAR #############################################\n",
      "git add .\n",
      "####################################### RESULTADO DE COMANDO EJECUTADO #######################################\n",
      "##############################################################################################################\n",
      "\n",
      "############################################# COMANDO A EJECUTAR #############################################\n",
      "git status\n",
      "####################################### RESULTADO DE COMANDO EJECUTADO #######################################\n",
      "On branch utils\n",
      "Changes to be committed:\n",
      "  (use \"git restore --staged <file>...\" to unstage)\n",
      "\tmodified:   Dockerfile\n",
      "\tmodified:   Manifest.yaml\n",
      "\tmodified:   addon.php\n",
      "\tmodified:   calculos.c\n",
      "\tmodified:   connection.java\n",
      "\tmodified:   dataset.avro\n",
      "\tmodified:   imagen.png\n",
      "\tmodified:   info.txt\n",
      "\tmodified:   link.vs\n",
      "\tmodified:   main.py\n",
      "\tmodified:   query.sql\n",
      "\tmodified:   utils.gif\n",
      "\n",
      "##############################################################################################################\n",
      "\n",
      "############################################# COMANDO A EJECUTAR #############################################\n",
      "git commit -m \"PRUEBA de COMMIT numero 1 con fecha 1684028662.119165 y valor aleatorio 3438699 y contiene el archivo calculos.c\"\n",
      "####################################### RESULTADO DE COMANDO EJECUTADO #######################################\n",
      "[utils cba19af] PRUEBA de COMMIT numero 1 con fecha 1684028662.119165 y valor aleatorio 3438699 y contiene el archivo calculos.c\n",
      " 12 files changed, 12 insertions(+)\n",
      "##############################################################################################################\n",
      "\n",
      "############################################# COMANDO A EJECUTAR #############################################\n",
      "git commit --amend --no-edit --author=cienciagoku@gmail.com\n",
      "####################################### RESULTADO DE COMANDO EJECUTADO #######################################\n",
      "[utils 9134f53] PRUEBA de COMMIT numero 1 con fecha 1684028662.119165 y valor aleatorio 3438699 y contiene el archivo calculos.c\n",
      " Author: QiDimMak <cienciagoku@gmail.com>\n",
      " Date: Sat May 13 20:44:22 2023 -0500\n",
      " 12 files changed, 12 insertions(+)\n",
      "##############################################################################################################\n",
      "\n",
      "lista_de_archivos = ['info.txt', 'Dockerfile', 'Manifest.yaml', 'imagen.png', 'main.py', 'connection.java', 'calculos.c', 'addon.php', 'utils.gif', 'query.sql', 'dataset.avro', 'link.vs']\n",
      "############################################# COMANDO A EJECUTAR #############################################\n",
      "echo 1684028662.387934 >> info.txt\n",
      "####################################### RESULTADO DE COMANDO EJECUTADO #######################################\n",
      "##############################################################################################################\n",
      "\n",
      "############################################# COMANDO A EJECUTAR #############################################\n",
      "echo 1684028662.512847 >> Dockerfile\n",
      "####################################### RESULTADO DE COMANDO EJECUTADO #######################################\n",
      "##############################################################################################################\n",
      "\n",
      "############################################# COMANDO A EJECUTAR #############################################\n",
      "echo 1684028662.62247 >> Manifest.yaml\n",
      "####################################### RESULTADO DE COMANDO EJECUTADO #######################################\n",
      "##############################################################################################################\n",
      "\n",
      "############################################# COMANDO A EJECUTAR #############################################\n",
      "echo 1684028662.731502 >> imagen.png\n",
      "####################################### RESULTADO DE COMANDO EJECUTADO #######################################\n",
      "##############################################################################################################\n",
      "\n",
      "############################################# COMANDO A EJECUTAR #############################################\n",
      "echo 1684028662.842813 >> main.py\n",
      "####################################### RESULTADO DE COMANDO EJECUTADO #######################################\n",
      "##############################################################################################################\n",
      "\n",
      "############################################# COMANDO A EJECUTAR #############################################\n",
      "echo 1684028662.966396 >> connection.java\n",
      "####################################### RESULTADO DE COMANDO EJECUTADO #######################################\n",
      "##############################################################################################################\n",
      "\n",
      "############################################# COMANDO A EJECUTAR #############################################\n",
      "echo 1684028663.075905 >> calculos.c\n",
      "####################################### RESULTADO DE COMANDO EJECUTADO #######################################\n",
      "##############################################################################################################\n",
      "\n",
      "############################################# COMANDO A EJECUTAR #############################################\n",
      "echo 1684028663.185141 >> addon.php\n",
      "####################################### RESULTADO DE COMANDO EJECUTADO #######################################\n",
      "##############################################################################################################\n",
      "\n",
      "############################################# COMANDO A EJECUTAR #############################################\n",
      "echo 1684028663.294951 >> utils.gif\n",
      "####################################### RESULTADO DE COMANDO EJECUTADO #######################################\n",
      "##############################################################################################################\n",
      "\n",
      "############################################# COMANDO A EJECUTAR #############################################\n",
      "echo 1684028663.404437 >> query.sql\n",
      "####################################### RESULTADO DE COMANDO EJECUTADO #######################################\n",
      "##############################################################################################################\n",
      "\n",
      "############################################# COMANDO A EJECUTAR #############################################\n",
      "echo 1684028663.513961 >> dataset.avro\n",
      "####################################### RESULTADO DE COMANDO EJECUTADO #######################################\n",
      "##############################################################################################################\n",
      "\n",
      "############################################# COMANDO A EJECUTAR #############################################\n",
      "echo 1684028663.6243 >> link.vs\n",
      "####################################### RESULTADO DE COMANDO EJECUTADO #######################################\n",
      "##############################################################################################################\n",
      "\n",
      "############################################# COMANDO A EJECUTAR #############################################\n",
      "git status\n",
      "####################################### RESULTADO DE COMANDO EJECUTADO #######################################\n",
      "On branch utils\n",
      "Changes not staged for commit:\n",
      "  (use \"git add <file>...\" to update what will be committed)\n",
      "  (use \"git restore <file>...\" to discard changes in working directory)\n",
      "\tmodified:   Dockerfile\n",
      "\tmodified:   Manifest.yaml\n",
      "\tmodified:   addon.php\n",
      "\tmodified:   calculos.c\n",
      "\tmodified:   connection.java\n",
      "\tmodified:   dataset.avro\n",
      "\tmodified:   imagen.png\n",
      "\tmodified:   info.txt\n",
      "\tmodified:   link.vs\n",
      "\tmodified:   main.py\n",
      "\tmodified:   query.sql\n",
      "\tmodified:   utils.gif\n",
      "\n",
      "no changes added to commit (use \"git add\" and/or \"git commit -a\")\n",
      "##############################################################################################################\n",
      "\n",
      "############################################# COMANDO A EJECUTAR #############################################\n",
      "git add .\n",
      "####################################### RESULTADO DE COMANDO EJECUTADO #######################################\n",
      "##############################################################################################################\n",
      "\n",
      "############################################# COMANDO A EJECUTAR #############################################\n",
      "git status\n",
      "####################################### RESULTADO DE COMANDO EJECUTADO #######################################\n",
      "On branch utils\n",
      "Changes to be committed:\n",
      "  (use \"git restore --staged <file>...\" to unstage)\n",
      "\tmodified:   Dockerfile\n",
      "\tmodified:   Manifest.yaml\n",
      "\tmodified:   addon.php\n",
      "\tmodified:   calculos.c\n",
      "\tmodified:   connection.java\n",
      "\tmodified:   dataset.avro\n",
      "\tmodified:   imagen.png\n",
      "\tmodified:   info.txt\n",
      "\tmodified:   link.vs\n",
      "\tmodified:   main.py\n",
      "\tmodified:   query.sql\n",
      "\tmodified:   utils.gif\n",
      "\n",
      "##############################################################################################################\n",
      "\n",
      "############################################# COMANDO A EJECUTAR #############################################\n",
      "git commit -m \"PRUEBA de COMMIT numero 2 con fecha 1684028663.985601 y valor aleatorio 4864654 y contiene el archivo link.vs\"\n",
      "####################################### RESULTADO DE COMANDO EJECUTADO #######################################\n",
      "[utils b479c17] PRUEBA de COMMIT numero 2 con fecha 1684028663.985601 y valor aleatorio 4864654 y contiene el archivo link.vs\n",
      " 12 files changed, 12 insertions(+)\n",
      "##############################################################################################################\n",
      "\n",
      "lista_de_archivos = ['info.txt', 'Dockerfile', 'Manifest.yaml', 'imagen.png', 'main.py', 'connection.java', 'calculos.c', 'addon.php', 'utils.gif', 'query.sql', 'dataset.avro', 'link.vs']\n",
      "############################################# COMANDO A EJECUTAR #############################################\n",
      "echo 1684028664.173418 >> info.txt\n",
      "####################################### RESULTADO DE COMANDO EJECUTADO #######################################\n",
      "##############################################################################################################\n",
      "\n",
      "############################################# COMANDO A EJECUTAR #############################################\n",
      "echo 1684028664.284983 >> Dockerfile\n",
      "####################################### RESULTADO DE COMANDO EJECUTADO #######################################\n",
      "##############################################################################################################\n",
      "\n",
      "############################################# COMANDO A EJECUTAR #############################################\n",
      "echo 1684028664.409715 >> Manifest.yaml\n",
      "####################################### RESULTADO DE COMANDO EJECUTADO #######################################\n",
      "##############################################################################################################\n",
      "\n",
      "############################################# COMANDO A EJECUTAR #############################################\n",
      "echo 1684028664.520624 >> imagen.png\n",
      "####################################### RESULTADO DE COMANDO EJECUTADO #######################################\n",
      "##############################################################################################################\n",
      "\n",
      "############################################# COMANDO A EJECUTAR #############################################\n",
      "echo 1684028664.644143 >> main.py\n",
      "####################################### RESULTADO DE COMANDO EJECUTADO #######################################\n",
      "##############################################################################################################\n",
      "\n",
      "############################################# COMANDO A EJECUTAR #############################################\n",
      "echo 1684028664.753983 >> connection.java\n",
      "####################################### RESULTADO DE COMANDO EJECUTADO #######################################\n",
      "##############################################################################################################\n",
      "\n",
      "############################################# COMANDO A EJECUTAR #############################################\n",
      "echo 1684028664.863363 >> calculos.c\n",
      "####################################### RESULTADO DE COMANDO EJECUTADO #######################################\n",
      "##############################################################################################################\n",
      "\n",
      "############################################# COMANDO A EJECUTAR #############################################\n",
      "echo 1684028664.973869 >> addon.php\n",
      "####################################### RESULTADO DE COMANDO EJECUTADO #######################################\n",
      "##############################################################################################################\n",
      "\n",
      "############################################# COMANDO A EJECUTAR #############################################\n",
      "echo 1684028665.083884 >> utils.gif\n",
      "####################################### RESULTADO DE COMANDO EJECUTADO #######################################\n",
      "##############################################################################################################\n",
      "\n",
      "############################################# COMANDO A EJECUTAR #############################################\n",
      "echo 1684028665.199735 >> query.sql\n",
      "####################################### RESULTADO DE COMANDO EJECUTADO #######################################\n",
      "##############################################################################################################\n",
      "\n",
      "############################################# COMANDO A EJECUTAR #############################################\n",
      "echo 1684028665.307929 >> dataset.avro\n",
      "####################################### RESULTADO DE COMANDO EJECUTADO #######################################\n",
      "##############################################################################################################\n",
      "\n",
      "############################################# COMANDO A EJECUTAR #############################################\n",
      "echo 1684028665.416692 >> link.vs\n",
      "####################################### RESULTADO DE COMANDO EJECUTADO #######################################\n",
      "##############################################################################################################\n",
      "\n",
      "############################################# COMANDO A EJECUTAR #############################################\n",
      "git status\n",
      "####################################### RESULTADO DE COMANDO EJECUTADO #######################################\n",
      "On branch utils\n",
      "Changes not staged for commit:\n",
      "  (use \"git add <file>...\" to update what will be committed)\n",
      "  (use \"git restore <file>...\" to discard changes in working directory)\n",
      "\tmodified:   Dockerfile\n",
      "\tmodified:   Manifest.yaml\n",
      "\tmodified:   addon.php\n",
      "\tmodified:   calculos.c\n",
      "\tmodified:   connection.java\n",
      "\tmodified:   dataset.avro\n",
      "\tmodified:   imagen.png\n",
      "\tmodified:   info.txt\n",
      "\tmodified:   link.vs\n",
      "\tmodified:   main.py\n",
      "\tmodified:   query.sql\n",
      "\tmodified:   utils.gif\n",
      "\n",
      "no changes added to commit (use \"git add\" and/or \"git commit -a\")\n",
      "##############################################################################################################\n",
      "\n",
      "############################################# COMANDO A EJECUTAR #############################################\n",
      "git add .\n",
      "####################################### RESULTADO DE COMANDO EJECUTADO #######################################\n",
      "##############################################################################################################\n",
      "\n",
      "############################################# COMANDO A EJECUTAR #############################################\n",
      "git status\n",
      "####################################### RESULTADO DE COMANDO EJECUTADO #######################################\n",
      "On branch utils\n",
      "Changes to be committed:\n",
      "  (use \"git restore --staged <file>...\" to unstage)\n",
      "\tmodified:   Dockerfile\n",
      "\tmodified:   Manifest.yaml\n",
      "\tmodified:   addon.php\n",
      "\tmodified:   calculos.c\n",
      "\tmodified:   connection.java\n",
      "\tmodified:   dataset.avro\n",
      "\tmodified:   imagen.png\n",
      "\tmodified:   info.txt\n",
      "\tmodified:   link.vs\n",
      "\tmodified:   main.py\n",
      "\tmodified:   query.sql\n",
      "\tmodified:   utils.gif\n",
      "\n",
      "##############################################################################################################\n",
      "\n",
      "############################################# COMANDO A EJECUTAR #############################################\n",
      "git commit -m \"PRUEBA de COMMIT numero 3 con fecha 1684028665.716064 y valor aleatorio 6638323 y contiene el archivo utils.gif\"\n",
      "####################################### RESULTADO DE COMANDO EJECUTADO #######################################\n",
      "[utils 758c9e5] PRUEBA de COMMIT numero 3 con fecha 1684028665.716064 y valor aleatorio 6638323 y contiene el archivo utils.gif\n",
      " 12 files changed, 12 insertions(+)\n",
      "##############################################################################################################\n",
      "\n",
      "############################################# COMANDO A EJECUTAR #############################################\n",
      "git commit --amend --no-edit --author=cienciagoku@gmail.com\n",
      "####################################### RESULTADO DE COMANDO EJECUTADO #######################################\n",
      "[utils c32c39b] PRUEBA de COMMIT numero 3 con fecha 1684028665.716064 y valor aleatorio 6638323 y contiene el archivo utils.gif\n",
      " Author: QiDimMak <cienciagoku@gmail.com>\n",
      " Date: Sat May 13 20:44:25 2023 -0500\n",
      " 12 files changed, 12 insertions(+)\n",
      "##############################################################################################################\n",
      "\n",
      "lista_de_archivos = ['info.txt', 'Dockerfile', 'Manifest.yaml', 'imagen.png', 'main.py', 'connection.java', 'calculos.c', 'addon.php', 'utils.gif', 'query.sql', 'dataset.avro', 'link.vs']\n",
      "############################################# COMANDO A EJECUTAR #############################################\n",
      "echo 1684028665.983347 >> info.txt\n",
      "####################################### RESULTADO DE COMANDO EJECUTADO #######################################\n",
      "##############################################################################################################\n",
      "\n",
      "############################################# COMANDO A EJECUTAR #############################################\n",
      "echo 1684028666.093437 >> Dockerfile\n",
      "####################################### RESULTADO DE COMANDO EJECUTADO #######################################\n",
      "##############################################################################################################\n",
      "\n",
      "############################################# COMANDO A EJECUTAR #############################################\n",
      "echo 1684028666.202092 >> Manifest.yaml\n",
      "####################################### RESULTADO DE COMANDO EJECUTADO #######################################\n",
      "##############################################################################################################\n",
      "\n",
      "############################################# COMANDO A EJECUTAR #############################################\n",
      "echo 1684028666.311599 >> imagen.png\n",
      "####################################### RESULTADO DE COMANDO EJECUTADO #######################################\n",
      "##############################################################################################################\n",
      "\n",
      "############################################# COMANDO A EJECUTAR #############################################\n",
      "echo 1684028666.420247 >> main.py\n",
      "####################################### RESULTADO DE COMANDO EJECUTADO #######################################\n",
      "##############################################################################################################\n",
      "\n",
      "############################################# COMANDO A EJECUTAR #############################################\n",
      "echo 1684028666.53121 >> connection.java\n",
      "####################################### RESULTADO DE COMANDO EJECUTADO #######################################\n",
      "##############################################################################################################\n",
      "\n",
      "############################################# COMANDO A EJECUTAR #############################################\n",
      "echo 1684028666.655051 >> calculos.c\n",
      "####################################### RESULTADO DE COMANDO EJECUTADO #######################################\n",
      "##############################################################################################################\n",
      "\n",
      "############################################# COMANDO A EJECUTAR #############################################\n",
      "echo 1684028666.779139 >> addon.php\n",
      "####################################### RESULTADO DE COMANDO EJECUTADO #######################################\n",
      "##############################################################################################################\n",
      "\n",
      "############################################# COMANDO A EJECUTAR #############################################\n",
      "echo 1684028666.889044 >> utils.gif\n",
      "####################################### RESULTADO DE COMANDO EJECUTADO #######################################\n",
      "##############################################################################################################\n",
      "\n",
      "############################################# COMANDO A EJECUTAR #############################################\n",
      "echo 1684028666.998076 >> query.sql\n",
      "####################################### RESULTADO DE COMANDO EJECUTADO #######################################\n",
      "##############################################################################################################\n",
      "\n",
      "############################################# COMANDO A EJECUTAR #############################################\n",
      "echo 1684028667.108284 >> dataset.avro\n",
      "####################################### RESULTADO DE COMANDO EJECUTADO #######################################\n",
      "##############################################################################################################\n",
      "\n",
      "############################################# COMANDO A EJECUTAR #############################################\n",
      "echo 1684028667.217549 >> link.vs\n",
      "####################################### RESULTADO DE COMANDO EJECUTADO #######################################\n",
      "##############################################################################################################\n",
      "\n",
      "############################################# COMANDO A EJECUTAR #############################################\n",
      "git status\n",
      "####################################### RESULTADO DE COMANDO EJECUTADO #######################################\n",
      "On branch utils\n",
      "Changes not staged for commit:\n",
      "  (use \"git add <file>...\" to update what will be committed)\n",
      "  (use \"git restore <file>...\" to discard changes in working directory)\n",
      "\tmodified:   Dockerfile\n",
      "\tmodified:   Manifest.yaml\n",
      "\tmodified:   addon.php\n",
      "\tmodified:   calculos.c\n",
      "\tmodified:   connection.java\n",
      "\tmodified:   dataset.avro\n",
      "\tmodified:   imagen.png\n",
      "\tmodified:   info.txt\n",
      "\tmodified:   link.vs\n",
      "\tmodified:   main.py\n",
      "\tmodified:   query.sql\n",
      "\tmodified:   utils.gif\n",
      "\n",
      "no changes added to commit (use \"git add\" and/or \"git commit -a\")\n",
      "##############################################################################################################\n",
      "\n",
      "############################################# COMANDO A EJECUTAR #############################################\n",
      "git add .\n",
      "####################################### RESULTADO DE COMANDO EJECUTADO #######################################\n",
      "##############################################################################################################\n",
      "\n",
      "############################################# COMANDO A EJECUTAR #############################################\n",
      "git status\n",
      "####################################### RESULTADO DE COMANDO EJECUTADO #######################################\n",
      "On branch utils\n",
      "Changes to be committed:\n",
      "  (use \"git restore --staged <file>...\" to unstage)\n",
      "\tmodified:   Dockerfile\n",
      "\tmodified:   Manifest.yaml\n",
      "\tmodified:   addon.php\n",
      "\tmodified:   calculos.c\n",
      "\tmodified:   connection.java\n",
      "\tmodified:   dataset.avro\n",
      "\tmodified:   imagen.png\n",
      "\tmodified:   info.txt\n",
      "\tmodified:   link.vs\n",
      "\tmodified:   main.py\n",
      "\tmodified:   query.sql\n",
      "\tmodified:   utils.gif\n",
      "\n",
      "##############################################################################################################\n",
      "\n",
      "############################################# COMANDO A EJECUTAR #############################################\n",
      "git commit -m \"PRUEBA de COMMIT numero 4 con fecha 1684028667.51679 y valor aleatorio 1329391 y contiene el archivo Manifest.yaml\"\n",
      "####################################### RESULTADO DE COMANDO EJECUTADO #######################################\n",
      "[utils e23166a] PRUEBA de COMMIT numero 4 con fecha 1684028667.51679 y valor aleatorio 1329391 y contiene el archivo Manifest.yaml\n",
      " 12 files changed, 12 insertions(+)\n",
      "##############################################################################################################\n",
      "\n",
      "lista_de_archivos = ['info.txt', 'Dockerfile', 'Manifest.yaml', 'imagen.png', 'main.py', 'connection.java', 'calculos.c', 'addon.php', 'utils.gif', 'query.sql', 'dataset.avro', 'link.vs']\n",
      "############################################# COMANDO A EJECUTAR #############################################\n",
      "echo 1684028667.703893 >> info.txt\n",
      "####################################### RESULTADO DE COMANDO EJECUTADO #######################################\n",
      "##############################################################################################################\n",
      "\n",
      "############################################# COMANDO A EJECUTAR #############################################\n",
      "echo 1684028667.813149 >> Dockerfile\n",
      "####################################### RESULTADO DE COMANDO EJECUTADO #######################################\n",
      "##############################################################################################################\n",
      "\n",
      "############################################# COMANDO A EJECUTAR #############################################\n",
      "echo 1684028667.923734 >> Manifest.yaml\n",
      "####################################### RESULTADO DE COMANDO EJECUTADO #######################################\n",
      "##############################################################################################################\n",
      "\n",
      "############################################# COMANDO A EJECUTAR #############################################\n",
      "echo 1684028668.033558 >> imagen.png\n",
      "####################################### RESULTADO DE COMANDO EJECUTADO #######################################\n",
      "##############################################################################################################\n",
      "\n",
      "############################################# COMANDO A EJECUTAR #############################################\n",
      "echo 1684028668.145723 >> main.py\n",
      "####################################### RESULTADO DE COMANDO EJECUTADO #######################################\n",
      "##############################################################################################################\n",
      "\n",
      "############################################# COMANDO A EJECUTAR #############################################\n",
      "echo 1684028668.255451 >> connection.java\n",
      "####################################### RESULTADO DE COMANDO EJECUTADO #######################################\n",
      "##############################################################################################################\n",
      "\n",
      "############################################# COMANDO A EJECUTAR #############################################\n",
      "echo 1684028668.365108 >> calculos.c\n",
      "####################################### RESULTADO DE COMANDO EJECUTADO #######################################\n",
      "##############################################################################################################\n",
      "\n",
      "############################################# COMANDO A EJECUTAR #############################################\n",
      "echo 1684028668.473826 >> addon.php\n",
      "####################################### RESULTADO DE COMANDO EJECUTADO #######################################\n",
      "##############################################################################################################\n",
      "\n",
      "############################################# COMANDO A EJECUTAR #############################################\n",
      "echo 1684028668.583044 >> utils.gif\n",
      "####################################### RESULTADO DE COMANDO EJECUTADO #######################################\n",
      "##############################################################################################################\n",
      "\n",
      "############################################# COMANDO A EJECUTAR #############################################\n",
      "echo 1684028668.691091 >> query.sql\n",
      "####################################### RESULTADO DE COMANDO EJECUTADO #######################################\n",
      "##############################################################################################################\n",
      "\n",
      "############################################# COMANDO A EJECUTAR #############################################\n",
      "echo 1684028668.799434 >> dataset.avro\n",
      "####################################### RESULTADO DE COMANDO EJECUTADO #######################################\n",
      "##############################################################################################################\n",
      "\n",
      "############################################# COMANDO A EJECUTAR #############################################\n",
      "echo 1684028668.910858 >> link.vs\n",
      "####################################### RESULTADO DE COMANDO EJECUTADO #######################################\n",
      "##############################################################################################################\n",
      "\n",
      "############################################# COMANDO A EJECUTAR #############################################\n",
      "git status\n",
      "####################################### RESULTADO DE COMANDO EJECUTADO #######################################\n",
      "On branch utils\n",
      "Changes not staged for commit:\n",
      "  (use \"git add <file>...\" to update what will be committed)\n",
      "  (use \"git restore <file>...\" to discard changes in working directory)\n",
      "\tmodified:   Dockerfile\n",
      "\tmodified:   Manifest.yaml\n",
      "\tmodified:   addon.php\n",
      "\tmodified:   calculos.c\n",
      "\tmodified:   connection.java\n",
      "\tmodified:   dataset.avro\n",
      "\tmodified:   imagen.png\n",
      "\tmodified:   info.txt\n",
      "\tmodified:   link.vs\n",
      "\tmodified:   main.py\n",
      "\tmodified:   query.sql\n",
      "\tmodified:   utils.gif\n",
      "\n",
      "no changes added to commit (use \"git add\" and/or \"git commit -a\")\n",
      "##############################################################################################################\n",
      "\n",
      "############################################# COMANDO A EJECUTAR #############################################\n",
      "git add .\n",
      "####################################### RESULTADO DE COMANDO EJECUTADO #######################################\n",
      "##############################################################################################################\n",
      "\n",
      "############################################# COMANDO A EJECUTAR #############################################\n",
      "git status\n",
      "####################################### RESULTADO DE COMANDO EJECUTADO #######################################\n",
      "On branch utils\n",
      "Changes to be committed:\n",
      "  (use \"git restore --staged <file>...\" to unstage)\n",
      "\tmodified:   Dockerfile\n",
      "\tmodified:   Manifest.yaml\n",
      "\tmodified:   addon.php\n",
      "\tmodified:   calculos.c\n",
      "\tmodified:   connection.java\n",
      "\tmodified:   dataset.avro\n",
      "\tmodified:   imagen.png\n",
      "\tmodified:   info.txt\n",
      "\tmodified:   link.vs\n",
      "\tmodified:   main.py\n",
      "\tmodified:   query.sql\n",
      "\tmodified:   utils.gif\n",
      "\n",
      "##############################################################################################################\n",
      "\n",
      "############################################# COMANDO A EJECUTAR #############################################\n",
      "git commit -m \"PRUEBA de COMMIT numero 5 con fecha 1684028669.20744 y valor aleatorio 335024 y contiene el archivo addon.php\"\n",
      "####################################### RESULTADO DE COMANDO EJECUTADO #######################################\n",
      "[utils c7f3d05] PRUEBA de COMMIT numero 5 con fecha 1684028669.20744 y valor aleatorio 335024 y contiene el archivo addon.php\n",
      " 12 files changed, 12 insertions(+)\n",
      "##############################################################################################################\n",
      "\n",
      "############################################# COMANDO A EJECUTAR #############################################\n",
      "git commit --amend --no-edit --author=cienciagoku@gmail.com\n",
      "####################################### RESULTADO DE COMANDO EJECUTADO #######################################\n",
      "[utils 4d3d127] PRUEBA de COMMIT numero 5 con fecha 1684028669.20744 y valor aleatorio 335024 y contiene el archivo addon.php\n",
      " Author: QiDimMak <cienciagoku@gmail.com>\n",
      " Date: Sat May 13 20:44:29 2023 -0500\n",
      " 12 files changed, 12 insertions(+)\n",
      "##############################################################################################################\n",
      "\n",
      "############################################# COMANDO A EJECUTAR #############################################\n",
      "git log --oneline\n",
      "####################################### RESULTADO DE COMANDO EJECUTADO #######################################\n",
      "4d3d127 PRUEBA de COMMIT numero 5 con fecha 1684028669.20744 y valor aleatorio 335024 y contiene el archivo addon.php\n",
      "e23166a PRUEBA de COMMIT numero 4 con fecha 1684028667.51679 y valor aleatorio 1329391 y contiene el archivo Manifest.yaml\n",
      "c32c39b PRUEBA de COMMIT numero 3 con fecha 1684028665.716064 y valor aleatorio 6638323 y contiene el archivo utils.gif\n",
      "b479c17 PRUEBA de COMMIT numero 2 con fecha 1684028663.985601 y valor aleatorio 4864654 y contiene el archivo link.vs\n",
      "9134f53 PRUEBA de COMMIT numero 1 con fecha 1684028662.119165 y valor aleatorio 3438699 y contiene el archivo calculos.c\n",
      "805bd49 adicionados archivos de prueba 2023-05-13 20:44:20.192058\n",
      "838403d asunto del commit actualizado\n",
      "4549072 adicionado archivo INFO.txt\n",
      "##############################################################################################################\n",
      "\n",
      "############################################# COMANDO A EJECUTAR #############################################\n",
      "git status\n",
      "####################################### RESULTADO DE COMANDO EJECUTADO #######################################\n",
      "On branch utils\n",
      "nothing to commit, working tree clean\n",
      "##############################################################################################################\n",
      "\n",
      "############################################# COMANDO A EJECUTAR #############################################\n",
      "git branch\n",
      "####################################### RESULTADO DE COMANDO EJECUTADO #######################################\n",
      "  main\n",
      "  multi_commits\n",
      "  multi_commits_copia_checkout\n",
      "  multi_commits_copia_switch\n",
      "  nueva_rama_renombrada_checkout\n",
      "  rama_acceso_rapido_checkout_renombrada_checkout\n",
      "  rama_acceso_rapido_switch\n",
      "* utils\n",
      "##############################################################################################################\n",
      "\n"
     ]
    }
   ],
   "source": [
    "crear_commits(total_commits=5)\n",
    "ejecutar_comando_shell()"
   ]
  },
  {
   "cell_type": "markdown",
   "id": "20b71678-7805-4bf4-9b12-6f9587e5e2b3",
   "metadata": {},
   "source": [
    "### ADICIONAR EL HASH DEL COMMIT AL QUE SE QUIERE VOLVER"
   ]
  },
  {
   "cell_type": "code",
   "execution_count": 54,
   "id": "268504c1-0fdc-4560-95f5-5f57d310ed5f",
   "metadata": {
    "scrolled": true,
    "tags": []
   },
   "outputs": [
    {
     "name": "stdout",
     "output_type": "stream",
     "text": [
      "############################################# COMANDO A EJECUTAR #############################################\n",
      "git reset 9dde2f6\n",
      "&&&&&&&&&&&&&&&&&&&&&&&&&&&&&&&&&&&&& SE HA GENERADO UNA EXCEPCION &&&&&&&&&&&&&&&&&&&&&&&&&&&&&&&&&&&&&&&\n",
      "EL COMANDO git reset 9dde2f6 NO SE PUDO EJECUTAR\n",
      "&&&&&&&&&&&&&&&&&&&&&&&&&&&&&&&&&&&&& FINAL DE EXCEPCION GENERADA &&&&&&&&&&&&&&&&&&&&&&&&&&&&&&&&&&&&&&&&\n",
      "############################################# COMANDO A EJECUTAR #############################################\n",
      "git status\n",
      "####################################### RESULTADO DE COMANDO EJECUTADO #######################################\n",
      "On branch utils\n",
      "nothing to commit, working tree clean\n",
      "##############################################################################################################\n",
      "\n",
      "############################################# COMANDO A EJECUTAR #############################################\n",
      "git log --oneline\n",
      "####################################### RESULTADO DE COMANDO EJECUTADO #######################################\n",
      "4d3d127 PRUEBA de COMMIT numero 5 con fecha 1684028669.20744 y valor aleatorio 335024 y contiene el archivo addon.php\n",
      "e23166a PRUEBA de COMMIT numero 4 con fecha 1684028667.51679 y valor aleatorio 1329391 y contiene el archivo Manifest.yaml\n",
      "c32c39b PRUEBA de COMMIT numero 3 con fecha 1684028665.716064 y valor aleatorio 6638323 y contiene el archivo utils.gif\n",
      "b479c17 PRUEBA de COMMIT numero 2 con fecha 1684028663.985601 y valor aleatorio 4864654 y contiene el archivo link.vs\n",
      "9134f53 PRUEBA de COMMIT numero 1 con fecha 1684028662.119165 y valor aleatorio 3438699 y contiene el archivo calculos.c\n",
      "805bd49 adicionados archivos de prueba 2023-05-13 20:44:20.192058\n",
      "838403d asunto del commit actualizado\n",
      "4549072 adicionado archivo INFO.txt\n",
      "##############################################################################################################\n",
      "\n"
     ]
    }
   ],
   "source": [
    "# define el commit al que se quiere regresar\n",
    "commit_id = '9dde2f6' # 9dde2f6\n",
    "\n",
    "comando = 'git reset {commit_id}'.format(commit_id=commit_id)\n",
    "ejecutar_comando_git(comando)\n",
    "\n",
    "comando = 'git status'\n",
    "ejecutar_comando_git(comando)\n",
    "\n",
    "comando = 'git log --oneline'\n",
    "ejecutar_comando_git(comando)"
   ]
  },
  {
   "cell_type": "markdown",
   "id": "c0e39a30-3a87-4d0f-83e2-65ea43829c4e",
   "metadata": {},
   "source": [
    "# ELIMINA LOS ARCHIVOS"
   ]
  },
  {
   "cell_type": "markdown",
   "id": "a68c2d78-7f10-4e75-acbb-40ff80767815",
   "metadata": {},
   "source": [
    "### LOS ELIMINA DEL STAGE"
   ]
  },
  {
   "cell_type": "code",
   "execution_count": 55,
   "id": "0f8cb4dc-df17-48fe-af99-3f3d46f93f09",
   "metadata": {
    "scrolled": true,
    "tags": []
   },
   "outputs": [
    {
     "name": "stdout",
     "output_type": "stream",
     "text": [
      "############################################# COMANDO A EJECUTAR #############################################\n",
      "git rm --cached \"*\"\n",
      "####################################### RESULTADO DE COMANDO EJECUTADO #######################################\n",
      "rm '.ipynb_checkpoints/info-checkpoint.txt'\n",
      "rm '.ipynb_checkpoints/operaciones_matematicas-checkpoint.py'\n",
      "rm 'Dockerfile'\n",
      "rm 'Manifest.yaml'\n",
      "rm 'addon.php'\n",
      "rm 'calculos.c'\n",
      "rm 'connection.java'\n",
      "rm 'dataset.avro'\n",
      "rm 'imagen.png'\n",
      "rm 'info.txt'\n",
      "rm 'link.vs'\n",
      "rm 'main.py'\n",
      "rm 'operaciones_matematicas.py'\n",
      "rm 'query.sql'\n",
      "rm 'utils.gif'\n",
      "##############################################################################################################\n",
      "\n",
      "############################################# COMANDO A EJECUTAR #############################################\n",
      "git status\n",
      "####################################### RESULTADO DE COMANDO EJECUTADO #######################################\n",
      "On branch utils\n",
      "Changes to be committed:\n",
      "  (use \"git restore --staged <file>...\" to unstage)\n",
      "\tdeleted:    .ipynb_checkpoints/info-checkpoint.txt\n",
      "\tdeleted:    .ipynb_checkpoints/operaciones_matematicas-checkpoint.py\n",
      "\tdeleted:    Dockerfile\n",
      "\tdeleted:    Manifest.yaml\n",
      "\tdeleted:    addon.php\n",
      "\tdeleted:    calculos.c\n",
      "\tdeleted:    connection.java\n",
      "\tdeleted:    dataset.avro\n",
      "\tdeleted:    imagen.png\n",
      "\tdeleted:    info.txt\n",
      "\tdeleted:    link.vs\n",
      "\tdeleted:    main.py\n",
      "\tdeleted:    operaciones_matematicas.py\n",
      "\tdeleted:    query.sql\n",
      "\tdeleted:    utils.gif\n",
      "\n",
      "Untracked files:\n",
      "  (use \"git add <file>...\" to include in what will be committed)\n",
      "\t.ipynb_checkpoints/\n",
      "\tDockerfile\n",
      "\tManifest.yaml\n",
      "\taddon.php\n",
      "\tcalculos.c\n",
      "\tconnection.java\n",
      "\tdataset.avro\n",
      "\timagen.png\n",
      "\tinfo.txt\n",
      "\tlink.vs\n",
      "\tmain.py\n",
      "\toperaciones_matematicas.py\n",
      "\tquery.sql\n",
      "\tutils.gif\n",
      "\n",
      "##############################################################################################################\n",
      "\n",
      "############################################# COMANDO A EJECUTAR #############################################\n",
      "git branch\n",
      "####################################### RESULTADO DE COMANDO EJECUTADO #######################################\n",
      "  main\n",
      "  multi_commits\n",
      "  multi_commits_copia_checkout\n",
      "  multi_commits_copia_switch\n",
      "  nueva_rama_renombrada_checkout\n",
      "  rama_acceso_rapido_checkout_renombrada_checkout\n",
      "  rama_acceso_rapido_switch\n",
      "* utils\n",
      "##############################################################################################################\n",
      "\n"
     ]
    }
   ],
   "source": [
    "# eliminar los archivos que no estan en el local repo, para evitar errores al cambiar de rama\n",
    "comando = 'git rm --cached \"*\"'\n",
    "ejecutar_comando_git(comando)\n",
    "\n",
    "comando = 'git status'\n",
    "ejecutar_comando_git(comando)\n",
    "\n",
    "ejecutar_comando_shell()"
   ]
  },
  {
   "cell_type": "markdown",
   "id": "3ee59814-4eaf-44f1-837e-d788331cee96",
   "metadata": {},
   "source": [
    "### LOS ELIMINA DEL WORKING DIRECTORY"
   ]
  },
  {
   "cell_type": "code",
   "execution_count": 56,
   "id": "7096fbbb-01df-44e8-b783-3fbabb49c410",
   "metadata": {
    "scrolled": true,
    "tags": []
   },
   "outputs": [
    {
     "name": "stdout",
     "output_type": "stream",
     "text": [
      "############################################# COMANDO A EJECUTAR #############################################\n",
      "git clean -f\n",
      "####################################### RESULTADO DE COMANDO EJECUTADO #######################################\n",
      "Removing Dockerfile\n",
      "Removing Manifest.yaml\n",
      "Removing addon.php\n",
      "Removing calculos.c\n",
      "Removing connection.java\n",
      "Removing dataset.avro\n",
      "Removing imagen.png\n",
      "Removing info.txt\n",
      "Removing link.vs\n",
      "Removing main.py\n",
      "Removing operaciones_matematicas.py\n",
      "Removing query.sql\n",
      "Removing utils.gif\n",
      "##############################################################################################################\n",
      "\n",
      "############################################# COMANDO A EJECUTAR #############################################\n",
      "git status\n",
      "####################################### RESULTADO DE COMANDO EJECUTADO #######################################\n",
      "On branch utils\n",
      "Changes to be committed:\n",
      "  (use \"git restore --staged <file>...\" to unstage)\n",
      "\tdeleted:    .ipynb_checkpoints/info-checkpoint.txt\n",
      "\tdeleted:    .ipynb_checkpoints/operaciones_matematicas-checkpoint.py\n",
      "\tdeleted:    Dockerfile\n",
      "\tdeleted:    Manifest.yaml\n",
      "\tdeleted:    addon.php\n",
      "\tdeleted:    calculos.c\n",
      "\tdeleted:    connection.java\n",
      "\tdeleted:    dataset.avro\n",
      "\tdeleted:    imagen.png\n",
      "\tdeleted:    info.txt\n",
      "\tdeleted:    link.vs\n",
      "\tdeleted:    main.py\n",
      "\tdeleted:    operaciones_matematicas.py\n",
      "\tdeleted:    query.sql\n",
      "\tdeleted:    utils.gif\n",
      "\n",
      "Untracked files:\n",
      "  (use \"git add <file>...\" to include in what will be committed)\n",
      "\t.ipynb_checkpoints/\n",
      "\n",
      "##############################################################################################################\n",
      "\n",
      "############################################# COMANDO A EJECUTAR #############################################\n",
      "git log --oneline\n",
      "####################################### RESULTADO DE COMANDO EJECUTADO #######################################\n",
      "4d3d127 PRUEBA de COMMIT numero 5 con fecha 1684028669.20744 y valor aleatorio 335024 y contiene el archivo addon.php\n",
      "e23166a PRUEBA de COMMIT numero 4 con fecha 1684028667.51679 y valor aleatorio 1329391 y contiene el archivo Manifest.yaml\n",
      "c32c39b PRUEBA de COMMIT numero 3 con fecha 1684028665.716064 y valor aleatorio 6638323 y contiene el archivo utils.gif\n",
      "b479c17 PRUEBA de COMMIT numero 2 con fecha 1684028663.985601 y valor aleatorio 4864654 y contiene el archivo link.vs\n",
      "9134f53 PRUEBA de COMMIT numero 1 con fecha 1684028662.119165 y valor aleatorio 3438699 y contiene el archivo calculos.c\n",
      "805bd49 adicionados archivos de prueba 2023-05-13 20:44:20.192058\n",
      "838403d asunto del commit actualizado\n",
      "4549072 adicionado archivo INFO.txt\n",
      "##############################################################################################################\n",
      "\n",
      "############################################# COMANDO A EJECUTAR #############################################\n",
      "git branch\n",
      "####################################### RESULTADO DE COMANDO EJECUTADO #######################################\n",
      "  main\n",
      "  multi_commits\n",
      "  multi_commits_copia_checkout\n",
      "  multi_commits_copia_switch\n",
      "  nueva_rama_renombrada_checkout\n",
      "  rama_acceso_rapido_checkout_renombrada_checkout\n",
      "  rama_acceso_rapido_switch\n",
      "* utils\n",
      "##############################################################################################################\n",
      "\n"
     ]
    }
   ],
   "source": [
    "# elimina los archivos que estan en el working directory\n",
    "comando = 'git clean -f'\n",
    "ejecutar_comando_git(comando)\n",
    "\n",
    "comando = 'git status'\n",
    "ejecutar_comando_git(comando)\n",
    "\n",
    "comando = 'git log --oneline'\n",
    "ejecutar_comando_git(comando)\n",
    "\n",
    "ejecutar_comando_shell()"
   ]
  },
  {
   "cell_type": "markdown",
   "id": "bc6b1c1c-4845-44fd-bcee-2aaa139ff5ff",
   "metadata": {},
   "source": [
    "# RECUPERAR UN ARCHIVO ELIMINADO, LLEVARLO AL STAGE Y LUEGO AL WORKING DIRECTORY"
   ]
  },
  {
   "cell_type": "code",
   "execution_count": 57,
   "id": "8eb785a0-6502-442e-a56b-c9541567551c",
   "metadata": {
    "scrolled": true,
    "tags": []
   },
   "outputs": [
    {
     "name": "stdout",
     "output_type": "stream",
     "text": [
      "############################################# COMANDO A EJECUTAR #############################################\n",
      "git restore --staged info.txt\n",
      "####################################### RESULTADO DE COMANDO EJECUTADO #######################################\n",
      "##############################################################################################################\n",
      "\n",
      "############################################# COMANDO A EJECUTAR #############################################\n",
      "git status\n",
      "####################################### RESULTADO DE COMANDO EJECUTADO #######################################\n",
      "On branch utils\n",
      "Changes to be committed:\n",
      "  (use \"git restore --staged <file>...\" to unstage)\n",
      "\tdeleted:    .ipynb_checkpoints/info-checkpoint.txt\n",
      "\tdeleted:    .ipynb_checkpoints/operaciones_matematicas-checkpoint.py\n",
      "\tdeleted:    Dockerfile\n",
      "\tdeleted:    Manifest.yaml\n",
      "\tdeleted:    addon.php\n",
      "\tdeleted:    calculos.c\n",
      "\tdeleted:    connection.java\n",
      "\tdeleted:    dataset.avro\n",
      "\tdeleted:    imagen.png\n",
      "\tdeleted:    link.vs\n",
      "\tdeleted:    main.py\n",
      "\tdeleted:    operaciones_matematicas.py\n",
      "\tdeleted:    query.sql\n",
      "\tdeleted:    utils.gif\n",
      "\n",
      "Changes not staged for commit:\n",
      "  (use \"git add/rm <file>...\" to update what will be committed)\n",
      "  (use \"git restore <file>...\" to discard changes in working directory)\n",
      "\tdeleted:    info.txt\n",
      "\n",
      "Untracked files:\n",
      "  (use \"git add <file>...\" to include in what will be committed)\n",
      "\t.ipynb_checkpoints/\n",
      "\n",
      "##############################################################################################################\n",
      "\n",
      "############################################# COMANDO A EJECUTAR #############################################\n",
      "git restore info.txt\n",
      "####################################### RESULTADO DE COMANDO EJECUTADO #######################################\n",
      "##############################################################################################################\n",
      "\n",
      "############################################# COMANDO A EJECUTAR #############################################\n",
      "git status\n",
      "####################################### RESULTADO DE COMANDO EJECUTADO #######################################\n",
      "On branch utils\n",
      "Changes to be committed:\n",
      "  (use \"git restore --staged <file>...\" to unstage)\n",
      "\tdeleted:    .ipynb_checkpoints/info-checkpoint.txt\n",
      "\tdeleted:    .ipynb_checkpoints/operaciones_matematicas-checkpoint.py\n",
      "\tdeleted:    Dockerfile\n",
      "\tdeleted:    Manifest.yaml\n",
      "\tdeleted:    addon.php\n",
      "\tdeleted:    calculos.c\n",
      "\tdeleted:    connection.java\n",
      "\tdeleted:    dataset.avro\n",
      "\tdeleted:    imagen.png\n",
      "\tdeleted:    link.vs\n",
      "\tdeleted:    main.py\n",
      "\tdeleted:    operaciones_matematicas.py\n",
      "\tdeleted:    query.sql\n",
      "\tdeleted:    utils.gif\n",
      "\n",
      "Untracked files:\n",
      "  (use \"git add <file>...\" to include in what will be committed)\n",
      "\t.ipynb_checkpoints/\n",
      "\n",
      "##############################################################################################################\n",
      "\n",
      "############################################# COMANDO A EJECUTAR #############################################\n",
      "git log --oneline\n",
      "####################################### RESULTADO DE COMANDO EJECUTADO #######################################\n",
      "4d3d127 PRUEBA de COMMIT numero 5 con fecha 1684028669.20744 y valor aleatorio 335024 y contiene el archivo addon.php\n",
      "e23166a PRUEBA de COMMIT numero 4 con fecha 1684028667.51679 y valor aleatorio 1329391 y contiene el archivo Manifest.yaml\n",
      "c32c39b PRUEBA de COMMIT numero 3 con fecha 1684028665.716064 y valor aleatorio 6638323 y contiene el archivo utils.gif\n",
      "b479c17 PRUEBA de COMMIT numero 2 con fecha 1684028663.985601 y valor aleatorio 4864654 y contiene el archivo link.vs\n",
      "9134f53 PRUEBA de COMMIT numero 1 con fecha 1684028662.119165 y valor aleatorio 3438699 y contiene el archivo calculos.c\n",
      "805bd49 adicionados archivos de prueba 2023-05-13 20:44:20.192058\n",
      "838403d asunto del commit actualizado\n",
      "4549072 adicionado archivo INFO.txt\n",
      "##############################################################################################################\n",
      "\n"
     ]
    }
   ],
   "source": [
    "archivo_a_recuperar = 'info.txt'\n",
    "comando = f'git restore --staged {archivo_a_recuperar}'\n",
    "ejecutar_comando_git(comando)\n",
    "\n",
    "comando = 'git status'\n",
    "ejecutar_comando_git(comando)\n",
    "\n",
    "comando = f'git restore {archivo_a_recuperar}'\n",
    "ejecutar_comando_git(comando)\n",
    "\n",
    "comando = 'git status'\n",
    "ejecutar_comando_git(comando)\n",
    "\n",
    "comando = 'git log --oneline'\n",
    "ejecutar_comando_git(comando)"
   ]
  },
  {
   "cell_type": "markdown",
   "id": "4775bfba-b6e5-44d4-9f8c-6341bb25ca6a",
   "metadata": {},
   "source": [
    "## CREA UN NUEVO COMMIT PARA USARLO LUEGO EN EL REFLOG"
   ]
  },
  {
   "cell_type": "code",
   "execution_count": 58,
   "id": "0be0353f-efb4-4b31-a7f7-e821d1995c4a",
   "metadata": {
    "scrolled": true,
    "tags": []
   },
   "outputs": [
    {
     "name": "stdout",
     "output_type": "stream",
     "text": [
      "lista_de_archivos = ['info.txt']\n",
      "############################################# COMANDO A EJECUTAR #############################################\n",
      "echo 1684028686.256376 >> info.txt\n",
      "####################################### RESULTADO DE COMANDO EJECUTADO #######################################\n",
      "##############################################################################################################\n",
      "\n",
      "############################################# COMANDO A EJECUTAR #############################################\n",
      "git add info.txt\n",
      "####################################### RESULTADO DE COMANDO EJECUTADO #######################################\n",
      "##############################################################################################################\n",
      "\n",
      "############################################# COMANDO A EJECUTAR #############################################\n",
      "git status\n",
      "####################################### RESULTADO DE COMANDO EJECUTADO #######################################\n",
      "On branch utils\n",
      "Changes to be committed:\n",
      "  (use \"git restore --staged <file>...\" to unstage)\n",
      "\tdeleted:    .ipynb_checkpoints/info-checkpoint.txt\n",
      "\tdeleted:    .ipynb_checkpoints/operaciones_matematicas-checkpoint.py\n",
      "\tdeleted:    Dockerfile\n",
      "\tdeleted:    Manifest.yaml\n",
      "\tdeleted:    addon.php\n",
      "\tdeleted:    calculos.c\n",
      "\tdeleted:    connection.java\n",
      "\tdeleted:    dataset.avro\n",
      "\tdeleted:    imagen.png\n",
      "\tmodified:   info.txt\n",
      "\tdeleted:    link.vs\n",
      "\tdeleted:    main.py\n",
      "\tdeleted:    operaciones_matematicas.py\n",
      "\tdeleted:    query.sql\n",
      "\tdeleted:    utils.gif\n",
      "\n",
      "Untracked files:\n",
      "  (use \"git add <file>...\" to include in what will be committed)\n",
      "\t.ipynb_checkpoints/\n",
      "\n",
      "##############################################################################################################\n",
      "\n",
      "############################################# COMANDO A EJECUTAR #############################################\n",
      "git commit -m \"adicionado archivo INFO.txt PARA USAR EN REFLOG 2023-05-13 20:44:46.350124\"\n",
      "####################################### RESULTADO DE COMANDO EJECUTADO #######################################\n",
      "[utils ad088bc] adicionado archivo INFO.txt PARA USAR EN REFLOG 2023-05-13 20:44:46.350124\n",
      " 15 files changed, 1 insertion(+), 208 deletions(-)\n",
      " delete mode 100644 .ipynb_checkpoints/info-checkpoint.txt\n",
      " delete mode 100644 .ipynb_checkpoints/operaciones_matematicas-checkpoint.py\n",
      " delete mode 100644 Dockerfile\n",
      " delete mode 100644 Manifest.yaml\n",
      " delete mode 100644 addon.php\n",
      " delete mode 100644 calculos.c\n",
      " delete mode 100644 connection.java\n",
      " delete mode 100644 dataset.avro\n",
      " delete mode 100644 imagen.png\n",
      " delete mode 100644 link.vs\n",
      " delete mode 100644 main.py\n",
      " delete mode 100644 operaciones_matematicas.py\n",
      " delete mode 100644 query.sql\n",
      " delete mode 100644 utils.gif\n",
      "##############################################################################################################\n",
      "\n",
      "############################################# COMANDO A EJECUTAR #############################################\n",
      "git status\n",
      "####################################### RESULTADO DE COMANDO EJECUTADO #######################################\n",
      "On branch utils\n",
      "Untracked files:\n",
      "  (use \"git add <file>...\" to include in what will be committed)\n",
      "\t.ipynb_checkpoints/\n",
      "\n",
      "nothing added to commit but untracked files present (use \"git add\" to track)\n",
      "##############################################################################################################\n",
      "\n",
      "############################################# COMANDO A EJECUTAR #############################################\n",
      "git log\n",
      "####################################### RESULTADO DE COMANDO EJECUTADO #######################################\n",
      "commit ad088bcfb19a6ef662942507973ef57aac942463\n",
      "Author: jorgecardona <jorgecardona@utp.edu.co>\n",
      "Date:   Sat May 13 20:44:46 2023 -0500\n",
      "\n",
      "    adicionado archivo INFO.txt PARA USAR EN REFLOG 2023-05-13 20:44:46.350124\n",
      "\n",
      "commit 4d3d12750e36ec64863d147b351199594449d91f\n",
      "Author: QiDimMak <cienciagoku@gmail.com>\n",
      "Date:   Sat May 13 20:44:29 2023 -0500\n",
      "\n",
      "    PRUEBA de COMMIT numero 5 con fecha 1684028669.20744 y valor aleatorio 335024 y contiene el archivo addon.php\n",
      "\n",
      "commit e23166ae4b5ed0b210a8d7b7c3aa782c72cf8215\n",
      "Author: jorgecardona <jorgecardona@utp.edu.co>\n",
      "Date:   Sat May 13 20:44:27 2023 -0500\n",
      "\n",
      "    PRUEBA de COMMIT numero 4 con fecha 1684028667.51679 y valor aleatorio 1329391 y contiene el archivo Manifest.yaml\n",
      "\n",
      "commit c32c39b30613d7fad916ec96fa57338469ed9ad9\n",
      "Author: QiDimMak <cienciagoku@gmail.com>\n",
      "Date:   Sat May 13 20:44:25 2023 -0500\n",
      "\n",
      "    PRUEBA de COMMIT numero 3 con fecha 1684028665.716064 y valor aleatorio 6638323 y contiene el archivo utils.gif\n",
      "\n",
      "commit b479c173261bd73af2e65f1cd42aba44a60e9c88\n",
      "Author: jorgecardona <jorgecardona@utp.edu.co>\n",
      "Date:   Sat May 13 20:44:24 2023 -0500\n",
      "\n",
      "    PRUEBA de COMMIT numero 2 con fecha 1684028663.985601 y valor aleatorio 4864654 y contiene el archivo link.vs\n",
      "\n",
      "commit 9134f539f9381b32b659b1b01b9e558554cd0a69\n",
      "Author: QiDimMak <cienciagoku@gmail.com>\n",
      "Date:   Sat May 13 20:44:22 2023 -0500\n",
      "\n",
      "    PRUEBA de COMMIT numero 1 con fecha 1684028662.119165 y valor aleatorio 3438699 y contiene el archivo calculos.c\n",
      "\n",
      "commit 805bd495bd8c4d1edbd89f9ca75c8ca610a8d9a0\n",
      "Author: jorgecardona <jorgecardona@utp.edu.co>\n",
      "Date:   Sat May 13 20:44:20 2023 -0500\n",
      "\n",
      "    adicionados archivos de prueba 2023-05-13 20:44:20.192058\n",
      "\n",
      "commit 838403df43d15cf42acafa9b094e7d7dff63d9dc\n",
      "Author: QiDimMak <cienciagoku@gmail.com>\n",
      "Date:   Mon Jul 31 07:31:40 2000 +0000\n",
      "\n",
      "    asunto del commit actualizado\n",
      "\n",
      "commit 4549072769f4608a8ffb0bd5b7174d132769a806\n",
      "Author: jorgecardona <jorgecardona@utp.edu.co>\n",
      "Date:   Sat May 13 20:37:31 2023 -0500\n",
      "\n",
      "    adicionado archivo INFO.txt\n",
      "##############################################################################################################\n",
      "\n",
      "############################################# COMANDO A EJECUTAR #############################################\n",
      "git branch\n",
      "####################################### RESULTADO DE COMANDO EJECUTADO #######################################\n",
      "  main\n",
      "  multi_commits\n",
      "  multi_commits_copia_checkout\n",
      "  multi_commits_copia_switch\n",
      "  nueva_rama_renombrada_checkout\n",
      "  rama_acceso_rapido_checkout_renombrada_checkout\n",
      "  rama_acceso_rapido_switch\n",
      "* utils\n",
      "##############################################################################################################\n",
      "\n"
     ]
    }
   ],
   "source": [
    "generar_archivos(todos_los_archivos=False)\n",
    "\n",
    "comando = 'git add info.txt'\n",
    "ejecutar_comando_git(comando)\n",
    "\n",
    "comando = 'git status'\n",
    "ejecutar_comando_git(comando)\n",
    "\n",
    "comando = f'git commit -m \"adicionado archivo INFO.txt PARA USAR EN REFLOG {datetime.now()}\"'\n",
    "ejecutar_comando_git(comando)\n",
    "\n",
    "comando = 'git status'\n",
    "ejecutar_comando_git(comando)\n",
    "\n",
    "comando = 'git log'\n",
    "ejecutar_comando_git(comando)\n",
    "\n",
    "ejecutar_comando_shell()"
   ]
  },
  {
   "cell_type": "markdown",
   "id": "a8676dbb-b263-4ea3-afc5-876d2f13e609",
   "metadata": {},
   "source": [
    "# <center> ELIMINAR UNA RAMA DE UN REPOSITORIO GIT</center>"
   ]
  },
  {
   "cell_type": "markdown",
   "id": "b8be8eec-7383-422a-bd89-dce1c7ca6c43",
   "metadata": {},
   "source": [
    "## ELIMINAR LA RAMA"
   ]
  },
  {
   "cell_type": "code",
   "execution_count": 59,
   "id": "e67a933a-c5ec-4840-8abc-6d8d4a77de8d",
   "metadata": {
    "scrolled": true,
    "tags": []
   },
   "outputs": [
    {
     "name": "stdout",
     "output_type": "stream",
     "text": [
      "############################################# COMANDO A EJECUTAR #############################################\n",
      "git checkout  main\n",
      "####################################### RESULTADO DE COMANDO EJECUTADO #######################################\n",
      "Your branch is up to date with 'origin/main'.\n",
      "##############################################################################################################\n",
      "\n",
      "############################################# COMANDO A EJECUTAR #############################################\n",
      "git branch -D utils\n",
      "####################################### RESULTADO DE COMANDO EJECUTADO #######################################\n",
      "Deleted branch utils (was ad088bc).\n",
      "##############################################################################################################\n",
      "\n",
      "############################################# COMANDO A EJECUTAR #############################################\n",
      "git branch -a\n",
      "####################################### RESULTADO DE COMANDO EJECUTADO #######################################\n",
      "* main\n",
      "  multi_commits\n",
      "  multi_commits_copia_checkout\n",
      "  multi_commits_copia_switch\n",
      "  nueva_rama_renombrada_checkout\n",
      "  rama_acceso_rapido_checkout_renombrada_checkout\n",
      "  rama_acceso_rapido_switch\n",
      "  remotes/origin/HEAD -> origin/main\n",
      "  remotes/origin/bisect_branch\n",
      "  remotes/origin/commit_branch\n",
      "  remotes/origin/main\n",
      "  remotes/origin/multi_commits\n",
      "##############################################################################################################\n",
      "\n"
     ]
    }
   ],
   "source": [
    "# no se puede eliminar una rama si se esta trabajando en ese monento en ella\n",
    "comando = 'git checkout  {nombre_rama_principal}'.format(nombre_rama_principal=nombre_rama_principal)\n",
    "ejecutar_comando_git(comando)\n",
    "\n",
    "comando = 'git branch -D {nombre_rama}'.format(nombre_rama=nombre_rama)\n",
    "ejecutar_comando_git(comando)\n",
    "\n",
    "comando = 'git branch -a'\n",
    "ejecutar_comando_git(comando)"
   ]
  },
  {
   "cell_type": "markdown",
   "id": "5b20f6cc-3eab-4217-aa11-009ccdcc8cb2",
   "metadata": {},
   "source": [
    "# <center> PROBAR PUSH A UNA RAMA PROTEGIDA CONTRA ESCRITURA REPOSITORIO GIT</center>"
   ]
  },
  {
   "cell_type": "code",
   "execution_count": 60,
   "id": "9753c7e7-16a3-4342-9139-3f67d17c9a3f",
   "metadata": {
    "scrolled": true,
    "tags": []
   },
   "outputs": [
    {
     "name": "stdout",
     "output_type": "stream",
     "text": [
      "lista_de_archivos = ['info.txt', 'Dockerfile', 'Manifest.yaml', 'imagen.png', 'main.py', 'connection.java', 'calculos.c', 'addon.php', 'utils.gif', 'query.sql', 'dataset.avro', 'link.vs']\n",
      "############################################# COMANDO A EJECUTAR #############################################\n",
      "echo 1684028690.099361 >> info.txt\n",
      "####################################### RESULTADO DE COMANDO EJECUTADO #######################################\n",
      "##############################################################################################################\n",
      "\n",
      "############################################# COMANDO A EJECUTAR #############################################\n",
      "echo 1684028690.208328 >> Dockerfile\n",
      "####################################### RESULTADO DE COMANDO EJECUTADO #######################################\n",
      "##############################################################################################################\n",
      "\n",
      "############################################# COMANDO A EJECUTAR #############################################\n",
      "echo 1684028690.318376 >> Manifest.yaml\n",
      "####################################### RESULTADO DE COMANDO EJECUTADO #######################################\n",
      "##############################################################################################################\n",
      "\n",
      "############################################# COMANDO A EJECUTAR #############################################\n",
      "echo 1684028690.428673 >> imagen.png\n",
      "####################################### RESULTADO DE COMANDO EJECUTADO #######################################\n",
      "##############################################################################################################\n",
      "\n",
      "############################################# COMANDO A EJECUTAR #############################################\n",
      "echo 1684028690.540428 >> main.py\n",
      "####################################### RESULTADO DE COMANDO EJECUTADO #######################################\n",
      "##############################################################################################################\n",
      "\n",
      "############################################# COMANDO A EJECUTAR #############################################\n",
      "echo 1684028690.652275 >> connection.java\n",
      "####################################### RESULTADO DE COMANDO EJECUTADO #######################################\n",
      "##############################################################################################################\n",
      "\n",
      "############################################# COMANDO A EJECUTAR #############################################\n",
      "echo 1684028690.762484 >> calculos.c\n",
      "####################################### RESULTADO DE COMANDO EJECUTADO #######################################\n",
      "##############################################################################################################\n",
      "\n",
      "############################################# COMANDO A EJECUTAR #############################################\n",
      "echo 1684028690.871178 >> addon.php\n",
      "####################################### RESULTADO DE COMANDO EJECUTADO #######################################\n",
      "##############################################################################################################\n",
      "\n",
      "############################################# COMANDO A EJECUTAR #############################################\n",
      "echo 1684028690.994856 >> utils.gif\n",
      "####################################### RESULTADO DE COMANDO EJECUTADO #######################################\n",
      "##############################################################################################################\n",
      "\n",
      "############################################# COMANDO A EJECUTAR #############################################\n",
      "echo 1684028691.107991 >> query.sql\n",
      "####################################### RESULTADO DE COMANDO EJECUTADO #######################################\n",
      "##############################################################################################################\n",
      "\n",
      "############################################# COMANDO A EJECUTAR #############################################\n",
      "echo 1684028691.217882 >> dataset.avro\n",
      "####################################### RESULTADO DE COMANDO EJECUTADO #######################################\n",
      "##############################################################################################################\n",
      "\n",
      "############################################# COMANDO A EJECUTAR #############################################\n",
      "echo 1684028691.327973 >> link.vs\n",
      "####################################### RESULTADO DE COMANDO EJECUTADO #######################################\n",
      "##############################################################################################################\n",
      "\n",
      "############################################# COMANDO A EJECUTAR #############################################\n",
      "git status\n",
      "####################################### RESULTADO DE COMANDO EJECUTADO #######################################\n",
      "On branch main\n",
      "Your branch is up to date with 'origin/main'.\n",
      "\n",
      "Untracked files:\n",
      "  (use \"git add <file>...\" to include in what will be committed)\n",
      "\tDockerfile\n",
      "\tManifest.yaml\n",
      "\taddon.php\n",
      "\tcalculos.c\n",
      "\tconnection.java\n",
      "\tdataset.avro\n",
      "\timagen.png\n",
      "\tinfo.txt\n",
      "\tlink.vs\n",
      "\tmain.py\n",
      "\tquery.sql\n",
      "\tutils.gif\n",
      "\n",
      "nothing added to commit but untracked files present (use \"git add\" to track)\n",
      "##############################################################################################################\n",
      "\n",
      "############################################# COMANDO A EJECUTAR #############################################\n",
      "git add .\n",
      "####################################### RESULTADO DE COMANDO EJECUTADO #######################################\n",
      "##############################################################################################################\n",
      "\n",
      "############################################# COMANDO A EJECUTAR #############################################\n",
      "git status\n",
      "####################################### RESULTADO DE COMANDO EJECUTADO #######################################\n",
      "On branch main\n",
      "Your branch is up to date with 'origin/main'.\n",
      "\n",
      "Changes to be committed:\n",
      "  (use \"git restore --staged <file>...\" to unstage)\n",
      "\tnew file:   Dockerfile\n",
      "\tnew file:   Manifest.yaml\n",
      "\tnew file:   addon.php\n",
      "\tnew file:   calculos.c\n",
      "\tnew file:   connection.java\n",
      "\tnew file:   dataset.avro\n",
      "\tnew file:   imagen.png\n",
      "\tnew file:   info.txt\n",
      "\tnew file:   link.vs\n",
      "\tnew file:   main.py\n",
      "\tnew file:   query.sql\n",
      "\tnew file:   utils.gif\n",
      "\n",
      "##############################################################################################################\n",
      "\n",
      "############################################# COMANDO A EJECUTAR #############################################\n",
      "git commit -m \"PRUEBA de COMMIT numero 1 con fecha 1684028691.627266 y valor aleatorio 35645 y contiene el archivo query.sql\"\n",
      "####################################### RESULTADO DE COMANDO EJECUTADO #######################################\n",
      "[main 398a729] PRUEBA de COMMIT numero 1 con fecha 1684028691.627266 y valor aleatorio 35645 y contiene el archivo query.sql\n",
      " 12 files changed, 12 insertions(+)\n",
      " create mode 100644 Dockerfile\n",
      " create mode 100644 Manifest.yaml\n",
      " create mode 100644 addon.php\n",
      " create mode 100644 calculos.c\n",
      " create mode 100644 connection.java\n",
      " create mode 100644 dataset.avro\n",
      " create mode 100644 imagen.png\n",
      " create mode 100644 info.txt\n",
      " create mode 100644 link.vs\n",
      " create mode 100644 main.py\n",
      " create mode 100644 query.sql\n",
      " create mode 100644 utils.gif\n",
      "##############################################################################################################\n",
      "\n",
      "############################################# COMANDO A EJECUTAR #############################################\n",
      "git commit --amend --no-edit --author=cienciagoku@gmail.com\n",
      "####################################### RESULTADO DE COMANDO EJECUTADO #######################################\n",
      "[main 7126223] PRUEBA de COMMIT numero 1 con fecha 1684028691.627266 y valor aleatorio 35645 y contiene el archivo query.sql\n",
      " Author: QiDimMak <cienciagoku@gmail.com>\n",
      " Date: Sat May 13 20:44:51 2023 -0500\n",
      " 12 files changed, 12 insertions(+)\n",
      " create mode 100644 Dockerfile\n",
      " create mode 100644 Manifest.yaml\n",
      " create mode 100644 addon.php\n",
      " create mode 100644 calculos.c\n",
      " create mode 100644 connection.java\n",
      " create mode 100644 dataset.avro\n",
      " create mode 100644 imagen.png\n",
      " create mode 100644 info.txt\n",
      " create mode 100644 link.vs\n",
      " create mode 100644 main.py\n",
      " create mode 100644 query.sql\n",
      " create mode 100644 utils.gif\n",
      "##############################################################################################################\n",
      "\n",
      "############################################# COMANDO A EJECUTAR #############################################\n",
      "git log --oneline\n",
      "####################################### RESULTADO DE COMANDO EJECUTADO #######################################\n",
      "7126223 PRUEBA de COMMIT numero 1 con fecha 1684028691.627266 y valor aleatorio 35645 y contiene el archivo query.sql\n",
      "c0925c2 adicionado usuario\n",
      "d481740 adicionado requirements.txt\n",
      "fd01bde adicionado readme\n",
      "6bfbfd4 adicionado license\n",
      "e56280c adicionado .gitignore\n",
      "##############################################################################################################\n",
      "\n",
      "############################################# COMANDO A EJECUTAR #############################################\n",
      "git status\n",
      "####################################### RESULTADO DE COMANDO EJECUTADO #######################################\n",
      "On branch main\n",
      "Your branch is ahead of 'origin/main' by 1 commit.\n",
      "  (use \"git push\" to publish your local commits)\n",
      "\n",
      "nothing to commit, working tree clean\n",
      "##############################################################################################################\n",
      "\n",
      "############################################# COMANDO A EJECUTAR #############################################\n",
      "git branch\n",
      "####################################### RESULTADO DE COMANDO EJECUTADO #######################################\n",
      "* main\n",
      "  multi_commits\n",
      "  multi_commits_copia_checkout\n",
      "  multi_commits_copia_switch\n",
      "  nueva_rama_renombrada_checkout\n",
      "  rama_acceso_rapido_checkout_renombrada_checkout\n",
      "  rama_acceso_rapido_switch\n",
      "##############################################################################################################\n",
      "\n",
      "############################################# COMANDO A EJECUTAR #############################################\n",
      "git push origin main\n",
      "&&&&&&&&&&&&&&&&&&&&&&&&&&&&&&&&&&&&& SE HA GENERADO UNA EXCEPCION &&&&&&&&&&&&&&&&&&&&&&&&&&&&&&&&&&&&&&&\n",
      "EL COMANDO git push origin main NO SE PUDO EJECUTAR\n",
      "&&&&&&&&&&&&&&&&&&&&&&&&&&&&&&&&&&&&& FINAL DE EXCEPCION GENERADA &&&&&&&&&&&&&&&&&&&&&&&&&&&&&&&&&&&&&&&&\n"
     ]
    }
   ],
   "source": [
    "crear_commits(total_commits=1)\n",
    "ejecutar_comando_shell()\n",
    "\n",
    "comando = 'git push origin {nombre_rama_principal}'.format(nombre_rama_principal=nombre_rama_principal)\n",
    "ejecutar_comando_git(comando)"
   ]
  },
  {
   "cell_type": "code",
   "execution_count": 61,
   "id": "428cf4c0-9c27-488b-8d5e-cbd0554864ff",
   "metadata": {
    "tags": []
   },
   "outputs": [
    {
     "name": "stdout",
     "output_type": "stream",
     "text": [
      "REGRESANDO AL COMMIT' 6bfbfd4\n",
      "############################################# COMANDO A EJECUTAR #############################################\n",
      "git reset --hard 6bfbfd4\n",
      "####################################### RESULTADO DE COMANDO EJECUTADO #######################################\n",
      "HEAD is now at 6bfbfd4 adicionado license\n",
      "##############################################################################################################\n",
      "\n",
      "############################################# COMANDO A EJECUTAR #############################################\n",
      "git status\n",
      "####################################### RESULTADO DE COMANDO EJECUTADO #######################################\n",
      "On branch main\n",
      "Your branch is behind 'origin/main' by 3 commits, and can be fast-forwarded.\n",
      "  (use \"git pull\" to update your local branch)\n",
      "\n",
      "nothing to commit, working tree clean\n",
      "##############################################################################################################\n",
      "\n"
     ]
    }
   ],
   "source": [
    "commit_id = '6bfbfd4' # adicionado license\n",
    "\n",
    "volver_al_commit_sin_cambios(commit_id=commit_id)"
   ]
  },
  {
   "cell_type": "markdown",
   "id": "4a3fabd1-29f8-4918-bdfd-3d227988fea2",
   "metadata": {},
   "source": [
    "# <center> OBTENER LA DIFERENCIA EN CONTENIDO ENTRE 2 RAMAS COMMITs DE UN REPOSITORIO</center>"
   ]
  },
  {
   "cell_type": "code",
   "execution_count": 62,
   "id": "74f6794e-30f7-41b9-a138-b88fcfca5542",
   "metadata": {
    "scrolled": true,
    "tags": []
   },
   "outputs": [
    {
     "name": "stdout",
     "output_type": "stream",
     "text": [
      "############################################# COMANDO A EJECUTAR #############################################\n",
      "git diff main multi_commits\n",
      "####################################### RESULTADO DE COMANDO EJECUTADO #######################################\n",
      "diff --git a/README.md b/README.md\n",
      "new file mode 100644\n",
      "index 0000000..8c15f8a\n",
      "--- /dev/null\n",
      "+++ b/README.md\n",
      "@@ -0,0 +1 @@\n",
      "+# comandos_git\n",
      "\\ No newline at end of file\n",
      "diff --git a/archivo.csv b/archivo.csv\n",
      "new file mode 100644\n",
      "index 0000000..e69de29\n",
      "diff --git a/archivo.docx b/archivo.docx\n",
      "new file mode 100644\n",
      "index 0000000..e69de29\n",
      "diff --git a/archivo.pdf b/archivo.pdf\n",
      "new file mode 100644\n",
      "index 0000000..31a8a6a\n",
      "--- /dev/null\n",
      "+++ b/archivo.pdf\n",
      "@@ -0,0 +1 @@\n",
      "+\f",
      "\n",
      "\\ No newline at end of file\n",
      "diff --git a/archivo.pptx b/archivo.pptx\n",
      "new file mode 100644\n",
      "index 0000000..e69de29\n",
      "diff --git a/archivo.rtf b/archivo.rtf\n",
      "new file mode 100644\n",
      "index 0000000..08778d7\n",
      "--- /dev/null\n",
      "+++ b/archivo.rtf\n",
      "@@ -0,0 +1 @@\n",
      "+{\\rtf1}\n",
      "\\ No newline at end of file\n",
      "diff --git a/archivo.xlsx b/archivo.xlsx\n",
      "new file mode 100644\n",
      "index 0000000..53f0f1e\n",
      "Binary files /dev/null and b/archivo.xlsx differ\n",
      "diff --git a/config.json b/config.json\n",
      "new file mode 100644\n",
      "index 0000000..e69de29\n",
      "diff --git a/env.sh b/env.sh\n",
      "new file mode 100644\n",
      "index 0000000..e69de29\n",
      "diff --git a/imagen.bmp b/imagen.bmp\n",
      "new file mode 100644\n",
      "index 0000000..e69de29\n",
      "diff --git a/index.html b/index.html\n",
      "new file mode 100644\n",
      "index 0000000..e69de29\n",
      "diff --git a/requirements.txt b/requirements.txt\n",
      "new file mode 100644\n",
      "index 0000000..e69de29\n",
      "##############################################################################################################\n",
      "\n"
     ]
    }
   ],
   "source": [
    "comando = 'git diff {nombre_rama_principal} {nombre_rama_remota}'.format(nombre_rama_principal=nombre_rama_principal, nombre_rama_remota=nombre_rama_remota)\n",
    "ejecutar_comando_git(comando)"
   ]
  },
  {
   "cell_type": "markdown",
   "id": "0d81a177-e2e4-43ca-8c10-dbb6d34d1bdb",
   "metadata": {},
   "source": [
    "# <center> RESTAURAR O RECUPERAR ARCHIVOS MODIFICADOS O ELIMINADOS DE UN REPOSITORIO GIT <br> SOLO MODIFICACIONES EN REPOSITORIO LOCAL, BASADO EN EL ULTIMO COMMIT <br/></center>"
   ]
  },
  {
   "cell_type": "code",
   "execution_count": 63,
   "id": "2b421eb8-6750-444b-8ab2-f5cf9b0a7969",
   "metadata": {
    "scrolled": true,
    "tags": []
   },
   "outputs": [
    {
     "name": "stdout",
     "output_type": "stream",
     "text": [
      "############################################# COMANDO A EJECUTAR #############################################\n",
      "git checkout multi_commits_copia_checkout\n",
      "####################################### RESULTADO DE COMANDO EJECUTADO #######################################\n",
      "Your branch is up to date with 'origin/multi_commits'.\n",
      "##############################################################################################################\n",
      "\n",
      "lista_de_archivos = ['info.txt', 'Dockerfile', 'Manifest.yaml', 'imagen.png', 'main.py', 'connection.java', 'calculos.c', 'addon.php', 'utils.gif', 'query.sql', 'dataset.avro', 'link.vs']\n",
      "############################################# COMANDO A EJECUTAR #############################################\n",
      "echo 1684028735.750983 >> info.txt\n",
      "####################################### RESULTADO DE COMANDO EJECUTADO #######################################\n",
      "##############################################################################################################\n",
      "\n",
      "############################################# COMANDO A EJECUTAR #############################################\n",
      "echo 1684028735.863115 >> Dockerfile\n",
      "####################################### RESULTADO DE COMANDO EJECUTADO #######################################\n",
      "##############################################################################################################\n",
      "\n",
      "############################################# COMANDO A EJECUTAR #############################################\n",
      "echo 1684028735.987394 >> Manifest.yaml\n",
      "####################################### RESULTADO DE COMANDO EJECUTADO #######################################\n",
      "##############################################################################################################\n",
      "\n",
      "############################################# COMANDO A EJECUTAR #############################################\n",
      "echo 1684028736.097344 >> imagen.png\n",
      "####################################### RESULTADO DE COMANDO EJECUTADO #######################################\n",
      "##############################################################################################################\n",
      "\n",
      "############################################# COMANDO A EJECUTAR #############################################\n",
      "echo 1684028736.222484 >> main.py\n",
      "####################################### RESULTADO DE COMANDO EJECUTADO #######################################\n",
      "##############################################################################################################\n",
      "\n",
      "############################################# COMANDO A EJECUTAR #############################################\n",
      "echo 1684028736.332573 >> connection.java\n",
      "####################################### RESULTADO DE COMANDO EJECUTADO #######################################\n",
      "##############################################################################################################\n",
      "\n",
      "############################################# COMANDO A EJECUTAR #############################################\n",
      "echo 1684028736.45712 >> calculos.c\n",
      "####################################### RESULTADO DE COMANDO EJECUTADO #######################################\n",
      "##############################################################################################################\n",
      "\n",
      "############################################# COMANDO A EJECUTAR #############################################\n",
      "echo 1684028736.56696 >> addon.php\n",
      "####################################### RESULTADO DE COMANDO EJECUTADO #######################################\n",
      "##############################################################################################################\n",
      "\n",
      "############################################# COMANDO A EJECUTAR #############################################\n",
      "echo 1684028736.675829 >> utils.gif\n",
      "####################################### RESULTADO DE COMANDO EJECUTADO #######################################\n",
      "##############################################################################################################\n",
      "\n",
      "############################################# COMANDO A EJECUTAR #############################################\n",
      "echo 1684028736.800562 >> query.sql\n",
      "####################################### RESULTADO DE COMANDO EJECUTADO #######################################\n",
      "##############################################################################################################\n",
      "\n",
      "############################################# COMANDO A EJECUTAR #############################################\n",
      "echo 1684028736.923423 >> dataset.avro\n",
      "####################################### RESULTADO DE COMANDO EJECUTADO #######################################\n",
      "##############################################################################################################\n",
      "\n",
      "############################################# COMANDO A EJECUTAR #############################################\n",
      "echo 1684028737.032367 >> link.vs\n",
      "####################################### RESULTADO DE COMANDO EJECUTADO #######################################\n",
      "##############################################################################################################\n",
      "\n",
      "############################################# COMANDO A EJECUTAR #############################################\n",
      "git branch\n",
      "####################################### RESULTADO DE COMANDO EJECUTADO #######################################\n",
      "  main\n",
      "  multi_commits\n",
      "* multi_commits_copia_checkout\n",
      "  multi_commits_copia_switch\n",
      "  nueva_rama_renombrada_checkout\n",
      "  rama_acceso_rapido_checkout_renombrada_checkout\n",
      "  rama_acceso_rapido_switch\n",
      "##############################################################################################################\n",
      "\n"
     ]
    }
   ],
   "source": [
    "comando = 'git checkout {rama}'.format(rama=nombre_rama_remota_copia_checkout)\n",
    "ejecutar_comando_git(comando)\n",
    "\n",
    "generar_archivos()\n",
    "ejecutar_comando_shell()"
   ]
  },
  {
   "cell_type": "code",
   "execution_count": 73,
   "id": "9b405222-61c6-426f-8edf-49d83352b5cd",
   "metadata": {
    "tags": []
   },
   "outputs": [
    {
     "name": "stdout",
     "output_type": "stream",
     "text": [
      "############################################# COMANDO A EJECUTAR #############################################\n",
      "git branch\n",
      "####################################### RESULTADO DE COMANDO EJECUTADO #######################################\n",
      "  main\n",
      "  multi_commits\n",
      "* multi_commits_copia_checkout\n",
      "  multi_commits_copia_switch\n",
      "  nueva_rama_renombrada_checkout\n",
      "  rama_acceso_rapido_checkout_renombrada_checkout\n",
      "  rama_acceso_rapido_switch\n",
      "##############################################################################################################\n",
      "\n"
     ]
    }
   ],
   "source": [
    "eliminar_archivos_directorio()\n",
    "ejecutar_comando_shell()"
   ]
  },
  {
   "cell_type": "markdown",
   "id": "ec2b7910-181d-4ad4-a3b9-85fe48458802",
   "metadata": {},
   "source": [
    "### RESTAURAR UN ARCHIVO ESPECIFICO"
   ]
  },
  {
   "cell_type": "code",
   "execution_count": 74,
   "id": "c18daf65-8f3e-428b-908a-1d2f6369052a",
   "metadata": {
    "tags": []
   },
   "outputs": [
    {
     "name": "stdout",
     "output_type": "stream",
     "text": [
      "############################################# COMANDO A EJECUTAR #############################################\n",
      "git restore README.md\n",
      "####################################### RESULTADO DE COMANDO EJECUTADO #######################################\n",
      "##############################################################################################################\n",
      "\n",
      "############################################# COMANDO A EJECUTAR #############################################\n",
      "git status\n",
      "####################################### RESULTADO DE COMANDO EJECUTADO #######################################\n",
      "On branch multi_commits_copia_checkout\n",
      "Your branch is up to date with 'origin/multi_commits'.\n",
      "\n",
      "Changes not staged for commit:\n",
      "  (use \"git add/rm <file>...\" to update what will be committed)\n",
      "  (use \"git restore <file>...\" to discard changes in working directory)\n",
      "\tdeleted:    LICENSE\n",
      "\tdeleted:    archivo.csv\n",
      "\tdeleted:    archivo.docx\n",
      "\tdeleted:    archivo.pdf\n",
      "\tdeleted:    archivo.pptx\n",
      "\tdeleted:    archivo.rtf\n",
      "\tdeleted:    archivo.xlsx\n",
      "\tdeleted:    config.json\n",
      "\tdeleted:    env.sh\n",
      "\tdeleted:    imagen.bmp\n",
      "\tdeleted:    index.html\n",
      "\tdeleted:    requirements.txt\n",
      "\n",
      "no changes added to commit (use \"git add\" and/or \"git commit -a\")\n",
      "##############################################################################################################\n",
      "\n",
      "############################################# COMANDO A EJECUTAR #############################################\n",
      "git branch\n",
      "####################################### RESULTADO DE COMANDO EJECUTADO #######################################\n",
      "  main\n",
      "  multi_commits\n",
      "* multi_commits_copia_checkout\n",
      "  multi_commits_copia_switch\n",
      "  nueva_rama_renombrada_checkout\n",
      "  rama_acceso_rapido_checkout_renombrada_checkout\n",
      "  rama_acceso_rapido_switch\n",
      "##############################################################################################################\n",
      "\n"
     ]
    }
   ],
   "source": [
    "comando = 'git restore README.md'\n",
    "ejecutar_comando_git(comando)\n",
    "\n",
    "comando = 'git status'\n",
    "ejecutar_comando_git(comando)\n",
    "\n",
    "ejecutar_comando_shell()"
   ]
  },
  {
   "cell_type": "markdown",
   "id": "8874b7b6-3f5e-4d30-89b7-1e105bef1b3e",
   "metadata": {},
   "source": [
    "### RESTAURAR TODOS LOS ARCHIVOS AL MISMO TIEMPO"
   ]
  },
  {
   "cell_type": "code",
   "execution_count": 75,
   "id": "39858306-067e-4400-84ef-5d07916e6dcf",
   "metadata": {
    "tags": []
   },
   "outputs": [
    {
     "name": "stdout",
     "output_type": "stream",
     "text": [
      "############################################# COMANDO A EJECUTAR #############################################\n",
      "git restore .\n",
      "####################################### RESULTADO DE COMANDO EJECUTADO #######################################\n",
      "##############################################################################################################\n",
      "\n",
      "############################################# COMANDO A EJECUTAR #############################################\n",
      "git status\n",
      "####################################### RESULTADO DE COMANDO EJECUTADO #######################################\n",
      "On branch multi_commits_copia_checkout\n",
      "Your branch is up to date with 'origin/multi_commits'.\n",
      "\n",
      "nothing to commit, working tree clean\n",
      "##############################################################################################################\n",
      "\n",
      "############################################# COMANDO A EJECUTAR #############################################\n",
      "git branch\n",
      "####################################### RESULTADO DE COMANDO EJECUTADO #######################################\n",
      "  main\n",
      "  multi_commits\n",
      "* multi_commits_copia_checkout\n",
      "  multi_commits_copia_switch\n",
      "  nueva_rama_renombrada_checkout\n",
      "  rama_acceso_rapido_checkout_renombrada_checkout\n",
      "  rama_acceso_rapido_switch\n",
      "##############################################################################################################\n",
      "\n"
     ]
    }
   ],
   "source": [
    "comando = 'git restore .'\n",
    "ejecutar_comando_git(comando)\n",
    "\n",
    "comando = 'git status'\n",
    "ejecutar_comando_git(comando)\n",
    "\n",
    "ejecutar_comando_shell()"
   ]
  },
  {
   "cell_type": "markdown",
   "id": "3fac4a59-2441-43ec-8a45-8491b8d9d557",
   "metadata": {},
   "source": [
    "# <center> PUBLICAR UNA RAMA LOCAL QUE NO EXISTE EN REMOTO A UN REPOSITORIO GIT <br>https://github.com/JorgeCardona/comandos_git</br> </center>\n"
   ]
  },
  {
   "cell_type": "code",
   "execution_count": 76,
   "id": "ebb1e80d-c652-4946-9c88-f50578118fd6",
   "metadata": {
    "tags": []
   },
   "outputs": [
    {
     "name": "stdout",
     "output_type": "stream",
     "text": [
      "############################################# COMANDO A EJECUTAR #############################################\n",
      "git push --set-upstream origin multi_commits_copia_checkout\n",
      "####################################### RESULTADO DE COMANDO EJECUTADO #######################################\n",
      "Branch 'multi_commits_copia_checkout' set up to track remote branch 'multi_commits_copia_checkout' from 'origin'.\n",
      "##############################################################################################################\n",
      "\n",
      "############################################# COMANDO A EJECUTAR #############################################\n",
      "git branch -a\n",
      "####################################### RESULTADO DE COMANDO EJECUTADO #######################################\n",
      "  main\n",
      "  multi_commits\n",
      "* multi_commits_copia_checkout\n",
      "  multi_commits_copia_switch\n",
      "  nueva_rama_renombrada_checkout\n",
      "  rama_acceso_rapido_checkout_renombrada_checkout\n",
      "  rama_acceso_rapido_switch\n",
      "  remotes/origin/HEAD -> origin/main\n",
      "  remotes/origin/bisect_branch\n",
      "  remotes/origin/commit_branch\n",
      "  remotes/origin/main\n",
      "  remotes/origin/multi_commits\n",
      "  remotes/origin/multi_commits_copia_checkout\n",
      "##############################################################################################################\n",
      "\n"
     ]
    }
   ],
   "source": [
    "comando = 'git push --set-upstream origin {nombre_rama_remota_copia_checkout}'.format(nombre_rama_remota_copia_checkout=nombre_rama_remota_copia_checkout)\n",
    "ejecutar_comando_git(comando)\n",
    "\n",
    "comando = 'git branch -a'\n",
    "ejecutar_comando_git(comando)"
   ]
  },
  {
   "cell_type": "markdown",
   "id": "f940966c-8f73-4224-907b-8360e3b8f599",
   "metadata": {},
   "source": [
    "# <center> ADICIONAR ARCHIVOS NUEVOS A LA RAMA</center>"
   ]
  },
  {
   "cell_type": "code",
   "execution_count": 77,
   "id": "2e71c11d-b2be-4529-9051-9f436105412d",
   "metadata": {
    "scrolled": true,
    "tags": []
   },
   "outputs": [
    {
     "name": "stdout",
     "output_type": "stream",
     "text": [
      "lista_de_archivos = ['info.txt', 'Dockerfile', 'Manifest.yaml', 'imagen.png', 'main.py', 'connection.java', 'calculos.c', 'addon.php', 'utils.gif', 'query.sql', 'dataset.avro', 'link.vs']\n",
      "############################################# COMANDO A EJECUTAR #############################################\n",
      "echo 1684029070.13126 >> info.txt\n",
      "####################################### RESULTADO DE COMANDO EJECUTADO #######################################\n",
      "##############################################################################################################\n",
      "\n",
      "############################################# COMANDO A EJECUTAR #############################################\n",
      "echo 1684029070.2429 >> Dockerfile\n",
      "####################################### RESULTADO DE COMANDO EJECUTADO #######################################\n",
      "##############################################################################################################\n",
      "\n",
      "############################################# COMANDO A EJECUTAR #############################################\n",
      "echo 1684029070.367298 >> Manifest.yaml\n",
      "####################################### RESULTADO DE COMANDO EJECUTADO #######################################\n",
      "##############################################################################################################\n",
      "\n",
      "############################################# COMANDO A EJECUTAR #############################################\n",
      "echo 1684029070.47669 >> imagen.png\n",
      "####################################### RESULTADO DE COMANDO EJECUTADO #######################################\n",
      "##############################################################################################################\n",
      "\n",
      "############################################# COMANDO A EJECUTAR #############################################\n",
      "echo 1684029070.601048 >> main.py\n",
      "####################################### RESULTADO DE COMANDO EJECUTADO #######################################\n",
      "##############################################################################################################\n",
      "\n",
      "############################################# COMANDO A EJECUTAR #############################################\n",
      "echo 1684029070.71086 >> connection.java\n",
      "####################################### RESULTADO DE COMANDO EJECUTADO #######################################\n",
      "##############################################################################################################\n",
      "\n",
      "############################################# COMANDO A EJECUTAR #############################################\n",
      "echo 1684029070.836992 >> calculos.c\n",
      "####################################### RESULTADO DE COMANDO EJECUTADO #######################################\n",
      "##############################################################################################################\n",
      "\n",
      "############################################# COMANDO A EJECUTAR #############################################\n",
      "echo 1684029070.945455 >> addon.php\n",
      "####################################### RESULTADO DE COMANDO EJECUTADO #######################################\n",
      "##############################################################################################################\n",
      "\n",
      "############################################# COMANDO A EJECUTAR #############################################\n",
      "echo 1684029071.070624 >> utils.gif\n",
      "####################################### RESULTADO DE COMANDO EJECUTADO #######################################\n",
      "##############################################################################################################\n",
      "\n",
      "############################################# COMANDO A EJECUTAR #############################################\n",
      "echo 1684029071.180107 >> query.sql\n",
      "####################################### RESULTADO DE COMANDO EJECUTADO #######################################\n",
      "##############################################################################################################\n",
      "\n",
      "############################################# COMANDO A EJECUTAR #############################################\n",
      "echo 1684029071.290995 >> dataset.avro\n",
      "####################################### RESULTADO DE COMANDO EJECUTADO #######################################\n",
      "##############################################################################################################\n",
      "\n",
      "############################################# COMANDO A EJECUTAR #############################################\n",
      "echo 1684029071.415063 >> link.vs\n",
      "####################################### RESULTADO DE COMANDO EJECUTADO #######################################\n",
      "##############################################################################################################\n",
      "\n"
     ]
    },
    {
     "data": {
      "text/plain": [
       "['info.txt',\n",
       " 'Dockerfile',\n",
       " 'Manifest.yaml',\n",
       " 'imagen.png',\n",
       " 'main.py',\n",
       " 'connection.java',\n",
       " 'calculos.c',\n",
       " 'addon.php',\n",
       " 'utils.gif',\n",
       " 'query.sql',\n",
       " 'dataset.avro',\n",
       " 'link.vs']"
      ]
     },
     "execution_count": 77,
     "metadata": {},
     "output_type": "execute_result"
    }
   ],
   "source": [
    "generar_archivos()"
   ]
  },
  {
   "cell_type": "markdown",
   "id": "4a76c160-71f3-4614-9623-47db78fafc0d",
   "metadata": {},
   "source": [
    "# SUBIR NUEVOS ARCHIVOS A UNA RAMA DEL REPOSITORIO  <br>https://github.com/JorgeCardona/comandos_git</br> "
   ]
  },
  {
   "cell_type": "code",
   "execution_count": 78,
   "id": "7ee35dc3-1d4b-4dee-8e4f-2d048d5b78e6",
   "metadata": {
    "scrolled": true,
    "tags": []
   },
   "outputs": [
    {
     "name": "stdout",
     "output_type": "stream",
     "text": [
      "############################################# COMANDO A EJECUTAR #############################################\n",
      "git add .\n",
      "####################################### RESULTADO DE COMANDO EJECUTADO #######################################\n",
      "##############################################################################################################\n",
      "\n",
      "############################################# COMANDO A EJECUTAR #############################################\n",
      "git commit -m \"adicionados archivos nuevos\"\n",
      "####################################### RESULTADO DE COMANDO EJECUTADO #######################################\n",
      "[multi_commits_copia_checkout 8bafc39] adicionados archivos nuevos\n",
      " 12 files changed, 12 insertions(+)\n",
      " create mode 100644 Dockerfile\n",
      " create mode 100644 Manifest.yaml\n",
      " create mode 100644 addon.php\n",
      " create mode 100644 calculos.c\n",
      " create mode 100644 connection.java\n",
      " create mode 100644 dataset.avro\n",
      " create mode 100644 imagen.png\n",
      " create mode 100644 info.txt\n",
      " create mode 100644 link.vs\n",
      " create mode 100644 main.py\n",
      " create mode 100644 query.sql\n",
      " create mode 100644 utils.gif\n",
      "##############################################################################################################\n",
      "\n",
      "############################################# COMANDO A EJECUTAR #############################################\n",
      "git status\n",
      "####################################### RESULTADO DE COMANDO EJECUTADO #######################################\n",
      "On branch multi_commits_copia_checkout\n",
      "Your branch is ahead of 'origin/multi_commits_copia_checkout' by 1 commit.\n",
      "  (use \"git push\" to publish your local commits)\n",
      "\n",
      "nothing to commit, working tree clean\n",
      "##############################################################################################################\n",
      "\n",
      "############################################# COMANDO A EJECUTAR #############################################\n",
      "git branch\n",
      "####################################### RESULTADO DE COMANDO EJECUTADO #######################################\n",
      "  main\n",
      "  multi_commits\n",
      "* multi_commits_copia_checkout\n",
      "  multi_commits_copia_switch\n",
      "  nueva_rama_renombrada_checkout\n",
      "  rama_acceso_rapido_checkout_renombrada_checkout\n",
      "  rama_acceso_rapido_switch\n",
      "##############################################################################################################\n",
      "\n"
     ]
    }
   ],
   "source": [
    "comando = 'git add .'\n",
    "ejecutar_comando_git(comando)\n",
    "\n",
    "comando = 'git commit -m \"adicionados archivos nuevos\"'\n",
    "ejecutar_comando_git(comando)\n",
    "\n",
    "comando = 'git status'\n",
    "ejecutar_comando_git(comando)\n",
    "\n",
    "ejecutar_comando_shell()"
   ]
  },
  {
   "cell_type": "code",
   "execution_count": 79,
   "id": "00154781-f37b-42d5-9ce0-334b0c479d0c",
   "metadata": {
    "tags": []
   },
   "outputs": [
    {
     "name": "stdout",
     "output_type": "stream",
     "text": [
      "############################################# COMANDO A EJECUTAR #############################################\n",
      "git push origin\n",
      "####################################### RESULTADO DE COMANDO EJECUTADO #######################################\n",
      "##############################################################################################################\n",
      "\n",
      "############################################# COMANDO A EJECUTAR #############################################\n",
      "git branch\n",
      "####################################### RESULTADO DE COMANDO EJECUTADO #######################################\n",
      "  main\n",
      "  multi_commits\n",
      "* multi_commits_copia_checkout\n",
      "  multi_commits_copia_switch\n",
      "  nueva_rama_renombrada_checkout\n",
      "  rama_acceso_rapido_checkout_renombrada_checkout\n",
      "  rama_acceso_rapido_switch\n",
      "##############################################################################################################\n",
      "\n"
     ]
    }
   ],
   "source": [
    "# siempre origin para repositorios remotos\n",
    "comando = 'git push origin'\n",
    "ejecutar_comando_git(comando)\n",
    "\n",
    "ejecutar_comando_shell()"
   ]
  },
  {
   "cell_type": "markdown",
   "id": "52ab69e2-a9cd-4315-9f9d-c2e8808801ee",
   "metadata": {},
   "source": [
    "## ELIMINAR RAMA DE UN REPOSITORIO REMOTO <br>https://github.com/JorgeCardona/comandos_git</br> "
   ]
  },
  {
   "cell_type": "code",
   "execution_count": 80,
   "id": "f8839285-d396-4d65-a3ef-c6a1aa2e76c4",
   "metadata": {
    "tags": []
   },
   "outputs": [
    {
     "name": "stdout",
     "output_type": "stream",
     "text": [
      "############################################# COMANDO A EJECUTAR #############################################\n",
      "git push origin -d multi_commits_copia_checkout\n",
      "####################################### RESULTADO DE COMANDO EJECUTADO #######################################\n",
      "##############################################################################################################\n",
      "\n",
      "############################################# COMANDO A EJECUTAR #############################################\n",
      "git branch -a\n",
      "####################################### RESULTADO DE COMANDO EJECUTADO #######################################\n",
      "  main\n",
      "  multi_commits\n",
      "* multi_commits_copia_checkout\n",
      "  multi_commits_copia_switch\n",
      "  nueva_rama_renombrada_checkout\n",
      "  rama_acceso_rapido_checkout_renombrada_checkout\n",
      "  rama_acceso_rapido_switch\n",
      "  remotes/origin/HEAD -> origin/main\n",
      "  remotes/origin/bisect_branch\n",
      "  remotes/origin/commit_branch\n",
      "  remotes/origin/main\n",
      "  remotes/origin/multi_commits\n",
      "##############################################################################################################\n",
      "\n"
     ]
    }
   ],
   "source": [
    "comando = 'git push origin -d {nombre_rama_remota_copia_checkout}'.format(nombre_rama_remota_copia_checkout=nombre_rama_remota_copia_checkout)\n",
    "ejecutar_comando_git(comando)\n",
    "\n",
    "comando = 'git branch -a'\n",
    "ejecutar_comando_git(comando)"
   ]
  },
  {
   "cell_type": "markdown",
   "id": "f0e86df2-22b9-4a06-b9e0-8a63b2ad3507",
   "metadata": {},
   "source": [
    "### ELIMINAR RAMAS LOCALES QUE NO SE VAN A USAR MAS"
   ]
  },
  {
   "cell_type": "code",
   "execution_count": 81,
   "id": "6509d510-3d28-4f75-922d-74189f634df0",
   "metadata": {
    "scrolled": true,
    "tags": []
   },
   "outputs": [
    {
     "name": "stdout",
     "output_type": "stream",
     "text": [
      "############################################# COMANDO A EJECUTAR #############################################\n",
      "git checkout  main\n",
      "####################################### RESULTADO DE COMANDO EJECUTADO #######################################\n",
      "Your branch is behind 'origin/main' by 3 commits, and can be fast-forwarded.\n",
      "  (use \"git pull\" to update your local branch)\n",
      "##############################################################################################################\n",
      "\n",
      "############################################# COMANDO A EJECUTAR #############################################\n",
      "git branch -D multi_commits\n",
      "####################################### RESULTADO DE COMANDO EJECUTADO #######################################\n",
      "Deleted branch multi_commits (was 286ebcf).\n",
      "##############################################################################################################\n",
      "\n",
      "############################################# COMANDO A EJECUTAR #############################################\n",
      "git branch -D rama_acceso_rapido_switch\n",
      "####################################### RESULTADO DE COMANDO EJECUTADO #######################################\n",
      "Deleted branch rama_acceso_rapido_switch (was c0925c2).\n",
      "##############################################################################################################\n",
      "\n",
      "############################################# COMANDO A EJECUTAR #############################################\n",
      "git branch -D multi_commits_copia_checkout\n",
      "####################################### RESULTADO DE COMANDO EJECUTADO #######################################\n",
      "Deleted branch multi_commits_copia_checkout (was 8bafc39).\n",
      "##############################################################################################################\n",
      "\n",
      "############################################# COMANDO A EJECUTAR #############################################\n",
      "git branch -D multi_commits_copia_switch\n",
      "####################################### RESULTADO DE COMANDO EJECUTADO #######################################\n",
      "Deleted branch multi_commits_copia_switch (was 286ebcf).\n",
      "##############################################################################################################\n",
      "\n",
      "############################################# COMANDO A EJECUTAR #############################################\n",
      "git branch -D nueva_rama_renombrada_checkout\n",
      "####################################### RESULTADO DE COMANDO EJECUTADO #######################################\n",
      "Deleted branch nueva_rama_renombrada_checkout (was c0925c2).\n",
      "##############################################################################################################\n",
      "\n",
      "############################################# COMANDO A EJECUTAR #############################################\n",
      "git branch -D rama_acceso_rapido_checkout_renombrada_checkout\n",
      "####################################### RESULTADO DE COMANDO EJECUTADO #######################################\n",
      "Deleted branch rama_acceso_rapido_checkout_renombrada_checkout (was c0925c2).\n",
      "##############################################################################################################\n",
      "\n",
      "############################################# COMANDO A EJECUTAR #############################################\n",
      "git branch\n",
      "####################################### RESULTADO DE COMANDO EJECUTADO #######################################\n",
      "* main\n",
      "##############################################################################################################\n",
      "\n"
     ]
    }
   ],
   "source": [
    "lista_ramas_a_eliminar = [nombre_rama_remota, nombre_rama_switch, nombre_rama_remota_copia_checkout, nombre_rama_remota_copia_switch, nuevo_nombre_rama_renombrada_checkout, nuevo_nombre_rama_acceso_rapido_renombrada_checkout]\n",
    "\n",
    "comando = 'git checkout  {nombre_rama_principal}'.format(nombre_rama_principal=nombre_rama_principal)\n",
    "ejecutar_comando_git(comando)\n",
    "    \n",
    "for nombre_rama in lista_ramas_a_eliminar:\n",
    "    # elimina la rama\n",
    "    comando = 'git branch -D {nombre_rama}'.format(nombre_rama=nombre_rama)\n",
    "    ejecutar_comando_git(comando)\n",
    "    \n",
    "ejecutar_comando_shell()"
   ]
  },
  {
   "cell_type": "markdown",
   "id": "176b9538-c7ca-4f04-9101-222d2cadd98f",
   "metadata": {},
   "source": [
    "# <center> **ALIAS EN GIT**</center>"
   ]
  },
  {
   "cell_type": "markdown",
   "id": "c80082d8-b8b1-4d88-a472-e64cfea118a6",
   "metadata": {},
   "source": [
    "## EDITAR EL .gitconfig CON UN EDITOR DE TEXTO"
   ]
  },
  {
   "cell_type": "markdown",
   "id": "1454ef65-71e0-40e0-acf9-800e99c59d92",
   "metadata": {},
   "source": [
    "### LOCAL\n",
    "#### GITCONFIG DEL REPOSITORIO"
   ]
  },
  {
   "cell_type": "code",
   "execution_count": 82,
   "id": "32741646-1084-4f29-a20d-57feae1d0dd6",
   "metadata": {
    "tags": []
   },
   "outputs": [
    {
     "name": "stdout",
     "output_type": "stream",
     "text": [
      "############################################# COMANDO A EJECUTAR #############################################\n",
      "git config --local --edit\n",
      "####################################### RESULTADO DE COMANDO EJECUTADO #######################################\n",
      "##############################################################################################################\n",
      "\n"
     ]
    }
   ],
   "source": [
    "abrir_git_config(tipo='local')"
   ]
  },
  {
   "cell_type": "markdown",
   "id": "9c9df6a6-7622-4985-af11-c1769807f0a4",
   "metadata": {},
   "source": [
    "### GLOBAL\n",
    "#### GITCONFIG DEL INSTALADOR DE LA APLICACION GIT"
   ]
  },
  {
   "cell_type": "code",
   "execution_count": 83,
   "id": "714b60d7-059e-404f-b033-3224b7c5ecd3",
   "metadata": {
    "tags": []
   },
   "outputs": [
    {
     "name": "stdout",
     "output_type": "stream",
     "text": [
      "############################################# COMANDO A EJECUTAR #############################################\n",
      "git config --global --edit\n",
      "####################################### RESULTADO DE COMANDO EJECUTADO #######################################\n",
      "##############################################################################################################\n",
      "\n"
     ]
    }
   ],
   "source": [
    "abrir_git_config(tipo='global')"
   ]
  },
  {
   "cell_type": "markdown",
   "id": "37252a01-27a0-40c0-8b7f-dfad9c9087e7",
   "metadata": {},
   "source": [
    "# CREAR ALIAS DESDE CONSOLA"
   ]
  },
  {
   "cell_type": "markdown",
   "id": "9be1020b-a734-45a8-8d47-aec5559192ce",
   "metadata": {},
   "source": [
    "### LOCAL"
   ]
  },
  {
   "cell_type": "code",
   "execution_count": 84,
   "id": "9d0dadd0-a054-435c-957c-247567739777",
   "metadata": {
    "scrolled": true,
    "tags": []
   },
   "outputs": [
    {
     "name": "stdout",
     "output_type": "stream",
     "text": [
      "VERIFICAR EL CONTENIDO DEL .gitconfig LOCAL\n",
      "############################################# COMANDO A EJECUTAR #############################################\n",
      "git config --local --list\n",
      "####################################### RESULTADO DE COMANDO EJECUTADO #######################################\n",
      "core.repositoryformatversion=0\n",
      "core.filemode=false\n",
      "core.bare=false\n",
      "core.logallrefupdates=true\n",
      "core.symlinks=false\n",
      "core.ignorecase=true\n",
      "remote.origin.url=https://github.com/JorgeCardona/comandos_git.git\n",
      "remote.origin.fetch=+refs/heads/*:refs/remotes/origin/*\n",
      "branch.main.remote=origin\n",
      "branch.main.merge=refs/heads/main\n",
      "##############################################################################################################\n",
      "\n"
     ]
    }
   ],
   "source": [
    "verificar_git_config(tipo='local')"
   ]
  },
  {
   "cell_type": "code",
   "execution_count": 85,
   "id": "a5c6fd39-50b4-4c2f-a40a-dd3a899b026c",
   "metadata": {
    "scrolled": true,
    "tags": []
   },
   "outputs": [
    {
     "name": "stdout",
     "output_type": "stream",
     "text": [
      "############################################# COMANDO A EJECUTAR #############################################\n",
      "git config --local alias.colocal checkout\n",
      "####################################### RESULTADO DE COMANDO EJECUTADO #######################################\n",
      "##############################################################################################################\n",
      "\n",
      "############################################# COMANDO A EJECUTAR #############################################\n",
      "git config --local alias.brlocal branch\n",
      "####################################### RESULTADO DE COMANDO EJECUTADO #######################################\n",
      "##############################################################################################################\n",
      "\n",
      "############################################# COMANDO A EJECUTAR #############################################\n",
      "git config --local alias.rlocal restore .\n",
      "####################################### RESULTADO DE COMANDO EJECUTADO #######################################\n",
      "##############################################################################################################\n",
      "\n",
      "############################################# COMANDO A EJECUTAR #############################################\n",
      "git config --local alias.loglocal log --oneline -3\n",
      "&&&&&&&&&&&&&&&&&&&&&&&&&&&&&&&&&&&&& SE HA GENERADO UNA EXCEPCION &&&&&&&&&&&&&&&&&&&&&&&&&&&&&&&&&&&&&&&\n",
      "EL COMANDO git config --local alias.loglocal log --oneline -3 NO SE PUDO EJECUTAR\n",
      "&&&&&&&&&&&&&&&&&&&&&&&&&&&&&&&&&&&&& FINAL DE EXCEPCION GENERADA &&&&&&&&&&&&&&&&&&&&&&&&&&&&&&&&&&&&&&&&\n",
      "############################################# COMANDO A EJECUTAR #############################################\n",
      "git config --local alias.aalocal add \n",
      "####################################### RESULTADO DE COMANDO EJECUTADO #######################################\n",
      "##############################################################################################################\n",
      "\n",
      "VERIFICAR EL CONTENIDO DEL .gitconfig LOCAL\n",
      "############################################# COMANDO A EJECUTAR #############################################\n",
      "git config --local --list\n",
      "####################################### RESULTADO DE COMANDO EJECUTADO #######################################\n",
      "core.repositoryformatversion=0\n",
      "core.filemode=false\n",
      "core.bare=false\n",
      "core.logallrefupdates=true\n",
      "core.symlinks=false\n",
      "core.ignorecase=true\n",
      "remote.origin.url=https://github.com/JorgeCardona/comandos_git.git\n",
      "remote.origin.fetch=+refs/heads/*:refs/remotes/origin/*\n",
      "branch.main.remote=origin\n",
      "branch.main.merge=refs/heads/main\n",
      "alias.colocal=checkout\n",
      "alias.brlocal=branch\n",
      "alias.rlocal=restore\n",
      "alias.aalocal=add\n",
      "##############################################################################################################\n",
      "\n",
      "############################################# COMANDO A EJECUTAR #############################################\n",
      "git config --local --edit\n",
      "####################################### RESULTADO DE COMANDO EJECUTADO #######################################\n",
      "##############################################################################################################\n",
      "\n"
     ]
    }
   ],
   "source": [
    "crear_alias_y_validarlos(tipo='local')\n",
    "abrir_git_config(tipo='local')"
   ]
  },
  {
   "cell_type": "markdown",
   "id": "b88dfc79-f18c-4540-afdb-61447632d17b",
   "metadata": {},
   "source": [
    "### GLOBAL"
   ]
  },
  {
   "cell_type": "code",
   "execution_count": 86,
   "id": "69aae06f-018d-4237-8a77-8908ecf114f6",
   "metadata": {
    "scrolled": true,
    "tags": []
   },
   "outputs": [
    {
     "name": "stdout",
     "output_type": "stream",
     "text": [
      "VERIFICAR EL CONTENIDO DEL .gitconfig GLOBAL\n",
      "############################################# COMANDO A EJECUTAR #############################################\n",
      "git config --global --list\n",
      "####################################### RESULTADO DE COMANDO EJECUTADO #######################################\n",
      "core.autocrlf=true\n",
      "core.editor=notepad\n",
      "core.quotepath=false\n",
      "user.name=jorgecardona\n",
      "user.email=jorgecardona@utp.edu.co\n",
      "gui.encoding=utf-8\n",
      "i18n.commit.encoding=utf-8\n",
      "i18n.logoutputencoding=utf-8\n",
      "alias.co=checkout\n",
      "alias.br=branch\n",
      "alias.ci=commit\n",
      "alias.st=status\n",
      "alias.aliases=config --get-regexp '^alias\\.'\n",
      "##############################################################################################################\n",
      "\n"
     ]
    }
   ],
   "source": [
    "verificar_git_config(tipo='global')"
   ]
  },
  {
   "cell_type": "code",
   "execution_count": 87,
   "id": "63e7cea9-00e9-4dd0-bd65-6c664823db8e",
   "metadata": {
    "scrolled": true,
    "tags": []
   },
   "outputs": [
    {
     "name": "stdout",
     "output_type": "stream",
     "text": [
      "############################################# COMANDO A EJECUTAR #############################################\n",
      "git config --global alias.co checkout\n",
      "####################################### RESULTADO DE COMANDO EJECUTADO #######################################\n",
      "##############################################################################################################\n",
      "\n",
      "############################################# COMANDO A EJECUTAR #############################################\n",
      "git config --global alias.br branch\n",
      "####################################### RESULTADO DE COMANDO EJECUTADO #######################################\n",
      "##############################################################################################################\n",
      "\n",
      "############################################# COMANDO A EJECUTAR #############################################\n",
      "git config --global alias.ci commit\n",
      "####################################### RESULTADO DE COMANDO EJECUTADO #######################################\n",
      "##############################################################################################################\n",
      "\n",
      "############################################# COMANDO A EJECUTAR #############################################\n",
      "git config --global alias.st status\n",
      "####################################### RESULTADO DE COMANDO EJECUTADO #######################################\n",
      "##############################################################################################################\n",
      "\n",
      "############################################# COMANDO A EJECUTAR #############################################\n",
      "git config --global alias.aliases \"config --get-regexp '^alias\\.'\"\n",
      "####################################### RESULTADO DE COMANDO EJECUTADO #######################################\n",
      "##############################################################################################################\n",
      "\n",
      "VERIFICAR EL CONTENIDO DEL .gitconfig GLOBAL\n",
      "############################################# COMANDO A EJECUTAR #############################################\n",
      "git config --global --list\n",
      "####################################### RESULTADO DE COMANDO EJECUTADO #######################################\n",
      "core.autocrlf=true\n",
      "core.editor=notepad\n",
      "core.quotepath=false\n",
      "user.name=jorgecardona\n",
      "user.email=jorgecardona@utp.edu.co\n",
      "gui.encoding=utf-8\n",
      "i18n.commit.encoding=utf-8\n",
      "i18n.logoutputencoding=utf-8\n",
      "alias.co=checkout\n",
      "alias.br=branch\n",
      "alias.ci=commit\n",
      "alias.st=status\n",
      "alias.aliases=config --get-regexp '^alias\\.'\n",
      "##############################################################################################################\n",
      "\n",
      "############################################# COMANDO A EJECUTAR #############################################\n",
      "git config --global alias.co checkout\n",
      "####################################### RESULTADO DE COMANDO EJECUTADO #######################################\n",
      "##############################################################################################################\n",
      "\n",
      "############################################# COMANDO A EJECUTAR #############################################\n",
      "git config --global alias.br branch\n",
      "####################################### RESULTADO DE COMANDO EJECUTADO #######################################\n",
      "##############################################################################################################\n",
      "\n",
      "############################################# COMANDO A EJECUTAR #############################################\n",
      "git config --global alias.ci commit\n",
      "####################################### RESULTADO DE COMANDO EJECUTADO #######################################\n",
      "##############################################################################################################\n",
      "\n",
      "############################################# COMANDO A EJECUTAR #############################################\n",
      "git config --global alias.st status\n",
      "####################################### RESULTADO DE COMANDO EJECUTADO #######################################\n",
      "##############################################################################################################\n",
      "\n",
      "############################################# COMANDO A EJECUTAR #############################################\n",
      "git config --global alias.aliases \"config --get-regexp '^alias\\.'\"\n",
      "####################################### RESULTADO DE COMANDO EJECUTADO #######################################\n",
      "##############################################################################################################\n",
      "\n",
      "VERIFICAR EL CONTENIDO DEL .gitconfig GLOBAL\n",
      "############################################# COMANDO A EJECUTAR #############################################\n",
      "git config --global --list\n",
      "####################################### RESULTADO DE COMANDO EJECUTADO #######################################\n",
      "core.autocrlf=true\n",
      "core.editor=notepad\n",
      "core.quotepath=false\n",
      "user.name=jorgecardona\n",
      "user.email=jorgecardona@utp.edu.co\n",
      "gui.encoding=utf-8\n",
      "i18n.commit.encoding=utf-8\n",
      "i18n.logoutputencoding=utf-8\n",
      "alias.co=checkout\n",
      "alias.br=branch\n",
      "alias.ci=commit\n",
      "alias.st=status\n",
      "alias.aliases=config --get-regexp '^alias\\.'\n",
      "##############################################################################################################\n",
      "\n",
      "############################################# COMANDO A EJECUTAR #############################################\n",
      "git config --global alias.co checkout\n",
      "####################################### RESULTADO DE COMANDO EJECUTADO #######################################\n",
      "##############################################################################################################\n",
      "\n",
      "############################################# COMANDO A EJECUTAR #############################################\n",
      "git config --global alias.br branch\n",
      "####################################### RESULTADO DE COMANDO EJECUTADO #######################################\n",
      "##############################################################################################################\n",
      "\n",
      "############################################# COMANDO A EJECUTAR #############################################\n",
      "git config --global alias.ci commit\n",
      "####################################### RESULTADO DE COMANDO EJECUTADO #######################################\n",
      "##############################################################################################################\n",
      "\n",
      "############################################# COMANDO A EJECUTAR #############################################\n",
      "git config --global alias.st status\n",
      "####################################### RESULTADO DE COMANDO EJECUTADO #######################################\n",
      "##############################################################################################################\n",
      "\n",
      "############################################# COMANDO A EJECUTAR #############################################\n",
      "git config --global alias.aliases \"config --get-regexp '^alias\\.'\"\n",
      "####################################### RESULTADO DE COMANDO EJECUTADO #######################################\n",
      "##############################################################################################################\n",
      "\n",
      "VERIFICAR EL CONTENIDO DEL .gitconfig GLOBAL\n",
      "############################################# COMANDO A EJECUTAR #############################################\n",
      "git config --global --list\n",
      "####################################### RESULTADO DE COMANDO EJECUTADO #######################################\n",
      "core.autocrlf=true\n",
      "core.editor=notepad\n",
      "core.quotepath=false\n",
      "user.name=jorgecardona\n",
      "user.email=jorgecardona@utp.edu.co\n",
      "gui.encoding=utf-8\n",
      "i18n.commit.encoding=utf-8\n",
      "i18n.logoutputencoding=utf-8\n",
      "alias.co=checkout\n",
      "alias.br=branch\n",
      "alias.ci=commit\n",
      "alias.st=status\n",
      "alias.aliases=config --get-regexp '^alias\\.'\n",
      "##############################################################################################################\n",
      "\n",
      "############################################# COMANDO A EJECUTAR #############################################\n",
      "git config --global alias.co checkout\n",
      "####################################### RESULTADO DE COMANDO EJECUTADO #######################################\n",
      "##############################################################################################################\n",
      "\n",
      "############################################# COMANDO A EJECUTAR #############################################\n",
      "git config --global alias.br branch\n",
      "####################################### RESULTADO DE COMANDO EJECUTADO #######################################\n",
      "##############################################################################################################\n",
      "\n",
      "############################################# COMANDO A EJECUTAR #############################################\n",
      "git config --global alias.ci commit\n",
      "####################################### RESULTADO DE COMANDO EJECUTADO #######################################\n",
      "##############################################################################################################\n",
      "\n",
      "############################################# COMANDO A EJECUTAR #############################################\n",
      "git config --global alias.st status\n",
      "####################################### RESULTADO DE COMANDO EJECUTADO #######################################\n",
      "##############################################################################################################\n",
      "\n",
      "############################################# COMANDO A EJECUTAR #############################################\n",
      "git config --global alias.aliases \"config --get-regexp '^alias\\.'\"\n",
      "####################################### RESULTADO DE COMANDO EJECUTADO #######################################\n",
      "##############################################################################################################\n",
      "\n",
      "VERIFICAR EL CONTENIDO DEL .gitconfig GLOBAL\n",
      "############################################# COMANDO A EJECUTAR #############################################\n",
      "git config --global --list\n",
      "####################################### RESULTADO DE COMANDO EJECUTADO #######################################\n",
      "core.autocrlf=true\n",
      "core.editor=notepad\n",
      "core.quotepath=false\n",
      "user.name=jorgecardona\n",
      "user.email=jorgecardona@utp.edu.co\n",
      "gui.encoding=utf-8\n",
      "i18n.commit.encoding=utf-8\n",
      "i18n.logoutputencoding=utf-8\n",
      "alias.co=checkout\n",
      "alias.br=branch\n",
      "alias.ci=commit\n",
      "alias.st=status\n",
      "alias.aliases=config --get-regexp '^alias\\.'\n",
      "##############################################################################################################\n",
      "\n",
      "############################################# COMANDO A EJECUTAR #############################################\n",
      "git config --global alias.co checkout\n",
      "####################################### RESULTADO DE COMANDO EJECUTADO #######################################\n",
      "##############################################################################################################\n",
      "\n",
      "############################################# COMANDO A EJECUTAR #############################################\n",
      "git config --global alias.br branch\n",
      "####################################### RESULTADO DE COMANDO EJECUTADO #######################################\n",
      "##############################################################################################################\n",
      "\n",
      "############################################# COMANDO A EJECUTAR #############################################\n",
      "git config --global alias.ci commit\n",
      "####################################### RESULTADO DE COMANDO EJECUTADO #######################################\n",
      "##############################################################################################################\n",
      "\n",
      "############################################# COMANDO A EJECUTAR #############################################\n",
      "git config --global alias.st status\n",
      "####################################### RESULTADO DE COMANDO EJECUTADO #######################################\n",
      "##############################################################################################################\n",
      "\n",
      "############################################# COMANDO A EJECUTAR #############################################\n",
      "git config --global alias.aliases \"config --get-regexp '^alias\\.'\"\n",
      "####################################### RESULTADO DE COMANDO EJECUTADO #######################################\n",
      "##############################################################################################################\n",
      "\n",
      "VERIFICAR EL CONTENIDO DEL .gitconfig GLOBAL\n",
      "############################################# COMANDO A EJECUTAR #############################################\n",
      "git config --global --list\n",
      "####################################### RESULTADO DE COMANDO EJECUTADO #######################################\n",
      "core.autocrlf=true\n",
      "core.editor=notepad\n",
      "core.quotepath=false\n",
      "user.name=jorgecardona\n",
      "user.email=jorgecardona@utp.edu.co\n",
      "gui.encoding=utf-8\n",
      "i18n.commit.encoding=utf-8\n",
      "i18n.logoutputencoding=utf-8\n",
      "alias.co=checkout\n",
      "alias.br=branch\n",
      "alias.ci=commit\n",
      "alias.st=status\n",
      "alias.aliases=config --get-regexp '^alias\\.'\n",
      "##############################################################################################################\n",
      "\n",
      "############################################# COMANDO A EJECUTAR #############################################\n",
      "git config --global --edit\n",
      "####################################### RESULTADO DE COMANDO EJECUTADO #######################################\n",
      "##############################################################################################################\n",
      "\n"
     ]
    }
   ],
   "source": [
    "for numero in range(5):\n",
    "    crear_alias_y_validarlos(tipo='global')\n",
    "abrir_git_config(tipo='global')"
   ]
  },
  {
   "cell_type": "markdown",
   "id": "de00cdca-67e0-4900-8fd0-b30f5457da8c",
   "metadata": {},
   "source": [
    "## VALIDAR EL ALIAS"
   ]
  },
  {
   "cell_type": "code",
   "execution_count": 89,
   "id": "470d4365-73a2-4b33-8b33-519e8def6061",
   "metadata": {
    "tags": []
   },
   "outputs": [
    {
     "name": "stdout",
     "output_type": "stream",
     "text": [
      "############################################# COMANDO A EJECUTAR #############################################\n",
      "git aliases\n",
      "####################################### RESULTADO DE COMANDO EJECUTADO #######################################\n",
      "alias.co checkout\n",
      "alias.br branch\n",
      "alias.ci commit\n",
      "alias.st status\n",
      "alias.aliases config --get-regexp '^alias\\.'\n",
      "alias.colocal checkout\n",
      "alias.brlocal branch\n",
      "alias.rlocal restore\n",
      "alias.aalocal add\n",
      "##############################################################################################################\n",
      "\n"
     ]
    }
   ],
   "source": [
    "# lista los alias\n",
    "comando = 'git aliases'\n",
    "ejecutar_comando_git(comando)"
   ]
  },
  {
   "cell_type": "code",
   "execution_count": 90,
   "id": "d32aab43-131b-4723-890a-862aa84442ca",
   "metadata": {
    "scrolled": true,
    "tags": []
   },
   "outputs": [
    {
     "name": "stdout",
     "output_type": "stream",
     "text": [
      "############################################# COMANDO A EJECUTAR #############################################\n",
      "git st\n",
      "####################################### RESULTADO DE COMANDO EJECUTADO #######################################\n",
      "On branch main\n",
      "Your branch is behind 'origin/main' by 3 commits, and can be fast-forwarded.\n",
      "  (use \"git pull\" to update your local branch)\n",
      "\n",
      "nothing to commit, working tree clean\n",
      "##############################################################################################################\n",
      "\n"
     ]
    }
   ],
   "source": [
    "comando = 'git st'\n",
    "ejecutar_comando_git(comando)"
   ]
  },
  {
   "cell_type": "markdown",
   "id": "ea7e4834-5f0d-4ed6-a288-4f119a84b7ad",
   "metadata": {},
   "source": [
    "# ELIMINAR UN ALIAS"
   ]
  },
  {
   "cell_type": "markdown",
   "id": "72f95e7c-6bad-465b-a2df-116e8f4b6aa9",
   "metadata": {},
   "source": [
    "### LOCAL"
   ]
  },
  {
   "cell_type": "code",
   "execution_count": 91,
   "id": "d9b5281e-7cd7-438d-8e25-ab412ab07b7a",
   "metadata": {
    "tags": []
   },
   "outputs": [
    {
     "name": "stdout",
     "output_type": "stream",
     "text": [
      "############################################# COMANDO A EJECUTAR #############################################\n",
      "git config --local --unset alias.st\n",
      "&&&&&&&&&&&&&&&&&&&&&&&&&&&&&&&&&&&&& SE HA GENERADO UNA EXCEPCION &&&&&&&&&&&&&&&&&&&&&&&&&&&&&&&&&&&&&&&\n",
      "EL COMANDO git config --local --unset alias.st NO SE PUDO EJECUTAR\n",
      "&&&&&&&&&&&&&&&&&&&&&&&&&&&&&&&&&&&&& FINAL DE EXCEPCION GENERADA &&&&&&&&&&&&&&&&&&&&&&&&&&&&&&&&&&&&&&&&\n",
      "VERIFICAR EL CONTENIDO DEL .gitconfig LOCAL\n",
      "############################################# COMANDO A EJECUTAR #############################################\n",
      "git config --local --list\n",
      "####################################### RESULTADO DE COMANDO EJECUTADO #######################################\n",
      "core.repositoryformatversion=0\n",
      "core.filemode=false\n",
      "core.bare=false\n",
      "core.logallrefupdates=true\n",
      "core.symlinks=false\n",
      "core.ignorecase=true\n",
      "remote.origin.url=https://github.com/JorgeCardona/comandos_git.git\n",
      "remote.origin.fetch=+refs/heads/*:refs/remotes/origin/*\n",
      "branch.main.remote=origin\n",
      "branch.main.merge=refs/heads/main\n",
      "alias.colocal=checkout\n",
      "alias.brlocal=branch\n",
      "alias.rlocal=restore\n",
      "alias.aalocal=add\n",
      "##############################################################################################################\n",
      "\n"
     ]
    }
   ],
   "source": [
    "alias_a_aliminar = 'st'\n",
    "eliminar_alias_git(alias_a_aliminar, tipo='local')"
   ]
  },
  {
   "cell_type": "markdown",
   "id": "ca6c6997-dc5e-42da-ae1a-8175f64183df",
   "metadata": {},
   "source": [
    "### GLOBAL"
   ]
  },
  {
   "cell_type": "code",
   "execution_count": 92,
   "id": "f15d884d-c247-4aa5-9465-7e8d4c3c0bf1",
   "metadata": {
    "tags": []
   },
   "outputs": [
    {
     "name": "stdout",
     "output_type": "stream",
     "text": [
      "############################################# COMANDO A EJECUTAR #############################################\n",
      "git config --global --unset alias.st\n",
      "####################################### RESULTADO DE COMANDO EJECUTADO #######################################\n",
      "##############################################################################################################\n",
      "\n",
      "VERIFICAR EL CONTENIDO DEL .gitconfig GLOBAL\n",
      "############################################# COMANDO A EJECUTAR #############################################\n",
      "git config --global --list\n",
      "####################################### RESULTADO DE COMANDO EJECUTADO #######################################\n",
      "core.autocrlf=true\n",
      "core.editor=notepad\n",
      "core.quotepath=false\n",
      "user.name=jorgecardona\n",
      "user.email=jorgecardona@utp.edu.co\n",
      "gui.encoding=utf-8\n",
      "i18n.commit.encoding=utf-8\n",
      "i18n.logoutputencoding=utf-8\n",
      "alias.co=checkout\n",
      "alias.br=branch\n",
      "alias.ci=commit\n",
      "alias.aliases=config --get-regexp '^alias\\.'\n",
      "##############################################################################################################\n",
      "\n"
     ]
    }
   ],
   "source": [
    "alias_a_aliminar = 'st'\n",
    "eliminar_alias_git(alias_a_aliminar, tipo='global')"
   ]
  },
  {
   "cell_type": "markdown",
   "id": "924b2a33-2838-4561-8ae6-9c24f0bdf474",
   "metadata": {},
   "source": [
    "## VALIDAR EL ALIAS"
   ]
  },
  {
   "cell_type": "code",
   "execution_count": 93,
   "id": "c2f1affc-345c-4f2e-9d19-01e3a07b7fb3",
   "metadata": {
    "scrolled": true,
    "tags": []
   },
   "outputs": [
    {
     "name": "stdout",
     "output_type": "stream",
     "text": [
      "############################################# COMANDO A EJECUTAR #############################################\n",
      "git st\n",
      "&&&&&&&&&&&&&&&&&&&&&&&&&&&&&&&&&&&&& SE HA GENERADO UNA EXCEPCION &&&&&&&&&&&&&&&&&&&&&&&&&&&&&&&&&&&&&&&\n",
      "EL COMANDO git st NO SE PUDO EJECUTAR\n",
      "&&&&&&&&&&&&&&&&&&&&&&&&&&&&&&&&&&&&& FINAL DE EXCEPCION GENERADA &&&&&&&&&&&&&&&&&&&&&&&&&&&&&&&&&&&&&&&&\n"
     ]
    }
   ],
   "source": [
    "comando = 'git st'\n",
    "ejecutar_comando_git(comando)"
   ]
  },
  {
   "cell_type": "markdown",
   "id": "5f385674-4927-4188-85bf-8351b7265ad9",
   "metadata": {},
   "source": [
    "### ELIMINAR ALIAS REPETIDO"
   ]
  },
  {
   "cell_type": "code",
   "execution_count": 94,
   "id": "45497134-e37e-4c71-890a-5cfaae15b5fe",
   "metadata": {
    "tags": []
   },
   "outputs": [
    {
     "name": "stdout",
     "output_type": "stream",
     "text": [
      "############################################# COMANDO A EJECUTAR #############################################\n",
      "git config --global --unset-all alias.ci\n",
      "####################################### RESULTADO DE COMANDO EJECUTADO #######################################\n",
      "##############################################################################################################\n",
      "\n",
      "############################################# COMANDO A EJECUTAR #############################################\n",
      "git aliases\n",
      "####################################### RESULTADO DE COMANDO EJECUTADO #######################################\n",
      "alias.co checkout\n",
      "alias.br branch\n",
      "alias.aliases config --get-regexp '^alias\\.'\n",
      "alias.colocal checkout\n",
      "alias.brlocal branch\n",
      "alias.rlocal restore\n",
      "alias.aalocal add\n",
      "##############################################################################################################\n",
      "\n",
      "############################################# COMANDO A EJECUTAR #############################################\n",
      "git aliases\n",
      "####################################### RESULTADO DE COMANDO EJECUTADO #######################################\n",
      "alias.co checkout\n",
      "alias.br branch\n",
      "alias.aliases config --get-regexp '^alias\\.'\n",
      "alias.colocal checkout\n",
      "alias.brlocal branch\n",
      "alias.rlocal restore\n",
      "alias.aalocal add\n",
      "##############################################################################################################\n",
      "\n"
     ]
    }
   ],
   "source": [
    "# eliminamos el alias del commit\n",
    "alias_a_aliminar = 'ci'\n",
    "eliminar_alias_repetido(alias_a_aliminar, tipo='global')\n",
    "\n",
    "# lista los alias\n",
    "comando = 'git aliases'\n",
    "ejecutar_comando_git(comando)"
   ]
  },
  {
   "cell_type": "markdown",
   "id": "fb7168f9-77d1-47ae-aa01-e9976302679e",
   "metadata": {
    "tags": []
   },
   "source": [
    "### ADICIONAR COMANDOS DIRECTAMENTE AL ARHCIVO gitconfig"
   ]
  },
  {
   "cell_type": "code",
   "execution_count": 95,
   "id": "415cb936-f3f7-4a6f-baae-09a1691099b2",
   "metadata": {
    "tags": []
   },
   "outputs": [
    {
     "name": "stdout",
     "output_type": "stream",
     "text": [
      "############################################# COMANDO A EJECUTAR #############################################\n",
      "git config --global --edit\n",
      "####################################### RESULTADO DE COMANDO EJECUTADO #######################################\n",
      "##############################################################################################################\n",
      "\n",
      "############################################# COMANDO A EJECUTAR #############################################\n",
      "git aliases\n",
      "####################################### RESULTADO DE COMANDO EJECUTADO #######################################\n",
      "alias.co checkout\n",
      "alias.br branch\n",
      "alias.aliases config --get-regexp '^alias\\.'\n",
      "alias.colocal checkout\n",
      "alias.brlocal branch\n",
      "alias.rlocal restore\n",
      "alias.aalocal add\n",
      "##############################################################################################################\n",
      "\n"
     ]
    }
   ],
   "source": [
    "abrir_git_config(tipo='global')\n",
    "\n",
    "# adicionar estos alias al gitconfig\n",
    "# logn = log --oneline -3\n",
    "# cm = commit -m\n",
    "\n",
    "# lista los alias\n",
    "comando = 'git aliases'\n",
    "ejecutar_comando_git(comando)"
   ]
  },
  {
   "cell_type": "markdown",
   "id": "5be034e5-6d21-41bc-9648-2f3565cd26bd",
   "metadata": {},
   "source": [
    "## VALIDAR EL ALIAS"
   ]
  },
  {
   "cell_type": "code",
   "execution_count": 96,
   "id": "b27768a7-ab41-439c-b9cf-92ebab0cd5c4",
   "metadata": {
    "tags": []
   },
   "outputs": [
    {
     "name": "stdout",
     "output_type": "stream",
     "text": [
      "############################################# COMANDO A EJECUTAR #############################################\n",
      "git logn\n",
      "&&&&&&&&&&&&&&&&&&&&&&&&&&&&&&&&&&&&& SE HA GENERADO UNA EXCEPCION &&&&&&&&&&&&&&&&&&&&&&&&&&&&&&&&&&&&&&&\n",
      "EL COMANDO git logn NO SE PUDO EJECUTAR\n",
      "&&&&&&&&&&&&&&&&&&&&&&&&&&&&&&&&&&&&& FINAL DE EXCEPCION GENERADA &&&&&&&&&&&&&&&&&&&&&&&&&&&&&&&&&&&&&&&&\n"
     ]
    }
   ],
   "source": [
    "comando = 'git logn'\n",
    "ejecutar_comando_git(comando)"
   ]
  },
  {
   "cell_type": "markdown",
   "id": "a92b6a44-db5f-4baa-8fe3-c8402e6175e1",
   "metadata": {},
   "source": [
    "## FETCH\n",
    "<center>\n",
    "    <img width=\"75%\" align=\"center\" src=\"fecth.gif\">\n",
    "</center>"
   ]
  },
  {
   "cell_type": "markdown",
   "id": "05fed093-0dab-4f8f-b9b7-8bc2dc1bf3de",
   "metadata": {
    "tags": []
   },
   "source": [
    "## PULL\n",
    "<center>\n",
    "    <img width=\"75%\" align=\"center\" src=\"pull.gif\">\n",
    "</center>"
   ]
  },
  {
   "cell_type": "markdown",
   "id": "708c0fc6-1c94-4bd3-b237-c336fdc408ae",
   "metadata": {},
   "source": [
    "# <center> LISTAR EL HISTORIAL DE COMMITS DE UN REPOSITORIO GIT</center>"
   ]
  },
  {
   "cell_type": "markdown",
   "id": "03c490cf-5706-4b76-aa55-b47ba6dc5771",
   "metadata": {},
   "source": [
    "### VER EL HISTORIAL COMPLETO DE LA RAMA MAIN"
   ]
  },
  {
   "cell_type": "code",
   "execution_count": 97,
   "id": "6aba429a-d966-479a-858f-a09ed692d268",
   "metadata": {
    "scrolled": true,
    "tags": []
   },
   "outputs": [
    {
     "name": "stdout",
     "output_type": "stream",
     "text": [
      "############################################# COMANDO A EJECUTAR #############################################\n",
      "git checkout  main\n",
      "####################################### RESULTADO DE COMANDO EJECUTADO #######################################\n",
      "Your branch is behind 'origin/main' by 3 commits, and can be fast-forwarded.\n",
      "  (use \"git pull\" to update your local branch)\n",
      "##############################################################################################################\n",
      "\n",
      "############################################# COMANDO A EJECUTAR #############################################\n",
      "git log\n",
      "####################################### RESULTADO DE COMANDO EJECUTADO #######################################\n",
      "commit 6bfbfd4a81082e9312caf0a94ba88d975f9db1e9\n",
      "Author: PARADIGMA\\QiDimMak <jorgecardona@utp.edu.co>\n",
      "Date:   Mon Mar 27 22:42:46 2023 -0500\n",
      "\n",
      "    adicionado license\n",
      "\n",
      "commit e56280cade6f8f0f6995349582d4e1eaaf07cbdd\n",
      "Author: PARADIGMA\\QiDimMak <jorgecardona@utp.edu.co>\n",
      "Date:   Mon Mar 27 22:42:26 2023 -0500\n",
      "\n",
      "    adicionado .gitignore\n",
      "##############################################################################################################\n",
      "\n",
      "############################################# COMANDO A EJECUTAR #############################################\n",
      "git branch\n",
      "####################################### RESULTADO DE COMANDO EJECUTADO #######################################\n",
      "* main\n",
      "##############################################################################################################\n",
      "\n"
     ]
    }
   ],
   "source": [
    "comando = 'git checkout {nombre_rama_principal}'.format(nombre_rama_principal=nombre_rama_principal)\n",
    "ejecutar_comando_git(comando)\n",
    "\n",
    "comando = 'git log'\n",
    "ejecutar_comando_git(comando)\n",
    "\n",
    "ejecutar_comando_shell()"
   ]
  },
  {
   "cell_type": "markdown",
   "id": "e3fb7568-f0f6-41b3-adaa-e40aec8b6c74",
   "metadata": {},
   "source": [
    "### VER HISTORIAL OTRA RAMA REMOTA"
   ]
  },
  {
   "cell_type": "code",
   "execution_count": 98,
   "id": "bab303fe-fe43-48c4-8267-2bd6899a92d1",
   "metadata": {
    "scrolled": true,
    "tags": []
   },
   "outputs": [
    {
     "name": "stdout",
     "output_type": "stream",
     "text": [
      "############################################# COMANDO A EJECUTAR #############################################\n",
      "git restore .\n",
      "####################################### RESULTADO DE COMANDO EJECUTADO #######################################\n",
      "##############################################################################################################\n",
      "\n",
      "############################################# COMANDO A EJECUTAR #############################################\n",
      "git checkout main --force\n",
      "####################################### RESULTADO DE COMANDO EJECUTADO #######################################\n",
      "Your branch is behind 'origin/main' by 3 commits, and can be fast-forwarded.\n",
      "  (use \"git pull\" to update your local branch)\n",
      "##############################################################################################################\n",
      "\n",
      "############################################# COMANDO A EJECUTAR #############################################\n",
      "git branch -a\n",
      "####################################### RESULTADO DE COMANDO EJECUTADO #######################################\n",
      "* main\n",
      "  remotes/origin/HEAD -> origin/main\n",
      "  remotes/origin/bisect_branch\n",
      "  remotes/origin/commit_branch\n",
      "  remotes/origin/main\n",
      "  remotes/origin/multi_commits\n",
      "##############################################################################################################\n",
      "\n",
      "############################################# COMANDO A EJECUTAR #############################################\n",
      "git branch -a\n",
      "####################################### RESULTADO DE COMANDO EJECUTADO #######################################\n",
      "* main\n",
      "  remotes/origin/HEAD -> origin/main\n",
      "  remotes/origin/bisect_branch\n",
      "  remotes/origin/commit_branch\n",
      "  remotes/origin/main\n",
      "  remotes/origin/multi_commits\n",
      "##############################################################################################################\n",
      "\n",
      "############################################# COMANDO A EJECUTAR #############################################\n",
      "git push origin -d commit_branch\n",
      "####################################### RESULTADO DE COMANDO EJECUTADO #######################################\n",
      "##############################################################################################################\n",
      "\n",
      "############################################# COMANDO A EJECUTAR #############################################\n",
      "git branch -D commit_branch\n",
      "&&&&&&&&&&&&&&&&&&&&&&&&&&&&&&&&&&&&& SE HA GENERADO UNA EXCEPCION &&&&&&&&&&&&&&&&&&&&&&&&&&&&&&&&&&&&&&&\n",
      "EL COMANDO git branch -D commit_branch NO SE PUDO EJECUTAR\n",
      "&&&&&&&&&&&&&&&&&&&&&&&&&&&&&&&&&&&&& FINAL DE EXCEPCION GENERADA &&&&&&&&&&&&&&&&&&&&&&&&&&&&&&&&&&&&&&&&\n",
      "############################################# COMANDO A EJECUTAR #############################################\n",
      "git branch\n",
      "####################################### RESULTADO DE COMANDO EJECUTADO #######################################\n",
      "* main\n",
      "##############################################################################################################\n",
      "\n",
      "############################################# COMANDO A EJECUTAR #############################################\n",
      "git checkout -b commit_branch\n",
      "####################################### RESULTADO DE COMANDO EJECUTADO #######################################\n",
      "##############################################################################################################\n",
      "\n",
      "lista_de_archivos = ['info.txt', 'Dockerfile', 'Manifest.yaml', 'imagen.png', 'main.py', 'connection.java', 'calculos.c', 'addon.php', 'utils.gif', 'query.sql', 'dataset.avro', 'link.vs']\n",
      "############################################# COMANDO A EJECUTAR #############################################\n",
      "echo 1684029287.632718 >> info.txt\n",
      "####################################### RESULTADO DE COMANDO EJECUTADO #######################################\n",
      "##############################################################################################################\n",
      "\n",
      "############################################# COMANDO A EJECUTAR #############################################\n",
      "echo 1684029287.756766 >> Dockerfile\n",
      "####################################### RESULTADO DE COMANDO EJECUTADO #######################################\n",
      "##############################################################################################################\n",
      "\n",
      "############################################# COMANDO A EJECUTAR #############################################\n",
      "echo 1684029287.865519 >> Manifest.yaml\n",
      "####################################### RESULTADO DE COMANDO EJECUTADO #######################################\n",
      "##############################################################################################################\n",
      "\n",
      "############################################# COMANDO A EJECUTAR #############################################\n",
      "echo 1684029287.974522 >> imagen.png\n",
      "####################################### RESULTADO DE COMANDO EJECUTADO #######################################\n",
      "##############################################################################################################\n",
      "\n",
      "############################################# COMANDO A EJECUTAR #############################################\n",
      "echo 1684029288.084046 >> main.py\n",
      "####################################### RESULTADO DE COMANDO EJECUTADO #######################################\n",
      "##############################################################################################################\n",
      "\n",
      "############################################# COMANDO A EJECUTAR #############################################\n",
      "echo 1684029288.20872 >> connection.java\n",
      "####################################### RESULTADO DE COMANDO EJECUTADO #######################################\n",
      "##############################################################################################################\n",
      "\n",
      "############################################# COMANDO A EJECUTAR #############################################\n",
      "echo 1684029288.319094 >> calculos.c\n",
      "####################################### RESULTADO DE COMANDO EJECUTADO #######################################\n",
      "##############################################################################################################\n",
      "\n",
      "############################################# COMANDO A EJECUTAR #############################################\n",
      "echo 1684029288.429419 >> addon.php\n",
      "####################################### RESULTADO DE COMANDO EJECUTADO #######################################\n",
      "##############################################################################################################\n",
      "\n",
      "############################################# COMANDO A EJECUTAR #############################################\n",
      "echo 1684029288.540137 >> utils.gif\n",
      "####################################### RESULTADO DE COMANDO EJECUTADO #######################################\n",
      "##############################################################################################################\n",
      "\n",
      "############################################# COMANDO A EJECUTAR #############################################\n",
      "echo 1684029288.651554 >> query.sql\n",
      "####################################### RESULTADO DE COMANDO EJECUTADO #######################################\n",
      "##############################################################################################################\n",
      "\n",
      "############################################# COMANDO A EJECUTAR #############################################\n",
      "echo 1684029288.761637 >> dataset.avro\n",
      "####################################### RESULTADO DE COMANDO EJECUTADO #######################################\n",
      "##############################################################################################################\n",
      "\n",
      "############################################# COMANDO A EJECUTAR #############################################\n",
      "echo 1684029288.871337 >> link.vs\n",
      "####################################### RESULTADO DE COMANDO EJECUTADO #######################################\n",
      "##############################################################################################################\n",
      "\n",
      "############################################# COMANDO A EJECUTAR #############################################\n",
      "git add info.txt\n",
      "####################################### RESULTADO DE COMANDO EJECUTADO #######################################\n",
      "##############################################################################################################\n",
      "\n",
      "############################################# COMANDO A EJECUTAR #############################################\n",
      "git commit -m \"ADICIONADO ARCHIVO info.txt 2023-05-13 20:54:47.531185\" -m \"- El proposito es generar un registro de archivos con su fecha correspondiente, - Se adiciono el archivo info.txt al commit, - La fecha donde se creao este commit es 2023-05-13 20:54:47.531185\"\n",
      "####################################### RESULTADO DE COMANDO EJECUTADO #######################################\n",
      "[commit_branch 47cb938] ADICIONADO ARCHIVO info.txt 2023-05-13 20:54:47.531185\n",
      " 1 file changed, 1 insertion(+)\n",
      " create mode 100644 info.txt\n",
      "##############################################################################################################\n",
      "\n",
      "############################################# COMANDO A EJECUTAR #############################################\n",
      "git commit --amend --no-edit --author=cienciagoku@gmail.com\n",
      "####################################### RESULTADO DE COMANDO EJECUTADO #######################################\n",
      "[commit_branch 80190f3] ADICIONADO ARCHIVO info.txt 2023-05-13 20:54:47.531185\n",
      " Author: QiDimMak <cienciagoku@gmail.com>\n",
      " Date: Sat May 13 20:54:48 2023 -0500\n",
      " 1 file changed, 1 insertion(+)\n",
      " create mode 100644 info.txt\n",
      "##############################################################################################################\n",
      "\n",
      "############################################# COMANDO A EJECUTAR #############################################\n",
      "git add Dockerfile\n",
      "####################################### RESULTADO DE COMANDO EJECUTADO #######################################\n",
      "##############################################################################################################\n",
      "\n",
      "############################################# COMANDO A EJECUTAR #############################################\n",
      "git commit -m \"ADICIONADO ARCHIVO Dockerfile 2023-05-13 20:54:47.531185\" -m \"- El proposito es generar un registro de archivos con su fecha correspondiente, - Se adiciono el archivo Dockerfile al commit, - La fecha donde se creao este commit es 2023-05-13 20:54:47.531185\"\n",
      "####################################### RESULTADO DE COMANDO EJECUTADO #######################################\n",
      "[commit_branch dfa947a] ADICIONADO ARCHIVO Dockerfile 2023-05-13 20:54:47.531185\n",
      " 1 file changed, 1 insertion(+)\n",
      " create mode 100644 Dockerfile\n",
      "##############################################################################################################\n",
      "\n",
      "############################################# COMANDO A EJECUTAR #############################################\n",
      "git add Manifest.yaml\n",
      "####################################### RESULTADO DE COMANDO EJECUTADO #######################################\n",
      "##############################################################################################################\n",
      "\n",
      "############################################# COMANDO A EJECUTAR #############################################\n",
      "git commit -m \"ADICIONADO ARCHIVO Manifest.yaml 2023-05-13 20:54:47.531185\" -m \"- El proposito es generar un registro de archivos con su fecha correspondiente, - Se adiciono el archivo Manifest.yaml al commit, - La fecha donde se creao este commit es 2023-05-13 20:54:47.531185\"\n",
      "####################################### RESULTADO DE COMANDO EJECUTADO #######################################\n",
      "[commit_branch eaeedcd] ADICIONADO ARCHIVO Manifest.yaml 2023-05-13 20:54:47.531185\n",
      " 1 file changed, 1 insertion(+)\n",
      " create mode 100644 Manifest.yaml\n",
      "##############################################################################################################\n",
      "\n",
      "############################################# COMANDO A EJECUTAR #############################################\n",
      "git commit --amend --no-edit --author=cienciagoku@gmail.com\n",
      "####################################### RESULTADO DE COMANDO EJECUTADO #######################################\n",
      "[commit_branch 1dfba80] ADICIONADO ARCHIVO Manifest.yaml 2023-05-13 20:54:47.531185\n",
      " Author: QiDimMak <cienciagoku@gmail.com>\n",
      " Date: Sat May 13 20:54:49 2023 -0500\n",
      " 1 file changed, 1 insertion(+)\n",
      " create mode 100644 Manifest.yaml\n",
      "##############################################################################################################\n",
      "\n",
      "############################################# COMANDO A EJECUTAR #############################################\n",
      "git add imagen.png\n",
      "####################################### RESULTADO DE COMANDO EJECUTADO #######################################\n",
      "##############################################################################################################\n",
      "\n",
      "############################################# COMANDO A EJECUTAR #############################################\n",
      "git commit -m \"ADICIONADO ARCHIVO imagen.png 2023-05-13 20:54:47.531185\" -m \"- El proposito es generar un registro de archivos con su fecha correspondiente, - Se adiciono el archivo imagen.png al commit, - La fecha donde se creao este commit es 2023-05-13 20:54:47.531185\"\n",
      "####################################### RESULTADO DE COMANDO EJECUTADO #######################################\n",
      "[commit_branch 9e8d7f9] ADICIONADO ARCHIVO imagen.png 2023-05-13 20:54:47.531185\n",
      " 1 file changed, 1 insertion(+)\n",
      " create mode 100644 imagen.png\n",
      "##############################################################################################################\n",
      "\n",
      "############################################# COMANDO A EJECUTAR #############################################\n",
      "git add main.py\n",
      "####################################### RESULTADO DE COMANDO EJECUTADO #######################################\n",
      "##############################################################################################################\n",
      "\n",
      "############################################# COMANDO A EJECUTAR #############################################\n",
      "git commit -m \"ADICIONADO ARCHIVO main.py 2023-05-13 20:54:47.531185\" -m \"- El proposito es generar un registro de archivos con su fecha correspondiente, - Se adiciono el archivo main.py al commit, - La fecha donde se creao este commit es 2023-05-13 20:54:47.531185\"\n",
      "####################################### RESULTADO DE COMANDO EJECUTADO #######################################\n",
      "[commit_branch 5ecdfd5] ADICIONADO ARCHIVO main.py 2023-05-13 20:54:47.531185\n",
      " 1 file changed, 1 insertion(+)\n",
      " create mode 100644 main.py\n",
      "##############################################################################################################\n",
      "\n",
      "############################################# COMANDO A EJECUTAR #############################################\n",
      "git commit --amend --no-edit --author=cienciagoku@gmail.com\n",
      "####################################### RESULTADO DE COMANDO EJECUTADO #######################################\n",
      "[commit_branch 42b6a9e] ADICIONADO ARCHIVO main.py 2023-05-13 20:54:47.531185\n",
      " Author: QiDimMak <cienciagoku@gmail.com>\n",
      " Date: Sat May 13 20:54:49 2023 -0500\n",
      " 1 file changed, 1 insertion(+)\n",
      " create mode 100644 main.py\n",
      "##############################################################################################################\n",
      "\n",
      "############################################# COMANDO A EJECUTAR #############################################\n",
      "git add connection.java\n",
      "####################################### RESULTADO DE COMANDO EJECUTADO #######################################\n",
      "##############################################################################################################\n",
      "\n",
      "############################################# COMANDO A EJECUTAR #############################################\n",
      "git commit -m \"ADICIONADO ARCHIVO connection.java 2023-05-13 20:54:47.531185\" -m \"- El proposito es generar un registro de archivos con su fecha correspondiente, - Se adiciono el archivo connection.java al commit, - La fecha donde se creao este commit es 2023-05-13 20:54:47.531185\"\n",
      "####################################### RESULTADO DE COMANDO EJECUTADO #######################################\n",
      "[commit_branch 617bcb8] ADICIONADO ARCHIVO connection.java 2023-05-13 20:54:47.531185\n",
      " 1 file changed, 1 insertion(+)\n",
      " create mode 100644 connection.java\n",
      "##############################################################################################################\n",
      "\n",
      "############################################# COMANDO A EJECUTAR #############################################\n",
      "git add calculos.c\n",
      "####################################### RESULTADO DE COMANDO EJECUTADO #######################################\n",
      "##############################################################################################################\n",
      "\n",
      "############################################# COMANDO A EJECUTAR #############################################\n",
      "git commit -m \"ADICIONADO ARCHIVO calculos.c 2023-05-13 20:54:47.531185\" -m \"- El proposito es generar un registro de archivos con su fecha correspondiente, - Se adiciono el archivo calculos.c al commit, - La fecha donde se creao este commit es 2023-05-13 20:54:47.531185\"\n",
      "####################################### RESULTADO DE COMANDO EJECUTADO #######################################\n",
      "[commit_branch 57eab29] ADICIONADO ARCHIVO calculos.c 2023-05-13 20:54:47.531185\n",
      " 1 file changed, 1 insertion(+)\n",
      " create mode 100644 calculos.c\n",
      "##############################################################################################################\n",
      "\n",
      "############################################# COMANDO A EJECUTAR #############################################\n",
      "git commit --amend --no-edit --author=cienciagoku@gmail.com\n",
      "####################################### RESULTADO DE COMANDO EJECUTADO #######################################\n",
      "[commit_branch 6c11289] ADICIONADO ARCHIVO calculos.c 2023-05-13 20:54:47.531185\n",
      " Author: QiDimMak <cienciagoku@gmail.com>\n",
      " Date: Sat May 13 20:54:49 2023 -0500\n",
      " 1 file changed, 1 insertion(+)\n",
      " create mode 100644 calculos.c\n",
      "##############################################################################################################\n",
      "\n",
      "############################################# COMANDO A EJECUTAR #############################################\n",
      "git add addon.php\n",
      "####################################### RESULTADO DE COMANDO EJECUTADO #######################################\n",
      "##############################################################################################################\n",
      "\n",
      "############################################# COMANDO A EJECUTAR #############################################\n",
      "git commit -m \"ADICIONADO ARCHIVO addon.php 2023-05-13 20:54:47.531185\" -m \"- El proposito es generar un registro de archivos con su fecha correspondiente, - Se adiciono el archivo addon.php al commit, - La fecha donde se creao este commit es 2023-05-13 20:54:47.531185\"\n",
      "####################################### RESULTADO DE COMANDO EJECUTADO #######################################\n",
      "[commit_branch 0195828] ADICIONADO ARCHIVO addon.php 2023-05-13 20:54:47.531185\n",
      " 1 file changed, 1 insertion(+)\n",
      " create mode 100644 addon.php\n",
      "##############################################################################################################\n",
      "\n",
      "############################################# COMANDO A EJECUTAR #############################################\n",
      "git add utils.gif\n",
      "####################################### RESULTADO DE COMANDO EJECUTADO #######################################\n",
      "##############################################################################################################\n",
      "\n",
      "############################################# COMANDO A EJECUTAR #############################################\n",
      "git commit -m \"ADICIONADO ARCHIVO utils.gif 2023-05-13 20:54:47.531185\" -m \"- El proposito es generar un registro de archivos con su fecha correspondiente, - Se adiciono el archivo utils.gif al commit, - La fecha donde se creao este commit es 2023-05-13 20:54:47.531185\"\n",
      "####################################### RESULTADO DE COMANDO EJECUTADO #######################################\n",
      "[commit_branch 4ad10ef] ADICIONADO ARCHIVO utils.gif 2023-05-13 20:54:47.531185\n",
      " 1 file changed, 1 insertion(+)\n",
      " create mode 100644 utils.gif\n",
      "##############################################################################################################\n",
      "\n",
      "############################################# COMANDO A EJECUTAR #############################################\n",
      "git commit --amend --no-edit --author=cienciagoku@gmail.com\n",
      "####################################### RESULTADO DE COMANDO EJECUTADO #######################################\n",
      "[commit_branch bac939e] ADICIONADO ARCHIVO utils.gif 2023-05-13 20:54:47.531185\n",
      " Author: QiDimMak <cienciagoku@gmail.com>\n",
      " Date: Sat May 13 20:54:50 2023 -0500\n",
      " 1 file changed, 1 insertion(+)\n",
      " create mode 100644 utils.gif\n",
      "##############################################################################################################\n",
      "\n",
      "############################################# COMANDO A EJECUTAR #############################################\n",
      "git add query.sql\n",
      "####################################### RESULTADO DE COMANDO EJECUTADO #######################################\n",
      "##############################################################################################################\n",
      "\n",
      "############################################# COMANDO A EJECUTAR #############################################\n",
      "git commit -m \"ADICIONADO ARCHIVO query.sql 2023-05-13 20:54:47.531185\" -m \"- El proposito es generar un registro de archivos con su fecha correspondiente, - Se adiciono el archivo query.sql al commit, - La fecha donde se creao este commit es 2023-05-13 20:54:47.531185\"\n",
      "####################################### RESULTADO DE COMANDO EJECUTADO #######################################\n",
      "[commit_branch 1ef02a3] ADICIONADO ARCHIVO query.sql 2023-05-13 20:54:47.531185\n",
      " 1 file changed, 1 insertion(+)\n",
      " create mode 100644 query.sql\n",
      "##############################################################################################################\n",
      "\n",
      "############################################# COMANDO A EJECUTAR #############################################\n",
      "git add dataset.avro\n",
      "####################################### RESULTADO DE COMANDO EJECUTADO #######################################\n",
      "##############################################################################################################\n",
      "\n",
      "############################################# COMANDO A EJECUTAR #############################################\n",
      "git commit -m \"ADICIONADO ARCHIVO dataset.avro 2023-05-13 20:54:47.531185\" -m \"- El proposito es generar un registro de archivos con su fecha correspondiente, - Se adiciono el archivo dataset.avro al commit, - La fecha donde se creao este commit es 2023-05-13 20:54:47.531185\"\n",
      "####################################### RESULTADO DE COMANDO EJECUTADO #######################################\n",
      "[commit_branch 54f0e0b] ADICIONADO ARCHIVO dataset.avro 2023-05-13 20:54:47.531185\n",
      " 1 file changed, 1 insertion(+)\n",
      " create mode 100644 dataset.avro\n",
      "##############################################################################################################\n",
      "\n",
      "############################################# COMANDO A EJECUTAR #############################################\n",
      "git commit --amend --no-edit --author=cienciagoku@gmail.com\n",
      "####################################### RESULTADO DE COMANDO EJECUTADO #######################################\n",
      "[commit_branch 9136f5d] ADICIONADO ARCHIVO dataset.avro 2023-05-13 20:54:47.531185\n",
      " Author: QiDimMak <cienciagoku@gmail.com>\n",
      " Date: Sat May 13 20:54:50 2023 -0500\n",
      " 1 file changed, 1 insertion(+)\n",
      " create mode 100644 dataset.avro\n",
      "##############################################################################################################\n",
      "\n",
      "############################################# COMANDO A EJECUTAR #############################################\n",
      "git add link.vs\n",
      "####################################### RESULTADO DE COMANDO EJECUTADO #######################################\n",
      "##############################################################################################################\n",
      "\n",
      "############################################# COMANDO A EJECUTAR #############################################\n",
      "git commit -m \"ADICIONADO ARCHIVO link.vs 2023-05-13 20:54:47.531185\" -m \"- El proposito es generar un registro de archivos con su fecha correspondiente, - Se adiciono el archivo link.vs al commit, - La fecha donde se creao este commit es 2023-05-13 20:54:47.531185\"\n",
      "####################################### RESULTADO DE COMANDO EJECUTADO #######################################\n",
      "[commit_branch fef9f41] ADICIONADO ARCHIVO link.vs 2023-05-13 20:54:47.531185\n",
      " 1 file changed, 1 insertion(+)\n",
      " create mode 100644 link.vs\n",
      "##############################################################################################################\n",
      "\n",
      "############################################# COMANDO A EJECUTAR #############################################\n",
      "git status\n",
      "####################################### RESULTADO DE COMANDO EJECUTADO #######################################\n",
      "On branch commit_branch\n",
      "nothing to commit, working tree clean\n",
      "##############################################################################################################\n",
      "\n",
      "############################################# COMANDO A EJECUTAR #############################################\n",
      "git log --graph --oneline\n",
      "####################################### RESULTADO DE COMANDO EJECUTADO #######################################\n",
      "* fef9f41 ADICIONADO ARCHIVO link.vs 2023-05-13 20:54:47.531185\n",
      "* 9136f5d ADICIONADO ARCHIVO dataset.avro 2023-05-13 20:54:47.531185\n",
      "* 1ef02a3 ADICIONADO ARCHIVO query.sql 2023-05-13 20:54:47.531185\n",
      "* bac939e ADICIONADO ARCHIVO utils.gif 2023-05-13 20:54:47.531185\n",
      "* 0195828 ADICIONADO ARCHIVO addon.php 2023-05-13 20:54:47.531185\n",
      "* 6c11289 ADICIONADO ARCHIVO calculos.c 2023-05-13 20:54:47.531185\n",
      "* 617bcb8 ADICIONADO ARCHIVO connection.java 2023-05-13 20:54:47.531185\n",
      "* 42b6a9e ADICIONADO ARCHIVO main.py 2023-05-13 20:54:47.531185\n",
      "* 9e8d7f9 ADICIONADO ARCHIVO imagen.png 2023-05-13 20:54:47.531185\n",
      "* 1dfba80 ADICIONADO ARCHIVO Manifest.yaml 2023-05-13 20:54:47.531185\n",
      "* dfa947a ADICIONADO ARCHIVO Dockerfile 2023-05-13 20:54:47.531185\n",
      "* 80190f3 ADICIONADO ARCHIVO info.txt 2023-05-13 20:54:47.531185\n",
      "* 6bfbfd4 adicionado license\n",
      "* e56280c adicionado .gitignore\n",
      "##############################################################################################################\n",
      "\n",
      "############################################# COMANDO A EJECUTAR #############################################\n",
      "git push --set-upstream origin commit_branch\n",
      "####################################### RESULTADO DE COMANDO EJECUTADO #######################################\n",
      "Branch 'commit_branch' set up to track remote branch 'commit_branch' from 'origin'.\n",
      "##############################################################################################################\n",
      "\n",
      "############################################# COMANDO A EJECUTAR #############################################\n",
      "git branch\n",
      "####################################### RESULTADO DE COMANDO EJECUTADO #######################################\n",
      "* commit_branch\n",
      "  main\n",
      "##############################################################################################################\n",
      "\n",
      "lista_de_archivos = ['info.txt', 'Dockerfile', 'Manifest.yaml', 'imagen.png', 'main.py', 'connection.java', 'calculos.c', 'addon.php', 'utils.gif', 'query.sql', 'dataset.avro', 'link.vs']\n",
      "############################################# COMANDO A EJECUTAR #############################################\n",
      "echo 1684029293.504109 >> info.txt\n",
      "####################################### RESULTADO DE COMANDO EJECUTADO #######################################\n",
      "##############################################################################################################\n",
      "\n",
      "############################################# COMANDO A EJECUTAR #############################################\n",
      "echo 1684029293.615505 >> Dockerfile\n",
      "####################################### RESULTADO DE COMANDO EJECUTADO #######################################\n",
      "##############################################################################################################\n",
      "\n",
      "############################################# COMANDO A EJECUTAR #############################################\n",
      "echo 1684029293.725274 >> Manifest.yaml\n",
      "####################################### RESULTADO DE COMANDO EJECUTADO #######################################\n",
      "##############################################################################################################\n",
      "\n",
      "############################################# COMANDO A EJECUTAR #############################################\n",
      "echo 1684029293.835112 >> imagen.png\n",
      "####################################### RESULTADO DE COMANDO EJECUTADO #######################################\n",
      "##############################################################################################################\n",
      "\n",
      "############################################# COMANDO A EJECUTAR #############################################\n",
      "echo 1684029293.945853 >> main.py\n",
      "####################################### RESULTADO DE COMANDO EJECUTADO #######################################\n",
      "##############################################################################################################\n",
      "\n",
      "############################################# COMANDO A EJECUTAR #############################################\n",
      "echo 1684029294.056844 >> connection.java\n",
      "####################################### RESULTADO DE COMANDO EJECUTADO #######################################\n",
      "##############################################################################################################\n",
      "\n",
      "############################################# COMANDO A EJECUTAR #############################################\n",
      "echo 1684029294.166342 >> calculos.c\n",
      "####################################### RESULTADO DE COMANDO EJECUTADO #######################################\n",
      "##############################################################################################################\n",
      "\n",
      "############################################# COMANDO A EJECUTAR #############################################\n",
      "echo 1684029294.275914 >> addon.php\n",
      "####################################### RESULTADO DE COMANDO EJECUTADO #######################################\n",
      "##############################################################################################################\n",
      "\n",
      "############################################# COMANDO A EJECUTAR #############################################\n",
      "echo 1684029294.386335 >> utils.gif\n",
      "####################################### RESULTADO DE COMANDO EJECUTADO #######################################\n",
      "##############################################################################################################\n",
      "\n",
      "############################################# COMANDO A EJECUTAR #############################################\n",
      "echo 1684029294.510977 >> query.sql\n",
      "####################################### RESULTADO DE COMANDO EJECUTADO #######################################\n",
      "##############################################################################################################\n",
      "\n",
      "############################################# COMANDO A EJECUTAR #############################################\n",
      "echo 1684029294.620691 >> dataset.avro\n",
      "####################################### RESULTADO DE COMANDO EJECUTADO #######################################\n",
      "##############################################################################################################\n",
      "\n",
      "############################################# COMANDO A EJECUTAR #############################################\n",
      "echo 1684029294.728638 >> link.vs\n",
      "####################################### RESULTADO DE COMANDO EJECUTADO #######################################\n",
      "##############################################################################################################\n",
      "\n",
      "############################################# COMANDO A EJECUTAR #############################################\n",
      "git status\n",
      "####################################### RESULTADO DE COMANDO EJECUTADO #######################################\n",
      "On branch commit_branch\n",
      "Your branch is up to date with 'origin/commit_branch'.\n",
      "\n",
      "Changes not staged for commit:\n",
      "  (use \"git add <file>...\" to update what will be committed)\n",
      "  (use \"git restore <file>...\" to discard changes in working directory)\n",
      "\tmodified:   Dockerfile\n",
      "\tmodified:   Manifest.yaml\n",
      "\tmodified:   addon.php\n",
      "\tmodified:   calculos.c\n",
      "\tmodified:   connection.java\n",
      "\tmodified:   dataset.avro\n",
      "\tmodified:   imagen.png\n",
      "\tmodified:   info.txt\n",
      "\tmodified:   link.vs\n",
      "\tmodified:   main.py\n",
      "\tmodified:   query.sql\n",
      "\tmodified:   utils.gif\n",
      "\n",
      "no changes added to commit (use \"git add\" and/or \"git commit -a\")\n",
      "##############################################################################################################\n",
      "\n",
      "############################################# COMANDO A EJECUTAR #############################################\n",
      "git add .\n",
      "####################################### RESULTADO DE COMANDO EJECUTADO #######################################\n",
      "##############################################################################################################\n",
      "\n",
      "############################################# COMANDO A EJECUTAR #############################################\n",
      "git status\n",
      "####################################### RESULTADO DE COMANDO EJECUTADO #######################################\n",
      "On branch commit_branch\n",
      "Your branch is up to date with 'origin/commit_branch'.\n",
      "\n",
      "Changes to be committed:\n",
      "  (use \"git restore --staged <file>...\" to unstage)\n",
      "\tmodified:   Dockerfile\n",
      "\tmodified:   Manifest.yaml\n",
      "\tmodified:   addon.php\n",
      "\tmodified:   calculos.c\n",
      "\tmodified:   connection.java\n",
      "\tmodified:   dataset.avro\n",
      "\tmodified:   imagen.png\n",
      "\tmodified:   info.txt\n",
      "\tmodified:   link.vs\n",
      "\tmodified:   main.py\n",
      "\tmodified:   query.sql\n",
      "\tmodified:   utils.gif\n",
      "\n",
      "##############################################################################################################\n",
      "\n",
      "############################################# COMANDO A EJECUTAR #############################################\n",
      "git commit -m \"PRUEBA de COMMIT numero 1 con fecha 1684029295.029343 y valor aleatorio 6134491 y contiene el archivo utils.gif\"\n",
      "####################################### RESULTADO DE COMANDO EJECUTADO #######################################\n",
      "[commit_branch 3415cac] PRUEBA de COMMIT numero 1 con fecha 1684029295.029343 y valor aleatorio 6134491 y contiene el archivo utils.gif\n",
      " 12 files changed, 12 insertions(+)\n",
      "##############################################################################################################\n",
      "\n",
      "############################################# COMANDO A EJECUTAR #############################################\n",
      "git commit --amend --no-edit --author=cienciagoku@gmail.com\n",
      "####################################### RESULTADO DE COMANDO EJECUTADO #######################################\n",
      "[commit_branch abe9f44] PRUEBA de COMMIT numero 1 con fecha 1684029295.029343 y valor aleatorio 6134491 y contiene el archivo utils.gif\n",
      " Author: QiDimMak <cienciagoku@gmail.com>\n",
      " Date: Sat May 13 20:54:55 2023 -0500\n",
      " 12 files changed, 12 insertions(+)\n",
      "##############################################################################################################\n",
      "\n",
      "lista_de_archivos = ['info.txt', 'Dockerfile', 'Manifest.yaml', 'imagen.png', 'main.py', 'connection.java', 'calculos.c', 'addon.php', 'utils.gif', 'query.sql', 'dataset.avro', 'link.vs']\n",
      "############################################# COMANDO A EJECUTAR #############################################\n",
      "echo 1684029295.297649 >> info.txt\n",
      "####################################### RESULTADO DE COMANDO EJECUTADO #######################################\n",
      "##############################################################################################################\n",
      "\n",
      "############################################# COMANDO A EJECUTAR #############################################\n",
      "echo 1684029295.406412 >> Dockerfile\n",
      "####################################### RESULTADO DE COMANDO EJECUTADO #######################################\n",
      "##############################################################################################################\n",
      "\n",
      "############################################# COMANDO A EJECUTAR #############################################\n",
      "echo 1684029295.51499 >> Manifest.yaml\n",
      "####################################### RESULTADO DE COMANDO EJECUTADO #######################################\n",
      "##############################################################################################################\n",
      "\n",
      "############################################# COMANDO A EJECUTAR #############################################\n",
      "echo 1684029295.62365 >> imagen.png\n",
      "####################################### RESULTADO DE COMANDO EJECUTADO #######################################\n",
      "##############################################################################################################\n",
      "\n",
      "############################################# COMANDO A EJECUTAR #############################################\n",
      "echo 1684029295.733906 >> main.py\n",
      "####################################### RESULTADO DE COMANDO EJECUTADO #######################################\n",
      "##############################################################################################################\n",
      "\n",
      "############################################# COMANDO A EJECUTAR #############################################\n",
      "echo 1684029295.858327 >> connection.java\n",
      "####################################### RESULTADO DE COMANDO EJECUTADO #######################################\n",
      "##############################################################################################################\n",
      "\n",
      "############################################# COMANDO A EJECUTAR #############################################\n",
      "echo 1684029295.968068 >> calculos.c\n",
      "####################################### RESULTADO DE COMANDO EJECUTADO #######################################\n",
      "##############################################################################################################\n",
      "\n",
      "############################################# COMANDO A EJECUTAR #############################################\n",
      "echo 1684029296.093273 >> addon.php\n",
      "####################################### RESULTADO DE COMANDO EJECUTADO #######################################\n",
      "##############################################################################################################\n",
      "\n",
      "############################################# COMANDO A EJECUTAR #############################################\n",
      "echo 1684029296.205244 >> utils.gif\n",
      "####################################### RESULTADO DE COMANDO EJECUTADO #######################################\n",
      "##############################################################################################################\n",
      "\n",
      "############################################# COMANDO A EJECUTAR #############################################\n",
      "echo 1684029296.315779 >> query.sql\n",
      "####################################### RESULTADO DE COMANDO EJECUTADO #######################################\n",
      "##############################################################################################################\n",
      "\n",
      "############################################# COMANDO A EJECUTAR #############################################\n",
      "echo 1684029296.425335 >> dataset.avro\n",
      "####################################### RESULTADO DE COMANDO EJECUTADO #######################################\n",
      "##############################################################################################################\n",
      "\n",
      "############################################# COMANDO A EJECUTAR #############################################\n",
      "echo 1684029296.536081 >> link.vs\n",
      "####################################### RESULTADO DE COMANDO EJECUTADO #######################################\n",
      "##############################################################################################################\n",
      "\n",
      "############################################# COMANDO A EJECUTAR #############################################\n",
      "git status\n",
      "####################################### RESULTADO DE COMANDO EJECUTADO #######################################\n",
      "On branch commit_branch\n",
      "Your branch is ahead of 'origin/commit_branch' by 1 commit.\n",
      "  (use \"git push\" to publish your local commits)\n",
      "\n",
      "Changes not staged for commit:\n",
      "  (use \"git add <file>...\" to update what will be committed)\n",
      "  (use \"git restore <file>...\" to discard changes in working directory)\n",
      "\tmodified:   Dockerfile\n",
      "\tmodified:   Manifest.yaml\n",
      "\tmodified:   addon.php\n",
      "\tmodified:   calculos.c\n",
      "\tmodified:   connection.java\n",
      "\tmodified:   dataset.avro\n",
      "\tmodified:   imagen.png\n",
      "\tmodified:   info.txt\n",
      "\tmodified:   link.vs\n",
      "\tmodified:   main.py\n",
      "\tmodified:   query.sql\n",
      "\tmodified:   utils.gif\n",
      "\n",
      "no changes added to commit (use \"git add\" and/or \"git commit -a\")\n",
      "##############################################################################################################\n",
      "\n",
      "############################################# COMANDO A EJECUTAR #############################################\n",
      "git add .\n",
      "####################################### RESULTADO DE COMANDO EJECUTADO #######################################\n",
      "##############################################################################################################\n",
      "\n",
      "############################################# COMANDO A EJECUTAR #############################################\n",
      "git status\n",
      "####################################### RESULTADO DE COMANDO EJECUTADO #######################################\n",
      "On branch commit_branch\n",
      "Your branch is ahead of 'origin/commit_branch' by 1 commit.\n",
      "  (use \"git push\" to publish your local commits)\n",
      "\n",
      "Changes to be committed:\n",
      "  (use \"git restore --staged <file>...\" to unstage)\n",
      "\tmodified:   Dockerfile\n",
      "\tmodified:   Manifest.yaml\n",
      "\tmodified:   addon.php\n",
      "\tmodified:   calculos.c\n",
      "\tmodified:   connection.java\n",
      "\tmodified:   dataset.avro\n",
      "\tmodified:   imagen.png\n",
      "\tmodified:   info.txt\n",
      "\tmodified:   link.vs\n",
      "\tmodified:   main.py\n",
      "\tmodified:   query.sql\n",
      "\tmodified:   utils.gif\n",
      "\n",
      "##############################################################################################################\n",
      "\n",
      "############################################# COMANDO A EJECUTAR #############################################\n",
      "git commit -m \"PRUEBA de COMMIT numero 2 con fecha 1684029296.90233 y valor aleatorio 1602257 y contiene el archivo imagen.png\"\n",
      "####################################### RESULTADO DE COMANDO EJECUTADO #######################################\n",
      "[commit_branch ad13f1c] PRUEBA de COMMIT numero 2 con fecha 1684029296.90233 y valor aleatorio 1602257 y contiene el archivo imagen.png\n",
      " 12 files changed, 12 insertions(+)\n",
      "##############################################################################################################\n",
      "\n",
      "lista_de_archivos = ['info.txt', 'Dockerfile', 'Manifest.yaml', 'imagen.png', 'main.py', 'connection.java', 'calculos.c', 'addon.php', 'utils.gif', 'query.sql', 'dataset.avro', 'link.vs']\n",
      "############################################# COMANDO A EJECUTAR #############################################\n",
      "echo 1684029297.090743 >> info.txt\n",
      "####################################### RESULTADO DE COMANDO EJECUTADO #######################################\n",
      "##############################################################################################################\n",
      "\n",
      "############################################# COMANDO A EJECUTAR #############################################\n",
      "echo 1684029297.202087 >> Dockerfile\n",
      "####################################### RESULTADO DE COMANDO EJECUTADO #######################################\n",
      "##############################################################################################################\n",
      "\n",
      "############################################# COMANDO A EJECUTAR #############################################\n",
      "echo 1684029297.312886 >> Manifest.yaml\n",
      "####################################### RESULTADO DE COMANDO EJECUTADO #######################################\n",
      "##############################################################################################################\n",
      "\n",
      "############################################# COMANDO A EJECUTAR #############################################\n",
      "echo 1684029297.423639 >> imagen.png\n",
      "####################################### RESULTADO DE COMANDO EJECUTADO #######################################\n",
      "##############################################################################################################\n",
      "\n",
      "############################################# COMANDO A EJECUTAR #############################################\n",
      "echo 1684029297.535172 >> main.py\n",
      "####################################### RESULTADO DE COMANDO EJECUTADO #######################################\n",
      "##############################################################################################################\n",
      "\n",
      "############################################# COMANDO A EJECUTAR #############################################\n",
      "echo 1684029297.645103 >> connection.java\n",
      "####################################### RESULTADO DE COMANDO EJECUTADO #######################################\n",
      "##############################################################################################################\n",
      "\n",
      "############################################# COMANDO A EJECUTAR #############################################\n",
      "echo 1684029297.771524 >> calculos.c\n",
      "####################################### RESULTADO DE COMANDO EJECUTADO #######################################\n",
      "##############################################################################################################\n",
      "\n",
      "############################################# COMANDO A EJECUTAR #############################################\n",
      "echo 1684029297.88135 >> addon.php\n",
      "####################################### RESULTADO DE COMANDO EJECUTADO #######################################\n",
      "##############################################################################################################\n",
      "\n",
      "############################################# COMANDO A EJECUTAR #############################################\n",
      "echo 1684029297.991214 >> utils.gif\n",
      "####################################### RESULTADO DE COMANDO EJECUTADO #######################################\n",
      "##############################################################################################################\n",
      "\n",
      "############################################# COMANDO A EJECUTAR #############################################\n",
      "echo 1684029298.115606 >> query.sql\n",
      "####################################### RESULTADO DE COMANDO EJECUTADO #######################################\n",
      "##############################################################################################################\n",
      "\n",
      "############################################# COMANDO A EJECUTAR #############################################\n",
      "echo 1684029298.226662 >> dataset.avro\n",
      "####################################### RESULTADO DE COMANDO EJECUTADO #######################################\n",
      "##############################################################################################################\n",
      "\n",
      "############################################# COMANDO A EJECUTAR #############################################\n",
      "echo 1684029298.335172 >> link.vs\n",
      "####################################### RESULTADO DE COMANDO EJECUTADO #######################################\n",
      "##############################################################################################################\n",
      "\n",
      "############################################# COMANDO A EJECUTAR #############################################\n",
      "git status\n",
      "####################################### RESULTADO DE COMANDO EJECUTADO #######################################\n",
      "On branch commit_branch\n",
      "Your branch is ahead of 'origin/commit_branch' by 2 commits.\n",
      "  (use \"git push\" to publish your local commits)\n",
      "\n",
      "Changes not staged for commit:\n",
      "  (use \"git add <file>...\" to update what will be committed)\n",
      "  (use \"git restore <file>...\" to discard changes in working directory)\n",
      "\tmodified:   Dockerfile\n",
      "\tmodified:   Manifest.yaml\n",
      "\tmodified:   addon.php\n",
      "\tmodified:   calculos.c\n",
      "\tmodified:   connection.java\n",
      "\tmodified:   dataset.avro\n",
      "\tmodified:   imagen.png\n",
      "\tmodified:   info.txt\n",
      "\tmodified:   link.vs\n",
      "\tmodified:   main.py\n",
      "\tmodified:   query.sql\n",
      "\tmodified:   utils.gif\n",
      "\n",
      "no changes added to commit (use \"git add\" and/or \"git commit -a\")\n",
      "##############################################################################################################\n",
      "\n",
      "############################################# COMANDO A EJECUTAR #############################################\n",
      "git add .\n",
      "####################################### RESULTADO DE COMANDO EJECUTADO #######################################\n",
      "##############################################################################################################\n",
      "\n",
      "############################################# COMANDO A EJECUTAR #############################################\n",
      "git status\n",
      "####################################### RESULTADO DE COMANDO EJECUTADO #######################################\n",
      "On branch commit_branch\n",
      "Your branch is ahead of 'origin/commit_branch' by 2 commits.\n",
      "  (use \"git push\" to publish your local commits)\n",
      "\n",
      "Changes to be committed:\n",
      "  (use \"git restore --staged <file>...\" to unstage)\n",
      "\tmodified:   Dockerfile\n",
      "\tmodified:   Manifest.yaml\n",
      "\tmodified:   addon.php\n",
      "\tmodified:   calculos.c\n",
      "\tmodified:   connection.java\n",
      "\tmodified:   dataset.avro\n",
      "\tmodified:   imagen.png\n",
      "\tmodified:   info.txt\n",
      "\tmodified:   link.vs\n",
      "\tmodified:   main.py\n",
      "\tmodified:   query.sql\n",
      "\tmodified:   utils.gif\n",
      "\n",
      "##############################################################################################################\n",
      "\n",
      "############################################# COMANDO A EJECUTAR #############################################\n",
      "git commit -m \"PRUEBA de COMMIT numero 3 con fecha 1684029298.621136 y valor aleatorio 3949262 y contiene el archivo info.txt\"\n",
      "####################################### RESULTADO DE COMANDO EJECUTADO #######################################\n",
      "[commit_branch ebe1dd5] PRUEBA de COMMIT numero 3 con fecha 1684029298.621136 y valor aleatorio 3949262 y contiene el archivo info.txt\n",
      " 12 files changed, 12 insertions(+)\n",
      "##############################################################################################################\n",
      "\n",
      "############################################# COMANDO A EJECUTAR #############################################\n",
      "git commit --amend --no-edit --author=cienciagoku@gmail.com\n",
      "####################################### RESULTADO DE COMANDO EJECUTADO #######################################\n",
      "[commit_branch 26be00f] PRUEBA de COMMIT numero 3 con fecha 1684029298.621136 y valor aleatorio 3949262 y contiene el archivo info.txt\n",
      " Author: QiDimMak <cienciagoku@gmail.com>\n",
      " Date: Sat May 13 20:54:58 2023 -0500\n",
      " 12 files changed, 12 insertions(+)\n",
      "##############################################################################################################\n",
      "\n",
      "lista_de_archivos = ['info.txt', 'Dockerfile', 'Manifest.yaml', 'imagen.png', 'main.py', 'connection.java', 'calculos.c', 'addon.php', 'utils.gif', 'query.sql', 'dataset.avro', 'link.vs']\n",
      "############################################# COMANDO A EJECUTAR #############################################\n",
      "echo 1684029298.887784 >> info.txt\n",
      "####################################### RESULTADO DE COMANDO EJECUTADO #######################################\n",
      "##############################################################################################################\n",
      "\n",
      "############################################# COMANDO A EJECUTAR #############################################\n",
      "echo 1684029299.012619 >> Dockerfile\n",
      "####################################### RESULTADO DE COMANDO EJECUTADO #######################################\n",
      "##############################################################################################################\n",
      "\n",
      "############################################# COMANDO A EJECUTAR #############################################\n",
      "echo 1684029299.12367 >> Manifest.yaml\n",
      "####################################### RESULTADO DE COMANDO EJECUTADO #######################################\n",
      "##############################################################################################################\n",
      "\n",
      "############################################# COMANDO A EJECUTAR #############################################\n",
      "echo 1684029299.247772 >> imagen.png\n",
      "####################################### RESULTADO DE COMANDO EJECUTADO #######################################\n",
      "##############################################################################################################\n",
      "\n",
      "############################################# COMANDO A EJECUTAR #############################################\n",
      "echo 1684029299.356472 >> main.py\n",
      "####################################### RESULTADO DE COMANDO EJECUTADO #######################################\n",
      "##############################################################################################################\n",
      "\n",
      "############################################# COMANDO A EJECUTAR #############################################\n",
      "echo 1684029299.480777 >> connection.java\n",
      "####################################### RESULTADO DE COMANDO EJECUTADO #######################################\n",
      "##############################################################################################################\n",
      "\n",
      "############################################# COMANDO A EJECUTAR #############################################\n",
      "echo 1684029299.592119 >> calculos.c\n",
      "####################################### RESULTADO DE COMANDO EJECUTADO #######################################\n",
      "##############################################################################################################\n",
      "\n",
      "############################################# COMANDO A EJECUTAR #############################################\n",
      "echo 1684029299.716275 >> addon.php\n",
      "####################################### RESULTADO DE COMANDO EJECUTADO #######################################\n",
      "##############################################################################################################\n",
      "\n",
      "############################################# COMANDO A EJECUTAR #############################################\n",
      "echo 1684029299.825161 >> utils.gif\n",
      "####################################### RESULTADO DE COMANDO EJECUTADO #######################################\n",
      "##############################################################################################################\n",
      "\n",
      "############################################# COMANDO A EJECUTAR #############################################\n",
      "echo 1684029299.934774 >> query.sql\n",
      "####################################### RESULTADO DE COMANDO EJECUTADO #######################################\n",
      "##############################################################################################################\n",
      "\n",
      "############################################# COMANDO A EJECUTAR #############################################\n",
      "echo 1684029300.042833 >> dataset.avro\n",
      "####################################### RESULTADO DE COMANDO EJECUTADO #######################################\n",
      "##############################################################################################################\n",
      "\n",
      "############################################# COMANDO A EJECUTAR #############################################\n",
      "echo 1684029300.152602 >> link.vs\n",
      "####################################### RESULTADO DE COMANDO EJECUTADO #######################################\n",
      "##############################################################################################################\n",
      "\n",
      "############################################# COMANDO A EJECUTAR #############################################\n",
      "git status\n",
      "####################################### RESULTADO DE COMANDO EJECUTADO #######################################\n",
      "On branch commit_branch\n",
      "Your branch is ahead of 'origin/commit_branch' by 3 commits.\n",
      "  (use \"git push\" to publish your local commits)\n",
      "\n",
      "Changes not staged for commit:\n",
      "  (use \"git add <file>...\" to update what will be committed)\n",
      "  (use \"git restore <file>...\" to discard changes in working directory)\n",
      "\tmodified:   Dockerfile\n",
      "\tmodified:   Manifest.yaml\n",
      "\tmodified:   addon.php\n",
      "\tmodified:   calculos.c\n",
      "\tmodified:   connection.java\n",
      "\tmodified:   dataset.avro\n",
      "\tmodified:   imagen.png\n",
      "\tmodified:   info.txt\n",
      "\tmodified:   link.vs\n",
      "\tmodified:   main.py\n",
      "\tmodified:   query.sql\n",
      "\tmodified:   utils.gif\n",
      "\n",
      "no changes added to commit (use \"git add\" and/or \"git commit -a\")\n",
      "##############################################################################################################\n",
      "\n",
      "############################################# COMANDO A EJECUTAR #############################################\n",
      "git add .\n",
      "####################################### RESULTADO DE COMANDO EJECUTADO #######################################\n",
      "##############################################################################################################\n",
      "\n",
      "############################################# COMANDO A EJECUTAR #############################################\n",
      "git status\n",
      "####################################### RESULTADO DE COMANDO EJECUTADO #######################################\n",
      "On branch commit_branch\n",
      "Your branch is ahead of 'origin/commit_branch' by 3 commits.\n",
      "  (use \"git push\" to publish your local commits)\n",
      "\n",
      "Changes to be committed:\n",
      "  (use \"git restore --staged <file>...\" to unstage)\n",
      "\tmodified:   Dockerfile\n",
      "\tmodified:   Manifest.yaml\n",
      "\tmodified:   addon.php\n",
      "\tmodified:   calculos.c\n",
      "\tmodified:   connection.java\n",
      "\tmodified:   dataset.avro\n",
      "\tmodified:   imagen.png\n",
      "\tmodified:   info.txt\n",
      "\tmodified:   link.vs\n",
      "\tmodified:   main.py\n",
      "\tmodified:   query.sql\n",
      "\tmodified:   utils.gif\n",
      "\n",
      "##############################################################################################################\n",
      "\n",
      "############################################# COMANDO A EJECUTAR #############################################\n",
      "git commit -m \"PRUEBA de COMMIT numero 4 con fecha 1684029300.447891 y valor aleatorio 4928734 y contiene el archivo main.py\"\n",
      "####################################### RESULTADO DE COMANDO EJECUTADO #######################################\n",
      "[commit_branch d3bcc6c] PRUEBA de COMMIT numero 4 con fecha 1684029300.447891 y valor aleatorio 4928734 y contiene el archivo main.py\n",
      " 12 files changed, 12 insertions(+)\n",
      "##############################################################################################################\n",
      "\n",
      "lista_de_archivos = ['info.txt', 'Dockerfile', 'Manifest.yaml', 'imagen.png', 'main.py', 'connection.java', 'calculos.c', 'addon.php', 'utils.gif', 'query.sql', 'dataset.avro', 'link.vs']\n",
      "############################################# COMANDO A EJECUTAR #############################################\n",
      "echo 1684029300.635793 >> info.txt\n",
      "####################################### RESULTADO DE COMANDO EJECUTADO #######################################\n",
      "##############################################################################################################\n",
      "\n",
      "############################################# COMANDO A EJECUTAR #############################################\n",
      "echo 1684029300.744471 >> Dockerfile\n",
      "####################################### RESULTADO DE COMANDO EJECUTADO #######################################\n",
      "##############################################################################################################\n",
      "\n",
      "############################################# COMANDO A EJECUTAR #############################################\n",
      "echo 1684029300.855902 >> Manifest.yaml\n",
      "####################################### RESULTADO DE COMANDO EJECUTADO #######################################\n",
      "##############################################################################################################\n",
      "\n",
      "############################################# COMANDO A EJECUTAR #############################################\n",
      "echo 1684029300.965166 >> imagen.png\n",
      "####################################### RESULTADO DE COMANDO EJECUTADO #######################################\n",
      "##############################################################################################################\n",
      "\n",
      "############################################# COMANDO A EJECUTAR #############################################\n",
      "echo 1684029301.090966 >> main.py\n",
      "####################################### RESULTADO DE COMANDO EJECUTADO #######################################\n",
      "##############################################################################################################\n",
      "\n",
      "############################################# COMANDO A EJECUTAR #############################################\n",
      "echo 1684029301.199752 >> connection.java\n",
      "####################################### RESULTADO DE COMANDO EJECUTADO #######################################\n",
      "##############################################################################################################\n",
      "\n",
      "############################################# COMANDO A EJECUTAR #############################################\n",
      "echo 1684029301.311175 >> calculos.c\n",
      "####################################### RESULTADO DE COMANDO EJECUTADO #######################################\n",
      "##############################################################################################################\n",
      "\n",
      "############################################# COMANDO A EJECUTAR #############################################\n",
      "echo 1684029301.420066 >> addon.php\n",
      "####################################### RESULTADO DE COMANDO EJECUTADO #######################################\n",
      "##############################################################################################################\n",
      "\n",
      "############################################# COMANDO A EJECUTAR #############################################\n",
      "echo 1684029301.528746 >> utils.gif\n",
      "####################################### RESULTADO DE COMANDO EJECUTADO #######################################\n",
      "##############################################################################################################\n",
      "\n",
      "############################################# COMANDO A EJECUTAR #############################################\n",
      "echo 1684029301.638115 >> query.sql\n",
      "####################################### RESULTADO DE COMANDO EJECUTADO #######################################\n",
      "##############################################################################################################\n",
      "\n",
      "############################################# COMANDO A EJECUTAR #############################################\n",
      "echo 1684029301.761657 >> dataset.avro\n",
      "####################################### RESULTADO DE COMANDO EJECUTADO #######################################\n",
      "##############################################################################################################\n",
      "\n",
      "############################################# COMANDO A EJECUTAR #############################################\n",
      "echo 1684029301.871641 >> link.vs\n",
      "####################################### RESULTADO DE COMANDO EJECUTADO #######################################\n",
      "##############################################################################################################\n",
      "\n",
      "############################################# COMANDO A EJECUTAR #############################################\n",
      "git status\n",
      "####################################### RESULTADO DE COMANDO EJECUTADO #######################################\n",
      "On branch commit_branch\n",
      "Your branch is ahead of 'origin/commit_branch' by 4 commits.\n",
      "  (use \"git push\" to publish your local commits)\n",
      "\n",
      "Changes not staged for commit:\n",
      "  (use \"git add <file>...\" to update what will be committed)\n",
      "  (use \"git restore <file>...\" to discard changes in working directory)\n",
      "\tmodified:   Dockerfile\n",
      "\tmodified:   Manifest.yaml\n",
      "\tmodified:   addon.php\n",
      "\tmodified:   calculos.c\n",
      "\tmodified:   connection.java\n",
      "\tmodified:   dataset.avro\n",
      "\tmodified:   imagen.png\n",
      "\tmodified:   info.txt\n",
      "\tmodified:   link.vs\n",
      "\tmodified:   main.py\n",
      "\tmodified:   query.sql\n",
      "\tmodified:   utils.gif\n",
      "\n",
      "no changes added to commit (use \"git add\" and/or \"git commit -a\")\n",
      "##############################################################################################################\n",
      "\n",
      "############################################# COMANDO A EJECUTAR #############################################\n",
      "git add .\n",
      "####################################### RESULTADO DE COMANDO EJECUTADO #######################################\n",
      "##############################################################################################################\n",
      "\n",
      "############################################# COMANDO A EJECUTAR #############################################\n",
      "git status\n",
      "####################################### RESULTADO DE COMANDO EJECUTADO #######################################\n",
      "On branch commit_branch\n",
      "Your branch is ahead of 'origin/commit_branch' by 4 commits.\n",
      "  (use \"git push\" to publish your local commits)\n",
      "\n",
      "Changes to be committed:\n",
      "  (use \"git restore --staged <file>...\" to unstage)\n",
      "\tmodified:   Dockerfile\n",
      "\tmodified:   Manifest.yaml\n",
      "\tmodified:   addon.php\n",
      "\tmodified:   calculos.c\n",
      "\tmodified:   connection.java\n",
      "\tmodified:   dataset.avro\n",
      "\tmodified:   imagen.png\n",
      "\tmodified:   info.txt\n",
      "\tmodified:   link.vs\n",
      "\tmodified:   main.py\n",
      "\tmodified:   query.sql\n",
      "\tmodified:   utils.gif\n",
      "\n",
      "##############################################################################################################\n",
      "\n",
      "############################################# COMANDO A EJECUTAR #############################################\n",
      "git commit -m \"PRUEBA de COMMIT numero 5 con fecha 1684029302.247489 y valor aleatorio 563900 y contiene el archivo imagen.png\"\n",
      "####################################### RESULTADO DE COMANDO EJECUTADO #######################################\n",
      "[commit_branch 3a065c5] PRUEBA de COMMIT numero 5 con fecha 1684029302.247489 y valor aleatorio 563900 y contiene el archivo imagen.png\n",
      " 12 files changed, 12 insertions(+)\n",
      "##############################################################################################################\n",
      "\n",
      "############################################# COMANDO A EJECUTAR #############################################\n",
      "git commit --amend --no-edit --author=cienciagoku@gmail.com\n",
      "####################################### RESULTADO DE COMANDO EJECUTADO #######################################\n",
      "[commit_branch fa01305] PRUEBA de COMMIT numero 5 con fecha 1684029302.247489 y valor aleatorio 563900 y contiene el archivo imagen.png\n",
      " Author: QiDimMak <cienciagoku@gmail.com>\n",
      " Date: Sat May 13 20:55:02 2023 -0500\n",
      " 12 files changed, 12 insertions(+)\n",
      "##############################################################################################################\n",
      "\n",
      "lista_de_archivos = ['info.txt', 'Dockerfile', 'Manifest.yaml', 'imagen.png', 'main.py', 'connection.java', 'calculos.c', 'addon.php', 'utils.gif', 'query.sql', 'dataset.avro', 'link.vs']\n",
      "############################################# COMANDO A EJECUTAR #############################################\n",
      "echo 1684029302.529859 >> info.txt\n",
      "####################################### RESULTADO DE COMANDO EJECUTADO #######################################\n",
      "##############################################################################################################\n",
      "\n",
      "############################################# COMANDO A EJECUTAR #############################################\n",
      "echo 1684029302.639299 >> Dockerfile\n",
      "####################################### RESULTADO DE COMANDO EJECUTADO #######################################\n",
      "##############################################################################################################\n",
      "\n",
      "############################################# COMANDO A EJECUTAR #############################################\n",
      "echo 1684029302.762009 >> Manifest.yaml\n",
      "####################################### RESULTADO DE COMANDO EJECUTADO #######################################\n",
      "##############################################################################################################\n",
      "\n",
      "############################################# COMANDO A EJECUTAR #############################################\n",
      "echo 1684029302.871935 >> imagen.png\n",
      "####################################### RESULTADO DE COMANDO EJECUTADO #######################################\n",
      "##############################################################################################################\n",
      "\n",
      "############################################# COMANDO A EJECUTAR #############################################\n",
      "echo 1684029302.982108 >> main.py\n",
      "####################################### RESULTADO DE COMANDO EJECUTADO #######################################\n",
      "##############################################################################################################\n",
      "\n",
      "############################################# COMANDO A EJECUTAR #############################################\n",
      "echo 1684029303.091208 >> connection.java\n",
      "####################################### RESULTADO DE COMANDO EJECUTADO #######################################\n",
      "##############################################################################################################\n",
      "\n",
      "############################################# COMANDO A EJECUTAR #############################################\n",
      "echo 1684029303.201956 >> calculos.c\n",
      "####################################### RESULTADO DE COMANDO EJECUTADO #######################################\n",
      "##############################################################################################################\n",
      "\n",
      "############################################# COMANDO A EJECUTAR #############################################\n",
      "echo 1684029303.318557 >> addon.php\n",
      "####################################### RESULTADO DE COMANDO EJECUTADO #######################################\n",
      "##############################################################################################################\n",
      "\n",
      "############################################# COMANDO A EJECUTAR #############################################\n",
      "echo 1684029303.443156 >> utils.gif\n",
      "####################################### RESULTADO DE COMANDO EJECUTADO #######################################\n",
      "##############################################################################################################\n",
      "\n",
      "############################################# COMANDO A EJECUTAR #############################################\n",
      "echo 1684029303.553385 >> query.sql\n",
      "####################################### RESULTADO DE COMANDO EJECUTADO #######################################\n",
      "##############################################################################################################\n",
      "\n",
      "############################################# COMANDO A EJECUTAR #############################################\n",
      "echo 1684029303.66395 >> dataset.avro\n",
      "####################################### RESULTADO DE COMANDO EJECUTADO #######################################\n",
      "##############################################################################################################\n",
      "\n",
      "############################################# COMANDO A EJECUTAR #############################################\n",
      "echo 1684029303.772962 >> link.vs\n",
      "####################################### RESULTADO DE COMANDO EJECUTADO #######################################\n",
      "##############################################################################################################\n",
      "\n",
      "############################################# COMANDO A EJECUTAR #############################################\n",
      "git status\n",
      "####################################### RESULTADO DE COMANDO EJECUTADO #######################################\n",
      "On branch commit_branch\n",
      "Your branch is ahead of 'origin/commit_branch' by 5 commits.\n",
      "  (use \"git push\" to publish your local commits)\n",
      "\n",
      "Changes not staged for commit:\n",
      "  (use \"git add <file>...\" to update what will be committed)\n",
      "  (use \"git restore <file>...\" to discard changes in working directory)\n",
      "\tmodified:   Dockerfile\n",
      "\tmodified:   Manifest.yaml\n",
      "\tmodified:   addon.php\n",
      "\tmodified:   calculos.c\n",
      "\tmodified:   connection.java\n",
      "\tmodified:   dataset.avro\n",
      "\tmodified:   imagen.png\n",
      "\tmodified:   info.txt\n",
      "\tmodified:   link.vs\n",
      "\tmodified:   main.py\n",
      "\tmodified:   query.sql\n",
      "\tmodified:   utils.gif\n",
      "\n",
      "no changes added to commit (use \"git add\" and/or \"git commit -a\")\n",
      "##############################################################################################################\n",
      "\n",
      "############################################# COMANDO A EJECUTAR #############################################\n",
      "git add .\n",
      "####################################### RESULTADO DE COMANDO EJECUTADO #######################################\n",
      "##############################################################################################################\n",
      "\n",
      "############################################# COMANDO A EJECUTAR #############################################\n",
      "git status\n",
      "####################################### RESULTADO DE COMANDO EJECUTADO #######################################\n",
      "On branch commit_branch\n",
      "Your branch is ahead of 'origin/commit_branch' by 5 commits.\n",
      "  (use \"git push\" to publish your local commits)\n",
      "\n",
      "Changes to be committed:\n",
      "  (use \"git restore --staged <file>...\" to unstage)\n",
      "\tmodified:   Dockerfile\n",
      "\tmodified:   Manifest.yaml\n",
      "\tmodified:   addon.php\n",
      "\tmodified:   calculos.c\n",
      "\tmodified:   connection.java\n",
      "\tmodified:   dataset.avro\n",
      "\tmodified:   imagen.png\n",
      "\tmodified:   info.txt\n",
      "\tmodified:   link.vs\n",
      "\tmodified:   main.py\n",
      "\tmodified:   query.sql\n",
      "\tmodified:   utils.gif\n",
      "\n",
      "##############################################################################################################\n",
      "\n",
      "############################################# COMANDO A EJECUTAR #############################################\n",
      "git commit -m \"PRUEBA de COMMIT numero 6 con fecha 1684029304.073405 y valor aleatorio 454928 y contiene el archivo connection.java\"\n",
      "####################################### RESULTADO DE COMANDO EJECUTADO #######################################\n",
      "[commit_branch a29d420] PRUEBA de COMMIT numero 6 con fecha 1684029304.073405 y valor aleatorio 454928 y contiene el archivo connection.java\n",
      " 12 files changed, 12 insertions(+)\n",
      "##############################################################################################################\n",
      "\n",
      "lista_de_archivos = ['info.txt', 'Dockerfile', 'Manifest.yaml', 'imagen.png', 'main.py', 'connection.java', 'calculos.c', 'addon.php', 'utils.gif', 'query.sql', 'dataset.avro', 'link.vs']\n",
      "############################################# COMANDO A EJECUTAR #############################################\n",
      "echo 1684029304.277512 >> info.txt\n",
      "####################################### RESULTADO DE COMANDO EJECUTADO #######################################\n",
      "##############################################################################################################\n",
      "\n",
      "############################################# COMANDO A EJECUTAR #############################################\n",
      "echo 1684029304.388011 >> Dockerfile\n",
      "####################################### RESULTADO DE COMANDO EJECUTADO #######################################\n",
      "##############################################################################################################\n",
      "\n",
      "############################################# COMANDO A EJECUTAR #############################################\n",
      "echo 1684029304.511908 >> Manifest.yaml\n",
      "####################################### RESULTADO DE COMANDO EJECUTADO #######################################\n",
      "##############################################################################################################\n",
      "\n",
      "############################################# COMANDO A EJECUTAR #############################################\n",
      "echo 1684029304.620778 >> imagen.png\n",
      "####################################### RESULTADO DE COMANDO EJECUTADO #######################################\n",
      "##############################################################################################################\n",
      "\n",
      "############################################# COMANDO A EJECUTAR #############################################\n",
      "echo 1684029304.729395 >> main.py\n",
      "####################################### RESULTADO DE COMANDO EJECUTADO #######################################\n",
      "##############################################################################################################\n",
      "\n",
      "############################################# COMANDO A EJECUTAR #############################################\n",
      "echo 1684029304.839525 >> connection.java\n",
      "####################################### RESULTADO DE COMANDO EJECUTADO #######################################\n",
      "##############################################################################################################\n",
      "\n",
      "############################################# COMANDO A EJECUTAR #############################################\n",
      "echo 1684029304.949292 >> calculos.c\n",
      "####################################### RESULTADO DE COMANDO EJECUTADO #######################################\n",
      "##############################################################################################################\n",
      "\n",
      "############################################# COMANDO A EJECUTAR #############################################\n",
      "echo 1684029305.060576 >> addon.php\n",
      "####################################### RESULTADO DE COMANDO EJECUTADO #######################################\n",
      "##############################################################################################################\n",
      "\n",
      "############################################# COMANDO A EJECUTAR #############################################\n",
      "echo 1684029305.170391 >> utils.gif\n",
      "####################################### RESULTADO DE COMANDO EJECUTADO #######################################\n",
      "##############################################################################################################\n",
      "\n",
      "############################################# COMANDO A EJECUTAR #############################################\n",
      "echo 1684029305.281214 >> query.sql\n",
      "####################################### RESULTADO DE COMANDO EJECUTADO #######################################\n",
      "##############################################################################################################\n",
      "\n",
      "############################################# COMANDO A EJECUTAR #############################################\n",
      "echo 1684029305.39021 >> dataset.avro\n",
      "####################################### RESULTADO DE COMANDO EJECUTADO #######################################\n",
      "##############################################################################################################\n",
      "\n",
      "############################################# COMANDO A EJECUTAR #############################################\n",
      "echo 1684029305.498942 >> link.vs\n",
      "####################################### RESULTADO DE COMANDO EJECUTADO #######################################\n",
      "##############################################################################################################\n",
      "\n",
      "############################################# COMANDO A EJECUTAR #############################################\n",
      "git status\n",
      "####################################### RESULTADO DE COMANDO EJECUTADO #######################################\n",
      "On branch commit_branch\n",
      "Your branch is ahead of 'origin/commit_branch' by 6 commits.\n",
      "  (use \"git push\" to publish your local commits)\n",
      "\n",
      "Changes not staged for commit:\n",
      "  (use \"git add <file>...\" to update what will be committed)\n",
      "  (use \"git restore <file>...\" to discard changes in working directory)\n",
      "\tmodified:   Dockerfile\n",
      "\tmodified:   Manifest.yaml\n",
      "\tmodified:   addon.php\n",
      "\tmodified:   calculos.c\n",
      "\tmodified:   connection.java\n",
      "\tmodified:   dataset.avro\n",
      "\tmodified:   imagen.png\n",
      "\tmodified:   info.txt\n",
      "\tmodified:   link.vs\n",
      "\tmodified:   main.py\n",
      "\tmodified:   query.sql\n",
      "\tmodified:   utils.gif\n",
      "\n",
      "no changes added to commit (use \"git add\" and/or \"git commit -a\")\n",
      "##############################################################################################################\n",
      "\n",
      "############################################# COMANDO A EJECUTAR #############################################\n",
      "git add .\n",
      "####################################### RESULTADO DE COMANDO EJECUTADO #######################################\n",
      "##############################################################################################################\n",
      "\n",
      "############################################# COMANDO A EJECUTAR #############################################\n",
      "git status\n",
      "####################################### RESULTADO DE COMANDO EJECUTADO #######################################\n",
      "On branch commit_branch\n",
      "Your branch is ahead of 'origin/commit_branch' by 6 commits.\n",
      "  (use \"git push\" to publish your local commits)\n",
      "\n",
      "Changes to be committed:\n",
      "  (use \"git restore --staged <file>...\" to unstage)\n",
      "\tmodified:   Dockerfile\n",
      "\tmodified:   Manifest.yaml\n",
      "\tmodified:   addon.php\n",
      "\tmodified:   calculos.c\n",
      "\tmodified:   connection.java\n",
      "\tmodified:   dataset.avro\n",
      "\tmodified:   imagen.png\n",
      "\tmodified:   info.txt\n",
      "\tmodified:   link.vs\n",
      "\tmodified:   main.py\n",
      "\tmodified:   query.sql\n",
      "\tmodified:   utils.gif\n",
      "\n",
      "##############################################################################################################\n",
      "\n",
      "############################################# COMANDO A EJECUTAR #############################################\n",
      "git commit -m \"PRUEBA de COMMIT numero 7 con fecha 1684029305.79974 y valor aleatorio 4708021 y contiene el archivo addon.php\"\n",
      "####################################### RESULTADO DE COMANDO EJECUTADO #######################################\n",
      "[commit_branch accab47] PRUEBA de COMMIT numero 7 con fecha 1684029305.79974 y valor aleatorio 4708021 y contiene el archivo addon.php\n",
      " 12 files changed, 12 insertions(+)\n",
      "##############################################################################################################\n",
      "\n",
      "############################################# COMANDO A EJECUTAR #############################################\n",
      "git commit --amend --no-edit --author=cienciagoku@gmail.com\n",
      "####################################### RESULTADO DE COMANDO EJECUTADO #######################################\n",
      "[commit_branch eaa3056] PRUEBA de COMMIT numero 7 con fecha 1684029305.79974 y valor aleatorio 4708021 y contiene el archivo addon.php\n",
      " Author: QiDimMak <cienciagoku@gmail.com>\n",
      " Date: Sat May 13 20:55:05 2023 -0500\n",
      " 12 files changed, 12 insertions(+)\n",
      "##############################################################################################################\n",
      "\n",
      "lista_de_archivos = ['info.txt', 'Dockerfile', 'Manifest.yaml', 'imagen.png', 'main.py', 'connection.java', 'calculos.c', 'addon.php', 'utils.gif', 'query.sql', 'dataset.avro', 'link.vs']\n",
      "############################################# COMANDO A EJECUTAR #############################################\n",
      "echo 1684029306.084961 >> info.txt\n",
      "####################################### RESULTADO DE COMANDO EJECUTADO #######################################\n",
      "##############################################################################################################\n",
      "\n",
      "############################################# COMANDO A EJECUTAR #############################################\n",
      "echo 1684029306.19639 >> Dockerfile\n",
      "####################################### RESULTADO DE COMANDO EJECUTADO #######################################\n",
      "##############################################################################################################\n",
      "\n",
      "############################################# COMANDO A EJECUTAR #############################################\n",
      "echo 1684029306.306454 >> Manifest.yaml\n",
      "####################################### RESULTADO DE COMANDO EJECUTADO #######################################\n",
      "##############################################################################################################\n",
      "\n",
      "############################################# COMANDO A EJECUTAR #############################################\n",
      "echo 1684029306.431109 >> imagen.png\n",
      "####################################### RESULTADO DE COMANDO EJECUTADO #######################################\n",
      "##############################################################################################################\n",
      "\n",
      "############################################# COMANDO A EJECUTAR #############################################\n",
      "echo 1684029306.539982 >> main.py\n",
      "####################################### RESULTADO DE COMANDO EJECUTADO #######################################\n",
      "##############################################################################################################\n",
      "\n",
      "############################################# COMANDO A EJECUTAR #############################################\n",
      "echo 1684029306.651395 >> connection.java\n",
      "####################################### RESULTADO DE COMANDO EJECUTADO #######################################\n",
      "##############################################################################################################\n",
      "\n",
      "############################################# COMANDO A EJECUTAR #############################################\n",
      "echo 1684029306.775728 >> calculos.c\n",
      "####################################### RESULTADO DE COMANDO EJECUTADO #######################################\n",
      "##############################################################################################################\n",
      "\n",
      "############################################# COMANDO A EJECUTAR #############################################\n",
      "echo 1684029306.885631 >> addon.php\n",
      "####################################### RESULTADO DE COMANDO EJECUTADO #######################################\n",
      "##############################################################################################################\n",
      "\n",
      "############################################# COMANDO A EJECUTAR #############################################\n",
      "echo 1684029307.001217 >> utils.gif\n",
      "####################################### RESULTADO DE COMANDO EJECUTADO #######################################\n",
      "##############################################################################################################\n",
      "\n",
      "############################################# COMANDO A EJECUTAR #############################################\n",
      "echo 1684029307.124867 >> query.sql\n",
      "####################################### RESULTADO DE COMANDO EJECUTADO #######################################\n",
      "##############################################################################################################\n",
      "\n",
      "############################################# COMANDO A EJECUTAR #############################################\n",
      "echo 1684029307.246843 >> dataset.avro\n",
      "####################################### RESULTADO DE COMANDO EJECUTADO #######################################\n",
      "##############################################################################################################\n",
      "\n",
      "############################################# COMANDO A EJECUTAR #############################################\n",
      "echo 1684029307.354877 >> link.vs\n",
      "####################################### RESULTADO DE COMANDO EJECUTADO #######################################\n",
      "##############################################################################################################\n",
      "\n",
      "############################################# COMANDO A EJECUTAR #############################################\n",
      "git status\n",
      "####################################### RESULTADO DE COMANDO EJECUTADO #######################################\n",
      "On branch commit_branch\n",
      "Your branch is ahead of 'origin/commit_branch' by 7 commits.\n",
      "  (use \"git push\" to publish your local commits)\n",
      "\n",
      "Changes not staged for commit:\n",
      "  (use \"git add <file>...\" to update what will be committed)\n",
      "  (use \"git restore <file>...\" to discard changes in working directory)\n",
      "\tmodified:   Dockerfile\n",
      "\tmodified:   Manifest.yaml\n",
      "\tmodified:   addon.php\n",
      "\tmodified:   calculos.c\n",
      "\tmodified:   connection.java\n",
      "\tmodified:   dataset.avro\n",
      "\tmodified:   imagen.png\n",
      "\tmodified:   info.txt\n",
      "\tmodified:   link.vs\n",
      "\tmodified:   main.py\n",
      "\tmodified:   query.sql\n",
      "\tmodified:   utils.gif\n",
      "\n",
      "no changes added to commit (use \"git add\" and/or \"git commit -a\")\n",
      "##############################################################################################################\n",
      "\n",
      "############################################# COMANDO A EJECUTAR #############################################\n",
      "git add .\n",
      "####################################### RESULTADO DE COMANDO EJECUTADO #######################################\n",
      "##############################################################################################################\n",
      "\n",
      "############################################# COMANDO A EJECUTAR #############################################\n",
      "git status\n",
      "####################################### RESULTADO DE COMANDO EJECUTADO #######################################\n",
      "On branch commit_branch\n",
      "Your branch is ahead of 'origin/commit_branch' by 7 commits.\n",
      "  (use \"git push\" to publish your local commits)\n",
      "\n",
      "Changes to be committed:\n",
      "  (use \"git restore --staged <file>...\" to unstage)\n",
      "\tmodified:   Dockerfile\n",
      "\tmodified:   Manifest.yaml\n",
      "\tmodified:   addon.php\n",
      "\tmodified:   calculos.c\n",
      "\tmodified:   connection.java\n",
      "\tmodified:   dataset.avro\n",
      "\tmodified:   imagen.png\n",
      "\tmodified:   info.txt\n",
      "\tmodified:   link.vs\n",
      "\tmodified:   main.py\n",
      "\tmodified:   query.sql\n",
      "\tmodified:   utils.gif\n",
      "\n",
      "##############################################################################################################\n",
      "\n",
      "############################################# COMANDO A EJECUTAR #############################################\n",
      "git commit -m \"PRUEBA de COMMIT numero 8 con fecha 1684029307.654833 y valor aleatorio 9605239 y contiene el archivo info.txt\"\n",
      "####################################### RESULTADO DE COMANDO EJECUTADO #######################################\n",
      "[commit_branch 169c659] PRUEBA de COMMIT numero 8 con fecha 1684029307.654833 y valor aleatorio 9605239 y contiene el archivo info.txt\n",
      " 12 files changed, 12 insertions(+)\n",
      "##############################################################################################################\n",
      "\n",
      "############################################# COMANDO A EJECUTAR #############################################\n",
      "git log --oneline\n",
      "####################################### RESULTADO DE COMANDO EJECUTADO #######################################\n",
      "169c659 PRUEBA de COMMIT numero 8 con fecha 1684029307.654833 y valor aleatorio 9605239 y contiene el archivo info.txt\n",
      "eaa3056 PRUEBA de COMMIT numero 7 con fecha 1684029305.79974 y valor aleatorio 4708021 y contiene el archivo addon.php\n",
      "a29d420 PRUEBA de COMMIT numero 6 con fecha 1684029304.073405 y valor aleatorio 454928 y contiene el archivo connection.java\n",
      "fa01305 PRUEBA de COMMIT numero 5 con fecha 1684029302.247489 y valor aleatorio 563900 y contiene el archivo imagen.png\n",
      "d3bcc6c PRUEBA de COMMIT numero 4 con fecha 1684029300.447891 y valor aleatorio 4928734 y contiene el archivo main.py\n",
      "26be00f PRUEBA de COMMIT numero 3 con fecha 1684029298.621136 y valor aleatorio 3949262 y contiene el archivo info.txt\n",
      "ad13f1c PRUEBA de COMMIT numero 2 con fecha 1684029296.90233 y valor aleatorio 1602257 y contiene el archivo imagen.png\n",
      "abe9f44 PRUEBA de COMMIT numero 1 con fecha 1684029295.029343 y valor aleatorio 6134491 y contiene el archivo utils.gif\n",
      "fef9f41 ADICIONADO ARCHIVO link.vs 2023-05-13 20:54:47.531185\n",
      "9136f5d ADICIONADO ARCHIVO dataset.avro 2023-05-13 20:54:47.531185\n",
      "1ef02a3 ADICIONADO ARCHIVO query.sql 2023-05-13 20:54:47.531185\n",
      "bac939e ADICIONADO ARCHIVO utils.gif 2023-05-13 20:54:47.531185\n",
      "0195828 ADICIONADO ARCHIVO addon.php 2023-05-13 20:54:47.531185\n",
      "6c11289 ADICIONADO ARCHIVO calculos.c 2023-05-13 20:54:47.531185\n",
      "617bcb8 ADICIONADO ARCHIVO connection.java 2023-05-13 20:54:47.531185\n",
      "42b6a9e ADICIONADO ARCHIVO main.py 2023-05-13 20:54:47.531185\n",
      "9e8d7f9 ADICIONADO ARCHIVO imagen.png 2023-05-13 20:54:47.531185\n",
      "1dfba80 ADICIONADO ARCHIVO Manifest.yaml 2023-05-13 20:54:47.531185\n",
      "dfa947a ADICIONADO ARCHIVO Dockerfile 2023-05-13 20:54:47.531185\n",
      "80190f3 ADICIONADO ARCHIVO info.txt 2023-05-13 20:54:47.531185\n",
      "6bfbfd4 adicionado license\n",
      "e56280c adicionado .gitignore\n",
      "##############################################################################################################\n",
      "\n",
      "############################################# COMANDO A EJECUTAR #############################################\n",
      "git status\n",
      "####################################### RESULTADO DE COMANDO EJECUTADO #######################################\n",
      "On branch commit_branch\n",
      "Your branch is ahead of 'origin/commit_branch' by 8 commits.\n",
      "  (use \"git push\" to publish your local commits)\n",
      "\n",
      "nothing to commit, working tree clean\n",
      "##############################################################################################################\n",
      "\n"
     ]
    }
   ],
   "source": [
    "nombre_rama = 'commit_branch'\n",
    "crear_rama_local_y_remota(nombre_rama=nombre_rama, todos_los_archivos=True)\n",
    "\n",
    "# adicionar mas commits\n",
    "crear_commits(total_commits=8)"
   ]
  },
  {
   "cell_type": "code",
   "execution_count": 99,
   "id": "211d14be-1715-43f4-afa9-bc07f11c5992",
   "metadata": {
    "scrolled": true,
    "tags": []
   },
   "outputs": [
    {
     "name": "stdout",
     "output_type": "stream",
     "text": [
      "############################################# COMANDO A EJECUTAR #############################################\n",
      "git log\n",
      "####################################### RESULTADO DE COMANDO EJECUTADO #######################################\n",
      "commit 169c6599803a3a89eaccb8b82b77607024042169\n",
      "Author: jorgecardona <jorgecardona@utp.edu.co>\n",
      "Date:   Sat May 13 20:55:07 2023 -0500\n",
      "\n",
      "    PRUEBA de COMMIT numero 8 con fecha 1684029307.654833 y valor aleatorio 9605239 y contiene el archivo info.txt\n",
      "\n",
      "commit eaa30563ce2407f8346d50d917a67c5946be021c\n",
      "Author: QiDimMak <cienciagoku@gmail.com>\n",
      "Date:   Sat May 13 20:55:05 2023 -0500\n",
      "\n",
      "    PRUEBA de COMMIT numero 7 con fecha 1684029305.79974 y valor aleatorio 4708021 y contiene el archivo addon.php\n",
      "\n",
      "commit a29d420e38130651391954153e6a864e141a2c55\n",
      "Author: jorgecardona <jorgecardona@utp.edu.co>\n",
      "Date:   Sat May 13 20:55:04 2023 -0500\n",
      "\n",
      "    PRUEBA de COMMIT numero 6 con fecha 1684029304.073405 y valor aleatorio 454928 y contiene el archivo connection.java\n",
      "\n",
      "commit fa01305cbbeb75385f224a8e904ee18e1d4c95bc\n",
      "Author: QiDimMak <cienciagoku@gmail.com>\n",
      "Date:   Sat May 13 20:55:02 2023 -0500\n",
      "\n",
      "    PRUEBA de COMMIT numero 5 con fecha 1684029302.247489 y valor aleatorio 563900 y contiene el archivo imagen.png\n",
      "\n",
      "commit d3bcc6c2bfaddacc98e1e65e716d0f46a132c225\n",
      "Author: jorgecardona <jorgecardona@utp.edu.co>\n",
      "Date:   Sat May 13 20:55:00 2023 -0500\n",
      "\n",
      "    PRUEBA de COMMIT numero 4 con fecha 1684029300.447891 y valor aleatorio 4928734 y contiene el archivo main.py\n",
      "\n",
      "commit 26be00f2fc8fe9a24cdc9fb7ec496c6c7e5e399e\n",
      "Author: QiDimMak <cienciagoku@gmail.com>\n",
      "Date:   Sat May 13 20:54:58 2023 -0500\n",
      "\n",
      "    PRUEBA de COMMIT numero 3 con fecha 1684029298.621136 y valor aleatorio 3949262 y contiene el archivo info.txt\n",
      "\n",
      "commit ad13f1cffd04c9238bfe24781a831dff175dd8c0\n",
      "Author: jorgecardona <jorgecardona@utp.edu.co>\n",
      "Date:   Sat May 13 20:54:56 2023 -0500\n",
      "\n",
      "    PRUEBA de COMMIT numero 2 con fecha 1684029296.90233 y valor aleatorio 1602257 y contiene el archivo imagen.png\n",
      "\n",
      "commit abe9f44ddb92ba6d495a4f28385d509000eade4e\n",
      "Author: QiDimMak <cienciagoku@gmail.com>\n",
      "Date:   Sat May 13 20:54:55 2023 -0500\n",
      "\n",
      "    PRUEBA de COMMIT numero 1 con fecha 1684029295.029343 y valor aleatorio 6134491 y contiene el archivo utils.gif\n",
      "\n",
      "commit fef9f4180c0fa9291dd3c8602abc9bec119ca96c\n",
      "Author: jorgecardona <jorgecardona@utp.edu.co>\n",
      "Date:   Sat May 13 20:54:50 2023 -0500\n",
      "\n",
      "    ADICIONADO ARCHIVO link.vs 2023-05-13 20:54:47.531185\n",
      "    \n",
      "    - El proposito es generar un registro de archivos con su fecha correspondiente, - Se adiciono el archivo link.vs al commit, - La fecha donde se creao este commit es 2023-05-13 20:54:47.531185\n",
      "\n",
      "commit 9136f5da518935526d370b0c194256115d7d748e\n",
      "Author: QiDimMak <cienciagoku@gmail.com>\n",
      "Date:   Sat May 13 20:54:50 2023 -0500\n",
      "\n",
      "    ADICIONADO ARCHIVO dataset.avro 2023-05-13 20:54:47.531185\n",
      "    \n",
      "    - El proposito es generar un registro de archivos con su fecha correspondiente, - Se adiciono el archivo dataset.avro al commit, - La fecha donde se creao este commit es 2023-05-13 20:54:47.531185\n",
      "\n",
      "commit 1ef02a37adf283ca173e677ed53fd6e3bd1bc8ba\n",
      "Author: jorgecardona <jorgecardona@utp.edu.co>\n",
      "Date:   Sat May 13 20:54:50 2023 -0500\n",
      "\n",
      "    ADICIONADO ARCHIVO query.sql 2023-05-13 20:54:47.531185\n",
      "    \n",
      "    - El proposito es generar un registro de archivos con su fecha correspondiente, - Se adiciono el archivo query.sql al commit, - La fecha donde se creao este commit es 2023-05-13 20:54:47.531185\n",
      "\n",
      "commit bac939ef34c4084765e0fe0b1add67e9d651da9b\n",
      "Author: QiDimMak <cienciagoku@gmail.com>\n",
      "Date:   Sat May 13 20:54:50 2023 -0500\n",
      "\n",
      "    ADICIONADO ARCHIVO utils.gif 2023-05-13 20:54:47.531185\n",
      "    \n",
      "    - El proposito es generar un registro de archivos con su fecha correspondiente, - Se adiciono el archivo utils.gif al commit, - La fecha donde se creao este commit es 2023-05-13 20:54:47.531185\n",
      "\n",
      "commit 01958282ade83ffc2a868e744f7d78a9dc294284\n",
      "Author: jorgecardona <jorgecardona@utp.edu.co>\n",
      "Date:   Sat May 13 20:54:50 2023 -0500\n",
      "\n",
      "    ADICIONADO ARCHIVO addon.php 2023-05-13 20:54:47.531185\n",
      "    \n",
      "    - El proposito es generar un registro de archivos con su fecha correspondiente, - Se adiciono el archivo addon.php al commit, - La fecha donde se creao este commit es 2023-05-13 20:54:47.531185\n",
      "\n",
      "commit 6c11289b87969980eaf69a840a984ff987475741\n",
      "Author: QiDimMak <cienciagoku@gmail.com>\n",
      "Date:   Sat May 13 20:54:49 2023 -0500\n",
      "\n",
      "    ADICIONADO ARCHIVO calculos.c 2023-05-13 20:54:47.531185\n",
      "    \n",
      "    - El proposito es generar un registro de archivos con su fecha correspondiente, - Se adiciono el archivo calculos.c al commit, - La fecha donde se creao este commit es 2023-05-13 20:54:47.531185\n",
      "\n",
      "commit 617bcb89bd6a390e7f296eee3dc893300f40f649\n",
      "Author: jorgecardona <jorgecardona@utp.edu.co>\n",
      "Date:   Sat May 13 20:54:49 2023 -0500\n",
      "\n",
      "    ADICIONADO ARCHIVO connection.java 2023-05-13 20:54:47.531185\n",
      "    \n",
      "    - El proposito es generar un registro de archivos con su fecha correspondiente, - Se adiciono el archivo connection.java al commit, - La fecha donde se creao este commit es 2023-05-13 20:54:47.531185\n",
      "\n",
      "commit 42b6a9e3dcbb5aaa8ebfbca388ceb0553ec7d53c\n",
      "Author: QiDimMak <cienciagoku@gmail.com>\n",
      "Date:   Sat May 13 20:54:49 2023 -0500\n",
      "\n",
      "    ADICIONADO ARCHIVO main.py 2023-05-13 20:54:47.531185\n",
      "    \n",
      "    - El proposito es generar un registro de archivos con su fecha correspondiente, - Se adiciono el archivo main.py al commit, - La fecha donde se creao este commit es 2023-05-13 20:54:47.531185\n",
      "\n",
      "commit 9e8d7f9228124e4df2cad59f5b53621bc66bdb69\n",
      "Author: jorgecardona <jorgecardona@utp.edu.co>\n",
      "Date:   Sat May 13 20:54:49 2023 -0500\n",
      "\n",
      "    ADICIONADO ARCHIVO imagen.png 2023-05-13 20:54:47.531185\n",
      "    \n",
      "    - El proposito es generar un registro de archivos con su fecha correspondiente, - Se adiciono el archivo imagen.png al commit, - La fecha donde se creao este commit es 2023-05-13 20:54:47.531185\n",
      "\n",
      "commit 1dfba80bba398377e85729433d1ab89178ceb60c\n",
      "Author: QiDimMak <cienciagoku@gmail.com>\n",
      "Date:   Sat May 13 20:54:49 2023 -0500\n",
      "\n",
      "    ADICIONADO ARCHIVO Manifest.yaml 2023-05-13 20:54:47.531185\n",
      "    \n",
      "    - El proposito es generar un registro de archivos con su fecha correspondiente, - Se adiciono el archivo Manifest.yaml al commit, - La fecha donde se creao este commit es 2023-05-13 20:54:47.531185\n",
      "\n",
      "commit dfa947ab56f5df1f15d00138f36e51f330cb01f9\n",
      "Author: jorgecardona <jorgecardona@utp.edu.co>\n",
      "Date:   Sat May 13 20:54:49 2023 -0500\n",
      "\n",
      "    ADICIONADO ARCHIVO Dockerfile 2023-05-13 20:54:47.531185\n",
      "    \n",
      "    - El proposito es generar un registro de archivos con su fecha correspondiente, - Se adiciono el archivo Dockerfile al commit, - La fecha donde se creao este commit es 2023-05-13 20:54:47.531185\n",
      "\n",
      "commit 80190f3c378c7df24e4ef65e52f2d5b8ff8ce4b8\n",
      "Author: QiDimMak <cienciagoku@gmail.com>\n",
      "Date:   Sat May 13 20:54:48 2023 -0500\n",
      "\n",
      "    ADICIONADO ARCHIVO info.txt 2023-05-13 20:54:47.531185\n",
      "    \n",
      "    - El proposito es generar un registro de archivos con su fecha correspondiente, - Se adiciono el archivo info.txt al commit, - La fecha donde se creao este commit es 2023-05-13 20:54:47.531185\n",
      "\n",
      "commit 6bfbfd4a81082e9312caf0a94ba88d975f9db1e9\n",
      "Author: PARADIGMA\\QiDimMak <jorgecardona@utp.edu.co>\n",
      "Date:   Mon Mar 27 22:42:46 2023 -0500\n",
      "\n",
      "    adicionado license\n",
      "\n",
      "commit e56280cade6f8f0f6995349582d4e1eaaf07cbdd\n",
      "Author: PARADIGMA\\QiDimMak <jorgecardona@utp.edu.co>\n",
      "Date:   Mon Mar 27 22:42:26 2023 -0500\n",
      "\n",
      "    adicionado .gitignore\n",
      "##############################################################################################################\n",
      "\n",
      "############################################# COMANDO A EJECUTAR #############################################\n",
      "git branch\n",
      "####################################### RESULTADO DE COMANDO EJECUTADO #######################################\n",
      "* commit_branch\n",
      "  main\n",
      "##############################################################################################################\n",
      "\n"
     ]
    }
   ],
   "source": [
    "comando = 'git log'\n",
    "ejecutar_comando_git(comando)\n",
    "\n",
    "ejecutar_comando_shell()"
   ]
  },
  {
   "cell_type": "markdown",
   "id": "b26c3022-d94b-4132-a63b-913a1522da1c",
   "metadata": {},
   "source": [
    "### VER HISTORIAL DE LOS ULTIMOS n COMMITS"
   ]
  },
  {
   "cell_type": "code",
   "execution_count": 100,
   "id": "de4a869a-edc0-478a-ae34-79ea94a30018",
   "metadata": {
    "scrolled": true,
    "tags": []
   },
   "outputs": [
    {
     "name": "stdout",
     "output_type": "stream",
     "text": [
      "############################################# COMANDO A EJECUTAR #############################################\n",
      "git log -3\n",
      "####################################### RESULTADO DE COMANDO EJECUTADO #######################################\n",
      "commit 169c6599803a3a89eaccb8b82b77607024042169\n",
      "Author: jorgecardona <jorgecardona@utp.edu.co>\n",
      "Date:   Sat May 13 20:55:07 2023 -0500\n",
      "\n",
      "    PRUEBA de COMMIT numero 8 con fecha 1684029307.654833 y valor aleatorio 9605239 y contiene el archivo info.txt\n",
      "\n",
      "commit eaa30563ce2407f8346d50d917a67c5946be021c\n",
      "Author: QiDimMak <cienciagoku@gmail.com>\n",
      "Date:   Sat May 13 20:55:05 2023 -0500\n",
      "\n",
      "    PRUEBA de COMMIT numero 7 con fecha 1684029305.79974 y valor aleatorio 4708021 y contiene el archivo addon.php\n",
      "\n",
      "commit a29d420e38130651391954153e6a864e141a2c55\n",
      "Author: jorgecardona <jorgecardona@utp.edu.co>\n",
      "Date:   Sat May 13 20:55:04 2023 -0500\n",
      "\n",
      "    PRUEBA de COMMIT numero 6 con fecha 1684029304.073405 y valor aleatorio 454928 y contiene el archivo connection.java\n",
      "##############################################################################################################\n",
      "\n",
      "############################################# COMANDO A EJECUTAR #############################################\n",
      "git branch\n",
      "####################################### RESULTADO DE COMANDO EJECUTADO #######################################\n",
      "* commit_branch\n",
      "  main\n",
      "##############################################################################################################\n",
      "\n"
     ]
    }
   ],
   "source": [
    "comando = 'git log -3' \n",
    "ejecutar_comando_git(comando)\n",
    "\n",
    "ejecutar_comando_shell()"
   ]
  },
  {
   "cell_type": "markdown",
   "id": "934c0f46-65d5-416e-8fdc-e2f047276a04",
   "metadata": {},
   "source": [
    "### VER HISTORIAL COMMITS DEL PRIMERO AL ULTIMO"
   ]
  },
  {
   "cell_type": "code",
   "execution_count": 101,
   "id": "47a01e19-3552-4f00-b573-23346830775b",
   "metadata": {
    "tags": []
   },
   "outputs": [
    {
     "name": "stdout",
     "output_type": "stream",
     "text": [
      "############################################# COMANDO A EJECUTAR #############################################\n",
      "git log --reverse --oneline\n",
      "####################################### RESULTADO DE COMANDO EJECUTADO #######################################\n",
      "e56280c adicionado .gitignore\n",
      "6bfbfd4 adicionado license\n",
      "80190f3 ADICIONADO ARCHIVO info.txt 2023-05-13 20:54:47.531185\n",
      "dfa947a ADICIONADO ARCHIVO Dockerfile 2023-05-13 20:54:47.531185\n",
      "1dfba80 ADICIONADO ARCHIVO Manifest.yaml 2023-05-13 20:54:47.531185\n",
      "9e8d7f9 ADICIONADO ARCHIVO imagen.png 2023-05-13 20:54:47.531185\n",
      "42b6a9e ADICIONADO ARCHIVO main.py 2023-05-13 20:54:47.531185\n",
      "617bcb8 ADICIONADO ARCHIVO connection.java 2023-05-13 20:54:47.531185\n",
      "6c11289 ADICIONADO ARCHIVO calculos.c 2023-05-13 20:54:47.531185\n",
      "0195828 ADICIONADO ARCHIVO addon.php 2023-05-13 20:54:47.531185\n",
      "bac939e ADICIONADO ARCHIVO utils.gif 2023-05-13 20:54:47.531185\n",
      "1ef02a3 ADICIONADO ARCHIVO query.sql 2023-05-13 20:54:47.531185\n",
      "9136f5d ADICIONADO ARCHIVO dataset.avro 2023-05-13 20:54:47.531185\n",
      "fef9f41 ADICIONADO ARCHIVO link.vs 2023-05-13 20:54:47.531185\n",
      "abe9f44 PRUEBA de COMMIT numero 1 con fecha 1684029295.029343 y valor aleatorio 6134491 y contiene el archivo utils.gif\n",
      "ad13f1c PRUEBA de COMMIT numero 2 con fecha 1684029296.90233 y valor aleatorio 1602257 y contiene el archivo imagen.png\n",
      "26be00f PRUEBA de COMMIT numero 3 con fecha 1684029298.621136 y valor aleatorio 3949262 y contiene el archivo info.txt\n",
      "d3bcc6c PRUEBA de COMMIT numero 4 con fecha 1684029300.447891 y valor aleatorio 4928734 y contiene el archivo main.py\n",
      "fa01305 PRUEBA de COMMIT numero 5 con fecha 1684029302.247489 y valor aleatorio 563900 y contiene el archivo imagen.png\n",
      "a29d420 PRUEBA de COMMIT numero 6 con fecha 1684029304.073405 y valor aleatorio 454928 y contiene el archivo connection.java\n",
      "eaa3056 PRUEBA de COMMIT numero 7 con fecha 1684029305.79974 y valor aleatorio 4708021 y contiene el archivo addon.php\n",
      "169c659 PRUEBA de COMMIT numero 8 con fecha 1684029307.654833 y valor aleatorio 9605239 y contiene el archivo info.txt\n",
      "##############################################################################################################\n",
      "\n",
      "############################################# COMANDO A EJECUTAR #############################################\n",
      "git branch\n",
      "####################################### RESULTADO DE COMANDO EJECUTADO #######################################\n",
      "* commit_branch\n",
      "  main\n",
      "##############################################################################################################\n",
      "\n"
     ]
    }
   ],
   "source": [
    "comando = \"git log --reverse --oneline\"\n",
    "ejecutar_comando_git(comando)\n",
    "ejecutar_comando_shell()"
   ]
  },
  {
   "cell_type": "markdown",
   "id": "35553b85-985e-4dfc-933f-e9deee9bc66b",
   "metadata": {},
   "source": [
    "### VER HISTORIAL ENTRE COMMITS ESPECIFICOS"
   ]
  },
  {
   "cell_type": "code",
   "execution_count": 104,
   "id": "ec3d86ed-79ab-4bcc-9b7c-860e11c266fd",
   "metadata": {
    "tags": []
   },
   "outputs": [
    {
     "name": "stdout",
     "output_type": "stream",
     "text": [
      "############################################# COMANDO A EJECUTAR #############################################\n",
      "git log HEAD~21..HEAD~18 --reverse --oneline\n",
      "####################################### RESULTADO DE COMANDO EJECUTADO #######################################\n",
      "6bfbfd4 adicionado license\n",
      "80190f3 ADICIONADO ARCHIVO info.txt 2023-05-13 20:54:47.531185\n",
      "dfa947a ADICIONADO ARCHIVO Dockerfile 2023-05-13 20:54:47.531185\n",
      "##############################################################################################################\n",
      "\n",
      "############################################# COMANDO A EJECUTAR #############################################\n",
      "git branch\n",
      "####################################### RESULTADO DE COMANDO EJECUTADO #######################################\n",
      "* commit_branch\n",
      "  main\n",
      "##############################################################################################################\n",
      "\n"
     ]
    }
   ],
   "source": [
    "comando = \"git log HEAD~21..HEAD~18 --reverse --oneline\"\n",
    "ejecutar_comando_git(comando)\n",
    "ejecutar_comando_shell()"
   ]
  },
  {
   "cell_type": "markdown",
   "id": "604c0591-679b-490d-bde2-e85a560761c0",
   "metadata": {},
   "source": [
    "### MUESTRA EL HISTORIAL DE COMMITS AGRUPADOS POR AUTOR RAMA ACTUAL"
   ]
  },
  {
   "cell_type": "code",
   "execution_count": 107,
   "id": "165f05f6-575a-4252-abcd-8939a2bcae74",
   "metadata": {
    "tags": []
   },
   "outputs": [
    {
     "name": "stdout",
     "output_type": "stream",
     "text": [
      "############################################# COMANDO A EJECUTAR #############################################\n",
      "git shortlog origin/commit_branch\n",
      "####################################### RESULTADO DE COMANDO EJECUTADO #######################################\n",
      "PARADIGMA\\QiDimMak (2):\n",
      "      adicionado .gitignore\n",
      "      adicionado license\n",
      "\n",
      "QiDimMak (6):\n",
      "      ADICIONADO ARCHIVO info.txt 2023-05-13 20:54:47.531185\n",
      "      ADICIONADO ARCHIVO Manifest.yaml 2023-05-13 20:54:47.531185\n",
      "      ADICIONADO ARCHIVO main.py 2023-05-13 20:54:47.531185\n",
      "      ADICIONADO ARCHIVO calculos.c 2023-05-13 20:54:47.531185\n",
      "      ADICIONADO ARCHIVO utils.gif 2023-05-13 20:54:47.531185\n",
      "      ADICIONADO ARCHIVO dataset.avro 2023-05-13 20:54:47.531185\n",
      "\n",
      "jorgecardona (6):\n",
      "      ADICIONADO ARCHIVO Dockerfile 2023-05-13 20:54:47.531185\n",
      "      ADICIONADO ARCHIVO imagen.png 2023-05-13 20:54:47.531185\n",
      "      ADICIONADO ARCHIVO connection.java 2023-05-13 20:54:47.531185\n",
      "      ADICIONADO ARCHIVO addon.php 2023-05-13 20:54:47.531185\n",
      "      ADICIONADO ARCHIVO query.sql 2023-05-13 20:54:47.531185\n",
      "      ADICIONADO ARCHIVO link.vs 2023-05-13 20:54:47.531185\n",
      "\n",
      "##############################################################################################################\n",
      "\n",
      "############################################# COMANDO A EJECUTAR #############################################\n",
      "git branch\n",
      "####################################### RESULTADO DE COMANDO EJECUTADO #######################################\n",
      "* commit_branch\n",
      "  main\n",
      "##############################################################################################################\n",
      "\n"
     ]
    }
   ],
   "source": [
    "comando = 'git shortlog origin/{nombre_rama}'.format(nombre_rama=nombre_rama)\n",
    "ejecutar_comando_git(comando)\n",
    "ejecutar_comando_shell()"
   ]
  },
  {
   "cell_type": "markdown",
   "id": "20c225e6-51c5-47d4-a3ec-ce2f4b8f4b93",
   "metadata": {},
   "source": [
    "### MUESTRA EL HISTORIAL DE COMMITS AGRUPADOS POR AUTOR, FECHA, CORREO, COMMIT Y DESCRIPCION DEL COMMIT RAMA ACTUAL"
   ]
  },
  {
   "cell_type": "code",
   "execution_count": 110,
   "id": "3ceb63c2-ee89-4857-8ff5-131ff83c0bf5",
   "metadata": {
    "tags": []
   },
   "outputs": [
    {
     "name": "stdout",
     "output_type": "stream",
     "text": [
      "############################################# COMANDO A EJECUTAR #############################################\n",
      "git shortlog --format=\"%cn on %cd %ae committed %h %s\" origin/commit_branch\n",
      "####################################### RESULTADO DE COMANDO EJECUTADO #######################################\n",
      "PARADIGMA\\QiDimMak (2):\n",
      "      PARADIGMA\\QiDimMak on Mon Mar 27 22:42:26 2023 -0500 jorgecardona@utp.edu.co committed e56280c adicionado .gitignore\n",
      "      PARADIGMA\\QiDimMak on Mon Mar 27 22:42:46 2023 -0500 jorgecardona@utp.edu.co committed 6bfbfd4 adicionado license\n",
      "\n",
      "QiDimMak (6):\n",
      "      jorgecardona on Sat May 13 20:54:49 2023 -0500 cienciagoku@gmail.com committed 80190f3 ADICIONADO ARCHIVO info.txt 2023-05-13 20:54:47.531185\n",
      "      jorgecardona on Sat May 13 20:54:49 2023 -0500 cienciagoku@gmail.com committed 1dfba80 ADICIONADO ARCHIVO Manifest.yaml 2023-05-13 20:54:47.531185\n",
      "      jorgecardona on Sat May 13 20:54:49 2023 -0500 cienciagoku@gmail.com committed 42b6a9e ADICIONADO ARCHIVO main.py 2023-05-13 20:54:47.531185\n",
      "      jorgecardona on Sat May 13 20:54:49 2023 -0500 cienciagoku@gmail.com committed 6c11289 ADICIONADO ARCHIVO calculos.c 2023-05-13 20:54:47.531185\n",
      "      jorgecardona on Sat May 13 20:54:50 2023 -0500 cienciagoku@gmail.com committed bac939e ADICIONADO ARCHIVO utils.gif 2023-05-13 20:54:47.531185\n",
      "      jorgecardona on Sat May 13 20:54:50 2023 -0500 cienciagoku@gmail.com committed 9136f5d ADICIONADO ARCHIVO dataset.avro 2023-05-13 20:54:47.531185\n",
      "\n",
      "jorgecardona (6):\n",
      "      jorgecardona on Sat May 13 20:54:49 2023 -0500 jorgecardona@utp.edu.co committed dfa947a ADICIONADO ARCHIVO Dockerfile 2023-05-13 20:54:47.531185\n",
      "      jorgecardona on Sat May 13 20:54:49 2023 -0500 jorgecardona@utp.edu.co committed 9e8d7f9 ADICIONADO ARCHIVO imagen.png 2023-05-13 20:54:47.531185\n",
      "      jorgecardona on Sat May 13 20:54:49 2023 -0500 jorgecardona@utp.edu.co committed 617bcb8 ADICIONADO ARCHIVO connection.java 2023-05-13 20:54:47.531185\n",
      "      jorgecardona on Sat May 13 20:54:50 2023 -0500 jorgecardona@utp.edu.co committed 0195828 ADICIONADO ARCHIVO addon.php 2023-05-13 20:54:47.531185\n",
      "      jorgecardona on Sat May 13 20:54:50 2023 -0500 jorgecardona@utp.edu.co committed 1ef02a3 ADICIONADO ARCHIVO query.sql 2023-05-13 20:54:47.531185\n",
      "      jorgecardona on Sat May 13 20:54:50 2023 -0500 jorgecardona@utp.edu.co committed fef9f41 ADICIONADO ARCHIVO link.vs 2023-05-13 20:54:47.531185\n",
      "\n",
      "##############################################################################################################\n",
      "\n",
      "############################################# COMANDO A EJECUTAR #############################################\n",
      "git branch\n",
      "####################################### RESULTADO DE COMANDO EJECUTADO #######################################\n",
      "* commit_branch\n",
      "  main\n",
      "##############################################################################################################\n",
      "\n"
     ]
    }
   ],
   "source": [
    "comando = 'git shortlog --format=\"%cn on %cd %ae committed %h %s\" origin/{nombre_rama}'.format(nombre_rama=nombre_rama)\n",
    "ejecutar_comando_git(comando)\n",
    "ejecutar_comando_shell()"
   ]
  },
  {
   "cell_type": "markdown",
   "id": "8c482b6e-9339-441b-a2f9-2fbaeeb0768e",
   "metadata": {},
   "source": [
    "### MUESTRA EL HISTORIAL DE COMMITS AGRUPADOS POR AUTOR... RAMA POR RAMA"
   ]
  },
  {
   "cell_type": "code",
   "execution_count": 136,
   "id": "4fff81f9-c147-4456-bf9c-286f91c22a03",
   "metadata": {
    "tags": []
   },
   "outputs": [
    {
     "name": "stdout",
     "output_type": "stream",
     "text": [
      "############################################# COMANDO A EJECUTAR #############################################\n",
      "git shortlog --all --format=\"%cn on %cd %ae committed %h %s %d\" --branches\n",
      "####################################### RESULTADO DE COMANDO EJECUTADO #######################################\n",
      "PARADIGMA\\QiDimMak (26):\n",
      "      PARADIGMA\\QiDimMak on Mon Mar 27 22:42:26 2023 -0500 jorgecardona@utp.edu.co committed e56280c adicionado .gitignore\n",
      "      PARADIGMA\\QiDimMak on Mon Mar 27 22:42:46 2023 -0500 jorgecardona@utp.edu.co committed 6bfbfd4 adicionado license  (main)\n",
      "      PARADIGMA\\QiDimMak on Mon Mar 27 22:43:04 2023 -0500 jorgecardona@utp.edu.co committed fd01bde adicionado readme\n",
      "      PARADIGMA\\QiDimMak on Mon Mar 27 22:44:25 2023 -0500 jorgecardona@utp.edu.co committed d481740 adicionado requirements.txt\n",
      "      PARADIGMA\\QiDimMak on Tue Mar 28 06:31:10 2023 -0500 jorgecardona@utp.edu.co committed ae943f2 configuraion general y de ambiente\n",
      "      PARADIGMA\\QiDimMak on Tue Mar 28 06:31:38 2023 -0500 jorgecardona@utp.edu.co committed 1fb50b9 adicionado archivo csv\n",
      "      PARADIGMA\\QiDimMak on Tue Mar 28 06:31:55 2023 -0500 jorgecardona@utp.edu.co committed d158721 adicionado archivo html\n",
      "      PARADIGMA\\QiDimMak on Tue Mar 28 06:34:38 2023 -0500 jorgecardona@utp.edu.co committed 56221ac adicionado archivo pdf\n",
      "      PARADIGMA\\QiDimMak on Tue Mar 28 06:34:49 2023 -0500 jorgecardona@utp.edu.co committed 19556bc adicionado archivo word\n",
      "      PARADIGMA\\QiDimMak on Tue Mar 28 06:35:00 2023 -0500 jorgecardona@utp.edu.co committed 5921bed adicionado archivo power point\n",
      "      PARADIGMA\\QiDimMak on Tue Mar 28 06:35:07 2023 -0500 jorgecardona@utp.edu.co committed 474faa1 adicionado archivo excel\n",
      "      PARADIGMA\\QiDimMak on Tue Mar 28 06:37:32 2023 -0500 jorgecardona@utp.edu.co committed ceb9edd adicionado archivo rtf\n",
      "      PARADIGMA\\QiDimMak on Tue Mar 28 06:37:45 2023 -0500 jorgecardona@utp.edu.co committed 286ebcf adicionada imagen bmp  (origin/multi_commits)\n",
      "      PARADIGMA\\QiDimMak on Tue Mar 28 07:02:49 2023 -0500 jorgecardona@utp.edu.co committed 00d5b10 adicionada funcion suma\n",
      "      PARADIGMA\\QiDimMak on Tue Mar 28 07:04:05 2023 -0500 jorgecardona@utp.edu.co committed 08805df adicionada funcion resta\n",
      "      PARADIGMA\\QiDimMak on Tue Mar 28 07:04:50 2023 -0500 jorgecardona@utp.edu.co committed d8f1222 adicionada funcion multiplicacion\n",
      "      PARADIGMA\\QiDimMak on Tue Mar 28 07:05:39 2023 -0500 jorgecardona@utp.edu.co committed 4da1e88 adicionada funcion division_decimal\n",
      "      PARADIGMA\\QiDimMak on Tue Mar 28 07:06:20 2023 -0500 jorgecardona@utp.edu.co committed ff56388 adicionada funcion division_entera\n",
      "      PARADIGMA\\QiDimMak on Tue Mar 28 07:06:48 2023 -0500 jorgecardona@utp.edu.co committed f649a14 cambio de parametros\n",
      "      PARADIGMA\\QiDimMak on Tue Mar 28 07:07:34 2023 -0500 jorgecardona@utp.edu.co committed 0b5c404 adicionada funcion potencia\n",
      "      PARADIGMA\\QiDimMak on Tue Mar 28 07:08:47 2023 -0500 jorgecardona@utp.edu.co committed b6a5eb0 adicionada funcion raiz_cuadrada\n",
      "      PARADIGMA\\QiDimMak on Tue Mar 28 07:09:30 2023 -0500 jorgecardona@utp.edu.co committed 269f907 adicionada funcion logaritmo\n",
      "      PARADIGMA\\QiDimMak on Tue Mar 28 07:10:15 2023 -0500 jorgecardona@utp.edu.co committed 188fcd5 adicionada funcion piso\n",
      "      PARADIGMA\\QiDimMak on Tue Mar 28 07:11:36 2023 -0500 jorgecardona@utp.edu.co committed b0b559d adicionada funcion techo\n",
      "      PARADIGMA\\QiDimMak on Tue Mar 28 07:11:49 2023 -0500 jorgecardona@utp.edu.co committed c4b9789 adicionada funcion factorial\n",
      "      PARADIGMA\\QiDimMak on Tue Mar 28 08:12:44 2023 -0500 jorgecardona@utp.edu.co committed 1b7be03 adicionada multiplicacion de numeros imaginarios  (origin/bisect_branch)\n",
      "\n",
      "QiDimMak (11):\n",
      "      QiDimMak on Sat Apr 8 23:07:03 2023 -0500 cienciagoku@gmail.com committed c0925c2 adicionado usuario  (origin/main, origin/HEAD)\n",
      "      jorgecardona on Sat May 13 20:54:49 2023 -0500 cienciagoku@gmail.com committed 80190f3 ADICIONADO ARCHIVO info.txt 2023-05-13 20:54:47.531185\n",
      "      jorgecardona on Sat May 13 20:54:49 2023 -0500 cienciagoku@gmail.com committed 1dfba80 ADICIONADO ARCHIVO Manifest.yaml 2023-05-13 20:54:47.531185\n",
      "      jorgecardona on Sat May 13 20:54:49 2023 -0500 cienciagoku@gmail.com committed 42b6a9e ADICIONADO ARCHIVO main.py 2023-05-13 20:54:47.531185\n",
      "      jorgecardona on Sat May 13 20:54:49 2023 -0500 cienciagoku@gmail.com committed 6c11289 ADICIONADO ARCHIVO calculos.c 2023-05-13 20:54:47.531185\n",
      "      jorgecardona on Sat May 13 20:54:50 2023 -0500 cienciagoku@gmail.com committed bac939e ADICIONADO ARCHIVO utils.gif 2023-05-13 20:54:47.531185\n",
      "      jorgecardona on Sat May 13 20:54:50 2023 -0500 cienciagoku@gmail.com committed 9136f5d ADICIONADO ARCHIVO dataset.avro 2023-05-13 20:54:47.531185\n",
      "      jorgecardona on Sat May 13 20:54:55 2023 -0500 cienciagoku@gmail.com committed abe9f44 PRUEBA de COMMIT numero 1 con fecha 1684029295.029343 y valor aleatorio 6134491 y contiene el archivo utils.gif\n",
      "      jorgecardona on Sat May 13 20:54:58 2023 -0500 cienciagoku@gmail.com committed 26be00f PRUEBA de COMMIT numero 3 con fecha 1684029298.621136 y valor aleatorio 3949262 y contiene el archivo info.txt\n",
      "      jorgecardona on Sat May 13 20:55:02 2023 -0500 cienciagoku@gmail.com committed fa01305 PRUEBA de COMMIT numero 5 con fecha 1684029302.247489 y valor aleatorio 563900 y contiene el archivo imagen.png\n",
      "      jorgecardona on Sat May 13 20:55:05 2023 -0500 cienciagoku@gmail.com committed eaa3056 PRUEBA de COMMIT numero 7 con fecha 1684029305.79974 y valor aleatorio 4708021 y contiene el archivo addon.php\n",
      "\n",
      "jorgecardona (10):\n",
      "      jorgecardona on Sat May 13 20:54:49 2023 -0500 jorgecardona@utp.edu.co committed dfa947a ADICIONADO ARCHIVO Dockerfile 2023-05-13 20:54:47.531185\n",
      "      jorgecardona on Sat May 13 20:54:49 2023 -0500 jorgecardona@utp.edu.co committed 9e8d7f9 ADICIONADO ARCHIVO imagen.png 2023-05-13 20:54:47.531185\n",
      "      jorgecardona on Sat May 13 20:54:49 2023 -0500 jorgecardona@utp.edu.co committed 617bcb8 ADICIONADO ARCHIVO connection.java 2023-05-13 20:54:47.531185\n",
      "      jorgecardona on Sat May 13 20:54:50 2023 -0500 jorgecardona@utp.edu.co committed 0195828 ADICIONADO ARCHIVO addon.php 2023-05-13 20:54:47.531185\n",
      "      jorgecardona on Sat May 13 20:54:50 2023 -0500 jorgecardona@utp.edu.co committed 1ef02a3 ADICIONADO ARCHIVO query.sql 2023-05-13 20:54:47.531185\n",
      "      jorgecardona on Sat May 13 20:54:50 2023 -0500 jorgecardona@utp.edu.co committed fef9f41 ADICIONADO ARCHIVO link.vs 2023-05-13 20:54:47.531185  (origin/commit_branch)\n",
      "      jorgecardona on Sat May 13 20:54:56 2023 -0500 jorgecardona@utp.edu.co committed ad13f1c PRUEBA de COMMIT numero 2 con fecha 1684029296.90233 y valor aleatorio 1602257 y contiene el archivo imagen.png\n",
      "      jorgecardona on Sat May 13 20:55:00 2023 -0500 jorgecardona@utp.edu.co committed d3bcc6c PRUEBA de COMMIT numero 4 con fecha 1684029300.447891 y valor aleatorio 4928734 y contiene el archivo main.py\n",
      "      jorgecardona on Sat May 13 20:55:04 2023 -0500 jorgecardona@utp.edu.co committed a29d420 PRUEBA de COMMIT numero 6 con fecha 1684029304.073405 y valor aleatorio 454928 y contiene el archivo connection.java\n",
      "      jorgecardona on Sat May 13 20:55:07 2023 -0500 jorgecardona@utp.edu.co committed 169c659 PRUEBA de COMMIT numero 8 con fecha 1684029307.654833 y valor aleatorio 9605239 y contiene el archivo info.txt  (HEAD -> commit_branch)\n",
      "\n",
      "##############################################################################################################\n",
      "\n",
      "############################################# COMANDO A EJECUTAR #############################################\n",
      "git branch\n",
      "####################################### RESULTADO DE COMANDO EJECUTADO #######################################\n",
      "* commit_branch\n",
      "  main\n",
      "##############################################################################################################\n",
      "\n"
     ]
    }
   ],
   "source": [
    "comando = 'git shortlog --all --format=\"%cn on %cd %ae committed %h %s %d\" --branches'\n",
    "ejecutar_comando_git(comando)\n",
    "ejecutar_comando_shell()"
   ]
  },
  {
   "cell_type": "markdown",
   "id": "1c037b19-3dd0-466d-b567-4ccb0efd2850",
   "metadata": {},
   "source": [
    "### MUESTRA EL HISTORIAL DE COMMITS AGRUPADOS POR AUTOR CON METADATOS Y FILTRADO EN EL TIEMPO"
   ]
  },
  {
   "cell_type": "code",
   "execution_count": 117,
   "id": "f9b8a156-0573-4cd1-8847-4dc6f06141ec",
   "metadata": {
    "tags": []
   },
   "outputs": [
    {
     "name": "stdout",
     "output_type": "stream",
     "text": [
      "############################################# COMANDO A EJECUTAR #############################################\n",
      "git shortlog --format=\"%s %ae\" --since=\"01-01-2023\" --until=\"31-03-2023\" origin/commit_branch\n",
      "####################################### RESULTADO DE COMANDO EJECUTADO #######################################\n",
      "PARADIGMA\\QiDimMak (2):\n",
      "      adicionado .gitignore jorgecardona@utp.edu.co\n",
      "      adicionado license jorgecardona@utp.edu.co\n",
      "\n",
      "##############################################################################################################\n",
      "\n"
     ]
    }
   ],
   "source": [
    "comando = 'git shortlog --format=\"%s %ae\" --since=\"01-01-2023\" --until=\"31-03-2023\" origin/{nombre_rama}'.format(nombre_rama=nombre_rama)\n",
    "ejecutar_comando_git(comando)"
   ]
  },
  {
   "cell_type": "markdown",
   "id": "c77e7fac-fc4e-420f-8bca-da5c77cb628f",
   "metadata": {},
   "source": [
    "### MUESTRA EL HISTORIAL DE COMMITS CON MAS DETALLES POR AUTOR"
   ]
  },
  {
   "cell_type": "markdown",
   "id": "3363691d-ce4a-4c30-90e7-f1cc5ae02dc4",
   "metadata": {
    "tags": []
   },
   "source": [
    "### REMOTO"
   ]
  },
  {
   "cell_type": "code",
   "execution_count": 137,
   "id": "21a037e3-a947-4fd8-926c-5204f3240942",
   "metadata": {
    "tags": []
   },
   "outputs": [
    {
     "name": "stdout",
     "output_type": "stream",
     "text": [
      "############################################# COMANDO A EJECUTAR #############################################\n",
      "git shortlog --format=\"%cn on %cd %ae committed %h %s\" --since=\"01-01-2023\" --until=\"31-03-2023\" origin/commit_branch\n",
      "####################################### RESULTADO DE COMANDO EJECUTADO #######################################\n",
      "PARADIGMA\\QiDimMak (2):\n",
      "      PARADIGMA\\QiDimMak on Mon Mar 27 22:42:26 2023 -0500 jorgecardona@utp.edu.co committed e56280c adicionado .gitignore\n",
      "      PARADIGMA\\QiDimMak on Mon Mar 27 22:42:46 2023 -0500 jorgecardona@utp.edu.co committed 6bfbfd4 adicionado license\n",
      "\n",
      "##############################################################################################################\n",
      "\n"
     ]
    }
   ],
   "source": [
    "comando = 'git shortlog --format=\"%cn on %cd %ae committed %h %s\" --since=\"01-01-2023\" --until=\"31-03-2023\" origin/{nombre_rama}'.format(nombre_rama=nombre_rama)\n",
    "ejecutar_comando_git(comando)"
   ]
  },
  {
   "cell_type": "markdown",
   "id": "fcae466d-2b56-4270-9656-86f7372168d9",
   "metadata": {
    "tags": []
   },
   "source": [
    "### LOCAL"
   ]
  },
  {
   "cell_type": "code",
   "execution_count": 138,
   "id": "11540ed4-d51d-4e15-8789-1681a8a25e54",
   "metadata": {
    "tags": []
   },
   "outputs": [
    {
     "name": "stdout",
     "output_type": "stream",
     "text": [
      "############################################# COMANDO A EJECUTAR #############################################\n",
      "git log --pretty=format:\"%cn on %cd %ae committed %h %s\"  --since=\"31-03-2023\" --until=\"31-12-2023\"\n",
      "####################################### RESULTADO DE COMANDO EJECUTADO #######################################\n",
      "jorgecardona on Sat May 13 20:55:07 2023 -0500 jorgecardona@utp.edu.co committed 169c659 PRUEBA de COMMIT numero 8 con fecha 1684029307.654833 y valor aleatorio 9605239 y contiene el archivo info.txt\n",
      "jorgecardona on Sat May 13 20:55:05 2023 -0500 cienciagoku@gmail.com committed eaa3056 PRUEBA de COMMIT numero 7 con fecha 1684029305.79974 y valor aleatorio 4708021 y contiene el archivo addon.php\n",
      "jorgecardona on Sat May 13 20:55:04 2023 -0500 jorgecardona@utp.edu.co committed a29d420 PRUEBA de COMMIT numero 6 con fecha 1684029304.073405 y valor aleatorio 454928 y contiene el archivo connection.java\n",
      "jorgecardona on Sat May 13 20:55:02 2023 -0500 cienciagoku@gmail.com committed fa01305 PRUEBA de COMMIT numero 5 con fecha 1684029302.247489 y valor aleatorio 563900 y contiene el archivo imagen.png\n",
      "jorgecardona on Sat May 13 20:55:00 2023 -0500 jorgecardona@utp.edu.co committed d3bcc6c PRUEBA de COMMIT numero 4 con fecha 1684029300.447891 y valor aleatorio 4928734 y contiene el archivo main.py\n",
      "jorgecardona on Sat May 13 20:54:58 2023 -0500 cienciagoku@gmail.com committed 26be00f PRUEBA de COMMIT numero 3 con fecha 1684029298.621136 y valor aleatorio 3949262 y contiene el archivo info.txt\n",
      "jorgecardona on Sat May 13 20:54:56 2023 -0500 jorgecardona@utp.edu.co committed ad13f1c PRUEBA de COMMIT numero 2 con fecha 1684029296.90233 y valor aleatorio 1602257 y contiene el archivo imagen.png\n",
      "jorgecardona on Sat May 13 20:54:55 2023 -0500 cienciagoku@gmail.com committed abe9f44 PRUEBA de COMMIT numero 1 con fecha 1684029295.029343 y valor aleatorio 6134491 y contiene el archivo utils.gif\n",
      "jorgecardona on Sat May 13 20:54:50 2023 -0500 jorgecardona@utp.edu.co committed fef9f41 ADICIONADO ARCHIVO link.vs 2023-05-13 20:54:47.531185\n",
      "jorgecardona on Sat May 13 20:54:50 2023 -0500 cienciagoku@gmail.com committed 9136f5d ADICIONADO ARCHIVO dataset.avro 2023-05-13 20:54:47.531185\n",
      "jorgecardona on Sat May 13 20:54:50 2023 -0500 jorgecardona@utp.edu.co committed 1ef02a3 ADICIONADO ARCHIVO query.sql 2023-05-13 20:54:47.531185\n",
      "jorgecardona on Sat May 13 20:54:50 2023 -0500 cienciagoku@gmail.com committed bac939e ADICIONADO ARCHIVO utils.gif 2023-05-13 20:54:47.531185\n",
      "jorgecardona on Sat May 13 20:54:50 2023 -0500 jorgecardona@utp.edu.co committed 0195828 ADICIONADO ARCHIVO addon.php 2023-05-13 20:54:47.531185\n",
      "jorgecardona on Sat May 13 20:54:49 2023 -0500 cienciagoku@gmail.com committed 6c11289 ADICIONADO ARCHIVO calculos.c 2023-05-13 20:54:47.531185\n",
      "jorgecardona on Sat May 13 20:54:49 2023 -0500 jorgecardona@utp.edu.co committed 617bcb8 ADICIONADO ARCHIVO connection.java 2023-05-13 20:54:47.531185\n",
      "jorgecardona on Sat May 13 20:54:49 2023 -0500 cienciagoku@gmail.com committed 42b6a9e ADICIONADO ARCHIVO main.py 2023-05-13 20:54:47.531185\n",
      "jorgecardona on Sat May 13 20:54:49 2023 -0500 jorgecardona@utp.edu.co committed 9e8d7f9 ADICIONADO ARCHIVO imagen.png 2023-05-13 20:54:47.531185\n",
      "jorgecardona on Sat May 13 20:54:49 2023 -0500 cienciagoku@gmail.com committed 1dfba80 ADICIONADO ARCHIVO Manifest.yaml 2023-05-13 20:54:47.531185\n",
      "jorgecardona on Sat May 13 20:54:49 2023 -0500 jorgecardona@utp.edu.co committed dfa947a ADICIONADO ARCHIVO Dockerfile 2023-05-13 20:54:47.531185\n",
      "jorgecardona on Sat May 13 20:54:49 2023 -0500 cienciagoku@gmail.com committed 80190f3 ADICIONADO ARCHIVO info.txt 2023-05-13 20:54:47.531185##############################################################################################################\n",
      "\n"
     ]
    }
   ],
   "source": [
    "comando = 'git log --pretty=format:\"%cn on %cd %ae committed %h %s\"  --since=\"31-03-2023\" --until=\"31-12-2023\"'\n",
    "ejecutar_comando_git(comando)"
   ]
  },
  {
   "cell_type": "markdown",
   "id": "261c9a60-577f-4023-8254-8301cb39dc1c",
   "metadata": {},
   "source": [
    "### FILTRADO POR EMAIL"
   ]
  },
  {
   "cell_type": "code",
   "execution_count": 139,
   "id": "ec08d9fa-fdd6-4d64-8c87-9fab11cb87c7",
   "metadata": {
    "tags": []
   },
   "outputs": [
    {
     "name": "stdout",
     "output_type": "stream",
     "text": [
      "############################################# COMANDO A EJECUTAR #############################################\n",
      "git shortlog --author=\"jorgecardona@utp.edu.co\" --format=\"%cn on %cd %ae committed %h %s\" --since=\"01-01-2023\" --until=\"31-03-2023\" origin/commit_branch\n",
      "####################################### RESULTADO DE COMANDO EJECUTADO #######################################\n",
      "PARADIGMA\\QiDimMak (2):\n",
      "      PARADIGMA\\QiDimMak on Mon Mar 27 22:42:26 2023 -0500 jorgecardona@utp.edu.co committed e56280c adicionado .gitignore\n",
      "      PARADIGMA\\QiDimMak on Mon Mar 27 22:42:46 2023 -0500 jorgecardona@utp.edu.co committed 6bfbfd4 adicionado license\n",
      "\n",
      "##############################################################################################################\n",
      "\n"
     ]
    }
   ],
   "source": [
    "comando = 'git shortlog --author=\"jorgecardona@utp.edu.co\" --format=\"%cn on %cd %ae committed %h %s\" --since=\"01-01-2023\" --until=\"31-03-2023\" origin/{nombre_rama}'.format(nombre_rama=nombre_rama)\n",
    "ejecutar_comando_git(comando)"
   ]
  },
  {
   "cell_type": "markdown",
   "id": "1d738caf-e481-40af-9c43-15396299a5d8",
   "metadata": {},
   "source": [
    "### FILTRADO POR MENSAJE"
   ]
  },
  {
   "cell_type": "code",
   "execution_count": 140,
   "id": "d91f64a7-de2a-499d-ac63-d1a729a25a19",
   "metadata": {
    "tags": []
   },
   "outputs": [
    {
     "name": "stdout",
     "output_type": "stream",
     "text": [
      "############################################# COMANDO A EJECUTAR #############################################\n",
      "git shortlog --grep=\"archivo\" --format=\"%cn on %cd %ae committed %h %s\" --since=\"01-01-2023\" --until=\"31-03-2023\" origin/commit_branch\n",
      "####################################### RESULTADO DE COMANDO EJECUTADO #######################################\n",
      "##############################################################################################################\n",
      "\n"
     ]
    }
   ],
   "source": [
    "comando = 'git shortlog --grep=\"archivo\" --format=\"%cn on %cd %ae committed %h %s\" --since=\"01-01-2023\" --until=\"31-03-2023\" origin/{nombre_rama}'.format(nombre_rama=nombre_rama)\n",
    "ejecutar_comando_git(comando)"
   ]
  },
  {
   "cell_type": "markdown",
   "id": "ab7de92b-45de-44d5-9c9f-c393e9e821ce",
   "metadata": {},
   "source": [
    "### FILTRADO POR ARCHIVO"
   ]
  },
  {
   "cell_type": "code",
   "execution_count": 141,
   "id": "a52a17ff-a75d-432e-95a2-fb1075d1f5b9",
   "metadata": {
    "tags": []
   },
   "outputs": [
    {
     "name": "stdout",
     "output_type": "stream",
     "text": [
      "############################################# COMANDO A EJECUTAR #############################################\n",
      "git log --oneline -- info.txt archivo.pdf Dockerfile origin/commit_branch\n",
      "####################################### RESULTADO DE COMANDO EJECUTADO #######################################\n",
      "169c659 PRUEBA de COMMIT numero 8 con fecha 1684029307.654833 y valor aleatorio 9605239 y contiene el archivo info.txt\n",
      "eaa3056 PRUEBA de COMMIT numero 7 con fecha 1684029305.79974 y valor aleatorio 4708021 y contiene el archivo addon.php\n",
      "a29d420 PRUEBA de COMMIT numero 6 con fecha 1684029304.073405 y valor aleatorio 454928 y contiene el archivo connection.java\n",
      "fa01305 PRUEBA de COMMIT numero 5 con fecha 1684029302.247489 y valor aleatorio 563900 y contiene el archivo imagen.png\n",
      "d3bcc6c PRUEBA de COMMIT numero 4 con fecha 1684029300.447891 y valor aleatorio 4928734 y contiene el archivo main.py\n",
      "26be00f PRUEBA de COMMIT numero 3 con fecha 1684029298.621136 y valor aleatorio 3949262 y contiene el archivo info.txt\n",
      "ad13f1c PRUEBA de COMMIT numero 2 con fecha 1684029296.90233 y valor aleatorio 1602257 y contiene el archivo imagen.png\n",
      "abe9f44 PRUEBA de COMMIT numero 1 con fecha 1684029295.029343 y valor aleatorio 6134491 y contiene el archivo utils.gif\n",
      "dfa947a ADICIONADO ARCHIVO Dockerfile 2023-05-13 20:54:47.531185\n",
      "80190f3 ADICIONADO ARCHIVO info.txt 2023-05-13 20:54:47.531185\n",
      "##############################################################################################################\n",
      "\n"
     ]
    }
   ],
   "source": [
    "comando = 'git log --oneline -- info.txt archivo.pdf Dockerfile origin/{nombre_rama}'.format(nombre_rama=nombre_rama)\n",
    "ejecutar_comando_git(comando)"
   ]
  },
  {
   "cell_type": "markdown",
   "id": "cf762281-7956-48ec-85b6-bcde43373419",
   "metadata": {},
   "source": [
    "### FILTRADO POR COMMITS NO MERGED"
   ]
  },
  {
   "cell_type": "code",
   "execution_count": 142,
   "id": "2ed9bad1-82fc-4d40-aa20-de6331b6c0d4",
   "metadata": {
    "tags": []
   },
   "outputs": [
    {
     "name": "stdout",
     "output_type": "stream",
     "text": [
      "############################################# COMANDO A EJECUTAR #############################################\n",
      "git log --oneline --no-merges origin/commit_branch\n",
      "####################################### RESULTADO DE COMANDO EJECUTADO #######################################\n",
      "fef9f41 ADICIONADO ARCHIVO link.vs 2023-05-13 20:54:47.531185\n",
      "9136f5d ADICIONADO ARCHIVO dataset.avro 2023-05-13 20:54:47.531185\n",
      "1ef02a3 ADICIONADO ARCHIVO query.sql 2023-05-13 20:54:47.531185\n",
      "bac939e ADICIONADO ARCHIVO utils.gif 2023-05-13 20:54:47.531185\n",
      "0195828 ADICIONADO ARCHIVO addon.php 2023-05-13 20:54:47.531185\n",
      "6c11289 ADICIONADO ARCHIVO calculos.c 2023-05-13 20:54:47.531185\n",
      "617bcb8 ADICIONADO ARCHIVO connection.java 2023-05-13 20:54:47.531185\n",
      "42b6a9e ADICIONADO ARCHIVO main.py 2023-05-13 20:54:47.531185\n",
      "9e8d7f9 ADICIONADO ARCHIVO imagen.png 2023-05-13 20:54:47.531185\n",
      "1dfba80 ADICIONADO ARCHIVO Manifest.yaml 2023-05-13 20:54:47.531185\n",
      "dfa947a ADICIONADO ARCHIVO Dockerfile 2023-05-13 20:54:47.531185\n",
      "80190f3 ADICIONADO ARCHIVO info.txt 2023-05-13 20:54:47.531185\n",
      "6bfbfd4 adicionado license\n",
      "e56280c adicionado .gitignore\n",
      "##############################################################################################################\n",
      "\n"
     ]
    }
   ],
   "source": [
    "comando = 'git log --oneline --no-merges origin/{nombre_rama}'.format(nombre_rama=nombre_rama)\n",
    "ejecutar_comando_git(comando)"
   ]
  },
  {
   "cell_type": "markdown",
   "id": "17309b57-9e0f-4b16-81db-abfe3f07d762",
   "metadata": {},
   "source": [
    "### VER HISTORIAL RESUMIDO DE UNA RAMA"
   ]
  },
  {
   "cell_type": "code",
   "execution_count": 143,
   "id": "28b90f01-56d6-4474-822e-5f38e384198c",
   "metadata": {
    "tags": []
   },
   "outputs": [
    {
     "name": "stdout",
     "output_type": "stream",
     "text": [
      "############################################# COMANDO A EJECUTAR #############################################\n",
      "git log --oneline\n",
      "####################################### RESULTADO DE COMANDO EJECUTADO #######################################\n",
      "169c659 PRUEBA de COMMIT numero 8 con fecha 1684029307.654833 y valor aleatorio 9605239 y contiene el archivo info.txt\n",
      "eaa3056 PRUEBA de COMMIT numero 7 con fecha 1684029305.79974 y valor aleatorio 4708021 y contiene el archivo addon.php\n",
      "a29d420 PRUEBA de COMMIT numero 6 con fecha 1684029304.073405 y valor aleatorio 454928 y contiene el archivo connection.java\n",
      "fa01305 PRUEBA de COMMIT numero 5 con fecha 1684029302.247489 y valor aleatorio 563900 y contiene el archivo imagen.png\n",
      "d3bcc6c PRUEBA de COMMIT numero 4 con fecha 1684029300.447891 y valor aleatorio 4928734 y contiene el archivo main.py\n",
      "26be00f PRUEBA de COMMIT numero 3 con fecha 1684029298.621136 y valor aleatorio 3949262 y contiene el archivo info.txt\n",
      "ad13f1c PRUEBA de COMMIT numero 2 con fecha 1684029296.90233 y valor aleatorio 1602257 y contiene el archivo imagen.png\n",
      "abe9f44 PRUEBA de COMMIT numero 1 con fecha 1684029295.029343 y valor aleatorio 6134491 y contiene el archivo utils.gif\n",
      "fef9f41 ADICIONADO ARCHIVO link.vs 2023-05-13 20:54:47.531185\n",
      "9136f5d ADICIONADO ARCHIVO dataset.avro 2023-05-13 20:54:47.531185\n",
      "1ef02a3 ADICIONADO ARCHIVO query.sql 2023-05-13 20:54:47.531185\n",
      "bac939e ADICIONADO ARCHIVO utils.gif 2023-05-13 20:54:47.531185\n",
      "0195828 ADICIONADO ARCHIVO addon.php 2023-05-13 20:54:47.531185\n",
      "6c11289 ADICIONADO ARCHIVO calculos.c 2023-05-13 20:54:47.531185\n",
      "617bcb8 ADICIONADO ARCHIVO connection.java 2023-05-13 20:54:47.531185\n",
      "42b6a9e ADICIONADO ARCHIVO main.py 2023-05-13 20:54:47.531185\n",
      "9e8d7f9 ADICIONADO ARCHIVO imagen.png 2023-05-13 20:54:47.531185\n",
      "1dfba80 ADICIONADO ARCHIVO Manifest.yaml 2023-05-13 20:54:47.531185\n",
      "dfa947a ADICIONADO ARCHIVO Dockerfile 2023-05-13 20:54:47.531185\n",
      "80190f3 ADICIONADO ARCHIVO info.txt 2023-05-13 20:54:47.531185\n",
      "6bfbfd4 adicionado license\n",
      "e56280c adicionado .gitignore\n",
      "##############################################################################################################\n",
      "\n",
      "############################################# COMANDO A EJECUTAR #############################################\n",
      "git branch\n",
      "####################################### RESULTADO DE COMANDO EJECUTADO #######################################\n",
      "* commit_branch\n",
      "  main\n",
      "##############################################################################################################\n",
      "\n"
     ]
    }
   ],
   "source": [
    "comando = 'git log --oneline'\n",
    "ejecutar_comando_git(comando)\n",
    "ejecutar_comando_shell()"
   ]
  },
  {
   "cell_type": "markdown",
   "id": "a57c7d34-4621-4be8-8f00-39ddb3be0f80",
   "metadata": {},
   "source": [
    "### VER HISTORIAL RESUMIDO DE UNA RAMA DE n COMMITS"
   ]
  },
  {
   "cell_type": "code",
   "execution_count": 144,
   "id": "bf2b7b79-80c3-48ac-95fa-0d0afa8e8439",
   "metadata": {
    "tags": []
   },
   "outputs": [
    {
     "name": "stdout",
     "output_type": "stream",
     "text": [
      "############################################# COMANDO A EJECUTAR #############################################\n",
      "git log --oneline -3\n",
      "####################################### RESULTADO DE COMANDO EJECUTADO #######################################\n",
      "169c659 PRUEBA de COMMIT numero 8 con fecha 1684029307.654833 y valor aleatorio 9605239 y contiene el archivo info.txt\n",
      "eaa3056 PRUEBA de COMMIT numero 7 con fecha 1684029305.79974 y valor aleatorio 4708021 y contiene el archivo addon.php\n",
      "a29d420 PRUEBA de COMMIT numero 6 con fecha 1684029304.073405 y valor aleatorio 454928 y contiene el archivo connection.java\n",
      "##############################################################################################################\n",
      "\n",
      "############################################# COMANDO A EJECUTAR #############################################\n",
      "git branch\n",
      "####################################### RESULTADO DE COMANDO EJECUTADO #######################################\n",
      "* commit_branch\n",
      "  main\n",
      "##############################################################################################################\n",
      "\n"
     ]
    }
   ],
   "source": [
    "comando = 'git log --oneline -3'\n",
    "ejecutar_comando_git(comando)\n",
    "ejecutar_comando_shell()"
   ]
  },
  {
   "cell_type": "markdown",
   "id": "20ab2987-4dc0-4b32-b64e-d9ad8765899b",
   "metadata": {},
   "source": [
    "## VER HISTORIAL RESUMIDO DE UNA RAMA SIN ESTAR EN LA RAMA"
   ]
  },
  {
   "cell_type": "code",
   "execution_count": 145,
   "id": "36a25ca6-500b-4f32-8596-be5124db2755",
   "metadata": {
    "tags": []
   },
   "outputs": [
    {
     "name": "stdout",
     "output_type": "stream",
     "text": [
      "############################################# COMANDO A EJECUTAR #############################################\n",
      "git log --oneline main\n",
      "####################################### RESULTADO DE COMANDO EJECUTADO #######################################\n",
      "6bfbfd4 adicionado license\n",
      "e56280c adicionado .gitignore\n",
      "##############################################################################################################\n",
      "\n",
      "############################################# COMANDO A EJECUTAR #############################################\n",
      "git branch\n",
      "####################################### RESULTADO DE COMANDO EJECUTADO #######################################\n",
      "* commit_branch\n",
      "  main\n",
      "##############################################################################################################\n",
      "\n"
     ]
    }
   ],
   "source": [
    "comando = 'git log --oneline {nombre_rama_principal}'.format(nombre_rama_principal = nombre_rama_principal)\n",
    "ejecutar_comando_git(comando)\n",
    "ejecutar_comando_shell()"
   ]
  },
  {
   "cell_type": "markdown",
   "id": "a49ba8d3-b16c-4c21-aa5f-cabf2a11262c",
   "metadata": {},
   "source": [
    "### VER HISTORIAL DE n COMMITS Y MOSTRAR LOS CAMBIOS ESPECIFICOS DE ESOS COMMITS"
   ]
  },
  {
   "cell_type": "code",
   "execution_count": 146,
   "id": "c11ada4a-b616-4342-9f70-6404941eb817",
   "metadata": {
    "scrolled": true,
    "tags": []
   },
   "outputs": [
    {
     "name": "stdout",
     "output_type": "stream",
     "text": [
      "############################################# COMANDO A EJECUTAR #############################################\n",
      "git log -2 -p\n",
      "####################################### RESULTADO DE COMANDO EJECUTADO #######################################\n",
      "commit 169c6599803a3a89eaccb8b82b77607024042169\n",
      "Author: jorgecardona <jorgecardona@utp.edu.co>\n",
      "Date:   Sat May 13 20:55:07 2023 -0500\n",
      "\n",
      "    PRUEBA de COMMIT numero 8 con fecha 1684029307.654833 y valor aleatorio 9605239 y contiene el archivo info.txt\n",
      "\n",
      "diff --git a/Dockerfile b/Dockerfile\n",
      "index 58f58d4..a6473f6 100644\n",
      "--- a/Dockerfile\n",
      "+++ b/Dockerfile\n",
      "@@ -6,3 +6,4 @@\n",
      " 1684029300.744471 \n",
      " 1684029302.639299 \n",
      " 1684029304.388011 \n",
      "+1684029306.19639 \n",
      "diff --git a/Manifest.yaml b/Manifest.yaml\n",
      "index f927d7b..70ffaa3 100644\n",
      "--- a/Manifest.yaml\n",
      "+++ b/Manifest.yaml\n",
      "@@ -6,3 +6,4 @@\n",
      " 1684029300.855902 \n",
      " 1684029302.762009 \n",
      " 1684029304.511908 \n",
      "+1684029306.306454 \n",
      "diff --git a/addon.php b/addon.php\n",
      "index 0d539a4..67ec92c 100644\n",
      "--- a/addon.php\n",
      "+++ b/addon.php\n",
      "@@ -6,3 +6,4 @@\n",
      " 1684029301.420066 \n",
      " 1684029303.318557 \n",
      " 1684029305.060576 \n",
      "+1684029306.885631 \n",
      "diff --git a/calculos.c b/calculos.c\n",
      "index b2d31b9..5d89329 100644\n",
      "--- a/calculos.c\n",
      "+++ b/calculos.c\n",
      "@@ -6,3 +6,4 @@\n",
      " 1684029301.311175 \n",
      " 1684029303.201956 \n",
      " 1684029304.949292 \n",
      "+1684029306.775728 \n",
      "diff --git a/connection.java b/connection.java\n",
      "index 5f47792..8a17004 100644\n",
      "--- a/connection.java\n",
      "+++ b/connection.java\n",
      "@@ -6,3 +6,4 @@\n",
      " 1684029301.199752 \n",
      " 1684029303.091208 \n",
      " 1684029304.839525 \n",
      "+1684029306.651395 \n",
      "diff --git a/dataset.avro b/dataset.avro\n",
      "index d00547a..4eff2d4 100644\n",
      "--- a/dataset.avro\n",
      "+++ b/dataset.avro\n",
      "@@ -6,3 +6,4 @@\n",
      " 1684029301.761657 \n",
      " 1684029303.66395 \n",
      " 1684029305.39021 \n",
      "+1684029307.246843 \n",
      "diff --git a/imagen.png b/imagen.png\n",
      "index bf3cd9e..47d066d 100644\n",
      "--- a/imagen.png\n",
      "+++ b/imagen.png\n",
      "@@ -6,3 +6,4 @@\n",
      " 1684029300.965166 \n",
      " 1684029302.871935 \n",
      " 1684029304.620778 \n",
      "+1684029306.431109 \n",
      "diff --git a/info.txt b/info.txt\n",
      "index d04d723..3a3c448 100644\n",
      "--- a/info.txt\n",
      "+++ b/info.txt\n",
      "@@ -6,3 +6,4 @@\n",
      " 1684029300.635793 \n",
      " 1684029302.529859 \n",
      " 1684029304.277512 \n",
      "+1684029306.084961 \n",
      "diff --git a/link.vs b/link.vs\n",
      "index aa8e301..024a6dd 100644\n",
      "--- a/link.vs\n",
      "+++ b/link.vs\n",
      "@@ -6,3 +6,4 @@\n",
      " 1684029301.871641 \n",
      " 1684029303.772962 \n",
      " 1684029305.498942 \n",
      "+1684029307.354877 \n",
      "diff --git a/main.py b/main.py\n",
      "index 025944e..e00bfd7 100644\n",
      "--- a/main.py\n",
      "+++ b/main.py\n",
      "@@ -6,3 +6,4 @@\n",
      " 1684029301.090966 \n",
      " 1684029302.982108 \n",
      " 1684029304.729395 \n",
      "+1684029306.539982 \n",
      "diff --git a/query.sql b/query.sql\n",
      "index 08dc02e..7fed59c 100644\n",
      "--- a/query.sql\n",
      "+++ b/query.sql\n",
      "@@ -6,3 +6,4 @@\n",
      " 1684029301.638115 \n",
      " 1684029303.553385 \n",
      " 1684029305.281214 \n",
      "+1684029307.124867 \n",
      "diff --git a/utils.gif b/utils.gif\n",
      "index 96926e7..4641b57 100644\n",
      "--- a/utils.gif\n",
      "+++ b/utils.gif\n",
      "@@ -6,3 +6,4 @@\n",
      " 1684029301.528746 \n",
      " 1684029303.443156 \n",
      " 1684029305.170391 \n",
      "+1684029307.001217 \n",
      "\n",
      "commit eaa30563ce2407f8346d50d917a67c5946be021c\n",
      "Author: QiDimMak <cienciagoku@gmail.com>\n",
      "Date:   Sat May 13 20:55:05 2023 -0500\n",
      "\n",
      "    PRUEBA de COMMIT numero 7 con fecha 1684029305.79974 y valor aleatorio 4708021 y contiene el archivo addon.php\n",
      "\n",
      "diff --git a/Dockerfile b/Dockerfile\n",
      "index 1e60d3c..58f58d4 100644\n",
      "--- a/Dockerfile\n",
      "+++ b/Dockerfile\n",
      "@@ -5,3 +5,4 @@\n",
      " 1684029299.012619 \n",
      " 1684029300.744471 \n",
      " 1684029302.639299 \n",
      "+1684029304.388011 \n",
      "diff --git a/Manifest.yaml b/Manifest.yaml\n",
      "index aa5c67c..f927d7b 100644\n",
      "--- a/Manifest.yaml\n",
      "+++ b/Manifest.yaml\n",
      "@@ -5,3 +5,4 @@\n",
      " 1684029299.12367 \n",
      " 1684029300.855902 \n",
      " 1684029302.762009 \n",
      "+1684029304.511908 \n",
      "diff --git a/addon.php b/addon.php\n",
      "index 3331510..0d539a4 100644\n",
      "--- a/addon.php\n",
      "+++ b/addon.php\n",
      "@@ -5,3 +5,4 @@\n",
      " 1684029299.716275 \n",
      " 1684029301.420066 \n",
      " 1684029303.318557 \n",
      "+1684029305.060576 \n",
      "diff --git a/calculos.c b/calculos.c\n",
      "index 4418ad5..b2d31b9 100644\n",
      "--- a/calculos.c\n",
      "+++ b/calculos.c\n",
      "@@ -5,3 +5,4 @@\n",
      " 1684029299.592119 \n",
      " 1684029301.311175 \n",
      " 1684029303.201956 \n",
      "+1684029304.949292 \n",
      "diff --git a/connection.java b/connection.java\n",
      "index 1cf94c7..5f47792 100644\n",
      "--- a/connection.java\n",
      "+++ b/connection.java\n",
      "@@ -5,3 +5,4 @@\n",
      " 1684029299.480777 \n",
      " 1684029301.199752 \n",
      " 1684029303.091208 \n",
      "+1684029304.839525 \n",
      "diff --git a/dataset.avro b/dataset.avro\n",
      "index c412a37..d00547a 100644\n",
      "--- a/dataset.avro\n",
      "+++ b/dataset.avro\n",
      "@@ -5,3 +5,4 @@\n",
      " 1684029300.042833 \n",
      " 1684029301.761657 \n",
      " 1684029303.66395 \n",
      "+1684029305.39021 \n",
      "diff --git a/imagen.png b/imagen.png\n",
      "index 55522ed..bf3cd9e 100644\n",
      "--- a/imagen.png\n",
      "+++ b/imagen.png\n",
      "@@ -5,3 +5,4 @@\n",
      " 1684029299.247772 \n",
      " 1684029300.965166 \n",
      " 1684029302.871935 \n",
      "+1684029304.620778 \n",
      "diff --git a/info.txt b/info.txt\n",
      "index c96da1a..d04d723 100644\n",
      "--- a/info.txt\n",
      "+++ b/info.txt\n",
      "@@ -5,3 +5,4 @@\n",
      " 1684029298.887784 \n",
      " 1684029300.635793 \n",
      " 1684029302.529859 \n",
      "+1684029304.277512 \n",
      "diff --git a/link.vs b/link.vs\n",
      "index bdb1379..aa8e301 100644\n",
      "--- a/link.vs\n",
      "+++ b/link.vs\n",
      "@@ -5,3 +5,4 @@\n",
      " 1684029300.152602 \n",
      " 1684029301.871641 \n",
      " 1684029303.772962 \n",
      "+1684029305.498942 \n",
      "diff --git a/main.py b/main.py\n",
      "index 01d75cb..025944e 100644\n",
      "--- a/main.py\n",
      "+++ b/main.py\n",
      "@@ -5,3 +5,4 @@\n",
      " 1684029299.356472 \n",
      " 1684029301.090966 \n",
      " 1684029302.982108 \n",
      "+1684029304.729395 \n",
      "diff --git a/query.sql b/query.sql\n",
      "index d862cef..08dc02e 100644\n",
      "--- a/query.sql\n",
      "+++ b/query.sql\n",
      "@@ -5,3 +5,4 @@\n",
      " 1684029299.934774 \n",
      " 1684029301.638115 \n",
      " 1684029303.553385 \n",
      "+1684029305.281214 \n",
      "diff --git a/utils.gif b/utils.gif\n",
      "index 0723ee3..96926e7 100644\n",
      "--- a/utils.gif\n",
      "+++ b/utils.gif\n",
      "@@ -5,3 +5,4 @@\n",
      " 1684029299.825161 \n",
      " 1684029301.528746 \n",
      " 1684029303.443156 \n",
      "+1684029305.170391 \n",
      "##############################################################################################################\n",
      "\n",
      "############################################# COMANDO A EJECUTAR #############################################\n",
      "git branch\n",
      "####################################### RESULTADO DE COMANDO EJECUTADO #######################################\n",
      "* commit_branch\n",
      "  main\n",
      "##############################################################################################################\n",
      "\n"
     ]
    }
   ],
   "source": [
    "comando = 'git log -2 -p'\n",
    "ejecutar_comando_git(comando)\n",
    "ejecutar_comando_shell()"
   ]
  },
  {
   "cell_type": "markdown",
   "id": "1edb9254-ecc7-4e14-9c3d-1c5bb60ee8a9",
   "metadata": {},
   "source": [
    "### VER HISTORIAL DE n COMMITS Y MOSTRAR LOS CAMBIOS ESPECIFICOS DE ESOS COMMITS USANDO **SHOW**"
   ]
  },
  {
   "cell_type": "code",
   "execution_count": 147,
   "id": "73169185-d4db-4a90-b5e6-224fc9ac88fc",
   "metadata": {
    "scrolled": true,
    "tags": []
   },
   "outputs": [
    {
     "name": "stdout",
     "output_type": "stream",
     "text": [
      "############################################# COMANDO A EJECUTAR #############################################\n",
      "git show -2\n",
      "####################################### RESULTADO DE COMANDO EJECUTADO #######################################\n",
      "commit 169c6599803a3a89eaccb8b82b77607024042169\n",
      "Author: jorgecardona <jorgecardona@utp.edu.co>\n",
      "Date:   Sat May 13 20:55:07 2023 -0500\n",
      "\n",
      "    PRUEBA de COMMIT numero 8 con fecha 1684029307.654833 y valor aleatorio 9605239 y contiene el archivo info.txt\n",
      "\n",
      "diff --git a/Dockerfile b/Dockerfile\n",
      "index 58f58d4..a6473f6 100644\n",
      "--- a/Dockerfile\n",
      "+++ b/Dockerfile\n",
      "@@ -6,3 +6,4 @@\n",
      " 1684029300.744471 \n",
      " 1684029302.639299 \n",
      " 1684029304.388011 \n",
      "+1684029306.19639 \n",
      "diff --git a/Manifest.yaml b/Manifest.yaml\n",
      "index f927d7b..70ffaa3 100644\n",
      "--- a/Manifest.yaml\n",
      "+++ b/Manifest.yaml\n",
      "@@ -6,3 +6,4 @@\n",
      " 1684029300.855902 \n",
      " 1684029302.762009 \n",
      " 1684029304.511908 \n",
      "+1684029306.306454 \n",
      "diff --git a/addon.php b/addon.php\n",
      "index 0d539a4..67ec92c 100644\n",
      "--- a/addon.php\n",
      "+++ b/addon.php\n",
      "@@ -6,3 +6,4 @@\n",
      " 1684029301.420066 \n",
      " 1684029303.318557 \n",
      " 1684029305.060576 \n",
      "+1684029306.885631 \n",
      "diff --git a/calculos.c b/calculos.c\n",
      "index b2d31b9..5d89329 100644\n",
      "--- a/calculos.c\n",
      "+++ b/calculos.c\n",
      "@@ -6,3 +6,4 @@\n",
      " 1684029301.311175 \n",
      " 1684029303.201956 \n",
      " 1684029304.949292 \n",
      "+1684029306.775728 \n",
      "diff --git a/connection.java b/connection.java\n",
      "index 5f47792..8a17004 100644\n",
      "--- a/connection.java\n",
      "+++ b/connection.java\n",
      "@@ -6,3 +6,4 @@\n",
      " 1684029301.199752 \n",
      " 1684029303.091208 \n",
      " 1684029304.839525 \n",
      "+1684029306.651395 \n",
      "diff --git a/dataset.avro b/dataset.avro\n",
      "index d00547a..4eff2d4 100644\n",
      "--- a/dataset.avro\n",
      "+++ b/dataset.avro\n",
      "@@ -6,3 +6,4 @@\n",
      " 1684029301.761657 \n",
      " 1684029303.66395 \n",
      " 1684029305.39021 \n",
      "+1684029307.246843 \n",
      "diff --git a/imagen.png b/imagen.png\n",
      "index bf3cd9e..47d066d 100644\n",
      "--- a/imagen.png\n",
      "+++ b/imagen.png\n",
      "@@ -6,3 +6,4 @@\n",
      " 1684029300.965166 \n",
      " 1684029302.871935 \n",
      " 1684029304.620778 \n",
      "+1684029306.431109 \n",
      "diff --git a/info.txt b/info.txt\n",
      "index d04d723..3a3c448 100644\n",
      "--- a/info.txt\n",
      "+++ b/info.txt\n",
      "@@ -6,3 +6,4 @@\n",
      " 1684029300.635793 \n",
      " 1684029302.529859 \n",
      " 1684029304.277512 \n",
      "+1684029306.084961 \n",
      "diff --git a/link.vs b/link.vs\n",
      "index aa8e301..024a6dd 100644\n",
      "--- a/link.vs\n",
      "+++ b/link.vs\n",
      "@@ -6,3 +6,4 @@\n",
      " 1684029301.871641 \n",
      " 1684029303.772962 \n",
      " 1684029305.498942 \n",
      "+1684029307.354877 \n",
      "diff --git a/main.py b/main.py\n",
      "index 025944e..e00bfd7 100644\n",
      "--- a/main.py\n",
      "+++ b/main.py\n",
      "@@ -6,3 +6,4 @@\n",
      " 1684029301.090966 \n",
      " 1684029302.982108 \n",
      " 1684029304.729395 \n",
      "+1684029306.539982 \n",
      "diff --git a/query.sql b/query.sql\n",
      "index 08dc02e..7fed59c 100644\n",
      "--- a/query.sql\n",
      "+++ b/query.sql\n",
      "@@ -6,3 +6,4 @@\n",
      " 1684029301.638115 \n",
      " 1684029303.553385 \n",
      " 1684029305.281214 \n",
      "+1684029307.124867 \n",
      "diff --git a/utils.gif b/utils.gif\n",
      "index 96926e7..4641b57 100644\n",
      "--- a/utils.gif\n",
      "+++ b/utils.gif\n",
      "@@ -6,3 +6,4 @@\n",
      " 1684029301.528746 \n",
      " 1684029303.443156 \n",
      " 1684029305.170391 \n",
      "+1684029307.001217 \n",
      "\n",
      "commit eaa30563ce2407f8346d50d917a67c5946be021c\n",
      "Author: QiDimMak <cienciagoku@gmail.com>\n",
      "Date:   Sat May 13 20:55:05 2023 -0500\n",
      "\n",
      "    PRUEBA de COMMIT numero 7 con fecha 1684029305.79974 y valor aleatorio 4708021 y contiene el archivo addon.php\n",
      "\n",
      "diff --git a/Dockerfile b/Dockerfile\n",
      "index 1e60d3c..58f58d4 100644\n",
      "--- a/Dockerfile\n",
      "+++ b/Dockerfile\n",
      "@@ -5,3 +5,4 @@\n",
      " 1684029299.012619 \n",
      " 1684029300.744471 \n",
      " 1684029302.639299 \n",
      "+1684029304.388011 \n",
      "diff --git a/Manifest.yaml b/Manifest.yaml\n",
      "index aa5c67c..f927d7b 100644\n",
      "--- a/Manifest.yaml\n",
      "+++ b/Manifest.yaml\n",
      "@@ -5,3 +5,4 @@\n",
      " 1684029299.12367 \n",
      " 1684029300.855902 \n",
      " 1684029302.762009 \n",
      "+1684029304.511908 \n",
      "diff --git a/addon.php b/addon.php\n",
      "index 3331510..0d539a4 100644\n",
      "--- a/addon.php\n",
      "+++ b/addon.php\n",
      "@@ -5,3 +5,4 @@\n",
      " 1684029299.716275 \n",
      " 1684029301.420066 \n",
      " 1684029303.318557 \n",
      "+1684029305.060576 \n",
      "diff --git a/calculos.c b/calculos.c\n",
      "index 4418ad5..b2d31b9 100644\n",
      "--- a/calculos.c\n",
      "+++ b/calculos.c\n",
      "@@ -5,3 +5,4 @@\n",
      " 1684029299.592119 \n",
      " 1684029301.311175 \n",
      " 1684029303.201956 \n",
      "+1684029304.949292 \n",
      "diff --git a/connection.java b/connection.java\n",
      "index 1cf94c7..5f47792 100644\n",
      "--- a/connection.java\n",
      "+++ b/connection.java\n",
      "@@ -5,3 +5,4 @@\n",
      " 1684029299.480777 \n",
      " 1684029301.199752 \n",
      " 1684029303.091208 \n",
      "+1684029304.839525 \n",
      "diff --git a/dataset.avro b/dataset.avro\n",
      "index c412a37..d00547a 100644\n",
      "--- a/dataset.avro\n",
      "+++ b/dataset.avro\n",
      "@@ -5,3 +5,4 @@\n",
      " 1684029300.042833 \n",
      " 1684029301.761657 \n",
      " 1684029303.66395 \n",
      "+1684029305.39021 \n",
      "diff --git a/imagen.png b/imagen.png\n",
      "index 55522ed..bf3cd9e 100644\n",
      "--- a/imagen.png\n",
      "+++ b/imagen.png\n",
      "@@ -5,3 +5,4 @@\n",
      " 1684029299.247772 \n",
      " 1684029300.965166 \n",
      " 1684029302.871935 \n",
      "+1684029304.620778 \n",
      "diff --git a/info.txt b/info.txt\n",
      "index c96da1a..d04d723 100644\n",
      "--- a/info.txt\n",
      "+++ b/info.txt\n",
      "@@ -5,3 +5,4 @@\n",
      " 1684029298.887784 \n",
      " 1684029300.635793 \n",
      " 1684029302.529859 \n",
      "+1684029304.277512 \n",
      "diff --git a/link.vs b/link.vs\n",
      "index bdb1379..aa8e301 100644\n",
      "--- a/link.vs\n",
      "+++ b/link.vs\n",
      "@@ -5,3 +5,4 @@\n",
      " 1684029300.152602 \n",
      " 1684029301.871641 \n",
      " 1684029303.772962 \n",
      "+1684029305.498942 \n",
      "diff --git a/main.py b/main.py\n",
      "index 01d75cb..025944e 100644\n",
      "--- a/main.py\n",
      "+++ b/main.py\n",
      "@@ -5,3 +5,4 @@\n",
      " 1684029299.356472 \n",
      " 1684029301.090966 \n",
      " 1684029302.982108 \n",
      "+1684029304.729395 \n",
      "diff --git a/query.sql b/query.sql\n",
      "index d862cef..08dc02e 100644\n",
      "--- a/query.sql\n",
      "+++ b/query.sql\n",
      "@@ -5,3 +5,4 @@\n",
      " 1684029299.934774 \n",
      " 1684029301.638115 \n",
      " 1684029303.553385 \n",
      "+1684029305.281214 \n",
      "diff --git a/utils.gif b/utils.gif\n",
      "index 0723ee3..96926e7 100644\n",
      "--- a/utils.gif\n",
      "+++ b/utils.gif\n",
      "@@ -5,3 +5,4 @@\n",
      " 1684029299.825161 \n",
      " 1684029301.528746 \n",
      " 1684029303.443156 \n",
      "+1684029305.170391 \n",
      "##############################################################################################################\n",
      "\n",
      "############################################# COMANDO A EJECUTAR #############################################\n",
      "git branch\n",
      "####################################### RESULTADO DE COMANDO EJECUTADO #######################################\n",
      "* commit_branch\n",
      "  main\n",
      "##############################################################################################################\n",
      "\n"
     ]
    }
   ],
   "source": [
    "comando = 'git show -2'\n",
    "ejecutar_comando_git(comando)\n",
    "ejecutar_comando_shell()"
   ]
  },
  {
   "cell_type": "markdown",
   "id": "605cf39d-a145-47e8-aa09-50910b1c92c8",
   "metadata": {},
   "source": [
    "### MOSTRAR LOS METADATOS Y LOS CAMBIOS DE UN COMMIT ESPECIFICO"
   ]
  },
  {
   "cell_type": "code",
   "execution_count": 148,
   "id": "27b3b01b-b640-457a-b142-dfd9df2a488a",
   "metadata": {
    "scrolled": true,
    "tags": []
   },
   "outputs": [
    {
     "name": "stdout",
     "output_type": "stream",
     "text": [
      "############################################# COMANDO A EJECUTAR #############################################\n",
      "git show fd01bde637f8bacb4d2a99f6ace425480be3599a\n",
      "####################################### RESULTADO DE COMANDO EJECUTADO #######################################\n",
      "commit fd01bde637f8bacb4d2a99f6ace425480be3599a\n",
      "Author: PARADIGMA\\QiDimMak <jorgecardona@utp.edu.co>\n",
      "Date:   Mon Mar 27 22:43:04 2023 -0500\n",
      "\n",
      "    adicionado readme\n",
      "\n",
      "diff --git a/README.md b/README.md\n",
      "new file mode 100644\n",
      "index 0000000..8c15f8a\n",
      "--- /dev/null\n",
      "+++ b/README.md\n",
      "@@ -0,0 +1 @@\n",
      "+# comandos_git\n",
      "\\ No newline at end of file\n",
      "##############################################################################################################\n",
      "\n",
      "############################################# COMANDO A EJECUTAR #############################################\n",
      "git status\n",
      "####################################### RESULTADO DE COMANDO EJECUTADO #######################################\n",
      "On branch commit_branch\n",
      "Your branch is ahead of 'origin/commit_branch' by 8 commits.\n",
      "  (use \"git push\" to publish your local commits)\n",
      "\n",
      "nothing to commit, working tree clean\n",
      "##############################################################################################################\n",
      "\n"
     ]
    }
   ],
   "source": [
    "# solo en este paso, al hacer el primer commit se crea la rama\n",
    "comando = 'git show fd01bde637f8bacb4d2a99f6ace425480be3599a'\n",
    "ejecutar_comando_git(comando)\n",
    "        \n",
    "comando = 'git status'\n",
    "ejecutar_comando_git(comando)"
   ]
  },
  {
   "cell_type": "markdown",
   "id": "6aefdda1-9272-423c-91db-7fa36d0fa9a1",
   "metadata": {},
   "source": [
    "### VER HISTORIAL RESUMIDO DE n COMMITS Y MOSTRAR LOS CAMBIOS ESPECIFICOS DE ESOS COMMITS"
   ]
  },
  {
   "cell_type": "code",
   "execution_count": 149,
   "id": "cb0f0b2b-53cd-469e-8a42-581d08748748",
   "metadata": {
    "scrolled": true,
    "tags": []
   },
   "outputs": [
    {
     "name": "stdout",
     "output_type": "stream",
     "text": [
      "############################################# COMANDO A EJECUTAR #############################################\n",
      "git log --oneline -2 -p\n",
      "####################################### RESULTADO DE COMANDO EJECUTADO #######################################\n",
      "169c659 PRUEBA de COMMIT numero 8 con fecha 1684029307.654833 y valor aleatorio 9605239 y contiene el archivo info.txt\n",
      "diff --git a/Dockerfile b/Dockerfile\n",
      "index 58f58d4..a6473f6 100644\n",
      "--- a/Dockerfile\n",
      "+++ b/Dockerfile\n",
      "@@ -6,3 +6,4 @@\n",
      " 1684029300.744471 \n",
      " 1684029302.639299 \n",
      " 1684029304.388011 \n",
      "+1684029306.19639 \n",
      "diff --git a/Manifest.yaml b/Manifest.yaml\n",
      "index f927d7b..70ffaa3 100644\n",
      "--- a/Manifest.yaml\n",
      "+++ b/Manifest.yaml\n",
      "@@ -6,3 +6,4 @@\n",
      " 1684029300.855902 \n",
      " 1684029302.762009 \n",
      " 1684029304.511908 \n",
      "+1684029306.306454 \n",
      "diff --git a/addon.php b/addon.php\n",
      "index 0d539a4..67ec92c 100644\n",
      "--- a/addon.php\n",
      "+++ b/addon.php\n",
      "@@ -6,3 +6,4 @@\n",
      " 1684029301.420066 \n",
      " 1684029303.318557 \n",
      " 1684029305.060576 \n",
      "+1684029306.885631 \n",
      "diff --git a/calculos.c b/calculos.c\n",
      "index b2d31b9..5d89329 100644\n",
      "--- a/calculos.c\n",
      "+++ b/calculos.c\n",
      "@@ -6,3 +6,4 @@\n",
      " 1684029301.311175 \n",
      " 1684029303.201956 \n",
      " 1684029304.949292 \n",
      "+1684029306.775728 \n",
      "diff --git a/connection.java b/connection.java\n",
      "index 5f47792..8a17004 100644\n",
      "--- a/connection.java\n",
      "+++ b/connection.java\n",
      "@@ -6,3 +6,4 @@\n",
      " 1684029301.199752 \n",
      " 1684029303.091208 \n",
      " 1684029304.839525 \n",
      "+1684029306.651395 \n",
      "diff --git a/dataset.avro b/dataset.avro\n",
      "index d00547a..4eff2d4 100644\n",
      "--- a/dataset.avro\n",
      "+++ b/dataset.avro\n",
      "@@ -6,3 +6,4 @@\n",
      " 1684029301.761657 \n",
      " 1684029303.66395 \n",
      " 1684029305.39021 \n",
      "+1684029307.246843 \n",
      "diff --git a/imagen.png b/imagen.png\n",
      "index bf3cd9e..47d066d 100644\n",
      "--- a/imagen.png\n",
      "+++ b/imagen.png\n",
      "@@ -6,3 +6,4 @@\n",
      " 1684029300.965166 \n",
      " 1684029302.871935 \n",
      " 1684029304.620778 \n",
      "+1684029306.431109 \n",
      "diff --git a/info.txt b/info.txt\n",
      "index d04d723..3a3c448 100644\n",
      "--- a/info.txt\n",
      "+++ b/info.txt\n",
      "@@ -6,3 +6,4 @@\n",
      " 1684029300.635793 \n",
      " 1684029302.529859 \n",
      " 1684029304.277512 \n",
      "+1684029306.084961 \n",
      "diff --git a/link.vs b/link.vs\n",
      "index aa8e301..024a6dd 100644\n",
      "--- a/link.vs\n",
      "+++ b/link.vs\n",
      "@@ -6,3 +6,4 @@\n",
      " 1684029301.871641 \n",
      " 1684029303.772962 \n",
      " 1684029305.498942 \n",
      "+1684029307.354877 \n",
      "diff --git a/main.py b/main.py\n",
      "index 025944e..e00bfd7 100644\n",
      "--- a/main.py\n",
      "+++ b/main.py\n",
      "@@ -6,3 +6,4 @@\n",
      " 1684029301.090966 \n",
      " 1684029302.982108 \n",
      " 1684029304.729395 \n",
      "+1684029306.539982 \n",
      "diff --git a/query.sql b/query.sql\n",
      "index 08dc02e..7fed59c 100644\n",
      "--- a/query.sql\n",
      "+++ b/query.sql\n",
      "@@ -6,3 +6,4 @@\n",
      " 1684029301.638115 \n",
      " 1684029303.553385 \n",
      " 1684029305.281214 \n",
      "+1684029307.124867 \n",
      "diff --git a/utils.gif b/utils.gif\n",
      "index 96926e7..4641b57 100644\n",
      "--- a/utils.gif\n",
      "+++ b/utils.gif\n",
      "@@ -6,3 +6,4 @@\n",
      " 1684029301.528746 \n",
      " 1684029303.443156 \n",
      " 1684029305.170391 \n",
      "+1684029307.001217 \n",
      "eaa3056 PRUEBA de COMMIT numero 7 con fecha 1684029305.79974 y valor aleatorio 4708021 y contiene el archivo addon.php\n",
      "diff --git a/Dockerfile b/Dockerfile\n",
      "index 1e60d3c..58f58d4 100644\n",
      "--- a/Dockerfile\n",
      "+++ b/Dockerfile\n",
      "@@ -5,3 +5,4 @@\n",
      " 1684029299.012619 \n",
      " 1684029300.744471 \n",
      " 1684029302.639299 \n",
      "+1684029304.388011 \n",
      "diff --git a/Manifest.yaml b/Manifest.yaml\n",
      "index aa5c67c..f927d7b 100644\n",
      "--- a/Manifest.yaml\n",
      "+++ b/Manifest.yaml\n",
      "@@ -5,3 +5,4 @@\n",
      " 1684029299.12367 \n",
      " 1684029300.855902 \n",
      " 1684029302.762009 \n",
      "+1684029304.511908 \n",
      "diff --git a/addon.php b/addon.php\n",
      "index 3331510..0d539a4 100644\n",
      "--- a/addon.php\n",
      "+++ b/addon.php\n",
      "@@ -5,3 +5,4 @@\n",
      " 1684029299.716275 \n",
      " 1684029301.420066 \n",
      " 1684029303.318557 \n",
      "+1684029305.060576 \n",
      "diff --git a/calculos.c b/calculos.c\n",
      "index 4418ad5..b2d31b9 100644\n",
      "--- a/calculos.c\n",
      "+++ b/calculos.c\n",
      "@@ -5,3 +5,4 @@\n",
      " 1684029299.592119 \n",
      " 1684029301.311175 \n",
      " 1684029303.201956 \n",
      "+1684029304.949292 \n",
      "diff --git a/connection.java b/connection.java\n",
      "index 1cf94c7..5f47792 100644\n",
      "--- a/connection.java\n",
      "+++ b/connection.java\n",
      "@@ -5,3 +5,4 @@\n",
      " 1684029299.480777 \n",
      " 1684029301.199752 \n",
      " 1684029303.091208 \n",
      "+1684029304.839525 \n",
      "diff --git a/dataset.avro b/dataset.avro\n",
      "index c412a37..d00547a 100644\n",
      "--- a/dataset.avro\n",
      "+++ b/dataset.avro\n",
      "@@ -5,3 +5,4 @@\n",
      " 1684029300.042833 \n",
      " 1684029301.761657 \n",
      " 1684029303.66395 \n",
      "+1684029305.39021 \n",
      "diff --git a/imagen.png b/imagen.png\n",
      "index 55522ed..bf3cd9e 100644\n",
      "--- a/imagen.png\n",
      "+++ b/imagen.png\n",
      "@@ -5,3 +5,4 @@\n",
      " 1684029299.247772 \n",
      " 1684029300.965166 \n",
      " 1684029302.871935 \n",
      "+1684029304.620778 \n",
      "diff --git a/info.txt b/info.txt\n",
      "index c96da1a..d04d723 100644\n",
      "--- a/info.txt\n",
      "+++ b/info.txt\n",
      "@@ -5,3 +5,4 @@\n",
      " 1684029298.887784 \n",
      " 1684029300.635793 \n",
      " 1684029302.529859 \n",
      "+1684029304.277512 \n",
      "diff --git a/link.vs b/link.vs\n",
      "index bdb1379..aa8e301 100644\n",
      "--- a/link.vs\n",
      "+++ b/link.vs\n",
      "@@ -5,3 +5,4 @@\n",
      " 1684029300.152602 \n",
      " 1684029301.871641 \n",
      " 1684029303.772962 \n",
      "+1684029305.498942 \n",
      "diff --git a/main.py b/main.py\n",
      "index 01d75cb..025944e 100644\n",
      "--- a/main.py\n",
      "+++ b/main.py\n",
      "@@ -5,3 +5,4 @@\n",
      " 1684029299.356472 \n",
      " 1684029301.090966 \n",
      " 1684029302.982108 \n",
      "+1684029304.729395 \n",
      "diff --git a/query.sql b/query.sql\n",
      "index d862cef..08dc02e 100644\n",
      "--- a/query.sql\n",
      "+++ b/query.sql\n",
      "@@ -5,3 +5,4 @@\n",
      " 1684029299.934774 \n",
      " 1684029301.638115 \n",
      " 1684029303.553385 \n",
      "+1684029305.281214 \n",
      "diff --git a/utils.gif b/utils.gif\n",
      "index 0723ee3..96926e7 100644\n",
      "--- a/utils.gif\n",
      "+++ b/utils.gif\n",
      "@@ -5,3 +5,4 @@\n",
      " 1684029299.825161 \n",
      " 1684029301.528746 \n",
      " 1684029303.443156 \n",
      "+1684029305.170391 \n",
      "##############################################################################################################\n",
      "\n",
      "############################################# COMANDO A EJECUTAR #############################################\n",
      "git branch\n",
      "####################################### RESULTADO DE COMANDO EJECUTADO #######################################\n",
      "* commit_branch\n",
      "  main\n",
      "##############################################################################################################\n",
      "\n"
     ]
    }
   ],
   "source": [
    "comando = 'git log --oneline -2 -p'\n",
    "ejecutar_comando_git(comando)\n",
    "ejecutar_comando_shell()"
   ]
  },
  {
   "cell_type": "markdown",
   "id": "df29e830-8479-4e2c-8644-3fef5af5b17e",
   "metadata": {},
   "source": [
    "### VER HISTORIAL DE n COMMITS ANTES DE UNA FECHA ESPECIFICA"
   ]
  },
  {
   "cell_type": "code",
   "execution_count": 150,
   "id": "2b07cfd9-5ea6-4002-b5cc-b246e3b9d4e3",
   "metadata": {
    "tags": []
   },
   "outputs": [
    {
     "name": "stdout",
     "output_type": "stream",
     "text": [
      "############################################# COMANDO A EJECUTAR #############################################\n",
      "git log --oneline --before={2023-03-28}\n",
      "####################################### RESULTADO DE COMANDO EJECUTADO #######################################\n",
      "6bfbfd4 adicionado license\n",
      "e56280c adicionado .gitignore\n",
      "##############################################################################################################\n",
      "\n",
      "############################################# COMANDO A EJECUTAR #############################################\n",
      "git branch\n",
      "####################################### RESULTADO DE COMANDO EJECUTADO #######################################\n",
      "* commit_branch\n",
      "  main\n",
      "##############################################################################################################\n",
      "\n"
     ]
    }
   ],
   "source": [
    "comando = 'git log --oneline --before={2023-03-28}'\n",
    "ejecutar_comando_git(comando)\n",
    "ejecutar_comando_shell()"
   ]
  },
  {
   "cell_type": "markdown",
   "id": "e74d219e-f350-44a4-b6ad-a2feadadb3dd",
   "metadata": {},
   "source": [
    "### VER HISTORIAL DE n COMMITS DESPUES DE UNA FECHA ESPECIFICA"
   ]
  },
  {
   "cell_type": "code",
   "execution_count": 151,
   "id": "7dd64c76-20c0-41da-b503-92cb0308c4aa",
   "metadata": {
    "scrolled": true,
    "tags": []
   },
   "outputs": [
    {
     "name": "stdout",
     "output_type": "stream",
     "text": [
      "############################################# COMANDO A EJECUTAR #############################################\n",
      "git log --oneline --after={2023-03-27}\n",
      "####################################### RESULTADO DE COMANDO EJECUTADO #######################################\n",
      "169c659 PRUEBA de COMMIT numero 8 con fecha 1684029307.654833 y valor aleatorio 9605239 y contiene el archivo info.txt\n",
      "eaa3056 PRUEBA de COMMIT numero 7 con fecha 1684029305.79974 y valor aleatorio 4708021 y contiene el archivo addon.php\n",
      "a29d420 PRUEBA de COMMIT numero 6 con fecha 1684029304.073405 y valor aleatorio 454928 y contiene el archivo connection.java\n",
      "fa01305 PRUEBA de COMMIT numero 5 con fecha 1684029302.247489 y valor aleatorio 563900 y contiene el archivo imagen.png\n",
      "d3bcc6c PRUEBA de COMMIT numero 4 con fecha 1684029300.447891 y valor aleatorio 4928734 y contiene el archivo main.py\n",
      "26be00f PRUEBA de COMMIT numero 3 con fecha 1684029298.621136 y valor aleatorio 3949262 y contiene el archivo info.txt\n",
      "ad13f1c PRUEBA de COMMIT numero 2 con fecha 1684029296.90233 y valor aleatorio 1602257 y contiene el archivo imagen.png\n",
      "abe9f44 PRUEBA de COMMIT numero 1 con fecha 1684029295.029343 y valor aleatorio 6134491 y contiene el archivo utils.gif\n",
      "fef9f41 ADICIONADO ARCHIVO link.vs 2023-05-13 20:54:47.531185\n",
      "9136f5d ADICIONADO ARCHIVO dataset.avro 2023-05-13 20:54:47.531185\n",
      "1ef02a3 ADICIONADO ARCHIVO query.sql 2023-05-13 20:54:47.531185\n",
      "bac939e ADICIONADO ARCHIVO utils.gif 2023-05-13 20:54:47.531185\n",
      "0195828 ADICIONADO ARCHIVO addon.php 2023-05-13 20:54:47.531185\n",
      "6c11289 ADICIONADO ARCHIVO calculos.c 2023-05-13 20:54:47.531185\n",
      "617bcb8 ADICIONADO ARCHIVO connection.java 2023-05-13 20:54:47.531185\n",
      "42b6a9e ADICIONADO ARCHIVO main.py 2023-05-13 20:54:47.531185\n",
      "9e8d7f9 ADICIONADO ARCHIVO imagen.png 2023-05-13 20:54:47.531185\n",
      "1dfba80 ADICIONADO ARCHIVO Manifest.yaml 2023-05-13 20:54:47.531185\n",
      "dfa947a ADICIONADO ARCHIVO Dockerfile 2023-05-13 20:54:47.531185\n",
      "80190f3 ADICIONADO ARCHIVO info.txt 2023-05-13 20:54:47.531185\n",
      "6bfbfd4 adicionado license\n",
      "e56280c adicionado .gitignore\n",
      "##############################################################################################################\n",
      "\n",
      "############################################# COMANDO A EJECUTAR #############################################\n",
      "git branch\n",
      "####################################### RESULTADO DE COMANDO EJECUTADO #######################################\n",
      "* commit_branch\n",
      "  main\n",
      "##############################################################################################################\n",
      "\n"
     ]
    }
   ],
   "source": [
    "comando = 'git log --oneline --after={2023-03-27}'\n",
    "ejecutar_comando_git(comando)\n",
    "ejecutar_comando_shell()"
   ]
  },
  {
   "cell_type": "markdown",
   "id": "217687fd-57f7-45f5-920b-acd6cebd4c50",
   "metadata": {
    "tags": []
   },
   "source": [
    "### VER HISTORIAL DE QUIEN HA MANIPULADO UN ARCHIVO ESPECIFICO"
   ]
  },
  {
   "cell_type": "code",
   "execution_count": 153,
   "id": "1e2b697f-01c1-43e5-953d-32892dc88372",
   "metadata": {
    "tags": []
   },
   "outputs": [
    {
     "name": "stdout",
     "output_type": "stream",
     "text": [
      "############################################# COMANDO A EJECUTAR #############################################\n",
      "git blame info.txt\n",
      "####################################### RESULTADO DE COMANDO EJECUTADO #######################################\n",
      "80190f3c (QiDimMak     2023-05-13 20:54:48 -0500 1) 1684029287.632718 \n",
      "abe9f44d (QiDimMak     2023-05-13 20:54:55 -0500 2) 1684029293.504109 \n",
      "ad13f1cf (jorgecardona 2023-05-13 20:54:56 -0500 3) 1684029295.297649 \n",
      "26be00f2 (QiDimMak     2023-05-13 20:54:58 -0500 4) 1684029297.090743 \n",
      "d3bcc6c2 (jorgecardona 2023-05-13 20:55:00 -0500 5) 1684029298.887784 \n",
      "fa01305c (QiDimMak     2023-05-13 20:55:02 -0500 6) 1684029300.635793 \n",
      "a29d420e (jorgecardona 2023-05-13 20:55:04 -0500 7) 1684029302.529859 \n",
      "eaa30563 (QiDimMak     2023-05-13 20:55:05 -0500 8) 1684029304.277512 \n",
      "169c6599 (jorgecardona 2023-05-13 20:55:07 -0500 9) 1684029306.084961 \n",
      "##############################################################################################################\n",
      "\n",
      "############################################# COMANDO A EJECUTAR #############################################\n",
      "git branch\n",
      "####################################### RESULTADO DE COMANDO EJECUTADO #######################################\n",
      "* commit_branch\n",
      "  main\n",
      "##############################################################################################################\n",
      "\n"
     ]
    }
   ],
   "source": [
    "comando = 'git blame info.txt'\n",
    "ejecutar_comando_git(comando)\n",
    "ejecutar_comando_shell()"
   ]
  },
  {
   "cell_type": "markdown",
   "id": "a3cec8be-f59d-4ebe-a599-cbd901f81cd0",
   "metadata": {},
   "source": [
    "### VER HISTORIAL DE n COMMITS EN UN DIAGRAMA DE GRAFO"
   ]
  },
  {
   "cell_type": "code",
   "execution_count": 154,
   "id": "66aee900-f963-44c4-8c05-635119dabdee",
   "metadata": {
    "tags": []
   },
   "outputs": [
    {
     "name": "stdout",
     "output_type": "stream",
     "text": [
      "############################################# COMANDO A EJECUTAR #############################################\n",
      "git log --graph --oneline\n",
      "####################################### RESULTADO DE COMANDO EJECUTADO #######################################\n",
      "* 169c659 PRUEBA de COMMIT numero 8 con fecha 1684029307.654833 y valor aleatorio 9605239 y contiene el archivo info.txt\n",
      "* eaa3056 PRUEBA de COMMIT numero 7 con fecha 1684029305.79974 y valor aleatorio 4708021 y contiene el archivo addon.php\n",
      "* a29d420 PRUEBA de COMMIT numero 6 con fecha 1684029304.073405 y valor aleatorio 454928 y contiene el archivo connection.java\n",
      "* fa01305 PRUEBA de COMMIT numero 5 con fecha 1684029302.247489 y valor aleatorio 563900 y contiene el archivo imagen.png\n",
      "* d3bcc6c PRUEBA de COMMIT numero 4 con fecha 1684029300.447891 y valor aleatorio 4928734 y contiene el archivo main.py\n",
      "* 26be00f PRUEBA de COMMIT numero 3 con fecha 1684029298.621136 y valor aleatorio 3949262 y contiene el archivo info.txt\n",
      "* ad13f1c PRUEBA de COMMIT numero 2 con fecha 1684029296.90233 y valor aleatorio 1602257 y contiene el archivo imagen.png\n",
      "* abe9f44 PRUEBA de COMMIT numero 1 con fecha 1684029295.029343 y valor aleatorio 6134491 y contiene el archivo utils.gif\n",
      "* fef9f41 ADICIONADO ARCHIVO link.vs 2023-05-13 20:54:47.531185\n",
      "* 9136f5d ADICIONADO ARCHIVO dataset.avro 2023-05-13 20:54:47.531185\n",
      "* 1ef02a3 ADICIONADO ARCHIVO query.sql 2023-05-13 20:54:47.531185\n",
      "* bac939e ADICIONADO ARCHIVO utils.gif 2023-05-13 20:54:47.531185\n",
      "* 0195828 ADICIONADO ARCHIVO addon.php 2023-05-13 20:54:47.531185\n",
      "* 6c11289 ADICIONADO ARCHIVO calculos.c 2023-05-13 20:54:47.531185\n",
      "* 617bcb8 ADICIONADO ARCHIVO connection.java 2023-05-13 20:54:47.531185\n",
      "* 42b6a9e ADICIONADO ARCHIVO main.py 2023-05-13 20:54:47.531185\n",
      "* 9e8d7f9 ADICIONADO ARCHIVO imagen.png 2023-05-13 20:54:47.531185\n",
      "* 1dfba80 ADICIONADO ARCHIVO Manifest.yaml 2023-05-13 20:54:47.531185\n",
      "* dfa947a ADICIONADO ARCHIVO Dockerfile 2023-05-13 20:54:47.531185\n",
      "* 80190f3 ADICIONADO ARCHIVO info.txt 2023-05-13 20:54:47.531185\n",
      "* 6bfbfd4 adicionado license\n",
      "* e56280c adicionado .gitignore\n",
      "##############################################################################################################\n",
      "\n",
      "############################################# COMANDO A EJECUTAR #############################################\n",
      "git branch\n",
      "####################################### RESULTADO DE COMANDO EJECUTADO #######################################\n",
      "* commit_branch\n",
      "  main\n",
      "##############################################################################################################\n",
      "\n"
     ]
    }
   ],
   "source": [
    "comando = 'git log --graph --oneline'\n",
    "ejecutar_comando_git(comando)\n",
    "ejecutar_comando_shell()"
   ]
  },
  {
   "cell_type": "markdown",
   "id": "65b9e1b4-e891-4278-a47b-da05baba44e1",
   "metadata": {},
   "source": [
    "### VER HISTORIAL DE n COMMITS EN UN DIAGRAMA DE GRAFO MAS DETALLADO"
   ]
  },
  {
   "cell_type": "code",
   "execution_count": 155,
   "id": "3a683d18-d8b4-426b-b9fd-e9a2b7bc664f",
   "metadata": {
    "scrolled": true,
    "tags": []
   },
   "outputs": [
    {
     "name": "stdout",
     "output_type": "stream",
     "text": [
      "############################################# COMANDO A EJECUTAR #############################################\n",
      "git log --decorate --graph --oneline --all\n",
      "####################################### RESULTADO DE COMANDO EJECUTADO #######################################\n",
      "* 169c659 (HEAD -> commit_branch) PRUEBA de COMMIT numero 8 con fecha 1684029307.654833 y valor aleatorio 9605239 y contiene el archivo info.txt\n",
      "* eaa3056 PRUEBA de COMMIT numero 7 con fecha 1684029305.79974 y valor aleatorio 4708021 y contiene el archivo addon.php\n",
      "* a29d420 PRUEBA de COMMIT numero 6 con fecha 1684029304.073405 y valor aleatorio 454928 y contiene el archivo connection.java\n",
      "* fa01305 PRUEBA de COMMIT numero 5 con fecha 1684029302.247489 y valor aleatorio 563900 y contiene el archivo imagen.png\n",
      "* d3bcc6c PRUEBA de COMMIT numero 4 con fecha 1684029300.447891 y valor aleatorio 4928734 y contiene el archivo main.py\n",
      "* 26be00f PRUEBA de COMMIT numero 3 con fecha 1684029298.621136 y valor aleatorio 3949262 y contiene el archivo info.txt\n",
      "* ad13f1c PRUEBA de COMMIT numero 2 con fecha 1684029296.90233 y valor aleatorio 1602257 y contiene el archivo imagen.png\n",
      "* abe9f44 PRUEBA de COMMIT numero 1 con fecha 1684029295.029343 y valor aleatorio 6134491 y contiene el archivo utils.gif\n",
      "* fef9f41 (origin/commit_branch) ADICIONADO ARCHIVO link.vs 2023-05-13 20:54:47.531185\n",
      "* 9136f5d ADICIONADO ARCHIVO dataset.avro 2023-05-13 20:54:47.531185\n",
      "* 1ef02a3 ADICIONADO ARCHIVO query.sql 2023-05-13 20:54:47.531185\n",
      "* bac939e ADICIONADO ARCHIVO utils.gif 2023-05-13 20:54:47.531185\n",
      "* 0195828 ADICIONADO ARCHIVO addon.php 2023-05-13 20:54:47.531185\n",
      "* 6c11289 ADICIONADO ARCHIVO calculos.c 2023-05-13 20:54:47.531185\n",
      "* 617bcb8 ADICIONADO ARCHIVO connection.java 2023-05-13 20:54:47.531185\n",
      "* 42b6a9e ADICIONADO ARCHIVO main.py 2023-05-13 20:54:47.531185\n",
      "* 9e8d7f9 ADICIONADO ARCHIVO imagen.png 2023-05-13 20:54:47.531185\n",
      "* 1dfba80 ADICIONADO ARCHIVO Manifest.yaml 2023-05-13 20:54:47.531185\n",
      "* dfa947a ADICIONADO ARCHIVO Dockerfile 2023-05-13 20:54:47.531185\n",
      "* 80190f3 ADICIONADO ARCHIVO info.txt 2023-05-13 20:54:47.531185\n",
      "| * c0925c2 (origin/main, origin/HEAD) adicionado usuario\n",
      "| | * 1b7be03 (origin/bisect_branch) adicionada multiplicacion de numeros imaginarios\n",
      "| | * c4b9789 adicionada funcion factorial\n",
      "| | * b0b559d adicionada funcion techo\n",
      "| | * 188fcd5 adicionada funcion piso\n",
      "| | * 269f907 adicionada funcion logaritmo\n",
      "| | * b6a5eb0 adicionada funcion raiz_cuadrada\n",
      "| | * 0b5c404 adicionada funcion potencia\n",
      "| | * f649a14 cambio de parametros\n",
      "| | * ff56388 adicionada funcion division_entera\n",
      "| | * 4da1e88 adicionada funcion division_decimal\n",
      "| | * d8f1222 adicionada funcion multiplicacion\n",
      "| | * 08805df adicionada funcion resta\n",
      "| | * 00d5b10 adicionada funcion suma\n",
      "| | * 286ebcf (origin/multi_commits) adicionada imagen bmp\n",
      "| | * ceb9edd adicionado archivo rtf\n",
      "| | * 474faa1 adicionado archivo excel\n",
      "| | * 5921bed adicionado archivo power point\n",
      "| | * 19556bc adicionado archivo word\n",
      "| | * 56221ac adicionado archivo pdf\n",
      "| | * d158721 adicionado archivo html\n",
      "| | * 1fb50b9 adicionado archivo csv\n",
      "| | * ae943f2 configuraion general y de ambiente\n",
      "| |/  \n",
      "| * d481740 adicionado requirements.txt\n",
      "| * fd01bde adicionado readme\n",
      "|/  \n",
      "* 6bfbfd4 (main) adicionado license\n",
      "* e56280c adicionado .gitignore\n",
      "##############################################################################################################\n",
      "\n",
      "############################################# COMANDO A EJECUTAR #############################################\n",
      "git branch\n",
      "####################################### RESULTADO DE COMANDO EJECUTADO #######################################\n",
      "* commit_branch\n",
      "  main\n",
      "##############################################################################################################\n",
      "\n"
     ]
    }
   ],
   "source": [
    "comando = 'git log --decorate --graph --oneline --all'\n",
    "ejecutar_comando_git(comando)\n",
    "ejecutar_comando_shell()"
   ]
  },
  {
   "cell_type": "markdown",
   "id": "117de75b-66c8-4187-a4e2-71e99b3d8b61",
   "metadata": {},
   "source": [
    "# <center> LISTAR ARCHIVOS DE UNA RAMA O DE UN COMMIT <br>https://github.com/JorgeCardona/comandos_git</br> </center>"
   ]
  },
  {
   "cell_type": "markdown",
   "id": "ae874618-4e18-4cb9-962b-8228d86603d9",
   "metadata": {
    "tags": []
   },
   "source": [
    "## LISTAR TODOS LOS ARCHIVOS DE UNA RAMA"
   ]
  },
  {
   "cell_type": "code",
   "execution_count": 162,
   "id": "b4578471-7765-479d-be8e-36e79e7798d0",
   "metadata": {
    "tags": []
   },
   "outputs": [
    {
     "name": "stdout",
     "output_type": "stream",
     "text": [
      "############################################# COMANDO A EJECUTAR #############################################\n",
      "git checkout main\n",
      "####################################### RESULTADO DE COMANDO EJECUTADO #######################################\n",
      "Your branch is behind 'origin/main' by 3 commits, and can be fast-forwarded.\n",
      "  (use \"git pull\" to update your local branch)\n",
      "##############################################################################################################\n",
      "\n",
      "############################################# COMANDO A EJECUTAR #############################################\n",
      "git status\n",
      "####################################### RESULTADO DE COMANDO EJECUTADO #######################################\n",
      "On branch main\n",
      "Your branch is behind 'origin/main' by 3 commits, and can be fast-forwarded.\n",
      "  (use \"git pull\" to update your local branch)\n",
      "\n",
      "nothing to commit, working tree clean\n",
      "##############################################################################################################\n",
      "\n"
     ]
    }
   ],
   "source": [
    "comando = 'git checkout main'\n",
    "ejecutar_comando_git(comando)\n",
    "\n",
    "comando = 'git status'\n",
    "ejecutar_comando_git(comando)"
   ]
  },
  {
   "cell_type": "code",
   "execution_count": 163,
   "id": "abaa8c16-d9a8-4bf1-ab4b-ed44bb248804",
   "metadata": {
    "tags": []
   },
   "outputs": [
    {
     "name": "stdout",
     "output_type": "stream",
     "text": [
      "############################################# COMANDO A EJECUTAR #############################################\n",
      "git ls-tree -r main\n",
      "####################################### RESULTADO DE COMANDO EJECUTADO #######################################\n",
      "100644 blob b6e47617de110dea7ca47e087ff1347cc2646eda\t.gitignore\n",
      "100644 blob f288702d2fa16d3cdf0035b15a9fcbc552cd88e7\tLICENSE\n",
      "##############################################################################################################\n",
      "\n"
     ]
    }
   ],
   "source": [
    "comando = 'git ls-tree -r main'\n",
    "ejecutar_comando_git(comando)"
   ]
  },
  {
   "cell_type": "markdown",
   "id": "35a999b6-85a2-4884-a2ed-1daab263bf98",
   "metadata": {
    "tags": []
   },
   "source": [
    "## LISTAR TODOS LOS ARCHIVOS EXISTENTES HASTA UN COMMIT"
   ]
  },
  {
   "cell_type": "code",
   "execution_count": 166,
   "id": "f67d5dec-4be7-4a5f-9249-a4c406f5ca48",
   "metadata": {
    "tags": []
   },
   "outputs": [
    {
     "name": "stdout",
     "output_type": "stream",
     "text": [
      "############################################# COMANDO A EJECUTAR #############################################\n",
      "git ls-tree -r e56280c\n",
      "####################################### RESULTADO DE COMANDO EJECUTADO #######################################\n",
      "100644 blob b6e47617de110dea7ca47e087ff1347cc2646eda\t.gitignore\n",
      "##############################################################################################################\n",
      "\n"
     ]
    }
   ],
   "source": [
    "commit_id = 'e56280c'\n",
    "comando = f'git ls-tree -r {commit_id}'\n",
    "ejecutar_comando_git(comando)"
   ]
  },
  {
   "cell_type": "markdown",
   "id": "af6d5c33-dab4-4975-aa8f-e661353f2492",
   "metadata": {},
   "source": [
    "## LISTA LOS ARCHIVOS NUEVOS ADICIONADOS EN EL ULTIMO COMMIT"
   ]
  },
  {
   "cell_type": "code",
   "execution_count": 179,
   "id": "0ef08464-1040-4fcf-baad-b5b41b97a694",
   "metadata": {
    "tags": []
   },
   "outputs": [
    {
     "name": "stdout",
     "output_type": "stream",
     "text": [
      "############################################# COMANDO A EJECUTAR #############################################\n",
      "git checkout commit_branch\n",
      "####################################### RESULTADO DE COMANDO EJECUTADO #######################################\n",
      "Your branch is ahead of 'origin/commit_branch' by 8 commits.\n",
      "  (use \"git push\" to publish your local commits)\n",
      "##############################################################################################################\n",
      "\n",
      "############################################# COMANDO A EJECUTAR #############################################\n",
      "git status\n",
      "####################################### RESULTADO DE COMANDO EJECUTADO #######################################\n",
      "On branch commit_branch\n",
      "Your branch is ahead of 'origin/commit_branch' by 8 commits.\n",
      "  (use \"git push\" to publish your local commits)\n",
      "\n",
      "Untracked files:\n",
      "  (use \"git add <file>...\" to include in what will be committed)\n",
      "\tnuevos-archivos.txt\n",
      "\n",
      "nothing added to commit but untracked files present (use \"git add\" to track)\n",
      "##############################################################################################################\n",
      "\n"
     ]
    }
   ],
   "source": [
    "comando = 'git checkout commit_branch'\n",
    "ejecutar_comando_git(comando)\n",
    "\n",
    "comando = 'git status'\n",
    "ejecutar_comando_git(comando)"
   ]
  },
  {
   "cell_type": "markdown",
   "id": "8b4bc781-eaa8-4302-9dca-ae0bada82eb9",
   "metadata": {},
   "source": [
    "### LISTA LOS ARCHIVOS NUEVOS ADICIONADOS"
   ]
  },
  {
   "cell_type": "code",
   "execution_count": 180,
   "id": "158a48c3-2832-4703-be7c-ffbb7e954c09",
   "metadata": {
    "tags": []
   },
   "outputs": [
    {
     "name": "stdout",
     "output_type": "stream",
     "text": [
      "############################################# COMANDO A EJECUTAR #############################################\n",
      "git log -1 --name-status --diff-filter=A\n",
      "####################################### RESULTADO DE COMANDO EJECUTADO #######################################\n",
      "commit fef9f4180c0fa9291dd3c8602abc9bec119ca96c\n",
      "Author: jorgecardona <jorgecardona@utp.edu.co>\n",
      "Date:   Sat May 13 20:54:50 2023 -0500\n",
      "\n",
      "    ADICIONADO ARCHIVO link.vs 2023-05-13 20:54:47.531185\n",
      "    \n",
      "    - El proposito es generar un registro de archivos con su fecha correspondiente, - Se adiciono el archivo link.vs al commit, - La fecha donde se creao este commit es 2023-05-13 20:54:47.531185\n",
      "\n",
      "A\tlink.vs\n",
      "##############################################################################################################\n",
      "\n",
      "############################################# COMANDO A EJECUTAR #############################################\n",
      "git branch\n",
      "####################################### RESULTADO DE COMANDO EJECUTADO #######################################\n",
      "* commit_branch\n",
      "  main\n",
      "##############################################################################################################\n",
      "\n"
     ]
    }
   ],
   "source": [
    "comando = 'git log -1 --name-status --diff-filter=A'\n",
    "ejecutar_comando_git(comando)\n",
    "\n",
    "ejecutar_comando_shell()"
   ]
  },
  {
   "cell_type": "markdown",
   "id": "30e534ec-a24e-4daa-86da-b71e3f5022b4",
   "metadata": {},
   "source": [
    "## LISTA LOS ARCHIVOS MODIFICADOS EN EL ULTIMO COMMIT"
   ]
  },
  {
   "cell_type": "code",
   "execution_count": 181,
   "id": "b38aa1a9-23d8-4f03-bf1c-e56dceed8ef8",
   "metadata": {
    "tags": []
   },
   "outputs": [
    {
     "name": "stdout",
     "output_type": "stream",
     "text": [
      "############################################# COMANDO A EJECUTAR #############################################\n",
      "git diff --name-only --diff-filter=A HEAD~1\n",
      "####################################### RESULTADO DE COMANDO EJECUTADO #######################################\n",
      "##############################################################################################################\n",
      "\n",
      "############################################# COMANDO A EJECUTAR #############################################\n",
      "git branch\n",
      "####################################### RESULTADO DE COMANDO EJECUTADO #######################################\n",
      "* commit_branch\n",
      "  main\n",
      "##############################################################################################################\n",
      "\n"
     ]
    }
   ],
   "source": [
    "comando = 'git diff --name-only --diff-filter=A HEAD~1'\n",
    "ejecutar_comando_git(comando)\n",
    "ejecutar_comando_shell()"
   ]
  },
  {
   "cell_type": "markdown",
   "id": "410323e6-3fe4-4040-bf46-1f5756185346",
   "metadata": {
    "tags": []
   },
   "source": [
    "### CREA UNA LISTA CON LOS ARCHIVOS NUEVOS ADICIONADOS EN EL ULTIMO COMMIT"
   ]
  },
  {
   "cell_type": "code",
   "execution_count": 182,
   "id": "980d8ef6-0cc1-4517-bc6b-838302fe47b6",
   "metadata": {
    "tags": []
   },
   "outputs": [
    {
     "name": "stdout",
     "output_type": "stream",
     "text": [
      "############################################# COMANDO A EJECUTAR #############################################\n",
      "git diff --name-only --diff-filter=A HEAD~1 > nuevos-archivos.txt\n",
      "####################################### RESULTADO DE COMANDO EJECUTADO #######################################\n",
      "##############################################################################################################\n",
      "\n",
      "############################################# COMANDO A EJECUTAR #############################################\n",
      "git branch\n",
      "####################################### RESULTADO DE COMANDO EJECUTADO #######################################\n",
      "* commit_branch\n",
      "  main\n",
      "##############################################################################################################\n",
      "\n"
     ]
    }
   ],
   "source": [
    "comando = 'git diff --name-only --diff-filter=A HEAD~1 > nuevos-archivos.txt'\n",
    "ejecutar_comando_git(comando)\n",
    "ejecutar_comando_shell()"
   ]
  },
  {
   "cell_type": "markdown",
   "id": "c429d33c-ba1b-4dbb-9360-9cfbc596d00b",
   "metadata": {},
   "source": [
    "## LISTA LOS ARCHIVOS MODIFICADOS EN EL ULTIMO COMMIT"
   ]
  },
  {
   "cell_type": "code",
   "execution_count": 183,
   "id": "0ded6c67-6eb1-4323-b818-a3551f3a48b5",
   "metadata": {
    "tags": []
   },
   "outputs": [
    {
     "name": "stdout",
     "output_type": "stream",
     "text": [
      "############################################# COMANDO A EJECUTAR #############################################\n",
      "git diff --name-only --diff-filter=M HEAD~1\n",
      "####################################### RESULTADO DE COMANDO EJECUTADO #######################################\n",
      "Dockerfile\n",
      "Manifest.yaml\n",
      "addon.php\n",
      "calculos.c\n",
      "connection.java\n",
      "dataset.avro\n",
      "imagen.png\n",
      "info.txt\n",
      "link.vs\n",
      "main.py\n",
      "query.sql\n",
      "utils.gif\n",
      "##############################################################################################################\n",
      "\n",
      "############################################# COMANDO A EJECUTAR #############################################\n",
      "git branch\n",
      "####################################### RESULTADO DE COMANDO EJECUTADO #######################################\n",
      "* commit_branch\n",
      "  main\n",
      "##############################################################################################################\n",
      "\n"
     ]
    }
   ],
   "source": [
    "comando = 'git diff --name-only --diff-filter=M HEAD~1'\n",
    "ejecutar_comando_git(comando)\n",
    "ejecutar_comando_shell()"
   ]
  },
  {
   "cell_type": "markdown",
   "id": "45eeddfd-3ae6-4fe1-9de3-0082f524fbd3",
   "metadata": {
    "tags": []
   },
   "source": [
    "### CREA UNA LISTA CON LOS ARCHIVOS MODIFICADOS EN EL ULTIMO COMMIT"
   ]
  },
  {
   "cell_type": "code",
   "execution_count": 184,
   "id": "8c5d6f3b-87d3-43dc-a771-5c2215c73dbf",
   "metadata": {
    "tags": []
   },
   "outputs": [
    {
     "name": "stdout",
     "output_type": "stream",
     "text": [
      "############################################# COMANDO A EJECUTAR #############################################\n",
      "git diff --name-only --diff-filter=M HEAD~1 > modificados.txt\n",
      "####################################### RESULTADO DE COMANDO EJECUTADO #######################################\n",
      "##############################################################################################################\n",
      "\n",
      "############################################# COMANDO A EJECUTAR #############################################\n",
      "git branch\n",
      "####################################### RESULTADO DE COMANDO EJECUTADO #######################################\n",
      "* commit_branch\n",
      "  main\n",
      "##############################################################################################################\n",
      "\n"
     ]
    }
   ],
   "source": [
    "comando = 'git diff --name-only --diff-filter=M HEAD~1 > modificados.txt'\n",
    "ejecutar_comando_git(comando)\n",
    "ejecutar_comando_shell()"
   ]
  },
  {
   "cell_type": "markdown",
   "id": "2aa698ac-756d-44f8-9bd5-db01463d6935",
   "metadata": {},
   "source": [
    "## LISTA LOS ARCHIVOS ELIMINADOS EN EL ULTIMO COMMIT"
   ]
  },
  {
   "cell_type": "code",
   "execution_count": 185,
   "id": "6f82295c-18cc-46dd-ade9-5fb581237fb7",
   "metadata": {
    "tags": []
   },
   "outputs": [
    {
     "name": "stdout",
     "output_type": "stream",
     "text": [
      "############################################# COMANDO A EJECUTAR #############################################\n",
      "git diff --name-only --diff-filter=D HEAD~1\n",
      "####################################### RESULTADO DE COMANDO EJECUTADO #######################################\n",
      "##############################################################################################################\n",
      "\n",
      "############################################# COMANDO A EJECUTAR #############################################\n",
      "git branch\n",
      "####################################### RESULTADO DE COMANDO EJECUTADO #######################################\n",
      "* commit_branch\n",
      "  main\n",
      "##############################################################################################################\n",
      "\n"
     ]
    }
   ],
   "source": [
    "comando = 'git diff --name-only --diff-filter=D HEAD~1'\n",
    "ejecutar_comando_git(comando)\n",
    "ejecutar_comando_shell()"
   ]
  },
  {
   "cell_type": "markdown",
   "id": "8c1638c9-5d88-4c8a-8f94-01c1d125b9ae",
   "metadata": {
    "tags": []
   },
   "source": [
    "### CREA UNA LISTA CON LOS ARCHIVOS ELIMINADOS EN EL ULTIMO COMMIT"
   ]
  },
  {
   "cell_type": "code",
   "execution_count": 186,
   "id": "2ce054e1-35f5-4651-8553-2596cfeb49b7",
   "metadata": {
    "tags": []
   },
   "outputs": [
    {
     "name": "stdout",
     "output_type": "stream",
     "text": [
      "############################################# COMANDO A EJECUTAR #############################################\n",
      "git diff --name-only --diff-filter=D HEAD~1 > eliminados.txt\n",
      "####################################### RESULTADO DE COMANDO EJECUTADO #######################################\n",
      "##############################################################################################################\n",
      "\n",
      "############################################# COMANDO A EJECUTAR #############################################\n",
      "git branch\n",
      "####################################### RESULTADO DE COMANDO EJECUTADO #######################################\n",
      "* commit_branch\n",
      "  main\n",
      "##############################################################################################################\n",
      "\n"
     ]
    }
   ],
   "source": [
    "comando = 'git diff --name-only --diff-filter=D HEAD~1 > eliminados.txt'\n",
    "ejecutar_comando_git(comando)\n",
    "ejecutar_comando_shell()"
   ]
  },
  {
   "cell_type": "markdown",
   "id": "61e6717f-89a4-43af-b809-9d14f6640c33",
   "metadata": {},
   "source": [
    "## LISTA LOS ARCHIVOS ADICIONADOS, MODIFICADOS O ELIMINADOS EN UN COMMIT ESPECIFICO"
   ]
  },
  {
   "cell_type": "code",
   "execution_count": 187,
   "id": "8972ae02-5187-4dd2-9c4a-3e268d6851a4",
   "metadata": {
    "tags": []
   },
   "outputs": [
    {
     "name": "stdout",
     "output_type": "stream",
     "text": [
      "############################################# COMANDO A EJECUTAR #############################################\n",
      "git log 6bfbfd4 --name-status --diff-filter=AMD\n",
      "####################################### RESULTADO DE COMANDO EJECUTADO #######################################\n",
      "commit 6bfbfd4a81082e9312caf0a94ba88d975f9db1e9\n",
      "Author: PARADIGMA\\QiDimMak <jorgecardona@utp.edu.co>\n",
      "Date:   Mon Mar 27 22:42:46 2023 -0500\n",
      "\n",
      "    adicionado license\n",
      "\n",
      "A\tLICENSE\n",
      "\n",
      "commit e56280cade6f8f0f6995349582d4e1eaaf07cbdd\n",
      "Author: PARADIGMA\\QiDimMak <jorgecardona@utp.edu.co>\n",
      "Date:   Mon Mar 27 22:42:26 2023 -0500\n",
      "\n",
      "    adicionado .gitignore\n",
      "\n",
      "A\t.gitignore\n",
      "##############################################################################################################\n",
      "\n",
      "############################################# COMANDO A EJECUTAR #############################################\n",
      "git branch\n",
      "####################################### RESULTADO DE COMANDO EJECUTADO #######################################\n",
      "* commit_branch\n",
      "  main\n",
      "##############################################################################################################\n",
      "\n"
     ]
    }
   ],
   "source": [
    "commit_id = '6bfbfd4'\n",
    "comando = f'git log {commit_id} --name-status --diff-filter=AMD'\n",
    "ejecutar_comando_git(comando)\n",
    "ejecutar_comando_shell()"
   ]
  },
  {
   "cell_type": "markdown",
   "id": "aad6dbb4-5f9b-416f-81b8-bcfdb2cdd02e",
   "metadata": {},
   "source": [
    "### CREA UNA LISTA CON LOS ARCHIVOS ADICIONADOS, MODIFICADOS Y ELIMINADOS EN EL ULTIMO COMMIT"
   ]
  },
  {
   "cell_type": "code",
   "execution_count": 188,
   "id": "a56aa22e-8e28-4bfe-844c-f15e9d2164c6",
   "metadata": {
    "tags": []
   },
   "outputs": [
    {
     "name": "stdout",
     "output_type": "stream",
     "text": [
      "############################################# COMANDO A EJECUTAR #############################################\n",
      "git diff --name-only --diff-filter=AMD HEAD~1 > nuevos-modificados-eliminados.txt\n",
      "####################################### RESULTADO DE COMANDO EJECUTADO #######################################\n",
      "##############################################################################################################\n",
      "\n"
     ]
    }
   ],
   "source": [
    "comando ='git diff --name-only --diff-filter=AMD HEAD~1 > nuevos-modificados-eliminados.txt'\n",
    "ejecutar_comando_git(comando)"
   ]
  },
  {
   "cell_type": "markdown",
   "id": "a601239f-3fb9-4b45-8b09-1735898193a9",
   "metadata": {},
   "source": [
    "# <center> EXPORTAR CONTENIDO DE UNA RAMA, UN COMMIT O ARCHIVOS ESPECIFICOS **A .ZIP**"
   ]
  },
  {
   "cell_type": "markdown",
   "id": "63385db6-3c3b-40ea-ae5b-aaf48177d0da",
   "metadata": {},
   "source": [
    "## CREAR DIRECTORIO PARA EXPORTABLES"
   ]
  },
  {
   "cell_type": "code",
   "execution_count": 189,
   "id": "d732d32a-6a3e-4590-b676-73e4b11a3883",
   "metadata": {
    "tags": []
   },
   "outputs": [
    {
     "name": "stdout",
     "output_type": "stream",
     "text": [
      "directorio ./exportados\n"
     ]
    }
   ],
   "source": [
    "carpeta = 'exportados'\n",
    "directorio_exportados = crear_carpeta(carpeta)"
   ]
  },
  {
   "cell_type": "markdown",
   "id": "a6cd8653-e0f8-4bcb-b2ef-2f91bece9b66",
   "metadata": {},
   "source": [
    "## VALIDAR FORMATOS EXPORTABLES"
   ]
  },
  {
   "cell_type": "code",
   "execution_count": 190,
   "id": "6ee8f655-bae9-490c-a3ef-5010d2d6a652",
   "metadata": {
    "tags": []
   },
   "outputs": [
    {
     "name": "stdout",
     "output_type": "stream",
     "text": [
      "############################################# COMANDO A EJECUTAR #############################################\n",
      "git archive --list\n",
      "####################################### RESULTADO DE COMANDO EJECUTADO #######################################\n",
      "tar\n",
      "tgz\n",
      "tar.gz\n",
      "zip\n",
      "##############################################################################################################\n",
      "\n"
     ]
    }
   ],
   "source": [
    "comando = 'git archive --list'\n",
    "ejecutar_comando_git(comando)"
   ]
  },
  {
   "cell_type": "markdown",
   "id": "d9241d88-c366-479b-a32f-2c03c5b71208",
   "metadata": {},
   "source": [
    "## EXPORTAR UNA RAMA"
   ]
  },
  {
   "cell_type": "code",
   "execution_count": 192,
   "id": "00be58e2-62d5-4449-8a76-790641f48998",
   "metadata": {
    "tags": []
   },
   "outputs": [
    {
     "name": "stdout",
     "output_type": "stream",
     "text": [
      "############################################# COMANDO A EJECUTAR #############################################\n",
      "git checkout main\n",
      "####################################### RESULTADO DE COMANDO EJECUTADO #######################################\n",
      "Your branch is behind 'origin/main' by 3 commits, and can be fast-forwarded.\n",
      "  (use \"git pull\" to update your local branch)\n",
      "##############################################################################################################\n",
      "\n"
     ]
    }
   ],
   "source": [
    "comando = 'git checkout main'\n",
    "ejecutar_comando_git(comando)"
   ]
  },
  {
   "cell_type": "code",
   "execution_count": 193,
   "id": "685292eb-3940-40a8-9914-1baa6c05a2ee",
   "metadata": {
    "tags": []
   },
   "outputs": [
    {
     "name": "stdout",
     "output_type": "stream",
     "text": [
      "############################################# COMANDO A EJECUTAR #############################################\n",
      "git archive --format=zip main > ./exportados/main.zip\n",
      "####################################### RESULTADO DE COMANDO EJECUTADO #######################################\n",
      "##############################################################################################################\n",
      "\n"
     ]
    }
   ],
   "source": [
    "comando = f'git archive --format=zip main > {directorio_exportados}/main.zip'\n",
    "ejecutar_comando_git(comando)"
   ]
  },
  {
   "cell_type": "code",
   "execution_count": 194,
   "id": "4dfb8c64-ab58-40b2-a902-c3d5de094dcf",
   "metadata": {
    "tags": []
   },
   "outputs": [
    {
     "name": "stdout",
     "output_type": "stream",
     "text": [
      "############################################# COMANDO A EJECUTAR #############################################\n",
      "git archive --format=zip -o ./exportados/latest.zip head\n",
      "####################################### RESULTADO DE COMANDO EJECUTADO #######################################\n",
      "##############################################################################################################\n",
      "\n"
     ]
    }
   ],
   "source": [
    "comando = f'git archive --format=zip -o {directorio_exportados}/latest.zip head'\n",
    "ejecutar_comando_git(comando)"
   ]
  },
  {
   "cell_type": "markdown",
   "id": "16a1a15e-8e9c-47e5-afee-005fcc62b3a7",
   "metadata": {},
   "source": [
    "## EXPORTAR UN COMMIT"
   ]
  },
  {
   "cell_type": "code",
   "execution_count": 195,
   "id": "fdabb678-87be-4e49-8834-ecc992a95d34",
   "metadata": {
    "scrolled": true,
    "tags": []
   },
   "outputs": [
    {
     "name": "stdout",
     "output_type": "stream",
     "text": [
      "############################################# COMANDO A EJECUTAR #############################################\n",
      "git log --oneline\n",
      "####################################### RESULTADO DE COMANDO EJECUTADO #######################################\n",
      "6bfbfd4 adicionado license\n",
      "e56280c adicionado .gitignore\n",
      "##############################################################################################################\n",
      "\n"
     ]
    }
   ],
   "source": [
    "comando = 'git log --oneline'\n",
    "ejecutar_comando_git(comando)"
   ]
  },
  {
   "cell_type": "code",
   "execution_count": 197,
   "id": "c95f9267-1fd9-496c-9f03-a8951ba3845b",
   "metadata": {
    "tags": []
   },
   "outputs": [
    {
     "name": "stdout",
     "output_type": "stream",
     "text": [
      "############################################# COMANDO A EJECUTAR #############################################\n",
      "git archive --format=zip 6bfbfd4 > ./exportados/commit.zip\n",
      "####################################### RESULTADO DE COMANDO EJECUTADO #######################################\n",
      "##############################################################################################################\n",
      "\n"
     ]
    }
   ],
   "source": [
    "commit_id = '6bfbfd4' # adicionado license\n",
    "comando = f'git archive --format=zip {commit_id} > {directorio_exportados}/commit.zip'\n",
    "ejecutar_comando_git(comando)"
   ]
  },
  {
   "cell_type": "markdown",
   "id": "a2c58acd-0fda-404f-82b8-41a1fe67ccc7",
   "metadata": {},
   "source": [
    "## EXPORTAR ARCHIVOS"
   ]
  },
  {
   "cell_type": "markdown",
   "id": "25c4fe0e-d319-4396-a8ce-9626987f2d21",
   "metadata": {
    "tags": []
   },
   "source": [
    "### LISTAR TODOS LOS ARCHIVOS"
   ]
  },
  {
   "cell_type": "code",
   "execution_count": 200,
   "id": "6830c2ad-626c-48a1-ab26-d211c98e28f0",
   "metadata": {
    "tags": []
   },
   "outputs": [
    {
     "name": "stdout",
     "output_type": "stream",
     "text": [
      "############################################# COMANDO A EJECUTAR #############################################\n",
      "git ls-files\n",
      "####################################### RESULTADO DE COMANDO EJECUTADO #######################################\n",
      ".gitignore\n",
      "LICENSE\n",
      "##############################################################################################################\n",
      "\n",
      "############################################# COMANDO A EJECUTAR #############################################\n",
      "git ls-tree -r main\n",
      "####################################### RESULTADO DE COMANDO EJECUTADO #######################################\n",
      "100644 blob b6e47617de110dea7ca47e087ff1347cc2646eda\t.gitignore\n",
      "100644 blob f288702d2fa16d3cdf0035b15a9fcbc552cd88e7\tLICENSE\n",
      "##############################################################################################################\n",
      "\n",
      "############################################# COMANDO A EJECUTAR #############################################\n",
      "git ls-tree -r 2bf3bc1\n",
      "&&&&&&&&&&&&&&&&&&&&&&&&&&&&&&&&&&&&& SE HA GENERADO UNA EXCEPCION &&&&&&&&&&&&&&&&&&&&&&&&&&&&&&&&&&&&&&&\n",
      "EL COMANDO git ls-tree -r 2bf3bc1 NO SE PUDO EJECUTAR\n",
      "&&&&&&&&&&&&&&&&&&&&&&&&&&&&&&&&&&&&& FINAL DE EXCEPCION GENERADA &&&&&&&&&&&&&&&&&&&&&&&&&&&&&&&&&&&&&&&&\n"
     ]
    }
   ],
   "source": [
    "comando = 'git ls-files'\n",
    "ejecutar_comando_git(comando)\n",
    "\n",
    "comando = 'git ls-tree -r main'\n",
    "ejecutar_comando_git(comando)\n",
    "\n",
    "comando = 'git ls-tree -r 2bf3bc1'\n",
    "ejecutar_comando_git(comando)"
   ]
  },
  {
   "cell_type": "markdown",
   "id": "a4196ad6-02d1-4d53-be8f-c95f639bc044",
   "metadata": {},
   "source": [
    "### EXPORTAR LOS ARCHIVOS SELECCIONADOS"
   ]
  },
  {
   "cell_type": "code",
   "execution_count": 201,
   "id": "c0d5683d-fe37-4d4a-99c6-bfe3c2fc30fa",
   "metadata": {
    "tags": []
   },
   "outputs": [
    {
     "name": "stdout",
     "output_type": "stream",
     "text": [
      "############################################# COMANDO A EJECUTAR #############################################\n",
      "git archive --format=zip main .gitignore LICENSE > ./exportados/archivos_seleccionados.zip\n",
      "####################################### RESULTADO DE COMANDO EJECUTADO #######################################\n",
      "##############################################################################################################\n",
      "\n"
     ]
    }
   ],
   "source": [
    "comando = f'git archive --format=zip main .gitignore LICENSE > {directorio_exportados}/archivos_seleccionados.zip'\n",
    "ejecutar_comando_git(comando)"
   ]
  },
  {
   "cell_type": "markdown",
   "id": "965d2a09-6785-4e75-9ee1-248dfdeac147",
   "metadata": {},
   "source": [
    "# **EXPORTAR LOS ARCHIVOS NUEVOS, MODIFICADOS O ELIMINADOS EN EL ULTIMO COMMIT O UN COMMIT ESPECIFICO USANDO RANGO DE COMMITS**"
   ]
  },
  {
   "cell_type": "markdown",
   "id": "e194e91a-78f7-4cee-b520-1813c3de4b7c",
   "metadata": {
    "tags": []
   },
   "source": [
    "# **WINDOWS**"
   ]
  },
  {
   "cell_type": "markdown",
   "id": "8ead087b-2211-4a99-b83a-1f1ddebe08bf",
   "metadata": {
    "tags": []
   },
   "source": [
    "# ARCHIVOS ADICIONADOS **A**\n",
    "### git diff --name-only --diff-filter=A HEAD~1 HEAD | ForEach-Object {Resolve-Path $_.ToString()} | Compress-Archive -DestinationPath  exportados/nuevos-archivos.zip -Force\n",
    "\n",
    "# ARCHIVOS MODIFICADOS **M**\n",
    "### git diff --name-only --diff-filter=M HEAD~1 HEAD | ForEach-Object {Resolve-Path $_.ToString()} | Compress-Archive -DestinationPath  exportados/nuevos-archivos.zip -Force\n",
    "\n",
    "# ARCHIVOS ELIMINADOS **D**\n",
    "### git diff --name-only --diff-filter=D HEAD~1 HEAD | ForEach-Object {Resolve-Path $_.ToString()} | Compress-Archive -DestinationPath  exportados/nuevos-archivos.zip -Force"
   ]
  },
  {
   "cell_type": "markdown",
   "id": "ed9b7364-30a5-4cdb-a7bc-7c9b49c43487",
   "metadata": {},
   "source": [
    "# USANDO RANGO DE COMMITS\n",
    "### git diff --name-only --diff-filter=A **commit_id_1 commit_id_3** | ForEach-Object {Resolve-Path $_.ToString()} | Compress-Archive -DestinationPath  exportados/nuevos-archivos.zip -Force"
   ]
  },
  {
   "cell_type": "markdown",
   "id": "ec4920f0-ac76-44d0-8f41-39fe2d5e4b83",
   "metadata": {},
   "source": [
    "# **LINUX**"
   ]
  },
  {
   "cell_type": "markdown",
   "id": "6f30ca51-9211-49a8-a691-ebbc08d94bcf",
   "metadata": {
    "tags": []
   },
   "source": [
    "## git diff --name-only --diff-filter=A HEAD~1 HEAD | xargs zip  exportados/nuevos-archivos.zip"
   ]
  },
  {
   "cell_type": "markdown",
   "id": "e3fb86f1-a43f-47da-8bfc-743725297cd7",
   "metadata": {
    "tags": []
   },
   "source": [
    "# **MAC OS**"
   ]
  },
  {
   "cell_type": "markdown",
   "id": "9849e566-b7a9-44e8-976c-0225603c047e",
   "metadata": {},
   "source": [
    "## git diff --name-only --diff-filter=A HEAD~1 HEAD | zip  exportados/nuevos-archivos.zip -@"
   ]
  },
  {
   "cell_type": "markdown",
   "id": "155df078-6872-42e3-a436-7632917d7b52",
   "metadata": {},
   "source": [
    "# <center> BUSCAR FRASE DENTRO DE TODOS LOS ARCHIVOS DE LA RAMA DEL REPOSITORIO</center>"
   ]
  },
  {
   "cell_type": "markdown",
   "id": "cb879e56-a3a4-437d-a1b8-cb24418bf231",
   "metadata": {},
   "source": [
    "### BUSQUEDA SENSIBLE AL CASO EN LA RAMA ACTUAL DEL REPOSITORIO"
   ]
  },
  {
   "cell_type": "code",
   "execution_count": 205,
   "id": "a7a6d86c-253d-4d47-b461-199354650c22",
   "metadata": {
    "scrolled": true,
    "tags": []
   },
   "outputs": [
    {
     "name": "stdout",
     "output_type": "stream",
     "text": [
      "############################################# COMANDO A EJECUTAR #############################################\n",
      "git grep 7\n",
      "####################################### RESULTADO DE COMANDO EJECUTADO #######################################\n",
      "LICENSE:                       Version 3, 29 June 2007\n",
      "LICENSE: Copyright (C) 2007 Free Software Foundation, Inc. <https://fsf.org/>\n",
      "LICENSE:non-permissive terms added in accord with section 7 apply to the code;\n",
      "LICENSE:    7.  This requirement modifies the requirement in section 4 to\n",
      "LICENSE:    License will therefore apply, along with any applicable section 7\n",
      "LICENSE:  7. Additional Terms.\n",
      "LICENSE:or that patent license was granted, prior to 28 March 2007.\n",
      "LICENSE:  17. Interpretation of Sections 15 and 16.\n",
      "##############################################################################################################\n",
      "\n",
      "############################################# COMANDO A EJECUTAR #############################################\n",
      "git branch\n",
      "####################################### RESULTADO DE COMANDO EJECUTADO #######################################\n",
      "  commit_branch\n",
      "* main\n",
      "##############################################################################################################\n",
      "\n"
     ]
    }
   ],
   "source": [
    "frase_a_buscar = '7'\n",
    "\n",
    "# la busqueda es sensible al caso\n",
    "comando = 'git grep {frase_a_buscar}'.format(frase_a_buscar=frase_a_buscar)\n",
    "ejecutar_comando_git(comando)\n",
    "\n",
    "ejecutar_comando_shell()"
   ]
  },
  {
   "cell_type": "markdown",
   "id": "ece69c0c-e8c3-4b16-b4c3-3acb9ae324f9",
   "metadata": {
    "tags": []
   },
   "source": [
    "### BUSQUEDA SENSIBLE AL CASO EN LA RAMA ESPECIFICA DEL REPOSITORIO"
   ]
  },
  {
   "cell_type": "code",
   "execution_count": 207,
   "id": "249f410d-005e-4c76-a11f-29642c9b1e79",
   "metadata": {
    "scrolled": true,
    "tags": []
   },
   "outputs": [
    {
     "name": "stdout",
     "output_type": "stream",
     "text": [
      "############################################# COMANDO A EJECUTAR #############################################\n",
      "git grep 7 commit_branch\n",
      "####################################### RESULTADO DE COMANDO EJECUTADO #######################################\n",
      "commit_branch:Dockerfile:1684029287.756766 \n",
      "commit_branch:Dockerfile:1684029297.202087 \n",
      "commit_branch:Dockerfile:1684029300.744471 \n",
      "commit_branch:LICENSE:                       Version 3, 29 June 2007\n",
      "commit_branch:LICENSE: Copyright (C) 2007 Free Software Foundation, Inc. <https://fsf.org/>\n",
      "commit_branch:LICENSE:non-permissive terms added in accord with section 7 apply to the code;\n",
      "commit_branch:LICENSE:    7.  This requirement modifies the requirement in section 4 to\n",
      "commit_branch:LICENSE:    License will therefore apply, along with any applicable section 7\n",
      "commit_branch:LICENSE:  7. Additional Terms.\n",
      "commit_branch:LICENSE:or that patent license was granted, prior to 28 March 2007.\n",
      "commit_branch:LICENSE:  17. Interpretation of Sections 15 and 16.\n",
      "commit_branch:Manifest.yaml:1684029287.865519 \n",
      "commit_branch:Manifest.yaml:1684029293.725274 \n",
      "commit_branch:Manifest.yaml:1684029297.312886 \n",
      "commit_branch:Manifest.yaml:1684029299.12367 \n",
      "commit_branch:Manifest.yaml:1684029302.762009 \n",
      "commit_branch:addon.php:1684029294.275914 \n",
      "commit_branch:addon.php:1684029296.093273 \n",
      "commit_branch:addon.php:1684029297.88135 \n",
      "commit_branch:addon.php:1684029299.716275 \n",
      "commit_branch:addon.php:1684029303.318557 \n",
      "commit_branch:addon.php:1684029305.060576 \n",
      "commit_branch:calculos.c:1684029297.771524 \n",
      "commit_branch:calculos.c:1684029301.311175 \n",
      "commit_branch:calculos.c:1684029306.775728 \n",
      "commit_branch:connection.java:1684029288.20872 \n",
      "commit_branch:connection.java:1684029295.858327 \n",
      "commit_branch:connection.java:1684029297.645103 \n",
      "commit_branch:connection.java:1684029299.480777 \n",
      "commit_branch:connection.java:1684029301.199752 \n",
      "commit_branch:dataset.avro:1684029288.761637 \n",
      "commit_branch:dataset.avro:1684029301.761657 \n",
      "commit_branch:dataset.avro:1684029307.246843 \n",
      "commit_branch:imagen.png:1684029287.974522 \n",
      "commit_branch:imagen.png:1684029297.423639 \n",
      "commit_branch:imagen.png:1684029299.247772 \n",
      "commit_branch:imagen.png:1684029302.871935 \n",
      "commit_branch:imagen.png:1684029304.620778 \n",
      "commit_branch:info.txt:1684029287.632718 \n",
      "commit_branch:info.txt:1684029295.297649 \n",
      "commit_branch:info.txt:1684029297.090743 \n",
      "commit_branch:info.txt:1684029298.887784 \n",
      "commit_branch:info.txt:1684029300.635793 \n",
      "commit_branch:info.txt:1684029304.277512 \n",
      "commit_branch:link.vs:1684029288.871337 \n",
      "commit_branch:link.vs:1684029294.728638 \n",
      "commit_branch:link.vs:1684029298.335172 \n",
      "commit_branch:link.vs:1684029301.871641 \n",
      "commit_branch:link.vs:1684029303.772962 \n",
      "commit_branch:link.vs:1684029307.354877 \n",
      "commit_branch:main.py:1684029295.733906 \n",
      "commit_branch:main.py:1684029297.535172 \n",
      "commit_branch:main.py:1684029299.356472 \n",
      "commit_branch:main.py:1684029304.729395 \n",
      "commit_branch:query.sql:1684029294.510977 \n",
      "commit_branch:query.sql:1684029296.315779 \n",
      "commit_branch:query.sql:1684029299.934774 \n",
      "commit_branch:query.sql:1684029307.124867 \n",
      "commit_branch:utils.gif:1684029288.540137 \n",
      "commit_branch:utils.gif:1684029297.991214 \n",
      "commit_branch:utils.gif:1684029301.528746 \n",
      "commit_branch:utils.gif:1684029305.170391 \n",
      "commit_branch:utils.gif:1684029307.001217 \n",
      "##############################################################################################################\n",
      "\n",
      "############################################# COMANDO A EJECUTAR #############################################\n",
      "git branch\n",
      "####################################### RESULTADO DE COMANDO EJECUTADO #######################################\n",
      "  commit_branch\n",
      "* main\n",
      "##############################################################################################################\n",
      "\n"
     ]
    }
   ],
   "source": [
    "# la busqueda es sensible al caso\n",
    "comando = 'git grep {frase_a_buscar} commit_branch'.format(frase_a_buscar=frase_a_buscar)\n",
    "ejecutar_comando_git(comando)\n",
    "\n",
    "ejecutar_comando_shell()"
   ]
  },
  {
   "cell_type": "markdown",
   "id": "5c3d3f50-8584-4ff6-8b31-a0ae91e76c32",
   "metadata": {
    "tags": []
   },
   "source": [
    "### BUSQUEDA SENSIBLE AL CASO EN LA RAMA ACTUAL EN UN ARCHIVO ESPECIFICO DEL REPOSITORIO"
   ]
  },
  {
   "cell_type": "code",
   "execution_count": 213,
   "id": "6ce20b6a-cced-4602-a871-b0bc34a114c1",
   "metadata": {
    "scrolled": true,
    "tags": []
   },
   "outputs": [
    {
     "name": "stdout",
     "output_type": "stream",
     "text": [
      "############################################# COMANDO A EJECUTAR #############################################\n",
      "git grep 7 LICENSE\n",
      "####################################### RESULTADO DE COMANDO EJECUTADO #######################################\n",
      "LICENSE:                       Version 3, 29 June 2007\n",
      "LICENSE: Copyright (C) 2007 Free Software Foundation, Inc. <https://fsf.org/>\n",
      "LICENSE:non-permissive terms added in accord with section 7 apply to the code;\n",
      "LICENSE:    7.  This requirement modifies the requirement in section 4 to\n",
      "LICENSE:    License will therefore apply, along with any applicable section 7\n",
      "LICENSE:  7. Additional Terms.\n",
      "LICENSE:or that patent license was granted, prior to 28 March 2007.\n",
      "LICENSE:  17. Interpretation of Sections 15 and 16.\n",
      "##############################################################################################################\n",
      "\n",
      "############################################# COMANDO A EJECUTAR #############################################\n",
      "git branch\n",
      "####################################### RESULTADO DE COMANDO EJECUTADO #######################################\n",
      "  commit_branch\n",
      "* main\n",
      "##############################################################################################################\n",
      "\n"
     ]
    }
   ],
   "source": [
    "# la busqueda es sensible al caso\n",
    "comando = 'git grep {frase_a_buscar} LICENSE'.format(frase_a_buscar=frase_a_buscar)\n",
    "ejecutar_comando_git(comando)\n",
    "\n",
    "ejecutar_comando_shell()"
   ]
  },
  {
   "cell_type": "markdown",
   "id": "8bf2a42e-ceb4-4d6c-9f02-b408f7c64850",
   "metadata": {
    "tags": []
   },
   "source": [
    "### BUSQUEDA SENSIBLE AL CASO EN LA RAMA ESPECIFICA DEL REPOSITORIO Y CONTAR CUANTAS VECES ESTA LA PALABRA EN CADA ARCHIVO"
   ]
  },
  {
   "cell_type": "code",
   "execution_count": 218,
   "id": "f37d4215-77b7-4e67-a3cf-97fed88453d6",
   "metadata": {
    "tags": []
   },
   "outputs": [
    {
     "name": "stdout",
     "output_type": "stream",
     "text": [
      "############################################# COMANDO A EJECUTAR #############################################\n",
      "git grep -c 7 commit_branch\n",
      "####################################### RESULTADO DE COMANDO EJECUTADO #######################################\n",
      "commit_branch:Dockerfile:3\n",
      "commit_branch:LICENSE:8\n",
      "commit_branch:Manifest.yaml:5\n",
      "commit_branch:addon.php:6\n",
      "commit_branch:calculos.c:3\n",
      "commit_branch:connection.java:5\n",
      "commit_branch:dataset.avro:3\n",
      "commit_branch:imagen.png:5\n",
      "commit_branch:info.txt:6\n",
      "commit_branch:link.vs:6\n",
      "commit_branch:main.py:4\n",
      "commit_branch:query.sql:4\n",
      "commit_branch:utils.gif:5\n",
      "##############################################################################################################\n",
      "\n",
      "############################################# COMANDO A EJECUTAR #############################################\n",
      "git branch\n",
      "####################################### RESULTADO DE COMANDO EJECUTADO #######################################\n",
      "  commit_branch\n",
      "* main\n",
      "##############################################################################################################\n",
      "\n"
     ]
    }
   ],
   "source": [
    "# la busqueda es sensible al caso\n",
    "comando = 'git grep -c {frase_a_buscar} commit_branch'.format(frase_a_buscar=frase_a_buscar)\n",
    "ejecutar_comando_git(comando)\n",
    "\n",
    "ejecutar_comando_shell()"
   ]
  },
  {
   "cell_type": "markdown",
   "id": "3c4a0b49-2893-4710-aae6-56a9022bdc9c",
   "metadata": {},
   "source": [
    "### BUSQUEDA NO SENSIBLE AL CASO"
   ]
  },
  {
   "cell_type": "code",
   "execution_count": 219,
   "id": "37475ec6-cf8a-4b59-b421-ab8e7169512f",
   "metadata": {
    "tags": []
   },
   "outputs": [
    {
     "name": "stdout",
     "output_type": "stream",
     "text": [
      "############################################# COMANDO A EJECUTAR #############################################\n",
      "git grep -i 7\n",
      "####################################### RESULTADO DE COMANDO EJECUTADO #######################################\n",
      "LICENSE:                       Version 3, 29 June 2007\n",
      "LICENSE: Copyright (C) 2007 Free Software Foundation, Inc. <https://fsf.org/>\n",
      "LICENSE:non-permissive terms added in accord with section 7 apply to the code;\n",
      "LICENSE:    7.  This requirement modifies the requirement in section 4 to\n",
      "LICENSE:    License will therefore apply, along with any applicable section 7\n",
      "LICENSE:  7. Additional Terms.\n",
      "LICENSE:or that patent license was granted, prior to 28 March 2007.\n",
      "LICENSE:  17. Interpretation of Sections 15 and 16.\n",
      "##############################################################################################################\n",
      "\n"
     ]
    }
   ],
   "source": [
    "# busca mayusculas y minusculas\n",
    "comando = 'git grep -i {frase_a_buscar}'.format(frase_a_buscar=frase_a_buscar)\n",
    "ejecutar_comando_git(comando)"
   ]
  },
  {
   "cell_type": "markdown",
   "id": "5e0f445f-4580-492f-8e43-85b3b0a6cba2",
   "metadata": {},
   "source": [
    "### BUSQUEDA POR PALABRA ESPECIFICA"
   ]
  },
  {
   "cell_type": "code",
   "execution_count": 220,
   "id": "ad9055a7-c026-4f33-9694-01767117ee3c",
   "metadata": {
    "tags": []
   },
   "outputs": [
    {
     "name": "stdout",
     "output_type": "stream",
     "text": [
      "############################################# COMANDO A EJECUTAR #############################################\n",
      "git grep -iw 7\n",
      "####################################### RESULTADO DE COMANDO EJECUTADO #######################################\n",
      "LICENSE:non-permissive terms added in accord with section 7 apply to the code;\n",
      "LICENSE:    7.  This requirement modifies the requirement in section 4 to\n",
      "LICENSE:    License will therefore apply, along with any applicable section 7\n",
      "LICENSE:  7. Additional Terms.\n",
      "##############################################################################################################\n",
      "\n"
     ]
    }
   ],
   "source": [
    "# busca la palabra sola sin mezcla, que no sea prefijo o sufijo, los simbolos no bloquean la busqueda\n",
    "comando = 'git grep -iw {frase_a_buscar}'.format(frase_a_buscar=frase_a_buscar)\n",
    "ejecutar_comando_git(comando)"
   ]
  },
  {
   "cell_type": "markdown",
   "id": "07003e4c-9c59-4638-8e9c-9e7ba0da0afc",
   "metadata": {},
   "source": [
    "### BUSQUEDA CON INTERVALO DE LINEAS POR ENCIMA Y POR DEBAJO DEL TEXTO A BUSCAR"
   ]
  },
  {
   "cell_type": "code",
   "execution_count": 224,
   "id": "b0f80eb5-310a-45df-b20e-5ac839981d6b",
   "metadata": {
    "scrolled": true,
    "tags": []
   },
   "outputs": [
    {
     "name": "stdout",
     "output_type": "stream",
     "text": [
      "############################################# COMANDO A EJECUTAR #############################################\n",
      "git grep -iw -C 1 7\n",
      "####################################### RESULTADO DE COMANDO EJECUTADO #######################################\n",
      "LICENSE-keep intact all notices stating that this License and any\n",
      "LICENSE:non-permissive terms added in accord with section 7 apply to the code;\n",
      "LICENSE-keep intact all notices of the absence of any warranty; and give all\n",
      "--\n",
      "LICENSE-    released under this License and any conditions added under section\n",
      "LICENSE:    7.  This requirement modifies the requirement in section 4 to\n",
      "LICENSE-    \"keep intact all notices\".\n",
      "--\n",
      "LICENSE-    License to anyone who comes into possession of a copy.  This\n",
      "LICENSE:    License will therefore apply, along with any applicable section 7\n",
      "LICENSE-    additional terms, to the whole of the work, and all its parts,\n",
      "--\n",
      "LICENSE-\n",
      "LICENSE:  7. Additional Terms.\n",
      "LICENSE-\n",
      "##############################################################################################################\n",
      "\n"
     ]
    }
   ],
   "source": [
    "# divide el texto y muestra con C cuantas lineas detexto por debajo y por encima existe al filtrar la palabra deseada\n",
    "numero_de_lineas_por_encima_por_debajo = 1\n",
    "comando = 'git grep -iw -C {numero_de_lineas_por_encima_por_debajo} {frase_a_buscar}'.format(numero_de_lineas_por_encima_por_debajo=numero_de_lineas_por_encima_por_debajo, frase_a_buscar=frase_a_buscar)\n",
    "ejecutar_comando_git(comando)"
   ]
  },
  {
   "cell_type": "markdown",
   "id": "da376f7d-0d00-4978-8e48-eb8aeb78a212",
   "metadata": {},
   "source": [
    "### MOSTRAR EL ARCHIVO Y EL NUMERO DE LA LINEA DONDE ESTA EL TEXTO BUSCADO"
   ]
  },
  {
   "cell_type": "code",
   "execution_count": 225,
   "id": "a9936806-0069-421b-a638-a55497c4df8d",
   "metadata": {
    "tags": []
   },
   "outputs": [
    {
     "name": "stdout",
     "output_type": "stream",
     "text": [
      "############################################# COMANDO A EJECUTAR #############################################\n",
      "git grep -i -n 7\n",
      "####################################### RESULTADO DE COMANDO EJECUTADO #######################################\n",
      "LICENSE:2:                       Version 3, 29 June 2007\n",
      "LICENSE:4: Copyright (C) 2007 Free Software Foundation, Inc. <https://fsf.org/>\n",
      "LICENSE:201:non-permissive terms added in accord with section 7 apply to the code;\n",
      "LICENSE:219:    7.  This requirement modifies the requirement in section 4 to\n",
      "LICENSE:224:    License will therefore apply, along with any applicable section 7\n",
      "LICENSE:343:  7. Additional Terms.\n",
      "LICENSE:534:or that patent license was granted, prior to 28 March 2007.\n",
      "LICENSE:612:  17. Interpretation of Sections 15 and 16.\n",
      "##############################################################################################################\n",
      "\n"
     ]
    }
   ],
   "source": [
    "comando = 'git grep -i -n {frase_a_buscar}'.format(frase_a_buscar=frase_a_buscar)\n",
    "ejecutar_comando_git(comando)"
   ]
  },
  {
   "cell_type": "markdown",
   "id": "8c5128e0-82c4-4ca6-9626-f729a5e68231",
   "metadata": {
    "tags": []
   },
   "source": [
    "## ELIMINAR LA RAMA EN EL REPOSITORIO DE ORIGEN O REMOTO"
   ]
  },
  {
   "cell_type": "code",
   "execution_count": 226,
   "id": "799fc2a0-37c7-4fa6-b315-d1e0533c682a",
   "metadata": {
    "scrolled": true,
    "tags": []
   },
   "outputs": [
    {
     "name": "stdout",
     "output_type": "stream",
     "text": [
      "############################################# COMANDO A EJECUTAR #############################################\n",
      "git checkout main\n",
      "####################################### RESULTADO DE COMANDO EJECUTADO #######################################\n",
      "Your branch is behind 'origin/main' by 3 commits, and can be fast-forwarded.\n",
      "  (use \"git pull\" to update your local branch)\n",
      "##############################################################################################################\n",
      "\n",
      "############################################# COMANDO A EJECUTAR #############################################\n",
      "git branch -D commit_branch\n",
      "####################################### RESULTADO DE COMANDO EJECUTADO #######################################\n",
      "Deleted branch commit_branch (was 169c659).\n",
      "##############################################################################################################\n",
      "\n",
      "############################################# COMANDO A EJECUTAR #############################################\n",
      "git push origin -d commit_branch\n",
      "####################################### RESULTADO DE COMANDO EJECUTADO #######################################\n",
      "##############################################################################################################\n",
      "\n",
      "############################################# COMANDO A EJECUTAR #############################################\n",
      "git branch -a\n",
      "####################################### RESULTADO DE COMANDO EJECUTADO #######################################\n",
      "* main\n",
      "  remotes/origin/HEAD -> origin/main\n",
      "  remotes/origin/bisect_branch\n",
      "  remotes/origin/main\n",
      "  remotes/origin/multi_commits\n",
      "##############################################################################################################\n",
      "\n"
     ]
    }
   ],
   "source": [
    "eliminar_rama_local_y_remota(nombre_rama=nombre_rama)"
   ]
  },
  {
   "cell_type": "markdown",
   "id": "c35db3d6-6403-4e68-966b-af50f54f40cf",
   "metadata": {},
   "source": [
    "# <center> MODIFICAR EL MENSAJE DEL ULTIMO COMMIT</center>"
   ]
  },
  {
   "cell_type": "code",
   "execution_count": null,
   "id": "bcea54f7-358f-4e5c-afa0-e5ee5c237900",
   "metadata": {
    "scrolled": true,
    "tags": []
   },
   "outputs": [],
   "source": [
    "nombre_rama = 'amend_branch'\n",
    "crear_rama_local_y_remota(nombre_rama=nombre_rama, todos_los_archivos=False)"
   ]
  },
  {
   "cell_type": "markdown",
   "id": "04a2bd03-dc9d-4573-b7a0-0e7185687dc5",
   "metadata": {},
   "source": [
    "# EN LA CONSOLA DE VSCODE\n",
    "# git commit --amend\n",
    "\n",
    "## SE ABRE AUTOMATICAMENTE EL EDITOR DE TEXTO, reemplazar el emnsaje del commit anterior por el que se quiere y cerrar el archivo\n",
    "## validar en local con git log, no afecta la hora del commit original con la fecha del mensaje actualizado\n",
    "## subir los cambios al repositorio¶\n",
    "# git push --force origin amend_branch"
   ]
  },
  {
   "cell_type": "code",
   "execution_count": null,
   "id": "62fd5b2d-c35e-452c-8929-fbbd9314f90f",
   "metadata": {
    "scrolled": true,
    "tags": []
   },
   "outputs": [],
   "source": [
    "comando = 'git log --oneline'\n",
    "ejecutar_comando_git(comando)"
   ]
  },
  {
   "cell_type": "markdown",
   "id": "85f441a3-5119-4832-93eb-44604777da3e",
   "metadata": {
    "tags": []
   },
   "source": [
    "#### ELIMINAR LA RAMA EN EL REPOSITORIO REMOTO Y LOCAL"
   ]
  },
  {
   "cell_type": "code",
   "execution_count": null,
   "id": "743a5af2-8952-4143-961a-b7bf4b9e31a2",
   "metadata": {
    "scrolled": true,
    "tags": []
   },
   "outputs": [],
   "source": [
    "eliminar_rama_local_y_remota(nombre_rama=nombre_rama)"
   ]
  },
  {
   "cell_type": "markdown",
   "id": "3f4b9314-b71f-4f83-b10f-2a2e8b201580",
   "metadata": {},
   "source": [
    "# <center> REGRESAR A UNA VERSION ANTERIOR DE UN REPOSITORIO GIT</center>"
   ]
  },
  {
   "cell_type": "markdown",
   "id": "259eea42-f14d-446b-b01d-ad0aeffcb3d7",
   "metadata": {},
   "source": [
    "### DETACHED - MOVERSE A UN COMMIT ESPECIFICO Y PONER ESTE COMMIT CON LA NUEVA HEAD"
   ]
  },
  {
   "cell_type": "code",
   "execution_count": null,
   "id": "554290ba-8a54-44ad-9314-825f031a9396",
   "metadata": {
    "scrolled": true,
    "tags": []
   },
   "outputs": [],
   "source": [
    "comando = 'git checkout {nombre_rama_principal}'.format(nombre_rama_principal=nombre_rama_principal)\n",
    "ejecutar_comando_git(comando)\n",
    "\n",
    "comando = 'git checkout 6bfbfd4a81082e9312caf0a94ba88d975f9db1e9'\n",
    "ejecutar_comando_git(comando)\n",
    "\n",
    "comando = 'git log --oneline'\n",
    "ejecutar_comando_git(comando)\n",
    "\n",
    "ejecutar_comando_shell()"
   ]
  },
  {
   "cell_type": "markdown",
   "id": "d5838e4b-70fd-4f79-aa4a-4317fb7379ce",
   "metadata": {},
   "source": [
    "### RETORNA AL HEAD ORIGINAL DE LA RAMA"
   ]
  },
  {
   "cell_type": "code",
   "execution_count": null,
   "id": "697ab643-0f90-4ff3-94e6-f1abc58cd7de",
   "metadata": {
    "scrolled": true,
    "tags": []
   },
   "outputs": [],
   "source": [
    "comando = 'git switch -'\n",
    "ejecutar_comando_git(comando)\n",
    "\n",
    "comando = 'git log --oneline'\n",
    "ejecutar_comando_git(comando)\n",
    "\n",
    "ejecutar_comando_shell()"
   ]
  },
  {
   "cell_type": "markdown",
   "id": "ba29758c-fa6f-49cc-8fd6-c07523b4f339",
   "metadata": {},
   "source": [
    "# <center> RESET COMMITs DE UN REPOSITORIO <br> ELIMINA LOS COMMITS Y AHORA EL NUEVO HEAD ES EL COMMIT A DONDE SE QUIERE IR</br></center>"
   ]
  },
  {
   "cell_type": "code",
   "execution_count": null,
   "id": "fb700ec4-bd71-4094-b7e6-6161977c15ac",
   "metadata": {
    "scrolled": true,
    "tags": []
   },
   "outputs": [],
   "source": [
    "nombre_rama = 'reset_branch'\n",
    "crear_rama_local_y_remota(nombre_rama=nombre_rama, todos_los_archivos=True)"
   ]
  },
  {
   "cell_type": "markdown",
   "id": "0baa7ec9-a901-4715-a606-c6aff785f194",
   "metadata": {},
   "source": [
    "### SOFT RESET n COMMITs **HEAD~n** MANTENIENDO LOS CAMBIOS QUE SE HABIAN HECHO EN LOS ARCHIVOS LOCALES\n",
    "<center>\n",
    "    <img width=\"75%\" align=\"center\" src=\"reset_soft.gif\">\n",
    "</center>\n",
    "<br>\n",
    "<center>\n",
    "    <img width=\"75%\" align=\"center\" src=\"reflog_reset.gif\">\n",
    "</center>"
   ]
  },
  {
   "cell_type": "code",
   "execution_count": null,
   "id": "2b158698-7edd-42db-b76c-197f546c16fd",
   "metadata": {
    "scrolled": true,
    "tags": []
   },
   "outputs": [],
   "source": [
    "# MANITIENE todos los archivos o cambios hechos despues de este commit Y PUEDEN SER GUARDADOS DE NUEVO\n",
    "comando = 'git reset --soft HEAD~3'\n",
    "ejecutar_comando_git(comando)\n",
    "\n",
    "comando = 'git log --oneline'\n",
    "ejecutar_comando_git(comando)"
   ]
  },
  {
   "cell_type": "markdown",
   "id": "f165436b-e609-45ad-9715-339e1d78935a",
   "metadata": {},
   "source": [
    "### HARD RESET n COMMITs **HEAD~n** ELIMINANDO LOS ARCHIVOS Y CAMBIOS QUE SE HABIAN HECHO HASTA ESTE COMMIT\n",
    "<center>\n",
    "    <img width=\"75%\" align=\"center\" src=\"reset_hard.gif\">\n",
    "</center>"
   ]
  },
  {
   "cell_type": "markdown",
   "id": "2e81cfbe-636a-422d-8c20-ddde10caec8d",
   "metadata": {},
   "source": [
    "### RESET COMMITs HASTA n COMMITS ANTERIORES"
   ]
  },
  {
   "cell_type": "code",
   "execution_count": null,
   "id": "5aae132c-6054-46e4-900c-db9a494dffd5",
   "metadata": {
    "scrolled": true,
    "tags": []
   },
   "outputs": [],
   "source": [
    "# elimina todos los archivos o cambios hechos despues de este commit YA NO SE PUEDEN RECUPERAR ESOS ARCHIVOS\n",
    "comando = 'git reset --hard HEAD~7'\n",
    "ejecutar_comando_git(comando)\n",
    "\n",
    "comando = 'git log --oneline'\n",
    "ejecutar_comando_git(comando)"
   ]
  },
  {
   "cell_type": "markdown",
   "id": "e1fae349-008e-429c-bc31-0812d917bc1d",
   "metadata": {},
   "source": [
    "### RESET COMMITs ELIMINANDO LOS ARCHIVOS Y CAMBIOS HASTA UN COMMIT ESPECIFICO USANDO EL ID DEL COMMIT"
   ]
  },
  {
   "cell_type": "code",
   "execution_count": null,
   "id": "840915cb-d988-4531-b718-c9db65e2c18e",
   "metadata": {
    "tags": []
   },
   "outputs": [],
   "source": [
    "comando = 'git reset --hard ae943f2' # configuraion general y de ambiente\n",
    "ejecutar_comando_git(comando)\n",
    "\n",
    "\n",
    "comando = 'git log --oneline'\n",
    "ejecutar_comando_git(comando)"
   ]
  },
  {
   "cell_type": "markdown",
   "id": "b3dd8cdf-657f-49c9-887b-6d0ddb2f06db",
   "metadata": {},
   "source": [
    "## RESET HASTA UN COMMIT ESPECIFICO EN UN REPOSITORIO REMOTO <br>https://github.com/JorgeCardona/comandos_git</br>"
   ]
  },
  {
   "cell_type": "code",
   "execution_count": null,
   "id": "58e70ab3-644f-4a9c-8a4d-24094690d843",
   "metadata": {
    "tags": []
   },
   "outputs": [],
   "source": [
    "comando = 'git reset --hard 474faa1' # adicionado archivo pdf\n",
    "ejecutar_comando_git(comando)"
   ]
  },
  {
   "cell_type": "markdown",
   "id": "ecfff94e-20ee-46bb-8a1d-97bd8e5f76ad",
   "metadata": {},
   "source": [
    "#### CONFIRMAR LOS CAMBIOS DEL RESET EN EL REPOSITORIO DE ORIGEN O REMOTO"
   ]
  },
  {
   "cell_type": "code",
   "execution_count": null,
   "id": "85a7f262-e036-4ea1-ba5b-7daf6de7c221",
   "metadata": {
    "scrolled": true,
    "tags": []
   },
   "outputs": [],
   "source": [
    "# confirmar los cambios al repositorio remoto el reset\n",
    "comando = 'git push --force origin {nombre_rama}'.format(nombre_rama=nombre_rama)\n",
    "ejecutar_comando_git(comando)"
   ]
  },
  {
   "cell_type": "markdown",
   "id": "6f134986-cf69-4c0c-adce-8d6f6de1a275",
   "metadata": {
    "tags": []
   },
   "source": [
    "#### ELIMINAR LA RAMA EN EL REPOSITORIO DE ORIGEN O REMOTO"
   ]
  },
  {
   "cell_type": "code",
   "execution_count": null,
   "id": "6bc84035-b76b-40d1-b6f4-87175b5c0fee",
   "metadata": {
    "scrolled": true,
    "tags": []
   },
   "outputs": [],
   "source": [
    "eliminar_rama_local_y_remota(nombre_rama=nombre_rama)"
   ]
  },
  {
   "cell_type": "markdown",
   "id": "da360e27-ccbd-473b-b6b0-3904eaf90ceb",
   "metadata": {},
   "source": [
    "# <center> REVERTIR COMMITs DE UN REPOSITORIO <br> CREA UN NUEVO COMMIT MANTENIENDO LOS COMMITS ANTERIORES</br></center>\n",
    "<center>\n",
    "    <img width=\"75%\" align=\"center\" src=\"revert.gif\">\n",
    "</center>"
   ]
  },
  {
   "cell_type": "code",
   "execution_count": null,
   "id": "9f51021e-0467-45cb-848b-d6349adc47ae",
   "metadata": {
    "scrolled": true,
    "tags": []
   },
   "outputs": [],
   "source": [
    "nombre_rama = 'revert_branch'\n",
    "crear_rama_local_y_remota(nombre_rama=nombre_rama, todos_los_archivos=True)"
   ]
  },
  {
   "cell_type": "markdown",
   "id": "14dcee2e-b81b-46b1-be2d-11141fddccb3",
   "metadata": {},
   "source": [
    "## REVERT HASTA UN COMMIT ESPECIFICO O UN HEAD~ EN UN REPOSITORIO REMOTO <br>https://github.com/JorgeCardona/comandos_git</br>"
   ]
  },
  {
   "cell_type": "code",
   "execution_count": null,
   "id": "023475c8-814d-4f36-b64c-a64beca95906",
   "metadata": {
    "scrolled": true,
    "tags": []
   },
   "outputs": [],
   "source": [
    "# elimina todos los archivos o cambios hechos despues de este commit YA NO SE PUEDEN RECUPERAR ESOS ARCHIVOS\n",
    "comando = 'git revert HEAD~24'\n",
    "ejecutar_comando_git(comando)\n",
    "\n",
    "comando = 'git log --oneline'\n",
    "ejecutar_comando_git(comando)"
   ]
  },
  {
   "cell_type": "markdown",
   "id": "baf2e62d-6d6c-4db1-9e55-ed83ca32cc74",
   "metadata": {},
   "source": [
    "#### CONFIRMAR LOS CAMBIOS DEL REVERT EN EL REPOSITORIO REMOTO"
   ]
  },
  {
   "cell_type": "code",
   "execution_count": null,
   "id": "3d734989-5626-45c6-9628-b07f688f8a28",
   "metadata": {
    "tags": []
   },
   "outputs": [],
   "source": [
    "# confirmar al repositorio remoto el reset\n",
    "comando = 'git push --force origin {nombre_rama}'.format(nombre_rama=nombre_rama)\n",
    "ejecutar_comando_git(comando)"
   ]
  },
  {
   "cell_type": "markdown",
   "id": "9deccc0f-c689-4cd8-8b90-3b5d23be0495",
   "metadata": {
    "tags": []
   },
   "source": [
    "#### ELIMINAR LA RAMA EN EL REPOSITORIO DE ORIGEN O REMOTO"
   ]
  },
  {
   "cell_type": "code",
   "execution_count": null,
   "id": "28d44037-179f-4cd0-9db2-74378ba43261",
   "metadata": {
    "scrolled": true,
    "tags": []
   },
   "outputs": [],
   "source": [
    "eliminar_rama_local_y_remota(nombre_rama=nombre_rama)"
   ]
  },
  {
   "cell_type": "markdown",
   "id": "9b027290-7227-420b-83d9-df5d70ec5f30",
   "metadata": {
    "tags": []
   },
   "source": [
    "# <center> REBASE *JUNTAR VARIOS COMMITS EN UNO SOLO, CAMBIAR EL ORDEN DE LOS COMMITS <br>REESCRIBIENDO EL HISTORIAL Y LOS MENSAJES DE MULTIPLES* COMMITs DE UN REPOSITORIO</br> <br>https://github.com/JorgeCardona/comandos_git</br></center>\n",
    "<center>\n",
    "    <img width=\"75%\" align=\"center\" src=\"rebase.gif\">\n",
    "</center>"
   ]
  },
  {
   "cell_type": "code",
   "execution_count": null,
   "id": "cc27876f-4967-4f76-b861-405e533c651a",
   "metadata": {
    "scrolled": true,
    "tags": []
   },
   "outputs": [],
   "source": [
    "nombre_rama = 'rebase_branch'\n",
    "crear_rama_local_y_remota(nombre_rama=nombre_rama, todos_los_archivos=True)"
   ]
  },
  {
   "cell_type": "code",
   "execution_count": null,
   "id": "09ffeed2-1619-4471-8168-b2d931e01fd3",
   "metadata": {
    "scrolled": true,
    "tags": []
   },
   "outputs": [],
   "source": [
    "comando = 'git log'\n",
    "ejecutar_comando_git(comando)"
   ]
  },
  {
   "cell_type": "markdown",
   "id": "9f41a9a0-fc04-47f4-80ff-8e615a806360",
   "metadata": {},
   "source": [
    "# EN LA CONSOLA, TERMINAL O UN IDE DE DESARROLLO <br>https://github.com/JorgeCardona/comandos_git</br>\n",
    "\n",
    "<center>\n",
    "    <img width=\"75%\" align=\"center\" src=\"rebase_interactivo.gif\">\n",
    "</center>\n",
    "<br>\n",
    "<center>\n",
    "    <img width=\"75%\" align=\"center\" src=\"rebase_tipos.png\">\n",
    "</center>\n",
    "<br>\n",
    "<center>\n",
    "    <img width=\"75%\" align=\"center\" src=\"rebase_squash.gif\">\n",
    "</center>"
   ]
  },
  {
   "cell_type": "markdown",
   "id": "89cbab06-c933-44a8-bceb-c3a80735123e",
   "metadata": {},
   "source": [
    "### n COMMITS ATRAS\n",
    "# git rebase -i HEAD~9\n",
    "\n",
    "### UN COMMIT ESPECIFICO\n",
    "# git rebase -i d15fad27cb8d1bcb6a0e697ef02e2d787dc51b48\n",
    "\n",
    "\n",
    "##### SE ABRE AUTOMATICAMENTE EL EDITOR DE TEXTO, reemplazar la palabra **pick** por **squash** GUARDAR y CERRAR\n",
    "### DEJAR EL PRIMERO COMO PICK YA QUE SINO, NO EXISTEN COMMITS PARA HACER, GENERA ERROR.\n",
    "##### SE ABRE AUTOMATICAMENTE EL EDITOR DE TEXTO, reemplazar los comentarios por el comentario que se quiere\n",
    "## subir los cambios al repositorio\n",
    "# git push --force origin rebase_branch"
   ]
  },
  {
   "cell_type": "markdown",
   "id": "d6d6ce5d-6292-4989-a382-8b4c4223b1d8",
   "metadata": {
    "tags": []
   },
   "source": [
    "#### ELIMINAR LA RAMA DEL REPOSITORIO LOCAL Y REMOTO"
   ]
  },
  {
   "cell_type": "code",
   "execution_count": null,
   "id": "dea080a3-5eaf-4c8f-abeb-3ff0ae69f750",
   "metadata": {
    "scrolled": true,
    "tags": []
   },
   "outputs": [],
   "source": [
    "eliminar_rama_local_y_remota(nombre_rama=nombre_rama)"
   ]
  },
  {
   "cell_type": "markdown",
   "id": "98749f3f-04c9-4f07-bede-6fe4d3c04982",
   "metadata": {},
   "source": [
    "# <center> MERGE RAMAS DE UN REPOSITORIO <br>https://github.com/JorgeCardona/comandos_git</br></center>\n",
    "\n",
    "<center>\n",
    "    <img width=\"75%\" align=\"center\" src=\"merge.gif\">\n",
    "</center>"
   ]
  },
  {
   "cell_type": "code",
   "execution_count": null,
   "id": "b3a24f21-1be6-4aba-ae1f-8d33393e968b",
   "metadata": {
    "scrolled": true,
    "tags": []
   },
   "outputs": [],
   "source": [
    "nombre_ramas = ['branch_uno','branch_dos']\n",
    "\n",
    "for nombre_rama in nombre_ramas:\n",
    "    crear_rama_local_y_remota(nombre_rama=nombre_rama, todos_los_archivos=False)"
   ]
  },
  {
   "cell_type": "markdown",
   "id": "57b93962-ad12-4c53-ae6a-a6496c3bcc61",
   "metadata": {},
   "source": [
    "# <center> UNIR DOS RAMAS LOCALES </center>\n",
    "\n",
    "<center>\n",
    "    <img width=\"75%\" align=\"center\" src=\"merge_conflictos.gif\">\n",
    "</center>"
   ]
  },
  {
   "cell_type": "markdown",
   "id": "baf1888f-cc65-47a1-8091-4c234363db68",
   "metadata": {},
   "source": [
    "# EN LA CONSOLA, TERMINAL O UN IDE DE DESARROLLO\n",
    "# git merge branch_dos branch_uno"
   ]
  },
  {
   "cell_type": "markdown",
   "id": "a7674952-0aa9-43bd-98e6-c57aac0ac644",
   "metadata": {},
   "source": [
    "# Accept Current Change | Accept Incoming Change | Accept Both Changes | Compare Change\n",
    "# <<<<<<< HEAD\n",
    "# 1679198052.206751 (Current Change)\n",
    "# =======\n",
    "# 1679198046.401986 \n",
    "# >>>>>>> branch_uno (Incoming Change)"
   ]
  },
  {
   "cell_type": "markdown",
   "id": "bee82566-8bdd-4dca-a5cd-2ae8b49f7941",
   "metadata": {},
   "source": [
    "# <center> UNIR CAMBIOS DE LA RAMA REMOTA A LA RAMA LOCAL </center> "
   ]
  },
  {
   "cell_type": "markdown",
   "id": "850814d1-94b7-43e7-8463-eba49e776121",
   "metadata": {},
   "source": [
    "# EN LA CONSOLA DE VSCODE O UN IDE DE DESARROLLO\n",
    "<center>\n",
    "    <img width=\"75%\" align=\"center\" src=\"pull.gif\">\n",
    "</center>\n",
    "\n",
    "# git switch branch_uno\n",
    "# git pull origin branch_dos"
   ]
  },
  {
   "cell_type": "markdown",
   "id": "e7030020-fa35-4665-bc8e-6b273a16e278",
   "metadata": {},
   "source": [
    "# <center> UNIR CAMBIOS DE LA RAMA LOCAL A LA RAMA REMOTA </center> "
   ]
  },
  {
   "cell_type": "markdown",
   "id": "d16cc908-7a0a-4b54-a2f3-6e9ae91feca7",
   "metadata": {},
   "source": [
    "# EN LA CONSOLA DE VSCODE O UN IDE DE DESARROLLO\n",
    "### hacer un git commit y despues un git pull\n",
    "\n",
    "# Accept Current Change | Accept Incoming Change | Accept Both Changes | Compare Change\n",
    "# <<<<<<< HEAD\n",
    "# 1679198052.206751 (Current Change)\n",
    "# =======\n",
    "# 1679198046.401986 \n",
    "# >>>>>>> branch_uno (Incoming Change)"
   ]
  },
  {
   "cell_type": "markdown",
   "id": "b727c10e-f9c4-438a-8fdf-0734a4ee86ac",
   "metadata": {},
   "source": [
    "# <center> VER HISTORIAL DE n COMMITS EN UN DIAGRAMA DE GRAFO</center>"
   ]
  },
  {
   "cell_type": "code",
   "execution_count": null,
   "id": "faba3aec-b457-4beb-a478-d48f4faa488d",
   "metadata": {
    "tags": []
   },
   "outputs": [],
   "source": [
    "comando = 'git log --graph --oneline'\n",
    "ejecutar_comando_git(comando)\n",
    "ejecutar_comando_shell()"
   ]
  },
  {
   "cell_type": "markdown",
   "id": "471237ac-4d88-44e5-8092-594beef0610e",
   "metadata": {},
   "source": [
    "## VER HISTORIAL DE n COMMITS EN UN DIAGRAMA DE GRAFO MAS DETALLADO"
   ]
  },
  {
   "cell_type": "code",
   "execution_count": null,
   "id": "c50ea762-5f3c-48a0-9c1f-a7bd9b9ce6ac",
   "metadata": {
    "tags": []
   },
   "outputs": [],
   "source": [
    "comando = 'git log --decorate --graph --oneline --all'\n",
    "ejecutar_comando_git(comando)\n",
    "ejecutar_comando_shell()"
   ]
  },
  {
   "cell_type": "markdown",
   "id": "b005edd6-9e5b-4123-bd4b-a3fa834f3750",
   "metadata": {
    "tags": []
   },
   "source": [
    "### VER HISTORIAL DE QUIEN HA MANIPULADO UN ARCHIVO ESPECIFICO"
   ]
  },
  {
   "cell_type": "code",
   "execution_count": null,
   "id": "1dd5141a-fea7-4058-93f6-b3e048d8c724",
   "metadata": {
    "tags": []
   },
   "outputs": [],
   "source": [
    "comando = 'git blame info.txt'\n",
    "ejecutar_comando_git(comando)\n",
    "ejecutar_comando_shell()"
   ]
  },
  {
   "cell_type": "markdown",
   "id": "d40915df-19c0-491b-8153-0f02b42d1b36",
   "metadata": {
    "tags": []
   },
   "source": [
    "#### ELIMINAR LAS RAMAS EN EL REPOSITORIO DE ORIGEN O REMOTO"
   ]
  },
  {
   "cell_type": "code",
   "execution_count": null,
   "id": "9ff94caf-5123-4bac-9ed0-a603de6453e5",
   "metadata": {
    "scrolled": true,
    "tags": []
   },
   "outputs": [],
   "source": [
    "comando = 'git checkout {nombre_rama_principal}'.format(nombre_rama_principal=nombre_rama_principal)\n",
    "ejecutar_comando_git(comando)\n",
    "\n",
    "for nombre_rama in nombre_ramas:\n",
    "    \n",
    "    eliminar_rama_local_y_remota(nombre_rama=nombre_rama)"
   ]
  },
  {
   "cell_type": "markdown",
   "id": "4bec41e1-5333-4e9a-af12-2591a9f87ee8",
   "metadata": {},
   "source": [
    "# <center> CHERRY PICK, UNIR EL CONTENIDO DE UN COMMIT ESPECIFICO Y QUEDA COMO HEAD <br>https://github.com/JorgeCardona/comandos_git</br></center>\n",
    "\n",
    "<center>\n",
    "    <img width=\"75%\" align=\"center\" src=\"cherry-pick.gif\">\n",
    "</center>"
   ]
  },
  {
   "cell_type": "markdown",
   "id": "1fe189e9-ab8e-4708-bfe1-346259f662c2",
   "metadata": {},
   "source": [
    "### CREA LAS RAMAS"
   ]
  },
  {
   "cell_type": "code",
   "execution_count": null,
   "id": "9fb2ef57-7954-4bb1-b9ab-ac572aab0ef1",
   "metadata": {
    "scrolled": true,
    "tags": []
   },
   "outputs": [],
   "source": [
    "nombre_ramas = ['hotfix_branch','cherry_pick_branch']\n",
    "\n",
    "todos_los_archivos=True\n",
    "crear_rama_local_y_remota(nombre_rama=nombre_ramas[0], todos_los_archivos=todos_los_archivos)\n",
    "\n",
    "comando = 'git switch --orphan {nombre_rama}'.format(nombre_rama=nombre_ramas[1])\n",
    "ejecutar_comando_git(comando)\n",
    "\n",
    "generar_archivos(todos_los_archivos=False)\n",
    "\n",
    "comando = 'git add .'\n",
    "ejecutar_comando_git(comando)\n",
    "\n",
    "comando = 'git commit -m \"archivo info.txt para usar con el hotfix_branch\" '\n",
    "ejecutar_comando_git(comando)\n",
    "\n",
    "comando = 'git branch -a'\n",
    "ejecutar_comando_git(comando)"
   ]
  },
  {
   "cell_type": "markdown",
   "id": "755b476e-2c52-4bd0-a63a-0290e2cd9e48",
   "metadata": {},
   "source": [
    "### PUBLICAR RAMA <br>https://github.com/JorgeCardona/comandos_git</br> </center>\n"
   ]
  },
  {
   "cell_type": "code",
   "execution_count": null,
   "id": "4aba5007-6390-4517-bfdf-f71f3b09e44f",
   "metadata": {
    "scrolled": true,
    "tags": []
   },
   "outputs": [],
   "source": [
    "comando = 'git push --set-upstream origin {nombre_rama}'.format(nombre_rama=nombre_ramas[1])\n",
    "ejecutar_comando_git(comando)\n",
    "\n",
    "comando = 'git status'\n",
    "ejecutar_comando_git(comando)\n",
    "\n",
    "comando = 'git branch -a'\n",
    "ejecutar_comando_git(comando)"
   ]
  },
  {
   "cell_type": "markdown",
   "id": "c5ce3c4b-49d1-4f9b-83cb-dd1b549e24d7",
   "metadata": {},
   "source": [
    "## VER EL LOG DE LA RAMA A USAR COMO BASE PARA EL CHERRY_PICK"
   ]
  },
  {
   "cell_type": "code",
   "execution_count": null,
   "id": "130942c2-68ce-4d83-8aa0-e41ff7bb0214",
   "metadata": {
    "scrolled": true,
    "tags": []
   },
   "outputs": [],
   "source": [
    "comando = f'git log --oneline {nombre_ramas[0]}'\n",
    "ejecutar_comando_git(comando)\n",
    "\n",
    "comando = f'git log --oneline {nombre_ramas[1]}'\n",
    "ejecutar_comando_git(comando)\n",
    "ejecutar_comando_shell()"
   ]
  },
  {
   "cell_type": "markdown",
   "id": "775577c8-cf19-4db9-bad3-05a13383868b",
   "metadata": {},
   "source": [
    "## CHERRY PICK A UN COMMIT DE LA RAMA **CHERRY_PICK** PARA UNIRLA CON LA RAMA ACTUAL **HOTFIX**"
   ]
  },
  {
   "cell_type": "markdown",
   "id": "ed8b5582-a870-4297-8258-7b7750bb5a37",
   "metadata": {},
   "source": [
    "### ADICIONA UN SOLO COMMIT"
   ]
  },
  {
   "cell_type": "code",
   "execution_count": null,
   "id": "07bedf2b-ca47-488b-a2d6-98be3a618aa0",
   "metadata": {
    "scrolled": true,
    "tags": []
   },
   "outputs": [],
   "source": [
    "comando = 'git status'\n",
    "ejecutar_comando_git(comando)\n",
    "\n",
    "unir_commits = 'fd01bde' # archivo README\n",
    "comando = f'git cherry-pick {unir_commits}' \n",
    "ejecutar_comando_git(comando)\n",
    "\n",
    "comando = f'git log --oneline {nombre_ramas[1]}'\n",
    "ejecutar_comando_git(comando)\n",
    "\n",
    "comando = f'git log --oneline {nombre_ramas[0]}'\n",
    "ejecutar_comando_git(comando)"
   ]
  },
  {
   "cell_type": "markdown",
   "id": "777f7740-b88e-4552-8b3a-a11fd7d1dce3",
   "metadata": {},
   "source": [
    "### ADICIONA VARIOS COMMIT SELECCIONADOS"
   ]
  },
  {
   "cell_type": "code",
   "execution_count": null,
   "id": "d9b7dcfc-624f-43a2-815f-d3d288ee2ee6",
   "metadata": {
    "scrolled": true,
    "tags": []
   },
   "outputs": [],
   "source": [
    "comando = 'git status'\n",
    "ejecutar_comando_git(comando)\n",
    "\n",
    "unir_commits = 'd481740 6bfbfd4' # archivo requirements.txt, 6bfbfd4\n",
    "comando = f'git cherry-pick {unir_commits}' \n",
    "ejecutar_comando_git(comando)\n",
    "\n",
    "comando = f'git log --oneline {nombre_ramas[1]}'\n",
    "ejecutar_comando_git(comando)\n",
    "\n",
    "comando = f'git log --oneline {nombre_ramas[0]}'\n",
    "ejecutar_comando_git(comando)"
   ]
  },
  {
   "cell_type": "markdown",
   "id": "bf02f1e1-6bd2-483a-a64d-d05457c1c430",
   "metadata": {},
   "source": [
    "### ADICIONA UN RANGO DE COMMITS\n",
    "#### SI EXISTE ARCHIVOS CON EL MISMO NOMBRE EN EL INTERVALO DE COMMITS **CREARAN CONFLICTOS**"
   ]
  },
  {
   "cell_type": "markdown",
   "id": "6a946945-d354-4a65-94db-e845c084ce18",
   "metadata": {},
   "source": [
    "### SE EXCLUYE EL COMMIT DE INICIO"
   ]
  },
  {
   "cell_type": "code",
   "execution_count": null,
   "id": "4dd5bec4-83ff-42c5-a5c7-b2badcfeb547",
   "metadata": {
    "scrolled": true,
    "tags": []
   },
   "outputs": [],
   "source": [
    "commit_inicio = 'c4f3a74' # commit de archivo Dockerfile\n",
    "commit_final = 'a3af718' # commit de archivo imagen.png\n",
    "\n",
    "unir_commits = f'{commit_inicio}..{commit_final}' \n",
    "comando = f'git cherry-pick {unir_commits}' \n",
    "ejecutar_comando_git(comando)\n",
    "\n",
    "comando = f'git log --oneline {nombre_ramas[1]}'\n",
    "ejecutar_comando_git(comando)\n",
    "\n",
    "comando = f'git log --oneline {nombre_ramas[0]}'\n",
    "ejecutar_comando_git(comando)"
   ]
  },
  {
   "cell_type": "markdown",
   "id": "1bc581a1-e71e-4dad-ba88-55075d4a17df",
   "metadata": {},
   "source": [
    "### SE INCLUYE EL COMMIT DE INICIO ~"
   ]
  },
  {
   "cell_type": "code",
   "execution_count": null,
   "id": "ff328328-1c30-4f65-8a20-e07422a0597a",
   "metadata": {
    "scrolled": true,
    "tags": []
   },
   "outputs": [],
   "source": [
    "commit_inicio = '1e9d747' # commit de archivo main.py\n",
    "commit_final = '7a4b442' # commit de archivo query.sql\n",
    "\n",
    "unir_commits = f'{commit_inicio}~..{commit_final}'\n",
    "comando = f'git cherry-pick {unir_commits}' \n",
    "ejecutar_comando_git(comando)\n",
    "\n",
    "comando = f'git log --oneline {nombre_ramas[1]}'\n",
    "ejecutar_comando_git(comando)"
   ]
  },
  {
   "cell_type": "markdown",
   "id": "754c7c78-5b3d-47bb-9a87-236c8f8ecdf0",
   "metadata": {},
   "source": [
    "### SUBIR LOS COMMITS ADICIONADOS CON CHERRY-PICK"
   ]
  },
  {
   "cell_type": "code",
   "execution_count": null,
   "id": "af52d216-167d-4120-a017-613b8df9a61a",
   "metadata": {
    "scrolled": true,
    "tags": []
   },
   "outputs": [],
   "source": [
    "comando = 'git push origin'\n",
    "ejecutar_comando_git(comando)\n",
    "\n",
    "comando = 'git status'\n",
    "ejecutar_comando_git(comando)\n",
    "\n",
    "ejecutar_comando_shell()"
   ]
  },
  {
   "cell_type": "markdown",
   "id": "b18cdbb4-54b2-4efa-b635-45e79343f352",
   "metadata": {
    "tags": []
   },
   "source": [
    "#### ELIMINAR LA RAMA EN EL REPOSITORIO DE ORIGEN O REMOTO"
   ]
  },
  {
   "cell_type": "code",
   "execution_count": null,
   "id": "41e95932-aa90-4caf-9d5b-2fc5e1148a72",
   "metadata": {
    "scrolled": true,
    "tags": []
   },
   "outputs": [],
   "source": [
    "# si queda algo pendiente con el cherry-pick\n",
    "comando = 'git cherry-pick --quit'\n",
    "ejecutar_comando_git(comando)\n",
    "\n",
    "for nombre_rama in nombre_ramas:\n",
    "    eliminar_rama_local_y_remota(nombre_rama=nombre_rama)"
   ]
  },
  {
   "cell_type": "markdown",
   "id": "7ed89905-a846-46cf-9175-dd32aee6b39a",
   "metadata": {},
   "source": [
    "# <center> TAGs <br>https://github.com/JorgeCardona/comandos_git</br></center>"
   ]
  },
  {
   "cell_type": "code",
   "execution_count": null,
   "id": "1106d9e3-269d-4a57-9d2c-4ac9c2db5eb9",
   "metadata": {
    "scrolled": true,
    "tags": []
   },
   "outputs": [],
   "source": [
    "nombre_rama = 'tag_branch'\n",
    "\n",
    "crear_rama_local_y_remota(nombre_rama=nombre_rama, todos_los_archivos=True)"
   ]
  },
  {
   "cell_type": "markdown",
   "id": "f9101b9b-478a-4129-9df9-cd989868c4d1",
   "metadata": {},
   "source": [
    "### CREAR UN TAG"
   ]
  },
  {
   "cell_type": "code",
   "execution_count": null,
   "id": "01d3649c-ee90-4b90-bbdb-d742ad2b8742",
   "metadata": {
    "tags": []
   },
   "outputs": [],
   "source": [
    "nombre_tag = 'v0.0.0'\n",
    "comando = 'git tag  {nombre_tag} -m \"versión Inicial\"'.format(nombre_tag=nombre_tag)\n",
    "ejecutar_comando_git(comando)\n",
    "\n",
    "comando = 'git tag'\n",
    "ejecutar_comando_git(comando)"
   ]
  },
  {
   "cell_type": "markdown",
   "id": "b223e4b0-233b-4ac4-871c-434e0fc368c0",
   "metadata": {},
   "source": [
    "### LISTAR LOS TAGs LOCALES"
   ]
  },
  {
   "cell_type": "code",
   "execution_count": null,
   "id": "861b023c-39bc-47a7-b6a9-1b3d1de59b10",
   "metadata": {
    "tags": []
   },
   "outputs": [],
   "source": [
    "comando = 'git tag'\n",
    "ejecutar_comando_git(comando)"
   ]
  },
  {
   "cell_type": "markdown",
   "id": "dc27fb1b-3409-4dfa-9a0e-140622be4a5f",
   "metadata": {},
   "source": [
    "### ELIMINAR UN TAG LOCAL"
   ]
  },
  {
   "cell_type": "code",
   "execution_count": null,
   "id": "45899fd1-ead0-477e-ab13-a73f5c43a0dd",
   "metadata": {
    "tags": []
   },
   "outputs": [],
   "source": [
    "comando = 'git tag -d {nombre_tag}'.format(nombre_tag=nombre_tag)\n",
    "ejecutar_comando_git(comando)\n",
    "\n",
    "comando = 'git tag'\n",
    "ejecutar_comando_git(comando)"
   ]
  },
  {
   "cell_type": "markdown",
   "id": "d8dd2d33-3365-4ab5-8203-4da985e4581c",
   "metadata": {
    "tags": []
   },
   "source": [
    "### CREAR MULTIPLES TAGs"
   ]
  },
  {
   "cell_type": "code",
   "execution_count": null,
   "id": "b94e2bc8-287d-49bf-af0c-b1ea05f5903e",
   "metadata": {
    "scrolled": true,
    "tags": []
   },
   "outputs": [],
   "source": [
    "lista_ramas_locales = obtener_lista_nombres_ramas_git()\n",
    "\n",
    "for indice, rama in enumerate(lista_ramas_locales):\n",
    " \n",
    "    #cambia de rama para tener el contenido especifico de esa rama en el TAG\n",
    "    comando = 'git checkout {rama}\"'.format(rama=rama)\n",
    "    ejecutar_comando_git(comando)\n",
    "    \n",
    "    # genera el nombre que tendra el TAG\n",
    "    nombre_tag = 'v0.0.{indice}_{rama}'.format(rama=rama, indice=indice)\n",
    "    comando = 'git tag {nombre_tag} -m \"version {indice} del TAG\"'.format(nombre_tag=nombre_tag, indice=indice)\n",
    "    ejecutar_comando_git(comando)\n",
    "\n",
    "comando = 'git tag'\n",
    "ejecutar_comando_git(comando)"
   ]
  },
  {
   "cell_type": "markdown",
   "id": "83bf163d-199f-49b0-a309-856ad5f5514c",
   "metadata": {},
   "source": [
    "### LISTAR LOS TAGs Y VER SU DESCRIPCION"
   ]
  },
  {
   "cell_type": "code",
   "execution_count": null,
   "id": "7d71ebff-c95b-4efb-83e3-d3c9f4c7bdf1",
   "metadata": {
    "tags": []
   },
   "outputs": [],
   "source": [
    "comando = 'git tag -n'\n",
    "ejecutar_comando_git(comando)"
   ]
  },
  {
   "cell_type": "markdown",
   "id": "75dd5833-b4c6-43cf-9b35-31ad5c42fcb9",
   "metadata": {},
   "source": [
    "### PUBLICAR UN TAG ESPECIFICO A UN REPOSITORIO REMOTO <br>https://github.com/JorgeCardona/comandos_git</br>"
   ]
  },
  {
   "cell_type": "code",
   "execution_count": null,
   "id": "92fef3aa-ffee-4f9b-bf5d-af7ec1396ddf",
   "metadata": {
    "scrolled": true,
    "tags": []
   },
   "outputs": [],
   "source": [
    "for indice, rama in enumerate([lista_ramas_locales[0]]):\n",
    "    \n",
    "    nombre_tag = 'v0.0.{indice}_{rama}'.format(rama=rama, indice=indice)\n",
    "    comando = comando = 'git push origin {nombre_tag}'.format(nombre_tag=nombre_tag)\n",
    "    ejecutar_comando_git(comando)"
   ]
  },
  {
   "cell_type": "markdown",
   "id": "394c82ec-862f-4f9c-837e-26bd1a1cb9b3",
   "metadata": {},
   "source": [
    "### LISTAR LOS TAGs REMOTOS"
   ]
  },
  {
   "cell_type": "code",
   "execution_count": null,
   "id": "2912578c-ac46-4c71-91f6-3c7f98f1d0cb",
   "metadata": {
    "tags": []
   },
   "outputs": [],
   "source": [
    "comando = 'git ls-remote --tags'\n",
    "ejecutar_comando_git(comando)"
   ]
  },
  {
   "cell_type": "markdown",
   "id": "8378e5d7-1469-4db9-b56f-2417b7720cd3",
   "metadata": {},
   "source": [
    "### PUBLICAR TODOS LOS TAGs NO PUBLICADOS EN UN SOLO PUSH AL REPOSITORIO REMOTO"
   ]
  },
  {
   "cell_type": "code",
   "execution_count": null,
   "id": "b098f775-2118-4c64-8dbe-93bba7f1cb05",
   "metadata": {
    "tags": []
   },
   "outputs": [],
   "source": [
    "comando = 'git push --tags'\n",
    "ejecutar_comando_git(comando)\n",
    "\n",
    "comando = 'git ls-remote --tags'\n",
    "ejecutar_comando_git(comando)"
   ]
  },
  {
   "cell_type": "markdown",
   "id": "5d3f4a8a-f31e-40eb-8689-7dfb7e44ca2d",
   "metadata": {},
   "source": [
    "### ELIMINAR LOS TAGs LOCALES Y REMOTOS"
   ]
  },
  {
   "cell_type": "code",
   "execution_count": null,
   "id": "bdc8d38d-f2ba-42a6-993b-1f268b5b6135",
   "metadata": {
    "scrolled": true,
    "tags": []
   },
   "outputs": [],
   "source": [
    "for indice, rama in enumerate(lista_ramas_locales):\n",
    "    \n",
    "    nombre_tag = 'v0.0.{indice}_{rama}'.format(rama=rama, indice=indice)\n",
    "\n",
    "    comando = 'git tag -d {nombre_tag}'.format(nombre_tag=nombre_tag)\n",
    "    ejecutar_comando_git(comando)\n",
    "\n",
    "    comando = 'git push --delete origin {nombre_tag}'.format(nombre_tag=nombre_tag)\n",
    "    ejecutar_comando_git(comando)\n",
    "    \n",
    "comando = 'git tag'\n",
    "ejecutar_comando_git(comando)\n",
    "\n",
    "comando = 'git ls-remote --tags'\n",
    "ejecutar_comando_git(comando)"
   ]
  },
  {
   "cell_type": "markdown",
   "id": "91b10b1c-cd4c-4443-9cd5-88d32112b21e",
   "metadata": {
    "tags": []
   },
   "source": [
    "#### ELIMINAR LA RAMA DEL REPOSITORIO LOCAL Y REMOTO\n"
   ]
  },
  {
   "cell_type": "code",
   "execution_count": null,
   "id": "378d4731-dbf9-4fac-860c-2ffd2309a846",
   "metadata": {
    "scrolled": true,
    "tags": []
   },
   "outputs": [],
   "source": [
    "eliminar_rama_local_y_remota(nombre_rama=nombre_rama)"
   ]
  },
  {
   "cell_type": "markdown",
   "id": "b17a6f03-aeaf-489b-9f4e-4e39f2df035d",
   "metadata": {},
   "source": [
    "# <center> VALIDAR COMMITS QUE NO FUNCIONAN CON BISECT <br> EN LA CONSOLA DE VSCODE O UN IDE DE DESARROLLO</br></center>"
   ]
  },
  {
   "cell_type": "code",
   "execution_count": null,
   "id": "46365c6e-5037-400f-ac76-1f82cdbc44b0",
   "metadata": {
    "tags": []
   },
   "outputs": [],
   "source": [
    "nombre_rama_remota_bisect = 'bisect_branch'\n",
    "\n",
    "comando = 'git checkout -t origin/{nombre_rama_remota}'.format(nombre_rama_remota=nombre_rama_remota_bisect)\n",
    "ejecutar_comando_git(comando) \n",
    "ejecutar_comando_shell()"
   ]
  },
  {
   "cell_type": "markdown",
   "id": "fa6acf30-5eb7-4495-b392-2ea625a9efdf",
   "metadata": {},
   "source": [
    "# git bisect start, git bisect reset, git bisect good, git bisect bad"
   ]
  },
  {
   "cell_type": "markdown",
   "id": "54f47e97-4685-4186-8b9c-98dcc55b3d0a",
   "metadata": {},
   "source": [
    "### INICIALIZO EL ANALISIS CON BISET START"
   ]
  },
  {
   "cell_type": "code",
   "execution_count": null,
   "id": "5dabeffb-91df-49ea-8f21-06dd67254759",
   "metadata": {
    "tags": []
   },
   "outputs": [],
   "source": [
    "comando = 'git bisect start'\n",
    "ejecutar_comando_git(comando)\n",
    "\n",
    "comando = 'git log --oneline'\n",
    "ejecutar_comando_git(comando)"
   ]
  },
  {
   "cell_type": "markdown",
   "id": "44ca513d-9395-476a-9bc9-c7218c00a1d1",
   "metadata": {},
   "source": [
    "### EJECUTO EL CODIGO Y VEO QUE FUNCIONE O FALLE"
   ]
  },
  {
   "cell_type": "code",
   "execution_count": null,
   "id": "73072734-5a9a-4f01-b8db-09d07cd0e8c0",
   "metadata": {
    "tags": []
   },
   "outputs": [],
   "source": [
    "def validar_codigo():\n",
    "\n",
    "    from funciones_matematicas import ejecutar_funciones\n",
    "\n",
    "    ejecutar_funciones()"
   ]
  },
  {
   "cell_type": "code",
   "execution_count": null,
   "id": "c02ae337-a1a9-4e50-9f4e-80f09d56d7b9",
   "metadata": {
    "tags": []
   },
   "outputs": [],
   "source": [
    "validar_codigo()"
   ]
  },
  {
   "cell_type": "markdown",
   "id": "4c3eda1a-ffa6-429e-bea3-2f11118eb441",
   "metadata": {},
   "source": [
    "# SE EJECUTA EL ULTIMO COMMIT, QUE ENTRE LO NORMAL DEBE FALLAR\n",
    "## SI FALLA PONGO 'git bisect bad', SI FUNCIONA PONGO 'git bisect good'"
   ]
  },
  {
   "cell_type": "code",
   "execution_count": null,
   "id": "e57e4560-4db4-4028-abb8-d0f75e9702f5",
   "metadata": {
    "tags": []
   },
   "outputs": [],
   "source": [
    "comando = 'git bisect bad'\n",
    "ejecutar_comando_git(comando)\n",
    "\n",
    "comando = 'git log --oneline'\n",
    "ejecutar_comando_git(comando)"
   ]
  },
  {
   "cell_type": "markdown",
   "id": "7b8cface-fd6a-47cb-9de6-64b57bbfb25f",
   "metadata": {},
   "source": [
    "## SE SELECCIONA UN COMMIT DONDE SABEMOS QUE EL CODIGO FUNCIONA, POR EJEMPLO EL PRIMER COMMIT"
   ]
  },
  {
   "cell_type": "code",
   "execution_count": null,
   "id": "933e1941-9fd6-4bc5-aed1-24b4dceb276e",
   "metadata": {
    "tags": []
   },
   "outputs": [],
   "source": [
    "comando = 'git bisect good 00d5b10'\n",
    "ejecutar_comando_git(comando)"
   ]
  },
  {
   "cell_type": "markdown",
   "id": "6c3e859d-0343-44cc-bf74-944f918eea06",
   "metadata": {},
   "source": [
    "### VALIDAR DE NUEVO SI FUNCIONA O NO, EN LAS 6 REVISIONES QUE QUEDAN, ESTA VEZ ELIGIO EL DE adicionada funcion raiz cuadrada\n",
    "## SI FALLA PONGO 'git bisect bad', SI FUNCIONA PONGO 'git bisect good'"
   ]
  },
  {
   "cell_type": "code",
   "execution_count": null,
   "id": "6064e759-d812-4bb0-b522-d2c43c044de3",
   "metadata": {
    "tags": []
   },
   "outputs": [],
   "source": [
    "validar_codigo()"
   ]
  },
  {
   "cell_type": "code",
   "execution_count": null,
   "id": "48ebe904-35db-4152-b4ac-a0e9e12d1dcc",
   "metadata": {
    "tags": []
   },
   "outputs": [],
   "source": [
    "comando = 'git bisect bad'\n",
    "ejecutar_comando_git(comando)"
   ]
  },
  {
   "cell_type": "markdown",
   "id": "88f79cd3-589c-4ca6-95a8-645f22c87521",
   "metadata": {},
   "source": [
    "## VALIDAR DE NUEVO SI FUNCIONA O NO\n",
    "## SI FALLA PONGO 'git bisect bad', SI FUNCIONA PONGO 'git bisect good'"
   ]
  },
  {
   "cell_type": "markdown",
   "id": "9fb97961-4eb1-46db-b250-012e21600d1c",
   "metadata": {},
   "source": [
    "## YA TERMINO ENCONTRO EL COMMIT QUE FALLA\n",
    "### AHORA TERMINAMOS CON EL RESET"
   ]
  },
  {
   "cell_type": "code",
   "execution_count": null,
   "id": "5be23210-4ad5-4d05-a6e3-9943df051036",
   "metadata": {
    "tags": []
   },
   "outputs": [],
   "source": [
    "comando = 'git bisect reset'\n",
    "ejecutar_comando_git(comando)"
   ]
  },
  {
   "cell_type": "markdown",
   "id": "18344018-2ea2-4c0d-8278-106b970b7bef",
   "metadata": {},
   "source": [
    "### AHORA REVISO EL COMMIT QUE ESTA GENERANDO ERRORES"
   ]
  },
  {
   "cell_type": "code",
   "execution_count": null,
   "id": "b5824c96-6054-4a5e-9a57-b70b45185f45",
   "metadata": {
    "tags": []
   },
   "outputs": [],
   "source": [
    "comando = 'git show f649a14'\n",
    "ejecutar_comando_git(comando)"
   ]
  },
  {
   "cell_type": "markdown",
   "id": "63de4a56-f0c9-4257-bcd5-a4bd2228c1db",
   "metadata": {},
   "source": [
    "# <center> LISTAR EL HISTORIAL DE TODAS LAS ACCIONES REALIZADAS EN UN REPOSITORIO GIT <br> LISTADO DESDE EL MAS NUEVO HASTA EL PRIMER CAMBIO</br> <br> PERMITE RECUPERAR COMMITS Y RAMAS BORRADAS ACCIDENTALMENTE USANDO EL HASH DEL COMMIT</br></center>"
   ]
  },
  {
   "cell_type": "markdown",
   "id": "f2e8d209-8478-41fb-b16f-80c9111ec6b9",
   "metadata": {
    "tags": []
   },
   "source": [
    "### OBTENER EL HISTORIAL DE LOS CAMBIOS EN EL REPOSITORIO"
   ]
  },
  {
   "cell_type": "code",
   "execution_count": null,
   "id": "d6113c4b-2a96-407f-bf7d-291ad770fe4e",
   "metadata": {
    "scrolled": true,
    "tags": []
   },
   "outputs": [],
   "source": [
    "comando = 'git reflog'\n",
    "ejecutar_comando_git(comando)\n",
    "ejecutar_comando_shell()"
   ]
  },
  {
   "cell_type": "markdown",
   "id": "3854b83e-0186-4f76-a7b1-1496c4c6c962",
   "metadata": {
    "tags": []
   },
   "source": [
    "## RECUPERAR RAMA ELIMINADA"
   ]
  },
  {
   "cell_type": "markdown",
   "id": "bd5ae524-8893-4b3b-9d53-3552e3c37c56",
   "metadata": {},
   "source": [
    "#### INSPECCIONAMOS EL CONTENIDO DE LA RAMA A RECUPERAR CON LA AYUDA DEL HASH DEL COMMIT"
   ]
  },
  {
   "cell_type": "code",
   "execution_count": null,
   "id": "75eb72d0-d8c2-4e3f-8c4f-6cb9516b02ca",
   "metadata": {
    "scrolled": true,
    "tags": []
   },
   "outputs": [],
   "source": [
    "# adicionado archivo INFO.txt PARA USAR EN REFLOG\n",
    "commit_a_recuperar = 'e6184ca'\n",
    "comando = 'git show {commit_a_recuperar}'.format(commit_a_recuperar=commit_a_recuperar)\n",
    "ejecutar_comando_git(comando)\n",
    "ejecutar_comando_shell()"
   ]
  },
  {
   "cell_type": "markdown",
   "id": "6c6d088c-4d9c-4bfb-967e-1b511b995834",
   "metadata": {
    "tags": []
   },
   "source": [
    "#### OBTENEMOS EL CONTENIDO DEL COMMIT"
   ]
  },
  {
   "cell_type": "code",
   "execution_count": null,
   "id": "55c4f7bb-fbb3-4f87-b484-c9dfa37a8a63",
   "metadata": {
    "scrolled": true,
    "tags": []
   },
   "outputs": [],
   "source": [
    "comando = 'git checkout {commit_a_recuperar}'.format(commit_a_recuperar=commit_a_recuperar)\n",
    "ejecutar_comando_git(comando)\n",
    "\n",
    "comando = 'git log --oneline'\n",
    "ejecutar_comando_git(comando)\n",
    "\n",
    "ejecutar_comando_shell()"
   ]
  },
  {
   "cell_type": "markdown",
   "id": "720076d6-6a40-4311-88c2-a9e51365497b",
   "metadata": {},
   "source": [
    "#### CREAMOS UNA NUEVA RAMA A PARTIR EL CONTENIDO DEL COMMIT RECUPERADO"
   ]
  },
  {
   "cell_type": "code",
   "execution_count": null,
   "id": "dc7d270f-ee0d-482e-bd10-a8d8c68e206a",
   "metadata": {
    "tags": []
   },
   "outputs": [],
   "source": [
    "nombre_rama = 'utils_recuperada'\n",
    "comando = 'git checkout -b {nombre_rama}'.format(nombre_rama=nombre_rama)\n",
    "ejecutar_comando_git(comando)\n",
    "\n",
    "comando = 'git log --oneline'\n",
    "ejecutar_comando_git(comando)\n",
    "\n",
    "ejecutar_comando_shell()"
   ]
  },
  {
   "cell_type": "markdown",
   "id": "2bff3726-faf8-4983-ac7f-601c74cb9b69",
   "metadata": {},
   "source": [
    "# <center> PULL REQUEST"
   ]
  },
  {
   "cell_type": "markdown",
   "id": "5d3c7adf-a33d-48ff-b8b8-c1087293fec0",
   "metadata": {
    "tags": []
   },
   "source": [
    "## ELIMINAR RAMA"
   ]
  },
  {
   "cell_type": "code",
   "execution_count": null,
   "id": "961e4311-e5e9-4edc-8ecb-3e8f37d5bbcf",
   "metadata": {
    "tags": []
   },
   "outputs": [],
   "source": [
    "# no se puede eliminar una rama si se esta trabajando en ese monento en ella\n",
    "comando = 'git checkout  {nombre_rama_principal}'.format(nombre_rama_principal=nombre_rama_principal)\n",
    "ejecutar_comando_git(comando)\n",
    "\n",
    "comando = 'git branch -D {nombre_rama}'.format(nombre_rama=nombre_rama)\n",
    "ejecutar_comando_git(comando)\n",
    "\n",
    "comando = 'git branch -a'\n",
    "ejecutar_comando_git(comando)"
   ]
  },
  {
   "cell_type": "markdown",
   "id": "5758eb64-0414-4f9d-b02d-e07bba9d14fb",
   "metadata": {},
   "source": [
    "### OBTENER EL HISTORIAL DE LOS CAMBIOS EN EL REPOSITORIO Y MOSTRAR LOS CAMBIOS DE CADA ARCHIVO EN ESOS CAMBIOS"
   ]
  },
  {
   "cell_type": "code",
   "execution_count": null,
   "id": "138fdab9-35b7-41c7-a069-6cadff11706d",
   "metadata": {
    "scrolled": true,
    "tags": []
   },
   "outputs": [],
   "source": [
    "comando = 'git reflog -g --patch'\n",
    "ejecutar_comando_git(comando)\n",
    "ejecutar_comando_shell()"
   ]
  }
 ],
 "metadata": {
  "kernelspec": {
   "display_name": "Python 3 (ipykernel)",
   "language": "python",
   "name": "python3"
  },
  "language_info": {
   "codemirror_mode": {
    "name": "ipython",
    "version": 3
   },
   "file_extension": ".py",
   "mimetype": "text/x-python",
   "name": "python",
   "nbconvert_exporter": "python",
   "pygments_lexer": "ipython3",
   "version": "3.10.9"
  }
 },
 "nbformat": 4,
 "nbformat_minor": 5
}
