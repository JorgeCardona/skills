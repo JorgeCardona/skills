{
 "cells": [
  {
   "cell_type": "markdown",
   "id": "16c27612-53a3-498b-aea9-aac0f1364a1f",
   "metadata": {},
   "source": [
    "# <center> CREAR ARCHIVOS</center>"
   ]
  },
  {
   "cell_type": "code",
   "execution_count": 1,
   "id": "503a1087-7944-4e0f-a3de-fa4853d04deb",
   "metadata": {
    "tags": []
   },
   "outputs": [],
   "source": [
    "def crear_fecha():\n",
    "    \n",
    "    import time\n",
    "    from datetime import datetime\n",
    "\n",
    "    # detiene el tiempo para que no todos los archivos generados queden con la misma fecha de timestamp\n",
    "    time.sleep(0.1)\n",
    "        \n",
    "    # Getting the current date and time\n",
    "    dt = datetime.now()\n",
    "\n",
    "    # getting the timestamp\n",
    "    ts = datetime.timestamp(dt)\n",
    "\n",
    "    return ts\n",
    "\n",
    "def generar_archivos(todos_los_archivos=True):\n",
    "\n",
    "    lista_de_archivos = ['info.txt','Dockerfile','Manifest.yaml','imagen.png','main.py','connection.java','calculos.c','addon.php','utils.gif','query.sql','dataset.avro','link.vs']\n",
    "    \n",
    "    lista_de_archivos = lista_de_archivos if todos_los_archivos else [lista_de_archivos[0]]\n",
    "    \n",
    "    print('lista_de_archivos = {lista_de_archivos}'.format(lista_de_archivos=lista_de_archivos))\n",
    "    \n",
    "    for archivo in lista_de_archivos:\n",
    "        comando = 'echo {crear_archivo} >> {archivo}'.format(crear_archivo=crear_fecha(), archivo=archivo)\n",
    "        ejecutar_comando_shell(comando)\n",
    "\n",
    "    return lista_de_archivos"
   ]
  },
  {
   "cell_type": "markdown",
   "id": "63baf6e8-15a7-4d78-9216-0071910ae33c",
   "metadata": {},
   "source": [
    "# <center> ELIMINAR ARCHIVOS</center>"
   ]
  },
  {
   "cell_type": "code",
   "execution_count": 2,
   "id": "fbedd993-b081-45e3-b492-94d841d01e9c",
   "metadata": {},
   "outputs": [],
   "source": [
    "def listar_archivos_eliminables_en_directorio():\n",
    "    import os\n",
    "    \n",
    "    listado_de_archivos = os.listdir(directory)\n",
    "    \n",
    "    archivos_eliminables = [archivo for archivo in listado_de_archivos if '.git' not in archivo]\n",
    "    \n",
    "    return archivos_eliminables\n",
    "    \n",
    "def eliminar_directorio(nombre_repositorio):\n",
    "    \n",
    "    import shutil\n",
    "    import os\n",
    "    import stat\n",
    "    from os import path\n",
    "    \n",
    "    for root, dirs, files in os.walk(\"./{nombre_repositorio}\".format(nombre_repositorio=nombre_repositorio)):  \n",
    "        for dir in dirs:\n",
    "            try:\n",
    "                os.chmod(path.join(root, dir), stat.S_IRWXU)\n",
    "            except:\n",
    "                print('el archivo {archivo} no existe'.format(archivo=archivo))                \n",
    "        for file in files:\n",
    "            try:\n",
    "                os.chmod(path.join(root, file), stat.S_IRWXU)\n",
    "            except:\n",
    "                print('el archivo {archivo} no existe'.format(archivo=archivo))\n",
    "    try: \n",
    "        shutil.rmtree(\"./{nombre_repositorio}\".format(nombre_repositorio=nombre_repositorio))\n",
    "    except:\n",
    "        print('el repositorio {nombre_repositorio} no existe'.format(nombre_repositorio=nombre_repositorio))\n",
    "\n",
    "def eliminar_archivos_directorio():\n",
    "    import os\n",
    "    \n",
    "    lista_de_archivos_eliminables = listar_archivos_eliminables_en_directorio()\n",
    "    \n",
    "    for archivo in lista_de_archivos_eliminables:\n",
    "            os.remove(archivo)\n",
    "        \n",
    "    return 'Eliminacion Completada con Exito!!! de {lista_de_archivos_eliminables}'.format(lista_de_archivos_eliminables=lista_de_archivos_eliminables)"
   ]
  },
  {
   "cell_type": "markdown",
   "id": "7153370f-e472-49b7-bb91-b62d5e558381",
   "metadata": {},
   "source": [
    "# <center> CREAR ARCHIVOS, COMMITS Y PUBLICAR RAMAS AL REPOSITORIO </center>"
   ]
  },
  {
   "cell_type": "code",
   "execution_count": 3,
   "id": "a3d1b1da-b198-40e7-ac0e-717336e06c87",
   "metadata": {
    "scrolled": true,
    "tags": []
   },
   "outputs": [],
   "source": [
    "def validar_si_existe_rama(nombre_rama, local=False):\n",
    "    \n",
    "    comando ='git branch -a'\n",
    "    resultado = ejecutar_comando_shell(comando, response=True)\n",
    "    \n",
    "    rama_base = '{nombre_rama}'.format(nombre_rama=nombre_rama) if local else 'origin/{nombre_rama}'.format(nombre_rama=nombre_rama)\n",
    "\n",
    "    if rama_base in resultado:\n",
    "        return True\n",
    "    return False\n",
    "\n",
    "def elimina_ramas_si_existen_y_crea_la_rama_local(nombre_rama):\n",
    "    \n",
    "    # valida si las ramas existen en REMOTO y LOCAL\n",
    "    rama_remota = validar_si_existe_rama(nombre_rama=nombre_rama)\n",
    "    rama_local = validar_si_existe_rama(nombre_rama=nombre_rama, local=True)\n",
    "    \n",
    "    # verifica si existe la rama la elimina\n",
    "    if rama_remota:\n",
    "        # elimina rama REMOTA existente\n",
    "        comando = 'git push origin -d {nombre_rama}'.format(nombre_rama=nombre_rama)\n",
    "        ejecutar_comando_git(comando)\n",
    "\n",
    "     # verifica si existe la rama la elimina\n",
    "    if rama_local:                                                                                                            \n",
    "        # elimina la rama\n",
    "        comando = 'git branch -D {nombre_rama}'.format(nombre_rama=nombre_rama)\n",
    "        ejecutar_comando_git(comando)\n",
    "        \n",
    "    # crea la rama\n",
    "    comando = 'git checkout -b {nombre_rama}'.format(nombre_rama=nombre_rama)\n",
    "    ejecutar_comando_shell(comando)\n",
    "    \n",
    "    # verifica las ramas actuales\n",
    "    ejecutar_comando_shell()\n",
    "    \n",
    "\n",
    "def crear_commit_por_cada_archivo(todos_los_archivos):\n",
    "    \n",
    "    import datetime\n",
    "\n",
    "    fecha_ahora = datetime.datetime.now()\n",
    "    \n",
    "    # crea el listado de archivos\n",
    "    lista_de_archivos = generar_archivos(todos_los_archivos=todos_los_archivos)\n",
    "    \n",
    "    # basado en el listado de archivos, adiciona uno a uno y crea un commit por cada uno\n",
    "    for archivo in lista_de_archivos:\n",
    "\n",
    "        comando = 'git add {archivo}'.format(archivo=archivo)\n",
    "        ejecutar_comando_git(comando)\n",
    "        \n",
    "        comando = 'git commit -m \"ADICIONADO ARCHIVO {archivo} {fecha_ahora}\"'.format(archivo=archivo, fecha_ahora=fecha_ahora)\n",
    "        ejecutar_comando_git(comando)\n",
    "\n",
    "    # verifica si todos los archivos estan en los commits creados\n",
    "    comando = 'git status'\n",
    "    ejecutar_comando_git(comando)\n",
    "    \n",
    "def generar_archivos_y_hacer_commit(nombre_rama, todos_los_archivos = True):\n",
    "    \n",
    "    # elimina cambios a la rama remota si los tiene\n",
    "    comando = 'git restore .'\n",
    "    ejecutar_comando_git(comando)\n",
    "    \n",
    "    # cambiar a la rama remota\n",
    "    comando = 'git checkout {nombre_rama_remota}'.format(nombre_rama_remota=nombre_rama_remota)\n",
    "    ejecutar_comando_git(comando)\n",
    "    \n",
    "    # valida si las ramas existen en REMOTO y LOCAL y las elimina\n",
    "    elimina_ramas_si_existen_y_crea_la_rama_local(nombre_rama)\n",
    "    \n",
    "    # adiciona archivos de 1 en 1 y genera 1 commit por cada archivo\n",
    "    crear_commit_por_cada_archivo(todos_los_archivos=todos_los_archivos)\n",
    "\n",
    "    # mostrar el log de las ramas en forma resumida y con diagrama de uniones como grafo \n",
    "    comando = 'git log --graph --oneline'\n",
    "    ejecutar_comando_git(comando)\n",
    "\n",
    "    # crea la rama en remoto\n",
    "    comando = 'git push --set-upstream origin {nombre_rama}'.format(nombre_rama=nombre_rama)\n",
    "    ejecutar_comando_git(comando)\n",
    "    \n",
    "    ejecutar_comando_shell()"
   ]
  },
  {
   "cell_type": "markdown",
   "id": "2c7f5df2-40a3-4d51-b44a-1314ff60286d",
   "metadata": {},
   "source": [
    "# <center> OBTENER LISTA CON LOS NOMBRES DE TODAS LAS RAMAS LOCALES DE UN REPOSITORIO GIT</center>"
   ]
  },
  {
   "cell_type": "code",
   "execution_count": 4,
   "id": "fe1643f8-c7f7-450d-9eea-b30471ce5f98",
   "metadata": {
    "tags": []
   },
   "outputs": [],
   "source": [
    "def obtener_lista_nombres_ramas_git():\n",
    "\n",
    "    stdout = subprocess.check_output('git branch'.split())\n",
    "    out = stdout.decode()\n",
    "    branches = [b.strip('* ') for b in out.splitlines()]\n",
    "    return branches"
   ]
  },
  {
   "cell_type": "markdown",
   "id": "746ac216-782a-4928-b5b0-f8ddb17c8523",
   "metadata": {},
   "source": [
    "# <center> EJECUTAR COMANDOS SHELL DESDE FUNCION PYTHON</center>"
   ]
  },
  {
   "cell_type": "code",
   "execution_count": 5,
   "id": "9048c958-a13b-4a78-a4ea-d114c3ce03ca",
   "metadata": {
    "tags": []
   },
   "outputs": [],
   "source": [
    "import subprocess\n",
    "\n",
    "def ejecutar_comando_shell(comando='git branch', response=False):\n",
    "\n",
    "    resultado_comando_ejecutado = subprocess.check_output(comando, shell=True, text=True)\n",
    "    print('############################################# COMANDO A EJECUTAR #############################################')\n",
    "    print(comando)\n",
    "    print('####################################### RESULTADO DE COMANDO EJECUTADO #######################################')\n",
    "    #para evitar el salto de linea usa el parametro end=''\n",
    "    print(resultado_comando_ejecutado, end='')\n",
    "    print('##############################################################################################################')\n",
    "    print()\n",
    "    if response:\n",
    "        return resultado_comando_ejecutado"
   ]
  },
  {
   "cell_type": "markdown",
   "id": "de235812-1670-4023-ad85-bbd6dd9b50de",
   "metadata": {},
   "source": [
    "# <center> FUNCION LAMBDA PARA EJECUTAR COMANDOS GIT</center>"
   ]
  },
  {
   "cell_type": "code",
   "execution_count": 6,
   "id": "b6817bb4-2f33-4200-aa99-84e8c2142711",
   "metadata": {
    "tags": []
   },
   "outputs": [],
   "source": [
    "ejecutar_comando_git = lambda comando : ejecutar_comando_shell(comando)"
   ]
  },
  {
   "cell_type": "markdown",
   "id": "fa61c53e-ae72-4628-9e93-bee20b030697",
   "metadata": {},
   "source": [
    "# <center> CICLO DE VIDA DE UN REPOSITORIO GIT</center>"
   ]
  },
  {
   "cell_type": "markdown",
   "id": "96e3a1b8-a7c3-4efe-95be-ff4818ee67c0",
   "metadata": {
    "tags": []
   },
   "source": [
    "<center>\n",
    "    <img width=\"100%\" align=\"center\" src=\"git_life_cycle.png\">\n",
    "</center>"
   ]
  },
  {
   "cell_type": "markdown",
   "id": "f2bdf4ec-0568-49de-8a9d-d99f2ab8aeb2",
   "metadata": {},
   "source": [
    "# <center> FLUJO DE ARCHIVOS DE UN REPOSITORIO GIT</center>"
   ]
  },
  {
   "cell_type": "markdown",
   "id": "a2aa9940-8a41-4458-b796-7fb014868d88",
   "metadata": {},
   "source": [
    "<center>\n",
    "    <img width=\"100%\" align=\"center\" src=\"gitflow.png\">\n",
    "</center>"
   ]
  },
  {
   "cell_type": "markdown",
   "id": "48adba35-bb65-44ed-9a19-c1b3601a2c0c",
   "metadata": {},
   "source": [
    "# <center> CONSULTAR LA VERSION DE GIT</center>"
   ]
  },
  {
   "cell_type": "code",
   "execution_count": 7,
   "id": "6986167a-ad52-4662-98ab-6e74f410f922",
   "metadata": {
    "tags": []
   },
   "outputs": [
    {
     "name": "stdout",
     "output_type": "stream",
     "text": [
      "############################################# COMANDO A EJECUTAR #############################################\n",
      "git --version\n",
      "####################################### RESULTADO DE COMANDO EJECUTADO #######################################\n",
      "git version 2.25.0.windows.1\n",
      "##############################################################################################################\n",
      "\n"
     ]
    }
   ],
   "source": [
    "comando = 'git --version'\n",
    "ejecutar_comando_git(comando)"
   ]
  },
  {
   "cell_type": "markdown",
   "id": "b6dcc937-601b-4c18-a1d6-a97936e49967",
   "metadata": {},
   "source": [
    "# <center> CLONAR UN REPOSITORIO GIT</center>"
   ]
  },
  {
   "cell_type": "code",
   "execution_count": 8,
   "id": "31f7c4af-65f2-40a1-b252-f11f2427d13e",
   "metadata": {
    "tags": []
   },
   "outputs": [
    {
     "name": "stdout",
     "output_type": "stream",
     "text": [
      "############################################# COMANDO A EJECUTAR #############################################\n",
      "git clone https://github.com/JorgeCardona/comandos_git.git\n",
      "####################################### RESULTADO DE COMANDO EJECUTADO #######################################\n",
      "##############################################################################################################\n",
      "\n"
     ]
    }
   ],
   "source": [
    "repositorio_base = 'https://github.com/JorgeCardona'\n",
    "nombre_del_repositorio = 'comandos_git'\n",
    "\n",
    "eliminar_directorio(nombre_repositorio=nombre_del_repositorio)\n",
    "\n",
    "comando = 'git clone {repositorio_base}/{nombre_del_repositorio}.git'.format(repositorio_base=repositorio_base, nombre_del_repositorio=nombre_del_repositorio)\n",
    "ejecutar_comando_git(comando)"
   ]
  },
  {
   "cell_type": "markdown",
   "id": "75de8bb7-aee9-47b0-b917-214f08a4c384",
   "metadata": {},
   "source": [
    "## FETCH\n",
    "<center>\n",
    "    <img width=\"75%\" align=\"center\" src=\"fecth.gif\">\n",
    "</center>"
   ]
  },
  {
   "cell_type": "markdown",
   "id": "b8226af4-901b-4fcb-b2dc-625bc8765796",
   "metadata": {},
   "source": [
    "## PULL\n",
    "<center>\n",
    "    <img width=\"75%\" align=\"center\" src=\"pull.gif\">\n",
    "</center>"
   ]
  },
  {
   "cell_type": "markdown",
   "id": "5dfcd024-6d86-4c52-b790-e94e42e71046",
   "metadata": {},
   "source": [
    "# <center> CAMBIAR A LA CARPETA PARA TRABAJAR CON EL REPOSITORIO</center>"
   ]
  },
  {
   "cell_type": "code",
   "execution_count": 9,
   "id": "2a7e9016-54c8-4493-955a-0cb812f41020",
   "metadata": {
    "tags": []
   },
   "outputs": [
    {
     "data": {
      "text/plain": [
       "'C:\\\\z Github\\\\Git Comandos'"
      ]
     },
     "execution_count": 9,
     "metadata": {},
     "output_type": "execute_result"
    }
   ],
   "source": [
    "#importing the os module\n",
    "import os\n",
    "\n",
    "#to get the current working directory\n",
    "directory = os.getcwd()\n",
    "directory"
   ]
  },
  {
   "cell_type": "code",
   "execution_count": 10,
   "id": "7f4f4467-e9b7-482f-96f9-7412ff9af7a8",
   "metadata": {
    "tags": []
   },
   "outputs": [
    {
     "data": {
      "text/plain": [
       "'C:\\\\z Github\\\\Git Comandos\\\\comandos_git'"
      ]
     },
     "execution_count": 10,
     "metadata": {},
     "output_type": "execute_result"
    }
   ],
   "source": [
    "os.chdir('{directory}/{repository}'.format(directory=directory, repository=nombre_del_repositorio))\n",
    "directory = os.getcwd()\n",
    "directory"
   ]
  },
  {
   "cell_type": "markdown",
   "id": "4544b6a6-5c4f-4e04-a908-c5806ca6f23e",
   "metadata": {},
   "source": [
    "# <center> MOSTRAR INFORMACION DEL REPOSITORIO</center>"
   ]
  },
  {
   "cell_type": "code",
   "execution_count": 11,
   "id": "4e3ba9e5-27bd-40b6-bf9c-996f26f8d65f",
   "metadata": {
    "tags": []
   },
   "outputs": [
    {
     "name": "stdout",
     "output_type": "stream",
     "text": [
      "############################################# COMANDO A EJECUTAR #############################################\n",
      "git remote show origin\n",
      "####################################### RESULTADO DE COMANDO EJECUTADO #######################################\n",
      "* remote origin\n",
      "  Fetch URL: https://github.com/JorgeCardona/comandos_git.git\n",
      "  Push  URL: https://github.com/JorgeCardona/comandos_git.git\n",
      "  HEAD branch: main\n",
      "  Remote branches:\n",
      "    main          tracked\n",
      "    multi_commits tracked\n",
      "  Local branch configured for 'git pull':\n",
      "    main merges with remote main\n",
      "  Local ref configured for 'git push':\n",
      "    main pushes to main (up to date)\n",
      "##############################################################################################################\n",
      "\n"
     ]
    }
   ],
   "source": [
    "comando = 'git remote show origin'\n",
    "ejecutar_comando_git(comando)"
   ]
  },
  {
   "cell_type": "markdown",
   "id": "a3726874-d7c6-460d-b9c0-fa4cdf3ec6ed",
   "metadata": {},
   "source": [
    "# <center> LISTAR LAS RAMAS DE UN REPOSITORIO </center>"
   ]
  },
  {
   "cell_type": "markdown",
   "id": "4f24ef50-f1c6-4daf-879d-dfecf0934268",
   "metadata": {},
   "source": [
    "### LISTA TODAS LAS RAMAS LOCALES Y LA RAMA PRINCIPAL DEL REPOSITORIO"
   ]
  },
  {
   "cell_type": "code",
   "execution_count": 12,
   "id": "6e2f6bcb-70a1-4151-bd65-0d3820f4cfd7",
   "metadata": {
    "tags": []
   },
   "outputs": [
    {
     "name": "stdout",
     "output_type": "stream",
     "text": [
      "############################################# COMANDO A EJECUTAR #############################################\n",
      "git branch\n",
      "####################################### RESULTADO DE COMANDO EJECUTADO #######################################\n",
      "* main\n",
      "##############################################################################################################\n",
      "\n"
     ]
    }
   ],
   "source": [
    "comando = 'git branch'\n",
    "ejecutar_comando_git(comando)"
   ]
  },
  {
   "cell_type": "markdown",
   "id": "3a9c0795-d684-4571-a99d-d1d6203059f1",
   "metadata": {},
   "source": [
    "### LISTA TODAS LAS RAMAS REMOTAS DEL REPOSITORIO"
   ]
  },
  {
   "cell_type": "code",
   "execution_count": 13,
   "id": "acb38610-f643-4c0e-b9e8-dec9c7a3d99e",
   "metadata": {
    "tags": []
   },
   "outputs": [
    {
     "name": "stdout",
     "output_type": "stream",
     "text": [
      "############################################# COMANDO A EJECUTAR #############################################\n",
      "git branch -r\n",
      "####################################### RESULTADO DE COMANDO EJECUTADO #######################################\n",
      "  origin/HEAD -> origin/main\n",
      "  origin/main\n",
      "  origin/multi_commits\n",
      "##############################################################################################################\n",
      "\n"
     ]
    }
   ],
   "source": [
    "comando = 'git branch -r'\n",
    "ejecutar_comando_git(comando)"
   ]
  },
  {
   "cell_type": "markdown",
   "id": "ccc455dd-2361-4e82-be84-66d06caa3eb5",
   "metadata": {},
   "source": [
    "### LISTA TODAS LAS RAMAS LOCALES INCLUYENDO LAS RAMAS OCULTAS"
   ]
  },
  {
   "cell_type": "code",
   "execution_count": 14,
   "id": "486db217-0bcd-446e-bde5-147cd9c30da6",
   "metadata": {
    "tags": []
   },
   "outputs": [
    {
     "name": "stdout",
     "output_type": "stream",
     "text": [
      "############################################# COMANDO A EJECUTAR #############################################\n",
      "git branch -a\n",
      "####################################### RESULTADO DE COMANDO EJECUTADO #######################################\n",
      "* main\n",
      "  remotes/origin/HEAD -> origin/main\n",
      "  remotes/origin/main\n",
      "  remotes/origin/multi_commits\n",
      "##############################################################################################################\n",
      "\n"
     ]
    }
   ],
   "source": [
    "comando = 'git branch -a'\n",
    "ejecutar_comando_git(comando)"
   ]
  },
  {
   "cell_type": "markdown",
   "id": "5fcd971b-1561-4d6b-ae04-5cd81ee1c441",
   "metadata": {},
   "source": [
    "# <center> CREAR UNA RAMA BASADA EN LA RAMA ACTUAL DE UN REPOSITORIO</center>"
   ]
  },
  {
   "cell_type": "code",
   "execution_count": 15,
   "id": "ff0c31d3-bd06-4a96-834c-53d69890a4f3",
   "metadata": {
    "tags": []
   },
   "outputs": [
    {
     "name": "stdout",
     "output_type": "stream",
     "text": [
      "############################################# COMANDO A EJECUTAR #############################################\n",
      "git branch nueva_rama\n",
      "####################################### RESULTADO DE COMANDO EJECUTADO #######################################\n",
      "##############################################################################################################\n",
      "\n",
      "############################################# COMANDO A EJECUTAR #############################################\n",
      "git branch\n",
      "####################################### RESULTADO DE COMANDO EJECUTADO #######################################\n",
      "* main\n",
      "  nueva_rama\n",
      "##############################################################################################################\n",
      "\n"
     ]
    }
   ],
   "source": [
    "comando = 'git branch nueva_rama'\n",
    "ejecutar_comando_git(comando)\n",
    "ejecutar_comando_shell()"
   ]
  },
  {
   "cell_type": "markdown",
   "id": "5dd7647e-4eea-4a1c-bfd5-c6fe2dc00ca7",
   "metadata": {},
   "source": [
    "# <center> CAMBIAR A OTRA RAMA DEL REPOSITORIO</center>"
   ]
  },
  {
   "cell_type": "code",
   "execution_count": 16,
   "id": "d2c67bc1-51d3-4e66-adca-cda41a4316fa",
   "metadata": {
    "tags": []
   },
   "outputs": [
    {
     "name": "stdout",
     "output_type": "stream",
     "text": [
      "############################################# COMANDO A EJECUTAR #############################################\n",
      "git checkout nueva_rama\n",
      "####################################### RESULTADO DE COMANDO EJECUTADO #######################################\n",
      "##############################################################################################################\n",
      "\n",
      "############################################# COMANDO A EJECUTAR #############################################\n",
      "git branch\n",
      "####################################### RESULTADO DE COMANDO EJECUTADO #######################################\n",
      "  main\n",
      "* nueva_rama\n",
      "##############################################################################################################\n",
      "\n"
     ]
    }
   ],
   "source": [
    "comando = 'git checkout nueva_rama'\n",
    "ejecutar_comando_git(comando)\n",
    "ejecutar_comando_shell()"
   ]
  },
  {
   "cell_type": "markdown",
   "id": "4d054142-e43e-4d05-83e4-3230eb96f0da",
   "metadata": {},
   "source": [
    "# <center> CREAR UNA RAMA BASADA EN LA ACTUAL Y CAMBIA A LA RAMA CREADA AL MISMO TIEMPO</center>"
   ]
  },
  {
   "cell_type": "code",
   "execution_count": 17,
   "id": "accb84e5-5900-4379-97d9-4cc91f3c8480",
   "metadata": {
    "tags": []
   },
   "outputs": [
    {
     "name": "stdout",
     "output_type": "stream",
     "text": [
      "############################################# COMANDO A EJECUTAR #############################################\n",
      "git checkout -b rama_acceso_rapido\n",
      "####################################### RESULTADO DE COMANDO EJECUTADO #######################################\n",
      "##############################################################################################################\n",
      "\n",
      "############################################# COMANDO A EJECUTAR #############################################\n",
      "git branch\n",
      "####################################### RESULTADO DE COMANDO EJECUTADO #######################################\n",
      "  main\n",
      "  nueva_rama\n",
      "* rama_acceso_rapido\n",
      "##############################################################################################################\n",
      "\n"
     ]
    }
   ],
   "source": [
    "comando = 'git checkout -b rama_acceso_rapido'\n",
    "ejecutar_comando_git(comando)\n",
    "ejecutar_comando_shell()"
   ]
  },
  {
   "cell_type": "markdown",
   "id": "4ce22640-89a5-457a-acab-337cf47dc60a",
   "metadata": {},
   "source": [
    "# <center> CREAR NUEVA RAMA LOCAL DE UNA RAMA REMOTA</center>"
   ]
  },
  {
   "cell_type": "code",
   "execution_count": 18,
   "id": "cef10060-f05f-411f-9347-d5fdf78e568c",
   "metadata": {
    "tags": []
   },
   "outputs": [
    {
     "name": "stdout",
     "output_type": "stream",
     "text": [
      "############################################# COMANDO A EJECUTAR #############################################\n",
      "git checkout -b multi_commits_copia origin/multi_commits\n",
      "####################################### RESULTADO DE COMANDO EJECUTADO #######################################\n",
      "Branch 'multi_commits_copia' set up to track remote branch 'multi_commits' from 'origin'.\n",
      "##############################################################################################################\n",
      "\n",
      "############################################# COMANDO A EJECUTAR #############################################\n",
      "git branch\n",
      "####################################### RESULTADO DE COMANDO EJECUTADO #######################################\n",
      "  main\n",
      "* multi_commits_copia\n",
      "  nueva_rama\n",
      "  rama_acceso_rapido\n",
      "##############################################################################################################\n",
      "\n"
     ]
    }
   ],
   "source": [
    "nombre_rama_remota = 'multi_commits'\n",
    "copia_rama_remota = '{nombre_rama_remota}_copia'.format(nombre_rama_remota=nombre_rama_remota)\n",
    "comando = 'git checkout -b {copia_rama_remota} origin/{nombre_rama_remota}'.format(copia_rama_remota=copia_rama_remota, nombre_rama_remota=nombre_rama_remota)\n",
    "ejecutar_comando_git(comando)\n",
    "ejecutar_comando_shell()"
   ]
  },
  {
   "cell_type": "markdown",
   "id": "04bea22a-3a54-4b3d-8260-169d7d939a6c",
   "metadata": {},
   "source": [
    "# <center> DESCARGAR RAMA REMOTA A LOCAL Y CAMBIAR A LA RAMA BAJADA AL MISMO TIEMPO</center>"
   ]
  },
  {
   "cell_type": "code",
   "execution_count": 19,
   "id": "2b8741a5-f633-4445-b579-ce199444f520",
   "metadata": {
    "tags": []
   },
   "outputs": [
    {
     "name": "stdout",
     "output_type": "stream",
     "text": [
      "############################################# COMANDO A EJECUTAR #############################################\n",
      "git checkout -t origin/multi_commits\n",
      "####################################### RESULTADO DE COMANDO EJECUTADO #######################################\n",
      "Branch 'multi_commits' set up to track remote branch 'multi_commits' from 'origin'.\n",
      "##############################################################################################################\n",
      "\n",
      "############################################# COMANDO A EJECUTAR #############################################\n",
      "git branch\n",
      "####################################### RESULTADO DE COMANDO EJECUTADO #######################################\n",
      "  main\n",
      "* multi_commits\n",
      "  multi_commits_copia\n",
      "  nueva_rama\n",
      "  rama_acceso_rapido\n",
      "##############################################################################################################\n",
      "\n"
     ]
    }
   ],
   "source": [
    "comando = 'git checkout -t origin/{nombre_rama_remota}'.format(nombre_rama_remota=nombre_rama_remota)\n",
    "ejecutar_comando_git(comando)\n",
    "ejecutar_comando_shell()"
   ]
  },
  {
   "cell_type": "markdown",
   "id": "8a659043-509a-4ed5-9f8f-55896c0e68b1",
   "metadata": {},
   "source": [
    "# <center> RENOMBRAR UNA RAMA DEL REPOSITORIO</center>"
   ]
  },
  {
   "cell_type": "code",
   "execution_count": 20,
   "id": "f0a3c692-e941-4491-88b3-cc8d0016f3e2",
   "metadata": {
    "tags": []
   },
   "outputs": [
    {
     "name": "stdout",
     "output_type": "stream",
     "text": [
      "############################################# COMANDO A EJECUTAR #############################################\n",
      "git checkout multi_commits_copia\n",
      "####################################### RESULTADO DE COMANDO EJECUTADO #######################################\n",
      "Your branch is up to date with 'origin/multi_commits'.\n",
      "##############################################################################################################\n",
      "\n",
      "############################################# COMANDO A EJECUTAR #############################################\n",
      "git branch -m nueva_rama nueva_rama_renombrada\n",
      "####################################### RESULTADO DE COMANDO EJECUTADO #######################################\n",
      "##############################################################################################################\n",
      "\n",
      "############################################# COMANDO A EJECUTAR #############################################\n",
      "git branch --move rama_acceso_rapido rama_acceso_rapido_renombrada\n",
      "####################################### RESULTADO DE COMANDO EJECUTADO #######################################\n",
      "##############################################################################################################\n",
      "\n",
      "############################################# COMANDO A EJECUTAR #############################################\n",
      "git branch\n",
      "####################################### RESULTADO DE COMANDO EJECUTADO #######################################\n",
      "  main\n",
      "  multi_commits\n",
      "* multi_commits_copia\n",
      "  nueva_rama_renombrada\n",
      "  rama_acceso_rapido_renombrada\n",
      "##############################################################################################################\n",
      "\n"
     ]
    }
   ],
   "source": [
    "comando = 'git checkout {copia_rama_remota}'.format(copia_rama_remota=copia_rama_remota)\n",
    "ejecutar_comando_git(comando)\n",
    "\n",
    "comando = 'git branch -m nueva_rama nueva_rama_renombrada'\n",
    "ejecutar_comando_git(comando)\n",
    "\n",
    "# Alternativa\n",
    "comando = 'git branch --move rama_acceso_rapido rama_acceso_rapido_renombrada'\n",
    "ejecutar_comando_git(comando)\n",
    "\n",
    "ejecutar_comando_shell()"
   ]
  },
  {
   "cell_type": "markdown",
   "id": "4a3fabd1-29f8-4918-bdfd-3d227988fea2",
   "metadata": {},
   "source": [
    "# <center> OBTENER LA DIFERENCIA EN CONTENIDO ENTRE 2 RAMAS COMMITs DE UN REPOSITORIO</center>"
   ]
  },
  {
   "cell_type": "code",
   "execution_count": 21,
   "id": "74f6794e-30f7-41b9-a138-b88fcfca5542",
   "metadata": {
    "tags": []
   },
   "outputs": [
    {
     "name": "stdout",
     "output_type": "stream",
     "text": [
      "############################################# COMANDO A EJECUTAR #############################################\n",
      "git diff main multi_commits\n",
      "####################################### RESULTADO DE COMANDO EJECUTADO #######################################\n",
      "diff --git a/archivo.csv b/archivo.csv\n",
      "new file mode 100644\n",
      "index 0000000..e69de29\n",
      "diff --git a/archivo.pdf b/archivo.pdf\n",
      "new file mode 100644\n",
      "index 0000000..31a8a6a\n",
      "--- /dev/null\n",
      "+++ b/archivo.pdf\n",
      "@@ -0,0 +1 @@\n",
      "+\f",
      "\n",
      "\\ No newline at end of file\n",
      "diff --git a/archivo.xlsx b/archivo.xlsx\n",
      "new file mode 100644\n",
      "index 0000000..53f0f1e\n",
      "Binary files /dev/null and b/archivo.xlsx differ\n",
      "diff --git a/index.html b/index.html\n",
      "new file mode 100644\n",
      "index 0000000..e69de29\n",
      "##############################################################################################################\n",
      "\n"
     ]
    }
   ],
   "source": [
    "# confirmar al repositorio remoto el reset\n",
    "comando = 'git diff main multi_commits'\n",
    "ejecutar_comando_git(comando)"
   ]
  },
  {
   "cell_type": "markdown",
   "id": "0d81a177-e2e4-43ca-8c10-dbb6d34d1bdb",
   "metadata": {},
   "source": [
    "# <center> RESTAURAR O RECUPERAR ARCHIVOS MODIFICADOS O ELIMINADOS DE UN REPOSITORIO GIT <br> SOLO MODIFICACIONES EN REPOSITORIO LOCAL, BASADO EN EL ULTIMO COMMIT <br/></center>"
   ]
  },
  {
   "cell_type": "code",
   "execution_count": 22,
   "id": "2b421eb8-6750-444b-8ab2-f5cf9b0a7969",
   "metadata": {
    "scrolled": true,
    "tags": []
   },
   "outputs": [
    {
     "name": "stdout",
     "output_type": "stream",
     "text": [
      "lista_de_archivos = ['info.txt', 'Dockerfile', 'Manifest.yaml', 'imagen.png', 'main.py', 'connection.java', 'calculos.c', 'addon.php', 'utils.gif', 'query.sql', 'dataset.avro', 'link.vs']\n",
      "############################################# COMANDO A EJECUTAR #############################################\n",
      "echo 1679719529.258757 >> info.txt\n",
      "####################################### RESULTADO DE COMANDO EJECUTADO #######################################\n",
      "##############################################################################################################\n",
      "\n",
      "############################################# COMANDO A EJECUTAR #############################################\n",
      "echo 1679719529.38455 >> Dockerfile\n",
      "####################################### RESULTADO DE COMANDO EJECUTADO #######################################\n",
      "##############################################################################################################\n",
      "\n",
      "############################################# COMANDO A EJECUTAR #############################################\n",
      "echo 1679719529.559405 >> Manifest.yaml\n",
      "####################################### RESULTADO DE COMANDO EJECUTADO #######################################\n",
      "##############################################################################################################\n",
      "\n",
      "############################################# COMANDO A EJECUTAR #############################################\n",
      "echo 1679719529.710328 >> imagen.png\n",
      "####################################### RESULTADO DE COMANDO EJECUTADO #######################################\n",
      "##############################################################################################################\n",
      "\n",
      "############################################# COMANDO A EJECUTAR #############################################\n",
      "echo 1679719529.861547 >> main.py\n",
      "####################################### RESULTADO DE COMANDO EJECUTADO #######################################\n",
      "##############################################################################################################\n",
      "\n",
      "############################################# COMANDO A EJECUTAR #############################################\n",
      "echo 1679719530.004484 >> connection.java\n",
      "####################################### RESULTADO DE COMANDO EJECUTADO #######################################\n",
      "##############################################################################################################\n",
      "\n",
      "############################################# COMANDO A EJECUTAR #############################################\n",
      "echo 1679719530.159296 >> calculos.c\n",
      "####################################### RESULTADO DE COMANDO EJECUTADO #######################################\n",
      "##############################################################################################################\n",
      "\n",
      "############################################# COMANDO A EJECUTAR #############################################\n",
      "echo 1679719530.272703 >> addon.php\n",
      "####################################### RESULTADO DE COMANDO EJECUTADO #######################################\n",
      "##############################################################################################################\n",
      "\n",
      "############################################# COMANDO A EJECUTAR #############################################\n",
      "echo 1679719530.441286 >> utils.gif\n",
      "####################################### RESULTADO DE COMANDO EJECUTADO #######################################\n",
      "##############################################################################################################\n",
      "\n",
      "############################################# COMANDO A EJECUTAR #############################################\n",
      "echo 1679719530.601465 >> query.sql\n",
      "####################################### RESULTADO DE COMANDO EJECUTADO #######################################\n",
      "##############################################################################################################\n",
      "\n",
      "############################################# COMANDO A EJECUTAR #############################################\n",
      "echo 1679719530.757252 >> dataset.avro\n",
      "####################################### RESULTADO DE COMANDO EJECUTADO #######################################\n",
      "##############################################################################################################\n",
      "\n",
      "############################################# COMANDO A EJECUTAR #############################################\n",
      "echo 1679719530.903755 >> link.vs\n",
      "####################################### RESULTADO DE COMANDO EJECUTADO #######################################\n",
      "##############################################################################################################\n",
      "\n"
     ]
    },
    {
     "data": {
      "text/plain": [
       "['info.txt',\n",
       " 'Dockerfile',\n",
       " 'Manifest.yaml',\n",
       " 'imagen.png',\n",
       " 'main.py',\n",
       " 'connection.java',\n",
       " 'calculos.c',\n",
       " 'addon.php',\n",
       " 'utils.gif',\n",
       " 'query.sql',\n",
       " 'dataset.avro',\n",
       " 'link.vs']"
      ]
     },
     "execution_count": 22,
     "metadata": {},
     "output_type": "execute_result"
    }
   ],
   "source": [
    "nombre_rama_remota = 'main'\n",
    "generar_archivos()"
   ]
  },
  {
   "cell_type": "code",
   "execution_count": 23,
   "id": "9b405222-61c6-426f-8edf-49d83352b5cd",
   "metadata": {
    "tags": []
   },
   "outputs": [
    {
     "data": {
      "text/plain": [
       "\"Eliminacion Completada con Exito!!! de ['addon.php', 'archivo.csv', 'archivo.pdf', 'archivo.xlsx', 'calculos.c', 'config.json', 'connection.java', 'dataset.avro', 'Dockerfile', 'imagen.png', 'index.html', 'info.txt', 'LICENSE', 'link.vs', 'main.py', 'Manifest.yaml', 'query.sql', 'README.md', 'requirements.txt', 'utils.gif']\""
      ]
     },
     "execution_count": 23,
     "metadata": {},
     "output_type": "execute_result"
    }
   ],
   "source": [
    "eliminar_archivos_directorio()"
   ]
  },
  {
   "cell_type": "markdown",
   "id": "ec2b7910-181d-4ad4-a3b9-85fe48458802",
   "metadata": {},
   "source": [
    "### RESTAURAR UN ARCHIVO ESPECIFICO"
   ]
  },
  {
   "cell_type": "code",
   "execution_count": 24,
   "id": "c18daf65-8f3e-428b-908a-1d2f6369052a",
   "metadata": {
    "tags": []
   },
   "outputs": [
    {
     "name": "stdout",
     "output_type": "stream",
     "text": [
      "############################################# COMANDO A EJECUTAR #############################################\n",
      "git restore LICENSE\n",
      "####################################### RESULTADO DE COMANDO EJECUTADO #######################################\n",
      "##############################################################################################################\n",
      "\n"
     ]
    }
   ],
   "source": [
    "comando = 'git restore LICENSE'\n",
    "ejecutar_comando_git(comando)"
   ]
  },
  {
   "cell_type": "markdown",
   "id": "8874b7b6-3f5e-4d30-89b7-1e105bef1b3e",
   "metadata": {},
   "source": [
    "### RESTAURAR TODOS LOS ARCHIVOS AL MISMO TIEMPO"
   ]
  },
  {
   "cell_type": "code",
   "execution_count": 25,
   "id": "39858306-067e-4400-84ef-5d07916e6dcf",
   "metadata": {
    "tags": []
   },
   "outputs": [
    {
     "name": "stdout",
     "output_type": "stream",
     "text": [
      "############################################# COMANDO A EJECUTAR #############################################\n",
      "git restore .\n",
      "####################################### RESULTADO DE COMANDO EJECUTADO #######################################\n",
      "##############################################################################################################\n",
      "\n"
     ]
    }
   ],
   "source": [
    "comando = 'git restore .'\n",
    "ejecutar_comando_git(comando)"
   ]
  },
  {
   "cell_type": "markdown",
   "id": "814b933e-bd2e-405e-9381-2da85a675511",
   "metadata": {},
   "source": [
    "# <center> VERIFICAR EL ESTADO DE LOS ARCHIVOS EN UN REPOSITORIO GIT</center>"
   ]
  },
  {
   "cell_type": "code",
   "execution_count": 26,
   "id": "4f9c3883-9b2e-4bb5-a8b8-eb33901a3bed",
   "metadata": {
    "scrolled": true,
    "tags": []
   },
   "outputs": [
    {
     "name": "stdout",
     "output_type": "stream",
     "text": [
      "lista_de_archivos = ['info.txt', 'Dockerfile', 'Manifest.yaml', 'imagen.png', 'main.py', 'connection.java', 'calculos.c', 'addon.php', 'utils.gif', 'query.sql', 'dataset.avro', 'link.vs']\n",
      "############################################# COMANDO A EJECUTAR #############################################\n",
      "echo 1679719537.469019 >> info.txt\n",
      "####################################### RESULTADO DE COMANDO EJECUTADO #######################################\n",
      "##############################################################################################################\n",
      "\n",
      "############################################# COMANDO A EJECUTAR #############################################\n",
      "echo 1679719537.593231 >> Dockerfile\n",
      "####################################### RESULTADO DE COMANDO EJECUTADO #######################################\n",
      "##############################################################################################################\n",
      "\n",
      "############################################# COMANDO A EJECUTAR #############################################\n",
      "echo 1679719537.743836 >> Manifest.yaml\n",
      "####################################### RESULTADO DE COMANDO EJECUTADO #######################################\n",
      "##############################################################################################################\n",
      "\n",
      "############################################# COMANDO A EJECUTAR #############################################\n",
      "echo 1679719537.884309 >> imagen.png\n",
      "####################################### RESULTADO DE COMANDO EJECUTADO #######################################\n",
      "##############################################################################################################\n",
      "\n",
      "############################################# COMANDO A EJECUTAR #############################################\n",
      "echo 1679719538.035706 >> main.py\n",
      "####################################### RESULTADO DE COMANDO EJECUTADO #######################################\n",
      "##############################################################################################################\n",
      "\n",
      "############################################# COMANDO A EJECUTAR #############################################\n",
      "echo 1679719538.168578 >> connection.java\n",
      "####################################### RESULTADO DE COMANDO EJECUTADO #######################################\n",
      "##############################################################################################################\n",
      "\n",
      "############################################# COMANDO A EJECUTAR #############################################\n",
      "echo 1679719538.298029 >> calculos.c\n",
      "####################################### RESULTADO DE COMANDO EJECUTADO #######################################\n",
      "##############################################################################################################\n",
      "\n",
      "############################################# COMANDO A EJECUTAR #############################################\n",
      "echo 1679719538.441683 >> addon.php\n",
      "####################################### RESULTADO DE COMANDO EJECUTADO #######################################\n",
      "##############################################################################################################\n",
      "\n",
      "############################################# COMANDO A EJECUTAR #############################################\n",
      "echo 1679719538.577959 >> utils.gif\n",
      "####################################### RESULTADO DE COMANDO EJECUTADO #######################################\n",
      "##############################################################################################################\n",
      "\n",
      "############################################# COMANDO A EJECUTAR #############################################\n",
      "echo 1679719538.708365 >> query.sql\n",
      "####################################### RESULTADO DE COMANDO EJECUTADO #######################################\n",
      "##############################################################################################################\n",
      "\n",
      "############################################# COMANDO A EJECUTAR #############################################\n",
      "echo 1679719538.853204 >> dataset.avro\n",
      "####################################### RESULTADO DE COMANDO EJECUTADO #######################################\n",
      "##############################################################################################################\n",
      "\n",
      "############################################# COMANDO A EJECUTAR #############################################\n",
      "echo 1679719539.001581 >> link.vs\n",
      "####################################### RESULTADO DE COMANDO EJECUTADO #######################################\n",
      "##############################################################################################################\n",
      "\n"
     ]
    },
    {
     "data": {
      "text/plain": [
       "['info.txt',\n",
       " 'Dockerfile',\n",
       " 'Manifest.yaml',\n",
       " 'imagen.png',\n",
       " 'main.py',\n",
       " 'connection.java',\n",
       " 'calculos.c',\n",
       " 'addon.php',\n",
       " 'utils.gif',\n",
       " 'query.sql',\n",
       " 'dataset.avro',\n",
       " 'link.vs']"
      ]
     },
     "execution_count": 26,
     "metadata": {},
     "output_type": "execute_result"
    }
   ],
   "source": [
    "generar_archivos()"
   ]
  },
  {
   "cell_type": "code",
   "execution_count": 27,
   "id": "8276d8a7-f83e-45b3-9293-fdbe43754c8f",
   "metadata": {
    "tags": []
   },
   "outputs": [
    {
     "name": "stdout",
     "output_type": "stream",
     "text": [
      "############################################# COMANDO A EJECUTAR #############################################\n",
      "git status\n",
      "####################################### RESULTADO DE COMANDO EJECUTADO #######################################\n",
      "On branch multi_commits_copia\n",
      "Your branch is up to date with 'origin/multi_commits'.\n",
      "\n",
      "Untracked files:\n",
      "  (use \"git add <file>...\" to include in what will be committed)\n",
      "\tDockerfile\n",
      "\tManifest.yaml\n",
      "\taddon.php\n",
      "\tcalculos.c\n",
      "\tconnection.java\n",
      "\tdataset.avro\n",
      "\timagen.png\n",
      "\tinfo.txt\n",
      "\tlink.vs\n",
      "\tmain.py\n",
      "\tquery.sql\n",
      "\tutils.gif\n",
      "\n",
      "nothing added to commit but untracked files present (use \"git add\" to track)\n",
      "##############################################################################################################\n",
      "\n"
     ]
    }
   ],
   "source": [
    "comando = 'git status'\n",
    "ejecutar_comando_git(comando)"
   ]
  },
  {
   "cell_type": "markdown",
   "id": "66ee16b9-d63f-49be-bec7-c2bcff0c3534",
   "metadata": {},
   "source": [
    "# <center> AGREGAR CAMBIOS DE ARCHIVOS A UN REPOSITORIO GIT</center>"
   ]
  },
  {
   "cell_type": "markdown",
   "id": "2b46c004-d7b1-40f1-b3b6-c53df14bddbd",
   "metadata": {},
   "source": [
    "### AGREGAR EL CAMBIO DE UN ARCHIVO O UN SOLO ARCHIVO NUEVO"
   ]
  },
  {
   "cell_type": "code",
   "execution_count": 28,
   "id": "f2b9f474-f56e-4d23-a5ee-574736d4e663",
   "metadata": {
    "tags": []
   },
   "outputs": [
    {
     "name": "stdout",
     "output_type": "stream",
     "text": [
      "############################################# COMANDO A EJECUTAR #############################################\n",
      "git add info.txt\n",
      "####################################### RESULTADO DE COMANDO EJECUTADO #######################################\n",
      "##############################################################################################################\n",
      "\n",
      "############################################# COMANDO A EJECUTAR #############################################\n",
      "git status\n",
      "####################################### RESULTADO DE COMANDO EJECUTADO #######################################\n",
      "On branch multi_commits_copia\n",
      "Your branch is up to date with 'origin/multi_commits'.\n",
      "\n",
      "Changes to be committed:\n",
      "  (use \"git restore --staged <file>...\" to unstage)\n",
      "\tnew file:   info.txt\n",
      "\n",
      "Untracked files:\n",
      "  (use \"git add <file>...\" to include in what will be committed)\n",
      "\tDockerfile\n",
      "\tManifest.yaml\n",
      "\taddon.php\n",
      "\tcalculos.c\n",
      "\tconnection.java\n",
      "\tdataset.avro\n",
      "\timagen.png\n",
      "\tlink.vs\n",
      "\tmain.py\n",
      "\tquery.sql\n",
      "\tutils.gif\n",
      "\n",
      "##############################################################################################################\n",
      "\n"
     ]
    }
   ],
   "source": [
    "comando = 'git add info.txt'\n",
    "ejecutar_comando_git(comando)\n",
    "\n",
    "comando = 'git status'\n",
    "ejecutar_comando_git(comando)"
   ]
  },
  {
   "cell_type": "markdown",
   "id": "c2231766-2b96-4e76-8d7a-421fbb4fb60e",
   "metadata": {},
   "source": [
    "### AGREGAR LOS CAMBIOS DE TODOS LOS ARCHIVOS O TODOS LOS CAMBIOS Y ARCHIVOS NUEVOS"
   ]
  },
  {
   "cell_type": "code",
   "execution_count": 29,
   "id": "7eb80289-128b-4a26-a9e8-d699ad902b03",
   "metadata": {
    "tags": []
   },
   "outputs": [
    {
     "name": "stdout",
     "output_type": "stream",
     "text": [
      "############################################# COMANDO A EJECUTAR #############################################\n",
      "git add .\n",
      "####################################### RESULTADO DE COMANDO EJECUTADO #######################################\n",
      "##############################################################################################################\n",
      "\n",
      "############################################# COMANDO A EJECUTAR #############################################\n",
      "git status\n",
      "####################################### RESULTADO DE COMANDO EJECUTADO #######################################\n",
      "On branch multi_commits_copia\n",
      "Your branch is up to date with 'origin/multi_commits'.\n",
      "\n",
      "Changes to be committed:\n",
      "  (use \"git restore --staged <file>...\" to unstage)\n",
      "\tnew file:   Dockerfile\n",
      "\tnew file:   Manifest.yaml\n",
      "\tnew file:   addon.php\n",
      "\tnew file:   calculos.c\n",
      "\tnew file:   connection.java\n",
      "\tnew file:   dataset.avro\n",
      "\tnew file:   imagen.png\n",
      "\tnew file:   info.txt\n",
      "\tnew file:   link.vs\n",
      "\tnew file:   main.py\n",
      "\tnew file:   query.sql\n",
      "\tnew file:   utils.gif\n",
      "\n",
      "##############################################################################################################\n",
      "\n",
      "############################################# COMANDO A EJECUTAR #############################################\n",
      "git branch\n",
      "####################################### RESULTADO DE COMANDO EJECUTADO #######################################\n",
      "  main\n",
      "  multi_commits\n",
      "* multi_commits_copia\n",
      "  nueva_rama_renombrada\n",
      "  rama_acceso_rapido_renombrada\n",
      "##############################################################################################################\n",
      "\n"
     ]
    }
   ],
   "source": [
    "comando = 'git add .'\n",
    "ejecutar_comando_git(comando)\n",
    "\n",
    "comando = 'git status'\n",
    "ejecutar_comando_git(comando)\n",
    "\n",
    "ejecutar_comando_shell()"
   ]
  },
  {
   "cell_type": "markdown",
   "id": "151676ec-6f24-4bcb-a062-cc51a6827469",
   "metadata": {},
   "source": [
    "# <center> HACER COMMIT A UN REPOSITORIO GIT</center>"
   ]
  },
  {
   "cell_type": "code",
   "execution_count": 30,
   "id": "a8fa9105-e039-4f97-b7b5-837f1d154711",
   "metadata": {
    "tags": []
   },
   "outputs": [
    {
     "name": "stdout",
     "output_type": "stream",
     "text": [
      "############################################# COMANDO A EJECUTAR #############################################\n",
      "git commit -m \"adicionados archivo de prueba\"\n",
      "####################################### RESULTADO DE COMANDO EJECUTADO #######################################\n",
      "[multi_commits_copia 8372eba] adicionados archivo de prueba\n",
      " 12 files changed, 12 insertions(+)\n",
      " create mode 100644 Dockerfile\n",
      " create mode 100644 Manifest.yaml\n",
      " create mode 100644 addon.php\n",
      " create mode 100644 calculos.c\n",
      " create mode 100644 connection.java\n",
      " create mode 100644 dataset.avro\n",
      " create mode 100644 imagen.png\n",
      " create mode 100644 info.txt\n",
      " create mode 100644 link.vs\n",
      " create mode 100644 main.py\n",
      " create mode 100644 query.sql\n",
      " create mode 100644 utils.gif\n",
      "##############################################################################################################\n",
      "\n",
      "############################################# COMANDO A EJECUTAR #############################################\n",
      "git status\n",
      "####################################### RESULTADO DE COMANDO EJECUTADO #######################################\n",
      "On branch multi_commits_copia\n",
      "Your branch is ahead of 'origin/multi_commits' by 1 commit.\n",
      "  (use \"git push\" to publish your local commits)\n",
      "\n",
      "nothing to commit, working tree clean\n",
      "##############################################################################################################\n",
      "\n"
     ]
    }
   ],
   "source": [
    "# solo en este paso, al hacer el primer commit se crea la rama\n",
    "comando = 'git commit -m \"adicionados archivo de prueba\"'\n",
    "ejecutar_comando_git(comando)\n",
    "        \n",
    "comando = 'git status'\n",
    "ejecutar_comando_git(comando)"
   ]
  },
  {
   "cell_type": "markdown",
   "id": "3fac4a59-2441-43ec-8a45-8491b8d9d557",
   "metadata": {},
   "source": [
    "# <center> PUBLICAR UNA RAMA LOCAL QUE NO EXISTE EN REMOTO A UN REPOSITORIO GIT <br>https://github.com/JorgeCardona/comandos_git</br> </center>\n"
   ]
  },
  {
   "cell_type": "code",
   "execution_count": 31,
   "id": "ebb1e80d-c652-4946-9c88-f50578118fd6",
   "metadata": {
    "tags": []
   },
   "outputs": [
    {
     "name": "stdout",
     "output_type": "stream",
     "text": [
      "############################################# COMANDO A EJECUTAR #############################################\n",
      "git push --set-upstream origin multi_commits_copia\n",
      "####################################### RESULTADO DE COMANDO EJECUTADO #######################################\n",
      "Branch 'multi_commits_copia' set up to track remote branch 'multi_commits_copia' from 'origin'.\n",
      "##############################################################################################################\n",
      "\n",
      "############################################# COMANDO A EJECUTAR #############################################\n",
      "git branch -a\n",
      "####################################### RESULTADO DE COMANDO EJECUTADO #######################################\n",
      "  main\n",
      "  multi_commits\n",
      "* multi_commits_copia\n",
      "  nueva_rama_renombrada\n",
      "  rama_acceso_rapido_renombrada\n",
      "  remotes/origin/HEAD -> origin/main\n",
      "  remotes/origin/main\n",
      "  remotes/origin/multi_commits\n",
      "  remotes/origin/multi_commits_copia\n",
      "##############################################################################################################\n",
      "\n"
     ]
    }
   ],
   "source": [
    "comando = 'git push --set-upstream origin {copia_rama_remota}'.format(copia_rama_remota=copia_rama_remota)\n",
    "ejecutar_comando_git(comando)\n",
    "\n",
    "comando = 'git branch -a'\n",
    "ejecutar_comando_git(comando)"
   ]
  },
  {
   "cell_type": "markdown",
   "id": "f940966c-8f73-4224-907b-8360e3b8f599",
   "metadata": {},
   "source": [
    "# <center> ADICIONAR ARCHIVOS NUEVOS A LA RAMA</center>"
   ]
  },
  {
   "cell_type": "code",
   "execution_count": 32,
   "id": "2e71c11d-b2be-4529-9051-9f436105412d",
   "metadata": {
    "scrolled": true,
    "tags": []
   },
   "outputs": [
    {
     "name": "stdout",
     "output_type": "stream",
     "text": [
      "lista_de_archivos = ['info.txt', 'Dockerfile', 'Manifest.yaml', 'imagen.png', 'main.py', 'connection.java', 'calculos.c', 'addon.php', 'utils.gif', 'query.sql', 'dataset.avro', 'link.vs']\n",
      "############################################# COMANDO A EJECUTAR #############################################\n",
      "echo 1679719552.305842 >> info.txt\n",
      "####################################### RESULTADO DE COMANDO EJECUTADO #######################################\n",
      "##############################################################################################################\n",
      "\n",
      "############################################# COMANDO A EJECUTAR #############################################\n",
      "echo 1679719552.418495 >> Dockerfile\n",
      "####################################### RESULTADO DE COMANDO EJECUTADO #######################################\n",
      "##############################################################################################################\n",
      "\n",
      "############################################# COMANDO A EJECUTAR #############################################\n",
      "echo 1679719552.564909 >> Manifest.yaml\n",
      "####################################### RESULTADO DE COMANDO EJECUTADO #######################################\n",
      "##############################################################################################################\n",
      "\n",
      "############################################# COMANDO A EJECUTAR #############################################\n",
      "echo 1679719552.717115 >> imagen.png\n",
      "####################################### RESULTADO DE COMANDO EJECUTADO #######################################\n",
      "##############################################################################################################\n",
      "\n",
      "############################################# COMANDO A EJECUTAR #############################################\n",
      "echo 1679719552.858918 >> main.py\n",
      "####################################### RESULTADO DE COMANDO EJECUTADO #######################################\n",
      "##############################################################################################################\n",
      "\n",
      "############################################# COMANDO A EJECUTAR #############################################\n",
      "echo 1679719552.995087 >> connection.java\n",
      "####################################### RESULTADO DE COMANDO EJECUTADO #######################################\n",
      "##############################################################################################################\n",
      "\n",
      "############################################# COMANDO A EJECUTAR #############################################\n",
      "echo 1679719553.147588 >> calculos.c\n",
      "####################################### RESULTADO DE COMANDO EJECUTADO #######################################\n",
      "##############################################################################################################\n",
      "\n",
      "############################################# COMANDO A EJECUTAR #############################################\n",
      "echo 1679719553.303299 >> addon.php\n",
      "####################################### RESULTADO DE COMANDO EJECUTADO #######################################\n",
      "##############################################################################################################\n",
      "\n",
      "############################################# COMANDO A EJECUTAR #############################################\n",
      "echo 1679719553.45393 >> utils.gif\n",
      "####################################### RESULTADO DE COMANDO EJECUTADO #######################################\n",
      "##############################################################################################################\n",
      "\n",
      "############################################# COMANDO A EJECUTAR #############################################\n",
      "echo 1679719553.602537 >> query.sql\n",
      "####################################### RESULTADO DE COMANDO EJECUTADO #######################################\n",
      "##############################################################################################################\n",
      "\n",
      "############################################# COMANDO A EJECUTAR #############################################\n",
      "echo 1679719553.758587 >> dataset.avro\n",
      "####################################### RESULTADO DE COMANDO EJECUTADO #######################################\n",
      "##############################################################################################################\n",
      "\n",
      "############################################# COMANDO A EJECUTAR #############################################\n",
      "echo 1679719553.878353 >> link.vs\n",
      "####################################### RESULTADO DE COMANDO EJECUTADO #######################################\n",
      "##############################################################################################################\n",
      "\n"
     ]
    },
    {
     "data": {
      "text/plain": [
       "['info.txt',\n",
       " 'Dockerfile',\n",
       " 'Manifest.yaml',\n",
       " 'imagen.png',\n",
       " 'main.py',\n",
       " 'connection.java',\n",
       " 'calculos.c',\n",
       " 'addon.php',\n",
       " 'utils.gif',\n",
       " 'query.sql',\n",
       " 'dataset.avro',\n",
       " 'link.vs']"
      ]
     },
     "execution_count": 32,
     "metadata": {},
     "output_type": "execute_result"
    }
   ],
   "source": [
    "generar_archivos()"
   ]
  },
  {
   "cell_type": "markdown",
   "id": "4a76c160-71f3-4614-9623-47db78fafc0d",
   "metadata": {},
   "source": [
    "# SUBIR NUEVOS ARCHIVOS A UNA RAMA DEL REPOSITORIO  <br>https://github.com/JorgeCardona/comandos_git</br> "
   ]
  },
  {
   "cell_type": "code",
   "execution_count": 33,
   "id": "7ee35dc3-1d4b-4dee-8e4f-2d048d5b78e6",
   "metadata": {
    "scrolled": true,
    "tags": []
   },
   "outputs": [
    {
     "name": "stdout",
     "output_type": "stream",
     "text": [
      "############################################# COMANDO A EJECUTAR #############################################\n",
      "git add .\n",
      "####################################### RESULTADO DE COMANDO EJECUTADO #######################################\n",
      "##############################################################################################################\n",
      "\n",
      "############################################# COMANDO A EJECUTAR #############################################\n",
      "git commit -m \"adicionados archivos nuevos\"\n",
      "####################################### RESULTADO DE COMANDO EJECUTADO #######################################\n",
      "[multi_commits_copia de8d15f] adicionados archivos nuevos\n",
      " 12 files changed, 12 insertions(+)\n",
      "##############################################################################################################\n",
      "\n",
      "############################################# COMANDO A EJECUTAR #############################################\n",
      "git status\n",
      "####################################### RESULTADO DE COMANDO EJECUTADO #######################################\n",
      "On branch multi_commits_copia\n",
      "Your branch is ahead of 'origin/multi_commits_copia' by 1 commit.\n",
      "  (use \"git push\" to publish your local commits)\n",
      "\n",
      "nothing to commit, working tree clean\n",
      "##############################################################################################################\n",
      "\n",
      "############################################# COMANDO A EJECUTAR #############################################\n",
      "git branch\n",
      "####################################### RESULTADO DE COMANDO EJECUTADO #######################################\n",
      "  main\n",
      "  multi_commits\n",
      "* multi_commits_copia\n",
      "  nueva_rama_renombrada\n",
      "  rama_acceso_rapido_renombrada\n",
      "##############################################################################################################\n",
      "\n"
     ]
    }
   ],
   "source": [
    "comando = 'git add .'\n",
    "ejecutar_comando_git(comando)\n",
    "\n",
    "comando = 'git commit -m \"adicionados archivos nuevos\"'\n",
    "ejecutar_comando_git(comando)\n",
    "\n",
    "comando = 'git status'\n",
    "ejecutar_comando_git(comando)\n",
    "\n",
    "ejecutar_comando_shell()"
   ]
  },
  {
   "cell_type": "code",
   "execution_count": 34,
   "id": "00154781-f37b-42d5-9ce0-334b0c479d0c",
   "metadata": {},
   "outputs": [
    {
     "name": "stdout",
     "output_type": "stream",
     "text": [
      "############################################# COMANDO A EJECUTAR #############################################\n",
      "git push origin\n",
      "####################################### RESULTADO DE COMANDO EJECUTADO #######################################\n",
      "##############################################################################################################\n",
      "\n"
     ]
    }
   ],
   "source": [
    "# siempre origin para repositorios remotos\n",
    "comando = 'git push origin'\n",
    "ejecutar_comando_git(comando)"
   ]
  },
  {
   "cell_type": "markdown",
   "id": "96b4bb4e-23c3-4fa4-90b5-61f1cffe772d",
   "metadata": {},
   "source": [
    "# <center> ELIMINAR UNA RAMA DE UN REPOSITORIO GIT</center>"
   ]
  },
  {
   "cell_type": "markdown",
   "id": "8a021d6c-c862-4741-b654-f2f960d35106",
   "metadata": {},
   "source": [
    "## ELIMINAR RAMA DE UN REPOSITORIO LOCAL"
   ]
  },
  {
   "cell_type": "code",
   "execution_count": 35,
   "id": "c2055b11-7dd8-4bf6-aea4-d471de329e35",
   "metadata": {
    "scrolled": true,
    "tags": []
   },
   "outputs": [
    {
     "name": "stdout",
     "output_type": "stream",
     "text": [
      "############################################# COMANDO A EJECUTAR #############################################\n",
      "git checkout main\n",
      "####################################### RESULTADO DE COMANDO EJECUTADO #######################################\n",
      "Your branch is up to date with 'origin/main'.\n",
      "##############################################################################################################\n",
      "\n",
      "############################################# COMANDO A EJECUTAR #############################################\n",
      "git branch -D nueva_rama_renombrada\n",
      "####################################### RESULTADO DE COMANDO EJECUTADO #######################################\n",
      "Deleted branch nueva_rama_renombrada (was 3b4edb5).\n",
      "##############################################################################################################\n",
      "\n",
      "############################################# COMANDO A EJECUTAR #############################################\n",
      "git branch -D rama_acceso_rapido_renombrada\n",
      "####################################### RESULTADO DE COMANDO EJECUTADO #######################################\n",
      "Deleted branch rama_acceso_rapido_renombrada (was 3b4edb5).\n",
      "##############################################################################################################\n",
      "\n",
      "############################################# COMANDO A EJECUTAR #############################################\n",
      "git branch -D multi_commits_copia\n",
      "####################################### RESULTADO DE COMANDO EJECUTADO #######################################\n",
      "Deleted branch multi_commits_copia (was de8d15f).\n",
      "##############################################################################################################\n",
      "\n",
      "############################################# COMANDO A EJECUTAR #############################################\n",
      "git branch -a\n",
      "####################################### RESULTADO DE COMANDO EJECUTADO #######################################\n",
      "* main\n",
      "  multi_commits\n",
      "  remotes/origin/HEAD -> origin/main\n",
      "  remotes/origin/main\n",
      "  remotes/origin/multi_commits\n",
      "  remotes/origin/multi_commits_copia\n",
      "##############################################################################################################\n",
      "\n"
     ]
    }
   ],
   "source": [
    "# no se puede eliminar una rama si se esta trabajando en ese monento en ella\n",
    "comando = 'git checkout main'\n",
    "ejecutar_comando_git(comando)\n",
    "\n",
    "ramas_a_eliminar = ['nueva_rama_renombrada','rama_acceso_rapido_renombrada',copia_rama_remota]\n",
    "\n",
    "# eliminar lista de ramas\n",
    "for rama in ramas_a_eliminar:\n",
    "\n",
    "    comando = 'git branch -D {rama}'.format(rama=rama)\n",
    "    ejecutar_comando_git(comando)\n",
    "\n",
    "comando = 'git branch -a'\n",
    "ejecutar_comando_git(comando)"
   ]
  },
  {
   "cell_type": "markdown",
   "id": "52ab69e2-a9cd-4315-9f9d-c2e8808801ee",
   "metadata": {},
   "source": [
    "## ELIMINAR RAMA DE UN REPOSITORIO REMOTO <br>https://github.com/JorgeCardona/comandos_git</br> "
   ]
  },
  {
   "cell_type": "code",
   "execution_count": 36,
   "id": "f8839285-d396-4d65-a3ef-c6a1aa2e76c4",
   "metadata": {
    "tags": []
   },
   "outputs": [
    {
     "name": "stdout",
     "output_type": "stream",
     "text": [
      "############################################# COMANDO A EJECUTAR #############################################\n",
      "git push origin -d multi_commits_copia\n",
      "####################################### RESULTADO DE COMANDO EJECUTADO #######################################\n",
      "##############################################################################################################\n",
      "\n",
      "############################################# COMANDO A EJECUTAR #############################################\n",
      "git branch -a\n",
      "####################################### RESULTADO DE COMANDO EJECUTADO #######################################\n",
      "* main\n",
      "  multi_commits\n",
      "  remotes/origin/HEAD -> origin/main\n",
      "  remotes/origin/main\n",
      "  remotes/origin/multi_commits\n",
      "##############################################################################################################\n",
      "\n"
     ]
    }
   ],
   "source": [
    "comando = 'git push origin -d {copia_rama_remota}'.format(copia_rama_remota=copia_rama_remota)\n",
    "ejecutar_comando_git(comando)\n",
    "\n",
    "comando = 'git branch -a'\n",
    "ejecutar_comando_git(comando)"
   ]
  },
  {
   "cell_type": "markdown",
   "id": "996f0f29-8546-4312-a4d5-afa9aea7bad0",
   "metadata": {},
   "source": [
    "# <center> CREAR RAMA VACIA QUE NO ESTE RELACIONADA CON NINGUN CONTENIDO DE OTRA RAMA</center>\n",
    "<center>\n",
    "    <img width=\"100%\" align=\"center\" src=\"ciclo_de_vida_archuvo_git.png\">\n",
    "</center>\n",
    "\n",
    "### UNTRACKED - ES UN FICHERO NUEVO QUE SE HA CREADO Y GIT TODAVIA NO TIENE CONSTANCIA, NO HACE PARTE DE NINGUN COMMIT ANTERIOR\n",
    "### TRACKED - UNSTAGE -> FICHERO QUE HACE PARTE DE COMMITS ANTERIORES, HA SIDO MODIFICADO PERO TODAVIA NO SE HA ENVIADO AL AREA DE STAGING\n",
    "### TRACKED - STAGE -> SE REALIZO UN CAMBIO Y SE HA ENVIADO A LA ZONA STAGING (git add archivo)\n",
    "### TRACKED - COMMITED -> UN ARCHIVO QUE SE HA HECHO COMMIT Y QUE YA ESTA EN LA ZONA EL REPOSITORIO LOCAL (git commit -m 'archivo adicionado al repo local')"
   ]
  },
  {
   "cell_type": "markdown",
   "id": "d1a0e620-5acf-4b91-8045-629d4c033c8d",
   "metadata": {},
   "source": [
    "### CREA LA RAMA"
   ]
  },
  {
   "cell_type": "code",
   "execution_count": 51,
   "id": "4132ece2-f30e-4310-b013-807007387318",
   "metadata": {
    "scrolled": true,
    "tags": []
   },
   "outputs": [
    {
     "name": "stdout",
     "output_type": "stream",
     "text": [
      "############################################# COMANDO A EJECUTAR #############################################\n",
      "git switch --orphan utils\n",
      "####################################### RESULTADO DE COMANDO EJECUTADO #######################################\n",
      "##############################################################################################################\n",
      "\n",
      "############################################# COMANDO A EJECUTAR #############################################\n",
      "git branch -a\n",
      "####################################### RESULTADO DE COMANDO EJECUTADO #######################################\n",
      "  main\n",
      "  multi_commits\n",
      "  remotes/origin/HEAD -> origin/main\n",
      "  remotes/origin/main\n",
      "  remotes/origin/multi_commits\n",
      "##############################################################################################################\n",
      "\n"
     ]
    }
   ],
   "source": [
    "rama = 'utils'\n",
    "comando = 'git switch --orphan {rama}'.format(rama=rama)\n",
    "ejecutar_comando_git(comando)\n",
    "\n",
    "comando = 'git branch -a'\n",
    "ejecutar_comando_git(comando)"
   ]
  },
  {
   "cell_type": "markdown",
   "id": "f8b005a4-a970-4d71-8893-67019bc76ca1",
   "metadata": {},
   "source": [
    "### CREA ARCHIVOS EN EL WORKING DIRECTORY"
   ]
  },
  {
   "cell_type": "code",
   "execution_count": 52,
   "id": "3d2dd581-e019-43ea-b540-b52484fec3eb",
   "metadata": {
    "tags": []
   },
   "outputs": [
    {
     "name": "stdout",
     "output_type": "stream",
     "text": [
      "lista_de_archivos = ['info.txt']\n",
      "############################################# COMANDO A EJECUTAR #############################################\n",
      "echo 1679720141.861858 >> info.txt\n",
      "####################################### RESULTADO DE COMANDO EJECUTADO #######################################\n",
      "##############################################################################################################\n",
      "\n",
      "############################################# COMANDO A EJECUTAR #############################################\n",
      "git status\n",
      "####################################### RESULTADO DE COMANDO EJECUTADO #######################################\n",
      "On branch utils\n",
      "\n",
      "No commits yet\n",
      "\n",
      "Untracked files:\n",
      "  (use \"git add <file>...\" to include in what will be committed)\n",
      "\tinfo.txt\n",
      "\n",
      "nothing added to commit but untracked files present (use \"git add\" to track)\n",
      "##############################################################################################################\n",
      "\n"
     ]
    }
   ],
   "source": [
    "generar_archivos(todos_los_archivos=False)\n",
    "\n",
    "comando = 'git status'\n",
    "ejecutar_comando_git(comando)"
   ]
  },
  {
   "cell_type": "markdown",
   "id": "f2173466-ee58-43a1-b126-a4c5fe530951",
   "metadata": {},
   "source": [
    "### ADICIONA LOS ARCHIVOS AL STAGE"
   ]
  },
  {
   "cell_type": "code",
   "execution_count": 53,
   "id": "06e4ba02-c7ba-42db-983f-b635fc1ef2f7",
   "metadata": {
    "tags": []
   },
   "outputs": [
    {
     "name": "stdout",
     "output_type": "stream",
     "text": [
      "############################################# COMANDO A EJECUTAR #############################################\n",
      "git add .\n",
      "####################################### RESULTADO DE COMANDO EJECUTADO #######################################\n",
      "##############################################################################################################\n",
      "\n",
      "############################################# COMANDO A EJECUTAR #############################################\n",
      "git status\n",
      "####################################### RESULTADO DE COMANDO EJECUTADO #######################################\n",
      "On branch utils\n",
      "\n",
      "No commits yet\n",
      "\n",
      "Changes to be committed:\n",
      "  (use \"git rm --cached <file>...\" to unstage)\n",
      "\tnew file:   info.txt\n",
      "\n",
      "##############################################################################################################\n",
      "\n"
     ]
    }
   ],
   "source": [
    "comando = 'git add .'\n",
    "ejecutar_comando_git(comando)\n",
    "\n",
    "comando = 'git status'\n",
    "ejecutar_comando_git(comando)"
   ]
  },
  {
   "cell_type": "markdown",
   "id": "1efd1e66-7fdd-42f0-b284-ab8c1ee0695f",
   "metadata": {},
   "source": [
    "### ELIMINA LOS ARCHIVOS DEL STAGE Y LOS RETORNA AL WORKING DIRECTORY"
   ]
  },
  {
   "cell_type": "code",
   "execution_count": 54,
   "id": "e478337d-f08f-49ce-875a-3dfa722e0785",
   "metadata": {
    "tags": []
   },
   "outputs": [
    {
     "name": "stdout",
     "output_type": "stream",
     "text": [
      "############################################# COMANDO A EJECUTAR #############################################\n",
      "git rm --cached info.txt\n",
      "####################################### RESULTADO DE COMANDO EJECUTADO #######################################\n",
      "rm 'info.txt'\n",
      "##############################################################################################################\n",
      "\n",
      "############################################# COMANDO A EJECUTAR #############################################\n",
      "git status\n",
      "####################################### RESULTADO DE COMANDO EJECUTADO #######################################\n",
      "On branch utils\n",
      "\n",
      "No commits yet\n",
      "\n",
      "Untracked files:\n",
      "  (use \"git add <file>...\" to include in what will be committed)\n",
      "\tinfo.txt\n",
      "\n",
      "nothing added to commit but untracked files present (use \"git add\" to track)\n",
      "##############################################################################################################\n",
      "\n"
     ]
    }
   ],
   "source": [
    "comando = 'git rm --cached info.txt'\n",
    "ejecutar_comando_git(comando)\n",
    "\n",
    "comando = 'git status'\n",
    "ejecutar_comando_git(comando)"
   ]
  },
  {
   "cell_type": "markdown",
   "id": "36c2b331-095d-4aa2-9fe9-2a354b4499b9",
   "metadata": {},
   "source": [
    "### ADICIONA LOS ARCHIVOS AL STAGE Y HACE LO ALMACENA EN EL REPOSITORIO LOCAL CON UN COMMIT"
   ]
  },
  {
   "cell_type": "code",
   "execution_count": 55,
   "id": "247f7456-19c5-4291-b242-2bad2ee129a2",
   "metadata": {
    "tags": []
   },
   "outputs": [
    {
     "name": "stdout",
     "output_type": "stream",
     "text": [
      "############################################# COMANDO A EJECUTAR #############################################\n",
      "git status\n",
      "####################################### RESULTADO DE COMANDO EJECUTADO #######################################\n",
      "On branch utils\n",
      "\n",
      "No commits yet\n",
      "\n",
      "Untracked files:\n",
      "  (use \"git add <file>...\" to include in what will be committed)\n",
      "\tinfo.txt\n",
      "\n",
      "nothing added to commit but untracked files present (use \"git add\" to track)\n",
      "##############################################################################################################\n",
      "\n",
      "############################################# COMANDO A EJECUTAR #############################################\n",
      "git add .\n",
      "####################################### RESULTADO DE COMANDO EJECUTADO #######################################\n",
      "##############################################################################################################\n",
      "\n",
      "############################################# COMANDO A EJECUTAR #############################################\n",
      "git status\n",
      "####################################### RESULTADO DE COMANDO EJECUTADO #######################################\n",
      "On branch utils\n",
      "\n",
      "No commits yet\n",
      "\n",
      "Changes to be committed:\n",
      "  (use \"git rm --cached <file>...\" to unstage)\n",
      "\tnew file:   info.txt\n",
      "\n",
      "##############################################################################################################\n",
      "\n",
      "############################################# COMANDO A EJECUTAR #############################################\n",
      "git commit -m \"adicionados archivos de prueba\"\n",
      "####################################### RESULTADO DE COMANDO EJECUTADO #######################################\n",
      "[utils (root-commit) 1d1614a] adicionados archivos de prueba\n",
      " 1 file changed, 1 insertion(+)\n",
      " create mode 100644 info.txt\n",
      "##############################################################################################################\n",
      "\n",
      "############################################# COMANDO A EJECUTAR #############################################\n",
      "git status\n",
      "####################################### RESULTADO DE COMANDO EJECUTADO #######################################\n",
      "On branch utils\n",
      "nothing to commit, working tree clean\n",
      "##############################################################################################################\n",
      "\n"
     ]
    }
   ],
   "source": [
    "comando = 'git status'\n",
    "ejecutar_comando_git(comando)\n",
    "\n",
    "comando = 'git add .'\n",
    "ejecutar_comando_git(comando)\n",
    "\n",
    "comando = 'git status'\n",
    "ejecutar_comando_git(comando)\n",
    "\n",
    "comando = 'git commit -m \"adicionados archivos de prueba\"'\n",
    "ejecutar_comando_git(comando)\n",
    "\n",
    "comando = 'git status'\n",
    "ejecutar_comando_git(comando)"
   ]
  },
  {
   "cell_type": "code",
   "execution_count": 57,
   "id": "268504c1-0fdc-4560-95f5-5f57d310ed5f",
   "metadata": {
    "scrolled": true,
    "tags": []
   },
   "outputs": [
    {
     "name": "stdout",
     "output_type": "stream",
     "text": [
      "lista_de_archivos = ['info.txt', 'Dockerfile', 'Manifest.yaml', 'imagen.png', 'main.py', 'connection.java', 'calculos.c', 'addon.php', 'utils.gif', 'query.sql', 'dataset.avro', 'link.vs']\n",
      "############################################# COMANDO A EJECUTAR #############################################\n",
      "echo 1679720227.53933 >> info.txt\n",
      "####################################### RESULTADO DE COMANDO EJECUTADO #######################################\n",
      "##############################################################################################################\n",
      "\n",
      "############################################# COMANDO A EJECUTAR #############################################\n",
      "echo 1679720227.66488 >> Dockerfile\n",
      "####################################### RESULTADO DE COMANDO EJECUTADO #######################################\n",
      "##############################################################################################################\n",
      "\n",
      "############################################# COMANDO A EJECUTAR #############################################\n",
      "echo 1679720227.791883 >> Manifest.yaml\n",
      "####################################### RESULTADO DE COMANDO EJECUTADO #######################################\n",
      "##############################################################################################################\n",
      "\n",
      "############################################# COMANDO A EJECUTAR #############################################\n",
      "echo 1679720227.948103 >> imagen.png\n",
      "####################################### RESULTADO DE COMANDO EJECUTADO #######################################\n",
      "##############################################################################################################\n",
      "\n",
      "############################################# COMANDO A EJECUTAR #############################################\n",
      "echo 1679720228.101276 >> main.py\n",
      "####################################### RESULTADO DE COMANDO EJECUTADO #######################################\n",
      "##############################################################################################################\n",
      "\n",
      "############################################# COMANDO A EJECUTAR #############################################\n",
      "echo 1679720228.268845 >> connection.java\n",
      "####################################### RESULTADO DE COMANDO EJECUTADO #######################################\n",
      "##############################################################################################################\n",
      "\n",
      "############################################# COMANDO A EJECUTAR #############################################\n",
      "echo 1679720228.409558 >> calculos.c\n",
      "####################################### RESULTADO DE COMANDO EJECUTADO #######################################\n",
      "##############################################################################################################\n",
      "\n",
      "############################################# COMANDO A EJECUTAR #############################################\n",
      "echo 1679720228.573011 >> addon.php\n",
      "####################################### RESULTADO DE COMANDO EJECUTADO #######################################\n",
      "##############################################################################################################\n",
      "\n",
      "############################################# COMANDO A EJECUTAR #############################################\n",
      "echo 1679720228.695221 >> utils.gif\n",
      "####################################### RESULTADO DE COMANDO EJECUTADO #######################################\n",
      "##############################################################################################################\n",
      "\n",
      "############################################# COMANDO A EJECUTAR #############################################\n",
      "echo 1679720228.845927 >> query.sql\n",
      "####################################### RESULTADO DE COMANDO EJECUTADO #######################################\n",
      "##############################################################################################################\n",
      "\n",
      "############################################# COMANDO A EJECUTAR #############################################\n",
      "echo 1679720229.000839 >> dataset.avro\n",
      "####################################### RESULTADO DE COMANDO EJECUTADO #######################################\n",
      "##############################################################################################################\n",
      "\n",
      "############################################# COMANDO A EJECUTAR #############################################\n",
      "echo 1679720229.156126 >> link.vs\n",
      "####################################### RESULTADO DE COMANDO EJECUTADO #######################################\n",
      "##############################################################################################################\n",
      "\n",
      "############################################# COMANDO A EJECUTAR #############################################\n",
      "git status\n",
      "####################################### RESULTADO DE COMANDO EJECUTADO #######################################\n",
      "On branch utils\n",
      "Changes not staged for commit:\n",
      "  (use \"git add <file>...\" to update what will be committed)\n",
      "  (use \"git restore <file>...\" to discard changes in working directory)\n",
      "\tmodified:   info.txt\n",
      "\n",
      "Untracked files:\n",
      "  (use \"git add <file>...\" to include in what will be committed)\n",
      "\tDockerfile\n",
      "\tManifest.yaml\n",
      "\taddon.php\n",
      "\tcalculos.c\n",
      "\tconnection.java\n",
      "\tdataset.avro\n",
      "\timagen.png\n",
      "\tlink.vs\n",
      "\tmain.py\n",
      "\tquery.sql\n",
      "\tutils.gif\n",
      "\n",
      "no changes added to commit (use \"git add\" and/or \"git commit -a\")\n",
      "##############################################################################################################\n",
      "\n"
     ]
    }
   ],
   "source": [
    "generar_archivos(todos_los_archivos=True)\n",
    "\n",
    "comando = 'git status'\n",
    "ejecutar_comando_git(comando)"
   ]
  },
  {
   "cell_type": "markdown",
   "id": "d46fc114-9e5b-42be-b81e-703118792795",
   "metadata": {},
   "source": [
    "## ELIMINAR LA RAMA"
   ]
  },
  {
   "cell_type": "code",
   "execution_count": 50,
   "id": "e67a933a-c5ec-4840-8abc-6d8d4a77de8d",
   "metadata": {
    "tags": []
   },
   "outputs": [
    {
     "name": "stdout",
     "output_type": "stream",
     "text": [
      "############################################# COMANDO A EJECUTAR #############################################\n",
      "git checkout main\n",
      "####################################### RESULTADO DE COMANDO EJECUTADO #######################################\n",
      "Your branch is up to date with 'origin/main'.\n",
      "##############################################################################################################\n",
      "\n",
      "############################################# COMANDO A EJECUTAR #############################################\n",
      "git branch -D utils\n",
      "####################################### RESULTADO DE COMANDO EJECUTADO #######################################\n",
      "Deleted branch utils (was ccab0e9).\n",
      "##############################################################################################################\n",
      "\n",
      "############################################# COMANDO A EJECUTAR #############################################\n",
      "git branch -a\n",
      "####################################### RESULTADO DE COMANDO EJECUTADO #######################################\n",
      "* main\n",
      "  multi_commits\n",
      "  remotes/origin/HEAD -> origin/main\n",
      "  remotes/origin/main\n",
      "  remotes/origin/multi_commits\n",
      "##############################################################################################################\n",
      "\n"
     ]
    }
   ],
   "source": [
    "# no se puede eliminar una rama si se esta trabajando en ese monento en ella\n",
    "comando = 'git checkout main'\n",
    "ejecutar_comando_git(comando)\n",
    "\n",
    "comando = 'git branch -D {rama}'.format(rama=rama)\n",
    "ejecutar_comando_git(comando)\n",
    "\n",
    "comando = 'git branch -a'\n",
    "ejecutar_comando_git(comando)"
   ]
  },
  {
   "cell_type": "markdown",
   "id": "708c0fc6-1c94-4bd3-b237-c336fdc408ae",
   "metadata": {},
   "source": [
    "# <center> LISTAR EL HISTORIAL DE COMMITS DE UN REPOSITORIO GIT</center>"
   ]
  },
  {
   "cell_type": "markdown",
   "id": "03c490cf-5706-4b76-aa55-b47ba6dc5771",
   "metadata": {},
   "source": [
    "### VER EL HISTORIAL COMPLETO DE LA RAMA MAIN"
   ]
  },
  {
   "cell_type": "code",
   "execution_count": 108,
   "id": "6aba429a-d966-479a-858f-a09ed692d268",
   "metadata": {
    "scrolled": true,
    "tags": []
   },
   "outputs": [
    {
     "name": "stdout",
     "output_type": "stream",
     "text": [
      "############################################# COMANDO A EJECUTAR #############################################\n",
      "git log\n",
      "####################################### RESULTADO DE COMANDO EJECUTADO #######################################\n",
      "commit 3b4edb5a785dcc5841b35cd2ad93033cd29cb730\n",
      "Author: PARADIGMA\\QiDimMak <jorgecardona@utp.edu.co>\n",
      "Date:   Fri Mar 17 20:39:55 2023 -0500\n",
      "\n",
      "    adicionados archivo de configuracion y requerimientos\n",
      "\n",
      "commit d15fad27cb8d1bcb6a0e697ef02e2d787dc51b48\n",
      "Author: JorgeCardona <jorgecardona@utp.edu.co>\n",
      "Date:   Fri Mar 17 20:27:49 2023 -0500\n",
      "\n",
      "    Initial commit\n",
      "##############################################################################################################\n",
      "\n",
      "############################################# COMANDO A EJECUTAR #############################################\n",
      "git branch\n",
      "####################################### RESULTADO DE COMANDO EJECUTADO #######################################\n",
      "* main\n",
      "  multi_commits\n",
      "  utils\n",
      "##############################################################################################################\n",
      "\n"
     ]
    }
   ],
   "source": [
    "comando = 'git log'\n",
    "ejecutar_comando_git(comando)\n",
    "\n",
    "ejecutar_comando_shell()"
   ]
  },
  {
   "cell_type": "markdown",
   "id": "e3fb7568-f0f6-41b3-adaa-e40aec8b6c74",
   "metadata": {},
   "source": [
    "### VER HISTORIAL OTRA RAMA REMOTA"
   ]
  },
  {
   "cell_type": "code",
   "execution_count": 109,
   "id": "bab303fe-fe43-48c4-8267-2bd6899a92d1",
   "metadata": {
    "scrolled": true,
    "tags": []
   },
   "outputs": [
    {
     "name": "stdout",
     "output_type": "stream",
     "text": [
      "############################################# COMANDO A EJECUTAR #############################################\n",
      "git restore .\n",
      "####################################### RESULTADO DE COMANDO EJECUTADO #######################################\n",
      "##############################################################################################################\n",
      "\n",
      "############################################# COMANDO A EJECUTAR #############################################\n",
      "git checkout main\n",
      "####################################### RESULTADO DE COMANDO EJECUTADO #######################################\n",
      "Your branch is up to date with 'origin/main'.\n",
      "##############################################################################################################\n",
      "\n",
      "############################################# COMANDO A EJECUTAR #############################################\n",
      "git branch -a\n",
      "####################################### RESULTADO DE COMANDO EJECUTADO #######################################\n",
      "* main\n",
      "  multi_commits\n",
      "  utils\n",
      "  remotes/origin/HEAD -> origin/main\n",
      "  remotes/origin/main\n",
      "  remotes/origin/multi_commits\n",
      "##############################################################################################################\n",
      "\n",
      "############################################# COMANDO A EJECUTAR #############################################\n",
      "git branch -a\n",
      "####################################### RESULTADO DE COMANDO EJECUTADO #######################################\n",
      "* main\n",
      "  multi_commits\n",
      "  utils\n",
      "  remotes/origin/HEAD -> origin/main\n",
      "  remotes/origin/main\n",
      "  remotes/origin/multi_commits\n",
      "##############################################################################################################\n",
      "\n",
      "############################################# COMANDO A EJECUTAR #############################################\n",
      "git checkout -b commit_branch\n",
      "####################################### RESULTADO DE COMANDO EJECUTADO #######################################\n",
      "##############################################################################################################\n",
      "\n",
      "############################################# COMANDO A EJECUTAR #############################################\n",
      "git branch\n",
      "####################################### RESULTADO DE COMANDO EJECUTADO #######################################\n",
      "* commit_branch\n",
      "  main\n",
      "  multi_commits\n",
      "  utils\n",
      "##############################################################################################################\n",
      "\n",
      "lista_de_archivos = ['info.txt', 'Dockerfile', 'Manifest.yaml', 'imagen.png', 'main.py', 'connection.java', 'calculos.c', 'addon.php', 'utils.gif', 'query.sql', 'dataset.avro', 'link.vs']\n",
      "############################################# COMANDO A EJECUTAR #############################################\n",
      "echo 1679722182.365134 >> info.txt\n",
      "####################################### RESULTADO DE COMANDO EJECUTADO #######################################\n",
      "##############################################################################################################\n",
      "\n",
      "############################################# COMANDO A EJECUTAR #############################################\n",
      "echo 1679722182.502817 >> Dockerfile\n",
      "####################################### RESULTADO DE COMANDO EJECUTADO #######################################\n",
      "##############################################################################################################\n",
      "\n",
      "############################################# COMANDO A EJECUTAR #############################################\n",
      "echo 1679722182.630345 >> Manifest.yaml\n",
      "####################################### RESULTADO DE COMANDO EJECUTADO #######################################\n",
      "##############################################################################################################\n",
      "\n",
      "############################################# COMANDO A EJECUTAR #############################################\n",
      "echo 1679722182.753655 >> imagen.png\n",
      "####################################### RESULTADO DE COMANDO EJECUTADO #######################################\n",
      "##############################################################################################################\n",
      "\n",
      "############################################# COMANDO A EJECUTAR #############################################\n",
      "echo 1679722182.887059 >> main.py\n",
      "####################################### RESULTADO DE COMANDO EJECUTADO #######################################\n",
      "##############################################################################################################\n",
      "\n",
      "############################################# COMANDO A EJECUTAR #############################################\n",
      "echo 1679722183.004691 >> connection.java\n",
      "####################################### RESULTADO DE COMANDO EJECUTADO #######################################\n",
      "##############################################################################################################\n",
      "\n",
      "############################################# COMANDO A EJECUTAR #############################################\n",
      "echo 1679722183.154431 >> calculos.c\n",
      "####################################### RESULTADO DE COMANDO EJECUTADO #######################################\n",
      "##############################################################################################################\n",
      "\n",
      "############################################# COMANDO A EJECUTAR #############################################\n",
      "echo 1679722183.321788 >> addon.php\n",
      "####################################### RESULTADO DE COMANDO EJECUTADO #######################################\n",
      "##############################################################################################################\n",
      "\n",
      "############################################# COMANDO A EJECUTAR #############################################\n",
      "echo 1679722183.459935 >> utils.gif\n",
      "####################################### RESULTADO DE COMANDO EJECUTADO #######################################\n",
      "##############################################################################################################\n",
      "\n",
      "############################################# COMANDO A EJECUTAR #############################################\n",
      "echo 1679722183.606891 >> query.sql\n",
      "####################################### RESULTADO DE COMANDO EJECUTADO #######################################\n",
      "##############################################################################################################\n",
      "\n",
      "############################################# COMANDO A EJECUTAR #############################################\n",
      "echo 1679722183.759946 >> dataset.avro\n",
      "####################################### RESULTADO DE COMANDO EJECUTADO #######################################\n",
      "##############################################################################################################\n",
      "\n",
      "############################################# COMANDO A EJECUTAR #############################################\n",
      "echo 1679722183.910261 >> link.vs\n",
      "####################################### RESULTADO DE COMANDO EJECUTADO #######################################\n",
      "##############################################################################################################\n",
      "\n",
      "############################################# COMANDO A EJECUTAR #############################################\n",
      "git add info.txt\n",
      "####################################### RESULTADO DE COMANDO EJECUTADO #######################################\n",
      "##############################################################################################################\n",
      "\n",
      "############################################# COMANDO A EJECUTAR #############################################\n",
      "git commit -m \"ADICIONADO ARCHIVO info.txt 2023-03-25 00:29:42.245702\"\n",
      "####################################### RESULTADO DE COMANDO EJECUTADO #######################################\n",
      "[commit_branch d7224ac] ADICIONADO ARCHIVO info.txt 2023-03-25 00:29:42.245702\n",
      " 1 file changed, 1 insertion(+)\n",
      " create mode 100644 info.txt\n",
      "##############################################################################################################\n",
      "\n",
      "############################################# COMANDO A EJECUTAR #############################################\n",
      "git add Dockerfile\n",
      "####################################### RESULTADO DE COMANDO EJECUTADO #######################################\n",
      "##############################################################################################################\n",
      "\n",
      "############################################# COMANDO A EJECUTAR #############################################\n",
      "git commit -m \"ADICIONADO ARCHIVO Dockerfile 2023-03-25 00:29:42.245702\"\n",
      "####################################### RESULTADO DE COMANDO EJECUTADO #######################################\n",
      "[commit_branch e4da978] ADICIONADO ARCHIVO Dockerfile 2023-03-25 00:29:42.245702\n",
      " 1 file changed, 1 insertion(+)\n",
      " create mode 100644 Dockerfile\n",
      "##############################################################################################################\n",
      "\n",
      "############################################# COMANDO A EJECUTAR #############################################\n",
      "git add Manifest.yaml\n",
      "####################################### RESULTADO DE COMANDO EJECUTADO #######################################\n",
      "##############################################################################################################\n",
      "\n",
      "############################################# COMANDO A EJECUTAR #############################################\n",
      "git commit -m \"ADICIONADO ARCHIVO Manifest.yaml 2023-03-25 00:29:42.245702\"\n",
      "####################################### RESULTADO DE COMANDO EJECUTADO #######################################\n",
      "[commit_branch 2d29cf7] ADICIONADO ARCHIVO Manifest.yaml 2023-03-25 00:29:42.245702\n",
      " 1 file changed, 1 insertion(+)\n",
      " create mode 100644 Manifest.yaml\n",
      "##############################################################################################################\n",
      "\n",
      "############################################# COMANDO A EJECUTAR #############################################\n",
      "git add imagen.png\n",
      "####################################### RESULTADO DE COMANDO EJECUTADO #######################################\n",
      "##############################################################################################################\n",
      "\n",
      "############################################# COMANDO A EJECUTAR #############################################\n",
      "git commit -m \"ADICIONADO ARCHIVO imagen.png 2023-03-25 00:29:42.245702\"\n",
      "####################################### RESULTADO DE COMANDO EJECUTADO #######################################\n",
      "[commit_branch fd336d3] ADICIONADO ARCHIVO imagen.png 2023-03-25 00:29:42.245702\n",
      " 1 file changed, 1 insertion(+)\n",
      " create mode 100644 imagen.png\n",
      "##############################################################################################################\n",
      "\n",
      "############################################# COMANDO A EJECUTAR #############################################\n",
      "git add main.py\n",
      "####################################### RESULTADO DE COMANDO EJECUTADO #######################################\n",
      "##############################################################################################################\n",
      "\n",
      "############################################# COMANDO A EJECUTAR #############################################\n",
      "git commit -m \"ADICIONADO ARCHIVO main.py 2023-03-25 00:29:42.245702\"\n",
      "####################################### RESULTADO DE COMANDO EJECUTADO #######################################\n",
      "[commit_branch f755eac] ADICIONADO ARCHIVO main.py 2023-03-25 00:29:42.245702\n",
      " 1 file changed, 1 insertion(+)\n",
      " create mode 100644 main.py\n",
      "##############################################################################################################\n",
      "\n",
      "############################################# COMANDO A EJECUTAR #############################################\n",
      "git add connection.java\n",
      "####################################### RESULTADO DE COMANDO EJECUTADO #######################################\n",
      "##############################################################################################################\n",
      "\n",
      "############################################# COMANDO A EJECUTAR #############################################\n",
      "git commit -m \"ADICIONADO ARCHIVO connection.java 2023-03-25 00:29:42.245702\"\n",
      "####################################### RESULTADO DE COMANDO EJECUTADO #######################################\n",
      "[commit_branch f9fcc2d] ADICIONADO ARCHIVO connection.java 2023-03-25 00:29:42.245702\n",
      " 1 file changed, 1 insertion(+)\n",
      " create mode 100644 connection.java\n",
      "##############################################################################################################\n",
      "\n",
      "############################################# COMANDO A EJECUTAR #############################################\n",
      "git add calculos.c\n",
      "####################################### RESULTADO DE COMANDO EJECUTADO #######################################\n",
      "##############################################################################################################\n",
      "\n",
      "############################################# COMANDO A EJECUTAR #############################################\n",
      "git commit -m \"ADICIONADO ARCHIVO calculos.c 2023-03-25 00:29:42.245702\"\n",
      "####################################### RESULTADO DE COMANDO EJECUTADO #######################################\n",
      "[commit_branch 778341c] ADICIONADO ARCHIVO calculos.c 2023-03-25 00:29:42.245702\n",
      " 1 file changed, 1 insertion(+)\n",
      " create mode 100644 calculos.c\n",
      "##############################################################################################################\n",
      "\n",
      "############################################# COMANDO A EJECUTAR #############################################\n",
      "git add addon.php\n",
      "####################################### RESULTADO DE COMANDO EJECUTADO #######################################\n",
      "##############################################################################################################\n",
      "\n",
      "############################################# COMANDO A EJECUTAR #############################################\n",
      "git commit -m \"ADICIONADO ARCHIVO addon.php 2023-03-25 00:29:42.245702\"\n",
      "####################################### RESULTADO DE COMANDO EJECUTADO #######################################\n",
      "[commit_branch 1959a41] ADICIONADO ARCHIVO addon.php 2023-03-25 00:29:42.245702\n",
      " 1 file changed, 1 insertion(+)\n",
      " create mode 100644 addon.php\n",
      "##############################################################################################################\n",
      "\n",
      "############################################# COMANDO A EJECUTAR #############################################\n",
      "git add utils.gif\n",
      "####################################### RESULTADO DE COMANDO EJECUTADO #######################################\n",
      "##############################################################################################################\n",
      "\n",
      "############################################# COMANDO A EJECUTAR #############################################\n",
      "git commit -m \"ADICIONADO ARCHIVO utils.gif 2023-03-25 00:29:42.245702\"\n",
      "####################################### RESULTADO DE COMANDO EJECUTADO #######################################\n",
      "[commit_branch 341d3e5] ADICIONADO ARCHIVO utils.gif 2023-03-25 00:29:42.245702\n",
      " 1 file changed, 1 insertion(+)\n",
      " create mode 100644 utils.gif\n",
      "##############################################################################################################\n",
      "\n",
      "############################################# COMANDO A EJECUTAR #############################################\n",
      "git add query.sql\n",
      "####################################### RESULTADO DE COMANDO EJECUTADO #######################################\n",
      "##############################################################################################################\n",
      "\n",
      "############################################# COMANDO A EJECUTAR #############################################\n",
      "git commit -m \"ADICIONADO ARCHIVO query.sql 2023-03-25 00:29:42.245702\"\n",
      "####################################### RESULTADO DE COMANDO EJECUTADO #######################################\n",
      "[commit_branch 3a4c895] ADICIONADO ARCHIVO query.sql 2023-03-25 00:29:42.245702\n",
      " 1 file changed, 1 insertion(+)\n",
      " create mode 100644 query.sql\n",
      "##############################################################################################################\n",
      "\n",
      "############################################# COMANDO A EJECUTAR #############################################\n",
      "git add dataset.avro\n",
      "####################################### RESULTADO DE COMANDO EJECUTADO #######################################\n",
      "##############################################################################################################\n",
      "\n",
      "############################################# COMANDO A EJECUTAR #############################################\n",
      "git commit -m \"ADICIONADO ARCHIVO dataset.avro 2023-03-25 00:29:42.245702\"\n",
      "####################################### RESULTADO DE COMANDO EJECUTADO #######################################\n",
      "[commit_branch 7cd8cf6] ADICIONADO ARCHIVO dataset.avro 2023-03-25 00:29:42.245702\n",
      " 1 file changed, 1 insertion(+)\n",
      " create mode 100644 dataset.avro\n",
      "##############################################################################################################\n",
      "\n",
      "############################################# COMANDO A EJECUTAR #############################################\n",
      "git add link.vs\n",
      "####################################### RESULTADO DE COMANDO EJECUTADO #######################################\n",
      "##############################################################################################################\n",
      "\n",
      "############################################# COMANDO A EJECUTAR #############################################\n",
      "git commit -m \"ADICIONADO ARCHIVO link.vs 2023-03-25 00:29:42.245702\"\n",
      "####################################### RESULTADO DE COMANDO EJECUTADO #######################################\n",
      "[commit_branch 86c7287] ADICIONADO ARCHIVO link.vs 2023-03-25 00:29:42.245702\n",
      " 1 file changed, 1 insertion(+)\n",
      " create mode 100644 link.vs\n",
      "##############################################################################################################\n",
      "\n",
      "############################################# COMANDO A EJECUTAR #############################################\n",
      "git status\n",
      "####################################### RESULTADO DE COMANDO EJECUTADO #######################################\n",
      "On branch commit_branch\n",
      "nothing to commit, working tree clean\n",
      "##############################################################################################################\n",
      "\n",
      "############################################# COMANDO A EJECUTAR #############################################\n",
      "git log --graph --oneline\n",
      "####################################### RESULTADO DE COMANDO EJECUTADO #######################################\n",
      "* 86c7287 ADICIONADO ARCHIVO link.vs 2023-03-25 00:29:42.245702\n",
      "* 7cd8cf6 ADICIONADO ARCHIVO dataset.avro 2023-03-25 00:29:42.245702\n",
      "* 3a4c895 ADICIONADO ARCHIVO query.sql 2023-03-25 00:29:42.245702\n",
      "* 341d3e5 ADICIONADO ARCHIVO utils.gif 2023-03-25 00:29:42.245702\n",
      "* 1959a41 ADICIONADO ARCHIVO addon.php 2023-03-25 00:29:42.245702\n",
      "* 778341c ADICIONADO ARCHIVO calculos.c 2023-03-25 00:29:42.245702\n",
      "* f9fcc2d ADICIONADO ARCHIVO connection.java 2023-03-25 00:29:42.245702\n",
      "* f755eac ADICIONADO ARCHIVO main.py 2023-03-25 00:29:42.245702\n",
      "* fd336d3 ADICIONADO ARCHIVO imagen.png 2023-03-25 00:29:42.245702\n",
      "* 2d29cf7 ADICIONADO ARCHIVO Manifest.yaml 2023-03-25 00:29:42.245702\n",
      "* e4da978 ADICIONADO ARCHIVO Dockerfile 2023-03-25 00:29:42.245702\n",
      "* d7224ac ADICIONADO ARCHIVO info.txt 2023-03-25 00:29:42.245702\n",
      "* 3b4edb5 adicionados archivo de configuracion y requerimientos\n",
      "* d15fad2 Initial commit\n",
      "##############################################################################################################\n",
      "\n",
      "############################################# COMANDO A EJECUTAR #############################################\n",
      "git push --set-upstream origin commit_branch\n",
      "####################################### RESULTADO DE COMANDO EJECUTADO #######################################\n",
      "Branch 'commit_branch' set up to track remote branch 'commit_branch' from 'origin'.\n",
      "##############################################################################################################\n",
      "\n",
      "############################################# COMANDO A EJECUTAR #############################################\n",
      "git branch\n",
      "####################################### RESULTADO DE COMANDO EJECUTADO #######################################\n",
      "* commit_branch\n",
      "  main\n",
      "  multi_commits\n",
      "  utils\n",
      "##############################################################################################################\n",
      "\n"
     ]
    }
   ],
   "source": [
    "nombre_rama = 'commit_branch'\n",
    "generar_archivos_y_hacer_commit(nombre_rama=nombre_rama)"
   ]
  },
  {
   "cell_type": "code",
   "execution_count": 110,
   "id": "211d14be-1715-43f4-afa9-bc07f11c5992",
   "metadata": {
    "scrolled": true,
    "tags": []
   },
   "outputs": [
    {
     "name": "stdout",
     "output_type": "stream",
     "text": [
      "############################################# COMANDO A EJECUTAR #############################################\n",
      "git log\n",
      "####################################### RESULTADO DE COMANDO EJECUTADO #######################################\n",
      "commit 86c7287d2d0f865c38d190275a3e6b49fbe5f638\n",
      "Author: PARADIGMA\\QiDimMak <jorgecardona@utp.edu.co>\n",
      "Date:   Sat Mar 25 00:29:45 2023 -0500\n",
      "\n",
      "    ADICIONADO ARCHIVO link.vs 2023-03-25 00:29:42.245702\n",
      "\n",
      "commit 7cd8cf6191677894d0b27f26355b55d27b9a071f\n",
      "Author: PARADIGMA\\QiDimMak <jorgecardona@utp.edu.co>\n",
      "Date:   Sat Mar 25 00:29:45 2023 -0500\n",
      "\n",
      "    ADICIONADO ARCHIVO dataset.avro 2023-03-25 00:29:42.245702\n",
      "\n",
      "commit 3a4c89545030d9b8dbc366b7604f878771589797\n",
      "Author: PARADIGMA\\QiDimMak <jorgecardona@utp.edu.co>\n",
      "Date:   Sat Mar 25 00:29:45 2023 -0500\n",
      "\n",
      "    ADICIONADO ARCHIVO query.sql 2023-03-25 00:29:42.245702\n",
      "\n",
      "commit 341d3e508385a6b71a26281c880110a50e7a3db2\n",
      "Author: PARADIGMA\\QiDimMak <jorgecardona@utp.edu.co>\n",
      "Date:   Sat Mar 25 00:29:45 2023 -0500\n",
      "\n",
      "    ADICIONADO ARCHIVO utils.gif 2023-03-25 00:29:42.245702\n",
      "\n",
      "commit 1959a41720980f7231b635fa59858306caa61c19\n",
      "Author: PARADIGMA\\QiDimMak <jorgecardona@utp.edu.co>\n",
      "Date:   Sat Mar 25 00:29:45 2023 -0500\n",
      "\n",
      "    ADICIONADO ARCHIVO addon.php 2023-03-25 00:29:42.245702\n",
      "\n",
      "commit 778341c8e1471890730fd85da614b07ea7d8bf98\n",
      "Author: PARADIGMA\\QiDimMak <jorgecardona@utp.edu.co>\n",
      "Date:   Sat Mar 25 00:29:44 2023 -0500\n",
      "\n",
      "    ADICIONADO ARCHIVO calculos.c 2023-03-25 00:29:42.245702\n",
      "\n",
      "commit f9fcc2d9235fe05a1b6da4dfab47e073d4ae42ce\n",
      "Author: PARADIGMA\\QiDimMak <jorgecardona@utp.edu.co>\n",
      "Date:   Sat Mar 25 00:29:44 2023 -0500\n",
      "\n",
      "    ADICIONADO ARCHIVO connection.java 2023-03-25 00:29:42.245702\n",
      "\n",
      "commit f755eac4b2d0db1b35b2d8b4987fd1d25d9e9e88\n",
      "Author: PARADIGMA\\QiDimMak <jorgecardona@utp.edu.co>\n",
      "Date:   Sat Mar 25 00:29:44 2023 -0500\n",
      "\n",
      "    ADICIONADO ARCHIVO main.py 2023-03-25 00:29:42.245702\n",
      "\n",
      "commit fd336d36c851c49d2f9db91b2d39ab400f6fceb0\n",
      "Author: PARADIGMA\\QiDimMak <jorgecardona@utp.edu.co>\n",
      "Date:   Sat Mar 25 00:29:44 2023 -0500\n",
      "\n",
      "    ADICIONADO ARCHIVO imagen.png 2023-03-25 00:29:42.245702\n",
      "\n",
      "commit 2d29cf722b4bd4be8b30f0ed07fb8bb8a4c8909c\n",
      "Author: PARADIGMA\\QiDimMak <jorgecardona@utp.edu.co>\n",
      "Date:   Sat Mar 25 00:29:44 2023 -0500\n",
      "\n",
      "    ADICIONADO ARCHIVO Manifest.yaml 2023-03-25 00:29:42.245702\n",
      "\n",
      "commit e4da9789c764e9b18c0e6fd68452e3c984ea0b7c\n",
      "Author: PARADIGMA\\QiDimMak <jorgecardona@utp.edu.co>\n",
      "Date:   Sat Mar 25 00:29:44 2023 -0500\n",
      "\n",
      "    ADICIONADO ARCHIVO Dockerfile 2023-03-25 00:29:42.245702\n",
      "\n",
      "commit d7224acd0a21a58e7844f94aecc6620cae835d4a\n",
      "Author: PARADIGMA\\QiDimMak <jorgecardona@utp.edu.co>\n",
      "Date:   Sat Mar 25 00:29:44 2023 -0500\n",
      "\n",
      "    ADICIONADO ARCHIVO info.txt 2023-03-25 00:29:42.245702\n",
      "\n",
      "commit 3b4edb5a785dcc5841b35cd2ad93033cd29cb730\n",
      "Author: PARADIGMA\\QiDimMak <jorgecardona@utp.edu.co>\n",
      "Date:   Fri Mar 17 20:39:55 2023 -0500\n",
      "\n",
      "    adicionados archivo de configuracion y requerimientos\n",
      "\n",
      "commit d15fad27cb8d1bcb6a0e697ef02e2d787dc51b48\n",
      "Author: JorgeCardona <jorgecardona@utp.edu.co>\n",
      "Date:   Fri Mar 17 20:27:49 2023 -0500\n",
      "\n",
      "    Initial commit\n",
      "##############################################################################################################\n",
      "\n",
      "############################################# COMANDO A EJECUTAR #############################################\n",
      "git branch\n",
      "####################################### RESULTADO DE COMANDO EJECUTADO #######################################\n",
      "* commit_branch\n",
      "  main\n",
      "  multi_commits\n",
      "  utils\n",
      "##############################################################################################################\n",
      "\n"
     ]
    }
   ],
   "source": [
    "comando = 'git log'\n",
    "ejecutar_comando_git(comando)\n",
    "\n",
    "ejecutar_comando_shell()"
   ]
  },
  {
   "cell_type": "markdown",
   "id": "b26c3022-d94b-4132-a63b-913a1522da1c",
   "metadata": {},
   "source": [
    "### VER HISTORIAL DE LOS ULTIMOS n COMMITS"
   ]
  },
  {
   "cell_type": "code",
   "execution_count": 111,
   "id": "de4a869a-edc0-478a-ae34-79ea94a30018",
   "metadata": {
    "scrolled": true,
    "tags": []
   },
   "outputs": [
    {
     "name": "stdout",
     "output_type": "stream",
     "text": [
      "############################################# COMANDO A EJECUTAR #############################################\n",
      "git log -3\n",
      "####################################### RESULTADO DE COMANDO EJECUTADO #######################################\n",
      "commit 86c7287d2d0f865c38d190275a3e6b49fbe5f638\n",
      "Author: PARADIGMA\\QiDimMak <jorgecardona@utp.edu.co>\n",
      "Date:   Sat Mar 25 00:29:45 2023 -0500\n",
      "\n",
      "    ADICIONADO ARCHIVO link.vs 2023-03-25 00:29:42.245702\n",
      "\n",
      "commit 7cd8cf6191677894d0b27f26355b55d27b9a071f\n",
      "Author: PARADIGMA\\QiDimMak <jorgecardona@utp.edu.co>\n",
      "Date:   Sat Mar 25 00:29:45 2023 -0500\n",
      "\n",
      "    ADICIONADO ARCHIVO dataset.avro 2023-03-25 00:29:42.245702\n",
      "\n",
      "commit 3a4c89545030d9b8dbc366b7604f878771589797\n",
      "Author: PARADIGMA\\QiDimMak <jorgecardona@utp.edu.co>\n",
      "Date:   Sat Mar 25 00:29:45 2023 -0500\n",
      "\n",
      "    ADICIONADO ARCHIVO query.sql 2023-03-25 00:29:42.245702\n",
      "##############################################################################################################\n",
      "\n",
      "############################################# COMANDO A EJECUTAR #############################################\n",
      "git branch\n",
      "####################################### RESULTADO DE COMANDO EJECUTADO #######################################\n",
      "* commit_branch\n",
      "  main\n",
      "  multi_commits\n",
      "  utils\n",
      "##############################################################################################################\n",
      "\n"
     ]
    }
   ],
   "source": [
    "comando = 'git log -3' \n",
    "ejecutar_comando_git(comando)\n",
    "\n",
    "ejecutar_comando_shell()"
   ]
  },
  {
   "cell_type": "markdown",
   "id": "17309b57-9e0f-4b16-81db-abfe3f07d762",
   "metadata": {},
   "source": [
    "### VER HISTORIAL RESUMIDO DE UNA RAMA"
   ]
  },
  {
   "cell_type": "code",
   "execution_count": 112,
   "id": "28b90f01-56d6-4474-822e-5f38e384198c",
   "metadata": {
    "tags": []
   },
   "outputs": [
    {
     "name": "stdout",
     "output_type": "stream",
     "text": [
      "############################################# COMANDO A EJECUTAR #############################################\n",
      "git log --oneline\n",
      "####################################### RESULTADO DE COMANDO EJECUTADO #######################################\n",
      "86c7287 ADICIONADO ARCHIVO link.vs 2023-03-25 00:29:42.245702\n",
      "7cd8cf6 ADICIONADO ARCHIVO dataset.avro 2023-03-25 00:29:42.245702\n",
      "3a4c895 ADICIONADO ARCHIVO query.sql 2023-03-25 00:29:42.245702\n",
      "341d3e5 ADICIONADO ARCHIVO utils.gif 2023-03-25 00:29:42.245702\n",
      "1959a41 ADICIONADO ARCHIVO addon.php 2023-03-25 00:29:42.245702\n",
      "778341c ADICIONADO ARCHIVO calculos.c 2023-03-25 00:29:42.245702\n",
      "f9fcc2d ADICIONADO ARCHIVO connection.java 2023-03-25 00:29:42.245702\n",
      "f755eac ADICIONADO ARCHIVO main.py 2023-03-25 00:29:42.245702\n",
      "fd336d3 ADICIONADO ARCHIVO imagen.png 2023-03-25 00:29:42.245702\n",
      "2d29cf7 ADICIONADO ARCHIVO Manifest.yaml 2023-03-25 00:29:42.245702\n",
      "e4da978 ADICIONADO ARCHIVO Dockerfile 2023-03-25 00:29:42.245702\n",
      "d7224ac ADICIONADO ARCHIVO info.txt 2023-03-25 00:29:42.245702\n",
      "3b4edb5 adicionados archivo de configuracion y requerimientos\n",
      "d15fad2 Initial commit\n",
      "##############################################################################################################\n",
      "\n",
      "############################################# COMANDO A EJECUTAR #############################################\n",
      "git branch\n",
      "####################################### RESULTADO DE COMANDO EJECUTADO #######################################\n",
      "* commit_branch\n",
      "  main\n",
      "  multi_commits\n",
      "  utils\n",
      "##############################################################################################################\n",
      "\n"
     ]
    }
   ],
   "source": [
    "comando = 'git log --oneline'\n",
    "ejecutar_comando_git(comando)\n",
    "ejecutar_comando_shell()"
   ]
  },
  {
   "cell_type": "markdown",
   "id": "a57c7d34-4621-4be8-8f00-39ddb3be0f80",
   "metadata": {},
   "source": [
    "### VER HISTORIAL RESUMIDO DE UNA RAMA DE n COMMITS"
   ]
  },
  {
   "cell_type": "code",
   "execution_count": 113,
   "id": "bf2b7b79-80c3-48ac-95fa-0d0afa8e8439",
   "metadata": {
    "tags": []
   },
   "outputs": [
    {
     "name": "stdout",
     "output_type": "stream",
     "text": [
      "############################################# COMANDO A EJECUTAR #############################################\n",
      "git log --oneline -3\n",
      "####################################### RESULTADO DE COMANDO EJECUTADO #######################################\n",
      "86c7287 ADICIONADO ARCHIVO link.vs 2023-03-25 00:29:42.245702\n",
      "7cd8cf6 ADICIONADO ARCHIVO dataset.avro 2023-03-25 00:29:42.245702\n",
      "3a4c895 ADICIONADO ARCHIVO query.sql 2023-03-25 00:29:42.245702\n",
      "##############################################################################################################\n",
      "\n",
      "############################################# COMANDO A EJECUTAR #############################################\n",
      "git branch\n",
      "####################################### RESULTADO DE COMANDO EJECUTADO #######################################\n",
      "* commit_branch\n",
      "  main\n",
      "  multi_commits\n",
      "  utils\n",
      "##############################################################################################################\n",
      "\n"
     ]
    }
   ],
   "source": [
    "comando = 'git log --oneline -3'\n",
    "ejecutar_comando_git(comando)\n",
    "ejecutar_comando_shell()"
   ]
  },
  {
   "cell_type": "markdown",
   "id": "20ab2987-4dc0-4b32-b64e-d9ad8765899b",
   "metadata": {},
   "source": [
    "## VER HISTORIAL RESUMIDO DE UNA RAMA SIN ESTAR EN LA RAMA"
   ]
  },
  {
   "cell_type": "code",
   "execution_count": 114,
   "id": "36a25ca6-500b-4f32-8596-be5124db2755",
   "metadata": {
    "tags": []
   },
   "outputs": [
    {
     "name": "stdout",
     "output_type": "stream",
     "text": [
      "############################################# COMANDO A EJECUTAR #############################################\n",
      "git log --oneline main\n",
      "####################################### RESULTADO DE COMANDO EJECUTADO #######################################\n",
      "3b4edb5 adicionados archivo de configuracion y requerimientos\n",
      "d15fad2 Initial commit\n",
      "##############################################################################################################\n",
      "\n",
      "############################################# COMANDO A EJECUTAR #############################################\n",
      "git branch\n",
      "####################################### RESULTADO DE COMANDO EJECUTADO #######################################\n",
      "* commit_branch\n",
      "  main\n",
      "  multi_commits\n",
      "  utils\n",
      "##############################################################################################################\n",
      "\n"
     ]
    }
   ],
   "source": [
    "comando = 'git log --oneline main'\n",
    "ejecutar_comando_git(comando)\n",
    "ejecutar_comando_shell()"
   ]
  },
  {
   "cell_type": "markdown",
   "id": "a49ba8d3-b16c-4c21-aa5f-cabf2a11262c",
   "metadata": {},
   "source": [
    "### VER HISTORIAL DE n COMMITS Y MOSTRAR LOS CAMBIOS ESPECIFICOS DE ESOS COMMITS"
   ]
  },
  {
   "cell_type": "code",
   "execution_count": 115,
   "id": "c11ada4a-b616-4342-9f70-6404941eb817",
   "metadata": {
    "scrolled": true,
    "tags": []
   },
   "outputs": [
    {
     "name": "stdout",
     "output_type": "stream",
     "text": [
      "############################################# COMANDO A EJECUTAR #############################################\n",
      "git log -2 -p\n",
      "####################################### RESULTADO DE COMANDO EJECUTADO #######################################\n",
      "commit 86c7287d2d0f865c38d190275a3e6b49fbe5f638\n",
      "Author: PARADIGMA\\QiDimMak <jorgecardona@utp.edu.co>\n",
      "Date:   Sat Mar 25 00:29:45 2023 -0500\n",
      "\n",
      "    ADICIONADO ARCHIVO link.vs 2023-03-25 00:29:42.245702\n",
      "\n",
      "diff --git a/link.vs b/link.vs\n",
      "new file mode 100644\n",
      "index 0000000..d2644d8\n",
      "--- /dev/null\n",
      "+++ b/link.vs\n",
      "@@ -0,0 +1 @@\n",
      "+1679722183.910261 \n",
      "\n",
      "commit 7cd8cf6191677894d0b27f26355b55d27b9a071f\n",
      "Author: PARADIGMA\\QiDimMak <jorgecardona@utp.edu.co>\n",
      "Date:   Sat Mar 25 00:29:45 2023 -0500\n",
      "\n",
      "    ADICIONADO ARCHIVO dataset.avro 2023-03-25 00:29:42.245702\n",
      "\n",
      "diff --git a/dataset.avro b/dataset.avro\n",
      "new file mode 100644\n",
      "index 0000000..f9c0eca\n",
      "--- /dev/null\n",
      "+++ b/dataset.avro\n",
      "@@ -0,0 +1 @@\n",
      "+1679722183.759946 \n",
      "##############################################################################################################\n",
      "\n",
      "############################################# COMANDO A EJECUTAR #############################################\n",
      "git branch\n",
      "####################################### RESULTADO DE COMANDO EJECUTADO #######################################\n",
      "* commit_branch\n",
      "  main\n",
      "  multi_commits\n",
      "  utils\n",
      "##############################################################################################################\n",
      "\n"
     ]
    }
   ],
   "source": [
    "comando = 'git log -2 -p'\n",
    "ejecutar_comando_git(comando)\n",
    "ejecutar_comando_shell()"
   ]
  },
  {
   "cell_type": "markdown",
   "id": "1edb9254-ecc7-4e14-9c3d-1c5bb60ee8a9",
   "metadata": {},
   "source": [
    "### VER HISTORIAL DE n COMMITS Y MOSTRAR LOS CAMBIOS ESPECIFICOS DE ESOS COMMITS USANDO **SHOW**"
   ]
  },
  {
   "cell_type": "code",
   "execution_count": 116,
   "id": "73169185-d4db-4a90-b5e6-224fc9ac88fc",
   "metadata": {
    "scrolled": true,
    "tags": []
   },
   "outputs": [
    {
     "name": "stdout",
     "output_type": "stream",
     "text": [
      "############################################# COMANDO A EJECUTAR #############################################\n",
      "git show -2\n",
      "####################################### RESULTADO DE COMANDO EJECUTADO #######################################\n",
      "commit 86c7287d2d0f865c38d190275a3e6b49fbe5f638\n",
      "Author: PARADIGMA\\QiDimMak <jorgecardona@utp.edu.co>\n",
      "Date:   Sat Mar 25 00:29:45 2023 -0500\n",
      "\n",
      "    ADICIONADO ARCHIVO link.vs 2023-03-25 00:29:42.245702\n",
      "\n",
      "diff --git a/link.vs b/link.vs\n",
      "new file mode 100644\n",
      "index 0000000..d2644d8\n",
      "--- /dev/null\n",
      "+++ b/link.vs\n",
      "@@ -0,0 +1 @@\n",
      "+1679722183.910261 \n",
      "\n",
      "commit 7cd8cf6191677894d0b27f26355b55d27b9a071f\n",
      "Author: PARADIGMA\\QiDimMak <jorgecardona@utp.edu.co>\n",
      "Date:   Sat Mar 25 00:29:45 2023 -0500\n",
      "\n",
      "    ADICIONADO ARCHIVO dataset.avro 2023-03-25 00:29:42.245702\n",
      "\n",
      "diff --git a/dataset.avro b/dataset.avro\n",
      "new file mode 100644\n",
      "index 0000000..f9c0eca\n",
      "--- /dev/null\n",
      "+++ b/dataset.avro\n",
      "@@ -0,0 +1 @@\n",
      "+1679722183.759946 \n",
      "##############################################################################################################\n",
      "\n",
      "############################################# COMANDO A EJECUTAR #############################################\n",
      "git branch\n",
      "####################################### RESULTADO DE COMANDO EJECUTADO #######################################\n",
      "* commit_branch\n",
      "  main\n",
      "  multi_commits\n",
      "  utils\n",
      "##############################################################################################################\n",
      "\n"
     ]
    }
   ],
   "source": [
    "comando = 'git show -2'\n",
    "ejecutar_comando_git(comando)\n",
    "ejecutar_comando_shell()"
   ]
  },
  {
   "cell_type": "markdown",
   "id": "6aefdda1-9272-423c-91db-7fa36d0fa9a1",
   "metadata": {},
   "source": [
    "### VER HISTORIAL RESUMIDO DE n COMMITS Y MOSTRAR LOS CAMBIOS ESPECIFICOS DE ESOS COMMITS"
   ]
  },
  {
   "cell_type": "code",
   "execution_count": 117,
   "id": "cb0f0b2b-53cd-469e-8a42-581d08748748",
   "metadata": {
    "scrolled": true,
    "tags": []
   },
   "outputs": [
    {
     "name": "stdout",
     "output_type": "stream",
     "text": [
      "############################################# COMANDO A EJECUTAR #############################################\n",
      "git log --oneline -2 -p\n",
      "####################################### RESULTADO DE COMANDO EJECUTADO #######################################\n",
      "86c7287 ADICIONADO ARCHIVO link.vs 2023-03-25 00:29:42.245702\n",
      "diff --git a/link.vs b/link.vs\n",
      "new file mode 100644\n",
      "index 0000000..d2644d8\n",
      "--- /dev/null\n",
      "+++ b/link.vs\n",
      "@@ -0,0 +1 @@\n",
      "+1679722183.910261 \n",
      "7cd8cf6 ADICIONADO ARCHIVO dataset.avro 2023-03-25 00:29:42.245702\n",
      "diff --git a/dataset.avro b/dataset.avro\n",
      "new file mode 100644\n",
      "index 0000000..f9c0eca\n",
      "--- /dev/null\n",
      "+++ b/dataset.avro\n",
      "@@ -0,0 +1 @@\n",
      "+1679722183.759946 \n",
      "##############################################################################################################\n",
      "\n",
      "############################################# COMANDO A EJECUTAR #############################################\n",
      "git branch\n",
      "####################################### RESULTADO DE COMANDO EJECUTADO #######################################\n",
      "* commit_branch\n",
      "  main\n",
      "  multi_commits\n",
      "  utils\n",
      "##############################################################################################################\n",
      "\n"
     ]
    }
   ],
   "source": [
    "comando = 'git log --oneline -2 -p'\n",
    "ejecutar_comando_git(comando)\n",
    "ejecutar_comando_shell()"
   ]
  },
  {
   "cell_type": "markdown",
   "id": "df29e830-8479-4e2c-8644-3fef5af5b17e",
   "metadata": {},
   "source": [
    "### VER HISTORIAL DE n COMMITS ANTES DE UNA FECHA ESPECIFICA"
   ]
  },
  {
   "cell_type": "code",
   "execution_count": 118,
   "id": "2b07cfd9-5ea6-4002-b5cc-b246e3b9d4e3",
   "metadata": {
    "tags": []
   },
   "outputs": [
    {
     "name": "stdout",
     "output_type": "stream",
     "text": [
      "############################################# COMANDO A EJECUTAR #############################################\n",
      "git log --oneline --before={2019-05-30}\n",
      "####################################### RESULTADO DE COMANDO EJECUTADO #######################################\n",
      "##############################################################################################################\n",
      "\n",
      "############################################# COMANDO A EJECUTAR #############################################\n",
      "git branch\n",
      "####################################### RESULTADO DE COMANDO EJECUTADO #######################################\n",
      "* commit_branch\n",
      "  main\n",
      "  multi_commits\n",
      "  utils\n",
      "##############################################################################################################\n",
      "\n"
     ]
    }
   ],
   "source": [
    "comando = 'git log --oneline --before={2019-05-30}'\n",
    "ejecutar_comando_git(comando)\n",
    "ejecutar_comando_shell()"
   ]
  },
  {
   "cell_type": "markdown",
   "id": "e74d219e-f350-44a4-b6ad-a2feadadb3dd",
   "metadata": {},
   "source": [
    "### VER HISTORIAL DE n COMMITS DESPUES DE UNA FECHA ESPECIFICA"
   ]
  },
  {
   "cell_type": "code",
   "execution_count": 119,
   "id": "7dd64c76-20c0-41da-b503-92cb0308c4aa",
   "metadata": {
    "tags": []
   },
   "outputs": [
    {
     "name": "stdout",
     "output_type": "stream",
     "text": [
      "############################################# COMANDO A EJECUTAR #############################################\n",
      "git log --oneline --after={2019-05-30}\n",
      "####################################### RESULTADO DE COMANDO EJECUTADO #######################################\n",
      "86c7287 ADICIONADO ARCHIVO link.vs 2023-03-25 00:29:42.245702\n",
      "7cd8cf6 ADICIONADO ARCHIVO dataset.avro 2023-03-25 00:29:42.245702\n",
      "3a4c895 ADICIONADO ARCHIVO query.sql 2023-03-25 00:29:42.245702\n",
      "341d3e5 ADICIONADO ARCHIVO utils.gif 2023-03-25 00:29:42.245702\n",
      "1959a41 ADICIONADO ARCHIVO addon.php 2023-03-25 00:29:42.245702\n",
      "778341c ADICIONADO ARCHIVO calculos.c 2023-03-25 00:29:42.245702\n",
      "f9fcc2d ADICIONADO ARCHIVO connection.java 2023-03-25 00:29:42.245702\n",
      "f755eac ADICIONADO ARCHIVO main.py 2023-03-25 00:29:42.245702\n",
      "fd336d3 ADICIONADO ARCHIVO imagen.png 2023-03-25 00:29:42.245702\n",
      "2d29cf7 ADICIONADO ARCHIVO Manifest.yaml 2023-03-25 00:29:42.245702\n",
      "e4da978 ADICIONADO ARCHIVO Dockerfile 2023-03-25 00:29:42.245702\n",
      "d7224ac ADICIONADO ARCHIVO info.txt 2023-03-25 00:29:42.245702\n",
      "3b4edb5 adicionados archivo de configuracion y requerimientos\n",
      "d15fad2 Initial commit\n",
      "##############################################################################################################\n",
      "\n",
      "############################################# COMANDO A EJECUTAR #############################################\n",
      "git branch\n",
      "####################################### RESULTADO DE COMANDO EJECUTADO #######################################\n",
      "* commit_branch\n",
      "  main\n",
      "  multi_commits\n",
      "  utils\n",
      "##############################################################################################################\n",
      "\n"
     ]
    }
   ],
   "source": [
    "comando = 'git log --oneline --after={2019-05-30}'\n",
    "ejecutar_comando_git(comando)\n",
    "ejecutar_comando_shell()"
   ]
  },
  {
   "cell_type": "markdown",
   "id": "217687fd-57f7-45f5-920b-acd6cebd4c50",
   "metadata": {
    "tags": []
   },
   "source": [
    "### VER HISTORIAL DE QUIEN HA MANIPULADO UN ARCHIVO ESPECIFICO"
   ]
  },
  {
   "cell_type": "code",
   "execution_count": 120,
   "id": "1e2b697f-01c1-43e5-953d-32892dc88372",
   "metadata": {
    "tags": []
   },
   "outputs": [
    {
     "name": "stdout",
     "output_type": "stream",
     "text": [
      "############################################# COMANDO A EJECUTAR #############################################\n",
      "git blame info.txt\n",
      "####################################### RESULTADO DE COMANDO EJECUTADO #######################################\n",
      "d7224acd (PARADIGMA\\QiDimMak 2023-03-25 00:29:44 -0500 1) 1679722182.365134 \n",
      "##############################################################################################################\n",
      "\n",
      "############################################# COMANDO A EJECUTAR #############################################\n",
      "git branch\n",
      "####################################### RESULTADO DE COMANDO EJECUTADO #######################################\n",
      "* commit_branch\n",
      "  main\n",
      "  multi_commits\n",
      "  utils\n",
      "##############################################################################################################\n",
      "\n"
     ]
    }
   ],
   "source": [
    "comando = 'git blame info.txt'\n",
    "ejecutar_comando_git(comando)\n",
    "ejecutar_comando_shell()"
   ]
  },
  {
   "cell_type": "markdown",
   "id": "a3cec8be-f59d-4ebe-a599-cbd901f81cd0",
   "metadata": {},
   "source": [
    "### VER HISTORIAL DE n COMMITS EN UN DIAGRAMA DE GRAFO"
   ]
  },
  {
   "cell_type": "code",
   "execution_count": 121,
   "id": "66aee900-f963-44c4-8c05-635119dabdee",
   "metadata": {
    "tags": []
   },
   "outputs": [
    {
     "name": "stdout",
     "output_type": "stream",
     "text": [
      "############################################# COMANDO A EJECUTAR #############################################\n",
      "git log --graph --oneline\n",
      "####################################### RESULTADO DE COMANDO EJECUTADO #######################################\n",
      "* 86c7287 ADICIONADO ARCHIVO link.vs 2023-03-25 00:29:42.245702\n",
      "* 7cd8cf6 ADICIONADO ARCHIVO dataset.avro 2023-03-25 00:29:42.245702\n",
      "* 3a4c895 ADICIONADO ARCHIVO query.sql 2023-03-25 00:29:42.245702\n",
      "* 341d3e5 ADICIONADO ARCHIVO utils.gif 2023-03-25 00:29:42.245702\n",
      "* 1959a41 ADICIONADO ARCHIVO addon.php 2023-03-25 00:29:42.245702\n",
      "* 778341c ADICIONADO ARCHIVO calculos.c 2023-03-25 00:29:42.245702\n",
      "* f9fcc2d ADICIONADO ARCHIVO connection.java 2023-03-25 00:29:42.245702\n",
      "* f755eac ADICIONADO ARCHIVO main.py 2023-03-25 00:29:42.245702\n",
      "* fd336d3 ADICIONADO ARCHIVO imagen.png 2023-03-25 00:29:42.245702\n",
      "* 2d29cf7 ADICIONADO ARCHIVO Manifest.yaml 2023-03-25 00:29:42.245702\n",
      "* e4da978 ADICIONADO ARCHIVO Dockerfile 2023-03-25 00:29:42.245702\n",
      "* d7224ac ADICIONADO ARCHIVO info.txt 2023-03-25 00:29:42.245702\n",
      "* 3b4edb5 adicionados archivo de configuracion y requerimientos\n",
      "* d15fad2 Initial commit\n",
      "##############################################################################################################\n",
      "\n",
      "############################################# COMANDO A EJECUTAR #############################################\n",
      "git branch\n",
      "####################################### RESULTADO DE COMANDO EJECUTADO #######################################\n",
      "* commit_branch\n",
      "  main\n",
      "  multi_commits\n",
      "  utils\n",
      "##############################################################################################################\n",
      "\n"
     ]
    }
   ],
   "source": [
    "comando = 'git log --graph --oneline'\n",
    "ejecutar_comando_git(comando)\n",
    "ejecutar_comando_shell()"
   ]
  },
  {
   "cell_type": "markdown",
   "id": "65b9e1b4-e891-4278-a47b-da05baba44e1",
   "metadata": {},
   "source": [
    "### VER HISTORIAL DE n COMMITS EN UN DIAGRAMA DE GRAFO MAS DETALLADO"
   ]
  },
  {
   "cell_type": "code",
   "execution_count": 122,
   "id": "3a683d18-d8b4-426b-b9fd-e9a2b7bc664f",
   "metadata": {
    "tags": []
   },
   "outputs": [
    {
     "name": "stdout",
     "output_type": "stream",
     "text": [
      "############################################# COMANDO A EJECUTAR #############################################\n",
      "git log --decorate --graph --oneline --all\n",
      "####################################### RESULTADO DE COMANDO EJECUTADO #######################################\n",
      "* 86c7287 (HEAD -> commit_branch, origin/commit_branch) ADICIONADO ARCHIVO link.vs 2023-03-25 00:29:42.245702\n",
      "* 7cd8cf6 ADICIONADO ARCHIVO dataset.avro 2023-03-25 00:29:42.245702\n",
      "* 3a4c895 ADICIONADO ARCHIVO query.sql 2023-03-25 00:29:42.245702\n",
      "* 341d3e5 ADICIONADO ARCHIVO utils.gif 2023-03-25 00:29:42.245702\n",
      "* 1959a41 ADICIONADO ARCHIVO addon.php 2023-03-25 00:29:42.245702\n",
      "* 778341c ADICIONADO ARCHIVO calculos.c 2023-03-25 00:29:42.245702\n",
      "* f9fcc2d ADICIONADO ARCHIVO connection.java 2023-03-25 00:29:42.245702\n",
      "* f755eac ADICIONADO ARCHIVO main.py 2023-03-25 00:29:42.245702\n",
      "* fd336d3 ADICIONADO ARCHIVO imagen.png 2023-03-25 00:29:42.245702\n",
      "* 2d29cf7 ADICIONADO ARCHIVO Manifest.yaml 2023-03-25 00:29:42.245702\n",
      "* e4da978 ADICIONADO ARCHIVO Dockerfile 2023-03-25 00:29:42.245702\n",
      "* d7224ac ADICIONADO ARCHIVO info.txt 2023-03-25 00:29:42.245702\n",
      "| * 1d1614a (utils) adicionados archivos de prueba\n",
      "| * 67e732f (origin/multi_commits, multi_commits) adicionado archivo html\n",
      "| * 1d9c154 adicionado archivo csv\n",
      "| * dcfb55b adicionado archivo excel\n",
      "| * 52ff70b adicionado archivo pdf\n",
      "|/  \n",
      "* 3b4edb5 (origin/main, origin/HEAD, main) adicionados archivo de configuracion y requerimientos\n",
      "* d15fad2 Initial commit\n",
      "##############################################################################################################\n",
      "\n",
      "############################################# COMANDO A EJECUTAR #############################################\n",
      "git branch\n",
      "####################################### RESULTADO DE COMANDO EJECUTADO #######################################\n",
      "* commit_branch\n",
      "  main\n",
      "  multi_commits\n",
      "  utils\n",
      "##############################################################################################################\n",
      "\n"
     ]
    }
   ],
   "source": [
    "comando = 'git log --decorate --graph --oneline --all'\n",
    "ejecutar_comando_git(comando)\n",
    "ejecutar_comando_shell()"
   ]
  },
  {
   "cell_type": "markdown",
   "id": "3d37f19c-9e0e-4560-8c6b-3463708eca46",
   "metadata": {},
   "source": [
    "# <center> MOSTRAR LOS METADATOS Y LOS CAMBIOS DE UN COMMIT ESPECIFICO</center>"
   ]
  },
  {
   "cell_type": "code",
   "execution_count": 69,
   "id": "27b3b01b-b640-457a-b142-dfd9df2a488a",
   "metadata": {
    "scrolled": true,
    "tags": []
   },
   "outputs": [
    {
     "name": "stdout",
     "output_type": "stream",
     "text": [
      "############################################# COMANDO A EJECUTAR #############################################\n",
      "git show d15fad27cb8d1bcb6a0e697ef02e2d787dc51b48\n",
      "####################################### RESULTADO DE COMANDO EJECUTADO #######################################\n",
      "commit d15fad27cb8d1bcb6a0e697ef02e2d787dc51b48\n",
      "Author: JorgeCardona <jorgecardona@utp.edu.co>\n",
      "Date:   Fri Mar 17 20:27:49 2023 -0500\n",
      "\n",
      "    Initial commit\n",
      "\n",
      "diff --git a/.gitignore b/.gitignore\n",
      "new file mode 100644\n",
      "index 0000000..b6e4761\n",
      "--- /dev/null\n",
      "+++ b/.gitignore\n",
      "@@ -0,0 +1,129 @@\n",
      "+# Byte-compiled / optimized / DLL files\n",
      "+__pycache__/\n",
      "+*.py[cod]\n",
      "+*$py.class\n",
      "+\n",
      "+# C extensions\n",
      "+*.so\n",
      "+\n",
      "+# Distribution / packaging\n",
      "+.Python\n",
      "+build/\n",
      "+develop-eggs/\n",
      "+dist/\n",
      "+downloads/\n",
      "+eggs/\n",
      "+.eggs/\n",
      "+lib/\n",
      "+lib64/\n",
      "+parts/\n",
      "+sdist/\n",
      "+var/\n",
      "+wheels/\n",
      "+pip-wheel-metadata/\n",
      "+share/python-wheels/\n",
      "+*.egg-info/\n",
      "+.installed.cfg\n",
      "+*.egg\n",
      "+MANIFEST\n",
      "+\n",
      "+# PyInstaller\n",
      "+#  Usually these files are written by a python script from a template\n",
      "+#  before PyInstaller builds the exe, so as to inject date/other infos into it.\n",
      "+*.manifest\n",
      "+*.spec\n",
      "+\n",
      "+# Installer logs\n",
      "+pip-log.txt\n",
      "+pip-delete-this-directory.txt\n",
      "+\n",
      "+# Unit test / coverage reports\n",
      "+htmlcov/\n",
      "+.tox/\n",
      "+.nox/\n",
      "+.coverage\n",
      "+.coverage.*\n",
      "+.cache\n",
      "+nosetests.xml\n",
      "+coverage.xml\n",
      "+*.cover\n",
      "+*.py,cover\n",
      "+.hypothesis/\n",
      "+.pytest_cache/\n",
      "+\n",
      "+# Translations\n",
      "+*.mo\n",
      "+*.pot\n",
      "+\n",
      "+# Django stuff:\n",
      "+*.log\n",
      "+local_settings.py\n",
      "+db.sqlite3\n",
      "+db.sqlite3-journal\n",
      "+\n",
      "+# Flask stuff:\n",
      "+instance/\n",
      "+.webassets-cache\n",
      "+\n",
      "+# Scrapy stuff:\n",
      "+.scrapy\n",
      "+\n",
      "+# Sphinx documentation\n",
      "+docs/_build/\n",
      "+\n",
      "+# PyBuilder\n",
      "+target/\n",
      "+\n",
      "+# Jupyter Notebook\n",
      "+.ipynb_checkpoints\n",
      "+\n",
      "+# IPython\n",
      "+profile_default/\n",
      "+ipython_config.py\n",
      "+\n",
      "+# pyenv\n",
      "+.python-version\n",
      "+\n",
      "+# pipenv\n",
      "+#   According to pypa/pipenv#598, it is recommended to include Pipfile.lock in version control.\n",
      "+#   However, in case of collaboration, if having platform-specific dependencies or dependencies\n",
      "+#   having no cross-platform support, pipenv may install dependencies that don't work, or not\n",
      "+#   install all needed dependencies.\n",
      "+#Pipfile.lock\n",
      "+\n",
      "+# PEP 582; used by e.g. github.com/David-OConnor/pyflow\n",
      "+__pypackages__/\n",
      "+\n",
      "+# Celery stuff\n",
      "+celerybeat-schedule\n",
      "+celerybeat.pid\n",
      "+\n",
      "+# SageMath parsed files\n",
      "+*.sage.py\n",
      "+\n",
      "+# Environments\n",
      "+.env\n",
      "+.venv\n",
      "+env/\n",
      "+venv/\n",
      "+ENV/\n",
      "+env.bak/\n",
      "+venv.bak/\n",
      "+\n",
      "+# Spyder project settings\n",
      "+.spyderproject\n",
      "+.spyproject\n",
      "+\n",
      "+# Rope project settings\n",
      "+.ropeproject\n",
      "+\n",
      "+# mkdocs documentation\n",
      "+/site\n",
      "+\n",
      "+# mypy\n",
      "+.mypy_cache/\n",
      "+.dmypy.json\n",
      "+dmypy.json\n",
      "+\n",
      "+# Pyre type checker\n",
      "+.pyre/\n",
      "diff --git a/LICENSE b/LICENSE\n",
      "new file mode 100644\n",
      "index 0000000..f288702\n",
      "--- /dev/null\n",
      "+++ b/LICENSE\n",
      "@@ -0,0 +1,674 @@\n",
      "+                    GNU GENERAL PUBLIC LICENSE\n",
      "+                       Version 3, 29 June 2007\n",
      "+\n",
      "+ Copyright (C) 2007 Free Software Foundation, Inc. <https://fsf.org/>\n",
      "+ Everyone is permitted to copy and distribute verbatim copies\n",
      "+ of this license document, but changing it is not allowed.\n",
      "+\n",
      "+                            Preamble\n",
      "+\n",
      "+  The GNU General Public License is a free, copyleft license for\n",
      "+software and other kinds of works.\n",
      "+\n",
      "+  The licenses for most software and other practical works are designed\n",
      "+to take away your freedom to share and change the works.  By contrast,\n",
      "+the GNU General Public License is intended to guarantee your freedom to\n",
      "+share and change all versions of a program--to make sure it remains free\n",
      "+software for all its users.  We, the Free Software Foundation, use the\n",
      "+GNU General Public License for most of our software; it applies also to\n",
      "+any other work released this way by its authors.  You can apply it to\n",
      "+your programs, too.\n",
      "+\n",
      "+  When we speak of free software, we are referring to freedom, not\n",
      "+price.  Our General Public Licenses are designed to make sure that you\n",
      "+have the freedom to distribute copies of free software (and charge for\n",
      "+them if you wish), that you receive source code or can get it if you\n",
      "+want it, that you can change the software or use pieces of it in new\n",
      "+free programs, and that you know you can do these things.\n",
      "+\n",
      "+  To protect your rights, we need to prevent others from denying you\n",
      "+these rights or asking you to surrender the rights.  Therefore, you have\n",
      "+certain responsibilities if you distribute copies of the software, or if\n",
      "+you modify it: responsibilities to respect the freedom of others.\n",
      "+\n",
      "+  For example, if you distribute copies of such a program, whether\n",
      "+gratis or for a fee, you must pass on to the recipients the same\n",
      "+freedoms that you received.  You must make sure that they, too, receive\n",
      "+or can get the source code.  And you must show them these terms so they\n",
      "+know their rights.\n",
      "+\n",
      "+  Developers that use the GNU GPL protect your rights with two steps:\n",
      "+(1) assert copyright on the software, and (2) offer you this License\n",
      "+giving you legal permission to copy, distribute and/or modify it.\n",
      "+\n",
      "+  For the developers' and authors' protection, the GPL clearly explains\n",
      "+that there is no warranty for this free software.  For both users' and\n",
      "+authors' sake, the GPL requires that modified versions be marked as\n",
      "+changed, so that their problems will not be attributed erroneously to\n",
      "+authors of previous versions.\n",
      "+\n",
      "+  Some devices are designed to deny users access to install or run\n",
      "+modified versions of the software inside them, although the manufacturer\n",
      "+can do so.  This is fundamentally incompatible with the aim of\n",
      "+protecting users' freedom to change the software.  The systematic\n",
      "+pattern of such abuse occurs in the area of products for individuals to\n",
      "+use, which is precisely where it is most unacceptable.  Therefore, we\n",
      "+have designed this version of the GPL to prohibit the practice for those\n",
      "+products.  If such problems arise substantially in other domains, we\n",
      "+stand ready to extend this provision to those domains in future versions\n",
      "+of the GPL, as needed to protect the freedom of users.\n",
      "+\n",
      "+  Finally, every program is threatened constantly by software patents.\n",
      "+States should not allow patents to restrict development and use of\n",
      "+software on general-purpose computers, but in those that do, we wish to\n",
      "+avoid the special danger that patents applied to a free program could\n",
      "+make it effectively proprietary.  To prevent this, the GPL assures that\n",
      "+patents cannot be used to render the program non-free.\n",
      "+\n",
      "+  The precise terms and conditions for copying, distribution and\n",
      "+modification follow.\n",
      "+\n",
      "+                       TERMS AND CONDITIONS\n",
      "+\n",
      "+  0. Definitions.\n",
      "+\n",
      "+  \"This License\" refers to version 3 of the GNU General Public License.\n",
      "+\n",
      "+  \"Copyright\" also means copyright-like laws that apply to other kinds of\n",
      "+works, such as semiconductor masks.\n",
      "+\n",
      "+  \"The Program\" refers to any copyrightable work licensed under this\n",
      "+License.  Each licensee is addressed as \"you\".  \"Licensees\" and\n",
      "+\"recipients\" may be individuals or organizations.\n",
      "+\n",
      "+  To \"modify\" a work means to copy from or adapt all or part of the work\n",
      "+in a fashion requiring copyright permission, other than the making of an\n",
      "+exact copy.  The resulting work is called a \"modified version\" of the\n",
      "+earlier work or a work \"based on\" the earlier work.\n",
      "+\n",
      "+  A \"covered work\" means either the unmodified Program or a work based\n",
      "+on the Program.\n",
      "+\n",
      "+  To \"propagate\" a work means to do anything with it that, without\n",
      "+permission, would make you directly or secondarily liable for\n",
      "+infringement under applicable copyright law, except executing it on a\n",
      "+computer or modifying a private copy.  Propagation includes copying,\n",
      "+distribution (with or without modification), making available to the\n",
      "+public, and in some countries other activities as well.\n",
      "+\n",
      "+  To \"convey\" a work means any kind of propagation that enables other\n",
      "+parties to make or receive copies.  Mere interaction with a user through\n",
      "+a computer network, with no transfer of a copy, is not conveying.\n",
      "+\n",
      "+  An interactive user interface displays \"Appropriate Legal Notices\"\n",
      "+to the extent that it includes a convenient and prominently visible\n",
      "+feature that (1) displays an appropriate copyright notice, and (2)\n",
      "+tells the user that there is no warranty for the work (except to the\n",
      "+extent that warranties are provided), that licensees may convey the\n",
      "+work under this License, and how to view a copy of this License.  If\n",
      "+the interface presents a list of user commands or options, such as a\n",
      "+menu, a prominent item in the list meets this criterion.\n",
      "+\n",
      "+  1. Source Code.\n",
      "+\n",
      "+  The \"source code\" for a work means the preferred form of the work\n",
      "+for making modifications to it.  \"Object code\" means any non-source\n",
      "+form of a work.\n",
      "+\n",
      "+  A \"Standard Interface\" means an interface that either is an official\n",
      "+standard defined by a recognized standards body, or, in the case of\n",
      "+interfaces specified for a particular programming language, one that\n",
      "+is widely used among developers working in that language.\n",
      "+\n",
      "+  The \"System Libraries\" of an executable work include anything, other\n",
      "+than the work as a whole, that (a) is included in the normal form of\n",
      "+packaging a Major Component, but which is not part of that Major\n",
      "+Component, and (b) serves only to enable use of the work with that\n",
      "+Major Component, or to implement a Standard Interface for which an\n",
      "+implementation is available to the public in source code form.  A\n",
      "+\"Major Component\", in this context, means a major essential component\n",
      "+(kernel, window system, and so on) of the specific operating system\n",
      "+(if any) on which the executable work runs, or a compiler used to\n",
      "+produce the work, or an object code interpreter used to run it.\n",
      "+\n",
      "+  The \"Corresponding Source\" for a work in object code form means all\n",
      "+the source code needed to generate, install, and (for an executable\n",
      "+work) run the object code and to modify the work, including scripts to\n",
      "+control those activities.  However, it does not include the work's\n",
      "+System Libraries, or general-purpose tools or generally available free\n",
      "+programs which are used unmodified in performing those activities but\n",
      "+which are not part of the work.  For example, Corresponding Source\n",
      "+includes interface definition files associated with source files for\n",
      "+the work, and the source code for shared libraries and dynamically\n",
      "+linked subprograms that the work is specifically designed to require,\n",
      "+such as by intimate data communication or control flow between those\n",
      "+subprograms and other parts of the work.\n",
      "+\n",
      "+  The Corresponding Source need not include anything that users\n",
      "+can regenerate automatically from other parts of the Corresponding\n",
      "+Source.\n",
      "+\n",
      "+  The Corresponding Source for a work in source code form is that\n",
      "+same work.\n",
      "+\n",
      "+  2. Basic Permissions.\n",
      "+\n",
      "+  All rights granted under this License are granted for the term of\n",
      "+copyright on the Program, and are irrevocable provided the stated\n",
      "+conditions are met.  This License explicitly affirms your unlimited\n",
      "+permission to run the unmodified Program.  The output from running a\n",
      "+covered work is covered by this License only if the output, given its\n",
      "+content, constitutes a covered work.  This License acknowledges your\n",
      "+rights of fair use or other equivalent, as provided by copyright law.\n",
      "+\n",
      "+  You may make, run and propagate covered works that you do not\n",
      "+convey, without conditions so long as your license otherwise remains\n",
      "+in force.  You may convey covered works to others for the sole purpose\n",
      "+of having them make modifications exclusively for you, or provide you\n",
      "+with facilities for running those works, provided that you comply with\n",
      "+the terms of this License in conveying all material for which you do\n",
      "+not control copyright.  Those thus making or running the covered works\n",
      "+for you must do so exclusively on your behalf, under your direction\n",
      "+and control, on terms that prohibit them from making any copies of\n",
      "+your copyrighted material outside their relationship with you.\n",
      "+\n",
      "+  Conveying under any other circumstances is permitted solely under\n",
      "+the conditions stated below.  Sublicensing is not allowed; section 10\n",
      "+makes it unnecessary.\n",
      "+\n",
      "+  3. Protecting Users' Legal Rights From Anti-Circumvention Law.\n",
      "+\n",
      "+  No covered work shall be deemed part of an effective technological\n",
      "+measure under any applicable law fulfilling obligations under article\n",
      "+11 of the WIPO copyright treaty adopted on 20 December 1996, or\n",
      "+similar laws prohibiting or restricting circumvention of such\n",
      "+measures.\n",
      "+\n",
      "+  When you convey a covered work, you waive any legal power to forbid\n",
      "+circumvention of technological measures to the extent such circumvention\n",
      "+is effected by exercising rights under this License with respect to\n",
      "+the covered work, and you disclaim any intention to limit operation or\n",
      "+modification of the work as a means of enforcing, against the work's\n",
      "+users, your or third parties' legal rights to forbid circumvention of\n",
      "+technological measures.\n",
      "+\n",
      "+  4. Conveying Verbatim Copies.\n",
      "+\n",
      "+  You may convey verbatim copies of the Program's source code as you\n",
      "+receive it, in any medium, provided that you conspicuously and\n",
      "+appropriately publish on each copy an appropriate copyright notice;\n",
      "+keep intact all notices stating that this License and any\n",
      "+non-permissive terms added in accord with section 7 apply to the code;\n",
      "+keep intact all notices of the absence of any warranty; and give all\n",
      "+recipients a copy of this License along with the Program.\n",
      "+\n",
      "+  You may charge any price or no price for each copy that you convey,\n",
      "+and you may offer support or warranty protection for a fee.\n",
      "+\n",
      "+  5. Conveying Modified Source Versions.\n",
      "+\n",
      "+  You may convey a work based on the Program, or the modifications to\n",
      "+produce it from the Program, in the form of source code under the\n",
      "+terms of section 4, provided that you also meet all of these conditions:\n",
      "+\n",
      "+    a) The work must carry prominent notices stating that you modified\n",
      "+    it, and giving a relevant date.\n",
      "+\n",
      "+    b) The work must carry prominent notices stating that it is\n",
      "+    released under this License and any conditions added under section\n",
      "+    7.  This requirement modifies the requirement in section 4 to\n",
      "+    \"keep intact all notices\".\n",
      "+\n",
      "+    c) You must license the entire work, as a whole, under this\n",
      "+    License to anyone who comes into possession of a copy.  This\n",
      "+    License will therefore apply, along with any applicable section 7\n",
      "+    additional terms, to the whole of the work, and all its parts,\n",
      "+    regardless of how they are packaged.  This License gives no\n",
      "+    permission to license the work in any other way, but it does not\n",
      "+    invalidate such permission if you have separately received it.\n",
      "+\n",
      "+    d) If the work has interactive user interfaces, each must display\n",
      "+    Appropriate Legal Notices; however, if the Program has interactive\n",
      "+    interfaces that do not display Appropriate Legal Notices, your\n",
      "+    work need not make them do so.\n",
      "+\n",
      "+  A compilation of a covered work with other separate and independent\n",
      "+works, which are not by their nature extensions of the covered work,\n",
      "+and which are not combined with it such as to form a larger program,\n",
      "+in or on a volume of a storage or distribution medium, is called an\n",
      "+\"aggregate\" if the compilation and its resulting copyright are not\n",
      "+used to limit the access or legal rights of the compilation's users\n",
      "+beyond what the individual works permit.  Inclusion of a covered work\n",
      "+in an aggregate does not cause this License to apply to the other\n",
      "+parts of the aggregate.\n",
      "+\n",
      "+  6. Conveying Non-Source Forms.\n",
      "+\n",
      "+  You may convey a covered work in object code form under the terms\n",
      "+of sections 4 and 5, provided that you also convey the\n",
      "+machine-readable Corresponding Source under the terms of this License,\n",
      "+in one of these ways:\n",
      "+\n",
      "+    a) Convey the object code in, or embodied in, a physical product\n",
      "+    (including a physical distribution medium), accompanied by the\n",
      "+    Corresponding Source fixed on a durable physical medium\n",
      "+    customarily used for software interchange.\n",
      "+\n",
      "+    b) Convey the object code in, or embodied in, a physical product\n",
      "+    (including a physical distribution medium), accompanied by a\n",
      "+    written offer, valid for at least three years and valid for as\n",
      "+    long as you offer spare parts or customer support for that product\n",
      "+    model, to give anyone who possesses the object code either (1) a\n",
      "+    copy of the Corresponding Source for all the software in the\n",
      "+    product that is covered by this License, on a durable physical\n",
      "+    medium customarily used for software interchange, for a price no\n",
      "+    more than your reasonable cost of physically performing this\n",
      "+    conveying of source, or (2) access to copy the\n",
      "+    Corresponding Source from a network server at no charge.\n",
      "+\n",
      "+    c) Convey individual copies of the object code with a copy of the\n",
      "+    written offer to provide the Corresponding Source.  This\n",
      "+    alternative is allowed only occasionally and noncommercially, and\n",
      "+    only if you received the object code with such an offer, in accord\n",
      "+    with subsection 6b.\n",
      "+\n",
      "+    d) Convey the object code by offering access from a designated\n",
      "+    place (gratis or for a charge), and offer equivalent access to the\n",
      "+    Corresponding Source in the same way through the same place at no\n",
      "+    further charge.  You need not require recipients to copy the\n",
      "+    Corresponding Source along with the object code.  If the place to\n",
      "+    copy the object code is a network server, the Corresponding Source\n",
      "+    may be on a different server (operated by you or a third party)\n",
      "+    that supports equivalent copying facilities, provided you maintain\n",
      "+    clear directions next to the object code saying where to find the\n",
      "+    Corresponding Source.  Regardless of what server hosts the\n",
      "+    Corresponding Source, you remain obligated to ensure that it is\n",
      "+    available for as long as needed to satisfy these requirements.\n",
      "+\n",
      "+    e) Convey the object code using peer-to-peer transmission, provided\n",
      "+    you inform other peers where the object code and Corresponding\n",
      "+    Source of the work are being offered to the general public at no\n",
      "+    charge under subsection 6d.\n",
      "+\n",
      "+  A separable portion of the object code, whose source code is excluded\n",
      "+from the Corresponding Source as a System Library, need not be\n",
      "+included in conveying the object code work.\n",
      "+\n",
      "+  A \"User Product\" is either (1) a \"consumer product\", which means any\n",
      "+tangible personal property which is normally used for personal, family,\n",
      "+or household purposes, or (2) anything designed or sold for incorporation\n",
      "+into a dwelling.  In determining whether a product is a consumer product,\n",
      "+doubtful cases shall be resolved in favor of coverage.  For a particular\n",
      "+product received by a particular user, \"normally used\" refers to a\n",
      "+typical or common use of that class of product, regardless of the status\n",
      "+of the particular user or of the way in which the particular user\n",
      "+actually uses, or expects or is expected to use, the product.  A product\n",
      "+is a consumer product regardless of whether the product has substantial\n",
      "+commercial, industrial or non-consumer uses, unless such uses represent\n",
      "+the only significant mode of use of the product.\n",
      "+\n",
      "+  \"Installation Information\" for a User Product means any methods,\n",
      "+procedures, authorization keys, or other information required to install\n",
      "+and execute modified versions of a covered work in that User Product from\n",
      "+a modified version of its Corresponding Source.  The information must\n",
      "+suffice to ensure that the continued functioning of the modified object\n",
      "+code is in no case prevented or interfered with solely because\n",
      "+modification has been made.\n",
      "+\n",
      "+  If you convey an object code work under this section in, or with, or\n",
      "+specifically for use in, a User Product, and the conveying occurs as\n",
      "+part of a transaction in which the right of possession and use of the\n",
      "+User Product is transferred to the recipient in perpetuity or for a\n",
      "+fixed term (regardless of how the transaction is characterized), the\n",
      "+Corresponding Source conveyed under this section must be accompanied\n",
      "+by the Installation Information.  But this requirement does not apply\n",
      "+if neither you nor any third party retains the ability to install\n",
      "+modified object code on the User Product (for example, the work has\n",
      "+been installed in ROM).\n",
      "+\n",
      "+  The requirement to provide Installation Information does not include a\n",
      "+requirement to continue to provide support service, warranty, or updates\n",
      "+for a work that has been modified or installed by the recipient, or for\n",
      "+the User Product in which it has been modified or installed.  Access to a\n",
      "+network may be denied when the modification itself materially and\n",
      "+adversely affects the operation of the network or violates the rules and\n",
      "+protocols for communication across the network.\n",
      "+\n",
      "+  Corresponding Source conveyed, and Installation Information provided,\n",
      "+in accord with this section must be in a format that is publicly\n",
      "+documented (and with an implementation available to the public in\n",
      "+source code form), and must require no special password or key for\n",
      "+unpacking, reading or copying.\n",
      "+\n",
      "+  7. Additional Terms.\n",
      "+\n",
      "+  \"Additional permissions\" are terms that supplement the terms of this\n",
      "+License by making exceptions from one or more of its conditions.\n",
      "+Additional permissions that are applicable to the entire Program shall\n",
      "+be treated as though they were included in this License, to the extent\n",
      "+that they are valid under applicable law.  If additional permissions\n",
      "+apply only to part of the Program, that part may be used separately\n",
      "+under those permissions, but the entire Program remains governed by\n",
      "+this License without regard to the additional permissions.\n",
      "+\n",
      "+  When you convey a copy of a covered work, you may at your option\n",
      "+remove any additional permissions from that copy, or from any part of\n",
      "+it.  (Additional permissions may be written to require their own\n",
      "+removal in certain cases when you modify the work.)  You may place\n",
      "+additional permissions on material, added by you to a covered work,\n",
      "+for which you have or can give appropriate copyright permission.\n",
      "+\n",
      "+  Notwithstanding any other provision of this License, for material you\n",
      "+add to a covered work, you may (if authorized by the copyright holders of\n",
      "+that material) supplement the terms of this License with terms:\n",
      "+\n",
      "+    a) Disclaiming warranty or limiting liability differently from the\n",
      "+    terms of sections 15 and 16 of this License; or\n",
      "+\n",
      "+    b) Requiring preservation of specified reasonable legal notices or\n",
      "+    author attributions in that material or in the Appropriate Legal\n",
      "+    Notices displayed by works containing it; or\n",
      "+\n",
      "+    c) Prohibiting misrepresentation of the origin of that material, or\n",
      "+    requiring that modified versions of such material be marked in\n",
      "+    reasonable ways as different from the original version; or\n",
      "+\n",
      "+    d) Limiting the use for publicity purposes of names of licensors or\n",
      "+    authors of the material; or\n",
      "+\n",
      "+    e) Declining to grant rights under trademark law for use of some\n",
      "+    trade names, trademarks, or service marks; or\n",
      "+\n",
      "+    f) Requiring indemnification of licensors and authors of that\n",
      "+    material by anyone who conveys the material (or modified versions of\n",
      "+    it) with contractual assumptions of liability to the recipient, for\n",
      "+    any liability that these contractual assumptions directly impose on\n",
      "+    those licensors and authors.\n",
      "+\n",
      "+  All other non-permissive additional terms are considered \"further\n",
      "+restrictions\" within the meaning of section 10.  If the Program as you\n",
      "+received it, or any part of it, contains a notice stating that it is\n",
      "+governed by this License along with a term that is a further\n",
      "+restriction, you may remove that term.  If a license document contains\n",
      "+a further restriction but permits relicensing or conveying under this\n",
      "+License, you may add to a covered work material governed by the terms\n",
      "+of that license document, provided that the further restriction does\n",
      "+not survive such relicensing or conveying.\n",
      "+\n",
      "+  If you add terms to a covered work in accord with this section, you\n",
      "+must place, in the relevant source files, a statement of the\n",
      "+additional terms that apply to those files, or a notice indicating\n",
      "+where to find the applicable terms.\n",
      "+\n",
      "+  Additional terms, permissive or non-permissive, may be stated in the\n",
      "+form of a separately written license, or stated as exceptions;\n",
      "+the above requirements apply either way.\n",
      "+\n",
      "+  8. Termination.\n",
      "+\n",
      "+  You may not propagate or modify a covered work except as expressly\n",
      "+provided under this License.  Any attempt otherwise to propagate or\n",
      "+modify it is void, and will automatically terminate your rights under\n",
      "+this License (including any patent licenses granted under the third\n",
      "+paragraph of section 11).\n",
      "+\n",
      "+  However, if you cease all violation of this License, then your\n",
      "+license from a particular copyright holder is reinstated (a)\n",
      "+provisionally, unless and until the copyright holder explicitly and\n",
      "+finally terminates your license, and (b) permanently, if the copyright\n",
      "+holder fails to notify you of the violation by some reasonable means\n",
      "+prior to 60 days after the cessation.\n",
      "+\n",
      "+  Moreover, your license from a particular copyright holder is\n",
      "+reinstated permanently if the copyright holder notifies you of the\n",
      "+violation by some reasonable means, this is the first time you have\n",
      "+received notice of violation of this License (for any work) from that\n",
      "+copyright holder, and you cure the violation prior to 30 days after\n",
      "+your receipt of the notice.\n",
      "+\n",
      "+  Termination of your rights under this section does not terminate the\n",
      "+licenses of parties who have received copies or rights from you under\n",
      "+this License.  If your rights have been terminated and not permanently\n",
      "+reinstated, you do not qualify to receive new licenses for the same\n",
      "+material under section 10.\n",
      "+\n",
      "+  9. Acceptance Not Required for Having Copies.\n",
      "+\n",
      "+  You are not required to accept this License in order to receive or\n",
      "+run a copy of the Program.  Ancillary propagation of a covered work\n",
      "+occurring solely as a consequence of using peer-to-peer transmission\n",
      "+to receive a copy likewise does not require acceptance.  However,\n",
      "+nothing other than this License grants you permission to propagate or\n",
      "+modify any covered work.  These actions infringe copyright if you do\n",
      "+not accept this License.  Therefore, by modifying or propagating a\n",
      "+covered work, you indicate your acceptance of this License to do so.\n",
      "+\n",
      "+  10. Automatic Licensing of Downstream Recipients.\n",
      "+\n",
      "+  Each time you convey a covered work, the recipient automatically\n",
      "+receives a license from the original licensors, to run, modify and\n",
      "+propagate that work, subject to this License.  You are not responsible\n",
      "+for enforcing compliance by third parties with this License.\n",
      "+\n",
      "+  An \"entity transaction\" is a transaction transferring control of an\n",
      "+organization, or substantially all assets of one, or subdividing an\n",
      "+organization, or merging organizations.  If propagation of a covered\n",
      "+work results from an entity transaction, each party to that\n",
      "+transaction who receives a copy of the work also receives whatever\n",
      "+licenses to the work the party's predecessor in interest had or could\n",
      "+give under the previous paragraph, plus a right to possession of the\n",
      "+Corresponding Source of the work from the predecessor in interest, if\n",
      "+the predecessor has it or can get it with reasonable efforts.\n",
      "+\n",
      "+  You may not impose any further restrictions on the exercise of the\n",
      "+rights granted or affirmed under this License.  For example, you may\n",
      "+not impose a license fee, royalty, or other charge for exercise of\n",
      "+rights granted under this License, and you may not initiate litigation\n",
      "+(including a cross-claim or counterclaim in a lawsuit) alleging that\n",
      "+any patent claim is infringed by making, using, selling, offering for\n",
      "+sale, or importing the Program or any portion of it.\n",
      "+\n",
      "+  11. Patents.\n",
      "+\n",
      "+  A \"contributor\" is a copyright holder who authorizes use under this\n",
      "+License of the Program or a work on which the Program is based.  The\n",
      "+work thus licensed is called the contributor's \"contributor version\".\n",
      "+\n",
      "+  A contributor's \"essential patent claims\" are all patent claims\n",
      "+owned or controlled by the contributor, whether already acquired or\n",
      "+hereafter acquired, that would be infringed by some manner, permitted\n",
      "+by this License, of making, using, or selling its contributor version,\n",
      "+but do not include claims that would be infringed only as a\n",
      "+consequence of further modification of the contributor version.  For\n",
      "+purposes of this definition, \"control\" includes the right to grant\n",
      "+patent sublicenses in a manner consistent with the requirements of\n",
      "+this License.\n",
      "+\n",
      "+  Each contributor grants you a non-exclusive, worldwide, royalty-free\n",
      "+patent license under the contributor's essential patent claims, to\n",
      "+make, use, sell, offer for sale, import and otherwise run, modify and\n",
      "+propagate the contents of its contributor version.\n",
      "+\n",
      "+  In the following three paragraphs, a \"patent license\" is any express\n",
      "+agreement or commitment, however denominated, not to enforce a patent\n",
      "+(such as an express permission to practice a patent or covenant not to\n",
      "+sue for patent infringement).  To \"grant\" such a patent license to a\n",
      "+party means to make such an agreement or commitment not to enforce a\n",
      "+patent against the party.\n",
      "+\n",
      "+  If you convey a covered work, knowingly relying on a patent license,\n",
      "+and the Corresponding Source of the work is not available for anyone\n",
      "+to copy, free of charge and under the terms of this License, through a\n",
      "+publicly available network server or other readily accessible means,\n",
      "+then you must either (1) cause the Corresponding Source to be so\n",
      "+available, or (2) arrange to deprive yourself of the benefit of the\n",
      "+patent license for this particular work, or (3) arrange, in a manner\n",
      "+consistent with the requirements of this License, to extend the patent\n",
      "+license to downstream recipients.  \"Knowingly relying\" means you have\n",
      "+actual knowledge that, but for the patent license, your conveying the\n",
      "+covered work in a country, or your recipient's use of the covered work\n",
      "+in a country, would infringe one or more identifiable patents in that\n",
      "+country that you have reason to believe are valid.\n",
      "+\n",
      "+  If, pursuant to or in connection with a single transaction or\n",
      "+arrangement, you convey, or propagate by procuring conveyance of, a\n",
      "+covered work, and grant a patent license to some of the parties\n",
      "+receiving the covered work authorizing them to use, propagate, modify\n",
      "+or convey a specific copy of the covered work, then the patent license\n",
      "+you grant is automatically extended to all recipients of the covered\n",
      "+work and works based on it.\n",
      "+\n",
      "+  A patent license is \"discriminatory\" if it does not include within\n",
      "+the scope of its coverage, prohibits the exercise of, or is\n",
      "+conditioned on the non-exercise of one or more of the rights that are\n",
      "+specifically granted under this License.  You may not convey a covered\n",
      "+work if you are a party to an arrangement with a third party that is\n",
      "+in the business of distributing software, under which you make payment\n",
      "+to the third party based on the extent of your activity of conveying\n",
      "+the work, and under which the third party grants, to any of the\n",
      "+parties who would receive the covered work from you, a discriminatory\n",
      "+patent license (a) in connection with copies of the covered work\n",
      "+conveyed by you (or copies made from those copies), or (b) primarily\n",
      "+for and in connection with specific products or compilations that\n",
      "+contain the covered work, unless you entered into that arrangement,\n",
      "+or that patent license was granted, prior to 28 March 2007.\n",
      "+\n",
      "+  Nothing in this License shall be construed as excluding or limiting\n",
      "+any implied license or other defenses to infringement that may\n",
      "+otherwise be available to you under applicable patent law.\n",
      "+\n",
      "+  12. No Surrender of Others' Freedom.\n",
      "+\n",
      "+  If conditions are imposed on you (whether by court order, agreement or\n",
      "+otherwise) that contradict the conditions of this License, they do not\n",
      "+excuse you from the conditions of this License.  If you cannot convey a\n",
      "+covered work so as to satisfy simultaneously your obligations under this\n",
      "+License and any other pertinent obligations, then as a consequence you may\n",
      "+not convey it at all.  For example, if you agree to terms that obligate you\n",
      "+to collect a royalty for further conveying from those to whom you convey\n",
      "+the Program, the only way you could satisfy both those terms and this\n",
      "+License would be to refrain entirely from conveying the Program.\n",
      "+\n",
      "+  13. Use with the GNU Affero General Public License.\n",
      "+\n",
      "+  Notwithstanding any other provision of this License, you have\n",
      "+permission to link or combine any covered work with a work licensed\n",
      "+under version 3 of the GNU Affero General Public License into a single\n",
      "+combined work, and to convey the resulting work.  The terms of this\n",
      "+License will continue to apply to the part which is the covered work,\n",
      "+but the special requirements of the GNU Affero General Public License,\n",
      "+section 13, concerning interaction through a network will apply to the\n",
      "+combination as such.\n",
      "+\n",
      "+  14. Revised Versions of this License.\n",
      "+\n",
      "+  The Free Software Foundation may publish revised and/or new versions of\n",
      "+the GNU General Public License from time to time.  Such new versions will\n",
      "+be similar in spirit to the present version, but may differ in detail to\n",
      "+address new problems or concerns.\n",
      "+\n",
      "+  Each version is given a distinguishing version number.  If the\n",
      "+Program specifies that a certain numbered version of the GNU General\n",
      "+Public License \"or any later version\" applies to it, you have the\n",
      "+option of following the terms and conditions either of that numbered\n",
      "+version or of any later version published by the Free Software\n",
      "+Foundation.  If the Program does not specify a version number of the\n",
      "+GNU General Public License, you may choose any version ever published\n",
      "+by the Free Software Foundation.\n",
      "+\n",
      "+  If the Program specifies that a proxy can decide which future\n",
      "+versions of the GNU General Public License can be used, that proxy's\n",
      "+public statement of acceptance of a version permanently authorizes you\n",
      "+to choose that version for the Program.\n",
      "+\n",
      "+  Later license versions may give you additional or different\n",
      "+permissions.  However, no additional obligations are imposed on any\n",
      "+author or copyright holder as a result of your choosing to follow a\n",
      "+later version.\n",
      "+\n",
      "+  15. Disclaimer of Warranty.\n",
      "+\n",
      "+  THERE IS NO WARRANTY FOR THE PROGRAM, TO THE EXTENT PERMITTED BY\n",
      "+APPLICABLE LAW.  EXCEPT WHEN OTHERWISE STATED IN WRITING THE COPYRIGHT\n",
      "+HOLDERS AND/OR OTHER PARTIES PROVIDE THE PROGRAM \"AS IS\" WITHOUT WARRANTY\n",
      "+OF ANY KIND, EITHER EXPRESSED OR IMPLIED, INCLUDING, BUT NOT LIMITED TO,\n",
      "+THE IMPLIED WARRANTIES OF MERCHANTABILITY AND FITNESS FOR A PARTICULAR\n",
      "+PURPOSE.  THE ENTIRE RISK AS TO THE QUALITY AND PERFORMANCE OF THE PROGRAM\n",
      "+IS WITH YOU.  SHOULD THE PROGRAM PROVE DEFECTIVE, YOU ASSUME THE COST OF\n",
      "+ALL NECESSARY SERVICING, REPAIR OR CORRECTION.\n",
      "+\n",
      "+  16. Limitation of Liability.\n",
      "+\n",
      "+  IN NO EVENT UNLESS REQUIRED BY APPLICABLE LAW OR AGREED TO IN WRITING\n",
      "+WILL ANY COPYRIGHT HOLDER, OR ANY OTHER PARTY WHO MODIFIES AND/OR CONVEYS\n",
      "+THE PROGRAM AS PERMITTED ABOVE, BE LIABLE TO YOU FOR DAMAGES, INCLUDING ANY\n",
      "+GENERAL, SPECIAL, INCIDENTAL OR CONSEQUENTIAL DAMAGES ARISING OUT OF THE\n",
      "+USE OR INABILITY TO USE THE PROGRAM (INCLUDING BUT NOT LIMITED TO LOSS OF\n",
      "+DATA OR DATA BEING RENDERED INACCURATE OR LOSSES SUSTAINED BY YOU OR THIRD\n",
      "+PARTIES OR A FAILURE OF THE PROGRAM TO OPERATE WITH ANY OTHER PROGRAMS),\n",
      "+EVEN IF SUCH HOLDER OR OTHER PARTY HAS BEEN ADVISED OF THE POSSIBILITY OF\n",
      "+SUCH DAMAGES.\n",
      "+\n",
      "+  17. Interpretation of Sections 15 and 16.\n",
      "+\n",
      "+  If the disclaimer of warranty and limitation of liability provided\n",
      "+above cannot be given local legal effect according to their terms,\n",
      "+reviewing courts shall apply local law that most closely approximates\n",
      "+an absolute waiver of all civil liability in connection with the\n",
      "+Program, unless a warranty or assumption of liability accompanies a\n",
      "+copy of the Program in return for a fee.\n",
      "+\n",
      "+                     END OF TERMS AND CONDITIONS\n",
      "+\n",
      "+            How to Apply These Terms to Your New Programs\n",
      "+\n",
      "+  If you develop a new program, and you want it to be of the greatest\n",
      "+possible use to the public, the best way to achieve this is to make it\n",
      "+free software which everyone can redistribute and change under these terms.\n",
      "+\n",
      "+  To do so, attach the following notices to the program.  It is safest\n",
      "+to attach them to the start of each source file to most effectively\n",
      "+state the exclusion of warranty; and each file should have at least\n",
      "+the \"copyright\" line and a pointer to where the full notice is found.\n",
      "+\n",
      "+    <one line to give the program's name and a brief idea of what it does.>\n",
      "+    Copyright (C) <year>  <name of author>\n",
      "+\n",
      "+    This program is free software: you can redistribute it and/or modify\n",
      "+    it under the terms of the GNU General Public License as published by\n",
      "+    the Free Software Foundation, either version 3 of the License, or\n",
      "+    (at your option) any later version.\n",
      "+\n",
      "+    This program is distributed in the hope that it will be useful,\n",
      "+    but WITHOUT ANY WARRANTY; without even the implied warranty of\n",
      "+    MERCHANTABILITY or FITNESS FOR A PARTICULAR PURPOSE.  See the\n",
      "+    GNU General Public License for more details.\n",
      "+\n",
      "+    You should have received a copy of the GNU General Public License\n",
      "+    along with this program.  If not, see <https://www.gnu.org/licenses/>.\n",
      "+\n",
      "+Also add information on how to contact you by electronic and paper mail.\n",
      "+\n",
      "+  If the program does terminal interaction, make it output a short\n",
      "+notice like this when it starts in an interactive mode:\n",
      "+\n",
      "+    <program>  Copyright (C) <year>  <name of author>\n",
      "+    This program comes with ABSOLUTELY NO WARRANTY; for details type `show w'.\n",
      "+    This is free software, and you are welcome to redistribute it\n",
      "+    under certain conditions; type `show c' for details.\n",
      "+\n",
      "+The hypothetical commands `show w' and `show c' should show the appropriate\n",
      "+parts of the General Public License.  Of course, your program's commands\n",
      "+might be different; for a GUI interface, you would use an \"about box\".\n",
      "+\n",
      "+  You should also get your employer (if you work as a programmer) or school,\n",
      "+if any, to sign a \"copyright disclaimer\" for the program, if necessary.\n",
      "+For more information on this, and how to apply and follow the GNU GPL, see\n",
      "+<https://www.gnu.org/licenses/>.\n",
      "+\n",
      "+  The GNU General Public License does not permit incorporating your program\n",
      "+into proprietary programs.  If your program is a subroutine library, you\n",
      "+may consider it more useful to permit linking proprietary applications with\n",
      "+the library.  If this is what you want to do, use the GNU Lesser General\n",
      "+Public License instead of this License.  But first, please read\n",
      "+<https://www.gnu.org/licenses/why-not-lgpl.html>.\n",
      "diff --git a/README.md b/README.md\n",
      "new file mode 100644\n",
      "index 0000000..9ab0bed\n",
      "--- /dev/null\n",
      "+++ b/README.md\n",
      "@@ -0,0 +1 @@\n",
      "+# JorgeCardona-comandos_git\n",
      "\\ No newline at end of file\n",
      "##############################################################################################################\n",
      "\n",
      "############################################# COMANDO A EJECUTAR #############################################\n",
      "git status\n",
      "####################################### RESULTADO DE COMANDO EJECUTADO #######################################\n",
      "On branch commit_branch\n",
      "Your branch is up to date with 'origin/commit_branch'.\n",
      "\n",
      "nothing to commit, working tree clean\n",
      "##############################################################################################################\n",
      "\n"
     ]
    }
   ],
   "source": [
    "# solo en este paso, al hacer el primer commit se crea la rama\n",
    "comando = 'git show d15fad27cb8d1bcb6a0e697ef02e2d787dc51b48'\n",
    "ejecutar_comando_git(comando)\n",
    "        \n",
    "comando = 'git status'\n",
    "ejecutar_comando_git(comando)"
   ]
  },
  {
   "cell_type": "markdown",
   "id": "155df078-6872-42e3-a436-7632917d7b52",
   "metadata": {},
   "source": [
    "# <center> BUSCAR FRASE DENTRO DE TODOS LOS ARCHIVOS DE LA RAMA DEL REPOSITORIO</center>"
   ]
  },
  {
   "cell_type": "markdown",
   "id": "cb879e56-a3a4-437d-a1b8-cb24418bf231",
   "metadata": {},
   "source": [
    "### BUSQUEDA SENSIBLE AL CASO"
   ]
  },
  {
   "cell_type": "code",
   "execution_count": 159,
   "id": "a7a6d86c-253d-4d47-b461-199354650c22",
   "metadata": {
    "scrolled": true,
    "tags": []
   },
   "outputs": [
    {
     "name": "stdout",
     "output_type": "stream",
     "text": [
      "############################################# COMANDO A EJECUTAR #############################################\n",
      "git grep 7\n",
      "####################################### RESULTADO DE COMANDO EJECUTADO #######################################\n",
      "Dockerfile:1679722182.502817 \n",
      "LICENSE:                       Version 3, 29 June 2007\n",
      "LICENSE: Copyright (C) 2007 Free Software Foundation, Inc. <https://fsf.org/>\n",
      "LICENSE:non-permissive terms added in accord with section 7 apply to the code;\n",
      "LICENSE:    7.  This requirement modifies the requirement in section 4 to\n",
      "LICENSE:    License will therefore apply, along with any applicable section 7\n",
      "LICENSE:  7. Additional Terms.\n",
      "LICENSE:or that patent license was granted, prior to 28 March 2007.\n",
      "LICENSE:  17. Interpretation of Sections 15 and 16.\n",
      "Manifest.yaml:1679722182.630345 \n",
      "addon.php:1679722183.321788 \n",
      "calculos.c:1679722183.154431 \n",
      "connection.java:1679722183.004691 \n",
      "dataset.avro:1679722183.759946 \n",
      "imagen.png:1679722182.753655 \n",
      "info.txt:1679722182.365134 \n",
      "link.vs:1679722183.910261 \n",
      "main.py:1679722182.887059 \n",
      "query.sql:1679722183.606891 \n",
      "utils.gif:1679722183.459935 \n",
      "##############################################################################################################\n",
      "\n",
      "############################################# COMANDO A EJECUTAR #############################################\n",
      "git branch\n",
      "####################################### RESULTADO DE COMANDO EJECUTADO #######################################\n",
      "* commit_branch\n",
      "  main\n",
      "  multi_commits\n",
      "  utils\n",
      "##############################################################################################################\n",
      "\n"
     ]
    }
   ],
   "source": [
    "frase_a_buscar = '7'\n",
    "\n",
    "# la busqueda es sensible al caso\n",
    "comando = 'git grep {frase_a_buscar}'.format(frase_a_buscar=frase_a_buscar)\n",
    "ejecutar_comando_git(comando)\n",
    "\n",
    "ejecutar_comando_shell()"
   ]
  },
  {
   "cell_type": "markdown",
   "id": "3c4a0b49-2893-4710-aae6-56a9022bdc9c",
   "metadata": {},
   "source": [
    "### BUSQUEDA NO SENSIBLE AL CASO"
   ]
  },
  {
   "cell_type": "code",
   "execution_count": 152,
   "id": "37475ec6-cf8a-4b59-b421-ab8e7169512f",
   "metadata": {
    "tags": []
   },
   "outputs": [
    {
     "name": "stdout",
     "output_type": "stream",
     "text": [
      "############################################# COMANDO A EJECUTAR #############################################\n",
      "git grep -i Information\n",
      "####################################### RESULTADO DE COMANDO EJECUTADO #######################################\n",
      "LICENSE:  \"Installation Information\" for a User Product means any methods,\n",
      "LICENSE:procedures, authorization keys, or other information required to install\n",
      "LICENSE:a modified version of its Corresponding Source.  The information must\n",
      "LICENSE:by the Installation Information.  But this requirement does not apply\n",
      "LICENSE:  The requirement to provide Installation Information does not include a\n",
      "LICENSE:  Corresponding Source conveyed, and Installation Information provided,\n",
      "LICENSE:Also add information on how to contact you by electronic and paper mail.\n",
      "LICENSE:For more information on this, and how to apply and follow the GNU GPL, see\n",
      "##############################################################################################################\n",
      "\n"
     ]
    }
   ],
   "source": [
    "# busca mayusculas y minusculas\n",
    "comando = 'git grep -i {frase_a_buscar}'.format(frase_a_buscar=frase_a_buscar)\n",
    "ejecutar_comando_git(comando)"
   ]
  },
  {
   "cell_type": "markdown",
   "id": "5e0f445f-4580-492f-8e43-85b3b0a6cba2",
   "metadata": {},
   "source": [
    "### BUSQUEDA POR PALABRA ESPECIFICA"
   ]
  },
  {
   "cell_type": "code",
   "execution_count": 153,
   "id": "ad9055a7-c026-4f33-9694-01767117ee3c",
   "metadata": {
    "tags": []
   },
   "outputs": [
    {
     "name": "stdout",
     "output_type": "stream",
     "text": [
      "############################################# COMANDO A EJECUTAR #############################################\n",
      "git grep -iw Information\n",
      "####################################### RESULTADO DE COMANDO EJECUTADO #######################################\n",
      "LICENSE:  \"Installation Information\" for a User Product means any methods,\n",
      "LICENSE:procedures, authorization keys, or other information required to install\n",
      "LICENSE:a modified version of its Corresponding Source.  The information must\n",
      "LICENSE:by the Installation Information.  But this requirement does not apply\n",
      "LICENSE:  The requirement to provide Installation Information does not include a\n",
      "LICENSE:  Corresponding Source conveyed, and Installation Information provided,\n",
      "LICENSE:Also add information on how to contact you by electronic and paper mail.\n",
      "LICENSE:For more information on this, and how to apply and follow the GNU GPL, see\n",
      "##############################################################################################################\n",
      "\n"
     ]
    }
   ],
   "source": [
    "# busca la palabra sola sin mezcla, que no sea prefijo o sufijo, los simbolos no bloquean la busqueda\n",
    "comando = 'git grep -iw {frase_a_buscar}'.format(frase_a_buscar=frase_a_buscar)\n",
    "ejecutar_comando_git(comando)"
   ]
  },
  {
   "cell_type": "markdown",
   "id": "07003e4c-9c59-4638-8e9c-9e7ba0da0afc",
   "metadata": {},
   "source": [
    "### BUSQUEDA CON INTERVALO DE LINEAS POR ENCIMA Y POR DEBAJO DEL TEXTO A BUSCAR"
   ]
  },
  {
   "cell_type": "code",
   "execution_count": 154,
   "id": "b0f80eb5-310a-45df-b20e-5ac839981d6b",
   "metadata": {
    "scrolled": true,
    "tags": []
   },
   "outputs": [
    {
     "name": "stdout",
     "output_type": "stream",
     "text": [
      "############################################# COMANDO A EJECUTAR #############################################\n",
      "git grep -i -C 2 Information\n",
      "####################################### RESULTADO DE COMANDO EJECUTADO #######################################\n",
      "LICENSE-the only significant mode of use of the product.\n",
      "LICENSE-\n",
      "LICENSE:  \"Installation Information\" for a User Product means any methods,\n",
      "LICENSE:procedures, authorization keys, or other information required to install\n",
      "LICENSE-and execute modified versions of a covered work in that User Product from\n",
      "LICENSE:a modified version of its Corresponding Source.  The information must\n",
      "LICENSE-suffice to ensure that the continued functioning of the modified object\n",
      "LICENSE-code is in no case prevented or interfered with solely because\n",
      "--\n",
      "LICENSE-fixed term (regardless of how the transaction is characterized), the\n",
      "LICENSE-Corresponding Source conveyed under this section must be accompanied\n",
      "LICENSE:by the Installation Information.  But this requirement does not apply\n",
      "LICENSE-if neither you nor any third party retains the ability to install\n",
      "LICENSE-modified object code on the User Product (for example, the work has\n",
      "LICENSE-been installed in ROM).\n",
      "LICENSE-\n",
      "LICENSE:  The requirement to provide Installation Information does not include a\n",
      "LICENSE-requirement to continue to provide support service, warranty, or updates\n",
      "LICENSE-for a work that has been modified or installed by the recipient, or for\n",
      "--\n",
      "LICENSE-protocols for communication across the network.\n",
      "LICENSE-\n",
      "LICENSE:  Corresponding Source conveyed, and Installation Information provided,\n",
      "LICENSE-in accord with this section must be in a format that is publicly\n",
      "LICENSE-documented (and with an implementation available to the public in\n",
      "--\n",
      "LICENSE-    along with this program.  If not, see <https://www.gnu.org/licenses/>.\n",
      "LICENSE-\n",
      "LICENSE:Also add information on how to contact you by electronic and paper mail.\n",
      "LICENSE-\n",
      "LICENSE-  If the program does terminal interaction, make it output a short\n",
      "--\n",
      "LICENSE-  You should also get your employer (if you work as a programmer) or school,\n",
      "LICENSE-if any, to sign a \"copyright disclaimer\" for the program, if necessary.\n",
      "LICENSE:For more information on this, and how to apply and follow the GNU GPL, see\n",
      "LICENSE-<https://www.gnu.org/licenses/>.\n",
      "LICENSE-\n",
      "##############################################################################################################\n",
      "\n"
     ]
    }
   ],
   "source": [
    "# divide el texto y muestra con C cuantas lineas detexto por debajo y por encima existe al filtrar la palabra deseada\n",
    "comando = 'git grep -i -C 2 {frase_a_buscar}'.format(frase_a_buscar=frase_a_buscar)\n",
    "ejecutar_comando_git(comando)"
   ]
  },
  {
   "cell_type": "markdown",
   "id": "da376f7d-0d00-4978-8e48-eb8aeb78a212",
   "metadata": {},
   "source": [
    "### MOSTRAR EL ARCHIVO Y EL NUMERO DE LA LINEA DONDE ESTA EL TEXTO BUSCADO"
   ]
  },
  {
   "cell_type": "code",
   "execution_count": 161,
   "id": "a9936806-0069-421b-a638-a55497c4df8d",
   "metadata": {
    "tags": []
   },
   "outputs": [
    {
     "name": "stdout",
     "output_type": "stream",
     "text": [
      "############################################# COMANDO A EJECUTAR #############################################\n",
      "git grep -i -n 7\n",
      "####################################### RESULTADO DE COMANDO EJECUTADO #######################################\n",
      "Dockerfile:1:1679722182.502817 \n",
      "LICENSE:2:                       Version 3, 29 June 2007\n",
      "LICENSE:4: Copyright (C) 2007 Free Software Foundation, Inc. <https://fsf.org/>\n",
      "LICENSE:201:non-permissive terms added in accord with section 7 apply to the code;\n",
      "LICENSE:219:    7.  This requirement modifies the requirement in section 4 to\n",
      "LICENSE:224:    License will therefore apply, along with any applicable section 7\n",
      "LICENSE:343:  7. Additional Terms.\n",
      "LICENSE:534:or that patent license was granted, prior to 28 March 2007.\n",
      "LICENSE:612:  17. Interpretation of Sections 15 and 16.\n",
      "Manifest.yaml:1:1679722182.630345 \n",
      "addon.php:1:1679722183.321788 \n",
      "calculos.c:1:1679722183.154431 \n",
      "connection.java:1:1679722183.004691 \n",
      "dataset.avro:1:1679722183.759946 \n",
      "imagen.png:1:1679722182.753655 \n",
      "info.txt:1:1679722182.365134 \n",
      "link.vs:1:1679722183.910261 \n",
      "main.py:1:1679722182.887059 \n",
      "query.sql:1:1679722183.606891 \n",
      "utils.gif:1:1679722183.459935 \n",
      "##############################################################################################################\n",
      "\n"
     ]
    }
   ],
   "source": [
    "comando = 'git grep -i -n {frase_a_buscar}'.format(frase_a_buscar=frase_a_buscar)\n",
    "ejecutar_comando_git(comando)"
   ]
  },
  {
   "cell_type": "markdown",
   "id": "a635a5d2-fac3-4b87-a9da-9594d6ce2f5e",
   "metadata": {},
   "source": [
    "# <center> LISTAR EL HISTORIAL DE TODAS LAS ACCIONES REALIZADAS EN UN REPOSITORIO GIT <br> LISTADO DESDE EL MAS NUEVO HASTA EL PRIMER CAMBIO</br></center>"
   ]
  },
  {
   "cell_type": "code",
   "execution_count": 70,
   "id": "d6113c4b-2a96-407f-bf7d-291ad770fe4e",
   "metadata": {
    "tags": []
   },
   "outputs": [
    {
     "name": "stdout",
     "output_type": "stream",
     "text": [
      "############################################# COMANDO A EJECUTAR #############################################\n",
      "git reflog\n",
      "####################################### RESULTADO DE COMANDO EJECUTADO #######################################\n",
      "4d3804d HEAD@{0}: commit: ADICIONADO ARCHIVO link.vs 2023-03-25 00:15:52.458470\n",
      "2418793 HEAD@{1}: commit: ADICIONADO ARCHIVO dataset.avro 2023-03-25 00:15:52.458470\n",
      "4df3a6d HEAD@{2}: commit: ADICIONADO ARCHIVO query.sql 2023-03-25 00:15:52.458470\n",
      "fd50fc2 HEAD@{3}: commit: ADICIONADO ARCHIVO utils.gif 2023-03-25 00:15:52.458470\n",
      "1875d55 HEAD@{4}: commit: ADICIONADO ARCHIVO addon.php 2023-03-25 00:15:52.458470\n",
      "b253cdf HEAD@{5}: commit: ADICIONADO ARCHIVO calculos.c 2023-03-25 00:15:52.458470\n",
      "b85d6db HEAD@{6}: commit: ADICIONADO ARCHIVO connection.java 2023-03-25 00:15:52.458470\n",
      "ab8a619 HEAD@{7}: commit: ADICIONADO ARCHIVO main.py 2023-03-25 00:15:52.458470\n",
      "842b87c HEAD@{8}: commit: ADICIONADO ARCHIVO imagen.png 2023-03-25 00:15:52.458470\n",
      "cf184b6 HEAD@{9}: commit: ADICIONADO ARCHIVO Manifest.yaml 2023-03-25 00:15:52.458470\n",
      "e92d82a HEAD@{10}: commit: ADICIONADO ARCHIVO Dockerfile 2023-03-25 00:15:52.458470\n",
      "8b79646 HEAD@{11}: commit: ADICIONADO ARCHIVO info.txt 2023-03-25 00:15:52.458470\n",
      "3b4edb5 HEAD@{12}: checkout: moving from main to commit_branch\n",
      "3b4edb5 HEAD@{13}: checkout: moving from utils to main\n",
      "1d1614a HEAD@{14}: commit (initial): adicionados archivos de prueba\n",
      "3b4edb5 HEAD@{15}: checkout: moving from utils to main\n",
      "ccab0e9 HEAD@{16}: commit (initial): adicionados archivos de prueba\n",
      "3b4edb5 HEAD@{17}: checkout: moving from multi_commits_copia to main\n",
      "de8d15f HEAD@{18}: commit: adicionados archivos nuevos\n",
      "8372eba HEAD@{19}: commit: adicionados archivo de prueba\n",
      "67e732f HEAD@{20}: checkout: moving from multi_commits to multi_commits_copia\n",
      "67e732f HEAD@{21}: checkout: moving from multi_commits_copia to multi_commits\n",
      "67e732f HEAD@{22}: checkout: moving from rama_acceso_rapido to multi_commits_copia\n",
      "3b4edb5 HEAD@{23}: checkout: moving from nueva_rama to rama_acceso_rapido\n",
      "3b4edb5 HEAD@{24}: checkout: moving from main to nueva_rama\n",
      "3b4edb5 HEAD@{25}: clone: from https://github.com/JorgeCardona/comandos_git.git\n",
      "##############################################################################################################\n",
      "\n",
      "############################################# COMANDO A EJECUTAR #############################################\n",
      "git branch\n",
      "####################################### RESULTADO DE COMANDO EJECUTADO #######################################\n",
      "* commit_branch\n",
      "  main\n",
      "  multi_commits\n",
      "  utils\n",
      "##############################################################################################################\n",
      "\n"
     ]
    }
   ],
   "source": [
    "comando = 'git reflog'\n",
    "ejecutar_comando_git(comando)\n",
    "ejecutar_comando_shell()"
   ]
  },
  {
   "cell_type": "markdown",
   "id": "a4ca23d2-6a1a-42a6-b36f-2643f785f690",
   "metadata": {
    "tags": []
   },
   "source": [
    "#### ELIMINAR LA RAMA EN EL REPOSITORIO REMOTO Y LOCAL"
   ]
  },
  {
   "cell_type": "code",
   "execution_count": 71,
   "id": "7d5982f1-18fb-4245-a3ed-e4ffd1713305",
   "metadata": {},
   "outputs": [
    {
     "name": "stdout",
     "output_type": "stream",
     "text": [
      "############################################# COMANDO A EJECUTAR #############################################\n",
      "git checkout main\n",
      "####################################### RESULTADO DE COMANDO EJECUTADO #######################################\n",
      "Your branch is up to date with 'origin/main'.\n",
      "##############################################################################################################\n",
      "\n",
      "############################################# COMANDO A EJECUTAR #############################################\n",
      "git push origin -d commit_branch\n",
      "####################################### RESULTADO DE COMANDO EJECUTADO #######################################\n",
      "##############################################################################################################\n",
      "\n",
      "############################################# COMANDO A EJECUTAR #############################################\n",
      "git branch -D commit_branch\n",
      "####################################### RESULTADO DE COMANDO EJECUTADO #######################################\n",
      "Deleted branch commit_branch (was 4d3804d).\n",
      "##############################################################################################################\n",
      "\n",
      "############################################# COMANDO A EJECUTAR #############################################\n",
      "git branch -a\n",
      "####################################### RESULTADO DE COMANDO EJECUTADO #######################################\n",
      "* main\n",
      "  multi_commits\n",
      "  utils\n",
      "  remotes/origin/HEAD -> origin/main\n",
      "  remotes/origin/main\n",
      "  remotes/origin/multi_commits\n",
      "##############################################################################################################\n",
      "\n"
     ]
    }
   ],
   "source": [
    "comando = 'git checkout main'\n",
    "ejecutar_comando_git(comando)\n",
    "\n",
    "comando = 'git push origin -d {nombre_rama}'.format(nombre_rama=nombre_rama)\n",
    "ejecutar_comando_git(comando)\n",
    "\n",
    "comando = 'git branch -D {nombre_rama}'.format(nombre_rama=nombre_rama)\n",
    "ejecutar_comando_git(comando)\n",
    "\n",
    "comando = 'git branch -a'\n",
    "ejecutar_comando_git(comando)"
   ]
  },
  {
   "cell_type": "markdown",
   "id": "c35db3d6-6403-4e68-966b-af50f54f40cf",
   "metadata": {},
   "source": [
    "# <center> MODIFICAR EL MENSAJE DEL ULTIMO COMMIT</center>"
   ]
  },
  {
   "cell_type": "code",
   "execution_count": 72,
   "id": "bcea54f7-358f-4e5c-afa0-e5ee5c237900",
   "metadata": {
    "scrolled": true,
    "tags": []
   },
   "outputs": [
    {
     "name": "stdout",
     "output_type": "stream",
     "text": [
      "############################################# COMANDO A EJECUTAR #############################################\n",
      "git restore .\n",
      "####################################### RESULTADO DE COMANDO EJECUTADO #######################################\n",
      "##############################################################################################################\n",
      "\n",
      "############################################# COMANDO A EJECUTAR #############################################\n",
      "git checkout main\n",
      "####################################### RESULTADO DE COMANDO EJECUTADO #######################################\n",
      "Your branch is up to date with 'origin/main'.\n",
      "##############################################################################################################\n",
      "\n",
      "############################################# COMANDO A EJECUTAR #############################################\n",
      "git branch -a\n",
      "####################################### RESULTADO DE COMANDO EJECUTADO #######################################\n",
      "* main\n",
      "  multi_commits\n",
      "  utils\n",
      "  remotes/origin/HEAD -> origin/main\n",
      "  remotes/origin/main\n",
      "  remotes/origin/multi_commits\n",
      "##############################################################################################################\n",
      "\n",
      "############################################# COMANDO A EJECUTAR #############################################\n",
      "git branch -a\n",
      "####################################### RESULTADO DE COMANDO EJECUTADO #######################################\n",
      "* main\n",
      "  multi_commits\n",
      "  utils\n",
      "  remotes/origin/HEAD -> origin/main\n",
      "  remotes/origin/main\n",
      "  remotes/origin/multi_commits\n",
      "##############################################################################################################\n",
      "\n",
      "############################################# COMANDO A EJECUTAR #############################################\n",
      "git checkout -b amend_branch\n",
      "####################################### RESULTADO DE COMANDO EJECUTADO #######################################\n",
      "##############################################################################################################\n",
      "\n",
      "############################################# COMANDO A EJECUTAR #############################################\n",
      "git branch\n",
      "####################################### RESULTADO DE COMANDO EJECUTADO #######################################\n",
      "* amend_branch\n",
      "  main\n",
      "  multi_commits\n",
      "  utils\n",
      "##############################################################################################################\n",
      "\n",
      "lista_de_archivos = ['info.txt']\n",
      "############################################# COMANDO A EJECUTAR #############################################\n",
      "echo 1679721363.525926 >> info.txt\n",
      "####################################### RESULTADO DE COMANDO EJECUTADO #######################################\n",
      "##############################################################################################################\n",
      "\n",
      "############################################# COMANDO A EJECUTAR #############################################\n",
      "git add info.txt\n",
      "####################################### RESULTADO DE COMANDO EJECUTADO #######################################\n",
      "##############################################################################################################\n",
      "\n",
      "############################################# COMANDO A EJECUTAR #############################################\n",
      "git commit -m \"ADICIONADO ARCHIVO info.txt 2023-03-25 00:16:03.421001\"\n",
      "####################################### RESULTADO DE COMANDO EJECUTADO #######################################\n",
      "[amend_branch 698ed5c] ADICIONADO ARCHIVO info.txt 2023-03-25 00:16:03.421001\n",
      " 1 file changed, 1 insertion(+)\n",
      " create mode 100644 info.txt\n",
      "##############################################################################################################\n",
      "\n",
      "############################################# COMANDO A EJECUTAR #############################################\n",
      "git status\n",
      "####################################### RESULTADO DE COMANDO EJECUTADO #######################################\n",
      "On branch amend_branch\n",
      "nothing to commit, working tree clean\n",
      "##############################################################################################################\n",
      "\n",
      "############################################# COMANDO A EJECUTAR #############################################\n",
      "git log --graph --oneline\n",
      "####################################### RESULTADO DE COMANDO EJECUTADO #######################################\n",
      "* 698ed5c ADICIONADO ARCHIVO info.txt 2023-03-25 00:16:03.421001\n",
      "* 3b4edb5 adicionados archivo de configuracion y requerimientos\n",
      "* d15fad2 Initial commit\n",
      "##############################################################################################################\n",
      "\n",
      "############################################# COMANDO A EJECUTAR #############################################\n",
      "git push --set-upstream origin amend_branch\n",
      "####################################### RESULTADO DE COMANDO EJECUTADO #######################################\n",
      "Branch 'amend_branch' set up to track remote branch 'amend_branch' from 'origin'.\n",
      "##############################################################################################################\n",
      "\n",
      "############################################# COMANDO A EJECUTAR #############################################\n",
      "git branch\n",
      "####################################### RESULTADO DE COMANDO EJECUTADO #######################################\n",
      "* amend_branch\n",
      "  main\n",
      "  multi_commits\n",
      "  utils\n",
      "##############################################################################################################\n",
      "\n"
     ]
    }
   ],
   "source": [
    "nombre_rama = 'amend_branch'\n",
    "generar_archivos_y_hacer_commit(nombre_rama=nombre_rama, todos_los_archivos=False)"
   ]
  },
  {
   "cell_type": "markdown",
   "id": "04a2bd03-dc9d-4573-b7a0-0e7185687dc5",
   "metadata": {},
   "source": [
    "# EN LA CONSOLA DE VSCODE\n",
    "# git commit --amend\n",
    "\n",
    "## SE ABRE AUTOMATICAMENTE EL EDITOR DE TEXTO, reemplazar el emnsaje del commit anterior por el que se quiere y cerrar el archivo\n",
    "## validar en local con git log, no afecta la hora del commit original con la fecha del mensaje actualizado\n",
    "## subir los cambios al repositorio¶\n",
    "# git push --force origin amend_branch"
   ]
  },
  {
   "cell_type": "code",
   "execution_count": 73,
   "id": "62fd5b2d-c35e-452c-8929-fbbd9314f90f",
   "metadata": {
    "scrolled": true,
    "tags": []
   },
   "outputs": [
    {
     "name": "stdout",
     "output_type": "stream",
     "text": [
      "############################################# COMANDO A EJECUTAR #############################################\n",
      "git log\n",
      "####################################### RESULTADO DE COMANDO EJECUTADO #######################################\n",
      "commit 698ed5c73a4257151e5b11f9931be3f2010e4606\n",
      "Author: PARADIGMA\\QiDimMak <jorgecardona@utp.edu.co>\n",
      "Date:   Sat Mar 25 00:16:03 2023 -0500\n",
      "\n",
      "    ADICIONADO ARCHIVO info.txt 2023-03-25 00:16:03.421001\n",
      "\n",
      "commit 3b4edb5a785dcc5841b35cd2ad93033cd29cb730\n",
      "Author: PARADIGMA\\QiDimMak <jorgecardona@utp.edu.co>\n",
      "Date:   Fri Mar 17 20:39:55 2023 -0500\n",
      "\n",
      "    adicionados archivo de configuracion y requerimientos\n",
      "\n",
      "commit d15fad27cb8d1bcb6a0e697ef02e2d787dc51b48\n",
      "Author: JorgeCardona <jorgecardona@utp.edu.co>\n",
      "Date:   Fri Mar 17 20:27:49 2023 -0500\n",
      "\n",
      "    Initial commit\n",
      "##############################################################################################################\n",
      "\n"
     ]
    }
   ],
   "source": [
    "comando = 'git log'\n",
    "ejecutar_comando_git(comando)"
   ]
  },
  {
   "cell_type": "markdown",
   "id": "85f441a3-5119-4832-93eb-44604777da3e",
   "metadata": {
    "tags": []
   },
   "source": [
    "#### ELIMINAR LA RAMA EN EL REPOSITORIO REMOTO Y LOCAL"
   ]
  },
  {
   "cell_type": "code",
   "execution_count": 74,
   "id": "743a5af2-8952-4143-961a-b7bf4b9e31a2",
   "metadata": {},
   "outputs": [
    {
     "name": "stdout",
     "output_type": "stream",
     "text": [
      "############################################# COMANDO A EJECUTAR #############################################\n",
      "git checkout main\n",
      "####################################### RESULTADO DE COMANDO EJECUTADO #######################################\n",
      "Your branch is up to date with 'origin/main'.\n",
      "##############################################################################################################\n",
      "\n",
      "############################################# COMANDO A EJECUTAR #############################################\n",
      "git push origin -d amend_branch\n",
      "####################################### RESULTADO DE COMANDO EJECUTADO #######################################\n",
      "##############################################################################################################\n",
      "\n",
      "############################################# COMANDO A EJECUTAR #############################################\n",
      "git branch -D amend_branch\n",
      "####################################### RESULTADO DE COMANDO EJECUTADO #######################################\n",
      "Deleted branch amend_branch (was 698ed5c).\n",
      "##############################################################################################################\n",
      "\n",
      "############################################# COMANDO A EJECUTAR #############################################\n",
      "git branch -a\n",
      "####################################### RESULTADO DE COMANDO EJECUTADO #######################################\n",
      "* main\n",
      "  multi_commits\n",
      "  utils\n",
      "  remotes/origin/HEAD -> origin/main\n",
      "  remotes/origin/main\n",
      "  remotes/origin/multi_commits\n",
      "##############################################################################################################\n",
      "\n"
     ]
    }
   ],
   "source": [
    "comando = 'git checkout main'\n",
    "ejecutar_comando_git(comando)\n",
    "\n",
    "comando = 'git push origin -d {nombre_rama}'.format(nombre_rama=nombre_rama)\n",
    "ejecutar_comando_git(comando)\n",
    "\n",
    "comando = 'git branch -D {nombre_rama}'.format(nombre_rama=nombre_rama)\n",
    "ejecutar_comando_git(comando)\n",
    "\n",
    "comando = 'git branch -a'\n",
    "ejecutar_comando_git(comando)"
   ]
  },
  {
   "cell_type": "markdown",
   "id": "3f4b9314-b71f-4f83-b10f-2a2e8b201580",
   "metadata": {},
   "source": [
    "# <center> REGRESAR A UNA VERSION ANTERIOR DE UN REPOSITORIO GIT</center>"
   ]
  },
  {
   "cell_type": "markdown",
   "id": "259eea42-f14d-446b-b01d-ad0aeffcb3d7",
   "metadata": {},
   "source": [
    "### DETACHED - MOVERSE A UN COMMIT ESPECIFICO Y PONER ESTE COMMIT CON LA NUEVA HEAD"
   ]
  },
  {
   "cell_type": "code",
   "execution_count": 75,
   "id": "554290ba-8a54-44ad-9314-825f031a9396",
   "metadata": {
    "scrolled": true,
    "tags": []
   },
   "outputs": [
    {
     "name": "stdout",
     "output_type": "stream",
     "text": [
      "############################################# COMANDO A EJECUTAR #############################################\n",
      "git checkout multi_commits\n",
      "####################################### RESULTADO DE COMANDO EJECUTADO #######################################\n",
      "Your branch is up to date with 'origin/multi_commits'.\n",
      "##############################################################################################################\n",
      "\n",
      "############################################# COMANDO A EJECUTAR #############################################\n",
      "git checkout d15fad27cb8d1bcb6a0e697ef02e2d787dc51b48\n",
      "####################################### RESULTADO DE COMANDO EJECUTADO #######################################\n",
      "##############################################################################################################\n",
      "\n",
      "############################################# COMANDO A EJECUTAR #############################################\n",
      "git log --oneline\n",
      "####################################### RESULTADO DE COMANDO EJECUTADO #######################################\n",
      "d15fad2 Initial commit\n",
      "##############################################################################################################\n",
      "\n",
      "############################################# COMANDO A EJECUTAR #############################################\n",
      "git branch\n",
      "####################################### RESULTADO DE COMANDO EJECUTADO #######################################\n",
      "* (HEAD detached at d15fad2)\n",
      "  main\n",
      "  multi_commits\n",
      "  utils\n",
      "##############################################################################################################\n",
      "\n"
     ]
    }
   ],
   "source": [
    "comando = 'git checkout multi_commits'\n",
    "ejecutar_comando_git(comando)\n",
    "\n",
    "comando = 'git checkout d15fad27cb8d1bcb6a0e697ef02e2d787dc51b48'\n",
    "ejecutar_comando_git(comando)\n",
    "\n",
    "comando = 'git log --oneline'\n",
    "ejecutar_comando_git(comando)\n",
    "\n",
    "ejecutar_comando_shell()"
   ]
  },
  {
   "cell_type": "markdown",
   "id": "d5838e4b-70fd-4f79-aa4a-4317fb7379ce",
   "metadata": {},
   "source": [
    "### RETORNA AL HEAD ORIGINAL DE LA RAMA"
   ]
  },
  {
   "cell_type": "code",
   "execution_count": 76,
   "id": "697ab643-0f90-4ff3-94e6-f1abc58cd7de",
   "metadata": {
    "scrolled": true,
    "tags": []
   },
   "outputs": [
    {
     "name": "stdout",
     "output_type": "stream",
     "text": [
      "############################################# COMANDO A EJECUTAR #############################################\n",
      "git switch -\n",
      "####################################### RESULTADO DE COMANDO EJECUTADO #######################################\n",
      "Your branch is up to date with 'origin/multi_commits'.\n",
      "##############################################################################################################\n",
      "\n",
      "############################################# COMANDO A EJECUTAR #############################################\n",
      "git log --oneline\n",
      "####################################### RESULTADO DE COMANDO EJECUTADO #######################################\n",
      "67e732f adicionado archivo html\n",
      "1d9c154 adicionado archivo csv\n",
      "dcfb55b adicionado archivo excel\n",
      "52ff70b adicionado archivo pdf\n",
      "3b4edb5 adicionados archivo de configuracion y requerimientos\n",
      "d15fad2 Initial commit\n",
      "##############################################################################################################\n",
      "\n",
      "############################################# COMANDO A EJECUTAR #############################################\n",
      "git branch\n",
      "####################################### RESULTADO DE COMANDO EJECUTADO #######################################\n",
      "  main\n",
      "* multi_commits\n",
      "  utils\n",
      "##############################################################################################################\n",
      "\n"
     ]
    }
   ],
   "source": [
    "comando = 'git switch -'\n",
    "ejecutar_comando_git(comando)\n",
    "\n",
    "comando = 'git log --oneline'\n",
    "ejecutar_comando_git(comando)\n",
    "\n",
    "ejecutar_comando_shell()"
   ]
  },
  {
   "cell_type": "markdown",
   "id": "ba29758c-fa6f-49cc-8fd6-c07523b4f339",
   "metadata": {},
   "source": [
    "# <center> RESET COMMITs DE UN REPOSITORIO</center>"
   ]
  },
  {
   "cell_type": "code",
   "execution_count": 77,
   "id": "fb700ec4-bd71-4094-b7e6-6161977c15ac",
   "metadata": {
    "scrolled": true,
    "tags": []
   },
   "outputs": [
    {
     "name": "stdout",
     "output_type": "stream",
     "text": [
      "############################################# COMANDO A EJECUTAR #############################################\n",
      "git restore .\n",
      "####################################### RESULTADO DE COMANDO EJECUTADO #######################################\n",
      "##############################################################################################################\n",
      "\n",
      "############################################# COMANDO A EJECUTAR #############################################\n",
      "git checkout main\n",
      "####################################### RESULTADO DE COMANDO EJECUTADO #######################################\n",
      "Your branch is up to date with 'origin/main'.\n",
      "##############################################################################################################\n",
      "\n",
      "############################################# COMANDO A EJECUTAR #############################################\n",
      "git branch -a\n",
      "####################################### RESULTADO DE COMANDO EJECUTADO #######################################\n",
      "* main\n",
      "  multi_commits\n",
      "  utils\n",
      "  remotes/origin/HEAD -> origin/main\n",
      "  remotes/origin/main\n",
      "  remotes/origin/multi_commits\n",
      "##############################################################################################################\n",
      "\n",
      "############################################# COMANDO A EJECUTAR #############################################\n",
      "git branch -a\n",
      "####################################### RESULTADO DE COMANDO EJECUTADO #######################################\n",
      "* main\n",
      "  multi_commits\n",
      "  utils\n",
      "  remotes/origin/HEAD -> origin/main\n",
      "  remotes/origin/main\n",
      "  remotes/origin/multi_commits\n",
      "##############################################################################################################\n",
      "\n",
      "############################################# COMANDO A EJECUTAR #############################################\n",
      "git checkout -b reset_branch\n",
      "####################################### RESULTADO DE COMANDO EJECUTADO #######################################\n",
      "##############################################################################################################\n",
      "\n",
      "############################################# COMANDO A EJECUTAR #############################################\n",
      "git branch\n",
      "####################################### RESULTADO DE COMANDO EJECUTADO #######################################\n",
      "  main\n",
      "  multi_commits\n",
      "* reset_branch\n",
      "  utils\n",
      "##############################################################################################################\n",
      "\n",
      "lista_de_archivos = ['info.txt', 'Dockerfile', 'Manifest.yaml', 'imagen.png', 'main.py', 'connection.java', 'calculos.c', 'addon.php', 'utils.gif', 'query.sql', 'dataset.avro', 'link.vs']\n",
      "############################################# COMANDO A EJECUTAR #############################################\n",
      "echo 1679721370.462938 >> info.txt\n",
      "####################################### RESULTADO DE COMANDO EJECUTADO #######################################\n",
      "##############################################################################################################\n",
      "\n",
      "############################################# COMANDO A EJECUTAR #############################################\n",
      "echo 1679721370.629409 >> Dockerfile\n",
      "####################################### RESULTADO DE COMANDO EJECUTADO #######################################\n",
      "##############################################################################################################\n",
      "\n",
      "############################################# COMANDO A EJECUTAR #############################################\n",
      "echo 1679721370.812605 >> Manifest.yaml\n",
      "####################################### RESULTADO DE COMANDO EJECUTADO #######################################\n",
      "##############################################################################################################\n",
      "\n",
      "############################################# COMANDO A EJECUTAR #############################################\n",
      "echo 1679721371.001477 >> imagen.png\n",
      "####################################### RESULTADO DE COMANDO EJECUTADO #######################################\n",
      "##############################################################################################################\n",
      "\n",
      "############################################# COMANDO A EJECUTAR #############################################\n",
      "echo 1679721371.15696 >> main.py\n",
      "####################################### RESULTADO DE COMANDO EJECUTADO #######################################\n",
      "##############################################################################################################\n",
      "\n",
      "############################################# COMANDO A EJECUTAR #############################################\n",
      "echo 1679721371.305604 >> connection.java\n",
      "####################################### RESULTADO DE COMANDO EJECUTADO #######################################\n",
      "##############################################################################################################\n",
      "\n",
      "############################################# COMANDO A EJECUTAR #############################################\n",
      "echo 1679721371.462038 >> calculos.c\n",
      "####################################### RESULTADO DE COMANDO EJECUTADO #######################################\n",
      "##############################################################################################################\n",
      "\n",
      "############################################# COMANDO A EJECUTAR #############################################\n",
      "echo 1679721371.625195 >> addon.php\n",
      "####################################### RESULTADO DE COMANDO EJECUTADO #######################################\n",
      "##############################################################################################################\n",
      "\n",
      "############################################# COMANDO A EJECUTAR #############################################\n",
      "echo 1679721371.758234 >> utils.gif\n",
      "####################################### RESULTADO DE COMANDO EJECUTADO #######################################\n",
      "##############################################################################################################\n",
      "\n",
      "############################################# COMANDO A EJECUTAR #############################################\n",
      "echo 1679721371.874696 >> query.sql\n",
      "####################################### RESULTADO DE COMANDO EJECUTADO #######################################\n",
      "##############################################################################################################\n",
      "\n",
      "############################################# COMANDO A EJECUTAR #############################################\n",
      "echo 1679721371.990626 >> dataset.avro\n",
      "####################################### RESULTADO DE COMANDO EJECUTADO #######################################\n",
      "##############################################################################################################\n",
      "\n",
      "############################################# COMANDO A EJECUTAR #############################################\n",
      "echo 1679721372.143249 >> link.vs\n",
      "####################################### RESULTADO DE COMANDO EJECUTADO #######################################\n",
      "##############################################################################################################\n",
      "\n",
      "############################################# COMANDO A EJECUTAR #############################################\n",
      "git add info.txt\n",
      "####################################### RESULTADO DE COMANDO EJECUTADO #######################################\n",
      "##############################################################################################################\n",
      "\n",
      "############################################# COMANDO A EJECUTAR #############################################\n",
      "git commit -m \"ADICIONADO ARCHIVO info.txt 2023-03-25 00:16:10.361355\"\n",
      "####################################### RESULTADO DE COMANDO EJECUTADO #######################################\n",
      "[reset_branch 8e2d07e] ADICIONADO ARCHIVO info.txt 2023-03-25 00:16:10.361355\n",
      " 1 file changed, 1 insertion(+)\n",
      " create mode 100644 info.txt\n",
      "##############################################################################################################\n",
      "\n",
      "############################################# COMANDO A EJECUTAR #############################################\n",
      "git add Dockerfile\n",
      "####################################### RESULTADO DE COMANDO EJECUTADO #######################################\n",
      "##############################################################################################################\n",
      "\n",
      "############################################# COMANDO A EJECUTAR #############################################\n",
      "git commit -m \"ADICIONADO ARCHIVO Dockerfile 2023-03-25 00:16:10.361355\"\n",
      "####################################### RESULTADO DE COMANDO EJECUTADO #######################################\n",
      "[reset_branch 38eab92] ADICIONADO ARCHIVO Dockerfile 2023-03-25 00:16:10.361355\n",
      " 1 file changed, 1 insertion(+)\n",
      " create mode 100644 Dockerfile\n",
      "##############################################################################################################\n",
      "\n",
      "############################################# COMANDO A EJECUTAR #############################################\n",
      "git add Manifest.yaml\n",
      "####################################### RESULTADO DE COMANDO EJECUTADO #######################################\n",
      "##############################################################################################################\n",
      "\n",
      "############################################# COMANDO A EJECUTAR #############################################\n",
      "git commit -m \"ADICIONADO ARCHIVO Manifest.yaml 2023-03-25 00:16:10.361355\"\n",
      "####################################### RESULTADO DE COMANDO EJECUTADO #######################################\n",
      "[reset_branch aa6f6ab] ADICIONADO ARCHIVO Manifest.yaml 2023-03-25 00:16:10.361355\n",
      " 1 file changed, 1 insertion(+)\n",
      " create mode 100644 Manifest.yaml\n",
      "##############################################################################################################\n",
      "\n",
      "############################################# COMANDO A EJECUTAR #############################################\n",
      "git add imagen.png\n",
      "####################################### RESULTADO DE COMANDO EJECUTADO #######################################\n",
      "##############################################################################################################\n",
      "\n",
      "############################################# COMANDO A EJECUTAR #############################################\n",
      "git commit -m \"ADICIONADO ARCHIVO imagen.png 2023-03-25 00:16:10.361355\"\n",
      "####################################### RESULTADO DE COMANDO EJECUTADO #######################################\n",
      "[reset_branch b755a7d] ADICIONADO ARCHIVO imagen.png 2023-03-25 00:16:10.361355\n",
      " 1 file changed, 1 insertion(+)\n",
      " create mode 100644 imagen.png\n",
      "##############################################################################################################\n",
      "\n",
      "############################################# COMANDO A EJECUTAR #############################################\n",
      "git add main.py\n",
      "####################################### RESULTADO DE COMANDO EJECUTADO #######################################\n",
      "##############################################################################################################\n",
      "\n",
      "############################################# COMANDO A EJECUTAR #############################################\n",
      "git commit -m \"ADICIONADO ARCHIVO main.py 2023-03-25 00:16:10.361355\"\n",
      "####################################### RESULTADO DE COMANDO EJECUTADO #######################################\n",
      "[reset_branch 888c47d] ADICIONADO ARCHIVO main.py 2023-03-25 00:16:10.361355\n",
      " 1 file changed, 1 insertion(+)\n",
      " create mode 100644 main.py\n",
      "##############################################################################################################\n",
      "\n",
      "############################################# COMANDO A EJECUTAR #############################################\n",
      "git add connection.java\n",
      "####################################### RESULTADO DE COMANDO EJECUTADO #######################################\n",
      "##############################################################################################################\n",
      "\n",
      "############################################# COMANDO A EJECUTAR #############################################\n",
      "git commit -m \"ADICIONADO ARCHIVO connection.java 2023-03-25 00:16:10.361355\"\n",
      "####################################### RESULTADO DE COMANDO EJECUTADO #######################################\n",
      "[reset_branch 48c3bfe] ADICIONADO ARCHIVO connection.java 2023-03-25 00:16:10.361355\n",
      " 1 file changed, 1 insertion(+)\n",
      " create mode 100644 connection.java\n",
      "##############################################################################################################\n",
      "\n",
      "############################################# COMANDO A EJECUTAR #############################################\n",
      "git add calculos.c\n",
      "####################################### RESULTADO DE COMANDO EJECUTADO #######################################\n",
      "##############################################################################################################\n",
      "\n",
      "############################################# COMANDO A EJECUTAR #############################################\n",
      "git commit -m \"ADICIONADO ARCHIVO calculos.c 2023-03-25 00:16:10.361355\"\n",
      "####################################### RESULTADO DE COMANDO EJECUTADO #######################################\n",
      "[reset_branch e546c62] ADICIONADO ARCHIVO calculos.c 2023-03-25 00:16:10.361355\n",
      " 1 file changed, 1 insertion(+)\n",
      " create mode 100644 calculos.c\n",
      "##############################################################################################################\n",
      "\n",
      "############################################# COMANDO A EJECUTAR #############################################\n",
      "git add addon.php\n",
      "####################################### RESULTADO DE COMANDO EJECUTADO #######################################\n",
      "##############################################################################################################\n",
      "\n",
      "############################################# COMANDO A EJECUTAR #############################################\n",
      "git commit -m \"ADICIONADO ARCHIVO addon.php 2023-03-25 00:16:10.361355\"\n",
      "####################################### RESULTADO DE COMANDO EJECUTADO #######################################\n",
      "[reset_branch e8e1ceb] ADICIONADO ARCHIVO addon.php 2023-03-25 00:16:10.361355\n",
      " 1 file changed, 1 insertion(+)\n",
      " create mode 100644 addon.php\n",
      "##############################################################################################################\n",
      "\n",
      "############################################# COMANDO A EJECUTAR #############################################\n",
      "git add utils.gif\n",
      "####################################### RESULTADO DE COMANDO EJECUTADO #######################################\n",
      "##############################################################################################################\n",
      "\n",
      "############################################# COMANDO A EJECUTAR #############################################\n",
      "git commit -m \"ADICIONADO ARCHIVO utils.gif 2023-03-25 00:16:10.361355\"\n",
      "####################################### RESULTADO DE COMANDO EJECUTADO #######################################\n",
      "[reset_branch df4280b] ADICIONADO ARCHIVO utils.gif 2023-03-25 00:16:10.361355\n",
      " 1 file changed, 1 insertion(+)\n",
      " create mode 100644 utils.gif\n",
      "##############################################################################################################\n",
      "\n",
      "############################################# COMANDO A EJECUTAR #############################################\n",
      "git add query.sql\n",
      "####################################### RESULTADO DE COMANDO EJECUTADO #######################################\n",
      "##############################################################################################################\n",
      "\n",
      "############################################# COMANDO A EJECUTAR #############################################\n",
      "git commit -m \"ADICIONADO ARCHIVO query.sql 2023-03-25 00:16:10.361355\"\n",
      "####################################### RESULTADO DE COMANDO EJECUTADO #######################################\n",
      "[reset_branch 2af1895] ADICIONADO ARCHIVO query.sql 2023-03-25 00:16:10.361355\n",
      " 1 file changed, 1 insertion(+)\n",
      " create mode 100644 query.sql\n",
      "##############################################################################################################\n",
      "\n",
      "############################################# COMANDO A EJECUTAR #############################################\n",
      "git add dataset.avro\n",
      "####################################### RESULTADO DE COMANDO EJECUTADO #######################################\n",
      "##############################################################################################################\n",
      "\n",
      "############################################# COMANDO A EJECUTAR #############################################\n",
      "git commit -m \"ADICIONADO ARCHIVO dataset.avro 2023-03-25 00:16:10.361355\"\n",
      "####################################### RESULTADO DE COMANDO EJECUTADO #######################################\n",
      "[reset_branch cd451e7] ADICIONADO ARCHIVO dataset.avro 2023-03-25 00:16:10.361355\n",
      " 1 file changed, 1 insertion(+)\n",
      " create mode 100644 dataset.avro\n",
      "##############################################################################################################\n",
      "\n",
      "############################################# COMANDO A EJECUTAR #############################################\n",
      "git add link.vs\n",
      "####################################### RESULTADO DE COMANDO EJECUTADO #######################################\n",
      "##############################################################################################################\n",
      "\n",
      "############################################# COMANDO A EJECUTAR #############################################\n",
      "git commit -m \"ADICIONADO ARCHIVO link.vs 2023-03-25 00:16:10.361355\"\n",
      "####################################### RESULTADO DE COMANDO EJECUTADO #######################################\n",
      "[reset_branch 0984bdf] ADICIONADO ARCHIVO link.vs 2023-03-25 00:16:10.361355\n",
      " 1 file changed, 1 insertion(+)\n",
      " create mode 100644 link.vs\n",
      "##############################################################################################################\n",
      "\n",
      "############################################# COMANDO A EJECUTAR #############################################\n",
      "git status\n",
      "####################################### RESULTADO DE COMANDO EJECUTADO #######################################\n",
      "On branch reset_branch\n",
      "nothing to commit, working tree clean\n",
      "##############################################################################################################\n",
      "\n",
      "############################################# COMANDO A EJECUTAR #############################################\n",
      "git log --graph --oneline\n",
      "####################################### RESULTADO DE COMANDO EJECUTADO #######################################\n",
      "* 0984bdf ADICIONADO ARCHIVO link.vs 2023-03-25 00:16:10.361355\n",
      "* cd451e7 ADICIONADO ARCHIVO dataset.avro 2023-03-25 00:16:10.361355\n",
      "* 2af1895 ADICIONADO ARCHIVO query.sql 2023-03-25 00:16:10.361355\n",
      "* df4280b ADICIONADO ARCHIVO utils.gif 2023-03-25 00:16:10.361355\n",
      "* e8e1ceb ADICIONADO ARCHIVO addon.php 2023-03-25 00:16:10.361355\n",
      "* e546c62 ADICIONADO ARCHIVO calculos.c 2023-03-25 00:16:10.361355\n",
      "* 48c3bfe ADICIONADO ARCHIVO connection.java 2023-03-25 00:16:10.361355\n",
      "* 888c47d ADICIONADO ARCHIVO main.py 2023-03-25 00:16:10.361355\n",
      "* b755a7d ADICIONADO ARCHIVO imagen.png 2023-03-25 00:16:10.361355\n",
      "* aa6f6ab ADICIONADO ARCHIVO Manifest.yaml 2023-03-25 00:16:10.361355\n",
      "* 38eab92 ADICIONADO ARCHIVO Dockerfile 2023-03-25 00:16:10.361355\n",
      "* 8e2d07e ADICIONADO ARCHIVO info.txt 2023-03-25 00:16:10.361355\n",
      "* 3b4edb5 adicionados archivo de configuracion y requerimientos\n",
      "* d15fad2 Initial commit\n",
      "##############################################################################################################\n",
      "\n",
      "############################################# COMANDO A EJECUTAR #############################################\n",
      "git push --set-upstream origin reset_branch\n",
      "####################################### RESULTADO DE COMANDO EJECUTADO #######################################\n",
      "Branch 'reset_branch' set up to track remote branch 'reset_branch' from 'origin'.\n",
      "##############################################################################################################\n",
      "\n",
      "############################################# COMANDO A EJECUTAR #############################################\n",
      "git branch\n",
      "####################################### RESULTADO DE COMANDO EJECUTADO #######################################\n",
      "  main\n",
      "  multi_commits\n",
      "* reset_branch\n",
      "  utils\n",
      "##############################################################################################################\n",
      "\n"
     ]
    }
   ],
   "source": [
    "nombre_rama = 'reset_branch'\n",
    "generar_archivos_y_hacer_commit(nombre_rama=nombre_rama)"
   ]
  },
  {
   "cell_type": "markdown",
   "id": "0baa7ec9-a901-4715-a606-c6aff785f194",
   "metadata": {},
   "source": [
    "### SOFT RESET n COMMITs **HEAD~n** MANTENIENDO LOS CAMBIOS QUE SE HABIAN HECHO EN LOS ARCHIVOS LOCALES\n",
    "<center>\n",
    "    <img width=\"75%\" align=\"center\" src=\"reset_soft.gif\">\n",
    "</center>\n",
    "<br>\n",
    "<center>\n",
    "    <img width=\"75%\" align=\"center\" src=\"reflog_reset.gif\">\n",
    "</center>"
   ]
  },
  {
   "cell_type": "code",
   "execution_count": 78,
   "id": "2b158698-7edd-42db-b76c-197f546c16fd",
   "metadata": {
    "scrolled": true,
    "tags": []
   },
   "outputs": [
    {
     "name": "stdout",
     "output_type": "stream",
     "text": [
      "############################################# COMANDO A EJECUTAR #############################################\n",
      "git reset --soft HEAD~3\n",
      "####################################### RESULTADO DE COMANDO EJECUTADO #######################################\n",
      "##############################################################################################################\n",
      "\n",
      "############################################# COMANDO A EJECUTAR #############################################\n",
      "git log --oneline\n",
      "####################################### RESULTADO DE COMANDO EJECUTADO #######################################\n",
      "df4280b ADICIONADO ARCHIVO utils.gif 2023-03-25 00:16:10.361355\n",
      "e8e1ceb ADICIONADO ARCHIVO addon.php 2023-03-25 00:16:10.361355\n",
      "e546c62 ADICIONADO ARCHIVO calculos.c 2023-03-25 00:16:10.361355\n",
      "48c3bfe ADICIONADO ARCHIVO connection.java 2023-03-25 00:16:10.361355\n",
      "888c47d ADICIONADO ARCHIVO main.py 2023-03-25 00:16:10.361355\n",
      "b755a7d ADICIONADO ARCHIVO imagen.png 2023-03-25 00:16:10.361355\n",
      "aa6f6ab ADICIONADO ARCHIVO Manifest.yaml 2023-03-25 00:16:10.361355\n",
      "38eab92 ADICIONADO ARCHIVO Dockerfile 2023-03-25 00:16:10.361355\n",
      "8e2d07e ADICIONADO ARCHIVO info.txt 2023-03-25 00:16:10.361355\n",
      "3b4edb5 adicionados archivo de configuracion y requerimientos\n",
      "d15fad2 Initial commit\n",
      "##############################################################################################################\n",
      "\n"
     ]
    }
   ],
   "source": [
    "# MANITIENE todos los archivos o cambios hechos despues de este commit Y PUEDEN SER GUARDADOS DE NUEVO\n",
    "comando = 'git reset --soft HEAD~3'\n",
    "ejecutar_comando_git(comando)\n",
    "\n",
    "comando = 'git log --oneline'\n",
    "ejecutar_comando_git(comando)"
   ]
  },
  {
   "cell_type": "markdown",
   "id": "f165436b-e609-45ad-9715-339e1d78935a",
   "metadata": {},
   "source": [
    "### HARD RESET n COMMITs **HEAD~n** ELIMINANDO LOS ARCHIVOS Y CAMBIOS QUE SE HABIAN HECHO HASTA ESTE COMMIT\n",
    "<center>\n",
    "    <img width=\"75%\" align=\"center\" src=\"reset_hard.gif\">\n",
    "</center>"
   ]
  },
  {
   "cell_type": "code",
   "execution_count": 79,
   "id": "5aae132c-6054-46e4-900c-db9a494dffd5",
   "metadata": {
    "scrolled": true,
    "tags": []
   },
   "outputs": [
    {
     "name": "stdout",
     "output_type": "stream",
     "text": [
      "############################################# COMANDO A EJECUTAR #############################################\n",
      "git reset --hard HEAD~7\n",
      "####################################### RESULTADO DE COMANDO EJECUTADO #######################################\n",
      "HEAD is now at 38eab92 ADICIONADO ARCHIVO Dockerfile 2023-03-25 00:16:10.361355\n",
      "##############################################################################################################\n",
      "\n",
      "############################################# COMANDO A EJECUTAR #############################################\n",
      "git log --oneline\n",
      "####################################### RESULTADO DE COMANDO EJECUTADO #######################################\n",
      "38eab92 ADICIONADO ARCHIVO Dockerfile 2023-03-25 00:16:10.361355\n",
      "8e2d07e ADICIONADO ARCHIVO info.txt 2023-03-25 00:16:10.361355\n",
      "3b4edb5 adicionados archivo de configuracion y requerimientos\n",
      "d15fad2 Initial commit\n",
      "##############################################################################################################\n",
      "\n"
     ]
    }
   ],
   "source": [
    "# elimina todos los archivos o cambios hechos despues de este commit YA NO SE PUEDEN RECUPERAR ESOS ARCHIVOS\n",
    "comando = 'git reset --hard HEAD~7'\n",
    "ejecutar_comando_git(comando)\n",
    "\n",
    "comando = 'git log --oneline'\n",
    "ejecutar_comando_git(comando)"
   ]
  },
  {
   "cell_type": "markdown",
   "id": "e1fae349-008e-429c-bc31-0812d917bc1d",
   "metadata": {},
   "source": [
    "### RESET COMMITs ELIMINANDO LOS ARCHIVOS Y CAMBIOS HASTA UN COMMIT ESPECIFICO USANDO EL ID DEL COMMIT"
   ]
  },
  {
   "cell_type": "code",
   "execution_count": 80,
   "id": "840915cb-d988-4531-b718-c9db65e2c18e",
   "metadata": {
    "tags": []
   },
   "outputs": [
    {
     "name": "stdout",
     "output_type": "stream",
     "text": [
      "############################################# COMANDO A EJECUTAR #############################################\n",
      "git reset --hard 3b4edb5a785dcc5841b35cd2ad93033cd29cb730\n",
      "####################################### RESULTADO DE COMANDO EJECUTADO #######################################\n",
      "HEAD is now at 3b4edb5 adicionados archivo de configuracion y requerimientos\n",
      "##############################################################################################################\n",
      "\n"
     ]
    }
   ],
   "source": [
    "comando = 'git reset --hard 3b4edb5a785dcc5841b35cd2ad93033cd29cb730'\n",
    "ejecutar_comando_git(comando)"
   ]
  },
  {
   "cell_type": "markdown",
   "id": "b3dd8cdf-657f-49c9-887b-6d0ddb2f06db",
   "metadata": {},
   "source": [
    "## RESET HASTA UN COMMIT ESPECIFICO EN UN REPOSITORIO REMOTO <br>https://github.com/JorgeCardona/comandos_git</br>"
   ]
  },
  {
   "cell_type": "code",
   "execution_count": 81,
   "id": "58e70ab3-644f-4a9c-8a4d-24094690d843",
   "metadata": {
    "tags": []
   },
   "outputs": [
    {
     "name": "stdout",
     "output_type": "stream",
     "text": [
      "############################################# COMANDO A EJECUTAR #############################################\n",
      "git reset --hard d15fad27cb8d1bcb6a0e697ef02e2d787dc51b48\n",
      "####################################### RESULTADO DE COMANDO EJECUTADO #######################################\n",
      "HEAD is now at d15fad2 Initial commit\n",
      "##############################################################################################################\n",
      "\n"
     ]
    }
   ],
   "source": [
    "comando = 'git reset --hard d15fad27cb8d1bcb6a0e697ef02e2d787dc51b48'\n",
    "ejecutar_comando_git(comando)"
   ]
  },
  {
   "cell_type": "markdown",
   "id": "ecfff94e-20ee-46bb-8a1d-97bd8e5f76ad",
   "metadata": {},
   "source": [
    "#### CONFIRMAR LOS CAMBIOS DEL RESET EN EL REPOSITORIO DE ORIGEN O REMOTO"
   ]
  },
  {
   "cell_type": "code",
   "execution_count": 82,
   "id": "85a7f262-e036-4ea1-ba5b-7daf6de7c221",
   "metadata": {
    "scrolled": true,
    "tags": []
   },
   "outputs": [
    {
     "name": "stdout",
     "output_type": "stream",
     "text": [
      "############################################# COMANDO A EJECUTAR #############################################\n",
      "git push --force origin reset_branch\n",
      "####################################### RESULTADO DE COMANDO EJECUTADO #######################################\n",
      "##############################################################################################################\n",
      "\n"
     ]
    }
   ],
   "source": [
    "# confirmar los cambios al repositorio remoto el reset\n",
    "comando = 'git push --force origin {nombre_rama}'.format(nombre_rama=nombre_rama)\n",
    "ejecutar_comando_git(comando)"
   ]
  },
  {
   "cell_type": "markdown",
   "id": "22c55372-c4e2-4df8-ac09-1703aaf4eb00",
   "metadata": {},
   "source": [
    "#### LISTAR HISTORIAL DE CAMBIOS HECHOS EN EL REPOSITORIO LOCAL"
   ]
  },
  {
   "cell_type": "code",
   "execution_count": 83,
   "id": "48858df0-8083-46b3-8816-a3f6efd915fd",
   "metadata": {
    "scrolled": true,
    "tags": []
   },
   "outputs": [
    {
     "name": "stdout",
     "output_type": "stream",
     "text": [
      "############################################# COMANDO A EJECUTAR #############################################\n",
      "git reflog\n",
      "####################################### RESULTADO DE COMANDO EJECUTADO #######################################\n",
      "d15fad2 HEAD@{0}: reset: moving to d15fad27cb8d1bcb6a0e697ef02e2d787dc51b48\n",
      "3b4edb5 HEAD@{1}: reset: moving to 3b4edb5a785dcc5841b35cd2ad93033cd29cb730\n",
      "38eab92 HEAD@{2}: reset: moving to HEAD~7\n",
      "df4280b HEAD@{3}: reset: moving to HEAD~3\n",
      "0984bdf HEAD@{4}: commit: ADICIONADO ARCHIVO link.vs 2023-03-25 00:16:10.361355\n",
      "cd451e7 HEAD@{5}: commit: ADICIONADO ARCHIVO dataset.avro 2023-03-25 00:16:10.361355\n",
      "2af1895 HEAD@{6}: commit: ADICIONADO ARCHIVO query.sql 2023-03-25 00:16:10.361355\n",
      "df4280b HEAD@{7}: commit: ADICIONADO ARCHIVO utils.gif 2023-03-25 00:16:10.361355\n",
      "e8e1ceb HEAD@{8}: commit: ADICIONADO ARCHIVO addon.php 2023-03-25 00:16:10.361355\n",
      "e546c62 HEAD@{9}: commit: ADICIONADO ARCHIVO calculos.c 2023-03-25 00:16:10.361355\n",
      "48c3bfe HEAD@{10}: commit: ADICIONADO ARCHIVO connection.java 2023-03-25 00:16:10.361355\n",
      "888c47d HEAD@{11}: commit: ADICIONADO ARCHIVO main.py 2023-03-25 00:16:10.361355\n",
      "b755a7d HEAD@{12}: commit: ADICIONADO ARCHIVO imagen.png 2023-03-25 00:16:10.361355\n",
      "aa6f6ab HEAD@{13}: commit: ADICIONADO ARCHIVO Manifest.yaml 2023-03-25 00:16:10.361355\n",
      "38eab92 HEAD@{14}: commit: ADICIONADO ARCHIVO Dockerfile 2023-03-25 00:16:10.361355\n",
      "8e2d07e HEAD@{15}: commit: ADICIONADO ARCHIVO info.txt 2023-03-25 00:16:10.361355\n",
      "3b4edb5 HEAD@{16}: checkout: moving from main to reset_branch\n",
      "3b4edb5 HEAD@{17}: checkout: moving from multi_commits to main\n",
      "67e732f HEAD@{18}: checkout: moving from d15fad27cb8d1bcb6a0e697ef02e2d787dc51b48 to multi_commits\n",
      "d15fad2 HEAD@{19}: checkout: moving from multi_commits to d15fad27cb8d1bcb6a0e697ef02e2d787dc51b48\n",
      "67e732f HEAD@{20}: checkout: moving from main to multi_commits\n",
      "3b4edb5 HEAD@{21}: checkout: moving from amend_branch to main\n",
      "698ed5c HEAD@{22}: commit: ADICIONADO ARCHIVO info.txt 2023-03-25 00:16:03.421001\n",
      "3b4edb5 HEAD@{23}: checkout: moving from main to amend_branch\n",
      "3b4edb5 HEAD@{24}: checkout: moving from main to main\n",
      "3b4edb5 HEAD@{25}: checkout: moving from commit_branch to main\n",
      "4d3804d HEAD@{26}: commit: ADICIONADO ARCHIVO link.vs 2023-03-25 00:15:52.458470\n",
      "2418793 HEAD@{27}: commit: ADICIONADO ARCHIVO dataset.avro 2023-03-25 00:15:52.458470\n",
      "4df3a6d HEAD@{28}: commit: ADICIONADO ARCHIVO query.sql 2023-03-25 00:15:52.458470\n",
      "fd50fc2 HEAD@{29}: commit: ADICIONADO ARCHIVO utils.gif 2023-03-25 00:15:52.458470\n",
      "1875d55 HEAD@{30}: commit: ADICIONADO ARCHIVO addon.php 2023-03-25 00:15:52.458470\n",
      "b253cdf HEAD@{31}: commit: ADICIONADO ARCHIVO calculos.c 2023-03-25 00:15:52.458470\n",
      "b85d6db HEAD@{32}: commit: ADICIONADO ARCHIVO connection.java 2023-03-25 00:15:52.458470\n",
      "ab8a619 HEAD@{33}: commit: ADICIONADO ARCHIVO main.py 2023-03-25 00:15:52.458470\n",
      "842b87c HEAD@{34}: commit: ADICIONADO ARCHIVO imagen.png 2023-03-25 00:15:52.458470\n",
      "cf184b6 HEAD@{35}: commit: ADICIONADO ARCHIVO Manifest.yaml 2023-03-25 00:15:52.458470\n",
      "e92d82a HEAD@{36}: commit: ADICIONADO ARCHIVO Dockerfile 2023-03-25 00:15:52.458470\n",
      "8b79646 HEAD@{37}: commit: ADICIONADO ARCHIVO info.txt 2023-03-25 00:15:52.458470\n",
      "3b4edb5 HEAD@{38}: checkout: moving from main to commit_branch\n",
      "3b4edb5 HEAD@{39}: checkout: moving from utils to main\n",
      "1d1614a HEAD@{40}: commit (initial): adicionados archivos de prueba\n",
      "3b4edb5 HEAD@{41}: checkout: moving from utils to main\n",
      "ccab0e9 HEAD@{42}: commit (initial): adicionados archivos de prueba\n",
      "3b4edb5 HEAD@{43}: checkout: moving from multi_commits_copia to main\n",
      "de8d15f HEAD@{44}: commit: adicionados archivos nuevos\n",
      "8372eba HEAD@{45}: commit: adicionados archivo de prueba\n",
      "67e732f HEAD@{46}: checkout: moving from multi_commits to multi_commits_copia\n",
      "67e732f HEAD@{47}: checkout: moving from multi_commits_copia to multi_commits\n",
      "67e732f HEAD@{48}: checkout: moving from rama_acceso_rapido to multi_commits_copia\n",
      "3b4edb5 HEAD@{49}: checkout: moving from nueva_rama to rama_acceso_rapido\n",
      "3b4edb5 HEAD@{50}: checkout: moving from main to nueva_rama\n",
      "3b4edb5 HEAD@{51}: clone: from https://github.com/JorgeCardona/comandos_git.git\n",
      "##############################################################################################################\n",
      "\n",
      "############################################# COMANDO A EJECUTAR #############################################\n",
      "git branch\n",
      "####################################### RESULTADO DE COMANDO EJECUTADO #######################################\n",
      "  main\n",
      "  multi_commits\n",
      "* reset_branch\n",
      "  utils\n",
      "##############################################################################################################\n",
      "\n"
     ]
    }
   ],
   "source": [
    "comando = 'git reflog'\n",
    "ejecutar_comando_git(comando)\n",
    "ejecutar_comando_shell()"
   ]
  },
  {
   "cell_type": "markdown",
   "id": "6f134986-cf69-4c0c-adce-8d6f6de1a275",
   "metadata": {
    "tags": []
   },
   "source": [
    "#### ELIMINAR LA RAMA EN EL REPOSITORIO DE ORIGEN O REMOTO"
   ]
  },
  {
   "cell_type": "code",
   "execution_count": 84,
   "id": "6bc84035-b76b-40d1-b6f4-87175b5c0fee",
   "metadata": {
    "tags": []
   },
   "outputs": [
    {
     "name": "stdout",
     "output_type": "stream",
     "text": [
      "############################################# COMANDO A EJECUTAR #############################################\n",
      "git checkout main\n",
      "####################################### RESULTADO DE COMANDO EJECUTADO #######################################\n",
      "Your branch is up to date with 'origin/main'.\n",
      "##############################################################################################################\n",
      "\n",
      "############################################# COMANDO A EJECUTAR #############################################\n",
      "git push origin -d reset_branch\n",
      "####################################### RESULTADO DE COMANDO EJECUTADO #######################################\n",
      "##############################################################################################################\n",
      "\n",
      "############################################# COMANDO A EJECUTAR #############################################\n",
      "git branch -D reset_branch\n",
      "####################################### RESULTADO DE COMANDO EJECUTADO #######################################\n",
      "Deleted branch reset_branch (was d15fad2).\n",
      "##############################################################################################################\n",
      "\n",
      "############################################# COMANDO A EJECUTAR #############################################\n",
      "git branch -a\n",
      "####################################### RESULTADO DE COMANDO EJECUTADO #######################################\n",
      "* main\n",
      "  multi_commits\n",
      "  utils\n",
      "  remotes/origin/HEAD -> origin/main\n",
      "  remotes/origin/main\n",
      "  remotes/origin/multi_commits\n",
      "##############################################################################################################\n",
      "\n"
     ]
    }
   ],
   "source": [
    "comando = 'git checkout main'\n",
    "ejecutar_comando_git(comando)\n",
    "\n",
    "comando = 'git push origin -d {nombre_rama}'.format(nombre_rama=nombre_rama)\n",
    "ejecutar_comando_git(comando)\n",
    "\n",
    "comando = 'git branch -D {nombre_rama}'.format(nombre_rama=nombre_rama)\n",
    "ejecutar_comando_git(comando)\n",
    "\n",
    "comando = 'git branch -a'\n",
    "ejecutar_comando_git(comando)"
   ]
  },
  {
   "cell_type": "markdown",
   "id": "da360e27-ccbd-473b-b6b0-3904eaf90ceb",
   "metadata": {},
   "source": [
    "# <center> REVERTIR COMMITs DE UN REPOSITORIO</center>\n",
    "<center>\n",
    "    <img width=\"75%\" align=\"center\" src=\"revert.gif\">\n",
    "</center>"
   ]
  },
  {
   "cell_type": "code",
   "execution_count": 85,
   "id": "9f51021e-0467-45cb-848b-d6349adc47ae",
   "metadata": {
    "scrolled": true,
    "tags": []
   },
   "outputs": [
    {
     "name": "stdout",
     "output_type": "stream",
     "text": [
      "############################################# COMANDO A EJECUTAR #############################################\n",
      "git restore .\n",
      "####################################### RESULTADO DE COMANDO EJECUTADO #######################################\n",
      "##############################################################################################################\n",
      "\n",
      "############################################# COMANDO A EJECUTAR #############################################\n",
      "git checkout main\n",
      "####################################### RESULTADO DE COMANDO EJECUTADO #######################################\n",
      "Your branch is up to date with 'origin/main'.\n",
      "##############################################################################################################\n",
      "\n",
      "############################################# COMANDO A EJECUTAR #############################################\n",
      "git branch -a\n",
      "####################################### RESULTADO DE COMANDO EJECUTADO #######################################\n",
      "* main\n",
      "  multi_commits\n",
      "  utils\n",
      "  remotes/origin/HEAD -> origin/main\n",
      "  remotes/origin/main\n",
      "  remotes/origin/multi_commits\n",
      "##############################################################################################################\n",
      "\n",
      "############################################# COMANDO A EJECUTAR #############################################\n",
      "git branch -a\n",
      "####################################### RESULTADO DE COMANDO EJECUTADO #######################################\n",
      "* main\n",
      "  multi_commits\n",
      "  utils\n",
      "  remotes/origin/HEAD -> origin/main\n",
      "  remotes/origin/main\n",
      "  remotes/origin/multi_commits\n",
      "##############################################################################################################\n",
      "\n",
      "############################################# COMANDO A EJECUTAR #############################################\n",
      "git checkout -b revert_branch\n",
      "####################################### RESULTADO DE COMANDO EJECUTADO #######################################\n",
      "##############################################################################################################\n",
      "\n",
      "############################################# COMANDO A EJECUTAR #############################################\n",
      "git branch\n",
      "####################################### RESULTADO DE COMANDO EJECUTADO #######################################\n",
      "  main\n",
      "  multi_commits\n",
      "* revert_branch\n",
      "  utils\n",
      "##############################################################################################################\n",
      "\n",
      "lista_de_archivos = ['info.txt', 'Dockerfile', 'Manifest.yaml', 'imagen.png', 'main.py', 'connection.java', 'calculos.c', 'addon.php', 'utils.gif', 'query.sql', 'dataset.avro', 'link.vs']\n",
      "############################################# COMANDO A EJECUTAR #############################################\n",
      "echo 1679721385.052641 >> info.txt\n",
      "####################################### RESULTADO DE COMANDO EJECUTADO #######################################\n",
      "##############################################################################################################\n",
      "\n",
      "############################################# COMANDO A EJECUTAR #############################################\n",
      "echo 1679721385.190636 >> Dockerfile\n",
      "####################################### RESULTADO DE COMANDO EJECUTADO #######################################\n",
      "##############################################################################################################\n",
      "\n",
      "############################################# COMANDO A EJECUTAR #############################################\n",
      "echo 1679721385.323257 >> Manifest.yaml\n",
      "####################################### RESULTADO DE COMANDO EJECUTADO #######################################\n",
      "##############################################################################################################\n",
      "\n",
      "############################################# COMANDO A EJECUTAR #############################################\n",
      "echo 1679721385.482509 >> imagen.png\n",
      "####################################### RESULTADO DE COMANDO EJECUTADO #######################################\n",
      "##############################################################################################################\n",
      "\n",
      "############################################# COMANDO A EJECUTAR #############################################\n",
      "echo 1679721385.618102 >> main.py\n",
      "####################################### RESULTADO DE COMANDO EJECUTADO #######################################\n",
      "##############################################################################################################\n",
      "\n",
      "############################################# COMANDO A EJECUTAR #############################################\n",
      "echo 1679721385.770306 >> connection.java\n",
      "####################################### RESULTADO DE COMANDO EJECUTADO #######################################\n",
      "##############################################################################################################\n",
      "\n",
      "############################################# COMANDO A EJECUTAR #############################################\n",
      "echo 1679721385.936886 >> calculos.c\n",
      "####################################### RESULTADO DE COMANDO EJECUTADO #######################################\n",
      "##############################################################################################################\n",
      "\n",
      "############################################# COMANDO A EJECUTAR #############################################\n",
      "echo 1679721386.081738 >> addon.php\n",
      "####################################### RESULTADO DE COMANDO EJECUTADO #######################################\n",
      "##############################################################################################################\n",
      "\n",
      "############################################# COMANDO A EJECUTAR #############################################\n",
      "echo 1679721386.203446 >> utils.gif\n",
      "####################################### RESULTADO DE COMANDO EJECUTADO #######################################\n",
      "##############################################################################################################\n",
      "\n",
      "############################################# COMANDO A EJECUTAR #############################################\n",
      "echo 1679721386.368048 >> query.sql\n",
      "####################################### RESULTADO DE COMANDO EJECUTADO #######################################\n",
      "##############################################################################################################\n",
      "\n",
      "############################################# COMANDO A EJECUTAR #############################################\n",
      "echo 1679721386.490516 >> dataset.avro\n",
      "####################################### RESULTADO DE COMANDO EJECUTADO #######################################\n",
      "##############################################################################################################\n",
      "\n",
      "############################################# COMANDO A EJECUTAR #############################################\n",
      "echo 1679721386.644559 >> link.vs\n",
      "####################################### RESULTADO DE COMANDO EJECUTADO #######################################\n",
      "##############################################################################################################\n",
      "\n",
      "############################################# COMANDO A EJECUTAR #############################################\n",
      "git add info.txt\n",
      "####################################### RESULTADO DE COMANDO EJECUTADO #######################################\n",
      "##############################################################################################################\n",
      "\n",
      "############################################# COMANDO A EJECUTAR #############################################\n",
      "git commit -m \"ADICIONADO ARCHIVO info.txt 2023-03-25 00:16:24.944763\"\n",
      "####################################### RESULTADO DE COMANDO EJECUTADO #######################################\n",
      "[revert_branch db0a7b4] ADICIONADO ARCHIVO info.txt 2023-03-25 00:16:24.944763\n",
      " 1 file changed, 1 insertion(+)\n",
      " create mode 100644 info.txt\n",
      "##############################################################################################################\n",
      "\n",
      "############################################# COMANDO A EJECUTAR #############################################\n",
      "git add Dockerfile\n",
      "####################################### RESULTADO DE COMANDO EJECUTADO #######################################\n",
      "##############################################################################################################\n",
      "\n",
      "############################################# COMANDO A EJECUTAR #############################################\n",
      "git commit -m \"ADICIONADO ARCHIVO Dockerfile 2023-03-25 00:16:24.944763\"\n",
      "####################################### RESULTADO DE COMANDO EJECUTADO #######################################\n",
      "[revert_branch 8132fa3] ADICIONADO ARCHIVO Dockerfile 2023-03-25 00:16:24.944763\n",
      " 1 file changed, 1 insertion(+)\n",
      " create mode 100644 Dockerfile\n",
      "##############################################################################################################\n",
      "\n",
      "############################################# COMANDO A EJECUTAR #############################################\n",
      "git add Manifest.yaml\n",
      "####################################### RESULTADO DE COMANDO EJECUTADO #######################################\n",
      "##############################################################################################################\n",
      "\n",
      "############################################# COMANDO A EJECUTAR #############################################\n",
      "git commit -m \"ADICIONADO ARCHIVO Manifest.yaml 2023-03-25 00:16:24.944763\"\n",
      "####################################### RESULTADO DE COMANDO EJECUTADO #######################################\n",
      "[revert_branch 3e984aa] ADICIONADO ARCHIVO Manifest.yaml 2023-03-25 00:16:24.944763\n",
      " 1 file changed, 1 insertion(+)\n",
      " create mode 100644 Manifest.yaml\n",
      "##############################################################################################################\n",
      "\n",
      "############################################# COMANDO A EJECUTAR #############################################\n",
      "git add imagen.png\n",
      "####################################### RESULTADO DE COMANDO EJECUTADO #######################################\n",
      "##############################################################################################################\n",
      "\n",
      "############################################# COMANDO A EJECUTAR #############################################\n",
      "git commit -m \"ADICIONADO ARCHIVO imagen.png 2023-03-25 00:16:24.944763\"\n",
      "####################################### RESULTADO DE COMANDO EJECUTADO #######################################\n",
      "[revert_branch b416cd9] ADICIONADO ARCHIVO imagen.png 2023-03-25 00:16:24.944763\n",
      " 1 file changed, 1 insertion(+)\n",
      " create mode 100644 imagen.png\n",
      "##############################################################################################################\n",
      "\n",
      "############################################# COMANDO A EJECUTAR #############################################\n",
      "git add main.py\n",
      "####################################### RESULTADO DE COMANDO EJECUTADO #######################################\n",
      "##############################################################################################################\n",
      "\n",
      "############################################# COMANDO A EJECUTAR #############################################\n",
      "git commit -m \"ADICIONADO ARCHIVO main.py 2023-03-25 00:16:24.944763\"\n",
      "####################################### RESULTADO DE COMANDO EJECUTADO #######################################\n",
      "[revert_branch d8aea70] ADICIONADO ARCHIVO main.py 2023-03-25 00:16:24.944763\n",
      " 1 file changed, 1 insertion(+)\n",
      " create mode 100644 main.py\n",
      "##############################################################################################################\n",
      "\n",
      "############################################# COMANDO A EJECUTAR #############################################\n",
      "git add connection.java\n",
      "####################################### RESULTADO DE COMANDO EJECUTADO #######################################\n",
      "##############################################################################################################\n",
      "\n",
      "############################################# COMANDO A EJECUTAR #############################################\n",
      "git commit -m \"ADICIONADO ARCHIVO connection.java 2023-03-25 00:16:24.944763\"\n",
      "####################################### RESULTADO DE COMANDO EJECUTADO #######################################\n",
      "[revert_branch 470aad8] ADICIONADO ARCHIVO connection.java 2023-03-25 00:16:24.944763\n",
      " 1 file changed, 1 insertion(+)\n",
      " create mode 100644 connection.java\n",
      "##############################################################################################################\n",
      "\n",
      "############################################# COMANDO A EJECUTAR #############################################\n",
      "git add calculos.c\n",
      "####################################### RESULTADO DE COMANDO EJECUTADO #######################################\n",
      "##############################################################################################################\n",
      "\n",
      "############################################# COMANDO A EJECUTAR #############################################\n",
      "git commit -m \"ADICIONADO ARCHIVO calculos.c 2023-03-25 00:16:24.944763\"\n",
      "####################################### RESULTADO DE COMANDO EJECUTADO #######################################\n",
      "[revert_branch fe51969] ADICIONADO ARCHIVO calculos.c 2023-03-25 00:16:24.944763\n",
      " 1 file changed, 1 insertion(+)\n",
      " create mode 100644 calculos.c\n",
      "##############################################################################################################\n",
      "\n",
      "############################################# COMANDO A EJECUTAR #############################################\n",
      "git add addon.php\n",
      "####################################### RESULTADO DE COMANDO EJECUTADO #######################################\n",
      "##############################################################################################################\n",
      "\n",
      "############################################# COMANDO A EJECUTAR #############################################\n",
      "git commit -m \"ADICIONADO ARCHIVO addon.php 2023-03-25 00:16:24.944763\"\n",
      "####################################### RESULTADO DE COMANDO EJECUTADO #######################################\n",
      "[revert_branch 1ef1960] ADICIONADO ARCHIVO addon.php 2023-03-25 00:16:24.944763\n",
      " 1 file changed, 1 insertion(+)\n",
      " create mode 100644 addon.php\n",
      "##############################################################################################################\n",
      "\n",
      "############################################# COMANDO A EJECUTAR #############################################\n",
      "git add utils.gif\n",
      "####################################### RESULTADO DE COMANDO EJECUTADO #######################################\n",
      "##############################################################################################################\n",
      "\n",
      "############################################# COMANDO A EJECUTAR #############################################\n",
      "git commit -m \"ADICIONADO ARCHIVO utils.gif 2023-03-25 00:16:24.944763\"\n",
      "####################################### RESULTADO DE COMANDO EJECUTADO #######################################\n",
      "[revert_branch c98b2d6] ADICIONADO ARCHIVO utils.gif 2023-03-25 00:16:24.944763\n",
      " 1 file changed, 1 insertion(+)\n",
      " create mode 100644 utils.gif\n",
      "##############################################################################################################\n",
      "\n",
      "############################################# COMANDO A EJECUTAR #############################################\n",
      "git add query.sql\n",
      "####################################### RESULTADO DE COMANDO EJECUTADO #######################################\n",
      "##############################################################################################################\n",
      "\n",
      "############################################# COMANDO A EJECUTAR #############################################\n",
      "git commit -m \"ADICIONADO ARCHIVO query.sql 2023-03-25 00:16:24.944763\"\n",
      "####################################### RESULTADO DE COMANDO EJECUTADO #######################################\n",
      "[revert_branch edee570] ADICIONADO ARCHIVO query.sql 2023-03-25 00:16:24.944763\n",
      " 1 file changed, 1 insertion(+)\n",
      " create mode 100644 query.sql\n",
      "##############################################################################################################\n",
      "\n",
      "############################################# COMANDO A EJECUTAR #############################################\n",
      "git add dataset.avro\n",
      "####################################### RESULTADO DE COMANDO EJECUTADO #######################################\n",
      "##############################################################################################################\n",
      "\n",
      "############################################# COMANDO A EJECUTAR #############################################\n",
      "git commit -m \"ADICIONADO ARCHIVO dataset.avro 2023-03-25 00:16:24.944763\"\n",
      "####################################### RESULTADO DE COMANDO EJECUTADO #######################################\n",
      "[revert_branch 26b67e1] ADICIONADO ARCHIVO dataset.avro 2023-03-25 00:16:24.944763\n",
      " 1 file changed, 1 insertion(+)\n",
      " create mode 100644 dataset.avro\n",
      "##############################################################################################################\n",
      "\n",
      "############################################# COMANDO A EJECUTAR #############################################\n",
      "git add link.vs\n",
      "####################################### RESULTADO DE COMANDO EJECUTADO #######################################\n",
      "##############################################################################################################\n",
      "\n",
      "############################################# COMANDO A EJECUTAR #############################################\n",
      "git commit -m \"ADICIONADO ARCHIVO link.vs 2023-03-25 00:16:24.944763\"\n",
      "####################################### RESULTADO DE COMANDO EJECUTADO #######################################\n",
      "[revert_branch 191bb11] ADICIONADO ARCHIVO link.vs 2023-03-25 00:16:24.944763\n",
      " 1 file changed, 1 insertion(+)\n",
      " create mode 100644 link.vs\n",
      "##############################################################################################################\n",
      "\n",
      "############################################# COMANDO A EJECUTAR #############################################\n",
      "git status\n",
      "####################################### RESULTADO DE COMANDO EJECUTADO #######################################\n",
      "On branch revert_branch\n",
      "nothing to commit, working tree clean\n",
      "##############################################################################################################\n",
      "\n",
      "############################################# COMANDO A EJECUTAR #############################################\n",
      "git log --graph --oneline\n",
      "####################################### RESULTADO DE COMANDO EJECUTADO #######################################\n",
      "* 191bb11 ADICIONADO ARCHIVO link.vs 2023-03-25 00:16:24.944763\n",
      "* 26b67e1 ADICIONADO ARCHIVO dataset.avro 2023-03-25 00:16:24.944763\n",
      "* edee570 ADICIONADO ARCHIVO query.sql 2023-03-25 00:16:24.944763\n",
      "* c98b2d6 ADICIONADO ARCHIVO utils.gif 2023-03-25 00:16:24.944763\n",
      "* 1ef1960 ADICIONADO ARCHIVO addon.php 2023-03-25 00:16:24.944763\n",
      "* fe51969 ADICIONADO ARCHIVO calculos.c 2023-03-25 00:16:24.944763\n",
      "* 470aad8 ADICIONADO ARCHIVO connection.java 2023-03-25 00:16:24.944763\n",
      "* d8aea70 ADICIONADO ARCHIVO main.py 2023-03-25 00:16:24.944763\n",
      "* b416cd9 ADICIONADO ARCHIVO imagen.png 2023-03-25 00:16:24.944763\n",
      "* 3e984aa ADICIONADO ARCHIVO Manifest.yaml 2023-03-25 00:16:24.944763\n",
      "* 8132fa3 ADICIONADO ARCHIVO Dockerfile 2023-03-25 00:16:24.944763\n",
      "* db0a7b4 ADICIONADO ARCHIVO info.txt 2023-03-25 00:16:24.944763\n",
      "* 3b4edb5 adicionados archivo de configuracion y requerimientos\n",
      "* d15fad2 Initial commit\n",
      "##############################################################################################################\n",
      "\n",
      "############################################# COMANDO A EJECUTAR #############################################\n",
      "git push --set-upstream origin revert_branch\n",
      "####################################### RESULTADO DE COMANDO EJECUTADO #######################################\n",
      "Branch 'revert_branch' set up to track remote branch 'revert_branch' from 'origin'.\n",
      "##############################################################################################################\n",
      "\n",
      "############################################# COMANDO A EJECUTAR #############################################\n",
      "git branch\n",
      "####################################### RESULTADO DE COMANDO EJECUTADO #######################################\n",
      "  main\n",
      "  multi_commits\n",
      "* revert_branch\n",
      "  utils\n",
      "##############################################################################################################\n",
      "\n"
     ]
    }
   ],
   "source": [
    "nombre_rama = 'revert_branch'\n",
    "generar_archivos_y_hacer_commit(nombre_rama=nombre_rama)"
   ]
  },
  {
   "cell_type": "markdown",
   "id": "14dcee2e-b81b-46b1-be2d-11141fddccb3",
   "metadata": {},
   "source": [
    "## REVERT HASTA UN COMMIT ESPECIFICO O UN HEAD~ EN UN REPOSITORIO REMOTO <br>https://github.com/JorgeCardona/comandos_git</br>"
   ]
  },
  {
   "cell_type": "code",
   "execution_count": 86,
   "id": "023475c8-814d-4f36-b64c-a64beca95906",
   "metadata": {
    "scrolled": true,
    "tags": []
   },
   "outputs": [
    {
     "name": "stdout",
     "output_type": "stream",
     "text": [
      "############################################# COMANDO A EJECUTAR #############################################\n",
      "git revert HEAD~12\n",
      "####################################### RESULTADO DE COMANDO EJECUTADO #######################################\n",
      "Removing requirements.txt\n",
      "Removing config.json\n",
      "[revert_branch 1c6eea5] Revert \"adicionados archivo de configuracion y requerimientos\"\n",
      " Date: Sat Mar 25 00:16:31 2023 -0500\n",
      " 2 files changed, 0 insertions(+), 0 deletions(-)\n",
      " delete mode 100644 config.json\n",
      " delete mode 100644 requirements.txt\n",
      "##############################################################################################################\n",
      "\n",
      "############################################# COMANDO A EJECUTAR #############################################\n",
      "git log --oneline\n",
      "####################################### RESULTADO DE COMANDO EJECUTADO #######################################\n",
      "1c6eea5 Revert \"adicionados archivo de configuracion y requerimientos\"\n",
      "191bb11 ADICIONADO ARCHIVO link.vs 2023-03-25 00:16:24.944763\n",
      "26b67e1 ADICIONADO ARCHIVO dataset.avro 2023-03-25 00:16:24.944763\n",
      "edee570 ADICIONADO ARCHIVO query.sql 2023-03-25 00:16:24.944763\n",
      "c98b2d6 ADICIONADO ARCHIVO utils.gif 2023-03-25 00:16:24.944763\n",
      "1ef1960 ADICIONADO ARCHIVO addon.php 2023-03-25 00:16:24.944763\n",
      "fe51969 ADICIONADO ARCHIVO calculos.c 2023-03-25 00:16:24.944763\n",
      "470aad8 ADICIONADO ARCHIVO connection.java 2023-03-25 00:16:24.944763\n",
      "d8aea70 ADICIONADO ARCHIVO main.py 2023-03-25 00:16:24.944763\n",
      "b416cd9 ADICIONADO ARCHIVO imagen.png 2023-03-25 00:16:24.944763\n",
      "3e984aa ADICIONADO ARCHIVO Manifest.yaml 2023-03-25 00:16:24.944763\n",
      "8132fa3 ADICIONADO ARCHIVO Dockerfile 2023-03-25 00:16:24.944763\n",
      "db0a7b4 ADICIONADO ARCHIVO info.txt 2023-03-25 00:16:24.944763\n",
      "3b4edb5 adicionados archivo de configuracion y requerimientos\n",
      "d15fad2 Initial commit\n",
      "##############################################################################################################\n",
      "\n"
     ]
    }
   ],
   "source": [
    "# elimina todos los archivos o cambios hechos despues de este commit YA NO SE PUEDEN RECUPERAR ESOS ARCHIVOS\n",
    "comando = 'git revert HEAD~12'\n",
    "ejecutar_comando_git(comando)\n",
    "\n",
    "comando = 'git log --oneline'\n",
    "ejecutar_comando_git(comando)"
   ]
  },
  {
   "cell_type": "markdown",
   "id": "baf2e62d-6d6c-4db1-9e55-ed83ca32cc74",
   "metadata": {},
   "source": [
    "#### CONFIRMAR LOS CAMBIOS DEL REVERT EN EL REPOSITORIO REMOTO"
   ]
  },
  {
   "cell_type": "code",
   "execution_count": 87,
   "id": "3d734989-5626-45c6-9628-b07f688f8a28",
   "metadata": {
    "tags": []
   },
   "outputs": [
    {
     "name": "stdout",
     "output_type": "stream",
     "text": [
      "############################################# COMANDO A EJECUTAR #############################################\n",
      "git push --force origin revert_branch\n",
      "####################################### RESULTADO DE COMANDO EJECUTADO #######################################\n",
      "##############################################################################################################\n",
      "\n"
     ]
    }
   ],
   "source": [
    "# confirmar al repositorio remoto el reset\n",
    "comando = 'git push --force origin {nombre_rama}'.format(nombre_rama=nombre_rama)\n",
    "ejecutar_comando_git(comando)"
   ]
  },
  {
   "cell_type": "markdown",
   "id": "9deccc0f-c689-4cd8-8b90-3b5d23be0495",
   "metadata": {
    "tags": []
   },
   "source": [
    "#### ELIMINAR LA RAMA EN EL REPOSITORIO DE ORIGEN O REMOTO"
   ]
  },
  {
   "cell_type": "code",
   "execution_count": 88,
   "id": "28d44037-179f-4cd0-9db2-74378ba43261",
   "metadata": {
    "tags": []
   },
   "outputs": [
    {
     "name": "stdout",
     "output_type": "stream",
     "text": [
      "############################################# COMANDO A EJECUTAR #############################################\n",
      "git checkout main\n",
      "####################################### RESULTADO DE COMANDO EJECUTADO #######################################\n",
      "Your branch is up to date with 'origin/main'.\n",
      "##############################################################################################################\n",
      "\n",
      "############################################# COMANDO A EJECUTAR #############################################\n",
      "git push origin -d revert_branch\n",
      "####################################### RESULTADO DE COMANDO EJECUTADO #######################################\n",
      "##############################################################################################################\n",
      "\n",
      "############################################# COMANDO A EJECUTAR #############################################\n",
      "git branch -D revert_branch\n",
      "####################################### RESULTADO DE COMANDO EJECUTADO #######################################\n",
      "Deleted branch revert_branch (was 1c6eea5).\n",
      "##############################################################################################################\n",
      "\n",
      "############################################# COMANDO A EJECUTAR #############################################\n",
      "git branch -a\n",
      "####################################### RESULTADO DE COMANDO EJECUTADO #######################################\n",
      "* main\n",
      "  multi_commits\n",
      "  utils\n",
      "  remotes/origin/HEAD -> origin/main\n",
      "  remotes/origin/main\n",
      "  remotes/origin/multi_commits\n",
      "##############################################################################################################\n",
      "\n"
     ]
    }
   ],
   "source": [
    "comando = 'git checkout main'\n",
    "ejecutar_comando_git(comando)\n",
    "\n",
    "comando = 'git push origin -d {nombre_rama}'.format(nombre_rama=nombre_rama)\n",
    "ejecutar_comando_git(comando)\n",
    "\n",
    "comando = 'git branch -D {nombre_rama}'.format(nombre_rama=nombre_rama)\n",
    "ejecutar_comando_git(comando)\n",
    "\n",
    "comando = 'git branch -a'\n",
    "ejecutar_comando_git(comando)"
   ]
  },
  {
   "cell_type": "markdown",
   "id": "9b027290-7227-420b-83d9-df5d70ec5f30",
   "metadata": {
    "tags": []
   },
   "source": [
    "# <center> REBASE *JUNTAR VARIOS COMMITS EN UNO SOLO, CAMBIAR EL ORDEN DE LOS COMMITS <br>REESCRIBIENDO EL HISTORIAL Y LOS MENSAJES DE MULTIPLES* COMMITs DE UN REPOSITORIO</br> <br>https://github.com/JorgeCardona/comandos_git</br></center>\n",
    "<center>\n",
    "    <img width=\"75%\" align=\"center\" src=\"rebase.gif\">\n",
    "</center>"
   ]
  },
  {
   "cell_type": "code",
   "execution_count": 89,
   "id": "cc27876f-4967-4f76-b861-405e533c651a",
   "metadata": {
    "scrolled": true,
    "tags": []
   },
   "outputs": [
    {
     "name": "stdout",
     "output_type": "stream",
     "text": [
      "############################################# COMANDO A EJECUTAR #############################################\n",
      "git restore .\n",
      "####################################### RESULTADO DE COMANDO EJECUTADO #######################################\n",
      "##############################################################################################################\n",
      "\n",
      "############################################# COMANDO A EJECUTAR #############################################\n",
      "git checkout main\n",
      "####################################### RESULTADO DE COMANDO EJECUTADO #######################################\n",
      "Your branch is up to date with 'origin/main'.\n",
      "##############################################################################################################\n",
      "\n",
      "############################################# COMANDO A EJECUTAR #############################################\n",
      "git branch -a\n",
      "####################################### RESULTADO DE COMANDO EJECUTADO #######################################\n",
      "* main\n",
      "  multi_commits\n",
      "  utils\n",
      "  remotes/origin/HEAD -> origin/main\n",
      "  remotes/origin/main\n",
      "  remotes/origin/multi_commits\n",
      "##############################################################################################################\n",
      "\n",
      "############################################# COMANDO A EJECUTAR #############################################\n",
      "git branch -a\n",
      "####################################### RESULTADO DE COMANDO EJECUTADO #######################################\n",
      "* main\n",
      "  multi_commits\n",
      "  utils\n",
      "  remotes/origin/HEAD -> origin/main\n",
      "  remotes/origin/main\n",
      "  remotes/origin/multi_commits\n",
      "##############################################################################################################\n",
      "\n",
      "############################################# COMANDO A EJECUTAR #############################################\n",
      "git checkout -b rebase_branch\n",
      "####################################### RESULTADO DE COMANDO EJECUTADO #######################################\n",
      "##############################################################################################################\n",
      "\n",
      "############################################# COMANDO A EJECUTAR #############################################\n",
      "git branch\n",
      "####################################### RESULTADO DE COMANDO EJECUTADO #######################################\n",
      "  main\n",
      "  multi_commits\n",
      "* rebase_branch\n",
      "  utils\n",
      "##############################################################################################################\n",
      "\n",
      "lista_de_archivos = ['info.txt', 'Dockerfile', 'Manifest.yaml', 'imagen.png', 'main.py', 'connection.java', 'calculos.c', 'addon.php', 'utils.gif', 'query.sql', 'dataset.avro', 'link.vs']\n",
      "############################################# COMANDO A EJECUTAR #############################################\n",
      "echo 1679721398.94993 >> info.txt\n",
      "####################################### RESULTADO DE COMANDO EJECUTADO #######################################\n",
      "##############################################################################################################\n",
      "\n",
      "############################################# COMANDO A EJECUTAR #############################################\n",
      "echo 1679721399.097462 >> Dockerfile\n",
      "####################################### RESULTADO DE COMANDO EJECUTADO #######################################\n",
      "##############################################################################################################\n",
      "\n",
      "############################################# COMANDO A EJECUTAR #############################################\n",
      "echo 1679721399.23146 >> Manifest.yaml\n",
      "####################################### RESULTADO DE COMANDO EJECUTADO #######################################\n",
      "##############################################################################################################\n",
      "\n",
      "############################################# COMANDO A EJECUTAR #############################################\n",
      "echo 1679721399.365896 >> imagen.png\n",
      "####################################### RESULTADO DE COMANDO EJECUTADO #######################################\n",
      "##############################################################################################################\n",
      "\n",
      "############################################# COMANDO A EJECUTAR #############################################\n",
      "echo 1679721399.491917 >> main.py\n",
      "####################################### RESULTADO DE COMANDO EJECUTADO #######################################\n",
      "##############################################################################################################\n",
      "\n",
      "############################################# COMANDO A EJECUTAR #############################################\n",
      "echo 1679721399.615496 >> connection.java\n",
      "####################################### RESULTADO DE COMANDO EJECUTADO #######################################\n",
      "##############################################################################################################\n",
      "\n",
      "############################################# COMANDO A EJECUTAR #############################################\n",
      "echo 1679721399.772356 >> calculos.c\n",
      "####################################### RESULTADO DE COMANDO EJECUTADO #######################################\n",
      "##############################################################################################################\n",
      "\n",
      "############################################# COMANDO A EJECUTAR #############################################\n",
      "echo 1679721399.91489 >> addon.php\n",
      "####################################### RESULTADO DE COMANDO EJECUTADO #######################################\n",
      "##############################################################################################################\n",
      "\n",
      "############################################# COMANDO A EJECUTAR #############################################\n",
      "echo 1679721400.072463 >> utils.gif\n",
      "####################################### RESULTADO DE COMANDO EJECUTADO #######################################\n",
      "##############################################################################################################\n",
      "\n",
      "############################################# COMANDO A EJECUTAR #############################################\n",
      "echo 1679721400.218973 >> query.sql\n",
      "####################################### RESULTADO DE COMANDO EJECUTADO #######################################\n",
      "##############################################################################################################\n",
      "\n",
      "############################################# COMANDO A EJECUTAR #############################################\n",
      "echo 1679721400.347104 >> dataset.avro\n",
      "####################################### RESULTADO DE COMANDO EJECUTADO #######################################\n",
      "##############################################################################################################\n",
      "\n",
      "############################################# COMANDO A EJECUTAR #############################################\n",
      "echo 1679721400.471655 >> link.vs\n",
      "####################################### RESULTADO DE COMANDO EJECUTADO #######################################\n",
      "##############################################################################################################\n",
      "\n",
      "############################################# COMANDO A EJECUTAR #############################################\n",
      "git add info.txt\n",
      "####################################### RESULTADO DE COMANDO EJECUTADO #######################################\n",
      "##############################################################################################################\n",
      "\n",
      "############################################# COMANDO A EJECUTAR #############################################\n",
      "git commit -m \"ADICIONADO ARCHIVO info.txt 2023-03-25 00:16:38.839693\"\n",
      "####################################### RESULTADO DE COMANDO EJECUTADO #######################################\n",
      "[rebase_branch cca702b] ADICIONADO ARCHIVO info.txt 2023-03-25 00:16:38.839693\n",
      " 1 file changed, 1 insertion(+)\n",
      " create mode 100644 info.txt\n",
      "##############################################################################################################\n",
      "\n",
      "############################################# COMANDO A EJECUTAR #############################################\n",
      "git add Dockerfile\n",
      "####################################### RESULTADO DE COMANDO EJECUTADO #######################################\n",
      "##############################################################################################################\n",
      "\n",
      "############################################# COMANDO A EJECUTAR #############################################\n",
      "git commit -m \"ADICIONADO ARCHIVO Dockerfile 2023-03-25 00:16:38.839693\"\n",
      "####################################### RESULTADO DE COMANDO EJECUTADO #######################################\n",
      "[rebase_branch 73ca7e0] ADICIONADO ARCHIVO Dockerfile 2023-03-25 00:16:38.839693\n",
      " 1 file changed, 1 insertion(+)\n",
      " create mode 100644 Dockerfile\n",
      "##############################################################################################################\n",
      "\n",
      "############################################# COMANDO A EJECUTAR #############################################\n",
      "git add Manifest.yaml\n",
      "####################################### RESULTADO DE COMANDO EJECUTADO #######################################\n",
      "##############################################################################################################\n",
      "\n",
      "############################################# COMANDO A EJECUTAR #############################################\n",
      "git commit -m \"ADICIONADO ARCHIVO Manifest.yaml 2023-03-25 00:16:38.839693\"\n",
      "####################################### RESULTADO DE COMANDO EJECUTADO #######################################\n",
      "[rebase_branch 2b770a8] ADICIONADO ARCHIVO Manifest.yaml 2023-03-25 00:16:38.839693\n",
      " 1 file changed, 1 insertion(+)\n",
      " create mode 100644 Manifest.yaml\n",
      "##############################################################################################################\n",
      "\n",
      "############################################# COMANDO A EJECUTAR #############################################\n",
      "git add imagen.png\n",
      "####################################### RESULTADO DE COMANDO EJECUTADO #######################################\n",
      "##############################################################################################################\n",
      "\n",
      "############################################# COMANDO A EJECUTAR #############################################\n",
      "git commit -m \"ADICIONADO ARCHIVO imagen.png 2023-03-25 00:16:38.839693\"\n",
      "####################################### RESULTADO DE COMANDO EJECUTADO #######################################\n",
      "[rebase_branch e2d038b] ADICIONADO ARCHIVO imagen.png 2023-03-25 00:16:38.839693\n",
      " 1 file changed, 1 insertion(+)\n",
      " create mode 100644 imagen.png\n",
      "##############################################################################################################\n",
      "\n",
      "############################################# COMANDO A EJECUTAR #############################################\n",
      "git add main.py\n",
      "####################################### RESULTADO DE COMANDO EJECUTADO #######################################\n",
      "##############################################################################################################\n",
      "\n",
      "############################################# COMANDO A EJECUTAR #############################################\n",
      "git commit -m \"ADICIONADO ARCHIVO main.py 2023-03-25 00:16:38.839693\"\n",
      "####################################### RESULTADO DE COMANDO EJECUTADO #######################################\n",
      "[rebase_branch ae0643a] ADICIONADO ARCHIVO main.py 2023-03-25 00:16:38.839693\n",
      " 1 file changed, 1 insertion(+)\n",
      " create mode 100644 main.py\n",
      "##############################################################################################################\n",
      "\n",
      "############################################# COMANDO A EJECUTAR #############################################\n",
      "git add connection.java\n",
      "####################################### RESULTADO DE COMANDO EJECUTADO #######################################\n",
      "##############################################################################################################\n",
      "\n",
      "############################################# COMANDO A EJECUTAR #############################################\n",
      "git commit -m \"ADICIONADO ARCHIVO connection.java 2023-03-25 00:16:38.839693\"\n",
      "####################################### RESULTADO DE COMANDO EJECUTADO #######################################\n",
      "[rebase_branch 70e53da] ADICIONADO ARCHIVO connection.java 2023-03-25 00:16:38.839693\n",
      " 1 file changed, 1 insertion(+)\n",
      " create mode 100644 connection.java\n",
      "##############################################################################################################\n",
      "\n",
      "############################################# COMANDO A EJECUTAR #############################################\n",
      "git add calculos.c\n",
      "####################################### RESULTADO DE COMANDO EJECUTADO #######################################\n",
      "##############################################################################################################\n",
      "\n",
      "############################################# COMANDO A EJECUTAR #############################################\n",
      "git commit -m \"ADICIONADO ARCHIVO calculos.c 2023-03-25 00:16:38.839693\"\n",
      "####################################### RESULTADO DE COMANDO EJECUTADO #######################################\n",
      "[rebase_branch 3df58ce] ADICIONADO ARCHIVO calculos.c 2023-03-25 00:16:38.839693\n",
      " 1 file changed, 1 insertion(+)\n",
      " create mode 100644 calculos.c\n",
      "##############################################################################################################\n",
      "\n",
      "############################################# COMANDO A EJECUTAR #############################################\n",
      "git add addon.php\n",
      "####################################### RESULTADO DE COMANDO EJECUTADO #######################################\n",
      "##############################################################################################################\n",
      "\n",
      "############################################# COMANDO A EJECUTAR #############################################\n",
      "git commit -m \"ADICIONADO ARCHIVO addon.php 2023-03-25 00:16:38.839693\"\n",
      "####################################### RESULTADO DE COMANDO EJECUTADO #######################################\n",
      "[rebase_branch 97158d2] ADICIONADO ARCHIVO addon.php 2023-03-25 00:16:38.839693\n",
      " 1 file changed, 1 insertion(+)\n",
      " create mode 100644 addon.php\n",
      "##############################################################################################################\n",
      "\n",
      "############################################# COMANDO A EJECUTAR #############################################\n",
      "git add utils.gif\n",
      "####################################### RESULTADO DE COMANDO EJECUTADO #######################################\n",
      "##############################################################################################################\n",
      "\n",
      "############################################# COMANDO A EJECUTAR #############################################\n",
      "git commit -m \"ADICIONADO ARCHIVO utils.gif 2023-03-25 00:16:38.839693\"\n",
      "####################################### RESULTADO DE COMANDO EJECUTADO #######################################\n",
      "[rebase_branch 5ca3e6e] ADICIONADO ARCHIVO utils.gif 2023-03-25 00:16:38.839693\n",
      " 1 file changed, 1 insertion(+)\n",
      " create mode 100644 utils.gif\n",
      "##############################################################################################################\n",
      "\n",
      "############################################# COMANDO A EJECUTAR #############################################\n",
      "git add query.sql\n",
      "####################################### RESULTADO DE COMANDO EJECUTADO #######################################\n",
      "##############################################################################################################\n",
      "\n",
      "############################################# COMANDO A EJECUTAR #############################################\n",
      "git commit -m \"ADICIONADO ARCHIVO query.sql 2023-03-25 00:16:38.839693\"\n",
      "####################################### RESULTADO DE COMANDO EJECUTADO #######################################\n",
      "[rebase_branch 9926ae9] ADICIONADO ARCHIVO query.sql 2023-03-25 00:16:38.839693\n",
      " 1 file changed, 1 insertion(+)\n",
      " create mode 100644 query.sql\n",
      "##############################################################################################################\n",
      "\n",
      "############################################# COMANDO A EJECUTAR #############################################\n",
      "git add dataset.avro\n",
      "####################################### RESULTADO DE COMANDO EJECUTADO #######################################\n",
      "##############################################################################################################\n",
      "\n",
      "############################################# COMANDO A EJECUTAR #############################################\n",
      "git commit -m \"ADICIONADO ARCHIVO dataset.avro 2023-03-25 00:16:38.839693\"\n",
      "####################################### RESULTADO DE COMANDO EJECUTADO #######################################\n",
      "[rebase_branch 1520ca9] ADICIONADO ARCHIVO dataset.avro 2023-03-25 00:16:38.839693\n",
      " 1 file changed, 1 insertion(+)\n",
      " create mode 100644 dataset.avro\n",
      "##############################################################################################################\n",
      "\n",
      "############################################# COMANDO A EJECUTAR #############################################\n",
      "git add link.vs\n",
      "####################################### RESULTADO DE COMANDO EJECUTADO #######################################\n",
      "##############################################################################################################\n",
      "\n",
      "############################################# COMANDO A EJECUTAR #############################################\n",
      "git commit -m \"ADICIONADO ARCHIVO link.vs 2023-03-25 00:16:38.839693\"\n",
      "####################################### RESULTADO DE COMANDO EJECUTADO #######################################\n",
      "[rebase_branch 7498874] ADICIONADO ARCHIVO link.vs 2023-03-25 00:16:38.839693\n",
      " 1 file changed, 1 insertion(+)\n",
      " create mode 100644 link.vs\n",
      "##############################################################################################################\n",
      "\n",
      "############################################# COMANDO A EJECUTAR #############################################\n",
      "git status\n",
      "####################################### RESULTADO DE COMANDO EJECUTADO #######################################\n",
      "On branch rebase_branch\n",
      "nothing to commit, working tree clean\n",
      "##############################################################################################################\n",
      "\n",
      "############################################# COMANDO A EJECUTAR #############################################\n",
      "git log --graph --oneline\n",
      "####################################### RESULTADO DE COMANDO EJECUTADO #######################################\n",
      "* 7498874 ADICIONADO ARCHIVO link.vs 2023-03-25 00:16:38.839693\n",
      "* 1520ca9 ADICIONADO ARCHIVO dataset.avro 2023-03-25 00:16:38.839693\n",
      "* 9926ae9 ADICIONADO ARCHIVO query.sql 2023-03-25 00:16:38.839693\n",
      "* 5ca3e6e ADICIONADO ARCHIVO utils.gif 2023-03-25 00:16:38.839693\n",
      "* 97158d2 ADICIONADO ARCHIVO addon.php 2023-03-25 00:16:38.839693\n",
      "* 3df58ce ADICIONADO ARCHIVO calculos.c 2023-03-25 00:16:38.839693\n",
      "* 70e53da ADICIONADO ARCHIVO connection.java 2023-03-25 00:16:38.839693\n",
      "* ae0643a ADICIONADO ARCHIVO main.py 2023-03-25 00:16:38.839693\n",
      "* e2d038b ADICIONADO ARCHIVO imagen.png 2023-03-25 00:16:38.839693\n",
      "* 2b770a8 ADICIONADO ARCHIVO Manifest.yaml 2023-03-25 00:16:38.839693\n",
      "* 73ca7e0 ADICIONADO ARCHIVO Dockerfile 2023-03-25 00:16:38.839693\n",
      "* cca702b ADICIONADO ARCHIVO info.txt 2023-03-25 00:16:38.839693\n",
      "* 3b4edb5 adicionados archivo de configuracion y requerimientos\n",
      "* d15fad2 Initial commit\n",
      "##############################################################################################################\n",
      "\n",
      "############################################# COMANDO A EJECUTAR #############################################\n",
      "git push --set-upstream origin rebase_branch\n",
      "####################################### RESULTADO DE COMANDO EJECUTADO #######################################\n",
      "Branch 'rebase_branch' set up to track remote branch 'rebase_branch' from 'origin'.\n",
      "##############################################################################################################\n",
      "\n",
      "############################################# COMANDO A EJECUTAR #############################################\n",
      "git branch\n",
      "####################################### RESULTADO DE COMANDO EJECUTADO #######################################\n",
      "  main\n",
      "  multi_commits\n",
      "* rebase_branch\n",
      "  utils\n",
      "##############################################################################################################\n",
      "\n"
     ]
    }
   ],
   "source": [
    "nombre_rama = 'rebase_branch'\n",
    "generar_archivos_y_hacer_commit(nombre_rama=nombre_rama)"
   ]
  },
  {
   "cell_type": "markdown",
   "id": "9f41a9a0-fc04-47f4-80ff-8e615a806360",
   "metadata": {},
   "source": [
    "# EN LA CONSOLA, TERMINAL O UN IDE DE DESARROLLO <br>https://github.com/JorgeCardona/comandos_git</br>\n",
    "\n",
    "<center>\n",
    "    <img width=\"75%\" align=\"center\" src=\"rebase_interactivo.gif\">\n",
    "</center>\n",
    "<br>\n",
    "<center>\n",
    "    <img width=\"75%\" align=\"center\" src=\"rebase_tipos.png\">\n",
    "</center>\n",
    "<br>\n",
    "<center>\n",
    "    <img width=\"75%\" align=\"center\" src=\"rebase_squash.gif\">\n",
    "</center>"
   ]
  },
  {
   "cell_type": "markdown",
   "id": "89cbab06-c933-44a8-bceb-c3a80735123e",
   "metadata": {},
   "source": [
    "### n COMMITS ATRAS\n",
    "# git rebase -i HEAD~9\n",
    "\n",
    "### UN COMMIT ESPECIFICO\n",
    "# git rebase -i d15fad27cb8d1bcb6a0e697ef02e2d787dc51b48\n",
    "\n",
    "\n",
    "##### SE ABRE AUTOMATICAMENTE EL EDITOR DE TEXTO, reemplazar la palabra **pick** por **squash** GUARDAR y CERRAR\n",
    "### DEJAR EL PRIMERO COMO PICK YA QUE SINO, NO EXISTEN COMMITS PARA HACER, GENERA ERROR.\n",
    "##### SE ABRE AUTOMATICAMENTE EL EDITOR DE TEXTO, reemplazar los comentarios por el comentario que se quiere\n",
    "## subir los cambios al repositorio\n",
    "# git push --force origin rebase_branch"
   ]
  },
  {
   "cell_type": "markdown",
   "id": "d6d6ce5d-6292-4989-a382-8b4c4223b1d8",
   "metadata": {
    "tags": []
   },
   "source": [
    "#### ELIMINAR LA RAMA DEL REPOSITORIO LOCAL Y REMOTO"
   ]
  },
  {
   "cell_type": "code",
   "execution_count": 90,
   "id": "dea080a3-5eaf-4c8f-abeb-3ff0ae69f750",
   "metadata": {
    "tags": []
   },
   "outputs": [
    {
     "name": "stdout",
     "output_type": "stream",
     "text": [
      "############################################# COMANDO A EJECUTAR #############################################\n",
      "git checkout main\n",
      "####################################### RESULTADO DE COMANDO EJECUTADO #######################################\n",
      "Your branch is up to date with 'origin/main'.\n",
      "##############################################################################################################\n",
      "\n",
      "############################################# COMANDO A EJECUTAR #############################################\n",
      "git push origin -d rebase_branch\n",
      "####################################### RESULTADO DE COMANDO EJECUTADO #######################################\n",
      "##############################################################################################################\n",
      "\n",
      "############################################# COMANDO A EJECUTAR #############################################\n",
      "git branch -D rebase_branch\n",
      "####################################### RESULTADO DE COMANDO EJECUTADO #######################################\n",
      "Deleted branch rebase_branch (was 7498874).\n",
      "##############################################################################################################\n",
      "\n",
      "############################################# COMANDO A EJECUTAR #############################################\n",
      "git branch -a\n",
      "####################################### RESULTADO DE COMANDO EJECUTADO #######################################\n",
      "* main\n",
      "  multi_commits\n",
      "  utils\n",
      "  remotes/origin/HEAD -> origin/main\n",
      "  remotes/origin/main\n",
      "  remotes/origin/multi_commits\n",
      "##############################################################################################################\n",
      "\n"
     ]
    }
   ],
   "source": [
    "comando = 'git checkout main'\n",
    "ejecutar_comando_git(comando)\n",
    "\n",
    "comando = 'git push origin -d {nombre_rama}'.format(nombre_rama=nombre_rama)\n",
    "ejecutar_comando_git(comando)\n",
    "\n",
    "comando = 'git branch -D {nombre_rama}'.format(nombre_rama=nombre_rama)\n",
    "ejecutar_comando_git(comando)\n",
    "\n",
    "comando = 'git branch -a'\n",
    "ejecutar_comando_git(comando)"
   ]
  },
  {
   "cell_type": "markdown",
   "id": "98749f3f-04c9-4f07-bede-6fe4d3c04982",
   "metadata": {},
   "source": [
    "# <center> MERGE RAMAS DE UN REPOSITORIO <br>https://github.com/JorgeCardona/comandos_git</br></center>\n",
    "\n",
    "<center>\n",
    "    <img width=\"75%\" align=\"center\" src=\"merge.gif\">\n",
    "</center>"
   ]
  },
  {
   "cell_type": "code",
   "execution_count": 91,
   "id": "b3a24f21-1be6-4aba-ae1f-8d33393e968b",
   "metadata": {
    "scrolled": true,
    "tags": []
   },
   "outputs": [
    {
     "name": "stdout",
     "output_type": "stream",
     "text": [
      "############################################# COMANDO A EJECUTAR #############################################\n",
      "git restore .\n",
      "####################################### RESULTADO DE COMANDO EJECUTADO #######################################\n",
      "##############################################################################################################\n",
      "\n",
      "############################################# COMANDO A EJECUTAR #############################################\n",
      "git checkout main\n",
      "####################################### RESULTADO DE COMANDO EJECUTADO #######################################\n",
      "Your branch is up to date with 'origin/main'.\n",
      "##############################################################################################################\n",
      "\n",
      "############################################# COMANDO A EJECUTAR #############################################\n",
      "git branch -a\n",
      "####################################### RESULTADO DE COMANDO EJECUTADO #######################################\n",
      "* main\n",
      "  multi_commits\n",
      "  utils\n",
      "  remotes/origin/HEAD -> origin/main\n",
      "  remotes/origin/main\n",
      "  remotes/origin/multi_commits\n",
      "##############################################################################################################\n",
      "\n",
      "############################################# COMANDO A EJECUTAR #############################################\n",
      "git branch -a\n",
      "####################################### RESULTADO DE COMANDO EJECUTADO #######################################\n",
      "* main\n",
      "  multi_commits\n",
      "  utils\n",
      "  remotes/origin/HEAD -> origin/main\n",
      "  remotes/origin/main\n",
      "  remotes/origin/multi_commits\n",
      "##############################################################################################################\n",
      "\n",
      "############################################# COMANDO A EJECUTAR #############################################\n",
      "git checkout -b branch_uno\n",
      "####################################### RESULTADO DE COMANDO EJECUTADO #######################################\n",
      "##############################################################################################################\n",
      "\n",
      "############################################# COMANDO A EJECUTAR #############################################\n",
      "git branch\n",
      "####################################### RESULTADO DE COMANDO EJECUTADO #######################################\n",
      "* branch_uno\n",
      "  main\n",
      "  multi_commits\n",
      "  utils\n",
      "##############################################################################################################\n",
      "\n",
      "lista_de_archivos = ['info.txt']\n",
      "############################################# COMANDO A EJECUTAR #############################################\n",
      "echo 1679721408.652002 >> info.txt\n",
      "####################################### RESULTADO DE COMANDO EJECUTADO #######################################\n",
      "##############################################################################################################\n",
      "\n",
      "############################################# COMANDO A EJECUTAR #############################################\n",
      "git add info.txt\n",
      "####################################### RESULTADO DE COMANDO EJECUTADO #######################################\n",
      "##############################################################################################################\n",
      "\n",
      "############################################# COMANDO A EJECUTAR #############################################\n",
      "git commit -m \"ADICIONADO ARCHIVO info.txt 2023-03-25 00:16:48.541846\"\n",
      "####################################### RESULTADO DE COMANDO EJECUTADO #######################################\n",
      "[branch_uno 32a3bf4] ADICIONADO ARCHIVO info.txt 2023-03-25 00:16:48.541846\n",
      " 1 file changed, 1 insertion(+)\n",
      " create mode 100644 info.txt\n",
      "##############################################################################################################\n",
      "\n",
      "############################################# COMANDO A EJECUTAR #############################################\n",
      "git status\n",
      "####################################### RESULTADO DE COMANDO EJECUTADO #######################################\n",
      "On branch branch_uno\n",
      "nothing to commit, working tree clean\n",
      "##############################################################################################################\n",
      "\n",
      "############################################# COMANDO A EJECUTAR #############################################\n",
      "git log --graph --oneline\n",
      "####################################### RESULTADO DE COMANDO EJECUTADO #######################################\n",
      "* 32a3bf4 ADICIONADO ARCHIVO info.txt 2023-03-25 00:16:48.541846\n",
      "* 3b4edb5 adicionados archivo de configuracion y requerimientos\n",
      "* d15fad2 Initial commit\n",
      "##############################################################################################################\n",
      "\n",
      "############################################# COMANDO A EJECUTAR #############################################\n",
      "git push --set-upstream origin branch_uno\n",
      "####################################### RESULTADO DE COMANDO EJECUTADO #######################################\n",
      "Branch 'branch_uno' set up to track remote branch 'branch_uno' from 'origin'.\n",
      "##############################################################################################################\n",
      "\n",
      "############################################# COMANDO A EJECUTAR #############################################\n",
      "git branch\n",
      "####################################### RESULTADO DE COMANDO EJECUTADO #######################################\n",
      "* branch_uno\n",
      "  main\n",
      "  multi_commits\n",
      "  utils\n",
      "##############################################################################################################\n",
      "\n",
      "############################################# COMANDO A EJECUTAR #############################################\n",
      "git restore .\n",
      "####################################### RESULTADO DE COMANDO EJECUTADO #######################################\n",
      "##############################################################################################################\n",
      "\n",
      "############################################# COMANDO A EJECUTAR #############################################\n",
      "git checkout main\n",
      "####################################### RESULTADO DE COMANDO EJECUTADO #######################################\n",
      "Your branch is up to date with 'origin/main'.\n",
      "##############################################################################################################\n",
      "\n",
      "############################################# COMANDO A EJECUTAR #############################################\n",
      "git branch -a\n",
      "####################################### RESULTADO DE COMANDO EJECUTADO #######################################\n",
      "  branch_uno\n",
      "* main\n",
      "  multi_commits\n",
      "  utils\n",
      "  remotes/origin/HEAD -> origin/main\n",
      "  remotes/origin/branch_uno\n",
      "  remotes/origin/main\n",
      "  remotes/origin/multi_commits\n",
      "##############################################################################################################\n",
      "\n",
      "############################################# COMANDO A EJECUTAR #############################################\n",
      "git branch -a\n",
      "####################################### RESULTADO DE COMANDO EJECUTADO #######################################\n",
      "  branch_uno\n",
      "* main\n",
      "  multi_commits\n",
      "  utils\n",
      "  remotes/origin/HEAD -> origin/main\n",
      "  remotes/origin/branch_uno\n",
      "  remotes/origin/main\n",
      "  remotes/origin/multi_commits\n",
      "##############################################################################################################\n",
      "\n",
      "############################################# COMANDO A EJECUTAR #############################################\n",
      "git checkout -b branch_dos\n",
      "####################################### RESULTADO DE COMANDO EJECUTADO #######################################\n",
      "##############################################################################################################\n",
      "\n",
      "############################################# COMANDO A EJECUTAR #############################################\n",
      "git branch\n",
      "####################################### RESULTADO DE COMANDO EJECUTADO #######################################\n",
      "* branch_dos\n",
      "  branch_uno\n",
      "  main\n",
      "  multi_commits\n",
      "  utils\n",
      "##############################################################################################################\n",
      "\n",
      "lista_de_archivos = ['info.txt']\n",
      "############################################# COMANDO A EJECUTAR #############################################\n",
      "echo 1679721412.280249 >> info.txt\n",
      "####################################### RESULTADO DE COMANDO EJECUTADO #######################################\n",
      "##############################################################################################################\n",
      "\n",
      "############################################# COMANDO A EJECUTAR #############################################\n",
      "git add info.txt\n",
      "####################################### RESULTADO DE COMANDO EJECUTADO #######################################\n",
      "##############################################################################################################\n",
      "\n",
      "############################################# COMANDO A EJECUTAR #############################################\n",
      "git commit -m \"ADICIONADO ARCHIVO info.txt 2023-03-25 00:16:52.166139\"\n",
      "####################################### RESULTADO DE COMANDO EJECUTADO #######################################\n",
      "[branch_dos f14ecd5] ADICIONADO ARCHIVO info.txt 2023-03-25 00:16:52.166139\n",
      " 1 file changed, 1 insertion(+)\n",
      " create mode 100644 info.txt\n",
      "##############################################################################################################\n",
      "\n",
      "############################################# COMANDO A EJECUTAR #############################################\n",
      "git status\n",
      "####################################### RESULTADO DE COMANDO EJECUTADO #######################################\n",
      "On branch branch_dos\n",
      "nothing to commit, working tree clean\n",
      "##############################################################################################################\n",
      "\n",
      "############################################# COMANDO A EJECUTAR #############################################\n",
      "git log --graph --oneline\n",
      "####################################### RESULTADO DE COMANDO EJECUTADO #######################################\n",
      "* f14ecd5 ADICIONADO ARCHIVO info.txt 2023-03-25 00:16:52.166139\n",
      "* 3b4edb5 adicionados archivo de configuracion y requerimientos\n",
      "* d15fad2 Initial commit\n",
      "##############################################################################################################\n",
      "\n",
      "############################################# COMANDO A EJECUTAR #############################################\n",
      "git push --set-upstream origin branch_dos\n",
      "####################################### RESULTADO DE COMANDO EJECUTADO #######################################\n",
      "Branch 'branch_dos' set up to track remote branch 'branch_dos' from 'origin'.\n",
      "##############################################################################################################\n",
      "\n",
      "############################################# COMANDO A EJECUTAR #############################################\n",
      "git branch\n",
      "####################################### RESULTADO DE COMANDO EJECUTADO #######################################\n",
      "* branch_dos\n",
      "  branch_uno\n",
      "  main\n",
      "  multi_commits\n",
      "  utils\n",
      "##############################################################################################################\n",
      "\n"
     ]
    }
   ],
   "source": [
    "nombre_ramas = ['branch_uno','branch_dos']\n",
    "\n",
    "for rama in nombre_ramas:\n",
    "    generar_archivos_y_hacer_commit(rama, todos_los_archivos = False)"
   ]
  },
  {
   "cell_type": "markdown",
   "id": "57b93962-ad12-4c53-ae6a-a6496c3bcc61",
   "metadata": {},
   "source": [
    "# <center> UNIR DOS RAMAS LOCALES </center>\n",
    "\n",
    "<center>\n",
    "    <img width=\"75%\" align=\"center\" src=\"merge_conflictos.gif\">\n",
    "</center>"
   ]
  },
  {
   "cell_type": "markdown",
   "id": "baf1888f-cc65-47a1-8091-4c234363db68",
   "metadata": {},
   "source": [
    "# EN LA CONSOLA, TERMINAL O UN IDE DE DESARROLLO\n",
    "# git merge branch_dos branch_uno"
   ]
  },
  {
   "cell_type": "markdown",
   "id": "a7674952-0aa9-43bd-98e6-c57aac0ac644",
   "metadata": {},
   "source": [
    "# Accept Current Change | Accept Incoming Change | Accept Both Changes | Compare Change\n",
    "# <<<<<<< HEAD\n",
    "# 1679198052.206751 (Current Change)\n",
    "# =======\n",
    "# 1679198046.401986 \n",
    "# >>>>>>> branch_uno (Incoming Change)"
   ]
  },
  {
   "cell_type": "markdown",
   "id": "bee82566-8bdd-4dca-a5cd-2ae8b49f7941",
   "metadata": {},
   "source": [
    "# <center> UNIR CAMBIOS DE LA RAMA REMOTA A LA RAMA LOCAL </center> "
   ]
  },
  {
   "cell_type": "markdown",
   "id": "850814d1-94b7-43e7-8463-eba49e776121",
   "metadata": {},
   "source": [
    "# EN LA CONSOLA DE VSCODE O UN IDE DE DESARROLLO\n",
    "<center>\n",
    "    <img width=\"75%\" align=\"center\" src=\"pull.gif\">\n",
    "</center>\n",
    "# git pull origin branch_dos"
   ]
  },
  {
   "cell_type": "markdown",
   "id": "e7030020-fa35-4665-bc8e-6b273a16e278",
   "metadata": {},
   "source": [
    "# <center> UNIR CAMBIOS DE LA RAMA LOCAL A LA RAMA REMOTA </center> "
   ]
  },
  {
   "cell_type": "markdown",
   "id": "d16cc908-7a0a-4b54-a2f3-6e9ae91feca7",
   "metadata": {},
   "source": [
    "# EN LA CONSOLA DE VSCODE O UN IDE DE DESARROLLO\n",
    "### hacer un git commit y despues un git pull\n",
    "\n",
    "# Accept Current Change | Accept Incoming Change | Accept Both Changes | Compare Change\n",
    "# <<<<<<< HEAD\n",
    "# 1679198052.206751 (Current Change)\n",
    "# =======\n",
    "# 1679198046.401986 \n",
    "# >>>>>>> branch_uno (Incoming Change)"
   ]
  },
  {
   "cell_type": "markdown",
   "id": "8fef35e1-812c-4ec7-9d47-c3884cdaac64",
   "metadata": {},
   "source": [
    "## VER HISTORIAL DE n COMMITS EN UN DIAGRAMA DE GRAFO"
   ]
  },
  {
   "cell_type": "code",
   "execution_count": 95,
   "id": "faba3aec-b457-4beb-a478-d48f4faa488d",
   "metadata": {
    "tags": []
   },
   "outputs": [
    {
     "name": "stdout",
     "output_type": "stream",
     "text": [
      "############################################# COMANDO A EJECUTAR #############################################\n",
      "git log --graph --oneline\n",
      "####################################### RESULTADO DE COMANDO EJECUTADO #######################################\n",
      "*   23e5e61 Merge branch 'branch_uno' into branch_dos\n",
      "|\\  \n",
      "| * 32a3bf4 ADICIONADO ARCHIVO info.txt 2023-03-25 00:16:48.541846\n",
      "* | f14ecd5 ADICIONADO ARCHIVO info.txt 2023-03-25 00:16:52.166139\n",
      "|/  \n",
      "* 3b4edb5 adicionados archivo de configuracion y requerimientos\n",
      "* d15fad2 Initial commit\n",
      "##############################################################################################################\n",
      "\n",
      "############################################# COMANDO A EJECUTAR #############################################\n",
      "git branch\n",
      "####################################### RESULTADO DE COMANDO EJECUTADO #######################################\n",
      "* branch_dos\n",
      "  branch_uno\n",
      "  main\n",
      "  multi_commits\n",
      "  utils\n",
      "##############################################################################################################\n",
      "\n"
     ]
    }
   ],
   "source": [
    "comando = 'git log --graph --oneline'\n",
    "ejecutar_comando_git(comando)\n",
    "ejecutar_comando_shell()"
   ]
  },
  {
   "cell_type": "markdown",
   "id": "ef5452d8-5319-40e1-83a3-2de1962ff6db",
   "metadata": {},
   "source": [
    "## VER HISTORIAL DE n COMMITS EN UN DIAGRAMA DE GRAFO MAS DETALLADO"
   ]
  },
  {
   "cell_type": "code",
   "execution_count": 96,
   "id": "c50ea762-5f3c-48a0-9c1f-a7bd9b9ce6ac",
   "metadata": {
    "tags": []
   },
   "outputs": [
    {
     "name": "stdout",
     "output_type": "stream",
     "text": [
      "############################################# COMANDO A EJECUTAR #############################################\n",
      "git log --decorate --graph --oneline --all\n",
      "####################################### RESULTADO DE COMANDO EJECUTADO #######################################\n",
      "*   23e5e61 (HEAD -> branch_dos) Merge branch 'branch_uno' into branch_dos\n",
      "|\\  \n",
      "| * 32a3bf4 (origin/branch_uno, branch_uno) ADICIONADO ARCHIVO info.txt 2023-03-25 00:16:48.541846\n",
      "* | f14ecd5 (origin/branch_dos) ADICIONADO ARCHIVO info.txt 2023-03-25 00:16:52.166139\n",
      "|/  \n",
      "| * 1d1614a (utils) adicionados archivos de prueba\n",
      "| * 67e732f (origin/multi_commits, multi_commits) adicionado archivo html\n",
      "| * 1d9c154 adicionado archivo csv\n",
      "| * dcfb55b adicionado archivo excel\n",
      "| * 52ff70b adicionado archivo pdf\n",
      "|/  \n",
      "* 3b4edb5 (origin/main, origin/HEAD, main) adicionados archivo de configuracion y requerimientos\n",
      "* d15fad2 Initial commit\n",
      "##############################################################################################################\n",
      "\n",
      "############################################# COMANDO A EJECUTAR #############################################\n",
      "git branch\n",
      "####################################### RESULTADO DE COMANDO EJECUTADO #######################################\n",
      "* branch_dos\n",
      "  branch_uno\n",
      "  main\n",
      "  multi_commits\n",
      "  utils\n",
      "##############################################################################################################\n",
      "\n"
     ]
    }
   ],
   "source": [
    "comando = 'git log --decorate --graph --oneline --all'\n",
    "ejecutar_comando_git(comando)\n",
    "ejecutar_comando_shell()"
   ]
  },
  {
   "cell_type": "markdown",
   "id": "02985a1a-2630-40f8-998e-f5d3b9e38661",
   "metadata": {
    "tags": []
   },
   "source": [
    "### VER HISTORIAL DE QUIEN HA MANIPULADO UN ARCHIVO ESPECIFICO"
   ]
  },
  {
   "cell_type": "code",
   "execution_count": 106,
   "id": "1dd5141a-fea7-4058-93f6-b3e048d8c724",
   "metadata": {
    "tags": []
   },
   "outputs": [
    {
     "name": "stdout",
     "output_type": "stream",
     "text": [
      "############################################# COMANDO A EJECUTAR #############################################\n",
      "git blame info.txt\n",
      "####################################### RESULTADO DE COMANDO EJECUTADO #######################################\n",
      "f14ecd55 (PARADIGMA\\QiDimMak 2023-03-25 00:16:52 -0500 1) 1679721412.280249 \n",
      "32a3bf48 (PARADIGMA\\QiDimMak 2023-03-25 00:16:48 -0500 2) 1679721408.652002 \n",
      "##############################################################################################################\n",
      "\n",
      "############################################# COMANDO A EJECUTAR #############################################\n",
      "git branch\n",
      "####################################### RESULTADO DE COMANDO EJECUTADO #######################################\n",
      "* branch_dos\n",
      "  branch_uno\n",
      "  main\n",
      "  multi_commits\n",
      "  utils\n",
      "##############################################################################################################\n",
      "\n"
     ]
    }
   ],
   "source": [
    "comando = 'git blame info.txt'\n",
    "ejecutar_comando_git(comando)\n",
    "ejecutar_comando_shell()"
   ]
  },
  {
   "cell_type": "markdown",
   "id": "d40915df-19c0-491b-8153-0f02b42d1b36",
   "metadata": {
    "tags": []
   },
   "source": [
    "#### ELIMINAR LAS RAMAS EN EL REPOSITORIO DE ORIGEN O REMOTO"
   ]
  },
  {
   "cell_type": "code",
   "execution_count": 107,
   "id": "9ff94caf-5123-4bac-9ed0-a603de6453e5",
   "metadata": {
    "tags": []
   },
   "outputs": [
    {
     "name": "stdout",
     "output_type": "stream",
     "text": [
      "############################################# COMANDO A EJECUTAR #############################################\n",
      "git checkout main\n",
      "####################################### RESULTADO DE COMANDO EJECUTADO #######################################\n",
      "Your branch is up to date with 'origin/main'.\n",
      "##############################################################################################################\n",
      "\n",
      "############################################# COMANDO A EJECUTAR #############################################\n",
      "git push origin -d branch_uno\n",
      "####################################### RESULTADO DE COMANDO EJECUTADO #######################################\n",
      "##############################################################################################################\n",
      "\n",
      "############################################# COMANDO A EJECUTAR #############################################\n",
      "git branch -D branch_uno\n",
      "####################################### RESULTADO DE COMANDO EJECUTADO #######################################\n",
      "Deleted branch branch_uno (was 32a3bf4).\n",
      "##############################################################################################################\n",
      "\n",
      "############################################# COMANDO A EJECUTAR #############################################\n",
      "git push origin -d branch_dos\n",
      "####################################### RESULTADO DE COMANDO EJECUTADO #######################################\n",
      "##############################################################################################################\n",
      "\n",
      "############################################# COMANDO A EJECUTAR #############################################\n",
      "git branch -D branch_dos\n",
      "####################################### RESULTADO DE COMANDO EJECUTADO #######################################\n",
      "Deleted branch branch_dos (was 23e5e61).\n",
      "##############################################################################################################\n",
      "\n",
      "############################################# COMANDO A EJECUTAR #############################################\n",
      "git branch -a\n",
      "####################################### RESULTADO DE COMANDO EJECUTADO #######################################\n",
      "* main\n",
      "  multi_commits\n",
      "  utils\n",
      "  remotes/origin/HEAD -> origin/main\n",
      "  remotes/origin/main\n",
      "  remotes/origin/multi_commits\n",
      "##############################################################################################################\n",
      "\n"
     ]
    }
   ],
   "source": [
    "comando = 'git checkout main'\n",
    "ejecutar_comando_git(comando)\n",
    "\n",
    "for nombre_rama in nombre_ramas:\n",
    "    comando = 'git push origin -d {nombre_rama}'.format(nombre_rama=nombre_rama)\n",
    "    ejecutar_comando_git(comando)\n",
    "\n",
    "    comando = 'git branch -D {nombre_rama}'.format(nombre_rama=nombre_rama)\n",
    "    ejecutar_comando_git(comando)\n",
    "\n",
    "comando = 'git branch -a'\n",
    "ejecutar_comando_git(comando)"
   ]
  },
  {
   "cell_type": "markdown",
   "id": "4bec41e1-5333-4e9a-af12-2591a9f87ee8",
   "metadata": {},
   "source": [
    "# <center> CHERRY PICK <br>https://github.com/JorgeCardona/comandos_git</br></center>\n",
    "\n",
    "<center>\n",
    "    <img width=\"75%\" align=\"center\" src=\"cherry-pick.gif\">\n",
    "</center>"
   ]
  },
  {
   "cell_type": "code",
   "execution_count": null,
   "id": "a22a2b4e-6598-49fe-b7c3-890d69272b6d",
   "metadata": {
    "scrolled": true,
    "tags": []
   },
   "outputs": [],
   "source": [
    "nombre_rama_inicial = 'cherry_pick_branch'\n",
    "nombre_rama_final = 'hotfix_branch'\n",
    "\n",
    "nombre_ramas = [nombre_rama_inicial,nombre_rama_final]\n",
    "\n",
    "nombre_rama = nombre_rama_inicial\n",
    "generar_archivos_y_hacer_commit(nombre_rama=nombre_rama)\n",
    "\n",
    "nombre_rama = nombre_rama_final\n",
    "generar_archivos_y_hacer_commit(nombre_rama=nombre_rama, todos_los_archivos=False)"
   ]
  },
  {
   "cell_type": "markdown",
   "id": "c5ce3c4b-49d1-4f9b-83cb-dd1b549e24d7",
   "metadata": {},
   "source": [
    "## VER EL LOG DE LA RAMA A USAR COMO BASE PARA EL CHERRY_PICK"
   ]
  },
  {
   "cell_type": "code",
   "execution_count": null,
   "id": "130942c2-68ce-4d83-8aa0-e41ff7bb0214",
   "metadata": {
    "scrolled": true,
    "tags": []
   },
   "outputs": [],
   "source": [
    "comando = 'git log --oneline hotfix_branch'\n",
    "ejecutar_comando_git(comando)\n",
    "\n",
    "\n",
    "comando = 'git log --oneline cherry_pick_branch'\n",
    "ejecutar_comando_git(comando)\n",
    "ejecutar_comando_shell()"
   ]
  },
  {
   "cell_type": "markdown",
   "id": "775577c8-cf19-4db9-bad3-05a13383868b",
   "metadata": {},
   "source": [
    "## CHERRY PICK A UN COMMIT DE LA RAMA **CHERRY_PICK** PARA UNIRLA CON LA RAMA ACTUAL **HOTFIX**"
   ]
  },
  {
   "cell_type": "code",
   "execution_count": null,
   "id": "07bedf2b-ca47-488b-a2d6-98be3a618aa0",
   "metadata": {
    "tags": []
   },
   "outputs": [],
   "source": [
    "unir_commits = 'af72e1e'\n",
    "comando = f'git cherry-pick {unir_commits}' # archivo main.py\n",
    "ejecutar_comando_git(comando)\n",
    "\n",
    "comando = 'git status'\n",
    "ejecutar_comando_git(comando)"
   ]
  },
  {
   "cell_type": "code",
   "execution_count": null,
   "id": "af52d216-167d-4120-a017-613b8df9a61a",
   "metadata": {
    "tags": []
   },
   "outputs": [],
   "source": [
    "comando = 'git push origin'\n",
    "ejecutar_comando_git(comando)\n",
    "\n",
    "comando = 'git status'\n",
    "ejecutar_comando_git(comando)"
   ]
  },
  {
   "cell_type": "markdown",
   "id": "c8efd687-78a8-47e6-b09e-e123652f5baa",
   "metadata": {},
   "source": [
    "## VER HISTORIAL DE n COMMITS EN UN DIAGRAMA DE GRAFO"
   ]
  },
  {
   "cell_type": "code",
   "execution_count": null,
   "id": "4789564b-2e9e-4e8f-af0e-a66c974a8e57",
   "metadata": {
    "tags": []
   },
   "outputs": [],
   "source": [
    "comando = 'git log --graph --oneline'\n",
    "ejecutar_comando_git(comando)\n",
    "ejecutar_comando_shell()"
   ]
  },
  {
   "cell_type": "markdown",
   "id": "b18cdbb4-54b2-4efa-b635-45e79343f352",
   "metadata": {
    "tags": []
   },
   "source": [
    "#### ELIMINAR LA RAMA EN EL REPOSITORIO DE ORIGEN O REMOTO"
   ]
  },
  {
   "cell_type": "code",
   "execution_count": null,
   "id": "41e95932-aa90-4caf-9d5b-2fc5e1148a72",
   "metadata": {
    "scrolled": true,
    "tags": []
   },
   "outputs": [],
   "source": [
    "comando = 'git checkout main'\n",
    "ejecutar_comando_git(comando)\n",
    "\n",
    "for nombre_rama in nombre_ramas:\n",
    "    comando = 'git push origin -d {nombre_rama}'.format(nombre_rama=nombre_rama)\n",
    "    ejecutar_comando_git(comando)\n",
    "\n",
    "    comando = 'git branch -D {nombre_rama}'.format(nombre_rama=nombre_rama)\n",
    "    ejecutar_comando_git(comando)\n",
    "\n",
    "comando = 'git branch -a'\n",
    "ejecutar_comando_git(comando)"
   ]
  },
  {
   "cell_type": "markdown",
   "id": "7ed89905-a846-46cf-9175-dd32aee6b39a",
   "metadata": {},
   "source": [
    "# <center> TAGs <br>https://github.com/JorgeCardona/comandos_git</br></center>"
   ]
  },
  {
   "cell_type": "code",
   "execution_count": null,
   "id": "1106d9e3-269d-4a57-9d2c-4ac9c2db5eb9",
   "metadata": {
    "scrolled": true,
    "tags": []
   },
   "outputs": [],
   "source": [
    "nombre_rama = 'tag_branch'\n",
    "generar_archivos_y_hacer_commit(nombre_rama=nombre_rama)"
   ]
  },
  {
   "cell_type": "markdown",
   "id": "f9101b9b-478a-4129-9df9-cd989868c4d1",
   "metadata": {},
   "source": [
    "### CREAR UN TAG"
   ]
  },
  {
   "cell_type": "code",
   "execution_count": null,
   "id": "01d3649c-ee90-4b90-bbdb-d742ad2b8742",
   "metadata": {
    "tags": []
   },
   "outputs": [],
   "source": [
    "nombre_tag = 'v0.0.0'\n",
    "comando = 'git tag  {nombre_tag} -m \"versión Inicial\"'.format(nombre_tag=nombre_tag)\n",
    "ejecutar_comando_git(comando)\n",
    "\n",
    "comando = 'git tag'\n",
    "ejecutar_comando_git(comando)"
   ]
  },
  {
   "cell_type": "markdown",
   "id": "b223e4b0-233b-4ac4-871c-434e0fc368c0",
   "metadata": {},
   "source": [
    "### LISTAR LOS TAGs LOCALES"
   ]
  },
  {
   "cell_type": "code",
   "execution_count": null,
   "id": "861b023c-39bc-47a7-b6a9-1b3d1de59b10",
   "metadata": {
    "tags": []
   },
   "outputs": [],
   "source": [
    "comando = 'git tag'\n",
    "ejecutar_comando_git(comando)"
   ]
  },
  {
   "cell_type": "markdown",
   "id": "dc27fb1b-3409-4dfa-9a0e-140622be4a5f",
   "metadata": {},
   "source": [
    "### ELIMINAR UN TAG LOCAL"
   ]
  },
  {
   "cell_type": "code",
   "execution_count": null,
   "id": "45899fd1-ead0-477e-ab13-a73f5c43a0dd",
   "metadata": {
    "tags": []
   },
   "outputs": [],
   "source": [
    "comando = 'git tag -d {nombre_tag}'.format(nombre_tag=nombre_tag)\n",
    "ejecutar_comando_git(comando)\n",
    "\n",
    "comando = 'git tag'\n",
    "ejecutar_comando_git(comando)"
   ]
  },
  {
   "cell_type": "markdown",
   "id": "d8dd2d33-3365-4ab5-8203-4da985e4581c",
   "metadata": {
    "tags": []
   },
   "source": [
    "### CREAR MULTIPLES TAGs"
   ]
  },
  {
   "cell_type": "code",
   "execution_count": null,
   "id": "b94e2bc8-287d-49bf-af0c-b1ea05f5903e",
   "metadata": {
    "scrolled": true,
    "tags": []
   },
   "outputs": [],
   "source": [
    "lista_ramas_locales = obtener_lista_nombres_ramas_git()\n",
    "\n",
    "for indice, rama in enumerate(lista_ramas_locales):\n",
    " \n",
    "    #cambia de rama para tener el contenido especifico de esa rama en el TAG\n",
    "    comando = 'git checkout {rama}\"'.format(rama=rama)\n",
    "    ejecutar_comando_git(comando)\n",
    "    \n",
    "    # genera el nombre que tendra el TAG\n",
    "    nombre_tag = 'v0.0.{indice}_{rama}'.format(rama=rama, indice=indice)\n",
    "    comando = 'git tag {nombre_tag} -m \"version {indice} del TAG\"'.format(nombre_tag=nombre_tag, indice=indice)\n",
    "    ejecutar_comando_git(comando)\n",
    "\n",
    "comando = 'git tag'\n",
    "ejecutar_comando_git(comando)"
   ]
  },
  {
   "cell_type": "markdown",
   "id": "83bf163d-199f-49b0-a309-856ad5f5514c",
   "metadata": {},
   "source": [
    "### LISTAR LOS TAGs Y VER SU DESCRIPCION"
   ]
  },
  {
   "cell_type": "code",
   "execution_count": null,
   "id": "7d71ebff-c95b-4efb-83e3-d3c9f4c7bdf1",
   "metadata": {
    "tags": []
   },
   "outputs": [],
   "source": [
    "comando = 'git tag -n'\n",
    "ejecutar_comando_git(comando)"
   ]
  },
  {
   "cell_type": "markdown",
   "id": "75dd5833-b4c6-43cf-9b35-31ad5c42fcb9",
   "metadata": {},
   "source": [
    "### PUBLICAR UN TAG ESPECIFICO A UN REPOSITORIO REMOTO <br>https://github.com/JorgeCardona/comandos_git</br>"
   ]
  },
  {
   "cell_type": "code",
   "execution_count": null,
   "id": "92fef3aa-ffee-4f9b-bf5d-af7ec1396ddf",
   "metadata": {
    "scrolled": true,
    "tags": []
   },
   "outputs": [],
   "source": [
    "for indice, rama in enumerate([lista_ramas_locales[0]]):\n",
    "    \n",
    "    nombre_tag = 'v0.0.{indice}_{rama}'.format(rama=rama, indice=indice)\n",
    "    comando = comando = 'git push origin {nombre_tag}'.format(nombre_tag=nombre_tag)\n",
    "    ejecutar_comando_git(comando)"
   ]
  },
  {
   "cell_type": "markdown",
   "id": "394c82ec-862f-4f9c-837e-26bd1a1cb9b3",
   "metadata": {},
   "source": [
    "### LISTAR LOS TAGs REMOTOS"
   ]
  },
  {
   "cell_type": "code",
   "execution_count": null,
   "id": "2912578c-ac46-4c71-91f6-3c7f98f1d0cb",
   "metadata": {
    "tags": []
   },
   "outputs": [],
   "source": [
    "comando = 'git ls-remote --tags'\n",
    "ejecutar_comando_git(comando)"
   ]
  },
  {
   "cell_type": "markdown",
   "id": "8378e5d7-1469-4db9-b56f-2417b7720cd3",
   "metadata": {},
   "source": [
    "### PUBLICAR TODOS LOS TAGs NO PUBLICADOS EN UN SOLO PUSH AL REPOSITORIO REMOTO"
   ]
  },
  {
   "cell_type": "code",
   "execution_count": null,
   "id": "b098f775-2118-4c64-8dbe-93bba7f1cb05",
   "metadata": {
    "tags": []
   },
   "outputs": [],
   "source": [
    "comando = 'git push --tags'\n",
    "ejecutar_comando_git(comando)\n",
    "\n",
    "comando = 'git ls-remote --tags'\n",
    "ejecutar_comando_git(comando)"
   ]
  },
  {
   "cell_type": "markdown",
   "id": "5d3f4a8a-f31e-40eb-8689-7dfb7e44ca2d",
   "metadata": {},
   "source": [
    "### ELIMINAR LOS TAGs LOCALES Y REMOTOS"
   ]
  },
  {
   "cell_type": "code",
   "execution_count": null,
   "id": "bdc8d38d-f2ba-42a6-993b-1f268b5b6135",
   "metadata": {
    "scrolled": true,
    "tags": []
   },
   "outputs": [],
   "source": [
    "for indice, rama in enumerate(lista_ramas_locales):\n",
    "    \n",
    "    nombre_tag = 'v0.0.{indice}_{rama}'.format(rama=rama, indice=indice)\n",
    "\n",
    "    comando = 'git tag -d {nombre_tag}'.format(nombre_tag=nombre_tag)\n",
    "    ejecutar_comando_git(comando)\n",
    "\n",
    "    comando = 'git push --delete origin {nombre_tag}'.format(nombre_tag=nombre_tag)\n",
    "    ejecutar_comando_git(comando)\n",
    "    \n",
    "comando = 'git tag'\n",
    "ejecutar_comando_git(comando)\n",
    "\n",
    "comando = 'git ls-remote --tags'\n",
    "ejecutar_comando_git(comando)"
   ]
  },
  {
   "cell_type": "markdown",
   "id": "91b10b1c-cd4c-4443-9cd5-88d32112b21e",
   "metadata": {
    "tags": []
   },
   "source": [
    "#### ELIMINAR LA RAMA DEL REPOSITORIO LOCAL Y REMOTO\n"
   ]
  },
  {
   "cell_type": "code",
   "execution_count": null,
   "id": "378d4731-dbf9-4fac-860c-2ffd2309a846",
   "metadata": {
    "tags": []
   },
   "outputs": [],
   "source": [
    "comando = 'git checkout main'\n",
    "ejecutar_comando_git(comando)\n",
    "\n",
    "comando = 'git push origin -d {nombre_rama}'.format(nombre_rama=nombre_rama)\n",
    "ejecutar_comando_git(comando)\n",
    "\n",
    "comando = 'git branch -D {nombre_rama}'.format(nombre_rama=nombre_rama)\n",
    "ejecutar_comando_git(comando)\n",
    "\n",
    "comando = 'git branch -a'\n",
    "ejecutar_comando_git(comando)"
   ]
  }
 ],
 "metadata": {
  "kernelspec": {
   "display_name": "Python 3 (ipykernel)",
   "language": "python",
   "name": "python3"
  },
  "language_info": {
   "codemirror_mode": {
    "name": "ipython",
    "version": 3
   },
   "file_extension": ".py",
   "mimetype": "text/x-python",
   "name": "python",
   "nbconvert_exporter": "python",
   "pygments_lexer": "ipython3",
   "version": "3.10.9"
  }
 },
 "nbformat": 4,
 "nbformat_minor": 5
}
