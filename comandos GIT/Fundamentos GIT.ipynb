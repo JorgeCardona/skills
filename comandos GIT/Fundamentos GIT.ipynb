{
 "cells": [
  {
   "cell_type": "markdown",
   "id": "117af881-9520-4af5-8a58-de68fa815376",
   "metadata": {},
   "source": [
    "## <center> OBTENER LISTA CON LOS NOMBRES DE TODAS LAS RAMAS LOCALES DE UN REPOSITORIO GIT</center>"
   ]
  },
  {
   "cell_type": "code",
   "execution_count": 1,
   "id": "fe1643f8-c7f7-450d-9eea-b30471ce5f98",
   "metadata": {
    "tags": []
   },
   "outputs": [],
   "source": [
    "def obtener_lista_nombres_ramas_git():\n",
    "\n",
    "    stdout = subprocess.check_output('git branch'.split())\n",
    "    out = stdout.decode()\n",
    "    branches = [b.strip('* ') for b in out.splitlines()]\n",
    "    return branches"
   ]
  },
  {
   "cell_type": "markdown",
   "id": "fd638f42-4115-4f96-ae05-3850b1f96754",
   "metadata": {},
   "source": [
    "# <center> EJECUTAR COMANDOS SHELL DESDE FUNCION PYTHON</center>"
   ]
  },
  {
   "cell_type": "code",
   "execution_count": 2,
   "id": "9048c958-a13b-4a78-a4ea-d114c3ce03ca",
   "metadata": {
    "tags": []
   },
   "outputs": [],
   "source": [
    "import subprocess\n",
    "\n",
    "def ejecutar_comando_shell(comando='git branch', response=False):\n",
    "\n",
    "    print('############################################# COMANDO A EJECUTAR #############################################')\n",
    "    print(comando)\n",
    "    \n",
    "    try:\n",
    "        resultado_comando_ejecutado = subprocess.check_output(comando, shell=True, text=True)\n",
    "    except Exception:\n",
    "        print('&&&&&&&&&&&&&&&&&&&&&&&&&&&&&&&&&&&&& SE HA GENERADO UNA EXCEPCION &&&&&&&&&&&&&&&&&&&&&&&&&&&&&&&&&&&&&&&')\n",
    "        print('EL COMANDO {comando} NO SE PUDO EJECUTAR'.format(comando=comando))\n",
    "        print('&&&&&&&&&&&&&&&&&&&&&&&&&&&&&&&&&&&&& FINAL DE EXCEPCION GENERADA &&&&&&&&&&&&&&&&&&&&&&&&&&&&&&&&&&&&&&&&')\n",
    "    else:\n",
    "        print('####################################### RESULTADO DE COMANDO EJECUTADO #######################################')\n",
    "        #para evitar el salto de linea usa el parametro end=''\n",
    "        print(resultado_comando_ejecutado, end='')\n",
    "        print('##############################################################################################################')\n",
    "        print()\n",
    "        if response:\n",
    "            return resultado_comando_ejecutado"
   ]
  },
  {
   "cell_type": "markdown",
   "id": "ec3c743a-2536-4113-af63-fcb50b28c333",
   "metadata": {},
   "source": [
    "# <center> FUNCION LAMBDA PARA EJECUTAR COMANDOS GIT</center>"
   ]
  },
  {
   "cell_type": "code",
   "execution_count": 3,
   "id": "b6817bb4-2f33-4200-aa99-84e8c2142711",
   "metadata": {
    "tags": []
   },
   "outputs": [],
   "source": [
    "ejecutar_comando_git = lambda comando : ejecutar_comando_shell(comando)"
   ]
  },
  {
   "cell_type": "markdown",
   "id": "5135c007-43f6-4d24-8eb5-04a8c33a8bb3",
   "metadata": {},
   "source": [
    "# <center> CREAR ARCHIVOS</center>"
   ]
  },
  {
   "cell_type": "code",
   "execution_count": 4,
   "id": "503a1087-7944-4e0f-a3de-fa4853d04deb",
   "metadata": {
    "tags": []
   },
   "outputs": [],
   "source": [
    "import time\n",
    "from datetime import datetime\n",
    "\n",
    "def crear_fecha():\n",
    "    \n",
    "    import time\n",
    "    from datetime import datetime\n",
    "\n",
    "    # detiene el tiempo para que no todos los archivos generados queden con la misma fecha de timestamp\n",
    "    time.sleep(0.1)\n",
    "        \n",
    "    # Getting the current date and time\n",
    "    dt = datetime.now()\n",
    "\n",
    "    # getting the timestamp\n",
    "    ts = datetime.timestamp(dt)\n",
    "\n",
    "    return ts\n",
    "\n",
    "def copiar_archivo(nombre_del_repositorio, archivo):\n",
    "    \n",
    "    import shutil\n",
    "    source = '{source}\\{archivo}'.format(source=os.getcwd().split(nombre_del_repositorio,1)[0], archivo=archivo)\n",
    "    target = '{target}\\{archivo}'.format(target=os.getcwd(), archivo=archivo)\n",
    "    \n",
    "    shutil.copyfile(source, target)\n",
    "    \n",
    "    print(f'archivo {archivo} copiado con exito a target')\n",
    "    \n",
    "def generar_archivos(todos_los_archivos=True):\n",
    "\n",
    "    lista_de_archivos = ['info.txt','Dockerfile','Manifest.yaml','imagen.png','main.py','connection.java','calculos.c','addon.php','utils.gif','query.sql','dataset.avro','link.vs']\n",
    "    \n",
    "    lista_de_archivos = lista_de_archivos if todos_los_archivos else [lista_de_archivos[0]]\n",
    "    \n",
    "    print('lista_de_archivos = {lista_de_archivos}'.format(lista_de_archivos=lista_de_archivos))\n",
    "    \n",
    "    for archivo in lista_de_archivos:\n",
    "        comando = 'echo {crear_archivo} >> {archivo}'.format(crear_archivo=crear_fecha(), archivo=archivo)\n",
    "        ejecutar_comando_shell(comando)\n",
    "\n",
    "    return lista_de_archivos\n",
    "\n",
    "def modificar_autor_commit(autor='cienciagoku@gmail.com'):\n",
    "    comando = 'git commit --amend --no-edit --author={autor}'.format(autor=autor)\n",
    "    ejecutar_comando_git(comando)\n",
    "            \n",
    "        \n",
    "def crear_commits(total_commits=5, todos_los_archivos=False):\n",
    "    \n",
    "    import random\n",
    "    \n",
    "    for commit_numero in range(total_commits):\n",
    "        \n",
    "        numero_aleatorio = random.randint(1, 10_000_000)\n",
    "        lista_de_archivos = generar_archivos()\n",
    "        archivo_aleatorio = random.choice(lista_de_archivos)\n",
    "        commit_indice = commit_numero + 1\n",
    "\n",
    "        comando = 'git status'\n",
    "        ejecutar_comando_git(comando)\n",
    "\n",
    "        comando = 'git add .'\n",
    "        ejecutar_comando_git(comando)\n",
    "\n",
    "        comando = 'git status'\n",
    "        ejecutar_comando_git(comando)\n",
    "\n",
    "        comando = 'git commit -m \"PRUEBA de COMMIT numero {commit_indice} con fecha {fecha} y valor aleatorio {numero_aleatorio} y contiene el archivo {archivo_aleatorio}\"'.format(commit_indice=commit_indice, numero_aleatorio=numero_aleatorio, fecha=crear_fecha(), archivo_aleatorio=archivo_aleatorio)\n",
    "        ejecutar_comando_git(comando)\n",
    "        \n",
    "        if commit_numero %2 ==0:\n",
    "            modificar_autor_commit()\n",
    "\n",
    "    comando = 'git log --oneline'\n",
    "    ejecutar_comando_git(comando)\n",
    "\n",
    "    comando = 'git status'\n",
    "    ejecutar_comando_git(comando)\n",
    "    \n",
    "def cambiar_a_directorio_del_repositorio(nombre_del_repositorio):\n",
    "    #importing the os module\n",
    "    import os\n",
    "\n",
    "    #to get the current working directory\n",
    "    directory = os.getcwd()\n",
    "    print(f'directorio base = {directory}')\n",
    "          \n",
    "    os.chdir('{directory}/{repository}'.format(directory=directory, repository=nombre_del_repositorio))\n",
    "    directory = os.getcwd()\n",
    "    print(f'directorio actual del repositorio clonado = {directory}')\n",
    "\n",
    "def clonar_repositorio(repositorio_base, nombre_del_repositorio):\n",
    "\n",
    "    repositorio_base = 'https://github.com/JorgeCardona'\n",
    "    nombre_del_repositorio = 'comandos_git'\n",
    "\n",
    "    eliminar_directorio(nombre_repositorio=nombre_del_repositorio)\n",
    "\n",
    "    comando = 'git clone {repositorio_base}/{nombre_del_repositorio}.git'.format(repositorio_base=repositorio_base, nombre_del_repositorio=nombre_del_repositorio)\n",
    "    ejecutar_comando_git(comando)\n",
    "          \n",
    "    # se ubica en el directorio donde esta el repositorio clonado\n",
    "    cambiar_a_directorio_del_repositorio(nombre_del_repositorio=nombre_del_repositorio)\n",
    "\n",
    "def abrir_archivo_con_editor_de_texto(ruta_archivo):\n",
    "    comando = \"notepad.exe {ruta_archivo}\".format(ruta_archivo=ruta_archivo)\n",
    "    ejecutar_comando_shell(comando=comando)\n",
    "\n",
    "def abrir_git_config(tipo='local'):\n",
    "    comando = \"git config --{tipo} --edit\".format(tipo=tipo)\n",
    "    ejecutar_comando_shell(comando=comando)       \n",
    "    \n",
    "def configuracion_detallada_git():\n",
    "    print('MOSTRAR CONFIGURACION DETALLADA DEL .gitconfig')\n",
    "    comando = 'git config --list --show-origin'\n",
    "    ejecutar_comando_git(comando)\n",
    "\n",
    "def verificar_directorio_e_informacion_del_git_config():\n",
    "    print('MOSTRAR UBICACION DEL .gitconfig')\n",
    "    comando = 'git config --show-origin --global --list'\n",
    "    ejecutar_comando_git(comando)\n",
    "\n",
    "def verificar_git_config(tipo='local'):\n",
    "    print('VERIFICAR EL CONTENIDO DEL .gitconfig {tipo}'.format(tipo=tipo.upper()))\n",
    "    comando = 'git config --{tipo} --list'.format(tipo=tipo)\n",
    "    ejecutar_comando_git(comando)\n",
    "    \n",
    "def eliminar_alias_repetido(alias_a_aliminar, tipo='local'):\n",
    "    \n",
    "    comando = 'git config --{tipo} --unset-all alias.{alias_a_aliminar}'.format(tipo=tipo,alias_a_aliminar=alias_a_aliminar)\n",
    "    try:\n",
    "        ejecutar_comando_git(comando)\n",
    "    except Exception:\n",
    "        print('------------------------------------- INICIA EXCEPCION ENCONTRADA -------------------------------------')\n",
    "        print('EL ALIAS MULTIPLE {alias_a_aliminar} que busca eliminar, NO EXISTE EN {tipo}'.format(alias_a_aliminar=alias_a_aliminar, tipo=tipo.upper()))\n",
    "        print('------------------------------------- TERMINA EXCEPCION ENCONTRADA -------------------------------------')\n",
    "    else:\n",
    "        comando = 'git aliases'\n",
    "        ejecutar_comando_git(comando)\n",
    "\n",
    "def eliminar_alias_git(alias_a_aliminar, tipo='local'):\n",
    "    \n",
    "    # si se tienen varios alias con el mismo nombre\n",
    "    # git config --global --unset-all alias.nombre_del_alias_repetido\n",
    "\n",
    "    comando = 'git config --{tipo} --unset alias.{alias_a_aliminar}'.format(alias_a_aliminar=alias_a_aliminar, tipo=tipo)\n",
    "    try:\n",
    "        ejecutar_comando_git(comando)\n",
    "    except Exception:\n",
    "        print('------------------------------------- INICIA EXCEPCION ENCONTRADA -------------------------------------')\n",
    "        print('EL ALIAS {alias_a_aliminar} que busca eliminar, NO EXISTE EN {tipo}'.format(alias_a_aliminar=alias_a_aliminar, tipo=tipo.upper()))\n",
    "        print('------------------------------------- TERMINA EXCEPCION ENCONTRADA -------------------------------------')\n",
    "    else:\n",
    "        verificar_git_config(tipo=tipo) \n",
    "\n",
    "\n",
    "def crear_alias_y_validarlos(tipo='local'):\n",
    "    local = [\n",
    "    \"git config --local alias.colocal checkout\",\n",
    "    \"git config --local alias.brlocal branch\",\n",
    "    \"git config --local alias.rlocal restore .\",\n",
    "    \"git config --local alias.loglocal log --oneline -3\",\n",
    "    \"git config --local alias.aalocal add \"\n",
    "    ]\n",
    "    \n",
    "    globall =  [      \n",
    "    \"git config --global alias.co checkout\",\n",
    "    \"git config --global alias.br branch\",\n",
    "    \"git config --global alias.ci commit\",\n",
    "    \"git config --global alias.st status\",\n",
    "    'git config --global alias.aliases \"config --get-regexp {alias}\"'.format(alias=\"'^alias\\\\.'\")\n",
    "                  ]\n",
    "     \n",
    "    comandos_para_alias = local if tipo=='local' else globall\n",
    "                                                  \n",
    "    for comando in comandos_para_alias:\n",
    "        ejecutar_comando_shell(comando=comando)\n",
    "                                                  \n",
    "    verificar_git_config(tipo=tipo) "
   ]
  },
  {
   "cell_type": "markdown",
   "id": "d710cf53-be38-4cf0-9753-4257f5731997",
   "metadata": {},
   "source": [
    "# <center> CREAR CARPETAS Y RETORNAR EL DIRECTORIO DE ACCESO</center>"
   ]
  },
  {
   "cell_type": "code",
   "execution_count": 66,
   "id": "27419b00-fbdf-45c1-8cfe-63e7b3293ba1",
   "metadata": {
    "tags": []
   },
   "outputs": [],
   "source": [
    "def crear_carpeta(carpeta):\n",
    "    import os\n",
    "    \n",
    "    directorio =  f'./{carpeta}'\n",
    "    \n",
    "    print('directorio', directorio)\n",
    "\n",
    "    os.makedirs(f'{carpeta}', exist_ok=True)\n",
    "    \n",
    "    return directorio"
   ]
  },
  {
   "cell_type": "markdown",
   "id": "63baf6e8-15a7-4d78-9216-0071910ae33c",
   "metadata": {},
   "source": [
    "# <center> ELIMINAR ARCHIVOS</center>"
   ]
  },
  {
   "cell_type": "code",
   "execution_count": 5,
   "id": "fbedd993-b081-45e3-b492-94d841d01e9c",
   "metadata": {
    "tags": []
   },
   "outputs": [],
   "source": [
    "def listar_archivos_eliminables_en_directorio():\n",
    "    import os\n",
    "    \n",
    "    directory = os.getcwd()\n",
    "    listado_de_archivos = os.listdir(directory)\n",
    "    \n",
    "    archivos_eliminables = [archivo for archivo in listado_de_archivos if '.git' not in archivo]\n",
    "    \n",
    "    return archivos_eliminables\n",
    "    \n",
    "def eliminar_directorio(nombre_repositorio):\n",
    "    \n",
    "    import shutil\n",
    "    import os\n",
    "    import stat\n",
    "    from os import path\n",
    "    \n",
    "    for root, dirs, files in os.walk(\"./{nombre_repositorio}\".format(nombre_repositorio=nombre_repositorio)):  \n",
    "        for dir in dirs:\n",
    "            try:\n",
    "                os.chmod(path.join(root, dir), stat.S_IRWXU)\n",
    "            except:\n",
    "                print('el archivo {archivo} no existe'.format(archivo=archivo))                \n",
    "        for file in files:\n",
    "            try:\n",
    "                os.chmod(path.join(root, file), stat.S_IRWXU)\n",
    "            except:\n",
    "                print('el archivo {archivo} no existe'.format(archivo=archivo))\n",
    "    try: \n",
    "        shutil.rmtree(\"./{nombre_repositorio}\".format(nombre_repositorio=nombre_repositorio))\n",
    "    except:\n",
    "        print('el repositorio {nombre_repositorio} no existe'.format(nombre_repositorio=nombre_repositorio))\n",
    "\n",
    "def eliminar_archivo(archivo):\n",
    "    from os import remove\n",
    "    remove(archivo)\n",
    "\n",
    "def eliminar_archivos_directorio():\n",
    "    import os\n",
    "    \n",
    "    lista_de_archivos_eliminables = listar_archivos_eliminables_en_directorio()\n",
    "    \n",
    "    for archivo in lista_de_archivos_eliminables:\n",
    "            os.remove(archivo)\n",
    "        \n",
    "    return 'Eliminacion Completada con Exito!!! de {lista_de_archivos_eliminables}'.format(lista_de_archivos_eliminables=lista_de_archivos_eliminables)\n",
    "\n",
    "\n",
    "def volver_al_commit_sin_cambios(commit_id):\n",
    "    print(\"REGRESANDO AL COMMIT' {commit_id}\".format(commit_id=commit_id))\n",
    "\n",
    "    comando = 'git reset --hard {commit_id}'.format(commit_id=commit_id)\n",
    "    ejecutar_comando_git(comando)\n",
    "    \n",
    "    comando = 'git status'\n",
    "    ejecutar_comando_git(comando)\n",
    "    \n",
    "def eliminar_todos_los_archivos_hasta_el_commit(commit_id):\n",
    "    print(\"REGRESANDO AL COMMIT' {commit_id}\".format(commit_id=commit_id))\n",
    "\n",
    "    comando = 'git reset {commit_id}'.format(commit_id=commit_id)\n",
    "    ejecutar_comando_git(comando)\n",
    "\n",
    "    print('ELIMINANDO ARCHIVOS DEL STAGE')\n",
    "    # eliminar los archivos que no estan en el local repo, para evitar errores al cambiar de rama\n",
    "    comando = 'git rm --cached \"*\"'\n",
    "    ejecutar_comando_git(comando)\n",
    "\n",
    "    print('ELIMINANDO ARCHIVOS DEL WORKING DIRECTORY')\n",
    "    # elimina los archivos que estan en el working directory\n",
    "    comando = 'git clean -f'\n",
    "    ejecutar_comando_git(comando)\n",
    "\n",
    "    comando = 'git status'\n",
    "    ejecutar_comando_git(comando)\n",
    "\n",
    "    comando = 'git log --oneline'\n",
    "    ejecutar_comando_git(comando)\n",
    "\n",
    "    ejecutar_comando_shell()"
   ]
  },
  {
   "cell_type": "markdown",
   "id": "7153370f-e472-49b7-bb91-b62d5e558381",
   "metadata": {},
   "source": [
    "# <center> CREAR ARCHIVOS, COMMITS Y PUBLICAR RAMAS AL REPOSITORIO </center>"
   ]
  },
  {
   "cell_type": "code",
   "execution_count": 6,
   "id": "a3d1b1da-b198-40e7-ac0e-717336e06c87",
   "metadata": {
    "scrolled": true,
    "tags": []
   },
   "outputs": [],
   "source": [
    "def crear_o_actualizar_archivo(actualizaciones=10, archivo='info.txt', mensaje=None):\n",
    "    \n",
    "    mensaje = mensaje if mensaje else 'actualizacion'\n",
    "    for index in range(actualizaciones):\n",
    "        comando = \"echo {mensaje} {index} fecha {fecha} >> {archivo}\".format(mensaje=mensaje, index=index+1, fecha=datetime.timestamp(datetime.now()), archivo=archivo)\n",
    "        ejecutar_comando_shell(comando)\n",
    "\n",
    "def validar_si_existe_rama(nombre_rama, local=False):\n",
    "    \n",
    "    comando ='git branch -a'\n",
    "    resultado = ejecutar_comando_shell(comando, response=True)\n",
    "    \n",
    "    rama_base = '{nombre_rama}'.format(nombre_rama=nombre_rama) if local else 'origin/{nombre_rama}'.format(nombre_rama=nombre_rama)\n",
    "\n",
    "    if rama_base in resultado:\n",
    "        return True\n",
    "    return False\n",
    "\n",
    "def elimina_ramas_en_local_o_remoto_si_existen(nombre_rama, rama_local, rama_remota):\n",
    "    \n",
    "    # valida si las ramas existen en REMOTO y LOCAL\n",
    "    rama_remota_existe = validar_si_existe_rama(nombre_rama=nombre_rama)\n",
    "    rama_local_existe = validar_si_existe_rama(nombre_rama=nombre_rama, local=True)\n",
    "    \n",
    "    # verifica si existe la rama la elimina\n",
    "    if rama_remota and rama_remota_existe:\n",
    "        # elimina rama REMOTA existente\n",
    "        comando = 'git push origin -d {nombre_rama}'.format(nombre_rama=nombre_rama)\n",
    "        ejecutar_comando_git(comando)\n",
    "\n",
    "     # verifica si existe la rama la elimina\n",
    "    if rama_local and rama_local_existe:                                                                                                            \n",
    "        # elimina la rama\n",
    "        comando = 'git branch -D {nombre_rama}'.format(nombre_rama=nombre_rama)\n",
    "        ejecutar_comando_git(comando)\n",
    "        \n",
    "    # verifica las ramas actuales\n",
    "    ejecutar_comando_shell()\n",
    "    \n",
    "def crear_commit_por_cada_archivo(todos_los_archivos):\n",
    "    \n",
    "    import datetime\n",
    "\n",
    "    fecha_ahora = datetime.datetime.now()\n",
    "    \n",
    "    # crea el listado de archivos\n",
    "    lista_de_archivos = generar_archivos(todos_los_archivos=todos_los_archivos)\n",
    "    \n",
    "    # basado en el listado de archivos, adiciona uno a uno y crea un commit por cada uno\n",
    "    for indice, archivo in enumerate(lista_de_archivos):\n",
    "\n",
    "        comando = 'git add {archivo}'.format(archivo=archivo)\n",
    "        ejecutar_comando_git(comando)\n",
    "        \n",
    "        comando = 'git commit -m \"ADICIONADO ARCHIVO {archivo} {fecha_ahora}\" -m \"- El proposito es generar un registro de archivos con su fecha correspondiente, - Se adiciono el archivo {archivo} al commit, - La fecha donde se creao este commit es {fecha_ahora}\"'.format(archivo=archivo, fecha_ahora=fecha_ahora)\n",
    "        ejecutar_comando_git(comando)\n",
    "        \n",
    "        if indice %2 ==0:\n",
    "            modificar_autor_commit()\n",
    "\n",
    "    # verifica si todos los archivos estan en los commits creados\n",
    "    comando = 'git status'\n",
    "    ejecutar_comando_git(comando)\n",
    "    \n",
    "def generar_archivos_y_hacer_commit(nombre_rama, rama_local, rama_remota, todos_los_archivos):\n",
    "    \n",
    "    # elimina cambios a la rama remota si los tiene\n",
    "    comando = 'git restore .'\n",
    "    ejecutar_comando_git(comando)\n",
    "    \n",
    "    # cambiar a la rama remota, \n",
    "    comando = 'git checkout {nombre_rama_principal} --force'.format(nombre_rama_principal=nombre_rama_principal)\n",
    "    ejecutar_comando_git(comando)\n",
    "    \n",
    "    # valida si las ramas existen en REMOTO y LOCAL y las elimina\n",
    "    elimina_ramas_en_local_o_remoto_si_existen(nombre_rama=nombre_rama, rama_local=rama_local, rama_remota=rama_remota)\n",
    "    \n",
    "    if rama_local:\n",
    "        # crea la rama local\n",
    "        comando = 'git checkout -b {nombre_rama}'.format(nombre_rama=nombre_rama)\n",
    "        ejecutar_comando_shell(comando)\n",
    "    \n",
    "    # adiciona archivos de 1 en 1 y genera 1 commit por cada archivo\n",
    "    crear_commit_por_cada_archivo(todos_los_archivos=todos_los_archivos)\n",
    "\n",
    "    # mostrar el log de las ramas en forma resumida y con diagrama de uniones como grafo \n",
    "    comando = 'git log --graph --oneline'\n",
    "    ejecutar_comando_git(comando)\n",
    "\n",
    "    if rama_remota:\n",
    "        # crea la rama en remoto\n",
    "        comando = 'git push --set-upstream origin {nombre_rama}'.format(nombre_rama=nombre_rama)\n",
    "        ejecutar_comando_git(comando)\n",
    "    \n",
    "    ejecutar_comando_shell()\n",
    "\n",
    "def crear_rama_local_y_remota(nombre_rama, rama_local=True, rama_remota=True, todos_los_archivos=True):\n",
    "    generar_archivos_y_hacer_commit(nombre_rama=nombre_rama, rama_local=rama_local, rama_remota=rama_remota, todos_los_archivos=todos_los_archivos)\n",
    "    \n",
    "\n",
    "def eliminar_rama_local_y_remota(nombre_rama, rama_local=True, rama_remota=True):\n",
    "\n",
    "    comando = 'git checkout {nombre_rama_principal}'.format(nombre_rama_principal=nombre_rama_principal)\n",
    "    ejecutar_comando_git(comando)\n",
    "\n",
    "    if rama_local:\n",
    "        comando = 'git branch -D {nombre_rama}'.format(nombre_rama=nombre_rama)\n",
    "        ejecutar_comando_git(comando)\n",
    "    \n",
    "    if rama_remota:\n",
    "        comando = 'git push origin -d {nombre_rama}'.format(nombre_rama=nombre_rama)\n",
    "        ejecutar_comando_git(comando)\n",
    "\n",
    "    comando = 'git branch -a'\n",
    "    ejecutar_comando_git(comando)"
   ]
  },
  {
   "cell_type": "markdown",
   "id": "a87eda8b-2771-44b4-aab1-f2074efce611",
   "metadata": {},
   "source": [
    "# <center> REPOSITORIOS</center>\n",
    "**FISICOS** : BODEGAS, BIBLIOTECAS, **DIGITALES** : REPOSITORIOS LOCALES, REPOSITORIOS REMOTOS: **PUBLICOS Y PRIVADOS**\n",
    "\n",
    "<center>\n",
    "    <img width=\"55%\" align=\"center\" src=\"repositorios.jpg\">\n",
    "</center>"
   ]
  },
  {
   "cell_type": "markdown",
   "id": "753b49b9-b812-44e1-af63-09b4baa30986",
   "metadata": {
    "tags": []
   },
   "source": [
    "# <center> GIT</center>\n",
    "\n",
    "<center>\n",
    "    <img width=\"75%\" align=\"center\" src=\"git.png\">\n",
    "</center>"
   ]
  },
  {
   "cell_type": "markdown",
   "id": "48adba35-bb65-44ed-9a19-c1b3601a2c0c",
   "metadata": {},
   "source": [
    "# <center> CONSULTAR LA VERSION DE GIT</center>"
   ]
  },
  {
   "cell_type": "code",
   "execution_count": 7,
   "id": "0cb0a8c6-1c90-4114-a498-e26f08ece407",
   "metadata": {
    "tags": []
   },
   "outputs": [
    {
     "name": "stdout",
     "output_type": "stream",
     "text": [
      "############################################# COMANDO A EJECUTAR #############################################\n",
      "git --version\n",
      "####################################### RESULTADO DE COMANDO EJECUTADO #######################################\n",
      "git version 2.25.0.windows.1\n",
      "##############################################################################################################\n",
      "\n"
     ]
    }
   ],
   "source": [
    "comando = 'git --version'\n",
    "ejecutar_comando_git(comando)"
   ]
  },
  {
   "cell_type": "markdown",
   "id": "a85d2e45-c6a0-409d-a1b8-fe41480ea66b",
   "metadata": {},
   "source": [
    "# <center> CONFIGURACIONES DE GIT</center>"
   ]
  },
  {
   "cell_type": "code",
   "execution_count": 8,
   "id": "5ae70a07-8dae-49e5-a214-a8704949ec4c",
   "metadata": {
    "scrolled": true,
    "tags": []
   },
   "outputs": [
    {
     "name": "stdout",
     "output_type": "stream",
     "text": [
      "git config --global user.name \"usuario_git\"\n",
      "git config --global user.email \"correo@git.com\"\n",
      "git config --global user.password \"password_git\"\n",
      "git config --global credential.helper store\n",
      "MOSTRAR UBICACION DEL .gitconfig\n",
      "############################################# COMANDO A EJECUTAR #############################################\n",
      "git config --show-origin --global --list\n",
      "####################################### RESULTADO DE COMANDO EJECUTADO #######################################\n",
      "file:C:/Users/QiDimMak/.gitconfig\tcore.autocrlf=true\n",
      "file:C:/Users/QiDimMak/.gitconfig\tcore.editor=notepad\n",
      "file:C:/Users/QiDimMak/.gitconfig\tcore.quotepath=false\n",
      "file:C:/Users/QiDimMak/.gitconfig\tuser.name=jorgecardona\n",
      "file:C:/Users/QiDimMak/.gitconfig\tuser.email=jorgecardona@utp.edu.co\n",
      "file:C:/Users/QiDimMak/.gitconfig\tgui.encoding=utf-8\n",
      "file:C:/Users/QiDimMak/.gitconfig\ti18n.commit.encoding=utf-8\n",
      "file:C:/Users/QiDimMak/.gitconfig\ti18n.logoutputencoding=utf-8\n",
      "file:C:/Users/QiDimMak/.gitconfig\talias.co=checkout\n",
      "file:C:/Users/QiDimMak/.gitconfig\talias.br=branch\n",
      "file:C:/Users/QiDimMak/.gitconfig\talias.ci=commit\n",
      "file:C:/Users/QiDimMak/.gitconfig\talias.st=status\n",
      "file:C:/Users/QiDimMak/.gitconfig\talias.aliases=config --get-regexp '^alias\\.'\n",
      "##############################################################################################################\n",
      "\n",
      "VERIFICAR EL CONTENIDO DEL .gitconfig LOCAL\n",
      "############################################# COMANDO A EJECUTAR #############################################\n",
      "git config --local --list\n",
      "####################################### RESULTADO DE COMANDO EJECUTADO #######################################\n",
      "core.repositoryformatversion=0\n",
      "core.filemode=false\n",
      "core.bare=false\n",
      "core.logallrefupdates=true\n",
      "core.symlinks=false\n",
      "core.ignorecase=true\n",
      "remote.origin.url=https://github.com/JorgeCardona/skills.git\n",
      "remote.origin.fetch=+refs/heads/*:refs/remotes/origin/*\n",
      "branch.master.remote=origin\n",
      "branch.master.merge=refs/heads/master\n",
      "##############################################################################################################\n",
      "\n",
      "MOSTRAR CONFIGURACION DETALLADA DEL .gitconfig\n",
      "############################################# COMANDO A EJECUTAR #############################################\n",
      "git config --list --show-origin\n",
      "####################################### RESULTADO DE COMANDO EJECUTADO #######################################\n",
      "file:C:/Program Files/Git/etc/gitconfig\thttp.sslcainfo=C:/Program Files/Git/mingw64/ssl/certs/ca-bundle.crt\n",
      "file:C:/Program Files/Git/etc/gitconfig\thttp.sslbackend=openssl\n",
      "file:C:/Program Files/Git/etc/gitconfig\tdiff.astextplain.textconv=astextplain\n",
      "file:C:/Program Files/Git/etc/gitconfig\tfilter.lfs.clean=git-lfs clean -- %f\n",
      "file:C:/Program Files/Git/etc/gitconfig\tfilter.lfs.smudge=git-lfs smudge -- %f\n",
      "file:C:/Program Files/Git/etc/gitconfig\tfilter.lfs.process=git-lfs filter-process\n",
      "file:C:/Program Files/Git/etc/gitconfig\tfilter.lfs.required=true\n",
      "file:C:/Program Files/Git/etc/gitconfig\tcredential.helper=manager\n",
      "file:C:/Program Files/Git/etc/gitconfig\tcore.autocrlf=true\n",
      "file:C:/Program Files/Git/etc/gitconfig\tcore.fscache=true\n",
      "file:C:/Program Files/Git/etc/gitconfig\tcore.symlinks=false\n",
      "file:C:/Users/QiDimMak/.gitconfig\tcore.autocrlf=true\n",
      "file:C:/Users/QiDimMak/.gitconfig\tcore.editor=notepad\n",
      "file:C:/Users/QiDimMak/.gitconfig\tcore.quotepath=false\n",
      "file:C:/Users/QiDimMak/.gitconfig\tuser.name=jorgecardona\n",
      "file:C:/Users/QiDimMak/.gitconfig\tuser.email=jorgecardona@utp.edu.co\n",
      "file:C:/Users/QiDimMak/.gitconfig\tgui.encoding=utf-8\n",
      "file:C:/Users/QiDimMak/.gitconfig\ti18n.commit.encoding=utf-8\n",
      "file:C:/Users/QiDimMak/.gitconfig\ti18n.logoutputencoding=utf-8\n",
      "file:C:/Users/QiDimMak/.gitconfig\talias.co=checkout\n",
      "file:C:/Users/QiDimMak/.gitconfig\talias.br=branch\n",
      "file:C:/Users/QiDimMak/.gitconfig\talias.ci=commit\n",
      "file:C:/Users/QiDimMak/.gitconfig\talias.st=status\n",
      "file:C:/Users/QiDimMak/.gitconfig\talias.aliases=config --get-regexp '^alias\\.'\n",
      "file:.git/config\tcore.repositoryformatversion=0\n",
      "file:.git/config\tcore.filemode=false\n",
      "file:.git/config\tcore.bare=false\n",
      "file:.git/config\tcore.logallrefupdates=true\n",
      "file:.git/config\tcore.symlinks=false\n",
      "file:.git/config\tcore.ignorecase=true\n",
      "file:.git/config\tremote.origin.url=https://github.com/JorgeCardona/skills.git\n",
      "file:.git/config\tremote.origin.fetch=+refs/heads/*:refs/remotes/origin/*\n",
      "file:.git/config\tbranch.master.remote=origin\n",
      "file:.git/config\tbranch.master.merge=refs/heads/master\n",
      "##############################################################################################################\n",
      "\n"
     ]
    }
   ],
   "source": [
    "# configurar usuario, email y password\n",
    "print('git config --global user.name \"usuario_git\"')\n",
    "print('git config --global user.email \"correo@git.com\"')\n",
    "print('git config --global user.password \"password_git\"')\n",
    "\n",
    "# almacenar las credenciales localmente para siempre\n",
    "print('git config --global credential.helper store')\n",
    "\n",
    "# ubicacion del .gitconfig para los alias, muestra la informacion configurada\n",
    "verificar_directorio_e_informacion_del_git_config()\n",
    "\n",
    "# verificar la informacion configurada de git\n",
    "verificar_git_config()\n",
    "configuracion_detallada_git()"
   ]
  },
  {
   "cell_type": "markdown",
   "id": "d467b416-39f2-4aa3-a76d-72dc8e368d8b",
   "metadata": {},
   "source": [
    "# <center> CICLO DE VIDA DE UN REPOSITORIO GIT</center>"
   ]
  },
  {
   "cell_type": "markdown",
   "id": "5e2c5972-01d4-4cdd-9591-bbac3f8d2821",
   "metadata": {
    "tags": []
   },
   "source": [
    "<center>\n",
    "    <img width=\"100%\" align=\"center\" src=\"git_life_cycle.png\">\n",
    "</center>"
   ]
  },
  {
   "cell_type": "markdown",
   "id": "db6d29b8-32cc-4bfa-8b9d-1394cd1b00f6",
   "metadata": {},
   "source": [
    "# <center> EJEMPLO DE UN REPOSITORIO LOCAL GIT, **git init** y **.gitignore**</center>"
   ]
  },
  {
   "cell_type": "markdown",
   "id": "a6b41375-9f5f-40aa-bd1d-e32fdb6ea3b6",
   "metadata": {},
   "source": [
    "<center>\n",
    "    <img width=\"90%\" align=\"center\" src=\"git_folder.jpg\">\n",
    "</center>"
   ]
  },
  {
   "cell_type": "markdown",
   "id": "0cc75a80-bb3f-4e54-8cc6-74ebe5874338",
   "metadata": {},
   "source": [
    "# <center> FLUJO DE INFORMACION ENTRE RAMAS DE UN REPOSITORIO GIT</center>\n",
    "# <center> BRANCH STRATEGY - GIT FLOW</center>"
   ]
  },
  {
   "cell_type": "markdown",
   "id": "9f417f0b-bda3-4808-8bab-c1a40f407cfe",
   "metadata": {
    "tags": []
   },
   "source": [
    "<center>\n",
    "    <img width=\"100%\" align=\"center\" src=\"git_flow.png\">\n",
    "</center>"
   ]
  },
  {
   "cell_type": "markdown",
   "id": "b6dcc937-601b-4c18-a1d6-a97936e49967",
   "metadata": {},
   "source": [
    "# <center> CLONAR UN REPOSITORIO GIT</center>"
   ]
  },
  {
   "cell_type": "code",
   "execution_count": 9,
   "id": "31f7c4af-65f2-40a1-b252-f11f2427d13e",
   "metadata": {
    "tags": []
   },
   "outputs": [
    {
     "name": "stdout",
     "output_type": "stream",
     "text": [
      "############################################# COMANDO A EJECUTAR #############################################\n",
      "git clone https://github.com/JorgeCardona/comandos_git.git\n",
      "####################################### RESULTADO DE COMANDO EJECUTADO #######################################\n",
      "##############################################################################################################\n",
      "\n",
      "directorio base = C:\\z Github\\skills\\comandos GIT\n",
      "directorio actual del repositorio clonado = C:\\z Github\\skills\\comandos GIT\\comandos_git\n"
     ]
    }
   ],
   "source": [
    "repositorio_base = 'https://github.com/JorgeCardona'\n",
    "nombre_del_repositorio = 'comandos_git'\n",
    "\n",
    "clonar_repositorio(repositorio_base=repositorio_base, nombre_del_repositorio=nombre_del_repositorio)"
   ]
  },
  {
   "cell_type": "markdown",
   "id": "b32396ce-4259-432e-af76-250a01e964ea",
   "metadata": {},
   "source": [
    "# <center> FLUJO DE ARCHIVOS DE UN REPOSITORIO GIT</center>"
   ]
  },
  {
   "cell_type": "markdown",
   "id": "ee43df87-c1d1-4f90-b02c-ef02a17eb559",
   "metadata": {},
   "source": [
    "<center>\n",
    "    <img width=\"70%\" align=\"center\" src=\"gitflow.png\">\n",
    "</center>"
   ]
  },
  {
   "cell_type": "markdown",
   "id": "708fbbd8",
   "metadata": {},
   "source": [
    "# <center> PROTEGER RAMAS DE UN REPOSITORIO CONTRA ESCRITURA</center>\n",
    "# <center> EJEMPLO GITHUB  <br>https://github.com/JorgeCardona/comandos_git</br>  </center>"
   ]
  },
  {
   "cell_type": "markdown",
   "id": "4544b6a6-5c4f-4e04-a908-c5806ca6f23e",
   "metadata": {},
   "source": [
    "# <center> MOSTRAR INFORMACION DEL REPOSITORIO</center>"
   ]
  },
  {
   "cell_type": "code",
   "execution_count": null,
   "id": "4e3ba9e5-27bd-40b6-bf9c-996f26f8d65f",
   "metadata": {
    "tags": []
   },
   "outputs": [],
   "source": [
    "comando = 'git remote show origin'\n",
    "ejecutar_comando_git(comando)"
   ]
  },
  {
   "cell_type": "markdown",
   "id": "a3726874-d7c6-460d-b9c0-fa4cdf3ec6ed",
   "metadata": {},
   "source": [
    "# <center> LISTAR LAS RAMAS DE UN REPOSITORIO </center>"
   ]
  },
  {
   "cell_type": "markdown",
   "id": "4f24ef50-f1c6-4daf-879d-dfecf0934268",
   "metadata": {},
   "source": [
    "### LISTA TODAS LAS RAMAS LOCALES Y LA RAMA PRINCIPAL DEL REPOSITORIO"
   ]
  },
  {
   "cell_type": "code",
   "execution_count": null,
   "id": "6e2f6bcb-70a1-4151-bd65-0d3820f4cfd7",
   "metadata": {
    "tags": []
   },
   "outputs": [],
   "source": [
    "comando = 'git branch'\n",
    "ejecutar_comando_git(comando)"
   ]
  },
  {
   "cell_type": "markdown",
   "id": "3a9c0795-d684-4571-a99d-d1d6203059f1",
   "metadata": {},
   "source": [
    "### LISTA TODAS LAS RAMAS REMOTAS DEL REPOSITORIO"
   ]
  },
  {
   "cell_type": "code",
   "execution_count": null,
   "id": "acb38610-f643-4c0e-b9e8-dec9c7a3d99e",
   "metadata": {
    "tags": []
   },
   "outputs": [],
   "source": [
    "comando = 'git branch -r'\n",
    "ejecutar_comando_git(comando)"
   ]
  },
  {
   "cell_type": "markdown",
   "id": "ccc455dd-2361-4e82-be84-66d06caa3eb5",
   "metadata": {},
   "source": [
    "### LISTA TODAS LAS RAMAS LOCALES INCLUYENDO LAS RAMAS OCULTAS"
   ]
  },
  {
   "cell_type": "code",
   "execution_count": null,
   "id": "486db217-0bcd-446e-bde5-147cd9c30da6",
   "metadata": {
    "tags": []
   },
   "outputs": [],
   "source": [
    "comando = 'git branch -a'\n",
    "ejecutar_comando_git(comando)"
   ]
  },
  {
   "cell_type": "markdown",
   "id": "5fcd971b-1561-4d6b-ae04-5cd81ee1c441",
   "metadata": {},
   "source": [
    "# <center> CREAR UNA RAMA BASADA EN LA RAMA ACTUAL DE UN REPOSITORIO</center>"
   ]
  },
  {
   "cell_type": "code",
   "execution_count": null,
   "id": "ff0c31d3-bd06-4a96-834c-53d69890a4f3",
   "metadata": {
    "tags": []
   },
   "outputs": [],
   "source": [
    "nombre_rama_principal = 'main'\n",
    "nombre_rama_a_crear = 'nueva_rama'\n",
    "comando = f'git branch {nombre_rama_a_crear}'\n",
    "ejecutar_comando_git(comando)\n",
    "ejecutar_comando_shell()"
   ]
  },
  {
   "cell_type": "markdown",
   "id": "5dd7647e-4eea-4a1c-bfd5-c6fe2dc00ca7",
   "metadata": {},
   "source": [
    "# <center> CAMBIAR A OTRA RAMA DEL REPOSITORIO</center>"
   ]
  },
  {
   "cell_type": "markdown",
   "id": "71ab062d-9e2b-4cc3-8e07-b04612203db2",
   "metadata": {},
   "source": [
    "### GIT CHECKOUT"
   ]
  },
  {
   "cell_type": "code",
   "execution_count": null,
   "id": "d2c67bc1-51d3-4e66-adca-cda41a4316fa",
   "metadata": {
    "tags": []
   },
   "outputs": [],
   "source": [
    "comando = f'git checkout {nombre_rama_a_crear}'\n",
    "ejecutar_comando_git(comando)\n",
    "ejecutar_comando_shell()"
   ]
  },
  {
   "cell_type": "markdown",
   "id": "3c8ae0f4-59e1-4dbb-941c-b9964ceb3ac9",
   "metadata": {},
   "source": [
    "### GIT SWITCH"
   ]
  },
  {
   "cell_type": "code",
   "execution_count": null,
   "id": "469966d0-9fcb-4e95-a7b0-987fa5e7e406",
   "metadata": {
    "tags": []
   },
   "outputs": [],
   "source": [
    "comando = 'git switch {nombre_rama_principal}'.format(nombre_rama_principal=nombre_rama_principal)\n",
    "ejecutar_comando_git(comando)\n",
    "ejecutar_comando_shell()\n",
    "\n",
    "comando = f'git switch {nombre_rama_a_crear}'\n",
    "ejecutar_comando_git(comando)\n",
    "ejecutar_comando_shell()"
   ]
  },
  {
   "cell_type": "markdown",
   "id": "3f789466-2a82-4906-a1a8-301b7e9f1823",
   "metadata": {},
   "source": [
    "# <center> CREAR UNA RAMA BASADA EN LA ACTUAL Y CAMBIA A LA RAMA CREADA AL MISMO TIEMPO</center>"
   ]
  },
  {
   "cell_type": "markdown",
   "id": "6b2f4557-7d7c-490a-a94d-f2ddb2b79d0c",
   "metadata": {},
   "source": [
    "### GIT CHECKOUT"
   ]
  },
  {
   "cell_type": "code",
   "execution_count": null,
   "id": "accb84e5-5900-4379-97d9-4cc91f3c8480",
   "metadata": {
    "tags": []
   },
   "outputs": [],
   "source": [
    "nombre_rama_checkout = 'rama_acceso_rapido_checkout'\n",
    "comando = f'git checkout -b {nombre_rama_checkout}'\n",
    "ejecutar_comando_git(comando)\n",
    "ejecutar_comando_shell()"
   ]
  },
  {
   "cell_type": "markdown",
   "id": "fe8b79fe-38d8-4638-8f65-2071db1a855d",
   "metadata": {},
   "source": [
    "### GIT SWITCH"
   ]
  },
  {
   "cell_type": "code",
   "execution_count": null,
   "id": "8572c79d-7aeb-4eac-9d7e-d53f7f9cbd94",
   "metadata": {
    "tags": []
   },
   "outputs": [],
   "source": [
    "nombre_rama_switch = 'rama_acceso_rapido_switch'\n",
    "comando = f'git switch -c {nombre_rama_switch}'\n",
    "ejecutar_comando_git(comando)\n",
    "ejecutar_comando_shell()"
   ]
  },
  {
   "cell_type": "markdown",
   "id": "4ce22640-89a5-457a-acab-337cf47dc60a",
   "metadata": {},
   "source": [
    "# <center> CREAR NUEVA RAMA LOCAL DE UNA RAMA REMOTA</center>"
   ]
  },
  {
   "cell_type": "markdown",
   "id": "421b2e05-dd53-4e1e-a627-5b0a7fc5c925",
   "metadata": {},
   "source": [
    "### GIT CHECKOUT"
   ]
  },
  {
   "cell_type": "code",
   "execution_count": null,
   "id": "cef10060-f05f-411f-9347-d5fdf78e568c",
   "metadata": {
    "tags": []
   },
   "outputs": [],
   "source": [
    "nombre_rama_remota = 'multi_commits'\n",
    "nombre_rama_remota_copia_checkout = f'{nombre_rama_remota}_copia_checkout'\n",
    "comando = 'git checkout -b {copia_rama_remota} origin/{nombre_rama_remota}'.format(copia_rama_remota=nombre_rama_remota_copia_checkout, nombre_rama_remota=nombre_rama_remota)\n",
    "ejecutar_comando_git(comando)\n",
    "ejecutar_comando_shell()"
   ]
  },
  {
   "cell_type": "markdown",
   "id": "9cf8f091-45f8-4dc2-a3cf-84bbe5bab19e",
   "metadata": {},
   "source": [
    "### GIT SWITCH"
   ]
  },
  {
   "cell_type": "code",
   "execution_count": null,
   "id": "372952cf-4b8f-4c59-b7fb-ab2c318f9334",
   "metadata": {
    "tags": []
   },
   "outputs": [],
   "source": [
    "nombre_rama_remota_copia_switch = f'{nombre_rama_remota}_copia_switch'\n",
    "comando = 'git switch -c {copia_rama_remota} origin/{nombre_rama_remota}'.format(copia_rama_remota=nombre_rama_remota_copia_switch, nombre_rama_remota=nombre_rama_remota)\n",
    "ejecutar_comando_git(comando)\n",
    "ejecutar_comando_shell()"
   ]
  },
  {
   "cell_type": "markdown",
   "id": "04bea22a-3a54-4b3d-8260-169d7d939a6c",
   "metadata": {},
   "source": [
    "# <center> DESCARGAR RAMA REMOTA A LOCAL Y CAMBIAR A LA RAMA BAJADA AL MISMO TIEMPO</center>"
   ]
  },
  {
   "cell_type": "code",
   "execution_count": null,
   "id": "2b8741a5-f633-4445-b579-ce199444f520",
   "metadata": {
    "tags": []
   },
   "outputs": [],
   "source": [
    "comando = 'git checkout -t origin/{nombre_rama_remota}'.format(nombre_rama_remota=nombre_rama_remota)\n",
    "ejecutar_comando_git(comando)\n",
    "ejecutar_comando_shell()"
   ]
  },
  {
   "cell_type": "markdown",
   "id": "8a659043-509a-4ed5-9f8f-55896c0e68b1",
   "metadata": {},
   "source": [
    "# <center> RENOMBRAR UNA RAMA DEL REPOSITORIO</center>"
   ]
  },
  {
   "cell_type": "code",
   "execution_count": null,
   "id": "f0a3c692-e941-4491-88b3-cc8d0016f3e2",
   "metadata": {
    "tags": []
   },
   "outputs": [],
   "source": [
    "ejecutar_comando_shell()\n",
    "\n",
    "comando = 'git checkout {nombre_rama_remota_copia_checkout}'.format(nombre_rama_remota_copia_checkout=nombre_rama_remota_copia_checkout)\n",
    "ejecutar_comando_git(comando)\n",
    "\n",
    "nuevo_nombre_rama_renombrada_checkout = f'{nombre_rama_a_crear}_renombrada_checkout'\n",
    "comando = f'git branch -m {nombre_rama_a_crear} {nuevo_nombre_rama_renombrada_checkout}'\n",
    "ejecutar_comando_git(comando)\n",
    "\n",
    "# Alternativa\n",
    "nuevo_nombre_rama_acceso_rapido_renombrada_checkout = f'{nombre_rama_checkout}_renombrada_checkout'\n",
    "comando = f'git branch --move {nombre_rama_checkout} {nuevo_nombre_rama_acceso_rapido_renombrada_checkout}'\n",
    "ejecutar_comando_git(comando)\n",
    "\n",
    "ejecutar_comando_shell()"
   ]
  },
  {
   "cell_type": "markdown",
   "id": "dcb39724-92b3-4f67-952a-7941eb96ca70",
   "metadata": {},
   "source": [
    "# <center> CREAR RAMA VACIA QUE NO ESTE RELACIONADA CON NINGUN CONTENIDO DE OTRA RAMA</center>\n",
    "<center>\n",
    "    <img width=\"100%\" align=\"center\" src=\"ciclo_de_vida_archuvo_git.png\">\n",
    "</center>\n",
    "\n",
    "### UNTRACKED - ES UN FICHERO NUEVO QUE SE HA CREADO Y GIT TODAVIA NO TIENE CONSTANCIA, NO HACE PARTE DE NINGUN COMMIT ANTERIOR\n",
    "### TRACKED - UNSTAGE -> FICHERO QUE HACE PARTE DE COMMITS ANTERIORES, HA SIDO MODIFICADO PERO TODAVIA NO SE HA ENVIADO AL AREA DE STAGING\n",
    "### TRACKED - STAGE -> SE REALIZO UN CAMBIO Y SE HA ENVIADO A LA ZONA STAGING (git add archivo)\n",
    "### TRACKED - COMMITED -> UN ARCHIVO QUE SE HA HECHO COMMIT Y QUE YA ESTA EN LA ZONA EL REPOSITORIO LOCAL (git commit -m 'archivo adicionado al repo local')"
   ]
  },
  {
   "cell_type": "markdown",
   "id": "5110573e-9830-4048-a74d-bb4e3be87cbe",
   "metadata": {},
   "source": [
    "## CREA LA RAMA VACIA"
   ]
  },
  {
   "cell_type": "code",
   "execution_count": null,
   "id": "4132ece2-f30e-4310-b013-807007387318",
   "metadata": {
    "tags": []
   },
   "outputs": [],
   "source": [
    "nombre_rama = 'utils'\n",
    "comando = 'git switch --orphan {nombre_rama}'.format(nombre_rama=nombre_rama)\n",
    "ejecutar_comando_git(comando)\n",
    "\n",
    "comando = 'git branch -a'\n",
    "ejecutar_comando_git(comando)"
   ]
  },
  {
   "cell_type": "markdown",
   "id": "d9ebf3bf-6a92-4c42-9ea1-aec337b49d81",
   "metadata": {},
   "source": [
    "## CREA ARCHIVOS EN EL WORKING DIRECTORY"
   ]
  },
  {
   "cell_type": "code",
   "execution_count": null,
   "id": "3d2dd581-e019-43ea-b540-b52484fec3eb",
   "metadata": {
    "scrolled": true,
    "tags": []
   },
   "outputs": [],
   "source": [
    "generar_archivos()"
   ]
  },
  {
   "cell_type": "markdown",
   "id": "18938405-9f5e-43fe-bcee-defbe3992e98",
   "metadata": {},
   "source": [
    "## <center> VALIDAR ARCHIVOS EN EL WORKING DIRECTORY"
   ]
  },
  {
   "cell_type": "code",
   "execution_count": null,
   "id": "a5818d22-58f7-48dc-bdc4-431aa773a025",
   "metadata": {
    "tags": []
   },
   "outputs": [],
   "source": [
    "comando = 'git status'\n",
    "ejecutar_comando_git(comando)"
   ]
  },
  {
   "cell_type": "markdown",
   "id": "b4fc0dce-0bc9-4a01-a04a-6664c5fa5083",
   "metadata": {},
   "source": [
    "## <center> ADICIONA LOS ARCHIVOS AL STAGE"
   ]
  },
  {
   "cell_type": "markdown",
   "id": "e32a92fe-0a92-46da-945c-b839a65d74c8",
   "metadata": {
    "tags": []
   },
   "source": [
    "## ADICIONA UN SOLO ARCHIVO AL STAGE"
   ]
  },
  {
   "cell_type": "code",
   "execution_count": null,
   "id": "5ecbb553-070d-4c0e-ba1e-377655ab0d51",
   "metadata": {
    "tags": []
   },
   "outputs": [],
   "source": [
    "comando = 'git add info.txt'\n",
    "ejecutar_comando_git(comando)\n",
    "\n",
    "comando = 'git status'\n",
    "ejecutar_comando_git(comando)"
   ]
  },
  {
   "cell_type": "markdown",
   "id": "b982316d-c187-40f9-b892-9c0c3b3bb913",
   "metadata": {},
   "source": [
    "## ADICIONA TODOS LOS ARCHIVOS AL STAGE"
   ]
  },
  {
   "cell_type": "code",
   "execution_count": null,
   "id": "19aee2b8-f005-4294-8290-3a9e1e0b61ae",
   "metadata": {
    "tags": []
   },
   "outputs": [],
   "source": [
    "comando = 'git add .'\n",
    "ejecutar_comando_git(comando)\n",
    "\n",
    "comando = 'git status'\n",
    "ejecutar_comando_git(comando)"
   ]
  },
  {
   "cell_type": "markdown",
   "id": "a001cd8c-feb4-49ac-aa5f-4a9d6927d848",
   "metadata": {},
   "source": [
    "## <center> ELIMINA LOS ARCHIVOS DEL STAGE Y LOS RETORNA AL WORKING DIRECTORY"
   ]
  },
  {
   "cell_type": "markdown",
   "id": "67595613-6366-4d8e-b0ce-f408bcfd9886",
   "metadata": {},
   "source": [
    "## ELIMINA UNO DE LOS ARCHIVOS DEL STAGE"
   ]
  },
  {
   "cell_type": "code",
   "execution_count": null,
   "id": "e478337d-f08f-49ce-875a-3dfa722e0785",
   "metadata": {
    "scrolled": true,
    "tags": []
   },
   "outputs": [],
   "source": [
    "comando = 'git rm --cached info.txt'\n",
    "ejecutar_comando_git(comando)\n",
    "\n",
    "comando = 'git status'\n",
    "ejecutar_comando_git(comando)"
   ]
  },
  {
   "cell_type": "markdown",
   "id": "66df5c5d-37a4-49ed-9d26-096933a8788c",
   "metadata": {},
   "source": [
    "## ELIMINA TODOS DE LOS ARCHIVOS DEL STAGE"
   ]
  },
  {
   "cell_type": "code",
   "execution_count": null,
   "id": "7ec0d92f-89d5-4d03-9561-1925c22e571b",
   "metadata": {
    "scrolled": true,
    "tags": []
   },
   "outputs": [],
   "source": [
    "comando = 'git rm --cached \"*\"'\n",
    "ejecutar_comando_git(comando)\n",
    "\n",
    "comando = 'git status'\n",
    "ejecutar_comando_git(comando)"
   ]
  },
  {
   "cell_type": "markdown",
   "id": "9c5f6f24-7078-4a71-998d-c6a838b87f8f",
   "metadata": {
    "tags": []
   },
   "source": [
    "## <center>ARCHIVOS EN EL REPOSITORIO LOCAL - COMMIT - CONFIRMACION"
   ]
  },
  {
   "cell_type": "markdown",
   "id": "7718c89c-2e06-4a9f-ab18-e2c09dcd8e9a",
   "metadata": {},
   "source": [
    "## ELIMINA TODOS LOS ARCHIVOS UNTRACKED DEL WORKING DIRECTORY"
   ]
  },
  {
   "cell_type": "code",
   "execution_count": null,
   "id": "699ffe14-b407-482a-8927-2b251b6ff7b4",
   "metadata": {
    "scrolled": true,
    "tags": []
   },
   "outputs": [],
   "source": [
    "archivo = 'info.txt'\n",
    "crear_o_actualizar_archivo(actualizaciones=5, archivo=archivo)\n",
    "\n",
    "comando = 'git add {archivo}'.format(archivo=archivo)\n",
    "ejecutar_comando_git(comando)\n",
    "\n",
    "comando = 'git status'\n",
    "ejecutar_comando_git(comando)"
   ]
  },
  {
   "cell_type": "markdown",
   "id": "7ab60d39-9b85-4abb-b80a-ee3eee39b947",
   "metadata": {
    "tags": []
   },
   "source": [
    "## CREA UN COMMIT SOLO CON EL SUBJECT"
   ]
  },
  {
   "cell_type": "code",
   "execution_count": null,
   "id": "54d2152d-c9e0-47f8-9293-077bde35f092",
   "metadata": {
    "tags": []
   },
   "outputs": [],
   "source": [
    "comando = 'git commit -m \"adicionado archivo INFO.txt\"'\n",
    "ejecutar_comando_git(comando)\n",
    "\n",
    "comando = 'git log'\n",
    "ejecutar_comando_git(comando)\n",
    "\n",
    "comando = 'git status'\n",
    "ejecutar_comando_git(comando)"
   ]
  },
  {
   "cell_type": "markdown",
   "id": "60bcdebb-9645-4701-b39a-7c35caaf7df5",
   "metadata": {},
   "source": [
    "## ADICIONA ARCHIVOS Y CREA UN COMMIT CON EL SUBJECT Y EL BODY"
   ]
  },
  {
   "cell_type": "code",
   "execution_count": null,
   "id": "1c688825-c76b-451b-bceb-cedd46b25644",
   "metadata": {
    "scrolled": true,
    "tags": []
   },
   "outputs": [],
   "source": [
    "comando = 'git add connection.java Manifest.yaml'\n",
    "ejecutar_comando_git(comando)\n",
    "\n",
    "comando = 'git commit -m \"adicionados archivos connection.java y Manifest.yaml\" -m \"los archivos de este commit ayudan con la configuracion de la aplicacion....\" '\n",
    "ejecutar_comando_git(comando)\n",
    "\n",
    "comando = 'git log'\n",
    "ejecutar_comando_git(comando)\n",
    "\n",
    "comando = 'git status'\n",
    "ejecutar_comando_git(comando)"
   ]
  },
  {
   "cell_type": "markdown",
   "id": "3b8f87ce-54af-477b-b1d1-389d8cfdfd52",
   "metadata": {},
   "source": [
    "## SE PUEDE ADICIONAR UN MENSAJE DESDE UN EDITOR DE TEXTO"
   ]
  },
  {
   "cell_type": "code",
   "execution_count": null,
   "id": "cd21adc7-a870-4eb3-b5fc-26826de7ba25",
   "metadata": {
    "scrolled": true,
    "tags": []
   },
   "outputs": [],
   "source": [
    "comando = 'git add main.py'\n",
    "ejecutar_comando_git(comando)\n",
    "\n",
    "comando = 'git commit'\n",
    "ejecutar_comando_git(comando)\n",
    "\n",
    "comando = 'git log'\n",
    "ejecutar_comando_git(comando)"
   ]
  },
  {
   "cell_type": "markdown",
   "id": "3d5dff30-22c7-4c76-ae16-42ef09f65e42",
   "metadata": {},
   "source": [
    "## CAMBIAR EL MENSAJE DE UN COMMIT"
   ]
  },
  {
   "cell_type": "code",
   "execution_count": null,
   "id": "218eb889-c446-4a78-9ee5-dffa3fc2c62f",
   "metadata": {
    "scrolled": true,
    "tags": []
   },
   "outputs": [],
   "source": [
    "comando = 'git commit --amend --no-edit -m \"asunto del commit actualizado\"'\n",
    "ejecutar_comando_git(comando)\n",
    "\n",
    "comando = 'git log'\n",
    "ejecutar_comando_git(comando)"
   ]
  },
  {
   "cell_type": "markdown",
   "id": "7491dacf-b05c-4682-a89f-d4a84b098084",
   "metadata": {},
   "source": [
    "## CAMBIAR EL AUTOR DE UN COMMIT"
   ]
  },
  {
   "cell_type": "code",
   "execution_count": null,
   "id": "c2925ca4-a2e6-4822-b50c-a9d839524cbf",
   "metadata": {
    "scrolled": true,
    "tags": []
   },
   "outputs": [],
   "source": [
    "# TIENE que estar el nombre entre los usuarios que contribuyen en el repositorio\n",
    "autor = 'cienciagoku@gmail.com'\n",
    "comando = 'git commit --amend --no-edit --author={autor}'.format(autor=autor)\n",
    "ejecutar_comando_git(comando)\n",
    "\n",
    "comando = 'git log'\n",
    "ejecutar_comando_git(comando)"
   ]
  },
  {
   "cell_type": "markdown",
   "id": "c3022d61-e66e-4124-bfdf-d4fcf4bb93a9",
   "metadata": {
    "tags": []
   },
   "source": [
    "## CAMBIAR LA FECHA DE UN COMMIT"
   ]
  },
  {
   "cell_type": "code",
   "execution_count": null,
   "id": "7d85cbc7-e042-4ac1-9f7e-8620313ada6b",
   "metadata": {
    "scrolled": true,
    "tags": []
   },
   "outputs": [],
   "source": [
    "comando = 'git commit --amend --no-edit --date \"31 Jul 2000 07:31:40 UTC\"'\n",
    "ejecutar_comando_git(comando)\n",
    "\n",
    "comando = 'git log'\n",
    "ejecutar_comando_git(comando)"
   ]
  },
  {
   "cell_type": "markdown",
   "id": "db845ffe-c8c8-40e5-8833-a3045a5ddd5a",
   "metadata": {
    "tags": []
   },
   "source": [
    "#### ELIMINA TODOS LOS ARCHIVOS UNTRACKED DEL WORKING DIRECTORY"
   ]
  },
  {
   "cell_type": "code",
   "execution_count": null,
   "id": "7995d0a7-af0d-4b4a-b010-3cd9141d56bc",
   "metadata": {
    "tags": []
   },
   "outputs": [],
   "source": [
    "comando = 'git clean -f'\n",
    "ejecutar_comando_git(comando)"
   ]
  },
  {
   "cell_type": "code",
   "execution_count": null,
   "id": "12d0da8a-7806-49e0-9beb-4e4a0e8e2464",
   "metadata": {
    "tags": []
   },
   "outputs": [],
   "source": [
    "comando = 'git status'\n",
    "ejecutar_comando_git(comando)"
   ]
  },
  {
   "cell_type": "markdown",
   "id": "8814804e-fd01-486d-b92d-ec3f51a71675",
   "metadata": {},
   "source": [
    "### ACTUALIZAR UN ARCHIVO Y VALIDARLO EN LA ZONA DE MODIFIED"
   ]
  },
  {
   "cell_type": "code",
   "execution_count": null,
   "id": "5606579d-6442-4530-af53-072255d1edfe",
   "metadata": {
    "scrolled": true,
    "tags": []
   },
   "outputs": [],
   "source": [
    "crear_o_actualizar_archivo(actualizaciones=5, archivo=archivo, mensaje='PATCH')"
   ]
  },
  {
   "cell_type": "code",
   "execution_count": null,
   "id": "28e717d9-9ed9-4a49-8532-184c3180d4c7",
   "metadata": {
    "tags": []
   },
   "outputs": [],
   "source": [
    "comando = 'git status'\n",
    "ejecutar_comando_git(comando)"
   ]
  },
  {
   "cell_type": "markdown",
   "id": "617b9940-b8f0-4186-b67f-5f0d2f8f6b64",
   "metadata": {},
   "source": [
    "### LISTAR LAS DIFERENCIAS DE UN ARCHIVO EN ZONA STAGGING O ZONA COMMIT \n",
    "##### CON LOS CAMBIOS ACTUALES QUE SE ADICIONARON(+) O ELIMINARON(-) DE UN ARCHIVO MODIFICADO EN EL WORKING DIRECTORY"
   ]
  },
  {
   "cell_type": "code",
   "execution_count": null,
   "id": "401bf395-83bf-4be5-a04e-8445e88fa0bc",
   "metadata": {
    "tags": []
   },
   "outputs": [],
   "source": [
    "comando = 'git diff {archivo}'.format(archivo=archivo)\n",
    "ejecutar_comando_git(comando)"
   ]
  },
  {
   "cell_type": "markdown",
   "id": "4c19c520-f2ae-4db6-84db-ace6ea3eeef7",
   "metadata": {},
   "source": [
    "## ORDENAR CUANDO HAY MUCHAS MODIFICACIONES, QUE CAMBIOS SE VAN A ADICIONAR EN CADA COMMIT\n",
    "### ELEGIR QUE MODIFICACIONES INCLUIR BASADO EN EL NIVEL DE PARCHE DEL CODIGO SE ADICIONAN AL AREA DE STAGING - CACHE  O PREPARACION\n",
    "    y - stage this hunk\n",
    "    n - do not stage this hunk\n",
    "    s - split the current hunk into smaller hunks\n",
    "    e - manually edit the current hunk\n",
    "    q - quit; do not stage this hunk nor any of the remaining ones\n",
    "    a - stage this hunk and all later hunks in the file\n",
    "    d - do not stage this hunk nor any of the later hunks in the file\n",
    "    g - select a hunk to go to\n",
    "    / - search for a hunk matching the given regex\n",
    "    j - leave this hunk undecided, see next undecided hunk\n",
    "    J - leave this hunk undecided, see next hunk\n",
    "    k - leave this hunk undecided, see previous undecided hunk\n",
    "    K - leave this hunk undecided, see previous hunk\n",
    "    ? - print help\n",
    "    \n",
    "### SOLO PARA ARHIVOS QUE YA FUERON INCLUIDOS A COMMITS O ESTAN EN EL AREA DE PREPARACION"
   ]
  },
  {
   "cell_type": "markdown",
   "id": "2bab19c8-b3cf-4803-97f1-5394ed52c759",
   "metadata": {},
   "source": [
    "### USAR EL IDE PARA VALIDAR LOS CAMBIOS"
   ]
  },
  {
   "cell_type": "code",
   "execution_count": null,
   "id": "f5d6e513-1ebd-43c0-8e92-a25ad797080d",
   "metadata": {
    "tags": []
   },
   "outputs": [],
   "source": [
    "comando = 'git add -p {archivo}'.format(archivo=archivo)\n",
    "ejecutar_comando_git(comando)"
   ]
  },
  {
   "cell_type": "markdown",
   "id": "ba19da1d-cc4a-481f-b437-031cb10ccd03",
   "metadata": {},
   "source": [
    "#### APARECE TANTO EN ZONA DE PREPARACION (STAGED FOR COMMIT) ASI COMO EN WORKING DIRECTORY (NOT STAGED FOR COMMIT)"
   ]
  },
  {
   "cell_type": "code",
   "execution_count": null,
   "id": "d264e390-7b30-4894-af74-914955321fc9",
   "metadata": {
    "tags": []
   },
   "outputs": [],
   "source": [
    "comando = 'git status'\n",
    "ejecutar_comando_git(comando)"
   ]
  },
  {
   "cell_type": "markdown",
   "id": "53b6ab33-bbf6-4ddf-998f-e06f542cecab",
   "metadata": {},
   "source": [
    "### VALIDACION CON ARCHIVOS NUEVOS QUE NO FUERON PARTE DE COMMITS ANTERIORES O ADICION A STAGING AREA"
   ]
  },
  {
   "cell_type": "code",
   "execution_count": null,
   "id": "9dabffcb-aca7-497c-8850-adb81398ada2",
   "metadata": {
    "tags": []
   },
   "outputs": [],
   "source": [
    "archivo = 'operaciones_matematicas.py'\n",
    "copiar_archivo(nombre_del_repositorio, archivo)\n",
    "comando = 'git add -p {archivo}'.format(archivo=archivo)\n",
    "ejecutar_comando_git(comando)"
   ]
  },
  {
   "cell_type": "markdown",
   "id": "935519e0-6463-46b5-9850-d2bfa95a1ea1",
   "metadata": {},
   "source": [
    "### AGREGAR UN NUEVO ARCHIVO PARA ADICIONARLO PARTE A PARTE CON PARCHE USANDO LA ADICION CON UN EDITOR DE TEXTO"
   ]
  },
  {
   "cell_type": "code",
   "execution_count": null,
   "id": "b69790bf-920a-4af6-bc20-57b3169aedf1",
   "metadata": {
    "tags": []
   },
   "outputs": [],
   "source": [
    "comando = 'git add -N {archivo}'.format(archivo=archivo)\n",
    "ejecutar_comando_git(comando)"
   ]
  },
  {
   "cell_type": "markdown",
   "id": "c61bf543-98ed-4b6c-9875-54b84652c047",
   "metadata": {},
   "source": [
    "### LISTO PARA ADICIONAR CODIGO POR TROZOS"
   ]
  },
  {
   "cell_type": "code",
   "execution_count": null,
   "id": "ffc65f89-94b4-4d23-9387-eefb5db0fd16",
   "metadata": {
    "scrolled": true,
    "tags": []
   },
   "outputs": [],
   "source": [
    "comando = 'git add -p {archivo}'.format(archivo=archivo)\n",
    "ejecutar_comando_git(comando)"
   ]
  },
  {
   "cell_type": "markdown",
   "id": "ac0ab6b9-f26e-4bc3-ad13-090c5052650c",
   "metadata": {},
   "source": [
    "#### APARECE TANTO EN ZONA DE PREPARACION (STAGED FOR COMMIT) ASI COMO EN WORKING DIRECTORY (NOT STAGED FOR COMMIT)"
   ]
  },
  {
   "cell_type": "code",
   "execution_count": null,
   "id": "843556bb-c014-427f-879c-bb43f4d224a0",
   "metadata": {
    "tags": []
   },
   "outputs": [],
   "source": [
    "comando = 'git status'\n",
    "ejecutar_comando_git(comando)"
   ]
  },
  {
   "cell_type": "markdown",
   "id": "8c709076-7bf6-4a8a-b305-8b87dac7b80a",
   "metadata": {},
   "source": [
    "### ADICIONA LOS ARCHIVOS AL STAGE Y HACE LO ALMACENA EN EL REPOSITORIO LOCAL CON UN COMMIT"
   ]
  },
  {
   "cell_type": "code",
   "execution_count": null,
   "id": "247f7456-19c5-4291-b242-2bad2ee129a2",
   "metadata": {
    "scrolled": true,
    "tags": []
   },
   "outputs": [],
   "source": [
    "generar_archivos()\n",
    "\n",
    "comando = 'git status'\n",
    "ejecutar_comando_git(comando)\n",
    "\n",
    "comando = 'git add .'\n",
    "ejecutar_comando_git(comando)\n",
    "\n",
    "comando = 'git status'\n",
    "ejecutar_comando_git(comando)\n",
    "\n",
    "comando = f'git commit -m \"adicionados archivos de prueba {datetime.now()}\"'\n",
    "ejecutar_comando_git(comando)\n",
    "\n",
    "comando = 'git status'\n",
    "ejecutar_comando_git(comando)\n",
    "\n",
    "comando = 'git log --oneline'\n",
    "ejecutar_comando_git(comando)\n",
    "\n",
    "ejecutar_comando_shell()"
   ]
  },
  {
   "cell_type": "markdown",
   "id": "aa41333e-db96-450e-8ea8-79172fc717c3",
   "metadata": {},
   "source": [
    "### <center> DESHACER UN COMMIT LOCAL\n",
    "### ELIMINA LOS ARCHIVOS DEL LOCAL REPOSITORY Y LOS RETORNA AL STAGING AREA"
   ]
  },
  {
   "cell_type": "code",
   "execution_count": null,
   "id": "541726b3-fe3a-440b-b55f-e67a5074e32e",
   "metadata": {
    "scrolled": true,
    "tags": []
   },
   "outputs": [],
   "source": [
    "crear_commits(total_commits=5)\n",
    "ejecutar_comando_shell()"
   ]
  },
  {
   "cell_type": "markdown",
   "id": "20b71678-7805-4bf4-9b12-6f9587e5e2b3",
   "metadata": {},
   "source": [
    "### ADICIONAR EL HASH DEL COMMIT AL QUE SE QUIERE VOLVER"
   ]
  },
  {
   "cell_type": "code",
   "execution_count": null,
   "id": "268504c1-0fdc-4560-95f5-5f57d310ed5f",
   "metadata": {
    "scrolled": true,
    "tags": []
   },
   "outputs": [],
   "source": [
    "# define el commit al que se quiere regresar\n",
    "commit_id = '9dde2f6' # 9dde2f6\n",
    "\n",
    "comando = 'git reset {commit_id}'.format(commit_id=commit_id)\n",
    "ejecutar_comando_git(comando)\n",
    "\n",
    "comando = 'git status'\n",
    "ejecutar_comando_git(comando)\n",
    "\n",
    "comando = 'git log --oneline'\n",
    "ejecutar_comando_git(comando)"
   ]
  },
  {
   "cell_type": "markdown",
   "id": "c0e39a30-3a87-4d0f-83e2-65ea43829c4e",
   "metadata": {},
   "source": [
    "# ELIMINA LOS ARCHIVOS"
   ]
  },
  {
   "cell_type": "markdown",
   "id": "a68c2d78-7f10-4e75-acbb-40ff80767815",
   "metadata": {},
   "source": [
    "### LOS ELIMINA DEL STAGE"
   ]
  },
  {
   "cell_type": "code",
   "execution_count": null,
   "id": "0f8cb4dc-df17-48fe-af99-3f3d46f93f09",
   "metadata": {
    "scrolled": true,
    "tags": []
   },
   "outputs": [],
   "source": [
    "# eliminar los archivos que no estan en el local repo, para evitar errores al cambiar de rama\n",
    "comando = 'git rm --cached \"*\"'\n",
    "ejecutar_comando_git(comando)\n",
    "\n",
    "comando = 'git status'\n",
    "ejecutar_comando_git(comando)\n",
    "\n",
    "ejecutar_comando_shell()"
   ]
  },
  {
   "cell_type": "markdown",
   "id": "3ee59814-4eaf-44f1-837e-d788331cee96",
   "metadata": {},
   "source": [
    "### LOS ELIMINA DEL WORKING DIRECTORY"
   ]
  },
  {
   "cell_type": "code",
   "execution_count": null,
   "id": "7096fbbb-01df-44e8-b783-3fbabb49c410",
   "metadata": {
    "scrolled": true,
    "tags": []
   },
   "outputs": [],
   "source": [
    "# elimina los archivos que estan en el working directory\n",
    "comando = 'git clean -f'\n",
    "ejecutar_comando_git(comando)\n",
    "\n",
    "comando = 'git status'\n",
    "ejecutar_comando_git(comando)\n",
    "\n",
    "comando = 'git log --oneline'\n",
    "ejecutar_comando_git(comando)\n",
    "\n",
    "ejecutar_comando_shell()"
   ]
  },
  {
   "cell_type": "markdown",
   "id": "bc6b1c1c-4845-44fd-bcee-2aaa139ff5ff",
   "metadata": {},
   "source": [
    "# RECUPERAR UN ARCHIVO ELIMINADO, LLEVARLO AL STAGE Y LUEGO AL WORKING DIRECTORY"
   ]
  },
  {
   "cell_type": "code",
   "execution_count": null,
   "id": "8eb785a0-6502-442e-a56b-c9541567551c",
   "metadata": {
    "scrolled": true,
    "tags": []
   },
   "outputs": [],
   "source": [
    "archivo_a_recuperar = 'info.txt'\n",
    "comando = f'git restore --staged {archivo_a_recuperar}'\n",
    "ejecutar_comando_git(comando)\n",
    "\n",
    "comando = 'git status'\n",
    "ejecutar_comando_git(comando)\n",
    "\n",
    "comando = f'git restore {archivo_a_recuperar}'\n",
    "ejecutar_comando_git(comando)\n",
    "\n",
    "comando = 'git status'\n",
    "ejecutar_comando_git(comando)\n",
    "\n",
    "comando = 'git log --oneline'\n",
    "ejecutar_comando_git(comando)"
   ]
  },
  {
   "cell_type": "markdown",
   "id": "4775bfba-b6e5-44d4-9f8c-6341bb25ca6a",
   "metadata": {},
   "source": [
    "## CREA UN NUEVO COMMIT PARA USARLO LUEGO EN EL REFLOG"
   ]
  },
  {
   "cell_type": "code",
   "execution_count": null,
   "id": "0be0353f-efb4-4b31-a7f7-e821d1995c4a",
   "metadata": {
    "scrolled": true,
    "tags": []
   },
   "outputs": [],
   "source": [
    "generar_archivos(todos_los_archivos=False)\n",
    "\n",
    "comando = 'git add info.txt'\n",
    "ejecutar_comando_git(comando)\n",
    "\n",
    "comando = 'git status'\n",
    "ejecutar_comando_git(comando)\n",
    "\n",
    "comando = f'git commit -m \"adicionado archivo INFO.txt PARA USAR EN REFLOG {datetime.now()}\"'\n",
    "ejecutar_comando_git(comando)\n",
    "\n",
    "comando = 'git status'\n",
    "ejecutar_comando_git(comando)\n",
    "\n",
    "comando = 'git log'\n",
    "ejecutar_comando_git(comando)\n",
    "\n",
    "ejecutar_comando_shell()"
   ]
  },
  {
   "cell_type": "markdown",
   "id": "a8676dbb-b263-4ea3-afc5-876d2f13e609",
   "metadata": {},
   "source": [
    "# <center> ELIMINAR UNA RAMA DE UN REPOSITORIO GIT</center>"
   ]
  },
  {
   "cell_type": "markdown",
   "id": "b8be8eec-7383-422a-bd89-dce1c7ca6c43",
   "metadata": {},
   "source": [
    "## ELIMINAR LA RAMA"
   ]
  },
  {
   "cell_type": "code",
   "execution_count": null,
   "id": "e67a933a-c5ec-4840-8abc-6d8d4a77de8d",
   "metadata": {
    "scrolled": true,
    "tags": []
   },
   "outputs": [],
   "source": [
    "# no se puede eliminar una rama si se esta trabajando en ese monento en ella\n",
    "comando = 'git checkout  {nombre_rama_principal}'.format(nombre_rama_principal=nombre_rama_principal)\n",
    "ejecutar_comando_git(comando)\n",
    "\n",
    "comando = 'git branch -D {nombre_rama}'.format(nombre_rama=nombre_rama)\n",
    "ejecutar_comando_git(comando)\n",
    "\n",
    "comando = 'git branch -a'\n",
    "ejecutar_comando_git(comando)"
   ]
  },
  {
   "cell_type": "markdown",
   "id": "5b20f6cc-3eab-4217-aa11-009ccdcc8cb2",
   "metadata": {},
   "source": [
    "# <center> PROBAR PUSH A UNA RAMA PROTEGIDA CONTRA ESCRITURA REPOSITORIO GIT</center>"
   ]
  },
  {
   "cell_type": "code",
   "execution_count": null,
   "id": "9753c7e7-16a3-4342-9139-3f67d17c9a3f",
   "metadata": {
    "scrolled": true,
    "tags": []
   },
   "outputs": [],
   "source": [
    "crear_commits(total_commits=1)\n",
    "ejecutar_comando_shell()\n",
    "\n",
    "comando = 'git push origin {nombre_rama_principal}'.format(nombre_rama_principal=nombre_rama_principal)\n",
    "ejecutar_comando_git(comando)"
   ]
  },
  {
   "cell_type": "code",
   "execution_count": null,
   "id": "428cf4c0-9c27-488b-8d5e-cbd0554864ff",
   "metadata": {
    "tags": []
   },
   "outputs": [],
   "source": [
    "commit_id = '6bfbfd4'\n",
    "\n",
    "volver_al_commit_sin_cambios(commit_id=commit_id)"
   ]
  },
  {
   "cell_type": "markdown",
   "id": "4a3fabd1-29f8-4918-bdfd-3d227988fea2",
   "metadata": {},
   "source": [
    "# <center> OBTENER LA DIFERENCIA EN CONTENIDO ENTRE 2 RAMAS COMMITs DE UN REPOSITORIO</center>"
   ]
  },
  {
   "cell_type": "code",
   "execution_count": null,
   "id": "74f6794e-30f7-41b9-a138-b88fcfca5542",
   "metadata": {
    "scrolled": true,
    "tags": []
   },
   "outputs": [],
   "source": [
    "comando = 'git diff {nombre_rama_principal} {nombre_rama_remota}'.format(nombre_rama_principal=nombre_rama_principal, nombre_rama_remota=nombre_rama_remota)\n",
    "ejecutar_comando_git(comando)"
   ]
  },
  {
   "cell_type": "markdown",
   "id": "0d81a177-e2e4-43ca-8c10-dbb6d34d1bdb",
   "metadata": {},
   "source": [
    "# <center> RESTAURAR O RECUPERAR ARCHIVOS MODIFICADOS O ELIMINADOS DE UN REPOSITORIO GIT <br> SOLO MODIFICACIONES EN REPOSITORIO LOCAL, BASADO EN EL ULTIMO COMMIT <br/></center>"
   ]
  },
  {
   "cell_type": "code",
   "execution_count": null,
   "id": "2b421eb8-6750-444b-8ab2-f5cf9b0a7969",
   "metadata": {
    "scrolled": true,
    "tags": []
   },
   "outputs": [],
   "source": [
    "comando = 'git checkout {rama}'.format(rama=nombre_rama_remota_copia_checkout)\n",
    "ejecutar_comando_git(comando)\n",
    "\n",
    "generar_archivos()\n",
    "ejecutar_comando_shell()"
   ]
  },
  {
   "cell_type": "code",
   "execution_count": null,
   "id": "9b405222-61c6-426f-8edf-49d83352b5cd",
   "metadata": {
    "tags": []
   },
   "outputs": [],
   "source": [
    "eliminar_archivos_directorio()\n",
    "ejecutar_comando_shell()"
   ]
  },
  {
   "cell_type": "markdown",
   "id": "ec2b7910-181d-4ad4-a3b9-85fe48458802",
   "metadata": {},
   "source": [
    "### RESTAURAR UN ARCHIVO ESPECIFICO"
   ]
  },
  {
   "cell_type": "code",
   "execution_count": null,
   "id": "c18daf65-8f3e-428b-908a-1d2f6369052a",
   "metadata": {
    "tags": []
   },
   "outputs": [],
   "source": [
    "comando = 'git restore README.md'\n",
    "ejecutar_comando_git(comando)\n",
    "\n",
    "comando = 'git status'\n",
    "ejecutar_comando_git(comando)\n",
    "\n",
    "ejecutar_comando_shell()"
   ]
  },
  {
   "cell_type": "markdown",
   "id": "8874b7b6-3f5e-4d30-89b7-1e105bef1b3e",
   "metadata": {},
   "source": [
    "### RESTAURAR TODOS LOS ARCHIVOS AL MISMO TIEMPO"
   ]
  },
  {
   "cell_type": "code",
   "execution_count": null,
   "id": "39858306-067e-4400-84ef-5d07916e6dcf",
   "metadata": {
    "tags": []
   },
   "outputs": [],
   "source": [
    "comando = 'git restore .'\n",
    "ejecutar_comando_git(comando)\n",
    "\n",
    "comando = 'git status'\n",
    "ejecutar_comando_git(comando)\n",
    "\n",
    "ejecutar_comando_shell()"
   ]
  },
  {
   "cell_type": "markdown",
   "id": "3fac4a59-2441-43ec-8a45-8491b8d9d557",
   "metadata": {},
   "source": [
    "# <center> PUBLICAR UNA RAMA LOCAL QUE NO EXISTE EN REMOTO A UN REPOSITORIO GIT <br>https://github.com/JorgeCardona/comandos_git</br> </center>\n"
   ]
  },
  {
   "cell_type": "code",
   "execution_count": null,
   "id": "ebb1e80d-c652-4946-9c88-f50578118fd6",
   "metadata": {
    "tags": []
   },
   "outputs": [],
   "source": [
    "comando = 'git push --set-upstream origin {nombre_rama_remota_copia_checkout}'.format(nombre_rama_remota_copia_checkout=nombre_rama_remota_copia_checkout)\n",
    "ejecutar_comando_git(comando)\n",
    "\n",
    "comando = 'git branch -a'\n",
    "ejecutar_comando_git(comando)"
   ]
  },
  {
   "cell_type": "markdown",
   "id": "f940966c-8f73-4224-907b-8360e3b8f599",
   "metadata": {},
   "source": [
    "# <center> ADICIONAR ARCHIVOS NUEVOS A LA RAMA</center>"
   ]
  },
  {
   "cell_type": "code",
   "execution_count": null,
   "id": "2e71c11d-b2be-4529-9051-9f436105412d",
   "metadata": {
    "scrolled": true,
    "tags": []
   },
   "outputs": [],
   "source": [
    "generar_archivos()"
   ]
  },
  {
   "cell_type": "markdown",
   "id": "4a76c160-71f3-4614-9623-47db78fafc0d",
   "metadata": {},
   "source": [
    "# SUBIR NUEVOS ARCHIVOS A UNA RAMA DEL REPOSITORIO  <br>https://github.com/JorgeCardona/comandos_git</br> "
   ]
  },
  {
   "cell_type": "code",
   "execution_count": null,
   "id": "7ee35dc3-1d4b-4dee-8e4f-2d048d5b78e6",
   "metadata": {
    "scrolled": true,
    "tags": []
   },
   "outputs": [],
   "source": [
    "comando = 'git add .'\n",
    "ejecutar_comando_git(comando)\n",
    "\n",
    "comando = 'git commit -m \"adicionados archivos nuevos\"'\n",
    "ejecutar_comando_git(comando)\n",
    "\n",
    "comando = 'git status'\n",
    "ejecutar_comando_git(comando)\n",
    "\n",
    "ejecutar_comando_shell()"
   ]
  },
  {
   "cell_type": "code",
   "execution_count": null,
   "id": "00154781-f37b-42d5-9ce0-334b0c479d0c",
   "metadata": {
    "tags": []
   },
   "outputs": [],
   "source": [
    "# siempre origin para repositorios remotos\n",
    "comando = 'git push origin'\n",
    "ejecutar_comando_git(comando)\n",
    "\n",
    "ejecutar_comando_shell()"
   ]
  },
  {
   "cell_type": "markdown",
   "id": "52ab69e2-a9cd-4315-9f9d-c2e8808801ee",
   "metadata": {},
   "source": [
    "## ELIMINAR RAMA DE UN REPOSITORIO REMOTO <br>https://github.com/JorgeCardona/comandos_git</br> "
   ]
  },
  {
   "cell_type": "code",
   "execution_count": null,
   "id": "f8839285-d396-4d65-a3ef-c6a1aa2e76c4",
   "metadata": {
    "tags": []
   },
   "outputs": [],
   "source": [
    "comando = 'git push origin -d {nombre_rama_remota_copia_checkout}'.format(nombre_rama_remota_copia_checkout=nombre_rama_remota_copia_checkout)\n",
    "ejecutar_comando_git(comando)\n",
    "\n",
    "comando = 'git branch -a'\n",
    "ejecutar_comando_git(comando)"
   ]
  },
  {
   "cell_type": "markdown",
   "id": "f0e86df2-22b9-4a06-b9e0-8a63b2ad3507",
   "metadata": {},
   "source": [
    "### ELIMINAR RAMAS LOCALES QUE NO SE VAN A USAR MAS"
   ]
  },
  {
   "cell_type": "code",
   "execution_count": null,
   "id": "6509d510-3d28-4f75-922d-74189f634df0",
   "metadata": {
    "scrolled": true,
    "tags": []
   },
   "outputs": [],
   "source": [
    "lista_ramas_a_eliminar = [nombre_rama_remota, nombre_rama_switch, nombre_rama_remota_copia_checkout, nombre_rama_remota_copia_switch, nuevo_nombre_rama_renombrada_checkout, nuevo_nombre_rama_acceso_rapido_renombrada_checkout]\n",
    "\n",
    "comando = 'git checkout  {nombre_rama_principal}'.format(nombre_rama_principal=nombre_rama_principal)\n",
    "ejecutar_comando_git(comando)\n",
    "    \n",
    "for nombre_rama in lista_ramas_a_eliminar:\n",
    "    # elimina la rama\n",
    "    comando = 'git branch -D {nombre_rama}'.format(nombre_rama=nombre_rama)\n",
    "    ejecutar_comando_git(comando)\n",
    "    \n",
    "ejecutar_comando_shell()"
   ]
  },
  {
   "cell_type": "markdown",
   "id": "176b9538-c7ca-4f04-9101-222d2cadd98f",
   "metadata": {},
   "source": [
    "# <center> **ALIAS EN GIT**</center>"
   ]
  },
  {
   "cell_type": "markdown",
   "id": "c80082d8-b8b1-4d88-a472-e64cfea118a6",
   "metadata": {},
   "source": [
    "## EDITAR EL .gitconfig CON UN EDITOR DE TEXTO"
   ]
  },
  {
   "cell_type": "markdown",
   "id": "1454ef65-71e0-40e0-acf9-800e99c59d92",
   "metadata": {},
   "source": [
    "### LOCAL\n",
    "#### GITCONFIG DEL REPOSITORIO"
   ]
  },
  {
   "cell_type": "code",
   "execution_count": null,
   "id": "32741646-1084-4f29-a20d-57feae1d0dd6",
   "metadata": {
    "tags": []
   },
   "outputs": [],
   "source": [
    "abrir_git_config(tipo='local')"
   ]
  },
  {
   "cell_type": "markdown",
   "id": "9c9df6a6-7622-4985-af11-c1769807f0a4",
   "metadata": {},
   "source": [
    "### GLOBAL\n",
    "#### GITCONFIG DEL INSTALADOR DE LA APLICACION GIT"
   ]
  },
  {
   "cell_type": "code",
   "execution_count": null,
   "id": "714b60d7-059e-404f-b033-3224b7c5ecd3",
   "metadata": {
    "tags": []
   },
   "outputs": [],
   "source": [
    "abrir_git_config(tipo='global')"
   ]
  },
  {
   "cell_type": "markdown",
   "id": "37252a01-27a0-40c0-8b7f-dfad9c9087e7",
   "metadata": {},
   "source": [
    "# CREAR ALIAS DESDE CONSOLA"
   ]
  },
  {
   "cell_type": "markdown",
   "id": "9be1020b-a734-45a8-8d47-aec5559192ce",
   "metadata": {},
   "source": [
    "### LOCAL"
   ]
  },
  {
   "cell_type": "code",
   "execution_count": null,
   "id": "9d0dadd0-a054-435c-957c-247567739777",
   "metadata": {
    "scrolled": true,
    "tags": []
   },
   "outputs": [],
   "source": [
    "verificar_git_config(tipo='local')"
   ]
  },
  {
   "cell_type": "code",
   "execution_count": null,
   "id": "a5c6fd39-50b4-4c2f-a40a-dd3a899b026c",
   "metadata": {
    "scrolled": true,
    "tags": []
   },
   "outputs": [],
   "source": [
    "crear_alias_y_validarlos(tipo='local')\n",
    "abrir_git_config(tipo='local')"
   ]
  },
  {
   "cell_type": "markdown",
   "id": "b88dfc79-f18c-4540-afdb-61447632d17b",
   "metadata": {},
   "source": [
    "### GLOBAL"
   ]
  },
  {
   "cell_type": "code",
   "execution_count": null,
   "id": "69aae06f-018d-4237-8a77-8908ecf114f6",
   "metadata": {
    "scrolled": true,
    "tags": []
   },
   "outputs": [],
   "source": [
    "verificar_git_config(tipo='global')"
   ]
  },
  {
   "cell_type": "code",
   "execution_count": null,
   "id": "63e7cea9-00e9-4dd0-bd65-6c664823db8e",
   "metadata": {
    "scrolled": true,
    "tags": []
   },
   "outputs": [],
   "source": [
    "for numero in range(5):\n",
    "    crear_alias_y_validarlos(tipo='global')\n",
    "abrir_git_config(tipo='global')"
   ]
  },
  {
   "cell_type": "markdown",
   "id": "de00cdca-67e0-4900-8fd0-b30f5457da8c",
   "metadata": {},
   "source": [
    "## VALIDAR EL ALIAS"
   ]
  },
  {
   "cell_type": "code",
   "execution_count": null,
   "id": "470d4365-73a2-4b33-8b33-519e8def6061",
   "metadata": {
    "tags": []
   },
   "outputs": [],
   "source": [
    "# lista los alias\n",
    "comando = 'git aliases'\n",
    "ejecutar_comando_git(comando)"
   ]
  },
  {
   "cell_type": "code",
   "execution_count": null,
   "id": "d32aab43-131b-4723-890a-862aa84442ca",
   "metadata": {
    "scrolled": true,
    "tags": []
   },
   "outputs": [],
   "source": [
    "comando = 'git st'\n",
    "ejecutar_comando_git(comando)"
   ]
  },
  {
   "cell_type": "markdown",
   "id": "ea7e4834-5f0d-4ed6-a288-4f119a84b7ad",
   "metadata": {},
   "source": [
    "# ELIMINAR UN ALIAS"
   ]
  },
  {
   "cell_type": "markdown",
   "id": "72f95e7c-6bad-465b-a2df-116e8f4b6aa9",
   "metadata": {},
   "source": [
    "### LOCAL"
   ]
  },
  {
   "cell_type": "code",
   "execution_count": null,
   "id": "d9b5281e-7cd7-438d-8e25-ab412ab07b7a",
   "metadata": {
    "tags": []
   },
   "outputs": [],
   "source": [
    "alias_a_aliminar = 'st'\n",
    "eliminar_alias_git(alias_a_aliminar, tipo='local')"
   ]
  },
  {
   "cell_type": "markdown",
   "id": "ca6c6997-dc5e-42da-ae1a-8175f64183df",
   "metadata": {},
   "source": [
    "### GLOBAL"
   ]
  },
  {
   "cell_type": "code",
   "execution_count": null,
   "id": "f15d884d-c247-4aa5-9465-7e8d4c3c0bf1",
   "metadata": {
    "tags": []
   },
   "outputs": [],
   "source": [
    "alias_a_aliminar = 'st'\n",
    "eliminar_alias_git(alias_a_aliminar, tipo='global')"
   ]
  },
  {
   "cell_type": "markdown",
   "id": "924b2a33-2838-4561-8ae6-9c24f0bdf474",
   "metadata": {},
   "source": [
    "## VALIDAR EL ALIAS"
   ]
  },
  {
   "cell_type": "code",
   "execution_count": null,
   "id": "c2f1affc-345c-4f2e-9d19-01e3a07b7fb3",
   "metadata": {
    "scrolled": true,
    "tags": []
   },
   "outputs": [],
   "source": [
    "comando = 'git st'\n",
    "ejecutar_comando_git(comando)"
   ]
  },
  {
   "cell_type": "markdown",
   "id": "5f385674-4927-4188-85bf-8351b7265ad9",
   "metadata": {},
   "source": [
    "### ELIMINAR ALIAS REPETIDO"
   ]
  },
  {
   "cell_type": "code",
   "execution_count": null,
   "id": "45497134-e37e-4c71-890a-5cfaae15b5fe",
   "metadata": {
    "tags": []
   },
   "outputs": [],
   "source": [
    "# eliminamos el alias del commit\n",
    "alias_a_aliminar = 'ci'\n",
    "eliminar_alias_repetido(alias_a_aliminar, tipo='global')\n",
    "\n",
    "# lista los alias\n",
    "comando = 'git aliases'\n",
    "ejecutar_comando_git(comando)"
   ]
  },
  {
   "cell_type": "markdown",
   "id": "fb7168f9-77d1-47ae-aa01-e9976302679e",
   "metadata": {
    "tags": []
   },
   "source": [
    "### ADICIONAR COMANDOS DIRECTAMENTE AL ARHCIVO gitconfig"
   ]
  },
  {
   "cell_type": "code",
   "execution_count": null,
   "id": "415cb936-f3f7-4a6f-baae-09a1691099b2",
   "metadata": {
    "tags": []
   },
   "outputs": [],
   "source": [
    "abrir_git_config(tipo='global')\n",
    "\n",
    "# adicionar estos alias al gitconfig\n",
    "# logn = log --oneline -3\n",
    "# cm = commit -m\n",
    "\n",
    "# lista los alias\n",
    "comando = 'git aliases'\n",
    "ejecutar_comando_git(comando)"
   ]
  },
  {
   "cell_type": "markdown",
   "id": "5be034e5-6d21-41bc-9648-2f3565cd26bd",
   "metadata": {},
   "source": [
    "## VALIDAR EL ALIAS"
   ]
  },
  {
   "cell_type": "code",
   "execution_count": null,
   "id": "b27768a7-ab41-439c-b9cf-92ebab0cd5c4",
   "metadata": {
    "tags": []
   },
   "outputs": [],
   "source": [
    "comando = 'git logn'\n",
    "ejecutar_comando_git(comando)"
   ]
  },
  {
   "cell_type": "markdown",
   "id": "a92b6a44-db5f-4baa-8fe3-c8402e6175e1",
   "metadata": {},
   "source": [
    "## FETCH\n",
    "<center>\n",
    "    <img width=\"75%\" align=\"center\" src=\"fecth.gif\">\n",
    "</center>"
   ]
  },
  {
   "cell_type": "markdown",
   "id": "05fed093-0dab-4f8f-b9b7-8bc2dc1bf3de",
   "metadata": {
    "tags": []
   },
   "source": [
    "## PULL\n",
    "<center>\n",
    "    <img width=\"75%\" align=\"center\" src=\"pull.gif\">\n",
    "</center>"
   ]
  },
  {
   "cell_type": "markdown",
   "id": "708c0fc6-1c94-4bd3-b237-c336fdc408ae",
   "metadata": {},
   "source": [
    "# <center> LISTAR EL HISTORIAL DE COMMITS DE UN REPOSITORIO GIT</center>"
   ]
  },
  {
   "cell_type": "markdown",
   "id": "03c490cf-5706-4b76-aa55-b47ba6dc5771",
   "metadata": {},
   "source": [
    "### VER EL HISTORIAL COMPLETO DE LA RAMA MAIN"
   ]
  },
  {
   "cell_type": "code",
   "execution_count": null,
   "id": "6aba429a-d966-479a-858f-a09ed692d268",
   "metadata": {
    "scrolled": true,
    "tags": []
   },
   "outputs": [],
   "source": [
    "comando = 'git checkout  {nombre_rama_principal}'.format(nombre_rama_principal=nombre_rama_principal)\n",
    "ejecutar_comando_git(comando)\n",
    "\n",
    "comando = 'git log'\n",
    "ejecutar_comando_git(comando)\n",
    "\n",
    "ejecutar_comando_shell()"
   ]
  },
  {
   "cell_type": "markdown",
   "id": "e3fb7568-f0f6-41b3-adaa-e40aec8b6c74",
   "metadata": {},
   "source": [
    "### VER HISTORIAL OTRA RAMA REMOTA"
   ]
  },
  {
   "cell_type": "code",
   "execution_count": null,
   "id": "bab303fe-fe43-48c4-8267-2bd6899a92d1",
   "metadata": {
    "scrolled": true,
    "tags": []
   },
   "outputs": [],
   "source": [
    "nombre_rama = 'commit_branch'\n",
    "crear_rama_local_y_remota(nombre_rama=nombre_rama, todos_los_archivos=True)\n",
    "\n",
    "# adicionar mas commits\n",
    "crear_commits(total_commits=8)"
   ]
  },
  {
   "cell_type": "code",
   "execution_count": null,
   "id": "211d14be-1715-43f4-afa9-bc07f11c5992",
   "metadata": {
    "scrolled": true,
    "tags": []
   },
   "outputs": [],
   "source": [
    "comando = 'git log'\n",
    "ejecutar_comando_git(comando)\n",
    "\n",
    "ejecutar_comando_shell()"
   ]
  },
  {
   "cell_type": "markdown",
   "id": "b26c3022-d94b-4132-a63b-913a1522da1c",
   "metadata": {},
   "source": [
    "### VER HISTORIAL DE LOS ULTIMOS n COMMITS"
   ]
  },
  {
   "cell_type": "code",
   "execution_count": null,
   "id": "de4a869a-edc0-478a-ae34-79ea94a30018",
   "metadata": {
    "scrolled": true,
    "tags": []
   },
   "outputs": [],
   "source": [
    "comando = 'git log -3' \n",
    "ejecutar_comando_git(comando)\n",
    "\n",
    "ejecutar_comando_shell()"
   ]
  },
  {
   "cell_type": "markdown",
   "id": "934c0f46-65d5-416e-8fdc-e2f047276a04",
   "metadata": {},
   "source": [
    "### VER HISTORIAL COMMITS DEL PRIMERO AL ULTIMO"
   ]
  },
  {
   "cell_type": "code",
   "execution_count": null,
   "id": "47a01e19-3552-4f00-b573-23346830775b",
   "metadata": {
    "tags": []
   },
   "outputs": [],
   "source": [
    "comando = \"git log --reverse --oneline\"\n",
    "ejecutar_comando_git(comando)\n",
    "ejecutar_comando_shell()"
   ]
  },
  {
   "cell_type": "code",
   "execution_count": null,
   "id": "ec3d86ed-79ab-4bcc-9b7c-860e11c266fd",
   "metadata": {
    "tags": []
   },
   "outputs": [],
   "source": [
    "comando = \"git log HEAD~24..HEAD~21 --reverse --oneline\"\n",
    "ejecutar_comando_git(comando)\n",
    "ejecutar_comando_shell()"
   ]
  },
  {
   "cell_type": "markdown",
   "id": "604c0591-679b-490d-bde2-e85a560761c0",
   "metadata": {},
   "source": [
    "### MUESTRA EL HISTORIAL DE COMMITS AGRUPADOS POR AUTOR RAMA ACTUAL"
   ]
  },
  {
   "cell_type": "code",
   "execution_count": null,
   "id": "3ceb63c2-ee89-4857-8ff5-131ff83c0bf5",
   "metadata": {
    "tags": []
   },
   "outputs": [],
   "source": [
    "comando = 'git shortlog --format=\"%cn on %cd %ae committed %h %s\" origin/{nombre_rama}'.format(nombre_rama=nombre_rama)\n",
    "ejecutar_comando_git(comando)\n",
    "ejecutar_comando_shell()"
   ]
  },
  {
   "cell_type": "markdown",
   "id": "8c482b6e-9339-441b-a2f9-2fbaeeb0768e",
   "metadata": {},
   "source": [
    "### MUESTRA EL HISTORIAL DE COMMITS AGRUPADOS POR AUTOR TODAS LAS RAMAS"
   ]
  },
  {
   "cell_type": "code",
   "execution_count": null,
   "id": "4fff81f9-c147-4456-bf9c-286f91c22a03",
   "metadata": {
    "tags": []
   },
   "outputs": [],
   "source": [
    "comando = 'git shortlog --all --format=\"%cn on %cd %ae committed %h %s\"'\n",
    "ejecutar_comando_git(comando)\n",
    "ejecutar_comando_shell()"
   ]
  },
  {
   "cell_type": "markdown",
   "id": "1c037b19-3dd0-466d-b567-4ccb0efd2850",
   "metadata": {},
   "source": [
    "### MUESTRA EL HISTORIAL DE COMMITS AGRUPADOS POR AUTOR CON METADATOS Y FILTRADO EN EL TIEMPO"
   ]
  },
  {
   "cell_type": "code",
   "execution_count": null,
   "id": "f9b8a156-0573-4cd1-8847-4dc6f06141ec",
   "metadata": {
    "tags": []
   },
   "outputs": [],
   "source": [
    "comando = 'git shortlog --format=\"%s %ae\" --since=\"01-01-2023\" --until=\"31-03-2023\" origin/{nombre_rama}'.format(nombre_rama=nombre_rama)\n",
    "ejecutar_comando_git(comando)"
   ]
  },
  {
   "cell_type": "markdown",
   "id": "c77e7fac-fc4e-420f-8bca-da5c77cb628f",
   "metadata": {},
   "source": [
    "### MUESTRA EL HISTORIAL DE COMMITS CON MAS DETALLES POR AUTOR"
   ]
  },
  {
   "cell_type": "markdown",
   "id": "3363691d-ce4a-4c30-90e7-f1cc5ae02dc4",
   "metadata": {
    "tags": []
   },
   "source": [
    "### REMOTO"
   ]
  },
  {
   "cell_type": "code",
   "execution_count": null,
   "id": "21a037e3-a947-4fd8-926c-5204f3240942",
   "metadata": {
    "tags": []
   },
   "outputs": [],
   "source": [
    "comando = 'git shortlog --format=\"%cn on %cd %ae committed %h %s\" --since=\"01-01-2023\" --until=\"31-03-2023\" origin/{nombre_rama}'.format(nombre_rama=nombre_rama)\n",
    "ejecutar_comando_git(comando)"
   ]
  },
  {
   "cell_type": "markdown",
   "id": "fcae466d-2b56-4270-9656-86f7372168d9",
   "metadata": {
    "tags": []
   },
   "source": [
    "### LOCAL"
   ]
  },
  {
   "cell_type": "code",
   "execution_count": null,
   "id": "11540ed4-d51d-4e15-8789-1681a8a25e54",
   "metadata": {
    "tags": []
   },
   "outputs": [],
   "source": [
    "comando = 'git log --pretty=format:\"%cn on %cd %ae committed %h %s\"  --since=\"31-03-2023\" --until=\"31-12-2023\"'\n",
    "ejecutar_comando_git(comando)"
   ]
  },
  {
   "cell_type": "markdown",
   "id": "261c9a60-577f-4023-8254-8301cb39dc1c",
   "metadata": {},
   "source": [
    "### FILTRADO POR EMAIL"
   ]
  },
  {
   "cell_type": "code",
   "execution_count": null,
   "id": "ec08d9fa-fdd6-4d64-8c87-9fab11cb87c7",
   "metadata": {
    "tags": []
   },
   "outputs": [],
   "source": [
    "comando = 'git shortlog --author=\"jorgecardona@utp.edu.co\" --format=\"%cn on %cd %ae committed %h %s\" --since=\"01-01-2023\" --until=\"31-03-2023\" origin/{nombre_rama}'.format(nombre_rama=nombre_rama)\n",
    "ejecutar_comando_git(comando)"
   ]
  },
  {
   "cell_type": "markdown",
   "id": "1d738caf-e481-40af-9c43-15396299a5d8",
   "metadata": {},
   "source": [
    "### FILTRADO POR MENSAJE"
   ]
  },
  {
   "cell_type": "code",
   "execution_count": null,
   "id": "d91f64a7-de2a-499d-ac63-d1a729a25a19",
   "metadata": {
    "tags": []
   },
   "outputs": [],
   "source": [
    "comando = 'git shortlog --grep=\"archivo\" --format=\"%cn on %cd %ae committed %h %s\" --since=\"01-01-2023\" --until=\"31-03-2023\" origin/{nombre_rama}'.format(nombre_rama=nombre_rama)\n",
    "ejecutar_comando_git(comando)"
   ]
  },
  {
   "cell_type": "markdown",
   "id": "ab7de92b-45de-44d5-9c9f-c393e9e821ce",
   "metadata": {},
   "source": [
    "### FILTRADO POR ARCHIVO"
   ]
  },
  {
   "cell_type": "code",
   "execution_count": null,
   "id": "a52a17ff-a75d-432e-95a2-fb1075d1f5b9",
   "metadata": {
    "tags": []
   },
   "outputs": [],
   "source": [
    "comando = 'git log --oneline -- info.txt archivo.pdf Dockerfile origin/{nombre_rama}'.format(nombre_rama=nombre_rama)\n",
    "ejecutar_comando_git(comando)"
   ]
  },
  {
   "cell_type": "markdown",
   "id": "cf762281-7956-48ec-85b6-bcde43373419",
   "metadata": {},
   "source": [
    "### FILTRADO POR COMMITS NO MERGED"
   ]
  },
  {
   "cell_type": "code",
   "execution_count": null,
   "id": "2ed9bad1-82fc-4d40-aa20-de6331b6c0d4",
   "metadata": {
    "tags": []
   },
   "outputs": [],
   "source": [
    "comando = 'git log --oneline --no-merges origin/{nombre_rama}'.format(nombre_rama=nombre_rama)\n",
    "ejecutar_comando_git(comando)"
   ]
  },
  {
   "cell_type": "markdown",
   "id": "17309b57-9e0f-4b16-81db-abfe3f07d762",
   "metadata": {},
   "source": [
    "### VER HISTORIAL RESUMIDO DE UNA RAMA"
   ]
  },
  {
   "cell_type": "code",
   "execution_count": null,
   "id": "28b90f01-56d6-4474-822e-5f38e384198c",
   "metadata": {
    "tags": []
   },
   "outputs": [],
   "source": [
    "comando = 'git log --oneline'\n",
    "ejecutar_comando_git(comando)\n",
    "ejecutar_comando_shell()"
   ]
  },
  {
   "cell_type": "markdown",
   "id": "a57c7d34-4621-4be8-8f00-39ddb3be0f80",
   "metadata": {},
   "source": [
    "### VER HISTORIAL RESUMIDO DE UNA RAMA DE n COMMITS"
   ]
  },
  {
   "cell_type": "code",
   "execution_count": null,
   "id": "bf2b7b79-80c3-48ac-95fa-0d0afa8e8439",
   "metadata": {
    "tags": []
   },
   "outputs": [],
   "source": [
    "comando = 'git log --oneline -3'\n",
    "ejecutar_comando_git(comando)\n",
    "ejecutar_comando_shell()"
   ]
  },
  {
   "cell_type": "markdown",
   "id": "20ab2987-4dc0-4b32-b64e-d9ad8765899b",
   "metadata": {},
   "source": [
    "## VER HISTORIAL RESUMIDO DE UNA RAMA SIN ESTAR EN LA RAMA"
   ]
  },
  {
   "cell_type": "code",
   "execution_count": null,
   "id": "36a25ca6-500b-4f32-8596-be5124db2755",
   "metadata": {
    "tags": []
   },
   "outputs": [],
   "source": [
    "comando = 'git log --oneline {nombre_rama_principal}'.format(nombre_rama_principal = nombre_rama_principal)\n",
    "ejecutar_comando_git(comando)\n",
    "ejecutar_comando_shell()"
   ]
  },
  {
   "cell_type": "markdown",
   "id": "a49ba8d3-b16c-4c21-aa5f-cabf2a11262c",
   "metadata": {},
   "source": [
    "### VER HISTORIAL DE n COMMITS Y MOSTRAR LOS CAMBIOS ESPECIFICOS DE ESOS COMMITS"
   ]
  },
  {
   "cell_type": "code",
   "execution_count": null,
   "id": "c11ada4a-b616-4342-9f70-6404941eb817",
   "metadata": {
    "scrolled": true,
    "tags": []
   },
   "outputs": [],
   "source": [
    "comando = 'git log -2 -p'\n",
    "ejecutar_comando_git(comando)\n",
    "ejecutar_comando_shell()"
   ]
  },
  {
   "cell_type": "markdown",
   "id": "1edb9254-ecc7-4e14-9c3d-1c5bb60ee8a9",
   "metadata": {},
   "source": [
    "### VER HISTORIAL DE n COMMITS Y MOSTRAR LOS CAMBIOS ESPECIFICOS DE ESOS COMMITS USANDO **SHOW**"
   ]
  },
  {
   "cell_type": "code",
   "execution_count": null,
   "id": "73169185-d4db-4a90-b5e6-224fc9ac88fc",
   "metadata": {
    "scrolled": true,
    "tags": []
   },
   "outputs": [],
   "source": [
    "comando = 'git show -2'\n",
    "ejecutar_comando_git(comando)\n",
    "ejecutar_comando_shell()"
   ]
  },
  {
   "cell_type": "markdown",
   "id": "605cf39d-a145-47e8-aa09-50910b1c92c8",
   "metadata": {},
   "source": [
    "### MOSTRAR LOS METADATOS Y LOS CAMBIOS DE UN COMMIT ESPECIFICO"
   ]
  },
  {
   "cell_type": "code",
   "execution_count": null,
   "id": "27b3b01b-b640-457a-b142-dfd9df2a488a",
   "metadata": {
    "scrolled": true,
    "tags": []
   },
   "outputs": [],
   "source": [
    "# solo en este paso, al hacer el primer commit se crea la rama\n",
    "comando = 'git show fd01bde637f8bacb4d2a99f6ace425480be3599a'\n",
    "ejecutar_comando_git(comando)\n",
    "        \n",
    "comando = 'git status'\n",
    "ejecutar_comando_git(comando)"
   ]
  },
  {
   "cell_type": "markdown",
   "id": "6aefdda1-9272-423c-91db-7fa36d0fa9a1",
   "metadata": {},
   "source": [
    "### VER HISTORIAL RESUMIDO DE n COMMITS Y MOSTRAR LOS CAMBIOS ESPECIFICOS DE ESOS COMMITS"
   ]
  },
  {
   "cell_type": "code",
   "execution_count": null,
   "id": "cb0f0b2b-53cd-469e-8a42-581d08748748",
   "metadata": {
    "scrolled": true,
    "tags": []
   },
   "outputs": [],
   "source": [
    "comando = 'git log --oneline -2 -p'\n",
    "ejecutar_comando_git(comando)\n",
    "ejecutar_comando_shell()"
   ]
  },
  {
   "cell_type": "markdown",
   "id": "df29e830-8479-4e2c-8644-3fef5af5b17e",
   "metadata": {},
   "source": [
    "### VER HISTORIAL DE n COMMITS ANTES DE UNA FECHA ESPECIFICA"
   ]
  },
  {
   "cell_type": "code",
   "execution_count": null,
   "id": "2b07cfd9-5ea6-4002-b5cc-b246e3b9d4e3",
   "metadata": {
    "tags": []
   },
   "outputs": [],
   "source": [
    "comando = 'git log --oneline --before={2023-03-28}'\n",
    "ejecutar_comando_git(comando)\n",
    "ejecutar_comando_shell()"
   ]
  },
  {
   "cell_type": "markdown",
   "id": "e74d219e-f350-44a4-b6ad-a2feadadb3dd",
   "metadata": {},
   "source": [
    "### VER HISTORIAL DE n COMMITS DESPUES DE UNA FECHA ESPECIFICA"
   ]
  },
  {
   "cell_type": "code",
   "execution_count": null,
   "id": "7dd64c76-20c0-41da-b503-92cb0308c4aa",
   "metadata": {
    "scrolled": true,
    "tags": []
   },
   "outputs": [],
   "source": [
    "comando = 'git log --oneline --after={2023-03-27}'\n",
    "ejecutar_comando_git(comando)\n",
    "ejecutar_comando_shell()"
   ]
  },
  {
   "cell_type": "markdown",
   "id": "217687fd-57f7-45f5-920b-acd6cebd4c50",
   "metadata": {
    "tags": []
   },
   "source": [
    "### VER HISTORIAL DE QUIEN HA MANIPULADO UN ARCHIVO ESPECIFICO"
   ]
  },
  {
   "cell_type": "code",
   "execution_count": null,
   "id": "1e2b697f-01c1-43e5-953d-32892dc88372",
   "metadata": {
    "tags": []
   },
   "outputs": [],
   "source": [
    "comando = 'git blame requirements.txt'\n",
    "ejecutar_comando_git(comando)\n",
    "ejecutar_comando_shell()"
   ]
  },
  {
   "cell_type": "markdown",
   "id": "a3cec8be-f59d-4ebe-a599-cbd901f81cd0",
   "metadata": {},
   "source": [
    "### VER HISTORIAL DE n COMMITS EN UN DIAGRAMA DE GRAFO"
   ]
  },
  {
   "cell_type": "code",
   "execution_count": null,
   "id": "66aee900-f963-44c4-8c05-635119dabdee",
   "metadata": {
    "tags": []
   },
   "outputs": [],
   "source": [
    "comando = 'git log --graph --oneline'\n",
    "ejecutar_comando_git(comando)\n",
    "ejecutar_comando_shell()"
   ]
  },
  {
   "cell_type": "markdown",
   "id": "65b9e1b4-e891-4278-a47b-da05baba44e1",
   "metadata": {},
   "source": [
    "### VER HISTORIAL DE n COMMITS EN UN DIAGRAMA DE GRAFO MAS DETALLADO"
   ]
  },
  {
   "cell_type": "code",
   "execution_count": null,
   "id": "3a683d18-d8b4-426b-b9fd-e9a2b7bc664f",
   "metadata": {
    "scrolled": true,
    "tags": []
   },
   "outputs": [],
   "source": [
    "comando = 'git log --decorate --graph --oneline --all'\n",
    "ejecutar_comando_git(comando)\n",
    "ejecutar_comando_shell()"
   ]
  },
  {
   "cell_type": "markdown",
   "id": "117de75b-66c8-4187-a4e2-71e99b3d8b61",
   "metadata": {},
   "source": [
    "# <center> LISTAR ARCHIVOS DE UNA RAMA O DE UN COMMIT</center>"
   ]
  },
  {
   "cell_type": "markdown",
   "id": "0b02fb46-cee7-4cad-9130-0977d9eb102c",
   "metadata": {
    "tags": []
   },
   "source": [
    "### LISTAR TODOS LOS ARCHIVOS DE UNA RAMA"
   ]
  },
  {
   "cell_type": "code",
   "execution_count": 31,
   "id": "abaa8c16-d9a8-4bf1-ab4b-ed44bb248804",
   "metadata": {
    "tags": []
   },
   "outputs": [
    {
     "name": "stdout",
     "output_type": "stream",
     "text": [
      "############################################# COMANDO A EJECUTAR #############################################\n",
      "git ls-tree -r main\n",
      "####################################### RESULTADO DE COMANDO EJECUTADO #######################################\n",
      "100644 blob b6e47617de110dea7ca47e087ff1347cc2646eda\t.gitignore\n",
      "100644 blob f288702d2fa16d3cdf0035b15a9fcbc552cd88e7\tLICENSE\n",
      "100644 blob 8c15f8a8149b4e71592b4884c1ea7a97fa605b2e\tREADME.md\n",
      "100644 blob 8fefd45effa4056eeac8b1de724f2ab015cf79de\trequirements.txt\n",
      "##############################################################################################################\n",
      "\n"
     ]
    }
   ],
   "source": [
    "comando = 'git ls-tree -r main'\n",
    "ejecutar_comando_git(comando)"
   ]
  },
  {
   "cell_type": "markdown",
   "id": "a8637570-100f-4db5-937c-303f1d8dba27",
   "metadata": {
    "tags": []
   },
   "source": [
    "### LISTAR TODOS LOS ARCHIVOS EXISTENTES UN COMMIT"
   ]
  },
  {
   "cell_type": "code",
   "execution_count": 34,
   "id": "f67d5dec-4be7-4a5f-9249-a4c406f5ca48",
   "metadata": {
    "tags": []
   },
   "outputs": [
    {
     "name": "stdout",
     "output_type": "stream",
     "text": [
      "############################################# COMANDO A EJECUTAR #############################################\n",
      "git ls-tree -r 6bfbfd4\n",
      "####################################### RESULTADO DE COMANDO EJECUTADO #######################################\n",
      "100644 blob b6e47617de110dea7ca47e087ff1347cc2646eda\t.gitignore\n",
      "100644 blob f288702d2fa16d3cdf0035b15a9fcbc552cd88e7\tLICENSE\n",
      "##############################################################################################################\n",
      "\n"
     ]
    }
   ],
   "source": [
    "comando = 'git ls-tree -r 6bfbfd4'\n",
    "ejecutar_comando_git(comando)"
   ]
  },
  {
   "cell_type": "markdown",
   "id": "155df078-6872-42e3-a436-7632917d7b52",
   "metadata": {},
   "source": [
    "# <center> BUSCAR FRASE DENTRO DE TODOS LOS ARCHIVOS DE LA RAMA DEL REPOSITORIO</center>"
   ]
  },
  {
   "cell_type": "markdown",
   "id": "cb879e56-a3a4-437d-a1b8-cb24418bf231",
   "metadata": {},
   "source": [
    "### BUSQUEDA SENSIBLE AL CASO"
   ]
  },
  {
   "cell_type": "code",
   "execution_count": null,
   "id": "a7a6d86c-253d-4d47-b461-199354650c22",
   "metadata": {
    "scrolled": true,
    "tags": []
   },
   "outputs": [],
   "source": [
    "frase_a_buscar = '7'\n",
    "\n",
    "# la busqueda es sensible al caso\n",
    "comando = 'git grep {frase_a_buscar}'.format(frase_a_buscar=frase_a_buscar)\n",
    "ejecutar_comando_git(comando)\n",
    "\n",
    "ejecutar_comando_shell()"
   ]
  },
  {
   "cell_type": "markdown",
   "id": "3c4a0b49-2893-4710-aae6-56a9022bdc9c",
   "metadata": {},
   "source": [
    "### BUSQUEDA NO SENSIBLE AL CASO"
   ]
  },
  {
   "cell_type": "code",
   "execution_count": null,
   "id": "37475ec6-cf8a-4b59-b421-ab8e7169512f",
   "metadata": {
    "tags": []
   },
   "outputs": [],
   "source": [
    "# busca mayusculas y minusculas\n",
    "comando = 'git grep -i {frase_a_buscar}'.format(frase_a_buscar=frase_a_buscar)\n",
    "ejecutar_comando_git(comando)"
   ]
  },
  {
   "cell_type": "markdown",
   "id": "5e0f445f-4580-492f-8e43-85b3b0a6cba2",
   "metadata": {},
   "source": [
    "### BUSQUEDA POR PALABRA ESPECIFICA"
   ]
  },
  {
   "cell_type": "code",
   "execution_count": null,
   "id": "ad9055a7-c026-4f33-9694-01767117ee3c",
   "metadata": {
    "tags": []
   },
   "outputs": [],
   "source": [
    "# busca la palabra sola sin mezcla, que no sea prefijo o sufijo, los simbolos no bloquean la busqueda\n",
    "comando = 'git grep -iw {frase_a_buscar}'.format(frase_a_buscar=frase_a_buscar)\n",
    "ejecutar_comando_git(comando)"
   ]
  },
  {
   "cell_type": "markdown",
   "id": "07003e4c-9c59-4638-8e9c-9e7ba0da0afc",
   "metadata": {},
   "source": [
    "### BUSQUEDA CON INTERVALO DE LINEAS POR ENCIMA Y POR DEBAJO DEL TEXTO A BUSCAR"
   ]
  },
  {
   "cell_type": "code",
   "execution_count": null,
   "id": "b0f80eb5-310a-45df-b20e-5ac839981d6b",
   "metadata": {
    "scrolled": true,
    "tags": []
   },
   "outputs": [],
   "source": [
    "# divide el texto y muestra con C cuantas lineas detexto por debajo y por encima existe al filtrar la palabra deseada\n",
    "comando = 'git grep -i -C 2 {frase_a_buscar}'.format(frase_a_buscar=frase_a_buscar)\n",
    "ejecutar_comando_git(comando)"
   ]
  },
  {
   "cell_type": "markdown",
   "id": "da376f7d-0d00-4978-8e48-eb8aeb78a212",
   "metadata": {},
   "source": [
    "### MOSTRAR EL ARCHIVO Y EL NUMERO DE LA LINEA DONDE ESTA EL TEXTO BUSCADO"
   ]
  },
  {
   "cell_type": "code",
   "execution_count": null,
   "id": "a9936806-0069-421b-a638-a55497c4df8d",
   "metadata": {
    "tags": []
   },
   "outputs": [],
   "source": [
    "comando = 'git grep -i -n {frase_a_buscar}'.format(frase_a_buscar=frase_a_buscar)\n",
    "ejecutar_comando_git(comando)"
   ]
  },
  {
   "cell_type": "markdown",
   "id": "8c5128e0-82c4-4ca6-9626-f729a5e68231",
   "metadata": {
    "tags": []
   },
   "source": [
    "## ELIMINAR LA RAMA EN EL REPOSITORIO DE ORIGEN O REMOTO"
   ]
  },
  {
   "cell_type": "code",
   "execution_count": null,
   "id": "799fc2a0-37c7-4fa6-b315-d1e0533c682a",
   "metadata": {
    "scrolled": true,
    "tags": []
   },
   "outputs": [],
   "source": [
    "eliminar_rama_local_y_remota(nombre_rama=nombre_rama)"
   ]
  },
  {
   "cell_type": "markdown",
   "id": "c35db3d6-6403-4e68-966b-af50f54f40cf",
   "metadata": {},
   "source": [
    "# <center> MODIFICAR EL MENSAJE DEL ULTIMO COMMIT</center>"
   ]
  },
  {
   "cell_type": "code",
   "execution_count": null,
   "id": "bcea54f7-358f-4e5c-afa0-e5ee5c237900",
   "metadata": {
    "scrolled": true,
    "tags": []
   },
   "outputs": [],
   "source": [
    "nombre_rama = 'amend_branch'\n",
    "crear_rama_local_y_remota(nombre_rama=nombre_rama, todos_los_archivos=False)"
   ]
  },
  {
   "cell_type": "markdown",
   "id": "04a2bd03-dc9d-4573-b7a0-0e7185687dc5",
   "metadata": {},
   "source": [
    "# EN LA CONSOLA DE VSCODE\n",
    "# git commit --amend\n",
    "\n",
    "## SE ABRE AUTOMATICAMENTE EL EDITOR DE TEXTO, reemplazar el emnsaje del commit anterior por el que se quiere y cerrar el archivo\n",
    "## validar en local con git log, no afecta la hora del commit original con la fecha del mensaje actualizado\n",
    "## subir los cambios al repositorio¶\n",
    "# git push --force origin amend_branch"
   ]
  },
  {
   "cell_type": "code",
   "execution_count": null,
   "id": "62fd5b2d-c35e-452c-8929-fbbd9314f90f",
   "metadata": {
    "scrolled": true,
    "tags": []
   },
   "outputs": [],
   "source": [
    "comando = 'git log --oneline'\n",
    "ejecutar_comando_git(comando)"
   ]
  },
  {
   "cell_type": "markdown",
   "id": "85f441a3-5119-4832-93eb-44604777da3e",
   "metadata": {
    "tags": []
   },
   "source": [
    "#### ELIMINAR LA RAMA EN EL REPOSITORIO REMOTO Y LOCAL"
   ]
  },
  {
   "cell_type": "code",
   "execution_count": null,
   "id": "743a5af2-8952-4143-961a-b7bf4b9e31a2",
   "metadata": {
    "scrolled": true,
    "tags": []
   },
   "outputs": [],
   "source": [
    "eliminar_rama_local_y_remota(nombre_rama=nombre_rama)"
   ]
  },
  {
   "cell_type": "markdown",
   "id": "3f4b9314-b71f-4f83-b10f-2a2e8b201580",
   "metadata": {},
   "source": [
    "# <center> REGRESAR A UNA VERSION ANTERIOR DE UN REPOSITORIO GIT</center>"
   ]
  },
  {
   "cell_type": "markdown",
   "id": "259eea42-f14d-446b-b01d-ad0aeffcb3d7",
   "metadata": {},
   "source": [
    "### DETACHED - MOVERSE A UN COMMIT ESPECIFICO Y PONER ESTE COMMIT CON LA NUEVA HEAD"
   ]
  },
  {
   "cell_type": "code",
   "execution_count": null,
   "id": "554290ba-8a54-44ad-9314-825f031a9396",
   "metadata": {
    "scrolled": true,
    "tags": []
   },
   "outputs": [],
   "source": [
    "comando = 'git checkout {nombre_rama_principal}'.format(nombre_rama_principal=nombre_rama_principal)\n",
    "ejecutar_comando_git(comando)\n",
    "\n",
    "comando = 'git checkout 6bfbfd4a81082e9312caf0a94ba88d975f9db1e9'\n",
    "ejecutar_comando_git(comando)\n",
    "\n",
    "comando = 'git log --oneline'\n",
    "ejecutar_comando_git(comando)\n",
    "\n",
    "ejecutar_comando_shell()"
   ]
  },
  {
   "cell_type": "markdown",
   "id": "d5838e4b-70fd-4f79-aa4a-4317fb7379ce",
   "metadata": {},
   "source": [
    "### RETORNA AL HEAD ORIGINAL DE LA RAMA"
   ]
  },
  {
   "cell_type": "code",
   "execution_count": null,
   "id": "697ab643-0f90-4ff3-94e6-f1abc58cd7de",
   "metadata": {
    "scrolled": true,
    "tags": []
   },
   "outputs": [],
   "source": [
    "comando = 'git switch -'\n",
    "ejecutar_comando_git(comando)\n",
    "\n",
    "comando = 'git log --oneline'\n",
    "ejecutar_comando_git(comando)\n",
    "\n",
    "ejecutar_comando_shell()"
   ]
  },
  {
   "cell_type": "markdown",
   "id": "ba29758c-fa6f-49cc-8fd6-c07523b4f339",
   "metadata": {},
   "source": [
    "# <center> RESET COMMITs DE UN REPOSITORIO <br> ELIMINA LOS COMMITS Y AHORA EL NUEVO HEAD ES EL COMMIT A DONDE SE QUIERE IR</br></center>"
   ]
  },
  {
   "cell_type": "code",
   "execution_count": null,
   "id": "fb700ec4-bd71-4094-b7e6-6161977c15ac",
   "metadata": {
    "scrolled": true,
    "tags": []
   },
   "outputs": [],
   "source": [
    "nombre_rama = 'reset_branch'\n",
    "crear_rama_local_y_remota(nombre_rama=nombre_rama, todos_los_archivos=True)"
   ]
  },
  {
   "cell_type": "markdown",
   "id": "0baa7ec9-a901-4715-a606-c6aff785f194",
   "metadata": {},
   "source": [
    "### SOFT RESET n COMMITs **HEAD~n** MANTENIENDO LOS CAMBIOS QUE SE HABIAN HECHO EN LOS ARCHIVOS LOCALES\n",
    "<center>\n",
    "    <img width=\"75%\" align=\"center\" src=\"reset_soft.gif\">\n",
    "</center>\n",
    "<br>\n",
    "<center>\n",
    "    <img width=\"75%\" align=\"center\" src=\"reflog_reset.gif\">\n",
    "</center>"
   ]
  },
  {
   "cell_type": "code",
   "execution_count": null,
   "id": "2b158698-7edd-42db-b76c-197f546c16fd",
   "metadata": {
    "scrolled": true,
    "tags": []
   },
   "outputs": [],
   "source": [
    "# MANITIENE todos los archivos o cambios hechos despues de este commit Y PUEDEN SER GUARDADOS DE NUEVO\n",
    "comando = 'git reset --soft HEAD~3'\n",
    "ejecutar_comando_git(comando)\n",
    "\n",
    "comando = 'git log --oneline'\n",
    "ejecutar_comando_git(comando)"
   ]
  },
  {
   "cell_type": "markdown",
   "id": "f165436b-e609-45ad-9715-339e1d78935a",
   "metadata": {},
   "source": [
    "### HARD RESET n COMMITs **HEAD~n** ELIMINANDO LOS ARCHIVOS Y CAMBIOS QUE SE HABIAN HECHO HASTA ESTE COMMIT\n",
    "<center>\n",
    "    <img width=\"75%\" align=\"center\" src=\"reset_hard.gif\">\n",
    "</center>"
   ]
  },
  {
   "cell_type": "markdown",
   "id": "2e81cfbe-636a-422d-8c20-ddde10caec8d",
   "metadata": {},
   "source": [
    "### RESET COMMITs HASTA n COMMITS ANTERIORES"
   ]
  },
  {
   "cell_type": "code",
   "execution_count": null,
   "id": "5aae132c-6054-46e4-900c-db9a494dffd5",
   "metadata": {
    "scrolled": true,
    "tags": []
   },
   "outputs": [],
   "source": [
    "# elimina todos los archivos o cambios hechos despues de este commit YA NO SE PUEDEN RECUPERAR ESOS ARCHIVOS\n",
    "comando = 'git reset --hard HEAD~7'\n",
    "ejecutar_comando_git(comando)\n",
    "\n",
    "comando = 'git log --oneline'\n",
    "ejecutar_comando_git(comando)"
   ]
  },
  {
   "cell_type": "markdown",
   "id": "e1fae349-008e-429c-bc31-0812d917bc1d",
   "metadata": {},
   "source": [
    "### RESET COMMITs ELIMINANDO LOS ARCHIVOS Y CAMBIOS HASTA UN COMMIT ESPECIFICO USANDO EL ID DEL COMMIT"
   ]
  },
  {
   "cell_type": "code",
   "execution_count": null,
   "id": "840915cb-d988-4531-b718-c9db65e2c18e",
   "metadata": {
    "tags": []
   },
   "outputs": [],
   "source": [
    "comando = 'git reset --hard ae943f2' # configuraion general y de ambiente\n",
    "ejecutar_comando_git(comando)\n",
    "\n",
    "\n",
    "comando = 'git log --oneline'\n",
    "ejecutar_comando_git(comando)"
   ]
  },
  {
   "cell_type": "markdown",
   "id": "b3dd8cdf-657f-49c9-887b-6d0ddb2f06db",
   "metadata": {},
   "source": [
    "## RESET HASTA UN COMMIT ESPECIFICO EN UN REPOSITORIO REMOTO <br>https://github.com/JorgeCardona/comandos_git</br>"
   ]
  },
  {
   "cell_type": "code",
   "execution_count": null,
   "id": "58e70ab3-644f-4a9c-8a4d-24094690d843",
   "metadata": {
    "tags": []
   },
   "outputs": [],
   "source": [
    "comando = 'git reset --hard 474faa1' # adicionado archivo pdf\n",
    "ejecutar_comando_git(comando)"
   ]
  },
  {
   "cell_type": "markdown",
   "id": "ecfff94e-20ee-46bb-8a1d-97bd8e5f76ad",
   "metadata": {},
   "source": [
    "#### CONFIRMAR LOS CAMBIOS DEL RESET EN EL REPOSITORIO DE ORIGEN O REMOTO"
   ]
  },
  {
   "cell_type": "code",
   "execution_count": null,
   "id": "85a7f262-e036-4ea1-ba5b-7daf6de7c221",
   "metadata": {
    "scrolled": true,
    "tags": []
   },
   "outputs": [],
   "source": [
    "# confirmar los cambios al repositorio remoto el reset\n",
    "comando = 'git push --force origin {nombre_rama}'.format(nombre_rama=nombre_rama)\n",
    "ejecutar_comando_git(comando)"
   ]
  },
  {
   "cell_type": "markdown",
   "id": "6f134986-cf69-4c0c-adce-8d6f6de1a275",
   "metadata": {
    "tags": []
   },
   "source": [
    "#### ELIMINAR LA RAMA EN EL REPOSITORIO DE ORIGEN O REMOTO"
   ]
  },
  {
   "cell_type": "code",
   "execution_count": null,
   "id": "6bc84035-b76b-40d1-b6f4-87175b5c0fee",
   "metadata": {
    "scrolled": true,
    "tags": []
   },
   "outputs": [],
   "source": [
    "eliminar_rama_local_y_remota(nombre_rama=nombre_rama)"
   ]
  },
  {
   "cell_type": "markdown",
   "id": "da360e27-ccbd-473b-b6b0-3904eaf90ceb",
   "metadata": {},
   "source": [
    "# <center> REVERTIR COMMITs DE UN REPOSITORIO <br> CREA UN NUEVO COMMIT MANTENIENDO LOS COMMITS ANTERIORES</br></center>\n",
    "<center>\n",
    "    <img width=\"75%\" align=\"center\" src=\"revert.gif\">\n",
    "</center>"
   ]
  },
  {
   "cell_type": "code",
   "execution_count": null,
   "id": "9f51021e-0467-45cb-848b-d6349adc47ae",
   "metadata": {
    "scrolled": true,
    "tags": []
   },
   "outputs": [],
   "source": [
    "nombre_rama = 'revert_branch'\n",
    "crear_rama_local_y_remota(nombre_rama=nombre_rama, todos_los_archivos=True)"
   ]
  },
  {
   "cell_type": "markdown",
   "id": "14dcee2e-b81b-46b1-be2d-11141fddccb3",
   "metadata": {},
   "source": [
    "## REVERT HASTA UN COMMIT ESPECIFICO O UN HEAD~ EN UN REPOSITORIO REMOTO <br>https://github.com/JorgeCardona/comandos_git</br>"
   ]
  },
  {
   "cell_type": "code",
   "execution_count": null,
   "id": "023475c8-814d-4f36-b64c-a64beca95906",
   "metadata": {
    "scrolled": true,
    "tags": []
   },
   "outputs": [],
   "source": [
    "# elimina todos los archivos o cambios hechos despues de este commit YA NO SE PUEDEN RECUPERAR ESOS ARCHIVOS\n",
    "comando = 'git revert HEAD~24'\n",
    "ejecutar_comando_git(comando)\n",
    "\n",
    "comando = 'git log --oneline'\n",
    "ejecutar_comando_git(comando)"
   ]
  },
  {
   "cell_type": "markdown",
   "id": "baf2e62d-6d6c-4db1-9e55-ed83ca32cc74",
   "metadata": {},
   "source": [
    "#### CONFIRMAR LOS CAMBIOS DEL REVERT EN EL REPOSITORIO REMOTO"
   ]
  },
  {
   "cell_type": "code",
   "execution_count": null,
   "id": "3d734989-5626-45c6-9628-b07f688f8a28",
   "metadata": {
    "tags": []
   },
   "outputs": [],
   "source": [
    "# confirmar al repositorio remoto el reset\n",
    "comando = 'git push --force origin {nombre_rama}'.format(nombre_rama=nombre_rama)\n",
    "ejecutar_comando_git(comando)"
   ]
  },
  {
   "cell_type": "markdown",
   "id": "9deccc0f-c689-4cd8-8b90-3b5d23be0495",
   "metadata": {
    "tags": []
   },
   "source": [
    "#### ELIMINAR LA RAMA EN EL REPOSITORIO DE ORIGEN O REMOTO"
   ]
  },
  {
   "cell_type": "code",
   "execution_count": null,
   "id": "28d44037-179f-4cd0-9db2-74378ba43261",
   "metadata": {
    "scrolled": true,
    "tags": []
   },
   "outputs": [],
   "source": [
    "eliminar_rama_local_y_remota(nombre_rama=nombre_rama)"
   ]
  },
  {
   "cell_type": "markdown",
   "id": "9b027290-7227-420b-83d9-df5d70ec5f30",
   "metadata": {
    "tags": []
   },
   "source": [
    "# <center> REBASE *JUNTAR VARIOS COMMITS EN UNO SOLO, CAMBIAR EL ORDEN DE LOS COMMITS <br>REESCRIBIENDO EL HISTORIAL Y LOS MENSAJES DE MULTIPLES* COMMITs DE UN REPOSITORIO</br> <br>https://github.com/JorgeCardona/comandos_git</br></center>\n",
    "<center>\n",
    "    <img width=\"75%\" align=\"center\" src=\"rebase.gif\">\n",
    "</center>"
   ]
  },
  {
   "cell_type": "code",
   "execution_count": null,
   "id": "cc27876f-4967-4f76-b861-405e533c651a",
   "metadata": {
    "scrolled": true,
    "tags": []
   },
   "outputs": [],
   "source": [
    "nombre_rama = 'rebase_branch'\n",
    "crear_rama_local_y_remota(nombre_rama=nombre_rama, todos_los_archivos=True)"
   ]
  },
  {
   "cell_type": "code",
   "execution_count": null,
   "id": "09ffeed2-1619-4471-8168-b2d931e01fd3",
   "metadata": {
    "scrolled": true,
    "tags": []
   },
   "outputs": [],
   "source": [
    "comando = 'git log'\n",
    "ejecutar_comando_git(comando)"
   ]
  },
  {
   "cell_type": "markdown",
   "id": "9f41a9a0-fc04-47f4-80ff-8e615a806360",
   "metadata": {},
   "source": [
    "# EN LA CONSOLA, TERMINAL O UN IDE DE DESARROLLO <br>https://github.com/JorgeCardona/comandos_git</br>\n",
    "\n",
    "<center>\n",
    "    <img width=\"75%\" align=\"center\" src=\"rebase_interactivo.gif\">\n",
    "</center>\n",
    "<br>\n",
    "<center>\n",
    "    <img width=\"75%\" align=\"center\" src=\"rebase_tipos.png\">\n",
    "</center>\n",
    "<br>\n",
    "<center>\n",
    "    <img width=\"75%\" align=\"center\" src=\"rebase_squash.gif\">\n",
    "</center>"
   ]
  },
  {
   "cell_type": "markdown",
   "id": "89cbab06-c933-44a8-bceb-c3a80735123e",
   "metadata": {},
   "source": [
    "### n COMMITS ATRAS\n",
    "# git rebase -i HEAD~9\n",
    "\n",
    "### UN COMMIT ESPECIFICO\n",
    "# git rebase -i d15fad27cb8d1bcb6a0e697ef02e2d787dc51b48\n",
    "\n",
    "\n",
    "##### SE ABRE AUTOMATICAMENTE EL EDITOR DE TEXTO, reemplazar la palabra **pick** por **squash** GUARDAR y CERRAR\n",
    "### DEJAR EL PRIMERO COMO PICK YA QUE SINO, NO EXISTEN COMMITS PARA HACER, GENERA ERROR.\n",
    "##### SE ABRE AUTOMATICAMENTE EL EDITOR DE TEXTO, reemplazar los comentarios por el comentario que se quiere\n",
    "## subir los cambios al repositorio\n",
    "# git push --force origin rebase_branch"
   ]
  },
  {
   "cell_type": "markdown",
   "id": "d6d6ce5d-6292-4989-a382-8b4c4223b1d8",
   "metadata": {
    "tags": []
   },
   "source": [
    "#### ELIMINAR LA RAMA DEL REPOSITORIO LOCAL Y REMOTO"
   ]
  },
  {
   "cell_type": "code",
   "execution_count": null,
   "id": "dea080a3-5eaf-4c8f-abeb-3ff0ae69f750",
   "metadata": {
    "scrolled": true,
    "tags": []
   },
   "outputs": [],
   "source": [
    "eliminar_rama_local_y_remota(nombre_rama=nombre_rama)"
   ]
  },
  {
   "cell_type": "markdown",
   "id": "98749f3f-04c9-4f07-bede-6fe4d3c04982",
   "metadata": {},
   "source": [
    "# <center> MERGE RAMAS DE UN REPOSITORIO <br>https://github.com/JorgeCardona/comandos_git</br></center>\n",
    "\n",
    "<center>\n",
    "    <img width=\"75%\" align=\"center\" src=\"merge.gif\">\n",
    "</center>"
   ]
  },
  {
   "cell_type": "code",
   "execution_count": null,
   "id": "b3a24f21-1be6-4aba-ae1f-8d33393e968b",
   "metadata": {
    "scrolled": true,
    "tags": []
   },
   "outputs": [],
   "source": [
    "nombre_ramas = ['branch_uno','branch_dos']\n",
    "\n",
    "for nombre_rama in nombre_ramas:\n",
    "    crear_rama_local_y_remota(nombre_rama=nombre_rama, todos_los_archivos=False)"
   ]
  },
  {
   "cell_type": "markdown",
   "id": "57b93962-ad12-4c53-ae6a-a6496c3bcc61",
   "metadata": {},
   "source": [
    "# <center> UNIR DOS RAMAS LOCALES </center>\n",
    "\n",
    "<center>\n",
    "    <img width=\"75%\" align=\"center\" src=\"merge_conflictos.gif\">\n",
    "</center>"
   ]
  },
  {
   "cell_type": "markdown",
   "id": "baf1888f-cc65-47a1-8091-4c234363db68",
   "metadata": {},
   "source": [
    "# EN LA CONSOLA, TERMINAL O UN IDE DE DESARROLLO\n",
    "# git merge branch_dos branch_uno"
   ]
  },
  {
   "cell_type": "markdown",
   "id": "a7674952-0aa9-43bd-98e6-c57aac0ac644",
   "metadata": {},
   "source": [
    "# Accept Current Change | Accept Incoming Change | Accept Both Changes | Compare Change\n",
    "# <<<<<<< HEAD\n",
    "# 1679198052.206751 (Current Change)\n",
    "# =======\n",
    "# 1679198046.401986 \n",
    "# >>>>>>> branch_uno (Incoming Change)"
   ]
  },
  {
   "cell_type": "markdown",
   "id": "bee82566-8bdd-4dca-a5cd-2ae8b49f7941",
   "metadata": {},
   "source": [
    "# <center> UNIR CAMBIOS DE LA RAMA REMOTA A LA RAMA LOCAL </center> "
   ]
  },
  {
   "cell_type": "markdown",
   "id": "850814d1-94b7-43e7-8463-eba49e776121",
   "metadata": {},
   "source": [
    "# EN LA CONSOLA DE VSCODE O UN IDE DE DESARROLLO\n",
    "<center>\n",
    "    <img width=\"75%\" align=\"center\" src=\"pull.gif\">\n",
    "</center>\n",
    "\n",
    "# git switch branch_uno\n",
    "# git pull origin branch_dos"
   ]
  },
  {
   "cell_type": "markdown",
   "id": "e7030020-fa35-4665-bc8e-6b273a16e278",
   "metadata": {},
   "source": [
    "# <center> UNIR CAMBIOS DE LA RAMA LOCAL A LA RAMA REMOTA </center> "
   ]
  },
  {
   "cell_type": "markdown",
   "id": "d16cc908-7a0a-4b54-a2f3-6e9ae91feca7",
   "metadata": {},
   "source": [
    "# EN LA CONSOLA DE VSCODE O UN IDE DE DESARROLLO\n",
    "### hacer un git commit y despues un git pull\n",
    "\n",
    "# Accept Current Change | Accept Incoming Change | Accept Both Changes | Compare Change\n",
    "# <<<<<<< HEAD\n",
    "# 1679198052.206751 (Current Change)\n",
    "# =======\n",
    "# 1679198046.401986 \n",
    "# >>>>>>> branch_uno (Incoming Change)"
   ]
  },
  {
   "cell_type": "markdown",
   "id": "b727c10e-f9c4-438a-8fdf-0734a4ee86ac",
   "metadata": {},
   "source": [
    "# <center> VER HISTORIAL DE n COMMITS EN UN DIAGRAMA DE GRAFO</center>"
   ]
  },
  {
   "cell_type": "code",
   "execution_count": null,
   "id": "faba3aec-b457-4beb-a478-d48f4faa488d",
   "metadata": {
    "tags": []
   },
   "outputs": [],
   "source": [
    "comando = 'git log --graph --oneline'\n",
    "ejecutar_comando_git(comando)\n",
    "ejecutar_comando_shell()"
   ]
  },
  {
   "cell_type": "markdown",
   "id": "471237ac-4d88-44e5-8092-594beef0610e",
   "metadata": {},
   "source": [
    "## VER HISTORIAL DE n COMMITS EN UN DIAGRAMA DE GRAFO MAS DETALLADO"
   ]
  },
  {
   "cell_type": "code",
   "execution_count": null,
   "id": "c50ea762-5f3c-48a0-9c1f-a7bd9b9ce6ac",
   "metadata": {
    "tags": []
   },
   "outputs": [],
   "source": [
    "comando = 'git log --decorate --graph --oneline --all'\n",
    "ejecutar_comando_git(comando)\n",
    "ejecutar_comando_shell()"
   ]
  },
  {
   "cell_type": "markdown",
   "id": "b005edd6-9e5b-4123-bd4b-a3fa834f3750",
   "metadata": {
    "tags": []
   },
   "source": [
    "### VER HISTORIAL DE QUIEN HA MANIPULADO UN ARCHIVO ESPECIFICO"
   ]
  },
  {
   "cell_type": "code",
   "execution_count": null,
   "id": "1dd5141a-fea7-4058-93f6-b3e048d8c724",
   "metadata": {
    "tags": []
   },
   "outputs": [],
   "source": [
    "comando = 'git blame info.txt'\n",
    "ejecutar_comando_git(comando)\n",
    "ejecutar_comando_shell()"
   ]
  },
  {
   "cell_type": "markdown",
   "id": "d40915df-19c0-491b-8153-0f02b42d1b36",
   "metadata": {
    "tags": []
   },
   "source": [
    "#### ELIMINAR LAS RAMAS EN EL REPOSITORIO DE ORIGEN O REMOTO"
   ]
  },
  {
   "cell_type": "code",
   "execution_count": null,
   "id": "9ff94caf-5123-4bac-9ed0-a603de6453e5",
   "metadata": {
    "scrolled": true,
    "tags": []
   },
   "outputs": [],
   "source": [
    "comando = 'git checkout {nombre_rama_principal}'.format(nombre_rama_principal=nombre_rama_principal)\n",
    "ejecutar_comando_git(comando)\n",
    "\n",
    "for nombre_rama in nombre_ramas:\n",
    "    \n",
    "    eliminar_rama_local_y_remota(nombre_rama=nombre_rama)"
   ]
  },
  {
   "cell_type": "markdown",
   "id": "4bec41e1-5333-4e9a-af12-2591a9f87ee8",
   "metadata": {},
   "source": [
    "# <center> CHERRY PICK, UNIR EL CONTENIDO DE UN COMMIT ESPECIFICO Y QUEDA COMO HEAD <br>https://github.com/JorgeCardona/comandos_git</br></center>\n",
    "\n",
    "<center>\n",
    "    <img width=\"75%\" align=\"center\" src=\"cherry-pick.gif\">\n",
    "</center>"
   ]
  },
  {
   "cell_type": "markdown",
   "id": "1fe189e9-ab8e-4708-bfe1-346259f662c2",
   "metadata": {},
   "source": [
    "### CREA LAS RAMAS"
   ]
  },
  {
   "cell_type": "code",
   "execution_count": null,
   "id": "9fb2ef57-7954-4bb1-b9ab-ac572aab0ef1",
   "metadata": {
    "scrolled": true,
    "tags": []
   },
   "outputs": [],
   "source": [
    "nombre_ramas = ['hotfix_branch','cherry_pick_branch']\n",
    "\n",
    "todos_los_archivos=True\n",
    "crear_rama_local_y_remota(nombre_rama=nombre_ramas[0], todos_los_archivos=todos_los_archivos)\n",
    "\n",
    "comando = 'git switch --orphan {nombre_rama}'.format(nombre_rama=nombre_ramas[1])\n",
    "ejecutar_comando_git(comando)\n",
    "\n",
    "generar_archivos(todos_los_archivos=False)\n",
    "\n",
    "comando = 'git add .'\n",
    "ejecutar_comando_git(comando)\n",
    "\n",
    "comando = 'git commit -m \"archivo info.txt para usar con el hotfix_branch\" '\n",
    "ejecutar_comando_git(comando)\n",
    "\n",
    "comando = 'git branch -a'\n",
    "ejecutar_comando_git(comando)"
   ]
  },
  {
   "cell_type": "markdown",
   "id": "755b476e-2c52-4bd0-a63a-0290e2cd9e48",
   "metadata": {},
   "source": [
    "### PUBLICAR RAMA <br>https://github.com/JorgeCardona/comandos_git</br> </center>\n"
   ]
  },
  {
   "cell_type": "code",
   "execution_count": null,
   "id": "4aba5007-6390-4517-bfdf-f71f3b09e44f",
   "metadata": {
    "scrolled": true,
    "tags": []
   },
   "outputs": [],
   "source": [
    "comando = 'git push --set-upstream origin {nombre_rama}'.format(nombre_rama=nombre_ramas[1])\n",
    "ejecutar_comando_git(comando)\n",
    "\n",
    "comando = 'git status'\n",
    "ejecutar_comando_git(comando)\n",
    "\n",
    "comando = 'git branch -a'\n",
    "ejecutar_comando_git(comando)"
   ]
  },
  {
   "cell_type": "markdown",
   "id": "c5ce3c4b-49d1-4f9b-83cb-dd1b549e24d7",
   "metadata": {},
   "source": [
    "## VER EL LOG DE LA RAMA A USAR COMO BASE PARA EL CHERRY_PICK"
   ]
  },
  {
   "cell_type": "code",
   "execution_count": null,
   "id": "130942c2-68ce-4d83-8aa0-e41ff7bb0214",
   "metadata": {
    "scrolled": true,
    "tags": []
   },
   "outputs": [],
   "source": [
    "comando = f'git log --oneline {nombre_ramas[0]}'\n",
    "ejecutar_comando_git(comando)\n",
    "\n",
    "comando = f'git log --oneline {nombre_ramas[1]}'\n",
    "ejecutar_comando_git(comando)\n",
    "ejecutar_comando_shell()"
   ]
  },
  {
   "cell_type": "markdown",
   "id": "775577c8-cf19-4db9-bad3-05a13383868b",
   "metadata": {},
   "source": [
    "## CHERRY PICK A UN COMMIT DE LA RAMA **CHERRY_PICK** PARA UNIRLA CON LA RAMA ACTUAL **HOTFIX**"
   ]
  },
  {
   "cell_type": "markdown",
   "id": "ed8b5582-a870-4297-8258-7b7750bb5a37",
   "metadata": {},
   "source": [
    "### ADICIONA UN SOLO COMMIT"
   ]
  },
  {
   "cell_type": "code",
   "execution_count": null,
   "id": "07bedf2b-ca47-488b-a2d6-98be3a618aa0",
   "metadata": {
    "scrolled": true,
    "tags": []
   },
   "outputs": [],
   "source": [
    "comando = 'git status'\n",
    "ejecutar_comando_git(comando)\n",
    "\n",
    "unir_commits = 'fd01bde' # archivo README\n",
    "comando = f'git cherry-pick {unir_commits}' \n",
    "ejecutar_comando_git(comando)\n",
    "\n",
    "comando = f'git log --oneline {nombre_ramas[1]}'\n",
    "ejecutar_comando_git(comando)\n",
    "\n",
    "comando = f'git log --oneline {nombre_ramas[0]}'\n",
    "ejecutar_comando_git(comando)"
   ]
  },
  {
   "cell_type": "markdown",
   "id": "777f7740-b88e-4552-8b3a-a11fd7d1dce3",
   "metadata": {},
   "source": [
    "### ADICIONA VARIOS COMMIT SELECCIONADOS"
   ]
  },
  {
   "cell_type": "code",
   "execution_count": null,
   "id": "d9b7dcfc-624f-43a2-815f-d3d288ee2ee6",
   "metadata": {
    "scrolled": true,
    "tags": []
   },
   "outputs": [],
   "source": [
    "comando = 'git status'\n",
    "ejecutar_comando_git(comando)\n",
    "\n",
    "unir_commits = 'd481740 6bfbfd4' # archivo requirements.txt, 6bfbfd4\n",
    "comando = f'git cherry-pick {unir_commits}' \n",
    "ejecutar_comando_git(comando)\n",
    "\n",
    "comando = f'git log --oneline {nombre_ramas[1]}'\n",
    "ejecutar_comando_git(comando)\n",
    "\n",
    "comando = f'git log --oneline {nombre_ramas[0]}'\n",
    "ejecutar_comando_git(comando)"
   ]
  },
  {
   "cell_type": "markdown",
   "id": "bf02f1e1-6bd2-483a-a64d-d05457c1c430",
   "metadata": {},
   "source": [
    "### ADICIONA UN RANGO DE COMMITS\n",
    "#### SI EXISTE ARCHIVOS CON EL MISMO NOMBRE EN EL INTERVALO DE COMMITS **CREARAN CONFLICTOS**"
   ]
  },
  {
   "cell_type": "markdown",
   "id": "6a946945-d354-4a65-94db-e845c084ce18",
   "metadata": {},
   "source": [
    "### SE EXCLUYE EL COMMIT DE INICIO"
   ]
  },
  {
   "cell_type": "code",
   "execution_count": null,
   "id": "4dd5bec4-83ff-42c5-a5c7-b2badcfeb547",
   "metadata": {
    "scrolled": true,
    "tags": []
   },
   "outputs": [],
   "source": [
    "commit_inicio = 'c4f3a74' # commit de archivo Dockerfile\n",
    "commit_final = 'a3af718' # commit de archivo imagen.png\n",
    "\n",
    "unir_commits = f'{commit_inicio}..{commit_final}' \n",
    "comando = f'git cherry-pick {unir_commits}' \n",
    "ejecutar_comando_git(comando)\n",
    "\n",
    "comando = f'git log --oneline {nombre_ramas[1]}'\n",
    "ejecutar_comando_git(comando)\n",
    "\n",
    "comando = f'git log --oneline {nombre_ramas[0]}'\n",
    "ejecutar_comando_git(comando)"
   ]
  },
  {
   "cell_type": "markdown",
   "id": "1bc581a1-e71e-4dad-ba88-55075d4a17df",
   "metadata": {},
   "source": [
    "### SE INCLUYE EL COMMIT DE INICIO ~"
   ]
  },
  {
   "cell_type": "code",
   "execution_count": null,
   "id": "ff328328-1c30-4f65-8a20-e07422a0597a",
   "metadata": {
    "scrolled": true,
    "tags": []
   },
   "outputs": [],
   "source": [
    "commit_inicio = '1e9d747' # commit de archivo main.py\n",
    "commit_final = '7a4b442' # commit de archivo query.sql\n",
    "\n",
    "unir_commits = f'{commit_inicio}~..{commit_final}'\n",
    "comando = f'git cherry-pick {unir_commits}' \n",
    "ejecutar_comando_git(comando)\n",
    "\n",
    "comando = f'git log --oneline {nombre_ramas[1]}'\n",
    "ejecutar_comando_git(comando)"
   ]
  },
  {
   "cell_type": "markdown",
   "id": "754c7c78-5b3d-47bb-9a87-236c8f8ecdf0",
   "metadata": {},
   "source": [
    "### SUBIR LOS COMMITS ADICIONADOS CON CHERRY-PICK"
   ]
  },
  {
   "cell_type": "code",
   "execution_count": null,
   "id": "af52d216-167d-4120-a017-613b8df9a61a",
   "metadata": {
    "scrolled": true,
    "tags": []
   },
   "outputs": [],
   "source": [
    "comando = 'git push origin'\n",
    "ejecutar_comando_git(comando)\n",
    "\n",
    "comando = 'git status'\n",
    "ejecutar_comando_git(comando)\n",
    "\n",
    "ejecutar_comando_shell()"
   ]
  },
  {
   "cell_type": "markdown",
   "id": "b18cdbb4-54b2-4efa-b635-45e79343f352",
   "metadata": {
    "tags": []
   },
   "source": [
    "#### ELIMINAR LA RAMA EN EL REPOSITORIO DE ORIGEN O REMOTO"
   ]
  },
  {
   "cell_type": "code",
   "execution_count": null,
   "id": "41e95932-aa90-4caf-9d5b-2fc5e1148a72",
   "metadata": {
    "scrolled": true,
    "tags": []
   },
   "outputs": [],
   "source": [
    "# si queda algo pendiente con el cherry-pick\n",
    "comando = 'git cherry-pick --quit'\n",
    "ejecutar_comando_git(comando)\n",
    "\n",
    "for nombre_rama in nombre_ramas:\n",
    "    eliminar_rama_local_y_remota(nombre_rama=nombre_rama)"
   ]
  },
  {
   "cell_type": "markdown",
   "id": "7ed89905-a846-46cf-9175-dd32aee6b39a",
   "metadata": {},
   "source": [
    "# <center> TAGs <br>https://github.com/JorgeCardona/comandos_git</br></center>"
   ]
  },
  {
   "cell_type": "code",
   "execution_count": null,
   "id": "1106d9e3-269d-4a57-9d2c-4ac9c2db5eb9",
   "metadata": {
    "scrolled": true,
    "tags": []
   },
   "outputs": [],
   "source": [
    "nombre_rama = 'tag_branch'\n",
    "\n",
    "crear_rama_local_y_remota(nombre_rama=nombre_rama, todos_los_archivos=True)"
   ]
  },
  {
   "cell_type": "markdown",
   "id": "f9101b9b-478a-4129-9df9-cd989868c4d1",
   "metadata": {},
   "source": [
    "### CREAR UN TAG"
   ]
  },
  {
   "cell_type": "code",
   "execution_count": null,
   "id": "01d3649c-ee90-4b90-bbdb-d742ad2b8742",
   "metadata": {
    "tags": []
   },
   "outputs": [],
   "source": [
    "nombre_tag = 'v0.0.0'\n",
    "comando = 'git tag  {nombre_tag} -m \"versión Inicial\"'.format(nombre_tag=nombre_tag)\n",
    "ejecutar_comando_git(comando)\n",
    "\n",
    "comando = 'git tag'\n",
    "ejecutar_comando_git(comando)"
   ]
  },
  {
   "cell_type": "markdown",
   "id": "b223e4b0-233b-4ac4-871c-434e0fc368c0",
   "metadata": {},
   "source": [
    "### LISTAR LOS TAGs LOCALES"
   ]
  },
  {
   "cell_type": "code",
   "execution_count": null,
   "id": "861b023c-39bc-47a7-b6a9-1b3d1de59b10",
   "metadata": {
    "tags": []
   },
   "outputs": [],
   "source": [
    "comando = 'git tag'\n",
    "ejecutar_comando_git(comando)"
   ]
  },
  {
   "cell_type": "markdown",
   "id": "dc27fb1b-3409-4dfa-9a0e-140622be4a5f",
   "metadata": {},
   "source": [
    "### ELIMINAR UN TAG LOCAL"
   ]
  },
  {
   "cell_type": "code",
   "execution_count": null,
   "id": "45899fd1-ead0-477e-ab13-a73f5c43a0dd",
   "metadata": {
    "tags": []
   },
   "outputs": [],
   "source": [
    "comando = 'git tag -d {nombre_tag}'.format(nombre_tag=nombre_tag)\n",
    "ejecutar_comando_git(comando)\n",
    "\n",
    "comando = 'git tag'\n",
    "ejecutar_comando_git(comando)"
   ]
  },
  {
   "cell_type": "markdown",
   "id": "d8dd2d33-3365-4ab5-8203-4da985e4581c",
   "metadata": {
    "tags": []
   },
   "source": [
    "### CREAR MULTIPLES TAGs"
   ]
  },
  {
   "cell_type": "code",
   "execution_count": null,
   "id": "b94e2bc8-287d-49bf-af0c-b1ea05f5903e",
   "metadata": {
    "scrolled": true,
    "tags": []
   },
   "outputs": [],
   "source": [
    "lista_ramas_locales = obtener_lista_nombres_ramas_git()\n",
    "\n",
    "for indice, rama in enumerate(lista_ramas_locales):\n",
    " \n",
    "    #cambia de rama para tener el contenido especifico de esa rama en el TAG\n",
    "    comando = 'git checkout {rama}\"'.format(rama=rama)\n",
    "    ejecutar_comando_git(comando)\n",
    "    \n",
    "    # genera el nombre que tendra el TAG\n",
    "    nombre_tag = 'v0.0.{indice}_{rama}'.format(rama=rama, indice=indice)\n",
    "    comando = 'git tag {nombre_tag} -m \"version {indice} del TAG\"'.format(nombre_tag=nombre_tag, indice=indice)\n",
    "    ejecutar_comando_git(comando)\n",
    "\n",
    "comando = 'git tag'\n",
    "ejecutar_comando_git(comando)"
   ]
  },
  {
   "cell_type": "markdown",
   "id": "83bf163d-199f-49b0-a309-856ad5f5514c",
   "metadata": {},
   "source": [
    "### LISTAR LOS TAGs Y VER SU DESCRIPCION"
   ]
  },
  {
   "cell_type": "code",
   "execution_count": null,
   "id": "7d71ebff-c95b-4efb-83e3-d3c9f4c7bdf1",
   "metadata": {
    "tags": []
   },
   "outputs": [],
   "source": [
    "comando = 'git tag -n'\n",
    "ejecutar_comando_git(comando)"
   ]
  },
  {
   "cell_type": "markdown",
   "id": "75dd5833-b4c6-43cf-9b35-31ad5c42fcb9",
   "metadata": {},
   "source": [
    "### PUBLICAR UN TAG ESPECIFICO A UN REPOSITORIO REMOTO <br>https://github.com/JorgeCardona/comandos_git</br>"
   ]
  },
  {
   "cell_type": "code",
   "execution_count": null,
   "id": "92fef3aa-ffee-4f9b-bf5d-af7ec1396ddf",
   "metadata": {
    "scrolled": true,
    "tags": []
   },
   "outputs": [],
   "source": [
    "for indice, rama in enumerate([lista_ramas_locales[0]]):\n",
    "    \n",
    "    nombre_tag = 'v0.0.{indice}_{rama}'.format(rama=rama, indice=indice)\n",
    "    comando = comando = 'git push origin {nombre_tag}'.format(nombre_tag=nombre_tag)\n",
    "    ejecutar_comando_git(comando)"
   ]
  },
  {
   "cell_type": "markdown",
   "id": "394c82ec-862f-4f9c-837e-26bd1a1cb9b3",
   "metadata": {},
   "source": [
    "### LISTAR LOS TAGs REMOTOS"
   ]
  },
  {
   "cell_type": "code",
   "execution_count": null,
   "id": "2912578c-ac46-4c71-91f6-3c7f98f1d0cb",
   "metadata": {
    "tags": []
   },
   "outputs": [],
   "source": [
    "comando = 'git ls-remote --tags'\n",
    "ejecutar_comando_git(comando)"
   ]
  },
  {
   "cell_type": "markdown",
   "id": "8378e5d7-1469-4db9-b56f-2417b7720cd3",
   "metadata": {},
   "source": [
    "### PUBLICAR TODOS LOS TAGs NO PUBLICADOS EN UN SOLO PUSH AL REPOSITORIO REMOTO"
   ]
  },
  {
   "cell_type": "code",
   "execution_count": null,
   "id": "b098f775-2118-4c64-8dbe-93bba7f1cb05",
   "metadata": {
    "tags": []
   },
   "outputs": [],
   "source": [
    "comando = 'git push --tags'\n",
    "ejecutar_comando_git(comando)\n",
    "\n",
    "comando = 'git ls-remote --tags'\n",
    "ejecutar_comando_git(comando)"
   ]
  },
  {
   "cell_type": "markdown",
   "id": "5d3f4a8a-f31e-40eb-8689-7dfb7e44ca2d",
   "metadata": {},
   "source": [
    "### ELIMINAR LOS TAGs LOCALES Y REMOTOS"
   ]
  },
  {
   "cell_type": "code",
   "execution_count": null,
   "id": "bdc8d38d-f2ba-42a6-993b-1f268b5b6135",
   "metadata": {
    "scrolled": true,
    "tags": []
   },
   "outputs": [],
   "source": [
    "for indice, rama in enumerate(lista_ramas_locales):\n",
    "    \n",
    "    nombre_tag = 'v0.0.{indice}_{rama}'.format(rama=rama, indice=indice)\n",
    "\n",
    "    comando = 'git tag -d {nombre_tag}'.format(nombre_tag=nombre_tag)\n",
    "    ejecutar_comando_git(comando)\n",
    "\n",
    "    comando = 'git push --delete origin {nombre_tag}'.format(nombre_tag=nombre_tag)\n",
    "    ejecutar_comando_git(comando)\n",
    "    \n",
    "comando = 'git tag'\n",
    "ejecutar_comando_git(comando)\n",
    "\n",
    "comando = 'git ls-remote --tags'\n",
    "ejecutar_comando_git(comando)"
   ]
  },
  {
   "cell_type": "markdown",
   "id": "91b10b1c-cd4c-4443-9cd5-88d32112b21e",
   "metadata": {
    "tags": []
   },
   "source": [
    "#### ELIMINAR LA RAMA DEL REPOSITORIO LOCAL Y REMOTO\n"
   ]
  },
  {
   "cell_type": "code",
   "execution_count": null,
   "id": "378d4731-dbf9-4fac-860c-2ffd2309a846",
   "metadata": {
    "scrolled": true,
    "tags": []
   },
   "outputs": [],
   "source": [
    "eliminar_rama_local_y_remota(nombre_rama=nombre_rama)"
   ]
  },
  {
   "cell_type": "markdown",
   "id": "b17a6f03-aeaf-489b-9f4e-4e39f2df035d",
   "metadata": {},
   "source": [
    "# <center> VALIDAR COMMITS QUE NO FUNCIONAN CON BISECT <br> EN LA CONSOLA DE VSCODE O UN IDE DE DESARROLLO</br></center>"
   ]
  },
  {
   "cell_type": "code",
   "execution_count": null,
   "id": "46365c6e-5037-400f-ac76-1f82cdbc44b0",
   "metadata": {
    "tags": []
   },
   "outputs": [],
   "source": [
    "nombre_rama_remota_bisect = 'bisect_branch'\n",
    "\n",
    "comando = 'git checkout -t origin/{nombre_rama_remota}'.format(nombre_rama_remota=nombre_rama_remota_bisect)\n",
    "ejecutar_comando_git(comando) \n",
    "ejecutar_comando_shell()"
   ]
  },
  {
   "cell_type": "markdown",
   "id": "fa6acf30-5eb7-4495-b392-2ea625a9efdf",
   "metadata": {},
   "source": [
    "# git bisect start, git bisect reset, git bisect good, git bisect bad"
   ]
  },
  {
   "cell_type": "markdown",
   "id": "54f47e97-4685-4186-8b9c-98dcc55b3d0a",
   "metadata": {},
   "source": [
    "### INICIALIZO EL ANALISIS CON BISET START"
   ]
  },
  {
   "cell_type": "code",
   "execution_count": null,
   "id": "5dabeffb-91df-49ea-8f21-06dd67254759",
   "metadata": {
    "tags": []
   },
   "outputs": [],
   "source": [
    "comando = 'git bisect start'\n",
    "ejecutar_comando_git(comando)\n",
    "\n",
    "comando = 'git log --oneline'\n",
    "ejecutar_comando_git(comando)"
   ]
  },
  {
   "cell_type": "markdown",
   "id": "44ca513d-9395-476a-9bc9-c7218c00a1d1",
   "metadata": {},
   "source": [
    "### EJECUTO EL CODIGO Y VEO QUE FUNCIONE O FALLE"
   ]
  },
  {
   "cell_type": "code",
   "execution_count": null,
   "id": "73072734-5a9a-4f01-b8db-09d07cd0e8c0",
   "metadata": {
    "tags": []
   },
   "outputs": [],
   "source": [
    "def validar_codigo():\n",
    "\n",
    "    from funciones_matematicas import ejecutar_funciones\n",
    "\n",
    "    ejecutar_funciones()"
   ]
  },
  {
   "cell_type": "code",
   "execution_count": null,
   "id": "c02ae337-a1a9-4e50-9f4e-80f09d56d7b9",
   "metadata": {
    "tags": []
   },
   "outputs": [],
   "source": [
    "validar_codigo()"
   ]
  },
  {
   "cell_type": "markdown",
   "id": "4c3eda1a-ffa6-429e-bea3-2f11118eb441",
   "metadata": {},
   "source": [
    "# SE EJECUTA EL ULTIMO COMMIT, QUE ENTRE LO NORMAL DEBE FALLAR\n",
    "## SI FALLA PONGO 'git bisect bad', SI FUNCIONA PONGO 'git bisect good'"
   ]
  },
  {
   "cell_type": "code",
   "execution_count": null,
   "id": "e57e4560-4db4-4028-abb8-d0f75e9702f5",
   "metadata": {
    "tags": []
   },
   "outputs": [],
   "source": [
    "comando = 'git bisect bad'\n",
    "ejecutar_comando_git(comando)\n",
    "\n",
    "comando = 'git log --oneline'\n",
    "ejecutar_comando_git(comando)"
   ]
  },
  {
   "cell_type": "markdown",
   "id": "7b8cface-fd6a-47cb-9de6-64b57bbfb25f",
   "metadata": {},
   "source": [
    "## SE SELECCIONA UN COMMIT DONDE SABEMOS QUE EL CODIGO FUNCIONA, POR EJEMPLO EL PRIMER COMMIT"
   ]
  },
  {
   "cell_type": "code",
   "execution_count": null,
   "id": "933e1941-9fd6-4bc5-aed1-24b4dceb276e",
   "metadata": {
    "tags": []
   },
   "outputs": [],
   "source": [
    "comando = 'git bisect good 00d5b10'\n",
    "ejecutar_comando_git(comando)"
   ]
  },
  {
   "cell_type": "markdown",
   "id": "6c3e859d-0343-44cc-bf74-944f918eea06",
   "metadata": {},
   "source": [
    "### VALIDAR DE NUEVO SI FUNCIONA O NO, EN LAS 6 REVISIONES QUE QUEDAN, ESTA VEZ ELIGIO EL DE adicionada funcion raiz cuadrada\n",
    "## SI FALLA PONGO 'git bisect bad', SI FUNCIONA PONGO 'git bisect good'"
   ]
  },
  {
   "cell_type": "code",
   "execution_count": null,
   "id": "6064e759-d812-4bb0-b522-d2c43c044de3",
   "metadata": {
    "tags": []
   },
   "outputs": [],
   "source": [
    "validar_codigo()"
   ]
  },
  {
   "cell_type": "code",
   "execution_count": null,
   "id": "48ebe904-35db-4152-b4ac-a0e9e12d1dcc",
   "metadata": {
    "tags": []
   },
   "outputs": [],
   "source": [
    "comando = 'git bisect bad'\n",
    "ejecutar_comando_git(comando)"
   ]
  },
  {
   "cell_type": "markdown",
   "id": "88f79cd3-589c-4ca6-95a8-645f22c87521",
   "metadata": {},
   "source": [
    "## VALIDAR DE NUEVO SI FUNCIONA O NO\n",
    "## SI FALLA PONGO 'git bisect bad', SI FUNCIONA PONGO 'git bisect good'"
   ]
  },
  {
   "cell_type": "markdown",
   "id": "9fb97961-4eb1-46db-b250-012e21600d1c",
   "metadata": {},
   "source": [
    "## YA TERMINO ENCONTRO EL COMMIT QUE FALLA\n",
    "### AHORA TERMINAMOS CON EL RESET"
   ]
  },
  {
   "cell_type": "code",
   "execution_count": null,
   "id": "5be23210-4ad5-4d05-a6e3-9943df051036",
   "metadata": {
    "tags": []
   },
   "outputs": [],
   "source": [
    "comando = 'git bisect reset'\n",
    "ejecutar_comando_git(comando)"
   ]
  },
  {
   "cell_type": "markdown",
   "id": "18344018-2ea2-4c0d-8278-106b970b7bef",
   "metadata": {},
   "source": [
    "### AHORA REVISO EL COMMIT QUE ESTA GENERANDO ERRORES"
   ]
  },
  {
   "cell_type": "code",
   "execution_count": null,
   "id": "b5824c96-6054-4a5e-9a57-b70b45185f45",
   "metadata": {
    "tags": []
   },
   "outputs": [],
   "source": [
    "comando = 'git show f649a14'\n",
    "ejecutar_comando_git(comando)"
   ]
  },
  {
   "cell_type": "markdown",
   "id": "63de4a56-f0c9-4257-bcd5-a4bd2228c1db",
   "metadata": {},
   "source": [
    "# <center> LISTAR EL HISTORIAL DE TODAS LAS ACCIONES REALIZADAS EN UN REPOSITORIO GIT <br> LISTADO DESDE EL MAS NUEVO HASTA EL PRIMER CAMBIO</br> <br> PERMITE RECUPERAR COMMITS Y RAMAS BORRADAS ACCIDENTALMENTE USANDO EL HASH DEL COMMIT</br></center>"
   ]
  },
  {
   "cell_type": "markdown",
   "id": "f2e8d209-8478-41fb-b16f-80c9111ec6b9",
   "metadata": {
    "tags": []
   },
   "source": [
    "### OBTENER EL HISTORIAL DE LOS CAMBIOS EN EL REPOSITORIO"
   ]
  },
  {
   "cell_type": "code",
   "execution_count": null,
   "id": "d6113c4b-2a96-407f-bf7d-291ad770fe4e",
   "metadata": {
    "scrolled": true,
    "tags": []
   },
   "outputs": [],
   "source": [
    "comando = 'git reflog'\n",
    "ejecutar_comando_git(comando)\n",
    "ejecutar_comando_shell()"
   ]
  },
  {
   "cell_type": "markdown",
   "id": "3854b83e-0186-4f76-a7b1-1496c4c6c962",
   "metadata": {
    "tags": []
   },
   "source": [
    "## RECUPERAR RAMA ELIMINADA"
   ]
  },
  {
   "cell_type": "markdown",
   "id": "bd5ae524-8893-4b3b-9d53-3552e3c37c56",
   "metadata": {},
   "source": [
    "#### INSPECCIONAMOS EL CONTENIDO DE LA RAMA A RECUPERAR CON LA AYUDA DEL HASH DEL COMMIT"
   ]
  },
  {
   "cell_type": "code",
   "execution_count": null,
   "id": "75eb72d0-d8c2-4e3f-8c4f-6cb9516b02ca",
   "metadata": {
    "scrolled": true,
    "tags": []
   },
   "outputs": [],
   "source": [
    "# adicionado archivo INFO.txt PARA USAR EN REFLOG\n",
    "commit_a_recuperar = 'e6184ca'\n",
    "comando = 'git show {commit_a_recuperar}'.format(commit_a_recuperar=commit_a_recuperar)\n",
    "ejecutar_comando_git(comando)\n",
    "ejecutar_comando_shell()"
   ]
  },
  {
   "cell_type": "markdown",
   "id": "6c6d088c-4d9c-4bfb-967e-1b511b995834",
   "metadata": {
    "tags": []
   },
   "source": [
    "#### OBTENEMOS EL CONTENIDO DEL COMMIT"
   ]
  },
  {
   "cell_type": "code",
   "execution_count": null,
   "id": "55c4f7bb-fbb3-4f87-b484-c9dfa37a8a63",
   "metadata": {
    "scrolled": true,
    "tags": []
   },
   "outputs": [],
   "source": [
    "comando = 'git checkout {commit_a_recuperar}'.format(commit_a_recuperar=commit_a_recuperar)\n",
    "ejecutar_comando_git(comando)\n",
    "\n",
    "comando = 'git log --oneline'\n",
    "ejecutar_comando_git(comando)\n",
    "\n",
    "ejecutar_comando_shell()"
   ]
  },
  {
   "cell_type": "markdown",
   "id": "720076d6-6a40-4311-88c2-a9e51365497b",
   "metadata": {},
   "source": [
    "#### CREAMOS UNA NUEVA RAMA A PARTIR EL CONTENIDO DEL COMMIT RECUPERADO"
   ]
  },
  {
   "cell_type": "code",
   "execution_count": null,
   "id": "dc7d270f-ee0d-482e-bd10-a8d8c68e206a",
   "metadata": {
    "tags": []
   },
   "outputs": [],
   "source": [
    "nombre_rama = 'utils_recuperada'\n",
    "comando = 'git checkout -b {nombre_rama}'.format(nombre_rama=nombre_rama)\n",
    "ejecutar_comando_git(comando)\n",
    "\n",
    "comando = 'git log --oneline'\n",
    "ejecutar_comando_git(comando)\n",
    "\n",
    "ejecutar_comando_shell()"
   ]
  },
  {
   "cell_type": "markdown",
   "id": "26317aa9-370b-443c-a5f5-783a45137a26",
   "metadata": {},
   "source": [
    "# <center> EXPORTAR CONTENIDO DE UNA RAMA, UN COMMIT O ARCHIVOS ESPECIFICOS **A .ZIP**"
   ]
  },
  {
   "cell_type": "markdown",
   "id": "7fc78f6a-e1b8-48a2-ac0b-535168156c4a",
   "metadata": {},
   "source": [
    "## CREAR DIRECTORIO PARA EXPORTABLES"
   ]
  },
  {
   "cell_type": "code",
   "execution_count": 68,
   "id": "d732d32a-6a3e-4590-b676-73e4b11a3883",
   "metadata": {
    "tags": []
   },
   "outputs": [
    {
     "name": "stdout",
     "output_type": "stream",
     "text": [
      "directorio ./exportados\n"
     ]
    }
   ],
   "source": [
    "carpeta = 'exportados'\n",
    "directorio_exportados = crear_carpeta(carpeta)"
   ]
  },
  {
   "cell_type": "markdown",
   "id": "b3d1fd1b-5ab7-4179-ac04-0c30e2dfb1ca",
   "metadata": {},
   "source": [
    "## VALIDAR FORMATOS EXPORTABLES"
   ]
  },
  {
   "cell_type": "code",
   "execution_count": 69,
   "id": "6ee8f655-bae9-490c-a3ef-5010d2d6a652",
   "metadata": {
    "tags": []
   },
   "outputs": [
    {
     "name": "stdout",
     "output_type": "stream",
     "text": [
      "############################################# COMANDO A EJECUTAR #############################################\n",
      "git archive --list\n",
      "####################################### RESULTADO DE COMANDO EJECUTADO #######################################\n",
      "tar\n",
      "tgz\n",
      "tar.gz\n",
      "zip\n",
      "##############################################################################################################\n",
      "\n"
     ]
    }
   ],
   "source": [
    "comando = 'git archive --list'\n",
    "ejecutar_comando_git(comando)"
   ]
  },
  {
   "cell_type": "markdown",
   "id": "03ada3ab-6793-47a5-8940-d63cbc3019d9",
   "metadata": {},
   "source": [
    "## EXPORTAR UNA RAMA"
   ]
  },
  {
   "cell_type": "code",
   "execution_count": 70,
   "id": "00be58e2-62d5-4449-8a76-790641f48998",
   "metadata": {
    "tags": []
   },
   "outputs": [
    {
     "name": "stdout",
     "output_type": "stream",
     "text": [
      "############################################# COMANDO A EJECUTAR #############################################\n",
      "git branch\n",
      "####################################### RESULTADO DE COMANDO EJECUTADO #######################################\n",
      "* main\n",
      "##############################################################################################################\n",
      "\n"
     ]
    }
   ],
   "source": [
    "comando = 'git branch'\n",
    "ejecutar_comando_git(comando)"
   ]
  },
  {
   "cell_type": "code",
   "execution_count": 71,
   "id": "685292eb-3940-40a8-9914-1baa6c05a2ee",
   "metadata": {
    "tags": []
   },
   "outputs": [
    {
     "name": "stdout",
     "output_type": "stream",
     "text": [
      "############################################# COMANDO A EJECUTAR #############################################\n",
      "git archive --format=zip main > ./exportados/main.zip\n",
      "####################################### RESULTADO DE COMANDO EJECUTADO #######################################\n",
      "##############################################################################################################\n",
      "\n"
     ]
    }
   ],
   "source": [
    "comando = f'git archive --format=zip main > {directorio_exportados}/main.zip'\n",
    "ejecutar_comando_git(comando)"
   ]
  },
  {
   "cell_type": "code",
   "execution_count": 72,
   "id": "4dfb8c64-ab58-40b2-a902-c3d5de094dcf",
   "metadata": {
    "tags": []
   },
   "outputs": [
    {
     "name": "stdout",
     "output_type": "stream",
     "text": [
      "############################################# COMANDO A EJECUTAR #############################################\n",
      "git archive --format=zip -o ./exportados/latest.zip head\n",
      "####################################### RESULTADO DE COMANDO EJECUTADO #######################################\n",
      "##############################################################################################################\n",
      "\n"
     ]
    }
   ],
   "source": [
    "comando = f'git archive --format=zip -o {directorio_exportados}/latest.zip head'\n",
    "ejecutar_comando_git(comando)"
   ]
  },
  {
   "cell_type": "markdown",
   "id": "c35245a6-9535-4683-a13a-4ae2468f3192",
   "metadata": {},
   "source": [
    "## EXPORTAR UN COMMIT"
   ]
  },
  {
   "cell_type": "code",
   "execution_count": 73,
   "id": "fdabb678-87be-4e49-8834-ecc992a95d34",
   "metadata": {
    "scrolled": true,
    "tags": []
   },
   "outputs": [
    {
     "name": "stdout",
     "output_type": "stream",
     "text": [
      "############################################# COMANDO A EJECUTAR #############################################\n",
      "git log --oneline\n",
      "####################################### RESULTADO DE COMANDO EJECUTADO #######################################\n",
      "c0925c2 adicionado usuario\n",
      "d481740 adicionado requirements.txt\n",
      "fd01bde adicionado readme\n",
      "6bfbfd4 adicionado license\n",
      "e56280c adicionado .gitignore\n",
      "##############################################################################################################\n",
      "\n"
     ]
    }
   ],
   "source": [
    "comando = 'git log --oneline'\n",
    "ejecutar_comando_git(comando)"
   ]
  },
  {
   "cell_type": "code",
   "execution_count": 74,
   "id": "c95f9267-1fd9-496c-9f03-a8951ba3845b",
   "metadata": {
    "tags": []
   },
   "outputs": [
    {
     "name": "stdout",
     "output_type": "stream",
     "text": [
      "############################################# COMANDO A EJECUTAR #############################################\n",
      "git archive --format=zip 6bfbfd4 > ./exportados/commit.zip\n",
      "####################################### RESULTADO DE COMANDO EJECUTADO #######################################\n",
      "##############################################################################################################\n",
      "\n"
     ]
    }
   ],
   "source": [
    "comando = f'git archive --format=zip 6bfbfd4 > {directorio_exportados}/commit.zip'\n",
    "ejecutar_comando_git(comando)"
   ]
  },
  {
   "cell_type": "markdown",
   "id": "5643e87a-0846-4b07-a89b-435cb3160d09",
   "metadata": {},
   "source": [
    "## EXPORTAR ARCHIVOS"
   ]
  },
  {
   "cell_type": "markdown",
   "id": "be06e177-1c8a-4466-86a5-78c7aafb26f6",
   "metadata": {
    "tags": []
   },
   "source": [
    "### LISTAR TODOS LOS ARCHIVOS"
   ]
  },
  {
   "cell_type": "code",
   "execution_count": 75,
   "id": "6830c2ad-626c-48a1-ab26-d211c98e28f0",
   "metadata": {
    "tags": []
   },
   "outputs": [
    {
     "name": "stdout",
     "output_type": "stream",
     "text": [
      "############################################# COMANDO A EJECUTAR #############################################\n",
      "git ls-tree -r main\n",
      "####################################### RESULTADO DE COMANDO EJECUTADO #######################################\n",
      "100644 blob b6e47617de110dea7ca47e087ff1347cc2646eda\t.gitignore\n",
      "100644 blob f288702d2fa16d3cdf0035b15a9fcbc552cd88e7\tLICENSE\n",
      "100644 blob 8c15f8a8149b4e71592b4884c1ea7a97fa605b2e\tREADME.md\n",
      "100644 blob 8fefd45effa4056eeac8b1de724f2ab015cf79de\trequirements.txt\n",
      "##############################################################################################################\n",
      "\n",
      "############################################# COMANDO A EJECUTAR #############################################\n",
      "git ls-tree -r 6bfbfd4\n",
      "####################################### RESULTADO DE COMANDO EJECUTADO #######################################\n",
      "100644 blob b6e47617de110dea7ca47e087ff1347cc2646eda\t.gitignore\n",
      "100644 blob f288702d2fa16d3cdf0035b15a9fcbc552cd88e7\tLICENSE\n",
      "##############################################################################################################\n",
      "\n"
     ]
    }
   ],
   "source": [
    "comando = 'git ls-tree -r main'\n",
    "ejecutar_comando_git(comando)\n",
    "\n",
    "comando = 'git ls-tree -r 6bfbfd4'\n",
    "ejecutar_comando_git(comando)"
   ]
  },
  {
   "cell_type": "markdown",
   "id": "d4d14fb8-45be-499b-ad3c-951a8150f54a",
   "metadata": {},
   "source": [
    "### EXPORTAR LOS ARCHIVOS SELECCIONADOS"
   ]
  },
  {
   "cell_type": "code",
   "execution_count": 76,
   "id": "c0d5683d-fe37-4d4a-99c6-bfe3c2fc30fa",
   "metadata": {
    "tags": []
   },
   "outputs": [
    {
     "name": "stdout",
     "output_type": "stream",
     "text": [
      "############################################# COMANDO A EJECUTAR #############################################\n",
      "git archive --format=zip main requirements.txt LICENSE > ./exportados/archivos_seleccionados.zip\n",
      "####################################### RESULTADO DE COMANDO EJECUTADO #######################################\n",
      "##############################################################################################################\n",
      "\n"
     ]
    }
   ],
   "source": [
    "comando = f'git archive --format=zip main requirements.txt LICENSE > {directorio_exportados}/archivos_seleccionados.zip'\n",
    "ejecutar_comando_git(comando)"
   ]
  },
  {
   "cell_type": "markdown",
   "id": "2bff3726-faf8-4983-ac7f-601c74cb9b69",
   "metadata": {},
   "source": [
    "# <center> PULL REQUEST"
   ]
  },
  {
   "cell_type": "markdown",
   "id": "5d3c7adf-a33d-48ff-b8b8-c1087293fec0",
   "metadata": {
    "tags": []
   },
   "source": [
    "## ELIMINAR RAMA"
   ]
  },
  {
   "cell_type": "code",
   "execution_count": null,
   "id": "961e4311-e5e9-4edc-8ecb-3e8f37d5bbcf",
   "metadata": {
    "tags": []
   },
   "outputs": [],
   "source": [
    "# no se puede eliminar una rama si se esta trabajando en ese monento en ella\n",
    "comando = 'git checkout  {nombre_rama_principal}'.format(nombre_rama_principal=nombre_rama_principal)\n",
    "ejecutar_comando_git(comando)\n",
    "\n",
    "comando = 'git branch -D {nombre_rama}'.format(nombre_rama=nombre_rama)\n",
    "ejecutar_comando_git(comando)\n",
    "\n",
    "comando = 'git branch -a'\n",
    "ejecutar_comando_git(comando)"
   ]
  },
  {
   "cell_type": "markdown",
   "id": "5758eb64-0414-4f9d-b02d-e07bba9d14fb",
   "metadata": {},
   "source": [
    "### OBTENER EL HISTORIAL DE LOS CAMBIOS EN EL REPOSITORIO Y MOSTRAR LOS CAMBIOS DE CADA ARCHIVO EN ESOS CAMBIOS"
   ]
  },
  {
   "cell_type": "code",
   "execution_count": null,
   "id": "138fdab9-35b7-41c7-a069-6cadff11706d",
   "metadata": {
    "scrolled": true,
    "tags": []
   },
   "outputs": [],
   "source": [
    "comando = 'git reflog -g --patch'\n",
    "ejecutar_comando_git(comando)\n",
    "ejecutar_comando_shell()"
   ]
  }
 ],
 "metadata": {
  "kernelspec": {
   "display_name": "Python 3 (ipykernel)",
   "language": "python",
   "name": "python3"
  },
  "language_info": {
   "codemirror_mode": {
    "name": "ipython",
    "version": 3
   },
   "file_extension": ".py",
   "mimetype": "text/x-python",
   "name": "python",
   "nbconvert_exporter": "python",
   "pygments_lexer": "ipython3",
   "version": "3.10.9"
  }
 },
 "nbformat": 4,
 "nbformat_minor": 5
}
