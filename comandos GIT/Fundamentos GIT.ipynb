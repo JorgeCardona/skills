{
 "cells": [
  {
   "cell_type": "markdown",
   "id": "16c27612-53a3-498b-aea9-aac0f1364a1f",
   "metadata": {},
   "source": [
    "# <center> CREAR ARCHIVOS</center>"
   ]
  },
  {
   "cell_type": "code",
   "execution_count": 1,
   "id": "503a1087-7944-4e0f-a3de-fa4853d04deb",
   "metadata": {
    "tags": []
   },
   "outputs": [],
   "source": [
    "def crear_fecha():\n",
    "    from datetime import datetime\n",
    "\n",
    "    # Getting the current date and time\n",
    "    dt = datetime.now()\n",
    "\n",
    "    # getting the timestamp\n",
    "    ts = datetime.timestamp(dt)\n",
    "\n",
    "    return ts\n",
    "\n",
    "def generar_archivos(todos_los_archivos=True):\n",
    "\n",
    "    lista_de_archivos = ['info.txt','Dockerfile','Manifest.yaml','imagen.png','main.py','connection.java','calculos.c','addon.php','utils.gif','query.sql','dataset.avro','link.vs']\n",
    "    \n",
    "    lista_de_archivos = lista_de_archivos if todos_los_archivos else [lista_de_archivos[0]]\n",
    "    \n",
    "    print('lista_de_archivos = {lista_de_archivos}'.format(lista_de_archivos=lista_de_archivos))\n",
    "    \n",
    "    for archivo in lista_de_archivos:\n",
    "        comando = 'echo {crear_archivo} >> {archivo}'.format(crear_archivo=crear_fecha(), archivo=archivo)\n",
    "        ejecutar_comando_shell(comando)\n",
    "        \n",
    "    return lista_de_archivos"
   ]
  },
  {
   "cell_type": "markdown",
   "id": "63baf6e8-15a7-4d78-9216-0071910ae33c",
   "metadata": {},
   "source": [
    "# <center> ELIMINAR ARCHIVOS</center>"
   ]
  },
  {
   "cell_type": "code",
   "execution_count": 2,
   "id": "fbedd993-b081-45e3-b492-94d841d01e9c",
   "metadata": {},
   "outputs": [],
   "source": [
    "def listar_archivos_eliminables_en_directorio():\n",
    "    import os\n",
    "    \n",
    "    listado_de_archivos = os.listdir(directory)\n",
    "    \n",
    "    archivos_eliminables = [archivo for archivo in listado_de_archivos if '.git' not in archivo]\n",
    "    \n",
    "    return archivos_eliminables\n",
    "    \n",
    "def eliminar_archivos_directorio():\n",
    "    import os\n",
    "    \n",
    "    lista_de_archivos_eliminables = listar_archivos_eliminables_en_directorio()\n",
    "    \n",
    "    for archivo in lista_de_archivos_eliminables:\n",
    "        os.remove(archivo)\n",
    "        pass\n",
    "        \n",
    "    return 'Eliminacion Completada con Exito!!! de {lista_de_archivos_eliminables}'.format(lista_de_archivos_eliminables=lista_de_archivos_eliminables)"
   ]
  },
  {
   "cell_type": "markdown",
   "id": "746ac216-782a-4928-b5b0-f8ddb17c8523",
   "metadata": {},
   "source": [
    "# <center> EJECUTAR COMANDOS SHELL DESDE FUNCION PYTHON</center>"
   ]
  },
  {
   "cell_type": "code",
   "execution_count": 3,
   "id": "9048c958-a13b-4a78-a4ea-d114c3ce03ca",
   "metadata": {
    "tags": []
   },
   "outputs": [],
   "source": [
    "import subprocess\n",
    "\n",
    "def ejecutar_comando_shell(comando='git branch', response=False):\n",
    "\n",
    "    resultado_comando_ejecutado = subprocess.check_output(comando, shell=True, text=True)\n",
    "    print('############################################# COMANDO A EJECUTAR #############################################')\n",
    "    print(comando)\n",
    "    print('####################################### RESULTADO DE COMANDO EJECUTADO #######################################')\n",
    "    #para evitar el salto de linea usa el parametro end=''\n",
    "    print(resultado_comando_ejecutado, end='')\n",
    "    print('##############################################################################################################')\n",
    "    print()\n",
    "    if response:\n",
    "        return resultado_comando_ejecutado"
   ]
  },
  {
   "cell_type": "markdown",
   "id": "de235812-1670-4023-ad85-bbd6dd9b50de",
   "metadata": {},
   "source": [
    "# <center> FUNCION LAMBDA PARA EJECUTAR COMANDOS GIT</center>"
   ]
  },
  {
   "cell_type": "code",
   "execution_count": 4,
   "id": "b6817bb4-2f33-4200-aa99-84e8c2142711",
   "metadata": {
    "tags": []
   },
   "outputs": [],
   "source": [
    "ejecutar_comando_git = lambda comando : ejecutar_comando_shell(comando)"
   ]
  },
  {
   "cell_type": "markdown",
   "id": "48adba35-bb65-44ed-9a19-c1b3601a2c0c",
   "metadata": {},
   "source": [
    "# <center> CONSULTAR LA VERSION DE GIT</center>"
   ]
  },
  {
   "cell_type": "code",
   "execution_count": 5,
   "id": "6986167a-ad52-4662-98ab-6e74f410f922",
   "metadata": {
    "tags": []
   },
   "outputs": [
    {
     "name": "stdout",
     "output_type": "stream",
     "text": [
      "############################################# COMANDO A EJECUTAR #############################################\n",
      "git --version\n",
      "####################################### RESULTADO DE COMANDO EJECUTADO #######################################\n",
      "git version 2.25.0.windows.1\n",
      "##############################################################################################################\n",
      "\n"
     ]
    }
   ],
   "source": [
    "comando = 'git --version'\n",
    "ejecutar_comando_git(comando)"
   ]
  },
  {
   "cell_type": "markdown",
   "id": "b6dcc937-601b-4c18-a1d6-a97936e49967",
   "metadata": {},
   "source": [
    "# <center> CLONAR UN REPOSITORIO GIT</center>"
   ]
  },
  {
   "cell_type": "code",
   "execution_count": 6,
   "id": "530b7178-2808-49cd-ac28-0391d5a7a66a",
   "metadata": {
    "tags": []
   },
   "outputs": [
    {
     "name": "stdout",
     "output_type": "stream",
     "text": [
      "############################################# COMANDO A EJECUTAR #############################################\n",
      "git clone https://github.com/JorgeCardona/comandos_git.git\n",
      "####################################### RESULTADO DE COMANDO EJECUTADO #######################################\n",
      "##############################################################################################################\n",
      "\n"
     ]
    }
   ],
   "source": [
    "repositorio_base = 'https://github.com/JorgeCardona'\n",
    "nombre_del_repositorio = 'comandos_git'\n",
    "comando = 'git clone {repositorio_base}/{nombre_del_repositorio}.git'.format(repositorio_base=repositorio_base, nombre_del_repositorio=nombre_del_repositorio)\n",
    "ejecutar_comando_git(comando)"
   ]
  },
  {
   "cell_type": "markdown",
   "id": "5dfcd024-6d86-4c52-b790-e94e42e71046",
   "metadata": {},
   "source": [
    "# <center> CAMBIAR A LA CARPETA PARA TRABAJAR CON EL REPOSITORIO</center>"
   ]
  },
  {
   "cell_type": "code",
   "execution_count": 7,
   "id": "2a7e9016-54c8-4493-955a-0cb812f41020",
   "metadata": {
    "tags": []
   },
   "outputs": [
    {
     "data": {
      "text/plain": [
       "'C:\\\\z Github\\\\Git Comandos'"
      ]
     },
     "execution_count": 7,
     "metadata": {},
     "output_type": "execute_result"
    }
   ],
   "source": [
    "#importing the os module\n",
    "import os\n",
    "\n",
    "#to get the current working directory\n",
    "directory = os.getcwd()\n",
    "directory"
   ]
  },
  {
   "cell_type": "code",
   "execution_count": 8,
   "id": "7f4f4467-e9b7-482f-96f9-7412ff9af7a8",
   "metadata": {
    "tags": []
   },
   "outputs": [
    {
     "data": {
      "text/plain": [
       "'C:\\\\z Github\\\\Git Comandos\\\\comandos_git'"
      ]
     },
     "execution_count": 8,
     "metadata": {},
     "output_type": "execute_result"
    }
   ],
   "source": [
    "os.chdir('{directory}/{repository}'.format(directory=directory, repository=nombre_del_repositorio))\n",
    "directory = os.getcwd()\n",
    "directory"
   ]
  },
  {
   "cell_type": "markdown",
   "id": "4544b6a6-5c4f-4e04-a908-c5806ca6f23e",
   "metadata": {},
   "source": [
    "# <center> MOSTRAR INFORMACION DEL REPOSITORIO</center>"
   ]
  },
  {
   "cell_type": "code",
   "execution_count": 9,
   "id": "4e3ba9e5-27bd-40b6-bf9c-996f26f8d65f",
   "metadata": {
    "tags": []
   },
   "outputs": [
    {
     "name": "stdout",
     "output_type": "stream",
     "text": [
      "############################################# COMANDO A EJECUTAR #############################################\n",
      "git remote show origin\n",
      "####################################### RESULTADO DE COMANDO EJECUTADO #######################################\n",
      "* remote origin\n",
      "  Fetch URL: https://github.com/JorgeCardona/comandos_git.git\n",
      "  Push  URL: https://github.com/JorgeCardona/comandos_git.git\n",
      "  HEAD branch: main\n",
      "  Remote branches:\n",
      "    branch_dos    tracked\n",
      "    branch_uno    tracked\n",
      "    main          tracked\n",
      "    multi_commits tracked\n",
      "    rebase_branch tracked\n",
      "  Local branch configured for 'git pull':\n",
      "    main merges with remote main\n",
      "  Local ref configured for 'git push':\n",
      "    main pushes to main (up to date)\n",
      "##############################################################################################################\n",
      "\n"
     ]
    }
   ],
   "source": [
    "comando = 'git remote show origin'\n",
    "ejecutar_comando_git(comando)"
   ]
  },
  {
   "cell_type": "markdown",
   "id": "a3726874-d7c6-460d-b9c0-fa4cdf3ec6ed",
   "metadata": {},
   "source": [
    "# <center> LISTAR LAS RAMAS DE UN REPOSITORIO </center>"
   ]
  },
  {
   "cell_type": "markdown",
   "id": "4f24ef50-f1c6-4daf-879d-dfecf0934268",
   "metadata": {},
   "source": [
    "### LISTA TODAS LAS RAMAS LOCALES Y LA RAMA PRINCIPAL DEL REPOSITORIO"
   ]
  },
  {
   "cell_type": "code",
   "execution_count": 10,
   "id": "6e2f6bcb-70a1-4151-bd65-0d3820f4cfd7",
   "metadata": {
    "tags": []
   },
   "outputs": [
    {
     "name": "stdout",
     "output_type": "stream",
     "text": [
      "############################################# COMANDO A EJECUTAR #############################################\n",
      "git branch\n",
      "####################################### RESULTADO DE COMANDO EJECUTADO #######################################\n",
      "* main\n",
      "##############################################################################################################\n",
      "\n"
     ]
    }
   ],
   "source": [
    "comando = 'git branch'\n",
    "ejecutar_comando_git(comando)"
   ]
  },
  {
   "cell_type": "markdown",
   "id": "3a9c0795-d684-4571-a99d-d1d6203059f1",
   "metadata": {},
   "source": [
    "### LISTA TODAS LAS RAMAS REMOTAS DEL REPOSITORIO"
   ]
  },
  {
   "cell_type": "code",
   "execution_count": 11,
   "id": "acb38610-f643-4c0e-b9e8-dec9c7a3d99e",
   "metadata": {
    "tags": []
   },
   "outputs": [
    {
     "name": "stdout",
     "output_type": "stream",
     "text": [
      "############################################# COMANDO A EJECUTAR #############################################\n",
      "git branch -r\n",
      "####################################### RESULTADO DE COMANDO EJECUTADO #######################################\n",
      "  origin/HEAD -> origin/main\n",
      "  origin/branch_dos\n",
      "  origin/branch_uno\n",
      "  origin/main\n",
      "  origin/multi_commits\n",
      "  origin/rebase_branch\n",
      "##############################################################################################################\n",
      "\n"
     ]
    }
   ],
   "source": [
    "comando = 'git branch -r'\n",
    "ejecutar_comando_git(comando)"
   ]
  },
  {
   "cell_type": "markdown",
   "id": "ccc455dd-2361-4e82-be84-66d06caa3eb5",
   "metadata": {},
   "source": [
    "### LISTA TODAS LAS RAMAS LOCALES INCLUYENDO LAS RAMAS OCULTAS"
   ]
  },
  {
   "cell_type": "code",
   "execution_count": 12,
   "id": "486db217-0bcd-446e-bde5-147cd9c30da6",
   "metadata": {
    "tags": []
   },
   "outputs": [
    {
     "name": "stdout",
     "output_type": "stream",
     "text": [
      "############################################# COMANDO A EJECUTAR #############################################\n",
      "git branch -a\n",
      "####################################### RESULTADO DE COMANDO EJECUTADO #######################################\n",
      "* main\n",
      "  remotes/origin/HEAD -> origin/main\n",
      "  remotes/origin/branch_dos\n",
      "  remotes/origin/branch_uno\n",
      "  remotes/origin/main\n",
      "  remotes/origin/multi_commits\n",
      "  remotes/origin/rebase_branch\n",
      "##############################################################################################################\n",
      "\n"
     ]
    }
   ],
   "source": [
    "comando = 'git branch -a'\n",
    "ejecutar_comando_git(comando)"
   ]
  },
  {
   "cell_type": "markdown",
   "id": "5fcd971b-1561-4d6b-ae04-5cd81ee1c441",
   "metadata": {},
   "source": [
    "# <center> CREAR UNA RAMA BASADA EN LA RAMA ACTUAL DE UN REPOSITORIO</center>"
   ]
  },
  {
   "cell_type": "code",
   "execution_count": 13,
   "id": "ff0c31d3-bd06-4a96-834c-53d69890a4f3",
   "metadata": {
    "tags": []
   },
   "outputs": [
    {
     "name": "stdout",
     "output_type": "stream",
     "text": [
      "############################################# COMANDO A EJECUTAR #############################################\n",
      "git branch nueva_rama\n",
      "####################################### RESULTADO DE COMANDO EJECUTADO #######################################\n",
      "##############################################################################################################\n",
      "\n",
      "############################################# COMANDO A EJECUTAR #############################################\n",
      "git branch\n",
      "####################################### RESULTADO DE COMANDO EJECUTADO #######################################\n",
      "* main\n",
      "  nueva_rama\n",
      "##############################################################################################################\n",
      "\n"
     ]
    }
   ],
   "source": [
    "comando = 'git branch nueva_rama'\n",
    "ejecutar_comando_git(comando)\n",
    "ejecutar_comando_shell()"
   ]
  },
  {
   "cell_type": "markdown",
   "id": "5dd7647e-4eea-4a1c-bfd5-c6fe2dc00ca7",
   "metadata": {},
   "source": [
    "# <center> CAMBIAR A OTRA RAMA DEL REPOSITORIO</center>"
   ]
  },
  {
   "cell_type": "code",
   "execution_count": 14,
   "id": "d2c67bc1-51d3-4e66-adca-cda41a4316fa",
   "metadata": {
    "tags": []
   },
   "outputs": [
    {
     "name": "stdout",
     "output_type": "stream",
     "text": [
      "############################################# COMANDO A EJECUTAR #############################################\n",
      "git checkout nueva_rama\n",
      "####################################### RESULTADO DE COMANDO EJECUTADO #######################################\n",
      "##############################################################################################################\n",
      "\n",
      "############################################# COMANDO A EJECUTAR #############################################\n",
      "git branch\n",
      "####################################### RESULTADO DE COMANDO EJECUTADO #######################################\n",
      "  main\n",
      "* nueva_rama\n",
      "##############################################################################################################\n",
      "\n"
     ]
    }
   ],
   "source": [
    "comando = 'git checkout nueva_rama'\n",
    "ejecutar_comando_git(comando)\n",
    "ejecutar_comando_shell()"
   ]
  },
  {
   "cell_type": "markdown",
   "id": "4d054142-e43e-4d05-83e4-3230eb96f0da",
   "metadata": {},
   "source": [
    "# <center> CREAR UNA RAMA BASADA EN LA ACTUAL Y CAMBIA A LA RAMA CREADA AL MISMO TIEMPO</center>"
   ]
  },
  {
   "cell_type": "code",
   "execution_count": 15,
   "id": "accb84e5-5900-4379-97d9-4cc91f3c8480",
   "metadata": {
    "tags": []
   },
   "outputs": [
    {
     "name": "stdout",
     "output_type": "stream",
     "text": [
      "############################################# COMANDO A EJECUTAR #############################################\n",
      "git checkout -b rama_acceso_rapido\n",
      "####################################### RESULTADO DE COMANDO EJECUTADO #######################################\n",
      "##############################################################################################################\n",
      "\n",
      "############################################# COMANDO A EJECUTAR #############################################\n",
      "git branch\n",
      "####################################### RESULTADO DE COMANDO EJECUTADO #######################################\n",
      "  main\n",
      "  nueva_rama\n",
      "* rama_acceso_rapido\n",
      "##############################################################################################################\n",
      "\n"
     ]
    }
   ],
   "source": [
    "comando = 'git checkout -b rama_acceso_rapido'\n",
    "ejecutar_comando_git(comando)\n",
    "ejecutar_comando_shell()"
   ]
  },
  {
   "cell_type": "markdown",
   "id": "4ce22640-89a5-457a-acab-337cf47dc60a",
   "metadata": {},
   "source": [
    "# <center> CREAR NUEVA RAMA LOCAL DE UNA RAMA REMOTA</center>"
   ]
  },
  {
   "cell_type": "code",
   "execution_count": 16,
   "id": "cef10060-f05f-411f-9347-d5fdf78e568c",
   "metadata": {
    "tags": []
   },
   "outputs": [
    {
     "name": "stdout",
     "output_type": "stream",
     "text": [
      "############################################# COMANDO A EJECUTAR #############################################\n",
      "git checkout -b multi_commits_copia origin/multi_commits\n",
      "####################################### RESULTADO DE COMANDO EJECUTADO #######################################\n",
      "Branch 'multi_commits_copia' set up to track remote branch 'multi_commits' from 'origin'.\n",
      "##############################################################################################################\n",
      "\n",
      "############################################# COMANDO A EJECUTAR #############################################\n",
      "git branch\n",
      "####################################### RESULTADO DE COMANDO EJECUTADO #######################################\n",
      "  main\n",
      "* multi_commits_copia\n",
      "  nueva_rama\n",
      "  rama_acceso_rapido\n",
      "##############################################################################################################\n",
      "\n"
     ]
    }
   ],
   "source": [
    "nombre_rama_remota = 'multi_commits'\n",
    "copia_rama_remota = '{nombre_rama_remota}_copia'.format(nombre_rama_remota=nombre_rama_remota)\n",
    "comando = 'git checkout -b {copia_rama_remota} origin/{nombre_rama_remota}'.format(copia_rama_remota=copia_rama_remota, nombre_rama_remota=nombre_rama_remota)\n",
    "ejecutar_comando_git(comando)\n",
    "ejecutar_comando_shell()"
   ]
  },
  {
   "cell_type": "markdown",
   "id": "04bea22a-3a54-4b3d-8260-169d7d939a6c",
   "metadata": {},
   "source": [
    "# <center> DESCARGAR RAMA REMOTA A LOCAL Y CAMBIAR A LA RAMA BAJADA AL MISMO TIEMPO</center>"
   ]
  },
  {
   "cell_type": "code",
   "execution_count": 17,
   "id": "2b8741a5-f633-4445-b579-ce199444f520",
   "metadata": {
    "tags": []
   },
   "outputs": [
    {
     "name": "stdout",
     "output_type": "stream",
     "text": [
      "############################################# COMANDO A EJECUTAR #############################################\n",
      "git checkout -t origin/multi_commits\n",
      "####################################### RESULTADO DE COMANDO EJECUTADO #######################################\n",
      "Branch 'multi_commits' set up to track remote branch 'multi_commits' from 'origin'.\n",
      "##############################################################################################################\n",
      "\n",
      "############################################# COMANDO A EJECUTAR #############################################\n",
      "git branch\n",
      "####################################### RESULTADO DE COMANDO EJECUTADO #######################################\n",
      "  main\n",
      "* multi_commits\n",
      "  multi_commits_copia\n",
      "  nueva_rama\n",
      "  rama_acceso_rapido\n",
      "##############################################################################################################\n",
      "\n"
     ]
    }
   ],
   "source": [
    "comando = 'git checkout -t origin/{nombre_rama_remota}'.format(nombre_rama_remota=nombre_rama_remota)\n",
    "ejecutar_comando_git(comando)\n",
    "ejecutar_comando_shell()"
   ]
  },
  {
   "cell_type": "markdown",
   "id": "8a659043-509a-4ed5-9f8f-55896c0e68b1",
   "metadata": {},
   "source": [
    "# <center> RENOMBRAR UNA RAMA DEL REPOSITORIO</center>"
   ]
  },
  {
   "cell_type": "code",
   "execution_count": 18,
   "id": "f0a3c692-e941-4491-88b3-cc8d0016f3e2",
   "metadata": {
    "tags": []
   },
   "outputs": [
    {
     "name": "stdout",
     "output_type": "stream",
     "text": [
      "############################################# COMANDO A EJECUTAR #############################################\n",
      "git checkout multi_commits_copia\n",
      "####################################### RESULTADO DE COMANDO EJECUTADO #######################################\n",
      "Your branch is up to date with 'origin/multi_commits'.\n",
      "##############################################################################################################\n",
      "\n",
      "############################################# COMANDO A EJECUTAR #############################################\n",
      "git branch -m nueva_rama nueva_rama_renombrada\n",
      "####################################### RESULTADO DE COMANDO EJECUTADO #######################################\n",
      "##############################################################################################################\n",
      "\n",
      "############################################# COMANDO A EJECUTAR #############################################\n",
      "git branch --move rama_acceso_rapido rama_acceso_rapido_renombrada\n",
      "####################################### RESULTADO DE COMANDO EJECUTADO #######################################\n",
      "##############################################################################################################\n",
      "\n",
      "############################################# COMANDO A EJECUTAR #############################################\n",
      "git branch\n",
      "####################################### RESULTADO DE COMANDO EJECUTADO #######################################\n",
      "  main\n",
      "  multi_commits\n",
      "* multi_commits_copia\n",
      "  nueva_rama_renombrada\n",
      "  rama_acceso_rapido_renombrada\n",
      "##############################################################################################################\n",
      "\n"
     ]
    }
   ],
   "source": [
    "comando = 'git checkout {copia_rama_remota}'.format(copia_rama_remota=copia_rama_remota)\n",
    "ejecutar_comando_git(comando)\n",
    "\n",
    "comando = 'git branch -m nueva_rama nueva_rama_renombrada'\n",
    "ejecutar_comando_git(comando)\n",
    "\n",
    "# Alternativa\n",
    "comando = 'git branch --move rama_acceso_rapido rama_acceso_rapido_renombrada'\n",
    "ejecutar_comando_git(comando)\n",
    "\n",
    "ejecutar_comando_shell()"
   ]
  },
  {
   "cell_type": "markdown",
   "id": "4a3fabd1-29f8-4918-bdfd-3d227988fea2",
   "metadata": {},
   "source": [
    "# <center> COMPARAR LA DIFERENCIA EN CONTENIDO ENTRE 2 RAMAS COMMITs DE UN REPOSITORIO</center>"
   ]
  },
  {
   "cell_type": "code",
   "execution_count": 19,
   "id": "74f6794e-30f7-41b9-a138-b88fcfca5542",
   "metadata": {
    "tags": []
   },
   "outputs": [
    {
     "name": "stdout",
     "output_type": "stream",
     "text": [
      "############################################# COMANDO A EJECUTAR #############################################\n",
      "git diff main multi_commits\n",
      "####################################### RESULTADO DE COMANDO EJECUTADO #######################################\n",
      "diff --git a/archivo.csv b/archivo.csv\n",
      "new file mode 100644\n",
      "index 0000000..e69de29\n",
      "diff --git a/archivo.pdf b/archivo.pdf\n",
      "new file mode 100644\n",
      "index 0000000..31a8a6a\n",
      "--- /dev/null\n",
      "+++ b/archivo.pdf\n",
      "@@ -0,0 +1 @@\n",
      "+\f",
      "\n",
      "\\ No newline at end of file\n",
      "diff --git a/archivo.xlsx b/archivo.xlsx\n",
      "new file mode 100644\n",
      "index 0000000..53f0f1e\n",
      "Binary files /dev/null and b/archivo.xlsx differ\n",
      "diff --git a/index.html b/index.html\n",
      "new file mode 100644\n",
      "index 0000000..e69de29\n",
      "##############################################################################################################\n",
      "\n"
     ]
    }
   ],
   "source": [
    "# confirmar al repositorio remoto el reset\n",
    "comando = 'git diff main multi_commits'\n",
    "ejecutar_comando_git(comando)"
   ]
  },
  {
   "cell_type": "markdown",
   "id": "0d81a177-e2e4-43ca-8c10-dbb6d34d1bdb",
   "metadata": {},
   "source": [
    "# <center> RESTAURAR O RECUPERAR ARCHIVOS MODIFICADOS O ELIMINADOS DE UN REPOSITORIO GIT <br> SOLO MODIFICACIONES EN REPOSITORIO LOCAL, BASADO EN EL ULTIMO COMMIT <br/></center>"
   ]
  },
  {
   "cell_type": "code",
   "execution_count": 20,
   "id": "2b421eb8-6750-444b-8ab2-f5cf9b0a7969",
   "metadata": {
    "scrolled": true,
    "tags": []
   },
   "outputs": [
    {
     "name": "stdout",
     "output_type": "stream",
     "text": [
      "lista_de_archivos = ['info.txt', 'Dockerfile', 'Manifest.yaml', 'imagen.png', 'main.py', 'connection.java', 'calculos.c', 'addon.php', 'utils.gif', 'query.sql', 'dataset.avro', 'link.vs']\n",
      "############################################# COMANDO A EJECUTAR #############################################\n",
      "echo 1679202387.48172 >> info.txt\n",
      "####################################### RESULTADO DE COMANDO EJECUTADO #######################################\n",
      "##############################################################################################################\n",
      "\n",
      "############################################# COMANDO A EJECUTAR #############################################\n",
      "echo 1679202387.502543 >> Dockerfile\n",
      "####################################### RESULTADO DE COMANDO EJECUTADO #######################################\n",
      "##############################################################################################################\n",
      "\n",
      "############################################# COMANDO A EJECUTAR #############################################\n",
      "echo 1679202387.513647 >> Manifest.yaml\n",
      "####################################### RESULTADO DE COMANDO EJECUTADO #######################################\n",
      "##############################################################################################################\n",
      "\n",
      "############################################# COMANDO A EJECUTAR #############################################\n",
      "echo 1679202387.524585 >> imagen.png\n",
      "####################################### RESULTADO DE COMANDO EJECUTADO #######################################\n",
      "##############################################################################################################\n",
      "\n",
      "############################################# COMANDO A EJECUTAR #############################################\n",
      "echo 1679202387.535312 >> main.py\n",
      "####################################### RESULTADO DE COMANDO EJECUTADO #######################################\n",
      "##############################################################################################################\n",
      "\n",
      "############################################# COMANDO A EJECUTAR #############################################\n",
      "echo 1679202387.545638 >> connection.java\n",
      "####################################### RESULTADO DE COMANDO EJECUTADO #######################################\n",
      "##############################################################################################################\n",
      "\n",
      "############################################# COMANDO A EJECUTAR #############################################\n",
      "echo 1679202387.557609 >> calculos.c\n",
      "####################################### RESULTADO DE COMANDO EJECUTADO #######################################\n",
      "##############################################################################################################\n",
      "\n",
      "############################################# COMANDO A EJECUTAR #############################################\n",
      "echo 1679202387.569473 >> addon.php\n",
      "####################################### RESULTADO DE COMANDO EJECUTADO #######################################\n",
      "##############################################################################################################\n",
      "\n",
      "############################################# COMANDO A EJECUTAR #############################################\n",
      "echo 1679202387.577239 >> utils.gif\n",
      "####################################### RESULTADO DE COMANDO EJECUTADO #######################################\n",
      "##############################################################################################################\n",
      "\n",
      "############################################# COMANDO A EJECUTAR #############################################\n",
      "echo 1679202387.586732 >> query.sql\n",
      "####################################### RESULTADO DE COMANDO EJECUTADO #######################################\n",
      "##############################################################################################################\n",
      "\n",
      "############################################# COMANDO A EJECUTAR #############################################\n",
      "echo 1679202387.598243 >> dataset.avro\n",
      "####################################### RESULTADO DE COMANDO EJECUTADO #######################################\n",
      "##############################################################################################################\n",
      "\n",
      "############################################# COMANDO A EJECUTAR #############################################\n",
      "echo 1679202387.607559 >> link.vs\n",
      "####################################### RESULTADO DE COMANDO EJECUTADO #######################################\n",
      "##############################################################################################################\n",
      "\n"
     ]
    },
    {
     "data": {
      "text/plain": [
       "['info.txt',\n",
       " 'Dockerfile',\n",
       " 'Manifest.yaml',\n",
       " 'imagen.png',\n",
       " 'main.py',\n",
       " 'connection.java',\n",
       " 'calculos.c',\n",
       " 'addon.php',\n",
       " 'utils.gif',\n",
       " 'query.sql',\n",
       " 'dataset.avro',\n",
       " 'link.vs']"
      ]
     },
     "execution_count": 20,
     "metadata": {},
     "output_type": "execute_result"
    }
   ],
   "source": [
    "generar_archivos()"
   ]
  },
  {
   "cell_type": "code",
   "execution_count": 21,
   "id": "9b405222-61c6-426f-8edf-49d83352b5cd",
   "metadata": {
    "tags": []
   },
   "outputs": [
    {
     "data": {
      "text/plain": [
       "\"Eliminacion Completada con Exito!!! de ['addon.php', 'archivo.csv', 'archivo.pdf', 'archivo.xlsx', 'calculos.c', 'config.json', 'connection.java', 'dataset.avro', 'Dockerfile', 'imagen.png', 'index.html', 'info.txt', 'LICENSE', 'link.vs', 'main.py', 'Manifest.yaml', 'query.sql', 'README.md', 'requirements.txt', 'utils.gif']\""
      ]
     },
     "execution_count": 21,
     "metadata": {},
     "output_type": "execute_result"
    }
   ],
   "source": [
    "eliminar_archivos_directorio()"
   ]
  },
  {
   "cell_type": "markdown",
   "id": "ec2b7910-181d-4ad4-a3b9-85fe48458802",
   "metadata": {},
   "source": [
    "### RESTAURAR UN ARCHIVO ESPECIFICO"
   ]
  },
  {
   "cell_type": "code",
   "execution_count": 22,
   "id": "c18daf65-8f3e-428b-908a-1d2f6369052a",
   "metadata": {
    "tags": []
   },
   "outputs": [
    {
     "name": "stdout",
     "output_type": "stream",
     "text": [
      "############################################# COMANDO A EJECUTAR #############################################\n",
      "git restore LICENSE\n",
      "####################################### RESULTADO DE COMANDO EJECUTADO #######################################\n",
      "##############################################################################################################\n",
      "\n"
     ]
    }
   ],
   "source": [
    "comando = 'git restore LICENSE'\n",
    "ejecutar_comando_git(comando)"
   ]
  },
  {
   "cell_type": "markdown",
   "id": "8874b7b6-3f5e-4d30-89b7-1e105bef1b3e",
   "metadata": {},
   "source": [
    "### RESTAURAR TODOS LOS ARCHIVOS AL MISMO TIEMPO"
   ]
  },
  {
   "cell_type": "code",
   "execution_count": 23,
   "id": "39858306-067e-4400-84ef-5d07916e6dcf",
   "metadata": {
    "tags": []
   },
   "outputs": [
    {
     "name": "stdout",
     "output_type": "stream",
     "text": [
      "############################################# COMANDO A EJECUTAR #############################################\n",
      "git restore .\n",
      "####################################### RESULTADO DE COMANDO EJECUTADO #######################################\n",
      "##############################################################################################################\n",
      "\n"
     ]
    }
   ],
   "source": [
    "comando = 'git restore .'\n",
    "ejecutar_comando_git(comando)"
   ]
  },
  {
   "cell_type": "markdown",
   "id": "814b933e-bd2e-405e-9381-2da85a675511",
   "metadata": {},
   "source": [
    "# <center> VERIFICAR EL ESTADO DE LOS ARCHIVOS EN UN REPOSITORIO GIT</center>"
   ]
  },
  {
   "cell_type": "code",
   "execution_count": 24,
   "id": "4f9c3883-9b2e-4bb5-a8b8-eb33901a3bed",
   "metadata": {
    "scrolled": true,
    "tags": []
   },
   "outputs": [
    {
     "name": "stdout",
     "output_type": "stream",
     "text": [
      "lista_de_archivos = ['info.txt', 'Dockerfile', 'Manifest.yaml', 'imagen.png', 'main.py', 'connection.java', 'calculos.c', 'addon.php', 'utils.gif', 'query.sql', 'dataset.avro', 'link.vs']\n",
      "############################################# COMANDO A EJECUTAR #############################################\n",
      "echo 1679202397.858661 >> info.txt\n",
      "####################################### RESULTADO DE COMANDO EJECUTADO #######################################\n",
      "##############################################################################################################\n",
      "\n",
      "############################################# COMANDO A EJECUTAR #############################################\n",
      "echo 1679202397.881362 >> Dockerfile\n",
      "####################################### RESULTADO DE COMANDO EJECUTADO #######################################\n",
      "##############################################################################################################\n",
      "\n",
      "############################################# COMANDO A EJECUTAR #############################################\n",
      "echo 1679202397.892757 >> Manifest.yaml\n",
      "####################################### RESULTADO DE COMANDO EJECUTADO #######################################\n",
      "##############################################################################################################\n",
      "\n",
      "############################################# COMANDO A EJECUTAR #############################################\n",
      "echo 1679202397.90342 >> imagen.png\n",
      "####################################### RESULTADO DE COMANDO EJECUTADO #######################################\n",
      "##############################################################################################################\n",
      "\n",
      "############################################# COMANDO A EJECUTAR #############################################\n",
      "echo 1679202397.914603 >> main.py\n",
      "####################################### RESULTADO DE COMANDO EJECUTADO #######################################\n",
      "##############################################################################################################\n",
      "\n",
      "############################################# COMANDO A EJECUTAR #############################################\n",
      "echo 1679202397.92421 >> connection.java\n",
      "####################################### RESULTADO DE COMANDO EJECUTADO #######################################\n",
      "##############################################################################################################\n",
      "\n",
      "############################################# COMANDO A EJECUTAR #############################################\n",
      "echo 1679202397.935599 >> calculos.c\n",
      "####################################### RESULTADO DE COMANDO EJECUTADO #######################################\n",
      "##############################################################################################################\n",
      "\n",
      "############################################# COMANDO A EJECUTAR #############################################\n",
      "echo 1679202397.944712 >> addon.php\n",
      "####################################### RESULTADO DE COMANDO EJECUTADO #######################################\n",
      "##############################################################################################################\n",
      "\n",
      "############################################# COMANDO A EJECUTAR #############################################\n",
      "echo 1679202397.953525 >> utils.gif\n",
      "####################################### RESULTADO DE COMANDO EJECUTADO #######################################\n",
      "##############################################################################################################\n",
      "\n",
      "############################################# COMANDO A EJECUTAR #############################################\n",
      "echo 1679202397.963494 >> query.sql\n",
      "####################################### RESULTADO DE COMANDO EJECUTADO #######################################\n",
      "##############################################################################################################\n",
      "\n",
      "############################################# COMANDO A EJECUTAR #############################################\n",
      "echo 1679202397.97311 >> dataset.avro\n",
      "####################################### RESULTADO DE COMANDO EJECUTADO #######################################\n",
      "##############################################################################################################\n",
      "\n",
      "############################################# COMANDO A EJECUTAR #############################################\n",
      "echo 1679202397.983931 >> link.vs\n",
      "####################################### RESULTADO DE COMANDO EJECUTADO #######################################\n",
      "##############################################################################################################\n",
      "\n"
     ]
    },
    {
     "data": {
      "text/plain": [
       "['info.txt',\n",
       " 'Dockerfile',\n",
       " 'Manifest.yaml',\n",
       " 'imagen.png',\n",
       " 'main.py',\n",
       " 'connection.java',\n",
       " 'calculos.c',\n",
       " 'addon.php',\n",
       " 'utils.gif',\n",
       " 'query.sql',\n",
       " 'dataset.avro',\n",
       " 'link.vs']"
      ]
     },
     "execution_count": 24,
     "metadata": {},
     "output_type": "execute_result"
    }
   ],
   "source": [
    "generar_archivos()"
   ]
  },
  {
   "cell_type": "code",
   "execution_count": 25,
   "id": "8276d8a7-f83e-45b3-9293-fdbe43754c8f",
   "metadata": {
    "tags": []
   },
   "outputs": [
    {
     "name": "stdout",
     "output_type": "stream",
     "text": [
      "############################################# COMANDO A EJECUTAR #############################################\n",
      "git status\n",
      "####################################### RESULTADO DE COMANDO EJECUTADO #######################################\n",
      "On branch multi_commits_copia\n",
      "Your branch is up to date with 'origin/multi_commits'.\n",
      "\n",
      "Untracked files:\n",
      "  (use \"git add <file>...\" to include in what will be committed)\n",
      "\tDockerfile\n",
      "\tManifest.yaml\n",
      "\taddon.php\n",
      "\tcalculos.c\n",
      "\tconnection.java\n",
      "\tdataset.avro\n",
      "\timagen.png\n",
      "\tinfo.txt\n",
      "\tlink.vs\n",
      "\tmain.py\n",
      "\tquery.sql\n",
      "\tutils.gif\n",
      "\n",
      "nothing added to commit but untracked files present (use \"git add\" to track)\n",
      "##############################################################################################################\n",
      "\n"
     ]
    }
   ],
   "source": [
    "comando = 'git status'\n",
    "ejecutar_comando_git(comando)"
   ]
  },
  {
   "cell_type": "markdown",
   "id": "66ee16b9-d63f-49be-bec7-c2bcff0c3534",
   "metadata": {},
   "source": [
    "# <center> AGREGAR CAMBIOS DE ARCHIVOS A UN REPOSITORIO GIT</center>"
   ]
  },
  {
   "cell_type": "markdown",
   "id": "2b46c004-d7b1-40f1-b3b6-c53df14bddbd",
   "metadata": {},
   "source": [
    "### AGREGAR EL CAMBIO DE UN ARCHIVO O UN SOLO ARCHIVO NUEVO"
   ]
  },
  {
   "cell_type": "code",
   "execution_count": 26,
   "id": "f2b9f474-f56e-4d23-a5ee-574736d4e663",
   "metadata": {
    "tags": []
   },
   "outputs": [
    {
     "name": "stdout",
     "output_type": "stream",
     "text": [
      "############################################# COMANDO A EJECUTAR #############################################\n",
      "git add info.txt\n",
      "####################################### RESULTADO DE COMANDO EJECUTADO #######################################\n",
      "##############################################################################################################\n",
      "\n",
      "############################################# COMANDO A EJECUTAR #############################################\n",
      "git status\n",
      "####################################### RESULTADO DE COMANDO EJECUTADO #######################################\n",
      "On branch multi_commits_copia\n",
      "Your branch is up to date with 'origin/multi_commits'.\n",
      "\n",
      "Changes to be committed:\n",
      "  (use \"git restore --staged <file>...\" to unstage)\n",
      "\tnew file:   info.txt\n",
      "\n",
      "Untracked files:\n",
      "  (use \"git add <file>...\" to include in what will be committed)\n",
      "\tDockerfile\n",
      "\tManifest.yaml\n",
      "\taddon.php\n",
      "\tcalculos.c\n",
      "\tconnection.java\n",
      "\tdataset.avro\n",
      "\timagen.png\n",
      "\tlink.vs\n",
      "\tmain.py\n",
      "\tquery.sql\n",
      "\tutils.gif\n",
      "\n",
      "##############################################################################################################\n",
      "\n"
     ]
    }
   ],
   "source": [
    "comando = 'git add info.txt'\n",
    "ejecutar_comando_git(comando)\n",
    "\n",
    "comando = 'git status'\n",
    "ejecutar_comando_git(comando)"
   ]
  },
  {
   "cell_type": "markdown",
   "id": "c2231766-2b96-4e76-8d7a-421fbb4fb60e",
   "metadata": {},
   "source": [
    "### AGREGAR LOS CAMBIOS DE TODOS LOS ARCHIVOS O TODOS LOS CAMBIOS Y ARCHIVOS NUEVOS"
   ]
  },
  {
   "cell_type": "code",
   "execution_count": 27,
   "id": "7eb80289-128b-4a26-a9e8-d699ad902b03",
   "metadata": {
    "tags": []
   },
   "outputs": [
    {
     "name": "stdout",
     "output_type": "stream",
     "text": [
      "############################################# COMANDO A EJECUTAR #############################################\n",
      "git add .\n",
      "####################################### RESULTADO DE COMANDO EJECUTADO #######################################\n",
      "##############################################################################################################\n",
      "\n",
      "############################################# COMANDO A EJECUTAR #############################################\n",
      "git status\n",
      "####################################### RESULTADO DE COMANDO EJECUTADO #######################################\n",
      "On branch multi_commits_copia\n",
      "Your branch is up to date with 'origin/multi_commits'.\n",
      "\n",
      "Changes to be committed:\n",
      "  (use \"git restore --staged <file>...\" to unstage)\n",
      "\tnew file:   Dockerfile\n",
      "\tnew file:   Manifest.yaml\n",
      "\tnew file:   addon.php\n",
      "\tnew file:   calculos.c\n",
      "\tnew file:   connection.java\n",
      "\tnew file:   dataset.avro\n",
      "\tnew file:   imagen.png\n",
      "\tnew file:   info.txt\n",
      "\tnew file:   link.vs\n",
      "\tnew file:   main.py\n",
      "\tnew file:   query.sql\n",
      "\tnew file:   utils.gif\n",
      "\n",
      "##############################################################################################################\n",
      "\n",
      "############################################# COMANDO A EJECUTAR #############################################\n",
      "git branch\n",
      "####################################### RESULTADO DE COMANDO EJECUTADO #######################################\n",
      "  main\n",
      "  multi_commits\n",
      "* multi_commits_copia\n",
      "  nueva_rama_renombrada\n",
      "  rama_acceso_rapido_renombrada\n",
      "##############################################################################################################\n",
      "\n"
     ]
    }
   ],
   "source": [
    "comando = 'git add .'\n",
    "ejecutar_comando_git(comando)\n",
    "\n",
    "comando = 'git status'\n",
    "ejecutar_comando_git(comando)\n",
    "\n",
    "ejecutar_comando_shell()"
   ]
  },
  {
   "cell_type": "markdown",
   "id": "151676ec-6f24-4bcb-a062-cc51a6827469",
   "metadata": {},
   "source": [
    "# <center> HACER COMMIT A UN REPOSITORIO GIT</center>"
   ]
  },
  {
   "cell_type": "code",
   "execution_count": 28,
   "id": "a8fa9105-e039-4f97-b7b5-837f1d154711",
   "metadata": {
    "tags": []
   },
   "outputs": [
    {
     "name": "stdout",
     "output_type": "stream",
     "text": [
      "[multi_commits_copia 3373ddc] adicionados archivo de prueba\n",
      " 12 files changed, 12 insertions(+)\n",
      " create mode 100644 Dockerfile\n",
      " create mode 100644 Manifest.yaml\n",
      " create mode 100644 addon.php\n",
      " create mode 100644 calculos.c\n",
      " create mode 100644 connection.java\n",
      " create mode 100644 dataset.avro\n",
      " create mode 100644 imagen.png\n",
      " create mode 100644 info.txt\n",
      " create mode 100644 link.vs\n",
      " create mode 100644 main.py\n",
      " create mode 100644 query.sql\n",
      " create mode 100644 utils.gif\n",
      "############################################# COMANDO A EJECUTAR #############################################\n",
      "git status\n",
      "####################################### RESULTADO DE COMANDO EJECUTADO #######################################\n",
      "On branch multi_commits_copia\n",
      "Your branch is ahead of 'origin/multi_commits' by 1 commit.\n",
      "  (use \"git push\" to publish your local commits)\n",
      "\n",
      "nothing to commit, working tree clean\n",
      "##############################################################################################################\n",
      "\n"
     ]
    }
   ],
   "source": [
    "# solo en este paso, al hacer el primer commit se crea la rama\n",
    "# es necesario ejecutar este comando desde aqui porque el subproceso falla al enviarle una cadena con otras comillas dentro de la cadena\n",
    "! git commit -m \"adicionados archivo de prueba\"\n",
    "\n",
    "comando = 'git status'\n",
    "ejecutar_comando_git(comando)"
   ]
  },
  {
   "cell_type": "markdown",
   "id": "3fac4a59-2441-43ec-8a45-8491b8d9d557",
   "metadata": {},
   "source": [
    "# <center> PUBLICAR UNA RAMA LOCAL QUE NO EXISTE EN REMOTO A UN REPOSITORIO GIT</center>\n",
    "https://github.com/JorgeCardona/comandos_git"
   ]
  },
  {
   "cell_type": "code",
   "execution_count": 29,
   "id": "ebb1e80d-c652-4946-9c88-f50578118fd6",
   "metadata": {
    "tags": []
   },
   "outputs": [
    {
     "name": "stdout",
     "output_type": "stream",
     "text": [
      "############################################# COMANDO A EJECUTAR #############################################\n",
      "git push --set-upstream origin multi_commits_copia\n",
      "####################################### RESULTADO DE COMANDO EJECUTADO #######################################\n",
      "Branch 'multi_commits_copia' set up to track remote branch 'multi_commits_copia' from 'origin'.\n",
      "##############################################################################################################\n",
      "\n"
     ]
    }
   ],
   "source": [
    "comando = 'git push --set-upstream origin {copia_rama_remota}'.format(copia_rama_remota=copia_rama_remota)\n",
    "ejecutar_comando_git(comando)"
   ]
  },
  {
   "cell_type": "markdown",
   "id": "f940966c-8f73-4224-907b-8360e3b8f599",
   "metadata": {},
   "source": [
    "# <center> ADICIONAR ARCHIVOS NUEVOS A LA RAMA</center>"
   ]
  },
  {
   "cell_type": "code",
   "execution_count": 30,
   "id": "2e71c11d-b2be-4529-9051-9f436105412d",
   "metadata": {
    "scrolled": true,
    "tags": []
   },
   "outputs": [
    {
     "name": "stdout",
     "output_type": "stream",
     "text": [
      "lista_de_archivos = ['info.txt', 'Dockerfile', 'Manifest.yaml', 'imagen.png', 'main.py', 'connection.java', 'calculos.c', 'addon.php', 'utils.gif', 'query.sql', 'dataset.avro', 'link.vs']\n",
      "############################################# COMANDO A EJECUTAR #############################################\n",
      "echo 1679202423.357748 >> info.txt\n",
      "####################################### RESULTADO DE COMANDO EJECUTADO #######################################\n",
      "##############################################################################################################\n",
      "\n",
      "############################################# COMANDO A EJECUTAR #############################################\n",
      "echo 1679202423.384295 >> Dockerfile\n",
      "####################################### RESULTADO DE COMANDO EJECUTADO #######################################\n",
      "##############################################################################################################\n",
      "\n",
      "############################################# COMANDO A EJECUTAR #############################################\n",
      "echo 1679202423.395224 >> Manifest.yaml\n",
      "####################################### RESULTADO DE COMANDO EJECUTADO #######################################\n",
      "##############################################################################################################\n",
      "\n",
      "############################################# COMANDO A EJECUTAR #############################################\n",
      "echo 1679202423.404867 >> imagen.png\n",
      "####################################### RESULTADO DE COMANDO EJECUTADO #######################################\n",
      "##############################################################################################################\n",
      "\n",
      "############################################# COMANDO A EJECUTAR #############################################\n",
      "echo 1679202423.41516 >> main.py\n",
      "####################################### RESULTADO DE COMANDO EJECUTADO #######################################\n",
      "##############################################################################################################\n",
      "\n",
      "############################################# COMANDO A EJECUTAR #############################################\n",
      "echo 1679202423.427545 >> connection.java\n",
      "####################################### RESULTADO DE COMANDO EJECUTADO #######################################\n",
      "##############################################################################################################\n",
      "\n",
      "############################################# COMANDO A EJECUTAR #############################################\n",
      "echo 1679202423.437977 >> calculos.c\n",
      "####################################### RESULTADO DE COMANDO EJECUTADO #######################################\n",
      "##############################################################################################################\n",
      "\n",
      "############################################# COMANDO A EJECUTAR #############################################\n",
      "echo 1679202423.445706 >> addon.php\n",
      "####################################### RESULTADO DE COMANDO EJECUTADO #######################################\n",
      "##############################################################################################################\n",
      "\n",
      "############################################# COMANDO A EJECUTAR #############################################\n",
      "echo 1679202423.453131 >> utils.gif\n",
      "####################################### RESULTADO DE COMANDO EJECUTADO #######################################\n",
      "##############################################################################################################\n",
      "\n",
      "############################################# COMANDO A EJECUTAR #############################################\n",
      "echo 1679202423.462264 >> query.sql\n",
      "####################################### RESULTADO DE COMANDO EJECUTADO #######################################\n",
      "##############################################################################################################\n",
      "\n",
      "############################################# COMANDO A EJECUTAR #############################################\n",
      "echo 1679202423.470404 >> dataset.avro\n",
      "####################################### RESULTADO DE COMANDO EJECUTADO #######################################\n",
      "##############################################################################################################\n",
      "\n",
      "############################################# COMANDO A EJECUTAR #############################################\n",
      "echo 1679202423.479241 >> link.vs\n",
      "####################################### RESULTADO DE COMANDO EJECUTADO #######################################\n",
      "##############################################################################################################\n",
      "\n"
     ]
    },
    {
     "data": {
      "text/plain": [
       "['info.txt',\n",
       " 'Dockerfile',\n",
       " 'Manifest.yaml',\n",
       " 'imagen.png',\n",
       " 'main.py',\n",
       " 'connection.java',\n",
       " 'calculos.c',\n",
       " 'addon.php',\n",
       " 'utils.gif',\n",
       " 'query.sql',\n",
       " 'dataset.avro',\n",
       " 'link.vs']"
      ]
     },
     "execution_count": 30,
     "metadata": {},
     "output_type": "execute_result"
    }
   ],
   "source": [
    "generar_archivos()"
   ]
  },
  {
   "cell_type": "markdown",
   "id": "4a76c160-71f3-4614-9623-47db78fafc0d",
   "metadata": {},
   "source": [
    "# SUBIR NUEVOS ARCHIVOS A UNA RAMA DEL REPOSITORIO\n",
    "https://github.com/JorgeCardona/comandos_git"
   ]
  },
  {
   "cell_type": "code",
   "execution_count": 32,
   "id": "7ee35dc3-1d4b-4dee-8e4f-2d048d5b78e6",
   "metadata": {
    "scrolled": true,
    "tags": []
   },
   "outputs": [
    {
     "name": "stdout",
     "output_type": "stream",
     "text": [
      "############################################# COMANDO A EJECUTAR #############################################\n",
      "git add .\n",
      "####################################### RESULTADO DE COMANDO EJECUTADO #######################################\n",
      "##############################################################################################################\n",
      "\n",
      "On branch multi_commits_copia\n",
      "Your branch is ahead of 'origin/multi_commits_copia' by 1 commit.\n",
      "  (use \"git push\" to publish your local commits)\n",
      "\n",
      "nothing to commit, working tree clean\n",
      "############################################# COMANDO A EJECUTAR #############################################\n",
      "git status\n",
      "####################################### RESULTADO DE COMANDO EJECUTADO #######################################\n",
      "On branch multi_commits_copia\n",
      "Your branch is ahead of 'origin/multi_commits_copia' by 1 commit.\n",
      "  (use \"git push\" to publish your local commits)\n",
      "\n",
      "nothing to commit, working tree clean\n",
      "##############################################################################################################\n",
      "\n",
      "############################################# COMANDO A EJECUTAR #############################################\n",
      "git branch\n",
      "####################################### RESULTADO DE COMANDO EJECUTADO #######################################\n",
      "  main\n",
      "  multi_commits\n",
      "* multi_commits_copia\n",
      "  nueva_rama_renombrada\n",
      "  rama_acceso_rapido_renombrada\n",
      "##############################################################################################################\n",
      "\n"
     ]
    }
   ],
   "source": [
    "comando = 'git add .'\n",
    "ejecutar_comando_git(comando)\n",
    "\n",
    "! git commit -m \"adicionados archivo de prueba\"\n",
    "\n",
    "comando = 'git status'\n",
    "ejecutar_comando_git(comando)\n",
    "\n",
    "ejecutar_comando_shell()"
   ]
  },
  {
   "cell_type": "code",
   "execution_count": 33,
   "id": "00154781-f37b-42d5-9ce0-334b0c479d0c",
   "metadata": {},
   "outputs": [
    {
     "name": "stdout",
     "output_type": "stream",
     "text": [
      "############################################# COMANDO A EJECUTAR #############################################\n",
      "git push origin\n",
      "####################################### RESULTADO DE COMANDO EJECUTADO #######################################\n",
      "##############################################################################################################\n",
      "\n"
     ]
    }
   ],
   "source": [
    "# siempre origin para repositorios remotos\n",
    "comando = 'git push origin'\n",
    "ejecutar_comando_git(comando)"
   ]
  },
  {
   "cell_type": "markdown",
   "id": "96b4bb4e-23c3-4fa4-90b5-61f1cffe772d",
   "metadata": {},
   "source": [
    "# <center> ELIMINAR UNA RAMA DE UN REPOSITORIO GIT</center>"
   ]
  },
  {
   "cell_type": "markdown",
   "id": "8a021d6c-c862-4741-b654-f2f960d35106",
   "metadata": {},
   "source": [
    "### ELIMINAR RAMA DE UN REPOSITORIO LOCAL"
   ]
  },
  {
   "cell_type": "code",
   "execution_count": 34,
   "id": "c2055b11-7dd8-4bf6-aea4-d471de329e35",
   "metadata": {
    "scrolled": true,
    "tags": []
   },
   "outputs": [
    {
     "name": "stdout",
     "output_type": "stream",
     "text": [
      "############################################# COMANDO A EJECUTAR #############################################\n",
      "git checkout main\n",
      "####################################### RESULTADO DE COMANDO EJECUTADO #######################################\n",
      "Your branch is up to date with 'origin/main'.\n",
      "##############################################################################################################\n",
      "\n",
      "############################################# COMANDO A EJECUTAR #############################################\n",
      "git branch -D nueva_rama_renombrada\n",
      "####################################### RESULTADO DE COMANDO EJECUTADO #######################################\n",
      "Deleted branch nueva_rama_renombrada (was 3b4edb5).\n",
      "##############################################################################################################\n",
      "\n",
      "############################################# COMANDO A EJECUTAR #############################################\n",
      "git branch -D rama_acceso_rapido_renombrada\n",
      "####################################### RESULTADO DE COMANDO EJECUTADO #######################################\n",
      "Deleted branch rama_acceso_rapido_renombrada (was 3b4edb5).\n",
      "##############################################################################################################\n",
      "\n",
      "############################################# COMANDO A EJECUTAR #############################################\n",
      "git branch -D multi_commits_copia\n",
      "####################################### RESULTADO DE COMANDO EJECUTADO #######################################\n",
      "Deleted branch multi_commits_copia (was eeaeb6f).\n",
      "##############################################################################################################\n",
      "\n",
      "############################################# COMANDO A EJECUTAR #############################################\n",
      "git branch\n",
      "####################################### RESULTADO DE COMANDO EJECUTADO #######################################\n",
      "* main\n",
      "  multi_commits\n",
      "##############################################################################################################\n",
      "\n"
     ]
    }
   ],
   "source": [
    "# no se puede eliminar una rama si se esta trabajando en ese monento en ella\n",
    "comando = 'git checkout main'\n",
    "ejecutar_comando_git(comando)\n",
    "\n",
    "ramas_a_eliminar = ['nueva_rama_renombrada','rama_acceso_rapido_renombrada',copia_rama_remota]\n",
    "\n",
    "# eliminar lista de ramas\n",
    "for rama in ramas_a_eliminar:\n",
    "\n",
    "    comando = 'git branch -D {rama}'.format(rama=rama)\n",
    "    ejecutar_comando_git(comando)\n",
    "\n",
    "ejecutar_comando_shell()"
   ]
  },
  {
   "cell_type": "markdown",
   "id": "52ab69e2-a9cd-4315-9f9d-c2e8808801ee",
   "metadata": {},
   "source": [
    "### ELIMINAR RAMA DE UN REPOSITORIO REMOTO\n",
    "https://github.com/JorgeCardona/comandos_git"
   ]
  },
  {
   "cell_type": "code",
   "execution_count": 35,
   "id": "f8839285-d396-4d65-a3ef-c6a1aa2e76c4",
   "metadata": {
    "tags": []
   },
   "outputs": [
    {
     "name": "stdout",
     "output_type": "stream",
     "text": [
      "############################################# COMANDO A EJECUTAR #############################################\n",
      "git push origin -d multi_commits_copia\n",
      "####################################### RESULTADO DE COMANDO EJECUTADO #######################################\n",
      "##############################################################################################################\n",
      "\n"
     ]
    }
   ],
   "source": [
    "comando = 'git push origin -d {copia_rama_remota}'.format(copia_rama_remota=copia_rama_remota)\n",
    "ejecutar_comando_git(comando)"
   ]
  },
  {
   "cell_type": "markdown",
   "id": "708c0fc6-1c94-4bd3-b237-c336fdc408ae",
   "metadata": {},
   "source": [
    "# <center> LISTAR EL HISTORIAL DE COMMITS DE UN REPOSITORIO GIT</center>"
   ]
  },
  {
   "cell_type": "markdown",
   "id": "03c490cf-5706-4b76-aa55-b47ba6dc5771",
   "metadata": {},
   "source": [
    "### VER HISTORIAL RAMA MAIN"
   ]
  },
  {
   "cell_type": "code",
   "execution_count": 36,
   "id": "6aba429a-d966-479a-858f-a09ed692d268",
   "metadata": {
    "tags": []
   },
   "outputs": [
    {
     "name": "stdout",
     "output_type": "stream",
     "text": [
      "############################################# COMANDO A EJECUTAR #############################################\n",
      "git log\n",
      "####################################### RESULTADO DE COMANDO EJECUTADO #######################################\n",
      "commit 3b4edb5a785dcc5841b35cd2ad93033cd29cb730\n",
      "Author: PARADIGMA\\QiDimMak <jorgecardona@utp.edu.co>\n",
      "Date:   Fri Mar 17 20:39:55 2023 -0500\n",
      "\n",
      "    adicionados archivo de configuracion y requerimientos\n",
      "\n",
      "commit d15fad27cb8d1bcb6a0e697ef02e2d787dc51b48\n",
      "Author: JorgeCardona <jorgecardona@utp.edu.co>\n",
      "Date:   Fri Mar 17 20:27:49 2023 -0500\n",
      "\n",
      "    Initial commit\n",
      "##############################################################################################################\n",
      "\n",
      "############################################# COMANDO A EJECUTAR #############################################\n",
      "git branch\n",
      "####################################### RESULTADO DE COMANDO EJECUTADO #######################################\n",
      "* main\n",
      "  multi_commits\n",
      "##############################################################################################################\n",
      "\n"
     ]
    }
   ],
   "source": [
    "comando = 'git log'\n",
    "ejecutar_comando_git(comando)\n",
    "\n",
    "ejecutar_comando_shell()"
   ]
  },
  {
   "cell_type": "markdown",
   "id": "e3fb7568-f0f6-41b3-adaa-e40aec8b6c74",
   "metadata": {},
   "source": [
    "### VER HISTORIAL OTRA RAMA REMOTA"
   ]
  },
  {
   "cell_type": "code",
   "execution_count": 37,
   "id": "211d14be-1715-43f4-afa9-bc07f11c5992",
   "metadata": {
    "scrolled": true,
    "tags": []
   },
   "outputs": [
    {
     "name": "stdout",
     "output_type": "stream",
     "text": [
      "############################################# COMANDO A EJECUTAR #############################################\n",
      "git checkout multi_commits\n",
      "####################################### RESULTADO DE COMANDO EJECUTADO #######################################\n",
      "Your branch is up to date with 'origin/multi_commits'.\n",
      "##############################################################################################################\n",
      "\n",
      "############################################# COMANDO A EJECUTAR #############################################\n",
      "git log\n",
      "####################################### RESULTADO DE COMANDO EJECUTADO #######################################\n",
      "commit 67e732fc8765f006f2ff66ab2aa80ab470795e25\n",
      "Author: PARADIGMA\\QiDimMak <jorgecardona@utp.edu.co>\n",
      "Date:   Sat Mar 18 12:31:41 2023 -0500\n",
      "\n",
      "    adicionado archivo html\n",
      "\n",
      "commit 1d9c154468c6bb560f2906cda47836bab7b78a2d\n",
      "Author: PARADIGMA\\QiDimMak <jorgecardona@utp.edu.co>\n",
      "Date:   Sat Mar 18 12:31:12 2023 -0500\n",
      "\n",
      "    adicionado archivo csv\n",
      "\n",
      "commit dcfb55bb703b9b52cfc0ac628c7191c2cba147e6\n",
      "Author: PARADIGMA\\QiDimMak <jorgecardona@utp.edu.co>\n",
      "Date:   Sat Mar 18 12:30:45 2023 -0500\n",
      "\n",
      "    adicionado archivo excel\n",
      "\n",
      "commit 52ff70bbe19b14d28ca36352d2ff80befbc3bd06\n",
      "Author: PARADIGMA\\QiDimMak <jorgecardona@utp.edu.co>\n",
      "Date:   Sat Mar 18 12:29:59 2023 -0500\n",
      "\n",
      "    adicionado archivo pdf\n",
      "\n",
      "commit 3b4edb5a785dcc5841b35cd2ad93033cd29cb730\n",
      "Author: PARADIGMA\\QiDimMak <jorgecardona@utp.edu.co>\n",
      "Date:   Fri Mar 17 20:39:55 2023 -0500\n",
      "\n",
      "    adicionados archivo de configuracion y requerimientos\n",
      "\n",
      "commit d15fad27cb8d1bcb6a0e697ef02e2d787dc51b48\n",
      "Author: JorgeCardona <jorgecardona@utp.edu.co>\n",
      "Date:   Fri Mar 17 20:27:49 2023 -0500\n",
      "\n",
      "    Initial commit\n",
      "##############################################################################################################\n",
      "\n",
      "############################################# COMANDO A EJECUTAR #############################################\n",
      "git branch\n",
      "####################################### RESULTADO DE COMANDO EJECUTADO #######################################\n",
      "  main\n",
      "* multi_commits\n",
      "##############################################################################################################\n",
      "\n"
     ]
    }
   ],
   "source": [
    "comando = 'git checkout {nombre_rama_remota}'.format(nombre_rama_remota=nombre_rama_remota)\n",
    "ejecutar_comando_git(comando)\n",
    "\n",
    "comando = 'git log'\n",
    "ejecutar_comando_git(comando)\n",
    "\n",
    "ejecutar_comando_shell()"
   ]
  },
  {
   "cell_type": "markdown",
   "id": "3f4b9314-b71f-4f83-b10f-2a2e8b201580",
   "metadata": {},
   "source": [
    "# <center> REGRESAR A UNA VERSION ANTERIOR DE UN REPOSITORIO GIT</center>"
   ]
  },
  {
   "cell_type": "markdown",
   "id": "259eea42-f14d-446b-b01d-ad0aeffcb3d7",
   "metadata": {},
   "source": [
    "### DETACHED"
   ]
  },
  {
   "cell_type": "code",
   "execution_count": 38,
   "id": "554290ba-8a54-44ad-9314-825f031a9396",
   "metadata": {
    "tags": []
   },
   "outputs": [
    {
     "name": "stdout",
     "output_type": "stream",
     "text": [
      "############################################# COMANDO A EJECUTAR #############################################\n",
      "git checkout d15fad27cb8d1bcb6a0e697ef02e2d787dc51b48\n",
      "####################################### RESULTADO DE COMANDO EJECUTADO #######################################\n",
      "##############################################################################################################\n",
      "\n",
      "############################################# COMANDO A EJECUTAR #############################################\n",
      "git branch\n",
      "####################################### RESULTADO DE COMANDO EJECUTADO #######################################\n",
      "* (HEAD detached at d15fad2)\n",
      "  main\n",
      "  multi_commits\n",
      "##############################################################################################################\n",
      "\n"
     ]
    }
   ],
   "source": [
    "comando = 'git checkout d15fad27cb8d1bcb6a0e697ef02e2d787dc51b48'\n",
    "ejecutar_comando_git(comando)\n",
    "ejecutar_comando_shell()"
   ]
  },
  {
   "cell_type": "code",
   "execution_count": null,
   "id": "697ab643-0f90-4ff3-94e6-f1abc58cd7de",
   "metadata": {},
   "outputs": [],
   "source": []
  },
  {
   "cell_type": "code",
   "execution_count": 39,
   "id": "a3d1b1da-b198-40e7-ac0e-717336e06c87",
   "metadata": {
    "scrolled": true,
    "tags": []
   },
   "outputs": [],
   "source": [
    "def validar_si_existe_rama(nombre_rama, local=False):\n",
    "    \n",
    "    comando ='git branch -a'\n",
    "    resultado = ejecutar_comando_shell(comando, response=True)\n",
    "    \n",
    "    rama_base = '{nombre_rama}'.format(nombre_rama=nombre_rama) if local else 'origin/{nombre_rama}'.format(nombre_rama=nombre_rama)\n",
    "\n",
    "    if rama_base in resultado:\n",
    "        return True\n",
    "    return False\n",
    "\n",
    "def elimina_ramas_si_existen_y_crea_la_rama_local(nombre_rama):\n",
    "    \n",
    "    # valida si las ramas existen en REMOTO y LOCAL\n",
    "    rama_remota = validar_si_existe_rama(nombre_rama=nombre_rama)\n",
    "    rama_local = validar_si_existe_rama(nombre_rama=nombre_rama, local=True)\n",
    "    \n",
    "    # verifica si existe la rama la elimina\n",
    "    if rama_remota:\n",
    "        # elimina rama REMOTA existente\n",
    "        comando = 'git push origin -d {nombre_rama}'.format(nombre_rama=nombre_rama)\n",
    "        ejecutar_comando_git(comando)\n",
    "\n",
    "     # verifica si existe la rama la elimina\n",
    "    if rama_local:                                                                                                            \n",
    "        # elimina la rama\n",
    "        comando = 'git branch -D {nombre_rama}'.format(nombre_rama=nombre_rama)\n",
    "        ejecutar_comando_git(comando)\n",
    "        \n",
    "    # crea la rama\n",
    "    comando = 'git checkout -b {nombre_rama}'.format(nombre_rama=nombre_rama)\n",
    "    ejecutar_comando_shell(comando)\n",
    "    \n",
    "    # verifica las ramas actuales\n",
    "    ejecutar_comando_shell()\n",
    "    \n",
    "\n",
    "def crear_commit_por_cada_archivo(todos_los_archivos):\n",
    "    \n",
    "    import datetime\n",
    "\n",
    "    fecha_ahora = datetime.datetime.now()\n",
    "    \n",
    "    # crea el listado de archivos\n",
    "    lista_de_archivos = generar_archivos(todos_los_archivos=todos_los_archivos)\n",
    "    \n",
    "    # basado en el listado de archivos, adiciona uno a uno y crea un commit por cada uno\n",
    "    for archivo in lista_de_archivos:\n",
    "\n",
    "        comando = 'git add {archivo}'.format(archivo=archivo)\n",
    "        ejecutar_comando_git(comando)\n",
    "\n",
    "        !git commit -m \"ADICIONADO ARCHIVO {archivo} {fecha_ahora}\"    \n",
    "\n",
    "    # verifica si todos los archivos estan en los commits creados\n",
    "    comando = 'git status'\n",
    "    ejecutar_comando_git(comando)\n",
    "    \n",
    "def generar_archivos_y_hacer_commit(nombre_rama, todos_los_archivos = True):\n",
    "    \n",
    "    # elimina cambios a la rama remota si los tiene\n",
    "    comando = 'git restore .'\n",
    "    ejecutar_comando_git(comando)\n",
    "    \n",
    "    # cambiar a la rama remota\n",
    "    comando = 'git checkout {nombre_rama_remota}'.format(nombre_rama_remota=nombre_rama_remota)\n",
    "    ejecutar_comando_git(comando)\n",
    "    \n",
    "    # valida si las ramas existen en REMOTO y LOCAL y las elimina\n",
    "    elimina_ramas_si_existen_y_crea_la_rama_local(nombre_rama)\n",
    "    \n",
    "    # adiciona archivos de 1 en 1 y genera 1 commit por cada archivo\n",
    "    crear_commit_por_cada_archivo(todos_los_archivos=todos_los_archivos)\n",
    "\n",
    "    comando = 'git log'\n",
    "    ejecutar_comando_shell(comando)\n",
    "\n",
    "    # crea la rama en remoto\n",
    "    comando = 'git push --set-upstream origin {nombre_rama}'.format(nombre_rama=nombre_rama)\n",
    "    ejecutar_comando_git(comando)\n",
    "    \n",
    "    ejecutar_comando_shell()"
   ]
  },
  {
   "cell_type": "markdown",
   "id": "ba29758c-fa6f-49cc-8fd6-c07523b4f339",
   "metadata": {},
   "source": [
    "# <center> RESET COMMITs DE UN REPOSITORIO</center>"
   ]
  },
  {
   "cell_type": "code",
   "execution_count": 40,
   "id": "fb700ec4-bd71-4094-b7e6-6161977c15ac",
   "metadata": {
    "scrolled": true,
    "tags": []
   },
   "outputs": [
    {
     "name": "stdout",
     "output_type": "stream",
     "text": [
      "############################################# COMANDO A EJECUTAR #############################################\n",
      "git restore .\n",
      "####################################### RESULTADO DE COMANDO EJECUTADO #######################################\n",
      "##############################################################################################################\n",
      "\n",
      "############################################# COMANDO A EJECUTAR #############################################\n",
      "git checkout multi_commits\n",
      "####################################### RESULTADO DE COMANDO EJECUTADO #######################################\n",
      "Your branch is up to date with 'origin/multi_commits'.\n",
      "##############################################################################################################\n",
      "\n",
      "############################################# COMANDO A EJECUTAR #############################################\n",
      "git branch -a\n",
      "####################################### RESULTADO DE COMANDO EJECUTADO #######################################\n",
      "  main\n",
      "* multi_commits\n",
      "  remotes/origin/HEAD -> origin/main\n",
      "  remotes/origin/branch_dos\n",
      "  remotes/origin/branch_uno\n",
      "  remotes/origin/main\n",
      "  remotes/origin/multi_commits\n",
      "  remotes/origin/rebase_branch\n",
      "##############################################################################################################\n",
      "\n",
      "############################################# COMANDO A EJECUTAR #############################################\n",
      "git branch -a\n",
      "####################################### RESULTADO DE COMANDO EJECUTADO #######################################\n",
      "  main\n",
      "* multi_commits\n",
      "  remotes/origin/HEAD -> origin/main\n",
      "  remotes/origin/branch_dos\n",
      "  remotes/origin/branch_uno\n",
      "  remotes/origin/main\n",
      "  remotes/origin/multi_commits\n",
      "  remotes/origin/rebase_branch\n",
      "##############################################################################################################\n",
      "\n",
      "############################################# COMANDO A EJECUTAR #############################################\n",
      "git checkout -b reset_branch\n",
      "####################################### RESULTADO DE COMANDO EJECUTADO #######################################\n",
      "##############################################################################################################\n",
      "\n",
      "############################################# COMANDO A EJECUTAR #############################################\n",
      "git branch\n",
      "####################################### RESULTADO DE COMANDO EJECUTADO #######################################\n",
      "  main\n",
      "  multi_commits\n",
      "* reset_branch\n",
      "##############################################################################################################\n",
      "\n",
      "lista_de_archivos = ['info.txt', 'Dockerfile', 'Manifest.yaml', 'imagen.png', 'main.py', 'connection.java', 'calculos.c', 'addon.php', 'utils.gif', 'query.sql', 'dataset.avro', 'link.vs']\n",
      "############################################# COMANDO A EJECUTAR #############################################\n",
      "echo 1679202504.973466 >> info.txt\n",
      "####################################### RESULTADO DE COMANDO EJECUTADO #######################################\n",
      "##############################################################################################################\n",
      "\n",
      "############################################# COMANDO A EJECUTAR #############################################\n",
      "echo 1679202504.984728 >> Dockerfile\n",
      "####################################### RESULTADO DE COMANDO EJECUTADO #######################################\n",
      "##############################################################################################################\n",
      "\n",
      "############################################# COMANDO A EJECUTAR #############################################\n",
      "echo 1679202504.994554 >> Manifest.yaml\n",
      "####################################### RESULTADO DE COMANDO EJECUTADO #######################################\n",
      "##############################################################################################################\n",
      "\n",
      "############################################# COMANDO A EJECUTAR #############################################\n",
      "echo 1679202505.004304 >> imagen.png\n",
      "####################################### RESULTADO DE COMANDO EJECUTADO #######################################\n",
      "##############################################################################################################\n",
      "\n",
      "############################################# COMANDO A EJECUTAR #############################################\n",
      "echo 1679202505.01368 >> main.py\n",
      "####################################### RESULTADO DE COMANDO EJECUTADO #######################################\n",
      "##############################################################################################################\n",
      "\n",
      "############################################# COMANDO A EJECUTAR #############################################\n",
      "echo 1679202505.021541 >> connection.java\n",
      "####################################### RESULTADO DE COMANDO EJECUTADO #######################################\n",
      "##############################################################################################################\n",
      "\n",
      "############################################# COMANDO A EJECUTAR #############################################\n",
      "echo 1679202505.030271 >> calculos.c\n",
      "####################################### RESULTADO DE COMANDO EJECUTADO #######################################\n",
      "##############################################################################################################\n",
      "\n",
      "############################################# COMANDO A EJECUTAR #############################################\n",
      "echo 1679202505.03686 >> addon.php\n",
      "####################################### RESULTADO DE COMANDO EJECUTADO #######################################\n",
      "##############################################################################################################\n",
      "\n",
      "############################################# COMANDO A EJECUTAR #############################################\n",
      "echo 1679202505.04615 >> utils.gif\n",
      "####################################### RESULTADO DE COMANDO EJECUTADO #######################################\n",
      "##############################################################################################################\n",
      "\n",
      "############################################# COMANDO A EJECUTAR #############################################\n",
      "echo 1679202505.055266 >> query.sql\n",
      "####################################### RESULTADO DE COMANDO EJECUTADO #######################################\n",
      "##############################################################################################################\n",
      "\n",
      "############################################# COMANDO A EJECUTAR #############################################\n",
      "echo 1679202505.064453 >> dataset.avro\n",
      "####################################### RESULTADO DE COMANDO EJECUTADO #######################################\n",
      "##############################################################################################################\n",
      "\n",
      "############################################# COMANDO A EJECUTAR #############################################\n",
      "echo 1679202505.074534 >> link.vs\n",
      "####################################### RESULTADO DE COMANDO EJECUTADO #######################################\n",
      "##############################################################################################################\n",
      "\n",
      "############################################# COMANDO A EJECUTAR #############################################\n",
      "git add info.txt\n",
      "####################################### RESULTADO DE COMANDO EJECUTADO #######################################\n",
      "##############################################################################################################\n",
      "\n",
      "[reset_branch b745b18] ADICIONADO ARCHIVO info.txt 2023-03-19 00:08:24.973466\n",
      " 1 file changed, 1 insertion(+)\n",
      " create mode 100644 info.txt\n",
      "############################################# COMANDO A EJECUTAR #############################################\n",
      "git add Dockerfile\n",
      "####################################### RESULTADO DE COMANDO EJECUTADO #######################################\n",
      "##############################################################################################################\n",
      "\n",
      "[reset_branch 35fd564] ADICIONADO ARCHIVO Dockerfile 2023-03-19 00:08:24.973466\n",
      " 1 file changed, 1 insertion(+)\n",
      " create mode 100644 Dockerfile\n",
      "############################################# COMANDO A EJECUTAR #############################################\n",
      "git add Manifest.yaml\n",
      "####################################### RESULTADO DE COMANDO EJECUTADO #######################################\n",
      "##############################################################################################################\n",
      "\n",
      "[reset_branch eb17fae] ADICIONADO ARCHIVO Manifest.yaml 2023-03-19 00:08:24.973466\n",
      " 1 file changed, 1 insertion(+)\n",
      " create mode 100644 Manifest.yaml\n",
      "############################################# COMANDO A EJECUTAR #############################################\n",
      "git add imagen.png\n",
      "####################################### RESULTADO DE COMANDO EJECUTADO #######################################\n",
      "##############################################################################################################\n",
      "\n",
      "[reset_branch 7bf5a0e] ADICIONADO ARCHIVO imagen.png 2023-03-19 00:08:24.973466\n",
      " 1 file changed, 1 insertion(+)\n",
      " create mode 100644 imagen.png\n",
      "############################################# COMANDO A EJECUTAR #############################################\n",
      "git add main.py\n",
      "####################################### RESULTADO DE COMANDO EJECUTADO #######################################\n",
      "##############################################################################################################\n",
      "\n",
      "[reset_branch d97cf4f] ADICIONADO ARCHIVO main.py 2023-03-19 00:08:24.973466\n",
      " 1 file changed, 1 insertion(+)\n",
      " create mode 100644 main.py\n",
      "############################################# COMANDO A EJECUTAR #############################################\n",
      "git add connection.java\n",
      "####################################### RESULTADO DE COMANDO EJECUTADO #######################################\n",
      "##############################################################################################################\n",
      "\n",
      "[reset_branch 7c20661] ADICIONADO ARCHIVO connection.java 2023-03-19 00:08:24.973466\n",
      " 1 file changed, 1 insertion(+)\n",
      " create mode 100644 connection.java\n",
      "############################################# COMANDO A EJECUTAR #############################################\n",
      "git add calculos.c\n",
      "####################################### RESULTADO DE COMANDO EJECUTADO #######################################\n",
      "##############################################################################################################\n",
      "\n",
      "[reset_branch b639c12] ADICIONADO ARCHIVO calculos.c 2023-03-19 00:08:24.973466\n",
      " 1 file changed, 1 insertion(+)\n",
      " create mode 100644 calculos.c\n",
      "############################################# COMANDO A EJECUTAR #############################################\n",
      "git add addon.php\n",
      "####################################### RESULTADO DE COMANDO EJECUTADO #######################################\n",
      "##############################################################################################################\n",
      "\n",
      "[reset_branch cce4665] ADICIONADO ARCHIVO addon.php 2023-03-19 00:08:24.973466\n",
      " 1 file changed, 1 insertion(+)\n",
      " create mode 100644 addon.php\n",
      "############################################# COMANDO A EJECUTAR #############################################\n",
      "git add utils.gif\n",
      "####################################### RESULTADO DE COMANDO EJECUTADO #######################################\n",
      "##############################################################################################################\n",
      "\n",
      "[reset_branch 8ad1be3] ADICIONADO ARCHIVO utils.gif 2023-03-19 00:08:24.973466\n",
      " 1 file changed, 1 insertion(+)\n",
      " create mode 100644 utils.gif\n",
      "############################################# COMANDO A EJECUTAR #############################################\n",
      "git add query.sql\n",
      "####################################### RESULTADO DE COMANDO EJECUTADO #######################################\n",
      "##############################################################################################################\n",
      "\n",
      "[reset_branch b3e4ed1] ADICIONADO ARCHIVO query.sql 2023-03-19 00:08:24.973466\n",
      " 1 file changed, 1 insertion(+)\n",
      " create mode 100644 query.sql\n",
      "############################################# COMANDO A EJECUTAR #############################################\n",
      "git add dataset.avro\n",
      "####################################### RESULTADO DE COMANDO EJECUTADO #######################################\n",
      "##############################################################################################################\n",
      "\n",
      "[reset_branch 0cf9678] ADICIONADO ARCHIVO dataset.avro 2023-03-19 00:08:24.973466\n",
      " 1 file changed, 1 insertion(+)\n",
      " create mode 100644 dataset.avro\n",
      "############################################# COMANDO A EJECUTAR #############################################\n",
      "git add link.vs\n",
      "####################################### RESULTADO DE COMANDO EJECUTADO #######################################\n",
      "##############################################################################################################\n",
      "\n",
      "[reset_branch b506851] ADICIONADO ARCHIVO link.vs 2023-03-19 00:08:24.973466\n",
      " 1 file changed, 1 insertion(+)\n",
      " create mode 100644 link.vs\n",
      "############################################# COMANDO A EJECUTAR #############################################\n",
      "git status\n",
      "####################################### RESULTADO DE COMANDO EJECUTADO #######################################\n",
      "On branch reset_branch\n",
      "nothing to commit, working tree clean\n",
      "##############################################################################################################\n",
      "\n",
      "############################################# COMANDO A EJECUTAR #############################################\n",
      "git log\n",
      "####################################### RESULTADO DE COMANDO EJECUTADO #######################################\n",
      "commit b506851ce2a37266855eba4415073a2b8867e213\n",
      "Author: PARADIGMA\\QiDimMak <jorgecardona@utp.edu.co>\n",
      "Date:   Sun Mar 19 00:08:27 2023 -0500\n",
      "\n",
      "    ADICIONADO ARCHIVO link.vs 2023-03-19 00:08:24.973466\n",
      "\n",
      "commit 0cf96787f51062e68c7614fa56b2ed82f3634ac2\n",
      "Author: PARADIGMA\\QiDimMak <jorgecardona@utp.edu.co>\n",
      "Date:   Sun Mar 19 00:08:26 2023 -0500\n",
      "\n",
      "    ADICIONADO ARCHIVO dataset.avro 2023-03-19 00:08:24.973466\n",
      "\n",
      "commit b3e4ed14a1e8c6ec85ab6bc176bf7d38b0410cdb\n",
      "Author: PARADIGMA\\QiDimMak <jorgecardona@utp.edu.co>\n",
      "Date:   Sun Mar 19 00:08:26 2023 -0500\n",
      "\n",
      "    ADICIONADO ARCHIVO query.sql 2023-03-19 00:08:24.973466\n",
      "\n",
      "commit 8ad1be38b06ab350f73272db1b53db8e00835afd\n",
      "Author: PARADIGMA\\QiDimMak <jorgecardona@utp.edu.co>\n",
      "Date:   Sun Mar 19 00:08:26 2023 -0500\n",
      "\n",
      "    ADICIONADO ARCHIVO utils.gif 2023-03-19 00:08:24.973466\n",
      "\n",
      "commit cce4665e026711ac8494003e5d3ab2d9a27ee84a\n",
      "Author: PARADIGMA\\QiDimMak <jorgecardona@utp.edu.co>\n",
      "Date:   Sun Mar 19 00:08:26 2023 -0500\n",
      "\n",
      "    ADICIONADO ARCHIVO addon.php 2023-03-19 00:08:24.973466\n",
      "\n",
      "commit b639c12a50de4b0bb818d396f3584b6c42393df3\n",
      "Author: PARADIGMA\\QiDimMak <jorgecardona@utp.edu.co>\n",
      "Date:   Sun Mar 19 00:08:26 2023 -0500\n",
      "\n",
      "    ADICIONADO ARCHIVO calculos.c 2023-03-19 00:08:24.973466\n",
      "\n",
      "commit 7c20661651e56df42b10c0b45ac420bc4351b645\n",
      "Author: PARADIGMA\\QiDimMak <jorgecardona@utp.edu.co>\n",
      "Date:   Sun Mar 19 00:08:26 2023 -0500\n",
      "\n",
      "    ADICIONADO ARCHIVO connection.java 2023-03-19 00:08:24.973466\n",
      "\n",
      "commit d97cf4fa3dc4cacaef66eb2905a97526546bcffe\n",
      "Author: PARADIGMA\\QiDimMak <jorgecardona@utp.edu.co>\n",
      "Date:   Sun Mar 19 00:08:25 2023 -0500\n",
      "\n",
      "    ADICIONADO ARCHIVO main.py 2023-03-19 00:08:24.973466\n",
      "\n",
      "commit 7bf5a0e02ae01ba779501c973d70e280b9679d67\n",
      "Author: PARADIGMA\\QiDimMak <jorgecardona@utp.edu.co>\n",
      "Date:   Sun Mar 19 00:08:25 2023 -0500\n",
      "\n",
      "    ADICIONADO ARCHIVO imagen.png 2023-03-19 00:08:24.973466\n",
      "\n",
      "commit eb17fae4c7b4b32e8e73140a22e381ece19df5ad\n",
      "Author: PARADIGMA\\QiDimMak <jorgecardona@utp.edu.co>\n",
      "Date:   Sun Mar 19 00:08:25 2023 -0500\n",
      "\n",
      "    ADICIONADO ARCHIVO Manifest.yaml 2023-03-19 00:08:24.973466\n",
      "\n",
      "commit 35fd564680236d9ff5413c83aa03394c562093b5\n",
      "Author: PARADIGMA\\QiDimMak <jorgecardona@utp.edu.co>\n",
      "Date:   Sun Mar 19 00:08:25 2023 -0500\n",
      "\n",
      "    ADICIONADO ARCHIVO Dockerfile 2023-03-19 00:08:24.973466\n",
      "\n",
      "commit b745b18736d8163ccb41b481e542c9c97c297d44\n",
      "Author: PARADIGMA\\QiDimMak <jorgecardona@utp.edu.co>\n",
      "Date:   Sun Mar 19 00:08:25 2023 -0500\n",
      "\n",
      "    ADICIONADO ARCHIVO info.txt 2023-03-19 00:08:24.973466\n",
      "\n",
      "commit 67e732fc8765f006f2ff66ab2aa80ab470795e25\n",
      "Author: PARADIGMA\\QiDimMak <jorgecardona@utp.edu.co>\n",
      "Date:   Sat Mar 18 12:31:41 2023 -0500\n",
      "\n",
      "    adicionado archivo html\n",
      "\n",
      "commit 1d9c154468c6bb560f2906cda47836bab7b78a2d\n",
      "Author: PARADIGMA\\QiDimMak <jorgecardona@utp.edu.co>\n",
      "Date:   Sat Mar 18 12:31:12 2023 -0500\n",
      "\n",
      "    adicionado archivo csv\n",
      "\n",
      "commit dcfb55bb703b9b52cfc0ac628c7191c2cba147e6\n",
      "Author: PARADIGMA\\QiDimMak <jorgecardona@utp.edu.co>\n",
      "Date:   Sat Mar 18 12:30:45 2023 -0500\n",
      "\n",
      "    adicionado archivo excel\n",
      "\n",
      "commit 52ff70bbe19b14d28ca36352d2ff80befbc3bd06\n",
      "Author: PARADIGMA\\QiDimMak <jorgecardona@utp.edu.co>\n",
      "Date:   Sat Mar 18 12:29:59 2023 -0500\n",
      "\n",
      "    adicionado archivo pdf\n",
      "\n",
      "commit 3b4edb5a785dcc5841b35cd2ad93033cd29cb730\n",
      "Author: PARADIGMA\\QiDimMak <jorgecardona@utp.edu.co>\n",
      "Date:   Fri Mar 17 20:39:55 2023 -0500\n",
      "\n",
      "    adicionados archivo de configuracion y requerimientos\n",
      "\n",
      "commit d15fad27cb8d1bcb6a0e697ef02e2d787dc51b48\n",
      "Author: JorgeCardona <jorgecardona@utp.edu.co>\n",
      "Date:   Fri Mar 17 20:27:49 2023 -0500\n",
      "\n",
      "    Initial commit\n",
      "##############################################################################################################\n",
      "\n",
      "############################################# COMANDO A EJECUTAR #############################################\n",
      "git push --set-upstream origin reset_branch\n",
      "####################################### RESULTADO DE COMANDO EJECUTADO #######################################\n",
      "Branch 'reset_branch' set up to track remote branch 'reset_branch' from 'origin'.\n",
      "##############################################################################################################\n",
      "\n",
      "############################################# COMANDO A EJECUTAR #############################################\n",
      "git branch\n",
      "####################################### RESULTADO DE COMANDO EJECUTADO #######################################\n",
      "  main\n",
      "  multi_commits\n",
      "* reset_branch\n",
      "##############################################################################################################\n",
      "\n"
     ]
    }
   ],
   "source": [
    "nombre_rama = 'reset_branch'\n",
    "generar_archivos_y_hacer_commit(nombre_rama=nombre_rama)"
   ]
  },
  {
   "cell_type": "markdown",
   "id": "0baa7ec9-a901-4715-a606-c6aff785f194",
   "metadata": {},
   "source": [
    "### RESET n COMMITs **HEAD~n** MANTENIENDO LOS CAMBIOS QUE SE HABIAN HECHO EN LOS ARCHIVOS LOCALES"
   ]
  },
  {
   "cell_type": "code",
   "execution_count": 41,
   "id": "2b158698-7edd-42db-b76c-197f546c16fd",
   "metadata": {
    "scrolled": true,
    "tags": []
   },
   "outputs": [
    {
     "name": "stdout",
     "output_type": "stream",
     "text": [
      "############################################# COMANDO A EJECUTAR #############################################\n",
      "git reset --soft HEAD~3\n",
      "####################################### RESULTADO DE COMANDO EJECUTADO #######################################\n",
      "##############################################################################################################\n",
      "\n",
      "############################################# COMANDO A EJECUTAR #############################################\n",
      "git log\n",
      "####################################### RESULTADO DE COMANDO EJECUTADO #######################################\n",
      "commit 8ad1be38b06ab350f73272db1b53db8e00835afd\n",
      "Author: PARADIGMA\\QiDimMak <jorgecardona@utp.edu.co>\n",
      "Date:   Sun Mar 19 00:08:26 2023 -0500\n",
      "\n",
      "    ADICIONADO ARCHIVO utils.gif 2023-03-19 00:08:24.973466\n",
      "\n",
      "commit cce4665e026711ac8494003e5d3ab2d9a27ee84a\n",
      "Author: PARADIGMA\\QiDimMak <jorgecardona@utp.edu.co>\n",
      "Date:   Sun Mar 19 00:08:26 2023 -0500\n",
      "\n",
      "    ADICIONADO ARCHIVO addon.php 2023-03-19 00:08:24.973466\n",
      "\n",
      "commit b639c12a50de4b0bb818d396f3584b6c42393df3\n",
      "Author: PARADIGMA\\QiDimMak <jorgecardona@utp.edu.co>\n",
      "Date:   Sun Mar 19 00:08:26 2023 -0500\n",
      "\n",
      "    ADICIONADO ARCHIVO calculos.c 2023-03-19 00:08:24.973466\n",
      "\n",
      "commit 7c20661651e56df42b10c0b45ac420bc4351b645\n",
      "Author: PARADIGMA\\QiDimMak <jorgecardona@utp.edu.co>\n",
      "Date:   Sun Mar 19 00:08:26 2023 -0500\n",
      "\n",
      "    ADICIONADO ARCHIVO connection.java 2023-03-19 00:08:24.973466\n",
      "\n",
      "commit d97cf4fa3dc4cacaef66eb2905a97526546bcffe\n",
      "Author: PARADIGMA\\QiDimMak <jorgecardona@utp.edu.co>\n",
      "Date:   Sun Mar 19 00:08:25 2023 -0500\n",
      "\n",
      "    ADICIONADO ARCHIVO main.py 2023-03-19 00:08:24.973466\n",
      "\n",
      "commit 7bf5a0e02ae01ba779501c973d70e280b9679d67\n",
      "Author: PARADIGMA\\QiDimMak <jorgecardona@utp.edu.co>\n",
      "Date:   Sun Mar 19 00:08:25 2023 -0500\n",
      "\n",
      "    ADICIONADO ARCHIVO imagen.png 2023-03-19 00:08:24.973466\n",
      "\n",
      "commit eb17fae4c7b4b32e8e73140a22e381ece19df5ad\n",
      "Author: PARADIGMA\\QiDimMak <jorgecardona@utp.edu.co>\n",
      "Date:   Sun Mar 19 00:08:25 2023 -0500\n",
      "\n",
      "    ADICIONADO ARCHIVO Manifest.yaml 2023-03-19 00:08:24.973466\n",
      "\n",
      "commit 35fd564680236d9ff5413c83aa03394c562093b5\n",
      "Author: PARADIGMA\\QiDimMak <jorgecardona@utp.edu.co>\n",
      "Date:   Sun Mar 19 00:08:25 2023 -0500\n",
      "\n",
      "    ADICIONADO ARCHIVO Dockerfile 2023-03-19 00:08:24.973466\n",
      "\n",
      "commit b745b18736d8163ccb41b481e542c9c97c297d44\n",
      "Author: PARADIGMA\\QiDimMak <jorgecardona@utp.edu.co>\n",
      "Date:   Sun Mar 19 00:08:25 2023 -0500\n",
      "\n",
      "    ADICIONADO ARCHIVO info.txt 2023-03-19 00:08:24.973466\n",
      "\n",
      "commit 67e732fc8765f006f2ff66ab2aa80ab470795e25\n",
      "Author: PARADIGMA\\QiDimMak <jorgecardona@utp.edu.co>\n",
      "Date:   Sat Mar 18 12:31:41 2023 -0500\n",
      "\n",
      "    adicionado archivo html\n",
      "\n",
      "commit 1d9c154468c6bb560f2906cda47836bab7b78a2d\n",
      "Author: PARADIGMA\\QiDimMak <jorgecardona@utp.edu.co>\n",
      "Date:   Sat Mar 18 12:31:12 2023 -0500\n",
      "\n",
      "    adicionado archivo csv\n",
      "\n",
      "commit dcfb55bb703b9b52cfc0ac628c7191c2cba147e6\n",
      "Author: PARADIGMA\\QiDimMak <jorgecardona@utp.edu.co>\n",
      "Date:   Sat Mar 18 12:30:45 2023 -0500\n",
      "\n",
      "    adicionado archivo excel\n",
      "\n",
      "commit 52ff70bbe19b14d28ca36352d2ff80befbc3bd06\n",
      "Author: PARADIGMA\\QiDimMak <jorgecardona@utp.edu.co>\n",
      "Date:   Sat Mar 18 12:29:59 2023 -0500\n",
      "\n",
      "    adicionado archivo pdf\n",
      "\n",
      "commit 3b4edb5a785dcc5841b35cd2ad93033cd29cb730\n",
      "Author: PARADIGMA\\QiDimMak <jorgecardona@utp.edu.co>\n",
      "Date:   Fri Mar 17 20:39:55 2023 -0500\n",
      "\n",
      "    adicionados archivo de configuracion y requerimientos\n",
      "\n",
      "commit d15fad27cb8d1bcb6a0e697ef02e2d787dc51b48\n",
      "Author: JorgeCardona <jorgecardona@utp.edu.co>\n",
      "Date:   Fri Mar 17 20:27:49 2023 -0500\n",
      "\n",
      "    Initial commit\n",
      "##############################################################################################################\n",
      "\n"
     ]
    }
   ],
   "source": [
    "# MANITIENE todos los archivos o cambios hechos despues de este commit Y PUEDEN SER GUARDADOS DE NUEVO\n",
    "comando = 'git reset --soft HEAD~3'\n",
    "ejecutar_comando_git(comando)\n",
    "\n",
    "comando = 'git log'\n",
    "ejecutar_comando_git(comando)"
   ]
  },
  {
   "cell_type": "markdown",
   "id": "f165436b-e609-45ad-9715-339e1d78935a",
   "metadata": {},
   "source": [
    "### RESET n COMMITs **HEAD~n** ELIMINANDO LOS ARCHIVOS Y CAMBIOS QUE SE HABIAN HECHO HASTA ESTE COMMIT"
   ]
  },
  {
   "cell_type": "code",
   "execution_count": 42,
   "id": "5aae132c-6054-46e4-900c-db9a494dffd5",
   "metadata": {
    "scrolled": true,
    "tags": []
   },
   "outputs": [
    {
     "name": "stdout",
     "output_type": "stream",
     "text": [
      "############################################# COMANDO A EJECUTAR #############################################\n",
      "git reset --hard HEAD~7\n",
      "####################################### RESULTADO DE COMANDO EJECUTADO #######################################\n",
      "HEAD is now at 35fd564 ADICIONADO ARCHIVO Dockerfile 2023-03-19 00:08:24.973466\n",
      "##############################################################################################################\n",
      "\n",
      "############################################# COMANDO A EJECUTAR #############################################\n",
      "git log\n",
      "####################################### RESULTADO DE COMANDO EJECUTADO #######################################\n",
      "commit 35fd564680236d9ff5413c83aa03394c562093b5\n",
      "Author: PARADIGMA\\QiDimMak <jorgecardona@utp.edu.co>\n",
      "Date:   Sun Mar 19 00:08:25 2023 -0500\n",
      "\n",
      "    ADICIONADO ARCHIVO Dockerfile 2023-03-19 00:08:24.973466\n",
      "\n",
      "commit b745b18736d8163ccb41b481e542c9c97c297d44\n",
      "Author: PARADIGMA\\QiDimMak <jorgecardona@utp.edu.co>\n",
      "Date:   Sun Mar 19 00:08:25 2023 -0500\n",
      "\n",
      "    ADICIONADO ARCHIVO info.txt 2023-03-19 00:08:24.973466\n",
      "\n",
      "commit 67e732fc8765f006f2ff66ab2aa80ab470795e25\n",
      "Author: PARADIGMA\\QiDimMak <jorgecardona@utp.edu.co>\n",
      "Date:   Sat Mar 18 12:31:41 2023 -0500\n",
      "\n",
      "    adicionado archivo html\n",
      "\n",
      "commit 1d9c154468c6bb560f2906cda47836bab7b78a2d\n",
      "Author: PARADIGMA\\QiDimMak <jorgecardona@utp.edu.co>\n",
      "Date:   Sat Mar 18 12:31:12 2023 -0500\n",
      "\n",
      "    adicionado archivo csv\n",
      "\n",
      "commit dcfb55bb703b9b52cfc0ac628c7191c2cba147e6\n",
      "Author: PARADIGMA\\QiDimMak <jorgecardona@utp.edu.co>\n",
      "Date:   Sat Mar 18 12:30:45 2023 -0500\n",
      "\n",
      "    adicionado archivo excel\n",
      "\n",
      "commit 52ff70bbe19b14d28ca36352d2ff80befbc3bd06\n",
      "Author: PARADIGMA\\QiDimMak <jorgecardona@utp.edu.co>\n",
      "Date:   Sat Mar 18 12:29:59 2023 -0500\n",
      "\n",
      "    adicionado archivo pdf\n",
      "\n",
      "commit 3b4edb5a785dcc5841b35cd2ad93033cd29cb730\n",
      "Author: PARADIGMA\\QiDimMak <jorgecardona@utp.edu.co>\n",
      "Date:   Fri Mar 17 20:39:55 2023 -0500\n",
      "\n",
      "    adicionados archivo de configuracion y requerimientos\n",
      "\n",
      "commit d15fad27cb8d1bcb6a0e697ef02e2d787dc51b48\n",
      "Author: JorgeCardona <jorgecardona@utp.edu.co>\n",
      "Date:   Fri Mar 17 20:27:49 2023 -0500\n",
      "\n",
      "    Initial commit\n",
      "##############################################################################################################\n",
      "\n"
     ]
    }
   ],
   "source": [
    "# elimina todos los archivos o cambios hechos despues de este commit YA NO SE PUEDEN RECUPERAR ESOS ARCHIVOS\n",
    "comando = 'git reset --hard HEAD~7'\n",
    "ejecutar_comando_git(comando)\n",
    "\n",
    "comando = 'git log'\n",
    "ejecutar_comando_git(comando)"
   ]
  },
  {
   "cell_type": "markdown",
   "id": "e1fae349-008e-429c-bc31-0812d917bc1d",
   "metadata": {},
   "source": [
    "### RESET COMMITs ELIMINANDO LOS ARCHIVOS Y CAMBIOS HASTA UN COMMIT ESPECIFICO USANDO EL ID DEL COMMIT"
   ]
  },
  {
   "cell_type": "code",
   "execution_count": 43,
   "id": "840915cb-d988-4531-b718-c9db65e2c18e",
   "metadata": {
    "tags": []
   },
   "outputs": [
    {
     "name": "stdout",
     "output_type": "stream",
     "text": [
      "############################################# COMANDO A EJECUTAR #############################################\n",
      "git reset --hard 3b4edb5a785dcc5841b35cd2ad93033cd29cb730\n",
      "####################################### RESULTADO DE COMANDO EJECUTADO #######################################\n",
      "HEAD is now at 3b4edb5 adicionados archivo de configuracion y requerimientos\n",
      "##############################################################################################################\n",
      "\n"
     ]
    }
   ],
   "source": [
    "comando = 'git reset --hard 3b4edb5a785dcc5841b35cd2ad93033cd29cb730'\n",
    "ejecutar_comando_git(comando)"
   ]
  },
  {
   "cell_type": "markdown",
   "id": "b3dd8cdf-657f-49c9-887b-6d0ddb2f06db",
   "metadata": {},
   "source": [
    "## RESET HASTA UN COMMIT ESPECIFICO EN UN REPOSITORIO REMOTO\n",
    "https://github.com/JorgeCardona/comandos_git"
   ]
  },
  {
   "cell_type": "code",
   "execution_count": 52,
   "id": "58e70ab3-644f-4a9c-8a4d-24094690d843",
   "metadata": {
    "tags": []
   },
   "outputs": [
    {
     "name": "stdout",
     "output_type": "stream",
     "text": [
      "############################################# COMANDO A EJECUTAR #############################################\n",
      "git reset --hard d15fad27cb8d1bcb6a0e697ef02e2d787dc51b48\n",
      "####################################### RESULTADO DE COMANDO EJECUTADO #######################################\n",
      "HEAD is now at d15fad2 Initial commit\n",
      "##############################################################################################################\n",
      "\n"
     ]
    }
   ],
   "source": [
    "comando = 'git reset --hard d15fad27cb8d1bcb6a0e697ef02e2d787dc51b48'\n",
    "ejecutar_comando_git(comando)"
   ]
  },
  {
   "cell_type": "markdown",
   "id": "ecfff94e-20ee-46bb-8a1d-97bd8e5f76ad",
   "metadata": {},
   "source": [
    "#### CONFIRMAR LOS CAMBIOS DEL RESET EN EL REPOSITORIO DE ORIGEN O REMOTO"
   ]
  },
  {
   "cell_type": "code",
   "execution_count": 45,
   "id": "85a7f262-e036-4ea1-ba5b-7daf6de7c221",
   "metadata": {
    "scrolled": true,
    "tags": []
   },
   "outputs": [
    {
     "name": "stdout",
     "output_type": "stream",
     "text": [
      "############################################# COMANDO A EJECUTAR #############################################\n",
      "git push --force origin reset_branch\n",
      "####################################### RESULTADO DE COMANDO EJECUTADO #######################################\n",
      "##############################################################################################################\n",
      "\n"
     ]
    }
   ],
   "source": [
    "# confirmar los cambios al repositorio remoto el reset\n",
    "comando = 'git push --force origin {nombre_rama}'.format(nombre_rama=nombre_rama)\n",
    "ejecutar_comando_git(comando)"
   ]
  },
  {
   "cell_type": "markdown",
   "id": "c414c71d-4c3e-4273-baf1-698d5a64f67e",
   "metadata": {
    "tags": []
   },
   "source": [
    "#### ELIMINAR LA RAMA EN EL REPOSITORIO DE ORIGEN O REMOTO"
   ]
  },
  {
   "cell_type": "code",
   "execution_count": 46,
   "id": "ac1bbb35-22a5-4ae0-a710-10d1d0143196",
   "metadata": {
    "tags": []
   },
   "outputs": [
    {
     "name": "stdout",
     "output_type": "stream",
     "text": [
      "############################################# COMANDO A EJECUTAR #############################################\n",
      "git push origin -d reset_branch\n",
      "####################################### RESULTADO DE COMANDO EJECUTADO #######################################\n",
      "##############################################################################################################\n",
      "\n"
     ]
    }
   ],
   "source": [
    "comando = 'git push origin -d {nombre_rama}'.format(nombre_rama=nombre_rama)\n",
    "ejecutar_comando_git(comando)"
   ]
  },
  {
   "cell_type": "markdown",
   "id": "da360e27-ccbd-473b-b6b0-3904eaf90ceb",
   "metadata": {},
   "source": [
    "# <center> REVERTIR COMMITs DE UN REPOSITORIO</center>"
   ]
  },
  {
   "cell_type": "code",
   "execution_count": 47,
   "id": "9f51021e-0467-45cb-848b-d6349adc47ae",
   "metadata": {
    "scrolled": true,
    "tags": []
   },
   "outputs": [
    {
     "name": "stdout",
     "output_type": "stream",
     "text": [
      "############################################# COMANDO A EJECUTAR #############################################\n",
      "git restore .\n",
      "####################################### RESULTADO DE COMANDO EJECUTADO #######################################\n",
      "##############################################################################################################\n",
      "\n",
      "############################################# COMANDO A EJECUTAR #############################################\n",
      "git checkout multi_commits\n",
      "####################################### RESULTADO DE COMANDO EJECUTADO #######################################\n",
      "Your branch is up to date with 'origin/multi_commits'.\n",
      "##############################################################################################################\n",
      "\n",
      "############################################# COMANDO A EJECUTAR #############################################\n",
      "git branch -a\n",
      "####################################### RESULTADO DE COMANDO EJECUTADO #######################################\n",
      "  main\n",
      "* multi_commits\n",
      "  reset_branch\n",
      "  remotes/origin/HEAD -> origin/main\n",
      "  remotes/origin/branch_dos\n",
      "  remotes/origin/branch_uno\n",
      "  remotes/origin/main\n",
      "  remotes/origin/multi_commits\n",
      "  remotes/origin/rebase_branch\n",
      "##############################################################################################################\n",
      "\n",
      "############################################# COMANDO A EJECUTAR #############################################\n",
      "git branch -a\n",
      "####################################### RESULTADO DE COMANDO EJECUTADO #######################################\n",
      "  main\n",
      "* multi_commits\n",
      "  reset_branch\n",
      "  remotes/origin/HEAD -> origin/main\n",
      "  remotes/origin/branch_dos\n",
      "  remotes/origin/branch_uno\n",
      "  remotes/origin/main\n",
      "  remotes/origin/multi_commits\n",
      "  remotes/origin/rebase_branch\n",
      "##############################################################################################################\n",
      "\n",
      "############################################# COMANDO A EJECUTAR #############################################\n",
      "git checkout -b revert_branch\n",
      "####################################### RESULTADO DE COMANDO EJECUTADO #######################################\n",
      "##############################################################################################################\n",
      "\n",
      "############################################# COMANDO A EJECUTAR #############################################\n",
      "git branch\n",
      "####################################### RESULTADO DE COMANDO EJECUTADO #######################################\n",
      "  main\n",
      "  multi_commits\n",
      "  reset_branch\n",
      "* revert_branch\n",
      "##############################################################################################################\n",
      "\n",
      "lista_de_archivos = ['info.txt', 'Dockerfile', 'Manifest.yaml', 'imagen.png', 'main.py', 'connection.java', 'calculos.c', 'addon.php', 'utils.gif', 'query.sql', 'dataset.avro', 'link.vs']\n",
      "############################################# COMANDO A EJECUTAR #############################################\n",
      "echo 1679202516.294279 >> info.txt\n",
      "####################################### RESULTADO DE COMANDO EJECUTADO #######################################\n",
      "##############################################################################################################\n",
      "\n",
      "############################################# COMANDO A EJECUTAR #############################################\n",
      "echo 1679202516.303812 >> Dockerfile\n",
      "####################################### RESULTADO DE COMANDO EJECUTADO #######################################\n",
      "##############################################################################################################\n",
      "\n",
      "############################################# COMANDO A EJECUTAR #############################################\n",
      "echo 1679202516.313208 >> Manifest.yaml\n",
      "####################################### RESULTADO DE COMANDO EJECUTADO #######################################\n",
      "##############################################################################################################\n",
      "\n",
      "############################################# COMANDO A EJECUTAR #############################################\n",
      "echo 1679202516.321013 >> imagen.png\n",
      "####################################### RESULTADO DE COMANDO EJECUTADO #######################################\n",
      "##############################################################################################################\n",
      "\n",
      "############################################# COMANDO A EJECUTAR #############################################\n",
      "echo 1679202516.328911 >> main.py\n",
      "####################################### RESULTADO DE COMANDO EJECUTADO #######################################\n",
      "##############################################################################################################\n",
      "\n",
      "############################################# COMANDO A EJECUTAR #############################################\n",
      "echo 1679202516.336356 >> connection.java\n",
      "####################################### RESULTADO DE COMANDO EJECUTADO #######################################\n",
      "##############################################################################################################\n",
      "\n",
      "############################################# COMANDO A EJECUTAR #############################################\n",
      "echo 1679202516.345531 >> calculos.c\n",
      "####################################### RESULTADO DE COMANDO EJECUTADO #######################################\n",
      "##############################################################################################################\n",
      "\n",
      "############################################# COMANDO A EJECUTAR #############################################\n",
      "echo 1679202516.35328 >> addon.php\n",
      "####################################### RESULTADO DE COMANDO EJECUTADO #######################################\n",
      "##############################################################################################################\n",
      "\n",
      "############################################# COMANDO A EJECUTAR #############################################\n",
      "echo 1679202516.36111 >> utils.gif\n",
      "####################################### RESULTADO DE COMANDO EJECUTADO #######################################\n",
      "##############################################################################################################\n",
      "\n",
      "############################################# COMANDO A EJECUTAR #############################################\n",
      "echo 1679202516.36877 >> query.sql\n",
      "####################################### RESULTADO DE COMANDO EJECUTADO #######################################\n",
      "##############################################################################################################\n",
      "\n",
      "############################################# COMANDO A EJECUTAR #############################################\n",
      "echo 1679202516.376041 >> dataset.avro\n",
      "####################################### RESULTADO DE COMANDO EJECUTADO #######################################\n",
      "##############################################################################################################\n",
      "\n",
      "############################################# COMANDO A EJECUTAR #############################################\n",
      "echo 1679202516.384779 >> link.vs\n",
      "####################################### RESULTADO DE COMANDO EJECUTADO #######################################\n",
      "##############################################################################################################\n",
      "\n",
      "############################################# COMANDO A EJECUTAR #############################################\n",
      "git add info.txt\n",
      "####################################### RESULTADO DE COMANDO EJECUTADO #######################################\n",
      "##############################################################################################################\n",
      "\n",
      "[revert_branch bfeda9e] ADICIONADO ARCHIVO info.txt 2023-03-19 00:08:36.294279\n",
      " 1 file changed, 1 insertion(+)\n",
      " create mode 100644 info.txt\n",
      "############################################# COMANDO A EJECUTAR #############################################\n",
      "git add Dockerfile\n",
      "####################################### RESULTADO DE COMANDO EJECUTADO #######################################\n",
      "##############################################################################################################\n",
      "\n",
      "[revert_branch 5a3d434] ADICIONADO ARCHIVO Dockerfile 2023-03-19 00:08:36.294279\n",
      " 1 file changed, 1 insertion(+)\n",
      " create mode 100644 Dockerfile\n",
      "############################################# COMANDO A EJECUTAR #############################################\n",
      "git add Manifest.yaml\n",
      "####################################### RESULTADO DE COMANDO EJECUTADO #######################################\n",
      "##############################################################################################################\n",
      "\n",
      "[revert_branch 1be188b] ADICIONADO ARCHIVO Manifest.yaml 2023-03-19 00:08:36.294279\n",
      " 1 file changed, 1 insertion(+)\n",
      " create mode 100644 Manifest.yaml\n",
      "############################################# COMANDO A EJECUTAR #############################################\n",
      "git add imagen.png\n",
      "####################################### RESULTADO DE COMANDO EJECUTADO #######################################\n",
      "##############################################################################################################\n",
      "\n",
      "[revert_branch 966c187] ADICIONADO ARCHIVO imagen.png 2023-03-19 00:08:36.294279\n",
      " 1 file changed, 1 insertion(+)\n",
      " create mode 100644 imagen.png\n",
      "############################################# COMANDO A EJECUTAR #############################################\n",
      "git add main.py\n",
      "####################################### RESULTADO DE COMANDO EJECUTADO #######################################\n",
      "##############################################################################################################\n",
      "\n",
      "[revert_branch 3757daa] ADICIONADO ARCHIVO main.py 2023-03-19 00:08:36.294279\n",
      " 1 file changed, 1 insertion(+)\n",
      " create mode 100644 main.py\n",
      "############################################# COMANDO A EJECUTAR #############################################\n",
      "git add connection.java\n",
      "####################################### RESULTADO DE COMANDO EJECUTADO #######################################\n",
      "##############################################################################################################\n",
      "\n",
      "[revert_branch 0e94640] ADICIONADO ARCHIVO connection.java 2023-03-19 00:08:36.294279\n",
      " 1 file changed, 1 insertion(+)\n",
      " create mode 100644 connection.java\n",
      "############################################# COMANDO A EJECUTAR #############################################\n",
      "git add calculos.c\n",
      "####################################### RESULTADO DE COMANDO EJECUTADO #######################################\n",
      "##############################################################################################################\n",
      "\n",
      "[revert_branch fc2bae2] ADICIONADO ARCHIVO calculos.c 2023-03-19 00:08:36.294279\n",
      " 1 file changed, 1 insertion(+)\n",
      " create mode 100644 calculos.c\n",
      "############################################# COMANDO A EJECUTAR #############################################\n",
      "git add addon.php\n",
      "####################################### RESULTADO DE COMANDO EJECUTADO #######################################\n",
      "##############################################################################################################\n",
      "\n",
      "[revert_branch 95c7de4] ADICIONADO ARCHIVO addon.php 2023-03-19 00:08:36.294279\n",
      " 1 file changed, 1 insertion(+)\n",
      " create mode 100644 addon.php\n",
      "############################################# COMANDO A EJECUTAR #############################################\n",
      "git add utils.gif\n",
      "####################################### RESULTADO DE COMANDO EJECUTADO #######################################\n",
      "##############################################################################################################\n",
      "\n",
      "[revert_branch e05fa65] ADICIONADO ARCHIVO utils.gif 2023-03-19 00:08:36.294279\n",
      " 1 file changed, 1 insertion(+)\n",
      " create mode 100644 utils.gif\n",
      "############################################# COMANDO A EJECUTAR #############################################\n",
      "git add query.sql\n",
      "####################################### RESULTADO DE COMANDO EJECUTADO #######################################\n",
      "##############################################################################################################\n",
      "\n",
      "[revert_branch 9e1ee3f] ADICIONADO ARCHIVO query.sql 2023-03-19 00:08:36.294279\n",
      " 1 file changed, 1 insertion(+)\n",
      " create mode 100644 query.sql\n",
      "############################################# COMANDO A EJECUTAR #############################################\n",
      "git add dataset.avro\n",
      "####################################### RESULTADO DE COMANDO EJECUTADO #######################################\n",
      "##############################################################################################################\n",
      "\n",
      "[revert_branch 76fbbf3] ADICIONADO ARCHIVO dataset.avro 2023-03-19 00:08:36.294279\n",
      " 1 file changed, 1 insertion(+)\n",
      " create mode 100644 dataset.avro\n",
      "############################################# COMANDO A EJECUTAR #############################################\n",
      "git add link.vs\n",
      "####################################### RESULTADO DE COMANDO EJECUTADO #######################################\n",
      "##############################################################################################################\n",
      "\n",
      "[revert_branch d631e48] ADICIONADO ARCHIVO link.vs 2023-03-19 00:08:36.294279\n",
      " 1 file changed, 1 insertion(+)\n",
      " create mode 100644 link.vs\n",
      "############################################# COMANDO A EJECUTAR #############################################\n",
      "git status\n",
      "####################################### RESULTADO DE COMANDO EJECUTADO #######################################\n",
      "On branch revert_branch\n",
      "nothing to commit, working tree clean\n",
      "##############################################################################################################\n",
      "\n",
      "############################################# COMANDO A EJECUTAR #############################################\n",
      "git log\n",
      "####################################### RESULTADO DE COMANDO EJECUTADO #######################################\n",
      "commit d631e488d71e4535bc158ed608f9c2eef37665d8\n",
      "Author: PARADIGMA\\QiDimMak <jorgecardona@utp.edu.co>\n",
      "Date:   Sun Mar 19 00:08:38 2023 -0500\n",
      "\n",
      "    ADICIONADO ARCHIVO link.vs 2023-03-19 00:08:36.294279\n",
      "\n",
      "commit 76fbbf332c9def783879501d3fe782cdd7de75eb\n",
      "Author: PARADIGMA\\QiDimMak <jorgecardona@utp.edu.co>\n",
      "Date:   Sun Mar 19 00:08:38 2023 -0500\n",
      "\n",
      "    ADICIONADO ARCHIVO dataset.avro 2023-03-19 00:08:36.294279\n",
      "\n",
      "commit 9e1ee3f1ca212152146c983cea992af08a2f8682\n",
      "Author: PARADIGMA\\QiDimMak <jorgecardona@utp.edu.co>\n",
      "Date:   Sun Mar 19 00:08:38 2023 -0500\n",
      "\n",
      "    ADICIONADO ARCHIVO query.sql 2023-03-19 00:08:36.294279\n",
      "\n",
      "commit e05fa6521b78fa88db4d40f7103467f3f57b93db\n",
      "Author: PARADIGMA\\QiDimMak <jorgecardona@utp.edu.co>\n",
      "Date:   Sun Mar 19 00:08:37 2023 -0500\n",
      "\n",
      "    ADICIONADO ARCHIVO utils.gif 2023-03-19 00:08:36.294279\n",
      "\n",
      "commit 95c7de4a900d3440597f4b42aaf5a8c4783770f6\n",
      "Author: PARADIGMA\\QiDimMak <jorgecardona@utp.edu.co>\n",
      "Date:   Sun Mar 19 00:08:37 2023 -0500\n",
      "\n",
      "    ADICIONADO ARCHIVO addon.php 2023-03-19 00:08:36.294279\n",
      "\n",
      "commit fc2bae22c2e894a4f15b12f273574aba6156190b\n",
      "Author: PARADIGMA\\QiDimMak <jorgecardona@utp.edu.co>\n",
      "Date:   Sun Mar 19 00:08:37 2023 -0500\n",
      "\n",
      "    ADICIONADO ARCHIVO calculos.c 2023-03-19 00:08:36.294279\n",
      "\n",
      "commit 0e946400f2d1d02a9c1db8f4b95ef071f5c6e943\n",
      "Author: PARADIGMA\\QiDimMak <jorgecardona@utp.edu.co>\n",
      "Date:   Sun Mar 19 00:08:37 2023 -0500\n",
      "\n",
      "    ADICIONADO ARCHIVO connection.java 2023-03-19 00:08:36.294279\n",
      "\n",
      "commit 3757daad485b38393503d75ac7c9b9ae91094c74\n",
      "Author: PARADIGMA\\QiDimMak <jorgecardona@utp.edu.co>\n",
      "Date:   Sun Mar 19 00:08:37 2023 -0500\n",
      "\n",
      "    ADICIONADO ARCHIVO main.py 2023-03-19 00:08:36.294279\n",
      "\n",
      "commit 966c1877edeca9d68b172aaf33f4ab66cc15a2d5\n",
      "Author: PARADIGMA\\QiDimMak <jorgecardona@utp.edu.co>\n",
      "Date:   Sun Mar 19 00:08:37 2023 -0500\n",
      "\n",
      "    ADICIONADO ARCHIVO imagen.png 2023-03-19 00:08:36.294279\n",
      "\n",
      "commit 1be188b288e8fbf9a1244885a7360bb74cac1e19\n",
      "Author: PARADIGMA\\QiDimMak <jorgecardona@utp.edu.co>\n",
      "Date:   Sun Mar 19 00:08:36 2023 -0500\n",
      "\n",
      "    ADICIONADO ARCHIVO Manifest.yaml 2023-03-19 00:08:36.294279\n",
      "\n",
      "commit 5a3d434dc8d07a99487d2e561a8a802fdda68fec\n",
      "Author: PARADIGMA\\QiDimMak <jorgecardona@utp.edu.co>\n",
      "Date:   Sun Mar 19 00:08:36 2023 -0500\n",
      "\n",
      "    ADICIONADO ARCHIVO Dockerfile 2023-03-19 00:08:36.294279\n",
      "\n",
      "commit bfeda9e4663db574591c3dff4d7f3e1e377d355b\n",
      "Author: PARADIGMA\\QiDimMak <jorgecardona@utp.edu.co>\n",
      "Date:   Sun Mar 19 00:08:36 2023 -0500\n",
      "\n",
      "    ADICIONADO ARCHIVO info.txt 2023-03-19 00:08:36.294279\n",
      "\n",
      "commit 67e732fc8765f006f2ff66ab2aa80ab470795e25\n",
      "Author: PARADIGMA\\QiDimMak <jorgecardona@utp.edu.co>\n",
      "Date:   Sat Mar 18 12:31:41 2023 -0500\n",
      "\n",
      "    adicionado archivo html\n",
      "\n",
      "commit 1d9c154468c6bb560f2906cda47836bab7b78a2d\n",
      "Author: PARADIGMA\\QiDimMak <jorgecardona@utp.edu.co>\n",
      "Date:   Sat Mar 18 12:31:12 2023 -0500\n",
      "\n",
      "    adicionado archivo csv\n",
      "\n",
      "commit dcfb55bb703b9b52cfc0ac628c7191c2cba147e6\n",
      "Author: PARADIGMA\\QiDimMak <jorgecardona@utp.edu.co>\n",
      "Date:   Sat Mar 18 12:30:45 2023 -0500\n",
      "\n",
      "    adicionado archivo excel\n",
      "\n",
      "commit 52ff70bbe19b14d28ca36352d2ff80befbc3bd06\n",
      "Author: PARADIGMA\\QiDimMak <jorgecardona@utp.edu.co>\n",
      "Date:   Sat Mar 18 12:29:59 2023 -0500\n",
      "\n",
      "    adicionado archivo pdf\n",
      "\n",
      "commit 3b4edb5a785dcc5841b35cd2ad93033cd29cb730\n",
      "Author: PARADIGMA\\QiDimMak <jorgecardona@utp.edu.co>\n",
      "Date:   Fri Mar 17 20:39:55 2023 -0500\n",
      "\n",
      "    adicionados archivo de configuracion y requerimientos\n",
      "\n",
      "commit d15fad27cb8d1bcb6a0e697ef02e2d787dc51b48\n",
      "Author: JorgeCardona <jorgecardona@utp.edu.co>\n",
      "Date:   Fri Mar 17 20:27:49 2023 -0500\n",
      "\n",
      "    Initial commit\n",
      "##############################################################################################################\n",
      "\n",
      "############################################# COMANDO A EJECUTAR #############################################\n",
      "git push --set-upstream origin revert_branch\n",
      "####################################### RESULTADO DE COMANDO EJECUTADO #######################################\n",
      "Branch 'revert_branch' set up to track remote branch 'revert_branch' from 'origin'.\n",
      "##############################################################################################################\n",
      "\n",
      "############################################# COMANDO A EJECUTAR #############################################\n",
      "git branch\n",
      "####################################### RESULTADO DE COMANDO EJECUTADO #######################################\n",
      "  main\n",
      "  multi_commits\n",
      "  reset_branch\n",
      "* revert_branch\n",
      "##############################################################################################################\n",
      "\n"
     ]
    }
   ],
   "source": [
    "nombre_rama = 'revert_branch'\n",
    "generar_archivos_y_hacer_commit(nombre_rama=nombre_rama)"
   ]
  },
  {
   "cell_type": "markdown",
   "id": "14dcee2e-b81b-46b1-be2d-11141fddccb3",
   "metadata": {},
   "source": [
    "## REVERT HASTA UN COMMIT ESPECIFICO O UN HEAD~ EN UN REPOSITORIO REMOTO\n",
    "https://github.com/JorgeCardona/comandos_git"
   ]
  },
  {
   "cell_type": "code",
   "execution_count": 48,
   "id": "023475c8-814d-4f36-b64c-a64beca95906",
   "metadata": {
    "scrolled": true,
    "tags": []
   },
   "outputs": [
    {
     "name": "stdout",
     "output_type": "stream",
     "text": [
      "############################################# COMANDO A EJECUTAR #############################################\n",
      "git revert HEAD~12\n",
      "####################################### RESULTADO DE COMANDO EJECUTADO #######################################\n",
      "Removing index.html\n",
      "[revert_branch 9f83cca] Revert \"adicionado archivo html\"\n",
      " Date: Sun Mar 19 00:08:41 2023 -0500\n",
      " 1 file changed, 0 insertions(+), 0 deletions(-)\n",
      " delete mode 100644 index.html\n",
      "##############################################################################################################\n",
      "\n",
      "############################################# COMANDO A EJECUTAR #############################################\n",
      "git log\n",
      "####################################### RESULTADO DE COMANDO EJECUTADO #######################################\n",
      "commit 9f83cca482f2aa9892885a80e5afe12bf9c67c25\n",
      "Author: PARADIGMA\\QiDimMak <jorgecardona@utp.edu.co>\n",
      "Date:   Sun Mar 19 00:08:41 2023 -0500\n",
      "\n",
      "    Revert \"adicionado archivo html\"\n",
      "    \n",
      "    This reverts commit 67e732fc8765f006f2ff66ab2aa80ab470795e25.\n",
      "\n",
      "commit d631e488d71e4535bc158ed608f9c2eef37665d8\n",
      "Author: PARADIGMA\\QiDimMak <jorgecardona@utp.edu.co>\n",
      "Date:   Sun Mar 19 00:08:38 2023 -0500\n",
      "\n",
      "    ADICIONADO ARCHIVO link.vs 2023-03-19 00:08:36.294279\n",
      "\n",
      "commit 76fbbf332c9def783879501d3fe782cdd7de75eb\n",
      "Author: PARADIGMA\\QiDimMak <jorgecardona@utp.edu.co>\n",
      "Date:   Sun Mar 19 00:08:38 2023 -0500\n",
      "\n",
      "    ADICIONADO ARCHIVO dataset.avro 2023-03-19 00:08:36.294279\n",
      "\n",
      "commit 9e1ee3f1ca212152146c983cea992af08a2f8682\n",
      "Author: PARADIGMA\\QiDimMak <jorgecardona@utp.edu.co>\n",
      "Date:   Sun Mar 19 00:08:38 2023 -0500\n",
      "\n",
      "    ADICIONADO ARCHIVO query.sql 2023-03-19 00:08:36.294279\n",
      "\n",
      "commit e05fa6521b78fa88db4d40f7103467f3f57b93db\n",
      "Author: PARADIGMA\\QiDimMak <jorgecardona@utp.edu.co>\n",
      "Date:   Sun Mar 19 00:08:37 2023 -0500\n",
      "\n",
      "    ADICIONADO ARCHIVO utils.gif 2023-03-19 00:08:36.294279\n",
      "\n",
      "commit 95c7de4a900d3440597f4b42aaf5a8c4783770f6\n",
      "Author: PARADIGMA\\QiDimMak <jorgecardona@utp.edu.co>\n",
      "Date:   Sun Mar 19 00:08:37 2023 -0500\n",
      "\n",
      "    ADICIONADO ARCHIVO addon.php 2023-03-19 00:08:36.294279\n",
      "\n",
      "commit fc2bae22c2e894a4f15b12f273574aba6156190b\n",
      "Author: PARADIGMA\\QiDimMak <jorgecardona@utp.edu.co>\n",
      "Date:   Sun Mar 19 00:08:37 2023 -0500\n",
      "\n",
      "    ADICIONADO ARCHIVO calculos.c 2023-03-19 00:08:36.294279\n",
      "\n",
      "commit 0e946400f2d1d02a9c1db8f4b95ef071f5c6e943\n",
      "Author: PARADIGMA\\QiDimMak <jorgecardona@utp.edu.co>\n",
      "Date:   Sun Mar 19 00:08:37 2023 -0500\n",
      "\n",
      "    ADICIONADO ARCHIVO connection.java 2023-03-19 00:08:36.294279\n",
      "\n",
      "commit 3757daad485b38393503d75ac7c9b9ae91094c74\n",
      "Author: PARADIGMA\\QiDimMak <jorgecardona@utp.edu.co>\n",
      "Date:   Sun Mar 19 00:08:37 2023 -0500\n",
      "\n",
      "    ADICIONADO ARCHIVO main.py 2023-03-19 00:08:36.294279\n",
      "\n",
      "commit 966c1877edeca9d68b172aaf33f4ab66cc15a2d5\n",
      "Author: PARADIGMA\\QiDimMak <jorgecardona@utp.edu.co>\n",
      "Date:   Sun Mar 19 00:08:37 2023 -0500\n",
      "\n",
      "    ADICIONADO ARCHIVO imagen.png 2023-03-19 00:08:36.294279\n",
      "\n",
      "commit 1be188b288e8fbf9a1244885a7360bb74cac1e19\n",
      "Author: PARADIGMA\\QiDimMak <jorgecardona@utp.edu.co>\n",
      "Date:   Sun Mar 19 00:08:36 2023 -0500\n",
      "\n",
      "    ADICIONADO ARCHIVO Manifest.yaml 2023-03-19 00:08:36.294279\n",
      "\n",
      "commit 5a3d434dc8d07a99487d2e561a8a802fdda68fec\n",
      "Author: PARADIGMA\\QiDimMak <jorgecardona@utp.edu.co>\n",
      "Date:   Sun Mar 19 00:08:36 2023 -0500\n",
      "\n",
      "    ADICIONADO ARCHIVO Dockerfile 2023-03-19 00:08:36.294279\n",
      "\n",
      "commit bfeda9e4663db574591c3dff4d7f3e1e377d355b\n",
      "Author: PARADIGMA\\QiDimMak <jorgecardona@utp.edu.co>\n",
      "Date:   Sun Mar 19 00:08:36 2023 -0500\n",
      "\n",
      "    ADICIONADO ARCHIVO info.txt 2023-03-19 00:08:36.294279\n",
      "\n",
      "commit 67e732fc8765f006f2ff66ab2aa80ab470795e25\n",
      "Author: PARADIGMA\\QiDimMak <jorgecardona@utp.edu.co>\n",
      "Date:   Sat Mar 18 12:31:41 2023 -0500\n",
      "\n",
      "    adicionado archivo html\n",
      "\n",
      "commit 1d9c154468c6bb560f2906cda47836bab7b78a2d\n",
      "Author: PARADIGMA\\QiDimMak <jorgecardona@utp.edu.co>\n",
      "Date:   Sat Mar 18 12:31:12 2023 -0500\n",
      "\n",
      "    adicionado archivo csv\n",
      "\n",
      "commit dcfb55bb703b9b52cfc0ac628c7191c2cba147e6\n",
      "Author: PARADIGMA\\QiDimMak <jorgecardona@utp.edu.co>\n",
      "Date:   Sat Mar 18 12:30:45 2023 -0500\n",
      "\n",
      "    adicionado archivo excel\n",
      "\n",
      "commit 52ff70bbe19b14d28ca36352d2ff80befbc3bd06\n",
      "Author: PARADIGMA\\QiDimMak <jorgecardona@utp.edu.co>\n",
      "Date:   Sat Mar 18 12:29:59 2023 -0500\n",
      "\n",
      "    adicionado archivo pdf\n",
      "\n",
      "commit 3b4edb5a785dcc5841b35cd2ad93033cd29cb730\n",
      "Author: PARADIGMA\\QiDimMak <jorgecardona@utp.edu.co>\n",
      "Date:   Fri Mar 17 20:39:55 2023 -0500\n",
      "\n",
      "    adicionados archivo de configuracion y requerimientos\n",
      "\n",
      "commit d15fad27cb8d1bcb6a0e697ef02e2d787dc51b48\n",
      "Author: JorgeCardona <jorgecardona@utp.edu.co>\n",
      "Date:   Fri Mar 17 20:27:49 2023 -0500\n",
      "\n",
      "    Initial commit\n",
      "##############################################################################################################\n",
      "\n"
     ]
    }
   ],
   "source": [
    "# elimina todos los archivos o cambios hechos despues de este commit YA NO SE PUEDEN RECUPERAR ESOS ARCHIVOS\n",
    "comando = 'git revert HEAD~12'\n",
    "ejecutar_comando_git(comando)\n",
    "\n",
    "comando = 'git log'\n",
    "ejecutar_comando_git(comando)"
   ]
  },
  {
   "cell_type": "markdown",
   "id": "baf2e62d-6d6c-4db1-9e55-ed83ca32cc74",
   "metadata": {},
   "source": [
    "#### CONFIRMAR LOS CAMBIOS DEL REVERT EN EL REPOSITORIO REMOTO"
   ]
  },
  {
   "cell_type": "code",
   "execution_count": 49,
   "id": "3d734989-5626-45c6-9628-b07f688f8a28",
   "metadata": {
    "tags": []
   },
   "outputs": [
    {
     "name": "stdout",
     "output_type": "stream",
     "text": [
      "############################################# COMANDO A EJECUTAR #############################################\n",
      "git push --force origin revert_branch\n",
      "####################################### RESULTADO DE COMANDO EJECUTADO #######################################\n",
      "##############################################################################################################\n",
      "\n"
     ]
    }
   ],
   "source": [
    "# confirmar al repositorio remoto el reset\n",
    "comando = 'git push --force origin {nombre_rama}'.format(nombre_rama=nombre_rama)\n",
    "ejecutar_comando_git(comando)"
   ]
  },
  {
   "cell_type": "markdown",
   "id": "483b99bf-43cf-4609-882b-c913ae076c1d",
   "metadata": {},
   "source": [
    "#### ELIMINAR LA RAMA EN EL REPOSITORIO DE ORIGEN O REMOTO"
   ]
  },
  {
   "cell_type": "code",
   "execution_count": 50,
   "id": "50a8ffcc-ede8-42c4-a46e-a21b920e457f",
   "metadata": {
    "tags": []
   },
   "outputs": [
    {
     "name": "stdout",
     "output_type": "stream",
     "text": [
      "############################################# COMANDO A EJECUTAR #############################################\n",
      "git push origin -d revert_branch\n",
      "####################################### RESULTADO DE COMANDO EJECUTADO #######################################\n",
      "##############################################################################################################\n",
      "\n"
     ]
    }
   ],
   "source": [
    "comando = 'git push origin -d {nombre_rama}'.format(nombre_rama=nombre_rama)\n",
    "ejecutar_comando_git(comando)"
   ]
  },
  {
   "cell_type": "markdown",
   "id": "9b027290-7227-420b-83d9-df5d70ec5f30",
   "metadata": {
    "tags": []
   },
   "source": [
    "# <center> REBASE COMMITs DE UN REPOSITORIO</center>"
   ]
  },
  {
   "cell_type": "code",
   "execution_count": 53,
   "id": "cc27876f-4967-4f76-b861-405e533c651a",
   "metadata": {
    "scrolled": true,
    "tags": []
   },
   "outputs": [
    {
     "name": "stdout",
     "output_type": "stream",
     "text": [
      "############################################# COMANDO A EJECUTAR #############################################\n",
      "git restore .\n",
      "####################################### RESULTADO DE COMANDO EJECUTADO #######################################\n",
      "##############################################################################################################\n",
      "\n",
      "############################################# COMANDO A EJECUTAR #############################################\n",
      "git checkout multi_commits\n",
      "####################################### RESULTADO DE COMANDO EJECUTADO #######################################\n",
      "Your branch is behind 'origin/multi_commits' by 5 commits, and can be fast-forwarded.\n",
      "  (use \"git pull\" to update your local branch)\n",
      "##############################################################################################################\n",
      "\n",
      "############################################# COMANDO A EJECUTAR #############################################\n",
      "git branch -a\n",
      "####################################### RESULTADO DE COMANDO EJECUTADO #######################################\n",
      "  main\n",
      "* multi_commits\n",
      "  reset_branch\n",
      "  revert_branch\n",
      "  remotes/origin/HEAD -> origin/main\n",
      "  remotes/origin/branch_dos\n",
      "  remotes/origin/branch_uno\n",
      "  remotes/origin/main\n",
      "  remotes/origin/multi_commits\n",
      "##############################################################################################################\n",
      "\n",
      "############################################# COMANDO A EJECUTAR #############################################\n",
      "git branch -a\n",
      "####################################### RESULTADO DE COMANDO EJECUTADO #######################################\n",
      "  main\n",
      "* multi_commits\n",
      "  reset_branch\n",
      "  revert_branch\n",
      "  remotes/origin/HEAD -> origin/main\n",
      "  remotes/origin/branch_dos\n",
      "  remotes/origin/branch_uno\n",
      "  remotes/origin/main\n",
      "  remotes/origin/multi_commits\n",
      "##############################################################################################################\n",
      "\n",
      "############################################# COMANDO A EJECUTAR #############################################\n",
      "git checkout -b rebase_branch\n",
      "####################################### RESULTADO DE COMANDO EJECUTADO #######################################\n",
      "##############################################################################################################\n",
      "\n",
      "############################################# COMANDO A EJECUTAR #############################################\n",
      "git branch\n",
      "####################################### RESULTADO DE COMANDO EJECUTADO #######################################\n",
      "  main\n",
      "  multi_commits\n",
      "* rebase_branch\n",
      "  reset_branch\n",
      "  revert_branch\n",
      "##############################################################################################################\n",
      "\n",
      "lista_de_archivos = ['info.txt', 'Dockerfile', 'Manifest.yaml', 'imagen.png', 'main.py', 'connection.java', 'calculos.c', 'addon.php', 'utils.gif', 'query.sql', 'dataset.avro', 'link.vs']\n",
      "############################################# COMANDO A EJECUTAR #############################################\n",
      "echo 1679202605.57804 >> info.txt\n",
      "####################################### RESULTADO DE COMANDO EJECUTADO #######################################\n",
      "##############################################################################################################\n",
      "\n",
      "############################################# COMANDO A EJECUTAR #############################################\n",
      "echo 1679202605.587234 >> Dockerfile\n",
      "####################################### RESULTADO DE COMANDO EJECUTADO #######################################\n",
      "##############################################################################################################\n",
      "\n",
      "############################################# COMANDO A EJECUTAR #############################################\n",
      "echo 1679202605.597408 >> Manifest.yaml\n",
      "####################################### RESULTADO DE COMANDO EJECUTADO #######################################\n",
      "##############################################################################################################\n",
      "\n",
      "############################################# COMANDO A EJECUTAR #############################################\n",
      "echo 1679202605.605111 >> imagen.png\n",
      "####################################### RESULTADO DE COMANDO EJECUTADO #######################################\n",
      "##############################################################################################################\n",
      "\n",
      "############################################# COMANDO A EJECUTAR #############################################\n",
      "echo 1679202605.614028 >> main.py\n",
      "####################################### RESULTADO DE COMANDO EJECUTADO #######################################\n",
      "##############################################################################################################\n",
      "\n",
      "############################################# COMANDO A EJECUTAR #############################################\n",
      "echo 1679202605.622086 >> connection.java\n",
      "####################################### RESULTADO DE COMANDO EJECUTADO #######################################\n",
      "##############################################################################################################\n",
      "\n",
      "############################################# COMANDO A EJECUTAR #############################################\n",
      "echo 1679202605.631452 >> calculos.c\n",
      "####################################### RESULTADO DE COMANDO EJECUTADO #######################################\n",
      "##############################################################################################################\n",
      "\n",
      "############################################# COMANDO A EJECUTAR #############################################\n",
      "echo 1679202605.643497 >> addon.php\n",
      "####################################### RESULTADO DE COMANDO EJECUTADO #######################################\n",
      "##############################################################################################################\n",
      "\n",
      "############################################# COMANDO A EJECUTAR #############################################\n",
      "echo 1679202605.660582 >> utils.gif\n",
      "####################################### RESULTADO DE COMANDO EJECUTADO #######################################\n",
      "##############################################################################################################\n",
      "\n",
      "############################################# COMANDO A EJECUTAR #############################################\n",
      "echo 1679202605.683982 >> query.sql\n",
      "####################################### RESULTADO DE COMANDO EJECUTADO #######################################\n",
      "##############################################################################################################\n",
      "\n",
      "############################################# COMANDO A EJECUTAR #############################################\n",
      "echo 1679202605.70399 >> dataset.avro\n",
      "####################################### RESULTADO DE COMANDO EJECUTADO #######################################\n",
      "##############################################################################################################\n",
      "\n",
      "############################################# COMANDO A EJECUTAR #############################################\n",
      "echo 1679202605.723716 >> link.vs\n",
      "####################################### RESULTADO DE COMANDO EJECUTADO #######################################\n",
      "##############################################################################################################\n",
      "\n",
      "############################################# COMANDO A EJECUTAR #############################################\n",
      "git add info.txt\n",
      "####################################### RESULTADO DE COMANDO EJECUTADO #######################################\n",
      "##############################################################################################################\n",
      "\n",
      "[rebase_branch 685c5a7] ADICIONADO ARCHIVO info.txt 2023-03-19 00:10:05.578040\n",
      " 1 file changed, 1 insertion(+)\n",
      " create mode 100644 info.txt\n",
      "############################################# COMANDO A EJECUTAR #############################################\n",
      "git add Dockerfile\n",
      "####################################### RESULTADO DE COMANDO EJECUTADO #######################################\n",
      "##############################################################################################################\n",
      "\n",
      "[rebase_branch 1828db0] ADICIONADO ARCHIVO Dockerfile 2023-03-19 00:10:05.578040\n",
      " 1 file changed, 1 insertion(+)\n",
      " create mode 100644 Dockerfile\n",
      "############################################# COMANDO A EJECUTAR #############################################\n",
      "git add Manifest.yaml\n",
      "####################################### RESULTADO DE COMANDO EJECUTADO #######################################\n",
      "##############################################################################################################\n",
      "\n",
      "[rebase_branch 133921e] ADICIONADO ARCHIVO Manifest.yaml 2023-03-19 00:10:05.578040\n",
      " 1 file changed, 1 insertion(+)\n",
      " create mode 100644 Manifest.yaml\n",
      "############################################# COMANDO A EJECUTAR #############################################\n",
      "git add imagen.png\n",
      "####################################### RESULTADO DE COMANDO EJECUTADO #######################################\n",
      "##############################################################################################################\n",
      "\n",
      "[rebase_branch 03c40ba] ADICIONADO ARCHIVO imagen.png 2023-03-19 00:10:05.578040\n",
      " 1 file changed, 1 insertion(+)\n",
      " create mode 100644 imagen.png\n",
      "############################################# COMANDO A EJECUTAR #############################################\n",
      "git add main.py\n",
      "####################################### RESULTADO DE COMANDO EJECUTADO #######################################\n",
      "##############################################################################################################\n",
      "\n",
      "[rebase_branch 991edaf] ADICIONADO ARCHIVO main.py 2023-03-19 00:10:05.578040\n",
      " 1 file changed, 1 insertion(+)\n",
      " create mode 100644 main.py\n",
      "############################################# COMANDO A EJECUTAR #############################################\n",
      "git add connection.java\n",
      "####################################### RESULTADO DE COMANDO EJECUTADO #######################################\n",
      "##############################################################################################################\n",
      "\n",
      "[rebase_branch efa7a92] ADICIONADO ARCHIVO connection.java 2023-03-19 00:10:05.578040\n",
      " 1 file changed, 1 insertion(+)\n",
      " create mode 100644 connection.java\n",
      "############################################# COMANDO A EJECUTAR #############################################\n",
      "git add calculos.c\n",
      "####################################### RESULTADO DE COMANDO EJECUTADO #######################################\n",
      "##############################################################################################################\n",
      "\n",
      "[rebase_branch 41107c2] ADICIONADO ARCHIVO calculos.c 2023-03-19 00:10:05.578040\n",
      " 1 file changed, 1 insertion(+)\n",
      " create mode 100644 calculos.c\n",
      "############################################# COMANDO A EJECUTAR #############################################\n",
      "git add addon.php\n",
      "####################################### RESULTADO DE COMANDO EJECUTADO #######################################\n",
      "##############################################################################################################\n",
      "\n",
      "[rebase_branch a7fbd4a] ADICIONADO ARCHIVO addon.php 2023-03-19 00:10:05.578040\n",
      " 1 file changed, 1 insertion(+)\n",
      " create mode 100644 addon.php\n",
      "############################################# COMANDO A EJECUTAR #############################################\n",
      "git add utils.gif\n",
      "####################################### RESULTADO DE COMANDO EJECUTADO #######################################\n",
      "##############################################################################################################\n",
      "\n",
      "[rebase_branch 582d85e] ADICIONADO ARCHIVO utils.gif 2023-03-19 00:10:05.578040\n",
      " 1 file changed, 1 insertion(+)\n",
      " create mode 100644 utils.gif\n",
      "############################################# COMANDO A EJECUTAR #############################################\n",
      "git add query.sql\n",
      "####################################### RESULTADO DE COMANDO EJECUTADO #######################################\n",
      "##############################################################################################################\n",
      "\n",
      "[rebase_branch f00040e] ADICIONADO ARCHIVO query.sql 2023-03-19 00:10:05.578040\n",
      " 1 file changed, 1 insertion(+)\n",
      " create mode 100644 query.sql\n",
      "############################################# COMANDO A EJECUTAR #############################################\n",
      "git add dataset.avro\n",
      "####################################### RESULTADO DE COMANDO EJECUTADO #######################################\n",
      "##############################################################################################################\n",
      "\n",
      "[rebase_branch 0bfb793] ADICIONADO ARCHIVO dataset.avro 2023-03-19 00:10:05.578040\n",
      " 1 file changed, 1 insertion(+)\n",
      " create mode 100644 dataset.avro\n",
      "############################################# COMANDO A EJECUTAR #############################################\n",
      "git add link.vs\n",
      "####################################### RESULTADO DE COMANDO EJECUTADO #######################################\n",
      "##############################################################################################################\n",
      "\n",
      "[rebase_branch 9ef974c] ADICIONADO ARCHIVO link.vs 2023-03-19 00:10:05.578040\n",
      " 1 file changed, 1 insertion(+)\n",
      " create mode 100644 link.vs\n",
      "############################################# COMANDO A EJECUTAR #############################################\n",
      "git status\n",
      "####################################### RESULTADO DE COMANDO EJECUTADO #######################################\n",
      "On branch rebase_branch\n",
      "nothing to commit, working tree clean\n",
      "##############################################################################################################\n",
      "\n",
      "############################################# COMANDO A EJECUTAR #############################################\n",
      "git log\n",
      "####################################### RESULTADO DE COMANDO EJECUTADO #######################################\n",
      "commit 9ef974c1c4040f85e71cae585bd1660e9abc2cfd\n",
      "Author: PARADIGMA\\QiDimMak <jorgecardona@utp.edu.co>\n",
      "Date:   Sun Mar 19 00:10:08 2023 -0500\n",
      "\n",
      "    ADICIONADO ARCHIVO link.vs 2023-03-19 00:10:05.578040\n",
      "\n",
      "commit 0bfb7936e9f5469152ae41d001ed21f3747668f3\n",
      "Author: PARADIGMA\\QiDimMak <jorgecardona@utp.edu.co>\n",
      "Date:   Sun Mar 19 00:10:07 2023 -0500\n",
      "\n",
      "    ADICIONADO ARCHIVO dataset.avro 2023-03-19 00:10:05.578040\n",
      "\n",
      "commit f00040ef01a2d97ee5b2e9859eed102c5af498ea\n",
      "Author: PARADIGMA\\QiDimMak <jorgecardona@utp.edu.co>\n",
      "Date:   Sun Mar 19 00:10:07 2023 -0500\n",
      "\n",
      "    ADICIONADO ARCHIVO query.sql 2023-03-19 00:10:05.578040\n",
      "\n",
      "commit 582d85ece5ec39b033c9fe447b8dd861ff2db000\n",
      "Author: PARADIGMA\\QiDimMak <jorgecardona@utp.edu.co>\n",
      "Date:   Sun Mar 19 00:10:07 2023 -0500\n",
      "\n",
      "    ADICIONADO ARCHIVO utils.gif 2023-03-19 00:10:05.578040\n",
      "\n",
      "commit a7fbd4ab9694c06bf96c9408b4403e4c7e3233d0\n",
      "Author: PARADIGMA\\QiDimMak <jorgecardona@utp.edu.co>\n",
      "Date:   Sun Mar 19 00:10:07 2023 -0500\n",
      "\n",
      "    ADICIONADO ARCHIVO addon.php 2023-03-19 00:10:05.578040\n",
      "\n",
      "commit 41107c2e3d79f13e9ae7d2593cb5ba86e714e952\n",
      "Author: PARADIGMA\\QiDimMak <jorgecardona@utp.edu.co>\n",
      "Date:   Sun Mar 19 00:10:07 2023 -0500\n",
      "\n",
      "    ADICIONADO ARCHIVO calculos.c 2023-03-19 00:10:05.578040\n",
      "\n",
      "commit efa7a923d101bd918fa380526032732ed0244e77\n",
      "Author: PARADIGMA\\QiDimMak <jorgecardona@utp.edu.co>\n",
      "Date:   Sun Mar 19 00:10:06 2023 -0500\n",
      "\n",
      "    ADICIONADO ARCHIVO connection.java 2023-03-19 00:10:05.578040\n",
      "\n",
      "commit 991edaf7e054e72354fe622942909fde5a34c4a5\n",
      "Author: PARADIGMA\\QiDimMak <jorgecardona@utp.edu.co>\n",
      "Date:   Sun Mar 19 00:10:06 2023 -0500\n",
      "\n",
      "    ADICIONADO ARCHIVO main.py 2023-03-19 00:10:05.578040\n",
      "\n",
      "commit 03c40ba73c7f88a8849ec7d6d5a9f40dccb2183b\n",
      "Author: PARADIGMA\\QiDimMak <jorgecardona@utp.edu.co>\n",
      "Date:   Sun Mar 19 00:10:06 2023 -0500\n",
      "\n",
      "    ADICIONADO ARCHIVO imagen.png 2023-03-19 00:10:05.578040\n",
      "\n",
      "commit 133921e79c4f92cf3f012143841cd6a3674b1ffd\n",
      "Author: PARADIGMA\\QiDimMak <jorgecardona@utp.edu.co>\n",
      "Date:   Sun Mar 19 00:10:06 2023 -0500\n",
      "\n",
      "    ADICIONADO ARCHIVO Manifest.yaml 2023-03-19 00:10:05.578040\n",
      "\n",
      "commit 1828db0a5d194185558664e85ab68af9592a2bdd\n",
      "Author: PARADIGMA\\QiDimMak <jorgecardona@utp.edu.co>\n",
      "Date:   Sun Mar 19 00:10:06 2023 -0500\n",
      "\n",
      "    ADICIONADO ARCHIVO Dockerfile 2023-03-19 00:10:05.578040\n",
      "\n",
      "commit 685c5a7e21566977d68b9a65a11e7e7eb2dde9b7\n",
      "Author: PARADIGMA\\QiDimMak <jorgecardona@utp.edu.co>\n",
      "Date:   Sun Mar 19 00:10:05 2023 -0500\n",
      "\n",
      "    ADICIONADO ARCHIVO info.txt 2023-03-19 00:10:05.578040\n",
      "\n",
      "commit d15fad27cb8d1bcb6a0e697ef02e2d787dc51b48\n",
      "Author: JorgeCardona <jorgecardona@utp.edu.co>\n",
      "Date:   Fri Mar 17 20:27:49 2023 -0500\n",
      "\n",
      "    Initial commit\n",
      "##############################################################################################################\n",
      "\n",
      "############################################# COMANDO A EJECUTAR #############################################\n",
      "git push --set-upstream origin rebase_branch\n",
      "####################################### RESULTADO DE COMANDO EJECUTADO #######################################\n",
      "Branch 'rebase_branch' set up to track remote branch 'rebase_branch' from 'origin'.\n",
      "##############################################################################################################\n",
      "\n",
      "############################################# COMANDO A EJECUTAR #############################################\n",
      "git branch\n",
      "####################################### RESULTADO DE COMANDO EJECUTADO #######################################\n",
      "  main\n",
      "  multi_commits\n",
      "* rebase_branch\n",
      "  reset_branch\n",
      "  revert_branch\n",
      "##############################################################################################################\n",
      "\n"
     ]
    }
   ],
   "source": [
    "nombre_rama = 'rebase_branch'\n",
    "generar_archivos_y_hacer_commit(nombre_rama=nombre_rama)"
   ]
  },
  {
   "cell_type": "markdown",
   "id": "9f41a9a0-fc04-47f4-80ff-8e615a806360",
   "metadata": {},
   "source": [
    "# EN LA CONSOLA DE VSCODE\n",
    "# git rebase -i d15fad27cb8d1bcb6a0e697ef02e2d787dc51b48"
   ]
  },
  {
   "cell_type": "markdown",
   "id": "89cbab06-c933-44a8-bceb-c3a80735123e",
   "metadata": {},
   "source": [
    "# SE ABRE AUTOMATICAMENTE EL EDITOR DE TEXTO, reemplazar la palabra **pick** por **squash** GUARDAR y CERRAR\n",
    "# SE ABRE AUTOMATICAMENTE EL EDITOR DE TEXTO, reemplazar los comentarios por el comentario que se quiere\n",
    "# subir los cambios al repositorio\n",
    "# git push --force origin rebase_branch"
   ]
  },
  {
   "cell_type": "markdown",
   "id": "d6d6ce5d-6292-4989-a382-8b4c4223b1d8",
   "metadata": {
    "tags": []
   },
   "source": [
    "#### ELIMINAR LA RAMA EN EL REPOSITORIO DE ORIGEN O REMOTO"
   ]
  },
  {
   "cell_type": "code",
   "execution_count": 54,
   "id": "dea080a3-5eaf-4c8f-abeb-3ff0ae69f750",
   "metadata": {
    "tags": []
   },
   "outputs": [
    {
     "name": "stdout",
     "output_type": "stream",
     "text": [
      "############################################# COMANDO A EJECUTAR #############################################\n",
      "git push origin -d rebase_branch\n",
      "####################################### RESULTADO DE COMANDO EJECUTADO #######################################\n",
      "##############################################################################################################\n",
      "\n"
     ]
    }
   ],
   "source": [
    "comando = 'git push origin -d {nombre_rama}'.format(nombre_rama=nombre_rama)\n",
    "ejecutar_comando_git(comando)"
   ]
  },
  {
   "cell_type": "markdown",
   "id": "98749f3f-04c9-4f07-bede-6fe4d3c04982",
   "metadata": {},
   "source": [
    "# <center> MERGE RAMAS DE UN REPOSITORIO</center>"
   ]
  },
  {
   "cell_type": "code",
   "execution_count": 57,
   "id": "b3a24f21-1be6-4aba-ae1f-8d33393e968b",
   "metadata": {
    "scrolled": true,
    "tags": []
   },
   "outputs": [
    {
     "name": "stdout",
     "output_type": "stream",
     "text": [
      "############################################# COMANDO A EJECUTAR #############################################\n",
      "git restore .\n",
      "####################################### RESULTADO DE COMANDO EJECUTADO #######################################\n",
      "##############################################################################################################\n",
      "\n",
      "############################################# COMANDO A EJECUTAR #############################################\n",
      "git checkout multi_commits\n",
      "####################################### RESULTADO DE COMANDO EJECUTADO #######################################\n",
      "Your branch is behind 'origin/multi_commits' by 4 commits, and can be fast-forwarded.\n",
      "  (use \"git pull\" to update your local branch)\n",
      "##############################################################################################################\n",
      "\n",
      "############################################# COMANDO A EJECUTAR #############################################\n",
      "git branch -a\n",
      "####################################### RESULTADO DE COMANDO EJECUTADO #######################################\n",
      "  branch_uno\n",
      "  main\n",
      "* multi_commits\n",
      "  rebase_branch\n",
      "  reset_branch\n",
      "  revert_branch\n",
      "  remotes/origin/HEAD -> origin/main\n",
      "  remotes/origin/branch_uno\n",
      "  remotes/origin/main\n",
      "  remotes/origin/multi_commits\n",
      "##############################################################################################################\n",
      "\n",
      "############################################# COMANDO A EJECUTAR #############################################\n",
      "git branch -a\n",
      "####################################### RESULTADO DE COMANDO EJECUTADO #######################################\n",
      "  branch_uno\n",
      "  main\n",
      "* multi_commits\n",
      "  rebase_branch\n",
      "  reset_branch\n",
      "  revert_branch\n",
      "  remotes/origin/HEAD -> origin/main\n",
      "  remotes/origin/branch_uno\n",
      "  remotes/origin/main\n",
      "  remotes/origin/multi_commits\n",
      "##############################################################################################################\n",
      "\n",
      "############################################# COMANDO A EJECUTAR #############################################\n",
      "git push origin -d branch_uno\n",
      "####################################### RESULTADO DE COMANDO EJECUTADO #######################################\n",
      "##############################################################################################################\n",
      "\n",
      "############################################# COMANDO A EJECUTAR #############################################\n",
      "git branch -D branch_uno\n",
      "####################################### RESULTADO DE COMANDO EJECUTADO #######################################\n",
      "Deleted branch branch_uno (was f75ff78).\n",
      "##############################################################################################################\n",
      "\n",
      "############################################# COMANDO A EJECUTAR #############################################\n",
      "git checkout -b branch_uno\n",
      "####################################### RESULTADO DE COMANDO EJECUTADO #######################################\n",
      "##############################################################################################################\n",
      "\n",
      "############################################# COMANDO A EJECUTAR #############################################\n",
      "git branch\n",
      "####################################### RESULTADO DE COMANDO EJECUTADO #######################################\n",
      "* branch_uno\n",
      "  main\n",
      "  multi_commits\n",
      "  rebase_branch\n",
      "  reset_branch\n",
      "  revert_branch\n",
      "##############################################################################################################\n",
      "\n",
      "lista_de_archivos = ['info.txt']\n",
      "############################################# COMANDO A EJECUTAR #############################################\n",
      "echo 1679202973.187236 >> info.txt\n",
      "####################################### RESULTADO DE COMANDO EJECUTADO #######################################\n",
      "##############################################################################################################\n",
      "\n",
      "############################################# COMANDO A EJECUTAR #############################################\n",
      "git add info.txt\n",
      "####################################### RESULTADO DE COMANDO EJECUTADO #######################################\n",
      "##############################################################################################################\n",
      "\n",
      "[branch_uno 961e673] ADICIONADO ARCHIVO info.txt 2023-03-19 00:16:13.187236\n",
      " 1 file changed, 1 insertion(+)\n",
      " create mode 100644 info.txt\n",
      "############################################# COMANDO A EJECUTAR #############################################\n",
      "git status\n",
      "####################################### RESULTADO DE COMANDO EJECUTADO #######################################\n",
      "On branch branch_uno\n",
      "nothing to commit, working tree clean\n",
      "##############################################################################################################\n",
      "\n",
      "############################################# COMANDO A EJECUTAR #############################################\n",
      "git log\n",
      "####################################### RESULTADO DE COMANDO EJECUTADO #######################################\n",
      "commit 961e6735bfc86d871c0a58adf8ad1ecd725343af\n",
      "Author: PARADIGMA\\QiDimMak <jorgecardona@utp.edu.co>\n",
      "Date:   Sun Mar 19 00:16:13 2023 -0500\n",
      "\n",
      "    ADICIONADO ARCHIVO info.txt 2023-03-19 00:16:13.187236\n",
      "\n",
      "commit 3b4edb5a785dcc5841b35cd2ad93033cd29cb730\n",
      "Author: PARADIGMA\\QiDimMak <jorgecardona@utp.edu.co>\n",
      "Date:   Fri Mar 17 20:39:55 2023 -0500\n",
      "\n",
      "    adicionados archivo de configuracion y requerimientos\n",
      "\n",
      "commit d15fad27cb8d1bcb6a0e697ef02e2d787dc51b48\n",
      "Author: JorgeCardona <jorgecardona@utp.edu.co>\n",
      "Date:   Fri Mar 17 20:27:49 2023 -0500\n",
      "\n",
      "    Initial commit\n",
      "##############################################################################################################\n",
      "\n",
      "############################################# COMANDO A EJECUTAR #############################################\n",
      "git push --set-upstream origin branch_uno\n",
      "####################################### RESULTADO DE COMANDO EJECUTADO #######################################\n",
      "Branch 'branch_uno' set up to track remote branch 'branch_uno' from 'origin'.\n",
      "##############################################################################################################\n",
      "\n",
      "############################################# COMANDO A EJECUTAR #############################################\n",
      "git branch\n",
      "####################################### RESULTADO DE COMANDO EJECUTADO #######################################\n",
      "* branch_uno\n",
      "  main\n",
      "  multi_commits\n",
      "  rebase_branch\n",
      "  reset_branch\n",
      "  revert_branch\n",
      "##############################################################################################################\n",
      "\n",
      "############################################# COMANDO A EJECUTAR #############################################\n",
      "git restore .\n",
      "####################################### RESULTADO DE COMANDO EJECUTADO #######################################\n",
      "##############################################################################################################\n",
      "\n",
      "############################################# COMANDO A EJECUTAR #############################################\n",
      "git checkout multi_commits\n",
      "####################################### RESULTADO DE COMANDO EJECUTADO #######################################\n",
      "Your branch is behind 'origin/multi_commits' by 4 commits, and can be fast-forwarded.\n",
      "  (use \"git pull\" to update your local branch)\n",
      "##############################################################################################################\n",
      "\n",
      "############################################# COMANDO A EJECUTAR #############################################\n",
      "git branch -a\n",
      "####################################### RESULTADO DE COMANDO EJECUTADO #######################################\n",
      "  branch_uno\n",
      "  main\n",
      "* multi_commits\n",
      "  rebase_branch\n",
      "  reset_branch\n",
      "  revert_branch\n",
      "  remotes/origin/HEAD -> origin/main\n",
      "  remotes/origin/branch_uno\n",
      "  remotes/origin/main\n",
      "  remotes/origin/multi_commits\n",
      "##############################################################################################################\n",
      "\n",
      "############################################# COMANDO A EJECUTAR #############################################\n",
      "git branch -a\n",
      "####################################### RESULTADO DE COMANDO EJECUTADO #######################################\n",
      "  branch_uno\n",
      "  main\n",
      "* multi_commits\n",
      "  rebase_branch\n",
      "  reset_branch\n",
      "  revert_branch\n",
      "  remotes/origin/HEAD -> origin/main\n",
      "  remotes/origin/branch_uno\n",
      "  remotes/origin/main\n",
      "  remotes/origin/multi_commits\n",
      "##############################################################################################################\n",
      "\n",
      "############################################# COMANDO A EJECUTAR #############################################\n",
      "git checkout -b branch_dos\n",
      "####################################### RESULTADO DE COMANDO EJECUTADO #######################################\n",
      "##############################################################################################################\n",
      "\n",
      "############################################# COMANDO A EJECUTAR #############################################\n",
      "git branch\n",
      "####################################### RESULTADO DE COMANDO EJECUTADO #######################################\n",
      "* branch_dos\n",
      "  branch_uno\n",
      "  main\n",
      "  multi_commits\n",
      "  rebase_branch\n",
      "  reset_branch\n",
      "  revert_branch\n",
      "##############################################################################################################\n",
      "\n",
      "lista_de_archivos = ['info.txt']\n",
      "############################################# COMANDO A EJECUTAR #############################################\n",
      "echo 1679202976.750324 >> info.txt\n",
      "####################################### RESULTADO DE COMANDO EJECUTADO #######################################\n",
      "##############################################################################################################\n",
      "\n",
      "############################################# COMANDO A EJECUTAR #############################################\n",
      "git add info.txt\n",
      "####################################### RESULTADO DE COMANDO EJECUTADO #######################################\n",
      "##############################################################################################################\n",
      "\n",
      "[branch_dos f89da61] ADICIONADO ARCHIVO info.txt 2023-03-19 00:16:16.750324\n",
      " 1 file changed, 1 insertion(+)\n",
      " create mode 100644 info.txt\n",
      "############################################# COMANDO A EJECUTAR #############################################\n",
      "git status\n",
      "####################################### RESULTADO DE COMANDO EJECUTADO #######################################\n",
      "On branch branch_dos\n",
      "nothing to commit, working tree clean\n",
      "##############################################################################################################\n",
      "\n",
      "############################################# COMANDO A EJECUTAR #############################################\n",
      "git log\n",
      "####################################### RESULTADO DE COMANDO EJECUTADO #######################################\n",
      "commit f89da61ef8ef11526e11650b6e28711eb72733da\n",
      "Author: PARADIGMA\\QiDimMak <jorgecardona@utp.edu.co>\n",
      "Date:   Sun Mar 19 00:16:16 2023 -0500\n",
      "\n",
      "    ADICIONADO ARCHIVO info.txt 2023-03-19 00:16:16.750324\n",
      "\n",
      "commit 3b4edb5a785dcc5841b35cd2ad93033cd29cb730\n",
      "Author: PARADIGMA\\QiDimMak <jorgecardona@utp.edu.co>\n",
      "Date:   Fri Mar 17 20:39:55 2023 -0500\n",
      "\n",
      "    adicionados archivo de configuracion y requerimientos\n",
      "\n",
      "commit d15fad27cb8d1bcb6a0e697ef02e2d787dc51b48\n",
      "Author: JorgeCardona <jorgecardona@utp.edu.co>\n",
      "Date:   Fri Mar 17 20:27:49 2023 -0500\n",
      "\n",
      "    Initial commit\n",
      "##############################################################################################################\n",
      "\n",
      "############################################# COMANDO A EJECUTAR #############################################\n",
      "git push --set-upstream origin branch_dos\n",
      "####################################### RESULTADO DE COMANDO EJECUTADO #######################################\n",
      "Branch 'branch_dos' set up to track remote branch 'branch_dos' from 'origin'.\n",
      "##############################################################################################################\n",
      "\n",
      "############################################# COMANDO A EJECUTAR #############################################\n",
      "git branch\n",
      "####################################### RESULTADO DE COMANDO EJECUTADO #######################################\n",
      "* branch_dos\n",
      "  branch_uno\n",
      "  main\n",
      "  multi_commits\n",
      "  rebase_branch\n",
      "  reset_branch\n",
      "  revert_branch\n",
      "##############################################################################################################\n",
      "\n"
     ]
    }
   ],
   "source": [
    "nombre_ramas = ['branch_uno','branch_dos']\n",
    "\n",
    "for rama in nombre_ramas:\n",
    "    generar_archivos_y_hacer_commit(rama, todos_los_archivos = False)"
   ]
  },
  {
   "cell_type": "markdown",
   "id": "baf1888f-cc65-47a1-8091-4c234363db68",
   "metadata": {},
   "source": [
    "# EN LA CONSOLA DE VSCODE\n",
    "# git merge branch_dos branch_uno"
   ]
  },
  {
   "cell_type": "markdown",
   "id": "a7674952-0aa9-43bd-98e6-c57aac0ac644",
   "metadata": {},
   "source": [
    "# Accept Current Change | Accept Incoming Change | Accept Both Changes | Compare Change\n",
    "# <<<<<<< HEAD\n",
    "# 1679198052.206751 (Current Change)\n",
    "# =======\n",
    "# 1679198046.401986 \n",
    "# >>>>>>> branch_uno (Incoming Change)"
   ]
  },
  {
   "cell_type": "code",
   "execution_count": null,
   "id": "525c71c2-a266-4398-96d8-a69c5500bf4a",
   "metadata": {},
   "outputs": [],
   "source": [
    "for rama in nombre_ramas:\n",
    "    comando = 'git push origin -d {nombre_rama}'.format(nombre_rama=nombre_rama)\n",
    "    ejecutar_comando_git(comando)"
   ]
  },
  {
   "cell_type": "markdown",
   "id": "135173a1-12bd-4f25-bab3-6f2d05b6443f",
   "metadata": {},
   "source": [
    "# EN LA CONSOLA DE VSCODE\n",
    "# git pull origin main"
   ]
  },
  {
   "cell_type": "markdown",
   "id": "c2c42d64-c530-47e3-acd0-c9ea23ca849d",
   "metadata": {},
   "source": [
    "# Accept Current Change | Accept Incoming Change | Accept Both Changes | Compare Change\n",
    "# <<<<<<< HEAD\n",
    "# 1679198052.206751 (Current Change)\n",
    "# =======\n",
    "# 1679198046.401986 \n",
    "# >>>>>>> main (Incoming Change)"
   ]
  },
  {
   "cell_type": "code",
   "execution_count": null,
   "id": "56828767-5137-417b-a0d5-3796cffed0cd",
   "metadata": {},
   "outputs": [],
   "source": []
  }
 ],
 "metadata": {
  "kernelspec": {
   "display_name": "Python 3 (ipykernel)",
   "language": "python",
   "name": "python3"
  },
  "language_info": {
   "codemirror_mode": {
    "name": "ipython",
    "version": 3
   },
   "file_extension": ".py",
   "mimetype": "text/x-python",
   "name": "python",
   "nbconvert_exporter": "python",
   "pygments_lexer": "ipython3",
   "version": "3.10.9"
  }
 },
 "nbformat": 4,
 "nbformat_minor": 5
}
