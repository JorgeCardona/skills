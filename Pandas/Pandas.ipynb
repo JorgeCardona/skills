{
 "cells": [
  {
   "cell_type": "code",
   "execution_count": null,
   "id": "14080769-aa57-48c7-93e4-c7f5b4956ca1",
   "metadata": {
    "scrolled": true,
    "tags": []
   },
   "outputs": [],
   "source": [
    "!python -V\n",
    "!pip show jupyterlab pandas plotly cufflinks seaborn openpyxl itables lxml pyarrow pip"
   ]
  },
  {
   "cell_type": "markdown",
   "id": "0a28ac04-abc9-4d49-9c4f-f8504b10d552",
   "metadata": {},
   "source": [
    "# <center>**LIBRERIAS Y FUNCIONES**</center>"
   ]
  },
  {
   "cell_type": "code",
   "execution_count": 1,
   "id": "e3d55416-41c5-402e-81b1-56f9e5efe323",
   "metadata": {
    "scrolled": true,
    "tags": []
   },
   "outputs": [],
   "source": [
    "# garbage colector para liberar recursos de variables usadas\n",
    "import gc as garbage_colector\n",
    "\n",
    "# ocultar los warnings\n",
    "import warnings\n",
    "warnings.filterwarnings('ignore')\n",
    "\n",
    "\n",
    "import pandas as pd\n",
    "# configura el maximo de filas y columnas a mostrar en el dataframe, en este caso TODAS LAS FILAS Y COLUMNAS\n",
    "pd.set_option('display.max_rows', None)\n",
    "pd.set_option('display.max_columns', None)\n",
    "\n",
    "# muestra todo el contenido de la fila en el dataframe por muy extenso que sea el contenido\n",
    "pd.set_option('display.max_colwidth', None)\n",
    "\n",
    "\n",
    "import random\n",
    "import numpy as np\n",
    "\n",
    "# configura las tablas interactivas\n",
    "#from itables import init_notebook_mode\n",
    "\n",
    "#init_notebook_mode(all_interactive=True)\n",
    "\n",
    "# importa las funciones para crear los dataframes de los archivos locales\n",
    "from utilidades import crear_dataframes, join_dataframe\n",
    "\n",
    "df1, df2, df3 = crear_dataframes(limite_muestra = 100)"
   ]
  },
  {
   "cell_type": "markdown",
   "id": "5cf7a101-e5fa-409d-bec4-febe5dc2df0f",
   "metadata": {},
   "source": [
    "# <center>**LEER ARCHIVOS Y CONVERTIRLOS EN DATAFRAME**</center>"
   ]
  },
  {
   "cell_type": "markdown",
   "id": "db956808-9618-4fc4-b3ac-15481c62cbb4",
   "metadata": {},
   "source": [
    "# <center>**JSON**</center>"
   ]
  },
  {
   "cell_type": "code",
   "execution_count": null,
   "id": "033ef9ab-6db8-4685-a409-7704ce9d8d91",
   "metadata": {
    "scrolled": true,
    "tags": []
   },
   "outputs": [],
   "source": [
    "archivo = 'https://raw.githubusercontent.com/JorgeCardona/skills/master/Pandas/archivos/json_dataframe.json'\n",
    "json = pd.read_json(archivo)\n",
    "json"
   ]
  },
  {
   "cell_type": "markdown",
   "id": "b506c1e7-af84-4dbf-9408-e68c7f493b06",
   "metadata": {},
   "source": [
    "# <center>**CSV**</center>"
   ]
  },
  {
   "cell_type": "code",
   "execution_count": null,
   "id": "03cdf760-92fc-4e33-b1f1-1fca26f5daba",
   "metadata": {
    "scrolled": true,
    "tags": []
   },
   "outputs": [],
   "source": [
    "archivo = 'https://raw.githubusercontent.com/JorgeCardona/skills/master/Pandas/archivos/csv_dataframe.csv'\n",
    "csv = pd.read_csv(archivo)\n",
    "csv"
   ]
  },
  {
   "cell_type": "markdown",
   "id": "2f9fa889-4c16-4c72-b116-592d5c561bb9",
   "metadata": {},
   "source": [
    "# <center>**EXCEL**</center>"
   ]
  },
  {
   "cell_type": "code",
   "execution_count": null,
   "id": "5bdf84b9-ab36-4bd4-b810-90aaab847829",
   "metadata": {
    "scrolled": true,
    "tags": []
   },
   "outputs": [],
   "source": [
    "archivo = 'https://raw.githubusercontent.com/JorgeCardona/skills/master/Pandas/archivos/excel_dataframes.xlsx'\n",
    "pd.read_excel(archivo, engine=\"openpyxl\")"
   ]
  },
  {
   "cell_type": "code",
   "execution_count": null,
   "id": "5bfe4bef-77bf-452e-b8dd-3cfece502493",
   "metadata": {
    "scrolled": true,
    "tags": []
   },
   "outputs": [],
   "source": [
    "archivo = 'https://raw.githubusercontent.com/JorgeCardona/skills/master/Pandas/archivos/excel_dataframes.xlsx'\n",
    "excel = pd.read_excel(archivo, engine=\"openpyxl\", sheet_name='dataframe_3')\n",
    "excel"
   ]
  },
  {
   "cell_type": "markdown",
   "id": "e2276e9d-2aed-47dd-81c5-f9cd1f0d6be8",
   "metadata": {},
   "source": [
    "# <center>**HTML**</center>"
   ]
  },
  {
   "cell_type": "code",
   "execution_count": null,
   "id": "8fecb2dd-1ecd-45a6-8a27-0299f61b23c5",
   "metadata": {
    "scrolled": true,
    "tags": []
   },
   "outputs": [],
   "source": [
    "archivo = 'https://raw.githubusercontent.com/JorgeCardona/skills/master/Pandas/archivos/html_dataframe.html'\n",
    "pd.read_html(archivo, encoding=\"UTF-8\")[0]"
   ]
  },
  {
   "cell_type": "markdown",
   "id": "370b8d21-852d-4443-9b88-3c5cc829062b",
   "metadata": {},
   "source": [
    "# <center>**PARQUET**</center>"
   ]
  },
  {
   "cell_type": "code",
   "execution_count": null,
   "id": "0a3419f1-7384-4cd9-8f16-106d58e932ef",
   "metadata": {
    "scrolled": true,
    "tags": []
   },
   "outputs": [],
   "source": [
    "archivo = 'https://raw.githubusercontent.com/JorgeCardona/skills/master/Pandas/archivos/parquet_dataframe.parquet'\n",
    "pd.read_parquet(archivo)"
   ]
  },
  {
   "cell_type": "markdown",
   "id": "c12c4f95-73b0-4fd3-97fc-0cc69e58798a",
   "metadata": {},
   "source": [
    "# <center>LIBERAMOS LOS RECURSOS USADOS POR LOS CONTENIDOS DE LAS VARIABLES QUE YA NO SE VAN A USAR**</center>"
   ]
  },
  {
   "cell_type": "code",
   "execution_count": null,
   "id": "51cb8d63-3d8a-4ebf-b27c-243f6e4f3b90",
   "metadata": {},
   "outputs": [],
   "source": [
    "df1, df2, df3 = json, csv, excel\n",
    "del excel\n",
    "del csv\n",
    "del json\n",
    "del archivo\n",
    "garbage_colector.collect(), garbage_colector.get_threshold()"
   ]
  },
  {
   "cell_type": "markdown",
   "id": "76270801-e348-4b5f-91e9-fb3fbd486a97",
   "metadata": {},
   "source": [
    "# <center>GUARDAR DATAFRAME A **JSON, CVS, EXCEL, HTML, PARQUET**</center>"
   ]
  },
  {
   "cell_type": "code",
   "execution_count": null,
   "id": "37165d65-7814-4e24-86c5-217c780602ca",
   "metadata": {},
   "outputs": [],
   "source": [
    "df1.to_json('archivos/json_dataframe.json', orient ='records', indent=2)\n",
    "df2.to_csv('archivos/csv_dataframe.csv', index=False)\n",
    "df3.to_excel('archivos/excel_dataframe.xlsx', index=False, sheet_name='dataframe_1')\n",
    "df1.to_html('archivos/html_dataframe.html', index=False)\n",
    "df2.to_parquet('archivos/parquet_dataframe.parquet', index=False)"
   ]
  },
  {
   "cell_type": "markdown",
   "id": "5dc0dbe4-c455-425f-9d7b-742ba45e3e8f",
   "metadata": {},
   "source": [
    "## <center>**PRINT VS DISPLAY**</center>"
   ]
  },
  {
   "cell_type": "code",
   "execution_count": null,
   "id": "d5f5731e-5896-4293-8745-00d2e2083ba5",
   "metadata": {
    "scrolled": true,
    "tags": []
   },
   "outputs": [],
   "source": [
    "print(df1, df2)"
   ]
  },
  {
   "cell_type": "code",
   "execution_count": null,
   "id": "7f3f86bb-49da-4fbc-95c5-05df33aa1a75",
   "metadata": {
    "scrolled": true,
    "tags": []
   },
   "outputs": [],
   "source": [
    "display(df1, df2)"
   ]
  },
  {
   "cell_type": "markdown",
   "id": "9a5e187b-940e-4df2-a284-9c9c664c5cfe",
   "metadata": {
    "tags": []
   },
   "source": [
    "# <center>**SERIES VS DATAFRAME**</center>\n",
    "### <center>**LAS SERIES ACTUAN COMO UNA LISTA CON INDICES UNIDIMENSIONALES ASOCIADOS A UNA COLUMNA**</center>\n",
    "<center><img src=\"series_vs_dataframes.png\"/></center>"
   ]
  },
  {
   "cell_type": "code",
   "execution_count": null,
   "id": "5dbf5ee8-8f08-4404-9b36-3c5ca3f568b2",
   "metadata": {
    "tags": []
   },
   "outputs": [],
   "source": [
    "materias = ['Matemáticas','Economía','Programación','Deportes','Artes']\n",
    "notas = [6.0, 10, 8.5, 10, 9.3]\n",
    "pd.Series(materias)"
   ]
  },
  {
   "cell_type": "code",
   "execution_count": null,
   "id": "7df580e8-73b1-4921-a5c2-ded0464470cc",
   "metadata": {},
   "outputs": [],
   "source": [
    "pd.Series(notas)"
   ]
  },
  {
   "cell_type": "markdown",
   "id": "8808f4b0-fef5-48d4-8896-ad29e67f2da6",
   "metadata": {},
   "source": [
    "### <center>**DEFINIENDO EL INDICE Y EL NOMBRE DE LA COLUMNA**</center>"
   ]
  },
  {
   "cell_type": "code",
   "execution_count": null,
   "id": "251e81d8-3b1e-43f8-a55f-f5f2b6bb067c",
   "metadata": {},
   "outputs": [],
   "source": [
    "pd.Series(data=notas, index=materias)"
   ]
  },
  {
   "cell_type": "code",
   "execution_count": null,
   "id": "50764187-a40b-4514-a15e-24482230a658",
   "metadata": {},
   "outputs": [],
   "source": [
    "pd.Series(data=notas, index=materias, name='Nota')"
   ]
  },
  {
   "cell_type": "markdown",
   "id": "b3505a04-fe06-471b-92b3-2deceb6a92ea",
   "metadata": {},
   "source": [
    "### <center>**USANDO DICCIONARIOS**</center>"
   ]
  },
  {
   "cell_type": "code",
   "execution_count": null,
   "id": "3bb8f7c8-b88e-4445-aa80-634d9e22aa4e",
   "metadata": {},
   "outputs": [],
   "source": [
    "serie = pd.Series(data={'Matemáticas': 6.0,  'Economía': 10, 'Programación': 8.5, 'Deportes': 10, 'Artes': 9.3}, name='Nota')\n",
    "print(type(serie))\n",
    "serie"
   ]
  },
  {
   "cell_type": "markdown",
   "id": "425864a4-7648-4333-9c5b-83f05a85d132",
   "metadata": {},
   "source": [
    "### <center>**USANDO COLUMNAS DE DATAFRAMES**</center>\n",
    "#### <center>**INDEX COMO UNA SOLA COLUMNA DE UN DATAFRAME Y COLUMNA COMO LISTA**</center>"
   ]
  },
  {
   "cell_type": "code",
   "execution_count": null,
   "id": "fe5c781d-a9b9-4d74-8a55-b41a891c47df",
   "metadata": {},
   "outputs": [],
   "source": [
    "colores= {'AMARILLO':[1,None,2,3,None,3,4,None,None,1],\n",
    "'AZUL':[5,None,None,None,None,10,15,20,25,None],\n",
    "'ROJO':[2,None,5,10,15,20,7,31,None,None],\n",
    "'VERDE':[4,None,None,None,None,None,None,None,None,None],\n",
    "'ROSADO':[3,6,9,12,15,18,21,24,27,30]}\n",
    "\n",
    "for key, value in colores.items():\n",
    "    print(key, len(value), value)\n",
    "    \n",
    "df_colores = pd.DataFrame(colores)\n",
    "df_colores"
   ]
  },
  {
   "cell_type": "code",
   "execution_count": null,
   "id": "6e75e89f-d5d5-43f4-b14c-09bc10cad67b",
   "metadata": {
    "scrolled": true,
    "tags": []
   },
   "outputs": [],
   "source": [
    "pd.Series(index=df_colores.AZUL, data=df_colores.ROSADO.to_list(), name='VALORES DE ROSADO')"
   ]
  },
  {
   "cell_type": "markdown",
   "id": "e740af0a-5fd0-4d6d-b04a-a480325cd4b0",
   "metadata": {},
   "source": [
    "### <center>**COLUMNA DE DATAFRAME A SERIE**</center>"
   ]
  },
  {
   "cell_type": "code",
   "execution_count": null,
   "id": "b522bc6b-6e95-4dc9-bdc7-22e8db0ce729",
   "metadata": {
    "scrolled": true,
    "tags": []
   },
   "outputs": [],
   "source": [
    "df_colores.AMARILLO"
   ]
  },
  {
   "cell_type": "markdown",
   "id": "34a67b36-7200-4d29-a194-fed0ec88aa7c",
   "metadata": {},
   "source": [
    "### <center>**FILA DE DATAFRAME A SERIE**</center>"
   ]
  },
  {
   "cell_type": "code",
   "execution_count": null,
   "id": "de49b84c-aa49-40c1-95cf-fee6ab85ba68",
   "metadata": {},
   "outputs": [],
   "source": [
    "df_colores"
   ]
  },
  {
   "cell_type": "code",
   "execution_count": null,
   "id": "4d21aec2-5bdd-40b3-bd24-982c2b80b18e",
   "metadata": {},
   "outputs": [],
   "source": [
    "df_colores.loc[0]"
   ]
  },
  {
   "cell_type": "code",
   "execution_count": null,
   "id": "c1e1e933-3c4a-4961-8794-712eca317505",
   "metadata": {},
   "outputs": [],
   "source": [
    "df_colores.iloc[0]"
   ]
  },
  {
   "cell_type": "markdown",
   "id": "5b61e7fa-9b7e-42cb-af3c-d0c3808f2397",
   "metadata": {},
   "source": [
    "### <center>**CONVERTIR SERIE A DATAFRAME**</center>"
   ]
  },
  {
   "cell_type": "code",
   "execution_count": null,
   "id": "691a9ff5-1483-4630-bfbb-e9b484eb9309",
   "metadata": {},
   "outputs": [],
   "source": [
    "#salto de linea con el simbolo '\\' inmediantamente despeus del ultimo caracter de la linea\n",
    "df_colores.loc[0]\\\n",
    "                .to_frame()\\\n",
    "                .rename({0:'Total Valores Nulos'}, axis='columns')"
   ]
  },
  {
   "cell_type": "code",
   "execution_count": null,
   "id": "240bfd93-d467-4a6c-9534-80683c02fc1d",
   "metadata": {},
   "outputs": [],
   "source": [
    "df_colores.iloc[0]\\\n",
    "                .to_frame(name='Total Valores Nulos')"
   ]
  },
  {
   "cell_type": "markdown",
   "id": "fcf6198f-b860-4279-af6d-a7f563d3a46c",
   "metadata": {},
   "source": [
    "### <center>VALIDAR VALORES ENTRE UN RANGO ESPECIFICO **BETWEEN**</center>"
   ]
  },
  {
   "cell_type": "code",
   "execution_count": null,
   "id": "bd493f91-759f-4e45-9881-788029c1643c",
   "metadata": {},
   "outputs": [],
   "source": [
    "display(df_colores.iloc[0].to_frame())\n",
    "df_colores.iloc[0]\\\n",
    "                .between(left=1,right=4)\\\n",
    "                .to_frame()"
   ]
  },
  {
   "cell_type": "code",
   "execution_count": null,
   "id": "37f86f38-253d-4a98-8bc1-35b31016cfe7",
   "metadata": {},
   "outputs": [],
   "source": [
    "# pone como falsos los valores de los limites\n",
    "df_colores.iloc[0]\\\n",
    "                    .between(left=1,right=4,  inclusive=\"neither\")\\\n",
    "                    .to_frame()"
   ]
  },
  {
   "cell_type": "markdown",
   "id": "254cb27d-c39e-4a2a-9b1e-89c441c26f25",
   "metadata": {},
   "source": [
    "### <center>EXTRAER VALORES DE UNA LISTA Y DEJARLO EN VALOR POR FILA EN UN DATAFRAME **EXPLODE**</center>"
   ]
  },
  {
   "cell_type": "code",
   "execution_count": null,
   "id": "fae46fca-a84c-4ad0-9d1f-96161b766b02",
   "metadata": {},
   "outputs": [],
   "source": [
    "pd.Series([1, 6, 7, [46, 56, 49], 45, [15, 10, 12]])\\\n",
    "                                                    .to_frame(\"valores en listas\")"
   ]
  },
  {
   "cell_type": "code",
   "execution_count": null,
   "id": "ecd7c150-a086-4945-9667-0915c7979a6c",
   "metadata": {},
   "outputs": [],
   "source": [
    "# se debe declarar el nombre de la columna a separar para extraer los datos de las listas\n",
    "pd.Series([1, 6, 7, [46, 56, 49], 45, [15, 10, 12]])\\\n",
    "                                                    .to_frame(\"valores en listas\")\\\n",
    "                                                    .explode(column=\"valores en listas\", ignore_index=True)"
   ]
  },
  {
   "cell_type": "markdown",
   "id": "b2e0558d-2143-4bf4-8f5e-3a645e50fdf8",
   "metadata": {},
   "source": [
    "### <center>**ATRIBUTOS DE LAS SERIES**</center>"
   ]
  },
  {
   "cell_type": "code",
   "execution_count": null,
   "id": "c418182c-757f-44d0-86b6-6f6ed73c8b2e",
   "metadata": {},
   "outputs": [],
   "source": [
    "serie.shape"
   ]
  },
  {
   "cell_type": "code",
   "execution_count": null,
   "id": "406ed269-5db6-4e28-92b2-dad116a2d008",
   "metadata": {},
   "outputs": [],
   "source": [
    "serie.size"
   ]
  },
  {
   "cell_type": "code",
   "execution_count": null,
   "id": "5bfc5fee-e0b4-4597-91ae-cf462fd1c355",
   "metadata": {},
   "outputs": [],
   "source": [
    "serie.dtype"
   ]
  },
  {
   "cell_type": "code",
   "execution_count": null,
   "id": "6596f31f-a4e8-402a-abf5-585a84778a2c",
   "metadata": {},
   "outputs": [],
   "source": [
    "serie.index"
   ]
  },
  {
   "cell_type": "code",
   "execution_count": null,
   "id": "0a44c35b-c10b-4a0d-b7a2-bbe93be5f1b5",
   "metadata": {},
   "outputs": [],
   "source": [
    "serie.values"
   ]
  },
  {
   "cell_type": "code",
   "execution_count": null,
   "id": "b3dc17d6-20b5-4336-86dd-5800beefb01f",
   "metadata": {},
   "outputs": [],
   "source": [
    "serie.value_counts()"
   ]
  },
  {
   "cell_type": "code",
   "execution_count": null,
   "id": "855a8e68-2b12-4596-aecf-5464da8b2804",
   "metadata": {},
   "outputs": [],
   "source": [
    "serie.sort_index(ascending=False)"
   ]
  },
  {
   "cell_type": "markdown",
   "id": "726cd1a4-d973-45aa-a533-02445bfe13c7",
   "metadata": {},
   "source": [
    "# <center>**ACCESO A DATOS DE LAS SERIES**</center>"
   ]
  },
  {
   "cell_type": "markdown",
   "id": "2f01644e-e5fa-42ec-8429-32d06f2b77eb",
   "metadata": {},
   "source": [
    "### <center>**POR INDICE**</center>"
   ]
  },
  {
   "cell_type": "code",
   "execution_count": null,
   "id": "1647e747-bcfa-48d5-8593-5b896f19138c",
   "metadata": {},
   "outputs": [],
   "source": [
    "serie.to_frame()"
   ]
  },
  {
   "cell_type": "code",
   "execution_count": null,
   "id": "04cddb9a-a55c-4229-bc3b-336ba36030ea",
   "metadata": {},
   "outputs": [],
   "source": [
    "serie['Deportes']"
   ]
  },
  {
   "cell_type": "code",
   "execution_count": null,
   "id": "5d73f5be-61dd-4bbe-b619-61a69a4efd54",
   "metadata": {},
   "outputs": [],
   "source": [
    "serie.Deportes"
   ]
  },
  {
   "cell_type": "code",
   "execution_count": null,
   "id": "c3d280b4-fcf1-451b-851b-5dce79ddf3e3",
   "metadata": {},
   "outputs": [],
   "source": [
    "serie[3]"
   ]
  },
  {
   "cell_type": "markdown",
   "id": "d556eb4f-6498-48b2-8a3e-0c0d1c521084",
   "metadata": {},
   "source": [
    "### <center>**POR RANGO ENTRE INDICES**</center>"
   ]
  },
  {
   "cell_type": "code",
   "execution_count": null,
   "id": "67fb4759-f7cb-421c-b6ba-092ebbc3728c",
   "metadata": {},
   "outputs": [],
   "source": [
    "display(serie)\n",
    "print()\n",
    "serie['Programación':'Artes']"
   ]
  },
  {
   "cell_type": "code",
   "execution_count": null,
   "id": "e4c30805-0b3b-4373-95e9-9f976ce03f44",
   "metadata": {},
   "outputs": [],
   "source": [
    "serie[2:5]"
   ]
  },
  {
   "cell_type": "markdown",
   "id": "b12a2a05-2e83-414b-9a8b-90f108da01a4",
   "metadata": {},
   "source": [
    "### <center>**POR INDICES ESPECIFICOS**</center>"
   ]
  },
  {
   "cell_type": "code",
   "execution_count": null,
   "id": "fe80d7cd-f454-403d-8c28-8bfb37dc28e2",
   "metadata": {},
   "outputs": [],
   "source": [
    "serie[['Matemáticas','Programación','Artes']]"
   ]
  },
  {
   "cell_type": "code",
   "execution_count": null,
   "id": "a238d4a9-6c12-40c9-bc70-73a1e7b1dd58",
   "metadata": {},
   "outputs": [],
   "source": [
    "serie[[0,2,4]]"
   ]
  },
  {
   "cell_type": "markdown",
   "id": "10110220-c973-44ca-b960-3192e0fc0c00",
   "metadata": {},
   "source": [
    "### <center>**ANALISIS DE DATOS**</center>"
   ]
  },
  {
   "cell_type": "code",
   "execution_count": null,
   "id": "3384a7fd-0815-4a6f-9c13-071b030615b7",
   "metadata": {},
   "outputs": [],
   "source": [
    "serie"
   ]
  },
  {
   "cell_type": "code",
   "execution_count": null,
   "id": "c2442a41-d3df-4fa4-ae43-2d506cbccc61",
   "metadata": {},
   "outputs": [],
   "source": [
    "# argmax posicion o indice donde encontro el valor maximo\n",
    "serie.max(), serie.argmax()"
   ]
  },
  {
   "cell_type": "code",
   "execution_count": null,
   "id": "c79f5f02-0172-48aa-bf22-f7cc7bf344d6",
   "metadata": {},
   "outputs": [],
   "source": [
    "serie.min(), serie.argmin()"
   ]
  },
  {
   "cell_type": "code",
   "execution_count": null,
   "id": "5c19ba9d-d2a2-4f8a-ad5c-c85c6694c3c6",
   "metadata": {},
   "outputs": [],
   "source": [
    "serie.quantile(0.25), serie.quantile(0.5), serie.mean(), serie.median(), serie.mode()"
   ]
  },
  {
   "cell_type": "code",
   "execution_count": null,
   "id": "1163c87c-bf82-48b2-9e8e-4bdae7d3c4f6",
   "metadata": {},
   "outputs": [],
   "source": [
    "serie.std(), serie.sum(), serie.count(), serie.abs()"
   ]
  },
  {
   "cell_type": "code",
   "execution_count": null,
   "id": "d8a9f86e-44a8-4159-b6f4-1d3cd474b181",
   "metadata": {
    "scrolled": true,
    "tags": []
   },
   "outputs": [],
   "source": [
    "serie.describe()"
   ]
  },
  {
   "cell_type": "code",
   "execution_count": null,
   "id": "337b214e-a21c-41aa-a0fe-698c75b6796b",
   "metadata": {},
   "outputs": [],
   "source": [
    "display(serie)\n",
    "serie.plot()"
   ]
  },
  {
   "cell_type": "markdown",
   "id": "99df7a06-3c98-4ff1-a1f2-068d5c5c1e85",
   "metadata": {},
   "source": [
    "# <center>DATAFRAMES</center>\n",
    "## <center>OBTENER LOS TAMAÑOS DE UN DATAFRAME</center>"
   ]
  },
  {
   "cell_type": "code",
   "execution_count": null,
   "id": "5385ea5e-42f4-48ec-8601-fee9d2c6c5a7",
   "metadata": {
    "scrolled": true,
    "tags": []
   },
   "outputs": [],
   "source": [
    "print(f'Cantidad de filas y columnas {df_colores.shape}')\n",
    "print(f'Cantidad de filas {df_colores.shape[0]}')\n",
    "print(f'Cantidad de columnas {df_colores.shape[1]}')\n",
    "df_colores"
   ]
  },
  {
   "cell_type": "markdown",
   "id": "b666f4c3-e70b-4253-83a5-1d702f51de21",
   "metadata": {},
   "source": [
    "# <center>**OBTENER EL RESUMEN DE LAS COLUMNAS DE UN DATAFRAME**</center>\n",
    "## <center>**SOLO VALORES NO NULL**</center>"
   ]
  },
  {
   "cell_type": "code",
   "execution_count": null,
   "id": "2b9d5edb-ec7a-4f13-a8e2-b2d6330ad88a",
   "metadata": {},
   "outputs": [],
   "source": [
    "df_colores.info()                    "
   ]
  },
  {
   "cell_type": "code",
   "execution_count": null,
   "id": "34578c2b-840a-4ea9-941b-c2052e9d9128",
   "metadata": {
    "scrolled": true,
    "tags": []
   },
   "outputs": [],
   "source": [
    "df_colores.describe()"
   ]
  },
  {
   "cell_type": "markdown",
   "id": "00c3e83c-9e0c-4642-8a33-3139ef5f987c",
   "metadata": {},
   "source": [
    "# <center>OBTENER LA DEFINICION DE LOS EJES DE UN DATAFRAME</center>"
   ]
  },
  {
   "cell_type": "code",
   "execution_count": null,
   "id": "884e56df-9429-41cd-9524-ad35d4ec5f5b",
   "metadata": {},
   "outputs": [],
   "source": [
    "df_colores.axes"
   ]
  },
  {
   "cell_type": "markdown",
   "id": "4d9cb371-d28a-402b-a176-0783a3be96d4",
   "metadata": {},
   "source": [
    "# <center>OBTENER LOS NOMBRES DE LAS COLUMNAS DE UN DATAFRAME</center>"
   ]
  },
  {
   "cell_type": "code",
   "execution_count": null,
   "id": "3f174115-8ec2-4803-a068-c70bc3f2ee44",
   "metadata": {},
   "outputs": [],
   "source": [
    "df_colores.columns.to_list()"
   ]
  },
  {
   "cell_type": "code",
   "execution_count": null,
   "id": "58029585-e9ce-4d3b-94f7-ab67a595f252",
   "metadata": {},
   "outputs": [],
   "source": [
    "list(df_colores.keys())"
   ]
  },
  {
   "cell_type": "markdown",
   "id": "18c84e21-9716-4a25-b206-c9a94d57d0e7",
   "metadata": {},
   "source": [
    "# <center>OBTENER LOS DATOS COMPLETOS DE UNA **COLUMNA** DE UN DATAFRAME</center>"
   ]
  },
  {
   "cell_type": "code",
   "execution_count": null,
   "id": "ad52ab9e-2eda-4cd7-adcb-e761c1ea0cce",
   "metadata": {
    "scrolled": true,
    "tags": []
   },
   "outputs": [],
   "source": [
    "df_colores.AMARILLO"
   ]
  },
  {
   "cell_type": "code",
   "execution_count": null,
   "id": "61dd2c80-06fc-400a-b854-5f681569893d",
   "metadata": {},
   "outputs": [],
   "source": [
    "df_colores.AMARILLO.to_frame('AMARILLO')"
   ]
  },
  {
   "cell_type": "code",
   "execution_count": null,
   "id": "8856c1fd-6453-4d6b-a58c-968d867b5875",
   "metadata": {
    "scrolled": true,
    "tags": []
   },
   "outputs": [],
   "source": [
    "df_colores['AMARILLO'].to_frame('AMARILLO')"
   ]
  },
  {
   "cell_type": "code",
   "execution_count": null,
   "id": "f8bb8493-e580-4a7c-ac41-43b078054604",
   "metadata": {},
   "outputs": [],
   "source": [
    "df_colores.AMARILLO.values"
   ]
  },
  {
   "cell_type": "code",
   "execution_count": null,
   "id": "21477676-1ab0-4d4d-99dc-643f31afe902",
   "metadata": {},
   "outputs": [],
   "source": [
    "df_colores.AMARILLO.to_list()"
   ]
  },
  {
   "cell_type": "markdown",
   "id": "f1e4fb75-6d46-4720-9d6b-21160ef8fd24",
   "metadata": {},
   "source": [
    "# <center>**OBTENER LOS VALORES 'DISTINTOS' UNICOS(SIN REPETIR) DE UNA FILA** UNIQUE - NUNIQUE</center>"
   ]
  },
  {
   "cell_type": "code",
   "execution_count": null,
   "id": "e0eb7b09-de8a-47f3-99d7-ed4867f24ba6",
   "metadata": {
    "tags": []
   },
   "outputs": [],
   "source": [
    "print(df_colores.AMARILLO.unique())\n",
    "df_colores"
   ]
  },
  {
   "cell_type": "markdown",
   "id": "1b7ceeee-6af3-45e3-aff1-2d071570ff92",
   "metadata": {},
   "source": [
    "## **NUNIQUE** obtiene el total de datos unicos incluso de TODO EL DATAFRAME"
   ]
  },
  {
   "cell_type": "markdown",
   "id": "1e38d12d-6668-441e-8084-d42f42105f69",
   "metadata": {},
   "source": [
    "### POR COLUMNA"
   ]
  },
  {
   "cell_type": "code",
   "execution_count": null,
   "id": "113400e4-8894-4d46-9648-acfb4124735b",
   "metadata": {},
   "outputs": [],
   "source": [
    "df_colores.AMARILLO.nunique()"
   ]
  },
  {
   "cell_type": "code",
   "execution_count": null,
   "id": "47dfdce3-e790-41c2-a0b7-ba776f90bc22",
   "metadata": {},
   "outputs": [],
   "source": [
    "df_colores.AMARILLO.nunique(dropna=False)"
   ]
  },
  {
   "cell_type": "markdown",
   "id": "8a92b8ce-7ed4-400c-b55b-7fa062372a06",
   "metadata": {},
   "source": [
    "### TODO EL DATAFRAME"
   ]
  },
  {
   "cell_type": "code",
   "execution_count": null,
   "id": "f1ac81e0-6391-4a95-9bbb-b68ca4f2581d",
   "metadata": {},
   "outputs": [],
   "source": [
    "df_colores.nunique(dropna=False)"
   ]
  },
  {
   "cell_type": "code",
   "execution_count": null,
   "id": "eec405ec-4854-41f7-ae5d-7640e046e772",
   "metadata": {},
   "outputs": [],
   "source": [
    "df_colores.nunique()"
   ]
  },
  {
   "cell_type": "markdown",
   "id": "f7b73386-f487-4979-b9e0-b3c5982249c7",
   "metadata": {},
   "source": [
    "# Total valores unicos por FILA, incluyendo NaN"
   ]
  },
  {
   "cell_type": "code",
   "execution_count": null,
   "id": "04c5d5ce-acbe-4d83-a156-aa44c68ab662",
   "metadata": {},
   "outputs": [],
   "source": [
    "display(df_colores.reset_index())\n",
    "display(df_colores\\\n",
    "        .nunique(axis=0)\\\n",
    "        .reset_index(name='Total por fila Excluyendo Null'))\n",
    "\n",
    "display(df_colores\\\n",
    "        .nunique(axis=0, dropna=False)\\\n",
    "        .reset_index(name='Total por fila Incluyendo Null'))"
   ]
  },
  {
   "cell_type": "markdown",
   "id": "d0195918-2d4c-4494-980f-f7b9c1203bff",
   "metadata": {},
   "source": [
    "# Total valores unicos por COLUMNA, incluyendo NaN"
   ]
  },
  {
   "cell_type": "code",
   "execution_count": null,
   "id": "b66a1a61-7017-4e89-b1d2-fa5420ec15ce",
   "metadata": {},
   "outputs": [],
   "source": [
    "display(df_colores.reset_index())\n",
    "display(df_colores\\\n",
    "        .nunique(axis=1)\\\n",
    "        .reset_index(name='Total por fila Excluyendo Null'))\n",
    "\n",
    "display(df_colores\\\n",
    "        .nunique(axis=1, dropna=False)\\\n",
    "        .reset_index(name='Total por fila Incluyendo Null'))"
   ]
  },
  {
   "cell_type": "markdown",
   "id": "8e01c54a-547f-4820-ab65-d0ca98862aa5",
   "metadata": {},
   "source": [
    "# <center>**CONTAR VALORES NOT NULL DE UNA COLUMNA**</center>"
   ]
  },
  {
   "cell_type": "code",
   "execution_count": null,
   "id": "38221c4c-6a2b-4245-89fb-5c264471298d",
   "metadata": {
    "scrolled": true,
    "tags": []
   },
   "outputs": [],
   "source": [
    "print(df_colores.AMARILLO.values)\n",
    "df_colores\\\n",
    "        .AMARILLO\\\n",
    "        .value_counts()"
   ]
  },
  {
   "cell_type": "markdown",
   "id": "92648297-41b9-45b2-9520-2ba6f0f93a12",
   "metadata": {},
   "source": [
    "# <center>**REEMPLAZAR VALORES DE UNA COLUMNA POR EMOJIS**</center>"
   ]
  },
  {
   "cell_type": "code",
   "execution_count": null,
   "id": "66c756a9-eff2-49a8-adea-882e8fee6e3a",
   "metadata": {},
   "outputs": [],
   "source": [
    "diccionario = {'uva':'🍇','manzana':'🍎','aguacate':'🥑','pizza':'🍕','perro':'🌭','taco':'🌮','huevo':'🥚',\n",
    "               'cupcake':'🧁','croissant':'🥐','hamburguesa':'🍔','Pretzel':'🥨',}\n",
    "dataframe_emojis = pd.DataFrame({'a':['uva','manzana','cupcake','pizza','aguacate','perro','taco','guama','huevo','croissant','hamburguesa','pretzel'], \n",
    "                  'b':['uva','manzana','cupcake','pizza','aguacate','perro','taco','guama','huevo','croissant','hamburguesa','pretzel']})\n",
    "dataframe_emojis = dataframe_emojis.replace({'b':diccionario})\n",
    "dataframe_emojis"
   ]
  },
  {
   "cell_type": "markdown",
   "id": "c80231bb-55e0-40f0-9285-60f905c7da12",
   "metadata": {},
   "source": [
    "### APLICA A CADENAS DE TEXTO"
   ]
  },
  {
   "cell_type": "code",
   "execution_count": null,
   "id": "68903c60-8337-4b0d-9fc6-e45a10851ebf",
   "metadata": {},
   "outputs": [],
   "source": [
    "cadena_emojis = 'HELADO'\n",
    "print(cadena_emojis)\n",
    "cadena_emojis.replace('HELADO','🍨')"
   ]
  },
  {
   "cell_type": "code",
   "execution_count": null,
   "id": "1ba26101-f266-40c3-b89e-602ba1619af5",
   "metadata": {},
   "outputs": [],
   "source": [
    "del dataframe_emojis\n",
    "del cadena_emojis\n",
    "garbage_colector.collect(), garbage_colector.get_threshold()"
   ]
  },
  {
   "cell_type": "markdown",
   "id": "eb3f3ead-2e96-482c-ba08-9e7057a0f001",
   "metadata": {},
   "source": [
    "# <center>**OBTENER LOS n VALORES MAXIMOS O MINIMOS DE UNA COLUMNA**</center>"
   ]
  },
  {
   "cell_type": "markdown",
   "id": "84f2800b-2d1c-4c32-807b-4cbe84add202",
   "metadata": {},
   "source": [
    "### LOS MAYORES"
   ]
  },
  {
   "cell_type": "markdown",
   "id": "a5d45def-1087-4084-927b-e1252b530d11",
   "metadata": {},
   "source": [
    "### todo el dataframe"
   ]
  },
  {
   "cell_type": "code",
   "execution_count": null,
   "id": "32c54ace-914a-42b7-85a1-8ef266d4674e",
   "metadata": {},
   "outputs": [],
   "source": [
    "display(df_colores)\n",
    "df_colores.nlargest(n=2, columns=['AMARILLO'], keep='first')"
   ]
  },
  {
   "cell_type": "markdown",
   "id": "5666388f-da9d-4272-944d-25408a26a710",
   "metadata": {},
   "source": [
    "### columna especifica del dataframe"
   ]
  },
  {
   "cell_type": "code",
   "execution_count": null,
   "id": "922c3015-1866-4ebd-8b95-75bf15573e1e",
   "metadata": {},
   "outputs": [],
   "source": [
    "df_colores\\\n",
    "        .AMARILLO\\\n",
    "        .nlargest(n=3)"
   ]
  },
  {
   "cell_type": "markdown",
   "id": "d43377b3-e63e-437e-9df7-a8d0fa126924",
   "metadata": {},
   "source": [
    "### LOS MENORES\n",
    "#### EXTRACCION USANDO MULTIPLES COLUMNAS"
   ]
  },
  {
   "cell_type": "code",
   "execution_count": null,
   "id": "6143c2c9-cc57-4e90-a7cf-3fbd51edef27",
   "metadata": {},
   "outputs": [],
   "source": [
    "df_menores = pd.read_csv('menores.csv').sort_values('AMARILLO')\n",
    "df_menores"
   ]
  },
  {
   "cell_type": "code",
   "execution_count": null,
   "id": "d22df2d9-cb74-49cc-b8b8-4ce153e7bd91",
   "metadata": {},
   "outputs": [],
   "source": [
    "display(df_menores.nsmallest(2, columns=['AMARILLO','AZUL'], keep='last'))\n",
    "del df_menores\n",
    "garbage_colector.collect(), garbage_colector.get_threshold()"
   ]
  },
  {
   "cell_type": "markdown",
   "id": "ffc3f009-bc91-4d13-83c1-cf78e73e2c56",
   "metadata": {},
   "source": [
    "# <center>**RESALTAR VALORES NUMERICOS DE UN DATAFRAME SEGUN SU PORCENTAJE EN VALOR**</center>"
   ]
  },
  {
   "cell_type": "markdown",
   "id": "7388f48f-9200-4f52-9534-6aeb751f3b71",
   "metadata": {},
   "source": [
    "### crear dataframe de diccionario"
   ]
  },
  {
   "cell_type": "code",
   "execution_count": null,
   "id": "c74e595d-9f08-47cc-b83b-cba547c8b1b3",
   "metadata": {},
   "outputs": [],
   "source": [
    "insight = {\n",
    "'Uno':[random.randint(1, 11) * 3 for valor in range(10)],\n",
    "'Dos':[random.randint(1, 11) * 7 for valor in range(10)],\n",
    "'Tres':[random.randint(1, 11) * 5 for valor in range(10)],\n",
    "'Cuatro':[random.randint(1, 11) * 31 for valor in range(10)],\n",
    "'Cinco':[random.randint(1, 11) * 13 for valor in range(10)],\n",
    "}\n",
    "\n",
    "df_estilo_colores = pd.DataFrame.from_dict(insight)\n",
    "df_estilo_colores"
   ]
  },
  {
   "cell_type": "markdown",
   "id": "9c4fb2fb-114b-427a-a524-df1212deb4a7",
   "metadata": {},
   "source": [
    "### intensidad por FILA"
   ]
  },
  {
   "cell_type": "code",
   "execution_count": null,
   "id": "a6d77e8e-1137-4d89-8fe0-5bc68169ae10",
   "metadata": {},
   "outputs": [],
   "source": [
    "df_estilo_colores\\\n",
    "                 .style\\\n",
    "                 .background_gradient(axis=1, cmap=\"YlOrRd\")"
   ]
  },
  {
   "cell_type": "markdown",
   "id": "462b073f-e579-4267-9f9e-4c61ea3285c3",
   "metadata": {},
   "source": [
    "### intensidad por COLUMNA"
   ]
  },
  {
   "cell_type": "code",
   "execution_count": null,
   "id": "98c1a412-5f6a-48bf-9312-fe78e33f9139",
   "metadata": {},
   "outputs": [],
   "source": [
    "df_estilo_colores\\\n",
    "                .style\\\n",
    "                .background_gradient(axis=0, cmap=\"YlOrRd\")"
   ]
  },
  {
   "cell_type": "markdown",
   "id": "5efeecd6-3e22-429f-9a06-d8e6c4d96376",
   "metadata": {},
   "source": [
    "### intensidad por todos los datos"
   ]
  },
  {
   "cell_type": "code",
   "execution_count": null,
   "id": "411f3486-b1f3-46ca-95cb-ee82849c7d74",
   "metadata": {},
   "outputs": [],
   "source": [
    "df_estilo_colores\\\n",
    "                .style\\\n",
    "                .background_gradient(axis=None, cmap=\"YlOrRd\")"
   ]
  },
  {
   "cell_type": "markdown",
   "id": "5ff3ca73-f1e7-4d0e-8a9f-d1fbad785a6c",
   "metadata": {},
   "source": [
    "### intensidad modulada"
   ]
  },
  {
   "cell_type": "code",
   "execution_count": null,
   "id": "d457d075-ff7a-4ab0-8849-d1c13be4e81b",
   "metadata": {},
   "outputs": [],
   "source": [
    "df_estilo_colores\\\n",
    "                .style\\\n",
    "                .background_gradient(axis=None, cmap=\"YlOrRd\", low=0.25, high=1.0)"
   ]
  },
  {
   "cell_type": "markdown",
   "id": "538a04e9-10d8-49c7-8ad8-6bfed55b11da",
   "metadata": {},
   "source": [
    "### intensidad del color definida para cada elemento de una fila"
   ]
  },
  {
   "cell_type": "code",
   "execution_count": null,
   "id": "0dde88d8-1e3c-427d-8074-9435b6f665f8",
   "metadata": {
    "scrolled": true,
    "tags": []
   },
   "outputs": [],
   "source": [
    "valores = [[random.randint(1,5) for valor in range(df_estilo_colores.shape[1])] for x in range(df_estilo_colores.shape[0])]\n",
    "print(valores)\n",
    "df_estilo_colores\\\n",
    "                .style\\\n",
    "                .background_gradient(axis=None, cmap=\"YlOrRd\", low=0.25, high=1.0, gmap=np.array(valores))"
   ]
  },
  {
   "cell_type": "markdown",
   "id": "01472864-fb6d-4f5f-b788-2fdbbee9697f",
   "metadata": {},
   "source": [
    "### resaltar valores maximos y minimos de una fila o columna"
   ]
  },
  {
   "cell_type": "code",
   "execution_count": null,
   "id": "6c83a7f9-46e8-4a04-98c9-1fd556b6b7ce",
   "metadata": {},
   "outputs": [],
   "source": [
    "df_estilo_colores\\\n",
    "                .style\\\n",
    "                .highlight_max(color=\"lightblue\")"
   ]
  },
  {
   "cell_type": "code",
   "execution_count": null,
   "id": "9623d0d9-0864-4fdc-8ab9-0b9b2e80c6f5",
   "metadata": {},
   "outputs": [],
   "source": [
    "df_estilo_colores\\\n",
    "                .style\\\n",
    "                .highlight_max(axis=1,color=\"lightyellow\")"
   ]
  },
  {
   "cell_type": "code",
   "execution_count": null,
   "id": "387eebf8-a3e7-4769-8ea7-cacda2b0d10b",
   "metadata": {},
   "outputs": [],
   "source": [
    "df_estilo_colores\\\n",
    "                .style\\\n",
    "                .highlight_min(color=\"lightgreen\", axis=0)"
   ]
  },
  {
   "cell_type": "code",
   "execution_count": null,
   "id": "297f9e14-8d59-4f0d-add1-75f66805df95",
   "metadata": {},
   "outputs": [],
   "source": [
    "df_estilo_colores\\\n",
    "                .style\\\n",
    "                .highlight_min(color=\"pink\", axis=None)"
   ]
  },
  {
   "cell_type": "code",
   "execution_count": null,
   "id": "41daf6e7-8e42-4e79-863a-08490ac73d39",
   "metadata": {},
   "outputs": [],
   "source": [
    "# se pueden adicionar color en Hexadecimal\n",
    "# https://www.computerhope.com/htmcolor.htm\n",
    "df_estilo_colores\\\n",
    "                .style.\\\n",
    "                highlight_max(color=\"#D462FF\", axis=None)"
   ]
  },
  {
   "cell_type": "markdown",
   "id": "567c0718-6852-4a58-988c-75db3490c752",
   "metadata": {},
   "source": [
    "## resaltar valores entre el rango"
   ]
  },
  {
   "cell_type": "code",
   "execution_count": null,
   "id": "61ee9e2b-e0e3-4377-8227-e6883b2b05d2",
   "metadata": {
    "scrolled": true,
    "tags": []
   },
   "outputs": [],
   "source": [
    "df_estilo_colores\\\n",
    "                .style\\\n",
    "                .highlight_between(left=15, right=31, color='aquamarine')"
   ]
  },
  {
   "cell_type": "markdown",
   "id": "a56030a4-e769-442b-a1c2-06206d034e24",
   "metadata": {},
   "source": [
    "## resaltar la fila numero ?"
   ]
  },
  {
   "cell_type": "code",
   "execution_count": null,
   "id": "57e649ea-0721-4bc4-9fbd-48de60e429f6",
   "metadata": {},
   "outputs": [],
   "source": [
    "df_estilo_colores\\\n",
    "                .style\\\n",
    "                .highlight_quantile(8, color='#DCD0FF')"
   ]
  },
  {
   "cell_type": "markdown",
   "id": "7b6d661a-f254-4fbd-80c1-40ab83ea243c",
   "metadata": {},
   "source": [
    "## resaltar los valores nulos"
   ]
  },
  {
   "cell_type": "code",
   "execution_count": null,
   "id": "7b661c36-6c2b-4a20-9264-a8e38b257e78",
   "metadata": {},
   "outputs": [],
   "source": [
    "df_colores\\\n",
    "        .style\\\n",
    "        .highlight_null(color='pink')"
   ]
  },
  {
   "cell_type": "markdown",
   "id": "5158a36e-4c5d-40b2-8604-2814dd44cb46",
   "metadata": {},
   "source": [
    "## resaltar los valores que cumplan la condicion basado en una funcion lambda\n",
    "### del valor localizado en una poscion especifica en la matriz en este caso [0,0]"
   ]
  },
  {
   "cell_type": "code",
   "execution_count": null,
   "id": "09832d5e-462f-4670-a86c-160c79e662b0",
   "metadata": {},
   "outputs": [],
   "source": [
    "#Conditionally format Python pandas cell\n",
    "df_estilo_colores\\\n",
    "                .style\\\n",
    "                .applymap(lambda x: 'background-color : yellow' if x//2 > df_estilo_colores.iloc[0,0] else '')"
   ]
  },
  {
   "cell_type": "code",
   "execution_count": null,
   "id": "56231e3c-8a99-45be-b2b3-7ee7d23b757e",
   "metadata": {},
   "outputs": [],
   "source": [
    "df_estilo_colores\\\n",
    "                .style\\\n",
    "                .applymap(lambda x: 'background-color : yellow' if x//2 > df_estilo_colores.iloc[3,4] else '')"
   ]
  },
  {
   "cell_type": "markdown",
   "id": "2430fdd1-33c7-4fb6-9443-6129f9591b7c",
   "metadata": {},
   "source": [
    "## resaltar los valores especificos usando una funcion lambda con multiples condiciones"
   ]
  },
  {
   "cell_type": "code",
   "execution_count": null,
   "id": "03224b3f-d4de-4bfd-abb5-6a75b2eef079",
   "metadata": {},
   "outputs": [],
   "source": [
    "df_estilo_colores\\\n",
    "                .style\\\n",
    "                .applymap(lambda x: 'background-color : yellow' if x == 21 or x> 300 else '')"
   ]
  },
  {
   "cell_type": "markdown",
   "id": "d65220d0-31e0-41c2-adb8-539c17036b20",
   "metadata": {
    "tags": []
   },
   "source": [
    "### MULTIPLES CONDICIONES EN TODO EL DATAFRAME"
   ]
  },
  {
   "cell_type": "code",
   "execution_count": null,
   "id": "8d760245-5180-4f54-a98b-56e6db0bb090",
   "metadata": {},
   "outputs": [],
   "source": [
    "rando = random.choice(df_estilo_colores.sample(1).min())\n",
    "\n",
    "print(rando)\n",
    "df_estilo_colores\\\n",
    "                .style\\\n",
    "                .applymap(lambda x :'background-color : aquamarine' if df_estilo_colores.max().max() == x  else '')\\\n",
    "                .applymap(lambda x :'background-color : #DCD0FF' if df_estilo_colores.min().min() == x  else '')\\\n",
    "                .applymap(lambda x :'background-color : lightblue' if x%13 == 0 and x%4 == 0 else '')"
   ]
  },
  {
   "cell_type": "markdown",
   "id": "b8da77d9-71bc-4aa8-a295-d97a0018f9d6",
   "metadata": {},
   "source": [
    "# <center>REEMPLAZAR VALORES QUE NO CUMPLAN CON EL CRITERIO USANDO **MASK**</center>"
   ]
  },
  {
   "cell_type": "markdown",
   "id": "b639a4e1-5eb0-46e0-bd73-e8e85dadb531",
   "metadata": {},
   "source": [
    "### TODO EL DATAFRAME"
   ]
  },
  {
   "cell_type": "code",
   "execution_count": null,
   "id": "6dda2fb5-ea34-4d8b-86d3-bfdab88b129d",
   "metadata": {},
   "outputs": [],
   "source": [
    "display(df_estilo_colores)\n",
    "df_estilo_colores\\\n",
    "            .mask(df_estilo_colores > 50, -25)\\\n",
    "            .style\\\n",
    "            .applymap(lambda x: 'background-color : yellow' if x == -25 else '')"
   ]
  },
  {
   "cell_type": "markdown",
   "id": "162d8906-9e06-4a0d-8173-a17fee5508c5",
   "metadata": {},
   "source": [
    "### COLUMNA ESPECIFICA DEL DATAFRAME"
   ]
  },
  {
   "cell_type": "code",
   "execution_count": null,
   "id": "c3af34ff-3fdc-47d4-a785-52204b490c88",
   "metadata": {},
   "outputs": [],
   "source": [
    "display(df_estilo_colores)\n",
    "df_estilo_colores\\\n",
    "                .Uno\\\n",
    "                .mask(cond=~df_estilo_colores[\"Uno\"].between(1, 15), other='FUERA DEL RANGO')\\\n",
    "                .to_frame()"
   ]
  },
  {
   "cell_type": "markdown",
   "id": "f30bcbb3-5374-4526-9352-984d43838ed7",
   "metadata": {},
   "source": [
    "### OBTENER EL VALOR MAXIMO DE TODO EL DATAFRAME"
   ]
  },
  {
   "cell_type": "code",
   "execution_count": null,
   "id": "5d89bce8-b681-4837-b2a2-0adc8a82365d",
   "metadata": {},
   "outputs": [],
   "source": [
    "df_estilo_colores.max()"
   ]
  },
  {
   "cell_type": "code",
   "execution_count": null,
   "id": "567a2f34-37a6-4919-bb60-39291c60a1dc",
   "metadata": {},
   "outputs": [],
   "source": [
    "df_estilo_colores.max().max()"
   ]
  },
  {
   "cell_type": "markdown",
   "id": "3ce1f38e-c1e2-48c6-b696-af6436da0d7e",
   "metadata": {},
   "source": [
    "### OBTENER EL VALOR MINIMO DE TODO EL DATAFRAME"
   ]
  },
  {
   "cell_type": "code",
   "execution_count": null,
   "id": "19f9a895-fe32-4ce3-b411-e6af86954203",
   "metadata": {},
   "outputs": [],
   "source": [
    "df_estilo_colores.min()"
   ]
  },
  {
   "cell_type": "code",
   "execution_count": null,
   "id": "ff0352d9-2186-4114-851d-cbdeff82a308",
   "metadata": {},
   "outputs": [],
   "source": [
    "df_estilo_colores.min().min()"
   ]
  },
  {
   "cell_type": "code",
   "execution_count": null,
   "id": "a4952edd-eb2e-45bd-b0a3-7cda7a7f5dd4",
   "metadata": {},
   "outputs": [],
   "source": [
    "df_estilo_colores.min().max()"
   ]
  },
  {
   "cell_type": "markdown",
   "id": "c2a641ca-9234-4b9c-b1f7-8d9fd833c812",
   "metadata": {},
   "source": [
    "# <center>PREPROCESAR DATAFRAME CON MULTIPLES PASOS USANDO **PIPE**</center>"
   ]
  },
  {
   "cell_type": "code",
   "execution_count": null,
   "id": "f7e44347-7a29-4751-9371-e3603f9dbb89",
   "metadata": {},
   "outputs": [],
   "source": [
    "def filtrar(dataframe, limite_filtro):\n",
    "    print(f'Antes de Filtrar hasta el {limite_filtro}')\n",
    "    display(dataframe)\n",
    "    \n",
    "    return dataframe.loc[:limite_filtro]\n",
    "\n",
    "def multiplicar(dataframe, valor):\n",
    "    \n",
    "    print(f'Antes de Multiplicar por {valor}')    \n",
    "    display(dataframe)\n",
    "    \n",
    "    return dataframe * valor\n",
    "\n",
    "\n",
    "def resaltar(dataframe, valor):\n",
    "    \n",
    "    print(f'Antes de Resaltar mayores a {valor}')\n",
    "    display(dataframe)\n",
    "    \n",
    "    return dataframe.style.applymap(lambda x: 'background-color : yellow' if x > valor else '')\n",
    "    \n",
    "def graficar(dataframe):\n",
    "    \n",
    "    print('Antes de graficar')\n",
    "    dataframe.plot()\n",
    "    \n",
    "    return dataframe\n",
    "\n",
    "print('dataframe original')\n",
    "display(df_estilo_colores)\n",
    "print('dataframe con lambda aplicada que es duplicar')\n",
    "df_estilo_colores.loc[0:10]\\\n",
    "                        .pipe(lambda pipe: pipe * 2)\\\n",
    "                        .pipe(filtrar, limite_filtro=3)\\\n",
    "                        .pipe(multiplicar, 10)\\\n",
    "                        .pipe(graficar)\\\n",
    "                        .pipe(resaltar, 500)"
   ]
  },
  {
   "cell_type": "markdown",
   "id": "38de909c-6912-4567-9187-0957e8829315",
   "metadata": {},
   "source": [
    "# <center>CONVERTIR DATOS CATEGORICOS O CADENAS A REPRESENTACION NUMERICA LabelEncoder **FACTORIZE**</center>"
   ]
  },
  {
   "cell_type": "code",
   "execution_count": null,
   "id": "3270fb74-e98d-4647-9784-849a88f6f4de",
   "metadata": {
    "scrolled": true,
    "tags": []
   },
   "outputs": [],
   "source": [
    "df_cat = df1.head(10)\n",
    "\n",
    "display(df_cat)\n",
    "\n",
    "# convierte los valores de la columna Anfibios a representacion numerica\n",
    "display(pd.factorize(df_cat[\"Anfibios\"]))\n",
    "print()\n",
    "# obtiene solo la representacion numerica\n",
    "display(pd.factorize(df_cat[\"Anfibios\"])[0])\n",
    "# obtiene los indices originales que fueron convertidos a numericos\n",
    "display(pd.factorize(df_cat[\"Anfibios\"])[1])"
   ]
  },
  {
   "cell_type": "code",
   "execution_count": null,
   "id": "a8455604-fe11-4678-b804-1c8c91fd359e",
   "metadata": {},
   "outputs": [],
   "source": [
    "indices_generados = list(pd.factorize(df_cat[\"Anfibios\"])[0])\n",
    "# elimina los indices duplicados, entonces no se puede usar pd.factorize(df_cat[\"Anfibios\"])[1] para extraer los labels originales\n",
    "indices_originales = list(df_cat.Anfibios)\n",
    "pd.DataFrame({'indices_originales':indices_originales,'indices_generados':indices_generados})"
   ]
  },
  {
   "cell_type": "markdown",
   "id": "bf1a4fae-46b3-461a-abfd-d34db527ae64",
   "metadata": {},
   "source": [
    "# <center>**CONTAR VALORES NOT NULL DE UNA COLUMNA Y LISTAR LOS n VALORES REQUERIDOS DE MAYOR A MENOR o DE MENOR A MAYOR**</center>"
   ]
  },
  {
   "cell_type": "markdown",
   "id": "f23363a7-6f29-49f0-9710-370e965cac7f",
   "metadata": {},
   "source": [
    "### <center>**LISTAR LOS n PRIMEROS VALORES REQUERIDOS Y LISTARLOS DE MAYOR A MENOR**</center>"
   ]
  },
  {
   "cell_type": "code",
   "execution_count": null,
   "id": "851aaf19-9d9d-4de7-9e80-aaee0a9ca731",
   "metadata": {},
   "outputs": [],
   "source": [
    "df1\\\n",
    "    .Anfibios\\\n",
    "    .value_counts()\\\n",
    "    .to_frame()"
   ]
  },
  {
   "cell_type": "code",
   "execution_count": null,
   "id": "f936a28c-faa8-460b-8ced-b2c32edfccee",
   "metadata": {},
   "outputs": [],
   "source": [
    "df1\\\n",
    "    .Anfibios\\\n",
    "    .value_counts()\\\n",
    "    .head(3)\\\n",
    "    .to_frame()"
   ]
  },
  {
   "cell_type": "code",
   "execution_count": null,
   "id": "8cff7318-cdb3-4a64-807d-cd3eda876486",
   "metadata": {},
   "outputs": [],
   "source": [
    "df1\\\n",
    "    .Anfibios\\\n",
    "    .value_counts()\\\n",
    "    .head(10)\\\n",
    "    .to_frame()"
   ]
  },
  {
   "cell_type": "markdown",
   "id": "c2407f2d-049e-437a-82ec-0a92d23172c0",
   "metadata": {},
   "source": [
    "### <center>**LISTAR LOS n ULTIMOS VALORES REQUERIDOS Y LISTARLOS DE MAYOR A MENOR**</center>"
   ]
  },
  {
   "cell_type": "code",
   "execution_count": null,
   "id": "8e1893f0-ffe2-4f90-94eb-868f4bf30ef1",
   "metadata": {},
   "outputs": [],
   "source": [
    "df1\\\n",
    "    .Anfibios\\\n",
    "    .value_counts()\\\n",
    "    .tail(10)\\\n",
    "    .to_frame()"
   ]
  },
  {
   "cell_type": "markdown",
   "id": "3c2b2046-7903-4f8b-8607-a8e5b1742bf1",
   "metadata": {},
   "source": [
    "### <center>**OBTENER LA LISTA CON LOS 'INDICES' VALORES DE LOS n PRIMEROS o ULTIMOS VALORES REQUERIDOS DE MAYOR A MENOR o DE MENOR A MAYOR**</center>"
   ]
  },
  {
   "cell_type": "code",
   "execution_count": null,
   "id": "1e0ad64e-208f-4817-b06e-058277fd1ee4",
   "metadata": {},
   "outputs": [],
   "source": [
    "df1\\\n",
    "    .Anfibios\\\n",
    "    .value_counts()\\\n",
    "    .head(10)\\\n",
    "    .index.\\\n",
    "    to_list()"
   ]
  },
  {
   "cell_type": "code",
   "execution_count": null,
   "id": "9bb38ed8-df7c-4358-abe0-73b86f33321c",
   "metadata": {},
   "outputs": [],
   "source": [
    "df1\\\n",
    "    .Anfibios\\\n",
    "    .value_counts()\\\n",
    "    .tail(10)\\\n",
    "    .index.\\\n",
    "    to_list()"
   ]
  },
  {
   "cell_type": "markdown",
   "id": "6fbcb619-2dbe-4153-822e-6d023d5f2981",
   "metadata": {},
   "source": [
    "### <center>**OBTENER LA LISTA CON LOS 'VALORES' DE LOS n PRIMEROS o ULTIMOS VALORES REQUERIDOS DE MAYOR A MENOR o DE MENOR A MAYOR**</center>"
   ]
  },
  {
   "cell_type": "code",
   "execution_count": null,
   "id": "52de314b-e308-44df-87a7-4bf2a991daab",
   "metadata": {},
   "outputs": [],
   "source": [
    "list(df1\\\n",
    "         .Anfibios\\\n",
    "         .value_counts()\\\n",
    "         .head(10)\\\n",
    "         .values\n",
    "    )"
   ]
  },
  {
   "cell_type": "code",
   "execution_count": null,
   "id": "a93eae98-1232-4993-b327-faa3ba9b886e",
   "metadata": {},
   "outputs": [],
   "source": [
    "list(df1\\\n",
    "         .Anfibios\\\n",
    "         .value_counts()\\\n",
    "         .tail(10)\\\n",
    "         .values\n",
    "    )"
   ]
  },
  {
   "cell_type": "markdown",
   "id": "8683f0d9-d6aa-48ee-9723-14ab2fecb8c7",
   "metadata": {},
   "source": [
    "### <center>**CONOCER EL TIPO DE DATOS DE CADA COLUMNA EN UN DATAFRAME Y ELIMINAR O SELECCIONAR LAS COLUMNAS BASADO EN EL TIPO DE DATO**</center>\n",
    "<center><img src=\"pandas_data_types.png\"/></center>"
   ]
  },
  {
   "cell_type": "code",
   "execution_count": null,
   "id": "c276f6a6-770c-41a3-afe9-52ac21d11780",
   "metadata": {},
   "outputs": [],
   "source": [
    "df1.dtypes"
   ]
  },
  {
   "cell_type": "markdown",
   "id": "19762f3a-10f2-4409-b9a7-0ceef0487156",
   "metadata": {},
   "source": [
    "### CONVERTIR LAS COLUMNAS A UN TIPO DE DATO ESPECIFICO"
   ]
  },
  {
   "cell_type": "code",
   "execution_count": null,
   "id": "8b315b7b-b949-4e82-a7e1-0a412b3f0c5b",
   "metadata": {},
   "outputs": [],
   "source": [
    "df1.Peces = df1.Peces\\\n",
    "                    .astype(\"category\")\n",
    "    \n",
    "df1['Id'] = df1.Id\\\n",
    "                    .astype(\"float\")\n",
    "df1.dtypes"
   ]
  },
  {
   "cell_type": "markdown",
   "id": "86707a44-091d-4db0-a513-e942e67dd721",
   "metadata": {},
   "source": [
    "### CONVERTIR LOS TIPOS DE DATOS GENERICOS A TIPO DE DATO CORRESPONDIENTE"
   ]
  },
  {
   "cell_type": "code",
   "execution_count": null,
   "id": "11a1ff58-9ad5-4037-82cb-3914c02c2b90",
   "metadata": {},
   "outputs": [],
   "source": [
    "df1 = df1\\\n",
    "        .convert_dtypes()\n",
    "df1.dtypes"
   ]
  },
  {
   "cell_type": "markdown",
   "id": "86134ed1-523b-4703-9fc9-95d4d2475aa5",
   "metadata": {},
   "source": [
    "# Seleccionar solo las columnas con estos tipos de datos"
   ]
  },
  {
   "cell_type": "code",
   "execution_count": null,
   "id": "654a5b9a-0dc4-44dd-a986-6bdcd2d05a1b",
   "metadata": {},
   "outputs": [],
   "source": [
    "df1\\\n",
    "    .select_dtypes(include=['int64'])\\\n",
    "    .columns.to_list()"
   ]
  },
  {
   "cell_type": "markdown",
   "id": "c990eafd-c1e8-4f1b-b414-42fa3cf8bafc",
   "metadata": {},
   "source": [
    "# Eliminar columnas con diferentes tipos de datos"
   ]
  },
  {
   "cell_type": "code",
   "execution_count": null,
   "id": "af943e51-076d-434a-9dd9-c113c9478088",
   "metadata": {},
   "outputs": [],
   "source": [
    "df1\\\n",
    "    .select_dtypes(exclude=['int64'])\\\n",
    "    .columns.to_list()"
   ]
  },
  {
   "cell_type": "code",
   "execution_count": null,
   "id": "9c929fc3-77ca-4073-b070-8d9a6070bb2f",
   "metadata": {},
   "outputs": [],
   "source": [
    "pd.DataFrame(df1, columns=df1\\\n",
    "    .select_dtypes(exclude=['int64'])\\\n",
    "    .columns.to_list())\\\n",
    "    .head()"
   ]
  },
  {
   "cell_type": "markdown",
   "id": "1b2b60e9-0d99-43df-b764-2edea7d0b539",
   "metadata": {},
   "source": [
    "## <center>**GENERAR DATAFRAME Y PERSONALIZAR INDICES BASADOS EN COLUMNAS**</center>"
   ]
  },
  {
   "cell_type": "code",
   "execution_count": null,
   "id": "8f41abaa-119b-4408-b75f-3e5848d5af9c",
   "metadata": {},
   "outputs": [],
   "source": [
    "dfx = df1\n",
    "dfx.head()"
   ]
  },
  {
   "cell_type": "markdown",
   "id": "ab8dba73-153d-4551-9c1f-7de309edce3a",
   "metadata": {},
   "source": [
    "# Indice Sencillo"
   ]
  },
  {
   "cell_type": "code",
   "execution_count": null,
   "id": "257a2919-292e-4bd4-bb08-05dc214c3a5f",
   "metadata": {
    "scrolled": true,
    "tags": []
   },
   "outputs": [],
   "source": [
    "from math import ceil\n",
    "\n",
    "nombres_columnas = dfx.select_dtypes(exclude=['int64']).columns.to_list()\n",
    "indice_aleatorio = random.choice(nombres_columnas)\n",
    "multiples_indices_aleatorios = random.sample(nombres_columnas, ceil(len(nombres_columnas)/2))\n",
    "\n",
    "\n",
    "dfx_1 = dfx\\\n",
    "            .set_index(indice_aleatorio)\n",
    "\n",
    "print(f'indice_aleatorio -> {indice_aleatorio}')\n",
    "print(f'multiples_indices_aleatorios -> {multiples_indices_aleatorios}')\n",
    "dfx_1.head()"
   ]
  },
  {
   "cell_type": "markdown",
   "id": "9dc9e12c-a6e3-418b-8b08-d27b692e5b54",
   "metadata": {},
   "source": [
    "# Indice Multiple"
   ]
  },
  {
   "cell_type": "code",
   "execution_count": null,
   "id": "22ba5134-e590-4551-98a6-5cd3ea32f7cf",
   "metadata": {
    "scrolled": true,
    "tags": []
   },
   "outputs": [],
   "source": [
    "#init_notebook_mode(all_interactive=False)\n",
    "print(f'multiples_indices_aleatorios -> {multiples_indices_aleatorios}')\n",
    "\n",
    "\n",
    "dfx_2 = dfx\\\n",
    "            .set_index(multiples_indices_aleatorios)\\\n",
    "            .sort_values(multiples_indices_aleatorios)\n",
    "dfx_2"
   ]
  },
  {
   "cell_type": "code",
   "execution_count": null,
   "id": "bf53426c-f961-4244-8e58-5804907afd00",
   "metadata": {},
   "outputs": [],
   "source": [
    "def extraer_los_elementos_de_una_posicion_especifica_de_una_lista_de_tuplas(dataset, posicion_especifica=0):\n",
    "    \n",
    "    listado_de_indices = dataset.index.to_list()\n",
    "    indices_principales = list(set(list(zip(*listado_de_indices))[posicion_especifica]))\n",
    "    \n",
    "    return indices_principales\n",
    "\n",
    "# obtiene el listado con los valores del primer indice\n",
    "print(extraer_los_elementos_de_una_posicion_especifica_de_una_lista_de_tuplas(dfx_2, posicion_especifica=0))"
   ]
  },
  {
   "cell_type": "markdown",
   "id": "47d7c6ca-5201-411d-b777-983a9fa55706",
   "metadata": {},
   "source": [
    "## <center>CONSULTAR RAPIDA BASADA EN INDICES CON **XS CROSS SECTION** BASADO EN EL ORDEN Y LOS VALORES DE LOS INDICES</center>"
   ]
  },
  {
   "cell_type": "code",
   "execution_count": null,
   "id": "cd6a3a5e-484b-4c84-9ca6-f2d11093a82a",
   "metadata": {
    "scrolled": true,
    "tags": []
   },
   "outputs": [],
   "source": [
    "def listar_elementos_por_indice_sin_repetir(dataset):\n",
    "    \n",
    "    columnas_dataset = dataset.columns.to_list()\n",
    "    \n",
    "    # obtiene la lista con el contenido de una de las columnas de dataframe ya que es aleatoria la seleccion\n",
    "    indices_aleatorios = list(dataset.to_dict()[random.choice(columnas_dataset)].keys())\n",
    "    \n",
    "    # selecciona una tupla aleatoria y se toman como referencia para la busqueda con los indices\n",
    "    return random.choice(indices_aleatorios)\n",
    "   \n",
    "# nombres de los valores dentro de los indices con que se va a filtrar\n",
    "consultar_valor_indice_0, consultar_valor_indice_1, consultar_valor_indice_2 = listar_elementos_por_indice_sin_repetir(dfx_2)\n",
    "\n",
    "# nombres de las indices que tiene el dataframe\n",
    "nombre_indice_0, nombre_indice_1, nombre_indice_2 = tuple(multiples_indices_aleatorios)\n",
    "\n",
    "display(dfx_2)\n",
    "\n",
    "valor_indices = f'multiples_indices_aleatorios = {multiples_indices_aleatorios}\\\n",
    "                                                                                nombre_indice_0 = {nombre_indice_0} , nombre_indice_1 = {nombre_indice_1}, nombre_indice_2 = {nombre_indice_2}\\\n",
    "                                                                                consultar_valor_indice_0 = {consultar_valor_indice_0}, consultar_valor_indice_1 = {consultar_valor_indice_1}, consultar_valor_indice_2 = {consultar_valor_indice_2}'"
   ]
  },
  {
   "cell_type": "code",
   "execution_count": null,
   "id": "5a48a846-96c9-46ec-8f2e-0446cade7c84",
   "metadata": {
    "scrolled": true,
    "tags": []
   },
   "outputs": [],
   "source": [
    "print(valor_indices)\n",
    "\n",
    "# doble parentesis\n",
    "dfx_2\\\n",
    "    .xs((consultar_valor_indice_0))"
   ]
  },
  {
   "cell_type": "code",
   "execution_count": null,
   "id": "08050e55-3bc8-49cd-a27e-9539952cc6ba",
   "metadata": {},
   "outputs": [],
   "source": [
    "print(valor_indices)\n",
    "# usando el nombre del parametro\n",
    "dfx_2\\\n",
    "    .xs(key = consultar_valor_indice_0)"
   ]
  },
  {
   "cell_type": "markdown",
   "id": "6da88eff-9ad1-4224-ac53-44c51a80c139",
   "metadata": {},
   "source": [
    "# CONSULTA MULTI INDICE"
   ]
  },
  {
   "cell_type": "code",
   "execution_count": null,
   "id": "06a790da-433e-4a86-b47f-cca17b2aa9de",
   "metadata": {},
   "outputs": [],
   "source": [
    "print(valor_indices)\n",
    "dfx_2\\\n",
    "    .xs(key =(consultar_valor_indice_0, consultar_valor_indice_1))"
   ]
  },
  {
   "cell_type": "code",
   "execution_count": null,
   "id": "64d085c8-4c5c-4e3f-8c4c-e9a7cc3e63ff",
   "metadata": {
    "scrolled": true,
    "tags": []
   },
   "outputs": [],
   "source": [
    "# debe respetarse el orden de los indices sino genera una excepcion\n",
    "dfx_2\\\n",
    "    .xs(key =(consultar_valor_indice_1, consultar_valor_indice_0))"
   ]
  },
  {
   "cell_type": "markdown",
   "id": "a2b67be8-d339-41bb-acc6-645468caf854",
   "metadata": {},
   "source": [
    "## <center>ACCESO POR NIVEL DE LOS INDICES</center>"
   ]
  },
  {
   "cell_type": "code",
   "execution_count": null,
   "id": "2c050448-6416-41f9-b06c-5387122d0f55",
   "metadata": {
    "scrolled": true,
    "tags": []
   },
   "outputs": [],
   "source": [
    "columnas_ordenamiento = random.sample(dfx_2.columns.to_list(), ceil(len(dfx_2.columns.to_list())/2))\n",
    "print(columnas_ordenamiento)\n",
    "print(valor_indices)\n",
    "\n",
    "dfx_2\\\n",
    "    .sort_values(columnas_ordenamiento)"
   ]
  },
  {
   "cell_type": "markdown",
   "id": "ae826766-281e-4058-a7c3-5b9bc9575ae1",
   "metadata": {},
   "source": [
    "## Ubicacion del indice en el dataframe"
   ]
  },
  {
   "cell_type": "code",
   "execution_count": null,
   "id": "d58ebeb6-9fb6-49cb-a9b8-ac5385c9f87c",
   "metadata": {},
   "outputs": [],
   "source": [
    "print(valor_indices)\n",
    "\n",
    "# trae la info asociada al valor declarado del indice 2 de la lista, \n",
    "# por eso el 'level' debe ser igual a la ubicacion del indice\n",
    "dfx_2\\\n",
    "    .xs(consultar_valor_indice_2 , level=2)"
   ]
  },
  {
   "cell_type": "code",
   "execution_count": null,
   "id": "6037258b-3173-4f4f-8ab7-2ac703e23f8c",
   "metadata": {},
   "outputs": [],
   "source": [
    "print(valor_indices)\n",
    "\n",
    "dfx_2\\\n",
    "    .xs((consultar_valor_indice_2 ,consultar_valor_indice_0), level=[2,0])"
   ]
  },
  {
   "cell_type": "markdown",
   "id": "6369558b-8edf-42e9-9483-28b864b50d74",
   "metadata": {
    "tags": []
   },
   "source": [
    "## ubicacion o nombres del indice en el dataframe"
   ]
  },
  {
   "cell_type": "code",
   "execution_count": null,
   "id": "bce2bf04-2bc0-4dde-9932-ef5679462305",
   "metadata": {
    "scrolled": true,
    "tags": []
   },
   "outputs": [],
   "source": [
    "print(valor_indices)\n",
    "\n",
    "dfx_2\\\n",
    "    .xs((consultar_valor_indice_2, consultar_valor_indice_0), level=[2,nombre_indice_0])"
   ]
  },
  {
   "cell_type": "code",
   "execution_count": null,
   "id": "f762b15f-0560-4780-8a65-7bf4dcf7d25a",
   "metadata": {},
   "outputs": [],
   "source": [
    "print(valor_indices)\n",
    "\n",
    "dfx_2\\\n",
    "    .xs((consultar_valor_indice_0,consultar_valor_indice_2), level=[nombre_indice_0, nombre_indice_2])"
   ]
  },
  {
   "cell_type": "markdown",
   "id": "2e360ccd-35d1-4bfe-8df0-8a207509a778",
   "metadata": {},
   "source": [
    "## <center>MANTENER LOS INDICES Y FILTRAR SOLO LA COLUMNA DE INTERES Y CONVERTIR LA SERIE A DATAFRAME</center>"
   ]
  },
  {
   "cell_type": "code",
   "execution_count": null,
   "id": "c44d4c3b-2c45-4757-a28c-3f3f9c493994",
   "metadata": {
    "scrolled": true,
    "tags": []
   },
   "outputs": [],
   "source": [
    "# se debe declarar el eje de filtrado\n",
    "dfx_2\\\n",
    "    .xs('Id', axis=1).to_frame()"
   ]
  },
  {
   "cell_type": "code",
   "execution_count": null,
   "id": "ff7e3301-a955-45ea-b9e6-4daf02d9c17e",
   "metadata": {
    "scrolled": true,
    "tags": []
   },
   "outputs": [],
   "source": [
    "display(dfx_2\\\n",
    "            .xs('Lider', axis=1)\\\n",
    "            .to_frame())"
   ]
  },
  {
   "cell_type": "markdown",
   "id": "2033d556-fcb6-4918-80f5-2bb4130d103f",
   "metadata": {},
   "source": [
    "# RECUPERAR O CONVERTIR UN DATASET CON INDICES EN FORMA TABULAR DEL DATASET **RESET INDEX**"
   ]
  },
  {
   "cell_type": "code",
   "execution_count": null,
   "id": "4e0213ba-efe2-42a1-be13-ba5c8b43e062",
   "metadata": {
    "scrolled": true,
    "tags": []
   },
   "outputs": [],
   "source": [
    "display(dfx_2.reset_index())\n",
    "del dfx_2\n",
    "del dfx_1\n",
    "garbage_colector.collect(), garbage_colector.get_threshold()"
   ]
  },
  {
   "cell_type": "markdown",
   "id": "d4fe9dab-50a6-42fc-91ed-74f2b90e917c",
   "metadata": {},
   "source": [
    "# <center>**CONTAR VALORES NULL DE UN DATAFRAME**</center>"
   ]
  },
  {
   "cell_type": "markdown",
   "id": "7d0f2313-668c-4f37-94f7-9e0cdb78b1bc",
   "metadata": {},
   "source": [
    "## <center>**AGRUPADO POR COLUMNAS NULL DE UN DATAFRAME**</center>"
   ]
  },
  {
   "cell_type": "code",
   "execution_count": null,
   "id": "cdc129e0-1495-49ce-bb1c-61612eb76833",
   "metadata": {},
   "outputs": [],
   "source": [
    "display(df_colores)\n",
    "df_colores\\\n",
    "            .isna()\\\n",
    "            .sum()\\\n",
    "            .to_frame()"
   ]
  },
  {
   "cell_type": "markdown",
   "id": "f40c3f8e-c1de-4240-9817-5d3c6404ab98",
   "metadata": {},
   "source": [
    "## <center>**TOTAL DE TODAS LAS FILAS Y COLUMNAS NULL DE UN DATAFRAME**</center>"
   ]
  },
  {
   "cell_type": "code",
   "execution_count": null,
   "id": "303330a4-eeb7-4129-856c-5f58d5359de6",
   "metadata": {},
   "outputs": [],
   "source": [
    "df_colores\\\n",
    "            .isna()\\\n",
    "            .sum()\\\n",
    "            .sum()"
   ]
  },
  {
   "cell_type": "markdown",
   "id": "456655a7-103e-4b48-bbeb-b4964dc7e2eb",
   "metadata": {},
   "source": [
    "### <center>**reset_index PARA PERSONALIZAR EL NOMBRE DE COLUMNA QUE AGRUPA EL RESULTADO**</center>"
   ]
  },
  {
   "cell_type": "code",
   "execution_count": null,
   "id": "05f86608-294c-4f98-9d86-d55f4aa52af8",
   "metadata": {},
   "outputs": [],
   "source": [
    "df_colores.\\\n",
    "            isna()\\\n",
    "            .sum()\\\n",
    "            .reset_index()\\\n",
    "            .rename({0:'Total Valores Nulos'}, axis='columns')"
   ]
  },
  {
   "cell_type": "code",
   "execution_count": null,
   "id": "7ea162a8-e171-4af1-a9f7-c13f42c05a76",
   "metadata": {},
   "outputs": [],
   "source": [
    "df_colores\\\n",
    "            .isna()\\\n",
    "            .sum()\\\n",
    "            .reset_index(name ='Total Valores Nulos')"
   ]
  },
  {
   "cell_type": "markdown",
   "id": "5cc8906a-f076-4f3b-9a8e-3098e97b135d",
   "metadata": {},
   "source": [
    "### <center>**PERSONALIZAR NOMBRE DEL INDICE dataframe.index.name**</center>"
   ]
  },
  {
   "cell_type": "code",
   "execution_count": null,
   "id": "5da3a2b9-86db-4bbb-b271-a4acf92cce1b",
   "metadata": {},
   "outputs": [],
   "source": [
    "indice_personalizado = df_colores\\\n",
    "                                .isna()\\\n",
    "                                .sum()\n",
    "\n",
    "indice_personalizado.index.name = 'Colores'\n",
    "indice_personalizado.reset_index(name ='Total Valores Nulos')"
   ]
  },
  {
   "cell_type": "markdown",
   "id": "db501310-f546-4984-beba-cdd107198507",
   "metadata": {},
   "source": [
    "# <center>**CONTAR VALORES NULL Y NOT NULL DE UNA COLUMNA**</center>"
   ]
  },
  {
   "cell_type": "code",
   "execution_count": null,
   "id": "01ade14d-8732-4de3-9cd8-9abc77109af0",
   "metadata": {},
   "outputs": [],
   "source": [
    "df_colores.AMARILLO"
   ]
  },
  {
   "cell_type": "code",
   "execution_count": null,
   "id": "4bbe8a2c-ea54-4b3d-81bd-e19ff03e75f8",
   "metadata": {},
   "outputs": [],
   "source": [
    "df_colores.AMARILLO.isna().value_counts()"
   ]
  },
  {
   "cell_type": "code",
   "execution_count": null,
   "id": "0275e04a-955e-4221-80bb-e91623080279",
   "metadata": {},
   "outputs": [],
   "source": [
    "df_colores.AMARILLO.value_counts()"
   ]
  },
  {
   "cell_type": "markdown",
   "id": "4b91d35c-4550-404e-beb3-29766fd650ce",
   "metadata": {},
   "source": [
    "## <center>**ELIMINA TODAS LAS FILAS CON AL MENOS UN VALOR NULL**</center>"
   ]
  },
  {
   "cell_type": "code",
   "execution_count": null,
   "id": "58b6d033-906a-4231-9555-51f69b00f8ee",
   "metadata": {
    "scrolled": true,
    "tags": []
   },
   "outputs": [],
   "source": [
    "display(df_colores)\n",
    "df_colores.dropna()"
   ]
  },
  {
   "cell_type": "markdown",
   "id": "2cf3a6dc-870a-4b00-84bf-39a2586c9438",
   "metadata": {},
   "source": [
    "## <center>**ELIMINA TODAS LAS COLUMNAS CON AL MENOS UN VALOR NULL**</center>"
   ]
  },
  {
   "cell_type": "code",
   "execution_count": null,
   "id": "50c583d9-5b04-403b-8fd2-b89769fffb75",
   "metadata": {},
   "outputs": [],
   "source": [
    "df_colores.T"
   ]
  },
  {
   "cell_type": "code",
   "execution_count": null,
   "id": "400c0c83-5302-40f7-b0a1-2d6ed4c47a75",
   "metadata": {
    "scrolled": true,
    "tags": []
   },
   "outputs": [],
   "source": [
    "df_colores.T.dropna().T"
   ]
  },
  {
   "cell_type": "markdown",
   "id": "3e5bb940-a585-4495-b914-f14a3be03a09",
   "metadata": {},
   "source": [
    "# <center>**OBTENER DATAFRAME FILTRADO CON MULTIPLES COLUMNAS**</center>"
   ]
  },
  {
   "cell_type": "code",
   "execution_count": null,
   "id": "97de954f-c4c1-4106-a165-ac3d581deb5b",
   "metadata": {
    "scrolled": true,
    "tags": []
   },
   "outputs": [],
   "source": [
    "# corchete sencillo genera una serie,\n",
    "df1['Id']"
   ]
  },
  {
   "cell_type": "code",
   "execution_count": null,
   "id": "313ffab3-34c4-4697-bfda-4ca08411b9fa",
   "metadata": {
    "scrolled": true,
    "tags": []
   },
   "outputs": [],
   "source": [
    "# con to_frame() lo convierte a dataframe\n",
    "df1['Id'].to_frame()"
   ]
  },
  {
   "cell_type": "code",
   "execution_count": null,
   "id": "58a1a253-4dc8-4be7-a23c-baefef79f766",
   "metadata": {
    "scrolled": true,
    "tags": []
   },
   "outputs": [],
   "source": [
    "# docble corchete para dataframe\n",
    "df1[['Id']]"
   ]
  },
  {
   "cell_type": "code",
   "execution_count": null,
   "id": "9b72a0f1-96fb-46b6-a005-8117b48dca07",
   "metadata": {
    "scrolled": true,
    "tags": []
   },
   "outputs": [],
   "source": [
    "df1[['Id','Lider']]"
   ]
  },
  {
   "cell_type": "markdown",
   "id": "fed558ec-a1cc-45b6-918b-e1972f9baa20",
   "metadata": {},
   "source": [
    "# <center>ADICIONAR **FILAS NUEVAS** A UN DATAFRAME</center>"
   ]
  },
  {
   "cell_type": "markdown",
   "id": "a2f72d5c-5057-48d1-9271-458e9a4d967e",
   "metadata": {},
   "source": [
    "### <center>**USANDO APPEND DICCIONARIO**</center>"
   ]
  },
  {
   "cell_type": "code",
   "execution_count": null,
   "id": "b291e419-7004-4664-af3f-158e66dd2ded",
   "metadata": {},
   "outputs": [],
   "source": [
    "dataframe_to_filter = df2.head()\n",
    "dataframe_to_filter"
   ]
  },
  {
   "cell_type": "code",
   "execution_count": null,
   "id": "0f752604-4ae4-4edb-840f-da15a580f400",
   "metadata": {
    "scrolled": true,
    "tags": []
   },
   "outputs": [],
   "source": [
    "# no puede tener columnas con el mismo nombre\n",
    "diccionario = dataframe_to_filter\\\n",
    "                                .loc[3]\\\n",
    "                                .to_dict()\n",
    "\n",
    "print(diccionario)\n",
    "dataframe_to_filter.append(diccionario, ignore_index=True)"
   ]
  },
  {
   "cell_type": "code",
   "execution_count": null,
   "id": "9bdd4a67-b4df-4727-ba4e-82cde7e13b79",
   "metadata": {},
   "outputs": [],
   "source": [
    "e = [1,2,3]\n",
    "f = [0,5,7]\n",
    "e.append(f)\n",
    "e"
   ]
  },
  {
   "cell_type": "markdown",
   "id": "8915a730-e56f-4e72-aac1-c99e778c6459",
   "metadata": {},
   "source": [
    "### <center>**LISTA DE DICCIONARIOS**</center>"
   ]
  },
  {
   "cell_type": "code",
   "execution_count": null,
   "id": "b7976f98-0b65-4707-ab18-91018ee345dc",
   "metadata": {
    "scrolled": true,
    "tags": []
   },
   "outputs": [],
   "source": [
    "lista_diccionarios = [dataframe_to_filter.loc[1].to_dict(),\\\n",
    "                      dataframe_to_filter.loc[2].to_dict(),\\\n",
    "                      dataframe_to_filter.loc[3].to_dict()]\n",
    "dataframe_to_filter.append(lista_diccionarios, ignore_index=True)"
   ]
  },
  {
   "cell_type": "markdown",
   "id": "2015a9e9-c631-4379-8b92-33e026eff19b",
   "metadata": {},
   "source": [
    "### <center>**DECLARANDO Y CREANDO UN NOMBRE O VALOR DE INDICE ESPECIFICO COMO VALOR DE LA FILA**</center>"
   ]
  },
  {
   "cell_type": "code",
   "execution_count": null,
   "id": "0b432705-da11-46ef-92c0-6e40012fdad4",
   "metadata": {},
   "outputs": [],
   "source": [
    "dataframe_to_filter.loc[0.5] = [chr(valor + 64) for valor in range(dataframe_to_filter.shape[1])]\n",
    "dataframe_to_filter.loc[0.7] = [chr(valor + 84) for valor in range(dataframe_to_filter.shape[1])]\n",
    "dataframe_to_filter"
   ]
  },
  {
   "cell_type": "markdown",
   "id": "c02f1b3b-351a-471e-9f55-bd30954f92ad",
   "metadata": {},
   "source": [
    "### <center>**USANDO EL INDICE EN LA ULTIMA POSICION PARA INSERTAR LA FILA**</center>"
   ]
  },
  {
   "cell_type": "code",
   "execution_count": null,
   "id": "7cb86d9e-6981-4b05-8f17-0adbc5335e46",
   "metadata": {},
   "outputs": [],
   "source": [
    "# calcula la ultima posicion conociendo el tamano del dataframe len(dataframe_to_filter)\n",
    "lista_a_insertar = [chr(valor + 104) for valor in range(dataframe_to_filter.shape[1])]\n",
    "print(lista_a_insertar)\n",
    "\n",
    "# len(dataframe_to_filter) OBTIENE EL TAMANO DEL DATAFRAME PARA UBIRCARLO EN LA ULTIMA POSICION\n",
    "dataframe_to_filter.loc[len(dataframe_to_filter)] = lista_a_insertar\n",
    "dataframe_to_filter = dataframe_to_filter.sort_index(ascending=True)\n",
    "dataframe_to_filter"
   ]
  },
  {
   "cell_type": "markdown",
   "id": "ca33beac-7435-464e-ab21-fd90b8bccecb",
   "metadata": {},
   "source": [
    "# <center>ADICIONAR **NUEVAS COLUMNAS** A UN DATAFRAME</center>"
   ]
  },
  {
   "cell_type": "code",
   "execution_count": null,
   "id": "193b4a34-9827-4220-bb83-561894b95d53",
   "metadata": {},
   "outputs": [],
   "source": [
    "# se adicionan como la ultima columna\n",
    "dataframe_to_filter['nueva columna'] = [chr(valor + 33) for valor in range (dataframe_to_filter.shape[0])]\n",
    "dataframe_to_filter"
   ]
  },
  {
   "cell_type": "markdown",
   "id": "69655ed6-a040-46ba-80c5-dc1e69442dc0",
   "metadata": {},
   "source": [
    "## <center>**ASSIGN** ADICIONA COLUMNA EN LA ULTIMA POSICION</center>"
   ]
  },
  {
   "cell_type": "markdown",
   "id": "1f17212b-9c91-4950-9e9d-d3e9a1d68a25",
   "metadata": {},
   "source": [
    "### <center>**LAMBDA**</center>"
   ]
  },
  {
   "cell_type": "code",
   "execution_count": null,
   "id": "c9bcf92a-623b-466e-8160-5129058ea331",
   "metadata": {
    "scrolled": true,
    "tags": []
   },
   "outputs": [],
   "source": [
    "df3.assign(temporal=lambda x: x.Id * x.Lider)"
   ]
  },
  {
   "cell_type": "markdown",
   "id": "995ff5ce-3925-4826-9b86-6f0bbfe157f7",
   "metadata": {},
   "source": [
    "### <center>**MULTPLES LAMBDA O COLUMNAS DEL DATAFRAME**</center>"
   ]
  },
  {
   "cell_type": "code",
   "execution_count": null,
   "id": "cab46b52-da96-46f3-9707-da34cacc25b8",
   "metadata": {
    "scrolled": true,
    "tags": []
   },
   "outputs": [],
   "source": [
    "df3.Carnívoros.to_frame()"
   ]
  },
  {
   "cell_type": "code",
   "execution_count": null,
   "id": "e58f2298-f75c-4eed-b1a6-6c04a43dd951",
   "metadata": {
    "scrolled": true,
    "tags": []
   },
   "outputs": [],
   "source": [
    "def unir(row):\n",
    "    \n",
    "    return row.Mamíferos + ' y ' + row.Ovíparos\n",
    "    \n",
    "\n",
    "df3.assign(temporal_multiple=lambda x: x.Id * x.Lider, mamiferos_oviparos=unir, hervi_carnivoros= df3.Herbívoros + ' ' + df3.Carnívoros)"
   ]
  },
  {
   "cell_type": "markdown",
   "id": "7d0ec33c-e6e8-4a74-bd5c-f28100895a94",
   "metadata": {},
   "source": [
    "### <center>**INSERT COLUMNA DATAFRAME EN LA UBICACION QUE SE QUIERA DE MANERA PERMANENTE**</center>"
   ]
  },
  {
   "cell_type": "code",
   "execution_count": null,
   "id": "8400899d-1aeb-4d0a-aef6-815f8ee7f7b8",
   "metadata": {
    "scrolled": true,
    "tags": []
   },
   "outputs": [],
   "source": [
    "df3.insert(0, \"insertada\", [valor*valor for valor in range(df3.shape[0])])\n",
    "df3"
   ]
  },
  {
   "cell_type": "markdown",
   "id": "b980bb4d-f8b8-44d6-a331-9c5637f0c32f",
   "metadata": {},
   "source": [
    "### <center>**NO SE INSERTA UNA NUEVA COLUMNA EN EL DATAFRAME CON EL MISMO NOMBRE SI NO SE ESPECIFICA LA OPCION DE DUPLICADO**</center>"
   ]
  },
  {
   "cell_type": "code",
   "execution_count": null,
   "id": "95cea85e-b7d0-44a2-9f7f-77c0614dcde6",
   "metadata": {
    "scrolled": true,
    "tags": []
   },
   "outputs": [],
   "source": [
    "df3.insert(0, \"insertada\", [valor*valor for valor in range(df3.shape[0])])\n",
    "df3"
   ]
  },
  {
   "cell_type": "code",
   "execution_count": null,
   "id": "b18b5164-85c5-4bee-98ec-4b1aab400064",
   "metadata": {
    "scrolled": true,
    "tags": []
   },
   "outputs": [],
   "source": [
    "df3.insert(0, \"insertada\", [valor*valor*valor + 5 for valor in range(df3.shape[0])], allow_duplicates=True)\n",
    "df3"
   ]
  },
  {
   "cell_type": "code",
   "execution_count": null,
   "id": "e7a8df03-9cbc-45aa-b11c-578c72a02e95",
   "metadata": {
    "scrolled": true,
    "tags": []
   },
   "outputs": [],
   "source": [
    "df3.insert(3, \"insertada\", [valor*valor*valor + 5 for valor in range(df3.shape[0])], allow_duplicates=True)\n",
    "df3"
   ]
  },
  {
   "cell_type": "markdown",
   "id": "77494cec-6641-4293-aec0-6e69a4199915",
   "metadata": {},
   "source": [
    "### <center>ADICIONA COLUMNA EN LA ULTIMA POSICION</center>"
   ]
  },
  {
   "cell_type": "code",
   "execution_count": null,
   "id": "5cfd4f44-fb19-4ae1-891b-04c1e68cbc2c",
   "metadata": {
    "scrolled": true,
    "tags": []
   },
   "outputs": [],
   "source": [
    "df3.insert(df3.shape[1], \"ULTIMA POSICION\", df3.Carnívoros + ' ' + df3.Omnívoros, allow_duplicates=True)\n",
    "df3"
   ]
  },
  {
   "cell_type": "markdown",
   "id": "df624df9-7fac-4b93-a6ce-6285864821ba",
   "metadata": {},
   "source": [
    "# <center>**CREAR DATAFRAME DE OTRO DATAFRAME**</center>"
   ]
  },
  {
   "cell_type": "markdown",
   "id": "f50ee9f0-9eb9-4d9e-9656-0bcb6a889bb0",
   "metadata": {},
   "source": [
    "### <center>**NO SE PUEDE CREAR UN NUEVO DATAFRAME DE OTRO DATAFRAME SI TIENE COLUMNAS REPETIDAS**</center>"
   ]
  },
  {
   "cell_type": "code",
   "execution_count": null,
   "id": "d5482163-9c76-42e1-8495-42877f9d8389",
   "metadata": {
    "scrolled": true,
    "tags": []
   },
   "outputs": [],
   "source": [
    "display(df3.head())\n",
    "pd.DataFrame(df3, columns=['Id','Lider'])"
   ]
  },
  {
   "cell_type": "code",
   "execution_count": null,
   "id": "39feb671-bc3c-4a4e-b43f-f24e353810ce",
   "metadata": {
    "scrolled": true,
    "tags": []
   },
   "outputs": [],
   "source": [
    "pd.DataFrame(df2, columns=['Id','Lider']).head()"
   ]
  },
  {
   "cell_type": "markdown",
   "id": "b1d088d2-6d83-41f5-b616-df531a2c77db",
   "metadata": {},
   "source": [
    "### <center>**SOLO SE PUEDE CREAR UN NUEVO DATAFRAME DE OTRO DATAFRAME SI TIENE COLUMNAS REPETIDAS USANDO DOBLE CORCHETE**</center>"
   ]
  },
  {
   "cell_type": "code",
   "execution_count": null,
   "id": "651d7b59-714b-4197-9e00-59429c10f0a2",
   "metadata": {
    "scrolled": true,
    "tags": []
   },
   "outputs": [],
   "source": [
    "pd.DataFrame(df3[['insertada','Lider']]).head()"
   ]
  },
  {
   "cell_type": "markdown",
   "id": "2300f6f4-9e6e-40e1-8d35-eb08c39fed98",
   "metadata": {},
   "source": [
    "# <center>**ORDENAR DATAFRAME BASADO EN LOS VALORES DE COLUMNAS**</center>"
   ]
  },
  {
   "cell_type": "markdown",
   "id": "d71bb6be-d64c-40db-94bd-d51139f9b16f",
   "metadata": {},
   "source": [
    "### de mayor a menor valor"
   ]
  },
  {
   "cell_type": "code",
   "execution_count": null,
   "id": "10c9fc60-a817-466a-840a-afae31942504",
   "metadata": {
    "scrolled": true,
    "tags": []
   },
   "outputs": [],
   "source": [
    "df1.sort_values(by=['Lider','Id'], ascending=True)[0:10]"
   ]
  },
  {
   "cell_type": "markdown",
   "id": "fd14654b-a323-45fd-8f78-6bf6f67dc544",
   "metadata": {},
   "source": [
    "### de menor a mayor valor"
   ]
  },
  {
   "cell_type": "code",
   "execution_count": null,
   "id": "e8a52f16-6615-4eee-aeb9-f0839bd53c94",
   "metadata": {
    "scrolled": true,
    "tags": []
   },
   "outputs": [],
   "source": [
    "df1.sort_values(by=['Lider','Id'], ascending=False)[0:10]"
   ]
  },
  {
   "cell_type": "markdown",
   "id": "ff39f5f2-5e0e-4765-a58d-85c323aae8c4",
   "metadata": {},
   "source": [
    "### una columna por menor valor y otra por mayor valor"
   ]
  },
  {
   "cell_type": "code",
   "execution_count": null,
   "id": "c6df3f23-ec2b-4d40-a0a9-cf570609b203",
   "metadata": {
    "scrolled": true,
    "tags": []
   },
   "outputs": [],
   "source": [
    "df1.sort_values(by=['Lider','Id'], ascending=[True,False])[0:10]"
   ]
  },
  {
   "cell_type": "markdown",
   "id": "1cac8b8f-81ae-4171-b992-c9b5c9e68f82",
   "metadata": {},
   "source": [
    "# <center>**CONVERTIR A MAYUSCULAS, MINUSCULAS O TITULO LOS VALORES DE UNA COLUMNA**</center>"
   ]
  },
  {
   "cell_type": "code",
   "execution_count": null,
   "id": "c6a0ad33-207e-43a4-89f2-3011493bd319",
   "metadata": {
    "scrolled": true,
    "tags": []
   },
   "outputs": [],
   "source": [
    "df1.Mamíferos.str.upper().to_frame()"
   ]
  },
  {
   "cell_type": "code",
   "execution_count": null,
   "id": "6c2bc988-9803-4d69-97d8-11b0d4c3bd50",
   "metadata": {
    "scrolled": true,
    "tags": []
   },
   "outputs": [],
   "source": [
    "df1.Mamíferos.str.lower().to_frame()"
   ]
  },
  {
   "cell_type": "code",
   "execution_count": null,
   "id": "6d9b70cb-09a4-4dcf-820b-52fbd6d8cba0",
   "metadata": {
    "scrolled": true,
    "tags": []
   },
   "outputs": [],
   "source": [
    "df1.Mamíferos.str.title().to_frame()"
   ]
  },
  {
   "cell_type": "markdown",
   "id": "05262cc7-aa22-4140-a7c0-a98ef0e8bd7f",
   "metadata": {},
   "source": [
    "# <center>**VALIDAR SI EXISTEN VALORES EN UNA COLUMNA**</center>\n",
    "## <center>**SENSIBLE AL CASO**</center>"
   ]
  },
  {
   "cell_type": "code",
   "execution_count": null,
   "id": "3c1508a2-a5e9-455b-b811-c95347c1f77d",
   "metadata": {
    "scrolled": true,
    "tags": []
   },
   "outputs": [],
   "source": [
    "base = df1.head()\n",
    "display(base)"
   ]
  },
  {
   "cell_type": "code",
   "execution_count": null,
   "id": "daaa0f77-cba5-47ef-9643-2584b0cd15c2",
   "metadata": {
    "scrolled": true,
    "tags": []
   },
   "outputs": [],
   "source": [
    "base.Mamíferos.isin(['vacas','leones']).to_frame()"
   ]
  },
  {
   "cell_type": "code",
   "execution_count": null,
   "id": "bb1f4929-ff7f-466d-9411-27ff3a785300",
   "metadata": {
    "scrolled": true,
    "tags": []
   },
   "outputs": [],
   "source": [
    "base.Mamíferos.isin(['Vacas','Leones']).to_frame()"
   ]
  },
  {
   "cell_type": "code",
   "execution_count": null,
   "id": "e55ff19c-3f45-4ff6-b688-ff71665fd037",
   "metadata": {
    "scrolled": true,
    "tags": []
   },
   "outputs": [],
   "source": [
    "base.Mamíferos.str.upper().isin(['VACAS','LEONES']).to_frame()"
   ]
  },
  {
   "cell_type": "markdown",
   "id": "e46a5593-de51-4b58-8812-e3a4b67d12f8",
   "metadata": {},
   "source": [
    "# <center>OBTENER LA INFORMACION DE LAS **FILAS** DE UN DATAFRAME</center>\n",
    "## <center> **LIMIT & OFFSET** DE UN DATAFRAME</center>"
   ]
  },
  {
   "cell_type": "markdown",
   "id": "1bf3a3e7-6adb-4f40-ad5c-70da47d585c4",
   "metadata": {},
   "source": [
    "# <center>PRIMERAS  **n FILAS**</center>"
   ]
  },
  {
   "cell_type": "code",
   "execution_count": null,
   "id": "f8e063a5-ab41-41fd-9b4e-aec668306d92",
   "metadata": {},
   "outputs": [],
   "source": [
    "# LIMIT\n",
    "df1.head(7)"
   ]
  },
  {
   "cell_type": "markdown",
   "id": "99206afa-6177-444b-ba49-211049313dc5",
   "metadata": {},
   "source": [
    "# <center>TODOS LOS VALORES EXCEPTO LAS PRIMERAS **n FILAS**</center>"
   ]
  },
  {
   "cell_type": "code",
   "execution_count": null,
   "id": "cc589b5e-13c8-406d-af85-8782d913cfb2",
   "metadata": {},
   "outputs": [],
   "source": [
    "# OFFSET\n",
    "df1.tail(-93)"
   ]
  },
  {
   "cell_type": "markdown",
   "id": "0a29d493-c2b3-4939-917d-cbdacd88acbc",
   "metadata": {},
   "source": [
    "# <center>ULTIMAS  **n FILAS**</center>"
   ]
  },
  {
   "cell_type": "code",
   "execution_count": null,
   "id": "66112c56-c591-48cc-a129-6cd2cde0cc81",
   "metadata": {},
   "outputs": [],
   "source": [
    "df1.tail(7)"
   ]
  },
  {
   "cell_type": "markdown",
   "id": "57828071-6d9a-4a36-b99b-a7133ca2f5ac",
   "metadata": {},
   "source": [
    "# <center>TODOS LOS VALORES EXCEPTO LAS ULTIMAS **n FILAS**</center>"
   ]
  },
  {
   "cell_type": "code",
   "execution_count": null,
   "id": "c352e236-1111-4596-b801-980e25765f5c",
   "metadata": {},
   "outputs": [],
   "source": [
    "df1.head(-93)"
   ]
  },
  {
   "cell_type": "markdown",
   "id": "7d6b7f6d-b79a-48fa-a095-835ebf54425f",
   "metadata": {},
   "source": [
    "# <center>MUESTREO ALEATORIO  **n FILAS**</center>"
   ]
  },
  {
   "cell_type": "code",
   "execution_count": null,
   "id": "ee46ce4f-cf02-44c7-96f5-657906a0f80e",
   "metadata": {},
   "outputs": [],
   "source": [
    "df1.sample(7)"
   ]
  },
  {
   "cell_type": "markdown",
   "id": "37109318-7e75-419c-93b8-3d22dc3b52d3",
   "metadata": {},
   "source": [
    "# <center>OPERACIONES SOBRE TODAS LAS FILAS O COLUMNAS **EJES X y Y**</center>"
   ]
  },
  {
   "cell_type": "code",
   "execution_count": null,
   "id": "2c691cd1-7f16-48fe-9316-55766182a618",
   "metadata": {},
   "outputs": [],
   "source": [
    "ejes = pd.DataFrame(df1, columns=['Lider','Id']).head(5)"
   ]
  },
  {
   "cell_type": "markdown",
   "id": "686d8723-4fec-41a0-b1a2-80bfe9898849",
   "metadata": {},
   "source": [
    "# <center>EJE X **AXIS=0 - AXIS=ROWS**</center>"
   ]
  },
  {
   "cell_type": "code",
   "execution_count": null,
   "id": "7ed1946a-c6ae-4207-8d55-ede08590ab82",
   "metadata": {},
   "outputs": [],
   "source": [
    "display(ejes)\n",
    "ejes.mean(axis=0)"
   ]
  },
  {
   "cell_type": "code",
   "execution_count": null,
   "id": "31df2d68-100b-4a83-94bb-b392e66d5d9e",
   "metadata": {},
   "outputs": [],
   "source": [
    "ejes.mean(axis='rows')"
   ]
  },
  {
   "cell_type": "markdown",
   "id": "0d14f3cc-e0f8-49ad-bc95-b0f6675ed80b",
   "metadata": {},
   "source": [
    "# <center>EJE Y  **AXIS=1 - AXIS=COLUMNS**</center>"
   ]
  },
  {
   "cell_type": "code",
   "execution_count": null,
   "id": "8b0e9396-c36e-4733-b787-460a5f0086aa",
   "metadata": {},
   "outputs": [],
   "source": [
    "display(ejes)\n",
    "ejes.mean(axis=1)"
   ]
  },
  {
   "cell_type": "code",
   "execution_count": null,
   "id": "f77a81ca-e51f-4ed0-8293-84363c0a6fe5",
   "metadata": {},
   "outputs": [],
   "source": [
    "ejes.mean(axis='columns')"
   ]
  },
  {
   "cell_type": "markdown",
   "id": "c4f318f6-eb32-40c5-bf87-cf7cb27e61f8",
   "metadata": {},
   "source": [
    "# <center>**MODIFICAR VALORES DE UN DATAFRAME EN MEMORIA**</center>\n",
    "## <center>**INPLACE** TRUE vs FALSE, **COPY**</center>"
   ]
  },
  {
   "cell_type": "code",
   "execution_count": null,
   "id": "fafca00c-2f53-4abd-9083-d96e32aee54c",
   "metadata": {},
   "outputs": [],
   "source": [
    "inicial = pd.DataFrame({\n",
    "        \"object\": [\"TV\",\"RADIO\",\"CELL PHONE\"], \"state\": [\"OFF\",\"PLAYING\",\"BLOCKED\"]\n",
    "    })\n",
    "inicial"
   ]
  },
  {
   "cell_type": "markdown",
   "id": "9b4e0483-58c6-4375-8db3-269a4dc1067c",
   "metadata": {},
   "source": [
    "### <center>**False** valor por defecto</center>"
   ]
  },
  {
   "cell_type": "code",
   "execution_count": null,
   "id": "f4b28f34-fc6e-4219-aced-0cbf87184755",
   "metadata": {},
   "outputs": [],
   "source": [
    "final_inplace_false = inicial.replace({\"OFF\": \"ON\"}, inplace=False)\n",
    "display(inicial,final_inplace_false)"
   ]
  },
  {
   "cell_type": "markdown",
   "id": "d5c068cd-7441-437a-85dc-8cafadf922bd",
   "metadata": {},
   "source": [
    "### <center>**True**</center>\n",
    "### <center>**AL USAR TRUE RETORNA VACIO, ENTONCES NO SE DEBE GUARDAR EN UNA VARIABLE**</center>"
   ]
  },
  {
   "cell_type": "code",
   "execution_count": null,
   "id": "cff2451b-1f18-4fe4-b8de-98d900213ce2",
   "metadata": {},
   "outputs": [],
   "source": [
    "final_inplace_true = inicial.replace({\"OFF\": \"ON\"}, inplace=True)\n",
    "\n",
    "print('retorna de la variable ->', final_inplace_true)\n",
    "\n",
    "display(inicial)\n",
    "display(final_inplace_true)"
   ]
  },
  {
   "cell_type": "markdown",
   "id": "62ef9564-1f11-438c-832e-8dc7dcaac820",
   "metadata": {},
   "source": [
    "### <center>**APLICAR DIRECTAMENTE SOBRE LA VARIABLE PARA VER LOS CAMBIOS EN AMBAS VARIABLES**</center>"
   ]
  },
  {
   "cell_type": "code",
   "execution_count": null,
   "id": "1d05fdf3-9bf8-4ad3-97f5-d1d9b195fc88",
   "metadata": {},
   "outputs": [],
   "source": [
    "final_inplace_true = inicial\n",
    "final_inplace_true.replace({\"OFF\": \"ON\"}, inplace=True)\n",
    "display(inicial,final_inplace_true)"
   ]
  },
  {
   "cell_type": "markdown",
   "id": "a86b4145-b6d3-4e91-9679-1cfde4711d90",
   "metadata": {},
   "source": [
    "### <center>**COPY**</center>"
   ]
  },
  {
   "cell_type": "code",
   "execution_count": null,
   "id": "244d802b-31bb-4c84-a490-7e47750ac137",
   "metadata": {},
   "outputs": [],
   "source": [
    "inicial_copia = inicial.copy()\n",
    "inicial_copia"
   ]
  },
  {
   "cell_type": "code",
   "execution_count": null,
   "id": "84342e0e-0f4e-4064-87fd-bd4e31908e01",
   "metadata": {},
   "outputs": [],
   "source": [
    "inicial_copia.replace({\"ON\": \"WAITING\"}, inplace=True)\n",
    "display(inicial,inicial_copia)"
   ]
  },
  {
   "cell_type": "markdown",
   "id": "5743a62b-ae99-4621-bf97-ba4465b67180",
   "metadata": {},
   "source": [
    "# <center>FILTRAR LA INFORMACION DE UN DATAFRAME</center>"
   ]
  },
  {
   "cell_type": "code",
   "execution_count": null,
   "id": "7af3763f-f5f8-406d-831e-3e9cf7266f62",
   "metadata": {
    "scrolled": true,
    "tags": []
   },
   "outputs": [],
   "source": [
    "dataframe_to_filter = df1.head(21)\n",
    "dataframe_to_filter"
   ]
  },
  {
   "cell_type": "markdown",
   "id": "e0c46943-2b52-41e7-8783-03e87eb19710",
   "metadata": {},
   "source": [
    "### <center>**SLICING DATAFRAME**</center>"
   ]
  },
  {
   "cell_type": "code",
   "execution_count": null,
   "id": "32d0863e-a891-4d24-914b-41e1f20e686e",
   "metadata": {
    "scrolled": true,
    "tags": []
   },
   "outputs": [],
   "source": [
    "# incluye el valor del primer indice, excluye el valor del ultimo indice\n",
    "dataframe_to_filter[1:7]"
   ]
  },
  {
   "cell_type": "markdown",
   "id": "86153fc8-2b12-4f2a-b2ee-3629db7c1639",
   "metadata": {},
   "source": [
    "# <center>**USANDO ETIQUETAS**</center>\n",
    "<center><img src=\"loc_iloc.png\"/></center>"
   ]
  },
  {
   "cell_type": "markdown",
   "id": "dcfc82ff-4398-4f3a-9170-b021dd7258b7",
   "metadata": {},
   "source": [
    "## <center>**LOCK**</center>"
   ]
  },
  {
   "cell_type": "code",
   "execution_count": null,
   "id": "7e49dc4b-0abf-47da-abf0-36217cf949b7",
   "metadata": {},
   "outputs": [],
   "source": [
    "display(dataframe_to_filter.head(10))"
   ]
  },
  {
   "cell_type": "code",
   "execution_count": null,
   "id": "ef73cde8-5db3-4dff-aaca-5f6e8a3b9960",
   "metadata": {
    "scrolled": true,
    "tags": []
   },
   "outputs": [],
   "source": [
    "# selecciona filas desde el indice, hasta el indice\n",
    "display(dataframe_to_filter.loc[5:10])"
   ]
  },
  {
   "cell_type": "code",
   "execution_count": null,
   "id": "08d4b5e0-96af-4e24-9503-5a0d2450aa76",
   "metadata": {},
   "outputs": [],
   "source": [
    "# selecciona filas desde el indice, hasta el indice, con saltos\n",
    "display(dataframe_to_filter.loc[5:10:2])"
   ]
  },
  {
   "cell_type": "code",
   "execution_count": null,
   "id": "27c4b196-9f4e-449e-a383-f3edb9129426",
   "metadata": {
    "scrolled": true,
    "tags": []
   },
   "outputs": [],
   "source": [
    "display(dataframe_to_filter.loc[5:10:3,'Lider':'Peces'])"
   ]
  },
  {
   "cell_type": "markdown",
   "id": "6b296c5c-5269-4783-a3cb-ac3f6e385a65",
   "metadata": {},
   "source": [
    "### FILTRAR BASADO EN CONDICIONES Y COLUMNAS"
   ]
  },
  {
   "cell_type": "code",
   "execution_count": null,
   "id": "6049285f-8498-4ebc-bfbb-55c77ef95038",
   "metadata": {},
   "outputs": [],
   "source": [
    "dataframe_to_filter.loc[dataframe_to_filter['Lider'] > 50]"
   ]
  },
  {
   "cell_type": "code",
   "execution_count": null,
   "id": "b9b47549-8942-4b14-9be0-72da5eb40fbd",
   "metadata": {},
   "outputs": [],
   "source": [
    "dataframe_to_filter.loc[dataframe_to_filter['Lider'] > 50, ['Id','Peces','Aves']]"
   ]
  },
  {
   "cell_type": "markdown",
   "id": "5d4f1e53-05da-42a0-bbf3-3bca1b174ed4",
   "metadata": {},
   "source": [
    "### REEMPLAZAR VALORES DE LAS COLUMNAS BASADO EN LOS INDICES"
   ]
  },
  {
   "cell_type": "code",
   "execution_count": null,
   "id": "eff886f6-3a28-44db-ba51-b26399f84663",
   "metadata": {
    "scrolled": true,
    "tags": []
   },
   "outputs": [],
   "source": [
    "dataframe_to_filter.loc[[2,3,4], ['Id','Lider']] = 0\n",
    "dataframe_to_filter"
   ]
  },
  {
   "cell_type": "markdown",
   "id": "e0ec79c2-9885-45a7-b1f2-444a410ccd5f",
   "metadata": {},
   "source": [
    "### REORDENAR COLUMNAS DE DATAFRAME POR NOMBRE"
   ]
  },
  {
   "cell_type": "code",
   "execution_count": null,
   "id": "c1ee2353-e4e6-4bfa-a39a-9b195e25c2b1",
   "metadata": {},
   "outputs": [],
   "source": [
    "lista = dataframe_to_filter.columns.to_list()\n",
    "print(lista)\n",
    "lista.sort()\n",
    "lista"
   ]
  },
  {
   "cell_type": "code",
   "execution_count": null,
   "id": "1aff0602-c187-4464-9789-0864f0c15279",
   "metadata": {},
   "outputs": [],
   "source": [
    "dataframe_to_filter.loc[5:10,lista]"
   ]
  },
  {
   "cell_type": "markdown",
   "id": "b46ed4e2-41d5-48f8-a4cd-32e80bf33b06",
   "metadata": {},
   "source": [
    "### FILTRAR DATAFRAME POR NOMBRE DE COLUMNAS"
   ]
  },
  {
   "cell_type": "code",
   "execution_count": null,
   "id": "66270afa-c11f-4c2e-9a9f-816f08df2289",
   "metadata": {},
   "outputs": [],
   "source": [
    "dataframe_to_filter.loc[5:10,['Mamíferos', 'Reptiles', 'Peces', 'Anfibios']]"
   ]
  },
  {
   "cell_type": "code",
   "execution_count": null,
   "id": "b53485f2-ce11-4f3d-b9f4-d718aba2dbe2",
   "metadata": {},
   "outputs": [],
   "source": [
    "# muesta las columnas que son salteadas de a 2\n",
    "display(dataframe_to_filter.loc[5:10])\n",
    "display(dataframe_to_filter.loc[5:10,'Lider'::2])\n",
    "display(dataframe_to_filter.loc[5:10,'Id'::2])"
   ]
  },
  {
   "cell_type": "markdown",
   "id": "a41d2522-e66a-48e0-88ae-217bc2793be7",
   "metadata": {},
   "source": [
    "# <center>**USANDO INDICES**</center>"
   ]
  },
  {
   "cell_type": "markdown",
   "id": "48ddd622-e90f-4d3b-b0ab-7579cabf62c8",
   "metadata": {},
   "source": [
    "## <center>**ILOCK**</center>"
   ]
  },
  {
   "cell_type": "code",
   "execution_count": null,
   "id": "08bd3506-aa79-496c-b9e5-2a0face29f70",
   "metadata": {},
   "outputs": [],
   "source": [
    "display(dataframe_to_filter.head(10))"
   ]
  },
  {
   "cell_type": "code",
   "execution_count": null,
   "id": "86ddbab0-90a6-4f27-9184-659e792a9ae9",
   "metadata": {
    "scrolled": true,
    "tags": []
   },
   "outputs": [],
   "source": [
    "# selecciona filas y columnas simultaneamente\n",
    "dataframe_to_filter.iloc[5:10:2]"
   ]
  },
  {
   "cell_type": "code",
   "execution_count": null,
   "id": "f704123e-cab6-4b0d-9363-55e75c5324f1",
   "metadata": {},
   "outputs": [],
   "source": [
    "dataframe_to_filter.iloc[5:10:2,1:5]"
   ]
  },
  {
   "cell_type": "code",
   "execution_count": null,
   "id": "3d9fd0f4-3d29-441e-bb9a-4311a6df5df2",
   "metadata": {},
   "outputs": [],
   "source": [
    "dataframe_to_filter.iloc[5:10,1::2]"
   ]
  },
  {
   "cell_type": "markdown",
   "id": "4d336f64-47ae-4088-951a-725140ed968d",
   "metadata": {},
   "source": [
    "### REORDENAMIENTO DE LA UBICACION DE LAS FILAS Y EXTRACCION DE FILAS ESPECIFICAS"
   ]
  },
  {
   "cell_type": "code",
   "execution_count": null,
   "id": "6b4eed40-b44c-44c1-9a61-6eab60c4b666",
   "metadata": {},
   "outputs": [],
   "source": [
    "dataframe_to_filter.iloc[[7,9,13,1,2,5],1::2]"
   ]
  },
  {
   "cell_type": "markdown",
   "id": "fb3d9698-60c8-4a7d-a947-1904ca32812c",
   "metadata": {},
   "source": [
    "### REORDENAMIENTO DE LA UBICACION DE LAS COLUMNAS Y EXTRACCION DE COLUMNAS ESPECIFICAS"
   ]
  },
  {
   "cell_type": "code",
   "execution_count": null,
   "id": "8a3519ec-cf0f-4372-aa16-251caac61ec0",
   "metadata": {},
   "outputs": [],
   "source": [
    "# indices especificos de las columnas\n",
    "dataframe_to_filter.iloc[5:10,[4,5,2,1]]"
   ]
  },
  {
   "cell_type": "markdown",
   "id": "509e82dc-8869-44a9-9e88-db0a4eba97d9",
   "metadata": {},
   "source": [
    "### <center>**AT, IAT, OBTENER VALOR DEL CONTENIDO ESPECIFICO DE UNA FILA-COLUMNA** UBICACION EN LA MATRIZ DEL DATAFRAME</center>"
   ]
  },
  {
   "cell_type": "code",
   "execution_count": null,
   "id": "4dd4e47d-0696-44e5-9abb-ae6f9073c9aa",
   "metadata": {
    "scrolled": true,
    "tags": []
   },
   "outputs": [],
   "source": [
    "print(dataframe_to_filter.at[2,'Anfibios'])\n",
    "display(dataframe_to_filter)"
   ]
  },
  {
   "cell_type": "code",
   "execution_count": null,
   "id": "334cb379-bb66-4735-a447-fec7c15baa4d",
   "metadata": {},
   "outputs": [],
   "source": [
    "dataframe_to_filter.iat[2,5]"
   ]
  },
  {
   "cell_type": "code",
   "execution_count": null,
   "id": "5dcd8335-b783-45a7-85df-c25a1649af46",
   "metadata": {
    "scrolled": true,
    "tags": []
   },
   "outputs": [],
   "source": [
    "dataframe_to_filter.iat[2,5] = 'RANAS'\n",
    "dataframe_to_filter"
   ]
  },
  {
   "cell_type": "markdown",
   "id": "c78c68e5-573f-4ffd-bb1f-e9da9410cda9",
   "metadata": {},
   "source": [
    "### <center>**TAKE OBTENER LAS FILAS O COLUMNAS CON UN INDICE ESPECIFICO**</center>"
   ]
  },
  {
   "cell_type": "code",
   "execution_count": null,
   "id": "d81411e0-13d6-4b53-b8d2-858d06701548",
   "metadata": {},
   "outputs": [],
   "source": [
    "dataframe_to_filter.take([1,5], axis='rows')"
   ]
  },
  {
   "cell_type": "code",
   "execution_count": null,
   "id": "c9ec45a7-8880-4130-b902-344471ee4457",
   "metadata": {
    "scrolled": true,
    "tags": []
   },
   "outputs": [],
   "source": [
    "# trae las columnas con los indices declarados\n",
    "dataframe_to_filter.take([1,5], axis='columns')"
   ]
  },
  {
   "cell_type": "code",
   "execution_count": null,
   "id": "e3eb1a43-1171-44e9-bf3d-ce618ac80e76",
   "metadata": {
    "scrolled": true,
    "tags": []
   },
   "outputs": [],
   "source": [
    "# trae las columnas con los indices declarados desde la ultima posicion hacia atras\n",
    "dataframe_to_filter.take([-1,-2], axis='columns')"
   ]
  },
  {
   "cell_type": "markdown",
   "id": "57320942-1ca6-49f9-9a54-5ef270698229",
   "metadata": {},
   "source": [
    "### <center>**CLIP REEMPLAZO DE VALORES FUERA DE LOS RANGOS**</center>"
   ]
  },
  {
   "cell_type": "code",
   "execution_count": null,
   "id": "7a54e7d3-3559-448c-90ae-8a1d2ce0ddf3",
   "metadata": {
    "scrolled": true,
    "tags": []
   },
   "outputs": [],
   "source": [
    "display(dataframe_to_filter[['Id','Lider']].iloc[0:10])"
   ]
  },
  {
   "cell_type": "code",
   "execution_count": null,
   "id": "e2a4ff25-ee1f-4063-982a-67270a292bc9",
   "metadata": {
    "scrolled": true,
    "tags": []
   },
   "outputs": [],
   "source": [
    "dataframe_to_filter[['Id','Lider']]\\\n",
    "                                    .iloc[0:10]\\\n",
    "                                    .clip(lower=3, upper=8, axis = 0)"
   ]
  },
  {
   "cell_type": "markdown",
   "id": "fd83bf3a-2960-4d3e-ae8d-3bc78c10aa72",
   "metadata": {},
   "source": [
    "### <center>**FILTER DATAFRAME**</center>"
   ]
  },
  {
   "cell_type": "markdown",
   "id": "55caa373-dc26-4bc9-b57e-bb8a6302fee4",
   "metadata": {},
   "source": [
    "### OBTIENE LAS **FILAS** QUE CONTENGA EL CARACTER A FILTRAR **BASASO EN EL VALOR DEL INDICE**"
   ]
  },
  {
   "cell_type": "code",
   "execution_count": null,
   "id": "aef560d7-8377-4b92-ab5c-2d6e72dd39d5",
   "metadata": {},
   "outputs": [],
   "source": [
    "# el indice contenga, filtra por fila\n",
    "dataframe_to_filter\\\n",
    "                    .filter(like='2', axis=0)"
   ]
  },
  {
   "cell_type": "markdown",
   "id": "2244f6a3-3fa6-48cb-ab81-0726a504d599",
   "metadata": {},
   "source": [
    "### OBTIENE LAS **COLUMNAS** QUE CONTENGAN EL CARACTER A FILTRAR **BASADO EN EL NOMBRE DE LA COLUMNA** SENSIBLE AL CASO"
   ]
  },
  {
   "cell_type": "code",
   "execution_count": null,
   "id": "77f63565-d7f4-494a-9da5-340712e778b4",
   "metadata": {
    "scrolled": true,
    "tags": []
   },
   "outputs": [],
   "source": [
    "# el nombre de la columna contenga\n",
    "dataframe_to_filter\\\n",
    "                    .filter(like='R', axis=1)"
   ]
  },
  {
   "cell_type": "code",
   "execution_count": null,
   "id": "d605c275-2a52-4d5d-a853-5e13dd8f94a1",
   "metadata": {
    "scrolled": true,
    "tags": []
   },
   "outputs": [],
   "source": [
    "dataframe_to_filter\\\n",
    "                    .filter(like='r', axis=1)"
   ]
  },
  {
   "cell_type": "markdown",
   "id": "a0a47168-78b2-4000-8e18-7fcbc2348e3c",
   "metadata": {},
   "source": [
    "# FILTRO CASO NO SENSITIVO CON EXPRESIONES REGULARES"
   ]
  },
  {
   "cell_type": "code",
   "execution_count": null,
   "id": "4175a535-0233-42da-bfbc-c88c5ca37e9a",
   "metadata": {
    "scrolled": true,
    "tags": []
   },
   "outputs": [],
   "source": [
    "import re\n",
    "dataframe_to_filter\\\n",
    "                    .filter(regex=re.compile(r\"R\", re.IGNORECASE), axis=1)"
   ]
  },
  {
   "cell_type": "markdown",
   "id": "15077664-0a4f-4976-8087-aba2a6dc5b53",
   "metadata": {},
   "source": [
    "# <center>**FILTRO CON CONDICIONES EN COLUMNAS**</center>"
   ]
  },
  {
   "cell_type": "code",
   "execution_count": null,
   "id": "d0e98293-ddea-4262-8333-85e68f5517ab",
   "metadata": {
    "scrolled": true,
    "tags": []
   },
   "outputs": [],
   "source": [
    "valores_anfibios = list(dataframe_to_filter[\"Anfibios\"].unique())\n",
    "valores_id = list(dataframe_to_filter[\"Id\"].unique())\n",
    "valores_lider = list(dataframe_to_filter[\"Lider\"].unique())\n",
    "\n",
    "valor_anfibio = random.choice(valores_anfibios)\n",
    "valor_id = random.choice(valores_id)\n",
    "valor_lider = random.choice(valores_lider)\n",
    "\n",
    "valores_referencia = f'Anfibio -> {valor_anfibio}, Id -> {valor_id}, Lider -> {valor_lider}'\n",
    "print(valores_referencia)\n",
    "\n",
    "display(dataframe_to_filter)\n",
    "dataframe_to_filter[dataframe_to_filter[\"Anfibios\"] == valor_anfibio] "
   ]
  },
  {
   "cell_type": "code",
   "execution_count": null,
   "id": "3d6de7f9-01f2-4318-b171-651d19602d1d",
   "metadata": {
    "scrolled": true,
    "tags": []
   },
   "outputs": [],
   "source": [
    "print(valores_referencia)\n",
    "display(dataframe_to_filter)\n",
    "dataframe_to_filter[dataframe_to_filter[\"Anfibios\"] != valor_anfibio] "
   ]
  },
  {
   "cell_type": "markdown",
   "id": "ebe91793-da8f-42e0-b625-05e5dda9aba2",
   "metadata": {},
   "source": [
    "# <center>**OPERADOR & Y-AND**</center>"
   ]
  },
  {
   "cell_type": "code",
   "execution_count": null,
   "id": "6db62e29-5e36-4f67-8194-65131263748d",
   "metadata": {
    "scrolled": true,
    "tags": []
   },
   "outputs": [],
   "source": [
    "print(valores_referencia)\n",
    "display(dataframe_to_filter)\n",
    "dataframe_to_filter[(dataframe_to_filter[\"Anfibios\"] == valor_anfibio) & (dataframe_to_filter[\"Id\"] >= valor_id)] "
   ]
  },
  {
   "cell_type": "markdown",
   "id": "02e64d1d-261c-4271-bd8f-370e1029c480",
   "metadata": {},
   "source": [
    "# <center>**OPERADOR | O-OR**</center>"
   ]
  },
  {
   "cell_type": "code",
   "execution_count": null,
   "id": "3da71715-663b-45ae-b868-1d96c9b06f75",
   "metadata": {},
   "outputs": [],
   "source": [
    "print(valores_referencia)\n",
    "display(dataframe_to_filter)\n",
    "dataframe_to_filter[(dataframe_to_filter.Anfibios == valor_anfibio) | (dataframe_to_filter.Id  >= valor_id)] "
   ]
  },
  {
   "cell_type": "markdown",
   "id": "e31b73f1-3020-4f3b-8dc5-640aab997206",
   "metadata": {},
   "source": [
    "# <center>OPERADOR **~** NEGACION </center>"
   ]
  },
  {
   "cell_type": "code",
   "execution_count": null,
   "id": "41b4e947-10b7-43c2-bbb1-21b8c04e13cc",
   "metadata": {
    "scrolled": true,
    "tags": []
   },
   "outputs": [],
   "source": [
    "print(valores_referencia)\n",
    "display(dataframe_to_filter)\n",
    "dataframe_to_filter[~(dataframe_to_filter[\"Anfibios\"] != valor_anfibio) & (dataframe_to_filter[\"Id\"] > valor_id)] "
   ]
  },
  {
   "cell_type": "markdown",
   "id": "7cfa2704-ffa0-46c9-b3c5-be4c43d6f2f7",
   "metadata": {},
   "source": [
    "# <center>**USANDO FUNCIONES**</center>\n",
    "## <center>**isin**</center>"
   ]
  },
  {
   "cell_type": "code",
   "execution_count": null,
   "id": "8ff6f393-bd9c-4d01-ab52-22bea1ba17b1",
   "metadata": {},
   "outputs": [],
   "source": [
    "values = [valor for valor in range(1,10,2)]\n",
    "print(values)\n",
    "\n",
    "estan = dataframe_to_filter.loc[dataframe_to_filter['Id'].isin(values)]\n",
    "\n",
    "no_estan = dataframe_to_filter.loc[~dataframe_to_filter.Id.isin(values)]\n",
    "\n",
    "display(estan, no_estan)"
   ]
  },
  {
   "cell_type": "markdown",
   "id": "68352296-42e4-4f3e-9574-c7e7e198f6b7",
   "metadata": {},
   "source": [
    "## <center>**str.contains**</center>"
   ]
  },
  {
   "cell_type": "code",
   "execution_count": null,
   "id": "fd0c03a8-8b74-4f6a-b8cf-55bdec9650bc",
   "metadata": {
    "scrolled": true,
    "tags": []
   },
   "outputs": [],
   "source": [
    "values = dataframe_to_filter.Peces.to_list()\n",
    "random_value = random.choice(values).split(' ')[0]\n",
    "print(values)\n",
    "print(random_value)\n",
    "\n",
    "\n",
    "display(dataframe_to_filter)\n",
    "dataframe_to_filter[dataframe_to_filter.Peces.str.contains(f'{random_value}')]"
   ]
  },
  {
   "cell_type": "code",
   "execution_count": null,
   "id": "2a7f291f-1b3b-4f8d-9136-c52f000b3713",
   "metadata": {
    "scrolled": true,
    "tags": []
   },
   "outputs": [],
   "source": [
    "# que no contenga la frase\n",
    "print(random_value)\n",
    "display(dataframe_to_filter)\n",
    "dataframe_to_filter[~dataframe_to_filter.Peces.str.contains(f'{random_value}')]"
   ]
  },
  {
   "cell_type": "markdown",
   "id": "83ebe023-4296-4b36-b737-dcbe0e13c214",
   "metadata": {},
   "source": [
    "## <center>**str.lower().str.contains, str.upper().str.contains**</center>"
   ]
  },
  {
   "cell_type": "code",
   "execution_count": null,
   "id": "1eb742b8-f3cb-402b-8dc6-60f5cfc6b289",
   "metadata": {
    "scrolled": true,
    "tags": []
   },
   "outputs": [],
   "source": [
    "print(random_value.lower())\n",
    "display(dataframe_to_filter)\n",
    "dataframe_to_filter[dataframe_to_filter.Peces.str.lower().str.contains(f'{random_value.lower()}')]"
   ]
  },
  {
   "cell_type": "code",
   "execution_count": null,
   "id": "69531d45-87db-483a-8e7e-864afcba2c6e",
   "metadata": {
    "scrolled": true,
    "tags": []
   },
   "outputs": [],
   "source": [
    "print(random_value.upper())\n",
    "display(dataframe_to_filter)\n",
    "dataframe_to_filter[~dataframe_to_filter.Peces.str.upper().str.contains(f'{random_value}.upper()')]"
   ]
  },
  {
   "cell_type": "markdown",
   "id": "9dca5333-fa35-4b99-bde1-60be061cbdb7",
   "metadata": {},
   "source": [
    "## <center>**str.contains.startswith**</center>"
   ]
  },
  {
   "cell_type": "code",
   "execution_count": null,
   "id": "a940a196-b59d-47e3-b497-9fbd96b510d9",
   "metadata": {
    "scrolled": true,
    "tags": []
   },
   "outputs": [],
   "source": [
    "print(list(random_value))\n",
    "display(dataframe_to_filter)\n",
    "dataframe_to_filter[dataframe_to_filter.Peces.str.startswith(f'{list(random_value)[0]}')]"
   ]
  },
  {
   "cell_type": "markdown",
   "id": "a5add8be-f00d-47f8-a1d9-9527fc4ff67e",
   "metadata": {},
   "source": [
    "## <center>**str.contains.endswith**</center>"
   ]
  },
  {
   "cell_type": "code",
   "execution_count": null,
   "id": "2ba2bf86-4b01-4068-a5df-675048c2c254",
   "metadata": {
    "scrolled": true,
    "tags": []
   },
   "outputs": [],
   "source": [
    "print(list(random_value))\n",
    "display(dataframe_to_filter)\n",
    "dataframe_to_filter[dataframe_to_filter.Peces.str.endswith(f'{list(random_value).pop()}')]"
   ]
  },
  {
   "cell_type": "markdown",
   "id": "c6a29646-2f8c-479e-9af8-295cb575dbba",
   "metadata": {},
   "source": [
    "## <center>**str.contains. INSENSIBLE AL CASO**</center>"
   ]
  },
  {
   "cell_type": "code",
   "execution_count": null,
   "id": "a4e33321-d259-44ca-9141-ecec64b12bc5",
   "metadata": {},
   "outputs": [],
   "source": [
    "lista = list(random_value)\n",
    "letra_random = random.choice(lista).upper()\n",
    "print(lista, letra_random)\n",
    "\n",
    "dataframe_to_filter[dataframe_to_filter.Peces.fillna('').str.contains(letra_random, case=False)]"
   ]
  },
  {
   "cell_type": "markdown",
   "id": "998c0643-5bf3-4267-8411-d18289c4babe",
   "metadata": {},
   "source": [
    "## <center>**TRANSFORM, APPLY, MAP, APPLYMAP**</center>"
   ]
  },
  {
   "cell_type": "code",
   "execution_count": null,
   "id": "3275a95f-c0b9-4a4f-9ee0-4ab5b14e1781",
   "metadata": {},
   "outputs": [],
   "source": [
    "diccionario = {\n",
    "'numeros':['uno','dos','tres','cuatro','cinco','seis','siete','ocho','nueve','diez','once','doce','trece','catorce','quince','dieciseis','diecisiete','dieciocho','diecinueve','veinte'],\n",
    "'colores':['amarillo','azul','rojo','verde','morado','amarillo','azul','rojo','verde','morado']*2,\n",
    "'frutas':['manzana','fresa','banano','coco','banano','manzana','fresa','banano','fresa','coco']*2,\n",
    "'planeta':['mercurio','venus','tierra','tierra','mercurio','venus','tierra','mercurio','tierra','marte']*2,\n",
    "'costo':[costo for costo in range(2,22,2)]*2,\n",
    "'valores':[valor for valor in range(1,21)],\n",
    "\n",
    "}\n",
    "\n",
    "validar = pd.DataFrame(diccionario)\n",
    "validar"
   ]
  },
  {
   "cell_type": "markdown",
   "id": "03e51040-50a1-49e4-90b3-ce09fabb545d",
   "metadata": {},
   "source": [
    "### <center>**TRANSFORM**</center>\n",
    "#### <center>pasa cada columna como una serie a la función personalizada.</center>\n",
    "### <center>**APLICA A TODA LA SERIE**</center>"
   ]
  },
  {
   "cell_type": "code",
   "execution_count": null,
   "id": "b55e34fa-e749-4477-bbcc-24aecc4f7f15",
   "metadata": {
    "scrolled": true,
    "tags": []
   },
   "outputs": [],
   "source": [
    "# aplica por columna, si se evalua la serie siempre tienen el mismo tamano, entoces convertimos a str para ver cambios\n",
    "def duplicar(row):\n",
    "    \n",
    "    size = len(str(row))\n",
    "    print(type(row),size, row.values)\n",
    "    return row*2 if size > 350 or size < 220 else row\n",
    "\n",
    "validar.transform(duplicar)"
   ]
  },
  {
   "cell_type": "markdown",
   "id": "5c83c086-8d47-4a3c-bb75-2cc45c888698",
   "metadata": {},
   "source": [
    "### <center>**APLICA A TODA LA COLUMNA**</center>"
   ]
  },
  {
   "cell_type": "code",
   "execution_count": null,
   "id": "30dd54ad-278e-4225-bd7e-6035df4cf736",
   "metadata": {
    "scrolled": true,
    "tags": []
   },
   "outputs": [],
   "source": [
    "validar.costo.transform(duplicar).to_frame()"
   ]
  },
  {
   "cell_type": "markdown",
   "id": "4c019012-6f2a-49cc-9f5c-3bac720a7ef9",
   "metadata": {},
   "source": [
    "### <center>**APLICA A TODA LA FILA**</center>"
   ]
  },
  {
   "cell_type": "code",
   "execution_count": null,
   "id": "1d9bb8ad-65b2-4b4d-bb68-b7bc005fa003",
   "metadata": {},
   "outputs": [],
   "source": [
    "validar.loc[0].transform(duplicar).to_frame()"
   ]
  },
  {
   "cell_type": "markdown",
   "id": "e42b79bd-0d65-4a5e-b7e2-07cd67fc6f78",
   "metadata": {},
   "source": [
    "### <center>**GENERAR NUEVAS COLUMNAS**</center>"
   ]
  },
  {
   "cell_type": "code",
   "execution_count": null,
   "id": "2161379e-f836-490e-bbb6-f99142f2969d",
   "metadata": {
    "scrolled": true,
    "tags": []
   },
   "outputs": [],
   "source": [
    "validar['doble'] = validar.valores.transform(duplicar)\n",
    "validar"
   ]
  },
  {
   "cell_type": "markdown",
   "id": "d3172363-5d09-43a2-a3ca-19c5c1908ca9",
   "metadata": {},
   "source": [
    "### <center>**SOPORTA MULTIPLES FUNCIONES A EVALUAR SIMULTANEAMENTE**</center>"
   ]
  },
  {
   "cell_type": "code",
   "execution_count": null,
   "id": "45e4ef6d-7636-43bd-b2f9-ad2b3aa0160e",
   "metadata": {
    "scrolled": true,
    "tags": []
   },
   "outputs": [],
   "source": [
    "validar.transform(['sqrt','exp'])"
   ]
  },
  {
   "cell_type": "markdown",
   "id": "0c7acc94-6f6d-45f2-9878-2085c9b08b81",
   "metadata": {},
   "source": [
    "### <center>**solo manipula una sola fila o columna en función del valor del eje y no manipula el dataframe completo.**</center>"
   ]
  },
  {
   "cell_type": "code",
   "execution_count": null,
   "id": "e098a756-43f7-40cf-bece-82d10441520e",
   "metadata": {},
   "outputs": [],
   "source": [
    "validar.transform(lambda row: row.costo + row.valores)"
   ]
  },
  {
   "cell_type": "code",
   "execution_count": null,
   "id": "8984631b-f624-4a72-820e-3e70e851b8e0",
   "metadata": {
    "scrolled": true,
    "tags": []
   },
   "outputs": [],
   "source": [
    "validar.transform(lambda row: row.costo + row.valores, axis=1)"
   ]
  },
  {
   "cell_type": "code",
   "execution_count": null,
   "id": "cf7a3750-9fc5-43f1-bcb0-acda32237a4e",
   "metadata": {},
   "outputs": [],
   "source": [
    "validar.transform(lambda row: row*2)"
   ]
  },
  {
   "cell_type": "markdown",
   "id": "d8bf8b72-a93c-4132-a503-8a1be3ad3c24",
   "metadata": {},
   "source": [
    "### <center>**NO SOPORTA FUNCIONES DE AGREGADO**</center>"
   ]
  },
  {
   "cell_type": "code",
   "execution_count": null,
   "id": "554349d0-4cb9-4c77-88f9-1d869908f87a",
   "metadata": {
    "scrolled": true,
    "tags": []
   },
   "outputs": [],
   "source": [
    "validar.transform(lambda x: x.sum())"
   ]
  },
  {
   "cell_type": "code",
   "execution_count": null,
   "id": "6aadb350-ee97-4b51-8f0b-c5593e80f10d",
   "metadata": {
    "scrolled": true,
    "tags": []
   },
   "outputs": [],
   "source": [
    "validar.doble.transform(lambda x: x.sum())"
   ]
  },
  {
   "cell_type": "markdown",
   "id": "c0afab7a-c371-469f-9774-974a5b3e4068",
   "metadata": {},
   "source": [
    "### <center>**APPLY**</center>\n",
    "#### <center>se usa para aplicar una función a lo largo de un eje de un DataFrame o en valores de Series</center>\n",
    "#### <center>pasa implícitamente todas las columnas de cada grupo como un DataFrame a la función personalizada.</center>"
   ]
  },
  {
   "cell_type": "code",
   "execution_count": null,
   "id": "95c630bd-b633-494e-81ce-d01d3857aeae",
   "metadata": {
    "scrolled": true,
    "tags": []
   },
   "outputs": [],
   "source": [
    "validar.apply(duplicar)"
   ]
  },
  {
   "cell_type": "markdown",
   "id": "0fa7122c-cd57-4e11-9343-0047a3381d9c",
   "metadata": {},
   "source": [
    "### <center>**SOPORTA FUNCIONES DE AGREGADO**</center>\n",
    "## solo si todos los elementos a realizar la agregacion **tienen el mismo tipo de datos**"
   ]
  },
  {
   "cell_type": "code",
   "execution_count": null,
   "id": "c661bfa6-569b-4701-9dab-15e6031998bc",
   "metadata": {},
   "outputs": [],
   "source": [
    "display(validar.head())\n",
    "validar.apply(lambda x:x.sum())"
   ]
  },
  {
   "cell_type": "code",
   "execution_count": null,
   "id": "cdd24298-d7f0-47bd-8a55-1041e3af3634",
   "metadata": {
    "scrolled": true,
    "tags": []
   },
   "outputs": [],
   "source": [
    "# eje y\n",
    "res= {\n",
    "'Uno':[999,'valor-Uno'],\n",
    "'Dos':[555,'valor-Dos']\n",
    "}\n",
    "\n",
    "pd.DataFrame(res).apply(lambda x:x.sum(), axis=1)"
   ]
  },
  {
   "cell_type": "code",
   "execution_count": null,
   "id": "aa9a5ab4-eb50-4653-90a4-442921642cee",
   "metadata": {},
   "outputs": [],
   "source": [
    "validar.apply(lambda x:x.max())"
   ]
  },
  {
   "cell_type": "markdown",
   "id": "97d859b7-a7ea-4e01-b2e4-567298f3b4a8",
   "metadata": {
    "tags": []
   },
   "source": [
    "### <center>**USANDO LAS COLUMNAS DE UN DATAFRAME**</center>\n",
    "# sino se declara el eje columnas o el eje y recorre la serie por columnas, entonces no se puede acceder a los nombres de las columnas"
   ]
  },
  {
   "cell_type": "code",
   "execution_count": null,
   "id": "5fc124e1-a18d-4b56-ac25-483f163c1533",
   "metadata": {
    "scrolled": true,
    "tags": []
   },
   "outputs": [],
   "source": [
    "# debe solo se recorren las columnas cuando se declara el eje\n",
    "limite = 10\n",
    "dff = df1.head(limite)\n",
    "\n",
    "def funcion_concatenar(row):\n",
    "    mamiferos = row.Mamíferos\n",
    "    reptiles  = row.Reptiles\n",
    "    \n",
    "    return mamiferos + ' y ' + reptiles\n",
    "\n",
    "dff.apply(funcion_concatenar)"
   ]
  },
  {
   "cell_type": "code",
   "execution_count": null,
   "id": "dbf454be-89f7-4097-b688-dd433ef7cb91",
   "metadata": {
    "scrolled": true,
    "tags": []
   },
   "outputs": [],
   "source": [
    "dff.apply(funcion_concatenar, axis=1).to_frame(name='Unido')"
   ]
  },
  {
   "cell_type": "markdown",
   "id": "2f251f7d-64c6-4a5b-be47-e1d62ec28f84",
   "metadata": {},
   "source": [
    "### <center>**ADICIONANDO LAS COLUMNAS DE UN DATAFRAME**</center>\n"
   ]
  },
  {
   "cell_type": "code",
   "execution_count": null,
   "id": "f8734756-131b-4f77-8d90-5b947e703980",
   "metadata": {
    "scrolled": true,
    "tags": []
   },
   "outputs": [],
   "source": [
    "dff['suma_columnas'] = dff.apply(lambda row: row[0]+row[1], axis='columns')\n",
    "display(dff)"
   ]
  },
  {
   "cell_type": "code",
   "execution_count": null,
   "id": "b9277f0e-387b-448a-9cc7-26f881dd2f31",
   "metadata": {
    "scrolled": true,
    "tags": []
   },
   "outputs": [],
   "source": [
    "dff['suma_columnas_multiplicadas'] = dff.apply(lambda row: row[0]*5 + row[1]*2, axis=1)\n",
    "dff"
   ]
  },
  {
   "cell_type": "markdown",
   "id": "64f8fee8-9a5b-4a56-a508-f448c9613b62",
   "metadata": {},
   "source": [
    "### <center>**USANDO LAS FILAS DE UN DATAFRAME**</center>"
   ]
  },
  {
   "cell_type": "code",
   "execution_count": null,
   "id": "691b1d29-b0a4-4579-9617-41dd7b2e84ac",
   "metadata": {
    "scrolled": true,
    "tags": []
   },
   "outputs": [],
   "source": [
    "dff = df1.head(10)\n",
    "\n",
    "\n",
    "dff.Id = dff.Id.apply(lambda x: 'Es Menor a 5' if x < 5 else x)\n",
    "dff"
   ]
  },
  {
   "cell_type": "code",
   "execution_count": null,
   "id": "b574ac2e-8e4d-4f01-8310-06342f3a6ef8",
   "metadata": {
    "scrolled": true,
    "tags": []
   },
   "outputs": [],
   "source": [
    "dff = df1.head(10)\n",
    "\n",
    "def es_par(valor):\n",
    "    \n",
    "    if valor %2 == 0:\n",
    "        return 'Es Par'\n",
    "    return valor\n",
    "\n",
    "dff.Id = dff.Id.apply(es_par)\n",
    "dff"
   ]
  },
  {
   "cell_type": "markdown",
   "id": "daa7ac36-4e71-4bf3-b50d-0f8f5e9c1813",
   "metadata": {},
   "source": [
    "### <center>**APLICAR SOBRE TODAS LAS COLUMNAS QUE TIENEN EL MISMO TIPO DE DATO**</center>"
   ]
  },
  {
   "cell_type": "code",
   "execution_count": null,
   "id": "9f56c48d-922a-4a07-b33d-a50d914b61bb",
   "metadata": {
    "scrolled": true,
    "tags": []
   },
   "outputs": [],
   "source": [
    "dff.apply(lambda x: 'Es Menor a 5' if x < 5 else x)"
   ]
  },
  {
   "cell_type": "code",
   "execution_count": null,
   "id": "468d126b-5fbc-4608-b615-c5d42b5dfe76",
   "metadata": {},
   "outputs": [],
   "source": [
    "dff.apply(lambda x: 'Es Menor a 150' if len(str(x)) < 150 else x).to_frame('Resultado')"
   ]
  },
  {
   "cell_type": "markdown",
   "id": "a809c6bd-0487-4a54-b451-ba02d435a3d2",
   "metadata": {},
   "source": [
    "### <center>**GENERAR MULTIPLES COLUMNAS EN UN DATAFRAME**</center>"
   ]
  },
  {
   "cell_type": "code",
   "execution_count": null,
   "id": "fa128e4e-6e78-4ee4-ac39-65ab839870ac",
   "metadata": {
    "scrolled": true,
    "tags": []
   },
   "outputs": [],
   "source": [
    "%%time\n",
    "# generar fechas aleatorias entre 2 fechas\n",
    "dff['Fechas'] = pd.date_range(start='1/1/2000 00:00:00', end='1/1/2023 00:00:00', periods=limite)\n",
    "\n",
    "def fecha(fecha):\n",
    "    return pd.Series([fecha.year, fecha.month, fecha.day, fecha.hour, fecha.minute, fecha.second])\n",
    "\n",
    "dff[[\"year\", \"month\", \"day\", 'hour', 'minute', 'second']] = dff.Fechas.apply(fecha)\n",
    "\n",
    "dff"
   ]
  },
  {
   "cell_type": "code",
   "execution_count": null,
   "id": "673e9865-78cf-4540-a2e1-c633103de032",
   "metadata": {
    "scrolled": true,
    "tags": []
   },
   "outputs": [],
   "source": [
    "dff[\"y\"], dff[\"m\"], dff[\"d\"], dff[\"h\"], dff[\"d\"], dff[\"s\"] = dff.Fechas.apply(lambda fecha: pd.Series([fecha.year, fecha.month, fecha.day, fecha.hour, fecha.minute, fecha.second]))\n",
    "\n",
    "dff"
   ]
  },
  {
   "cell_type": "markdown",
   "id": "efb75dd0-5c37-4c45-8403-de10af48a434",
   "metadata": {},
   "source": [
    "### <center>**UNIENDO VALORES DE MULTIPLES COLUMNAS DE UN DATAFRAME**</center>"
   ]
  },
  {
   "cell_type": "code",
   "execution_count": null,
   "id": "7d6d6ecc-3ac5-442f-8405-ad5310cd4280",
   "metadata": {},
   "outputs": [],
   "source": [
    "dff.year"
   ]
  },
  {
   "cell_type": "code",
   "execution_count": null,
   "id": "2106ccd9-8494-4cad-a98f-d091be3f6c44",
   "metadata": {
    "scrolled": true,
    "tags": []
   },
   "outputs": [],
   "source": [
    "# falla si no se declara el eje de ejecucion\n",
    "dff['apply'] = dff.apply(lambda row: row.year + row.Lider)\n",
    "dff"
   ]
  },
  {
   "cell_type": "markdown",
   "id": "e8dcfc6c-ce9d-4fea-8922-93436ec368a2",
   "metadata": {},
   "source": [
    "### <center>**DEFINIENDO EL EJE DE UNION EN UN DATAFRAME**</center>"
   ]
  },
  {
   "cell_type": "code",
   "execution_count": null,
   "id": "c92e6428-d8ee-43bb-8876-6a38085fff33",
   "metadata": {
    "scrolled": true,
    "tags": []
   },
   "outputs": [],
   "source": [
    "dff['apply'] = dff.apply(lambda row: row.year + row.Lider, axis='columns')\n",
    "dff"
   ]
  },
  {
   "cell_type": "markdown",
   "id": "5edf24bf-c0e2-47d7-9c8e-ab2e30357a9b",
   "metadata": {},
   "source": [
    "### <center>**MAP**</center>\n",
    "#### <center>usado para substituir el valor en una serie con otro valor</center>"
   ]
  },
  {
   "cell_type": "code",
   "execution_count": null,
   "id": "f4011ff6-92f2-4360-82f8-567822d9d5fe",
   "metadata": {},
   "outputs": [],
   "source": [
    "# usando la serie de una fila\n",
    "validar.loc[0].map(lambda x: x.upper() if type(x)==str and len(x)> 7 else x)"
   ]
  },
  {
   "cell_type": "code",
   "execution_count": null,
   "id": "61d0d759-8200-40f7-993d-d233102cdef9",
   "metadata": {},
   "outputs": [],
   "source": [
    "# usando la serie de una columna\n",
    "validar.planeta.map(lambda x: x.upper() if type(x)==str and len(x)> 7 else x)"
   ]
  },
  {
   "cell_type": "markdown",
   "id": "f8fc0728-73b1-418d-b89a-8b37233c9328",
   "metadata": {},
   "source": [
    "### <center>**APPLYMAP**</center>\n",
    "#### <center>se usa para aplicar una función a cada elemento del DataFrame</center>"
   ]
  },
  {
   "cell_type": "code",
   "execution_count": null,
   "id": "e2ad2699-823c-4090-bcd5-897759f5780d",
   "metadata": {
    "scrolled": true,
    "tags": []
   },
   "outputs": [],
   "source": [
    "def duplicar(row):\n",
    "    \n",
    "    size = len(str(row))\n",
    "    print(type(row),size, row)\n",
    "    return row*2 if size > 4 else row\n",
    "\n",
    "validar.applymap(duplicar)"
   ]
  },
  {
   "cell_type": "markdown",
   "id": "ad2bd08a-2b77-49cd-a506-442629ed08a3",
   "metadata": {},
   "source": [
    "## <center>**WHERE**</center>"
   ]
  },
  {
   "cell_type": "code",
   "execution_count": null,
   "id": "7aecb9ee-7323-4da9-8939-9abee199082f",
   "metadata": {},
   "outputs": [],
   "source": [
    "filtro_1 = dataframe_to_filter.Id > 5\n",
    "filtro_2 = dataframe_to_filter.Lider > 33\n",
    "filtro_3 = dataframe_to_filter.Id * 2 < dataframe_to_filter.Lider"
   ]
  },
  {
   "cell_type": "markdown",
   "id": "7c01de47-67d5-4ee4-aa91-6cc946563d8f",
   "metadata": {},
   "source": [
    "### <center>**DROP NA**</center>"
   ]
  },
  {
   "cell_type": "code",
   "execution_count": null,
   "id": "eb5b7690-b535-4798-96da-c826054a5716",
   "metadata": {
    "scrolled": true,
    "tags": []
   },
   "outputs": [],
   "source": [
    "print(filtro_1)\n",
    "dataframe_to_filter.where(filtro_1)"
   ]
  },
  {
   "cell_type": "code",
   "execution_count": null,
   "id": "6501c07f-cd2d-41f5-9cac-6cabaee724f0",
   "metadata": {
    "scrolled": true,
    "tags": []
   },
   "outputs": [],
   "source": [
    "print(filtro_1)\n",
    "dataframe_to_filter.where(filtro_1).dropna()"
   ]
  },
  {
   "cell_type": "markdown",
   "id": "0bae7025-f213-4a9f-ab8b-88ad88030357",
   "metadata": {},
   "source": [
    "## <center>**AND, &**</center>"
   ]
  },
  {
   "cell_type": "code",
   "execution_count": null,
   "id": "0e4e89eb-4dfb-462a-a9c2-09cc638bb116",
   "metadata": {
    "scrolled": true,
    "tags": []
   },
   "outputs": [],
   "source": [
    "print(filtro_1)\n",
    "print(filtro_3)\n",
    "\n",
    "dataframe_to_filter.where(filtro_1 & filtro_3).dropna()"
   ]
  },
  {
   "cell_type": "markdown",
   "id": "29d2068c-d7f9-459e-aec8-ddfb4d04db89",
   "metadata": {},
   "source": [
    "## <center>**OR,  |**</center>"
   ]
  },
  {
   "cell_type": "code",
   "execution_count": null,
   "id": "48c3d751-edf3-434d-a3ff-dc435a02d069",
   "metadata": {
    "scrolled": true,
    "tags": []
   },
   "outputs": [],
   "source": [
    "print(filtro_1)\n",
    "print(filtro_2)\n",
    "dataframe_to_filter.where(filtro_1 | filtro_2).dropna()"
   ]
  },
  {
   "cell_type": "markdown",
   "id": "a8c34677-f9dc-4cb2-baad-93662c303443",
   "metadata": {},
   "source": [
    "## <center>**UPDATE** AL VALOR QUE NO CUMPLA LA CONDICION</center>"
   ]
  },
  {
   "cell_type": "markdown",
   "id": "8e3610fc-924a-4627-ab5c-be24be1dc3ef",
   "metadata": {},
   "source": [
    "### <center>**ACTUALIZA SOLO LOS VALORES DONDE COINCIDA, COMPARA CADA FILA EN TODO EL DATAFRAME**</center>"
   ]
  },
  {
   "cell_type": "code",
   "execution_count": null,
   "id": "051aa0fa-00c3-4a94-93b0-d251be55513e",
   "metadata": {
    "scrolled": true,
    "tags": []
   },
   "outputs": [],
   "source": [
    "# se evalua todo el dataframe\n",
    "# filtra todos los valores dentro del dataframe\n",
    "filtro_4 = dataframe_to_filter != 'Vacas'\n",
    "print(filtro_4)\n",
    "\n",
    "display(dataframe_to_filter)\n",
    "dataframe_to_filter.where(filtro_4,'ACTUALIZADO')"
   ]
  },
  {
   "cell_type": "markdown",
   "id": "c19c2272-8e8d-42c6-940c-c0df7d1e5716",
   "metadata": {},
   "source": [
    "### <center>**ACTUALIZA TODOS LOS VALORES DE LA FILA DONDE COINCIDA AL MENOS UN VALOR EN UNA FILA**</center>"
   ]
  },
  {
   "cell_type": "code",
   "execution_count": null,
   "id": "b382c7b8-c35e-46fe-99f3-ca2b1a1c7558",
   "metadata": {
    "scrolled": true,
    "tags": []
   },
   "outputs": [],
   "source": [
    "# se evalua solo una columna del dataframe\n",
    "\n",
    "filtro_5 = dataframe_to_filter.Lider != 0\n",
    "print(filtro_5)\n",
    "\n",
    "display(dataframe_to_filter)\n",
    "dataframe_to_filter.where(filtro_5,None)"
   ]
  },
  {
   "cell_type": "code",
   "execution_count": null,
   "id": "a91ae57d-b031-4304-8aaa-bb2deee91827",
   "metadata": {
    "scrolled": true,
    "tags": []
   },
   "outputs": [],
   "source": [
    "filtro_5 = dataframe_to_filter.Lider == 0\n",
    "print(filtro_5)\n",
    "\n",
    "display(dataframe_to_filter)\n",
    "dataframe_to_filter.where(filtro_5,None)"
   ]
  },
  {
   "cell_type": "markdown",
   "id": "9960a775-5e8d-401c-b281-5bb3028bc530",
   "metadata": {},
   "source": [
    "## <center>**QUERY**</center>"
   ]
  },
  {
   "cell_type": "code",
   "execution_count": null,
   "id": "d55b0c80-bbc9-4473-9c10-7e7c5bc2c874",
   "metadata": {},
   "outputs": [],
   "source": [
    "filtro_1 = 'Id > 5'\n",
    "filtro_2 = 'Lider > 33'\n",
    "filtro_3 = 'Id > Lider'"
   ]
  },
  {
   "cell_type": "markdown",
   "id": "dd82a816-efae-4eba-8b45-8c61fff15817",
   "metadata": {},
   "source": [
    "## <center>**PASANDO VALORES**</center>"
   ]
  },
  {
   "cell_type": "markdown",
   "id": "f3e54218-b922-4d22-b921-10ffb27b6f02",
   "metadata": {},
   "source": [
    "## <center>**IGUAL A ==**</center>"
   ]
  },
  {
   "cell_type": "code",
   "execution_count": null,
   "id": "28342b13-c0dd-4902-ba07-f9217d969750",
   "metadata": {},
   "outputs": [],
   "source": [
    "print(valores_referencia)\n",
    "value = valor_anfibio\n",
    "\n",
    "dataframe_to_filter.query(\"Anfibios == @value\")"
   ]
  },
  {
   "cell_type": "markdown",
   "id": "f97e4f73-17b9-43c6-92e5-40074f3fc24c",
   "metadata": {},
   "source": [
    "## <center>**DIFERENTE DE !=**</center>"
   ]
  },
  {
   "cell_type": "code",
   "execution_count": null,
   "id": "791492ce-1628-463c-997c-acde2354e5b3",
   "metadata": {
    "scrolled": true,
    "tags": []
   },
   "outputs": [],
   "source": [
    "print(valores_referencia)\n",
    "dataframe_to_filter.query(\"Anfibios != @value\")"
   ]
  },
  {
   "cell_type": "markdown",
   "id": "af9f626f-e42a-4307-8899-db3042ab132e",
   "metadata": {},
   "source": [
    "## <center>**QUE CONTENGA LOS VALORES DE LA LISTA, IN**</center>"
   ]
  },
  {
   "cell_type": "code",
   "execution_count": null,
   "id": "8cd1dd11-9ab0-419e-a1d2-052a102a82c1",
   "metadata": {},
   "outputs": [],
   "source": [
    "valores_anfibios = dataframe_to_filter.Anfibios.to_list()\n",
    "lista = [random.choice(valores_anfibios) for valor in range(len(valores_anfibios)//3) ]\n",
    "\n",
    "print(valores_referencia, f'lista {lista}')\n",
    "dataframe_to_filter.query(\"Anfibios in @lista\")"
   ]
  },
  {
   "cell_type": "markdown",
   "id": "b50f31b5-8650-41c7-89e8-0e858c7e3c4f",
   "metadata": {},
   "source": [
    "## <center>**QUE NO CONTENGA LOS VALORES DE LA LISTA, NOT IN**</center>"
   ]
  },
  {
   "cell_type": "code",
   "execution_count": null,
   "id": "438347a9-1a0a-4805-962c-28b0637ef3fc",
   "metadata": {
    "scrolled": true,
    "tags": []
   },
   "outputs": [],
   "source": [
    "print(valores_referencia, f'lista {lista}')\n",
    "dataframe_to_filter.query(\"Anfibios not in @lista\")"
   ]
  },
  {
   "cell_type": "markdown",
   "id": "1624e66c-7936-4a0b-997e-25b3fe9198a1",
   "metadata": {},
   "source": [
    "## <center>**OPERADORES LOGICOS CLASICOS**</center>"
   ]
  },
  {
   "cell_type": "code",
   "execution_count": null,
   "id": "d4ecc738-b469-411c-b859-d3acb9dab9df",
   "metadata": {
    "scrolled": true,
    "tags": []
   },
   "outputs": [],
   "source": [
    "print(filtro_1)\n",
    "print(filtro_2)\n",
    "print(filtro_3)\n",
    "display(dataframe_to_filter.query(filtro_1))\n",
    "display(dataframe_to_filter.query(filtro_2))"
   ]
  },
  {
   "cell_type": "markdown",
   "id": "ee112fb9-4cbf-4c58-89cf-244ff3f58805",
   "metadata": {},
   "source": [
    "## <center>**AND**</center>"
   ]
  },
  {
   "cell_type": "code",
   "execution_count": null,
   "id": "269e8d58-6b15-4313-8ed0-98eeaab66165",
   "metadata": {},
   "outputs": [],
   "source": [
    "print(filtro_1)\n",
    "print(filtro_2)\n",
    "print(filtro_3)\n",
    "dataframe_to_filter.query(f'{filtro_1} and {filtro_2}')"
   ]
  },
  {
   "cell_type": "code",
   "execution_count": null,
   "id": "4d648801-6eb6-486f-8058-d462ba7dd68a",
   "metadata": {
    "scrolled": true,
    "tags": []
   },
   "outputs": [],
   "source": [
    "print(filtro_1)\n",
    "print(filtro_2)\n",
    "print(filtro_3)\n",
    "dataframe_to_filter.query(f'{filtro_2} and {filtro_3}')"
   ]
  },
  {
   "cell_type": "code",
   "execution_count": null,
   "id": "737f0103-487c-433c-9213-687fb0fcd49d",
   "metadata": {},
   "outputs": [],
   "source": [
    "print(filtro_1)\n",
    "print(filtro_2)\n",
    "print(filtro_3)\n",
    "dataframe_to_filter.query(f'{filtro_1} and {filtro_3} ')"
   ]
  },
  {
   "cell_type": "markdown",
   "id": "a9af601e-41fc-459b-a993-2e4b6669640b",
   "metadata": {},
   "source": [
    "## <center>**OR**</center>"
   ]
  },
  {
   "cell_type": "code",
   "execution_count": null,
   "id": "c668ddd6-ae0e-47e1-a1a9-868202cb0beb",
   "metadata": {},
   "outputs": [],
   "source": [
    "print(filtro_1)\n",
    "print(filtro_2)\n",
    "print(filtro_3)\n",
    "dataframe_to_filter.query(f'{filtro_1} or {filtro_2}')"
   ]
  },
  {
   "cell_type": "code",
   "execution_count": null,
   "id": "c95c5f96-7cf1-4cad-913b-a5ea4515c560",
   "metadata": {
    "scrolled": true,
    "tags": []
   },
   "outputs": [],
   "source": [
    "print(filtro_1)\n",
    "print(filtro_2)\n",
    "print(filtro_3)\n",
    "dataframe_to_filter.query(f'{filtro_1} or {filtro_3}')"
   ]
  },
  {
   "cell_type": "markdown",
   "id": "503fc346-e6ed-4e54-b94b-0f0d4fc3c7f1",
   "metadata": {},
   "source": [
    "# <center>**ELIMINAR COLUMNAS DUPLICADAS**</center>"
   ]
  },
  {
   "cell_type": "code",
   "execution_count": null,
   "id": "10b4941f-0628-4eb9-9a67-05d0b08d6a39",
   "metadata": {
    "scrolled": true,
    "tags": []
   },
   "outputs": [],
   "source": [
    "columnas_repetidas = pd.concat([df1[0:3], df2[0:3]], axis=1, join=\"outer\")\n",
    "\n",
    "columnas_sin_repetir = columnas_repetidas.T.drop_duplicates().T\n",
    "\n",
    "columnas_sin_repetir_2 = columnas_repetidas.loc[:,~columnas_repetidas.columns.duplicated()]\n",
    "\n",
    "display(columnas_repetidas, columnas_sin_repetir, columnas_sin_repetir_2)"
   ]
  },
  {
   "cell_type": "markdown",
   "id": "9b0442e0-541c-4748-899c-bf6f7ee60e32",
   "metadata": {},
   "source": [
    "# <center>**ELIMINAR FILAS REPETIDAS**</center>"
   ]
  },
  {
   "cell_type": "markdown",
   "id": "d3abc16b-f2d5-42c5-a63e-43ba3e0a774f",
   "metadata": {},
   "source": [
    "## <center>**SOLO MANTIENE LA PRIMERA FILA REPETIDA ENCONTRADA**</center>"
   ]
  },
  {
   "cell_type": "code",
   "execution_count": null,
   "id": "1ec73554-9d5a-4f61-9f5c-35379b6000ad",
   "metadata": {
    "scrolled": true,
    "tags": []
   },
   "outputs": [],
   "source": [
    "dataframe_to_filter"
   ]
  },
  {
   "cell_type": "code",
   "execution_count": null,
   "id": "7db7ed5d-90ad-46d9-bc9b-4998e7b1f728",
   "metadata": {
    "scrolled": true,
    "tags": []
   },
   "outputs": [],
   "source": [
    "dataframe_to_filter\\\n",
    "                    .drop_duplicates(subset=['Lider'])"
   ]
  },
  {
   "cell_type": "code",
   "execution_count": null,
   "id": "c1c4927d-7efc-4868-b0d3-00c46671ae53",
   "metadata": {
    "scrolled": true,
    "tags": []
   },
   "outputs": [],
   "source": [
    "dataframe_to_filter\\\n",
    "                    .drop_duplicates(subset=['Lider'], keep='first')"
   ]
  },
  {
   "cell_type": "markdown",
   "id": "2bed26c4-029a-4d86-9923-875126e4eb33",
   "metadata": {},
   "source": [
    "## <center>**SOLO MANTIENE LA ULTIMA FILA REPETIDA ENCONTRADA**</center>"
   ]
  },
  {
   "cell_type": "code",
   "execution_count": null,
   "id": "6d278d1a-f83c-49f1-9522-cfaf2fbc6827",
   "metadata": {
    "scrolled": true,
    "tags": []
   },
   "outputs": [],
   "source": [
    "dataframe_to_filter\\\n",
    "                    .drop_duplicates(subset=['Lider'], keep='last')"
   ]
  },
  {
   "cell_type": "markdown",
   "id": "afd9c448-a38d-421e-84a4-afd0b1f1b203",
   "metadata": {},
   "source": [
    "## <center>**SOLO MANTIENE LAS FILAS QUE NO TIENEN INFORMACION REPETIDA**</center>"
   ]
  },
  {
   "cell_type": "code",
   "execution_count": null,
   "id": "a087d913-481a-41a6-8ff9-25c3a4e846a2",
   "metadata": {
    "scrolled": true,
    "tags": []
   },
   "outputs": [],
   "source": [
    "dataframe_to_filter\\\n",
    "                    .drop_duplicates(subset=['Lider'], keep=False)"
   ]
  },
  {
   "cell_type": "markdown",
   "id": "2b7b3f34-d1ae-457e-98ee-ff08bd4506af",
   "metadata": {},
   "source": [
    "## <center>**SOLO MANTIENE LA FILA REPETIDA ENCONTRADA BASADA EN LA CONDICION DEFINIDA**</center>"
   ]
  },
  {
   "cell_type": "code",
   "execution_count": null,
   "id": "6e4cd925-9590-4da7-b717-d6224c12d617",
   "metadata": {
    "scrolled": true,
    "tags": []
   },
   "outputs": [],
   "source": [
    "dataframe_to_filter"
   ]
  },
  {
   "cell_type": "code",
   "execution_count": null,
   "id": "66300866-8f8c-44c3-ae86-e419c05d5eae",
   "metadata": {
    "scrolled": true,
    "tags": []
   },
   "outputs": [],
   "source": [
    "# Elimina dejando el PRIMERO del orden ascendente de Mamíferos\n",
    "dataframe_to_filter\\\n",
    "                    .sort_values('Mamíferos', ascending=True)\\\n",
    "                    .drop_duplicates(['Peces'])\\\n",
    "                    .sort_values(by=['Id'], ascending=False)"
   ]
  },
  {
   "cell_type": "code",
   "execution_count": null,
   "id": "2084a3f6-e880-4fd2-ad55-9e3ddbfdc1a8",
   "metadata": {
    "scrolled": true,
    "tags": []
   },
   "outputs": [],
   "source": [
    "# Elimina dejando el ULTIMO del orden ascendente de Mamíferos\n",
    "dataframe_to_filter\\\n",
    "                    .sort_values('Mamíferos', ascending=True)\\\n",
    "                    .drop_duplicates(['Peces'], keep='last')\\\n",
    "                    .sort_values(by=['Id'], ascending=False)"
   ]
  },
  {
   "cell_type": "code",
   "execution_count": null,
   "id": "629cc08c-1daa-4d2c-bbb4-40a66b16cd54",
   "metadata": {
    "scrolled": true,
    "tags": []
   },
   "outputs": [],
   "source": [
    "# ORDENA POR EL INDICE ASCENDENTE\n",
    "dataframe_to_filter\\\n",
    "                    .sort_values('Mamíferos', ascending=True)\\\n",
    "                    .drop_duplicates(['Peces'], keep='last')\\\n",
    "                    .sort_index()"
   ]
  },
  {
   "cell_type": "code",
   "execution_count": null,
   "id": "c57738cd-d0cf-4d9c-8e1f-6e43b7dfec06",
   "metadata": {
    "scrolled": true,
    "tags": []
   },
   "outputs": [],
   "source": [
    "# ORDENA POR EL INDICE DESCENDENTE\n",
    "dataframe_to_filter\\\n",
    "                    .sort_values('Mamíferos', ascending=True)\\\n",
    "                    .drop_duplicates(['Peces'], keep='last')\\\n",
    "                    .sort_index(ascending=False)"
   ]
  },
  {
   "cell_type": "markdown",
   "id": "22f8c924-4f3e-4d3d-ba17-5632dcff6715",
   "metadata": {},
   "source": [
    "# <center>**UNIR O CONCATENAR DATAFRAMES**</center>"
   ]
  },
  {
   "cell_type": "markdown",
   "id": "a2fd2aab-1d22-416a-a604-ef8aafe87255",
   "metadata": {},
   "source": [
    "# <center>**OUTER**</center>"
   ]
  },
  {
   "cell_type": "code",
   "execution_count": null,
   "id": "2f79b6e5-680a-41ba-8909-ce6cbc5ef4e7",
   "metadata": {},
   "outputs": [],
   "source": [
    "display(df1[0:3], df2[0:5])\n",
    "\n",
    "# busca un indice comun entre los dataframes y los une basado en ese criterio\n",
    "pd.concat([df1[0:3], df2[0:5]], join=\"outer\")"
   ]
  },
  {
   "cell_type": "markdown",
   "id": "9962f34a-fa11-4db2-958a-6d9c02b0cbf8",
   "metadata": {},
   "source": [
    "### EJE X"
   ]
  },
  {
   "cell_type": "code",
   "execution_count": null,
   "id": "46cbae00-c73f-490f-9c09-5c3bfc0b1302",
   "metadata": {
    "scrolled": true,
    "tags": []
   },
   "outputs": [],
   "source": [
    "# junta las filas\n",
    "display(df1[0:3], df2[0:5])\n",
    "pd.concat([df1[0:3], df2[0:5]], axis=0, join=\"outer\")"
   ]
  },
  {
   "cell_type": "markdown",
   "id": "74f32592-a15c-417b-b8d4-4ba9dce170c2",
   "metadata": {},
   "source": [
    "### EJE Y"
   ]
  },
  {
   "cell_type": "code",
   "execution_count": null,
   "id": "7c07d6e6-529f-4066-a18c-7f3b22d32f62",
   "metadata": {
    "scrolled": true,
    "tags": []
   },
   "outputs": [],
   "source": [
    "display(df1[1:8:3], df2[0:5])\n",
    "\n",
    "# busca un indice comun entre los dataframes y los une basado en ese criterio\n",
    "pd.concat([df1[1:8:3], df2[0:5]], axis=1, join=\"outer\")"
   ]
  },
  {
   "cell_type": "markdown",
   "id": "006b2e0b-91ea-4eba-b548-5604650fa1ce",
   "metadata": {},
   "source": [
    "# <center>**INNER**</center>"
   ]
  },
  {
   "cell_type": "code",
   "execution_count": null,
   "id": "a7d78bb1-10b0-4683-964a-022c6b2e8ffa",
   "metadata": {},
   "outputs": [],
   "source": [
    "display(df1[0:3], df2[0:5])\n",
    "pd.concat([df1[0:3], df2[0:5]], axis=1, join=\"inner\")"
   ]
  },
  {
   "cell_type": "code",
   "execution_count": null,
   "id": "f2a27946-af81-457f-9a1d-b1714a348f29",
   "metadata": {
    "scrolled": true,
    "tags": []
   },
   "outputs": [],
   "source": [
    "# solo realiza la uion con columnas de nombres iguales\n",
    "display(df1[0:3], df2[0:5])\n",
    "pd.concat([df1[0:3], df2[0:5]], axis=0, join=\"inner\")"
   ]
  },
  {
   "cell_type": "markdown",
   "id": "7b63797e-7b36-4c1d-b004-674fff96e76a",
   "metadata": {},
   "source": [
    "# <center>**COMPARACION POR DATAFRAMES**</center>"
   ]
  },
  {
   "cell_type": "code",
   "execution_count": null,
   "id": "ff233623-f26a-455b-851f-d3b29f95f4e4",
   "metadata": {
    "scrolled": true,
    "tags": []
   },
   "outputs": [],
   "source": [
    "pd.concat([df1[0:3], df2[0:3], df3[0:3]], axis=1)"
   ]
  },
  {
   "cell_type": "code",
   "execution_count": null,
   "id": "d5428edb-f0d7-44b2-a7b0-195f06c0ea77",
   "metadata": {
    "scrolled": true,
    "tags": []
   },
   "outputs": [],
   "source": [
    "pd.concat([df1[0:3], df2[0:3], df3[0:3]], keys=[\"json_base\", \"csv_base\", \"excel_base\"], axis=1)"
   ]
  },
  {
   "cell_type": "markdown",
   "id": "c7cc48ae-6d00-4306-a6df-5cc3d49404b1",
   "metadata": {},
   "source": [
    "# <center>**JOINS**</center>\n",
    "# <center>**df.join VS df.merge()**</center>\n",
    "<center><img src=\"merge_vs_join.png\"/></center>"
   ]
  },
  {
   "cell_type": "markdown",
   "id": "ed8e1112-d662-4396-a396-43893478de07",
   "metadata": {},
   "source": [
    "# <center>**SELF, INNER, LEFT, RIGHT, OUTER, CROSS, INDEX**</center>\n",
    "<center><img src=\"joins.jpeg\"/></center>"
   ]
  },
  {
   "cell_type": "code",
   "execution_count": null,
   "id": "a7c994c9-af5c-45ca-bb0d-5df117bb16ad",
   "metadata": {
    "scrolled": true,
    "tags": []
   },
   "outputs": [],
   "source": [
    "json_base, csv_base, excel_base = df1.head(5), df2.head(7), df3.head(10)"
   ]
  },
  {
   "cell_type": "markdown",
   "id": "6ac0e2a1-c2f5-4f35-b3c2-aa71eaa5caee",
   "metadata": {},
   "source": [
    "# <center>**SELF** JOIN</center>"
   ]
  },
  {
   "cell_type": "code",
   "execution_count": null,
   "id": "01e91193-b844-475b-87eb-b139a280807c",
   "metadata": {
    "scrolled": true,
    "tags": []
   },
   "outputs": [],
   "source": [
    "dataframe_self_join = df1.head(10)\n",
    "display(dataframe_self_join)\n",
    "join_dataframe(dataframe_self_join, dataframe_self_join, tipo_de_join='SELF',self_join=['Id','Lider']).dropna()"
   ]
  },
  {
   "cell_type": "markdown",
   "id": "e0776c2e-2f23-46fe-8aa6-f77c2b99a0de",
   "metadata": {},
   "source": [
    "# <center>**INNER** JOIN</center>"
   ]
  },
  {
   "cell_type": "code",
   "execution_count": null,
   "id": "9ba6983e-133d-44cf-8fab-45e6e5b4be87",
   "metadata": {
    "scrolled": true,
    "tags": []
   },
   "outputs": [],
   "source": [
    "display(json_base, csv_base)\n",
    "\n",
    "join_dataframe(json_base, csv_base, llaves_para_join= ['Id'], tipo_de_join='INNER')"
   ]
  },
  {
   "cell_type": "code",
   "execution_count": null,
   "id": "df2d90b8-214f-4ccd-9835-9c3a1cd7ba1d",
   "metadata": {
    "scrolled": true,
    "tags": []
   },
   "outputs": [],
   "source": [
    "pd.merge(json_base, csv_base, on=[\"Id\"])"
   ]
  },
  {
   "cell_type": "markdown",
   "id": "6ed775a0-aa22-49c8-8704-5ecb5c2d4387",
   "metadata": {},
   "source": [
    "## <center>**INNER** JOIN **Multiples Llaves**</center>"
   ]
  },
  {
   "cell_type": "code",
   "execution_count": null,
   "id": "6b8a6aaf-6106-4a31-b483-320fc206a8cb",
   "metadata": {
    "scrolled": true,
    "tags": []
   },
   "outputs": [],
   "source": [
    "display(df3, df2)\n",
    "\n",
    "join_dataframe(df3, df2, llaves_para_join= ['Id','Lider'], tipo_de_join='INNER')"
   ]
  },
  {
   "cell_type": "markdown",
   "id": "8ec91645-3bf9-4199-9785-136ae8379c3a",
   "metadata": {},
   "source": [
    "# inner join sin declararlo"
   ]
  },
  {
   "cell_type": "code",
   "execution_count": null,
   "id": "7cd4f2e3-67cb-4a01-b1b1-01937a70d09a",
   "metadata": {
    "scrolled": true,
    "tags": []
   },
   "outputs": [],
   "source": [
    "pd.merge(df3, df2, on=['Id','Lider'])"
   ]
  },
  {
   "cell_type": "markdown",
   "id": "21544c03-bc96-4886-ae24-bffe81821089",
   "metadata": {},
   "source": [
    "### JUNTA LOS DATAFRAMES POR FILAS Y LOS QUE NO COINCIDEN CON LAS LLAVES LOS CAMPOS QUEDAN NULOS"
   ]
  },
  {
   "cell_type": "code",
   "execution_count": null,
   "id": "4ea33b0f-d715-4b2c-aac1-b1d925f681c1",
   "metadata": {
    "scrolled": true,
    "tags": []
   },
   "outputs": [],
   "source": [
    "pd.merge_ordered(df2, df3, on=['Id','Lider'])"
   ]
  },
  {
   "cell_type": "markdown",
   "id": "4fff60c6-025c-4d36-b4b0-8f0f804a2f2f",
   "metadata": {},
   "source": [
    "# <center>**LEFT** JOIN</center>"
   ]
  },
  {
   "cell_type": "code",
   "execution_count": null,
   "id": "2870983f-ef4e-469d-adc5-e1a4684eeadd",
   "metadata": {
    "scrolled": true,
    "tags": []
   },
   "outputs": [],
   "source": [
    "display(json_base, csv_base)\n",
    "join_dataframe(json_base, csv_base, llaves_para_join = ['Id'], tipo_de_join='LEFT')"
   ]
  },
  {
   "cell_type": "markdown",
   "id": "1d32ffd9-619c-47dd-969e-a7a2b570c047",
   "metadata": {},
   "source": [
    "# <center>**RIGHT** JOIN</center>"
   ]
  },
  {
   "cell_type": "code",
   "execution_count": null,
   "id": "da8c3d97-f3da-4a97-ba41-d9684213d273",
   "metadata": {
    "scrolled": true,
    "tags": []
   },
   "outputs": [],
   "source": [
    "display(json_base, csv_base)\n",
    "join_dataframe(json_base, csv_base, llaves_para_join = ['Id'], tipo_de_join='RIGHT')"
   ]
  },
  {
   "cell_type": "markdown",
   "id": "9b158512-d35a-49c7-9701-3ca6f16f4741",
   "metadata": {},
   "source": [
    "# <center>**OUTER** JOIN</center>"
   ]
  },
  {
   "cell_type": "code",
   "execution_count": null,
   "id": "e895a3d6-fcf6-4cd2-919a-34cb51f9e81e",
   "metadata": {
    "tags": []
   },
   "outputs": [],
   "source": [
    "# junta con los indices que coincidan y los demas registros llena con null los campos que no encuentra\n",
    "display(csv_base, excel_base)\n",
    "join_dataframe(csv_base, excel_base, llaves_para_join = ['Id'], tipo_de_join='OUTER', mostrar_tipo_join=True)"
   ]
  },
  {
   "cell_type": "markdown",
   "id": "05b62b80-1371-4e5e-98ff-cd5938da4196",
   "metadata": {},
   "source": [
    "## <center>**ELIMINAR COLUMNAS DUPLICADAS Y PERSONALIZAR LOS ALIAS EN COLUMNAS QUE SE VAN A DUPLICAR** MERGE</center>"
   ]
  },
  {
   "cell_type": "markdown",
   "id": "6526050e-2152-4f59-987d-40d46354018e",
   "metadata": {},
   "source": [
    "### <center>**USANDO LLAVES ESPECIFICAS PARA EL JOIN** MERGE</center>"
   ]
  },
  {
   "cell_type": "code",
   "execution_count": null,
   "id": "e3f4680f-7024-4291-a1b7-57e6c036e1e6",
   "metadata": {},
   "outputs": [],
   "source": [
    "merge_eliminar_columnas_dulicadas = pd.merge(csv_base, excel_base, \n",
    "                 on=['Id','Lider'], how='outer')\n",
    "merge_eliminar_columnas_dulicadas"
   ]
  },
  {
   "cell_type": "markdown",
   "id": "ce162d42-8489-46ce-810f-10e58614e45e",
   "metadata": {},
   "source": [
    "### <center>**USANDO DESCUBRIMIENTO AUTOMATICO DE LLAVES PARA EL JOIN** MERGE **PERSONALIZANDO EL NOMBRE DEL ALIAS O SUFIJO PARA COLUMNAS DUPLICADAS** </center>"
   ]
  },
  {
   "cell_type": "code",
   "execution_count": null,
   "id": "6638d3f1-7cf7-4506-928e-a573f87539af",
   "metadata": {
    "scrolled": true,
    "tags": []
   },
   "outputs": [],
   "source": [
    "display(csv_base, excel_base)\n",
    "\n",
    "merge_eliminar_columnas_dulicadas = pd.merge(csv_base, excel_base, left_index=True, right_index=True,\n",
    "                 how='outer', suffixes=('', '_y'))\n",
    "merge_eliminar_columnas_dulicadas"
   ]
  },
  {
   "cell_type": "code",
   "execution_count": null,
   "id": "4b19209a-db69-4805-84c9-75c66609df6c",
   "metadata": {
    "scrolled": true,
    "tags": []
   },
   "outputs": [],
   "source": [
    "# elimina las columnas con el prefijo especifico\n",
    "merge_eliminar_columnas_dulicadas\\\n",
    "                                .drop(merge_eliminar_columnas_dulicadas\\\n",
    "                                .filter(regex='_y$')\\\n",
    "                                .columns, axis=1, inplace=True)\n",
    "merge_eliminar_columnas_dulicadas"
   ]
  },
  {
   "cell_type": "markdown",
   "id": "48efedb4-0904-4f37-adf3-6d8376bcc8c1",
   "metadata": {},
   "source": [
    "# <center>**CROSS** JOIN</center>"
   ]
  },
  {
   "cell_type": "code",
   "execution_count": null,
   "id": "6bc1bf13-bfde-4128-a28d-988c807e523f",
   "metadata": {
    "scrolled": true,
    "tags": []
   },
   "outputs": [],
   "source": [
    "display(csv_base, excel_base)\n",
    "join_dataframe(csv_base, excel_base, 'Id', tipo_de_join='CROSS')"
   ]
  },
  {
   "cell_type": "markdown",
   "id": "9fb0b9dd-9513-4fce-81ce-771eee1db16a",
   "metadata": {},
   "source": [
    "# <center>**INDEX** JOIN</center>"
   ]
  },
  {
   "cell_type": "code",
   "execution_count": null,
   "id": "6c638247-7375-45d4-bf2b-669da950ef39",
   "metadata": {
    "scrolled": true,
    "tags": []
   },
   "outputs": [],
   "source": [
    "# solo une con los indices que coincidan\n",
    "display(csv_base, json_base)\n",
    "join_dataframe(csv_base, json_base, tipo_de_join='INDEX')"
   ]
  },
  {
   "cell_type": "code",
   "execution_count": null,
   "id": "30277731-ebc4-4fba-94ad-1b2a4279e2d8",
   "metadata": {
    "scrolled": true,
    "tags": []
   },
   "outputs": [],
   "source": [
    "display(csv_base[0:10], json_base[0:10])\n",
    "pd.merge(csv_base[0:10], json_base[0:10], left_index=True, right_index=True)"
   ]
  },
  {
   "cell_type": "markdown",
   "id": "b748b556-901b-49ec-8305-b9b2f5926df8",
   "metadata": {},
   "source": [
    "# <center>**COLUMN** JOIN</center>"
   ]
  },
  {
   "cell_type": "code",
   "execution_count": 16,
   "id": "81b2fa42-058e-45b8-9f22-1b83b38cd0ac",
   "metadata": {
    "scrolled": true,
    "tags": []
   },
   "outputs": [
    {
     "data": {
      "text/html": [
       "<div>\n",
       "<style scoped>\n",
       "    .dataframe tbody tr th:only-of-type {\n",
       "        vertical-align: middle;\n",
       "    }\n",
       "\n",
       "    .dataframe tbody tr th {\n",
       "        vertical-align: top;\n",
       "    }\n",
       "\n",
       "    .dataframe thead th {\n",
       "        text-align: right;\n",
       "    }\n",
       "</style>\n",
       "<table border=\"1\" class=\"dataframe\">\n",
       "  <thead>\n",
       "    <tr style=\"text-align: right;\">\n",
       "      <th></th>\n",
       "      <th>Id</th>\n",
       "      <th>Lider</th>\n",
       "      <th>Mamíferos</th>\n",
       "      <th>Reptiles</th>\n",
       "      <th>Peces</th>\n",
       "      <th>Anfibios</th>\n",
       "      <th>Aves</th>\n",
       "    </tr>\n",
       "  </thead>\n",
       "  <tbody>\n",
       "    <tr>\n",
       "      <th>0</th>\n",
       "      <td>1</td>\n",
       "      <td>33</td>\n",
       "      <td>Gatos</td>\n",
       "      <td>Tuátaras de Nueva Zelanda</td>\n",
       "      <td>Lenguados</td>\n",
       "      <td>Sapos de caña venenosos</td>\n",
       "      <td>Águilas</td>\n",
       "    </tr>\n",
       "    <tr>\n",
       "      <th>1</th>\n",
       "      <td>2</td>\n",
       "      <td>90</td>\n",
       "      <td>Rinocerontes</td>\n",
       "      <td>Dragones de Komodo</td>\n",
       "      <td>Peces payaso</td>\n",
       "      <td>Ranas de Darwin</td>\n",
       "      <td>Cigüeñas</td>\n",
       "    </tr>\n",
       "    <tr>\n",
       "      <th>2</th>\n",
       "      <td>3</td>\n",
       "      <td>39</td>\n",
       "      <td>Caballos</td>\n",
       "      <td>Dragones de Komodo</td>\n",
       "      <td>Peces vela</td>\n",
       "      <td>Lisorofios (extintos)</td>\n",
       "      <td>Gallinas</td>\n",
       "    </tr>\n",
       "    <tr>\n",
       "      <th>3</th>\n",
       "      <td>4</td>\n",
       "      <td>39</td>\n",
       "      <td>Vacas</td>\n",
       "      <td>Aligátores</td>\n",
       "      <td>Lenguados</td>\n",
       "      <td>Ranas arborícolas</td>\n",
       "      <td>Cóndores</td>\n",
       "    </tr>\n",
       "    <tr>\n",
       "      <th>4</th>\n",
       "      <td>5</td>\n",
       "      <td>15</td>\n",
       "      <td>Seres humanos</td>\n",
       "      <td>Tortugas galápagos</td>\n",
       "      <td>Pirañas</td>\n",
       "      <td>Salamandras comunes</td>\n",
       "      <td>Colibríes</td>\n",
       "    </tr>\n",
       "    <tr>\n",
       "      <th>5</th>\n",
       "      <td>6</td>\n",
       "      <td>80</td>\n",
       "      <td>Perros</td>\n",
       "      <td>Víboras</td>\n",
       "      <td>Atunes</td>\n",
       "      <td>Proteos</td>\n",
       "      <td>Patos</td>\n",
       "    </tr>\n",
       "    <tr>\n",
       "      <th>6</th>\n",
       "      <td>7</td>\n",
       "      <td>86</td>\n",
       "      <td>Elefantes</td>\n",
       "      <td>Lagartos voladores australianos</td>\n",
       "      <td>Celacantos (extintos)</td>\n",
       "      <td>Lisorofios (extintos)</td>\n",
       "      <td>Pájaros carpinteros</td>\n",
       "    </tr>\n",
       "    <tr>\n",
       "      <th>7</th>\n",
       "      <td>8</td>\n",
       "      <td>100</td>\n",
       "      <td>Elefantes</td>\n",
       "      <td>Tortugas terrestres</td>\n",
       "      <td>Anguilas de mar</td>\n",
       "      <td>Ajolotes</td>\n",
       "      <td>Guacamayas</td>\n",
       "    </tr>\n",
       "    <tr>\n",
       "      <th>8</th>\n",
       "      <td>9</td>\n",
       "      <td>100</td>\n",
       "      <td>Ovejas</td>\n",
       "      <td>Luciones</td>\n",
       "      <td>Atunes</td>\n",
       "      <td>Ranas arborícolas</td>\n",
       "      <td>Colibríes</td>\n",
       "    </tr>\n",
       "    <tr>\n",
       "      <th>9</th>\n",
       "      <td>10</td>\n",
       "      <td>76</td>\n",
       "      <td>Leones</td>\n",
       "      <td>Tortugas terrestres</td>\n",
       "      <td>Las agujas de río</td>\n",
       "      <td>Salamandras sin pulmón</td>\n",
       "      <td>Lechuzas</td>\n",
       "    </tr>\n",
       "    <tr>\n",
       "      <th>10</th>\n",
       "      <td>11</td>\n",
       "      <td>37</td>\n",
       "      <td>Capibaras</td>\n",
       "      <td>Aligátores</td>\n",
       "      <td>Peces luna</td>\n",
       "      <td>Lisorofios (extintos)</td>\n",
       "      <td>Pájaros carpinteros</td>\n",
       "    </tr>\n",
       "    <tr>\n",
       "      <th>11</th>\n",
       "      <td>12</td>\n",
       "      <td>2</td>\n",
       "      <td>Perros</td>\n",
       "      <td>Dragones de Komodo</td>\n",
       "      <td>Peces payaso</td>\n",
       "      <td>Gallipatos</td>\n",
       "      <td>Patos</td>\n",
       "    </tr>\n",
       "    <tr>\n",
       "      <th>12</th>\n",
       "      <td>13</td>\n",
       "      <td>17</td>\n",
       "      <td>Ballenas</td>\n",
       "      <td>Iguanas</td>\n",
       "      <td>Carpas</td>\n",
       "      <td>Gallipatos</td>\n",
       "      <td>Pavorreales</td>\n",
       "    </tr>\n",
       "    <tr>\n",
       "      <th>13</th>\n",
       "      <td>14</td>\n",
       "      <td>30</td>\n",
       "      <td>Perros</td>\n",
       "      <td>Cocodrilos</td>\n",
       "      <td>Peces abisales</td>\n",
       "      <td>Gallipatos</td>\n",
       "      <td>Águilas</td>\n",
       "    </tr>\n",
       "    <tr>\n",
       "      <th>14</th>\n",
       "      <td>15</td>\n",
       "      <td>86</td>\n",
       "      <td>Perros</td>\n",
       "      <td>Basiliscos</td>\n",
       "      <td>Peces luna</td>\n",
       "      <td>Ranas de Darwin</td>\n",
       "      <td>Pelícanos</td>\n",
       "    </tr>\n",
       "    <tr>\n",
       "      <th>15</th>\n",
       "      <td>16</td>\n",
       "      <td>99</td>\n",
       "      <td>Perros</td>\n",
       "      <td>Tortugas terrestres</td>\n",
       "      <td>Pirañas</td>\n",
       "      <td>Ranas de Darwin</td>\n",
       "      <td>Cigüeñas</td>\n",
       "    </tr>\n",
       "    <tr>\n",
       "      <th>16</th>\n",
       "      <td>17</td>\n",
       "      <td>27</td>\n",
       "      <td>Delfines</td>\n",
       "      <td>Víboras</td>\n",
       "      <td>Pirañas</td>\n",
       "      <td>Ranas arcoíris</td>\n",
       "      <td>Águilas</td>\n",
       "    </tr>\n",
       "    <tr>\n",
       "      <th>17</th>\n",
       "      <td>18</td>\n",
       "      <td>51</td>\n",
       "      <td>Hienas</td>\n",
       "      <td>Dinosaurios (extintos)</td>\n",
       "      <td>Las agujas de río</td>\n",
       "      <td>Necturos</td>\n",
       "      <td>Patos</td>\n",
       "    </tr>\n",
       "    <tr>\n",
       "      <th>18</th>\n",
       "      <td>19</td>\n",
       "      <td>25</td>\n",
       "      <td>Capibaras</td>\n",
       "      <td>Camaleones</td>\n",
       "      <td>Celacantos (extintos)</td>\n",
       "      <td>Ranas venenosas</td>\n",
       "      <td>Patos</td>\n",
       "    </tr>\n",
       "    <tr>\n",
       "      <th>19</th>\n",
       "      <td>20</td>\n",
       "      <td>86</td>\n",
       "      <td>Gorilas</td>\n",
       "      <td>Lagartos voladores australianos</td>\n",
       "      <td>Koi japoneses</td>\n",
       "      <td>Sapos comunes</td>\n",
       "      <td>Águilas</td>\n",
       "    </tr>\n",
       "    <tr>\n",
       "      <th>20</th>\n",
       "      <td>21</td>\n",
       "      <td>4</td>\n",
       "      <td>Ballenas</td>\n",
       "      <td>Víboras</td>\n",
       "      <td>Peces sapo</td>\n",
       "      <td>Lisorofios (extintos)</td>\n",
       "      <td>Lechuzas</td>\n",
       "    </tr>\n",
       "    <tr>\n",
       "      <th>21</th>\n",
       "      <td>22</td>\n",
       "      <td>35</td>\n",
       "      <td>Jirafas</td>\n",
       "      <td>Aligátores</td>\n",
       "      <td>Los tiburones ballena</td>\n",
       "      <td>Ranas de Darwin</td>\n",
       "      <td>Faisanes</td>\n",
       "    </tr>\n",
       "    <tr>\n",
       "      <th>22</th>\n",
       "      <td>23</td>\n",
       "      <td>93</td>\n",
       "      <td>Hienas</td>\n",
       "      <td>Tortugas galápagos</td>\n",
       "      <td>Atunes</td>\n",
       "      <td>Proteos</td>\n",
       "      <td>Gallinas</td>\n",
       "    </tr>\n",
       "    <tr>\n",
       "      <th>23</th>\n",
       "      <td>24</td>\n",
       "      <td>76</td>\n",
       "      <td>Jirafas</td>\n",
       "      <td>Boas constrictoras</td>\n",
       "      <td>Pirañas</td>\n",
       "      <td>Ranas venenosas</td>\n",
       "      <td>Buitres</td>\n",
       "    </tr>\n",
       "    <tr>\n",
       "      <th>24</th>\n",
       "      <td>25</td>\n",
       "      <td>74</td>\n",
       "      <td>Ballenas</td>\n",
       "      <td>Tuátaras de Nueva Zelanda</td>\n",
       "      <td>Peces vela</td>\n",
       "      <td>Necturos</td>\n",
       "      <td>Avestruces</td>\n",
       "    </tr>\n",
       "    <tr>\n",
       "      <th>25</th>\n",
       "      <td>26</td>\n",
       "      <td>60</td>\n",
       "      <td>Jirafas</td>\n",
       "      <td>Tortugas galápagos</td>\n",
       "      <td>Peces espada</td>\n",
       "      <td>Ranas de Seychelles</td>\n",
       "      <td>Pelícanos</td>\n",
       "    </tr>\n",
       "    <tr>\n",
       "      <th>26</th>\n",
       "      <td>27</td>\n",
       "      <td>37</td>\n",
       "      <td>Vacas</td>\n",
       "      <td>Monstruos de Gila</td>\n",
       "      <td>Peces sapo</td>\n",
       "      <td>Ranas toro africanas</td>\n",
       "      <td>Colibríes</td>\n",
       "    </tr>\n",
       "    <tr>\n",
       "      <th>27</th>\n",
       "      <td>28</td>\n",
       "      <td>75</td>\n",
       "      <td>Hienas</td>\n",
       "      <td>Víboras</td>\n",
       "      <td>Anguilas de mar</td>\n",
       "      <td>Ranas de Seychelles</td>\n",
       "      <td>Pavorreales</td>\n",
       "    </tr>\n",
       "    <tr>\n",
       "      <th>28</th>\n",
       "      <td>29</td>\n",
       "      <td>80</td>\n",
       "      <td>Delfines</td>\n",
       "      <td>Iguanas</td>\n",
       "      <td>Celacantos (extintos)</td>\n",
       "      <td>Sapos corredores</td>\n",
       "      <td>Cóndores</td>\n",
       "    </tr>\n",
       "    <tr>\n",
       "      <th>29</th>\n",
       "      <td>30</td>\n",
       "      <td>86</td>\n",
       "      <td>Seres humanos</td>\n",
       "      <td>Varanos</td>\n",
       "      <td>Anguilas de mar</td>\n",
       "      <td>Necturos</td>\n",
       "      <td>Cigüeñas</td>\n",
       "    </tr>\n",
       "    <tr>\n",
       "      <th>30</th>\n",
       "      <td>31</td>\n",
       "      <td>84</td>\n",
       "      <td>Ratones</td>\n",
       "      <td>Tortugas acuáticas</td>\n",
       "      <td>Las agujas de río</td>\n",
       "      <td>Sapos gigantes</td>\n",
       "      <td>Patos</td>\n",
       "    </tr>\n",
       "    <tr>\n",
       "      <th>31</th>\n",
       "      <td>32</td>\n",
       "      <td>94</td>\n",
       "      <td>Ovejas</td>\n",
       "      <td>Cocodrilos</td>\n",
       "      <td>Peces sapo</td>\n",
       "      <td>Ranas venenosas</td>\n",
       "      <td>Canarios</td>\n",
       "    </tr>\n",
       "    <tr>\n",
       "      <th>32</th>\n",
       "      <td>33</td>\n",
       "      <td>66</td>\n",
       "      <td>Elefantes</td>\n",
       "      <td>Iguanas</td>\n",
       "      <td>Peces vela</td>\n",
       "      <td>Gallipatos</td>\n",
       "      <td>Avestruces</td>\n",
       "    </tr>\n",
       "    <tr>\n",
       "      <th>33</th>\n",
       "      <td>34</td>\n",
       "      <td>80</td>\n",
       "      <td>Delfines</td>\n",
       "      <td>Lagartos voladores australianos</td>\n",
       "      <td>Peces abisales</td>\n",
       "      <td>Sapos de caña venenosos</td>\n",
       "      <td>Cuervos</td>\n",
       "    </tr>\n",
       "    <tr>\n",
       "      <th>34</th>\n",
       "      <td>35</td>\n",
       "      <td>87</td>\n",
       "      <td>Jirafas</td>\n",
       "      <td>Aligátores</td>\n",
       "      <td>Pirañas</td>\n",
       "      <td>Salamandras sin pulmón</td>\n",
       "      <td>Patos</td>\n",
       "    </tr>\n",
       "    <tr>\n",
       "      <th>35</th>\n",
       "      <td>36</td>\n",
       "      <td>46</td>\n",
       "      <td>Hienas</td>\n",
       "      <td>Cocodrilos</td>\n",
       "      <td>Barracudas</td>\n",
       "      <td>Gallipatos</td>\n",
       "      <td>Colibríes</td>\n",
       "    </tr>\n",
       "    <tr>\n",
       "      <th>36</th>\n",
       "      <td>37</td>\n",
       "      <td>14</td>\n",
       "      <td>Seres humanos</td>\n",
       "      <td>Dinosaurios (extintos)</td>\n",
       "      <td>Barracudas</td>\n",
       "      <td>Necturos</td>\n",
       "      <td>Águilas</td>\n",
       "    </tr>\n",
       "    <tr>\n",
       "      <th>37</th>\n",
       "      <td>38</td>\n",
       "      <td>49</td>\n",
       "      <td>Ratones</td>\n",
       "      <td>Lagartijas comunes</td>\n",
       "      <td>Peces abisales</td>\n",
       "      <td>Sapos gigantes</td>\n",
       "      <td>Avestruces</td>\n",
       "    </tr>\n",
       "    <tr>\n",
       "      <th>38</th>\n",
       "      <td>39</td>\n",
       "      <td>90</td>\n",
       "      <td>Caballos</td>\n",
       "      <td>Tortugas acuáticas</td>\n",
       "      <td>Peces globo</td>\n",
       "      <td>Sapos corredores</td>\n",
       "      <td>Pavorreales</td>\n",
       "    </tr>\n",
       "    <tr>\n",
       "      <th>39</th>\n",
       "      <td>40</td>\n",
       "      <td>64</td>\n",
       "      <td>Seres humanos</td>\n",
       "      <td>Mosasaurios (extintos)</td>\n",
       "      <td>Lenguados</td>\n",
       "      <td>Lisorofios (extintos)</td>\n",
       "      <td>Colibríes</td>\n",
       "    </tr>\n",
       "    <tr>\n",
       "      <th>40</th>\n",
       "      <td>41</td>\n",
       "      <td>49</td>\n",
       "      <td>Capibaras</td>\n",
       "      <td>Víboras</td>\n",
       "      <td>Atunes</td>\n",
       "      <td>Ranas toro africanas</td>\n",
       "      <td>Pájaros carpinteros</td>\n",
       "    </tr>\n",
       "    <tr>\n",
       "      <th>41</th>\n",
       "      <td>42</td>\n",
       "      <td>47</td>\n",
       "      <td>Orcas</td>\n",
       "      <td>Tortugas acuáticas</td>\n",
       "      <td>Peces abisales</td>\n",
       "      <td>Ranas venenosas</td>\n",
       "      <td>Canarios</td>\n",
       "    </tr>\n",
       "    <tr>\n",
       "      <th>42</th>\n",
       "      <td>43</td>\n",
       "      <td>12</td>\n",
       "      <td>Elefantes</td>\n",
       "      <td>Tortugas acuáticas</td>\n",
       "      <td>Peces espada</td>\n",
       "      <td>Sapos gigantes</td>\n",
       "      <td>Avestruces</td>\n",
       "    </tr>\n",
       "    <tr>\n",
       "      <th>43</th>\n",
       "      <td>44</td>\n",
       "      <td>17</td>\n",
       "      <td>Hienas</td>\n",
       "      <td>Lagartos voladores australianos</td>\n",
       "      <td>Carpas</td>\n",
       "      <td>Sapos corredores</td>\n",
       "      <td>Guacamayas</td>\n",
       "    </tr>\n",
       "    <tr>\n",
       "      <th>44</th>\n",
       "      <td>45</td>\n",
       "      <td>88</td>\n",
       "      <td>Leones</td>\n",
       "      <td>Basiliscos</td>\n",
       "      <td>Barracudas</td>\n",
       "      <td>Ranas arborícolas</td>\n",
       "      <td>Faisanes</td>\n",
       "    </tr>\n",
       "    <tr>\n",
       "      <th>45</th>\n",
       "      <td>46</td>\n",
       "      <td>51</td>\n",
       "      <td>Caballos</td>\n",
       "      <td>Monstruos de Gila</td>\n",
       "      <td>Peces luna</td>\n",
       "      <td>Sapos corredores</td>\n",
       "      <td>Gaviotas</td>\n",
       "    </tr>\n",
       "    <tr>\n",
       "      <th>46</th>\n",
       "      <td>47</td>\n",
       "      <td>49</td>\n",
       "      <td>Canguros</td>\n",
       "      <td>Dragones de Komodo</td>\n",
       "      <td>Lenguados</td>\n",
       "      <td>Salamandras sin pulmón</td>\n",
       "      <td>Buitres</td>\n",
       "    </tr>\n",
       "    <tr>\n",
       "      <th>47</th>\n",
       "      <td>48</td>\n",
       "      <td>94</td>\n",
       "      <td>Delfines</td>\n",
       "      <td>Aligátores</td>\n",
       "      <td>Barracudas</td>\n",
       "      <td>Lisorofios (extintos)</td>\n",
       "      <td>Canarios</td>\n",
       "    </tr>\n",
       "    <tr>\n",
       "      <th>48</th>\n",
       "      <td>49</td>\n",
       "      <td>96</td>\n",
       "      <td>Jirafas</td>\n",
       "      <td>Luciones</td>\n",
       "      <td>Peces vela</td>\n",
       "      <td>Ajolotes</td>\n",
       "      <td>Pelícanos</td>\n",
       "    </tr>\n",
       "    <tr>\n",
       "      <th>49</th>\n",
       "      <td>50</td>\n",
       "      <td>81</td>\n",
       "      <td>Gatos</td>\n",
       "      <td>Aligátores</td>\n",
       "      <td>Peces espada</td>\n",
       "      <td>Proteos</td>\n",
       "      <td>Buitres</td>\n",
       "    </tr>\n",
       "    <tr>\n",
       "      <th>50</th>\n",
       "      <td>51</td>\n",
       "      <td>17</td>\n",
       "      <td>Hienas</td>\n",
       "      <td>Tortugas acuáticas</td>\n",
       "      <td>Peces espada</td>\n",
       "      <td>Ranas de Darwin</td>\n",
       "      <td>Gallinas</td>\n",
       "    </tr>\n",
       "    <tr>\n",
       "      <th>51</th>\n",
       "      <td>52</td>\n",
       "      <td>17</td>\n",
       "      <td>Elefantes</td>\n",
       "      <td>Pterosaurios (extintos)</td>\n",
       "      <td>Bacalaos</td>\n",
       "      <td>Salamandras gigantes chinas</td>\n",
       "      <td>Cóndores</td>\n",
       "    </tr>\n",
       "    <tr>\n",
       "      <th>52</th>\n",
       "      <td>53</td>\n",
       "      <td>39</td>\n",
       "      <td>Delfines</td>\n",
       "      <td>Iguanas</td>\n",
       "      <td>Anguilas de mar</td>\n",
       "      <td>Proteos</td>\n",
       "      <td>Águilas</td>\n",
       "    </tr>\n",
       "    <tr>\n",
       "      <th>53</th>\n",
       "      <td>54</td>\n",
       "      <td>60</td>\n",
       "      <td>Vacas</td>\n",
       "      <td>Aligátores</td>\n",
       "      <td>Peces payaso</td>\n",
       "      <td>Necturos</td>\n",
       "      <td>Cigüeñas</td>\n",
       "    </tr>\n",
       "    <tr>\n",
       "      <th>54</th>\n",
       "      <td>55</td>\n",
       "      <td>91</td>\n",
       "      <td>Rinocerontes</td>\n",
       "      <td>Basiliscos</td>\n",
       "      <td>Atunes</td>\n",
       "      <td>Sapos de caña venenosos</td>\n",
       "      <td>Buitres</td>\n",
       "    </tr>\n",
       "    <tr>\n",
       "      <th>55</th>\n",
       "      <td>56</td>\n",
       "      <td>4</td>\n",
       "      <td>Capibaras</td>\n",
       "      <td>Monstruos de Gila</td>\n",
       "      <td>Peces payaso</td>\n",
       "      <td>Ranas arborícolas</td>\n",
       "      <td>Buitres</td>\n",
       "    </tr>\n",
       "    <tr>\n",
       "      <th>56</th>\n",
       "      <td>57</td>\n",
       "      <td>23</td>\n",
       "      <td>Leones</td>\n",
       "      <td>Pterosaurios (extintos)</td>\n",
       "      <td>Peces abisales</td>\n",
       "      <td>Sapos de caña venenosos</td>\n",
       "      <td>Águilas</td>\n",
       "    </tr>\n",
       "    <tr>\n",
       "      <th>57</th>\n",
       "      <td>58</td>\n",
       "      <td>11</td>\n",
       "      <td>Jirafas</td>\n",
       "      <td>Basiliscos</td>\n",
       "      <td>Pirañas</td>\n",
       "      <td>Sapos corredores</td>\n",
       "      <td>Avestruces</td>\n",
       "    </tr>\n",
       "    <tr>\n",
       "      <th>58</th>\n",
       "      <td>59</td>\n",
       "      <td>97</td>\n",
       "      <td>Jirafas</td>\n",
       "      <td>Pterosaurios (extintos)</td>\n",
       "      <td>Pirañas</td>\n",
       "      <td>Microsaurios (extintos)</td>\n",
       "      <td>Avestruces</td>\n",
       "    </tr>\n",
       "    <tr>\n",
       "      <th>59</th>\n",
       "      <td>60</td>\n",
       "      <td>4</td>\n",
       "      <td>Gatos</td>\n",
       "      <td>Tortugas acuáticas</td>\n",
       "      <td>Peces abisales</td>\n",
       "      <td>Ranas toro africanas</td>\n",
       "      <td>Pavorreales</td>\n",
       "    </tr>\n",
       "    <tr>\n",
       "      <th>60</th>\n",
       "      <td>61</td>\n",
       "      <td>76</td>\n",
       "      <td>Leones</td>\n",
       "      <td>Camaleones</td>\n",
       "      <td>Peces payaso</td>\n",
       "      <td>Sapos comunes</td>\n",
       "      <td>Lechuzas</td>\n",
       "    </tr>\n",
       "    <tr>\n",
       "      <th>61</th>\n",
       "      <td>62</td>\n",
       "      <td>23</td>\n",
       "      <td>Jirafas</td>\n",
       "      <td>Monstruos de Gila</td>\n",
       "      <td>Lenguados</td>\n",
       "      <td>Ranas arcoíris</td>\n",
       "      <td>Águilas</td>\n",
       "    </tr>\n",
       "    <tr>\n",
       "      <th>62</th>\n",
       "      <td>63</td>\n",
       "      <td>78</td>\n",
       "      <td>Ovejas</td>\n",
       "      <td>Dragones de Komodo</td>\n",
       "      <td>Peces payaso</td>\n",
       "      <td>Sapos de caña venenosos</td>\n",
       "      <td>Tucanes</td>\n",
       "    </tr>\n",
       "    <tr>\n",
       "      <th>63</th>\n",
       "      <td>64</td>\n",
       "      <td>65</td>\n",
       "      <td>Ovejas</td>\n",
       "      <td>Varanos</td>\n",
       "      <td>Lenguados</td>\n",
       "      <td>Proteos</td>\n",
       "      <td>Cóndores</td>\n",
       "    </tr>\n",
       "    <tr>\n",
       "      <th>64</th>\n",
       "      <td>65</td>\n",
       "      <td>77</td>\n",
       "      <td>Ovejas</td>\n",
       "      <td>Tortugas terrestres</td>\n",
       "      <td>Peces espada</td>\n",
       "      <td>Necturos</td>\n",
       "      <td>Pájaros carpinteros</td>\n",
       "    </tr>\n",
       "    <tr>\n",
       "      <th>65</th>\n",
       "      <td>66</td>\n",
       "      <td>19</td>\n",
       "      <td>Rinocerontes</td>\n",
       "      <td>Camaleones</td>\n",
       "      <td>Celacantos (extintos)</td>\n",
       "      <td>Ranas venenosas</td>\n",
       "      <td>Lechuzas</td>\n",
       "    </tr>\n",
       "    <tr>\n",
       "      <th>66</th>\n",
       "      <td>67</td>\n",
       "      <td>35</td>\n",
       "      <td>Chimpancés</td>\n",
       "      <td>Basiliscos</td>\n",
       "      <td>Los tiburones ballena</td>\n",
       "      <td>Sapos corredores</td>\n",
       "      <td>Águilas</td>\n",
       "    </tr>\n",
       "    <tr>\n",
       "      <th>67</th>\n",
       "      <td>68</td>\n",
       "      <td>86</td>\n",
       "      <td>Hienas</td>\n",
       "      <td>Dragones de Komodo</td>\n",
       "      <td>Los tiburones ballena</td>\n",
       "      <td>Ranas venenosas</td>\n",
       "      <td>Colibríes</td>\n",
       "    </tr>\n",
       "    <tr>\n",
       "      <th>68</th>\n",
       "      <td>69</td>\n",
       "      <td>99</td>\n",
       "      <td>Seres humanos</td>\n",
       "      <td>Dragones de Komodo</td>\n",
       "      <td>Carpas</td>\n",
       "      <td>Ranas venenosas</td>\n",
       "      <td>Pavos</td>\n",
       "    </tr>\n",
       "    <tr>\n",
       "      <th>69</th>\n",
       "      <td>70</td>\n",
       "      <td>48</td>\n",
       "      <td>Capibaras</td>\n",
       "      <td>Tuátaras de Nueva Zelanda</td>\n",
       "      <td>Tiburones</td>\n",
       "      <td>Ranas de Seychelles</td>\n",
       "      <td>Pelícanos</td>\n",
       "    </tr>\n",
       "    <tr>\n",
       "      <th>70</th>\n",
       "      <td>71</td>\n",
       "      <td>86</td>\n",
       "      <td>Ratones</td>\n",
       "      <td>Dragones de Komodo</td>\n",
       "      <td>Peces sapo</td>\n",
       "      <td>Salamandras sin pulmón</td>\n",
       "      <td>Cuervos</td>\n",
       "    </tr>\n",
       "    <tr>\n",
       "      <th>71</th>\n",
       "      <td>72</td>\n",
       "      <td>67</td>\n",
       "      <td>Gatos</td>\n",
       "      <td>Dragones de Komodo</td>\n",
       "      <td>Peces abisales</td>\n",
       "      <td>Proteos</td>\n",
       "      <td>Lechuzas</td>\n",
       "    </tr>\n",
       "    <tr>\n",
       "      <th>72</th>\n",
       "      <td>73</td>\n",
       "      <td>47</td>\n",
       "      <td>Perros</td>\n",
       "      <td>Monstruos de Gila</td>\n",
       "      <td>Peces vela</td>\n",
       "      <td>Ranas arborícolas</td>\n",
       "      <td>Águilas</td>\n",
       "    </tr>\n",
       "    <tr>\n",
       "      <th>73</th>\n",
       "      <td>74</td>\n",
       "      <td>97</td>\n",
       "      <td>Ratones</td>\n",
       "      <td>Monstruos de Gila</td>\n",
       "      <td>Barracudas</td>\n",
       "      <td>Sapos de caña venenosos</td>\n",
       "      <td>Pelícanos</td>\n",
       "    </tr>\n",
       "    <tr>\n",
       "      <th>74</th>\n",
       "      <td>75</td>\n",
       "      <td>30</td>\n",
       "      <td>Elefantes</td>\n",
       "      <td>Mosasaurios (extintos)</td>\n",
       "      <td>Atunes</td>\n",
       "      <td>Lisorofios (extintos)</td>\n",
       "      <td>Avestruces</td>\n",
       "    </tr>\n",
       "    <tr>\n",
       "      <th>75</th>\n",
       "      <td>76</td>\n",
       "      <td>14</td>\n",
       "      <td>Perros</td>\n",
       "      <td>Tortugas terrestres</td>\n",
       "      <td>Carpas</td>\n",
       "      <td>Ranas venenosas</td>\n",
       "      <td>Tucanes</td>\n",
       "    </tr>\n",
       "    <tr>\n",
       "      <th>76</th>\n",
       "      <td>77</td>\n",
       "      <td>22</td>\n",
       "      <td>Cabras</td>\n",
       "      <td>Mosasaurios (extintos)</td>\n",
       "      <td>Tiburones</td>\n",
       "      <td>Salamandras gigantes chinas</td>\n",
       "      <td>Colibríes</td>\n",
       "    </tr>\n",
       "    <tr>\n",
       "      <th>77</th>\n",
       "      <td>78</td>\n",
       "      <td>55</td>\n",
       "      <td>Ratones</td>\n",
       "      <td>Mosasaurios (extintos)</td>\n",
       "      <td>Peces globo</td>\n",
       "      <td>Lisorofios (extintos)</td>\n",
       "      <td>Cuervos</td>\n",
       "    </tr>\n",
       "    <tr>\n",
       "      <th>78</th>\n",
       "      <td>79</td>\n",
       "      <td>61</td>\n",
       "      <td>Hienas</td>\n",
       "      <td>Cocodrilos</td>\n",
       "      <td>Koi japoneses</td>\n",
       "      <td>Salamandras sin pulmón</td>\n",
       "      <td>Cigüeñas</td>\n",
       "    </tr>\n",
       "    <tr>\n",
       "      <th>79</th>\n",
       "      <td>80</td>\n",
       "      <td>89</td>\n",
       "      <td>Rinocerontes</td>\n",
       "      <td>Cocodrilos</td>\n",
       "      <td>Bacalaos</td>\n",
       "      <td>Ranas de Seychelles</td>\n",
       "      <td>Pavorreales</td>\n",
       "    </tr>\n",
       "    <tr>\n",
       "      <th>80</th>\n",
       "      <td>81</td>\n",
       "      <td>38</td>\n",
       "      <td>Chimpancés</td>\n",
       "      <td>Mosasaurios (extintos)</td>\n",
       "      <td>Anguilas de mar</td>\n",
       "      <td>Salamandras gigantes chinas</td>\n",
       "      <td>Gallinas</td>\n",
       "    </tr>\n",
       "    <tr>\n",
       "      <th>81</th>\n",
       "      <td>82</td>\n",
       "      <td>47</td>\n",
       "      <td>Gorilas</td>\n",
       "      <td>Lagartos voladores australianos</td>\n",
       "      <td>Peces abisales</td>\n",
       "      <td>Ranas de Seychelles</td>\n",
       "      <td>Faisanes</td>\n",
       "    </tr>\n",
       "    <tr>\n",
       "      <th>82</th>\n",
       "      <td>83</td>\n",
       "      <td>45</td>\n",
       "      <td>Perros</td>\n",
       "      <td>Tortugas acuáticas</td>\n",
       "      <td>Lenguados</td>\n",
       "      <td>Ranas arborícolas</td>\n",
       "      <td>Pájaros carpinteros</td>\n",
       "    </tr>\n",
       "    <tr>\n",
       "      <th>83</th>\n",
       "      <td>84</td>\n",
       "      <td>88</td>\n",
       "      <td>Canguros</td>\n",
       "      <td>Luciones</td>\n",
       "      <td>Carpas</td>\n",
       "      <td>Ranas toro africanas</td>\n",
       "      <td>Avestruces</td>\n",
       "    </tr>\n",
       "    <tr>\n",
       "      <th>84</th>\n",
       "      <td>85</td>\n",
       "      <td>73</td>\n",
       "      <td>Caballos</td>\n",
       "      <td>Boas constrictoras</td>\n",
       "      <td>Peces luna</td>\n",
       "      <td>Sapos comunes</td>\n",
       "      <td>Pelícanos</td>\n",
       "    </tr>\n",
       "    <tr>\n",
       "      <th>85</th>\n",
       "      <td>86</td>\n",
       "      <td>58</td>\n",
       "      <td>Hienas</td>\n",
       "      <td>Pterosaurios (extintos)</td>\n",
       "      <td>Peces payaso</td>\n",
       "      <td>Ranas arcoíris</td>\n",
       "      <td>Pavos</td>\n",
       "    </tr>\n",
       "    <tr>\n",
       "      <th>86</th>\n",
       "      <td>87</td>\n",
       "      <td>2</td>\n",
       "      <td>Hienas</td>\n",
       "      <td>Camaleones</td>\n",
       "      <td>Peces globo</td>\n",
       "      <td>Ranas de Darwin</td>\n",
       "      <td>Gallinas</td>\n",
       "    </tr>\n",
       "    <tr>\n",
       "      <th>87</th>\n",
       "      <td>88</td>\n",
       "      <td>3</td>\n",
       "      <td>Hienas</td>\n",
       "      <td>Cocodrilos</td>\n",
       "      <td>Celacantos (extintos)</td>\n",
       "      <td>Gallipatos</td>\n",
       "      <td>Pavos</td>\n",
       "    </tr>\n",
       "    <tr>\n",
       "      <th>88</th>\n",
       "      <td>89</td>\n",
       "      <td>72</td>\n",
       "      <td>Hienas</td>\n",
       "      <td>Tortugas terrestres</td>\n",
       "      <td>Barracudas</td>\n",
       "      <td>Salamandras gigantes chinas</td>\n",
       "      <td>Gaviotas</td>\n",
       "    </tr>\n",
       "    <tr>\n",
       "      <th>89</th>\n",
       "      <td>90</td>\n",
       "      <td>92</td>\n",
       "      <td>Rinocerontes</td>\n",
       "      <td>Boas constrictoras</td>\n",
       "      <td>Carpas</td>\n",
       "      <td>Sapos corredores</td>\n",
       "      <td>Colibríes</td>\n",
       "    </tr>\n",
       "    <tr>\n",
       "      <th>90</th>\n",
       "      <td>91</td>\n",
       "      <td>16</td>\n",
       "      <td>Cabras</td>\n",
       "      <td>Iguanas</td>\n",
       "      <td>Pirañas</td>\n",
       "      <td>Sapos de caña venenosos</td>\n",
       "      <td>Buitres</td>\n",
       "    </tr>\n",
       "    <tr>\n",
       "      <th>91</th>\n",
       "      <td>92</td>\n",
       "      <td>99</td>\n",
       "      <td>Leones</td>\n",
       "      <td>Varanos</td>\n",
       "      <td>Carpas</td>\n",
       "      <td>Salamandras comunes</td>\n",
       "      <td>Gaviotas</td>\n",
       "    </tr>\n",
       "    <tr>\n",
       "      <th>92</th>\n",
       "      <td>93</td>\n",
       "      <td>100</td>\n",
       "      <td>Gatos</td>\n",
       "      <td>Luciones</td>\n",
       "      <td>Peces payaso</td>\n",
       "      <td>Ranas arcoíris</td>\n",
       "      <td>Lechuzas</td>\n",
       "    </tr>\n",
       "    <tr>\n",
       "      <th>93</th>\n",
       "      <td>94</td>\n",
       "      <td>18</td>\n",
       "      <td>Chimpancés</td>\n",
       "      <td>Cocodrilos</td>\n",
       "      <td>Las agujas de río</td>\n",
       "      <td>Ranas venenosas</td>\n",
       "      <td>Guacamayas</td>\n",
       "    </tr>\n",
       "    <tr>\n",
       "      <th>94</th>\n",
       "      <td>95</td>\n",
       "      <td>48</td>\n",
       "      <td>Ratones</td>\n",
       "      <td>Dragones de Komodo</td>\n",
       "      <td>Peces espada</td>\n",
       "      <td>Salamandras comunes</td>\n",
       "      <td>Cóndores</td>\n",
       "    </tr>\n",
       "    <tr>\n",
       "      <th>95</th>\n",
       "      <td>96</td>\n",
       "      <td>22</td>\n",
       "      <td>Orcas</td>\n",
       "      <td>Pterosaurios (extintos)</td>\n",
       "      <td>Peces abisales</td>\n",
       "      <td>Ranas arborícolas</td>\n",
       "      <td>Cuervos</td>\n",
       "    </tr>\n",
       "    <tr>\n",
       "      <th>96</th>\n",
       "      <td>97</td>\n",
       "      <td>64</td>\n",
       "      <td>Leones</td>\n",
       "      <td>Tuátaras de Nueva Zelanda</td>\n",
       "      <td>Bacalaos</td>\n",
       "      <td>Gallipatos</td>\n",
       "      <td>Loros</td>\n",
       "    </tr>\n",
       "    <tr>\n",
       "      <th>97</th>\n",
       "      <td>98</td>\n",
       "      <td>52</td>\n",
       "      <td>Seres humanos</td>\n",
       "      <td>Víboras</td>\n",
       "      <td>Peces espada</td>\n",
       "      <td>Lisorofios (extintos)</td>\n",
       "      <td>Pelícanos</td>\n",
       "    </tr>\n",
       "    <tr>\n",
       "      <th>98</th>\n",
       "      <td>99</td>\n",
       "      <td>11</td>\n",
       "      <td>Hienas</td>\n",
       "      <td>Pterosaurios (extintos)</td>\n",
       "      <td>Esturiones</td>\n",
       "      <td>Salamandras gigantes chinas</td>\n",
       "      <td>Pelícanos</td>\n",
       "    </tr>\n",
       "    <tr>\n",
       "      <th>99</th>\n",
       "      <td>100</td>\n",
       "      <td>4</td>\n",
       "      <td>Caballos</td>\n",
       "      <td>Tuátaras de Nueva Zelanda</td>\n",
       "      <td>Celacantos (extintos)</td>\n",
       "      <td>Salamandras comunes</td>\n",
       "      <td>Pavos</td>\n",
       "    </tr>\n",
       "  </tbody>\n",
       "</table>\n",
       "</div>"
      ],
      "text/plain": [
       "     Id  Lider      Mamíferos                         Reptiles  \\\n",
       "0     1     33          Gatos        Tuátaras de Nueva Zelanda   \n",
       "1     2     90   Rinocerontes               Dragones de Komodo   \n",
       "2     3     39       Caballos               Dragones de Komodo   \n",
       "3     4     39          Vacas                       Aligátores   \n",
       "4     5     15  Seres humanos               Tortugas galápagos   \n",
       "5     6     80         Perros                          Víboras   \n",
       "6     7     86      Elefantes  Lagartos voladores australianos   \n",
       "7     8    100      Elefantes              Tortugas terrestres   \n",
       "8     9    100         Ovejas                         Luciones   \n",
       "9    10     76         Leones              Tortugas terrestres   \n",
       "10   11     37      Capibaras                       Aligátores   \n",
       "11   12      2         Perros               Dragones de Komodo   \n",
       "12   13     17       Ballenas                          Iguanas   \n",
       "13   14     30         Perros                       Cocodrilos   \n",
       "14   15     86         Perros                       Basiliscos   \n",
       "15   16     99         Perros              Tortugas terrestres   \n",
       "16   17     27       Delfines                          Víboras   \n",
       "17   18     51         Hienas           Dinosaurios (extintos)   \n",
       "18   19     25      Capibaras                       Camaleones   \n",
       "19   20     86        Gorilas  Lagartos voladores australianos   \n",
       "20   21      4       Ballenas                          Víboras   \n",
       "21   22     35        Jirafas                       Aligátores   \n",
       "22   23     93         Hienas               Tortugas galápagos   \n",
       "23   24     76        Jirafas               Boas constrictoras   \n",
       "24   25     74       Ballenas        Tuátaras de Nueva Zelanda   \n",
       "25   26     60        Jirafas               Tortugas galápagos   \n",
       "26   27     37          Vacas                Monstruos de Gila   \n",
       "27   28     75         Hienas                          Víboras   \n",
       "28   29     80       Delfines                          Iguanas   \n",
       "29   30     86  Seres humanos                          Varanos   \n",
       "30   31     84        Ratones               Tortugas acuáticas   \n",
       "31   32     94         Ovejas                       Cocodrilos   \n",
       "32   33     66      Elefantes                          Iguanas   \n",
       "33   34     80       Delfines  Lagartos voladores australianos   \n",
       "34   35     87        Jirafas                       Aligátores   \n",
       "35   36     46         Hienas                       Cocodrilos   \n",
       "36   37     14  Seres humanos           Dinosaurios (extintos)   \n",
       "37   38     49        Ratones               Lagartijas comunes   \n",
       "38   39     90       Caballos               Tortugas acuáticas   \n",
       "39   40     64  Seres humanos           Mosasaurios (extintos)   \n",
       "40   41     49      Capibaras                          Víboras   \n",
       "41   42     47          Orcas               Tortugas acuáticas   \n",
       "42   43     12      Elefantes               Tortugas acuáticas   \n",
       "43   44     17         Hienas  Lagartos voladores australianos   \n",
       "44   45     88         Leones                       Basiliscos   \n",
       "45   46     51       Caballos                Monstruos de Gila   \n",
       "46   47     49       Canguros               Dragones de Komodo   \n",
       "47   48     94       Delfines                       Aligátores   \n",
       "48   49     96        Jirafas                         Luciones   \n",
       "49   50     81          Gatos                       Aligátores   \n",
       "50   51     17         Hienas               Tortugas acuáticas   \n",
       "51   52     17      Elefantes          Pterosaurios (extintos)   \n",
       "52   53     39       Delfines                          Iguanas   \n",
       "53   54     60          Vacas                       Aligátores   \n",
       "54   55     91   Rinocerontes                       Basiliscos   \n",
       "55   56      4      Capibaras                Monstruos de Gila   \n",
       "56   57     23         Leones          Pterosaurios (extintos)   \n",
       "57   58     11        Jirafas                       Basiliscos   \n",
       "58   59     97        Jirafas          Pterosaurios (extintos)   \n",
       "59   60      4          Gatos               Tortugas acuáticas   \n",
       "60   61     76         Leones                       Camaleones   \n",
       "61   62     23        Jirafas                Monstruos de Gila   \n",
       "62   63     78         Ovejas               Dragones de Komodo   \n",
       "63   64     65         Ovejas                          Varanos   \n",
       "64   65     77         Ovejas              Tortugas terrestres   \n",
       "65   66     19   Rinocerontes                       Camaleones   \n",
       "66   67     35     Chimpancés                       Basiliscos   \n",
       "67   68     86         Hienas               Dragones de Komodo   \n",
       "68   69     99  Seres humanos               Dragones de Komodo   \n",
       "69   70     48      Capibaras        Tuátaras de Nueva Zelanda   \n",
       "70   71     86        Ratones               Dragones de Komodo   \n",
       "71   72     67          Gatos               Dragones de Komodo   \n",
       "72   73     47         Perros                Monstruos de Gila   \n",
       "73   74     97        Ratones                Monstruos de Gila   \n",
       "74   75     30      Elefantes           Mosasaurios (extintos)   \n",
       "75   76     14         Perros              Tortugas terrestres   \n",
       "76   77     22         Cabras           Mosasaurios (extintos)   \n",
       "77   78     55        Ratones           Mosasaurios (extintos)   \n",
       "78   79     61         Hienas                       Cocodrilos   \n",
       "79   80     89   Rinocerontes                       Cocodrilos   \n",
       "80   81     38     Chimpancés           Mosasaurios (extintos)   \n",
       "81   82     47        Gorilas  Lagartos voladores australianos   \n",
       "82   83     45         Perros               Tortugas acuáticas   \n",
       "83   84     88       Canguros                         Luciones   \n",
       "84   85     73       Caballos               Boas constrictoras   \n",
       "85   86     58         Hienas          Pterosaurios (extintos)   \n",
       "86   87      2         Hienas                       Camaleones   \n",
       "87   88      3         Hienas                       Cocodrilos   \n",
       "88   89     72         Hienas              Tortugas terrestres   \n",
       "89   90     92   Rinocerontes               Boas constrictoras   \n",
       "90   91     16         Cabras                          Iguanas   \n",
       "91   92     99         Leones                          Varanos   \n",
       "92   93    100          Gatos                         Luciones   \n",
       "93   94     18     Chimpancés                       Cocodrilos   \n",
       "94   95     48        Ratones               Dragones de Komodo   \n",
       "95   96     22          Orcas          Pterosaurios (extintos)   \n",
       "96   97     64         Leones        Tuátaras de Nueva Zelanda   \n",
       "97   98     52  Seres humanos                          Víboras   \n",
       "98   99     11         Hienas          Pterosaurios (extintos)   \n",
       "99  100      4       Caballos        Tuátaras de Nueva Zelanda   \n",
       "\n",
       "                    Peces                     Anfibios                 Aves  \n",
       "0               Lenguados      Sapos de caña venenosos              Águilas  \n",
       "1            Peces payaso              Ranas de Darwin             Cigüeñas  \n",
       "2              Peces vela        Lisorofios (extintos)             Gallinas  \n",
       "3               Lenguados            Ranas arborícolas             Cóndores  \n",
       "4                 Pirañas          Salamandras comunes            Colibríes  \n",
       "5                  Atunes                      Proteos                Patos  \n",
       "6   Celacantos (extintos)        Lisorofios (extintos)  Pájaros carpinteros  \n",
       "7         Anguilas de mar                     Ajolotes           Guacamayas  \n",
       "8                  Atunes            Ranas arborícolas            Colibríes  \n",
       "9       Las agujas de río       Salamandras sin pulmón             Lechuzas  \n",
       "10             Peces luna        Lisorofios (extintos)  Pájaros carpinteros  \n",
       "11           Peces payaso                   Gallipatos                Patos  \n",
       "12                 Carpas                   Gallipatos          Pavorreales  \n",
       "13         Peces abisales                   Gallipatos              Águilas  \n",
       "14             Peces luna              Ranas de Darwin            Pelícanos  \n",
       "15                Pirañas              Ranas de Darwin             Cigüeñas  \n",
       "16                Pirañas               Ranas arcoíris              Águilas  \n",
       "17      Las agujas de río                     Necturos                Patos  \n",
       "18  Celacantos (extintos)              Ranas venenosas                Patos  \n",
       "19          Koi japoneses                Sapos comunes              Águilas  \n",
       "20             Peces sapo        Lisorofios (extintos)             Lechuzas  \n",
       "21  Los tiburones ballena              Ranas de Darwin             Faisanes  \n",
       "22                 Atunes                      Proteos             Gallinas  \n",
       "23                Pirañas              Ranas venenosas              Buitres  \n",
       "24             Peces vela                     Necturos           Avestruces  \n",
       "25           Peces espada          Ranas de Seychelles            Pelícanos  \n",
       "26             Peces sapo         Ranas toro africanas            Colibríes  \n",
       "27        Anguilas de mar          Ranas de Seychelles          Pavorreales  \n",
       "28  Celacantos (extintos)             Sapos corredores             Cóndores  \n",
       "29        Anguilas de mar                     Necturos             Cigüeñas  \n",
       "30      Las agujas de río               Sapos gigantes                Patos  \n",
       "31             Peces sapo              Ranas venenosas             Canarios  \n",
       "32             Peces vela                   Gallipatos           Avestruces  \n",
       "33         Peces abisales      Sapos de caña venenosos              Cuervos  \n",
       "34                Pirañas       Salamandras sin pulmón                Patos  \n",
       "35             Barracudas                   Gallipatos            Colibríes  \n",
       "36             Barracudas                     Necturos              Águilas  \n",
       "37         Peces abisales               Sapos gigantes           Avestruces  \n",
       "38            Peces globo             Sapos corredores          Pavorreales  \n",
       "39              Lenguados        Lisorofios (extintos)            Colibríes  \n",
       "40                 Atunes         Ranas toro africanas  Pájaros carpinteros  \n",
       "41         Peces abisales              Ranas venenosas             Canarios  \n",
       "42           Peces espada               Sapos gigantes           Avestruces  \n",
       "43                 Carpas             Sapos corredores           Guacamayas  \n",
       "44             Barracudas            Ranas arborícolas             Faisanes  \n",
       "45             Peces luna             Sapos corredores             Gaviotas  \n",
       "46              Lenguados       Salamandras sin pulmón              Buitres  \n",
       "47             Barracudas        Lisorofios (extintos)             Canarios  \n",
       "48             Peces vela                     Ajolotes            Pelícanos  \n",
       "49           Peces espada                      Proteos              Buitres  \n",
       "50           Peces espada              Ranas de Darwin             Gallinas  \n",
       "51               Bacalaos  Salamandras gigantes chinas             Cóndores  \n",
       "52        Anguilas de mar                      Proteos              Águilas  \n",
       "53           Peces payaso                     Necturos             Cigüeñas  \n",
       "54                 Atunes      Sapos de caña venenosos              Buitres  \n",
       "55           Peces payaso            Ranas arborícolas              Buitres  \n",
       "56         Peces abisales      Sapos de caña venenosos              Águilas  \n",
       "57                Pirañas             Sapos corredores           Avestruces  \n",
       "58                Pirañas      Microsaurios (extintos)           Avestruces  \n",
       "59         Peces abisales         Ranas toro africanas          Pavorreales  \n",
       "60           Peces payaso                Sapos comunes             Lechuzas  \n",
       "61              Lenguados               Ranas arcoíris              Águilas  \n",
       "62           Peces payaso      Sapos de caña venenosos              Tucanes  \n",
       "63              Lenguados                      Proteos             Cóndores  \n",
       "64           Peces espada                     Necturos  Pájaros carpinteros  \n",
       "65  Celacantos (extintos)              Ranas venenosas             Lechuzas  \n",
       "66  Los tiburones ballena             Sapos corredores              Águilas  \n",
       "67  Los tiburones ballena              Ranas venenosas            Colibríes  \n",
       "68                 Carpas              Ranas venenosas                Pavos  \n",
       "69              Tiburones          Ranas de Seychelles            Pelícanos  \n",
       "70             Peces sapo       Salamandras sin pulmón              Cuervos  \n",
       "71         Peces abisales                      Proteos             Lechuzas  \n",
       "72             Peces vela            Ranas arborícolas              Águilas  \n",
       "73             Barracudas      Sapos de caña venenosos            Pelícanos  \n",
       "74                 Atunes        Lisorofios (extintos)           Avestruces  \n",
       "75                 Carpas              Ranas venenosas              Tucanes  \n",
       "76              Tiburones  Salamandras gigantes chinas            Colibríes  \n",
       "77            Peces globo        Lisorofios (extintos)              Cuervos  \n",
       "78          Koi japoneses       Salamandras sin pulmón             Cigüeñas  \n",
       "79               Bacalaos          Ranas de Seychelles          Pavorreales  \n",
       "80        Anguilas de mar  Salamandras gigantes chinas             Gallinas  \n",
       "81         Peces abisales          Ranas de Seychelles             Faisanes  \n",
       "82              Lenguados            Ranas arborícolas  Pájaros carpinteros  \n",
       "83                 Carpas         Ranas toro africanas           Avestruces  \n",
       "84             Peces luna                Sapos comunes            Pelícanos  \n",
       "85           Peces payaso               Ranas arcoíris                Pavos  \n",
       "86            Peces globo              Ranas de Darwin             Gallinas  \n",
       "87  Celacantos (extintos)                   Gallipatos                Pavos  \n",
       "88             Barracudas  Salamandras gigantes chinas             Gaviotas  \n",
       "89                 Carpas             Sapos corredores            Colibríes  \n",
       "90                Pirañas      Sapos de caña venenosos              Buitres  \n",
       "91                 Carpas          Salamandras comunes             Gaviotas  \n",
       "92           Peces payaso               Ranas arcoíris             Lechuzas  \n",
       "93      Las agujas de río              Ranas venenosas           Guacamayas  \n",
       "94           Peces espada          Salamandras comunes             Cóndores  \n",
       "95         Peces abisales            Ranas arborícolas              Cuervos  \n",
       "96               Bacalaos                   Gallipatos                Loros  \n",
       "97           Peces espada        Lisorofios (extintos)            Pelícanos  \n",
       "98             Esturiones  Salamandras gigantes chinas            Pelícanos  \n",
       "99  Celacantos (extintos)          Salamandras comunes                Pavos  "
      ]
     },
     "metadata": {},
     "output_type": "display_data"
    },
    {
     "data": {
      "text/html": [
       "<div>\n",
       "<style scoped>\n",
       "    .dataframe tbody tr th:only-of-type {\n",
       "        vertical-align: middle;\n",
       "    }\n",
       "\n",
       "    .dataframe tbody tr th {\n",
       "        vertical-align: top;\n",
       "    }\n",
       "\n",
       "    .dataframe thead th {\n",
       "        text-align: right;\n",
       "    }\n",
       "</style>\n",
       "<table border=\"1\" class=\"dataframe\">\n",
       "  <thead>\n",
       "    <tr style=\"text-align: right;\">\n",
       "      <th></th>\n",
       "      <th>Id</th>\n",
       "      <th>Lider</th>\n",
       "      <th>Mamíferos</th>\n",
       "      <th>Herbívoros</th>\n",
       "      <th>Carnívoros</th>\n",
       "      <th>Omnívoros</th>\n",
       "    </tr>\n",
       "  </thead>\n",
       "  <tbody>\n",
       "    <tr>\n",
       "      <th>0</th>\n",
       "      <td>1</td>\n",
       "      <td>22</td>\n",
       "      <td>Canguros</td>\n",
       "      <td>Antílopes</td>\n",
       "      <td>Tiburón tigre</td>\n",
       "      <td>Manatí</td>\n",
       "    </tr>\n",
       "    <tr>\n",
       "      <th>1</th>\n",
       "      <td>2</td>\n",
       "      <td>56</td>\n",
       "      <td>Gorilas</td>\n",
       "      <td>Ciervos</td>\n",
       "      <td></td>\n",
       "      <td>Monos</td>\n",
       "    </tr>\n",
       "    <tr>\n",
       "      <th>2</th>\n",
       "      <td>3</td>\n",
       "      <td>10</td>\n",
       "      <td>Cabras</td>\n",
       "      <td>Antílopes</td>\n",
       "      <td>Serpiente de coral</td>\n",
       "      <td>Coatí</td>\n",
       "    </tr>\n",
       "    <tr>\n",
       "      <th>3</th>\n",
       "      <td>4</td>\n",
       "      <td>94</td>\n",
       "      <td>Ballenas</td>\n",
       "      <td>Jirafas</td>\n",
       "      <td>Cuervo</td>\n",
       "      <td>Langostas</td>\n",
       "    </tr>\n",
       "    <tr>\n",
       "      <th>4</th>\n",
       "      <td>5</td>\n",
       "      <td>89</td>\n",
       "      <td>Leones</td>\n",
       "      <td>Ardillas</td>\n",
       "      <td>Cachalotes</td>\n",
       "      <td>Cangrejos</td>\n",
       "    </tr>\n",
       "    <tr>\n",
       "      <th>5</th>\n",
       "      <td>6</td>\n",
       "      <td>67</td>\n",
       "      <td>Rinocerontes</td>\n",
       "      <td>Tapires</td>\n",
       "      <td>Cobras</td>\n",
       "      <td>Escarabajo de cementerio</td>\n",
       "    </tr>\n",
       "    <tr>\n",
       "      <th>6</th>\n",
       "      <td>7</td>\n",
       "      <td>87</td>\n",
       "      <td>Hienas</td>\n",
       "      <td>Cabras</td>\n",
       "      <td>Mapaches</td>\n",
       "      <td>Gallinas</td>\n",
       "    </tr>\n",
       "    <tr>\n",
       "      <th>7</th>\n",
       "      <td>8</td>\n",
       "      <td>66</td>\n",
       "      <td>Vacas</td>\n",
       "      <td>Burros</td>\n",
       "      <td>Pitón</td>\n",
       "      <td>Ardilla</td>\n",
       "    </tr>\n",
       "    <tr>\n",
       "      <th>8</th>\n",
       "      <td>9</td>\n",
       "      <td>63</td>\n",
       "      <td>Perros</td>\n",
       "      <td>Conejos</td>\n",
       "      <td>Gato montés</td>\n",
       "      <td>Tucán</td>\n",
       "    </tr>\n",
       "    <tr>\n",
       "      <th>9</th>\n",
       "      <td>10</td>\n",
       "      <td>36</td>\n",
       "      <td>Gatos</td>\n",
       "      <td>Cabras</td>\n",
       "      <td>Kinkajú</td>\n",
       "      <td>Mofetas</td>\n",
       "    </tr>\n",
       "    <tr>\n",
       "      <th>10</th>\n",
       "      <td>11</td>\n",
       "      <td>92</td>\n",
       "      <td>Gatos</td>\n",
       "      <td>Cobayos</td>\n",
       "      <td>Demonio de Tasmania</td>\n",
       "      <td>Coatí</td>\n",
       "    </tr>\n",
       "    <tr>\n",
       "      <th>11</th>\n",
       "      <td>12</td>\n",
       "      <td>77</td>\n",
       "      <td>Ratones</td>\n",
       "      <td>Alpacas</td>\n",
       "      <td>Tiburón martillo</td>\n",
       "      <td>Emú</td>\n",
       "    </tr>\n",
       "    <tr>\n",
       "      <th>12</th>\n",
       "      <td>13</td>\n",
       "      <td>98</td>\n",
       "      <td>Caballos</td>\n",
       "      <td>Vacas</td>\n",
       "      <td>Mangostas</td>\n",
       "      <td>Zorrillos</td>\n",
       "    </tr>\n",
       "    <tr>\n",
       "      <th>13</th>\n",
       "      <td>14</td>\n",
       "      <td>81</td>\n",
       "      <td>Ovejas</td>\n",
       "      <td>Jirafas</td>\n",
       "      <td>Ballena jorobada</td>\n",
       "      <td>Cangrejos</td>\n",
       "    </tr>\n",
       "    <tr>\n",
       "      <th>14</th>\n",
       "      <td>15</td>\n",
       "      <td>18</td>\n",
       "      <td>Vacas</td>\n",
       "      <td>Tortugas</td>\n",
       "      <td>Gineta común</td>\n",
       "      <td>Ayeaye</td>\n",
       "    </tr>\n",
       "    <tr>\n",
       "      <th>15</th>\n",
       "      <td>16</td>\n",
       "      <td>9</td>\n",
       "      <td>Capibaras</td>\n",
       "      <td>Ardillas</td>\n",
       "      <td>Murciélago espectral</td>\n",
       "      <td>Bagres</td>\n",
       "    </tr>\n",
       "    <tr>\n",
       "      <th>16</th>\n",
       "      <td>17</td>\n",
       "      <td>20</td>\n",
       "      <td>Gatos</td>\n",
       "      <td>Conejos</td>\n",
       "      <td></td>\n",
       "      <td>Tejón</td>\n",
       "    </tr>\n",
       "    <tr>\n",
       "      <th>17</th>\n",
       "      <td>18</td>\n",
       "      <td>76</td>\n",
       "      <td>Chimpancés</td>\n",
       "      <td>Cobayos</td>\n",
       "      <td>Kinkajú</td>\n",
       "      <td>Coyotes</td>\n",
       "    </tr>\n",
       "    <tr>\n",
       "      <th>18</th>\n",
       "      <td>19</td>\n",
       "      <td>77</td>\n",
       "      <td>Delfines</td>\n",
       "      <td>Cabras</td>\n",
       "      <td>Delfín</td>\n",
       "      <td>Grullas</td>\n",
       "    </tr>\n",
       "    <tr>\n",
       "      <th>19</th>\n",
       "      <td>20</td>\n",
       "      <td>20</td>\n",
       "      <td>Delfines</td>\n",
       "      <td>Cobayos</td>\n",
       "      <td>Kinkajú</td>\n",
       "      <td>Gansos</td>\n",
       "    </tr>\n",
       "    <tr>\n",
       "      <th>20</th>\n",
       "      <td>21</td>\n",
       "      <td>94</td>\n",
       "      <td>Rinocerontes</td>\n",
       "      <td>Jirafas</td>\n",
       "      <td>Guepardos</td>\n",
       "      <td>Ratón</td>\n",
       "    </tr>\n",
       "    <tr>\n",
       "      <th>21</th>\n",
       "      <td>22</td>\n",
       "      <td>27</td>\n",
       "      <td>Hienas</td>\n",
       "      <td>Tapires</td>\n",
       "      <td>Tiburón tigre</td>\n",
       "      <td>Perezosos</td>\n",
       "    </tr>\n",
       "    <tr>\n",
       "      <th>22</th>\n",
       "      <td>23</td>\n",
       "      <td>3</td>\n",
       "      <td>Chimpancés</td>\n",
       "      <td>Elefante</td>\n",
       "      <td>Pitón</td>\n",
       "      <td>Fochas</td>\n",
       "    </tr>\n",
       "    <tr>\n",
       "      <th>23</th>\n",
       "      <td>24</td>\n",
       "      <td>69</td>\n",
       "      <td>Cabras</td>\n",
       "      <td>Caballos</td>\n",
       "      <td>Hurón</td>\n",
       "      <td>Ornitorrinco</td>\n",
       "    </tr>\n",
       "    <tr>\n",
       "      <th>24</th>\n",
       "      <td>25</td>\n",
       "      <td>69</td>\n",
       "      <td>Caballos</td>\n",
       "      <td>Cobayos</td>\n",
       "      <td>Lobos</td>\n",
       "      <td>Bengalí rojo</td>\n",
       "    </tr>\n",
       "    <tr>\n",
       "      <th>25</th>\n",
       "      <td>26</td>\n",
       "      <td>29</td>\n",
       "      <td>Orcas</td>\n",
       "      <td>Canguro</td>\n",
       "      <td>Cobras</td>\n",
       "      <td>Seres humanos</td>\n",
       "    </tr>\n",
       "    <tr>\n",
       "      <th>26</th>\n",
       "      <td>27</td>\n",
       "      <td>77</td>\n",
       "      <td>Ballenas</td>\n",
       "      <td>Canguro</td>\n",
       "      <td>Mapaches</td>\n",
       "      <td>Zorros</td>\n",
       "    </tr>\n",
       "    <tr>\n",
       "      <th>27</th>\n",
       "      <td>28</td>\n",
       "      <td>28</td>\n",
       "      <td>Orcas</td>\n",
       "      <td>Cebras</td>\n",
       "      <td></td>\n",
       "      <td>Coyotes</td>\n",
       "    </tr>\n",
       "    <tr>\n",
       "      <th>28</th>\n",
       "      <td>29</td>\n",
       "      <td>56</td>\n",
       "      <td>Orcas</td>\n",
       "      <td>Cebras</td>\n",
       "      <td>Percas</td>\n",
       "      <td>Zarigüeyas</td>\n",
       "    </tr>\n",
       "    <tr>\n",
       "      <th>29</th>\n",
       "      <td>30</td>\n",
       "      <td>77</td>\n",
       "      <td>Ballenas</td>\n",
       "      <td>Jirafas</td>\n",
       "      <td>Cóndor andino</td>\n",
       "      <td>Gorrión</td>\n",
       "    </tr>\n",
       "    <tr>\n",
       "      <th>30</th>\n",
       "      <td>31</td>\n",
       "      <td>67</td>\n",
       "      <td>Chimpancés</td>\n",
       "      <td>Alpacas</td>\n",
       "      <td>Murciélago pescador</td>\n",
       "      <td>Bacalaos</td>\n",
       "    </tr>\n",
       "    <tr>\n",
       "      <th>31</th>\n",
       "      <td>32</td>\n",
       "      <td>25</td>\n",
       "      <td>Hienas</td>\n",
       "      <td>Caballos</td>\n",
       "      <td>Pantera negra</td>\n",
       "      <td>Osos</td>\n",
       "    </tr>\n",
       "    <tr>\n",
       "      <th>32</th>\n",
       "      <td>33</td>\n",
       "      <td>99</td>\n",
       "      <td>Chimpancés</td>\n",
       "      <td>Canguro</td>\n",
       "      <td>Anacondas</td>\n",
       "      <td>Manatí</td>\n",
       "    </tr>\n",
       "    <tr>\n",
       "      <th>33</th>\n",
       "      <td>34</td>\n",
       "      <td>66</td>\n",
       "      <td>Chimpancés</td>\n",
       "      <td>Cebras</td>\n",
       "      <td>Chacal</td>\n",
       "      <td>Tortugas</td>\n",
       "    </tr>\n",
       "    <tr>\n",
       "      <th>34</th>\n",
       "      <td>35</td>\n",
       "      <td>11</td>\n",
       "      <td>Gorilas</td>\n",
       "      <td>Alpacas</td>\n",
       "      <td>Atún</td>\n",
       "      <td>Casuarios</td>\n",
       "    </tr>\n",
       "    <tr>\n",
       "      <th>35</th>\n",
       "      <td>36</td>\n",
       "      <td>10</td>\n",
       "      <td>Ballenas</td>\n",
       "      <td>Cobayos</td>\n",
       "      <td>Tollo cigarro</td>\n",
       "      <td>Zorzal</td>\n",
       "    </tr>\n",
       "    <tr>\n",
       "      <th>36</th>\n",
       "      <td>37</td>\n",
       "      <td>65</td>\n",
       "      <td>Gatos</td>\n",
       "      <td>Cabras</td>\n",
       "      <td>Buitre quebrantahuesos</td>\n",
       "      <td>Mirlos</td>\n",
       "    </tr>\n",
       "    <tr>\n",
       "      <th>37</th>\n",
       "      <td>38</td>\n",
       "      <td>74</td>\n",
       "      <td>Jirafas</td>\n",
       "      <td>Alpacas</td>\n",
       "      <td>Cobras</td>\n",
       "      <td>Casuarios</td>\n",
       "    </tr>\n",
       "    <tr>\n",
       "      <th>38</th>\n",
       "      <td>39</td>\n",
       "      <td>28</td>\n",
       "      <td>Jirafas</td>\n",
       "      <td>Ciervos</td>\n",
       "      <td></td>\n",
       "      <td>Gorrión</td>\n",
       "    </tr>\n",
       "    <tr>\n",
       "      <th>39</th>\n",
       "      <td>40</td>\n",
       "      <td>39</td>\n",
       "      <td>Hienas</td>\n",
       "      <td>Canguro</td>\n",
       "      <td>Ballena jorobada</td>\n",
       "      <td>Gaviotas</td>\n",
       "    </tr>\n",
       "    <tr>\n",
       "      <th>40</th>\n",
       "      <td>41</td>\n",
       "      <td>20</td>\n",
       "      <td>Canguros</td>\n",
       "      <td>Tapires</td>\n",
       "      <td>Hurón</td>\n",
       "      <td>Ardilla</td>\n",
       "    </tr>\n",
       "    <tr>\n",
       "      <th>41</th>\n",
       "      <td>42</td>\n",
       "      <td>65</td>\n",
       "      <td>Cabras</td>\n",
       "      <td>Rinocerontes</td>\n",
       "      <td>Garduña</td>\n",
       "      <td>Gorilas</td>\n",
       "    </tr>\n",
       "    <tr>\n",
       "      <th>42</th>\n",
       "      <td>43</td>\n",
       "      <td>6</td>\n",
       "      <td>Gatos</td>\n",
       "      <td>Alpacas</td>\n",
       "      <td>Tejón</td>\n",
       "      <td>Gansos</td>\n",
       "    </tr>\n",
       "    <tr>\n",
       "      <th>43</th>\n",
       "      <td>44</td>\n",
       "      <td>98</td>\n",
       "      <td>Orcas</td>\n",
       "      <td>Ardillas</td>\n",
       "      <td>Guepardos</td>\n",
       "      <td>Gansos</td>\n",
       "    </tr>\n",
       "    <tr>\n",
       "      <th>44</th>\n",
       "      <td>45</td>\n",
       "      <td>85</td>\n",
       "      <td>Canguros</td>\n",
       "      <td>Burros</td>\n",
       "      <td>Marabú</td>\n",
       "      <td>Gansos</td>\n",
       "    </tr>\n",
       "    <tr>\n",
       "      <th>45</th>\n",
       "      <td>46</td>\n",
       "      <td>39</td>\n",
       "      <td>Orcas</td>\n",
       "      <td>Ardillas</td>\n",
       "      <td>Oso pardo</td>\n",
       "      <td>Mirlos</td>\n",
       "    </tr>\n",
       "    <tr>\n",
       "      <th>46</th>\n",
       "      <td>47</td>\n",
       "      <td>101</td>\n",
       "      <td>Cabras</td>\n",
       "      <td>Ciervos</td>\n",
       "      <td>Oso pardo</td>\n",
       "      <td>Emú</td>\n",
       "    </tr>\n",
       "    <tr>\n",
       "      <th>47</th>\n",
       "      <td>48</td>\n",
       "      <td>93</td>\n",
       "      <td>Perros</td>\n",
       "      <td>Tortugas</td>\n",
       "      <td>León marino</td>\n",
       "      <td>Cisnes</td>\n",
       "    </tr>\n",
       "    <tr>\n",
       "      <th>48</th>\n",
       "      <td>49</td>\n",
       "      <td>32</td>\n",
       "      <td>Ovejas</td>\n",
       "      <td>Canguro</td>\n",
       "      <td>Gato montés</td>\n",
       "      <td>Hormigas</td>\n",
       "    </tr>\n",
       "    <tr>\n",
       "      <th>49</th>\n",
       "      <td>50</td>\n",
       "      <td>26</td>\n",
       "      <td>Perros</td>\n",
       "      <td>Ciervos</td>\n",
       "      <td>Focas</td>\n",
       "      <td>Ornitorrinco</td>\n",
       "    </tr>\n",
       "    <tr>\n",
       "      <th>50</th>\n",
       "      <td>51</td>\n",
       "      <td>60</td>\n",
       "      <td>Chimpancés</td>\n",
       "      <td>Elefante</td>\n",
       "      <td>Tejón</td>\n",
       "      <td>Pirañas</td>\n",
       "    </tr>\n",
       "    <tr>\n",
       "      <th>51</th>\n",
       "      <td>52</td>\n",
       "      <td>46</td>\n",
       "      <td>Gorilas</td>\n",
       "      <td>Ardillas</td>\n",
       "      <td>Tiburón toro</td>\n",
       "      <td>Tortuga carbonaria</td>\n",
       "    </tr>\n",
       "    <tr>\n",
       "      <th>52</th>\n",
       "      <td>53</td>\n",
       "      <td>83</td>\n",
       "      <td>Ratones</td>\n",
       "      <td>Alpacas</td>\n",
       "      <td>Albatros</td>\n",
       "      <td>Mirlos</td>\n",
       "    </tr>\n",
       "    <tr>\n",
       "      <th>53</th>\n",
       "      <td>54</td>\n",
       "      <td>20</td>\n",
       "      <td>Perros</td>\n",
       "      <td>Cabras</td>\n",
       "      <td>Tigre siberiano</td>\n",
       "      <td>Mofetas</td>\n",
       "    </tr>\n",
       "    <tr>\n",
       "      <th>54</th>\n",
       "      <td>55</td>\n",
       "      <td>90</td>\n",
       "      <td>Perros</td>\n",
       "      <td>Cebras</td>\n",
       "      <td>Gato montés</td>\n",
       "      <td>Erizos</td>\n",
       "    </tr>\n",
       "    <tr>\n",
       "      <th>55</th>\n",
       "      <td>56</td>\n",
       "      <td>51</td>\n",
       "      <td>Ballenas</td>\n",
       "      <td>Tortugas</td>\n",
       "      <td>Linsangs</td>\n",
       "      <td>Manatí</td>\n",
       "    </tr>\n",
       "    <tr>\n",
       "      <th>56</th>\n",
       "      <td>57</td>\n",
       "      <td>97</td>\n",
       "      <td>Ballenas</td>\n",
       "      <td>Burros</td>\n",
       "      <td>Secretario</td>\n",
       "      <td>Nutria</td>\n",
       "    </tr>\n",
       "    <tr>\n",
       "      <th>57</th>\n",
       "      <td>58</td>\n",
       "      <td>54</td>\n",
       "      <td>Chimpancés</td>\n",
       "      <td>Vacas</td>\n",
       "      <td>Buitre leonado</td>\n",
       "      <td>Chimpancé</td>\n",
       "    </tr>\n",
       "    <tr>\n",
       "      <th>58</th>\n",
       "      <td>59</td>\n",
       "      <td>44</td>\n",
       "      <td>Delfines</td>\n",
       "      <td>Vacas</td>\n",
       "      <td>Tortuga lagarto</td>\n",
       "      <td>Ardilla</td>\n",
       "    </tr>\n",
       "    <tr>\n",
       "      <th>59</th>\n",
       "      <td>60</td>\n",
       "      <td>23</td>\n",
       "      <td>Ratones</td>\n",
       "      <td>Koalas</td>\n",
       "      <td>Cocodrilos</td>\n",
       "      <td>Bengalí rojo</td>\n",
       "    </tr>\n",
       "    <tr>\n",
       "      <th>60</th>\n",
       "      <td>61</td>\n",
       "      <td>10</td>\n",
       "      <td>Seres humanos</td>\n",
       "      <td>Ovejas</td>\n",
       "      <td></td>\n",
       "      <td>Tejón</td>\n",
       "    </tr>\n",
       "    <tr>\n",
       "      <th>61</th>\n",
       "      <td>62</td>\n",
       "      <td>20</td>\n",
       "      <td>Hienas</td>\n",
       "      <td>Cobayos</td>\n",
       "      <td>Alimoche</td>\n",
       "      <td>Cucaracha</td>\n",
       "    </tr>\n",
       "    <tr>\n",
       "      <th>62</th>\n",
       "      <td>63</td>\n",
       "      <td>23</td>\n",
       "      <td>Ovejas</td>\n",
       "      <td>Cebras</td>\n",
       "      <td>Gecko leopardo</td>\n",
       "      <td>Petirrojos</td>\n",
       "    </tr>\n",
       "    <tr>\n",
       "      <th>63</th>\n",
       "      <td>64</td>\n",
       "      <td>71</td>\n",
       "      <td>Elefantes</td>\n",
       "      <td>Elefante</td>\n",
       "      <td>Mapaches</td>\n",
       "      <td>Lémur</td>\n",
       "    </tr>\n",
       "    <tr>\n",
       "      <th>64</th>\n",
       "      <td>65</td>\n",
       "      <td>57</td>\n",
       "      <td>Cabras</td>\n",
       "      <td>Caballos</td>\n",
       "      <td>Varano del desierto</td>\n",
       "      <td>Tucán</td>\n",
       "    </tr>\n",
       "    <tr>\n",
       "      <th>65</th>\n",
       "      <td>66</td>\n",
       "      <td>57</td>\n",
       "      <td>Hienas</td>\n",
       "      <td>Ciervos</td>\n",
       "      <td>Hienas</td>\n",
       "      <td>Tucán</td>\n",
       "    </tr>\n",
       "    <tr>\n",
       "      <th>66</th>\n",
       "      <td>67</td>\n",
       "      <td>20</td>\n",
       "      <td>Perros</td>\n",
       "      <td>Rinocerontes</td>\n",
       "      <td>Perros</td>\n",
       "      <td>Gatos</td>\n",
       "    </tr>\n",
       "    <tr>\n",
       "      <th>67</th>\n",
       "      <td>68</td>\n",
       "      <td>62</td>\n",
       "      <td>Leones</td>\n",
       "      <td>Conejos</td>\n",
       "      <td>Cóndor de California</td>\n",
       "      <td>Escarabajo de cementerio</td>\n",
       "    </tr>\n",
       "    <tr>\n",
       "      <th>68</th>\n",
       "      <td>69</td>\n",
       "      <td>43</td>\n",
       "      <td>Ratones</td>\n",
       "      <td>Jirafas</td>\n",
       "      <td>Belugas</td>\n",
       "      <td>Perezosos</td>\n",
       "    </tr>\n",
       "    <tr>\n",
       "      <th>69</th>\n",
       "      <td>70</td>\n",
       "      <td>30</td>\n",
       "      <td>Seres humanos</td>\n",
       "      <td>Antílopes</td>\n",
       "      <td>Lechuza</td>\n",
       "      <td>Pirañas</td>\n",
       "    </tr>\n",
       "    <tr>\n",
       "      <th>70</th>\n",
       "      <td>71</td>\n",
       "      <td>55</td>\n",
       "      <td>Caballos</td>\n",
       "      <td>Tortugas</td>\n",
       "      <td>Nutrias</td>\n",
       "      <td>Carpa</td>\n",
       "    </tr>\n",
       "    <tr>\n",
       "      <th>71</th>\n",
       "      <td>72</td>\n",
       "      <td>30</td>\n",
       "      <td>Gatos</td>\n",
       "      <td>Canguro</td>\n",
       "      <td>Tiburón toro</td>\n",
       "      <td>Zorzal</td>\n",
       "    </tr>\n",
       "    <tr>\n",
       "      <th>72</th>\n",
       "      <td>73</td>\n",
       "      <td>28</td>\n",
       "      <td>Elefantes</td>\n",
       "      <td>Koalas</td>\n",
       "      <td>Águila pescadora</td>\n",
       "      <td>Tejón</td>\n",
       "    </tr>\n",
       "    <tr>\n",
       "      <th>73</th>\n",
       "      <td>74</td>\n",
       "      <td>15</td>\n",
       "      <td>Capibaras</td>\n",
       "      <td>Ovejas</td>\n",
       "      <td>Tollo cigarro</td>\n",
       "      <td>Pez arquero</td>\n",
       "    </tr>\n",
       "    <tr>\n",
       "      <th>74</th>\n",
       "      <td>75</td>\n",
       "      <td>45</td>\n",
       "      <td>Hienas</td>\n",
       "      <td>Llamas</td>\n",
       "      <td>Visón europeo</td>\n",
       "      <td>Gorrión</td>\n",
       "    </tr>\n",
       "    <tr>\n",
       "      <th>75</th>\n",
       "      <td>76</td>\n",
       "      <td>42</td>\n",
       "      <td>Jirafas</td>\n",
       "      <td>Caballos</td>\n",
       "      <td>Anacondas</td>\n",
       "      <td>Garza real</td>\n",
       "    </tr>\n",
       "    <tr>\n",
       "      <th>76</th>\n",
       "      <td>77</td>\n",
       "      <td>39</td>\n",
       "      <td>Leones</td>\n",
       "      <td>Ardillas</td>\n",
       "      <td>Martas</td>\n",
       "      <td>Pirañas</td>\n",
       "    </tr>\n",
       "    <tr>\n",
       "      <th>77</th>\n",
       "      <td>78</td>\n",
       "      <td>74</td>\n",
       "      <td>Ballenas</td>\n",
       "      <td>Antílopes</td>\n",
       "      <td>Cobras</td>\n",
       "      <td>Hormigas</td>\n",
       "    </tr>\n",
       "    <tr>\n",
       "      <th>78</th>\n",
       "      <td>79</td>\n",
       "      <td>32</td>\n",
       "      <td>Gatos</td>\n",
       "      <td>Ovejas</td>\n",
       "      <td>Alimoche</td>\n",
       "      <td>Avutarda</td>\n",
       "    </tr>\n",
       "    <tr>\n",
       "      <th>79</th>\n",
       "      <td>80</td>\n",
       "      <td>38</td>\n",
       "      <td>Rinocerontes</td>\n",
       "      <td>Vacas</td>\n",
       "      <td>Marabú</td>\n",
       "      <td>Coyotes</td>\n",
       "    </tr>\n",
       "    <tr>\n",
       "      <th>80</th>\n",
       "      <td>81</td>\n",
       "      <td>14</td>\n",
       "      <td>Caballos</td>\n",
       "      <td>Vacas</td>\n",
       "      <td>Morsa</td>\n",
       "      <td>Cucaracha</td>\n",
       "    </tr>\n",
       "    <tr>\n",
       "      <th>81</th>\n",
       "      <td>82</td>\n",
       "      <td>11</td>\n",
       "      <td>Gatos</td>\n",
       "      <td>Conejos</td>\n",
       "      <td>Demonio de Tasmania</td>\n",
       "      <td>Ratones</td>\n",
       "    </tr>\n",
       "    <tr>\n",
       "      <th>82</th>\n",
       "      <td>83</td>\n",
       "      <td>79</td>\n",
       "      <td>Delfines</td>\n",
       "      <td>Elefante</td>\n",
       "      <td>Gineta manchada</td>\n",
       "      <td>Flamingso</td>\n",
       "    </tr>\n",
       "    <tr>\n",
       "      <th>83</th>\n",
       "      <td>84</td>\n",
       "      <td>31</td>\n",
       "      <td>Capibaras</td>\n",
       "      <td>Tortugas</td>\n",
       "      <td>Gecko leopardo</td>\n",
       "      <td>Humano</td>\n",
       "    </tr>\n",
       "    <tr>\n",
       "      <th>84</th>\n",
       "      <td>85</td>\n",
       "      <td>52</td>\n",
       "      <td>Elefantes</td>\n",
       "      <td>Koalas</td>\n",
       "      <td>Hienas</td>\n",
       "      <td>Tucán</td>\n",
       "    </tr>\n",
       "    <tr>\n",
       "      <th>85</th>\n",
       "      <td>86</td>\n",
       "      <td>17</td>\n",
       "      <td>Vacas</td>\n",
       "      <td>Elefante</td>\n",
       "      <td>Gatos</td>\n",
       "      <td>Cucaracha</td>\n",
       "    </tr>\n",
       "    <tr>\n",
       "      <th>86</th>\n",
       "      <td>87</td>\n",
       "      <td>73</td>\n",
       "      <td>Capibaras</td>\n",
       "      <td>Ovejas</td>\n",
       "      <td>Oso polar</td>\n",
       "      <td>Mirlos</td>\n",
       "    </tr>\n",
       "    <tr>\n",
       "      <th>87</th>\n",
       "      <td>88</td>\n",
       "      <td>11</td>\n",
       "      <td>Ovejas</td>\n",
       "      <td>Alpacas</td>\n",
       "      <td>Lechuza</td>\n",
       "      <td>Pez globo</td>\n",
       "    </tr>\n",
       "    <tr>\n",
       "      <th>88</th>\n",
       "      <td>89</td>\n",
       "      <td>51</td>\n",
       "      <td>Hienas</td>\n",
       "      <td>Tortugas</td>\n",
       "      <td>Gatos</td>\n",
       "      <td>Avestruz</td>\n",
       "    </tr>\n",
       "    <tr>\n",
       "      <th>89</th>\n",
       "      <td>90</td>\n",
       "      <td>18</td>\n",
       "      <td>Leones</td>\n",
       "      <td>Cobayos</td>\n",
       "      <td>Comadrejas</td>\n",
       "      <td>Gorrión</td>\n",
       "    </tr>\n",
       "    <tr>\n",
       "      <th>90</th>\n",
       "      <td>91</td>\n",
       "      <td>34</td>\n",
       "      <td>Delfines</td>\n",
       "      <td>Ciervos</td>\n",
       "      <td>Nutrias</td>\n",
       "      <td>Hormigas</td>\n",
       "    </tr>\n",
       "    <tr>\n",
       "      <th>91</th>\n",
       "      <td>92</td>\n",
       "      <td>59</td>\n",
       "      <td>Leones</td>\n",
       "      <td>Cebras</td>\n",
       "      <td>Tiburón peregrino</td>\n",
       "      <td>Coatí</td>\n",
       "    </tr>\n",
       "    <tr>\n",
       "      <th>92</th>\n",
       "      <td>93</td>\n",
       "      <td>50</td>\n",
       "      <td>Caballos</td>\n",
       "      <td>Ovejas</td>\n",
       "      <td>Caimán</td>\n",
       "      <td>Cucaracha</td>\n",
       "    </tr>\n",
       "    <tr>\n",
       "      <th>93</th>\n",
       "      <td>94</td>\n",
       "      <td>62</td>\n",
       "      <td>Ballenas</td>\n",
       "      <td>Tapires</td>\n",
       "      <td>Gavilán pollero</td>\n",
       "      <td>Cisnes</td>\n",
       "    </tr>\n",
       "    <tr>\n",
       "      <th>94</th>\n",
       "      <td>95</td>\n",
       "      <td>64</td>\n",
       "      <td>Gatos</td>\n",
       "      <td>Ciervos</td>\n",
       "      <td>Cuervo</td>\n",
       "      <td>Ñandú</td>\n",
       "    </tr>\n",
       "    <tr>\n",
       "      <th>95</th>\n",
       "      <td>96</td>\n",
       "      <td>3</td>\n",
       "      <td>Rinocerontes</td>\n",
       "      <td>Vacas</td>\n",
       "      <td>Tollo cigarro</td>\n",
       "      <td>Osos</td>\n",
       "    </tr>\n",
       "    <tr>\n",
       "      <th>96</th>\n",
       "      <td>97</td>\n",
       "      <td>30</td>\n",
       "      <td>Elefantes</td>\n",
       "      <td>Ovejas</td>\n",
       "      <td>Visón europeo</td>\n",
       "      <td>Zorzal</td>\n",
       "    </tr>\n",
       "    <tr>\n",
       "      <th>97</th>\n",
       "      <td>98</td>\n",
       "      <td>35</td>\n",
       "      <td>Seres humanos</td>\n",
       "      <td>Alpacas</td>\n",
       "      <td>Linces</td>\n",
       "      <td>Cisnes</td>\n",
       "    </tr>\n",
       "    <tr>\n",
       "      <th>98</th>\n",
       "      <td>99</td>\n",
       "      <td>61</td>\n",
       "      <td>Gatos</td>\n",
       "      <td>Vacas</td>\n",
       "      <td>Albatros</td>\n",
       "      <td>Calamón</td>\n",
       "    </tr>\n",
       "    <tr>\n",
       "      <th>99</th>\n",
       "      <td>100</td>\n",
       "      <td>61</td>\n",
       "      <td>Seres humanos</td>\n",
       "      <td>Ardillas</td>\n",
       "      <td>León</td>\n",
       "      <td>Urracas</td>\n",
       "    </tr>\n",
       "  </tbody>\n",
       "</table>\n",
       "</div>"
      ],
      "text/plain": [
       "     Id  Lider      Mamíferos    Herbívoros              Carnívoros  \\\n",
       "0     1     22       Canguros     Antílopes           Tiburón tigre   \n",
       "1     2     56        Gorilas       Ciervos                           \n",
       "2     3     10         Cabras     Antílopes      Serpiente de coral   \n",
       "3     4     94       Ballenas       Jirafas                  Cuervo   \n",
       "4     5     89         Leones      Ardillas              Cachalotes   \n",
       "5     6     67   Rinocerontes       Tapires                  Cobras   \n",
       "6     7     87         Hienas        Cabras                Mapaches   \n",
       "7     8     66          Vacas        Burros                   Pitón   \n",
       "8     9     63         Perros       Conejos             Gato montés   \n",
       "9    10     36          Gatos        Cabras                 Kinkajú   \n",
       "10   11     92          Gatos       Cobayos     Demonio de Tasmania   \n",
       "11   12     77        Ratones       Alpacas        Tiburón martillo   \n",
       "12   13     98       Caballos         Vacas               Mangostas   \n",
       "13   14     81         Ovejas       Jirafas        Ballena jorobada   \n",
       "14   15     18          Vacas      Tortugas            Gineta común   \n",
       "15   16      9      Capibaras      Ardillas    Murciélago espectral   \n",
       "16   17     20          Gatos       Conejos                           \n",
       "17   18     76     Chimpancés       Cobayos                 Kinkajú   \n",
       "18   19     77       Delfines        Cabras                  Delfín   \n",
       "19   20     20       Delfines       Cobayos                 Kinkajú   \n",
       "20   21     94   Rinocerontes       Jirafas               Guepardos   \n",
       "21   22     27         Hienas       Tapires           Tiburón tigre   \n",
       "22   23      3     Chimpancés      Elefante                   Pitón   \n",
       "23   24     69         Cabras      Caballos                   Hurón   \n",
       "24   25     69       Caballos       Cobayos                   Lobos   \n",
       "25   26     29          Orcas       Canguro                  Cobras   \n",
       "26   27     77       Ballenas       Canguro                Mapaches   \n",
       "27   28     28          Orcas        Cebras                           \n",
       "28   29     56          Orcas        Cebras                  Percas   \n",
       "29   30     77       Ballenas       Jirafas           Cóndor andino   \n",
       "30   31     67     Chimpancés       Alpacas     Murciélago pescador   \n",
       "31   32     25         Hienas      Caballos           Pantera negra   \n",
       "32   33     99     Chimpancés       Canguro               Anacondas   \n",
       "33   34     66     Chimpancés        Cebras                  Chacal   \n",
       "34   35     11        Gorilas       Alpacas                    Atún   \n",
       "35   36     10       Ballenas       Cobayos           Tollo cigarro   \n",
       "36   37     65          Gatos        Cabras  Buitre quebrantahuesos   \n",
       "37   38     74        Jirafas       Alpacas                  Cobras   \n",
       "38   39     28        Jirafas       Ciervos                           \n",
       "39   40     39         Hienas       Canguro        Ballena jorobada   \n",
       "40   41     20       Canguros       Tapires                   Hurón   \n",
       "41   42     65         Cabras  Rinocerontes                 Garduña   \n",
       "42   43      6          Gatos       Alpacas                   Tejón   \n",
       "43   44     98          Orcas      Ardillas               Guepardos   \n",
       "44   45     85       Canguros        Burros                  Marabú   \n",
       "45   46     39          Orcas      Ardillas               Oso pardo   \n",
       "46   47    101         Cabras       Ciervos               Oso pardo   \n",
       "47   48     93         Perros      Tortugas             León marino   \n",
       "48   49     32         Ovejas       Canguro             Gato montés   \n",
       "49   50     26         Perros       Ciervos                   Focas   \n",
       "50   51     60     Chimpancés      Elefante                   Tejón   \n",
       "51   52     46        Gorilas      Ardillas            Tiburón toro   \n",
       "52   53     83        Ratones       Alpacas                Albatros   \n",
       "53   54     20         Perros        Cabras         Tigre siberiano   \n",
       "54   55     90         Perros        Cebras             Gato montés   \n",
       "55   56     51       Ballenas      Tortugas                Linsangs   \n",
       "56   57     97       Ballenas        Burros              Secretario   \n",
       "57   58     54     Chimpancés         Vacas          Buitre leonado   \n",
       "58   59     44       Delfines         Vacas         Tortuga lagarto   \n",
       "59   60     23        Ratones        Koalas              Cocodrilos   \n",
       "60   61     10  Seres humanos        Ovejas                           \n",
       "61   62     20         Hienas       Cobayos                Alimoche   \n",
       "62   63     23         Ovejas        Cebras          Gecko leopardo   \n",
       "63   64     71      Elefantes      Elefante                Mapaches   \n",
       "64   65     57         Cabras      Caballos     Varano del desierto   \n",
       "65   66     57         Hienas       Ciervos                  Hienas   \n",
       "66   67     20         Perros  Rinocerontes                  Perros   \n",
       "67   68     62         Leones       Conejos    Cóndor de California   \n",
       "68   69     43        Ratones       Jirafas                 Belugas   \n",
       "69   70     30  Seres humanos     Antílopes                 Lechuza   \n",
       "70   71     55       Caballos      Tortugas                 Nutrias   \n",
       "71   72     30          Gatos       Canguro            Tiburón toro   \n",
       "72   73     28      Elefantes        Koalas        Águila pescadora   \n",
       "73   74     15      Capibaras        Ovejas           Tollo cigarro   \n",
       "74   75     45         Hienas        Llamas           Visón europeo   \n",
       "75   76     42        Jirafas      Caballos               Anacondas   \n",
       "76   77     39         Leones      Ardillas                  Martas   \n",
       "77   78     74       Ballenas     Antílopes                  Cobras   \n",
       "78   79     32          Gatos        Ovejas                Alimoche   \n",
       "79   80     38   Rinocerontes         Vacas                  Marabú   \n",
       "80   81     14       Caballos         Vacas                   Morsa   \n",
       "81   82     11          Gatos       Conejos     Demonio de Tasmania   \n",
       "82   83     79       Delfines      Elefante         Gineta manchada   \n",
       "83   84     31      Capibaras      Tortugas          Gecko leopardo   \n",
       "84   85     52      Elefantes        Koalas                  Hienas   \n",
       "85   86     17          Vacas      Elefante                   Gatos   \n",
       "86   87     73      Capibaras        Ovejas               Oso polar   \n",
       "87   88     11         Ovejas       Alpacas                 Lechuza   \n",
       "88   89     51         Hienas      Tortugas                   Gatos   \n",
       "89   90     18         Leones       Cobayos              Comadrejas   \n",
       "90   91     34       Delfines       Ciervos                 Nutrias   \n",
       "91   92     59         Leones        Cebras       Tiburón peregrino   \n",
       "92   93     50       Caballos        Ovejas                  Caimán   \n",
       "93   94     62       Ballenas       Tapires         Gavilán pollero   \n",
       "94   95     64          Gatos       Ciervos                  Cuervo   \n",
       "95   96      3   Rinocerontes         Vacas           Tollo cigarro   \n",
       "96   97     30      Elefantes        Ovejas           Visón europeo   \n",
       "97   98     35  Seres humanos       Alpacas                  Linces   \n",
       "98   99     61          Gatos         Vacas                Albatros   \n",
       "99  100     61  Seres humanos      Ardillas                    León   \n",
       "\n",
       "                   Omnívoros  \n",
       "0                     Manatí  \n",
       "1                      Monos  \n",
       "2                      Coatí  \n",
       "3                  Langostas  \n",
       "4                  Cangrejos  \n",
       "5   Escarabajo de cementerio  \n",
       "6                   Gallinas  \n",
       "7                    Ardilla  \n",
       "8                      Tucán  \n",
       "9                    Mofetas  \n",
       "10                     Coatí  \n",
       "11                       Emú  \n",
       "12                 Zorrillos  \n",
       "13                 Cangrejos  \n",
       "14                    Ayeaye  \n",
       "15                    Bagres  \n",
       "16                     Tejón  \n",
       "17                   Coyotes  \n",
       "18                   Grullas  \n",
       "19                    Gansos  \n",
       "20                     Ratón  \n",
       "21                 Perezosos  \n",
       "22                    Fochas  \n",
       "23              Ornitorrinco  \n",
       "24              Bengalí rojo  \n",
       "25             Seres humanos  \n",
       "26                    Zorros  \n",
       "27                   Coyotes  \n",
       "28                Zarigüeyas  \n",
       "29                   Gorrión  \n",
       "30                  Bacalaos  \n",
       "31                      Osos  \n",
       "32                    Manatí  \n",
       "33                  Tortugas  \n",
       "34                 Casuarios  \n",
       "35                    Zorzal  \n",
       "36                    Mirlos  \n",
       "37                 Casuarios  \n",
       "38                   Gorrión  \n",
       "39                  Gaviotas  \n",
       "40                   Ardilla  \n",
       "41                   Gorilas  \n",
       "42                    Gansos  \n",
       "43                    Gansos  \n",
       "44                    Gansos  \n",
       "45                    Mirlos  \n",
       "46                       Emú  \n",
       "47                    Cisnes  \n",
       "48                  Hormigas  \n",
       "49              Ornitorrinco  \n",
       "50                   Pirañas  \n",
       "51        Tortuga carbonaria  \n",
       "52                    Mirlos  \n",
       "53                   Mofetas  \n",
       "54                    Erizos  \n",
       "55                    Manatí  \n",
       "56                    Nutria  \n",
       "57                 Chimpancé  \n",
       "58                   Ardilla  \n",
       "59              Bengalí rojo  \n",
       "60                     Tejón  \n",
       "61                 Cucaracha  \n",
       "62                Petirrojos  \n",
       "63                     Lémur  \n",
       "64                     Tucán  \n",
       "65                     Tucán  \n",
       "66                     Gatos  \n",
       "67  Escarabajo de cementerio  \n",
       "68                 Perezosos  \n",
       "69                   Pirañas  \n",
       "70                     Carpa  \n",
       "71                    Zorzal  \n",
       "72                     Tejón  \n",
       "73               Pez arquero  \n",
       "74                   Gorrión  \n",
       "75                Garza real  \n",
       "76                   Pirañas  \n",
       "77                  Hormigas  \n",
       "78                  Avutarda  \n",
       "79                   Coyotes  \n",
       "80                 Cucaracha  \n",
       "81                   Ratones  \n",
       "82                 Flamingso  \n",
       "83                    Humano  \n",
       "84                     Tucán  \n",
       "85                 Cucaracha  \n",
       "86                    Mirlos  \n",
       "87                 Pez globo  \n",
       "88                  Avestruz  \n",
       "89                   Gorrión  \n",
       "90                  Hormigas  \n",
       "91                     Coatí  \n",
       "92                 Cucaracha  \n",
       "93                    Cisnes  \n",
       "94                     Ñandú  \n",
       "95                      Osos  \n",
       "96                    Zorzal  \n",
       "97                    Cisnes  \n",
       "98                   Calamón  \n",
       "99                   Urracas  "
      ]
     },
     "metadata": {},
     "output_type": "display_data"
    }
   ],
   "source": [
    "display(df1, df3)"
   ]
  },
  {
   "cell_type": "code",
   "execution_count": 17,
   "id": "36548b5b-770d-43b5-a2f4-1ba8d7d77c75",
   "metadata": {
    "scrolled": true,
    "tags": []
   },
   "outputs": [
    {
     "data": {
      "text/html": [
       "<div>\n",
       "<style scoped>\n",
       "    .dataframe tbody tr th:only-of-type {\n",
       "        vertical-align: middle;\n",
       "    }\n",
       "\n",
       "    .dataframe tbody tr th {\n",
       "        vertical-align: top;\n",
       "    }\n",
       "\n",
       "    .dataframe thead th {\n",
       "        text-align: right;\n",
       "    }\n",
       "</style>\n",
       "<table border=\"1\" class=\"dataframe\">\n",
       "  <thead>\n",
       "    <tr style=\"text-align: right;\">\n",
       "      <th></th>\n",
       "      <th>Id</th>\n",
       "      <th>Lider</th>\n",
       "      <th>Vertebrados</th>\n",
       "      <th>Invertebrados</th>\n",
       "      <th>Ovíparos</th>\n",
       "      <th>Frugívoros</th>\n",
       "      <th>Rumiantes</th>\n",
       "    </tr>\n",
       "  </thead>\n",
       "  <tbody>\n",
       "    <tr>\n",
       "      <th>0</th>\n",
       "      <td>1</td>\n",
       "      <td>17</td>\n",
       "      <td>Seres humanos</td>\n",
       "      <td>Mariposa cervantes</td>\n",
       "      <td>Cocodrilo</td>\n",
       "      <td>Ardillas</td>\n",
       "      <td>Corzos</td>\n",
       "    </tr>\n",
       "    <tr>\n",
       "      <th>1</th>\n",
       "      <td>2</td>\n",
       "      <td>10</td>\n",
       "      <td>Ranas arborícolas</td>\n",
       "      <td>Cucarachas</td>\n",
       "      <td>Pingüino</td>\n",
       "      <td>Chinche del campo</td>\n",
       "      <td>Ciervo de los pantanos</td>\n",
       "    </tr>\n",
       "    <tr>\n",
       "      <th>2</th>\n",
       "      <td>3</td>\n",
       "      <td>48</td>\n",
       "      <td>Sapos comunes</td>\n",
       "      <td>Mariposa macaón</td>\n",
       "      <td>Cóndor</td>\n",
       "      <td>Lémur</td>\n",
       "      <td>Búfalo de agua</td>\n",
       "    </tr>\n",
       "    <tr>\n",
       "      <th>3</th>\n",
       "      <td>4</td>\n",
       "      <td>90</td>\n",
       "      <td>Gaviotas</td>\n",
       "      <td>Mariposa medioluto</td>\n",
       "      <td>Víbora de cascabel</td>\n",
       "      <td>Chinche del campo</td>\n",
       "      <td>Ciervo porcino</td>\n",
       "    </tr>\n",
       "    <tr>\n",
       "      <th>4</th>\n",
       "      <td>5</td>\n",
       "      <td>43</td>\n",
       "      <td>Águilas</td>\n",
       "      <td>Libélulas</td>\n",
       "      <td>Gorrión</td>\n",
       "      <td>Tortuga terrestre</td>\n",
       "      <td>Ovejas</td>\n",
       "    </tr>\n",
       "    <tr>\n",
       "      <th>5</th>\n",
       "      <td>6</td>\n",
       "      <td>12</td>\n",
       "      <td>Leones</td>\n",
       "      <td>Pulgas</td>\n",
       "      <td>Pato</td>\n",
       "      <td>Mosca de la fruta</td>\n",
       "      <td>Candelillo</td>\n",
       "    </tr>\n",
       "    <tr>\n",
       "      <th>6</th>\n",
       "      <td>7</td>\n",
       "      <td>48</td>\n",
       "      <td>Pavos</td>\n",
       "      <td>Luciérnaga</td>\n",
       "      <td>Hornero</td>\n",
       "      <td>Conejo del campo</td>\n",
       "      <td>Urial</td>\n",
       "    </tr>\n",
       "    <tr>\n",
       "      <th>7</th>\n",
       "      <td>8</td>\n",
       "      <td>17</td>\n",
       "      <td>Peces vela</td>\n",
       "      <td>Termes</td>\n",
       "      <td>Gorrión</td>\n",
       "      <td>Mono aullador</td>\n",
       "      <td>Toros</td>\n",
       "    </tr>\n",
       "    <tr>\n",
       "      <th>8</th>\n",
       "      <td>9</td>\n",
       "      <td>19</td>\n",
       "      <td>Ajolotes</td>\n",
       "      <td>Grillos</td>\n",
       "      <td>Pingüino</td>\n",
       "      <td>Orangután</td>\n",
       "      <td>Renos</td>\n",
       "    </tr>\n",
       "    <tr>\n",
       "      <th>9</th>\n",
       "      <td>10</td>\n",
       "      <td>73</td>\n",
       "      <td>Camaleones</td>\n",
       "      <td>Mariquitas</td>\n",
       "      <td>Pato</td>\n",
       "      <td>Murciélago frugívoro</td>\n",
       "      <td>Niala</td>\n",
       "    </tr>\n",
       "    <tr>\n",
       "      <th>10</th>\n",
       "      <td>11</td>\n",
       "      <td>68</td>\n",
       "      <td>Carpas</td>\n",
       "      <td>Mariposa cervantes</td>\n",
       "      <td>Pingüino</td>\n",
       "      <td>Macacos</td>\n",
       "      <td>Venado andino</td>\n",
       "    </tr>\n",
       "    <tr>\n",
       "      <th>11</th>\n",
       "      <td>12</td>\n",
       "      <td>63</td>\n",
       "      <td>Leones</td>\n",
       "      <td>Mariposa nacarada</td>\n",
       "      <td>Guacamayo</td>\n",
       "      <td>Chinche del campo</td>\n",
       "      <td>Gamo común</td>\n",
       "    </tr>\n",
       "    <tr>\n",
       "      <th>12</th>\n",
       "      <td>13</td>\n",
       "      <td>52</td>\n",
       "      <td>Barracudas</td>\n",
       "      <td>Chinche roja, zapatero</td>\n",
       "      <td>Salmón</td>\n",
       "      <td>Mono aullador</td>\n",
       "      <td>Gacela de Grant</td>\n",
       "    </tr>\n",
       "    <tr>\n",
       "      <th>13</th>\n",
       "      <td>14</td>\n",
       "      <td>95</td>\n",
       "      <td>Gallipatos</td>\n",
       "      <td>Avispa scolia</td>\n",
       "      <td>Guacamayo</td>\n",
       "      <td>Tupaya enana</td>\n",
       "      <td>Renos</td>\n",
       "    </tr>\n",
       "    <tr>\n",
       "      <th>14</th>\n",
       "      <td>15</td>\n",
       "      <td>99</td>\n",
       "      <td>Canguros</td>\n",
       "      <td>Moscas cernícalo</td>\n",
       "      <td>Gorrión</td>\n",
       "      <td>Ardillas</td>\n",
       "      <td>Apacas</td>\n",
       "    </tr>\n",
       "    <tr>\n",
       "      <th>15</th>\n",
       "      <td>16</td>\n",
       "      <td>66</td>\n",
       "      <td>Microsaurios (extintos)</td>\n",
       "      <td>Mariposa ajedrezada menor</td>\n",
       "      <td>Codorniz</td>\n",
       "      <td>Bonobos</td>\n",
       "      <td>Anoa de montaña</td>\n",
       "    </tr>\n",
       "    <tr>\n",
       "      <th>16</th>\n",
       "      <td>17</td>\n",
       "      <td>30</td>\n",
       "      <td>Anguilas de mar</td>\n",
       "      <td>Mariposa macaón</td>\n",
       "      <td>Rana</td>\n",
       "      <td>Chinche del campo</td>\n",
       "      <td>Alces</td>\n",
       "    </tr>\n",
       "    <tr>\n",
       "      <th>17</th>\n",
       "      <td>18</td>\n",
       "      <td>92</td>\n",
       "      <td>Peces espada</td>\n",
       "      <td>Mariposa cervantes</td>\n",
       "      <td>Cocodrilo</td>\n",
       "      <td>Tapir</td>\n",
       "      <td>Toros</td>\n",
       "    </tr>\n",
       "    <tr>\n",
       "      <th>18</th>\n",
       "      <td>19</td>\n",
       "      <td>51</td>\n",
       "      <td>Koi japoneses</td>\n",
       "      <td>Caracoles</td>\n",
       "      <td>Pato</td>\n",
       "      <td>Pacú</td>\n",
       "      <td>Anoa de llanura</td>\n",
       "    </tr>\n",
       "    <tr>\n",
       "      <th>19</th>\n",
       "      <td>20</td>\n",
       "      <td>72</td>\n",
       "      <td>Sapos gigantes</td>\n",
       "      <td>Mariposa esfinge colibrí</td>\n",
       "      <td>Guacamayo</td>\n",
       "      <td>Gorilas</td>\n",
       "      <td>Llamas</td>\n",
       "    </tr>\n",
       "    <tr>\n",
       "      <th>20</th>\n",
       "      <td>21</td>\n",
       "      <td>38</td>\n",
       "      <td>Lenguados</td>\n",
       "      <td>Hormigas león</td>\n",
       "      <td>Loro</td>\n",
       "      <td>Lémur</td>\n",
       "      <td>Ñu</td>\n",
       "    </tr>\n",
       "    <tr>\n",
       "      <th>21</th>\n",
       "      <td>22</td>\n",
       "      <td>69</td>\n",
       "      <td>Capibaras</td>\n",
       "      <td>Mariposa macaón</td>\n",
       "      <td>Cocodrilo</td>\n",
       "      <td>Mosca de la fruta</td>\n",
       "      <td>Urial</td>\n",
       "    </tr>\n",
       "    <tr>\n",
       "      <th>22</th>\n",
       "      <td>23</td>\n",
       "      <td>41</td>\n",
       "      <td>Proteos</td>\n",
       "      <td>Polilla</td>\n",
       "      <td>Ganso</td>\n",
       "      <td>Conejo del campo</td>\n",
       "      <td>Gacela de Grant</td>\n",
       "    </tr>\n",
       "    <tr>\n",
       "      <th>23</th>\n",
       "      <td>24</td>\n",
       "      <td>66</td>\n",
       "      <td>Mosasaurios (extintos)</td>\n",
       "      <td>Libélulas</td>\n",
       "      <td>Cocodrilo</td>\n",
       "      <td>Tapir</td>\n",
       "      <td>Uapití</td>\n",
       "    </tr>\n",
       "    <tr>\n",
       "      <th>24</th>\n",
       "      <td>25</td>\n",
       "      <td>41</td>\n",
       "      <td>Pájaros carpinteros</td>\n",
       "      <td>Tábanos</td>\n",
       "      <td>Ganso</td>\n",
       "      <td>Zorro volador</td>\n",
       "      <td>Anoa de montaña</td>\n",
       "    </tr>\n",
       "    <tr>\n",
       "      <th>25</th>\n",
       "      <td>26</td>\n",
       "      <td>24</td>\n",
       "      <td>Peces payaso</td>\n",
       "      <td>Medusas</td>\n",
       "      <td>Cigüeña</td>\n",
       "      <td>Tapir</td>\n",
       "      <td>Ovejas</td>\n",
       "    </tr>\n",
       "    <tr>\n",
       "      <th>26</th>\n",
       "      <td>27</td>\n",
       "      <td>39</td>\n",
       "      <td>Cóndores</td>\n",
       "      <td>Escarabajos acuáticos</td>\n",
       "      <td>Paloma</td>\n",
       "      <td>Bonobos</td>\n",
       "      <td>Urial</td>\n",
       "    </tr>\n",
       "    <tr>\n",
       "      <th>27</th>\n",
       "      <td>28</td>\n",
       "      <td>13</td>\n",
       "      <td>Peces luna</td>\n",
       "      <td>Cochinillas de humedad</td>\n",
       "      <td>Pingüino</td>\n",
       "      <td>Ardillas</td>\n",
       "      <td>Gayal</td>\n",
       "    </tr>\n",
       "    <tr>\n",
       "      <th>28</th>\n",
       "      <td>29</td>\n",
       "      <td>3</td>\n",
       "      <td>Gallipatos</td>\n",
       "      <td>Escarabajos</td>\n",
       "      <td>Águila</td>\n",
       "      <td>Chimpancés</td>\n",
       "      <td>Ciervo porcino</td>\n",
       "    </tr>\n",
       "    <tr>\n",
       "      <th>29</th>\n",
       "      <td>30</td>\n",
       "      <td>41</td>\n",
       "      <td>Tortugas terrestres</td>\n",
       "      <td>Pulgas</td>\n",
       "      <td>Víbora de cascabel</td>\n",
       "      <td>Zarigüeya</td>\n",
       "      <td>Cabras</td>\n",
       "    </tr>\n",
       "    <tr>\n",
       "      <th>30</th>\n",
       "      <td>31</td>\n",
       "      <td>45</td>\n",
       "      <td>Ranas de Darwin</td>\n",
       "      <td>Escarabajos</td>\n",
       "      <td>Gorrión</td>\n",
       "      <td>Chinche del campo</td>\n",
       "      <td>Venado andino</td>\n",
       "    </tr>\n",
       "    <tr>\n",
       "      <th>31</th>\n",
       "      <td>32</td>\n",
       "      <td>13</td>\n",
       "      <td>Ranas venenosas</td>\n",
       "      <td>Mariposa sesia</td>\n",
       "      <td>Pato</td>\n",
       "      <td>Mono Tití</td>\n",
       "      <td>Gacela de Grant</td>\n",
       "    </tr>\n",
       "    <tr>\n",
       "      <th>32</th>\n",
       "      <td>33</td>\n",
       "      <td>20</td>\n",
       "      <td>Canguros</td>\n",
       "      <td>Escarabajos</td>\n",
       "      <td>Codorniz</td>\n",
       "      <td>Orangután</td>\n",
       "      <td>Vicuña</td>\n",
       "    </tr>\n",
       "    <tr>\n",
       "      <th>33</th>\n",
       "      <td>34</td>\n",
       "      <td>66</td>\n",
       "      <td>Carpas</td>\n",
       "      <td>Chinche roja, zapatero</td>\n",
       "      <td>Abeja</td>\n",
       "      <td>Tucán</td>\n",
       "      <td>Búfalo de agua</td>\n",
       "    </tr>\n",
       "    <tr>\n",
       "      <th>34</th>\n",
       "      <td>35</td>\n",
       "      <td>52</td>\n",
       "      <td>Boas constrictoras</td>\n",
       "      <td>Ciempiés</td>\n",
       "      <td>Abeja</td>\n",
       "      <td>Zorro volador</td>\n",
       "      <td>Venado andino</td>\n",
       "    </tr>\n",
       "    <tr>\n",
       "      <th>35</th>\n",
       "      <td>36</td>\n",
       "      <td>35</td>\n",
       "      <td>Gallinas</td>\n",
       "      <td>Mariposa macaón</td>\n",
       "      <td>Cóndor</td>\n",
       "      <td>Murciélago frugívoro</td>\n",
       "      <td>Vicuña</td>\n",
       "    </tr>\n",
       "    <tr>\n",
       "      <th>36</th>\n",
       "      <td>37</td>\n",
       "      <td>55</td>\n",
       "      <td>Tuátaras de Nueva Zelanda</td>\n",
       "      <td>Tábano bombilius</td>\n",
       "      <td>Gorrión</td>\n",
       "      <td>Chimpancés</td>\n",
       "      <td>Cabras</td>\n",
       "    </tr>\n",
       "    <tr>\n",
       "      <th>37</th>\n",
       "      <td>38</td>\n",
       "      <td>42</td>\n",
       "      <td>Ajolotes</td>\n",
       "      <td>Mariposa del almez</td>\n",
       "      <td>Avestruz</td>\n",
       "      <td>Murciélago frugívoro</td>\n",
       "      <td>Urial</td>\n",
       "    </tr>\n",
       "    <tr>\n",
       "      <th>38</th>\n",
       "      <td>39</td>\n",
       "      <td>51</td>\n",
       "      <td>Seres humanos</td>\n",
       "      <td>Ácaros</td>\n",
       "      <td>Cocodrilo</td>\n",
       "      <td>Orangután</td>\n",
       "      <td>Gamo común</td>\n",
       "    </tr>\n",
       "    <tr>\n",
       "      <th>39</th>\n",
       "      <td>40</td>\n",
       "      <td>33</td>\n",
       "      <td>Salamandras gigantes chinas</td>\n",
       "      <td>Luciérnaga</td>\n",
       "      <td>Hormiga</td>\n",
       "      <td>Pacú</td>\n",
       "      <td>Ñu</td>\n",
       "    </tr>\n",
       "    <tr>\n",
       "      <th>40</th>\n",
       "      <td>41</td>\n",
       "      <td>76</td>\n",
       "      <td>Patos</td>\n",
       "      <td>Escarabajo fitófago</td>\n",
       "      <td>Hormiga</td>\n",
       "      <td>Mono Tití</td>\n",
       "      <td>Antílope de cuatro cuernos</td>\n",
       "    </tr>\n",
       "    <tr>\n",
       "      <th>41</th>\n",
       "      <td>42</td>\n",
       "      <td>58</td>\n",
       "      <td>Barracudas</td>\n",
       "      <td>Libélula emperador</td>\n",
       "      <td>Ganso</td>\n",
       "      <td>Tucán</td>\n",
       "      <td>Ovejas</td>\n",
       "    </tr>\n",
       "    <tr>\n",
       "      <th>42</th>\n",
       "      <td>43</td>\n",
       "      <td>25</td>\n",
       "      <td>Delfines</td>\n",
       "      <td>Pulgones</td>\n",
       "      <td>Ganso</td>\n",
       "      <td>Iguana</td>\n",
       "      <td>Bisonte europeo</td>\n",
       "    </tr>\n",
       "    <tr>\n",
       "      <th>43</th>\n",
       "      <td>44</td>\n",
       "      <td>77</td>\n",
       "      <td>Salamandras sin pulmón</td>\n",
       "      <td>Hormigas león</td>\n",
       "      <td>Hormiga</td>\n",
       "      <td>Mosca de la fruta</td>\n",
       "      <td>Uapití</td>\n",
       "    </tr>\n",
       "    <tr>\n",
       "      <th>44</th>\n",
       "      <td>45</td>\n",
       "      <td>38</td>\n",
       "      <td>Monstruos de Gila</td>\n",
       "      <td>Milpiés</td>\n",
       "      <td>Gallina</td>\n",
       "      <td>Lirón</td>\n",
       "      <td>Cebú</td>\n",
       "    </tr>\n",
       "    <tr>\n",
       "      <th>45</th>\n",
       "      <td>46</td>\n",
       "      <td>45</td>\n",
       "      <td>Buitres</td>\n",
       "      <td>Cigarra o chicharra</td>\n",
       "      <td>Gallina</td>\n",
       "      <td>Gibón</td>\n",
       "      <td>Gayal</td>\n",
       "    </tr>\n",
       "    <tr>\n",
       "      <th>46</th>\n",
       "      <td>47</td>\n",
       "      <td>79</td>\n",
       "      <td>Gatos</td>\n",
       "      <td>Escarabajo fitófago</td>\n",
       "      <td>Rana</td>\n",
       "      <td>Ardillas</td>\n",
       "      <td>Corzuela</td>\n",
       "    </tr>\n",
       "    <tr>\n",
       "      <th>47</th>\n",
       "      <td>48</td>\n",
       "      <td>95</td>\n",
       "      <td>Atunes</td>\n",
       "      <td>Araña cangrejo</td>\n",
       "      <td>Águila</td>\n",
       "      <td>Tucán</td>\n",
       "      <td>Ciervo de copete</td>\n",
       "    </tr>\n",
       "    <tr>\n",
       "      <th>48</th>\n",
       "      <td>49</td>\n",
       "      <td>90</td>\n",
       "      <td>Pterosaurios (extintos)</td>\n",
       "      <td>Tábano bombilius</td>\n",
       "      <td>Rana</td>\n",
       "      <td>Mono aullador</td>\n",
       "      <td>Cabras</td>\n",
       "    </tr>\n",
       "    <tr>\n",
       "      <th>49</th>\n",
       "      <td>50</td>\n",
       "      <td>23</td>\n",
       "      <td>Lagartijas comunes</td>\n",
       "      <td>Chinche roja, zapatero</td>\n",
       "      <td>Rana</td>\n",
       "      <td>Zorro volador</td>\n",
       "      <td>Gamo común</td>\n",
       "    </tr>\n",
       "    <tr>\n",
       "      <th>50</th>\n",
       "      <td>51</td>\n",
       "      <td>4</td>\n",
       "      <td>Ratones</td>\n",
       "      <td>Araña cangrejo</td>\n",
       "      <td>Cocodrilo</td>\n",
       "      <td>Tapir</td>\n",
       "      <td>Íbice de los Alpes</td>\n",
       "    </tr>\n",
       "    <tr>\n",
       "      <th>51</th>\n",
       "      <td>52</td>\n",
       "      <td>93</td>\n",
       "      <td>Las agujas de río</td>\n",
       "      <td>Arañas</td>\n",
       "      <td>Cocodrilo</td>\n",
       "      <td>Pacú</td>\n",
       "      <td>Llamas</td>\n",
       "    </tr>\n",
       "    <tr>\n",
       "      <th>52</th>\n",
       "      <td>53</td>\n",
       "      <td>62</td>\n",
       "      <td>Peces abisales</td>\n",
       "      <td>Ciempiés</td>\n",
       "      <td>Pingüino</td>\n",
       "      <td>Gorilas</td>\n",
       "      <td>Cabras</td>\n",
       "    </tr>\n",
       "    <tr>\n",
       "      <th>53</th>\n",
       "      <td>54</td>\n",
       "      <td>65</td>\n",
       "      <td>Leones</td>\n",
       "      <td>Mariposa limonera</td>\n",
       "      <td>Paloma</td>\n",
       "      <td>Loros</td>\n",
       "      <td>Íbice de los Alpes</td>\n",
       "    </tr>\n",
       "    <tr>\n",
       "      <th>54</th>\n",
       "      <td>55</td>\n",
       "      <td>88</td>\n",
       "      <td>Buitres</td>\n",
       "      <td>Hormigas león</td>\n",
       "      <td>Ganso</td>\n",
       "      <td>Bonobos</td>\n",
       "      <td>Renos</td>\n",
       "    </tr>\n",
       "    <tr>\n",
       "      <th>55</th>\n",
       "      <td>56</td>\n",
       "      <td>93</td>\n",
       "      <td>Tuátaras de Nueva Zelanda</td>\n",
       "      <td>Cucarachas</td>\n",
       "      <td>Gorrión</td>\n",
       "      <td>Tortuga terrestre</td>\n",
       "      <td>Bisonte americano</td>\n",
       "    </tr>\n",
       "    <tr>\n",
       "      <th>56</th>\n",
       "      <td>57</td>\n",
       "      <td>17</td>\n",
       "      <td>Cigüeñas</td>\n",
       "      <td>Pulgones</td>\n",
       "      <td>Cocodrilo</td>\n",
       "      <td>Zorro volador</td>\n",
       "      <td>Ciervo de copete</td>\n",
       "    </tr>\n",
       "    <tr>\n",
       "      <th>57</th>\n",
       "      <td>58</td>\n",
       "      <td>72</td>\n",
       "      <td>Boas constrictoras</td>\n",
       "      <td>Polilla</td>\n",
       "      <td>Ganso</td>\n",
       "      <td>Lémur</td>\n",
       "      <td>Venado de las Pampas</td>\n",
       "    </tr>\n",
       "    <tr>\n",
       "      <th>58</th>\n",
       "      <td>59</td>\n",
       "      <td>6</td>\n",
       "      <td>Koi japoneses</td>\n",
       "      <td>Cucarachas</td>\n",
       "      <td>Paloma</td>\n",
       "      <td>Tortuga terrestre</td>\n",
       "      <td>Candelillo</td>\n",
       "    </tr>\n",
       "    <tr>\n",
       "      <th>59</th>\n",
       "      <td>60</td>\n",
       "      <td>45</td>\n",
       "      <td>Delfines</td>\n",
       "      <td>Escarabajo</td>\n",
       "      <td>Cigüeña</td>\n",
       "      <td>Tapir</td>\n",
       "      <td>Gayal</td>\n",
       "    </tr>\n",
       "    <tr>\n",
       "      <th>60</th>\n",
       "      <td>61</td>\n",
       "      <td>26</td>\n",
       "      <td>Aligátores</td>\n",
       "      <td>Tijeretas</td>\n",
       "      <td>Pato</td>\n",
       "      <td>Bonobos</td>\n",
       "      <td>Llamas</td>\n",
       "    </tr>\n",
       "    <tr>\n",
       "      <th>61</th>\n",
       "      <td>62</td>\n",
       "      <td>81</td>\n",
       "      <td>Canguros</td>\n",
       "      <td>Moscas domésticas</td>\n",
       "      <td>Loro</td>\n",
       "      <td>Lirón</td>\n",
       "      <td>Vacas</td>\n",
       "    </tr>\n",
       "    <tr>\n",
       "      <th>62</th>\n",
       "      <td>63</td>\n",
       "      <td>38</td>\n",
       "      <td>Proteos</td>\n",
       "      <td>Araña cangrejo</td>\n",
       "      <td>Víbora de cascabel</td>\n",
       "      <td>Mosca de la fruta</td>\n",
       "      <td>Uapití</td>\n",
       "    </tr>\n",
       "    <tr>\n",
       "      <th>63</th>\n",
       "      <td>64</td>\n",
       "      <td>16</td>\n",
       "      <td>Lisorofios (extintos)</td>\n",
       "      <td>Mariposa lobito agreste</td>\n",
       "      <td>Cocodrilo</td>\n",
       "      <td>Mosca de la fruta</td>\n",
       "      <td>Impala</td>\n",
       "    </tr>\n",
       "    <tr>\n",
       "      <th>64</th>\n",
       "      <td>65</td>\n",
       "      <td>51</td>\n",
       "      <td>Tortugas galápagos</td>\n",
       "      <td>Chinche roja, zapatero</td>\n",
       "      <td>Águila</td>\n",
       "      <td>Chinche del campo</td>\n",
       "      <td>Candelillo</td>\n",
       "    </tr>\n",
       "    <tr>\n",
       "      <th>65</th>\n",
       "      <td>66</td>\n",
       "      <td>100</td>\n",
       "      <td>Pavorreales</td>\n",
       "      <td>Pulgones</td>\n",
       "      <td>Salmón</td>\n",
       "      <td>Tortuga terrestre</td>\n",
       "      <td>Búfalo de agua</td>\n",
       "    </tr>\n",
       "    <tr>\n",
       "      <th>66</th>\n",
       "      <td>67</td>\n",
       "      <td>30</td>\n",
       "      <td>Sapos corredores</td>\n",
       "      <td>Medusas</td>\n",
       "      <td>Pato</td>\n",
       "      <td>Mono aullador</td>\n",
       "      <td>Ciervo porcino</td>\n",
       "    </tr>\n",
       "    <tr>\n",
       "      <th>67</th>\n",
       "      <td>68</td>\n",
       "      <td>66</td>\n",
       "      <td>Delfines</td>\n",
       "      <td>Mariposa del almez</td>\n",
       "      <td>Cóndor</td>\n",
       "      <td>Gibón</td>\n",
       "      <td>Venado andino</td>\n",
       "    </tr>\n",
       "    <tr>\n",
       "      <th>68</th>\n",
       "      <td>69</td>\n",
       "      <td>38</td>\n",
       "      <td>Cigüeñas</td>\n",
       "      <td>Moscardones</td>\n",
       "      <td>Rana</td>\n",
       "      <td>Pacú</td>\n",
       "      <td>Bisonte estepario</td>\n",
       "    </tr>\n",
       "    <tr>\n",
       "      <th>69</th>\n",
       "      <td>70</td>\n",
       "      <td>82</td>\n",
       "      <td>Ranas de Seychelles</td>\n",
       "      <td>Chinches</td>\n",
       "      <td>Rana</td>\n",
       "      <td>Tortuga terrestre</td>\n",
       "      <td>Nilgó</td>\n",
       "    </tr>\n",
       "    <tr>\n",
       "      <th>70</th>\n",
       "      <td>71</td>\n",
       "      <td>1</td>\n",
       "      <td>Avestruces</td>\n",
       "      <td>Termes</td>\n",
       "      <td>Gallina</td>\n",
       "      <td>Tupaya enana</td>\n",
       "      <td>Gayal</td>\n",
       "    </tr>\n",
       "    <tr>\n",
       "      <th>71</th>\n",
       "      <td>72</td>\n",
       "      <td>23</td>\n",
       "      <td>Iguanas</td>\n",
       "      <td>Chinche roja, zapatero</td>\n",
       "      <td>Hornero</td>\n",
       "      <td>Lémur</td>\n",
       "      <td>Venado temazate</td>\n",
       "    </tr>\n",
       "    <tr>\n",
       "      <th>72</th>\n",
       "      <td>73</td>\n",
       "      <td>7</td>\n",
       "      <td>Colibríes</td>\n",
       "      <td>Pulgas</td>\n",
       "      <td>Cóndor</td>\n",
       "      <td>Gorilas</td>\n",
       "      <td>Ñu</td>\n",
       "    </tr>\n",
       "    <tr>\n",
       "      <th>73</th>\n",
       "      <td>74</td>\n",
       "      <td>9</td>\n",
       "      <td>Ranas toro africanas</td>\n",
       "      <td>Garrapata</td>\n",
       "      <td>Gorrión</td>\n",
       "      <td>Chinche del campo</td>\n",
       "      <td>Búfalo de agua</td>\n",
       "    </tr>\n",
       "    <tr>\n",
       "      <th>74</th>\n",
       "      <td>75</td>\n",
       "      <td>100</td>\n",
       "      <td>Gallipatos</td>\n",
       "      <td>Araña de patas largas</td>\n",
       "      <td>Paloma</td>\n",
       "      <td>Bonobos</td>\n",
       "      <td>Oryx</td>\n",
       "    </tr>\n",
       "    <tr>\n",
       "      <th>75</th>\n",
       "      <td>76</td>\n",
       "      <td>17</td>\n",
       "      <td>Esturiones</td>\n",
       "      <td>Tijeretas</td>\n",
       "      <td>Ganso</td>\n",
       "      <td>Orangután</td>\n",
       "      <td>Impala</td>\n",
       "    </tr>\n",
       "    <tr>\n",
       "      <th>76</th>\n",
       "      <td>77</td>\n",
       "      <td>57</td>\n",
       "      <td>Koi japoneses</td>\n",
       "      <td>Moscas cernícalo</td>\n",
       "      <td>Pato</td>\n",
       "      <td>Iguana</td>\n",
       "      <td>Candelillo</td>\n",
       "    </tr>\n",
       "    <tr>\n",
       "      <th>77</th>\n",
       "      <td>78</td>\n",
       "      <td>72</td>\n",
       "      <td>Peces globo</td>\n",
       "      <td>Escarabajo fitófago</td>\n",
       "      <td>Guacamayo</td>\n",
       "      <td>Tupaya enana</td>\n",
       "      <td>Gacela de Grant</td>\n",
       "    </tr>\n",
       "    <tr>\n",
       "      <th>78</th>\n",
       "      <td>79</td>\n",
       "      <td>65</td>\n",
       "      <td>Ballenas</td>\n",
       "      <td>Cigarra o chicharra</td>\n",
       "      <td>Cigüeña</td>\n",
       "      <td>Gorilas</td>\n",
       "      <td>Corzos</td>\n",
       "    </tr>\n",
       "    <tr>\n",
       "      <th>79</th>\n",
       "      <td>80</td>\n",
       "      <td>90</td>\n",
       "      <td>Chimpancés</td>\n",
       "      <td>Libélulas</td>\n",
       "      <td>Guacamayo</td>\n",
       "      <td>Bonobos</td>\n",
       "      <td>Anoa de llanura</td>\n",
       "    </tr>\n",
       "    <tr>\n",
       "      <th>80</th>\n",
       "      <td>81</td>\n",
       "      <td>18</td>\n",
       "      <td>Rinocerontes</td>\n",
       "      <td>Hormigas león</td>\n",
       "      <td>Águila</td>\n",
       "      <td>Zarigüeya</td>\n",
       "      <td>Candelillo</td>\n",
       "    </tr>\n",
       "    <tr>\n",
       "      <th>81</th>\n",
       "      <td>82</td>\n",
       "      <td>78</td>\n",
       "      <td>Tortugas acuáticas</td>\n",
       "      <td>Mariposa dorada</td>\n",
       "      <td>Loro</td>\n",
       "      <td>Tortuga terrestre</td>\n",
       "      <td>Alce irlandés</td>\n",
       "    </tr>\n",
       "    <tr>\n",
       "      <th>82</th>\n",
       "      <td>83</td>\n",
       "      <td>84</td>\n",
       "      <td>Gaviotas</td>\n",
       "      <td>Tábano bombilius</td>\n",
       "      <td>Cocodrilo</td>\n",
       "      <td>Tapir</td>\n",
       "      <td>Corzuela</td>\n",
       "    </tr>\n",
       "    <tr>\n",
       "      <th>83</th>\n",
       "      <td>84</td>\n",
       "      <td>13</td>\n",
       "      <td>Canarios</td>\n",
       "      <td>Cucarachas</td>\n",
       "      <td>Gallina</td>\n",
       "      <td>Mono aullador</td>\n",
       "      <td>Impala</td>\n",
       "    </tr>\n",
       "    <tr>\n",
       "      <th>84</th>\n",
       "      <td>85</td>\n",
       "      <td>17</td>\n",
       "      <td>Cecilias</td>\n",
       "      <td>Escarabajo</td>\n",
       "      <td>Águila</td>\n",
       "      <td>Chimpancés</td>\n",
       "      <td>Alce irlandés</td>\n",
       "    </tr>\n",
       "    <tr>\n",
       "      <th>85</th>\n",
       "      <td>86</td>\n",
       "      <td>39</td>\n",
       "      <td>Ranas toro africanas</td>\n",
       "      <td>Mariposa sesia</td>\n",
       "      <td>Abeja</td>\n",
       "      <td>Pacú</td>\n",
       "      <td>Bisonte estepario</td>\n",
       "    </tr>\n",
       "    <tr>\n",
       "      <th>86</th>\n",
       "      <td>87</td>\n",
       "      <td>6</td>\n",
       "      <td>Pavorreales</td>\n",
       "      <td>Mariposa ícaro</td>\n",
       "      <td>Avestruz</td>\n",
       "      <td>Tortuga terrestre</td>\n",
       "      <td>Renos</td>\n",
       "    </tr>\n",
       "    <tr>\n",
       "      <th>87</th>\n",
       "      <td>88</td>\n",
       "      <td>98</td>\n",
       "      <td>Peces globo</td>\n",
       "      <td>Piojos</td>\n",
       "      <td>Abeja</td>\n",
       "      <td>Loros</td>\n",
       "      <td>Impala</td>\n",
       "    </tr>\n",
       "    <tr>\n",
       "      <th>88</th>\n",
       "      <td>89</td>\n",
       "      <td>92</td>\n",
       "      <td>Ranas arcoíris</td>\n",
       "      <td>Cigarra o chicharra</td>\n",
       "      <td>Ganso</td>\n",
       "      <td>Mono Tití</td>\n",
       "      <td>Venado temazate</td>\n",
       "    </tr>\n",
       "    <tr>\n",
       "      <th>89</th>\n",
       "      <td>90</td>\n",
       "      <td>95</td>\n",
       "      <td>Lenguados</td>\n",
       "      <td>Mariposa blanquita de la col</td>\n",
       "      <td>Víbora de cascabel</td>\n",
       "      <td>Macacos</td>\n",
       "      <td>Sambar</td>\n",
       "    </tr>\n",
       "    <tr>\n",
       "      <th>90</th>\n",
       "      <td>91</td>\n",
       "      <td>34</td>\n",
       "      <td>Ajolotes</td>\n",
       "      <td>Tábanos</td>\n",
       "      <td>Pingüino</td>\n",
       "      <td>Conejo del campo</td>\n",
       "      <td>Anoa de montaña</td>\n",
       "    </tr>\n",
       "    <tr>\n",
       "      <th>91</th>\n",
       "      <td>92</td>\n",
       "      <td>36</td>\n",
       "      <td>Faisanes</td>\n",
       "      <td>Ácaros</td>\n",
       "      <td>Cocodrilo</td>\n",
       "      <td>Pericos</td>\n",
       "      <td>Ciervo axis</td>\n",
       "    </tr>\n",
       "    <tr>\n",
       "      <th>92</th>\n",
       "      <td>93</td>\n",
       "      <td>69</td>\n",
       "      <td>Cigüeñas</td>\n",
       "      <td>Caballito del diablo</td>\n",
       "      <td>Gorrión</td>\n",
       "      <td>Gibón</td>\n",
       "      <td>Impala</td>\n",
       "    </tr>\n",
       "    <tr>\n",
       "      <th>93</th>\n",
       "      <td>94</td>\n",
       "      <td>63</td>\n",
       "      <td>Faisanes</td>\n",
       "      <td>Arañas</td>\n",
       "      <td>Águila</td>\n",
       "      <td>Mono aullador</td>\n",
       "      <td>Niala</td>\n",
       "    </tr>\n",
       "    <tr>\n",
       "      <th>94</th>\n",
       "      <td>95</td>\n",
       "      <td>58</td>\n",
       "      <td>Chimpancés</td>\n",
       "      <td>Mariposa del almez</td>\n",
       "      <td>Águila</td>\n",
       "      <td>Murciélago frugívoro</td>\n",
       "      <td>Alces</td>\n",
       "    </tr>\n",
       "    <tr>\n",
       "      <th>95</th>\n",
       "      <td>96</td>\n",
       "      <td>20</td>\n",
       "      <td>Leones</td>\n",
       "      <td>Mantis religiosa</td>\n",
       "      <td>Víbora de cascabel</td>\n",
       "      <td>Tortuga terrestre</td>\n",
       "      <td>Renos</td>\n",
       "    </tr>\n",
       "    <tr>\n",
       "      <th>96</th>\n",
       "      <td>97</td>\n",
       "      <td>4</td>\n",
       "      <td>Cecilias</td>\n",
       "      <td>Hormigas león</td>\n",
       "      <td>Avestruz</td>\n",
       "      <td>Tortuga terrestre</td>\n",
       "      <td>Antílope de cuatro cuernos</td>\n",
       "    </tr>\n",
       "    <tr>\n",
       "      <th>97</th>\n",
       "      <td>98</td>\n",
       "      <td>68</td>\n",
       "      <td>Aligátores</td>\n",
       "      <td>Cochinillas de humedad</td>\n",
       "      <td>Hornero</td>\n",
       "      <td>Pericos</td>\n",
       "      <td>Alce irlandés</td>\n",
       "    </tr>\n",
       "    <tr>\n",
       "      <th>98</th>\n",
       "      <td>99</td>\n",
       "      <td>88</td>\n",
       "      <td>Peces espada</td>\n",
       "      <td>Escarabajos acuáticos</td>\n",
       "      <td>Abeja</td>\n",
       "      <td>Murciélago frugívoro</td>\n",
       "      <td>Oryx</td>\n",
       "    </tr>\n",
       "    <tr>\n",
       "      <th>99</th>\n",
       "      <td>100</td>\n",
       "      <td>94</td>\n",
       "      <td>Gallinas</td>\n",
       "      <td>Cochinillas de humedad</td>\n",
       "      <td>Águila</td>\n",
       "      <td>Tucán</td>\n",
       "      <td>Vacas</td>\n",
       "    </tr>\n",
       "  </tbody>\n",
       "</table>\n",
       "</div>"
      ],
      "text/plain": [
       "     Id  Lider                  Vertebrados                 Invertebrados  \\\n",
       "0     1     17                Seres humanos            Mariposa cervantes   \n",
       "1     2     10            Ranas arborícolas                    Cucarachas   \n",
       "2     3     48                Sapos comunes               Mariposa macaón   \n",
       "3     4     90                     Gaviotas            Mariposa medioluto   \n",
       "4     5     43                      Águilas                     Libélulas   \n",
       "5     6     12                       Leones                        Pulgas   \n",
       "6     7     48                        Pavos                    Luciérnaga   \n",
       "7     8     17                   Peces vela                        Termes   \n",
       "8     9     19                     Ajolotes                       Grillos   \n",
       "9    10     73                   Camaleones                    Mariquitas   \n",
       "10   11     68                       Carpas            Mariposa cervantes   \n",
       "11   12     63                       Leones             Mariposa nacarada   \n",
       "12   13     52                   Barracudas        Chinche roja, zapatero   \n",
       "13   14     95                   Gallipatos                 Avispa scolia   \n",
       "14   15     99                     Canguros              Moscas cernícalo   \n",
       "15   16     66      Microsaurios (extintos)     Mariposa ajedrezada menor   \n",
       "16   17     30              Anguilas de mar               Mariposa macaón   \n",
       "17   18     92                 Peces espada            Mariposa cervantes   \n",
       "18   19     51                Koi japoneses                     Caracoles   \n",
       "19   20     72               Sapos gigantes      Mariposa esfinge colibrí   \n",
       "20   21     38                    Lenguados                 Hormigas león   \n",
       "21   22     69                    Capibaras               Mariposa macaón   \n",
       "22   23     41                      Proteos                       Polilla   \n",
       "23   24     66       Mosasaurios (extintos)                     Libélulas   \n",
       "24   25     41          Pájaros carpinteros                       Tábanos   \n",
       "25   26     24                 Peces payaso                       Medusas   \n",
       "26   27     39                     Cóndores         Escarabajos acuáticos   \n",
       "27   28     13                   Peces luna        Cochinillas de humedad   \n",
       "28   29      3                   Gallipatos                   Escarabajos   \n",
       "29   30     41          Tortugas terrestres                        Pulgas   \n",
       "30   31     45              Ranas de Darwin                   Escarabajos   \n",
       "31   32     13              Ranas venenosas                Mariposa sesia   \n",
       "32   33     20                     Canguros                   Escarabajos   \n",
       "33   34     66                       Carpas        Chinche roja, zapatero   \n",
       "34   35     52           Boas constrictoras                      Ciempiés   \n",
       "35   36     35                     Gallinas               Mariposa macaón   \n",
       "36   37     55    Tuátaras de Nueva Zelanda              Tábano bombilius   \n",
       "37   38     42                     Ajolotes            Mariposa del almez   \n",
       "38   39     51                Seres humanos                        Ácaros   \n",
       "39   40     33  Salamandras gigantes chinas                    Luciérnaga   \n",
       "40   41     76                        Patos           Escarabajo fitófago   \n",
       "41   42     58                   Barracudas            Libélula emperador   \n",
       "42   43     25                     Delfines                      Pulgones   \n",
       "43   44     77       Salamandras sin pulmón                 Hormigas león   \n",
       "44   45     38            Monstruos de Gila                       Milpiés   \n",
       "45   46     45                      Buitres           Cigarra o chicharra   \n",
       "46   47     79                        Gatos           Escarabajo fitófago   \n",
       "47   48     95                       Atunes                Araña cangrejo   \n",
       "48   49     90      Pterosaurios (extintos)              Tábano bombilius   \n",
       "49   50     23           Lagartijas comunes        Chinche roja, zapatero   \n",
       "50   51      4                      Ratones                Araña cangrejo   \n",
       "51   52     93            Las agujas de río                        Arañas   \n",
       "52   53     62               Peces abisales                      Ciempiés   \n",
       "53   54     65                       Leones             Mariposa limonera   \n",
       "54   55     88                      Buitres                 Hormigas león   \n",
       "55   56     93    Tuátaras de Nueva Zelanda                    Cucarachas   \n",
       "56   57     17                     Cigüeñas                      Pulgones   \n",
       "57   58     72           Boas constrictoras                       Polilla   \n",
       "58   59      6                Koi japoneses                    Cucarachas   \n",
       "59   60     45                     Delfines                    Escarabajo   \n",
       "60   61     26                   Aligátores                     Tijeretas   \n",
       "61   62     81                     Canguros             Moscas domésticas   \n",
       "62   63     38                      Proteos                Araña cangrejo   \n",
       "63   64     16        Lisorofios (extintos)       Mariposa lobito agreste   \n",
       "64   65     51           Tortugas galápagos        Chinche roja, zapatero   \n",
       "65   66    100                  Pavorreales                      Pulgones   \n",
       "66   67     30             Sapos corredores                       Medusas   \n",
       "67   68     66                     Delfines            Mariposa del almez   \n",
       "68   69     38                     Cigüeñas                   Moscardones   \n",
       "69   70     82          Ranas de Seychelles                      Chinches   \n",
       "70   71      1                   Avestruces                        Termes   \n",
       "71   72     23                      Iguanas        Chinche roja, zapatero   \n",
       "72   73      7                    Colibríes                        Pulgas   \n",
       "73   74      9         Ranas toro africanas                     Garrapata   \n",
       "74   75    100                   Gallipatos         Araña de patas largas   \n",
       "75   76     17                   Esturiones                     Tijeretas   \n",
       "76   77     57                Koi japoneses              Moscas cernícalo   \n",
       "77   78     72                  Peces globo           Escarabajo fitófago   \n",
       "78   79     65                     Ballenas           Cigarra o chicharra   \n",
       "79   80     90                   Chimpancés                     Libélulas   \n",
       "80   81     18                 Rinocerontes                 Hormigas león   \n",
       "81   82     78           Tortugas acuáticas               Mariposa dorada   \n",
       "82   83     84                     Gaviotas              Tábano bombilius   \n",
       "83   84     13                     Canarios                    Cucarachas   \n",
       "84   85     17                     Cecilias                    Escarabajo   \n",
       "85   86     39         Ranas toro africanas                Mariposa sesia   \n",
       "86   87      6                  Pavorreales                Mariposa ícaro   \n",
       "87   88     98                  Peces globo                        Piojos   \n",
       "88   89     92               Ranas arcoíris           Cigarra o chicharra   \n",
       "89   90     95                    Lenguados  Mariposa blanquita de la col   \n",
       "90   91     34                     Ajolotes                       Tábanos   \n",
       "91   92     36                     Faisanes                        Ácaros   \n",
       "92   93     69                     Cigüeñas          Caballito del diablo   \n",
       "93   94     63                     Faisanes                        Arañas   \n",
       "94   95     58                   Chimpancés            Mariposa del almez   \n",
       "95   96     20                       Leones              Mantis religiosa   \n",
       "96   97      4                     Cecilias                 Hormigas león   \n",
       "97   98     68                   Aligátores        Cochinillas de humedad   \n",
       "98   99     88                 Peces espada         Escarabajos acuáticos   \n",
       "99  100     94                     Gallinas        Cochinillas de humedad   \n",
       "\n",
       "              Ovíparos            Frugívoros                   Rumiantes  \n",
       "0            Cocodrilo              Ardillas                      Corzos  \n",
       "1             Pingüino     Chinche del campo      Ciervo de los pantanos  \n",
       "2               Cóndor                 Lémur              Búfalo de agua  \n",
       "3   Víbora de cascabel     Chinche del campo              Ciervo porcino  \n",
       "4              Gorrión     Tortuga terrestre                      Ovejas  \n",
       "5                 Pato     Mosca de la fruta                  Candelillo  \n",
       "6              Hornero      Conejo del campo                       Urial  \n",
       "7              Gorrión         Mono aullador                       Toros  \n",
       "8             Pingüino             Orangután                       Renos  \n",
       "9                 Pato  Murciélago frugívoro                       Niala  \n",
       "10            Pingüino               Macacos               Venado andino  \n",
       "11           Guacamayo     Chinche del campo                  Gamo común  \n",
       "12              Salmón         Mono aullador             Gacela de Grant  \n",
       "13           Guacamayo          Tupaya enana                       Renos  \n",
       "14             Gorrión              Ardillas                      Apacas  \n",
       "15            Codorniz               Bonobos             Anoa de montaña  \n",
       "16                Rana     Chinche del campo                       Alces  \n",
       "17           Cocodrilo                 Tapir                       Toros  \n",
       "18                Pato                  Pacú             Anoa de llanura  \n",
       "19           Guacamayo               Gorilas                      Llamas  \n",
       "20                Loro                 Lémur                          Ñu  \n",
       "21           Cocodrilo     Mosca de la fruta                       Urial  \n",
       "22               Ganso      Conejo del campo             Gacela de Grant  \n",
       "23           Cocodrilo                 Tapir                      Uapití  \n",
       "24               Ganso         Zorro volador             Anoa de montaña  \n",
       "25             Cigüeña                 Tapir                      Ovejas  \n",
       "26              Paloma               Bonobos                       Urial  \n",
       "27            Pingüino              Ardillas                       Gayal  \n",
       "28              Águila            Chimpancés              Ciervo porcino  \n",
       "29  Víbora de cascabel             Zarigüeya                      Cabras  \n",
       "30             Gorrión     Chinche del campo               Venado andino  \n",
       "31                Pato             Mono Tití             Gacela de Grant  \n",
       "32            Codorniz             Orangután                      Vicuña  \n",
       "33               Abeja                 Tucán              Búfalo de agua  \n",
       "34               Abeja         Zorro volador               Venado andino  \n",
       "35              Cóndor  Murciélago frugívoro                      Vicuña  \n",
       "36             Gorrión            Chimpancés                      Cabras  \n",
       "37            Avestruz  Murciélago frugívoro                       Urial  \n",
       "38           Cocodrilo             Orangután                  Gamo común  \n",
       "39             Hormiga                  Pacú                          Ñu  \n",
       "40             Hormiga             Mono Tití  Antílope de cuatro cuernos  \n",
       "41               Ganso                 Tucán                      Ovejas  \n",
       "42               Ganso                Iguana             Bisonte europeo  \n",
       "43             Hormiga     Mosca de la fruta                      Uapití  \n",
       "44             Gallina                 Lirón                        Cebú  \n",
       "45             Gallina                 Gibón                       Gayal  \n",
       "46                Rana              Ardillas                    Corzuela  \n",
       "47              Águila                 Tucán            Ciervo de copete  \n",
       "48                Rana         Mono aullador                      Cabras  \n",
       "49                Rana         Zorro volador                  Gamo común  \n",
       "50           Cocodrilo                 Tapir          Íbice de los Alpes  \n",
       "51           Cocodrilo                  Pacú                      Llamas  \n",
       "52            Pingüino               Gorilas                      Cabras  \n",
       "53              Paloma                 Loros          Íbice de los Alpes  \n",
       "54               Ganso               Bonobos                       Renos  \n",
       "55             Gorrión     Tortuga terrestre           Bisonte americano  \n",
       "56           Cocodrilo         Zorro volador            Ciervo de copete  \n",
       "57               Ganso                 Lémur        Venado de las Pampas  \n",
       "58              Paloma     Tortuga terrestre                  Candelillo  \n",
       "59             Cigüeña                 Tapir                       Gayal  \n",
       "60                Pato               Bonobos                      Llamas  \n",
       "61                Loro                 Lirón                       Vacas  \n",
       "62  Víbora de cascabel     Mosca de la fruta                      Uapití  \n",
       "63           Cocodrilo     Mosca de la fruta                      Impala  \n",
       "64              Águila     Chinche del campo                  Candelillo  \n",
       "65              Salmón     Tortuga terrestre              Búfalo de agua  \n",
       "66                Pato         Mono aullador              Ciervo porcino  \n",
       "67              Cóndor                 Gibón               Venado andino  \n",
       "68                Rana                  Pacú           Bisonte estepario  \n",
       "69                Rana     Tortuga terrestre                       Nilgó  \n",
       "70             Gallina          Tupaya enana                       Gayal  \n",
       "71             Hornero                 Lémur             Venado temazate  \n",
       "72              Cóndor               Gorilas                          Ñu  \n",
       "73             Gorrión     Chinche del campo              Búfalo de agua  \n",
       "74              Paloma               Bonobos                        Oryx  \n",
       "75               Ganso             Orangután                      Impala  \n",
       "76                Pato                Iguana                  Candelillo  \n",
       "77           Guacamayo          Tupaya enana             Gacela de Grant  \n",
       "78             Cigüeña               Gorilas                      Corzos  \n",
       "79           Guacamayo               Bonobos             Anoa de llanura  \n",
       "80              Águila             Zarigüeya                  Candelillo  \n",
       "81                Loro     Tortuga terrestre               Alce irlandés  \n",
       "82           Cocodrilo                 Tapir                    Corzuela  \n",
       "83             Gallina         Mono aullador                      Impala  \n",
       "84              Águila            Chimpancés               Alce irlandés  \n",
       "85               Abeja                  Pacú           Bisonte estepario  \n",
       "86            Avestruz     Tortuga terrestre                       Renos  \n",
       "87               Abeja                 Loros                      Impala  \n",
       "88               Ganso             Mono Tití             Venado temazate  \n",
       "89  Víbora de cascabel               Macacos                      Sambar  \n",
       "90            Pingüino      Conejo del campo             Anoa de montaña  \n",
       "91           Cocodrilo               Pericos                 Ciervo axis  \n",
       "92             Gorrión                 Gibón                      Impala  \n",
       "93              Águila         Mono aullador                       Niala  \n",
       "94              Águila  Murciélago frugívoro                       Alces  \n",
       "95  Víbora de cascabel     Tortuga terrestre                       Renos  \n",
       "96            Avestruz     Tortuga terrestre  Antílope de cuatro cuernos  \n",
       "97             Hornero               Pericos               Alce irlandés  \n",
       "98               Abeja  Murciélago frugívoro                        Oryx  \n",
       "99              Águila                 Tucán                       Vacas  "
      ]
     },
     "execution_count": 17,
     "metadata": {},
     "output_type": "execute_result"
    }
   ],
   "source": [
    "df2"
   ]
  },
  {
   "cell_type": "code",
   "execution_count": 22,
   "id": "15919704-d037-4a3c-92f8-dbdbc9eace9e",
   "metadata": {
    "tags": []
   },
   "outputs": [
    {
     "data": {
      "text/html": [
       "<div>\n",
       "<style scoped>\n",
       "    .dataframe tbody tr th:only-of-type {\n",
       "        vertical-align: middle;\n",
       "    }\n",
       "\n",
       "    .dataframe tbody tr th {\n",
       "        vertical-align: top;\n",
       "    }\n",
       "\n",
       "    .dataframe thead th {\n",
       "        text-align: right;\n",
       "    }\n",
       "</style>\n",
       "<table border=\"1\" class=\"dataframe\">\n",
       "  <thead>\n",
       "    <tr style=\"text-align: right;\">\n",
       "      <th></th>\n",
       "      <th>Id</th>\n",
       "      <th>Lider</th>\n",
       "      <th>Mamíferos</th>\n",
       "      <th>Reptiles</th>\n",
       "      <th>Peces</th>\n",
       "      <th>Anfibios</th>\n",
       "      <th>Aves</th>\n",
       "    </tr>\n",
       "  </thead>\n",
       "  <tbody>\n",
       "    <tr>\n",
       "      <th>19</th>\n",
       "      <td>20</td>\n",
       "      <td>86</td>\n",
       "      <td>Gorilas</td>\n",
       "      <td>Lagartos voladores australianos</td>\n",
       "      <td>Koi japoneses</td>\n",
       "      <td>Sapos comunes</td>\n",
       "      <td>Águilas</td>\n",
       "    </tr>\n",
       "    <tr>\n",
       "      <th>81</th>\n",
       "      <td>82</td>\n",
       "      <td>47</td>\n",
       "      <td>Gorilas</td>\n",
       "      <td>Lagartos voladores australianos</td>\n",
       "      <td>Peces abisales</td>\n",
       "      <td>Ranas de Seychelles</td>\n",
       "      <td>Faisanes</td>\n",
       "    </tr>\n",
       "  </tbody>\n",
       "</table>\n",
       "</div>"
      ],
      "text/plain": [
       "    Id  Lider Mamíferos                         Reptiles           Peces  \\\n",
       "19  20     86   Gorilas  Lagartos voladores australianos   Koi japoneses   \n",
       "81  82     47   Gorilas  Lagartos voladores australianos  Peces abisales   \n",
       "\n",
       "               Anfibios      Aves  \n",
       "19        Sapos comunes   Águilas  \n",
       "81  Ranas de Seychelles  Faisanes  "
      ]
     },
     "metadata": {},
     "output_type": "display_data"
    },
    {
     "data": {
      "text/html": [
       "<div>\n",
       "<style scoped>\n",
       "    .dataframe tbody tr th:only-of-type {\n",
       "        vertical-align: middle;\n",
       "    }\n",
       "\n",
       "    .dataframe tbody tr th {\n",
       "        vertical-align: top;\n",
       "    }\n",
       "\n",
       "    .dataframe thead th {\n",
       "        text-align: right;\n",
       "    }\n",
       "</style>\n",
       "<table border=\"1\" class=\"dataframe\">\n",
       "  <thead>\n",
       "    <tr style=\"text-align: right;\">\n",
       "      <th></th>\n",
       "      <th>Id</th>\n",
       "      <th>Lider</th>\n",
       "      <th>Vertebrados</th>\n",
       "      <th>Invertebrados</th>\n",
       "      <th>Ovíparos</th>\n",
       "      <th>Frugívoros</th>\n",
       "      <th>Rumiantes</th>\n",
       "    </tr>\n",
       "  </thead>\n",
       "  <tbody>\n",
       "    <tr>\n",
       "      <th>19</th>\n",
       "      <td>20</td>\n",
       "      <td>72</td>\n",
       "      <td>Sapos gigantes</td>\n",
       "      <td>Mariposa esfinge colibrí</td>\n",
       "      <td>Guacamayo</td>\n",
       "      <td>Gorilas</td>\n",
       "      <td>Llamas</td>\n",
       "    </tr>\n",
       "    <tr>\n",
       "      <th>52</th>\n",
       "      <td>53</td>\n",
       "      <td>62</td>\n",
       "      <td>Peces abisales</td>\n",
       "      <td>Ciempiés</td>\n",
       "      <td>Pingüino</td>\n",
       "      <td>Gorilas</td>\n",
       "      <td>Cabras</td>\n",
       "    </tr>\n",
       "    <tr>\n",
       "      <th>72</th>\n",
       "      <td>73</td>\n",
       "      <td>7</td>\n",
       "      <td>Colibríes</td>\n",
       "      <td>Pulgas</td>\n",
       "      <td>Cóndor</td>\n",
       "      <td>Gorilas</td>\n",
       "      <td>Ñu</td>\n",
       "    </tr>\n",
       "    <tr>\n",
       "      <th>78</th>\n",
       "      <td>79</td>\n",
       "      <td>65</td>\n",
       "      <td>Ballenas</td>\n",
       "      <td>Cigarra o chicharra</td>\n",
       "      <td>Cigüeña</td>\n",
       "      <td>Gorilas</td>\n",
       "      <td>Corzos</td>\n",
       "    </tr>\n",
       "  </tbody>\n",
       "</table>\n",
       "</div>"
      ],
      "text/plain": [
       "    Id  Lider     Vertebrados             Invertebrados   Ovíparos Frugívoros  \\\n",
       "19  20     72  Sapos gigantes  Mariposa esfinge colibrí  Guacamayo    Gorilas   \n",
       "52  53     62  Peces abisales                  Ciempiés   Pingüino    Gorilas   \n",
       "72  73      7       Colibríes                    Pulgas     Cóndor    Gorilas   \n",
       "78  79     65        Ballenas       Cigarra o chicharra    Cigüeña    Gorilas   \n",
       "\n",
       "   Rumiantes  \n",
       "19    Llamas  \n",
       "52    Cabras  \n",
       "72        Ñu  \n",
       "78    Corzos  "
      ]
     },
     "metadata": {},
     "output_type": "display_data"
    },
    {
     "name": "stdout",
     "output_type": "stream",
     "text": [
      "-----------------------------------------------------\n"
     ]
    },
    {
     "data": {
      "text/html": [
       "<div>\n",
       "<style scoped>\n",
       "    .dataframe tbody tr th:only-of-type {\n",
       "        vertical-align: middle;\n",
       "    }\n",
       "\n",
       "    .dataframe tbody tr th {\n",
       "        vertical-align: top;\n",
       "    }\n",
       "\n",
       "    .dataframe thead th {\n",
       "        text-align: right;\n",
       "    }\n",
       "</style>\n",
       "<table border=\"1\" class=\"dataframe\">\n",
       "  <thead>\n",
       "    <tr style=\"text-align: right;\">\n",
       "      <th></th>\n",
       "      <th>Id</th>\n",
       "      <th>Lider</th>\n",
       "      <th>Mamíferos</th>\n",
       "      <th>Reptiles</th>\n",
       "      <th>Peces</th>\n",
       "      <th>Anfibios</th>\n",
       "      <th>Aves</th>\n",
       "    </tr>\n",
       "  </thead>\n",
       "  <tbody>\n",
       "    <tr>\n",
       "      <th>66</th>\n",
       "      <td>67</td>\n",
       "      <td>35</td>\n",
       "      <td>Chimpancés</td>\n",
       "      <td>Basiliscos</td>\n",
       "      <td>Los tiburones ballena</td>\n",
       "      <td>Sapos corredores</td>\n",
       "      <td>Águilas</td>\n",
       "    </tr>\n",
       "    <tr>\n",
       "      <th>80</th>\n",
       "      <td>81</td>\n",
       "      <td>38</td>\n",
       "      <td>Chimpancés</td>\n",
       "      <td>Mosasaurios (extintos)</td>\n",
       "      <td>Anguilas de mar</td>\n",
       "      <td>Salamandras gigantes chinas</td>\n",
       "      <td>Gallinas</td>\n",
       "    </tr>\n",
       "    <tr>\n",
       "      <th>93</th>\n",
       "      <td>94</td>\n",
       "      <td>18</td>\n",
       "      <td>Chimpancés</td>\n",
       "      <td>Cocodrilos</td>\n",
       "      <td>Las agujas de río</td>\n",
       "      <td>Ranas venenosas</td>\n",
       "      <td>Guacamayas</td>\n",
       "    </tr>\n",
       "  </tbody>\n",
       "</table>\n",
       "</div>"
      ],
      "text/plain": [
       "    Id  Lider   Mamíferos                Reptiles                  Peces  \\\n",
       "66  67     35  Chimpancés              Basiliscos  Los tiburones ballena   \n",
       "80  81     38  Chimpancés  Mosasaurios (extintos)        Anguilas de mar   \n",
       "93  94     18  Chimpancés              Cocodrilos      Las agujas de río   \n",
       "\n",
       "                       Anfibios        Aves  \n",
       "66             Sapos corredores     Águilas  \n",
       "80  Salamandras gigantes chinas    Gallinas  \n",
       "93              Ranas venenosas  Guacamayas  "
      ]
     },
     "metadata": {},
     "output_type": "display_data"
    },
    {
     "data": {
      "text/html": [
       "<div>\n",
       "<style scoped>\n",
       "    .dataframe tbody tr th:only-of-type {\n",
       "        vertical-align: middle;\n",
       "    }\n",
       "\n",
       "    .dataframe tbody tr th {\n",
       "        vertical-align: top;\n",
       "    }\n",
       "\n",
       "    .dataframe thead th {\n",
       "        text-align: right;\n",
       "    }\n",
       "</style>\n",
       "<table border=\"1\" class=\"dataframe\">\n",
       "  <thead>\n",
       "    <tr style=\"text-align: right;\">\n",
       "      <th></th>\n",
       "      <th>Id</th>\n",
       "      <th>Lider</th>\n",
       "      <th>Vertebrados</th>\n",
       "      <th>Invertebrados</th>\n",
       "      <th>Ovíparos</th>\n",
       "      <th>Frugívoros</th>\n",
       "      <th>Rumiantes</th>\n",
       "    </tr>\n",
       "  </thead>\n",
       "  <tbody>\n",
       "    <tr>\n",
       "      <th>28</th>\n",
       "      <td>29</td>\n",
       "      <td>3</td>\n",
       "      <td>Gallipatos</td>\n",
       "      <td>Escarabajos</td>\n",
       "      <td>Águila</td>\n",
       "      <td>Chimpancés</td>\n",
       "      <td>Ciervo porcino</td>\n",
       "    </tr>\n",
       "    <tr>\n",
       "      <th>36</th>\n",
       "      <td>37</td>\n",
       "      <td>55</td>\n",
       "      <td>Tuátaras de Nueva Zelanda</td>\n",
       "      <td>Tábano bombilius</td>\n",
       "      <td>Gorrión</td>\n",
       "      <td>Chimpancés</td>\n",
       "      <td>Cabras</td>\n",
       "    </tr>\n",
       "    <tr>\n",
       "      <th>84</th>\n",
       "      <td>85</td>\n",
       "      <td>17</td>\n",
       "      <td>Cecilias</td>\n",
       "      <td>Escarabajo</td>\n",
       "      <td>Águila</td>\n",
       "      <td>Chimpancés</td>\n",
       "      <td>Alce irlandés</td>\n",
       "    </tr>\n",
       "  </tbody>\n",
       "</table>\n",
       "</div>"
      ],
      "text/plain": [
       "    Id  Lider                Vertebrados     Invertebrados Ovíparos  \\\n",
       "28  29      3                 Gallipatos       Escarabajos   Águila   \n",
       "36  37     55  Tuátaras de Nueva Zelanda  Tábano bombilius  Gorrión   \n",
       "84  85     17                   Cecilias        Escarabajo   Águila   \n",
       "\n",
       "    Frugívoros       Rumiantes  \n",
       "28  Chimpancés  Ciervo porcino  \n",
       "36  Chimpancés          Cabras  \n",
       "84  Chimpancés   Alce irlandés  "
      ]
     },
     "metadata": {},
     "output_type": "display_data"
    }
   ],
   "source": [
    "# genera registro por cada coincidencia, como una especie de CROSS JOIN\n",
    "display(df1.query(\"Mamíferos == 'Gorilas'\"))\n",
    "display(df2.query(\"Frugívoros == 'Gorilas'\"))\n",
    "print('-----------------------------------------------------')\n",
    "display(df1.query(\"Mamíferos == 'Chimpancés'\"))\n",
    "display(df2.query(\"Frugívoros == 'Chimpancés'\"))"
   ]
  },
  {
   "cell_type": "code",
   "execution_count": 5,
   "id": "7f58fc44-0d44-4c6a-9e68-9acddf9274eb",
   "metadata": {
    "scrolled": true,
    "tags": []
   },
   "outputs": [
    {
     "name": "stdout",
     "output_type": "stream",
     "text": [
      "joins_disponibles = ['inner', 'left', 'right', 'outer', 'cross', 'self', 'index', 'columns']\n",
      "merge parametros-> pandas.merge(df_left, df_right, how=['inner', 'left', 'right', 'outer', 'cross', 'self', 'index', 'columns'], on=None, left_on=None, right_on=None, left_index=False, right_index=False, sort=False, suffixes=('_x', '_y'), copy=True, indicator=False, validate=None)\n",
      "\n",
      "----------------------------------------------------------------------------------------------------------------------------------------------------------------------------------------------------------------------------------\n",
      "pd.merge(primer_dataframe.drop_duplicates(), segundo_dataframe.drop_duplicates(), left_on=Mamíferos, right_on=Frugívoros, sort=False, indicator=True)\n",
      "----------------------------------------------------------------------------------------------------------------------------------------------------------------------------------------------------------------------------------\n"
     ]
    },
    {
     "data": {
      "text/html": [
       "<div>\n",
       "<style scoped>\n",
       "    .dataframe tbody tr th:only-of-type {\n",
       "        vertical-align: middle;\n",
       "    }\n",
       "\n",
       "    .dataframe tbody tr th {\n",
       "        vertical-align: top;\n",
       "    }\n",
       "\n",
       "    .dataframe thead th {\n",
       "        text-align: right;\n",
       "    }\n",
       "</style>\n",
       "<table border=\"1\" class=\"dataframe\">\n",
       "  <thead>\n",
       "    <tr style=\"text-align: right;\">\n",
       "      <th></th>\n",
       "      <th>Id_x</th>\n",
       "      <th>Lider_x</th>\n",
       "      <th>Mamíferos</th>\n",
       "      <th>Reptiles</th>\n",
       "      <th>Peces</th>\n",
       "      <th>Anfibios</th>\n",
       "      <th>Aves</th>\n",
       "      <th>Id_y</th>\n",
       "      <th>Lider_y</th>\n",
       "      <th>Vertebrados</th>\n",
       "      <th>Invertebrados</th>\n",
       "      <th>Ovíparos</th>\n",
       "      <th>Frugívoros</th>\n",
       "      <th>Rumiantes</th>\n",
       "      <th>_merge</th>\n",
       "    </tr>\n",
       "  </thead>\n",
       "  <tbody>\n",
       "    <tr>\n",
       "      <th>0</th>\n",
       "      <td>20</td>\n",
       "      <td>86</td>\n",
       "      <td>Gorilas</td>\n",
       "      <td>Lagartos voladores australianos</td>\n",
       "      <td>Koi japoneses</td>\n",
       "      <td>Sapos comunes</td>\n",
       "      <td>Águilas</td>\n",
       "      <td>20</td>\n",
       "      <td>72</td>\n",
       "      <td>Sapos gigantes</td>\n",
       "      <td>Mariposa esfinge colibrí</td>\n",
       "      <td>Guacamayo</td>\n",
       "      <td>Gorilas</td>\n",
       "      <td>Llamas</td>\n",
       "      <td>both</td>\n",
       "    </tr>\n",
       "    <tr>\n",
       "      <th>1</th>\n",
       "      <td>20</td>\n",
       "      <td>86</td>\n",
       "      <td>Gorilas</td>\n",
       "      <td>Lagartos voladores australianos</td>\n",
       "      <td>Koi japoneses</td>\n",
       "      <td>Sapos comunes</td>\n",
       "      <td>Águilas</td>\n",
       "      <td>53</td>\n",
       "      <td>62</td>\n",
       "      <td>Peces abisales</td>\n",
       "      <td>Ciempiés</td>\n",
       "      <td>Pingüino</td>\n",
       "      <td>Gorilas</td>\n",
       "      <td>Cabras</td>\n",
       "      <td>both</td>\n",
       "    </tr>\n",
       "    <tr>\n",
       "      <th>2</th>\n",
       "      <td>20</td>\n",
       "      <td>86</td>\n",
       "      <td>Gorilas</td>\n",
       "      <td>Lagartos voladores australianos</td>\n",
       "      <td>Koi japoneses</td>\n",
       "      <td>Sapos comunes</td>\n",
       "      <td>Águilas</td>\n",
       "      <td>73</td>\n",
       "      <td>7</td>\n",
       "      <td>Colibríes</td>\n",
       "      <td>Pulgas</td>\n",
       "      <td>Cóndor</td>\n",
       "      <td>Gorilas</td>\n",
       "      <td>Ñu</td>\n",
       "      <td>both</td>\n",
       "    </tr>\n",
       "    <tr>\n",
       "      <th>3</th>\n",
       "      <td>20</td>\n",
       "      <td>86</td>\n",
       "      <td>Gorilas</td>\n",
       "      <td>Lagartos voladores australianos</td>\n",
       "      <td>Koi japoneses</td>\n",
       "      <td>Sapos comunes</td>\n",
       "      <td>Águilas</td>\n",
       "      <td>79</td>\n",
       "      <td>65</td>\n",
       "      <td>Ballenas</td>\n",
       "      <td>Cigarra o chicharra</td>\n",
       "      <td>Cigüeña</td>\n",
       "      <td>Gorilas</td>\n",
       "      <td>Corzos</td>\n",
       "      <td>both</td>\n",
       "    </tr>\n",
       "    <tr>\n",
       "      <th>4</th>\n",
       "      <td>82</td>\n",
       "      <td>47</td>\n",
       "      <td>Gorilas</td>\n",
       "      <td>Lagartos voladores australianos</td>\n",
       "      <td>Peces abisales</td>\n",
       "      <td>Ranas de Seychelles</td>\n",
       "      <td>Faisanes</td>\n",
       "      <td>20</td>\n",
       "      <td>72</td>\n",
       "      <td>Sapos gigantes</td>\n",
       "      <td>Mariposa esfinge colibrí</td>\n",
       "      <td>Guacamayo</td>\n",
       "      <td>Gorilas</td>\n",
       "      <td>Llamas</td>\n",
       "      <td>both</td>\n",
       "    </tr>\n",
       "    <tr>\n",
       "      <th>5</th>\n",
       "      <td>82</td>\n",
       "      <td>47</td>\n",
       "      <td>Gorilas</td>\n",
       "      <td>Lagartos voladores australianos</td>\n",
       "      <td>Peces abisales</td>\n",
       "      <td>Ranas de Seychelles</td>\n",
       "      <td>Faisanes</td>\n",
       "      <td>53</td>\n",
       "      <td>62</td>\n",
       "      <td>Peces abisales</td>\n",
       "      <td>Ciempiés</td>\n",
       "      <td>Pingüino</td>\n",
       "      <td>Gorilas</td>\n",
       "      <td>Cabras</td>\n",
       "      <td>both</td>\n",
       "    </tr>\n",
       "    <tr>\n",
       "      <th>6</th>\n",
       "      <td>82</td>\n",
       "      <td>47</td>\n",
       "      <td>Gorilas</td>\n",
       "      <td>Lagartos voladores australianos</td>\n",
       "      <td>Peces abisales</td>\n",
       "      <td>Ranas de Seychelles</td>\n",
       "      <td>Faisanes</td>\n",
       "      <td>73</td>\n",
       "      <td>7</td>\n",
       "      <td>Colibríes</td>\n",
       "      <td>Pulgas</td>\n",
       "      <td>Cóndor</td>\n",
       "      <td>Gorilas</td>\n",
       "      <td>Ñu</td>\n",
       "      <td>both</td>\n",
       "    </tr>\n",
       "    <tr>\n",
       "      <th>7</th>\n",
       "      <td>82</td>\n",
       "      <td>47</td>\n",
       "      <td>Gorilas</td>\n",
       "      <td>Lagartos voladores australianos</td>\n",
       "      <td>Peces abisales</td>\n",
       "      <td>Ranas de Seychelles</td>\n",
       "      <td>Faisanes</td>\n",
       "      <td>79</td>\n",
       "      <td>65</td>\n",
       "      <td>Ballenas</td>\n",
       "      <td>Cigarra o chicharra</td>\n",
       "      <td>Cigüeña</td>\n",
       "      <td>Gorilas</td>\n",
       "      <td>Corzos</td>\n",
       "      <td>both</td>\n",
       "    </tr>\n",
       "    <tr>\n",
       "      <th>8</th>\n",
       "      <td>67</td>\n",
       "      <td>35</td>\n",
       "      <td>Chimpancés</td>\n",
       "      <td>Basiliscos</td>\n",
       "      <td>Los tiburones ballena</td>\n",
       "      <td>Sapos corredores</td>\n",
       "      <td>Águilas</td>\n",
       "      <td>29</td>\n",
       "      <td>3</td>\n",
       "      <td>Gallipatos</td>\n",
       "      <td>Escarabajos</td>\n",
       "      <td>Águila</td>\n",
       "      <td>Chimpancés</td>\n",
       "      <td>Ciervo porcino</td>\n",
       "      <td>both</td>\n",
       "    </tr>\n",
       "    <tr>\n",
       "      <th>9</th>\n",
       "      <td>67</td>\n",
       "      <td>35</td>\n",
       "      <td>Chimpancés</td>\n",
       "      <td>Basiliscos</td>\n",
       "      <td>Los tiburones ballena</td>\n",
       "      <td>Sapos corredores</td>\n",
       "      <td>Águilas</td>\n",
       "      <td>37</td>\n",
       "      <td>55</td>\n",
       "      <td>Tuátaras de Nueva Zelanda</td>\n",
       "      <td>Tábano bombilius</td>\n",
       "      <td>Gorrión</td>\n",
       "      <td>Chimpancés</td>\n",
       "      <td>Cabras</td>\n",
       "      <td>both</td>\n",
       "    </tr>\n",
       "    <tr>\n",
       "      <th>10</th>\n",
       "      <td>67</td>\n",
       "      <td>35</td>\n",
       "      <td>Chimpancés</td>\n",
       "      <td>Basiliscos</td>\n",
       "      <td>Los tiburones ballena</td>\n",
       "      <td>Sapos corredores</td>\n",
       "      <td>Águilas</td>\n",
       "      <td>85</td>\n",
       "      <td>17</td>\n",
       "      <td>Cecilias</td>\n",
       "      <td>Escarabajo</td>\n",
       "      <td>Águila</td>\n",
       "      <td>Chimpancés</td>\n",
       "      <td>Alce irlandés</td>\n",
       "      <td>both</td>\n",
       "    </tr>\n",
       "    <tr>\n",
       "      <th>11</th>\n",
       "      <td>81</td>\n",
       "      <td>38</td>\n",
       "      <td>Chimpancés</td>\n",
       "      <td>Mosasaurios (extintos)</td>\n",
       "      <td>Anguilas de mar</td>\n",
       "      <td>Salamandras gigantes chinas</td>\n",
       "      <td>Gallinas</td>\n",
       "      <td>29</td>\n",
       "      <td>3</td>\n",
       "      <td>Gallipatos</td>\n",
       "      <td>Escarabajos</td>\n",
       "      <td>Águila</td>\n",
       "      <td>Chimpancés</td>\n",
       "      <td>Ciervo porcino</td>\n",
       "      <td>both</td>\n",
       "    </tr>\n",
       "    <tr>\n",
       "      <th>12</th>\n",
       "      <td>81</td>\n",
       "      <td>38</td>\n",
       "      <td>Chimpancés</td>\n",
       "      <td>Mosasaurios (extintos)</td>\n",
       "      <td>Anguilas de mar</td>\n",
       "      <td>Salamandras gigantes chinas</td>\n",
       "      <td>Gallinas</td>\n",
       "      <td>37</td>\n",
       "      <td>55</td>\n",
       "      <td>Tuátaras de Nueva Zelanda</td>\n",
       "      <td>Tábano bombilius</td>\n",
       "      <td>Gorrión</td>\n",
       "      <td>Chimpancés</td>\n",
       "      <td>Cabras</td>\n",
       "      <td>both</td>\n",
       "    </tr>\n",
       "    <tr>\n",
       "      <th>13</th>\n",
       "      <td>81</td>\n",
       "      <td>38</td>\n",
       "      <td>Chimpancés</td>\n",
       "      <td>Mosasaurios (extintos)</td>\n",
       "      <td>Anguilas de mar</td>\n",
       "      <td>Salamandras gigantes chinas</td>\n",
       "      <td>Gallinas</td>\n",
       "      <td>85</td>\n",
       "      <td>17</td>\n",
       "      <td>Cecilias</td>\n",
       "      <td>Escarabajo</td>\n",
       "      <td>Águila</td>\n",
       "      <td>Chimpancés</td>\n",
       "      <td>Alce irlandés</td>\n",
       "      <td>both</td>\n",
       "    </tr>\n",
       "    <tr>\n",
       "      <th>14</th>\n",
       "      <td>94</td>\n",
       "      <td>18</td>\n",
       "      <td>Chimpancés</td>\n",
       "      <td>Cocodrilos</td>\n",
       "      <td>Las agujas de río</td>\n",
       "      <td>Ranas venenosas</td>\n",
       "      <td>Guacamayas</td>\n",
       "      <td>29</td>\n",
       "      <td>3</td>\n",
       "      <td>Gallipatos</td>\n",
       "      <td>Escarabajos</td>\n",
       "      <td>Águila</td>\n",
       "      <td>Chimpancés</td>\n",
       "      <td>Ciervo porcino</td>\n",
       "      <td>both</td>\n",
       "    </tr>\n",
       "    <tr>\n",
       "      <th>15</th>\n",
       "      <td>94</td>\n",
       "      <td>18</td>\n",
       "      <td>Chimpancés</td>\n",
       "      <td>Cocodrilos</td>\n",
       "      <td>Las agujas de río</td>\n",
       "      <td>Ranas venenosas</td>\n",
       "      <td>Guacamayas</td>\n",
       "      <td>37</td>\n",
       "      <td>55</td>\n",
       "      <td>Tuátaras de Nueva Zelanda</td>\n",
       "      <td>Tábano bombilius</td>\n",
       "      <td>Gorrión</td>\n",
       "      <td>Chimpancés</td>\n",
       "      <td>Cabras</td>\n",
       "      <td>both</td>\n",
       "    </tr>\n",
       "    <tr>\n",
       "      <th>16</th>\n",
       "      <td>94</td>\n",
       "      <td>18</td>\n",
       "      <td>Chimpancés</td>\n",
       "      <td>Cocodrilos</td>\n",
       "      <td>Las agujas de río</td>\n",
       "      <td>Ranas venenosas</td>\n",
       "      <td>Guacamayas</td>\n",
       "      <td>85</td>\n",
       "      <td>17</td>\n",
       "      <td>Cecilias</td>\n",
       "      <td>Escarabajo</td>\n",
       "      <td>Águila</td>\n",
       "      <td>Chimpancés</td>\n",
       "      <td>Alce irlandés</td>\n",
       "      <td>both</td>\n",
       "    </tr>\n",
       "  </tbody>\n",
       "</table>\n",
       "</div>"
      ],
      "text/plain": [
       "    Id_x  Lider_x   Mamíferos                         Reptiles  \\\n",
       "0     20       86     Gorilas  Lagartos voladores australianos   \n",
       "1     20       86     Gorilas  Lagartos voladores australianos   \n",
       "2     20       86     Gorilas  Lagartos voladores australianos   \n",
       "3     20       86     Gorilas  Lagartos voladores australianos   \n",
       "4     82       47     Gorilas  Lagartos voladores australianos   \n",
       "5     82       47     Gorilas  Lagartos voladores australianos   \n",
       "6     82       47     Gorilas  Lagartos voladores australianos   \n",
       "7     82       47     Gorilas  Lagartos voladores australianos   \n",
       "8     67       35  Chimpancés                       Basiliscos   \n",
       "9     67       35  Chimpancés                       Basiliscos   \n",
       "10    67       35  Chimpancés                       Basiliscos   \n",
       "11    81       38  Chimpancés           Mosasaurios (extintos)   \n",
       "12    81       38  Chimpancés           Mosasaurios (extintos)   \n",
       "13    81       38  Chimpancés           Mosasaurios (extintos)   \n",
       "14    94       18  Chimpancés                       Cocodrilos   \n",
       "15    94       18  Chimpancés                       Cocodrilos   \n",
       "16    94       18  Chimpancés                       Cocodrilos   \n",
       "\n",
       "                    Peces                     Anfibios        Aves  Id_y  \\\n",
       "0           Koi japoneses                Sapos comunes     Águilas    20   \n",
       "1           Koi japoneses                Sapos comunes     Águilas    53   \n",
       "2           Koi japoneses                Sapos comunes     Águilas    73   \n",
       "3           Koi japoneses                Sapos comunes     Águilas    79   \n",
       "4          Peces abisales          Ranas de Seychelles    Faisanes    20   \n",
       "5          Peces abisales          Ranas de Seychelles    Faisanes    53   \n",
       "6          Peces abisales          Ranas de Seychelles    Faisanes    73   \n",
       "7          Peces abisales          Ranas de Seychelles    Faisanes    79   \n",
       "8   Los tiburones ballena             Sapos corredores     Águilas    29   \n",
       "9   Los tiburones ballena             Sapos corredores     Águilas    37   \n",
       "10  Los tiburones ballena             Sapos corredores     Águilas    85   \n",
       "11        Anguilas de mar  Salamandras gigantes chinas    Gallinas    29   \n",
       "12        Anguilas de mar  Salamandras gigantes chinas    Gallinas    37   \n",
       "13        Anguilas de mar  Salamandras gigantes chinas    Gallinas    85   \n",
       "14      Las agujas de río              Ranas venenosas  Guacamayas    29   \n",
       "15      Las agujas de río              Ranas venenosas  Guacamayas    37   \n",
       "16      Las agujas de río              Ranas venenosas  Guacamayas    85   \n",
       "\n",
       "    Lider_y                Vertebrados             Invertebrados   Ovíparos  \\\n",
       "0        72             Sapos gigantes  Mariposa esfinge colibrí  Guacamayo   \n",
       "1        62             Peces abisales                  Ciempiés   Pingüino   \n",
       "2         7                  Colibríes                    Pulgas     Cóndor   \n",
       "3        65                   Ballenas       Cigarra o chicharra    Cigüeña   \n",
       "4        72             Sapos gigantes  Mariposa esfinge colibrí  Guacamayo   \n",
       "5        62             Peces abisales                  Ciempiés   Pingüino   \n",
       "6         7                  Colibríes                    Pulgas     Cóndor   \n",
       "7        65                   Ballenas       Cigarra o chicharra    Cigüeña   \n",
       "8         3                 Gallipatos               Escarabajos     Águila   \n",
       "9        55  Tuátaras de Nueva Zelanda          Tábano bombilius    Gorrión   \n",
       "10       17                   Cecilias                Escarabajo     Águila   \n",
       "11        3                 Gallipatos               Escarabajos     Águila   \n",
       "12       55  Tuátaras de Nueva Zelanda          Tábano bombilius    Gorrión   \n",
       "13       17                   Cecilias                Escarabajo     Águila   \n",
       "14        3                 Gallipatos               Escarabajos     Águila   \n",
       "15       55  Tuátaras de Nueva Zelanda          Tábano bombilius    Gorrión   \n",
       "16       17                   Cecilias                Escarabajo     Águila   \n",
       "\n",
       "    Frugívoros       Rumiantes _merge  \n",
       "0      Gorilas          Llamas   both  \n",
       "1      Gorilas          Cabras   both  \n",
       "2      Gorilas              Ñu   both  \n",
       "3      Gorilas          Corzos   both  \n",
       "4      Gorilas          Llamas   both  \n",
       "5      Gorilas          Cabras   both  \n",
       "6      Gorilas              Ñu   both  \n",
       "7      Gorilas          Corzos   both  \n",
       "8   Chimpancés  Ciervo porcino   both  \n",
       "9   Chimpancés          Cabras   both  \n",
       "10  Chimpancés   Alce irlandés   both  \n",
       "11  Chimpancés  Ciervo porcino   both  \n",
       "12  Chimpancés          Cabras   both  \n",
       "13  Chimpancés   Alce irlandés   both  \n",
       "14  Chimpancés  Ciervo porcino   both  \n",
       "15  Chimpancés          Cabras   both  \n",
       "16  Chimpancés   Alce irlandés   both  "
      ]
     },
     "execution_count": 5,
     "metadata": {},
     "output_type": "execute_result"
    }
   ],
   "source": [
    "#join_dataframe(df1, df2, tipo_de_join='COLUMNS', llaves_para_join = ['Mamíferos','Vertebrados'])\n",
    "join_dataframe(df1, df2, llaves_para_join = ['Mamíferos','Frugívoros'], tipo_de_join='COLUMNS', mostrar_tipo_join=True)"
   ]
  },
  {
   "cell_type": "markdown",
   "id": "ae24ff53-5830-48c8-a077-85f6b8d4e971",
   "metadata": {},
   "source": [
    "# <center>**DIVIDIR UNA COLUMNA EN OTRAS COLUMNAS USANDO UN CARACTER ESPECIFICO**</center>"
   ]
  },
  {
   "cell_type": "code",
   "execution_count": null,
   "id": "95a73cce-7bac-4097-b1a8-e83a2fd09114",
   "metadata": {
    "scrolled": true,
    "tags": []
   },
   "outputs": [],
   "source": [
    "json_base.Anfibios.str.split(\" \", expand=True)"
   ]
  },
  {
   "cell_type": "code",
   "execution_count": null,
   "id": "2d807dad-e3c2-40b0-a282-828ba4eefd54",
   "metadata": {},
   "outputs": [],
   "source": [
    "json_base.Anfibios.str.split(\" \", n = 1, expand=True)"
   ]
  },
  {
   "cell_type": "markdown",
   "id": "8e250671-31c6-459b-bd61-3a108699d4e7",
   "metadata": {},
   "source": [
    "# <center>**OPERACIONES SOBRE UNA COLUMNA DE UN DATAFRAME**</center>"
   ]
  },
  {
   "cell_type": "code",
   "execution_count": null,
   "id": "79b9b936-850a-44c8-97d1-7e9ba5671ae9",
   "metadata": {},
   "outputs": [],
   "source": [
    "import random\n",
    "\n",
    "valores= {'numeros':[random.randint(-10, 10) for numero in range(10)]}\n",
    "dataset_numeros = pd.DataFrame(valores)\n",
    "\n",
    "print(valores)\n",
    "print(f'total numeros SIN VALORES NULOS {dataset_numeros[\"numeros\"].count()}')\n",
    "print(f'suma de los numeros {dataset_numeros[\"numeros\"].sum()}')\n",
    "print(f'media {dataset_numeros[\"numeros\"].mean()}')\n",
    "print(f'desviacion media absoluta {dataset_numeros[\"numeros\"].mad()}')\n",
    "print(f'mediana {dataset_numeros[\"numeros\"].median()}')\n",
    "\n",
    "print(f'minimo {dataset_numeros[\"numeros\"].min()}')\n",
    "print(f'maximo {dataset_numeros[\"numeros\"].max()}')\n",
    "\n",
    "print(f'moda {dataset_numeros[\"numeros\"].mode()}')\n",
    "print(f'valor absoluto {dataset_numeros[\"numeros\"].abs()}')"
   ]
  },
  {
   "cell_type": "markdown",
   "id": "c0577b39-c299-4657-a5af-0f2e3c7903a5",
   "metadata": {
    "tags": []
   },
   "source": [
    "# <center>**GROUP BY**</center>"
   ]
  },
  {
   "cell_type": "markdown",
   "id": "12063e89-ba68-42c8-b4bb-3377cc6d0dd7",
   "metadata": {},
   "source": [
    "# <center>**DATASET PELICULAS**</center>"
   ]
  },
  {
   "cell_type": "code",
   "execution_count": null,
   "id": "55d1b3b3-d569-4973-948a-23ae658393bb",
   "metadata": {
    "scrolled": true,
    "tags": []
   },
   "outputs": [],
   "source": [
    "archivo = 'https://raw.githubusercontent.com/JorgeCardona/skills/master/Pandas/archivos/rotten_tomatoes_movies.csv'\n",
    "# carga el dataset\n",
    "dataset_peliculas = pd.read_csv(archivo)"
   ]
  },
  {
   "cell_type": "code",
   "execution_count": null,
   "id": "fb04c9f1-b514-48cb-af3b-973db132d337",
   "metadata": {
    "scrolled": true,
    "tags": []
   },
   "outputs": [],
   "source": [
    "# creo una columna como index\n",
    "dataset_peliculas['index'] = range(0,dataset_peliculas.shape[0])\n",
    "dataset_peliculas = dataset_peliculas.set_index('index')\n",
    "print(dataset_peliculas.columns.to_list())\n",
    "\n",
    "# define las etiquetas con que se crearan las nuevas columnas \n",
    "etiquetas_actores = [\"PROTAGONISTA\", \"CO_PROTAGONISTA\", \"TERCER_PROTAGONISTA\", \"ACTORES_DE_REPARTO\"]\n",
    "etiquetas_directores = [\"DIRECTOR_PRINCIPAL\", \"DIRECTOR_SECUNDARIO\", \"DIRECTORES_AUXILIARES\"]\n",
    "etiquetas_generos = [\"GENERO_PRINCIPAL\", \"GENERO_SECUNDARIO\", \"GENEROS_AUXILIARES\"]\n",
    "\n",
    "# crea unos nuevos datasets con las columnas requeridas\n",
    "actores = dataset_peliculas.actors.str.split(\",\", n = 3, expand = True).rename(columns={indice:actor for indice, actor in enumerate(etiquetas_actores)})\n",
    "directores = dataset_peliculas.directors.str.split(\",\", n = 2, expand = True).rename(columns={indice:director for indice, director in enumerate(etiquetas_directores)})\n",
    "generos = dataset_peliculas.genres.str.split(\",\", n = 2, expand = True).rename(columns={indice:genero for indice, genero in enumerate(etiquetas_generos)})\n",
    "\n",
    "# une los dataframes en 1 solo\n",
    "actores_directores_generos = pd.merge(pd.merge(actores, directores, left_index=True, right_index=True), generos, left_index=True, right_index=True)\n",
    "dataset_completo  = pd.merge(dataset_peliculas, actores_directores_generos, left_index=True, right_index=True)\n",
    "\n",
    "# elimina las columnas que ya fueron divididas\n",
    "dataset_depurado = dataset_completo.drop(columns=['actors','directors','genres'])\n",
    "print('--------------------------------')\n",
    "print(dataset_depurado.columns.to_list())\n",
    "\n",
    "dataset_peliculas.head()"
   ]
  },
  {
   "cell_type": "code",
   "execution_count": null,
   "id": "b735487b-6403-4c80-8cd6-7d0edf8f2f19",
   "metadata": {},
   "outputs": [],
   "source": [
    "# define el numero de decimales en el dataframe\n",
    "dataset_depurado.describe().round(decimals=2)"
   ]
  },
  {
   "cell_type": "markdown",
   "id": "42ef214a-efbb-4f35-8f76-0d09776808a4",
   "metadata": {},
   "source": [
    "# <center>**ENCONTRAR EL INDICE Y EL VALOR DONDE ESTA EL VALOR MAXIMO DE UNA COLUMNA**</center>"
   ]
  },
  {
   "cell_type": "code",
   "execution_count": null,
   "id": "239bfbcb-c913-4f9b-9063-44f292ec8ebb",
   "metadata": {},
   "outputs": [],
   "source": [
    "columna_base = 'runtime'\n",
    "columna_objetivo = 'movie_title'\n",
    "indice = dataset_depurado[columna_base].idxmax()\n",
    "duracion = dataset_depurado[columna_base].max()\n",
    "\n",
    "# metodo ._get_value()\n",
    "nombre = dataset_depurado._get_value(indice,columna_objetivo)\n",
    "\n",
    "display(f'La pelicula que MAS dura esta ubicada en la fila -> {indice}')\n",
    "display(f'con una duracion de {duracion} minutos')\n",
    "display(f'y su nombre es : {nombre}')\n",
    "\n",
    "# crea el dtaframe con la informacion solicitada\n",
    "pd.DataFrame(dataset_depurado, columns=[columna_base,columna_objetivo])[indice:indice+1]"
   ]
  },
  {
   "cell_type": "markdown",
   "id": "ff69ddd2-5902-4d65-b0fa-c7783a49f7f7",
   "metadata": {},
   "source": [
    "# <center>**ENCONTRAR EL INDICE Y EL VALOR DONDE ESTA EL VALOR MINIMO DE UNA COLUMNA**</center>"
   ]
  },
  {
   "cell_type": "code",
   "execution_count": null,
   "id": "1bf34b81-db89-4c2a-8a4f-7ca665891bc1",
   "metadata": {},
   "outputs": [],
   "source": [
    "columna_base = 'runtime'\n",
    "columna_objetivo = 'movie_title'\n",
    "indice = dataset_depurado[columna_base].idxmin()\n",
    "duracion = dataset_depurado[columna_base].min()\n",
    "nombre = dataset_depurado._get_value(indice,columna_objetivo)\n",
    "\n",
    "display(f'La pelicula que MENOS dura esta ubicada en la fila -> {indice}')\n",
    "display(f'con una duracion de {duracion} minutos')\n",
    "display(f'y su nombre es : {nombre}')\n",
    "\n",
    "# crea el dtaframe con la informacion solicitada\n",
    "pd.DataFrame(dataset_depurado, columns=[columna_base,columna_objetivo])[indice:indice+1]"
   ]
  },
  {
   "cell_type": "markdown",
   "id": "932e304f-97e9-49dd-8399-4c7974d1dadd",
   "metadata": {},
   "source": [
    "# <center>**VALOR MAXIMO Y MINIMO DE CADA COLUMNA**</center>\n",
    "## <center>**idmax Y idmin**, solo funciona con columnas de valores numericos</center>"
   ]
  },
  {
   "cell_type": "code",
   "execution_count": null,
   "id": "b1434a35-0950-4045-a97c-f5afc0ce6177",
   "metadata": {},
   "outputs": [],
   "source": [
    "df1.max()"
   ]
  },
  {
   "cell_type": "code",
   "execution_count": null,
   "id": "15ec3186-aef7-4230-99a8-9970041b08ac",
   "metadata": {},
   "outputs": [],
   "source": [
    "df1.min()"
   ]
  },
  {
   "cell_type": "markdown",
   "id": "f15309a5-9aa7-4bd1-8204-a330ec36738a",
   "metadata": {
    "tags": []
   },
   "source": [
    "# <center>**ENCONTRAR EL INDICE DE AGRUPAMIENTO Y EL VALOR PROMEDIO DE UNA COLUMNA**</center>\n",
    "## <center>**FILTRO MULTICOLUMNA**</center>"
   ]
  },
  {
   "cell_type": "code",
   "execution_count": null,
   "id": "b8e449c5-e07e-46e7-8a65-9accbbde9169",
   "metadata": {
    "scrolled": true,
    "tags": []
   },
   "outputs": [],
   "source": [
    "columna_base = 'DIRECTOR_PRINCIPAL'\n",
    "columna_objetivo = 'audience_count'\n",
    "columna_objetivo2 = 'audience_rating'\n",
    "\n",
    "agrupacion_por_director = dataset_depurado.groupby(by=columna_base)[[columna_objetivo,columna_objetivo2]].mean()\n",
    "agrupacion_por_director.sort_values(by=columna_objetivo, ascending=False)"
   ]
  },
  {
   "cell_type": "markdown",
   "id": "77b42291-60e8-429e-9078-6d340d5858b7",
   "metadata": {},
   "source": [
    "# <center>**AGRUPAR Y ENCONTRAR EL MAXIMO**</center>"
   ]
  },
  {
   "cell_type": "code",
   "execution_count": null,
   "id": "de2a9c22-4d96-4a03-805a-142359846f3e",
   "metadata": {},
   "outputs": [],
   "source": [
    "director = agrupacion_por_director[columna_objetivo].idxmax()\n",
    "rating  = agrupacion_por_director._get_value(director,columna_objetivo)\n",
    "\n",
    "agrupacion_por_director[[columna_objetivo,columna_objetivo2]][director:director]"
   ]
  },
  {
   "cell_type": "markdown",
   "id": "f57735e3-682e-437b-a21d-678c66f90246",
   "metadata": {},
   "source": [
    "# <center>**AGRUPAR Y ENCONTRAR EL MINIMO**</center>"
   ]
  },
  {
   "cell_type": "code",
   "execution_count": null,
   "id": "2791c1b4-e020-4a66-b6f8-a588c8c4f4da",
   "metadata": {},
   "outputs": [],
   "source": [
    "director = agrupacion_por_director[columna_objetivo].idxmin()\n",
    "rating  = agrupacion_por_director._get_value(director,columna_objetivo)\n",
    "\n",
    "\n",
    "valores = f'director = {director}, rating = {rating}, columna_base = {columna_base}, columna_objetivo = {columna_objetivo}, columna_objetivo2 = {columna_objetivo2}'\n",
    "print(valores)\n",
    "\n",
    "agrupacion_por_director[[columna_objetivo,columna_objetivo2]][director:director]"
   ]
  },
  {
   "cell_type": "markdown",
   "id": "b856b0d5-8130-4671-a3e1-501ed6ce9253",
   "metadata": {},
   "source": [
    "# <center>**AGRUPAR Y ENCONTRAR LA MEDIA**</center>"
   ]
  },
  {
   "cell_type": "code",
   "execution_count": null,
   "id": "1e0650ff-adb1-4e03-bbd9-d209d3742b9c",
   "metadata": {
    "scrolled": true,
    "tags": []
   },
   "outputs": [],
   "source": [
    "print(valores)\n",
    "display(dataset_depurado.get('rating',dataset_depurado.runtime.mean()))"
   ]
  },
  {
   "cell_type": "markdown",
   "id": "e9c0aa6e-9ace-4eed-8525-38f43bcfad56",
   "metadata": {},
   "source": [
    "# <center>**AGRUPAR Y ENCONTRAR LA MODA**</center>"
   ]
  },
  {
   "cell_type": "code",
   "execution_count": null,
   "id": "d62e656c-6b85-4556-83e3-27234c2a3326",
   "metadata": {
    "scrolled": true,
    "tags": []
   },
   "outputs": [],
   "source": [
    "print(valores)\n",
    "display(dataset_depurado.get('rating',dataset_depurado.runtime.mode()))"
   ]
  },
  {
   "cell_type": "markdown",
   "id": "3fbc2df2-aedd-4618-9f56-8d5df3111535",
   "metadata": {},
   "source": [
    "# <center>**AGRUPAR Y CONTAR**</center>"
   ]
  },
  {
   "cell_type": "code",
   "execution_count": null,
   "id": "76143a83-2f85-4860-9b38-6e17c55bb100",
   "metadata": {
    "scrolled": true,
    "tags": []
   },
   "outputs": [],
   "source": [
    "print(valores)\n",
    "display(dataset_depurado.get('rating',dataset_depurado.runtime.count()))"
   ]
  },
  {
   "cell_type": "markdown",
   "id": "ad76a171-9fbd-4322-a3c2-1cf67b32247f",
   "metadata": {},
   "source": [
    "# <center>**AGRUPAR Y SUMAR**</center>"
   ]
  },
  {
   "cell_type": "code",
   "execution_count": null,
   "id": "b9d5bf13-ef42-42eb-811f-41966aed2d79",
   "metadata": {
    "scrolled": true,
    "tags": []
   },
   "outputs": [],
   "source": [
    "print(valores)\n",
    "display(dataset_depurado.get('rating',dataset_depurado.runtime.sum()))"
   ]
  },
  {
   "cell_type": "code",
   "execution_count": null,
   "id": "f9817355-8279-41c8-a5d0-b34b116463cf",
   "metadata": {
    "scrolled": true,
    "tags": []
   },
   "outputs": [],
   "source": [
    "nobel = pd.read_csv('https://raw.githubusercontent.com/JorgeCardona/skills/master/Pandas/archivos/nobel_prize.csv')\n",
    "nobel.head()"
   ]
  },
  {
   "cell_type": "markdown",
   "id": "83cdca23-d072-4019-847f-9f4957905fed",
   "metadata": {},
   "source": [
    "## <center>**AGRUPAMIENTO COLUMNA UNICA**</center>"
   ]
  },
  {
   "cell_type": "code",
   "execution_count": null,
   "id": "5d8cb7c3-d31d-4270-a98a-fa03d1f38ead",
   "metadata": {},
   "outputs": [],
   "source": [
    "print(list(nobel.category.unique()))"
   ]
  },
  {
   "cell_type": "markdown",
   "id": "82a1415f-66f3-4257-9161-b6d1d39f103d",
   "metadata": {},
   "source": [
    "## <center>**GENERA UN OBJETO DataFrameGroupBy AL USAR EL GROUP BY\"**</center>"
   ]
  },
  {
   "cell_type": "code",
   "execution_count": null,
   "id": "17973c5f-71b1-4d4d-90d7-3efdc4984b97",
   "metadata": {},
   "outputs": [],
   "source": [
    "columna_unica = nobel.groupby(by='category')\n",
    "columna_unica"
   ]
  },
  {
   "cell_type": "markdown",
   "id": "a476e7bf-66e3-4573-aa8f-c84fc52fa45f",
   "metadata": {},
   "source": [
    "### filtrar por un valor de la columna agrupada"
   ]
  },
  {
   "cell_type": "code",
   "execution_count": null,
   "id": "4e120609-3af9-4685-909f-b20a863816d8",
   "metadata": {
    "scrolled": true,
    "tags": []
   },
   "outputs": [],
   "source": [
    "columna_unica.get_group('Chemistry')"
   ]
  },
  {
   "cell_type": "markdown",
   "id": "bb67a7d2-1c02-46e9-8e25-baaf7e901a4d",
   "metadata": {},
   "source": [
    "## <center>**AGRUPAMIENTO MULTICOLUMNA**</center>"
   ]
  },
  {
   "cell_type": "code",
   "execution_count": null,
   "id": "7a8df1de-1e9f-4618-b305-0d7c05ab586e",
   "metadata": {},
   "outputs": [],
   "source": [
    "# da la posibilidad de usar una lista de campos para agrupar\n",
    "columnas = ['category', 'awardYear']\n",
    "\n",
    "multi_columna = nobel.groupby(by=columnas)\n",
    "multi_columna"
   ]
  },
  {
   "cell_type": "code",
   "execution_count": null,
   "id": "7870b16d-2826-4797-804d-9473e09be307",
   "metadata": {
    "scrolled": true,
    "tags": []
   },
   "outputs": [],
   "source": [
    "#debe contener una tupla con los valores a filtrar y los valores TIENEN que existir\n",
    "grouped = multi_columna.get_group(('Chemistry',2004))\n",
    "grouped"
   ]
  },
  {
   "cell_type": "markdown",
   "id": "68bc9207-15f2-4b4e-aeea-a5dabc14d421",
   "metadata": {},
   "source": [
    "## <center>**GENERA UNA SERIE, FILTRANDO CON UN INDICE, \"CON UN SOLO CORCHETE\"**</center>"
   ]
  },
  {
   "cell_type": "code",
   "execution_count": null,
   "id": "9d41171b-8e75-4cd2-b432-aac3f30e98f8",
   "metadata": {
    "scrolled": true,
    "tags": []
   },
   "outputs": [],
   "source": [
    "# se pone el valor entre 2 corchetes para luego poder acceder a la informacion [['columnas_filtro']]\n",
    "columnas_agrupamiento = ['category', 'awardYear']\n",
    "columnas_filtro = 'categoryFullName'\n",
    "\n",
    "filtro = nobel.groupby(by=columnas_agrupamiento)[columnas_filtro].sum()\n",
    "print(type(filtro))\n",
    "filtro.head()"
   ]
  },
  {
   "cell_type": "markdown",
   "id": "506fe710-ece9-483d-aae2-8ba161935034",
   "metadata": {},
   "source": [
    "## <center>**GENERA UN DATAFRAME, FILTRANDO CON UNA COLUMNA, \"CON DOBLE CORCHETE\"**</center>"
   ]
  },
  {
   "cell_type": "code",
   "execution_count": null,
   "id": "a39232d0-89a3-4d26-a034-14874475b335",
   "metadata": {},
   "outputs": [],
   "source": [
    "# se pone el valor entre 2 corchetes para luego poder acceder a la informacion [['columnas_filtro']]\n",
    "columnas_agrupamiento = ['category', 'awardYear']\n",
    "columnas_filtro = 'categoryFullName'\n",
    "\n",
    "filtro = nobel.groupby(by=columnas_agrupamiento)[[columnas_filtro]].sum()\n",
    "print(type(filtro))\n",
    "filtro.head()"
   ]
  },
  {
   "cell_type": "code",
   "execution_count": null,
   "id": "ea1494d1-177c-4917-818b-9affd28025e7",
   "metadata": {},
   "outputs": [],
   "source": [
    "# se pone el valor entre 2 corchetes o una lista como argumento para luego poder acceder a la informacion ['columnas_filtro']\n",
    "columnas_agrupamiento = ['category', 'awardYear']\n",
    "columnas_filtro = ['prizeAmount','sortOrder']\n",
    "\n",
    "filtro = nobel.groupby(by=columnas_agrupamiento)[columnas_filtro].sum()\n",
    "print(type(filtro))\n",
    "filtro.head()"
   ]
  },
  {
   "cell_type": "markdown",
   "id": "79d3400d-50f9-419f-9506-68656be6f6b7",
   "metadata": {},
   "source": [
    "# <center>**ENCONTRAR EL INDICE DE AGRUPAMIENTO Y EL VALOR DONDE ESTA EL VALOR MAXIMO DE UNA COLUMNA**</center>"
   ]
  },
  {
   "cell_type": "code",
   "execution_count": null,
   "id": "a506c37d-62a5-4e0f-889f-8876fca04afa",
   "metadata": {
    "scrolled": true,
    "tags": []
   },
   "outputs": [],
   "source": [
    "indices_agrupamiento = ['category','categoryFullName','awardYear','prizeStatus']\n",
    "columna_objetivo = 'prizeAmount'\n",
    "\n",
    "# crea multiples indices y una sola columna base\n",
    "agrupacion_indices_agrupamiento = nobel\\\n",
    "                                        .groupby(by=indices_agrupamiento)\\\n",
    "                                        [[columna_objetivo]]\\\n",
    "                                        .sum()\n",
    "\n",
    "# registro con el valor maximo de cada columna basado en la columna filtro\n",
    "registro_valores_filtrados = agrupacion_indices_agrupamiento[columna_objetivo]\\\n",
    "                                                                                .idxmax()\n",
    "\n",
    "# valor especifico de la columna objetivo\n",
    "valor_columna_objetivo = agrupacion_indices_agrupamiento\\\n",
    "                                                        [columna_objetivo]\\\n",
    "                                                        [registro_valores_filtrados]\n",
    "\n",
    "# valor especifico de la columna objetivo otra forma\n",
    "# valor especifico filtrado de la columna objetivo obtenido con los valores del registro_valores_filtrados \n",
    "valor_columna_objetivo_forma_2 = agrupacion_indices_agrupamiento\\\n",
    "                                                                ._get_value(registro_valores_filtrados, columna_objetivo)\n",
    "\n",
    "display(f'El registro_valores_filtrados MAS usado es -> {registro_valores_filtrados}')\n",
    "display(f'y el valor acumulado mas alto de {columna_objetivo} es : {valor_columna_objetivo}')\n",
    "\n",
    "# crea el dataframe con la informacion solicitada\n",
    "agrupacion_indices_agrupamiento[columna_objetivo]\\\n",
    "                                                [registro_valores_filtrados:registro_valores_filtrados]\\\n",
    "                                                .to_frame()"
   ]
  },
  {
   "cell_type": "markdown",
   "id": "3a1192eb-1bb4-4e7b-ae05-b6d01094c6b6",
   "metadata": {},
   "source": [
    "# <center>**ENCONTRAR EL INDICE DE AGRUPAMIENTO Y EL VALOR DONDE ESTA EL VALOR MINIMO DE UNA COLUMNA**</center>"
   ]
  },
  {
   "cell_type": "code",
   "execution_count": null,
   "id": "bd649b60-799e-4ea5-bf8b-6619f6460ad4",
   "metadata": {},
   "outputs": [],
   "source": [
    "# registro con el valor maximo de cada columna basado en la columna filtro\n",
    "registro_valores_filtrados = agrupacion_indices_agrupamiento[columna_objetivo]\\\n",
    "                                                                                .idxmin()\n",
    "\n",
    "# valor especifico de la columna objetivo\n",
    "valor_columna_objetivo = agrupacion_indices_agrupamiento\\\n",
    "                                                        [columna_objetivo]\\\n",
    "                                                        [registro_valores_filtrados]\n",
    "\n",
    "# valor especifico de la columna objetivo otra forma\n",
    "# valor especifico filtrado de la columna objetivo obtenido con los valores del registro_valores_filtrados \n",
    "valor_columna_objetivo_forma_2 = agrupacion_indices_agrupamiento\\\n",
    "                                                                ._get_value(registro_valores_filtrados, columna_objetivo)\n",
    "\n",
    "display(f'El registro_valores_filtrados MAS usado es -> {registro_valores_filtrados}')\n",
    "display(f'y el valor acumulado mas alto de {columna_objetivo} es : {valor_columna_objetivo}')\n",
    "\n",
    "# crea el dataframe con la informacion solicitada\n",
    "agrupacion_indices_agrupamiento[columna_objetivo]\\\n",
    "                                                [registro_valores_filtrados:registro_valores_filtrados]\\\n",
    "                                                .to_frame()"
   ]
  },
  {
   "cell_type": "markdown",
   "id": "64ee3bf7-1871-4286-abb5-5f3f5994e5f6",
   "metadata": {},
   "source": [
    "# <center>**FUNCIONES SOBRE EL AGRUPADO**</center>"
   ]
  },
  {
   "cell_type": "code",
   "execution_count": null,
   "id": "446e9c97-a193-4cf1-a3dd-9c5e15e2bfaa",
   "metadata": {
    "scrolled": true,
    "tags": []
   },
   "outputs": [],
   "source": [
    "limite = 100\n",
    "valores = {'departamento':[random.choice(['Bebes','Adolescentes','Adultos','Adultos Mayores','Mascotas']) for valor in range(limite)],\n",
    " 'publico':[random.choice(['Niña','Niño','Hombre','Mujer']) for valor in range(limite)],\n",
    " 'disponibilidad':[valor * random.randint(1,1000) for valor in range(limite)],\n",
    " 'precio':[valor * random.randint(1,100) for valor in range(limite)]\n",
    "}\n",
    "\n",
    "ejemplo = pd.DataFrame(valores)\n",
    "ejemplo"
   ]
  },
  {
   "cell_type": "markdown",
   "id": "0c20942e-9841-45c5-8f95-4bfeffdca72b",
   "metadata": {},
   "source": [
    "# <center>**AGRUPAR**</center>"
   ]
  },
  {
   "cell_type": "code",
   "execution_count": null,
   "id": "7126a17d-7d83-4b38-a45a-cee632c55317",
   "metadata": {},
   "outputs": [],
   "source": [
    "ej = ejemplo.groupby(['publico','departamento'])"
   ]
  },
  {
   "cell_type": "markdown",
   "id": "50d9114d-82e1-4e2e-84fe-bb57ea3b7191",
   "metadata": {},
   "source": [
    "# <center>**INFORMACION DE AGRUPADO**</center>"
   ]
  },
  {
   "cell_type": "code",
   "execution_count": null,
   "id": "eb7ea657-af08-45cc-bb89-444d86536722",
   "metadata": {},
   "outputs": [],
   "source": [
    "ej.groups"
   ]
  },
  {
   "cell_type": "code",
   "execution_count": null,
   "id": "680ccd55-37bc-4666-a73a-09c9d56f11b0",
   "metadata": {},
   "outputs": [],
   "source": [
    "ej.indices"
   ]
  },
  {
   "cell_type": "markdown",
   "id": "d47ea6de-aea8-40c8-bfc8-580e515c94bd",
   "metadata": {},
   "source": [
    "### <center>**MAXIMO**</center>"
   ]
  },
  {
   "cell_type": "code",
   "execution_count": null,
   "id": "2b3d1a96-6310-4e28-bd31-a4f704ad9de9",
   "metadata": {},
   "outputs": [],
   "source": [
    "max(ej.idxmax())"
   ]
  },
  {
   "cell_type": "code",
   "execution_count": null,
   "id": "1e528ebc-fc75-4760-a765-c9b7465bd255",
   "metadata": {},
   "outputs": [],
   "source": [
    "valor = ej.idxmax()\n",
    "display(valor)\n",
    "indice = valor[0:1].disponibilidad.values[0]\n",
    "print(f'indice {indice}')\n",
    "ejemplo[indice:indice+1]"
   ]
  },
  {
   "cell_type": "code",
   "execution_count": null,
   "id": "6fc3ce66-1b7f-4f68-b7c2-fa92d5c1578b",
   "metadata": {},
   "outputs": [],
   "source": [
    "ejemplo.disponibilidad.max()"
   ]
  },
  {
   "cell_type": "code",
   "execution_count": null,
   "id": "211467fe-7f9b-4283-802a-387525cde404",
   "metadata": {
    "scrolled": true,
    "tags": []
   },
   "outputs": [],
   "source": [
    "ejemplo.sort_values('disponibilidad', ascending=False)"
   ]
  },
  {
   "cell_type": "markdown",
   "id": "3953c794-a0d4-4462-ad9d-282dbad21335",
   "metadata": {},
   "source": [
    "### <center>**MINIMO**</center>"
   ]
  },
  {
   "cell_type": "code",
   "execution_count": null,
   "id": "8bde16a2-db98-40e2-b807-fc77f0fa9c57",
   "metadata": {},
   "outputs": [],
   "source": [
    "valor = ej.idxmin()\n",
    "display(valor)\n",
    "indice = valor[0:1].precio.values[0]\n",
    "print(f'indice {indice}')\n",
    "ejemplo[indice:indice+1]"
   ]
  },
  {
   "cell_type": "code",
   "execution_count": null,
   "id": "01ad3c9c-db6a-40ae-bf98-8ff5540610c2",
   "metadata": {
    "scrolled": true,
    "tags": []
   },
   "outputs": [],
   "source": [
    "ej.plot()"
   ]
  },
  {
   "cell_type": "markdown",
   "id": "ba3729f1-5a6f-4eda-b89a-7ca6cb26faa1",
   "metadata": {},
   "source": [
    "# <center>**FUNCIONES DE AGREGADO**</center>"
   ]
  },
  {
   "cell_type": "code",
   "execution_count": null,
   "id": "593b479f-6d84-4bc8-84d4-4451000e8619",
   "metadata": {
    "scrolled": true,
    "tags": []
   },
   "outputs": [],
   "source": [
    "ej.sum()"
   ]
  },
  {
   "cell_type": "code",
   "execution_count": null,
   "id": "c99014ba-1c65-4e39-8013-ede365803ac7",
   "metadata": {
    "scrolled": true,
    "tags": []
   },
   "outputs": [],
   "source": [
    "# count,size,sum,mean,average,std,var,sem,describe,min,max,first,last,nth\n",
    "ej.agg(\n",
    "    {\"disponibilidad\": [sum, max, min, 'std'], \"precio\": ['mean','median','std','first','last']})"
   ]
  },
  {
   "cell_type": "code",
   "execution_count": null,
   "id": "b507376a-d1ac-4a06-ad77-4b7550806790",
   "metadata": {
    "scrolled": true,
    "tags": []
   },
   "outputs": [],
   "source": [
    "ej.aggregate(\n",
    "    {\"disponibilidad\": [sum, max, min, 'std'], \"precio\": ['mean','median','std','first','last']})"
   ]
  },
  {
   "cell_type": "markdown",
   "id": "af3b0ab1-8bba-42a0-a9d7-e93abe7f92f5",
   "metadata": {},
   "source": [
    "# <center>**STACK, UNSTACK, PIVOT TABLE**</center>"
   ]
  },
  {
   "cell_type": "code",
   "execution_count": null,
   "id": "dbbbb0ae-90e5-43fa-b333-d1993cca853b",
   "metadata": {},
   "outputs": [],
   "source": [
    "dataframe = pd.read_csv('groupby_pivot_table')\n",
    "dataframe.head()"
   ]
  },
  {
   "cell_type": "markdown",
   "id": "359af1ef-e1fa-4330-a94f-4a519ce1f633",
   "metadata": {},
   "source": [
    "# <center>**STACK,GENERA SERIE Y AGRUPA POR FILAS CONTRA COLUMNAS**</center>"
   ]
  },
  {
   "cell_type": "code",
   "execution_count": null,
   "id": "3b58a8fd-5e3f-4b38-9540-ae0a89eb5c95",
   "metadata": {
    "scrolled": true,
    "tags": []
   },
   "outputs": [],
   "source": [
    "dataframe.stack()"
   ]
  },
  {
   "cell_type": "markdown",
   "id": "9f37dbe1-22bc-421a-ac15-8303dca40428",
   "metadata": {},
   "source": [
    "# <center>**UNSTACK, ELIMINA LA ULTIMA AGRUPACION DADA Y GENERA UNA SERIE** FILA x FILA</center>"
   ]
  },
  {
   "cell_type": "code",
   "execution_count": null,
   "id": "3955b366-24a5-43b6-bbc7-82497bd7c79e",
   "metadata": {
    "scrolled": true,
    "tags": []
   },
   "outputs": [],
   "source": [
    "dataframe.unstack()"
   ]
  },
  {
   "cell_type": "markdown",
   "id": "23841c01-8b61-4fa6-ac23-c53acc63e8bc",
   "metadata": {},
   "source": [
    "# CONTEO DE COLUMNAS AGRUPADAS, **SIZE** GENERA SERIE"
   ]
  },
  {
   "cell_type": "code",
   "execution_count": null,
   "id": "d46d9644-5524-49d8-a845-7ef7647f979a",
   "metadata": {
    "scrolled": true,
    "tags": []
   },
   "outputs": [],
   "source": [
    "display(values)\n",
    "dataframe.groupby(by=['Uno','Dos','Tres','Cuatro']).size()"
   ]
  },
  {
   "cell_type": "markdown",
   "id": "bd13f296-678c-45c9-8e16-3d4f5bab8ace",
   "metadata": {},
   "source": [
    "# CONTEO DE COLUMNAS AGRUPADAS, **COUNT** GENERA DATAFRAME"
   ]
  },
  {
   "cell_type": "code",
   "execution_count": null,
   "id": "5cb13db3-c042-4084-b082-bd8e406f02d1",
   "metadata": {
    "scrolled": true,
    "tags": []
   },
   "outputs": [],
   "source": [
    "display(values)\n",
    "dataframe.groupby(by=['Uno','Dos','Tres','Cuatro']).count()"
   ]
  },
  {
   "cell_type": "markdown",
   "id": "7528715a-f13f-4126-b0d5-0c3d98e05389",
   "metadata": {},
   "source": [
    "# COMPARACION COLUMNAS AGRUPADAS"
   ]
  },
  {
   "cell_type": "code",
   "execution_count": null,
   "id": "7297143d-2b3a-4b42-8042-9277d0ec9ec9",
   "metadata": {},
   "outputs": [],
   "source": [
    "# solo compara las columnas agrupadas\n",
    "dataframe.groupby(by=['Uno','Dos','Tres']).count().unstack()"
   ]
  },
  {
   "cell_type": "markdown",
   "id": "c1f7befb-53bf-43da-b66d-c876f5b7134e",
   "metadata": {},
   "source": [
    "# size y luego unstack genera dataframe y evita duplicar valores de agrupamiento con las demas columnas"
   ]
  },
  {
   "cell_type": "code",
   "execution_count": null,
   "id": "13a6f388-5f92-49f2-8367-13163592255b",
   "metadata": {},
   "outputs": [],
   "source": [
    "dataframe.groupby(by=['Uno','Dos','Tres']).size().unstack()"
   ]
  },
  {
   "cell_type": "markdown",
   "id": "b28c80d2-2f45-48e2-8e0a-6d2f2f541e80",
   "metadata": {},
   "source": [
    "# solo compara las columnas agrupadas"
   ]
  },
  {
   "cell_type": "code",
   "execution_count": null,
   "id": "b62fbead-6b31-46fe-b6f6-b621567d1ac5",
   "metadata": {},
   "outputs": [],
   "source": [
    "dataframe.groupby(by=['Uno','Dos','Tres']).size().unstack(fill_value=0)"
   ]
  },
  {
   "cell_type": "markdown",
   "id": "449a9b3a-aa9a-4f5b-a2df-84117f7ae0c3",
   "metadata": {},
   "source": [
    "# agrupa por las primeras columnas y compara contra la ultima columna del array"
   ]
  },
  {
   "cell_type": "code",
   "execution_count": null,
   "id": "ff815aba-ac9a-4db6-b257-2cd48677b005",
   "metadata": {},
   "outputs": [],
   "source": [
    "display(dataframe.query(\"Uno =='Amarillo' and Dos == 'Rojo' and Tres =='Azul' \"))\n",
    "dataframe.groupby(by=['Uno','Dos','Tres','Cuatro']).size().unstack(fill_value=0)"
   ]
  },
  {
   "cell_type": "markdown",
   "id": "90021bd2-2b91-4ae9-922f-fc6568f13640",
   "metadata": {},
   "source": [
    "# agrupa con TABLA PIVOTE por la columnas declaradas en el parametro index y compara contra el parametro columns\n",
    "# el parametro value puede contener cualquier nombre de cualquier columna, eso elimina el nombre de las columnas que no son declaradas para el agrupamiento"
   ]
  },
  {
   "cell_type": "markdown",
   "id": "3381e95a-3b3b-45e8-95a6-893eeec4b05e",
   "metadata": {},
   "source": [
    "# agrupacion multiples indices"
   ]
  },
  {
   "cell_type": "code",
   "execution_count": null,
   "id": "ca25ebb5-874f-4237-bdc0-b43b74feec3e",
   "metadata": {
    "scrolled": true,
    "tags": []
   },
   "outputs": [],
   "source": [
    "display(dataframe.query(\"Uno =='Amarillo' and Dos == 'Rojo' and Tres =='Azul' \"))\n",
    "pd.pivot_table(dataframe, values='Uno', index=['Uno','Dos','Tres'],\n",
    "                    columns=['Cuatro'], aggfunc='count', fill_value=0)"
   ]
  },
  {
   "cell_type": "code",
   "execution_count": null,
   "id": "adae0879-15ff-40b9-a9a5-8abac90350bd",
   "metadata": {},
   "outputs": [],
   "source": [
    "# por eliminar el parametro 'values', muestra el nombre de las columnas que no son solicitadas, duplicando los datos de la columna con que se quiere comparar\n",
    "display(dataframe.query(\"Uno =='Amarillo' and Dos == 'Rojo' and Tres =='Azul' \"))\n",
    "pd.pivot_table(dataframe, index=['Uno','Dos'],\n",
    "                    columns=['Cuatro'], aggfunc='count', fill_value=0)"
   ]
  },
  {
   "cell_type": "markdown",
   "id": "2f298986-115e-4222-be1a-79465863c47f",
   "metadata": {},
   "source": [
    "# agrupacion multiples columnas declaradas"
   ]
  },
  {
   "cell_type": "code",
   "execution_count": null,
   "id": "5a011014-d69c-4dd3-965f-b244c5c2b766",
   "metadata": {},
   "outputs": [],
   "source": [
    "display(dataframe.query(\"Uno =='Amarillo' and Dos == 'Rojo' and Tres =='Azul' \"))\n",
    "pd.pivot_table(dataframe, values='Uno', index=['Uno','Dos',],\n",
    "                    columns=['Tres','Cuatro'], aggfunc='count', fill_value=0)"
   ]
  },
  {
   "cell_type": "code",
   "execution_count": null,
   "id": "42dadf14-e4b9-4245-8487-3dfdd5e19c67",
   "metadata": {},
   "outputs": [],
   "source": [
    "dataframe.groupby(by=['Uno','Dos','Tres','Cuatro']).size().unstack(level=['Tres','Cuatro'], fill_value=0).sort_index(axis=1)"
   ]
  },
  {
   "cell_type": "markdown",
   "id": "942df215-5fe6-4d31-9474-e5bdba14d135",
   "metadata": {},
   "source": [
    "## usando indices"
   ]
  },
  {
   "cell_type": "code",
   "execution_count": null,
   "id": "fe9603aa-3f0b-449b-81b3-efe08a25dd19",
   "metadata": {},
   "outputs": [],
   "source": [
    "display(values)\n",
    "\n",
    "# participan todas la columnas\n",
    "dataframe.groupby(by=['Uno','Dos','Tres','Cuatro']).size().unstack(level=[2,3], fill_value=0).sort_index(axis=1)"
   ]
  },
  {
   "cell_type": "code",
   "execution_count": null,
   "id": "2a5dbe47-9731-4565-bac6-5f1b8d06b111",
   "metadata": {},
   "outputs": [],
   "source": [
    "# Cruce de agrupado con columna especifica mostrando valores en comun sin repetir\n",
    "dataframe.query(\" Uno=='Amarillo' and Dos =='Rojo' \")"
   ]
  },
  {
   "cell_type": "code",
   "execution_count": null,
   "id": "ebef92ad-847e-4d26-8dcb-efb3abc6e231",
   "metadata": {},
   "outputs": [],
   "source": [
    "dataframe.groupby(by=['Uno','Dos','Tres','Cuatro']).Cinco.size().unstack(level=[2,3], fill_value=0).sort_index(axis=1).head(3)"
   ]
  },
  {
   "cell_type": "code",
   "execution_count": null,
   "id": "77ec5839-7bca-43e8-88ef-70884c82a875",
   "metadata": {},
   "outputs": [],
   "source": [
    "dataframe.groupby(by=['Uno','Dos','Tres','Cuatro']).Cinco.unique().unstack(level=[2,3], fill_value=0).sort_index(axis=1).head(3)"
   ]
  },
  {
   "cell_type": "markdown",
   "id": "f8d4959d-2fa7-4045-bfd9-08df57cde033",
   "metadata": {},
   "source": [
    "# GRAFICOS"
   ]
  },
  {
   "cell_type": "markdown",
   "id": "1617e126-888a-4608-b35f-e7b20c388d94",
   "metadata": {},
   "source": [
    "# <center>**HABILITAR PLOTLY EN PANDAS**</center>"
   ]
  },
  {
   "cell_type": "code",
   "execution_count": null,
   "id": "aac955d9-6921-4e24-8d5f-be8ab9c3759c",
   "metadata": {},
   "outputs": [],
   "source": [
    "datos_graficas = df1.sample(10)\n",
    "datos_graficas"
   ]
  },
  {
   "cell_type": "code",
   "execution_count": null,
   "id": "9bd6ca2b-4bfe-46bf-ab6a-070e91cd2fee",
   "metadata": {},
   "outputs": [],
   "source": [
    "print(datos_graficas.Peces)\n",
    "df_otro = pd.DataFrame(datos_graficas, columns=['Lider','Peces'])\n",
    "df_otro= df_otro.set_index('Peces')\n",
    "\n",
    "df_otro.plot.pie(y ='Lider')\n",
    "#df_otro"
   ]
  },
  {
   "cell_type": "code",
   "execution_count": null,
   "id": "2476a023-481a-425a-a43c-54465f0a9abb",
   "metadata": {},
   "outputs": [],
   "source": [
    "! pip install cufflinks "
   ]
  },
  {
   "cell_type": "code",
   "execution_count": null,
   "id": "135ef639-bfac-48c9-b830-4463beb1b315",
   "metadata": {},
   "outputs": [],
   "source": []
  },
  {
   "cell_type": "code",
   "execution_count": null,
   "id": "0379e444-ecab-467a-814c-5a540bf0f245",
   "metadata": {},
   "outputs": [],
   "source": []
  },
  {
   "cell_type": "code",
   "execution_count": null,
   "id": "17aed6c3-384a-4541-abdc-1b94bf2648ba",
   "metadata": {},
   "outputs": [],
   "source": [
    "pd.options.plotting.backend = \"plotly\"\n",
    "pd.options.plotting.backend = 'matplotlib'\n",
    "\n",
    "import numpy as np\n",
    "# Let's create a random data with numpy\n",
    "df = pd.DataFrame(np.random.rand(200, 4), columns='A B C D'.split())\n",
    "\n",
    "# check the data once\n",
    "df.head()"
   ]
  },
  {
   "cell_type": "markdown",
   "id": "76348b22-2b82-423c-a84b-b91bfd3881d4",
   "metadata": {},
   "source": [
    "# <center>**GRAFICO LINEAS**</center>"
   ]
  },
  {
   "cell_type": "code",
   "execution_count": null,
   "id": "676c0bef-19d7-4c0c-a0fd-b93daaec580a",
   "metadata": {},
   "outputs": [],
   "source": [
    "df = pd.DataFrame({'mass': [0.330, 4.87 , 5.97],\n",
    "                   'radius': [2439.7, 6051.8, 6378.1]},\n",
    "                  index=['Mercury', 'Venus', 'Earth'])\n",
    "plot = df.plot.pie(subplots=True)"
   ]
  },
  {
   "cell_type": "code",
   "execution_count": null,
   "id": "c25ca846-c68f-4864-a574-ca2505fc1b71",
   "metadata": {},
   "outputs": [],
   "source": [
    "df.plot()"
   ]
  },
  {
   "cell_type": "code",
   "execution_count": null,
   "id": "4061fdc2-30a9-4bd5-8b09-632b46087790",
   "metadata": {},
   "outputs": [],
   "source": [
    "df.plot(kind='line')"
   ]
  },
  {
   "cell_type": "code",
   "execution_count": null,
   "id": "08842288-1b94-469b-996c-d355b041365a",
   "metadata": {},
   "outputs": [],
   "source": [
    "df.plot.line(backend='plotly')"
   ]
  },
  {
   "cell_type": "markdown",
   "id": "4fd0e2bd-7119-4b13-85b9-adb393c87822",
   "metadata": {},
   "source": [
    "# <center>**GRAFICO DISPERSION**</center>"
   ]
  },
  {
   "cell_type": "code",
   "execution_count": null,
   "id": "1681c8a0-28dd-4b32-b4ce-8f826784083a",
   "metadata": {},
   "outputs": [],
   "source": [
    "df.plot.scatter(x='A', y='B')"
   ]
  },
  {
   "cell_type": "code",
   "execution_count": null,
   "id": "cef7f0be-26f2-4e50-a0c9-b7c91a1fbb20",
   "metadata": {},
   "outputs": [],
   "source": [
    "pd.options.plotting.backend = \"plotly\"\n",
    "df.plot.scatter(x='A', y='B')"
   ]
  },
  {
   "cell_type": "markdown",
   "id": "7bcb88b8-492a-4d4e-a383-59c3c733fbdd",
   "metadata": {},
   "source": [
    "# <center>**GRAFICO DE BARRAS VERTICALES**</center>"
   ]
  },
  {
   "cell_type": "code",
   "execution_count": null,
   "id": "ec6d2656-fb66-498c-a510-cede7e89e8cd",
   "metadata": {},
   "outputs": [],
   "source": [
    "pd.options.plotting.backend = 'matplotlib'\n",
    "df.plot.bar()"
   ]
  },
  {
   "cell_type": "markdown",
   "id": "362a1b26-ce3f-4e8e-80a4-866814b76d07",
   "metadata": {},
   "source": [
    "# <center>**GRAFICO DE BARRAS HORIZONTALES**</center>"
   ]
  },
  {
   "cell_type": "code",
   "execution_count": null,
   "id": "6e8400fe-b255-4e98-9f7e-6fb7d92528a4",
   "metadata": {},
   "outputs": [],
   "source": [
    "# muestra el valor acumulado de una columna\n",
    "\n",
    "df = pd.DataFrame({'radius': [2439.7, 4051.8, 6378.1],\n",
    "                   'mass': [0.330, 5.97 , 5.97]},\n",
    "                  index=['Mercury', 'Venus', 'Earth'])\n",
    "\n",
    "df.plot.barh(backend='plotly')"
   ]
  },
  {
   "cell_type": "code",
   "execution_count": null,
   "id": "13138508-a2e1-45ac-b4bc-440ade69d889",
   "metadata": {},
   "outputs": [],
   "source": [
    "df = pd.DataFrame({'radius': [2439.7, 4051.8, 6378.1],\n",
    "                   'mass': [0.330, 500 , 1297]},\n",
    "                  index=['Mercury', 'Venus', 'Earth'])\n",
    "\n",
    "#df.plot.hist(backend='plotly')\n",
    "df.plot.hist()"
   ]
  },
  {
   "cell_type": "code",
   "execution_count": null,
   "id": "bfcd72c1-09c6-45c3-8d22-517f6cfd3a1b",
   "metadata": {},
   "outputs": [],
   "source": [
    "df.plot.hist(backend='plotly')"
   ]
  },
  {
   "cell_type": "code",
   "execution_count": null,
   "id": "ab024299-70a4-4299-83a1-4d0bab86e471",
   "metadata": {},
   "outputs": [],
   "source": [
    "df = pd.DataFrame({'radius': [2439.7, 4051.8, 6378.1],\n",
    "                   'mass': [3.87, 3.87 , 5.97]},\n",
    "                  index=['Mercury', 'Venus', 'Earth'])\n",
    "df.hist()"
   ]
  },
  {
   "cell_type": "code",
   "execution_count": null,
   "id": "fcee48e8-c619-481e-96e7-8aa0afa27d8d",
   "metadata": {},
   "outputs": [],
   "source": [
    "x = pd.DataFrame({'valores':[-5,-98,-3,-3,-3,-3,-1, 8, 13, 98], 'index':list('abcdeftyui')})\n",
    "x = x.set_index('index')\n",
    "x.plot.bar(backend='plotly')"
   ]
  },
  {
   "cell_type": "code",
   "execution_count": null,
   "id": "14270e14-9d6e-47ef-98fd-f68ccc790a36",
   "metadata": {},
   "outputs": [],
   "source": [
    "len(list('abcdeftyui'))"
   ]
  },
  {
   "cell_type": "markdown",
   "id": "b29ac8d6-8144-404b-97ea-66b3ba5e21c2",
   "metadata": {},
   "source": [
    "# <center>**GRAFICO DE AREA**</center>"
   ]
  },
  {
   "cell_type": "code",
   "execution_count": null,
   "id": "aeb41a4a-f618-44e9-bc7a-f98ca5c9c9f9",
   "metadata": {},
   "outputs": [],
   "source": [
    "df.plot.area(backend='plotly')"
   ]
  },
  {
   "cell_type": "markdown",
   "id": "b4afb333-3cc7-49e9-892d-72dbbabff64e",
   "metadata": {},
   "source": [
    "# <center>**GRAFICO DE HISTOGRAMA**</center>"
   ]
  },
  {
   "cell_type": "code",
   "execution_count": null,
   "id": "f0880a36-e28a-47d5-a9d8-cceafcb17cb3",
   "metadata": {},
   "outputs": [],
   "source": [
    "df.plot.hist(backend='plotly')"
   ]
  },
  {
   "cell_type": "markdown",
   "id": "cf9d76d1-bfe0-452c-ac31-a0b56269a4b4",
   "metadata": {},
   "source": [
    "# <center>**GRAFICO DE CAJA**</center>"
   ]
  },
  {
   "cell_type": "code",
   "execution_count": null,
   "id": "47ab9e40-86f3-4de1-8cb8-a46fc48010e0",
   "metadata": {},
   "outputs": [],
   "source": [
    "df.plot.box(backend='plotly')"
   ]
  },
  {
   "cell_type": "code",
   "execution_count": null,
   "id": "2894bf4e-f670-4f71-95d8-5cd76be9a4cb",
   "metadata": {},
   "outputs": [],
   "source": []
  },
  {
   "cell_type": "code",
   "execution_count": null,
   "id": "284e575e-1a33-4f92-8194-816468480d87",
   "metadata": {},
   "outputs": [],
   "source": []
  },
  {
   "cell_type": "code",
   "execution_count": null,
   "id": "74674fca-16f7-4dd1-9dd6-668621deb232",
   "metadata": {},
   "outputs": [],
   "source": []
  },
  {
   "cell_type": "code",
   "execution_count": null,
   "id": "64c6c8d5-6616-4dd0-8c37-3cf21cd206b0",
   "metadata": {},
   "outputs": [],
   "source": []
  },
  {
   "cell_type": "code",
   "execution_count": null,
   "id": "643912f6-8b4a-46fa-b74e-193c4d887671",
   "metadata": {},
   "outputs": [],
   "source": []
  },
  {
   "cell_type": "code",
   "execution_count": null,
   "id": "8ea48cf4-84b3-4ebe-9f08-875b31e96a72",
   "metadata": {},
   "outputs": [],
   "source": []
  },
  {
   "cell_type": "code",
   "execution_count": null,
   "id": "c99f9cae-83b8-41f5-b96e-4f5d1bba8e1f",
   "metadata": {},
   "outputs": [],
   "source": []
  },
  {
   "cell_type": "code",
   "execution_count": null,
   "id": "beac1468-5168-4944-9c42-7cf172fa0e14",
   "metadata": {},
   "outputs": [],
   "source": []
  },
  {
   "cell_type": "code",
   "execution_count": null,
   "id": "0a453ae5-5b01-4e18-aa80-c70985c9217d",
   "metadata": {},
   "outputs": [],
   "source": [
    "#!pip install plotly\n",
    "#!pip install seaborn\n",
    "\n",
    "import pandas as pd\n",
    "#pd.options.plotting.backend = \"plotly\""
   ]
  },
  {
   "cell_type": "code",
   "execution_count": null,
   "id": "2b8946aa-d123-4c20-9437-f06808dac5f8",
   "metadata": {},
   "outputs": [],
   "source": [
    "import seaborn as sns\n",
    "df = sns.load_dataset('tips')\n",
    "df"
   ]
  },
  {
   "cell_type": "code",
   "execution_count": null,
   "id": "0fbee2e5-d9f8-4d35-b139-2761976841d8",
   "metadata": {},
   "outputs": [],
   "source": [
    "df[['total_bill', 'tip', 'size']].plot(kind='line')"
   ]
  },
  {
   "cell_type": "code",
   "execution_count": null,
   "id": "e872b227-7704-4bb7-87e6-4d313678ee8c",
   "metadata": {},
   "outputs": [],
   "source": [
    "df.plot(kind='scatter', x='total_bill', y='tip')"
   ]
  },
  {
   "cell_type": "code",
   "execution_count": null,
   "id": "e1e1c346-3dd6-435a-8e5f-f324c4dbd55b",
   "metadata": {},
   "outputs": [],
   "source": [
    "df['day'].value_counts().plot(kind='bar')"
   ]
  },
  {
   "cell_type": "code",
   "execution_count": null,
   "id": "e6aa668b-1995-42c7-9a7a-2f4c405c2e7d",
   "metadata": {},
   "outputs": [],
   "source": [
    "df[['total_bill', 'tip']].plot(kind='hist')"
   ]
  },
  {
   "cell_type": "code",
   "execution_count": null,
   "id": "639527a4-8239-43df-8119-c6eed1569ab8",
   "metadata": {},
   "outputs": [],
   "source": [
    "df[['total_bill', 'tip']].plot(kind='box')"
   ]
  },
  {
   "cell_type": "code",
   "execution_count": null,
   "id": "fcbdbe6f-5d6b-490f-b6d2-c24cdc884385",
   "metadata": {},
   "outputs": [],
   "source": [
    "df[['total_bill', 'tip']].plot(kind='area')"
   ]
  },
  {
   "cell_type": "code",
   "execution_count": null,
   "id": "c29825f1-c726-4dc6-babf-fdee3b7e74e3",
   "metadata": {},
   "outputs": [],
   "source": [
    "df.groupby('day')['day', 'total_bill'].sum().reset_index().plot(kind='pie', x='day', y='total_bill');"
   ]
  },
  {
   "cell_type": "code",
   "execution_count": null,
   "id": "71a48d03-93ab-4d3d-9a2a-da3fac5309b7",
   "metadata": {},
   "outputs": [],
   "source": [
    "df['day'].value_counts().plot_bokeh(kind='bar', alpha=0.7);"
   ]
  },
  {
   "cell_type": "code",
   "execution_count": null,
   "id": "95b62861-fe90-4e7c-9c3c-554a49f57496",
   "metadata": {},
   "outputs": [],
   "source": [
    "df['total_bill'].plot_bokeh(kind='hist', bins=10, alpha=0.7);"
   ]
  },
  {
   "cell_type": "code",
   "execution_count": null,
   "id": "f0710157-cc8c-411d-887a-86a0d7502bd9",
   "metadata": {},
   "outputs": [],
   "source": [
    "df[['total_bill', 'tip']].plot_bokeh(kind='area', alpha=0.6);"
   ]
  },
  {
   "cell_type": "code",
   "execution_count": null,
   "id": "49183c13-f6a5-46a0-9287-0856d479bc50",
   "metadata": {
    "scrolled": true,
    "tags": []
   },
   "outputs": [],
   "source": [
    "import plotly.tools as tls\n",
    "tls.embed('https://plotly.com/~chris/7365')"
   ]
  },
  {
   "cell_type": "code",
   "execution_count": null,
   "id": "7e1ce18c-dc60-40a4-b48c-6ae47a90e7e4",
   "metadata": {},
   "outputs": [],
   "source": []
  }
 ],
 "metadata": {
  "kernelspec": {
   "display_name": "Python 3 (ipykernel)",
   "language": "python",
   "name": "python3"
  },
  "language_info": {
   "codemirror_mode": {
    "name": "ipython",
    "version": 3
   },
   "file_extension": ".py",
   "mimetype": "text/x-python",
   "name": "python",
   "nbconvert_exporter": "python",
   "pygments_lexer": "ipython3",
   "version": "3.10.9"
  }
 },
 "nbformat": 4,
 "nbformat_minor": 5
}
