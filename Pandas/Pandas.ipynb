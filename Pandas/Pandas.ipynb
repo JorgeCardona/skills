{
 "cells": [
  {
   "cell_type": "code",
   "execution_count": 1,
   "id": "14080769-aa57-48c7-93e4-c7f5b4956ca1",
   "metadata": {},
   "outputs": [
    {
     "name": "stdout",
     "output_type": "stream",
     "text": [
      "Python 3.10.7\n",
      "Name: pandas\n",
      "Version: 1.4.4\n",
      "Summary: Powerful data structures for data analysis, time series, and statistics\n",
      "Home-page: https://pandas.pydata.org\n",
      "Author: The Pandas Development Team\n",
      "Author-email: pandas-dev@python.org\n",
      "License: BSD-3-Clause\n",
      "Location: c:\\z_github_virtual_environment\\docker\\lib\\site-packages\n",
      "Requires: numpy, python-dateutil, pytz\n",
      "Required-by: fastparquet, itables, pandas-bokeh, plotly-express, seaborn, statsmodels\n",
      "---\n",
      "Name: plotly\n",
      "Version: 5.10.0\n",
      "Summary: An open-source, interactive data visualization library for Python\n",
      "Home-page: https://plotly.com/python/\n",
      "Author: Chris P\n",
      "Author-email: chris@plot.ly\n",
      "License: MIT\n",
      "Location: c:\\z_github_virtual_environment\\docker\\lib\\site-packages\n",
      "Requires: tenacity\n",
      "Required-by: plotly-express\n",
      "---\n",
      "Name: seaborn\n",
      "Version: 0.12.0\n",
      "Summary: Statistical data visualization\n",
      "Home-page: \n",
      "Author: \n",
      "Author-email: Michael Waskom <mwaskom@gmail.com>\n",
      "License: \n",
      "Location: c:\\z_github_virtual_environment\\docker\\lib\\site-packages\n",
      "Requires: matplotlib, numpy, pandas\n",
      "Required-by: \n",
      "---\n",
      "Name: pip\n",
      "Version: 22.2.2\n",
      "Summary: The PyPA recommended tool for installing Python packages.\n",
      "Home-page: https://pip.pypa.io/\n",
      "Author: The pip developers\n",
      "Author-email: distutils-sig@python.org\n",
      "License: MIT\n",
      "Location: c:\\z_github_virtual_environment\\docker\\lib\\site-packages\n",
      "Requires: \n",
      "Required-by: \n",
      "---\n",
      "Name: openpyxl\n",
      "Version: 3.0.10\n",
      "Summary: A Python library to read/write Excel 2010 xlsx/xlsm files\n",
      "Home-page: https://openpyxl.readthedocs.io\n",
      "Author: See AUTHORS\n",
      "Author-email: charlie.clark@clark-consulting.eu\n",
      "License: MIT\n",
      "Location: c:\\z_github_virtual_environment\\docker\\lib\\site-packages\n",
      "Requires: et-xmlfile\n",
      "Required-by: \n",
      "---\n",
      "Name: pip\n",
      "Version: 22.2.2\n",
      "Summary: The PyPA recommended tool for installing Python packages.\n",
      "Home-page: https://pip.pypa.io/\n",
      "Author: The pip developers\n",
      "Author-email: distutils-sig@python.org\n",
      "License: MIT\n",
      "Location: c:\\z_github_virtual_environment\\docker\\lib\\site-packages\n",
      "Requires: \n",
      "Required-by: \n"
     ]
    }
   ],
   "source": [
    "!python -V\n",
    "!pip show pandas plotly seaborn pip openpyxl pip"
   ]
  },
  {
   "cell_type": "markdown",
   "id": "0a28ac04-abc9-4d49-9c4f-f8504b10d552",
   "metadata": {},
   "source": [
    "# <center>**DATOS Y FUNCIONES**</center>"
   ]
  },
  {
   "cell_type": "code",
   "execution_count": 2,
   "id": "e3d55416-41c5-402e-81b1-56f9e5efe323",
   "metadata": {
    "scrolled": true,
    "tags": []
   },
   "outputs": [],
   "source": [
    "from utilidades import crear_dataframes\n",
    "\n",
    "df1, df2, df3 = crear_dataframes(limite_muestra = 100)"
   ]
  },
  {
   "cell_type": "markdown",
   "id": "5cf7a101-e5fa-409d-bec4-febe5dc2df0f",
   "metadata": {},
   "source": [
    "# <center>**LEER ARCHIVOS Y CONVERTIRLOS EN DATAFRAME**</center>"
   ]
  },
  {
   "cell_type": "code",
   "execution_count": null,
   "id": "033ef9ab-6db8-4685-a409-7704ce9d8d91",
   "metadata": {},
   "outputs": [],
   "source": []
  },
  {
   "cell_type": "code",
   "execution_count": null,
   "id": "03cdf760-92fc-4e33-b1f1-1fca26f5daba",
   "metadata": {},
   "outputs": [],
   "source": []
  },
  {
   "cell_type": "code",
   "execution_count": null,
   "id": "5bdf84b9-ab36-4bd4-b810-90aaab847829",
   "metadata": {},
   "outputs": [],
   "source": []
  },
  {
   "cell_type": "code",
   "execution_count": null,
   "id": "5bfe4bef-77bf-452e-b8dd-3cfece502493",
   "metadata": {},
   "outputs": [],
   "source": []
  },
  {
   "cell_type": "code",
   "execution_count": null,
   "id": "7db3d2fc-ddd1-4fc2-85a0-bd6e66395877",
   "metadata": {},
   "outputs": [],
   "source": []
  },
  {
   "cell_type": "code",
   "execution_count": null,
   "id": "8fecb2dd-1ecd-45a6-8a27-0299f61b23c5",
   "metadata": {},
   "outputs": [],
   "source": []
  },
  {
   "cell_type": "code",
   "execution_count": 3,
   "id": "37165d65-7814-4e24-86c5-217c780602ca",
   "metadata": {},
   "outputs": [],
   "source": [
    "df1.to_json('json_dataframe.json', orient='records', indent=2)\n",
    "df2.to_csv('csv_dataframe.csv', index=False)\n",
    "df3.to_excel('excel_dataframe.xlsx', index=False, sheet_name='dataframe_1')\n",
    "df1.to_html('html_dataframe.html', index=False)\n",
    "df2.to_parquet('parquet_dataframe.parquet', index=False)"
   ]
  },
  {
   "cell_type": "code",
   "execution_count": null,
   "id": "1060c0f2-d0c3-411f-84e0-5a5fa4b6c1a4",
   "metadata": {
    "scrolled": true,
    "tags": []
   },
   "outputs": [],
   "source": [
    "\n",
    "pd.read_parquet('parquet_dataframe.parquet')"
   ]
  },
  {
   "cell_type": "code",
   "execution_count": null,
   "id": "4cb3d4ac-6918-4091-b587-07ee3175ae7d",
   "metadata": {},
   "outputs": [],
   "source": [
    "table_MN = pd.read_html('html_dataframe.html')\n",
    "df = table_MN[0]\n",
    "df"
   ]
  },
  {
   "cell_type": "code",
   "execution_count": null,
   "id": "05768fd9-7980-4349-a7d6-44d969fde70b",
   "metadata": {},
   "outputs": [],
   "source": []
  },
  {
   "cell_type": "code",
   "execution_count": null,
   "id": "6195e89c-1ddf-48c1-8c84-daea08dfc0e6",
   "metadata": {},
   "outputs": [],
   "source": []
  },
  {
   "cell_type": "code",
   "execution_count": null,
   "id": "239a4300-494b-4567-b424-d789ddc8ab64",
   "metadata": {},
   "outputs": [],
   "source": [
    "#'ID':[valor for valor in range (1, 6)],\n",
    "#'LIDER':[valor for valor in range (1, 6)],\n",
    "    \n",
    "def join_dataframe(primer_dataframe, segundo_dataframe, llaves_para_join = '', tipo_de_join='INNER', mostrar_tipo_join=False, self_join=['','']):\n",
    "\n",
    "    # une los dataframe con el JOIN y elimina registros duplicados con .drop_duplicates()\n",
    "    if tipo_de_join.lower() == 'cross':\n",
    "        dataframe_unido = pd.merge(primer_dataframe.drop_duplicates(), segundo_dataframe.drop_duplicates(), how=tipo_de_join.lower())\n",
    "        tipo_join = f\"pd.merge(primer_dataframe.drop_duplicates(), segundo_dataframe.drop_duplicates(), how='{tipo_de_join.lower()}')\"  \n",
    "        \n",
    "    elif tipo_de_join.lower() == 'self':\n",
    "        dataframe_unido = pd.merge(primer_dataframe.drop_duplicates(), segundo_dataframe.drop_duplicates(), left_on=self_join[0], right_on=self_join[1], how='left', suffixes=['_left','_right'], indicator=mostrar_tipo_join)\n",
    "        tipo_join = f\"pd.merge(primer_dataframe.drop_duplicates(), segundo_dataframe.drop_duplicates(), left_on={self_join[0]}, right_on={self_join[1]}, how='left', suffixes=['_left','_right'], indicator={mostrar_tipo_join})\" \n",
    "        \n",
    "    elif tipo_de_join.lower() == 'index':\n",
    "        dataframe_unido = pd.merge(primer_dataframe.drop_duplicates(), segundo_dataframe.drop_duplicates(), left_index=True, right_index=True)\n",
    "        tipo_join = f\"pd.merge(primer_dataframe.drop_duplicates(), segundo_dataframe.drop_duplicates(), how='{tipo_de_join.lower()}')\"\n",
    "    else:        \n",
    "        dataframe_unido = pd.merge(primer_dataframe.drop_duplicates(), segundo_dataframe.drop_duplicates(), on=llaves_para_join, how=tipo_de_join.lower(), indicator=mostrar_tipo_join)\n",
    "        dataframe_unido = dataframe_unido.sort_values(by=llaves_para_join, ascending=False)\n",
    "        dataframe_unido = dataframe_unido.reset_index()\n",
    "        tipo_join = f\"pd.merge(primer_dataframe.drop_duplicates(), segundo_dataframe.drop_duplicates(), on={llaves_para_join}, how='{tipo_de_join.lower()}', indicator={mostrar_tipo_join})\" \n",
    "       \n",
    "    print(tipo_join)\n",
    "    \n",
    "    return dataframe_unido\n",
    "\n"
   ]
  },
  {
   "cell_type": "markdown",
   "id": "536d1b10-4a7d-4bf6-8b16-d54b28af6b15",
   "metadata": {},
   "source": [
    "# <center>**ELIMINAR COLUMNAS**</center>"
   ]
  },
  {
   "cell_type": "code",
   "execution_count": null,
   "id": "a087d913-481a-41a6-8ff9-25c3a4e846a2",
   "metadata": {},
   "outputs": [],
   "source": []
  },
  {
   "cell_type": "markdown",
   "id": "3bafa6d5-e678-40d6-a5d5-46e01808b0b2",
   "metadata": {},
   "source": [
    "# <center>**UNIR O CONCATENAR DATAFRAMES**</center>"
   ]
  },
  {
   "cell_type": "code",
   "execution_count": null,
   "id": "0313e4b0-961e-4fa9-b83c-488657ebbec7",
   "metadata": {},
   "outputs": [],
   "source": [
    "df1"
   ]
  },
  {
   "cell_type": "code",
   "execution_count": null,
   "id": "55e28dd0-f04b-429c-a0f5-b0b108a4a31c",
   "metadata": {},
   "outputs": [],
   "source": [
    "df3"
   ]
  },
  {
   "cell_type": "markdown",
   "id": "bc91ede7-4946-46fa-a87f-137e1a17c878",
   "metadata": {},
   "source": [
    "# <center>**OUTER**</center>"
   ]
  },
  {
   "cell_type": "code",
   "execution_count": null,
   "id": "7c07d6e6-529f-4066-a18c-7f3b22d32f62",
   "metadata": {},
   "outputs": [],
   "source": [
    "pd.concat([df1[0:3], df3], axis=1, join=\"outer\")"
   ]
  },
  {
   "cell_type": "code",
   "execution_count": null,
   "id": "46cbae00-c73f-490f-9c09-5c3bfc0b1302",
   "metadata": {},
   "outputs": [],
   "source": [
    "pd.concat([df1[0:3], df3], axis=0, join=\"outer\")"
   ]
  },
  {
   "cell_type": "markdown",
   "id": "133aa223-056b-4b9f-9d88-ad32f6992181",
   "metadata": {},
   "source": [
    "# <center>**INNER**</center>"
   ]
  },
  {
   "cell_type": "code",
   "execution_count": null,
   "id": "a7d78bb1-10b0-4683-964a-022c6b2e8ffa",
   "metadata": {},
   "outputs": [],
   "source": [
    "pd.concat([df1[0:3], df3], axis=1, join=\"inner\")"
   ]
  },
  {
   "cell_type": "code",
   "execution_count": null,
   "id": "f2a27946-af81-457f-9a1d-b1714a348f29",
   "metadata": {},
   "outputs": [],
   "source": [
    "pd.concat([df1[0:3], df3], axis=0, join=\"inner\")"
   ]
  },
  {
   "cell_type": "markdown",
   "id": "8e599644-0c32-4644-bcbd-6c928b5394ed",
   "metadata": {},
   "source": [
    "# <center>**COMPARACION POR DATAFRAMES**</center>"
   ]
  },
  {
   "cell_type": "code",
   "execution_count": null,
   "id": "d5428edb-f0d7-44b2-a7b0-195f06c0ea77",
   "metadata": {},
   "outputs": [],
   "source": [
    "pd.concat([df1,df2,df3], keys=[\"df1\", \"df2\", \"df3\"])"
   ]
  },
  {
   "cell_type": "code",
   "execution_count": null,
   "id": "b8c6f5de-da64-4e65-a0b2-56a9c84389d6",
   "metadata": {},
   "outputs": [],
   "source": [
    "pd.concat(\n",
    "    [df1,df2,df3], keys=[\"x\", \"y\", \"z\"], levels=[[\"z\", \"y\", \"x\", \"w\"]], names=[\"group_key\"]\n",
    ")"
   ]
  },
  {
   "cell_type": "markdown",
   "id": "c7cc48ae-6d00-4306-a6df-5cc3d49404b1",
   "metadata": {},
   "source": [
    "# <center>**JOINS**</center>"
   ]
  },
  {
   "cell_type": "code",
   "execution_count": null,
   "id": "03bf4ec1-d9e5-49dc-a856-cbcd78e6121a",
   "metadata": {
    "scrolled": true,
    "tags": []
   },
   "outputs": [],
   "source": [
    " "
   ]
  },
  {
   "cell_type": "code",
   "execution_count": null,
   "id": "7c848d7d-5112-4e4f-ba59-d90a897e8ad7",
   "metadata": {},
   "outputs": [],
   "source": []
  },
  {
   "cell_type": "markdown",
   "id": "ed8e1112-d662-4396-a396-43893478de07",
   "metadata": {},
   "source": [
    "# <center>**SELF, INNER, LEFT, RIGHT, OUTER, CROSS, INDEX**</center>"
   ]
  },
  {
   "cell_type": "code",
   "execution_count": null,
   "id": "76d64d53-ef44-489c-93c5-ff336e8575e2",
   "metadata": {},
   "outputs": [],
   "source": []
  },
  {
   "cell_type": "code",
   "execution_count": null,
   "id": "da6da209-28b9-403c-862a-d399a327af21",
   "metadata": {},
   "outputs": [],
   "source": [
    "frames = [df1, df2, df3]\n",
    "\n",
    "result = pd.concat(frames, keys=[\"ID\", \"LIDER\", \"Aves\"])\n",
    "result"
   ]
  },
  {
   "cell_type": "code",
   "execution_count": null,
   "id": "2f2f4489-f9a2-4b56-aeb9-3601b98fe575",
   "metadata": {},
   "outputs": [],
   "source": []
  },
  {
   "cell_type": "code",
   "execution_count": null,
   "id": "36facc35-dfaa-4ffc-96e3-6baf0aefc465",
   "metadata": {},
   "outputs": [],
   "source": []
  },
  {
   "cell_type": "markdown",
   "id": "6ac0e2a1-c2f5-4f35-b3c2-aa71eaa5caee",
   "metadata": {},
   "source": [
    "# <center>**SELF** JOIN</center>"
   ]
  },
  {
   "cell_type": "code",
   "execution_count": null,
   "id": "a7c994c9-af5c-45ca-bb0d-5df117bb16ad",
   "metadata": {},
   "outputs": [],
   "source": [
    "df1"
   ]
  },
  {
   "cell_type": "code",
   "execution_count": null,
   "id": "01e91193-b844-475b-87eb-b139a280807c",
   "metadata": {
    "scrolled": true,
    "tags": []
   },
   "outputs": [],
   "source": [
    "join_dataframe(df1.iloc[:,0:3], df1.iloc[:,0:3], tipo_de_join='SELF',self_join=['ID','LIDER'])"
   ]
  },
  {
   "cell_type": "markdown",
   "id": "e0776c2e-2f23-46fe-8aa6-f77c2b99a0de",
   "metadata": {},
   "source": [
    "# <center>**INNER** JOIN</center>"
   ]
  },
  {
   "cell_type": "code",
   "execution_count": null,
   "id": "ce656a10-34cb-4548-99c6-9dc5948038d0",
   "metadata": {},
   "outputs": [],
   "source": [
    "df2"
   ]
  },
  {
   "cell_type": "code",
   "execution_count": null,
   "id": "115e3a79-5923-439f-9c87-6bc59d56b32f",
   "metadata": {},
   "outputs": [],
   "source": [
    "df3"
   ]
  },
  {
   "cell_type": "code",
   "execution_count": null,
   "id": "9ba6983e-133d-44cf-8fab-45e6e5b4be87",
   "metadata": {
    "scrolled": true,
    "tags": []
   },
   "outputs": [],
   "source": [
    "join_dataframe(df2, df3, llaves_para_join= ['ID'], tipo_de_join='INNER')"
   ]
  },
  {
   "cell_type": "code",
   "execution_count": null,
   "id": "df2d90b8-214f-4ccd-9835-9c3a1cd7ba1d",
   "metadata": {},
   "outputs": [],
   "source": [
    "pd.merge(df2, df3, on=[\"ID\"])"
   ]
  },
  {
   "cell_type": "markdown",
   "id": "6ed775a0-aa22-49c8-8704-5ecb5c2d4387",
   "metadata": {},
   "source": [
    "## <center>**INNER** JOIN **Multiples Llaves**</center>"
   ]
  },
  {
   "cell_type": "code",
   "execution_count": null,
   "id": "6b8a6aaf-6106-4a31-b483-320fc206a8cb",
   "metadata": {},
   "outputs": [],
   "source": [
    "join_dataframe(df2, df3, llaves_para_join= ['ID','LIDER'], tipo_de_join='INNER')"
   ]
  },
  {
   "cell_type": "code",
   "execution_count": null,
   "id": "7cd4f2e3-67cb-4a01-b1b1-01937a70d09a",
   "metadata": {},
   "outputs": [],
   "source": [
    "pd.merge(df2, df3, on=[\"ID\",'LIDER'])"
   ]
  },
  {
   "cell_type": "code",
   "execution_count": null,
   "id": "84a589b2-61fb-4821-b4dd-71c34090f8fe",
   "metadata": {},
   "outputs": [],
   "source": []
  },
  {
   "cell_type": "code",
   "execution_count": null,
   "id": "4ea33b0f-d715-4b2c-aac1-b1d925f681c1",
   "metadata": {},
   "outputs": [],
   "source": [
    "pd.merge_ordered(df2, df3, on=[\"ID\",'LIDER'])"
   ]
  },
  {
   "cell_type": "code",
   "execution_count": null,
   "id": "b086f76e-be3f-495d-a1c5-6185be52a655",
   "metadata": {},
   "outputs": [],
   "source": []
  },
  {
   "cell_type": "code",
   "execution_count": null,
   "id": "8469712c-eb56-463e-b1d0-7bcd0635e502",
   "metadata": {},
   "outputs": [],
   "source": [
    "pd.merge(df2.drop_duplicates(), df3.drop_duplicates(), on=[\"ID\",'LIDER'], how='left', indicator=False)"
   ]
  },
  {
   "cell_type": "code",
   "execution_count": null,
   "id": "1c343aca-28ab-41f7-ba8a-27d1f73ce9c9",
   "metadata": {},
   "outputs": [],
   "source": []
  },
  {
   "cell_type": "code",
   "execution_count": null,
   "id": "274ea5e2-b3bc-4da0-8b59-23f8e1914f72",
   "metadata": {},
   "outputs": [],
   "source": []
  },
  {
   "cell_type": "markdown",
   "id": "4fff60c6-025c-4d36-b4b0-8f0f804a2f2f",
   "metadata": {},
   "source": [
    "# <center>**LEFT** JOIN</center>"
   ]
  },
  {
   "cell_type": "code",
   "execution_count": null,
   "id": "2870983f-ef4e-469d-adc5-e1a4684eeadd",
   "metadata": {
    "scrolled": true,
    "tags": []
   },
   "outputs": [],
   "source": [
    "join_dataframe(df1, df3, llaves_para_join = ['ID'], tipo_de_join='LEFT')"
   ]
  },
  {
   "cell_type": "markdown",
   "id": "1d32ffd9-619c-47dd-969e-a7a2b570c047",
   "metadata": {},
   "source": [
    "# <center>**RIGHT** JOIN</center>"
   ]
  },
  {
   "cell_type": "code",
   "execution_count": null,
   "id": "da8c3d97-f3da-4a97-ba41-d9684213d273",
   "metadata": {
    "scrolled": true,
    "tags": []
   },
   "outputs": [],
   "source": [
    "join_dataframe(df1, df3, llaves_para_join = ['ID'], tipo_de_join='RIGHT')"
   ]
  },
  {
   "cell_type": "markdown",
   "id": "9b158512-d35a-49c7-9701-3ca6f16f4741",
   "metadata": {},
   "source": [
    "# <center>**OUTER** JOIN</center>"
   ]
  },
  {
   "cell_type": "code",
   "execution_count": null,
   "id": "e895a3d6-fcf6-4cd2-919a-34cb51f9e81e",
   "metadata": {
    "scrolled": true,
    "tags": []
   },
   "outputs": [],
   "source": [
    "join_dataframe(df3,df2, llaves_para_join = ['ID'], tipo_de_join='OUTER', mostrar_tipo_join=True)"
   ]
  },
  {
   "cell_type": "markdown",
   "id": "48efedb4-0904-4f37-adf3-6d8376bcc8c1",
   "metadata": {},
   "source": [
    "# <center>**CROSS** JOIN</center>"
   ]
  },
  {
   "cell_type": "code",
   "execution_count": null,
   "id": "6bc1bf13-bfde-4128-a28d-988c807e523f",
   "metadata": {
    "scrolled": true,
    "tags": []
   },
   "outputs": [],
   "source": [
    "join_dataframe(df3,df2, 'ID', tipo_de_join='CROSS')"
   ]
  },
  {
   "cell_type": "markdown",
   "id": "9fb0b9dd-9513-4fce-81ce-771eee1db16a",
   "metadata": {},
   "source": [
    "# <center>**INDEX** JOIN</center>"
   ]
  },
  {
   "cell_type": "code",
   "execution_count": null,
   "id": "6c638247-7375-45d4-bf2b-669da950ef39",
   "metadata": {
    "scrolled": true,
    "tags": []
   },
   "outputs": [],
   "source": [
    "join_dataframe(df1, df2, tipo_de_join='INDEX')"
   ]
  },
  {
   "cell_type": "code",
   "execution_count": null,
   "id": "30277731-ebc4-4fba-94ad-1b2a4279e2d8",
   "metadata": {},
   "outputs": [],
   "source": []
  },
  {
   "cell_type": "code",
   "execution_count": null,
   "id": "d86a8a1a-26c9-498d-a810-5bd288ec61d2",
   "metadata": {},
   "outputs": [],
   "source": []
  },
  {
   "cell_type": "code",
   "execution_count": null,
   "id": "fef8b252-cee3-47bc-b864-c36da5fff0d5",
   "metadata": {},
   "outputs": [],
   "source": []
  },
  {
   "cell_type": "markdown",
   "id": "f8d4959d-2fa7-4045-bfd9-08df57cde033",
   "metadata": {},
   "source": [
    "# GRAFICOS"
   ]
  },
  {
   "cell_type": "code",
   "execution_count": null,
   "id": "0a453ae5-5b01-4e18-aa80-c70985c9217d",
   "metadata": {},
   "outputs": [],
   "source": [
    "#!pip install plotly\n",
    "#!pip install seaborn\n",
    "\n",
    "import pandas as pd\n",
    "#pd.options.plotting.backend = \"plotly\""
   ]
  },
  {
   "cell_type": "code",
   "execution_count": null,
   "id": "2b8946aa-d123-4c20-9437-f06808dac5f8",
   "metadata": {},
   "outputs": [],
   "source": [
    "import seaborn as sns\n",
    "df = sns.load_dataset('tips')\n",
    "df"
   ]
  },
  {
   "cell_type": "code",
   "execution_count": null,
   "id": "0fbee2e5-d9f8-4d35-b139-2761976841d8",
   "metadata": {},
   "outputs": [],
   "source": [
    "df[['total_bill', 'tip', 'size']].plot(kind='line')"
   ]
  },
  {
   "cell_type": "code",
   "execution_count": null,
   "id": "e872b227-7704-4bb7-87e6-4d313678ee8c",
   "metadata": {},
   "outputs": [],
   "source": [
    "df.plot(kind='scatter', x='total_bill', y='tip')"
   ]
  },
  {
   "cell_type": "code",
   "execution_count": null,
   "id": "e1e1c346-3dd6-435a-8e5f-f324c4dbd55b",
   "metadata": {},
   "outputs": [],
   "source": [
    "df['day'].value_counts().plot(kind='bar')"
   ]
  },
  {
   "cell_type": "code",
   "execution_count": null,
   "id": "e6aa668b-1995-42c7-9a7a-2f4c405c2e7d",
   "metadata": {},
   "outputs": [],
   "source": [
    "df[['total_bill', 'tip']].plot(kind='hist')"
   ]
  },
  {
   "cell_type": "code",
   "execution_count": null,
   "id": "639527a4-8239-43df-8119-c6eed1569ab8",
   "metadata": {},
   "outputs": [],
   "source": [
    "df[['total_bill', 'tip']].plot(kind='box')"
   ]
  },
  {
   "cell_type": "code",
   "execution_count": null,
   "id": "fcbdbe6f-5d6b-490f-b6d2-c24cdc884385",
   "metadata": {},
   "outputs": [],
   "source": [
    "df[['total_bill', 'tip']].plot(kind='area')"
   ]
  },
  {
   "cell_type": "code",
   "execution_count": null,
   "id": "c29825f1-c726-4dc6-babf-fdee3b7e74e3",
   "metadata": {},
   "outputs": [],
   "source": [
    "df.groupby('day')['day', 'total_bill'].sum().reset_index().plot(kind='pie', x='day', y='total_bill');"
   ]
  },
  {
   "cell_type": "code",
   "execution_count": null,
   "id": "71a48d03-93ab-4d3d-9a2a-da3fac5309b7",
   "metadata": {},
   "outputs": [],
   "source": [
    "df['day'].value_counts().plot_bokeh(kind='bar', alpha=0.7);"
   ]
  },
  {
   "cell_type": "code",
   "execution_count": null,
   "id": "95b62861-fe90-4e7c-9c3c-554a49f57496",
   "metadata": {},
   "outputs": [],
   "source": [
    "df['total_bill'].plot_bokeh(kind='hist', bins=10, alpha=0.7);"
   ]
  },
  {
   "cell_type": "code",
   "execution_count": null,
   "id": "f0710157-cc8c-411d-887a-86a0d7502bd9",
   "metadata": {},
   "outputs": [],
   "source": [
    "df[['total_bill', 'tip']].plot_bokeh(kind='area', alpha=0.6);"
   ]
  },
  {
   "cell_type": "code",
   "execution_count": null,
   "id": "49183c13-f6a5-46a0-9287-0856d479bc50",
   "metadata": {
    "scrolled": true,
    "tags": []
   },
   "outputs": [],
   "source": [
    "import plotly.tools as tls\n",
    "tls.embed('https://plotly.com/~chris/7365')"
   ]
  },
  {
   "cell_type": "code",
   "execution_count": null,
   "id": "7e1ce18c-dc60-40a4-b48c-6ae47a90e7e4",
   "metadata": {},
   "outputs": [],
   "source": []
  }
 ],
 "metadata": {
  "kernelspec": {
   "display_name": "Python 3 (ipykernel)",
   "language": "python",
   "name": "python3"
  },
  "language_info": {
   "codemirror_mode": {
    "name": "ipython",
    "version": 3
   },
   "file_extension": ".py",
   "mimetype": "text/x-python",
   "name": "python",
   "nbconvert_exporter": "python",
   "pygments_lexer": "ipython3",
   "version": "3.10.7"
  }
 },
 "nbformat": 4,
 "nbformat_minor": 5
}
