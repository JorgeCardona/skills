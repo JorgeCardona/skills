{
 "cells": [
  {
   "cell_type": "code",
   "execution_count": 1,
   "id": "2b210635-57ad-4c41-b1c3-cd55c48483ee",
   "metadata": {},
   "outputs": [
    {
     "name": "stdout",
     "output_type": "stream",
     "text": [
      "Client:\n",
      " Cloud integration: v1.0.24\n",
      " Version:           20.10.17\n",
      " API version:       1.41\n",
      " Go version:        go1.17.11\n",
      " Git commit:        100c701\n",
      " Built:             Mon Jun  6 23:09:02 2022\n",
      " OS/Arch:           windows/amd64\n",
      " Context:           default\n",
      " Experimental:      true\n",
      "\n",
      "Server: Docker Desktop 4.10.1 (82475)\n",
      " Engine:\n",
      "  Version:          20.10.17\n",
      "  API version:      1.41 (minimum version 1.12)\n",
      "  Go version:       go1.17.11\n",
      "  Git commit:       a89b842\n",
      "  Built:            Mon Jun  6 23:01:23 2022\n",
      "  OS/Arch:          linux/amd64\n",
      "  Experimental:     false\n",
      " containerd:\n",
      "  Version:          1.6.6\n",
      "  GitCommit:        10c12954828e7c7c9b6e0ea9b0c02b01407d3ae1\n",
      " runc:\n",
      "  Version:          1.1.2\n",
      "  GitCommit:        v1.1.2-0-ga916309\n",
      " docker-init:\n",
      "  Version:          0.19.0\n",
      "  GitCommit:        de40ad0\n"
     ]
    }
   ],
   "source": [
    "# jupyter lab --notebook-dir=\"C:\\z Github\\skills\\Kubernetes\\Manifiestos\"\n",
    "!docker version"
   ]
  },
  {
   "cell_type": "markdown",
   "id": "c4fd6c3d-69b8-4583-b4f5-52cf61ba76f6",
   "metadata": {},
   "source": [
    "# <center> VERIFICAR LAS IMAGENES QUE HAY DE DOCKER"
   ]
  },
  {
   "cell_type": "code",
   "execution_count": 2,
   "id": "491549b4-20e2-4f53-9db2-4a21ac26df95",
   "metadata": {},
   "outputs": [
    {
     "name": "stdout",
     "output_type": "stream",
     "text": [
      "REPOSITORY                                                TAG                                                                          IMAGE ID       CREATED         SIZE\n",
      "jorgecardona/test-kubernetes-ip-python-3.10.5             v1                                                                           05812e0b7f29   26 hours ago    135MB\n",
      "jorgecardona/test-kubernetes-ip-java-17                   v1                                                                           9a69228bae8d   27 hours ago    351MB\n",
      "registry.k8s.io/ingress-nginx/controller                  <none>                                                                       4d43c7489bf2   7 days ago      263MB\n",
      "hubproxy.docker.internal:5000/docker/desktop-kubernetes   kubernetes-v1.24.1-cni-v0.8.5-critools-v1.24.2-cri-dockerd-v0.2.1-1-debian   6bfc2d7ab254   7 weeks ago     361MB\n",
      "k8s.gcr.io/kube-apiserver                                 v1.24.1                                                                      e9f4b425f919   7 weeks ago     130MB\n",
      "k8s.gcr.io/kube-controller-manager                        v1.24.1                                                                      b4ea7e648530   7 weeks ago     119MB\n",
      "k8s.gcr.io/kube-scheduler                                 v1.24.1                                                                      18688a72645c   7 weeks ago     51MB\n",
      "k8s.gcr.io/kube-proxy                                     v1.24.1                                                                      beb86f5d8e6c   7 weeks ago     110MB\n",
      "k8s.gcr.io/etcd                                           3.5.3-0                                                                      aebe758cef4c   3 months ago    299MB\n",
      "k8s.gcr.io/pause                                          3.7                                                                          221177c6082a   4 months ago    711kB\n",
      "registry.k8s.io/ingress-nginx/kube-webhook-certgen        <none>                                                                       c41e9fcadf5a   9 months ago    47.7MB\n",
      "k8s.gcr.io/coredns/coredns                                v1.8.6                                                                       a4ca41631cc7   9 months ago    46.8MB\n",
      "docker/desktop-vpnkit-controller                          v2.0                                                                         8c2c38aa676e   14 months ago   21MB\n",
      "docker/desktop-storage-provisioner                        v2.0                                                                         99f89471f470   14 months ago   41.9MB\n"
     ]
    }
   ],
   "source": [
    "!docker images"
   ]
  },
  {
   "cell_type": "markdown",
   "id": "e596fd63-6f47-4244-8e78-6ca1ddf94089",
   "metadata": {},
   "source": [
    "# <center> VALIDAR KUBERNETES VERSION"
   ]
  },
  {
   "cell_type": "code",
   "execution_count": 3,
   "id": "39f321ae-d465-41c1-a2ae-187123dfb9d6",
   "metadata": {},
   "outputs": [
    {
     "name": "stdout",
     "output_type": "stream",
     "text": [
      "clientVersion:\n",
      "  buildDate: \"2022-05-03T13:46:05Z\"\n",
      "  compiler: gc\n",
      "  gitCommit: 4ce5a8954017644c5420bae81d72b09b735c21f0\n",
      "  gitTreeState: clean\n",
      "  gitVersion: v1.24.0\n",
      "  goVersion: go1.18.1\n",
      "  major: \"1\"\n",
      "  minor: \"24\"\n",
      "  platform: windows/amd64\n",
      "kustomizeVersion: v4.5.4\n",
      "serverVersion:\n",
      "  buildDate: \"2022-05-24T12:18:48Z\"\n",
      "  compiler: gc\n",
      "  gitCommit: 3ddd0f45aa91e2f30c70734b175631bec5b5825a\n",
      "  gitTreeState: clean\n",
      "  gitVersion: v1.24.1\n",
      "  goVersion: go1.18.2\n",
      "  major: \"1\"\n",
      "  minor: \"24\"\n",
      "  platform: linux/amd64\n",
      "\n"
     ]
    }
   ],
   "source": [
    "!kubectl version --output=yaml"
   ]
  },
  {
   "cell_type": "markdown",
   "id": "5896381b-114d-4f11-9da6-a2644d4fcc10",
   "metadata": {},
   "source": [
    "# <center> VALIDAR LOS RECUSORS DE KUBERNETES DISPONIBLES"
   ]
  },
  {
   "cell_type": "code",
   "execution_count": 4,
   "id": "3c137d7c-b5b1-4fdc-b472-2ed917ed06ab",
   "metadata": {},
   "outputs": [
    {
     "name": "stdout",
     "output_type": "stream",
     "text": [
      "NAME                                  READY   STATUS    RESTARTS   AGE\n",
      "pod/multicontainer-pod-loadbalancer   2/2     Running   0          3m50s\n",
      "\n",
      "NAME                                                                 TYPE           CLUSTER-IP       EXTERNAL-IP   PORT(S)                         AGE\n",
      "service/kubernetes                                                   ClusterIP      10.96.0.1        <none>        443/TCP                         3h10m\n",
      "service/multicontainer-multiservicio-svc-loadbalancer-multisecreto   LoadBalancer   10.110.208.222   localhost     3333:31060/TCP,5000:32704/TCP   3m50s\n"
     ]
    }
   ],
   "source": [
    "!kubectl get all"
   ]
  },
  {
   "cell_type": "markdown",
   "id": "a48da26b-b5ed-49ef-afd5-4a628d9e85be",
   "metadata": {},
   "source": [
    "# <center> CREAR POD Y ACCEDER A EL"
   ]
  },
  {
   "cell_type": "code",
   "execution_count": 5,
   "id": "760c73fb-0526-4325-afa2-50096621ecff",
   "metadata": {},
   "outputs": [
    {
     "name": "stdout",
     "output_type": "stream",
     "text": [
      "pod/pod-sencillo created\n",
      "NAME                              READY   STATUS              RESTARTS   AGE\n",
      "multicontainer-pod-loadbalancer   2/2     Running             0          3m59s\n",
      "pod-sencillo                      0/1     ContainerCreating   0          0s\n"
     ]
    }
   ],
   "source": [
    "!kubectl apply -f \"00_Pod/pod.yaml\"\n",
    "!kubectl get pods"
   ]
  },
  {
   "cell_type": "code",
   "execution_count": 6,
   "id": "ff7a7002-e1eb-4315-a1dd-3e67ae9432de",
   "metadata": {},
   "outputs": [
    {
     "name": "stdout",
     "output_type": "stream",
     "text": [
      "pod \"multicontainer-pod-loadbalancer\" deleted\n",
      "pod \"pod-sencillo\" deleted\n"
     ]
    }
   ],
   "source": [
    "# kubectl port-forward pod-sencillo 5555:5000\n",
    "# http://localhost:5555/python\n",
    "!kubectl delete --all pods"
   ]
  },
  {
   "cell_type": "markdown",
   "id": "d1ff5d1d-cbaf-4ac6-9687-be809b956a5d",
   "metadata": {},
   "source": [
    "# <center> CREAR UN NAMESPACE Y UN POD EN EL"
   ]
  },
  {
   "cell_type": "code",
   "execution_count": 7,
   "id": "dafa9345-263c-4e53-9a2f-e060daf5f7ac",
   "metadata": {},
   "outputs": [
    {
     "name": "stdout",
     "output_type": "stream",
     "text": [
      "namespace/testing-pod-namespace created\n",
      "pod/pod-sencillo-namespace created\n",
      "\n"
     ]
    },
    {
     "name": "stderr",
     "output_type": "stream",
     "text": [
      "No resources found in default namespace.\n"
     ]
    }
   ],
   "source": [
    "!kubectl apply -f \"01_Pod_+_NameSpace\"\n",
    "print()\n",
    "!kubectl get pods"
   ]
  },
  {
   "cell_type": "code",
   "execution_count": 8,
   "id": "4381df00-533f-46d9-8e59-1dd28d229985",
   "metadata": {},
   "outputs": [
    {
     "name": "stdout",
     "output_type": "stream",
     "text": [
      "NAME                    STATUS   AGE\n",
      "\n",
      "default                 Active   3h10m\n",
      "ingress-nginx           Active   13m\n",
      "kube-node-lease         Active   3h10m\n",
      "kube-public             Active   3h10m\n",
      "kube-system             Active   3h10m\n",
      "testing-pod-namespace   Active   3s\n",
      "NAMESPACE               NAME                                        READY   STATUS      RESTARTS       AGE\n",
      "ingress-nginx           ingress-nginx-admission-create-g4srb        0/1     Completed   0              13m\n",
      "ingress-nginx           ingress-nginx-admission-patch-vqfwz         0/1     Completed   2              13m\n",
      "ingress-nginx           ingress-nginx-controller-6bf7bc7f94-2hs79   1/1     Running     0              13m\n",
      "kube-system             coredns-6d4b75cb6d-4tjmn                    1/1     Running     2              3h10m\n",
      "kube-system             coredns-6d4b75cb6d-r66p4                    1/1     Running     2              3h10m\n",
      "kube-system             etcd-docker-desktop                         1/1     Running     37             3h10m\n",
      "kube-system             kube-apiserver-docker-desktop               1/1     Running     37             3h10m\n",
      "kube-system             kube-controller-manager-docker-desktop      1/1     Running     37             3h10m\n",
      "kube-system             kube-proxy-cz9xs                            1/1     Running     2              3h10m\n",
      "kube-system             kube-scheduler-docker-desktop               1/1     Running     37             3h10m\n",
      "kube-system             storage-provisioner                         1/1     Running     2              3h10m\n",
      "kube-system             vpnkit-controller                           1/1     Running     10 (39m ago)   3h10m\n",
      "testing-pod-namespace   pod-sencillo-namespace                      1/1     Running     0              4s\n"
     ]
    }
   ],
   "source": [
    "!kubectl get ns\n",
    "print()\n",
    "!kubectl get pod --all-namespaces\n",
    "# kubectl port-forward pod-sencillo-namespace 5555:5000 --namespace=testing-pod-namespace"
   ]
  },
  {
   "cell_type": "code",
   "execution_count": 9,
   "id": "2e81058e-0a7a-4411-aae5-fee3a65e119b",
   "metadata": {},
   "outputs": [
    {
     "name": "stdout",
     "output_type": "stream",
     "text": [
      "namespace \"testing-pod-namespace\" deleted\n",
      "pod \"pod-sencillo-namespace\" deleted\n",
      "\n",
      "NAME              STATUS   AGE\n",
      "default           Active   3h10m\n",
      "ingress-nginx     Active   13m\n",
      "kube-node-lease   Active   3h10m\n",
      "kube-public       Active   3h10m\n",
      "kube-system       Active   3h10m\n",
      "\n",
      "NAMESPACE       NAME                                        READY   STATUS      RESTARTS       AGE\n",
      "ingress-nginx   ingress-nginx-admission-create-g4srb        0/1     Completed   0              13m\n",
      "ingress-nginx   ingress-nginx-admission-patch-vqfwz         0/1     Completed   2              13m\n",
      "ingress-nginx   ingress-nginx-controller-6bf7bc7f94-2hs79   1/1     Running     0              13m\n",
      "kube-system     coredns-6d4b75cb6d-4tjmn                    1/1     Running     2              3h10m\n",
      "kube-system     coredns-6d4b75cb6d-r66p4                    1/1     Running     2              3h10m\n",
      "kube-system     etcd-docker-desktop                         1/1     Running     37             3h10m\n",
      "kube-system     kube-apiserver-docker-desktop               1/1     Running     37             3h10m\n",
      "kube-system     kube-controller-manager-docker-desktop      1/1     Running     37             3h10m\n",
      "kube-system     kube-proxy-cz9xs                            1/1     Running     2              3h10m\n",
      "kube-system     kube-scheduler-docker-desktop               1/1     Running     37             3h10m\n",
      "kube-system     storage-provisioner                         1/1     Running     2              3h10m\n",
      "kube-system     vpnkit-controller                           1/1     Running     10 (39m ago)   3h10m\n"
     ]
    }
   ],
   "source": [
    "!kubectl delete -f \"01_Pod_+_NameSpace\"\n",
    "print()\n",
    "!kubectl get ns\n",
    "print()\n",
    "!kubectl get pod --all-namespaces"
   ]
  },
  {
   "cell_type": "markdown",
   "id": "45c5727f-8bb4-4840-a2c8-b565becc13ee",
   "metadata": {},
   "source": [
    "# <center> CREAR POD MULTICONTAINER Y SERVICIO NODEPORT"
   ]
  },
  {
   "cell_type": "code",
   "execution_count": 10,
   "id": "92f56dea-95db-4278-ac92-dc8cdbdb8b7b",
   "metadata": {},
   "outputs": [
    {
     "name": "stdout",
     "output_type": "stream",
     "text": [
      "pod/multicontainer-pod-nodeport created\n",
      "service/multicontainer-pod-svc-nodeport created\n",
      "\n",
      "NAME                          READY   STATUS              RESTARTS   AGE\n",
      "multicontainer-pod-nodeport   0/2     ContainerCreating   0          0s\n"
     ]
    }
   ],
   "source": [
    "!kubectl apply -f \"02_Pod_+_Multicontenedor_-_Servicio_-_NodePort\"\n",
    "print()\n",
    "!kubectl get pods"
   ]
  },
  {
   "cell_type": "code",
   "execution_count": 18,
   "id": "2a51e2f0-200d-44b2-84c8-1216230ed2af",
   "metadata": {},
   "outputs": [
    {
     "name": "stdout",
     "output_type": "stream",
     "text": [
      "NAME                              TYPE        CLUSTER-IP    EXTERNAL-IP   PORT(S)                         AGE\n",
      "kubernetes                        ClusterIP   10.96.0.1     <none>        443/TCP                         152m\n",
      "multicontainer-pod-svc-nodeport   NodePort    10.100.5.10   <none>        9999:31383/TCP,5000:32736/TCP   29s\n"
     ]
    }
   ],
   "source": [
    "!kubectl get svc"
   ]
  },
  {
   "cell_type": "code",
   "execution_count": 11,
   "id": "4e4d9d43-5c34-4c33-9bbd-6b3dec2e2338",
   "metadata": {},
   "outputs": [
    {
     "name": "stdout",
     "output_type": "stream",
     "text": [
      "pod \"multicontainer-pod-nodeport\" deleted\n",
      "service \"multicontainer-pod-svc-nodeport\" deleted\n",
      "\n",
      "NAME                                                                 TYPE           CLUSTER-IP       EXTERNAL-IP   PORT(S)                         AGE\n",
      "service/kubernetes                                                   ClusterIP      10.96.0.1        <none>        443/TCP                         3h11m\n",
      "service/multicontainer-multiservicio-svc-loadbalancer-multisecreto   LoadBalancer   10.110.208.222   localhost     3333:31060/TCP,5000:32704/TCP   4m38s\n"
     ]
    }
   ],
   "source": [
    "!kubectl delete -f \"02_Pod_+_Multicontenedor_-_Servicio_-_NodePort\"\n",
    "print()\n",
    "!kubectl get all"
   ]
  },
  {
   "cell_type": "markdown",
   "id": "67f3b204-c811-4ad7-841c-49dfc7b51a7e",
   "metadata": {},
   "source": [
    "# <center> CREAR POD MULTICONTAINER Y SERVICIO LOADBALANCER"
   ]
  },
  {
   "cell_type": "code",
   "execution_count": 12,
   "id": "42064658-149a-4038-96a5-bc994afbc6d9",
   "metadata": {},
   "outputs": [
    {
     "name": "stdout",
     "output_type": "stream",
     "text": [
      "pod/multicontainer-pod-loadbalancer created\n",
      "\n",
      "service/multicontainer-pod-svc-loadbalancer created\n",
      "NAME                                  READY   STATUS              RESTARTS   AGE\n",
      "pod/multicontainer-pod-loadbalancer   0/2     ContainerCreating   0          0s\n",
      "\n",
      "NAME                                                                 TYPE           CLUSTER-IP       EXTERNAL-IP   PORT(S)                         AGE\n",
      "service/kubernetes                                                   ClusterIP      10.96.0.1        <none>        443/TCP                         3h11m\n",
      "service/multicontainer-multiservicio-svc-loadbalancer-multisecreto   LoadBalancer   10.110.208.222   localhost     3333:31060/TCP,5000:32704/TCP   4m43s\n",
      "service/multicontainer-pod-svc-loadbalancer                          LoadBalancer   10.110.189.174   localhost     3333:30986/TCP,7777:30419/TCP   0s\n"
     ]
    }
   ],
   "source": [
    "!kubectl apply -f \"03_Pod_+_Multicontenedor_-_Servicio_-_LoadBalancer\"\n",
    "print()\n",
    "!kubectl get all"
   ]
  },
  {
   "cell_type": "code",
   "execution_count": 13,
   "id": "42cd00d4-885d-403b-ac9e-44e7355ad7e7",
   "metadata": {},
   "outputs": [
    {
     "name": "stdout",
     "output_type": "stream",
     "text": [
      "pod \"multicontainer-pod-loadbalancer\" deleted\n",
      "service \"multicontainer-pod-svc-loadbalancer\" deleted\n",
      "\n",
      "NAME                                                                 TYPE           CLUSTER-IP       EXTERNAL-IP   PORT(S)                         AGE\n",
      "service/kubernetes                                                   ClusterIP      10.96.0.1        <none>        443/TCP                         3h11m\n",
      "service/multicontainer-multiservicio-svc-loadbalancer-multisecreto   LoadBalancer   10.110.208.222   localhost     3333:31060/TCP,5000:32704/TCP   4m53s\n"
     ]
    }
   ],
   "source": [
    "!kubectl delete -f \"03_Pod_+_Multicontenedor_-_Servicio_-_LoadBalancer\"\n",
    "print()\n",
    "!kubectl get all"
   ]
  },
  {
   "cell_type": "markdown",
   "id": "546a4a95-e0f0-439b-aedf-0e21b446414f",
   "metadata": {},
   "source": [
    "# <center> CREAR POD MULTICONTAINER Y MULTI SERVICIO"
   ]
  },
  {
   "cell_type": "code",
   "execution_count": 14,
   "id": "2254ed37-e732-4d90-9278-bf4aa605fffc",
   "metadata": {},
   "outputs": [
    {
     "name": "stdout",
     "output_type": "stream",
     "text": [
      "pod/multicontainer-pod-loadbalancer created\n",
      "service/multicontainer-multiservicio-svc-loadbalancer created\n",
      "service/multicontainer-multiservicio-svc-nodeport created\n",
      "\n",
      "NAME                                  READY   STATUS              RESTARTS   AGE\n",
      "pod/multicontainer-pod-loadbalancer   0/2     ContainerCreating   0          1s\n",
      "\n",
      "NAME                                                                 TYPE           CLUSTER-IP       EXTERNAL-IP   PORT(S)                         AGE\n",
      "service/kubernetes                                                   ClusterIP      10.96.0.1        <none>        443/TCP                         3h11m\n",
      "service/multicontainer-multiservicio-svc-loadbalancer                LoadBalancer   10.109.180.150   localhost     4444:31041/TCP,5555:31942/TCP   1s\n",
      "service/multicontainer-multiservicio-svc-loadbalancer-multisecreto   LoadBalancer   10.110.208.222   localhost     3333:31060/TCP,5000:32704/TCP   4m58s\n",
      "service/multicontainer-multiservicio-svc-nodeport                    NodePort       10.99.121.35     <none>        9999:30762/TCP,5000:31274/TCP   1s\n"
     ]
    }
   ],
   "source": [
    "!kubectl apply -f \"04_Pod_+_Multicontenedor_-_Multi_Servicio\"\n",
    "print()\n",
    "!kubectl get all"
   ]
  },
  {
   "cell_type": "code",
   "execution_count": 15,
   "id": "330c729b-5f6f-4869-9084-3f07899b2602",
   "metadata": {},
   "outputs": [
    {
     "name": "stdout",
     "output_type": "stream",
     "text": [
      "pod \"multicontainer-pod-loadbalancer\" deleted\n",
      "service \"multicontainer-multiservicio-svc-loadbalancer\" deleted\n",
      "service \"multicontainer-multiservicio-svc-nodeport\" deleted\n",
      "\n",
      "NAME                                                                 TYPE           CLUSTER-IP       EXTERNAL-IP   PORT(S)                         AGE\n",
      "service/kubernetes                                                   ClusterIP      10.96.0.1        <none>        443/TCP                         3h11m\n",
      "service/multicontainer-multiservicio-svc-loadbalancer-multisecreto   LoadBalancer   10.110.208.222   localhost     3333:31060/TCP,5000:32704/TCP   5m7s\n"
     ]
    }
   ],
   "source": [
    "!kubectl delete -f \"04_Pod_+_Multicontenedor_-_Multi_Servicio\"\n",
    "print()\n",
    "!kubectl get all"
   ]
  },
  {
   "cell_type": "markdown",
   "id": "fa5ee9aa-ecd6-4d2d-a186-4da80c5d2a94",
   "metadata": {},
   "source": [
    "# <center> CREAR POD MULTICONTAINER Y COMUNICACION ENTRE PODS USANDO SERVICIOS"
   ]
  },
  {
   "cell_type": "code",
   "execution_count": 16,
   "id": "40b0da2a-fb9b-463f-bf5f-bd6c406a316a",
   "metadata": {},
   "outputs": [
    {
     "name": "stdout",
     "output_type": "stream",
     "text": [
      "pod/mc-pod-v1 created\n",
      "service/mc-pod-v1-svc-clusterip created\n",
      "pod/mc-pod-v2 created\n",
      "service/mc-pod-v2-svc-loadbalancer created\n",
      "\n",
      "NAME            READY   STATUS              RESTARTS   AGE\n",
      "pod/mc-pod-v1   0/2     ContainerCreating   0          0s\n",
      "pod/mc-pod-v2   0/2     ContainerCreating   0          0s\n",
      "\n",
      "NAME                                                                 TYPE           CLUSTER-IP       EXTERNAL-IP   PORT(S)                         AGE\n",
      "service/kubernetes                                                   ClusterIP      10.96.0.1        <none>        443/TCP                         3h11m\n",
      "service/mc-pod-v1-svc-clusterip                                      ClusterIP      10.107.161.165   <none>        3333/TCP,7777/TCP               0s\n",
      "service/mc-pod-v2-svc-loadbalancer                                   LoadBalancer   10.100.253.49    localhost     4444:32000/TCP,5555:30274/TCP   0s\n",
      "service/multicontainer-multiservicio-svc-loadbalancer-multisecreto   LoadBalancer   10.110.208.222   localhost     3333:31060/TCP,5000:32704/TCP   5m15s\n"
     ]
    }
   ],
   "source": [
    "!kubectl apply -f \"05_Pod_+_Multicontenedor_-_Descubrimiento_y_Comunicacion_entre_Pods_con_Servicios\"\n",
    "print()\n",
    "!kubectl get all"
   ]
  },
  {
   "cell_type": "code",
   "execution_count": null,
   "id": "38cc5fe7-6ce0-4a0c-a643-000aa02d2ecf",
   "metadata": {},
   "outputs": [],
   "source": [
    "# http://localhost:4444/java/swagger-ui/index.html\n",
    "# en el servicio /web poner la url -> http://mc-pod-v1-svc-clusterip:3333/java/all o  http://mc-pod-v1-svc-clusterip:7777/python/all\n",
    "\n",
    "# http://localhost:5555/python/docs\n",
    "# en el servicio /web poner la url -> http://mc-pod-v1-svc-clusterip:3333/java/all o  http://mc-pod-v1-svc-clusterip:7777/python/all"
   ]
  },
  {
   "cell_type": "code",
   "execution_count": 17,
   "id": "7e724652-864c-4412-a3b4-98bd94cf604b",
   "metadata": {},
   "outputs": [
    {
     "name": "stdout",
     "output_type": "stream",
     "text": [
      "pod \"mc-pod-v1\" deleted\n",
      "service \"mc-pod-v1-svc-clusterip\" deleted\n",
      "pod \"mc-pod-v2\" deleted\n",
      "service \"mc-pod-v2-svc-loadbalancer\" deleted\n",
      "\n",
      "NAME                                                                 TYPE           CLUSTER-IP       EXTERNAL-IP   PORT(S)                         AGE\n",
      "service/kubernetes                                                   ClusterIP      10.96.0.1        <none>        443/TCP                         3h11m\n",
      "service/multicontainer-multiservicio-svc-loadbalancer-multisecreto   LoadBalancer   10.110.208.222   localhost     3333:31060/TCP,5000:32704/TCP   5m28s\n"
     ]
    }
   ],
   "source": [
    "!kubectl delete -f \"05_Pod_+_Multicontenedor_-_Descubrimiento_y_Comunicacion_entre_Pods_con_Servicios\"\n",
    "print()\n",
    "!kubectl get all"
   ]
  },
  {
   "cell_type": "markdown",
   "id": "9aee868a-f7dd-44e9-8532-dbd8a4a9b765",
   "metadata": {},
   "source": [
    "# <center> CREAR POD MULTICONTAINER INGRESS, HOSTLOCAL Y HOST PERSONALIZADO"
   ]
  },
  {
   "cell_type": "code",
   "execution_count": 18,
   "id": "1647faef-efbc-4c28-87ff-b99f511e4bea",
   "metadata": {},
   "outputs": [
    {
     "name": "stdout",
     "output_type": "stream",
     "text": [
      "namespace/ingress-nginx unchanged\n",
      "serviceaccount/ingress-nginx unchanged\n",
      "serviceaccount/ingress-nginx-admission unchanged\n",
      "role.rbac.authorization.k8s.io/ingress-nginx unchanged\n",
      "role.rbac.authorization.k8s.io/ingress-nginx-admission unchanged\n",
      "clusterrole.rbac.authorization.k8s.io/ingress-nginx unchanged\n",
      "clusterrole.rbac.authorization.k8s.io/ingress-nginx-admission unchanged\n",
      "rolebinding.rbac.authorization.k8s.io/ingress-nginx unchanged\n",
      "rolebinding.rbac.authorization.k8s.io/ingress-nginx-admission unchanged\n",
      "clusterrolebinding.rbac.authorization.k8s.io/ingress-nginx unchanged\n",
      "clusterrolebinding.rbac.authorization.k8s.io/ingress-nginx-admission unchanged\n",
      "configmap/ingress-nginx-controller unchanged\n",
      "service/ingress-nginx-controller unchanged\n",
      "service/ingress-nginx-controller-admission unchanged\n",
      "deployment.apps/ingress-nginx-controller configured\n",
      "job.batch/ingress-nginx-admission-create unchanged\n",
      "job.batch/ingress-nginx-admission-patch unchanged\n",
      "ingressclass.networking.k8s.io/nginx unchanged\n",
      "validatingwebhookconfiguration.admissionregistration.k8s.io/ingress-nginx-admission configured\n"
     ]
    }
   ],
   "source": [
    "#instalar el controlador de NGINX\n",
    "!kubectl apply -f https://raw.githubusercontent.com/JorgeCardona/skills/master/Kubernetes/Controllers/kubernetes-ingress-nginx-v1.3.0.yaml"
   ]
  },
  {
   "cell_type": "markdown",
   "id": "ec056f75-f0dd-4bec-a32d-3d16edcc0b4d",
   "metadata": {},
   "source": [
    "# <center> LOCALHOST"
   ]
  },
  {
   "cell_type": "code",
   "execution_count": 19,
   "id": "d579631e-7aa1-45f2-ac0f-7fd80dd83c61",
   "metadata": {},
   "outputs": [
    {
     "name": "stdout",
     "output_type": "stream",
     "text": [
      "pod/mc-pod-np-ingress created\n",
      "service/mc-pod-svc-nodeport-ingress created\n",
      "ingress.networking.k8s.io/ingress-multicontainer-java-python created\n",
      "\n",
      "NAME                    READY   STATUS              RESTARTS   AGE\n",
      "pod/mc-pod-np-ingress   0/2     ContainerCreating   0          0s\n",
      "\n",
      "NAME                                                                 TYPE           CLUSTER-IP       EXTERNAL-IP   PORT(S)                         AGE\n",
      "service/kubernetes                                                   ClusterIP      10.96.0.1        <none>        443/TCP                         3h12m\n",
      "service/mc-pod-svc-nodeport-ingress                                  NodePort       10.96.31.186     <none>        9999:31960/TCP,5000:30582/TCP   0s\n",
      "service/multicontainer-multiservicio-svc-loadbalancer-multisecreto   LoadBalancer   10.110.208.222   localhost     3333:31060/TCP,5000:32704/TCP   5m39s\n"
     ]
    }
   ],
   "source": [
    "!kubectl apply -f \"06_Pod_+_Ingress_+_HostLocal_+_Host_Personalizado\\01_ Localhost\"\n",
    "print()\n",
    "!kubectl get all"
   ]
  },
  {
   "cell_type": "code",
   "execution_count": 38,
   "id": "1744b2af-b6bc-48f0-b830-e7438b1de385",
   "metadata": {},
   "outputs": [
    {
     "name": "stdout",
     "output_type": "stream",
     "text": [
      "NAME                                 CLASS    HOSTS   ADDRESS     PORTS   AGE\n",
      "ingress-multicontainer-java-python   <none>   *       localhost   80      2m53s\n"
     ]
    }
   ],
   "source": [
    "# http://localhost/python\n",
    "# http://localhost/java\n",
    "!kubectl get ingress"
   ]
  },
  {
   "cell_type": "code",
   "execution_count": 20,
   "id": "73d10da9-488e-49a4-bde9-79ef7a01e287",
   "metadata": {},
   "outputs": [
    {
     "name": "stdout",
     "output_type": "stream",
     "text": [
      "pod \"mc-pod-np-ingress\" deleted\n",
      "\n",
      "service \"mc-pod-svc-nodeport-ingress\" deleted\n",
      "ingress.networking.k8s.io \"ingress-multicontainer-java-python\" deleted\n",
      "NAME                                                                 TYPE           CLUSTER-IP       EXTERNAL-IP   PORT(S)                         AGE\n",
      "service/kubernetes                                                   ClusterIP      10.96.0.1        <none>        443/TCP                         3h12m\n",
      "service/multicontainer-multiservicio-svc-loadbalancer-multisecreto   LoadBalancer   10.110.208.222   localhost     3333:31060/TCP,5000:32704/TCP   5m51s\n"
     ]
    }
   ],
   "source": [
    "!kubectl delete -f \"06_Pod_+_Ingress_+_HostLocal_+_Host_Personalizado\\01_ Localhost\"\n",
    "print()\n",
    "!kubectl get all"
   ]
  },
  {
   "cell_type": "markdown",
   "id": "8c47eb17-d037-475c-96c3-926365a8d3bc",
   "metadata": {},
   "source": [
    "# <center> HOST PERSONALIZADO"
   ]
  },
  {
   "cell_type": "code",
   "execution_count": 21,
   "id": "6697d3de-e546-4930-bcc2-9070d717fb6c",
   "metadata": {},
   "outputs": [
    {
     "name": "stdout",
     "output_type": "stream",
     "text": [
      "pod/mc-pod-np-ingress created\n",
      "service/mc-pod-svc-nodeport-ingress created\n",
      "ingress.networking.k8s.io/ingress-multicontainer-java-python created\n",
      "\n",
      "NAME                    READY   STATUS              RESTARTS   AGE\n",
      "pod/mc-pod-np-ingress   0/2     ContainerCreating   0          0s\n",
      "\n",
      "NAME                                                                 TYPE           CLUSTER-IP       EXTERNAL-IP   PORT(S)                         AGE\n",
      "service/kubernetes                                                   ClusterIP      10.96.0.1        <none>        443/TCP                         3h12m\n",
      "service/mc-pod-svc-nodeport-ingress                                  NodePort       10.111.101.198   <none>        9999:30243/TCP,5000:32457/TCP   0s\n",
      "service/multicontainer-multiservicio-svc-loadbalancer-multisecreto   LoadBalancer   10.110.208.222   localhost     3333:31060/TCP,5000:32704/TCP   6m2s\n"
     ]
    }
   ],
   "source": [
    "!kubectl apply -f \"06_Pod_+_Ingress_+_HostLocal_+_Host_Personalizado\\02_Host_Personalizado\"\n",
    "print()\n",
    "!kubectl get all"
   ]
  },
  {
   "cell_type": "code",
   "execution_count": 40,
   "id": "4d9adea1-1f9c-4ca9-8467-b34d6c4b923f",
   "metadata": {},
   "outputs": [
    {
     "name": "stdout",
     "output_type": "stream",
     "text": [
      "NAME                                 CLASS    HOSTS                                            ADDRESS     PORTS   AGE\n",
      "ingress-multicontainer-java-python   <none>   jorge-cardona.kubernetes,jorge-cardona.ingress   localhost   80      4m55s\n"
     ]
    }
   ],
   "source": [
    "# http://jorge-cardona.kubernetes/python\n",
    "# http://jorge-cardona.kubernetes/java\n",
    "# http://jorge-cardona.ingress/python\n",
    "# http://jorge-cardona.ingress/java\n",
    "# C:\\Windows\\System32\\drivers\\etc\\\n",
    "!kubectl get ingress"
   ]
  },
  {
   "cell_type": "code",
   "execution_count": 22,
   "id": "878bcd60-790f-46bf-8d71-1aab58a9ac10",
   "metadata": {},
   "outputs": [
    {
     "name": "stdout",
     "output_type": "stream",
     "text": [
      "pod \"mc-pod-np-ingress\" deleted\n",
      "service \"mc-pod-svc-nodeport-ingress\" deleted\n",
      "ingress.networking.k8s.io \"ingress-multicontainer-java-python\" deleted\n",
      "namespace \"ingress-nginx\" deleted\n",
      "serviceaccount \"ingress-nginx\" deleted\n",
      "serviceaccount \"ingress-nginx-admission\" deleted\n",
      "role.rbac.authorization.k8s.io \"ingress-nginx\" deleted\n",
      "role.rbac.authorization.k8s.io \"ingress-nginx-admission\" deleted\n",
      "clusterrole.rbac.authorization.k8s.io \"ingress-nginx\" deleted\n",
      "clusterrole.rbac.authorization.k8s.io \"ingress-nginx-admission\" deleted\n",
      "rolebinding.rbac.authorization.k8s.io \"ingress-nginx\" deleted\n",
      "rolebinding.rbac.authorization.k8s.io \"ingress-nginx-admission\" deleted\n",
      "clusterrolebinding.rbac.authorization.k8s.io \"ingress-nginx\" deleted\n",
      "clusterrolebinding.rbac.authorization.k8s.io \"ingress-nginx-admission\" deleted\n",
      "configmap \"ingress-nginx-controller\" deleted\n",
      "service \"ingress-nginx-controller\" deleted\n",
      "service \"ingress-nginx-controller-admission\" deleted\n",
      "deployment.apps \"ingress-nginx-controller\" deleted\n",
      "job.batch \"ingress-nginx-admission-create\" deleted\n",
      "job.batch \"ingress-nginx-admission-patch\" deleted\n",
      "ingressclass.networking.k8s.io \"nginx\" deleted\n",
      "validatingwebhookconfiguration.admissionregistration.k8s.io \"ingress-nginx-admission\" deleted\n",
      "\n",
      "NAME                                                                 TYPE           CLUSTER-IP       EXTERNAL-IP   PORT(S)                         AGE\n",
      "service/kubernetes                                                   ClusterIP      10.96.0.1        <none>        443/TCP                         3h14m\n",
      "service/multicontainer-multiservicio-svc-loadbalancer-multisecreto   LoadBalancer   10.110.208.222   localhost     3333:31060/TCP,5000:32704/TCP   7m46s\n"
     ]
    }
   ],
   "source": [
    "!kubectl delete -f \"06_Pod_+_Ingress_+_HostLocal_+_Host_Personalizado\\02_Host_Personalizado\"\n",
    "!kubectl delete -f https://raw.githubusercontent.com/JorgeCardona/skills/master/Kubernetes/Controllers/kubernetes-ingress-nginx-v1.3.0.yaml\n",
    "print()\n",
    "!kubectl get all"
   ]
  },
  {
   "cell_type": "markdown",
   "id": "85526a60-8075-454b-940a-c919ff16827b",
   "metadata": {},
   "source": [
    "# <center> CONFIGMAP - SECRETOS - VARIABLES DE AMBIENTE"
   ]
  },
  {
   "cell_type": "code",
   "execution_count": 27,
   "id": "8c29d4d9-fba4-42b8-b32b-5d0665bfa717",
   "metadata": {},
   "outputs": [
    {
     "name": "stdout",
     "output_type": "stream",
     "text": [
      "configmap/demo-config-map unchanged\n",
      "secret/demo-config-secrets-sin-cifrar configured\n",
      "secret/demo-config-secrets configured\n",
      "secret/demo-config-secret-base64 unchanged\n",
      "pod/multicontainer-pod-loadbalancer unchanged\n",
      "service/multicontainer-multiservicio-svc-loadbalancer-multisecreto unchanged\n",
      "\n",
      "NAME                                  READY   STATUS    RESTARTS   AGE\n",
      "pod/multicontainer-pod-loadbalancer   2/2     Running   0          94s\n",
      "\n",
      "NAME                                                                 TYPE           CLUSTER-IP     EXTERNAL-IP   PORT(S)                         AGE\n",
      "service/kubernetes                                                   ClusterIP      10.96.0.1      <none>        443/TCP                         3h16m\n",
      "service/multicontainer-multiservicio-svc-loadbalancer-multisecreto   LoadBalancer   10.100.24.40   localhost     3333:32363/TCP,5000:30482/TCP   94s\n"
     ]
    }
   ],
   "source": [
    "# http://localhost:3333/java/docs\n",
    "# http://localhost:5000/python/docs\n",
    "!kubectl apply -f \"07_Pod_+_ConfigMap_+_Secretos_+_Servicios_+_Variables_de_Ambiente\"\n",
    "print()\n",
    "!kubectl get all"
   ]
  },
  {
   "cell_type": "code",
   "execution_count": 28,
   "id": "13e760ca-8e0c-45c6-9cbe-c23b6a346114",
   "metadata": {},
   "outputs": [
    {
     "name": "stdout",
     "output_type": "stream",
     "text": [
      "configmap \"demo-config-map\" deleted\n",
      "secret \"demo-config-secrets-sin-cifrar\" deleted\n",
      "secret \"demo-config-secrets\" deleted\n",
      "secret \"demo-config-secret-base64\" deleted\n",
      "pod \"multicontainer-pod-loadbalancer\" deleted\n",
      "service \"multicontainer-multiservicio-svc-loadbalancer-multisecreto\" deleted\n",
      "\n",
      "NAME                 TYPE        CLUSTER-IP   EXTERNAL-IP   PORT(S)   AGE\n",
      "service/kubernetes   ClusterIP   10.96.0.1    <none>        443/TCP   3h16m\n"
     ]
    }
   ],
   "source": [
    "!kubectl delete -f \"07_Pod_+_ConfigMap_+_Secretos_+_Servicios_+_Variables_de_Ambiente\"\n",
    "print()\n",
    "!kubectl get all"
   ]
  },
  {
   "cell_type": "markdown",
   "id": "61b64ee3-8a9f-422e-9376-f1f80b272ae2",
   "metadata": {},
   "source": [
    "# <center> VOLUMEN COMPARTIDO EN EL MISMO POD"
   ]
  },
  {
   "cell_type": "code",
   "execution_count": 30,
   "id": "97e22d79-19a3-4303-b861-a482c0cd3c7d",
   "metadata": {},
   "outputs": [
    {
     "name": "stdout",
     "output_type": "stream",
     "text": [
      "pod/multicontainer-pod-loadbalancer configured\n",
      "service/multicontainer-volumen-compartido-svc-loadbalancer unchanged\n",
      "\n",
      "NAME                                  READY   STATUS    RESTARTS   AGE\n",
      "pod/multicontainer-pod-loadbalancer   2/2     Running   0          2m38s\n",
      "\n",
      "NAME                                                         TYPE           CLUSTER-IP     EXTERNAL-IP   PORT(S)                         AGE\n",
      "service/kubernetes                                           ClusterIP      10.96.0.1      <none>        443/TCP                         3h20m\n",
      "service/multicontainer-volumen-compartido-svc-loadbalancer   LoadBalancer   10.97.18.220   localhost     3333:31787/TCP,7777:31642/TCP   2m38s\n"
     ]
    }
   ],
   "source": [
    "# http://localhost:3333/java/docs -> usar el servicio saveInfointoFile y guadar\n",
    "# http://localhost:7777/python/docs -> usar el servicio saveInfointoFile y guadar, valida que los mensajes de java ya tiene acceso python\n",
    "!kubectl apply -f \"08_Pod_+_Volumen_Compartido_en_el_mismo_POD\"\n",
    "print()\n",
    "!kubectl get all"
   ]
  },
  {
   "cell_type": "code",
   "execution_count": 31,
   "id": "dc9e558b-9278-4f56-a926-173202afcfce",
   "metadata": {},
   "outputs": [
    {
     "name": "stdout",
     "output_type": "stream",
     "text": [
      "pod \"multicontainer-pod-loadbalancer\" deleted\n",
      "service \"multicontainer-volumen-compartido-svc-loadbalancer\" deleted\n",
      "\n",
      "NAME                 TYPE        CLUSTER-IP   EXTERNAL-IP   PORT(S)   AGE\n",
      "service/kubernetes   ClusterIP   10.96.0.1    <none>        443/TCP   3h20m\n"
     ]
    }
   ],
   "source": [
    "!kubectl delete -f \"08_Pod_+_Volumen_Compartido_en_el_mismo_POD\"\n",
    "print()\n",
    "!kubectl get all"
   ]
  },
  {
   "cell_type": "markdown",
   "id": "6868de46-171d-40f5-94c2-0b01128f6585",
   "metadata": {},
   "source": [
    "# <center> VOLUMEN PERSISTENTE"
   ]
  },
  {
   "cell_type": "code",
   "execution_count": 35,
   "id": "d42b8f0e-e302-4220-924e-d7fcad00111d",
   "metadata": {},
   "outputs": [
    {
     "name": "stdout",
     "output_type": "stream",
     "text": [
      "pod/multicontainer-pod-loadbalancer configured\n",
      "service/multicontainer-volumen-compartido-svc-loadbalancer unchanged\n",
      "persistentvolumeclaim/persistence-volume unchanged\n",
      "persistentvolume/persistence-volume-recycle unchanged\n",
      "persistentvolume/persistence-volume-retain unchanged\n",
      "\n",
      "NAME                                  READY   STATUS              RESTARTS   AGE\n",
      "pod/multicontainer-pod-loadbalancer   0/2     ContainerCreating   0          75s\n",
      "\n",
      "NAME                                                         TYPE           CLUSTER-IP       EXTERNAL-IP   PORT(S)                         AGE\n",
      "service/kubernetes                                           ClusterIP      10.96.0.1        <none>        443/TCP                         3h22m\n",
      "service/multicontainer-volumen-compartido-svc-loadbalancer   LoadBalancer   10.106.123.183   localhost     3333:30341/TCP,7777:31167/TCP   75s\n"
     ]
    }
   ],
   "source": [
    "# http://localhost:3333/java/docs -> usar el servicio saveInfointoFile y guadar\n",
    "# http://localhost:7777/python/docs -> usar el servicio saveInfointoFile y guadar, valida que los mensajes de java ya tiene acceso python\n",
    "!kubectl apply -f \"09_Pod_+_Volumen_Persistente\"\n",
    "print()\n",
    "!kubectl get all"
   ]
  },
  {
   "cell_type": "code",
   "execution_count": 39,
   "id": "5bdfd01c-1bb4-4abd-bea8-cc51479b439a",
   "metadata": {},
   "outputs": [
    {
     "name": "stdout",
     "output_type": "stream",
     "text": [
      "NAME                              READY   STATUS              RESTARTS   AGE\n",
      "multicontainer-pod-loadbalancer   0/2     ContainerCreating   0          5m42s\n"
     ]
    }
   ],
   "source": [
    "! kubectl get pods"
   ]
  },
  {
   "cell_type": "code",
   "execution_count": 40,
   "id": "b0ef0e22-a012-466f-a3bb-34597a22234f",
   "metadata": {},
   "outputs": [
    {
     "name": "stdout",
     "output_type": "stream",
     "text": [
      "pod \"multicontainer-pod-loadbalancer\" deleted\n",
      "service \"multicontainer-volumen-compartido-svc-loadbalancer\" deleted\n",
      "persistentvolumeclaim \"persistence-volume\" deleted\n",
      "persistentvolume \"persistence-volume-recycle\" deleted\n",
      "persistentvolume \"persistence-volume-retain\" deleted\n",
      "\n",
      "NAME                                          READY   STATUS              RESTARTS   AGE\n",
      "pod/recycler-for-persistence-volume-recycle   0/1     ContainerCreating   0          0s\n",
      "\n",
      "NAME                 TYPE        CLUSTER-IP   EXTERNAL-IP   PORT(S)   AGE\n",
      "service/kubernetes   ClusterIP   10.96.0.1    <none>        443/TCP   3h27m\n"
     ]
    }
   ],
   "source": [
    "!kubectl delete -f \"09_Pod_+_Volumen_Persistente\"\n",
    "print()\n",
    "!kubectl get all"
   ]
  },
  {
   "cell_type": "markdown",
   "id": "63c8ccc8-3ecd-4519-a0da-360587990f92",
   "metadata": {},
   "source": [
    "# <center> LIMIT CPU-RAM-DISCO"
   ]
  },
  {
   "cell_type": "code",
   "execution_count": 44,
   "id": "971baf90-b22b-45c1-b231-ec0efef60b28",
   "metadata": {},
   "outputs": [
    {
     "name": "stdout",
     "output_type": "stream",
     "text": [
      "pod/mc-limits-v1 configured\n",
      "pod/mc-limits-v2 configured\n",
      "service/limits-pod-svc-lb-v1 unchanged\n",
      "service/limits-pod-svc-lb-v2 unchanged\n",
      "\n",
      "NAME                                          READY   STATUS              RESTARTS   AGE\n",
      "pod/mc-limits-v1                              2/2     Running             0          40s\n",
      "pod/mc-limits-v2                              0/2     Pending             0          40s\n",
      "pod/recycler-for-persistence-volume-recycle   0/1     ContainerCreating   0          2m49s\n",
      "\n",
      "NAME                           TYPE           CLUSTER-IP       EXTERNAL-IP   PORT(S)                         AGE\n",
      "service/kubernetes             ClusterIP      10.96.0.1        <none>        443/TCP                         3h30m\n",
      "service/limits-pod-svc-lb-v1   LoadBalancer   10.109.234.180   localhost     3333:32404/TCP,7777:32408/TCP   40s\n",
      "service/limits-pod-svc-lb-v2   LoadBalancer   10.99.10.141     localhost     4444:32713/TCP,5555:32510/TCP   40s\n"
     ]
    }
   ],
   "source": [
    "# http://localhost:3333/java/docs -> usar el servicio saveInfointoFile y guadar\n",
    "# http://localhost:7777/python/docs -> usar el servicio saveInfointoFile y guadar, valida que los mensajes de java ya tiene acceso python\n",
    "!kubectl apply -f \"10_Pod_+_Limit_CPU_+_Ram_+_Disco_duro\"\n",
    "print()\n",
    "!kubectl get all"
   ]
  },
  {
   "cell_type": "code",
   "execution_count": 46,
   "id": "a00543a2-073d-440b-9d26-fd6f034c0574",
   "metadata": {},
   "outputs": [
    {
     "name": "stdout",
     "output_type": "stream",
     "text": [
      "Name:               docker-desktop\n",
      "Roles:              control-plane\n",
      "Labels:             beta.kubernetes.io/arch=amd64\n",
      "                    beta.kubernetes.io/os=linux\n",
      "                    kubernetes.io/arch=amd64\n",
      "                    kubernetes.io/hostname=docker-desktop\n",
      "                    kubernetes.io/os=linux\n",
      "                    node-role.kubernetes.io/control-plane=\n",
      "                    node.kubernetes.io/exclude-from-external-load-balancers=\n",
      "Annotations:        kubeadm.alpha.kubernetes.io/cri-socket: unix:///var/run/cri-dockerd.sock\n",
      "                    node.alpha.kubernetes.io/ttl: 0\n",
      "                    volumes.kubernetes.io/controller-managed-attach-detach: true\n",
      "CreationTimestamp:  Mon, 18 Jul 2022 16:05:06 -0500\n",
      "Taints:             <none>\n",
      "Unschedulable:      false\n",
      "Lease:\n",
      "  HolderIdentity:  docker-desktop\n",
      "  AcquireTime:     <unset>\n",
      "  RenewTime:       Mon, 18 Jul 2022 19:36:51 -0500\n",
      "Conditions:\n",
      "  Type             Status  LastHeartbeatTime                 LastTransitionTime                Reason                       Message\n",
      "  ----             ------  -----------------                 ------------------                ------                       -------\n",
      "  MemoryPressure   False   Mon, 18 Jul 2022 19:36:59 -0500   Mon, 18 Jul 2022 16:05:04 -0500   KubeletHasSufficientMemory   kubelet has sufficient memory available\n",
      "  DiskPressure     False   Mon, 18 Jul 2022 19:36:59 -0500   Mon, 18 Jul 2022 16:05:04 -0500   KubeletHasNoDiskPressure     kubelet has no disk pressure\n",
      "  PIDPressure      False   Mon, 18 Jul 2022 19:36:59 -0500   Mon, 18 Jul 2022 16:05:04 -0500   KubeletHasSufficientPID      kubelet has sufficient PID available\n",
      "  Ready            True    Mon, 18 Jul 2022 19:36:59 -0500   Mon, 18 Jul 2022 16:05:37 -0500   KubeletReady                 kubelet is posting ready status\n",
      "Addresses:\n",
      "  InternalIP:  192.168.65.4\n",
      "  Hostname:    docker-desktop\n",
      "Capacity:\n",
      "  cpu:                4\n",
      "  ephemeral-storage:  263174212Ki\n",
      "  hugepages-1Gi:      0\n",
      "  hugepages-2Mi:      0\n",
      "  memory:             12945324Ki\n",
      "  pods:               110\n",
      "Allocatable:\n",
      "  cpu:                4\n",
      "  ephemeral-storage:  242541353378\n",
      "  hugepages-1Gi:      0\n",
      "  hugepages-2Mi:      0\n",
      "  memory:             12842924Ki\n",
      "  pods:               110\n",
      "System Info:\n",
      "  Machine ID:                 f8030616-a902-447f-bbb7-803ce8aff73d\n",
      "  System UUID:                f8030616-a902-447f-bbb7-803ce8aff73d\n",
      "  Boot ID:                    e45d7525-2a3f-48a2-a945-abdc05a8c85c\n",
      "  Kernel Version:             5.10.102.1-microsoft-standard-WSL2\n",
      "  OS Image:                   Docker Desktop\n",
      "  Operating System:           linux\n",
      "  Architecture:               amd64\n",
      "  Container Runtime Version:  docker://20.10.17\n",
      "  Kubelet Version:            v1.24.1\n",
      "  Kube-Proxy Version:         v1.24.1\n",
      "Non-terminated Pods:          (11 in total)\n",
      "  Namespace                   Name                                       CPU Requests  CPU Limits  Memory Requests  Memory Limits  Age\n",
      "  ---------                   ----                                       ------------  ----------  ---------------  -------------  ---\n",
      "  default                     mc-limits-v1                               2 (50%)       4 (100%)    1Gi (8%)         2Gi (16%)      117s\n",
      "  default                     recycler-for-persistence-volume-recycle    0 (0%)        0 (0%)      0 (0%)           0 (0%)         4m6s\n",
      "  kube-system                 coredns-6d4b75cb6d-4tjmn                   100m (2%)     0 (0%)      70Mi (0%)        170Mi (1%)     3h31m\n",
      "  kube-system                 coredns-6d4b75cb6d-r66p4                   100m (2%)     0 (0%)      70Mi (0%)        170Mi (1%)     3h31m\n",
      "  kube-system                 etcd-docker-desktop                        100m (2%)     0 (0%)      100Mi (0%)       0 (0%)         3h31m\n",
      "  kube-system                 kube-apiserver-docker-desktop              250m (6%)     0 (0%)      0 (0%)           0 (0%)         3h31m\n",
      "  kube-system                 kube-controller-manager-docker-desktop     200m (5%)     0 (0%)      0 (0%)           0 (0%)         3h31m\n",
      "  kube-system                 kube-proxy-cz9xs                           0 (0%)        0 (0%)      0 (0%)           0 (0%)         3h31m\n",
      "  kube-system                 kube-scheduler-docker-desktop              100m (2%)     0 (0%)      0 (0%)           0 (0%)         3h31m\n",
      "  kube-system                 storage-provisioner                        0 (0%)        0 (0%)      0 (0%)           0 (0%)         3h31m\n",
      "  kube-system                 vpnkit-controller                          0 (0%)        0 (0%)      0 (0%)           0 (0%)         3h31m\n",
      "Allocated resources:\n",
      "  (Total limits may be over 100 percent, i.e., overcommitted.)\n",
      "  Resource           Requests      Limits\n",
      "  --------           --------      ------\n",
      "  cpu                2850m (71%)   4 (100%)\n",
      "  memory             1264Mi (10%)  2388Mi (19%)\n",
      "  ephemeral-storage  4Gi (1%)      8Gi (3%)\n",
      "  hugepages-1Gi      0 (0%)        0 (0%)\n",
      "  hugepages-2Mi      0 (0%)        0 (0%)\n",
      "Events:              <none>\n"
     ]
    }
   ],
   "source": [
    "!kubectl describe nodes"
   ]
  },
  {
   "cell_type": "code",
   "execution_count": 49,
   "id": "a02273b7-b585-404e-9970-27e057594cad",
   "metadata": {},
   "outputs": [
    {
     "name": "stderr",
     "output_type": "stream",
     "text": [
      "Error from server (NotFound): pods \"mc-limits-v1\" not found\n"
     ]
    },
    {
     "name": "stdout",
     "output_type": "stream",
     "text": [
      "NAME                                          READY   STATUS              RESTARTS   AGE\n",
      "pod/mc-limits-v2                              2/2     Running             0          3m27s\n",
      "pod/recycler-for-persistence-volume-recycle   0/1     ContainerCreating   0          5m36s\n",
      "\n",
      "NAME                           TYPE           CLUSTER-IP       EXTERNAL-IP   PORT(S)                         AGE\n",
      "service/kubernetes             ClusterIP      10.96.0.1        <none>        443/TCP                         3h33m\n",
      "service/limits-pod-svc-lb-v1   LoadBalancer   10.109.234.180   localhost     3333:32404/TCP,7777:32408/TCP   3m27s\n",
      "service/limits-pod-svc-lb-v2   LoadBalancer   10.99.10.141     localhost     4444:32713/TCP,5555:32510/TCP   3m27s\n"
     ]
    }
   ],
   "source": [
    "!kubectl delete pod mc-limits-v1\n",
    "!kubectl get all"
   ]
  },
  {
   "cell_type": "code",
   "execution_count": 50,
   "id": "5da66162-9dee-45e4-815e-833c59b2ca3c",
   "metadata": {},
   "outputs": [
    {
     "name": "stdout",
     "output_type": "stream",
     "text": [
      "pod \"mc-limits-v2\" deleted\n",
      "service \"limits-pod-svc-lb-v1\" deleted\n",
      "service \"limits-pod-svc-lb-v2\" deleted\n",
      "\n"
     ]
    },
    {
     "name": "stderr",
     "output_type": "stream",
     "text": [
      "Error from server (NotFound): error when deleting \"10_Pod_+_Limit_CPU_+_Ram_+_Disco_duro\\\\limits-cpu-ram-disco-duro.yaml\": pods \"mc-limits-v1\" not found\n"
     ]
    },
    {
     "name": "stdout",
     "output_type": "stream",
     "text": [
      "NAME                                          READY   STATUS              RESTARTS   AGE\n",
      "pod/mc-limits-v2                              2/2     Terminating         0          3m47s\n",
      "pod/recycler-for-persistence-volume-recycle   0/1     ContainerCreating   0          5m56s\n",
      "\n",
      "NAME                 TYPE        CLUSTER-IP   EXTERNAL-IP   PORT(S)   AGE\n",
      "service/kubernetes   ClusterIP   10.96.0.1    <none>        443/TCP   3h33m\n"
     ]
    }
   ],
   "source": [
    "!kubectl delete -f \"10_Pod_+_Limit_CPU_+_Ram_+_Disco_duro\"\n",
    "print()\n",
    "!kubectl get all"
   ]
  },
  {
   "cell_type": "markdown",
   "id": "b6e8d43a-638e-49c9-8f38-6d1f0e55dfe5",
   "metadata": {},
   "source": [
    "# <center> DEPLOYMENT"
   ]
  },
  {
   "cell_type": "code",
   "execution_count": 63,
   "id": "39cca2aa-c562-474e-b123-73d92b2fda67",
   "metadata": {},
   "outputs": [
    {
     "name": "stdout",
     "output_type": "stream",
     "text": [
      "deployment.apps/mc-deploy-using-nodeport created\n",
      "service/mc-deploy-using-nodeport-svc created\n",
      "\n",
      "NAME                                           READY   STATUS              RESTARTS   AGE\n",
      "pod/mc-deploy-using-nodeport-fbf8f6ddb-5tvf9   0/2     ContainerCreating   0          1s\n",
      "pod/mc-deploy-using-nodeport-fbf8f6ddb-fg4jr   0/2     ContainerCreating   0          1s\n",
      "pod/mc-deploy-using-nodeport-fbf8f6ddb-qtj6b   0/2     ContainerCreating   0          1s\n",
      "\n",
      "NAME                                   TYPE        CLUSTER-IP     EXTERNAL-IP   PORT(S)                         AGE\n",
      "service/kubernetes                     ClusterIP   10.96.0.1      <none>        443/TCP                         3h41m\n",
      "service/mc-deploy-using-nodeport-svc   NodePort    10.107.32.10   <none>        4444:30737/TCP,5555:30705/TCP   1s\n",
      "\n",
      "NAME                                       READY   UP-TO-DATE   AVAILABLE   AGE\n",
      "deployment.apps/mc-deploy-using-nodeport   0/3     3            0           1s\n",
      "\n",
      "NAME                                                 DESIRED   CURRENT   READY   AGE\n",
      "replicaset.apps/mc-deploy-using-nodeport-fbf8f6ddb   3         3         0       1s\n"
     ]
    }
   ],
   "source": [
    "!kubectl apply -f \"11_Pod_+_Deployment\"\n",
    "print()\n",
    "!kubectl get all"
   ]
  },
  {
   "cell_type": "code",
   "execution_count": 64,
   "id": "1c57701a-055f-489d-b72e-97d248ac58a0",
   "metadata": {},
   "outputs": [
    {
     "name": "stdout",
     "output_type": "stream",
     "text": [
      "pod \"mc-deploy-using-nodeport-fbf8f6ddb-5tvf9\" deleted\n",
      "pod \"mc-deploy-using-nodeport-fbf8f6ddb-fg4jr\" deleted\n",
      "pod \"mc-deploy-using-nodeport-fbf8f6ddb-qtj6b\" deleted\n"
     ]
    }
   ],
   "source": [
    "!kubectl delete --all pods"
   ]
  },
  {
   "cell_type": "code",
   "execution_count": 65,
   "id": "79a05b97-7cf6-439f-a361-665990c2e2ac",
   "metadata": {},
   "outputs": [
    {
     "name": "stdout",
     "output_type": "stream",
     "text": [
      "NAME                                           READY   STATUS    RESTARTS   AGE\n",
      "pod/mc-deploy-using-nodeport-fbf8f6ddb-fqxhx   2/2     Running   0          33s\n",
      "pod/mc-deploy-using-nodeport-fbf8f6ddb-nnj48   2/2     Running   0          33s\n",
      "pod/mc-deploy-using-nodeport-fbf8f6ddb-w8qjz   2/2     Running   0          33s\n",
      "\n",
      "NAME                                   TYPE        CLUSTER-IP     EXTERNAL-IP   PORT(S)                         AGE\n",
      "service/kubernetes                     ClusterIP   10.96.0.1      <none>        443/TCP                         3h42m\n",
      "service/mc-deploy-using-nodeport-svc   NodePort    10.107.32.10   <none>        4444:30737/TCP,5555:30705/TCP   35s\n",
      "\n",
      "NAME                                       READY   UP-TO-DATE   AVAILABLE   AGE\n",
      "deployment.apps/mc-deploy-using-nodeport   3/3     3            3           35s\n",
      "\n",
      "NAME                                                 DESIRED   CURRENT   READY   AGE\n",
      "replicaset.apps/mc-deploy-using-nodeport-fbf8f6ddb   3         3         3       35s\n"
     ]
    }
   ],
   "source": [
    "!kubectl get all"
   ]
  },
  {
   "cell_type": "code",
   "execution_count": 66,
   "id": "b49ee72c-e751-4e57-bf2b-1dbaf0870a5d",
   "metadata": {},
   "outputs": [
    {
     "name": "stdout",
     "output_type": "stream",
     "text": [
      "deployment.apps/mc-deploy-using-nodeport scaled\n"
     ]
    }
   ],
   "source": [
    "!kubectl scale deployment mc-deploy-using-nodeport --replicas=5"
   ]
  },
  {
   "cell_type": "code",
   "execution_count": 67,
   "id": "c7859d9e-3de1-4d17-9c4d-52249474bd58",
   "metadata": {},
   "outputs": [
    {
     "name": "stdout",
     "output_type": "stream",
     "text": [
      "NAME                                           READY   STATUS    RESTARTS   AGE\n",
      "pod/mc-deploy-using-nodeport-fbf8f6ddb-7hrz7   2/2     Running   0          22s\n",
      "pod/mc-deploy-using-nodeport-fbf8f6ddb-fqxhx   2/2     Running   0          62s\n",
      "pod/mc-deploy-using-nodeport-fbf8f6ddb-m2nft   2/2     Running   0          22s\n",
      "pod/mc-deploy-using-nodeport-fbf8f6ddb-nnj48   2/2     Running   0          62s\n",
      "pod/mc-deploy-using-nodeport-fbf8f6ddb-w8qjz   2/2     Running   0          62s\n",
      "\n",
      "NAME                                   TYPE        CLUSTER-IP     EXTERNAL-IP   PORT(S)                         AGE\n",
      "service/kubernetes                     ClusterIP   10.96.0.1      <none>        443/TCP                         3h42m\n",
      "service/mc-deploy-using-nodeport-svc   NodePort    10.107.32.10   <none>        4444:30737/TCP,5555:30705/TCP   64s\n",
      "\n",
      "NAME                                       READY   UP-TO-DATE   AVAILABLE   AGE\n",
      "deployment.apps/mc-deploy-using-nodeport   5/5     5            5           64s\n",
      "\n",
      "NAME                                                 DESIRED   CURRENT   READY   AGE\n",
      "replicaset.apps/mc-deploy-using-nodeport-fbf8f6ddb   5         5         5       64s\n"
     ]
    }
   ],
   "source": [
    "!kubectl get all"
   ]
  },
  {
   "cell_type": "code",
   "execution_count": 68,
   "id": "86f98547-916d-48e4-af8c-57080c45b923",
   "metadata": {},
   "outputs": [
    {
     "name": "stdout",
     "output_type": "stream",
     "text": [
      "deployment.apps \"mc-deploy-using-nodeport\" deleted\n",
      "service \"mc-deploy-using-nodeport-svc\" deleted\n",
      "\n",
      "NAME                                           READY   STATUS        RESTARTS   AGE\n",
      "pod/mc-deploy-using-nodeport-fbf8f6ddb-7hrz7   2/2     Terminating   0          28s\n",
      "pod/mc-deploy-using-nodeport-fbf8f6ddb-fqxhx   2/2     Terminating   0          68s\n",
      "pod/mc-deploy-using-nodeport-fbf8f6ddb-m2nft   2/2     Terminating   0          28s\n",
      "pod/mc-deploy-using-nodeport-fbf8f6ddb-nnj48   2/2     Terminating   0          68s\n",
      "pod/mc-deploy-using-nodeport-fbf8f6ddb-w8qjz   2/2     Terminating   0          68s\n",
      "\n",
      "NAME                 TYPE        CLUSTER-IP   EXTERNAL-IP   PORT(S)   AGE\n",
      "service/kubernetes   ClusterIP   10.96.0.1    <none>        443/TCP   3h42m\n"
     ]
    }
   ],
   "source": [
    "!kubectl delete -f \"11_Pod_+_Deployment\"\n",
    "print()\n",
    "!kubectl get all"
   ]
  },
  {
   "cell_type": "markdown",
   "id": "97eae6a2-65cf-4661-b48d-ed9096e12364",
   "metadata": {},
   "source": [
    "# <center> STATE FULSET"
   ]
  },
  {
   "cell_type": "code",
   "execution_count": 69,
   "id": "e1ab1804-a1b4-4493-8812-ebf65a6af640",
   "metadata": {},
   "outputs": [
    {
     "name": "stdout",
     "output_type": "stream",
     "text": [
      "service/mc-statefulset-using-nodeport-svc created\n",
      "statefulset.apps/mc-statefulset-using-nodeport created\n",
      "\n",
      "NAME                                  READY   STATUS              RESTARTS   AGE\n",
      "pod/mc-statefulset-using-nodeport-0   0/2     ContainerCreating   0          0s\n",
      "\n",
      "NAME                                        TYPE        CLUSTER-IP       EXTERNAL-IP   PORT(S)                         AGE\n",
      "service/kubernetes                          ClusterIP   10.96.0.1        <none>        443/TCP                         3h43m\n",
      "service/mc-statefulset-using-nodeport-svc   NodePort    10.101.188.103   <none>        4444:31224/TCP,5555:31221/TCP   0s\n",
      "\n",
      "NAME                                             READY   AGE\n",
      "statefulset.apps/mc-statefulset-using-nodeport   0/3     0s\n"
     ]
    }
   ],
   "source": [
    "!kubectl apply -f \"12_Pod_+_StatefulSet\"\n",
    "print()\n",
    "!kubectl get all"
   ]
  },
  {
   "cell_type": "code",
   "execution_count": 70,
   "id": "da956b68-81f9-4651-b96a-801829082eff",
   "metadata": {},
   "outputs": [
    {
     "name": "stdout",
     "output_type": "stream",
     "text": [
      "pod \"mc-statefulset-using-nodeport-0\" deleted\n",
      "pod \"mc-statefulset-using-nodeport-1\" deleted\n",
      "pod \"mc-statefulset-using-nodeport-2\" deleted\n"
     ]
    }
   ],
   "source": [
    "!kubectl delete --all pods"
   ]
  },
  {
   "cell_type": "code",
   "execution_count": 71,
   "id": "2dd93692-d1a5-443a-b0dc-8bccf0871b3d",
   "metadata": {},
   "outputs": [
    {
     "name": "stdout",
     "output_type": "stream",
     "text": [
      "NAME                                  READY   STATUS    RESTARTS   AGE\n",
      "pod/mc-statefulset-using-nodeport-0   2/2     Running   0          17s\n",
      "pod/mc-statefulset-using-nodeport-1   2/2     Running   0          13s\n",
      "pod/mc-statefulset-using-nodeport-2   2/2     Running   0          11s\n",
      "\n",
      "NAME                                        TYPE        CLUSTER-IP       EXTERNAL-IP   PORT(S)                         AGE\n",
      "service/kubernetes                          ClusterIP   10.96.0.1        <none>        443/TCP                         3h43m\n",
      "service/mc-statefulset-using-nodeport-svc   NodePort    10.101.188.103   <none>        4444:31224/TCP,5555:31221/TCP   29s\n",
      "\n",
      "NAME                                             READY   AGE\n",
      "statefulset.apps/mc-statefulset-using-nodeport   3/3     29s\n"
     ]
    }
   ],
   "source": [
    "!kubectl get all"
   ]
  },
  {
   "cell_type": "code",
   "execution_count": 72,
   "id": "5e34d42f-e6d6-442c-a95d-b500c6c41177",
   "metadata": {},
   "outputs": [
    {
     "name": "stdout",
     "output_type": "stream",
     "text": [
      "service \"mc-statefulset-using-nodeport-svc\" deleted\n",
      "statefulset.apps \"mc-statefulset-using-nodeport\" deleted\n",
      "\n",
      "NAME                                  READY   STATUS        RESTARTS   AGE\n",
      "pod/mc-statefulset-using-nodeport-0   2/2     Terminating   0          22s\n",
      "pod/mc-statefulset-using-nodeport-1   2/2     Terminating   0          18s\n",
      "pod/mc-statefulset-using-nodeport-2   2/2     Terminating   0          16s\n",
      "\n",
      "NAME                 TYPE        CLUSTER-IP   EXTERNAL-IP   PORT(S)   AGE\n",
      "service/kubernetes   ClusterIP   10.96.0.1    <none>        443/TCP   3h43m\n"
     ]
    }
   ],
   "source": [
    "!kubectl delete -f \"12_Pod_+_StatefulSet\"\n",
    "print()\n",
    "!kubectl get all"
   ]
  },
  {
   "cell_type": "markdown",
   "id": "b5e93813-d15c-4f70-acd8-a37d9cfe6f23",
   "metadata": {},
   "source": [
    "# <center> DAEMON SET"
   ]
  },
  {
   "cell_type": "code",
   "execution_count": 74,
   "id": "58eec8be-71f8-4b1f-8b4f-fcac0635b539",
   "metadata": {},
   "outputs": [
    {
     "name": "stdout",
     "output_type": "stream",
     "text": [
      "daemonset.apps/daemonset-mc unchanged\n",
      "\n",
      "NAME                     READY   STATUS    RESTARTS   AGE\n",
      "pod/daemonset-mc-99kzq   2/2     Running   0          5s\n",
      "\n",
      "NAME                 TYPE        CLUSTER-IP   EXTERNAL-IP   PORT(S)   AGE\n",
      "service/kubernetes   ClusterIP   10.96.0.1    <none>        443/TCP   3h45m\n",
      "\n",
      "NAME                          DESIRED   CURRENT   READY   UP-TO-DATE   AVAILABLE   NODE SELECTOR   AGE\n",
      "daemonset.apps/daemonset-mc   1         1         1       1            1           <none>          5s\n"
     ]
    }
   ],
   "source": [
    "!kubectl apply -f \"13_Pod_+_Daemon_Set\"\n",
    "print()\n",
    "!kubectl get all"
   ]
  },
  {
   "cell_type": "code",
   "execution_count": 75,
   "id": "d4160b56-4991-4f46-a2fc-5079aaa60bfe",
   "metadata": {},
   "outputs": [
    {
     "name": "stdout",
     "output_type": "stream",
     "text": [
      "daemonset.apps \"daemonset-mc\" deleted\n",
      "\n",
      "NAME                     READY   STATUS        RESTARTS   AGE\n",
      "pod/daemonset-mc-99kzq   2/2     Terminating   0          22s\n",
      "\n",
      "NAME                 TYPE        CLUSTER-IP   EXTERNAL-IP   PORT(S)   AGE\n",
      "service/kubernetes   ClusterIP   10.96.0.1    <none>        443/TCP   3h45m\n"
     ]
    }
   ],
   "source": [
    "!kubectl delete -f \"13_Pod_+_Daemon_Set\"\n",
    "print()\n",
    "!kubectl get all"
   ]
  },
  {
   "cell_type": "markdown",
   "id": "c913d2f9-4ab5-4baf-b4c6-97f8af455bdb",
   "metadata": {},
   "source": [
    "# <center> JOB"
   ]
  },
  {
   "cell_type": "code",
   "execution_count": 83,
   "id": "7b3d0511-8002-4add-b9b8-52777089f794",
   "metadata": {},
   "outputs": [
    {
     "name": "stdout",
     "output_type": "stream",
     "text": [
      "cronjob.batch/pod-job-secuencial unchanged\n",
      "job.batch/job-pi unchanged\n",
      "\n",
      "NAME                                    READY   STATUS      RESTARTS   AGE\n",
      "pod/job-pi-c5xx9                        0/1     Completed   0          3m7s\n",
      "pod/pod-job-secuencial-27636532-dskz7   0/1     Completed   0          2m20s\n",
      "pod/pod-job-secuencial-27636533-pvr9g   0/1     Completed   0          80s\n",
      "pod/pod-job-secuencial-27636534-wgswr   0/1     Completed   0          20s\n",
      "\n",
      "NAME                 TYPE        CLUSTER-IP   EXTERNAL-IP   PORT(S)   AGE\n",
      "service/kubernetes   ClusterIP   10.96.0.1    <none>        443/TCP   3h49m\n",
      "\n",
      "NAME                               SCHEDULE      SUSPEND   ACTIVE   LAST SCHEDULE   AGE\n",
      "cronjob.batch/pod-job-secuencial   */1 * * * *   False     0        20s             3m7s\n",
      "\n",
      "NAME                                    COMPLETIONS   DURATION   AGE\n",
      "job.batch/job-pi                        1/1           55s        3m7s\n",
      "job.batch/pod-job-secuencial-27636532   1/1           6s         2m20s\n",
      "job.batch/pod-job-secuencial-27636533   1/1           5s         80s\n",
      "job.batch/pod-job-secuencial-27636534   1/1           4s         20s\n"
     ]
    }
   ],
   "source": [
    "!kubectl apply -f \"14_Pod_+_Job_+_Cron-Job\"\n",
    "print()\n",
    "!kubectl get all"
   ]
  },
  {
   "cell_type": "code",
   "execution_count": 77,
   "id": "1e700f60-e0ce-4c94-804f-fc3f6b13c552",
   "metadata": {},
   "outputs": [
    {
     "name": "stdout",
     "output_type": "stream",
     "text": [
      "NAME           READY   STATUS              RESTARTS   AGE\n",
      "job-pi-c5xx9   0/1     ContainerCreating   0          41s\n"
     ]
    }
   ],
   "source": [
    "!kubectl get pods"
   ]
  },
  {
   "cell_type": "code",
   "execution_count": 84,
   "id": "d2f3f9d4-2ac5-4856-b59e-4ba72a1b03eb",
   "metadata": {},
   "outputs": [
    {
     "name": "stdout",
     "output_type": "stream",
     "text": [
      "3.1415926535897932384626433832795028841971693993751058209749445923078164062862089986280348253421170679821480865132823066470938446095505822317253594081284811174502841027019385211055596446229489549303820\n"
     ]
    }
   ],
   "source": [
    "!kubectl logs job-pi-c5xx9 "
   ]
  },
  {
   "cell_type": "markdown",
   "id": "ec7f1f6a-f0cb-4581-b34d-68f34df46a9f",
   "metadata": {},
   "source": [
    "# <center> CRON JOB"
   ]
  },
  {
   "cell_type": "code",
   "execution_count": 81,
   "id": "1f9e25a7-969a-442a-ad57-42d1e936eeda",
   "metadata": {},
   "outputs": [
    {
     "name": "stdout",
     "output_type": "stream",
     "text": [
      "Tue Jul 19 00:52:02 UTC 2022\n",
      "Job Ejecutado en el contenedor de Python\n"
     ]
    }
   ],
   "source": [
    "!kubectl logs pod-job-secuencial-27636532-dskz7 "
   ]
  },
  {
   "cell_type": "code",
   "execution_count": 85,
   "id": "490eb4b1-af00-4122-8487-fdb4d358f3ea",
   "metadata": {},
   "outputs": [
    {
     "name": "stdout",
     "output_type": "stream",
     "text": [
      "cronjob.batch \"pod-job-secuencial\" deleted\n",
      "job.batch \"job-pi\" deleted\n",
      "\n",
      "NAME                 TYPE        CLUSTER-IP   EXTERNAL-IP   PORT(S)   AGE\n",
      "service/kubernetes   ClusterIP   10.96.0.1    <none>        443/TCP   3h49m\n"
     ]
    }
   ],
   "source": [
    "!kubectl delete -f \"14_Pod_+_Job_+_Cron-Job\"\n",
    "print()\n",
    "!kubectl get all"
   ]
  },
  {
   "cell_type": "code",
   "execution_count": null,
   "id": "123ea068-d7a5-4ce0-ac29-a08aa4ca0ac0",
   "metadata": {},
   "outputs": [],
   "source": []
  }
 ],
 "metadata": {
  "kernelspec": {
   "display_name": "Python 3 (ipykernel)",
   "language": "python",
   "name": "python3"
  },
  "language_info": {
   "codemirror_mode": {
    "name": "ipython",
    "version": 3
   },
   "file_extension": ".py",
   "mimetype": "text/x-python",
   "name": "python",
   "nbconvert_exporter": "python",
   "pygments_lexer": "ipython3",
   "version": "3.10.2"
  }
 },
 "nbformat": 4,
 "nbformat_minor": 5
}
