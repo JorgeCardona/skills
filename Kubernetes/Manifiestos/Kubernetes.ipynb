{
 "cells": [
  {
   "cell_type": "code",
   "execution_count": null,
   "id": "2b210635-57ad-4c41-b1c3-cd55c48483ee",
   "metadata": {},
   "outputs": [],
   "source": [
    "!docker version"
   ]
  },
  {
   "cell_type": "markdown",
   "id": "c4fd6c3d-69b8-4583-b4f5-52cf61ba76f6",
   "metadata": {},
   "source": [
    "# <center> VERIFICAR LAS IMAGENES QUE HAY DE DOCKER"
   ]
  },
  {
   "cell_type": "code",
   "execution_count": null,
   "id": "491549b4-20e2-4f53-9db2-4a21ac26df95",
   "metadata": {},
   "outputs": [],
   "source": [
    "!docker images"
   ]
  },
  {
   "cell_type": "markdown",
   "id": "94254999-683e-45f1-89a7-1efa2500687f",
   "metadata": {},
   "source": [
    "# <center> HABILITAR KUBERNETES"
   ]
  },
  {
   "cell_type": "code",
   "execution_count": null,
   "id": "69a91559-4981-481f-bdd5-ce7f72160a04",
   "metadata": {},
   "outputs": [],
   "source": [
    "!docker images"
   ]
  },
  {
   "cell_type": "markdown",
   "id": "e596fd63-6f47-4244-8e78-6ca1ddf94089",
   "metadata": {},
   "source": [
    "# <center> VALIDAR KUBERNETES VERSION"
   ]
  },
  {
   "cell_type": "code",
   "execution_count": null,
   "id": "39f321ae-d465-41c1-a2ae-187123dfb9d6",
   "metadata": {},
   "outputs": [],
   "source": [
    "!kubectl version --output=yaml"
   ]
  },
  {
   "cell_type": "markdown",
   "id": "5896381b-114d-4f11-9da6-a2644d4fcc10",
   "metadata": {},
   "source": [
    "# <center> VALIDAR LOS RECUSORS DE KUBERNETES DISPONIBLES"
   ]
  },
  {
   "cell_type": "code",
   "execution_count": null,
   "id": "3c137d7c-b5b1-4fdc-b472-2ed917ed06ab",
   "metadata": {},
   "outputs": [],
   "source": [
    "!kubectl get all"
   ]
  },
  {
   "cell_type": "markdown",
   "id": "1b939c59-4100-4ebb-9759-6771d16a3c22",
   "metadata": {},
   "source": [
    "# <center> DASHBOARD DE KUBERNETES"
   ]
  },
  {
   "cell_type": "markdown",
   "id": "dbb96cfb-4929-4c91-a5d5-bbf53355b465",
   "metadata": {},
   "source": [
    "### DESPLEGAR EL DASHBOARD DE KUBERNETES"
   ]
  },
  {
   "cell_type": "code",
   "execution_count": null,
   "id": "e9bb3b95-8e71-4b96-87cf-2a0a7e29800f",
   "metadata": {},
   "outputs": [],
   "source": [
    "! kubectl apply -f https://raw.githubusercontent.com/JorgeCardona/skills/master/Kubernetes/dashboard/dashboard-recommended.yaml"
   ]
  },
  {
   "cell_type": "markdown",
   "id": "5bfe37d9-9307-437f-8017-6993b819f0f9",
   "metadata": {},
   "source": [
    "### CREAR LOS USUARIOS PARA EL DASHBOARD"
   ]
  },
  {
   "cell_type": "code",
   "execution_count": null,
   "id": "2df1629c-95cc-4fef-8628-2fb48a2783c4",
   "metadata": {},
   "outputs": [],
   "source": [
    "! kubectl apply -f https://raw.githubusercontent.com/JorgeCardona/skills/master/Kubernetes/dashboard/dashboard-adminuser.yaml"
   ]
  },
  {
   "cell_type": "markdown",
   "id": "a34cc3fe-3675-48f3-9b26-8bb274e5b5cf",
   "metadata": {},
   "source": [
    "### HABILITAR EL ACCESO AL DASHBOARD"
   ]
  },
  {
   "cell_type": "code",
   "execution_count": null,
   "id": "833a66cc-26aa-4050-824c-17d9a0d46e85",
   "metadata": {},
   "outputs": [],
   "source": [
    "# kubectl proxy --port=1978"
   ]
  },
  {
   "cell_type": "markdown",
   "id": "81afa9cb-1dc2-46f8-9dcc-2280296b5b4e",
   "metadata": {},
   "source": [
    "### GENERAR EL TOKEN PARA ACCEDER AL DASHBOARD"
   ]
  },
  {
   "cell_type": "code",
   "execution_count": null,
   "id": "87ad2ed6-b1a6-4a82-90c4-55acdb747064",
   "metadata": {},
   "outputs": [],
   "source": [
    "! kubectl -n kubernetes-dashboard create token admin-user"
   ]
  },
  {
   "cell_type": "markdown",
   "id": "ac561924-c506-4f87-8ca3-a883840080ff",
   "metadata": {},
   "source": [
    "### ACCEDER AL DASHBOARD"
   ]
  },
  {
   "cell_type": "code",
   "execution_count": null,
   "id": "f130e894-5f14-4485-9ec6-3bd33c5b119e",
   "metadata": {},
   "outputs": [],
   "source": [
    "# http://localhost:1978/api/v1/namespaces/kubernetes-dashboard/services/https:kubernetes-dashboard:/proxy\n",
    "# http://localhost:1978/api/v1/namespaces/kubernetes-dashboard/services/http:kubernetes-dashboard:/proxy"
   ]
  },
  {
   "cell_type": "markdown",
   "id": "a48da26b-b5ed-49ef-afd5-4a628d9e85be",
   "metadata": {},
   "source": [
    "# <center> CREAR POD Y ACCEDER A EL"
   ]
  },
  {
   "cell_type": "code",
   "execution_count": null,
   "id": "760c73fb-0526-4325-afa2-50096621ecff",
   "metadata": {},
   "outputs": [],
   "source": [
    "!kubectl apply -f \"00_Pod/pod.yaml\"\n",
    "!kubectl get pods"
   ]
  },
  {
   "cell_type": "code",
   "execution_count": null,
   "id": "ff7a7002-e1eb-4315-a1dd-3e67ae9432de",
   "metadata": {},
   "outputs": [],
   "source": [
    "# kubectl port-forward pod-sencillo 5555:5000\n",
    "# http://localhost:5555/python\n",
    "!kubectl delete --all pods"
   ]
  },
  {
   "cell_type": "markdown",
   "id": "d1ff5d1d-cbaf-4ac6-9687-be809b956a5d",
   "metadata": {},
   "source": [
    "# <center> CREAR UN NAMESPACE Y UN POD EN EL"
   ]
  },
  {
   "cell_type": "code",
   "execution_count": null,
   "id": "dafa9345-263c-4e53-9a2f-e060daf5f7ac",
   "metadata": {},
   "outputs": [],
   "source": [
    "!kubectl apply -f \"01_Pod_+_NameSpace\"\n",
    "print()\n",
    "!kubectl get pods"
   ]
  },
  {
   "cell_type": "code",
   "execution_count": null,
   "id": "4381df00-533f-46d9-8e59-1dd28d229985",
   "metadata": {},
   "outputs": [],
   "source": [
    "!kubectl get ns\n",
    "print()\n",
    "!kubectl get pod --all-namespaces\n",
    "# kubectl port-forward pod-sencillo-namespace 5555:5000 --namespace=testing-pod-namespace"
   ]
  },
  {
   "cell_type": "code",
   "execution_count": null,
   "id": "2e81058e-0a7a-4411-aae5-fee3a65e119b",
   "metadata": {},
   "outputs": [],
   "source": [
    "!kubectl delete -f \"01_Pod_+_NameSpace\"\n",
    "print()\n",
    "!kubectl get ns\n",
    "print()\n",
    "!kubectl get pod --all-namespaces"
   ]
  },
  {
   "cell_type": "markdown",
   "id": "45c5727f-8bb4-4840-a2c8-b565becc13ee",
   "metadata": {},
   "source": [
    "# <center> CREAR POD MULTICONTAINER Y SERVICIO NODEPORT"
   ]
  },
  {
   "cell_type": "code",
   "execution_count": null,
   "id": "92f56dea-95db-4278-ac92-dc8cdbdb8b7b",
   "metadata": {},
   "outputs": [],
   "source": [
    "!kubectl apply -f \"02_Pod_+_Multicontenedor_-_Servicio_-_NodePort\"\n",
    "print()\n",
    "!kubectl get pods"
   ]
  },
  {
   "cell_type": "code",
   "execution_count": null,
   "id": "2a51e2f0-200d-44b2-84c8-1216230ed2af",
   "metadata": {},
   "outputs": [],
   "source": [
    "!kubectl get svc"
   ]
  },
  {
   "cell_type": "code",
   "execution_count": null,
   "id": "4e4d9d43-5c34-4c33-9bbd-6b3dec2e2338",
   "metadata": {},
   "outputs": [],
   "source": [
    "!kubectl delete -f \"02_Pod_+_Multicontenedor_-_Servicio_-_NodePort\"\n",
    "print()\n",
    "!kubectl get all"
   ]
  },
  {
   "cell_type": "markdown",
   "id": "67f3b204-c811-4ad7-841c-49dfc7b51a7e",
   "metadata": {},
   "source": [
    "# <center> CREAR POD MULTICONTAINER Y SERVICIO LOADBALANCER"
   ]
  },
  {
   "cell_type": "code",
   "execution_count": null,
   "id": "42064658-149a-4038-96a5-bc994afbc6d9",
   "metadata": {},
   "outputs": [],
   "source": [
    "!kubectl apply -f \"03_Pod_+_Multicontenedor_-_Servicio_-_LoadBalancer\"\n",
    "print()\n",
    "!kubectl get all"
   ]
  },
  {
   "cell_type": "code",
   "execution_count": null,
   "id": "42cd00d4-885d-403b-ac9e-44e7355ad7e7",
   "metadata": {},
   "outputs": [],
   "source": [
    "!kubectl delete -f \"03_Pod_+_Multicontenedor_-_Servicio_-_LoadBalancer\"\n",
    "print()\n",
    "!kubectl get all"
   ]
  },
  {
   "cell_type": "markdown",
   "id": "546a4a95-e0f0-439b-aedf-0e21b446414f",
   "metadata": {},
   "source": [
    "# <center> CREAR POD MULTICONTAINER Y MULTI SERVICIO"
   ]
  },
  {
   "cell_type": "code",
   "execution_count": null,
   "id": "2254ed37-e732-4d90-9278-bf4aa605fffc",
   "metadata": {},
   "outputs": [],
   "source": [
    "!kubectl apply -f \"04_Pod_+_Multicontenedor_-_Multi_Servicio\"\n",
    "print()\n",
    "!kubectl get all"
   ]
  },
  {
   "cell_type": "code",
   "execution_count": null,
   "id": "330c729b-5f6f-4869-9084-3f07899b2602",
   "metadata": {},
   "outputs": [],
   "source": [
    "!kubectl delete -f \"04_Pod_+_Multicontenedor_-_Multi_Servicio\"\n",
    "print()\n",
    "!kubectl get all"
   ]
  },
  {
   "cell_type": "markdown",
   "id": "fa5ee9aa-ecd6-4d2d-a186-4da80c5d2a94",
   "metadata": {},
   "source": [
    "# <center> CREAR POD MULTICONTAINER Y COMUNICACION ENTRE PODS USANDO SERVICIOS"
   ]
  },
  {
   "cell_type": "code",
   "execution_count": null,
   "id": "40b0da2a-fb9b-463f-bf5f-bd6c406a316a",
   "metadata": {},
   "outputs": [],
   "source": [
    "!kubectl apply -f \"05_Pod_+_Multicontenedor_-_Descubrimiento_y_Comunicacion_entre_Pods_con_Servicios\"\n",
    "print()\n",
    "!kubectl get all"
   ]
  },
  {
   "cell_type": "code",
   "execution_count": null,
   "id": "38cc5fe7-6ce0-4a0c-a643-000aa02d2ecf",
   "metadata": {},
   "outputs": [],
   "source": [
    "# http://localhost:4444/java/swagger-ui/index.html\n",
    "# en el servicio /web poner la url -> http://mc-pod-v1-svc-clusterip:3333/java/all o  http://mc-pod-v1-svc-clusterip:7777/python/all\n",
    "\n",
    "# http://localhost:5555/python/docs\n",
    "# en el servicio /web poner la url -> http://mc-pod-v1-svc-clusterip:3333/java/all o  http://mc-pod-v1-svc-clusterip:7777/python/all"
   ]
  },
  {
   "cell_type": "code",
   "execution_count": null,
   "id": "7e724652-864c-4412-a3b4-98bd94cf604b",
   "metadata": {},
   "outputs": [],
   "source": [
    "!kubectl delete -f \"05_Pod_+_Multicontenedor_-_Descubrimiento_y_Comunicacion_entre_Pods_con_Servicios\"\n",
    "print()\n",
    "!kubectl get all"
   ]
  },
  {
   "cell_type": "markdown",
   "id": "9aee868a-f7dd-44e9-8532-dbd8a4a9b765",
   "metadata": {},
   "source": [
    "# <center> CREAR POD MULTICONTAINER INGRESS, HOSTLOCAL Y HOST PERSONALIZADO"
   ]
  },
  {
   "cell_type": "code",
   "execution_count": null,
   "id": "1647faef-efbc-4c28-87ff-b99f511e4bea",
   "metadata": {},
   "outputs": [],
   "source": [
    "# instalar el controlador de NGINX\n",
    "# https://kubernetes.github.io/ingress-nginx/deploy/#quick-start\n",
    "!kubectl apply -f https://raw.githubusercontent.com/JorgeCardona/skills/master/Kubernetes/Controllers/kubernetes-ingress-nginx-v1.3.0.yaml"
   ]
  },
  {
   "cell_type": "markdown",
   "id": "ec056f75-f0dd-4bec-a32d-3d16edcc0b4d",
   "metadata": {},
   "source": [
    "# <center> LOCALHOST"
   ]
  },
  {
   "cell_type": "code",
   "execution_count": null,
   "id": "d579631e-7aa1-45f2-ac0f-7fd80dd83c61",
   "metadata": {},
   "outputs": [],
   "source": [
    "!kubectl apply -f \"06_Pod_+_Ingress_+_HostLocal_+_Host_Personalizado\\01_Localhost\"\n",
    "print()\n",
    "!kubectl get all"
   ]
  },
  {
   "cell_type": "code",
   "execution_count": null,
   "id": "1744b2af-b6bc-48f0-b830-e7438b1de385",
   "metadata": {},
   "outputs": [],
   "source": [
    "# http://localhost/python\n",
    "# http://localhost/java\n",
    "!kubectl get ingress"
   ]
  },
  {
   "cell_type": "code",
   "execution_count": null,
   "id": "73d10da9-488e-49a4-bde9-79ef7a01e287",
   "metadata": {},
   "outputs": [],
   "source": [
    "!kubectl delete -f \"06_Pod_+_Ingress_+_HostLocal_+_Host_Personalizado\\01_Localhost\"\n",
    "print()\n",
    "!kubectl get all"
   ]
  },
  {
   "cell_type": "markdown",
   "id": "8c47eb17-d037-475c-96c3-926365a8d3bc",
   "metadata": {},
   "source": [
    "# <center> HOST PERSONALIZADO"
   ]
  },
  {
   "cell_type": "code",
   "execution_count": null,
   "id": "6697d3de-e546-4930-bcc2-9070d717fb6c",
   "metadata": {},
   "outputs": [],
   "source": [
    "!kubectl apply -f \"06_Pod_+_Ingress_+_HostLocal_+_Host_Personalizado\\02_Host_Personalizado\"\n",
    "print()\n",
    "!kubectl get all"
   ]
  },
  {
   "cell_type": "code",
   "execution_count": null,
   "id": "4d9adea1-1f9c-4ca9-8467-b34d6c4b923f",
   "metadata": {},
   "outputs": [],
   "source": [
    "# http://jorge-cardona.kubernetes/python\n",
    "# http://jorge-cardona.kubernetes/java\n",
    "# http://jorge-cardona.ingress/python\n",
    "# http://jorge-cardona.ingress/java\n",
    "# C:\\Windows\\System32\\drivers\\etc\\\n",
    "!kubectl get ingress"
   ]
  },
  {
   "cell_type": "code",
   "execution_count": null,
   "id": "878bcd60-790f-46bf-8d71-1aab58a9ac10",
   "metadata": {},
   "outputs": [],
   "source": [
    "!kubectl delete -f \"06_Pod_+_Ingress_+_HostLocal_+_Host_Personalizado\\02_Host_Personalizado\"\n",
    "!kubectl delete -f https://raw.githubusercontent.com/JorgeCardona/skills/master/Kubernetes/Controllers/kubernetes-ingress-nginx-v1.3.0.yaml\n",
    "print()\n",
    "!kubectl get all"
   ]
  },
  {
   "cell_type": "markdown",
   "id": "1e5177f1-271d-4bdb-abd7-851dadf4c912",
   "metadata": {},
   "source": [
    "# <center> CREAR POD MULTICONTAINER KUBERNETES GATEWAY API"
   ]
  },
  {
   "cell_type": "code",
   "execution_count": null,
   "id": "933b17c0-417a-49b4-84a8-291abd07953a",
   "metadata": {},
   "outputs": [],
   "source": [
    "# instalar el controlador del Gateway\n",
    "# https://gateway-api.sigs.k8s.io/guides/getting-started"
   ]
  },
  {
   "cell_type": "markdown",
   "id": "85526a60-8075-454b-940a-c919ff16827b",
   "metadata": {},
   "source": [
    "# <center> CONFIGMAP - SECRETOS - VARIABLES DE AMBIENTE"
   ]
  },
  {
   "cell_type": "code",
   "execution_count": null,
   "id": "8c29d4d9-fba4-42b8-b32b-5d0665bfa717",
   "metadata": {},
   "outputs": [],
   "source": [
    "# http://localhost:3333/java/docs\n",
    "# http://localhost:5000/python/docs\n",
    "!kubectl apply -f \"08_Pod_+_ConfigMap_+_Secretos_+_Servicios_+_Variables_de_Ambiente\"\n",
    "print()\n",
    "!kubectl get all"
   ]
  },
  {
   "cell_type": "code",
   "execution_count": null,
   "id": "13e760ca-8e0c-45c6-9cbe-c23b6a346114",
   "metadata": {},
   "outputs": [],
   "source": [
    "!kubectl delete -f \"08_Pod_+_ConfigMap_+_Secretos_+_Servicios_+_Variables_de_Ambiente\"\n",
    "print()\n",
    "!kubectl get all"
   ]
  },
  {
   "cell_type": "markdown",
   "id": "61b64ee3-8a9f-422e-9376-f1f80b272ae2",
   "metadata": {},
   "source": [
    "# <center> VOLUMEN COMPARTIDO EN EL MISMO POD"
   ]
  },
  {
   "cell_type": "code",
   "execution_count": null,
   "id": "97e22d79-19a3-4303-b861-a482c0cd3c7d",
   "metadata": {},
   "outputs": [],
   "source": [
    "# http://localhost:3333/java/docs -> usar el servicio saveInfointoFile y guadar\n",
    "# http://localhost:7777/python/docs -> usar el servicio saveInfointoFile y guadar, valida que los mensajes de java ya tiene acceso python\n",
    "!kubectl apply -f \"09_Pod_+_Volumen_Compartido_en_el_mismo_POD\"\n",
    "print()\n",
    "!kubectl get all"
   ]
  },
  {
   "cell_type": "code",
   "execution_count": null,
   "id": "dc9e558b-9278-4f56-a926-173202afcfce",
   "metadata": {},
   "outputs": [],
   "source": [
    "!kubectl delete -f \"09_Pod_+_Volumen_Compartido_en_el_mismo_POD\"\n",
    "print()\n",
    "!kubectl get all"
   ]
  },
  {
   "cell_type": "markdown",
   "id": "6868de46-171d-40f5-94c2-0b01128f6585",
   "metadata": {},
   "source": [
    "# <center> VOLUMEN PERSISTENTE"
   ]
  },
  {
   "cell_type": "code",
   "execution_count": null,
   "id": "d42b8f0e-e302-4220-924e-d7fcad00111d",
   "metadata": {},
   "outputs": [],
   "source": [
    "# http://localhost:3333/java/docs -> usar el servicio saveInfointoFile y guadar\n",
    "# http://localhost:7777/python/docs -> usar el servicio saveInfointoFile y guadar, valida que los mensajes de java ya tiene acceso python\n",
    "!kubectl apply -f \"10_Pod_+_Volumen_Persistente\"\n",
    "print()\n",
    "!kubectl get all"
   ]
  },
  {
   "cell_type": "code",
   "execution_count": null,
   "id": "5bdfd01c-1bb4-4abd-bea8-cc51479b439a",
   "metadata": {},
   "outputs": [],
   "source": [
    "!kubectl get pods"
   ]
  },
  {
   "cell_type": "code",
   "execution_count": null,
   "id": "84d8f034-4f3e-4443-bb18-4810eda77360",
   "metadata": {},
   "outputs": [],
   "source": [
    "!kubectl get pv"
   ]
  },
  {
   "cell_type": "code",
   "execution_count": null,
   "id": "b0ef0e22-a012-466f-a3bb-34597a22234f",
   "metadata": {},
   "outputs": [],
   "source": [
    "!kubectl delete -f \"10_Pod_+_Volumen_Persistente\"\n",
    "print()\n",
    "!kubectl get all"
   ]
  },
  {
   "cell_type": "markdown",
   "id": "63c8ccc8-3ecd-4519-a0da-360587990f92",
   "metadata": {},
   "source": [
    "# <center> LIMIT CPU-RAM-DISCO"
   ]
  },
  {
   "cell_type": "code",
   "execution_count": null,
   "id": "971baf90-b22b-45c1-b231-ec0efef60b28",
   "metadata": {},
   "outputs": [],
   "source": [
    "# http://localhost:3333/java/docs -> usar el servicio saveInfointoFile y guadar\n",
    "# http://localhost:7777/python/docs -> usar el servicio saveInfointoFile y guadar, valida que los mensajes de java ya tiene acceso python\n",
    "!kubectl apply -f \"11_Pod_+_Limit_CPU_+_Ram_+_Disco_duro\"\n",
    "print()\n",
    "!kubectl get all"
   ]
  },
  {
   "cell_type": "code",
   "execution_count": null,
   "id": "a00543a2-073d-440b-9d26-fd6f034c0574",
   "metadata": {},
   "outputs": [],
   "source": [
    "!kubectl describe nodes"
   ]
  },
  {
   "cell_type": "code",
   "execution_count": null,
   "id": "a02273b7-b585-404e-9970-27e057594cad",
   "metadata": {},
   "outputs": [],
   "source": [
    "!kubectl delete pod mc-limits-v1\n",
    "!kubectl get all"
   ]
  },
  {
   "cell_type": "code",
   "execution_count": null,
   "id": "5da66162-9dee-45e4-815e-833c59b2ca3c",
   "metadata": {},
   "outputs": [],
   "source": [
    "!kubectl delete -f \"11_Pod_+_Limit_CPU_+_Ram_+_Disco_duro\"\n",
    "print()\n",
    "!kubectl get all"
   ]
  },
  {
   "cell_type": "markdown",
   "id": "b6e8d43a-638e-49c9-8f38-6d1f0e55dfe5",
   "metadata": {},
   "source": [
    "# <center> DEPLOYMENT"
   ]
  },
  {
   "cell_type": "code",
   "execution_count": null,
   "id": "39cca2aa-c562-474e-b123-73d92b2fda67",
   "metadata": {},
   "outputs": [],
   "source": [
    "!kubectl apply -f \"12_Pod_+_Deployment\"\n",
    "print()\n",
    "!kubectl get all"
   ]
  },
  {
   "cell_type": "code",
   "execution_count": null,
   "id": "1c57701a-055f-489d-b72e-97d248ac58a0",
   "metadata": {},
   "outputs": [],
   "source": [
    "!kubectl delete --all pods"
   ]
  },
  {
   "cell_type": "code",
   "execution_count": null,
   "id": "79a05b97-7cf6-439f-a361-665990c2e2ac",
   "metadata": {},
   "outputs": [],
   "source": [
    "!kubectl get all"
   ]
  },
  {
   "cell_type": "code",
   "execution_count": null,
   "id": "b49ee72c-e751-4e57-bf2b-1dbaf0870a5d",
   "metadata": {},
   "outputs": [],
   "source": [
    "!kubectl scale deployment mc-deploy-using-nodeport --replicas=5"
   ]
  },
  {
   "cell_type": "code",
   "execution_count": null,
   "id": "c7859d9e-3de1-4d17-9c4d-52249474bd58",
   "metadata": {},
   "outputs": [],
   "source": [
    "!kubectl get all"
   ]
  },
  {
   "cell_type": "code",
   "execution_count": null,
   "id": "86f98547-916d-48e4-af8c-57080c45b923",
   "metadata": {},
   "outputs": [],
   "source": [
    "!kubectl delete -f \"12_Pod_+_Deployment\"\n",
    "print()\n",
    "!kubectl get all"
   ]
  },
  {
   "cell_type": "markdown",
   "id": "97eae6a2-65cf-4661-b48d-ed9096e12364",
   "metadata": {},
   "source": [
    "# <center> STATE FULSET"
   ]
  },
  {
   "cell_type": "code",
   "execution_count": null,
   "id": "e1ab1804-a1b4-4493-8812-ebf65a6af640",
   "metadata": {},
   "outputs": [],
   "source": [
    "!kubectl apply -f \"13_Pod_+_StatefulSet\"\n",
    "print()\n",
    "!kubectl get all"
   ]
  },
  {
   "cell_type": "code",
   "execution_count": null,
   "id": "da956b68-81f9-4651-b96a-801829082eff",
   "metadata": {},
   "outputs": [],
   "source": [
    "!kubectl delete --all pods"
   ]
  },
  {
   "cell_type": "code",
   "execution_count": null,
   "id": "2dd93692-d1a5-443a-b0dc-8bccf0871b3d",
   "metadata": {},
   "outputs": [],
   "source": [
    "!kubectl get all"
   ]
  },
  {
   "cell_type": "code",
   "execution_count": null,
   "id": "5e34d42f-e6d6-442c-a95d-b500c6c41177",
   "metadata": {},
   "outputs": [],
   "source": [
    "!kubectl delete -f \"13_Pod_+_StatefulSet\"\n",
    "print()\n",
    "!kubectl get all"
   ]
  },
  {
   "cell_type": "markdown",
   "id": "b5e93813-d15c-4f70-acd8-a37d9cfe6f23",
   "metadata": {},
   "source": [
    "# <center> DAEMON SET"
   ]
  },
  {
   "cell_type": "code",
   "execution_count": null,
   "id": "58eec8be-71f8-4b1f-8b4f-fcac0635b539",
   "metadata": {},
   "outputs": [],
   "source": [
    "!kubectl apply -f \"14_Pod_+_Daemon_Set\"\n",
    "print()\n",
    "!kubectl get all"
   ]
  },
  {
   "cell_type": "code",
   "execution_count": null,
   "id": "d4160b56-4991-4f46-a2fc-5079aaa60bfe",
   "metadata": {},
   "outputs": [],
   "source": [
    "!kubectl delete -f \"14_Pod_+_Daemon_Set\"\n",
    "print()\n",
    "!kubectl get all"
   ]
  },
  {
   "cell_type": "markdown",
   "id": "c913d2f9-4ab5-4baf-b4c6-97f8af455bdb",
   "metadata": {},
   "source": [
    "# <center> JOB"
   ]
  },
  {
   "cell_type": "code",
   "execution_count": null,
   "id": "7b3d0511-8002-4add-b9b8-52777089f794",
   "metadata": {},
   "outputs": [],
   "source": [
    "!kubectl apply -f \"15_Pod_+_Job_+_Cron-Job\"\n",
    "print()\n",
    "!kubectl get all"
   ]
  },
  {
   "cell_type": "code",
   "execution_count": null,
   "id": "1e700f60-e0ce-4c94-804f-fc3f6b13c552",
   "metadata": {},
   "outputs": [],
   "source": [
    "!kubectl get pods"
   ]
  },
  {
   "cell_type": "code",
   "execution_count": null,
   "id": "d2f3f9d4-2ac5-4856-b59e-4ba72a1b03eb",
   "metadata": {},
   "outputs": [],
   "source": [
    "!kubectl logs job-pi-c5xx9 "
   ]
  },
  {
   "cell_type": "markdown",
   "id": "ec7f1f6a-f0cb-4581-b34d-68f34df46a9f",
   "metadata": {},
   "source": [
    "# <center> CRON JOB"
   ]
  },
  {
   "cell_type": "code",
   "execution_count": null,
   "id": "1f9e25a7-969a-442a-ad57-42d1e936eeda",
   "metadata": {},
   "outputs": [],
   "source": [
    "!kubectl logs pod-job-secuencial-27636532-dskz7 "
   ]
  },
  {
   "cell_type": "code",
   "execution_count": null,
   "id": "490eb4b1-af00-4122-8487-fdb4d358f3ea",
   "metadata": {},
   "outputs": [],
   "source": [
    "!kubectl delete -f \"15_Pod_+_Job_+_Cron-Job\"\n",
    "print()\n",
    "!kubectl get all"
   ]
  },
  {
   "cell_type": "markdown",
   "id": "a06d447b-3057-4f54-8e74-27b05f56936e",
   "metadata": {},
   "source": [
    "# <center> DESINSTALAR EL DASHBOARD DE KUBERNETES"
   ]
  },
  {
   "cell_type": "code",
   "execution_count": null,
   "id": "879ae8e4-372f-4df3-a272-b5eeb7da5829",
   "metadata": {},
   "outputs": [],
   "source": [
    "! kubectl delete -f https://raw.githubusercontent.com/JorgeCardona/skills/master/Kubernetes/dashboard/dashboard-adminuser.yaml\n",
    "! kubectl delete -f https://raw.githubusercontent.com/JorgeCardona/skills/master/Kubernetes/dashboard/dashboard-recommended.yaml"
   ]
  }
 ],
 "metadata": {
  "kernelspec": {
   "display_name": "Python 3 (ipykernel)",
   "language": "python",
   "name": "python3"
  },
  "language_info": {
   "codemirror_mode": {
    "name": "ipython",
    "version": 3
   },
   "file_extension": ".py",
   "mimetype": "text/x-python",
   "name": "python",
   "nbconvert_exporter": "python",
   "pygments_lexer": "ipython3",
   "version": "3.10.2"
  }
 },
 "nbformat": 4,
 "nbformat_minor": 5
}
